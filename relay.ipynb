{
 "metadata": {
  "name": "",
  "signature": "sha256:6245ee37ed31ffeb2a035800416e6031ef735464146f617fffed703f754b2d36"
 },
 "nbformat": 3,
 "nbformat_minor": 0,
 "worksheets": [
  {
   "cells": [
    {
     "cell_type": "code",
     "collapsed": false,
     "input": [
      "from __future__ import print_function, division\n",
      "\n",
      "import pandas as pd\n",
      "import thinkstats2\n",
      "import thinkplot\n",
      "\n",
      "import relay\n",
      "\n",
      "%matplotlib inline\n",
      "formats = ['png']"
     ],
     "language": "python",
     "metadata": {},
     "outputs": [],
     "prompt_number": 30
    },
    {
     "cell_type": "code",
     "collapsed": false,
     "input": [
      "def ObservedPmf(pmf, speed, label=None):\n",
      "    \"\"\"Returns a new Pmf representing speeds observed at a given speed.\n",
      "\n",
      "    The chance of observing a runner is proportional to the difference\n",
      "    in speed.\n",
      "\n",
      "    Args:\n",
      "        pmf: distribution of actual speeds\n",
      "        speed: speed of the observing runner\n",
      "        label: string label for the new dist\n",
      "\n",
      "    Returns:\n",
      "        Pmf object\n",
      "    \"\"\"\n",
      "    new = pmf.Copy(label=label)\n",
      "    for val in new.Values():\n",
      "        diff = abs(val - speed)\n",
      "        new.Mult(val, diff)\n",
      "    new.Normalize()\n",
      "    return new"
     ],
     "language": "python",
     "metadata": {},
     "outputs": [],
     "prompt_number": 1
    },
    {
     "cell_type": "code",
     "collapsed": false,
     "input": [
      "results = relay.ReadResults()\n",
      "speeds = relay.GetSpeeds(results)\n",
      "len(speeds)"
     ],
     "language": "python",
     "metadata": {},
     "outputs": [
      {
       "metadata": {},
       "output_type": "pyout",
       "prompt_number": 7,
       "text": [
        "1596"
       ]
      }
     ],
     "prompt_number": 7
    },
    {
     "cell_type": "code",
     "collapsed": false,
     "input": [
      "pdf = thinkstats2.EstimatedPdf(speeds)\n",
      "thinkplot.PrePlot(2)\n",
      "thinkplot.Pdf(pdf)\n",
      "thinkplot.Config(title='PDF of running speed',\n",
      "                xlabel='speed (mph)',\n",
      "                ylabel='PDF',\n",
      "                xlim=[3, 12],\n",
      "                loc='lower right')\n",
      "thinkplot.Save(root='relay1', formats=formats)"
     ],
     "language": "python",
     "metadata": {},
     "outputs": [
      {
       "output_type": "stream",
       "stream": "stdout",
       "text": [
        "Writing relay1.png\n"
       ]
      },
      {
       "metadata": {},
       "output_type": "display_data",
       "text": [
        "<matplotlib.figure.Figure at 0x7f1ea0afefd0>"
       ]
      }
     ],
     "prompt_number": 33
    },
    {
     "cell_type": "code",
     "collapsed": false,
     "input": [
      "thinkplot.PrePlot(2)\n",
      "thinkplot.Cdf(pmf.MakeCdf())\n",
      "thinkplot.Config(root='observed_speeds',\n",
      "                title='CDF of running speed',\n",
      "                xlabel='speed (mph)',\n",
      "                ylabel='CDF',\n",
      "                loc='lower right')\n",
      "thinkplot.Save(root='relay2', formats=formats)"
     ],
     "language": "python",
     "metadata": {},
     "outputs": [
      {
       "output_type": "stream",
       "stream": "stdout",
       "text": [
        "Writing relay2.png\n"
       ]
      },
      {
       "metadata": {},
       "output_type": "display_data",
       "text": [
        "<matplotlib.figure.Figure at 0x7f1e771c09d0>"
       ]
      }
     ],
     "prompt_number": 32
    },
    {
     "cell_type": "code",
     "collapsed": false,
     "input": [
      "pmf = thinkstats2.Pmf(speeds, 'actual speeds')\n",
      "biased = ObservedPmf(pmf, 7.5, label='observed speeds')"
     ],
     "language": "python",
     "metadata": {},
     "outputs": [],
     "prompt_number": 28
    },
    {
     "cell_type": "code",
     "collapsed": false,
     "input": [
      "thinkplot.PrePlot(2)\n",
      "thinkplot.Cdf(pmf.MakeCdf())\n",
      "thinkplot.Cdf(biased.MakeCdf())\n",
      "thinkplot.Config(root='observed_speeds',\n",
      "                title='CDF of running speed',\n",
      "                xlabel='speed (mph)',\n",
      "                ylabel='CDF',\n",
      "                loc='lower right')\n",
      "thinkplot.Save(root='relay3', formats=formats)"
     ],
     "language": "python",
     "metadata": {},
     "outputs": [
      {
       "output_type": "stream",
       "stream": "stdout",
       "text": [
        "Writing relay3.png\n"
       ]
      },
      {
       "metadata": {},
       "output_type": "display_data",
       "text": [
        "<matplotlib.figure.Figure at 0x7f1e7726e810>"
       ]
      }
     ],
     "prompt_number": 31
    },
    {
     "cell_type": "code",
     "collapsed": false,
     "input": [],
     "language": "python",
     "metadata": {},
     "outputs": []
    }
   ],
   "metadata": {}
  }
 ]
}