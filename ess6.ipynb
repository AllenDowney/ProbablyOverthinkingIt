{
 "cells": [
  {
   "cell_type": "markdown",
   "metadata": {},
   "source": [
    "Internet use and religion in Europe, part six\n",
    "-----------------------------------------\n",
    "\n",
    "This notebook presents explorations of the association between Internet use and religion in Europe, using data from the European Social Survey (http://www.europeansocialsurvey.org).\n",
    "\n",
    "Copyright 2015 Allen Downey\n",
    "\n",
    "MIT License: http://opensource.org/licenses/MIT"
   ]
  },
  {
   "cell_type": "code",
   "execution_count": 1,
   "metadata": {
    "collapsed": true
   },
   "outputs": [],
   "source": [
    "from __future__ import print_function, division\n",
    "\n",
    "import string\n",
    "import random\n",
    "import cPickle as pickle\n",
    "\n",
    "import numpy as np\n",
    "import pandas as pd\n",
    "import statsmodels.formula.api as smf\n",
    "\n",
    "import thinkstats2\n",
    "import thinkplot\n",
    "import matplotlib.pyplot as plt\n",
    "\n",
    "import ess\n",
    "\n",
    "# colors by colorbrewer2.org\n",
    "BLUE1 = '#a6cee3'\n",
    "BLUE2 = '#1f78b4'\n",
    "GREEN1 = '#b2df8a'\n",
    "GREEN2 = '#33a02c'\n",
    "PINK = '#fb9a99'\n",
    "RED = '#e31a1c'\n",
    "ORANGE1 = '#fdbf6f'\n",
    "ORANGE2 = '#ff7f00'\n",
    "PURPLE1 = '#cab2d6'\n",
    "PURPLE2 = '#6a3d9a'\n",
    "YELLOW = '#ffff99'\n",
    "BROWN = '#b15928'\n",
    "\n",
    "%matplotlib inline"
   ]
  },
  {
   "cell_type": "markdown",
   "metadata": {},
   "source": [
    "Open the store containing resampled DataFrames."
   ]
  },
  {
   "cell_type": "code",
   "execution_count": 2,
   "metadata": {
    "collapsed": false
   },
   "outputs": [],
   "source": [
    "store = pd.HDFStore('ess.resamples.h5')"
   ]
  },
  {
   "cell_type": "code",
   "execution_count": 3,
   "metadata": {
    "collapsed": false
   },
   "outputs": [
    {
     "name": "stdout",
     "output_type": "stream",
     "text": [
      "Austria\n",
      "Belgium\n",
      "Bulgaria\n",
      "Switzerland\n",
      "Cyprus\n",
      "Czech Rep\n",
      "Germany\n",
      "Denmark\n",
      "Estonia\n",
      "Spain\n",
      "Finland\n",
      "France\n",
      "UK\n",
      "Greece\n",
      "Croatia\n",
      "Hungary\n",
      "Ireland\n",
      "Israel\n",
      "Iceland\n",
      "Italy\n",
      "Lithuania\n",
      "Luxembourg\n",
      "Latvia\n",
      "Netherlands\n",
      "Norway\n",
      "Poland\n",
      "Portugal\n",
      "Romania\n",
      "Russia\n",
      "Sweden\n",
      "Slovenia\n",
      "Slovakia\n",
      "Turkey\n",
      "Ukraine\n"
     ]
    }
   ],
   "source": [
    "country_map = ess.make_countries(store)"
   ]
  },
  {
   "cell_type": "code",
   "execution_count": 4,
   "metadata": {
    "collapsed": false
   },
   "outputs": [],
   "source": [
    "keys = store.keys()\n",
    "key = np.random.choice(keys)\n",
    "df = store.get(key)\n",
    "df['yrbrn60_f2'] = df.yrbrn60_f ** 2\n",
    "df['propensity'] = np.nan\n",
    "df['treatment'] = np.nan"
   ]
  },
  {
   "cell_type": "code",
   "execution_count": 20,
   "metadata": {
    "collapsed": false
   },
   "outputs": [],
   "source": [
    "def compute_delta(group, country):\n",
    "    treatment = group[group.treatment == 1]\n",
    "    control = group[group.treatment == 0]\n",
    "    \n",
    "    # sort the propensities of the controls (for fast lookup)\n",
    "    series = control.propensity.sort_values()\n",
    "\n",
    "    # look up the propensities of the treatment group\n",
    "    indices = series.searchsorted(treatment.propensity)\n",
    "    indices[indices < 0] = 0\n",
    "    indices[indices >= len(control)] = len(control)-1\n",
    "    \n",
    "    # select the matches\n",
    "    control_indices = series.index[indices]\n",
    "    matches = control.loc[control_indices]\n",
    "\n",
    "    # find distances and differences\n",
    "    distances = (treatment.propensity.values - \n",
    "                 matches.propensity.values)\n",
    "    differences = (treatment.rlgdgr_f.values - \n",
    "                   matches.rlgdgr_f.values)\n",
    "    \n",
    "    # select differences with small distances\n",
    "    caliper = differences[abs(distances) < 0.001]\n",
    "\n",
    "    # return the mean difference\n",
    "    delta = np.mean(differences)\n",
    "    return delta"
   ]
  },
  {
   "cell_type": "code",
   "execution_count": 6,
   "metadata": {
    "collapsed": false
   },
   "outputs": [],
   "source": [
    "FORMULA1 = ('treatment ~ inwyr07_f + yrbrn60_f + yrbrn60_f2 + '\n",
    "            'edurank_f + hincrank_f +'\n",
    "            'tvtot_f + rdtot_f + nwsptot_f')\n",
    "\n",
    "def process_frame(df, country_map):\n",
    "    grouped = df.groupby('cntry')\n",
    "    for code, group in grouped:\n",
    "        #if code != 'GR':\n",
    "        #   continue\n",
    "        country = country_map[code]\n",
    "\n",
    "        #netuse = thinkstats2.Jitter(group.netuse_f, 0.1)\n",
    "        netuse = group.netuse_f\n",
    "        thresh = netuse.median()\n",
    "        if thresh < 1: thresh = 1\n",
    "        group.treatment = (netuse >= thresh).astype(int)\n",
    "\n",
    "        model = smf.logit(FORMULA1, data=group)    \n",
    "        results = model.fit(disp=False)\n",
    "        group.propensity = results.predict(group)\n",
    "    \n",
    "        delta = compute_delta(group, country)\n",
    "\n",
    "        d = dict(delta=delta)\n",
    "        country.add_params(d)"
   ]
  },
  {
   "cell_type": "code",
   "execution_count": 7,
   "metadata": {
    "collapsed": false
   },
   "outputs": [],
   "source": [
    "def process_all_frames(store, country_map, num=201):\n",
    "    \"\"\"Loops through the store and processes frames.\n",
    "    \n",
    "    store: store\n",
    "    country_map: map from code to Country\n",
    "    num: how many resamplings to process\n",
    "    reg_func: function used to compute regression\n",
    "    formula: string Patsy formula\n",
    "    model_num: which model we're running\n",
    "    \"\"\"\n",
    "    for i, key in enumerate(store.keys()):\n",
    "        if i >= num:\n",
    "            break\n",
    "        print(i, key)\n",
    "        df = store.get(key)\n",
    "        df['yrbrn60_f2'] = df.yrbrn60_f ** 2\n",
    "        df['propensity'] = np.nan\n",
    "        df['treatment'] = np.nan\n",
    "        process_frame(df, country_map)"
   ]
  },
  {
   "cell_type": "code",
   "execution_count": 8,
   "metadata": {
    "collapsed": true
   },
   "outputs": [
    {
     "name": "stdout",
     "output_type": "stream",
     "text": [
      "0 /AAVZWa\n",
      "1 /ADbUvD\n",
      "2 /AJEDdF\n",
      "3 /AOacJP\n",
      "4 /AsSyrK\n",
      "5 /BIXejR\n",
      "6 /Blwttj\n",
      "7 /BytXnJ\n",
      "8 /CuiQgF\n",
      "9 /CxkVBv\n",
      "10 /DOKcxz\n",
      "11 /DSSzPM\n",
      "12 /DdpHTg\n",
      "13 /EBHNWn\n",
      "14 /EHuhuk\n",
      "15 /EIaigX\n",
      "16 /EOOBpB\n",
      "17 /EdeAYH\n",
      "18 /EiftYh\n",
      "19 /EoHBcy\n",
      "20 /Evkitq\n",
      "21 /FJboqX\n",
      "22 /FWawby\n",
      "23 /GIKXkG\n",
      "24 /GPBBMj\n",
      "25 /GYhuaT\n",
      "26 /GdTLTY\n",
      "27 /GeUlsB\n",
      "28 /GeolrR\n",
      "29 /GkMwBV\n",
      "30 /GownbC\n",
      "31 /GrCTmE\n",
      "32 /HGSBFA\n",
      "33 /HemGKU\n",
      "34 /HujYDN\n",
      "35 /IKLjEu\n",
      "36 /IORbkE\n",
      "37 /IXYMov\n",
      "38 /InEXbB\n",
      "39 /JKBolS\n",
      "40 /JVSJPq\n",
      "41 /JofMZK\n",
      "42 /JomohW\n",
      "43 /JznRlw\n",
      "44 /KEthFz\n",
      "45 /KFwczR\n",
      "46 /KUVnJc\n",
      "47 /KnKXTR\n",
      "48 /KuGUhG\n",
      "49 /KudtCP\n",
      "50 /LaUmLC\n",
      "51 /LissvE\n",
      "52 /LmraEV\n",
      "53 /MCmopN\n",
      "54 /MIdmWa\n",
      "55 /MgSdJx\n",
      "56 /NJjQrX\n",
      "57 /NfzPAX\n",
      "58 /OJZEtt\n",
      "59 /Oaksmf\n",
      "60 /OdhAjf\n",
      "61 /PJETsk\n",
      "62 /PXxSpS\n",
      "63 /PiWfGA\n",
      "64 /PptHII\n",
      "65 /PvfGpy\n",
      "66 /QTTYTa\n",
      "67 /QbhbQt\n",
      "68 /QoHLXF\n",
      "69 /QskeUe\n",
      "70 /QtkeEX\n",
      "71 /RHVBHl\n",
      "72 /RRpxwc\n",
      "73 /RYtpJo\n",
      "74 /RuCVox\n",
      "75 /RwJMYt\n",
      "76 /SHnJcB\n",
      "77 /ScbnLb\n",
      "78 /TOcaLi\n",
      "79 /TRVSRU\n",
      "80 /TaHTXL\n",
      "81 /UKzbGY\n",
      "82 /UVvNeb\n",
      "83 /UfXGIO\n",
      "84 /VHIVpS\n",
      "85 /VcRwRL\n",
      "86 /VgqgVe\n",
      "87 /VlUfcv\n",
      "88 /VzZAXk\n",
      "89 /WczOWP\n",
      "90 /WkLtrX\n",
      "91 /WkfCQW\n",
      "92 /WlHtRg\n",
      "93 /WwTDDj\n",
      "94 /WxWlWp\n",
      "95 /XGmIIH\n",
      "96 /XOxJQN\n",
      "97 /XhgvtL\n",
      "98 /YMsFSK\n",
      "99 /YeASVz\n",
      "100 /YoxGxL\n",
      "101 /YvdfEk\n",
      "102 /ZEEBve\n",
      "103 /ZXovwc\n",
      "104 /ZgSZAY\n",
      "105 /ZjGafB\n",
      "106 /ZxNahg\n",
      "107 /bJIOjl\n",
      "108 /bNKOFy\n",
      "109 /bOZZkd\n",
      "110 /blIIdK\n",
      "111 /btCIZx\n",
      "112 /bvntaM\n",
      "113 /cEzhky\n",
      "114 /cYiUkH\n",
      "115 /cgKsnt\n",
      "116 /czQkEF\n",
      "117 /dcjEvm\n",
      "118 /dqGBQR\n",
      "119 /dyuBXv\n",
      "120 /dzpDVu\n",
      "121 /eDVvJf\n",
      "122 /ewfhTI\n",
      "123 /fBFUGB\n",
      "124 /fEkGRW\n",
      "125 /ggYbXH\n",
      "126 /gnJSCF\n",
      "127 /hIQegI\n",
      "128 /hOQHWV\n",
      "129 /hTfXDB\n",
      "130 /hlJZff\n",
      "131 /hmmXxf\n",
      "132 /iABzcU\n",
      "133 /iGVZEK\n",
      "134 /iWltCV\n",
      "135 /iaTUMA\n",
      "136 /iiSwHC\n",
      "137 /ilWxnR\n",
      "138 /jNqZpZ\n",
      "139 /kVTeXb\n",
      "140 /kfAnDn\n",
      "141 /kuZzaN\n",
      "142 /lHDxRr\n",
      "143 /lfUmXq\n",
      "144 /lsXAWo\n",
      "145 /mbTfIj\n",
      "146 /mtyzJg\n",
      "147 /nOsmSf\n",
      "148 /ncvQcP\n",
      "149 /neEVfl\n",
      "150 /nnERGx\n",
      "151 /nnUXHn\n",
      "152 /nvZcGU\n",
      "153 /olGyuX\n",
      "154 /pezcXZ\n",
      "155 /qRQqmc\n",
      "156 /qWZfql\n",
      "157 /qchGUz\n",
      "158 /qfZVHF\n",
      "159 /qqYojL\n",
      "160 /rCrtjG\n",
      "161 /rSravW\n",
      "162 /rUWSeP\n",
      "163 /rYeOLP\n",
      "164 /rnYDRv\n",
      "165 /sPKzmv\n",
      "166 /shBLMW\n",
      "167 /siHRLd\n",
      "168 /ssTuqu\n",
      "169 /tIBOEC\n",
      "170 /tJaytt\n",
      "171 /taosRR\n",
      "172 /tazMjo\n",
      "173 /teuTPZ\n",
      "174 /tiUoXr\n",
      "175 /tjiIAT\n",
      "176 /tjjdLV\n",
      "177 /tuLFXm\n",
      "178 /uHhvHu\n",
      "179 /uOAidw\n",
      "180 /uWhsWV\n",
      "181 /uZGRbW\n",
      "182 /vPnlcH\n",
      "183 /vktdCG\n",
      "184 /vqFufP\n",
      "185 /vqxuWx\n",
      "186 /wGQrTR\n",
      "187 /wahSMf\n",
      "188 /wsvHYt\n",
      "189 /xfKUcU\n",
      "190 /xgAfWd\n",
      "191 /xjbtHM\n",
      "192 /xtqhXa\n",
      "193 /xwCakd\n",
      "194 /xxGtEc\n",
      "195 /yImumW\n",
      "196 /yKuLlN\n",
      "197 /ybmXrn\n",
      "198 /yfOjqX\n",
      "199 /ylSawW\n",
      "200 /zBUKWF\n"
     ]
    },
    {
     "name": "stderr",
     "output_type": "stream",
     "text": [
      "/home/downey/anaconda/lib/python2.7/site-packages/pandas/core/generic.py:2273: SettingWithCopyWarning: \n",
      "A value is trying to be set on a copy of a slice from a DataFrame.\n",
      "Try using .loc[row_indexer,col_indexer] = value instead\n",
      "\n",
      "See the caveats in the documentation: http://pandas.pydata.org/pandas-docs/stable/indexing.html#indexing-view-versus-copy\n",
      "  self[name] = value\n"
     ]
    }
   ],
   "source": [
    "process_all_frames(store, country_map, num=201)"
   ]
  },
  {
   "cell_type": "code",
   "execution_count": 9,
   "metadata": {
    "collapsed": true
   },
   "outputs": [],
   "source": [
    "store.close()"
   ]
  },
  {
   "cell_type": "code",
   "execution_count": 10,
   "metadata": {
    "collapsed": false
   },
   "outputs": [],
   "source": [
    "with open('ess6.pkl', 'wb') as fp:\n",
    "    pickle.dump(country_map, fp)"
   ]
  },
  {
   "cell_type": "code",
   "execution_count": 11,
   "metadata": {
    "collapsed": true
   },
   "outputs": [],
   "source": [
    "with open('ess6.pkl', 'rb') as fp:\n",
    "    country_map = pickle.load(fp)"
   ]
  },
  {
   "cell_type": "code",
   "execution_count": 12,
   "metadata": {
    "collapsed": true
   },
   "outputs": [],
   "source": [
    "plot_counter = 1\n",
    "\n",
    "def save_plot(flag=False):\n",
    "    \"\"\"Saves plots in png format.\n",
    "    \n",
    "    flag: boolean, whether to save or not\n",
    "    \"\"\"\n",
    "    global plot_counter\n",
    "    if flag:\n",
    "        root = 'ess5.%2.2d' % plot_counter\n",
    "        thinkplot.Save(root=root, formats=['png'])\n",
    "        plot_counter += 1"
   ]
  },
  {
   "cell_type": "markdown",
   "metadata": {},
   "source": [
    "Make a plot showing confidence interval of effect size for the given parameters"
   ]
  },
  {
   "cell_type": "code",
   "execution_count": 13,
   "metadata": {
    "collapsed": true
   },
   "outputs": [],
   "source": [
    "xlabel1 = 'Difference in religiosity (10 point scale)'"
   ]
  },
  {
   "cell_type": "code",
   "execution_count": 14,
   "metadata": {
    "collapsed": true
   },
   "outputs": [],
   "source": [
    "xlim = [-2.5, 1.5]"
   ]
  },
  {
   "cell_type": "code",
   "execution_count": 15,
   "metadata": {
    "collapsed": false
   },
   "outputs": [
    {
     "name": "stderr",
     "output_type": "stream",
     "text": [
      "/home/downey/anaconda/lib/python2.7/site-packages/matplotlib/axes/_axes.py:475: UserWarning: No labelled objects found. Use label='...' kwarg on individual plots.\n",
      "  warnings.warn(\"No labelled objects found. \"\n",
      "/home/downey/anaconda/lib/python2.7/site-packages/matplotlib/collections.py:590: FutureWarning: elementwise comparison failed; returning scalar instead, but in the future will perform elementwise comparison\n",
      "  if self._edgecolors == str('face'):\n"
     ]
    },
    {
     "data": {
      "image/png": "[encoded data removed]",
      "text/plain": [
       "<matplotlib.figure.Figure at 0x7f32049d3f10>"
      ]
     },
     "metadata": {},
     "output_type": "display_data"
    }
   ],
   "source": [
    "reload(ess)\n",
    "t = ess.extract_vars(country_map, 'delta', None)\n",
    "ess.plot_cis(t, PURPLE2)\n",
    "thinkplot.Config(title='Internet use',\n",
    "                 xlabel=xlabel1, xlim=xlim)\n",
    "save_plot()"
   ]
  },
  {
   "cell_type": "markdown",
   "metadata": {},
   "source": [
    "Why bigger CIs?  \n",
    "\n",
    "1. Discarding some data, so smaller sample size.\n",
    "2. Does matching cut the sample size by half?\n",
    "3. Biggest one, probably: reducing netuse_f to a binary variable.  "
   ]
  },
  {
   "cell_type": "code",
   "execution_count": 18,
   "metadata": {
    "collapsed": false
   },
   "outputs": [
    {
     "name": "stdout",
     "output_type": "stream",
     "text": [
      "-0.320823610646 -0.345374931582\n"
     ]
    },
    {
     "data": {
      "image/png": "[encoded data removed]",
      "text/plain": [
       "<matplotlib.figure.Figure at 0x7f31b82a4c50>"
      ]
     },
     "metadata": {},
     "output_type": "display_data"
    }
   ],
   "source": [
    "reload(ess)\n",
    "cdfnames = ['delta']\n",
    "ess.plot_cdfs(country_map, ess.extract_vars, cdfnames=cdfnames)\n",
    "thinkplot.Config(xlabel=xlabel1,\n",
    "                 xlim=xlim,\n",
    "                 ylabel='CDF',\n",
    "                 loc='upper left')\n",
    "save_plot()"
   ]
  },
  {
   "cell_type": "code",
   "execution_count": 19,
   "metadata": {
    "collapsed": false
   },
   "outputs": [
    {
     "name": "stdout",
     "output_type": "stream",
     "text": [
      "varname  \tneg*  \tneg  \tpos  \tpos*\n",
      "---------  \t----  \t---  \t---  \t----\n",
      "delta  \t15  \t14  \t4  \t1  \t34\n"
     ]
    }
   ],
   "source": [
    "reload(ess)\n",
    "varnames = ['delta']\n",
    "\n",
    "ts = ess.make_table(country_map, varnames, ess.extract_vars)\n",
    "ess.print_table(ts)"
   ]
  },
  {
   "cell_type": "code",
   "execution_count": null,
   "metadata": {
    "collapsed": true
   },
   "outputs": [],
   "source": []
  },
  {
   "cell_type": "code",
   "execution_count": null,
   "metadata": {
    "collapsed": true
   },
   "outputs": [],
   "source": []
  }
 ],
 "metadata": {
  "kernelspec": {
   "display_name": "Python 2",
   "language": "python",
   "name": "python2"
  },
  "language_info": {
   "codemirror_mode": {
    "name": "ipython",
    "version": 2
   },
   "file_extension": ".py",
   "mimetype": "text/x-python",
   "name": "python",
   "nbconvert_exporter": "python",
   "pygments_lexer": "ipython2",
   "version": "2.7.10"
  }
 },
 "nbformat": 4,
 "nbformat_minor": 0
}
