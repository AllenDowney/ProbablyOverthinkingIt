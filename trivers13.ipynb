{
 "cells": [
  {
   "cell_type": "markdown",
   "metadata": {},
   "source": [
    "# Does Trivers-Willard apply to people?\n",
    "\n",
    "This notebook contains a \"one-day paper\", my attempt to pose a research question, answer it, and publish the results in one work day.\n",
    "\n",
    "Copyright 2016 Allen B. Downey\n",
    "\n",
    "MIT License: https://opensource.org/licenses/MIT"
   ]
  },
  {
   "cell_type": "code",
   "execution_count": 1,
   "metadata": {
    "collapsed": true
   },
   "outputs": [],
   "source": [
    "from __future__ import print_function, division\n",
    "\n",
    "import thinkstats2\n",
    "import thinkplot\n",
    "\n",
    "import pandas as pd\n",
    "import numpy as np\n",
    "\n",
    "import statsmodels.formula.api as smf\n",
    "\n",
    "%matplotlib inline"
   ]
  },
  {
   "cell_type": "markdown",
   "metadata": {},
   "source": [
    "### Trivers-Willard\n",
    "\n",
    "[According to Wikipedia](https://en.wikipedia.org/wiki/Trivers%E2%80%93Willard_hypothesis), the Trivers-Willard hypothesis:\n",
    "\n",
    ">\"...suggests that female mammals are able to adjust offspring sex ratio in response to their maternal condition. For example, it may predict greater parental investment in males by parents in 'good conditions' and greater investment in females by parents in 'poor conditions' (relative to parents in good condition).\"\n",
    "\n",
    "For humans, the hypothesis suggests that people with relatively high social status might be more likely to have boys.  Some studies have shown evidence for this hypothesis, but based on my very casual survey, it is not persuasive.\n",
    "\n",
    "To test whether the T-W hypothesis holds up in humans, I downloaded [birth data for the nearly 4 million babies born in the U.S. in 2014](http://www.cdc.gov/nchs/data_access/vitalstatsonline.htm#Births).\n",
    "\n",
    "I selected variables that seemed likely to be related to social status and used logistic regression to identify variables associated with sex ratio."
   ]
  },
  {
   "cell_type": "markdown",
   "metadata": {},
   "source": [
    "**Summary of results**\n",
    "\n",
    "1.  Running regression with one variable at a time, many of the variables have a statistically significant effect on sex ratio, with the sign of the effect generally in the direction predicted by T-W.\n",
    "\n",
    "2.  However, many of the variables are also correlated with race.  If we control for either the mother's race or the father's race, or both, most other variables have no additional predictive power.\n",
    "\n",
    "3.  Contrary to other reports, the age of the parents seems to have no predictive power.\n",
    "\n",
    "4.  Strangely, the variable that shows the strongest and most consistent relationship with sex ratio is the number of prenatal visits.  Although it seems obvious that prenatal visits are a proxy for quality of health care and general socioeconomic status, the sign of the effect is opposite what T-W predicts; that is, more prenatal visits is a strong predictor of lower sex ratio (more girls).\n",
    "\n",
    "Following convention, I report sex ratio in terms of boys per 100 girls.  The overall sex ratio at birth is about 105; that is, 105 boys are born for every 100 girls."
   ]
  },
  {
   "cell_type": "markdown",
   "metadata": {},
   "source": [
    "### Data cleaning\n",
    "\n",
    "Here's how I loaded the data:"
   ]
  },
  {
   "cell_type": "code",
   "execution_count": 2,
   "metadata": {
    "collapsed": false
   },
   "outputs": [],
   "source": [
    "names = ['year', 'mager9', 'restatus', 'mbrace', 'mhisp_r',\n",
    "        'mar_p', 'dmar', 'meduc', 'fagerrec11', 'fbrace', 'fhisp_r', 'feduc', \n",
    "        'lbo_rec', 'previs_rec', 'wic', 'height', 'bmi_r', 'pay_rec', 'sex']\n",
    "colspecs = [(15, 18),\n",
    "            (93, 93),\n",
    "            (138, 138),\n",
    "            (143, 143),\n",
    "            (148, 148),\n",
    "            (152, 152),\n",
    "            (153, 153),\n",
    "            (155, 155),\n",
    "            (186, 187),\n",
    "            (191, 191),\n",
    "            (195, 195),\n",
    "            (197, 197),\n",
    "            (212, 212),\n",
    "            (272, 273),\n",
    "            (281, 281),\n",
    "            (555, 556),\n",
    "            (533, 533),\n",
    "            (413, 413),\n",
    "            (436, 436),\n",
    "           ]\n",
    "\n",
    "colspecs = [(start-1, end) for start, end in colspecs]"
   ]
  },
  {
   "cell_type": "code",
   "execution_count": 3,
   "metadata": {
    "collapsed": true
   },
   "outputs": [],
   "source": [
    "df = None"
   ]
  },
  {
   "cell_type": "code",
   "execution_count": 4,
   "metadata": {
    "collapsed": false
   },
   "outputs": [],
   "source": [
    "filename = 'Nat2013PublicUS.r20141016.gz'\n",
    "#df = pd.read_fwf(filename, compression='gzip', header=None, names=names, colspecs=colspecs)\n",
    "#df.head()"
   ]
  },
  {
   "cell_type": "code",
   "execution_count": 5,
   "metadata": {
    "collapsed": false
   },
   "outputs": [],
   "source": [
    "# store the dataframe for faster loading\n",
    "\n",
    "#store = pd.HDFStore('store.h5')\n",
    "#store['births2013'] = df\n",
    "#store.close()"
   ]
  },
  {
   "cell_type": "code",
   "execution_count": 6,
   "metadata": {
    "collapsed": true
   },
   "outputs": [],
   "source": [
    "# load the dataframe\n",
    "\n",
    "store = pd.HDFStore('store.h5')\n",
    "df = store['births2013']\n",
    "store.close()"
   ]
  },
  {
   "cell_type": "code",
   "execution_count": 7,
   "metadata": {
    "collapsed": false
   },
   "outputs": [],
   "source": [
    "def series_to_ratio(series):\n",
    "    \"\"\"Takes a boolean series and computes sex ratio.\n",
    "    \"\"\"\n",
    "    boys = np.mean(series)\n",
    "    return np.round(100 * boys / (1-boys)).astype(int)"
   ]
  },
  {
   "cell_type": "markdown",
   "metadata": {},
   "source": [
    "I have to recode sex as `0` or `1` to make `logit` happy."
   ]
  },
  {
   "cell_type": "code",
   "execution_count": 8,
   "metadata": {
    "collapsed": false
   },
   "outputs": [
    {
     "data": {
      "text/plain": [
       "0    1923390\n",
       "1    2017374\n",
       "Name: boy, dtype: int64"
      ]
     },
     "execution_count": 8,
     "metadata": {},
     "output_type": "execute_result"
    }
   ],
   "source": [
    "df['boy'] = (df.sex=='M').astype(int)\n",
    "df.boy.value_counts().sort_index()"
   ]
  },
  {
   "cell_type": "markdown",
   "metadata": {},
   "source": [
    "All births are from 2014."
   ]
  },
  {
   "cell_type": "code",
   "execution_count": 9,
   "metadata": {
    "collapsed": false
   },
   "outputs": [
    {
     "data": {
      "text/plain": [
       "2013    3940764\n",
       "Name: year, dtype: int64"
      ]
     },
     "execution_count": 9,
     "metadata": {},
     "output_type": "execute_result"
    }
   ],
   "source": [
    "df.year.value_counts().sort_index()"
   ]
  },
  {
   "cell_type": "markdown",
   "metadata": {},
   "source": [
    "Mother's age:"
   ]
  },
  {
   "cell_type": "code",
   "execution_count": 10,
   "metadata": {
    "collapsed": false
   },
   "outputs": [
    {
     "data": {
      "text/plain": [
       "1       3099\n",
       "2     273598\n",
       "3     898163\n",
       "4    1123370\n",
       "5    1039480\n",
       "6     485088\n",
       "7     109738\n",
       "8       7539\n",
       "9        689\n",
       "Name: mager9, dtype: int64"
      ]
     },
     "execution_count": 10,
     "metadata": {},
     "output_type": "execute_result"
    }
   ],
   "source": [
    "df.mager9.value_counts().sort_index()"
   ]
  },
  {
   "cell_type": "code",
   "execution_count": 11,
   "metadata": {
    "collapsed": false
   },
   "outputs": [
    {
     "data": {
      "text/html": [
       "<div>\n",
       "<table border=\"1\" class=\"dataframe\">\n",
       "  <thead>\n",
       "    <tr style=\"text-align: right;\">\n",
       "      <th></th>\n",
       "      <th>boy</th>\n",
       "    </tr>\n",
       "    <tr>\n",
       "      <th>mager9</th>\n",
       "      <th></th>\n",
       "    </tr>\n",
       "  </thead>\n",
       "  <tbody>\n",
       "    <tr>\n",
       "      <th>1</th>\n",
       "      <td>106</td>\n",
       "    </tr>\n",
       "    <tr>\n",
       "      <th>2</th>\n",
       "      <td>105</td>\n",
       "    </tr>\n",
       "    <tr>\n",
       "      <th>3</th>\n",
       "      <td>105</td>\n",
       "    </tr>\n",
       "    <tr>\n",
       "      <th>4</th>\n",
       "      <td>105</td>\n",
       "    </tr>\n",
       "    <tr>\n",
       "      <th>5</th>\n",
       "      <td>105</td>\n",
       "    </tr>\n",
       "    <tr>\n",
       "      <th>6</th>\n",
       "      <td>105</td>\n",
       "    </tr>\n",
       "    <tr>\n",
       "      <th>7</th>\n",
       "      <td>104</td>\n",
       "    </tr>\n",
       "    <tr>\n",
       "      <th>8</th>\n",
       "      <td>104</td>\n",
       "    </tr>\n",
       "    <tr>\n",
       "      <th>9</th>\n",
       "      <td>95</td>\n",
       "    </tr>\n",
       "  </tbody>\n",
       "</table>\n",
       "</div>"
      ],
      "text/plain": [
       "        boy\n",
       "mager9     \n",
       "1       106\n",
       "2       105\n",
       "3       105\n",
       "4       105\n",
       "5       105\n",
       "6       105\n",
       "7       104\n",
       "8       104\n",
       "9        95"
      ]
     },
     "execution_count": 11,
     "metadata": {},
     "output_type": "execute_result"
    }
   ],
   "source": [
    "var = 'mager9'\n",
    "df[[var, 'boy']].groupby(var).aggregate(series_to_ratio)"
   ]
  },
  {
   "cell_type": "code",
   "execution_count": 12,
   "metadata": {
    "collapsed": false
   },
   "outputs": [
    {
     "data": {
      "text/plain": [
       "0.0"
      ]
     },
     "execution_count": 12,
     "metadata": {},
     "output_type": "execute_result"
    }
   ],
   "source": [
    "df.mager9.isnull().mean()"
   ]
  },
  {
   "cell_type": "code",
   "execution_count": 13,
   "metadata": {
    "collapsed": false
   },
   "outputs": [
    {
     "data": {
      "text/plain": [
       "(0.070214049864442532, 0.029934804520138733)"
      ]
     },
     "execution_count": 13,
     "metadata": {},
     "output_type": "execute_result"
    }
   ],
   "source": [
    "df['youngm'] = df.mager9<=2\n",
    "df['oldm'] = df.mager9>=7\n",
    "df.youngm.mean(), df.oldm.mean()"
   ]
  },
  {
   "cell_type": "markdown",
   "metadata": {},
   "source": [
    "Residence status (1=resident)"
   ]
  },
  {
   "cell_type": "code",
   "execution_count": 14,
   "metadata": {
    "collapsed": false
   },
   "outputs": [
    {
     "data": {
      "text/plain": [
       "1    2847673\n",
       "2     999320\n",
       "3      85188\n",
       "4       8583\n",
       "Name: restatus, dtype: int64"
      ]
     },
     "execution_count": 14,
     "metadata": {},
     "output_type": "execute_result"
    }
   ],
   "source": [
    "df.restatus.value_counts().sort_index()"
   ]
  },
  {
   "cell_type": "code",
   "execution_count": 15,
   "metadata": {
    "collapsed": false
   },
   "outputs": [
    {
     "data": {
      "text/html": [
       "<div>\n",
       "<table border=\"1\" class=\"dataframe\">\n",
       "  <thead>\n",
       "    <tr style=\"text-align: right;\">\n",
       "      <th></th>\n",
       "      <th>boy</th>\n",
       "    </tr>\n",
       "    <tr>\n",
       "      <th>restatus</th>\n",
       "      <th></th>\n",
       "    </tr>\n",
       "  </thead>\n",
       "  <tbody>\n",
       "    <tr>\n",
       "      <th>1</th>\n",
       "      <td>105</td>\n",
       "    </tr>\n",
       "    <tr>\n",
       "      <th>2</th>\n",
       "      <td>105</td>\n",
       "    </tr>\n",
       "    <tr>\n",
       "      <th>3</th>\n",
       "      <td>105</td>\n",
       "    </tr>\n",
       "    <tr>\n",
       "      <th>4</th>\n",
       "      <td>106</td>\n",
       "    </tr>\n",
       "  </tbody>\n",
       "</table>\n",
       "</div>"
      ],
      "text/plain": [
       "          boy\n",
       "restatus     \n",
       "1         105\n",
       "2         105\n",
       "3         105\n",
       "4         106"
      ]
     },
     "execution_count": 15,
     "metadata": {},
     "output_type": "execute_result"
    }
   ],
   "source": [
    "var = 'restatus'\n",
    "df[[var, 'boy']].groupby(var).aggregate(series_to_ratio)"
   ]
  },
  {
   "cell_type": "markdown",
   "metadata": {},
   "source": [
    "Mother's race (1=White, 2=Black, 3=American Indian or Alaskan Native, 4=Asian or Pacific Islander)"
   ]
  },
  {
   "cell_type": "code",
   "execution_count": 16,
   "metadata": {
    "collapsed": false
   },
   "outputs": [
    {
     "data": {
      "text/plain": [
       "1    2993686\n",
       "2     635120\n",
       "3      46011\n",
       "4     265947\n",
       "Name: mbrace, dtype: int64"
      ]
     },
     "execution_count": 16,
     "metadata": {},
     "output_type": "execute_result"
    }
   ],
   "source": [
    "df.mbrace.value_counts().sort_index()"
   ]
  },
  {
   "cell_type": "code",
   "execution_count": 17,
   "metadata": {
    "collapsed": false
   },
   "outputs": [
    {
     "data": {
      "text/html": [
       "<div>\n",
       "<table border=\"1\" class=\"dataframe\">\n",
       "  <thead>\n",
       "    <tr style=\"text-align: right;\">\n",
       "      <th></th>\n",
       "      <th>boy</th>\n",
       "    </tr>\n",
       "    <tr>\n",
       "      <th>mbrace</th>\n",
       "      <th></th>\n",
       "    </tr>\n",
       "  </thead>\n",
       "  <tbody>\n",
       "    <tr>\n",
       "      <th>1</th>\n",
       "      <td>105</td>\n",
       "    </tr>\n",
       "    <tr>\n",
       "      <th>2</th>\n",
       "      <td>103</td>\n",
       "    </tr>\n",
       "    <tr>\n",
       "      <th>3</th>\n",
       "      <td>106</td>\n",
       "    </tr>\n",
       "    <tr>\n",
       "      <th>4</th>\n",
       "      <td>106</td>\n",
       "    </tr>\n",
       "  </tbody>\n",
       "</table>\n",
       "</div>"
      ],
      "text/plain": [
       "        boy\n",
       "mbrace     \n",
       "1       105\n",
       "2       103\n",
       "3       106\n",
       "4       106"
      ]
     },
     "execution_count": 17,
     "metadata": {},
     "output_type": "execute_result"
    }
   ],
   "source": [
    "var = 'mbrace'\n",
    "df[[var, 'boy']].groupby(var).aggregate(series_to_ratio)"
   ]
  },
  {
   "cell_type": "markdown",
   "metadata": {},
   "source": [
    "Mother's Hispanic origin (0=Non-Hispanic)"
   ]
  },
  {
   "cell_type": "code",
   "execution_count": 18,
   "metadata": {
    "collapsed": false
   },
   "outputs": [
    {
     "data": {
      "text/plain": [
       "0    3005012\n",
       "1     552005\n",
       "2      68313\n",
       "3      18855\n",
       "4     131436\n",
       "5     137518\n",
       "Name: mhisp_r, dtype: int64"
      ]
     },
     "execution_count": 18,
     "metadata": {},
     "output_type": "execute_result"
    }
   ],
   "source": [
    "df.mhisp_r.replace([9], np.nan, inplace=True)\n",
    "df.mhisp_r.value_counts().sort_index()"
   ]
  },
  {
   "cell_type": "code",
   "execution_count": 19,
   "metadata": {
    "collapsed": true
   },
   "outputs": [],
   "source": [
    "def copy_null(df, oldvar, newvar):\n",
    "    df.loc[df[oldvar].isnull(), newvar] = np.nan"
   ]
  },
  {
   "cell_type": "code",
   "execution_count": 20,
   "metadata": {
    "collapsed": false
   },
   "outputs": [
    {
     "data": {
      "text/plain": [
       "(0.007010062008280628, 0.23207123488329956)"
      ]
     },
     "execution_count": 20,
     "metadata": {},
     "output_type": "execute_result"
    }
   ],
   "source": [
    "df['mhisp'] = df.mhisp_r > 0\n",
    "copy_null(df, 'mhisp_r', 'mhisp')\n",
    "df.mhisp.isnull().mean(), df.mhisp.mean()"
   ]
  },
  {
   "cell_type": "code",
   "execution_count": 21,
   "metadata": {
    "collapsed": false
   },
   "outputs": [
    {
     "data": {
      "text/html": [
       "<div>\n",
       "<table border=\"1\" class=\"dataframe\">\n",
       "  <thead>\n",
       "    <tr style=\"text-align: right;\">\n",
       "      <th></th>\n",
       "      <th>boy</th>\n",
       "    </tr>\n",
       "    <tr>\n",
       "      <th>mhisp</th>\n",
       "      <th></th>\n",
       "    </tr>\n",
       "  </thead>\n",
       "  <tbody>\n",
       "    <tr>\n",
       "      <th>0</th>\n",
       "      <td>105</td>\n",
       "    </tr>\n",
       "    <tr>\n",
       "      <th>1</th>\n",
       "      <td>104</td>\n",
       "    </tr>\n",
       "  </tbody>\n",
       "</table>\n",
       "</div>"
      ],
      "text/plain": [
       "       boy\n",
       "mhisp     \n",
       "0      105\n",
       "1      104"
      ]
     },
     "execution_count": 21,
     "metadata": {},
     "output_type": "execute_result"
    }
   ],
   "source": [
    "var = 'mhisp'\n",
    "df[[var, 'boy']].groupby(var).aggregate(series_to_ratio)"
   ]
  },
  {
   "cell_type": "markdown",
   "metadata": {},
   "source": [
    "Marital status (1=Married)"
   ]
  },
  {
   "cell_type": "code",
   "execution_count": 22,
   "metadata": {
    "collapsed": false
   },
   "outputs": [
    {
     "data": {
      "text/plain": [
       "1    2342660\n",
       "2    1598104\n",
       "Name: dmar, dtype: int64"
      ]
     },
     "execution_count": 22,
     "metadata": {},
     "output_type": "execute_result"
    }
   ],
   "source": [
    "df.dmar.value_counts().sort_index()"
   ]
  },
  {
   "cell_type": "code",
   "execution_count": 23,
   "metadata": {
    "collapsed": false
   },
   "outputs": [
    {
     "data": {
      "text/html": [
       "<div>\n",
       "<table border=\"1\" class=\"dataframe\">\n",
       "  <thead>\n",
       "    <tr style=\"text-align: right;\">\n",
       "      <th></th>\n",
       "      <th>boy</th>\n",
       "    </tr>\n",
       "    <tr>\n",
       "      <th>dmar</th>\n",
       "      <th></th>\n",
       "    </tr>\n",
       "  </thead>\n",
       "  <tbody>\n",
       "    <tr>\n",
       "      <th>1</th>\n",
       "      <td>105</td>\n",
       "    </tr>\n",
       "    <tr>\n",
       "      <th>2</th>\n",
       "      <td>104</td>\n",
       "    </tr>\n",
       "  </tbody>\n",
       "</table>\n",
       "</div>"
      ],
      "text/plain": [
       "      boy\n",
       "dmar     \n",
       "1     105\n",
       "2     104"
      ]
     },
     "execution_count": 23,
     "metadata": {},
     "output_type": "execute_result"
    }
   ],
   "source": [
    "var = 'dmar'\n",
    "df[[var, 'boy']].groupby(var).aggregate(series_to_ratio)"
   ]
  },
  {
   "cell_type": "markdown",
   "metadata": {},
   "source": [
    "Paternity acknowledged, if unmarried (Y=yes, N=no, X=not applicable, U=unknown).\n",
    "\n",
    "I recode X (not applicable because married) as Y (paternity acknowledged)."
   ]
  },
  {
   "cell_type": "code",
   "execution_count": 24,
   "metadata": {
    "collapsed": false
   },
   "outputs": [
    {
     "data": {
      "text/plain": [
       "N     429652\n",
       "Y    3127707\n",
       "Name: mar_p, dtype: int64"
      ]
     },
     "execution_count": 24,
     "metadata": {},
     "output_type": "execute_result"
    }
   ],
   "source": [
    "df.mar_p.replace(['U'], np.nan, inplace=True)\n",
    "df.mar_p.replace(['X'], 'Y', inplace=True)\n",
    "df.mar_p.value_counts().sort_index()"
   ]
  },
  {
   "cell_type": "code",
   "execution_count": 25,
   "metadata": {
    "collapsed": false
   },
   "outputs": [
    {
     "data": {
      "text/html": [
       "<div>\n",
       "<table border=\"1\" class=\"dataframe\">\n",
       "  <thead>\n",
       "    <tr style=\"text-align: right;\">\n",
       "      <th></th>\n",
       "      <th>boy</th>\n",
       "    </tr>\n",
       "    <tr>\n",
       "      <th>mar_p</th>\n",
       "      <th></th>\n",
       "    </tr>\n",
       "  </thead>\n",
       "  <tbody>\n",
       "    <tr>\n",
       "      <th>N</th>\n",
       "      <td>103</td>\n",
       "    </tr>\n",
       "    <tr>\n",
       "      <th>Y</th>\n",
       "      <td>105</td>\n",
       "    </tr>\n",
       "  </tbody>\n",
       "</table>\n",
       "</div>"
      ],
      "text/plain": [
       "       boy\n",
       "mar_p     \n",
       "N      103\n",
       "Y      105"
      ]
     },
     "execution_count": 25,
     "metadata": {},
     "output_type": "execute_result"
    }
   ],
   "source": [
    "var = 'mar_p'\n",
    "df[[var, 'boy']].groupby(var).aggregate(series_to_ratio)"
   ]
  },
  {
   "cell_type": "markdown",
   "metadata": {},
   "source": [
    "Mother's education level"
   ]
  },
  {
   "cell_type": "code",
   "execution_count": 26,
   "metadata": {
    "collapsed": false
   },
   "outputs": [
    {
     "data": {
      "text/plain": [
       "1    136701\n",
       "2    421293\n",
       "3    879956\n",
       "4    753056\n",
       "5    280660\n",
       "6    669170\n",
       "7    297054\n",
       "8     84707\n",
       "Name: meduc, dtype: int64"
      ]
     },
     "execution_count": 26,
     "metadata": {},
     "output_type": "execute_result"
    }
   ],
   "source": [
    "df.meduc.replace([9], np.nan, inplace=True)\n",
    "df.meduc.value_counts().sort_index()"
   ]
  },
  {
   "cell_type": "code",
   "execution_count": 27,
   "metadata": {
    "collapsed": false
   },
   "outputs": [
    {
     "data": {
      "text/html": [
       "<div>\n",
       "<table border=\"1\" class=\"dataframe\">\n",
       "  <thead>\n",
       "    <tr style=\"text-align: right;\">\n",
       "      <th></th>\n",
       "      <th>boy</th>\n",
       "    </tr>\n",
       "    <tr>\n",
       "      <th>meduc</th>\n",
       "      <th></th>\n",
       "    </tr>\n",
       "  </thead>\n",
       "  <tbody>\n",
       "    <tr>\n",
       "      <th>1</th>\n",
       "      <td>104</td>\n",
       "    </tr>\n",
       "    <tr>\n",
       "      <th>2</th>\n",
       "      <td>104</td>\n",
       "    </tr>\n",
       "    <tr>\n",
       "      <th>3</th>\n",
       "      <td>105</td>\n",
       "    </tr>\n",
       "    <tr>\n",
       "      <th>4</th>\n",
       "      <td>105</td>\n",
       "    </tr>\n",
       "    <tr>\n",
       "      <th>5</th>\n",
       "      <td>105</td>\n",
       "    </tr>\n",
       "    <tr>\n",
       "      <th>6</th>\n",
       "      <td>105</td>\n",
       "    </tr>\n",
       "    <tr>\n",
       "      <th>7</th>\n",
       "      <td>105</td>\n",
       "    </tr>\n",
       "    <tr>\n",
       "      <th>8</th>\n",
       "      <td>106</td>\n",
       "    </tr>\n",
       "  </tbody>\n",
       "</table>\n",
       "</div>"
      ],
      "text/plain": [
       "       boy\n",
       "meduc     \n",
       "1      104\n",
       "2      104\n",
       "3      105\n",
       "4      105\n",
       "5      105\n",
       "6      105\n",
       "7      105\n",
       "8      106"
      ]
     },
     "execution_count": 27,
     "metadata": {},
     "output_type": "execute_result"
    }
   ],
   "source": [
    "var = 'meduc'\n",
    "df[[var, 'boy']].groupby(var).aggregate(series_to_ratio)"
   ]
  },
  {
   "cell_type": "code",
   "execution_count": 28,
   "metadata": {
    "collapsed": false
   },
   "outputs": [
    {
     "data": {
      "text/plain": [
       "(0.1061131800838619, 0.15840415466202917)"
      ]
     },
     "execution_count": 28,
     "metadata": {},
     "output_type": "execute_result"
    }
   ],
   "source": [
    "df['lowed'] = df.meduc <= 2\n",
    "copy_null(df, 'meduc', 'lowed')\n",
    "df.lowed.isnull().mean(), df.lowed.mean()"
   ]
  },
  {
   "cell_type": "markdown",
   "metadata": {},
   "source": [
    "Father's age, in 10 ranges"
   ]
  },
  {
   "cell_type": "code",
   "execution_count": 29,
   "metadata": {
    "collapsed": false
   },
   "outputs": [
    {
     "data": {
      "text/plain": [
       "1        368\n",
       "2      92982\n",
       "3     510562\n",
       "4     862475\n",
       "5     993126\n",
       "6     603109\n",
       "7     257493\n",
       "8      84476\n",
       "9      27431\n",
       "10     11627\n",
       "Name: fagerrec11, dtype: int64"
      ]
     },
     "execution_count": 29,
     "metadata": {},
     "output_type": "execute_result"
    }
   ],
   "source": [
    "df.fagerrec11.replace([11], np.nan, inplace=True)\n",
    "df.fagerrec11.value_counts().sort_index()"
   ]
  },
  {
   "cell_type": "code",
   "execution_count": 30,
   "metadata": {
    "collapsed": false
   },
   "outputs": [
    {
     "data": {
      "text/html": [
       "<div>\n",
       "<table border=\"1\" class=\"dataframe\">\n",
       "  <thead>\n",
       "    <tr style=\"text-align: right;\">\n",
       "      <th></th>\n",
       "      <th>boy</th>\n",
       "    </tr>\n",
       "    <tr>\n",
       "      <th>fagerrec11</th>\n",
       "      <th></th>\n",
       "    </tr>\n",
       "  </thead>\n",
       "  <tbody>\n",
       "    <tr>\n",
       "      <th>1</th>\n",
       "      <td>97</td>\n",
       "    </tr>\n",
       "    <tr>\n",
       "      <th>2</th>\n",
       "      <td>107</td>\n",
       "    </tr>\n",
       "    <tr>\n",
       "      <th>3</th>\n",
       "      <td>105</td>\n",
       "    </tr>\n",
       "    <tr>\n",
       "      <th>4</th>\n",
       "      <td>105</td>\n",
       "    </tr>\n",
       "    <tr>\n",
       "      <th>5</th>\n",
       "      <td>105</td>\n",
       "    </tr>\n",
       "    <tr>\n",
       "      <th>6</th>\n",
       "      <td>105</td>\n",
       "    </tr>\n",
       "    <tr>\n",
       "      <th>7</th>\n",
       "      <td>105</td>\n",
       "    </tr>\n",
       "    <tr>\n",
       "      <th>8</th>\n",
       "      <td>103</td>\n",
       "    </tr>\n",
       "    <tr>\n",
       "      <th>9</th>\n",
       "      <td>104</td>\n",
       "    </tr>\n",
       "    <tr>\n",
       "      <th>10</th>\n",
       "      <td>102</td>\n",
       "    </tr>\n",
       "  </tbody>\n",
       "</table>\n",
       "</div>"
      ],
      "text/plain": [
       "            boy\n",
       "fagerrec11     \n",
       "1            97\n",
       "2           107\n",
       "3           105\n",
       "4           105\n",
       "5           105\n",
       "6           105\n",
       "7           105\n",
       "8           103\n",
       "9           104\n",
       "10          102"
      ]
     },
     "execution_count": 30,
     "metadata": {},
     "output_type": "execute_result"
    }
   ],
   "source": [
    "var = 'fagerrec11'\n",
    "df[[var, 'boy']].groupby(var).aggregate(series_to_ratio)"
   ]
  },
  {
   "cell_type": "code",
   "execution_count": 31,
   "metadata": {
    "collapsed": false
   },
   "outputs": [
    {
     "data": {
      "text/plain": [
       "(0.12614685883244975, 0.027107873073010633)"
      ]
     },
     "execution_count": 31,
     "metadata": {},
     "output_type": "execute_result"
    }
   ],
   "source": [
    "df['youngf'] = df.fagerrec11<=2\n",
    "copy_null(df, 'fagerrec11', 'youngf')\n",
    "df.youngf.isnull().mean(), df.youngf.mean()"
   ]
  },
  {
   "cell_type": "code",
   "execution_count": 32,
   "metadata": {
    "collapsed": false
   },
   "outputs": [
    {
     "data": {
      "text/plain": [
       "(0.12614685883244975, 0.03587299402465234)"
      ]
     },
     "execution_count": 32,
     "metadata": {},
     "output_type": "execute_result"
    }
   ],
   "source": [
    "df['oldf'] = df.fagerrec11>=8\n",
    "copy_null(df, 'fagerrec11', 'oldf')\n",
    "df.oldf.isnull().mean(), df.oldf.mean()"
   ]
  },
  {
   "cell_type": "markdown",
   "metadata": {},
   "source": [
    "Father's race"
   ]
  },
  {
   "cell_type": "code",
   "execution_count": 33,
   "metadata": {
    "collapsed": false
   },
   "outputs": [
    {
     "data": {
      "text/plain": [
       "1    2466993\n",
       "2     476535\n",
       "3      35143\n",
       "4     222529\n",
       "Name: fbrace, dtype: int64"
      ]
     },
     "execution_count": 33,
     "metadata": {},
     "output_type": "execute_result"
    }
   ],
   "source": [
    "df.fbrace.replace([9], np.nan, inplace=True)\n",
    "df.fbrace.value_counts().sort_index()"
   ]
  },
  {
   "cell_type": "code",
   "execution_count": 34,
   "metadata": {
    "collapsed": false
   },
   "outputs": [
    {
     "data": {
      "text/html": [
       "<div>\n",
       "<table border=\"1\" class=\"dataframe\">\n",
       "  <thead>\n",
       "    <tr style=\"text-align: right;\">\n",
       "      <th></th>\n",
       "      <th>boy</th>\n",
       "    </tr>\n",
       "    <tr>\n",
       "      <th>fbrace</th>\n",
       "      <th></th>\n",
       "    </tr>\n",
       "  </thead>\n",
       "  <tbody>\n",
       "    <tr>\n",
       "      <th>1</th>\n",
       "      <td>105</td>\n",
       "    </tr>\n",
       "    <tr>\n",
       "      <th>2</th>\n",
       "      <td>104</td>\n",
       "    </tr>\n",
       "    <tr>\n",
       "      <th>3</th>\n",
       "      <td>105</td>\n",
       "    </tr>\n",
       "    <tr>\n",
       "      <th>4</th>\n",
       "      <td>107</td>\n",
       "    </tr>\n",
       "  </tbody>\n",
       "</table>\n",
       "</div>"
      ],
      "text/plain": [
       "        boy\n",
       "fbrace     \n",
       "1       105\n",
       "2       104\n",
       "3       105\n",
       "4       107"
      ]
     },
     "execution_count": 34,
     "metadata": {},
     "output_type": "execute_result"
    }
   ],
   "source": [
    "var = 'fbrace'\n",
    "df[[var, 'boy']].groupby(var).aggregate(series_to_ratio)"
   ]
  },
  {
   "cell_type": "markdown",
   "metadata": {},
   "source": [
    "Father's Hispanic origin (0=non-hispanic, other values indicate country of origin)"
   ]
  },
  {
   "cell_type": "code",
   "execution_count": 35,
   "metadata": {
    "collapsed": false
   },
   "outputs": [
    {
     "data": {
      "text/plain": [
       "0    2604861\n",
       "1     491433\n",
       "2      58210\n",
       "3      17820\n",
       "4     104385\n",
       "5     120142\n",
       "Name: fhisp_r, dtype: int64"
      ]
     },
     "execution_count": 35,
     "metadata": {},
     "output_type": "execute_result"
    }
   ],
   "source": [
    "df.fhisp_r.replace([9], np.nan, inplace=True)\n",
    "df.fhisp_r.value_counts().sort_index()"
   ]
  },
  {
   "cell_type": "code",
   "execution_count": 36,
   "metadata": {
    "collapsed": false
   },
   "outputs": [
    {
     "data": {
      "text/plain": [
       "(0.13802222107185308, 0.2331541772070662)"
      ]
     },
     "execution_count": 36,
     "metadata": {},
     "output_type": "execute_result"
    }
   ],
   "source": [
    "df['fhisp'] = df.fhisp_r > 0\n",
    "copy_null(df, 'fhisp_r', 'fhisp')\n",
    "df.fhisp.isnull().mean(), df.fhisp.mean()"
   ]
  },
  {
   "cell_type": "code",
   "execution_count": 37,
   "metadata": {
    "collapsed": false
   },
   "outputs": [
    {
     "data": {
      "text/html": [
       "<div>\n",
       "<table border=\"1\" class=\"dataframe\">\n",
       "  <thead>\n",
       "    <tr style=\"text-align: right;\">\n",
       "      <th></th>\n",
       "      <th>boy</th>\n",
       "    </tr>\n",
       "    <tr>\n",
       "      <th>fhisp</th>\n",
       "      <th></th>\n",
       "    </tr>\n",
       "  </thead>\n",
       "  <tbody>\n",
       "    <tr>\n",
       "      <th>0</th>\n",
       "      <td>105</td>\n",
       "    </tr>\n",
       "    <tr>\n",
       "      <th>1</th>\n",
       "      <td>104</td>\n",
       "    </tr>\n",
       "  </tbody>\n",
       "</table>\n",
       "</div>"
      ],
      "text/plain": [
       "       boy\n",
       "fhisp     \n",
       "0      105\n",
       "1      104"
      ]
     },
     "execution_count": 37,
     "metadata": {},
     "output_type": "execute_result"
    }
   ],
   "source": [
    "var = 'fhisp'\n",
    "df[[var, 'boy']].groupby(var).aggregate(series_to_ratio)"
   ]
  },
  {
   "cell_type": "markdown",
   "metadata": {},
   "source": [
    "Father's education level"
   ]
  },
  {
   "cell_type": "code",
   "execution_count": 38,
   "metadata": {
    "collapsed": false
   },
   "outputs": [
    {
     "data": {
      "text/plain": [
       "1    136789\n",
       "2    326194\n",
       "3    879276\n",
       "4    591364\n",
       "5    212259\n",
       "6    564045\n",
       "7    220241\n",
       "8     99780\n",
       "Name: feduc, dtype: int64"
      ]
     },
     "execution_count": 38,
     "metadata": {},
     "output_type": "execute_result"
    }
   ],
   "source": [
    "df.feduc.replace([9], np.nan, inplace=True)\n",
    "df.feduc.value_counts().sort_index()"
   ]
  },
  {
   "cell_type": "code",
   "execution_count": 39,
   "metadata": {
    "collapsed": false
   },
   "outputs": [
    {
     "data": {
      "text/html": [
       "<div>\n",
       "<table border=\"1\" class=\"dataframe\">\n",
       "  <thead>\n",
       "    <tr style=\"text-align: right;\">\n",
       "      <th></th>\n",
       "      <th>boy</th>\n",
       "    </tr>\n",
       "    <tr>\n",
       "      <th>feduc</th>\n",
       "      <th></th>\n",
       "    </tr>\n",
       "  </thead>\n",
       "  <tbody>\n",
       "    <tr>\n",
       "      <th>1</th>\n",
       "      <td>104</td>\n",
       "    </tr>\n",
       "    <tr>\n",
       "      <th>2</th>\n",
       "      <td>105</td>\n",
       "    </tr>\n",
       "    <tr>\n",
       "      <th>3</th>\n",
       "      <td>105</td>\n",
       "    </tr>\n",
       "    <tr>\n",
       "      <th>4</th>\n",
       "      <td>105</td>\n",
       "    </tr>\n",
       "    <tr>\n",
       "      <th>5</th>\n",
       "      <td>105</td>\n",
       "    </tr>\n",
       "    <tr>\n",
       "      <th>6</th>\n",
       "      <td>105</td>\n",
       "    </tr>\n",
       "    <tr>\n",
       "      <th>7</th>\n",
       "      <td>106</td>\n",
       "    </tr>\n",
       "    <tr>\n",
       "      <th>8</th>\n",
       "      <td>106</td>\n",
       "    </tr>\n",
       "  </tbody>\n",
       "</table>\n",
       "</div>"
      ],
      "text/plain": [
       "       boy\n",
       "feduc     \n",
       "1      104\n",
       "2      105\n",
       "3      105\n",
       "4      105\n",
       "5      105\n",
       "6      105\n",
       "7      106\n",
       "8      106"
      ]
     },
     "execution_count": 39,
     "metadata": {},
     "output_type": "execute_result"
    }
   ],
   "source": [
    "var = 'feduc'\n",
    "df[[var, 'boy']].groupby(var).aggregate(series_to_ratio)"
   ]
  },
  {
   "cell_type": "markdown",
   "metadata": {},
   "source": [
    "Live birth order."
   ]
  },
  {
   "cell_type": "code",
   "execution_count": 40,
   "metadata": {
    "collapsed": false
   },
   "outputs": [
    {
     "data": {
      "text/plain": [
       "1    1550114\n",
       "2    1246847\n",
       "3     654946\n",
       "4     276936\n",
       "5     108168\n",
       "6      44188\n",
       "7      20301\n",
       "8      20732\n",
       "Name: lbo_rec, dtype: int64"
      ]
     },
     "execution_count": 40,
     "metadata": {},
     "output_type": "execute_result"
    }
   ],
   "source": [
    "df.lbo_rec.replace([9], np.nan, inplace=True)\n",
    "df.lbo_rec.value_counts().sort_index()"
   ]
  },
  {
   "cell_type": "code",
   "execution_count": 41,
   "metadata": {
    "collapsed": false
   },
   "outputs": [
    {
     "data": {
      "text/html": [
       "<div>\n",
       "<table border=\"1\" class=\"dataframe\">\n",
       "  <thead>\n",
       "    <tr style=\"text-align: right;\">\n",
       "      <th></th>\n",
       "      <th>boy</th>\n",
       "    </tr>\n",
       "    <tr>\n",
       "      <th>lbo_rec</th>\n",
       "      <th></th>\n",
       "    </tr>\n",
       "  </thead>\n",
       "  <tbody>\n",
       "    <tr>\n",
       "      <th>1</th>\n",
       "      <td>105</td>\n",
       "    </tr>\n",
       "    <tr>\n",
       "      <th>2</th>\n",
       "      <td>105</td>\n",
       "    </tr>\n",
       "    <tr>\n",
       "      <th>3</th>\n",
       "      <td>104</td>\n",
       "    </tr>\n",
       "    <tr>\n",
       "      <th>4</th>\n",
       "      <td>104</td>\n",
       "    </tr>\n",
       "    <tr>\n",
       "      <th>5</th>\n",
       "      <td>104</td>\n",
       "    </tr>\n",
       "    <tr>\n",
       "      <th>6</th>\n",
       "      <td>103</td>\n",
       "    </tr>\n",
       "    <tr>\n",
       "      <th>7</th>\n",
       "      <td>107</td>\n",
       "    </tr>\n",
       "    <tr>\n",
       "      <th>8</th>\n",
       "      <td>102</td>\n",
       "    </tr>\n",
       "  </tbody>\n",
       "</table>\n",
       "</div>"
      ],
      "text/plain": [
       "         boy\n",
       "lbo_rec     \n",
       "1        105\n",
       "2        105\n",
       "3        104\n",
       "4        104\n",
       "5        104\n",
       "6        103\n",
       "7        107\n",
       "8        102"
      ]
     },
     "execution_count": 41,
     "metadata": {},
     "output_type": "execute_result"
    }
   ],
   "source": [
    "var = 'lbo_rec'\n",
    "df[[var, 'boy']].groupby(var).aggregate(series_to_ratio)"
   ]
  },
  {
   "cell_type": "code",
   "execution_count": 42,
   "metadata": {
    "collapsed": false
   },
   "outputs": [
    {
     "data": {
      "text/plain": [
       "(0.0047026414167405106, 0.04930585442166603)"
      ]
     },
     "execution_count": 42,
     "metadata": {},
     "output_type": "execute_result"
    }
   ],
   "source": [
    "df['highbo'] = df.lbo_rec >= 5\n",
    "copy_null(df, 'lbo_rec', 'highbo')\n",
    "df.highbo.isnull().mean(), df.highbo.mean()"
   ]
  },
  {
   "cell_type": "markdown",
   "metadata": {},
   "source": [
    "Number of prenatal visits, in 11 ranges"
   ]
  },
  {
   "cell_type": "code",
   "execution_count": 43,
   "metadata": {
    "collapsed": false
   },
   "outputs": [
    {
     "data": {
      "text/plain": [
       "1      55475\n",
       "2      41960\n",
       "3      92649\n",
       "4     191376\n",
       "5     356722\n",
       "6     806697\n",
       "7     992507\n",
       "8     677219\n",
       "9     385084\n",
       "10     98410\n",
       "11    124040\n",
       "Name: previs_rec, dtype: int64"
      ]
     },
     "execution_count": 43,
     "metadata": {},
     "output_type": "execute_result"
    }
   ],
   "source": [
    "df.previs_rec.replace([12], np.nan, inplace=True)\n",
    "df.previs_rec.value_counts().sort_index()"
   ]
  },
  {
   "cell_type": "code",
   "execution_count": 44,
   "metadata": {
    "collapsed": false
   },
   "outputs": [],
   "source": [
    "df.previs_rec.mean()\n",
    "df['previs'] = df.previs_rec - 7"
   ]
  },
  {
   "cell_type": "code",
   "execution_count": 45,
   "metadata": {
    "collapsed": false
   },
   "outputs": [
    {
     "data": {
      "text/html": [
       "<div>\n",
       "<table border=\"1\" class=\"dataframe\">\n",
       "  <thead>\n",
       "    <tr style=\"text-align: right;\">\n",
       "      <th></th>\n",
       "      <th>boy</th>\n",
       "    </tr>\n",
       "    <tr>\n",
       "      <th>previs</th>\n",
       "      <th></th>\n",
       "    </tr>\n",
       "  </thead>\n",
       "  <tbody>\n",
       "    <tr>\n",
       "      <th>-6</th>\n",
       "      <td>109</td>\n",
       "    </tr>\n",
       "    <tr>\n",
       "      <th>-5</th>\n",
       "      <td>106</td>\n",
       "    </tr>\n",
       "    <tr>\n",
       "      <th>-4</th>\n",
       "      <td>108</td>\n",
       "    </tr>\n",
       "    <tr>\n",
       "      <th>-3</th>\n",
       "      <td>108</td>\n",
       "    </tr>\n",
       "    <tr>\n",
       "      <th>-2</th>\n",
       "      <td>108</td>\n",
       "    </tr>\n",
       "    <tr>\n",
       "      <th>-1</th>\n",
       "      <td>106</td>\n",
       "    </tr>\n",
       "    <tr>\n",
       "      <th>0</th>\n",
       "      <td>105</td>\n",
       "    </tr>\n",
       "    <tr>\n",
       "      <th>1</th>\n",
       "      <td>103</td>\n",
       "    </tr>\n",
       "    <tr>\n",
       "      <th>2</th>\n",
       "      <td>103</td>\n",
       "    </tr>\n",
       "    <tr>\n",
       "      <th>3</th>\n",
       "      <td>101</td>\n",
       "    </tr>\n",
       "    <tr>\n",
       "      <th>4</th>\n",
       "      <td>101</td>\n",
       "    </tr>\n",
       "  </tbody>\n",
       "</table>\n",
       "</div>"
      ],
      "text/plain": [
       "        boy\n",
       "previs     \n",
       "-6      109\n",
       "-5      106\n",
       "-4      108\n",
       "-3      108\n",
       "-2      108\n",
       "-1      106\n",
       " 0      105\n",
       " 1      103\n",
       " 2      103\n",
       " 3      101\n",
       " 4      101"
      ]
     },
     "execution_count": 45,
     "metadata": {},
     "output_type": "execute_result"
    }
   ],
   "source": [
    "var = 'previs'\n",
    "df[[var, 'boy']].groupby(var).aggregate(series_to_ratio)"
   ]
  },
  {
   "cell_type": "code",
   "execution_count": 46,
   "metadata": {
    "collapsed": false
   },
   "outputs": [
    {
     "data": {
      "text/plain": [
       "(0.030102030976734459, 0.014514124159273119)"
      ]
     },
     "execution_count": 46,
     "metadata": {},
     "output_type": "execute_result"
    }
   ],
   "source": [
    "df['no_previs'] = df.previs_rec <= 1\n",
    "copy_null(df, 'previs_rec', 'no_previs')\n",
    "df.no_previs.isnull().mean(), df.no_previs.mean()"
   ]
  },
  {
   "cell_type": "markdown",
   "metadata": {},
   "source": [
    "Whether the mother is eligible for food stamps"
   ]
  },
  {
   "cell_type": "code",
   "execution_count": 47,
   "metadata": {
    "collapsed": false
   },
   "outputs": [
    {
     "data": {
      "text/plain": [
       "N    1906790\n",
       "Y    1568093\n",
       "Name: wic, dtype: int64"
      ]
     },
     "execution_count": 47,
     "metadata": {},
     "output_type": "execute_result"
    }
   ],
   "source": [
    "df.wic.replace(['U'], np.nan, inplace=True)\n",
    "df.wic.value_counts().sort_index()"
   ]
  },
  {
   "cell_type": "code",
   "execution_count": 48,
   "metadata": {
    "collapsed": false
   },
   "outputs": [
    {
     "data": {
      "text/html": [
       "<div>\n",
       "<table border=\"1\" class=\"dataframe\">\n",
       "  <thead>\n",
       "    <tr style=\"text-align: right;\">\n",
       "      <th></th>\n",
       "      <th>boy</th>\n",
       "    </tr>\n",
       "    <tr>\n",
       "      <th>wic</th>\n",
       "      <th></th>\n",
       "    </tr>\n",
       "  </thead>\n",
       "  <tbody>\n",
       "    <tr>\n",
       "      <th>N</th>\n",
       "      <td>105</td>\n",
       "    </tr>\n",
       "    <tr>\n",
       "      <th>Y</th>\n",
       "      <td>104</td>\n",
       "    </tr>\n",
       "  </tbody>\n",
       "</table>\n",
       "</div>"
      ],
      "text/plain": [
       "     boy\n",
       "wic     \n",
       "N    105\n",
       "Y    104"
      ]
     },
     "execution_count": 48,
     "metadata": {},
     "output_type": "execute_result"
    }
   ],
   "source": [
    "var = 'wic'\n",
    "df[[var, 'boy']].groupby(var).aggregate(series_to_ratio)"
   ]
  },
  {
   "cell_type": "markdown",
   "metadata": {},
   "source": [
    "Mother's height in inches"
   ]
  },
  {
   "cell_type": "code",
   "execution_count": 49,
   "metadata": {
    "collapsed": false
   },
   "outputs": [
    {
     "data": {
      "text/plain": [
       "30         8\n",
       "31         3\n",
       "32         2\n",
       "33         1\n",
       "36         9\n",
       "37         4\n",
       "38         6\n",
       "39        16\n",
       "40         8\n",
       "41        14\n",
       "42         6\n",
       "43         7\n",
       "44         2\n",
       "45         7\n",
       "46         7\n",
       "47        20\n",
       "48       759\n",
       "49       492\n",
       "50       346\n",
       "51       362\n",
       "52       450\n",
       "53      1360\n",
       "54      1301\n",
       "55      2532\n",
       "56      6411\n",
       "57     17089\n",
       "58     19417\n",
       "59     74060\n",
       "60    193506\n",
       "61    246137\n",
       "62    436950\n",
       "63    448774\n",
       "64    512975\n",
       "65    415945\n",
       "66    397583\n",
       "67    308439\n",
       "68    177404\n",
       "69    117775\n",
       "70     57814\n",
       "71     30853\n",
       "72     14269\n",
       "73      4872\n",
       "74      2369\n",
       "75       955\n",
       "76       540\n",
       "77       626\n",
       "78      1000\n",
       "Name: height, dtype: int64"
      ]
     },
     "execution_count": 49,
     "metadata": {},
     "output_type": "execute_result"
    }
   ],
   "source": [
    "df.height.replace([99], np.nan, inplace=True)\n",
    "df.height.value_counts().sort_index()"
   ]
  },
  {
   "cell_type": "code",
   "execution_count": 50,
   "metadata": {
    "collapsed": false
   },
   "outputs": [
    {
     "data": {
      "text/plain": [
       "(0.11350058009056112, 0.03569472890251425)"
      ]
     },
     "execution_count": 50,
     "metadata": {},
     "output_type": "execute_result"
    }
   ],
   "source": [
    "df['mshort'] = df.height<60\n",
    "copy_null(df, 'height', 'mshort')\n",
    "df.mshort.isnull().mean(), df.mshort.mean()"
   ]
  },
  {
   "cell_type": "code",
   "execution_count": 51,
   "metadata": {
    "collapsed": false
   },
   "outputs": [
    {
     "data": {
      "text/plain": [
       "(0.11350058009056112, 0.032431225552707395)"
      ]
     },
     "execution_count": 51,
     "metadata": {},
     "output_type": "execute_result"
    }
   ],
   "source": [
    "df['mtall'] = df.height>=70\n",
    "copy_null(df, 'height', 'mtall')\n",
    "df.mtall.isnull().mean(), df.mtall.mean()"
   ]
  },
  {
   "cell_type": "code",
   "execution_count": 52,
   "metadata": {
    "collapsed": false
   },
   "outputs": [
    {
     "data": {
      "text/html": [
       "<div>\n",
       "<table border=\"1\" class=\"dataframe\">\n",
       "  <thead>\n",
       "    <tr style=\"text-align: right;\">\n",
       "      <th></th>\n",
       "      <th>boy</th>\n",
       "    </tr>\n",
       "    <tr>\n",
       "      <th>mshort</th>\n",
       "      <th></th>\n",
       "    </tr>\n",
       "  </thead>\n",
       "  <tbody>\n",
       "    <tr>\n",
       "      <th>0</th>\n",
       "      <td>105</td>\n",
       "    </tr>\n",
       "    <tr>\n",
       "      <th>1</th>\n",
       "      <td>104</td>\n",
       "    </tr>\n",
       "  </tbody>\n",
       "</table>\n",
       "</div>"
      ],
      "text/plain": [
       "        boy\n",
       "mshort     \n",
       "0       105\n",
       "1       104"
      ]
     },
     "execution_count": 52,
     "metadata": {},
     "output_type": "execute_result"
    }
   ],
   "source": [
    "var = 'mshort'\n",
    "df[[var, 'boy']].groupby(var).aggregate(series_to_ratio)"
   ]
  },
  {
   "cell_type": "code",
   "execution_count": 53,
   "metadata": {
    "collapsed": false
   },
   "outputs": [
    {
     "data": {
      "text/html": [
       "<div>\n",
       "<table border=\"1\" class=\"dataframe\">\n",
       "  <thead>\n",
       "    <tr style=\"text-align: right;\">\n",
       "      <th></th>\n",
       "      <th>boy</th>\n",
       "    </tr>\n",
       "    <tr>\n",
       "      <th>mtall</th>\n",
       "      <th></th>\n",
       "    </tr>\n",
       "  </thead>\n",
       "  <tbody>\n",
       "    <tr>\n",
       "      <th>0</th>\n",
       "      <td>105</td>\n",
       "    </tr>\n",
       "    <tr>\n",
       "      <th>1</th>\n",
       "      <td>105</td>\n",
       "    </tr>\n",
       "  </tbody>\n",
       "</table>\n",
       "</div>"
      ],
      "text/plain": [
       "       boy\n",
       "mtall     \n",
       "0      105\n",
       "1      105"
      ]
     },
     "execution_count": 53,
     "metadata": {},
     "output_type": "execute_result"
    }
   ],
   "source": [
    "var = 'mtall'\n",
    "df[[var, 'boy']].groupby(var).aggregate(series_to_ratio)"
   ]
  },
  {
   "cell_type": "markdown",
   "metadata": {},
   "source": [
    "Mother's BMI in 6 ranges"
   ]
  },
  {
   "cell_type": "code",
   "execution_count": 54,
   "metadata": {
    "collapsed": false
   },
   "outputs": [
    {
     "data": {
      "text/plain": [
       "1     128922\n",
       "2    1578486\n",
       "3     869407\n",
       "4     458241\n",
       "5     217090\n",
       "6     149572\n",
       "Name: bmi_r, dtype: int64"
      ]
     },
     "execution_count": 54,
     "metadata": {},
     "output_type": "execute_result"
    }
   ],
   "source": [
    "df.bmi_r.replace([9], np.nan, inplace=True)\n",
    "df.bmi_r.value_counts().sort_index()"
   ]
  },
  {
   "cell_type": "code",
   "execution_count": 55,
   "metadata": {
    "collapsed": false
   },
   "outputs": [
    {
     "data": {
      "text/html": [
       "<div>\n",
       "<table border=\"1\" class=\"dataframe\">\n",
       "  <thead>\n",
       "    <tr style=\"text-align: right;\">\n",
       "      <th></th>\n",
       "      <th>boy</th>\n",
       "    </tr>\n",
       "    <tr>\n",
       "      <th>bmi_r</th>\n",
       "      <th></th>\n",
       "    </tr>\n",
       "  </thead>\n",
       "  <tbody>\n",
       "    <tr>\n",
       "      <th>1</th>\n",
       "      <td>105</td>\n",
       "    </tr>\n",
       "    <tr>\n",
       "      <th>2</th>\n",
       "      <td>105</td>\n",
       "    </tr>\n",
       "    <tr>\n",
       "      <th>3</th>\n",
       "      <td>105</td>\n",
       "    </tr>\n",
       "    <tr>\n",
       "      <th>4</th>\n",
       "      <td>105</td>\n",
       "    </tr>\n",
       "    <tr>\n",
       "      <th>5</th>\n",
       "      <td>105</td>\n",
       "    </tr>\n",
       "    <tr>\n",
       "      <th>6</th>\n",
       "      <td>103</td>\n",
       "    </tr>\n",
       "  </tbody>\n",
       "</table>\n",
       "</div>"
      ],
      "text/plain": [
       "       boy\n",
       "bmi_r     \n",
       "1      105\n",
       "2      105\n",
       "3      105\n",
       "4      105\n",
       "5      105\n",
       "6      103"
      ]
     },
     "execution_count": 55,
     "metadata": {},
     "output_type": "execute_result"
    }
   ],
   "source": [
    "var = 'bmi_r'\n",
    "df[[var, 'boy']].groupby(var).aggregate(series_to_ratio)"
   ]
  },
  {
   "cell_type": "code",
   "execution_count": 56,
   "metadata": {
    "collapsed": false
   },
   "outputs": [
    {
     "data": {
      "text/plain": [
       "(0.13678718136889192, 0.2424959976106191)"
      ]
     },
     "execution_count": 56,
     "metadata": {},
     "output_type": "execute_result"
    }
   ],
   "source": [
    "df['obese'] = df.bmi_r >= 4\n",
    "copy_null(df, 'bmi_r', 'obese')\n",
    "df.obese.isnull().mean(), df.obese.mean()"
   ]
  },
  {
   "cell_type": "markdown",
   "metadata": {},
   "source": [
    "Payment method (1=Medicaid, 2=Private insurance, 3=Self pay, 4=Other)"
   ]
  },
  {
   "cell_type": "code",
   "execution_count": 57,
   "metadata": {
    "collapsed": false
   },
   "outputs": [
    {
     "data": {
      "text/plain": [
       "1    1530635\n",
       "2    1663943\n",
       "3     153560\n",
       "4     171457\n",
       "Name: pay_rec, dtype: int64"
      ]
     },
     "execution_count": 57,
     "metadata": {},
     "output_type": "execute_result"
    }
   ],
   "source": [
    "df.pay_rec.replace([9], np.nan, inplace=True)\n",
    "df.pay_rec.value_counts().sort_index()"
   ]
  },
  {
   "cell_type": "code",
   "execution_count": 58,
   "metadata": {
    "collapsed": false
   },
   "outputs": [
    {
     "data": {
      "text/html": [
       "<div>\n",
       "<table border=\"1\" class=\"dataframe\">\n",
       "  <thead>\n",
       "    <tr style=\"text-align: right;\">\n",
       "      <th></th>\n",
       "      <th>boy</th>\n",
       "    </tr>\n",
       "    <tr>\n",
       "      <th>pay_rec</th>\n",
       "      <th></th>\n",
       "    </tr>\n",
       "  </thead>\n",
       "  <tbody>\n",
       "    <tr>\n",
       "      <th>1</th>\n",
       "      <td>104</td>\n",
       "    </tr>\n",
       "    <tr>\n",
       "      <th>2</th>\n",
       "      <td>105</td>\n",
       "    </tr>\n",
       "    <tr>\n",
       "      <th>3</th>\n",
       "      <td>106</td>\n",
       "    </tr>\n",
       "    <tr>\n",
       "      <th>4</th>\n",
       "      <td>106</td>\n",
       "    </tr>\n",
       "  </tbody>\n",
       "</table>\n",
       "</div>"
      ],
      "text/plain": [
       "         boy\n",
       "pay_rec     \n",
       "1        104\n",
       "2        105\n",
       "3        106\n",
       "4        106"
      ]
     },
     "execution_count": 58,
     "metadata": {},
     "output_type": "execute_result"
    }
   ],
   "source": [
    "var = 'pay_rec'\n",
    "df[[var, 'boy']].groupby(var).aggregate(series_to_ratio)"
   ]
  },
  {
   "cell_type": "markdown",
   "metadata": {},
   "source": [
    "Sex of baby"
   ]
  },
  {
   "cell_type": "code",
   "execution_count": 59,
   "metadata": {
    "collapsed": false
   },
   "outputs": [
    {
     "data": {
      "text/plain": [
       "F    1923390\n",
       "M    2017374\n",
       "Name: sex, dtype: int64"
      ]
     },
     "execution_count": 59,
     "metadata": {},
     "output_type": "execute_result"
    }
   ],
   "source": [
    "df.sex.value_counts().sort_index()"
   ]
  },
  {
   "cell_type": "markdown",
   "metadata": {},
   "source": [
    "### Regression models\n",
    "\n",
    "Here are some functions I'll use to interpret the results of logistic regression"
   ]
  },
  {
   "cell_type": "code",
   "execution_count": 60,
   "metadata": {
    "collapsed": false
   },
   "outputs": [],
   "source": [
    "def logodds_to_ratio(logodds):\n",
    "    \"\"\"Convert from log odds to probability.\"\"\"\n",
    "    odds = np.exp(logodds)\n",
    "    return 100 * odds\n",
    "\n",
    "def summarize(results):\n",
    "    \"\"\"Summarize parameters in terms of birth ratio.\"\"\"\n",
    "    inter_or = results.params['Intercept']\n",
    "    inter_rat = logodds_to_ratio(inter_or)\n",
    "    \n",
    "    for value, lor in results.params.iteritems():\n",
    "        if value=='Intercept':\n",
    "            continue\n",
    "        \n",
    "        rat = logodds_to_ratio(inter_or + lor)\n",
    "        code = '*' if results.pvalues[value] < 0.05 else ' '\n",
    "        \n",
    "        print('%-20s   %0.1f   %0.1f' % (value, inter_rat, rat), code)"
   ]
  },
  {
   "cell_type": "markdown",
   "metadata": {},
   "source": [
    "Now I'll run models with each variable, one at a time."
   ]
  },
  {
   "cell_type": "markdown",
   "metadata": {},
   "source": [
    "Mother's age seems to have no predictive value:"
   ]
  },
  {
   "cell_type": "code",
   "execution_count": 61,
   "metadata": {
    "collapsed": false
   },
   "outputs": [
    {
     "name": "stdout",
     "output_type": "stream",
     "text": [
      "Optimization terminated successfully.\n",
      "         Current function value: 0.692863\n",
      "         Iterations 3\n",
      "mager9                 105.2   105.1  \n"
     ]
    },
    {
     "data": {
      "text/html": [
       "<table class=\"simpletable\">\n",
       "<caption>Logit Regression Results</caption>\n",
       "<tr>\n",
       "  <th>Dep. Variable:</th>        <td>boy</td>       <th>  No. Observations:  </th>   <td>3940764</td>  \n",
       "</tr>\n",
       "<tr>\n",
       "  <th>Model:</th>               <td>Logit</td>      <th>  Df Residuals:      </th>   <td>3940762</td>  \n",
       "</tr>\n",
       "<tr>\n",
       "  <th>Method:</th>               <td>MLE</td>       <th>  Df Model:          </th>   <td>     1</td>   \n",
       "</tr>\n",
       "<tr>\n",
       "  <th>Date:</th>          <td>Tue, 17 May 2016</td> <th>  Pseudo R-squ.:     </th>  <td>1.110e-07</td> \n",
       "</tr>\n",
       "<tr>\n",
       "  <th>Time:</th>              <td>16:24:34</td>     <th>  Log-Likelihood:    </th> <td>-2.7304e+06</td>\n",
       "</tr>\n",
       "<tr>\n",
       "  <th>converged:</th>           <td>True</td>       <th>  LL-Null:           </th> <td>-2.7304e+06</td>\n",
       "</tr>\n",
       "<tr>\n",
       "  <th> </th>                      <td> </td>        <th>  LLR p-value:       </th>   <td>0.4363</td>   \n",
       "</tr>\n",
       "</table>\n",
       "<table class=\"simpletable\">\n",
       "<tr>\n",
       "      <td></td>         <th>coef</th>     <th>std err</th>      <th>z</th>      <th>P>|z|</th> <th>[95.0% Conf. Int.]</th> \n",
       "</tr>\n",
       "<tr>\n",
       "  <th>Intercept</th> <td>    0.0504</td> <td>    0.004</td> <td>   13.906</td> <td> 0.000</td> <td>    0.043     0.058</td>\n",
       "</tr>\n",
       "<tr>\n",
       "  <th>mager9</th>    <td>   -0.0006</td> <td>    0.001</td> <td>   -0.778</td> <td> 0.436</td> <td>   -0.002     0.001</td>\n",
       "</tr>\n",
       "</table>"
      ],
      "text/plain": [
       "<class 'statsmodels.iolib.summary.Summary'>\n",
       "\"\"\"\n",
       "                           Logit Regression Results                           \n",
       "==============================================================================\n",
       "Dep. Variable:                    boy   No. Observations:              3940764\n",
       "Model:                          Logit   Df Residuals:                  3940762\n",
       "Method:                           MLE   Df Model:                            1\n",
       "Date:                Tue, 17 May 2016   Pseudo R-squ.:               1.110e-07\n",
       "Time:                        16:24:34   Log-Likelihood:            -2.7304e+06\n",
       "converged:                       True   LL-Null:                   -2.7304e+06\n",
       "                                        LLR p-value:                    0.4363\n",
       "==============================================================================\n",
       "                 coef    std err          z      P>|z|      [95.0% Conf. Int.]\n",
       "------------------------------------------------------------------------------\n",
       "Intercept      0.0504      0.004     13.906      0.000         0.043     0.058\n",
       "mager9        -0.0006      0.001     -0.778      0.436        -0.002     0.001\n",
       "==============================================================================\n",
       "\"\"\""
      ]
     },
     "execution_count": 61,
     "metadata": {},
     "output_type": "execute_result"
    }
   ],
   "source": [
    "model = smf.logit('boy ~ mager9', data=df)    \n",
    "results = model.fit()\n",
    "summarize(results)\n",
    "results.summary()"
   ]
  },
  {
   "cell_type": "markdown",
   "metadata": {},
   "source": [
    "The estimated ratios for young mothers is higher, and the ratio for older mothers is lower, but neither is statistically significant."
   ]
  },
  {
   "cell_type": "code",
   "execution_count": 62,
   "metadata": {
    "collapsed": false
   },
   "outputs": [
    {
     "name": "stdout",
     "output_type": "stream",
     "text": [
      "Optimization terminated successfully.\n",
      "         Current function value: 0.692862\n",
      "         Iterations 3\n",
      "youngm[T.True]         104.9   105.4  \n",
      "oldm[T.True]           104.9   104.1  \n"
     ]
    },
    {
     "data": {
      "text/html": [
       "<table class=\"simpletable\">\n",
       "<caption>Logit Regression Results</caption>\n",
       "<tr>\n",
       "  <th>Dep. Variable:</th>        <td>boy</td>       <th>  No. Observations:  </th>   <td>3940764</td>  \n",
       "</tr>\n",
       "<tr>\n",
       "  <th>Model:</th>               <td>Logit</td>      <th>  Df Residuals:      </th>   <td>3940761</td>  \n",
       "</tr>\n",
       "<tr>\n",
       "  <th>Method:</th>               <td>MLE</td>       <th>  Df Model:          </th>   <td>     2</td>   \n",
       "</tr>\n",
       "<tr>\n",
       "  <th>Date:</th>          <td>Tue, 17 May 2016</td> <th>  Pseudo R-squ.:     </th>  <td>6.086e-07</td> \n",
       "</tr>\n",
       "<tr>\n",
       "  <th>Time:</th>              <td>16:24:39</td>     <th>  Log-Likelihood:    </th> <td>-2.7304e+06</td>\n",
       "</tr>\n",
       "<tr>\n",
       "  <th>converged:</th>           <td>True</td>       <th>  LL-Null:           </th> <td>-2.7304e+06</td>\n",
       "</tr>\n",
       "<tr>\n",
       "  <th> </th>                      <td> </td>        <th>  LLR p-value:       </th>   <td>0.1898</td>   \n",
       "</tr>\n",
       "</table>\n",
       "<table class=\"simpletable\">\n",
       "<tr>\n",
       "         <td></td>           <th>coef</th>     <th>std err</th>      <th>z</th>      <th>P>|z|</th> <th>[95.0% Conf. Int.]</th> \n",
       "</tr>\n",
       "<tr>\n",
       "  <th>Intercept</th>      <td>    0.0476</td> <td>    0.001</td> <td>   44.817</td> <td> 0.000</td> <td>    0.046     0.050</td>\n",
       "</tr>\n",
       "<tr>\n",
       "  <th>youngm[T.True]</th> <td>    0.0047</td> <td>    0.004</td> <td>    1.189</td> <td> 0.234</td> <td>   -0.003     0.012</td>\n",
       "</tr>\n",
       "<tr>\n",
       "  <th>oldm[T.True]</th>   <td>   -0.0078</td> <td>    0.006</td> <td>   -1.323</td> <td> 0.186</td> <td>   -0.019     0.004</td>\n",
       "</tr>\n",
       "</table>"
      ],
      "text/plain": [
       "<class 'statsmodels.iolib.summary.Summary'>\n",
       "\"\"\"\n",
       "                           Logit Regression Results                           \n",
       "==============================================================================\n",
       "Dep. Variable:                    boy   No. Observations:              3940764\n",
       "Model:                          Logit   Df Residuals:                  3940761\n",
       "Method:                           MLE   Df Model:                            2\n",
       "Date:                Tue, 17 May 2016   Pseudo R-squ.:               6.086e-07\n",
       "Time:                        16:24:39   Log-Likelihood:            -2.7304e+06\n",
       "converged:                       True   LL-Null:                   -2.7304e+06\n",
       "                                        LLR p-value:                    0.1898\n",
       "==================================================================================\n",
       "                     coef    std err          z      P>|z|      [95.0% Conf. Int.]\n",
       "----------------------------------------------------------------------------------\n",
       "Intercept          0.0476      0.001     44.817      0.000         0.046     0.050\n",
       "youngm[T.True]     0.0047      0.004      1.189      0.234        -0.003     0.012\n",
       "oldm[T.True]      -0.0078      0.006     -1.323      0.186        -0.019     0.004\n",
       "==================================================================================\n",
       "\"\"\""
      ]
     },
     "execution_count": 62,
     "metadata": {},
     "output_type": "execute_result"
    }
   ],
   "source": [
    "model = smf.logit('boy ~ youngm + oldm', data=df)    \n",
    "results = model.fit()\n",
    "summarize(results)\n",
    "results.summary()"
   ]
  },
  {
   "cell_type": "markdown",
   "metadata": {},
   "source": [
    "Neither does residence status"
   ]
  },
  {
   "cell_type": "code",
   "execution_count": 63,
   "metadata": {
    "collapsed": false
   },
   "outputs": [
    {
     "name": "stdout",
     "output_type": "stream",
     "text": [
      "Optimization terminated successfully.\n",
      "         Current function value: 0.692861\n",
      "         Iterations 3\n",
      "C(restatus)[T.2]       104.7   105.5 *\n",
      "C(restatus)[T.3]       104.7   105.3  \n",
      "C(restatus)[T.4]       104.7   106.2  \n"
     ]
    },
    {
     "data": {
      "text/html": [
       "<table class=\"simpletable\">\n",
       "<caption>Logit Regression Results</caption>\n",
       "<tr>\n",
       "  <th>Dep. Variable:</th>        <td>boy</td>       <th>  No. Observations:  </th>   <td>3940764</td>  \n",
       "</tr>\n",
       "<tr>\n",
       "  <th>Model:</th>               <td>Logit</td>      <th>  Df Residuals:      </th>   <td>3940760</td>  \n",
       "</tr>\n",
       "<tr>\n",
       "  <th>Method:</th>               <td>MLE</td>       <th>  Df Model:          </th>   <td>     3</td>   \n",
       "</tr>\n",
       "<tr>\n",
       "  <th>Date:</th>          <td>Tue, 17 May 2016</td> <th>  Pseudo R-squ.:     </th>  <td>2.140e-06</td> \n",
       "</tr>\n",
       "<tr>\n",
       "  <th>Time:</th>              <td>16:25:07</td>     <th>  Log-Likelihood:    </th> <td>-2.7304e+06</td>\n",
       "</tr>\n",
       "<tr>\n",
       "  <th>converged:</th>           <td>True</td>       <th>  LL-Null:           </th> <td>-2.7304e+06</td>\n",
       "</tr>\n",
       "<tr>\n",
       "  <th> </th>                      <td> </td>        <th>  LLR p-value:       </th>  <td>0.008550</td>  \n",
       "</tr>\n",
       "</table>\n",
       "<table class=\"simpletable\">\n",
       "<tr>\n",
       "          <td></td>            <th>coef</th>     <th>std err</th>      <th>z</th>      <th>P>|z|</th> <th>[95.0% Conf. Int.]</th> \n",
       "</tr>\n",
       "<tr>\n",
       "  <th>Intercept</th>        <td>    0.0456</td> <td>    0.001</td> <td>   38.456</td> <td> 0.000</td> <td>    0.043     0.048</td>\n",
       "</tr>\n",
       "<tr>\n",
       "  <th>C(restatus)[T.2]</th> <td>    0.0077</td> <td>    0.002</td> <td>    3.329</td> <td> 0.001</td> <td>    0.003     0.012</td>\n",
       "</tr>\n",
       "<tr>\n",
       "  <th>C(restatus)[T.3]</th> <td>    0.0057</td> <td>    0.007</td> <td>    0.819</td> <td> 0.413</td> <td>   -0.008     0.019</td>\n",
       "</tr>\n",
       "<tr>\n",
       "  <th>C(restatus)[T.4]</th> <td>    0.0143</td> <td>    0.022</td> <td>    0.662</td> <td> 0.508</td> <td>   -0.028     0.057</td>\n",
       "</tr>\n",
       "</table>"
      ],
      "text/plain": [
       "<class 'statsmodels.iolib.summary.Summary'>\n",
       "\"\"\"\n",
       "                           Logit Regression Results                           \n",
       "==============================================================================\n",
       "Dep. Variable:                    boy   No. Observations:              3940764\n",
       "Model:                          Logit   Df Residuals:                  3940760\n",
       "Method:                           MLE   Df Model:                            3\n",
       "Date:                Tue, 17 May 2016   Pseudo R-squ.:               2.140e-06\n",
       "Time:                        16:25:07   Log-Likelihood:            -2.7304e+06\n",
       "converged:                       True   LL-Null:                   -2.7304e+06\n",
       "                                        LLR p-value:                  0.008550\n",
       "====================================================================================\n",
       "                       coef    std err          z      P>|z|      [95.0% Conf. Int.]\n",
       "------------------------------------------------------------------------------------\n",
       "Intercept            0.0456      0.001     38.456      0.000         0.043     0.048\n",
       "C(restatus)[T.2]     0.0077      0.002      3.329      0.001         0.003     0.012\n",
       "C(restatus)[T.3]     0.0057      0.007      0.819      0.413        -0.008     0.019\n",
       "C(restatus)[T.4]     0.0143      0.022      0.662      0.508        -0.028     0.057\n",
       "====================================================================================\n",
       "\"\"\""
      ]
     },
     "execution_count": 63,
     "metadata": {},
     "output_type": "execute_result"
    }
   ],
   "source": [
    "model = smf.logit('boy ~ C(restatus)', data=df)    \n",
    "results = model.fit()\n",
    "summarize(results)\n",
    "results.summary()"
   ]
  },
  {
   "cell_type": "markdown",
   "metadata": {},
   "source": [
    "Mother's race seems to have predictive value.  Relative to whites, black and Native American mothers have more girls; Asians have more boys."
   ]
  },
  {
   "cell_type": "code",
   "execution_count": 64,
   "metadata": {
    "collapsed": false
   },
   "outputs": [
    {
     "name": "stdout",
     "output_type": "stream",
     "text": [
      "Optimization terminated successfully.\n",
      "         Current function value: 0.692855\n",
      "         Iterations 3\n",
      "C(mbrace)[T.2]         105.1   103.2 *\n",
      "C(mbrace)[T.3]         105.1   105.5  \n",
      "C(mbrace)[T.4]         105.1   106.5 *\n"
     ]
    },
    {
     "data": {
      "text/html": [
       "<table class=\"simpletable\">\n",
       "<caption>Logit Regression Results</caption>\n",
       "<tr>\n",
       "  <th>Dep. Variable:</th>        <td>boy</td>       <th>  No. Observations:  </th>   <td>3940764</td>  \n",
       "</tr>\n",
       "<tr>\n",
       "  <th>Model:</th>               <td>Logit</td>      <th>  Df Residuals:      </th>   <td>3940760</td>  \n",
       "</tr>\n",
       "<tr>\n",
       "  <th>Method:</th>               <td>MLE</td>       <th>  Df Model:          </th>   <td>     3</td>   \n",
       "</tr>\n",
       "<tr>\n",
       "  <th>Date:</th>          <td>Tue, 17 May 2016</td> <th>  Pseudo R-squ.:     </th>  <td>1.126e-05</td> \n",
       "</tr>\n",
       "<tr>\n",
       "  <th>Time:</th>              <td>16:25:34</td>     <th>  Log-Likelihood:    </th> <td>-2.7304e+06</td>\n",
       "</tr>\n",
       "<tr>\n",
       "  <th>converged:</th>           <td>True</td>       <th>  LL-Null:           </th> <td>-2.7304e+06</td>\n",
       "</tr>\n",
       "<tr>\n",
       "  <th> </th>                      <td> </td>        <th>  LLR p-value:       </th>  <td>2.843e-13</td> \n",
       "</tr>\n",
       "</table>\n",
       "<table class=\"simpletable\">\n",
       "<tr>\n",
       "         <td></td>           <th>coef</th>     <th>std err</th>      <th>z</th>      <th>P>|z|</th> <th>[95.0% Conf. Int.]</th> \n",
       "</tr>\n",
       "<tr>\n",
       "  <th>Intercept</th>      <td>    0.0497</td> <td>    0.001</td> <td>   43.014</td> <td> 0.000</td> <td>    0.047     0.052</td>\n",
       "</tr>\n",
       "<tr>\n",
       "  <th>C(mbrace)[T.2]</th> <td>   -0.0184</td> <td>    0.003</td> <td>   -6.659</td> <td> 0.000</td> <td>   -0.024    -0.013</td>\n",
       "</tr>\n",
       "<tr>\n",
       "  <th>C(mbrace)[T.3]</th> <td>    0.0039</td> <td>    0.009</td> <td>    0.412</td> <td> 0.680</td> <td>   -0.015     0.022</td>\n",
       "</tr>\n",
       "<tr>\n",
       "  <th>C(mbrace)[T.4]</th> <td>    0.0132</td> <td>    0.004</td> <td>    3.266</td> <td> 0.001</td> <td>    0.005     0.021</td>\n",
       "</tr>\n",
       "</table>"
      ],
      "text/plain": [
       "<class 'statsmodels.iolib.summary.Summary'>\n",
       "\"\"\"\n",
       "                           Logit Regression Results                           \n",
       "==============================================================================\n",
       "Dep. Variable:                    boy   No. Observations:              3940764\n",
       "Model:                          Logit   Df Residuals:                  3940760\n",
       "Method:                           MLE   Df Model:                            3\n",
       "Date:                Tue, 17 May 2016   Pseudo R-squ.:               1.126e-05\n",
       "Time:                        16:25:34   Log-Likelihood:            -2.7304e+06\n",
       "converged:                       True   LL-Null:                   -2.7304e+06\n",
       "                                        LLR p-value:                 2.843e-13\n",
       "==================================================================================\n",
       "                     coef    std err          z      P>|z|      [95.0% Conf. Int.]\n",
       "----------------------------------------------------------------------------------\n",
       "Intercept          0.0497      0.001     43.014      0.000         0.047     0.052\n",
       "C(mbrace)[T.2]    -0.0184      0.003     -6.659      0.000        -0.024    -0.013\n",
       "C(mbrace)[T.3]     0.0039      0.009      0.412      0.680        -0.015     0.022\n",
       "C(mbrace)[T.4]     0.0132      0.004      3.266      0.001         0.005     0.021\n",
       "==================================================================================\n",
       "\"\"\""
      ]
     },
     "execution_count": 64,
     "metadata": {},
     "output_type": "execute_result"
    }
   ],
   "source": [
    "model = smf.logit('boy ~ C(mbrace)', data=df)    \n",
    "results = model.fit()\n",
    "summarize(results)\n",
    "results.summary()"
   ]
  },
  {
   "cell_type": "markdown",
   "metadata": {},
   "source": [
    "Hispanic mothers have more girls."
   ]
  },
  {
   "cell_type": "code",
   "execution_count": 65,
   "metadata": {
    "collapsed": false
   },
   "outputs": [
    {
     "name": "stdout",
     "output_type": "stream",
     "text": [
      "Optimization terminated successfully.\n",
      "         Current function value: 0.692863\n",
      "         Iterations 3\n",
      "mhisp                  105.1   104.3 *\n"
     ]
    },
    {
     "data": {
      "text/html": [
       "<table class=\"simpletable\">\n",
       "<caption>Logit Regression Results</caption>\n",
       "<tr>\n",
       "  <th>Dep. Variable:</th>        <td>boy</td>       <th>  No. Observations:  </th>   <td>3913139</td>  \n",
       "</tr>\n",
       "<tr>\n",
       "  <th>Model:</th>               <td>Logit</td>      <th>  Df Residuals:      </th>   <td>3913137</td>  \n",
       "</tr>\n",
       "<tr>\n",
       "  <th>Method:</th>               <td>MLE</td>       <th>  Df Model:          </th>   <td>     1</td>   \n",
       "</tr>\n",
       "<tr>\n",
       "  <th>Date:</th>          <td>Tue, 17 May 2016</td> <th>  Pseudo R-squ.:     </th>  <td>1.830e-06</td> \n",
       "</tr>\n",
       "<tr>\n",
       "  <th>Time:</th>              <td>16:25:39</td>     <th>  Log-Likelihood:    </th> <td>-2.7113e+06</td>\n",
       "</tr>\n",
       "<tr>\n",
       "  <th>converged:</th>           <td>True</td>       <th>  LL-Null:           </th> <td>-2.7113e+06</td>\n",
       "</tr>\n",
       "<tr>\n",
       "  <th> </th>                      <td> </td>        <th>  LLR p-value:       </th>  <td>0.001634</td>  \n",
       "</tr>\n",
       "</table>\n",
       "<table class=\"simpletable\">\n",
       "<tr>\n",
       "      <td></td>         <th>coef</th>     <th>std err</th>      <th>z</th>      <th>P>|z|</th> <th>[95.0% Conf. Int.]</th> \n",
       "</tr>\n",
       "<tr>\n",
       "  <th>Intercept</th> <td>    0.0494</td> <td>    0.001</td> <td>   42.780</td> <td> 0.000</td> <td>    0.047     0.052</td>\n",
       "</tr>\n",
       "<tr>\n",
       "  <th>mhisp</th>     <td>   -0.0075</td> <td>    0.002</td> <td>   -3.150</td> <td> 0.002</td> <td>   -0.012    -0.003</td>\n",
       "</tr>\n",
       "</table>"
      ],
      "text/plain": [
       "<class 'statsmodels.iolib.summary.Summary'>\n",
       "\"\"\"\n",
       "                           Logit Regression Results                           \n",
       "==============================================================================\n",
       "Dep. Variable:                    boy   No. Observations:              3913139\n",
       "Model:                          Logit   Df Residuals:                  3913137\n",
       "Method:                           MLE   Df Model:                            1\n",
       "Date:                Tue, 17 May 2016   Pseudo R-squ.:               1.830e-06\n",
       "Time:                        16:25:39   Log-Likelihood:            -2.7113e+06\n",
       "converged:                       True   LL-Null:                   -2.7113e+06\n",
       "                                        LLR p-value:                  0.001634\n",
       "==============================================================================\n",
       "                 coef    std err          z      P>|z|      [95.0% Conf. Int.]\n",
       "------------------------------------------------------------------------------\n",
       "Intercept      0.0494      0.001     42.780      0.000         0.047     0.052\n",
       "mhisp         -0.0075      0.002     -3.150      0.002        -0.012    -0.003\n",
       "==============================================================================\n",
       "\"\"\""
      ]
     },
     "execution_count": 65,
     "metadata": {},
     "output_type": "execute_result"
    }
   ],
   "source": [
    "model = smf.logit('boy ~ mhisp', data=df)    \n",
    "results = model.fit()\n",
    "summarize(results)\n",
    "results.summary()"
   ]
  },
  {
   "cell_type": "markdown",
   "metadata": {},
   "source": [
    "If the mother is married or unmarried but paternity is acknowledged, the sex ratio is higher (more boys)"
   ]
  },
  {
   "cell_type": "code",
   "execution_count": 66,
   "metadata": {
    "collapsed": false
   },
   "outputs": [
    {
     "name": "stdout",
     "output_type": "stream",
     "text": [
      "Optimization terminated successfully.\n",
      "         Current function value: 0.692857\n",
      "         Iterations 3\n",
      "C(mar_p)[T.Y]          102.9   105.2 *\n"
     ]
    },
    {
     "data": {
      "text/html": [
       "<table class=\"simpletable\">\n",
       "<caption>Logit Regression Results</caption>\n",
       "<tr>\n",
       "  <th>Dep. Variable:</th>        <td>boy</td>       <th>  No. Observations:  </th>   <td>3557359</td>  \n",
       "</tr>\n",
       "<tr>\n",
       "  <th>Model:</th>               <td>Logit</td>      <th>  Df Residuals:      </th>   <td>3557357</td>  \n",
       "</tr>\n",
       "<tr>\n",
       "  <th>Method:</th>               <td>MLE</td>       <th>  Df Model:          </th>   <td>     1</td>   \n",
       "</tr>\n",
       "<tr>\n",
       "  <th>Date:</th>          <td>Tue, 17 May 2016</td> <th>  Pseudo R-squ.:     </th>  <td>8.735e-06</td> \n",
       "</tr>\n",
       "<tr>\n",
       "  <th>Time:</th>              <td>16:26:06</td>     <th>  Log-Likelihood:    </th> <td>-2.4647e+06</td>\n",
       "</tr>\n",
       "<tr>\n",
       "  <th>converged:</th>           <td>True</td>       <th>  LL-Null:           </th> <td>-2.4648e+06</td>\n",
       "</tr>\n",
       "<tr>\n",
       "  <th> </th>                      <td> </td>        <th>  LLR p-value:       </th>  <td>5.309e-11</td> \n",
       "</tr>\n",
       "</table>\n",
       "<table class=\"simpletable\">\n",
       "<tr>\n",
       "        <td></td>           <th>coef</th>     <th>std err</th>      <th>z</th>      <th>P>|z|</th> <th>[95.0% Conf. Int.]</th> \n",
       "</tr>\n",
       "<tr>\n",
       "  <th>Intercept</th>     <td>    0.0289</td> <td>    0.003</td> <td>    9.480</td> <td> 0.000</td> <td>    0.023     0.035</td>\n",
       "</tr>\n",
       "<tr>\n",
       "  <th>C(mar_p)[T.Y]</th> <td>    0.0214</td> <td>    0.003</td> <td>    6.562</td> <td> 0.000</td> <td>    0.015     0.028</td>\n",
       "</tr>\n",
       "</table>"
      ],
      "text/plain": [
       "<class 'statsmodels.iolib.summary.Summary'>\n",
       "\"\"\"\n",
       "                           Logit Regression Results                           \n",
       "==============================================================================\n",
       "Dep. Variable:                    boy   No. Observations:              3557359\n",
       "Model:                          Logit   Df Residuals:                  3557357\n",
       "Method:                           MLE   Df Model:                            1\n",
       "Date:                Tue, 17 May 2016   Pseudo R-squ.:               8.735e-06\n",
       "Time:                        16:26:06   Log-Likelihood:            -2.4647e+06\n",
       "converged:                       True   LL-Null:                   -2.4648e+06\n",
       "                                        LLR p-value:                 5.309e-11\n",
       "=================================================================================\n",
       "                    coef    std err          z      P>|z|      [95.0% Conf. Int.]\n",
       "---------------------------------------------------------------------------------\n",
       "Intercept         0.0289      0.003      9.480      0.000         0.023     0.035\n",
       "C(mar_p)[T.Y]     0.0214      0.003      6.562      0.000         0.015     0.028\n",
       "=================================================================================\n",
       "\"\"\""
      ]
     },
     "execution_count": 66,
     "metadata": {},
     "output_type": "execute_result"
    }
   ],
   "source": [
    "model = smf.logit('boy ~ C(mar_p)', data=df)    \n",
    "results = model.fit()\n",
    "summarize(results)\n",
    "results.summary()"
   ]
  },
  {
   "cell_type": "markdown",
   "metadata": {},
   "source": [
    "Being unmarried predicts more girls."
   ]
  },
  {
   "cell_type": "code",
   "execution_count": 67,
   "metadata": {
    "collapsed": false
   },
   "outputs": [
    {
     "name": "stdout",
     "output_type": "stream",
     "text": [
      "Optimization terminated successfully.\n",
      "         Current function value: 0.692860\n",
      "         Iterations 3\n",
      "C(dmar)[T.2]           105.3   104.3 *\n"
     ]
    },
    {
     "data": {
      "text/html": [
       "<table class=\"simpletable\">\n",
       "<caption>Logit Regression Results</caption>\n",
       "<tr>\n",
       "  <th>Dep. Variable:</th>        <td>boy</td>       <th>  No. Observations:  </th>   <td>3940764</td>  \n",
       "</tr>\n",
       "<tr>\n",
       "  <th>Model:</th>               <td>Logit</td>      <th>  Df Residuals:      </th>   <td>3940762</td>  \n",
       "</tr>\n",
       "<tr>\n",
       "  <th>Method:</th>               <td>MLE</td>       <th>  Df Model:          </th>   <td>     1</td>   \n",
       "</tr>\n",
       "<tr>\n",
       "  <th>Date:</th>          <td>Tue, 17 May 2016</td> <th>  Pseudo R-squ.:     </th>  <td>4.091e-06</td> \n",
       "</tr>\n",
       "<tr>\n",
       "  <th>Time:</th>              <td>16:26:33</td>     <th>  Log-Likelihood:    </th> <td>-2.7304e+06</td>\n",
       "</tr>\n",
       "<tr>\n",
       "  <th>converged:</th>           <td>True</td>       <th>  LL-Null:           </th> <td>-2.7304e+06</td>\n",
       "</tr>\n",
       "<tr>\n",
       "  <th> </th>                      <td> </td>        <th>  LLR p-value:       </th>  <td>2.286e-06</td> \n",
       "</tr>\n",
       "</table>\n",
       "<table class=\"simpletable\">\n",
       "<tr>\n",
       "        <td></td>          <th>coef</th>     <th>std err</th>      <th>z</th>      <th>P>|z|</th> <th>[95.0% Conf. Int.]</th> \n",
       "</tr>\n",
       "<tr>\n",
       "  <th>Intercept</th>    <td>    0.0516</td> <td>    0.001</td> <td>   39.508</td> <td> 0.000</td> <td>    0.049     0.054</td>\n",
       "</tr>\n",
       "<tr>\n",
       "  <th>C(dmar)[T.2]</th> <td>   -0.0097</td> <td>    0.002</td> <td>   -4.726</td> <td> 0.000</td> <td>   -0.014    -0.006</td>\n",
       "</tr>\n",
       "</table>"
      ],
      "text/plain": [
       "<class 'statsmodels.iolib.summary.Summary'>\n",
       "\"\"\"\n",
       "                           Logit Regression Results                           \n",
       "==============================================================================\n",
       "Dep. Variable:                    boy   No. Observations:              3940764\n",
       "Model:                          Logit   Df Residuals:                  3940762\n",
       "Method:                           MLE   Df Model:                            1\n",
       "Date:                Tue, 17 May 2016   Pseudo R-squ.:               4.091e-06\n",
       "Time:                        16:26:33   Log-Likelihood:            -2.7304e+06\n",
       "converged:                       True   LL-Null:                   -2.7304e+06\n",
       "                                        LLR p-value:                 2.286e-06\n",
       "================================================================================\n",
       "                   coef    std err          z      P>|z|      [95.0% Conf. Int.]\n",
       "--------------------------------------------------------------------------------\n",
       "Intercept        0.0516      0.001     39.508      0.000         0.049     0.054\n",
       "C(dmar)[T.2]    -0.0097      0.002     -4.726      0.000        -0.014    -0.006\n",
       "================================================================================\n",
       "\"\"\""
      ]
     },
     "execution_count": 67,
     "metadata": {},
     "output_type": "execute_result"
    }
   ],
   "source": [
    "model = smf.logit('boy ~ C(dmar)', data=df)    \n",
    "results = model.fit()\n",
    "summarize(results)\n",
    "results.summary()"
   ]
  },
  {
   "cell_type": "markdown",
   "metadata": {},
   "source": [
    "Each level of mother's education predicts a small increase in the probability of a boy."
   ]
  },
  {
   "cell_type": "code",
   "execution_count": 68,
   "metadata": {
    "collapsed": false
   },
   "outputs": [
    {
     "name": "stdout",
     "output_type": "stream",
     "text": [
      "Optimization terminated successfully.\n",
      "         Current function value: 0.692863\n",
      "         Iterations 3\n",
      "meduc                  103.9   104.1 *\n"
     ]
    },
    {
     "data": {
      "text/html": [
       "<table class=\"simpletable\">\n",
       "<caption>Logit Regression Results</caption>\n",
       "<tr>\n",
       "  <th>Dep. Variable:</th>        <td>boy</td>       <th>  No. Observations:  </th>   <td>3522597</td>  \n",
       "</tr>\n",
       "<tr>\n",
       "  <th>Model:</th>               <td>Logit</td>      <th>  Df Residuals:      </th>   <td>3522595</td>  \n",
       "</tr>\n",
       "<tr>\n",
       "  <th>Method:</th>               <td>MLE</td>       <th>  Df Model:          </th>   <td>     1</td>   \n",
       "</tr>\n",
       "<tr>\n",
       "  <th>Date:</th>          <td>Tue, 17 May 2016</td> <th>  Pseudo R-squ.:     </th>  <td>2.858e-06</td> \n",
       "</tr>\n",
       "<tr>\n",
       "  <th>Time:</th>              <td>16:26:38</td>     <th>  Log-Likelihood:    </th> <td>-2.4407e+06</td>\n",
       "</tr>\n",
       "<tr>\n",
       "  <th>converged:</th>           <td>True</td>       <th>  LL-Null:           </th> <td>-2.4407e+06</td>\n",
       "</tr>\n",
       "<tr>\n",
       "  <th> </th>                      <td> </td>        <th>  LLR p-value:       </th>  <td>0.0001875</td> \n",
       "</tr>\n",
       "</table>\n",
       "<table class=\"simpletable\">\n",
       "<tr>\n",
       "      <td></td>         <th>coef</th>     <th>std err</th>      <th>z</th>      <th>P>|z|</th> <th>[95.0% Conf. Int.]</th> \n",
       "</tr>\n",
       "<tr>\n",
       "  <th>Intercept</th> <td>    0.0379</td> <td>    0.003</td> <td>   13.590</td> <td> 0.000</td> <td>    0.032     0.043</td>\n",
       "</tr>\n",
       "<tr>\n",
       "  <th>meduc</th>     <td>    0.0023</td> <td>    0.001</td> <td>    3.735</td> <td> 0.000</td> <td>    0.001     0.003</td>\n",
       "</tr>\n",
       "</table>"
      ],
      "text/plain": [
       "<class 'statsmodels.iolib.summary.Summary'>\n",
       "\"\"\"\n",
       "                           Logit Regression Results                           \n",
       "==============================================================================\n",
       "Dep. Variable:                    boy   No. Observations:              3522597\n",
       "Model:                          Logit   Df Residuals:                  3522595\n",
       "Method:                           MLE   Df Model:                            1\n",
       "Date:                Tue, 17 May 2016   Pseudo R-squ.:               2.858e-06\n",
       "Time:                        16:26:38   Log-Likelihood:            -2.4407e+06\n",
       "converged:                       True   LL-Null:                   -2.4407e+06\n",
       "                                        LLR p-value:                 0.0001875\n",
       "==============================================================================\n",
       "                 coef    std err          z      P>|z|      [95.0% Conf. Int.]\n",
       "------------------------------------------------------------------------------\n",
       "Intercept      0.0379      0.003     13.590      0.000         0.032     0.043\n",
       "meduc          0.0023      0.001      3.735      0.000         0.001     0.003\n",
       "==============================================================================\n",
       "\"\"\""
      ]
     },
     "execution_count": 68,
     "metadata": {},
     "output_type": "execute_result"
    }
   ],
   "source": [
    "model = smf.logit('boy ~ meduc', data=df)    \n",
    "results = model.fit()\n",
    "summarize(results)\n",
    "results.summary()"
   ]
  },
  {
   "cell_type": "code",
   "execution_count": 69,
   "metadata": {
    "collapsed": false
   },
   "outputs": [
    {
     "name": "stdout",
     "output_type": "stream",
     "text": [
      "Optimization terminated successfully.\n",
      "         Current function value: 0.692863\n",
      "         Iterations 3\n",
      "lowed                  105.0   104.1 *\n"
     ]
    },
    {
     "data": {
      "text/html": [
       "<table class=\"simpletable\">\n",
       "<caption>Logit Regression Results</caption>\n",
       "<tr>\n",
       "  <th>Dep. Variable:</th>        <td>boy</td>       <th>  No. Observations:  </th>   <td>3522597</td>  \n",
       "</tr>\n",
       "<tr>\n",
       "  <th>Model:</th>               <td>Logit</td>      <th>  Df Residuals:      </th>   <td>3522595</td>  \n",
       "</tr>\n",
       "<tr>\n",
       "  <th>Method:</th>               <td>MLE</td>       <th>  Df Model:          </th>   <td>     1</td>   \n",
       "</tr>\n",
       "<tr>\n",
       "  <th>Date:</th>          <td>Tue, 17 May 2016</td> <th>  Pseudo R-squ.:     </th>  <td>1.737e-06</td> \n",
       "</tr>\n",
       "<tr>\n",
       "  <th>Time:</th>              <td>16:26:43</td>     <th>  Log-Likelihood:    </th> <td>-2.4407e+06</td>\n",
       "</tr>\n",
       "<tr>\n",
       "  <th>converged:</th>           <td>True</td>       <th>  LL-Null:           </th> <td>-2.4407e+06</td>\n",
       "</tr>\n",
       "<tr>\n",
       "  <th> </th>                      <td> </td>        <th>  LLR p-value:       </th>  <td>0.003591</td>  \n",
       "</tr>\n",
       "</table>\n",
       "<table class=\"simpletable\">\n",
       "<tr>\n",
       "      <td></td>         <th>coef</th>     <th>std err</th>      <th>z</th>      <th>P>|z|</th> <th>[95.0% Conf. Int.]</th> \n",
       "</tr>\n",
       "<tr>\n",
       "  <th>Intercept</th> <td>    0.0489</td> <td>    0.001</td> <td>   42.080</td> <td> 0.000</td> <td>    0.047     0.051</td>\n",
       "</tr>\n",
       "<tr>\n",
       "  <th>lowed</th>     <td>   -0.0085</td> <td>    0.003</td> <td>   -2.912</td> <td> 0.004</td> <td>   -0.014    -0.003</td>\n",
       "</tr>\n",
       "</table>"
      ],
      "text/plain": [
       "<class 'statsmodels.iolib.summary.Summary'>\n",
       "\"\"\"\n",
       "                           Logit Regression Results                           \n",
       "==============================================================================\n",
       "Dep. Variable:                    boy   No. Observations:              3522597\n",
       "Model:                          Logit   Df Residuals:                  3522595\n",
       "Method:                           MLE   Df Model:                            1\n",
       "Date:                Tue, 17 May 2016   Pseudo R-squ.:               1.737e-06\n",
       "Time:                        16:26:43   Log-Likelihood:            -2.4407e+06\n",
       "converged:                       True   LL-Null:                   -2.4407e+06\n",
       "                                        LLR p-value:                  0.003591\n",
       "==============================================================================\n",
       "                 coef    std err          z      P>|z|      [95.0% Conf. Int.]\n",
       "------------------------------------------------------------------------------\n",
       "Intercept      0.0489      0.001     42.080      0.000         0.047     0.051\n",
       "lowed         -0.0085      0.003     -2.912      0.004        -0.014    -0.003\n",
       "==============================================================================\n",
       "\"\"\""
      ]
     },
     "execution_count": 69,
     "metadata": {},
     "output_type": "execute_result"
    }
   ],
   "source": [
    "model = smf.logit('boy ~ lowed', data=df)    \n",
    "results = model.fit()\n",
    "summarize(results)\n",
    "results.summary()"
   ]
  },
  {
   "cell_type": "markdown",
   "metadata": {},
   "source": [
    "Older fathers are slightly more likely to have girls (but this apparent effect could be due to chance)."
   ]
  },
  {
   "cell_type": "code",
   "execution_count": 70,
   "metadata": {
    "collapsed": false
   },
   "outputs": [
    {
     "name": "stdout",
     "output_type": "stream",
     "text": [
      "Optimization terminated successfully.\n",
      "         Current function value: 0.692832\n",
      "         Iterations 3\n",
      "fagerrec11             106.0   105.8 *\n"
     ]
    },
    {
     "data": {
      "text/html": [
       "<table class=\"simpletable\">\n",
       "<caption>Logit Regression Results</caption>\n",
       "<tr>\n",
       "  <th>Dep. Variable:</th>        <td>boy</td>       <th>  No. Observations:  </th>   <td>3443649</td>  \n",
       "</tr>\n",
       "<tr>\n",
       "  <th>Model:</th>               <td>Logit</td>      <th>  Df Residuals:      </th>   <td>3443647</td>  \n",
       "</tr>\n",
       "<tr>\n",
       "  <th>Method:</th>               <td>MLE</td>       <th>  Df Model:          </th>   <td>     1</td>   \n",
       "</tr>\n",
       "<tr>\n",
       "  <th>Date:</th>          <td>Tue, 17 May 2016</td> <th>  Pseudo R-squ.:     </th>  <td>1.017e-06</td> \n",
       "</tr>\n",
       "<tr>\n",
       "  <th>Time:</th>              <td>16:26:47</td>     <th>  Log-Likelihood:    </th> <td>-2.3859e+06</td>\n",
       "</tr>\n",
       "<tr>\n",
       "  <th>converged:</th>           <td>True</td>       <th>  LL-Null:           </th> <td>-2.3859e+06</td>\n",
       "</tr>\n",
       "<tr>\n",
       "  <th> </th>                      <td> </td>        <th>  LLR p-value:       </th>   <td>0.02764</td>  \n",
       "</tr>\n",
       "</table>\n",
       "<table class=\"simpletable\">\n",
       "<tr>\n",
       "       <td></td>         <th>coef</th>     <th>std err</th>      <th>z</th>      <th>P>|z|</th> <th>[95.0% Conf. Int.]</th> \n",
       "</tr>\n",
       "<tr>\n",
       "  <th>Intercept</th>  <td>    0.0583</td> <td>    0.004</td> <td>   15.100</td> <td> 0.000</td> <td>    0.051     0.066</td>\n",
       "</tr>\n",
       "<tr>\n",
       "  <th>fagerrec11</th> <td>   -0.0017</td> <td>    0.001</td> <td>   -2.202</td> <td> 0.028</td> <td>   -0.003    -0.000</td>\n",
       "</tr>\n",
       "</table>"
      ],
      "text/plain": [
       "<class 'statsmodels.iolib.summary.Summary'>\n",
       "\"\"\"\n",
       "                           Logit Regression Results                           \n",
       "==============================================================================\n",
       "Dep. Variable:                    boy   No. Observations:              3443649\n",
       "Model:                          Logit   Df Residuals:                  3443647\n",
       "Method:                           MLE   Df Model:                            1\n",
       "Date:                Tue, 17 May 2016   Pseudo R-squ.:               1.017e-06\n",
       "Time:                        16:26:47   Log-Likelihood:            -2.3859e+06\n",
       "converged:                       True   LL-Null:                   -2.3859e+06\n",
       "                                        LLR p-value:                   0.02764\n",
       "==============================================================================\n",
       "                 coef    std err          z      P>|z|      [95.0% Conf. Int.]\n",
       "------------------------------------------------------------------------------\n",
       "Intercept      0.0583      0.004     15.100      0.000         0.051     0.066\n",
       "fagerrec11    -0.0017      0.001     -2.202      0.028        -0.003    -0.000\n",
       "==============================================================================\n",
       "\"\"\""
      ]
     },
     "execution_count": 70,
     "metadata": {},
     "output_type": "execute_result"
    }
   ],
   "source": [
    "model = smf.logit('boy ~ fagerrec11', data=df)    \n",
    "results = model.fit()\n",
    "summarize(results)\n",
    "results.summary()"
   ]
  },
  {
   "cell_type": "code",
   "execution_count": 71,
   "metadata": {
    "collapsed": false
   },
   "outputs": [
    {
     "name": "stdout",
     "output_type": "stream",
     "text": [
      "Optimization terminated successfully.\n",
      "         Current function value: 0.692831\n",
      "         Iterations 3\n",
      "youngf                 105.2   106.5  \n",
      "oldf                   105.2   103.5 *\n"
     ]
    },
    {
     "data": {
      "text/html": [
       "<table class=\"simpletable\">\n",
       "<caption>Logit Regression Results</caption>\n",
       "<tr>\n",
       "  <th>Dep. Variable:</th>        <td>boy</td>       <th>  No. Observations:  </th>   <td>3443649</td>  \n",
       "</tr>\n",
       "<tr>\n",
       "  <th>Model:</th>               <td>Logit</td>      <th>  Df Residuals:      </th>   <td>3443646</td>  \n",
       "</tr>\n",
       "<tr>\n",
       "  <th>Method:</th>               <td>MLE</td>       <th>  Df Model:          </th>   <td>     2</td>   \n",
       "</tr>\n",
       "<tr>\n",
       "  <th>Date:</th>          <td>Tue, 17 May 2016</td> <th>  Pseudo R-squ.:     </th>  <td>2.423e-06</td> \n",
       "</tr>\n",
       "<tr>\n",
       "  <th>Time:</th>              <td>16:26:51</td>     <th>  Log-Likelihood:    </th> <td>-2.3859e+06</td>\n",
       "</tr>\n",
       "<tr>\n",
       "  <th>converged:</th>           <td>True</td>       <th>  LL-Null:           </th> <td>-2.3859e+06</td>\n",
       "</tr>\n",
       "<tr>\n",
       "  <th> </th>                      <td> </td>        <th>  LLR p-value:       </th>  <td>0.003089</td>  \n",
       "</tr>\n",
       "</table>\n",
       "<table class=\"simpletable\">\n",
       "<tr>\n",
       "      <td></td>         <th>coef</th>     <th>std err</th>      <th>z</th>      <th>P>|z|</th> <th>[95.0% Conf. Int.]</th> \n",
       "</tr>\n",
       "<tr>\n",
       "  <th>Intercept</th> <td>    0.0504</td> <td>    0.001</td> <td>   45.235</td> <td> 0.000</td> <td>    0.048     0.053</td>\n",
       "</tr>\n",
       "<tr>\n",
       "  <th>youngf</th>    <td>    0.0127</td> <td>    0.007</td> <td>    1.908</td> <td> 0.056</td> <td>   -0.000     0.026</td>\n",
       "</tr>\n",
       "<tr>\n",
       "  <th>oldf</th>      <td>   -0.0160</td> <td>    0.006</td> <td>   -2.752</td> <td> 0.006</td> <td>   -0.027    -0.005</td>\n",
       "</tr>\n",
       "</table>"
      ],
      "text/plain": [
       "<class 'statsmodels.iolib.summary.Summary'>\n",
       "\"\"\"\n",
       "                           Logit Regression Results                           \n",
       "==============================================================================\n",
       "Dep. Variable:                    boy   No. Observations:              3443649\n",
       "Model:                          Logit   Df Residuals:                  3443646\n",
       "Method:                           MLE   Df Model:                            2\n",
       "Date:                Tue, 17 May 2016   Pseudo R-squ.:               2.423e-06\n",
       "Time:                        16:26:51   Log-Likelihood:            -2.3859e+06\n",
       "converged:                       True   LL-Null:                   -2.3859e+06\n",
       "                                        LLR p-value:                  0.003089\n",
       "==============================================================================\n",
       "                 coef    std err          z      P>|z|      [95.0% Conf. Int.]\n",
       "------------------------------------------------------------------------------\n",
       "Intercept      0.0504      0.001     45.235      0.000         0.048     0.053\n",
       "youngf         0.0127      0.007      1.908      0.056        -0.000     0.026\n",
       "oldf          -0.0160      0.006     -2.752      0.006        -0.027    -0.005\n",
       "==============================================================================\n",
       "\"\"\""
      ]
     },
     "execution_count": 71,
     "metadata": {},
     "output_type": "execute_result"
    }
   ],
   "source": [
    "model = smf.logit('boy ~ youngf + oldf', data=df)    \n",
    "results = model.fit()\n",
    "summarize(results)\n",
    "results.summary()"
   ]
  },
  {
   "cell_type": "markdown",
   "metadata": {},
   "source": [
    "Predictions based on father's race are similar to those based on mother's race: more girls for black and Native American fathers; more boys for Asian fathers."
   ]
  },
  {
   "cell_type": "code",
   "execution_count": 72,
   "metadata": {
    "collapsed": false
   },
   "outputs": [
    {
     "name": "stdout",
     "output_type": "stream",
     "text": [
      "Optimization terminated successfully.\n",
      "         Current function value: 0.692818\n",
      "         Iterations 3\n",
      "C(fbrace)[T.2.0]       105.4   103.5 *\n",
      "C(fbrace)[T.3.0]       105.4   105.2  \n",
      "C(fbrace)[T.4.0]       105.4   107.0 *\n"
     ]
    },
    {
     "data": {
      "text/html": [
       "<table class=\"simpletable\">\n",
       "<caption>Logit Regression Results</caption>\n",
       "<tr>\n",
       "  <th>Dep. Variable:</th>        <td>boy</td>       <th>  No. Observations:  </th>   <td>3201200</td>  \n",
       "</tr>\n",
       "<tr>\n",
       "  <th>Model:</th>               <td>Logit</td>      <th>  Df Residuals:      </th>   <td>3201196</td>  \n",
       "</tr>\n",
       "<tr>\n",
       "  <th>Method:</th>               <td>MLE</td>       <th>  Df Model:          </th>   <td>     3</td>   \n",
       "</tr>\n",
       "<tr>\n",
       "  <th>Date:</th>          <td>Tue, 17 May 2016</td> <th>  Pseudo R-squ.:     </th>  <td>1.082e-05</td> \n",
       "</tr>\n",
       "<tr>\n",
       "  <th>Time:</th>              <td>16:27:18</td>     <th>  Log-Likelihood:    </th> <td>-2.2179e+06</td>\n",
       "</tr>\n",
       "<tr>\n",
       "  <th>converged:</th>           <td>True</td>       <th>  LL-Null:           </th> <td>-2.2179e+06</td>\n",
       "</tr>\n",
       "<tr>\n",
       "  <th> </th>                      <td> </td>        <th>  LLR p-value:       </th>  <td>2.121e-10</td> \n",
       "</tr>\n",
       "</table>\n",
       "<table class=\"simpletable\">\n",
       "<tr>\n",
       "          <td></td>            <th>coef</th>     <th>std err</th>      <th>z</th>      <th>P>|z|</th> <th>[95.0% Conf. Int.]</th> \n",
       "</tr>\n",
       "<tr>\n",
       "  <th>Intercept</th>        <td>    0.0523</td> <td>    0.001</td> <td>   41.046</td> <td> 0.000</td> <td>    0.050     0.055</td>\n",
       "</tr>\n",
       "<tr>\n",
       "  <th>C(fbrace)[T.2.0]</th> <td>   -0.0176</td> <td>    0.003</td> <td>   -5.566</td> <td> 0.000</td> <td>   -0.024    -0.011</td>\n",
       "</tr>\n",
       "<tr>\n",
       "  <th>C(fbrace)[T.3.0]</th> <td>   -0.0012</td> <td>    0.011</td> <td>   -0.114</td> <td> 0.909</td> <td>   -0.022     0.020</td>\n",
       "</tr>\n",
       "<tr>\n",
       "  <th>C(fbrace)[T.4.0]</th> <td>    0.0153</td> <td>    0.004</td> <td>    3.455</td> <td> 0.001</td> <td>    0.007     0.024</td>\n",
       "</tr>\n",
       "</table>"
      ],
      "text/plain": [
       "<class 'statsmodels.iolib.summary.Summary'>\n",
       "\"\"\"\n",
       "                           Logit Regression Results                           \n",
       "==============================================================================\n",
       "Dep. Variable:                    boy   No. Observations:              3201200\n",
       "Model:                          Logit   Df Residuals:                  3201196\n",
       "Method:                           MLE   Df Model:                            3\n",
       "Date:                Tue, 17 May 2016   Pseudo R-squ.:               1.082e-05\n",
       "Time:                        16:27:18   Log-Likelihood:            -2.2179e+06\n",
       "converged:                       True   LL-Null:                   -2.2179e+06\n",
       "                                        LLR p-value:                 2.121e-10\n",
       "====================================================================================\n",
       "                       coef    std err          z      P>|z|      [95.0% Conf. Int.]\n",
       "------------------------------------------------------------------------------------\n",
       "Intercept            0.0523      0.001     41.046      0.000         0.050     0.055\n",
       "C(fbrace)[T.2.0]    -0.0176      0.003     -5.566      0.000        -0.024    -0.011\n",
       "C(fbrace)[T.3.0]    -0.0012      0.011     -0.114      0.909        -0.022     0.020\n",
       "C(fbrace)[T.4.0]     0.0153      0.004      3.455      0.001         0.007     0.024\n",
       "====================================================================================\n",
       "\"\"\""
      ]
     },
     "execution_count": 72,
     "metadata": {},
     "output_type": "execute_result"
    }
   ],
   "source": [
    "model = smf.logit('boy ~ C(fbrace)', data=df)    \n",
    "results = model.fit()\n",
    "summarize(results)\n",
    "results.summary()"
   ]
  },
  {
   "cell_type": "markdown",
   "metadata": {},
   "source": [
    "If the father is Hispanic, that predicts more girls."
   ]
  },
  {
   "cell_type": "code",
   "execution_count": 73,
   "metadata": {
    "collapsed": false
   },
   "outputs": [
    {
     "name": "stdout",
     "output_type": "stream",
     "text": [
      "Optimization terminated successfully.\n",
      "         Current function value: 0.692829\n",
      "         Iterations 3\n",
      "fhisp                  105.4   104.3 *\n"
     ]
    },
    {
     "data": {
      "text/html": [
       "<table class=\"simpletable\">\n",
       "<caption>Logit Regression Results</caption>\n",
       "<tr>\n",
       "  <th>Dep. Variable:</th>        <td>boy</td>       <th>  No. Observations:  </th>   <td>3396851</td>  \n",
       "</tr>\n",
       "<tr>\n",
       "  <th>Model:</th>               <td>Logit</td>      <th>  Df Residuals:      </th>   <td>3396849</td>  \n",
       "</tr>\n",
       "<tr>\n",
       "  <th>Method:</th>               <td>MLE</td>       <th>  Df Model:          </th>   <td>     1</td>   \n",
       "</tr>\n",
       "<tr>\n",
       "  <th>Date:</th>          <td>Tue, 17 May 2016</td> <th>  Pseudo R-squ.:     </th>  <td>3.902e-06</td> \n",
       "</tr>\n",
       "<tr>\n",
       "  <th>Time:</th>              <td>16:27:24</td>     <th>  Log-Likelihood:    </th> <td>-2.3534e+06</td>\n",
       "</tr>\n",
       "<tr>\n",
       "  <th>converged:</th>           <td>True</td>       <th>  LL-Null:           </th> <td>-2.3534e+06</td>\n",
       "</tr>\n",
       "<tr>\n",
       "  <th> </th>                      <td> </td>        <th>  LLR p-value:       </th>  <td>1.824e-05</td> \n",
       "</tr>\n",
       "</table>\n",
       "<table class=\"simpletable\">\n",
       "<tr>\n",
       "      <td></td>         <th>coef</th>     <th>std err</th>      <th>z</th>      <th>P>|z|</th> <th>[95.0% Conf. Int.]</th> \n",
       "</tr>\n",
       "<tr>\n",
       "  <th>Intercept</th> <td>    0.0528</td> <td>    0.001</td> <td>   42.594</td> <td> 0.000</td> <td>    0.050     0.055</td>\n",
       "</tr>\n",
       "<tr>\n",
       "  <th>fhisp</th>     <td>   -0.0110</td> <td>    0.003</td> <td>   -4.286</td> <td> 0.000</td> <td>   -0.016    -0.006</td>\n",
       "</tr>\n",
       "</table>"
      ],
      "text/plain": [
       "<class 'statsmodels.iolib.summary.Summary'>\n",
       "\"\"\"\n",
       "                           Logit Regression Results                           \n",
       "==============================================================================\n",
       "Dep. Variable:                    boy   No. Observations:              3396851\n",
       "Model:                          Logit   Df Residuals:                  3396849\n",
       "Method:                           MLE   Df Model:                            1\n",
       "Date:                Tue, 17 May 2016   Pseudo R-squ.:               3.902e-06\n",
       "Time:                        16:27:24   Log-Likelihood:            -2.3534e+06\n",
       "converged:                       True   LL-Null:                   -2.3534e+06\n",
       "                                        LLR p-value:                 1.824e-05\n",
       "==============================================================================\n",
       "                 coef    std err          z      P>|z|      [95.0% Conf. Int.]\n",
       "------------------------------------------------------------------------------\n",
       "Intercept      0.0528      0.001     42.594      0.000         0.050     0.055\n",
       "fhisp         -0.0110      0.003     -4.286      0.000        -0.016    -0.006\n",
       "==============================================================================\n",
       "\"\"\""
      ]
     },
     "execution_count": 73,
     "metadata": {},
     "output_type": "execute_result"
    }
   ],
   "source": [
    "model = smf.logit('boy ~ fhisp', data=df)    \n",
    "results = model.fit()\n",
    "summarize(results)\n",
    "results.summary()"
   ]
  },
  {
   "cell_type": "markdown",
   "metadata": {},
   "source": [
    "Father's education level might predict more boys, but the apparent effect could be due to chance."
   ]
  },
  {
   "cell_type": "code",
   "execution_count": 74,
   "metadata": {
    "collapsed": false
   },
   "outputs": [
    {
     "name": "stdout",
     "output_type": "stream",
     "text": [
      "Optimization terminated successfully.\n",
      "         Current function value: 0.692828\n",
      "         Iterations 3\n",
      "feduc                  104.5   104.6 *\n"
     ]
    },
    {
     "data": {
      "text/html": [
       "<table class=\"simpletable\">\n",
       "<caption>Logit Regression Results</caption>\n",
       "<tr>\n",
       "  <th>Dep. Variable:</th>        <td>boy</td>       <th>  No. Observations:  </th>   <td>3029948</td>  \n",
       "</tr>\n",
       "<tr>\n",
       "  <th>Model:</th>               <td>Logit</td>      <th>  Df Residuals:      </th>   <td>3029946</td>  \n",
       "</tr>\n",
       "<tr>\n",
       "  <th>Method:</th>               <td>MLE</td>       <th>  Df Model:          </th>   <td>     1</td>   \n",
       "</tr>\n",
       "<tr>\n",
       "  <th>Date:</th>          <td>Tue, 17 May 2016</td> <th>  Pseudo R-squ.:     </th>  <td>1.471e-06</td> \n",
       "</tr>\n",
       "<tr>\n",
       "  <th>Time:</th>              <td>16:27:28</td>     <th>  Log-Likelihood:    </th> <td>-2.0992e+06</td>\n",
       "</tr>\n",
       "<tr>\n",
       "  <th>converged:</th>           <td>True</td>       <th>  LL-Null:           </th> <td>-2.0992e+06</td>\n",
       "</tr>\n",
       "<tr>\n",
       "  <th> </th>                      <td> </td>        <th>  LLR p-value:       </th>   <td>0.01294</td>  \n",
       "</tr>\n",
       "</table>\n",
       "<table class=\"simpletable\">\n",
       "<tr>\n",
       "      <td></td>         <th>coef</th>     <th>std err</th>      <th>z</th>      <th>P>|z|</th> <th>[95.0% Conf. Int.]</th> \n",
       "</tr>\n",
       "<tr>\n",
       "  <th>Intercept</th> <td>    0.0437</td> <td>    0.003</td> <td>   14.857</td> <td> 0.000</td> <td>    0.038     0.049</td>\n",
       "</tr>\n",
       "<tr>\n",
       "  <th>feduc</th>     <td>    0.0016</td> <td>    0.001</td> <td>    2.485</td> <td> 0.013</td> <td>    0.000     0.003</td>\n",
       "</tr>\n",
       "</table>"
      ],
      "text/plain": [
       "<class 'statsmodels.iolib.summary.Summary'>\n",
       "\"\"\"\n",
       "                           Logit Regression Results                           \n",
       "==============================================================================\n",
       "Dep. Variable:                    boy   No. Observations:              3029948\n",
       "Model:                          Logit   Df Residuals:                  3029946\n",
       "Method:                           MLE   Df Model:                            1\n",
       "Date:                Tue, 17 May 2016   Pseudo R-squ.:               1.471e-06\n",
       "Time:                        16:27:28   Log-Likelihood:            -2.0992e+06\n",
       "converged:                       True   LL-Null:                   -2.0992e+06\n",
       "                                        LLR p-value:                   0.01294\n",
       "==============================================================================\n",
       "                 coef    std err          z      P>|z|      [95.0% Conf. Int.]\n",
       "------------------------------------------------------------------------------\n",
       "Intercept      0.0437      0.003     14.857      0.000         0.038     0.049\n",
       "feduc          0.0016      0.001      2.485      0.013         0.000     0.003\n",
       "==============================================================================\n",
       "\"\"\""
      ]
     },
     "execution_count": 74,
     "metadata": {},
     "output_type": "execute_result"
    }
   ],
   "source": [
    "model = smf.logit('boy ~ feduc', data=df)    \n",
    "results = model.fit()\n",
    "summarize(results)\n",
    "results.summary()"
   ]
  },
  {
   "cell_type": "markdown",
   "metadata": {},
   "source": [
    "Babies with high birth order are slightly more likely to be girls."
   ]
  },
  {
   "cell_type": "code",
   "execution_count": 75,
   "metadata": {
    "collapsed": false
   },
   "outputs": [
    {
     "name": "stdout",
     "output_type": "stream",
     "text": [
      "Optimization terminated successfully.\n",
      "         Current function value: 0.692860\n",
      "         Iterations 3\n",
      "lbo_rec                105.7   105.3 *\n"
     ]
    },
    {
     "data": {
      "text/html": [
       "<table class=\"simpletable\">\n",
       "<caption>Logit Regression Results</caption>\n",
       "<tr>\n",
       "  <th>Dep. Variable:</th>        <td>boy</td>       <th>  No. Observations:  </th>   <td>3922232</td>  \n",
       "</tr>\n",
       "<tr>\n",
       "  <th>Model:</th>               <td>Logit</td>      <th>  Df Residuals:      </th>   <td>3922230</td>  \n",
       "</tr>\n",
       "<tr>\n",
       "  <th>Method:</th>               <td>MLE</td>       <th>  Df Model:          </th>   <td>     1</td>   \n",
       "</tr>\n",
       "<tr>\n",
       "  <th>Date:</th>          <td>Tue, 17 May 2016</td> <th>  Pseudo R-squ.:     </th>  <td>4.349e-06</td> \n",
       "</tr>\n",
       "<tr>\n",
       "  <th>Time:</th>              <td>16:27:35</td>     <th>  Log-Likelihood:    </th> <td>-2.7176e+06</td>\n",
       "</tr>\n",
       "<tr>\n",
       "  <th>converged:</th>           <td>True</td>       <th>  LL-Null:           </th> <td>-2.7176e+06</td>\n",
       "</tr>\n",
       "<tr>\n",
       "  <th> </th>                      <td> </td>        <th>  LLR p-value:       </th>  <td>1.163e-06</td> \n",
       "</tr>\n",
       "</table>\n",
       "<table class=\"simpletable\">\n",
       "<tr>\n",
       "      <td></td>         <th>coef</th>     <th>std err</th>      <th>z</th>      <th>P>|z|</th> <th>[95.0% Conf. Int.]</th> \n",
       "</tr>\n",
       "<tr>\n",
       "  <th>Intercept</th> <td>    0.0559</td> <td>    0.002</td> <td>   28.436</td> <td> 0.000</td> <td>    0.052     0.060</td>\n",
       "</tr>\n",
       "<tr>\n",
       "  <th>lbo_rec</th>   <td>   -0.0039</td> <td>    0.001</td> <td>   -4.862</td> <td> 0.000</td> <td>   -0.005    -0.002</td>\n",
       "</tr>\n",
       "</table>"
      ],
      "text/plain": [
       "<class 'statsmodels.iolib.summary.Summary'>\n",
       "\"\"\"\n",
       "                           Logit Regression Results                           \n",
       "==============================================================================\n",
       "Dep. Variable:                    boy   No. Observations:              3922232\n",
       "Model:                          Logit   Df Residuals:                  3922230\n",
       "Method:                           MLE   Df Model:                            1\n",
       "Date:                Tue, 17 May 2016   Pseudo R-squ.:               4.349e-06\n",
       "Time:                        16:27:35   Log-Likelihood:            -2.7176e+06\n",
       "converged:                       True   LL-Null:                   -2.7176e+06\n",
       "                                        LLR p-value:                 1.163e-06\n",
       "==============================================================================\n",
       "                 coef    std err          z      P>|z|      [95.0% Conf. Int.]\n",
       "------------------------------------------------------------------------------\n",
       "Intercept      0.0559      0.002     28.436      0.000         0.052     0.060\n",
       "lbo_rec       -0.0039      0.001     -4.862      0.000        -0.005    -0.002\n",
       "==============================================================================\n",
       "\"\"\""
      ]
     },
     "execution_count": 75,
     "metadata": {},
     "output_type": "execute_result"
    }
   ],
   "source": [
    "model = smf.logit('boy ~ lbo_rec', data=df)    \n",
    "results = model.fit()\n",
    "summarize(results)\n",
    "results.summary()"
   ]
  },
  {
   "cell_type": "code",
   "execution_count": 76,
   "metadata": {
    "collapsed": false
   },
   "outputs": [
    {
     "name": "stdout",
     "output_type": "stream",
     "text": [
      "Optimization terminated successfully.\n",
      "         Current function value: 0.692863\n",
      "         Iterations 3\n",
      "highbo                 104.9   104.0  \n"
     ]
    },
    {
     "data": {
      "text/html": [
       "<table class=\"simpletable\">\n",
       "<caption>Logit Regression Results</caption>\n",
       "<tr>\n",
       "  <th>Dep. Variable:</th>        <td>boy</td>       <th>  No. Observations:  </th>   <td>3922232</td>  \n",
       "</tr>\n",
       "<tr>\n",
       "  <th>Model:</th>               <td>Logit</td>      <th>  Df Residuals:      </th>   <td>3922230</td>  \n",
       "</tr>\n",
       "<tr>\n",
       "  <th>Method:</th>               <td>MLE</td>       <th>  Df Model:          </th>   <td>     1</td>   \n",
       "</tr>\n",
       "<tr>\n",
       "  <th>Date:</th>          <td>Tue, 17 May 2016</td> <th>  Pseudo R-squ.:     </th>  <td>6.688e-07</td> \n",
       "</tr>\n",
       "<tr>\n",
       "  <th>Time:</th>              <td>16:27:41</td>     <th>  Log-Likelihood:    </th> <td>-2.7176e+06</td>\n",
       "</tr>\n",
       "<tr>\n",
       "  <th>converged:</th>           <td>True</td>       <th>  LL-Null:           </th> <td>-2.7176e+06</td>\n",
       "</tr>\n",
       "<tr>\n",
       "  <th> </th>                      <td> </td>        <th>  LLR p-value:       </th>   <td>0.05657</td>  \n",
       "</tr>\n",
       "</table>\n",
       "<table class=\"simpletable\">\n",
       "<tr>\n",
       "      <td></td>         <th>coef</th>     <th>std err</th>      <th>z</th>      <th>P>|z|</th> <th>[95.0% Conf. Int.]</th> \n",
       "</tr>\n",
       "<tr>\n",
       "  <th>Intercept</th> <td>    0.0481</td> <td>    0.001</td> <td>   46.434</td> <td> 0.000</td> <td>    0.046     0.050</td>\n",
       "</tr>\n",
       "<tr>\n",
       "  <th>highbo</th>    <td>   -0.0089</td> <td>    0.005</td> <td>   -1.907</td> <td> 0.057</td> <td>   -0.018     0.000</td>\n",
       "</tr>\n",
       "</table>"
      ],
      "text/plain": [
       "<class 'statsmodels.iolib.summary.Summary'>\n",
       "\"\"\"\n",
       "                           Logit Regression Results                           \n",
       "==============================================================================\n",
       "Dep. Variable:                    boy   No. Observations:              3922232\n",
       "Model:                          Logit   Df Residuals:                  3922230\n",
       "Method:                           MLE   Df Model:                            1\n",
       "Date:                Tue, 17 May 2016   Pseudo R-squ.:               6.688e-07\n",
       "Time:                        16:27:41   Log-Likelihood:            -2.7176e+06\n",
       "converged:                       True   LL-Null:                   -2.7176e+06\n",
       "                                        LLR p-value:                   0.05657\n",
       "==============================================================================\n",
       "                 coef    std err          z      P>|z|      [95.0% Conf. Int.]\n",
       "------------------------------------------------------------------------------\n",
       "Intercept      0.0481      0.001     46.434      0.000         0.046     0.050\n",
       "highbo        -0.0089      0.005     -1.907      0.057        -0.018     0.000\n",
       "==============================================================================\n",
       "\"\"\""
      ]
     },
     "execution_count": 76,
     "metadata": {},
     "output_type": "execute_result"
    }
   ],
   "source": [
    "model = smf.logit('boy ~ highbo', data=df)    \n",
    "results = model.fit()\n",
    "summarize(results)\n",
    "results.summary()"
   ]
  },
  {
   "cell_type": "markdown",
   "metadata": {},
   "source": [
    "Strangely, prenatal visits are associated with an increased probability of girls."
   ]
  },
  {
   "cell_type": "code",
   "execution_count": 77,
   "metadata": {
    "collapsed": false
   },
   "outputs": [
    {
     "name": "stdout",
     "output_type": "stream",
     "text": [
      "Optimization terminated successfully.\n",
      "         Current function value: 0.692829\n",
      "         Iterations 3\n",
      "previs                 104.6   103.6 *\n"
     ]
    },
    {
     "data": {
      "text/html": [
       "<table class=\"simpletable\">\n",
       "<caption>Logit Regression Results</caption>\n",
       "<tr>\n",
       "  <th>Dep. Variable:</th>        <td>boy</td>       <th>  No. Observations:  </th>   <td>3822139</td>  \n",
       "</tr>\n",
       "<tr>\n",
       "  <th>Model:</th>               <td>Logit</td>      <th>  Df Residuals:      </th>   <td>3822137</td>  \n",
       "</tr>\n",
       "<tr>\n",
       "  <th>Method:</th>               <td>MLE</td>       <th>  Df Model:          </th>   <td>     1</td>   \n",
       "</tr>\n",
       "<tr>\n",
       "  <th>Date:</th>          <td>Tue, 17 May 2016</td> <th>  Pseudo R-squ.:     </th>  <td>5.759e-05</td> \n",
       "</tr>\n",
       "<tr>\n",
       "  <th>Time:</th>              <td>16:27:46</td>     <th>  Log-Likelihood:    </th> <td>-2.6481e+06</td>\n",
       "</tr>\n",
       "<tr>\n",
       "  <th>converged:</th>           <td>True</td>       <th>  LL-Null:           </th> <td>-2.6482e+06</td>\n",
       "</tr>\n",
       "<tr>\n",
       "  <th> </th>                      <td> </td>        <th>  LLR p-value:       </th>  <td>2.660e-68</td> \n",
       "</tr>\n",
       "</table>\n",
       "<table class=\"simpletable\">\n",
       "<tr>\n",
       "      <td></td>         <th>coef</th>     <th>std err</th>      <th>z</th>      <th>P>|z|</th> <th>[95.0% Conf. Int.]</th> \n",
       "</tr>\n",
       "<tr>\n",
       "  <th>Intercept</th> <td>    0.0453</td> <td>    0.001</td> <td>   44.004</td> <td> 0.000</td> <td>    0.043     0.047</td>\n",
       "</tr>\n",
       "<tr>\n",
       "  <th>previs</th>    <td>   -0.0095</td> <td>    0.001</td> <td>  -17.463</td> <td> 0.000</td> <td>   -0.011    -0.008</td>\n",
       "</tr>\n",
       "</table>"
      ],
      "text/plain": [
       "<class 'statsmodels.iolib.summary.Summary'>\n",
       "\"\"\"\n",
       "                           Logit Regression Results                           \n",
       "==============================================================================\n",
       "Dep. Variable:                    boy   No. Observations:              3822139\n",
       "Model:                          Logit   Df Residuals:                  3822137\n",
       "Method:                           MLE   Df Model:                            1\n",
       "Date:                Tue, 17 May 2016   Pseudo R-squ.:               5.759e-05\n",
       "Time:                        16:27:46   Log-Likelihood:            -2.6481e+06\n",
       "converged:                       True   LL-Null:                   -2.6482e+06\n",
       "                                        LLR p-value:                 2.660e-68\n",
       "==============================================================================\n",
       "                 coef    std err          z      P>|z|      [95.0% Conf. Int.]\n",
       "------------------------------------------------------------------------------\n",
       "Intercept      0.0453      0.001     44.004      0.000         0.043     0.047\n",
       "previs        -0.0095      0.001    -17.463      0.000        -0.011    -0.008\n",
       "==============================================================================\n",
       "\"\"\""
      ]
     },
     "execution_count": 77,
     "metadata": {},
     "output_type": "execute_result"
    }
   ],
   "source": [
    "model = smf.logit('boy ~ previs', data=df)    \n",
    "results = model.fit()\n",
    "summarize(results)\n",
    "results.summary()"
   ]
  },
  {
   "cell_type": "markdown",
   "metadata": {},
   "source": [
    "The effect seems to be non-linear at zero, so I'm adding a boolean for no prenatal visits."
   ]
  },
  {
   "cell_type": "code",
   "execution_count": 78,
   "metadata": {
    "collapsed": false
   },
   "outputs": [
    {
     "name": "stdout",
     "output_type": "stream",
     "text": [
      "Optimization terminated successfully.\n",
      "         Current function value: 0.692828\n",
      "         Iterations 3\n",
      "no_previs              104.7   102.4 *\n",
      "previs                 104.7   103.6 *\n"
     ]
    },
    {
     "data": {
      "text/html": [
       "<table class=\"simpletable\">\n",
       "<caption>Logit Regression Results</caption>\n",
       "<tr>\n",
       "  <th>Dep. Variable:</th>        <td>boy</td>       <th>  No. Observations:  </th>   <td>3822139</td>  \n",
       "</tr>\n",
       "<tr>\n",
       "  <th>Model:</th>               <td>Logit</td>      <th>  Df Residuals:      </th>   <td>3822136</td>  \n",
       "</tr>\n",
       "<tr>\n",
       "  <th>Method:</th>               <td>MLE</td>       <th>  Df Model:          </th>   <td>     2</td>   \n",
       "</tr>\n",
       "<tr>\n",
       "  <th>Date:</th>          <td>Tue, 17 May 2016</td> <th>  Pseudo R-squ.:     </th>  <td>5.862e-05</td> \n",
       "</tr>\n",
       "<tr>\n",
       "  <th>Time:</th>              <td>16:27:52</td>     <th>  Log-Likelihood:    </th> <td>-2.6481e+06</td>\n",
       "</tr>\n",
       "<tr>\n",
       "  <th>converged:</th>           <td>True</td>       <th>  LL-Null:           </th> <td>-2.6482e+06</td>\n",
       "</tr>\n",
       "<tr>\n",
       "  <th> </th>                      <td> </td>        <th>  LLR p-value:       </th>  <td>3.790e-68</td> \n",
       "</tr>\n",
       "</table>\n",
       "<table class=\"simpletable\">\n",
       "<tr>\n",
       "      <td></td>         <th>coef</th>     <th>std err</th>      <th>z</th>      <th>P>|z|</th> <th>[95.0% Conf. Int.]</th> \n",
       "</tr>\n",
       "<tr>\n",
       "  <th>Intercept</th> <td>    0.0455</td> <td>    0.001</td> <td>   44.041</td> <td> 0.000</td> <td>    0.043     0.048</td>\n",
       "</tr>\n",
       "<tr>\n",
       "  <th>no_previs</th> <td>   -0.0216</td> <td>    0.009</td> <td>   -2.339</td> <td> 0.019</td> <td>   -0.040    -0.004</td>\n",
       "</tr>\n",
       "<tr>\n",
       "  <th>previs</th>    <td>   -0.0101</td> <td>    0.001</td> <td>  -17.064</td> <td> 0.000</td> <td>   -0.011    -0.009</td>\n",
       "</tr>\n",
       "</table>"
      ],
      "text/plain": [
       "<class 'statsmodels.iolib.summary.Summary'>\n",
       "\"\"\"\n",
       "                           Logit Regression Results                           \n",
       "==============================================================================\n",
       "Dep. Variable:                    boy   No. Observations:              3822139\n",
       "Model:                          Logit   Df Residuals:                  3822136\n",
       "Method:                           MLE   Df Model:                            2\n",
       "Date:                Tue, 17 May 2016   Pseudo R-squ.:               5.862e-05\n",
       "Time:                        16:27:52   Log-Likelihood:            -2.6481e+06\n",
       "converged:                       True   LL-Null:                   -2.6482e+06\n",
       "                                        LLR p-value:                 3.790e-68\n",
       "==============================================================================\n",
       "                 coef    std err          z      P>|z|      [95.0% Conf. Int.]\n",
       "------------------------------------------------------------------------------\n",
       "Intercept      0.0455      0.001     44.041      0.000         0.043     0.048\n",
       "no_previs     -0.0216      0.009     -2.339      0.019        -0.040    -0.004\n",
       "previs        -0.0101      0.001    -17.064      0.000        -0.011    -0.009\n",
       "==============================================================================\n",
       "\"\"\""
      ]
     },
     "execution_count": 78,
     "metadata": {},
     "output_type": "execute_result"
    }
   ],
   "source": [
    "model = smf.logit('boy ~ no_previs + previs', data=df)    \n",
    "results = model.fit()\n",
    "summarize(results)\n",
    "results.summary()"
   ]
  },
  {
   "cell_type": "markdown",
   "metadata": {},
   "source": [
    "If the mother qualifies for food stamps, she is more likely to have a girl."
   ]
  },
  {
   "cell_type": "code",
   "execution_count": 79,
   "metadata": {
    "collapsed": false
   },
   "outputs": [
    {
     "name": "stdout",
     "output_type": "stream",
     "text": [
      "Optimization terminated successfully.\n",
      "         Current function value: 0.692864\n",
      "         Iterations 3\n",
      "wic[T.Y]               105.2   104.4 *\n"
     ]
    },
    {
     "data": {
      "text/html": [
       "<table class=\"simpletable\">\n",
       "<caption>Logit Regression Results</caption>\n",
       "<tr>\n",
       "  <th>Dep. Variable:</th>        <td>boy</td>       <th>  No. Observations:  </th>   <td>3474883</td>  \n",
       "</tr>\n",
       "<tr>\n",
       "  <th>Model:</th>               <td>Logit</td>      <th>  Df Residuals:      </th>   <td>3474881</td>  \n",
       "</tr>\n",
       "<tr>\n",
       "  <th>Method:</th>               <td>MLE</td>       <th>  Df Model:          </th>   <td>     1</td>   \n",
       "</tr>\n",
       "<tr>\n",
       "  <th>Date:</th>          <td>Tue, 17 May 2016</td> <th>  Pseudo R-squ.:     </th>  <td>2.939e-06</td> \n",
       "</tr>\n",
       "<tr>\n",
       "  <th>Time:</th>              <td>16:28:18</td>     <th>  Log-Likelihood:    </th> <td>-2.4076e+06</td>\n",
       "</tr>\n",
       "<tr>\n",
       "  <th>converged:</th>           <td>True</td>       <th>  LL-Null:           </th> <td>-2.4076e+06</td>\n",
       "</tr>\n",
       "<tr>\n",
       "  <th> </th>                      <td> </td>        <th>  LLR p-value:       </th>  <td>0.0001686</td> \n",
       "</tr>\n",
       "</table>\n",
       "<table class=\"simpletable\">\n",
       "<tr>\n",
       "      <td></td>         <th>coef</th>     <th>std err</th>      <th>z</th>      <th>P>|z|</th> <th>[95.0% Conf. Int.]</th> \n",
       "</tr>\n",
       "<tr>\n",
       "  <th>Intercept</th> <td>    0.0511</td> <td>    0.001</td> <td>   35.284</td> <td> 0.000</td> <td>    0.048     0.054</td>\n",
       "</tr>\n",
       "<tr>\n",
       "  <th>wic[T.Y]</th>  <td>   -0.0081</td> <td>    0.002</td> <td>   -3.762</td> <td> 0.000</td> <td>   -0.012    -0.004</td>\n",
       "</tr>\n",
       "</table>"
      ],
      "text/plain": [
       "<class 'statsmodels.iolib.summary.Summary'>\n",
       "\"\"\"\n",
       "                           Logit Regression Results                           \n",
       "==============================================================================\n",
       "Dep. Variable:                    boy   No. Observations:              3474883\n",
       "Model:                          Logit   Df Residuals:                  3474881\n",
       "Method:                           MLE   Df Model:                            1\n",
       "Date:                Tue, 17 May 2016   Pseudo R-squ.:               2.939e-06\n",
       "Time:                        16:28:18   Log-Likelihood:            -2.4076e+06\n",
       "converged:                       True   LL-Null:                   -2.4076e+06\n",
       "                                        LLR p-value:                 0.0001686\n",
       "==============================================================================\n",
       "                 coef    std err          z      P>|z|      [95.0% Conf. Int.]\n",
       "------------------------------------------------------------------------------\n",
       "Intercept      0.0511      0.001     35.284      0.000         0.048     0.054\n",
       "wic[T.Y]      -0.0081      0.002     -3.762      0.000        -0.012    -0.004\n",
       "==============================================================================\n",
       "\"\"\""
      ]
     },
     "execution_count": 79,
     "metadata": {},
     "output_type": "execute_result"
    }
   ],
   "source": [
    "model = smf.logit('boy ~ wic', data=df)    \n",
    "results = model.fit()\n",
    "summarize(results)\n",
    "results.summary()"
   ]
  },
  {
   "cell_type": "markdown",
   "metadata": {},
   "source": [
    "Mother's height seems to have no predictive value."
   ]
  },
  {
   "cell_type": "code",
   "execution_count": 80,
   "metadata": {
    "collapsed": false
   },
   "outputs": [
    {
     "name": "stdout",
     "output_type": "stream",
     "text": [
      "Optimization terminated successfully.\n",
      "         Current function value: 0.692865\n",
      "         Iterations 3\n",
      "height                 102.6   102.7  \n"
     ]
    },
    {
     "data": {
      "text/html": [
       "<table class=\"simpletable\">\n",
       "<caption>Logit Regression Results</caption>\n",
       "<tr>\n",
       "  <th>Dep. Variable:</th>        <td>boy</td>       <th>  No. Observations:  </th>   <td>3493485</td>  \n",
       "</tr>\n",
       "<tr>\n",
       "  <th>Model:</th>               <td>Logit</td>      <th>  Df Residuals:      </th>   <td>3493483</td>  \n",
       "</tr>\n",
       "<tr>\n",
       "  <th>Method:</th>               <td>MLE</td>       <th>  Df Model:          </th>   <td>     1</td>   \n",
       "</tr>\n",
       "<tr>\n",
       "  <th>Date:</th>          <td>Tue, 17 May 2016</td> <th>  Pseudo R-squ.:     </th>  <td>1.650e-07</td> \n",
       "</tr>\n",
       "<tr>\n",
       "  <th>Time:</th>              <td>16:28:24</td>     <th>  Log-Likelihood:    </th> <td>-2.4205e+06</td>\n",
       "</tr>\n",
       "<tr>\n",
       "  <th>converged:</th>           <td>True</td>       <th>  LL-Null:           </th> <td>-2.4205e+06</td>\n",
       "</tr>\n",
       "<tr>\n",
       "  <th> </th>                      <td> </td>        <th>  LLR p-value:       </th>   <td>0.3714</td>   \n",
       "</tr>\n",
       "</table>\n",
       "<table class=\"simpletable\">\n",
       "<tr>\n",
       "      <td></td>         <th>coef</th>     <th>std err</th>      <th>z</th>      <th>P>|z|</th> <th>[95.0% Conf. Int.]</th> \n",
       "</tr>\n",
       "<tr>\n",
       "  <th>Intercept</th> <td>    0.0260</td> <td>    0.024</td> <td>    1.079</td> <td> 0.280</td> <td>   -0.021     0.073</td>\n",
       "</tr>\n",
       "<tr>\n",
       "  <th>height</th>    <td>    0.0003</td> <td>    0.000</td> <td>    0.894</td> <td> 0.371</td> <td>   -0.000     0.001</td>\n",
       "</tr>\n",
       "</table>"
      ],
      "text/plain": [
       "<class 'statsmodels.iolib.summary.Summary'>\n",
       "\"\"\"\n",
       "                           Logit Regression Results                           \n",
       "==============================================================================\n",
       "Dep. Variable:                    boy   No. Observations:              3493485\n",
       "Model:                          Logit   Df Residuals:                  3493483\n",
       "Method:                           MLE   Df Model:                            1\n",
       "Date:                Tue, 17 May 2016   Pseudo R-squ.:               1.650e-07\n",
       "Time:                        16:28:24   Log-Likelihood:            -2.4205e+06\n",
       "converged:                       True   LL-Null:                   -2.4205e+06\n",
       "                                        LLR p-value:                    0.3714\n",
       "==============================================================================\n",
       "                 coef    std err          z      P>|z|      [95.0% Conf. Int.]\n",
       "------------------------------------------------------------------------------\n",
       "Intercept      0.0260      0.024      1.079      0.280        -0.021     0.073\n",
       "height         0.0003      0.000      0.894      0.371        -0.000     0.001\n",
       "==============================================================================\n",
       "\"\"\""
      ]
     },
     "execution_count": 80,
     "metadata": {},
     "output_type": "execute_result"
    }
   ],
   "source": [
    "model = smf.logit('boy ~ height', data=df)    \n",
    "results = model.fit()\n",
    "summarize(results)\n",
    "results.summary()"
   ]
  },
  {
   "cell_type": "code",
   "execution_count": 81,
   "metadata": {
    "collapsed": false
   },
   "outputs": [
    {
     "name": "stdout",
     "output_type": "stream",
     "text": [
      "Optimization terminated successfully.\n",
      "         Current function value: 0.692864\n",
      "         Iterations 3\n",
      "mtall                  104.9   104.8  \n",
      "mshort                 104.9   103.6 *\n"
     ]
    },
    {
     "data": {
      "text/html": [
       "<table class=\"simpletable\">\n",
       "<caption>Logit Regression Results</caption>\n",
       "<tr>\n",
       "  <th>Dep. Variable:</th>        <td>boy</td>       <th>  No. Observations:  </th>   <td>3493485</td>  \n",
       "</tr>\n",
       "<tr>\n",
       "  <th>Model:</th>               <td>Logit</td>      <th>  Df Residuals:      </th>   <td>3493482</td>  \n",
       "</tr>\n",
       "<tr>\n",
       "  <th>Method:</th>               <td>MLE</td>       <th>  Df Model:          </th>   <td>     2</td>   \n",
       "</tr>\n",
       "<tr>\n",
       "  <th>Date:</th>          <td>Tue, 17 May 2016</td> <th>  Pseudo R-squ.:     </th>  <td>9.267e-07</td> \n",
       "</tr>\n",
       "<tr>\n",
       "  <th>Time:</th>              <td>16:28:30</td>     <th>  Log-Likelihood:    </th> <td>-2.4205e+06</td>\n",
       "</tr>\n",
       "<tr>\n",
       "  <th>converged:</th>           <td>True</td>       <th>  LL-Null:           </th> <td>-2.4205e+06</td>\n",
       "</tr>\n",
       "<tr>\n",
       "  <th> </th>                      <td> </td>        <th>  LLR p-value:       </th>   <td>0.1061</td>   \n",
       "</tr>\n",
       "</table>\n",
       "<table class=\"simpletable\">\n",
       "<tr>\n",
       "      <td></td>         <th>coef</th>     <th>std err</th>      <th>z</th>      <th>P>|z|</th> <th>[95.0% Conf. Int.]</th> \n",
       "</tr>\n",
       "<tr>\n",
       "  <th>Intercept</th> <td>    0.0480</td> <td>    0.001</td> <td>   43.296</td> <td> 0.000</td> <td>    0.046     0.050</td>\n",
       "</tr>\n",
       "<tr>\n",
       "  <th>mtall</th>     <td>   -0.0015</td> <td>    0.006</td> <td>   -0.242</td> <td> 0.809</td> <td>   -0.013     0.010</td>\n",
       "</tr>\n",
       "<tr>\n",
       "  <th>mshort</th>    <td>   -0.0122</td> <td>    0.006</td> <td>   -2.111</td> <td> 0.035</td> <td>   -0.024    -0.001</td>\n",
       "</tr>\n",
       "</table>"
      ],
      "text/plain": [
       "<class 'statsmodels.iolib.summary.Summary'>\n",
       "\"\"\"\n",
       "                           Logit Regression Results                           \n",
       "==============================================================================\n",
       "Dep. Variable:                    boy   No. Observations:              3493485\n",
       "Model:                          Logit   Df Residuals:                  3493482\n",
       "Method:                           MLE   Df Model:                            2\n",
       "Date:                Tue, 17 May 2016   Pseudo R-squ.:               9.267e-07\n",
       "Time:                        16:28:30   Log-Likelihood:            -2.4205e+06\n",
       "converged:                       True   LL-Null:                   -2.4205e+06\n",
       "                                        LLR p-value:                    0.1061\n",
       "==============================================================================\n",
       "                 coef    std err          z      P>|z|      [95.0% Conf. Int.]\n",
       "------------------------------------------------------------------------------\n",
       "Intercept      0.0480      0.001     43.296      0.000         0.046     0.050\n",
       "mtall         -0.0015      0.006     -0.242      0.809        -0.013     0.010\n",
       "mshort        -0.0122      0.006     -2.111      0.035        -0.024    -0.001\n",
       "==============================================================================\n",
       "\"\"\""
      ]
     },
     "execution_count": 81,
     "metadata": {},
     "output_type": "execute_result"
    }
   ],
   "source": [
    "model = smf.logit('boy ~ mtall + mshort', data=df)    \n",
    "results = model.fit()\n",
    "summarize(results)\n",
    "results.summary()"
   ]
  },
  {
   "cell_type": "markdown",
   "metadata": {},
   "source": [
    "Mother's with higher BMI are more likely to have girls."
   ]
  },
  {
   "cell_type": "code",
   "execution_count": 82,
   "metadata": {
    "collapsed": false
   },
   "outputs": [
    {
     "name": "stdout",
     "output_type": "stream",
     "text": [
      "Optimization terminated successfully.\n",
      "         Current function value: 0.692864\n",
      "         Iterations 3\n",
      "bmi_r                  106.0   105.6 *\n"
     ]
    },
    {
     "data": {
      "text/html": [
       "<table class=\"simpletable\">\n",
       "<caption>Logit Regression Results</caption>\n",
       "<tr>\n",
       "  <th>Dep. Variable:</th>        <td>boy</td>       <th>  No. Observations:  </th>   <td>3401718</td>  \n",
       "</tr>\n",
       "<tr>\n",
       "  <th>Model:</th>               <td>Logit</td>      <th>  Df Residuals:      </th>   <td>3401716</td>  \n",
       "</tr>\n",
       "<tr>\n",
       "  <th>Method:</th>               <td>MLE</td>       <th>  Df Model:          </th>   <td>     1</td>   \n",
       "</tr>\n",
       "<tr>\n",
       "  <th>Date:</th>          <td>Tue, 17 May 2016</td> <th>  Pseudo R-squ.:     </th>  <td>3.511e-06</td> \n",
       "</tr>\n",
       "<tr>\n",
       "  <th>Time:</th>              <td>16:28:36</td>     <th>  Log-Likelihood:    </th> <td>-2.3569e+06</td>\n",
       "</tr>\n",
       "<tr>\n",
       "  <th>converged:</th>           <td>True</td>       <th>  LL-Null:           </th> <td>-2.3569e+06</td>\n",
       "</tr>\n",
       "<tr>\n",
       "  <th> </th>                      <td> </td>        <th>  LLR p-value:       </th>  <td>4.736e-05</td> \n",
       "</tr>\n",
       "</table>\n",
       "<table class=\"simpletable\">\n",
       "<tr>\n",
       "      <td></td>         <th>coef</th>     <th>std err</th>      <th>z</th>      <th>P>|z|</th> <th>[95.0% Conf. Int.]</th> \n",
       "</tr>\n",
       "<tr>\n",
       "  <th>Intercept</th> <td>    0.0581</td> <td>    0.003</td> <td>   20.400</td> <td> 0.000</td> <td>    0.053     0.064</td>\n",
       "</tr>\n",
       "<tr>\n",
       "  <th>bmi_r</th>     <td>   -0.0038</td> <td>    0.001</td> <td>   -4.068</td> <td> 0.000</td> <td>   -0.006    -0.002</td>\n",
       "</tr>\n",
       "</table>"
      ],
      "text/plain": [
       "<class 'statsmodels.iolib.summary.Summary'>\n",
       "\"\"\"\n",
       "                           Logit Regression Results                           \n",
       "==============================================================================\n",
       "Dep. Variable:                    boy   No. Observations:              3401718\n",
       "Model:                          Logit   Df Residuals:                  3401716\n",
       "Method:                           MLE   Df Model:                            1\n",
       "Date:                Tue, 17 May 2016   Pseudo R-squ.:               3.511e-06\n",
       "Time:                        16:28:36   Log-Likelihood:            -2.3569e+06\n",
       "converged:                       True   LL-Null:                   -2.3569e+06\n",
       "                                        LLR p-value:                 4.736e-05\n",
       "==============================================================================\n",
       "                 coef    std err          z      P>|z|      [95.0% Conf. Int.]\n",
       "------------------------------------------------------------------------------\n",
       "Intercept      0.0581      0.003     20.400      0.000         0.053     0.064\n",
       "bmi_r         -0.0038      0.001     -4.068      0.000        -0.006    -0.002\n",
       "==============================================================================\n",
       "\"\"\""
      ]
     },
     "execution_count": 82,
     "metadata": {},
     "output_type": "execute_result"
    }
   ],
   "source": [
    "model = smf.logit('boy ~ bmi_r', data=df)    \n",
    "results = model.fit()\n",
    "summarize(results)\n",
    "results.summary()"
   ]
  },
  {
   "cell_type": "code",
   "execution_count": 83,
   "metadata": {
    "collapsed": false
   },
   "outputs": [
    {
     "name": "stdout",
     "output_type": "stream",
     "text": [
      "Optimization terminated successfully.\n",
      "         Current function value: 0.692865\n",
      "         Iterations 3\n",
      "obese                  105.1   104.2 *\n"
     ]
    },
    {
     "data": {
      "text/html": [
       "<table class=\"simpletable\">\n",
       "<caption>Logit Regression Results</caption>\n",
       "<tr>\n",
       "  <th>Dep. Variable:</th>        <td>boy</td>       <th>  No. Observations:  </th>   <td>3401718</td>  \n",
       "</tr>\n",
       "<tr>\n",
       "  <th>Model:</th>               <td>Logit</td>      <th>  Df Residuals:      </th>   <td>3401716</td>  \n",
       "</tr>\n",
       "<tr>\n",
       "  <th>Method:</th>               <td>MLE</td>       <th>  Df Model:          </th>   <td>     1</td>   \n",
       "</tr>\n",
       "<tr>\n",
       "  <th>Date:</th>          <td>Tue, 17 May 2016</td> <th>  Pseudo R-squ.:     </th>  <td>1.997e-06</td> \n",
       "</tr>\n",
       "<tr>\n",
       "  <th>Time:</th>              <td>16:28:41</td>     <th>  Log-Likelihood:    </th> <td>-2.3569e+06</td>\n",
       "</tr>\n",
       "<tr>\n",
       "  <th>converged:</th>           <td>True</td>       <th>  LL-Null:           </th> <td>-2.3569e+06</td>\n",
       "</tr>\n",
       "<tr>\n",
       "  <th> </th>                      <td> </td>        <th>  LLR p-value:       </th>  <td>0.002152</td>  \n",
       "</tr>\n",
       "</table>\n",
       "<table class=\"simpletable\">\n",
       "<tr>\n",
       "      <td></td>         <th>coef</th>     <th>std err</th>      <th>z</th>      <th>P>|z|</th> <th>[95.0% Conf. Int.]</th> \n",
       "</tr>\n",
       "<tr>\n",
       "  <th>Intercept</th> <td>    0.0493</td> <td>    0.001</td> <td>   39.558</td> <td> 0.000</td> <td>    0.047     0.052</td>\n",
       "</tr>\n",
       "<tr>\n",
       "  <th>obese</th>     <td>   -0.0078</td> <td>    0.003</td> <td>   -3.068</td> <td> 0.002</td> <td>   -0.013    -0.003</td>\n",
       "</tr>\n",
       "</table>"
      ],
      "text/plain": [
       "<class 'statsmodels.iolib.summary.Summary'>\n",
       "\"\"\"\n",
       "                           Logit Regression Results                           \n",
       "==============================================================================\n",
       "Dep. Variable:                    boy   No. Observations:              3401718\n",
       "Model:                          Logit   Df Residuals:                  3401716\n",
       "Method:                           MLE   Df Model:                            1\n",
       "Date:                Tue, 17 May 2016   Pseudo R-squ.:               1.997e-06\n",
       "Time:                        16:28:41   Log-Likelihood:            -2.3569e+06\n",
       "converged:                       True   LL-Null:                   -2.3569e+06\n",
       "                                        LLR p-value:                  0.002152\n",
       "==============================================================================\n",
       "                 coef    std err          z      P>|z|      [95.0% Conf. Int.]\n",
       "------------------------------------------------------------------------------\n",
       "Intercept      0.0493      0.001     39.558      0.000         0.047     0.052\n",
       "obese         -0.0078      0.003     -3.068      0.002        -0.013    -0.003\n",
       "==============================================================================\n",
       "\"\"\""
      ]
     },
     "execution_count": 83,
     "metadata": {},
     "output_type": "execute_result"
    }
   ],
   "source": [
    "model = smf.logit('boy ~ obese', data=df)    \n",
    "results = model.fit()\n",
    "summarize(results)\n",
    "results.summary()"
   ]
  },
  {
   "cell_type": "markdown",
   "metadata": {},
   "source": [
    "If payment was made by Medicaid, the baby is more likely to be a girl.  Private insurance, self-payment, and other payment method are associated with more boys."
   ]
  },
  {
   "cell_type": "code",
   "execution_count": 84,
   "metadata": {
    "collapsed": false
   },
   "outputs": [
    {
     "name": "stdout",
     "output_type": "stream",
     "text": [
      "Optimization terminated successfully.\n",
      "         Current function value: 0.692861\n",
      "         Iterations 3\n",
      "C(pay_rec)[T.2.0]      104.4   105.1 *\n",
      "C(pay_rec)[T.3.0]      104.4   106.4 *\n",
      "C(pay_rec)[T.4.0]      104.4   105.7 *\n"
     ]
    },
    {
     "data": {
      "text/html": [
       "<table class=\"simpletable\">\n",
       "<caption>Logit Regression Results</caption>\n",
       "<tr>\n",
       "  <th>Dep. Variable:</th>        <td>boy</td>       <th>  No. Observations:  </th>   <td>3519595</td>  \n",
       "</tr>\n",
       "<tr>\n",
       "  <th>Model:</th>               <td>Logit</td>      <th>  Df Residuals:      </th>   <td>3519591</td>  \n",
       "</tr>\n",
       "<tr>\n",
       "  <th>Method:</th>               <td>MLE</td>       <th>  Df Model:          </th>   <td>     3</td>   \n",
       "</tr>\n",
       "<tr>\n",
       "  <th>Date:</th>          <td>Tue, 17 May 2016</td> <th>  Pseudo R-squ.:     </th>  <td>4.468e-06</td> \n",
       "</tr>\n",
       "<tr>\n",
       "  <th>Time:</th>              <td>16:29:09</td>     <th>  Log-Likelihood:    </th> <td>-2.4386e+06</td>\n",
       "</tr>\n",
       "<tr>\n",
       "  <th>converged:</th>           <td>True</td>       <th>  LL-Null:           </th> <td>-2.4386e+06</td>\n",
       "</tr>\n",
       "<tr>\n",
       "  <th> </th>                      <td> </td>        <th>  LLR p-value:       </th>  <td>7.204e-05</td> \n",
       "</tr>\n",
       "</table>\n",
       "<table class=\"simpletable\">\n",
       "<tr>\n",
       "          <td></td>             <th>coef</th>     <th>std err</th>      <th>z</th>      <th>P>|z|</th> <th>[95.0% Conf. Int.]</th> \n",
       "</tr>\n",
       "<tr>\n",
       "  <th>Intercept</th>         <td>    0.0428</td> <td>    0.002</td> <td>   26.465</td> <td> 0.000</td> <td>    0.040     0.046</td>\n",
       "</tr>\n",
       "<tr>\n",
       "  <th>C(pay_rec)[T.2.0]</th> <td>    0.0070</td> <td>    0.002</td> <td>    3.116</td> <td> 0.002</td> <td>    0.003     0.011</td>\n",
       "</tr>\n",
       "<tr>\n",
       "  <th>C(pay_rec)[T.3.0]</th> <td>    0.0195</td> <td>    0.005</td> <td>    3.633</td> <td> 0.000</td> <td>    0.009     0.030</td>\n",
       "</tr>\n",
       "<tr>\n",
       "  <th>C(pay_rec)[T.4.0]</th> <td>    0.0128</td> <td>    0.005</td> <td>    2.518</td> <td> 0.012</td> <td>    0.003     0.023</td>\n",
       "</tr>\n",
       "</table>"
      ],
      "text/plain": [
       "<class 'statsmodels.iolib.summary.Summary'>\n",
       "\"\"\"\n",
       "                           Logit Regression Results                           \n",
       "==============================================================================\n",
       "Dep. Variable:                    boy   No. Observations:              3519595\n",
       "Model:                          Logit   Df Residuals:                  3519591\n",
       "Method:                           MLE   Df Model:                            3\n",
       "Date:                Tue, 17 May 2016   Pseudo R-squ.:               4.468e-06\n",
       "Time:                        16:29:09   Log-Likelihood:            -2.4386e+06\n",
       "converged:                       True   LL-Null:                   -2.4386e+06\n",
       "                                        LLR p-value:                 7.204e-05\n",
       "=====================================================================================\n",
       "                        coef    std err          z      P>|z|      [95.0% Conf. Int.]\n",
       "-------------------------------------------------------------------------------------\n",
       "Intercept             0.0428      0.002     26.465      0.000         0.040     0.046\n",
       "C(pay_rec)[T.2.0]     0.0070      0.002      3.116      0.002         0.003     0.011\n",
       "C(pay_rec)[T.3.0]     0.0195      0.005      3.633      0.000         0.009     0.030\n",
       "C(pay_rec)[T.4.0]     0.0128      0.005      2.518      0.012         0.003     0.023\n",
       "=====================================================================================\n",
       "\"\"\""
      ]
     },
     "execution_count": 84,
     "metadata": {},
     "output_type": "execute_result"
    }
   ],
   "source": [
    "model = smf.logit('boy ~ C(pay_rec)', data=df)    \n",
    "results = model.fit()\n",
    "summarize(results)\n",
    "results.summary()"
   ]
  },
  {
   "cell_type": "markdown",
   "metadata": {},
   "source": [
    "### Adding controls\n",
    "\n",
    "However, none of the previous results should be taken too seriously.  We only tested one variable at a time, and many of these apparent effects disappear when we add control variables.\n",
    "\n",
    "In particular, if we control for father's race and Hispanic origin, the mother's race has no additional predictive value."
   ]
  },
  {
   "cell_type": "code",
   "execution_count": 85,
   "metadata": {
    "collapsed": false
   },
   "outputs": [
    {
     "name": "stdout",
     "output_type": "stream",
     "text": [
      "Optimization terminated successfully.\n",
      "         Current function value: 0.692815\n",
      "         Iterations 3\n",
      "C(fbrace)[T.2.0]       105.7   103.1 *\n",
      "C(fbrace)[T.3.0]       105.7   104.5  \n",
      "C(fbrace)[T.4.0]       105.7   106.8  \n",
      "C(mbrace)[T.2]         105.7   106.3  \n",
      "C(mbrace)[T.3]         105.7   107.7  \n",
      "C(mbrace)[T.4]         105.7   106.0  \n",
      "fhisp                  105.7   104.7 *\n",
      "mhisp                  105.7   105.2  \n"
     ]
    },
    {
     "data": {
      "text/html": [
       "<table class=\"simpletable\">\n",
       "<caption>Logit Regression Results</caption>\n",
       "<tr>\n",
       "  <th>Dep. Variable:</th>        <td>boy</td>       <th>  No. Observations:  </th>   <td>3178957</td>  \n",
       "</tr>\n",
       "<tr>\n",
       "  <th>Model:</th>               <td>Logit</td>      <th>  Df Residuals:      </th>   <td>3178948</td>  \n",
       "</tr>\n",
       "<tr>\n",
       "  <th>Method:</th>               <td>MLE</td>       <th>  Df Model:          </th>   <td>     8</td>   \n",
       "</tr>\n",
       "<tr>\n",
       "  <th>Date:</th>          <td>Tue, 17 May 2016</td> <th>  Pseudo R-squ.:     </th>  <td>1.589e-05</td> \n",
       "</tr>\n",
       "<tr>\n",
       "  <th>Time:</th>              <td>16:30:01</td>     <th>  Log-Likelihood:    </th> <td>-2.2024e+06</td>\n",
       "</tr>\n",
       "<tr>\n",
       "  <th>converged:</th>           <td>True</td>       <th>  LL-Null:           </th> <td>-2.2025e+06</td>\n",
       "</tr>\n",
       "<tr>\n",
       "  <th> </th>                      <td> </td>        <th>  LLR p-value:       </th>  <td>4.910e-12</td> \n",
       "</tr>\n",
       "</table>\n",
       "<table class=\"simpletable\">\n",
       "<tr>\n",
       "          <td></td>            <th>coef</th>     <th>std err</th>      <th>z</th>      <th>P>|z|</th> <th>[95.0% Conf. Int.]</th> \n",
       "</tr>\n",
       "<tr>\n",
       "  <th>Intercept</th>        <td>    0.0552</td> <td>    0.001</td> <td>   37.128</td> <td> 0.000</td> <td>    0.052     0.058</td>\n",
       "</tr>\n",
       "<tr>\n",
       "  <th>C(fbrace)[T.2.0]</th> <td>   -0.0244</td> <td>    0.006</td> <td>   -4.319</td> <td> 0.000</td> <td>   -0.036    -0.013</td>\n",
       "</tr>\n",
       "<tr>\n",
       "  <th>C(fbrace)[T.3.0]</th> <td>   -0.0112</td> <td>    0.012</td> <td>   -0.903</td> <td> 0.366</td> <td>   -0.036     0.013</td>\n",
       "</tr>\n",
       "<tr>\n",
       "  <th>C(fbrace)[T.4.0]</th> <td>    0.0101</td> <td>    0.007</td> <td>    1.382</td> <td> 0.167</td> <td>   -0.004     0.024</td>\n",
       "</tr>\n",
       "<tr>\n",
       "  <th>C(mbrace)[T.2]</th>   <td>    0.0058</td> <td>    0.006</td> <td>    0.968</td> <td> 0.333</td> <td>   -0.006     0.018</td>\n",
       "</tr>\n",
       "<tr>\n",
       "  <th>C(mbrace)[T.3]</th>   <td>    0.0187</td> <td>    0.013</td> <td>    1.434</td> <td> 0.152</td> <td>   -0.007     0.044</td>\n",
       "</tr>\n",
       "<tr>\n",
       "  <th>C(mbrace)[T.4]</th>   <td>    0.0027</td> <td>    0.007</td> <td>    0.383</td> <td> 0.702</td> <td>   -0.011     0.016</td>\n",
       "</tr>\n",
       "<tr>\n",
       "  <th>fhisp</th>            <td>   -0.0090</td> <td>    0.004</td> <td>   -2.042</td> <td> 0.041</td> <td>   -0.018    -0.000</td>\n",
       "</tr>\n",
       "<tr>\n",
       "  <th>mhisp</th>            <td>   -0.0047</td> <td>    0.004</td> <td>   -1.076</td> <td> 0.282</td> <td>   -0.013     0.004</td>\n",
       "</tr>\n",
       "</table>"
      ],
      "text/plain": [
       "<class 'statsmodels.iolib.summary.Summary'>\n",
       "\"\"\"\n",
       "                           Logit Regression Results                           \n",
       "==============================================================================\n",
       "Dep. Variable:                    boy   No. Observations:              3178957\n",
       "Model:                          Logit   Df Residuals:                  3178948\n",
       "Method:                           MLE   Df Model:                            8\n",
       "Date:                Tue, 17 May 2016   Pseudo R-squ.:               1.589e-05\n",
       "Time:                        16:30:01   Log-Likelihood:            -2.2024e+06\n",
       "converged:                       True   LL-Null:                   -2.2025e+06\n",
       "                                        LLR p-value:                 4.910e-12\n",
       "====================================================================================\n",
       "                       coef    std err          z      P>|z|      [95.0% Conf. Int.]\n",
       "------------------------------------------------------------------------------------\n",
       "Intercept            0.0552      0.001     37.128      0.000         0.052     0.058\n",
       "C(fbrace)[T.2.0]    -0.0244      0.006     -4.319      0.000        -0.036    -0.013\n",
       "C(fbrace)[T.3.0]    -0.0112      0.012     -0.903      0.366        -0.036     0.013\n",
       "C(fbrace)[T.4.0]     0.0101      0.007      1.382      0.167        -0.004     0.024\n",
       "C(mbrace)[T.2]       0.0058      0.006      0.968      0.333        -0.006     0.018\n",
       "C(mbrace)[T.3]       0.0187      0.013      1.434      0.152        -0.007     0.044\n",
       "C(mbrace)[T.4]       0.0027      0.007      0.383      0.702        -0.011     0.016\n",
       "fhisp               -0.0090      0.004     -2.042      0.041        -0.018    -0.000\n",
       "mhisp               -0.0047      0.004     -1.076      0.282        -0.013     0.004\n",
       "====================================================================================\n",
       "\"\"\""
      ]
     },
     "execution_count": 85,
     "metadata": {},
     "output_type": "execute_result"
    }
   ],
   "source": [
    "formula = ('boy ~ C(fbrace) + fhisp + C(mbrace) + mhisp')\n",
    "model = smf.logit(formula, data=df)\n",
    "results = model.fit()\n",
    "summarize(results)\n",
    "results.summary()"
   ]
  },
  {
   "cell_type": "markdown",
   "metadata": {},
   "source": [
    "In fact, once we control for father's race and Hispanic origin, almost every other variable becomes statistically insignificant, including acknowledged paternity."
   ]
  },
  {
   "cell_type": "code",
   "execution_count": 86,
   "metadata": {
    "collapsed": false
   },
   "outputs": [
    {
     "name": "stdout",
     "output_type": "stream",
     "text": [
      "Optimization terminated successfully.\n",
      "         Current function value: 0.692814\n",
      "         Iterations 3\n",
      "C(fbrace)[T.2.0]       106.0   103.9 *\n",
      "C(fbrace)[T.3.0]       106.0   105.7  \n",
      "C(fbrace)[T.4.0]       106.0   107.0  \n",
      "mar_p[T.Y]             106.0   105.7  \n",
      "fhisp                  106.0   104.6 *\n"
     ]
    },
    {
     "data": {
      "text/html": [
       "<table class=\"simpletable\">\n",
       "<caption>Logit Regression Results</caption>\n",
       "<tr>\n",
       "  <th>Dep. Variable:</th>        <td>boy</td>       <th>  No. Observations:  </th>   <td>2865016</td>  \n",
       "</tr>\n",
       "<tr>\n",
       "  <th>Model:</th>               <td>Logit</td>      <th>  Df Residuals:      </th>   <td>2865010</td>  \n",
       "</tr>\n",
       "<tr>\n",
       "  <th>Method:</th>               <td>MLE</td>       <th>  Df Model:          </th>   <td>     5</td>   \n",
       "</tr>\n",
       "<tr>\n",
       "  <th>Date:</th>          <td>Tue, 17 May 2016</td> <th>  Pseudo R-squ.:     </th>  <td>1.324e-05</td> \n",
       "</tr>\n",
       "<tr>\n",
       "  <th>Time:</th>              <td>16:30:50</td>     <th>  Log-Likelihood:    </th> <td>-1.9849e+06</td>\n",
       "</tr>\n",
       "<tr>\n",
       "  <th>converged:</th>           <td>True</td>       <th>  LL-Null:           </th> <td>-1.9850e+06</td>\n",
       "</tr>\n",
       "<tr>\n",
       "  <th> </th>                      <td> </td>        <th>  LLR p-value:       </th>  <td>4.153e-10</td> \n",
       "</tr>\n",
       "</table>\n",
       "<table class=\"simpletable\">\n",
       "<tr>\n",
       "          <td></td>            <th>coef</th>     <th>std err</th>      <th>z</th>      <th>P>|z|</th> <th>[95.0% Conf. Int.]</th> \n",
       "</tr>\n",
       "<tr>\n",
       "  <th>Intercept</th>        <td>    0.0579</td> <td>    0.015</td> <td>    3.834</td> <td> 0.000</td> <td>    0.028     0.088</td>\n",
       "</tr>\n",
       "<tr>\n",
       "  <th>C(fbrace)[T.2.0]</th> <td>   -0.0195</td> <td>    0.003</td> <td>   -5.734</td> <td> 0.000</td> <td>   -0.026    -0.013</td>\n",
       "</tr>\n",
       "<tr>\n",
       "  <th>C(fbrace)[T.3.0]</th> <td>   -0.0027</td> <td>    0.012</td> <td>   -0.232</td> <td> 0.816</td> <td>   -0.026     0.020</td>\n",
       "</tr>\n",
       "<tr>\n",
       "  <th>C(fbrace)[T.4.0]</th> <td>    0.0093</td> <td>    0.005</td> <td>    1.936</td> <td> 0.053</td> <td>   -0.000     0.019</td>\n",
       "</tr>\n",
       "<tr>\n",
       "  <th>mar_p[T.Y]</th>       <td>   -0.0023</td> <td>    0.015</td> <td>   -0.156</td> <td> 0.876</td> <td>   -0.032     0.027</td>\n",
       "</tr>\n",
       "<tr>\n",
       "  <th>fhisp</th>            <td>   -0.0128</td> <td>    0.003</td> <td>   -4.120</td> <td> 0.000</td> <td>   -0.019    -0.007</td>\n",
       "</tr>\n",
       "</table>"
      ],
      "text/plain": [
       "<class 'statsmodels.iolib.summary.Summary'>\n",
       "\"\"\"\n",
       "                           Logit Regression Results                           \n",
       "==============================================================================\n",
       "Dep. Variable:                    boy   No. Observations:              2865016\n",
       "Model:                          Logit   Df Residuals:                  2865010\n",
       "Method:                           MLE   Df Model:                            5\n",
       "Date:                Tue, 17 May 2016   Pseudo R-squ.:               1.324e-05\n",
       "Time:                        16:30:50   Log-Likelihood:            -1.9849e+06\n",
       "converged:                       True   LL-Null:                   -1.9850e+06\n",
       "                                        LLR p-value:                 4.153e-10\n",
       "====================================================================================\n",
       "                       coef    std err          z      P>|z|      [95.0% Conf. Int.]\n",
       "------------------------------------------------------------------------------------\n",
       "Intercept            0.0579      0.015      3.834      0.000         0.028     0.088\n",
       "C(fbrace)[T.2.0]    -0.0195      0.003     -5.734      0.000        -0.026    -0.013\n",
       "C(fbrace)[T.3.0]    -0.0027      0.012     -0.232      0.816        -0.026     0.020\n",
       "C(fbrace)[T.4.0]     0.0093      0.005      1.936      0.053        -0.000     0.019\n",
       "mar_p[T.Y]          -0.0023      0.015     -0.156      0.876        -0.032     0.027\n",
       "fhisp               -0.0128      0.003     -4.120      0.000        -0.019    -0.007\n",
       "====================================================================================\n",
       "\"\"\""
      ]
     },
     "execution_count": 86,
     "metadata": {},
     "output_type": "execute_result"
    }
   ],
   "source": [
    "formula = ('boy ~ C(fbrace) + fhisp + mar_p')\n",
    "model = smf.logit(formula, data=df)\n",
    "results = model.fit()\n",
    "summarize(results)\n",
    "results.summary()"
   ]
  },
  {
   "cell_type": "markdown",
   "metadata": {},
   "source": [
    "Being married still predicts more boys."
   ]
  },
  {
   "cell_type": "code",
   "execution_count": 87,
   "metadata": {
    "collapsed": false
   },
   "outputs": [
    {
     "name": "stdout",
     "output_type": "stream",
     "text": [
      "Optimization terminated successfully.\n",
      "         Current function value: 0.692816\n",
      "         Iterations 3\n",
      "C(fbrace)[T.2.0]       105.3   103.2 *\n",
      "C(fbrace)[T.3.0]       105.3   105.1  \n",
      "C(fbrace)[T.4.0]       105.3   106.7 *\n",
      "fhisp                  105.3   103.9 *\n",
      "dmar                   105.3   105.6  \n"
     ]
    },
    {
     "data": {
      "text/html": [
       "<table class=\"simpletable\">\n",
       "<caption>Logit Regression Results</caption>\n",
       "<tr>\n",
       "  <th>Dep. Variable:</th>        <td>boy</td>       <th>  No. Observations:  </th>   <td>3182886</td>  \n",
       "</tr>\n",
       "<tr>\n",
       "  <th>Model:</th>               <td>Logit</td>      <th>  Df Residuals:      </th>   <td>3182880</td>  \n",
       "</tr>\n",
       "<tr>\n",
       "  <th>Method:</th>               <td>MLE</td>       <th>  Df Model:          </th>   <td>     5</td>   \n",
       "</tr>\n",
       "<tr>\n",
       "  <th>Date:</th>          <td>Tue, 17 May 2016</td> <th>  Pseudo R-squ.:     </th>  <td>1.516e-05</td> \n",
       "</tr>\n",
       "<tr>\n",
       "  <th>Time:</th>              <td>16:31:20</td>     <th>  Log-Likelihood:    </th> <td>-2.2052e+06</td>\n",
       "</tr>\n",
       "<tr>\n",
       "  <th>converged:</th>           <td>True</td>       <th>  LL-Null:           </th> <td>-2.2052e+06</td>\n",
       "</tr>\n",
       "<tr>\n",
       "  <th> </th>                      <td> </td>        <th>  LLR p-value:       </th>  <td>4.631e-13</td> \n",
       "</tr>\n",
       "</table>\n",
       "<table class=\"simpletable\">\n",
       "<tr>\n",
       "          <td></td>            <th>coef</th>     <th>std err</th>      <th>z</th>      <th>P>|z|</th> <th>[95.0% Conf. Int.]</th> \n",
       "</tr>\n",
       "<tr>\n",
       "  <th>Intercept</th>        <td>    0.0521</td> <td>    0.003</td> <td>   15.120</td> <td> 0.000</td> <td>    0.045     0.059</td>\n",
       "</tr>\n",
       "<tr>\n",
       "  <th>C(fbrace)[T.2.0]</th> <td>   -0.0210</td> <td>    0.003</td> <td>   -6.234</td> <td> 0.000</td> <td>   -0.028    -0.014</td>\n",
       "</tr>\n",
       "<tr>\n",
       "  <th>C(fbrace)[T.3.0]</th> <td>   -0.0021</td> <td>    0.011</td> <td>   -0.190</td> <td> 0.849</td> <td>   -0.023     0.019</td>\n",
       "</tr>\n",
       "<tr>\n",
       "  <th>C(fbrace)[T.4.0]</th> <td>    0.0125</td> <td>    0.004</td> <td>    2.794</td> <td> 0.005</td> <td>    0.004     0.021</td>\n",
       "</tr>\n",
       "<tr>\n",
       "  <th>fhisp</th>            <td>   -0.0133</td> <td>    0.003</td> <td>   -4.459</td> <td> 0.000</td> <td>   -0.019    -0.007</td>\n",
       "</tr>\n",
       "<tr>\n",
       "  <th>dmar</th>             <td>    0.0026</td> <td>    0.003</td> <td>    1.001</td> <td> 0.317</td> <td>   -0.002     0.008</td>\n",
       "</tr>\n",
       "</table>"
      ],
      "text/plain": [
       "<class 'statsmodels.iolib.summary.Summary'>\n",
       "\"\"\"\n",
       "                           Logit Regression Results                           \n",
       "==============================================================================\n",
       "Dep. Variable:                    boy   No. Observations:              3182886\n",
       "Model:                          Logit   Df Residuals:                  3182880\n",
       "Method:                           MLE   Df Model:                            5\n",
       "Date:                Tue, 17 May 2016   Pseudo R-squ.:               1.516e-05\n",
       "Time:                        16:31:20   Log-Likelihood:            -2.2052e+06\n",
       "converged:                       True   LL-Null:                   -2.2052e+06\n",
       "                                        LLR p-value:                 4.631e-13\n",
       "====================================================================================\n",
       "                       coef    std err          z      P>|z|      [95.0% Conf. Int.]\n",
       "------------------------------------------------------------------------------------\n",
       "Intercept            0.0521      0.003     15.120      0.000         0.045     0.059\n",
       "C(fbrace)[T.2.0]    -0.0210      0.003     -6.234      0.000        -0.028    -0.014\n",
       "C(fbrace)[T.3.0]    -0.0021      0.011     -0.190      0.849        -0.023     0.019\n",
       "C(fbrace)[T.4.0]     0.0125      0.004      2.794      0.005         0.004     0.021\n",
       "fhisp               -0.0133      0.003     -4.459      0.000        -0.019    -0.007\n",
       "dmar                 0.0026      0.003      1.001      0.317        -0.002     0.008\n",
       "====================================================================================\n",
       "\"\"\""
      ]
     },
     "execution_count": 87,
     "metadata": {},
     "output_type": "execute_result"
    }
   ],
   "source": [
    "formula = ('boy ~ C(fbrace) + fhisp + dmar')\n",
    "model = smf.logit(formula, data=df)\n",
    "results = model.fit()\n",
    "summarize(results)\n",
    "results.summary()"
   ]
  },
  {
   "cell_type": "markdown",
   "metadata": {},
   "source": [
    "The effect of education disappears."
   ]
  },
  {
   "cell_type": "code",
   "execution_count": 88,
   "metadata": {
    "collapsed": false
   },
   "outputs": [
    {
     "name": "stdout",
     "output_type": "stream",
     "text": [
      "Optimization terminated successfully.\n",
      "         Current function value: 0.692813\n",
      "         Iterations 3\n",
      "C(fbrace)[T.2.0]       105.7   103.6 *\n",
      "C(fbrace)[T.3.0]       105.7   105.4  \n",
      "C(fbrace)[T.4.0]       105.7   106.7  \n",
      "fhisp                  105.7   104.2 *\n",
      "lowed                  105.7   106.2  \n"
     ]
    },
    {
     "data": {
      "text/html": [
       "<table class=\"simpletable\">\n",
       "<caption>Logit Regression Results</caption>\n",
       "<tr>\n",
       "  <th>Dep. Variable:</th>        <td>boy</td>       <th>  No. Observations:  </th>   <td>2844274</td>  \n",
       "</tr>\n",
       "<tr>\n",
       "  <th>Model:</th>               <td>Logit</td>      <th>  Df Residuals:      </th>   <td>2844268</td>  \n",
       "</tr>\n",
       "<tr>\n",
       "  <th>Method:</th>               <td>MLE</td>       <th>  Df Model:          </th>   <td>     5</td>   \n",
       "</tr>\n",
       "<tr>\n",
       "  <th>Date:</th>          <td>Tue, 17 May 2016</td> <th>  Pseudo R-squ.:     </th>  <td>1.362e-05</td> \n",
       "</tr>\n",
       "<tr>\n",
       "  <th>Time:</th>              <td>16:31:47</td>     <th>  Log-Likelihood:    </th> <td>-1.9706e+06</td>\n",
       "</tr>\n",
       "<tr>\n",
       "  <th>converged:</th>           <td>True</td>       <th>  LL-Null:           </th> <td>-1.9706e+06</td>\n",
       "</tr>\n",
       "<tr>\n",
       "  <th> </th>                      <td> </td>        <th>  LLR p-value:       </th>  <td>2.422e-10</td> \n",
       "</tr>\n",
       "</table>\n",
       "<table class=\"simpletable\">\n",
       "<tr>\n",
       "          <td></td>            <th>coef</th>     <th>std err</th>      <th>z</th>      <th>P>|z|</th> <th>[95.0% Conf. Int.]</th> \n",
       "</tr>\n",
       "<tr>\n",
       "  <th>Intercept</th>        <td>    0.0554</td> <td>    0.002</td> <td>   35.743</td> <td> 0.000</td> <td>    0.052     0.058</td>\n",
       "</tr>\n",
       "<tr>\n",
       "  <th>C(fbrace)[T.2.0]</th> <td>   -0.0197</td> <td>    0.003</td> <td>   -5.751</td> <td> 0.000</td> <td>   -0.026    -0.013</td>\n",
       "</tr>\n",
       "<tr>\n",
       "  <th>C(fbrace)[T.3.0]</th> <td>   -0.0025</td> <td>    0.012</td> <td>   -0.215</td> <td> 0.830</td> <td>   -0.026     0.021</td>\n",
       "</tr>\n",
       "<tr>\n",
       "  <th>C(fbrace)[T.4.0]</th> <td>    0.0091</td> <td>    0.005</td> <td>    1.882</td> <td> 0.060</td> <td>   -0.000     0.019</td>\n",
       "</tr>\n",
       "<tr>\n",
       "  <th>fhisp</th>            <td>   -0.0141</td> <td>    0.003</td> <td>   -4.359</td> <td> 0.000</td> <td>   -0.020    -0.008</td>\n",
       "</tr>\n",
       "<tr>\n",
       "  <th>lowed</th>            <td>    0.0045</td> <td>    0.004</td> <td>    1.196</td> <td> 0.232</td> <td>   -0.003     0.012</td>\n",
       "</tr>\n",
       "</table>"
      ],
      "text/plain": [
       "<class 'statsmodels.iolib.summary.Summary'>\n",
       "\"\"\"\n",
       "                           Logit Regression Results                           \n",
       "==============================================================================\n",
       "Dep. Variable:                    boy   No. Observations:              2844274\n",
       "Model:                          Logit   Df Residuals:                  2844268\n",
       "Method:                           MLE   Df Model:                            5\n",
       "Date:                Tue, 17 May 2016   Pseudo R-squ.:               1.362e-05\n",
       "Time:                        16:31:47   Log-Likelihood:            -1.9706e+06\n",
       "converged:                       True   LL-Null:                   -1.9706e+06\n",
       "                                        LLR p-value:                 2.422e-10\n",
       "====================================================================================\n",
       "                       coef    std err          z      P>|z|      [95.0% Conf. Int.]\n",
       "------------------------------------------------------------------------------------\n",
       "Intercept            0.0554      0.002     35.743      0.000         0.052     0.058\n",
       "C(fbrace)[T.2.0]    -0.0197      0.003     -5.751      0.000        -0.026    -0.013\n",
       "C(fbrace)[T.3.0]    -0.0025      0.012     -0.215      0.830        -0.026     0.021\n",
       "C(fbrace)[T.4.0]     0.0091      0.005      1.882      0.060        -0.000     0.019\n",
       "fhisp               -0.0141      0.003     -4.359      0.000        -0.020    -0.008\n",
       "lowed                0.0045      0.004      1.196      0.232        -0.003     0.012\n",
       "====================================================================================\n",
       "\"\"\""
      ]
     },
     "execution_count": 88,
     "metadata": {},
     "output_type": "execute_result"
    }
   ],
   "source": [
    "formula = ('boy ~ C(fbrace) + fhisp + lowed')\n",
    "model = smf.logit(formula, data=df)\n",
    "results = model.fit()\n",
    "summarize(results)\n",
    "results.summary()"
   ]
  },
  {
   "cell_type": "markdown",
   "metadata": {},
   "source": [
    "The effect of birth order disappears."
   ]
  },
  {
   "cell_type": "code",
   "execution_count": 89,
   "metadata": {
    "collapsed": false
   },
   "outputs": [
    {
     "name": "stdout",
     "output_type": "stream",
     "text": [
      "Optimization terminated successfully.\n",
      "         Current function value: 0.692816\n",
      "         Iterations 3\n",
      "C(fbrace)[T.2.0]       105.7   103.6 *\n",
      "C(fbrace)[T.3.0]       105.7   105.7  \n",
      "C(fbrace)[T.4.0]       105.7   107.0 *\n",
      "fhisp                  105.7   104.3 *\n",
      "highbo                 105.7   105.5  \n"
     ]
    },
    {
     "data": {
      "text/html": [
       "<table class=\"simpletable\">\n",
       "<caption>Logit Regression Results</caption>\n",
       "<tr>\n",
       "  <th>Dep. Variable:</th>        <td>boy</td>       <th>  No. Observations:  </th>   <td>3170216</td>  \n",
       "</tr>\n",
       "<tr>\n",
       "  <th>Model:</th>               <td>Logit</td>      <th>  Df Residuals:      </th>   <td>3170210</td>  \n",
       "</tr>\n",
       "<tr>\n",
       "  <th>Method:</th>               <td>MLE</td>       <th>  Df Model:          </th>   <td>     5</td>   \n",
       "</tr>\n",
       "<tr>\n",
       "  <th>Date:</th>          <td>Tue, 17 May 2016</td> <th>  Pseudo R-squ.:     </th>  <td>1.527e-05</td> \n",
       "</tr>\n",
       "<tr>\n",
       "  <th>Time:</th>              <td>16:32:15</td>     <th>  Log-Likelihood:    </th> <td>-2.1964e+06</td>\n",
       "</tr>\n",
       "<tr>\n",
       "  <th>converged:</th>           <td>True</td>       <th>  LL-Null:           </th> <td>-2.1964e+06</td>\n",
       "</tr>\n",
       "<tr>\n",
       "  <th> </th>                      <td> </td>        <th>  LLR p-value:       </th>  <td>4.151e-13</td> \n",
       "</tr>\n",
       "</table>\n",
       "<table class=\"simpletable\">\n",
       "<tr>\n",
       "          <td></td>            <th>coef</th>     <th>std err</th>      <th>z</th>      <th>P>|z|</th> <th>[95.0% Conf. Int.]</th> \n",
       "</tr>\n",
       "<tr>\n",
       "  <th>Intercept</th>        <td>    0.0553</td> <td>    0.001</td> <td>   37.705</td> <td> 0.000</td> <td>    0.052     0.058</td>\n",
       "</tr>\n",
       "<tr>\n",
       "  <th>C(fbrace)[T.2.0]</th> <td>   -0.0202</td> <td>    0.003</td> <td>   -6.216</td> <td> 0.000</td> <td>   -0.027    -0.014</td>\n",
       "</tr>\n",
       "<tr>\n",
       "  <th>C(fbrace)[T.3.0]</th> <td>   -0.0002</td> <td>    0.011</td> <td>   -0.016</td> <td> 0.987</td> <td>   -0.022     0.021</td>\n",
       "</tr>\n",
       "<tr>\n",
       "  <th>C(fbrace)[T.4.0]</th> <td>    0.0123</td> <td>    0.004</td> <td>    2.735</td> <td> 0.006</td> <td>    0.003     0.021</td>\n",
       "</tr>\n",
       "<tr>\n",
       "  <th>fhisp</th>            <td>   -0.0129</td> <td>    0.003</td> <td>   -4.410</td> <td> 0.000</td> <td>   -0.019    -0.007</td>\n",
       "</tr>\n",
       "<tr>\n",
       "  <th>highbo</th>           <td>   -0.0022</td> <td>    0.005</td> <td>   -0.404</td> <td> 0.686</td> <td>   -0.013     0.009</td>\n",
       "</tr>\n",
       "</table>"
      ],
      "text/plain": [
       "<class 'statsmodels.iolib.summary.Summary'>\n",
       "\"\"\"\n",
       "                           Logit Regression Results                           \n",
       "==============================================================================\n",
       "Dep. Variable:                    boy   No. Observations:              3170216\n",
       "Model:                          Logit   Df Residuals:                  3170210\n",
       "Method:                           MLE   Df Model:                            5\n",
       "Date:                Tue, 17 May 2016   Pseudo R-squ.:               1.527e-05\n",
       "Time:                        16:32:15   Log-Likelihood:            -2.1964e+06\n",
       "converged:                       True   LL-Null:                   -2.1964e+06\n",
       "                                        LLR p-value:                 4.151e-13\n",
       "====================================================================================\n",
       "                       coef    std err          z      P>|z|      [95.0% Conf. Int.]\n",
       "------------------------------------------------------------------------------------\n",
       "Intercept            0.0553      0.001     37.705      0.000         0.052     0.058\n",
       "C(fbrace)[T.2.0]    -0.0202      0.003     -6.216      0.000        -0.027    -0.014\n",
       "C(fbrace)[T.3.0]    -0.0002      0.011     -0.016      0.987        -0.022     0.021\n",
       "C(fbrace)[T.4.0]     0.0123      0.004      2.735      0.006         0.003     0.021\n",
       "fhisp               -0.0129      0.003     -4.410      0.000        -0.019    -0.007\n",
       "highbo              -0.0022      0.005     -0.404      0.686        -0.013     0.009\n",
       "====================================================================================\n",
       "\"\"\""
      ]
     },
     "execution_count": 89,
     "metadata": {},
     "output_type": "execute_result"
    }
   ],
   "source": [
    "formula = ('boy ~ C(fbrace) + fhisp + highbo')\n",
    "model = smf.logit(formula, data=df)\n",
    "results = model.fit()\n",
    "summarize(results)\n",
    "results.summary()"
   ]
  },
  {
   "cell_type": "markdown",
   "metadata": {},
   "source": [
    "WIC is no longer associated with more girls."
   ]
  },
  {
   "cell_type": "code",
   "execution_count": 90,
   "metadata": {
    "collapsed": false
   },
   "outputs": [
    {
     "name": "stdout",
     "output_type": "stream",
     "text": [
      "Optimization terminated successfully.\n",
      "         Current function value: 0.692815\n",
      "         Iterations 3\n",
      "C(fbrace)[T.2.0]       105.7   103.6 *\n",
      "C(fbrace)[T.3.0]       105.7   105.3  \n",
      "C(fbrace)[T.4.0]       105.7   106.8 *\n",
      "wic[T.Y]               105.7   105.7  \n",
      "fhisp                  105.7   104.3 *\n"
     ]
    },
    {
     "data": {
      "text/html": [
       "<table class=\"simpletable\">\n",
       "<caption>Logit Regression Results</caption>\n",
       "<tr>\n",
       "  <th>Dep. Variable:</th>        <td>boy</td>       <th>  No. Observations:  </th>   <td>2798726</td>  \n",
       "</tr>\n",
       "<tr>\n",
       "  <th>Model:</th>               <td>Logit</td>      <th>  Df Residuals:      </th>   <td>2798720</td>  \n",
       "</tr>\n",
       "<tr>\n",
       "  <th>Method:</th>               <td>MLE</td>       <th>  Df Model:          </th>   <td>     5</td>   \n",
       "</tr>\n",
       "<tr>\n",
       "  <th>Date:</th>          <td>Tue, 17 May 2016</td> <th>  Pseudo R-squ.:     </th>  <td>1.387e-05</td> \n",
       "</tr>\n",
       "<tr>\n",
       "  <th>Time:</th>              <td>16:33:05</td>     <th>  Log-Likelihood:    </th> <td>-1.9390e+06</td>\n",
       "</tr>\n",
       "<tr>\n",
       "  <th>converged:</th>           <td>True</td>       <th>  LL-Null:           </th> <td>-1.9390e+06</td>\n",
       "</tr>\n",
       "<tr>\n",
       "  <th> </th>                      <td> </td>        <th>  LLR p-value:       </th>  <td>2.328e-10</td> \n",
       "</tr>\n",
       "</table>\n",
       "<table class=\"simpletable\">\n",
       "<tr>\n",
       "          <td></td>            <th>coef</th>     <th>std err</th>      <th>z</th>      <th>P>|z|</th> <th>[95.0% Conf. Int.]</th> \n",
       "</tr>\n",
       "<tr>\n",
       "  <th>Intercept</th>        <td>    0.0554</td> <td>    0.002</td> <td>   32.654</td> <td> 0.000</td> <td>    0.052     0.059</td>\n",
       "</tr>\n",
       "<tr>\n",
       "  <th>C(fbrace)[T.2.0]</th> <td>   -0.0200</td> <td>    0.004</td> <td>   -5.620</td> <td> 0.000</td> <td>   -0.027    -0.013</td>\n",
       "</tr>\n",
       "<tr>\n",
       "  <th>C(fbrace)[T.3.0]</th> <td>   -0.0036</td> <td>    0.012</td> <td>   -0.299</td> <td> 0.765</td> <td>   -0.027     0.020</td>\n",
       "</tr>\n",
       "<tr>\n",
       "  <th>C(fbrace)[T.4.0]</th> <td>    0.0102</td> <td>    0.005</td> <td>    2.103</td> <td> 0.035</td> <td>    0.001     0.020</td>\n",
       "</tr>\n",
       "<tr>\n",
       "  <th>wic[T.Y]</th>         <td>    0.0004</td> <td>    0.003</td> <td>    0.151</td> <td> 0.880</td> <td>   -0.005     0.006</td>\n",
       "</tr>\n",
       "<tr>\n",
       "  <th>fhisp</th>            <td>   -0.0129</td> <td>    0.003</td> <td>   -3.938</td> <td> 0.000</td> <td>   -0.019    -0.006</td>\n",
       "</tr>\n",
       "</table>"
      ],
      "text/plain": [
       "<class 'statsmodels.iolib.summary.Summary'>\n",
       "\"\"\"\n",
       "                           Logit Regression Results                           \n",
       "==============================================================================\n",
       "Dep. Variable:                    boy   No. Observations:              2798726\n",
       "Model:                          Logit   Df Residuals:                  2798720\n",
       "Method:                           MLE   Df Model:                            5\n",
       "Date:                Tue, 17 May 2016   Pseudo R-squ.:               1.387e-05\n",
       "Time:                        16:33:05   Log-Likelihood:            -1.9390e+06\n",
       "converged:                       True   LL-Null:                   -1.9390e+06\n",
       "                                        LLR p-value:                 2.328e-10\n",
       "====================================================================================\n",
       "                       coef    std err          z      P>|z|      [95.0% Conf. Int.]\n",
       "------------------------------------------------------------------------------------\n",
       "Intercept            0.0554      0.002     32.654      0.000         0.052     0.059\n",
       "C(fbrace)[T.2.0]    -0.0200      0.004     -5.620      0.000        -0.027    -0.013\n",
       "C(fbrace)[T.3.0]    -0.0036      0.012     -0.299      0.765        -0.027     0.020\n",
       "C(fbrace)[T.4.0]     0.0102      0.005      2.103      0.035         0.001     0.020\n",
       "wic[T.Y]             0.0004      0.003      0.151      0.880        -0.005     0.006\n",
       "fhisp               -0.0129      0.003     -3.938      0.000        -0.019    -0.006\n",
       "====================================================================================\n",
       "\"\"\""
      ]
     },
     "execution_count": 90,
     "metadata": {},
     "output_type": "execute_result"
    }
   ],
   "source": [
    "formula = ('boy ~ C(fbrace) + fhisp + wic')\n",
    "model = smf.logit(formula, data=df)\n",
    "results = model.fit()\n",
    "summarize(results)\n",
    "results.summary()"
   ]
  },
  {
   "cell_type": "markdown",
   "metadata": {},
   "source": [
    "The effect of obesity disappears."
   ]
  },
  {
   "cell_type": "code",
   "execution_count": 91,
   "metadata": {
    "collapsed": false
   },
   "outputs": [
    {
     "name": "stdout",
     "output_type": "stream",
     "text": [
      "Optimization terminated successfully.\n",
      "         Current function value: 0.692816\n",
      "         Iterations 3\n",
      "C(fbrace)[T.2.0]       105.8   103.7 *\n",
      "C(fbrace)[T.3.0]       105.8   105.8  \n",
      "C(fbrace)[T.4.0]       105.8   106.7  \n",
      "fhisp                  105.8   104.5 *\n",
      "obese                  105.8   105.3  \n"
     ]
    },
    {
     "data": {
      "text/html": [
       "<table class=\"simpletable\">\n",
       "<caption>Logit Regression Results</caption>\n",
       "<tr>\n",
       "  <th>Dep. Variable:</th>        <td>boy</td>       <th>  No. Observations:  </th>   <td>2744537</td>  \n",
       "</tr>\n",
       "<tr>\n",
       "  <th>Model:</th>               <td>Logit</td>      <th>  Df Residuals:      </th>   <td>2744531</td>  \n",
       "</tr>\n",
       "<tr>\n",
       "  <th>Method:</th>               <td>MLE</td>       <th>  Df Model:          </th>   <td>     5</td>   \n",
       "</tr>\n",
       "<tr>\n",
       "  <th>Date:</th>          <td>Tue, 17 May 2016</td> <th>  Pseudo R-squ.:     </th>  <td>1.454e-05</td> \n",
       "</tr>\n",
       "<tr>\n",
       "  <th>Time:</th>              <td>16:33:32</td>     <th>  Log-Likelihood:    </th> <td>-1.9015e+06</td>\n",
       "</tr>\n",
       "<tr>\n",
       "  <th>converged:</th>           <td>True</td>       <th>  LL-Null:           </th> <td>-1.9015e+06</td>\n",
       "</tr>\n",
       "<tr>\n",
       "  <th> </th>                      <td> </td>        <th>  LLR p-value:       </th>  <td>1.139e-10</td> \n",
       "</tr>\n",
       "</table>\n",
       "<table class=\"simpletable\">\n",
       "<tr>\n",
       "          <td></td>            <th>coef</th>     <th>std err</th>      <th>z</th>      <th>P>|z|</th> <th>[95.0% Conf. Int.]</th> \n",
       "</tr>\n",
       "<tr>\n",
       "  <th>Intercept</th>        <td>    0.0566</td> <td>    0.002</td> <td>   33.872</td> <td> 0.000</td> <td>    0.053     0.060</td>\n",
       "</tr>\n",
       "<tr>\n",
       "  <th>C(fbrace)[T.2.0]</th> <td>   -0.0200</td> <td>    0.004</td> <td>   -5.681</td> <td> 0.000</td> <td>   -0.027    -0.013</td>\n",
       "</tr>\n",
       "<tr>\n",
       "  <th>C(fbrace)[T.3.0]</th> <td>   -0.0001</td> <td>    0.012</td> <td>   -0.009</td> <td> 0.993</td> <td>   -0.024     0.023</td>\n",
       "</tr>\n",
       "<tr>\n",
       "  <th>C(fbrace)[T.4.0]</th> <td>    0.0078</td> <td>    0.005</td> <td>    1.589</td> <td> 0.112</td> <td>   -0.002     0.018</td>\n",
       "</tr>\n",
       "<tr>\n",
       "  <th>fhisp</th>            <td>   -0.0128</td> <td>    0.003</td> <td>   -4.036</td> <td> 0.000</td> <td>   -0.019    -0.007</td>\n",
       "</tr>\n",
       "<tr>\n",
       "  <th>obese</th>            <td>   -0.0046</td> <td>    0.003</td> <td>   -1.588</td> <td> 0.112</td> <td>   -0.010     0.001</td>\n",
       "</tr>\n",
       "</table>"
      ],
      "text/plain": [
       "<class 'statsmodels.iolib.summary.Summary'>\n",
       "\"\"\"\n",
       "                           Logit Regression Results                           \n",
       "==============================================================================\n",
       "Dep. Variable:                    boy   No. Observations:              2744537\n",
       "Model:                          Logit   Df Residuals:                  2744531\n",
       "Method:                           MLE   Df Model:                            5\n",
       "Date:                Tue, 17 May 2016   Pseudo R-squ.:               1.454e-05\n",
       "Time:                        16:33:32   Log-Likelihood:            -1.9015e+06\n",
       "converged:                       True   LL-Null:                   -1.9015e+06\n",
       "                                        LLR p-value:                 1.139e-10\n",
       "====================================================================================\n",
       "                       coef    std err          z      P>|z|      [95.0% Conf. Int.]\n",
       "------------------------------------------------------------------------------------\n",
       "Intercept            0.0566      0.002     33.872      0.000         0.053     0.060\n",
       "C(fbrace)[T.2.0]    -0.0200      0.004     -5.681      0.000        -0.027    -0.013\n",
       "C(fbrace)[T.3.0]    -0.0001      0.012     -0.009      0.993        -0.024     0.023\n",
       "C(fbrace)[T.4.0]     0.0078      0.005      1.589      0.112        -0.002     0.018\n",
       "fhisp               -0.0128      0.003     -4.036      0.000        -0.019    -0.007\n",
       "obese               -0.0046      0.003     -1.588      0.112        -0.010     0.001\n",
       "====================================================================================\n",
       "\"\"\""
      ]
     },
     "execution_count": 91,
     "metadata": {},
     "output_type": "execute_result"
    }
   ],
   "source": [
    "formula = ('boy ~ C(fbrace) + fhisp + obese')\n",
    "model = smf.logit(formula, data=df)\n",
    "results = model.fit()\n",
    "summarize(results)\n",
    "results.summary()"
   ]
  },
  {
   "cell_type": "markdown",
   "metadata": {},
   "source": [
    "The effect of payment method is diminished, but self-payment is still associated with more boys."
   ]
  },
  {
   "cell_type": "code",
   "execution_count": 92,
   "metadata": {
    "collapsed": false
   },
   "outputs": [
    {
     "name": "stdout",
     "output_type": "stream",
     "text": [
      "Optimization terminated successfully.\n",
      "         Current function value: 0.692811\n",
      "         Iterations 3\n",
      "C(fbrace)[T.2.0]       106.0   103.8 *\n",
      "C(fbrace)[T.3.0]       106.0   105.3  \n",
      "C(fbrace)[T.4.0]       106.0   106.9  \n",
      "C(pay_rec)[T.2.0]      106.0   105.4  \n",
      "C(pay_rec)[T.3.0]      106.0   108.2 *\n",
      "C(pay_rec)[T.4.0]      106.0   106.9  \n",
      "fhisp                  106.0   104.3 *\n"
     ]
    },
    {
     "data": {
      "text/html": [
       "<table class=\"simpletable\">\n",
       "<caption>Logit Regression Results</caption>\n",
       "<tr>\n",
       "  <th>Dep. Variable:</th>        <td>boy</td>       <th>  No. Observations:  </th>   <td>2833065</td>  \n",
       "</tr>\n",
       "<tr>\n",
       "  <th>Model:</th>               <td>Logit</td>      <th>  Df Residuals:      </th>   <td>2833057</td>  \n",
       "</tr>\n",
       "<tr>\n",
       "  <th>Method:</th>               <td>MLE</td>       <th>  Df Model:          </th>   <td>     7</td>   \n",
       "</tr>\n",
       "<tr>\n",
       "  <th>Date:</th>          <td>Tue, 17 May 2016</td> <th>  Pseudo R-squ.:     </th>  <td>1.928e-05</td> \n",
       "</tr>\n",
       "<tr>\n",
       "  <th>Time:</th>              <td>16:34:22</td>     <th>  Log-Likelihood:    </th> <td>-1.9628e+06</td>\n",
       "</tr>\n",
       "<tr>\n",
       "  <th>converged:</th>           <td>True</td>       <th>  LL-Null:           </th> <td>-1.9628e+06</td>\n",
       "</tr>\n",
       "<tr>\n",
       "  <th> </th>                      <td> </td>        <th>  LLR p-value:       </th>  <td>1.047e-13</td> \n",
       "</tr>\n",
       "</table>\n",
       "<table class=\"simpletable\">\n",
       "<tr>\n",
       "          <td></td>             <th>coef</th>     <th>std err</th>      <th>z</th>      <th>P>|z|</th> <th>[95.0% Conf. Int.]</th> \n",
       "</tr>\n",
       "<tr>\n",
       "  <th>Intercept</th>         <td>    0.0579</td> <td>    0.002</td> <td>   23.562</td> <td> 0.000</td> <td>    0.053     0.063</td>\n",
       "</tr>\n",
       "<tr>\n",
       "  <th>C(fbrace)[T.2.0]</th>  <td>   -0.0207</td> <td>    0.004</td> <td>   -5.863</td> <td> 0.000</td> <td>   -0.028    -0.014</td>\n",
       "</tr>\n",
       "<tr>\n",
       "  <th>C(fbrace)[T.3.0]</th>  <td>   -0.0065</td> <td>    0.012</td> <td>   -0.548</td> <td> 0.584</td> <td>   -0.030     0.017</td>\n",
       "</tr>\n",
       "<tr>\n",
       "  <th>C(fbrace)[T.4.0]</th>  <td>    0.0089</td> <td>    0.005</td> <td>    1.858</td> <td> 0.063</td> <td>   -0.000     0.018</td>\n",
       "</tr>\n",
       "<tr>\n",
       "  <th>C(pay_rec)[T.2.0]</th> <td>   -0.0051</td> <td>    0.003</td> <td>   -1.901</td> <td> 0.057</td> <td>   -0.010     0.000</td>\n",
       "</tr>\n",
       "<tr>\n",
       "  <th>C(pay_rec)[T.3.0]</th> <td>    0.0213</td> <td>    0.006</td> <td>    3.366</td> <td> 0.001</td> <td>    0.009     0.034</td>\n",
       "</tr>\n",
       "<tr>\n",
       "  <th>C(pay_rec)[T.4.0]</th> <td>    0.0084</td> <td>    0.006</td> <td>    1.456</td> <td> 0.145</td> <td>   -0.003     0.020</td>\n",
       "</tr>\n",
       "<tr>\n",
       "  <th>fhisp</th>             <td>   -0.0161</td> <td>    0.003</td> <td>   -4.953</td> <td> 0.000</td> <td>   -0.022    -0.010</td>\n",
       "</tr>\n",
       "</table>"
      ],
      "text/plain": [
       "<class 'statsmodels.iolib.summary.Summary'>\n",
       "\"\"\"\n",
       "                           Logit Regression Results                           \n",
       "==============================================================================\n",
       "Dep. Variable:                    boy   No. Observations:              2833065\n",
       "Model:                          Logit   Df Residuals:                  2833057\n",
       "Method:                           MLE   Df Model:                            7\n",
       "Date:                Tue, 17 May 2016   Pseudo R-squ.:               1.928e-05\n",
       "Time:                        16:34:22   Log-Likelihood:            -1.9628e+06\n",
       "converged:                       True   LL-Null:                   -1.9628e+06\n",
       "                                        LLR p-value:                 1.047e-13\n",
       "=====================================================================================\n",
       "                        coef    std err          z      P>|z|      [95.0% Conf. Int.]\n",
       "-------------------------------------------------------------------------------------\n",
       "Intercept             0.0579      0.002     23.562      0.000         0.053     0.063\n",
       "C(fbrace)[T.2.0]     -0.0207      0.004     -5.863      0.000        -0.028    -0.014\n",
       "C(fbrace)[T.3.0]     -0.0065      0.012     -0.548      0.584        -0.030     0.017\n",
       "C(fbrace)[T.4.0]      0.0089      0.005      1.858      0.063        -0.000     0.018\n",
       "C(pay_rec)[T.2.0]    -0.0051      0.003     -1.901      0.057        -0.010     0.000\n",
       "C(pay_rec)[T.3.0]     0.0213      0.006      3.366      0.001         0.009     0.034\n",
       "C(pay_rec)[T.4.0]     0.0084      0.006      1.456      0.145        -0.003     0.020\n",
       "fhisp                -0.0161      0.003     -4.953      0.000        -0.022    -0.010\n",
       "=====================================================================================\n",
       "\"\"\""
      ]
     },
     "execution_count": 92,
     "metadata": {},
     "output_type": "execute_result"
    }
   ],
   "source": [
    "formula = ('boy ~ C(fbrace) + fhisp + C(pay_rec)')\n",
    "model = smf.logit(formula, data=df)\n",
    "results = model.fit()\n",
    "summarize(results)\n",
    "results.summary()"
   ]
  },
  {
   "cell_type": "markdown",
   "metadata": {},
   "source": [
    "But the effect of prenatal visits is still a strong predictor of more girls."
   ]
  },
  {
   "cell_type": "code",
   "execution_count": 93,
   "metadata": {
    "collapsed": false
   },
   "outputs": [
    {
     "name": "stdout",
     "output_type": "stream",
     "text": [
      "Optimization terminated successfully.\n",
      "         Current function value: 0.692772\n",
      "         Iterations 3\n",
      "C(fbrace)[T.2.0]       105.7   103.0 *\n",
      "C(fbrace)[T.3.0]       105.7   104.8  \n",
      "C(fbrace)[T.4.0]       105.7   106.9 *\n",
      "fhisp                  105.7   104.0 *\n",
      "previs                 105.7   104.5 *\n"
     ]
    },
    {
     "data": {
      "text/html": [
       "<table class=\"simpletable\">\n",
       "<caption>Logit Regression Results</caption>\n",
       "<tr>\n",
       "  <th>Dep. Variable:</th>        <td>boy</td>       <th>  No. Observations:  </th>   <td>3096464</td>  \n",
       "</tr>\n",
       "<tr>\n",
       "  <th>Model:</th>               <td>Logit</td>      <th>  Df Residuals:      </th>   <td>3096458</td>  \n",
       "</tr>\n",
       "<tr>\n",
       "  <th>Method:</th>               <td>MLE</td>       <th>  Df Model:          </th>   <td>     5</td>   \n",
       "</tr>\n",
       "<tr>\n",
       "  <th>Date:</th>          <td>Tue, 17 May 2016</td> <th>  Pseudo R-squ.:     </th>  <td>9.021e-05</td> \n",
       "</tr>\n",
       "<tr>\n",
       "  <th>Time:</th>              <td>16:34:51</td>     <th>  Log-Likelihood:    </th> <td>-2.1451e+06</td>\n",
       "</tr>\n",
       "<tr>\n",
       "  <th>converged:</th>           <td>True</td>       <th>  LL-Null:           </th> <td>-2.1453e+06</td>\n",
       "</tr>\n",
       "<tr>\n",
       "  <th> </th>                      <td> </td>        <th>  LLR p-value:       </th>  <td>1.832e-81</td> \n",
       "</tr>\n",
       "</table>\n",
       "<table class=\"simpletable\">\n",
       "<tr>\n",
       "          <td></td>            <th>coef</th>     <th>std err</th>      <th>z</th>      <th>P>|z|</th> <th>[95.0% Conf. Int.]</th> \n",
       "</tr>\n",
       "<tr>\n",
       "  <th>Intercept</th>        <td>    0.0552</td> <td>    0.001</td> <td>   37.584</td> <td> 0.000</td> <td>    0.052     0.058</td>\n",
       "</tr>\n",
       "<tr>\n",
       "  <th>C(fbrace)[T.2.0]</th> <td>   -0.0255</td> <td>    0.003</td> <td>   -7.701</td> <td> 0.000</td> <td>   -0.032    -0.019</td>\n",
       "</tr>\n",
       "<tr>\n",
       "  <th>C(fbrace)[T.3.0]</th> <td>   -0.0082</td> <td>    0.011</td> <td>   -0.747</td> <td> 0.455</td> <td>   -0.030     0.013</td>\n",
       "</tr>\n",
       "<tr>\n",
       "  <th>C(fbrace)[T.4.0]</th> <td>    0.0111</td> <td>    0.005</td> <td>    2.436</td> <td> 0.015</td> <td>    0.002     0.020</td>\n",
       "</tr>\n",
       "<tr>\n",
       "  <th>fhisp</th>            <td>   -0.0159</td> <td>    0.003</td> <td>   -5.363</td> <td> 0.000</td> <td>   -0.022    -0.010</td>\n",
       "</tr>\n",
       "<tr>\n",
       "  <th>previs</th>           <td>   -0.0115</td> <td>    0.001</td> <td>  -17.928</td> <td> 0.000</td> <td>   -0.013    -0.010</td>\n",
       "</tr>\n",
       "</table>"
      ],
      "text/plain": [
       "<class 'statsmodels.iolib.summary.Summary'>\n",
       "\"\"\"\n",
       "                           Logit Regression Results                           \n",
       "==============================================================================\n",
       "Dep. Variable:                    boy   No. Observations:              3096464\n",
       "Model:                          Logit   Df Residuals:                  3096458\n",
       "Method:                           MLE   Df Model:                            5\n",
       "Date:                Tue, 17 May 2016   Pseudo R-squ.:               9.021e-05\n",
       "Time:                        16:34:51   Log-Likelihood:            -2.1451e+06\n",
       "converged:                       True   LL-Null:                   -2.1453e+06\n",
       "                                        LLR p-value:                 1.832e-81\n",
       "====================================================================================\n",
       "                       coef    std err          z      P>|z|      [95.0% Conf. Int.]\n",
       "------------------------------------------------------------------------------------\n",
       "Intercept            0.0552      0.001     37.584      0.000         0.052     0.058\n",
       "C(fbrace)[T.2.0]    -0.0255      0.003     -7.701      0.000        -0.032    -0.019\n",
       "C(fbrace)[T.3.0]    -0.0082      0.011     -0.747      0.455        -0.030     0.013\n",
       "C(fbrace)[T.4.0]     0.0111      0.005      2.436      0.015         0.002     0.020\n",
       "fhisp               -0.0159      0.003     -5.363      0.000        -0.022    -0.010\n",
       "previs              -0.0115      0.001    -17.928      0.000        -0.013    -0.010\n",
       "====================================================================================\n",
       "\"\"\""
      ]
     },
     "execution_count": 93,
     "metadata": {},
     "output_type": "execute_result"
    }
   ],
   "source": [
    "formula = ('boy ~ C(fbrace) + fhisp + previs')\n",
    "model = smf.logit(formula, data=df)\n",
    "results = model.fit()\n",
    "summarize(results)\n",
    "results.summary()"
   ]
  },
  {
   "cell_type": "markdown",
   "metadata": {},
   "source": [
    "And the effect is even stronger if we add a boolean to capture the nonlinearity at 0 visits."
   ]
  },
  {
   "cell_type": "code",
   "execution_count": 94,
   "metadata": {
    "collapsed": false
   },
   "outputs": [
    {
     "name": "stdout",
     "output_type": "stream",
     "text": [
      "Optimization terminated successfully.\n",
      "         Current function value: 0.692772\n",
      "         Iterations 3\n",
      "C(fbrace)[T.2.0]       105.7   103.0 *\n",
      "C(fbrace)[T.3.0]       105.7   104.8  \n",
      "C(fbrace)[T.4.0]       105.7   106.9 *\n",
      "fhisp                  105.7   104.0 *\n",
      "previs                 105.7   104.5 *\n",
      "no_previs              105.7   103.8  \n"
     ]
    },
    {
     "data": {
      "text/html": [
       "<table class=\"simpletable\">\n",
       "<caption>Logit Regression Results</caption>\n",
       "<tr>\n",
       "  <th>Dep. Variable:</th>        <td>boy</td>       <th>  No. Observations:  </th>   <td>3096464</td>  \n",
       "</tr>\n",
       "<tr>\n",
       "  <th>Model:</th>               <td>Logit</td>      <th>  Df Residuals:      </th>   <td>3096457</td>  \n",
       "</tr>\n",
       "<tr>\n",
       "  <th>Method:</th>               <td>MLE</td>       <th>  Df Model:          </th>   <td>     6</td>   \n",
       "</tr>\n",
       "<tr>\n",
       "  <th>Date:</th>          <td>Tue, 17 May 2016</td> <th>  Pseudo R-squ.:     </th>  <td>9.072e-05</td> \n",
       "</tr>\n",
       "<tr>\n",
       "  <th>Time:</th>              <td>16:35:20</td>     <th>  Log-Likelihood:    </th> <td>-2.1451e+06</td>\n",
       "</tr>\n",
       "<tr>\n",
       "  <th>converged:</th>           <td>True</td>       <th>  LL-Null:           </th> <td>-2.1453e+06</td>\n",
       "</tr>\n",
       "<tr>\n",
       "  <th> </th>                      <td> </td>        <th>  LLR p-value:       </th>  <td>5.706e-81</td> \n",
       "</tr>\n",
       "</table>\n",
       "<table class=\"simpletable\">\n",
       "<tr>\n",
       "          <td></td>            <th>coef</th>     <th>std err</th>      <th>z</th>      <th>P>|z|</th> <th>[95.0% Conf. Int.]</th> \n",
       "</tr>\n",
       "<tr>\n",
       "  <th>Intercept</th>        <td>    0.0554</td> <td>    0.001</td> <td>   37.601</td> <td> 0.000</td> <td>    0.052     0.058</td>\n",
       "</tr>\n",
       "<tr>\n",
       "  <th>C(fbrace)[T.2.0]</th> <td>   -0.0254</td> <td>    0.003</td> <td>   -7.688</td> <td> 0.000</td> <td>   -0.032    -0.019</td>\n",
       "</tr>\n",
       "<tr>\n",
       "  <th>C(fbrace)[T.3.0]</th> <td>   -0.0083</td> <td>    0.011</td> <td>   -0.754</td> <td> 0.451</td> <td>   -0.030     0.013</td>\n",
       "</tr>\n",
       "<tr>\n",
       "  <th>C(fbrace)[T.4.0]</th> <td>    0.0110</td> <td>    0.005</td> <td>    2.423</td> <td> 0.015</td> <td>    0.002     0.020</td>\n",
       "</tr>\n",
       "<tr>\n",
       "  <th>fhisp</th>            <td>   -0.0159</td> <td>    0.003</td> <td>   -5.344</td> <td> 0.000</td> <td>   -0.022    -0.010</td>\n",
       "</tr>\n",
       "<tr>\n",
       "  <th>previs</th>           <td>   -0.0118</td> <td>    0.001</td> <td>  -17.440</td> <td> 0.000</td> <td>   -0.013    -0.010</td>\n",
       "</tr>\n",
       "<tr>\n",
       "  <th>no_previs</th>        <td>   -0.0183</td> <td>    0.012</td> <td>   -1.485</td> <td> 0.138</td> <td>   -0.042     0.006</td>\n",
       "</tr>\n",
       "</table>"
      ],
      "text/plain": [
       "<class 'statsmodels.iolib.summary.Summary'>\n",
       "\"\"\"\n",
       "                           Logit Regression Results                           \n",
       "==============================================================================\n",
       "Dep. Variable:                    boy   No. Observations:              3096464\n",
       "Model:                          Logit   Df Residuals:                  3096457\n",
       "Method:                           MLE   Df Model:                            6\n",
       "Date:                Tue, 17 May 2016   Pseudo R-squ.:               9.072e-05\n",
       "Time:                        16:35:20   Log-Likelihood:            -2.1451e+06\n",
       "converged:                       True   LL-Null:                   -2.1453e+06\n",
       "                                        LLR p-value:                 5.706e-81\n",
       "====================================================================================\n",
       "                       coef    std err          z      P>|z|      [95.0% Conf. Int.]\n",
       "------------------------------------------------------------------------------------\n",
       "Intercept            0.0554      0.001     37.601      0.000         0.052     0.058\n",
       "C(fbrace)[T.2.0]    -0.0254      0.003     -7.688      0.000        -0.032    -0.019\n",
       "C(fbrace)[T.3.0]    -0.0083      0.011     -0.754      0.451        -0.030     0.013\n",
       "C(fbrace)[T.4.0]     0.0110      0.005      2.423      0.015         0.002     0.020\n",
       "fhisp               -0.0159      0.003     -5.344      0.000        -0.022    -0.010\n",
       "previs              -0.0118      0.001    -17.440      0.000        -0.013    -0.010\n",
       "no_previs           -0.0183      0.012     -1.485      0.138        -0.042     0.006\n",
       "====================================================================================\n",
       "\"\"\""
      ]
     },
     "execution_count": 94,
     "metadata": {},
     "output_type": "execute_result"
    }
   ],
   "source": [
    "formula = ('boy ~ C(fbrace) + fhisp + previs + no_previs')\n",
    "model = smf.logit(formula, data=df)\n",
    "results = model.fit()\n",
    "summarize(results)\n",
    "results.summary()"
   ]
  },
  {
   "cell_type": "markdown",
   "metadata": {},
   "source": [
    "### More controls"
   ]
  },
  {
   "cell_type": "markdown",
   "metadata": {},
   "source": [
    "Now if we control for father's race and Hispanic origin as well as number of prenatal visits, the effect of marriage disappears."
   ]
  },
  {
   "cell_type": "code",
   "execution_count": 95,
   "metadata": {
    "collapsed": false
   },
   "outputs": [
    {
     "name": "stdout",
     "output_type": "stream",
     "text": [
      "Optimization terminated successfully.\n",
      "         Current function value: 0.692772\n",
      "         Iterations 3\n",
      "C(fbrace)[T.2.0]       105.7   103.0 *\n",
      "C(fbrace)[T.3.0]       105.7   104.8  \n",
      "C(fbrace)[T.4.0]       105.7   106.9 *\n",
      "fhisp                  105.7   104.0 *\n",
      "previs                 105.7   104.5 *\n",
      "dmar                   105.7   105.7  \n"
     ]
    },
    {
     "data": {
      "text/html": [
       "<table class=\"simpletable\">\n",
       "<caption>Logit Regression Results</caption>\n",
       "<tr>\n",
       "  <th>Dep. Variable:</th>        <td>boy</td>       <th>  No. Observations:  </th>   <td>3096464</td>  \n",
       "</tr>\n",
       "<tr>\n",
       "  <th>Model:</th>               <td>Logit</td>      <th>  Df Residuals:      </th>   <td>3096457</td>  \n",
       "</tr>\n",
       "<tr>\n",
       "  <th>Method:</th>               <td>MLE</td>       <th>  Df Model:          </th>   <td>     6</td>   \n",
       "</tr>\n",
       "<tr>\n",
       "  <th>Date:</th>          <td>Tue, 17 May 2016</td> <th>  Pseudo R-squ.:     </th>  <td>9.021e-05</td> \n",
       "</tr>\n",
       "<tr>\n",
       "  <th>Time:</th>              <td>16:35:49</td>     <th>  Log-Likelihood:    </th> <td>-2.1451e+06</td>\n",
       "</tr>\n",
       "<tr>\n",
       "  <th>converged:</th>           <td>True</td>       <th>  LL-Null:           </th> <td>-2.1453e+06</td>\n",
       "</tr>\n",
       "<tr>\n",
       "  <th> </th>                      <td> </td>        <th>  LLR p-value:       </th>  <td>1.697e-80</td> \n",
       "</tr>\n",
       "</table>\n",
       "<table class=\"simpletable\">\n",
       "<tr>\n",
       "          <td></td>            <th>coef</th>     <th>std err</th>      <th>z</th>      <th>P>|z|</th> <th>[95.0% Conf. Int.]</th> \n",
       "</tr>\n",
       "<tr>\n",
       "  <th>Intercept</th>        <td>    0.0553</td> <td>    0.003</td> <td>   15.816</td> <td> 0.000</td> <td>    0.048     0.062</td>\n",
       "</tr>\n",
       "<tr>\n",
       "  <th>C(fbrace)[T.2.0]</th> <td>   -0.0254</td> <td>    0.003</td> <td>   -7.384</td> <td> 0.000</td> <td>   -0.032    -0.019</td>\n",
       "</tr>\n",
       "<tr>\n",
       "  <th>C(fbrace)[T.3.0]</th> <td>   -0.0082</td> <td>    0.011</td> <td>   -0.743</td> <td> 0.458</td> <td>   -0.030     0.013</td>\n",
       "</tr>\n",
       "<tr>\n",
       "  <th>C(fbrace)[T.4.0]</th> <td>    0.0111</td> <td>    0.005</td> <td>    2.431</td> <td> 0.015</td> <td>    0.002     0.020</td>\n",
       "</tr>\n",
       "<tr>\n",
       "  <th>fhisp</th>            <td>   -0.0159</td> <td>    0.003</td> <td>   -5.242</td> <td> 0.000</td> <td>   -0.022    -0.010</td>\n",
       "</tr>\n",
       "<tr>\n",
       "  <th>previs</th>           <td>   -0.0115</td> <td>    0.001</td> <td>  -17.900</td> <td> 0.000</td> <td>   -0.013    -0.010</td>\n",
       "</tr>\n",
       "<tr>\n",
       "  <th>dmar</th>             <td>-8.777e-05</td> <td>    0.003</td> <td>   -0.034</td> <td> 0.973</td> <td>   -0.005     0.005</td>\n",
       "</tr>\n",
       "</table>"
      ],
      "text/plain": [
       "<class 'statsmodels.iolib.summary.Summary'>\n",
       "\"\"\"\n",
       "                           Logit Regression Results                           \n",
       "==============================================================================\n",
       "Dep. Variable:                    boy   No. Observations:              3096464\n",
       "Model:                          Logit   Df Residuals:                  3096457\n",
       "Method:                           MLE   Df Model:                            6\n",
       "Date:                Tue, 17 May 2016   Pseudo R-squ.:               9.021e-05\n",
       "Time:                        16:35:49   Log-Likelihood:            -2.1451e+06\n",
       "converged:                       True   LL-Null:                   -2.1453e+06\n",
       "                                        LLR p-value:                 1.697e-80\n",
       "====================================================================================\n",
       "                       coef    std err          z      P>|z|      [95.0% Conf. Int.]\n",
       "------------------------------------------------------------------------------------\n",
       "Intercept            0.0553      0.003     15.816      0.000         0.048     0.062\n",
       "C(fbrace)[T.2.0]    -0.0254      0.003     -7.384      0.000        -0.032    -0.019\n",
       "C(fbrace)[T.3.0]    -0.0082      0.011     -0.743      0.458        -0.030     0.013\n",
       "C(fbrace)[T.4.0]     0.0111      0.005      2.431      0.015         0.002     0.020\n",
       "fhisp               -0.0159      0.003     -5.242      0.000        -0.022    -0.010\n",
       "previs              -0.0115      0.001    -17.900      0.000        -0.013    -0.010\n",
       "dmar             -8.777e-05      0.003     -0.034      0.973        -0.005     0.005\n",
       "====================================================================================\n",
       "\"\"\""
      ]
     },
     "execution_count": 95,
     "metadata": {},
     "output_type": "execute_result"
    }
   ],
   "source": [
    "formula = ('boy ~ C(fbrace) + fhisp + previs + dmar')\n",
    "model = smf.logit(formula, data=df)\n",
    "results = model.fit()\n",
    "summarize(results)\n",
    "results.summary()"
   ]
  },
  {
   "cell_type": "markdown",
   "metadata": {},
   "source": [
    "The effect of payment method disappears."
   ]
  },
  {
   "cell_type": "code",
   "execution_count": 96,
   "metadata": {
    "collapsed": false
   },
   "outputs": [
    {
     "name": "stdout",
     "output_type": "stream",
     "text": [
      "Optimization terminated successfully.\n",
      "         Current function value: 0.692775\n",
      "         Iterations 3\n",
      "C(fbrace)[T.2.0]       105.7   103.1 *\n",
      "C(fbrace)[T.3.0]       105.7   104.3  \n",
      "C(fbrace)[T.4.0]       105.7   106.6  \n",
      "C(pay_rec)[T.2.0]      105.7   105.6  \n",
      "C(pay_rec)[T.3.0]      105.7   106.8  \n",
      "C(pay_rec)[T.4.0]      105.7   106.6  \n",
      "fhisp                  105.7   103.9 *\n",
      "previs                 105.7   104.6 *\n"
     ]
    },
    {
     "data": {
      "text/html": [
       "<table class=\"simpletable\">\n",
       "<caption>Logit Regression Results</caption>\n",
       "<tr>\n",
       "  <th>Dep. Variable:</th>        <td>boy</td>       <th>  No. Observations:  </th>   <td>2752104</td>  \n",
       "</tr>\n",
       "<tr>\n",
       "  <th>Model:</th>               <td>Logit</td>      <th>  Df Residuals:      </th>   <td>2752095</td>  \n",
       "</tr>\n",
       "<tr>\n",
       "  <th>Method:</th>               <td>MLE</td>       <th>  Df Model:          </th>   <td>     8</td>   \n",
       "</tr>\n",
       "<tr>\n",
       "  <th>Date:</th>          <td>Tue, 17 May 2016</td> <th>  Pseudo R-squ.:     </th>  <td>8.519e-05</td> \n",
       "</tr>\n",
       "<tr>\n",
       "  <th>Time:</th>              <td>16:36:40</td>     <th>  Log-Likelihood:    </th> <td>-1.9066e+06</td>\n",
       "</tr>\n",
       "<tr>\n",
       "  <th>converged:</th>           <td>True</td>       <th>  LL-Null:           </th> <td>-1.9068e+06</td>\n",
       "</tr>\n",
       "<tr>\n",
       "  <th> </th>                      <td> </td>        <th>  LLR p-value:       </th>  <td>2.081e-65</td> \n",
       "</tr>\n",
       "</table>\n",
       "<table class=\"simpletable\">\n",
       "<tr>\n",
       "          <td></td>             <th>coef</th>     <th>std err</th>      <th>z</th>      <th>P>|z|</th> <th>[95.0% Conf. Int.]</th> \n",
       "</tr>\n",
       "<tr>\n",
       "  <th>Intercept</th>         <td>    0.0557</td> <td>    0.002</td> <td>   22.311</td> <td> 0.000</td> <td>    0.051     0.061</td>\n",
       "</tr>\n",
       "<tr>\n",
       "  <th>C(fbrace)[T.2.0]</th>  <td>   -0.0249</td> <td>    0.004</td> <td>   -6.923</td> <td> 0.000</td> <td>   -0.032    -0.018</td>\n",
       "</tr>\n",
       "<tr>\n",
       "  <th>C(fbrace)[T.3.0]</th>  <td>   -0.0132</td> <td>    0.012</td> <td>   -1.089</td> <td> 0.276</td> <td>   -0.037     0.011</td>\n",
       "</tr>\n",
       "<tr>\n",
       "  <th>C(fbrace)[T.4.0]</th>  <td>    0.0081</td> <td>    0.005</td> <td>    1.651</td> <td> 0.099</td> <td>   -0.002     0.018</td>\n",
       "</tr>\n",
       "<tr>\n",
       "  <th>C(pay_rec)[T.2.0]</th> <td>   -0.0011</td> <td>    0.003</td> <td>   -0.397</td> <td> 0.691</td> <td>   -0.006     0.004</td>\n",
       "</tr>\n",
       "<tr>\n",
       "  <th>C(pay_rec)[T.3.0]</th> <td>    0.0106</td> <td>    0.006</td> <td>    1.642</td> <td> 0.101</td> <td>   -0.002     0.023</td>\n",
       "</tr>\n",
       "<tr>\n",
       "  <th>C(pay_rec)[T.4.0]</th> <td>    0.0083</td> <td>    0.006</td> <td>    1.412</td> <td> 0.158</td> <td>   -0.003     0.020</td>\n",
       "</tr>\n",
       "<tr>\n",
       "  <th>fhisp</th>             <td>   -0.0170</td> <td>    0.003</td> <td>   -5.174</td> <td> 0.000</td> <td>   -0.023    -0.011</td>\n",
       "</tr>\n",
       "<tr>\n",
       "  <th>previs</th>            <td>   -0.0109</td> <td>    0.001</td> <td>  -15.813</td> <td> 0.000</td> <td>   -0.012    -0.010</td>\n",
       "</tr>\n",
       "</table>"
      ],
      "text/plain": [
       "<class 'statsmodels.iolib.summary.Summary'>\n",
       "\"\"\"\n",
       "                           Logit Regression Results                           \n",
       "==============================================================================\n",
       "Dep. Variable:                    boy   No. Observations:              2752104\n",
       "Model:                          Logit   Df Residuals:                  2752095\n",
       "Method:                           MLE   Df Model:                            8\n",
       "Date:                Tue, 17 May 2016   Pseudo R-squ.:               8.519e-05\n",
       "Time:                        16:36:40   Log-Likelihood:            -1.9066e+06\n",
       "converged:                       True   LL-Null:                   -1.9068e+06\n",
       "                                        LLR p-value:                 2.081e-65\n",
       "=====================================================================================\n",
       "                        coef    std err          z      P>|z|      [95.0% Conf. Int.]\n",
       "-------------------------------------------------------------------------------------\n",
       "Intercept             0.0557      0.002     22.311      0.000         0.051     0.061\n",
       "C(fbrace)[T.2.0]     -0.0249      0.004     -6.923      0.000        -0.032    -0.018\n",
       "C(fbrace)[T.3.0]     -0.0132      0.012     -1.089      0.276        -0.037     0.011\n",
       "C(fbrace)[T.4.0]      0.0081      0.005      1.651      0.099        -0.002     0.018\n",
       "C(pay_rec)[T.2.0]    -0.0011      0.003     -0.397      0.691        -0.006     0.004\n",
       "C(pay_rec)[T.3.0]     0.0106      0.006      1.642      0.101        -0.002     0.023\n",
       "C(pay_rec)[T.4.0]     0.0083      0.006      1.412      0.158        -0.003     0.020\n",
       "fhisp                -0.0170      0.003     -5.174      0.000        -0.023    -0.011\n",
       "previs               -0.0109      0.001    -15.813      0.000        -0.012    -0.010\n",
       "=====================================================================================\n",
       "\"\"\""
      ]
     },
     "execution_count": 96,
     "metadata": {},
     "output_type": "execute_result"
    }
   ],
   "source": [
    "formula = ('boy ~ C(fbrace) + fhisp + previs + C(pay_rec)')\n",
    "model = smf.logit(formula, data=df)\n",
    "results = model.fit()\n",
    "summarize(results)\n",
    "results.summary()"
   ]
  },
  {
   "cell_type": "markdown",
   "metadata": {},
   "source": [
    "Here's a version with the addition of a boolean for no prenatal visits."
   ]
  },
  {
   "cell_type": "code",
   "execution_count": 97,
   "metadata": {
    "collapsed": false
   },
   "outputs": [
    {
     "name": "stdout",
     "output_type": "stream",
     "text": [
      "Optimization terminated successfully.\n",
      "         Current function value: 0.692772\n",
      "         Iterations 3\n",
      "C(fbrace)[T.2.0]       105.7   103.0 *\n",
      "C(fbrace)[T.3.0]       105.7   104.8  \n",
      "C(fbrace)[T.4.0]       105.7   106.9 *\n",
      "fhisp                  105.7   104.0 *\n",
      "previs                 105.7   104.5 *\n",
      "no_previs              105.7   103.8  \n"
     ]
    },
    {
     "data": {
      "text/html": [
       "<table class=\"simpletable\">\n",
       "<caption>Logit Regression Results</caption>\n",
       "<tr>\n",
       "  <th>Dep. Variable:</th>        <td>boy</td>       <th>  No. Observations:  </th>   <td>3096464</td>  \n",
       "</tr>\n",
       "<tr>\n",
       "  <th>Model:</th>               <td>Logit</td>      <th>  Df Residuals:      </th>   <td>3096457</td>  \n",
       "</tr>\n",
       "<tr>\n",
       "  <th>Method:</th>               <td>MLE</td>       <th>  Df Model:          </th>   <td>     6</td>   \n",
       "</tr>\n",
       "<tr>\n",
       "  <th>Date:</th>          <td>Tue, 17 May 2016</td> <th>  Pseudo R-squ.:     </th>  <td>9.072e-05</td> \n",
       "</tr>\n",
       "<tr>\n",
       "  <th>Time:</th>              <td>16:37:07</td>     <th>  Log-Likelihood:    </th> <td>-2.1451e+06</td>\n",
       "</tr>\n",
       "<tr>\n",
       "  <th>converged:</th>           <td>True</td>       <th>  LL-Null:           </th> <td>-2.1453e+06</td>\n",
       "</tr>\n",
       "<tr>\n",
       "  <th> </th>                      <td> </td>        <th>  LLR p-value:       </th>  <td>5.706e-81</td> \n",
       "</tr>\n",
       "</table>\n",
       "<table class=\"simpletable\">\n",
       "<tr>\n",
       "          <td></td>            <th>coef</th>     <th>std err</th>      <th>z</th>      <th>P>|z|</th> <th>[95.0% Conf. Int.]</th> \n",
       "</tr>\n",
       "<tr>\n",
       "  <th>Intercept</th>        <td>    0.0554</td> <td>    0.001</td> <td>   37.601</td> <td> 0.000</td> <td>    0.052     0.058</td>\n",
       "</tr>\n",
       "<tr>\n",
       "  <th>C(fbrace)[T.2.0]</th> <td>   -0.0254</td> <td>    0.003</td> <td>   -7.688</td> <td> 0.000</td> <td>   -0.032    -0.019</td>\n",
       "</tr>\n",
       "<tr>\n",
       "  <th>C(fbrace)[T.3.0]</th> <td>   -0.0083</td> <td>    0.011</td> <td>   -0.754</td> <td> 0.451</td> <td>   -0.030     0.013</td>\n",
       "</tr>\n",
       "<tr>\n",
       "  <th>C(fbrace)[T.4.0]</th> <td>    0.0110</td> <td>    0.005</td> <td>    2.423</td> <td> 0.015</td> <td>    0.002     0.020</td>\n",
       "</tr>\n",
       "<tr>\n",
       "  <th>fhisp</th>            <td>   -0.0159</td> <td>    0.003</td> <td>   -5.344</td> <td> 0.000</td> <td>   -0.022    -0.010</td>\n",
       "</tr>\n",
       "<tr>\n",
       "  <th>previs</th>           <td>   -0.0118</td> <td>    0.001</td> <td>  -17.440</td> <td> 0.000</td> <td>   -0.013    -0.010</td>\n",
       "</tr>\n",
       "<tr>\n",
       "  <th>no_previs</th>        <td>   -0.0183</td> <td>    0.012</td> <td>   -1.485</td> <td> 0.138</td> <td>   -0.042     0.006</td>\n",
       "</tr>\n",
       "</table>"
      ],
      "text/plain": [
       "<class 'statsmodels.iolib.summary.Summary'>\n",
       "\"\"\"\n",
       "                           Logit Regression Results                           \n",
       "==============================================================================\n",
       "Dep. Variable:                    boy   No. Observations:              3096464\n",
       "Model:                          Logit   Df Residuals:                  3096457\n",
       "Method:                           MLE   Df Model:                            6\n",
       "Date:                Tue, 17 May 2016   Pseudo R-squ.:               9.072e-05\n",
       "Time:                        16:37:07   Log-Likelihood:            -2.1451e+06\n",
       "converged:                       True   LL-Null:                   -2.1453e+06\n",
       "                                        LLR p-value:                 5.706e-81\n",
       "====================================================================================\n",
       "                       coef    std err          z      P>|z|      [95.0% Conf. Int.]\n",
       "------------------------------------------------------------------------------------\n",
       "Intercept            0.0554      0.001     37.601      0.000         0.052     0.058\n",
       "C(fbrace)[T.2.0]    -0.0254      0.003     -7.688      0.000        -0.032    -0.019\n",
       "C(fbrace)[T.3.0]    -0.0083      0.011     -0.754      0.451        -0.030     0.013\n",
       "C(fbrace)[T.4.0]     0.0110      0.005      2.423      0.015         0.002     0.020\n",
       "fhisp               -0.0159      0.003     -5.344      0.000        -0.022    -0.010\n",
       "previs              -0.0118      0.001    -17.440      0.000        -0.013    -0.010\n",
       "no_previs           -0.0183      0.012     -1.485      0.138        -0.042     0.006\n",
       "====================================================================================\n",
       "\"\"\""
      ]
     },
     "execution_count": 97,
     "metadata": {},
     "output_type": "execute_result"
    }
   ],
   "source": [
    "formula = ('boy ~ C(fbrace) + fhisp + previs + no_previs')\n",
    "model = smf.logit(formula, data=df)\n",
    "results = model.fit()\n",
    "summarize(results)\n",
    "results.summary()"
   ]
  },
  {
   "cell_type": "markdown",
   "metadata": {},
   "source": [
    "Now, surprisingly, the mother's age has a small effect."
   ]
  },
  {
   "cell_type": "code",
   "execution_count": 98,
   "metadata": {
    "collapsed": false
   },
   "outputs": [
    {
     "name": "stdout",
     "output_type": "stream",
     "text": [
      "Optimization terminated successfully.\n",
      "         Current function value: 0.692772\n",
      "         Iterations 3\n",
      "C(fbrace)[T.2.0]       106.3   103.5 *\n",
      "C(fbrace)[T.3.0]       106.3   105.3  \n",
      "C(fbrace)[T.4.0]       106.3   107.5 *\n",
      "fhisp                  106.3   104.5 *\n",
      "previs                 106.3   105.0 *\n",
      "no_previs              106.3   104.3  \n",
      "mager9                 106.3   106.1  \n"
     ]
    },
    {
     "data": {
      "text/html": [
       "<table class=\"simpletable\">\n",
       "<caption>Logit Regression Results</caption>\n",
       "<tr>\n",
       "  <th>Dep. Variable:</th>        <td>boy</td>       <th>  No. Observations:  </th>   <td>3096464</td>  \n",
       "</tr>\n",
       "<tr>\n",
       "  <th>Model:</th>               <td>Logit</td>      <th>  Df Residuals:      </th>   <td>3096456</td>  \n",
       "</tr>\n",
       "<tr>\n",
       "  <th>Method:</th>               <td>MLE</td>       <th>  Df Model:          </th>   <td>     7</td>   \n",
       "</tr>\n",
       "<tr>\n",
       "  <th>Date:</th>          <td>Tue, 17 May 2016</td> <th>  Pseudo R-squ.:     </th>  <td>9.107e-05</td> \n",
       "</tr>\n",
       "<tr>\n",
       "  <th>Time:</th>              <td>16:37:37</td>     <th>  Log-Likelihood:    </th> <td>-2.1451e+06</td>\n",
       "</tr>\n",
       "<tr>\n",
       "  <th>converged:</th>           <td>True</td>       <th>  LL-Null:           </th> <td>-2.1453e+06</td>\n",
       "</tr>\n",
       "<tr>\n",
       "  <th> </th>                      <td> </td>        <th>  LLR p-value:       </th>  <td>2.300e-80</td> \n",
       "</tr>\n",
       "</table>\n",
       "<table class=\"simpletable\">\n",
       "<tr>\n",
       "          <td></td>            <th>coef</th>     <th>std err</th>      <th>z</th>      <th>P>|z|</th> <th>[95.0% Conf. Int.]</th> \n",
       "</tr>\n",
       "<tr>\n",
       "  <th>Intercept</th>        <td>    0.0606</td> <td>    0.005</td> <td>   13.327</td> <td> 0.000</td> <td>    0.052     0.070</td>\n",
       "</tr>\n",
       "<tr>\n",
       "  <th>C(fbrace)[T.2.0]</th> <td>   -0.0258</td> <td>    0.003</td> <td>   -7.770</td> <td> 0.000</td> <td>   -0.032    -0.019</td>\n",
       "</tr>\n",
       "<tr>\n",
       "  <th>C(fbrace)[T.3.0]</th> <td>   -0.0089</td> <td>    0.011</td> <td>   -0.805</td> <td> 0.421</td> <td>   -0.030     0.013</td>\n",
       "</tr>\n",
       "<tr>\n",
       "  <th>C(fbrace)[T.4.0]</th> <td>    0.0114</td> <td>    0.005</td> <td>    2.505</td> <td> 0.012</td> <td>    0.002     0.020</td>\n",
       "</tr>\n",
       "<tr>\n",
       "  <th>fhisp</th>            <td>   -0.0162</td> <td>    0.003</td> <td>   -5.437</td> <td> 0.000</td> <td>   -0.022    -0.010</td>\n",
       "</tr>\n",
       "<tr>\n",
       "  <th>previs</th>           <td>   -0.0117</td> <td>    0.001</td> <td>  -17.323</td> <td> 0.000</td> <td>   -0.013    -0.010</td>\n",
       "</tr>\n",
       "<tr>\n",
       "  <th>no_previs</th>        <td>   -0.0182</td> <td>    0.012</td> <td>   -1.479</td> <td> 0.139</td> <td>   -0.042     0.006</td>\n",
       "</tr>\n",
       "<tr>\n",
       "  <th>mager9</th>           <td>   -0.0012</td> <td>    0.001</td> <td>   -1.221</td> <td> 0.222</td> <td>   -0.003     0.001</td>\n",
       "</tr>\n",
       "</table>"
      ],
      "text/plain": [
       "<class 'statsmodels.iolib.summary.Summary'>\n",
       "\"\"\"\n",
       "                           Logit Regression Results                           \n",
       "==============================================================================\n",
       "Dep. Variable:                    boy   No. Observations:              3096464\n",
       "Model:                          Logit   Df Residuals:                  3096456\n",
       "Method:                           MLE   Df Model:                            7\n",
       "Date:                Tue, 17 May 2016   Pseudo R-squ.:               9.107e-05\n",
       "Time:                        16:37:37   Log-Likelihood:            -2.1451e+06\n",
       "converged:                       True   LL-Null:                   -2.1453e+06\n",
       "                                        LLR p-value:                 2.300e-80\n",
       "====================================================================================\n",
       "                       coef    std err          z      P>|z|      [95.0% Conf. Int.]\n",
       "------------------------------------------------------------------------------------\n",
       "Intercept            0.0606      0.005     13.327      0.000         0.052     0.070\n",
       "C(fbrace)[T.2.0]    -0.0258      0.003     -7.770      0.000        -0.032    -0.019\n",
       "C(fbrace)[T.3.0]    -0.0089      0.011     -0.805      0.421        -0.030     0.013\n",
       "C(fbrace)[T.4.0]     0.0114      0.005      2.505      0.012         0.002     0.020\n",
       "fhisp               -0.0162      0.003     -5.437      0.000        -0.022    -0.010\n",
       "previs              -0.0117      0.001    -17.323      0.000        -0.013    -0.010\n",
       "no_previs           -0.0182      0.012     -1.479      0.139        -0.042     0.006\n",
       "mager9              -0.0012      0.001     -1.221      0.222        -0.003     0.001\n",
       "====================================================================================\n",
       "\"\"\""
      ]
     },
     "execution_count": 98,
     "metadata": {},
     "output_type": "execute_result"
    }
   ],
   "source": [
    "formula = ('boy ~ C(fbrace) + fhisp + previs + no_previs + mager9')\n",
    "model = smf.logit(formula, data=df)\n",
    "results = model.fit()\n",
    "summarize(results)\n",
    "results.summary()"
   ]
  },
  {
   "cell_type": "markdown",
   "metadata": {},
   "source": [
    "So does the father's age.  But both age effects are small and borderline significant."
   ]
  },
  {
   "cell_type": "code",
   "execution_count": 99,
   "metadata": {
    "collapsed": false
   },
   "outputs": [
    {
     "name": "stdout",
     "output_type": "stream",
     "text": [
      "Optimization terminated successfully.\n",
      "         Current function value: 0.692772\n",
      "         Iterations 3\n",
      "C(fbrace)[T.2.0]       106.6   103.9 *\n",
      "C(fbrace)[T.3.0]       106.6   105.6  \n",
      "C(fbrace)[T.4.0]       106.6   107.8 *\n",
      "fhisp                  106.6   104.8 *\n",
      "previs                 106.6   105.3 *\n",
      "no_previs              106.6   104.5  \n",
      "fagerrec11             106.6   106.4 *\n"
     ]
    },
    {
     "data": {
      "text/html": [
       "<table class=\"simpletable\">\n",
       "<caption>Logit Regression Results</caption>\n",
       "<tr>\n",
       "  <th>Dep. Variable:</th>        <td>boy</td>       <th>  No. Observations:  </th>   <td>3088921</td>  \n",
       "</tr>\n",
       "<tr>\n",
       "  <th>Model:</th>               <td>Logit</td>      <th>  Df Residuals:      </th>   <td>3088913</td>  \n",
       "</tr>\n",
       "<tr>\n",
       "  <th>Method:</th>               <td>MLE</td>       <th>  Df Model:          </th>   <td>     7</td>   \n",
       "</tr>\n",
       "<tr>\n",
       "  <th>Date:</th>          <td>Tue, 17 May 2016</td> <th>  Pseudo R-squ.:     </th>  <td>9.189e-05</td> \n",
       "</tr>\n",
       "<tr>\n",
       "  <th>Time:</th>              <td>16:38:07</td>     <th>  Log-Likelihood:    </th> <td>-2.1399e+06</td>\n",
       "</tr>\n",
       "<tr>\n",
       "  <th>converged:</th>           <td>True</td>       <th>  LL-Null:           </th> <td>-2.1401e+06</td>\n",
       "</tr>\n",
       "<tr>\n",
       "  <th> </th>                      <td> </td>        <th>  LLR p-value:       </th>  <td>6.432e-81</td> \n",
       "</tr>\n",
       "</table>\n",
       "<table class=\"simpletable\">\n",
       "<tr>\n",
       "          <td></td>            <th>coef</th>     <th>std err</th>      <th>z</th>      <th>P>|z|</th> <th>[95.0% Conf. Int.]</th> \n",
       "</tr>\n",
       "<tr>\n",
       "  <th>Intercept</th>        <td>    0.0637</td> <td>    0.004</td> <td>   14.796</td> <td> 0.000</td> <td>    0.055     0.072</td>\n",
       "</tr>\n",
       "<tr>\n",
       "  <th>C(fbrace)[T.2.0]</th> <td>   -0.0258</td> <td>    0.003</td> <td>   -7.763</td> <td> 0.000</td> <td>   -0.032    -0.019</td>\n",
       "</tr>\n",
       "<tr>\n",
       "  <th>C(fbrace)[T.3.0]</th> <td>   -0.0094</td> <td>    0.011</td> <td>   -0.856</td> <td> 0.392</td> <td>   -0.031     0.012</td>\n",
       "</tr>\n",
       "<tr>\n",
       "  <th>C(fbrace)[T.4.0]</th> <td>    0.0116</td> <td>    0.005</td> <td>    2.527</td> <td> 0.012</td> <td>    0.003     0.021</td>\n",
       "</tr>\n",
       "<tr>\n",
       "  <th>fhisp</th>            <td>   -0.0165</td> <td>    0.003</td> <td>   -5.530</td> <td> 0.000</td> <td>   -0.022    -0.011</td>\n",
       "</tr>\n",
       "<tr>\n",
       "  <th>previs</th>           <td>   -0.0118</td> <td>    0.001</td> <td>  -17.371</td> <td> 0.000</td> <td>   -0.013    -0.010</td>\n",
       "</tr>\n",
       "<tr>\n",
       "  <th>no_previs</th>        <td>   -0.0194</td> <td>    0.012</td> <td>   -1.569</td> <td> 0.117</td> <td>   -0.044     0.005</td>\n",
       "</tr>\n",
       "<tr>\n",
       "  <th>fagerrec11</th>       <td>   -0.0017</td> <td>    0.001</td> <td>   -2.046</td> <td> 0.041</td> <td>   -0.003 -7.15e-05</td>\n",
       "</tr>\n",
       "</table>"
      ],
      "text/plain": [
       "<class 'statsmodels.iolib.summary.Summary'>\n",
       "\"\"\"\n",
       "                           Logit Regression Results                           \n",
       "==============================================================================\n",
       "Dep. Variable:                    boy   No. Observations:              3088921\n",
       "Model:                          Logit   Df Residuals:                  3088913\n",
       "Method:                           MLE   Df Model:                            7\n",
       "Date:                Tue, 17 May 2016   Pseudo R-squ.:               9.189e-05\n",
       "Time:                        16:38:07   Log-Likelihood:            -2.1399e+06\n",
       "converged:                       True   LL-Null:                   -2.1401e+06\n",
       "                                        LLR p-value:                 6.432e-81\n",
       "====================================================================================\n",
       "                       coef    std err          z      P>|z|      [95.0% Conf. Int.]\n",
       "------------------------------------------------------------------------------------\n",
       "Intercept            0.0637      0.004     14.796      0.000         0.055     0.072\n",
       "C(fbrace)[T.2.0]    -0.0258      0.003     -7.763      0.000        -0.032    -0.019\n",
       "C(fbrace)[T.3.0]    -0.0094      0.011     -0.856      0.392        -0.031     0.012\n",
       "C(fbrace)[T.4.0]     0.0116      0.005      2.527      0.012         0.003     0.021\n",
       "fhisp               -0.0165      0.003     -5.530      0.000        -0.022    -0.011\n",
       "previs              -0.0118      0.001    -17.371      0.000        -0.013    -0.010\n",
       "no_previs           -0.0194      0.012     -1.569      0.117        -0.044     0.005\n",
       "fagerrec11          -0.0017      0.001     -2.046      0.041        -0.003 -7.15e-05\n",
       "====================================================================================\n",
       "\"\"\""
      ]
     },
     "execution_count": 99,
     "metadata": {},
     "output_type": "execute_result"
    }
   ],
   "source": [
    "formula = ('boy ~ C(fbrace) + fhisp + previs + no_previs + fagerrec11')\n",
    "model = smf.logit(formula, data=df)\n",
    "results = model.fit()\n",
    "summarize(results)\n",
    "results.summary()"
   ]
  },
  {
   "cell_type": "markdown",
   "metadata": {},
   "source": [
    "### What's up with prenatal visits?\n",
    "\n",
    "The predictive power of prenatal visits is still surprising to me.  To make sure we're controlled for race, I'll select cases where both parents are white:"
   ]
  },
  {
   "cell_type": "code",
   "execution_count": 100,
   "metadata": {
    "collapsed": false
   },
   "outputs": [
    {
     "data": {
      "text/plain": [
       "2373016"
      ]
     },
     "execution_count": 100,
     "metadata": {},
     "output_type": "execute_result"
    }
   ],
   "source": [
    "white = df[(df.mbrace==1) & (df.fbrace==1)]\n",
    "len(white)"
   ]
  },
  {
   "cell_type": "markdown",
   "metadata": {},
   "source": [
    "And compute sex ratios for each level of `previs`"
   ]
  },
  {
   "cell_type": "code",
   "execution_count": 101,
   "metadata": {
    "collapsed": false
   },
   "outputs": [
    {
     "data": {
      "text/html": [
       "<div>\n",
       "<table border=\"1\" class=\"dataframe\">\n",
       "  <thead>\n",
       "    <tr style=\"text-align: right;\">\n",
       "      <th></th>\n",
       "      <th>boy</th>\n",
       "    </tr>\n",
       "    <tr>\n",
       "      <th>previs</th>\n",
       "      <th></th>\n",
       "    </tr>\n",
       "  </thead>\n",
       "  <tbody>\n",
       "    <tr>\n",
       "      <th>-6</th>\n",
       "      <td>111</td>\n",
       "    </tr>\n",
       "    <tr>\n",
       "      <th>-5</th>\n",
       "      <td>110</td>\n",
       "    </tr>\n",
       "    <tr>\n",
       "      <th>-4</th>\n",
       "      <td>110</td>\n",
       "    </tr>\n",
       "    <tr>\n",
       "      <th>-3</th>\n",
       "      <td>109</td>\n",
       "    </tr>\n",
       "    <tr>\n",
       "      <th>-2</th>\n",
       "      <td>109</td>\n",
       "    </tr>\n",
       "    <tr>\n",
       "      <th>-1</th>\n",
       "      <td>107</td>\n",
       "    </tr>\n",
       "    <tr>\n",
       "      <th>0</th>\n",
       "      <td>105</td>\n",
       "    </tr>\n",
       "    <tr>\n",
       "      <th>1</th>\n",
       "      <td>103</td>\n",
       "    </tr>\n",
       "    <tr>\n",
       "      <th>2</th>\n",
       "      <td>103</td>\n",
       "    </tr>\n",
       "    <tr>\n",
       "      <th>3</th>\n",
       "      <td>101</td>\n",
       "    </tr>\n",
       "    <tr>\n",
       "      <th>4</th>\n",
       "      <td>102</td>\n",
       "    </tr>\n",
       "  </tbody>\n",
       "</table>\n",
       "</div>"
      ],
      "text/plain": [
       "        boy\n",
       "previs     \n",
       "-6      111\n",
       "-5      110\n",
       "-4      110\n",
       "-3      109\n",
       "-2      109\n",
       "-1      107\n",
       " 0      105\n",
       " 1      103\n",
       " 2      103\n",
       " 3      101\n",
       " 4      102"
      ]
     },
     "execution_count": 101,
     "metadata": {},
     "output_type": "execute_result"
    }
   ],
   "source": [
    "var = 'previs'\n",
    "white[[var, 'boy']].groupby(var).aggregate(series_to_ratio)"
   ]
  },
  {
   "cell_type": "markdown",
   "metadata": {},
   "source": [
    "The effect holds up.  People with fewer than average prenatal visits are substantially more likely to have boys."
   ]
  },
  {
   "cell_type": "code",
   "execution_count": 102,
   "metadata": {
    "collapsed": false
   },
   "outputs": [
    {
     "name": "stdout",
     "output_type": "stream",
     "text": [
      "Optimization terminated successfully.\n",
      "         Current function value: 0.692766\n",
      "         Iterations 3\n",
      "previs                 105.3   104.0 *\n",
      "no_previs              105.3   103.4  \n"
     ]
    },
    {
     "data": {
      "text/html": [
       "<table class=\"simpletable\">\n",
       "<caption>Logit Regression Results</caption>\n",
       "<tr>\n",
       "  <th>Dep. Variable:</th>        <td>boy</td>       <th>  No. Observations:  </th>   <td>2315682</td>  \n",
       "</tr>\n",
       "<tr>\n",
       "  <th>Model:</th>               <td>Logit</td>      <th>  Df Residuals:      </th>   <td>2315679</td>  \n",
       "</tr>\n",
       "<tr>\n",
       "  <th>Method:</th>               <td>MLE</td>       <th>  Df Model:          </th>   <td>     2</td>   \n",
       "</tr>\n",
       "<tr>\n",
       "  <th>Date:</th>          <td>Tue, 17 May 2016</td> <th>  Pseudo R-squ.:     </th>  <td>7.429e-05</td> \n",
       "</tr>\n",
       "<tr>\n",
       "  <th>Time:</th>              <td>16:38:13</td>     <th>  Log-Likelihood:    </th> <td>-1.6042e+06</td>\n",
       "</tr>\n",
       "<tr>\n",
       "  <th>converged:</th>           <td>True</td>       <th>  LL-Null:           </th> <td>-1.6043e+06</td>\n",
       "</tr>\n",
       "<tr>\n",
       "  <th> </th>                      <td> </td>        <th>  LLR p-value:       </th>  <td>1.719e-52</td> \n",
       "</tr>\n",
       "</table>\n",
       "<table class=\"simpletable\">\n",
       "<tr>\n",
       "      <td></td>         <th>coef</th>     <th>std err</th>      <th>z</th>      <th>P>|z|</th> <th>[95.0% Conf. Int.]</th> \n",
       "</tr>\n",
       "<tr>\n",
       "  <th>Intercept</th> <td>    0.0516</td> <td>    0.001</td> <td>   39.039</td> <td> 0.000</td> <td>    0.049     0.054</td>\n",
       "</tr>\n",
       "<tr>\n",
       "  <th>previs</th>    <td>   -0.0119</td> <td>    0.001</td> <td>  -14.973</td> <td> 0.000</td> <td>   -0.013    -0.010</td>\n",
       "</tr>\n",
       "<tr>\n",
       "  <th>no_previs</th> <td>   -0.0180</td> <td>    0.015</td> <td>   -1.188</td> <td> 0.235</td> <td>   -0.048     0.012</td>\n",
       "</tr>\n",
       "</table>"
      ],
      "text/plain": [
       "<class 'statsmodels.iolib.summary.Summary'>\n",
       "\"\"\"\n",
       "                           Logit Regression Results                           \n",
       "==============================================================================\n",
       "Dep. Variable:                    boy   No. Observations:              2315682\n",
       "Model:                          Logit   Df Residuals:                  2315679\n",
       "Method:                           MLE   Df Model:                            2\n",
       "Date:                Tue, 17 May 2016   Pseudo R-squ.:               7.429e-05\n",
       "Time:                        16:38:13   Log-Likelihood:            -1.6042e+06\n",
       "converged:                       True   LL-Null:                   -1.6043e+06\n",
       "                                        LLR p-value:                 1.719e-52\n",
       "==============================================================================\n",
       "                 coef    std err          z      P>|z|      [95.0% Conf. Int.]\n",
       "------------------------------------------------------------------------------\n",
       "Intercept      0.0516      0.001     39.039      0.000         0.049     0.054\n",
       "previs        -0.0119      0.001    -14.973      0.000        -0.013    -0.010\n",
       "no_previs     -0.0180      0.015     -1.188      0.235        -0.048     0.012\n",
       "==============================================================================\n",
       "\"\"\""
      ]
     },
     "execution_count": 102,
     "metadata": {},
     "output_type": "execute_result"
    }
   ],
   "source": [
    "formula = ('boy ~ previs + no_previs')\n",
    "model = smf.logit(formula, data=white)\n",
    "results = model.fit()\n",
    "summarize(results)\n",
    "results.summary()"
   ]
  },
  {
   "cell_type": "code",
   "execution_count": 103,
   "metadata": {
    "collapsed": false
   },
   "outputs": [
    {
     "data": {
      "text/plain": [
       "(0.051571918028023904, -0.01191111958144815)"
      ]
     },
     "execution_count": 103,
     "metadata": {},
     "output_type": "execute_result"
    }
   ],
   "source": [
    "inter = results.params['Intercept']\n",
    "slope = results.params['previs']\n",
    "inter, slope"
   ]
  },
  {
   "cell_type": "code",
   "execution_count": 104,
   "metadata": {
    "collapsed": false
   },
   "outputs": [
    {
     "data": {
      "text/plain": [
       "array([ 111.75374016,  110.43052413,  109.1229756 ,  107.83090904,\n",
       "        106.55414115,  105.29249079,  104.04577894,  102.81382875,\n",
       "        101.59646541,  100.39351622])"
      ]
     },
     "execution_count": 104,
     "metadata": {},
     "output_type": "execute_result"
    }
   ],
   "source": [
    "previs = np.arange(-5, 5)\n",
    "logodds = inter + slope * previs\n",
    "odds = np.exp(logodds)\n",
    "odds * 100"
   ]
  },
  {
   "cell_type": "code",
   "execution_count": 105,
   "metadata": {
    "collapsed": false
   },
   "outputs": [
    {
     "name": "stdout",
     "output_type": "stream",
     "text": [
      "Optimization terminated successfully.\n",
      "         Current function value: 0.692808\n",
      "         Iterations 3\n",
      "dmar                   105.3   105.3  \n"
     ]
    },
    {
     "data": {
      "text/html": [
       "<table class=\"simpletable\">\n",
       "<caption>Logit Regression Results</caption>\n",
       "<tr>\n",
       "  <th>Dep. Variable:</th>        <td>boy</td>       <th>  No. Observations:  </th>   <td>2373016</td>  \n",
       "</tr>\n",
       "<tr>\n",
       "  <th>Model:</th>               <td>Logit</td>      <th>  Df Residuals:      </th>   <td>2373014</td>  \n",
       "</tr>\n",
       "<tr>\n",
       "  <th>Method:</th>               <td>MLE</td>       <th>  Df Model:          </th>   <td>     1</td>   \n",
       "</tr>\n",
       "<tr>\n",
       "  <th>Date:</th>          <td>Tue, 17 May 2016</td> <th>  Pseudo R-squ.:     </th>  <td>1.132e-08</td> \n",
       "</tr>\n",
       "<tr>\n",
       "  <th>Time:</th>              <td>16:38:17</td>     <th>  Log-Likelihood:    </th> <td>-1.6440e+06</td>\n",
       "</tr>\n",
       "<tr>\n",
       "  <th>converged:</th>           <td>True</td>       <th>  LL-Null:           </th> <td>-1.6440e+06</td>\n",
       "</tr>\n",
       "<tr>\n",
       "  <th> </th>                      <td> </td>        <th>  LLR p-value:       </th>   <td>0.8470</td>   \n",
       "</tr>\n",
       "</table>\n",
       "<table class=\"simpletable\">\n",
       "<tr>\n",
       "      <td></td>         <th>coef</th>     <th>std err</th>      <th>z</th>      <th>P>|z|</th> <th>[95.0% Conf. Int.]</th> \n",
       "</tr>\n",
       "<tr>\n",
       "  <th>Intercept</th> <td>    0.0514</td> <td>    0.004</td> <td>   13.066</td> <td> 0.000</td> <td>    0.044     0.059</td>\n",
       "</tr>\n",
       "<tr>\n",
       "  <th>dmar</th>      <td>    0.0006</td> <td>    0.003</td> <td>    0.193</td> <td> 0.847</td> <td>   -0.005     0.006</td>\n",
       "</tr>\n",
       "</table>"
      ],
      "text/plain": [
       "<class 'statsmodels.iolib.summary.Summary'>\n",
       "\"\"\"\n",
       "                           Logit Regression Results                           \n",
       "==============================================================================\n",
       "Dep. Variable:                    boy   No. Observations:              2373016\n",
       "Model:                          Logit   Df Residuals:                  2373014\n",
       "Method:                           MLE   Df Model:                            1\n",
       "Date:                Tue, 17 May 2016   Pseudo R-squ.:               1.132e-08\n",
       "Time:                        16:38:17   Log-Likelihood:            -1.6440e+06\n",
       "converged:                       True   LL-Null:                   -1.6440e+06\n",
       "                                        LLR p-value:                    0.8470\n",
       "==============================================================================\n",
       "                 coef    std err          z      P>|z|      [95.0% Conf. Int.]\n",
       "------------------------------------------------------------------------------\n",
       "Intercept      0.0514      0.004     13.066      0.000         0.044     0.059\n",
       "dmar           0.0006      0.003      0.193      0.847        -0.005     0.006\n",
       "==============================================================================\n",
       "\"\"\""
      ]
     },
     "execution_count": 105,
     "metadata": {},
     "output_type": "execute_result"
    }
   ],
   "source": [
    "formula = ('boy ~ dmar')\n",
    "model = smf.logit(formula, data=white)\n",
    "results = model.fit()\n",
    "summarize(results)\n",
    "results.summary()"
   ]
  },
  {
   "cell_type": "code",
   "execution_count": 106,
   "metadata": {
    "collapsed": false
   },
   "outputs": [
    {
     "name": "stdout",
     "output_type": "stream",
     "text": [
      "Optimization terminated successfully.\n",
      "         Current function value: 0.692803\n",
      "         Iterations 3\n",
      "lowed                  105.4   105.5  \n"
     ]
    },
    {
     "data": {
      "text/html": [
       "<table class=\"simpletable\">\n",
       "<caption>Logit Regression Results</caption>\n",
       "<tr>\n",
       "  <th>Dep. Variable:</th>        <td>boy</td>       <th>  No. Observations:  </th>   <td>2128894</td>  \n",
       "</tr>\n",
       "<tr>\n",
       "  <th>Model:</th>               <td>Logit</td>      <th>  Df Residuals:      </th>   <td>2128892</td>  \n",
       "</tr>\n",
       "<tr>\n",
       "  <th>Method:</th>               <td>MLE</td>       <th>  Df Model:          </th>   <td>     1</td>   \n",
       "</tr>\n",
       "<tr>\n",
       "  <th>Date:</th>          <td>Tue, 17 May 2016</td> <th>  Pseudo R-squ.:     </th>  <td>1.716e-08</td> \n",
       "</tr>\n",
       "<tr>\n",
       "  <th>Time:</th>              <td>16:38:19</td>     <th>  Log-Likelihood:    </th> <td>-1.4749e+06</td>\n",
       "</tr>\n",
       "<tr>\n",
       "  <th>converged:</th>           <td>True</td>       <th>  LL-Null:           </th> <td>-1.4749e+06</td>\n",
       "</tr>\n",
       "<tr>\n",
       "  <th> </th>                      <td> </td>        <th>  LLR p-value:       </th>   <td>0.8220</td>   \n",
       "</tr>\n",
       "</table>\n",
       "<table class=\"simpletable\">\n",
       "<tr>\n",
       "      <td></td>         <th>coef</th>     <th>std err</th>      <th>z</th>      <th>P>|z|</th> <th>[95.0% Conf. Int.]</th> \n",
       "</tr>\n",
       "<tr>\n",
       "  <th>Intercept</th> <td>    0.0523</td> <td>    0.001</td> <td>   35.788</td> <td> 0.000</td> <td>    0.049     0.055</td>\n",
       "</tr>\n",
       "<tr>\n",
       "  <th>lowed</th>     <td>    0.0009</td> <td>    0.004</td> <td>    0.225</td> <td> 0.822</td> <td>   -0.007     0.009</td>\n",
       "</tr>\n",
       "</table>"
      ],
      "text/plain": [
       "<class 'statsmodels.iolib.summary.Summary'>\n",
       "\"\"\"\n",
       "                           Logit Regression Results                           \n",
       "==============================================================================\n",
       "Dep. Variable:                    boy   No. Observations:              2128894\n",
       "Model:                          Logit   Df Residuals:                  2128892\n",
       "Method:                           MLE   Df Model:                            1\n",
       "Date:                Tue, 17 May 2016   Pseudo R-squ.:               1.716e-08\n",
       "Time:                        16:38:19   Log-Likelihood:            -1.4749e+06\n",
       "converged:                       True   LL-Null:                   -1.4749e+06\n",
       "                                        LLR p-value:                    0.8220\n",
       "==============================================================================\n",
       "                 coef    std err          z      P>|z|      [95.0% Conf. Int.]\n",
       "------------------------------------------------------------------------------\n",
       "Intercept      0.0523      0.001     35.788      0.000         0.049     0.055\n",
       "lowed          0.0009      0.004      0.225      0.822        -0.007     0.009\n",
       "==============================================================================\n",
       "\"\"\""
      ]
     },
     "execution_count": 106,
     "metadata": {},
     "output_type": "execute_result"
    }
   ],
   "source": [
    "formula = ('boy ~ lowed')\n",
    "model = smf.logit(formula, data=white)\n",
    "results = model.fit()\n",
    "summarize(results)\n",
    "results.summary()"
   ]
  },
  {
   "cell_type": "code",
   "execution_count": 107,
   "metadata": {
    "collapsed": false
   },
   "outputs": [
    {
     "name": "stdout",
     "output_type": "stream",
     "text": [
      "Optimization terminated successfully.\n",
      "         Current function value: 0.692808\n",
      "         Iterations 3\n",
      "highbo                 105.4   105.2  \n"
     ]
    },
    {
     "data": {
      "text/html": [
       "<table class=\"simpletable\">\n",
       "<caption>Logit Regression Results</caption>\n",
       "<tr>\n",
       "  <th>Dep. Variable:</th>        <td>boy</td>       <th>  No. Observations:  </th>   <td>2364914</td>  \n",
       "</tr>\n",
       "<tr>\n",
       "  <th>Model:</th>               <td>Logit</td>      <th>  Df Residuals:      </th>   <td>2364912</td>  \n",
       "</tr>\n",
       "<tr>\n",
       "  <th>Method:</th>               <td>MLE</td>       <th>  Df Model:          </th>   <td>     1</td>   \n",
       "</tr>\n",
       "<tr>\n",
       "  <th>Date:</th>          <td>Tue, 17 May 2016</td> <th>  Pseudo R-squ.:     </th>  <td>1.675e-08</td> \n",
       "</tr>\n",
       "<tr>\n",
       "  <th>Time:</th>              <td>16:38:22</td>     <th>  Log-Likelihood:    </th> <td>-1.6384e+06</td>\n",
       "</tr>\n",
       "<tr>\n",
       "  <th>converged:</th>           <td>True</td>       <th>  LL-Null:           </th> <td>-1.6384e+06</td>\n",
       "</tr>\n",
       "<tr>\n",
       "  <th> </th>                      <td> </td>        <th>  LLR p-value:       </th>   <td>0.8148</td>   \n",
       "</tr>\n",
       "</table>\n",
       "<table class=\"simpletable\">\n",
       "<tr>\n",
       "      <td></td>         <th>coef</th>     <th>std err</th>      <th>z</th>      <th>P>|z|</th> <th>[95.0% Conf. Int.]</th> \n",
       "</tr>\n",
       "<tr>\n",
       "  <th>Intercept</th> <td>    0.0521</td> <td>    0.001</td> <td>   39.220</td> <td> 0.000</td> <td>    0.050     0.055</td>\n",
       "</tr>\n",
       "<tr>\n",
       "  <th>highbo</th>    <td>   -0.0015</td> <td>    0.006</td> <td>   -0.234</td> <td> 0.815</td> <td>   -0.014     0.011</td>\n",
       "</tr>\n",
       "</table>"
      ],
      "text/plain": [
       "<class 'statsmodels.iolib.summary.Summary'>\n",
       "\"\"\"\n",
       "                           Logit Regression Results                           \n",
       "==============================================================================\n",
       "Dep. Variable:                    boy   No. Observations:              2364914\n",
       "Model:                          Logit   Df Residuals:                  2364912\n",
       "Method:                           MLE   Df Model:                            1\n",
       "Date:                Tue, 17 May 2016   Pseudo R-squ.:               1.675e-08\n",
       "Time:                        16:38:22   Log-Likelihood:            -1.6384e+06\n",
       "converged:                       True   LL-Null:                   -1.6384e+06\n",
       "                                        LLR p-value:                    0.8148\n",
       "==============================================================================\n",
       "                 coef    std err          z      P>|z|      [95.0% Conf. Int.]\n",
       "------------------------------------------------------------------------------\n",
       "Intercept      0.0521      0.001     39.220      0.000         0.050     0.055\n",
       "highbo        -0.0015      0.006     -0.234      0.815        -0.014     0.011\n",
       "==============================================================================\n",
       "\"\"\""
      ]
     },
     "execution_count": 107,
     "metadata": {},
     "output_type": "execute_result"
    }
   ],
   "source": [
    "formula = ('boy ~ highbo')\n",
    "model = smf.logit(formula, data=white)\n",
    "results = model.fit()\n",
    "summarize(results)\n",
    "results.summary()"
   ]
  },
  {
   "cell_type": "code",
   "execution_count": 108,
   "metadata": {
    "collapsed": false
   },
   "outputs": [
    {
     "name": "stdout",
     "output_type": "stream",
     "text": [
      "Optimization terminated successfully.\n",
      "         Current function value: 0.692806\n",
      "         Iterations 3\n",
      "wic[T.Y]               105.4   105.3  \n"
     ]
    },
    {
     "data": {
      "text/html": [
       "<table class=\"simpletable\">\n",
       "<caption>Logit Regression Results</caption>\n",
       "<tr>\n",
       "  <th>Dep. Variable:</th>        <td>boy</td>       <th>  No. Observations:  </th>   <td>2096546</td>  \n",
       "</tr>\n",
       "<tr>\n",
       "  <th>Model:</th>               <td>Logit</td>      <th>  Df Residuals:      </th>   <td>2096544</td>  \n",
       "</tr>\n",
       "<tr>\n",
       "  <th>Method:</th>               <td>MLE</td>       <th>  Df Model:          </th>   <td>     1</td>   \n",
       "</tr>\n",
       "<tr>\n",
       "  <th>Date:</th>          <td>Tue, 17 May 2016</td> <th>  Pseudo R-squ.:     </th>  <td>1.034e-07</td> \n",
       "</tr>\n",
       "<tr>\n",
       "  <th>Time:</th>              <td>16:38:38</td>     <th>  Log-Likelihood:    </th> <td>-1.4525e+06</td>\n",
       "</tr>\n",
       "<tr>\n",
       "  <th>converged:</th>           <td>True</td>       <th>  LL-Null:           </th> <td>-1.4525e+06</td>\n",
       "</tr>\n",
       "<tr>\n",
       "  <th> </th>                      <td> </td>        <th>  LLR p-value:       </th>   <td>0.5836</td>   \n",
       "</tr>\n",
       "</table>\n",
       "<table class=\"simpletable\">\n",
       "<tr>\n",
       "      <td></td>         <th>coef</th>     <th>std err</th>      <th>z</th>      <th>P>|z|</th> <th>[95.0% Conf. Int.]</th> \n",
       "</tr>\n",
       "<tr>\n",
       "  <th>Intercept</th> <td>    0.0528</td> <td>    0.002</td> <td>   30.597</td> <td> 0.000</td> <td>    0.049     0.056</td>\n",
       "</tr>\n",
       "<tr>\n",
       "  <th>wic[T.Y]</th>  <td>   -0.0016</td> <td>    0.003</td> <td>   -0.548</td> <td> 0.584</td> <td>   -0.007     0.004</td>\n",
       "</tr>\n",
       "</table>"
      ],
      "text/plain": [
       "<class 'statsmodels.iolib.summary.Summary'>\n",
       "\"\"\"\n",
       "                           Logit Regression Results                           \n",
       "==============================================================================\n",
       "Dep. Variable:                    boy   No. Observations:              2096546\n",
       "Model:                          Logit   Df Residuals:                  2096544\n",
       "Method:                           MLE   Df Model:                            1\n",
       "Date:                Tue, 17 May 2016   Pseudo R-squ.:               1.034e-07\n",
       "Time:                        16:38:38   Log-Likelihood:            -1.4525e+06\n",
       "converged:                       True   LL-Null:                   -1.4525e+06\n",
       "                                        LLR p-value:                    0.5836\n",
       "==============================================================================\n",
       "                 coef    std err          z      P>|z|      [95.0% Conf. Int.]\n",
       "------------------------------------------------------------------------------\n",
       "Intercept      0.0528      0.002     30.597      0.000         0.049     0.056\n",
       "wic[T.Y]      -0.0016      0.003     -0.548      0.584        -0.007     0.004\n",
       "==============================================================================\n",
       "\"\"\""
      ]
     },
     "execution_count": 108,
     "metadata": {},
     "output_type": "execute_result"
    }
   ],
   "source": [
    "formula = ('boy ~ wic')\n",
    "model = smf.logit(formula, data=white)\n",
    "results = model.fit()\n",
    "summarize(results)\n",
    "results.summary()"
   ]
  },
  {
   "cell_type": "code",
   "execution_count": 109,
   "metadata": {
    "collapsed": false
   },
   "outputs": [
    {
     "name": "stdout",
     "output_type": "stream",
     "text": [
      "Optimization terminated successfully.\n",
      "         Current function value: 0.692806\n",
      "         Iterations 3\n",
      "obese                  105.4   105.1  \n"
     ]
    },
    {
     "data": {
      "text/html": [
       "<table class=\"simpletable\">\n",
       "<caption>Logit Regression Results</caption>\n",
       "<tr>\n",
       "  <th>Dep. Variable:</th>        <td>boy</td>       <th>  No. Observations:  </th>   <td>2061631</td>  \n",
       "</tr>\n",
       "<tr>\n",
       "  <th>Model:</th>               <td>Logit</td>      <th>  Df Residuals:      </th>   <td>2061629</td>  \n",
       "</tr>\n",
       "<tr>\n",
       "  <th>Method:</th>               <td>MLE</td>       <th>  Df Model:          </th>   <td>     1</td>   \n",
       "</tr>\n",
       "<tr>\n",
       "  <th>Date:</th>          <td>Tue, 17 May 2016</td> <th>  Pseudo R-squ.:     </th>  <td>3.055e-07</td> \n",
       "</tr>\n",
       "<tr>\n",
       "  <th>Time:</th>              <td>16:38:41</td>     <th>  Log-Likelihood:    </th> <td>-1.4283e+06</td>\n",
       "</tr>\n",
       "<tr>\n",
       "  <th>converged:</th>           <td>True</td>       <th>  LL-Null:           </th> <td>-1.4283e+06</td>\n",
       "</tr>\n",
       "<tr>\n",
       "  <th> </th>                      <td> </td>        <th>  LLR p-value:       </th>   <td>0.3502</td>   \n",
       "</tr>\n",
       "</table>\n",
       "<table class=\"simpletable\">\n",
       "<tr>\n",
       "      <td></td>         <th>coef</th>     <th>std err</th>      <th>z</th>      <th>P>|z|</th> <th>[95.0% Conf. Int.]</th> \n",
       "</tr>\n",
       "<tr>\n",
       "  <th>Intercept</th> <td>    0.0530</td> <td>    0.002</td> <td>   33.495</td> <td> 0.000</td> <td>    0.050     0.056</td>\n",
       "</tr>\n",
       "<tr>\n",
       "  <th>obese</th>     <td>   -0.0031</td> <td>    0.003</td> <td>   -0.934</td> <td> 0.350</td> <td>   -0.010     0.003</td>\n",
       "</tr>\n",
       "</table>"
      ],
      "text/plain": [
       "<class 'statsmodels.iolib.summary.Summary'>\n",
       "\"\"\"\n",
       "                           Logit Regression Results                           \n",
       "==============================================================================\n",
       "Dep. Variable:                    boy   No. Observations:              2061631\n",
       "Model:                          Logit   Df Residuals:                  2061629\n",
       "Method:                           MLE   Df Model:                            1\n",
       "Date:                Tue, 17 May 2016   Pseudo R-squ.:               3.055e-07\n",
       "Time:                        16:38:41   Log-Likelihood:            -1.4283e+06\n",
       "converged:                       True   LL-Null:                   -1.4283e+06\n",
       "                                        LLR p-value:                    0.3502\n",
       "==============================================================================\n",
       "                 coef    std err          z      P>|z|      [95.0% Conf. Int.]\n",
       "------------------------------------------------------------------------------\n",
       "Intercept      0.0530      0.002     33.495      0.000         0.050     0.056\n",
       "obese         -0.0031      0.003     -0.934      0.350        -0.010     0.003\n",
       "==============================================================================\n",
       "\"\"\""
      ]
     },
     "execution_count": 109,
     "metadata": {},
     "output_type": "execute_result"
    }
   ],
   "source": [
    "formula = ('boy ~ obese')\n",
    "model = smf.logit(formula, data=white)\n",
    "results = model.fit()\n",
    "summarize(results)\n",
    "results.summary()"
   ]
  },
  {
   "cell_type": "code",
   "execution_count": 110,
   "metadata": {
    "collapsed": false
   },
   "outputs": [
    {
     "name": "stdout",
     "output_type": "stream",
     "text": [
      "Optimization terminated successfully.\n",
      "         Current function value: 0.692804\n",
      "         Iterations 3\n",
      "C(pay_rec)[T.2.0]      105.3   105.2  \n",
      "C(pay_rec)[T.3.0]      105.3   106.8  \n",
      "C(pay_rec)[T.4.0]      105.3   106.5  \n"
     ]
    },
    {
     "data": {
      "text/html": [
       "<table class=\"simpletable\">\n",
       "<caption>Logit Regression Results</caption>\n",
       "<tr>\n",
       "  <th>Dep. Variable:</th>        <td>boy</td>       <th>  No. Observations:  </th>   <td>2118925</td>  \n",
       "</tr>\n",
       "<tr>\n",
       "  <th>Model:</th>               <td>Logit</td>      <th>  Df Residuals:      </th>   <td>2118921</td>  \n",
       "</tr>\n",
       "<tr>\n",
       "  <th>Method:</th>               <td>MLE</td>       <th>  Df Model:          </th>   <td>     3</td>   \n",
       "</tr>\n",
       "<tr>\n",
       "  <th>Date:</th>          <td>Tue, 17 May 2016</td> <th>  Pseudo R-squ.:     </th>  <td>2.490e-06</td> \n",
       "</tr>\n",
       "<tr>\n",
       "  <th>Time:</th>              <td>16:38:58</td>     <th>  Log-Likelihood:    </th> <td>-1.4680e+06</td>\n",
       "</tr>\n",
       "<tr>\n",
       "  <th>converged:</th>           <td>True</td>       <th>  LL-Null:           </th> <td>-1.4680e+06</td>\n",
       "</tr>\n",
       "<tr>\n",
       "  <th> </th>                      <td> </td>        <th>  LLR p-value:       </th>   <td>0.06264</td>  \n",
       "</tr>\n",
       "</table>\n",
       "<table class=\"simpletable\">\n",
       "<tr>\n",
       "          <td></td>             <th>coef</th>     <th>std err</th>      <th>z</th>      <th>P>|z|</th> <th>[95.0% Conf. Int.]</th> \n",
       "</tr>\n",
       "<tr>\n",
       "  <th>Intercept</th>         <td>    0.0519</td> <td>    0.002</td> <td>   21.966</td> <td> 0.000</td> <td>    0.047     0.057</td>\n",
       "</tr>\n",
       "<tr>\n",
       "  <th>C(pay_rec)[T.2.0]</th> <td>   -0.0012</td> <td>    0.003</td> <td>   -0.416</td> <td> 0.677</td> <td>   -0.007     0.005</td>\n",
       "</tr>\n",
       "<tr>\n",
       "  <th>C(pay_rec)[T.3.0]</th> <td>    0.0134</td> <td>    0.007</td> <td>    1.853</td> <td> 0.064</td> <td>   -0.001     0.028</td>\n",
       "</tr>\n",
       "<tr>\n",
       "  <th>C(pay_rec)[T.4.0]</th> <td>    0.0112</td> <td>    0.007</td> <td>    1.641</td> <td> 0.101</td> <td>   -0.002     0.024</td>\n",
       "</tr>\n",
       "</table>"
      ],
      "text/plain": [
       "<class 'statsmodels.iolib.summary.Summary'>\n",
       "\"\"\"\n",
       "                           Logit Regression Results                           \n",
       "==============================================================================\n",
       "Dep. Variable:                    boy   No. Observations:              2118925\n",
       "Model:                          Logit   Df Residuals:                  2118921\n",
       "Method:                           MLE   Df Model:                            3\n",
       "Date:                Tue, 17 May 2016   Pseudo R-squ.:               2.490e-06\n",
       "Time:                        16:38:58   Log-Likelihood:            -1.4680e+06\n",
       "converged:                       True   LL-Null:                   -1.4680e+06\n",
       "                                        LLR p-value:                   0.06264\n",
       "=====================================================================================\n",
       "                        coef    std err          z      P>|z|      [95.0% Conf. Int.]\n",
       "-------------------------------------------------------------------------------------\n",
       "Intercept             0.0519      0.002     21.966      0.000         0.047     0.057\n",
       "C(pay_rec)[T.2.0]    -0.0012      0.003     -0.416      0.677        -0.007     0.005\n",
       "C(pay_rec)[T.3.0]     0.0134      0.007      1.853      0.064        -0.001     0.028\n",
       "C(pay_rec)[T.4.0]     0.0112      0.007      1.641      0.101        -0.002     0.024\n",
       "=====================================================================================\n",
       "\"\"\""
      ]
     },
     "execution_count": 110,
     "metadata": {},
     "output_type": "execute_result"
    }
   ],
   "source": [
    "formula = ('boy ~ C(pay_rec)')\n",
    "model = smf.logit(formula, data=white)\n",
    "results = model.fit()\n",
    "summarize(results)\n",
    "results.summary()"
   ]
  },
  {
   "cell_type": "code",
   "execution_count": 111,
   "metadata": {
    "collapsed": false
   },
   "outputs": [
    {
     "name": "stdout",
     "output_type": "stream",
     "text": [
      "Optimization terminated successfully.\n",
      "         Current function value: 0.692806\n",
      "         Iterations 3\n",
      "mager9                 106.9   106.5 *\n"
     ]
    },
    {
     "data": {
      "text/html": [
       "<table class=\"simpletable\">\n",
       "<caption>Logit Regression Results</caption>\n",
       "<tr>\n",
       "  <th>Dep. Variable:</th>        <td>boy</td>       <th>  No. Observations:  </th>   <td>2373016</td>  \n",
       "</tr>\n",
       "<tr>\n",
       "  <th>Model:</th>               <td>Logit</td>      <th>  Df Residuals:      </th>   <td>2373014</td>  \n",
       "</tr>\n",
       "<tr>\n",
       "  <th>Method:</th>               <td>MLE</td>       <th>  Df Model:          </th>   <td>     1</td>   \n",
       "</tr>\n",
       "<tr>\n",
       "  <th>Date:</th>          <td>Tue, 17 May 2016</td> <th>  Pseudo R-squ.:     </th>  <td>2.743e-06</td> \n",
       "</tr>\n",
       "<tr>\n",
       "  <th>Time:</th>              <td>16:39:02</td>     <th>  Log-Likelihood:    </th> <td>-1.6440e+06</td>\n",
       "</tr>\n",
       "<tr>\n",
       "  <th>converged:</th>           <td>True</td>       <th>  LL-Null:           </th> <td>-1.6440e+06</td>\n",
       "</tr>\n",
       "<tr>\n",
       "  <th> </th>                      <td> </td>        <th>  LLR p-value:       </th>  <td>0.002671</td>  \n",
       "</tr>\n",
       "</table>\n",
       "<table class=\"simpletable\">\n",
       "<tr>\n",
       "      <td></td>         <th>coef</th>     <th>std err</th>      <th>z</th>      <th>P>|z|</th> <th>[95.0% Conf. Int.]</th> \n",
       "</tr>\n",
       "<tr>\n",
       "  <th>Intercept</th> <td>    0.0666</td> <td>    0.005</td> <td>   13.343</td> <td> 0.000</td> <td>    0.057     0.076</td>\n",
       "</tr>\n",
       "<tr>\n",
       "  <th>mager9</th>    <td>   -0.0033</td> <td>    0.001</td> <td>   -3.003</td> <td> 0.003</td> <td>   -0.005    -0.001</td>\n",
       "</tr>\n",
       "</table>"
      ],
      "text/plain": [
       "<class 'statsmodels.iolib.summary.Summary'>\n",
       "\"\"\"\n",
       "                           Logit Regression Results                           \n",
       "==============================================================================\n",
       "Dep. Variable:                    boy   No. Observations:              2373016\n",
       "Model:                          Logit   Df Residuals:                  2373014\n",
       "Method:                           MLE   Df Model:                            1\n",
       "Date:                Tue, 17 May 2016   Pseudo R-squ.:               2.743e-06\n",
       "Time:                        16:39:02   Log-Likelihood:            -1.6440e+06\n",
       "converged:                       True   LL-Null:                   -1.6440e+06\n",
       "                                        LLR p-value:                  0.002671\n",
       "==============================================================================\n",
       "                 coef    std err          z      P>|z|      [95.0% Conf. Int.]\n",
       "------------------------------------------------------------------------------\n",
       "Intercept      0.0666      0.005     13.343      0.000         0.057     0.076\n",
       "mager9        -0.0033      0.001     -3.003      0.003        -0.005    -0.001\n",
       "==============================================================================\n",
       "\"\"\""
      ]
     },
     "execution_count": 111,
     "metadata": {},
     "output_type": "execute_result"
    }
   ],
   "source": [
    "formula = ('boy ~ mager9')\n",
    "model = smf.logit(formula, data=white)\n",
    "results = model.fit()\n",
    "summarize(results)\n",
    "results.summary()"
   ]
  },
  {
   "cell_type": "code",
   "execution_count": 112,
   "metadata": {
    "collapsed": false
   },
   "outputs": [
    {
     "name": "stdout",
     "output_type": "stream",
     "text": [
      "Optimization terminated successfully.\n",
      "         Current function value: 0.692806\n",
      "         Iterations 3\n",
      "youngm[T.True]         105.3   106.7 *\n",
      "oldm[T.True]           105.3   103.9  \n"
     ]
    },
    {
     "data": {
      "text/html": [
       "<table class=\"simpletable\">\n",
       "<caption>Logit Regression Results</caption>\n",
       "<tr>\n",
       "  <th>Dep. Variable:</th>        <td>boy</td>       <th>  No. Observations:  </th>   <td>2373016</td>  \n",
       "</tr>\n",
       "<tr>\n",
       "  <th>Model:</th>               <td>Logit</td>      <th>  Df Residuals:      </th>   <td>2373013</td>  \n",
       "</tr>\n",
       "<tr>\n",
       "  <th>Method:</th>               <td>MLE</td>       <th>  Df Model:          </th>   <td>     2</td>   \n",
       "</tr>\n",
       "<tr>\n",
       "  <th>Date:</th>          <td>Tue, 17 May 2016</td> <th>  Pseudo R-squ.:     </th>  <td>2.490e-06</td> \n",
       "</tr>\n",
       "<tr>\n",
       "  <th>Time:</th>              <td>16:39:07</td>     <th>  Log-Likelihood:    </th> <td>-1.6440e+06</td>\n",
       "</tr>\n",
       "<tr>\n",
       "  <th>converged:</th>           <td>True</td>       <th>  LL-Null:           </th> <td>-1.6440e+06</td>\n",
       "</tr>\n",
       "<tr>\n",
       "  <th> </th>                      <td> </td>        <th>  LLR p-value:       </th>   <td>0.01668</td>  \n",
       "</tr>\n",
       "</table>\n",
       "<table class=\"simpletable\">\n",
       "<tr>\n",
       "         <td></td>           <th>coef</th>     <th>std err</th>      <th>z</th>      <th>P>|z|</th> <th>[95.0% Conf. Int.]</th> \n",
       "</tr>\n",
       "<tr>\n",
       "  <th>Intercept</th>      <td>    0.0519</td> <td>    0.001</td> <td>   38.350</td> <td> 0.000</td> <td>    0.049     0.055</td>\n",
       "</tr>\n",
       "<tr>\n",
       "  <th>youngm[T.True]</th> <td>    0.0129</td> <td>    0.006</td> <td>    2.146</td> <td> 0.032</td> <td>    0.001     0.025</td>\n",
       "</tr>\n",
       "<tr>\n",
       "  <th>oldm[T.True]</th>   <td>   -0.0137</td> <td>    0.008</td> <td>   -1.805</td> <td> 0.071</td> <td>   -0.029     0.001</td>\n",
       "</tr>\n",
       "</table>"
      ],
      "text/plain": [
       "<class 'statsmodels.iolib.summary.Summary'>\n",
       "\"\"\"\n",
       "                           Logit Regression Results                           \n",
       "==============================================================================\n",
       "Dep. Variable:                    boy   No. Observations:              2373016\n",
       "Model:                          Logit   Df Residuals:                  2373013\n",
       "Method:                           MLE   Df Model:                            2\n",
       "Date:                Tue, 17 May 2016   Pseudo R-squ.:               2.490e-06\n",
       "Time:                        16:39:07   Log-Likelihood:            -1.6440e+06\n",
       "converged:                       True   LL-Null:                   -1.6440e+06\n",
       "                                        LLR p-value:                   0.01668\n",
       "==================================================================================\n",
       "                     coef    std err          z      P>|z|      [95.0% Conf. Int.]\n",
       "----------------------------------------------------------------------------------\n",
       "Intercept          0.0519      0.001     38.350      0.000         0.049     0.055\n",
       "youngm[T.True]     0.0129      0.006      2.146      0.032         0.001     0.025\n",
       "oldm[T.True]      -0.0137      0.008     -1.805      0.071        -0.029     0.001\n",
       "==================================================================================\n",
       "\"\"\""
      ]
     },
     "execution_count": 112,
     "metadata": {},
     "output_type": "execute_result"
    }
   ],
   "source": [
    "formula = ('boy ~ youngm + oldm')\n",
    "model = smf.logit(formula, data=white)\n",
    "results = model.fit()\n",
    "summarize(results)\n",
    "results.summary()"
   ]
  },
  {
   "cell_type": "code",
   "execution_count": 113,
   "metadata": {
    "collapsed": false
   },
   "outputs": [
    {
     "name": "stdout",
     "output_type": "stream",
     "text": [
      "Optimization terminated successfully.\n",
      "         Current function value: 0.692807\n",
      "         Iterations 3\n",
      "youngf                 105.3   107.3 *\n",
      "oldf                   105.3   103.9  \n"
     ]
    },
    {
     "data": {
      "text/html": [
       "<table class=\"simpletable\">\n",
       "<caption>Logit Regression Results</caption>\n",
       "<tr>\n",
       "  <th>Dep. Variable:</th>        <td>boy</td>       <th>  No. Observations:  </th>   <td>2368037</td>  \n",
       "</tr>\n",
       "<tr>\n",
       "  <th>Model:</th>               <td>Logit</td>      <th>  Df Residuals:      </th>   <td>2368034</td>  \n",
       "</tr>\n",
       "<tr>\n",
       "  <th>Method:</th>               <td>MLE</td>       <th>  Df Model:          </th>   <td>     2</td>   \n",
       "</tr>\n",
       "<tr>\n",
       "  <th>Date:</th>          <td>Tue, 17 May 2016</td> <th>  Pseudo R-squ.:     </th>  <td>2.483e-06</td> \n",
       "</tr>\n",
       "<tr>\n",
       "  <th>Time:</th>              <td>16:39:11</td>     <th>  Log-Likelihood:    </th> <td>-1.6406e+06</td>\n",
       "</tr>\n",
       "<tr>\n",
       "  <th>converged:</th>           <td>True</td>       <th>  LL-Null:           </th> <td>-1.6406e+06</td>\n",
       "</tr>\n",
       "<tr>\n",
       "  <th> </th>                      <td> </td>        <th>  LLR p-value:       </th>   <td>0.01701</td>  \n",
       "</tr>\n",
       "</table>\n",
       "<table class=\"simpletable\">\n",
       "<tr>\n",
       "      <td></td>         <th>coef</th>     <th>std err</th>      <th>z</th>      <th>P>|z|</th> <th>[95.0% Conf. Int.]</th> \n",
       "</tr>\n",
       "<tr>\n",
       "  <th>Intercept</th> <td>    0.0520</td> <td>    0.001</td> <td>   38.943</td> <td> 0.000</td> <td>    0.049     0.055</td>\n",
       "</tr>\n",
       "<tr>\n",
       "  <th>youngf</th>    <td>    0.0182</td> <td>    0.009</td> <td>    2.137</td> <td> 0.033</td> <td>    0.002     0.035</td>\n",
       "</tr>\n",
       "<tr>\n",
       "  <th>oldf</th>      <td>   -0.0140</td> <td>    0.008</td> <td>   -1.834</td> <td> 0.067</td> <td>   -0.029     0.001</td>\n",
       "</tr>\n",
       "</table>"
      ],
      "text/plain": [
       "<class 'statsmodels.iolib.summary.Summary'>\n",
       "\"\"\"\n",
       "                           Logit Regression Results                           \n",
       "==============================================================================\n",
       "Dep. Variable:                    boy   No. Observations:              2368037\n",
       "Model:                          Logit   Df Residuals:                  2368034\n",
       "Method:                           MLE   Df Model:                            2\n",
       "Date:                Tue, 17 May 2016   Pseudo R-squ.:               2.483e-06\n",
       "Time:                        16:39:11   Log-Likelihood:            -1.6406e+06\n",
       "converged:                       True   LL-Null:                   -1.6406e+06\n",
       "                                        LLR p-value:                   0.01701\n",
       "==============================================================================\n",
       "                 coef    std err          z      P>|z|      [95.0% Conf. Int.]\n",
       "------------------------------------------------------------------------------\n",
       "Intercept      0.0520      0.001     38.943      0.000         0.049     0.055\n",
       "youngf         0.0182      0.009      2.137      0.033         0.002     0.035\n",
       "oldf          -0.0140      0.008     -1.834      0.067        -0.029     0.001\n",
       "==============================================================================\n",
       "\"\"\""
      ]
     },
     "execution_count": 113,
     "metadata": {},
     "output_type": "execute_result"
    }
   ],
   "source": [
    "formula = ('boy ~ youngf + oldf')\n",
    "model = smf.logit(formula, data=white)\n",
    "results = model.fit()\n",
    "summarize(results)\n",
    "results.summary()"
   ]
  },
  {
   "cell_type": "code",
   "execution_count": null,
   "metadata": {
    "collapsed": true
   },
   "outputs": [],
   "source": []
  },
  {
   "cell_type": "code",
   "execution_count": null,
   "metadata": {
    "collapsed": true
   },
   "outputs": [],
   "source": []
  }
 ],
 "metadata": {
  "kernelspec": {
   "display_name": "Python 2",
   "language": "python",
   "name": "python2"
  },
  "language_info": {
   "codemirror_mode": {
    "name": "ipython",
    "version": 2
   },
   "file_extension": ".py",
   "mimetype": "text/x-python",
   "name": "python",
   "nbconvert_exporter": "python",
   "pygments_lexer": "ipython2",
   "version": "2.7.11"
  }
 },
 "nbformat": 4,
 "nbformat_minor": 0
}
