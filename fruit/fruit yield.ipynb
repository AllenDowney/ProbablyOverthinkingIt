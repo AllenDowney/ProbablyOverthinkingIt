{
 "cells": [
  {
   "cell_type": "markdown",
   "metadata": {},
   "source": [
    "### Introduction\n",
    "\n",
    "In portuguese [West Region](http://www.perarocha.pt/custompages/showpage.aspx?pageid=33eae525-41ba-481b-b58d-5b686360edfd&m=b26), pear tree cv 'Rocha' is one of the most important crops. Every year, due to climate diferences and yield alternation, production could change a lot, as you can see in the following examples:\n",
    "\n",
    "* In 2012, 11226 ha produced 116287 metric tons of pears\n",
    "* In 2013, 12014 ha produced 202483 metric tons of pears\n",
    "\n",
    "This situation take producers to unexpected costs of transport and chill storage. Furthermore our experience tell us that in low yield years the production tend to be overestimated and in high yield years the production tend to be underestimated."
   ]
  },
  {
   "cell_type": "markdown",
   "metadata": {},
   "source": [
    "### Some images and concepts\n",
    "In [this image](http://www.agronegocios.eu/userfiles/image/dropzone/blogs/20150917092554-perarocha03.jpg) we have two clusters, the left one with two fruits and the right one with one fruit. You can see [some more](http://hortinet.info/wp-content/uploads/perarocha2.png) in this image."
   ]
  },
  {
   "cell_type": "markdown",
   "metadata": {},
   "source": [
    "### Disassembling the problem\n",
    "\n",
    "My idea was to \"decompose\" the variable that I want to estimate in a product of 5 variables that I can sample easily:\n",
    "\n",
    "$\\frac{yield}{hectare} = \\frac{number\\,of\\,trees}{hectare} \\times \\frac{number\\,of\\,branches}{tree} \\times \\frac{number\\,of\\,clusters}{branch} \\times \\frac{number\\,of\\,fruits}{cluster} \\times fruit\\;average\\;weight$\n",
    "\n",
    "1. We can know exactly what is the number of trees per hectare, since they are planted with constant distances.\n",
    "2. After making a groupby the dataframe can give us a count of branches by tree.\n",
    "3. After making a groupby the dataframe can give us a count of clusters by branch.\n",
    "4. The number of fruits by cluster was counted and recorded directly.\n",
    "5. The average weight is measured every year and we can get a good estimate of the variable.\n",
    "\n",
    "We also tried to collect some measures about tree growth like height and diameter.\n",
    "\n",
    "I \"invited\" some coleagues of mine to collect a (I hope) big enough dataset to resample it after and try to find some pattern. By now, I've started by the number of fruits per cluster."
   ]
  },
  {
   "cell_type": "markdown",
   "metadata": {},
   "source": [
    "### Importing some libs"
   ]
  },
  {
   "cell_type": "code",
   "execution_count": 1,
   "metadata": {
    "collapsed": false
   },
   "outputs": [],
   "source": [
    "import pandas as pd\n",
    "import numpy as np\n",
    "import random\n",
    "\n",
    "from scipy.optimize import curve_fit\n",
    "from scipy.stats import binom\n",
    "from scipy.misc import factorial\n",
    "\n",
    "import seaborn as sns\n",
    "import matplotlib.pyplot as plt\n",
    "%matplotlib inline"
   ]
  },
  {
   "cell_type": "markdown",
   "metadata": {},
   "source": [
    "### Reading the datasets\n",
    "Datasets were collected at the same time, in the same orchard, but by diferent teams."
   ]
  },
  {
   "cell_type": "code",
   "execution_count": 2,
   "metadata": {
    "collapsed": false
   },
   "outputs": [],
   "source": [
    "df = pd.read_csv('dataset_1.csv') #dataset 1\n",
    "df2 = pd.read_csv('dataset_2.csv') #dataset 2\n",
    "dfx = pd.concat([df,df2])"
   ]
  },
  {
   "cell_type": "markdown",
   "metadata": {},
   "source": [
    "We start analysing the number of fruits per cluster, using the two datasets separately, and then the dataset resulted from joining the firs ones."
   ]
  },
  {
   "cell_type": "code",
   "execution_count": 3,
   "metadata": {
    "collapsed": false
   },
   "outputs": [
    {
     "data": {
      "image/png": "[encoded data removed]",
      "text/plain": [
       "<matplotlib.figure.Figure at 0x7fab84d8cb38>"
      ]
     },
     "metadata": {},
     "output_type": "display_data"
    }
   ],
   "source": [
    "def poisson(k, lamb):\n",
    "    return (lamb**k/factorial(k)) * np.exp(-lamb)\n",
    "\n",
    "data = df.fruit_number\n",
    "m = np.min(data)\n",
    "M = np.max(data)\n",
    "n = np.size(np.unique(data))\n",
    "\n",
    "# the bins should be of integer width, because poisson is an integer distribution\n",
    "entries, bin_edges, patches = plt.hist(data, bins=n, range=[m, M], normed=True)\n",
    "\n",
    "# calculate binmiddles\n",
    "bin_middles = 0.5*(bin_edges[1:] + bin_edges[:-1])\n",
    "\n",
    "# fit with curve_fit\n",
    "parameters, cov_matrix = curve_fit(poisson, bin_middles, entries) \n",
    "\n",
    "# plot poisson-deviation with fitted parameter\n",
    "x_plot = np.linspace(m, M, 100)\n",
    "plt.plot(x_plot, poisson(x_plot, *parameters), 'r-', lw=2)\n",
    "plt.title(parameters[0])\n",
    "plt.show()"
   ]
  },
  {
   "cell_type": "markdown",
   "metadata": {},
   "source": []
  },
  {
   "cell_type": "code",
   "execution_count": 4,
   "metadata": {
    "collapsed": false
   },
   "outputs": [
    {
     "data": {
      "text/plain": [
       "count    604.000000\n",
       "mean       2.367550\n",
       "std        1.551976\n",
       "min        1.000000\n",
       "25%        1.000000\n",
       "50%        2.000000\n",
       "75%        3.000000\n",
       "max       11.000000\n",
       "Name: fruit_number, dtype: float64"
      ]
     },
     "execution_count": 4,
     "metadata": {},
     "output_type": "execute_result"
    }
   ],
   "source": [
    "data.describe()"
   ]
  },
  {
   "cell_type": "markdown",
   "metadata": {},
   "source": [
    "Here's a Bayesian approach to the same problem.\n",
    "\n",
    "The `Fruit` class inherits `Update` from `Suite`, and it provides `Likelihood`, which is the likelihood of the data (a sequence of integer counts) under a given hypothesis (the parameter of a Poisson distribution).\n",
    "\n",
    "It assumes that branches with 0 fruits were not counted, so for each hypothetical Poisson PMF, it sets the probability of 0 fruits to 0 and renormalizes."
   ]
  },
  {
   "cell_type": "code",
   "execution_count": 5,
   "metadata": {
    "collapsed": false
   },
   "outputs": [],
   "source": [
    "import thinkbayes2\n",
    "import thinkplot\n",
    "\n",
    "class Fruit(thinkbayes2.Suite):\n",
    "    \n",
    "    def Likelihood(self, data, hypo):\n",
    "        \"\"\"Computes the likelihood of `data` under `hypo`.\n",
    "        \n",
    "        data: sequence of integer counts\n",
    "        hypo: parameter of Poisson distribution\n",
    "        \"\"\"\n",
    "        if hypo == 0:\n",
    "            return 0\n",
    "        \n",
    "        pmf = thinkbayes2.MakePoissonPmf(hypo, high=15)\n",
    "        pmf[0] = 0\n",
    "        pmf.Normalize()\n",
    "        \n",
    "        like = 1\n",
    "        for count in data:\n",
    "            like *= pmf[count]\n",
    "        return like"
   ]
  },
  {
   "cell_type": "markdown",
   "metadata": {},
   "source": [
    "In order to process all of the data, we have to break it into chunks and renormalize after each chunk.  Otherwise the likelihoods underflow (round down to 0)."
   ]
  },
  {
   "cell_type": "code",
   "execution_count": 6,
   "metadata": {
    "collapsed": true
   },
   "outputs": [],
   "source": [
    "def chunks(t, n):\n",
    "    \"\"\"Yield successive n-sized chunks from t.\"\"\"\n",
    "    for i in range(0, len(t), n):\n",
    "        yield t[i:i + n]"
   ]
  },
  {
   "cell_type": "markdown",
   "metadata": {},
   "source": [
    "`prior` is the prior distribution for the parameter.  It is initially uniform over a small range (the range that has non-negligible likelihood).\n",
    "\n",
    "After the update, the posterior distribution is approximately normal around the MLE."
   ]
  },
  {
   "cell_type": "code",
   "execution_count": 7,
   "metadata": {
    "collapsed": false
   },
   "outputs": [
    {
     "data": {
      "image/png": "[encoded data removed]",
      "text/plain": [
       "<matplotlib.figure.Figure at 0x7fab825d6048>"
      ]
     },
     "metadata": {},
     "output_type": "display_data"
    }
   ],
   "source": [
    "prior = np.linspace(1.5, 2.5, 101)\n",
    "fruit = Fruit(prior)\n",
    "\n",
    "for chunk in chunks(data, 100):\n",
    "    fruit.Update(chunk)\n",
    "\n",
    "thinkplot.Pdf(fruit)"
   ]
  },
  {
   "cell_type": "markdown",
   "metadata": {},
   "source": [
    "The posterior mean and MAP (maximum aposteori probability) are both close to 2.1"
   ]
  },
  {
   "cell_type": "code",
   "execution_count": 8,
   "metadata": {
    "collapsed": false
   },
   "outputs": [
    {
     "data": {
      "text/plain": [
       "(2.0700562404217986, 2.0700000000000003)"
      ]
     },
     "execution_count": 8,
     "metadata": {},
     "output_type": "execute_result"
    }
   ],
   "source": [
    "fruit.Mean(), fruit.MaximumLikelihood()"
   ]
  },
  {
   "cell_type": "markdown",
   "metadata": {},
   "source": [
    "Now, to compare the model to the data, we have to generate a predictive distribution, which is a mixture of Poisson distributions with different parameters, each one weighted by the posterior probability of the parameter."
   ]
  },
  {
   "cell_type": "code",
   "execution_count": 9,
   "metadata": {
    "collapsed": false
   },
   "outputs": [
    {
     "data": {
      "image/png": "[encoded data removed]",
      "text/plain": [
       "<matplotlib.figure.Figure at 0x7fab82095ef0>"
      ]
     },
     "metadata": {},
     "output_type": "display_data"
    }
   ],
   "source": [
    "metapmf = thinkbayes2.Pmf()\n",
    "\n",
    "for hypo, prob in fruit.Items():\n",
    "    pmf = thinkbayes2.MakePoissonPmf(hypo, high=15)\n",
    "    metapmf[pmf] = prob\n",
    "    \n",
    "mix = thinkbayes2.MakeMixture(metapmf)\n",
    "\n",
    "data_pmf = thinkbayes2.Pmf(data)\n",
    "thinkplot.Hist(data_pmf)\n",
    "\n",
    "thinkplot.Pdf(mix, color='red')"
   ]
  },
  {
   "cell_type": "markdown",
   "metadata": {},
   "source": [
    "The model is a pretty good match for the data, and not wildly different from the estimate by curve fitting.\n",
    "\n",
    "So that's one of the steps we talked about -- making a Bayesian estimate based on the assumption that the 0-fruit branches were not measured.\n",
    "\n",
    "I hope to get to some of the other steps soon!\n",
    "\n",
    "-- Allen"
   ]
  },
  {
   "cell_type": "code",
   "execution_count": 10,
   "metadata": {
    "collapsed": false
   },
   "outputs": [
    {
     "data": {
      "image/png": "[encoded data removed]",
      "text/plain": [
       "<matplotlib.figure.Figure at 0x7fab82076898>"
      ]
     },
     "metadata": {},
     "output_type": "display_data"
    }
   ],
   "source": [
    "data = df2.fruit_number\n",
    "m = np.min(data)\n",
    "M = np.max(data)\n",
    "n = np.size(np.unique(data))\n",
    "\n",
    "# the bins should be of integer width, because poisson is an integer distribution\n",
    "entries, bin_edges, patches = plt.hist(data, bins=n, range=[m, M], normed=True)\n",
    "\n",
    "# calculate binmiddles\n",
    "bin_middles = 0.5*(bin_edges[1:] + bin_edges[:-1])\n",
    "\n",
    "# fit with curve_fit\n",
    "parameters, cov_matrix = curve_fit(poisson, bin_middles, entries) \n",
    "\n",
    "# plot poisson-deviation with fitted parameter\n",
    "x_plot = np.linspace(m, M, 100)\n",
    "plt.plot(x_plot, poisson(x_plot, *parameters), 'r-', lw=2)\n",
    "plt.title(parameters[0])\n",
    "plt.show()"
   ]
  },
  {
   "cell_type": "code",
   "execution_count": 11,
   "metadata": {
    "collapsed": false
   },
   "outputs": [
    {
     "data": {
      "image/png": "[encoded data removed]",
      "text/plain": [
       "<matplotlib.figure.Figure at 0x7fab820fd160>"
      ]
     },
     "metadata": {},
     "output_type": "display_data"
    }
   ],
   "source": [
    "data = dfx.fruit_number\n",
    "m = np.min(data)\n",
    "M = np.max(data)\n",
    "n = np.size(np.unique(data))\n",
    "\n",
    "# the bins should be of integer width, because poisson is an integer distribution\n",
    "entries, bin_edges, patches = plt.hist(data, bins=n, range=[m, M], normed=True)\n",
    "\n",
    "# calculate binmiddles\n",
    "bin_middles = 0.5*(bin_edges[1:] + bin_edges[:-1])\n",
    "\n",
    "# fit with curve_fit\n",
    "parameters, cov_matrix = curve_fit(poisson, bin_middles, entries) \n",
    "\n",
    "# plot poisson-deviation with fitted parameter\n",
    "x_plot = np.linspace(m, M, 100)\n",
    "plt.plot(x_plot, poisson(x_plot, *parameters), 'r-', lw=2)\n",
    "plt.title(parameters[0])\n",
    "plt.show()"
   ]
  },
  {
   "cell_type": "markdown",
   "metadata": {},
   "source": [
    "After that I made some resample and calculated the $\\lambda$ factor of the adjusted distribution for each resample."
   ]
  },
  {
   "cell_type": "code",
   "execution_count": 12,
   "metadata": {
    "collapsed": false
   },
   "outputs": [
    {
     "data": {
      "image/png": "[encoded data removed]",
      "text/plain": [
       "<matplotlib.figure.Figure at 0x7fab820fde80>"
      ]
     },
     "metadata": {},
     "output_type": "display_data"
    }
   ],
   "source": [
    "ixto =[]\n",
    "for i in range(1,1000):\n",
    "\n",
    "    data = dfx.fruit_number.sample(n=100)\n",
    "    m = np.min(data)\n",
    "    M = np.max(data)\n",
    "    n = np.size(np.unique(data))\n",
    "\n",
    "    # the bins should be of integer width, because poisson is an integer distribution\n",
    "    entries, bin_edges, patches = plt.hist(data, bins=n, range=[m, M], normed=True)\n",
    "    \n",
    "    # calculate binmiddles\n",
    "    bin_middles = 0.5*(bin_edges[1:] + bin_edges[:-1])\n",
    "    \n",
    "    # fit with curve_fit\n",
    "    parameters, cov_matrix = curve_fit(poisson, bin_middles, entries)\n",
    "    ixto.append(parameters[0])"
   ]
  },
  {
   "cell_type": "code",
   "execution_count": 13,
   "metadata": {
    "collapsed": false
   },
   "outputs": [
    {
     "data": {
      "text/plain": [
       "(array([  3.,   2.,   2.,   8.,   4.,   6.,  16.,  11.,  15.,  19.,  14.,\n",
       "         22.,  19.,  21.,  21.,  24.,  22.,  11.,  14.,  15.,  10.,   9.,\n",
       "         13.,   8.,  14.,  13.,   5.,   3.,   9.,  14.,  10.,  13.,  11.,\n",
       "         12.,  10.,  17.,  13.,  16.,  11.,  18.,  12.,  16.,  19.,  15.,\n",
       "         14.,  14.,  22.,  12.,  15.,  11.,  13.,  11.,  14.,  15.,   9.,\n",
       "         14.,  15.,  10.,  17.,  14.,  15.,  14.,  13.,   8.,  16.,  13.,\n",
       "         11.,   6.,   8.,   6.,   6.,   6.,  10.,   7.,   6.,   7.,  11.,\n",
       "          4.,   7.,   7.,   2.,   4.,   3.,   3.,   2.,   1.,   0.,   2.,\n",
       "          3.,   3.,   3.,   2.,   0.,   2.,   2.,   1.,   2.,   0.,   1.,\n",
       "          2.]),\n",
       " array([ 1.44749516,  1.45846755,  1.46943994,  1.48041233,  1.49138472,\n",
       "         1.50235711,  1.5133295 ,  1.52430189,  1.53527428,  1.54624666,\n",
       "         1.55721905,  1.56819144,  1.57916383,  1.59013622,  1.60110861,\n",
       "         1.612081  ,  1.62305339,  1.63402578,  1.64499817,  1.65597055,\n",
       "         1.66694294,  1.67791533,  1.68888772,  1.69986011,  1.7108325 ,\n",
       "         1.72180489,  1.73277728,  1.74374967,  1.75472206,  1.76569445,\n",
       "         1.77666683,  1.78763922,  1.79861161,  1.809584  ,  1.82055639,\n",
       "         1.83152878,  1.84250117,  1.85347356,  1.86444595,  1.87541834,\n",
       "         1.88639073,  1.89736311,  1.9083355 ,  1.91930789,  1.93028028,\n",
       "         1.94125267,  1.95222506,  1.96319745,  1.97416984,  1.98514223,\n",
       "         1.99611462,  2.00708701,  2.01805939,  2.02903178,  2.04000417,\n",
       "         2.05097656,  2.06194895,  2.07292134,  2.08389373,  2.09486612,\n",
       "         2.10583851,  2.1168109 ,  2.12778329,  2.13875567,  2.14972806,\n",
       "         2.16070045,  2.17167284,  2.18264523,  2.19361762,  2.20459001,\n",
       "         2.2155624 ,  2.22653479,  2.23750718,  2.24847957,  2.25945195,\n",
       "         2.27042434,  2.28139673,  2.29236912,  2.30334151,  2.3143139 ,\n",
       "         2.32528629,  2.33625868,  2.34723107,  2.35820346,  2.36917585,\n",
       "         2.38014823,  2.39112062,  2.40209301,  2.4130654 ,  2.42403779,\n",
       "         2.43501018,  2.44598257,  2.45695496,  2.46792735,  2.47889974,\n",
       "         2.48987212,  2.50084451,  2.5118169 ,  2.52278929,  2.53376168,\n",
       "         2.54473407]),\n",
       " <a list of 100 Patch objects>)"
      ]
     },
     "execution_count": 13,
     "metadata": {},
     "output_type": "execute_result"
    },
    {
     "data": {
      "image/png": "[encoded data removed]",
      "text/plain": [
       "<matplotlib.figure.Figure at 0x7fab81fff9b0>"
      ]
     },
     "metadata": {},
     "output_type": "display_data"
    }
   ],
   "source": [
    "plt.hist(ixto, bins=100)"
   ]
  },
  {
   "cell_type": "markdown",
   "metadata": {
    "collapsed": true
   },
   "source": [
    "I've noticed a bi-modal distribution... That's the begining of a long walk and I would like to have your help to find that is possible to reduce our sample sizes."
   ]
  }
 ],
 "metadata": {
  "kernelspec": {
   "display_name": "Python 3",
   "language": "python",
   "name": "python3"
  },
  "language_info": {
   "codemirror_mode": {
    "name": "ipython",
    "version": 3
   },
   "file_extension": ".py",
   "mimetype": "text/x-python",
   "name": "python",
   "nbconvert_exporter": "python",
   "pygments_lexer": "ipython3",
   "version": "3.5.1"
  }
 },
 "nbformat": 4,
 "nbformat_minor": 0
}
