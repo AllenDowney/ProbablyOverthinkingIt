{
 "metadata": {
  "name": "",
  "signature": "sha256:c6dacea67b5840bffdfe8bde214373c7b19de2f96e1886014efdc2bda23ea7e7"
 },
 "nbformat": 3,
 "nbformat_minor": 0,
 "worksheets": [
  {
   "cells": [
    {
     "cell_type": "code",
     "collapsed": false,
     "input": [
      "from __future__ import print_function, division\n",
      "\n",
      "import numpy as np\n",
      "import thinkstats2\n",
      "import thinkplot\n",
      "\n",
      "import redline\n",
      "\n",
      "%matplotlib inline\n",
      "formats = ['png']"
     ],
     "language": "python",
     "metadata": {},
     "outputs": [],
     "prompt_number": 11
    },
    {
     "cell_type": "code",
     "collapsed": false,
     "input": [
      "gap_times = redline.OBSERVED_GAP_TIMES\n",
      "pdf = thinkstats2.EstimatedPdf(gap_times)\n",
      "sample = pdf.Sample(n=1000) / 60"
     ],
     "language": "python",
     "metadata": {},
     "outputs": [],
     "prompt_number": 45
    },
    {
     "cell_type": "code",
     "collapsed": false,
     "input": [
      "pmf_z = thinkstats2.Pmf(sample, label='actual')\n",
      "cdf_z = pmf_z.MakeCdf()\n",
      "\n",
      "pmf_zb = redline.BiasPmf(pmf_z, label='biased')\n",
      "cdf_zb = pmf_zb.MakeCdf()\n",
      "\n",
      "pmf_y = redline.PmfOfWaitTime(pmf_z)\n",
      "cdf_y = pmf_y.MakeCdf()\n",
      "\n",
      "pmf_yb = redline.PmfOfWaitTime(pmf_zb)\n",
      "cdf_yb = pmf_yb.MakeCdf()"
     ],
     "language": "python",
     "metadata": {},
     "outputs": [],
     "prompt_number": 51
    },
    {
     "cell_type": "code",
     "collapsed": false,
     "input": [
      "pmf_z.Mean(), pmf_y.Mean()"
     ],
     "language": "python",
     "metadata": {},
     "outputs": [
      {
       "metadata": {},
       "output_type": "pyout",
       "prompt_number": 52,
       "text": [
        "(7.554405613942567, 5.8900000000000148)"
       ]
      }
     ],
     "prompt_number": 52
    },
    {
     "cell_type": "code",
     "collapsed": false,
     "input": [
      "pmf_zb.Mean(), pmf_yb.Mean()"
     ],
     "language": "python",
     "metadata": {},
     "outputs": [
      {
       "metadata": {},
       "output_type": "pyout",
       "prompt_number": 53,
       "text": [
        "(8.6155740308040141, 6.3902315699373116)"
       ]
      }
     ],
     "prompt_number": 53
    },
    {
     "cell_type": "code",
     "collapsed": false,
     "input": [
      "thinkplot.PrePlot(2)\n",
      "thinkplot.Plot(cdf_z.xs, cdf_z.ps, label=cdf_z.label)\n",
      "thinkplot.Config(xlabel='time between trains', ylabel='CDF', loc='lower right')\n",
      "thinkplot.Save('redline1', formats=formats)"
     ],
     "language": "python",
     "metadata": {},
     "outputs": [
      {
       "output_type": "stream",
       "stream": "stdout",
       "text": [
        "Writing redline1.png\n"
       ]
      },
      {
       "metadata": {},
       "output_type": "display_data",
       "text": [
        "<matplotlib.figure.Figure at 0x7fe736ef5950>"
       ]
      }
     ],
     "prompt_number": 56
    },
    {
     "cell_type": "code",
     "collapsed": false,
     "input": [
      "thinkplot.PrePlot(2)\n",
      "thinkplot.Plot(cdf_z.xs, cdf_z.ps, label=cdf_z.label)\n",
      "thinkplot.Plot(cdf_zb.xs, cdf_zb.ps, label=cdf_zb.label)\n",
      "thinkplot.Config(xlabel='time between trains', ylabel='CDF', loc='lower right')\n",
      "thinkplot.Save('redline2', formats=formats)"
     ],
     "language": "python",
     "metadata": {},
     "outputs": [
      {
       "output_type": "stream",
       "stream": "stdout",
       "text": [
        "Writing redline2.png\n"
       ]
      },
      {
       "metadata": {},
       "output_type": "display_data",
       "text": [
        "<matplotlib.figure.Figure at 0x7fe736e4cf50>"
       ]
      }
     ],
     "prompt_number": 57
    },
    {
     "cell_type": "code",
     "collapsed": false,
     "input": [],
     "language": "python",
     "metadata": {},
     "outputs": []
    }
   ],
   "metadata": {}
  }
 ]
}