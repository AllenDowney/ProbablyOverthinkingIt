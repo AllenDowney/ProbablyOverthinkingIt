{
 "cells": [
  {
   "cell_type": "markdown",
   "metadata": {},
   "source": [
    "Solution to a problem posted at\n",
    "\n",
    "https://www.reddit.com/r/statistics/comments/4d4u8o/complicated_probability_question/\n",
    "\n",
    "\n",
    "Copyright 2016 Allen Downey\n",
    "\n",
    "MIT License: http://opensource.org/licenses/MIT"
   ]
  },
  {
   "cell_type": "code",
   "execution_count": 1,
   "metadata": {
    "collapsed": false
   },
   "outputs": [],
   "source": [
    "from __future__ import print_function, division\n",
    "\n",
    "import numpy as np\n",
    "import scipy\n",
    "\n",
    "import thinkbayes2\n",
    "import thinkplot\n",
    "\n",
    "%matplotlib inline"
   ]
  },
  {
   "cell_type": "markdown",
   "metadata": {},
   "source": [
    "Roll six 6-sided dice:"
   ]
  },
  {
   "cell_type": "code",
   "execution_count": 2,
   "metadata": {
    "collapsed": false
   },
   "outputs": [
    {
     "data": {
      "text/plain": [
       "16"
      ]
     },
     "execution_count": 2,
     "metadata": {},
     "output_type": "execute_result"
    }
   ],
   "source": [
    "a = np.array([122.8, 115.5, 102.5, 84.7, 154.2, 83.7, 122.1, \n",
    "              117.6, 98.1, 111.2, 80.3, 110.0, 117.6, 100.3, 107.8, 60.2])\n",
    "b = np.array([82.6, 99.1, 74.6, 51.9, 62.3, 67.2, 82.4, 97.2, \n",
    "              68.9, 77.9, 81.5, 87.4, 92.4, 80.8, 74.7, 42.1])\n",
    "n = len(a)\n",
    "n"
   ]
  },
  {
   "cell_type": "code",
   "execution_count": 3,
   "metadata": {
    "collapsed": false
   },
   "outputs": [
    {
     "data": {
      "image/png": "[encoded data removed]",
      "text/plain": [
       "<matplotlib.figure.Figure at 0x7f5e4156a150>"
      ]
     },
     "metadata": {},
     "output_type": "display_data"
    }
   ],
   "source": [
    "thinkplot.Scatter(a, b, alpha=0.7)"
   ]
  },
  {
   "cell_type": "code",
   "execution_count": 4,
   "metadata": {
    "collapsed": false
   },
   "outputs": [
    {
     "data": {
      "text/plain": [
       "array([[ 122.8,  115.5,  102.5,   84.7,  154.2,   83.7,  122.1,  117.6,\n",
       "          98.1,  111.2,   80.3,  110. ,  117.6,  100.3,  107.8,   60.2],\n",
       "       [  82.6,   99.1,   74.6,   51.9,   62.3,   67.2,   82.4,   97.2,\n",
       "          68.9,   77.9,   81.5,   87.4,   92.4,   80.8,   74.7,   42.1]])"
      ]
     },
     "execution_count": 4,
     "metadata": {},
     "output_type": "execute_result"
    }
   ],
   "source": [
    "X = np.array([a, b])\n",
    "X"
   ]
  },
  {
   "cell_type": "code",
   "execution_count": 5,
   "metadata": {
    "collapsed": false
   },
   "outputs": [
    {
     "data": {
      "text/plain": [
       "array([ 105.5375,   76.4375])"
      ]
     },
     "execution_count": 5,
     "metadata": {},
     "output_type": "execute_result"
    }
   ],
   "source": [
    "mean = X.mean(axis=1)\n",
    "mean"
   ]
  },
  {
   "cell_type": "code",
   "execution_count": 6,
   "metadata": {
    "collapsed": false
   },
   "outputs": [
    {
     "data": {
      "text/plain": [
       "array([ 21.04040384,  14.93640163])"
      ]
     },
     "execution_count": 6,
     "metadata": {},
     "output_type": "execute_result"
    }
   ],
   "source": [
    "std = X.std(axis=1)\n",
    "std"
   ]
  },
  {
   "cell_type": "code",
   "execution_count": 7,
   "metadata": {
    "collapsed": false
   },
   "outputs": [
    {
     "data": {
      "text/plain": [
       "array([[ 472.21183333,  161.33583333],\n",
       "       [ 161.33583333,  237.96916667]])"
      ]
     },
     "execution_count": 7,
     "metadata": {},
     "output_type": "execute_result"
    }
   ],
   "source": [
    "cov = np.cov(X)\n",
    "cov"
   ]
  },
  {
   "cell_type": "code",
   "execution_count": 8,
   "metadata": {
    "collapsed": false
   },
   "outputs": [
    {
     "data": {
      "text/plain": [
       "array([[ 1.       ,  0.4812847],\n",
       "       [ 0.4812847,  1.       ]])"
      ]
     },
     "execution_count": 8,
     "metadata": {},
     "output_type": "execute_result"
    }
   ],
   "source": [
    "np.corrcoef(a, b)"
   ]
  },
  {
   "cell_type": "markdown",
   "metadata": {},
   "source": [
    "Count how many times each outcome occurs and score accordingly:"
   ]
  },
  {
   "cell_type": "code",
   "execution_count": 9,
   "metadata": {
    "collapsed": false
   },
   "outputs": [
    {
     "data": {
      "text/plain": [
       "(21.730435645272582, 15.426249274099867, 0.4812847033595688)"
      ]
     },
     "execution_count": 9,
     "metadata": {},
     "output_type": "execute_result"
    }
   ],
   "source": [
    "def std_rho(cov):\n",
    "    sig1 = np.sqrt(cov[0][0])\n",
    "    sig2 = np.sqrt(cov[1][1])\n",
    "    rho = cov[0][1] / sig1 / sig2\n",
    "    return sig1, sig2, rho\n",
    "\n",
    "std_rho(cov)"
   ]
  },
  {
   "cell_type": "code",
   "execution_count": 10,
   "metadata": {
    "collapsed": false
   },
   "outputs": [
    {
     "data": {
      "text/plain": [
       "array([[ 127.08223041,   80.86488721,  112.31244123,  116.34075532,\n",
       "          89.73891792,   53.69549061,  106.61023281,   82.55935053,\n",
       "          68.25092406,  128.70736794,  102.99460449,  148.9085295 ,\n",
       "         117.03726582,   71.26762078,  111.31904743,  126.2684253 ],\n",
       "       [  76.62879283,   82.51637152,   76.29691951,   66.25675242,\n",
       "          81.19686747,   77.56530937,   81.34510267,   69.08148393,\n",
       "          70.03099946,   87.43882091,   74.34891305,   94.30129087,\n",
       "          97.24360649,   58.24727138,   75.34696476,   91.27431814]])"
      ]
     },
     "execution_count": 10,
     "metadata": {},
     "output_type": "execute_result"
    }
   ],
   "source": [
    "def generate(mean, cov, n):\n",
    "    return np.random.multivariate_normal(mean, cov, n).transpose()\n",
    "\n",
    "generate(mean, cov, n)"
   ]
  },
  {
   "cell_type": "code",
   "execution_count": 11,
   "metadata": {
    "collapsed": true
   },
   "outputs": [],
   "source": [
    "def estimate(X):\n",
    "    return X.mean(axis=1), np.cov(X)"
   ]
  },
  {
   "cell_type": "code",
   "execution_count": 12,
   "metadata": {
    "collapsed": false
   },
   "outputs": [
    {
     "data": {
      "text/plain": [
       "(array([ 99.26696912,  74.4908149 ]), array([[ 194.15229871,  114.00322603],\n",
       "        [ 114.00322603,  206.60575886]]))"
      ]
     },
     "execution_count": 12,
     "metadata": {},
     "output_type": "execute_result"
    }
   ],
   "source": [
    "estimate(generate(mean, cov, n))"
   ]
  },
  {
   "cell_type": "code",
   "execution_count": 13,
   "metadata": {
    "collapsed": false
   },
   "outputs": [],
   "source": [
    "def generate_statistics(mean, cov, n, iters):\n",
    "    return [estimate(generate(mean, cov, n)) for _ in range(iters)]\n",
    "\n",
    "stats = generate_statistics(mean, cov, n, 101)"
   ]
  },
  {
   "cell_type": "code",
   "execution_count": 14,
   "metadata": {
    "collapsed": false
   },
   "outputs": [],
   "source": [
    "def z_prime(r):\n",
    "    return 0.5 * np.log((1+r) / (1-r))\n",
    "\n",
    "def sampling_distributions(stats, cov, n):\n",
    "    sig1, sig2, _ = std_rho(cov)\n",
    "    \n",
    "    array = np.zeros((len(stats), 8))\n",
    "    for i, (xbar, S) in enumerate(stats):\n",
    "        array[i, 0:2] = xbar\n",
    "        s1 = np.sqrt(S[0, 0])\n",
    "        s2 = np.sqrt(S[1, 1])\n",
    "        r = S[0][1] / s1 / s2\n",
    "        array[i, 2] = s1\n",
    "        array[i, 3] = s2\n",
    "        array[i, 4] = r\n",
    "        array[i, 5] = (n-1) * S[0, 0] / cov[0, 0]\n",
    "        array[i, 6] = (n-1) * S[1, 1] / cov[1, 1]\n",
    "        array[i, 7] = z_prime(r)\n",
    "    return array\n",
    "\n",
    "dists = sampling_distributions(stats, cov, n)"
   ]
  },
  {
   "cell_type": "code",
   "execution_count": 15,
   "metadata": {
    "collapsed": false
   },
   "outputs": [
    {
     "data": {
      "image/png": "[encoded data removed]",
      "text/plain": [
       "<matplotlib.figure.Figure at 0x7f5e13839950>"
      ]
     },
     "metadata": {},
     "output_type": "display_data"
    }
   ],
   "source": [
    "cdf0 = thinkbayes2.Cdf(dists[:, 0])\n",
    "cdf1 = thinkbayes2.Cdf(dists[:, 1])\n",
    "thinkplot.Cdfs([cdf0, cdf1])"
   ]
  },
  {
   "cell_type": "code",
   "execution_count": null,
   "metadata": {
    "collapsed": false
   },
   "outputs": [],
   "source": []
  },
  {
   "cell_type": "code",
   "execution_count": 16,
   "metadata": {
    "collapsed": false
   },
   "outputs": [
    {
     "data": {
      "image/png": "[encoded data removed]",
      "text/plain": [
       "<matplotlib.figure.Figure at 0x7f5e1371cc90>"
      ]
     },
     "metadata": {},
     "output_type": "display_data"
    }
   ],
   "source": [
    "cdf2 = thinkbayes2.Cdf(dists[:, 2])\n",
    "cdf3 = thinkbayes2.Cdf(dists[:, 3])\n",
    "thinkplot.Cdfs([cdf2, cdf3])"
   ]
  },
  {
   "cell_type": "code",
   "execution_count": 17,
   "metadata": {
    "collapsed": false
   },
   "outputs": [
    {
     "data": {
      "image/png": "[encoded data removed]",
      "text/plain": [
       "<matplotlib.figure.Figure at 0x7f5e136e5110>"
      ]
     },
     "metadata": {},
     "output_type": "display_data"
    }
   ],
   "source": [
    "cdf4 = thinkbayes2.Cdf(dists[:, 4])\n",
    "thinkplot.Cdfs([cdf4])"
   ]
  },
  {
   "cell_type": "code",
   "execution_count": 18,
   "metadata": {
    "collapsed": false
   },
   "outputs": [
    {
     "data": {
      "image/png": "[encoded data removed]",
      "text/plain": [
       "<matplotlib.figure.Figure at 0x7f5e136bb8d0>"
      ]
     },
     "metadata": {},
     "output_type": "display_data"
    }
   ],
   "source": [
    "cdf5 = thinkbayes2.Cdf(dists[:, 5])\n",
    "cdf6 = thinkbayes2.Cdf(dists[:, 6])\n",
    "thinkplot.Cdfs([cdf5, cdf6])"
   ]
  },
  {
   "cell_type": "code",
   "execution_count": 19,
   "metadata": {
    "collapsed": false
   },
   "outputs": [
    {
     "data": {
      "image/png": "[encoded data removed]",
      "text/plain": [
       "<matplotlib.figure.Figure at 0x7f5e138438d0>"
      ]
     },
     "metadata": {},
     "output_type": "display_data"
    }
   ],
   "source": [
    "cdf7 = thinkbayes2.Cdf(dists[:, 7])\n",
    "thinkplot.Cdfs([cdf7])"
   ]
  },
  {
   "cell_type": "code",
   "execution_count": 20,
   "metadata": {
    "collapsed": false
   },
   "outputs": [
    {
     "data": {
      "image/png": "[encoded data removed]",
      "text/plain": [
       "<matplotlib.figure.Figure at 0x7f5e135c8990>"
      ]
     },
     "metadata": {},
     "output_type": "display_data"
    }
   ],
   "source": [
    "def sampling_dist_mean(i, mean, cov, cdf):\n",
    "    sampling_dist = scipy.stats.norm(loc=mean[i], scale=np.sqrt(cov[i, i]/n))\n",
    "    xs = cdf.xs\n",
    "    ys = sampling_dist.cdf(xs)\n",
    "    thinkplot.plot(xs, ys)\n",
    "    thinkplot.Cdf(cdf)\n",
    "    \n",
    "sampling_dist_mean(0, mean, cov, cdf0)"
   ]
  },
  {
   "cell_type": "code",
   "execution_count": 21,
   "metadata": {
    "collapsed": false
   },
   "outputs": [
    {
     "data": {
      "image/png": "[encoded data removed]",
      "text/plain": [
       "<matplotlib.figure.Figure at 0x7f5e136e57d0>"
      ]
     },
     "metadata": {},
     "output_type": "display_data"
    }
   ],
   "source": [
    "sampling_dist_mean(1, mean, cov, cdf1)"
   ]
  },
  {
   "cell_type": "code",
   "execution_count": 22,
   "metadata": {
    "collapsed": false
   },
   "outputs": [
    {
     "data": {
      "image/png": "[encoded data removed]",
      "text/plain": [
       "<matplotlib.figure.Figure at 0x7f5e1342fdd0>"
      ]
     },
     "metadata": {},
     "output_type": "display_data"
    }
   ],
   "source": [
    "def sampling_dist_std(i, mean, cov, cdf):\n",
    "    sampling_dist = scipy.stats.chi2(df=n)\n",
    "    xs = cdf.xs\n",
    "    ys = sampling_dist.cdf(xs)\n",
    "    thinkplot.plot(xs, ys)\n",
    "    thinkplot.Cdf(cdf)\n",
    "    \n",
    "sampling_dist_std(5, mean, cov, cdf5)"
   ]
  },
  {
   "cell_type": "code",
   "execution_count": 23,
   "metadata": {
    "collapsed": false
   },
   "outputs": [
    {
     "data": {
      "image/png": "[encoded data removed]",
      "text/plain": [
       "<matplotlib.figure.Figure at 0x7f5e13548210>"
      ]
     },
     "metadata": {},
     "output_type": "display_data"
    }
   ],
   "source": [
    "sampling_dist_std(6, mean, cov, cdf6)"
   ]
  },
  {
   "cell_type": "code",
   "execution_count": 24,
   "metadata": {
    "collapsed": false
   },
   "outputs": [
    {
     "data": {
      "image/png": "[encoded data removed]",
      "text/plain": [
       "<matplotlib.figure.Figure at 0x7f5e132dd390>"
      ]
     },
     "metadata": {},
     "output_type": "display_data"
    }
   ],
   "source": [
    "def sampling_dist_r(i, mean, cov, cdf):\n",
    "    _, _, rho = std_rho(cov)\n",
    "    sampling_dist = scipy.stats.norm(loc=z_prime(rho), scale=1/np.sqrt(n-3))\n",
    "    xs = cdf.xs\n",
    "    ys = sampling_dist.cdf(xs)\n",
    "    thinkplot.plot(xs, ys)\n",
    "    thinkplot.Cdf(cdf)\n",
    "    \n",
    "sampling_dist_r(7, mean, cov, cdf7)"
   ]
  },
  {
   "cell_type": "code",
   "execution_count": 49,
   "metadata": {
    "collapsed": false
   },
   "outputs": [],
   "source": [
    "pdf_X = scipy.stats.multivariate_normal(mean, cov/n)"
   ]
  },
  {
   "cell_type": "code",
   "execution_count": 50,
   "metadata": {
    "collapsed": false
   },
   "outputs": [
    {
     "data": {
      "text/plain": [
       "3.1109754342045076e-06"
      ]
     },
     "execution_count": 50,
     "metadata": {},
     "output_type": "execute_result"
    }
   ],
   "source": [
    "pdf_X.pdf(mean) - pdf_X.pdf(mean-0.1) "
   ]
  },
  {
   "cell_type": "code",
   "execution_count": 46,
   "metadata": {
    "collapsed": true
   },
   "outputs": [],
   "source": [
    "pdf_S = scipy.stats.wishart(df=n-1, scale=cov)"
   ]
  },
  {
   "cell_type": "code",
   "execution_count": 47,
   "metadata": {
    "collapsed": false
   },
   "outputs": [
    {
     "data": {
      "text/plain": [
       "-4.5785400167893329e-22"
      ]
     },
     "execution_count": 47,
     "metadata": {},
     "output_type": "execute_result"
    }
   ],
   "source": [
    "pdf_S.pdf(cov) - pdf_S.pdf(cov+0.1)"
   ]
  },
  {
   "cell_type": "code",
   "execution_count": null,
   "metadata": {
    "collapsed": true
   },
   "outputs": [],
   "source": []
  }
 ],
 "metadata": {
  "kernelspec": {
   "display_name": "Python 2",
   "language": "python",
   "name": "python2"
  },
  "language_info": {
   "codemirror_mode": {
    "name": "ipython",
    "version": 2
   },
   "file_extension": ".py",
   "mimetype": "text/x-python",
   "name": "python",
   "nbconvert_exporter": "python",
   "pygments_lexer": "ipython2",
   "version": "2.7.11"
  }
 },
 "nbformat": 4,
 "nbformat_minor": 0
}
