{
 "cells": [
  {
   "cell_type": "markdown",
   "metadata": {},
   "source": [
    "Bayesian estimation with multivariate normal disributions\n",
    "---------------------------------------------------------\n",
    "\n",
    "Copyright 2016 Allen Downey\n",
    "\n",
    "MIT License: http://opensource.org/licenses/MIT"
   ]
  },
  {
   "cell_type": "code",
   "execution_count": 1,
   "metadata": {
    "collapsed": false
   },
   "outputs": [],
   "source": [
    "from __future__ import print_function, division\n",
    "\n",
    "import numpy as np\n",
    "import pandas as pd\n",
    "import scipy\n",
    "\n",
    "from itertools import product, starmap\n",
    "\n",
    "import thinkbayes2\n",
    "import thinkplot\n",
    "\n",
    "%matplotlib inline"
   ]
  },
  {
   "cell_type": "markdown",
   "metadata": {},
   "source": [
    "This notebook contains a solution to [a problem posted on Reddit](https://www.reddit.com/r/statistics/comments/4csjee/finding_pab_given_two_sets_of_data/):\n",
    "\n",
    ">So, I have two sets of data where the elements correspond to each other:\n",
    "\n",
    "    A = {122.8, 115.5, 102.5, 84.7, 154.2, 83.7, 122.1, 117.6, 98.1, \n",
    "         111.2, 80.3, 110.0, 117.6, 100.3, 107.8, 60.2}\n",
    "    B = {82.6, 99.1, 74.6, 51.9, 62.3, 67.2, 82.4, 97.2, 68.9, 77.9,\n",
    "         81.5, 87.4, 92.4, 80.8, 74.7, 42.1}\n",
    "\n",
    ">I'm trying to find out the probability that (91.9 <= A <= 158.3) and (56.4 <= B <= 100).\n",
    "I know that P(91.9 <= A <= 158.3) = 0.727098 and that P(56.4 <= B <= 100) = 0.840273, given that A is a normal distribution with mean 105.5 and standard deviation 21.7 and that B is a normal distribution with mean 76.4 and standard deviation 15.4. However, since they are dependent events, P(BA)=P(A)P(B|A)=P(B)P(A|B). Is there any way that I can find out P(A|B) and P(B|A) given the data that I have?\n",
    "\n",
    "The original poster added this clarification:\n",
    "\n",
    ">I'm going to give you some background on what I'm trying to do here first. I'm doing sports analysis trying to find the best quarterback of the 2015 NFL season using passer rating and quarterback rating, two different measures of how the quarterback performs during a game. The numbers in the sets above are the different ratings for each of the 16 games of the season (A being passer rating, B being quarterback rating, the first element being the first game, the second element being the second, etc.) The better game the quarterback has, the higher each of the two measures will be; I'm expecting that they're correlated and dependent on each other to some degree. I'm assuming that they're normally distributed because most things done by humans tend to be normally distributed.\n"
   ]
  },
  {
   "cell_type": "markdown",
   "metadata": {},
   "source": [
    "As a first step, let's look at the data.  I'll put the two datasets into NumPy arrays."
   ]
  },
  {
   "cell_type": "code",
   "execution_count": 2,
   "metadata": {
    "collapsed": false
   },
   "outputs": [
    {
     "data": {
      "text/plain": [
       "16"
      ]
     },
     "execution_count": 2,
     "metadata": {},
     "output_type": "execute_result"
    }
   ],
   "source": [
    "a = np.array([122.8, 115.5, 102.5, 84.7, 154.2, 83.7, 122.1, 117.6,\n",
    "              98.1, 111.2, 80.3, 110.0, 117.6, 100.3, 107.8, 60.2])\n",
    "b = np.array([82.6, 99.1, 74.6, 51.9, 62.3, 67.2, 82.4, 97.2, \n",
    "              68.9, 77.9, 81.5, 87.4, 92.4, 80.8, 74.7, 42.1])\n",
    "n = len(a)\n",
    "n"
   ]
  },
  {
   "cell_type": "markdown",
   "metadata": {},
   "source": [
    "And make a scatter plot:"
   ]
  },
  {
   "cell_type": "code",
   "execution_count": 3,
   "metadata": {
    "collapsed": false
   },
   "outputs": [
    {
     "data": {
      "image/png": "[encoded data removed]",
      "text/plain": [
       "<matplotlib.figure.Figure at 0x7fcc98131a20>"
      ]
     },
     "metadata": {},
     "output_type": "display_data"
    }
   ],
   "source": [
    "thinkplot.Scatter(a, b, alpha=0.7)"
   ]
  },
  {
   "cell_type": "markdown",
   "metadata": {},
   "source": [
    "It looks like modeling this data with a bi-variate normal distribution is a reasonable choice.\n",
    "\n",
    "Let's make an single array out of it:"
   ]
  },
  {
   "cell_type": "code",
   "execution_count": 4,
   "metadata": {
    "collapsed": false
   },
   "outputs": [
    {
     "data": {
      "text/plain": [
       "array([[ 122.8,  115.5,  102.5,   84.7,  154.2,   83.7,  122.1,  117.6,\n",
       "          98.1,  111.2,   80.3,  110. ,  117.6,  100.3,  107.8,   60.2],\n",
       "       [  82.6,   99.1,   74.6,   51.9,   62.3,   67.2,   82.4,   97.2,\n",
       "          68.9,   77.9,   81.5,   87.4,   92.4,   80.8,   74.7,   42.1]])"
      ]
     },
     "execution_count": 4,
     "metadata": {},
     "output_type": "execute_result"
    }
   ],
   "source": [
    "X = np.array([a, b])\n",
    "X"
   ]
  },
  {
   "cell_type": "markdown",
   "metadata": {},
   "source": [
    "And compute the sample mean"
   ]
  },
  {
   "cell_type": "code",
   "execution_count": 5,
   "metadata": {
    "collapsed": false
   },
   "outputs": [
    {
     "data": {
      "text/plain": [
       "array([ 105.5375,   76.4375])"
      ]
     },
     "execution_count": 5,
     "metadata": {},
     "output_type": "execute_result"
    }
   ],
   "source": [
    "xbar = X.mean(axis=1)\n",
    "xbar"
   ]
  },
  {
   "cell_type": "markdown",
   "metadata": {},
   "source": [
    "Sample standard deviation"
   ]
  },
  {
   "cell_type": "code",
   "execution_count": 6,
   "metadata": {
    "collapsed": false
   },
   "outputs": [
    {
     "data": {
      "text/plain": [
       "array([ 21.04040384,  14.93640163])"
      ]
     },
     "execution_count": 6,
     "metadata": {},
     "output_type": "execute_result"
    }
   ],
   "source": [
    "std = X.std(axis=1)\n",
    "std"
   ]
  },
  {
   "cell_type": "markdown",
   "metadata": {},
   "source": [
    "Covariance matrix"
   ]
  },
  {
   "cell_type": "code",
   "execution_count": 7,
   "metadata": {
    "collapsed": false
   },
   "outputs": [
    {
     "data": {
      "text/plain": [
       "array([[ 472.21183333,  161.33583333],\n",
       "       [ 161.33583333,  237.96916667]])"
      ]
     },
     "execution_count": 7,
     "metadata": {},
     "output_type": "execute_result"
    }
   ],
   "source": [
    "S = np.cov(X)\n",
    "S"
   ]
  },
  {
   "cell_type": "markdown",
   "metadata": {},
   "source": [
    "And correlation coefficient"
   ]
  },
  {
   "cell_type": "code",
   "execution_count": 8,
   "metadata": {
    "collapsed": false
   },
   "outputs": [
    {
     "data": {
      "text/plain": [
       "array([[ 1.       ,  0.4812847],\n",
       "       [ 0.4812847,  1.       ]])"
      ]
     },
     "execution_count": 8,
     "metadata": {},
     "output_type": "execute_result"
    }
   ],
   "source": [
    "corrcoef = np.corrcoef(a, b)\n",
    "corrcoef"
   ]
  },
  {
   "cell_type": "markdown",
   "metadata": {},
   "source": [
    "Now, let's start thinking about this as a Bayesian estimation problem.\n",
    "\n",
    "There are 5 parameters we would like to estimate: \n",
    "\n",
    "* The means of the two variables, $\\mu_a$, $\\mu_b$\n",
    "\n",
    "* The standard deviations, $\\sigma_a$, $\\sigma_b$\n",
    "\n",
    "* The coefficient of correlation, $\\rho$.\n",
    "\n",
    "As a simple starting place, I'll assume that the prior distributions for these variables are uniform over all possible values.\n",
    "\n",
    "I'm going to use a mesh algorithm to compute the joint posterior distribution, so I'll \"cheat\" and construct the mesh using conventional estimates for the parameters.\n",
    "\n",
    "For each parameter, I'll compute a range of possible values where\n",
    "\n",
    "* The center of the range is the value estimated from the data.\n",
    "\n",
    "* The width of the range is 6 standard errors of the estimate.\n",
    "\n",
    "The likelihood of any point outside this mesh is so low, it's safe to ignore it.\n",
    "\n",
    "\n",
    "Here's how I construct the ranges:"
   ]
  },
  {
   "cell_type": "code",
   "execution_count": 9,
   "metadata": {
    "collapsed": false
   },
   "outputs": [
    {
     "name": "stdout",
     "output_type": "stream",
     "text": [
      "(89.757197120005102, 121.31780287999489)\n",
      "(65.235198775056304, 87.639801224943696)\n",
      "(9.5161000378105989, 32.564707642175762)\n",
      "(6.7553975307657055, 23.117405735750815)\n",
      "(0.031284703359568844, 0.93128470335956881)\n"
     ]
    }
   ],
   "source": [
    "def make_array(center, stderr, m=11, factor=3):\n",
    "    return np.linspace(center-factor*stderr, center+factor*stderr, m)\n",
    "\n",
    "μ_a = xbar[0]\n",
    "μ_b = xbar[1]\n",
    "σ_a = std[0]\n",
    "σ_b = std[1]\n",
    "ρ = corrcoef[0][1]\n",
    "\n",
    "μ_a_array = make_array(μ_a, σ_a / np.sqrt(n))\n",
    "μ_b_array = make_array(μ_b, σ_b / np.sqrt(n))\n",
    "σ_a_array = make_array(σ_a, σ_a / np.sqrt(2 * (n-1)))\n",
    "σ_b_array = make_array(σ_b, σ_b / np.sqrt(2 * (n-1)))\n",
    "#ρ_array = make_array(ρ, np.sqrt((1 - ρ**2) / (n-2)))\n",
    "ρ_array = make_array(ρ, 0.15)\n",
    "\n",
    "def min_max(array):\n",
    "    return min(array), max(array)\n",
    "\n",
    "print(min_max(μ_a_array))\n",
    "print(min_max(μ_b_array))\n",
    "print(min_max(σ_a_array))\n",
    "print(min_max(σ_b_array))\n",
    "print(min_max(ρ_array))"
   ]
  },
  {
   "cell_type": "markdown",
   "metadata": {},
   "source": [
    "Although the mesh is constructed in 5 dimensions, for doing the Bayesian update, I want to express the parameters in terms of a vector of means, μ, and a covariance matrix, Σ.\n",
    "\n",
    "`Params` is an object that encapsulates these values.  `pack` is a function that takes 5 parameters and returns a `Param` object."
   ]
  },
  {
   "cell_type": "code",
   "execution_count": 10,
   "metadata": {
    "collapsed": false
   },
   "outputs": [],
   "source": [
    "class Params:\n",
    "    def __init__(self, μ, Σ):\n",
    "        self.μ = μ\n",
    "        self.Σ = Σ\n",
    "        \n",
    "    def __lt__(self, other):\n",
    "        return (self.μ, self.Σ) < (self.μ, self.Σ)"
   ]
  },
  {
   "cell_type": "code",
   "execution_count": 11,
   "metadata": {
    "collapsed": false
   },
   "outputs": [],
   "source": [
    "def pack(μ_a, μ_b, σ_a, σ_b, ρ):\n",
    "    μ = np.array([μ_a, μ_b])\n",
    "    cross = ρ * σ_a * σ_b\n",
    "    Σ = np.array([[σ_a**2, cross], [cross, σ_b**2]])\n",
    "    return Params(μ, Σ)"
   ]
  },
  {
   "cell_type": "markdown",
   "metadata": {},
   "source": [
    "Now we can make a prior distribution.  First, `mesh` is the Cartesian product of the parameter arrays.  Since there are 5 dimensions with 11 points each, the total number of points is $11^5 = 161,051$."
   ]
  },
  {
   "cell_type": "code",
   "execution_count": 12,
   "metadata": {
    "collapsed": false
   },
   "outputs": [],
   "source": [
    "mesh = product(μ_a_array, μ_b_array, σ_a_array, σ_b_array, ρ_array)"
   ]
  },
  {
   "cell_type": "markdown",
   "metadata": {},
   "source": [
    "The result is an iterator.  We can use `itertools.starmap` to apply `pack` to each of the points in the mesh: "
   ]
  },
  {
   "cell_type": "code",
   "execution_count": 13,
   "metadata": {
    "collapsed": false
   },
   "outputs": [],
   "source": [
    "mesh = starmap(pack, mesh)"
   ]
  },
  {
   "cell_type": "markdown",
   "metadata": {},
   "source": [
    "Now we need an object to encapsulate the mesh and perform the Bayesian update.  `MultiNorm` represents a map from each `Param` object to its probability.\n",
    "\n",
    "It inherits `Update` from `thinkbayes2.Suite` and provides `Likelihood`, which computes the probability of the data given a hypothetical set of parameters.\n",
    "\n",
    "If we know the mean is $\\mu$ and the covariance matrix is $\\Sigma$\n",
    "\n",
    "* The sampling distribution of the mean, $\\bar{x}$ is multivariable normal with parameters $\\mu$ and $\\Sigma/n$.\n",
    "\n",
    "* The sampling distribution of $(n-1) S$ is Wishart with parameters n-1 and $\\Sigma$.\n",
    "\n",
    "So the likelihood of the observed summary statistics, `xbar` and `S`, is the product of two probability densities:\n",
    "\n",
    "* The pdf of the multivariate normal distrbution evaluated at `xbar`.\n",
    "\n",
    "* The pdf of the Wishart distribution evaluated at `(n-1) * S`."
   ]
  },
  {
   "cell_type": "code",
   "execution_count": 14,
   "metadata": {
    "collapsed": true
   },
   "outputs": [],
   "source": [
    "class MultiNorm(thinkbayes2.Suite):\n",
    "    \n",
    "    def Likelihood(self, data, hypo):\n",
    "        xbar, S, n = data\n",
    "\n",
    "        pdf_X = scipy.stats.multivariate_normal(hypo.μ, hypo.Σ/n)\n",
    "        pdf_S = scipy.stats.wishart(df=n-1, scale=hypo.Σ)\n",
    "        \n",
    "        like = pdf_X.pdf(xbar) * pdf_S.pdf((n-1) * S)\n",
    "        return like"
   ]
  },
  {
   "cell_type": "markdown",
   "metadata": {},
   "source": [
    "Now we can initialize the suite with the mesh."
   ]
  },
  {
   "cell_type": "code",
   "execution_count": 15,
   "metadata": {
    "collapsed": true
   },
   "outputs": [],
   "source": [
    "suite = MultiNorm(mesh)"
   ]
  },
  {
   "cell_type": "markdown",
   "metadata": {},
   "source": [
    "And update it using the data (the return value is the total probability of the data, aka the normalizing constant).  This takes about 30 seconds on my machine."
   ]
  },
  {
   "cell_type": "code",
   "execution_count": 16,
   "metadata": {
    "collapsed": false
   },
   "outputs": [
    {
     "data": {
      "text/plain": [
       "1.6385250666091484e-15"
      ]
     },
     "execution_count": 16,
     "metadata": {},
     "output_type": "execute_result"
    }
   ],
   "source": [
    "suite.Update((xbar, S, n))"
   ]
  },
  {
   "cell_type": "markdown",
   "metadata": {},
   "source": [
    "Now to answer the original question, about the conditional probabilities of A and B, we can either enumerate the parameters in the posterior or draw a sample from the posterior.\n",
    "\n",
    "Since we don't need a lot of precision, I'll draw a sample."
   ]
  },
  {
   "cell_type": "code",
   "execution_count": 17,
   "metadata": {
    "collapsed": false
   },
   "outputs": [],
   "source": [
    "sample = suite.MakeCdf().Sample(300)"
   ]
  },
  {
   "cell_type": "markdown",
   "metadata": {},
   "source": [
    "For a given pair values, $\\mu$ and $\\Sigma$, in the sample, we can generate a simulated dataset.\n",
    "\n",
    "The size of the simulated dataset is arbitrary, but should be large enough to generate a smooth distribution of P(A|B) and P(B|A)."
   ]
  },
  {
   "cell_type": "code",
   "execution_count": 18,
   "metadata": {
    "collapsed": false
   },
   "outputs": [],
   "source": [
    "def generate(μ, Σ, sample_size):\n",
    "    return np.random.multivariate_normal(μ, Σ, sample_size)\n",
    "\n",
    "# run an example using sample stats\n",
    "fake_X = generate(xbar, S, 300)"
   ]
  },
  {
   "cell_type": "markdown",
   "metadata": {},
   "source": [
    "The following function takes a sample of $a$ and $b$ and computes the conditional probabilites P(A|B) and P(B|A)"
   ]
  },
  {
   "cell_type": "code",
   "execution_count": 19,
   "metadata": {
    "collapsed": false
   },
   "outputs": [
    {
     "data": {
      "text/plain": [
       "(0.8055555555555556, 0.871244635193133)"
      ]
     },
     "execution_count": 19,
     "metadata": {},
     "output_type": "execute_result"
    }
   ],
   "source": [
    "def conditional_probs(sample):\n",
    "    df = pd.DataFrame(sample, columns=['a', 'b'])\n",
    "    pA = df[(91.9 <= df.a) & (df.a <= 158.3)]\n",
    "    pB = df[(56.4 <= df.b) & (df.b <= 100)]\n",
    "    pBoth = pA.index.intersection(pB.index)\n",
    "    pAgivenB = len(pBoth) / len(pB)\n",
    "    pBgivenA = len(pBoth) / len(pA)\n",
    "    return pAgivenB, pBgivenA\n",
    "\n",
    "# for testing, compute the conditional probs with the actual data\n",
    "conditional_probs(fake_X)"
   ]
  },
  {
   "cell_type": "markdown",
   "metadata": {},
   "source": [
    "Now we can loop through the sample of parameters, generate simulated data for each, and compute the conditional probabilities:"
   ]
  },
  {
   "cell_type": "code",
   "execution_count": 20,
   "metadata": {
    "collapsed": false
   },
   "outputs": [],
   "source": [
    "def make_predictive_distributions(sample):\n",
    "    pmf = thinkbayes2.Joint()\n",
    "\n",
    "    for params in sample:\n",
    "        fake_X = generate(params.μ, params.Σ, 300)\n",
    "        probs = conditional_probs(fake_X)\n",
    "        pmf[probs] += 1\n",
    "\n",
    "    pmf.Normalize()\n",
    "    return pmf\n",
    "\n",
    "predictive = make_predictive_distributions(sample)"
   ]
  },
  {
   "cell_type": "markdown",
   "metadata": {},
   "source": [
    "Then pull out the posterior predictive marginal distribution of P(A|B), and print the posterior predictive mean:"
   ]
  },
  {
   "cell_type": "code",
   "execution_count": 21,
   "metadata": {
    "collapsed": false
   },
   "outputs": [
    {
     "data": {
      "text/plain": [
       "0.736640314455729"
      ]
     },
     "execution_count": 21,
     "metadata": {},
     "output_type": "execute_result"
    },
    {
     "data": {
      "image/png": "[encoded data removed]",
      "text/plain": [
       "<matplotlib.figure.Figure at 0x7fcc63ad9d30>"
      ]
     },
     "metadata": {},
     "output_type": "display_data"
    }
   ],
   "source": [
    "thinkplot.Cdf(predictive.Marginal(0).MakeCdf())\n",
    "predictive.Marginal(0).Mean()"
   ]
  },
  {
   "cell_type": "markdown",
   "metadata": {},
   "source": [
    "And then pull out the posterior predictive marginal distribution of P(B|A), with the posterior predictive mean"
   ]
  },
  {
   "cell_type": "code",
   "execution_count": 22,
   "metadata": {
    "collapsed": false
   },
   "outputs": [
    {
     "data": {
      "text/plain": [
       "0.8257599857174159"
      ]
     },
     "execution_count": 22,
     "metadata": {},
     "output_type": "execute_result"
    },
    {
     "data": {
      "image/png": "[encoded data removed]",
      "text/plain": [
       "<matplotlib.figure.Figure at 0x7fcc64d73358>"
      ]
     },
     "metadata": {},
     "output_type": "display_data"
    }
   ],
   "source": [
    "thinkplot.Cdf(predictive.Marginal(1).MakeCdf())\n",
    "predictive.Marginal(1).Mean()"
   ]
  },
  {
   "cell_type": "markdown",
   "metadata": {},
   "source": [
    "We don't really care about the posterior distributions of the parameters, but it's good to take a look and make sure they are not crazy."
   ]
  },
  {
   "cell_type": "markdown",
   "metadata": {},
   "source": [
    "The following function takes μ and Σ and unpacks them into a tuple of 5 parameters:"
   ]
  },
  {
   "cell_type": "code",
   "execution_count": 23,
   "metadata": {
    "collapsed": false
   },
   "outputs": [],
   "source": [
    "def unpack(μ, Σ):\n",
    "    μ_a = μ[0]\n",
    "    μ_b = μ[1]\n",
    "    σ_a = np.sqrt(Σ[0][0])\n",
    "    σ_b = np.sqrt(Σ[1][1])\n",
    "    ρ = Σ[0][1] / σ_a / σ_b\n",
    "    return μ_a, μ_b, σ_a, σ_b, ρ"
   ]
  },
  {
   "cell_type": "markdown",
   "metadata": {},
   "source": [
    "So we can iterate through the posterior distribution and make a joint posterior distribution of the parameters:"
   ]
  },
  {
   "cell_type": "code",
   "execution_count": 24,
   "metadata": {
    "collapsed": false
   },
   "outputs": [],
   "source": [
    "def make_marginals(suite):\n",
    "    joint = thinkbayes2.Joint()\n",
    "    for params, prob in suite.Items():\n",
    "        t = unpack(params.μ, params.Σ)\n",
    "        joint[t] = prob\n",
    "    return joint\n",
    "\n",
    "marginals = make_marginals(suite)"
   ]
  },
  {
   "cell_type": "markdown",
   "metadata": {},
   "source": [
    "And here are the posterior marginal distributions for $\\mu_a$ and $\\mu_b$"
   ]
  },
  {
   "cell_type": "code",
   "execution_count": 32,
   "metadata": {
    "collapsed": false
   },
   "outputs": [
    {
     "data": {
      "image/png": "[encoded data removed]",
      "text/plain": [
       "<matplotlib.figure.Figure at 0x7fcc60b44a20>"
      ]
     },
     "metadata": {},
     "output_type": "display_data"
    }
   ],
   "source": [
    "thinkplot.Cdf(marginals.Marginal(0).MakeCdf())\n",
    "thinkplot.Cdf(marginals.Marginal(1).MakeCdf())\n",
    "thinkplot.config(xlabel='$\\mu_a$ and $\\mu_b$', legend=False)"
   ]
  },
  {
   "cell_type": "markdown",
   "metadata": {},
   "source": [
    "And here are the posterior marginal distributions for $\\sigma_a$ and $\\sigma_b$"
   ]
  },
  {
   "cell_type": "code",
   "execution_count": 33,
   "metadata": {
    "collapsed": false
   },
   "outputs": [
    {
     "data": {
      "image/png": "[encoded data removed]",
      "text/plain": [
       "<matplotlib.figure.Figure at 0x7fcc60abf908>"
      ]
     },
     "metadata": {},
     "output_type": "display_data"
    }
   ],
   "source": [
    "thinkplot.Cdf(marginals.Marginal(2).MakeCdf())\n",
    "thinkplot.Cdf(marginals.Marginal(3).MakeCdf())\n",
    "thinkplot.config(xlabel='$\\sigma_a$ and $\\sigma_b$', legend=False)"
   ]
  },
  {
   "cell_type": "markdown",
   "metadata": {},
   "source": [
    "Finally, the posterior marginal distribution for the correlation coefficient, $\\rho$"
   ]
  },
  {
   "cell_type": "code",
   "execution_count": 35,
   "metadata": {
    "collapsed": false
   },
   "outputs": [
    {
     "data": {
      "image/png": "[encoded data removed]",
      "text/plain": [
       "<matplotlib.figure.Figure at 0x7fcc60abf0f0>"
      ]
     },
     "metadata": {},
     "output_type": "display_data"
    }
   ],
   "source": [
    "thinkplot.Cdf(marginals.Marginal(4).MakeCdf())\n",
    "thinkplot.config(xlabel='corrcoef', legend=False)"
   ]
  },
  {
   "cell_type": "markdown",
   "metadata": {},
   "source": [
    "You can ignore everything after this, which is my development code and some checks."
   ]
  },
  {
   "cell_type": "code",
   "execution_count": 28,
   "metadata": {
    "collapsed": false
   },
   "outputs": [
    {
     "ename": "Exception",
     "evalue": "YouShallNotPass",
     "output_type": "error",
     "traceback": [
      "\u001b[1;31m---------------------------------------------------------------------------\u001b[0m",
      "\u001b[1;31mException\u001b[0m                                 Traceback (most recent call last)",
      "\u001b[1;32m<ipython-input-28-e86b5e68f16f>\u001b[0m in \u001b[0;36m<module>\u001b[1;34m()\u001b[0m\n\u001b[1;32m----> 1\u001b[1;33m \u001b[1;32mraise\u001b[0m \u001b[0mException\u001b[0m\u001b[1;33m(\u001b[0m\u001b[1;34m\"YouShallNotPass\"\u001b[0m\u001b[1;33m)\u001b[0m\u001b[1;33m\u001b[0m\u001b[0m\n\u001b[0m",
      "\u001b[1;31mException\u001b[0m: YouShallNotPass"
     ]
    }
   ],
   "source": [
    "raise Exception(\"YouShallNotPass\")"
   ]
  },
  {
   "cell_type": "code",
   "execution_count": null,
   "metadata": {
    "collapsed": true
   },
   "outputs": [],
   "source": [
    "def estimate(X):\n",
    "    return X.mean(axis=1), np.cov(X)"
   ]
  },
  {
   "cell_type": "code",
   "execution_count": null,
   "metadata": {
    "collapsed": false
   },
   "outputs": [],
   "source": [
    "estimate(generate(xbar, S, n).transpose())"
   ]
  },
  {
   "cell_type": "code",
   "execution_count": null,
   "metadata": {
    "collapsed": false
   },
   "outputs": [],
   "source": [
    "def z_prime(r):\n",
    "    return 0.5 * np.log((1+r) / (1-r))\n",
    "\n",
    "def sampling_distributions(stats, cov, n):\n",
    "    sig1, sig2, _ = std_rho(cov)\n",
    "    \n",
    "    array = np.zeros((len(stats), 8))\n",
    "    for i, (xbar, S) in enumerate(stats):\n",
    "        array[i, 0:2] = xbar\n",
    "        s1, s2, r = std_rho(S)\n",
    "        array[i, 2] = s1\n",
    "        array[i, 3] = s2\n",
    "        array[i, 4] = r\n",
    "        array[i, 5] = (n-1) * S[0, 0] / cov[0, 0]\n",
    "        array[i, 6] = (n-1) * S[1, 1] / cov[1, 1]\n",
    "        array[i, 7] = z_prime(r)\n",
    "    return array\n",
    "\n",
    "dists = sampling_distributions(stats, cov, n)"
   ]
  },
  {
   "cell_type": "code",
   "execution_count": null,
   "metadata": {
    "collapsed": false
   },
   "outputs": [],
   "source": [
    "cdf0 = thinkbayes2.Cdf(dists[:, 0])\n",
    "cdf1 = thinkbayes2.Cdf(dists[:, 1])\n",
    "thinkplot.Cdfs([cdf0, cdf1])"
   ]
  },
  {
   "cell_type": "code",
   "execution_count": null,
   "metadata": {
    "collapsed": false
   },
   "outputs": [],
   "source": []
  },
  {
   "cell_type": "code",
   "execution_count": null,
   "metadata": {
    "collapsed": false
   },
   "outputs": [],
   "source": [
    "cdf2 = thinkbayes2.Cdf(dists[:, 2])\n",
    "cdf3 = thinkbayes2.Cdf(dists[:, 3])\n",
    "thinkplot.Cdfs([cdf2, cdf3])"
   ]
  },
  {
   "cell_type": "code",
   "execution_count": null,
   "metadata": {
    "collapsed": false
   },
   "outputs": [],
   "source": [
    "cdf4 = thinkbayes2.Cdf(dists[:, 4])\n",
    "thinkplot.Cdfs([cdf4])"
   ]
  },
  {
   "cell_type": "code",
   "execution_count": null,
   "metadata": {
    "collapsed": false
   },
   "outputs": [],
   "source": [
    "cdf5 = thinkbayes2.Cdf(dists[:, 5])\n",
    "cdf6 = thinkbayes2.Cdf(dists[:, 6])\n",
    "thinkplot.Cdfs([cdf5, cdf6])"
   ]
  },
  {
   "cell_type": "code",
   "execution_count": null,
   "metadata": {
    "collapsed": false
   },
   "outputs": [],
   "source": [
    "cdf7 = thinkbayes2.Cdf(dists[:, 7])\n",
    "thinkplot.Cdfs([cdf7])"
   ]
  },
  {
   "cell_type": "code",
   "execution_count": null,
   "metadata": {
    "collapsed": false
   },
   "outputs": [],
   "source": [
    "def sampling_dist_mean(i, mean, cov, cdf):\n",
    "    sampling_dist = scipy.stats.norm(loc=mean[i], scale=np.sqrt(cov[i, i]/n))\n",
    "    xs = cdf.xs\n",
    "    ys = sampling_dist.cdf(xs)\n",
    "    thinkplot.plot(xs, ys)\n",
    "    thinkplot.Cdf(cdf)\n",
    "    \n",
    "sampling_dist_mean(0, mean, cov, cdf0)"
   ]
  },
  {
   "cell_type": "code",
   "execution_count": null,
   "metadata": {
    "collapsed": false
   },
   "outputs": [],
   "source": [
    "sampling_dist_mean(1, mean, cov, cdf1)"
   ]
  },
  {
   "cell_type": "code",
   "execution_count": null,
   "metadata": {
    "collapsed": false
   },
   "outputs": [],
   "source": [
    "def sampling_dist_std(i, mean, cov, cdf):\n",
    "    sampling_dist = scipy.stats.chi2(df=n)\n",
    "    xs = cdf.xs\n",
    "    ys = sampling_dist.cdf(xs)\n",
    "    thinkplot.plot(xs, ys)\n",
    "    thinkplot.Cdf(cdf)\n",
    "    \n",
    "sampling_dist_std(5, mean, cov, cdf5)"
   ]
  },
  {
   "cell_type": "code",
   "execution_count": null,
   "metadata": {
    "collapsed": false
   },
   "outputs": [],
   "source": [
    "sampling_dist_std(6, mean, cov, cdf6)"
   ]
  },
  {
   "cell_type": "code",
   "execution_count": null,
   "metadata": {
    "collapsed": false
   },
   "outputs": [],
   "source": [
    "def sampling_dist_r(i, mean, cov, cdf):\n",
    "    _, _, rho = std_rho(cov)\n",
    "    sampling_dist = scipy.stats.norm(loc=z_prime(rho), scale=1/np.sqrt(n-3))\n",
    "    xs = cdf.xs\n",
    "    ys = sampling_dist.cdf(xs)\n",
    "    thinkplot.plot(xs, ys)\n",
    "    thinkplot.Cdf(cdf)\n",
    "    \n",
    "sampling_dist_r(7, mean, cov, cdf7)"
   ]
  },
  {
   "cell_type": "code",
   "execution_count": null,
   "metadata": {
    "collapsed": false
   },
   "outputs": [],
   "source": [
    "pdf_X = scipy.stats.multivariate_normal(mean, cov/n)"
   ]
  },
  {
   "cell_type": "code",
   "execution_count": null,
   "metadata": {
    "collapsed": false
   },
   "outputs": [],
   "source": [
    "pdf_X.pdf(mean) - pdf_X.pdf(mean-0.1) "
   ]
  },
  {
   "cell_type": "code",
   "execution_count": null,
   "metadata": {
    "collapsed": false
   },
   "outputs": [],
   "source": [
    "def make_multi_norm_marginal(index, mean, cov, n):\n",
    "    \n",
    "    sigmas = std_rho(cov)\n",
    "    width = 6 * sigmas[index] / np.sqrt(n)\n",
    "    xs = np.linspace(mean[index]-width/2, mean[index]+width/2, 101)\n",
    "    array = np.tile(mean, (len(xs), 1))\n",
    "    array[:, index] = xs\n",
    "\n",
    "    pdf_X = scipy.stats.multivariate_normal(mean, cov/n)\n",
    "    ys = pdf_X.pdf(array)\n",
    "    \n",
    "    pmf = thinkbayes2.Pmf(dict(zip(xs, ys)))\n",
    "    pmf.Normalize()\n",
    "    return pmf\n",
    "\n",
    "pmf = make_multi_norm_marginal(0, mean, cov, n)\n",
    "thinkplot.Pdf(pmf)"
   ]
  },
  {
   "cell_type": "code",
   "execution_count": null,
   "metadata": {
    "collapsed": false
   },
   "outputs": [],
   "source": [
    "pmf = make_multi_norm_marginal(1, mean, cov, n)\n",
    "thinkplot.Pdf(pmf)"
   ]
  },
  {
   "cell_type": "code",
   "execution_count": null,
   "metadata": {
    "collapsed": false
   },
   "outputs": [],
   "source": [
    "def generate_statistics(mean, cov, n, iters):\n",
    "    return [estimate(generate(mean, cov, n)) for _ in range(iters)]\n",
    "\n",
    "stats = generate_statistics(mean, cov, n, 1000)"
   ]
  },
  {
   "cell_type": "code",
   "execution_count": null,
   "metadata": {
    "collapsed": false
   },
   "outputs": [],
   "source": []
  },
  {
   "cell_type": "code",
   "execution_count": null,
   "metadata": {
    "collapsed": false
   },
   "outputs": [],
   "source": [
    "s0 = np.zeros(len(stats))\n",
    "s1 = np.zeros(len(stats))\n",
    "\n",
    "for i, (xbar, S) in enumerate(stats):\n",
    "    sigmas = std_rho(S)\n",
    "    s0[i] = sigmas[0]\n",
    "    s1[i] = sigmas[1]\n",
    "\n",
    "thinkplot.Scatter(s0, s1)"
   ]
  },
  {
   "cell_type": "code",
   "execution_count": null,
   "metadata": {
    "collapsed": false
   },
   "outputs": [],
   "source": [
    "s0 = np.zeros(len(stats))\n",
    "s1 = np.zeros(len(stats))\n",
    "\n",
    "for i, (xbar, S) in enumerate(stats):\n",
    "    s0[i] = (n-1) * S[0][0]\n",
    "    s1[i] = (n-1) * S[1][1]\n",
    "\n",
    "thinkplot.Scatter(s0, s1)"
   ]
  },
  {
   "cell_type": "code",
   "execution_count": null,
   "metadata": {
    "collapsed": false
   },
   "outputs": [],
   "source": [
    "pdf_S = scipy.stats.wishart(df=n-1, scale=cov)\n",
    "stats = pdf_S.rvs(1000)\n",
    "\n",
    "s0 = np.zeros(len(stats))\n",
    "s1 = np.zeros(len(stats))\n",
    "\n",
    "for i, S in enumerate(stats):\n",
    "    s0[i] = S[0][0]\n",
    "    s1[i] = S[1][1]\n",
    "\n",
    "thinkplot.Scatter(s0, s1)"
   ]
  },
  {
   "cell_type": "code",
   "execution_count": null,
   "metadata": {
    "collapsed": false
   },
   "outputs": [],
   "source": [
    "sigmas = std_rho(cov)\n",
    "width = 6 * sigmas[0] / np.sqrt(2 * (n-1))\n",
    "X = np.linspace(sigmas[0]-width/2, sigmas[0]+width/2, 101)\n",
    "\n",
    "width = 6 * sigmas[1] / np.sqrt(2 * (n-1))\n",
    "Y = np.linspace(sigmas[1]-width/2, sigmas[1]+width/2, 101)\n",
    "Z = np.zeros((len(X), len(Y)))\n",
    "\n",
    "pdf_S = scipy.stats.wishart(df=n-1, scale=cov)\n",
    "\n",
    "for i, x in enumerate(X):\n",
    "    for j, y in enumerate(Y):\n",
    "        S = cov.copy()\n",
    "        S[0, 0] = x**2\n",
    "        S[1, 1] = y**2\n",
    "        try:\n",
    "            density = pdf_S.pdf((n-1) * S)\n",
    "            Z[i, j] = density\n",
    "        except:\n",
    "            Z[i, j] = np.nan"
   ]
  },
  {
   "cell_type": "code",
   "execution_count": null,
   "metadata": {
    "collapsed": false
   },
   "outputs": [],
   "source": [
    "thinkplot.Scatter(s0, s1)\n",
    "plt.contour(X, Y, Z)"
   ]
  },
  {
   "cell_type": "code",
   "execution_count": null,
   "metadata": {
    "collapsed": true
   },
   "outputs": [],
   "source": [
    "pmf_0 = thinkbayes2.Pmf()\n",
    "\n",
    "for i, (xbar, S) in enumerate(stats):\n",
    "    sig1, sig2, rho = std_rho(S)\n",
    "    density = pdf_S.pdf((n-1) * S)\n",
    "    pmf_0[sig1] += 1"
   ]
  },
  {
   "cell_type": "code",
   "execution_count": null,
   "metadata": {
    "collapsed": false
   },
   "outputs": [],
   "source": [
    "thinkplot.Cdf(pmf_0.MakeCdf())\n"
   ]
  },
  {
   "cell_type": "code",
   "execution_count": null,
   "metadata": {
    "collapsed": true
   },
   "outputs": [],
   "source": [
    "pdf_S = scipy.stats.wishart(df=n-1, scale=cov)"
   ]
  },
  {
   "cell_type": "code",
   "execution_count": null,
   "metadata": {
    "collapsed": false
   },
   "outputs": [],
   "source": [
    "pdf_S.pdf(cov)"
   ]
  },
  {
   "cell_type": "code",
   "execution_count": null,
   "metadata": {
    "collapsed": true
   },
   "outputs": [],
   "source": []
  }
 ],
 "metadata": {
  "kernelspec": {
   "display_name": "Python 3",
   "language": "python",
   "name": "python3"
  },
  "language_info": {
   "codemirror_mode": {
    "name": "ipython",
    "version": 3
   },
   "file_extension": ".py",
   "mimetype": "text/x-python",
   "name": "python",
   "nbconvert_exporter": "python",
   "pygments_lexer": "ipython3",
   "version": "3.5.1"
  }
 },
 "nbformat": 4,
 "nbformat_minor": 0
}
