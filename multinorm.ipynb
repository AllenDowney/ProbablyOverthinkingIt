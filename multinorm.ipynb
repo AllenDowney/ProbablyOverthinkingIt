{
 "cells": [
  {
   "cell_type": "markdown",
   "metadata": {},
   "source": [
    "Solution to a problem posted at\n",
    "\n",
    "https://www.reddit.com/r/statistics/comments/4csjee/finding_pab_given_two_sets_of_data/\n",
    "\n",
    "So, I have two sets of data where the elements correspond to each other:\n",
    "\n",
    "    {A} = {122.8, 115.5, 102.5, 84.7, 154.2, 83.7, 122.1, 117.6, 98.1, 111.2, 80.3, 110.0, 117.6, 100.3, 107.8, 60.2}\n",
    "    {B} = {82.6, 99.1, 74.6, 51.9, 62.3, 67.2, 82.4, 97.2, 68.9, 77.9, 81.5, 87.4, 92.4, 80.8, 74.7, 42.1}\n",
    "\n",
    "I'm trying to find out the probability that (91.9 <= A <= 158.3) and (56.4 <= B <= 100).\n",
    "I know that P(91.9 <= A <= 158.3) = 0.727098 and that P(56.4 <= B <= 100) = 0.840273, given that A is a normal distribution with mean 105.5 and standard deviation 21.7 and that B is a normal distribution with mean 76.4 and standard deviation 15.4. However, since they are dependent events, P(BA)=P(A)P(B|A)=P(B)P(A|B). Is there any way that I can find out P(A|B) and P(B|A) given the data that I have?\n",
    "\n",
    "\n",
    "Copyright 2016 Allen Downey\n",
    "\n",
    "MIT License: http://opensource.org/licenses/MIT"
   ]
  },
  {
   "cell_type": "code",
   "execution_count": 28,
   "metadata": {
    "collapsed": false
   },
   "outputs": [],
   "source": [
    "from __future__ import print_function, division\n",
    "\n",
    "import numpy as np\n",
    "import pandas as pd\n",
    "import scipy\n",
    "\n",
    "from itertools import product\n",
    "\n",
    "import thinkbayes2\n",
    "import thinkplot\n",
    "\n",
    "%matplotlib inline"
   ]
  },
  {
   "cell_type": "markdown",
   "metadata": {},
   "source": [
    "Put the data into NumPy arrays"
   ]
  },
  {
   "cell_type": "code",
   "execution_count": 2,
   "metadata": {
    "collapsed": false
   },
   "outputs": [
    {
     "data": {
      "text/plain": [
       "16"
      ]
     },
     "execution_count": 2,
     "metadata": {},
     "output_type": "execute_result"
    }
   ],
   "source": [
    "a = np.array([122.8, 115.5, 102.5, 84.7, 154.2, 83.7, 122.1, \n",
    "              117.6, 98.1, 111.2, 80.3, 110.0, 117.6, 100.3, 107.8, 60.2])\n",
    "b = np.array([82.6, 99.1, 74.6, 51.9, 62.3, 67.2, 82.4, 97.2, \n",
    "              68.9, 77.9, 81.5, 87.4, 92.4, 80.8, 74.7, 42.1])\n",
    "n = len(a)\n",
    "n"
   ]
  },
  {
   "cell_type": "markdown",
   "metadata": {},
   "source": [
    "Take a look at a scatter plot."
   ]
  },
  {
   "cell_type": "code",
   "execution_count": 3,
   "metadata": {
    "collapsed": false
   },
   "outputs": [
    {
     "data": {
      "image/png": "[encoded data removed]",
      "text/plain": [
       "<matplotlib.figure.Figure at 0x7f202c1f9550>"
      ]
     },
     "metadata": {},
     "output_type": "display_data"
    }
   ],
   "source": [
    "thinkplot.Scatter(a, b, alpha=0.7)"
   ]
  },
  {
   "cell_type": "markdown",
   "metadata": {},
   "source": [
    "It looks like modeling this data with a bi-variate normal distribution is a reasonable modeling choice.\n",
    "\n",
    "Let's make an array out of it:"
   ]
  },
  {
   "cell_type": "code",
   "execution_count": 4,
   "metadata": {
    "collapsed": false
   },
   "outputs": [
    {
     "data": {
      "text/plain": [
       "array([[ 122.8,  115.5,  102.5,   84.7,  154.2,   83.7,  122.1,  117.6,\n",
       "          98.1,  111.2,   80.3,  110. ,  117.6,  100.3,  107.8,   60.2],\n",
       "       [  82.6,   99.1,   74.6,   51.9,   62.3,   67.2,   82.4,   97.2,\n",
       "          68.9,   77.9,   81.5,   87.4,   92.4,   80.8,   74.7,   42.1]])"
      ]
     },
     "execution_count": 4,
     "metadata": {},
     "output_type": "execute_result"
    }
   ],
   "source": [
    "X = np.array([a, b])\n",
    "X"
   ]
  },
  {
   "cell_type": "markdown",
   "metadata": {},
   "source": [
    "And compute the sample mean"
   ]
  },
  {
   "cell_type": "code",
   "execution_count": 5,
   "metadata": {
    "collapsed": false
   },
   "outputs": [
    {
     "data": {
      "text/plain": [
       "array([ 105.5375,   76.4375])"
      ]
     },
     "execution_count": 5,
     "metadata": {},
     "output_type": "execute_result"
    }
   ],
   "source": [
    "xbar = X.mean(axis=1)\n",
    "xbar"
   ]
  },
  {
   "cell_type": "markdown",
   "metadata": {},
   "source": [
    "Sample standard deviation"
   ]
  },
  {
   "cell_type": "code",
   "execution_count": 6,
   "metadata": {
    "collapsed": false
   },
   "outputs": [
    {
     "data": {
      "text/plain": [
       "array([ 21.04040384,  14.93640163])"
      ]
     },
     "execution_count": 6,
     "metadata": {},
     "output_type": "execute_result"
    }
   ],
   "source": [
    "std = X.std(axis=1)\n",
    "std"
   ]
  },
  {
   "cell_type": "markdown",
   "metadata": {},
   "source": [
    "Covariance matrix"
   ]
  },
  {
   "cell_type": "code",
   "execution_count": 7,
   "metadata": {
    "collapsed": false
   },
   "outputs": [
    {
     "data": {
      "text/plain": [
       "array([[ 472.21183333,  161.33583333],\n",
       "       [ 161.33583333,  237.96916667]])"
      ]
     },
     "execution_count": 7,
     "metadata": {},
     "output_type": "execute_result"
    }
   ],
   "source": [
    "S = np.cov(X)\n",
    "S"
   ]
  },
  {
   "cell_type": "markdown",
   "metadata": {},
   "source": [
    "And correlation coefficient"
   ]
  },
  {
   "cell_type": "code",
   "execution_count": 8,
   "metadata": {
    "collapsed": false
   },
   "outputs": [
    {
     "data": {
      "text/plain": [
       "array([[ 1.       ,  0.4812847],\n",
       "       [ 0.4812847,  1.       ]])"
      ]
     },
     "execution_count": 8,
     "metadata": {},
     "output_type": "execute_result"
    }
   ],
   "source": [
    "corrcoef = np.corrcoef(a, b)\n",
    "corrcoef"
   ]
  },
  {
   "cell_type": "markdown",
   "metadata": {},
   "source": [
    "There are 5 parameters we would like to estimate: $\\mu_A$, $\\mu_B$, $\\sigma_A$, $\\sigma_B$, $\\rho$.\n",
    "\n",
    "The following function makes an array of possible values for each parameter."
   ]
  },
  {
   "cell_type": "code",
   "execution_count": 9,
   "metadata": {
    "collapsed": true
   },
   "outputs": [],
   "source": [
    "def make_array(center, stderr, m=11, factor=3):\n",
    "    return np.linspace(center-factor*stderr, center+factor*stderr, m)"
   ]
  },
  {
   "cell_type": "markdown",
   "metadata": {},
   "source": [
    "For each parameter, the prior distribution is uniform on a range centered on the estimated value, plus or minus a few standard errors.\n",
    "\n",
    "Not all combinations of parameters will turn out to be valid, but that's ok."
   ]
  },
  {
   "cell_type": "code",
   "execution_count": 10,
   "metadata": {
    "collapsed": false
   },
   "outputs": [
    {
     "name": "stdout",
     "output_type": "stream",
     "text": [
      "89.75719712 121.31780288\n",
      "65.2351987751 87.6398012249\n",
      "9.51610003781 32.5647076422\n",
      "6.75539753077 23.1174057358\n",
      "0.0312847033596 0.93128470336\n"
     ]
    }
   ],
   "source": [
    "mu0 = xbar[0]\n",
    "mu1 = xbar[1]\n",
    "sig0 = std[0]\n",
    "sig1 = std[1]\n",
    "rho = corrcoef[0][1]\n",
    "\n",
    "mu0_array = make_array(mu0, sig0 / np.sqrt(n))\n",
    "mu1_array = make_array(mu1, sig1 / np.sqrt(n))\n",
    "sig0_array = make_array(sig0, sig0 / np.sqrt(2 * (n-1)))\n",
    "sig1_array = make_array(sig1, sig1 / np.sqrt(2 * (n-1)))\n",
    "rho_array = make_array(rho, 0.15)\n",
    "\n",
    "print(min(mu0_array), max(mu0_array))\n",
    "print(min(mu1_array), max(mu1_array))\n",
    "print(min(sig0_array), max(sig0_array))\n",
    "print(min(sig1_array), max(sig1_array))\n",
    "print(min(rho_array), max(rho_array))"
   ]
  },
  {
   "cell_type": "markdown",
   "metadata": {},
   "source": [
    "Given the five parameters, we can assemble them into two arrays, mean and cov."
   ]
  },
  {
   "cell_type": "code",
   "execution_count": 15,
   "metadata": {
    "collapsed": true
   },
   "outputs": [],
   "source": [
    "def mean_cov(mu0, mu1, sig0, sig1, rho):\n",
    "    mean = np.array([mu0, mu1])\n",
    "    cross = rho * sig0 * sig1\n",
    "    cov = np.array([[sig0**2, cross], [cross, sig1**2]])\n",
    "    return mean, cov"
   ]
  },
  {
   "cell_type": "markdown",
   "metadata": {},
   "source": [
    "Here's the suite that represents each hypothetical set of parameters.  Initially they are all equally likely.\n",
    "\n",
    "`Likelihood` computes the probability of the data given a hypothetical set of parameters.  If we know the mean is $\\mu$ and the covariance matrix is $\\Sigma$, the sampling distribution of the mean, $\\bar{x}$ is multivariable normal with parameters $\\mu$ and $\\Sigma/n$.\n",
    "\n",
    "And the sampling distribution $(n-1) S$ is Wishart with parameters n-1 and $\\Sigma$. "
   ]
  },
  {
   "cell_type": "code",
   "execution_count": 16,
   "metadata": {
    "collapsed": true
   },
   "outputs": [],
   "source": [
    "class MultiNorm(thinkbayes2.Suite, thinkbayes2.Joint):\n",
    "    \n",
    "    def Likelihood(self, data, hypo):\n",
    "        mean, cov = mean_cov(*hypo)\n",
    "        xbar, S, n = data\n",
    "\n",
    "        try:\n",
    "            pdf_X = scipy.stats.multivariate_normal(mean, cov/n)\n",
    "            pdf_S = scipy.stats.wishart(df=n-1, scale=cov)\n",
    "        except:\n",
    "            # some combinations of parameters yield covariance matrices that\n",
    "            # are not positive definite, which means they can't have come\n",
    "            # from data, so the P(data|hypo) is 0\n",
    "            return 0\n",
    "        \n",
    "        like = pdf_X.pdf(xbar) * pdf_S.pdf((n-1) * S)\n",
    "        return like"
   ]
  },
  {
   "cell_type": "markdown",
   "metadata": {},
   "source": [
    "Now we can make a prior distribution using the Cartesian product of the parameter arrays."
   ]
  },
  {
   "cell_type": "code",
   "execution_count": 17,
   "metadata": {
    "collapsed": false
   },
   "outputs": [],
   "source": [
    "suite = MultiNorm(product(mu0_array, mu1_array, sig0_array, sig1_array, rho_array))"
   ]
  },
  {
   "cell_type": "markdown",
   "metadata": {},
   "source": [
    "And update it using the data (the result is the total probability of the data)."
   ]
  },
  {
   "cell_type": "code",
   "execution_count": 18,
   "metadata": {
    "collapsed": false
   },
   "outputs": [
    {
     "data": {
      "text/plain": [
       "1.6385250666091511e-15"
      ]
     },
     "execution_count": 18,
     "metadata": {},
     "output_type": "execute_result"
    }
   ],
   "source": [
    "suite.Update((xbar, S, n))"
   ]
  },
  {
   "cell_type": "markdown",
   "metadata": {},
   "source": [
    "Using the posterior distribution, we can compute the posterior marginal distributions of the parameters, starting with $\\mu_a$ and $\\mu_b$:"
   ]
  },
  {
   "cell_type": "code",
   "execution_count": 19,
   "metadata": {
    "collapsed": false
   },
   "outputs": [
    {
     "data": {
      "text/plain": [
       "{'xscale': 'linear', 'yscale': 'linear'}"
      ]
     },
     "execution_count": 19,
     "metadata": {},
     "output_type": "execute_result"
    },
    {
     "data": {
      "image/png": "[encoded data removed]",
      "text/plain": [
       "<matplotlib.figure.Figure at 0x7f2012b0d350>"
      ]
     },
     "metadata": {},
     "output_type": "display_data"
    }
   ],
   "source": [
    "thinkplot.Cdf(suite.Marginal(0).MakeCdf())\n",
    "thinkplot.Cdf(suite.Marginal(1).MakeCdf())"
   ]
  },
  {
   "cell_type": "markdown",
   "metadata": {},
   "source": [
    "And here are the posterior marginal distributions for $\\sigma_a$ and $\\sigma_b$"
   ]
  },
  {
   "cell_type": "code",
   "execution_count": 20,
   "metadata": {
    "collapsed": false
   },
   "outputs": [
    {
     "data": {
      "text/plain": [
       "{'xscale': 'linear', 'yscale': 'linear'}"
      ]
     },
     "execution_count": 20,
     "metadata": {},
     "output_type": "execute_result"
    },
    {
     "data": {
      "image/png": "[encoded data removed]",
      "text/plain": [
       "<matplotlib.figure.Figure at 0x7f2044220ad0>"
      ]
     },
     "metadata": {},
     "output_type": "display_data"
    }
   ],
   "source": [
    "thinkplot.Cdf(suite.Marginal(2).MakeCdf())\n",
    "thinkplot.Cdf(suite.Marginal(3).MakeCdf())"
   ]
  },
  {
   "cell_type": "markdown",
   "metadata": {},
   "source": [
    "Finally, the posterior marginal distribution for the correlation coefficient, $\\rho$"
   ]
  },
  {
   "cell_type": "code",
   "execution_count": 21,
   "metadata": {
    "collapsed": false
   },
   "outputs": [
    {
     "data": {
      "text/plain": [
       "{'xscale': 'linear', 'yscale': 'linear'}"
      ]
     },
     "execution_count": 21,
     "metadata": {},
     "output_type": "execute_result"
    },
    {
     "data": {
      "image/png": "[encoded data removed]",
      "text/plain": [
       "<matplotlib.figure.Figure at 0x7f2011b2da10>"
      ]
     },
     "metadata": {},
     "output_type": "display_data"
    }
   ],
   "source": [
    "thinkplot.Cdf(suite.Marginal(4).MakeCdf())"
   ]
  },
  {
   "cell_type": "markdown",
   "metadata": {},
   "source": [
    "Now we can draw a sample of parameters from the posterior distribution, and for each one compute the hypothetical $\\mu$ and $\\Sigma$ "
   ]
  },
  {
   "cell_type": "code",
   "execution_count": 22,
   "metadata": {
    "collapsed": false
   },
   "outputs": [
    {
     "data": {
      "text/plain": [
       "(array([ 102.38143942,   71.95657951]), array([[ 442.69859375,  258.20539056],\n",
       "        [ 258.20539056,  461.44216461]]))"
      ]
     },
     "execution_count": 22,
     "metadata": {},
     "output_type": "execute_result"
    }
   ],
   "source": [
    "stats = [mean_cov(*params) for params in suite.MakeCdf().Sample(1000)]\n",
    "stats[0]"
   ]
  },
  {
   "cell_type": "markdown",
   "metadata": {},
   "source": [
    "The following function takes hypothetical values for $\\mu$ and $\\Sigma$ and generates a sample of $n$ pairs:"
   ]
  },
  {
   "cell_type": "code",
   "execution_count": 25,
   "metadata": {
    "collapsed": false
   },
   "outputs": [
    {
     "data": {
      "text/plain": [
       "array([[  82.98381746,   88.9777055 ,  108.47673082,  134.38046392,\n",
       "         108.51468145,   93.51235084,   78.19151379,   83.8155497 ,\n",
       "         102.55007852,  121.95975124,  106.83566883,  105.12494893,\n",
       "         126.59338608,  106.71660929,   87.57845087,   94.18635493],\n",
       "       [  48.72881747,   80.16479177,  104.98699043,   68.39942304,\n",
       "          63.37016238,   85.69653821,   53.06285045,   58.71954304,\n",
       "          55.1271764 ,   81.93151202,   84.35530579,   76.76608986,\n",
       "          92.08553397,   68.67550574,   75.41384912,   72.78475991]])"
      ]
     },
     "execution_count": 25,
     "metadata": {},
     "output_type": "execute_result"
    }
   ],
   "source": [
    "def generate(mean, cov, n):\n",
    "    return np.random.multivariate_normal(mean, cov, n).transpose()\n",
    "\n",
    "# run an example using sample stats\n",
    "generate(xbar, S, n)"
   ]
  },
  {
   "cell_type": "markdown",
   "metadata": {},
   "source": [
    "The following function takes a sample of $a$ and $b$ and computes the conditional probabilites P(A|B) and P(B|A)"
   ]
  },
  {
   "cell_type": "code",
   "execution_count": 30,
   "metadata": {
    "collapsed": false
   },
   "outputs": [
    {
     "data": {
      "text/plain": [
       "(0.8571428571428571, 1.0)"
      ]
     },
     "execution_count": 30,
     "metadata": {},
     "output_type": "execute_result"
    }
   ],
   "source": [
    "def conditional_probs(sample):\n",
    "    df = pd.DataFrame(sample.transpose(), columns=['a', 'b'])\n",
    "    pA = df[(91.9 <= df.a) & (df.a <= 158.3)]\n",
    "    pB = df[(56.4 <= df.b) & (df.b <= 100)]\n",
    "    pBoth = pA.index.intersection(pB.index)\n",
    "    pAgivenB = len(pBoth) / len(pB)\n",
    "    pBgivenA = len(pBoth) / len(pA)\n",
    "    return pAgivenB, pBgivenA\n",
    "\n",
    "# for testing, compute the conditional probs with the actual data\n",
    "conditional_probs(X)"
   ]
  },
  {
   "cell_type": "markdown",
   "metadata": {},
   "source": [
    "Now we can loop through the sample of parameters (in $\\mu$-$\\Sigma$ form) and compute the conditional probabilities for each:"
   ]
  },
  {
   "cell_type": "code",
   "execution_count": 31,
   "metadata": {
    "collapsed": false
   },
   "outputs": [
    {
     "data": {
      "text/plain": [
       "1000"
      ]
     },
     "execution_count": 31,
     "metadata": {},
     "output_type": "execute_result"
    }
   ],
   "source": [
    "pmf = thinkbayes2.Joint()\n",
    "\n",
    "for mean, cov in stats:\n",
    "    sample = generate(mean, cov, 1000)\n",
    "    probs = conditional_probs(sample)\n",
    "    pmf[probs] += 1\n",
    "\n",
    "pmf.Normalize()"
   ]
  },
  {
   "cell_type": "markdown",
   "metadata": {},
   "source": [
    "And then pull out the posterior predictive marginal distribution of P(A|B), with the posterior predictive mean"
   ]
  },
  {
   "cell_type": "code",
   "execution_count": 32,
   "metadata": {
    "collapsed": false
   },
   "outputs": [
    {
     "data": {
      "text/plain": [
       "0.726139858751924"
      ]
     },
     "execution_count": 32,
     "metadata": {},
     "output_type": "execute_result"
    },
    {
     "data": {
      "image/png": "[encoded data removed]",
      "text/plain": [
       "<matplotlib.figure.Figure at 0x7f204420bc50>"
      ]
     },
     "metadata": {},
     "output_type": "display_data"
    }
   ],
   "source": [
    "thinkplot.Cdf(pmf.Marginal(0).MakeCdf())\n",
    "pmf.Marginal(0).Mean()"
   ]
  },
  {
   "cell_type": "markdown",
   "metadata": {},
   "source": [
    "And then pull out the posterior predictive marginal distribution of P(B|A), with the posterior predictive mean"
   ]
  },
  {
   "cell_type": "code",
   "execution_count": 33,
   "metadata": {
    "collapsed": false
   },
   "outputs": [
    {
     "data": {
      "text/plain": [
       "0.8247268244686035"
      ]
     },
     "execution_count": 33,
     "metadata": {},
     "output_type": "execute_result"
    },
    {
     "data": {
      "image/png": "[encoded data removed]",
      "text/plain": [
       "<matplotlib.figure.Figure at 0x7f2014fb2510>"
      ]
     },
     "metadata": {},
     "output_type": "display_data"
    }
   ],
   "source": [
    "thinkplot.Cdf(pmf.Marginal(1).MakeCdf())\n",
    "pmf.Marginal(1).Mean()"
   ]
  },
  {
   "cell_type": "markdown",
   "metadata": {},
   "source": [
    "You can ignore everything below here, which is some of my development code and various checks."
   ]
  },
  {
   "cell_type": "code",
   "execution_count": null,
   "metadata": {
    "collapsed": false
   },
   "outputs": [],
   "source": [
    "def std_rho(cov):\n",
    "    sig1 = np.sqrt(cov[0][0])\n",
    "    sig2 = np.sqrt(cov[1][1])\n",
    "    rho = cov[0][1] / sig1 / sig2\n",
    "    return sig1, sig2, rho\n",
    "\n",
    "std_rho(cov)"
   ]
  },
  {
   "cell_type": "markdown",
   "metadata": {},
   "source": []
  },
  {
   "cell_type": "code",
   "execution_count": null,
   "metadata": {
    "collapsed": true
   },
   "outputs": [],
   "source": [
    "def estimate(X):\n",
    "    return X.mean(axis=1), np.cov(X)"
   ]
  },
  {
   "cell_type": "code",
   "execution_count": null,
   "metadata": {
    "collapsed": false
   },
   "outputs": [],
   "source": [
    "estimate(generate(mean, cov, n))"
   ]
  },
  {
   "cell_type": "code",
   "execution_count": null,
   "metadata": {
    "collapsed": false
   },
   "outputs": [],
   "source": [
    "def z_prime(r):\n",
    "    return 0.5 * np.log((1+r) / (1-r))\n",
    "\n",
    "def sampling_distributions(stats, cov, n):\n",
    "    sig1, sig2, _ = std_rho(cov)\n",
    "    \n",
    "    array = np.zeros((len(stats), 8))\n",
    "    for i, (xbar, S) in enumerate(stats):\n",
    "        array[i, 0:2] = xbar\n",
    "        s1, s2, r = std_rho(S)\n",
    "        array[i, 2] = s1\n",
    "        array[i, 3] = s2\n",
    "        array[i, 4] = r\n",
    "        array[i, 5] = (n-1) * S[0, 0] / cov[0, 0]\n",
    "        array[i, 6] = (n-1) * S[1, 1] / cov[1, 1]\n",
    "        array[i, 7] = z_prime(r)\n",
    "    return array\n",
    "\n",
    "dists = sampling_distributions(stats, cov, n)"
   ]
  },
  {
   "cell_type": "code",
   "execution_count": null,
   "metadata": {
    "collapsed": false
   },
   "outputs": [],
   "source": [
    "cdf0 = thinkbayes2.Cdf(dists[:, 0])\n",
    "cdf1 = thinkbayes2.Cdf(dists[:, 1])\n",
    "thinkplot.Cdfs([cdf0, cdf1])"
   ]
  },
  {
   "cell_type": "code",
   "execution_count": null,
   "metadata": {
    "collapsed": false
   },
   "outputs": [],
   "source": []
  },
  {
   "cell_type": "code",
   "execution_count": null,
   "metadata": {
    "collapsed": false
   },
   "outputs": [],
   "source": [
    "cdf2 = thinkbayes2.Cdf(dists[:, 2])\n",
    "cdf3 = thinkbayes2.Cdf(dists[:, 3])\n",
    "thinkplot.Cdfs([cdf2, cdf3])"
   ]
  },
  {
   "cell_type": "code",
   "execution_count": null,
   "metadata": {
    "collapsed": false
   },
   "outputs": [],
   "source": [
    "cdf4 = thinkbayes2.Cdf(dists[:, 4])\n",
    "thinkplot.Cdfs([cdf4])"
   ]
  },
  {
   "cell_type": "code",
   "execution_count": null,
   "metadata": {
    "collapsed": false
   },
   "outputs": [],
   "source": [
    "cdf5 = thinkbayes2.Cdf(dists[:, 5])\n",
    "cdf6 = thinkbayes2.Cdf(dists[:, 6])\n",
    "thinkplot.Cdfs([cdf5, cdf6])"
   ]
  },
  {
   "cell_type": "code",
   "execution_count": null,
   "metadata": {
    "collapsed": false
   },
   "outputs": [],
   "source": [
    "cdf7 = thinkbayes2.Cdf(dists[:, 7])\n",
    "thinkplot.Cdfs([cdf7])"
   ]
  },
  {
   "cell_type": "code",
   "execution_count": null,
   "metadata": {
    "collapsed": false
   },
   "outputs": [],
   "source": [
    "def sampling_dist_mean(i, mean, cov, cdf):\n",
    "    sampling_dist = scipy.stats.norm(loc=mean[i], scale=np.sqrt(cov[i, i]/n))\n",
    "    xs = cdf.xs\n",
    "    ys = sampling_dist.cdf(xs)\n",
    "    thinkplot.plot(xs, ys)\n",
    "    thinkplot.Cdf(cdf)\n",
    "    \n",
    "sampling_dist_mean(0, mean, cov, cdf0)"
   ]
  },
  {
   "cell_type": "code",
   "execution_count": null,
   "metadata": {
    "collapsed": false
   },
   "outputs": [],
   "source": [
    "sampling_dist_mean(1, mean, cov, cdf1)"
   ]
  },
  {
   "cell_type": "code",
   "execution_count": null,
   "metadata": {
    "collapsed": false
   },
   "outputs": [],
   "source": [
    "def sampling_dist_std(i, mean, cov, cdf):\n",
    "    sampling_dist = scipy.stats.chi2(df=n)\n",
    "    xs = cdf.xs\n",
    "    ys = sampling_dist.cdf(xs)\n",
    "    thinkplot.plot(xs, ys)\n",
    "    thinkplot.Cdf(cdf)\n",
    "    \n",
    "sampling_dist_std(5, mean, cov, cdf5)"
   ]
  },
  {
   "cell_type": "code",
   "execution_count": null,
   "metadata": {
    "collapsed": false
   },
   "outputs": [],
   "source": [
    "sampling_dist_std(6, mean, cov, cdf6)"
   ]
  },
  {
   "cell_type": "code",
   "execution_count": null,
   "metadata": {
    "collapsed": false
   },
   "outputs": [],
   "source": [
    "def sampling_dist_r(i, mean, cov, cdf):\n",
    "    _, _, rho = std_rho(cov)\n",
    "    sampling_dist = scipy.stats.norm(loc=z_prime(rho), scale=1/np.sqrt(n-3))\n",
    "    xs = cdf.xs\n",
    "    ys = sampling_dist.cdf(xs)\n",
    "    thinkplot.plot(xs, ys)\n",
    "    thinkplot.Cdf(cdf)\n",
    "    \n",
    "sampling_dist_r(7, mean, cov, cdf7)"
   ]
  },
  {
   "cell_type": "code",
   "execution_count": null,
   "metadata": {
    "collapsed": false
   },
   "outputs": [],
   "source": [
    "pdf_X = scipy.stats.multivariate_normal(mean, cov/n)"
   ]
  },
  {
   "cell_type": "code",
   "execution_count": null,
   "metadata": {
    "collapsed": false
   },
   "outputs": [],
   "source": [
    "pdf_X.pdf(mean) - pdf_X.pdf(mean-0.1) "
   ]
  },
  {
   "cell_type": "code",
   "execution_count": null,
   "metadata": {
    "collapsed": false
   },
   "outputs": [],
   "source": [
    "def make_multi_norm_marginal(index, mean, cov, n):\n",
    "    \n",
    "    sigmas = std_rho(cov)\n",
    "    width = 6 * sigmas[index] / np.sqrt(n)\n",
    "    xs = np.linspace(mean[index]-width/2, mean[index]+width/2, 101)\n",
    "    array = np.tile(mean, (len(xs), 1))\n",
    "    array[:, index] = xs\n",
    "\n",
    "    pdf_X = scipy.stats.multivariate_normal(mean, cov/n)\n",
    "    ys = pdf_X.pdf(array)\n",
    "    \n",
    "    pmf = thinkbayes2.Pmf(dict(zip(xs, ys)))\n",
    "    pmf.Normalize()\n",
    "    return pmf\n",
    "\n",
    "pmf = make_multi_norm_marginal(0, mean, cov, n)\n",
    "thinkplot.Pdf(pmf)"
   ]
  },
  {
   "cell_type": "code",
   "execution_count": null,
   "metadata": {
    "collapsed": false
   },
   "outputs": [],
   "source": [
    "pmf = make_multi_norm_marginal(1, mean, cov, n)\n",
    "thinkplot.Pdf(pmf)"
   ]
  },
  {
   "cell_type": "code",
   "execution_count": null,
   "metadata": {
    "collapsed": false
   },
   "outputs": [],
   "source": [
    "def generate_statistics(mean, cov, n, iters):\n",
    "    return [estimate(generate(mean, cov, n)) for _ in range(iters)]\n",
    "\n",
    "stats = generate_statistics(mean, cov, n, 1000)"
   ]
  },
  {
   "cell_type": "code",
   "execution_count": null,
   "metadata": {
    "collapsed": false
   },
   "outputs": [],
   "source": []
  },
  {
   "cell_type": "code",
   "execution_count": null,
   "metadata": {
    "collapsed": false
   },
   "outputs": [],
   "source": [
    "s0 = np.zeros(len(stats))\n",
    "s1 = np.zeros(len(stats))\n",
    "\n",
    "for i, (xbar, S) in enumerate(stats):\n",
    "    sigmas = std_rho(S)\n",
    "    s0[i] = sigmas[0]\n",
    "    s1[i] = sigmas[1]\n",
    "\n",
    "thinkplot.Scatter(s0, s1)"
   ]
  },
  {
   "cell_type": "code",
   "execution_count": null,
   "metadata": {
    "collapsed": false
   },
   "outputs": [],
   "source": [
    "s0 = np.zeros(len(stats))\n",
    "s1 = np.zeros(len(stats))\n",
    "\n",
    "for i, (xbar, S) in enumerate(stats):\n",
    "    s0[i] = (n-1) * S[0][0]\n",
    "    s1[i] = (n-1) * S[1][1]\n",
    "\n",
    "thinkplot.Scatter(s0, s1)"
   ]
  },
  {
   "cell_type": "code",
   "execution_count": null,
   "metadata": {
    "collapsed": false
   },
   "outputs": [],
   "source": [
    "pdf_S = scipy.stats.wishart(df=n-1, scale=cov)\n",
    "stats = pdf_S.rvs(1000)\n",
    "\n",
    "s0 = np.zeros(len(stats))\n",
    "s1 = np.zeros(len(stats))\n",
    "\n",
    "for i, S in enumerate(stats):\n",
    "    s0[i] = S[0][0]\n",
    "    s1[i] = S[1][1]\n",
    "\n",
    "thinkplot.Scatter(s0, s1)"
   ]
  },
  {
   "cell_type": "code",
   "execution_count": null,
   "metadata": {
    "collapsed": false
   },
   "outputs": [],
   "source": [
    "sigmas = std_rho(cov)\n",
    "width = 6 * sigmas[0] / np.sqrt(2 * (n-1))\n",
    "X = np.linspace(sigmas[0]-width/2, sigmas[0]+width/2, 101)\n",
    "\n",
    "width = 6 * sigmas[1] / np.sqrt(2 * (n-1))\n",
    "Y = np.linspace(sigmas[1]-width/2, sigmas[1]+width/2, 101)\n",
    "Z = np.zeros((len(X), len(Y)))\n",
    "\n",
    "pdf_S = scipy.stats.wishart(df=n-1, scale=cov)\n",
    "\n",
    "for i, x in enumerate(X):\n",
    "    for j, y in enumerate(Y):\n",
    "        S = cov.copy()\n",
    "        S[0, 0] = x**2\n",
    "        S[1, 1] = y**2\n",
    "        try:\n",
    "            density = pdf_S.pdf((n-1) * S)\n",
    "            Z[i, j] = density\n",
    "        except:\n",
    "            Z[i, j] = np.nan"
   ]
  },
  {
   "cell_type": "code",
   "execution_count": null,
   "metadata": {
    "collapsed": false
   },
   "outputs": [],
   "source": [
    "thinkplot.Scatter(s0, s1)\n",
    "plt.contour(X, Y, Z)"
   ]
  },
  {
   "cell_type": "code",
   "execution_count": null,
   "metadata": {
    "collapsed": true
   },
   "outputs": [],
   "source": [
    "pmf_0 = thinkbayes2.Pmf()\n",
    "\n",
    "for i, (xbar, S) in enumerate(stats):\n",
    "    sig1, sig2, rho = std_rho(S)\n",
    "    density = pdf_S.pdf((n-1) * S)\n",
    "    pmf_0[sig1] += 1"
   ]
  },
  {
   "cell_type": "code",
   "execution_count": null,
   "metadata": {
    "collapsed": false
   },
   "outputs": [],
   "source": [
    "thinkplot.Cdf(pmf_0.MakeCdf())\n"
   ]
  },
  {
   "cell_type": "code",
   "execution_count": null,
   "metadata": {
    "collapsed": true
   },
   "outputs": [],
   "source": [
    "pdf_S = scipy.stats.wishart(df=n-1, scale=cov)"
   ]
  },
  {
   "cell_type": "code",
   "execution_count": null,
   "metadata": {
    "collapsed": false
   },
   "outputs": [],
   "source": [
    "pdf_S.pdf(cov)"
   ]
  },
  {
   "cell_type": "code",
   "execution_count": null,
   "metadata": {
    "collapsed": true
   },
   "outputs": [],
   "source": []
  }
 ],
 "metadata": {
  "kernelspec": {
   "display_name": "Python 2",
   "language": "python",
   "name": "python2"
  },
  "language_info": {
   "codemirror_mode": {
    "name": "ipython",
    "version": 2
   },
   "file_extension": ".py",
   "mimetype": "text/x-python",
   "name": "python",
   "nbconvert_exporter": "python",
   "pygments_lexer": "ipython2",
   "version": "2.7.11"
  }
 },
 "nbformat": 4,
 "nbformat_minor": 0
}
