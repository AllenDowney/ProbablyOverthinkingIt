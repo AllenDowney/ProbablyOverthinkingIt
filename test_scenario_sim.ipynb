{
 "cells": [
  {
   "cell_type": "markdown",
   "metadata": {},
   "source": [
    "Bayesian interpretation of medical tests\n",
    "-----------------------------------------\n",
    "\n",
    "This notebooks explores several problems related to interpreting the results of medical tests.\n",
    "\n",
    "Copyright 2016 Allen Downey\n",
    "\n",
    "MIT License: http://opensource.org/licenses/MIT"
   ]
  },
  {
   "cell_type": "code",
   "execution_count": 1,
   "metadata": {
    "collapsed": false
   },
   "outputs": [],
   "source": [
    "from __future__ import print_function, division\n",
    "\n",
    "from thinkbayes2 import Pmf"
   ]
  },
  {
   "cell_type": "code",
   "execution_count": 2,
   "metadata": {
    "collapsed": true
   },
   "outputs": [],
   "source": [
    "from random import random\n",
    "\n",
    "def flip(p):\n",
    "    return random() < p"
   ]
  },
  {
   "cell_type": "code",
   "execution_count": 3,
   "metadata": {
    "collapsed": true
   },
   "outputs": [],
   "source": [
    "def run_single_simulation(func, iters=1000000):\n",
    "    pmf_t = Pmf([0.2, 0.4])\n",
    "    p = 0.1\n",
    "    s = 0.9\n",
    "\n",
    "    outcomes = Pmf()\n",
    "    for i in range(iters):\n",
    "        test, sick = func(p, s, pmf_t)\n",
    "        if test:\n",
    "            outcomes[sick] += 1\n",
    "\n",
    "    outcomes.Normalize()\n",
    "    return outcomes"
   ]
  },
  {
   "cell_type": "markdown",
   "metadata": {},
   "source": [
    "Scenario A:  Choose `t` for each patient, yield all patients regardless of test."
   ]
  },
  {
   "cell_type": "code",
   "execution_count": 4,
   "metadata": {
    "collapsed": false
   },
   "outputs": [
    {
     "name": "stdout",
     "output_type": "stream",
     "text": [
      "False 0.747960440878\n",
      "True 0.252039559122\n"
     ]
    }
   ],
   "source": [
    "def generate_patient_A(p, s, pmf_t):\n",
    "    while True:\n",
    "        t = pmf_t.Random()\n",
    "        sick = flip(p)\n",
    "        test = flip(s) if sick else flip(t)\n",
    "        return test, sick\n",
    "                \n",
    "outcomes = run_single_simulation(generate_patient_A)\n",
    "outcomes.Print()"
   ]
  },
  {
   "cell_type": "markdown",
   "metadata": {},
   "source": [
    "Scenario B:  Choose `t` before generating patients, yield all patients regardless of test."
   ]
  },
  {
   "cell_type": "code",
   "execution_count": 5,
   "metadata": {
    "collapsed": false
   },
   "outputs": [
    {
     "name": "stdout",
     "output_type": "stream",
     "text": [
      "False 0.750424193616\n",
      "True 0.249575806384\n"
     ]
    }
   ],
   "source": [
    "def generate_patient_B(p, s, pmf_t):\n",
    "    t = pmf_t.Random()\n",
    "    while True:\n",
    "        sick = flip(p)\n",
    "        test = flip(s) if sick else flip(t)\n",
    "        return test, sick\n",
    "                \n",
    "outcomes = run_single_simulation(generate_patient_B)\n",
    "outcomes.Print()"
   ]
  },
  {
   "cell_type": "markdown",
   "metadata": {},
   "source": [
    "Scenario C:  Choose `t` for each patient, only yield patients who test positive."
   ]
  },
  {
   "cell_type": "code",
   "execution_count": 6,
   "metadata": {
    "collapsed": false
   },
   "outputs": [
    {
     "name": "stdout",
     "output_type": "stream",
     "text": [
      "False 0.75002\n",
      "True 0.24998\n"
     ]
    }
   ],
   "source": [
    "def generate_patient_C(p, s, pmf_t):\n",
    "    while True:\n",
    "        t = pmf_t.Random()\n",
    "        sick = flip(p)\n",
    "        test = flip(s) if sick else flip(t)\n",
    "        if test:\n",
    "            return test, sick\n",
    "                \n",
    "outcomes = run_single_simulation(generate_patient_C)\n",
    "outcomes.Print()"
   ]
  },
  {
   "cell_type": "markdown",
   "metadata": {},
   "source": [
    "Scenario D:  Choose `t` before generating patients, only yield patients who test positive."
   ]
  },
  {
   "cell_type": "code",
   "execution_count": 7,
   "metadata": {
    "collapsed": false
   },
   "outputs": [
    {
     "name": "stdout",
     "output_type": "stream",
     "text": [
      "False 0.733227\n",
      "True 0.266773\n"
     ]
    }
   ],
   "source": [
    "def generate_patient_D(p, s, pmf_t):\n",
    "    t = pmf_t.Random()\n",
    "    while True:\n",
    "        sick = flip(p)\n",
    "        test = flip(s) if sick else flip(t)\n",
    "        if test:\n",
    "            return test, sick\n",
    "                \n",
    "outcomes = run_single_simulation(generate_patient_D)\n",
    "outcomes.Print()"
   ]
  },
  {
   "cell_type": "markdown",
   "metadata": {},
   "source": [
    "Here's a version of the Scenario D simulation optimized for readability."
   ]
  },
  {
   "cell_type": "code",
   "execution_count": 8,
   "metadata": {
    "collapsed": false
   },
   "outputs": [],
   "source": [
    "from random import choice\n",
    "\n",
    "p = 0.1\n",
    "s = 0.9\n",
    "num_sick = 0\n",
    "\n",
    "for i in range(10000000):\n",
    "    # decide what the value of t is\n",
    "    t = choice([0.2, 0.4])\n",
    "        \n",
    "    # generate patients until we get a positive test\n",
    "    while True:\n",
    "        sick = flip(p)\n",
    "        test = flip(s) if sick else flip(t)\n",
    "        if test:\n",
    "            # count the number of positive tests that are sick\n",
    "            if sick:\n",
    "                num_sick += 1\n",
    "\n",
    "            # break out of the inner loop and re-choose t\n",
    "            break"
   ]
  },
  {
   "cell_type": "code",
   "execution_count": 9,
   "metadata": {
    "collapsed": false
   },
   "outputs": [
    {
     "data": {
      "text/plain": [
       "2665791"
      ]
     },
     "execution_count": 9,
     "metadata": {},
     "output_type": "execute_result"
    }
   ],
   "source": [
    "num_sick"
   ]
  },
  {
   "cell_type": "code",
   "execution_count": null,
   "metadata": {
    "collapsed": true
   },
   "outputs": [],
   "source": []
  }
 ],
 "metadata": {
  "kernelspec": {
   "display_name": "Python 2",
   "language": "python",
   "name": "python2"
  },
  "language_info": {
   "codemirror_mode": {
    "name": "ipython",
    "version": 2
   },
   "file_extension": ".py",
   "mimetype": "text/x-python",
   "name": "python",
   "nbconvert_exporter": "python",
   "pygments_lexer": "ipython2",
   "version": "2.7.11"
  }
 },
 "nbformat": 4,
 "nbformat_minor": 0
}
