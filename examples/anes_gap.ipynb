{
 "cells": [
  {
   "cell_type": "markdown",
   "id": "e07d2d6f",
   "metadata": {},
   "source": [
    "# ANES\n"
   ]
  },
  {
   "cell_type": "markdown",
   "id": "cb9c5ba2",
   "metadata": {},
   "source": [
    "[Click here to run this notebook on Colab](https://colab.research.google.com/github/AllenDowney/ProbablyOverthinkingIt/blob/book/examples/anes_gap.ipynb)"
   ]
  },
  {
   "cell_type": "code",
   "execution_count": 1,
   "id": "581d0503",
   "metadata": {},
   "outputs": [],
   "source": [
    "import pandas as pd\n",
    "import numpy as np\n",
    "import seaborn as sns\n",
    "import matplotlib.pyplot as plt"
   ]
  },
  {
   "cell_type": "code",
   "execution_count": 2,
   "id": "4325a9c1",
   "metadata": {},
   "outputs": [],
   "source": [
    "from statsmodels.nonparametric.smoothers_lowess import lowess\n",
    "\n",
    "\n",
    "def make_lowess(series, frac=0.5):\n",
    "    \"\"\"Use LOWESS to compute a smooth line.\n",
    "\n",
    "    series: pd.Series\n",
    "\n",
    "    returns: pd.Series\n",
    "    \"\"\"\n",
    "    y = series.values\n",
    "    x = series.index.values\n",
    "\n",
    "    smooth = lowess(y, x, frac=frac)\n",
    "    index, data = np.transpose(smooth)\n",
    "\n",
    "    return pd.Series(data, index=index)"
   ]
  },
  {
   "cell_type": "code",
   "execution_count": 3,
   "id": "bc25cfab",
   "metadata": {
    "tags": [
     "hide-cell"
    ]
   },
   "outputs": [],
   "source": [
    "def plot_series_lowess(series, color, plot_series=True, frac=0.5, **options):\n",
    "    \"\"\"Plots a series of data points and a smooth line.\n",
    "\n",
    "    series: pd.Series\n",
    "    color: string or tuple\n",
    "    \"\"\"\n",
    "    if \"label\" not in options:\n",
    "        options[\"label\"] = series.name\n",
    "\n",
    "    if plot_series or len(series) == 1:\n",
    "        x = series.index\n",
    "        y = series.values\n",
    "        plt.plot(x, y, \"o\", color=color, alpha=0.3, label=\"_\")\n",
    "\n",
    "    if not plot_series and len(series) == 1:\n",
    "        x = series.index\n",
    "        y = series.values\n",
    "        plt.plot(x, y, \"o\", color=color, alpha=0.6, label=options[\"label\"])\n",
    "\n",
    "    if len(series) > 1:\n",
    "        smooth = make_lowess(series, frac=frac)\n",
    "        smooth.plot(color=color, **options)"
   ]
  },
  {
   "cell_type": "code",
   "execution_count": 4,
   "id": "229694c8",
   "metadata": {
    "tags": [
     "hide-cell"
    ]
   },
   "outputs": [],
   "source": [
    "def decorate(**options):\n",
    "    \"\"\"Decorate the current axes.\n",
    "\n",
    "    Call decorate with keyword arguments like\n",
    "    decorate(title='Title',\n",
    "             xlabel='x',\n",
    "             ylabel='y')\n",
    "\n",
    "    The keyword arguments can be any of the axis properties\n",
    "    https://matplotlib.org/api/axes_api.html\n",
    "    \"\"\"\n",
    "    ax = plt.gca()\n",
    "    ax.set(**options)\n",
    "\n",
    "    handles, labels = ax.get_legend_handles_labels()\n",
    "    if handles:\n",
    "        ax.legend(handles, labels)\n",
    "\n",
    "    plt.tight_layout()"
   ]
  },
  {
   "cell_type": "code",
   "execution_count": 5,
   "id": "933eb8c2",
   "metadata": {},
   "outputs": [],
   "source": [
    "def values(series):\n",
    "    return series.value_counts(dropna=False).sort_index()"
   ]
  },
  {
   "cell_type": "markdown",
   "id": "2e495adf",
   "metadata": {},
   "source": [
    "## Read the Data\n",
    "\n",
    "I'm using data I previous cleaned in [this notebook](https://github.com/AllenDowney/GssExtract/blob/main/notebooks/01_make_pacs_extract.ipynb)."
   ]
  },
  {
   "cell_type": "code",
   "execution_count": 6,
   "id": "83298ef9",
   "metadata": {},
   "outputs": [],
   "source": [
    "from os.path import basename, exists\n",
    "from pathlib import Path\n",
    "\n",
    "\n",
    "def download(url):\n",
    "    filename = basename(url)\n",
    "    if not exists(filename):\n",
    "        from urllib.request import urlretrieve\n",
    "\n",
    "        local, _ = urlretrieve(url, filename)\n",
    "        print(\"Downloaded \" + str(local))\n",
    "    return filename"
   ]
  },
  {
   "cell_type": "code",
   "execution_count": 7,
   "id": "1ab0f202",
   "metadata": {},
   "outputs": [],
   "source": [
    "# download(\"https://github.com/AllenDowney/GssExtract/raw/main/data/interim/gss_pacs_2022.hdf\")"
   ]
  },
  {
   "cell_type": "code",
   "execution_count": 8,
   "id": "97f75c8c",
   "metadata": {},
   "outputs": [
    {
     "data": {
      "text/plain": [
       "(68224, 1030)"
      ]
     },
     "execution_count": 8,
     "metadata": {},
     "output_type": "execute_result"
    }
   ],
   "source": [
    "df = pd.read_stata('anes_timeseries_cdf_stata_20220916.dta', convert_categoricals=False)\n",
    "df.shape"
   ]
  },
  {
   "cell_type": "code",
   "execution_count": 9,
   "id": "4e3b3e3d",
   "metadata": {},
   "outputs": [],
   "source": [
    "column_dict = {'VCF0004': 'year',\n",
    "               'VCF0803': 'polviews',\n",
    "               'VCF0301': 'partyid',\n",
    "               'VCF0302': 'partyid3',\n",
    "               'VCF0104': 'sex',\n",
    "               'VCF0101': 'age',\n",
    "               'VCF0009z': 'wtsamp'}\n",
    "\n",
    "df.rename(columns=column_dict, inplace=True)"
   ]
  },
  {
   "cell_type": "code",
   "execution_count": 10,
   "id": "dbde8049",
   "metadata": {},
   "outputs": [
    {
     "name": "stderr",
     "output_type": "stream",
     "text": [
      "/tmp/ipykernel_202514/1324274489.py:6: PerformanceWarning: DataFrame is highly fragmented.  This is usually the result of calling `frame.insert` many times, which has poor performance.  Consider joining all columns at once using pd.concat(axis=1) instead. To get a de-fragmented frame, use `newframe = frame.copy()`\n",
      "  df[\"polviews3\"] = df[\"VCF0804\"].replace(recode_polviews)\n"
     ]
    },
    {
     "data": {
      "text/plain": [
       "polviews3\n",
       "Conservative    15631\n",
       "Moderate        12532\n",
       "Liberal         10984\n",
       "9.0              9568\n",
       "0.0              4193\n",
       "Name: count, dtype: int64"
      ]
     },
     "execution_count": 10,
     "metadata": {},
     "output_type": "execute_result"
    }
   ],
   "source": [
    "recode_polviews = {\n",
    "    1: \"Liberal\",\n",
    "    2: \"Moderate\",\n",
    "    3: \"Conservative\",\n",
    "}\n",
    "df[\"polviews3\"] = df[\"VCF0804\"].replace(recode_polviews)\n",
    "df[\"polviews3\"].value_counts()"
   ]
  },
  {
   "cell_type": "code",
   "execution_count": 11,
   "id": "00fa36ba",
   "metadata": {},
   "outputs": [
    {
     "data": {
      "text/plain": [
       "count    68224.000000\n",
       "mean         1.039790\n",
       "std          0.564906\n",
       "min          0.021200\n",
       "25%          0.896200\n",
       "50%          1.000000\n",
       "75%          1.000000\n",
       "max          6.932929\n",
       "Name: wtsamp, dtype: float64"
      ]
     },
     "execution_count": 11,
     "metadata": {},
     "output_type": "execute_result"
    }
   ],
   "source": [
    "df['wtsamp'].describe()"
   ]
  },
  {
   "cell_type": "code",
   "execution_count": 12,
   "id": "678f6644",
   "metadata": {},
   "outputs": [
    {
     "data": {
      "text/plain": [
       "year\n",
       "1948.0     662\n",
       "1952.0    1899\n",
       "1954.0    1139\n",
       "1956.0    1762\n",
       "1958.0    1450\n",
       "1960.0    1181\n",
       "1962.0    1297\n",
       "1964.0    1571\n",
       "1966.0    1291\n",
       "1968.0    1557\n",
       "1970.0    1507\n",
       "1972.0    2705\n",
       "1974.0    1575\n",
       "1976.0    2248\n",
       "1978.0    2304\n",
       "1980.0    1614\n",
       "1982.0    1418\n",
       "1984.0    2257\n",
       "1986.0    2176\n",
       "1988.0    2040\n",
       "1990.0    1980\n",
       "1992.0    2485\n",
       "1994.0    1795\n",
       "1996.0    1714\n",
       "1998.0    1281\n",
       "2000.0    1807\n",
       "2002.0    1511\n",
       "2004.0    1212\n",
       "2008.0    2322\n",
       "2012.0    5914\n",
       "2016.0    4270\n",
       "2020.0    8280\n",
       "Name: count, dtype: int64"
      ]
     },
     "execution_count": 12,
     "metadata": {},
     "output_type": "execute_result"
    }
   ],
   "source": [
    "values(df['year'])"
   ]
  },
  {
   "cell_type": "markdown",
   "id": "d1e7b07b",
   "metadata": {},
   "source": [
    "The primary variable we'll use is [polviews](https://subsetdataexplorer.norc.org/variables/178/vshow), which asks\n",
    "\n",
    "> We hear a lot of talk these days about liberals and conservatives. I'm going to show you a seven-point scale on which the political views that people might hold are arranged from extremely liberal--point 1--to extremely conservative--point 7. Where would you place yourself on this scale?\n",
    "\n",
    "The points on the scale are Extremely liberal, Liberal, and Slightly liberal; Moderate;\tSlightly conservative, Conservative, and Extremely conservative."
   ]
  },
  {
   "cell_type": "code",
   "execution_count": 13,
   "id": "a2c86ab2",
   "metadata": {},
   "outputs": [
    {
     "data": {
      "text/plain": [
       "sex\n",
       "0.0      211\n",
       "1.0    30612\n",
       "2.0    37390\n",
       "3.0       11\n",
       "Name: count, dtype: int64"
      ]
     },
     "execution_count": 13,
     "metadata": {},
     "output_type": "execute_result"
    }
   ],
   "source": [
    "values(df['sex'])"
   ]
  },
  {
   "cell_type": "code",
   "execution_count": 14,
   "id": "2fde6d0f",
   "metadata": {},
   "outputs": [
    {
     "data": {
      "text/plain": [
       "age\n",
       "0.0      887\n",
       "17.0      21\n",
       "18.0     498\n",
       "19.0     605\n",
       "20.0     690\n",
       "        ... \n",
       "96.0       3\n",
       "97.0       2\n",
       "98.0       2\n",
       "99.0       4\n",
       "NaN     1801\n",
       "Name: count, Length: 85, dtype: int64"
      ]
     },
     "execution_count": 14,
     "metadata": {},
     "output_type": "execute_result"
    }
   ],
   "source": [
    "values(df['age'])"
   ]
  },
  {
   "cell_type": "code",
   "execution_count": 15,
   "id": "e2ea4ce0",
   "metadata": {},
   "outputs": [],
   "source": [
    "df['age'].replace(0, np.nan, inplace=True)"
   ]
  },
  {
   "cell_type": "code",
   "execution_count": 16,
   "id": "8c98a90a",
   "metadata": {},
   "outputs": [
    {
     "data": {
      "text/plain": [
       "polviews\n",
       "0.0     2400\n",
       "1.0     1229\n",
       "2.0     4821\n",
       "3.0     4934\n",
       "4.0    12532\n",
       "5.0     6567\n",
       "6.0     7523\n",
       "7.0     1541\n",
       "9.0    11361\n",
       "NaN    15316\n",
       "Name: count, dtype: int64"
      ]
     },
     "execution_count": 16,
     "metadata": {},
     "output_type": "execute_result"
    }
   ],
   "source": [
    "values(df['polviews'])"
   ]
  },
  {
   "cell_type": "code",
   "execution_count": 17,
   "id": "1f8c6e1a",
   "metadata": {},
   "outputs": [
    {
     "data": {
      "text/plain": [
       "VCF0804\n",
       "0.0     4193\n",
       "1.0    10984\n",
       "2.0    12532\n",
       "3.0    15631\n",
       "9.0     9568\n",
       "NaN    15316\n",
       "Name: count, dtype: int64"
      ]
     },
     "execution_count": 17,
     "metadata": {},
     "output_type": "execute_result"
    }
   ],
   "source": [
    "values(df['VCF0804'])"
   ]
  },
  {
   "cell_type": "code",
   "execution_count": 18,
   "id": "802acc5a",
   "metadata": {},
   "outputs": [
    {
     "data": {
      "text/plain": [
       "partyid3\n",
       "1.0    14125\n",
       "2.0    15856\n",
       "3.0     2937\n",
       "4.0      733\n",
       "5.0    20437\n",
       "8.0      133\n",
       "9.0      244\n",
       "NaN    13759\n",
       "Name: count, dtype: int64"
      ]
     },
     "execution_count": 18,
     "metadata": {},
     "output_type": "execute_result"
    }
   ],
   "source": [
    "values(df['partyid3'])"
   ]
  },
  {
   "cell_type": "code",
   "execution_count": 19,
   "id": "27ce6eb3",
   "metadata": {},
   "outputs": [],
   "source": [
    "def make_diff(df):\n",
    "    \"\"\"Compute % liberal minus % conservative.\n",
    "    \"\"\"\n",
    "    year = df[\"year\"]\n",
    "    column = df[\"polviews3\"]\n",
    "\n",
    "    xtab = pd.crosstab(year, column, normalize='index')\n",
    "    diff = xtab['Liberal'] - xtab['Conservative']\n",
    "    \n",
    "    return diff * 100"
   ]
  },
  {
   "cell_type": "code",
   "execution_count": 20,
   "id": "28d65966",
   "metadata": {},
   "outputs": [],
   "source": [
    "def make_mean(df):\n",
    "    \"\"\"Compute % liberal minus % conservative.\n",
    "    \"\"\"\n",
    "    series = df.groupby('year')['polviews'].mean()\n",
    "    \n",
    "    return series"
   ]
  },
  {
   "cell_type": "code",
   "execution_count": 21,
   "id": "5b0ea449",
   "metadata": {},
   "outputs": [],
   "source": [
    "def decorate_plot(title):\n",
    "    decorate(xlabel='Year',\n",
    "             ylabel='% liberal - % conservative',\n",
    "             title=title)"
   ]
  },
  {
   "cell_type": "markdown",
   "id": "15445d99",
   "metadata": {},
   "source": [
    "## Make the plot with all respondents\n",
    "\n",
    "The following functions generate a figure like the one in the FT."
   ]
  },
  {
   "cell_type": "code",
   "execution_count": 22,
   "id": "df0a0b73",
   "metadata": {},
   "outputs": [],
   "source": [
    "def make_plot(df, title=''):\n",
    "    \"\"\"Plot % liberal - % conservative for male and female respondents.\n",
    "    \"\"\"\n",
    "    male = df.query('sex==1')\n",
    "    female = df.query('sex==2')\n",
    "\n",
    "    diff_male = make_diff(male)\n",
    "    diff_female = make_diff(female)\n",
    "\n",
    "    plot_series_lowess(diff_male, color='C0', label='Male')\n",
    "    plot_series_lowess(diff_female, color='C1', label='Female')\n",
    "    decorate_plot(title)"
   ]
  },
  {
   "cell_type": "markdown",
   "id": "3771cbb3",
   "metadata": {},
   "source": [
    "Generate the plot for all respondents."
   ]
  },
  {
   "cell_type": "code",
   "execution_count": 23,
   "id": "2c2931f9",
   "metadata": {},
   "outputs": [],
   "source": [
    "def savefig(filename, **options):\n",
    "    if 'dpi' not in options:\n",
    "        options['dpi'] = 300\n",
    "    plt.savefig(filename, **options)"
   ]
  },
  {
   "cell_type": "code",
   "execution_count": 24,
   "id": "ed6f6f10",
   "metadata": {},
   "outputs": [
    {
     "data": {
      "image/png": "[encoded data removed]",
      "text/plain": [
       "<Figure size 640x480 with 1 Axes>"
      ]
     },
     "metadata": {},
     "output_type": "display_data"
    }
   ],
   "source": [
    "make_plot(df, 'All respondents')\n",
    "savefig('anes_gap1.png')"
   ]
  },
  {
   "cell_type": "markdown",
   "id": "6841f640",
   "metadata": {},
   "source": [
    "In the general population, men are more likely to say they are conservative by 5-10 percentage points. \n",
    "\n",
    "The gap might have increased in the most recent data, depending on how seriously we take the last two points in a noisy series."
   ]
  },
  {
   "cell_type": "markdown",
   "id": "b8574c4b",
   "metadata": {},
   "source": [
    "## Just young people\n",
    "\n",
    "Now let's select just people under 30."
   ]
  },
  {
   "cell_type": "code",
   "execution_count": 25,
   "id": "882ca55e",
   "metadata": {},
   "outputs": [
    {
     "data": {
      "text/plain": [
       "(12297, 1031)"
      ]
     },
     "execution_count": 25,
     "metadata": {},
     "output_type": "execute_result"
    }
   ],
   "source": [
    "subset = df.query('age < 30')\n",
    "subset.shape"
   ]
  },
  {
   "cell_type": "markdown",
   "id": "8c7a50bf",
   "metadata": {},
   "source": [
    "And make the same figure."
   ]
  },
  {
   "cell_type": "code",
   "execution_count": 26,
   "id": "ab9c650f",
   "metadata": {},
   "outputs": [
    {
     "data": {
      "image/png": "[encoded data removed]",
      "text/plain": [
       "<Figure size 640x480 with 1 Axes>"
      ]
     },
     "metadata": {},
     "output_type": "display_data"
    }
   ],
   "source": [
    "make_plot(subset, 'Age < 30')\n",
    "savefig('anes_gap2.png')"
   ]
  },
  {
   "cell_type": "markdown",
   "id": "9d94ffb9",
   "metadata": {},
   "source": [
    "The trends here are pretty much the same as in the general population.\n",
    "Men are more likely to say they are conservative, by 5-10 percentage points.\n",
    "\n",
    "It's possible that the gap has grown in the most recent data, but the evidence is weak and depends on how we draw a smooth curve through noisy data.\n",
    "\n",
    "Anyway, there is no evidence the trend for men is going down, and the gap in the most recent data is nowhere near 30 percentage points."
   ]
  },
  {
   "cell_type": "markdown",
   "id": "72073117",
   "metadata": {},
   "source": [
    "Here are the sample sizes."
   ]
  },
  {
   "cell_type": "code",
   "execution_count": 27,
   "id": "910d43eb",
   "metadata": {},
   "outputs": [
    {
     "data": {
      "text/html": [
       "<div>\n",
       "<style scoped>\n",
       "    .dataframe tbody tr th:only-of-type {\n",
       "        vertical-align: middle;\n",
       "    }\n",
       "\n",
       "    .dataframe tbody tr th {\n",
       "        vertical-align: top;\n",
       "    }\n",
       "\n",
       "    .dataframe thead th {\n",
       "        text-align: right;\n",
       "    }\n",
       "</style>\n",
       "<table border=\"1\" class=\"dataframe\">\n",
       "  <thead>\n",
       "    <tr style=\"text-align: right;\">\n",
       "      <th>year</th>\n",
       "      <th>1952.0</th>\n",
       "      <th>1956.0</th>\n",
       "      <th>1958.0</th>\n",
       "      <th>1960.0</th>\n",
       "      <th>1962.0</th>\n",
       "      <th>1964.0</th>\n",
       "      <th>1966.0</th>\n",
       "      <th>1968.0</th>\n",
       "      <th>1970.0</th>\n",
       "      <th>1972.0</th>\n",
       "      <th>...</th>\n",
       "      <th>1994.0</th>\n",
       "      <th>1996.0</th>\n",
       "      <th>1998.0</th>\n",
       "      <th>2000.0</th>\n",
       "      <th>2002.0</th>\n",
       "      <th>2004.0</th>\n",
       "      <th>2008.0</th>\n",
       "      <th>2012.0</th>\n",
       "      <th>2016.0</th>\n",
       "      <th>2020.0</th>\n",
       "    </tr>\n",
       "    <tr>\n",
       "      <th>sex</th>\n",
       "      <th></th>\n",
       "      <th></th>\n",
       "      <th></th>\n",
       "      <th></th>\n",
       "      <th></th>\n",
       "      <th></th>\n",
       "      <th></th>\n",
       "      <th></th>\n",
       "      <th></th>\n",
       "      <th></th>\n",
       "      <th></th>\n",
       "      <th></th>\n",
       "      <th></th>\n",
       "      <th></th>\n",
       "      <th></th>\n",
       "      <th></th>\n",
       "      <th></th>\n",
       "      <th></th>\n",
       "      <th></th>\n",
       "      <th></th>\n",
       "      <th></th>\n",
       "    </tr>\n",
       "  </thead>\n",
       "  <tbody>\n",
       "    <tr>\n",
       "      <th>0.0</th>\n",
       "      <td>0</td>\n",
       "      <td>0</td>\n",
       "      <td>0</td>\n",
       "      <td>0</td>\n",
       "      <td>0</td>\n",
       "      <td>0</td>\n",
       "      <td>0</td>\n",
       "      <td>0</td>\n",
       "      <td>0</td>\n",
       "      <td>0</td>\n",
       "      <td>...</td>\n",
       "      <td>0</td>\n",
       "      <td>0</td>\n",
       "      <td>0</td>\n",
       "      <td>0</td>\n",
       "      <td>0</td>\n",
       "      <td>0</td>\n",
       "      <td>0</td>\n",
       "      <td>0</td>\n",
       "      <td>0</td>\n",
       "      <td>4</td>\n",
       "    </tr>\n",
       "    <tr>\n",
       "      <th>1.0</th>\n",
       "      <td>143</td>\n",
       "      <td>119</td>\n",
       "      <td>72</td>\n",
       "      <td>39</td>\n",
       "      <td>91</td>\n",
       "      <td>128</td>\n",
       "      <td>105</td>\n",
       "      <td>123</td>\n",
       "      <td>120</td>\n",
       "      <td>339</td>\n",
       "      <td>...</td>\n",
       "      <td>160</td>\n",
       "      <td>110</td>\n",
       "      <td>124</td>\n",
       "      <td>114</td>\n",
       "      <td>63</td>\n",
       "      <td>117</td>\n",
       "      <td>177</td>\n",
       "      <td>443</td>\n",
       "      <td>324</td>\n",
       "      <td>459</td>\n",
       "    </tr>\n",
       "    <tr>\n",
       "      <th>2.0</th>\n",
       "      <td>177</td>\n",
       "      <td>186</td>\n",
       "      <td>116</td>\n",
       "      <td>67</td>\n",
       "      <td>110</td>\n",
       "      <td>162</td>\n",
       "      <td>131</td>\n",
       "      <td>163</td>\n",
       "      <td>194</td>\n",
       "      <td>405</td>\n",
       "      <td>...</td>\n",
       "      <td>162</td>\n",
       "      <td>145</td>\n",
       "      <td>118</td>\n",
       "      <td>165</td>\n",
       "      <td>84</td>\n",
       "      <td>122</td>\n",
       "      <td>233</td>\n",
       "      <td>493</td>\n",
       "      <td>323</td>\n",
       "      <td>540</td>\n",
       "    </tr>\n",
       "    <tr>\n",
       "      <th>3.0</th>\n",
       "      <td>0</td>\n",
       "      <td>0</td>\n",
       "      <td>0</td>\n",
       "      <td>0</td>\n",
       "      <td>0</td>\n",
       "      <td>0</td>\n",
       "      <td>0</td>\n",
       "      <td>0</td>\n",
       "      <td>0</td>\n",
       "      <td>0</td>\n",
       "      <td>...</td>\n",
       "      <td>0</td>\n",
       "      <td>0</td>\n",
       "      <td>0</td>\n",
       "      <td>0</td>\n",
       "      <td>0</td>\n",
       "      <td>0</td>\n",
       "      <td>0</td>\n",
       "      <td>0</td>\n",
       "      <td>4</td>\n",
       "      <td>0</td>\n",
       "    </tr>\n",
       "  </tbody>\n",
       "</table>\n",
       "<p>4 rows × 30 columns</p>\n",
       "</div>"
      ],
      "text/plain": [
       "year  1952.0  1956.0  1958.0  1960.0  1962.0  1964.0  1966.0  1968.0  1970.0  \\\n",
       "sex                                                                            \n",
       "0.0        0       0       0       0       0       0       0       0       0   \n",
       "1.0      143     119      72      39      91     128     105     123     120   \n",
       "2.0      177     186     116      67     110     162     131     163     194   \n",
       "3.0        0       0       0       0       0       0       0       0       0   \n",
       "\n",
       "year  1972.0  ...  1994.0  1996.0  1998.0  2000.0  2002.0  2004.0  2008.0  \\\n",
       "sex           ...                                                           \n",
       "0.0        0  ...       0       0       0       0       0       0       0   \n",
       "1.0      339  ...     160     110     124     114      63     117     177   \n",
       "2.0      405  ...     162     145     118     165      84     122     233   \n",
       "3.0        0  ...       0       0       0       0       0       0       0   \n",
       "\n",
       "year  2012.0  2016.0  2020.0  \n",
       "sex                           \n",
       "0.0        0       0       4  \n",
       "1.0      443     324     459  \n",
       "2.0      493     323     540  \n",
       "3.0        0       4       0  \n",
       "\n",
       "[4 rows x 30 columns]"
      ]
     },
     "execution_count": 27,
     "metadata": {},
     "output_type": "execute_result"
    }
   ],
   "source": [
    "year = subset[\"year\"]\n",
    "column = subset[\"sex\"]\n",
    "xtab = pd.crosstab(column, year)\n",
    "xtab"
   ]
  },
  {
   "cell_type": "markdown",
   "id": "284d1d39",
   "metadata": {},
   "source": [
    "## With Sampling Weights\n",
    "\n",
    "In the previous figures, I have not taken into account the sampling weights.\n",
    "I didn't expect them to make much difference, and they don't except for men in 2022 -- and as we'll see, there is almost certainly something wrong with that data point."
   ]
  },
  {
   "cell_type": "code",
   "execution_count": 28,
   "id": "94e6d9e6",
   "metadata": {},
   "outputs": [],
   "source": [
    "male = subset.query('sex==1')\n",
    "female = subset.query('sex==2')\n",
    "\n",
    "diff_male = make_diff(male)\n",
    "diff_female = make_diff(female)"
   ]
  },
  {
   "cell_type": "markdown",
   "id": "20486faf",
   "metadata": {},
   "source": [
    "We only have weighted data since 1988, since that's how far back the `wtsamp` variable goes.\n",
    "\n"
   ]
  },
  {
   "cell_type": "code",
   "execution_count": 93,
   "id": "e9dcc6db",
   "metadata": {},
   "outputs": [],
   "source": [
    "recent = df.dropna(subset=['wtsamp']).query('age < 30').copy()"
   ]
  },
  {
   "cell_type": "code",
   "execution_count": 94,
   "id": "c40ce4b2",
   "metadata": {},
   "outputs": [],
   "source": [
    "def resample_rows_weighted(df, column):\n",
    "    \"\"\"Resamples a DataFrame using probabilities proportional to given column.\n",
    "\n",
    "    df: DataFrame\n",
    "    column: string column name to use as weights\n",
    "\n",
    "    returns: DataFrame\n",
    "    \"\"\"\n",
    "    weights = df[column]\n",
    "    sample = df.sample(n=len(df), replace=True, weights=weights)\n",
    "    return sample"
   ]
  },
  {
   "cell_type": "code",
   "execution_count": 95,
   "id": "0289825b",
   "metadata": {},
   "outputs": [],
   "source": [
    "def resample_by_year(df, column):\n",
    "    \"\"\"Resample rows within each year.\n",
    "\n",
    "    df: DataFrame\n",
    "    column: string name of weight variable\n",
    "\n",
    "    returns DataFrame\n",
    "    \"\"\"\n",
    "    grouped = df.groupby(\"year\")\n",
    "    samples = [resample_rows_weighted(group, column) for _, group in grouped]\n",
    "    sample = pd.concat(samples, ignore_index=True)\n",
    "    return sample"
   ]
  },
  {
   "cell_type": "code",
   "execution_count": 96,
   "id": "fdc69127",
   "metadata": {},
   "outputs": [],
   "source": [
    "def percentile_rows(series_seq, ps):\n",
    "    \"\"\"Computes percentiles from aligned series.\n",
    "\n",
    "    series_seq: list of sequences\n",
    "    ps: cumulative probabilities\n",
    "\n",
    "    returns: Series of x-values, NumPy array with selected rows\n",
    "    \"\"\"\n",
    "    df = pd.concat(series_seq, axis=1).dropna()\n",
    "    xs = df.index\n",
    "    array = df.values.transpose()\n",
    "    array = np.sort(array, axis=0)\n",
    "    nrows, _ = array.shape\n",
    "\n",
    "    ps = np.asarray(ps)\n",
    "    indices = (ps * nrows).astype(int)\n",
    "    rows = array[indices]\n",
    "    return xs, rows"
   ]
  },
  {
   "cell_type": "code",
   "execution_count": 97,
   "id": "b16d9c63",
   "metadata": {},
   "outputs": [],
   "source": [
    "def plot_percentiles(series_seq, ps=None, label=None, **options):\n",
    "    \"\"\"Plot the low, median, and high percentiles.\n",
    "\n",
    "    series_seq: sequence of Series\n",
    "    ps: percentiles to use for low, medium and high\n",
    "    label: string label for the median line\n",
    "    options: options passed plt.plot and plt.fill_between\n",
    "    \"\"\"\n",
    "    if ps is None:\n",
    "        ps = [0.05, 0.5, 0.95]\n",
    "    assert len(ps) == 3\n",
    "\n",
    "    xs, rows = percentile_rows(series_seq, ps)\n",
    "    low, med, high = rows\n",
    "    plt.plot(xs, med, alpha=0.5, label=label, **options)\n",
    "    plt.fill_between(xs, low, high, linewidth=0, alpha=0.2, **options)"
   ]
  },
  {
   "cell_type": "markdown",
   "id": "1f9ebe87",
   "metadata": {},
   "source": [
    "## Resampling and smoothing"
   ]
  },
  {
   "cell_type": "code",
   "execution_count": 98,
   "id": "2b6a20f5",
   "metadata": {},
   "outputs": [],
   "source": [
    "def resample_diffs_smooth(df, query, iters=101):\n",
    "    diffs = []\n",
    "    for i in range(iters):\n",
    "        sample = resample_by_year(df, \"wtsamp\").query(query)\n",
    "        diff = make_diff(sample)\n",
    "        smooth = make_lowess(diff)\n",
    "        diffs.append(smooth)\n",
    "    return diffs"
   ]
  },
  {
   "cell_type": "code",
   "execution_count": 99,
   "id": "1f7fc352",
   "metadata": {},
   "outputs": [],
   "source": [
    "diffs_male = resample_diffs_smooth(recent, 'sex==1')\n",
    "diffs_female = resample_diffs_smooth(recent, 'sex==2')"
   ]
  },
  {
   "cell_type": "markdown",
   "id": "fa4851c0",
   "metadata": {},
   "source": [
    "Here's a version of the same plot with moderate smoothing, and dropping the unweighted data."
   ]
  },
  {
   "cell_type": "code",
   "execution_count": 100,
   "id": "a31c8d0e",
   "metadata": {},
   "outputs": [
    {
     "data": {
      "image/png": "[encoded data removed]",
      "text/plain": [
       "<Figure size 640x480 with 1 Axes>"
      ]
     },
     "metadata": {},
     "output_type": "display_data"
    }
   ],
   "source": [
    "plot_percentiles(diffs_male, label='Male')\n",
    "plot_percentiles(diffs_female, label='Female')\n",
    "\n",
    "decorate_plot('Age < 30 with sampling weights, smoothed')\n",
    "savefig('anes_gap4.png')"
   ]
  },
  {
   "cell_type": "markdown",
   "id": "2e744b1c",
   "metadata": {},
   "source": [
    "You could make the argument that this figure shows evidence for an increasing gap, but the error bounds are very wide, and as we'll see in the next figure, the entire effect is due to the likely error in the 2022 data."
   ]
  },
  {
   "cell_type": "markdown",
   "id": "ccd37b30",
   "metadata": {},
   "source": [
    "## Party Affiliation"
   ]
  },
  {
   "cell_type": "code",
   "execution_count": 101,
   "id": "6a4923a2",
   "metadata": {},
   "outputs": [],
   "source": [
    "def make_diff(df):\n",
    "    \"\"\"Compute % Democrat minus % Republican.\n",
    "    \"\"\"\n",
    "    year = df[\"year\"]\n",
    "    column = df[\"partyid3\"]\n",
    "\n",
    "    xtab = pd.crosstab(year, column, normalize='index')\n",
    "    diff = xtab[5] - xtab[1]\n",
    "    \n",
    "    return diff * 100"
   ]
  },
  {
   "cell_type": "code",
   "execution_count": 102,
   "id": "a2a1965d",
   "metadata": {},
   "outputs": [],
   "source": [
    "diffs_male = resample_diffs_smooth(recent, 'sex==1')\n",
    "diffs_female = resample_diffs_smooth(recent, 'sex==2')"
   ]
  },
  {
   "cell_type": "markdown",
   "id": "18b03cba",
   "metadata": {},
   "source": [
    "Here's a version of the same plot with moderate smoothing, and dropping the unweighted data."
   ]
  },
  {
   "cell_type": "code",
   "execution_count": 103,
   "id": "f5ef6547",
   "metadata": {},
   "outputs": [
    {
     "data": {
      "image/png": "[encoded data removed]",
      "text/plain": [
       "<Figure size 640x480 with 1 Axes>"
      ]
     },
     "metadata": {},
     "output_type": "display_data"
    }
   ],
   "source": [
    "plot_percentiles(diffs_male, label='Male')\n",
    "plot_percentiles(diffs_female, label='Female')\n",
    "\n",
    "decorate_plot('Age < 30 with sampling weights, smoothed')\n",
    "plt.ylabel('% Democrat - % Republican')\n",
    "\n",
    "savefig('anes_gap4.png')"
   ]
  },
  {
   "cell_type": "code",
   "execution_count": 104,
   "id": "5c0047db",
   "metadata": {},
   "outputs": [],
   "source": [
    "def kl_divergence():\n",
    "    combined_index = pmf1.index.union(pmf2.index)\n",
    "    pmf1 = pmf1.reindex(combined_index, fill_value=0)\n",
    "    pmf2 = pmf2.reindex(combined_index, fill_value=0)\n",
    "\n",
    "    return np.sum(pmf1 * np.log(pmf1 / pmf2))"
   ]
  },
  {
   "cell_type": "code",
   "execution_count": 105,
   "id": "fa60b127",
   "metadata": {},
   "outputs": [],
   "source": [
    "recent = df.query('year >= 1972')"
   ]
  },
  {
   "cell_type": "code",
   "execution_count": 106,
   "id": "9ecf079a",
   "metadata": {},
   "outputs": [],
   "source": [
    "df_con = recent.query('polviews3 == \"Conservative\"')\n",
    "df_lib = recent.query('polviews3 == \"Liberal\"')"
   ]
  },
  {
   "cell_type": "code",
   "execution_count": 107,
   "id": "6592d6ee",
   "metadata": {},
   "outputs": [],
   "source": [
    "def compute_diff(col):\n",
    "    con = df_con[col].dropna().value_counts()\n",
    "    if len(con) == 0:\n",
    "        return np.nan\n",
    "    lib = df_lib[col].dropna().value_counts()\n",
    "    value = con.idxmax()\n",
    "    p_con = con[value] / con.sum()\n",
    "    p_lib = lib.get(value, np.nan) / lib.sum()\n",
    "    return abs(p_con - p_lib)"
   ]
  },
  {
   "cell_type": "code",
   "execution_count": 108,
   "id": "2886e1ec",
   "metadata": {},
   "outputs": [],
   "source": [
    "res = []\n",
    "for col in recent.columns:\n",
    "    diff = compute_diff(col)\n",
    "    res.append((col, diff))"
   ]
  },
  {
   "cell_type": "code",
   "execution_count": 109,
   "id": "f66ec5bb",
   "metadata": {},
   "outputs": [
    {
     "data": {
      "text/html": [
       "<div>\n",
       "<style scoped>\n",
       "    .dataframe tbody tr th:only-of-type {\n",
       "        vertical-align: middle;\n",
       "    }\n",
       "\n",
       "    .dataframe tbody tr th {\n",
       "        vertical-align: top;\n",
       "    }\n",
       "\n",
       "    .dataframe thead th {\n",
       "        text-align: right;\n",
       "    }\n",
       "</style>\n",
       "<table border=\"1\" class=\"dataframe\">\n",
       "  <thead>\n",
       "    <tr style=\"text-align: right;\">\n",
       "      <th></th>\n",
       "      <th>0</th>\n",
       "      <th>1</th>\n",
       "    </tr>\n",
       "  </thead>\n",
       "  <tbody>\n",
       "    <tr>\n",
       "      <th>233</th>\n",
       "      <td>VCF0380</td>\n",
       "      <td>0.225842</td>\n",
       "    </tr>\n",
       "    <tr>\n",
       "      <th>816</th>\n",
       "      <td>VCF9008</td>\n",
       "      <td>0.225359</td>\n",
       "    </tr>\n",
       "    <tr>\n",
       "      <th>622</th>\n",
       "      <td>VCF0877</td>\n",
       "      <td>0.224601</td>\n",
       "    </tr>\n",
       "    <tr>\n",
       "      <th>583</th>\n",
       "      <td>VCF0834</td>\n",
       "      <td>0.222707</td>\n",
       "    </tr>\n",
       "    <tr>\n",
       "      <th>256</th>\n",
       "      <td>VCF0387b</td>\n",
       "      <td>0.222621</td>\n",
       "    </tr>\n",
       "    <tr>\n",
       "      <th>...</th>\n",
       "      <td>...</td>\n",
       "      <td>...</td>\n",
       "    </tr>\n",
       "    <tr>\n",
       "      <th>289</th>\n",
       "      <td>VCF0396b</td>\n",
       "      <td>0.122479</td>\n",
       "    </tr>\n",
       "    <tr>\n",
       "      <th>765</th>\n",
       "      <td>VCF1020</td>\n",
       "      <td>0.122057</td>\n",
       "    </tr>\n",
       "    <tr>\n",
       "      <th>176</th>\n",
       "      <td>VCF0338</td>\n",
       "      <td>0.121605</td>\n",
       "    </tr>\n",
       "    <tr>\n",
       "      <th>579</th>\n",
       "      <td>VCF0829</td>\n",
       "      <td>0.120603</td>\n",
       "    </tr>\n",
       "    <tr>\n",
       "      <th>127</th>\n",
       "      <td>VCF0214</td>\n",
       "      <td>0.120292</td>\n",
       "    </tr>\n",
       "  </tbody>\n",
       "</table>\n",
       "<p>101 rows × 2 columns</p>\n",
       "</div>"
      ],
      "text/plain": [
       "            0         1\n",
       "233   VCF0380  0.225842\n",
       "816   VCF9008  0.225359\n",
       "622   VCF0877  0.224601\n",
       "583   VCF0834  0.222707\n",
       "256  VCF0387b  0.222621\n",
       "..        ...       ...\n",
       "289  VCF0396b  0.122479\n",
       "765   VCF1020  0.122057\n",
       "176   VCF0338  0.121605\n",
       "579   VCF0829  0.120603\n",
       "127   VCF0214  0.120292\n",
       "\n",
       "[101 rows x 2 columns]"
      ]
     },
     "execution_count": 109,
     "metadata": {},
     "output_type": "execute_result"
    }
   ],
   "source": [
    "candidates = pd.DataFrame(res).dropna().sort_values(by=1, ascending=False).head(200).tail(101)\n",
    "candidates"
   ]
  },
  {
   "cell_type": "code",
   "execution_count": 110,
   "id": "521858c4",
   "metadata": {},
   "outputs": [],
   "source": [
    "string_to_empty_dict = {key: '' for key in candidates[0]}"
   ]
  },
  {
   "cell_type": "code",
   "execution_count": 111,
   "id": "16ff5b18",
   "metadata": {},
   "outputs": [],
   "source": [
    "candidate_dict = {\n",
    " 'VCF0849': 'lib or con',\n",
    " 'VCF0303': 'partyid',\n",
    " 'VCF0713': 'voting intent',\n",
    " 'VCF9204': 'which party',\n",
    " 'VCF0704': 'vote',\n",
    " 'VCF0705': 'vote',\n",
    " 'VCF0704a': 'vote',\n",
    " 'VCF0706': 'vote',\n",
    " 'VCF9205': 'party',\n",
    " 'VCF9027': '',\n",
    " 'VCF0487': '',\n",
    " 'VCF9209': '',\n",
    " 'VCF0475': '',\n",
    " 'VCF9212': '',\n",
    " 'VCF0372': '',\n",
    " 'VCF0360': '',\n",
    " 'partyid3': '',\n",
    " 'VCF9210': '',\n",
    " 'VCF0734': '',\n",
    " 'VCF9131': 'LESS GOVERNMENT BETTER OR GOVERNMENT DO MORE',\n",
    " 'VCF0709': '',\n",
    " 'VCF0386': '',\n",
    " 'VCF0373': '',\n",
    " 'VCF0894': 'FEDERAL SPENDING- WELFARE PROGRAMS',\n",
    " 'VCF0481': '',\n",
    " 'VCF0361': '',\n",
    " 'VCF0700': '',\n",
    " 'VCF0374': '',\n",
    " 'VCF0493': '',\n",
    " 'VCF0707': '',\n",
    " 'VCF0736': '',\n",
    " 'VCF9133': 'GOVT TOO INVOLVED IN THINGS OR PROBLEMS REQUIRE',\n",
    " 'VCF0876a': 'LAW TO PROTECT HOMOSEXUALS AGAINST DISCRIMINATION',\n",
    " 'VCF9238': 'SHOULD THE GOVERNMENT MAKE IT MORE DIFFICULT OR EASIER TO BUY A GUN, OR SHOULD THE RULES STAY THE SAME AS THEY ARE NOW',\n",
    " 'VCF0385b': '',\n",
    " 'VCF0401': '',\n",
    " 'VCF0370': '',\n",
    " \n",
    " 'VCF0371': '',\n",
    " 'VCF0853': 'SHOULD BE MORE EMPHASIS ON TRADITIONAL VALUES',\n",
    " 'VCF0878': 'SHOULD GAYS/LESBIANS BE ABLE TO ADOPT CHILDREN',\n",
    " 'VCF9228': 'MUCH OR SOMEWHAT LARGER/SMALLER GAP IN INCOMES BETWEEN RICH AND POOR IN THE U.S. THAN 20 YEARS AGO',\n",
    " 'VCF0867a': 'AFFIRMATIVE ACTION IN HIRING/PROMOTION',\n",
    " 'VCF0405': '',\n",
    " 'VCF0359': '',\n",
    " 'VCF9085': '',\n",
    " 'VCF9132': 'GOVT HANDLE ECONOMY OR FREE MARKET CAN HANDLE',\n",
    " 'VCF0877a': 'POSITION ON GAYS IN THE MILITARY',\n",
    " 'VCF9237': 'STRENGTH FAVOR/OPPOSE THE DEATH PENALTY FOR PERSONS CONVICTED OF MURDER',\n",
    " 'VCF9236': 'FAVOR OR OPPOSE THE DEATH PENALTY FOR PERSONS CONVICTED OF MURDER',\n",
    " 'VCF9207': '',\n",
    " 'VCF9275': 'IN AMERICAN POLITICS, DO BLACKS HAVE TOO MUCH, ABOUT THE RIGHT AMOUNT OF, OR TOO LITTLE INFLUENCE',\n",
    " 'partyid': '',\n",
    " 'VCF0890': 'FEDERAL SPENDING- PUBLIC SCHOOLS',\n",
    " 'VCF9219': '',\n",
    " 'VCF0358': '',\n",
    " 'VCF1043b': '',\n",
    " 'VCF9086': '',\n",
    " 'VCF9213': '',\n",
    " 'VCF0369': '',\n",
    " 'VCF9211': '',\n",
    " 'VCF9088': '',\n",
    " 'VCF0833': 'FAVOR OR OPPOSE EQUAL RIGHTS AMENDMENT',\n",
    " 'VCF0406': '',\n",
    " 'VCF0601': 'APPROVE PARTICIPATION IN PROTESTS',\n",
    " 'VCF0851': 'NEWER LIFESTYLES CONTRIBUTE TO SOCIETY BREAKDOWN',\n",
    " 'VCF0852': 'SHOULD ADJUST VIEW OF MORAL BEHAVIOR TO CHANGES',\n",
    " 'VCF0867': 'AFFIRMATIVE ACTION IN HIRING/PROMOTION',\n",
    " 'VCF0893': 'FEDERAL SPENDING- THE HOMELESS',\n",
    " 'VCF0846': 'IS RELIGION IMPORTANT TO RESPONDENT',\n",
    " 'VCF9241': '',\n",
    " 'VCF1004': '',\n",
    " 'VCF0738': '',\n",
    " 'VCF0392': '',\n",
    " 'VCF9215': '',\n",
    " 'VCF0879a': 'INCREASE OR DECREASE NUMBER OF IMMIGRANTS TO U.S. 4-CATEGORY',\n",
    " 'VCF0889': 'FEDERAL SPENDING- AIDS RESEARCH/FIGHT AIDS',\n",
    " 'VCF9028': '',\n",
    " 'VCF0876': 'LAW TO PROTECT HOMOSEXUALS AGAINST DISCRIMINATION',\n",
    " 'VCF9216': '',\n",
    " 'VCF9249': 'WHICH IS MORE IMPORTANT FOR A CHILD TO HAVE: INDEPENDENCE OR RESPECT FOR ELDERS',\n",
    " 'VCF0828': 'SHOULD GOVERNMENT CUT MILITARY SPENDING',\n",
    " 'VCF0838': 'WHEN SHOULD ABORTION BE ALLOWED',\n",
    " 'VCF9247': 'WHICH IS MORE IMPORTANT FOR A CHILD TO HAVE: OBEDIENCE OR SELF-RELIANCE',\n",
    " 'VCF1042b': '',\n",
    " 'VCF9227': 'DOES R THINK THE DIFFERENCE IN INCOMES BETWEEN RICH AND POOR IN THE U.S. IS LARGER, SMALLER, OR ABOUT THE SAME AS 20 YEARS AGO',\n",
    " 'VCF9040': 'BLACKS SHOULD NOT HAVE SPECIAL FAVORS TO SUCCEED',\n",
    " 'VCF0424': '',\n",
    " 'VCF9246': 'WHICH IS MORE IMPORTANT FOR A CHILD TO HAVE: CURIOSITY OR GOOD MANNERS',\n",
    " 'VCF0318': '',\n",
    " 'VCF0826': 'DID U.S. DO RIGHT THING GETTING INVOLVED IN WAR (DIFFERENT WARS)',\n",
    " 'VCF9047': 'FEDERAL SPENDING- IMPROVE AND PROTECT THE ENVIRONMENT',\n",
    " 'VCF9046': 'FEDERAL SPENDING- FOOD STAMPS',\n",
    " 'VCF0391b': '',\n",
    " 'VCF0603': 'APPROVE DEMONSTRATIONS',\n",
    " 'VCF0602': 'APPROVE CIVIL DISOBEDIENCE',\n",
    " 'VCF0314': '',\n",
    " 'VCF0808': 'GUARANTEED JOBS AND INCOME',\n",
    " 'VCF9214': '',\n",
    " 'VCF9084': '',\n",
    " 'VCF0380': '',\n",
    " 'VCF9008': '',\n",
    " 'VCF0877': 'FAVOR OR OPPOSE GAYS IN THE MILITARY',\n",
    " 'VCF0834': 'WOMEN EQUAL ROLE SCALE',\n",
    " 'VCF0387b': '',\n",
    " 'VCF0866': '',\n",
    " 'VCF9201': '',\n",
    " 'VCF0817': 'SCHOOL BUSING SCALE',\n",
    " 'VCF9013': 'SOCIETY ENSURE EQUAL OPPORTUNITY TO SUCCEED',\n",
    " 'VCF0738a': '',\n",
    " 'VCF0402': '',\n",
    " 'VCF9232': 'FAVOR OR OPPOSE THE U.S. GOVERNMENT TORTURING PEOPLE WHO ARE SUSPECTED OF BEING TERRORISTS, TO TRY TO GET INFORMATION',\n",
    " 'VCF0128': '',\n",
    " 'VCF0425': '',\n",
    " 'VCF9037': 'GOVERNMENT SHOULD ENSURE FAIR JOBS FOR BLACKS',\n",
    " 'VCF0363': '',\n",
    " 'VCF9042': 'BLACKS GOTTEN LESS THAN THEY DESERVE OVER THE PAST FEW YEARS',\n",
    " 'VCF0365': '',\n",
    " 'VCF9077': 'PRESIDENT ON GOVERNMENT HEALTH INSURANCE SCALE',\n",
    " 'VCF0215': 'THERMOMETER',\n",
    " 'VCF0471': '',\n",
    " 'VCF0235': '',\n",
    " 'VCF9051': 'SCHOOL PRAYER ALLOWED 2-CATEGORY',\n",
    " 'VCF0847': 'HOW MUCH GUIDANCE FROM RELIGION',\n",
    " 'VCF9017': 'SHOULD WORRY LESS ABOUT HOW EQUAL PEOPLE ARE',\n",
    " 'VCF1037b': '',\n",
    " 'VCF0806': 'GOVERNMENT HEALTH INSURANCE SCALE',\n",
    " 'VCF0426': '',\n",
    " 'VCF0357': '',\n",
    " 'VCF0130': '',\n",
    " 'VCF0711': '',\n",
    " 'VCF0886': 'FEDERAL SPENDING- POOR/POOR PEOPLE',\n",
    " 'VCF9280': '',\n",
    " 'VCF0442': '',\n",
    " 'VCF9221': '',\n",
    " 'VCF0387a': '',\n",
    " 'VCF0815': 'SEGREGATION OR DESEGREGATION',\n",
    " 'VCF0837': 'WHEN SHOULD ABORTION BE ALLOWED',\n",
    " 'VCF0809': 'GUARANTEED JOBS AND INCOME SCALE',\n",
    " 'VCF0147': '',\n",
    " 'VCF0212': '',\n",
    " 'VCF1030b': '',\n",
    " 'VCF0447': '',\n",
    " 'VCF9235': '',\n",
    " 'VCF9202': '',\n",
    " 'VCF9041': 'BLACKS MUST TRY HARDER TO SUCCEED',\n",
    " 'VCF9014': 'WE HAVE GONE TOO FAR PUSHING EQUAL RIGHTS',\n",
    " 'VCF0381b': '',\n",
    " 'VCF0830': 'AID TO BLACKS SCALE',\n",
    " 'VCF0443': '',\n",
    " 'VCF0440': '',\n",
    " 'VCF0816': 'SHOULD GOVERNMENT ENSURE SCHOOL INTEGRATION',\n",
    " 'VCF0319': '',\n",
    " 'VCF9087': '',\n",
    " 'VCF0146': '',\n",
    " 'VCF0218': '',\n",
    " 'VCF0356': '',\n",
    " 'VCF1038': '',\n",
    " 'VCF0860': '',\n",
    " 'VCF0224': '',\n",
    " 'VCF0355': '',\n",
    " 'VCF0433': '',\n",
    " 'VCF0845': '',\n",
    " 'VCF9208': '',\n",
    " 'VCF0985': '',\n",
    " 'VCF1032': '',\n",
    " 'VCF0888': 'FEDERAL SPENDING- DEALING WITH CRIME',\n",
    " 'VCF0427': '',\n",
    " 'VCF9240': '',\n",
    " 'VCF0315': '',\n",
    " 'VCF0381a': '',\n",
    " 'VCF9015': 'BIG PROBLEM THAT NOT EVERYONE HAS EQUAL CHANCE',\n",
    " 'VCF0892': 'FEDERAL SPENDING- FOREIGN AID',\n",
    " 'VCF9016': 'NOT BIG PROBLEM IF SOME HAVE MORE CHANCE IN LIFE',\n",
    " 'VCF0153b': '',\n",
    " 'VCF0130a': '',\n",
    " 'VCF9220': '',\n",
    " 'VCF0606': 'HOW MUCH DOES THE FEDERAL GOVERNMENT WASTE TAX MONEY',\n",
    " 'VCF0508': '',\n",
    " 'VCF0384b': '',\n",
    " 'VCF0748': '',\n",
    " 'VCF0339': '',\n",
    " 'VCF9094': '',\n",
    " 'VCF9078': '',\n",
    " 'VCF0842': 'ENVIRONMENTAL REGULATION SCALE',\n",
    " 'VCF9231': 'FAVOR OR OPPOSE PLACING LIMITS ON IMPORTS TO PROTECT AMERICAN JOBS',\n",
    " 'VCF0891': 'FEDERAL SPENDING- FIN AID FOR COLLEGE STUDENTS',\n",
    " 'VCF0233': '',\n",
    " 'VCF0153a': '',\n",
    " 'VCF0368': '',\n",
    " 'VCF9081': '',\n",
    " 'VCF9048': 'FEDERAL SPENDING- SPACE/SCIENCE/TECHNOLOGY',\n",
    " 'VCF9092': '',\n",
    " 'VCF9039': 'CONDITIONS MAKE IT DIFFICULT FOR BLACKS TO SUCCEED',\n",
    " 'VCF9248': 'WHICH IS MORE IMPORTANT FOR A CHILD TO BE: CONSIDERATE OR WELL-BEHAVED',\n",
    " 'VCF9226': '',\n",
    " 'VCF0396b': '',\n",
    " 'VCF1020': '',\n",
    " 'VCF0338': '',\n",
    " 'VCF0829': 'IS THE GOVERNMENT IN WASHINGTON TOO STRONG',\n",
    " 'VCF0214': ''}"
   ]
  },
  {
   "cell_type": "code",
   "execution_count": 112,
   "id": "62d6ef54",
   "metadata": {},
   "outputs": [
    {
     "data": {
      "text/plain": [
       "{'VCF9230': 'SHOULD THE FEDERAL GOVERNMENT ENCOURAGE OR DISCOURAGE AMERICAN COMPANIES TO REPLACE U.S. WORKERS WITH FOREIGN WORKERS, OR STAY OUT',\n",
       " '': ''}"
      ]
     },
     "execution_count": 112,
     "metadata": {},
     "output_type": "execute_result"
    }
   ],
   "source": [
    "{\n",
    "    'VCF9230': 'SHOULD THE FEDERAL GOVERNMENT ENCOURAGE OR DISCOURAGE AMERICAN COMPANIES TO REPLACE U.S. WORKERS WITH FOREIGN WORKERS, OR STAY OUT',\n",
    "    '': '',\n",
    "    '': '',\n",
    "    '': '',\n",
    "    '': '',\n",
    "    '': '',\n",
    "}"
   ]
  },
  {
   "cell_type": "code",
   "execution_count": 113,
   "id": "4ae77868",
   "metadata": {},
   "outputs": [],
   "source": [
    "issue_dict = {\n",
    "    'VCF9249': 'INDEPENDENCE OR\\nRESPECT FOR ELDERS',\n",
    "    'VCF9246': 'CURIOSITY OR\\nGOOD MANNERS',\n",
    "    'VCF9247': 'SELF-RELIANCE OR\\nOBEDIENCE OR',\n",
    "    'VCF9248': 'CONSIDERATE OR\\nWELL-BEHAVED',\n",
    "}"
   ]
  },
  {
   "cell_type": "code",
   "execution_count": 114,
   "id": "3cc64914",
   "metadata": {},
   "outputs": [],
   "source": [
    "issue_names = issue_dict.values()"
   ]
  },
  {
   "cell_type": "code",
   "execution_count": 115,
   "id": "3678c609",
   "metadata": {},
   "outputs": [],
   "source": [
    "conservative_values = {\n",
    "    \"VCF9249\": [3],\n",
    "    \"VCF9246\": [3],\n",
    "    \"VCF9247\": [1],\n",
    "    \"VCF9248\": [3],\n",
    "}"
   ]
  },
  {
   "cell_type": "code",
   "execution_count": 116,
   "id": "a7604e0b",
   "metadata": {},
   "outputs": [],
   "source": [
    "questions = pd.DataFrame(dtype=float)\n",
    "\n",
    "for varname in issue_dict:\n",
    "    questions[varname] = recent[varname].isin(conservative_values[varname]).astype(float)\n",
    "    null = recent[varname].isna()\n",
    "    questions.loc[null, varname] = np.nan"
   ]
  },
  {
   "cell_type": "code",
   "execution_count": 117,
   "id": "a13d3d69",
   "metadata": {},
   "outputs": [],
   "source": [
    "polview_names = [\"Conservative\", \"Moderate\", \"Liberal\"]\n",
    "\n",
    "muted = sns.color_palette(\"muted\", 5)\n",
    "polview_color_map = dict(zip(polview_names, [muted[3], muted[4], muted[0]]))\n",
    "marker_map = dict(zip(polview_names, [\"s\", \"^\", \"o\"]))"
   ]
  },
  {
   "cell_type": "code",
   "execution_count": 118,
   "id": "25086e28",
   "metadata": {},
   "outputs": [],
   "source": [
    "augmented = pd.concat([questions, recent[\"polviews3\"]], axis=1)\n",
    "table = augmented.groupby(\"polviews3\").mean().transpose() * 100"
   ]
  },
  {
   "cell_type": "code",
   "execution_count": 119,
   "id": "d5f6b89f",
   "metadata": {},
   "outputs": [
    {
     "data": {
      "image/png": "[encoded data removed]",
      "text/plain": [
       "<Figure size 700x450 with 1 Axes>"
      ]
     },
     "metadata": {},
     "output_type": "display_data"
    }
   ],
   "source": [
    "plt.figure(figsize=(7, 4.5))\n",
    "plt.hlines(\n",
    "    issue_names,\n",
    "    table[\"Liberal\"],\n",
    "    table[\"Conservative\"],\n",
    "    color=\"gray\",\n",
    "    alpha=0.2,\n",
    ")\n",
    "\n",
    "for polviews, color in polview_color_map.items():\n",
    "    x = table[polviews]\n",
    "    marker = marker_map[polviews]\n",
    "    plt.plot(x, issue_names, marker, color=color, alpha=0.9, label=polviews)\n",
    "\n",
    "decorate(xlabel=\"Percent choosing conservative responses\")"
   ]
  },
  {
   "cell_type": "code",
   "execution_count": 120,
   "id": "8b91442e",
   "metadata": {},
   "outputs": [
    {
     "data": {
      "text/plain": [
       "array([-0.58204013, -0.17557325,  0.28149422,  1.0043515 ])"
      ]
     },
     "execution_count": 120,
     "metadata": {},
     "output_type": "execute_result"
    }
   ],
   "source": [
    "from scipy.special import logit\n",
    "\n",
    "ds = -logit(questions.mean().values)\n",
    "ds"
   ]
  },
  {
   "cell_type": "code",
   "execution_count": 121,
   "id": "a604752d",
   "metadata": {},
   "outputs": [],
   "source": [
    "from scipy.special import expit\n",
    "\n",
    "es = np.linspace(-6, 6, 21)\n",
    "E, D = np.meshgrid(es, ds)\n",
    "P = expit(E - D)\n",
    "Q = 1 - P\n",
    "ns = P.sum(axis=0)"
   ]
  },
  {
   "cell_type": "code",
   "execution_count": 122,
   "id": "f611249c",
   "metadata": {},
   "outputs": [
    {
     "data": {
      "text/plain": [
       "1.4751408263256967"
      ]
     },
     "execution_count": 122,
     "metadata": {},
     "output_type": "execute_result"
    }
   ],
   "source": [
    "from scipy.stats import norm\n",
    "from empiricaldist import Pmf\n",
    "\n",
    "ps = norm.pdf(es, 0, 4)\n",
    "prior = Pmf(ps, es)\n",
    "prior.normalize()"
   ]
  },
  {
   "cell_type": "code",
   "execution_count": 123,
   "id": "99affb3a",
   "metadata": {},
   "outputs": [],
   "source": [
    "n, m = questions.shape\n",
    "size = n, m, len(es)\n",
    "res = np.empty(size)"
   ]
  },
  {
   "cell_type": "code",
   "execution_count": 124,
   "id": "27621516",
   "metadata": {},
   "outputs": [],
   "source": [
    "a = questions.fillna(2).astype(int).values\n",
    "ii, jj = np.nonzero(a == 0)\n",
    "res[ii, jj, :] = Q[jj]\n",
    "ii, jj = np.nonzero(a == 1)\n",
    "res[ii, jj, :] = P[jj]\n",
    "ii, jj = np.nonzero(a == 2)\n",
    "res[ii, jj, :] = 1"
   ]
  },
  {
   "cell_type": "code",
   "execution_count": 125,
   "id": "31390d0e",
   "metadata": {},
   "outputs": [
    {
     "data": {
      "text/plain": [
       "(52908,)"
      ]
     },
     "execution_count": 125,
     "metadata": {},
     "output_type": "execute_result"
    }
   ],
   "source": [
    "product = res.prod(axis=1) * prior.values\n",
    "posterior = product / product.sum(axis=1)[:, None]\n",
    "con = (posterior * ns).sum(axis=1)\n",
    "con.shape"
   ]
  },
  {
   "cell_type": "code",
   "execution_count": 126,
   "id": "5e32bd21",
   "metadata": {},
   "outputs": [
    {
     "data": {
      "text/plain": [
       "0.49690027973085354"
      ]
     },
     "execution_count": 126,
     "metadata": {},
     "output_type": "execute_result"
    }
   ],
   "source": [
    "answered = questions.notna().sum(axis=1)\n",
    "(answered >= 3).mean()"
   ]
  },
  {
   "cell_type": "code",
   "execution_count": 127,
   "id": "7aa7fa72",
   "metadata": {},
   "outputs": [
    {
     "name": "stderr",
     "output_type": "stream",
     "text": [
      "/tmp/ipykernel_202514/3702985926.py:1: PerformanceWarning: DataFrame is highly fragmented.  This is usually the result of calling `frame.insert` many times, which has poor performance.  Consider joining all columns at once using pd.concat(axis=1) instead. To get a de-fragmented frame, use `newframe = frame.copy()`\n",
      "  recent[\"conservatism\"] = pd.Series(con, recent.index)\n",
      "/tmp/ipykernel_202514/3702985926.py:1: SettingWithCopyWarning: \n",
      "A value is trying to be set on a copy of a slice from a DataFrame.\n",
      "Try using .loc[row_indexer,col_indexer] = value instead\n",
      "\n",
      "See the caveats in the documentation: https://pandas.pydata.org/pandas-docs/stable/user_guide/indexing.html#returning-a-view-versus-a-copy\n",
      "  recent[\"conservatism\"] = pd.Series(con, recent.index)\n"
     ]
    },
    {
     "data": {
      "text/plain": [
       "count    26290.000000\n",
       "mean         1.899714\n",
       "std          1.217248\n",
       "min          0.311246\n",
       "25%          0.311246\n",
       "50%          1.992556\n",
       "75%          2.906396\n",
       "max          3.670388\n",
       "Name: conservatism, dtype: float64"
      ]
     },
     "execution_count": 127,
     "metadata": {},
     "output_type": "execute_result"
    }
   ],
   "source": [
    "recent[\"conservatism\"] = pd.Series(con, recent.index)\n",
    "recent.loc[answered < 3, \"conservatism\"] = np.nan\n",
    "recent[\"conservatism\"].describe()"
   ]
  },
  {
   "cell_type": "code",
   "execution_count": 130,
   "id": "82f4ac93",
   "metadata": {},
   "outputs": [
    {
     "data": {
      "image/png": "[encoded data removed]",
      "text/plain": [
       "<Figure size 640x480 with 1 Axes>"
      ]
     },
     "metadata": {},
     "output_type": "display_data"
    }
   ],
   "source": [
    "series = recent.groupby(\"year\")[\"conservatism\"].mean()\n",
    "\n",
    "plot_series_lowess(series, frac=0.3, color=\"C0\", label=\"\")\n",
    "decorate(xlabel=\"Year of survey\", \n",
    "         ylabel=\"Number of conservative responses\",\n",
    "         title='All respondents')"
   ]
  },
  {
   "cell_type": "code",
   "execution_count": 131,
   "id": "d4ad2d0f",
   "metadata": {},
   "outputs": [
    {
     "data": {
      "text/plain": [
       "sex\n",
       "2.0    29010\n",
       "1.0    23779\n",
       "0.0      108\n",
       "3.0       11\n",
       "Name: count, dtype: int64"
      ]
     },
     "execution_count": 131,
     "metadata": {},
     "output_type": "execute_result"
    }
   ],
   "source": [
    "recent['sex'].value_counts()"
   ]
  },
  {
   "cell_type": "code",
   "execution_count": 132,
   "id": "fd4360a3",
   "metadata": {},
   "outputs": [],
   "source": [
    "table = recent.pivot_table(index=\"year\", columns=\"sex\", values=\"conservatism\", aggfunc='mean')"
   ]
  },
  {
   "cell_type": "code",
   "execution_count": 133,
   "id": "6fd642b3",
   "metadata": {},
   "outputs": [],
   "source": [
    "columns = [1, 2]\n",
    "color_map = dict(zip(columns, ['C0', 'C1']))\n",
    "label_map = dict(zip(columns, ['Male', 'Female']))"
   ]
  },
  {
   "cell_type": "code",
   "execution_count": 134,
   "id": "96b8c363",
   "metadata": {},
   "outputs": [
    {
     "data": {
      "image/png": "[encoded data removed]",
      "text/plain": [
       "<Figure size 640x480 with 1 Axes>"
      ]
     },
     "metadata": {},
     "output_type": "display_data"
    }
   ],
   "source": [
    "for column in columns:\n",
    "    plot_series_lowess(table[column], color=color_map[column], label=label_map[column])\n",
    "\n",
    "decorate(xlabel=\"Year of survey\", \n",
    "         ylabel=\"Number of conservative responses\",\n",
    "         title='All respondents')"
   ]
  },
  {
   "cell_type": "code",
   "execution_count": null,
   "id": "2d6f8bec",
   "metadata": {},
   "outputs": [],
   "source": []
  }
 ],
 "metadata": {
  "celltoolbar": "Tags",
  "kernelspec": {
   "display_name": "Python 3 (ipykernel)",
   "language": "python",
   "name": "python3"
  },
  "language_info": {
   "codemirror_mode": {
    "name": "ipython",
    "version": 3
   },
   "file_extension": ".py",
   "mimetype": "text/x-python",
   "name": "python",
   "nbconvert_exporter": "python",
   "pygments_lexer": "ipython3",
   "version": "3.10.12"
  }
 },
 "nbformat": 4,
 "nbformat_minor": 5
}
