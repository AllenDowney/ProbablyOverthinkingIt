{
 "cells": [
  {
   "cell_type": "markdown",
   "id": "e07d2d6f",
   "metadata": {},
   "source": [
    "# ANES\n"
   ]
  },
  {
   "cell_type": "markdown",
   "id": "cb9c5ba2",
   "metadata": {},
   "source": [
    "[Click here to run this notebook on Colab](https://colab.research.google.com/github/AllenDowney/ProbablyOverthinkingIt/blob/book/examples/anes_overton.ipynb)"
   ]
  },
  {
   "cell_type": "code",
   "execution_count": 1,
   "id": "7bb050c6",
   "metadata": {},
   "outputs": [
    {
     "data": {
      "application/javascript": [
       "\n",
       "            setTimeout(function() {\n",
       "                var nbb_cell_id = 1;\n",
       "                var nbb_unformatted_code = \"%load_ext nb_black\";\n",
       "                var nbb_formatted_code = \"%load_ext nb_black\";\n",
       "                var nbb_cells = Jupyter.notebook.get_cells();\n",
       "                for (var i = 0; i < nbb_cells.length; ++i) {\n",
       "                    if (nbb_cells[i].input_prompt_number == nbb_cell_id) {\n",
       "                        if (nbb_cells[i].get_text() == nbb_unformatted_code) {\n",
       "                             nbb_cells[i].set_text(nbb_formatted_code);\n",
       "                        }\n",
       "                        break;\n",
       "                    }\n",
       "                }\n",
       "            }, 500);\n",
       "            "
      ],
      "text/plain": [
       "<IPython.core.display.Javascript object>"
      ]
     },
     "metadata": {},
     "output_type": "display_data"
    }
   ],
   "source": [
    "%load_ext nb_black"
   ]
  },
  {
   "cell_type": "code",
   "execution_count": 2,
   "id": "9017e7de",
   "metadata": {},
   "outputs": [
    {
     "data": {
      "application/javascript": [
       "\n",
       "            setTimeout(function() {\n",
       "                var nbb_cell_id = 2;\n",
       "                var nbb_unformatted_code = \"# Install empiricaldist if we don't already have it\\n\\ntry:\\n    import empiricaldist\\nexcept ImportError:\\n    !pip install empiricaldist\";\n",
       "                var nbb_formatted_code = \"# Install empiricaldist if we don't already have it\\n\\ntry:\\n    import empiricaldist\\nexcept ImportError:\\n    !pip install empiricaldist\";\n",
       "                var nbb_cells = Jupyter.notebook.get_cells();\n",
       "                for (var i = 0; i < nbb_cells.length; ++i) {\n",
       "                    if (nbb_cells[i].input_prompt_number == nbb_cell_id) {\n",
       "                        if (nbb_cells[i].get_text() == nbb_unformatted_code) {\n",
       "                             nbb_cells[i].set_text(nbb_formatted_code);\n",
       "                        }\n",
       "                        break;\n",
       "                    }\n",
       "                }\n",
       "            }, 500);\n",
       "            "
      ],
      "text/plain": [
       "<IPython.core.display.Javascript object>"
      ]
     },
     "metadata": {},
     "output_type": "display_data"
    }
   ],
   "source": [
    "# Install empiricaldist if we don't already have it\n",
    "\n",
    "try:\n",
    "    import empiricaldist\n",
    "except ImportError:\n",
    "    !pip install empiricaldist"
   ]
  },
  {
   "cell_type": "code",
   "execution_count": 3,
   "id": "68806094",
   "metadata": {},
   "outputs": [
    {
     "data": {
      "application/javascript": [
       "\n",
       "            setTimeout(function() {\n",
       "                var nbb_cell_id = 3;\n",
       "                var nbb_unformatted_code = \"# download utils.py\\n\\nfrom os.path import basename, exists\\n\\n\\ndef download(url):\\n    filename = basename(url)\\n    if not exists(filename):\\n        from urllib.request import urlretrieve\\n\\n        local, _ = urlretrieve(url, filename)\\n        print(\\\"Downloaded \\\" + local)\\n\\n\\ndownload(\\n    \\\"https://github.com/AllenDowney/ProbablyOverthinkingIt/raw/book/notebooks/utils.py\\\"\\n)\";\n",
       "                var nbb_formatted_code = \"# download utils.py\\n\\nfrom os.path import basename, exists\\n\\n\\ndef download(url):\\n    filename = basename(url)\\n    if not exists(filename):\\n        from urllib.request import urlretrieve\\n\\n        local, _ = urlretrieve(url, filename)\\n        print(\\\"Downloaded \\\" + local)\\n\\n\\ndownload(\\n    \\\"https://github.com/AllenDowney/ProbablyOverthinkingIt/raw/book/notebooks/utils.py\\\"\\n)\";\n",
       "                var nbb_cells = Jupyter.notebook.get_cells();\n",
       "                for (var i = 0; i < nbb_cells.length; ++i) {\n",
       "                    if (nbb_cells[i].input_prompt_number == nbb_cell_id) {\n",
       "                        if (nbb_cells[i].get_text() == nbb_unformatted_code) {\n",
       "                             nbb_cells[i].set_text(nbb_formatted_code);\n",
       "                        }\n",
       "                        break;\n",
       "                    }\n",
       "                }\n",
       "            }, 500);\n",
       "            "
      ],
      "text/plain": [
       "<IPython.core.display.Javascript object>"
      ]
     },
     "metadata": {},
     "output_type": "display_data"
    }
   ],
   "source": [
    "# download utils.py\n",
    "\n",
    "from os.path import basename, exists\n",
    "\n",
    "\n",
    "def download(url):\n",
    "    filename = basename(url)\n",
    "    if not exists(filename):\n",
    "        from urllib.request import urlretrieve\n",
    "\n",
    "        local, _ = urlretrieve(url, filename)\n",
    "        print(\"Downloaded \" + local)\n",
    "\n",
    "\n",
    "download(\n",
    "    \"https://github.com/AllenDowney/ProbablyOverthinkingIt/raw/book/notebooks/utils.py\"\n",
    ")"
   ]
  },
  {
   "cell_type": "code",
   "execution_count": 4,
   "id": "581d0503",
   "metadata": {},
   "outputs": [
    {
     "data": {
      "application/javascript": [
       "\n",
       "            setTimeout(function() {\n",
       "                var nbb_cell_id = 4;\n",
       "                var nbb_unformatted_code = \"import pandas as pd\\nimport numpy as np\\nimport seaborn as sns\\nimport matplotlib.pyplot as plt\";\n",
       "                var nbb_formatted_code = \"import pandas as pd\\nimport numpy as np\\nimport seaborn as sns\\nimport matplotlib.pyplot as plt\";\n",
       "                var nbb_cells = Jupyter.notebook.get_cells();\n",
       "                for (var i = 0; i < nbb_cells.length; ++i) {\n",
       "                    if (nbb_cells[i].input_prompt_number == nbb_cell_id) {\n",
       "                        if (nbb_cells[i].get_text() == nbb_unformatted_code) {\n",
       "                             nbb_cells[i].set_text(nbb_formatted_code);\n",
       "                        }\n",
       "                        break;\n",
       "                    }\n",
       "                }\n",
       "            }, 500);\n",
       "            "
      ],
      "text/plain": [
       "<IPython.core.display.Javascript object>"
      ]
     },
     "metadata": {},
     "output_type": "display_data"
    }
   ],
   "source": [
    "import pandas as pd\n",
    "import numpy as np\n",
    "import seaborn as sns\n",
    "import matplotlib.pyplot as plt"
   ]
  },
  {
   "cell_type": "code",
   "execution_count": 5,
   "id": "4325a9c1",
   "metadata": {},
   "outputs": [
    {
     "data": {
      "application/javascript": [
       "\n",
       "            setTimeout(function() {\n",
       "                var nbb_cell_id = 5;\n",
       "                var nbb_unformatted_code = \"from utils import make_lowess, plot_series_lowess, decorate, values\";\n",
       "                var nbb_formatted_code = \"from utils import make_lowess, plot_series_lowess, decorate, values\";\n",
       "                var nbb_cells = Jupyter.notebook.get_cells();\n",
       "                for (var i = 0; i < nbb_cells.length; ++i) {\n",
       "                    if (nbb_cells[i].input_prompt_number == nbb_cell_id) {\n",
       "                        if (nbb_cells[i].get_text() == nbb_unformatted_code) {\n",
       "                             nbb_cells[i].set_text(nbb_formatted_code);\n",
       "                        }\n",
       "                        break;\n",
       "                    }\n",
       "                }\n",
       "            }, 500);\n",
       "            "
      ],
      "text/plain": [
       "<IPython.core.display.Javascript object>"
      ]
     },
     "metadata": {},
     "output_type": "display_data"
    }
   ],
   "source": [
    "from utils import make_lowess, plot_series_lowess, decorate, values"
   ]
  },
  {
   "cell_type": "code",
   "execution_count": 6,
   "id": "b8704361",
   "metadata": {},
   "outputs": [
    {
     "data": {
      "application/javascript": [
       "\n",
       "            setTimeout(function() {\n",
       "                var nbb_cell_id = 6;\n",
       "                var nbb_unformatted_code = \"def savefig(filename, **options):\\n    if \\\"dpi\\\" not in options:\\n        options[\\\"dpi\\\"] = 300\\n    plt.savefig(filename, **options)\";\n",
       "                var nbb_formatted_code = \"def savefig(filename, **options):\\n    if \\\"dpi\\\" not in options:\\n        options[\\\"dpi\\\"] = 300\\n    plt.savefig(filename, **options)\";\n",
       "                var nbb_cells = Jupyter.notebook.get_cells();\n",
       "                for (var i = 0; i < nbb_cells.length; ++i) {\n",
       "                    if (nbb_cells[i].input_prompt_number == nbb_cell_id) {\n",
       "                        if (nbb_cells[i].get_text() == nbb_unformatted_code) {\n",
       "                             nbb_cells[i].set_text(nbb_formatted_code);\n",
       "                        }\n",
       "                        break;\n",
       "                    }\n",
       "                }\n",
       "            }, 500);\n",
       "            "
      ],
      "text/plain": [
       "<IPython.core.display.Javascript object>"
      ]
     },
     "metadata": {},
     "output_type": "display_data"
    }
   ],
   "source": [
    "def savefig(filename, **options):\n",
    "    if \"dpi\" not in options:\n",
    "        options[\"dpi\"] = 300\n",
    "    plt.savefig(filename, **options)"
   ]
  },
  {
   "cell_type": "markdown",
   "id": "2e495adf",
   "metadata": {},
   "source": [
    "## Read the Data\n",
    "\n",
    "[You can get the data here](https://electionstudies.org/data-center/anes-time-series-cumulative-data-file/) -- but you'll need to create an account."
   ]
  },
  {
   "cell_type": "code",
   "execution_count": 7,
   "id": "97f75c8c",
   "metadata": {},
   "outputs": [
    {
     "data": {
      "text/plain": [
       "(68224, 1030)"
      ]
     },
     "execution_count": 7,
     "metadata": {},
     "output_type": "execute_result"
    },
    {
     "data": {
      "application/javascript": [
       "\n",
       "            setTimeout(function() {\n",
       "                var nbb_cell_id = 7;\n",
       "                var nbb_unformatted_code = \"df = pd.read_stata(\\\"anes_timeseries_cdf_stata_20220916.dta\\\", convert_categoricals=False)\\ndf.shape\";\n",
       "                var nbb_formatted_code = \"df = pd.read_stata(\\\"anes_timeseries_cdf_stata_20220916.dta\\\", convert_categoricals=False)\\ndf.shape\";\n",
       "                var nbb_cells = Jupyter.notebook.get_cells();\n",
       "                for (var i = 0; i < nbb_cells.length; ++i) {\n",
       "                    if (nbb_cells[i].input_prompt_number == nbb_cell_id) {\n",
       "                        if (nbb_cells[i].get_text() == nbb_unformatted_code) {\n",
       "                             nbb_cells[i].set_text(nbb_formatted_code);\n",
       "                        }\n",
       "                        break;\n",
       "                    }\n",
       "                }\n",
       "            }, 500);\n",
       "            "
      ],
      "text/plain": [
       "<IPython.core.display.Javascript object>"
      ]
     },
     "metadata": {},
     "output_type": "display_data"
    }
   ],
   "source": [
    "df = pd.read_stata(\"anes_timeseries_cdf_stata_20220916.dta\", convert_categoricals=False)\n",
    "df.shape"
   ]
  },
  {
   "cell_type": "code",
   "execution_count": 8,
   "id": "4e3b3e3d",
   "metadata": {},
   "outputs": [
    {
     "data": {
      "application/javascript": [
       "\n",
       "            setTimeout(function() {\n",
       "                var nbb_cell_id = 8;\n",
       "                var nbb_unformatted_code = \"column_dict = {\\n    \\\"VCF0004\\\": \\\"year\\\",\\n    \\\"VCF0803\\\": \\\"polviews\\\",\\n    \\\"VCF0301\\\": \\\"partyid\\\",\\n    \\\"VCF0302\\\": \\\"partyid3\\\",\\n    \\\"VCF0104\\\": \\\"sex\\\",\\n    \\\"VCF0101\\\": \\\"age\\\",\\n    \\\"VCF0009z\\\": \\\"wtsamp\\\",\\n}\\n\\ndf.rename(columns=column_dict, inplace=True)\";\n",
       "                var nbb_formatted_code = \"column_dict = {\\n    \\\"VCF0004\\\": \\\"year\\\",\\n    \\\"VCF0803\\\": \\\"polviews\\\",\\n    \\\"VCF0301\\\": \\\"partyid\\\",\\n    \\\"VCF0302\\\": \\\"partyid3\\\",\\n    \\\"VCF0104\\\": \\\"sex\\\",\\n    \\\"VCF0101\\\": \\\"age\\\",\\n    \\\"VCF0009z\\\": \\\"wtsamp\\\",\\n}\\n\\ndf.rename(columns=column_dict, inplace=True)\";\n",
       "                var nbb_cells = Jupyter.notebook.get_cells();\n",
       "                for (var i = 0; i < nbb_cells.length; ++i) {\n",
       "                    if (nbb_cells[i].input_prompt_number == nbb_cell_id) {\n",
       "                        if (nbb_cells[i].get_text() == nbb_unformatted_code) {\n",
       "                             nbb_cells[i].set_text(nbb_formatted_code);\n",
       "                        }\n",
       "                        break;\n",
       "                    }\n",
       "                }\n",
       "            }, 500);\n",
       "            "
      ],
      "text/plain": [
       "<IPython.core.display.Javascript object>"
      ]
     },
     "metadata": {},
     "output_type": "display_data"
    }
   ],
   "source": [
    "column_dict = {\n",
    "    \"VCF0004\": \"year\",\n",
    "    \"VCF0803\": \"polviews\",\n",
    "    \"VCF0301\": \"partyid\",\n",
    "    \"VCF0302\": \"partyid3\",\n",
    "    \"VCF0104\": \"sex\",\n",
    "    \"VCF0101\": \"age\",\n",
    "    \"VCF0009z\": \"wtsamp\",\n",
    "}\n",
    "\n",
    "df.rename(columns=column_dict, inplace=True)"
   ]
  },
  {
   "cell_type": "code",
   "execution_count": 9,
   "id": "dbde8049",
   "metadata": {},
   "outputs": [
    {
     "name": "stderr",
     "output_type": "stream",
     "text": [
      "/tmp/ipykernel_596595/1324274489.py:6: PerformanceWarning: DataFrame is highly fragmented.  This is usually the result of calling `frame.insert` many times, which has poor performance.  Consider joining all columns at once using pd.concat(axis=1) instead. To get a de-fragmented frame, use `newframe = frame.copy()`\n",
      "  df[\"polviews3\"] = df[\"VCF0804\"].replace(recode_polviews)\n"
     ]
    },
    {
     "data": {
      "text/plain": [
       "polviews3\n",
       "Conservative    15631\n",
       "Moderate        12532\n",
       "Liberal         10984\n",
       "9.0              9568\n",
       "0.0              4193\n",
       "Name: count, dtype: int64"
      ]
     },
     "execution_count": 9,
     "metadata": {},
     "output_type": "execute_result"
    },
    {
     "data": {
      "application/javascript": [
       "\n",
       "            setTimeout(function() {\n",
       "                var nbb_cell_id = 9;\n",
       "                var nbb_unformatted_code = \"recode_polviews = {\\n    1: \\\"Liberal\\\",\\n    2: \\\"Moderate\\\",\\n    3: \\\"Conservative\\\",\\n}\\ndf[\\\"polviews3\\\"] = df[\\\"VCF0804\\\"].replace(recode_polviews)\\ndf[\\\"polviews3\\\"].value_counts()\";\n",
       "                var nbb_formatted_code = \"recode_polviews = {\\n    1: \\\"Liberal\\\",\\n    2: \\\"Moderate\\\",\\n    3: \\\"Conservative\\\",\\n}\\ndf[\\\"polviews3\\\"] = df[\\\"VCF0804\\\"].replace(recode_polviews)\\ndf[\\\"polviews3\\\"].value_counts()\";\n",
       "                var nbb_cells = Jupyter.notebook.get_cells();\n",
       "                for (var i = 0; i < nbb_cells.length; ++i) {\n",
       "                    if (nbb_cells[i].input_prompt_number == nbb_cell_id) {\n",
       "                        if (nbb_cells[i].get_text() == nbb_unformatted_code) {\n",
       "                             nbb_cells[i].set_text(nbb_formatted_code);\n",
       "                        }\n",
       "                        break;\n",
       "                    }\n",
       "                }\n",
       "            }, 500);\n",
       "            "
      ],
      "text/plain": [
       "<IPython.core.display.Javascript object>"
      ]
     },
     "metadata": {},
     "output_type": "display_data"
    }
   ],
   "source": [
    "recode_polviews = {\n",
    "    1: \"Liberal\",\n",
    "    2: \"Moderate\",\n",
    "    3: \"Conservative\",\n",
    "}\n",
    "df[\"polviews3\"] = df[\"VCF0804\"].replace(recode_polviews)\n",
    "df[\"polviews3\"].value_counts()"
   ]
  },
  {
   "cell_type": "code",
   "execution_count": 10,
   "id": "fb807727",
   "metadata": {},
   "outputs": [
    {
     "data": {
      "text/plain": [
       "sex\n",
       "Female    37390\n",
       "Male      30612\n",
       "0.0         211\n",
       "3.0          11\n",
       "Name: count, dtype: int64"
      ]
     },
     "execution_count": 10,
     "metadata": {},
     "output_type": "execute_result"
    },
    {
     "data": {
      "application/javascript": [
       "\n",
       "            setTimeout(function() {\n",
       "                var nbb_cell_id = 10;\n",
       "                var nbb_unformatted_code = \"recode_sex = {\\n    1: \\\"Male\\\",\\n    2: \\\"Female\\\",\\n}\\ndf[\\\"sex\\\"].replace(recode_sex, inplace=True)\\ndf[\\\"sex\\\"].value_counts()\";\n",
       "                var nbb_formatted_code = \"recode_sex = {\\n    1: \\\"Male\\\",\\n    2: \\\"Female\\\",\\n}\\ndf[\\\"sex\\\"].replace(recode_sex, inplace=True)\\ndf[\\\"sex\\\"].value_counts()\";\n",
       "                var nbb_cells = Jupyter.notebook.get_cells();\n",
       "                for (var i = 0; i < nbb_cells.length; ++i) {\n",
       "                    if (nbb_cells[i].input_prompt_number == nbb_cell_id) {\n",
       "                        if (nbb_cells[i].get_text() == nbb_unformatted_code) {\n",
       "                             nbb_cells[i].set_text(nbb_formatted_code);\n",
       "                        }\n",
       "                        break;\n",
       "                    }\n",
       "                }\n",
       "            }, 500);\n",
       "            "
      ],
      "text/plain": [
       "<IPython.core.display.Javascript object>"
      ]
     },
     "metadata": {},
     "output_type": "display_data"
    }
   ],
   "source": [
    "recode_sex = {\n",
    "    1: \"Male\",\n",
    "    2: \"Female\",\n",
    "}\n",
    "df[\"sex\"].replace(recode_sex, inplace=True)\n",
    "df[\"sex\"].value_counts()"
   ]
  },
  {
   "cell_type": "code",
   "execution_count": 11,
   "id": "00fa36ba",
   "metadata": {},
   "outputs": [
    {
     "data": {
      "text/plain": [
       "count    68224.000000\n",
       "mean         1.039790\n",
       "std          0.564906\n",
       "min          0.021200\n",
       "25%          0.896200\n",
       "50%          1.000000\n",
       "75%          1.000000\n",
       "max          6.932929\n",
       "Name: wtsamp, dtype: float64"
      ]
     },
     "execution_count": 11,
     "metadata": {},
     "output_type": "execute_result"
    },
    {
     "data": {
      "application/javascript": [
       "\n",
       "            setTimeout(function() {\n",
       "                var nbb_cell_id = 11;\n",
       "                var nbb_unformatted_code = \"df[\\\"wtsamp\\\"].describe()\";\n",
       "                var nbb_formatted_code = \"df[\\\"wtsamp\\\"].describe()\";\n",
       "                var nbb_cells = Jupyter.notebook.get_cells();\n",
       "                for (var i = 0; i < nbb_cells.length; ++i) {\n",
       "                    if (nbb_cells[i].input_prompt_number == nbb_cell_id) {\n",
       "                        if (nbb_cells[i].get_text() == nbb_unformatted_code) {\n",
       "                             nbb_cells[i].set_text(nbb_formatted_code);\n",
       "                        }\n",
       "                        break;\n",
       "                    }\n",
       "                }\n",
       "            }, 500);\n",
       "            "
      ],
      "text/plain": [
       "<IPython.core.display.Javascript object>"
      ]
     },
     "metadata": {},
     "output_type": "display_data"
    }
   ],
   "source": [
    "df[\"wtsamp\"].describe()"
   ]
  },
  {
   "cell_type": "code",
   "execution_count": 12,
   "id": "678f6644",
   "metadata": {},
   "outputs": [
    {
     "data": {
      "text/html": [
       "<div>\n",
       "<style scoped>\n",
       "    .dataframe tbody tr th:only-of-type {\n",
       "        vertical-align: middle;\n",
       "    }\n",
       "\n",
       "    .dataframe tbody tr th {\n",
       "        vertical-align: top;\n",
       "    }\n",
       "\n",
       "    .dataframe thead th {\n",
       "        text-align: right;\n",
       "    }\n",
       "</style>\n",
       "<table border=\"1\" class=\"dataframe\">\n",
       "  <thead>\n",
       "    <tr style=\"text-align: right;\">\n",
       "      <th></th>\n",
       "      <th>counts</th>\n",
       "    </tr>\n",
       "    <tr>\n",
       "      <th>values</th>\n",
       "      <th></th>\n",
       "    </tr>\n",
       "  </thead>\n",
       "  <tbody>\n",
       "    <tr>\n",
       "      <th>1948.0</th>\n",
       "      <td>662</td>\n",
       "    </tr>\n",
       "    <tr>\n",
       "      <th>1952.0</th>\n",
       "      <td>1899</td>\n",
       "    </tr>\n",
       "    <tr>\n",
       "      <th>1954.0</th>\n",
       "      <td>1139</td>\n",
       "    </tr>\n",
       "    <tr>\n",
       "      <th>1956.0</th>\n",
       "      <td>1762</td>\n",
       "    </tr>\n",
       "    <tr>\n",
       "      <th>1958.0</th>\n",
       "      <td>1450</td>\n",
       "    </tr>\n",
       "    <tr>\n",
       "      <th>1960.0</th>\n",
       "      <td>1181</td>\n",
       "    </tr>\n",
       "    <tr>\n",
       "      <th>1962.0</th>\n",
       "      <td>1297</td>\n",
       "    </tr>\n",
       "    <tr>\n",
       "      <th>1964.0</th>\n",
       "      <td>1571</td>\n",
       "    </tr>\n",
       "    <tr>\n",
       "      <th>1966.0</th>\n",
       "      <td>1291</td>\n",
       "    </tr>\n",
       "    <tr>\n",
       "      <th>1968.0</th>\n",
       "      <td>1557</td>\n",
       "    </tr>\n",
       "    <tr>\n",
       "      <th>1970.0</th>\n",
       "      <td>1507</td>\n",
       "    </tr>\n",
       "    <tr>\n",
       "      <th>1972.0</th>\n",
       "      <td>2705</td>\n",
       "    </tr>\n",
       "    <tr>\n",
       "      <th>1974.0</th>\n",
       "      <td>1575</td>\n",
       "    </tr>\n",
       "    <tr>\n",
       "      <th>1976.0</th>\n",
       "      <td>2248</td>\n",
       "    </tr>\n",
       "    <tr>\n",
       "      <th>1978.0</th>\n",
       "      <td>2304</td>\n",
       "    </tr>\n",
       "    <tr>\n",
       "      <th>1980.0</th>\n",
       "      <td>1614</td>\n",
       "    </tr>\n",
       "    <tr>\n",
       "      <th>1982.0</th>\n",
       "      <td>1418</td>\n",
       "    </tr>\n",
       "    <tr>\n",
       "      <th>1984.0</th>\n",
       "      <td>2257</td>\n",
       "    </tr>\n",
       "    <tr>\n",
       "      <th>1986.0</th>\n",
       "      <td>2176</td>\n",
       "    </tr>\n",
       "    <tr>\n",
       "      <th>1988.0</th>\n",
       "      <td>2040</td>\n",
       "    </tr>\n",
       "    <tr>\n",
       "      <th>1990.0</th>\n",
       "      <td>1980</td>\n",
       "    </tr>\n",
       "    <tr>\n",
       "      <th>1992.0</th>\n",
       "      <td>2485</td>\n",
       "    </tr>\n",
       "    <tr>\n",
       "      <th>1994.0</th>\n",
       "      <td>1795</td>\n",
       "    </tr>\n",
       "    <tr>\n",
       "      <th>1996.0</th>\n",
       "      <td>1714</td>\n",
       "    </tr>\n",
       "    <tr>\n",
       "      <th>1998.0</th>\n",
       "      <td>1281</td>\n",
       "    </tr>\n",
       "    <tr>\n",
       "      <th>2000.0</th>\n",
       "      <td>1807</td>\n",
       "    </tr>\n",
       "    <tr>\n",
       "      <th>2002.0</th>\n",
       "      <td>1511</td>\n",
       "    </tr>\n",
       "    <tr>\n",
       "      <th>2004.0</th>\n",
       "      <td>1212</td>\n",
       "    </tr>\n",
       "    <tr>\n",
       "      <th>2008.0</th>\n",
       "      <td>2322</td>\n",
       "    </tr>\n",
       "    <tr>\n",
       "      <th>2012.0</th>\n",
       "      <td>5914</td>\n",
       "    </tr>\n",
       "    <tr>\n",
       "      <th>2016.0</th>\n",
       "      <td>4270</td>\n",
       "    </tr>\n",
       "    <tr>\n",
       "      <th>2020.0</th>\n",
       "      <td>8280</td>\n",
       "    </tr>\n",
       "  </tbody>\n",
       "</table>\n",
       "</div>"
      ],
      "text/plain": [
       "        counts\n",
       "values        \n",
       "1948.0     662\n",
       "1952.0    1899\n",
       "1954.0    1139\n",
       "1956.0    1762\n",
       "1958.0    1450\n",
       "1960.0    1181\n",
       "1962.0    1297\n",
       "1964.0    1571\n",
       "1966.0    1291\n",
       "1968.0    1557\n",
       "1970.0    1507\n",
       "1972.0    2705\n",
       "1974.0    1575\n",
       "1976.0    2248\n",
       "1978.0    2304\n",
       "1980.0    1614\n",
       "1982.0    1418\n",
       "1984.0    2257\n",
       "1986.0    2176\n",
       "1988.0    2040\n",
       "1990.0    1980\n",
       "1992.0    2485\n",
       "1994.0    1795\n",
       "1996.0    1714\n",
       "1998.0    1281\n",
       "2000.0    1807\n",
       "2002.0    1511\n",
       "2004.0    1212\n",
       "2008.0    2322\n",
       "2012.0    5914\n",
       "2016.0    4270\n",
       "2020.0    8280"
      ]
     },
     "execution_count": 12,
     "metadata": {},
     "output_type": "execute_result"
    },
    {
     "data": {
      "application/javascript": [
       "\n",
       "            setTimeout(function() {\n",
       "                var nbb_cell_id = 12;\n",
       "                var nbb_unformatted_code = \"values(df[\\\"year\\\"])\";\n",
       "                var nbb_formatted_code = \"values(df[\\\"year\\\"])\";\n",
       "                var nbb_cells = Jupyter.notebook.get_cells();\n",
       "                for (var i = 0; i < nbb_cells.length; ++i) {\n",
       "                    if (nbb_cells[i].input_prompt_number == nbb_cell_id) {\n",
       "                        if (nbb_cells[i].get_text() == nbb_unformatted_code) {\n",
       "                             nbb_cells[i].set_text(nbb_formatted_code);\n",
       "                        }\n",
       "                        break;\n",
       "                    }\n",
       "                }\n",
       "            }, 500);\n",
       "            "
      ],
      "text/plain": [
       "<IPython.core.display.Javascript object>"
      ]
     },
     "metadata": {},
     "output_type": "display_data"
    }
   ],
   "source": [
    "values(df[\"year\"])"
   ]
  },
  {
   "cell_type": "code",
   "execution_count": 13,
   "id": "2fde6d0f",
   "metadata": {},
   "outputs": [
    {
     "data": {
      "text/html": [
       "<div>\n",
       "<style scoped>\n",
       "    .dataframe tbody tr th:only-of-type {\n",
       "        vertical-align: middle;\n",
       "    }\n",
       "\n",
       "    .dataframe tbody tr th {\n",
       "        vertical-align: top;\n",
       "    }\n",
       "\n",
       "    .dataframe thead th {\n",
       "        text-align: right;\n",
       "    }\n",
       "</style>\n",
       "<table border=\"1\" class=\"dataframe\">\n",
       "  <thead>\n",
       "    <tr style=\"text-align: right;\">\n",
       "      <th></th>\n",
       "      <th>counts</th>\n",
       "    </tr>\n",
       "    <tr>\n",
       "      <th>values</th>\n",
       "      <th></th>\n",
       "    </tr>\n",
       "  </thead>\n",
       "  <tbody>\n",
       "    <tr>\n",
       "      <th>0.0</th>\n",
       "      <td>887</td>\n",
       "    </tr>\n",
       "    <tr>\n",
       "      <th>17.0</th>\n",
       "      <td>21</td>\n",
       "    </tr>\n",
       "    <tr>\n",
       "      <th>18.0</th>\n",
       "      <td>498</td>\n",
       "    </tr>\n",
       "    <tr>\n",
       "      <th>19.0</th>\n",
       "      <td>605</td>\n",
       "    </tr>\n",
       "    <tr>\n",
       "      <th>20.0</th>\n",
       "      <td>690</td>\n",
       "    </tr>\n",
       "    <tr>\n",
       "      <th>...</th>\n",
       "      <td>...</td>\n",
       "    </tr>\n",
       "    <tr>\n",
       "      <th>96.0</th>\n",
       "      <td>3</td>\n",
       "    </tr>\n",
       "    <tr>\n",
       "      <th>97.0</th>\n",
       "      <td>2</td>\n",
       "    </tr>\n",
       "    <tr>\n",
       "      <th>98.0</th>\n",
       "      <td>2</td>\n",
       "    </tr>\n",
       "    <tr>\n",
       "      <th>99.0</th>\n",
       "      <td>4</td>\n",
       "    </tr>\n",
       "    <tr>\n",
       "      <th>NaN</th>\n",
       "      <td>1801</td>\n",
       "    </tr>\n",
       "  </tbody>\n",
       "</table>\n",
       "<p>85 rows × 1 columns</p>\n",
       "</div>"
      ],
      "text/plain": [
       "        counts\n",
       "values        \n",
       "0.0        887\n",
       "17.0        21\n",
       "18.0       498\n",
       "19.0       605\n",
       "20.0       690\n",
       "...        ...\n",
       "96.0         3\n",
       "97.0         2\n",
       "98.0         2\n",
       "99.0         4\n",
       "NaN       1801\n",
       "\n",
       "[85 rows x 1 columns]"
      ]
     },
     "execution_count": 13,
     "metadata": {},
     "output_type": "execute_result"
    },
    {
     "data": {
      "application/javascript": [
       "\n",
       "            setTimeout(function() {\n",
       "                var nbb_cell_id = 13;\n",
       "                var nbb_unformatted_code = \"values(df[\\\"age\\\"])\";\n",
       "                var nbb_formatted_code = \"values(df[\\\"age\\\"])\";\n",
       "                var nbb_cells = Jupyter.notebook.get_cells();\n",
       "                for (var i = 0; i < nbb_cells.length; ++i) {\n",
       "                    if (nbb_cells[i].input_prompt_number == nbb_cell_id) {\n",
       "                        if (nbb_cells[i].get_text() == nbb_unformatted_code) {\n",
       "                             nbb_cells[i].set_text(nbb_formatted_code);\n",
       "                        }\n",
       "                        break;\n",
       "                    }\n",
       "                }\n",
       "            }, 500);\n",
       "            "
      ],
      "text/plain": [
       "<IPython.core.display.Javascript object>"
      ]
     },
     "metadata": {},
     "output_type": "display_data"
    }
   ],
   "source": [
    "values(df[\"age\"])"
   ]
  },
  {
   "cell_type": "code",
   "execution_count": 14,
   "id": "e2ea4ce0",
   "metadata": {},
   "outputs": [
    {
     "data": {
      "application/javascript": [
       "\n",
       "            setTimeout(function() {\n",
       "                var nbb_cell_id = 14;\n",
       "                var nbb_unformatted_code = \"df[\\\"age\\\"].replace(0, np.nan, inplace=True)\";\n",
       "                var nbb_formatted_code = \"df[\\\"age\\\"].replace(0, np.nan, inplace=True)\";\n",
       "                var nbb_cells = Jupyter.notebook.get_cells();\n",
       "                for (var i = 0; i < nbb_cells.length; ++i) {\n",
       "                    if (nbb_cells[i].input_prompt_number == nbb_cell_id) {\n",
       "                        if (nbb_cells[i].get_text() == nbb_unformatted_code) {\n",
       "                             nbb_cells[i].set_text(nbb_formatted_code);\n",
       "                        }\n",
       "                        break;\n",
       "                    }\n",
       "                }\n",
       "            }, 500);\n",
       "            "
      ],
      "text/plain": [
       "<IPython.core.display.Javascript object>"
      ]
     },
     "metadata": {},
     "output_type": "display_data"
    }
   ],
   "source": [
    "df[\"age\"].replace(0, np.nan, inplace=True)"
   ]
  },
  {
   "cell_type": "code",
   "execution_count": 15,
   "id": "8c98a90a",
   "metadata": {},
   "outputs": [
    {
     "data": {
      "text/html": [
       "<div>\n",
       "<style scoped>\n",
       "    .dataframe tbody tr th:only-of-type {\n",
       "        vertical-align: middle;\n",
       "    }\n",
       "\n",
       "    .dataframe tbody tr th {\n",
       "        vertical-align: top;\n",
       "    }\n",
       "\n",
       "    .dataframe thead th {\n",
       "        text-align: right;\n",
       "    }\n",
       "</style>\n",
       "<table border=\"1\" class=\"dataframe\">\n",
       "  <thead>\n",
       "    <tr style=\"text-align: right;\">\n",
       "      <th></th>\n",
       "      <th>counts</th>\n",
       "    </tr>\n",
       "    <tr>\n",
       "      <th>values</th>\n",
       "      <th></th>\n",
       "    </tr>\n",
       "  </thead>\n",
       "  <tbody>\n",
       "    <tr>\n",
       "      <th>0.0</th>\n",
       "      <td>2400</td>\n",
       "    </tr>\n",
       "    <tr>\n",
       "      <th>1.0</th>\n",
       "      <td>1229</td>\n",
       "    </tr>\n",
       "    <tr>\n",
       "      <th>2.0</th>\n",
       "      <td>4821</td>\n",
       "    </tr>\n",
       "    <tr>\n",
       "      <th>3.0</th>\n",
       "      <td>4934</td>\n",
       "    </tr>\n",
       "    <tr>\n",
       "      <th>4.0</th>\n",
       "      <td>12532</td>\n",
       "    </tr>\n",
       "    <tr>\n",
       "      <th>5.0</th>\n",
       "      <td>6567</td>\n",
       "    </tr>\n",
       "    <tr>\n",
       "      <th>6.0</th>\n",
       "      <td>7523</td>\n",
       "    </tr>\n",
       "    <tr>\n",
       "      <th>7.0</th>\n",
       "      <td>1541</td>\n",
       "    </tr>\n",
       "    <tr>\n",
       "      <th>9.0</th>\n",
       "      <td>11361</td>\n",
       "    </tr>\n",
       "    <tr>\n",
       "      <th>NaN</th>\n",
       "      <td>15316</td>\n",
       "    </tr>\n",
       "  </tbody>\n",
       "</table>\n",
       "</div>"
      ],
      "text/plain": [
       "        counts\n",
       "values        \n",
       "0.0       2400\n",
       "1.0       1229\n",
       "2.0       4821\n",
       "3.0       4934\n",
       "4.0      12532\n",
       "5.0       6567\n",
       "6.0       7523\n",
       "7.0       1541\n",
       "9.0      11361\n",
       "NaN      15316"
      ]
     },
     "execution_count": 15,
     "metadata": {},
     "output_type": "execute_result"
    },
    {
     "data": {
      "application/javascript": [
       "\n",
       "            setTimeout(function() {\n",
       "                var nbb_cell_id = 15;\n",
       "                var nbb_unformatted_code = \"values(df[\\\"polviews\\\"])\";\n",
       "                var nbb_formatted_code = \"values(df[\\\"polviews\\\"])\";\n",
       "                var nbb_cells = Jupyter.notebook.get_cells();\n",
       "                for (var i = 0; i < nbb_cells.length; ++i) {\n",
       "                    if (nbb_cells[i].input_prompt_number == nbb_cell_id) {\n",
       "                        if (nbb_cells[i].get_text() == nbb_unformatted_code) {\n",
       "                             nbb_cells[i].set_text(nbb_formatted_code);\n",
       "                        }\n",
       "                        break;\n",
       "                    }\n",
       "                }\n",
       "            }, 500);\n",
       "            "
      ],
      "text/plain": [
       "<IPython.core.display.Javascript object>"
      ]
     },
     "metadata": {},
     "output_type": "display_data"
    }
   ],
   "source": [
    "values(df[\"polviews\"])"
   ]
  },
  {
   "cell_type": "code",
   "execution_count": 16,
   "id": "1f8c6e1a",
   "metadata": {},
   "outputs": [
    {
     "data": {
      "text/html": [
       "<div>\n",
       "<style scoped>\n",
       "    .dataframe tbody tr th:only-of-type {\n",
       "        vertical-align: middle;\n",
       "    }\n",
       "\n",
       "    .dataframe tbody tr th {\n",
       "        vertical-align: top;\n",
       "    }\n",
       "\n",
       "    .dataframe thead th {\n",
       "        text-align: right;\n",
       "    }\n",
       "</style>\n",
       "<table border=\"1\" class=\"dataframe\">\n",
       "  <thead>\n",
       "    <tr style=\"text-align: right;\">\n",
       "      <th></th>\n",
       "      <th>counts</th>\n",
       "    </tr>\n",
       "    <tr>\n",
       "      <th>values</th>\n",
       "      <th></th>\n",
       "    </tr>\n",
       "  </thead>\n",
       "  <tbody>\n",
       "    <tr>\n",
       "      <th>0.0</th>\n",
       "      <td>4193</td>\n",
       "    </tr>\n",
       "    <tr>\n",
       "      <th>1.0</th>\n",
       "      <td>10984</td>\n",
       "    </tr>\n",
       "    <tr>\n",
       "      <th>2.0</th>\n",
       "      <td>12532</td>\n",
       "    </tr>\n",
       "    <tr>\n",
       "      <th>3.0</th>\n",
       "      <td>15631</td>\n",
       "    </tr>\n",
       "    <tr>\n",
       "      <th>9.0</th>\n",
       "      <td>9568</td>\n",
       "    </tr>\n",
       "    <tr>\n",
       "      <th>NaN</th>\n",
       "      <td>15316</td>\n",
       "    </tr>\n",
       "  </tbody>\n",
       "</table>\n",
       "</div>"
      ],
      "text/plain": [
       "        counts\n",
       "values        \n",
       "0.0       4193\n",
       "1.0      10984\n",
       "2.0      12532\n",
       "3.0      15631\n",
       "9.0       9568\n",
       "NaN      15316"
      ]
     },
     "execution_count": 16,
     "metadata": {},
     "output_type": "execute_result"
    },
    {
     "data": {
      "application/javascript": [
       "\n",
       "            setTimeout(function() {\n",
       "                var nbb_cell_id = 16;\n",
       "                var nbb_unformatted_code = \"values(df[\\\"VCF0804\\\"])\";\n",
       "                var nbb_formatted_code = \"values(df[\\\"VCF0804\\\"])\";\n",
       "                var nbb_cells = Jupyter.notebook.get_cells();\n",
       "                for (var i = 0; i < nbb_cells.length; ++i) {\n",
       "                    if (nbb_cells[i].input_prompt_number == nbb_cell_id) {\n",
       "                        if (nbb_cells[i].get_text() == nbb_unformatted_code) {\n",
       "                             nbb_cells[i].set_text(nbb_formatted_code);\n",
       "                        }\n",
       "                        break;\n",
       "                    }\n",
       "                }\n",
       "            }, 500);\n",
       "            "
      ],
      "text/plain": [
       "<IPython.core.display.Javascript object>"
      ]
     },
     "metadata": {},
     "output_type": "display_data"
    }
   ],
   "source": [
    "values(df[\"VCF0804\"])"
   ]
  },
  {
   "cell_type": "code",
   "execution_count": 17,
   "id": "802acc5a",
   "metadata": {},
   "outputs": [
    {
     "data": {
      "text/html": [
       "<div>\n",
       "<style scoped>\n",
       "    .dataframe tbody tr th:only-of-type {\n",
       "        vertical-align: middle;\n",
       "    }\n",
       "\n",
       "    .dataframe tbody tr th {\n",
       "        vertical-align: top;\n",
       "    }\n",
       "\n",
       "    .dataframe thead th {\n",
       "        text-align: right;\n",
       "    }\n",
       "</style>\n",
       "<table border=\"1\" class=\"dataframe\">\n",
       "  <thead>\n",
       "    <tr style=\"text-align: right;\">\n",
       "      <th></th>\n",
       "      <th>counts</th>\n",
       "    </tr>\n",
       "    <tr>\n",
       "      <th>values</th>\n",
       "      <th></th>\n",
       "    </tr>\n",
       "  </thead>\n",
       "  <tbody>\n",
       "    <tr>\n",
       "      <th>1.0</th>\n",
       "      <td>14125</td>\n",
       "    </tr>\n",
       "    <tr>\n",
       "      <th>2.0</th>\n",
       "      <td>15856</td>\n",
       "    </tr>\n",
       "    <tr>\n",
       "      <th>3.0</th>\n",
       "      <td>2937</td>\n",
       "    </tr>\n",
       "    <tr>\n",
       "      <th>4.0</th>\n",
       "      <td>733</td>\n",
       "    </tr>\n",
       "    <tr>\n",
       "      <th>5.0</th>\n",
       "      <td>20437</td>\n",
       "    </tr>\n",
       "    <tr>\n",
       "      <th>8.0</th>\n",
       "      <td>133</td>\n",
       "    </tr>\n",
       "    <tr>\n",
       "      <th>9.0</th>\n",
       "      <td>244</td>\n",
       "    </tr>\n",
       "    <tr>\n",
       "      <th>NaN</th>\n",
       "      <td>13759</td>\n",
       "    </tr>\n",
       "  </tbody>\n",
       "</table>\n",
       "</div>"
      ],
      "text/plain": [
       "        counts\n",
       "values        \n",
       "1.0      14125\n",
       "2.0      15856\n",
       "3.0       2937\n",
       "4.0        733\n",
       "5.0      20437\n",
       "8.0        133\n",
       "9.0        244\n",
       "NaN      13759"
      ]
     },
     "execution_count": 17,
     "metadata": {},
     "output_type": "execute_result"
    },
    {
     "data": {
      "application/javascript": [
       "\n",
       "            setTimeout(function() {\n",
       "                var nbb_cell_id = 17;\n",
       "                var nbb_unformatted_code = \"values(df[\\\"partyid3\\\"])\";\n",
       "                var nbb_formatted_code = \"values(df[\\\"partyid3\\\"])\";\n",
       "                var nbb_cells = Jupyter.notebook.get_cells();\n",
       "                for (var i = 0; i < nbb_cells.length; ++i) {\n",
       "                    if (nbb_cells[i].input_prompt_number == nbb_cell_id) {\n",
       "                        if (nbb_cells[i].get_text() == nbb_unformatted_code) {\n",
       "                             nbb_cells[i].set_text(nbb_formatted_code);\n",
       "                        }\n",
       "                        break;\n",
       "                    }\n",
       "                }\n",
       "            }, 500);\n",
       "            "
      ],
      "text/plain": [
       "<IPython.core.display.Javascript object>"
      ]
     },
     "metadata": {},
     "output_type": "display_data"
    }
   ],
   "source": [
    "values(df[\"partyid3\"])"
   ]
  },
  {
   "cell_type": "code",
   "execution_count": 18,
   "id": "18b0fc1e",
   "metadata": {},
   "outputs": [
    {
     "data": {
      "application/javascript": [
       "\n",
       "            setTimeout(function() {\n",
       "                var nbb_cell_id = 18;\n",
       "                var nbb_unformatted_code = \"def resample_by_year(df, column):\\n    \\\"\\\"\\\"Resample rows within each year.\\n\\n    df: DataFrame\\n    column: string name of weight variable\\n\\n    returns DataFrame\\n    \\\"\\\"\\\"\\n    grouped = df.groupby(\\\"year\\\")\\n    samples = [resample_rows_weighted(group, column) for _, group in grouped]\\n    sample = pd.concat(samples, ignore_index=True)\\n    return sample\";\n",
       "                var nbb_formatted_code = \"def resample_by_year(df, column):\\n    \\\"\\\"\\\"Resample rows within each year.\\n\\n    df: DataFrame\\n    column: string name of weight variable\\n\\n    returns DataFrame\\n    \\\"\\\"\\\"\\n    grouped = df.groupby(\\\"year\\\")\\n    samples = [resample_rows_weighted(group, column) for _, group in grouped]\\n    sample = pd.concat(samples, ignore_index=True)\\n    return sample\";\n",
       "                var nbb_cells = Jupyter.notebook.get_cells();\n",
       "                for (var i = 0; i < nbb_cells.length; ++i) {\n",
       "                    if (nbb_cells[i].input_prompt_number == nbb_cell_id) {\n",
       "                        if (nbb_cells[i].get_text() == nbb_unformatted_code) {\n",
       "                             nbb_cells[i].set_text(nbb_formatted_code);\n",
       "                        }\n",
       "                        break;\n",
       "                    }\n",
       "                }\n",
       "            }, 500);\n",
       "            "
      ],
      "text/plain": [
       "<IPython.core.display.Javascript object>"
      ]
     },
     "metadata": {},
     "output_type": "display_data"
    }
   ],
   "source": [
    "def resample_by_year(df, column):\n",
    "    \"\"\"Resample rows within each year.\n",
    "\n",
    "    df: DataFrame\n",
    "    column: string name of weight variable\n",
    "\n",
    "    returns DataFrame\n",
    "    \"\"\"\n",
    "    grouped = df.groupby(\"year\")\n",
    "    samples = [resample_rows_weighted(group, column) for _, group in grouped]\n",
    "    sample = pd.concat(samples, ignore_index=True)\n",
    "    return sample"
   ]
  },
  {
   "cell_type": "code",
   "execution_count": 19,
   "id": "fdc69127",
   "metadata": {},
   "outputs": [
    {
     "data": {
      "application/javascript": [
       "\n",
       "            setTimeout(function() {\n",
       "                var nbb_cell_id = 19;\n",
       "                var nbb_unformatted_code = \"def percentile_rows(series_seq, ps):\\n    \\\"\\\"\\\"Computes percentiles from aligned series.\\n\\n    series_seq: list of sequences\\n    ps: cumulative probabilities\\n\\n    returns: Series of x-values, NumPy array with selected rows\\n    \\\"\\\"\\\"\\n    df = pd.concat(series_seq, axis=1).dropna()\\n    xs = df.index\\n    array = df.values.transpose()\\n    array = np.sort(array, axis=0)\\n    nrows, _ = array.shape\\n\\n    ps = np.asarray(ps)\\n    indices = (ps * nrows).astype(int)\\n    rows = array[indices]\\n    return xs, rows\";\n",
       "                var nbb_formatted_code = \"def percentile_rows(series_seq, ps):\\n    \\\"\\\"\\\"Computes percentiles from aligned series.\\n\\n    series_seq: list of sequences\\n    ps: cumulative probabilities\\n\\n    returns: Series of x-values, NumPy array with selected rows\\n    \\\"\\\"\\\"\\n    df = pd.concat(series_seq, axis=1).dropna()\\n    xs = df.index\\n    array = df.values.transpose()\\n    array = np.sort(array, axis=0)\\n    nrows, _ = array.shape\\n\\n    ps = np.asarray(ps)\\n    indices = (ps * nrows).astype(int)\\n    rows = array[indices]\\n    return xs, rows\";\n",
       "                var nbb_cells = Jupyter.notebook.get_cells();\n",
       "                for (var i = 0; i < nbb_cells.length; ++i) {\n",
       "                    if (nbb_cells[i].input_prompt_number == nbb_cell_id) {\n",
       "                        if (nbb_cells[i].get_text() == nbb_unformatted_code) {\n",
       "                             nbb_cells[i].set_text(nbb_formatted_code);\n",
       "                        }\n",
       "                        break;\n",
       "                    }\n",
       "                }\n",
       "            }, 500);\n",
       "            "
      ],
      "text/plain": [
       "<IPython.core.display.Javascript object>"
      ]
     },
     "metadata": {},
     "output_type": "display_data"
    }
   ],
   "source": [
    "def percentile_rows(series_seq, ps):\n",
    "    \"\"\"Computes percentiles from aligned series.\n",
    "\n",
    "    series_seq: list of sequences\n",
    "    ps: cumulative probabilities\n",
    "\n",
    "    returns: Series of x-values, NumPy array with selected rows\n",
    "    \"\"\"\n",
    "    df = pd.concat(series_seq, axis=1).dropna()\n",
    "    xs = df.index\n",
    "    array = df.values.transpose()\n",
    "    array = np.sort(array, axis=0)\n",
    "    nrows, _ = array.shape\n",
    "\n",
    "    ps = np.asarray(ps)\n",
    "    indices = (ps * nrows).astype(int)\n",
    "    rows = array[indices]\n",
    "    return xs, rows"
   ]
  },
  {
   "cell_type": "code",
   "execution_count": 20,
   "id": "2b6a20f5",
   "metadata": {},
   "outputs": [
    {
     "data": {
      "application/javascript": [
       "\n",
       "            setTimeout(function() {\n",
       "                var nbb_cell_id = 20;\n",
       "                var nbb_unformatted_code = \"def resample_rows_weighted(df, column):\\n    \\\"\\\"\\\"Resamples a DataFrame using probabilities proportional to given column.\\n\\n    df: DataFrame\\n    column: string column name to use as weights\\n\\n    returns: DataFrame\\n    \\\"\\\"\\\"\\n    weights = df[column]\\n    sample = df.sample(n=len(df), replace=True, weights=weights)\\n    return sample\";\n",
       "                var nbb_formatted_code = \"def resample_rows_weighted(df, column):\\n    \\\"\\\"\\\"Resamples a DataFrame using probabilities proportional to given column.\\n\\n    df: DataFrame\\n    column: string column name to use as weights\\n\\n    returns: DataFrame\\n    \\\"\\\"\\\"\\n    weights = df[column]\\n    sample = df.sample(n=len(df), replace=True, weights=weights)\\n    return sample\";\n",
       "                var nbb_cells = Jupyter.notebook.get_cells();\n",
       "                for (var i = 0; i < nbb_cells.length; ++i) {\n",
       "                    if (nbb_cells[i].input_prompt_number == nbb_cell_id) {\n",
       "                        if (nbb_cells[i].get_text() == nbb_unformatted_code) {\n",
       "                             nbb_cells[i].set_text(nbb_formatted_code);\n",
       "                        }\n",
       "                        break;\n",
       "                    }\n",
       "                }\n",
       "            }, 500);\n",
       "            "
      ],
      "text/plain": [
       "<IPython.core.display.Javascript object>"
      ]
     },
     "metadata": {},
     "output_type": "display_data"
    }
   ],
   "source": [
    "def resample_rows_weighted(df, column):\n",
    "    \"\"\"Resamples a DataFrame using probabilities proportional to given column.\n",
    "\n",
    "    df: DataFrame\n",
    "    column: string column name to use as weights\n",
    "\n",
    "    returns: DataFrame\n",
    "    \"\"\"\n",
    "    weights = df[column]\n",
    "    sample = df.sample(n=len(df), replace=True, weights=weights)\n",
    "    return sample"
   ]
  },
  {
   "cell_type": "code",
   "execution_count": 21,
   "id": "fa60b127",
   "metadata": {},
   "outputs": [
    {
     "data": {
      "application/javascript": [
       "\n",
       "            setTimeout(function() {\n",
       "                var nbb_cell_id = 21;\n",
       "                var nbb_unformatted_code = \"subset = df.query(\\\"year >= 1972\\\").copy()\";\n",
       "                var nbb_formatted_code = \"subset = df.query(\\\"year >= 1972\\\").copy()\";\n",
       "                var nbb_cells = Jupyter.notebook.get_cells();\n",
       "                for (var i = 0; i < nbb_cells.length; ++i) {\n",
       "                    if (nbb_cells[i].input_prompt_number == nbb_cell_id) {\n",
       "                        if (nbb_cells[i].get_text() == nbb_unformatted_code) {\n",
       "                             nbb_cells[i].set_text(nbb_formatted_code);\n",
       "                        }\n",
       "                        break;\n",
       "                    }\n",
       "                }\n",
       "            }, 500);\n",
       "            "
      ],
      "text/plain": [
       "<IPython.core.display.Javascript object>"
      ]
     },
     "metadata": {},
     "output_type": "display_data"
    }
   ],
   "source": [
    "subset = df.query(\"year >= 1972\").copy()"
   ]
  },
  {
   "cell_type": "code",
   "execution_count": 22,
   "id": "af452664",
   "metadata": {},
   "outputs": [
    {
     "data": {
      "application/javascript": [
       "\n",
       "            setTimeout(function() {\n",
       "                var nbb_cell_id = 22;\n",
       "                var nbb_unformatted_code = \"sample = resample_by_year(subset, \\\"wtsamp\\\")\\nsubset = sample\";\n",
       "                var nbb_formatted_code = \"sample = resample_by_year(subset, \\\"wtsamp\\\")\\nsubset = sample\";\n",
       "                var nbb_cells = Jupyter.notebook.get_cells();\n",
       "                for (var i = 0; i < nbb_cells.length; ++i) {\n",
       "                    if (nbb_cells[i].input_prompt_number == nbb_cell_id) {\n",
       "                        if (nbb_cells[i].get_text() == nbb_unformatted_code) {\n",
       "                             nbb_cells[i].set_text(nbb_formatted_code);\n",
       "                        }\n",
       "                        break;\n",
       "                    }\n",
       "                }\n",
       "            }, 500);\n",
       "            "
      ],
      "text/plain": [
       "<IPython.core.display.Javascript object>"
      ]
     },
     "metadata": {},
     "output_type": "display_data"
    }
   ],
   "source": [
    "sample = resample_by_year(subset, \"wtsamp\")\n",
    "subset = sample"
   ]
  },
  {
   "cell_type": "markdown",
   "id": "74ffd754",
   "metadata": {},
   "source": [
    "## Find Controversial Questions\n",
    "\n",
    "This section explores the questions where we see the biggest difference in responses between liberals and conservatives."
   ]
  },
  {
   "cell_type": "code",
   "execution_count": 23,
   "id": "9ecf079a",
   "metadata": {},
   "outputs": [
    {
     "data": {
      "application/javascript": [
       "\n",
       "            setTimeout(function() {\n",
       "                var nbb_cell_id = 23;\n",
       "                var nbb_unformatted_code = \"df_con = subset.query('polviews3 == \\\"Conservative\\\"')\\ndf_lib = subset.query('polviews3 == \\\"Liberal\\\"')\";\n",
       "                var nbb_formatted_code = \"df_con = subset.query('polviews3 == \\\"Conservative\\\"')\\ndf_lib = subset.query('polviews3 == \\\"Liberal\\\"')\";\n",
       "                var nbb_cells = Jupyter.notebook.get_cells();\n",
       "                for (var i = 0; i < nbb_cells.length; ++i) {\n",
       "                    if (nbb_cells[i].input_prompt_number == nbb_cell_id) {\n",
       "                        if (nbb_cells[i].get_text() == nbb_unformatted_code) {\n",
       "                             nbb_cells[i].set_text(nbb_formatted_code);\n",
       "                        }\n",
       "                        break;\n",
       "                    }\n",
       "                }\n",
       "            }, 500);\n",
       "            "
      ],
      "text/plain": [
       "<IPython.core.display.Javascript object>"
      ]
     },
     "metadata": {},
     "output_type": "display_data"
    }
   ],
   "source": [
    "df_con = subset.query('polviews3 == \"Conservative\"')\n",
    "df_lib = subset.query('polviews3 == \"Liberal\"')"
   ]
  },
  {
   "cell_type": "code",
   "execution_count": 24,
   "id": "6592d6ee",
   "metadata": {},
   "outputs": [
    {
     "data": {
      "application/javascript": [
       "\n",
       "            setTimeout(function() {\n",
       "                var nbb_cell_id = 24;\n",
       "                var nbb_unformatted_code = \"def compute_diff(col):\\n    con = df_con[col].dropna().value_counts()\\n    if len(con) == 0:\\n        return np.nan\\n    lib = df_lib[col].dropna().value_counts()\\n    value = con.idxmax()\\n    p_con = con[value] / con.sum()\\n    p_lib = lib.get(value, np.nan) / lib.sum()\\n    return abs(p_con - p_lib)\";\n",
       "                var nbb_formatted_code = \"def compute_diff(col):\\n    con = df_con[col].dropna().value_counts()\\n    if len(con) == 0:\\n        return np.nan\\n    lib = df_lib[col].dropna().value_counts()\\n    value = con.idxmax()\\n    p_con = con[value] / con.sum()\\n    p_lib = lib.get(value, np.nan) / lib.sum()\\n    return abs(p_con - p_lib)\";\n",
       "                var nbb_cells = Jupyter.notebook.get_cells();\n",
       "                for (var i = 0; i < nbb_cells.length; ++i) {\n",
       "                    if (nbb_cells[i].input_prompt_number == nbb_cell_id) {\n",
       "                        if (nbb_cells[i].get_text() == nbb_unformatted_code) {\n",
       "                             nbb_cells[i].set_text(nbb_formatted_code);\n",
       "                        }\n",
       "                        break;\n",
       "                    }\n",
       "                }\n",
       "            }, 500);\n",
       "            "
      ],
      "text/plain": [
       "<IPython.core.display.Javascript object>"
      ]
     },
     "metadata": {},
     "output_type": "display_data"
    }
   ],
   "source": [
    "def compute_diff(col):\n",
    "    con = df_con[col].dropna().value_counts()\n",
    "    if len(con) == 0:\n",
    "        return np.nan\n",
    "    lib = df_lib[col].dropna().value_counts()\n",
    "    value = con.idxmax()\n",
    "    p_con = con[value] / con.sum()\n",
    "    p_lib = lib.get(value, np.nan) / lib.sum()\n",
    "    return abs(p_con - p_lib)"
   ]
  },
  {
   "cell_type": "code",
   "execution_count": 25,
   "id": "2886e1ec",
   "metadata": {},
   "outputs": [
    {
     "data": {
      "text/html": [
       "<div>\n",
       "<style scoped>\n",
       "    .dataframe tbody tr th:only-of-type {\n",
       "        vertical-align: middle;\n",
       "    }\n",
       "\n",
       "    .dataframe tbody tr th {\n",
       "        vertical-align: top;\n",
       "    }\n",
       "\n",
       "    .dataframe thead th {\n",
       "        text-align: right;\n",
       "    }\n",
       "</style>\n",
       "<table border=\"1\" class=\"dataframe\">\n",
       "  <thead>\n",
       "    <tr style=\"text-align: right;\">\n",
       "      <th></th>\n",
       "      <th>name</th>\n",
       "      <th>diff</th>\n",
       "    </tr>\n",
       "  </thead>\n",
       "  <tbody>\n",
       "    <tr>\n",
       "      <th>598</th>\n",
       "      <td>VCF0849</td>\n",
       "      <td>0.968694</td>\n",
       "    </tr>\n",
       "    <tr>\n",
       "      <th>155</th>\n",
       "      <td>VCF0303</td>\n",
       "      <td>0.600038</td>\n",
       "    </tr>\n",
       "    <tr>\n",
       "      <th>514</th>\n",
       "      <td>VCF0713</td>\n",
       "      <td>0.569138</td>\n",
       "    </tr>\n",
       "    <tr>\n",
       "      <th>504</th>\n",
       "      <td>VCF0704</td>\n",
       "      <td>0.534672</td>\n",
       "    </tr>\n",
       "    <tr>\n",
       "      <th>505</th>\n",
       "      <td>VCF0704a</td>\n",
       "      <td>0.534672</td>\n",
       "    </tr>\n",
       "    <tr>\n",
       "      <th>...</th>\n",
       "      <td>...</td>\n",
       "      <td>...</td>\n",
       "    </tr>\n",
       "    <tr>\n",
       "      <th>596</th>\n",
       "      <td>VCF0848</td>\n",
       "      <td>0.000215</td>\n",
       "    </tr>\n",
       "    <tr>\n",
       "      <th>672</th>\n",
       "      <td>VCF0929</td>\n",
       "      <td>0.000176</td>\n",
       "    </tr>\n",
       "    <tr>\n",
       "      <th>161</th>\n",
       "      <td>VCF0310</td>\n",
       "      <td>0.000030</td>\n",
       "    </tr>\n",
       "    <tr>\n",
       "      <th>73</th>\n",
       "      <td>VCF0131</td>\n",
       "      <td>0.000000</td>\n",
       "    </tr>\n",
       "    <tr>\n",
       "      <th>0</th>\n",
       "      <td>Version</td>\n",
       "      <td>0.000000</td>\n",
       "    </tr>\n",
       "  </tbody>\n",
       "</table>\n",
       "<p>928 rows × 2 columns</p>\n",
       "</div>"
      ],
      "text/plain": [
       "         name      diff\n",
       "598   VCF0849  0.968694\n",
       "155   VCF0303  0.600038\n",
       "514   VCF0713  0.569138\n",
       "504   VCF0704  0.534672\n",
       "505  VCF0704a  0.534672\n",
       "..        ...       ...\n",
       "596   VCF0848  0.000215\n",
       "672   VCF0929  0.000176\n",
       "161   VCF0310  0.000030\n",
       "73    VCF0131  0.000000\n",
       "0     Version  0.000000\n",
       "\n",
       "[928 rows x 2 columns]"
      ]
     },
     "execution_count": 25,
     "metadata": {},
     "output_type": "execute_result"
    },
    {
     "data": {
      "application/javascript": [
       "\n",
       "            setTimeout(function() {\n",
       "                var nbb_cell_id = 25;\n",
       "                var nbb_unformatted_code = \"res = []\\nfor col in subset.columns:\\n    diff = compute_diff(col)\\n    res.append((col, diff))\\n\\ncolumns = [\\\"name\\\", \\\"diff\\\"]\\ncandidates = (\\n    pd.DataFrame(res, columns=columns).dropna().sort_values(by=\\\"diff\\\", ascending=False)\\n)\\ncandidates\";\n",
       "                var nbb_formatted_code = \"res = []\\nfor col in subset.columns:\\n    diff = compute_diff(col)\\n    res.append((col, diff))\\n\\ncolumns = [\\\"name\\\", \\\"diff\\\"]\\ncandidates = (\\n    pd.DataFrame(res, columns=columns).dropna().sort_values(by=\\\"diff\\\", ascending=False)\\n)\\ncandidates\";\n",
       "                var nbb_cells = Jupyter.notebook.get_cells();\n",
       "                for (var i = 0; i < nbb_cells.length; ++i) {\n",
       "                    if (nbb_cells[i].input_prompt_number == nbb_cell_id) {\n",
       "                        if (nbb_cells[i].get_text() == nbb_unformatted_code) {\n",
       "                             nbb_cells[i].set_text(nbb_formatted_code);\n",
       "                        }\n",
       "                        break;\n",
       "                    }\n",
       "                }\n",
       "            }, 500);\n",
       "            "
      ],
      "text/plain": [
       "<IPython.core.display.Javascript object>"
      ]
     },
     "metadata": {},
     "output_type": "display_data"
    }
   ],
   "source": [
    "res = []\n",
    "for col in subset.columns:\n",
    "    diff = compute_diff(col)\n",
    "    res.append((col, diff))\n",
    "\n",
    "columns = [\"name\", \"diff\"]\n",
    "candidates = (\n",
    "    pd.DataFrame(res, columns=columns).dropna().sort_values(by=\"diff\", ascending=False)\n",
    ")\n",
    "candidates"
   ]
  },
  {
   "cell_type": "code",
   "execution_count": 26,
   "id": "521858c4",
   "metadata": {},
   "outputs": [
    {
     "data": {
      "application/javascript": [
       "\n",
       "            setTimeout(function() {\n",
       "                var nbb_cell_id = 26;\n",
       "                var nbb_unformatted_code = \"string_to_empty_dict = {key: \\\"\\\" for key in candidates[\\\"name\\\"]}\";\n",
       "                var nbb_formatted_code = \"string_to_empty_dict = {key: \\\"\\\" for key in candidates[\\\"name\\\"]}\";\n",
       "                var nbb_cells = Jupyter.notebook.get_cells();\n",
       "                for (var i = 0; i < nbb_cells.length; ++i) {\n",
       "                    if (nbb_cells[i].input_prompt_number == nbb_cell_id) {\n",
       "                        if (nbb_cells[i].get_text() == nbb_unformatted_code) {\n",
       "                             nbb_cells[i].set_text(nbb_formatted_code);\n",
       "                        }\n",
       "                        break;\n",
       "                    }\n",
       "                }\n",
       "            }, 500);\n",
       "            "
      ],
      "text/plain": [
       "<IPython.core.display.Javascript object>"
      ]
     },
     "metadata": {},
     "output_type": "display_data"
    }
   ],
   "source": [
    "string_to_empty_dict = {key: \"\" for key in candidates[\"name\"]}"
   ]
  },
  {
   "cell_type": "markdown",
   "id": "27cea2ef",
   "metadata": {},
   "source": [
    "Most variables that show a strong difference are questions about political parties and things like that.\n",
    "I've identified the ones that ask about attitudes, beliefs, and policies."
   ]
  },
  {
   "cell_type": "code",
   "execution_count": 27,
   "id": "16ff5b18",
   "metadata": {},
   "outputs": [
    {
     "data": {
      "application/javascript": [
       "\n",
       "            setTimeout(function() {\n",
       "                var nbb_cell_id = 27;\n",
       "                var nbb_unformatted_code = \"candidate_dict = {\\n    \\\"VCF0849\\\": \\\"lib or con\\\",\\n    \\\"VCF0303\\\": \\\"partyid\\\",\\n    \\\"VCF0713\\\": \\\"\\\",\\n    \\\"VCF9204\\\": \\\"\\\",\\n    \\\"VCF0704\\\": \\\"\\\",\\n    \\\"VCF0705\\\": \\\"\\\",\\n    \\\"VCF0704a\\\": \\\"\\\",\\n    \\\"VCF0706\\\": \\\"\\\",\\n    \\\"VCF9205\\\": \\\"\\\",\\n    \\\"VCF9027\\\": \\\"\\\",\\n    \\\"VCF0487\\\": \\\"\\\",\\n    \\\"VCF9209\\\": \\\"\\\",\\n    \\\"VCF0475\\\": \\\"\\\",\\n    \\\"VCF9212\\\": \\\"\\\",\\n    \\\"VCF0372\\\": \\\"\\\",\\n    \\\"VCF0360\\\": \\\"\\\",\\n    \\\"partyid3\\\": \\\"\\\",\\n    \\\"VCF9210\\\": \\\"\\\",\\n    \\\"VCF0734\\\": \\\"\\\",\\n    \\\"VCF9131\\\": \\\"LESS GOVERNMENT BETTER OR GOVERNMENT DO MORE\\\",\\n    \\\"VCF0709\\\": \\\"\\\",\\n    \\\"VCF0386\\\": \\\"\\\",\\n    \\\"VCF0373\\\": \\\"\\\",\\n    \\\"VCF0894\\\": \\\"FEDERAL SPENDING- WELFARE PROGRAMS\\\",\\n    \\\"VCF0481\\\": \\\"\\\",\\n    \\\"VCF0361\\\": \\\"\\\",\\n    \\\"VCF0700\\\": \\\"\\\",\\n    \\\"VCF0374\\\": \\\"\\\",\\n    \\\"VCF0493\\\": \\\"\\\",\\n    \\\"VCF0707\\\": \\\"\\\",\\n    \\\"VCF0736\\\": \\\"\\\",\\n    \\\"VCF9133\\\": \\\"GOVT TOO INVOLVED IN THINGS OR PROBLEMS REQUIRE\\\",\\n    \\\"VCF0876a\\\": \\\"LAW TO PROTECT HOMOSEXUALS AGAINST DISCRIMINATION\\\",\\n    \\\"VCF9238\\\": \\\"SHOULD THE GOVERNMENT MAKE IT MORE DIFFICULT OR EASIER TO BUY A GUN, OR SHOULD THE RULES STAY THE SAME AS THEY ARE NOW\\\",\\n    \\\"VCF0385b\\\": \\\"\\\",\\n    \\\"VCF0401\\\": \\\"\\\",\\n    \\\"VCF0370\\\": \\\"\\\",\\n    \\\"VCF0371\\\": \\\"\\\",\\n    \\\"VCF0853\\\": \\\"SHOULD BE MORE EMPHASIS ON TRADITIONAL VALUES\\\",\\n    \\\"VCF0878\\\": \\\"SHOULD GAYS/LESBIANS BE ABLE TO ADOPT CHILDREN\\\",\\n    \\\"VCF9228\\\": \\\"MUCH OR SOMEWHAT LARGER/SMALLER GAP IN INCOMES BETWEEN RICH AND POOR IN THE U.S. THAN 20 YEARS AGO\\\",\\n    \\\"VCF0867a\\\": \\\"AFFIRMATIVE ACTION IN HIRING/PROMOTION\\\",\\n    \\\"VCF0405\\\": \\\"\\\",\\n    \\\"VCF0359\\\": \\\"\\\",\\n    \\\"VCF9085\\\": \\\"\\\",\\n    \\\"VCF9132\\\": \\\"GOVT HANDLE ECONOMY OR FREE MARKET CAN HANDLE\\\",\\n    \\\"VCF0877a\\\": \\\"POSITION ON GAYS IN THE MILITARY\\\",\\n    \\\"VCF9237\\\": \\\"STRENGTH FAVOR/OPPOSE THE DEATH PENALTY FOR PERSONS CONVICTED OF MURDER\\\",\\n    \\\"VCF9236\\\": \\\"FAVOR OR OPPOSE THE DEATH PENALTY FOR PERSONS CONVICTED OF MURDER\\\",\\n    \\\"VCF9207\\\": \\\"\\\",\\n    \\\"VCF9275\\\": \\\"IN AMERICAN POLITICS, DO BLACKS HAVE TOO MUCH, ABOUT THE RIGHT AMOUNT OF, OR TOO LITTLE INFLUENCE\\\",\\n    \\\"partyid\\\": \\\"\\\",\\n    \\\"VCF0890\\\": \\\"FEDERAL SPENDING- PUBLIC SCHOOLS\\\",\\n    \\\"VCF9219\\\": \\\"\\\",\\n    \\\"VCF0358\\\": \\\"\\\",\\n    \\\"VCF1043b\\\": \\\"\\\",\\n    \\\"VCF9086\\\": \\\"\\\",\\n    \\\"VCF9213\\\": \\\"\\\",\\n    \\\"VCF0369\\\": \\\"\\\",\\n    \\\"VCF9211\\\": \\\"\\\",\\n    \\\"VCF9088\\\": \\\"\\\",\\n    \\\"VCF0833\\\": \\\"FAVOR OR OPPOSE EQUAL RIGHTS AMENDMENT\\\",\\n    \\\"VCF0406\\\": \\\"\\\",\\n    \\\"VCF0601\\\": \\\"APPROVE PARTICIPATION IN PROTESTS\\\",\\n    \\\"VCF0851\\\": \\\"NEWER LIFESTYLES CONTRIBUTE TO SOCIETY BREAKDOWN\\\",\\n    \\\"VCF0852\\\": \\\"SHOULD ADJUST VIEW OF MORAL BEHAVIOR TO CHANGES\\\",\\n    \\\"VCF0867\\\": \\\"AFFIRMATIVE ACTION IN HIRING/PROMOTION\\\",\\n    \\\"VCF0893\\\": \\\"FEDERAL SPENDING- THE HOMELESS\\\",\\n    \\\"VCF0846\\\": \\\"IS RELIGION IMPORTANT TO RESPONDENT\\\",\\n    \\\"VCF9241\\\": \\\"\\\",\\n    \\\"VCF1004\\\": \\\"\\\",\\n    \\\"VCF0738\\\": \\\"\\\",\\n    \\\"VCF0392\\\": \\\"\\\",\\n    \\\"VCF9215\\\": \\\"\\\",\\n    \\\"VCF0879a\\\": \\\"INCREASE OR DECREASE NUMBER OF IMMIGRANTS TO U.S. 4-CATEGORY\\\",\\n    \\\"VCF0889\\\": \\\"FEDERAL SPENDING- AIDS RESEARCH/FIGHT AIDS\\\",\\n    \\\"VCF9028\\\": \\\"\\\",\\n    \\\"VCF0876\\\": \\\"LAW TO PROTECT HOMOSEXUALS AGAINST DISCRIMINATION\\\",\\n    \\\"VCF9216\\\": \\\"\\\",\\n    \\\"VCF9249\\\": \\\"WHICH IS MORE IMPORTANT FOR A CHILD TO HAVE: INDEPENDENCE OR RESPECT FOR ELDERS\\\",\\n    \\\"VCF0828\\\": \\\"SHOULD GOVERNMENT CUT MILITARY SPENDING\\\",\\n    \\\"VCF0838\\\": \\\"WHEN SHOULD ABORTION BE ALLOWED\\\",\\n    \\\"VCF9247\\\": \\\"WHICH IS MORE IMPORTANT FOR A CHILD TO HAVE: OBEDIENCE OR SELF-RELIANCE\\\",\\n    \\\"VCF1042b\\\": \\\"\\\",\\n    \\\"VCF9227\\\": \\\"DOES R THINK THE DIFFERENCE IN INCOMES BETWEEN RICH AND POOR IN THE U.S. IS LARGER, SMALLER, OR ABOUT THE SAME AS 20 YEARS AGO\\\",\\n    \\\"VCF9040\\\": \\\"BLACKS SHOULD NOT HAVE SPECIAL FAVORS TO SUCCEED\\\",\\n    \\\"VCF0424\\\": \\\"\\\",\\n    \\\"VCF9246\\\": \\\"WHICH IS MORE IMPORTANT FOR A CHILD TO HAVE: CURIOSITY OR GOOD MANNERS\\\",\\n    \\\"VCF0318\\\": \\\"\\\",\\n    \\\"VCF0826\\\": \\\"DID U.S. DO RIGHT THING GETTING INVOLVED IN WAR (DIFFERENT WARS)\\\",\\n    \\\"VCF9047\\\": \\\"FEDERAL SPENDING- IMPROVE AND PROTECT THE ENVIRONMENT\\\",\\n    \\\"VCF9046\\\": \\\"FEDERAL SPENDING- FOOD STAMPS\\\",\\n    \\\"VCF0391b\\\": \\\"\\\",\\n    \\\"VCF0603\\\": \\\"APPROVE DEMONSTRATIONS\\\",\\n    \\\"VCF0602\\\": \\\"APPROVE CIVIL DISOBEDIENCE\\\",\\n    \\\"VCF0314\\\": \\\"\\\",\\n    \\\"VCF0808\\\": \\\"GUARANTEED JOBS AND INCOME\\\",\\n    \\\"VCF9214\\\": \\\"\\\",\\n    \\\"VCF9084\\\": \\\"\\\",\\n    \\\"VCF0380\\\": \\\"\\\",\\n    \\\"VCF9008\\\": \\\"\\\",\\n    \\\"VCF0877\\\": \\\"FAVOR OR OPPOSE GAYS IN THE MILITARY\\\",\\n    \\\"VCF0834\\\": \\\"WOMEN EQUAL ROLE SCALE\\\",\\n    \\\"VCF0387b\\\": \\\"\\\",\\n    \\\"VCF0866\\\": \\\"\\\",\\n    \\\"VCF9201\\\": \\\"\\\",\\n    \\\"VCF0817\\\": \\\"SCHOOL BUSING SCALE\\\",\\n    \\\"VCF9013\\\": \\\"SOCIETY SHOULD ENSURE EQUAL OPPORTUNITY TO SUCCEED\\\",\\n    \\\"VCF9014\\\": \\\"WE HAVE GONE TOO FAR PUSHING EQUAL RIGHTS\\\",\\n    \\\"VCF0738a\\\": \\\"\\\",\\n    \\\"VCF0402\\\": \\\"\\\",\\n    \\\"VCF9232\\\": \\\"FAVOR OR OPPOSE THE U.S. GOVERNMENT TORTURING PEOPLE WHO ARE SUSPECTED OF BEING TERRORISTS, TO TRY TO GET INFORMATION\\\",\\n    \\\"VCF0128\\\": \\\"\\\",\\n    \\\"VCF0425\\\": \\\"\\\",\\n    \\\"VCF9037\\\": \\\"GOVERNMENT SHOULD ENSURE FAIR JOBS FOR BLACKS\\\",\\n    \\\"VCF0363\\\": \\\"\\\",\\n    \\\"VCF9042\\\": \\\"BLACKS GOTTEN LESS THAN THEY DESERVE OVER THE PAST FEW YEARS\\\",\\n    \\\"VCF0365\\\": \\\"\\\",\\n    \\\"VCF9077\\\": \\\"PRESIDENT ON GOVERNMENT HEALTH INSURANCE SCALE\\\",\\n    \\\"VCF0215\\\": \\\"THERMOMETER\\\",\\n    \\\"VCF0471\\\": \\\"\\\",\\n    \\\"VCF0235\\\": \\\"\\\",\\n    \\\"VCF9051\\\": \\\"SCHOOL PRAYER ALLOWED 2-CATEGORY\\\",\\n    \\\"VCF0847\\\": \\\"HOW MUCH GUIDANCE FROM RELIGION\\\",\\n    \\\"VCF9017\\\": \\\"SHOULD WORRY LESS ABOUT HOW EQUAL PEOPLE ARE\\\",\\n    \\\"VCF1037b\\\": \\\"\\\",\\n    \\\"VCF0806\\\": \\\"GOVERNMENT HEALTH INSURANCE SCALE\\\",\\n    \\\"VCF0426\\\": \\\"\\\",\\n    \\\"VCF0357\\\": \\\"\\\",\\n    \\\"VCF0130\\\": \\\"\\\",\\n    \\\"VCF0711\\\": \\\"\\\",\\n    \\\"VCF0886\\\": \\\"FEDERAL SPENDING- POOR/POOR PEOPLE\\\",\\n    \\\"VCF9280\\\": \\\"\\\",\\n    \\\"VCF0442\\\": \\\"\\\",\\n    \\\"VCF9221\\\": \\\"\\\",\\n    \\\"VCF0387a\\\": \\\"\\\",\\n    \\\"VCF0815\\\": \\\"SEGREGATION OR DESEGREGATION\\\",\\n    \\\"VCF0837\\\": \\\"WHEN SHOULD ABORTION BE ALLOWED\\\",\\n    \\\"VCF0809\\\": \\\"GUARANTEED JOBS AND INCOME SCALE\\\",\\n    \\\"VCF0147\\\": \\\"\\\",\\n    \\\"VCF0212\\\": \\\"\\\",\\n    \\\"VCF1030b\\\": \\\"\\\",\\n    \\\"VCF0447\\\": \\\"\\\",\\n    \\\"VCF9235\\\": \\\"\\\",\\n    \\\"VCF9202\\\": \\\"\\\",\\n    \\\"VCF9041\\\": \\\"BLACKS MUST TRY HARDER TO SUCCEED\\\",\\n    \\\"VCF9014\\\": \\\"WE HAVE GONE TOO FAR PUSHING EQUAL RIGHTS\\\",\\n    \\\"VCF0381b\\\": \\\"\\\",\\n    \\\"VCF0830\\\": \\\"AID TO BLACKS SCALE\\\",\\n    \\\"VCF0443\\\": \\\"\\\",\\n    \\\"VCF0440\\\": \\\"\\\",\\n    \\\"VCF0816\\\": \\\"SHOULD GOVERNMENT ENSURE SCHOOL INTEGRATION\\\",\\n    \\\"VCF0319\\\": \\\"\\\",\\n    \\\"VCF9087\\\": \\\"\\\",\\n    \\\"VCF0146\\\": \\\"\\\",\\n    \\\"VCF0218\\\": \\\"\\\",\\n    \\\"VCF0356\\\": \\\"\\\",\\n    \\\"VCF1038\\\": \\\"\\\",\\n    \\\"VCF0860\\\": \\\"\\\",\\n    \\\"VCF0224\\\": \\\"\\\",\\n    \\\"VCF0355\\\": \\\"\\\",\\n    \\\"VCF0433\\\": \\\"\\\",\\n    \\\"VCF0845\\\": \\\"\\\",\\n    \\\"VCF9208\\\": \\\"\\\",\\n    \\\"VCF0985\\\": \\\"\\\",\\n    \\\"VCF1032\\\": \\\"\\\",\\n    \\\"VCF0888\\\": \\\"FEDERAL SPENDING- DEALING WITH CRIME\\\",\\n    \\\"VCF0427\\\": \\\"\\\",\\n    \\\"VCF9240\\\": \\\"\\\",\\n    \\\"VCF0315\\\": \\\"\\\",\\n    \\\"VCF0381a\\\": \\\"\\\",\\n    \\\"VCF9015\\\": \\\"BIG PROBLEM THAT NOT EVERYONE HAS EQUAL CHANCE\\\",\\n    \\\"VCF0892\\\": \\\"FEDERAL SPENDING- FOREIGN AID\\\",\\n    \\\"VCF9016\\\": \\\"NOT BIG PROBLEM IF SOME HAVE MORE CHANCE IN LIFE\\\",\\n    \\\"VCF0153b\\\": \\\"\\\",\\n    \\\"VCF0130a\\\": \\\"\\\",\\n    \\\"VCF9220\\\": \\\"\\\",\\n    \\\"VCF0606\\\": \\\"HOW MUCH DOES THE FEDERAL GOVERNMENT WASTE TAX MONEY\\\",\\n    \\\"VCF0508\\\": \\\"\\\",\\n    \\\"VCF0384b\\\": \\\"\\\",\\n    \\\"VCF0748\\\": \\\"\\\",\\n    \\\"VCF0339\\\": \\\"\\\",\\n    \\\"VCF9094\\\": \\\"\\\",\\n    \\\"VCF9078\\\": \\\"\\\",\\n    \\\"VCF0842\\\": \\\"ENVIRONMENTAL REGULATION SCALE\\\",\\n    \\\"VCF9231\\\": \\\"FAVOR OR OPPOSE PLACING LIMITS ON IMPORTS TO PROTECT AMERICAN JOBS\\\",\\n    \\\"VCF0891\\\": \\\"FEDERAL SPENDING- FIN AID FOR COLLEGE STUDENTS\\\",\\n    \\\"VCF0233\\\": \\\"\\\",\\n    \\\"VCF0153a\\\": \\\"\\\",\\n    \\\"VCF0368\\\": \\\"\\\",\\n    \\\"VCF9081\\\": \\\"\\\",\\n    \\\"VCF9048\\\": \\\"FEDERAL SPENDING- SPACE/SCIENCE/TECHNOLOGY\\\",\\n    \\\"VCF9092\\\": \\\"\\\",\\n    \\\"VCF9039\\\": \\\"CONDITIONS MAKE IT DIFFICULT FOR BLACKS TO SUCCEED\\\",\\n    \\\"VCF9248\\\": \\\"WHICH IS MORE IMPORTANT FOR A CHILD TO BE: CONSIDERATE OR WELL-BEHAVED\\\",\\n    \\\"VCF9226\\\": \\\"\\\",\\n    \\\"VCF0396b\\\": \\\"\\\",\\n    \\\"VCF1020\\\": \\\"\\\",\\n    \\\"VCF0338\\\": \\\"\\\",\\n    \\\"VCF0829\\\": \\\"IS THE GOVERNMENT IN WASHINGTON TOO STRONG\\\",\\n    \\\"VCF0214\\\": \\\"\\\",\\n}\";\n",
       "                var nbb_formatted_code = \"candidate_dict = {\\n    \\\"VCF0849\\\": \\\"lib or con\\\",\\n    \\\"VCF0303\\\": \\\"partyid\\\",\\n    \\\"VCF0713\\\": \\\"\\\",\\n    \\\"VCF9204\\\": \\\"\\\",\\n    \\\"VCF0704\\\": \\\"\\\",\\n    \\\"VCF0705\\\": \\\"\\\",\\n    \\\"VCF0704a\\\": \\\"\\\",\\n    \\\"VCF0706\\\": \\\"\\\",\\n    \\\"VCF9205\\\": \\\"\\\",\\n    \\\"VCF9027\\\": \\\"\\\",\\n    \\\"VCF0487\\\": \\\"\\\",\\n    \\\"VCF9209\\\": \\\"\\\",\\n    \\\"VCF0475\\\": \\\"\\\",\\n    \\\"VCF9212\\\": \\\"\\\",\\n    \\\"VCF0372\\\": \\\"\\\",\\n    \\\"VCF0360\\\": \\\"\\\",\\n    \\\"partyid3\\\": \\\"\\\",\\n    \\\"VCF9210\\\": \\\"\\\",\\n    \\\"VCF0734\\\": \\\"\\\",\\n    \\\"VCF9131\\\": \\\"LESS GOVERNMENT BETTER OR GOVERNMENT DO MORE\\\",\\n    \\\"VCF0709\\\": \\\"\\\",\\n    \\\"VCF0386\\\": \\\"\\\",\\n    \\\"VCF0373\\\": \\\"\\\",\\n    \\\"VCF0894\\\": \\\"FEDERAL SPENDING- WELFARE PROGRAMS\\\",\\n    \\\"VCF0481\\\": \\\"\\\",\\n    \\\"VCF0361\\\": \\\"\\\",\\n    \\\"VCF0700\\\": \\\"\\\",\\n    \\\"VCF0374\\\": \\\"\\\",\\n    \\\"VCF0493\\\": \\\"\\\",\\n    \\\"VCF0707\\\": \\\"\\\",\\n    \\\"VCF0736\\\": \\\"\\\",\\n    \\\"VCF9133\\\": \\\"GOVT TOO INVOLVED IN THINGS OR PROBLEMS REQUIRE\\\",\\n    \\\"VCF0876a\\\": \\\"LAW TO PROTECT HOMOSEXUALS AGAINST DISCRIMINATION\\\",\\n    \\\"VCF9238\\\": \\\"SHOULD THE GOVERNMENT MAKE IT MORE DIFFICULT OR EASIER TO BUY A GUN, OR SHOULD THE RULES STAY THE SAME AS THEY ARE NOW\\\",\\n    \\\"VCF0385b\\\": \\\"\\\",\\n    \\\"VCF0401\\\": \\\"\\\",\\n    \\\"VCF0370\\\": \\\"\\\",\\n    \\\"VCF0371\\\": \\\"\\\",\\n    \\\"VCF0853\\\": \\\"SHOULD BE MORE EMPHASIS ON TRADITIONAL VALUES\\\",\\n    \\\"VCF0878\\\": \\\"SHOULD GAYS/LESBIANS BE ABLE TO ADOPT CHILDREN\\\",\\n    \\\"VCF9228\\\": \\\"MUCH OR SOMEWHAT LARGER/SMALLER GAP IN INCOMES BETWEEN RICH AND POOR IN THE U.S. THAN 20 YEARS AGO\\\",\\n    \\\"VCF0867a\\\": \\\"AFFIRMATIVE ACTION IN HIRING/PROMOTION\\\",\\n    \\\"VCF0405\\\": \\\"\\\",\\n    \\\"VCF0359\\\": \\\"\\\",\\n    \\\"VCF9085\\\": \\\"\\\",\\n    \\\"VCF9132\\\": \\\"GOVT HANDLE ECONOMY OR FREE MARKET CAN HANDLE\\\",\\n    \\\"VCF0877a\\\": \\\"POSITION ON GAYS IN THE MILITARY\\\",\\n    \\\"VCF9237\\\": \\\"STRENGTH FAVOR/OPPOSE THE DEATH PENALTY FOR PERSONS CONVICTED OF MURDER\\\",\\n    \\\"VCF9236\\\": \\\"FAVOR OR OPPOSE THE DEATH PENALTY FOR PERSONS CONVICTED OF MURDER\\\",\\n    \\\"VCF9207\\\": \\\"\\\",\\n    \\\"VCF9275\\\": \\\"IN AMERICAN POLITICS, DO BLACKS HAVE TOO MUCH, ABOUT THE RIGHT AMOUNT OF, OR TOO LITTLE INFLUENCE\\\",\\n    \\\"partyid\\\": \\\"\\\",\\n    \\\"VCF0890\\\": \\\"FEDERAL SPENDING- PUBLIC SCHOOLS\\\",\\n    \\\"VCF9219\\\": \\\"\\\",\\n    \\\"VCF0358\\\": \\\"\\\",\\n    \\\"VCF1043b\\\": \\\"\\\",\\n    \\\"VCF9086\\\": \\\"\\\",\\n    \\\"VCF9213\\\": \\\"\\\",\\n    \\\"VCF0369\\\": \\\"\\\",\\n    \\\"VCF9211\\\": \\\"\\\",\\n    \\\"VCF9088\\\": \\\"\\\",\\n    \\\"VCF0833\\\": \\\"FAVOR OR OPPOSE EQUAL RIGHTS AMENDMENT\\\",\\n    \\\"VCF0406\\\": \\\"\\\",\\n    \\\"VCF0601\\\": \\\"APPROVE PARTICIPATION IN PROTESTS\\\",\\n    \\\"VCF0851\\\": \\\"NEWER LIFESTYLES CONTRIBUTE TO SOCIETY BREAKDOWN\\\",\\n    \\\"VCF0852\\\": \\\"SHOULD ADJUST VIEW OF MORAL BEHAVIOR TO CHANGES\\\",\\n    \\\"VCF0867\\\": \\\"AFFIRMATIVE ACTION IN HIRING/PROMOTION\\\",\\n    \\\"VCF0893\\\": \\\"FEDERAL SPENDING- THE HOMELESS\\\",\\n    \\\"VCF0846\\\": \\\"IS RELIGION IMPORTANT TO RESPONDENT\\\",\\n    \\\"VCF9241\\\": \\\"\\\",\\n    \\\"VCF1004\\\": \\\"\\\",\\n    \\\"VCF0738\\\": \\\"\\\",\\n    \\\"VCF0392\\\": \\\"\\\",\\n    \\\"VCF9215\\\": \\\"\\\",\\n    \\\"VCF0879a\\\": \\\"INCREASE OR DECREASE NUMBER OF IMMIGRANTS TO U.S. 4-CATEGORY\\\",\\n    \\\"VCF0889\\\": \\\"FEDERAL SPENDING- AIDS RESEARCH/FIGHT AIDS\\\",\\n    \\\"VCF9028\\\": \\\"\\\",\\n    \\\"VCF0876\\\": \\\"LAW TO PROTECT HOMOSEXUALS AGAINST DISCRIMINATION\\\",\\n    \\\"VCF9216\\\": \\\"\\\",\\n    \\\"VCF9249\\\": \\\"WHICH IS MORE IMPORTANT FOR A CHILD TO HAVE: INDEPENDENCE OR RESPECT FOR ELDERS\\\",\\n    \\\"VCF0828\\\": \\\"SHOULD GOVERNMENT CUT MILITARY SPENDING\\\",\\n    \\\"VCF0838\\\": \\\"WHEN SHOULD ABORTION BE ALLOWED\\\",\\n    \\\"VCF9247\\\": \\\"WHICH IS MORE IMPORTANT FOR A CHILD TO HAVE: OBEDIENCE OR SELF-RELIANCE\\\",\\n    \\\"VCF1042b\\\": \\\"\\\",\\n    \\\"VCF9227\\\": \\\"DOES R THINK THE DIFFERENCE IN INCOMES BETWEEN RICH AND POOR IN THE U.S. IS LARGER, SMALLER, OR ABOUT THE SAME AS 20 YEARS AGO\\\",\\n    \\\"VCF9040\\\": \\\"BLACKS SHOULD NOT HAVE SPECIAL FAVORS TO SUCCEED\\\",\\n    \\\"VCF0424\\\": \\\"\\\",\\n    \\\"VCF9246\\\": \\\"WHICH IS MORE IMPORTANT FOR A CHILD TO HAVE: CURIOSITY OR GOOD MANNERS\\\",\\n    \\\"VCF0318\\\": \\\"\\\",\\n    \\\"VCF0826\\\": \\\"DID U.S. DO RIGHT THING GETTING INVOLVED IN WAR (DIFFERENT WARS)\\\",\\n    \\\"VCF9047\\\": \\\"FEDERAL SPENDING- IMPROVE AND PROTECT THE ENVIRONMENT\\\",\\n    \\\"VCF9046\\\": \\\"FEDERAL SPENDING- FOOD STAMPS\\\",\\n    \\\"VCF0391b\\\": \\\"\\\",\\n    \\\"VCF0603\\\": \\\"APPROVE DEMONSTRATIONS\\\",\\n    \\\"VCF0602\\\": \\\"APPROVE CIVIL DISOBEDIENCE\\\",\\n    \\\"VCF0314\\\": \\\"\\\",\\n    \\\"VCF0808\\\": \\\"GUARANTEED JOBS AND INCOME\\\",\\n    \\\"VCF9214\\\": \\\"\\\",\\n    \\\"VCF9084\\\": \\\"\\\",\\n    \\\"VCF0380\\\": \\\"\\\",\\n    \\\"VCF9008\\\": \\\"\\\",\\n    \\\"VCF0877\\\": \\\"FAVOR OR OPPOSE GAYS IN THE MILITARY\\\",\\n    \\\"VCF0834\\\": \\\"WOMEN EQUAL ROLE SCALE\\\",\\n    \\\"VCF0387b\\\": \\\"\\\",\\n    \\\"VCF0866\\\": \\\"\\\",\\n    \\\"VCF9201\\\": \\\"\\\",\\n    \\\"VCF0817\\\": \\\"SCHOOL BUSING SCALE\\\",\\n    \\\"VCF9013\\\": \\\"SOCIETY SHOULD ENSURE EQUAL OPPORTUNITY TO SUCCEED\\\",\\n    \\\"VCF9014\\\": \\\"WE HAVE GONE TOO FAR PUSHING EQUAL RIGHTS\\\",\\n    \\\"VCF0738a\\\": \\\"\\\",\\n    \\\"VCF0402\\\": \\\"\\\",\\n    \\\"VCF9232\\\": \\\"FAVOR OR OPPOSE THE U.S. GOVERNMENT TORTURING PEOPLE WHO ARE SUSPECTED OF BEING TERRORISTS, TO TRY TO GET INFORMATION\\\",\\n    \\\"VCF0128\\\": \\\"\\\",\\n    \\\"VCF0425\\\": \\\"\\\",\\n    \\\"VCF9037\\\": \\\"GOVERNMENT SHOULD ENSURE FAIR JOBS FOR BLACKS\\\",\\n    \\\"VCF0363\\\": \\\"\\\",\\n    \\\"VCF9042\\\": \\\"BLACKS GOTTEN LESS THAN THEY DESERVE OVER THE PAST FEW YEARS\\\",\\n    \\\"VCF0365\\\": \\\"\\\",\\n    \\\"VCF9077\\\": \\\"PRESIDENT ON GOVERNMENT HEALTH INSURANCE SCALE\\\",\\n    \\\"VCF0215\\\": \\\"THERMOMETER\\\",\\n    \\\"VCF0471\\\": \\\"\\\",\\n    \\\"VCF0235\\\": \\\"\\\",\\n    \\\"VCF9051\\\": \\\"SCHOOL PRAYER ALLOWED 2-CATEGORY\\\",\\n    \\\"VCF0847\\\": \\\"HOW MUCH GUIDANCE FROM RELIGION\\\",\\n    \\\"VCF9017\\\": \\\"SHOULD WORRY LESS ABOUT HOW EQUAL PEOPLE ARE\\\",\\n    \\\"VCF1037b\\\": \\\"\\\",\\n    \\\"VCF0806\\\": \\\"GOVERNMENT HEALTH INSURANCE SCALE\\\",\\n    \\\"VCF0426\\\": \\\"\\\",\\n    \\\"VCF0357\\\": \\\"\\\",\\n    \\\"VCF0130\\\": \\\"\\\",\\n    \\\"VCF0711\\\": \\\"\\\",\\n    \\\"VCF0886\\\": \\\"FEDERAL SPENDING- POOR/POOR PEOPLE\\\",\\n    \\\"VCF9280\\\": \\\"\\\",\\n    \\\"VCF0442\\\": \\\"\\\",\\n    \\\"VCF9221\\\": \\\"\\\",\\n    \\\"VCF0387a\\\": \\\"\\\",\\n    \\\"VCF0815\\\": \\\"SEGREGATION OR DESEGREGATION\\\",\\n    \\\"VCF0837\\\": \\\"WHEN SHOULD ABORTION BE ALLOWED\\\",\\n    \\\"VCF0809\\\": \\\"GUARANTEED JOBS AND INCOME SCALE\\\",\\n    \\\"VCF0147\\\": \\\"\\\",\\n    \\\"VCF0212\\\": \\\"\\\",\\n    \\\"VCF1030b\\\": \\\"\\\",\\n    \\\"VCF0447\\\": \\\"\\\",\\n    \\\"VCF9235\\\": \\\"\\\",\\n    \\\"VCF9202\\\": \\\"\\\",\\n    \\\"VCF9041\\\": \\\"BLACKS MUST TRY HARDER TO SUCCEED\\\",\\n    \\\"VCF9014\\\": \\\"WE HAVE GONE TOO FAR PUSHING EQUAL RIGHTS\\\",\\n    \\\"VCF0381b\\\": \\\"\\\",\\n    \\\"VCF0830\\\": \\\"AID TO BLACKS SCALE\\\",\\n    \\\"VCF0443\\\": \\\"\\\",\\n    \\\"VCF0440\\\": \\\"\\\",\\n    \\\"VCF0816\\\": \\\"SHOULD GOVERNMENT ENSURE SCHOOL INTEGRATION\\\",\\n    \\\"VCF0319\\\": \\\"\\\",\\n    \\\"VCF9087\\\": \\\"\\\",\\n    \\\"VCF0146\\\": \\\"\\\",\\n    \\\"VCF0218\\\": \\\"\\\",\\n    \\\"VCF0356\\\": \\\"\\\",\\n    \\\"VCF1038\\\": \\\"\\\",\\n    \\\"VCF0860\\\": \\\"\\\",\\n    \\\"VCF0224\\\": \\\"\\\",\\n    \\\"VCF0355\\\": \\\"\\\",\\n    \\\"VCF0433\\\": \\\"\\\",\\n    \\\"VCF0845\\\": \\\"\\\",\\n    \\\"VCF9208\\\": \\\"\\\",\\n    \\\"VCF0985\\\": \\\"\\\",\\n    \\\"VCF1032\\\": \\\"\\\",\\n    \\\"VCF0888\\\": \\\"FEDERAL SPENDING- DEALING WITH CRIME\\\",\\n    \\\"VCF0427\\\": \\\"\\\",\\n    \\\"VCF9240\\\": \\\"\\\",\\n    \\\"VCF0315\\\": \\\"\\\",\\n    \\\"VCF0381a\\\": \\\"\\\",\\n    \\\"VCF9015\\\": \\\"BIG PROBLEM THAT NOT EVERYONE HAS EQUAL CHANCE\\\",\\n    \\\"VCF0892\\\": \\\"FEDERAL SPENDING- FOREIGN AID\\\",\\n    \\\"VCF9016\\\": \\\"NOT BIG PROBLEM IF SOME HAVE MORE CHANCE IN LIFE\\\",\\n    \\\"VCF0153b\\\": \\\"\\\",\\n    \\\"VCF0130a\\\": \\\"\\\",\\n    \\\"VCF9220\\\": \\\"\\\",\\n    \\\"VCF0606\\\": \\\"HOW MUCH DOES THE FEDERAL GOVERNMENT WASTE TAX MONEY\\\",\\n    \\\"VCF0508\\\": \\\"\\\",\\n    \\\"VCF0384b\\\": \\\"\\\",\\n    \\\"VCF0748\\\": \\\"\\\",\\n    \\\"VCF0339\\\": \\\"\\\",\\n    \\\"VCF9094\\\": \\\"\\\",\\n    \\\"VCF9078\\\": \\\"\\\",\\n    \\\"VCF0842\\\": \\\"ENVIRONMENTAL REGULATION SCALE\\\",\\n    \\\"VCF9231\\\": \\\"FAVOR OR OPPOSE PLACING LIMITS ON IMPORTS TO PROTECT AMERICAN JOBS\\\",\\n    \\\"VCF0891\\\": \\\"FEDERAL SPENDING- FIN AID FOR COLLEGE STUDENTS\\\",\\n    \\\"VCF0233\\\": \\\"\\\",\\n    \\\"VCF0153a\\\": \\\"\\\",\\n    \\\"VCF0368\\\": \\\"\\\",\\n    \\\"VCF9081\\\": \\\"\\\",\\n    \\\"VCF9048\\\": \\\"FEDERAL SPENDING- SPACE/SCIENCE/TECHNOLOGY\\\",\\n    \\\"VCF9092\\\": \\\"\\\",\\n    \\\"VCF9039\\\": \\\"CONDITIONS MAKE IT DIFFICULT FOR BLACKS TO SUCCEED\\\",\\n    \\\"VCF9248\\\": \\\"WHICH IS MORE IMPORTANT FOR A CHILD TO BE: CONSIDERATE OR WELL-BEHAVED\\\",\\n    \\\"VCF9226\\\": \\\"\\\",\\n    \\\"VCF0396b\\\": \\\"\\\",\\n    \\\"VCF1020\\\": \\\"\\\",\\n    \\\"VCF0338\\\": \\\"\\\",\\n    \\\"VCF0829\\\": \\\"IS THE GOVERNMENT IN WASHINGTON TOO STRONG\\\",\\n    \\\"VCF0214\\\": \\\"\\\",\\n}\";\n",
       "                var nbb_cells = Jupyter.notebook.get_cells();\n",
       "                for (var i = 0; i < nbb_cells.length; ++i) {\n",
       "                    if (nbb_cells[i].input_prompt_number == nbb_cell_id) {\n",
       "                        if (nbb_cells[i].get_text() == nbb_unformatted_code) {\n",
       "                             nbb_cells[i].set_text(nbb_formatted_code);\n",
       "                        }\n",
       "                        break;\n",
       "                    }\n",
       "                }\n",
       "            }, 500);\n",
       "            "
      ],
      "text/plain": [
       "<IPython.core.display.Javascript object>"
      ]
     },
     "metadata": {},
     "output_type": "display_data"
    }
   ],
   "source": [
    "candidate_dict = {\n",
    "    \"VCF0849\": \"lib or con\",\n",
    "    \"VCF0303\": \"partyid\",\n",
    "    \"VCF0713\": \"\",\n",
    "    \"VCF9204\": \"\",\n",
    "    \"VCF0704\": \"\",\n",
    "    \"VCF0705\": \"\",\n",
    "    \"VCF0704a\": \"\",\n",
    "    \"VCF0706\": \"\",\n",
    "    \"VCF9205\": \"\",\n",
    "    \"VCF9027\": \"\",\n",
    "    \"VCF0487\": \"\",\n",
    "    \"VCF9209\": \"\",\n",
    "    \"VCF0475\": \"\",\n",
    "    \"VCF9212\": \"\",\n",
    "    \"VCF0372\": \"\",\n",
    "    \"VCF0360\": \"\",\n",
    "    \"partyid3\": \"\",\n",
    "    \"VCF9210\": \"\",\n",
    "    \"VCF0734\": \"\",\n",
    "    \"VCF9131\": \"LESS GOVERNMENT BETTER OR GOVERNMENT DO MORE\",\n",
    "    \"VCF0709\": \"\",\n",
    "    \"VCF0386\": \"\",\n",
    "    \"VCF0373\": \"\",\n",
    "    \"VCF0894\": \"FEDERAL SPENDING- WELFARE PROGRAMS\",\n",
    "    \"VCF0481\": \"\",\n",
    "    \"VCF0361\": \"\",\n",
    "    \"VCF0700\": \"\",\n",
    "    \"VCF0374\": \"\",\n",
    "    \"VCF0493\": \"\",\n",
    "    \"VCF0707\": \"\",\n",
    "    \"VCF0736\": \"\",\n",
    "    \"VCF9133\": \"GOVT TOO INVOLVED IN THINGS OR PROBLEMS REQUIRE\",\n",
    "    \"VCF0876a\": \"LAW TO PROTECT HOMOSEXUALS AGAINST DISCRIMINATION\",\n",
    "    \"VCF9238\": \"SHOULD THE GOVERNMENT MAKE IT MORE DIFFICULT OR EASIER TO BUY A GUN, OR SHOULD THE RULES STAY THE SAME AS THEY ARE NOW\",\n",
    "    \"VCF0385b\": \"\",\n",
    "    \"VCF0401\": \"\",\n",
    "    \"VCF0370\": \"\",\n",
    "    \"VCF0371\": \"\",\n",
    "    \"VCF0853\": \"SHOULD BE MORE EMPHASIS ON TRADITIONAL VALUES\",\n",
    "    \"VCF0878\": \"SHOULD GAYS/LESBIANS BE ABLE TO ADOPT CHILDREN\",\n",
    "    \"VCF9228\": \"MUCH OR SOMEWHAT LARGER/SMALLER GAP IN INCOMES BETWEEN RICH AND POOR IN THE U.S. THAN 20 YEARS AGO\",\n",
    "    \"VCF0867a\": \"AFFIRMATIVE ACTION IN HIRING/PROMOTION\",\n",
    "    \"VCF0405\": \"\",\n",
    "    \"VCF0359\": \"\",\n",
    "    \"VCF9085\": \"\",\n",
    "    \"VCF9132\": \"GOVT HANDLE ECONOMY OR FREE MARKET CAN HANDLE\",\n",
    "    \"VCF0877a\": \"POSITION ON GAYS IN THE MILITARY\",\n",
    "    \"VCF9237\": \"STRENGTH FAVOR/OPPOSE THE DEATH PENALTY FOR PERSONS CONVICTED OF MURDER\",\n",
    "    \"VCF9236\": \"FAVOR OR OPPOSE THE DEATH PENALTY FOR PERSONS CONVICTED OF MURDER\",\n",
    "    \"VCF9207\": \"\",\n",
    "    \"VCF9275\": \"IN AMERICAN POLITICS, DO BLACKS HAVE TOO MUCH, ABOUT THE RIGHT AMOUNT OF, OR TOO LITTLE INFLUENCE\",\n",
    "    \"partyid\": \"\",\n",
    "    \"VCF0890\": \"FEDERAL SPENDING- PUBLIC SCHOOLS\",\n",
    "    \"VCF9219\": \"\",\n",
    "    \"VCF0358\": \"\",\n",
    "    \"VCF1043b\": \"\",\n",
    "    \"VCF9086\": \"\",\n",
    "    \"VCF9213\": \"\",\n",
    "    \"VCF0369\": \"\",\n",
    "    \"VCF9211\": \"\",\n",
    "    \"VCF9088\": \"\",\n",
    "    \"VCF0833\": \"FAVOR OR OPPOSE EQUAL RIGHTS AMENDMENT\",\n",
    "    \"VCF0406\": \"\",\n",
    "    \"VCF0601\": \"APPROVE PARTICIPATION IN PROTESTS\",\n",
    "    \"VCF0851\": \"NEWER LIFESTYLES CONTRIBUTE TO SOCIETY BREAKDOWN\",\n",
    "    \"VCF0852\": \"SHOULD ADJUST VIEW OF MORAL BEHAVIOR TO CHANGES\",\n",
    "    \"VCF0867\": \"AFFIRMATIVE ACTION IN HIRING/PROMOTION\",\n",
    "    \"VCF0893\": \"FEDERAL SPENDING- THE HOMELESS\",\n",
    "    \"VCF0846\": \"IS RELIGION IMPORTANT TO RESPONDENT\",\n",
    "    \"VCF9241\": \"\",\n",
    "    \"VCF1004\": \"\",\n",
    "    \"VCF0738\": \"\",\n",
    "    \"VCF0392\": \"\",\n",
    "    \"VCF9215\": \"\",\n",
    "    \"VCF0879a\": \"INCREASE OR DECREASE NUMBER OF IMMIGRANTS TO U.S. 4-CATEGORY\",\n",
    "    \"VCF0889\": \"FEDERAL SPENDING- AIDS RESEARCH/FIGHT AIDS\",\n",
    "    \"VCF9028\": \"\",\n",
    "    \"VCF0876\": \"LAW TO PROTECT HOMOSEXUALS AGAINST DISCRIMINATION\",\n",
    "    \"VCF9216\": \"\",\n",
    "    \"VCF9249\": \"WHICH IS MORE IMPORTANT FOR A CHILD TO HAVE: INDEPENDENCE OR RESPECT FOR ELDERS\",\n",
    "    \"VCF0828\": \"SHOULD GOVERNMENT CUT MILITARY SPENDING\",\n",
    "    \"VCF0838\": \"WHEN SHOULD ABORTION BE ALLOWED\",\n",
    "    \"VCF9247\": \"WHICH IS MORE IMPORTANT FOR A CHILD TO HAVE: OBEDIENCE OR SELF-RELIANCE\",\n",
    "    \"VCF1042b\": \"\",\n",
    "    \"VCF9227\": \"DOES R THINK THE DIFFERENCE IN INCOMES BETWEEN RICH AND POOR IN THE U.S. IS LARGER, SMALLER, OR ABOUT THE SAME AS 20 YEARS AGO\",\n",
    "    \"VCF9040\": \"BLACKS SHOULD NOT HAVE SPECIAL FAVORS TO SUCCEED\",\n",
    "    \"VCF0424\": \"\",\n",
    "    \"VCF9246\": \"WHICH IS MORE IMPORTANT FOR A CHILD TO HAVE: CURIOSITY OR GOOD MANNERS\",\n",
    "    \"VCF0318\": \"\",\n",
    "    \"VCF0826\": \"DID U.S. DO RIGHT THING GETTING INVOLVED IN WAR (DIFFERENT WARS)\",\n",
    "    \"VCF9047\": \"FEDERAL SPENDING- IMPROVE AND PROTECT THE ENVIRONMENT\",\n",
    "    \"VCF9046\": \"FEDERAL SPENDING- FOOD STAMPS\",\n",
    "    \"VCF0391b\": \"\",\n",
    "    \"VCF0603\": \"APPROVE DEMONSTRATIONS\",\n",
    "    \"VCF0602\": \"APPROVE CIVIL DISOBEDIENCE\",\n",
    "    \"VCF0314\": \"\",\n",
    "    \"VCF0808\": \"GUARANTEED JOBS AND INCOME\",\n",
    "    \"VCF9214\": \"\",\n",
    "    \"VCF9084\": \"\",\n",
    "    \"VCF0380\": \"\",\n",
    "    \"VCF9008\": \"\",\n",
    "    \"VCF0877\": \"FAVOR OR OPPOSE GAYS IN THE MILITARY\",\n",
    "    \"VCF0834\": \"WOMEN EQUAL ROLE SCALE\",\n",
    "    \"VCF0387b\": \"\",\n",
    "    \"VCF0866\": \"\",\n",
    "    \"VCF9201\": \"\",\n",
    "    \"VCF0817\": \"SCHOOL BUSING SCALE\",\n",
    "    \"VCF9013\": \"SOCIETY SHOULD ENSURE EQUAL OPPORTUNITY TO SUCCEED\",\n",
    "    \"VCF9014\": \"WE HAVE GONE TOO FAR PUSHING EQUAL RIGHTS\",\n",
    "    \"VCF0738a\": \"\",\n",
    "    \"VCF0402\": \"\",\n",
    "    \"VCF9232\": \"FAVOR OR OPPOSE THE U.S. GOVERNMENT TORTURING PEOPLE WHO ARE SUSPECTED OF BEING TERRORISTS, TO TRY TO GET INFORMATION\",\n",
    "    \"VCF0128\": \"\",\n",
    "    \"VCF0425\": \"\",\n",
    "    \"VCF9037\": \"GOVERNMENT SHOULD ENSURE FAIR JOBS FOR BLACKS\",\n",
    "    \"VCF0363\": \"\",\n",
    "    \"VCF9042\": \"BLACKS GOTTEN LESS THAN THEY DESERVE OVER THE PAST FEW YEARS\",\n",
    "    \"VCF0365\": \"\",\n",
    "    \"VCF9077\": \"PRESIDENT ON GOVERNMENT HEALTH INSURANCE SCALE\",\n",
    "    \"VCF0215\": \"THERMOMETER\",\n",
    "    \"VCF0471\": \"\",\n",
    "    \"VCF0235\": \"\",\n",
    "    \"VCF9051\": \"SCHOOL PRAYER ALLOWED 2-CATEGORY\",\n",
    "    \"VCF0847\": \"HOW MUCH GUIDANCE FROM RELIGION\",\n",
    "    \"VCF9017\": \"SHOULD WORRY LESS ABOUT HOW EQUAL PEOPLE ARE\",\n",
    "    \"VCF1037b\": \"\",\n",
    "    \"VCF0806\": \"GOVERNMENT HEALTH INSURANCE SCALE\",\n",
    "    \"VCF0426\": \"\",\n",
    "    \"VCF0357\": \"\",\n",
    "    \"VCF0130\": \"\",\n",
    "    \"VCF0711\": \"\",\n",
    "    \"VCF0886\": \"FEDERAL SPENDING- POOR/POOR PEOPLE\",\n",
    "    \"VCF9280\": \"\",\n",
    "    \"VCF0442\": \"\",\n",
    "    \"VCF9221\": \"\",\n",
    "    \"VCF0387a\": \"\",\n",
    "    \"VCF0815\": \"SEGREGATION OR DESEGREGATION\",\n",
    "    \"VCF0837\": \"WHEN SHOULD ABORTION BE ALLOWED\",\n",
    "    \"VCF0809\": \"GUARANTEED JOBS AND INCOME SCALE\",\n",
    "    \"VCF0147\": \"\",\n",
    "    \"VCF0212\": \"\",\n",
    "    \"VCF1030b\": \"\",\n",
    "    \"VCF0447\": \"\",\n",
    "    \"VCF9235\": \"\",\n",
    "    \"VCF9202\": \"\",\n",
    "    \"VCF9041\": \"BLACKS MUST TRY HARDER TO SUCCEED\",\n",
    "    \"VCF9014\": \"WE HAVE GONE TOO FAR PUSHING EQUAL RIGHTS\",\n",
    "    \"VCF0381b\": \"\",\n",
    "    \"VCF0830\": \"AID TO BLACKS SCALE\",\n",
    "    \"VCF0443\": \"\",\n",
    "    \"VCF0440\": \"\",\n",
    "    \"VCF0816\": \"SHOULD GOVERNMENT ENSURE SCHOOL INTEGRATION\",\n",
    "    \"VCF0319\": \"\",\n",
    "    \"VCF9087\": \"\",\n",
    "    \"VCF0146\": \"\",\n",
    "    \"VCF0218\": \"\",\n",
    "    \"VCF0356\": \"\",\n",
    "    \"VCF1038\": \"\",\n",
    "    \"VCF0860\": \"\",\n",
    "    \"VCF0224\": \"\",\n",
    "    \"VCF0355\": \"\",\n",
    "    \"VCF0433\": \"\",\n",
    "    \"VCF0845\": \"\",\n",
    "    \"VCF9208\": \"\",\n",
    "    \"VCF0985\": \"\",\n",
    "    \"VCF1032\": \"\",\n",
    "    \"VCF0888\": \"FEDERAL SPENDING- DEALING WITH CRIME\",\n",
    "    \"VCF0427\": \"\",\n",
    "    \"VCF9240\": \"\",\n",
    "    \"VCF0315\": \"\",\n",
    "    \"VCF0381a\": \"\",\n",
    "    \"VCF9015\": \"BIG PROBLEM THAT NOT EVERYONE HAS EQUAL CHANCE\",\n",
    "    \"VCF0892\": \"FEDERAL SPENDING- FOREIGN AID\",\n",
    "    \"VCF9016\": \"NOT BIG PROBLEM IF SOME HAVE MORE CHANCE IN LIFE\",\n",
    "    \"VCF0153b\": \"\",\n",
    "    \"VCF0130a\": \"\",\n",
    "    \"VCF9220\": \"\",\n",
    "    \"VCF0606\": \"HOW MUCH DOES THE FEDERAL GOVERNMENT WASTE TAX MONEY\",\n",
    "    \"VCF0508\": \"\",\n",
    "    \"VCF0384b\": \"\",\n",
    "    \"VCF0748\": \"\",\n",
    "    \"VCF0339\": \"\",\n",
    "    \"VCF9094\": \"\",\n",
    "    \"VCF9078\": \"\",\n",
    "    \"VCF0842\": \"ENVIRONMENTAL REGULATION SCALE\",\n",
    "    \"VCF9231\": \"FAVOR OR OPPOSE PLACING LIMITS ON IMPORTS TO PROTECT AMERICAN JOBS\",\n",
    "    \"VCF0891\": \"FEDERAL SPENDING- FIN AID FOR COLLEGE STUDENTS\",\n",
    "    \"VCF0233\": \"\",\n",
    "    \"VCF0153a\": \"\",\n",
    "    \"VCF0368\": \"\",\n",
    "    \"VCF9081\": \"\",\n",
    "    \"VCF9048\": \"FEDERAL SPENDING- SPACE/SCIENCE/TECHNOLOGY\",\n",
    "    \"VCF9092\": \"\",\n",
    "    \"VCF9039\": \"CONDITIONS MAKE IT DIFFICULT FOR BLACKS TO SUCCEED\",\n",
    "    \"VCF9248\": \"WHICH IS MORE IMPORTANT FOR A CHILD TO BE: CONSIDERATE OR WELL-BEHAVED\",\n",
    "    \"VCF9226\": \"\",\n",
    "    \"VCF0396b\": \"\",\n",
    "    \"VCF1020\": \"\",\n",
    "    \"VCF0338\": \"\",\n",
    "    \"VCF0829\": \"IS THE GOVERNMENT IN WASHINGTON TOO STRONG\",\n",
    "    \"VCF0214\": \"\",\n",
    "}"
   ]
  },
  {
   "cell_type": "markdown",
   "id": "0f089ad5",
   "metadata": {},
   "source": [
    "## Grouping the questions\n",
    "\n",
    "Some questions are already organized in groups -- like the following four questions about children, or the next group about government spending."
   ]
  },
  {
   "cell_type": "code",
   "execution_count": 28,
   "id": "cce89365",
   "metadata": {},
   "outputs": [
    {
     "data": {
      "application/javascript": [
       "\n",
       "            setTimeout(function() {\n",
       "                var nbb_cell_id = 28;\n",
       "                var nbb_unformatted_code = \"children_dict = {\\n    'VCF9249': 'CHILDREN: INDEPENDENCE OR\\\\nRESPECT FOR ELDERS',\\n    'VCF9246': 'CHILDREN: CURIOSITY OR\\\\nGOOD MANNERS',\\n    'VCF9247': 'CHILDREN: SELF-RELIANCE OR\\\\nOBEDIENCE',\\n    'VCF9248': 'CHILDREN: CONSIDERATE OR\\\\nWELL-BEHAVED',\\n}\";\n",
       "                var nbb_formatted_code = \"children_dict = {\\n    \\\"VCF9249\\\": \\\"CHILDREN: INDEPENDENCE OR\\\\nRESPECT FOR ELDERS\\\",\\n    \\\"VCF9246\\\": \\\"CHILDREN: CURIOSITY OR\\\\nGOOD MANNERS\\\",\\n    \\\"VCF9247\\\": \\\"CHILDREN: SELF-RELIANCE OR\\\\nOBEDIENCE\\\",\\n    \\\"VCF9248\\\": \\\"CHILDREN: CONSIDERATE OR\\\\nWELL-BEHAVED\\\",\\n}\";\n",
       "                var nbb_cells = Jupyter.notebook.get_cells();\n",
       "                for (var i = 0; i < nbb_cells.length; ++i) {\n",
       "                    if (nbb_cells[i].input_prompt_number == nbb_cell_id) {\n",
       "                        if (nbb_cells[i].get_text() == nbb_unformatted_code) {\n",
       "                             nbb_cells[i].set_text(nbb_formatted_code);\n",
       "                        }\n",
       "                        break;\n",
       "                    }\n",
       "                }\n",
       "            }, 500);\n",
       "            "
      ],
      "text/plain": [
       "<IPython.core.display.Javascript object>"
      ]
     },
     "metadata": {},
     "output_type": "display_data"
    }
   ],
   "source": [
    "children_dict = {\n",
    "    \"VCF9249\": \"CHILDREN: INDEPENDENCE OR\\nRESPECT FOR ELDERS\",\n",
    "    \"VCF9246\": \"CHILDREN: CURIOSITY OR\\nGOOD MANNERS\",\n",
    "    \"VCF9247\": \"CHILDREN: SELF-RELIANCE OR\\nOBEDIENCE\",\n",
    "    \"VCF9248\": \"CHILDREN: CONSIDERATE OR\\nWELL-BEHAVED\",\n",
    "}"
   ]
  },
  {
   "cell_type": "code",
   "execution_count": 29,
   "id": "ddfefecc",
   "metadata": {},
   "outputs": [
    {
     "data": {
      "application/javascript": [
       "\n",
       "            setTimeout(function() {\n",
       "                var nbb_cell_id = 29;\n",
       "                var nbb_unformatted_code = \"spending_dict = {\\n    \\\"VCF0886\\\": \\\"POOR PEOPLE\\\",\\n    \\\"VCF0887\\\": \\\"CHILD CARE\\\",\\n    \\\"VCF0888\\\": \\\"DEALING WITH CRIME\\\",\\n    \\\"VCF0889\\\": \\\"AIDS RESEARCH/FIGHT AIDS\\\",\\n    \\\"VCF0890\\\": \\\"PUBLIC SCHOOLS\\\",\\n    \\\"VCF0891\\\": \\\"FIN AID FOR COLLEGE STUDENTS\\\",\\n    \\\"VCF0892\\\": \\\"FOREIGN AID\\\",\\n    \\\"VCF0893\\\": \\\"THE HOMELESS\\\",\\n    \\\"VCF0894\\\": \\\"WELFARE PROGRAMS\\\",\\n    # 'VCF9046': 'FOOD STAMPS',  limited years\\n    \\\"VCF9047\\\": \\\"IMPROVE AND PROTECT THE ENVIRONMENT\\\",\\n    \\\"VCF9048\\\": \\\"SPACE/SCIENCE/TECHNOLOGY\\\",\\n    \\\"VCF9049\\\": \\\"SOCIAL SECURITY\\\",\\n    # 'VCF9050': 'ASSISTANCE TO BLACKS',  limited years\\n}\";\n",
       "                var nbb_formatted_code = \"spending_dict = {\\n    \\\"VCF0886\\\": \\\"POOR PEOPLE\\\",\\n    \\\"VCF0887\\\": \\\"CHILD CARE\\\",\\n    \\\"VCF0888\\\": \\\"DEALING WITH CRIME\\\",\\n    \\\"VCF0889\\\": \\\"AIDS RESEARCH/FIGHT AIDS\\\",\\n    \\\"VCF0890\\\": \\\"PUBLIC SCHOOLS\\\",\\n    \\\"VCF0891\\\": \\\"FIN AID FOR COLLEGE STUDENTS\\\",\\n    \\\"VCF0892\\\": \\\"FOREIGN AID\\\",\\n    \\\"VCF0893\\\": \\\"THE HOMELESS\\\",\\n    \\\"VCF0894\\\": \\\"WELFARE PROGRAMS\\\",\\n    # 'VCF9046': 'FOOD STAMPS',  limited years\\n    \\\"VCF9047\\\": \\\"IMPROVE AND PROTECT THE ENVIRONMENT\\\",\\n    \\\"VCF9048\\\": \\\"SPACE/SCIENCE/TECHNOLOGY\\\",\\n    \\\"VCF9049\\\": \\\"SOCIAL SECURITY\\\",\\n    # 'VCF9050': 'ASSISTANCE TO BLACKS',  limited years\\n}\";\n",
       "                var nbb_cells = Jupyter.notebook.get_cells();\n",
       "                for (var i = 0; i < nbb_cells.length; ++i) {\n",
       "                    if (nbb_cells[i].input_prompt_number == nbb_cell_id) {\n",
       "                        if (nbb_cells[i].get_text() == nbb_unformatted_code) {\n",
       "                             nbb_cells[i].set_text(nbb_formatted_code);\n",
       "                        }\n",
       "                        break;\n",
       "                    }\n",
       "                }\n",
       "            }, 500);\n",
       "            "
      ],
      "text/plain": [
       "<IPython.core.display.Javascript object>"
      ]
     },
     "metadata": {},
     "output_type": "display_data"
    }
   ],
   "source": [
    "spending_dict = {\n",
    "    \"VCF0886\": \"POOR PEOPLE\",\n",
    "    \"VCF0887\": \"CHILD CARE\",\n",
    "    \"VCF0888\": \"DEALING WITH CRIME\",\n",
    "    \"VCF0889\": \"AIDS RESEARCH/FIGHT AIDS\",\n",
    "    \"VCF0890\": \"PUBLIC SCHOOLS\",\n",
    "    \"VCF0891\": \"FIN AID FOR COLLEGE STUDENTS\",\n",
    "    \"VCF0892\": \"FOREIGN AID\",\n",
    "    \"VCF0893\": \"THE HOMELESS\",\n",
    "    \"VCF0894\": \"WELFARE PROGRAMS\",\n",
    "    # 'VCF9046': 'FOOD STAMPS',  limited years\n",
    "    \"VCF9047\": \"IMPROVE AND PROTECT THE ENVIRONMENT\",\n",
    "    \"VCF9048\": \"SPACE/SCIENCE/TECHNOLOGY\",\n",
    "    \"VCF9049\": \"SOCIAL SECURITY\",\n",
    "    # 'VCF9050': 'ASSISTANCE TO BLACKS',  limited years\n",
    "}"
   ]
  },
  {
   "cell_type": "markdown",
   "id": "82adc659",
   "metadata": {},
   "source": [
    "I selected these questions because the sounded likely to elicit different responses from conservatives and liberals, but it turns out they don't."
   ]
  },
  {
   "cell_type": "code",
   "execution_count": 30,
   "id": "cc0158e3",
   "metadata": {},
   "outputs": [
    {
     "data": {
      "application/javascript": [
       "\n",
       "            setTimeout(function() {\n",
       "                var nbb_cell_id = 30;\n",
       "                var nbb_unformatted_code = \"nodiff_dict = {\\n    # first three asked over a short period\\n    #'VCF0601': 'APPROVE PARTICIPATION\\\\nIN PROTESTS',\\n    #'VCF0602': 'APPROVE CIVIL DISOBEDIENCE',\\n    #'VCF0603': 'APPROVE DEMONSTRATIONS',\\n    \\\"VCF0604\\\": \\\"TRUST THE FEDERAL GOVERNMENT\\\\nTO DO WHAT IS RIGHT\\\",\\n    \\\"VCF0605\\\": \\\"FEDERAL GOVERNMENT RUN BY FEW INTERESTS\\\\nOR FOR THE BENEFIT OF ALL\\\",\\n    \\\"VCF0607\\\": \\\"HOW MANY GOVERNMENT OFFICIALS\\\\nARE SMART\\\",\\n    \\\"VCF0608\\\": \\\"HOW MANY GOVERNMENT OFFICIALS\\\\nARE CROOKED\\\",\\n    \\\"VCF0609\\\": \\\"GOVERNMENT OFFICIALS CARE\\\\nWHAT PEOPLE LIKE YOU THINK\\\",\\n}\";\n",
       "                var nbb_formatted_code = \"nodiff_dict = {\\n    # first three asked over a short period\\n    #'VCF0601': 'APPROVE PARTICIPATION\\\\nIN PROTESTS',\\n    #'VCF0602': 'APPROVE CIVIL DISOBEDIENCE',\\n    #'VCF0603': 'APPROVE DEMONSTRATIONS',\\n    \\\"VCF0604\\\": \\\"TRUST THE FEDERAL GOVERNMENT\\\\nTO DO WHAT IS RIGHT\\\",\\n    \\\"VCF0605\\\": \\\"FEDERAL GOVERNMENT RUN BY FEW INTERESTS\\\\nOR FOR THE BENEFIT OF ALL\\\",\\n    \\\"VCF0607\\\": \\\"HOW MANY GOVERNMENT OFFICIALS\\\\nARE SMART\\\",\\n    \\\"VCF0608\\\": \\\"HOW MANY GOVERNMENT OFFICIALS\\\\nARE CROOKED\\\",\\n    \\\"VCF0609\\\": \\\"GOVERNMENT OFFICIALS CARE\\\\nWHAT PEOPLE LIKE YOU THINK\\\",\\n}\";\n",
       "                var nbb_cells = Jupyter.notebook.get_cells();\n",
       "                for (var i = 0; i < nbb_cells.length; ++i) {\n",
       "                    if (nbb_cells[i].input_prompt_number == nbb_cell_id) {\n",
       "                        if (nbb_cells[i].get_text() == nbb_unformatted_code) {\n",
       "                             nbb_cells[i].set_text(nbb_formatted_code);\n",
       "                        }\n",
       "                        break;\n",
       "                    }\n",
       "                }\n",
       "            }, 500);\n",
       "            "
      ],
      "text/plain": [
       "<IPython.core.display.Javascript object>"
      ]
     },
     "metadata": {},
     "output_type": "display_data"
    }
   ],
   "source": [
    "nodiff_dict = {\n",
    "    # first three asked over a short period\n",
    "    #'VCF0601': 'APPROVE PARTICIPATION\\nIN PROTESTS',\n",
    "    #'VCF0602': 'APPROVE CIVIL DISOBEDIENCE',\n",
    "    #'VCF0603': 'APPROVE DEMONSTRATIONS',\n",
    "    \"VCF0604\": \"TRUST THE FEDERAL GOVERNMENT\\nTO DO WHAT IS RIGHT\",\n",
    "    \"VCF0605\": \"FEDERAL GOVERNMENT RUN BY FEW INTERESTS\\nOR FOR THE BENEFIT OF ALL\",\n",
    "    \"VCF0607\": \"HOW MANY GOVERNMENT OFFICIALS\\nARE SMART\",\n",
    "    \"VCF0608\": \"HOW MANY GOVERNMENT OFFICIALS\\nARE CROOKED\",\n",
    "    \"VCF0609\": \"GOVERNMENT OFFICIALS CARE\\nWHAT PEOPLE LIKE YOU THINK\",\n",
    "}"
   ]
  },
  {
   "cell_type": "code",
   "execution_count": 31,
   "id": "d5ee6fb8",
   "metadata": {},
   "outputs": [
    {
     "data": {
      "application/javascript": [
       "\n",
       "            setTimeout(function() {\n",
       "                var nbb_cell_id = 31;\n",
       "                var nbb_unformatted_code = \"govt_dict = {\\n    \\\"VCF0606\\\": \\\"HOW MUCH DOES THE FEDERAL\\\\nGOVERNMENT WASTE TAX MONEY\\\",\\n    \\\"VCF9133\\\": \\\"GOVT TOO INVOLVED IN THINGS\\\",\\n    \\\"VCF9131\\\": \\\"LESS GOVERNMENT BETTER OR\\\\nGOVERNMENT DO MORE\\\",\\n    \\\"VCF9132\\\": \\\"GOVT HANDLE ECONOMY OR\\\\nFREE MARKET CAN HANDLE\\\",\\n    # only asked in two years\\n    # 'VCF9134': 'MORE IMPORTANT TO BE\\\\nCOOPERATIVE OR SELF-RELIANT'\\n}\";\n",
       "                var nbb_formatted_code = \"govt_dict = {\\n    \\\"VCF0606\\\": \\\"HOW MUCH DOES THE FEDERAL\\\\nGOVERNMENT WASTE TAX MONEY\\\",\\n    \\\"VCF9133\\\": \\\"GOVT TOO INVOLVED IN THINGS\\\",\\n    \\\"VCF9131\\\": \\\"LESS GOVERNMENT BETTER OR\\\\nGOVERNMENT DO MORE\\\",\\n    \\\"VCF9132\\\": \\\"GOVT HANDLE ECONOMY OR\\\\nFREE MARKET CAN HANDLE\\\",\\n    # only asked in two years\\n    # 'VCF9134': 'MORE IMPORTANT TO BE\\\\nCOOPERATIVE OR SELF-RELIANT'\\n}\";\n",
       "                var nbb_cells = Jupyter.notebook.get_cells();\n",
       "                for (var i = 0; i < nbb_cells.length; ++i) {\n",
       "                    if (nbb_cells[i].input_prompt_number == nbb_cell_id) {\n",
       "                        if (nbb_cells[i].get_text() == nbb_unformatted_code) {\n",
       "                             nbb_cells[i].set_text(nbb_formatted_code);\n",
       "                        }\n",
       "                        break;\n",
       "                    }\n",
       "                }\n",
       "            }, 500);\n",
       "            "
      ],
      "text/plain": [
       "<IPython.core.display.Javascript object>"
      ]
     },
     "metadata": {},
     "output_type": "display_data"
    }
   ],
   "source": [
    "govt_dict = {\n",
    "    \"VCF0606\": \"HOW MUCH DOES THE FEDERAL\\nGOVERNMENT WASTE TAX MONEY\",\n",
    "    \"VCF9133\": \"GOVT TOO INVOLVED IN THINGS\",\n",
    "    \"VCF9131\": \"LESS GOVERNMENT BETTER OR\\nGOVERNMENT DO MORE\",\n",
    "    \"VCF9132\": \"GOVT HANDLE ECONOMY OR\\nFREE MARKET CAN HANDLE\",\n",
    "    # only asked in two years\n",
    "    # 'VCF9134': 'MORE IMPORTANT TO BE\\nCOOPERATIVE OR SELF-RELIANT'\n",
    "}"
   ]
  },
  {
   "cell_type": "markdown",
   "id": "2ac08cc4",
   "metadata": {},
   "source": [
    "Questions about [moral foundations](https://en.wikipedia.org/wiki/Moral_foundations_theory) elicit big differences."
   ]
  },
  {
   "cell_type": "code",
   "execution_count": 32,
   "id": "fd457bfd",
   "metadata": {},
   "outputs": [
    {
     "data": {
      "application/javascript": [
       "\n",
       "            setTimeout(function() {\n",
       "                var nbb_cell_id = 32;\n",
       "                var nbb_unformatted_code = \"moral_dict = {\\n    \\\"VCF0853\\\": \\\"SHOULD BE MORE EMPHASIS\\\\nON TRADITIONAL VALUES\\\",\\n    \\\"VCF0851\\\": \\\"NEWER LIFESTYLES CONTRIBUTE\\\\nTO SOCIETY BREAKDOWN\\\",\\n    \\\"VCF0852\\\": \\\"SHOULD ADJUST VIEW OF\\\\nMORAL BEHAVIOR TO CHANGES\\\",\\n    \\\"VCF0854\\\": \\\"SHOULD BE TOLERANT OF\\\\nDIFFERENTMORAL STANDARDS\\\",\\n}\";\n",
       "                var nbb_formatted_code = \"moral_dict = {\\n    \\\"VCF0853\\\": \\\"SHOULD BE MORE EMPHASIS\\\\nON TRADITIONAL VALUES\\\",\\n    \\\"VCF0851\\\": \\\"NEWER LIFESTYLES CONTRIBUTE\\\\nTO SOCIETY BREAKDOWN\\\",\\n    \\\"VCF0852\\\": \\\"SHOULD ADJUST VIEW OF\\\\nMORAL BEHAVIOR TO CHANGES\\\",\\n    \\\"VCF0854\\\": \\\"SHOULD BE TOLERANT OF\\\\nDIFFERENTMORAL STANDARDS\\\",\\n}\";\n",
       "                var nbb_cells = Jupyter.notebook.get_cells();\n",
       "                for (var i = 0; i < nbb_cells.length; ++i) {\n",
       "                    if (nbb_cells[i].input_prompt_number == nbb_cell_id) {\n",
       "                        if (nbb_cells[i].get_text() == nbb_unformatted_code) {\n",
       "                             nbb_cells[i].set_text(nbb_formatted_code);\n",
       "                        }\n",
       "                        break;\n",
       "                    }\n",
       "                }\n",
       "            }, 500);\n",
       "            "
      ],
      "text/plain": [
       "<IPython.core.display.Javascript object>"
      ]
     },
     "metadata": {},
     "output_type": "display_data"
    }
   ],
   "source": [
    "moral_dict = {\n",
    "    \"VCF0853\": \"SHOULD BE MORE EMPHASIS\\nON TRADITIONAL VALUES\",\n",
    "    \"VCF0851\": \"NEWER LIFESTYLES CONTRIBUTE\\nTO SOCIETY BREAKDOWN\",\n",
    "    \"VCF0852\": \"SHOULD ADJUST VIEW OF\\nMORAL BEHAVIOR TO CHANGES\",\n",
    "    \"VCF0854\": \"SHOULD BE TOLERANT OF\\nDIFFERENTMORAL STANDARDS\",\n",
    "}"
   ]
  },
  {
   "cell_type": "code",
   "execution_count": 33,
   "id": "f422e435",
   "metadata": {},
   "outputs": [
    {
     "data": {
      "application/javascript": [
       "\n",
       "            setTimeout(function() {\n",
       "                var nbb_cell_id = 33;\n",
       "                var nbb_unformatted_code = \"equality_dict = {\\n    \\\"VCF9013\\\": \\\"SOCIETY SHOULD ENSURE EQUAL\\\\nOPPORTUNITY TO SUCCEED\\\",\\n    \\\"VCF9014\\\": \\\"WE HAVE GONE TOO FAR\\\\nPUSHING EQUAL RIGHTS\\\",\\n    \\\"VCF9015\\\": \\\"BIG PROBLEM THAT NOT\\\\nEVERYONE HAS EQUAL CHANCE\\\",\\n    \\\"VCF9016\\\": \\\"NOT BIG PROBLEM IF\\\\nSOME HAVE MORE CHANCE IN LIFE\\\",\\n    \\\"VCF9017\\\": \\\"SHOULD WORRY LESS ABOUT\\\\nHOW EQUAL PEOPLE ARE\\\",\\n    \\\"VCF9018\\\": \\\"FEWER PROBLEMS IF\\\\nEVERYONE TREATED EQUALLY\\\",\\n}\";\n",
       "                var nbb_formatted_code = \"equality_dict = {\\n    \\\"VCF9013\\\": \\\"SOCIETY SHOULD ENSURE EQUAL\\\\nOPPORTUNITY TO SUCCEED\\\",\\n    \\\"VCF9014\\\": \\\"WE HAVE GONE TOO FAR\\\\nPUSHING EQUAL RIGHTS\\\",\\n    \\\"VCF9015\\\": \\\"BIG PROBLEM THAT NOT\\\\nEVERYONE HAS EQUAL CHANCE\\\",\\n    \\\"VCF9016\\\": \\\"NOT BIG PROBLEM IF\\\\nSOME HAVE MORE CHANCE IN LIFE\\\",\\n    \\\"VCF9017\\\": \\\"SHOULD WORRY LESS ABOUT\\\\nHOW EQUAL PEOPLE ARE\\\",\\n    \\\"VCF9018\\\": \\\"FEWER PROBLEMS IF\\\\nEVERYONE TREATED EQUALLY\\\",\\n}\";\n",
       "                var nbb_cells = Jupyter.notebook.get_cells();\n",
       "                for (var i = 0; i < nbb_cells.length; ++i) {\n",
       "                    if (nbb_cells[i].input_prompt_number == nbb_cell_id) {\n",
       "                        if (nbb_cells[i].get_text() == nbb_unformatted_code) {\n",
       "                             nbb_cells[i].set_text(nbb_formatted_code);\n",
       "                        }\n",
       "                        break;\n",
       "                    }\n",
       "                }\n",
       "            }, 500);\n",
       "            "
      ],
      "text/plain": [
       "<IPython.core.display.Javascript object>"
      ]
     },
     "metadata": {},
     "output_type": "display_data"
    }
   ],
   "source": [
    "equality_dict = {\n",
    "    \"VCF9013\": \"SOCIETY SHOULD ENSURE EQUAL\\nOPPORTUNITY TO SUCCEED\",\n",
    "    \"VCF9014\": \"WE HAVE GONE TOO FAR\\nPUSHING EQUAL RIGHTS\",\n",
    "    \"VCF9015\": \"BIG PROBLEM THAT NOT\\nEVERYONE HAS EQUAL CHANCE\",\n",
    "    \"VCF9016\": \"NOT BIG PROBLEM IF\\nSOME HAVE MORE CHANCE IN LIFE\",\n",
    "    \"VCF9017\": \"SHOULD WORRY LESS ABOUT\\nHOW EQUAL PEOPLE ARE\",\n",
    "    \"VCF9018\": \"FEWER PROBLEMS IF\\nEVERYONE TREATED EQUALLY\",\n",
    "}"
   ]
  },
  {
   "cell_type": "markdown",
   "id": "e12fe500",
   "metadata": {},
   "source": [
    "But I am mostly interested in questions related to concrete public policies, as opposed to abstract philosophies.\n",
    "\n",
    "I also tried to find questions that overlap as much as possible with the 15 questions I used in Chapter 12."
   ]
  },
  {
   "cell_type": "code",
   "execution_count": 34,
   "id": "0bf7e10c",
   "metadata": {},
   "outputs": [
    {
     "data": {
      "application/javascript": [
       "\n",
       "            setTimeout(function() {\n",
       "                var nbb_cell_id = 34;\n",
       "                var nbb_unformatted_code = \"policy_dict = {\\n    \\\"VCF0876\\\": \\\"LAW TO PROTECT HOMOSEXUALS AGAINST DISCRIMINATION\\\",\\n    \\\"VCF0877\\\": \\\"FAVOR OR OPPOSE GAYS IN THE MILITARY\\\",\\n    \\\"VCF0878\\\": \\\"SHOULD GAYS/LESBIANS BE ABLE TO ADOPT CHILDREN\\\",\\n    \\\"VCF0879a\\\": \\\"INCREASE OR DECREASE NUMBER OF IMMIGRANTS TO U.S.\\\",\\n    \\\"VCF9238\\\": \\\"MORE DIFFICULT OR EASIER TO BUY A GUN\\\",\\n    \\\"VCF9236\\\": \\\"FAVOR OR OPPOSE THE DEATH PENALTY FOR MURDER\\\",\\n    # limited years\\n    # 'VCF9232': 'TORTURING PEOPLE WHO ARE SUSPECTED OF BEING TERRORISTS',\\n    \\\"VCF9231\\\": \\\"LIMITS ON IMPORTS TO PROTECT AMERICAN JOBS\\\",\\n    # not much diff\\n    # 'VCF9230': 'ENCOURAGE OR DISCOURAGE REPLACE U.S. WORKERS WITH FOREIGN WORKERS',\\n    # 'VCF0823': 'BETTER OFF IF U.S. UNCONCERNED WITH REST OF WORLD',\\n    \\\"VCF0838\\\": \\\"WHEN SHOULD ABORTION BE ALLOWED\\\",\\n    \\\"VCF9043\\\": \\\"SCHOOL PRAYER ALLOWED\\\",\\n    \\\"VCF0816\\\": \\\"SHOULD GOVERNMENT ENSURE SCHOOL INTEGRATION\\\",\\n    \\\"VCF9037\\\": \\\"SHOULD GOVERNMENT ENSURE FAIR JOBS FOR BLACKS\\\",\\n    \\\"VCF0867a\\\": \\\"AFFIRMATIVE ACTION IN HIRING/PROMOTION\\\",\\n}\";\n",
       "                var nbb_formatted_code = \"policy_dict = {\\n    \\\"VCF0876\\\": \\\"LAW TO PROTECT HOMOSEXUALS AGAINST DISCRIMINATION\\\",\\n    \\\"VCF0877\\\": \\\"FAVOR OR OPPOSE GAYS IN THE MILITARY\\\",\\n    \\\"VCF0878\\\": \\\"SHOULD GAYS/LESBIANS BE ABLE TO ADOPT CHILDREN\\\",\\n    \\\"VCF0879a\\\": \\\"INCREASE OR DECREASE NUMBER OF IMMIGRANTS TO U.S.\\\",\\n    \\\"VCF9238\\\": \\\"MORE DIFFICULT OR EASIER TO BUY A GUN\\\",\\n    \\\"VCF9236\\\": \\\"FAVOR OR OPPOSE THE DEATH PENALTY FOR MURDER\\\",\\n    # limited years\\n    # 'VCF9232': 'TORTURING PEOPLE WHO ARE SUSPECTED OF BEING TERRORISTS',\\n    \\\"VCF9231\\\": \\\"LIMITS ON IMPORTS TO PROTECT AMERICAN JOBS\\\",\\n    # not much diff\\n    # 'VCF9230': 'ENCOURAGE OR DISCOURAGE REPLACE U.S. WORKERS WITH FOREIGN WORKERS',\\n    # 'VCF0823': 'BETTER OFF IF U.S. UNCONCERNED WITH REST OF WORLD',\\n    \\\"VCF0838\\\": \\\"WHEN SHOULD ABORTION BE ALLOWED\\\",\\n    \\\"VCF9043\\\": \\\"SCHOOL PRAYER ALLOWED\\\",\\n    \\\"VCF0816\\\": \\\"SHOULD GOVERNMENT ENSURE SCHOOL INTEGRATION\\\",\\n    \\\"VCF9037\\\": \\\"SHOULD GOVERNMENT ENSURE FAIR JOBS FOR BLACKS\\\",\\n    \\\"VCF0867a\\\": \\\"AFFIRMATIVE ACTION IN HIRING/PROMOTION\\\",\\n}\";\n",
       "                var nbb_cells = Jupyter.notebook.get_cells();\n",
       "                for (var i = 0; i < nbb_cells.length; ++i) {\n",
       "                    if (nbb_cells[i].input_prompt_number == nbb_cell_id) {\n",
       "                        if (nbb_cells[i].get_text() == nbb_unformatted_code) {\n",
       "                             nbb_cells[i].set_text(nbb_formatted_code);\n",
       "                        }\n",
       "                        break;\n",
       "                    }\n",
       "                }\n",
       "            }, 500);\n",
       "            "
      ],
      "text/plain": [
       "<IPython.core.display.Javascript object>"
      ]
     },
     "metadata": {},
     "output_type": "display_data"
    }
   ],
   "source": [
    "policy_dict = {\n",
    "    \"VCF0876\": \"LAW TO PROTECT HOMOSEXUALS AGAINST DISCRIMINATION\",\n",
    "    \"VCF0877\": \"FAVOR OR OPPOSE GAYS IN THE MILITARY\",\n",
    "    \"VCF0878\": \"SHOULD GAYS/LESBIANS BE ABLE TO ADOPT CHILDREN\",\n",
    "    \"VCF0879a\": \"INCREASE OR DECREASE NUMBER OF IMMIGRANTS TO U.S.\",\n",
    "    \"VCF9238\": \"MORE DIFFICULT OR EASIER TO BUY A GUN\",\n",
    "    \"VCF9236\": \"FAVOR OR OPPOSE THE DEATH PENALTY FOR MURDER\",\n",
    "    # limited years\n",
    "    # 'VCF9232': 'TORTURING PEOPLE WHO ARE SUSPECTED OF BEING TERRORISTS',\n",
    "    \"VCF9231\": \"LIMITS ON IMPORTS TO PROTECT AMERICAN JOBS\",\n",
    "    # not much diff\n",
    "    # 'VCF9230': 'ENCOURAGE OR DISCOURAGE REPLACE U.S. WORKERS WITH FOREIGN WORKERS',\n",
    "    # 'VCF0823': 'BETTER OFF IF U.S. UNCONCERNED WITH REST OF WORLD',\n",
    "    \"VCF0838\": \"WHEN SHOULD ABORTION BE ALLOWED\",\n",
    "    \"VCF9043\": \"SCHOOL PRAYER ALLOWED\",\n",
    "    \"VCF0816\": \"SHOULD GOVERNMENT ENSURE SCHOOL INTEGRATION\",\n",
    "    \"VCF9037\": \"SHOULD GOVERNMENT ENSURE FAIR JOBS FOR BLACKS\",\n",
    "    \"VCF0867a\": \"AFFIRMATIVE ACTION IN HIRING/PROMOTION\",\n",
    "}"
   ]
  },
  {
   "cell_type": "code",
   "execution_count": 35,
   "id": "d078b1b0",
   "metadata": {},
   "outputs": [
    {
     "data": {
      "application/javascript": [
       "\n",
       "            setTimeout(function() {\n",
       "                var nbb_cell_id = 35;\n",
       "                var nbb_unformatted_code = \"scale_dict = {\\n    \\\"VCF0842\\\": \\\"ENVIRONMENTAL REGULATION SCALE\\\",\\n    \\\"VCF0843\\\": \\\"DEFENSE SPENDING SCALE\\\",\\n    # limited years\\n    # 'VCF0844': 'HOW WILLING SHOULD U.S. BE TO USE MILITARY FORCE',\\n    \\\"VCF0806\\\": \\\"GOVERNMENT HEALTH INSURANCE SCALE\\\",\\n}\";\n",
       "                var nbb_formatted_code = \"scale_dict = {\\n    \\\"VCF0842\\\": \\\"ENVIRONMENTAL REGULATION SCALE\\\",\\n    \\\"VCF0843\\\": \\\"DEFENSE SPENDING SCALE\\\",\\n    # limited years\\n    # 'VCF0844': 'HOW WILLING SHOULD U.S. BE TO USE MILITARY FORCE',\\n    \\\"VCF0806\\\": \\\"GOVERNMENT HEALTH INSURANCE SCALE\\\",\\n}\";\n",
       "                var nbb_cells = Jupyter.notebook.get_cells();\n",
       "                for (var i = 0; i < nbb_cells.length; ++i) {\n",
       "                    if (nbb_cells[i].input_prompt_number == nbb_cell_id) {\n",
       "                        if (nbb_cells[i].get_text() == nbb_unformatted_code) {\n",
       "                             nbb_cells[i].set_text(nbb_formatted_code);\n",
       "                        }\n",
       "                        break;\n",
       "                    }\n",
       "                }\n",
       "            }, 500);\n",
       "            "
      ],
      "text/plain": [
       "<IPython.core.display.Javascript object>"
      ]
     },
     "metadata": {},
     "output_type": "display_data"
    }
   ],
   "source": [
    "scale_dict = {\n",
    "    \"VCF0842\": \"ENVIRONMENTAL REGULATION SCALE\",\n",
    "    \"VCF0843\": \"DEFENSE SPENDING SCALE\",\n",
    "    # limited years\n",
    "    # 'VCF0844': 'HOW WILLING SHOULD U.S. BE TO USE MILITARY FORCE',\n",
    "    \"VCF0806\": \"GOVERNMENT HEALTH INSURANCE SCALE\",\n",
    "}"
   ]
  },
  {
   "cell_type": "code",
   "execution_count": null,
   "id": "d581e158",
   "metadata": {},
   "outputs": [],
   "source": []
  },
  {
   "cell_type": "code",
   "execution_count": 36,
   "id": "50d17421",
   "metadata": {},
   "outputs": [
    {
     "data": {
      "application/javascript": [
       "\n",
       "            setTimeout(function() {\n",
       "                var nbb_cell_id = 36;\n",
       "                var nbb_unformatted_code = \"issue_dict = {**spending_dict, **scale_dict}\\nissue_dict = policy_dict\";\n",
       "                var nbb_formatted_code = \"issue_dict = {**spending_dict, **scale_dict}\\nissue_dict = policy_dict\";\n",
       "                var nbb_cells = Jupyter.notebook.get_cells();\n",
       "                for (var i = 0; i < nbb_cells.length; ++i) {\n",
       "                    if (nbb_cells[i].input_prompt_number == nbb_cell_id) {\n",
       "                        if (nbb_cells[i].get_text() == nbb_unformatted_code) {\n",
       "                             nbb_cells[i].set_text(nbb_formatted_code);\n",
       "                        }\n",
       "                        break;\n",
       "                    }\n",
       "                }\n",
       "            }, 500);\n",
       "            "
      ],
      "text/plain": [
       "<IPython.core.display.Javascript object>"
      ]
     },
     "metadata": {},
     "output_type": "display_data"
    }
   ],
   "source": [
    "issue_dict = {**spending_dict, **scale_dict}\n",
    "issue_dict = policy_dict"
   ]
  },
  {
   "cell_type": "code",
   "execution_count": 37,
   "id": "3cc64914",
   "metadata": {},
   "outputs": [
    {
     "data": {
      "text/plain": [
       "12"
      ]
     },
     "execution_count": 37,
     "metadata": {},
     "output_type": "execute_result"
    },
    {
     "data": {
      "application/javascript": [
       "\n",
       "            setTimeout(function() {\n",
       "                var nbb_cell_id = 37;\n",
       "                var nbb_unformatted_code = \"issue_names = [name.capitalize() for name in issue_dict.values()]\\nlen(issue_names)\";\n",
       "                var nbb_formatted_code = \"issue_names = [name.capitalize() for name in issue_dict.values()]\\nlen(issue_names)\";\n",
       "                var nbb_cells = Jupyter.notebook.get_cells();\n",
       "                for (var i = 0; i < nbb_cells.length; ++i) {\n",
       "                    if (nbb_cells[i].input_prompt_number == nbb_cell_id) {\n",
       "                        if (nbb_cells[i].get_text() == nbb_unformatted_code) {\n",
       "                             nbb_cells[i].set_text(nbb_formatted_code);\n",
       "                        }\n",
       "                        break;\n",
       "                    }\n",
       "                }\n",
       "            }, 500);\n",
       "            "
      ],
      "text/plain": [
       "<IPython.core.display.Javascript object>"
      ]
     },
     "metadata": {},
     "output_type": "display_data"
    }
   ],
   "source": [
    "issue_names = [name.capitalize() for name in issue_dict.values()]\n",
    "len(issue_names)"
   ]
  },
  {
   "cell_type": "markdown",
   "id": "85bb7d6f",
   "metadata": {},
   "source": [
    "## Data cleaning\n",
    "\n",
    "The following sections clean the data, primarily by replacing special codes for unasked, unanswered, or \"don't know\" with NaN."
   ]
  },
  {
   "cell_type": "code",
   "execution_count": 38,
   "id": "e49d8986",
   "metadata": {},
   "outputs": [
    {
     "name": "stdout",
     "output_type": "stream",
     "text": [
      "'VCF0842': [1, 2],\n",
      "'VCF0843': [1, 2],\n",
      "'VCF0806': [1, 2],\n"
     ]
    },
    {
     "data": {
      "application/javascript": [
       "\n",
       "            setTimeout(function() {\n",
       "                var nbb_cell_id = 38;\n",
       "                var nbb_unformatted_code = \"for col in scale_dict:\\n    print(f\\\"'{col}': [1, 2],\\\")\\n    subset[col].replace([8, 9, 0], np.nan, inplace=True)\";\n",
       "                var nbb_formatted_code = \"for col in scale_dict:\\n    print(f\\\"'{col}': [1, 2],\\\")\\n    subset[col].replace([8, 9, 0], np.nan, inplace=True)\";\n",
       "                var nbb_cells = Jupyter.notebook.get_cells();\n",
       "                for (var i = 0; i < nbb_cells.length; ++i) {\n",
       "                    if (nbb_cells[i].input_prompt_number == nbb_cell_id) {\n",
       "                        if (nbb_cells[i].get_text() == nbb_unformatted_code) {\n",
       "                             nbb_cells[i].set_text(nbb_formatted_code);\n",
       "                        }\n",
       "                        break;\n",
       "                    }\n",
       "                }\n",
       "            }, 500);\n",
       "            "
      ],
      "text/plain": [
       "<IPython.core.display.Javascript object>"
      ]
     },
     "metadata": {},
     "output_type": "display_data"
    }
   ],
   "source": [
    "for col in scale_dict:\n",
    "    print(f\"'{col}': [1, 2],\")\n",
    "    subset[col].replace([8, 9, 0], np.nan, inplace=True)"
   ]
  },
  {
   "cell_type": "code",
   "execution_count": 39,
   "id": "2c380048",
   "metadata": {},
   "outputs": [
    {
     "name": "stdout",
     "output_type": "stream",
     "text": [
      "'VCF0876': [1],\n",
      "'VCF0877': [1],\n",
      "'VCF0878': [1],\n",
      "'VCF0879a': [1],\n",
      "'VCF9238': [1],\n",
      "'VCF9236': [1],\n",
      "'VCF9231': [1],\n",
      "'VCF0838': [1],\n",
      "'VCF9043': [1],\n",
      "'VCF0816': [1],\n",
      "'VCF9037': [1],\n",
      "'VCF0867a': [1],\n"
     ]
    },
    {
     "data": {
      "application/javascript": [
       "\n",
       "            setTimeout(function() {\n",
       "                var nbb_cell_id = 39;\n",
       "                var nbb_unformatted_code = \"for col in policy_dict:\\n    print(f\\\"'{col}': [1],\\\")\\n    subset[col].replace([7, 8, 9, 0, -7, -8, -9], np.nan, inplace=True)\";\n",
       "                var nbb_formatted_code = \"for col in policy_dict:\\n    print(f\\\"'{col}': [1],\\\")\\n    subset[col].replace([7, 8, 9, 0, -7, -8, -9], np.nan, inplace=True)\";\n",
       "                var nbb_cells = Jupyter.notebook.get_cells();\n",
       "                for (var i = 0; i < nbb_cells.length; ++i) {\n",
       "                    if (nbb_cells[i].input_prompt_number == nbb_cell_id) {\n",
       "                        if (nbb_cells[i].get_text() == nbb_unformatted_code) {\n",
       "                             nbb_cells[i].set_text(nbb_formatted_code);\n",
       "                        }\n",
       "                        break;\n",
       "                    }\n",
       "                }\n",
       "            }, 500);\n",
       "            "
      ],
      "text/plain": [
       "<IPython.core.display.Javascript object>"
      ]
     },
     "metadata": {},
     "output_type": "display_data"
    }
   ],
   "source": [
    "for col in policy_dict:\n",
    "    print(f\"'{col}': [1],\")\n",
    "    subset[col].replace([7, 8, 9, 0, -7, -8, -9], np.nan, inplace=True)"
   ]
  },
  {
   "cell_type": "code",
   "execution_count": 40,
   "id": "01460a4e",
   "metadata": {},
   "outputs": [
    {
     "name": "stdout",
     "output_type": "stream",
     "text": [
      "VCF0851\n",
      "VCF0852\n",
      "VCF0853\n",
      "VCF0854\n"
     ]
    },
    {
     "data": {
      "application/javascript": [
       "\n",
       "            setTimeout(function() {\n",
       "                var nbb_cell_id = 40;\n",
       "                var nbb_unformatted_code = \"for i in range(1, 5):\\n    col = f\\\"VCF085{i}\\\"\\n    print(col)\\n    subset[col].replace([8, 9, 0], np.nan, inplace=True)\";\n",
       "                var nbb_formatted_code = \"for i in range(1, 5):\\n    col = f\\\"VCF085{i}\\\"\\n    print(col)\\n    subset[col].replace([8, 9, 0], np.nan, inplace=True)\";\n",
       "                var nbb_cells = Jupyter.notebook.get_cells();\n",
       "                for (var i = 0; i < nbb_cells.length; ++i) {\n",
       "                    if (nbb_cells[i].input_prompt_number == nbb_cell_id) {\n",
       "                        if (nbb_cells[i].get_text() == nbb_unformatted_code) {\n",
       "                             nbb_cells[i].set_text(nbb_formatted_code);\n",
       "                        }\n",
       "                        break;\n",
       "                    }\n",
       "                }\n",
       "            }, 500);\n",
       "            "
      ],
      "text/plain": [
       "<IPython.core.display.Javascript object>"
      ]
     },
     "metadata": {},
     "output_type": "display_data"
    }
   ],
   "source": [
    "for i in range(1, 5):\n",
    "    col = f\"VCF085{i}\"\n",
    "    print(col)\n",
    "    subset[col].replace([8, 9, 0], np.nan, inplace=True)"
   ]
  },
  {
   "cell_type": "code",
   "execution_count": 41,
   "id": "90cd328a",
   "metadata": {},
   "outputs": [
    {
     "name": "stdout",
     "output_type": "stream",
     "text": [
      "VCF0851\n",
      "VCF0852\n",
      "VCF0853\n",
      "VCF0854\n"
     ]
    },
    {
     "data": {
      "application/javascript": [
       "\n",
       "            setTimeout(function() {\n",
       "                var nbb_cell_id = 41;\n",
       "                var nbb_unformatted_code = \"for i in range(1, 5):\\n    col = f\\\"VCF085{i}\\\"\\n    print(col)\\n    subset[col].replace([8, 9, 0], np.nan, inplace=True)\";\n",
       "                var nbb_formatted_code = \"for i in range(1, 5):\\n    col = f\\\"VCF085{i}\\\"\\n    print(col)\\n    subset[col].replace([8, 9, 0], np.nan, inplace=True)\";\n",
       "                var nbb_cells = Jupyter.notebook.get_cells();\n",
       "                for (var i = 0; i < nbb_cells.length; ++i) {\n",
       "                    if (nbb_cells[i].input_prompt_number == nbb_cell_id) {\n",
       "                        if (nbb_cells[i].get_text() == nbb_unformatted_code) {\n",
       "                             nbb_cells[i].set_text(nbb_formatted_code);\n",
       "                        }\n",
       "                        break;\n",
       "                    }\n",
       "                }\n",
       "            }, 500);\n",
       "            "
      ],
      "text/plain": [
       "<IPython.core.display.Javascript object>"
      ]
     },
     "metadata": {},
     "output_type": "display_data"
    }
   ],
   "source": [
    "for i in range(1, 5):\n",
    "    col = f\"VCF085{i}\"\n",
    "    print(col)\n",
    "    subset[col].replace([8, 9, 0], np.nan, inplace=True)"
   ]
  },
  {
   "cell_type": "code",
   "execution_count": 42,
   "id": "b15201e6",
   "metadata": {},
   "outputs": [
    {
     "name": "stdout",
     "output_type": "stream",
     "text": [
      "VCF9013\n",
      "VCF9014\n",
      "VCF9015\n",
      "VCF9016\n",
      "VCF9017\n",
      "VCF9018\n"
     ]
    },
    {
     "data": {
      "application/javascript": [
       "\n",
       "            setTimeout(function() {\n",
       "                var nbb_cell_id = 42;\n",
       "                var nbb_unformatted_code = \"for i in range(3, 9):\\n    col = f\\\"VCF901{i}\\\"\\n    print(col)\\n    subset[col].replace([8, 9, 0], np.nan, inplace=True)\";\n",
       "                var nbb_formatted_code = \"for i in range(3, 9):\\n    col = f\\\"VCF901{i}\\\"\\n    print(col)\\n    subset[col].replace([8, 9, 0], np.nan, inplace=True)\";\n",
       "                var nbb_cells = Jupyter.notebook.get_cells();\n",
       "                for (var i = 0; i < nbb_cells.length; ++i) {\n",
       "                    if (nbb_cells[i].input_prompt_number == nbb_cell_id) {\n",
       "                        if (nbb_cells[i].get_text() == nbb_unformatted_code) {\n",
       "                             nbb_cells[i].set_text(nbb_formatted_code);\n",
       "                        }\n",
       "                        break;\n",
       "                    }\n",
       "                }\n",
       "            }, 500);\n",
       "            "
      ],
      "text/plain": [
       "<IPython.core.display.Javascript object>"
      ]
     },
     "metadata": {},
     "output_type": "display_data"
    }
   ],
   "source": [
    "for i in range(3, 9):\n",
    "    col = f\"VCF901{i}\"\n",
    "    print(col)\n",
    "    subset[col].replace([8, 9, 0], np.nan, inplace=True)"
   ]
  },
  {
   "cell_type": "code",
   "execution_count": 43,
   "id": "f26b980f",
   "metadata": {},
   "outputs": [
    {
     "name": "stdout",
     "output_type": "stream",
     "text": [
      "VCF9246\n",
      "VCF9247\n",
      "VCF9248\n",
      "VCF9249\n"
     ]
    },
    {
     "data": {
      "application/javascript": [
       "\n",
       "            setTimeout(function() {\n",
       "                var nbb_cell_id = 43;\n",
       "                var nbb_unformatted_code = \"for i in range(6, 10):\\n    col = f\\\"VCF924{i}\\\"\\n    print(col)\\n    subset[col].replace([-8, -9], np.nan, inplace=True)\";\n",
       "                var nbb_formatted_code = \"for i in range(6, 10):\\n    col = f\\\"VCF924{i}\\\"\\n    print(col)\\n    subset[col].replace([-8, -9], np.nan, inplace=True)\";\n",
       "                var nbb_cells = Jupyter.notebook.get_cells();\n",
       "                for (var i = 0; i < nbb_cells.length; ++i) {\n",
       "                    if (nbb_cells[i].input_prompt_number == nbb_cell_id) {\n",
       "                        if (nbb_cells[i].get_text() == nbb_unformatted_code) {\n",
       "                             nbb_cells[i].set_text(nbb_formatted_code);\n",
       "                        }\n",
       "                        break;\n",
       "                    }\n",
       "                }\n",
       "            }, 500);\n",
       "            "
      ],
      "text/plain": [
       "<IPython.core.display.Javascript object>"
      ]
     },
     "metadata": {},
     "output_type": "display_data"
    }
   ],
   "source": [
    "for i in range(6, 10):\n",
    "    col = f\"VCF924{i}\"\n",
    "    print(col)\n",
    "    subset[col].replace([-8, -9], np.nan, inplace=True)"
   ]
  },
  {
   "cell_type": "code",
   "execution_count": 44,
   "id": "6afc0c8a",
   "metadata": {},
   "outputs": [
    {
     "name": "stdout",
     "output_type": "stream",
     "text": [
      "VCF0601\n",
      "VCF0602\n",
      "VCF0603\n",
      "VCF0604\n",
      "VCF0605\n",
      "VCF0606\n",
      "VCF0607\n",
      "VCF0608\n",
      "VCF0609\n"
     ]
    },
    {
     "data": {
      "application/javascript": [
       "\n",
       "            setTimeout(function() {\n",
       "                var nbb_cell_id = 44;\n",
       "                var nbb_unformatted_code = \"for i in range(1, 10):\\n    col = f\\\"VCF060{i}\\\"\\n    print(col)\\n    subset[col].replace([0, 9], np.nan, inplace=True)\";\n",
       "                var nbb_formatted_code = \"for i in range(1, 10):\\n    col = f\\\"VCF060{i}\\\"\\n    print(col)\\n    subset[col].replace([0, 9], np.nan, inplace=True)\";\n",
       "                var nbb_cells = Jupyter.notebook.get_cells();\n",
       "                for (var i = 0; i < nbb_cells.length; ++i) {\n",
       "                    if (nbb_cells[i].input_prompt_number == nbb_cell_id) {\n",
       "                        if (nbb_cells[i].get_text() == nbb_unformatted_code) {\n",
       "                             nbb_cells[i].set_text(nbb_formatted_code);\n",
       "                        }\n",
       "                        break;\n",
       "                    }\n",
       "                }\n",
       "            }, 500);\n",
       "            "
      ],
      "text/plain": [
       "<IPython.core.display.Javascript object>"
      ]
     },
     "metadata": {},
     "output_type": "display_data"
    }
   ],
   "source": [
    "for i in range(1, 10):\n",
    "    col = f\"VCF060{i}\"\n",
    "    print(col)\n",
    "    subset[col].replace([0, 9], np.nan, inplace=True)"
   ]
  },
  {
   "cell_type": "code",
   "execution_count": 45,
   "id": "493e958f",
   "metadata": {},
   "outputs": [
    {
     "name": "stdout",
     "output_type": "stream",
     "text": [
      "VCF9131\n",
      "VCF9132\n",
      "VCF9133\n",
      "VCF9134\n"
     ]
    },
    {
     "data": {
      "application/javascript": [
       "\n",
       "            setTimeout(function() {\n",
       "                var nbb_cell_id = 45;\n",
       "                var nbb_unformatted_code = \"for i in range(1, 5):\\n    col = f\\\"VCF913{i}\\\"\\n    print(col)\\n    subset[col].replace([8, 9], np.nan, inplace=True)\";\n",
       "                var nbb_formatted_code = \"for i in range(1, 5):\\n    col = f\\\"VCF913{i}\\\"\\n    print(col)\\n    subset[col].replace([8, 9], np.nan, inplace=True)\";\n",
       "                var nbb_cells = Jupyter.notebook.get_cells();\n",
       "                for (var i = 0; i < nbb_cells.length; ++i) {\n",
       "                    if (nbb_cells[i].input_prompt_number == nbb_cell_id) {\n",
       "                        if (nbb_cells[i].get_text() == nbb_unformatted_code) {\n",
       "                             nbb_cells[i].set_text(nbb_formatted_code);\n",
       "                        }\n",
       "                        break;\n",
       "                    }\n",
       "                }\n",
       "            }, 500);\n",
       "            "
      ],
      "text/plain": [
       "<IPython.core.display.Javascript object>"
      ]
     },
     "metadata": {},
     "output_type": "display_data"
    }
   ],
   "source": [
    "for i in range(1, 5):\n",
    "    col = f\"VCF913{i}\"\n",
    "    print(col)\n",
    "    subset[col].replace([8, 9], np.nan, inplace=True)"
   ]
  },
  {
   "cell_type": "code",
   "execution_count": 46,
   "id": "cf0ef5ac",
   "metadata": {},
   "outputs": [
    {
     "name": "stdout",
     "output_type": "stream",
     "text": [
      "'VCF0886': [3, 7],\n",
      "'VCF0887': [3, 7],\n",
      "'VCF0888': [3, 7],\n",
      "'VCF0889': [3, 7],\n",
      "'VCF0890': [3, 7],\n",
      "'VCF0891': [3, 7],\n",
      "'VCF0892': [3, 7],\n",
      "'VCF0893': [3, 7],\n",
      "'VCF0894': [3, 7],\n"
     ]
    },
    {
     "data": {
      "application/javascript": [
       "\n",
       "            setTimeout(function() {\n",
       "                var nbb_cell_id = 46;\n",
       "                var nbb_unformatted_code = \"for i in range(86, 95):\\n    col = f\\\"VCF08{i}\\\"\\n    print(f\\\"'{col}': [3, 7],\\\")\\n    subset[col].replace([8, 9], np.nan, inplace=True)\";\n",
       "                var nbb_formatted_code = \"for i in range(86, 95):\\n    col = f\\\"VCF08{i}\\\"\\n    print(f\\\"'{col}': [3, 7],\\\")\\n    subset[col].replace([8, 9], np.nan, inplace=True)\";\n",
       "                var nbb_cells = Jupyter.notebook.get_cells();\n",
       "                for (var i = 0; i < nbb_cells.length; ++i) {\n",
       "                    if (nbb_cells[i].input_prompt_number == nbb_cell_id) {\n",
       "                        if (nbb_cells[i].get_text() == nbb_unformatted_code) {\n",
       "                             nbb_cells[i].set_text(nbb_formatted_code);\n",
       "                        }\n",
       "                        break;\n",
       "                    }\n",
       "                }\n",
       "            }, 500);\n",
       "            "
      ],
      "text/plain": [
       "<IPython.core.display.Javascript object>"
      ]
     },
     "metadata": {},
     "output_type": "display_data"
    }
   ],
   "source": [
    "for i in range(86, 95):\n",
    "    col = f\"VCF08{i}\"\n",
    "    print(f\"'{col}': [3, 7],\")\n",
    "    subset[col].replace([8, 9], np.nan, inplace=True)"
   ]
  },
  {
   "cell_type": "code",
   "execution_count": 47,
   "id": "81c943b5",
   "metadata": {},
   "outputs": [
    {
     "name": "stdout",
     "output_type": "stream",
     "text": [
      "'VCF9046': [3, 7],\n",
      "'VCF9047': [3, 7],\n",
      "'VCF9048': [3, 7],\n",
      "'VCF9049': [3, 7],\n",
      "'VCF9050': [3, 7],\n"
     ]
    },
    {
     "data": {
      "application/javascript": [
       "\n",
       "            setTimeout(function() {\n",
       "                var nbb_cell_id = 47;\n",
       "                var nbb_unformatted_code = \"for i in range(46, 51):\\n    col = f\\\"VCF90{i}\\\"\\n    print(f\\\"'{col}': [3, 7],\\\")\\n    subset[col].replace([8, 9], np.nan, inplace=True)\";\n",
       "                var nbb_formatted_code = \"for i in range(46, 51):\\n    col = f\\\"VCF90{i}\\\"\\n    print(f\\\"'{col}': [3, 7],\\\")\\n    subset[col].replace([8, 9], np.nan, inplace=True)\";\n",
       "                var nbb_cells = Jupyter.notebook.get_cells();\n",
       "                for (var i = 0; i < nbb_cells.length; ++i) {\n",
       "                    if (nbb_cells[i].input_prompt_number == nbb_cell_id) {\n",
       "                        if (nbb_cells[i].get_text() == nbb_unformatted_code) {\n",
       "                             nbb_cells[i].set_text(nbb_formatted_code);\n",
       "                        }\n",
       "                        break;\n",
       "                    }\n",
       "                }\n",
       "            }, 500);\n",
       "            "
      ],
      "text/plain": [
       "<IPython.core.display.Javascript object>"
      ]
     },
     "metadata": {},
     "output_type": "display_data"
    }
   ],
   "source": [
    "for i in range(46, 51):\n",
    "    col = f\"VCF90{i}\"\n",
    "    print(f\"'{col}': [3, 7],\")\n",
    "    subset[col].replace([8, 9], np.nan, inplace=True)"
   ]
  },
  {
   "cell_type": "code",
   "execution_count": 48,
   "id": "d08417a5",
   "metadata": {},
   "outputs": [
    {
     "data": {
      "text/html": [
       "<div>\n",
       "<style scoped>\n",
       "    .dataframe tbody tr th:only-of-type {\n",
       "        vertical-align: middle;\n",
       "    }\n",
       "\n",
       "    .dataframe tbody tr th {\n",
       "        vertical-align: top;\n",
       "    }\n",
       "\n",
       "    .dataframe thead th {\n",
       "        text-align: right;\n",
       "    }\n",
       "</style>\n",
       "<table border=\"1\" class=\"dataframe\">\n",
       "  <thead>\n",
       "    <tr style=\"text-align: right;\">\n",
       "      <th></th>\n",
       "      <th>counts</th>\n",
       "    </tr>\n",
       "    <tr>\n",
       "      <th>values</th>\n",
       "      <th></th>\n",
       "    </tr>\n",
       "  </thead>\n",
       "  <tbody>\n",
       "    <tr>\n",
       "      <th>1.0</th>\n",
       "      <td>2995</td>\n",
       "    </tr>\n",
       "    <tr>\n",
       "      <th>2.0</th>\n",
       "      <td>7311</td>\n",
       "    </tr>\n",
       "    <tr>\n",
       "      <th>3.0</th>\n",
       "      <td>2733</td>\n",
       "    </tr>\n",
       "    <tr>\n",
       "      <th>7.0</th>\n",
       "      <td>33</td>\n",
       "    </tr>\n",
       "    <tr>\n",
       "      <th>NaN</th>\n",
       "      <td>39836</td>\n",
       "    </tr>\n",
       "  </tbody>\n",
       "</table>\n",
       "</div>"
      ],
      "text/plain": [
       "        counts\n",
       "values        \n",
       "1.0       2995\n",
       "2.0       7311\n",
       "3.0       2733\n",
       "7.0         33\n",
       "NaN      39836"
      ]
     },
     "execution_count": 48,
     "metadata": {},
     "output_type": "execute_result"
    },
    {
     "data": {
      "application/javascript": [
       "\n",
       "            setTimeout(function() {\n",
       "                var nbb_cell_id = 48;\n",
       "                var nbb_unformatted_code = \"values(subset[\\\"VCF9050\\\"])\";\n",
       "                var nbb_formatted_code = \"values(subset[\\\"VCF9050\\\"])\";\n",
       "                var nbb_cells = Jupyter.notebook.get_cells();\n",
       "                for (var i = 0; i < nbb_cells.length; ++i) {\n",
       "                    if (nbb_cells[i].input_prompt_number == nbb_cell_id) {\n",
       "                        if (nbb_cells[i].get_text() == nbb_unformatted_code) {\n",
       "                             nbb_cells[i].set_text(nbb_formatted_code);\n",
       "                        }\n",
       "                        break;\n",
       "                    }\n",
       "                }\n",
       "            }, 500);\n",
       "            "
      ],
      "text/plain": [
       "<IPython.core.display.Javascript object>"
      ]
     },
     "metadata": {},
     "output_type": "display_data"
    }
   ],
   "source": [
    "values(subset[\"VCF9050\"])"
   ]
  },
  {
   "cell_type": "code",
   "execution_count": 49,
   "id": "3678c609",
   "metadata": {},
   "outputs": [
    {
     "data": {
      "application/javascript": [
       "\n",
       "            setTimeout(function() {\n",
       "                var nbb_cell_id = 49;\n",
       "                var nbb_unformatted_code = \"conservative_values = {\\n    \\\"VCF0601\\\": [1],\\n    \\\"VCF0602\\\": [1],\\n    \\\"VCF0603\\\": [1],\\n    \\\"VCF0604\\\": [1, 2],\\n    \\\"VCF0605\\\": [2],\\n    \\\"VCF0606\\\": [1],\\n    \\\"VCF0607\\\": [1],\\n    \\\"VCF0608\\\": [1],\\n    \\\"VCF0609\\\": [1],\\n    \\\"VCF0851\\\": [1, 2],\\n    \\\"VCF0852\\\": [4, 5],\\n    \\\"VCF0853\\\": [1, 2],\\n    \\\"VCF0854\\\": [4, 5],\\n    \\\"VCF9013\\\": [3, 4, 5],\\n    \\\"VCF9014\\\": [1, 2],\\n    \\\"VCF9015\\\": [3, 4, 5],\\n    \\\"VCF9016\\\": [1, 2],\\n    \\\"VCF9017\\\": [1, 2],\\n    \\\"VCF9018\\\": [3, 4, 5],\\n    \\\"VCF9131\\\": [1],\\n    \\\"VCF9132\\\": [2],\\n    \\\"VCF9133\\\": [1],\\n    \\\"VCF9134\\\": [2],\\n    \\\"VCF9246\\\": [3],\\n    \\\"VCF9247\\\": [1],\\n    \\\"VCF9248\\\": [3],\\n    \\\"VCF9249\\\": [3],\\n    \\\"VCF0886\\\": [3, 7],\\n    \\\"VCF0887\\\": [3, 7],\\n    \\\"VCF0888\\\": [1],  # dealing with crime\\n    \\\"VCF0889\\\": [3, 7],\\n    \\\"VCF0890\\\": [3, 7],\\n    \\\"VCF0891\\\": [3, 7],\\n    \\\"VCF0892\\\": [3, 7],\\n    \\\"VCF0893\\\": [3, 7],\\n    \\\"VCF0894\\\": [3, 7],\\n    \\\"VCF9046\\\": [3, 7],\\n    \\\"VCF9047\\\": [3, 7],\\n    \\\"VCF9048\\\": [3, 7],\\n    \\\"VCF9049\\\": [3, 7],\\n    \\\"VCF9050\\\": [3, 7],\\n    \\\"VCF0876\\\": [5],\\n    \\\"VCF0877\\\": [5],\\n    \\\"VCF0878\\\": [5],\\n    \\\"VCF0879a\\\": [5],\\n    \\\"VCF9238\\\": [2, 3],\\n    \\\"VCF9236\\\": [1],\\n    \\\"VCF9232\\\": [1],\\n    \\\"VCF9231\\\": [1],\\n    \\\"VCF9230\\\": [2, 3],  # not much difference\\n    \\\"VCF0838\\\": [1, 2],\\n    \\\"VCF9043\\\": [3, 4],\\n    \\\"VCF0816\\\": [2],\\n    \\\"VCF9037\\\": [5],\\n    \\\"VCF0818\\\": [4, 5],\\n    \\\"VCF0823\\\": [1],\\n    \\\"VCF0867a\\\": [5],\\n    \\\"VCF0842\\\": [5, 6, 7],\\n    \\\"VCF0843\\\": [5, 6, 7],\\n    \\\"VCF0806\\\": [5, 6, 7],\\n}\";\n",
       "                var nbb_formatted_code = \"conservative_values = {\\n    \\\"VCF0601\\\": [1],\\n    \\\"VCF0602\\\": [1],\\n    \\\"VCF0603\\\": [1],\\n    \\\"VCF0604\\\": [1, 2],\\n    \\\"VCF0605\\\": [2],\\n    \\\"VCF0606\\\": [1],\\n    \\\"VCF0607\\\": [1],\\n    \\\"VCF0608\\\": [1],\\n    \\\"VCF0609\\\": [1],\\n    \\\"VCF0851\\\": [1, 2],\\n    \\\"VCF0852\\\": [4, 5],\\n    \\\"VCF0853\\\": [1, 2],\\n    \\\"VCF0854\\\": [4, 5],\\n    \\\"VCF9013\\\": [3, 4, 5],\\n    \\\"VCF9014\\\": [1, 2],\\n    \\\"VCF9015\\\": [3, 4, 5],\\n    \\\"VCF9016\\\": [1, 2],\\n    \\\"VCF9017\\\": [1, 2],\\n    \\\"VCF9018\\\": [3, 4, 5],\\n    \\\"VCF9131\\\": [1],\\n    \\\"VCF9132\\\": [2],\\n    \\\"VCF9133\\\": [1],\\n    \\\"VCF9134\\\": [2],\\n    \\\"VCF9246\\\": [3],\\n    \\\"VCF9247\\\": [1],\\n    \\\"VCF9248\\\": [3],\\n    \\\"VCF9249\\\": [3],\\n    \\\"VCF0886\\\": [3, 7],\\n    \\\"VCF0887\\\": [3, 7],\\n    \\\"VCF0888\\\": [1],  # dealing with crime\\n    \\\"VCF0889\\\": [3, 7],\\n    \\\"VCF0890\\\": [3, 7],\\n    \\\"VCF0891\\\": [3, 7],\\n    \\\"VCF0892\\\": [3, 7],\\n    \\\"VCF0893\\\": [3, 7],\\n    \\\"VCF0894\\\": [3, 7],\\n    \\\"VCF9046\\\": [3, 7],\\n    \\\"VCF9047\\\": [3, 7],\\n    \\\"VCF9048\\\": [3, 7],\\n    \\\"VCF9049\\\": [3, 7],\\n    \\\"VCF9050\\\": [3, 7],\\n    \\\"VCF0876\\\": [5],\\n    \\\"VCF0877\\\": [5],\\n    \\\"VCF0878\\\": [5],\\n    \\\"VCF0879a\\\": [5],\\n    \\\"VCF9238\\\": [2, 3],\\n    \\\"VCF9236\\\": [1],\\n    \\\"VCF9232\\\": [1],\\n    \\\"VCF9231\\\": [1],\\n    \\\"VCF9230\\\": [2, 3],  # not much difference\\n    \\\"VCF0838\\\": [1, 2],\\n    \\\"VCF9043\\\": [3, 4],\\n    \\\"VCF0816\\\": [2],\\n    \\\"VCF9037\\\": [5],\\n    \\\"VCF0818\\\": [4, 5],\\n    \\\"VCF0823\\\": [1],\\n    \\\"VCF0867a\\\": [5],\\n    \\\"VCF0842\\\": [5, 6, 7],\\n    \\\"VCF0843\\\": [5, 6, 7],\\n    \\\"VCF0806\\\": [5, 6, 7],\\n}\";\n",
       "                var nbb_cells = Jupyter.notebook.get_cells();\n",
       "                for (var i = 0; i < nbb_cells.length; ++i) {\n",
       "                    if (nbb_cells[i].input_prompt_number == nbb_cell_id) {\n",
       "                        if (nbb_cells[i].get_text() == nbb_unformatted_code) {\n",
       "                             nbb_cells[i].set_text(nbb_formatted_code);\n",
       "                        }\n",
       "                        break;\n",
       "                    }\n",
       "                }\n",
       "            }, 500);\n",
       "            "
      ],
      "text/plain": [
       "<IPython.core.display.Javascript object>"
      ]
     },
     "metadata": {},
     "output_type": "display_data"
    }
   ],
   "source": [
    "conservative_values = {\n",
    "    \"VCF0601\": [1],\n",
    "    \"VCF0602\": [1],\n",
    "    \"VCF0603\": [1],\n",
    "    \"VCF0604\": [1, 2],\n",
    "    \"VCF0605\": [2],\n",
    "    \"VCF0606\": [1],\n",
    "    \"VCF0607\": [1],\n",
    "    \"VCF0608\": [1],\n",
    "    \"VCF0609\": [1],\n",
    "    \"VCF0851\": [1, 2],\n",
    "    \"VCF0852\": [4, 5],\n",
    "    \"VCF0853\": [1, 2],\n",
    "    \"VCF0854\": [4, 5],\n",
    "    \"VCF9013\": [3, 4, 5],\n",
    "    \"VCF9014\": [1, 2],\n",
    "    \"VCF9015\": [3, 4, 5],\n",
    "    \"VCF9016\": [1, 2],\n",
    "    \"VCF9017\": [1, 2],\n",
    "    \"VCF9018\": [3, 4, 5],\n",
    "    \"VCF9131\": [1],\n",
    "    \"VCF9132\": [2],\n",
    "    \"VCF9133\": [1],\n",
    "    \"VCF9134\": [2],\n",
    "    \"VCF9246\": [3],\n",
    "    \"VCF9247\": [1],\n",
    "    \"VCF9248\": [3],\n",
    "    \"VCF9249\": [3],\n",
    "    \"VCF0886\": [3, 7],\n",
    "    \"VCF0887\": [3, 7],\n",
    "    \"VCF0888\": [1],  # dealing with crime\n",
    "    \"VCF0889\": [3, 7],\n",
    "    \"VCF0890\": [3, 7],\n",
    "    \"VCF0891\": [3, 7],\n",
    "    \"VCF0892\": [3, 7],\n",
    "    \"VCF0893\": [3, 7],\n",
    "    \"VCF0894\": [3, 7],\n",
    "    \"VCF9046\": [3, 7],\n",
    "    \"VCF9047\": [3, 7],\n",
    "    \"VCF9048\": [3, 7],\n",
    "    \"VCF9049\": [3, 7],\n",
    "    \"VCF9050\": [3, 7],\n",
    "    \"VCF0876\": [5],\n",
    "    \"VCF0877\": [5],\n",
    "    \"VCF0878\": [5],\n",
    "    \"VCF0879a\": [5],\n",
    "    \"VCF9238\": [2, 3],\n",
    "    \"VCF9236\": [1],\n",
    "    \"VCF9232\": [1],\n",
    "    \"VCF9231\": [1],\n",
    "    \"VCF9230\": [2, 3],  # not much difference\n",
    "    \"VCF0838\": [1, 2],\n",
    "    \"VCF9043\": [3, 4],\n",
    "    \"VCF0816\": [2],\n",
    "    \"VCF9037\": [5],\n",
    "    \"VCF0818\": [4, 5],\n",
    "    \"VCF0823\": [1],\n",
    "    \"VCF0867a\": [5],\n",
    "    \"VCF0842\": [5, 6, 7],\n",
    "    \"VCF0843\": [5, 6, 7],\n",
    "    \"VCF0806\": [5, 6, 7],\n",
    "}"
   ]
  },
  {
   "cell_type": "markdown",
   "id": "fbf725c9",
   "metadata": {},
   "source": [
    "## Analysis"
   ]
  },
  {
   "cell_type": "code",
   "execution_count": 50,
   "id": "a7604e0b",
   "metadata": {},
   "outputs": [
    {
     "data": {
      "application/javascript": [
       "\n",
       "            setTimeout(function() {\n",
       "                var nbb_cell_id = 50;\n",
       "                var nbb_unformatted_code = \"def make_questions(df, issue_dict):\\n    questions = pd.DataFrame(dtype=float)\\n\\n    for varname in issue_dict:\\n        questions[varname] = (\\n            df[varname].isin(conservative_values[varname]).astype(float)\\n        )\\n        null = subset[varname].isna()\\n        questions.loc[null, varname] = np.nan\\n\\n    return questions\";\n",
       "                var nbb_formatted_code = \"def make_questions(df, issue_dict):\\n    questions = pd.DataFrame(dtype=float)\\n\\n    for varname in issue_dict:\\n        questions[varname] = (\\n            df[varname].isin(conservative_values[varname]).astype(float)\\n        )\\n        null = subset[varname].isna()\\n        questions.loc[null, varname] = np.nan\\n\\n    return questions\";\n",
       "                var nbb_cells = Jupyter.notebook.get_cells();\n",
       "                for (var i = 0; i < nbb_cells.length; ++i) {\n",
       "                    if (nbb_cells[i].input_prompt_number == nbb_cell_id) {\n",
       "                        if (nbb_cells[i].get_text() == nbb_unformatted_code) {\n",
       "                             nbb_cells[i].set_text(nbb_formatted_code);\n",
       "                        }\n",
       "                        break;\n",
       "                    }\n",
       "                }\n",
       "            }, 500);\n",
       "            "
      ],
      "text/plain": [
       "<IPython.core.display.Javascript object>"
      ]
     },
     "metadata": {},
     "output_type": "display_data"
    }
   ],
   "source": [
    "def make_questions(df, issue_dict):\n",
    "    questions = pd.DataFrame(dtype=float)\n",
    "\n",
    "    for varname in issue_dict:\n",
    "        questions[varname] = (\n",
    "            df[varname].isin(conservative_values[varname]).astype(float)\n",
    "        )\n",
    "        null = subset[varname].isna()\n",
    "        questions.loc[null, varname] = np.nan\n",
    "\n",
    "    return questions"
   ]
  },
  {
   "cell_type": "code",
   "execution_count": 51,
   "id": "40de4383",
   "metadata": {},
   "outputs": [
    {
     "data": {
      "application/javascript": [
       "\n",
       "            setTimeout(function() {\n",
       "                var nbb_cell_id = 51;\n",
       "                var nbb_unformatted_code = \"def add_column(df, column):\\n    return pd.concat([df, column], axis=1)\";\n",
       "                var nbb_formatted_code = \"def add_column(df, column):\\n    return pd.concat([df, column], axis=1)\";\n",
       "                var nbb_cells = Jupyter.notebook.get_cells();\n",
       "                for (var i = 0; i < nbb_cells.length; ++i) {\n",
       "                    if (nbb_cells[i].input_prompt_number == nbb_cell_id) {\n",
       "                        if (nbb_cells[i].get_text() == nbb_unformatted_code) {\n",
       "                             nbb_cells[i].set_text(nbb_formatted_code);\n",
       "                        }\n",
       "                        break;\n",
       "                    }\n",
       "                }\n",
       "            }, 500);\n",
       "            "
      ],
      "text/plain": [
       "<IPython.core.display.Javascript object>"
      ]
     },
     "metadata": {},
     "output_type": "display_data"
    }
   ],
   "source": [
    "def add_column(df, column):\n",
    "    return pd.concat([df, column], axis=1)"
   ]
  },
  {
   "cell_type": "code",
   "execution_count": 52,
   "id": "4fc6d8c8",
   "metadata": {},
   "outputs": [
    {
     "data": {
      "application/javascript": [
       "\n",
       "            setTimeout(function() {\n",
       "                var nbb_cell_id = 52;\n",
       "                var nbb_unformatted_code = \"def make_time_series(df, questions):\\n    questions_year = add_column(questions, subset[\\\"year\\\"])\\n    over_time = questions_year.groupby(\\\"year\\\").mean() * 100\\n    return over_time\";\n",
       "                var nbb_formatted_code = \"def make_time_series(df, questions):\\n    questions_year = add_column(questions, subset[\\\"year\\\"])\\n    over_time = questions_year.groupby(\\\"year\\\").mean() * 100\\n    return over_time\";\n",
       "                var nbb_cells = Jupyter.notebook.get_cells();\n",
       "                for (var i = 0; i < nbb_cells.length; ++i) {\n",
       "                    if (nbb_cells[i].input_prompt_number == nbb_cell_id) {\n",
       "                        if (nbb_cells[i].get_text() == nbb_unformatted_code) {\n",
       "                             nbb_cells[i].set_text(nbb_formatted_code);\n",
       "                        }\n",
       "                        break;\n",
       "                    }\n",
       "                }\n",
       "            }, 500);\n",
       "            "
      ],
      "text/plain": [
       "<IPython.core.display.Javascript object>"
      ]
     },
     "metadata": {},
     "output_type": "display_data"
    }
   ],
   "source": [
    "def make_time_series(df, questions):\n",
    "    questions_year = add_column(questions, subset[\"year\"])\n",
    "    over_time = questions_year.groupby(\"year\").mean() * 100\n",
    "    return over_time"
   ]
  },
  {
   "cell_type": "code",
   "execution_count": 53,
   "id": "70712e8c",
   "metadata": {},
   "outputs": [
    {
     "data": {
      "application/javascript": [
       "\n",
       "            setTimeout(function() {\n",
       "                var nbb_cell_id = 53;\n",
       "                var nbb_unformatted_code = \"from scipy.stats import linregress\\n\\n\\ndef find_slopes(over_time, issue_dict):\\n    res = []\\n    for column in over_time.columns:\\n        desc = issue_dict[column].replace(\\\"\\\\n\\\", \\\" \\\").capitalize()\\n        series = over_time[column].dropna()\\n        result = linregress(series.index, series.values)\\n        res.append((column, result.slope, desc))\\n\\n    columns = [\\\"name\\\", \\\"slope\\\", \\\"desc\\\"]\\n    return pd.DataFrame(res, columns=columns).sort_values(by=\\\"slope\\\")\";\n",
       "                var nbb_formatted_code = \"from scipy.stats import linregress\\n\\n\\ndef find_slopes(over_time, issue_dict):\\n    res = []\\n    for column in over_time.columns:\\n        desc = issue_dict[column].replace(\\\"\\\\n\\\", \\\" \\\").capitalize()\\n        series = over_time[column].dropna()\\n        result = linregress(series.index, series.values)\\n        res.append((column, result.slope, desc))\\n\\n    columns = [\\\"name\\\", \\\"slope\\\", \\\"desc\\\"]\\n    return pd.DataFrame(res, columns=columns).sort_values(by=\\\"slope\\\")\";\n",
       "                var nbb_cells = Jupyter.notebook.get_cells();\n",
       "                for (var i = 0; i < nbb_cells.length; ++i) {\n",
       "                    if (nbb_cells[i].input_prompt_number == nbb_cell_id) {\n",
       "                        if (nbb_cells[i].get_text() == nbb_unformatted_code) {\n",
       "                             nbb_cells[i].set_text(nbb_formatted_code);\n",
       "                        }\n",
       "                        break;\n",
       "                    }\n",
       "                }\n",
       "            }, 500);\n",
       "            "
      ],
      "text/plain": [
       "<IPython.core.display.Javascript object>"
      ]
     },
     "metadata": {},
     "output_type": "display_data"
    }
   ],
   "source": [
    "from scipy.stats import linregress\n",
    "\n",
    "\n",
    "def find_slopes(over_time, issue_dict):\n",
    "    res = []\n",
    "    for column in over_time.columns:\n",
    "        desc = issue_dict[column].replace(\"\\n\", \" \").capitalize()\n",
    "        series = over_time[column].dropna()\n",
    "        result = linregress(series.index, series.values)\n",
    "        res.append((column, result.slope, desc))\n",
    "\n",
    "    columns = [\"name\", \"slope\", \"desc\"]\n",
    "    return pd.DataFrame(res, columns=columns).sort_values(by=\"slope\")"
   ]
  },
  {
   "cell_type": "code",
   "execution_count": 54,
   "id": "91c6fcb4",
   "metadata": {},
   "outputs": [
    {
     "data": {
      "application/javascript": [
       "\n",
       "            setTimeout(function() {\n",
       "                var nbb_cell_id = 54;\n",
       "                var nbb_unformatted_code = \"def plot_over_time(over_time, title=\\\"\\\", lowess=False):\\n    for column in over_time.columns:\\n        if lowess:\\n            plot_series_lowess(over_time[column], color=\\\"C0\\\", alpha=0.5, label=\\\"\\\")\\n        else:\\n            over_time[column].dropna().plot(style=\\\".-\\\", alpha=0.5)\\n\\n    decorate(\\n        xlabel=\\\"Year of survey\\\",\\n        ylabel=\\\"Percent\\\",\\n        title=title,\\n    )\";\n",
       "                var nbb_formatted_code = \"def plot_over_time(over_time, title=\\\"\\\", lowess=False):\\n    for column in over_time.columns:\\n        if lowess:\\n            plot_series_lowess(over_time[column], color=\\\"C0\\\", alpha=0.5, label=\\\"\\\")\\n        else:\\n            over_time[column].dropna().plot(style=\\\".-\\\", alpha=0.5)\\n\\n    decorate(\\n        xlabel=\\\"Year of survey\\\",\\n        ylabel=\\\"Percent\\\",\\n        title=title,\\n    )\";\n",
       "                var nbb_cells = Jupyter.notebook.get_cells();\n",
       "                for (var i = 0; i < nbb_cells.length; ++i) {\n",
       "                    if (nbb_cells[i].input_prompt_number == nbb_cell_id) {\n",
       "                        if (nbb_cells[i].get_text() == nbb_unformatted_code) {\n",
       "                             nbb_cells[i].set_text(nbb_formatted_code);\n",
       "                        }\n",
       "                        break;\n",
       "                    }\n",
       "                }\n",
       "            }, 500);\n",
       "            "
      ],
      "text/plain": [
       "<IPython.core.display.Javascript object>"
      ]
     },
     "metadata": {},
     "output_type": "display_data"
    }
   ],
   "source": [
    "def plot_over_time(over_time, title=\"\", lowess=False):\n",
    "    for column in over_time.columns:\n",
    "        if lowess:\n",
    "            plot_series_lowess(over_time[column], color=\"C0\", alpha=0.5, label=\"\")\n",
    "        else:\n",
    "            over_time[column].dropna().plot(style=\".-\", alpha=0.5)\n",
    "\n",
    "    decorate(\n",
    "        xlabel=\"Year of survey\",\n",
    "        ylabel=\"Percent\",\n",
    "        title=title,\n",
    "    )"
   ]
  },
  {
   "cell_type": "code",
   "execution_count": 55,
   "id": "25086e28",
   "metadata": {},
   "outputs": [
    {
     "data": {
      "application/javascript": [
       "\n",
       "            setTimeout(function() {\n",
       "                var nbb_cell_id = 55;\n",
       "                var nbb_unformatted_code = \"def make_diff_table(questions, df, varname):\\n    augmented = pd.concat([questions, df[varname]], axis=1)\\n    table = augmented.groupby(varname).mean().transpose() * 100\\n    return table\";\n",
       "                var nbb_formatted_code = \"def make_diff_table(questions, df, varname):\\n    augmented = pd.concat([questions, df[varname]], axis=1)\\n    table = augmented.groupby(varname).mean().transpose() * 100\\n    return table\";\n",
       "                var nbb_cells = Jupyter.notebook.get_cells();\n",
       "                for (var i = 0; i < nbb_cells.length; ++i) {\n",
       "                    if (nbb_cells[i].input_prompt_number == nbb_cell_id) {\n",
       "                        if (nbb_cells[i].get_text() == nbb_unformatted_code) {\n",
       "                             nbb_cells[i].set_text(nbb_formatted_code);\n",
       "                        }\n",
       "                        break;\n",
       "                    }\n",
       "                }\n",
       "            }, 500);\n",
       "            "
      ],
      "text/plain": [
       "<IPython.core.display.Javascript object>"
      ]
     },
     "metadata": {},
     "output_type": "display_data"
    }
   ],
   "source": [
    "def make_diff_table(questions, df, varname):\n",
    "    augmented = pd.concat([questions, df[varname]], axis=1)\n",
    "    table = augmented.groupby(varname).mean().transpose() * 100\n",
    "    return table"
   ]
  },
  {
   "cell_type": "code",
   "execution_count": 56,
   "id": "b86c5bff",
   "metadata": {},
   "outputs": [
    {
     "data": {
      "application/javascript": [
       "\n",
       "            setTimeout(function() {\n",
       "                var nbb_cell_id = 56;\n",
       "                var nbb_unformatted_code = \"polview_names = [\\\"Conservative\\\", \\\"Moderate\\\", \\\"Liberal\\\"]\\n\\nmuted = sns.color_palette(\\\"muted\\\", 5)\\npolview_color_map = dict(zip(polview_names, [muted[3], muted[4], muted[0]]))\\nmarker_map = dict(zip(polview_names, [\\\"s\\\", \\\"^\\\", \\\"o\\\"]))\\nline_map = dict(zip(polview_names, [\\\":\\\", \\\"-.\\\", \\\"--\\\"]))\";\n",
       "                var nbb_formatted_code = \"polview_names = [\\\"Conservative\\\", \\\"Moderate\\\", \\\"Liberal\\\"]\\n\\nmuted = sns.color_palette(\\\"muted\\\", 5)\\npolview_color_map = dict(zip(polview_names, [muted[3], muted[4], muted[0]]))\\nmarker_map = dict(zip(polview_names, [\\\"s\\\", \\\"^\\\", \\\"o\\\"]))\\nline_map = dict(zip(polview_names, [\\\":\\\", \\\"-.\\\", \\\"--\\\"]))\";\n",
       "                var nbb_cells = Jupyter.notebook.get_cells();\n",
       "                for (var i = 0; i < nbb_cells.length; ++i) {\n",
       "                    if (nbb_cells[i].input_prompt_number == nbb_cell_id) {\n",
       "                        if (nbb_cells[i].get_text() == nbb_unformatted_code) {\n",
       "                             nbb_cells[i].set_text(nbb_formatted_code);\n",
       "                        }\n",
       "                        break;\n",
       "                    }\n",
       "                }\n",
       "            }, 500);\n",
       "            "
      ],
      "text/plain": [
       "<IPython.core.display.Javascript object>"
      ]
     },
     "metadata": {},
     "output_type": "display_data"
    }
   ],
   "source": [
    "polview_names = [\"Conservative\", \"Moderate\", \"Liberal\"]\n",
    "\n",
    "muted = sns.color_palette(\"muted\", 5)\n",
    "polview_color_map = dict(zip(polview_names, [muted[3], muted[4], muted[0]]))\n",
    "marker_map = dict(zip(polview_names, [\"s\", \"^\", \"o\"]))\n",
    "line_map = dict(zip(polview_names, [\":\", \"-.\", \"--\"]))"
   ]
  },
  {
   "cell_type": "code",
   "execution_count": 57,
   "id": "d5f6b89f",
   "metadata": {},
   "outputs": [
    {
     "data": {
      "application/javascript": [
       "\n",
       "            setTimeout(function() {\n",
       "                var nbb_cell_id = 57;\n",
       "                var nbb_unformatted_code = \"def plot_differences(table):\\n    plt.figure(figsize=(7, 4.5))\\n    plt.hlines(\\n        issue_names,\\n        table[\\\"Liberal\\\"],\\n        table[\\\"Conservative\\\"],\\n        color=\\\"gray\\\",\\n        alpha=0.2,\\n    )\\n\\n    for polview, color in reversed(polview_color_map.items()):\\n        x = table[polview]\\n        marker = marker_map[polview]\\n        plt.plot(x, issue_names, marker, color=color, alpha=0.9, label=polview)\\n\\n    decorate(xlabel=\\\"Percent choosing conservative responses\\\")\\n    plt.gca().invert_yaxis()\";\n",
       "                var nbb_formatted_code = \"def plot_differences(table):\\n    plt.figure(figsize=(7, 4.5))\\n    plt.hlines(\\n        issue_names,\\n        table[\\\"Liberal\\\"],\\n        table[\\\"Conservative\\\"],\\n        color=\\\"gray\\\",\\n        alpha=0.2,\\n    )\\n\\n    for polview, color in reversed(polview_color_map.items()):\\n        x = table[polview]\\n        marker = marker_map[polview]\\n        plt.plot(x, issue_names, marker, color=color, alpha=0.9, label=polview)\\n\\n    decorate(xlabel=\\\"Percent choosing conservative responses\\\")\\n    plt.gca().invert_yaxis()\";\n",
       "                var nbb_cells = Jupyter.notebook.get_cells();\n",
       "                for (var i = 0; i < nbb_cells.length; ++i) {\n",
       "                    if (nbb_cells[i].input_prompt_number == nbb_cell_id) {\n",
       "                        if (nbb_cells[i].get_text() == nbb_unformatted_code) {\n",
       "                             nbb_cells[i].set_text(nbb_formatted_code);\n",
       "                        }\n",
       "                        break;\n",
       "                    }\n",
       "                }\n",
       "            }, 500);\n",
       "            "
      ],
      "text/plain": [
       "<IPython.core.display.Javascript object>"
      ]
     },
     "metadata": {},
     "output_type": "display_data"
    }
   ],
   "source": [
    "def plot_differences(table):\n",
    "    plt.figure(figsize=(7, 4.5))\n",
    "    plt.hlines(\n",
    "        issue_names,\n",
    "        table[\"Liberal\"],\n",
    "        table[\"Conservative\"],\n",
    "        color=\"gray\",\n",
    "        alpha=0.2,\n",
    "    )\n",
    "\n",
    "    for polview, color in reversed(polview_color_map.items()):\n",
    "        x = table[polview]\n",
    "        marker = marker_map[polview]\n",
    "        plt.plot(x, issue_names, marker, color=color, alpha=0.9, label=polview)\n",
    "\n",
    "    decorate(xlabel=\"Percent choosing conservative responses\")\n",
    "    plt.gca().invert_yaxis()"
   ]
  },
  {
   "cell_type": "code",
   "execution_count": 58,
   "id": "eef1f1c1",
   "metadata": {},
   "outputs": [
    {
     "data": {
      "application/javascript": [
       "\n",
       "            setTimeout(function() {\n",
       "                var nbb_cell_id = 58;\n",
       "                var nbb_unformatted_code = \"from scipy.special import logit\\nfrom scipy.special import expit\\nfrom scipy.stats import norm\\nfrom empiricaldist import Pmf\\n\\n\\ndef infer_missing(questions, df):\\n    ds = -logit(questions.mean().values)\\n\\n    es = np.linspace(-6, 6, 21)\\n    E, D = np.meshgrid(es, ds)\\n    P = expit(E - D)\\n    Q = 1 - P\\n    ns = P.sum(axis=0)\\n\\n    ps = norm.pdf(es, 0, 4)\\n    prior = Pmf(ps, es)\\n    prior.normalize()\\n\\n    n, m = questions.shape\\n    size = n, m, len(es)\\n    res = np.empty(size)\\n\\n    a = questions.fillna(2).astype(int).values\\n    ii, jj = np.nonzero(a == 0)\\n    res[ii, jj, :] = Q[jj]\\n    ii, jj = np.nonzero(a == 1)\\n    res[ii, jj, :] = P[jj]\\n    ii, jj = np.nonzero(a == 2)\\n    res[ii, jj, :] = 1\\n\\n    product = res.prod(axis=1) * prior.values\\n    posterior = product / product.sum(axis=1)[:, None]\\n    con = (posterior * ns).sum(axis=1)\\n\\n    answered = questions.notna().sum(axis=1)\\n\\n    df[\\\"conservatism\\\"] = pd.Series(con, df.index)\\n    df.loc[answered < 3, \\\"conservatism\\\"] = np.nan\\n    print(df[\\\"conservatism\\\"].notna().sum())\";\n",
       "                var nbb_formatted_code = \"from scipy.special import logit\\nfrom scipy.special import expit\\nfrom scipy.stats import norm\\nfrom empiricaldist import Pmf\\n\\n\\ndef infer_missing(questions, df):\\n    ds = -logit(questions.mean().values)\\n\\n    es = np.linspace(-6, 6, 21)\\n    E, D = np.meshgrid(es, ds)\\n    P = expit(E - D)\\n    Q = 1 - P\\n    ns = P.sum(axis=0)\\n\\n    ps = norm.pdf(es, 0, 4)\\n    prior = Pmf(ps, es)\\n    prior.normalize()\\n\\n    n, m = questions.shape\\n    size = n, m, len(es)\\n    res = np.empty(size)\\n\\n    a = questions.fillna(2).astype(int).values\\n    ii, jj = np.nonzero(a == 0)\\n    res[ii, jj, :] = Q[jj]\\n    ii, jj = np.nonzero(a == 1)\\n    res[ii, jj, :] = P[jj]\\n    ii, jj = np.nonzero(a == 2)\\n    res[ii, jj, :] = 1\\n\\n    product = res.prod(axis=1) * prior.values\\n    posterior = product / product.sum(axis=1)[:, None]\\n    con = (posterior * ns).sum(axis=1)\\n\\n    answered = questions.notna().sum(axis=1)\\n\\n    df[\\\"conservatism\\\"] = pd.Series(con, df.index)\\n    df.loc[answered < 3, \\\"conservatism\\\"] = np.nan\\n    print(df[\\\"conservatism\\\"].notna().sum())\";\n",
       "                var nbb_cells = Jupyter.notebook.get_cells();\n",
       "                for (var i = 0; i < nbb_cells.length; ++i) {\n",
       "                    if (nbb_cells[i].input_prompt_number == nbb_cell_id) {\n",
       "                        if (nbb_cells[i].get_text() == nbb_unformatted_code) {\n",
       "                             nbb_cells[i].set_text(nbb_formatted_code);\n",
       "                        }\n",
       "                        break;\n",
       "                    }\n",
       "                }\n",
       "            }, 500);\n",
       "            "
      ],
      "text/plain": [
       "<IPython.core.display.Javascript object>"
      ]
     },
     "metadata": {},
     "output_type": "display_data"
    }
   ],
   "source": [
    "from scipy.special import logit\n",
    "from scipy.special import expit\n",
    "from scipy.stats import norm\n",
    "from empiricaldist import Pmf\n",
    "\n",
    "\n",
    "def infer_missing(questions, df):\n",
    "    ds = -logit(questions.mean().values)\n",
    "\n",
    "    es = np.linspace(-6, 6, 21)\n",
    "    E, D = np.meshgrid(es, ds)\n",
    "    P = expit(E - D)\n",
    "    Q = 1 - P\n",
    "    ns = P.sum(axis=0)\n",
    "\n",
    "    ps = norm.pdf(es, 0, 4)\n",
    "    prior = Pmf(ps, es)\n",
    "    prior.normalize()\n",
    "\n",
    "    n, m = questions.shape\n",
    "    size = n, m, len(es)\n",
    "    res = np.empty(size)\n",
    "\n",
    "    a = questions.fillna(2).astype(int).values\n",
    "    ii, jj = np.nonzero(a == 0)\n",
    "    res[ii, jj, :] = Q[jj]\n",
    "    ii, jj = np.nonzero(a == 1)\n",
    "    res[ii, jj, :] = P[jj]\n",
    "    ii, jj = np.nonzero(a == 2)\n",
    "    res[ii, jj, :] = 1\n",
    "\n",
    "    product = res.prod(axis=1) * prior.values\n",
    "    posterior = product / product.sum(axis=1)[:, None]\n",
    "    con = (posterior * ns).sum(axis=1)\n",
    "\n",
    "    answered = questions.notna().sum(axis=1)\n",
    "\n",
    "    df[\"conservatism\"] = pd.Series(con, df.index)\n",
    "    df.loc[answered < 3, \"conservatism\"] = np.nan\n",
    "    print(df[\"conservatism\"].notna().sum())"
   ]
  },
  {
   "cell_type": "code",
   "execution_count": 59,
   "id": "82f4ac93",
   "metadata": {},
   "outputs": [
    {
     "data": {
      "application/javascript": [
       "\n",
       "            setTimeout(function() {\n",
       "                var nbb_cell_id = 59;\n",
       "                var nbb_unformatted_code = \"def plot_con(df):\\n    series = df.groupby(\\\"year\\\")[\\\"conservatism\\\"].mean()\\n\\n    plot_series_lowess(series, frac=0.7, color=\\\"C0\\\", label=\\\"\\\", plot_series=True)\\n    decorate(\\n        xlabel=\\\"Year of survey\\\",\\n        ylabel=\\\"Number of conservative responses\\\",\\n        title=\\\"Conservative responses vs year, all respondents\\\",\\n    )\";\n",
       "                var nbb_formatted_code = \"def plot_con(df):\\n    series = df.groupby(\\\"year\\\")[\\\"conservatism\\\"].mean()\\n\\n    plot_series_lowess(series, frac=0.7, color=\\\"C0\\\", label=\\\"\\\", plot_series=True)\\n    decorate(\\n        xlabel=\\\"Year of survey\\\",\\n        ylabel=\\\"Number of conservative responses\\\",\\n        title=\\\"Conservative responses vs year, all respondents\\\",\\n    )\";\n",
       "                var nbb_cells = Jupyter.notebook.get_cells();\n",
       "                for (var i = 0; i < nbb_cells.length; ++i) {\n",
       "                    if (nbb_cells[i].input_prompt_number == nbb_cell_id) {\n",
       "                        if (nbb_cells[i].get_text() == nbb_unformatted_code) {\n",
       "                             nbb_cells[i].set_text(nbb_formatted_code);\n",
       "                        }\n",
       "                        break;\n",
       "                    }\n",
       "                }\n",
       "            }, 500);\n",
       "            "
      ],
      "text/plain": [
       "<IPython.core.display.Javascript object>"
      ]
     },
     "metadata": {},
     "output_type": "display_data"
    }
   ],
   "source": [
    "def plot_con(df):\n",
    "    series = df.groupby(\"year\")[\"conservatism\"].mean()\n",
    "\n",
    "    plot_series_lowess(series, frac=0.7, color=\"C0\", label=\"\", plot_series=True)\n",
    "    decorate(\n",
    "        xlabel=\"Year of survey\",\n",
    "        ylabel=\"Number of conservative responses\",\n",
    "        title=\"Conservative responses vs year, all respondents\",\n",
    "    )"
   ]
  },
  {
   "cell_type": "code",
   "execution_count": 60,
   "id": "2d6f8bec",
   "metadata": {},
   "outputs": [
    {
     "data": {
      "application/javascript": [
       "\n",
       "            setTimeout(function() {\n",
       "                var nbb_cell_id = 60;\n",
       "                var nbb_unformatted_code = \"def plot_by_polviews(df):\\n    table = df.pivot_table(index=\\\"year\\\", columns=\\\"polviews3\\\", values=\\\"conservatism\\\")\\n\\n    columns = [\\\"Conservative\\\", \\\"Moderate\\\", \\\"Liberal\\\"]\\n    options = dict(frac=0.6, plot_series=True)\\n\\n    for column in columns:\\n        plot_series_lowess(\\n            table[column],\\n            ls=line_map[column],\\n            color=polview_color_map[column],\\n            **options\\n        )\\n\\n    # plot_series_lowess(series, ls=\\\"-\\\", color=\\\"gray\\\", alpha=0.5, label=\\\"overall\\\")\\n\\n    decorate(\\n        xlabel=\\\"Year\\\",\\n        ylabel=\\\"Number of conservative responses\\\",\\n        title=\\\"Conservative responses vs year, grouped by alignment\\\",\\n    )\";\n",
       "                var nbb_formatted_code = \"def plot_by_polviews(df):\\n    table = df.pivot_table(index=\\\"year\\\", columns=\\\"polviews3\\\", values=\\\"conservatism\\\")\\n\\n    columns = [\\\"Conservative\\\", \\\"Moderate\\\", \\\"Liberal\\\"]\\n    options = dict(frac=0.6, plot_series=True)\\n\\n    for column in columns:\\n        plot_series_lowess(\\n            table[column],\\n            ls=line_map[column],\\n            color=polview_color_map[column],\\n            **options\\n        )\\n\\n    # plot_series_lowess(series, ls=\\\"-\\\", color=\\\"gray\\\", alpha=0.5, label=\\\"overall\\\")\\n\\n    decorate(\\n        xlabel=\\\"Year\\\",\\n        ylabel=\\\"Number of conservative responses\\\",\\n        title=\\\"Conservative responses vs year, grouped by alignment\\\",\\n    )\";\n",
       "                var nbb_cells = Jupyter.notebook.get_cells();\n",
       "                for (var i = 0; i < nbb_cells.length; ++i) {\n",
       "                    if (nbb_cells[i].input_prompt_number == nbb_cell_id) {\n",
       "                        if (nbb_cells[i].get_text() == nbb_unformatted_code) {\n",
       "                             nbb_cells[i].set_text(nbb_formatted_code);\n",
       "                        }\n",
       "                        break;\n",
       "                    }\n",
       "                }\n",
       "            }, 500);\n",
       "            "
      ],
      "text/plain": [
       "<IPython.core.display.Javascript object>"
      ]
     },
     "metadata": {},
     "output_type": "display_data"
    }
   ],
   "source": [
    "def plot_by_polviews(df):\n",
    "    table = df.pivot_table(index=\"year\", columns=\"polviews3\", values=\"conservatism\")\n",
    "\n",
    "    columns = [\"Conservative\", \"Moderate\", \"Liberal\"]\n",
    "    options = dict(frac=0.6, plot_series=True)\n",
    "\n",
    "    for column in columns:\n",
    "        plot_series_lowess(\n",
    "            table[column],\n",
    "            ls=line_map[column],\n",
    "            color=polview_color_map[column],\n",
    "            **options\n",
    "        )\n",
    "\n",
    "    # plot_series_lowess(series, ls=\"-\", color=\"gray\", alpha=0.5, label=\"overall\")\n",
    "\n",
    "    decorate(\n",
    "        xlabel=\"Year\",\n",
    "        ylabel=\"Number of conservative responses\",\n",
    "        title=\"Conservative responses vs year, grouped by alignment\",\n",
    "    )"
   ]
  },
  {
   "cell_type": "code",
   "execution_count": 61,
   "id": "63578c54",
   "metadata": {},
   "outputs": [
    {
     "data": {
      "application/javascript": [
       "\n",
       "            setTimeout(function() {\n",
       "                var nbb_cell_id = 61;\n",
       "                var nbb_unformatted_code = \"def plot_by_sex(df):\\n    table = df.pivot_table(index=\\\"year\\\", columns=\\\"sex\\\", values=\\\"conservatism\\\")\\n\\n    columns = ['Male', 'Female']\\n    options = dict(frac=0.6, plot_series=True)\\n\\n    color_map = dict(zip(columns, ['C0', 'C1']))\\n    label_map = dict(zip(columns, ['Male', 'Female']))\\n\\n    for column in columns:\\n        plot_series_lowess(table[column], \\n                           color=color_map[column], \\n                           label=label_map[column], \\n                           **options)\\n\\n    decorate(xlabel=\\\"Year of survey\\\", \\n             ylabel=\\\"Number of conservative responses\\\",\\n             title=\\\"Conservative responses vs year, grouped by sex\\\",\\n    )\";\n",
       "                var nbb_formatted_code = \"def plot_by_sex(df):\\n    table = df.pivot_table(index=\\\"year\\\", columns=\\\"sex\\\", values=\\\"conservatism\\\")\\n\\n    columns = [\\\"Male\\\", \\\"Female\\\"]\\n    options = dict(frac=0.6, plot_series=True)\\n\\n    color_map = dict(zip(columns, [\\\"C0\\\", \\\"C1\\\"]))\\n    label_map = dict(zip(columns, [\\\"Male\\\", \\\"Female\\\"]))\\n\\n    for column in columns:\\n        plot_series_lowess(\\n            table[column], color=color_map[column], label=label_map[column], **options\\n        )\\n\\n    decorate(\\n        xlabel=\\\"Year of survey\\\",\\n        ylabel=\\\"Number of conservative responses\\\",\\n        title=\\\"Conservative responses vs year, grouped by sex\\\",\\n    )\";\n",
       "                var nbb_cells = Jupyter.notebook.get_cells();\n",
       "                for (var i = 0; i < nbb_cells.length; ++i) {\n",
       "                    if (nbb_cells[i].input_prompt_number == nbb_cell_id) {\n",
       "                        if (nbb_cells[i].get_text() == nbb_unformatted_code) {\n",
       "                             nbb_cells[i].set_text(nbb_formatted_code);\n",
       "                        }\n",
       "                        break;\n",
       "                    }\n",
       "                }\n",
       "            }, 500);\n",
       "            "
      ],
      "text/plain": [
       "<IPython.core.display.Javascript object>"
      ]
     },
     "metadata": {},
     "output_type": "display_data"
    }
   ],
   "source": [
    "def plot_by_sex(df):\n",
    "    table = df.pivot_table(index=\"year\", columns=\"sex\", values=\"conservatism\")\n",
    "\n",
    "    columns = ['Male', 'Female']\n",
    "    options = dict(frac=0.6, plot_series=True)\n",
    "\n",
    "    color_map = dict(zip(columns, ['C0', 'C1']))\n",
    "    label_map = dict(zip(columns, ['Male', 'Female']))\n",
    "\n",
    "    for column in columns:\n",
    "        plot_series_lowess(table[column], \n",
    "                           color=color_map[column], \n",
    "                           label=label_map[column], \n",
    "                           **options)\n",
    "\n",
    "    decorate(xlabel=\"Year of survey\", \n",
    "             ylabel=\"Number of conservative responses\",\n",
    "             title=\"Conservative responses vs year, grouped by sex\",\n",
    "    )\n"
   ]
  },
  {
   "cell_type": "code",
   "execution_count": 62,
   "id": "e00ef9ba",
   "metadata": {},
   "outputs": [
    {
     "name": "stdout",
     "output_type": "stream",
     "text": [
      "34071\n"
     ]
    },
    {
     "data": {
      "text/html": [
       "<div>\n",
       "<style scoped>\n",
       "    .dataframe tbody tr th:only-of-type {\n",
       "        vertical-align: middle;\n",
       "    }\n",
       "\n",
       "    .dataframe tbody tr th {\n",
       "        vertical-align: top;\n",
       "    }\n",
       "\n",
       "    .dataframe thead th {\n",
       "        text-align: right;\n",
       "    }\n",
       "</style>\n",
       "<table border=\"1\" class=\"dataframe\">\n",
       "  <thead>\n",
       "    <tr style=\"text-align: right;\">\n",
       "      <th></th>\n",
       "      <th>name</th>\n",
       "      <th>slope</th>\n",
       "      <th>desc</th>\n",
       "    </tr>\n",
       "  </thead>\n",
       "  <tbody>\n",
       "    <tr>\n",
       "      <th>2</th>\n",
       "      <td>VCF0878</td>\n",
       "      <td>-1.818581</td>\n",
       "      <td>Should gays/lesbians be able to adopt children</td>\n",
       "    </tr>\n",
       "    <tr>\n",
       "      <th>1</th>\n",
       "      <td>VCF0877</td>\n",
       "      <td>-1.197792</td>\n",
       "      <td>Favor or oppose gays in the military</td>\n",
       "    </tr>\n",
       "    <tr>\n",
       "      <th>0</th>\n",
       "      <td>VCF0876</td>\n",
       "      <td>-0.938155</td>\n",
       "      <td>Law to protect homosexuals against discrimination</td>\n",
       "    </tr>\n",
       "    <tr>\n",
       "      <th>3</th>\n",
       "      <td>VCF0879a</td>\n",
       "      <td>-0.838447</td>\n",
       "      <td>Increase or decrease number of immigrants to u.s.</td>\n",
       "    </tr>\n",
       "    <tr>\n",
       "      <th>9</th>\n",
       "      <td>VCF0816</td>\n",
       "      <td>-0.454179</td>\n",
       "      <td>Should government ensure school integration</td>\n",
       "    </tr>\n",
       "    <tr>\n",
       "      <th>5</th>\n",
       "      <td>VCF9236</td>\n",
       "      <td>-0.452679</td>\n",
       "      <td>Favor or oppose the death penalty for murder</td>\n",
       "    </tr>\n",
       "    <tr>\n",
       "      <th>8</th>\n",
       "      <td>VCF9043</td>\n",
       "      <td>-0.296690</td>\n",
       "      <td>School prayer allowed</td>\n",
       "    </tr>\n",
       "    <tr>\n",
       "      <th>11</th>\n",
       "      <td>VCF0867a</td>\n",
       "      <td>-0.250041</td>\n",
       "      <td>Affirmative action in hiring/promotion</td>\n",
       "    </tr>\n",
       "    <tr>\n",
       "      <th>7</th>\n",
       "      <td>VCF0838</td>\n",
       "      <td>-0.124896</td>\n",
       "      <td>When should abortion be allowed</td>\n",
       "    </tr>\n",
       "    <tr>\n",
       "      <th>6</th>\n",
       "      <td>VCF9231</td>\n",
       "      <td>0.039818</td>\n",
       "      <td>Limits on imports to protect american jobs</td>\n",
       "    </tr>\n",
       "    <tr>\n",
       "      <th>10</th>\n",
       "      <td>VCF9037</td>\n",
       "      <td>0.235505</td>\n",
       "      <td>Should government ensure fair jobs for blacks</td>\n",
       "    </tr>\n",
       "    <tr>\n",
       "      <th>4</th>\n",
       "      <td>VCF9238</td>\n",
       "      <td>0.438507</td>\n",
       "      <td>More difficult or easier to buy a gun</td>\n",
       "    </tr>\n",
       "  </tbody>\n",
       "</table>\n",
       "</div>"
      ],
      "text/plain": [
       "        name     slope                                               desc\n",
       "2    VCF0878 -1.818581     Should gays/lesbians be able to adopt children\n",
       "1    VCF0877 -1.197792               Favor or oppose gays in the military\n",
       "0    VCF0876 -0.938155  Law to protect homosexuals against discrimination\n",
       "3   VCF0879a -0.838447  Increase or decrease number of immigrants to u.s.\n",
       "9    VCF0816 -0.454179        Should government ensure school integration\n",
       "5    VCF9236 -0.452679       Favor or oppose the death penalty for murder\n",
       "8    VCF9043 -0.296690                              School prayer allowed\n",
       "11  VCF0867a -0.250041             Affirmative action in hiring/promotion\n",
       "7    VCF0838 -0.124896                    When should abortion be allowed\n",
       "6    VCF9231  0.039818         Limits on imports to protect american jobs\n",
       "10   VCF9037  0.235505      Should government ensure fair jobs for blacks\n",
       "4    VCF9238  0.438507              More difficult or easier to buy a gun"
      ]
     },
     "execution_count": 62,
     "metadata": {},
     "output_type": "execute_result"
    },
    {
     "data": {
      "application/javascript": [
       "\n",
       "            setTimeout(function() {\n",
       "                var nbb_cell_id = 62;\n",
       "                var nbb_unformatted_code = \"questions = make_questions(subset, issue_dict)\\nover_time = make_time_series(subset, questions)\\nslopes = find_slopes(over_time, issue_dict)\\ndiff_table = make_diff_table(questions, subset, \\\"polviews3\\\")\\ninfer_missing(questions, subset)\\nslopes\";\n",
       "                var nbb_formatted_code = \"questions = make_questions(subset, issue_dict)\\nover_time = make_time_series(subset, questions)\\nslopes = find_slopes(over_time, issue_dict)\\ndiff_table = make_diff_table(questions, subset, \\\"polviews3\\\")\\ninfer_missing(questions, subset)\\nslopes\";\n",
       "                var nbb_cells = Jupyter.notebook.get_cells();\n",
       "                for (var i = 0; i < nbb_cells.length; ++i) {\n",
       "                    if (nbb_cells[i].input_prompt_number == nbb_cell_id) {\n",
       "                        if (nbb_cells[i].get_text() == nbb_unformatted_code) {\n",
       "                             nbb_cells[i].set_text(nbb_formatted_code);\n",
       "                        }\n",
       "                        break;\n",
       "                    }\n",
       "                }\n",
       "            }, 500);\n",
       "            "
      ],
      "text/plain": [
       "<IPython.core.display.Javascript object>"
      ]
     },
     "metadata": {},
     "output_type": "display_data"
    }
   ],
   "source": [
    "questions = make_questions(subset, issue_dict)\n",
    "over_time = make_time_series(subset, questions)\n",
    "slopes = find_slopes(over_time, issue_dict)\n",
    "diff_table = make_diff_table(questions, subset, \"polviews3\")\n",
    "infer_missing(questions, subset)\n",
    "slopes"
   ]
  },
  {
   "cell_type": "code",
   "execution_count": 63,
   "id": "f75eb009",
   "metadata": {},
   "outputs": [
    {
     "data": {
      "image/png": "[encoded data removed]",
      "text/plain": [
       "<Figure size 640x480 with 1 Axes>"
      ]
     },
     "metadata": {},
     "output_type": "display_data"
    },
    {
     "data": {
      "application/javascript": [
       "\n",
       "            setTimeout(function() {\n",
       "                var nbb_cell_id = 63;\n",
       "                var nbb_unformatted_code = \"plot_over_time(over_time)\\nsavefig(\\\"anes_overton1.png\\\")\";\n",
       "                var nbb_formatted_code = \"plot_over_time(over_time)\\nsavefig(\\\"anes_overton1.png\\\")\";\n",
       "                var nbb_cells = Jupyter.notebook.get_cells();\n",
       "                for (var i = 0; i < nbb_cells.length; ++i) {\n",
       "                    if (nbb_cells[i].input_prompt_number == nbb_cell_id) {\n",
       "                        if (nbb_cells[i].get_text() == nbb_unformatted_code) {\n",
       "                             nbb_cells[i].set_text(nbb_formatted_code);\n",
       "                        }\n",
       "                        break;\n",
       "                    }\n",
       "                }\n",
       "            }, 500);\n",
       "            "
      ],
      "text/plain": [
       "<IPython.core.display.Javascript object>"
      ]
     },
     "metadata": {},
     "output_type": "display_data"
    }
   ],
   "source": [
    "plot_over_time(over_time)\n",
    "savefig(\"anes_overton1.png\")"
   ]
  },
  {
   "cell_type": "code",
   "execution_count": 64,
   "id": "22c6ee42",
   "metadata": {},
   "outputs": [
    {
     "data": {
      "text/html": [
       "<div>\n",
       "<style scoped>\n",
       "    .dataframe tbody tr th:only-of-type {\n",
       "        vertical-align: middle;\n",
       "    }\n",
       "\n",
       "    .dataframe tbody tr th {\n",
       "        vertical-align: top;\n",
       "    }\n",
       "\n",
       "    .dataframe thead th {\n",
       "        text-align: right;\n",
       "    }\n",
       "</style>\n",
       "<table border=\"1\" class=\"dataframe\">\n",
       "  <thead>\n",
       "    <tr style=\"text-align: right;\">\n",
       "      <th>VCF9037</th>\n",
       "      <th>1.0</th>\n",
       "      <th>5.0</th>\n",
       "    </tr>\n",
       "    <tr>\n",
       "      <th>year</th>\n",
       "      <th></th>\n",
       "      <th></th>\n",
       "    </tr>\n",
       "  </thead>\n",
       "  <tbody>\n",
       "    <tr>\n",
       "      <th>1972.0</th>\n",
       "      <td>54.117647</td>\n",
       "      <td>45.882353</td>\n",
       "    </tr>\n",
       "    <tr>\n",
       "      <th>1986.0</th>\n",
       "      <td>59.201141</td>\n",
       "      <td>40.798859</td>\n",
       "    </tr>\n",
       "    <tr>\n",
       "      <th>1988.0</th>\n",
       "      <td>55.664062</td>\n",
       "      <td>44.335938</td>\n",
       "    </tr>\n",
       "    <tr>\n",
       "      <th>1992.0</th>\n",
       "      <td>56.367162</td>\n",
       "      <td>43.632838</td>\n",
       "    </tr>\n",
       "    <tr>\n",
       "      <th>1996.0</th>\n",
       "      <td>50.902935</td>\n",
       "      <td>49.097065</td>\n",
       "    </tr>\n",
       "    <tr>\n",
       "      <th>2000.0</th>\n",
       "      <td>56.101844</td>\n",
       "      <td>43.898156</td>\n",
       "    </tr>\n",
       "    <tr>\n",
       "      <th>2004.0</th>\n",
       "      <td>55.555556</td>\n",
       "      <td>44.444444</td>\n",
       "    </tr>\n",
       "    <tr>\n",
       "      <th>2008.0</th>\n",
       "      <td>50.864422</td>\n",
       "      <td>49.135578</td>\n",
       "    </tr>\n",
       "    <tr>\n",
       "      <th>2012.0</th>\n",
       "      <td>41.983947</td>\n",
       "      <td>58.016053</td>\n",
       "    </tr>\n",
       "  </tbody>\n",
       "</table>\n",
       "</div>"
      ],
      "text/plain": [
       "VCF9037        1.0        5.0\n",
       "year                         \n",
       "1972.0   54.117647  45.882353\n",
       "1986.0   59.201141  40.798859\n",
       "1988.0   55.664062  44.335938\n",
       "1992.0   56.367162  43.632838\n",
       "1996.0   50.902935  49.097065\n",
       "2000.0   56.101844  43.898156\n",
       "2004.0   55.555556  44.444444\n",
       "2008.0   50.864422  49.135578\n",
       "2012.0   41.983947  58.016053"
      ]
     },
     "execution_count": 64,
     "metadata": {},
     "output_type": "execute_result"
    },
    {
     "data": {
      "application/javascript": [
       "\n",
       "            setTimeout(function() {\n",
       "                var nbb_cell_id = 64;\n",
       "                var nbb_unformatted_code = \"xtab = pd.crosstab(subset[\\\"year\\\"], subset[\\\"VCF9037\\\"], normalize=\\\"index\\\") * 100\\nxtab\";\n",
       "                var nbb_formatted_code = \"xtab = pd.crosstab(subset[\\\"year\\\"], subset[\\\"VCF9037\\\"], normalize=\\\"index\\\") * 100\\nxtab\";\n",
       "                var nbb_cells = Jupyter.notebook.get_cells();\n",
       "                for (var i = 0; i < nbb_cells.length; ++i) {\n",
       "                    if (nbb_cells[i].input_prompt_number == nbb_cell_id) {\n",
       "                        if (nbb_cells[i].get_text() == nbb_unformatted_code) {\n",
       "                             nbb_cells[i].set_text(nbb_formatted_code);\n",
       "                        }\n",
       "                        break;\n",
       "                    }\n",
       "                }\n",
       "            }, 500);\n",
       "            "
      ],
      "text/plain": [
       "<IPython.core.display.Javascript object>"
      ]
     },
     "metadata": {},
     "output_type": "display_data"
    }
   ],
   "source": [
    "xtab = pd.crosstab(subset[\"year\"], subset[\"VCF9037\"], normalize=\"index\") * 100\n",
    "xtab"
   ]
  },
  {
   "cell_type": "code",
   "execution_count": 65,
   "id": "1b24e913",
   "metadata": {},
   "outputs": [
    {
     "data": {
      "image/png": "[encoded data removed]",
      "text/plain": [
       "<Figure size 700x450 with 1 Axes>"
      ]
     },
     "metadata": {},
     "output_type": "display_data"
    },
    {
     "data": {
      "application/javascript": [
       "\n",
       "            setTimeout(function() {\n",
       "                var nbb_cell_id = 65;\n",
       "                var nbb_unformatted_code = \"plot_differences(diff_table)\\nsavefig(\\\"anes_overton2.png\\\")\";\n",
       "                var nbb_formatted_code = \"plot_differences(diff_table)\\nsavefig(\\\"anes_overton2.png\\\")\";\n",
       "                var nbb_cells = Jupyter.notebook.get_cells();\n",
       "                for (var i = 0; i < nbb_cells.length; ++i) {\n",
       "                    if (nbb_cells[i].input_prompt_number == nbb_cell_id) {\n",
       "                        if (nbb_cells[i].get_text() == nbb_unformatted_code) {\n",
       "                             nbb_cells[i].set_text(nbb_formatted_code);\n",
       "                        }\n",
       "                        break;\n",
       "                    }\n",
       "                }\n",
       "            }, 500);\n",
       "            "
      ],
      "text/plain": [
       "<IPython.core.display.Javascript object>"
      ]
     },
     "metadata": {},
     "output_type": "display_data"
    }
   ],
   "source": [
    "plot_differences(diff_table)\n",
    "savefig(\"anes_overton2.png\")"
   ]
  },
  {
   "cell_type": "code",
   "execution_count": 66,
   "id": "49c47075",
   "metadata": {},
   "outputs": [
    {
     "data": {
      "image/png": "[encoded data removed]",
      "text/plain": [
       "<Figure size 640x480 with 1 Axes>"
      ]
     },
     "metadata": {},
     "output_type": "display_data"
    },
    {
     "data": {
      "application/javascript": [
       "\n",
       "            setTimeout(function() {\n",
       "                var nbb_cell_id = 66;\n",
       "                var nbb_unformatted_code = \"plot_con(subset)\\nsavefig(\\\"anes_overton3.png\\\")\";\n",
       "                var nbb_formatted_code = \"plot_con(subset)\\nsavefig(\\\"anes_overton3.png\\\")\";\n",
       "                var nbb_cells = Jupyter.notebook.get_cells();\n",
       "                for (var i = 0; i < nbb_cells.length; ++i) {\n",
       "                    if (nbb_cells[i].input_prompt_number == nbb_cell_id) {\n",
       "                        if (nbb_cells[i].get_text() == nbb_unformatted_code) {\n",
       "                             nbb_cells[i].set_text(nbb_formatted_code);\n",
       "                        }\n",
       "                        break;\n",
       "                    }\n",
       "                }\n",
       "            }, 500);\n",
       "            "
      ],
      "text/plain": [
       "<IPython.core.display.Javascript object>"
      ]
     },
     "metadata": {},
     "output_type": "display_data"
    }
   ],
   "source": [
    "plot_con(subset)\n",
    "savefig(\"anes_overton3.png\")"
   ]
  },
  {
   "cell_type": "code",
   "execution_count": 67,
   "id": "bdb26102",
   "metadata": {},
   "outputs": [
    {
     "data": {
      "image/png": "[encoded data removed]",
      "text/plain": [
       "<Figure size 640x480 with 1 Axes>"
      ]
     },
     "metadata": {},
     "output_type": "display_data"
    },
    {
     "data": {
      "application/javascript": [
       "\n",
       "            setTimeout(function() {\n",
       "                var nbb_cell_id = 67;\n",
       "                var nbb_unformatted_code = \"plot_by_polviews(subset)\\nsavefig(\\\"anes_overton4.png\\\")\";\n",
       "                var nbb_formatted_code = \"plot_by_polviews(subset)\\nsavefig(\\\"anes_overton4.png\\\")\";\n",
       "                var nbb_cells = Jupyter.notebook.get_cells();\n",
       "                for (var i = 0; i < nbb_cells.length; ++i) {\n",
       "                    if (nbb_cells[i].input_prompt_number == nbb_cell_id) {\n",
       "                        if (nbb_cells[i].get_text() == nbb_unformatted_code) {\n",
       "                             nbb_cells[i].set_text(nbb_formatted_code);\n",
       "                        }\n",
       "                        break;\n",
       "                    }\n",
       "                }\n",
       "            }, 500);\n",
       "            "
      ],
      "text/plain": [
       "<IPython.core.display.Javascript object>"
      ]
     },
     "metadata": {},
     "output_type": "display_data"
    }
   ],
   "source": [
    "plot_by_polviews(subset)\n",
    "savefig(\"anes_overton4.png\")"
   ]
  },
  {
   "cell_type": "code",
   "execution_count": 68,
   "id": "454a8219",
   "metadata": {},
   "outputs": [
    {
     "data": {
      "image/png": "[encoded data removed]",
      "text/plain": [
       "<Figure size 640x480 with 1 Axes>"
      ]
     },
     "metadata": {},
     "output_type": "display_data"
    },
    {
     "data": {
      "application/javascript": [
       "\n",
       "            setTimeout(function() {\n",
       "                var nbb_cell_id = 68;\n",
       "                var nbb_unformatted_code = \"plot_by_sex(subset)\\nsavefig(\\\"anes_overton5.png\\\")\";\n",
       "                var nbb_formatted_code = \"plot_by_sex(subset)\\nsavefig(\\\"anes_overton5.png\\\")\";\n",
       "                var nbb_cells = Jupyter.notebook.get_cells();\n",
       "                for (var i = 0; i < nbb_cells.length; ++i) {\n",
       "                    if (nbb_cells[i].input_prompt_number == nbb_cell_id) {\n",
       "                        if (nbb_cells[i].get_text() == nbb_unformatted_code) {\n",
       "                             nbb_cells[i].set_text(nbb_formatted_code);\n",
       "                        }\n",
       "                        break;\n",
       "                    }\n",
       "                }\n",
       "            }, 500);\n",
       "            "
      ],
      "text/plain": [
       "<IPython.core.display.Javascript object>"
      ]
     },
     "metadata": {},
     "output_type": "display_data"
    }
   ],
   "source": [
    "plot_by_sex(subset)\n",
    "savefig(\"anes_overton5.png\")"
   ]
  },
  {
   "cell_type": "code",
   "execution_count": 71,
   "id": "bd8d6c67",
   "metadata": {},
   "outputs": [
    {
     "data": {
      "image/png": "[encoded data removed]",
      "text/plain": [
       "<Figure size 640x480 with 1 Axes>"
      ]
     },
     "metadata": {},
     "output_type": "display_data"
    },
    {
     "data": {
      "application/javascript": [
       "\n",
       "            setTimeout(function() {\n",
       "                var nbb_cell_id = 71;\n",
       "                var nbb_unformatted_code = \"young = subset.query(\\\"age < 30\\\")\\nplot_by_sex(young)\\nplt.title('Conservative responses vs year, grouped by sex, age < 30')\\nsavefig(\\\"anes_overton6.png\\\")\";\n",
       "                var nbb_formatted_code = \"young = subset.query(\\\"age < 30\\\")\\nplot_by_sex(young)\\nplt.title(\\\"Conservative responses vs year, grouped by sex, age < 30\\\")\\nsavefig(\\\"anes_overton6.png\\\")\";\n",
       "                var nbb_cells = Jupyter.notebook.get_cells();\n",
       "                for (var i = 0; i < nbb_cells.length; ++i) {\n",
       "                    if (nbb_cells[i].input_prompt_number == nbb_cell_id) {\n",
       "                        if (nbb_cells[i].get_text() == nbb_unformatted_code) {\n",
       "                             nbb_cells[i].set_text(nbb_formatted_code);\n",
       "                        }\n",
       "                        break;\n",
       "                    }\n",
       "                }\n",
       "            }, 500);\n",
       "            "
      ],
      "text/plain": [
       "<IPython.core.display.Javascript object>"
      ]
     },
     "metadata": {},
     "output_type": "display_data"
    }
   ],
   "source": [
    "young = subset.query(\"age < 30\")\n",
    "plot_by_sex(young)\n",
    "plt.title(\"Conservative responses vs year, grouped by sex, age < 30\")\n",
    "savefig(\"anes_overton6.png\")"
   ]
  },
  {
   "cell_type": "code",
   "execution_count": null,
   "id": "fee6be26",
   "metadata": {},
   "outputs": [],
   "source": []
  }
 ],
 "metadata": {
  "celltoolbar": "Tags",
  "kernelspec": {
   "display_name": "Python 3 (ipykernel)",
   "language": "python",
   "name": "python3"
  },
  "language_info": {
   "codemirror_mode": {
    "name": "ipython",
    "version": 3
   },
   "file_extension": ".py",
   "mimetype": "text/x-python",
   "name": "python",
   "nbconvert_exporter": "python",
   "pygments_lexer": "ipython3",
   "version": "3.10.12"
  }
 },
 "nbformat": 4,
 "nbformat_minor": 5
}
