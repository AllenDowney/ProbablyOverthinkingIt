{
 "cells": [
  {
   "cell_type": "markdown",
   "metadata": {},
   "source": [
    "# Superbolts\n",
    "\n",
    "Exploring data from the World Wide Lightning Location Network (WWLLN).\n",
    "\n",
    "Allen Downey\n",
    "[MIT License](https://mit-license.org/)"
   ]
  },
  {
   "cell_type": "code",
   "execution_count": 1,
   "metadata": {},
   "outputs": [],
   "source": [
    "# Install empiricaldist if we don't already have it\n",
    "\n",
    "try:\n",
    "    import empiricaldist\n",
    "except ImportError:\n",
    "    !pip install empiricaldist"
   ]
  },
  {
   "cell_type": "code",
   "execution_count": 2,
   "metadata": {},
   "outputs": [],
   "source": [
    "from os.path import basename, exists\n",
    "\n",
    "\n",
    "def download(url):\n",
    "    filename = basename(url)\n",
    "    if not exists(filename):\n",
    "        from urllib.request import urlretrieve\n",
    "\n",
    "        local, _ = urlretrieve(url, filename)\n",
    "        print(\"Downloaded \" + local)\n",
    "\n",
    "\n",
    "download(\n",
    "    \"https://github.com/AllenDowney/ProbablyOverthinkingIt/raw/book/notebooks/utils.py\"\n",
    ")"
   ]
  },
  {
   "cell_type": "code",
   "execution_count": 3,
   "metadata": {},
   "outputs": [
    {
     "data": {
      "application/javascript": [
       "\n",
       "            setTimeout(function() {\n",
       "                var nbb_cell_id = 3;\n",
       "                var nbb_unformatted_code = \"import pandas as pd\\nimport numpy as np\\nimport matplotlib.pyplot as plt\\n\\nfrom utils import decorate\\n\\n%load_ext nb_black\";\n",
       "                var nbb_formatted_code = \"import pandas as pd\\nimport numpy as np\\nimport matplotlib.pyplot as plt\\n\\nfrom utils import decorate\\n\\n%load_ext nb_black\";\n",
       "                var nbb_cells = Jupyter.notebook.get_cells();\n",
       "                for (var i = 0; i < nbb_cells.length; ++i) {\n",
       "                    if (nbb_cells[i].input_prompt_number == nbb_cell_id) {\n",
       "                        if (nbb_cells[i].get_text() == nbb_unformatted_code) {\n",
       "                             nbb_cells[i].set_text(nbb_formatted_code);\n",
       "                        }\n",
       "                        break;\n",
       "                    }\n",
       "                }\n",
       "            }, 500);\n",
       "            "
      ],
      "text/plain": [
       "<IPython.core.display.Javascript object>"
      ]
     },
     "metadata": {},
     "output_type": "display_data"
    }
   ],
   "source": [
    "import pandas as pd\n",
    "import numpy as np\n",
    "import matplotlib.pyplot as plt\n",
    "\n",
    "from utils import decorate\n",
    "\n",
    "%load_ext nb_black"
   ]
  },
  {
   "cell_type": "markdown",
   "metadata": {},
   "source": [
    "## One week of data"
   ]
  },
  {
   "cell_type": "code",
   "execution_count": 4,
   "metadata": {},
   "outputs": [
    {
     "data": {
      "application/javascript": [
       "\n",
       "            setTimeout(function() {\n",
       "                var nbb_cell_id = 4;\n",
       "                var nbb_unformatted_code = \"from glob import glob\\n\\nfilenames = glob(\\\"superbolts/AE201401*.loc\\\")\\ndfs = [pd.read_csv(filename, header=None) for filename in filenames]\";\n",
       "                var nbb_formatted_code = \"from glob import glob\\n\\nfilenames = glob(\\\"superbolts/AE201401*.loc\\\")\\ndfs = [pd.read_csv(filename, header=None) for filename in filenames]\";\n",
       "                var nbb_cells = Jupyter.notebook.get_cells();\n",
       "                for (var i = 0; i < nbb_cells.length; ++i) {\n",
       "                    if (nbb_cells[i].input_prompt_number == nbb_cell_id) {\n",
       "                        if (nbb_cells[i].get_text() == nbb_unformatted_code) {\n",
       "                             nbb_cells[i].set_text(nbb_formatted_code);\n",
       "                        }\n",
       "                        break;\n",
       "                    }\n",
       "                }\n",
       "            }, 500);\n",
       "            "
      ],
      "text/plain": [
       "<IPython.core.display.Javascript object>"
      ]
     },
     "metadata": {},
     "output_type": "display_data"
    }
   ],
   "source": [
    "from glob import glob\n",
    "\n",
    "filenames = glob(\"superbolts/AE201401*.loc\")\n",
    "dfs = [pd.read_csv(filename, header=None) for filename in filenames]"
   ]
  },
  {
   "cell_type": "code",
   "execution_count": 5,
   "metadata": {},
   "outputs": [
    {
     "data": {
      "text/plain": [
       "(4008245, 9)"
      ]
     },
     "execution_count": 5,
     "metadata": {},
     "output_type": "execute_result"
    },
    {
     "data": {
      "application/javascript": [
       "\n",
       "            setTimeout(function() {\n",
       "                var nbb_cell_id = 5;\n",
       "                var nbb_unformatted_code = \"data = pd.concat(dfs)\\ndata.shape\";\n",
       "                var nbb_formatted_code = \"data = pd.concat(dfs)\\ndata.shape\";\n",
       "                var nbb_cells = Jupyter.notebook.get_cells();\n",
       "                for (var i = 0; i < nbb_cells.length; ++i) {\n",
       "                    if (nbb_cells[i].input_prompt_number == nbb_cell_id) {\n",
       "                        if (nbb_cells[i].get_text() == nbb_unformatted_code) {\n",
       "                             nbb_cells[i].set_text(nbb_formatted_code);\n",
       "                        }\n",
       "                        break;\n",
       "                    }\n",
       "                }\n",
       "            }, 500);\n",
       "            "
      ],
      "text/plain": [
       "<IPython.core.display.Javascript object>"
      ]
     },
     "metadata": {},
     "output_type": "display_data"
    }
   ],
   "source": [
    "data = pd.concat(dfs)\n",
    "data.shape"
   ]
  },
  {
   "cell_type": "markdown",
   "metadata": {},
   "source": [
    "Some records have no energy data."
   ]
  },
  {
   "cell_type": "code",
   "execution_count": 6,
   "metadata": {},
   "outputs": [
    {
     "data": {
      "text/plain": [
       "0.11829965483646833"
      ]
     },
     "execution_count": 6,
     "metadata": {},
     "output_type": "execute_result"
    },
    {
     "data": {
      "application/javascript": [
       "\n",
       "            setTimeout(function() {\n",
       "                var nbb_cell_id = 6;\n",
       "                var nbb_unformatted_code = \"no_energy_data = data[6] == 0\\nno_energy_data.mean()\";\n",
       "                var nbb_formatted_code = \"no_energy_data = data[6] == 0\\nno_energy_data.mean()\";\n",
       "                var nbb_cells = Jupyter.notebook.get_cells();\n",
       "                for (var i = 0; i < nbb_cells.length; ++i) {\n",
       "                    if (nbb_cells[i].input_prompt_number == nbb_cell_id) {\n",
       "                        if (nbb_cells[i].get_text() == nbb_unformatted_code) {\n",
       "                             nbb_cells[i].set_text(nbb_formatted_code);\n",
       "                        }\n",
       "                        break;\n",
       "                    }\n",
       "                }\n",
       "            }, 500);\n",
       "            "
      ],
      "text/plain": [
       "<IPython.core.display.Javascript object>"
      ]
     },
     "metadata": {},
     "output_type": "display_data"
    }
   ],
   "source": [
    "no_energy_data = data[6] == 0\n",
    "no_energy_data.mean()"
   ]
  },
  {
   "cell_type": "markdown",
   "metadata": {},
   "source": [
    "Replace 0 with NaN"
   ]
  },
  {
   "cell_type": "code",
   "execution_count": 7,
   "metadata": {},
   "outputs": [
    {
     "data": {
      "text/html": [
       "<div>\n",
       "<style scoped>\n",
       "    .dataframe tbody tr th:only-of-type {\n",
       "        vertical-align: middle;\n",
       "    }\n",
       "\n",
       "    .dataframe tbody tr th {\n",
       "        vertical-align: top;\n",
       "    }\n",
       "\n",
       "    .dataframe thead th {\n",
       "        text-align: right;\n",
       "    }\n",
       "</style>\n",
       "<table border=\"1\" class=\"dataframe\">\n",
       "  <thead>\n",
       "    <tr style=\"text-align: right;\">\n",
       "      <th></th>\n",
       "      <th>0</th>\n",
       "      <th>1</th>\n",
       "      <th>2</th>\n",
       "      <th>3</th>\n",
       "      <th>4</th>\n",
       "      <th>5</th>\n",
       "      <th>6</th>\n",
       "      <th>7</th>\n",
       "      <th>8</th>\n",
       "    </tr>\n",
       "  </thead>\n",
       "  <tbody>\n",
       "    <tr>\n",
       "      <th>0</th>\n",
       "      <td>2014/1/1</td>\n",
       "      <td>00:00:00.102398</td>\n",
       "      <td>-24.3630</td>\n",
       "      <td>-62.5710</td>\n",
       "      <td>11.2</td>\n",
       "      <td>11</td>\n",
       "      <td>2558.58</td>\n",
       "      <td>228.02</td>\n",
       "      <td>6</td>\n",
       "    </tr>\n",
       "    <tr>\n",
       "      <th>1</th>\n",
       "      <td>2014/1/1</td>\n",
       "      <td>00:00:00.262488</td>\n",
       "      <td>-23.3254</td>\n",
       "      <td>-62.4138</td>\n",
       "      <td>5.9</td>\n",
       "      <td>6</td>\n",
       "      <td>9299.95</td>\n",
       "      <td>NaN</td>\n",
       "      <td>1</td>\n",
       "    </tr>\n",
       "    <tr>\n",
       "      <th>2</th>\n",
       "      <td>2014/1/1</td>\n",
       "      <td>00:00:00.351786</td>\n",
       "      <td>32.9734</td>\n",
       "      <td>48.2879</td>\n",
       "      <td>16.4</td>\n",
       "      <td>5</td>\n",
       "      <td>NaN</td>\n",
       "      <td>NaN</td>\n",
       "      <td>0</td>\n",
       "    </tr>\n",
       "    <tr>\n",
       "      <th>3</th>\n",
       "      <td>2014/1/1</td>\n",
       "      <td>00:00:00.180624</td>\n",
       "      <td>-24.6303</td>\n",
       "      <td>-62.8270</td>\n",
       "      <td>15.1</td>\n",
       "      <td>7</td>\n",
       "      <td>3719.68</td>\n",
       "      <td>819.25</td>\n",
       "      <td>4</td>\n",
       "    </tr>\n",
       "    <tr>\n",
       "      <th>4</th>\n",
       "      <td>2014/1/1</td>\n",
       "      <td>00:00:00.262459</td>\n",
       "      <td>-23.3717</td>\n",
       "      <td>-62.5272</td>\n",
       "      <td>12.2</td>\n",
       "      <td>5</td>\n",
       "      <td>5031.54</td>\n",
       "      <td>1523.71</td>\n",
       "      <td>5</td>\n",
       "    </tr>\n",
       "    <tr>\n",
       "      <th>...</th>\n",
       "      <td>...</td>\n",
       "      <td>...</td>\n",
       "      <td>...</td>\n",
       "      <td>...</td>\n",
       "      <td>...</td>\n",
       "      <td>...</td>\n",
       "      <td>...</td>\n",
       "      <td>...</td>\n",
       "      <td>...</td>\n",
       "    </tr>\n",
       "    <tr>\n",
       "      <th>566086</th>\n",
       "      <td>2014/1/6</td>\n",
       "      <td>23:59:48.961884</td>\n",
       "      <td>-19.9493</td>\n",
       "      <td>-67.5448</td>\n",
       "      <td>5.0</td>\n",
       "      <td>6</td>\n",
       "      <td>1271.09</td>\n",
       "      <td>NaN</td>\n",
       "      <td>1</td>\n",
       "    </tr>\n",
       "    <tr>\n",
       "      <th>566087</th>\n",
       "      <td>2014/1/6</td>\n",
       "      <td>23:59:48.628042</td>\n",
       "      <td>6.7217</td>\n",
       "      <td>-16.5172</td>\n",
       "      <td>9.6</td>\n",
       "      <td>5</td>\n",
       "      <td>5403.90</td>\n",
       "      <td>3780.22</td>\n",
       "      <td>5</td>\n",
       "    </tr>\n",
       "    <tr>\n",
       "      <th>566088</th>\n",
       "      <td>2014/1/6</td>\n",
       "      <td>23:59:48.323564</td>\n",
       "      <td>-19.7990</td>\n",
       "      <td>-67.6731</td>\n",
       "      <td>9.4</td>\n",
       "      <td>5</td>\n",
       "      <td>2581.11</td>\n",
       "      <td>677.25</td>\n",
       "      <td>5</td>\n",
       "    </tr>\n",
       "    <tr>\n",
       "      <th>566089</th>\n",
       "      <td>2014/1/6</td>\n",
       "      <td>23:59:48.193871</td>\n",
       "      <td>-19.7551</td>\n",
       "      <td>-67.8312</td>\n",
       "      <td>17.8</td>\n",
       "      <td>8</td>\n",
       "      <td>60623.83</td>\n",
       "      <td>14732.34</td>\n",
       "      <td>5</td>\n",
       "    </tr>\n",
       "    <tr>\n",
       "      <th>566090</th>\n",
       "      <td>2014/1/6</td>\n",
       "      <td>23:59:48.578496</td>\n",
       "      <td>-20.0184</td>\n",
       "      <td>-67.5782</td>\n",
       "      <td>8.8</td>\n",
       "      <td>7</td>\n",
       "      <td>123274.60</td>\n",
       "      <td>33359.19</td>\n",
       "      <td>2</td>\n",
       "    </tr>\n",
       "  </tbody>\n",
       "</table>\n",
       "<p>4008245 rows × 9 columns</p>\n",
       "</div>"
      ],
      "text/plain": [
       "               0                1        2        3     4   5          6  \\\n",
       "0       2014/1/1  00:00:00.102398 -24.3630 -62.5710  11.2  11    2558.58   \n",
       "1       2014/1/1  00:00:00.262488 -23.3254 -62.4138   5.9   6    9299.95   \n",
       "2       2014/1/1  00:00:00.351786  32.9734  48.2879  16.4   5        NaN   \n",
       "3       2014/1/1  00:00:00.180624 -24.6303 -62.8270  15.1   7    3719.68   \n",
       "4       2014/1/1  00:00:00.262459 -23.3717 -62.5272  12.2   5    5031.54   \n",
       "...          ...              ...      ...      ...   ...  ..        ...   \n",
       "566086  2014/1/6  23:59:48.961884 -19.9493 -67.5448   5.0   6    1271.09   \n",
       "566087  2014/1/6  23:59:48.628042   6.7217 -16.5172   9.6   5    5403.90   \n",
       "566088  2014/1/6  23:59:48.323564 -19.7990 -67.6731   9.4   5    2581.11   \n",
       "566089  2014/1/6  23:59:48.193871 -19.7551 -67.8312  17.8   8   60623.83   \n",
       "566090  2014/1/6  23:59:48.578496 -20.0184 -67.5782   8.8   7  123274.60   \n",
       "\n",
       "               7  8  \n",
       "0         228.02  6  \n",
       "1            NaN  1  \n",
       "2            NaN  0  \n",
       "3         819.25  4  \n",
       "4        1523.71  5  \n",
       "...          ... ..  \n",
       "566086       NaN  1  \n",
       "566087   3780.22  5  \n",
       "566088    677.25  5  \n",
       "566089  14732.34  5  \n",
       "566090  33359.19  2  \n",
       "\n",
       "[4008245 rows x 9 columns]"
      ]
     },
     "execution_count": 7,
     "metadata": {},
     "output_type": "execute_result"
    },
    {
     "data": {
      "application/javascript": [
       "\n",
       "            setTimeout(function() {\n",
       "                var nbb_cell_id = 7;\n",
       "                var nbb_unformatted_code = \"data[6].replace(0, np.nan, inplace=True)\\ndata[7].replace(0, np.nan, inplace=True)\\ndata\";\n",
       "                var nbb_formatted_code = \"data[6].replace(0, np.nan, inplace=True)\\ndata[7].replace(0, np.nan, inplace=True)\\ndata\";\n",
       "                var nbb_cells = Jupyter.notebook.get_cells();\n",
       "                for (var i = 0; i < nbb_cells.length; ++i) {\n",
       "                    if (nbb_cells[i].input_prompt_number == nbb_cell_id) {\n",
       "                        if (nbb_cells[i].get_text() == nbb_unformatted_code) {\n",
       "                             nbb_cells[i].set_text(nbb_formatted_code);\n",
       "                        }\n",
       "                        break;\n",
       "                    }\n",
       "                }\n",
       "            }, 500);\n",
       "            "
      ],
      "text/plain": [
       "<IPython.core.display.Javascript object>"
      ]
     },
     "metadata": {},
     "output_type": "display_data"
    }
   ],
   "source": [
    "data[6].replace(0, np.nan, inplace=True)\n",
    "data[7].replace(0, np.nan, inplace=True)\n",
    "data"
   ]
  },
  {
   "cell_type": "markdown",
   "metadata": {},
   "source": [
    "If the standard error exceeds 30% of the estimated value, the estimate is imprecise and should be discarded -- although it doesn't change the results much."
   ]
  },
  {
   "cell_type": "code",
   "execution_count": 8,
   "metadata": {},
   "outputs": [
    {
     "data": {
      "text/plain": [
       "0.5768861434368409"
      ]
     },
     "execution_count": 8,
     "metadata": {},
     "output_type": "execute_result"
    },
    {
     "data": {
      "application/javascript": [
       "\n",
       "            setTimeout(function() {\n",
       "                var nbb_cell_id = 8;\n",
       "                var nbb_unformatted_code = \"precise = data[7] < 0.3 * data[6]\\nprecise.mean()\";\n",
       "                var nbb_formatted_code = \"precise = data[7] < 0.3 * data[6]\\nprecise.mean()\";\n",
       "                var nbb_cells = Jupyter.notebook.get_cells();\n",
       "                for (var i = 0; i < nbb_cells.length; ++i) {\n",
       "                    if (nbb_cells[i].input_prompt_number == nbb_cell_id) {\n",
       "                        if (nbb_cells[i].get_text() == nbb_unformatted_code) {\n",
       "                             nbb_cells[i].set_text(nbb_formatted_code);\n",
       "                        }\n",
       "                        break;\n",
       "                    }\n",
       "                }\n",
       "            }, 500);\n",
       "            "
      ],
      "text/plain": [
       "<IPython.core.display.Javascript object>"
      ]
     },
     "metadata": {},
     "output_type": "display_data"
    }
   ],
   "source": [
    "precise = data[7] < 0.3 * data[6]\n",
    "precise.mean()"
   ]
  },
  {
   "cell_type": "markdown",
   "metadata": {},
   "source": [
    "Compute the log10 of the valid estimates."
   ]
  },
  {
   "cell_type": "code",
   "execution_count": 9,
   "metadata": {},
   "outputs": [
    {
     "data": {
      "text/plain": [
       "count    2.312301e+06\n",
       "mean     3.565720e+00\n",
       "std      5.896241e-01\n",
       "min      6.095944e-01\n",
       "25%      3.245856e+00\n",
       "50%      3.594812e+00\n",
       "75%      3.915426e+00\n",
       "max      7.401412e+00\n",
       "Name: 6, dtype: float64"
      ]
     },
     "execution_count": 9,
     "metadata": {},
     "output_type": "execute_result"
    },
    {
     "data": {
      "application/javascript": [
       "\n",
       "            setTimeout(function() {\n",
       "                var nbb_cell_id = 9;\n",
       "                var nbb_unformatted_code = \"# mags = np.log10(data[6].dropna())\\nmags = np.log10(data.loc[precise, 6].dropna())\\nmags.describe()\";\n",
       "                var nbb_formatted_code = \"# mags = np.log10(data[6].dropna())\\nmags = np.log10(data.loc[precise, 6].dropna())\\nmags.describe()\";\n",
       "                var nbb_cells = Jupyter.notebook.get_cells();\n",
       "                for (var i = 0; i < nbb_cells.length; ++i) {\n",
       "                    if (nbb_cells[i].input_prompt_number == nbb_cell_id) {\n",
       "                        if (nbb_cells[i].get_text() == nbb_unformatted_code) {\n",
       "                             nbb_cells[i].set_text(nbb_formatted_code);\n",
       "                        }\n",
       "                        break;\n",
       "                    }\n",
       "                }\n",
       "            }, 500);\n",
       "            "
      ],
      "text/plain": [
       "<IPython.core.display.Javascript object>"
      ]
     },
     "metadata": {},
     "output_type": "display_data"
    }
   ],
   "source": [
    "# mags = np.log10(data[6].dropna())\n",
    "mags = np.log10(data.loc[precise, 6].dropna())\n",
    "mags.describe()"
   ]
  },
  {
   "cell_type": "markdown",
   "metadata": {},
   "source": [
    "Compute the tail distribution (fraction of values >= x for all x)."
   ]
  },
  {
   "cell_type": "code",
   "execution_count": 10,
   "metadata": {},
   "outputs": [
    {
     "data": {
      "application/javascript": [
       "\n",
       "            setTimeout(function() {\n",
       "                var nbb_cell_id = 10;\n",
       "                var nbb_unformatted_code = \"from empiricaldist import Pmf, Surv\\n\\n\\ndef make_surv(seq):\\n    \\\"\\\"\\\"Make a non-standard survival function, P(X>=x)\\\"\\\"\\\"\\n    pmf = Pmf.from_seq(seq)\\n    surv = pmf.make_surv() + pmf\\n\\n    # correct for numerical error\\n    surv.iloc[0] = 1\\n    return Surv(surv)\";\n",
       "                var nbb_formatted_code = \"from empiricaldist import Pmf, Surv\\n\\n\\ndef make_surv(seq):\\n    \\\"\\\"\\\"Make a non-standard survival function, P(X>=x)\\\"\\\"\\\"\\n    pmf = Pmf.from_seq(seq)\\n    surv = pmf.make_surv() + pmf\\n\\n    # correct for numerical error\\n    surv.iloc[0] = 1\\n    return Surv(surv)\";\n",
       "                var nbb_cells = Jupyter.notebook.get_cells();\n",
       "                for (var i = 0; i < nbb_cells.length; ++i) {\n",
       "                    if (nbb_cells[i].input_prompt_number == nbb_cell_id) {\n",
       "                        if (nbb_cells[i].get_text() == nbb_unformatted_code) {\n",
       "                             nbb_cells[i].set_text(nbb_formatted_code);\n",
       "                        }\n",
       "                        break;\n",
       "                    }\n",
       "                }\n",
       "            }, 500);\n",
       "            "
      ],
      "text/plain": [
       "<IPython.core.display.Javascript object>"
      ]
     },
     "metadata": {},
     "output_type": "display_data"
    }
   ],
   "source": [
    "from empiricaldist import Pmf, Surv\n",
    "\n",
    "\n",
    "def make_surv(seq):\n",
    "    \"\"\"Make a non-standard survival function, P(X>=x)\"\"\"\n",
    "    pmf = Pmf.from_seq(seq)\n",
    "    surv = pmf.make_surv() + pmf\n",
    "\n",
    "    # correct for numerical error\n",
    "    surv.iloc[0] = 1\n",
    "    return Surv(surv)"
   ]
  },
  {
   "cell_type": "code",
   "execution_count": 11,
   "metadata": {},
   "outputs": [
    {
     "data": {
      "application/javascript": [
       "\n",
       "            setTimeout(function() {\n",
       "                var nbb_cell_id = 11;\n",
       "                var nbb_unformatted_code = \"surv = make_surv(mags)\";\n",
       "                var nbb_formatted_code = \"surv = make_surv(mags)\";\n",
       "                var nbb_cells = Jupyter.notebook.get_cells();\n",
       "                for (var i = 0; i < nbb_cells.length; ++i) {\n",
       "                    if (nbb_cells[i].input_prompt_number == nbb_cell_id) {\n",
       "                        if (nbb_cells[i].get_text() == nbb_unformatted_code) {\n",
       "                             nbb_cells[i].set_text(nbb_formatted_code);\n",
       "                        }\n",
       "                        break;\n",
       "                    }\n",
       "                }\n",
       "            }, 500);\n",
       "            "
      ],
      "text/plain": [
       "<IPython.core.display.Javascript object>"
      ]
     },
     "metadata": {},
     "output_type": "display_data"
    }
   ],
   "source": [
    "surv = make_surv(mags)"
   ]
  },
  {
   "cell_type": "code",
   "execution_count": 12,
   "metadata": {},
   "outputs": [
    {
     "data": {
      "application/javascript": [
       "\n",
       "            setTimeout(function() {\n",
       "                var nbb_cell_id = 12;\n",
       "                var nbb_unformatted_code = \"xlabel = \\\"Energy (log10 J)\\\"\\nylabel = \\\"Prob >= $x$\\\"\";\n",
       "                var nbb_formatted_code = \"xlabel = \\\"Energy (log10 J)\\\"\\nylabel = \\\"Prob >= $x$\\\"\";\n",
       "                var nbb_cells = Jupyter.notebook.get_cells();\n",
       "                for (var i = 0; i < nbb_cells.length; ++i) {\n",
       "                    if (nbb_cells[i].input_prompt_number == nbb_cell_id) {\n",
       "                        if (nbb_cells[i].get_text() == nbb_unformatted_code) {\n",
       "                             nbb_cells[i].set_text(nbb_formatted_code);\n",
       "                        }\n",
       "                        break;\n",
       "                    }\n",
       "                }\n",
       "            }, 500);\n",
       "            "
      ],
      "text/plain": [
       "<IPython.core.display.Javascript object>"
      ]
     },
     "metadata": {},
     "output_type": "display_data"
    }
   ],
   "source": [
    "xlabel = \"Energy (log10 J)\"\n",
    "ylabel = \"Prob >= $x$\""
   ]
  },
  {
   "cell_type": "code",
   "execution_count": 13,
   "metadata": {
    "scrolled": true
   },
   "outputs": [
    {
     "data": {
      "image/png": "[encoded data removed]",
      "text/plain": [
       "<Figure size 640x480 with 1 Axes>"
      ]
     },
     "metadata": {},
     "output_type": "display_data"
    },
    {
     "data": {
      "application/javascript": [
       "\n",
       "            setTimeout(function() {\n",
       "                var nbb_cell_id = 13;\n",
       "                var nbb_unformatted_code = \"surv.plot()\\n\\ndecorate(xlabel=xlabel, ylabel=ylabel)\";\n",
       "                var nbb_formatted_code = \"surv.plot()\\n\\ndecorate(xlabel=xlabel, ylabel=ylabel)\";\n",
       "                var nbb_cells = Jupyter.notebook.get_cells();\n",
       "                for (var i = 0; i < nbb_cells.length; ++i) {\n",
       "                    if (nbb_cells[i].input_prompt_number == nbb_cell_id) {\n",
       "                        if (nbb_cells[i].get_text() == nbb_unformatted_code) {\n",
       "                             nbb_cells[i].set_text(nbb_formatted_code);\n",
       "                        }\n",
       "                        break;\n",
       "                    }\n",
       "                }\n",
       "            }, 500);\n",
       "            "
      ],
      "text/plain": [
       "<IPython.core.display.Javascript object>"
      ]
     },
     "metadata": {},
     "output_type": "display_data"
    }
   ],
   "source": [
    "surv.plot()\n",
    "\n",
    "decorate(xlabel=xlabel, ylabel=ylabel)"
   ]
  },
  {
   "cell_type": "markdown",
   "metadata": {},
   "source": [
    "## Fit a Gaussian\n",
    "\n",
    "Find the Gaussian that best matches percentiles with the data."
   ]
  },
  {
   "cell_type": "code",
   "execution_count": 14,
   "metadata": {},
   "outputs": [
    {
     "data": {
      "application/javascript": [
       "\n",
       "            setTimeout(function() {\n",
       "                var nbb_cell_id = 14;\n",
       "                var nbb_unformatted_code = \"from empiricaldist import Pmf\\nfrom scipy.stats import norm\\n\\n\\ndef truncated_normal_sf(qs, mu, sigma):\\n    ps = norm.sf(qs, mu, sigma)\\n    surv_model = Surv(ps / ps[0], qs)\\n    return surv_model\";\n",
       "                var nbb_formatted_code = \"from empiricaldist import Pmf\\nfrom scipy.stats import norm\\n\\n\\ndef truncated_normal_sf(qs, mu, sigma):\\n    ps = norm.sf(qs, mu, sigma)\\n    surv_model = Surv(ps / ps[0], qs)\\n    return surv_model\";\n",
       "                var nbb_cells = Jupyter.notebook.get_cells();\n",
       "                for (var i = 0; i < nbb_cells.length; ++i) {\n",
       "                    if (nbb_cells[i].input_prompt_number == nbb_cell_id) {\n",
       "                        if (nbb_cells[i].get_text() == nbb_unformatted_code) {\n",
       "                             nbb_cells[i].set_text(nbb_formatted_code);\n",
       "                        }\n",
       "                        break;\n",
       "                    }\n",
       "                }\n",
       "            }, 500);\n",
       "            "
      ],
      "text/plain": [
       "<IPython.core.display.Javascript object>"
      ]
     },
     "metadata": {},
     "output_type": "display_data"
    }
   ],
   "source": [
    "from empiricaldist import Pmf\n",
    "from scipy.stats import norm\n",
    "\n",
    "\n",
    "def truncated_normal_sf(qs, mu, sigma):\n",
    "    ps = norm.sf(qs, mu, sigma)\n",
    "    surv_model = Surv(ps / ps[0], qs)\n",
    "    return surv_model"
   ]
  },
  {
   "cell_type": "code",
   "execution_count": 15,
   "metadata": {},
   "outputs": [
    {
     "data": {
      "application/javascript": [
       "\n",
       "            setTimeout(function() {\n",
       "                var nbb_cell_id = 15;\n",
       "                var nbb_unformatted_code = \"from scipy.optimize import least_squares\\n\\n\\ndef fit_truncated_normal(surv):\\n    low, high = surv.qs.min(), surv.qs.max()\\n    qs_model = np.linspace(low, high, 1000)\\n\\n    # match 20 percentiles from 1st to 99th\\n    ps = np.linspace(0.1, 0.99, 20)\\n    qs = surv.inverse(ps)\\n\\n    def error_func(params):\\n        mu, sigma = params\\n\\n        sf_model = truncated_normal_sf(qs_model, mu, sigma)\\n        error = surv(qs) - sf_model(qs)\\n        return error\\n\\n    params = surv.mean(), surv.std()\\n    res = least_squares(error_func, x0=params, xtol=1e-3)\\n    assert res.success\\n    return res.x\";\n",
       "                var nbb_formatted_code = \"from scipy.optimize import least_squares\\n\\n\\ndef fit_truncated_normal(surv):\\n    low, high = surv.qs.min(), surv.qs.max()\\n    qs_model = np.linspace(low, high, 1000)\\n\\n    # match 20 percentiles from 1st to 99th\\n    ps = np.linspace(0.1, 0.99, 20)\\n    qs = surv.inverse(ps)\\n\\n    def error_func(params):\\n        mu, sigma = params\\n\\n        sf_model = truncated_normal_sf(qs_model, mu, sigma)\\n        error = surv(qs) - sf_model(qs)\\n        return error\\n\\n    params = surv.mean(), surv.std()\\n    res = least_squares(error_func, x0=params, xtol=1e-3)\\n    assert res.success\\n    return res.x\";\n",
       "                var nbb_cells = Jupyter.notebook.get_cells();\n",
       "                for (var i = 0; i < nbb_cells.length; ++i) {\n",
       "                    if (nbb_cells[i].input_prompt_number == nbb_cell_id) {\n",
       "                        if (nbb_cells[i].get_text() == nbb_unformatted_code) {\n",
       "                             nbb_cells[i].set_text(nbb_formatted_code);\n",
       "                        }\n",
       "                        break;\n",
       "                    }\n",
       "                }\n",
       "            }, 500);\n",
       "            "
      ],
      "text/plain": [
       "<IPython.core.display.Javascript object>"
      ]
     },
     "metadata": {},
     "output_type": "display_data"
    }
   ],
   "source": [
    "from scipy.optimize import least_squares\n",
    "\n",
    "\n",
    "def fit_truncated_normal(surv):\n",
    "    low, high = surv.qs.min(), surv.qs.max()\n",
    "    qs_model = np.linspace(low, high, 1000)\n",
    "\n",
    "    # match 20 percentiles from 1st to 99th\n",
    "    ps = np.linspace(0.1, 0.99, 20)\n",
    "    qs = surv.inverse(ps)\n",
    "\n",
    "    def error_func(params):\n",
    "        mu, sigma = params\n",
    "\n",
    "        sf_model = truncated_normal_sf(qs_model, mu, sigma)\n",
    "        error = surv(qs) - sf_model(qs)\n",
    "        return error\n",
    "\n",
    "    params = surv.mean(), surv.std()\n",
    "    res = least_squares(error_func, x0=params, xtol=1e-3)\n",
    "    assert res.success\n",
    "    return res.x"
   ]
  },
  {
   "cell_type": "code",
   "execution_count": 16,
   "metadata": {},
   "outputs": [
    {
     "data": {
      "text/plain": [
       "(3.5827096529624645, 0.5119997112554249)"
      ]
     },
     "execution_count": 16,
     "metadata": {},
     "output_type": "execute_result"
    },
    {
     "data": {
      "application/javascript": [
       "\n",
       "            setTimeout(function() {\n",
       "                var nbb_cell_id = 16;\n",
       "                var nbb_unformatted_code = \"mu, sigma = fit_truncated_normal(surv)\\nmu, sigma\";\n",
       "                var nbb_formatted_code = \"mu, sigma = fit_truncated_normal(surv)\\nmu, sigma\";\n",
       "                var nbb_cells = Jupyter.notebook.get_cells();\n",
       "                for (var i = 0; i < nbb_cells.length; ++i) {\n",
       "                    if (nbb_cells[i].input_prompt_number == nbb_cell_id) {\n",
       "                        if (nbb_cells[i].get_text() == nbb_unformatted_code) {\n",
       "                             nbb_cells[i].set_text(nbb_formatted_code);\n",
       "                        }\n",
       "                        break;\n",
       "                    }\n",
       "                }\n",
       "            }, 500);\n",
       "            "
      ],
      "text/plain": [
       "<IPython.core.display.Javascript object>"
      ]
     },
     "metadata": {},
     "output_type": "display_data"
    }
   ],
   "source": [
    "mu, sigma = fit_truncated_normal(surv)\n",
    "mu, sigma"
   ]
  },
  {
   "cell_type": "code",
   "execution_count": 17,
   "metadata": {},
   "outputs": [
    {
     "data": {
      "application/javascript": [
       "\n",
       "            setTimeout(function() {\n",
       "                var nbb_cell_id = 17;\n",
       "                var nbb_unformatted_code = \"low, high = surv.qs.min(), surv.qs.max()\\nqs = np.linspace(low, high, 2000)\\nsurv_model = truncated_normal_sf(qs, mu, sigma)\";\n",
       "                var nbb_formatted_code = \"low, high = surv.qs.min(), surv.qs.max()\\nqs = np.linspace(low, high, 2000)\\nsurv_model = truncated_normal_sf(qs, mu, sigma)\";\n",
       "                var nbb_cells = Jupyter.notebook.get_cells();\n",
       "                for (var i = 0; i < nbb_cells.length; ++i) {\n",
       "                    if (nbb_cells[i].input_prompt_number == nbb_cell_id) {\n",
       "                        if (nbb_cells[i].get_text() == nbb_unformatted_code) {\n",
       "                             nbb_cells[i].set_text(nbb_formatted_code);\n",
       "                        }\n",
       "                        break;\n",
       "                    }\n",
       "                }\n",
       "            }, 500);\n",
       "            "
      ],
      "text/plain": [
       "<IPython.core.display.Javascript object>"
      ]
     },
     "metadata": {},
     "output_type": "display_data"
    }
   ],
   "source": [
    "low, high = surv.qs.min(), surv.qs.max()\n",
    "qs = np.linspace(low, high, 2000)\n",
    "surv_model = truncated_normal_sf(qs, mu, sigma)"
   ]
  },
  {
   "cell_type": "code",
   "execution_count": 18,
   "metadata": {},
   "outputs": [
    {
     "data": {
      "image/png": "[encoded data removed]",
      "text/plain": [
       "<Figure size 640x480 with 1 Axes>"
      ]
     },
     "metadata": {},
     "output_type": "display_data"
    },
    {
     "data": {
      "application/javascript": [
       "\n",
       "            setTimeout(function() {\n",
       "                var nbb_cell_id = 18;\n",
       "                var nbb_unformatted_code = \"surv_model.plot(color=\\\"gray\\\", alpha=0.4, label=\\\"lognormal model\\\")\\nsurv.plot(ls=\\\"--\\\", label=\\\"data\\\")\\n\\ndecorate(xlabel=xlabel, ylabel=ylabel)\\nplt.savefig(\\\"superbolt1.png\\\", dpi=300)\";\n",
       "                var nbb_formatted_code = \"surv_model.plot(color=\\\"gray\\\", alpha=0.4, label=\\\"lognormal model\\\")\\nsurv.plot(ls=\\\"--\\\", label=\\\"data\\\")\\n\\ndecorate(xlabel=xlabel, ylabel=ylabel)\\nplt.savefig(\\\"superbolt1.png\\\", dpi=300)\";\n",
       "                var nbb_cells = Jupyter.notebook.get_cells();\n",
       "                for (var i = 0; i < nbb_cells.length; ++i) {\n",
       "                    if (nbb_cells[i].input_prompt_number == nbb_cell_id) {\n",
       "                        if (nbb_cells[i].get_text() == nbb_unformatted_code) {\n",
       "                             nbb_cells[i].set_text(nbb_formatted_code);\n",
       "                        }\n",
       "                        break;\n",
       "                    }\n",
       "                }\n",
       "            }, 500);\n",
       "            "
      ],
      "text/plain": [
       "<IPython.core.display.Javascript object>"
      ]
     },
     "metadata": {},
     "output_type": "display_data"
    }
   ],
   "source": [
    "surv_model.plot(color=\"gray\", alpha=0.4, label=\"lognormal model\")\n",
    "surv.plot(ls=\"--\", label=\"data\")\n",
    "\n",
    "decorate(xlabel=xlabel, ylabel=ylabel)\n",
    "plt.savefig(\"superbolt1.png\", dpi=300)"
   ]
  },
  {
   "cell_type": "markdown",
   "metadata": {},
   "source": [
    "Plot results with error bounds."
   ]
  },
  {
   "cell_type": "code",
   "execution_count": 19,
   "metadata": {},
   "outputs": [
    {
     "data": {
      "application/javascript": [
       "\n",
       "            setTimeout(function() {\n",
       "                var nbb_cell_id = 19;\n",
       "                var nbb_unformatted_code = \"from scipy.stats import binom\\nfrom utils import underride\\n\\n\\ndef empirical_error_bounds(surv, n, qs, alpha=0.95):\\n    \\\"\\\"\\\"Find the bounds on a normal CDF analytically.\\\"\\\"\\\"\\n    # find the correct probabilities\\n    ps = surv.make_cdf()(qs)\\n\\n    # find the upper and lower percentiles of\\n    # a binomial distribution\\n    p_low = (1 - alpha) / 2\\n    p_high = 1 - p_low\\n\\n    low = binom.ppf(p_low, n, ps) / n\\n    low[ps == 1] = 1\\n    high = binom.ppf(p_high, n, ps) / n\\n    return 1 - low, 1 - high\";\n",
       "                var nbb_formatted_code = \"from scipy.stats import binom\\nfrom utils import underride\\n\\n\\ndef empirical_error_bounds(surv, n, qs, alpha=0.95):\\n    \\\"\\\"\\\"Find the bounds on a normal CDF analytically.\\\"\\\"\\\"\\n    # find the correct probabilities\\n    ps = surv.make_cdf()(qs)\\n\\n    # find the upper and lower percentiles of\\n    # a binomial distribution\\n    p_low = (1 - alpha) / 2\\n    p_high = 1 - p_low\\n\\n    low = binom.ppf(p_low, n, ps) / n\\n    low[ps == 1] = 1\\n    high = binom.ppf(p_high, n, ps) / n\\n    return 1 - low, 1 - high\";\n",
       "                var nbb_cells = Jupyter.notebook.get_cells();\n",
       "                for (var i = 0; i < nbb_cells.length; ++i) {\n",
       "                    if (nbb_cells[i].input_prompt_number == nbb_cell_id) {\n",
       "                        if (nbb_cells[i].get_text() == nbb_unformatted_code) {\n",
       "                             nbb_cells[i].set_text(nbb_formatted_code);\n",
       "                        }\n",
       "                        break;\n",
       "                    }\n",
       "                }\n",
       "            }, 500);\n",
       "            "
      ],
      "text/plain": [
       "<IPython.core.display.Javascript object>"
      ]
     },
     "metadata": {},
     "output_type": "display_data"
    }
   ],
   "source": [
    "from scipy.stats import binom\n",
    "from utils import underride\n",
    "\n",
    "\n",
    "def empirical_error_bounds(surv, n, qs, alpha=0.95):\n",
    "    \"\"\"Find the bounds on a normal CDF analytically.\"\"\"\n",
    "    # find the correct probabilities\n",
    "    ps = surv.make_cdf()(qs)\n",
    "\n",
    "    # find the upper and lower percentiles of\n",
    "    # a binomial distribution\n",
    "    p_low = (1 - alpha) / 2\n",
    "    p_high = 1 - p_low\n",
    "\n",
    "    low = binom.ppf(p_low, n, ps) / n\n",
    "    low[ps == 1] = 1\n",
    "    high = binom.ppf(p_high, n, ps) / n\n",
    "    return 1 - low, 1 - high"
   ]
  },
  {
   "cell_type": "code",
   "execution_count": 20,
   "metadata": {},
   "outputs": [
    {
     "data": {
      "application/javascript": [
       "\n",
       "            setTimeout(function() {\n",
       "                var nbb_cell_id = 20;\n",
       "                var nbb_unformatted_code = \"def plot_error_bounds(surv, n, **options):\\n    underride(options, linewidth=0, alpha=0.1, capstyle=\\\"round\\\")\\n    qs = np.linspace(surv.qs.min(), surv.qs.max(), 100)\\n    low, high = empirical_error_bounds(surv, n, qs)\\n\\n    plt.fill_between(qs, low, high, **options)\";\n",
       "                var nbb_formatted_code = \"def plot_error_bounds(surv, n, **options):\\n    underride(options, linewidth=0, alpha=0.1, capstyle=\\\"round\\\")\\n    qs = np.linspace(surv.qs.min(), surv.qs.max(), 100)\\n    low, high = empirical_error_bounds(surv, n, qs)\\n\\n    plt.fill_between(qs, low, high, **options)\";\n",
       "                var nbb_cells = Jupyter.notebook.get_cells();\n",
       "                for (var i = 0; i < nbb_cells.length; ++i) {\n",
       "                    if (nbb_cells[i].input_prompt_number == nbb_cell_id) {\n",
       "                        if (nbb_cells[i].get_text() == nbb_unformatted_code) {\n",
       "                             nbb_cells[i].set_text(nbb_formatted_code);\n",
       "                        }\n",
       "                        break;\n",
       "                    }\n",
       "                }\n",
       "            }, 500);\n",
       "            "
      ],
      "text/plain": [
       "<IPython.core.display.Javascript object>"
      ]
     },
     "metadata": {},
     "output_type": "display_data"
    }
   ],
   "source": [
    "def plot_error_bounds(surv, n, **options):\n",
    "    underride(options, linewidth=0, alpha=0.1, capstyle=\"round\")\n",
    "    qs = np.linspace(surv.qs.min(), surv.qs.max(), 100)\n",
    "    low, high = empirical_error_bounds(surv, n, qs)\n",
    "\n",
    "    plt.fill_between(qs, low, high, **options)"
   ]
  },
  {
   "cell_type": "code",
   "execution_count": 21,
   "metadata": {},
   "outputs": [
    {
     "data": {
      "image/png": "[encoded data removed]",
      "text/plain": [
       "<Figure size 640x480 with 1 Axes>"
      ]
     },
     "metadata": {},
     "output_type": "display_data"
    },
    {
     "data": {
      "application/javascript": [
       "\n",
       "            setTimeout(function() {\n",
       "                var nbb_cell_id = 21;\n",
       "                var nbb_unformatted_code = \"surv_model.plot(color=\\\"gray\\\", alpha=0.4, label=\\\"lognormal model\\\")\\nsurv.plot(ls=\\\"--\\\", label=\\\"data\\\")\\n\\nplot_error_bounds(surv, mags.count(), color=\\\"C0\\\")\\n\\ndecorate(xlabel=xlabel, ylabel=ylabel, yscale=\\\"log\\\")\\nplt.savefig(\\\"superbolt2.png\\\", dpi=300)\";\n",
       "                var nbb_formatted_code = \"surv_model.plot(color=\\\"gray\\\", alpha=0.4, label=\\\"lognormal model\\\")\\nsurv.plot(ls=\\\"--\\\", label=\\\"data\\\")\\n\\nplot_error_bounds(surv, mags.count(), color=\\\"C0\\\")\\n\\ndecorate(xlabel=xlabel, ylabel=ylabel, yscale=\\\"log\\\")\\nplt.savefig(\\\"superbolt2.png\\\", dpi=300)\";\n",
       "                var nbb_cells = Jupyter.notebook.get_cells();\n",
       "                for (var i = 0; i < nbb_cells.length; ++i) {\n",
       "                    if (nbb_cells[i].input_prompt_number == nbb_cell_id) {\n",
       "                        if (nbb_cells[i].get_text() == nbb_unformatted_code) {\n",
       "                             nbb_cells[i].set_text(nbb_formatted_code);\n",
       "                        }\n",
       "                        break;\n",
       "                    }\n",
       "                }\n",
       "            }, 500);\n",
       "            "
      ],
      "text/plain": [
       "<IPython.core.display.Javascript object>"
      ]
     },
     "metadata": {},
     "output_type": "display_data"
    }
   ],
   "source": [
    "surv_model.plot(color=\"gray\", alpha=0.4, label=\"lognormal model\")\n",
    "surv.plot(ls=\"--\", label=\"data\")\n",
    "\n",
    "plot_error_bounds(surv, mags.count(), color=\"C0\")\n",
    "\n",
    "decorate(xlabel=xlabel, ylabel=ylabel, yscale=\"log\")\n",
    "plt.savefig(\"superbolt2.png\", dpi=300)"
   ]
  },
  {
   "cell_type": "markdown",
   "metadata": {},
   "source": [
    "The error bound extends to negative infinity, which means that at this sample size, it was plausible we would not have seen a stroke above magnitude 7.\n",
    "\n",
    "Evaluating the empirical survival function and the model, we see that at magnitude 7, the model is off by about 4 orders of magnitude."
   ]
  },
  {
   "cell_type": "code",
   "execution_count": 22,
   "metadata": {},
   "outputs": [
    {
     "data": {
      "text/plain": [
       "(array(8.64939296e-07), array(1.29014571e-11))"
      ]
     },
     "execution_count": 22,
     "metadata": {},
     "output_type": "execute_result"
    },
    {
     "data": {
      "application/javascript": [
       "\n",
       "            setTimeout(function() {\n",
       "                var nbb_cell_id = 22;\n",
       "                var nbb_unformatted_code = \"surv(7), surv_model(7)\";\n",
       "                var nbb_formatted_code = \"surv(7), surv_model(7)\";\n",
       "                var nbb_cells = Jupyter.notebook.get_cells();\n",
       "                for (var i = 0; i < nbb_cells.length; ++i) {\n",
       "                    if (nbb_cells[i].input_prompt_number == nbb_cell_id) {\n",
       "                        if (nbb_cells[i].get_text() == nbb_unformatted_code) {\n",
       "                             nbb_cells[i].set_text(nbb_formatted_code);\n",
       "                        }\n",
       "                        break;\n",
       "                    }\n",
       "                }\n",
       "            }, 500);\n",
       "            "
      ],
      "text/plain": [
       "<IPython.core.display.Javascript object>"
      ]
     },
     "metadata": {},
     "output_type": "display_data"
    }
   ],
   "source": [
    "surv(7), surv_model(7)"
   ]
  },
  {
   "cell_type": "markdown",
   "metadata": {},
   "source": [
    "## Fit a Student t\n",
    "\n",
    "Find the df parameter that best matches the tail, then the mu and sigma parameters that best match the percentiles."
   ]
  },
  {
   "cell_type": "code",
   "execution_count": 23,
   "metadata": {},
   "outputs": [
    {
     "data": {
      "application/javascript": [
       "\n",
       "            setTimeout(function() {\n",
       "                var nbb_cell_id = 23;\n",
       "                var nbb_unformatted_code = \"from scipy.stats import t as t_dist\\n\\n\\ndef truncated_t_sf(qs, df, mu, sigma):\\n    ps = t_dist.sf(qs, df, mu, sigma)\\n    surv_model = Surv(ps / ps[0], qs)\\n    return surv_model\";\n",
       "                var nbb_formatted_code = \"from scipy.stats import t as t_dist\\n\\n\\ndef truncated_t_sf(qs, df, mu, sigma):\\n    ps = t_dist.sf(qs, df, mu, sigma)\\n    surv_model = Surv(ps / ps[0], qs)\\n    return surv_model\";\n",
       "                var nbb_cells = Jupyter.notebook.get_cells();\n",
       "                for (var i = 0; i < nbb_cells.length; ++i) {\n",
       "                    if (nbb_cells[i].input_prompt_number == nbb_cell_id) {\n",
       "                        if (nbb_cells[i].get_text() == nbb_unformatted_code) {\n",
       "                             nbb_cells[i].set_text(nbb_formatted_code);\n",
       "                        }\n",
       "                        break;\n",
       "                    }\n",
       "                }\n",
       "            }, 500);\n",
       "            "
      ],
      "text/plain": [
       "<IPython.core.display.Javascript object>"
      ]
     },
     "metadata": {},
     "output_type": "display_data"
    }
   ],
   "source": [
    "from scipy.stats import t as t_dist\n",
    "\n",
    "\n",
    "def truncated_t_sf(qs, df, mu, sigma):\n",
    "    ps = t_dist.sf(qs, df, mu, sigma)\n",
    "    surv_model = Surv(ps / ps[0], qs)\n",
    "    return surv_model"
   ]
  },
  {
   "cell_type": "code",
   "execution_count": 24,
   "metadata": {},
   "outputs": [
    {
     "data": {
      "application/javascript": [
       "\n",
       "            setTimeout(function() {\n",
       "                var nbb_cell_id = 24;\n",
       "                var nbb_unformatted_code = \"from scipy.optimize import least_squares\\n\\n\\ndef fit_truncated_t(df, surv):\\n    \\\"\\\"\\\"Given df, find the best values of mu and sigma.\\\"\\\"\\\"\\n    low, high = surv.qs.min(), surv.qs.max()\\n    qs_model = np.linspace(low, high, 1000)\\n\\n    # match 20 percentiles from 1st to 99th\\n    ps = np.linspace(0.01, 0.9, 20)\\n    qs = surv.inverse(ps)\\n\\n    def error_func_t(params, df, surv):\\n        mu, sigma = params\\n        surv_model = truncated_t_sf(qs_model, df, mu, sigma)\\n\\n        error = surv(qs) - surv_model(qs)\\n        return error\\n\\n    params = surv.mean(), surv.std()\\n    res = least_squares(error_func_t, x0=params, args=(df, surv), xtol=1e-3)\\n    assert res.success\\n    return res.x\";\n",
       "                var nbb_formatted_code = \"from scipy.optimize import least_squares\\n\\n\\ndef fit_truncated_t(df, surv):\\n    \\\"\\\"\\\"Given df, find the best values of mu and sigma.\\\"\\\"\\\"\\n    low, high = surv.qs.min(), surv.qs.max()\\n    qs_model = np.linspace(low, high, 1000)\\n\\n    # match 20 percentiles from 1st to 99th\\n    ps = np.linspace(0.01, 0.9, 20)\\n    qs = surv.inverse(ps)\\n\\n    def error_func_t(params, df, surv):\\n        mu, sigma = params\\n        surv_model = truncated_t_sf(qs_model, df, mu, sigma)\\n\\n        error = surv(qs) - surv_model(qs)\\n        return error\\n\\n    params = surv.mean(), surv.std()\\n    res = least_squares(error_func_t, x0=params, args=(df, surv), xtol=1e-3)\\n    assert res.success\\n    return res.x\";\n",
       "                var nbb_cells = Jupyter.notebook.get_cells();\n",
       "                for (var i = 0; i < nbb_cells.length; ++i) {\n",
       "                    if (nbb_cells[i].input_prompt_number == nbb_cell_id) {\n",
       "                        if (nbb_cells[i].get_text() == nbb_unformatted_code) {\n",
       "                             nbb_cells[i].set_text(nbb_formatted_code);\n",
       "                        }\n",
       "                        break;\n",
       "                    }\n",
       "                }\n",
       "            }, 500);\n",
       "            "
      ],
      "text/plain": [
       "<IPython.core.display.Javascript object>"
      ]
     },
     "metadata": {},
     "output_type": "display_data"
    }
   ],
   "source": [
    "from scipy.optimize import least_squares\n",
    "\n",
    "\n",
    "def fit_truncated_t(df, surv):\n",
    "    \"\"\"Given df, find the best values of mu and sigma.\"\"\"\n",
    "    low, high = surv.qs.min(), surv.qs.max()\n",
    "    qs_model = np.linspace(low, high, 1000)\n",
    "\n",
    "    # match 20 percentiles from 1st to 99th\n",
    "    ps = np.linspace(0.01, 0.9, 20)\n",
    "    qs = surv.inverse(ps)\n",
    "\n",
    "    def error_func_t(params, df, surv):\n",
    "        mu, sigma = params\n",
    "        surv_model = truncated_t_sf(qs_model, df, mu, sigma)\n",
    "\n",
    "        error = surv(qs) - surv_model(qs)\n",
    "        return error\n",
    "\n",
    "    params = surv.mean(), surv.std()\n",
    "    res = least_squares(error_func_t, x0=params, args=(df, surv), xtol=1e-3)\n",
    "    assert res.success\n",
    "    return res.x"
   ]
  },
  {
   "cell_type": "code",
   "execution_count": 25,
   "metadata": {},
   "outputs": [
    {
     "data": {
      "application/javascript": [
       "\n",
       "            setTimeout(function() {\n",
       "                var nbb_cell_id = 25;\n",
       "                var nbb_unformatted_code = \"from scipy.optimize import minimize\\n\\n\\ndef minimize_df(df0, surv, bounds=[(1, 1e6)], ps=None):\\n    low, high = surv.qs.min(), surv.qs.max()\\n    qs_model = np.linspace(low, high * 1.0, 2000)\\n\\n    if ps is None:\\n        t = surv.ps[0], surv.ps[-2]\\n        t = 0.1, surv.ps[-2]\\n        low, high = np.log10(t)\\n        ps = np.logspace(low, high, 30, endpoint=False)\\n\\n    qs = surv.inverse(ps)\\n\\n    def error_func_tail(params):\\n        (df,) = params\\n        mu, sigma = fit_truncated_t(df, surv)\\n        surv_model = truncated_t_sf(qs_model, df, mu, sigma)\\n\\n        errors = np.log10(surv(qs)) - np.log10(surv_model(qs))\\n        return np.sum(errors**2)\\n\\n    params = (df0,)\\n    res = minimize(error_func_tail, x0=params, bounds=bounds, tol=1e-3, method=\\\"Powell\\\")\\n    assert res.success\\n    return res.x\";\n",
       "                var nbb_formatted_code = \"from scipy.optimize import minimize\\n\\n\\ndef minimize_df(df0, surv, bounds=[(1, 1e6)], ps=None):\\n    low, high = surv.qs.min(), surv.qs.max()\\n    qs_model = np.linspace(low, high * 1.0, 2000)\\n\\n    if ps is None:\\n        t = surv.ps[0], surv.ps[-2]\\n        t = 0.1, surv.ps[-2]\\n        low, high = np.log10(t)\\n        ps = np.logspace(low, high, 30, endpoint=False)\\n\\n    qs = surv.inverse(ps)\\n\\n    def error_func_tail(params):\\n        (df,) = params\\n        mu, sigma = fit_truncated_t(df, surv)\\n        surv_model = truncated_t_sf(qs_model, df, mu, sigma)\\n\\n        errors = np.log10(surv(qs)) - np.log10(surv_model(qs))\\n        return np.sum(errors**2)\\n\\n    params = (df0,)\\n    res = minimize(error_func_tail, x0=params, bounds=bounds, tol=1e-3, method=\\\"Powell\\\")\\n    assert res.success\\n    return res.x\";\n",
       "                var nbb_cells = Jupyter.notebook.get_cells();\n",
       "                for (var i = 0; i < nbb_cells.length; ++i) {\n",
       "                    if (nbb_cells[i].input_prompt_number == nbb_cell_id) {\n",
       "                        if (nbb_cells[i].get_text() == nbb_unformatted_code) {\n",
       "                             nbb_cells[i].set_text(nbb_formatted_code);\n",
       "                        }\n",
       "                        break;\n",
       "                    }\n",
       "                }\n",
       "            }, 500);\n",
       "            "
      ],
      "text/plain": [
       "<IPython.core.display.Javascript object>"
      ]
     },
     "metadata": {},
     "output_type": "display_data"
    }
   ],
   "source": [
    "from scipy.optimize import minimize\n",
    "\n",
    "\n",
    "def minimize_df(df0, surv, bounds=[(1, 1e6)], ps=None):\n",
    "    low, high = surv.qs.min(), surv.qs.max()\n",
    "    qs_model = np.linspace(low, high * 1.0, 2000)\n",
    "\n",
    "    if ps is None:\n",
    "        t = surv.ps[0], surv.ps[-2]\n",
    "        t = 0.1, surv.ps[-2]\n",
    "        low, high = np.log10(t)\n",
    "        ps = np.logspace(low, high, 30, endpoint=False)\n",
    "\n",
    "    qs = surv.inverse(ps)\n",
    "\n",
    "    def error_func_tail(params):\n",
    "        (df,) = params\n",
    "        mu, sigma = fit_truncated_t(df, surv)\n",
    "        surv_model = truncated_t_sf(qs_model, df, mu, sigma)\n",
    "\n",
    "        errors = np.log10(surv(qs)) - np.log10(surv_model(qs))\n",
    "        return np.sum(errors**2)\n",
    "\n",
    "    params = (df0,)\n",
    "    res = minimize(error_func_tail, x0=params, bounds=bounds, tol=1e-3, method=\"Powell\")\n",
    "    assert res.success\n",
    "    return res.x"
   ]
  },
  {
   "cell_type": "markdown",
   "metadata": {},
   "source": [
    "Search for the value of df that best matches the tail behavior."
   ]
  },
  {
   "cell_type": "code",
   "execution_count": 26,
   "metadata": {},
   "outputs": [
    {
     "data": {
      "text/plain": [
       "array([15.63237911])"
      ]
     },
     "execution_count": 26,
     "metadata": {},
     "output_type": "execute_result"
    },
    {
     "data": {
      "application/javascript": [
       "\n",
       "            setTimeout(function() {\n",
       "                var nbb_cell_id = 26;\n",
       "                var nbb_unformatted_code = \"df = minimize_df(5, surv, [(1, 1000)])\\ndf\";\n",
       "                var nbb_formatted_code = \"df = minimize_df(5, surv, [(1, 1000)])\\ndf\";\n",
       "                var nbb_cells = Jupyter.notebook.get_cells();\n",
       "                for (var i = 0; i < nbb_cells.length; ++i) {\n",
       "                    if (nbb_cells[i].input_prompt_number == nbb_cell_id) {\n",
       "                        if (nbb_cells[i].get_text() == nbb_unformatted_code) {\n",
       "                             nbb_cells[i].set_text(nbb_formatted_code);\n",
       "                        }\n",
       "                        break;\n",
       "                    }\n",
       "                }\n",
       "            }, 500);\n",
       "            "
      ],
      "text/plain": [
       "<IPython.core.display.Javascript object>"
      ]
     },
     "metadata": {},
     "output_type": "display_data"
    }
   ],
   "source": [
    "df = minimize_df(5, surv, [(1, 1000)])\n",
    "df"
   ]
  },
  {
   "cell_type": "markdown",
   "metadata": {},
   "source": [
    "Given that value of df, find mu and sigma to best match percentiles."
   ]
  },
  {
   "cell_type": "code",
   "execution_count": 27,
   "metadata": {},
   "outputs": [
    {
     "data": {
      "text/plain": [
       "(array([15.63237911]), 3.5820416456975206, 0.4941300882188064)"
      ]
     },
     "execution_count": 27,
     "metadata": {},
     "output_type": "execute_result"
    },
    {
     "data": {
      "application/javascript": [
       "\n",
       "            setTimeout(function() {\n",
       "                var nbb_cell_id = 27;\n",
       "                var nbb_unformatted_code = \"mu, sigma = fit_truncated_t(df, surv)\\ndf, mu, sigma\";\n",
       "                var nbb_formatted_code = \"mu, sigma = fit_truncated_t(df, surv)\\ndf, mu, sigma\";\n",
       "                var nbb_cells = Jupyter.notebook.get_cells();\n",
       "                for (var i = 0; i < nbb_cells.length; ++i) {\n",
       "                    if (nbb_cells[i].input_prompt_number == nbb_cell_id) {\n",
       "                        if (nbb_cells[i].get_text() == nbb_unformatted_code) {\n",
       "                             nbb_cells[i].set_text(nbb_formatted_code);\n",
       "                        }\n",
       "                        break;\n",
       "                    }\n",
       "                }\n",
       "            }, 500);\n",
       "            "
      ],
      "text/plain": [
       "<IPython.core.display.Javascript object>"
      ]
     },
     "metadata": {},
     "output_type": "display_data"
    }
   ],
   "source": [
    "mu, sigma = fit_truncated_t(df, surv)\n",
    "df, mu, sigma"
   ]
  },
  {
   "cell_type": "markdown",
   "metadata": {},
   "source": [
    "Run the model out to magnitude 8."
   ]
  },
  {
   "cell_type": "code",
   "execution_count": 28,
   "metadata": {},
   "outputs": [
    {
     "data": {
      "application/javascript": [
       "\n",
       "            setTimeout(function() {\n",
       "                var nbb_cell_id = 28;\n",
       "                var nbb_unformatted_code = \"# low, high = surv.qs.min(), surv.qs.max()\\nlow, high = surv.qs.min(), 8\\nqs = np.linspace(low, high, 2000)\\nsurv_model = truncated_t_sf(qs, df, mu, sigma)\";\n",
       "                var nbb_formatted_code = \"# low, high = surv.qs.min(), surv.qs.max()\\nlow, high = surv.qs.min(), 8\\nqs = np.linspace(low, high, 2000)\\nsurv_model = truncated_t_sf(qs, df, mu, sigma)\";\n",
       "                var nbb_cells = Jupyter.notebook.get_cells();\n",
       "                for (var i = 0; i < nbb_cells.length; ++i) {\n",
       "                    if (nbb_cells[i].input_prompt_number == nbb_cell_id) {\n",
       "                        if (nbb_cells[i].get_text() == nbb_unformatted_code) {\n",
       "                             nbb_cells[i].set_text(nbb_formatted_code);\n",
       "                        }\n",
       "                        break;\n",
       "                    }\n",
       "                }\n",
       "            }, 500);\n",
       "            "
      ],
      "text/plain": [
       "<IPython.core.display.Javascript object>"
      ]
     },
     "metadata": {},
     "output_type": "display_data"
    }
   ],
   "source": [
    "# low, high = surv.qs.min(), surv.qs.max()\n",
    "low, high = surv.qs.min(), 8\n",
    "qs = np.linspace(low, high, 2000)\n",
    "surv_model = truncated_t_sf(qs, df, mu, sigma)"
   ]
  },
  {
   "cell_type": "markdown",
   "metadata": {},
   "source": [
    "On a linear scale, the model looks pretty good."
   ]
  },
  {
   "cell_type": "code",
   "execution_count": 29,
   "metadata": {},
   "outputs": [
    {
     "data": {
      "image/png": "[encoded data removed]",
      "text/plain": [
       "<Figure size 640x480 with 1 Axes>"
      ]
     },
     "metadata": {},
     "output_type": "display_data"
    },
    {
     "data": {
      "application/javascript": [
       "\n",
       "            setTimeout(function() {\n",
       "                var nbb_cell_id = 29;\n",
       "                var nbb_unformatted_code = \"surv_model.plot(color=\\\"gray\\\", alpha=0.4, label=\\\"log-t model\\\")\\nsurv.plot(ls=\\\"--\\\", label=\\\"data\\\")\\n\\ndecorate(xlabel=xlabel, ylabel=ylabel)\\nplt.savefig(\\\"superbolt3.png\\\", dpi=300)\";\n",
       "                var nbb_formatted_code = \"surv_model.plot(color=\\\"gray\\\", alpha=0.4, label=\\\"log-t model\\\")\\nsurv.plot(ls=\\\"--\\\", label=\\\"data\\\")\\n\\ndecorate(xlabel=xlabel, ylabel=ylabel)\\nplt.savefig(\\\"superbolt3.png\\\", dpi=300)\";\n",
       "                var nbb_cells = Jupyter.notebook.get_cells();\n",
       "                for (var i = 0; i < nbb_cells.length; ++i) {\n",
       "                    if (nbb_cells[i].input_prompt_number == nbb_cell_id) {\n",
       "                        if (nbb_cells[i].get_text() == nbb_unformatted_code) {\n",
       "                             nbb_cells[i].set_text(nbb_formatted_code);\n",
       "                        }\n",
       "                        break;\n",
       "                    }\n",
       "                }\n",
       "            }, 500);\n",
       "            "
      ],
      "text/plain": [
       "<IPython.core.display.Javascript object>"
      ]
     },
     "metadata": {},
     "output_type": "display_data"
    }
   ],
   "source": [
    "surv_model.plot(color=\"gray\", alpha=0.4, label=\"log-t model\")\n",
    "surv.plot(ls=\"--\", label=\"data\")\n",
    "\n",
    "decorate(xlabel=xlabel, ylabel=ylabel)\n",
    "plt.savefig(\"superbolt3.png\", dpi=300)"
   ]
  },
  {
   "cell_type": "markdown",
   "metadata": {},
   "source": [
    "On a log scale we can see that it matches the tail behavior much better than the Gaussian model."
   ]
  },
  {
   "cell_type": "code",
   "execution_count": 30,
   "metadata": {},
   "outputs": [
    {
     "data": {
      "image/png": "[encoded data removed]",
      "text/plain": [
       "<Figure size 640x480 with 1 Axes>"
      ]
     },
     "metadata": {},
     "output_type": "display_data"
    },
    {
     "data": {
      "application/javascript": [
       "\n",
       "            setTimeout(function() {\n",
       "                var nbb_cell_id = 30;\n",
       "                var nbb_unformatted_code = \"surv_model.plot(color=\\\"gray\\\", alpha=0.4, label=\\\"log-t model\\\")\\nsurv.plot(ls=\\\"--\\\", label=\\\"data\\\")\\n\\nplot_error_bounds(surv, mags.count(), color=\\\"C0\\\")\\n\\ndecorate(xlabel=xlabel, ylabel=ylabel, yscale=\\\"log\\\")\\nplt.savefig(\\\"superbolt4.png\\\", dpi=300)\";\n",
       "                var nbb_formatted_code = \"surv_model.plot(color=\\\"gray\\\", alpha=0.4, label=\\\"log-t model\\\")\\nsurv.plot(ls=\\\"--\\\", label=\\\"data\\\")\\n\\nplot_error_bounds(surv, mags.count(), color=\\\"C0\\\")\\n\\ndecorate(xlabel=xlabel, ylabel=ylabel, yscale=\\\"log\\\")\\nplt.savefig(\\\"superbolt4.png\\\", dpi=300)\";\n",
       "                var nbb_cells = Jupyter.notebook.get_cells();\n",
       "                for (var i = 0; i < nbb_cells.length; ++i) {\n",
       "                    if (nbb_cells[i].input_prompt_number == nbb_cell_id) {\n",
       "                        if (nbb_cells[i].get_text() == nbb_unformatted_code) {\n",
       "                             nbb_cells[i].set_text(nbb_formatted_code);\n",
       "                        }\n",
       "                        break;\n",
       "                    }\n",
       "                }\n",
       "            }, 500);\n",
       "            "
      ],
      "text/plain": [
       "<IPython.core.display.Javascript object>"
      ]
     },
     "metadata": {},
     "output_type": "display_data"
    }
   ],
   "source": [
    "surv_model.plot(color=\"gray\", alpha=0.4, label=\"log-t model\")\n",
    "surv.plot(ls=\"--\", label=\"data\")\n",
    "\n",
    "plot_error_bounds(surv, mags.count(), color=\"C0\")\n",
    "\n",
    "decorate(xlabel=xlabel, ylabel=ylabel, yscale=\"log\")\n",
    "plt.savefig(\"superbolt4.png\", dpi=300)"
   ]
  },
  {
   "cell_type": "markdown",
   "metadata": {},
   "source": [
    "\n",
    "## Now with all the data!\n",
    "\n",
    "Read the binned data from Figure 2 of [\"Global Distribution of Superbolts\"](https://agupubs.onlinelibrary.wiley.com/doi/10.1029/2019JD030975)."
   ]
  },
  {
   "cell_type": "code",
   "execution_count": 31,
   "metadata": {},
   "outputs": [
    {
     "data": {
      "text/html": [
       "<div>\n",
       "<style scoped>\n",
       "    .dataframe tbody tr th:only-of-type {\n",
       "        vertical-align: middle;\n",
       "    }\n",
       "\n",
       "    .dataframe tbody tr th {\n",
       "        vertical-align: top;\n",
       "    }\n",
       "\n",
       "    .dataframe thead th {\n",
       "        text-align: right;\n",
       "    }\n",
       "</style>\n",
       "<table border=\"1\" class=\"dataframe\">\n",
       "  <thead>\n",
       "    <tr style=\"text-align: right;\">\n",
       "      <th></th>\n",
       "      <th>0</th>\n",
       "      <th>1</th>\n",
       "      <th>2</th>\n",
       "    </tr>\n",
       "  </thead>\n",
       "  <tbody>\n",
       "    <tr>\n",
       "      <th>0</th>\n",
       "      <td>10.00</td>\n",
       "      <td>1.113000e+01</td>\n",
       "      <td>949197</td>\n",
       "    </tr>\n",
       "    <tr>\n",
       "      <th>1</th>\n",
       "      <td>11.13</td>\n",
       "      <td>1.240000e+01</td>\n",
       "      <td>599878</td>\n",
       "    </tr>\n",
       "    <tr>\n",
       "      <th>2</th>\n",
       "      <td>12.40</td>\n",
       "      <td>1.380000e+01</td>\n",
       "      <td>705316</td>\n",
       "    </tr>\n",
       "    <tr>\n",
       "      <th>3</th>\n",
       "      <td>13.80</td>\n",
       "      <td>1.537000e+01</td>\n",
       "      <td>818835</td>\n",
       "    </tr>\n",
       "    <tr>\n",
       "      <th>4</th>\n",
       "      <td>15.37</td>\n",
       "      <td>1.711000e+01</td>\n",
       "      <td>955340</td>\n",
       "    </tr>\n",
       "    <tr>\n",
       "      <th>...</th>\n",
       "      <td>...</td>\n",
       "      <td>...</td>\n",
       "      <td>...</td>\n",
       "    </tr>\n",
       "    <tr>\n",
       "      <th>145</th>\n",
       "      <td>58434141.34</td>\n",
       "      <td>6.506289e+07</td>\n",
       "      <td>4</td>\n",
       "    </tr>\n",
       "    <tr>\n",
       "      <th>146</th>\n",
       "      <td>65062887.49</td>\n",
       "      <td>7.244360e+07</td>\n",
       "      <td>3</td>\n",
       "    </tr>\n",
       "    <tr>\n",
       "      <th>147</th>\n",
       "      <td>72443596.01</td>\n",
       "      <td>8.066157e+07</td>\n",
       "      <td>0</td>\n",
       "    </tr>\n",
       "    <tr>\n",
       "      <th>148</th>\n",
       "      <td>80661569.22</td>\n",
       "      <td>8.981179e+07</td>\n",
       "      <td>1</td>\n",
       "    </tr>\n",
       "    <tr>\n",
       "      <th>149</th>\n",
       "      <td>89811786.10</td>\n",
       "      <td>1.000000e+08</td>\n",
       "      <td>5</td>\n",
       "    </tr>\n",
       "  </tbody>\n",
       "</table>\n",
       "<p>150 rows × 3 columns</p>\n",
       "</div>"
      ],
      "text/plain": [
       "               0             1       2\n",
       "0          10.00  1.113000e+01  949197\n",
       "1          11.13  1.240000e+01  599878\n",
       "2          12.40  1.380000e+01  705316\n",
       "3          13.80  1.537000e+01  818835\n",
       "4          15.37  1.711000e+01  955340\n",
       "..           ...           ...     ...\n",
       "145  58434141.34  6.506289e+07       4\n",
       "146  65062887.49  7.244360e+07       3\n",
       "147  72443596.01  8.066157e+07       0\n",
       "148  80661569.22  8.981179e+07       1\n",
       "149  89811786.10  1.000000e+08       5\n",
       "\n",
       "[150 rows x 3 columns]"
      ]
     },
     "execution_count": 31,
     "metadata": {},
     "output_type": "execute_result"
    },
    {
     "data": {
      "application/javascript": [
       "\n",
       "            setTimeout(function() {\n",
       "                var nbb_cell_id = 31;\n",
       "                var nbb_unformatted_code = \"binned = pd.read_csv(\\\"SB2019rawCounts.txt\\\", sep=\\\"\\\\t\\\", header=None)\\nbinned\";\n",
       "                var nbb_formatted_code = \"binned = pd.read_csv(\\\"SB2019rawCounts.txt\\\", sep=\\\"\\\\t\\\", header=None)\\nbinned\";\n",
       "                var nbb_cells = Jupyter.notebook.get_cells();\n",
       "                for (var i = 0; i < nbb_cells.length; ++i) {\n",
       "                    if (nbb_cells[i].input_prompt_number == nbb_cell_id) {\n",
       "                        if (nbb_cells[i].get_text() == nbb_unformatted_code) {\n",
       "                             nbb_cells[i].set_text(nbb_formatted_code);\n",
       "                        }\n",
       "                        break;\n",
       "                    }\n",
       "                }\n",
       "            }, 500);\n",
       "            "
      ],
      "text/plain": [
       "<IPython.core.display.Javascript object>"
      ]
     },
     "metadata": {},
     "output_type": "display_data"
    }
   ],
   "source": [
    "binned = pd.read_csv(\"SB2019rawCounts.txt\", sep=\"\\t\", header=None)\n",
    "binned"
   ]
  },
  {
   "cell_type": "markdown",
   "metadata": {},
   "source": [
    "Place each point in the logarithmic center of its bin."
   ]
  },
  {
   "cell_type": "code",
   "execution_count": 32,
   "metadata": {},
   "outputs": [
    {
     "data": {
      "text/plain": [
       "count    150.000000\n",
       "mean       4.499997\n",
       "std        2.027455\n",
       "min        1.023248\n",
       "25%        2.761667\n",
       "50%        4.500000\n",
       "75%        6.238333\n",
       "max        7.976667\n",
       "dtype: float64"
      ]
     },
     "execution_count": 32,
     "metadata": {},
     "output_type": "execute_result"
    },
    {
     "data": {
      "application/javascript": [
       "\n",
       "            setTimeout(function() {\n",
       "                var nbb_cell_id = 32;\n",
       "                var nbb_unformatted_code = \"log_center = (np.log10(binned[0]) + np.log10(binned[1])) / 2\\nlog_center.describe()\";\n",
       "                var nbb_formatted_code = \"log_center = (np.log10(binned[0]) + np.log10(binned[1])) / 2\\nlog_center.describe()\";\n",
       "                var nbb_cells = Jupyter.notebook.get_cells();\n",
       "                for (var i = 0; i < nbb_cells.length; ++i) {\n",
       "                    if (nbb_cells[i].input_prompt_number == nbb_cell_id) {\n",
       "                        if (nbb_cells[i].get_text() == nbb_unformatted_code) {\n",
       "                             nbb_cells[i].set_text(nbb_formatted_code);\n",
       "                        }\n",
       "                        break;\n",
       "                    }\n",
       "                }\n",
       "            }, 500);\n",
       "            "
      ],
      "text/plain": [
       "<IPython.core.display.Javascript object>"
      ]
     },
     "metadata": {},
     "output_type": "display_data"
    }
   ],
   "source": [
    "log_center = (np.log10(binned[0]) + np.log10(binned[1])) / 2\n",
    "log_center.describe()"
   ]
  },
  {
   "cell_type": "markdown",
   "metadata": {},
   "source": [
    "Make a PMF."
   ]
  },
  {
   "cell_type": "code",
   "execution_count": 33,
   "metadata": {},
   "outputs": [
    {
     "data": {
      "text/plain": [
       "1077038042"
      ]
     },
     "execution_count": 33,
     "metadata": {},
     "output_type": "execute_result"
    },
    {
     "data": {
      "application/javascript": [
       "\n",
       "            setTimeout(function() {\n",
       "                var nbb_cell_id = 33;\n",
       "                var nbb_unformatted_code = \"ps = binned[2].values\\npmf2 = Pmf(ps, index=log_center)\\npmf2.sum()\";\n",
       "                var nbb_formatted_code = \"ps = binned[2].values\\npmf2 = Pmf(ps, index=log_center)\\npmf2.sum()\";\n",
       "                var nbb_cells = Jupyter.notebook.get_cells();\n",
       "                for (var i = 0; i < nbb_cells.length; ++i) {\n",
       "                    if (nbb_cells[i].input_prompt_number == nbb_cell_id) {\n",
       "                        if (nbb_cells[i].get_text() == nbb_unformatted_code) {\n",
       "                             nbb_cells[i].set_text(nbb_formatted_code);\n",
       "                        }\n",
       "                        break;\n",
       "                    }\n",
       "                }\n",
       "            }, 500);\n",
       "            "
      ],
      "text/plain": [
       "<IPython.core.display.Javascript object>"
      ]
     },
     "metadata": {},
     "output_type": "display_data"
    }
   ],
   "source": [
    "ps = binned[2].values\n",
    "pmf2 = Pmf(ps, index=log_center)\n",
    "pmf2.sum()"
   ]
  },
  {
   "cell_type": "code",
   "execution_count": 34,
   "metadata": {},
   "outputs": [
    {
     "data": {
      "image/png": "[encoded data removed]",
      "text/plain": [
       "<Figure size 640x480 with 1 Axes>"
      ]
     },
     "metadata": {},
     "output_type": "display_data"
    },
    {
     "data": {
      "application/javascript": [
       "\n",
       "            setTimeout(function() {\n",
       "                var nbb_cell_id = 34;\n",
       "                var nbb_unformatted_code = \"pmf2.plot()\\ndecorate(yscale=\\\"log\\\")\";\n",
       "                var nbb_formatted_code = \"pmf2.plot()\\ndecorate(yscale=\\\"log\\\")\";\n",
       "                var nbb_cells = Jupyter.notebook.get_cells();\n",
       "                for (var i = 0; i < nbb_cells.length; ++i) {\n",
       "                    if (nbb_cells[i].input_prompt_number == nbb_cell_id) {\n",
       "                        if (nbb_cells[i].get_text() == nbb_unformatted_code) {\n",
       "                             nbb_cells[i].set_text(nbb_formatted_code);\n",
       "                        }\n",
       "                        break;\n",
       "                    }\n",
       "                }\n",
       "            }, 500);\n",
       "            "
      ],
      "text/plain": [
       "<IPython.core.display.Javascript object>"
      ]
     },
     "metadata": {},
     "output_type": "display_data"
    }
   ],
   "source": [
    "pmf2.plot()\n",
    "decorate(yscale=\"log\")"
   ]
  },
  {
   "cell_type": "markdown",
   "metadata": {},
   "source": [
    "Make a tail distribution (a nonstandard survival curve that represents the probability >= each value of x, rather than strictly greater)."
   ]
  },
  {
   "cell_type": "code",
   "execution_count": 35,
   "metadata": {},
   "outputs": [
    {
     "data": {
      "image/png": "[encoded data removed]",
      "text/plain": [
       "<Figure size 640x480 with 1 Axes>"
      ]
     },
     "metadata": {},
     "output_type": "display_data"
    },
    {
     "data": {
      "application/javascript": [
       "\n",
       "            setTimeout(function() {\n",
       "                var nbb_cell_id = 35;\n",
       "                var nbb_unformatted_code = \"pmf2.normalize()\\nsurv2 = Surv(pmf2.make_surv() + pmf2)\\nsurv2.iloc[0]\\n\\nsurv.plot(label=\\\"one week\\\")\\nsurv2.plot(label=\\\"all data\\\")\\n\\ndecorate(xlabel=xlabel, ylabel=ylabel)\";\n",
       "                var nbb_formatted_code = \"pmf2.normalize()\\nsurv2 = Surv(pmf2.make_surv() + pmf2)\\nsurv2.iloc[0]\\n\\nsurv.plot(label=\\\"one week\\\")\\nsurv2.plot(label=\\\"all data\\\")\\n\\ndecorate(xlabel=xlabel, ylabel=ylabel)\";\n",
       "                var nbb_cells = Jupyter.notebook.get_cells();\n",
       "                for (var i = 0; i < nbb_cells.length; ++i) {\n",
       "                    if (nbb_cells[i].input_prompt_number == nbb_cell_id) {\n",
       "                        if (nbb_cells[i].get_text() == nbb_unformatted_code) {\n",
       "                             nbb_cells[i].set_text(nbb_formatted_code);\n",
       "                        }\n",
       "                        break;\n",
       "                    }\n",
       "                }\n",
       "            }, 500);\n",
       "            "
      ],
      "text/plain": [
       "<IPython.core.display.Javascript object>"
      ]
     },
     "metadata": {},
     "output_type": "display_data"
    }
   ],
   "source": [
    "pmf2.normalize()\n",
    "surv2 = Surv(pmf2.make_surv() + pmf2)\n",
    "surv2.iloc[0]\n",
    "\n",
    "surv.plot(label=\"one week\")\n",
    "surv2.plot(label=\"all data\")\n",
    "\n",
    "decorate(xlabel=xlabel, ylabel=ylabel)"
   ]
  },
  {
   "cell_type": "markdown",
   "metadata": {},
   "source": [
    "### Gaussian model"
   ]
  },
  {
   "cell_type": "code",
   "execution_count": 36,
   "metadata": {},
   "outputs": [
    {
     "data": {
      "text/plain": [
       "(3.0127965419077416, 0.6048350889257574)"
      ]
     },
     "execution_count": 36,
     "metadata": {},
     "output_type": "execute_result"
    },
    {
     "data": {
      "application/javascript": [
       "\n",
       "            setTimeout(function() {\n",
       "                var nbb_cell_id = 36;\n",
       "                var nbb_unformatted_code = \"mu, sigma = fit_truncated_normal(surv2)\\nmu, sigma\";\n",
       "                var nbb_formatted_code = \"mu, sigma = fit_truncated_normal(surv2)\\nmu, sigma\";\n",
       "                var nbb_cells = Jupyter.notebook.get_cells();\n",
       "                for (var i = 0; i < nbb_cells.length; ++i) {\n",
       "                    if (nbb_cells[i].input_prompt_number == nbb_cell_id) {\n",
       "                        if (nbb_cells[i].get_text() == nbb_unformatted_code) {\n",
       "                             nbb_cells[i].set_text(nbb_formatted_code);\n",
       "                        }\n",
       "                        break;\n",
       "                    }\n",
       "                }\n",
       "            }, 500);\n",
       "            "
      ],
      "text/plain": [
       "<IPython.core.display.Javascript object>"
      ]
     },
     "metadata": {},
     "output_type": "display_data"
    }
   ],
   "source": [
    "mu, sigma = fit_truncated_normal(surv2)\n",
    "mu, sigma"
   ]
  },
  {
   "cell_type": "code",
   "execution_count": 37,
   "metadata": {},
   "outputs": [
    {
     "data": {
      "application/javascript": [
       "\n",
       "            setTimeout(function() {\n",
       "                var nbb_cell_id = 37;\n",
       "                var nbb_unformatted_code = \"low, high = surv2.qs.min(), surv2.qs.max()\\nqs = np.linspace(low, high, 2000)\\nsurv_model2 = truncated_normal_sf(qs, mu, sigma)\";\n",
       "                var nbb_formatted_code = \"low, high = surv2.qs.min(), surv2.qs.max()\\nqs = np.linspace(low, high, 2000)\\nsurv_model2 = truncated_normal_sf(qs, mu, sigma)\";\n",
       "                var nbb_cells = Jupyter.notebook.get_cells();\n",
       "                for (var i = 0; i < nbb_cells.length; ++i) {\n",
       "                    if (nbb_cells[i].input_prompt_number == nbb_cell_id) {\n",
       "                        if (nbb_cells[i].get_text() == nbb_unformatted_code) {\n",
       "                             nbb_cells[i].set_text(nbb_formatted_code);\n",
       "                        }\n",
       "                        break;\n",
       "                    }\n",
       "                }\n",
       "            }, 500);\n",
       "            "
      ],
      "text/plain": [
       "<IPython.core.display.Javascript object>"
      ]
     },
     "metadata": {},
     "output_type": "display_data"
    }
   ],
   "source": [
    "low, high = surv2.qs.min(), surv2.qs.max()\n",
    "qs = np.linspace(low, high, 2000)\n",
    "surv_model2 = truncated_normal_sf(qs, mu, sigma)"
   ]
  },
  {
   "cell_type": "code",
   "execution_count": 38,
   "metadata": {},
   "outputs": [
    {
     "data": {
      "image/png": "[encoded data removed]",
      "text/plain": [
       "<Figure size 640x480 with 1 Axes>"
      ]
     },
     "metadata": {},
     "output_type": "display_data"
    },
    {
     "data": {
      "application/javascript": [
       "\n",
       "            setTimeout(function() {\n",
       "                var nbb_cell_id = 38;\n",
       "                var nbb_unformatted_code = \"surv_model2.plot(color=\\\"gray\\\", alpha=0.4, label=\\\"lognormal model\\\")\\nsurv2.plot(ls=\\\"--\\\", label=\\\"data\\\")\\n\\ndecorate(xlabel=xlabel, ylabel=ylabel)\\nplt.savefig(\\\"superbolt5.png\\\", dpi=300)\";\n",
       "                var nbb_formatted_code = \"surv_model2.plot(color=\\\"gray\\\", alpha=0.4, label=\\\"lognormal model\\\")\\nsurv2.plot(ls=\\\"--\\\", label=\\\"data\\\")\\n\\ndecorate(xlabel=xlabel, ylabel=ylabel)\\nplt.savefig(\\\"superbolt5.png\\\", dpi=300)\";\n",
       "                var nbb_cells = Jupyter.notebook.get_cells();\n",
       "                for (var i = 0; i < nbb_cells.length; ++i) {\n",
       "                    if (nbb_cells[i].input_prompt_number == nbb_cell_id) {\n",
       "                        if (nbb_cells[i].get_text() == nbb_unformatted_code) {\n",
       "                             nbb_cells[i].set_text(nbb_formatted_code);\n",
       "                        }\n",
       "                        break;\n",
       "                    }\n",
       "                }\n",
       "            }, 500);\n",
       "            "
      ],
      "text/plain": [
       "<IPython.core.display.Javascript object>"
      ]
     },
     "metadata": {},
     "output_type": "display_data"
    }
   ],
   "source": [
    "surv_model2.plot(color=\"gray\", alpha=0.4, label=\"lognormal model\")\n",
    "surv2.plot(ls=\"--\", label=\"data\")\n",
    "\n",
    "decorate(xlabel=xlabel, ylabel=ylabel)\n",
    "plt.savefig(\"superbolt5.png\", dpi=300)"
   ]
  },
  {
   "cell_type": "code",
   "execution_count": 39,
   "metadata": {},
   "outputs": [
    {
     "data": {
      "image/png": "[encoded data removed]",
      "text/plain": [
       "<Figure size 640x480 with 1 Axes>"
      ]
     },
     "metadata": {},
     "output_type": "display_data"
    },
    {
     "data": {
      "application/javascript": [
       "\n",
       "            setTimeout(function() {\n",
       "                var nbb_cell_id = 39;\n",
       "                var nbb_unformatted_code = \"surv_model2.plot(color=\\\"gray\\\", alpha=0.4, label=\\\"lognormal model\\\")\\nsurv2.plot(ls=\\\"--\\\", label=\\\"data\\\")\\n\\n# calculate error bounds based on a sample size of 1 billion\\nplot_error_bounds(surv2, 1e9, color=\\\"C0\\\")\\n\\ndecorate(xlabel=xlabel, ylabel=ylabel, yscale=\\\"log\\\")\\nplt.savefig(\\\"superbolt6.png\\\", dpi=300)\";\n",
       "                var nbb_formatted_code = \"surv_model2.plot(color=\\\"gray\\\", alpha=0.4, label=\\\"lognormal model\\\")\\nsurv2.plot(ls=\\\"--\\\", label=\\\"data\\\")\\n\\n# calculate error bounds based on a sample size of 1 billion\\nplot_error_bounds(surv2, 1e9, color=\\\"C0\\\")\\n\\ndecorate(xlabel=xlabel, ylabel=ylabel, yscale=\\\"log\\\")\\nplt.savefig(\\\"superbolt6.png\\\", dpi=300)\";\n",
       "                var nbb_cells = Jupyter.notebook.get_cells();\n",
       "                for (var i = 0; i < nbb_cells.length; ++i) {\n",
       "                    if (nbb_cells[i].input_prompt_number == nbb_cell_id) {\n",
       "                        if (nbb_cells[i].get_text() == nbb_unformatted_code) {\n",
       "                             nbb_cells[i].set_text(nbb_formatted_code);\n",
       "                        }\n",
       "                        break;\n",
       "                    }\n",
       "                }\n",
       "            }, 500);\n",
       "            "
      ],
      "text/plain": [
       "<IPython.core.display.Javascript object>"
      ]
     },
     "metadata": {},
     "output_type": "display_data"
    }
   ],
   "source": [
    "surv_model2.plot(color=\"gray\", alpha=0.4, label=\"lognormal model\")\n",
    "surv2.plot(ls=\"--\", label=\"data\")\n",
    "\n",
    "# calculate error bounds based on a sample size of 1 billion\n",
    "plot_error_bounds(surv2, 1e9, color=\"C0\")\n",
    "\n",
    "decorate(xlabel=xlabel, ylabel=ylabel, yscale=\"log\")\n",
    "plt.savefig(\"superbolt6.png\", dpi=300)"
   ]
  },
  {
   "cell_type": "code",
   "execution_count": 40,
   "metadata": {},
   "outputs": [
    {
     "data": {
      "text/plain": [
       "(array(5.57083391e-09), array(3.3836566e-16))"
      ]
     },
     "execution_count": 40,
     "metadata": {},
     "output_type": "execute_result"
    },
    {
     "data": {
      "application/javascript": [
       "\n",
       "            setTimeout(function() {\n",
       "                var nbb_cell_id = 40;\n",
       "                var nbb_unformatted_code = \"surv2(7.9), surv_model2(7.9)\";\n",
       "                var nbb_formatted_code = \"surv2(7.9), surv_model2(7.9)\";\n",
       "                var nbb_cells = Jupyter.notebook.get_cells();\n",
       "                for (var i = 0; i < nbb_cells.length; ++i) {\n",
       "                    if (nbb_cells[i].input_prompt_number == nbb_cell_id) {\n",
       "                        if (nbb_cells[i].get_text() == nbb_unformatted_code) {\n",
       "                             nbb_cells[i].set_text(nbb_formatted_code);\n",
       "                        }\n",
       "                        break;\n",
       "                    }\n",
       "                }\n",
       "            }, 500);\n",
       "            "
      ],
      "text/plain": [
       "<IPython.core.display.Javascript object>"
      ]
     },
     "metadata": {},
     "output_type": "display_data"
    }
   ],
   "source": [
    "surv2(7.9), surv_model2(7.9)"
   ]
  },
  {
   "cell_type": "markdown",
   "metadata": {},
   "source": [
    "### Student t model"
   ]
  },
  {
   "cell_type": "code",
   "execution_count": 41,
   "metadata": {},
   "outputs": [
    {
     "data": {
      "text/plain": [
       "array([28.49482247])"
      ]
     },
     "execution_count": 41,
     "metadata": {},
     "output_type": "execute_result"
    },
    {
     "data": {
      "application/javascript": [
       "\n",
       "            setTimeout(function() {\n",
       "                var nbb_cell_id = 41;\n",
       "                var nbb_unformatted_code = \"df = minimize_df(5, surv2, [(1, 1000)])\\ndf\";\n",
       "                var nbb_formatted_code = \"df = minimize_df(5, surv2, [(1, 1000)])\\ndf\";\n",
       "                var nbb_cells = Jupyter.notebook.get_cells();\n",
       "                for (var i = 0; i < nbb_cells.length; ++i) {\n",
       "                    if (nbb_cells[i].input_prompt_number == nbb_cell_id) {\n",
       "                        if (nbb_cells[i].get_text() == nbb_unformatted_code) {\n",
       "                             nbb_cells[i].set_text(nbb_formatted_code);\n",
       "                        }\n",
       "                        break;\n",
       "                    }\n",
       "                }\n",
       "            }, 500);\n",
       "            "
      ],
      "text/plain": [
       "<IPython.core.display.Javascript object>"
      ]
     },
     "metadata": {},
     "output_type": "display_data"
    }
   ],
   "source": [
    "df = minimize_df(5, surv2, [(1, 1000)])\n",
    "df"
   ]
  },
  {
   "cell_type": "code",
   "execution_count": 42,
   "metadata": {},
   "outputs": [
    {
     "data": {
      "text/plain": [
       "(array([28.49482247]), 3.0120077516499237, 0.5934553421116102)"
      ]
     },
     "execution_count": 42,
     "metadata": {},
     "output_type": "execute_result"
    },
    {
     "data": {
      "application/javascript": [
       "\n",
       "            setTimeout(function() {\n",
       "                var nbb_cell_id = 42;\n",
       "                var nbb_unformatted_code = \"mu, sigma = fit_truncated_t(df, surv2)\\ndf, mu, sigma\";\n",
       "                var nbb_formatted_code = \"mu, sigma = fit_truncated_t(df, surv2)\\ndf, mu, sigma\";\n",
       "                var nbb_cells = Jupyter.notebook.get_cells();\n",
       "                for (var i = 0; i < nbb_cells.length; ++i) {\n",
       "                    if (nbb_cells[i].input_prompt_number == nbb_cell_id) {\n",
       "                        if (nbb_cells[i].get_text() == nbb_unformatted_code) {\n",
       "                             nbb_cells[i].set_text(nbb_formatted_code);\n",
       "                        }\n",
       "                        break;\n",
       "                    }\n",
       "                }\n",
       "            }, 500);\n",
       "            "
      ],
      "text/plain": [
       "<IPython.core.display.Javascript object>"
      ]
     },
     "metadata": {},
     "output_type": "display_data"
    }
   ],
   "source": [
    "mu, sigma = fit_truncated_t(df, surv2)\n",
    "df, mu, sigma"
   ]
  },
  {
   "cell_type": "code",
   "execution_count": 43,
   "metadata": {},
   "outputs": [
    {
     "data": {
      "application/javascript": [
       "\n",
       "            setTimeout(function() {\n",
       "                var nbb_cell_id = 43;\n",
       "                var nbb_unformatted_code = \"low, high = surv2.qs.min(), surv2.qs.max()\\n# low, high = surv2.qs.min(), 8\\nqs = np.linspace(low, high, 2000)\\nsurv_model2 = truncated_t_sf(qs, df, mu, sigma)\";\n",
       "                var nbb_formatted_code = \"low, high = surv2.qs.min(), surv2.qs.max()\\n# low, high = surv2.qs.min(), 8\\nqs = np.linspace(low, high, 2000)\\nsurv_model2 = truncated_t_sf(qs, df, mu, sigma)\";\n",
       "                var nbb_cells = Jupyter.notebook.get_cells();\n",
       "                for (var i = 0; i < nbb_cells.length; ++i) {\n",
       "                    if (nbb_cells[i].input_prompt_number == nbb_cell_id) {\n",
       "                        if (nbb_cells[i].get_text() == nbb_unformatted_code) {\n",
       "                             nbb_cells[i].set_text(nbb_formatted_code);\n",
       "                        }\n",
       "                        break;\n",
       "                    }\n",
       "                }\n",
       "            }, 500);\n",
       "            "
      ],
      "text/plain": [
       "<IPython.core.display.Javascript object>"
      ]
     },
     "metadata": {},
     "output_type": "display_data"
    }
   ],
   "source": [
    "low, high = surv2.qs.min(), surv2.qs.max()\n",
    "# low, high = surv2.qs.min(), 8\n",
    "qs = np.linspace(low, high, 2000)\n",
    "surv_model2 = truncated_t_sf(qs, df, mu, sigma)"
   ]
  },
  {
   "cell_type": "code",
   "execution_count": 44,
   "metadata": {},
   "outputs": [
    {
     "data": {
      "image/png": "[encoded data removed]",
      "text/plain": [
       "<Figure size 640x480 with 1 Axes>"
      ]
     },
     "metadata": {},
     "output_type": "display_data"
    },
    {
     "data": {
      "application/javascript": [
       "\n",
       "            setTimeout(function() {\n",
       "                var nbb_cell_id = 44;\n",
       "                var nbb_unformatted_code = \"surv_model2.plot(color=\\\"gray\\\", alpha=0.4, label=\\\"log-t model\\\")\\nsurv2.plot(ls=\\\"--\\\", label=\\\"data\\\")\\n\\ndecorate(xlabel=xlabel, ylabel=ylabel)\\nplt.savefig(\\\"superbolt7.png\\\", dpi=300)\";\n",
       "                var nbb_formatted_code = \"surv_model2.plot(color=\\\"gray\\\", alpha=0.4, label=\\\"log-t model\\\")\\nsurv2.plot(ls=\\\"--\\\", label=\\\"data\\\")\\n\\ndecorate(xlabel=xlabel, ylabel=ylabel)\\nplt.savefig(\\\"superbolt7.png\\\", dpi=300)\";\n",
       "                var nbb_cells = Jupyter.notebook.get_cells();\n",
       "                for (var i = 0; i < nbb_cells.length; ++i) {\n",
       "                    if (nbb_cells[i].input_prompt_number == nbb_cell_id) {\n",
       "                        if (nbb_cells[i].get_text() == nbb_unformatted_code) {\n",
       "                             nbb_cells[i].set_text(nbb_formatted_code);\n",
       "                        }\n",
       "                        break;\n",
       "                    }\n",
       "                }\n",
       "            }, 500);\n",
       "            "
      ],
      "text/plain": [
       "<IPython.core.display.Javascript object>"
      ]
     },
     "metadata": {},
     "output_type": "display_data"
    }
   ],
   "source": [
    "surv_model2.plot(color=\"gray\", alpha=0.4, label=\"log-t model\")\n",
    "surv2.plot(ls=\"--\", label=\"data\")\n",
    "\n",
    "decorate(xlabel=xlabel, ylabel=ylabel)\n",
    "plt.savefig(\"superbolt7.png\", dpi=300)"
   ]
  },
  {
   "cell_type": "code",
   "execution_count": 45,
   "metadata": {},
   "outputs": [
    {
     "data": {
      "image/png": "[encoded data removed]",
      "text/plain": [
       "<Figure size 640x480 with 1 Axes>"
      ]
     },
     "metadata": {},
     "output_type": "display_data"
    },
    {
     "data": {
      "application/javascript": [
       "\n",
       "            setTimeout(function() {\n",
       "                var nbb_cell_id = 45;\n",
       "                var nbb_unformatted_code = \"surv_model2.plot(color=\\\"gray\\\", alpha=0.4, label=\\\"log-t model\\\")\\nsurv2.plot(ls=\\\"--\\\", label=\\\"data\\\")\\n\\n# calculate error bounds based on a sample size of 1 billion\\nplot_error_bounds(surv2, 1e9, color=\\\"C0\\\")\\n\\ndecorate(xlabel=xlabel, ylabel=ylabel, yscale=\\\"log\\\")\\nplt.savefig(\\\"superbolt8.png\\\", dpi=300)\";\n",
       "                var nbb_formatted_code = \"surv_model2.plot(color=\\\"gray\\\", alpha=0.4, label=\\\"log-t model\\\")\\nsurv2.plot(ls=\\\"--\\\", label=\\\"data\\\")\\n\\n# calculate error bounds based on a sample size of 1 billion\\nplot_error_bounds(surv2, 1e9, color=\\\"C0\\\")\\n\\ndecorate(xlabel=xlabel, ylabel=ylabel, yscale=\\\"log\\\")\\nplt.savefig(\\\"superbolt8.png\\\", dpi=300)\";\n",
       "                var nbb_cells = Jupyter.notebook.get_cells();\n",
       "                for (var i = 0; i < nbb_cells.length; ++i) {\n",
       "                    if (nbb_cells[i].input_prompt_number == nbb_cell_id) {\n",
       "                        if (nbb_cells[i].get_text() == nbb_unformatted_code) {\n",
       "                             nbb_cells[i].set_text(nbb_formatted_code);\n",
       "                        }\n",
       "                        break;\n",
       "                    }\n",
       "                }\n",
       "            }, 500);\n",
       "            "
      ],
      "text/plain": [
       "<IPython.core.display.Javascript object>"
      ]
     },
     "metadata": {},
     "output_type": "display_data"
    }
   ],
   "source": [
    "surv_model2.plot(color=\"gray\", alpha=0.4, label=\"log-t model\")\n",
    "surv2.plot(ls=\"--\", label=\"data\")\n",
    "\n",
    "# calculate error bounds based on a sample size of 1 billion\n",
    "plot_error_bounds(surv2, 1e9, color=\"C0\")\n",
    "\n",
    "decorate(xlabel=xlabel, ylabel=ylabel, yscale=\"log\")\n",
    "plt.savefig(\"superbolt8.png\", dpi=300)"
   ]
  },
  {
   "cell_type": "code",
   "execution_count": null,
   "metadata": {},
   "outputs": [],
   "source": []
  }
 ],
 "metadata": {
  "celltoolbar": "Tags",
  "kernelspec": {
   "display_name": "Python 3 (ipykernel)",
   "language": "python",
   "name": "python3"
  },
  "language_info": {
   "codemirror_mode": {
    "name": "ipython",
    "version": 3
   },
   "file_extension": ".py",
   "mimetype": "text/x-python",
   "name": "python",
   "nbconvert_exporter": "python",
   "pygments_lexer": "ipython3",
   "version": "3.10.12"
  }
 },
 "nbformat": 4,
 "nbformat_minor": 4
}
