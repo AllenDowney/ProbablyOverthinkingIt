{
 "cells": [
  {
   "cell_type": "markdown",
   "id": "960b2d30",
   "metadata": {},
   "source": [
    "# Is the Ideology Gap Growing?\n",
    "\n",
    "[This tweet](https://twitter.com/jburnmurdoch/status/1750849189834022932) from John Burn-Murdoch links to an article in the Financial Times, [\"A new global gender divide is emerging\"](https://www.ft.com/content/29fd9b5c-2f35-41bf-9d4c-994db4e12998), which includes this figure:"
   ]
  },
  {
   "cell_type": "markdown",
   "id": "13d886ab",
   "metadata": {},
   "source": [
    "![](https://github.com/AllenDowney/ProbablyOverthinkingIt/blob/book/data/ft_ideology_gap.png?raw=true)"
   ]
  },
  {
   "attachments": {},
   "cell_type": "markdown",
   "id": "c7dac7bc",
   "metadata": {},
   "source": [
    "The article claims:\n",
    "\n",
    "> In the US, Gallup data shows that after decades where the sexes were each spread roughly equally across liberal and conservative world views, women aged 18 to 30 are now 30 percentage points more liberal than their male contemporaries. That gap took just six years to open up.\n",
    "\n",
    "The figure says it is based on General Social Survey data and the text says it's based on Gallup data, so I'm not sure which it is.\n",
    "\n",
    "And I don't know what it means that \"All figures are adjusted for time trend in the overall population\".\n",
    "\n",
    "Anyway, since I used GSS data in the last three chapters of [*Probably Overthinking It*](https://greenteapress.com/wp/probably-overthinking-it/), this analysis did not sound right to me.\n",
    "\n",
    "This notebook is my attempt to replicate the analysis with GSS data."
   ]
  },
  {
   "cell_type": "markdown",
   "id": "cb9c5ba2",
   "metadata": {},
   "source": [
    "[Click here to run this notebook on Colab](https://colab.research.google.com/github/AllenDowney/ProbablyOverthinkingIt/blob/book/examples/ideology_gap.ipynb)"
   ]
  },
  {
   "cell_type": "code",
   "execution_count": 1,
   "id": "581d0503",
   "metadata": {},
   "outputs": [],
   "source": [
    "import pandas as pd\n",
    "import numpy as np\n",
    "import matplotlib.pyplot as plt"
   ]
  },
  {
   "cell_type": "code",
   "execution_count": 2,
   "id": "4325a9c1",
   "metadata": {},
   "outputs": [],
   "source": [
    "from statsmodels.nonparametric.smoothers_lowess import lowess\n",
    "\n",
    "\n",
    "def make_lowess(series, frac=0.4):\n",
    "    \"\"\"Use LOWESS to compute a smooth line.\n",
    "\n",
    "    series: pd.Series\n",
    "\n",
    "    returns: pd.Series\n",
    "    \"\"\"\n",
    "    y = series.values\n",
    "    x = series.index.values\n",
    "\n",
    "    smooth = lowess(y, x, frac=frac)\n",
    "    index, data = np.transpose(smooth)\n",
    "\n",
    "    return pd.Series(data, index=index)"
   ]
  },
  {
   "cell_type": "code",
   "execution_count": 3,
   "id": "bc25cfab",
   "metadata": {
    "tags": [
     "hide-cell"
    ]
   },
   "outputs": [],
   "source": [
    "def plot_series_lowess(series, color, plot_series=True, frac=0.4, **options):\n",
    "    \"\"\"Plots a series of data points and a smooth line.\n",
    "\n",
    "    series: pd.Series\n",
    "    color: string or tuple\n",
    "    \"\"\"\n",
    "    if \"label\" not in options:\n",
    "        options[\"label\"] = series.name\n",
    "\n",
    "    if plot_series or len(series) == 1:\n",
    "        x = series.index\n",
    "        y = series.values\n",
    "        plt.plot(x, y, \"o\", color=color, alpha=0.3, label=\"_\")\n",
    "\n",
    "    if not plot_series and len(series) == 1:\n",
    "        x = series.index\n",
    "        y = series.values\n",
    "        plt.plot(x, y, \"o\", color=color, alpha=0.6, label=options[\"label\"])\n",
    "\n",
    "    if len(series) > 1:\n",
    "        smooth = make_lowess(series, frac=frac)\n",
    "        smooth.plot(color=color, **options)"
   ]
  },
  {
   "cell_type": "code",
   "execution_count": 4,
   "id": "229694c8",
   "metadata": {
    "tags": [
     "hide-cell"
    ]
   },
   "outputs": [],
   "source": [
    "def decorate(**options):\n",
    "    \"\"\"Decorate the current axes.\n",
    "\n",
    "    Call decorate with keyword arguments like\n",
    "    decorate(title='Title',\n",
    "             xlabel='x',\n",
    "             ylabel='y')\n",
    "\n",
    "    The keyword arguments can be any of the axis properties\n",
    "    https://matplotlib.org/api/axes_api.html\n",
    "    \"\"\"\n",
    "    ax = plt.gca()\n",
    "    ax.set(**options)\n",
    "\n",
    "    handles, labels = ax.get_legend_handles_labels()\n",
    "    if handles:\n",
    "        ax.legend(handles, labels)\n",
    "\n",
    "    plt.tight_layout()"
   ]
  },
  {
   "cell_type": "markdown",
   "id": "2e495adf",
   "metadata": {},
   "source": [
    "## Read the Data\n",
    "\n",
    "I'm using data I previous cleaned for the [Political Alignment Case Study](https://allendowney.github.io/PoliticalAlignmentCaseStudy/)"
   ]
  },
  {
   "cell_type": "code",
   "execution_count": 5,
   "id": "83298ef9",
   "metadata": {},
   "outputs": [],
   "source": [
    "from os.path import basename, exists\n",
    "from pathlib import Path\n",
    "\n",
    "\n",
    "def download(url):\n",
    "    filename = basename(url)\n",
    "    if not exists(filename):\n",
    "        from urllib.request import urlretrieve\n",
    "\n",
    "        local, _ = urlretrieve(url, filename)\n",
    "        print(\"Downloaded \" + str(local))\n",
    "    return filename"
   ]
  },
  {
   "cell_type": "code",
   "execution_count": 6,
   "id": "1a2960a0",
   "metadata": {
    "tags": [
     "hide-cell"
    ]
   },
   "outputs": [
    {
     "data": {
      "text/plain": [
       "'gss_pacs_clean.hdf'"
      ]
     },
     "execution_count": 6,
     "metadata": {},
     "output_type": "execute_result"
    }
   ],
   "source": [
    "download(\"https://github.com/AllenDowney/PoliticalAlignmentCaseStudy/raw/master/gss_pacs_clean.hdf\")"
   ]
  },
  {
   "cell_type": "code",
   "execution_count": 7,
   "id": "c8aee8c9",
   "metadata": {},
   "outputs": [
    {
     "data": {
      "text/plain": [
       "(72390, 204)"
      ]
     },
     "execution_count": 7,
     "metadata": {},
     "output_type": "execute_result"
    }
   ],
   "source": [
    "gss = pd.read_hdf('gss_pacs_clean.hdf', 'gss')\n",
    "gss.shape"
   ]
  },
  {
   "cell_type": "markdown",
   "id": "cb9bbb07",
   "metadata": {},
   "source": [
    "This version of the data is not corrected for stratified sampling, but that should not make much difference.\n",
    "\n",
    "The primary variable we'll use is [polviews](https://subsetdataexplorer.norc.org/variables/178/vshow), which asks\n",
    "\n",
    "> We hear a lot of talk these days about liberals and conservatives. I'm going to show you a seven-point scale on which the political views that people might hold are arranged from extremely liberal--point 1--to extremely conservative--point 7. Where would you place yourself on this scale?\n",
    "\n",
    "The points on the scale are Extremely liberal, Liberal, and Slightly liberal; Moderate;\tSlightly conservative, Conservative, and Extremely conservative.\n",
    "\n",
    "To confirm that my cleaning did not introduce errors, I compared the following cross-tabulation with the one in the [GSS Explorer](https://subsetdataexplorer.norc.org/variables/178/vshow)."
   ]
  },
  {
   "cell_type": "code",
   "execution_count": 8,
   "id": "04154ff5",
   "metadata": {},
   "outputs": [
    {
     "data": {
      "text/html": [
       "<div>\n",
       "<style scoped>\n",
       "    .dataframe tbody tr th:only-of-type {\n",
       "        vertical-align: middle;\n",
       "    }\n",
       "\n",
       "    .dataframe tbody tr th {\n",
       "        vertical-align: top;\n",
       "    }\n",
       "\n",
       "    .dataframe thead th {\n",
       "        text-align: right;\n",
       "    }\n",
       "</style>\n",
       "<table border=\"1\" class=\"dataframe\">\n",
       "  <thead>\n",
       "    <tr style=\"text-align: right;\">\n",
       "      <th>year</th>\n",
       "      <th>1974</th>\n",
       "      <th>1975</th>\n",
       "      <th>1976</th>\n",
       "      <th>1977</th>\n",
       "      <th>1978</th>\n",
       "      <th>1980</th>\n",
       "      <th>1982</th>\n",
       "      <th>1983</th>\n",
       "      <th>1984</th>\n",
       "      <th>1985</th>\n",
       "      <th>...</th>\n",
       "      <th>2004</th>\n",
       "      <th>2006</th>\n",
       "      <th>2008</th>\n",
       "      <th>2010</th>\n",
       "      <th>2012</th>\n",
       "      <th>2014</th>\n",
       "      <th>2016</th>\n",
       "      <th>2018</th>\n",
       "      <th>2021</th>\n",
       "      <th>2022</th>\n",
       "    </tr>\n",
       "    <tr>\n",
       "      <th>polviews</th>\n",
       "      <th></th>\n",
       "      <th></th>\n",
       "      <th></th>\n",
       "      <th></th>\n",
       "      <th></th>\n",
       "      <th></th>\n",
       "      <th></th>\n",
       "      <th></th>\n",
       "      <th></th>\n",
       "      <th></th>\n",
       "      <th></th>\n",
       "      <th></th>\n",
       "      <th></th>\n",
       "      <th></th>\n",
       "      <th></th>\n",
       "      <th></th>\n",
       "      <th></th>\n",
       "      <th></th>\n",
       "      <th></th>\n",
       "      <th></th>\n",
       "      <th></th>\n",
       "    </tr>\n",
       "  </thead>\n",
       "  <tbody>\n",
       "    <tr>\n",
       "      <th>1.0</th>\n",
       "      <td>22</td>\n",
       "      <td>46</td>\n",
       "      <td>31</td>\n",
       "      <td>37</td>\n",
       "      <td>22</td>\n",
       "      <td>36</td>\n",
       "      <td>48</td>\n",
       "      <td>16</td>\n",
       "      <td>29</td>\n",
       "      <td>35</td>\n",
       "      <td>...</td>\n",
       "      <td>46</td>\n",
       "      <td>139</td>\n",
       "      <td>69</td>\n",
       "      <td>76</td>\n",
       "      <td>81</td>\n",
       "      <td>94</td>\n",
       "      <td>136</td>\n",
       "      <td>122</td>\n",
       "      <td>207</td>\n",
       "      <td>192</td>\n",
       "    </tr>\n",
       "    <tr>\n",
       "      <th>2.0</th>\n",
       "      <td>201</td>\n",
       "      <td>179</td>\n",
       "      <td>187</td>\n",
       "      <td>169</td>\n",
       "      <td>142</td>\n",
       "      <td>121</td>\n",
       "      <td>199</td>\n",
       "      <td>67</td>\n",
       "      <td>133</td>\n",
       "      <td>163</td>\n",
       "      <td>...</td>\n",
       "      <td>120</td>\n",
       "      <td>524</td>\n",
       "      <td>240</td>\n",
       "      <td>259</td>\n",
       "      <td>244</td>\n",
       "      <td>304</td>\n",
       "      <td>350</td>\n",
       "      <td>278</td>\n",
       "      <td>623</td>\n",
       "      <td>486</td>\n",
       "    </tr>\n",
       "    <tr>\n",
       "      <th>3.0</th>\n",
       "      <td>207</td>\n",
       "      <td>196</td>\n",
       "      <td>186</td>\n",
       "      <td>214</td>\n",
       "      <td>241</td>\n",
       "      <td>208</td>\n",
       "      <td>267</td>\n",
       "      <td>98</td>\n",
       "      <td>177</td>\n",
       "      <td>171</td>\n",
       "      <td>...</td>\n",
       "      <td>153</td>\n",
       "      <td>517</td>\n",
       "      <td>221</td>\n",
       "      <td>232</td>\n",
       "      <td>208</td>\n",
       "      <td>263</td>\n",
       "      <td>310</td>\n",
       "      <td>256</td>\n",
       "      <td>490</td>\n",
       "      <td>400</td>\n",
       "    </tr>\n",
       "    <tr>\n",
       "      <th>4.0</th>\n",
       "      <td>564</td>\n",
       "      <td>559</td>\n",
       "      <td>559</td>\n",
       "      <td>564</td>\n",
       "      <td>549</td>\n",
       "      <td>582</td>\n",
       "      <td>694</td>\n",
       "      <td>319</td>\n",
       "      <td>568</td>\n",
       "      <td>566</td>\n",
       "      <td>...</td>\n",
       "      <td>497</td>\n",
       "      <td>1683</td>\n",
       "      <td>740</td>\n",
       "      <td>746</td>\n",
       "      <td>713</td>\n",
       "      <td>989</td>\n",
       "      <td>1032</td>\n",
       "      <td>855</td>\n",
       "      <td>1377</td>\n",
       "      <td>1245</td>\n",
       "    </tr>\n",
       "    <tr>\n",
       "      <th>5.0</th>\n",
       "      <td>221</td>\n",
       "      <td>232</td>\n",
       "      <td>221</td>\n",
       "      <td>251</td>\n",
       "      <td>263</td>\n",
       "      <td>258</td>\n",
       "      <td>235</td>\n",
       "      <td>142</td>\n",
       "      <td>276</td>\n",
       "      <td>271</td>\n",
       "      <td>...</td>\n",
       "      <td>214</td>\n",
       "      <td>618</td>\n",
       "      <td>268</td>\n",
       "      <td>265</td>\n",
       "      <td>268</td>\n",
       "      <td>334</td>\n",
       "      <td>382</td>\n",
       "      <td>283</td>\n",
       "      <td>476</td>\n",
       "      <td>430</td>\n",
       "    </tr>\n",
       "    <tr>\n",
       "      <th>6.0</th>\n",
       "      <td>160</td>\n",
       "      <td>150</td>\n",
       "      <td>190</td>\n",
       "      <td>179</td>\n",
       "      <td>188</td>\n",
       "      <td>180</td>\n",
       "      <td>229</td>\n",
       "      <td>108</td>\n",
       "      <td>186</td>\n",
       "      <td>214</td>\n",
       "      <td>...</td>\n",
       "      <td>223</td>\n",
       "      <td>685</td>\n",
       "      <td>327</td>\n",
       "      <td>315</td>\n",
       "      <td>292</td>\n",
       "      <td>358</td>\n",
       "      <td>426</td>\n",
       "      <td>354</td>\n",
       "      <td>617</td>\n",
       "      <td>514</td>\n",
       "    </tr>\n",
       "    <tr>\n",
       "      <th>7.0</th>\n",
       "      <td>35</td>\n",
       "      <td>35</td>\n",
       "      <td>27</td>\n",
       "      <td>39</td>\n",
       "      <td>30</td>\n",
       "      <td>44</td>\n",
       "      <td>67</td>\n",
       "      <td>20</td>\n",
       "      <td>41</td>\n",
       "      <td>42</td>\n",
       "      <td>...</td>\n",
       "      <td>56</td>\n",
       "      <td>167</td>\n",
       "      <td>68</td>\n",
       "      <td>80</td>\n",
       "      <td>68</td>\n",
       "      <td>107</td>\n",
       "      <td>120</td>\n",
       "      <td>99</td>\n",
       "      <td>174</td>\n",
       "      <td>159</td>\n",
       "    </tr>\n",
       "  </tbody>\n",
       "</table>\n",
       "<p>7 rows × 32 columns</p>\n",
       "</div>"
      ],
      "text/plain": [
       "year      1974  1975  1976  1977  1978  1980  1982  1983  1984  1985  ...  \\\n",
       "polviews                                                              ...   \n",
       "1.0         22    46    31    37    22    36    48    16    29    35  ...   \n",
       "2.0        201   179   187   169   142   121   199    67   133   163  ...   \n",
       "3.0        207   196   186   214   241   208   267    98   177   171  ...   \n",
       "4.0        564   559   559   564   549   582   694   319   568   566  ...   \n",
       "5.0        221   232   221   251   263   258   235   142   276   271  ...   \n",
       "6.0        160   150   190   179   188   180   229   108   186   214  ...   \n",
       "7.0         35    35    27    39    30    44    67    20    41    42  ...   \n",
       "\n",
       "year      2004  2006  2008  2010  2012  2014  2016  2018  2021  2022  \n",
       "polviews                                                              \n",
       "1.0         46   139    69    76    81    94   136   122   207   192  \n",
       "2.0        120   524   240   259   244   304   350   278   623   486  \n",
       "3.0        153   517   221   232   208   263   310   256   490   400  \n",
       "4.0        497  1683   740   746   713   989  1032   855  1377  1245  \n",
       "5.0        214   618   268   265   268   334   382   283   476   430  \n",
       "6.0        223   685   327   315   292   358   426   354   617   514  \n",
       "7.0         56   167    68    80    68   107   120    99   174   159  \n",
       "\n",
       "[7 rows x 32 columns]"
      ]
     },
     "execution_count": 8,
     "metadata": {},
     "output_type": "execute_result"
    }
   ],
   "source": [
    "year = gss[\"year\"]\n",
    "column = gss[\"polviews\"]\n",
    "xtab = pd.crosstab(column, year)\n",
    "xtab"
   ]
  },
  {
   "cell_type": "markdown",
   "id": "172b8689",
   "metadata": {},
   "source": [
    "I'll lump the first three points into \"Liberal\" and the last three into \"Conservative\"."
   ]
  },
  {
   "cell_type": "code",
   "execution_count": 9,
   "id": "81d417fa",
   "metadata": {},
   "outputs": [],
   "source": [
    "recode_polviews = {\n",
    "    1: \"Liberal\",\n",
    "    2: \"Liberal\",\n",
    "    3: \"Liberal\",\n",
    "    4: \"Moderate\",\n",
    "    5: \"Conservative\",\n",
    "    6: \"Conservative\",\n",
    "    7: \"Conservative\",\n",
    "}"
   ]
  },
  {
   "cell_type": "code",
   "execution_count": 10,
   "id": "5103e99e",
   "metadata": {},
   "outputs": [
    {
     "data": {
      "text/plain": [
       "polviews3\n",
       "Moderate        23992\n",
       "Conservative    21122\n",
       "Liberal         17604\n",
       "Name: count, dtype: int64"
      ]
     },
     "execution_count": 10,
     "metadata": {},
     "output_type": "execute_result"
    }
   ],
   "source": [
    "gss[\"polviews3\"] = gss[\"polviews\"].replace(recode_polviews)\n",
    "gss[\"polviews3\"].value_counts()"
   ]
  },
  {
   "cell_type": "markdown",
   "id": "608b9785",
   "metadata": {},
   "source": [
    "The following functions generate a figure like the one in the FT."
   ]
  },
  {
   "cell_type": "code",
   "execution_count": 11,
   "id": "27ce6eb3",
   "metadata": {},
   "outputs": [],
   "source": [
    "def make_diff(df):\n",
    "    \"\"\"Compute % liberal minus % conservative.\n",
    "    \"\"\"\n",
    "    year = df[\"year\"]\n",
    "    column = df[\"polviews3\"]\n",
    "\n",
    "    xtab = pd.crosstab(year, column, normalize='index')\n",
    "    diff = xtab['Liberal'] - xtab['Conservative']\n",
    "    \n",
    "    return diff * 100"
   ]
  },
  {
   "cell_type": "code",
   "execution_count": 12,
   "id": "a87c17e7",
   "metadata": {},
   "outputs": [],
   "source": [
    "def make_plot(df, title=''):\n",
    "    \"\"\"Plot % liberal - % conservative for male and female respondents.\n",
    "    \"\"\"\n",
    "    male = df.query('sex==1')\n",
    "    female = df.query('sex==2')\n",
    "\n",
    "    diff_male = make_diff(male)\n",
    "    diff_female = make_diff(female)\n",
    "\n",
    "    plot_series_lowess(diff_male, color='C0', label='Male')\n",
    "    plot_series_lowess(diff_female, color='C1', label='Female')\n",
    "    \n",
    "    plt.xlabel('Year')\n",
    "    plt.ylabel('% liberal - % conservative')\n",
    "    plt.title(title)"
   ]
  },
  {
   "cell_type": "markdown",
   "id": "f99807b4",
   "metadata": {},
   "source": [
    "Generate the plot for all respondents."
   ]
  },
  {
   "cell_type": "code",
   "execution_count": 13,
   "id": "0595e34e",
   "metadata": {},
   "outputs": [
    {
     "data": {
      "image/png": "[encoded data removed]",
      "text/plain": [
       "<Figure size 640x480 with 1 Axes>"
      ]
     },
     "metadata": {},
     "output_type": "display_data"
    }
   ],
   "source": [
    "make_plot(gss, 'All respondents')"
   ]
  },
  {
   "cell_type": "markdown",
   "id": "51e3514d",
   "metadata": {},
   "source": [
    "In the general population, men are more likely to say they are conservative, by 5-10 percentage points. \n",
    "\n",
    "The gap might have increased in the most recent data, depending on how seriously we take the last two points in a noisy series."
   ]
  },
  {
   "cell_type": "markdown",
   "id": "f0d23515",
   "metadata": {},
   "source": [
    "## Just young people\n",
    "\n",
    "Now let's select just people under 30."
   ]
  },
  {
   "cell_type": "code",
   "execution_count": 14,
   "id": "882ca55e",
   "metadata": {},
   "outputs": [
    {
     "data": {
      "text/plain": [
       "(14360, 205)"
      ]
     },
     "execution_count": 14,
     "metadata": {},
     "output_type": "execute_result"
    }
   ],
   "source": [
    "subset = gss.query('age < 30')\n",
    "subset.shape"
   ]
  },
  {
   "cell_type": "markdown",
   "id": "b0239644",
   "metadata": {},
   "source": [
    "And make the same figure."
   ]
  },
  {
   "cell_type": "code",
   "execution_count": 15,
   "id": "ab9c650f",
   "metadata": {},
   "outputs": [
    {
     "data": {
      "image/png": "[encoded data removed]",
      "text/plain": [
       "<Figure size 640x480 with 1 Axes>"
      ]
     },
     "metadata": {},
     "output_type": "display_data"
    }
   ],
   "source": [
    "make_plot(subset)"
   ]
  },
  {
   "cell_type": "markdown",
   "id": "642990a5",
   "metadata": {},
   "source": [
    "The trends here are pretty much the same as in the general population.\n",
    "Men are more likely to say they are conservative, by 5-10 percentage points.\n",
    "\n",
    "It's possible that the gap has grown in the most recent data, but the evidence is weak and depends on how we draw a smooth curve through noisy data.\n",
    "\n",
    "Anyway, there is no evidence the trend for men is going down, and the gap in the most recent data is nowhere near 30 percentage points."
   ]
  },
  {
   "cell_type": "code",
   "execution_count": null,
   "id": "244df1ad",
   "metadata": {},
   "outputs": [],
   "source": []
  }
 ],
 "metadata": {
  "celltoolbar": "Tags",
  "kernelspec": {
   "display_name": "Python 3 (ipykernel)",
   "language": "python",
   "name": "python3"
  },
  "language_info": {
   "codemirror_mode": {
    "name": "ipython",
    "version": 3
   },
   "file_extension": ".py",
   "mimetype": "text/x-python",
   "name": "python",
   "nbconvert_exporter": "python",
   "pygments_lexer": "ipython3",
   "version": "3.10.12"
  }
 },
 "nbformat": 4,
 "nbformat_minor": 5
}
