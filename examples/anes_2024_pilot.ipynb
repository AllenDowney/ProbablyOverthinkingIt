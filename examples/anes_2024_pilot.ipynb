{
 "cells": [
  {
   "cell_type": "markdown",
   "id": "e07d2d6f",
   "metadata": {},
   "source": [
    "# ANES\n",
    "\n",
    "Intro...\n",
    "\n",
    "[Ryan Burge has done a similar analysis]() with data from the [Cooperative Election Study](https://cces.gov.harvard.edu/) (CSE)..."
   ]
  },
  {
   "cell_type": "code",
   "execution_count": 110,
   "id": "df548b1c",
   "metadata": {},
   "outputs": [
    {
     "name": "stdout",
     "output_type": "stream",
     "text": [
      "The nb_black extension is already loaded. To reload it, use:\n",
      "  %reload_ext nb_black\n",
      "The autoreload extension is already loaded. To reload it, use:\n",
      "  %reload_ext autoreload\n"
     ]
    },
    {
     "data": {
      "application/javascript": [
       "\n",
       "            setTimeout(function() {\n",
       "                var nbb_cell_id = 110;\n",
       "                var nbb_unformatted_code = \"%load_ext nb_black\\n%load_ext autoreload\\n%autoreload 2\";\n",
       "                var nbb_formatted_code = \"%load_ext nb_black\\n%load_ext autoreload\\n%autoreload 2\";\n",
       "                var nbb_cells = Jupyter.notebook.get_cells();\n",
       "                for (var i = 0; i < nbb_cells.length; ++i) {\n",
       "                    if (nbb_cells[i].input_prompt_number == nbb_cell_id) {\n",
       "                        if (nbb_cells[i].get_text() == nbb_unformatted_code) {\n",
       "                             nbb_cells[i].set_text(nbb_formatted_code);\n",
       "                        }\n",
       "                        break;\n",
       "                    }\n",
       "                }\n",
       "            }, 500);\n",
       "            "
      ],
      "text/plain": [
       "<IPython.core.display.Javascript object>"
      ]
     },
     "metadata": {},
     "output_type": "display_data"
    }
   ],
   "source": [
    "%load_ext nb_black\n",
    "%load_ext autoreload\n",
    "%autoreload 2"
   ]
  },
  {
   "cell_type": "markdown",
   "id": "cb9c5ba2",
   "metadata": {},
   "source": [
    "[Click here to run this notebook on Colab](https://colab.research.google.com/github/AllenDowney/ProbablyOverthinkingIt/blob/book/examples/anes_2024_pilot.ipynb) -- but you will have to download the data yourself, because I am not allowed to redistribute it."
   ]
  },
  {
   "cell_type": "code",
   "execution_count": 111,
   "id": "581d0503",
   "metadata": {},
   "outputs": [
    {
     "data": {
      "application/javascript": [
       "\n",
       "            setTimeout(function() {\n",
       "                var nbb_cell_id = 111;\n",
       "                var nbb_unformatted_code = \"import pandas as pd\\nimport numpy as np\\nimport seaborn as sns\\nimport matplotlib.pyplot as plt\";\n",
       "                var nbb_formatted_code = \"import pandas as pd\\nimport numpy as np\\nimport seaborn as sns\\nimport matplotlib.pyplot as plt\";\n",
       "                var nbb_cells = Jupyter.notebook.get_cells();\n",
       "                for (var i = 0; i < nbb_cells.length; ++i) {\n",
       "                    if (nbb_cells[i].input_prompt_number == nbb_cell_id) {\n",
       "                        if (nbb_cells[i].get_text() == nbb_unformatted_code) {\n",
       "                             nbb_cells[i].set_text(nbb_formatted_code);\n",
       "                        }\n",
       "                        break;\n",
       "                    }\n",
       "                }\n",
       "            }, 500);\n",
       "            "
      ],
      "text/plain": [
       "<IPython.core.display.Javascript object>"
      ]
     },
     "metadata": {},
     "output_type": "display_data"
    }
   ],
   "source": [
    "import pandas as pd\n",
    "import numpy as np\n",
    "import seaborn as sns\n",
    "import matplotlib.pyplot as plt"
   ]
  },
  {
   "cell_type": "code",
   "execution_count": 112,
   "id": "fc66b974",
   "metadata": {},
   "outputs": [
    {
     "data": {
      "application/javascript": [
       "\n",
       "            setTimeout(function() {\n",
       "                var nbb_cell_id = 112;\n",
       "                var nbb_unformatted_code = \"plt.rcParams[\\\"figure.dpi\\\"] = 75\\nplt.rcParams[\\\"figure.figsize\\\"] = [6, 3.5]\";\n",
       "                var nbb_formatted_code = \"plt.rcParams[\\\"figure.dpi\\\"] = 75\\nplt.rcParams[\\\"figure.figsize\\\"] = [6, 3.5]\";\n",
       "                var nbb_cells = Jupyter.notebook.get_cells();\n",
       "                for (var i = 0; i < nbb_cells.length; ++i) {\n",
       "                    if (nbb_cells[i].input_prompt_number == nbb_cell_id) {\n",
       "                        if (nbb_cells[i].get_text() == nbb_unformatted_code) {\n",
       "                             nbb_cells[i].set_text(nbb_formatted_code);\n",
       "                        }\n",
       "                        break;\n",
       "                    }\n",
       "                }\n",
       "            }, 500);\n",
       "            "
      ],
      "text/plain": [
       "<IPython.core.display.Javascript object>"
      ]
     },
     "metadata": {},
     "output_type": "display_data"
    }
   ],
   "source": [
    "plt.rcParams[\"figure.dpi\"] = 75\n",
    "plt.rcParams[\"figure.figsize\"] = [6, 3.5]"
   ]
  },
  {
   "cell_type": "code",
   "execution_count": 113,
   "id": "4325a9c1",
   "metadata": {},
   "outputs": [
    {
     "data": {
      "application/javascript": [
       "\n",
       "            setTimeout(function() {\n",
       "                var nbb_cell_id = 113;\n",
       "                var nbb_unformatted_code = \"from statsmodels.nonparametric.smoothers_lowess import lowess\\n\\n\\ndef make_lowess(series, frac=0.5):\\n    \\\"\\\"\\\"Use LOWESS to compute a smooth line.\\n\\n    series: pd.Series\\n\\n    returns: pd.Series\\n    \\\"\\\"\\\"\\n    y = series.values\\n    x = series.index.values\\n\\n    smooth = lowess(y, x, frac=frac)\\n    index, data = np.transpose(smooth)\\n\\n    return pd.Series(data, index=index)\";\n",
       "                var nbb_formatted_code = \"from statsmodels.nonparametric.smoothers_lowess import lowess\\n\\n\\ndef make_lowess(series, frac=0.5):\\n    \\\"\\\"\\\"Use LOWESS to compute a smooth line.\\n\\n    series: pd.Series\\n\\n    returns: pd.Series\\n    \\\"\\\"\\\"\\n    y = series.values\\n    x = series.index.values\\n\\n    smooth = lowess(y, x, frac=frac)\\n    index, data = np.transpose(smooth)\\n\\n    return pd.Series(data, index=index)\";\n",
       "                var nbb_cells = Jupyter.notebook.get_cells();\n",
       "                for (var i = 0; i < nbb_cells.length; ++i) {\n",
       "                    if (nbb_cells[i].input_prompt_number == nbb_cell_id) {\n",
       "                        if (nbb_cells[i].get_text() == nbb_unformatted_code) {\n",
       "                             nbb_cells[i].set_text(nbb_formatted_code);\n",
       "                        }\n",
       "                        break;\n",
       "                    }\n",
       "                }\n",
       "            }, 500);\n",
       "            "
      ],
      "text/plain": [
       "<IPython.core.display.Javascript object>"
      ]
     },
     "metadata": {},
     "output_type": "display_data"
    }
   ],
   "source": [
    "from statsmodels.nonparametric.smoothers_lowess import lowess\n",
    "\n",
    "\n",
    "def make_lowess(series, frac=0.5):\n",
    "    \"\"\"Use LOWESS to compute a smooth line.\n",
    "\n",
    "    series: pd.Series\n",
    "\n",
    "    returns: pd.Series\n",
    "    \"\"\"\n",
    "    y = series.values\n",
    "    x = series.index.values\n",
    "\n",
    "    smooth = lowess(y, x, frac=frac)\n",
    "    index, data = np.transpose(smooth)\n",
    "\n",
    "    return pd.Series(data, index=index)"
   ]
  },
  {
   "cell_type": "code",
   "execution_count": 114,
   "id": "bc25cfab",
   "metadata": {
    "tags": [
     "hide-cell"
    ]
   },
   "outputs": [
    {
     "data": {
      "application/javascript": [
       "\n",
       "            setTimeout(function() {\n",
       "                var nbb_cell_id = 114;\n",
       "                var nbb_unformatted_code = \"def plot_series_lowess(series, color, plot_series=True, frac=0.5, **options):\\n    \\\"\\\"\\\"Plots a series of data points and a smooth line.\\n\\n    series: pd.Series\\n    color: string or tuple\\n    \\\"\\\"\\\"\\n    if \\\"label\\\" not in options:\\n        options[\\\"label\\\"] = series.name\\n\\n    if plot_series or len(series) == 1:\\n        x = series.index\\n        y = series.values\\n        plt.plot(x, y, \\\"o\\\", color=color, alpha=0.3, label=\\\"_\\\")\\n\\n    if not plot_series and len(series) == 1:\\n        x = series.index\\n        y = series.values\\n        plt.plot(x, y, \\\"o\\\", color=color, alpha=0.6, label=options[\\\"label\\\"])\\n\\n    if len(series) > 1:\\n        smooth = make_lowess(series, frac=frac)\\n        smooth.plot(color=color, **options)\";\n",
       "                var nbb_formatted_code = \"def plot_series_lowess(series, color, plot_series=True, frac=0.5, **options):\\n    \\\"\\\"\\\"Plots a series of data points and a smooth line.\\n\\n    series: pd.Series\\n    color: string or tuple\\n    \\\"\\\"\\\"\\n    if \\\"label\\\" not in options:\\n        options[\\\"label\\\"] = series.name\\n\\n    if plot_series or len(series) == 1:\\n        x = series.index\\n        y = series.values\\n        plt.plot(x, y, \\\"o\\\", color=color, alpha=0.3, label=\\\"_\\\")\\n\\n    if not plot_series and len(series) == 1:\\n        x = series.index\\n        y = series.values\\n        plt.plot(x, y, \\\"o\\\", color=color, alpha=0.6, label=options[\\\"label\\\"])\\n\\n    if len(series) > 1:\\n        smooth = make_lowess(series, frac=frac)\\n        smooth.plot(color=color, **options)\";\n",
       "                var nbb_cells = Jupyter.notebook.get_cells();\n",
       "                for (var i = 0; i < nbb_cells.length; ++i) {\n",
       "                    if (nbb_cells[i].input_prompt_number == nbb_cell_id) {\n",
       "                        if (nbb_cells[i].get_text() == nbb_unformatted_code) {\n",
       "                             nbb_cells[i].set_text(nbb_formatted_code);\n",
       "                        }\n",
       "                        break;\n",
       "                    }\n",
       "                }\n",
       "            }, 500);\n",
       "            "
      ],
      "text/plain": [
       "<IPython.core.display.Javascript object>"
      ]
     },
     "metadata": {},
     "output_type": "display_data"
    }
   ],
   "source": [
    "def plot_series_lowess(series, color, plot_series=True, frac=0.5, **options):\n",
    "    \"\"\"Plots a series of data points and a smooth line.\n",
    "\n",
    "    series: pd.Series\n",
    "    color: string or tuple\n",
    "    \"\"\"\n",
    "    if \"label\" not in options:\n",
    "        options[\"label\"] = series.name\n",
    "\n",
    "    if plot_series or len(series) == 1:\n",
    "        x = series.index\n",
    "        y = series.values\n",
    "        plt.plot(x, y, \"o\", color=color, alpha=0.3, label=\"_\")\n",
    "\n",
    "    if not plot_series and len(series) == 1:\n",
    "        x = series.index\n",
    "        y = series.values\n",
    "        plt.plot(x, y, \"o\", color=color, alpha=0.6, label=options[\"label\"])\n",
    "\n",
    "    if len(series) > 1:\n",
    "        smooth = make_lowess(series, frac=frac)\n",
    "        smooth.plot(color=color, **options)"
   ]
  },
  {
   "cell_type": "code",
   "execution_count": 115,
   "id": "229694c8",
   "metadata": {
    "tags": [
     "hide-cell"
    ]
   },
   "outputs": [
    {
     "data": {
      "application/javascript": [
       "\n",
       "            setTimeout(function() {\n",
       "                var nbb_cell_id = 115;\n",
       "                var nbb_unformatted_code = \"def decorate(**options):\\n    \\\"\\\"\\\"Decorate the current axes.\\n\\n    Call decorate with keyword arguments like\\n    decorate(title='Title',\\n             xlabel='x',\\n             ylabel='y')\\n\\n    The keyword arguments can be any of the axis properties\\n    https://matplotlib.org/api/axes_api.html\\n    \\\"\\\"\\\"\\n    ax = plt.gca()\\n    ax.set(**options)\\n\\n    handles, labels = ax.get_legend_handles_labels()\\n    if handles:\\n        ax.legend(handles, labels)\\n\\n    plt.tight_layout()\";\n",
       "                var nbb_formatted_code = \"def decorate(**options):\\n    \\\"\\\"\\\"Decorate the current axes.\\n\\n    Call decorate with keyword arguments like\\n    decorate(title='Title',\\n             xlabel='x',\\n             ylabel='y')\\n\\n    The keyword arguments can be any of the axis properties\\n    https://matplotlib.org/api/axes_api.html\\n    \\\"\\\"\\\"\\n    ax = plt.gca()\\n    ax.set(**options)\\n\\n    handles, labels = ax.get_legend_handles_labels()\\n    if handles:\\n        ax.legend(handles, labels)\\n\\n    plt.tight_layout()\";\n",
       "                var nbb_cells = Jupyter.notebook.get_cells();\n",
       "                for (var i = 0; i < nbb_cells.length; ++i) {\n",
       "                    if (nbb_cells[i].input_prompt_number == nbb_cell_id) {\n",
       "                        if (nbb_cells[i].get_text() == nbb_unformatted_code) {\n",
       "                             nbb_cells[i].set_text(nbb_formatted_code);\n",
       "                        }\n",
       "                        break;\n",
       "                    }\n",
       "                }\n",
       "            }, 500);\n",
       "            "
      ],
      "text/plain": [
       "<IPython.core.display.Javascript object>"
      ]
     },
     "metadata": {},
     "output_type": "display_data"
    }
   ],
   "source": [
    "def decorate(**options):\n",
    "    \"\"\"Decorate the current axes.\n",
    "\n",
    "    Call decorate with keyword arguments like\n",
    "    decorate(title='Title',\n",
    "             xlabel='x',\n",
    "             ylabel='y')\n",
    "\n",
    "    The keyword arguments can be any of the axis properties\n",
    "    https://matplotlib.org/api/axes_api.html\n",
    "    \"\"\"\n",
    "    ax = plt.gca()\n",
    "    ax.set(**options)\n",
    "\n",
    "    handles, labels = ax.get_legend_handles_labels()\n",
    "    if handles:\n",
    "        ax.legend(handles, labels)\n",
    "\n",
    "    plt.tight_layout()"
   ]
  },
  {
   "cell_type": "code",
   "execution_count": 116,
   "id": "933eb8c2",
   "metadata": {},
   "outputs": [
    {
     "data": {
      "application/javascript": [
       "\n",
       "            setTimeout(function() {\n",
       "                var nbb_cell_id = 116;\n",
       "                var nbb_unformatted_code = \"def values(series):\\n    return series.value_counts(dropna=False).sort_index()\";\n",
       "                var nbb_formatted_code = \"def values(series):\\n    return series.value_counts(dropna=False).sort_index()\";\n",
       "                var nbb_cells = Jupyter.notebook.get_cells();\n",
       "                for (var i = 0; i < nbb_cells.length; ++i) {\n",
       "                    if (nbb_cells[i].input_prompt_number == nbb_cell_id) {\n",
       "                        if (nbb_cells[i].get_text() == nbb_unformatted_code) {\n",
       "                             nbb_cells[i].set_text(nbb_formatted_code);\n",
       "                        }\n",
       "                        break;\n",
       "                    }\n",
       "                }\n",
       "            }, 500);\n",
       "            "
      ],
      "text/plain": [
       "<IPython.core.display.Javascript object>"
      ]
     },
     "metadata": {},
     "output_type": "display_data"
    }
   ],
   "source": [
    "def values(series):\n",
    "    return series.value_counts(dropna=False).sort_index()"
   ]
  },
  {
   "cell_type": "code",
   "execution_count": 117,
   "id": "2c2931f9",
   "metadata": {},
   "outputs": [
    {
     "data": {
      "application/javascript": [
       "\n",
       "            setTimeout(function() {\n",
       "                var nbb_cell_id = 117;\n",
       "                var nbb_unformatted_code = \"def savefig(filename, **options):\\n    if \\\"dpi\\\" not in options:\\n        options[\\\"dpi\\\"] = 300\\n    plt.savefig(filename, **options)\";\n",
       "                var nbb_formatted_code = \"def savefig(filename, **options):\\n    if \\\"dpi\\\" not in options:\\n        options[\\\"dpi\\\"] = 300\\n    plt.savefig(filename, **options)\";\n",
       "                var nbb_cells = Jupyter.notebook.get_cells();\n",
       "                for (var i = 0; i < nbb_cells.length; ++i) {\n",
       "                    if (nbb_cells[i].input_prompt_number == nbb_cell_id) {\n",
       "                        if (nbb_cells[i].get_text() == nbb_unformatted_code) {\n",
       "                             nbb_cells[i].set_text(nbb_formatted_code);\n",
       "                        }\n",
       "                        break;\n",
       "                    }\n",
       "                }\n",
       "            }, 500);\n",
       "            "
      ],
      "text/plain": [
       "<IPython.core.display.Javascript object>"
      ]
     },
     "metadata": {},
     "output_type": "display_data"
    }
   ],
   "source": [
    "def savefig(filename, **options):\n",
    "    if \"dpi\" not in options:\n",
    "        options[\"dpi\"] = 300\n",
    "    plt.savefig(filename, **options)"
   ]
  },
  {
   "cell_type": "code",
   "execution_count": 118,
   "id": "7ddff6d6-91a4-49b5-a79c-a2f41e0da6c6",
   "metadata": {},
   "outputs": [
    {
     "data": {
      "application/javascript": [
       "\n",
       "            setTimeout(function() {\n",
       "                var nbb_cell_id = 118;\n",
       "                var nbb_unformatted_code = \"from utils import underride\\n\\n\\ndef value_counts(series, **options):\\n    \\\"\\\"\\\"Make a series of values and the number of times they appear.\\n\\n    Returns a DataFrame because they get rendered better in Jupyter.\\n\\n    series: Pandas Series\\n\\n    returns: Pandas DataFrame\\n    \\\"\\\"\\\"\\n    options = underride(options, dropna=False)\\n    series = series.value_counts(**options).sort_index()\\n    series.index.name = \\\"values\\\"\\n    series.name = \\\"counts\\\"\\n    return pd.DataFrame(series)\";\n",
       "                var nbb_formatted_code = \"from utils import underride\\n\\n\\ndef value_counts(series, **options):\\n    \\\"\\\"\\\"Make a series of values and the number of times they appear.\\n\\n    Returns a DataFrame because they get rendered better in Jupyter.\\n\\n    series: Pandas Series\\n\\n    returns: Pandas DataFrame\\n    \\\"\\\"\\\"\\n    options = underride(options, dropna=False)\\n    series = series.value_counts(**options).sort_index()\\n    series.index.name = \\\"values\\\"\\n    series.name = \\\"counts\\\"\\n    return pd.DataFrame(series)\";\n",
       "                var nbb_cells = Jupyter.notebook.get_cells();\n",
       "                for (var i = 0; i < nbb_cells.length; ++i) {\n",
       "                    if (nbb_cells[i].input_prompt_number == nbb_cell_id) {\n",
       "                        if (nbb_cells[i].get_text() == nbb_unformatted_code) {\n",
       "                             nbb_cells[i].set_text(nbb_formatted_code);\n",
       "                        }\n",
       "                        break;\n",
       "                    }\n",
       "                }\n",
       "            }, 500);\n",
       "            "
      ],
      "text/plain": [
       "<IPython.core.display.Javascript object>"
      ]
     },
     "metadata": {},
     "output_type": "display_data"
    }
   ],
   "source": [
    "from utils import underride\n",
    "\n",
    "\n",
    "def value_counts(series, **options):\n",
    "    \"\"\"Make a series of values and the number of times they appear.\n",
    "\n",
    "    Returns a DataFrame because they get rendered better in Jupyter.\n",
    "\n",
    "    series: Pandas Series\n",
    "\n",
    "    returns: Pandas DataFrame\n",
    "    \"\"\"\n",
    "    options = underride(options, dropna=False)\n",
    "    series = series.value_counts(**options).sort_index()\n",
    "    series.index.name = \"values\"\n",
    "    series.name = \"counts\"\n",
    "    return pd.DataFrame(series)"
   ]
  },
  {
   "cell_type": "markdown",
   "id": "2e495adf",
   "metadata": {},
   "source": [
    "## Read the Data\n",
    "\n",
    "[You can get the data here](https://electionstudies.org/data-center/2024-pilot-study/) -- but you'll need to create an account."
   ]
  },
  {
   "cell_type": "code",
   "execution_count": 119,
   "id": "92e9a347",
   "metadata": {},
   "outputs": [
    {
     "data": {
      "text/plain": [
       "(1909, 941)"
      ]
     },
     "execution_count": 119,
     "metadata": {},
     "output_type": "execute_result"
    },
    {
     "data": {
      "application/javascript": [
       "\n",
       "            setTimeout(function() {\n",
       "                var nbb_cell_id = 119;\n",
       "                var nbb_unformatted_code = \"filename = \\\"anes_pilot_2024_20240319.dta\\\"\\ndf = pd.read_stata(filename, convert_categoricals=False)\\ndf.shape\";\n",
       "                var nbb_formatted_code = \"filename = \\\"anes_pilot_2024_20240319.dta\\\"\\ndf = pd.read_stata(filename, convert_categoricals=False)\\ndf.shape\";\n",
       "                var nbb_cells = Jupyter.notebook.get_cells();\n",
       "                for (var i = 0; i < nbb_cells.length; ++i) {\n",
       "                    if (nbb_cells[i].input_prompt_number == nbb_cell_id) {\n",
       "                        if (nbb_cells[i].get_text() == nbb_unformatted_code) {\n",
       "                             nbb_cells[i].set_text(nbb_formatted_code);\n",
       "                        }\n",
       "                        break;\n",
       "                    }\n",
       "                }\n",
       "            }, 500);\n",
       "            "
      ],
      "text/plain": [
       "<IPython.core.display.Javascript object>"
      ]
     },
     "metadata": {},
     "output_type": "display_data"
    }
   ],
   "source": [
    "filename = \"anes_pilot_2024_20240319.dta\"\n",
    "df = pd.read_stata(filename, convert_categoricals=False)\n",
    "df.shape"
   ]
  },
  {
   "cell_type": "code",
   "execution_count": 120,
   "id": "359867e1-a514-4c7e-91d6-1495e9770a7f",
   "metadata": {},
   "outputs": [
    {
     "data": {
      "text/html": [
       "<div>\n",
       "<style scoped>\n",
       "    .dataframe tbody tr th:only-of-type {\n",
       "        vertical-align: middle;\n",
       "    }\n",
       "\n",
       "    .dataframe tbody tr th {\n",
       "        vertical-align: top;\n",
       "    }\n",
       "\n",
       "    .dataframe thead th {\n",
       "        text-align: right;\n",
       "    }\n",
       "</style>\n",
       "<table border=\"1\" class=\"dataframe\">\n",
       "  <thead>\n",
       "    <tr style=\"text-align: right;\">\n",
       "      <th></th>\n",
       "      <th>counts</th>\n",
       "    </tr>\n",
       "    <tr>\n",
       "      <th>values</th>\n",
       "      <th></th>\n",
       "    </tr>\n",
       "  </thead>\n",
       "  <tbody>\n",
       "    <tr>\n",
       "      <th>1.0</th>\n",
       "      <td>877</td>\n",
       "    </tr>\n",
       "    <tr>\n",
       "      <th>2.0</th>\n",
       "      <td>1032</td>\n",
       "    </tr>\n",
       "  </tbody>\n",
       "</table>\n",
       "</div>"
      ],
      "text/plain": [
       "        counts\n",
       "values        \n",
       "1.0        877\n",
       "2.0       1032"
      ]
     },
     "execution_count": 120,
     "metadata": {},
     "output_type": "execute_result"
    },
    {
     "data": {
      "application/javascript": [
       "\n",
       "            setTimeout(function() {\n",
       "                var nbb_cell_id = 120;\n",
       "                var nbb_unformatted_code = \"value_counts(df[\\\"gender\\\"])\";\n",
       "                var nbb_formatted_code = \"value_counts(df[\\\"gender\\\"])\";\n",
       "                var nbb_cells = Jupyter.notebook.get_cells();\n",
       "                for (var i = 0; i < nbb_cells.length; ++i) {\n",
       "                    if (nbb_cells[i].input_prompt_number == nbb_cell_id) {\n",
       "                        if (nbb_cells[i].get_text() == nbb_unformatted_code) {\n",
       "                             nbb_cells[i].set_text(nbb_formatted_code);\n",
       "                        }\n",
       "                        break;\n",
       "                    }\n",
       "                }\n",
       "            }, 500);\n",
       "            "
      ],
      "text/plain": [
       "<IPython.core.display.Javascript object>"
      ]
     },
     "metadata": {},
     "output_type": "display_data"
    }
   ],
   "source": [
    "value_counts(df[\"gender\"])"
   ]
  },
  {
   "cell_type": "code",
   "execution_count": 121,
   "id": "7a7c23fb-7e22-472b-93ab-010218a16a11",
   "metadata": {},
   "outputs": [
    {
     "data": {
      "text/html": [
       "<div>\n",
       "<style scoped>\n",
       "    .dataframe tbody tr th:only-of-type {\n",
       "        vertical-align: middle;\n",
       "    }\n",
       "\n",
       "    .dataframe tbody tr th {\n",
       "        vertical-align: top;\n",
       "    }\n",
       "\n",
       "    .dataframe thead th {\n",
       "        text-align: right;\n",
       "    }\n",
       "</style>\n",
       "<table border=\"1\" class=\"dataframe\">\n",
       "  <thead>\n",
       "    <tr style=\"text-align: right;\">\n",
       "      <th></th>\n",
       "      <th>counts</th>\n",
       "    </tr>\n",
       "    <tr>\n",
       "      <th>values</th>\n",
       "      <th></th>\n",
       "    </tr>\n",
       "  </thead>\n",
       "  <tbody>\n",
       "    <tr>\n",
       "      <th>18.0</th>\n",
       "      <td>11</td>\n",
       "    </tr>\n",
       "    <tr>\n",
       "      <th>19.0</th>\n",
       "      <td>14</td>\n",
       "    </tr>\n",
       "    <tr>\n",
       "      <th>20.0</th>\n",
       "      <td>46</td>\n",
       "    </tr>\n",
       "    <tr>\n",
       "      <th>21.0</th>\n",
       "      <td>27</td>\n",
       "    </tr>\n",
       "    <tr>\n",
       "      <th>22.0</th>\n",
       "      <td>36</td>\n",
       "    </tr>\n",
       "    <tr>\n",
       "      <th>...</th>\n",
       "      <td>...</td>\n",
       "    </tr>\n",
       "    <tr>\n",
       "      <th>86.0</th>\n",
       "      <td>1</td>\n",
       "    </tr>\n",
       "    <tr>\n",
       "      <th>88.0</th>\n",
       "      <td>3</td>\n",
       "    </tr>\n",
       "    <tr>\n",
       "      <th>90.0</th>\n",
       "      <td>1</td>\n",
       "    </tr>\n",
       "    <tr>\n",
       "      <th>94.0</th>\n",
       "      <td>1</td>\n",
       "    </tr>\n",
       "    <tr>\n",
       "      <th>NaN</th>\n",
       "      <td>31</td>\n",
       "    </tr>\n",
       "  </tbody>\n",
       "</table>\n",
       "<p>73 rows × 1 columns</p>\n",
       "</div>"
      ],
      "text/plain": [
       "        counts\n",
       "values        \n",
       "18.0        11\n",
       "19.0        14\n",
       "20.0        46\n",
       "21.0        27\n",
       "22.0        36\n",
       "...        ...\n",
       "86.0         1\n",
       "88.0         3\n",
       "90.0         1\n",
       "94.0         1\n",
       "NaN         31\n",
       "\n",
       "[73 rows x 1 columns]"
      ]
     },
     "execution_count": 121,
     "metadata": {},
     "output_type": "execute_result"
    },
    {
     "data": {
      "application/javascript": [
       "\n",
       "            setTimeout(function() {\n",
       "                var nbb_cell_id = 121;\n",
       "                var nbb_unformatted_code = \"df[\\\"age\\\"] = df[\\\"age\\\"].replace(-9, np.nan)\\nvalue_counts(df[\\\"age\\\"])\";\n",
       "                var nbb_formatted_code = \"df[\\\"age\\\"] = df[\\\"age\\\"].replace(-9, np.nan)\\nvalue_counts(df[\\\"age\\\"])\";\n",
       "                var nbb_cells = Jupyter.notebook.get_cells();\n",
       "                for (var i = 0; i < nbb_cells.length; ++i) {\n",
       "                    if (nbb_cells[i].input_prompt_number == nbb_cell_id) {\n",
       "                        if (nbb_cells[i].get_text() == nbb_unformatted_code) {\n",
       "                             nbb_cells[i].set_text(nbb_formatted_code);\n",
       "                        }\n",
       "                        break;\n",
       "                    }\n",
       "                }\n",
       "            }, 500);\n",
       "            "
      ],
      "text/plain": [
       "<IPython.core.display.Javascript object>"
      ]
     },
     "metadata": {},
     "output_type": "display_data"
    }
   ],
   "source": [
    "df[\"age\"] = df[\"age\"].replace(-9, np.nan)\n",
    "value_counts(df[\"age\"])"
   ]
  },
  {
   "cell_type": "code",
   "execution_count": 122,
   "id": "211fbe5a-185d-4839-93e5-1f76bfd80f78",
   "metadata": {},
   "outputs": [
    {
     "data": {
      "text/plain": [
       "count    1500.000000\n",
       "mean        1.000000\n",
       "std         0.468987\n",
       "min         0.314350\n",
       "25%         0.718226\n",
       "50%         0.894765\n",
       "75%         1.130104\n",
       "max         7.000960\n",
       "Name: weight, dtype: float64"
      ]
     },
     "execution_count": 122,
     "metadata": {},
     "output_type": "execute_result"
    },
    {
     "data": {
      "application/javascript": [
       "\n",
       "            setTimeout(function() {\n",
       "                var nbb_cell_id = 122;\n",
       "                var nbb_unformatted_code = \"df[\\\"weight\\\"].describe()\";\n",
       "                var nbb_formatted_code = \"df[\\\"weight\\\"].describe()\";\n",
       "                var nbb_cells = Jupyter.notebook.get_cells();\n",
       "                for (var i = 0; i < nbb_cells.length; ++i) {\n",
       "                    if (nbb_cells[i].input_prompt_number == nbb_cell_id) {\n",
       "                        if (nbb_cells[i].get_text() == nbb_unformatted_code) {\n",
       "                             nbb_cells[i].set_text(nbb_formatted_code);\n",
       "                        }\n",
       "                        break;\n",
       "                    }\n",
       "                }\n",
       "            }, 500);\n",
       "            "
      ],
      "text/plain": [
       "<IPython.core.display.Javascript object>"
      ]
     },
     "metadata": {},
     "output_type": "display_data"
    }
   ],
   "source": [
    "df[\"weight\"].describe()"
   ]
  },
  {
   "cell_type": "code",
   "execution_count": 123,
   "id": "1e8fb359-ec23-4153-a476-26f1274d4b1c",
   "metadata": {},
   "outputs": [
    {
     "data": {
      "text/html": [
       "<div>\n",
       "<style scoped>\n",
       "    .dataframe tbody tr th:only-of-type {\n",
       "        vertical-align: middle;\n",
       "    }\n",
       "\n",
       "    .dataframe tbody tr th {\n",
       "        vertical-align: top;\n",
       "    }\n",
       "\n",
       "    .dataframe thead th {\n",
       "        text-align: right;\n",
       "    }\n",
       "</style>\n",
       "<table border=\"1\" class=\"dataframe\">\n",
       "  <thead>\n",
       "    <tr style=\"text-align: right;\">\n",
       "      <th></th>\n",
       "      <th>counts</th>\n",
       "    </tr>\n",
       "    <tr>\n",
       "      <th>values</th>\n",
       "      <th></th>\n",
       "    </tr>\n",
       "  </thead>\n",
       "  <tbody>\n",
       "    <tr>\n",
       "      <th>-1.0</th>\n",
       "      <td>133</td>\n",
       "    </tr>\n",
       "    <tr>\n",
       "      <th>1.0</th>\n",
       "      <td>728</td>\n",
       "    </tr>\n",
       "    <tr>\n",
       "      <th>2.0</th>\n",
       "      <td>651</td>\n",
       "    </tr>\n",
       "    <tr>\n",
       "      <th>3.0</th>\n",
       "      <td>397</td>\n",
       "    </tr>\n",
       "  </tbody>\n",
       "</table>\n",
       "</div>"
      ],
      "text/plain": [
       "        counts\n",
       "values        \n",
       "-1.0       133\n",
       " 1.0       728\n",
       " 2.0       651\n",
       " 3.0       397"
      ]
     },
     "execution_count": 123,
     "metadata": {},
     "output_type": "execute_result"
    },
    {
     "data": {
      "application/javascript": [
       "\n",
       "            setTimeout(function() {\n",
       "                var nbb_cell_id = 123;\n",
       "                var nbb_unformatted_code = \"varname = \\\"follow_campinterest\\\"\\nvalue_counts(df[varname])\";\n",
       "                var nbb_formatted_code = \"varname = \\\"follow_campinterest\\\"\\nvalue_counts(df[varname])\";\n",
       "                var nbb_cells = Jupyter.notebook.get_cells();\n",
       "                for (var i = 0; i < nbb_cells.length; ++i) {\n",
       "                    if (nbb_cells[i].input_prompt_number == nbb_cell_id) {\n",
       "                        if (nbb_cells[i].get_text() == nbb_unformatted_code) {\n",
       "                             nbb_cells[i].set_text(nbb_formatted_code);\n",
       "                        }\n",
       "                        break;\n",
       "                    }\n",
       "                }\n",
       "            }, 500);\n",
       "            "
      ],
      "text/plain": [
       "<IPython.core.display.Javascript object>"
      ]
     },
     "metadata": {},
     "output_type": "display_data"
    }
   ],
   "source": [
    "varname = \"follow_campinterest\"\n",
    "value_counts(df[varname])"
   ]
  },
  {
   "cell_type": "markdown",
   "id": "f734c3f6",
   "metadata": {},
   "source": [
    "## Resample\n",
    "\n",
    "Correct for stratified sampling"
   ]
  },
  {
   "cell_type": "code",
   "execution_count": 124,
   "id": "c3c36aa5-3c35-43f0-b07a-2bf5ed4afa5f",
   "metadata": {},
   "outputs": [
    {
     "data": {
      "application/javascript": [
       "\n",
       "            setTimeout(function() {\n",
       "                var nbb_cell_id = 124;\n",
       "                var nbb_unformatted_code = \"sample = df.sample(len(df), replace=True, weights=df[\\\"weight\\\"])\";\n",
       "                var nbb_formatted_code = \"sample = df.sample(len(df), replace=True, weights=df[\\\"weight\\\"])\";\n",
       "                var nbb_cells = Jupyter.notebook.get_cells();\n",
       "                for (var i = 0; i < nbb_cells.length; ++i) {\n",
       "                    if (nbb_cells[i].input_prompt_number == nbb_cell_id) {\n",
       "                        if (nbb_cells[i].get_text() == nbb_unformatted_code) {\n",
       "                             nbb_cells[i].set_text(nbb_formatted_code);\n",
       "                        }\n",
       "                        break;\n",
       "                    }\n",
       "                }\n",
       "            }, 500);\n",
       "            "
      ],
      "text/plain": [
       "<IPython.core.display.Javascript object>"
      ]
     },
     "metadata": {},
     "output_type": "display_data"
    }
   ],
   "source": [
    "sample = df.sample(len(df), replace=True, weights=df[\"weight\"])"
   ]
  },
  {
   "cell_type": "code",
   "execution_count": 125,
   "id": "70ac9e2c-556c-40a9-9fdd-da0898eb7589",
   "metadata": {},
   "outputs": [
    {
     "data": {
      "text/html": [
       "<div>\n",
       "<style scoped>\n",
       "    .dataframe tbody tr th:only-of-type {\n",
       "        vertical-align: middle;\n",
       "    }\n",
       "\n",
       "    .dataframe tbody tr th {\n",
       "        vertical-align: top;\n",
       "    }\n",
       "\n",
       "    .dataframe thead th {\n",
       "        text-align: right;\n",
       "    }\n",
       "</style>\n",
       "<table border=\"1\" class=\"dataframe\">\n",
       "  <thead>\n",
       "    <tr style=\"text-align: right;\">\n",
       "      <th></th>\n",
       "      <th>counts</th>\n",
       "    </tr>\n",
       "    <tr>\n",
       "      <th>values</th>\n",
       "      <th></th>\n",
       "    </tr>\n",
       "  </thead>\n",
       "  <tbody>\n",
       "    <tr>\n",
       "      <th>1.0</th>\n",
       "      <td>909</td>\n",
       "    </tr>\n",
       "    <tr>\n",
       "      <th>2.0</th>\n",
       "      <td>1000</td>\n",
       "    </tr>\n",
       "  </tbody>\n",
       "</table>\n",
       "</div>"
      ],
      "text/plain": [
       "        counts\n",
       "values        \n",
       "1.0        909\n",
       "2.0       1000"
      ]
     },
     "execution_count": 125,
     "metadata": {},
     "output_type": "execute_result"
    },
    {
     "data": {
      "application/javascript": [
       "\n",
       "            setTimeout(function() {\n",
       "                var nbb_cell_id = 125;\n",
       "                var nbb_unformatted_code = \"value_counts(sample[\\\"gender\\\"])\";\n",
       "                var nbb_formatted_code = \"value_counts(sample[\\\"gender\\\"])\";\n",
       "                var nbb_cells = Jupyter.notebook.get_cells();\n",
       "                for (var i = 0; i < nbb_cells.length; ++i) {\n",
       "                    if (nbb_cells[i].input_prompt_number == nbb_cell_id) {\n",
       "                        if (nbb_cells[i].get_text() == nbb_unformatted_code) {\n",
       "                             nbb_cells[i].set_text(nbb_formatted_code);\n",
       "                        }\n",
       "                        break;\n",
       "                    }\n",
       "                }\n",
       "            }, 500);\n",
       "            "
      ],
      "text/plain": [
       "<IPython.core.display.Javascript object>"
      ]
     },
     "metadata": {},
     "output_type": "display_data"
    }
   ],
   "source": [
    "value_counts(sample[\"gender\"])"
   ]
  },
  {
   "cell_type": "markdown",
   "id": "5c212f73",
   "metadata": {},
   "source": [
    "About party identification, respondents were randomly asked two versions of the question, with the parties in different orders.\n",
    "We'll combine the results into a single column, and lump other party with independent."
   ]
  },
  {
   "cell_type": "code",
   "execution_count": 126,
   "id": "7755654b",
   "metadata": {},
   "outputs": [
    {
     "data": {
      "text/html": [
       "<div>\n",
       "<style scoped>\n",
       "    .dataframe tbody tr th:only-of-type {\n",
       "        vertical-align: middle;\n",
       "    }\n",
       "\n",
       "    .dataframe tbody tr th {\n",
       "        vertical-align: top;\n",
       "    }\n",
       "\n",
       "    .dataframe thead th {\n",
       "        text-align: right;\n",
       "    }\n",
       "</style>\n",
       "<table border=\"1\" class=\"dataframe\">\n",
       "  <thead>\n",
       "    <tr style=\"text-align: right;\">\n",
       "      <th></th>\n",
       "      <th>counts</th>\n",
       "    </tr>\n",
       "    <tr>\n",
       "      <th>values</th>\n",
       "      <th></th>\n",
       "    </tr>\n",
       "  </thead>\n",
       "  <tbody>\n",
       "    <tr>\n",
       "      <th>1.0</th>\n",
       "      <td>711</td>\n",
       "    </tr>\n",
       "    <tr>\n",
       "      <th>2.0</th>\n",
       "      <td>517</td>\n",
       "    </tr>\n",
       "    <tr>\n",
       "      <th>3.0</th>\n",
       "      <td>681</td>\n",
       "    </tr>\n",
       "  </tbody>\n",
       "</table>\n",
       "</div>"
      ],
      "text/plain": [
       "        counts\n",
       "values        \n",
       "1.0        711\n",
       "2.0        517\n",
       "3.0        681"
      ]
     },
     "execution_count": 126,
     "metadata": {},
     "output_type": "execute_result"
    },
    {
     "data": {
      "application/javascript": [
       "\n",
       "            setTimeout(function() {\n",
       "                var nbb_cell_id = 126;\n",
       "                var nbb_unformatted_code = \"pid1d = sample[\\\"pid_pid1d\\\"].replace([-1, 5], [np.nan, 3])\\npid1r = sample[\\\"pid_pid1r\\\"].replace([-1, 1, 2, 5], [np.nan, 2, 1, 3])\\n\\nsample[\\\"pid\\\"] = pid1d.fillna(pid1r)\\nvalue_counts(sample[\\\"pid\\\"])\";\n",
       "                var nbb_formatted_code = \"pid1d = sample[\\\"pid_pid1d\\\"].replace([-1, 5], [np.nan, 3])\\npid1r = sample[\\\"pid_pid1r\\\"].replace([-1, 1, 2, 5], [np.nan, 2, 1, 3])\\n\\nsample[\\\"pid\\\"] = pid1d.fillna(pid1r)\\nvalue_counts(sample[\\\"pid\\\"])\";\n",
       "                var nbb_cells = Jupyter.notebook.get_cells();\n",
       "                for (var i = 0; i < nbb_cells.length; ++i) {\n",
       "                    if (nbb_cells[i].input_prompt_number == nbb_cell_id) {\n",
       "                        if (nbb_cells[i].get_text() == nbb_unformatted_code) {\n",
       "                             nbb_cells[i].set_text(nbb_formatted_code);\n",
       "                        }\n",
       "                        break;\n",
       "                    }\n",
       "                }\n",
       "            }, 500);\n",
       "            "
      ],
      "text/plain": [
       "<IPython.core.display.Javascript object>"
      ]
     },
     "metadata": {},
     "output_type": "display_data"
    }
   ],
   "source": [
    "pid1d = sample[\"pid_pid1d\"].replace([-1, 5], [np.nan, 3])\n",
    "pid1r = sample[\"pid_pid1r\"].replace([-1, 1, 2, 5], [np.nan, 2, 1, 3])\n",
    "\n",
    "sample[\"pid\"] = pid1d.fillna(pid1r)\n",
    "value_counts(sample[\"pid\"])"
   ]
  },
  {
   "cell_type": "markdown",
   "id": "ad20a2b8",
   "metadata": {},
   "source": [
    "From the sample, select male and female respondents."
   ]
  },
  {
   "cell_type": "code",
   "execution_count": 272,
   "id": "812017ed",
   "metadata": {},
   "outputs": [
    {
     "data": {
      "text/html": [
       "<div>\n",
       "<style scoped>\n",
       "    .dataframe tbody tr th:only-of-type {\n",
       "        vertical-align: middle;\n",
       "    }\n",
       "\n",
       "    .dataframe tbody tr th {\n",
       "        vertical-align: top;\n",
       "    }\n",
       "\n",
       "    .dataframe thead th {\n",
       "        text-align: right;\n",
       "    }\n",
       "</style>\n",
       "<table border=\"1\" class=\"dataframe\">\n",
       "  <thead>\n",
       "    <tr style=\"text-align: right;\">\n",
       "      <th></th>\n",
       "      <th>counts</th>\n",
       "    </tr>\n",
       "    <tr>\n",
       "      <th>values</th>\n",
       "      <th></th>\n",
       "    </tr>\n",
       "  </thead>\n",
       "  <tbody>\n",
       "    <tr>\n",
       "      <th>1.0</th>\n",
       "      <td>909</td>\n",
       "    </tr>\n",
       "    <tr>\n",
       "      <th>2.0</th>\n",
       "      <td>1000</td>\n",
       "    </tr>\n",
       "  </tbody>\n",
       "</table>\n",
       "</div>"
      ],
      "text/plain": [
       "        counts\n",
       "values        \n",
       "1.0        909\n",
       "2.0       1000"
      ]
     },
     "execution_count": 272,
     "metadata": {},
     "output_type": "execute_result"
    },
    {
     "data": {
      "application/javascript": [
       "\n",
       "            setTimeout(function() {\n",
       "                var nbb_cell_id = 272;\n",
       "                var nbb_unformatted_code = \"value_counts(sample['gender'])\";\n",
       "                var nbb_formatted_code = \"value_counts(sample[\\\"gender\\\"])\";\n",
       "                var nbb_cells = Jupyter.notebook.get_cells();\n",
       "                for (var i = 0; i < nbb_cells.length; ++i) {\n",
       "                    if (nbb_cells[i].input_prompt_number == nbb_cell_id) {\n",
       "                        if (nbb_cells[i].get_text() == nbb_unformatted_code) {\n",
       "                             nbb_cells[i].set_text(nbb_formatted_code);\n",
       "                        }\n",
       "                        break;\n",
       "                    }\n",
       "                }\n",
       "            }, 500);\n",
       "            "
      ],
      "text/plain": [
       "<IPython.core.display.Javascript object>"
      ]
     },
     "metadata": {},
     "output_type": "display_data"
    }
   ],
   "source": [
    "value_counts(sample[\"gender\"])"
   ]
  },
  {
   "cell_type": "code",
   "execution_count": 127,
   "id": "24c5f6a0",
   "metadata": {},
   "outputs": [
    {
     "data": {
      "application/javascript": [
       "\n",
       "            setTimeout(function() {\n",
       "                var nbb_cell_id = 127;\n",
       "                var nbb_unformatted_code = \"sample_male = sample.query(\\\"gender == 1\\\")\\nsample_female = sample.query(\\\"gender == 2\\\")\";\n",
       "                var nbb_formatted_code = \"sample_male = sample.query(\\\"gender == 1\\\")\\nsample_female = sample.query(\\\"gender == 2\\\")\";\n",
       "                var nbb_cells = Jupyter.notebook.get_cells();\n",
       "                for (var i = 0; i < nbb_cells.length; ++i) {\n",
       "                    if (nbb_cells[i].input_prompt_number == nbb_cell_id) {\n",
       "                        if (nbb_cells[i].get_text() == nbb_unformatted_code) {\n",
       "                             nbb_cells[i].set_text(nbb_formatted_code);\n",
       "                        }\n",
       "                        break;\n",
       "                    }\n",
       "                }\n",
       "            }, 500);\n",
       "            "
      ],
      "text/plain": [
       "<IPython.core.display.Javascript object>"
      ]
     },
     "metadata": {},
     "output_type": "display_data"
    }
   ],
   "source": [
    "sample_male = sample.query(\"gender == 1\")\n",
    "sample_female = sample.query(\"gender == 2\")"
   ]
  },
  {
   "cell_type": "markdown",
   "id": "229b56b0",
   "metadata": {},
   "source": [
    "## How important\n",
    "\n",
    "This section explores answers to several questions of the form, \"How important are each of the following issues in the country today?\""
   ]
  },
  {
   "cell_type": "code",
   "execution_count": 128,
   "id": "dca8e433",
   "metadata": {},
   "outputs": [
    {
     "data": {
      "application/javascript": [
       "\n",
       "            setTimeout(function() {\n",
       "                var nbb_cell_id = 128;\n",
       "                var nbb_unformatted_code = \"def find_columns(df, prefix):\\n    return [\\n        col\\n        for col in df.columns\\n        if col.startswith(prefix)\\n        and not col.endswith(\\\"skp\\\")\\n        and not col.endswith(\\\"timing\\\")\\n    ]\";\n",
       "                var nbb_formatted_code = \"def find_columns(df, prefix):\\n    return [\\n        col\\n        for col in df.columns\\n        if col.startswith(prefix)\\n        and not col.endswith(\\\"skp\\\")\\n        and not col.endswith(\\\"timing\\\")\\n    ]\";\n",
       "                var nbb_cells = Jupyter.notebook.get_cells();\n",
       "                for (var i = 0; i < nbb_cells.length; ++i) {\n",
       "                    if (nbb_cells[i].input_prompt_number == nbb_cell_id) {\n",
       "                        if (nbb_cells[i].get_text() == nbb_unformatted_code) {\n",
       "                             nbb_cells[i].set_text(nbb_formatted_code);\n",
       "                        }\n",
       "                        break;\n",
       "                    }\n",
       "                }\n",
       "            }, 500);\n",
       "            "
      ],
      "text/plain": [
       "<IPython.core.display.Javascript object>"
      ]
     },
     "metadata": {},
     "output_type": "display_data"
    }
   ],
   "source": [
    "def find_columns(df, prefix):\n",
    "    return [\n",
    "        col\n",
    "        for col in df.columns\n",
    "        if col.startswith(prefix)\n",
    "        and not col.endswith(\"skp\")\n",
    "        and not col.endswith(\"timing\")\n",
    "    ]"
   ]
  },
  {
   "cell_type": "code",
   "execution_count": 129,
   "id": "c1e97f26",
   "metadata": {},
   "outputs": [
    {
     "data": {
      "text/plain": [
       "['imp_immig',\n",
       " 'imp_jobs',\n",
       " 'imp_costliv',\n",
       " 'imp_climate',\n",
       " 'imp_abort',\n",
       " 'imp_gun',\n",
       " 'imp_crime',\n",
       " 'imp_gaza',\n",
       " 'imp_antisem',\n",
       " 'imp_votright',\n",
       " 'imp_ukraine',\n",
       " 'imp_schteach',\n",
       " 'imp_islamop']"
      ]
     },
     "execution_count": 129,
     "metadata": {},
     "output_type": "execute_result"
    },
    {
     "data": {
      "application/javascript": [
       "\n",
       "            setTimeout(function() {\n",
       "                var nbb_cell_id = 129;\n",
       "                var nbb_unformatted_code = \"columns = find_columns(sample, \\\"imp_\\\")\\ncolumns\";\n",
       "                var nbb_formatted_code = \"columns = find_columns(sample, \\\"imp_\\\")\\ncolumns\";\n",
       "                var nbb_cells = Jupyter.notebook.get_cells();\n",
       "                for (var i = 0; i < nbb_cells.length; ++i) {\n",
       "                    if (nbb_cells[i].input_prompt_number == nbb_cell_id) {\n",
       "                        if (nbb_cells[i].get_text() == nbb_unformatted_code) {\n",
       "                             nbb_cells[i].set_text(nbb_formatted_code);\n",
       "                        }\n",
       "                        break;\n",
       "                    }\n",
       "                }\n",
       "            }, 500);\n",
       "            "
      ],
      "text/plain": [
       "<IPython.core.display.Javascript object>"
      ]
     },
     "metadata": {},
     "output_type": "display_data"
    }
   ],
   "source": [
    "columns = find_columns(sample, \"imp_\")\n",
    "columns"
   ]
  },
  {
   "cell_type": "markdown",
   "id": "7aa1c3c4",
   "metadata": {},
   "source": [
    "Here are the functions we'll use to measure and plot gender differences in the responses."
   ]
  },
  {
   "cell_type": "code",
   "execution_count": 130,
   "id": "7fce81a3",
   "metadata": {},
   "outputs": [
    {
     "data": {
      "application/javascript": [
       "\n",
       "            setTimeout(function() {\n",
       "                var nbb_cell_id = 130;\n",
       "                var nbb_unformatted_code = \"def normalized_counts(data, columns):\\n    \\\"\\\"\\\"Normalized value counts for each column.\\n\\n    Returns: DataFrame with one row per value, one column per variable\\n    \\\"\\\"\\\"\\n    return pd.DataFrame(\\n        {col: data[col].value_counts(normalize=True) for col in columns}\\n    ).fillna(0)\";\n",
       "                var nbb_formatted_code = \"def normalized_counts(data, columns):\\n    \\\"\\\"\\\"Normalized value counts for each column.\\n\\n    Returns: DataFrame with one row per value, one column per variable\\n    \\\"\\\"\\\"\\n    return pd.DataFrame(\\n        {col: data[col].value_counts(normalize=True) for col in columns}\\n    ).fillna(0)\";\n",
       "                var nbb_cells = Jupyter.notebook.get_cells();\n",
       "                for (var i = 0; i < nbb_cells.length; ++i) {\n",
       "                    if (nbb_cells[i].input_prompt_number == nbb_cell_id) {\n",
       "                        if (nbb_cells[i].get_text() == nbb_unformatted_code) {\n",
       "                             nbb_cells[i].set_text(nbb_formatted_code);\n",
       "                        }\n",
       "                        break;\n",
       "                    }\n",
       "                }\n",
       "            }, 500);\n",
       "            "
      ],
      "text/plain": [
       "<IPython.core.display.Javascript object>"
      ]
     },
     "metadata": {},
     "output_type": "display_data"
    }
   ],
   "source": [
    "def normalized_counts(data, columns):\n",
    "    \"\"\"Normalized value counts for each column.\n",
    "\n",
    "    Returns: DataFrame with one row per value, one column per variable\n",
    "    \"\"\"\n",
    "    return pd.DataFrame(\n",
    "        {col: data[col].value_counts(normalize=True) for col in columns}\n",
    "    ).fillna(0)"
   ]
  },
  {
   "cell_type": "code",
   "execution_count": 131,
   "id": "f550beda",
   "metadata": {},
   "outputs": [
    {
     "data": {
      "application/javascript": [
       "\n",
       "            setTimeout(function() {\n",
       "                var nbb_cell_id = 131;\n",
       "                var nbb_unformatted_code = \"def count_responses(data, columns, slice_map):\\n    \\\"\\\"\\\"Summarizes results, grouping responses according to slice map.\\n\\n    slice_map: dictionary from string to slice\\n    \\\"\\\"\\\"\\n    counts = normalized_counts(data, columns)\\n\\n    d = {key: counts.loc[slice1].sum() for key, slice1 in slice_map.items()}\\n\\n    return pd.DataFrame(d)\";\n",
       "                var nbb_formatted_code = \"def count_responses(data, columns, slice_map):\\n    \\\"\\\"\\\"Summarizes results, grouping responses according to slice map.\\n\\n    slice_map: dictionary from string to slice\\n    \\\"\\\"\\\"\\n    counts = normalized_counts(data, columns)\\n\\n    d = {key: counts.loc[slice1].sum() for key, slice1 in slice_map.items()}\\n\\n    return pd.DataFrame(d)\";\n",
       "                var nbb_cells = Jupyter.notebook.get_cells();\n",
       "                for (var i = 0; i < nbb_cells.length; ++i) {\n",
       "                    if (nbb_cells[i].input_prompt_number == nbb_cell_id) {\n",
       "                        if (nbb_cells[i].get_text() == nbb_unformatted_code) {\n",
       "                             nbb_cells[i].set_text(nbb_formatted_code);\n",
       "                        }\n",
       "                        break;\n",
       "                    }\n",
       "                }\n",
       "            }, 500);\n",
       "            "
      ],
      "text/plain": [
       "<IPython.core.display.Javascript object>"
      ]
     },
     "metadata": {},
     "output_type": "display_data"
    }
   ],
   "source": [
    "def count_responses(data, columns, slice_map):\n",
    "    \"\"\"Summarizes results, grouping responses according to slice map.\n",
    "\n",
    "    slice_map: dictionary from string to slice\n",
    "    \"\"\"\n",
    "    counts = normalized_counts(data, columns)\n",
    "\n",
    "    d = {key: counts.loc[slice1].sum() for key, slice1 in slice_map.items()}\n",
    "\n",
    "    return pd.DataFrame(d)"
   ]
  },
  {
   "cell_type": "code",
   "execution_count": 132,
   "id": "c545f56d",
   "metadata": {},
   "outputs": [
    {
     "data": {
      "application/javascript": [
       "\n",
       "            setTimeout(function() {\n",
       "                var nbb_cell_id = 132;\n",
       "                var nbb_unformatted_code = \"def summarize_responses(columns, slice_map, sort_idx=0):\\n    \\\"\\\"\\\" \\\"\\\"\\\"\\n    # make summaries for male and femals respondents\\n    summary_male = count_responses(data_male, columns, slice_map)\\n    summary_female = count_responses(data_female, columns, slice_map)\\n    sort_col = summary_female.columns[sort_idx]\\n\\n    # concatenate them into a single table\\n    summary = (\\n        pd.concat(\\n            [summary_male, summary_female], axis=1, keys=[\\\"male\\\", \\\"female\\\"]\\n        ).sort_values(by=(\\\"female\\\", sort_col))\\n        * 100\\n    )\\n    return summary\";\n",
       "                var nbb_formatted_code = \"def summarize_responses(columns, slice_map, sort_idx=0):\\n    \\\"\\\"\\\" \\\"\\\"\\\"\\n    # make summaries for male and femals respondents\\n    summary_male = count_responses(data_male, columns, slice_map)\\n    summary_female = count_responses(data_female, columns, slice_map)\\n    sort_col = summary_female.columns[sort_idx]\\n\\n    # concatenate them into a single table\\n    summary = (\\n        pd.concat(\\n            [summary_male, summary_female], axis=1, keys=[\\\"male\\\", \\\"female\\\"]\\n        ).sort_values(by=(\\\"female\\\", sort_col))\\n        * 100\\n    )\\n    return summary\";\n",
       "                var nbb_cells = Jupyter.notebook.get_cells();\n",
       "                for (var i = 0; i < nbb_cells.length; ++i) {\n",
       "                    if (nbb_cells[i].input_prompt_number == nbb_cell_id) {\n",
       "                        if (nbb_cells[i].get_text() == nbb_unformatted_code) {\n",
       "                             nbb_cells[i].set_text(nbb_formatted_code);\n",
       "                        }\n",
       "                        break;\n",
       "                    }\n",
       "                }\n",
       "            }, 500);\n",
       "            "
      ],
      "text/plain": [
       "<IPython.core.display.Javascript object>"
      ]
     },
     "metadata": {},
     "output_type": "display_data"
    }
   ],
   "source": [
    "def summarize_responses(columns, slice_map, sort_idx=0):\n",
    "    \"\"\" \"\"\"\n",
    "    # make summaries for male and femals respondents\n",
    "    summary_male = count_responses(data_male, columns, slice_map)\n",
    "    summary_female = count_responses(data_female, columns, slice_map)\n",
    "    sort_col = summary_female.columns[sort_idx]\n",
    "\n",
    "    # concatenate them into a single table\n",
    "    summary = (\n",
    "        pd.concat(\n",
    "            [summary_male, summary_female], axis=1, keys=[\"male\", \"female\"]\n",
    "        ).sort_values(by=(\"female\", sort_col))\n",
    "        * 100\n",
    "    )\n",
    "    return summary"
   ]
  },
  {
   "cell_type": "code",
   "execution_count": 133,
   "id": "563409c4",
   "metadata": {},
   "outputs": [
    {
     "data": {
      "application/javascript": [
       "\n",
       "            setTimeout(function() {\n",
       "                var nbb_cell_id = 133;\n",
       "                var nbb_unformatted_code = \"def draw_markers(summary, group, response):\\n    plt.plot(\\n        x,\\n        names,\\n        markers[group],\\n        color=colors[group],\\n        alpha=alphas[response],\\n        label=f\\\"{group}, {response}\\\",\\n    )\";\n",
       "                var nbb_formatted_code = \"def draw_markers(summary, group, response):\\n    plt.plot(\\n        x,\\n        names,\\n        markers[group],\\n        color=colors[group],\\n        alpha=alphas[response],\\n        label=f\\\"{group}, {response}\\\",\\n    )\";\n",
       "                var nbb_cells = Jupyter.notebook.get_cells();\n",
       "                for (var i = 0; i < nbb_cells.length; ++i) {\n",
       "                    if (nbb_cells[i].input_prompt_number == nbb_cell_id) {\n",
       "                        if (nbb_cells[i].get_text() == nbb_unformatted_code) {\n",
       "                             nbb_cells[i].set_text(nbb_formatted_code);\n",
       "                        }\n",
       "                        break;\n",
       "                    }\n",
       "                }\n",
       "            }, 500);\n",
       "            "
      ],
      "text/plain": [
       "<IPython.core.display.Javascript object>"
      ]
     },
     "metadata": {},
     "output_type": "display_data"
    }
   ],
   "source": [
    "def draw_markers(summary, group, response):\n",
    "    plt.plot(\n",
    "        x,\n",
    "        names,\n",
    "        markers[group],\n",
    "        color=colors[group],\n",
    "        alpha=alphas[response],\n",
    "        label=f\"{group}, {response}\",\n",
    "    )"
   ]
  },
  {
   "cell_type": "code",
   "execution_count": 134,
   "id": "450cdd7e",
   "metadata": {},
   "outputs": [
    {
     "data": {
      "application/javascript": [
       "\n",
       "            setTimeout(function() {\n",
       "                var nbb_cell_id = 134;\n",
       "                var nbb_unformatted_code = \"def draw_markers(series, names, style, **options):\\n    \\\"\\\"\\\"Draw markers\\n\\n    series: sequence of floats\\n    names: sequences of strings\\n    style: matplotlib style string\\n    options: passed to plt.plot\\n    \\\"\\\"\\\"\\n    underride(options, alpha=0.8)\\n    plt.plot(series, names, style, **options)\";\n",
       "                var nbb_formatted_code = \"def draw_markers(series, names, style, **options):\\n    \\\"\\\"\\\"Draw markers\\n\\n    series: sequence of floats\\n    names: sequences of strings\\n    style: matplotlib style string\\n    options: passed to plt.plot\\n    \\\"\\\"\\\"\\n    underride(options, alpha=0.8)\\n    plt.plot(series, names, style, **options)\";\n",
       "                var nbb_cells = Jupyter.notebook.get_cells();\n",
       "                for (var i = 0; i < nbb_cells.length; ++i) {\n",
       "                    if (nbb_cells[i].input_prompt_number == nbb_cell_id) {\n",
       "                        if (nbb_cells[i].get_text() == nbb_unformatted_code) {\n",
       "                             nbb_cells[i].set_text(nbb_formatted_code);\n",
       "                        }\n",
       "                        break;\n",
       "                    }\n",
       "                }\n",
       "            }, 500);\n",
       "            "
      ],
      "text/plain": [
       "<IPython.core.display.Javascript object>"
      ]
     },
     "metadata": {},
     "output_type": "display_data"
    }
   ],
   "source": [
    "def draw_markers(series, names, style, **options):\n",
    "    \"\"\"Draw markers\n",
    "\n",
    "    series: sequence of floats\n",
    "    names: sequences of strings\n",
    "    style: matplotlib style string\n",
    "    options: passed to plt.plot\n",
    "    \"\"\"\n",
    "    underride(options, alpha=0.8)\n",
    "    plt.plot(series, names, style, **options)"
   ]
  },
  {
   "cell_type": "code",
   "execution_count": 168,
   "id": "cfd1f09a",
   "metadata": {},
   "outputs": [
    {
     "data": {
      "application/javascript": [
       "\n",
       "            setTimeout(function() {\n",
       "                var nbb_cell_id = 168;\n",
       "                var nbb_unformatted_code = \"def plot_responses(summary, response, **options):\\n    plt.hlines(\\n        names,\\n        summary[\\\"male\\\", response],\\n        summary[\\\"female\\\", response],\\n        color=\\\"gray\\\",\\n        alpha=0.2,\\n    )\\n    options['label'] = f\\\"male {response}\\\"\\n    draw_markers(summary[\\\"male\\\", response], names, \\\"s\\\", color=\\\"C0\\\", **options)\\n    options['label'] = f\\\"female {response}\\\"\\n    draw_markers(summary[\\\"female\\\", response], names, \\\"s\\\", color=\\\"C1\\\", **options)\";\n",
       "                var nbb_formatted_code = \"def plot_responses(summary, response, **options):\\n    plt.hlines(\\n        names,\\n        summary[\\\"male\\\", response],\\n        summary[\\\"female\\\", response],\\n        color=\\\"gray\\\",\\n        alpha=0.2,\\n    )\\n    options[\\\"label\\\"] = f\\\"male {response}\\\"\\n    draw_markers(summary[\\\"male\\\", response], names, \\\"s\\\", color=\\\"C0\\\", **options)\\n    options[\\\"label\\\"] = f\\\"female {response}\\\"\\n    draw_markers(summary[\\\"female\\\", response], names, \\\"s\\\", color=\\\"C1\\\", **options)\";\n",
       "                var nbb_cells = Jupyter.notebook.get_cells();\n",
       "                for (var i = 0; i < nbb_cells.length; ++i) {\n",
       "                    if (nbb_cells[i].input_prompt_number == nbb_cell_id) {\n",
       "                        if (nbb_cells[i].get_text() == nbb_unformatted_code) {\n",
       "                             nbb_cells[i].set_text(nbb_formatted_code);\n",
       "                        }\n",
       "                        break;\n",
       "                    }\n",
       "                }\n",
       "            }, 500);\n",
       "            "
      ],
      "text/plain": [
       "<IPython.core.display.Javascript object>"
      ]
     },
     "metadata": {},
     "output_type": "display_data"
    }
   ],
   "source": [
    "def plot_responses(summary, response, **options):\n",
    "    plt.hlines(\n",
    "        names,\n",
    "        summary[\"male\", response],\n",
    "        summary[\"female\", response],\n",
    "        color=\"gray\",\n",
    "        alpha=0.2,\n",
    "    )\n",
    "    options[\"label\"] = f\"male {response}\"\n",
    "    draw_markers(summary[\"male\", response], names, \"s\", color=\"C0\", **options)\n",
    "    options[\"label\"] = f\"female {response}\"\n",
    "    draw_markers(summary[\"female\", response], names, \"s\", color=\"C1\", **options)"
   ]
  },
  {
   "cell_type": "code",
   "execution_count": 169,
   "id": "5c183655",
   "metadata": {},
   "outputs": [
    {
     "data": {
      "application/javascript": [
       "\n",
       "            setTimeout(function() {\n",
       "                var nbb_cell_id = 169;\n",
       "                var nbb_unformatted_code = \"issue_names = {\\n    \\\"imp_immig\\\": \\\"Illegal immigration\\\",\\n    \\\"imp_jobs\\\": \\\"Jobs/employment\\\",\\n    \\\"imp_costliv\\\": \\\"Cost of living and\\\\nrising prices\\\",\\n    \\\"imp_climate\\\": \\\"Climate change\\\",\\n    \\\"imp_abort\\\": \\\"Abortion\\\",\\n    \\\"imp_gun\\\": \\\"Gun policy\\\",\\n    \\\"imp_crime\\\": \\\"Crime\\\",\\n    \\\"imp_gaza\\\": \\\"War in Gaza\\\",\\n    \\\"imp_antisem\\\": \\\"Antisemitism\\\",\\n    \\\"imp_votright\\\": \\\"Voting rights\\\",\\n    \\\"imp_ukraine\\\": \\\"War in Ukraine\\\",\\n    \\\"imp_schteach\\\": \\\"What\\u2019s taught in\\\\npublic schools\\\",\\n    \\\"imp_islamop\\\": \\\"Anti-Muslim bias\\\",\\n}\";\n",
       "                var nbb_formatted_code = \"issue_names = {\\n    \\\"imp_immig\\\": \\\"Illegal immigration\\\",\\n    \\\"imp_jobs\\\": \\\"Jobs/employment\\\",\\n    \\\"imp_costliv\\\": \\\"Cost of living and\\\\nrising prices\\\",\\n    \\\"imp_climate\\\": \\\"Climate change\\\",\\n    \\\"imp_abort\\\": \\\"Abortion\\\",\\n    \\\"imp_gun\\\": \\\"Gun policy\\\",\\n    \\\"imp_crime\\\": \\\"Crime\\\",\\n    \\\"imp_gaza\\\": \\\"War in Gaza\\\",\\n    \\\"imp_antisem\\\": \\\"Antisemitism\\\",\\n    \\\"imp_votright\\\": \\\"Voting rights\\\",\\n    \\\"imp_ukraine\\\": \\\"War in Ukraine\\\",\\n    \\\"imp_schteach\\\": \\\"What\\u2019s taught in\\\\npublic schools\\\",\\n    \\\"imp_islamop\\\": \\\"Anti-Muslim bias\\\",\\n}\";\n",
       "                var nbb_cells = Jupyter.notebook.get_cells();\n",
       "                for (var i = 0; i < nbb_cells.length; ++i) {\n",
       "                    if (nbb_cells[i].input_prompt_number == nbb_cell_id) {\n",
       "                        if (nbb_cells[i].get_text() == nbb_unformatted_code) {\n",
       "                             nbb_cells[i].set_text(nbb_formatted_code);\n",
       "                        }\n",
       "                        break;\n",
       "                    }\n",
       "                }\n",
       "            }, 500);\n",
       "            "
      ],
      "text/plain": [
       "<IPython.core.display.Javascript object>"
      ]
     },
     "metadata": {},
     "output_type": "display_data"
    }
   ],
   "source": [
    "issue_names = {\n",
    "    \"imp_immig\": \"Illegal immigration\",\n",
    "    \"imp_jobs\": \"Jobs/employment\",\n",
    "    \"imp_costliv\": \"Cost of living and\\nrising prices\",\n",
    "    \"imp_climate\": \"Climate change\",\n",
    "    \"imp_abort\": \"Abortion\",\n",
    "    \"imp_gun\": \"Gun policy\",\n",
    "    \"imp_crime\": \"Crime\",\n",
    "    \"imp_gaza\": \"War in Gaza\",\n",
    "    \"imp_antisem\": \"Antisemitism\",\n",
    "    \"imp_votright\": \"Voting rights\",\n",
    "    \"imp_ukraine\": \"War in Ukraine\",\n",
    "    \"imp_schteach\": \"What’s taught in\\npublic schools\",\n",
    "    \"imp_islamop\": \"Anti-Muslim bias\",\n",
    "}"
   ]
  },
  {
   "cell_type": "code",
   "execution_count": 170,
   "id": "194a9a05",
   "metadata": {},
   "outputs": [
    {
     "data": {
      "text/html": [
       "<div>\n",
       "<style scoped>\n",
       "    .dataframe tbody tr th:only-of-type {\n",
       "        vertical-align: middle;\n",
       "    }\n",
       "\n",
       "    .dataframe tbody tr th {\n",
       "        vertical-align: top;\n",
       "    }\n",
       "\n",
       "    .dataframe thead th {\n",
       "        text-align: right;\n",
       "    }\n",
       "</style>\n",
       "<table border=\"1\" class=\"dataframe\">\n",
       "  <thead>\n",
       "    <tr style=\"text-align: right;\">\n",
       "      <th></th>\n",
       "      <th>imp_immig</th>\n",
       "      <th>imp_jobs</th>\n",
       "      <th>imp_costliv</th>\n",
       "      <th>imp_climate</th>\n",
       "      <th>imp_abort</th>\n",
       "      <th>imp_gun</th>\n",
       "      <th>imp_crime</th>\n",
       "      <th>imp_gaza</th>\n",
       "      <th>imp_antisem</th>\n",
       "      <th>imp_votright</th>\n",
       "      <th>imp_ukraine</th>\n",
       "      <th>imp_schteach</th>\n",
       "      <th>imp_islamop</th>\n",
       "    </tr>\n",
       "  </thead>\n",
       "  <tbody>\n",
       "    <tr>\n",
       "      <th>-7.0</th>\n",
       "      <td>0.000000</td>\n",
       "      <td>0.000000</td>\n",
       "      <td>0.000000</td>\n",
       "      <td>0.000000</td>\n",
       "      <td>0.000000</td>\n",
       "      <td>0.000000</td>\n",
       "      <td>0.000000</td>\n",
       "      <td>0.000000</td>\n",
       "      <td>0.000524</td>\n",
       "      <td>0.000000</td>\n",
       "      <td>0.000524</td>\n",
       "      <td>0.000000</td>\n",
       "      <td>0.000000</td>\n",
       "    </tr>\n",
       "    <tr>\n",
       "      <th>1.0</th>\n",
       "      <td>0.449450</td>\n",
       "      <td>0.446307</td>\n",
       "      <td>0.628601</td>\n",
       "      <td>0.322158</td>\n",
       "      <td>0.363017</td>\n",
       "      <td>0.383447</td>\n",
       "      <td>0.455736</td>\n",
       "      <td>0.177580</td>\n",
       "      <td>0.216344</td>\n",
       "      <td>0.443688</td>\n",
       "      <td>0.185961</td>\n",
       "      <td>0.435830</td>\n",
       "      <td>0.134625</td>\n",
       "    </tr>\n",
       "    <tr>\n",
       "      <th>2.0</th>\n",
       "      <td>0.227868</td>\n",
       "      <td>0.354112</td>\n",
       "      <td>0.260870</td>\n",
       "      <td>0.215820</td>\n",
       "      <td>0.261393</td>\n",
       "      <td>0.304872</td>\n",
       "      <td>0.288109</td>\n",
       "      <td>0.265584</td>\n",
       "      <td>0.288109</td>\n",
       "      <td>0.280775</td>\n",
       "      <td>0.258774</td>\n",
       "      <td>0.303824</td>\n",
       "      <td>0.196438</td>\n",
       "    </tr>\n",
       "    <tr>\n",
       "      <th>3.0</th>\n",
       "      <td>0.173913</td>\n",
       "      <td>0.152436</td>\n",
       "      <td>0.090623</td>\n",
       "      <td>0.161341</td>\n",
       "      <td>0.193819</td>\n",
       "      <td>0.188580</td>\n",
       "      <td>0.189104</td>\n",
       "      <td>0.288633</td>\n",
       "      <td>0.275537</td>\n",
       "      <td>0.167627</td>\n",
       "      <td>0.283918</td>\n",
       "      <td>0.166579</td>\n",
       "      <td>0.302776</td>\n",
       "    </tr>\n",
       "    <tr>\n",
       "      <th>4.0</th>\n",
       "      <td>0.105291</td>\n",
       "      <td>0.034049</td>\n",
       "      <td>0.014144</td>\n",
       "      <td>0.110005</td>\n",
       "      <td>0.094290</td>\n",
       "      <td>0.059193</td>\n",
       "      <td>0.059193</td>\n",
       "      <td>0.146674</td>\n",
       "      <td>0.125720</td>\n",
       "      <td>0.053431</td>\n",
       "      <td>0.130435</td>\n",
       "      <td>0.056574</td>\n",
       "      <td>0.156627</td>\n",
       "    </tr>\n",
       "    <tr>\n",
       "      <th>5.0</th>\n",
       "      <td>0.043478</td>\n",
       "      <td>0.013096</td>\n",
       "      <td>0.005762</td>\n",
       "      <td>0.190676</td>\n",
       "      <td>0.087480</td>\n",
       "      <td>0.063908</td>\n",
       "      <td>0.007858</td>\n",
       "      <td>0.121530</td>\n",
       "      <td>0.093766</td>\n",
       "      <td>0.054479</td>\n",
       "      <td>0.140388</td>\n",
       "      <td>0.037192</td>\n",
       "      <td>0.209534</td>\n",
       "    </tr>\n",
       "  </tbody>\n",
       "</table>\n",
       "</div>"
      ],
      "text/plain": [
       "      imp_immig  imp_jobs  imp_costliv  imp_climate  imp_abort   imp_gun  \\\n",
       "-7.0   0.000000  0.000000     0.000000     0.000000   0.000000  0.000000   \n",
       " 1.0   0.449450  0.446307     0.628601     0.322158   0.363017  0.383447   \n",
       " 2.0   0.227868  0.354112     0.260870     0.215820   0.261393  0.304872   \n",
       " 3.0   0.173913  0.152436     0.090623     0.161341   0.193819  0.188580   \n",
       " 4.0   0.105291  0.034049     0.014144     0.110005   0.094290  0.059193   \n",
       " 5.0   0.043478  0.013096     0.005762     0.190676   0.087480  0.063908   \n",
       "\n",
       "      imp_crime  imp_gaza  imp_antisem  imp_votright  imp_ukraine  \\\n",
       "-7.0   0.000000  0.000000     0.000524      0.000000     0.000524   \n",
       " 1.0   0.455736  0.177580     0.216344      0.443688     0.185961   \n",
       " 2.0   0.288109  0.265584     0.288109      0.280775     0.258774   \n",
       " 3.0   0.189104  0.288633     0.275537      0.167627     0.283918   \n",
       " 4.0   0.059193  0.146674     0.125720      0.053431     0.130435   \n",
       " 5.0   0.007858  0.121530     0.093766      0.054479     0.140388   \n",
       "\n",
       "      imp_schteach  imp_islamop  \n",
       "-7.0      0.000000     0.000000  \n",
       " 1.0      0.435830     0.134625  \n",
       " 2.0      0.303824     0.196438  \n",
       " 3.0      0.166579     0.302776  \n",
       " 4.0      0.056574     0.156627  \n",
       " 5.0      0.037192     0.209534  "
      ]
     },
     "execution_count": 170,
     "metadata": {},
     "output_type": "execute_result"
    },
    {
     "data": {
      "application/javascript": [
       "\n",
       "            setTimeout(function() {\n",
       "                var nbb_cell_id = 170;\n",
       "                var nbb_unformatted_code = \"columns = issue_names.keys()\\ncounts = normalized_counts(sample, columns)\\ncounts\";\n",
       "                var nbb_formatted_code = \"columns = issue_names.keys()\\ncounts = normalized_counts(sample, columns)\\ncounts\";\n",
       "                var nbb_cells = Jupyter.notebook.get_cells();\n",
       "                for (var i = 0; i < nbb_cells.length; ++i) {\n",
       "                    if (nbb_cells[i].input_prompt_number == nbb_cell_id) {\n",
       "                        if (nbb_cells[i].get_text() == nbb_unformatted_code) {\n",
       "                             nbb_cells[i].set_text(nbb_formatted_code);\n",
       "                        }\n",
       "                        break;\n",
       "                    }\n",
       "                }\n",
       "            }, 500);\n",
       "            "
      ],
      "text/plain": [
       "<IPython.core.display.Javascript object>"
      ]
     },
     "metadata": {},
     "output_type": "display_data"
    }
   ],
   "source": [
    "columns = issue_names.keys()\n",
    "counts = normalized_counts(sample, columns)\n",
    "counts"
   ]
  },
  {
   "cell_type": "code",
   "execution_count": 171,
   "id": "fee5608f",
   "metadata": {},
   "outputs": [
    {
     "data": {
      "application/javascript": [
       "\n",
       "            setTimeout(function() {\n",
       "                var nbb_cell_id = 171;\n",
       "                var nbb_unformatted_code = \"data_male = sample_male[columns].replace(-7, np.nan)\\ndata_female = sample_female[columns].replace(-7, np.nan)\";\n",
       "                var nbb_formatted_code = \"data_male = sample_male[columns].replace(-7, np.nan)\\ndata_female = sample_female[columns].replace(-7, np.nan)\";\n",
       "                var nbb_cells = Jupyter.notebook.get_cells();\n",
       "                for (var i = 0; i < nbb_cells.length; ++i) {\n",
       "                    if (nbb_cells[i].input_prompt_number == nbb_cell_id) {\n",
       "                        if (nbb_cells[i].get_text() == nbb_unformatted_code) {\n",
       "                             nbb_cells[i].set_text(nbb_formatted_code);\n",
       "                        }\n",
       "                        break;\n",
       "                    }\n",
       "                }\n",
       "            }, 500);\n",
       "            "
      ],
      "text/plain": [
       "<IPython.core.display.Javascript object>"
      ]
     },
     "metadata": {},
     "output_type": "display_data"
    }
   ],
   "source": [
    "data_male = sample_male[columns].replace(-7, np.nan)\n",
    "data_female = sample_female[columns].replace(-7, np.nan)"
   ]
  },
  {
   "cell_type": "code",
   "execution_count": 172,
   "id": "c509071f",
   "metadata": {},
   "outputs": [
    {
     "data": {
      "text/html": [
       "<div>\n",
       "<style scoped>\n",
       "    .dataframe tbody tr th:only-of-type {\n",
       "        vertical-align: middle;\n",
       "    }\n",
       "\n",
       "    .dataframe tbody tr th {\n",
       "        vertical-align: top;\n",
       "    }\n",
       "\n",
       "    .dataframe thead tr th {\n",
       "        text-align: left;\n",
       "    }\n",
       "</style>\n",
       "<table border=\"1\" class=\"dataframe\">\n",
       "  <thead>\n",
       "    <tr>\n",
       "      <th></th>\n",
       "      <th colspan=\"2\" halign=\"left\">male</th>\n",
       "      <th colspan=\"2\" halign=\"left\">female</th>\n",
       "    </tr>\n",
       "    <tr>\n",
       "      <th></th>\n",
       "      <th>important</th>\n",
       "      <th>not_important</th>\n",
       "      <th>important</th>\n",
       "      <th>not_important</th>\n",
       "    </tr>\n",
       "  </thead>\n",
       "  <tbody>\n",
       "    <tr>\n",
       "      <th>imp_islamop</th>\n",
       "      <td>29.592959</td>\n",
       "      <td>43.564356</td>\n",
       "      <td>36.3</td>\n",
       "      <td>30.3</td>\n",
       "    </tr>\n",
       "    <tr>\n",
       "      <th>imp_gaza</th>\n",
       "      <td>43.564356</td>\n",
       "      <td>32.013201</td>\n",
       "      <td>45.0</td>\n",
       "      <td>22.1</td>\n",
       "    </tr>\n",
       "    <tr>\n",
       "      <th>imp_ukraine</th>\n",
       "      <td>43.171806</td>\n",
       "      <td>28.964758</td>\n",
       "      <td>45.7</td>\n",
       "      <td>25.4</td>\n",
       "    </tr>\n",
       "    <tr>\n",
       "      <th>imp_antisem</th>\n",
       "      <td>49.339207</td>\n",
       "      <td>24.118943</td>\n",
       "      <td>51.5</td>\n",
       "      <td>20.0</td>\n",
       "    </tr>\n",
       "    <tr>\n",
       "      <th>imp_climate</th>\n",
       "      <td>52.585259</td>\n",
       "      <td>32.673267</td>\n",
       "      <td>54.9</td>\n",
       "      <td>27.7</td>\n",
       "    </tr>\n",
       "    <tr>\n",
       "      <th>imp_immig</th>\n",
       "      <td>69.306931</td>\n",
       "      <td>14.631463</td>\n",
       "      <td>66.3</td>\n",
       "      <td>15.1</td>\n",
       "    </tr>\n",
       "    <tr>\n",
       "      <th>imp_abort</th>\n",
       "      <td>54.125413</td>\n",
       "      <td>24.312431</td>\n",
       "      <td>70.0</td>\n",
       "      <td>12.6</td>\n",
       "    </tr>\n",
       "    <tr>\n",
       "      <th>imp_gun</th>\n",
       "      <td>65.126513</td>\n",
       "      <td>15.731573</td>\n",
       "      <td>72.2</td>\n",
       "      <td>9.2</td>\n",
       "    </tr>\n",
       "    <tr>\n",
       "      <th>imp_votright</th>\n",
       "      <td>72.167217</td>\n",
       "      <td>14.081408</td>\n",
       "      <td>72.7</td>\n",
       "      <td>7.8</td>\n",
       "    </tr>\n",
       "    <tr>\n",
       "      <th>imp_schteach</th>\n",
       "      <td>69.966997</td>\n",
       "      <td>12.101210</td>\n",
       "      <td>77.6</td>\n",
       "      <td>6.9</td>\n",
       "    </tr>\n",
       "    <tr>\n",
       "      <th>imp_crime</th>\n",
       "      <td>70.187019</td>\n",
       "      <td>7.920792</td>\n",
       "      <td>78.2</td>\n",
       "      <td>5.6</td>\n",
       "    </tr>\n",
       "    <tr>\n",
       "      <th>imp_jobs</th>\n",
       "      <td>79.647965</td>\n",
       "      <td>5.060506</td>\n",
       "      <td>80.4</td>\n",
       "      <td>4.4</td>\n",
       "    </tr>\n",
       "    <tr>\n",
       "      <th>imp_costliv</th>\n",
       "      <td>87.458746</td>\n",
       "      <td>3.080308</td>\n",
       "      <td>90.3</td>\n",
       "      <td>1.0</td>\n",
       "    </tr>\n",
       "  </tbody>\n",
       "</table>\n",
       "</div>"
      ],
      "text/plain": [
       "                   male                  female              \n",
       "              important not_important important not_important\n",
       "imp_islamop   29.592959     43.564356      36.3          30.3\n",
       "imp_gaza      43.564356     32.013201      45.0          22.1\n",
       "imp_ukraine   43.171806     28.964758      45.7          25.4\n",
       "imp_antisem   49.339207     24.118943      51.5          20.0\n",
       "imp_climate   52.585259     32.673267      54.9          27.7\n",
       "imp_immig     69.306931     14.631463      66.3          15.1\n",
       "imp_abort     54.125413     24.312431      70.0          12.6\n",
       "imp_gun       65.126513     15.731573      72.2           9.2\n",
       "imp_votright  72.167217     14.081408      72.7           7.8\n",
       "imp_schteach  69.966997     12.101210      77.6           6.9\n",
       "imp_crime     70.187019      7.920792      78.2           5.6\n",
       "imp_jobs      79.647965      5.060506      80.4           4.4\n",
       "imp_costliv   87.458746      3.080308      90.3           1.0"
      ]
     },
     "execution_count": 172,
     "metadata": {},
     "output_type": "execute_result"
    },
    {
     "data": {
      "application/javascript": [
       "\n",
       "            setTimeout(function() {\n",
       "                var nbb_cell_id = 172;\n",
       "                var nbb_unformatted_code = \"slice_map = dict(important=slice(1, 2), not_important=slice(4, 5))\\nsummary = summarize_responses(columns, slice_map)\\nsummary\";\n",
       "                var nbb_formatted_code = \"slice_map = dict(important=slice(1, 2), not_important=slice(4, 5))\\nsummary = summarize_responses(columns, slice_map)\\nsummary\";\n",
       "                var nbb_cells = Jupyter.notebook.get_cells();\n",
       "                for (var i = 0; i < nbb_cells.length; ++i) {\n",
       "                    if (nbb_cells[i].input_prompt_number == nbb_cell_id) {\n",
       "                        if (nbb_cells[i].get_text() == nbb_unformatted_code) {\n",
       "                             nbb_cells[i].set_text(nbb_formatted_code);\n",
       "                        }\n",
       "                        break;\n",
       "                    }\n",
       "                }\n",
       "            }, 500);\n",
       "            "
      ],
      "text/plain": [
       "<IPython.core.display.Javascript object>"
      ]
     },
     "metadata": {},
     "output_type": "display_data"
    }
   ],
   "source": [
    "slice_map = dict(important=slice(1, 2), not_important=slice(4, 5))\n",
    "summary = summarize_responses(columns, slice_map)\n",
    "summary"
   ]
  },
  {
   "cell_type": "code",
   "execution_count": 173,
   "id": "ef02c6f7",
   "metadata": {},
   "outputs": [
    {
     "data": {
      "application/javascript": [
       "\n",
       "            setTimeout(function() {\n",
       "                var nbb_cell_id = 173;\n",
       "                var nbb_unformatted_code = \"names = [issue_names[col] for col in summary.index]\";\n",
       "                var nbb_formatted_code = \"names = [issue_names[col] for col in summary.index]\";\n",
       "                var nbb_cells = Jupyter.notebook.get_cells();\n",
       "                for (var i = 0; i < nbb_cells.length; ++i) {\n",
       "                    if (nbb_cells[i].input_prompt_number == nbb_cell_id) {\n",
       "                        if (nbb_cells[i].get_text() == nbb_unformatted_code) {\n",
       "                             nbb_cells[i].set_text(nbb_formatted_code);\n",
       "                        }\n",
       "                        break;\n",
       "                    }\n",
       "                }\n",
       "            }, 500);\n",
       "            "
      ],
      "text/plain": [
       "<IPython.core.display.Javascript object>"
      ]
     },
     "metadata": {},
     "output_type": "display_data"
    }
   ],
   "source": [
    "names = [issue_names[col] for col in summary.index]"
   ]
  },
  {
   "cell_type": "code",
   "execution_count": 174,
   "id": "060b70bc",
   "metadata": {},
   "outputs": [
    {
     "data": {
      "image/png": "[encoded data removed]",
      "text/plain": [
       "<Figure size 450x262.5 with 1 Axes>"
      ]
     },
     "metadata": {},
     "output_type": "display_data"
    },
    {
     "data": {
      "application/javascript": [
       "\n",
       "            setTimeout(function() {\n",
       "                var nbb_cell_id = 174;\n",
       "                var nbb_unformatted_code = \"plot_responses(summary, \\\"important\\\", alpha=0.9)\\nplot_responses(summary, \\\"not_important\\\", alpha=0.5)\\ndecorate(xlabel=\\\"Percent\\\")\";\n",
       "                var nbb_formatted_code = \"plot_responses(summary, \\\"important\\\", alpha=0.9)\\nplot_responses(summary, \\\"not_important\\\", alpha=0.5)\\ndecorate(xlabel=\\\"Percent\\\")\";\n",
       "                var nbb_cells = Jupyter.notebook.get_cells();\n",
       "                for (var i = 0; i < nbb_cells.length; ++i) {\n",
       "                    if (nbb_cells[i].input_prompt_number == nbb_cell_id) {\n",
       "                        if (nbb_cells[i].get_text() == nbb_unformatted_code) {\n",
       "                             nbb_cells[i].set_text(nbb_formatted_code);\n",
       "                        }\n",
       "                        break;\n",
       "                    }\n",
       "                }\n",
       "            }, 500);\n",
       "            "
      ],
      "text/plain": [
       "<IPython.core.display.Javascript object>"
      ]
     },
     "metadata": {},
     "output_type": "display_data"
    }
   ],
   "source": [
    "plot_responses(summary, \"important\", alpha=0.9)\n",
    "plot_responses(summary, \"not_important\", alpha=0.5)\n",
    "decorate(xlabel=\"Percent\")"
   ]
  },
  {
   "cell_type": "markdown",
   "id": "93412d4c",
   "metadata": {},
   "source": [
    "One way to interpret these results is to pick the ones with the biggest differences and talk about \"wow the differences\".\n",
    "But these differences are often used to tell a story along the lines that men and women are becoming more politically incompatible, so I think it would be useful to quantify what we mean by compatible.\n",
    "\n",
    "For example, if we imagine a speed-dating service that matches random women and men, and compares their responses, we could define a kind of compatibility score and see how often a hypothetical pair would find themselves disagreeing by too much on to many points.\n",
    "\n",
    "We could calibrate the results by comparing them with male-male and female-female compatibility."
   ]
  },
  {
   "cell_type": "markdown",
   "id": "58376471",
   "metadata": {},
   "source": [
    "## Which Party Better Job\n",
    "\n",
    "This section explores responses to a set of questions based on this schema:\n",
    "\n",
    ">Please tell us which political party— the [Democrats/Republicans] or the [Republicans/Democrats]—would do a better job handling each of the following issues, or is there no difference."
   ]
  },
  {
   "cell_type": "code",
   "execution_count": 175,
   "id": "bd3bd9dd",
   "metadata": {},
   "outputs": [
    {
     "data": {
      "application/javascript": [
       "\n",
       "            setTimeout(function() {\n",
       "                var nbb_cell_id = 175;\n",
       "                var nbb_unformatted_code = \"columns = find_columns(sample, \\\"own_\\\")\";\n",
       "                var nbb_formatted_code = \"columns = find_columns(sample, \\\"own_\\\")\";\n",
       "                var nbb_cells = Jupyter.notebook.get_cells();\n",
       "                for (var i = 0; i < nbb_cells.length; ++i) {\n",
       "                    if (nbb_cells[i].input_prompt_number == nbb_cell_id) {\n",
       "                        if (nbb_cells[i].get_text() == nbb_unformatted_code) {\n",
       "                             nbb_cells[i].set_text(nbb_formatted_code);\n",
       "                        }\n",
       "                        break;\n",
       "                    }\n",
       "                }\n",
       "            }, 500);\n",
       "            "
      ],
      "text/plain": [
       "<IPython.core.display.Javascript object>"
      ]
     },
     "metadata": {},
     "output_type": "display_data"
    }
   ],
   "source": [
    "columns = find_columns(sample, \"own_\")"
   ]
  },
  {
   "cell_type": "code",
   "execution_count": 176,
   "id": "ad8338ef",
   "metadata": {},
   "outputs": [
    {
     "data": {
      "application/javascript": [
       "\n",
       "            setTimeout(function() {\n",
       "                var nbb_cell_id = 176;\n",
       "                var nbb_unformatted_code = \"issue_names = {\\n    \\\"own_immig\\\": \\\"Illegal immigration\\\",\\n    \\\"own_jobs\\\": \\\"Jobs/employment\\\",\\n    \\\"own_costliv\\\": \\\"Cost of living and\\\\nrising prices\\\",\\n    \\\"own_climate\\\": \\\"Climate change\\\",\\n    \\\"own_abort\\\": \\\"Abortion\\\",\\n    \\\"own_gun\\\": \\\"Gun policy\\\",\\n    \\\"own_crime\\\": \\\"Crime\\\",\\n    \\\"own_gaza\\\": \\\"War in Gaza\\\",\\n    \\\"own_antisem\\\": \\\"Antisemitism\\\",\\n    \\\"own_votright\\\": \\\"Voting rights\\\",\\n    \\\"own_ukraine\\\": \\\"War in Ukraine\\\",\\n    \\\"own_schteach\\\": \\\"What\\u2019s taught in\\\\npublic schools\\\",\\n    \\\"own_islamop\\\": \\\"Anti-Muslim bias\\\",\\n}\";\n",
       "                var nbb_formatted_code = \"issue_names = {\\n    \\\"own_immig\\\": \\\"Illegal immigration\\\",\\n    \\\"own_jobs\\\": \\\"Jobs/employment\\\",\\n    \\\"own_costliv\\\": \\\"Cost of living and\\\\nrising prices\\\",\\n    \\\"own_climate\\\": \\\"Climate change\\\",\\n    \\\"own_abort\\\": \\\"Abortion\\\",\\n    \\\"own_gun\\\": \\\"Gun policy\\\",\\n    \\\"own_crime\\\": \\\"Crime\\\",\\n    \\\"own_gaza\\\": \\\"War in Gaza\\\",\\n    \\\"own_antisem\\\": \\\"Antisemitism\\\",\\n    \\\"own_votright\\\": \\\"Voting rights\\\",\\n    \\\"own_ukraine\\\": \\\"War in Ukraine\\\",\\n    \\\"own_schteach\\\": \\\"What\\u2019s taught in\\\\npublic schools\\\",\\n    \\\"own_islamop\\\": \\\"Anti-Muslim bias\\\",\\n}\";\n",
       "                var nbb_cells = Jupyter.notebook.get_cells();\n",
       "                for (var i = 0; i < nbb_cells.length; ++i) {\n",
       "                    if (nbb_cells[i].input_prompt_number == nbb_cell_id) {\n",
       "                        if (nbb_cells[i].get_text() == nbb_unformatted_code) {\n",
       "                             nbb_cells[i].set_text(nbb_formatted_code);\n",
       "                        }\n",
       "                        break;\n",
       "                    }\n",
       "                }\n",
       "            }, 500);\n",
       "            "
      ],
      "text/plain": [
       "<IPython.core.display.Javascript object>"
      ]
     },
     "metadata": {},
     "output_type": "display_data"
    }
   ],
   "source": [
    "issue_names = {\n",
    "    \"own_immig\": \"Illegal immigration\",\n",
    "    \"own_jobs\": \"Jobs/employment\",\n",
    "    \"own_costliv\": \"Cost of living and\\nrising prices\",\n",
    "    \"own_climate\": \"Climate change\",\n",
    "    \"own_abort\": \"Abortion\",\n",
    "    \"own_gun\": \"Gun policy\",\n",
    "    \"own_crime\": \"Crime\",\n",
    "    \"own_gaza\": \"War in Gaza\",\n",
    "    \"own_antisem\": \"Antisemitism\",\n",
    "    \"own_votright\": \"Voting rights\",\n",
    "    \"own_ukraine\": \"War in Ukraine\",\n",
    "    \"own_schteach\": \"What’s taught in\\npublic schools\",\n",
    "    \"own_islamop\": \"Anti-Muslim bias\",\n",
    "}"
   ]
  },
  {
   "cell_type": "markdown",
   "id": "47527363",
   "metadata": {},
   "source": [
    "The codebook for these variables is not consistent with the data, but it looks like\n",
    "\n",
    "```\n",
    "1. Democrats\n",
    "2. Republicans\n",
    "3. No difference\n",
    "```"
   ]
  },
  {
   "cell_type": "code",
   "execution_count": 177,
   "id": "93b02c43",
   "metadata": {},
   "outputs": [
    {
     "data": {
      "text/html": [
       "<div>\n",
       "<style scoped>\n",
       "    .dataframe tbody tr th:only-of-type {\n",
       "        vertical-align: middle;\n",
       "    }\n",
       "\n",
       "    .dataframe tbody tr th {\n",
       "        vertical-align: top;\n",
       "    }\n",
       "\n",
       "    .dataframe thead th {\n",
       "        text-align: right;\n",
       "    }\n",
       "</style>\n",
       "<table border=\"1\" class=\"dataframe\">\n",
       "  <thead>\n",
       "    <tr style=\"text-align: right;\">\n",
       "      <th></th>\n",
       "      <th>counts</th>\n",
       "    </tr>\n",
       "    <tr>\n",
       "      <th>values</th>\n",
       "      <th></th>\n",
       "    </tr>\n",
       "  </thead>\n",
       "  <tbody>\n",
       "    <tr>\n",
       "      <th>1.0</th>\n",
       "      <td>612</td>\n",
       "    </tr>\n",
       "    <tr>\n",
       "      <th>2.0</th>\n",
       "      <td>814</td>\n",
       "    </tr>\n",
       "    <tr>\n",
       "      <th>3.0</th>\n",
       "      <td>483</td>\n",
       "    </tr>\n",
       "  </tbody>\n",
       "</table>\n",
       "</div>"
      ],
      "text/plain": [
       "        counts\n",
       "values        \n",
       "1.0        612\n",
       "2.0        814\n",
       "3.0        483"
      ]
     },
     "execution_count": 177,
     "metadata": {},
     "output_type": "execute_result"
    },
    {
     "data": {
      "application/javascript": [
       "\n",
       "            setTimeout(function() {\n",
       "                var nbb_cell_id = 177;\n",
       "                var nbb_unformatted_code = \"value_counts(sample[\\\"own_immig\\\"])\";\n",
       "                var nbb_formatted_code = \"value_counts(sample[\\\"own_immig\\\"])\";\n",
       "                var nbb_cells = Jupyter.notebook.get_cells();\n",
       "                for (var i = 0; i < nbb_cells.length; ++i) {\n",
       "                    if (nbb_cells[i].input_prompt_number == nbb_cell_id) {\n",
       "                        if (nbb_cells[i].get_text() == nbb_unformatted_code) {\n",
       "                             nbb_cells[i].set_text(nbb_formatted_code);\n",
       "                        }\n",
       "                        break;\n",
       "                    }\n",
       "                }\n",
       "            }, 500);\n",
       "            "
      ],
      "text/plain": [
       "<IPython.core.display.Javascript object>"
      ]
     },
     "metadata": {},
     "output_type": "display_data"
    }
   ],
   "source": [
    "value_counts(sample[\"own_immig\"])"
   ]
  },
  {
   "cell_type": "code",
   "execution_count": 178,
   "id": "f0ab99e6",
   "metadata": {},
   "outputs": [
    {
     "data": {
      "text/html": [
       "<div>\n",
       "<style scoped>\n",
       "    .dataframe tbody tr th:only-of-type {\n",
       "        vertical-align: middle;\n",
       "    }\n",
       "\n",
       "    .dataframe tbody tr th {\n",
       "        vertical-align: top;\n",
       "    }\n",
       "\n",
       "    .dataframe thead th {\n",
       "        text-align: right;\n",
       "    }\n",
       "</style>\n",
       "<table border=\"1\" class=\"dataframe\">\n",
       "  <thead>\n",
       "    <tr style=\"text-align: right;\">\n",
       "      <th></th>\n",
       "      <th>own_immig</th>\n",
       "      <th>own_jobs</th>\n",
       "      <th>own_costliv</th>\n",
       "      <th>own_climate</th>\n",
       "      <th>own_abort</th>\n",
       "      <th>own_gun</th>\n",
       "      <th>own_crime</th>\n",
       "      <th>own_gaza</th>\n",
       "      <th>own_antisem</th>\n",
       "      <th>own_votright</th>\n",
       "      <th>own_ukraine</th>\n",
       "      <th>own_schteach</th>\n",
       "      <th>own_islamop</th>\n",
       "    </tr>\n",
       "  </thead>\n",
       "  <tbody>\n",
       "    <tr>\n",
       "      <th>-7.0</th>\n",
       "      <td>0.000000</td>\n",
       "      <td>0.000000</td>\n",
       "      <td>0.000000</td>\n",
       "      <td>0.000000</td>\n",
       "      <td>0.000524</td>\n",
       "      <td>0.000000</td>\n",
       "      <td>0.000000</td>\n",
       "      <td>0.000000</td>\n",
       "      <td>0.000000</td>\n",
       "      <td>0.000000</td>\n",
       "      <td>0.001048</td>\n",
       "      <td>0.000000</td>\n",
       "      <td>0.001048</td>\n",
       "    </tr>\n",
       "    <tr>\n",
       "      <th>1.0</th>\n",
       "      <td>0.320587</td>\n",
       "      <td>0.354636</td>\n",
       "      <td>0.319015</td>\n",
       "      <td>0.446307</td>\n",
       "      <td>0.452069</td>\n",
       "      <td>0.399686</td>\n",
       "      <td>0.272394</td>\n",
       "      <td>0.266108</td>\n",
       "      <td>0.323730</td>\n",
       "      <td>0.408591</td>\n",
       "      <td>0.353064</td>\n",
       "      <td>0.369303</td>\n",
       "      <td>0.372970</td>\n",
       "    </tr>\n",
       "    <tr>\n",
       "      <th>2.0</th>\n",
       "      <td>0.426401</td>\n",
       "      <td>0.384494</td>\n",
       "      <td>0.385542</td>\n",
       "      <td>0.202724</td>\n",
       "      <td>0.283394</td>\n",
       "      <td>0.357779</td>\n",
       "      <td>0.382923</td>\n",
       "      <td>0.299633</td>\n",
       "      <td>0.259298</td>\n",
       "      <td>0.282871</td>\n",
       "      <td>0.275013</td>\n",
       "      <td>0.350969</td>\n",
       "      <td>0.180723</td>\n",
       "    </tr>\n",
       "    <tr>\n",
       "      <th>3.0</th>\n",
       "      <td>0.253012</td>\n",
       "      <td>0.260870</td>\n",
       "      <td>0.295443</td>\n",
       "      <td>0.350969</td>\n",
       "      <td>0.264013</td>\n",
       "      <td>0.242535</td>\n",
       "      <td>0.344683</td>\n",
       "      <td>0.434259</td>\n",
       "      <td>0.416972</td>\n",
       "      <td>0.308539</td>\n",
       "      <td>0.370875</td>\n",
       "      <td>0.279728</td>\n",
       "      <td>0.445259</td>\n",
       "    </tr>\n",
       "  </tbody>\n",
       "</table>\n",
       "</div>"
      ],
      "text/plain": [
       "      own_immig  own_jobs  own_costliv  own_climate  own_abort   own_gun  \\\n",
       "-7.0   0.000000  0.000000     0.000000     0.000000   0.000524  0.000000   \n",
       " 1.0   0.320587  0.354636     0.319015     0.446307   0.452069  0.399686   \n",
       " 2.0   0.426401  0.384494     0.385542     0.202724   0.283394  0.357779   \n",
       " 3.0   0.253012  0.260870     0.295443     0.350969   0.264013  0.242535   \n",
       "\n",
       "      own_crime  own_gaza  own_antisem  own_votright  own_ukraine  \\\n",
       "-7.0   0.000000  0.000000     0.000000      0.000000     0.001048   \n",
       " 1.0   0.272394  0.266108     0.323730      0.408591     0.353064   \n",
       " 2.0   0.382923  0.299633     0.259298      0.282871     0.275013   \n",
       " 3.0   0.344683  0.434259     0.416972      0.308539     0.370875   \n",
       "\n",
       "      own_schteach  own_islamop  \n",
       "-7.0      0.000000     0.001048  \n",
       " 1.0      0.369303     0.372970  \n",
       " 2.0      0.350969     0.180723  \n",
       " 3.0      0.279728     0.445259  "
      ]
     },
     "execution_count": 178,
     "metadata": {},
     "output_type": "execute_result"
    },
    {
     "data": {
      "application/javascript": [
       "\n",
       "            setTimeout(function() {\n",
       "                var nbb_cell_id = 178;\n",
       "                var nbb_unformatted_code = \"columns = issue_names.keys()\\ncounts = normalized_counts(sample, columns)\\ncounts\";\n",
       "                var nbb_formatted_code = \"columns = issue_names.keys()\\ncounts = normalized_counts(sample, columns)\\ncounts\";\n",
       "                var nbb_cells = Jupyter.notebook.get_cells();\n",
       "                for (var i = 0; i < nbb_cells.length; ++i) {\n",
       "                    if (nbb_cells[i].input_prompt_number == nbb_cell_id) {\n",
       "                        if (nbb_cells[i].get_text() == nbb_unformatted_code) {\n",
       "                             nbb_cells[i].set_text(nbb_formatted_code);\n",
       "                        }\n",
       "                        break;\n",
       "                    }\n",
       "                }\n",
       "            }, 500);\n",
       "            "
      ],
      "text/plain": [
       "<IPython.core.display.Javascript object>"
      ]
     },
     "metadata": {},
     "output_type": "display_data"
    }
   ],
   "source": [
    "columns = issue_names.keys()\n",
    "counts = normalized_counts(sample, columns)\n",
    "counts"
   ]
  },
  {
   "cell_type": "markdown",
   "id": "c60275bb",
   "metadata": {},
   "source": [
    "Most people answered all 13 questions, but a few answered 12 or 11."
   ]
  },
  {
   "cell_type": "code",
   "execution_count": 179,
   "id": "ebdc6b2d",
   "metadata": {},
   "outputs": [
    {
     "data": {
      "text/html": [
       "<div>\n",
       "<style scoped>\n",
       "    .dataframe tbody tr th:only-of-type {\n",
       "        vertical-align: middle;\n",
       "    }\n",
       "\n",
       "    .dataframe tbody tr th {\n",
       "        vertical-align: top;\n",
       "    }\n",
       "\n",
       "    .dataframe thead th {\n",
       "        text-align: right;\n",
       "    }\n",
       "</style>\n",
       "<table border=\"1\" class=\"dataframe\">\n",
       "  <thead>\n",
       "    <tr style=\"text-align: right;\">\n",
       "      <th></th>\n",
       "      <th>counts</th>\n",
       "    </tr>\n",
       "    <tr>\n",
       "      <th>values</th>\n",
       "      <th></th>\n",
       "    </tr>\n",
       "  </thead>\n",
       "  <tbody>\n",
       "    <tr>\n",
       "      <th>12</th>\n",
       "      <td>5</td>\n",
       "    </tr>\n",
       "    <tr>\n",
       "      <th>13</th>\n",
       "      <td>1904</td>\n",
       "    </tr>\n",
       "  </tbody>\n",
       "</table>\n",
       "</div>"
      ],
      "text/plain": [
       "        counts\n",
       "values        \n",
       "12           5\n",
       "13        1904"
      ]
     },
     "execution_count": 179,
     "metadata": {},
     "output_type": "execute_result"
    },
    {
     "data": {
      "application/javascript": [
       "\n",
       "            setTimeout(function() {\n",
       "                var nbb_cell_id = 179;\n",
       "                var nbb_unformatted_code = \"data = sample[columns].replace(-7, np.nan)\\ncount = data.count(axis=1)\\nvalue_counts(count)\";\n",
       "                var nbb_formatted_code = \"data = sample[columns].replace(-7, np.nan)\\ncount = data.count(axis=1)\\nvalue_counts(count)\";\n",
       "                var nbb_cells = Jupyter.notebook.get_cells();\n",
       "                for (var i = 0; i < nbb_cells.length; ++i) {\n",
       "                    if (nbb_cells[i].input_prompt_number == nbb_cell_id) {\n",
       "                        if (nbb_cells[i].get_text() == nbb_unformatted_code) {\n",
       "                             nbb_cells[i].set_text(nbb_formatted_code);\n",
       "                        }\n",
       "                        break;\n",
       "                    }\n",
       "                }\n",
       "            }, 500);\n",
       "            "
      ],
      "text/plain": [
       "<IPython.core.display.Javascript object>"
      ]
     },
     "metadata": {},
     "output_type": "display_data"
    }
   ],
   "source": [
    "data = sample[columns].replace(-7, np.nan)\n",
    "count = data.count(axis=1)\n",
    "value_counts(count)"
   ]
  },
  {
   "cell_type": "markdown",
   "id": "ce0b7ec8",
   "metadata": {},
   "source": [
    "For each respondents, we add up the fraction of responses in each of the three categories, and the party they were more favorable toward. "
   ]
  },
  {
   "cell_type": "code",
   "execution_count": 180,
   "id": "b635e25e",
   "metadata": {},
   "outputs": [
    {
     "data": {
      "text/html": [
       "<div>\n",
       "<style scoped>\n",
       "    .dataframe tbody tr th:only-of-type {\n",
       "        vertical-align: middle;\n",
       "    }\n",
       "\n",
       "    .dataframe tbody tr th {\n",
       "        vertical-align: top;\n",
       "    }\n",
       "\n",
       "    .dataframe thead th {\n",
       "        text-align: right;\n",
       "    }\n",
       "</style>\n",
       "<table border=\"1\" class=\"dataframe\">\n",
       "  <thead>\n",
       "    <tr style=\"text-align: right;\">\n",
       "      <th></th>\n",
       "      <th>dem</th>\n",
       "      <th>rep</th>\n",
       "      <th>same</th>\n",
       "      <th>pref</th>\n",
       "    </tr>\n",
       "  </thead>\n",
       "  <tbody>\n",
       "    <tr>\n",
       "      <th>1050</th>\n",
       "      <td>0.000000</td>\n",
       "      <td>0.615385</td>\n",
       "      <td>0.384615</td>\n",
       "      <td>rep</td>\n",
       "    </tr>\n",
       "    <tr>\n",
       "      <th>455</th>\n",
       "      <td>0.307692</td>\n",
       "      <td>0.692308</td>\n",
       "      <td>0.000000</td>\n",
       "      <td>rep</td>\n",
       "    </tr>\n",
       "    <tr>\n",
       "      <th>1364</th>\n",
       "      <td>0.384615</td>\n",
       "      <td>0.230769</td>\n",
       "      <td>0.384615</td>\n",
       "      <td>dem</td>\n",
       "    </tr>\n",
       "    <tr>\n",
       "      <th>1650</th>\n",
       "      <td>0.000000</td>\n",
       "      <td>0.846154</td>\n",
       "      <td>0.153846</td>\n",
       "      <td>rep</td>\n",
       "    </tr>\n",
       "    <tr>\n",
       "      <th>205</th>\n",
       "      <td>0.846154</td>\n",
       "      <td>0.000000</td>\n",
       "      <td>0.153846</td>\n",
       "      <td>dem</td>\n",
       "    </tr>\n",
       "  </tbody>\n",
       "</table>\n",
       "</div>"
      ],
      "text/plain": [
       "           dem       rep      same pref\n",
       "1050  0.000000  0.615385  0.384615  rep\n",
       "455   0.307692  0.692308  0.000000  rep\n",
       "1364  0.384615  0.230769  0.384615  dem\n",
       "1650  0.000000  0.846154  0.153846  rep\n",
       "205   0.846154  0.000000  0.153846  dem"
      ]
     },
     "execution_count": 180,
     "metadata": {},
     "output_type": "execute_result"
    },
    {
     "data": {
      "application/javascript": [
       "\n",
       "            setTimeout(function() {\n",
       "                var nbb_cell_id = 180;\n",
       "                var nbb_unformatted_code = \"sample[\\\"dem\\\"] = (data == 1).sum(axis=1) / count\\nsample[\\\"rep\\\"] = (data == 2).sum(axis=1) / count\\nsample[\\\"same\\\"] = (data == 3).sum(axis=1) / count\\n\\nsample[\\\"pref\\\"] = \\\"same\\\"\\nsample.loc[sample[\\\"dem\\\"] > sample[\\\"rep\\\"], \\\"pref\\\"] = \\\"dem\\\"\\nsample.loc[sample[\\\"rep\\\"] > sample[\\\"dem\\\"], \\\"pref\\\"] = \\\"rep\\\"\\n\\nsample[[\\\"dem\\\", \\\"rep\\\", \\\"same\\\", \\\"pref\\\"]].head()\";\n",
       "                var nbb_formatted_code = \"sample[\\\"dem\\\"] = (data == 1).sum(axis=1) / count\\nsample[\\\"rep\\\"] = (data == 2).sum(axis=1) / count\\nsample[\\\"same\\\"] = (data == 3).sum(axis=1) / count\\n\\nsample[\\\"pref\\\"] = \\\"same\\\"\\nsample.loc[sample[\\\"dem\\\"] > sample[\\\"rep\\\"], \\\"pref\\\"] = \\\"dem\\\"\\nsample.loc[sample[\\\"rep\\\"] > sample[\\\"dem\\\"], \\\"pref\\\"] = \\\"rep\\\"\\n\\nsample[[\\\"dem\\\", \\\"rep\\\", \\\"same\\\", \\\"pref\\\"]].head()\";\n",
       "                var nbb_cells = Jupyter.notebook.get_cells();\n",
       "                for (var i = 0; i < nbb_cells.length; ++i) {\n",
       "                    if (nbb_cells[i].input_prompt_number == nbb_cell_id) {\n",
       "                        if (nbb_cells[i].get_text() == nbb_unformatted_code) {\n",
       "                             nbb_cells[i].set_text(nbb_formatted_code);\n",
       "                        }\n",
       "                        break;\n",
       "                    }\n",
       "                }\n",
       "            }, 500);\n",
       "            "
      ],
      "text/plain": [
       "<IPython.core.display.Javascript object>"
      ]
     },
     "metadata": {},
     "output_type": "display_data"
    }
   ],
   "source": [
    "sample[\"dem\"] = (data == 1).sum(axis=1) / count\n",
    "sample[\"rep\"] = (data == 2).sum(axis=1) / count\n",
    "sample[\"same\"] = (data == 3).sum(axis=1) / count\n",
    "\n",
    "sample[\"pref\"] = \"same\"\n",
    "sample.loc[sample[\"dem\"] > sample[\"rep\"], \"pref\"] = \"dem\"\n",
    "sample.loc[sample[\"rep\"] > sample[\"dem\"], \"pref\"] = \"rep\"\n",
    "\n",
    "sample[[\"dem\", \"rep\", \"same\", \"pref\"]].head()"
   ]
  },
  {
   "cell_type": "code",
   "execution_count": 181,
   "id": "6ef86218",
   "metadata": {},
   "outputs": [
    {
     "data": {
      "text/html": [
       "<div>\n",
       "<style scoped>\n",
       "    .dataframe tbody tr th:only-of-type {\n",
       "        vertical-align: middle;\n",
       "    }\n",
       "\n",
       "    .dataframe tbody tr th {\n",
       "        vertical-align: top;\n",
       "    }\n",
       "\n",
       "    .dataframe thead th {\n",
       "        text-align: right;\n",
       "    }\n",
       "</style>\n",
       "<table border=\"1\" class=\"dataframe\">\n",
       "  <thead>\n",
       "    <tr style=\"text-align: right;\">\n",
       "      <th></th>\n",
       "      <th>counts</th>\n",
       "    </tr>\n",
       "    <tr>\n",
       "      <th>values</th>\n",
       "      <th></th>\n",
       "    </tr>\n",
       "  </thead>\n",
       "  <tbody>\n",
       "    <tr>\n",
       "      <th>dem</th>\n",
       "      <td>897</td>\n",
       "    </tr>\n",
       "    <tr>\n",
       "      <th>rep</th>\n",
       "      <td>772</td>\n",
       "    </tr>\n",
       "    <tr>\n",
       "      <th>same</th>\n",
       "      <td>240</td>\n",
       "    </tr>\n",
       "  </tbody>\n",
       "</table>\n",
       "</div>"
      ],
      "text/plain": [
       "        counts\n",
       "values        \n",
       "dem        897\n",
       "rep        772\n",
       "same       240"
      ]
     },
     "execution_count": 181,
     "metadata": {},
     "output_type": "execute_result"
    },
    {
     "data": {
      "application/javascript": [
       "\n",
       "            setTimeout(function() {\n",
       "                var nbb_cell_id = 181;\n",
       "                var nbb_unformatted_code = \"value_counts(sample[\\\"pref\\\"])\";\n",
       "                var nbb_formatted_code = \"value_counts(sample[\\\"pref\\\"])\";\n",
       "                var nbb_cells = Jupyter.notebook.get_cells();\n",
       "                for (var i = 0; i < nbb_cells.length; ++i) {\n",
       "                    if (nbb_cells[i].input_prompt_number == nbb_cell_id) {\n",
       "                        if (nbb_cells[i].get_text() == nbb_unformatted_code) {\n",
       "                             nbb_cells[i].set_text(nbb_formatted_code);\n",
       "                        }\n",
       "                        break;\n",
       "                    }\n",
       "                }\n",
       "            }, 500);\n",
       "            "
      ],
      "text/plain": [
       "<IPython.core.display.Javascript object>"
      ]
     },
     "metadata": {},
     "output_type": "display_data"
    }
   ],
   "source": [
    "value_counts(sample[\"pref\"])"
   ]
  },
  {
   "cell_type": "markdown",
   "id": "82b83dee",
   "metadata": {},
   "source": [
    "People who identify as Democrats are more likely to think the Democratic party handles these issues better, and people who identify as Republican are more likely to think the Republican party does -- but there are some exceptions in both directions, which might reflect data quality problems."
   ]
  },
  {
   "cell_type": "code",
   "execution_count": 182,
   "id": "a4da396a",
   "metadata": {},
   "outputs": [
    {
     "data": {
      "text/html": [
       "<div>\n",
       "<style scoped>\n",
       "    .dataframe tbody tr th:only-of-type {\n",
       "        vertical-align: middle;\n",
       "    }\n",
       "\n",
       "    .dataframe tbody tr th {\n",
       "        vertical-align: top;\n",
       "    }\n",
       "\n",
       "    .dataframe thead th {\n",
       "        text-align: right;\n",
       "    }\n",
       "</style>\n",
       "<table border=\"1\" class=\"dataframe\">\n",
       "  <thead>\n",
       "    <tr style=\"text-align: right;\">\n",
       "      <th>pref</th>\n",
       "      <th>dem</th>\n",
       "      <th>rep</th>\n",
       "      <th>same</th>\n",
       "    </tr>\n",
       "    <tr>\n",
       "      <th>pid</th>\n",
       "      <th></th>\n",
       "      <th></th>\n",
       "      <th></th>\n",
       "    </tr>\n",
       "  </thead>\n",
       "  <tbody>\n",
       "    <tr>\n",
       "      <th>1.0</th>\n",
       "      <td>635</td>\n",
       "      <td>32</td>\n",
       "      <td>44</td>\n",
       "    </tr>\n",
       "    <tr>\n",
       "      <th>2.0</th>\n",
       "      <td>17</td>\n",
       "      <td>471</td>\n",
       "      <td>29</td>\n",
       "    </tr>\n",
       "    <tr>\n",
       "      <th>3.0</th>\n",
       "      <td>245</td>\n",
       "      <td>269</td>\n",
       "      <td>167</td>\n",
       "    </tr>\n",
       "  </tbody>\n",
       "</table>\n",
       "</div>"
      ],
      "text/plain": [
       "pref  dem  rep  same\n",
       "pid                 \n",
       "1.0   635   32    44\n",
       "2.0    17  471    29\n",
       "3.0   245  269   167"
      ]
     },
     "execution_count": 182,
     "metadata": {},
     "output_type": "execute_result"
    },
    {
     "data": {
      "application/javascript": [
       "\n",
       "            setTimeout(function() {\n",
       "                var nbb_cell_id = 182;\n",
       "                var nbb_unformatted_code = \"pd.crosstab(sample[\\\"pid\\\"], sample[\\\"pref\\\"])\";\n",
       "                var nbb_formatted_code = \"pd.crosstab(sample[\\\"pid\\\"], sample[\\\"pref\\\"])\";\n",
       "                var nbb_cells = Jupyter.notebook.get_cells();\n",
       "                for (var i = 0; i < nbb_cells.length; ++i) {\n",
       "                    if (nbb_cells[i].input_prompt_number == nbb_cell_id) {\n",
       "                        if (nbb_cells[i].get_text() == nbb_unformatted_code) {\n",
       "                             nbb_cells[i].set_text(nbb_formatted_code);\n",
       "                        }\n",
       "                        break;\n",
       "                    }\n",
       "                }\n",
       "            }, 500);\n",
       "            "
      ],
      "text/plain": [
       "<IPython.core.display.Javascript object>"
      ]
     },
     "metadata": {},
     "output_type": "display_data"
    }
   ],
   "source": [
    "pd.crosstab(sample[\"pid\"], sample[\"pref\"])"
   ]
  },
  {
   "cell_type": "markdown",
   "id": "9d247815",
   "metadata": {},
   "source": [
    "Here's the distribution of partisanship."
   ]
  },
  {
   "cell_type": "code",
   "execution_count": 183,
   "id": "48eef9f8",
   "metadata": {},
   "outputs": [
    {
     "data": {
      "image/png": "[encoded data removed]",
      "text/plain": [
       "<Figure size 450x262.5 with 1 Axes>"
      ]
     },
     "metadata": {},
     "output_type": "display_data"
    },
    {
     "data": {
      "application/javascript": [
       "\n",
       "            setTimeout(function() {\n",
       "                var nbb_cell_id = 183;\n",
       "                var nbb_unformatted_code = \"from empiricaldist import Cdf\\n\\nsample[\\\"partisanship\\\"] = sample[[\\\"dem\\\", \\\"rep\\\"]].max(axis=1)\\nCdf.from_seq(sample[\\\"partisanship\\\"]).plot(label=\\\"partisanship\\\")\\ndecorate(xlabel=\\\"Partisanship\\\", ylabel=\\\"CDF\\\")\";\n",
       "                var nbb_formatted_code = \"from empiricaldist import Cdf\\n\\nsample[\\\"partisanship\\\"] = sample[[\\\"dem\\\", \\\"rep\\\"]].max(axis=1)\\nCdf.from_seq(sample[\\\"partisanship\\\"]).plot(label=\\\"partisanship\\\")\\ndecorate(xlabel=\\\"Partisanship\\\", ylabel=\\\"CDF\\\")\";\n",
       "                var nbb_cells = Jupyter.notebook.get_cells();\n",
       "                for (var i = 0; i < nbb_cells.length; ++i) {\n",
       "                    if (nbb_cells[i].input_prompt_number == nbb_cell_id) {\n",
       "                        if (nbb_cells[i].get_text() == nbb_unformatted_code) {\n",
       "                             nbb_cells[i].set_text(nbb_formatted_code);\n",
       "                        }\n",
       "                        break;\n",
       "                    }\n",
       "                }\n",
       "            }, 500);\n",
       "            "
      ],
      "text/plain": [
       "<IPython.core.display.Javascript object>"
      ]
     },
     "metadata": {},
     "output_type": "display_data"
    }
   ],
   "source": [
    "from empiricaldist import Cdf\n",
    "\n",
    "sample[\"partisanship\"] = sample[[\"dem\", \"rep\"]].max(axis=1)\n",
    "Cdf.from_seq(sample[\"partisanship\"]).plot(label=\"partisanship\")\n",
    "decorate(xlabel=\"Partisanship\", ylabel=\"CDF\")"
   ]
  },
  {
   "cell_type": "markdown",
   "id": "6e7754bf",
   "metadata": {},
   "source": [
    "A score of 0 means the respondent said \"same\" to every questions. A score of 1 means they said that one party or the other handles every issue better."
   ]
  },
  {
   "cell_type": "code",
   "execution_count": 184,
   "id": "1614e12f",
   "metadata": {},
   "outputs": [
    {
     "data": {
      "application/javascript": [
       "\n",
       "            setTimeout(function() {\n",
       "                var nbb_cell_id = 184;\n",
       "                var nbb_unformatted_code = \"sample_male = sample.query(\\\"gender == 1\\\")\\nsample_female = sample.query(\\\"gender == 2\\\")\";\n",
       "                var nbb_formatted_code = \"sample_male = sample.query(\\\"gender == 1\\\")\\nsample_female = sample.query(\\\"gender == 2\\\")\";\n",
       "                var nbb_cells = Jupyter.notebook.get_cells();\n",
       "                for (var i = 0; i < nbb_cells.length; ++i) {\n",
       "                    if (nbb_cells[i].input_prompt_number == nbb_cell_id) {\n",
       "                        if (nbb_cells[i].get_text() == nbb_unformatted_code) {\n",
       "                             nbb_cells[i].set_text(nbb_formatted_code);\n",
       "                        }\n",
       "                        break;\n",
       "                    }\n",
       "                }\n",
       "            }, 500);\n",
       "            "
      ],
      "text/plain": [
       "<IPython.core.display.Javascript object>"
      ]
     },
     "metadata": {},
     "output_type": "display_data"
    }
   ],
   "source": [
    "sample_male = sample.query(\"gender == 1\")\n",
    "sample_female = sample.query(\"gender == 2\")"
   ]
  },
  {
   "cell_type": "markdown",
   "id": "5ae014f9",
   "metadata": {},
   "source": [
    "Men are more partisan than women."
   ]
  },
  {
   "cell_type": "code",
   "execution_count": 185,
   "id": "bd03a63a",
   "metadata": {},
   "outputs": [
    {
     "data": {
      "text/plain": [
       "gender\n",
       "1.0    0.676102\n",
       "2.0    0.582154\n",
       "Name: partisanship, dtype: float64"
      ]
     },
     "execution_count": 185,
     "metadata": {},
     "output_type": "execute_result"
    },
    {
     "data": {
      "application/javascript": [
       "\n",
       "            setTimeout(function() {\n",
       "                var nbb_cell_id = 185;\n",
       "                var nbb_unformatted_code = \"sample.groupby(\\\"gender\\\")[\\\"partisanship\\\"].mean()\";\n",
       "                var nbb_formatted_code = \"sample.groupby(\\\"gender\\\")[\\\"partisanship\\\"].mean()\";\n",
       "                var nbb_cells = Jupyter.notebook.get_cells();\n",
       "                for (var i = 0; i < nbb_cells.length; ++i) {\n",
       "                    if (nbb_cells[i].input_prompt_number == nbb_cell_id) {\n",
       "                        if (nbb_cells[i].get_text() == nbb_unformatted_code) {\n",
       "                             nbb_cells[i].set_text(nbb_formatted_code);\n",
       "                        }\n",
       "                        break;\n",
       "                    }\n",
       "                }\n",
       "            }, 500);\n",
       "            "
      ],
      "text/plain": [
       "<IPython.core.display.Javascript object>"
      ]
     },
     "metadata": {},
     "output_type": "display_data"
    }
   ],
   "source": [
    "sample.groupby(\"gender\")[\"partisanship\"].mean()"
   ]
  },
  {
   "cell_type": "markdown",
   "id": "7d041a38",
   "metadata": {},
   "source": [
    "If we break it down by gender and party identification, republicans are more partisan than democrats, independent/other are less partisan than both.\n"
   ]
  },
  {
   "cell_type": "code",
   "execution_count": 186,
   "id": "1a644cb6",
   "metadata": {},
   "outputs": [
    {
     "data": {
      "text/html": [
       "<div>\n",
       "<style scoped>\n",
       "    .dataframe tbody tr th:only-of-type {\n",
       "        vertical-align: middle;\n",
       "    }\n",
       "\n",
       "    .dataframe tbody tr th {\n",
       "        vertical-align: top;\n",
       "    }\n",
       "\n",
       "    .dataframe thead th {\n",
       "        text-align: right;\n",
       "    }\n",
       "</style>\n",
       "<table border=\"1\" class=\"dataframe\">\n",
       "  <thead>\n",
       "    <tr style=\"text-align: right;\">\n",
       "      <th></th>\n",
       "      <th>dem</th>\n",
       "      <th>rep</th>\n",
       "      <th>ind/other</th>\n",
       "      <th>all</th>\n",
       "    </tr>\n",
       "  </thead>\n",
       "  <tbody>\n",
       "    <tr>\n",
       "      <th>male</th>\n",
       "      <td>0.725253</td>\n",
       "      <td>0.773020</td>\n",
       "      <td>0.551479</td>\n",
       "      <td>0.676102</td>\n",
       "    </tr>\n",
       "    <tr>\n",
       "      <th>female</th>\n",
       "      <td>0.664747</td>\n",
       "      <td>0.683476</td>\n",
       "      <td>0.418539</td>\n",
       "      <td>0.582154</td>\n",
       "    </tr>\n",
       "    <tr>\n",
       "      <th>all</th>\n",
       "      <td>0.693426</td>\n",
       "      <td>0.726256</td>\n",
       "      <td>0.481984</td>\n",
       "      <td>0.626889</td>\n",
       "    </tr>\n",
       "  </tbody>\n",
       "</table>\n",
       "</div>"
      ],
      "text/plain": [
       "             dem       rep  ind/other       all\n",
       "male    0.725253  0.773020   0.551479  0.676102\n",
       "female  0.664747  0.683476   0.418539  0.582154\n",
       "all     0.693426  0.726256   0.481984  0.626889"
      ]
     },
     "execution_count": 186,
     "metadata": {},
     "output_type": "execute_result"
    },
    {
     "data": {
      "application/javascript": [
       "\n",
       "            setTimeout(function() {\n",
       "                var nbb_cell_id = 186;\n",
       "                var nbb_unformatted_code = \"tab = sample.pivot_table(\\n    index=\\\"gender\\\",\\n    columns=\\\"pid\\\",\\n    values=\\\"partisanship\\\",\\n    aggfunc=\\\"mean\\\",\\n    margins=True,\\n)\\ntab.columns = [\\\"dem\\\", \\\"rep\\\", \\\"ind/other\\\", \\\"all\\\"]\\ntab.index = [\\\"male\\\", \\\"female\\\", \\\"all\\\"]\\ntab\";\n",
       "                var nbb_formatted_code = \"tab = sample.pivot_table(\\n    index=\\\"gender\\\",\\n    columns=\\\"pid\\\",\\n    values=\\\"partisanship\\\",\\n    aggfunc=\\\"mean\\\",\\n    margins=True,\\n)\\ntab.columns = [\\\"dem\\\", \\\"rep\\\", \\\"ind/other\\\", \\\"all\\\"]\\ntab.index = [\\\"male\\\", \\\"female\\\", \\\"all\\\"]\\ntab\";\n",
       "                var nbb_cells = Jupyter.notebook.get_cells();\n",
       "                for (var i = 0; i < nbb_cells.length; ++i) {\n",
       "                    if (nbb_cells[i].input_prompt_number == nbb_cell_id) {\n",
       "                        if (nbb_cells[i].get_text() == nbb_unformatted_code) {\n",
       "                             nbb_cells[i].set_text(nbb_formatted_code);\n",
       "                        }\n",
       "                        break;\n",
       "                    }\n",
       "                }\n",
       "            }, 500);\n",
       "            "
      ],
      "text/plain": [
       "<IPython.core.display.Javascript object>"
      ]
     },
     "metadata": {},
     "output_type": "display_data"
    }
   ],
   "source": [
    "tab = sample.pivot_table(\n",
    "    index=\"gender\",\n",
    "    columns=\"pid\",\n",
    "    values=\"partisanship\",\n",
    "    aggfunc=\"mean\",\n",
    "    margins=True,\n",
    ")\n",
    "tab.columns = [\"dem\", \"rep\", \"ind/other\", \"all\"]\n",
    "tab.index = [\"male\", \"female\", \"all\"]\n",
    "tab"
   ]
  },
  {
   "cell_type": "markdown",
   "id": "a261a4c7",
   "metadata": {},
   "source": [
    "Here are responses to \"Some people don’t pay much attention to political campaigns.\n",
    "How about you? Would you say that you have been [very much interested, somewhat\n",
    "interested or not much interested/ not much interested, somewhat interested or very\n",
    "much interested] in the political campaigns so far this year?\"\n",
    "\n",
    "```\n",
    "1. Very much interested\n",
    "2. Somewhat interested\n",
    "3. Not much interested\n",
    "```"
   ]
  },
  {
   "cell_type": "code",
   "execution_count": 187,
   "id": "51649cd5",
   "metadata": {},
   "outputs": [
    {
     "data": {
      "text/html": [
       "<div>\n",
       "<style scoped>\n",
       "    .dataframe tbody tr th:only-of-type {\n",
       "        vertical-align: middle;\n",
       "    }\n",
       "\n",
       "    .dataframe tbody tr th {\n",
       "        vertical-align: top;\n",
       "    }\n",
       "\n",
       "    .dataframe thead th {\n",
       "        text-align: right;\n",
       "    }\n",
       "</style>\n",
       "<table border=\"1\" class=\"dataframe\">\n",
       "  <thead>\n",
       "    <tr style=\"text-align: right;\">\n",
       "      <th></th>\n",
       "      <th>counts</th>\n",
       "    </tr>\n",
       "    <tr>\n",
       "      <th>values</th>\n",
       "      <th></th>\n",
       "    </tr>\n",
       "  </thead>\n",
       "  <tbody>\n",
       "    <tr>\n",
       "      <th>1.0</th>\n",
       "      <td>790</td>\n",
       "    </tr>\n",
       "    <tr>\n",
       "      <th>2.0</th>\n",
       "      <td>711</td>\n",
       "    </tr>\n",
       "    <tr>\n",
       "      <th>3.0</th>\n",
       "      <td>408</td>\n",
       "    </tr>\n",
       "  </tbody>\n",
       "</table>\n",
       "</div>"
      ],
      "text/plain": [
       "        counts\n",
       "values        \n",
       "1.0        790\n",
       "2.0        711\n",
       "3.0        408"
      ]
     },
     "execution_count": 187,
     "metadata": {},
     "output_type": "execute_result"
    },
    {
     "data": {
      "application/javascript": [
       "\n",
       "            setTimeout(function() {\n",
       "                var nbb_cell_id = 187;\n",
       "                var nbb_unformatted_code = \"value_counts(sample[\\\"follow_campinterest\\\"])\";\n",
       "                var nbb_formatted_code = \"value_counts(sample[\\\"follow_campinterest\\\"])\";\n",
       "                var nbb_cells = Jupyter.notebook.get_cells();\n",
       "                for (var i = 0; i < nbb_cells.length; ++i) {\n",
       "                    if (nbb_cells[i].input_prompt_number == nbb_cell_id) {\n",
       "                        if (nbb_cells[i].get_text() == nbb_unformatted_code) {\n",
       "                             nbb_cells[i].set_text(nbb_formatted_code);\n",
       "                        }\n",
       "                        break;\n",
       "                    }\n",
       "                }\n",
       "            }, 500);\n",
       "            "
      ],
      "text/plain": [
       "<IPython.core.display.Javascript object>"
      ]
     },
     "metadata": {},
     "output_type": "display_data"
    }
   ],
   "source": [
    "value_counts(sample[\"follow_campinterest\"])"
   ]
  },
  {
   "cell_type": "markdown",
   "id": "189f86d5",
   "metadata": {},
   "source": [
    "People who follow more closely are more partisan. The arrow of causation could go both ways there."
   ]
  },
  {
   "cell_type": "code",
   "execution_count": 188,
   "id": "305840f6",
   "metadata": {},
   "outputs": [
    {
     "data": {
      "text/html": [
       "<div>\n",
       "<style scoped>\n",
       "    .dataframe tbody tr th:only-of-type {\n",
       "        vertical-align: middle;\n",
       "    }\n",
       "\n",
       "    .dataframe tbody tr th {\n",
       "        vertical-align: top;\n",
       "    }\n",
       "\n",
       "    .dataframe thead th {\n",
       "        text-align: right;\n",
       "    }\n",
       "</style>\n",
       "<table border=\"1\" class=\"dataframe\">\n",
       "  <thead>\n",
       "    <tr style=\"text-align: right;\">\n",
       "      <th>follow_campinterest</th>\n",
       "      <th>1.0</th>\n",
       "      <th>2.0</th>\n",
       "      <th>3.0</th>\n",
       "    </tr>\n",
       "    <tr>\n",
       "      <th>gender</th>\n",
       "      <th></th>\n",
       "      <th></th>\n",
       "      <th></th>\n",
       "    </tr>\n",
       "  </thead>\n",
       "  <tbody>\n",
       "    <tr>\n",
       "      <th>1.0</th>\n",
       "      <td>0.510451</td>\n",
       "      <td>0.355336</td>\n",
       "      <td>0.134213</td>\n",
       "    </tr>\n",
       "    <tr>\n",
       "      <th>2.0</th>\n",
       "      <td>0.326000</td>\n",
       "      <td>0.388000</td>\n",
       "      <td>0.286000</td>\n",
       "    </tr>\n",
       "  </tbody>\n",
       "</table>\n",
       "</div>"
      ],
      "text/plain": [
       "follow_campinterest       1.0       2.0       3.0\n",
       "gender                                           \n",
       "1.0                  0.510451  0.355336  0.134213\n",
       "2.0                  0.326000  0.388000  0.286000"
      ]
     },
     "execution_count": 188,
     "metadata": {},
     "output_type": "execute_result"
    },
    {
     "data": {
      "application/javascript": [
       "\n",
       "            setTimeout(function() {\n",
       "                var nbb_cell_id = 188;\n",
       "                var nbb_unformatted_code = \"pd.crosstab(sample[\\\"gender\\\"], sample[\\\"follow_campinterest\\\"], normalize=\\\"index\\\")\";\n",
       "                var nbb_formatted_code = \"pd.crosstab(sample[\\\"gender\\\"], sample[\\\"follow_campinterest\\\"], normalize=\\\"index\\\")\";\n",
       "                var nbb_cells = Jupyter.notebook.get_cells();\n",
       "                for (var i = 0; i < nbb_cells.length; ++i) {\n",
       "                    if (nbb_cells[i].input_prompt_number == nbb_cell_id) {\n",
       "                        if (nbb_cells[i].get_text() == nbb_unformatted_code) {\n",
       "                             nbb_cells[i].set_text(nbb_formatted_code);\n",
       "                        }\n",
       "                        break;\n",
       "                    }\n",
       "                }\n",
       "            }, 500);\n",
       "            "
      ],
      "text/plain": [
       "<IPython.core.display.Javascript object>"
      ]
     },
     "metadata": {},
     "output_type": "display_data"
    }
   ],
   "source": [
    "pd.crosstab(sample[\"gender\"], sample[\"follow_campinterest\"], normalize=\"index\")"
   ]
  },
  {
   "cell_type": "code",
   "execution_count": 189,
   "id": "bc04d285",
   "metadata": {},
   "outputs": [
    {
     "data": {
      "text/html": [
       "<div>\n",
       "<style scoped>\n",
       "    .dataframe tbody tr th:only-of-type {\n",
       "        vertical-align: middle;\n",
       "    }\n",
       "\n",
       "    .dataframe tbody tr th {\n",
       "        vertical-align: top;\n",
       "    }\n",
       "\n",
       "    .dataframe thead th {\n",
       "        text-align: right;\n",
       "    }\n",
       "</style>\n",
       "<table border=\"1\" class=\"dataframe\">\n",
       "  <thead>\n",
       "    <tr style=\"text-align: right;\">\n",
       "      <th></th>\n",
       "      <th>very</th>\n",
       "      <th>somewhat</th>\n",
       "      <th>not much</th>\n",
       "      <th>all</th>\n",
       "    </tr>\n",
       "  </thead>\n",
       "  <tbody>\n",
       "    <tr>\n",
       "      <th>male</th>\n",
       "      <td>0.761660</td>\n",
       "      <td>0.649004</td>\n",
       "      <td>0.422446</td>\n",
       "      <td>0.676102</td>\n",
       "    </tr>\n",
       "    <tr>\n",
       "      <th>female</th>\n",
       "      <td>0.780557</td>\n",
       "      <td>0.600912</td>\n",
       "      <td>0.330554</td>\n",
       "      <td>0.582154</td>\n",
       "    </tr>\n",
       "    <tr>\n",
       "      <th>all</th>\n",
       "      <td>0.769458</td>\n",
       "      <td>0.622760</td>\n",
       "      <td>0.358032</td>\n",
       "      <td>0.626889</td>\n",
       "    </tr>\n",
       "  </tbody>\n",
       "</table>\n",
       "</div>"
      ],
      "text/plain": [
       "            very  somewhat  not much       all\n",
       "male    0.761660  0.649004  0.422446  0.676102\n",
       "female  0.780557  0.600912  0.330554  0.582154\n",
       "all     0.769458  0.622760  0.358032  0.626889"
      ]
     },
     "execution_count": 189,
     "metadata": {},
     "output_type": "execute_result"
    },
    {
     "data": {
      "application/javascript": [
       "\n",
       "            setTimeout(function() {\n",
       "                var nbb_cell_id = 189;\n",
       "                var nbb_unformatted_code = \"tab = sample.pivot_table(\\n    index=\\\"gender\\\",\\n    columns=\\\"follow_campinterest\\\",\\n    values=\\\"partisanship\\\",\\n    aggfunc=\\\"mean\\\",\\n    margins=True,\\n)\\ntab.columns = [\\\"very\\\", \\\"somewhat\\\", \\\"not much\\\", \\\"all\\\"]\\ntab.index = [\\\"male\\\", \\\"female\\\", \\\"all\\\"]\\ntab\";\n",
       "                var nbb_formatted_code = \"tab = sample.pivot_table(\\n    index=\\\"gender\\\",\\n    columns=\\\"follow_campinterest\\\",\\n    values=\\\"partisanship\\\",\\n    aggfunc=\\\"mean\\\",\\n    margins=True,\\n)\\ntab.columns = [\\\"very\\\", \\\"somewhat\\\", \\\"not much\\\", \\\"all\\\"]\\ntab.index = [\\\"male\\\", \\\"female\\\", \\\"all\\\"]\\ntab\";\n",
       "                var nbb_cells = Jupyter.notebook.get_cells();\n",
       "                for (var i = 0; i < nbb_cells.length; ++i) {\n",
       "                    if (nbb_cells[i].input_prompt_number == nbb_cell_id) {\n",
       "                        if (nbb_cells[i].get_text() == nbb_unformatted_code) {\n",
       "                             nbb_cells[i].set_text(nbb_formatted_code);\n",
       "                        }\n",
       "                        break;\n",
       "                    }\n",
       "                }\n",
       "            }, 500);\n",
       "            "
      ],
      "text/plain": [
       "<IPython.core.display.Javascript object>"
      ]
     },
     "metadata": {},
     "output_type": "display_data"
    }
   ],
   "source": [
    "tab = sample.pivot_table(\n",
    "    index=\"gender\",\n",
    "    columns=\"follow_campinterest\",\n",
    "    values=\"partisanship\",\n",
    "    aggfunc=\"mean\",\n",
    "    margins=True,\n",
    ")\n",
    "tab.columns = [\"very\", \"somewhat\", \"not much\", \"all\"]\n",
    "tab.index = [\"male\", \"female\", \"all\"]\n",
    "tab"
   ]
  },
  {
   "cell_type": "markdown",
   "id": "1d439557",
   "metadata": {},
   "source": [
    "## Regression models\n",
    "\n",
    "To put it all together, we'll run some regressions with partisanship as the dependent variable."
   ]
  },
  {
   "cell_type": "code",
   "execution_count": 190,
   "id": "c106d0b2",
   "metadata": {},
   "outputs": [
    {
     "data": {
      "application/javascript": [
       "\n",
       "            setTimeout(function() {\n",
       "                var nbb_cell_id = 190;\n",
       "                var nbb_unformatted_code = \"from statsmodels.iolib.table import SimpleTable\\n\\n\\ndef display_summary(result):\\n    \\\"\\\"\\\"Prints summary statistics from a regression model.\\n\\n    result: RegressionResults object\\n    \\\"\\\"\\\"\\n    params = result.summary().tables[1]\\n    display(params)\\n\\n    if hasattr(result, \\\"rsquared\\\"):\\n        row = [\\\"R-squared:\\\", f\\\"{result.rsquared:0.4}\\\"]\\n    elif hasattr(result, \\\"prsquared\\\"):\\n        row = [\\\"Pseudo R-squared:\\\", f\\\"{result.prsquared:0.4}\\\"]\\n    else:\\n        return\\n    table = SimpleTable([row])\\n    display(table)\";\n",
       "                var nbb_formatted_code = \"from statsmodels.iolib.table import SimpleTable\\n\\n\\ndef display_summary(result):\\n    \\\"\\\"\\\"Prints summary statistics from a regression model.\\n\\n    result: RegressionResults object\\n    \\\"\\\"\\\"\\n    params = result.summary().tables[1]\\n    display(params)\\n\\n    if hasattr(result, \\\"rsquared\\\"):\\n        row = [\\\"R-squared:\\\", f\\\"{result.rsquared:0.4}\\\"]\\n    elif hasattr(result, \\\"prsquared\\\"):\\n        row = [\\\"Pseudo R-squared:\\\", f\\\"{result.prsquared:0.4}\\\"]\\n    else:\\n        return\\n    table = SimpleTable([row])\\n    display(table)\";\n",
       "                var nbb_cells = Jupyter.notebook.get_cells();\n",
       "                for (var i = 0; i < nbb_cells.length; ++i) {\n",
       "                    if (nbb_cells[i].input_prompt_number == nbb_cell_id) {\n",
       "                        if (nbb_cells[i].get_text() == nbb_unformatted_code) {\n",
       "                             nbb_cells[i].set_text(nbb_formatted_code);\n",
       "                        }\n",
       "                        break;\n",
       "                    }\n",
       "                }\n",
       "            }, 500);\n",
       "            "
      ],
      "text/plain": [
       "<IPython.core.display.Javascript object>"
      ]
     },
     "metadata": {},
     "output_type": "display_data"
    }
   ],
   "source": [
    "from statsmodels.iolib.table import SimpleTable\n",
    "\n",
    "\n",
    "def display_summary(result):\n",
    "    \"\"\"Prints summary statistics from a regression model.\n",
    "\n",
    "    result: RegressionResults object\n",
    "    \"\"\"\n",
    "    params = result.summary().tables[1]\n",
    "    display(params)\n",
    "\n",
    "    if hasattr(result, \"rsquared\"):\n",
    "        row = [\"R-squared:\", f\"{result.rsquared:0.4}\"]\n",
    "    elif hasattr(result, \"prsquared\"):\n",
    "        row = [\"Pseudo R-squared:\", f\"{result.prsquared:0.4}\"]\n",
    "    else:\n",
    "        return\n",
    "    table = SimpleTable([row])\n",
    "    display(table)"
   ]
  },
  {
   "cell_type": "markdown",
   "id": "90e0e702",
   "metadata": {},
   "source": [
    "Women are less partisan."
   ]
  },
  {
   "cell_type": "code",
   "execution_count": 191,
   "id": "61f17923",
   "metadata": {},
   "outputs": [
    {
     "data": {
      "text/html": [
       "<table class=\"simpletable\">\n",
       "<tr>\n",
       "          <td></td>            <th>coef</th>     <th>std err</th>      <th>t</th>      <th>P>|t|</th>  <th>[0.025</th>    <th>0.975]</th>  \n",
       "</tr>\n",
       "<tr>\n",
       "  <th>Intercept</th>        <td>    0.6761</td> <td>    0.011</td> <td>   61.744</td> <td> 0.000</td> <td>    0.655</td> <td>    0.698</td>\n",
       "</tr>\n",
       "<tr>\n",
       "  <th>C(gender)[T.2.0]</th> <td>   -0.0939</td> <td>    0.015</td> <td>   -6.210</td> <td> 0.000</td> <td>   -0.124</td> <td>   -0.064</td>\n",
       "</tr>\n",
       "</table>"
      ],
      "text/latex": [
       "\\begin{center}\n",
       "\\begin{tabular}{lcccccc}\n",
       "\\toprule\n",
       "                          & \\textbf{coef} & \\textbf{std err} & \\textbf{t} & \\textbf{P$> |$t$|$} & \\textbf{[0.025} & \\textbf{0.975]}  \\\\\n",
       "\\midrule\n",
       "\\textbf{Intercept}        &       0.6761  &        0.011     &    61.744  &         0.000        &        0.655    &        0.698     \\\\\n",
       "\\textbf{C(gender)[T.2.0]} &      -0.0939  &        0.015     &    -6.210  &         0.000        &       -0.124    &       -0.064     \\\\\n",
       "\\bottomrule\n",
       "\\end{tabular}\n",
       "\\end{center}"
      ],
      "text/plain": [
       "<class 'statsmodels.iolib.table.SimpleTable'>"
      ]
     },
     "metadata": {},
     "output_type": "display_data"
    },
    {
     "data": {
      "text/html": [
       "<table class=\"simpletable\">\n",
       "<tr>\n",
       "  <td>R-squared:</td> <td>0.01982</td>\n",
       "</tr>\n",
       "</table>"
      ],
      "text/latex": [
       "\\begin{center}\n",
       "\\begin{tabular}{cc}\n",
       "\\toprule\n",
       "R-squared: & 0.01982  \\\\\n",
       "\\bottomrule\n",
       "\\end{tabular}\n",
       "\\end{center}"
      ],
      "text/plain": [
       "<class 'statsmodels.iolib.table.SimpleTable'>"
      ]
     },
     "metadata": {},
     "output_type": "display_data"
    },
    {
     "data": {
      "application/javascript": [
       "\n",
       "            setTimeout(function() {\n",
       "                var nbb_cell_id = 191;\n",
       "                var nbb_unformatted_code = \"import statsmodels.formula.api as smf\\n\\nmodel = smf.ols('partisanship ~ C(gender)', data=sample).fit()\\ndisplay_summary(model)\";\n",
       "                var nbb_formatted_code = \"import statsmodels.formula.api as smf\\n\\nmodel = smf.ols(\\\"partisanship ~ C(gender)\\\", data=sample).fit()\\ndisplay_summary(model)\";\n",
       "                var nbb_cells = Jupyter.notebook.get_cells();\n",
       "                for (var i = 0; i < nbb_cells.length; ++i) {\n",
       "                    if (nbb_cells[i].input_prompt_number == nbb_cell_id) {\n",
       "                        if (nbb_cells[i].get_text() == nbb_unformatted_code) {\n",
       "                             nbb_cells[i].set_text(nbb_formatted_code);\n",
       "                        }\n",
       "                        break;\n",
       "                    }\n",
       "                }\n",
       "            }, 500);\n",
       "            "
      ],
      "text/plain": [
       "<IPython.core.display.Javascript object>"
      ]
     },
     "metadata": {},
     "output_type": "display_data"
    }
   ],
   "source": [
    "import statsmodels.formula.api as smf\n",
    "\n",
    "model = smf.ols('partisanship ~ C(gender)', data=sample).fit()\n",
    "display_summary(model)\n"
   ]
  },
  {
   "cell_type": "markdown",
   "id": "da06546a",
   "metadata": {},
   "source": [
    "Controlling for gender, republicans are (still) more partisan, independent/other are less."
   ]
  },
  {
   "cell_type": "code",
   "execution_count": 192,
   "id": "12fd182c",
   "metadata": {},
   "outputs": [
    {
     "data": {
      "text/html": [
       "<table class=\"simpletable\">\n",
       "<tr>\n",
       "          <td></td>            <th>coef</th>     <th>std err</th>      <th>t</th>      <th>P>|t|</th>  <th>[0.025</th>    <th>0.975]</th>  \n",
       "</tr>\n",
       "<tr>\n",
       "  <th>Intercept</th>        <td>    0.7430</td> <td>    0.014</td> <td>   53.439</td> <td> 0.000</td> <td>    0.716</td> <td>    0.770</td>\n",
       "</tr>\n",
       "<tr>\n",
       "  <th>C(gender)[T.2.0]</th> <td>   -0.0942</td> <td>    0.014</td> <td>   -6.592</td> <td> 0.000</td> <td>   -0.122</td> <td>   -0.066</td>\n",
       "</tr>\n",
       "<tr>\n",
       "  <th>C(pid)[T.2.0]</th>    <td>    0.0325</td> <td>    0.018</td> <td>    1.802</td> <td> 0.072</td> <td>   -0.003</td> <td>    0.068</td>\n",
       "</tr>\n",
       "<tr>\n",
       "  <th>C(pid)[T.3.0]</th>    <td>   -0.2117</td> <td>    0.017</td> <td>  -12.663</td> <td> 0.000</td> <td>   -0.245</td> <td>   -0.179</td>\n",
       "</tr>\n",
       "</table>"
      ],
      "text/latex": [
       "\\begin{center}\n",
       "\\begin{tabular}{lcccccc}\n",
       "\\toprule\n",
       "                          & \\textbf{coef} & \\textbf{std err} & \\textbf{t} & \\textbf{P$> |$t$|$} & \\textbf{[0.025} & \\textbf{0.975]}  \\\\\n",
       "\\midrule\n",
       "\\textbf{Intercept}        &       0.7430  &        0.014     &    53.439  &         0.000        &        0.716    &        0.770     \\\\\n",
       "\\textbf{C(gender)[T.2.0]} &      -0.0942  &        0.014     &    -6.592  &         0.000        &       -0.122    &       -0.066     \\\\\n",
       "\\textbf{C(pid)[T.2.0]}    &       0.0325  &        0.018     &     1.802  &         0.072        &       -0.003    &        0.068     \\\\\n",
       "\\textbf{C(pid)[T.3.0]}    &      -0.2117  &        0.017     &   -12.663  &         0.000        &       -0.245    &       -0.179     \\\\\n",
       "\\bottomrule\n",
       "\\end{tabular}\n",
       "\\end{center}"
      ],
      "text/plain": [
       "<class 'statsmodels.iolib.table.SimpleTable'>"
      ]
     },
     "metadata": {},
     "output_type": "display_data"
    },
    {
     "data": {
      "text/html": [
       "<table class=\"simpletable\">\n",
       "<tr>\n",
       "  <td>R-squared:</td> <td>0.1263</td>\n",
       "</tr>\n",
       "</table>"
      ],
      "text/latex": [
       "\\begin{center}\n",
       "\\begin{tabular}{cc}\n",
       "\\toprule\n",
       "R-squared: & 0.1263  \\\\\n",
       "\\bottomrule\n",
       "\\end{tabular}\n",
       "\\end{center}"
      ],
      "text/plain": [
       "<class 'statsmodels.iolib.table.SimpleTable'>"
      ]
     },
     "metadata": {},
     "output_type": "display_data"
    },
    {
     "data": {
      "application/javascript": [
       "\n",
       "            setTimeout(function() {\n",
       "                var nbb_cell_id = 192;\n",
       "                var nbb_unformatted_code = \"import statsmodels.formula.api as smf\\n\\nmodel = smf.ols('partisanship ~ C(gender) + C(pid)', data=sample).fit()\\ndisplay_summary(model)\";\n",
       "                var nbb_formatted_code = \"import statsmodels.formula.api as smf\\n\\nmodel = smf.ols(\\\"partisanship ~ C(gender) + C(pid)\\\", data=sample).fit()\\ndisplay_summary(model)\";\n",
       "                var nbb_cells = Jupyter.notebook.get_cells();\n",
       "                for (var i = 0; i < nbb_cells.length; ++i) {\n",
       "                    if (nbb_cells[i].input_prompt_number == nbb_cell_id) {\n",
       "                        if (nbb_cells[i].get_text() == nbb_unformatted_code) {\n",
       "                             nbb_cells[i].set_text(nbb_formatted_code);\n",
       "                        }\n",
       "                        break;\n",
       "                    }\n",
       "                }\n",
       "            }, 500);\n",
       "            "
      ],
      "text/plain": [
       "<IPython.core.display.Javascript object>"
      ]
     },
     "metadata": {},
     "output_type": "display_data"
    }
   ],
   "source": [
    "import statsmodels.formula.api as smf\n",
    "\n",
    "model = smf.ols('partisanship ~ C(gender) + C(pid)', data=sample).fit()\n",
    "display_summary(model)\n"
   ]
  },
  {
   "cell_type": "markdown",
   "id": "43fa5b63",
   "metadata": {},
   "source": [
    "Controlling for level of interest in the campaign, the gender gap is cut by more than half.\n",
    "\n",
    "I'd suggest that interest level is a mediator here -- part of the reason men are more partisan is that they follow the campaign more closely."
   ]
  },
  {
   "cell_type": "code",
   "execution_count": 193,
   "id": "bed68862",
   "metadata": {},
   "outputs": [
    {
     "data": {
      "text/html": [
       "<table class=\"simpletable\">\n",
       "<tr>\n",
       "                <td></td>                   <th>coef</th>     <th>std err</th>      <th>t</th>      <th>P>|t|</th>  <th>[0.025</th>    <th>0.975]</th>  \n",
       "</tr>\n",
       "<tr>\n",
       "  <th>Intercept</th>                     <td>    0.8272</td> <td>    0.014</td> <td>   57.723</td> <td> 0.000</td> <td>    0.799</td> <td>    0.855</td>\n",
       "</tr>\n",
       "<tr>\n",
       "  <th>C(gender)[T.2.0]</th>              <td>   -0.0354</td> <td>    0.013</td> <td>   -2.647</td> <td> 0.008</td> <td>   -0.062</td> <td>   -0.009</td>\n",
       "</tr>\n",
       "<tr>\n",
       "  <th>C(pid)[T.2.0]</th>                 <td>    0.0151</td> <td>    0.016</td> <td>    0.919</td> <td> 0.358</td> <td>   -0.017</td> <td>    0.047</td>\n",
       "</tr>\n",
       "<tr>\n",
       "  <th>C(pid)[T.3.0]</th>                 <td>   -0.1662</td> <td>    0.015</td> <td>  -10.762</td> <td> 0.000</td> <td>   -0.196</td> <td>   -0.136</td>\n",
       "</tr>\n",
       "<tr>\n",
       "  <th>C(follow_campinterest)[T.2.0]</th> <td>   -0.1341</td> <td>    0.015</td> <td>   -9.033</td> <td> 0.000</td> <td>   -0.163</td> <td>   -0.105</td>\n",
       "</tr>\n",
       "<tr>\n",
       "  <th>C(follow_campinterest)[T.3.0]</th> <td>   -0.3587</td> <td>    0.018</td> <td>  -19.807</td> <td> 0.000</td> <td>   -0.394</td> <td>   -0.323</td>\n",
       "</tr>\n",
       "</table>"
      ],
      "text/latex": [
       "\\begin{center}\n",
       "\\begin{tabular}{lcccccc}\n",
       "\\toprule\n",
       "                                        & \\textbf{coef} & \\textbf{std err} & \\textbf{t} & \\textbf{P$> |$t$|$} & \\textbf{[0.025} & \\textbf{0.975]}  \\\\\n",
       "\\midrule\n",
       "\\textbf{Intercept}                      &       0.8272  &        0.014     &    57.723  &         0.000        &        0.799    &        0.855     \\\\\n",
       "\\textbf{C(gender)[T.2.0]}               &      -0.0354  &        0.013     &    -2.647  &         0.008        &       -0.062    &       -0.009     \\\\\n",
       "\\textbf{C(pid)[T.2.0]}                  &       0.0151  &        0.016     &     0.919  &         0.358        &       -0.017    &        0.047     \\\\\n",
       "\\textbf{C(pid)[T.3.0]}                  &      -0.1662  &        0.015     &   -10.762  &         0.000        &       -0.196    &       -0.136     \\\\\n",
       "\\textbf{C(follow\\_campinterest)[T.2.0]} &      -0.1341  &        0.015     &    -9.033  &         0.000        &       -0.163    &       -0.105     \\\\\n",
       "\\textbf{C(follow\\_campinterest)[T.3.0]} &      -0.3587  &        0.018     &   -19.807  &         0.000        &       -0.394    &       -0.323     \\\\\n",
       "\\bottomrule\n",
       "\\end{tabular}\n",
       "\\end{center}"
      ],
      "text/plain": [
       "<class 'statsmodels.iolib.table.SimpleTable'>"
      ]
     },
     "metadata": {},
     "output_type": "display_data"
    },
    {
     "data": {
      "text/html": [
       "<table class=\"simpletable\">\n",
       "<tr>\n",
       "  <td>R-squared:</td> <td>0.2758</td>\n",
       "</tr>\n",
       "</table>"
      ],
      "text/latex": [
       "\\begin{center}\n",
       "\\begin{tabular}{cc}\n",
       "\\toprule\n",
       "R-squared: & 0.2758  \\\\\n",
       "\\bottomrule\n",
       "\\end{tabular}\n",
       "\\end{center}"
      ],
      "text/plain": [
       "<class 'statsmodels.iolib.table.SimpleTable'>"
      ]
     },
     "metadata": {},
     "output_type": "display_data"
    },
    {
     "data": {
      "application/javascript": [
       "\n",
       "            setTimeout(function() {\n",
       "                var nbb_cell_id = 193;\n",
       "                var nbb_unformatted_code = \"model = smf.ols('partisanship ~ C(gender) + C(pid) + C(follow_campinterest)', data=sample).fit()\\ndisplay_summary(model)\";\n",
       "                var nbb_formatted_code = \"model = smf.ols(\\n    \\\"partisanship ~ C(gender) + C(pid) + C(follow_campinterest)\\\", data=sample\\n).fit()\\ndisplay_summary(model)\";\n",
       "                var nbb_cells = Jupyter.notebook.get_cells();\n",
       "                for (var i = 0; i < nbb_cells.length; ++i) {\n",
       "                    if (nbb_cells[i].input_prompt_number == nbb_cell_id) {\n",
       "                        if (nbb_cells[i].get_text() == nbb_unformatted_code) {\n",
       "                             nbb_cells[i].set_text(nbb_formatted_code);\n",
       "                        }\n",
       "                        break;\n",
       "                    }\n",
       "                }\n",
       "            }, 500);\n",
       "            "
      ],
      "text/plain": [
       "<IPython.core.display.Javascript object>"
      ]
     },
     "metadata": {},
     "output_type": "display_data"
    }
   ],
   "source": [
    "model = smf.ols('partisanship ~ C(gender) + C(pid) + C(follow_campinterest)', data=sample).fit()\n",
    "display_summary(model)\n"
   ]
  },
  {
   "cell_type": "markdown",
   "id": "5cac9b09",
   "metadata": {},
   "source": [
    "## Plotting the results"
   ]
  },
  {
   "cell_type": "code",
   "execution_count": 194,
   "id": "646c9b21",
   "metadata": {},
   "outputs": [
    {
     "data": {
      "application/javascript": [
       "\n",
       "            setTimeout(function() {\n",
       "                var nbb_cell_id = 194;\n",
       "                var nbb_unformatted_code = \"data_male = sample_male[columns].replace(-7, np.nan)\\ndata_female = sample_female[columns].replace(-7, np.nan)\";\n",
       "                var nbb_formatted_code = \"data_male = sample_male[columns].replace(-7, np.nan)\\ndata_female = sample_female[columns].replace(-7, np.nan)\";\n",
       "                var nbb_cells = Jupyter.notebook.get_cells();\n",
       "                for (var i = 0; i < nbb_cells.length; ++i) {\n",
       "                    if (nbb_cells[i].input_prompt_number == nbb_cell_id) {\n",
       "                        if (nbb_cells[i].get_text() == nbb_unformatted_code) {\n",
       "                             nbb_cells[i].set_text(nbb_formatted_code);\n",
       "                        }\n",
       "                        break;\n",
       "                    }\n",
       "                }\n",
       "            }, 500);\n",
       "            "
      ],
      "text/plain": [
       "<IPython.core.display.Javascript object>"
      ]
     },
     "metadata": {},
     "output_type": "display_data"
    }
   ],
   "source": [
    "data_male = sample_male[columns].replace(-7, np.nan)\n",
    "data_female = sample_female[columns].replace(-7, np.nan)"
   ]
  },
  {
   "cell_type": "code",
   "execution_count": 195,
   "id": "1b670997",
   "metadata": {},
   "outputs": [
    {
     "data": {
      "text/html": [
       "<div>\n",
       "<style scoped>\n",
       "    .dataframe tbody tr th:only-of-type {\n",
       "        vertical-align: middle;\n",
       "    }\n",
       "\n",
       "    .dataframe tbody tr th {\n",
       "        vertical-align: top;\n",
       "    }\n",
       "\n",
       "    .dataframe thead tr th {\n",
       "        text-align: left;\n",
       "    }\n",
       "</style>\n",
       "<table border=\"1\" class=\"dataframe\">\n",
       "  <thead>\n",
       "    <tr>\n",
       "      <th></th>\n",
       "      <th colspan=\"3\" halign=\"left\">male</th>\n",
       "      <th colspan=\"3\" halign=\"left\">female</th>\n",
       "    </tr>\n",
       "    <tr>\n",
       "      <th></th>\n",
       "      <th>democrats</th>\n",
       "      <th>republicans</th>\n",
       "      <th>same</th>\n",
       "      <th>democrats</th>\n",
       "      <th>republicans</th>\n",
       "      <th>same</th>\n",
       "    </tr>\n",
       "  </thead>\n",
       "  <tbody>\n",
       "    <tr>\n",
       "      <th>own_gun</th>\n",
       "      <td>40.924092</td>\n",
       "      <td>39.933993</td>\n",
       "      <td>19.141914</td>\n",
       "      <td>39.10000</td>\n",
       "      <td>32.000000</td>\n",
       "      <td>28.900000</td>\n",
       "    </tr>\n",
       "    <tr>\n",
       "      <th>own_abort</th>\n",
       "      <td>46.145374</td>\n",
       "      <td>30.837004</td>\n",
       "      <td>23.017621</td>\n",
       "      <td>44.40000</td>\n",
       "      <td>26.100000</td>\n",
       "      <td>29.500000</td>\n",
       "    </tr>\n",
       "    <tr>\n",
       "      <th>own_immig</th>\n",
       "      <td>33.003300</td>\n",
       "      <td>46.644664</td>\n",
       "      <td>20.352035</td>\n",
       "      <td>31.20000</td>\n",
       "      <td>39.000000</td>\n",
       "      <td>29.800000</td>\n",
       "    </tr>\n",
       "    <tr>\n",
       "      <th>own_jobs</th>\n",
       "      <td>39.383938</td>\n",
       "      <td>41.584158</td>\n",
       "      <td>19.031903</td>\n",
       "      <td>31.90000</td>\n",
       "      <td>35.600000</td>\n",
       "      <td>32.500000</td>\n",
       "    </tr>\n",
       "    <tr>\n",
       "      <th>own_schteach</th>\n",
       "      <td>37.953795</td>\n",
       "      <td>40.264026</td>\n",
       "      <td>21.782178</td>\n",
       "      <td>36.00000</td>\n",
       "      <td>30.400000</td>\n",
       "      <td>33.600000</td>\n",
       "    </tr>\n",
       "    <tr>\n",
       "      <th>own_costliv</th>\n",
       "      <td>33.663366</td>\n",
       "      <td>41.914191</td>\n",
       "      <td>24.422442</td>\n",
       "      <td>30.30000</td>\n",
       "      <td>35.500000</td>\n",
       "      <td>34.200000</td>\n",
       "    </tr>\n",
       "    <tr>\n",
       "      <th>own_votright</th>\n",
       "      <td>44.774477</td>\n",
       "      <td>32.013201</td>\n",
       "      <td>23.212321</td>\n",
       "      <td>37.30000</td>\n",
       "      <td>24.900000</td>\n",
       "      <td>37.800000</td>\n",
       "    </tr>\n",
       "    <tr>\n",
       "      <th>own_crime</th>\n",
       "      <td>27.612761</td>\n",
       "      <td>42.134213</td>\n",
       "      <td>30.253025</td>\n",
       "      <td>26.90000</td>\n",
       "      <td>34.800000</td>\n",
       "      <td>38.300000</td>\n",
       "    </tr>\n",
       "    <tr>\n",
       "      <th>own_climate</th>\n",
       "      <td>46.644664</td>\n",
       "      <td>24.532453</td>\n",
       "      <td>28.822882</td>\n",
       "      <td>42.80000</td>\n",
       "      <td>16.400000</td>\n",
       "      <td>40.800000</td>\n",
       "    </tr>\n",
       "    <tr>\n",
       "      <th>own_ukraine</th>\n",
       "      <td>38.393839</td>\n",
       "      <td>32.453245</td>\n",
       "      <td>29.152915</td>\n",
       "      <td>32.56513</td>\n",
       "      <td>23.046092</td>\n",
       "      <td>44.388778</td>\n",
       "    </tr>\n",
       "    <tr>\n",
       "      <th>own_antisem</th>\n",
       "      <td>32.783278</td>\n",
       "      <td>29.922992</td>\n",
       "      <td>37.293729</td>\n",
       "      <td>32.00000</td>\n",
       "      <td>22.300000</td>\n",
       "      <td>45.700000</td>\n",
       "    </tr>\n",
       "    <tr>\n",
       "      <th>own_gaza</th>\n",
       "      <td>28.162816</td>\n",
       "      <td>32.673267</td>\n",
       "      <td>39.163916</td>\n",
       "      <td>25.20000</td>\n",
       "      <td>27.500000</td>\n",
       "      <td>47.300000</td>\n",
       "    </tr>\n",
       "    <tr>\n",
       "      <th>own_islamop</th>\n",
       "      <td>37.706725</td>\n",
       "      <td>20.837927</td>\n",
       "      <td>41.455347</td>\n",
       "      <td>37.00000</td>\n",
       "      <td>15.600000</td>\n",
       "      <td>47.400000</td>\n",
       "    </tr>\n",
       "  </tbody>\n",
       "</table>\n",
       "</div>"
      ],
      "text/plain": [
       "                   male                           female              \\\n",
       "              democrats republicans       same democrats republicans   \n",
       "own_gun       40.924092   39.933993  19.141914  39.10000   32.000000   \n",
       "own_abort     46.145374   30.837004  23.017621  44.40000   26.100000   \n",
       "own_immig     33.003300   46.644664  20.352035  31.20000   39.000000   \n",
       "own_jobs      39.383938   41.584158  19.031903  31.90000   35.600000   \n",
       "own_schteach  37.953795   40.264026  21.782178  36.00000   30.400000   \n",
       "own_costliv   33.663366   41.914191  24.422442  30.30000   35.500000   \n",
       "own_votright  44.774477   32.013201  23.212321  37.30000   24.900000   \n",
       "own_crime     27.612761   42.134213  30.253025  26.90000   34.800000   \n",
       "own_climate   46.644664   24.532453  28.822882  42.80000   16.400000   \n",
       "own_ukraine   38.393839   32.453245  29.152915  32.56513   23.046092   \n",
       "own_antisem   32.783278   29.922992  37.293729  32.00000   22.300000   \n",
       "own_gaza      28.162816   32.673267  39.163916  25.20000   27.500000   \n",
       "own_islamop   37.706725   20.837927  41.455347  37.00000   15.600000   \n",
       "\n",
       "                         \n",
       "                   same  \n",
       "own_gun       28.900000  \n",
       "own_abort     29.500000  \n",
       "own_immig     29.800000  \n",
       "own_jobs      32.500000  \n",
       "own_schteach  33.600000  \n",
       "own_costliv   34.200000  \n",
       "own_votright  37.800000  \n",
       "own_crime     38.300000  \n",
       "own_climate   40.800000  \n",
       "own_ukraine   44.388778  \n",
       "own_antisem   45.700000  \n",
       "own_gaza      47.300000  \n",
       "own_islamop   47.400000  "
      ]
     },
     "execution_count": 195,
     "metadata": {},
     "output_type": "execute_result"
    },
    {
     "data": {
      "application/javascript": [
       "\n",
       "            setTimeout(function() {\n",
       "                var nbb_cell_id = 195;\n",
       "                var nbb_unformatted_code = \"slice_map = dict(democrats=slice(1, 1), republicans=slice(2, 2), same=slice(3, 3))\\nsummary = summarize_responses(columns, slice_map, sort_idx=2)\\nsummary\";\n",
       "                var nbb_formatted_code = \"slice_map = dict(democrats=slice(1, 1), republicans=slice(2, 2), same=slice(3, 3))\\nsummary = summarize_responses(columns, slice_map, sort_idx=2)\\nsummary\";\n",
       "                var nbb_cells = Jupyter.notebook.get_cells();\n",
       "                for (var i = 0; i < nbb_cells.length; ++i) {\n",
       "                    if (nbb_cells[i].input_prompt_number == nbb_cell_id) {\n",
       "                        if (nbb_cells[i].get_text() == nbb_unformatted_code) {\n",
       "                             nbb_cells[i].set_text(nbb_formatted_code);\n",
       "                        }\n",
       "                        break;\n",
       "                    }\n",
       "                }\n",
       "            }, 500);\n",
       "            "
      ],
      "text/plain": [
       "<IPython.core.display.Javascript object>"
      ]
     },
     "metadata": {},
     "output_type": "display_data"
    }
   ],
   "source": [
    "slice_map = dict(democrats=slice(1, 1), republicans=slice(2, 2), same=slice(3, 3))\n",
    "summary = summarize_responses(columns, slice_map, sort_idx=2)\n",
    "summary"
   ]
  },
  {
   "cell_type": "code",
   "execution_count": 196,
   "id": "7440ca2f",
   "metadata": {},
   "outputs": [
    {
     "data": {
      "application/javascript": [
       "\n",
       "            setTimeout(function() {\n",
       "                var nbb_cell_id = 196;\n",
       "                var nbb_unformatted_code = \"names = [issue_names[col] for col in summary.index]\";\n",
       "                var nbb_formatted_code = \"names = [issue_names[col] for col in summary.index]\";\n",
       "                var nbb_cells = Jupyter.notebook.get_cells();\n",
       "                for (var i = 0; i < nbb_cells.length; ++i) {\n",
       "                    if (nbb_cells[i].input_prompt_number == nbb_cell_id) {\n",
       "                        if (nbb_cells[i].get_text() == nbb_unformatted_code) {\n",
       "                             nbb_cells[i].set_text(nbb_formatted_code);\n",
       "                        }\n",
       "                        break;\n",
       "                    }\n",
       "                }\n",
       "            }, 500);\n",
       "            "
      ],
      "text/plain": [
       "<IPython.core.display.Javascript object>"
      ]
     },
     "metadata": {},
     "output_type": "display_data"
    }
   ],
   "source": [
    "names = [issue_names[col] for col in summary.index]"
   ]
  },
  {
   "cell_type": "markdown",
   "id": "ccbf8833",
   "metadata": {},
   "source": [
    "For every issue, men are more likely to say that the Republicans handle it better."
   ]
  },
  {
   "cell_type": "code",
   "execution_count": 198,
   "id": "51d9470e",
   "metadata": {},
   "outputs": [
    {
     "data": {
      "image/png": "[encoded data removed]",
      "text/plain": [
       "<Figure size 450x262.5 with 1 Axes>"
      ]
     },
     "metadata": {},
     "output_type": "display_data"
    },
    {
     "data": {
      "application/javascript": [
       "\n",
       "            setTimeout(function() {\n",
       "                var nbb_cell_id = 198;\n",
       "                var nbb_unformatted_code = \"plot_responses(summary, \\\"republicans\\\")\\ndecorate(xlabel=\\\"Percent\\\")\";\n",
       "                var nbb_formatted_code = \"plot_responses(summary, \\\"republicans\\\")\\ndecorate(xlabel=\\\"Percent\\\")\";\n",
       "                var nbb_cells = Jupyter.notebook.get_cells();\n",
       "                for (var i = 0; i < nbb_cells.length; ++i) {\n",
       "                    if (nbb_cells[i].input_prompt_number == nbb_cell_id) {\n",
       "                        if (nbb_cells[i].get_text() == nbb_unformatted_code) {\n",
       "                             nbb_cells[i].set_text(nbb_formatted_code);\n",
       "                        }\n",
       "                        break;\n",
       "                    }\n",
       "                }\n",
       "            }, 500);\n",
       "            "
      ],
      "text/plain": [
       "<IPython.core.display.Javascript object>"
      ]
     },
     "metadata": {},
     "output_type": "display_data"
    }
   ],
   "source": [
    "plot_responses(summary, \"republicans\")\n",
    "decorate(xlabel=\"Percent\")"
   ]
  },
  {
   "cell_type": "markdown",
   "id": "b1fe119f",
   "metadata": {},
   "source": [
    "But they are also more likely to say that Democrats handle it better."
   ]
  },
  {
   "cell_type": "code",
   "execution_count": 197,
   "id": "19b4d9c4",
   "metadata": {},
   "outputs": [
    {
     "data": {
      "image/png": "[encoded data removed]",
      "text/plain": [
       "<Figure size 450x262.5 with 1 Axes>"
      ]
     },
     "metadata": {},
     "output_type": "display_data"
    },
    {
     "data": {
      "application/javascript": [
       "\n",
       "            setTimeout(function() {\n",
       "                var nbb_cell_id = 197;\n",
       "                var nbb_unformatted_code = \"plot_responses(summary, \\\"democrats\\\")\\ndecorate(xlabel=\\\"Percent\\\")\";\n",
       "                var nbb_formatted_code = \"plot_responses(summary, \\\"democrats\\\")\\ndecorate(xlabel=\\\"Percent\\\")\";\n",
       "                var nbb_cells = Jupyter.notebook.get_cells();\n",
       "                for (var i = 0; i < nbb_cells.length; ++i) {\n",
       "                    if (nbb_cells[i].input_prompt_number == nbb_cell_id) {\n",
       "                        if (nbb_cells[i].get_text() == nbb_unformatted_code) {\n",
       "                             nbb_cells[i].set_text(nbb_formatted_code);\n",
       "                        }\n",
       "                        break;\n",
       "                    }\n",
       "                }\n",
       "            }, 500);\n",
       "            "
      ],
      "text/plain": [
       "<IPython.core.display.Javascript object>"
      ]
     },
     "metadata": {},
     "output_type": "display_data"
    }
   ],
   "source": [
    "plot_responses(summary, \"democrats\")\n",
    "decorate(xlabel=\"Percent\")"
   ]
  },
  {
   "cell_type": "markdown",
   "id": "fc82757b",
   "metadata": {},
   "source": [
    "Because they are less likely to say that they are about the same."
   ]
  },
  {
   "cell_type": "code",
   "execution_count": 199,
   "id": "628ee305",
   "metadata": {},
   "outputs": [
    {
     "data": {
      "image/png": "[encoded data removed]",
      "text/plain": [
       "<Figure size 450x262.5 with 1 Axes>"
      ]
     },
     "metadata": {},
     "output_type": "display_data"
    },
    {
     "data": {
      "application/javascript": [
       "\n",
       "            setTimeout(function() {\n",
       "                var nbb_cell_id = 199;\n",
       "                var nbb_unformatted_code = \"plot_responses(summary, \\\"same\\\")\\ndecorate(xlabel=\\\"Percent\\\")\";\n",
       "                var nbb_formatted_code = \"plot_responses(summary, \\\"same\\\")\\ndecorate(xlabel=\\\"Percent\\\")\";\n",
       "                var nbb_cells = Jupyter.notebook.get_cells();\n",
       "                for (var i = 0; i < nbb_cells.length; ++i) {\n",
       "                    if (nbb_cells[i].input_prompt_number == nbb_cell_id) {\n",
       "                        if (nbb_cells[i].get_text() == nbb_unformatted_code) {\n",
       "                             nbb_cells[i].set_text(nbb_formatted_code);\n",
       "                        }\n",
       "                        break;\n",
       "                    }\n",
       "                }\n",
       "            }, 500);\n",
       "            "
      ],
      "text/plain": [
       "<IPython.core.display.Javascript object>"
      ]
     },
     "metadata": {},
     "output_type": "display_data"
    }
   ],
   "source": [
    "plot_responses(summary, \"same\")\n",
    "decorate(xlabel=\"Percent\")"
   ]
  },
  {
   "cell_type": "markdown",
   "id": "9dc9a918",
   "metadata": {},
   "source": [
    "Let's run some regressions with number of \"same\" as the dependent variable."
   ]
  },
  {
   "cell_type": "code",
   "execution_count": 203,
   "id": "78f4a899",
   "metadata": {},
   "outputs": [
    {
     "data": {
      "text/plain": [
       "gender\n",
       "1.0    3.569857\n",
       "2.0    4.901000\n",
       "Name: y, dtype: float64"
      ]
     },
     "execution_count": 203,
     "metadata": {},
     "output_type": "execute_result"
    },
    {
     "data": {
      "application/javascript": [
       "\n",
       "            setTimeout(function() {\n",
       "                var nbb_cell_id = 203;\n",
       "                var nbb_unformatted_code = \"sample[\\\"y\\\"] = (sample[columns] == 3).sum(axis=1)\\nsample.groupby(\\\"gender\\\")[\\\"y\\\"].mean()\";\n",
       "                var nbb_formatted_code = \"sample[\\\"y\\\"] = (sample[columns] == 3).sum(axis=1)\\nsample.groupby(\\\"gender\\\")[\\\"y\\\"].mean()\";\n",
       "                var nbb_cells = Jupyter.notebook.get_cells();\n",
       "                for (var i = 0; i < nbb_cells.length; ++i) {\n",
       "                    if (nbb_cells[i].input_prompt_number == nbb_cell_id) {\n",
       "                        if (nbb_cells[i].get_text() == nbb_unformatted_code) {\n",
       "                             nbb_cells[i].set_text(nbb_formatted_code);\n",
       "                        }\n",
       "                        break;\n",
       "                    }\n",
       "                }\n",
       "            }, 500);\n",
       "            "
      ],
      "text/plain": [
       "<IPython.core.display.Javascript object>"
      ]
     },
     "metadata": {},
     "output_type": "display_data"
    }
   ],
   "source": [
    "sample[\"y\"] = (sample[columns] == 3).sum(axis=1)\n",
    "sample.groupby(\"gender\")[\"y\"].mean()"
   ]
  },
  {
   "cell_type": "markdown",
   "id": "56713f0c",
   "metadata": {},
   "source": [
    "The difference in means is 1.33"
   ]
  },
  {
   "cell_type": "code",
   "execution_count": 205,
   "id": "bc7de115",
   "metadata": {},
   "outputs": [
    {
     "data": {
      "text/html": [
       "<table class=\"simpletable\">\n",
       "<tr>\n",
       "          <td></td>            <th>coef</th>     <th>std err</th>      <th>t</th>      <th>P>|t|</th>  <th>[0.025</th>    <th>0.975]</th>  \n",
       "</tr>\n",
       "<tr>\n",
       "  <th>Intercept</th>        <td>    3.5699</td> <td>    0.142</td> <td>   25.163</td> <td> 0.000</td> <td>    3.292</td> <td>    3.848</td>\n",
       "</tr>\n",
       "<tr>\n",
       "  <th>C(gender)[T.2.0]</th> <td>    1.3311</td> <td>    0.196</td> <td>    6.791</td> <td> 0.000</td> <td>    0.947</td> <td>    1.716</td>\n",
       "</tr>\n",
       "</table>"
      ],
      "text/latex": [
       "\\begin{center}\n",
       "\\begin{tabular}{lcccccc}\n",
       "\\toprule\n",
       "                          & \\textbf{coef} & \\textbf{std err} & \\textbf{t} & \\textbf{P$> |$t$|$} & \\textbf{[0.025} & \\textbf{0.975]}  \\\\\n",
       "\\midrule\n",
       "\\textbf{Intercept}        &       3.5699  &        0.142     &    25.163  &         0.000        &        3.292    &        3.848     \\\\\n",
       "\\textbf{C(gender)[T.2.0]} &       1.3311  &        0.196     &     6.791  &         0.000        &        0.947    &        1.716     \\\\\n",
       "\\bottomrule\n",
       "\\end{tabular}\n",
       "\\end{center}"
      ],
      "text/plain": [
       "<class 'statsmodels.iolib.table.SimpleTable'>"
      ]
     },
     "metadata": {},
     "output_type": "display_data"
    },
    {
     "data": {
      "text/html": [
       "<table class=\"simpletable\">\n",
       "<tr>\n",
       "  <td>R-squared:</td> <td>0.02361</td>\n",
       "</tr>\n",
       "</table>"
      ],
      "text/latex": [
       "\\begin{center}\n",
       "\\begin{tabular}{cc}\n",
       "\\toprule\n",
       "R-squared: & 0.02361  \\\\\n",
       "\\bottomrule\n",
       "\\end{tabular}\n",
       "\\end{center}"
      ],
      "text/plain": [
       "<class 'statsmodels.iolib.table.SimpleTable'>"
      ]
     },
     "metadata": {},
     "output_type": "display_data"
    },
    {
     "data": {
      "application/javascript": [
       "\n",
       "            setTimeout(function() {\n",
       "                var nbb_cell_id = 205;\n",
       "                var nbb_unformatted_code = \"model = smf.ols('y ~ C(gender)', data=sample).fit()\\ndisplay_summary(model)\";\n",
       "                var nbb_formatted_code = \"model = smf.ols(\\\"y ~ C(gender)\\\", data=sample).fit()\\ndisplay_summary(model)\";\n",
       "                var nbb_cells = Jupyter.notebook.get_cells();\n",
       "                for (var i = 0; i < nbb_cells.length; ++i) {\n",
       "                    if (nbb_cells[i].input_prompt_number == nbb_cell_id) {\n",
       "                        if (nbb_cells[i].get_text() == nbb_unformatted_code) {\n",
       "                             nbb_cells[i].set_text(nbb_formatted_code);\n",
       "                        }\n",
       "                        break;\n",
       "                    }\n",
       "                }\n",
       "            }, 500);\n",
       "            "
      ],
      "text/plain": [
       "<IPython.core.display.Javascript object>"
      ]
     },
     "metadata": {},
     "output_type": "display_data"
    }
   ],
   "source": [
    "model = smf.ols('y ~ C(gender)', data=sample).fit()\n",
    "display_summary(model)\n"
   ]
  },
  {
   "cell_type": "markdown",
   "id": "9543a7d2",
   "metadata": {},
   "source": [
    "Part of that is \"explained\" by party id: women are less likely to identify as Republican, and  Republicans are less likely to say \"same\"."
   ]
  },
  {
   "cell_type": "code",
   "execution_count": 204,
   "id": "ab8d2682",
   "metadata": {},
   "outputs": [
    {
     "data": {
      "text/html": [
       "<table class=\"simpletable\">\n",
       "<tr>\n",
       "                <td></td>                   <th>coef</th>     <th>std err</th>      <th>t</th>      <th>P>|t|</th>  <th>[0.025</th>    <th>0.975]</th>  \n",
       "</tr>\n",
       "<tr>\n",
       "  <th>Intercept</th>                     <td>    1.7383</td> <td>    0.187</td> <td>    9.278</td> <td> 0.000</td> <td>    1.371</td> <td>    2.106</td>\n",
       "</tr>\n",
       "<tr>\n",
       "  <th>C(gender)[T.2.0]</th>              <td>    0.6141</td> <td>    0.175</td> <td>    3.517</td> <td> 0.000</td> <td>    0.272</td> <td>    0.957</td>\n",
       "</tr>\n",
       "<tr>\n",
       "  <th>C(pid)[T.2.0]</th>                 <td>   -0.1468</td> <td>    0.215</td> <td>   -0.682</td> <td> 0.495</td> <td>   -0.569</td> <td>    0.275</td>\n",
       "</tr>\n",
       "<tr>\n",
       "  <th>C(pid)[T.3.0]</th>                 <td>    2.1882</td> <td>    0.202</td> <td>   10.840</td> <td> 0.000</td> <td>    1.792</td> <td>    2.584</td>\n",
       "</tr>\n",
       "<tr>\n",
       "  <th>C(follow_campinterest)[T.2.0]</th> <td>    1.3855</td> <td>    0.194</td> <td>    7.140</td> <td> 0.000</td> <td>    1.005</td> <td>    1.766</td>\n",
       "</tr>\n",
       "<tr>\n",
       "  <th>C(follow_campinterest)[T.3.0]</th> <td>    4.4460</td> <td>    0.237</td> <td>   18.777</td> <td> 0.000</td> <td>    3.982</td> <td>    4.910</td>\n",
       "</tr>\n",
       "</table>"
      ],
      "text/latex": [
       "\\begin{center}\n",
       "\\begin{tabular}{lcccccc}\n",
       "\\toprule\n",
       "                                        & \\textbf{coef} & \\textbf{std err} & \\textbf{t} & \\textbf{P$> |$t$|$} & \\textbf{[0.025} & \\textbf{0.975]}  \\\\\n",
       "\\midrule\n",
       "\\textbf{Intercept}                      &       1.7383  &        0.187     &     9.278  &         0.000        &        1.371    &        2.106     \\\\\n",
       "\\textbf{C(gender)[T.2.0]}               &       0.6141  &        0.175     &     3.517  &         0.000        &        0.272    &        0.957     \\\\\n",
       "\\textbf{C(pid)[T.2.0]}                  &      -0.1468  &        0.215     &    -0.682  &         0.495        &       -0.569    &        0.275     \\\\\n",
       "\\textbf{C(pid)[T.3.0]}                  &       2.1882  &        0.202     &    10.840  &         0.000        &        1.792    &        2.584     \\\\\n",
       "\\textbf{C(follow\\_campinterest)[T.2.0]} &       1.3855  &        0.194     &     7.140  &         0.000        &        1.005    &        1.766     \\\\\n",
       "\\textbf{C(follow\\_campinterest)[T.3.0]} &       4.4460  &        0.237     &    18.777  &         0.000        &        3.982    &        4.910     \\\\\n",
       "\\bottomrule\n",
       "\\end{tabular}\n",
       "\\end{center}"
      ],
      "text/plain": [
       "<class 'statsmodels.iolib.table.SimpleTable'>"
      ]
     },
     "metadata": {},
     "output_type": "display_data"
    },
    {
     "data": {
      "text/html": [
       "<table class=\"simpletable\">\n",
       "<tr>\n",
       "  <td>R-squared:</td> <td>0.2653</td>\n",
       "</tr>\n",
       "</table>"
      ],
      "text/latex": [
       "\\begin{center}\n",
       "\\begin{tabular}{cc}\n",
       "\\toprule\n",
       "R-squared: & 0.2653  \\\\\n",
       "\\bottomrule\n",
       "\\end{tabular}\n",
       "\\end{center}"
      ],
      "text/plain": [
       "<class 'statsmodels.iolib.table.SimpleTable'>"
      ]
     },
     "metadata": {},
     "output_type": "display_data"
    },
    {
     "data": {
      "application/javascript": [
       "\n",
       "            setTimeout(function() {\n",
       "                var nbb_cell_id = 204;\n",
       "                var nbb_unformatted_code = \"model = smf.ols('y ~ C(gender) + C(pid) + C(follow_campinterest)', data=sample).fit()\\ndisplay_summary(model)\";\n",
       "                var nbb_formatted_code = \"model = smf.ols(\\\"y ~ C(gender) + C(pid) + C(follow_campinterest)\\\", data=sample).fit()\\ndisplay_summary(model)\";\n",
       "                var nbb_cells = Jupyter.notebook.get_cells();\n",
       "                for (var i = 0; i < nbb_cells.length; ++i) {\n",
       "                    if (nbb_cells[i].input_prompt_number == nbb_cell_id) {\n",
       "                        if (nbb_cells[i].get_text() == nbb_unformatted_code) {\n",
       "                             nbb_cells[i].set_text(nbb_formatted_code);\n",
       "                        }\n",
       "                        break;\n",
       "                    }\n",
       "                }\n",
       "            }, 500);\n",
       "            "
      ],
      "text/plain": [
       "<IPython.core.display.Javascript object>"
      ]
     },
     "metadata": {},
     "output_type": "display_data"
    }
   ],
   "source": [
    "model = smf.ols('y ~ C(gender) + C(pid)', data=sample).fit()\n",
    "display_summary(model)\n"
   ]
  },
  {
   "cell_type": "markdown",
   "id": "81de02b2",
   "metadata": {},
   "source": [
    "And a little bit more is explained by following the campaign: women are less likely to follow, and people who follow are less likely to say \"same\" -- in fact, people who are \"not much interested\" say \"same\" much more -- the difference is 4.5."
   ]
  },
  {
   "cell_type": "code",
   "execution_count": 204,
   "id": "e373a9b0",
   "metadata": {},
   "outputs": [
    {
     "data": {
      "text/html": [
       "<table class=\"simpletable\">\n",
       "<tr>\n",
       "                <td></td>                   <th>coef</th>     <th>std err</th>      <th>t</th>      <th>P>|t|</th>  <th>[0.025</th>    <th>0.975]</th>  \n",
       "</tr>\n",
       "<tr>\n",
       "  <th>Intercept</th>                     <td>    1.7383</td> <td>    0.187</td> <td>    9.278</td> <td> 0.000</td> <td>    1.371</td> <td>    2.106</td>\n",
       "</tr>\n",
       "<tr>\n",
       "  <th>C(gender)[T.2.0]</th>              <td>    0.6141</td> <td>    0.175</td> <td>    3.517</td> <td> 0.000</td> <td>    0.272</td> <td>    0.957</td>\n",
       "</tr>\n",
       "<tr>\n",
       "  <th>C(pid)[T.2.0]</th>                 <td>   -0.1468</td> <td>    0.215</td> <td>   -0.682</td> <td> 0.495</td> <td>   -0.569</td> <td>    0.275</td>\n",
       "</tr>\n",
       "<tr>\n",
       "  <th>C(pid)[T.3.0]</th>                 <td>    2.1882</td> <td>    0.202</td> <td>   10.840</td> <td> 0.000</td> <td>    1.792</td> <td>    2.584</td>\n",
       "</tr>\n",
       "<tr>\n",
       "  <th>C(follow_campinterest)[T.2.0]</th> <td>    1.3855</td> <td>    0.194</td> <td>    7.140</td> <td> 0.000</td> <td>    1.005</td> <td>    1.766</td>\n",
       "</tr>\n",
       "<tr>\n",
       "  <th>C(follow_campinterest)[T.3.0]</th> <td>    4.4460</td> <td>    0.237</td> <td>   18.777</td> <td> 0.000</td> <td>    3.982</td> <td>    4.910</td>\n",
       "</tr>\n",
       "</table>"
      ],
      "text/latex": [
       "\\begin{center}\n",
       "\\begin{tabular}{lcccccc}\n",
       "\\toprule\n",
       "                                        & \\textbf{coef} & \\textbf{std err} & \\textbf{t} & \\textbf{P$> |$t$|$} & \\textbf{[0.025} & \\textbf{0.975]}  \\\\\n",
       "\\midrule\n",
       "\\textbf{Intercept}                      &       1.7383  &        0.187     &     9.278  &         0.000        &        1.371    &        2.106     \\\\\n",
       "\\textbf{C(gender)[T.2.0]}               &       0.6141  &        0.175     &     3.517  &         0.000        &        0.272    &        0.957     \\\\\n",
       "\\textbf{C(pid)[T.2.0]}                  &      -0.1468  &        0.215     &    -0.682  &         0.495        &       -0.569    &        0.275     \\\\\n",
       "\\textbf{C(pid)[T.3.0]}                  &       2.1882  &        0.202     &    10.840  &         0.000        &        1.792    &        2.584     \\\\\n",
       "\\textbf{C(follow\\_campinterest)[T.2.0]} &       1.3855  &        0.194     &     7.140  &         0.000        &        1.005    &        1.766     \\\\\n",
       "\\textbf{C(follow\\_campinterest)[T.3.0]} &       4.4460  &        0.237     &    18.777  &         0.000        &        3.982    &        4.910     \\\\\n",
       "\\bottomrule\n",
       "\\end{tabular}\n",
       "\\end{center}"
      ],
      "text/plain": [
       "<class 'statsmodels.iolib.table.SimpleTable'>"
      ]
     },
     "metadata": {},
     "output_type": "display_data"
    },
    {
     "data": {
      "text/html": [
       "<table class=\"simpletable\">\n",
       "<tr>\n",
       "  <td>R-squared:</td> <td>0.2653</td>\n",
       "</tr>\n",
       "</table>"
      ],
      "text/latex": [
       "\\begin{center}\n",
       "\\begin{tabular}{cc}\n",
       "\\toprule\n",
       "R-squared: & 0.2653  \\\\\n",
       "\\bottomrule\n",
       "\\end{tabular}\n",
       "\\end{center}"
      ],
      "text/plain": [
       "<class 'statsmodels.iolib.table.SimpleTable'>"
      ]
     },
     "metadata": {},
     "output_type": "display_data"
    },
    {
     "data": {
      "application/javascript": [
       "\n",
       "            setTimeout(function() {\n",
       "                var nbb_cell_id = 204;\n",
       "                var nbb_unformatted_code = \"model = smf.ols('y ~ C(gender) + C(pid) + C(follow_campinterest)', data=sample).fit()\\ndisplay_summary(model)\";\n",
       "                var nbb_formatted_code = \"model = smf.ols(\\\"y ~ C(gender) + C(pid) + C(follow_campinterest)\\\", data=sample).fit()\\ndisplay_summary(model)\";\n",
       "                var nbb_cells = Jupyter.notebook.get_cells();\n",
       "                for (var i = 0; i < nbb_cells.length; ++i) {\n",
       "                    if (nbb_cells[i].input_prompt_number == nbb_cell_id) {\n",
       "                        if (nbb_cells[i].get_text() == nbb_unformatted_code) {\n",
       "                             nbb_cells[i].set_text(nbb_formatted_code);\n",
       "                        }\n",
       "                        break;\n",
       "                    }\n",
       "                }\n",
       "            }, 500);\n",
       "            "
      ],
      "text/plain": [
       "<IPython.core.display.Javascript object>"
      ]
     },
     "metadata": {},
     "output_type": "display_data"
    }
   ],
   "source": [
    "model = smf.ols('y ~ C(gender) + C(pid) + C(follow_campinterest)', data=sample).fit()\n",
    "display_summary(model)\n"
   ]
  },
  {
   "cell_type": "markdown",
   "id": "cfc4a178",
   "metadata": {},
   "source": [
    "## Group Ratings\n",
    "\n",
    "This section explores reponses to questions that follow this schema:\n",
    "\n",
    "> We would like to get your feelings toward some of our political leaders\n",
    "and other people who are in the news these days. We will show the name of a person\n",
    "and we’d like you to rate that person using something we call the feeling thermometer.\n",
    "Ratings between 50 degrees and 100 degrees mean that you feel favorable and warm\n",
    "toward the person. Ratings between 0 degrees and 50 degrees mean that you don’t feel\n",
    "favorable toward the person and that you don’t care too much for that person. You\n",
    "would rate the person at the 50 degree mark if you don’t feel particularly warm or cold\n",
    "toward the person.\n",
    "If we come to a person whose name you don’t recognize, you don’t need to rate that\n",
    "person. Just click ’Next’ and we’ll move on to the next one."
   ]
  },
  {
   "cell_type": "code",
   "execution_count": 206,
   "id": "d1c6af74",
   "metadata": {},
   "outputs": [
    {
     "data": {
      "text/plain": [
       "['cand_trump', 'cand_biden']"
      ]
     },
     "execution_count": 206,
     "metadata": {},
     "output_type": "execute_result"
    },
    {
     "data": {
      "application/javascript": [
       "\n",
       "            setTimeout(function() {\n",
       "                var nbb_cell_id = 206;\n",
       "                var nbb_unformatted_code = \"columns = find_columns(sample, \\\"cand_\\\")\\ncolumns\";\n",
       "                var nbb_formatted_code = \"columns = find_columns(sample, \\\"cand_\\\")\\ncolumns\";\n",
       "                var nbb_cells = Jupyter.notebook.get_cells();\n",
       "                for (var i = 0; i < nbb_cells.length; ++i) {\n",
       "                    if (nbb_cells[i].input_prompt_number == nbb_cell_id) {\n",
       "                        if (nbb_cells[i].get_text() == nbb_unformatted_code) {\n",
       "                             nbb_cells[i].set_text(nbb_formatted_code);\n",
       "                        }\n",
       "                        break;\n",
       "                    }\n",
       "                }\n",
       "            }, 500);\n",
       "            "
      ],
      "text/plain": [
       "<IPython.core.display.Javascript object>"
      ]
     },
     "metadata": {},
     "output_type": "display_data"
    }
   ],
   "source": [
    "columns = find_columns(sample, \"cand_\")\n",
    "columns"
   ]
  },
  {
   "cell_type": "code",
   "execution_count": 207,
   "id": "7f0acfa8",
   "metadata": {},
   "outputs": [
    {
     "data": {
      "text/html": [
       "<div>\n",
       "<style scoped>\n",
       "    .dataframe tbody tr th:only-of-type {\n",
       "        vertical-align: middle;\n",
       "    }\n",
       "\n",
       "    .dataframe tbody tr th {\n",
       "        vertical-align: top;\n",
       "    }\n",
       "\n",
       "    .dataframe thead th {\n",
       "        text-align: right;\n",
       "    }\n",
       "</style>\n",
       "<table border=\"1\" class=\"dataframe\">\n",
       "  <thead>\n",
       "    <tr style=\"text-align: right;\">\n",
       "      <th></th>\n",
       "      <th>cand_trump</th>\n",
       "      <th>cand_biden</th>\n",
       "    </tr>\n",
       "  </thead>\n",
       "  <tbody>\n",
       "    <tr>\n",
       "      <th>count</th>\n",
       "      <td>1907.000000</td>\n",
       "      <td>1905.000000</td>\n",
       "    </tr>\n",
       "    <tr>\n",
       "      <th>mean</th>\n",
       "      <td>42.628736</td>\n",
       "      <td>42.544882</td>\n",
       "    </tr>\n",
       "    <tr>\n",
       "      <th>std</th>\n",
       "      <td>39.203930</td>\n",
       "      <td>36.760156</td>\n",
       "    </tr>\n",
       "    <tr>\n",
       "      <th>min</th>\n",
       "      <td>0.000000</td>\n",
       "      <td>0.000000</td>\n",
       "    </tr>\n",
       "    <tr>\n",
       "      <th>25%</th>\n",
       "      <td>1.000000</td>\n",
       "      <td>2.000000</td>\n",
       "    </tr>\n",
       "    <tr>\n",
       "      <th>50%</th>\n",
       "      <td>40.000000</td>\n",
       "      <td>41.000000</td>\n",
       "    </tr>\n",
       "    <tr>\n",
       "      <th>75%</th>\n",
       "      <td>84.000000</td>\n",
       "      <td>75.000000</td>\n",
       "    </tr>\n",
       "    <tr>\n",
       "      <th>max</th>\n",
       "      <td>100.000000</td>\n",
       "      <td>100.000000</td>\n",
       "    </tr>\n",
       "  </tbody>\n",
       "</table>\n",
       "</div>"
      ],
      "text/plain": [
       "        cand_trump   cand_biden\n",
       "count  1907.000000  1905.000000\n",
       "mean     42.628736    42.544882\n",
       "std      39.203930    36.760156\n",
       "min       0.000000     0.000000\n",
       "25%       1.000000     2.000000\n",
       "50%      40.000000    41.000000\n",
       "75%      84.000000    75.000000\n",
       "max     100.000000   100.000000"
      ]
     },
     "execution_count": 207,
     "metadata": {},
     "output_type": "execute_result"
    },
    {
     "data": {
      "application/javascript": [
       "\n",
       "            setTimeout(function() {\n",
       "                var nbb_cell_id = 207;\n",
       "                var nbb_unformatted_code = \"sample[columns].replace(-7, np.nan).describe()\";\n",
       "                var nbb_formatted_code = \"sample[columns].replace(-7, np.nan).describe()\";\n",
       "                var nbb_cells = Jupyter.notebook.get_cells();\n",
       "                for (var i = 0; i < nbb_cells.length; ++i) {\n",
       "                    if (nbb_cells[i].input_prompt_number == nbb_cell_id) {\n",
       "                        if (nbb_cells[i].get_text() == nbb_unformatted_code) {\n",
       "                             nbb_cells[i].set_text(nbb_formatted_code);\n",
       "                        }\n",
       "                        break;\n",
       "                    }\n",
       "                }\n",
       "            }, 500);\n",
       "            "
      ],
      "text/plain": [
       "<IPython.core.display.Javascript object>"
      ]
     },
     "metadata": {},
     "output_type": "display_data"
    }
   ],
   "source": [
    "sample[columns].replace(-7, np.nan).describe()"
   ]
  },
  {
   "cell_type": "code",
   "execution_count": 208,
   "id": "88e48e7b",
   "metadata": {},
   "outputs": [
    {
     "data": {
      "text/plain": [
       "(909, 1000)"
      ]
     },
     "execution_count": 208,
     "metadata": {},
     "output_type": "execute_result"
    },
    {
     "data": {
      "application/javascript": [
       "\n",
       "            setTimeout(function() {\n",
       "                var nbb_cell_id = 208;\n",
       "                var nbb_unformatted_code = \"sample_male = sample.query(\\\"gender == 1\\\").replace(-7, np.nan)\\nsample_female = sample.query(\\\"gender == 2\\\").replace(-7, np.nan)\\nlen(sample_male), len(sample_female)\";\n",
       "                var nbb_formatted_code = \"sample_male = sample.query(\\\"gender == 1\\\").replace(-7, np.nan)\\nsample_female = sample.query(\\\"gender == 2\\\").replace(-7, np.nan)\\nlen(sample_male), len(sample_female)\";\n",
       "                var nbb_cells = Jupyter.notebook.get_cells();\n",
       "                for (var i = 0; i < nbb_cells.length; ++i) {\n",
       "                    if (nbb_cells[i].input_prompt_number == nbb_cell_id) {\n",
       "                        if (nbb_cells[i].get_text() == nbb_unformatted_code) {\n",
       "                             nbb_cells[i].set_text(nbb_formatted_code);\n",
       "                        }\n",
       "                        break;\n",
       "                    }\n",
       "                }\n",
       "            }, 500);\n",
       "            "
      ],
      "text/plain": [
       "<IPython.core.display.Javascript object>"
      ]
     },
     "metadata": {},
     "output_type": "display_data"
    }
   ],
   "source": [
    "sample_male = sample.query(\"gender == 1\").replace(-7, np.nan)\n",
    "sample_female = sample.query(\"gender == 2\").replace(-7, np.nan)\n",
    "len(sample_male), len(sample_female)"
   ]
  },
  {
   "cell_type": "code",
   "execution_count": 209,
   "id": "9c7b2d5f",
   "metadata": {},
   "outputs": [
    {
     "data": {
      "text/html": [
       "<div>\n",
       "<style scoped>\n",
       "    .dataframe tbody tr th:only-of-type {\n",
       "        vertical-align: middle;\n",
       "    }\n",
       "\n",
       "    .dataframe tbody tr th {\n",
       "        vertical-align: top;\n",
       "    }\n",
       "\n",
       "    .dataframe thead th {\n",
       "        text-align: right;\n",
       "    }\n",
       "</style>\n",
       "<table border=\"1\" class=\"dataframe\">\n",
       "  <thead>\n",
       "    <tr style=\"text-align: right;\">\n",
       "      <th></th>\n",
       "      <th>male</th>\n",
       "      <th>female</th>\n",
       "    </tr>\n",
       "  </thead>\n",
       "  <tbody>\n",
       "    <tr>\n",
       "      <th>cand_trump</th>\n",
       "      <td>45.216722</td>\n",
       "      <td>40.271543</td>\n",
       "    </tr>\n",
       "    <tr>\n",
       "      <th>cand_biden</th>\n",
       "      <td>42.903867</td>\n",
       "      <td>42.220000</td>\n",
       "    </tr>\n",
       "  </tbody>\n",
       "</table>\n",
       "</div>"
      ],
      "text/plain": [
       "                 male     female\n",
       "cand_trump  45.216722  40.271543\n",
       "cand_biden  42.903867  42.220000"
      ]
     },
     "execution_count": 209,
     "metadata": {},
     "output_type": "execute_result"
    },
    {
     "data": {
      "application/javascript": [
       "\n",
       "            setTimeout(function() {\n",
       "                var nbb_cell_id = 209;\n",
       "                var nbb_unformatted_code = \"d = dict(male=sample_male[columns].mean(), female=sample_female[columns].mean())\\nratings_df = pd.DataFrame(d).sort_values(by=\\\"female\\\")\\nratings_df\";\n",
       "                var nbb_formatted_code = \"d = dict(male=sample_male[columns].mean(), female=sample_female[columns].mean())\\nratings_df = pd.DataFrame(d).sort_values(by=\\\"female\\\")\\nratings_df\";\n",
       "                var nbb_cells = Jupyter.notebook.get_cells();\n",
       "                for (var i = 0; i < nbb_cells.length; ++i) {\n",
       "                    if (nbb_cells[i].input_prompt_number == nbb_cell_id) {\n",
       "                        if (nbb_cells[i].get_text() == nbb_unformatted_code) {\n",
       "                             nbb_cells[i].set_text(nbb_formatted_code);\n",
       "                        }\n",
       "                        break;\n",
       "                    }\n",
       "                }\n",
       "            }, 500);\n",
       "            "
      ],
      "text/plain": [
       "<IPython.core.display.Javascript object>"
      ]
     },
     "metadata": {},
     "output_type": "display_data"
    }
   ],
   "source": [
    "d = dict(male=sample_male[columns].mean(), female=sample_female[columns].mean())\n",
    "ratings_df = pd.DataFrame(d).sort_values(by=\"female\")\n",
    "ratings_df"
   ]
  },
  {
   "cell_type": "code",
   "execution_count": 210,
   "id": "e2bf9c18",
   "metadata": {},
   "outputs": [
    {
     "data": {
      "application/javascript": [
       "\n",
       "            setTimeout(function() {\n",
       "                var nbb_cell_id = 210;\n",
       "                var nbb_unformatted_code = \"def plot_ratings(summary, names):\\n    plt.hlines(\\n        names,\\n        summary[\\\"male\\\"],\\n        summary[\\\"female\\\"],\\n        color=\\\"gray\\\",\\n        alpha=0.2,\\n    )\\n\\n    draw_markers(summary['male'], names, 's', label='male')\\n    draw_markers(summary['female'], names, 'o', label='female')\";\n",
       "                var nbb_formatted_code = \"def plot_ratings(summary, names):\\n    plt.hlines(\\n        names,\\n        summary[\\\"male\\\"],\\n        summary[\\\"female\\\"],\\n        color=\\\"gray\\\",\\n        alpha=0.2,\\n    )\\n\\n    draw_markers(summary[\\\"male\\\"], names, \\\"s\\\", label=\\\"male\\\")\\n    draw_markers(summary[\\\"female\\\"], names, \\\"o\\\", label=\\\"female\\\")\";\n",
       "                var nbb_cells = Jupyter.notebook.get_cells();\n",
       "                for (var i = 0; i < nbb_cells.length; ++i) {\n",
       "                    if (nbb_cells[i].input_prompt_number == nbb_cell_id) {\n",
       "                        if (nbb_cells[i].get_text() == nbb_unformatted_code) {\n",
       "                             nbb_cells[i].set_text(nbb_formatted_code);\n",
       "                        }\n",
       "                        break;\n",
       "                    }\n",
       "                }\n",
       "            }, 500);\n",
       "            "
      ],
      "text/plain": [
       "<IPython.core.display.Javascript object>"
      ]
     },
     "metadata": {},
     "output_type": "display_data"
    }
   ],
   "source": [
    "def plot_ratings(summary, names):\n",
    "    plt.hlines(\n",
    "        names,\n",
    "        summary[\"male\"],\n",
    "        summary[\"female\"],\n",
    "        color=\"gray\",\n",
    "        alpha=0.2,\n",
    "    )\n",
    "\n",
    "    draw_markers(summary['male'], names, 's', label='male')\n",
    "    draw_markers(summary['female'], names, 'o', label='female')\n"
   ]
  },
  {
   "cell_type": "code",
   "execution_count": 211,
   "id": "3cf187ec",
   "metadata": {
    "scrolled": true
   },
   "outputs": [
    {
     "data": {
      "image/png": "[encoded data removed]",
      "text/plain": [
       "<Figure size 450x150 with 1 Axes>"
      ]
     },
     "metadata": {},
     "output_type": "display_data"
    },
    {
     "data": {
      "application/javascript": [
       "\n",
       "            setTimeout(function() {\n",
       "                var nbb_cell_id = 211;\n",
       "                var nbb_unformatted_code = \"plt.figure(figsize=(6, 2))\\nnames = ratings_df.index\\nplot_ratings(ratings_df, names)\\ndecorate(xlabel=\\\"Average rating (0-100)\\\")\";\n",
       "                var nbb_formatted_code = \"plt.figure(figsize=(6, 2))\\nnames = ratings_df.index\\nplot_ratings(ratings_df, names)\\ndecorate(xlabel=\\\"Average rating (0-100)\\\")\";\n",
       "                var nbb_cells = Jupyter.notebook.get_cells();\n",
       "                for (var i = 0; i < nbb_cells.length; ++i) {\n",
       "                    if (nbb_cells[i].input_prompt_number == nbb_cell_id) {\n",
       "                        if (nbb_cells[i].get_text() == nbb_unformatted_code) {\n",
       "                             nbb_cells[i].set_text(nbb_formatted_code);\n",
       "                        }\n",
       "                        break;\n",
       "                    }\n",
       "                }\n",
       "            }, 500);\n",
       "            "
      ],
      "text/plain": [
       "<IPython.core.display.Javascript object>"
      ]
     },
     "metadata": {},
     "output_type": "display_data"
    }
   ],
   "source": [
    "plt.figure(figsize=(6, 2))\n",
    "names = ratings_df.index\n",
    "plot_ratings(ratings_df, names)\n",
    "decorate(xlabel=\"Average rating (0-100)\")"
   ]
  },
  {
   "cell_type": "code",
   "execution_count": 212,
   "id": "ca8ffc9c",
   "metadata": {},
   "outputs": [
    {
     "data": {
      "text/plain": [
       "['group_maga',\n",
       " 'group_demsoc',\n",
       " 'group_fascists',\n",
       " 'group_kkk',\n",
       " 'group_nazi',\n",
       " 'group_blm',\n",
       " 'group_atheists',\n",
       " 'group_prolife',\n",
       " 'group_prochoice',\n",
       " 'group_gunrights',\n",
       " 'group_lgbtrights',\n",
       " 'group_feminists',\n",
       " 'group_whitesup',\n",
       " 'group_antigay',\n",
       " 'group_socialist',\n",
       " 'group_antifa',\n",
       " 'group_christfund',\n",
       " 'group_laborun',\n",
       " 'group_bigbus',\n",
       " 'group_gayles',\n",
       " 'group_transppl',\n",
       " 'group_christians',\n",
       " 'group_police',\n",
       " 'group_journal',\n",
       " 'group_nra',\n",
       " 'group_ruralam',\n",
       " 'group_planparent',\n",
       " 'group_colprofs',\n",
       " 'group_black',\n",
       " 'group_white',\n",
       " 'group_hispanic',\n",
       " 'group_asian',\n",
       " 'group_transmen',\n",
       " 'group_transwom',\n",
       " 'group_jews',\n",
       " 'group_muslims']"
      ]
     },
     "execution_count": 212,
     "metadata": {},
     "output_type": "execute_result"
    },
    {
     "data": {
      "application/javascript": [
       "\n",
       "            setTimeout(function() {\n",
       "                var nbb_cell_id = 212;\n",
       "                var nbb_unformatted_code = \"columns = find_columns(sample, \\\"group_\\\")\\ncolumns\";\n",
       "                var nbb_formatted_code = \"columns = find_columns(sample, \\\"group_\\\")\\ncolumns\";\n",
       "                var nbb_cells = Jupyter.notebook.get_cells();\n",
       "                for (var i = 0; i < nbb_cells.length; ++i) {\n",
       "                    if (nbb_cells[i].input_prompt_number == nbb_cell_id) {\n",
       "                        if (nbb_cells[i].get_text() == nbb_unformatted_code) {\n",
       "                             nbb_cells[i].set_text(nbb_formatted_code);\n",
       "                        }\n",
       "                        break;\n",
       "                    }\n",
       "                }\n",
       "            }, 500);\n",
       "            "
      ],
      "text/plain": [
       "<IPython.core.display.Javascript object>"
      ]
     },
     "metadata": {},
     "output_type": "display_data"
    }
   ],
   "source": [
    "columns = find_columns(sample, \"group_\")\n",
    "columns"
   ]
  },
  {
   "cell_type": "code",
   "execution_count": 213,
   "id": "f6ad1550",
   "metadata": {},
   "outputs": [
    {
     "data": {
      "text/html": [
       "<div>\n",
       "<style scoped>\n",
       "    .dataframe tbody tr th:only-of-type {\n",
       "        vertical-align: middle;\n",
       "    }\n",
       "\n",
       "    .dataframe tbody tr th {\n",
       "        vertical-align: top;\n",
       "    }\n",
       "\n",
       "    .dataframe thead th {\n",
       "        text-align: right;\n",
       "    }\n",
       "</style>\n",
       "<table border=\"1\" class=\"dataframe\">\n",
       "  <thead>\n",
       "    <tr style=\"text-align: right;\">\n",
       "      <th></th>\n",
       "      <th>group_maga</th>\n",
       "      <th>group_demsoc</th>\n",
       "      <th>group_fascists</th>\n",
       "      <th>group_kkk</th>\n",
       "      <th>group_nazi</th>\n",
       "      <th>group_blm</th>\n",
       "      <th>group_atheists</th>\n",
       "      <th>group_prolife</th>\n",
       "      <th>group_prochoice</th>\n",
       "      <th>group_gunrights</th>\n",
       "      <th>...</th>\n",
       "      <th>group_planparent</th>\n",
       "      <th>group_colprofs</th>\n",
       "      <th>group_black</th>\n",
       "      <th>group_white</th>\n",
       "      <th>group_hispanic</th>\n",
       "      <th>group_asian</th>\n",
       "      <th>group_transmen</th>\n",
       "      <th>group_transwom</th>\n",
       "      <th>group_jews</th>\n",
       "      <th>group_muslims</th>\n",
       "    </tr>\n",
       "  </thead>\n",
       "  <tbody>\n",
       "    <tr>\n",
       "      <th>count</th>\n",
       "      <td>1900.000000</td>\n",
       "      <td>1902.000000</td>\n",
       "      <td>1901.000000</td>\n",
       "      <td>1893.000000</td>\n",
       "      <td>1903.000000</td>\n",
       "      <td>1909.000000</td>\n",
       "      <td>1909.000000</td>\n",
       "      <td>1908.000000</td>\n",
       "      <td>1905.000000</td>\n",
       "      <td>1906.000000</td>\n",
       "      <td>...</td>\n",
       "      <td>1909.000000</td>\n",
       "      <td>1905.000000</td>\n",
       "      <td>1909.000000</td>\n",
       "      <td>1907.000000</td>\n",
       "      <td>1909.000000</td>\n",
       "      <td>1908.000000</td>\n",
       "      <td>1908.000000</td>\n",
       "      <td>1909.000000</td>\n",
       "      <td>1909.000000</td>\n",
       "      <td>1909.000000</td>\n",
       "    </tr>\n",
       "    <tr>\n",
       "      <th>mean</th>\n",
       "      <td>36.466842</td>\n",
       "      <td>42.864879</td>\n",
       "      <td>17.269858</td>\n",
       "      <td>10.526149</td>\n",
       "      <td>12.376248</td>\n",
       "      <td>46.343112</td>\n",
       "      <td>47.551074</td>\n",
       "      <td>48.323375</td>\n",
       "      <td>55.205774</td>\n",
       "      <td>49.528332</td>\n",
       "      <td>...</td>\n",
       "      <td>56.900471</td>\n",
       "      <td>57.791601</td>\n",
       "      <td>71.162913</td>\n",
       "      <td>70.362349</td>\n",
       "      <td>70.647983</td>\n",
       "      <td>71.623690</td>\n",
       "      <td>44.306080</td>\n",
       "      <td>45.786799</td>\n",
       "      <td>69.691461</td>\n",
       "      <td>55.476166</td>\n",
       "    </tr>\n",
       "    <tr>\n",
       "      <th>std</th>\n",
       "      <td>34.430421</td>\n",
       "      <td>33.944863</td>\n",
       "      <td>23.709143</td>\n",
       "      <td>21.519203</td>\n",
       "      <td>21.914428</td>\n",
       "      <td>36.238511</td>\n",
       "      <td>30.101577</td>\n",
       "      <td>33.528060</td>\n",
       "      <td>33.561756</td>\n",
       "      <td>34.221626</td>\n",
       "      <td>...</td>\n",
       "      <td>35.231096</td>\n",
       "      <td>27.966463</td>\n",
       "      <td>25.029211</td>\n",
       "      <td>23.460451</td>\n",
       "      <td>24.335804</td>\n",
       "      <td>23.228531</td>\n",
       "      <td>34.163579</td>\n",
       "      <td>35.035518</td>\n",
       "      <td>25.384024</td>\n",
       "      <td>27.897745</td>\n",
       "    </tr>\n",
       "    <tr>\n",
       "      <th>min</th>\n",
       "      <td>0.000000</td>\n",
       "      <td>0.000000</td>\n",
       "      <td>0.000000</td>\n",
       "      <td>0.000000</td>\n",
       "      <td>0.000000</td>\n",
       "      <td>0.000000</td>\n",
       "      <td>0.000000</td>\n",
       "      <td>0.000000</td>\n",
       "      <td>0.000000</td>\n",
       "      <td>0.000000</td>\n",
       "      <td>...</td>\n",
       "      <td>0.000000</td>\n",
       "      <td>0.000000</td>\n",
       "      <td>0.000000</td>\n",
       "      <td>0.000000</td>\n",
       "      <td>0.000000</td>\n",
       "      <td>0.000000</td>\n",
       "      <td>0.000000</td>\n",
       "      <td>0.000000</td>\n",
       "      <td>0.000000</td>\n",
       "      <td>0.000000</td>\n",
       "    </tr>\n",
       "    <tr>\n",
       "      <th>25%</th>\n",
       "      <td>1.000000</td>\n",
       "      <td>5.000000</td>\n",
       "      <td>0.000000</td>\n",
       "      <td>0.000000</td>\n",
       "      <td>0.000000</td>\n",
       "      <td>3.000000</td>\n",
       "      <td>25.000000</td>\n",
       "      <td>15.000000</td>\n",
       "      <td>29.000000</td>\n",
       "      <td>16.000000</td>\n",
       "      <td>...</td>\n",
       "      <td>26.000000</td>\n",
       "      <td>45.000000</td>\n",
       "      <td>50.000000</td>\n",
       "      <td>51.000000</td>\n",
       "      <td>51.000000</td>\n",
       "      <td>51.000000</td>\n",
       "      <td>7.000000</td>\n",
       "      <td>6.000000</td>\n",
       "      <td>51.000000</td>\n",
       "      <td>43.000000</td>\n",
       "    </tr>\n",
       "    <tr>\n",
       "      <th>50%</th>\n",
       "      <td>33.000000</td>\n",
       "      <td>50.000000</td>\n",
       "      <td>3.000000</td>\n",
       "      <td>0.000000</td>\n",
       "      <td>1.000000</td>\n",
       "      <td>50.000000</td>\n",
       "      <td>50.000000</td>\n",
       "      <td>50.000000</td>\n",
       "      <td>53.000000</td>\n",
       "      <td>50.000000</td>\n",
       "      <td>...</td>\n",
       "      <td>61.000000</td>\n",
       "      <td>60.000000</td>\n",
       "      <td>74.000000</td>\n",
       "      <td>71.000000</td>\n",
       "      <td>72.000000</td>\n",
       "      <td>74.000000</td>\n",
       "      <td>50.000000</td>\n",
       "      <td>50.000000</td>\n",
       "      <td>72.000000</td>\n",
       "      <td>53.000000</td>\n",
       "    </tr>\n",
       "    <tr>\n",
       "      <th>75%</th>\n",
       "      <td>60.000000</td>\n",
       "      <td>70.000000</td>\n",
       "      <td>30.000000</td>\n",
       "      <td>6.000000</td>\n",
       "      <td>14.000000</td>\n",
       "      <td>78.000000</td>\n",
       "      <td>67.000000</td>\n",
       "      <td>75.000000</td>\n",
       "      <td>86.000000</td>\n",
       "      <td>80.000000</td>\n",
       "      <td>...</td>\n",
       "      <td>89.000000</td>\n",
       "      <td>81.000000</td>\n",
       "      <td>94.000000</td>\n",
       "      <td>90.000000</td>\n",
       "      <td>93.000000</td>\n",
       "      <td>91.000000</td>\n",
       "      <td>71.000000</td>\n",
       "      <td>75.000000</td>\n",
       "      <td>90.000000</td>\n",
       "      <td>76.000000</td>\n",
       "    </tr>\n",
       "    <tr>\n",
       "      <th>max</th>\n",
       "      <td>100.000000</td>\n",
       "      <td>100.000000</td>\n",
       "      <td>100.000000</td>\n",
       "      <td>100.000000</td>\n",
       "      <td>100.000000</td>\n",
       "      <td>100.000000</td>\n",
       "      <td>100.000000</td>\n",
       "      <td>100.000000</td>\n",
       "      <td>100.000000</td>\n",
       "      <td>100.000000</td>\n",
       "      <td>...</td>\n",
       "      <td>100.000000</td>\n",
       "      <td>100.000000</td>\n",
       "      <td>100.000000</td>\n",
       "      <td>100.000000</td>\n",
       "      <td>100.000000</td>\n",
       "      <td>100.000000</td>\n",
       "      <td>100.000000</td>\n",
       "      <td>100.000000</td>\n",
       "      <td>100.000000</td>\n",
       "      <td>100.000000</td>\n",
       "    </tr>\n",
       "  </tbody>\n",
       "</table>\n",
       "<p>8 rows × 36 columns</p>\n",
       "</div>"
      ],
      "text/plain": [
       "        group_maga  group_demsoc  group_fascists    group_kkk   group_nazi  \\\n",
       "count  1900.000000   1902.000000     1901.000000  1893.000000  1903.000000   \n",
       "mean     36.466842     42.864879       17.269858    10.526149    12.376248   \n",
       "std      34.430421     33.944863       23.709143    21.519203    21.914428   \n",
       "min       0.000000      0.000000        0.000000     0.000000     0.000000   \n",
       "25%       1.000000      5.000000        0.000000     0.000000     0.000000   \n",
       "50%      33.000000     50.000000        3.000000     0.000000     1.000000   \n",
       "75%      60.000000     70.000000       30.000000     6.000000    14.000000   \n",
       "max     100.000000    100.000000      100.000000   100.000000   100.000000   \n",
       "\n",
       "         group_blm  group_atheists  group_prolife  group_prochoice  \\\n",
       "count  1909.000000     1909.000000    1908.000000      1905.000000   \n",
       "mean     46.343112       47.551074      48.323375        55.205774   \n",
       "std      36.238511       30.101577      33.528060        33.561756   \n",
       "min       0.000000        0.000000       0.000000         0.000000   \n",
       "25%       3.000000       25.000000      15.000000        29.000000   \n",
       "50%      50.000000       50.000000      50.000000        53.000000   \n",
       "75%      78.000000       67.000000      75.000000        86.000000   \n",
       "max     100.000000      100.000000     100.000000       100.000000   \n",
       "\n",
       "       group_gunrights  ...  group_planparent  group_colprofs  group_black  \\\n",
       "count      1906.000000  ...       1909.000000     1905.000000  1909.000000   \n",
       "mean         49.528332  ...         56.900471       57.791601    71.162913   \n",
       "std          34.221626  ...         35.231096       27.966463    25.029211   \n",
       "min           0.000000  ...          0.000000        0.000000     0.000000   \n",
       "25%          16.000000  ...         26.000000       45.000000    50.000000   \n",
       "50%          50.000000  ...         61.000000       60.000000    74.000000   \n",
       "75%          80.000000  ...         89.000000       81.000000    94.000000   \n",
       "max         100.000000  ...        100.000000      100.000000   100.000000   \n",
       "\n",
       "       group_white  group_hispanic  group_asian  group_transmen  \\\n",
       "count  1907.000000     1909.000000  1908.000000     1908.000000   \n",
       "mean     70.362349       70.647983    71.623690       44.306080   \n",
       "std      23.460451       24.335804    23.228531       34.163579   \n",
       "min       0.000000        0.000000     0.000000        0.000000   \n",
       "25%      51.000000       51.000000    51.000000        7.000000   \n",
       "50%      71.000000       72.000000    74.000000       50.000000   \n",
       "75%      90.000000       93.000000    91.000000       71.000000   \n",
       "max     100.000000      100.000000   100.000000      100.000000   \n",
       "\n",
       "       group_transwom   group_jews  group_muslims  \n",
       "count     1909.000000  1909.000000    1909.000000  \n",
       "mean        45.786799    69.691461      55.476166  \n",
       "std         35.035518    25.384024      27.897745  \n",
       "min          0.000000     0.000000       0.000000  \n",
       "25%          6.000000    51.000000      43.000000  \n",
       "50%         50.000000    72.000000      53.000000  \n",
       "75%         75.000000    90.000000      76.000000  \n",
       "max        100.000000   100.000000     100.000000  \n",
       "\n",
       "[8 rows x 36 columns]"
      ]
     },
     "execution_count": 213,
     "metadata": {},
     "output_type": "execute_result"
    },
    {
     "data": {
      "application/javascript": [
       "\n",
       "            setTimeout(function() {\n",
       "                var nbb_cell_id = 213;\n",
       "                var nbb_unformatted_code = \"sample[columns].replace(-7, np.nan).describe()\";\n",
       "                var nbb_formatted_code = \"sample[columns].replace(-7, np.nan).describe()\";\n",
       "                var nbb_cells = Jupyter.notebook.get_cells();\n",
       "                for (var i = 0; i < nbb_cells.length; ++i) {\n",
       "                    if (nbb_cells[i].input_prompt_number == nbb_cell_id) {\n",
       "                        if (nbb_cells[i].get_text() == nbb_unformatted_code) {\n",
       "                             nbb_cells[i].set_text(nbb_formatted_code);\n",
       "                        }\n",
       "                        break;\n",
       "                    }\n",
       "                }\n",
       "            }, 500);\n",
       "            "
      ],
      "text/plain": [
       "<IPython.core.display.Javascript object>"
      ]
     },
     "metadata": {},
     "output_type": "display_data"
    }
   ],
   "source": [
    "sample[columns].replace(-7, np.nan).describe()"
   ]
  },
  {
   "cell_type": "code",
   "execution_count": 214,
   "id": "862bea69",
   "metadata": {},
   "outputs": [
    {
     "data": {
      "text/plain": [
       "(909, 1000)"
      ]
     },
     "execution_count": 214,
     "metadata": {},
     "output_type": "execute_result"
    },
    {
     "data": {
      "application/javascript": [
       "\n",
       "            setTimeout(function() {\n",
       "                var nbb_cell_id = 214;\n",
       "                var nbb_unformatted_code = \"sample_male = sample.query(\\\"gender == 1\\\").replace(-7, np.nan)\\nsample_female = sample.query(\\\"gender == 2\\\").replace(-7, np.nan)\\nlen(sample_male), len(sample_female)\";\n",
       "                var nbb_formatted_code = \"sample_male = sample.query(\\\"gender == 1\\\").replace(-7, np.nan)\\nsample_female = sample.query(\\\"gender == 2\\\").replace(-7, np.nan)\\nlen(sample_male), len(sample_female)\";\n",
       "                var nbb_cells = Jupyter.notebook.get_cells();\n",
       "                for (var i = 0; i < nbb_cells.length; ++i) {\n",
       "                    if (nbb_cells[i].input_prompt_number == nbb_cell_id) {\n",
       "                        if (nbb_cells[i].get_text() == nbb_unformatted_code) {\n",
       "                             nbb_cells[i].set_text(nbb_formatted_code);\n",
       "                        }\n",
       "                        break;\n",
       "                    }\n",
       "                }\n",
       "            }, 500);\n",
       "            "
      ],
      "text/plain": [
       "<IPython.core.display.Javascript object>"
      ]
     },
     "metadata": {},
     "output_type": "display_data"
    }
   ],
   "source": [
    "sample_male = sample.query(\"gender == 1\").replace(-7, np.nan)\n",
    "sample_female = sample.query(\"gender == 2\").replace(-7, np.nan)\n",
    "len(sample_male), len(sample_female)"
   ]
  },
  {
   "cell_type": "code",
   "execution_count": 215,
   "id": "5efd629c",
   "metadata": {},
   "outputs": [
    {
     "data": {
      "text/html": [
       "<div>\n",
       "<style scoped>\n",
       "    .dataframe tbody tr th:only-of-type {\n",
       "        vertical-align: middle;\n",
       "    }\n",
       "\n",
       "    .dataframe tbody tr th {\n",
       "        vertical-align: top;\n",
       "    }\n",
       "\n",
       "    .dataframe thead th {\n",
       "        text-align: right;\n",
       "    }\n",
       "</style>\n",
       "<table border=\"1\" class=\"dataframe\">\n",
       "  <thead>\n",
       "    <tr style=\"text-align: right;\">\n",
       "      <th></th>\n",
       "      <th>male</th>\n",
       "      <th>female</th>\n",
       "    </tr>\n",
       "  </thead>\n",
       "  <tbody>\n",
       "    <tr>\n",
       "      <th>group_kkk</th>\n",
       "      <td>13.201111</td>\n",
       "      <td>8.101712</td>\n",
       "    </tr>\n",
       "    <tr>\n",
       "      <th>group_nazi</th>\n",
       "      <td>13.027533</td>\n",
       "      <td>11.781910</td>\n",
       "    </tr>\n",
       "    <tr>\n",
       "      <th>group_whitesup</th>\n",
       "      <td>17.191630</td>\n",
       "      <td>12.772545</td>\n",
       "    </tr>\n",
       "    <tr>\n",
       "      <th>group_fascists</th>\n",
       "      <td>16.914917</td>\n",
       "      <td>17.592369</td>\n",
       "    </tr>\n",
       "    <tr>\n",
       "      <th>group_antifa</th>\n",
       "      <td>29.646993</td>\n",
       "      <td>27.469867</td>\n",
       "    </tr>\n",
       "    <tr>\n",
       "      <th>group_antigay</th>\n",
       "      <td>27.580858</td>\n",
       "      <td>29.914915</td>\n",
       "    </tr>\n",
       "    <tr>\n",
       "      <th>group_maga</th>\n",
       "      <td>39.538803</td>\n",
       "      <td>33.690381</td>\n",
       "    </tr>\n",
       "    <tr>\n",
       "      <th>group_socialist</th>\n",
       "      <td>39.321192</td>\n",
       "      <td>39.543544</td>\n",
       "    </tr>\n",
       "    <tr>\n",
       "      <th>group_christfund</th>\n",
       "      <td>44.708471</td>\n",
       "      <td>42.558350</td>\n",
       "    </tr>\n",
       "    <tr>\n",
       "      <th>group_demsoc</th>\n",
       "      <td>42.199559</td>\n",
       "      <td>43.471357</td>\n",
       "    </tr>\n",
       "    <tr>\n",
       "      <th>group_nra</th>\n",
       "      <td>47.529153</td>\n",
       "      <td>44.184000</td>\n",
       "    </tr>\n",
       "    <tr>\n",
       "      <th>group_atheists</th>\n",
       "      <td>50.752475</td>\n",
       "      <td>44.641000</td>\n",
       "    </tr>\n",
       "    <tr>\n",
       "      <th>group_gunrights</th>\n",
       "      <td>52.644664</td>\n",
       "      <td>46.687061</td>\n",
       "    </tr>\n",
       "    <tr>\n",
       "      <th>group_bigbus</th>\n",
       "      <td>45.973597</td>\n",
       "      <td>47.189000</td>\n",
       "    </tr>\n",
       "    <tr>\n",
       "      <th>group_transmen</th>\n",
       "      <td>40.689427</td>\n",
       "      <td>47.590000</td>\n",
       "    </tr>\n",
       "    <tr>\n",
       "      <th>group_prolife</th>\n",
       "      <td>48.396040</td>\n",
       "      <td>48.257257</td>\n",
       "    </tr>\n",
       "    <tr>\n",
       "      <th>group_blm</th>\n",
       "      <td>43.642464</td>\n",
       "      <td>48.798000</td>\n",
       "    </tr>\n",
       "    <tr>\n",
       "      <th>group_transwom</th>\n",
       "      <td>42.453245</td>\n",
       "      <td>48.817000</td>\n",
       "    </tr>\n",
       "    <tr>\n",
       "      <th>group_lgbtrights</th>\n",
       "      <td>45.169417</td>\n",
       "      <td>50.861862</td>\n",
       "    </tr>\n",
       "    <tr>\n",
       "      <th>group_transppl</th>\n",
       "      <td>44.275330</td>\n",
       "      <td>51.905000</td>\n",
       "    </tr>\n",
       "    <tr>\n",
       "      <th>group_journal</th>\n",
       "      <td>50.455446</td>\n",
       "      <td>55.530531</td>\n",
       "    </tr>\n",
       "    <tr>\n",
       "      <th>group_feminists</th>\n",
       "      <td>47.938258</td>\n",
       "      <td>55.862863</td>\n",
       "    </tr>\n",
       "    <tr>\n",
       "      <th>group_muslims</th>\n",
       "      <td>53.673267</td>\n",
       "      <td>57.115000</td>\n",
       "    </tr>\n",
       "    <tr>\n",
       "      <th>group_prochoice</th>\n",
       "      <td>53.042904</td>\n",
       "      <td>57.179719</td>\n",
       "    </tr>\n",
       "    <tr>\n",
       "      <th>group_laborun</th>\n",
       "      <td>54.510451</td>\n",
       "      <td>58.642643</td>\n",
       "    </tr>\n",
       "    <tr>\n",
       "      <th>group_gayles</th>\n",
       "      <td>53.910793</td>\n",
       "      <td>59.437000</td>\n",
       "    </tr>\n",
       "    <tr>\n",
       "      <th>group_colprofs</th>\n",
       "      <td>55.259669</td>\n",
       "      <td>60.083000</td>\n",
       "    </tr>\n",
       "    <tr>\n",
       "      <th>group_planparent</th>\n",
       "      <td>52.557756</td>\n",
       "      <td>60.848000</td>\n",
       "    </tr>\n",
       "    <tr>\n",
       "      <th>group_police</th>\n",
       "      <td>63.262926</td>\n",
       "      <td>64.792000</td>\n",
       "    </tr>\n",
       "    <tr>\n",
       "      <th>group_christians</th>\n",
       "      <td>65.334433</td>\n",
       "      <td>67.467467</td>\n",
       "    </tr>\n",
       "    <tr>\n",
       "      <th>group_ruralam</th>\n",
       "      <td>70.680968</td>\n",
       "      <td>69.284137</td>\n",
       "    </tr>\n",
       "    <tr>\n",
       "      <th>group_white</th>\n",
       "      <td>70.770077</td>\n",
       "      <td>69.990982</td>\n",
       "    </tr>\n",
       "    <tr>\n",
       "      <th>group_asian</th>\n",
       "      <td>71.596260</td>\n",
       "      <td>71.648649</td>\n",
       "    </tr>\n",
       "    <tr>\n",
       "      <th>group_jews</th>\n",
       "      <td>67.261826</td>\n",
       "      <td>71.900000</td>\n",
       "    </tr>\n",
       "    <tr>\n",
       "      <th>group_hispanic</th>\n",
       "      <td>68.584158</td>\n",
       "      <td>72.524000</td>\n",
       "    </tr>\n",
       "    <tr>\n",
       "      <th>group_black</th>\n",
       "      <td>69.431243</td>\n",
       "      <td>72.737000</td>\n",
       "    </tr>\n",
       "  </tbody>\n",
       "</table>\n",
       "</div>"
      ],
      "text/plain": [
       "                       male     female\n",
       "group_kkk         13.201111   8.101712\n",
       "group_nazi        13.027533  11.781910\n",
       "group_whitesup    17.191630  12.772545\n",
       "group_fascists    16.914917  17.592369\n",
       "group_antifa      29.646993  27.469867\n",
       "group_antigay     27.580858  29.914915\n",
       "group_maga        39.538803  33.690381\n",
       "group_socialist   39.321192  39.543544\n",
       "group_christfund  44.708471  42.558350\n",
       "group_demsoc      42.199559  43.471357\n",
       "group_nra         47.529153  44.184000\n",
       "group_atheists    50.752475  44.641000\n",
       "group_gunrights   52.644664  46.687061\n",
       "group_bigbus      45.973597  47.189000\n",
       "group_transmen    40.689427  47.590000\n",
       "group_prolife     48.396040  48.257257\n",
       "group_blm         43.642464  48.798000\n",
       "group_transwom    42.453245  48.817000\n",
       "group_lgbtrights  45.169417  50.861862\n",
       "group_transppl    44.275330  51.905000\n",
       "group_journal     50.455446  55.530531\n",
       "group_feminists   47.938258  55.862863\n",
       "group_muslims     53.673267  57.115000\n",
       "group_prochoice   53.042904  57.179719\n",
       "group_laborun     54.510451  58.642643\n",
       "group_gayles      53.910793  59.437000\n",
       "group_colprofs    55.259669  60.083000\n",
       "group_planparent  52.557756  60.848000\n",
       "group_police      63.262926  64.792000\n",
       "group_christians  65.334433  67.467467\n",
       "group_ruralam     70.680968  69.284137\n",
       "group_white       70.770077  69.990982\n",
       "group_asian       71.596260  71.648649\n",
       "group_jews        67.261826  71.900000\n",
       "group_hispanic    68.584158  72.524000\n",
       "group_black       69.431243  72.737000"
      ]
     },
     "execution_count": 215,
     "metadata": {},
     "output_type": "execute_result"
    },
    {
     "data": {
      "application/javascript": [
       "\n",
       "            setTimeout(function() {\n",
       "                var nbb_cell_id = 215;\n",
       "                var nbb_unformatted_code = \"d = dict(male=sample_male[columns].mean(), female=sample_female[columns].mean())\\nratings_df = pd.DataFrame(d).sort_values(by=\\\"female\\\")\\nratings_df\";\n",
       "                var nbb_formatted_code = \"d = dict(male=sample_male[columns].mean(), female=sample_female[columns].mean())\\nratings_df = pd.DataFrame(d).sort_values(by=\\\"female\\\")\\nratings_df\";\n",
       "                var nbb_cells = Jupyter.notebook.get_cells();\n",
       "                for (var i = 0; i < nbb_cells.length; ++i) {\n",
       "                    if (nbb_cells[i].input_prompt_number == nbb_cell_id) {\n",
       "                        if (nbb_cells[i].get_text() == nbb_unformatted_code) {\n",
       "                             nbb_cells[i].set_text(nbb_formatted_code);\n",
       "                        }\n",
       "                        break;\n",
       "                    }\n",
       "                }\n",
       "            }, 500);\n",
       "            "
      ],
      "text/plain": [
       "<IPython.core.display.Javascript object>"
      ]
     },
     "metadata": {},
     "output_type": "display_data"
    }
   ],
   "source": [
    "d = dict(male=sample_male[columns].mean(), female=sample_female[columns].mean())\n",
    "ratings_df = pd.DataFrame(d).sort_values(by=\"female\")\n",
    "ratings_df"
   ]
  },
  {
   "cell_type": "code",
   "execution_count": 216,
   "id": "8ba4165a",
   "metadata": {
    "scrolled": true
   },
   "outputs": [
    {
     "data": {
      "image/png": "[encoded data removed]",
      "text/plain": [
       "<Figure size 450x637.5 with 1 Axes>"
      ]
     },
     "metadata": {},
     "output_type": "display_data"
    },
    {
     "data": {
      "application/javascript": [
       "\n",
       "            setTimeout(function() {\n",
       "                var nbb_cell_id = 216;\n",
       "                var nbb_unformatted_code = \"plt.figure(figsize=(6, 8.5))\\nnames = ratings_df.index\\nplot_ratings(ratings_df, names)\\ndecorate(xlabel=\\\"Average rating (0-100)\\\")\";\n",
       "                var nbb_formatted_code = \"plt.figure(figsize=(6, 8.5))\\nnames = ratings_df.index\\nplot_ratings(ratings_df, names)\\ndecorate(xlabel=\\\"Average rating (0-100)\\\")\";\n",
       "                var nbb_cells = Jupyter.notebook.get_cells();\n",
       "                for (var i = 0; i < nbb_cells.length; ++i) {\n",
       "                    if (nbb_cells[i].input_prompt_number == nbb_cell_id) {\n",
       "                        if (nbb_cells[i].get_text() == nbb_unformatted_code) {\n",
       "                             nbb_cells[i].set_text(nbb_formatted_code);\n",
       "                        }\n",
       "                        break;\n",
       "                    }\n",
       "                }\n",
       "            }, 500);\n",
       "            "
      ],
      "text/plain": [
       "<IPython.core.display.Javascript object>"
      ]
     },
     "metadata": {},
     "output_type": "display_data"
    }
   ],
   "source": [
    "plt.figure(figsize=(6, 8.5))\n",
    "names = ratings_df.index\n",
    "plot_ratings(ratings_df, names)\n",
    "decorate(xlabel=\"Average rating (0-100)\")"
   ]
  },
  {
   "cell_type": "markdown",
   "id": "d4b7ce4b",
   "metadata": {},
   "source": [
    "## Look for variables with large gender gaps\n",
    "\n",
    "This section and the next contain two methods for identifying questions with large gender gaps, without bothering to decode the responses.\n",
    "\n",
    "Method 1 looks for variables where there's a big difference in the means, but it might not be reliable because a lot of variables are encoded in a way where the mean is not meaningful (or it's misleading).\n",
    "But it's a way to find candidates.\n",
    "\n",
    "Method 2 finds t"
   ]
  },
  {
   "cell_type": "code",
   "execution_count": 246,
   "id": "7fda82a1",
   "metadata": {},
   "outputs": [
    {
     "data": {
      "application/javascript": [
       "\n",
       "            setTimeout(function() {\n",
       "                var nbb_cell_id = 246;\n",
       "                var nbb_unformatted_code = \"def compute_diff_means(col, flag):\\n    male = df_male[col].dropna()\\n    try:\\n        male = male.where(male >= 0, np.nan)\\n    except TypeError:\\n        return np.nan\\n\\n    female = df_female[col].dropna()\\n    female = female.where(female >= 0, np.nan)\\n\\n    if male.count() == 0 or female.count() == 0:\\n        return np.nan\\n\\n    m1, m2 = male.mean(), female.mean()\\n    avg = (m1 + m2) / 2\\n    return (m1 - m2) / avg\";\n",
       "                var nbb_formatted_code = \"def compute_diff_means(col, flag):\\n    male = df_male[col].dropna()\\n    try:\\n        male = male.where(male >= 0, np.nan)\\n    except TypeError:\\n        return np.nan\\n\\n    female = df_female[col].dropna()\\n    female = female.where(female >= 0, np.nan)\\n\\n    if male.count() == 0 or female.count() == 0:\\n        return np.nan\\n\\n    m1, m2 = male.mean(), female.mean()\\n    avg = (m1 + m2) / 2\\n    return (m1 - m2) / avg\";\n",
       "                var nbb_cells = Jupyter.notebook.get_cells();\n",
       "                for (var i = 0; i < nbb_cells.length; ++i) {\n",
       "                    if (nbb_cells[i].input_prompt_number == nbb_cell_id) {\n",
       "                        if (nbb_cells[i].get_text() == nbb_unformatted_code) {\n",
       "                             nbb_cells[i].set_text(nbb_formatted_code);\n",
       "                        }\n",
       "                        break;\n",
       "                    }\n",
       "                }\n",
       "            }, 500);\n",
       "            "
      ],
      "text/plain": [
       "<IPython.core.display.Javascript object>"
      ]
     },
     "metadata": {},
     "output_type": "display_data"
    }
   ],
   "source": [
    "def compute_diff_means(col, flag):\n",
    "    male = df_male[col].dropna()\n",
    "    try:\n",
    "        male = male.where(male >= 0, np.nan)\n",
    "    except TypeError:\n",
    "        return np.nan\n",
    "\n",
    "    female = df_female[col].dropna()\n",
    "    female = female.where(female >= 0, np.nan)\n",
    "\n",
    "    if male.count() == 0 or female.count() == 0:\n",
    "        return np.nan\n",
    "\n",
    "    m1, m2 = male.mean(), female.mean()\n",
    "    avg = (m1 + m2) / 2\n",
    "    return (m1 - m2) / avg"
   ]
  },
  {
   "cell_type": "code",
   "execution_count": 247,
   "id": "cfff5051",
   "metadata": {},
   "outputs": [
    {
     "data": {
      "text/plain": [
       "(909, 1000)"
      ]
     },
     "execution_count": 247,
     "metadata": {},
     "output_type": "execute_result"
    },
    {
     "data": {
      "application/javascript": [
       "\n",
       "            setTimeout(function() {\n",
       "                var nbb_cell_id = 247;\n",
       "                var nbb_unformatted_code = \"df_male = sample.query(\\\"gender == 1\\\")\\ndf_female = sample.query(\\\"gender == 2\\\")\\nlen(df_male), len(df_female)\";\n",
       "                var nbb_formatted_code = \"df_male = sample.query(\\\"gender == 1\\\")\\ndf_female = sample.query(\\\"gender == 2\\\")\\nlen(df_male), len(df_female)\";\n",
       "                var nbb_cells = Jupyter.notebook.get_cells();\n",
       "                for (var i = 0; i < nbb_cells.length; ++i) {\n",
       "                    if (nbb_cells[i].input_prompt_number == nbb_cell_id) {\n",
       "                        if (nbb_cells[i].get_text() == nbb_unformatted_code) {\n",
       "                             nbb_cells[i].set_text(nbb_formatted_code);\n",
       "                        }\n",
       "                        break;\n",
       "                    }\n",
       "                }\n",
       "            }, 500);\n",
       "            "
      ],
      "text/plain": [
       "<IPython.core.display.Javascript object>"
      ]
     },
     "metadata": {},
     "output_type": "display_data"
    }
   ],
   "source": [
    "df_male = sample.query(\"gender == 1\")\n",
    "df_female = sample.query(\"gender == 2\")\n",
    "len(df_male), len(df_female)"
   ]
  },
  {
   "cell_type": "code",
   "execution_count": 248,
   "id": "4f73c6e5",
   "metadata": {},
   "outputs": [
    {
     "data": {
      "text/plain": [
       "version          object\n",
       "caseid            int16\n",
       "weight          float64\n",
       "weight_spss     float32\n",
       "sample_type     float64\n",
       "                 ...   \n",
       "rep             float64\n",
       "same            float64\n",
       "pref             object\n",
       "partisanship    float64\n",
       "y                 int64\n",
       "Length: 948, dtype: object"
      ]
     },
     "execution_count": 248,
     "metadata": {},
     "output_type": "execute_result"
    },
    {
     "data": {
      "application/javascript": [
       "\n",
       "            setTimeout(function() {\n",
       "                var nbb_cell_id = 248;\n",
       "                var nbb_unformatted_code = \"df_male.dtypes\";\n",
       "                var nbb_formatted_code = \"df_male.dtypes\";\n",
       "                var nbb_cells = Jupyter.notebook.get_cells();\n",
       "                for (var i = 0; i < nbb_cells.length; ++i) {\n",
       "                    if (nbb_cells[i].input_prompt_number == nbb_cell_id) {\n",
       "                        if (nbb_cells[i].get_text() == nbb_unformatted_code) {\n",
       "                             nbb_cells[i].set_text(nbb_formatted_code);\n",
       "                        }\n",
       "                        break;\n",
       "                    }\n",
       "                }\n",
       "            }, 500);\n",
       "            "
      ],
      "text/plain": [
       "<IPython.core.display.Javascript object>"
      ]
     },
     "metadata": {},
     "output_type": "display_data"
    }
   ],
   "source": [
    "df_male.dtypes"
   ]
  },
  {
   "cell_type": "code",
   "execution_count": 260,
   "id": "ea39fcf6",
   "metadata": {},
   "outputs": [
    {
     "data": {
      "application/javascript": [
       "\n",
       "            setTimeout(function() {\n",
       "                var nbb_cell_id = 260;\n",
       "                var nbb_unformatted_code = \"candidate_cols = [\\n    col for col in df.columns if not col.endswith(\\\"timing\\\") and not col.endswith(\\\"skp\\\")\\n]\";\n",
       "                var nbb_formatted_code = \"candidate_cols = [\\n    col for col in df.columns if not col.endswith(\\\"timing\\\") and not col.endswith(\\\"skp\\\")\\n]\";\n",
       "                var nbb_cells = Jupyter.notebook.get_cells();\n",
       "                for (var i = 0; i < nbb_cells.length; ++i) {\n",
       "                    if (nbb_cells[i].input_prompt_number == nbb_cell_id) {\n",
       "                        if (nbb_cells[i].get_text() == nbb_unformatted_code) {\n",
       "                             nbb_cells[i].set_text(nbb_formatted_code);\n",
       "                        }\n",
       "                        break;\n",
       "                    }\n",
       "                }\n",
       "            }, 500);\n",
       "            "
      ],
      "text/plain": [
       "<IPython.core.display.Javascript object>"
      ]
     },
     "metadata": {},
     "output_type": "display_data"
    }
   ],
   "source": [
    "candidate_cols = [\n",
    "    col for col in df.columns if not col.endswith(\"timing\") and not col.endswith(\"skp\")\n",
    "]"
   ]
  },
  {
   "cell_type": "code",
   "execution_count": 261,
   "id": "8d9625df-d2ee-471f-92cc-7119a13c2f6a",
   "metadata": {},
   "outputs": [
    {
     "data": {
      "application/javascript": [
       "\n",
       "            setTimeout(function() {\n",
       "                var nbb_cell_id = 261;\n",
       "                var nbb_unformatted_code = \"res = []\\nfor col in candidate_cols:\\n    diff1 = compute_diff_means(col, True)\\n    diff2 = compute_diff_means(col, False)\\n    res.append((col, diff1, diff2))\";\n",
       "                var nbb_formatted_code = \"res = []\\nfor col in candidate_cols:\\n    diff1 = compute_diff_means(col, True)\\n    diff2 = compute_diff_means(col, False)\\n    res.append((col, diff1, diff2))\";\n",
       "                var nbb_cells = Jupyter.notebook.get_cells();\n",
       "                for (var i = 0; i < nbb_cells.length; ++i) {\n",
       "                    if (nbb_cells[i].input_prompt_number == nbb_cell_id) {\n",
       "                        if (nbb_cells[i].get_text() == nbb_unformatted_code) {\n",
       "                             nbb_cells[i].set_text(nbb_formatted_code);\n",
       "                        }\n",
       "                        break;\n",
       "                    }\n",
       "                }\n",
       "            }, 500);\n",
       "            "
      ],
      "text/plain": [
       "<IPython.core.display.Javascript object>"
      ]
     },
     "metadata": {},
     "output_type": "display_data"
    }
   ],
   "source": [
    "res = []\n",
    "for col in candidate_cols:\n",
    "    diff1 = compute_diff_means(col, True)\n",
    "    diff2 = compute_diff_means(col, False)\n",
    "    res.append((col, diff1, diff2))"
   ]
  },
  {
   "cell_type": "code",
   "execution_count": 262,
   "id": "7abaa9ec-8f15-4087-897b-41f2388e901e",
   "metadata": {},
   "outputs": [
    {
     "data": {
      "application/javascript": [
       "\n",
       "            setTimeout(function() {\n",
       "                var nbb_cell_id = 262;\n",
       "                var nbb_unformatted_code = \"columns = [\\\"varname\\\", \\\"diff1\\\", \\\"diff2\\\"]\\ndiff_df = pd.DataFrame(res, columns=columns).dropna()\";\n",
       "                var nbb_formatted_code = \"columns = [\\\"varname\\\", \\\"diff1\\\", \\\"diff2\\\"]\\ndiff_df = pd.DataFrame(res, columns=columns).dropna()\";\n",
       "                var nbb_cells = Jupyter.notebook.get_cells();\n",
       "                for (var i = 0; i < nbb_cells.length; ++i) {\n",
       "                    if (nbb_cells[i].input_prompt_number == nbb_cell_id) {\n",
       "                        if (nbb_cells[i].get_text() == nbb_unformatted_code) {\n",
       "                             nbb_cells[i].set_text(nbb_formatted_code);\n",
       "                        }\n",
       "                        break;\n",
       "                    }\n",
       "                }\n",
       "            }, 500);\n",
       "            "
      ],
      "text/plain": [
       "<IPython.core.display.Javascript object>"
      ]
     },
     "metadata": {},
     "output_type": "display_data"
    }
   ],
   "source": [
    "columns = [\"varname\", \"diff1\", \"diff2\"]\n",
    "diff_df = pd.DataFrame(res, columns=columns).dropna()"
   ]
  },
  {
   "cell_type": "code",
   "execution_count": 263,
   "id": "4dc05503-24b4-4e75-9731-7f30a7c8c7c6",
   "metadata": {},
   "outputs": [
    {
     "data": {
      "application/javascript": [
       "\n",
       "            setTimeout(function() {\n",
       "                var nbb_cell_id = 263;\n",
       "                var nbb_unformatted_code = \"diff1 = diff_df[\\\"diff1\\\"]\\ndiff2 = diff_df[\\\"diff2\\\"]\\ndiff_df[\\\"absdiff\\\"] = np.maximum(diff_df[\\\"diff1\\\"].abs(), diff_df[\\\"diff2\\\"].abs())\";\n",
       "                var nbb_formatted_code = \"diff1 = diff_df[\\\"diff1\\\"]\\ndiff2 = diff_df[\\\"diff2\\\"]\\ndiff_df[\\\"absdiff\\\"] = np.maximum(diff_df[\\\"diff1\\\"].abs(), diff_df[\\\"diff2\\\"].abs())\";\n",
       "                var nbb_cells = Jupyter.notebook.get_cells();\n",
       "                for (var i = 0; i < nbb_cells.length; ++i) {\n",
       "                    if (nbb_cells[i].input_prompt_number == nbb_cell_id) {\n",
       "                        if (nbb_cells[i].get_text() == nbb_unformatted_code) {\n",
       "                             nbb_cells[i].set_text(nbb_formatted_code);\n",
       "                        }\n",
       "                        break;\n",
       "                    }\n",
       "                }\n",
       "            }, 500);\n",
       "            "
      ],
      "text/plain": [
       "<IPython.core.display.Javascript object>"
      ]
     },
     "metadata": {},
     "output_type": "display_data"
    }
   ],
   "source": [
    "diff1 = diff_df[\"diff1\"]\n",
    "diff2 = diff_df[\"diff2\"]\n",
    "diff_df[\"absdiff\"] = np.maximum(diff_df[\"diff1\"].abs(), diff_df[\"diff2\"].abs())"
   ]
  },
  {
   "cell_type": "code",
   "execution_count": 264,
   "id": "cfb77f25-cc81-466d-b0b9-ece2d52e42d0",
   "metadata": {},
   "outputs": [
    {
     "data": {
      "text/html": [
       "<div>\n",
       "<style scoped>\n",
       "    .dataframe tbody tr th:only-of-type {\n",
       "        vertical-align: middle;\n",
       "    }\n",
       "\n",
       "    .dataframe tbody tr th {\n",
       "        vertical-align: top;\n",
       "    }\n",
       "\n",
       "    .dataframe thead th {\n",
       "        text-align: right;\n",
       "    }\n",
       "</style>\n",
       "<table border=\"1\" class=\"dataframe\">\n",
       "  <thead>\n",
       "    <tr style=\"text-align: right;\">\n",
       "      <th></th>\n",
       "      <th>diff1</th>\n",
       "      <th>diff2</th>\n",
       "      <th>absdiff</th>\n",
       "    </tr>\n",
       "    <tr>\n",
       "      <th>varname</th>\n",
       "      <th></th>\n",
       "      <th></th>\n",
       "      <th></th>\n",
       "    </tr>\n",
       "  </thead>\n",
       "  <tbody>\n",
       "    <tr>\n",
       "      <th>gendid_masc</th>\n",
       "      <td>112.619442</td>\n",
       "      <td>112.619442</td>\n",
       "      <td>112.619442</td>\n",
       "    </tr>\n",
       "    <tr>\n",
       "      <th>gendid_fem</th>\n",
       "      <td>-107.979407</td>\n",
       "      <td>-107.979407</td>\n",
       "      <td>107.979407</td>\n",
       "    </tr>\n",
       "    <tr>\n",
       "      <th>gendid_mascfem</th>\n",
       "      <td>-85.559458</td>\n",
       "      <td>-85.559458</td>\n",
       "      <td>85.559458</td>\n",
       "    </tr>\n",
       "    <tr>\n",
       "      <th>gender</th>\n",
       "      <td>-66.666667</td>\n",
       "      <td>-66.666667</td>\n",
       "      <td>66.666667</td>\n",
       "    </tr>\n",
       "    <tr>\n",
       "      <th>gender4</th>\n",
       "      <td>-63.143464</td>\n",
       "      <td>-63.143464</td>\n",
       "      <td>63.143464</td>\n",
       "    </tr>\n",
       "    <tr>\n",
       "      <th>group_kkk</th>\n",
       "      <td>47.875337</td>\n",
       "      <td>47.875337</td>\n",
       "      <td>47.875337</td>\n",
       "    </tr>\n",
       "    <tr>\n",
       "      <th>rrace_resp_Eastern</th>\n",
       "      <td>34.482759</td>\n",
       "      <td>34.482759</td>\n",
       "      <td>34.482759</td>\n",
       "    </tr>\n",
       "    <tr>\n",
       "      <th>religpew_protestant</th>\n",
       "      <td>34.144250</td>\n",
       "      <td>34.144250</td>\n",
       "      <td>34.144250</td>\n",
       "    </tr>\n",
       "    <tr>\n",
       "      <th>group_whitesup</th>\n",
       "      <td>29.495789</td>\n",
       "      <td>29.495789</td>\n",
       "      <td>29.495789</td>\n",
       "    </tr>\n",
       "    <tr>\n",
       "      <th>rrace_asset_Eastern</th>\n",
       "      <td>-28.571429</td>\n",
       "      <td>-28.571429</td>\n",
       "      <td>28.571429</td>\n",
       "    </tr>\n",
       "    <tr>\n",
       "      <th>newsint</th>\n",
       "      <td>-23.819472</td>\n",
       "      <td>-23.819472</td>\n",
       "      <td>23.819472</td>\n",
       "    </tr>\n",
       "    <tr>\n",
       "      <th>child_nseventeen</th>\n",
       "      <td>22.678062</td>\n",
       "      <td>22.678062</td>\n",
       "      <td>22.678062</td>\n",
       "    </tr>\n",
       "    <tr>\n",
       "      <th>imp_abort</th>\n",
       "      <td>21.319325</td>\n",
       "      <td>21.319325</td>\n",
       "      <td>21.319325</td>\n",
       "    </tr>\n",
       "    <tr>\n",
       "      <th>poldisc_peoplekn</th>\n",
       "      <td>20.696783</td>\n",
       "      <td>20.696783</td>\n",
       "      <td>20.696783</td>\n",
       "    </tr>\n",
       "    <tr>\n",
       "      <th>poldisc_smpol</th>\n",
       "      <td>19.690536</td>\n",
       "      <td>19.690536</td>\n",
       "      <td>19.690536</td>\n",
       "    </tr>\n",
       "    <tr>\n",
       "      <th>follow_campinterest</th>\n",
       "      <td>-18.764504</td>\n",
       "      <td>-18.764504</td>\n",
       "      <td>18.764504</td>\n",
       "    </tr>\n",
       "    <tr>\n",
       "      <th>foreign_hamas</th>\n",
       "      <td>-18.217060</td>\n",
       "      <td>-18.217060</td>\n",
       "      <td>18.217060</td>\n",
       "    </tr>\n",
       "    <tr>\n",
       "      <th>tolold_rally</th>\n",
       "      <td>-17.231006</td>\n",
       "      <td>-17.231006</td>\n",
       "      <td>17.231006</td>\n",
       "    </tr>\n",
       "    <tr>\n",
       "      <th>employ</th>\n",
       "      <td>-16.927957</td>\n",
       "      <td>-16.927957</td>\n",
       "      <td>16.927957</td>\n",
       "    </tr>\n",
       "    <tr>\n",
       "      <th>tolold_speech</th>\n",
       "      <td>-16.365099</td>\n",
       "      <td>-16.365099</td>\n",
       "      <td>16.365099</td>\n",
       "    </tr>\n",
       "    <tr>\n",
       "      <th>scale_ord</th>\n",
       "      <td>-16.271231</td>\n",
       "      <td>-16.271231</td>\n",
       "      <td>16.271231</td>\n",
       "    </tr>\n",
       "    <tr>\n",
       "      <th>status_catrecent</th>\n",
       "      <td>-16.143068</td>\n",
       "      <td>-16.143068</td>\n",
       "      <td>16.143068</td>\n",
       "    </tr>\n",
       "    <tr>\n",
       "      <th>group_maga</th>\n",
       "      <td>15.972927</td>\n",
       "      <td>15.972927</td>\n",
       "      <td>15.972927</td>\n",
       "    </tr>\n",
       "    <tr>\n",
       "      <th>contrib_party</th>\n",
       "      <td>15.916978</td>\n",
       "      <td>15.916978</td>\n",
       "      <td>15.916978</td>\n",
       "    </tr>\n",
       "    <tr>\n",
       "      <th>group_transppl</th>\n",
       "      <td>-15.865343</td>\n",
       "      <td>-15.865343</td>\n",
       "      <td>15.865343</td>\n",
       "    </tr>\n",
       "    <tr>\n",
       "      <th>group_transmen</th>\n",
       "      <td>-15.633479</td>\n",
       "      <td>-15.633479</td>\n",
       "      <td>15.633479</td>\n",
       "    </tr>\n",
       "    <tr>\n",
       "      <th>group_feminists</th>\n",
       "      <td>-15.268823</td>\n",
       "      <td>-15.268823</td>\n",
       "      <td>15.268823</td>\n",
       "    </tr>\n",
       "    <tr>\n",
       "      <th>misinfo_hunterstr</th>\n",
       "      <td>14.879950</td>\n",
       "      <td>14.879950</td>\n",
       "      <td>14.879950</td>\n",
       "    </tr>\n",
       "    <tr>\n",
       "      <th>group_planparent</th>\n",
       "      <td>-14.620500</td>\n",
       "      <td>-14.620500</td>\n",
       "      <td>14.620500</td>\n",
       "    </tr>\n",
       "    <tr>\n",
       "      <th>disqual_sexhar</th>\n",
       "      <td>14.502139</td>\n",
       "      <td>14.502139</td>\n",
       "      <td>14.502139</td>\n",
       "    </tr>\n",
       "    <tr>\n",
       "      <th>min_duration</th>\n",
       "      <td>-14.309963</td>\n",
       "      <td>-14.309963</td>\n",
       "      <td>14.309963</td>\n",
       "    </tr>\n",
       "    <tr>\n",
       "      <th>duration</th>\n",
       "      <td>-14.309957</td>\n",
       "      <td>-14.309957</td>\n",
       "      <td>14.309957</td>\n",
       "    </tr>\n",
       "    <tr>\n",
       "      <th>group_transwom</th>\n",
       "      <td>-13.944862</td>\n",
       "      <td>-13.944862</td>\n",
       "      <td>13.944862</td>\n",
       "    </tr>\n",
       "    <tr>\n",
       "      <th>empath_concern</th>\n",
       "      <td>13.034140</td>\n",
       "      <td>13.034140</td>\n",
       "      <td>13.034140</td>\n",
       "    </tr>\n",
       "    <tr>\n",
       "      <th>weight_spss</th>\n",
       "      <td>12.857842</td>\n",
       "      <td>12.857842</td>\n",
       "      <td>12.857842</td>\n",
       "    </tr>\n",
       "    <tr>\n",
       "      <th>weight</th>\n",
       "      <td>12.857835</td>\n",
       "      <td>12.857835</td>\n",
       "      <td>12.857835</td>\n",
       "    </tr>\n",
       "    <tr>\n",
       "      <th>highered_bias</th>\n",
       "      <td>-12.818029</td>\n",
       "      <td>-12.818029</td>\n",
       "      <td>12.818029</td>\n",
       "    </tr>\n",
       "    <tr>\n",
       "      <th>group_atheists</th>\n",
       "      <td>12.813193</td>\n",
       "      <td>12.813193</td>\n",
       "      <td>12.813193</td>\n",
       "    </tr>\n",
       "    <tr>\n",
       "      <th>ord_group_colprofs</th>\n",
       "      <td>12.386506</td>\n",
       "      <td>12.386506</td>\n",
       "      <td>12.386506</td>\n",
       "    </tr>\n",
       "    <tr>\n",
       "      <th>Voterfile_Primary_2020</th>\n",
       "      <td>12.348061</td>\n",
       "      <td>12.348061</td>\n",
       "      <td>12.348061</td>\n",
       "    </tr>\n",
       "    <tr>\n",
       "      <th>pew_prayer</th>\n",
       "      <td>12.265504</td>\n",
       "      <td>12.265504</td>\n",
       "      <td>12.265504</td>\n",
       "    </tr>\n",
       "    <tr>\n",
       "      <th>faminc_new</th>\n",
       "      <td>-12.150629</td>\n",
       "      <td>-12.150629</td>\n",
       "      <td>12.150629</td>\n",
       "    </tr>\n",
       "    <tr>\n",
       "      <th>rrace_resp_Native</th>\n",
       "      <td>12.048193</td>\n",
       "      <td>12.048193</td>\n",
       "      <td>12.048193</td>\n",
       "    </tr>\n",
       "    <tr>\n",
       "      <th>group_gunrights</th>\n",
       "      <td>11.995369</td>\n",
       "      <td>11.995369</td>\n",
       "      <td>11.995369</td>\n",
       "    </tr>\n",
       "    <tr>\n",
       "      <th>misinfo_bidendocstr</th>\n",
       "      <td>11.985967</td>\n",
       "      <td>11.985967</td>\n",
       "      <td>11.985967</td>\n",
       "    </tr>\n",
       "    <tr>\n",
       "      <th>group_lgbtrights</th>\n",
       "      <td>-11.855398</td>\n",
       "      <td>-11.855398</td>\n",
       "      <td>11.855398</td>\n",
       "    </tr>\n",
       "    <tr>\n",
       "      <th>own_votright</th>\n",
       "      <td>-11.644208</td>\n",
       "      <td>-11.644208</td>\n",
       "      <td>11.644208</td>\n",
       "    </tr>\n",
       "    <tr>\n",
       "      <th>cand_trump</th>\n",
       "      <td>11.569257</td>\n",
       "      <td>11.569257</td>\n",
       "      <td>11.569257</td>\n",
       "    </tr>\n",
       "    <tr>\n",
       "      <th>imp_schteach</th>\n",
       "      <td>11.403858</td>\n",
       "      <td>11.403858</td>\n",
       "      <td>11.403858</td>\n",
       "    </tr>\n",
       "    <tr>\n",
       "      <th>misinfo_trump16str</th>\n",
       "      <td>11.317167</td>\n",
       "      <td>11.317167</td>\n",
       "      <td>11.317167</td>\n",
       "    </tr>\n",
       "  </tbody>\n",
       "</table>\n",
       "</div>"
      ],
      "text/plain": [
       "                             diff1       diff2     absdiff\n",
       "varname                                                   \n",
       "gendid_masc             112.619442  112.619442  112.619442\n",
       "gendid_fem             -107.979407 -107.979407  107.979407\n",
       "gendid_mascfem          -85.559458  -85.559458   85.559458\n",
       "gender                  -66.666667  -66.666667   66.666667\n",
       "gender4                 -63.143464  -63.143464   63.143464\n",
       "group_kkk                47.875337   47.875337   47.875337\n",
       "rrace_resp_Eastern       34.482759   34.482759   34.482759\n",
       "religpew_protestant      34.144250   34.144250   34.144250\n",
       "group_whitesup           29.495789   29.495789   29.495789\n",
       "rrace_asset_Eastern     -28.571429  -28.571429   28.571429\n",
       "newsint                 -23.819472  -23.819472   23.819472\n",
       "child_nseventeen         22.678062   22.678062   22.678062\n",
       "imp_abort                21.319325   21.319325   21.319325\n",
       "poldisc_peoplekn         20.696783   20.696783   20.696783\n",
       "poldisc_smpol            19.690536   19.690536   19.690536\n",
       "follow_campinterest     -18.764504  -18.764504   18.764504\n",
       "foreign_hamas           -18.217060  -18.217060   18.217060\n",
       "tolold_rally            -17.231006  -17.231006   17.231006\n",
       "employ                  -16.927957  -16.927957   16.927957\n",
       "tolold_speech           -16.365099  -16.365099   16.365099\n",
       "scale_ord               -16.271231  -16.271231   16.271231\n",
       "status_catrecent        -16.143068  -16.143068   16.143068\n",
       "group_maga               15.972927   15.972927   15.972927\n",
       "contrib_party            15.916978   15.916978   15.916978\n",
       "group_transppl          -15.865343  -15.865343   15.865343\n",
       "group_transmen          -15.633479  -15.633479   15.633479\n",
       "group_feminists         -15.268823  -15.268823   15.268823\n",
       "misinfo_hunterstr        14.879950   14.879950   14.879950\n",
       "group_planparent        -14.620500  -14.620500   14.620500\n",
       "disqual_sexhar           14.502139   14.502139   14.502139\n",
       "min_duration            -14.309963  -14.309963   14.309963\n",
       "duration                -14.309957  -14.309957   14.309957\n",
       "group_transwom          -13.944862  -13.944862   13.944862\n",
       "empath_concern           13.034140   13.034140   13.034140\n",
       "weight_spss              12.857842   12.857842   12.857842\n",
       "weight                   12.857835   12.857835   12.857835\n",
       "highered_bias           -12.818029  -12.818029   12.818029\n",
       "group_atheists           12.813193   12.813193   12.813193\n",
       "ord_group_colprofs       12.386506   12.386506   12.386506\n",
       "Voterfile_Primary_2020   12.348061   12.348061   12.348061\n",
       "pew_prayer               12.265504   12.265504   12.265504\n",
       "faminc_new              -12.150629  -12.150629   12.150629\n",
       "rrace_resp_Native        12.048193   12.048193   12.048193\n",
       "group_gunrights          11.995369   11.995369   11.995369\n",
       "misinfo_bidendocstr      11.985967   11.985967   11.985967\n",
       "group_lgbtrights        -11.855398  -11.855398   11.855398\n",
       "own_votright            -11.644208  -11.644208   11.644208\n",
       "cand_trump               11.569257   11.569257   11.569257\n",
       "imp_schteach             11.403858   11.403858   11.403858\n",
       "misinfo_trump16str       11.317167   11.317167   11.317167"
      ]
     },
     "execution_count": 264,
     "metadata": {},
     "output_type": "execute_result"
    },
    {
     "data": {
      "application/javascript": [
       "\n",
       "            setTimeout(function() {\n",
       "                var nbb_cell_id = 264;\n",
       "                var nbb_unformatted_code = \"candidates = diff_df.sort_values(by=\\\"absdiff\\\", ascending=False)\\ncandidates.index = candidates[\\\"varname\\\"]\\ncandidates = candidates.drop(columns=[\\\"varname\\\"]) * 100\\ncandidates.head(50)\";\n",
       "                var nbb_formatted_code = \"candidates = diff_df.sort_values(by=\\\"absdiff\\\", ascending=False)\\ncandidates.index = candidates[\\\"varname\\\"]\\ncandidates = candidates.drop(columns=[\\\"varname\\\"]) * 100\\ncandidates.head(50)\";\n",
       "                var nbb_cells = Jupyter.notebook.get_cells();\n",
       "                for (var i = 0; i < nbb_cells.length; ++i) {\n",
       "                    if (nbb_cells[i].input_prompt_number == nbb_cell_id) {\n",
       "                        if (nbb_cells[i].get_text() == nbb_unformatted_code) {\n",
       "                             nbb_cells[i].set_text(nbb_formatted_code);\n",
       "                        }\n",
       "                        break;\n",
       "                    }\n",
       "                }\n",
       "            }, 500);\n",
       "            "
      ],
      "text/plain": [
       "<IPython.core.display.Javascript object>"
      ]
     },
     "metadata": {},
     "output_type": "display_data"
    }
   ],
   "source": [
    "candidates = diff_df.sort_values(by=\"absdiff\", ascending=False)\n",
    "candidates.index = candidates[\"varname\"]\n",
    "candidates = candidates.drop(columns=[\"varname\"]) * 100\n",
    "candidates.head(50)"
   ]
  },
  {
   "cell_type": "code",
   "execution_count": 265,
   "id": "0c751e83-076d-4d9e-a9a1-4898e2721a05",
   "metadata": {},
   "outputs": [
    {
     "data": {
      "application/javascript": [
       "\n",
       "            setTimeout(function() {\n",
       "                var nbb_cell_id = 265;\n",
       "                var nbb_unformatted_code = \"candidates.to_csv(\\\"anes_2024_candidates_resampled.csv\\\")\";\n",
       "                var nbb_formatted_code = \"candidates.to_csv(\\\"anes_2024_candidates_resampled.csv\\\")\";\n",
       "                var nbb_cells = Jupyter.notebook.get_cells();\n",
       "                for (var i = 0; i < nbb_cells.length; ++i) {\n",
       "                    if (nbb_cells[i].input_prompt_number == nbb_cell_id) {\n",
       "                        if (nbb_cells[i].get_text() == nbb_unformatted_code) {\n",
       "                             nbb_cells[i].set_text(nbb_formatted_code);\n",
       "                        }\n",
       "                        break;\n",
       "                    }\n",
       "                }\n",
       "            }, 500);\n",
       "            "
      ],
      "text/plain": [
       "<IPython.core.display.Javascript object>"
      ]
     },
     "metadata": {},
     "output_type": "display_data"
    }
   ],
   "source": [
    "candidates.to_csv(\"anes_2024_candidates_resampled.csv\")"
   ]
  },
  {
   "cell_type": "markdown",
   "id": "b8fbca03",
   "metadata": {},
   "source": [
    "If you find a candidate, you can look more closely with `compare_responses`."
   ]
  },
  {
   "cell_type": "code",
   "execution_count": 266,
   "id": "f087a215-940b-4d86-8331-1cc941bee1bc",
   "metadata": {},
   "outputs": [
    {
     "data": {
      "application/javascript": [
       "\n",
       "            setTimeout(function() {\n",
       "                var nbb_cell_id = 266;\n",
       "                var nbb_unformatted_code = \"def compare_responses(varname):\\n    d = dict(\\n        male=value_counts(df_male[varname], normalize=True)[\\\"counts\\\"],\\n        female=value_counts(df_female[varname], normalize=True)[\\\"counts\\\"],\\n    )\\n    summary = pd.DataFrame(d)\\n    summary[\\\"diff\\\"] = summary[\\\"male\\\"] - summary[\\\"female\\\"]\\n    summary[\\\"absdiff\\\"] = summary[\\\"diff\\\"].abs()\\n    return summary\";\n",
       "                var nbb_formatted_code = \"def compare_responses(varname):\\n    d = dict(\\n        male=value_counts(df_male[varname], normalize=True)[\\\"counts\\\"],\\n        female=value_counts(df_female[varname], normalize=True)[\\\"counts\\\"],\\n    )\\n    summary = pd.DataFrame(d)\\n    summary[\\\"diff\\\"] = summary[\\\"male\\\"] - summary[\\\"female\\\"]\\n    summary[\\\"absdiff\\\"] = summary[\\\"diff\\\"].abs()\\n    return summary\";\n",
       "                var nbb_cells = Jupyter.notebook.get_cells();\n",
       "                for (var i = 0; i < nbb_cells.length; ++i) {\n",
       "                    if (nbb_cells[i].input_prompt_number == nbb_cell_id) {\n",
       "                        if (nbb_cells[i].get_text() == nbb_unformatted_code) {\n",
       "                             nbb_cells[i].set_text(nbb_formatted_code);\n",
       "                        }\n",
       "                        break;\n",
       "                    }\n",
       "                }\n",
       "            }, 500);\n",
       "            "
      ],
      "text/plain": [
       "<IPython.core.display.Javascript object>"
      ]
     },
     "metadata": {},
     "output_type": "display_data"
    }
   ],
   "source": [
    "def compare_responses(varname):\n",
    "    d = dict(\n",
    "        male=value_counts(df_male[varname], normalize=True)[\"counts\"],\n",
    "        female=value_counts(df_female[varname], normalize=True)[\"counts\"],\n",
    "    )\n",
    "    summary = pd.DataFrame(d)\n",
    "    summary[\"diff\"] = summary[\"male\"] - summary[\"female\"]\n",
    "    summary[\"absdiff\"] = summary[\"diff\"].abs()\n",
    "    return summary"
   ]
  },
  {
   "cell_type": "code",
   "execution_count": 267,
   "id": "6661f942-2893-44da-aad6-193043ef2f21",
   "metadata": {},
   "outputs": [
    {
     "data": {
      "text/html": [
       "<div>\n",
       "<style scoped>\n",
       "    .dataframe tbody tr th:only-of-type {\n",
       "        vertical-align: middle;\n",
       "    }\n",
       "\n",
       "    .dataframe tbody tr th {\n",
       "        vertical-align: top;\n",
       "    }\n",
       "\n",
       "    .dataframe thead th {\n",
       "        text-align: right;\n",
       "    }\n",
       "</style>\n",
       "<table border=\"1\" class=\"dataframe\">\n",
       "  <thead>\n",
       "    <tr style=\"text-align: right;\">\n",
       "      <th></th>\n",
       "      <th>male</th>\n",
       "      <th>female</th>\n",
       "      <th>diff</th>\n",
       "      <th>absdiff</th>\n",
       "    </tr>\n",
       "    <tr>\n",
       "      <th>values</th>\n",
       "      <th></th>\n",
       "      <th></th>\n",
       "      <th></th>\n",
       "      <th></th>\n",
       "    </tr>\n",
       "  </thead>\n",
       "  <tbody>\n",
       "    <tr>\n",
       "      <th>1.0</th>\n",
       "      <td>20.682068</td>\n",
       "      <td>30.5</td>\n",
       "      <td>-9.817932</td>\n",
       "      <td>9.817932</td>\n",
       "    </tr>\n",
       "    <tr>\n",
       "      <th>2.0</th>\n",
       "      <td>16.061606</td>\n",
       "      <td>16.0</td>\n",
       "      <td>0.061606</td>\n",
       "      <td>0.061606</td>\n",
       "    </tr>\n",
       "    <tr>\n",
       "      <th>3.0</th>\n",
       "      <td>12.651265</td>\n",
       "      <td>11.3</td>\n",
       "      <td>1.351265</td>\n",
       "      <td>1.351265</td>\n",
       "    </tr>\n",
       "    <tr>\n",
       "      <th>4.0</th>\n",
       "      <td>4.180418</td>\n",
       "      <td>2.7</td>\n",
       "      <td>1.480418</td>\n",
       "      <td>1.480418</td>\n",
       "    </tr>\n",
       "    <tr>\n",
       "      <th>5.0</th>\n",
       "      <td>5.280528</td>\n",
       "      <td>6.3</td>\n",
       "      <td>-1.019472</td>\n",
       "      <td>1.019472</td>\n",
       "    </tr>\n",
       "    <tr>\n",
       "      <th>6.0</th>\n",
       "      <td>13.751375</td>\n",
       "      <td>12.3</td>\n",
       "      <td>1.451375</td>\n",
       "      <td>1.451375</td>\n",
       "    </tr>\n",
       "    <tr>\n",
       "      <th>7.0</th>\n",
       "      <td>24.422442</td>\n",
       "      <td>16.1</td>\n",
       "      <td>8.322442</td>\n",
       "      <td>8.322442</td>\n",
       "    </tr>\n",
       "    <tr>\n",
       "      <th>8.0</th>\n",
       "      <td>2.970297</td>\n",
       "      <td>4.8</td>\n",
       "      <td>-1.829703</td>\n",
       "      <td>1.829703</td>\n",
       "    </tr>\n",
       "  </tbody>\n",
       "</table>\n",
       "</div>"
      ],
      "text/plain": [
       "             male  female      diff   absdiff\n",
       "values                                       \n",
       "1.0     20.682068    30.5 -9.817932  9.817932\n",
       "2.0     16.061606    16.0  0.061606  0.061606\n",
       "3.0     12.651265    11.3  1.351265  1.351265\n",
       "4.0      4.180418     2.7  1.480418  1.480418\n",
       "5.0      5.280528     6.3 -1.019472  1.019472\n",
       "6.0     13.751375    12.3  1.451375  1.451375\n",
       "7.0     24.422442    16.1  8.322442  8.322442\n",
       "8.0      2.970297     4.8 -1.829703  1.829703"
      ]
     },
     "execution_count": 267,
     "metadata": {},
     "output_type": "execute_result"
    },
    {
     "data": {
      "application/javascript": [
       "\n",
       "            setTimeout(function() {\n",
       "                var nbb_cell_id = 267;\n",
       "                var nbb_unformatted_code = \"compare_responses(\\\"pew_prayer\\\") * 100\";\n",
       "                var nbb_formatted_code = \"compare_responses(\\\"pew_prayer\\\") * 100\";\n",
       "                var nbb_cells = Jupyter.notebook.get_cells();\n",
       "                for (var i = 0; i < nbb_cells.length; ++i) {\n",
       "                    if (nbb_cells[i].input_prompt_number == nbb_cell_id) {\n",
       "                        if (nbb_cells[i].get_text() == nbb_unformatted_code) {\n",
       "                             nbb_cells[i].set_text(nbb_formatted_code);\n",
       "                        }\n",
       "                        break;\n",
       "                    }\n",
       "                }\n",
       "            }, 500);\n",
       "            "
      ],
      "text/plain": [
       "<IPython.core.display.Javascript object>"
      ]
     },
     "metadata": {},
     "output_type": "display_data"
    }
   ],
   "source": [
    "compare_responses(\"pew_prayer\") * 100"
   ]
  },
  {
   "cell_type": "markdown",
   "id": "87d2c58d",
   "metadata": {},
   "source": [
    "## Look for differences\n",
    "\n",
    "Another way to look for differences, but finding the most common response to a question and then comparing the fractions who give that response."
   ]
  },
  {
   "cell_type": "code",
   "execution_count": 268,
   "id": "ede98a97",
   "metadata": {},
   "outputs": [
    {
     "data": {
      "application/javascript": [
       "\n",
       "            setTimeout(function() {\n",
       "                var nbb_cell_id = 268;\n",
       "                var nbb_unformatted_code = \"def compute_diff(col):\\n    value = sample[col].value_counts().idxmax()\\n\\n    male = df_male[col].dropna().value_counts()\\n    female = df_female[col].dropna().value_counts()\\n\\n    p_male = male.get(value, 0) / male.sum()\\n    p_female = female.get(value, 0) / female.sum()\\n    return p_male - p_female\";\n",
       "                var nbb_formatted_code = \"def compute_diff(col):\\n    value = sample[col].value_counts().idxmax()\\n\\n    male = df_male[col].dropna().value_counts()\\n    female = df_female[col].dropna().value_counts()\\n\\n    p_male = male.get(value, 0) / male.sum()\\n    p_female = female.get(value, 0) / female.sum()\\n    return p_male - p_female\";\n",
       "                var nbb_cells = Jupyter.notebook.get_cells();\n",
       "                for (var i = 0; i < nbb_cells.length; ++i) {\n",
       "                    if (nbb_cells[i].input_prompt_number == nbb_cell_id) {\n",
       "                        if (nbb_cells[i].get_text() == nbb_unformatted_code) {\n",
       "                             nbb_cells[i].set_text(nbb_formatted_code);\n",
       "                        }\n",
       "                        break;\n",
       "                    }\n",
       "                }\n",
       "            }, 500);\n",
       "            "
      ],
      "text/plain": [
       "<IPython.core.display.Javascript object>"
      ]
     },
     "metadata": {},
     "output_type": "display_data"
    }
   ],
   "source": [
    "def compute_diff(col):\n",
    "    value = sample[col].value_counts().idxmax()\n",
    "\n",
    "    male = df_male[col].dropna().value_counts()\n",
    "    female = df_female[col].dropna().value_counts()\n",
    "\n",
    "    p_male = male.get(value, 0) / male.sum()\n",
    "    p_female = female.get(value, 0) / female.sum()\n",
    "    return p_male - p_female"
   ]
  },
  {
   "cell_type": "code",
   "execution_count": 269,
   "id": "5abf9706-bc09-4dbc-b3ef-41b811228bee",
   "metadata": {},
   "outputs": [
    {
     "data": {
      "application/javascript": [
       "\n",
       "            setTimeout(function() {\n",
       "                var nbb_cell_id = 269;\n",
       "                var nbb_unformatted_code = \"res = []\\nfor col in candidate_cols:\\n    diff = compute_diff(col)\\n    res.append((col, diff))\";\n",
       "                var nbb_formatted_code = \"res = []\\nfor col in candidate_cols:\\n    diff = compute_diff(col)\\n    res.append((col, diff))\";\n",
       "                var nbb_cells = Jupyter.notebook.get_cells();\n",
       "                for (var i = 0; i < nbb_cells.length; ++i) {\n",
       "                    if (nbb_cells[i].input_prompt_number == nbb_cell_id) {\n",
       "                        if (nbb_cells[i].get_text() == nbb_unformatted_code) {\n",
       "                             nbb_cells[i].set_text(nbb_formatted_code);\n",
       "                        }\n",
       "                        break;\n",
       "                    }\n",
       "                }\n",
       "            }, 500);\n",
       "            "
      ],
      "text/plain": [
       "<IPython.core.display.Javascript object>"
      ]
     },
     "metadata": {},
     "output_type": "display_data"
    }
   ],
   "source": [
    "res = []\n",
    "for col in candidate_cols:\n",
    "    diff = compute_diff(col)\n",
    "    res.append((col, diff))"
   ]
  },
  {
   "cell_type": "code",
   "execution_count": 270,
   "id": "4ec379e8-a5e1-4f96-8afa-c6152a587bcd",
   "metadata": {},
   "outputs": [
    {
     "data": {
      "application/javascript": [
       "\n",
       "            setTimeout(function() {\n",
       "                var nbb_cell_id = 270;\n",
       "                var nbb_unformatted_code = \"columns = [\\\"varname\\\", \\\"diff\\\"]\\ndiff_df = pd.DataFrame(res, columns=columns).dropna()\\ndiff_df[\\\"absdiff\\\"] = diff_df[\\\"diff\\\"].abs()\";\n",
       "                var nbb_formatted_code = \"columns = [\\\"varname\\\", \\\"diff\\\"]\\ndiff_df = pd.DataFrame(res, columns=columns).dropna()\\ndiff_df[\\\"absdiff\\\"] = diff_df[\\\"diff\\\"].abs()\";\n",
       "                var nbb_cells = Jupyter.notebook.get_cells();\n",
       "                for (var i = 0; i < nbb_cells.length; ++i) {\n",
       "                    if (nbb_cells[i].input_prompt_number == nbb_cell_id) {\n",
       "                        if (nbb_cells[i].get_text() == nbb_unformatted_code) {\n",
       "                             nbb_cells[i].set_text(nbb_formatted_code);\n",
       "                        }\n",
       "                        break;\n",
       "                    }\n",
       "                }\n",
       "            }, 500);\n",
       "            "
      ],
      "text/plain": [
       "<IPython.core.display.Javascript object>"
      ]
     },
     "metadata": {},
     "output_type": "display_data"
    }
   ],
   "source": [
    "columns = [\"varname\", \"diff\"]\n",
    "diff_df = pd.DataFrame(res, columns=columns).dropna()\n",
    "diff_df[\"absdiff\"] = diff_df[\"diff\"].abs()"
   ]
  },
  {
   "cell_type": "code",
   "execution_count": 271,
   "id": "c18db1fa-793a-44b4-a93b-66171ccfb7dc",
   "metadata": {},
   "outputs": [
    {
     "data": {
      "text/html": [
       "<div>\n",
       "<style scoped>\n",
       "    .dataframe tbody tr th:only-of-type {\n",
       "        vertical-align: middle;\n",
       "    }\n",
       "\n",
       "    .dataframe tbody tr th {\n",
       "        vertical-align: top;\n",
       "    }\n",
       "\n",
       "    .dataframe thead th {\n",
       "        text-align: right;\n",
       "    }\n",
       "</style>\n",
       "<table border=\"1\" class=\"dataframe\">\n",
       "  <thead>\n",
       "    <tr style=\"text-align: right;\">\n",
       "      <th></th>\n",
       "      <th>diff</th>\n",
       "      <th>absdiff</th>\n",
       "    </tr>\n",
       "    <tr>\n",
       "      <th>varname</th>\n",
       "      <th></th>\n",
       "      <th></th>\n",
       "    </tr>\n",
       "  </thead>\n",
       "  <tbody>\n",
       "    <tr>\n",
       "      <th>gender</th>\n",
       "      <td>-100.000000</td>\n",
       "      <td>100.000000</td>\n",
       "    </tr>\n",
       "    <tr>\n",
       "      <th>gender4</th>\n",
       "      <td>-96.929923</td>\n",
       "      <td>96.929923</td>\n",
       "    </tr>\n",
       "    <tr>\n",
       "      <th>gendid_masc</th>\n",
       "      <td>-43.029813</td>\n",
       "      <td>43.029813</td>\n",
       "    </tr>\n",
       "    <tr>\n",
       "      <th>gendid_fem</th>\n",
       "      <td>40.754345</td>\n",
       "      <td>40.754345</td>\n",
       "    </tr>\n",
       "    <tr>\n",
       "      <th>gendid_mascfem</th>\n",
       "      <td>-38.419912</td>\n",
       "      <td>38.419912</td>\n",
       "    </tr>\n",
       "    <tr>\n",
       "      <th>disqual_sexhar</th>\n",
       "      <td>-20.605171</td>\n",
       "      <td>20.605171</td>\n",
       "    </tr>\n",
       "    <tr>\n",
       "      <th>follow_campinterest</th>\n",
       "      <td>18.445105</td>\n",
       "      <td>18.445105</td>\n",
       "    </tr>\n",
       "    <tr>\n",
       "      <th>aid_israel</th>\n",
       "      <td>-17.717822</td>\n",
       "      <td>17.717822</td>\n",
       "    </tr>\n",
       "    <tr>\n",
       "      <th>newsint</th>\n",
       "      <td>17.285259</td>\n",
       "      <td>17.285259</td>\n",
       "    </tr>\n",
       "    <tr>\n",
       "      <th>imp_abort</th>\n",
       "      <td>-16.167217</td>\n",
       "      <td>16.167217</td>\n",
       "    </tr>\n",
       "    <tr>\n",
       "      <th>tol_freespeech</th>\n",
       "      <td>15.375688</td>\n",
       "      <td>15.375688</td>\n",
       "    </tr>\n",
       "    <tr>\n",
       "      <th>poldisc_socmed_3</th>\n",
       "      <td>-15.285149</td>\n",
       "      <td>15.285149</td>\n",
       "    </tr>\n",
       "    <tr>\n",
       "      <th>own_ukraine</th>\n",
       "      <td>-15.147085</td>\n",
       "      <td>15.147085</td>\n",
       "    </tr>\n",
       "    <tr>\n",
       "      <th>misinfo_bidendocstr</th>\n",
       "      <td>15.003740</td>\n",
       "      <td>15.003740</td>\n",
       "    </tr>\n",
       "    <tr>\n",
       "      <th>highered_approve</th>\n",
       "      <td>-14.627283</td>\n",
       "      <td>14.627283</td>\n",
       "    </tr>\n",
       "    <tr>\n",
       "      <th>employ</th>\n",
       "      <td>13.624422</td>\n",
       "      <td>13.624422</td>\n",
       "    </tr>\n",
       "    <tr>\n",
       "      <th>sexism_bprotect</th>\n",
       "      <td>-12.687349</td>\n",
       "      <td>12.687349</td>\n",
       "    </tr>\n",
       "    <tr>\n",
       "      <th>aid_palest</th>\n",
       "      <td>-12.467327</td>\n",
       "      <td>12.467327</td>\n",
       "    </tr>\n",
       "    <tr>\n",
       "      <th>mobil_talk</th>\n",
       "      <td>-12.344554</td>\n",
       "      <td>12.344554</td>\n",
       "    </tr>\n",
       "    <tr>\n",
       "      <th>secure_ease</th>\n",
       "      <td>-12.155886</td>\n",
       "      <td>12.155886</td>\n",
       "    </tr>\n",
       "    <tr>\n",
       "      <th>emploss_robot</th>\n",
       "      <td>-12.155886</td>\n",
       "      <td>12.155886</td>\n",
       "    </tr>\n",
       "    <tr>\n",
       "      <th>emploss_ai</th>\n",
       "      <td>-12.155886</td>\n",
       "      <td>12.155886</td>\n",
       "    </tr>\n",
       "    <tr>\n",
       "      <th>emploss_less</th>\n",
       "      <td>-12.155886</td>\n",
       "      <td>12.155886</td>\n",
       "    </tr>\n",
       "    <tr>\n",
       "      <th>empsuperv_superv</th>\n",
       "      <td>-12.155886</td>\n",
       "      <td>12.155886</td>\n",
       "    </tr>\n",
       "    <tr>\n",
       "      <th>empcareer_careerstr</th>\n",
       "      <td>-12.155886</td>\n",
       "      <td>12.155886</td>\n",
       "    </tr>\n",
       "    <tr>\n",
       "      <th>empcareer_career</th>\n",
       "      <td>-12.155886</td>\n",
       "      <td>12.155886</td>\n",
       "    </tr>\n",
       "    <tr>\n",
       "      <th>empsat_satisf</th>\n",
       "      <td>-12.155886</td>\n",
       "      <td>12.155886</td>\n",
       "    </tr>\n",
       "    <tr>\n",
       "      <th>status_catwork</th>\n",
       "      <td>-12.155886</td>\n",
       "      <td>12.155886</td>\n",
       "    </tr>\n",
       "    <tr>\n",
       "      <th>emploss_losejob</th>\n",
       "      <td>-12.155886</td>\n",
       "      <td>12.155886</td>\n",
       "    </tr>\n",
       "    <tr>\n",
       "      <th>status_catrecent</th>\n",
       "      <td>12.155886</td>\n",
       "      <td>12.155886</td>\n",
       "    </tr>\n",
       "    <tr>\n",
       "      <th>status_work</th>\n",
       "      <td>12.155886</td>\n",
       "      <td>12.155886</td>\n",
       "    </tr>\n",
       "    <tr>\n",
       "      <th>raceadvt_white</th>\n",
       "      <td>-11.796040</td>\n",
       "      <td>11.796040</td>\n",
       "    </tr>\n",
       "    <tr>\n",
       "      <th>poldisc_socmed_4</th>\n",
       "      <td>-11.743784</td>\n",
       "      <td>11.743784</td>\n",
       "    </tr>\n",
       "    <tr>\n",
       "      <th>poldisc_socmed_2</th>\n",
       "      <td>-11.534543</td>\n",
       "      <td>11.534543</td>\n",
       "    </tr>\n",
       "    <tr>\n",
       "      <th>socdesir_lies</th>\n",
       "      <td>-11.044004</td>\n",
       "      <td>11.044004</td>\n",
       "    </tr>\n",
       "    <tr>\n",
       "      <th>ideology_lcself</th>\n",
       "      <td>-11.017382</td>\n",
       "      <td>11.017382</td>\n",
       "    </tr>\n",
       "    <tr>\n",
       "      <th>vchoice_rematchstr</th>\n",
       "      <td>10.468427</td>\n",
       "      <td>10.468427</td>\n",
       "    </tr>\n",
       "    <tr>\n",
       "      <th>socdesir_friend</th>\n",
       "      <td>-10.434653</td>\n",
       "      <td>10.434653</td>\n",
       "    </tr>\n",
       "    <tr>\n",
       "      <th>mobil_online</th>\n",
       "      <td>-10.152365</td>\n",
       "      <td>10.152365</td>\n",
       "    </tr>\n",
       "    <tr>\n",
       "      <th>disqual_docs</th>\n",
       "      <td>-10.013971</td>\n",
       "      <td>10.013971</td>\n",
       "    </tr>\n",
       "    <tr>\n",
       "      <th>presapp_israelstr</th>\n",
       "      <td>9.896370</td>\n",
       "      <td>9.896370</td>\n",
       "    </tr>\n",
       "    <tr>\n",
       "      <th>pew_prayer</th>\n",
       "      <td>-9.817932</td>\n",
       "      <td>9.817932</td>\n",
       "    </tr>\n",
       "    <tr>\n",
       "      <th>highered_bias</th>\n",
       "      <td>-9.387239</td>\n",
       "      <td>9.387239</td>\n",
       "    </tr>\n",
       "    <tr>\n",
       "      <th>border_patrol</th>\n",
       "      <td>9.354455</td>\n",
       "      <td>9.354455</td>\n",
       "    </tr>\n",
       "    <tr>\n",
       "      <th>aid_ukraine</th>\n",
       "      <td>-9.287569</td>\n",
       "      <td>9.287569</td>\n",
       "    </tr>\n",
       "    <tr>\n",
       "      <th>sleep_sleeprest</th>\n",
       "      <td>-9.227393</td>\n",
       "      <td>9.227393</td>\n",
       "    </tr>\n",
       "    <tr>\n",
       "      <th>poldisc_smpol</th>\n",
       "      <td>-9.227283</td>\n",
       "      <td>9.227283</td>\n",
       "    </tr>\n",
       "    <tr>\n",
       "      <th>impissue_issue</th>\n",
       "      <td>-9.125743</td>\n",
       "      <td>9.125743</td>\n",
       "    </tr>\n",
       "    <tr>\n",
       "      <th>impissue_intro</th>\n",
       "      <td>9.125743</td>\n",
       "      <td>9.125743</td>\n",
       "    </tr>\n",
       "    <tr>\n",
       "      <th>sexism_hinnoc</th>\n",
       "      <td>8.963696</td>\n",
       "      <td>8.963696</td>\n",
       "    </tr>\n",
       "  </tbody>\n",
       "</table>\n",
       "</div>"
      ],
      "text/plain": [
       "                           diff     absdiff\n",
       "varname                                    \n",
       "gender              -100.000000  100.000000\n",
       "gender4              -96.929923   96.929923\n",
       "gendid_masc          -43.029813   43.029813\n",
       "gendid_fem            40.754345   40.754345\n",
       "gendid_mascfem       -38.419912   38.419912\n",
       "disqual_sexhar       -20.605171   20.605171\n",
       "follow_campinterest   18.445105   18.445105\n",
       "aid_israel           -17.717822   17.717822\n",
       "newsint               17.285259   17.285259\n",
       "imp_abort            -16.167217   16.167217\n",
       "tol_freespeech        15.375688   15.375688\n",
       "poldisc_socmed_3     -15.285149   15.285149\n",
       "own_ukraine          -15.147085   15.147085\n",
       "misinfo_bidendocstr   15.003740   15.003740\n",
       "highered_approve     -14.627283   14.627283\n",
       "employ                13.624422   13.624422\n",
       "sexism_bprotect      -12.687349   12.687349\n",
       "aid_palest           -12.467327   12.467327\n",
       "mobil_talk           -12.344554   12.344554\n",
       "secure_ease          -12.155886   12.155886\n",
       "emploss_robot        -12.155886   12.155886\n",
       "emploss_ai           -12.155886   12.155886\n",
       "emploss_less         -12.155886   12.155886\n",
       "empsuperv_superv     -12.155886   12.155886\n",
       "empcareer_careerstr  -12.155886   12.155886\n",
       "empcareer_career     -12.155886   12.155886\n",
       "empsat_satisf        -12.155886   12.155886\n",
       "status_catwork       -12.155886   12.155886\n",
       "emploss_losejob      -12.155886   12.155886\n",
       "status_catrecent      12.155886   12.155886\n",
       "status_work           12.155886   12.155886\n",
       "raceadvt_white       -11.796040   11.796040\n",
       "poldisc_socmed_4     -11.743784   11.743784\n",
       "poldisc_socmed_2     -11.534543   11.534543\n",
       "socdesir_lies        -11.044004   11.044004\n",
       "ideology_lcself      -11.017382   11.017382\n",
       "vchoice_rematchstr    10.468427   10.468427\n",
       "socdesir_friend      -10.434653   10.434653\n",
       "mobil_online         -10.152365   10.152365\n",
       "disqual_docs         -10.013971   10.013971\n",
       "presapp_israelstr      9.896370    9.896370\n",
       "pew_prayer            -9.817932    9.817932\n",
       "highered_bias         -9.387239    9.387239\n",
       "border_patrol          9.354455    9.354455\n",
       "aid_ukraine           -9.287569    9.287569\n",
       "sleep_sleeprest       -9.227393    9.227393\n",
       "poldisc_smpol         -9.227283    9.227283\n",
       "impissue_issue        -9.125743    9.125743\n",
       "impissue_intro         9.125743    9.125743\n",
       "sexism_hinnoc          8.963696    8.963696"
      ]
     },
     "execution_count": 271,
     "metadata": {},
     "output_type": "execute_result"
    },
    {
     "data": {
      "application/javascript": [
       "\n",
       "            setTimeout(function() {\n",
       "                var nbb_cell_id = 271;\n",
       "                var nbb_unformatted_code = \"candidates = diff_df.sort_values(by=\\\"absdiff\\\", ascending=False)\\ncandidates.index = candidates[\\\"varname\\\"]\\ncandidates = candidates.drop(columns=[\\\"varname\\\"]) * 100\\ncandidates.head(50)\";\n",
       "                var nbb_formatted_code = \"candidates = diff_df.sort_values(by=\\\"absdiff\\\", ascending=False)\\ncandidates.index = candidates[\\\"varname\\\"]\\ncandidates = candidates.drop(columns=[\\\"varname\\\"]) * 100\\ncandidates.head(50)\";\n",
       "                var nbb_cells = Jupyter.notebook.get_cells();\n",
       "                for (var i = 0; i < nbb_cells.length; ++i) {\n",
       "                    if (nbb_cells[i].input_prompt_number == nbb_cell_id) {\n",
       "                        if (nbb_cells[i].get_text() == nbb_unformatted_code) {\n",
       "                             nbb_cells[i].set_text(nbb_formatted_code);\n",
       "                        }\n",
       "                        break;\n",
       "                    }\n",
       "                }\n",
       "            }, 500);\n",
       "            "
      ],
      "text/plain": [
       "<IPython.core.display.Javascript object>"
      ]
     },
     "metadata": {},
     "output_type": "display_data"
    }
   ],
   "source": [
    "candidates = diff_df.sort_values(by=\"absdiff\", ascending=False)\n",
    "candidates.index = candidates[\"varname\"]\n",
    "candidates = candidates.drop(columns=[\"varname\"]) * 100\n",
    "candidates.head(50)"
   ]
  },
  {
   "cell_type": "code",
   "execution_count": null,
   "id": "bb2976f4-e32d-487f-ac4d-1ff335fc61ef",
   "metadata": {},
   "outputs": [],
   "source": [
    "candidates.to_csv(\"anes_2024_candidates_resampled.csv\")"
   ]
  }
 ],
 "metadata": {
  "celltoolbar": "Tags",
  "kernelspec": {
   "display_name": "Python 3 (ipykernel)",
   "language": "python",
   "name": "python3"
  },
  "language_info": {
   "codemirror_mode": {
    "name": "ipython",
    "version": 3
   },
   "file_extension": ".py",
   "mimetype": "text/x-python",
   "name": "python",
   "nbconvert_exporter": "python",
   "pygments_lexer": "ipython3",
   "version": "3.10.12"
  }
 },
 "nbformat": 4,
 "nbformat_minor": 5
}
