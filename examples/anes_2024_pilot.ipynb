{
 "cells": [
  {
   "cell_type": "markdown",
   "id": "e07d2d6f",
   "metadata": {},
   "source": [
    "# ANES\n",
    "\n",
    "Intro...\n",
    "\n",
    "[Ryan Burge has done a similar analysis]() with data from the [Cooperative Election Study](https://cces.gov.harvard.edu/) (CSE)...\n",
    "\n",
    "\n",
    "Citation:\n",
    "\n",
    "American National Election Studies. 2024. ANES 2024 Pilot Study [dataset and documentation].\n",
    "March 19, 2024 version. www.electionstudies.org"
   ]
  },
  {
   "cell_type": "code",
   "execution_count": 243,
   "id": "df548b1c",
   "metadata": {},
   "outputs": [
    {
     "name": "stdout",
     "output_type": "stream",
     "text": [
      "The nb_black extension is already loaded. To reload it, use:\n",
      "  %reload_ext nb_black\n",
      "The autoreload extension is already loaded. To reload it, use:\n",
      "  %reload_ext autoreload\n"
     ]
    },
    {
     "data": {
      "application/javascript": [
       "\n",
       "            setTimeout(function() {\n",
       "                var nbb_cell_id = 243;\n",
       "                var nbb_unformatted_code = \"%load_ext nb_black\\n%load_ext autoreload\\n%autoreload 2\";\n",
       "                var nbb_formatted_code = \"%load_ext nb_black\\n%load_ext autoreload\\n%autoreload 2\";\n",
       "                var nbb_cells = Jupyter.notebook.get_cells();\n",
       "                for (var i = 0; i < nbb_cells.length; ++i) {\n",
       "                    if (nbb_cells[i].input_prompt_number == nbb_cell_id) {\n",
       "                        if (nbb_cells[i].get_text() == nbb_unformatted_code) {\n",
       "                             nbb_cells[i].set_text(nbb_formatted_code);\n",
       "                        }\n",
       "                        break;\n",
       "                    }\n",
       "                }\n",
       "            }, 500);\n",
       "            "
      ],
      "text/plain": [
       "<IPython.core.display.Javascript object>"
      ]
     },
     "metadata": {},
     "output_type": "display_data"
    }
   ],
   "source": [
    "%load_ext nb_black\n",
    "%load_ext autoreload\n",
    "%autoreload 2"
   ]
  },
  {
   "cell_type": "markdown",
   "id": "cb9c5ba2",
   "metadata": {},
   "source": [
    "[Click here to run this notebook on Colab](https://colab.research.google.com/github/AllenDowney/ProbablyOverthinkingIt/blob/book/examples/anes_2024_pilot.ipynb) -- but you will have to download the data yourself, because I am not allowed to redistribute it."
   ]
  },
  {
   "cell_type": "code",
   "execution_count": 244,
   "id": "581d0503",
   "metadata": {},
   "outputs": [
    {
     "data": {
      "application/javascript": [
       "\n",
       "            setTimeout(function() {\n",
       "                var nbb_cell_id = 244;\n",
       "                var nbb_unformatted_code = \"import pandas as pd\\nimport numpy as np\\nimport seaborn as sns\\nimport matplotlib.pyplot as plt\";\n",
       "                var nbb_formatted_code = \"import pandas as pd\\nimport numpy as np\\nimport seaborn as sns\\nimport matplotlib.pyplot as plt\";\n",
       "                var nbb_cells = Jupyter.notebook.get_cells();\n",
       "                for (var i = 0; i < nbb_cells.length; ++i) {\n",
       "                    if (nbb_cells[i].input_prompt_number == nbb_cell_id) {\n",
       "                        if (nbb_cells[i].get_text() == nbb_unformatted_code) {\n",
       "                             nbb_cells[i].set_text(nbb_formatted_code);\n",
       "                        }\n",
       "                        break;\n",
       "                    }\n",
       "                }\n",
       "            }, 500);\n",
       "            "
      ],
      "text/plain": [
       "<IPython.core.display.Javascript object>"
      ]
     },
     "metadata": {},
     "output_type": "display_data"
    }
   ],
   "source": [
    "import pandas as pd\n",
    "import numpy as np\n",
    "import seaborn as sns\n",
    "import matplotlib.pyplot as plt"
   ]
  },
  {
   "cell_type": "code",
   "execution_count": 245,
   "id": "9b2fd2ec",
   "metadata": {},
   "outputs": [
    {
     "data": {
      "application/javascript": [
       "\n",
       "            setTimeout(function() {\n",
       "                var nbb_cell_id = 245;\n",
       "                var nbb_unformatted_code = \"plt.rcParams[\\\"figure.dpi\\\"] = 100\\nplt.rcParams[\\\"figure.figsize\\\"] = [6, 3.5]\\nplt.rcParams['axes.titlesize'] = 11\";\n",
       "                var nbb_formatted_code = \"plt.rcParams[\\\"figure.dpi\\\"] = 100\\nplt.rcParams[\\\"figure.figsize\\\"] = [6, 3.5]\\nplt.rcParams[\\\"axes.titlesize\\\"] = 11\";\n",
       "                var nbb_cells = Jupyter.notebook.get_cells();\n",
       "                for (var i = 0; i < nbb_cells.length; ++i) {\n",
       "                    if (nbb_cells[i].input_prompt_number == nbb_cell_id) {\n",
       "                        if (nbb_cells[i].get_text() == nbb_unformatted_code) {\n",
       "                             nbb_cells[i].set_text(nbb_formatted_code);\n",
       "                        }\n",
       "                        break;\n",
       "                    }\n",
       "                }\n",
       "            }, 500);\n",
       "            "
      ],
      "text/plain": [
       "<IPython.core.display.Javascript object>"
      ]
     },
     "metadata": {},
     "output_type": "display_data"
    }
   ],
   "source": [
    "plt.rcParams[\"figure.dpi\"] = 100\n",
    "plt.rcParams[\"figure.figsize\"] = [6, 3.5]\n",
    "plt.rcParams[\"axes.titlesize\"] = 11"
   ]
  },
  {
   "cell_type": "code",
   "execution_count": 246,
   "id": "a97930f3",
   "metadata": {},
   "outputs": [
    {
     "data": {
      "application/javascript": [
       "\n",
       "            setTimeout(function() {\n",
       "                var nbb_cell_id = 246;\n",
       "                var nbb_unformatted_code = \"aibm_light_gray = \\\"#F3F4F3\\\"\\naibm_medium_gray = \\\"#767676\\\"\\naibm_green = \\\"#0B8569\\\"\\nlight_green = \\\"#AAC9B8\\\"\\naibm_orange = \\\"#C55300\\\"\\nlight_orange = \\\"#F4A26B\\\"\\naibm_purple = \\\"#9657A5\\\"\\nlight_purple = \\\"#CFBCD0\\\"\\naibm_blue = \\\"#4575D6\\\"\\nlight_blue = \\\"#C9D3E8\\\"\";\n",
       "                var nbb_formatted_code = \"aibm_light_gray = \\\"#F3F4F3\\\"\\naibm_medium_gray = \\\"#767676\\\"\\naibm_green = \\\"#0B8569\\\"\\nlight_green = \\\"#AAC9B8\\\"\\naibm_orange = \\\"#C55300\\\"\\nlight_orange = \\\"#F4A26B\\\"\\naibm_purple = \\\"#9657A5\\\"\\nlight_purple = \\\"#CFBCD0\\\"\\naibm_blue = \\\"#4575D6\\\"\\nlight_blue = \\\"#C9D3E8\\\"\";\n",
       "                var nbb_cells = Jupyter.notebook.get_cells();\n",
       "                for (var i = 0; i < nbb_cells.length; ++i) {\n",
       "                    if (nbb_cells[i].input_prompt_number == nbb_cell_id) {\n",
       "                        if (nbb_cells[i].get_text() == nbb_unformatted_code) {\n",
       "                             nbb_cells[i].set_text(nbb_formatted_code);\n",
       "                        }\n",
       "                        break;\n",
       "                    }\n",
       "                }\n",
       "            }, 500);\n",
       "            "
      ],
      "text/plain": [
       "<IPython.core.display.Javascript object>"
      ]
     },
     "metadata": {},
     "output_type": "display_data"
    }
   ],
   "source": [
    "aibm_light_gray = \"#F3F4F3\"\n",
    "aibm_medium_gray = \"#767676\"\n",
    "aibm_green = \"#0B8569\"\n",
    "light_green = \"#AAC9B8\"\n",
    "aibm_orange = \"#C55300\"\n",
    "light_orange = \"#F4A26B\"\n",
    "aibm_purple = \"#9657A5\"\n",
    "light_purple = \"#CFBCD0\"\n",
    "aibm_blue = \"#4575D6\"\n",
    "light_blue = \"#C9D3E8\""
   ]
  },
  {
   "cell_type": "code",
   "execution_count": 247,
   "id": "4325a9c1",
   "metadata": {},
   "outputs": [
    {
     "data": {
      "application/javascript": [
       "\n",
       "            setTimeout(function() {\n",
       "                var nbb_cell_id = 247;\n",
       "                var nbb_unformatted_code = \"from statsmodels.nonparametric.smoothers_lowess import lowess\\n\\n\\ndef make_lowess(series, frac=0.5):\\n    \\\"\\\"\\\"Use LOWESS to compute a smooth line.\\n\\n    series: pd.Series\\n\\n    returns: pd.Series\\n    \\\"\\\"\\\"\\n    y = series.values\\n    x = series.index.values\\n\\n    smooth = lowess(y, x, frac=frac)\\n    index, data = np.transpose(smooth)\\n\\n    return pd.Series(data, index=index)\";\n",
       "                var nbb_formatted_code = \"from statsmodels.nonparametric.smoothers_lowess import lowess\\n\\n\\ndef make_lowess(series, frac=0.5):\\n    \\\"\\\"\\\"Use LOWESS to compute a smooth line.\\n\\n    series: pd.Series\\n\\n    returns: pd.Series\\n    \\\"\\\"\\\"\\n    y = series.values\\n    x = series.index.values\\n\\n    smooth = lowess(y, x, frac=frac)\\n    index, data = np.transpose(smooth)\\n\\n    return pd.Series(data, index=index)\";\n",
       "                var nbb_cells = Jupyter.notebook.get_cells();\n",
       "                for (var i = 0; i < nbb_cells.length; ++i) {\n",
       "                    if (nbb_cells[i].input_prompt_number == nbb_cell_id) {\n",
       "                        if (nbb_cells[i].get_text() == nbb_unformatted_code) {\n",
       "                             nbb_cells[i].set_text(nbb_formatted_code);\n",
       "                        }\n",
       "                        break;\n",
       "                    }\n",
       "                }\n",
       "            }, 500);\n",
       "            "
      ],
      "text/plain": [
       "<IPython.core.display.Javascript object>"
      ]
     },
     "metadata": {},
     "output_type": "display_data"
    }
   ],
   "source": [
    "from statsmodels.nonparametric.smoothers_lowess import lowess\n",
    "\n",
    "\n",
    "def make_lowess(series, frac=0.5):\n",
    "    \"\"\"Use LOWESS to compute a smooth line.\n",
    "\n",
    "    series: pd.Series\n",
    "\n",
    "    returns: pd.Series\n",
    "    \"\"\"\n",
    "    y = series.values\n",
    "    x = series.index.values\n",
    "\n",
    "    smooth = lowess(y, x, frac=frac)\n",
    "    index, data = np.transpose(smooth)\n",
    "\n",
    "    return pd.Series(data, index=index)"
   ]
  },
  {
   "cell_type": "code",
   "execution_count": 248,
   "id": "bc25cfab",
   "metadata": {
    "tags": [
     "hide-cell"
    ]
   },
   "outputs": [
    {
     "data": {
      "application/javascript": [
       "\n",
       "            setTimeout(function() {\n",
       "                var nbb_cell_id = 248;\n",
       "                var nbb_unformatted_code = \"def plot_series_lowess(series, color, plot_series=True, frac=0.5, **options):\\n    \\\"\\\"\\\"Plots a series of data points and a smooth line.\\n\\n    series: pd.Series\\n    color: string or tuple\\n    \\\"\\\"\\\"\\n    if \\\"label\\\" not in options:\\n        options[\\\"label\\\"] = series.name\\n\\n    if plot_series or len(series) == 1:\\n        x = series.index\\n        y = series.values\\n        plt.plot(x, y, \\\"o\\\", color=color, alpha=0.3, label=\\\"_\\\")\\n\\n    if not plot_series and len(series) == 1:\\n        x = series.index\\n        y = series.values\\n        plt.plot(x, y, \\\"o\\\", color=color, alpha=0.6, label=options[\\\"label\\\"])\\n\\n    if len(series) > 1:\\n        smooth = make_lowess(series, frac=frac)\\n        smooth.plot(color=color, **options)\";\n",
       "                var nbb_formatted_code = \"def plot_series_lowess(series, color, plot_series=True, frac=0.5, **options):\\n    \\\"\\\"\\\"Plots a series of data points and a smooth line.\\n\\n    series: pd.Series\\n    color: string or tuple\\n    \\\"\\\"\\\"\\n    if \\\"label\\\" not in options:\\n        options[\\\"label\\\"] = series.name\\n\\n    if plot_series or len(series) == 1:\\n        x = series.index\\n        y = series.values\\n        plt.plot(x, y, \\\"o\\\", color=color, alpha=0.3, label=\\\"_\\\")\\n\\n    if not plot_series and len(series) == 1:\\n        x = series.index\\n        y = series.values\\n        plt.plot(x, y, \\\"o\\\", color=color, alpha=0.6, label=options[\\\"label\\\"])\\n\\n    if len(series) > 1:\\n        smooth = make_lowess(series, frac=frac)\\n        smooth.plot(color=color, **options)\";\n",
       "                var nbb_cells = Jupyter.notebook.get_cells();\n",
       "                for (var i = 0; i < nbb_cells.length; ++i) {\n",
       "                    if (nbb_cells[i].input_prompt_number == nbb_cell_id) {\n",
       "                        if (nbb_cells[i].get_text() == nbb_unformatted_code) {\n",
       "                             nbb_cells[i].set_text(nbb_formatted_code);\n",
       "                        }\n",
       "                        break;\n",
       "                    }\n",
       "                }\n",
       "            }, 500);\n",
       "            "
      ],
      "text/plain": [
       "<IPython.core.display.Javascript object>"
      ]
     },
     "metadata": {},
     "output_type": "display_data"
    }
   ],
   "source": [
    "def plot_series_lowess(series, color, plot_series=True, frac=0.5, **options):\n",
    "    \"\"\"Plots a series of data points and a smooth line.\n",
    "\n",
    "    series: pd.Series\n",
    "    color: string or tuple\n",
    "    \"\"\"\n",
    "    if \"label\" not in options:\n",
    "        options[\"label\"] = series.name\n",
    "\n",
    "    if plot_series or len(series) == 1:\n",
    "        x = series.index\n",
    "        y = series.values\n",
    "        plt.plot(x, y, \"o\", color=color, alpha=0.3, label=\"_\")\n",
    "\n",
    "    if not plot_series and len(series) == 1:\n",
    "        x = series.index\n",
    "        y = series.values\n",
    "        plt.plot(x, y, \"o\", color=color, alpha=0.6, label=options[\"label\"])\n",
    "\n",
    "    if len(series) > 1:\n",
    "        smooth = make_lowess(series, frac=frac)\n",
    "        smooth.plot(color=color, **options)"
   ]
  },
  {
   "cell_type": "code",
   "execution_count": 249,
   "id": "229694c8",
   "metadata": {
    "tags": [
     "hide-cell"
    ]
   },
   "outputs": [
    {
     "data": {
      "application/javascript": [
       "\n",
       "            setTimeout(function() {\n",
       "                var nbb_cell_id = 249;\n",
       "                var nbb_unformatted_code = \"def decorate(**options):\\n    \\\"\\\"\\\"Decorate the current axes.\\n\\n    Call decorate with keyword arguments like\\n    decorate(title='Title',\\n             xlabel='x',\\n             ylabel='y')\\n\\n    The keyword arguments can be any of the axis properties\\n    https://matplotlib.org/api/axes_api.html\\n    \\\"\\\"\\\"\\n    ax = plt.gca()\\n    ax.set(**options)\\n\\n    handles, labels = ax.get_legend_handles_labels()\\n    if handles:\\n        ax.legend(handles, labels)\\n\\n    plt.tight_layout()\";\n",
       "                var nbb_formatted_code = \"def decorate(**options):\\n    \\\"\\\"\\\"Decorate the current axes.\\n\\n    Call decorate with keyword arguments like\\n    decorate(title='Title',\\n             xlabel='x',\\n             ylabel='y')\\n\\n    The keyword arguments can be any of the axis properties\\n    https://matplotlib.org/api/axes_api.html\\n    \\\"\\\"\\\"\\n    ax = plt.gca()\\n    ax.set(**options)\\n\\n    handles, labels = ax.get_legend_handles_labels()\\n    if handles:\\n        ax.legend(handles, labels)\\n\\n    plt.tight_layout()\";\n",
       "                var nbb_cells = Jupyter.notebook.get_cells();\n",
       "                for (var i = 0; i < nbb_cells.length; ++i) {\n",
       "                    if (nbb_cells[i].input_prompt_number == nbb_cell_id) {\n",
       "                        if (nbb_cells[i].get_text() == nbb_unformatted_code) {\n",
       "                             nbb_cells[i].set_text(nbb_formatted_code);\n",
       "                        }\n",
       "                        break;\n",
       "                    }\n",
       "                }\n",
       "            }, 500);\n",
       "            "
      ],
      "text/plain": [
       "<IPython.core.display.Javascript object>"
      ]
     },
     "metadata": {},
     "output_type": "display_data"
    }
   ],
   "source": [
    "def decorate(**options):\n",
    "    \"\"\"Decorate the current axes.\n",
    "\n",
    "    Call decorate with keyword arguments like\n",
    "    decorate(title='Title',\n",
    "             xlabel='x',\n",
    "             ylabel='y')\n",
    "\n",
    "    The keyword arguments can be any of the axis properties\n",
    "    https://matplotlib.org/api/axes_api.html\n",
    "    \"\"\"\n",
    "    ax = plt.gca()\n",
    "    ax.set(**options)\n",
    "\n",
    "    handles, labels = ax.get_legend_handles_labels()\n",
    "    if handles:\n",
    "        ax.legend(handles, labels)\n",
    "\n",
    "    plt.tight_layout()"
   ]
  },
  {
   "cell_type": "code",
   "execution_count": 250,
   "id": "933eb8c2",
   "metadata": {},
   "outputs": [
    {
     "data": {
      "application/javascript": [
       "\n",
       "            setTimeout(function() {\n",
       "                var nbb_cell_id = 250;\n",
       "                var nbb_unformatted_code = \"def values(series):\\n    return series.value_counts(dropna=False).sort_index()\";\n",
       "                var nbb_formatted_code = \"def values(series):\\n    return series.value_counts(dropna=False).sort_index()\";\n",
       "                var nbb_cells = Jupyter.notebook.get_cells();\n",
       "                for (var i = 0; i < nbb_cells.length; ++i) {\n",
       "                    if (nbb_cells[i].input_prompt_number == nbb_cell_id) {\n",
       "                        if (nbb_cells[i].get_text() == nbb_unformatted_code) {\n",
       "                             nbb_cells[i].set_text(nbb_formatted_code);\n",
       "                        }\n",
       "                        break;\n",
       "                    }\n",
       "                }\n",
       "            }, 500);\n",
       "            "
      ],
      "text/plain": [
       "<IPython.core.display.Javascript object>"
      ]
     },
     "metadata": {},
     "output_type": "display_data"
    }
   ],
   "source": [
    "def values(series):\n",
    "    return series.value_counts(dropna=False).sort_index()"
   ]
  },
  {
   "cell_type": "code",
   "execution_count": 251,
   "id": "2c2931f9",
   "metadata": {},
   "outputs": [
    {
     "data": {
      "application/javascript": [
       "\n",
       "            setTimeout(function() {\n",
       "                var nbb_cell_id = 251;\n",
       "                var nbb_unformatted_code = \"def savefig(filename, **options):\\n    if \\\"dpi\\\" not in options:\\n        options[\\\"dpi\\\"] = 300\\n    plt.savefig(filename, **options)\";\n",
       "                var nbb_formatted_code = \"def savefig(filename, **options):\\n    if \\\"dpi\\\" not in options:\\n        options[\\\"dpi\\\"] = 300\\n    plt.savefig(filename, **options)\";\n",
       "                var nbb_cells = Jupyter.notebook.get_cells();\n",
       "                for (var i = 0; i < nbb_cells.length; ++i) {\n",
       "                    if (nbb_cells[i].input_prompt_number == nbb_cell_id) {\n",
       "                        if (nbb_cells[i].get_text() == nbb_unformatted_code) {\n",
       "                             nbb_cells[i].set_text(nbb_formatted_code);\n",
       "                        }\n",
       "                        break;\n",
       "                    }\n",
       "                }\n",
       "            }, 500);\n",
       "            "
      ],
      "text/plain": [
       "<IPython.core.display.Javascript object>"
      ]
     },
     "metadata": {},
     "output_type": "display_data"
    }
   ],
   "source": [
    "def savefig(filename, **options):\n",
    "    if \"dpi\" not in options:\n",
    "        options[\"dpi\"] = 300\n",
    "    plt.savefig(filename, **options)"
   ]
  },
  {
   "cell_type": "code",
   "execution_count": 252,
   "id": "7ddff6d6-91a4-49b5-a79c-a2f41e0da6c6",
   "metadata": {},
   "outputs": [
    {
     "data": {
      "application/javascript": [
       "\n",
       "            setTimeout(function() {\n",
       "                var nbb_cell_id = 252;\n",
       "                var nbb_unformatted_code = \"from utils import underride\\n\\n\\ndef value_counts(series, **options):\\n    \\\"\\\"\\\"Make a series of values and the number of times they appear.\\n\\n    Returns a DataFrame because they get rendered better in Jupyter.\\n\\n    series: Pandas Series\\n\\n    returns: Pandas DataFrame\\n    \\\"\\\"\\\"\\n    options = underride(options, dropna=False)\\n    series = series.value_counts(**options).sort_index()\\n    series.index.name = \\\"values\\\"\\n    series.name = \\\"counts\\\"\\n    return pd.DataFrame(series)\";\n",
       "                var nbb_formatted_code = \"from utils import underride\\n\\n\\ndef value_counts(series, **options):\\n    \\\"\\\"\\\"Make a series of values and the number of times they appear.\\n\\n    Returns a DataFrame because they get rendered better in Jupyter.\\n\\n    series: Pandas Series\\n\\n    returns: Pandas DataFrame\\n    \\\"\\\"\\\"\\n    options = underride(options, dropna=False)\\n    series = series.value_counts(**options).sort_index()\\n    series.index.name = \\\"values\\\"\\n    series.name = \\\"counts\\\"\\n    return pd.DataFrame(series)\";\n",
       "                var nbb_cells = Jupyter.notebook.get_cells();\n",
       "                for (var i = 0; i < nbb_cells.length; ++i) {\n",
       "                    if (nbb_cells[i].input_prompt_number == nbb_cell_id) {\n",
       "                        if (nbb_cells[i].get_text() == nbb_unformatted_code) {\n",
       "                             nbb_cells[i].set_text(nbb_formatted_code);\n",
       "                        }\n",
       "                        break;\n",
       "                    }\n",
       "                }\n",
       "            }, 500);\n",
       "            "
      ],
      "text/plain": [
       "<IPython.core.display.Javascript object>"
      ]
     },
     "metadata": {},
     "output_type": "display_data"
    }
   ],
   "source": [
    "from utils import underride\n",
    "\n",
    "\n",
    "def value_counts(series, **options):\n",
    "    \"\"\"Make a series of values and the number of times they appear.\n",
    "\n",
    "    Returns a DataFrame because they get rendered better in Jupyter.\n",
    "\n",
    "    series: Pandas Series\n",
    "\n",
    "    returns: Pandas DataFrame\n",
    "    \"\"\"\n",
    "    options = underride(options, dropna=False)\n",
    "    series = series.value_counts(**options).sort_index()\n",
    "    series.index.name = \"values\"\n",
    "    series.name = \"counts\"\n",
    "    return pd.DataFrame(series)"
   ]
  },
  {
   "cell_type": "markdown",
   "id": "2e495adf",
   "metadata": {},
   "source": [
    "## Read the Data\n",
    "\n",
    "[You can get the data here](https://electionstudies.org/data-center/2024-pilot-study/) -- but you'll need to create an account.\n",
    "\n",
    "We drop the cases that have invalid weights:\n",
    "\n",
    "> There are 1,500 weighted cases on the file and an additional 409 unweighted cases not\n",
    "intended for population inference. The weighted cases are intended to represent the\n",
    "population. The 1,500 weighted cases completed the questionnaire, passed a quality control\n",
    "check by YouGov, and were selected using the sample matching procedure described below in\n",
    "the Sampling and Weighting section. The additional 409 cases are described below and include\n",
    "296 partial interviews and 113 people who completed the questionnaire but were not selected\n",
    "using the sample matching procedure. The additional cases are included to allow\n",
    "methodological analysis, such as a review of the randomization used in question wording\n",
    "experiments. Weights are not provided for the additional 409 cases, as they are not intended to\n",
    "contribute to population inference. The unmatched cases can be distinguished from the main\n",
    "cases by their missing weights in the weight variable or using the variable sample_type.\n",
    "\n",
    "Recommended description from the codebook:\n",
    "\n",
    "> “The survey was conducted using non-probability sampling. This method produces a\n",
    "sample that looks similar to a probability sample on the matched characteristics but may\n",
    "still differ in unknown ways on unmatched characteristics.”\n"
   ]
  },
  {
   "cell_type": "code",
   "execution_count": 397,
   "id": "92e9a347",
   "metadata": {},
   "outputs": [
    {
     "data": {
      "text/plain": [
       "(1909, 941)"
      ]
     },
     "execution_count": 397,
     "metadata": {},
     "output_type": "execute_result"
    },
    {
     "data": {
      "application/javascript": [
       "\n",
       "            setTimeout(function() {\n",
       "                var nbb_cell_id = 397;\n",
       "                var nbb_unformatted_code = \"filename = \\\"anes_pilot_2024_20240319.dta\\\"\\ndf_all = pd.read_stata(filename, convert_categoricals=False)\\ndf_all.shape\";\n",
       "                var nbb_formatted_code = \"filename = \\\"anes_pilot_2024_20240319.dta\\\"\\ndf_all = pd.read_stata(filename, convert_categoricals=False)\\ndf_all.shape\";\n",
       "                var nbb_cells = Jupyter.notebook.get_cells();\n",
       "                for (var i = 0; i < nbb_cells.length; ++i) {\n",
       "                    if (nbb_cells[i].input_prompt_number == nbb_cell_id) {\n",
       "                        if (nbb_cells[i].get_text() == nbb_unformatted_code) {\n",
       "                             nbb_cells[i].set_text(nbb_formatted_code);\n",
       "                        }\n",
       "                        break;\n",
       "                    }\n",
       "                }\n",
       "            }, 500);\n",
       "            "
      ],
      "text/plain": [
       "<IPython.core.display.Javascript object>"
      ]
     },
     "metadata": {},
     "output_type": "display_data"
    }
   ],
   "source": [
    "filename = \"anes_pilot_2024_20240319.dta\"\n",
    "df_all = pd.read_stata(filename, convert_categoricals=False)\n",
    "df_all.shape"
   ]
  },
  {
   "cell_type": "code",
   "execution_count": 398,
   "id": "1e8fb359-ec23-4153-a476-26f1274d4b1c",
   "metadata": {},
   "outputs": [
    {
     "data": {
      "text/html": [
       "<div>\n",
       "<style scoped>\n",
       "    .dataframe tbody tr th:only-of-type {\n",
       "        vertical-align: middle;\n",
       "    }\n",
       "\n",
       "    .dataframe tbody tr th {\n",
       "        vertical-align: top;\n",
       "    }\n",
       "\n",
       "    .dataframe thead th {\n",
       "        text-align: right;\n",
       "    }\n",
       "</style>\n",
       "<table border=\"1\" class=\"dataframe\">\n",
       "  <thead>\n",
       "    <tr style=\"text-align: right;\">\n",
       "      <th></th>\n",
       "      <th>counts</th>\n",
       "    </tr>\n",
       "    <tr>\n",
       "      <th>values</th>\n",
       "      <th></th>\n",
       "    </tr>\n",
       "  </thead>\n",
       "  <tbody>\n",
       "    <tr>\n",
       "      <th>-7.0</th>\n",
       "      <td>2</td>\n",
       "    </tr>\n",
       "    <tr>\n",
       "      <th>-1.0</th>\n",
       "      <td>165</td>\n",
       "    </tr>\n",
       "    <tr>\n",
       "      <th>1.0</th>\n",
       "      <td>754</td>\n",
       "    </tr>\n",
       "    <tr>\n",
       "      <th>2.0</th>\n",
       "      <td>514</td>\n",
       "    </tr>\n",
       "    <tr>\n",
       "      <th>3.0</th>\n",
       "      <td>474</td>\n",
       "    </tr>\n",
       "  </tbody>\n",
       "</table>\n",
       "</div>"
      ],
      "text/plain": [
       "        counts\n",
       "values        \n",
       "-7.0         2\n",
       "-1.0       165\n",
       " 1.0       754\n",
       " 2.0       514\n",
       " 3.0       474"
      ]
     },
     "execution_count": 398,
     "metadata": {},
     "output_type": "execute_result"
    },
    {
     "data": {
      "application/javascript": [
       "\n",
       "            setTimeout(function() {\n",
       "                var nbb_cell_id = 398;\n",
       "                var nbb_unformatted_code = \"varname = \\\"own_abort\\\"\\nvalue_counts(df_all[varname])\";\n",
       "                var nbb_formatted_code = \"varname = \\\"own_abort\\\"\\nvalue_counts(df_all[varname])\";\n",
       "                var nbb_cells = Jupyter.notebook.get_cells();\n",
       "                for (var i = 0; i < nbb_cells.length; ++i) {\n",
       "                    if (nbb_cells[i].input_prompt_number == nbb_cell_id) {\n",
       "                        if (nbb_cells[i].get_text() == nbb_unformatted_code) {\n",
       "                             nbb_cells[i].set_text(nbb_formatted_code);\n",
       "                        }\n",
       "                        break;\n",
       "                    }\n",
       "                }\n",
       "            }, 500);\n",
       "            "
      ],
      "text/plain": [
       "<IPython.core.display.Javascript object>"
      ]
     },
     "metadata": {},
     "output_type": "display_data"
    }
   ],
   "source": [
    "varname = \"own_abort\"\n",
    "value_counts(df_all[varname])"
   ]
  },
  {
   "cell_type": "markdown",
   "id": "874d2e00",
   "metadata": {},
   "source": [
    "## Weighted Cases"
   ]
  },
  {
   "cell_type": "code",
   "execution_count": 402,
   "id": "0090d2da",
   "metadata": {},
   "outputs": [
    {
     "data": {
      "application/javascript": [
       "\n",
       "            setTimeout(function() {\n",
       "                var nbb_cell_id = 402;\n",
       "                var nbb_unformatted_code = \"df = df_all.dropna(subset=[\\\"weight\\\"]).copy()\";\n",
       "                var nbb_formatted_code = \"df = df_all.dropna(subset=[\\\"weight\\\"]).copy()\";\n",
       "                var nbb_cells = Jupyter.notebook.get_cells();\n",
       "                for (var i = 0; i < nbb_cells.length; ++i) {\n",
       "                    if (nbb_cells[i].input_prompt_number == nbb_cell_id) {\n",
       "                        if (nbb_cells[i].get_text() == nbb_unformatted_code) {\n",
       "                             nbb_cells[i].set_text(nbb_formatted_code);\n",
       "                        }\n",
       "                        break;\n",
       "                    }\n",
       "                }\n",
       "            }, 500);\n",
       "            "
      ],
      "text/plain": [
       "<IPython.core.display.Javascript object>"
      ]
     },
     "metadata": {},
     "output_type": "display_data"
    }
   ],
   "source": [
    "df = df_all.dropna(subset=[\"weight\"]).copy()"
   ]
  },
  {
   "cell_type": "code",
   "execution_count": 405,
   "id": "e5ad6be1",
   "metadata": {},
   "outputs": [
    {
     "data": {
      "text/plain": [
       "count    1500.000000\n",
       "mean        1.000000\n",
       "std         0.468987\n",
       "min         0.314350\n",
       "25%         0.718226\n",
       "50%         0.894765\n",
       "75%         1.130104\n",
       "max         7.000960\n",
       "Name: weight, dtype: float64"
      ]
     },
     "execution_count": 405,
     "metadata": {},
     "output_type": "execute_result"
    },
    {
     "data": {
      "application/javascript": [
       "\n",
       "            setTimeout(function() {\n",
       "                var nbb_cell_id = 405;\n",
       "                var nbb_unformatted_code = \"df[\\\"weight\\\"].describe()\";\n",
       "                var nbb_formatted_code = \"df[\\\"weight\\\"].describe()\";\n",
       "                var nbb_cells = Jupyter.notebook.get_cells();\n",
       "                for (var i = 0; i < nbb_cells.length; ++i) {\n",
       "                    if (nbb_cells[i].input_prompt_number == nbb_cell_id) {\n",
       "                        if (nbb_cells[i].get_text() == nbb_unformatted_code) {\n",
       "                             nbb_cells[i].set_text(nbb_formatted_code);\n",
       "                        }\n",
       "                        break;\n",
       "                    }\n",
       "                }\n",
       "            }, 500);\n",
       "            "
      ],
      "text/plain": [
       "<IPython.core.display.Javascript object>"
      ]
     },
     "metadata": {},
     "output_type": "display_data"
    }
   ],
   "source": [
    "df[\"weight\"].describe()"
   ]
  },
  {
   "cell_type": "code",
   "execution_count": 403,
   "id": "4b65e8db",
   "metadata": {},
   "outputs": [
    {
     "data": {
      "text/html": [
       "<div>\n",
       "<style scoped>\n",
       "    .dataframe tbody tr th:only-of-type {\n",
       "        vertical-align: middle;\n",
       "    }\n",
       "\n",
       "    .dataframe tbody tr th {\n",
       "        vertical-align: top;\n",
       "    }\n",
       "\n",
       "    .dataframe thead th {\n",
       "        text-align: right;\n",
       "    }\n",
       "</style>\n",
       "<table border=\"1\" class=\"dataframe\">\n",
       "  <thead>\n",
       "    <tr style=\"text-align: right;\">\n",
       "      <th></th>\n",
       "      <th>counts</th>\n",
       "    </tr>\n",
       "    <tr>\n",
       "      <th>values</th>\n",
       "      <th></th>\n",
       "    </tr>\n",
       "  </thead>\n",
       "  <tbody>\n",
       "    <tr>\n",
       "      <th>1.0</th>\n",
       "      <td>725</td>\n",
       "    </tr>\n",
       "    <tr>\n",
       "      <th>2.0</th>\n",
       "      <td>775</td>\n",
       "    </tr>\n",
       "  </tbody>\n",
       "</table>\n",
       "</div>"
      ],
      "text/plain": [
       "        counts\n",
       "values        \n",
       "1.0        725\n",
       "2.0        775"
      ]
     },
     "execution_count": 403,
     "metadata": {},
     "output_type": "execute_result"
    },
    {
     "data": {
      "application/javascript": [
       "\n",
       "            setTimeout(function() {\n",
       "                var nbb_cell_id = 403;\n",
       "                var nbb_unformatted_code = \"value_counts(df[\\\"gender\\\"])\";\n",
       "                var nbb_formatted_code = \"value_counts(df[\\\"gender\\\"])\";\n",
       "                var nbb_cells = Jupyter.notebook.get_cells();\n",
       "                for (var i = 0; i < nbb_cells.length; ++i) {\n",
       "                    if (nbb_cells[i].input_prompt_number == nbb_cell_id) {\n",
       "                        if (nbb_cells[i].get_text() == nbb_unformatted_code) {\n",
       "                             nbb_cells[i].set_text(nbb_formatted_code);\n",
       "                        }\n",
       "                        break;\n",
       "                    }\n",
       "                }\n",
       "            }, 500);\n",
       "            "
      ],
      "text/plain": [
       "<IPython.core.display.Javascript object>"
      ]
     },
     "metadata": {},
     "output_type": "display_data"
    }
   ],
   "source": [
    "value_counts(df[\"gender\"])"
   ]
  },
  {
   "cell_type": "code",
   "execution_count": 404,
   "id": "b9aaba78",
   "metadata": {},
   "outputs": [
    {
     "data": {
      "text/html": [
       "<div>\n",
       "<style scoped>\n",
       "    .dataframe tbody tr th:only-of-type {\n",
       "        vertical-align: middle;\n",
       "    }\n",
       "\n",
       "    .dataframe tbody tr th {\n",
       "        vertical-align: top;\n",
       "    }\n",
       "\n",
       "    .dataframe thead th {\n",
       "        text-align: right;\n",
       "    }\n",
       "</style>\n",
       "<table border=\"1\" class=\"dataframe\">\n",
       "  <thead>\n",
       "    <tr style=\"text-align: right;\">\n",
       "      <th></th>\n",
       "      <th>counts</th>\n",
       "    </tr>\n",
       "    <tr>\n",
       "      <th>values</th>\n",
       "      <th></th>\n",
       "    </tr>\n",
       "  </thead>\n",
       "  <tbody>\n",
       "    <tr>\n",
       "      <th>18.0</th>\n",
       "      <td>7</td>\n",
       "    </tr>\n",
       "    <tr>\n",
       "      <th>19.0</th>\n",
       "      <td>11</td>\n",
       "    </tr>\n",
       "    <tr>\n",
       "      <th>20.0</th>\n",
       "      <td>43</td>\n",
       "    </tr>\n",
       "    <tr>\n",
       "      <th>21.0</th>\n",
       "      <td>23</td>\n",
       "    </tr>\n",
       "    <tr>\n",
       "      <th>22.0</th>\n",
       "      <td>31</td>\n",
       "    </tr>\n",
       "    <tr>\n",
       "      <th>...</th>\n",
       "      <td>...</td>\n",
       "    </tr>\n",
       "    <tr>\n",
       "      <th>85.0</th>\n",
       "      <td>4</td>\n",
       "    </tr>\n",
       "    <tr>\n",
       "      <th>86.0</th>\n",
       "      <td>1</td>\n",
       "    </tr>\n",
       "    <tr>\n",
       "      <th>88.0</th>\n",
       "      <td>2</td>\n",
       "    </tr>\n",
       "    <tr>\n",
       "      <th>90.0</th>\n",
       "      <td>1</td>\n",
       "    </tr>\n",
       "    <tr>\n",
       "      <th>94.0</th>\n",
       "      <td>1</td>\n",
       "    </tr>\n",
       "  </tbody>\n",
       "</table>\n",
       "<p>72 rows × 1 columns</p>\n",
       "</div>"
      ],
      "text/plain": [
       "        counts\n",
       "values        \n",
       "18.0         7\n",
       "19.0        11\n",
       "20.0        43\n",
       "21.0        23\n",
       "22.0        31\n",
       "...        ...\n",
       "85.0         4\n",
       "86.0         1\n",
       "88.0         2\n",
       "90.0         1\n",
       "94.0         1\n",
       "\n",
       "[72 rows x 1 columns]"
      ]
     },
     "execution_count": 404,
     "metadata": {},
     "output_type": "execute_result"
    },
    {
     "data": {
      "application/javascript": [
       "\n",
       "            setTimeout(function() {\n",
       "                var nbb_cell_id = 404;\n",
       "                var nbb_unformatted_code = \"df[\\\"age\\\"] = df[\\\"age\\\"].replace(-9, np.nan)\\nvalue_counts(df[\\\"age\\\"])\";\n",
       "                var nbb_formatted_code = \"df[\\\"age\\\"] = df[\\\"age\\\"].replace(-9, np.nan)\\nvalue_counts(df[\\\"age\\\"])\";\n",
       "                var nbb_cells = Jupyter.notebook.get_cells();\n",
       "                for (var i = 0; i < nbb_cells.length; ++i) {\n",
       "                    if (nbb_cells[i].input_prompt_number == nbb_cell_id) {\n",
       "                        if (nbb_cells[i].get_text() == nbb_unformatted_code) {\n",
       "                             nbb_cells[i].set_text(nbb_formatted_code);\n",
       "                        }\n",
       "                        break;\n",
       "                    }\n",
       "                }\n",
       "            }, 500);\n",
       "            "
      ],
      "text/plain": [
       "<IPython.core.display.Javascript object>"
      ]
     },
     "metadata": {},
     "output_type": "display_data"
    }
   ],
   "source": [
    "df[\"age\"] = df[\"age\"].replace(-9, np.nan)\n",
    "value_counts(df[\"age\"])"
   ]
  },
  {
   "cell_type": "markdown",
   "id": "3aff86b0",
   "metadata": {},
   "source": [
    "About party identification, respondents were randomly asked two versions of the question, with the parties in different orders.\n",
    "We'll combine the results into a single column, and lump other party with independent."
   ]
  },
  {
   "cell_type": "code",
   "execution_count": 353,
   "id": "9ad26e49",
   "metadata": {},
   "outputs": [
    {
     "data": {
      "text/html": [
       "<div>\n",
       "<style scoped>\n",
       "    .dataframe tbody tr th:only-of-type {\n",
       "        vertical-align: middle;\n",
       "    }\n",
       "\n",
       "    .dataframe tbody tr th {\n",
       "        vertical-align: top;\n",
       "    }\n",
       "\n",
       "    .dataframe thead th {\n",
       "        text-align: right;\n",
       "    }\n",
       "</style>\n",
       "<table border=\"1\" class=\"dataframe\">\n",
       "  <thead>\n",
       "    <tr style=\"text-align: right;\">\n",
       "      <th></th>\n",
       "      <th>counts</th>\n",
       "    </tr>\n",
       "    <tr>\n",
       "      <th>values</th>\n",
       "      <th></th>\n",
       "    </tr>\n",
       "  </thead>\n",
       "  <tbody>\n",
       "    <tr>\n",
       "      <th>1.0</th>\n",
       "      <td>528</td>\n",
       "    </tr>\n",
       "    <tr>\n",
       "      <th>2.0</th>\n",
       "      <td>434</td>\n",
       "    </tr>\n",
       "    <tr>\n",
       "      <th>3.0</th>\n",
       "      <td>538</td>\n",
       "    </tr>\n",
       "  </tbody>\n",
       "</table>\n",
       "</div>"
      ],
      "text/plain": [
       "        counts\n",
       "values        \n",
       "1.0        528\n",
       "2.0        434\n",
       "3.0        538"
      ]
     },
     "execution_count": 353,
     "metadata": {},
     "output_type": "execute_result"
    },
    {
     "data": {
      "application/javascript": [
       "\n",
       "            setTimeout(function() {\n",
       "                var nbb_cell_id = 353;\n",
       "                var nbb_unformatted_code = \"pid1d = df[\\\"pid_pid1d\\\"].replace([-1, 5], [np.nan, 3])\\npid1r = df[\\\"pid_pid1r\\\"].replace([-1, 1, 2, 5], [np.nan, 2, 1, 3])\\n\\ndf[\\\"pid\\\"] = pid1d.fillna(pid1r)\\nvalue_counts(df[\\\"pid\\\"])\";\n",
       "                var nbb_formatted_code = \"pid1d = df[\\\"pid_pid1d\\\"].replace([-1, 5], [np.nan, 3])\\npid1r = df[\\\"pid_pid1r\\\"].replace([-1, 1, 2, 5], [np.nan, 2, 1, 3])\\n\\ndf[\\\"pid\\\"] = pid1d.fillna(pid1r)\\nvalue_counts(df[\\\"pid\\\"])\";\n",
       "                var nbb_cells = Jupyter.notebook.get_cells();\n",
       "                for (var i = 0; i < nbb_cells.length; ++i) {\n",
       "                    if (nbb_cells[i].input_prompt_number == nbb_cell_id) {\n",
       "                        if (nbb_cells[i].get_text() == nbb_unformatted_code) {\n",
       "                             nbb_cells[i].set_text(nbb_formatted_code);\n",
       "                        }\n",
       "                        break;\n",
       "                    }\n",
       "                }\n",
       "            }, 500);\n",
       "            "
      ],
      "text/plain": [
       "<IPython.core.display.Javascript object>"
      ]
     },
     "metadata": {},
     "output_type": "display_data"
    }
   ],
   "source": [
    "pid1d = df[\"pid_pid1d\"].replace([-1, 5], [np.nan, 3])\n",
    "pid1r = df[\"pid_pid1r\"].replace([-1, 1, 2, 5], [np.nan, 2, 1, 3])\n",
    "\n",
    "df[\"pid\"] = pid1d.fillna(pid1r)\n",
    "value_counts(df[\"pid\"])"
   ]
  },
  {
   "cell_type": "code",
   "execution_count": 373,
   "id": "52f0a5ed",
   "metadata": {},
   "outputs": [
    {
     "data": {
      "text/plain": [
       "(725, 775)"
      ]
     },
     "execution_count": 373,
     "metadata": {},
     "output_type": "execute_result"
    },
    {
     "data": {
      "application/javascript": [
       "\n",
       "            setTimeout(function() {\n",
       "                var nbb_cell_id = 373;\n",
       "                var nbb_unformatted_code = \"df_male = df.query(\\\"gender == 1\\\")\\ndf_female = df.query(\\\"gender == 2\\\")\\nlen(df_male), len(df_female)\";\n",
       "                var nbb_formatted_code = \"df_male = df.query(\\\"gender == 1\\\")\\ndf_female = df.query(\\\"gender == 2\\\")\\nlen(df_male), len(df_female)\";\n",
       "                var nbb_cells = Jupyter.notebook.get_cells();\n",
       "                for (var i = 0; i < nbb_cells.length; ++i) {\n",
       "                    if (nbb_cells[i].input_prompt_number == nbb_cell_id) {\n",
       "                        if (nbb_cells[i].get_text() == nbb_unformatted_code) {\n",
       "                             nbb_cells[i].set_text(nbb_formatted_code);\n",
       "                        }\n",
       "                        break;\n",
       "                    }\n",
       "                }\n",
       "            }, 500);\n",
       "            "
      ],
      "text/plain": [
       "<IPython.core.display.Javascript object>"
      ]
     },
     "metadata": {},
     "output_type": "display_data"
    }
   ],
   "source": [
    "df_male = df.query(\"gender == 1\")\n",
    "df_female = df.query(\"gender == 2\")\n",
    "len(df_male), len(df_female)"
   ]
  },
  {
   "cell_type": "code",
   "execution_count": 409,
   "id": "480cfac4",
   "metadata": {},
   "outputs": [
    {
     "data": {
      "text/plain": [
       "(251, 282)"
      ]
     },
     "execution_count": 409,
     "metadata": {},
     "output_type": "execute_result"
    },
    {
     "data": {
      "application/javascript": [
       "\n",
       "            setTimeout(function() {\n",
       "                var nbb_cell_id = 409;\n",
       "                var nbb_unformatted_code = \"df_young_male = df.query(\\\"gender == 1 and age < 40\\\")\\ndf_young_female = df.query(\\\"gender == 2 and age < 40\\\")\\nlen(df_young_male), len(df_young_female)\";\n",
       "                var nbb_formatted_code = \"df_young_male = df.query(\\\"gender == 1 and age < 40\\\")\\ndf_young_female = df.query(\\\"gender == 2 and age < 40\\\")\\nlen(df_young_male), len(df_young_female)\";\n",
       "                var nbb_cells = Jupyter.notebook.get_cells();\n",
       "                for (var i = 0; i < nbb_cells.length; ++i) {\n",
       "                    if (nbb_cells[i].input_prompt_number == nbb_cell_id) {\n",
       "                        if (nbb_cells[i].get_text() == nbb_unformatted_code) {\n",
       "                             nbb_cells[i].set_text(nbb_formatted_code);\n",
       "                        }\n",
       "                        break;\n",
       "                    }\n",
       "                }\n",
       "            }, 500);\n",
       "            "
      ],
      "text/plain": [
       "<IPython.core.display.Javascript object>"
      ]
     },
     "metadata": {},
     "output_type": "display_data"
    }
   ],
   "source": [
    "df_young_male = df.query(\"gender == 1 and age < 40\")\n",
    "df_young_female = df.query(\"gender == 2 and age < 40\")\n",
    "len(df_young_male), len(df_young_female)"
   ]
  },
  {
   "cell_type": "code",
   "execution_count": 406,
   "id": "b0044286",
   "metadata": {},
   "outputs": [
    {
     "data": {
      "text/plain": [
       "own_abort\n",
       "1.0    342\n",
       "3.0    226\n",
       "2.0    207\n",
       "Name: count, dtype: int64"
      ]
     },
     "execution_count": 406,
     "metadata": {},
     "output_type": "execute_result"
    },
    {
     "data": {
      "application/javascript": [
       "\n",
       "            setTimeout(function() {\n",
       "                var nbb_cell_id = 406;\n",
       "                var nbb_unformatted_code = \"df_female['own_abort'].value_counts()\";\n",
       "                var nbb_formatted_code = \"df_female[\\\"own_abort\\\"].value_counts()\";\n",
       "                var nbb_cells = Jupyter.notebook.get_cells();\n",
       "                for (var i = 0; i < nbb_cells.length; ++i) {\n",
       "                    if (nbb_cells[i].input_prompt_number == nbb_cell_id) {\n",
       "                        if (nbb_cells[i].get_text() == nbb_unformatted_code) {\n",
       "                             nbb_cells[i].set_text(nbb_formatted_code);\n",
       "                        }\n",
       "                        break;\n",
       "                    }\n",
       "                }\n",
       "            }, 500);\n",
       "            "
      ],
      "text/plain": [
       "<IPython.core.display.Javascript object>"
      ]
     },
     "metadata": {},
     "output_type": "display_data"
    }
   ],
   "source": [
    "df_female[\"own_abort\"].value_counts()"
   ]
  },
  {
   "cell_type": "markdown",
   "id": "6f177cc1",
   "metadata": {},
   "source": [
    "## Estimation"
   ]
  },
  {
   "cell_type": "code",
   "execution_count": 435,
   "id": "16efda84",
   "metadata": {},
   "outputs": [
    {
     "data": {
      "application/javascript": [
       "\n",
       "            setTimeout(function() {\n",
       "                var nbb_cell_id = 435;\n",
       "                var nbb_unformatted_code = \"from scipy.stats import norm\\n\\n\\ndef estimate_proportion(success_series, weights_series, confidence_level=0.95):\\n    \\\"\\\"\\\"\\n    Calculate the weighted proportion and Wilson score interval for weighted data.\\n\\n    Parameters:\\n    success_series (pd.Series): A boolean series where True represents a success.\\n    weights_series (pd.Series): A series of weights corresponding to the success_series.\\n    confidence_level (float): The confidence level for the Wilson score interval\\n\\n    Returns:\\n    weighted_proportion (float): The weighted proportion of successes.\\n    lower: The lower and upper bounds of the Wilson score interval.\\n    \\\"\\\"\\\"\\n    # Ensure the series are aligned and of correct type\\n    success_series = success_series.astype(float)\\n    weights_series = weights_series.astype(float)\\n\\n    # Calculate weighted proportion\\n    total_weight = weights_series.sum()\\n    weighted_successes = (success_series * weights_series).sum()\\n    p = weighted_successes / total_weight\\n\\n    # Calculate the z-score for the given confidence level\\n    z = norm.ppf(1 - (1 - confidence_level) / 2)\\n\\n    # Wilson score interval adjusted for weighted data\\n    denominator = 1 + z**2 / total_weight\\n    center = (p + z**2 / (2 * total_weight)) / denominator\\n    sd = (\\n        np.sqrt((p * (1 - p) + z**2 / (4 * total_weight)) / total_weight)\\n        / denominator\\n    )\\n\\n    # Lower and upper bounds of the Wilson interval\\n    lower = center - z * sd\\n    upper = center + z * sd\\n\\n    return p, lower, upper\";\n",
       "                var nbb_formatted_code = \"from scipy.stats import norm\\n\\n\\ndef estimate_proportion(success_series, weights_series, confidence_level=0.95):\\n    \\\"\\\"\\\"\\n    Calculate the weighted proportion and Wilson score interval for weighted data.\\n\\n    Parameters:\\n    success_series (pd.Series): A boolean series where True represents a success.\\n    weights_series (pd.Series): A series of weights corresponding to the success_series.\\n    confidence_level (float): The confidence level for the Wilson score interval\\n\\n    Returns:\\n    weighted_proportion (float): The weighted proportion of successes.\\n    lower: The lower and upper bounds of the Wilson score interval.\\n    \\\"\\\"\\\"\\n    # Ensure the series are aligned and of correct type\\n    success_series = success_series.astype(float)\\n    weights_series = weights_series.astype(float)\\n\\n    # Calculate weighted proportion\\n    total_weight = weights_series.sum()\\n    weighted_successes = (success_series * weights_series).sum()\\n    p = weighted_successes / total_weight\\n\\n    # Calculate the z-score for the given confidence level\\n    z = norm.ppf(1 - (1 - confidence_level) / 2)\\n\\n    # Wilson score interval adjusted for weighted data\\n    denominator = 1 + z**2 / total_weight\\n    center = (p + z**2 / (2 * total_weight)) / denominator\\n    sd = (\\n        np.sqrt((p * (1 - p) + z**2 / (4 * total_weight)) / total_weight)\\n        / denominator\\n    )\\n\\n    # Lower and upper bounds of the Wilson interval\\n    lower = center - z * sd\\n    upper = center + z * sd\\n\\n    return p, lower, upper\";\n",
       "                var nbb_cells = Jupyter.notebook.get_cells();\n",
       "                for (var i = 0; i < nbb_cells.length; ++i) {\n",
       "                    if (nbb_cells[i].input_prompt_number == nbb_cell_id) {\n",
       "                        if (nbb_cells[i].get_text() == nbb_unformatted_code) {\n",
       "                             nbb_cells[i].set_text(nbb_formatted_code);\n",
       "                        }\n",
       "                        break;\n",
       "                    }\n",
       "                }\n",
       "            }, 500);\n",
       "            "
      ],
      "text/plain": [
       "<IPython.core.display.Javascript object>"
      ]
     },
     "metadata": {},
     "output_type": "display_data"
    }
   ],
   "source": [
    "from scipy.stats import norm\n",
    "\n",
    "\n",
    "def estimate_proportion(success_series, weights_series, confidence_level=0.95):\n",
    "    \"\"\"\n",
    "    Calculate the weighted proportion and Wilson score interval for weighted data.\n",
    "\n",
    "    Parameters:\n",
    "    success_series (pd.Series): A boolean series where True represents a success.\n",
    "    weights_series (pd.Series): A series of weights corresponding to the success_series.\n",
    "    confidence_level (float): The confidence level for the Wilson score interval\n",
    "\n",
    "    Returns:\n",
    "    weighted_proportion (float): The weighted proportion of successes.\n",
    "    lower: The lower and upper bounds of the Wilson score interval.\n",
    "    \"\"\"\n",
    "    # Ensure the series are aligned and of correct type\n",
    "    success_series = success_series.astype(float)\n",
    "    weights_series = weights_series.astype(float)\n",
    "\n",
    "    # Calculate weighted proportion\n",
    "    total_weight = weights_series.sum()\n",
    "    weighted_successes = (success_series * weights_series).sum()\n",
    "    p = weighted_successes / total_weight\n",
    "\n",
    "    # Calculate the z-score for the given confidence level\n",
    "    z = norm.ppf(1 - (1 - confidence_level) / 2)\n",
    "\n",
    "    # Wilson score interval adjusted for weighted data\n",
    "    denominator = 1 + z**2 / total_weight\n",
    "    center = (p + z**2 / (2 * total_weight)) / denominator\n",
    "    sd = (\n",
    "        np.sqrt((p * (1 - p) + z**2 / (4 * total_weight)) / total_weight)\n",
    "        / denominator\n",
    "    )\n",
    "\n",
    "    # Lower and upper bounds of the Wilson interval\n",
    "    lower = center - z * sd\n",
    "    upper = center + z * sd\n",
    "\n",
    "    return p, lower, upper"
   ]
  },
  {
   "cell_type": "code",
   "execution_count": 436,
   "id": "53fe781f",
   "metadata": {},
   "outputs": [
    {
     "data": {
      "text/plain": [
       "(0.4111023206163364, 0.38646030431427186, 0.4361985028447419)"
      ]
     },
     "execution_count": 436,
     "metadata": {},
     "output_type": "execute_result"
    },
    {
     "data": {
      "application/javascript": [
       "\n",
       "            setTimeout(function() {\n",
       "                var nbb_cell_id = 436;\n",
       "                var nbb_unformatted_code = \"estimate_proportion(df[\\\"follow_campinterest\\\"] == 1, df[\\\"weight\\\"])\";\n",
       "                var nbb_formatted_code = \"estimate_proportion(df[\\\"follow_campinterest\\\"] == 1, df[\\\"weight\\\"])\";\n",
       "                var nbb_cells = Jupyter.notebook.get_cells();\n",
       "                for (var i = 0; i < nbb_cells.length; ++i) {\n",
       "                    if (nbb_cells[i].input_prompt_number == nbb_cell_id) {\n",
       "                        if (nbb_cells[i].get_text() == nbb_unformatted_code) {\n",
       "                             nbb_cells[i].set_text(nbb_formatted_code);\n",
       "                        }\n",
       "                        break;\n",
       "                    }\n",
       "                }\n",
       "            }, 500);\n",
       "            "
      ],
      "text/plain": [
       "<IPython.core.display.Javascript object>"
      ]
     },
     "metadata": {},
     "output_type": "display_data"
    }
   ],
   "source": [
    "estimate_proportion(df[\"follow_campinterest\"] == 1, df[\"weight\"])"
   ]
  },
  {
   "cell_type": "code",
   "execution_count": 437,
   "id": "f7baa214",
   "metadata": {},
   "outputs": [
    {
     "data": {
      "text/plain": [
       "(0.2989553945776481, 0.26772209612850467, 0.3321795603078133)"
      ]
     },
     "execution_count": 437,
     "metadata": {},
     "output_type": "execute_result"
    },
    {
     "data": {
      "application/javascript": [
       "\n",
       "            setTimeout(function() {\n",
       "                var nbb_cell_id = 437;\n",
       "                var nbb_unformatted_code = \"estimate_proportion(df_female[\\\"own_abort\\\"] == 3, df_female[\\\"weight\\\"])\";\n",
       "                var nbb_formatted_code = \"estimate_proportion(df_female[\\\"own_abort\\\"] == 3, df_female[\\\"weight\\\"])\";\n",
       "                var nbb_cells = Jupyter.notebook.get_cells();\n",
       "                for (var i = 0; i < nbb_cells.length; ++i) {\n",
       "                    if (nbb_cells[i].input_prompt_number == nbb_cell_id) {\n",
       "                        if (nbb_cells[i].get_text() == nbb_unformatted_code) {\n",
       "                             nbb_cells[i].set_text(nbb_formatted_code);\n",
       "                        }\n",
       "                        break;\n",
       "                    }\n",
       "                }\n",
       "            }, 500);\n",
       "            "
      ],
      "text/plain": [
       "<IPython.core.display.Javascript object>"
      ]
     },
     "metadata": {},
     "output_type": "display_data"
    }
   ],
   "source": [
    "estimate_proportion(df_female[\"own_abort\"] == 3, df_female[\"weight\"])"
   ]
  },
  {
   "cell_type": "markdown",
   "id": "229b56b0",
   "metadata": {},
   "source": [
    "## How important\n",
    "\n",
    "This section explores answers to several questions of the form, \"How important are each of the following issues in the country today?\"\n",
    "\n",
    "```\n",
    "1. Extremely important\n",
    "2. Very important\n",
    "3. Moderately important\n",
    "4. Slightly important\n",
    "5. Not at all important\n",
    "```"
   ]
  },
  {
   "cell_type": "code",
   "execution_count": 438,
   "id": "dca8e433",
   "metadata": {},
   "outputs": [
    {
     "data": {
      "application/javascript": [
       "\n",
       "            setTimeout(function() {\n",
       "                var nbb_cell_id = 438;\n",
       "                var nbb_unformatted_code = \"def find_columns(df, prefix):\\n    return [\\n        col\\n        for col in df.columns\\n        if col.startswith(prefix)\\n        and not col.endswith(\\\"skp\\\")\\n        and not col.endswith(\\\"timing\\\")\\n    ]\";\n",
       "                var nbb_formatted_code = \"def find_columns(df, prefix):\\n    return [\\n        col\\n        for col in df.columns\\n        if col.startswith(prefix)\\n        and not col.endswith(\\\"skp\\\")\\n        and not col.endswith(\\\"timing\\\")\\n    ]\";\n",
       "                var nbb_cells = Jupyter.notebook.get_cells();\n",
       "                for (var i = 0; i < nbb_cells.length; ++i) {\n",
       "                    if (nbb_cells[i].input_prompt_number == nbb_cell_id) {\n",
       "                        if (nbb_cells[i].get_text() == nbb_unformatted_code) {\n",
       "                             nbb_cells[i].set_text(nbb_formatted_code);\n",
       "                        }\n",
       "                        break;\n",
       "                    }\n",
       "                }\n",
       "            }, 500);\n",
       "            "
      ],
      "text/plain": [
       "<IPython.core.display.Javascript object>"
      ]
     },
     "metadata": {},
     "output_type": "display_data"
    }
   ],
   "source": [
    "def find_columns(df, prefix):\n",
    "    return [\n",
    "        col\n",
    "        for col in df.columns\n",
    "        if col.startswith(prefix)\n",
    "        and not col.endswith(\"skp\")\n",
    "        and not col.endswith(\"timing\")\n",
    "    ]"
   ]
  },
  {
   "cell_type": "code",
   "execution_count": 439,
   "id": "c1e97f26",
   "metadata": {},
   "outputs": [
    {
     "data": {
      "text/plain": [
       "['imp_immig',\n",
       " 'imp_jobs',\n",
       " 'imp_costliv',\n",
       " 'imp_climate',\n",
       " 'imp_abort',\n",
       " 'imp_gun',\n",
       " 'imp_crime',\n",
       " 'imp_gaza',\n",
       " 'imp_antisem',\n",
       " 'imp_votright',\n",
       " 'imp_ukraine',\n",
       " 'imp_schteach',\n",
       " 'imp_islamop']"
      ]
     },
     "execution_count": 439,
     "metadata": {},
     "output_type": "execute_result"
    },
    {
     "data": {
      "application/javascript": [
       "\n",
       "            setTimeout(function() {\n",
       "                var nbb_cell_id = 439;\n",
       "                var nbb_unformatted_code = \"columns = find_columns(df, \\\"imp_\\\")\\ncolumns\";\n",
       "                var nbb_formatted_code = \"columns = find_columns(df, \\\"imp_\\\")\\ncolumns\";\n",
       "                var nbb_cells = Jupyter.notebook.get_cells();\n",
       "                for (var i = 0; i < nbb_cells.length; ++i) {\n",
       "                    if (nbb_cells[i].input_prompt_number == nbb_cell_id) {\n",
       "                        if (nbb_cells[i].get_text() == nbb_unformatted_code) {\n",
       "                             nbb_cells[i].set_text(nbb_formatted_code);\n",
       "                        }\n",
       "                        break;\n",
       "                    }\n",
       "                }\n",
       "            }, 500);\n",
       "            "
      ],
      "text/plain": [
       "<IPython.core.display.Javascript object>"
      ]
     },
     "metadata": {},
     "output_type": "display_data"
    }
   ],
   "source": [
    "columns = find_columns(df, \"imp_\")\n",
    "columns"
   ]
  },
  {
   "cell_type": "markdown",
   "id": "29aa9505",
   "metadata": {},
   "source": [
    "Here are the functions we'll use to measure and plot gender differences in the responses."
   ]
  },
  {
   "cell_type": "code",
   "execution_count": 440,
   "id": "7fce81a3",
   "metadata": {},
   "outputs": [
    {
     "data": {
      "application/javascript": [
       "\n",
       "            setTimeout(function() {\n",
       "                var nbb_cell_id = 440;\n",
       "                var nbb_unformatted_code = \"def value_count_frame(data, columns, normalize=False):\\n    \\\"\\\"\\\"Value counts for each column.\\n\\n    Returns: DataFrame with one row per value, one column per variable\\n    \\\"\\\"\\\"\\n    return pd.DataFrame(\\n        {col: data[col].value_counts(normalize=normalize) for col in columns}\\n    ).fillna(0)\";\n",
       "                var nbb_formatted_code = \"def value_count_frame(data, columns, normalize=False):\\n    \\\"\\\"\\\"Value counts for each column.\\n\\n    Returns: DataFrame with one row per value, one column per variable\\n    \\\"\\\"\\\"\\n    return pd.DataFrame(\\n        {col: data[col].value_counts(normalize=normalize) for col in columns}\\n    ).fillna(0)\";\n",
       "                var nbb_cells = Jupyter.notebook.get_cells();\n",
       "                for (var i = 0; i < nbb_cells.length; ++i) {\n",
       "                    if (nbb_cells[i].input_prompt_number == nbb_cell_id) {\n",
       "                        if (nbb_cells[i].get_text() == nbb_unformatted_code) {\n",
       "                             nbb_cells[i].set_text(nbb_formatted_code);\n",
       "                        }\n",
       "                        break;\n",
       "                    }\n",
       "                }\n",
       "            }, 500);\n",
       "            "
      ],
      "text/plain": [
       "<IPython.core.display.Javascript object>"
      ]
     },
     "metadata": {},
     "output_type": "display_data"
    }
   ],
   "source": [
    "def value_count_frame(data, columns, normalize=False):\n",
    "    \"\"\"Value counts for each column.\n",
    "\n",
    "    Returns: DataFrame with one row per value, one column per variable\n",
    "    \"\"\"\n",
    "    return pd.DataFrame(\n",
    "        {col: data[col].value_counts(normalize=normalize) for col in columns}\n",
    "    ).fillna(0)"
   ]
  },
  {
   "cell_type": "code",
   "execution_count": 441,
   "id": "5c183655",
   "metadata": {},
   "outputs": [
    {
     "data": {
      "application/javascript": [
       "\n",
       "            setTimeout(function() {\n",
       "                var nbb_cell_id = 441;\n",
       "                var nbb_unformatted_code = \"issue_names = {\\n    \\\"imp_immig\\\": \\\"Illegal immigration\\\",\\n    \\\"imp_jobs\\\": \\\"Jobs/employment\\\",\\n    \\\"imp_costliv\\\": \\\"Cost of living and\\\\nrising prices\\\",\\n    \\\"imp_climate\\\": \\\"Climate change\\\",\\n    \\\"imp_abort\\\": \\\"Abortion\\\",\\n    \\\"imp_gun\\\": \\\"Gun policy\\\",\\n    \\\"imp_crime\\\": \\\"Crime\\\",\\n    \\\"imp_gaza\\\": \\\"War in Gaza\\\",\\n    \\\"imp_antisem\\\": \\\"Antisemitism\\\",\\n    \\\"imp_votright\\\": \\\"Voting rights\\\",\\n    \\\"imp_ukraine\\\": \\\"War in Ukraine\\\",\\n    \\\"imp_schteach\\\": \\\"What\\u2019s taught in\\\\npublic schools\\\",\\n    \\\"imp_islamop\\\": \\\"Anti-Muslim bias\\\",\\n}\";\n",
       "                var nbb_formatted_code = \"issue_names = {\\n    \\\"imp_immig\\\": \\\"Illegal immigration\\\",\\n    \\\"imp_jobs\\\": \\\"Jobs/employment\\\",\\n    \\\"imp_costliv\\\": \\\"Cost of living and\\\\nrising prices\\\",\\n    \\\"imp_climate\\\": \\\"Climate change\\\",\\n    \\\"imp_abort\\\": \\\"Abortion\\\",\\n    \\\"imp_gun\\\": \\\"Gun policy\\\",\\n    \\\"imp_crime\\\": \\\"Crime\\\",\\n    \\\"imp_gaza\\\": \\\"War in Gaza\\\",\\n    \\\"imp_antisem\\\": \\\"Antisemitism\\\",\\n    \\\"imp_votright\\\": \\\"Voting rights\\\",\\n    \\\"imp_ukraine\\\": \\\"War in Ukraine\\\",\\n    \\\"imp_schteach\\\": \\\"What\\u2019s taught in\\\\npublic schools\\\",\\n    \\\"imp_islamop\\\": \\\"Anti-Muslim bias\\\",\\n}\";\n",
       "                var nbb_cells = Jupyter.notebook.get_cells();\n",
       "                for (var i = 0; i < nbb_cells.length; ++i) {\n",
       "                    if (nbb_cells[i].input_prompt_number == nbb_cell_id) {\n",
       "                        if (nbb_cells[i].get_text() == nbb_unformatted_code) {\n",
       "                             nbb_cells[i].set_text(nbb_formatted_code);\n",
       "                        }\n",
       "                        break;\n",
       "                    }\n",
       "                }\n",
       "            }, 500);\n",
       "            "
      ],
      "text/plain": [
       "<IPython.core.display.Javascript object>"
      ]
     },
     "metadata": {},
     "output_type": "display_data"
    }
   ],
   "source": [
    "issue_names = {\n",
    "    \"imp_immig\": \"Illegal immigration\",\n",
    "    \"imp_jobs\": \"Jobs/employment\",\n",
    "    \"imp_costliv\": \"Cost of living and\\nrising prices\",\n",
    "    \"imp_climate\": \"Climate change\",\n",
    "    \"imp_abort\": \"Abortion\",\n",
    "    \"imp_gun\": \"Gun policy\",\n",
    "    \"imp_crime\": \"Crime\",\n",
    "    \"imp_gaza\": \"War in Gaza\",\n",
    "    \"imp_antisem\": \"Antisemitism\",\n",
    "    \"imp_votright\": \"Voting rights\",\n",
    "    \"imp_ukraine\": \"War in Ukraine\",\n",
    "    \"imp_schteach\": \"What’s taught in\\npublic schools\",\n",
    "    \"imp_islamop\": \"Anti-Muslim bias\",\n",
    "}"
   ]
  },
  {
   "cell_type": "code",
   "execution_count": 442,
   "id": "194a9a05",
   "metadata": {},
   "outputs": [
    {
     "data": {
      "text/html": [
       "<div>\n",
       "<style scoped>\n",
       "    .dataframe tbody tr th:only-of-type {\n",
       "        vertical-align: middle;\n",
       "    }\n",
       "\n",
       "    .dataframe tbody tr th {\n",
       "        vertical-align: top;\n",
       "    }\n",
       "\n",
       "    .dataframe thead th {\n",
       "        text-align: right;\n",
       "    }\n",
       "</style>\n",
       "<table border=\"1\" class=\"dataframe\">\n",
       "  <thead>\n",
       "    <tr style=\"text-align: right;\">\n",
       "      <th></th>\n",
       "      <th>imp_immig</th>\n",
       "      <th>imp_jobs</th>\n",
       "      <th>imp_costliv</th>\n",
       "      <th>imp_climate</th>\n",
       "      <th>imp_abort</th>\n",
       "      <th>imp_gun</th>\n",
       "      <th>imp_crime</th>\n",
       "      <th>imp_gaza</th>\n",
       "      <th>imp_antisem</th>\n",
       "      <th>imp_votright</th>\n",
       "      <th>imp_ukraine</th>\n",
       "      <th>imp_schteach</th>\n",
       "      <th>imp_islamop</th>\n",
       "    </tr>\n",
       "  </thead>\n",
       "  <tbody>\n",
       "    <tr>\n",
       "      <th>-7.0</th>\n",
       "      <td>0.000000</td>\n",
       "      <td>0.000000</td>\n",
       "      <td>0.000000</td>\n",
       "      <td>0.000000</td>\n",
       "      <td>0.000000</td>\n",
       "      <td>0.000000</td>\n",
       "      <td>0.000000</td>\n",
       "      <td>0.000000</td>\n",
       "      <td>0.000667</td>\n",
       "      <td>0.000000</td>\n",
       "      <td>0.000667</td>\n",
       "      <td>0.000000</td>\n",
       "      <td>0.000667</td>\n",
       "    </tr>\n",
       "    <tr>\n",
       "      <th>1.0</th>\n",
       "      <td>0.465333</td>\n",
       "      <td>0.437333</td>\n",
       "      <td>0.635333</td>\n",
       "      <td>0.313333</td>\n",
       "      <td>0.367333</td>\n",
       "      <td>0.398667</td>\n",
       "      <td>0.456000</td>\n",
       "      <td>0.190667</td>\n",
       "      <td>0.208000</td>\n",
       "      <td>0.445333</td>\n",
       "      <td>0.192667</td>\n",
       "      <td>0.440667</td>\n",
       "      <td>0.136667</td>\n",
       "    </tr>\n",
       "    <tr>\n",
       "      <th>2.0</th>\n",
       "      <td>0.220000</td>\n",
       "      <td>0.348667</td>\n",
       "      <td>0.244667</td>\n",
       "      <td>0.204667</td>\n",
       "      <td>0.255333</td>\n",
       "      <td>0.285333</td>\n",
       "      <td>0.294000</td>\n",
       "      <td>0.260000</td>\n",
       "      <td>0.282667</td>\n",
       "      <td>0.266667</td>\n",
       "      <td>0.262000</td>\n",
       "      <td>0.300000</td>\n",
       "      <td>0.200000</td>\n",
       "    </tr>\n",
       "    <tr>\n",
       "      <th>3.0</th>\n",
       "      <td>0.182000</td>\n",
       "      <td>0.170667</td>\n",
       "      <td>0.100000</td>\n",
       "      <td>0.170000</td>\n",
       "      <td>0.186000</td>\n",
       "      <td>0.181333</td>\n",
       "      <td>0.181333</td>\n",
       "      <td>0.292000</td>\n",
       "      <td>0.278000</td>\n",
       "      <td>0.179333</td>\n",
       "      <td>0.264667</td>\n",
       "      <td>0.173333</td>\n",
       "      <td>0.283333</td>\n",
       "    </tr>\n",
       "    <tr>\n",
       "      <th>4.0</th>\n",
       "      <td>0.094667</td>\n",
       "      <td>0.034000</td>\n",
       "      <td>0.014667</td>\n",
       "      <td>0.110667</td>\n",
       "      <td>0.095333</td>\n",
       "      <td>0.070667</td>\n",
       "      <td>0.060667</td>\n",
       "      <td>0.143333</td>\n",
       "      <td>0.127333</td>\n",
       "      <td>0.053333</td>\n",
       "      <td>0.150667</td>\n",
       "      <td>0.055333</td>\n",
       "      <td>0.170667</td>\n",
       "    </tr>\n",
       "    <tr>\n",
       "      <th>5.0</th>\n",
       "      <td>0.038000</td>\n",
       "      <td>0.009333</td>\n",
       "      <td>0.005333</td>\n",
       "      <td>0.201333</td>\n",
       "      <td>0.096000</td>\n",
       "      <td>0.064000</td>\n",
       "      <td>0.008000</td>\n",
       "      <td>0.114000</td>\n",
       "      <td>0.103333</td>\n",
       "      <td>0.055333</td>\n",
       "      <td>0.129333</td>\n",
       "      <td>0.030667</td>\n",
       "      <td>0.208667</td>\n",
       "    </tr>\n",
       "  </tbody>\n",
       "</table>\n",
       "</div>"
      ],
      "text/plain": [
       "      imp_immig  imp_jobs  imp_costliv  imp_climate  imp_abort   imp_gun  \\\n",
       "-7.0   0.000000  0.000000     0.000000     0.000000   0.000000  0.000000   \n",
       " 1.0   0.465333  0.437333     0.635333     0.313333   0.367333  0.398667   \n",
       " 2.0   0.220000  0.348667     0.244667     0.204667   0.255333  0.285333   \n",
       " 3.0   0.182000  0.170667     0.100000     0.170000   0.186000  0.181333   \n",
       " 4.0   0.094667  0.034000     0.014667     0.110667   0.095333  0.070667   \n",
       " 5.0   0.038000  0.009333     0.005333     0.201333   0.096000  0.064000   \n",
       "\n",
       "      imp_crime  imp_gaza  imp_antisem  imp_votright  imp_ukraine  \\\n",
       "-7.0   0.000000  0.000000     0.000667      0.000000     0.000667   \n",
       " 1.0   0.456000  0.190667     0.208000      0.445333     0.192667   \n",
       " 2.0   0.294000  0.260000     0.282667      0.266667     0.262000   \n",
       " 3.0   0.181333  0.292000     0.278000      0.179333     0.264667   \n",
       " 4.0   0.060667  0.143333     0.127333      0.053333     0.150667   \n",
       " 5.0   0.008000  0.114000     0.103333      0.055333     0.129333   \n",
       "\n",
       "      imp_schteach  imp_islamop  \n",
       "-7.0      0.000000     0.000667  \n",
       " 1.0      0.440667     0.136667  \n",
       " 2.0      0.300000     0.200000  \n",
       " 3.0      0.173333     0.283333  \n",
       " 4.0      0.055333     0.170667  \n",
       " 5.0      0.030667     0.208667  "
      ]
     },
     "execution_count": 442,
     "metadata": {},
     "output_type": "execute_result"
    },
    {
     "data": {
      "application/javascript": [
       "\n",
       "            setTimeout(function() {\n",
       "                var nbb_cell_id = 442;\n",
       "                var nbb_unformatted_code = \"columns = issue_names.keys()\\ncounts = value_count_frame(df, columns, normalize=True)\\ncounts\";\n",
       "                var nbb_formatted_code = \"columns = issue_names.keys()\\ncounts = value_count_frame(df, columns, normalize=True)\\ncounts\";\n",
       "                var nbb_cells = Jupyter.notebook.get_cells();\n",
       "                for (var i = 0; i < nbb_cells.length; ++i) {\n",
       "                    if (nbb_cells[i].input_prompt_number == nbb_cell_id) {\n",
       "                        if (nbb_cells[i].get_text() == nbb_unformatted_code) {\n",
       "                             nbb_cells[i].set_text(nbb_formatted_code);\n",
       "                        }\n",
       "                        break;\n",
       "                    }\n",
       "                }\n",
       "            }, 500);\n",
       "            "
      ],
      "text/plain": [
       "<IPython.core.display.Javascript object>"
      ]
     },
     "metadata": {},
     "output_type": "display_data"
    }
   ],
   "source": [
    "columns = issue_names.keys()\n",
    "counts = value_count_frame(df, columns, normalize=True)\n",
    "counts"
   ]
  },
  {
   "cell_type": "code",
   "execution_count": 443,
   "id": "0d871a78",
   "metadata": {},
   "outputs": [
    {
     "data": {
      "application/javascript": [
       "\n",
       "            setTimeout(function() {\n",
       "                var nbb_cell_id = 443;\n",
       "                var nbb_unformatted_code = \"value_map = {\\\"very/extremely\\\": [1, 2], \\\"not/slightly\\\": [4, 5]}\";\n",
       "                var nbb_formatted_code = \"value_map = {\\\"very/extremely\\\": [1, 2], \\\"not/slightly\\\": [4, 5]}\";\n",
       "                var nbb_cells = Jupyter.notebook.get_cells();\n",
       "                for (var i = 0; i < nbb_cells.length; ++i) {\n",
       "                    if (nbb_cells[i].input_prompt_number == nbb_cell_id) {\n",
       "                        if (nbb_cells[i].get_text() == nbb_unformatted_code) {\n",
       "                             nbb_cells[i].set_text(nbb_formatted_code);\n",
       "                        }\n",
       "                        break;\n",
       "                    }\n",
       "                }\n",
       "            }, 500);\n",
       "            "
      ],
      "text/plain": [
       "<IPython.core.display.Javascript object>"
      ]
     },
     "metadata": {},
     "output_type": "display_data"
    }
   ],
   "source": [
    "value_map = {\"very/extremely\": [1, 2], \"not/slightly\": [4, 5]}"
   ]
  },
  {
   "cell_type": "code",
   "execution_count": 444,
   "id": "02c9aa1f",
   "metadata": {},
   "outputs": [
    {
     "data": {
      "application/javascript": [
       "\n",
       "            setTimeout(function() {\n",
       "                var nbb_cell_id = 444;\n",
       "                var nbb_unformatted_code = \"def estimate_column(df, columns, values):\\n    res = pd.DataFrame(index=columns, columns=[\\\"p\\\", \\\"low\\\", \\\"high\\\"])\\n    data = df[columns].replace(-7, np.nan)\\n    data[\\\"weight\\\"] = df[\\\"weight\\\"]\\n\\n    for column in columns:\\n        subset = data.dropna(subset=column)\\n        series = subset[column].isin(values)\\n        weight = subset[\\\"weight\\\"]\\n        res.loc[column] = estimate_proportion(series, weight)\\n\\n    return res * 100\";\n",
       "                var nbb_formatted_code = \"def estimate_column(df, columns, values):\\n    res = pd.DataFrame(index=columns, columns=[\\\"p\\\", \\\"low\\\", \\\"high\\\"])\\n    data = df[columns].replace(-7, np.nan)\\n    data[\\\"weight\\\"] = df[\\\"weight\\\"]\\n\\n    for column in columns:\\n        subset = data.dropna(subset=column)\\n        series = subset[column].isin(values)\\n        weight = subset[\\\"weight\\\"]\\n        res.loc[column] = estimate_proportion(series, weight)\\n\\n    return res * 100\";\n",
       "                var nbb_cells = Jupyter.notebook.get_cells();\n",
       "                for (var i = 0; i < nbb_cells.length; ++i) {\n",
       "                    if (nbb_cells[i].input_prompt_number == nbb_cell_id) {\n",
       "                        if (nbb_cells[i].get_text() == nbb_unformatted_code) {\n",
       "                             nbb_cells[i].set_text(nbb_formatted_code);\n",
       "                        }\n",
       "                        break;\n",
       "                    }\n",
       "                }\n",
       "            }, 500);\n",
       "            "
      ],
      "text/plain": [
       "<IPython.core.display.Javascript object>"
      ]
     },
     "metadata": {},
     "output_type": "display_data"
    }
   ],
   "source": [
    "def estimate_column(df, columns, values):\n",
    "    res = pd.DataFrame(index=columns, columns=[\"p\", \"low\", \"high\"])\n",
    "    data = df[columns].replace(-7, np.nan)\n",
    "    data[\"weight\"] = df[\"weight\"]\n",
    "\n",
    "    for column in columns:\n",
    "        subset = data.dropna(subset=column)\n",
    "        series = subset[column].isin(values)\n",
    "        weight = subset[\"weight\"]\n",
    "        res.loc[column] = estimate_proportion(series, weight)\n",
    "\n",
    "    return res * 100"
   ]
  },
  {
   "cell_type": "code",
   "execution_count": 445,
   "id": "6e601303",
   "metadata": {},
   "outputs": [
    {
     "data": {
      "application/javascript": [
       "\n",
       "            setTimeout(function() {\n",
       "                var nbb_cell_id = 445;\n",
       "                var nbb_unformatted_code = \"def estimate_value_map(df, columns, value_map):\\n    keys = list(value_map.keys())\\n    dfs = [estimate_column(df, columns, values) for values in value_map.values()]\\n    return pd.concat(dfs, axis=1, keys=keys)\";\n",
       "                var nbb_formatted_code = \"def estimate_value_map(df, columns, value_map):\\n    keys = list(value_map.keys())\\n    dfs = [estimate_column(df, columns, values) for values in value_map.values()]\\n    return pd.concat(dfs, axis=1, keys=keys)\";\n",
       "                var nbb_cells = Jupyter.notebook.get_cells();\n",
       "                for (var i = 0; i < nbb_cells.length; ++i) {\n",
       "                    if (nbb_cells[i].input_prompt_number == nbb_cell_id) {\n",
       "                        if (nbb_cells[i].get_text() == nbb_unformatted_code) {\n",
       "                             nbb_cells[i].set_text(nbb_formatted_code);\n",
       "                        }\n",
       "                        break;\n",
       "                    }\n",
       "                }\n",
       "            }, 500);\n",
       "            "
      ],
      "text/plain": [
       "<IPython.core.display.Javascript object>"
      ]
     },
     "metadata": {},
     "output_type": "display_data"
    }
   ],
   "source": [
    "def estimate_value_map(df, columns, value_map):\n",
    "    keys = list(value_map.keys())\n",
    "    dfs = [estimate_column(df, columns, values) for values in value_map.values()]\n",
    "    return pd.concat(dfs, axis=1, keys=keys)"
   ]
  },
  {
   "cell_type": "code",
   "execution_count": 446,
   "id": "ecceab7e",
   "metadata": {},
   "outputs": [
    {
     "data": {
      "application/javascript": [
       "\n",
       "            setTimeout(function() {\n",
       "                var nbb_cell_id = 446;\n",
       "                var nbb_unformatted_code = \"def estimate_gender_map(df, columns, gender_map, value_map):\\n    keys = list(gender_map.keys())\\n    dfs = [estimate_value_map(df, columns, value_map) for df in gender_map.values()]\\n    return pd.concat(dfs, axis=1, keys=keys)\";\n",
       "                var nbb_formatted_code = \"def estimate_gender_map(df, columns, gender_map, value_map):\\n    keys = list(gender_map.keys())\\n    dfs = [estimate_value_map(df, columns, value_map) for df in gender_map.values()]\\n    return pd.concat(dfs, axis=1, keys=keys)\";\n",
       "                var nbb_cells = Jupyter.notebook.get_cells();\n",
       "                for (var i = 0; i < nbb_cells.length; ++i) {\n",
       "                    if (nbb_cells[i].input_prompt_number == nbb_cell_id) {\n",
       "                        if (nbb_cells[i].get_text() == nbb_unformatted_code) {\n",
       "                             nbb_cells[i].set_text(nbb_formatted_code);\n",
       "                        }\n",
       "                        break;\n",
       "                    }\n",
       "                }\n",
       "            }, 500);\n",
       "            "
      ],
      "text/plain": [
       "<IPython.core.display.Javascript object>"
      ]
     },
     "metadata": {},
     "output_type": "display_data"
    }
   ],
   "source": [
    "def estimate_gender_map(df, columns, gender_map, value_map):\n",
    "    keys = list(gender_map.keys())\n",
    "    dfs = [estimate_value_map(df, columns, value_map) for df in gender_map.values()]\n",
    "    return pd.concat(dfs, axis=1, keys=keys)"
   ]
  },
  {
   "cell_type": "code",
   "execution_count": 447,
   "id": "a9770632",
   "metadata": {},
   "outputs": [
    {
     "data": {
      "text/html": [
       "<div>\n",
       "<style scoped>\n",
       "    .dataframe tbody tr th:only-of-type {\n",
       "        vertical-align: middle;\n",
       "    }\n",
       "\n",
       "    .dataframe tbody tr th {\n",
       "        vertical-align: top;\n",
       "    }\n",
       "\n",
       "    .dataframe thead tr th {\n",
       "        text-align: left;\n",
       "    }\n",
       "</style>\n",
       "<table border=\"1\" class=\"dataframe\">\n",
       "  <thead>\n",
       "    <tr>\n",
       "      <th></th>\n",
       "      <th colspan=\"6\" halign=\"left\">male</th>\n",
       "      <th colspan=\"6\" halign=\"left\">female</th>\n",
       "    </tr>\n",
       "    <tr>\n",
       "      <th></th>\n",
       "      <th colspan=\"3\" halign=\"left\">very/extremely</th>\n",
       "      <th colspan=\"3\" halign=\"left\">not/slightly</th>\n",
       "      <th colspan=\"3\" halign=\"left\">very/extremely</th>\n",
       "      <th colspan=\"3\" halign=\"left\">not/slightly</th>\n",
       "    </tr>\n",
       "    <tr>\n",
       "      <th></th>\n",
       "      <th>p</th>\n",
       "      <th>low</th>\n",
       "      <th>high</th>\n",
       "      <th>p</th>\n",
       "      <th>low</th>\n",
       "      <th>high</th>\n",
       "      <th>p</th>\n",
       "      <th>low</th>\n",
       "      <th>high</th>\n",
       "      <th>p</th>\n",
       "      <th>low</th>\n",
       "      <th>high</th>\n",
       "    </tr>\n",
       "  </thead>\n",
       "  <tbody>\n",
       "    <tr>\n",
       "      <th>imp_islamop</th>\n",
       "      <td>32.705209</td>\n",
       "      <td>29.395862</td>\n",
       "      <td>36.19612</td>\n",
       "      <td>42.14601</td>\n",
       "      <td>38.609444</td>\n",
       "      <td>45.765028</td>\n",
       "      <td>35.33781</td>\n",
       "      <td>32.044893</td>\n",
       "      <td>38.776023</td>\n",
       "      <td>32.014469</td>\n",
       "      <td>28.818449</td>\n",
       "      <td>35.388717</td>\n",
       "    </tr>\n",
       "    <tr>\n",
       "      <th>imp_ukraine</th>\n",
       "      <td>46.30623</td>\n",
       "      <td>42.710014</td>\n",
       "      <td>49.941288</td>\n",
       "      <td>28.683145</td>\n",
       "      <td>25.513817</td>\n",
       "      <td>32.076626</td>\n",
       "      <td>46.031117</td>\n",
       "      <td>42.543538</td>\n",
       "      <td>49.557998</td>\n",
       "      <td>26.974403</td>\n",
       "      <td>23.96332</td>\n",
       "      <td>30.213501</td>\n",
       "    </tr>\n",
       "    <tr>\n",
       "      <th>imp_gaza</th>\n",
       "      <td>45.870176</td>\n",
       "      <td>42.281642</td>\n",
       "      <td>49.502066</td>\n",
       "      <td>28.166181</td>\n",
       "      <td>25.019883</td>\n",
       "      <td>31.541694</td>\n",
       "      <td>46.29428</td>\n",
       "      <td>42.80398</td>\n",
       "      <td>49.821276</td>\n",
       "      <td>23.309554</td>\n",
       "      <td>20.4637</td>\n",
       "      <td>26.419712</td>\n",
       "    </tr>\n",
       "    <tr>\n",
       "      <th>imp_antisem</th>\n",
       "      <td>46.959682</td>\n",
       "      <td>43.358497</td>\n",
       "      <td>50.592808</td>\n",
       "      <td>25.253875</td>\n",
       "      <td>22.232304</td>\n",
       "      <td>28.535422</td>\n",
       "      <td>50.733583</td>\n",
       "      <td>47.212051</td>\n",
       "      <td>54.24785</td>\n",
       "      <td>21.092111</td>\n",
       "      <td>18.361027</td>\n",
       "      <td>24.109459</td>\n",
       "    </tr>\n",
       "    <tr>\n",
       "      <th>imp_climate</th>\n",
       "      <td>52.41577</td>\n",
       "      <td>48.784774</td>\n",
       "      <td>56.021406</td>\n",
       "      <td>32.136862</td>\n",
       "      <td>28.845876</td>\n",
       "      <td>35.615378</td>\n",
       "      <td>52.725478</td>\n",
       "      <td>49.198912</td>\n",
       "      <td>56.225055</td>\n",
       "      <td>28.714676</td>\n",
       "      <td>25.63477</td>\n",
       "      <td>32.005362</td>\n",
       "    </tr>\n",
       "    <tr>\n",
       "      <th>imp_immig</th>\n",
       "      <td>69.340944</td>\n",
       "      <td>65.897348</td>\n",
       "      <td>72.581496</td>\n",
       "      <td>14.338622</td>\n",
       "      <td>11.979775</td>\n",
       "      <td>17.071847</td>\n",
       "      <td>66.622545</td>\n",
       "      <td>63.221063</td>\n",
       "      <td>69.859421</td>\n",
       "      <td>13.877366</td>\n",
       "      <td>11.617046</td>\n",
       "      <td>16.495394</td>\n",
       "    </tr>\n",
       "    <tr>\n",
       "      <th>imp_abort</th>\n",
       "      <td>56.314776</td>\n",
       "      <td>52.687958</td>\n",
       "      <td>59.8753</td>\n",
       "      <td>22.80171</td>\n",
       "      <td>19.901437</td>\n",
       "      <td>25.987513</td>\n",
       "      <td>67.215285</td>\n",
       "      <td>63.825787</td>\n",
       "      <td>70.434307</td>\n",
       "      <td>15.279361</td>\n",
       "      <td>12.913773</td>\n",
       "      <td>17.988774</td>\n",
       "    </tr>\n",
       "    <tr>\n",
       "      <th>imp_gun</th>\n",
       "      <td>66.706498</td>\n",
       "      <td>63.203351</td>\n",
       "      <td>70.034258</td>\n",
       "      <td>14.922145</td>\n",
       "      <td>12.518254</td>\n",
       "      <td>17.694288</td>\n",
       "      <td>69.997314</td>\n",
       "      <td>66.672145</td>\n",
       "      <td>73.124457</td>\n",
       "      <td>10.610941</td>\n",
       "      <td>8.63011</td>\n",
       "      <td>12.981827</td>\n",
       "    </tr>\n",
       "    <tr>\n",
       "      <th>imp_votright</th>\n",
       "      <td>70.890521</td>\n",
       "      <td>67.487851</td>\n",
       "      <td>74.073879</td>\n",
       "      <td>13.230942</td>\n",
       "      <td>10.961553</td>\n",
       "      <td>15.886338</td>\n",
       "      <td>72.617129</td>\n",
       "      <td>69.365392</td>\n",
       "      <td>75.644897</td>\n",
       "      <td>9.599584</td>\n",
       "      <td>7.717123</td>\n",
       "      <td>11.882116</td>\n",
       "    </tr>\n",
       "    <tr>\n",
       "      <th>imp_crime</th>\n",
       "      <td>72.344411</td>\n",
       "      <td>68.984328</td>\n",
       "      <td>75.469919</td>\n",
       "      <td>7.765722</td>\n",
       "      <td>6.035778</td>\n",
       "      <td>9.939047</td>\n",
       "      <td>76.255124</td>\n",
       "      <td>73.128115</td>\n",
       "      <td>79.122138</td>\n",
       "      <td>6.038215</td>\n",
       "      <td>4.565747</td>\n",
       "      <td>7.946019</td>\n",
       "    </tr>\n",
       "    <tr>\n",
       "      <th>imp_schteach</th>\n",
       "      <td>70.353055</td>\n",
       "      <td>66.935679</td>\n",
       "      <td>73.556762</td>\n",
       "      <td>10.63733</td>\n",
       "      <td>8.600656</td>\n",
       "      <td>13.087239</td>\n",
       "      <td>76.61001</td>\n",
       "      <td>73.496705</td>\n",
       "      <td>79.459806</td>\n",
       "      <td>7.53107</td>\n",
       "      <td>5.872589</td>\n",
       "      <td>9.610105</td>\n",
       "    </tr>\n",
       "    <tr>\n",
       "      <th>imp_jobs</th>\n",
       "      <td>78.091836</td>\n",
       "      <td>74.944028</td>\n",
       "      <td>80.944732</td>\n",
       "      <td>4.93002</td>\n",
       "      <td>3.580344</td>\n",
       "      <td>6.752847</td>\n",
       "      <td>79.291431</td>\n",
       "      <td>76.29138</td>\n",
       "      <td>82.001421</td>\n",
       "      <td>4.014777</td>\n",
       "      <td>2.842509</td>\n",
       "      <td>5.642419</td>\n",
       "    </tr>\n",
       "    <tr>\n",
       "      <th>imp_costliv</th>\n",
       "      <td>86.538082</td>\n",
       "      <td>83.866011</td>\n",
       "      <td>88.826571</td>\n",
       "      <td>2.689951</td>\n",
       "      <td>1.740094</td>\n",
       "      <td>4.136477</td>\n",
       "      <td>89.340846</td>\n",
       "      <td>86.965906</td>\n",
       "      <td>91.326209</td>\n",
       "      <td>1.438509</td>\n",
       "      <td>0.807277</td>\n",
       "      <td>2.550626</td>\n",
       "    </tr>\n",
       "  </tbody>\n",
       "</table>\n",
       "</div>"
      ],
      "text/plain": [
       "                       male                                                \\\n",
       "             very/extremely                       not/slightly              \n",
       "                          p        low       high            p        low   \n",
       "imp_islamop       32.705209  29.395862   36.19612     42.14601  38.609444   \n",
       "imp_ukraine        46.30623  42.710014  49.941288    28.683145  25.513817   \n",
       "imp_gaza          45.870176  42.281642  49.502066    28.166181  25.019883   \n",
       "imp_antisem       46.959682  43.358497  50.592808    25.253875  22.232304   \n",
       "imp_climate        52.41577  48.784774  56.021406    32.136862  28.845876   \n",
       "imp_immig         69.340944  65.897348  72.581496    14.338622  11.979775   \n",
       "imp_abort         56.314776  52.687958    59.8753     22.80171  19.901437   \n",
       "imp_gun           66.706498  63.203351  70.034258    14.922145  12.518254   \n",
       "imp_votright      70.890521  67.487851  74.073879    13.230942  10.961553   \n",
       "imp_crime         72.344411  68.984328  75.469919     7.765722   6.035778   \n",
       "imp_schteach      70.353055  66.935679  73.556762     10.63733   8.600656   \n",
       "imp_jobs          78.091836  74.944028  80.944732      4.93002   3.580344   \n",
       "imp_costliv       86.538082  83.866011  88.826571     2.689951   1.740094   \n",
       "\n",
       "                                female                                     \\\n",
       "                        very/extremely                       not/slightly   \n",
       "                   high              p        low       high            p   \n",
       "imp_islamop   45.765028       35.33781  32.044893  38.776023    32.014469   \n",
       "imp_ukraine   32.076626      46.031117  42.543538  49.557998    26.974403   \n",
       "imp_gaza      31.541694       46.29428   42.80398  49.821276    23.309554   \n",
       "imp_antisem   28.535422      50.733583  47.212051   54.24785    21.092111   \n",
       "imp_climate   35.615378      52.725478  49.198912  56.225055    28.714676   \n",
       "imp_immig     17.071847      66.622545  63.221063  69.859421    13.877366   \n",
       "imp_abort     25.987513      67.215285  63.825787  70.434307    15.279361   \n",
       "imp_gun       17.694288      69.997314  66.672145  73.124457    10.610941   \n",
       "imp_votright  15.886338      72.617129  69.365392  75.644897     9.599584   \n",
       "imp_crime      9.939047      76.255124  73.128115  79.122138     6.038215   \n",
       "imp_schteach  13.087239       76.61001  73.496705  79.459806      7.53107   \n",
       "imp_jobs       6.752847      79.291431   76.29138  82.001421     4.014777   \n",
       "imp_costliv    4.136477      89.340846  86.965906  91.326209     1.438509   \n",
       "\n",
       "                                    \n",
       "                                    \n",
       "                    low       high  \n",
       "imp_islamop   28.818449  35.388717  \n",
       "imp_ukraine    23.96332  30.213501  \n",
       "imp_gaza        20.4637  26.419712  \n",
       "imp_antisem   18.361027  24.109459  \n",
       "imp_climate    25.63477  32.005362  \n",
       "imp_immig     11.617046  16.495394  \n",
       "imp_abort     12.913773  17.988774  \n",
       "imp_gun         8.63011  12.981827  \n",
       "imp_votright   7.717123  11.882116  \n",
       "imp_crime      4.565747   7.946019  \n",
       "imp_schteach   5.872589   9.610105  \n",
       "imp_jobs       2.842509   5.642419  \n",
       "imp_costliv    0.807277   2.550626  "
      ]
     },
     "execution_count": 447,
     "metadata": {},
     "output_type": "execute_result"
    },
    {
     "data": {
      "application/javascript": [
       "\n",
       "            setTimeout(function() {\n",
       "                var nbb_cell_id = 447;\n",
       "                var nbb_unformatted_code = \"gender_map = dict(male=df_male, female=df_female)\\nsummary = estimate_gender_map(df, columns, gender_map, value_map).sort_values(\\n    by=(\\\"female\\\", \\\"very/extremely\\\", \\\"p\\\")\\n)\\nsummary\";\n",
       "                var nbb_formatted_code = \"gender_map = dict(male=df_male, female=df_female)\\nsummary = estimate_gender_map(df, columns, gender_map, value_map).sort_values(\\n    by=(\\\"female\\\", \\\"very/extremely\\\", \\\"p\\\")\\n)\\nsummary\";\n",
       "                var nbb_cells = Jupyter.notebook.get_cells();\n",
       "                for (var i = 0; i < nbb_cells.length; ++i) {\n",
       "                    if (nbb_cells[i].input_prompt_number == nbb_cell_id) {\n",
       "                        if (nbb_cells[i].get_text() == nbb_unformatted_code) {\n",
       "                             nbb_cells[i].set_text(nbb_formatted_code);\n",
       "                        }\n",
       "                        break;\n",
       "                    }\n",
       "                }\n",
       "            }, 500);\n",
       "            "
      ],
      "text/plain": [
       "<IPython.core.display.Javascript object>"
      ]
     },
     "metadata": {},
     "output_type": "display_data"
    }
   ],
   "source": [
    "gender_map = dict(male=df_male, female=df_female)\n",
    "summary = estimate_gender_map(df, columns, gender_map, value_map).sort_values(\n",
    "    by=(\"female\", \"very/extremely\", \"p\")\n",
    ")\n",
    "summary"
   ]
  },
  {
   "cell_type": "code",
   "execution_count": 448,
   "id": "ef02c6f7",
   "metadata": {},
   "outputs": [
    {
     "data": {
      "application/javascript": [
       "\n",
       "            setTimeout(function() {\n",
       "                var nbb_cell_id = 448;\n",
       "                var nbb_unformatted_code = \"index = summary.index\";\n",
       "                var nbb_formatted_code = \"index = summary.index\";\n",
       "                var nbb_cells = Jupyter.notebook.get_cells();\n",
       "                for (var i = 0; i < nbb_cells.length; ++i) {\n",
       "                    if (nbb_cells[i].input_prompt_number == nbb_cell_id) {\n",
       "                        if (nbb_cells[i].get_text() == nbb_unformatted_code) {\n",
       "                             nbb_cells[i].set_text(nbb_formatted_code);\n",
       "                        }\n",
       "                        break;\n",
       "                    }\n",
       "                }\n",
       "            }, 500);\n",
       "            "
      ],
      "text/plain": [
       "<IPython.core.display.Javascript object>"
      ]
     },
     "metadata": {},
     "output_type": "display_data"
    }
   ],
   "source": [
    "index = summary.index"
   ]
  },
  {
   "cell_type": "code",
   "execution_count": 449,
   "id": "e5fedb3c",
   "metadata": {},
   "outputs": [
    {
     "data": {
      "application/javascript": [
       "\n",
       "            setTimeout(function() {\n",
       "                var nbb_cell_id = 449;\n",
       "                var nbb_unformatted_code = \"def plot_responses(summary, gender, response, style, **options):\\n    names = [issue_names[col] for col in index]\\n    key = (gender, response)\\n    estimate = summary.loc[index, key]\\n    plt.hlines(names, estimate[\\\"low\\\"], estimate[\\\"high\\\"], **options)\\n    label = f\\\"{gender} {response}\\\"\\n    plt.plot(estimate[\\\"p\\\"], names, style, label=label, **options)\";\n",
       "                var nbb_formatted_code = \"def plot_responses(summary, gender, response, style, **options):\\n    names = [issue_names[col] for col in index]\\n    key = (gender, response)\\n    estimate = summary.loc[index, key]\\n    plt.hlines(names, estimate[\\\"low\\\"], estimate[\\\"high\\\"], **options)\\n    label = f\\\"{gender} {response}\\\"\\n    plt.plot(estimate[\\\"p\\\"], names, style, label=label, **options)\";\n",
       "                var nbb_cells = Jupyter.notebook.get_cells();\n",
       "                for (var i = 0; i < nbb_cells.length; ++i) {\n",
       "                    if (nbb_cells[i].input_prompt_number == nbb_cell_id) {\n",
       "                        if (nbb_cells[i].get_text() == nbb_unformatted_code) {\n",
       "                             nbb_cells[i].set_text(nbb_formatted_code);\n",
       "                        }\n",
       "                        break;\n",
       "                    }\n",
       "                }\n",
       "            }, 500);\n",
       "            "
      ],
      "text/plain": [
       "<IPython.core.display.Javascript object>"
      ]
     },
     "metadata": {},
     "output_type": "display_data"
    }
   ],
   "source": [
    "def plot_responses(summary, gender, response, style, **options):\n",
    "    names = [issue_names[col] for col in index]\n",
    "    key = (gender, response)\n",
    "    estimate = summary.loc[index, key]\n",
    "    plt.hlines(names, estimate[\"low\"], estimate[\"high\"], **options)\n",
    "    label = f\"{gender} {response}\"\n",
    "    plt.plot(estimate[\"p\"], names, style, label=label, **options)"
   ]
  },
  {
   "cell_type": "code",
   "execution_count": 450,
   "id": "2eead3e4",
   "metadata": {},
   "outputs": [
    {
     "data": {
      "application/javascript": [
       "\n",
       "            setTimeout(function() {\n",
       "                var nbb_cell_id = 450;\n",
       "                var nbb_unformatted_code = \"def plot_responses_by_gender(summary, response, **options):\\n    options[\\\"color\\\"] = aibm_green\\n    plot_responses(summary, \\\"male\\\", response, \\\"s\\\", **options)\\n    options[\\\"color\\\"] = aibm_orange\\n    plot_responses(summary, \\\"female\\\", response, \\\"o\\\", **options)\\n    plt.grid(True, axis=\\\"y\\\", color=\\\"lightgray\\\", alpha=0.5)\\n    decorate(xlabel=\\\"Percent\\\")\";\n",
       "                var nbb_formatted_code = \"def plot_responses_by_gender(summary, response, **options):\\n    options[\\\"color\\\"] = aibm_green\\n    plot_responses(summary, \\\"male\\\", response, \\\"s\\\", **options)\\n    options[\\\"color\\\"] = aibm_orange\\n    plot_responses(summary, \\\"female\\\", response, \\\"o\\\", **options)\\n    plt.grid(True, axis=\\\"y\\\", color=\\\"lightgray\\\", alpha=0.5)\\n    decorate(xlabel=\\\"Percent\\\")\";\n",
       "                var nbb_cells = Jupyter.notebook.get_cells();\n",
       "                for (var i = 0; i < nbb_cells.length; ++i) {\n",
       "                    if (nbb_cells[i].input_prompt_number == nbb_cell_id) {\n",
       "                        if (nbb_cells[i].get_text() == nbb_unformatted_code) {\n",
       "                             nbb_cells[i].set_text(nbb_formatted_code);\n",
       "                        }\n",
       "                        break;\n",
       "                    }\n",
       "                }\n",
       "            }, 500);\n",
       "            "
      ],
      "text/plain": [
       "<IPython.core.display.Javascript object>"
      ]
     },
     "metadata": {},
     "output_type": "display_data"
    }
   ],
   "source": [
    "def plot_responses_by_gender(summary, response, **options):\n",
    "    options[\"color\"] = aibm_green\n",
    "    plot_responses(summary, \"male\", response, \"s\", **options)\n",
    "    options[\"color\"] = aibm_orange\n",
    "    plot_responses(summary, \"female\", response, \"o\", **options)\n",
    "    plt.grid(True, axis=\"y\", color=\"lightgray\", alpha=0.5)\n",
    "    decorate(xlabel=\"Percent\")"
   ]
  },
  {
   "cell_type": "code",
   "execution_count": 475,
   "id": "1ea34e0c",
   "metadata": {},
   "outputs": [
    {
     "data": {
      "application/javascript": [
       "\n",
       "            setTimeout(function() {\n",
       "                var nbb_cell_id = 475;\n",
       "                var nbb_unformatted_code = \"source_text = \\\"\\\"\\\"Source: ANES 2024 Pilot Study www.electionstudies.org\\n\\\"\\\"\\\"\\n\\n\\ndef add_text(x, y, text, **options):\\n    ax = plt.gca()\\n    underride(\\n        options,\\n        transform=ax.transAxes,\\n        color=aibm_medium_gray,\\n        ha=\\\"left\\\",\\n        va=\\\"bottom\\\",\\n        fontsize=9,\\n    )\\n    plt.text(x, y, text, **options)\\n\\n\\ndef make_title(title, subtitle, pad=30):\\n    plt.title(title, loc=\\\"left\\\", pad=pad)\\n    add_text(0, 1.06, subtitle, color=\\\"black\\\")\\n    add_text(0, 0.975, source_text)\";\n",
       "                var nbb_formatted_code = \"source_text = \\\"\\\"\\\"Source: ANES 2024 Pilot Study www.electionstudies.org\\n\\\"\\\"\\\"\\n\\n\\ndef add_text(x, y, text, **options):\\n    ax = plt.gca()\\n    underride(\\n        options,\\n        transform=ax.transAxes,\\n        color=aibm_medium_gray,\\n        ha=\\\"left\\\",\\n        va=\\\"bottom\\\",\\n        fontsize=9,\\n    )\\n    plt.text(x, y, text, **options)\\n\\n\\ndef make_title(title, subtitle, pad=30):\\n    plt.title(title, loc=\\\"left\\\", pad=pad)\\n    add_text(0, 1.06, subtitle, color=\\\"black\\\")\\n    add_text(0, 0.975, source_text)\";\n",
       "                var nbb_cells = Jupyter.notebook.get_cells();\n",
       "                for (var i = 0; i < nbb_cells.length; ++i) {\n",
       "                    if (nbb_cells[i].input_prompt_number == nbb_cell_id) {\n",
       "                        if (nbb_cells[i].get_text() == nbb_unformatted_code) {\n",
       "                             nbb_cells[i].set_text(nbb_formatted_code);\n",
       "                        }\n",
       "                        break;\n",
       "                    }\n",
       "                }\n",
       "            }, 500);\n",
       "            "
      ],
      "text/plain": [
       "<IPython.core.display.Javascript object>"
      ]
     },
     "metadata": {},
     "output_type": "display_data"
    }
   ],
   "source": [
    "source_text = \"\"\"Source: ANES 2024 Pilot Study www.electionstudies.org\n",
    "\"\"\"\n",
    "\n",
    "\n",
    "def add_text(x, y, text, **options):\n",
    "    ax = plt.gca()\n",
    "    underride(\n",
    "        options,\n",
    "        transform=ax.transAxes,\n",
    "        color=aibm_medium_gray,\n",
    "        ha=\"left\",\n",
    "        va=\"bottom\",\n",
    "        fontsize=9,\n",
    "    )\n",
    "    plt.text(x, y, text, **options)\n",
    "\n",
    "\n",
    "def make_title(title, subtitle, pad=30):\n",
    "    plt.title(title, loc=\"left\", pad=pad)\n",
    "    add_text(0, 1.06, subtitle, color=\"black\")\n",
    "    add_text(0, 0.975, source_text)"
   ]
  },
  {
   "cell_type": "code",
   "execution_count": 476,
   "id": "060b70bc",
   "metadata": {},
   "outputs": [
    {
     "data": {
      "image/png": "[encoded data removed]",
      "text/plain": [
       "<Figure size 700x500 with 1 Axes>"
      ]
     },
     "metadata": {},
     "output_type": "display_data"
    },
    {
     "data": {
      "application/javascript": [
       "\n",
       "            setTimeout(function() {\n",
       "                var nbb_cell_id = 476;\n",
       "                var nbb_unformatted_code = \"title = \\\"How important are each of the following issues in the country today?\\\"\\nsubtitle = \\\"All respondents. Lines show 95% confidence intervals.\\\"\\n\\nplt.figure(figsize=(7, 5))\\nmake_title(title, subtitle)\\nplot_responses_by_gender(summary, \\\"very/extremely\\\", alpha=0.9)\\nplot_responses_by_gender(summary, \\\"not/slightly\\\", alpha=0.5)\";\n",
       "                var nbb_formatted_code = \"title = \\\"How important are each of the following issues in the country today?\\\"\\nsubtitle = \\\"All respondents. Lines show 95% confidence intervals.\\\"\\n\\nplt.figure(figsize=(7, 5))\\nmake_title(title, subtitle)\\nplot_responses_by_gender(summary, \\\"very/extremely\\\", alpha=0.9)\\nplot_responses_by_gender(summary, \\\"not/slightly\\\", alpha=0.5)\";\n",
       "                var nbb_cells = Jupyter.notebook.get_cells();\n",
       "                for (var i = 0; i < nbb_cells.length; ++i) {\n",
       "                    if (nbb_cells[i].input_prompt_number == nbb_cell_id) {\n",
       "                        if (nbb_cells[i].get_text() == nbb_unformatted_code) {\n",
       "                             nbb_cells[i].set_text(nbb_formatted_code);\n",
       "                        }\n",
       "                        break;\n",
       "                    }\n",
       "                }\n",
       "            }, 500);\n",
       "            "
      ],
      "text/plain": [
       "<IPython.core.display.Javascript object>"
      ]
     },
     "metadata": {},
     "output_type": "display_data"
    }
   ],
   "source": [
    "title = \"How important are each of the following issues in the country today?\"\n",
    "subtitle = \"All respondents. Lines show 95% confidence intervals.\"\n",
    "\n",
    "plt.figure(figsize=(7, 5))\n",
    "make_title(title, subtitle)\n",
    "plot_responses_by_gender(summary, \"very/extremely\", alpha=0.9)\n",
    "plot_responses_by_gender(summary, \"not/slightly\", alpha=0.5)"
   ]
  },
  {
   "cell_type": "markdown",
   "id": "cf8390fa",
   "metadata": {},
   "source": [
    "## Younger people\n"
   ]
  },
  {
   "cell_type": "code",
   "execution_count": 453,
   "id": "435e2e16",
   "metadata": {},
   "outputs": [
    {
     "data": {
      "text/html": [
       "<div>\n",
       "<style scoped>\n",
       "    .dataframe tbody tr th:only-of-type {\n",
       "        vertical-align: middle;\n",
       "    }\n",
       "\n",
       "    .dataframe tbody tr th {\n",
       "        vertical-align: top;\n",
       "    }\n",
       "\n",
       "    .dataframe thead tr th {\n",
       "        text-align: left;\n",
       "    }\n",
       "</style>\n",
       "<table border=\"1\" class=\"dataframe\">\n",
       "  <thead>\n",
       "    <tr>\n",
       "      <th></th>\n",
       "      <th colspan=\"6\" halign=\"left\">male</th>\n",
       "      <th colspan=\"6\" halign=\"left\">female</th>\n",
       "    </tr>\n",
       "    <tr>\n",
       "      <th></th>\n",
       "      <th colspan=\"3\" halign=\"left\">very/extremely</th>\n",
       "      <th colspan=\"3\" halign=\"left\">not/slightly</th>\n",
       "      <th colspan=\"3\" halign=\"left\">very/extremely</th>\n",
       "      <th colspan=\"3\" halign=\"left\">not/slightly</th>\n",
       "    </tr>\n",
       "    <tr>\n",
       "      <th></th>\n",
       "      <th>p</th>\n",
       "      <th>low</th>\n",
       "      <th>high</th>\n",
       "      <th>p</th>\n",
       "      <th>low</th>\n",
       "      <th>high</th>\n",
       "      <th>p</th>\n",
       "      <th>low</th>\n",
       "      <th>high</th>\n",
       "      <th>p</th>\n",
       "      <th>low</th>\n",
       "      <th>high</th>\n",
       "    </tr>\n",
       "  </thead>\n",
       "  <tbody>\n",
       "    <tr>\n",
       "      <th>imp_islamop</th>\n",
       "      <td>45.161645</td>\n",
       "      <td>39.318185</td>\n",
       "      <td>51.141641</td>\n",
       "      <td>29.528326</td>\n",
       "      <td>24.390906</td>\n",
       "      <td>35.243443</td>\n",
       "      <td>36.292245</td>\n",
       "      <td>30.90691</td>\n",
       "      <td>42.044925</td>\n",
       "      <td>24.849976</td>\n",
       "      <td>20.173369</td>\n",
       "      <td>30.200559</td>\n",
       "    </tr>\n",
       "    <tr>\n",
       "      <th>imp_ukraine</th>\n",
       "      <td>43.389304</td>\n",
       "      <td>37.582193</td>\n",
       "      <td>49.383788</td>\n",
       "      <td>28.357252</td>\n",
       "      <td>23.289425</td>\n",
       "      <td>34.038521</td>\n",
       "      <td>40.059518</td>\n",
       "      <td>34.52406</td>\n",
       "      <td>45.86086</td>\n",
       "      <td>28.678613</td>\n",
       "      <td>23.72581</td>\n",
       "      <td>34.201713</td>\n",
       "    </tr>\n",
       "    <tr>\n",
       "      <th>imp_antisem</th>\n",
       "      <td>44.85393</td>\n",
       "      <td>39.018427</td>\n",
       "      <td>50.834651</td>\n",
       "      <td>24.488141</td>\n",
       "      <td>19.727519</td>\n",
       "      <td>29.96869</td>\n",
       "      <td>41.453715</td>\n",
       "      <td>35.869692</td>\n",
       "      <td>47.266331</td>\n",
       "      <td>24.40372</td>\n",
       "      <td>19.76712</td>\n",
       "      <td>29.72496</td>\n",
       "    </tr>\n",
       "    <tr>\n",
       "      <th>imp_gaza</th>\n",
       "      <td>48.730141</td>\n",
       "      <td>42.810741</td>\n",
       "      <td>54.685375</td>\n",
       "      <td>28.517943</td>\n",
       "      <td>23.449388</td>\n",
       "      <td>34.192708</td>\n",
       "      <td>44.360735</td>\n",
       "      <td>38.690287</td>\n",
       "      <td>50.182019</td>\n",
       "      <td>26.467825</td>\n",
       "      <td>21.671014</td>\n",
       "      <td>31.894066</td>\n",
       "    </tr>\n",
       "    <tr>\n",
       "      <th>imp_immig</th>\n",
       "      <td>63.710097</td>\n",
       "      <td>57.801808</td>\n",
       "      <td>69.231496</td>\n",
       "      <td>19.686906</td>\n",
       "      <td>15.372045</td>\n",
       "      <td>24.857183</td>\n",
       "      <td>50.917431</td>\n",
       "      <td>45.123857</td>\n",
       "      <td>56.686467</td>\n",
       "      <td>22.193823</td>\n",
       "      <td>17.745693</td>\n",
       "      <td>27.385704</td>\n",
       "    </tr>\n",
       "    <tr>\n",
       "      <th>imp_climate</th>\n",
       "      <td>66.898131</td>\n",
       "      <td>61.064881</td>\n",
       "      <td>72.254527</td>\n",
       "      <td>17.24081</td>\n",
       "      <td>13.192397</td>\n",
       "      <td>22.213666</td>\n",
       "      <td>58.868035</td>\n",
       "      <td>53.057607</td>\n",
       "      <td>64.441264</td>\n",
       "      <td>19.670642</td>\n",
       "      <td>15.461402</td>\n",
       "      <td>24.691121</td>\n",
       "    </tr>\n",
       "    <tr>\n",
       "      <th>imp_votright</th>\n",
       "      <td>69.249382</td>\n",
       "      <td>63.489633</td>\n",
       "      <td>74.465927</td>\n",
       "      <td>12.571647</td>\n",
       "      <td>9.126452</td>\n",
       "      <td>17.073045</td>\n",
       "      <td>66.061741</td>\n",
       "      <td>60.366919</td>\n",
       "      <td>71.326948</td>\n",
       "      <td>10.041175</td>\n",
       "      <td>7.059035</td>\n",
       "      <td>14.09212</td>\n",
       "    </tr>\n",
       "    <tr>\n",
       "      <th>imp_gun</th>\n",
       "      <td>67.985873</td>\n",
       "      <td>62.184648</td>\n",
       "      <td>73.279549</td>\n",
       "      <td>7.512736</td>\n",
       "      <td>4.924235</td>\n",
       "      <td>11.3002</td>\n",
       "      <td>68.196489</td>\n",
       "      <td>62.561882</td>\n",
       "      <td>73.344382</td>\n",
       "      <td>7.855353</td>\n",
       "      <td>5.257019</td>\n",
       "      <td>11.580958</td>\n",
       "    </tr>\n",
       "    <tr>\n",
       "      <th>imp_abort</th>\n",
       "      <td>61.593185</td>\n",
       "      <td>55.649941</td>\n",
       "      <td>67.209277</td>\n",
       "      <td>19.813891</td>\n",
       "      <td>15.485984</td>\n",
       "      <td>24.993629</td>\n",
       "      <td>68.958314</td>\n",
       "      <td>63.348269</td>\n",
       "      <td>74.061268</td>\n",
       "      <td>11.679269</td>\n",
       "      <td>8.442357</td>\n",
       "      <td>15.941171</td>\n",
       "    </tr>\n",
       "    <tr>\n",
       "      <th>imp_schteach</th>\n",
       "      <td>67.466895</td>\n",
       "      <td>61.649971</td>\n",
       "      <td>72.790914</td>\n",
       "      <td>11.95418</td>\n",
       "      <td>8.600131</td>\n",
       "      <td>16.381857</td>\n",
       "      <td>70.77273</td>\n",
       "      <td>65.227958</td>\n",
       "      <td>75.761879</td>\n",
       "      <td>9.619692</td>\n",
       "      <td>6.707302</td>\n",
       "      <td>13.612161</td>\n",
       "    </tr>\n",
       "    <tr>\n",
       "      <th>imp_crime</th>\n",
       "      <td>68.481186</td>\n",
       "      <td>62.695665</td>\n",
       "      <td>73.745181</td>\n",
       "      <td>9.426748</td>\n",
       "      <td>6.481451</td>\n",
       "      <td>13.516995</td>\n",
       "      <td>71.686866</td>\n",
       "      <td>66.178713</td>\n",
       "      <td>76.614944</td>\n",
       "      <td>7.404172</td>\n",
       "      <td>4.892679</td>\n",
       "      <td>11.055005</td>\n",
       "    </tr>\n",
       "    <tr>\n",
       "      <th>imp_jobs</th>\n",
       "      <td>79.603722</td>\n",
       "      <td>74.381525</td>\n",
       "      <td>83.990522</td>\n",
       "      <td>3.514289</td>\n",
       "      <td>1.886661</td>\n",
       "      <td>6.453712</td>\n",
       "      <td>77.756851</td>\n",
       "      <td>72.56188</td>\n",
       "      <td>82.209391</td>\n",
       "      <td>5.772587</td>\n",
       "      <td>3.60285</td>\n",
       "      <td>9.125303</td>\n",
       "    </tr>\n",
       "    <tr>\n",
       "      <th>imp_costliv</th>\n",
       "      <td>82.86907</td>\n",
       "      <td>77.905797</td>\n",
       "      <td>86.9048</td>\n",
       "      <td>3.286817</td>\n",
       "      <td>1.727911</td>\n",
       "      <td>6.163938</td>\n",
       "      <td>86.852726</td>\n",
       "      <td>82.421059</td>\n",
       "      <td>90.298669</td>\n",
       "      <td>1.884199</td>\n",
       "      <td>0.828722</td>\n",
       "      <td>4.226662</td>\n",
       "    </tr>\n",
       "  </tbody>\n",
       "</table>\n",
       "</div>"
      ],
      "text/plain": [
       "                       male                                                \\\n",
       "             very/extremely                       not/slightly              \n",
       "                          p        low       high            p        low   \n",
       "imp_islamop       45.161645  39.318185  51.141641    29.528326  24.390906   \n",
       "imp_ukraine       43.389304  37.582193  49.383788    28.357252  23.289425   \n",
       "imp_antisem        44.85393  39.018427  50.834651    24.488141  19.727519   \n",
       "imp_gaza          48.730141  42.810741  54.685375    28.517943  23.449388   \n",
       "imp_immig         63.710097  57.801808  69.231496    19.686906  15.372045   \n",
       "imp_climate       66.898131  61.064881  72.254527     17.24081  13.192397   \n",
       "imp_votright      69.249382  63.489633  74.465927    12.571647   9.126452   \n",
       "imp_gun           67.985873  62.184648  73.279549     7.512736   4.924235   \n",
       "imp_abort         61.593185  55.649941  67.209277    19.813891  15.485984   \n",
       "imp_schteach      67.466895  61.649971  72.790914     11.95418   8.600131   \n",
       "imp_crime         68.481186  62.695665  73.745181     9.426748   6.481451   \n",
       "imp_jobs          79.603722  74.381525  83.990522     3.514289   1.886661   \n",
       "imp_costliv        82.86907  77.905797    86.9048     3.286817   1.727911   \n",
       "\n",
       "                                female                                     \\\n",
       "                        very/extremely                       not/slightly   \n",
       "                   high              p        low       high            p   \n",
       "imp_islamop   35.243443      36.292245   30.90691  42.044925    24.849976   \n",
       "imp_ukraine   34.038521      40.059518   34.52406   45.86086    28.678613   \n",
       "imp_antisem    29.96869      41.453715  35.869692  47.266331     24.40372   \n",
       "imp_gaza      34.192708      44.360735  38.690287  50.182019    26.467825   \n",
       "imp_immig     24.857183      50.917431  45.123857  56.686467    22.193823   \n",
       "imp_climate   22.213666      58.868035  53.057607  64.441264    19.670642   \n",
       "imp_votright  17.073045      66.061741  60.366919  71.326948    10.041175   \n",
       "imp_gun         11.3002      68.196489  62.561882  73.344382     7.855353   \n",
       "imp_abort     24.993629      68.958314  63.348269  74.061268    11.679269   \n",
       "imp_schteach  16.381857       70.77273  65.227958  75.761879     9.619692   \n",
       "imp_crime     13.516995      71.686866  66.178713  76.614944     7.404172   \n",
       "imp_jobs       6.453712      77.756851   72.56188  82.209391     5.772587   \n",
       "imp_costliv    6.163938      86.852726  82.421059  90.298669     1.884199   \n",
       "\n",
       "                                    \n",
       "                                    \n",
       "                    low       high  \n",
       "imp_islamop   20.173369  30.200559  \n",
       "imp_ukraine    23.72581  34.201713  \n",
       "imp_antisem    19.76712   29.72496  \n",
       "imp_gaza      21.671014  31.894066  \n",
       "imp_immig     17.745693  27.385704  \n",
       "imp_climate   15.461402  24.691121  \n",
       "imp_votright   7.059035   14.09212  \n",
       "imp_gun        5.257019  11.580958  \n",
       "imp_abort      8.442357  15.941171  \n",
       "imp_schteach   6.707302  13.612161  \n",
       "imp_crime      4.892679  11.055005  \n",
       "imp_jobs        3.60285   9.125303  \n",
       "imp_costliv    0.828722   4.226662  "
      ]
     },
     "execution_count": 453,
     "metadata": {},
     "output_type": "execute_result"
    },
    {
     "data": {
      "application/javascript": [
       "\n",
       "            setTimeout(function() {\n",
       "                var nbb_cell_id = 453;\n",
       "                var nbb_unformatted_code = \"gender_map = {\\\"male\\\": df_young_male, \\\"female\\\": df_young_female}\\nsummary = estimate_gender_map(df, columns, gender_map, value_map).sort_values(\\n    by=(\\\"female\\\", \\\"very/extremely\\\", \\\"p\\\")\\n)\\nsummary\";\n",
       "                var nbb_formatted_code = \"gender_map = {\\\"male\\\": df_young_male, \\\"female\\\": df_young_female}\\nsummary = estimate_gender_map(df, columns, gender_map, value_map).sort_values(\\n    by=(\\\"female\\\", \\\"very/extremely\\\", \\\"p\\\")\\n)\\nsummary\";\n",
       "                var nbb_cells = Jupyter.notebook.get_cells();\n",
       "                for (var i = 0; i < nbb_cells.length; ++i) {\n",
       "                    if (nbb_cells[i].input_prompt_number == nbb_cell_id) {\n",
       "                        if (nbb_cells[i].get_text() == nbb_unformatted_code) {\n",
       "                             nbb_cells[i].set_text(nbb_formatted_code);\n",
       "                        }\n",
       "                        break;\n",
       "                    }\n",
       "                }\n",
       "            }, 500);\n",
       "            "
      ],
      "text/plain": [
       "<IPython.core.display.Javascript object>"
      ]
     },
     "metadata": {},
     "output_type": "display_data"
    }
   ],
   "source": [
    "gender_map = {\"male\": df_young_male, \"female\": df_young_female}\n",
    "summary = estimate_gender_map(df, columns, gender_map, value_map).sort_values(\n",
    "    by=(\"female\", \"very/extremely\", \"p\")\n",
    ")\n",
    "summary"
   ]
  },
  {
   "cell_type": "code",
   "execution_count": 477,
   "id": "b4592748",
   "metadata": {},
   "outputs": [
    {
     "data": {
      "image/png": "[encoded data removed]",
      "text/plain": [
       "<Figure size 700x500 with 1 Axes>"
      ]
     },
     "metadata": {},
     "output_type": "display_data"
    },
    {
     "data": {
      "application/javascript": [
       "\n",
       "            setTimeout(function() {\n",
       "                var nbb_cell_id = 477;\n",
       "                var nbb_unformatted_code = \"subtitle = \\\"Youger respondents (under 40). Lines show 95% confidence intervals.\\\"\\n\\nplt.figure(figsize=(7, 5))\\nmake_title(title, subtitle)\\nplot_responses_by_gender(summary, \\\"very/extremely\\\", alpha=0.9)\\nplot_responses_by_gender(summary, \\\"not/slightly\\\", alpha=0.5)\";\n",
       "                var nbb_formatted_code = \"subtitle = \\\"Youger respondents (under 40). Lines show 95% confidence intervals.\\\"\\n\\nplt.figure(figsize=(7, 5))\\nmake_title(title, subtitle)\\nplot_responses_by_gender(summary, \\\"very/extremely\\\", alpha=0.9)\\nplot_responses_by_gender(summary, \\\"not/slightly\\\", alpha=0.5)\";\n",
       "                var nbb_cells = Jupyter.notebook.get_cells();\n",
       "                for (var i = 0; i < nbb_cells.length; ++i) {\n",
       "                    if (nbb_cells[i].input_prompt_number == nbb_cell_id) {\n",
       "                        if (nbb_cells[i].get_text() == nbb_unformatted_code) {\n",
       "                             nbb_cells[i].set_text(nbb_formatted_code);\n",
       "                        }\n",
       "                        break;\n",
       "                    }\n",
       "                }\n",
       "            }, 500);\n",
       "            "
      ],
      "text/plain": [
       "<IPython.core.display.Javascript object>"
      ]
     },
     "metadata": {},
     "output_type": "display_data"
    }
   ],
   "source": [
    "subtitle = \"Youger respondents (under 40). Lines show 95% confidence intervals.\"\n",
    "\n",
    "plt.figure(figsize=(7, 5))\n",
    "make_title(title, subtitle)\n",
    "plot_responses_by_gender(summary, \"very/extremely\", alpha=0.9)\n",
    "plot_responses_by_gender(summary, \"not/slightly\", alpha=0.5)"
   ]
  },
  {
   "cell_type": "markdown",
   "id": "cc8669db",
   "metadata": {},
   "source": [
    "## Pairwise compatibility\n",
    "\n",
    "One way to interpret these results is to pick the ones with the biggest differences and talk about \"wow the differences\".\n",
    "But these differences are often used to tell a story along the lines that men and women are becoming more politically incompatible, so I think it would be useful to quantify what we mean by compatible.\n",
    "\n",
    "For example, if we imagine a speed-dating service that matches random women and men, and compares their responses, we could define a kind of compatibility score and see how often a hypothetical pair would find themselves disagreeing by too much on to many points.\n",
    "\n",
    "We could calibrate the results by comparing them with male-male and female-female compatibility."
   ]
  },
  {
   "cell_type": "markdown",
   "id": "6d84eeb3",
   "metadata": {},
   "source": [
    "Here's a possible scoring function.\n",
    "If you and another person assign the same level of importance to an issue, you get 2 points.\n",
    "If you differ by 1 level, that's 0 points.\n",
    "Differing by 2 levels costs 1 point, 3 levels costs 2 points, and four levels, which means you are at opposite ends of the range, costs 4 points."
   ]
  },
  {
   "cell_type": "code",
   "execution_count": 322,
   "id": "9b44483d",
   "metadata": {},
   "outputs": [
    {
     "data": {
      "application/javascript": [
       "\n",
       "            setTimeout(function() {\n",
       "                var nbb_cell_id = 322;\n",
       "                var nbb_unformatted_code = \"score_map = {0: 2, 1: 0, 2: -1, 3: -2, 4: -4}\\nscore_array = np.array(list(score_map.values()))\";\n",
       "                var nbb_formatted_code = \"score_map = {0: 2, 1: 0, 2: -1, 3: -2, 4: -4}\\nscore_array = np.array(list(score_map.values()))\";\n",
       "                var nbb_cells = Jupyter.notebook.get_cells();\n",
       "                for (var i = 0; i < nbb_cells.length; ++i) {\n",
       "                    if (nbb_cells[i].input_prompt_number == nbb_cell_id) {\n",
       "                        if (nbb_cells[i].get_text() == nbb_unformatted_code) {\n",
       "                             nbb_cells[i].set_text(nbb_formatted_code);\n",
       "                        }\n",
       "                        break;\n",
       "                    }\n",
       "                }\n",
       "            }, 500);\n",
       "            "
      ],
      "text/plain": [
       "<IPython.core.display.Javascript object>"
      ]
     },
     "metadata": {},
     "output_type": "display_data"
    }
   ],
   "source": [
    "score_map = {0: 2, 1: 0, 2: -1, 3: -2, 4: -4}\n",
    "score_array = np.array(list(score_map.values()))"
   ]
  },
  {
   "cell_type": "markdown",
   "id": "3ead8a07",
   "metadata": {},
   "source": [
    "Spot check the first row from each group."
   ]
  },
  {
   "cell_type": "code",
   "execution_count": 323,
   "id": "04cc9f04",
   "metadata": {},
   "outputs": [
    {
     "data": {
      "text/plain": [
       "7.0"
      ]
     },
     "execution_count": 323,
     "metadata": {},
     "output_type": "execute_result"
    },
    {
     "data": {
      "application/javascript": [
       "\n",
       "            setTimeout(function() {\n",
       "                var nbb_cell_id = 323;\n",
       "                var nbb_unformatted_code = \"np.abs(data_male.iloc[0] - data_female.iloc[0]).replace(score_map).sum()\";\n",
       "                var nbb_formatted_code = \"np.abs(data_male.iloc[0] - data_female.iloc[0]).replace(score_map).sum()\";\n",
       "                var nbb_cells = Jupyter.notebook.get_cells();\n",
       "                for (var i = 0; i < nbb_cells.length; ++i) {\n",
       "                    if (nbb_cells[i].input_prompt_number == nbb_cell_id) {\n",
       "                        if (nbb_cells[i].get_text() == nbb_unformatted_code) {\n",
       "                             nbb_cells[i].set_text(nbb_formatted_code);\n",
       "                        }\n",
       "                        break;\n",
       "                    }\n",
       "                }\n",
       "            }, 500);\n",
       "            "
      ],
      "text/plain": [
       "<IPython.core.display.Javascript object>"
      ]
     },
     "metadata": {},
     "output_type": "display_data"
    }
   ],
   "source": [
    "np.abs(data_male.iloc[0] - data_female.iloc[0]).replace(score_map).sum()"
   ]
  },
  {
   "cell_type": "markdown",
   "id": "5dcbb11c",
   "metadata": {},
   "source": [
    "The following function computes the total score across all issues for each pair of people in the two groups."
   ]
  },
  {
   "cell_type": "code",
   "execution_count": 324,
   "id": "7d4768d2",
   "metadata": {},
   "outputs": [
    {
     "data": {
      "application/javascript": [
       "\n",
       "            setTimeout(function() {\n",
       "                var nbb_cell_id = 324;\n",
       "                var nbb_unformatted_code = \"def pairwise_compatiblity(df1, df2):\\n    diffs = np.abs(df1.values[:, None, :] - df2.values[None, :, :])\\n\\n    # replace missing values with 1,\\n    # which is a little bigger than the mean difference\\n    nan = np.isnan(diffs)\\n    diffs[nan] = 1\\n\\n    return score_array[diffs.astype(int)].sum(axis=2)\";\n",
       "                var nbb_formatted_code = \"def pairwise_compatiblity(df1, df2):\\n    diffs = np.abs(df1.values[:, None, :] - df2.values[None, :, :])\\n\\n    # replace missing values with 1,\\n    # which is a little bigger than the mean difference\\n    nan = np.isnan(diffs)\\n    diffs[nan] = 1\\n\\n    return score_array[diffs.astype(int)].sum(axis=2)\";\n",
       "                var nbb_cells = Jupyter.notebook.get_cells();\n",
       "                for (var i = 0; i < nbb_cells.length; ++i) {\n",
       "                    if (nbb_cells[i].input_prompt_number == nbb_cell_id) {\n",
       "                        if (nbb_cells[i].get_text() == nbb_unformatted_code) {\n",
       "                             nbb_cells[i].set_text(nbb_formatted_code);\n",
       "                        }\n",
       "                        break;\n",
       "                    }\n",
       "                }\n",
       "            }, 500);\n",
       "            "
      ],
      "text/plain": [
       "<IPython.core.display.Javascript object>"
      ]
     },
     "metadata": {},
     "output_type": "display_data"
    }
   ],
   "source": [
    "def pairwise_compatiblity(df1, df2):\n",
    "    diffs = np.abs(df1.values[:, None, :] - df2.values[None, :, :])\n",
    "\n",
    "    # replace missing values with 1,\n",
    "    # which is a little bigger than the mean difference\n",
    "    nan = np.isnan(diffs)\n",
    "    diffs[nan] = 1\n",
    "\n",
    "    return score_array[diffs.astype(int)].sum(axis=2)"
   ]
  },
  {
   "cell_type": "markdown",
   "id": "c0a446be",
   "metadata": {},
   "source": [
    "Here's the compatibility array for men and women (and the spot check for the first pair)."
   ]
  },
  {
   "cell_type": "code",
   "execution_count": 325,
   "id": "a6210166",
   "metadata": {},
   "outputs": [
    {
     "data": {
      "text/plain": [
       "7"
      ]
     },
     "execution_count": 325,
     "metadata": {},
     "output_type": "execute_result"
    },
    {
     "data": {
      "application/javascript": [
       "\n",
       "            setTimeout(function() {\n",
       "                var nbb_cell_id = 325;\n",
       "                var nbb_unformatted_code = \"compat_mf = pairwise_compatiblity(data_male, data_female)\\ncompat_mf[0, 0]\";\n",
       "                var nbb_formatted_code = \"compat_mf = pairwise_compatiblity(data_male, data_female)\\ncompat_mf[0, 0]\";\n",
       "                var nbb_cells = Jupyter.notebook.get_cells();\n",
       "                for (var i = 0; i < nbb_cells.length; ++i) {\n",
       "                    if (nbb_cells[i].input_prompt_number == nbb_cell_id) {\n",
       "                        if (nbb_cells[i].get_text() == nbb_unformatted_code) {\n",
       "                             nbb_cells[i].set_text(nbb_formatted_code);\n",
       "                        }\n",
       "                        break;\n",
       "                    }\n",
       "                }\n",
       "            }, 500);\n",
       "            "
      ],
      "text/plain": [
       "<IPython.core.display.Javascript object>"
      ]
     },
     "metadata": {},
     "output_type": "display_data"
    }
   ],
   "source": [
    "compat_mf = pairwise_compatiblity(data_male, data_female)\n",
    "compat_mf[0, 0]"
   ]
  },
  {
   "cell_type": "markdown",
   "id": "368042d7",
   "metadata": {},
   "source": [
    "And here's the level of compatibility, averaged across all male-female pairs "
   ]
  },
  {
   "cell_type": "code",
   "execution_count": 326,
   "id": "adb09ff8",
   "metadata": {},
   "outputs": [
    {
     "data": {
      "text/plain": [
       "-0.18586340378198"
      ]
     },
     "execution_count": 326,
     "metadata": {},
     "output_type": "execute_result"
    },
    {
     "data": {
      "application/javascript": [
       "\n",
       "            setTimeout(function() {\n",
       "                var nbb_cell_id = 326;\n",
       "                var nbb_unformatted_code = \"compat_mf.mean()\";\n",
       "                var nbb_formatted_code = \"compat_mf.mean()\";\n",
       "                var nbb_cells = Jupyter.notebook.get_cells();\n",
       "                for (var i = 0; i < nbb_cells.length; ++i) {\n",
       "                    if (nbb_cells[i].input_prompt_number == nbb_cell_id) {\n",
       "                        if (nbb_cells[i].get_text() == nbb_unformatted_code) {\n",
       "                             nbb_cells[i].set_text(nbb_formatted_code);\n",
       "                        }\n",
       "                        break;\n",
       "                    }\n",
       "                }\n",
       "            }, 500);\n",
       "            "
      ],
      "text/plain": [
       "<IPython.core.display.Javascript object>"
      ]
     },
     "metadata": {},
     "output_type": "display_data"
    }
   ],
   "source": [
    "compat_mf.mean()"
   ]
  },
  {
   "cell_type": "markdown",
   "id": "8871fa1d",
   "metadata": {},
   "source": [
    "To put that in context, if you choose two women at random, they would be only slightly more politically compatible."
   ]
  },
  {
   "cell_type": "code",
   "execution_count": 327,
   "id": "00b890ff",
   "metadata": {},
   "outputs": [
    {
     "data": {
      "text/plain": [
       "0.7182584807492196"
      ]
     },
     "execution_count": 327,
     "metadata": {},
     "output_type": "execute_result"
    },
    {
     "data": {
      "application/javascript": [
       "\n",
       "            setTimeout(function() {\n",
       "                var nbb_cell_id = 327;\n",
       "                var nbb_unformatted_code = \"compat_ff = pairwise_compatiblity(data_female, data_female)\\ncompat_ff.mean()\";\n",
       "                var nbb_formatted_code = \"compat_ff = pairwise_compatiblity(data_female, data_female)\\ncompat_ff.mean()\";\n",
       "                var nbb_cells = Jupyter.notebook.get_cells();\n",
       "                for (var i = 0; i < nbb_cells.length; ++i) {\n",
       "                    if (nbb_cells[i].input_prompt_number == nbb_cell_id) {\n",
       "                        if (nbb_cells[i].get_text() == nbb_unformatted_code) {\n",
       "                             nbb_cells[i].set_text(nbb_formatted_code);\n",
       "                        }\n",
       "                        break;\n",
       "                    }\n",
       "                }\n",
       "            }, 500);\n",
       "            "
      ],
      "text/plain": [
       "<IPython.core.display.Javascript object>"
      ]
     },
     "metadata": {},
     "output_type": "display_data"
    }
   ],
   "source": [
    "compat_ff = pairwise_compatiblity(data_female, data_female)\n",
    "compat_ff.mean()"
   ]
  },
  {
   "cell_type": "markdown",
   "id": "122e33ce",
   "metadata": {},
   "source": [
    "And a random pair of men would be a bit less compatible."
   ]
  },
  {
   "cell_type": "code",
   "execution_count": 328,
   "id": "5a768430",
   "metadata": {},
   "outputs": [
    {
     "data": {
      "text/plain": [
       "-0.833015933412604"
      ]
     },
     "execution_count": 328,
     "metadata": {},
     "output_type": "execute_result"
    },
    {
     "data": {
      "application/javascript": [
       "\n",
       "            setTimeout(function() {\n",
       "                var nbb_cell_id = 328;\n",
       "                var nbb_unformatted_code = \"compat_mm = pairwise_compatiblity(data_male, data_male)\\ncompat_mm.mean()\";\n",
       "                var nbb_formatted_code = \"compat_mm = pairwise_compatiblity(data_male, data_male)\\ncompat_mm.mean()\";\n",
       "                var nbb_cells = Jupyter.notebook.get_cells();\n",
       "                for (var i = 0; i < nbb_cells.length; ++i) {\n",
       "                    if (nbb_cells[i].input_prompt_number == nbb_cell_id) {\n",
       "                        if (nbb_cells[i].get_text() == nbb_unformatted_code) {\n",
       "                             nbb_cells[i].set_text(nbb_formatted_code);\n",
       "                        }\n",
       "                        break;\n",
       "                    }\n",
       "                }\n",
       "            }, 500);\n",
       "            "
      ],
      "text/plain": [
       "<IPython.core.display.Javascript object>"
      ]
     },
     "metadata": {},
     "output_type": "display_data"
    }
   ],
   "source": [
    "compat_mm = pairwise_compatiblity(data_male, data_male)\n",
    "compat_mm.mean()"
   ]
  },
  {
   "cell_type": "markdown",
   "id": "51a20712",
   "metadata": {},
   "source": [
    "However, these results vary from one resampling to another, so we would need to report them with error bars."
   ]
  },
  {
   "cell_type": "markdown",
   "id": "58376471",
   "metadata": {},
   "source": [
    "## Which Party Better Job\n",
    "\n",
    "This section explores responses to a set of questions based on this schema:\n",
    "\n",
    ">Please tell us which political party— the [Democrats/Republicans] or the [Republicans/Democrats]—would do a better job handling each of the following issues, or is there no difference.\n",
    "\n",
    "```\n",
    "Tabulation: Freq. Numeric Label\n",
    "1 -7 No Answer\n",
    "165 -1 inapplicable, legitimate skip\n",
    "508 1 Democrats\n",
    "780 2 Republicans\n",
    "455 3 No difference\n",
    "```"
   ]
  },
  {
   "cell_type": "code",
   "execution_count": 329,
   "id": "b77ac6f1",
   "metadata": {},
   "outputs": [
    {
     "data": {
      "text/plain": [
       "1743"
      ]
     },
     "execution_count": 329,
     "metadata": {},
     "output_type": "execute_result"
    },
    {
     "data": {
      "application/javascript": [
       "\n",
       "            setTimeout(function() {\n",
       "                var nbb_cell_id = 329;\n",
       "                var nbb_unformatted_code = \"508 + 780 + 455\";\n",
       "                var nbb_formatted_code = \"508 + 780 + 455\";\n",
       "                var nbb_cells = Jupyter.notebook.get_cells();\n",
       "                for (var i = 0; i < nbb_cells.length; ++i) {\n",
       "                    if (nbb_cells[i].input_prompt_number == nbb_cell_id) {\n",
       "                        if (nbb_cells[i].get_text() == nbb_unformatted_code) {\n",
       "                             nbb_cells[i].set_text(nbb_formatted_code);\n",
       "                        }\n",
       "                        break;\n",
       "                    }\n",
       "                }\n",
       "            }, 500);\n",
       "            "
      ],
      "text/plain": [
       "<IPython.core.display.Javascript object>"
      ]
     },
     "metadata": {},
     "output_type": "display_data"
    }
   ],
   "source": [
    "508 + 780 + 455"
   ]
  },
  {
   "cell_type": "code",
   "execution_count": 330,
   "id": "bd3bd9dd",
   "metadata": {},
   "outputs": [
    {
     "data": {
      "application/javascript": [
       "\n",
       "            setTimeout(function() {\n",
       "                var nbb_cell_id = 330;\n",
       "                var nbb_unformatted_code = \"columns = find_columns(df, \\\"own_\\\")\";\n",
       "                var nbb_formatted_code = \"columns = find_columns(df, \\\"own_\\\")\";\n",
       "                var nbb_cells = Jupyter.notebook.get_cells();\n",
       "                for (var i = 0; i < nbb_cells.length; ++i) {\n",
       "                    if (nbb_cells[i].input_prompt_number == nbb_cell_id) {\n",
       "                        if (nbb_cells[i].get_text() == nbb_unformatted_code) {\n",
       "                             nbb_cells[i].set_text(nbb_formatted_code);\n",
       "                        }\n",
       "                        break;\n",
       "                    }\n",
       "                }\n",
       "            }, 500);\n",
       "            "
      ],
      "text/plain": [
       "<IPython.core.display.Javascript object>"
      ]
     },
     "metadata": {},
     "output_type": "display_data"
    }
   ],
   "source": [
    "columns = find_columns(df, \"own_\")"
   ]
  },
  {
   "cell_type": "code",
   "execution_count": 331,
   "id": "ad8338ef",
   "metadata": {},
   "outputs": [
    {
     "data": {
      "application/javascript": [
       "\n",
       "            setTimeout(function() {\n",
       "                var nbb_cell_id = 331;\n",
       "                var nbb_unformatted_code = \"issue_names = {\\n    \\\"own_immig\\\": \\\"Illegal immigration\\\",\\n    \\\"own_jobs\\\": \\\"Jobs/employment\\\",\\n    \\\"own_costliv\\\": \\\"Cost of living and\\\\nrising prices\\\",\\n    \\\"own_climate\\\": \\\"Climate change\\\",\\n    \\\"own_abort\\\": \\\"Abortion\\\",\\n    \\\"own_gun\\\": \\\"Gun policy\\\",\\n    \\\"own_crime\\\": \\\"Crime\\\",\\n    \\\"own_gaza\\\": \\\"War in Gaza\\\",\\n    \\\"own_antisem\\\": \\\"Antisemitism\\\",\\n    \\\"own_votright\\\": \\\"Voting rights\\\",\\n    \\\"own_ukraine\\\": \\\"War in Ukraine\\\",\\n    \\\"own_schteach\\\": \\\"What\\u2019s taught in\\\\npublic schools\\\",\\n    \\\"own_islamop\\\": \\\"Anti-Muslim bias\\\",\\n}\";\n",
       "                var nbb_formatted_code = \"issue_names = {\\n    \\\"own_immig\\\": \\\"Illegal immigration\\\",\\n    \\\"own_jobs\\\": \\\"Jobs/employment\\\",\\n    \\\"own_costliv\\\": \\\"Cost of living and\\\\nrising prices\\\",\\n    \\\"own_climate\\\": \\\"Climate change\\\",\\n    \\\"own_abort\\\": \\\"Abortion\\\",\\n    \\\"own_gun\\\": \\\"Gun policy\\\",\\n    \\\"own_crime\\\": \\\"Crime\\\",\\n    \\\"own_gaza\\\": \\\"War in Gaza\\\",\\n    \\\"own_antisem\\\": \\\"Antisemitism\\\",\\n    \\\"own_votright\\\": \\\"Voting rights\\\",\\n    \\\"own_ukraine\\\": \\\"War in Ukraine\\\",\\n    \\\"own_schteach\\\": \\\"What\\u2019s taught in\\\\npublic schools\\\",\\n    \\\"own_islamop\\\": \\\"Anti-Muslim bias\\\",\\n}\";\n",
       "                var nbb_cells = Jupyter.notebook.get_cells();\n",
       "                for (var i = 0; i < nbb_cells.length; ++i) {\n",
       "                    if (nbb_cells[i].input_prompt_number == nbb_cell_id) {\n",
       "                        if (nbb_cells[i].get_text() == nbb_unformatted_code) {\n",
       "                             nbb_cells[i].set_text(nbb_formatted_code);\n",
       "                        }\n",
       "                        break;\n",
       "                    }\n",
       "                }\n",
       "            }, 500);\n",
       "            "
      ],
      "text/plain": [
       "<IPython.core.display.Javascript object>"
      ]
     },
     "metadata": {},
     "output_type": "display_data"
    }
   ],
   "source": [
    "issue_names = {\n",
    "    \"own_immig\": \"Illegal immigration\",\n",
    "    \"own_jobs\": \"Jobs/employment\",\n",
    "    \"own_costliv\": \"Cost of living and\\nrising prices\",\n",
    "    \"own_climate\": \"Climate change\",\n",
    "    \"own_abort\": \"Abortion\",\n",
    "    \"own_gun\": \"Gun policy\",\n",
    "    \"own_crime\": \"Crime\",\n",
    "    \"own_gaza\": \"War in Gaza\",\n",
    "    \"own_antisem\": \"Antisemitism\",\n",
    "    \"own_votright\": \"Voting rights\",\n",
    "    \"own_ukraine\": \"War in Ukraine\",\n",
    "    \"own_schteach\": \"What’s taught in\\npublic schools\",\n",
    "    \"own_islamop\": \"Anti-Muslim bias\",\n",
    "}"
   ]
  },
  {
   "cell_type": "code",
   "execution_count": 332,
   "id": "93b02c43",
   "metadata": {},
   "outputs": [
    {
     "data": {
      "text/html": [
       "<div>\n",
       "<style scoped>\n",
       "    .dataframe tbody tr th:only-of-type {\n",
       "        vertical-align: middle;\n",
       "    }\n",
       "\n",
       "    .dataframe tbody tr th {\n",
       "        vertical-align: top;\n",
       "    }\n",
       "\n",
       "    .dataframe thead th {\n",
       "        text-align: right;\n",
       "    }\n",
       "</style>\n",
       "<table border=\"1\" class=\"dataframe\">\n",
       "  <thead>\n",
       "    <tr style=\"text-align: right;\">\n",
       "      <th></th>\n",
       "      <th>counts</th>\n",
       "    </tr>\n",
       "    <tr>\n",
       "      <th>values</th>\n",
       "      <th></th>\n",
       "    </tr>\n",
       "  </thead>\n",
       "  <tbody>\n",
       "    <tr>\n",
       "      <th>1.0</th>\n",
       "      <td>441</td>\n",
       "    </tr>\n",
       "    <tr>\n",
       "      <th>2.0</th>\n",
       "      <td>666</td>\n",
       "    </tr>\n",
       "    <tr>\n",
       "      <th>3.0</th>\n",
       "      <td>393</td>\n",
       "    </tr>\n",
       "  </tbody>\n",
       "</table>\n",
       "</div>"
      ],
      "text/plain": [
       "        counts\n",
       "values        \n",
       "1.0        441\n",
       "2.0        666\n",
       "3.0        393"
      ]
     },
     "execution_count": 332,
     "metadata": {},
     "output_type": "execute_result"
    },
    {
     "data": {
      "application/javascript": [
       "\n",
       "            setTimeout(function() {\n",
       "                var nbb_cell_id = 332;\n",
       "                var nbb_unformatted_code = \"value_counts(df[\\\"own_immig\\\"])\";\n",
       "                var nbb_formatted_code = \"value_counts(df[\\\"own_immig\\\"])\";\n",
       "                var nbb_cells = Jupyter.notebook.get_cells();\n",
       "                for (var i = 0; i < nbb_cells.length; ++i) {\n",
       "                    if (nbb_cells[i].input_prompt_number == nbb_cell_id) {\n",
       "                        if (nbb_cells[i].get_text() == nbb_unformatted_code) {\n",
       "                             nbb_cells[i].set_text(nbb_formatted_code);\n",
       "                        }\n",
       "                        break;\n",
       "                    }\n",
       "                }\n",
       "            }, 500);\n",
       "            "
      ],
      "text/plain": [
       "<IPython.core.display.Javascript object>"
      ]
     },
     "metadata": {},
     "output_type": "display_data"
    }
   ],
   "source": [
    "value_counts(df[\"own_immig\"])"
   ]
  },
  {
   "cell_type": "code",
   "execution_count": 333,
   "id": "f0ab99e6",
   "metadata": {},
   "outputs": [
    {
     "data": {
      "text/html": [
       "<div>\n",
       "<style scoped>\n",
       "    .dataframe tbody tr th:only-of-type {\n",
       "        vertical-align: middle;\n",
       "    }\n",
       "\n",
       "    .dataframe tbody tr th {\n",
       "        vertical-align: top;\n",
       "    }\n",
       "\n",
       "    .dataframe thead th {\n",
       "        text-align: right;\n",
       "    }\n",
       "</style>\n",
       "<table border=\"1\" class=\"dataframe\">\n",
       "  <thead>\n",
       "    <tr style=\"text-align: right;\">\n",
       "      <th></th>\n",
       "      <th>own_immig</th>\n",
       "      <th>own_jobs</th>\n",
       "      <th>own_costliv</th>\n",
       "      <th>own_climate</th>\n",
       "      <th>own_abort</th>\n",
       "      <th>own_gun</th>\n",
       "      <th>own_crime</th>\n",
       "      <th>own_gaza</th>\n",
       "      <th>own_antisem</th>\n",
       "      <th>own_votright</th>\n",
       "      <th>own_ukraine</th>\n",
       "      <th>own_schteach</th>\n",
       "      <th>own_islamop</th>\n",
       "    </tr>\n",
       "  </thead>\n",
       "  <tbody>\n",
       "    <tr>\n",
       "      <th>-7.0</th>\n",
       "      <td>0.000</td>\n",
       "      <td>0.000000</td>\n",
       "      <td>0.000000</td>\n",
       "      <td>0.000000</td>\n",
       "      <td>0.000667</td>\n",
       "      <td>0.000000</td>\n",
       "      <td>0.000000</td>\n",
       "      <td>0.000000</td>\n",
       "      <td>0.000667</td>\n",
       "      <td>0.000000</td>\n",
       "      <td>0.001333</td>\n",
       "      <td>0.000000</td>\n",
       "      <td>0.000667</td>\n",
       "    </tr>\n",
       "    <tr>\n",
       "      <th>1.0</th>\n",
       "      <td>0.294</td>\n",
       "      <td>0.337333</td>\n",
       "      <td>0.309333</td>\n",
       "      <td>0.423333</td>\n",
       "      <td>0.442000</td>\n",
       "      <td>0.385333</td>\n",
       "      <td>0.266667</td>\n",
       "      <td>0.272667</td>\n",
       "      <td>0.310667</td>\n",
       "      <td>0.404000</td>\n",
       "      <td>0.349333</td>\n",
       "      <td>0.354000</td>\n",
       "      <td>0.363333</td>\n",
       "    </tr>\n",
       "    <tr>\n",
       "      <th>2.0</th>\n",
       "      <td>0.444</td>\n",
       "      <td>0.392667</td>\n",
       "      <td>0.400000</td>\n",
       "      <td>0.217333</td>\n",
       "      <td>0.290000</td>\n",
       "      <td>0.376667</td>\n",
       "      <td>0.399333</td>\n",
       "      <td>0.305333</td>\n",
       "      <td>0.258667</td>\n",
       "      <td>0.296667</td>\n",
       "      <td>0.280000</td>\n",
       "      <td>0.361333</td>\n",
       "      <td>0.188667</td>\n",
       "    </tr>\n",
       "    <tr>\n",
       "      <th>3.0</th>\n",
       "      <td>0.262</td>\n",
       "      <td>0.270000</td>\n",
       "      <td>0.290667</td>\n",
       "      <td>0.359333</td>\n",
       "      <td>0.267333</td>\n",
       "      <td>0.238000</td>\n",
       "      <td>0.334000</td>\n",
       "      <td>0.422000</td>\n",
       "      <td>0.430000</td>\n",
       "      <td>0.299333</td>\n",
       "      <td>0.369333</td>\n",
       "      <td>0.284667</td>\n",
       "      <td>0.447333</td>\n",
       "    </tr>\n",
       "  </tbody>\n",
       "</table>\n",
       "</div>"
      ],
      "text/plain": [
       "      own_immig  own_jobs  own_costliv  own_climate  own_abort   own_gun  \\\n",
       "-7.0      0.000  0.000000     0.000000     0.000000   0.000667  0.000000   \n",
       " 1.0      0.294  0.337333     0.309333     0.423333   0.442000  0.385333   \n",
       " 2.0      0.444  0.392667     0.400000     0.217333   0.290000  0.376667   \n",
       " 3.0      0.262  0.270000     0.290667     0.359333   0.267333  0.238000   \n",
       "\n",
       "      own_crime  own_gaza  own_antisem  own_votright  own_ukraine  \\\n",
       "-7.0   0.000000  0.000000     0.000667      0.000000     0.001333   \n",
       " 1.0   0.266667  0.272667     0.310667      0.404000     0.349333   \n",
       " 2.0   0.399333  0.305333     0.258667      0.296667     0.280000   \n",
       " 3.0   0.334000  0.422000     0.430000      0.299333     0.369333   \n",
       "\n",
       "      own_schteach  own_islamop  \n",
       "-7.0      0.000000     0.000667  \n",
       " 1.0      0.354000     0.363333  \n",
       " 2.0      0.361333     0.188667  \n",
       " 3.0      0.284667     0.447333  "
      ]
     },
     "execution_count": 333,
     "metadata": {},
     "output_type": "execute_result"
    },
    {
     "data": {
      "application/javascript": [
       "\n",
       "            setTimeout(function() {\n",
       "                var nbb_cell_id = 333;\n",
       "                var nbb_unformatted_code = \"columns = issue_names.keys()\\ncounts = value_count_frame(df, columns, normalize=True)\\ncounts\";\n",
       "                var nbb_formatted_code = \"columns = issue_names.keys()\\ncounts = value_count_frame(df, columns, normalize=True)\\ncounts\";\n",
       "                var nbb_cells = Jupyter.notebook.get_cells();\n",
       "                for (var i = 0; i < nbb_cells.length; ++i) {\n",
       "                    if (nbb_cells[i].input_prompt_number == nbb_cell_id) {\n",
       "                        if (nbb_cells[i].get_text() == nbb_unformatted_code) {\n",
       "                             nbb_cells[i].set_text(nbb_formatted_code);\n",
       "                        }\n",
       "                        break;\n",
       "                    }\n",
       "                }\n",
       "            }, 500);\n",
       "            "
      ],
      "text/plain": [
       "<IPython.core.display.Javascript object>"
      ]
     },
     "metadata": {},
     "output_type": "display_data"
    }
   ],
   "source": [
    "columns = issue_names.keys()\n",
    "counts = value_count_frame(df, columns, normalize=True)\n",
    "counts"
   ]
  },
  {
   "cell_type": "markdown",
   "id": "13ed623e",
   "metadata": {},
   "source": [
    "Most people answered all 13 questions, but a few answered 12 or 11."
   ]
  },
  {
   "cell_type": "code",
   "execution_count": 334,
   "id": "5bf24432",
   "metadata": {},
   "outputs": [
    {
     "data": {
      "text/html": [
       "<div>\n",
       "<style scoped>\n",
       "    .dataframe tbody tr th:only-of-type {\n",
       "        vertical-align: middle;\n",
       "    }\n",
       "\n",
       "    .dataframe tbody tr th {\n",
       "        vertical-align: top;\n",
       "    }\n",
       "\n",
       "    .dataframe thead th {\n",
       "        text-align: right;\n",
       "    }\n",
       "</style>\n",
       "<table border=\"1\" class=\"dataframe\">\n",
       "  <thead>\n",
       "    <tr style=\"text-align: right;\">\n",
       "      <th></th>\n",
       "      <th>counts</th>\n",
       "    </tr>\n",
       "    <tr>\n",
       "      <th>values</th>\n",
       "      <th></th>\n",
       "    </tr>\n",
       "  </thead>\n",
       "  <tbody>\n",
       "    <tr>\n",
       "      <th>11</th>\n",
       "      <td>1</td>\n",
       "    </tr>\n",
       "    <tr>\n",
       "      <th>12</th>\n",
       "      <td>3</td>\n",
       "    </tr>\n",
       "    <tr>\n",
       "      <th>13</th>\n",
       "      <td>1496</td>\n",
       "    </tr>\n",
       "  </tbody>\n",
       "</table>\n",
       "</div>"
      ],
      "text/plain": [
       "        counts\n",
       "values        \n",
       "11           1\n",
       "12           3\n",
       "13        1496"
      ]
     },
     "execution_count": 334,
     "metadata": {},
     "output_type": "execute_result"
    },
    {
     "data": {
      "application/javascript": [
       "\n",
       "            setTimeout(function() {\n",
       "                var nbb_cell_id = 334;\n",
       "                var nbb_unformatted_code = \"data = df[columns].replace(-7, np.nan)\\ncount = data.count(axis=1)\\nvalue_counts(count)\";\n",
       "                var nbb_formatted_code = \"data = df[columns].replace(-7, np.nan)\\ncount = data.count(axis=1)\\nvalue_counts(count)\";\n",
       "                var nbb_cells = Jupyter.notebook.get_cells();\n",
       "                for (var i = 0; i < nbb_cells.length; ++i) {\n",
       "                    if (nbb_cells[i].input_prompt_number == nbb_cell_id) {\n",
       "                        if (nbb_cells[i].get_text() == nbb_unformatted_code) {\n",
       "                             nbb_cells[i].set_text(nbb_formatted_code);\n",
       "                        }\n",
       "                        break;\n",
       "                    }\n",
       "                }\n",
       "            }, 500);\n",
       "            "
      ],
      "text/plain": [
       "<IPython.core.display.Javascript object>"
      ]
     },
     "metadata": {},
     "output_type": "display_data"
    }
   ],
   "source": [
    "data = df[columns].replace(-7, np.nan)\n",
    "count = data.count(axis=1)\n",
    "value_counts(count)"
   ]
  },
  {
   "cell_type": "code",
   "execution_count": 335,
   "id": "0117f66a",
   "metadata": {},
   "outputs": [
    {
     "data": {
      "text/html": [
       "<div>\n",
       "<style scoped>\n",
       "    .dataframe tbody tr th:only-of-type {\n",
       "        vertical-align: middle;\n",
       "    }\n",
       "\n",
       "    .dataframe tbody tr th {\n",
       "        vertical-align: top;\n",
       "    }\n",
       "\n",
       "    .dataframe thead tr th {\n",
       "        text-align: left;\n",
       "    }\n",
       "</style>\n",
       "<table border=\"1\" class=\"dataframe\">\n",
       "  <thead>\n",
       "    <tr>\n",
       "      <th></th>\n",
       "      <th colspan=\"9\" halign=\"left\">male</th>\n",
       "      <th colspan=\"9\" halign=\"left\">female</th>\n",
       "    </tr>\n",
       "    <tr>\n",
       "      <th></th>\n",
       "      <th colspan=\"3\" halign=\"left\">Democrats</th>\n",
       "      <th colspan=\"3\" halign=\"left\">Republicans</th>\n",
       "      <th colspan=\"3\" halign=\"left\">No Difference</th>\n",
       "      <th colspan=\"3\" halign=\"left\">Democrats</th>\n",
       "      <th colspan=\"3\" halign=\"left\">Republicans</th>\n",
       "      <th colspan=\"3\" halign=\"left\">No Difference</th>\n",
       "    </tr>\n",
       "    <tr>\n",
       "      <th></th>\n",
       "      <th>p</th>\n",
       "      <th>low</th>\n",
       "      <th>high</th>\n",
       "      <th>p</th>\n",
       "      <th>low</th>\n",
       "      <th>high</th>\n",
       "      <th>p</th>\n",
       "      <th>low</th>\n",
       "      <th>high</th>\n",
       "      <th>p</th>\n",
       "      <th>low</th>\n",
       "      <th>high</th>\n",
       "      <th>p</th>\n",
       "      <th>low</th>\n",
       "      <th>high</th>\n",
       "      <th>p</th>\n",
       "      <th>low</th>\n",
       "      <th>high</th>\n",
       "    </tr>\n",
       "  </thead>\n",
       "  <tbody>\n",
       "    <tr>\n",
       "      <th>own_islamop</th>\n",
       "      <td>37.59521</td>\n",
       "      <td>34.691419</td>\n",
       "      <td>40.590991</td>\n",
       "      <td>21.24191</td>\n",
       "      <td>18.855643</td>\n",
       "      <td>23.84144</td>\n",
       "      <td>41.16288</td>\n",
       "      <td>38.198783</td>\n",
       "      <td>44.192512</td>\n",
       "      <td>35.07321</td>\n",
       "      <td>32.304806</td>\n",
       "      <td>37.945872</td>\n",
       "      <td>16.679557</td>\n",
       "      <td>14.589797</td>\n",
       "      <td>19.002049</td>\n",
       "      <td>48.247233</td>\n",
       "      <td>45.30037</td>\n",
       "      <td>51.206339</td>\n",
       "    </tr>\n",
       "    <tr>\n",
       "      <th>own_climate</th>\n",
       "      <td>46.89905</td>\n",
       "      <td>43.873886</td>\n",
       "      <td>49.947177</td>\n",
       "      <td>24.423595</td>\n",
       "      <td>21.90228</td>\n",
       "      <td>27.134313</td>\n",
       "      <td>28.677355</td>\n",
       "      <td>26.00322</td>\n",
       "      <td>31.509391</td>\n",
       "      <td>39.659279</td>\n",
       "      <td>36.804254</td>\n",
       "      <td>42.58653</td>\n",
       "      <td>18.605599</td>\n",
       "      <td>16.412899</td>\n",
       "      <td>21.017577</td>\n",
       "      <td>41.735123</td>\n",
       "      <td>38.849696</td>\n",
       "      <td>44.678277</td>\n",
       "    </tr>\n",
       "    <tr>\n",
       "      <th>own_antisem</th>\n",
       "      <td>32.75816</td>\n",
       "      <td>29.965425</td>\n",
       "      <td>35.678578</td>\n",
       "      <td>29.198709</td>\n",
       "      <td>26.507969</td>\n",
       "      <td>32.043489</td>\n",
       "      <td>38.043131</td>\n",
       "      <td>35.132866</td>\n",
       "      <td>41.04194</td>\n",
       "      <td>30.021202</td>\n",
       "      <td>27.380515</td>\n",
       "      <td>32.801532</td>\n",
       "      <td>21.989047</td>\n",
       "      <td>19.636537</td>\n",
       "      <td>24.53734</td>\n",
       "      <td>47.989751</td>\n",
       "      <td>45.043329</td>\n",
       "      <td>50.950224</td>\n",
       "    </tr>\n",
       "    <tr>\n",
       "      <th>own_ukraine</th>\n",
       "      <td>40.025936</td>\n",
       "      <td>37.081306</td>\n",
       "      <td>43.044427</td>\n",
       "      <td>29.961764</td>\n",
       "      <td>27.247508</td>\n",
       "      <td>32.824409</td>\n",
       "      <td>30.0123</td>\n",
       "      <td>27.29652</td>\n",
       "      <td>32.876096</td>\n",
       "      <td>30.668799</td>\n",
       "      <td>28.00764</td>\n",
       "      <td>33.465274</td>\n",
       "      <td>24.48104</td>\n",
       "      <td>22.025056</td>\n",
       "      <td>27.115652</td>\n",
       "      <td>44.850161</td>\n",
       "      <td>41.925861</td>\n",
       "      <td>47.810508</td>\n",
       "    </tr>\n",
       "    <tr>\n",
       "      <th>own_abort</th>\n",
       "      <td>46.713028</td>\n",
       "      <td>43.687984</td>\n",
       "      <td>49.762435</td>\n",
       "      <td>30.846289</td>\n",
       "      <td>28.104776</td>\n",
       "      <td>33.729764</td>\n",
       "      <td>22.440683</td>\n",
       "      <td>20.001081</td>\n",
       "      <td>25.084547</td>\n",
       "      <td>43.476125</td>\n",
       "      <td>40.569285</td>\n",
       "      <td>46.428532</td>\n",
       "      <td>26.628336</td>\n",
       "      <td>24.09656</td>\n",
       "      <td>29.323354</td>\n",
       "      <td>29.895539</td>\n",
       "      <td>27.259429</td>\n",
       "      <td>32.672073</td>\n",
       "    </tr>\n",
       "    <tr>\n",
       "      <th>own_votright</th>\n",
       "      <td>45.06462</td>\n",
       "      <td>42.055216</td>\n",
       "      <td>48.110572</td>\n",
       "      <td>31.354794</td>\n",
       "      <td>28.599961</td>\n",
       "      <td>34.247701</td>\n",
       "      <td>23.580586</td>\n",
       "      <td>21.093482</td>\n",
       "      <td>26.263335</td>\n",
       "      <td>36.494404</td>\n",
       "      <td>33.696218</td>\n",
       "      <td>39.386923</td>\n",
       "      <td>26.85223</td>\n",
       "      <td>24.312747</td>\n",
       "      <td>29.553392</td>\n",
       "      <td>36.653366</td>\n",
       "      <td>33.852015</td>\n",
       "      <td>39.547938</td>\n",
       "    </tr>\n",
       "    <tr>\n",
       "      <th>own_gaza</th>\n",
       "      <td>29.765801</td>\n",
       "      <td>27.057496</td>\n",
       "      <td>32.623946</td>\n",
       "      <td>31.632286</td>\n",
       "      <td>28.869725</td>\n",
       "      <td>34.530866</td>\n",
       "      <td>38.601913</td>\n",
       "      <td>35.681444</td>\n",
       "      <td>41.60679</td>\n",
       "      <td>25.097698</td>\n",
       "      <td>22.620938</td>\n",
       "      <td>27.748392</td>\n",
       "      <td>28.37616</td>\n",
       "      <td>25.786432</td>\n",
       "      <td>31.116923</td>\n",
       "      <td>46.526142</td>\n",
       "      <td>43.590594</td>\n",
       "      <td>49.485953</td>\n",
       "    </tr>\n",
       "    <tr>\n",
       "      <th>own_schteach</th>\n",
       "      <td>37.480616</td>\n",
       "      <td>34.581042</td>\n",
       "      <td>40.4729</td>\n",
       "      <td>38.522677</td>\n",
       "      <td>35.60363</td>\n",
       "      <td>41.526718</td>\n",
       "      <td>23.996707</td>\n",
       "      <td>21.492544</td>\n",
       "      <td>26.693434</td>\n",
       "      <td>33.286087</td>\n",
       "      <td>30.559027</td>\n",
       "      <td>36.129887</td>\n",
       "      <td>32.268171</td>\n",
       "      <td>29.566657</td>\n",
       "      <td>35.093536</td>\n",
       "      <td>34.445742</td>\n",
       "      <td>31.691354</td>\n",
       "      <td>37.308772</td>\n",
       "    </tr>\n",
       "    <tr>\n",
       "      <th>own_gun</th>\n",
       "      <td>39.977109</td>\n",
       "      <td>37.033264</td>\n",
       "      <td>42.995177</td>\n",
       "      <td>40.353977</td>\n",
       "      <td>37.404154</td>\n",
       "      <td>43.375233</td>\n",
       "      <td>19.668914</td>\n",
       "      <td>17.35987</td>\n",
       "      <td>22.202569</td>\n",
       "      <td>37.267235</td>\n",
       "      <td>34.453976</td>\n",
       "      <td>40.169428</td>\n",
       "      <td>33.868318</td>\n",
       "      <td>31.127304</td>\n",
       "      <td>36.722006</td>\n",
       "      <td>28.864447</td>\n",
       "      <td>26.259417</td>\n",
       "      <td>31.617101</td>\n",
       "    </tr>\n",
       "    <tr>\n",
       "      <th>own_jobs</th>\n",
       "      <td>38.097871</td>\n",
       "      <td>35.186589</td>\n",
       "      <td>41.097293</td>\n",
       "      <td>41.110651</td>\n",
       "      <td>38.149374</td>\n",
       "      <td>44.137757</td>\n",
       "      <td>20.791478</td>\n",
       "      <td>18.427889</td>\n",
       "      <td>23.371366</td>\n",
       "      <td>32.053116</td>\n",
       "      <td>29.357189</td>\n",
       "      <td>34.874396</td>\n",
       "      <td>35.458171</td>\n",
       "      <td>32.681433</td>\n",
       "      <td>38.336479</td>\n",
       "      <td>32.488712</td>\n",
       "      <td>29.781538</td>\n",
       "      <td>35.318196</td>\n",
       "    </tr>\n",
       "    <tr>\n",
       "      <th>own_crime</th>\n",
       "      <td>28.237016</td>\n",
       "      <td>25.577252</td>\n",
       "      <td>31.057943</td>\n",
       "      <td>41.221104</td>\n",
       "      <td>38.258216</td>\n",
       "      <td>44.249003</td>\n",
       "      <td>30.54188</td>\n",
       "      <td>27.810362</td>\n",
       "      <td>33.417492</td>\n",
       "      <td>24.962201</td>\n",
       "      <td>22.490511</td>\n",
       "      <td>27.608772</td>\n",
       "      <td>36.575277</td>\n",
       "      <td>33.775477</td>\n",
       "      <td>39.468845</td>\n",
       "      <td>38.462521</td>\n",
       "      <td>35.627478</td>\n",
       "      <td>41.37815</td>\n",
       "    </tr>\n",
       "    <tr>\n",
       "      <th>own_costliv</th>\n",
       "      <td>33.511813</td>\n",
       "      <td>30.69992</td>\n",
       "      <td>36.445807</td>\n",
       "      <td>41.600201</td>\n",
       "      <td>38.631902</td>\n",
       "      <td>44.630704</td>\n",
       "      <td>24.887986</td>\n",
       "      <td>22.348407</td>\n",
       "      <td>27.613529</td>\n",
       "      <td>29.00159</td>\n",
       "      <td>26.39233</td>\n",
       "      <td>31.757516</td>\n",
       "      <td>37.263662</td>\n",
       "      <td>34.45047</td>\n",
       "      <td>40.165812</td>\n",
       "      <td>33.734748</td>\n",
       "      <td>30.996894</td>\n",
       "      <td>36.586209</td>\n",
       "    </tr>\n",
       "    <tr>\n",
       "      <th>own_immig</th>\n",
       "      <td>31.896499</td>\n",
       "      <td>29.126687</td>\n",
       "      <td>34.800374</td>\n",
       "      <td>45.920854</td>\n",
       "      <td>42.903582</td>\n",
       "      <td>48.968334</td>\n",
       "      <td>22.182647</td>\n",
       "      <td>19.755399</td>\n",
       "      <td>24.815892</td>\n",
       "      <td>28.257456</td>\n",
       "      <td>25.671505</td>\n",
       "      <td>30.995271</td>\n",
       "      <td>41.207882</td>\n",
       "      <td>38.329671</td>\n",
       "      <td>44.147503</td>\n",
       "      <td>30.534662</td>\n",
       "      <td>27.880107</td>\n",
       "      <td>33.325175</td>\n",
       "    </tr>\n",
       "  </tbody>\n",
       "</table>\n",
       "</div>"
      ],
      "text/plain": [
       "                   male                                               \\\n",
       "              Democrats                       Republicans              \n",
       "                      p        low       high           p        low   \n",
       "own_islamop    37.59521  34.691419  40.590991    21.24191  18.855643   \n",
       "own_climate    46.89905  43.873886  49.947177   24.423595   21.90228   \n",
       "own_antisem    32.75816  29.965425  35.678578   29.198709  26.507969   \n",
       "own_ukraine   40.025936  37.081306  43.044427   29.961764  27.247508   \n",
       "own_abort     46.713028  43.687984  49.762435   30.846289  28.104776   \n",
       "own_votright   45.06462  42.055216  48.110572   31.354794  28.599961   \n",
       "own_gaza      29.765801  27.057496  32.623946   31.632286  28.869725   \n",
       "own_schteach  37.480616  34.581042    40.4729   38.522677   35.60363   \n",
       "own_gun       39.977109  37.033264  42.995177   40.353977  37.404154   \n",
       "own_jobs      38.097871  35.186589  41.097293   41.110651  38.149374   \n",
       "own_crime     28.237016  25.577252  31.057943   41.221104  38.258216   \n",
       "own_costliv   33.511813   30.69992  36.445807   41.600201  38.631902   \n",
       "own_immig     31.896499  29.126687  34.800374   45.920854  42.903582   \n",
       "\n",
       "                                                                female  \\\n",
       "                        No Difference                        Democrats   \n",
       "                   high             p        low       high          p   \n",
       "own_islamop    23.84144      41.16288  38.198783  44.192512   35.07321   \n",
       "own_climate   27.134313     28.677355   26.00322  31.509391  39.659279   \n",
       "own_antisem   32.043489     38.043131  35.132866   41.04194  30.021202   \n",
       "own_ukraine   32.824409       30.0123   27.29652  32.876096  30.668799   \n",
       "own_abort     33.729764     22.440683  20.001081  25.084547  43.476125   \n",
       "own_votright  34.247701     23.580586  21.093482  26.263335  36.494404   \n",
       "own_gaza      34.530866     38.601913  35.681444   41.60679  25.097698   \n",
       "own_schteach  41.526718     23.996707  21.492544  26.693434  33.286087   \n",
       "own_gun       43.375233     19.668914   17.35987  22.202569  37.267235   \n",
       "own_jobs      44.137757     20.791478  18.427889  23.371366  32.053116   \n",
       "own_crime     44.249003      30.54188  27.810362  33.417492  24.962201   \n",
       "own_costliv   44.630704     24.887986  22.348407  27.613529   29.00159   \n",
       "own_immig     48.968334     22.182647  19.755399  24.815892  28.257456   \n",
       "\n",
       "                                                                      \\\n",
       "                                   Republicans                         \n",
       "                    low       high           p        low       high   \n",
       "own_islamop   32.304806  37.945872   16.679557  14.589797  19.002049   \n",
       "own_climate   36.804254   42.58653   18.605599  16.412899  21.017577   \n",
       "own_antisem   27.380515  32.801532   21.989047  19.636537   24.53734   \n",
       "own_ukraine    28.00764  33.465274    24.48104  22.025056  27.115652   \n",
       "own_abort     40.569285  46.428532   26.628336   24.09656  29.323354   \n",
       "own_votright  33.696218  39.386923    26.85223  24.312747  29.553392   \n",
       "own_gaza      22.620938  27.748392    28.37616  25.786432  31.116923   \n",
       "own_schteach  30.559027  36.129887   32.268171  29.566657  35.093536   \n",
       "own_gun       34.453976  40.169428   33.868318  31.127304  36.722006   \n",
       "own_jobs      29.357189  34.874396   35.458171  32.681433  38.336479   \n",
       "own_crime     22.490511  27.608772   36.575277  33.775477  39.468845   \n",
       "own_costliv    26.39233  31.757516   37.263662   34.45047  40.165812   \n",
       "own_immig     25.671505  30.995271   41.207882  38.329671  44.147503   \n",
       "\n",
       "                                                  \n",
       "             No Difference                        \n",
       "                         p        low       high  \n",
       "own_islamop      48.247233   45.30037  51.206339  \n",
       "own_climate      41.735123  38.849696  44.678277  \n",
       "own_antisem      47.989751  45.043329  50.950224  \n",
       "own_ukraine      44.850161  41.925861  47.810508  \n",
       "own_abort        29.895539  27.259429  32.672073  \n",
       "own_votright     36.653366  33.852015  39.547938  \n",
       "own_gaza         46.526142  43.590594  49.485953  \n",
       "own_schteach     34.445742  31.691354  37.308772  \n",
       "own_gun          28.864447  26.259417  31.617101  \n",
       "own_jobs         32.488712  29.781538  35.318196  \n",
       "own_crime        38.462521  35.627478   41.37815  \n",
       "own_costliv      33.734748  30.996894  36.586209  \n",
       "own_immig        30.534662  27.880107  33.325175  "
      ]
     },
     "execution_count": 335,
     "metadata": {},
     "output_type": "execute_result"
    },
    {
     "data": {
      "application/javascript": [
       "\n",
       "            setTimeout(function() {\n",
       "                var nbb_cell_id = 335;\n",
       "                var nbb_unformatted_code = \"value_map = {\\\"Democrats\\\": [1], \\\"Republicans\\\": [2], \\\"No Difference\\\": [3]}\\ngender_map = dict(male=df_male, female=df_female)\\nsummary = estimate_gender_map(df, columns, gender_map, value_map).sort_values(\\n    by=(\\\"male\\\", \\\"Republicans\\\", \\\"p\\\")\\n)\\nsummary\";\n",
       "                var nbb_formatted_code = \"value_map = {\\\"Democrats\\\": [1], \\\"Republicans\\\": [2], \\\"No Difference\\\": [3]}\\ngender_map = dict(male=df_male, female=df_female)\\nsummary = estimate_gender_map(df, columns, gender_map, value_map).sort_values(\\n    by=(\\\"male\\\", \\\"Republicans\\\", \\\"p\\\")\\n)\\nsummary\";\n",
       "                var nbb_cells = Jupyter.notebook.get_cells();\n",
       "                for (var i = 0; i < nbb_cells.length; ++i) {\n",
       "                    if (nbb_cells[i].input_prompt_number == nbb_cell_id) {\n",
       "                        if (nbb_cells[i].get_text() == nbb_unformatted_code) {\n",
       "                             nbb_cells[i].set_text(nbb_formatted_code);\n",
       "                        }\n",
       "                        break;\n",
       "                    }\n",
       "                }\n",
       "            }, 500);\n",
       "            "
      ],
      "text/plain": [
       "<IPython.core.display.Javascript object>"
      ]
     },
     "metadata": {},
     "output_type": "display_data"
    }
   ],
   "source": [
    "value_map = {\"Democrats\": [1], \"Republicans\": [2], \"No Difference\": [3]}\n",
    "gender_map = dict(male=df_male, female=df_female)\n",
    "summary = estimate_gender_map(df, columns, gender_map, value_map).sort_values(\n",
    "    by=(\"male\", \"Republicans\", \"p\")\n",
    ")\n",
    "summary"
   ]
  },
  {
   "cell_type": "code",
   "execution_count": 336,
   "id": "6f61dac3",
   "metadata": {},
   "outputs": [
    {
     "data": {
      "application/javascript": [
       "\n",
       "            setTimeout(function() {\n",
       "                var nbb_cell_id = 336;\n",
       "                var nbb_unformatted_code = \"names = [issue_names[col] for col in summary.index]\";\n",
       "                var nbb_formatted_code = \"names = [issue_names[col] for col in summary.index]\";\n",
       "                var nbb_cells = Jupyter.notebook.get_cells();\n",
       "                for (var i = 0; i < nbb_cells.length; ++i) {\n",
       "                    if (nbb_cells[i].input_prompt_number == nbb_cell_id) {\n",
       "                        if (nbb_cells[i].get_text() == nbb_unformatted_code) {\n",
       "                             nbb_cells[i].set_text(nbb_formatted_code);\n",
       "                        }\n",
       "                        break;\n",
       "                    }\n",
       "                }\n",
       "            }, 500);\n",
       "            "
      ],
      "text/plain": [
       "<IPython.core.display.Javascript object>"
      ]
     },
     "metadata": {},
     "output_type": "display_data"
    }
   ],
   "source": [
    "names = [issue_names[col] for col in summary.index]"
   ]
  },
  {
   "cell_type": "markdown",
   "id": "0c58d0a8",
   "metadata": {},
   "source": [
    "For every issue, men are more likely to say that the Republicans handle it better."
   ]
  },
  {
   "cell_type": "code",
   "execution_count": 341,
   "id": "fd33ae31",
   "metadata": {},
   "outputs": [
    {
     "data": {
      "image/png": "[encoded data removed]",
      "text/plain": [
       "<Figure size 700x500 with 1 Axes>"
      ]
     },
     "metadata": {},
     "output_type": "display_data"
    },
    {
     "data": {
      "application/javascript": [
       "\n",
       "            setTimeout(function() {\n",
       "                var nbb_cell_id = 341;\n",
       "                var nbb_unformatted_code = \"title = \\\"\\\"\\\"Which political party would do a better job handling \\neach of the following issues, or is there no difference?\\\"\\\"\\\"\\n\\nplt.figure(figsize=(7, 5))\\nmake_title(title, pad=20)\\nplot_responses_by_gender(summary, \\\"Republicans\\\", alpha=0.9)\";\n",
       "                var nbb_formatted_code = \"title = \\\"\\\"\\\"Which political party would do a better job handling \\neach of the following issues, or is there no difference?\\\"\\\"\\\"\\n\\nplt.figure(figsize=(7, 5))\\nmake_title(title, pad=20)\\nplot_responses_by_gender(summary, \\\"Republicans\\\", alpha=0.9)\";\n",
       "                var nbb_cells = Jupyter.notebook.get_cells();\n",
       "                for (var i = 0; i < nbb_cells.length; ++i) {\n",
       "                    if (nbb_cells[i].input_prompt_number == nbb_cell_id) {\n",
       "                        if (nbb_cells[i].get_text() == nbb_unformatted_code) {\n",
       "                             nbb_cells[i].set_text(nbb_formatted_code);\n",
       "                        }\n",
       "                        break;\n",
       "                    }\n",
       "                }\n",
       "            }, 500);\n",
       "            "
      ],
      "text/plain": [
       "<IPython.core.display.Javascript object>"
      ]
     },
     "metadata": {},
     "output_type": "display_data"
    }
   ],
   "source": [
    "title = \"\"\"Which political party would do a better job handling \n",
    "each of the following issues, or is there no difference?\"\"\"\n",
    "\n",
    "plt.figure(figsize=(7, 5))\n",
    "make_title(title, pad=20)\n",
    "plot_responses_by_gender(summary, \"Republicans\", alpha=0.9)"
   ]
  },
  {
   "cell_type": "markdown",
   "id": "db3ea1df",
   "metadata": {},
   "source": [
    "But they are also more likely to say that Democrats handle it better."
   ]
  },
  {
   "cell_type": "code",
   "execution_count": 342,
   "id": "a54edd65",
   "metadata": {},
   "outputs": [
    {
     "data": {
      "image/png": "[encoded data removed]",
      "text/plain": [
       "<Figure size 700x500 with 1 Axes>"
      ]
     },
     "metadata": {},
     "output_type": "display_data"
    },
    {
     "data": {
      "application/javascript": [
       "\n",
       "            setTimeout(function() {\n",
       "                var nbb_cell_id = 342;\n",
       "                var nbb_unformatted_code = \"plt.figure(figsize=(7, 5))\\nmake_title(title, pad=20)\\nplot_responses_by_gender(summary, \\\"Democrats\\\", alpha=0.9)\";\n",
       "                var nbb_formatted_code = \"plt.figure(figsize=(7, 5))\\nmake_title(title, pad=20)\\nplot_responses_by_gender(summary, \\\"Democrats\\\", alpha=0.9)\";\n",
       "                var nbb_cells = Jupyter.notebook.get_cells();\n",
       "                for (var i = 0; i < nbb_cells.length; ++i) {\n",
       "                    if (nbb_cells[i].input_prompt_number == nbb_cell_id) {\n",
       "                        if (nbb_cells[i].get_text() == nbb_unformatted_code) {\n",
       "                             nbb_cells[i].set_text(nbb_formatted_code);\n",
       "                        }\n",
       "                        break;\n",
       "                    }\n",
       "                }\n",
       "            }, 500);\n",
       "            "
      ],
      "text/plain": [
       "<IPython.core.display.Javascript object>"
      ]
     },
     "metadata": {},
     "output_type": "display_data"
    }
   ],
   "source": [
    "plt.figure(figsize=(7, 5))\n",
    "make_title(title, pad=20)\n",
    "plot_responses_by_gender(summary, \"Democrats\", alpha=0.9)"
   ]
  },
  {
   "cell_type": "markdown",
   "id": "3ca49a94",
   "metadata": {},
   "source": [
    "Because they are less likely to say that the two parties would handle it equally well -- which might mean that the respondent thinks the policies of the parties are the same, or might mean that they agree/disagree with the policies of the two parties by about the same amount. \n",
    "\n",
    "As an example of the latter, I recently heard an interview with a woman who was strongly opposed to abortion on religious grounds, but also in favor of legal access to abortion. Depending on her interpretation of R and D policies, she might consider herself equally at odds with both."
   ]
  },
  {
   "cell_type": "code",
   "execution_count": 343,
   "id": "8cd1f7ad",
   "metadata": {
    "scrolled": true
   },
   "outputs": [
    {
     "data": {
      "image/png": "[encoded data removed]",
      "text/plain": [
       "<Figure size 700x500 with 1 Axes>"
      ]
     },
     "metadata": {},
     "output_type": "display_data"
    },
    {
     "data": {
      "application/javascript": [
       "\n",
       "            setTimeout(function() {\n",
       "                var nbb_cell_id = 343;\n",
       "                var nbb_unformatted_code = \"plt.figure(figsize=(7, 5))\\nmake_title(title, pad=20)\\nplot_responses_by_gender(summary, \\\"No Difference\\\", alpha=0.9)\";\n",
       "                var nbb_formatted_code = \"plt.figure(figsize=(7, 5))\\nmake_title(title, pad=20)\\nplot_responses_by_gender(summary, \\\"No Difference\\\", alpha=0.9)\";\n",
       "                var nbb_cells = Jupyter.notebook.get_cells();\n",
       "                for (var i = 0; i < nbb_cells.length; ++i) {\n",
       "                    if (nbb_cells[i].input_prompt_number == nbb_cell_id) {\n",
       "                        if (nbb_cells[i].get_text() == nbb_unformatted_code) {\n",
       "                             nbb_cells[i].set_text(nbb_formatted_code);\n",
       "                        }\n",
       "                        break;\n",
       "                    }\n",
       "                }\n",
       "            }, 500);\n",
       "            "
      ],
      "text/plain": [
       "<IPython.core.display.Javascript object>"
      ]
     },
     "metadata": {},
     "output_type": "display_data"
    }
   ],
   "source": [
    "plt.figure(figsize=(7, 5))\n",
    "make_title(title, pad=20)\n",
    "plot_responses_by_gender(summary, \"No Difference\", alpha=0.9)"
   ]
  },
  {
   "cell_type": "code",
   "execution_count": 344,
   "id": "dbe1aa9f",
   "metadata": {},
   "outputs": [
    {
     "data": {
      "text/plain": [
       "0.29161290322580646"
      ]
     },
     "execution_count": 344,
     "metadata": {},
     "output_type": "execute_result"
    },
    {
     "data": {
      "application/javascript": [
       "\n",
       "            setTimeout(function() {\n",
       "                var nbb_cell_id = 344;\n",
       "                var nbb_unformatted_code = \"(df.query(\\\"gender==2\\\")[\\\"own_abort\\\"] == 3).mean()\";\n",
       "                var nbb_formatted_code = \"(df.query(\\\"gender==2\\\")[\\\"own_abort\\\"] == 3).mean()\";\n",
       "                var nbb_cells = Jupyter.notebook.get_cells();\n",
       "                for (var i = 0; i < nbb_cells.length; ++i) {\n",
       "                    if (nbb_cells[i].input_prompt_number == nbb_cell_id) {\n",
       "                        if (nbb_cells[i].get_text() == nbb_unformatted_code) {\n",
       "                             nbb_cells[i].set_text(nbb_formatted_code);\n",
       "                        }\n",
       "                        break;\n",
       "                    }\n",
       "                }\n",
       "            }, 500);\n",
       "            "
      ],
      "text/plain": [
       "<IPython.core.display.Javascript object>"
      ]
     },
     "metadata": {},
     "output_type": "display_data"
    }
   ],
   "source": [
    "(df.query(\"gender==2\")[\"own_abort\"] == 3).mean()"
   ]
  },
  {
   "cell_type": "markdown",
   "id": "e77bde9b",
   "metadata": {},
   "source": [
    "## Alignment with party\n",
    "\n",
    "\n",
    "For each respondents, we add up the fraction of responses in each of the three categories, and the party they were more favorable toward. "
   ]
  },
  {
   "cell_type": "code",
   "execution_count": 46,
   "id": "74ded13e",
   "metadata": {},
   "outputs": [
    {
     "data": {
      "text/html": [
       "<div>\n",
       "<style scoped>\n",
       "    .dataframe tbody tr th:only-of-type {\n",
       "        vertical-align: middle;\n",
       "    }\n",
       "\n",
       "    .dataframe tbody tr th {\n",
       "        vertical-align: top;\n",
       "    }\n",
       "\n",
       "    .dataframe thead th {\n",
       "        text-align: right;\n",
       "    }\n",
       "</style>\n",
       "<table border=\"1\" class=\"dataframe\">\n",
       "  <thead>\n",
       "    <tr style=\"text-align: right;\">\n",
       "      <th></th>\n",
       "      <th>dem</th>\n",
       "      <th>rep</th>\n",
       "      <th>no_diff</th>\n",
       "      <th>pref</th>\n",
       "    </tr>\n",
       "  </thead>\n",
       "  <tbody>\n",
       "    <tr>\n",
       "      <th>901</th>\n",
       "      <td>0.000000</td>\n",
       "      <td>0.000000</td>\n",
       "      <td>1.000000</td>\n",
       "      <td>no diff</td>\n",
       "    </tr>\n",
       "    <tr>\n",
       "      <th>246</th>\n",
       "      <td>0.000000</td>\n",
       "      <td>0.461538</td>\n",
       "      <td>0.538462</td>\n",
       "      <td>rep</td>\n",
       "    </tr>\n",
       "    <tr>\n",
       "      <th>1624</th>\n",
       "      <td>1.000000</td>\n",
       "      <td>0.000000</td>\n",
       "      <td>0.000000</td>\n",
       "      <td>dem</td>\n",
       "    </tr>\n",
       "    <tr>\n",
       "      <th>1005</th>\n",
       "      <td>0.615385</td>\n",
       "      <td>0.000000</td>\n",
       "      <td>0.384615</td>\n",
       "      <td>dem</td>\n",
       "    </tr>\n",
       "    <tr>\n",
       "      <th>1160</th>\n",
       "      <td>0.000000</td>\n",
       "      <td>0.692308</td>\n",
       "      <td>0.307692</td>\n",
       "      <td>rep</td>\n",
       "    </tr>\n",
       "  </tbody>\n",
       "</table>\n",
       "</div>"
      ],
      "text/plain": [
       "           dem       rep   no_diff     pref\n",
       "901   0.000000  0.000000  1.000000  no diff\n",
       "246   0.000000  0.461538  0.538462      rep\n",
       "1624  1.000000  0.000000  0.000000      dem\n",
       "1005  0.615385  0.000000  0.384615      dem\n",
       "1160  0.000000  0.692308  0.307692      rep"
      ]
     },
     "execution_count": 46,
     "metadata": {},
     "output_type": "execute_result"
    },
    {
     "data": {
      "application/javascript": [
       "\n",
       "            setTimeout(function() {\n",
       "                var nbb_cell_id = 46;\n",
       "                var nbb_unformatted_code = \"sample[\\\"dem\\\"] = (data == 1).sum(axis=1) / count\\nsample[\\\"rep\\\"] = (data == 2).sum(axis=1) / count\\nsample[\\\"no_diff\\\"] = (data == 3).sum(axis=1) / count\\n\\nsample[\\\"pref\\\"] = \\\"no diff\\\"\\nsample.loc[sample[\\\"dem\\\"] > sample[\\\"rep\\\"], \\\"pref\\\"] = \\\"dem\\\"\\nsample.loc[sample[\\\"rep\\\"] > sample[\\\"dem\\\"], \\\"pref\\\"] = \\\"rep\\\"\\n\\nsample[[\\\"dem\\\", \\\"rep\\\", \\\"no_diff\\\", \\\"pref\\\"]].head()\";\n",
       "                var nbb_formatted_code = \"sample[\\\"dem\\\"] = (data == 1).sum(axis=1) / count\\nsample[\\\"rep\\\"] = (data == 2).sum(axis=1) / count\\nsample[\\\"no_diff\\\"] = (data == 3).sum(axis=1) / count\\n\\nsample[\\\"pref\\\"] = \\\"no diff\\\"\\nsample.loc[sample[\\\"dem\\\"] > sample[\\\"rep\\\"], \\\"pref\\\"] = \\\"dem\\\"\\nsample.loc[sample[\\\"rep\\\"] > sample[\\\"dem\\\"], \\\"pref\\\"] = \\\"rep\\\"\\n\\nsample[[\\\"dem\\\", \\\"rep\\\", \\\"no_diff\\\", \\\"pref\\\"]].head()\";\n",
       "                var nbb_cells = Jupyter.notebook.get_cells();\n",
       "                for (var i = 0; i < nbb_cells.length; ++i) {\n",
       "                    if (nbb_cells[i].input_prompt_number == nbb_cell_id) {\n",
       "                        if (nbb_cells[i].get_text() == nbb_unformatted_code) {\n",
       "                             nbb_cells[i].set_text(nbb_formatted_code);\n",
       "                        }\n",
       "                        break;\n",
       "                    }\n",
       "                }\n",
       "            }, 500);\n",
       "            "
      ],
      "text/plain": [
       "<IPython.core.display.Javascript object>"
      ]
     },
     "metadata": {},
     "output_type": "display_data"
    }
   ],
   "source": [
    "sample[\"dem\"] = (data == 1).sum(axis=1) / count\n",
    "sample[\"rep\"] = (data == 2).sum(axis=1) / count\n",
    "sample[\"no_diff\"] = (data == 3).sum(axis=1) / count\n",
    "\n",
    "sample[\"pref\"] = \"no diff\"\n",
    "sample.loc[sample[\"dem\"] > sample[\"rep\"], \"pref\"] = \"dem\"\n",
    "sample.loc[sample[\"rep\"] > sample[\"dem\"], \"pref\"] = \"rep\"\n",
    "\n",
    "sample[[\"dem\", \"rep\", \"no_diff\", \"pref\"]].head()"
   ]
  },
  {
   "cell_type": "code",
   "execution_count": 47,
   "id": "c6591b73",
   "metadata": {},
   "outputs": [
    {
     "data": {
      "text/html": [
       "<div>\n",
       "<style scoped>\n",
       "    .dataframe tbody tr th:only-of-type {\n",
       "        vertical-align: middle;\n",
       "    }\n",
       "\n",
       "    .dataframe tbody tr th {\n",
       "        vertical-align: top;\n",
       "    }\n",
       "\n",
       "    .dataframe thead th {\n",
       "        text-align: right;\n",
       "    }\n",
       "</style>\n",
       "<table border=\"1\" class=\"dataframe\">\n",
       "  <thead>\n",
       "    <tr style=\"text-align: right;\">\n",
       "      <th></th>\n",
       "      <th>counts</th>\n",
       "    </tr>\n",
       "    <tr>\n",
       "      <th>values</th>\n",
       "      <th></th>\n",
       "    </tr>\n",
       "  </thead>\n",
       "  <tbody>\n",
       "    <tr>\n",
       "      <th>dem</th>\n",
       "      <td>877</td>\n",
       "    </tr>\n",
       "    <tr>\n",
       "      <th>no diff</th>\n",
       "      <td>258</td>\n",
       "    </tr>\n",
       "    <tr>\n",
       "      <th>rep</th>\n",
       "      <td>774</td>\n",
       "    </tr>\n",
       "  </tbody>\n",
       "</table>\n",
       "</div>"
      ],
      "text/plain": [
       "         counts\n",
       "values         \n",
       "dem         877\n",
       "no diff     258\n",
       "rep         774"
      ]
     },
     "execution_count": 47,
     "metadata": {},
     "output_type": "execute_result"
    },
    {
     "data": {
      "application/javascript": [
       "\n",
       "            setTimeout(function() {\n",
       "                var nbb_cell_id = 47;\n",
       "                var nbb_unformatted_code = \"value_counts(sample[\\\"pref\\\"])\";\n",
       "                var nbb_formatted_code = \"value_counts(sample[\\\"pref\\\"])\";\n",
       "                var nbb_cells = Jupyter.notebook.get_cells();\n",
       "                for (var i = 0; i < nbb_cells.length; ++i) {\n",
       "                    if (nbb_cells[i].input_prompt_number == nbb_cell_id) {\n",
       "                        if (nbb_cells[i].get_text() == nbb_unformatted_code) {\n",
       "                             nbb_cells[i].set_text(nbb_formatted_code);\n",
       "                        }\n",
       "                        break;\n",
       "                    }\n",
       "                }\n",
       "            }, 500);\n",
       "            "
      ],
      "text/plain": [
       "<IPython.core.display.Javascript object>"
      ]
     },
     "metadata": {},
     "output_type": "display_data"
    }
   ],
   "source": [
    "value_counts(sample[\"pref\"])"
   ]
  },
  {
   "cell_type": "markdown",
   "id": "d11f0c5e",
   "metadata": {},
   "source": [
    "People who identify as Democrats are more likely to think the Democratic party handles these issues better, and people who identify as Republican are more likely to think the Republican party does -- but there are some exceptions in both directions, which might reflect data quality problems."
   ]
  },
  {
   "cell_type": "code",
   "execution_count": 48,
   "id": "0951e44c",
   "metadata": {},
   "outputs": [
    {
     "data": {
      "text/html": [
       "<div>\n",
       "<style scoped>\n",
       "    .dataframe tbody tr th:only-of-type {\n",
       "        vertical-align: middle;\n",
       "    }\n",
       "\n",
       "    .dataframe tbody tr th {\n",
       "        vertical-align: top;\n",
       "    }\n",
       "\n",
       "    .dataframe thead th {\n",
       "        text-align: right;\n",
       "    }\n",
       "</style>\n",
       "<table border=\"1\" class=\"dataframe\">\n",
       "  <thead>\n",
       "    <tr style=\"text-align: right;\">\n",
       "      <th>pref</th>\n",
       "      <th>dem</th>\n",
       "      <th>no diff</th>\n",
       "      <th>rep</th>\n",
       "    </tr>\n",
       "    <tr>\n",
       "      <th>pid</th>\n",
       "      <th></th>\n",
       "      <th></th>\n",
       "      <th></th>\n",
       "    </tr>\n",
       "  </thead>\n",
       "  <tbody>\n",
       "    <tr>\n",
       "      <th>1.0</th>\n",
       "      <td>583</td>\n",
       "      <td>45</td>\n",
       "      <td>38</td>\n",
       "    </tr>\n",
       "    <tr>\n",
       "      <th>2.0</th>\n",
       "      <td>35</td>\n",
       "      <td>41</td>\n",
       "      <td>466</td>\n",
       "    </tr>\n",
       "    <tr>\n",
       "      <th>3.0</th>\n",
       "      <td>259</td>\n",
       "      <td>172</td>\n",
       "      <td>270</td>\n",
       "    </tr>\n",
       "  </tbody>\n",
       "</table>\n",
       "</div>"
      ],
      "text/plain": [
       "pref  dem  no diff  rep\n",
       "pid                    \n",
       "1.0   583       45   38\n",
       "2.0    35       41  466\n",
       "3.0   259      172  270"
      ]
     },
     "execution_count": 48,
     "metadata": {},
     "output_type": "execute_result"
    },
    {
     "data": {
      "application/javascript": [
       "\n",
       "            setTimeout(function() {\n",
       "                var nbb_cell_id = 48;\n",
       "                var nbb_unformatted_code = \"pd.crosstab(sample[\\\"pid\\\"], sample[\\\"pref\\\"])\";\n",
       "                var nbb_formatted_code = \"pd.crosstab(sample[\\\"pid\\\"], sample[\\\"pref\\\"])\";\n",
       "                var nbb_cells = Jupyter.notebook.get_cells();\n",
       "                for (var i = 0; i < nbb_cells.length; ++i) {\n",
       "                    if (nbb_cells[i].input_prompt_number == nbb_cell_id) {\n",
       "                        if (nbb_cells[i].get_text() == nbb_unformatted_code) {\n",
       "                             nbb_cells[i].set_text(nbb_formatted_code);\n",
       "                        }\n",
       "                        break;\n",
       "                    }\n",
       "                }\n",
       "            }, 500);\n",
       "            "
      ],
      "text/plain": [
       "<IPython.core.display.Javascript object>"
      ]
     },
     "metadata": {},
     "output_type": "display_data"
    }
   ],
   "source": [
    "pd.crosstab(sample[\"pid\"], sample[\"pref\"])"
   ]
  },
  {
   "cell_type": "markdown",
   "id": "6be52b3a",
   "metadata": {},
   "source": [
    "Here's the distribution of partisanship."
   ]
  },
  {
   "cell_type": "code",
   "execution_count": 49,
   "id": "817960d1",
   "metadata": {},
   "outputs": [
    {
     "data": {
      "image/png": "[encoded data removed]",
      "text/plain": [
       "<Figure size 450x262.5 with 1 Axes>"
      ]
     },
     "metadata": {},
     "output_type": "display_data"
    },
    {
     "data": {
      "application/javascript": [
       "\n",
       "            setTimeout(function() {\n",
       "                var nbb_cell_id = 49;\n",
       "                var nbb_unformatted_code = \"from empiricaldist import Cdf\\n\\nsample[\\\"partisanship\\\"] = sample[[\\\"dem\\\", \\\"rep\\\"]].max(axis=1)\\nCdf.from_seq(sample[\\\"partisanship\\\"]).plot(label=\\\"partisanship\\\")\\ndecorate(xlabel=\\\"Partisanship\\\", ylabel=\\\"CDF\\\")\";\n",
       "                var nbb_formatted_code = \"from empiricaldist import Cdf\\n\\nsample[\\\"partisanship\\\"] = sample[[\\\"dem\\\", \\\"rep\\\"]].max(axis=1)\\nCdf.from_seq(sample[\\\"partisanship\\\"]).plot(label=\\\"partisanship\\\")\\ndecorate(xlabel=\\\"Partisanship\\\", ylabel=\\\"CDF\\\")\";\n",
       "                var nbb_cells = Jupyter.notebook.get_cells();\n",
       "                for (var i = 0; i < nbb_cells.length; ++i) {\n",
       "                    if (nbb_cells[i].input_prompt_number == nbb_cell_id) {\n",
       "                        if (nbb_cells[i].get_text() == nbb_unformatted_code) {\n",
       "                             nbb_cells[i].set_text(nbb_formatted_code);\n",
       "                        }\n",
       "                        break;\n",
       "                    }\n",
       "                }\n",
       "            }, 500);\n",
       "            "
      ],
      "text/plain": [
       "<IPython.core.display.Javascript object>"
      ]
     },
     "metadata": {},
     "output_type": "display_data"
    }
   ],
   "source": [
    "from empiricaldist import Cdf\n",
    "\n",
    "sample[\"partisanship\"] = sample[[\"dem\", \"rep\"]].max(axis=1)\n",
    "Cdf.from_seq(sample[\"partisanship\"]).plot(label=\"partisanship\")\n",
    "decorate(xlabel=\"Partisanship\", ylabel=\"CDF\")"
   ]
  },
  {
   "cell_type": "markdown",
   "id": "56b5a5bd",
   "metadata": {},
   "source": [
    "A score of 0 means the respondent said \"no difference\" to every questions. A score of 1 means they said that one party or the other handles every issue better."
   ]
  },
  {
   "cell_type": "code",
   "execution_count": 50,
   "id": "74bd11c5",
   "metadata": {},
   "outputs": [
    {
     "data": {
      "application/javascript": [
       "\n",
       "            setTimeout(function() {\n",
       "                var nbb_cell_id = 50;\n",
       "                var nbb_unformatted_code = \"sample_male = sample.query(\\\"gender == 1\\\")\\nsample_female = sample.query(\\\"gender == 2\\\")\";\n",
       "                var nbb_formatted_code = \"sample_male = sample.query(\\\"gender == 1\\\")\\nsample_female = sample.query(\\\"gender == 2\\\")\";\n",
       "                var nbb_cells = Jupyter.notebook.get_cells();\n",
       "                for (var i = 0; i < nbb_cells.length; ++i) {\n",
       "                    if (nbb_cells[i].input_prompt_number == nbb_cell_id) {\n",
       "                        if (nbb_cells[i].get_text() == nbb_unformatted_code) {\n",
       "                             nbb_cells[i].set_text(nbb_formatted_code);\n",
       "                        }\n",
       "                        break;\n",
       "                    }\n",
       "                }\n",
       "            }, 500);\n",
       "            "
      ],
      "text/plain": [
       "<IPython.core.display.Javascript object>"
      ]
     },
     "metadata": {},
     "output_type": "display_data"
    }
   ],
   "source": [
    "sample_male = sample.query(\"gender == 1\")\n",
    "sample_female = sample.query(\"gender == 2\")"
   ]
  },
  {
   "cell_type": "markdown",
   "id": "904a5600",
   "metadata": {},
   "source": [
    "Men are more partisan than women."
   ]
  },
  {
   "cell_type": "code",
   "execution_count": 51,
   "id": "bd03a63a",
   "metadata": {},
   "outputs": [
    {
     "data": {
      "text/plain": [
       "gender\n",
       "1.0    0.652994\n",
       "2.0    0.584269\n",
       "Name: partisanship, dtype: float64"
      ]
     },
     "execution_count": 51,
     "metadata": {},
     "output_type": "execute_result"
    },
    {
     "data": {
      "application/javascript": [
       "\n",
       "            setTimeout(function() {\n",
       "                var nbb_cell_id = 51;\n",
       "                var nbb_unformatted_code = \"sample.groupby(\\\"gender\\\")[\\\"partisanship\\\"].mean()\";\n",
       "                var nbb_formatted_code = \"sample.groupby(\\\"gender\\\")[\\\"partisanship\\\"].mean()\";\n",
       "                var nbb_cells = Jupyter.notebook.get_cells();\n",
       "                for (var i = 0; i < nbb_cells.length; ++i) {\n",
       "                    if (nbb_cells[i].input_prompt_number == nbb_cell_id) {\n",
       "                        if (nbb_cells[i].get_text() == nbb_unformatted_code) {\n",
       "                             nbb_cells[i].set_text(nbb_formatted_code);\n",
       "                        }\n",
       "                        break;\n",
       "                    }\n",
       "                }\n",
       "            }, 500);\n",
       "            "
      ],
      "text/plain": [
       "<IPython.core.display.Javascript object>"
      ]
     },
     "metadata": {},
     "output_type": "display_data"
    }
   ],
   "source": [
    "sample.groupby(\"gender\")[\"partisanship\"].mean()"
   ]
  },
  {
   "cell_type": "markdown",
   "id": "09dcb65c",
   "metadata": {},
   "source": [
    "If we break it down by gender and party identification, republicans are more partisan than democrats, independent/other are less partisan than both.\n"
   ]
  },
  {
   "cell_type": "code",
   "execution_count": 52,
   "id": "87719a4d",
   "metadata": {},
   "outputs": [
    {
     "data": {
      "text/html": [
       "<div>\n",
       "<style scoped>\n",
       "    .dataframe tbody tr th:only-of-type {\n",
       "        vertical-align: middle;\n",
       "    }\n",
       "\n",
       "    .dataframe tbody tr th {\n",
       "        vertical-align: top;\n",
       "    }\n",
       "\n",
       "    .dataframe thead th {\n",
       "        text-align: right;\n",
       "    }\n",
       "</style>\n",
       "<table border=\"1\" class=\"dataframe\">\n",
       "  <thead>\n",
       "    <tr style=\"text-align: right;\">\n",
       "      <th></th>\n",
       "      <th>dem</th>\n",
       "      <th>rep</th>\n",
       "      <th>ind/other</th>\n",
       "      <th>all</th>\n",
       "    </tr>\n",
       "  </thead>\n",
       "  <tbody>\n",
       "    <tr>\n",
       "      <th>male</th>\n",
       "      <td>0.695946</td>\n",
       "      <td>0.774327</td>\n",
       "      <td>0.531388</td>\n",
       "      <td>0.652994</td>\n",
       "    </tr>\n",
       "    <tr>\n",
       "      <th>female</th>\n",
       "      <td>0.671518</td>\n",
       "      <td>0.656944</td>\n",
       "      <td>0.431467</td>\n",
       "      <td>0.584269</td>\n",
       "    </tr>\n",
       "    <tr>\n",
       "      <th>all</th>\n",
       "      <td>0.682375</td>\n",
       "      <td>0.709788</td>\n",
       "      <td>0.481071</td>\n",
       "      <td>0.616238</td>\n",
       "    </tr>\n",
       "  </tbody>\n",
       "</table>\n",
       "</div>"
      ],
      "text/plain": [
       "             dem       rep  ind/other       all\n",
       "male    0.695946  0.774327   0.531388  0.652994\n",
       "female  0.671518  0.656944   0.431467  0.584269\n",
       "all     0.682375  0.709788   0.481071  0.616238"
      ]
     },
     "execution_count": 52,
     "metadata": {},
     "output_type": "execute_result"
    },
    {
     "data": {
      "application/javascript": [
       "\n",
       "            setTimeout(function() {\n",
       "                var nbb_cell_id = 52;\n",
       "                var nbb_unformatted_code = \"tab = sample.pivot_table(\\n    index=\\\"gender\\\",\\n    columns=\\\"pid\\\",\\n    values=\\\"partisanship\\\",\\n    aggfunc=\\\"mean\\\",\\n    margins=True,\\n)\\ntab.columns = [\\\"dem\\\", \\\"rep\\\", \\\"ind/other\\\", \\\"all\\\"]\\ntab.index = [\\\"male\\\", \\\"female\\\", \\\"all\\\"]\\ntab\";\n",
       "                var nbb_formatted_code = \"tab = sample.pivot_table(\\n    index=\\\"gender\\\",\\n    columns=\\\"pid\\\",\\n    values=\\\"partisanship\\\",\\n    aggfunc=\\\"mean\\\",\\n    margins=True,\\n)\\ntab.columns = [\\\"dem\\\", \\\"rep\\\", \\\"ind/other\\\", \\\"all\\\"]\\ntab.index = [\\\"male\\\", \\\"female\\\", \\\"all\\\"]\\ntab\";\n",
       "                var nbb_cells = Jupyter.notebook.get_cells();\n",
       "                for (var i = 0; i < nbb_cells.length; ++i) {\n",
       "                    if (nbb_cells[i].input_prompt_number == nbb_cell_id) {\n",
       "                        if (nbb_cells[i].get_text() == nbb_unformatted_code) {\n",
       "                             nbb_cells[i].set_text(nbb_formatted_code);\n",
       "                        }\n",
       "                        break;\n",
       "                    }\n",
       "                }\n",
       "            }, 500);\n",
       "            "
      ],
      "text/plain": [
       "<IPython.core.display.Javascript object>"
      ]
     },
     "metadata": {},
     "output_type": "display_data"
    }
   ],
   "source": [
    "tab = sample.pivot_table(\n",
    "    index=\"gender\",\n",
    "    columns=\"pid\",\n",
    "    values=\"partisanship\",\n",
    "    aggfunc=\"mean\",\n",
    "    margins=True,\n",
    ")\n",
    "tab.columns = [\"dem\", \"rep\", \"ind/other\", \"all\"]\n",
    "tab.index = [\"male\", \"female\", \"all\"]\n",
    "tab"
   ]
  },
  {
   "cell_type": "markdown",
   "id": "f9ae5570",
   "metadata": {},
   "source": [
    "Here are responses to \"Some people don’t pay much attention to political campaigns.\n",
    "How about you? Would you say that you have been [very much interested, somewhat\n",
    "interested or not much interested/ not much interested, somewhat interested or very\n",
    "much interested] in the political campaigns so far this year?\"\n",
    "\n",
    "```\n",
    "1. Very much interested\n",
    "2. Somewhat interested\n",
    "3. Not much interested\n",
    "```"
   ]
  },
  {
   "cell_type": "code",
   "execution_count": 53,
   "id": "dfb6980c",
   "metadata": {},
   "outputs": [
    {
     "data": {
      "text/html": [
       "<div>\n",
       "<style scoped>\n",
       "    .dataframe tbody tr th:only-of-type {\n",
       "        vertical-align: middle;\n",
       "    }\n",
       "\n",
       "    .dataframe tbody tr th {\n",
       "        vertical-align: top;\n",
       "    }\n",
       "\n",
       "    .dataframe thead th {\n",
       "        text-align: right;\n",
       "    }\n",
       "</style>\n",
       "<table border=\"1\" class=\"dataframe\">\n",
       "  <thead>\n",
       "    <tr style=\"text-align: right;\">\n",
       "      <th></th>\n",
       "      <th>counts</th>\n",
       "    </tr>\n",
       "    <tr>\n",
       "      <th>values</th>\n",
       "      <th></th>\n",
       "    </tr>\n",
       "  </thead>\n",
       "  <tbody>\n",
       "    <tr>\n",
       "      <th>1.0</th>\n",
       "      <td>782</td>\n",
       "    </tr>\n",
       "    <tr>\n",
       "      <th>2.0</th>\n",
       "      <td>710</td>\n",
       "    </tr>\n",
       "    <tr>\n",
       "      <th>3.0</th>\n",
       "      <td>417</td>\n",
       "    </tr>\n",
       "  </tbody>\n",
       "</table>\n",
       "</div>"
      ],
      "text/plain": [
       "        counts\n",
       "values        \n",
       "1.0        782\n",
       "2.0        710\n",
       "3.0        417"
      ]
     },
     "execution_count": 53,
     "metadata": {},
     "output_type": "execute_result"
    },
    {
     "data": {
      "application/javascript": [
       "\n",
       "            setTimeout(function() {\n",
       "                var nbb_cell_id = 53;\n",
       "                var nbb_unformatted_code = \"value_counts(sample[\\\"follow_campinterest\\\"])\";\n",
       "                var nbb_formatted_code = \"value_counts(sample[\\\"follow_campinterest\\\"])\";\n",
       "                var nbb_cells = Jupyter.notebook.get_cells();\n",
       "                for (var i = 0; i < nbb_cells.length; ++i) {\n",
       "                    if (nbb_cells[i].input_prompt_number == nbb_cell_id) {\n",
       "                        if (nbb_cells[i].get_text() == nbb_unformatted_code) {\n",
       "                             nbb_cells[i].set_text(nbb_formatted_code);\n",
       "                        }\n",
       "                        break;\n",
       "                    }\n",
       "                }\n",
       "            }, 500);\n",
       "            "
      ],
      "text/plain": [
       "<IPython.core.display.Javascript object>"
      ]
     },
     "metadata": {},
     "output_type": "display_data"
    }
   ],
   "source": [
    "value_counts(sample[\"follow_campinterest\"])"
   ]
  },
  {
   "cell_type": "markdown",
   "id": "3decad92",
   "metadata": {},
   "source": [
    "People who follow more closely are more partisan. The arrow of causation could go both ways there."
   ]
  },
  {
   "cell_type": "code",
   "execution_count": 54,
   "id": "bd82035a",
   "metadata": {},
   "outputs": [
    {
     "data": {
      "text/html": [
       "<div>\n",
       "<style scoped>\n",
       "    .dataframe tbody tr th:only-of-type {\n",
       "        vertical-align: middle;\n",
       "    }\n",
       "\n",
       "    .dataframe tbody tr th {\n",
       "        vertical-align: top;\n",
       "    }\n",
       "\n",
       "    .dataframe thead th {\n",
       "        text-align: right;\n",
       "    }\n",
       "</style>\n",
       "<table border=\"1\" class=\"dataframe\">\n",
       "  <thead>\n",
       "    <tr style=\"text-align: right;\">\n",
       "      <th>follow_campinterest</th>\n",
       "      <th>1.0</th>\n",
       "      <th>2.0</th>\n",
       "      <th>3.0</th>\n",
       "    </tr>\n",
       "    <tr>\n",
       "      <th>gender</th>\n",
       "      <th></th>\n",
       "      <th></th>\n",
       "      <th></th>\n",
       "    </tr>\n",
       "  </thead>\n",
       "  <tbody>\n",
       "    <tr>\n",
       "      <th>1.0</th>\n",
       "      <td>0.501126</td>\n",
       "      <td>0.356982</td>\n",
       "      <td>0.141892</td>\n",
       "    </tr>\n",
       "    <tr>\n",
       "      <th>2.0</th>\n",
       "      <td>0.330069</td>\n",
       "      <td>0.384917</td>\n",
       "      <td>0.285015</td>\n",
       "    </tr>\n",
       "  </tbody>\n",
       "</table>\n",
       "</div>"
      ],
      "text/plain": [
       "follow_campinterest       1.0       2.0       3.0\n",
       "gender                                           \n",
       "1.0                  0.501126  0.356982  0.141892\n",
       "2.0                  0.330069  0.384917  0.285015"
      ]
     },
     "execution_count": 54,
     "metadata": {},
     "output_type": "execute_result"
    },
    {
     "data": {
      "application/javascript": [
       "\n",
       "            setTimeout(function() {\n",
       "                var nbb_cell_id = 54;\n",
       "                var nbb_unformatted_code = \"pd.crosstab(sample[\\\"gender\\\"], sample[\\\"follow_campinterest\\\"], normalize=\\\"index\\\")\";\n",
       "                var nbb_formatted_code = \"pd.crosstab(sample[\\\"gender\\\"], sample[\\\"follow_campinterest\\\"], normalize=\\\"index\\\")\";\n",
       "                var nbb_cells = Jupyter.notebook.get_cells();\n",
       "                for (var i = 0; i < nbb_cells.length; ++i) {\n",
       "                    if (nbb_cells[i].input_prompt_number == nbb_cell_id) {\n",
       "                        if (nbb_cells[i].get_text() == nbb_unformatted_code) {\n",
       "                             nbb_cells[i].set_text(nbb_formatted_code);\n",
       "                        }\n",
       "                        break;\n",
       "                    }\n",
       "                }\n",
       "            }, 500);\n",
       "            "
      ],
      "text/plain": [
       "<IPython.core.display.Javascript object>"
      ]
     },
     "metadata": {},
     "output_type": "display_data"
    }
   ],
   "source": [
    "pd.crosstab(sample[\"gender\"], sample[\"follow_campinterest\"], normalize=\"index\")"
   ]
  },
  {
   "cell_type": "code",
   "execution_count": 55,
   "id": "938d6511",
   "metadata": {},
   "outputs": [
    {
     "data": {
      "text/html": [
       "<div>\n",
       "<style scoped>\n",
       "    .dataframe tbody tr th:only-of-type {\n",
       "        vertical-align: middle;\n",
       "    }\n",
       "\n",
       "    .dataframe tbody tr th {\n",
       "        vertical-align: top;\n",
       "    }\n",
       "\n",
       "    .dataframe thead th {\n",
       "        text-align: right;\n",
       "    }\n",
       "</style>\n",
       "<table border=\"1\" class=\"dataframe\">\n",
       "  <thead>\n",
       "    <tr style=\"text-align: right;\">\n",
       "      <th></th>\n",
       "      <th>very</th>\n",
       "      <th>somewhat</th>\n",
       "      <th>not much</th>\n",
       "      <th>all</th>\n",
       "    </tr>\n",
       "  </thead>\n",
       "  <tbody>\n",
       "    <tr>\n",
       "      <th>male</th>\n",
       "      <td>0.742264</td>\n",
       "      <td>0.642846</td>\n",
       "      <td>0.363248</td>\n",
       "      <td>0.652994</td>\n",
       "    </tr>\n",
       "    <tr>\n",
       "      <th>female</th>\n",
       "      <td>0.787491</td>\n",
       "      <td>0.599139</td>\n",
       "      <td>0.328840</td>\n",
       "      <td>0.584269</td>\n",
       "    </tr>\n",
       "    <tr>\n",
       "      <th>all</th>\n",
       "      <td>0.761755</td>\n",
       "      <td>0.618653</td>\n",
       "      <td>0.339236</td>\n",
       "      <td>0.616238</td>\n",
       "    </tr>\n",
       "  </tbody>\n",
       "</table>\n",
       "</div>"
      ],
      "text/plain": [
       "            very  somewhat  not much       all\n",
       "male    0.742264  0.642846  0.363248  0.652994\n",
       "female  0.787491  0.599139  0.328840  0.584269\n",
       "all     0.761755  0.618653  0.339236  0.616238"
      ]
     },
     "execution_count": 55,
     "metadata": {},
     "output_type": "execute_result"
    },
    {
     "data": {
      "application/javascript": [
       "\n",
       "            setTimeout(function() {\n",
       "                var nbb_cell_id = 55;\n",
       "                var nbb_unformatted_code = \"tab = sample.pivot_table(\\n    index=\\\"gender\\\",\\n    columns=\\\"follow_campinterest\\\",\\n    values=\\\"partisanship\\\",\\n    aggfunc=\\\"mean\\\",\\n    margins=True,\\n)\\ntab.columns = [\\\"very\\\", \\\"somewhat\\\", \\\"not much\\\", \\\"all\\\"]\\ntab.index = [\\\"male\\\", \\\"female\\\", \\\"all\\\"]\\ntab\";\n",
       "                var nbb_formatted_code = \"tab = sample.pivot_table(\\n    index=\\\"gender\\\",\\n    columns=\\\"follow_campinterest\\\",\\n    values=\\\"partisanship\\\",\\n    aggfunc=\\\"mean\\\",\\n    margins=True,\\n)\\ntab.columns = [\\\"very\\\", \\\"somewhat\\\", \\\"not much\\\", \\\"all\\\"]\\ntab.index = [\\\"male\\\", \\\"female\\\", \\\"all\\\"]\\ntab\";\n",
       "                var nbb_cells = Jupyter.notebook.get_cells();\n",
       "                for (var i = 0; i < nbb_cells.length; ++i) {\n",
       "                    if (nbb_cells[i].input_prompt_number == nbb_cell_id) {\n",
       "                        if (nbb_cells[i].get_text() == nbb_unformatted_code) {\n",
       "                             nbb_cells[i].set_text(nbb_formatted_code);\n",
       "                        }\n",
       "                        break;\n",
       "                    }\n",
       "                }\n",
       "            }, 500);\n",
       "            "
      ],
      "text/plain": [
       "<IPython.core.display.Javascript object>"
      ]
     },
     "metadata": {},
     "output_type": "display_data"
    }
   ],
   "source": [
    "tab = sample.pivot_table(\n",
    "    index=\"gender\",\n",
    "    columns=\"follow_campinterest\",\n",
    "    values=\"partisanship\",\n",
    "    aggfunc=\"mean\",\n",
    "    margins=True,\n",
    ")\n",
    "tab.columns = [\"very\", \"somewhat\", \"not much\", \"all\"]\n",
    "tab.index = [\"male\", \"female\", \"all\"]\n",
    "tab"
   ]
  },
  {
   "cell_type": "markdown",
   "id": "4a90ced4",
   "metadata": {},
   "source": [
    "## Regression models\n",
    "\n",
    "To put it all together, we'll run some regressions with partisanship as the dependent variable."
   ]
  },
  {
   "cell_type": "code",
   "execution_count": 56,
   "id": "10c8fed4",
   "metadata": {},
   "outputs": [
    {
     "data": {
      "application/javascript": [
       "\n",
       "            setTimeout(function() {\n",
       "                var nbb_cell_id = 56;\n",
       "                var nbb_unformatted_code = \"from statsmodels.iolib.table import SimpleTable\\n\\n\\ndef display_summary(result):\\n    \\\"\\\"\\\"Prints summary statistics from a regression model.\\n\\n    result: RegressionResults object\\n    \\\"\\\"\\\"\\n    params = result.summary().tables[1]\\n    display(params)\\n\\n    if hasattr(result, \\\"rsquared\\\"):\\n        row = [\\\"R-squared:\\\", f\\\"{result.rsquared:0.4}\\\"]\\n    elif hasattr(result, \\\"prsquared\\\"):\\n        row = [\\\"Pseudo R-squared:\\\", f\\\"{result.prsquared:0.4}\\\"]\\n    else:\\n        return\\n    table = SimpleTable([row])\\n    display(table)\";\n",
       "                var nbb_formatted_code = \"from statsmodels.iolib.table import SimpleTable\\n\\n\\ndef display_summary(result):\\n    \\\"\\\"\\\"Prints summary statistics from a regression model.\\n\\n    result: RegressionResults object\\n    \\\"\\\"\\\"\\n    params = result.summary().tables[1]\\n    display(params)\\n\\n    if hasattr(result, \\\"rsquared\\\"):\\n        row = [\\\"R-squared:\\\", f\\\"{result.rsquared:0.4}\\\"]\\n    elif hasattr(result, \\\"prsquared\\\"):\\n        row = [\\\"Pseudo R-squared:\\\", f\\\"{result.prsquared:0.4}\\\"]\\n    else:\\n        return\\n    table = SimpleTable([row])\\n    display(table)\";\n",
       "                var nbb_cells = Jupyter.notebook.get_cells();\n",
       "                for (var i = 0; i < nbb_cells.length; ++i) {\n",
       "                    if (nbb_cells[i].input_prompt_number == nbb_cell_id) {\n",
       "                        if (nbb_cells[i].get_text() == nbb_unformatted_code) {\n",
       "                             nbb_cells[i].set_text(nbb_formatted_code);\n",
       "                        }\n",
       "                        break;\n",
       "                    }\n",
       "                }\n",
       "            }, 500);\n",
       "            "
      ],
      "text/plain": [
       "<IPython.core.display.Javascript object>"
      ]
     },
     "metadata": {},
     "output_type": "display_data"
    }
   ],
   "source": [
    "from statsmodels.iolib.table import SimpleTable\n",
    "\n",
    "\n",
    "def display_summary(result):\n",
    "    \"\"\"Prints summary statistics from a regression model.\n",
    "\n",
    "    result: RegressionResults object\n",
    "    \"\"\"\n",
    "    params = result.summary().tables[1]\n",
    "    display(params)\n",
    "\n",
    "    if hasattr(result, \"rsquared\"):\n",
    "        row = [\"R-squared:\", f\"{result.rsquared:0.4}\"]\n",
    "    elif hasattr(result, \"prsquared\"):\n",
    "        row = [\"Pseudo R-squared:\", f\"{result.prsquared:0.4}\"]\n",
    "    else:\n",
    "        return\n",
    "    table = SimpleTable([row])\n",
    "    display(table)"
   ]
  },
  {
   "cell_type": "markdown",
   "id": "93e1d8e2",
   "metadata": {},
   "source": [
    "Women are less partisan."
   ]
  },
  {
   "cell_type": "code",
   "execution_count": 57,
   "id": "9332b025",
   "metadata": {},
   "outputs": [
    {
     "data": {
      "text/html": [
       "<table class=\"simpletable\">\n",
       "<tr>\n",
       "          <td></td>            <th>coef</th>     <th>std err</th>      <th>t</th>      <th>P>|t|</th>  <th>[0.025</th>    <th>0.975]</th>  \n",
       "</tr>\n",
       "<tr>\n",
       "  <th>Intercept</th>        <td>    0.6530</td> <td>    0.011</td> <td>   58.409</td> <td> 0.000</td> <td>    0.631</td> <td>    0.675</td>\n",
       "</tr>\n",
       "<tr>\n",
       "  <th>C(gender)[T.2.0]</th> <td>   -0.0687</td> <td>    0.015</td> <td>   -4.496</td> <td> 0.000</td> <td>   -0.099</td> <td>   -0.039</td>\n",
       "</tr>\n",
       "</table>"
      ],
      "text/latex": [
       "\\begin{center}\n",
       "\\begin{tabular}{lcccccc}\n",
       "\\toprule\n",
       "                          & \\textbf{coef} & \\textbf{std err} & \\textbf{t} & \\textbf{P$> |$t$|$} & \\textbf{[0.025} & \\textbf{0.975]}  \\\\\n",
       "\\midrule\n",
       "\\textbf{Intercept}        &       0.6530  &        0.011     &    58.409  &         0.000        &        0.631    &        0.675     \\\\\n",
       "\\textbf{C(gender)[T.2.0]} &      -0.0687  &        0.015     &    -4.496  &         0.000        &       -0.099    &       -0.039     \\\\\n",
       "\\bottomrule\n",
       "\\end{tabular}\n",
       "\\end{center}"
      ],
      "text/plain": [
       "<class 'statsmodels.iolib.table.SimpleTable'>"
      ]
     },
     "metadata": {},
     "output_type": "display_data"
    },
    {
     "data": {
      "text/html": [
       "<table class=\"simpletable\">\n",
       "<tr>\n",
       "  <td>R-squared:</td> <td>0.01049</td>\n",
       "</tr>\n",
       "</table>"
      ],
      "text/latex": [
       "\\begin{center}\n",
       "\\begin{tabular}{cc}\n",
       "\\toprule\n",
       "R-squared: & 0.01049  \\\\\n",
       "\\bottomrule\n",
       "\\end{tabular}\n",
       "\\end{center}"
      ],
      "text/plain": [
       "<class 'statsmodels.iolib.table.SimpleTable'>"
      ]
     },
     "metadata": {},
     "output_type": "display_data"
    },
    {
     "data": {
      "application/javascript": [
       "\n",
       "            setTimeout(function() {\n",
       "                var nbb_cell_id = 57;\n",
       "                var nbb_unformatted_code = \"import statsmodels.formula.api as smf\\n\\nmodel = smf.ols('partisanship ~ C(gender)', data=sample).fit()\\ndisplay_summary(model)\";\n",
       "                var nbb_formatted_code = \"import statsmodels.formula.api as smf\\n\\nmodel = smf.ols(\\\"partisanship ~ C(gender)\\\", data=sample).fit()\\ndisplay_summary(model)\";\n",
       "                var nbb_cells = Jupyter.notebook.get_cells();\n",
       "                for (var i = 0; i < nbb_cells.length; ++i) {\n",
       "                    if (nbb_cells[i].input_prompt_number == nbb_cell_id) {\n",
       "                        if (nbb_cells[i].get_text() == nbb_unformatted_code) {\n",
       "                             nbb_cells[i].set_text(nbb_formatted_code);\n",
       "                        }\n",
       "                        break;\n",
       "                    }\n",
       "                }\n",
       "            }, 500);\n",
       "            "
      ],
      "text/plain": [
       "<IPython.core.display.Javascript object>"
      ]
     },
     "metadata": {},
     "output_type": "display_data"
    }
   ],
   "source": [
    "import statsmodels.formula.api as smf\n",
    "\n",
    "model = smf.ols('partisanship ~ C(gender)', data=sample).fit()\n",
    "display_summary(model)\n"
   ]
  },
  {
   "cell_type": "markdown",
   "id": "92067c93",
   "metadata": {},
   "source": [
    "Controlling for gender, republicans are (still) more partisan, independent/other are less."
   ]
  },
  {
   "cell_type": "code",
   "execution_count": 58,
   "id": "782fa3c2",
   "metadata": {},
   "outputs": [
    {
     "data": {
      "text/html": [
       "<table class=\"simpletable\">\n",
       "<tr>\n",
       "          <td></td>            <th>coef</th>     <th>std err</th>      <th>t</th>      <th>P>|t|</th>  <th>[0.025</th>    <th>0.975]</th>  \n",
       "</tr>\n",
       "<tr>\n",
       "  <th>Intercept</th>        <td>    0.7261</td> <td>    0.015</td> <td>   49.485</td> <td> 0.000</td> <td>    0.697</td> <td>    0.755</td>\n",
       "</tr>\n",
       "<tr>\n",
       "  <th>C(gender)[T.2.0]</th> <td>   -0.0787</td> <td>    0.015</td> <td>   -5.415</td> <td> 0.000</td> <td>   -0.107</td> <td>   -0.050</td>\n",
       "</tr>\n",
       "<tr>\n",
       "  <th>C(pid)[T.2.0]</th>    <td>    0.0270</td> <td>    0.018</td> <td>    1.474</td> <td> 0.141</td> <td>   -0.009</td> <td>    0.063</td>\n",
       "</tr>\n",
       "<tr>\n",
       "  <th>C(pid)[T.3.0]</th>    <td>   -0.2054</td> <td>    0.017</td> <td>  -11.992</td> <td> 0.000</td> <td>   -0.239</td> <td>   -0.172</td>\n",
       "</tr>\n",
       "</table>"
      ],
      "text/latex": [
       "\\begin{center}\n",
       "\\begin{tabular}{lcccccc}\n",
       "\\toprule\n",
       "                          & \\textbf{coef} & \\textbf{std err} & \\textbf{t} & \\textbf{P$> |$t$|$} & \\textbf{[0.025} & \\textbf{0.975]}  \\\\\n",
       "\\midrule\n",
       "\\textbf{Intercept}        &       0.7261  &        0.015     &    49.485  &         0.000        &        0.697    &        0.755     \\\\\n",
       "\\textbf{C(gender)[T.2.0]} &      -0.0787  &        0.015     &    -5.415  &         0.000        &       -0.107    &       -0.050     \\\\\n",
       "\\textbf{C(pid)[T.2.0]}    &       0.0270  &        0.018     &     1.474  &         0.141        &       -0.009    &        0.063     \\\\\n",
       "\\textbf{C(pid)[T.3.0]}    &      -0.2054  &        0.017     &   -11.992  &         0.000        &       -0.239    &       -0.172     \\\\\n",
       "\\bottomrule\n",
       "\\end{tabular}\n",
       "\\end{center}"
      ],
      "text/plain": [
       "<class 'statsmodels.iolib.table.SimpleTable'>"
      ]
     },
     "metadata": {},
     "output_type": "display_data"
    },
    {
     "data": {
      "text/html": [
       "<table class=\"simpletable\">\n",
       "<tr>\n",
       "  <td>R-squared:</td> <td>0.1094</td>\n",
       "</tr>\n",
       "</table>"
      ],
      "text/latex": [
       "\\begin{center}\n",
       "\\begin{tabular}{cc}\n",
       "\\toprule\n",
       "R-squared: & 0.1094  \\\\\n",
       "\\bottomrule\n",
       "\\end{tabular}\n",
       "\\end{center}"
      ],
      "text/plain": [
       "<class 'statsmodels.iolib.table.SimpleTable'>"
      ]
     },
     "metadata": {},
     "output_type": "display_data"
    },
    {
     "data": {
      "application/javascript": [
       "\n",
       "            setTimeout(function() {\n",
       "                var nbb_cell_id = 58;\n",
       "                var nbb_unformatted_code = \"import statsmodels.formula.api as smf\\n\\nmodel = smf.ols('partisanship ~ C(gender) + C(pid)', data=sample).fit()\\ndisplay_summary(model)\";\n",
       "                var nbb_formatted_code = \"import statsmodels.formula.api as smf\\n\\nmodel = smf.ols(\\\"partisanship ~ C(gender) + C(pid)\\\", data=sample).fit()\\ndisplay_summary(model)\";\n",
       "                var nbb_cells = Jupyter.notebook.get_cells();\n",
       "                for (var i = 0; i < nbb_cells.length; ++i) {\n",
       "                    if (nbb_cells[i].input_prompt_number == nbb_cell_id) {\n",
       "                        if (nbb_cells[i].get_text() == nbb_unformatted_code) {\n",
       "                             nbb_cells[i].set_text(nbb_formatted_code);\n",
       "                        }\n",
       "                        break;\n",
       "                    }\n",
       "                }\n",
       "            }, 500);\n",
       "            "
      ],
      "text/plain": [
       "<IPython.core.display.Javascript object>"
      ]
     },
     "metadata": {},
     "output_type": "display_data"
    }
   ],
   "source": [
    "import statsmodels.formula.api as smf\n",
    "\n",
    "model = smf.ols('partisanship ~ C(gender) + C(pid)', data=sample).fit()\n",
    "display_summary(model)\n"
   ]
  },
  {
   "cell_type": "markdown",
   "id": "2abb8a82",
   "metadata": {},
   "source": [
    "Controlling for level of interest in the campaign, the gender gap is cut by more than half.\n",
    "\n",
    "I'd suggest that interest level is a mediator here -- part of the reason men are more partisan is that they follow the campaign more closely."
   ]
  },
  {
   "cell_type": "code",
   "execution_count": 59,
   "id": "1dc616b5",
   "metadata": {},
   "outputs": [
    {
     "data": {
      "text/html": [
       "<table class=\"simpletable\">\n",
       "<tr>\n",
       "                <td></td>                   <th>coef</th>     <th>std err</th>      <th>t</th>      <th>P>|t|</th>  <th>[0.025</th>    <th>0.975]</th>  \n",
       "</tr>\n",
       "<tr>\n",
       "  <th>Intercept</th>                     <td>    0.8183</td> <td>    0.015</td> <td>   54.394</td> <td> 0.000</td> <td>    0.789</td> <td>    0.848</td>\n",
       "</tr>\n",
       "<tr>\n",
       "  <th>C(gender)[T.2.0]</th>              <td>   -0.0178</td> <td>    0.013</td> <td>   -1.328</td> <td> 0.184</td> <td>   -0.044</td> <td>    0.008</td>\n",
       "</tr>\n",
       "<tr>\n",
       "  <th>C(pid)[T.2.0]</th>                 <td>    0.0060</td> <td>    0.017</td> <td>    0.361</td> <td> 0.718</td> <td>   -0.026</td> <td>    0.038</td>\n",
       "</tr>\n",
       "<tr>\n",
       "  <th>C(pid)[T.3.0]</th>                 <td>   -0.1596</td> <td>    0.016</td> <td>  -10.181</td> <td> 0.000</td> <td>   -0.190</td> <td>   -0.129</td>\n",
       "</tr>\n",
       "<tr>\n",
       "  <th>C(follow_campinterest)[T.2.0]</th> <td>   -0.1413</td> <td>    0.015</td> <td>   -9.474</td> <td> 0.000</td> <td>   -0.171</td> <td>   -0.112</td>\n",
       "</tr>\n",
       "<tr>\n",
       "  <th>C(follow_campinterest)[T.3.0]</th> <td>   -0.3806</td> <td>    0.018</td> <td>  -21.161</td> <td> 0.000</td> <td>   -0.416</td> <td>   -0.345</td>\n",
       "</tr>\n",
       "</table>"
      ],
      "text/latex": [
       "\\begin{center}\n",
       "\\begin{tabular}{lcccccc}\n",
       "\\toprule\n",
       "                                        & \\textbf{coef} & \\textbf{std err} & \\textbf{t} & \\textbf{P$> |$t$|$} & \\textbf{[0.025} & \\textbf{0.975]}  \\\\\n",
       "\\midrule\n",
       "\\textbf{Intercept}                      &       0.8183  &        0.015     &    54.394  &         0.000        &        0.789    &        0.848     \\\\\n",
       "\\textbf{C(gender)[T.2.0]}               &      -0.0178  &        0.013     &    -1.328  &         0.184        &       -0.044    &        0.008     \\\\\n",
       "\\textbf{C(pid)[T.2.0]}                  &       0.0060  &        0.017     &     0.361  &         0.718        &       -0.026    &        0.038     \\\\\n",
       "\\textbf{C(pid)[T.3.0]}                  &      -0.1596  &        0.016     &   -10.181  &         0.000        &       -0.190    &       -0.129     \\\\\n",
       "\\textbf{C(follow\\_campinterest)[T.2.0]} &      -0.1413  &        0.015     &    -9.474  &         0.000        &       -0.171    &       -0.112     \\\\\n",
       "\\textbf{C(follow\\_campinterest)[T.3.0]} &      -0.3806  &        0.018     &   -21.161  &         0.000        &       -0.416    &       -0.345     \\\\\n",
       "\\bottomrule\n",
       "\\end{tabular}\n",
       "\\end{center}"
      ],
      "text/plain": [
       "<class 'statsmodels.iolib.table.SimpleTable'>"
      ]
     },
     "metadata": {},
     "output_type": "display_data"
    },
    {
     "data": {
      "text/html": [
       "<table class=\"simpletable\">\n",
       "<tr>\n",
       "  <td>R-squared:</td> <td>0.2792</td>\n",
       "</tr>\n",
       "</table>"
      ],
      "text/latex": [
       "\\begin{center}\n",
       "\\begin{tabular}{cc}\n",
       "\\toprule\n",
       "R-squared: & 0.2792  \\\\\n",
       "\\bottomrule\n",
       "\\end{tabular}\n",
       "\\end{center}"
      ],
      "text/plain": [
       "<class 'statsmodels.iolib.table.SimpleTable'>"
      ]
     },
     "metadata": {},
     "output_type": "display_data"
    },
    {
     "data": {
      "application/javascript": [
       "\n",
       "            setTimeout(function() {\n",
       "                var nbb_cell_id = 59;\n",
       "                var nbb_unformatted_code = \"model = smf.ols('partisanship ~ C(gender) + C(pid) + C(follow_campinterest)', data=sample).fit()\\ndisplay_summary(model)\";\n",
       "                var nbb_formatted_code = \"model = smf.ols(\\n    \\\"partisanship ~ C(gender) + C(pid) + C(follow_campinterest)\\\", data=sample\\n).fit()\\ndisplay_summary(model)\";\n",
       "                var nbb_cells = Jupyter.notebook.get_cells();\n",
       "                for (var i = 0; i < nbb_cells.length; ++i) {\n",
       "                    if (nbb_cells[i].input_prompt_number == nbb_cell_id) {\n",
       "                        if (nbb_cells[i].get_text() == nbb_unformatted_code) {\n",
       "                             nbb_cells[i].set_text(nbb_formatted_code);\n",
       "                        }\n",
       "                        break;\n",
       "                    }\n",
       "                }\n",
       "            }, 500);\n",
       "            "
      ],
      "text/plain": [
       "<IPython.core.display.Javascript object>"
      ]
     },
     "metadata": {},
     "output_type": "display_data"
    }
   ],
   "source": [
    "model = smf.ols('partisanship ~ C(gender) + C(pid) + C(follow_campinterest)', data=sample).fit()\n",
    "display_summary(model)\n"
   ]
  },
  {
   "cell_type": "markdown",
   "id": "cb62878b",
   "metadata": {},
   "source": [
    "## Regressions\n",
    "\n",
    "Let's run some regressions with number of \"no difference\" as the dependent variable."
   ]
  },
  {
   "cell_type": "code",
   "execution_count": 66,
   "id": "29e36ace",
   "metadata": {},
   "outputs": [
    {
     "data": {
      "text/plain": [
       "gender\n",
       "1.0    3.786036\n",
       "2.0    4.895201\n",
       "Name: y, dtype: float64"
      ]
     },
     "execution_count": 66,
     "metadata": {},
     "output_type": "execute_result"
    },
    {
     "data": {
      "application/javascript": [
       "\n",
       "            setTimeout(function() {\n",
       "                var nbb_cell_id = 66;\n",
       "                var nbb_unformatted_code = \"sample[\\\"y\\\"] = (sample[columns] == 3).sum(axis=1)\\nsample.groupby(\\\"gender\\\")[\\\"y\\\"].mean()\";\n",
       "                var nbb_formatted_code = \"sample[\\\"y\\\"] = (sample[columns] == 3).sum(axis=1)\\nsample.groupby(\\\"gender\\\")[\\\"y\\\"].mean()\";\n",
       "                var nbb_cells = Jupyter.notebook.get_cells();\n",
       "                for (var i = 0; i < nbb_cells.length; ++i) {\n",
       "                    if (nbb_cells[i].input_prompt_number == nbb_cell_id) {\n",
       "                        if (nbb_cells[i].get_text() == nbb_unformatted_code) {\n",
       "                             nbb_cells[i].set_text(nbb_formatted_code);\n",
       "                        }\n",
       "                        break;\n",
       "                    }\n",
       "                }\n",
       "            }, 500);\n",
       "            "
      ],
      "text/plain": [
       "<IPython.core.display.Javascript object>"
      ]
     },
     "metadata": {},
     "output_type": "display_data"
    }
   ],
   "source": [
    "sample[\"y\"] = (sample[columns] == 3).sum(axis=1)\n",
    "sample.groupby(\"gender\")[\"y\"].mean()"
   ]
  },
  {
   "cell_type": "markdown",
   "id": "0a995a60",
   "metadata": {},
   "source": [
    "The difference in means is 1.33"
   ]
  },
  {
   "cell_type": "code",
   "execution_count": 67,
   "id": "d27d868b",
   "metadata": {},
   "outputs": [
    {
     "data": {
      "text/html": [
       "<table class=\"simpletable\">\n",
       "<tr>\n",
       "          <td></td>            <th>coef</th>     <th>std err</th>      <th>t</th>      <th>P>|t|</th>  <th>[0.025</th>    <th>0.975]</th>  \n",
       "</tr>\n",
       "<tr>\n",
       "  <th>Intercept</th>        <td>    3.7860</td> <td>    0.145</td> <td>   26.190</td> <td> 0.000</td> <td>    3.503</td> <td>    4.070</td>\n",
       "</tr>\n",
       "<tr>\n",
       "  <th>C(gender)[T.2.0]</th> <td>    1.1092</td> <td>    0.198</td> <td>    5.611</td> <td> 0.000</td> <td>    0.721</td> <td>    1.497</td>\n",
       "</tr>\n",
       "</table>"
      ],
      "text/latex": [
       "\\begin{center}\n",
       "\\begin{tabular}{lcccccc}\n",
       "\\toprule\n",
       "                          & \\textbf{coef} & \\textbf{std err} & \\textbf{t} & \\textbf{P$> |$t$|$} & \\textbf{[0.025} & \\textbf{0.975]}  \\\\\n",
       "\\midrule\n",
       "\\textbf{Intercept}        &       3.7860  &        0.145     &    26.190  &         0.000        &        3.503    &        4.070     \\\\\n",
       "\\textbf{C(gender)[T.2.0]} &       1.1092  &        0.198     &     5.611  &         0.000        &        0.721    &        1.497     \\\\\n",
       "\\bottomrule\n",
       "\\end{tabular}\n",
       "\\end{center}"
      ],
      "text/plain": [
       "<class 'statsmodels.iolib.table.SimpleTable'>"
      ]
     },
     "metadata": {},
     "output_type": "display_data"
    },
    {
     "data": {
      "text/html": [
       "<table class=\"simpletable\">\n",
       "<tr>\n",
       "  <td>R-squared:</td> <td>0.01624</td>\n",
       "</tr>\n",
       "</table>"
      ],
      "text/latex": [
       "\\begin{center}\n",
       "\\begin{tabular}{cc}\n",
       "\\toprule\n",
       "R-squared: & 0.01624  \\\\\n",
       "\\bottomrule\n",
       "\\end{tabular}\n",
       "\\end{center}"
      ],
      "text/plain": [
       "<class 'statsmodels.iolib.table.SimpleTable'>"
      ]
     },
     "metadata": {},
     "output_type": "display_data"
    },
    {
     "data": {
      "application/javascript": [
       "\n",
       "            setTimeout(function() {\n",
       "                var nbb_cell_id = 67;\n",
       "                var nbb_unformatted_code = \"model = smf.ols('y ~ C(gender)', data=sample).fit()\\ndisplay_summary(model)\";\n",
       "                var nbb_formatted_code = \"model = smf.ols(\\\"y ~ C(gender)\\\", data=sample).fit()\\ndisplay_summary(model)\";\n",
       "                var nbb_cells = Jupyter.notebook.get_cells();\n",
       "                for (var i = 0; i < nbb_cells.length; ++i) {\n",
       "                    if (nbb_cells[i].input_prompt_number == nbb_cell_id) {\n",
       "                        if (nbb_cells[i].get_text() == nbb_unformatted_code) {\n",
       "                             nbb_cells[i].set_text(nbb_formatted_code);\n",
       "                        }\n",
       "                        break;\n",
       "                    }\n",
       "                }\n",
       "            }, 500);\n",
       "            "
      ],
      "text/plain": [
       "<IPython.core.display.Javascript object>"
      ]
     },
     "metadata": {},
     "output_type": "display_data"
    }
   ],
   "source": [
    "model = smf.ols('y ~ C(gender)', data=sample).fit()\n",
    "display_summary(model)\n"
   ]
  },
  {
   "cell_type": "markdown",
   "id": "51d39b49",
   "metadata": {},
   "source": [
    "Part of that is \"explained\" by party id: women are less likely to identify as Republican, and  Republicans are less likely to say \"no difference\"."
   ]
  },
  {
   "cell_type": "code",
   "execution_count": 68,
   "id": "6e0778ac",
   "metadata": {},
   "outputs": [
    {
     "data": {
      "text/html": [
       "<table class=\"simpletable\">\n",
       "<tr>\n",
       "          <td></td>            <th>coef</th>     <th>std err</th>      <th>t</th>      <th>P>|t|</th>  <th>[0.025</th>    <th>0.975]</th>  \n",
       "</tr>\n",
       "<tr>\n",
       "  <th>Intercept</th>        <td>    2.8379</td> <td>    0.189</td> <td>   15.039</td> <td> 0.000</td> <td>    2.468</td> <td>    3.208</td>\n",
       "</tr>\n",
       "<tr>\n",
       "  <th>C(gender)[T.2.0]</th> <td>    1.2431</td> <td>    0.187</td> <td>    6.654</td> <td> 0.000</td> <td>    0.877</td> <td>    1.610</td>\n",
       "</tr>\n",
       "<tr>\n",
       "  <th>C(pid)[T.2.0]</th>    <td>   -0.4513</td> <td>    0.235</td> <td>   -1.918</td> <td> 0.055</td> <td>   -0.913</td> <td>    0.010</td>\n",
       "</tr>\n",
       "<tr>\n",
       "  <th>C(pid)[T.3.0]</th>    <td>    2.7358</td> <td>    0.220</td> <td>   12.420</td> <td> 0.000</td> <td>    2.304</td> <td>    3.168</td>\n",
       "</tr>\n",
       "</table>"
      ],
      "text/latex": [
       "\\begin{center}\n",
       "\\begin{tabular}{lcccccc}\n",
       "\\toprule\n",
       "                          & \\textbf{coef} & \\textbf{std err} & \\textbf{t} & \\textbf{P$> |$t$|$} & \\textbf{[0.025} & \\textbf{0.975]}  \\\\\n",
       "\\midrule\n",
       "\\textbf{Intercept}        &       2.8379  &        0.189     &    15.039  &         0.000        &        2.468    &        3.208     \\\\\n",
       "\\textbf{C(gender)[T.2.0]} &       1.2431  &        0.187     &     6.654  &         0.000        &        0.877    &        1.610     \\\\\n",
       "\\textbf{C(pid)[T.2.0]}    &      -0.4513  &        0.235     &    -1.918  &         0.055        &       -0.913    &        0.010     \\\\\n",
       "\\textbf{C(pid)[T.3.0]}    &       2.7358  &        0.220     &    12.420  &         0.000        &        2.304    &        3.168     \\\\\n",
       "\\bottomrule\n",
       "\\end{tabular}\n",
       "\\end{center}"
      ],
      "text/plain": [
       "<class 'statsmodels.iolib.table.SimpleTable'>"
      ]
     },
     "metadata": {},
     "output_type": "display_data"
    },
    {
     "data": {
      "text/html": [
       "<table class=\"simpletable\">\n",
       "<tr>\n",
       "  <td>R-squared:</td> <td>0.1242</td>\n",
       "</tr>\n",
       "</table>"
      ],
      "text/latex": [
       "\\begin{center}\n",
       "\\begin{tabular}{cc}\n",
       "\\toprule\n",
       "R-squared: & 0.1242  \\\\\n",
       "\\bottomrule\n",
       "\\end{tabular}\n",
       "\\end{center}"
      ],
      "text/plain": [
       "<class 'statsmodels.iolib.table.SimpleTable'>"
      ]
     },
     "metadata": {},
     "output_type": "display_data"
    },
    {
     "data": {
      "application/javascript": [
       "\n",
       "            setTimeout(function() {\n",
       "                var nbb_cell_id = 68;\n",
       "                var nbb_unformatted_code = \"model = smf.ols('y ~ C(gender) + C(pid)', data=sample).fit()\\ndisplay_summary(model)\";\n",
       "                var nbb_formatted_code = \"model = smf.ols(\\\"y ~ C(gender) + C(pid)\\\", data=sample).fit()\\ndisplay_summary(model)\";\n",
       "                var nbb_cells = Jupyter.notebook.get_cells();\n",
       "                for (var i = 0; i < nbb_cells.length; ++i) {\n",
       "                    if (nbb_cells[i].input_prompt_number == nbb_cell_id) {\n",
       "                        if (nbb_cells[i].get_text() == nbb_unformatted_code) {\n",
       "                             nbb_cells[i].set_text(nbb_formatted_code);\n",
       "                        }\n",
       "                        break;\n",
       "                    }\n",
       "                }\n",
       "            }, 500);\n",
       "            "
      ],
      "text/plain": [
       "<IPython.core.display.Javascript object>"
      ]
     },
     "metadata": {},
     "output_type": "display_data"
    }
   ],
   "source": [
    "model = smf.ols('y ~ C(gender) + C(pid)', data=sample).fit()\n",
    "display_summary(model)\n"
   ]
  },
  {
   "cell_type": "markdown",
   "id": "35ea149b",
   "metadata": {},
   "source": [
    "And a little bit more is explained by following the campaign: women are less likely to follow, and people who follow are less likely to say \"no difference\" -- in fact, people who are \"not much interested\" say \"no difference\" much more -- the difference is 4.5."
   ]
  },
  {
   "cell_type": "code",
   "execution_count": 69,
   "id": "dad486c1",
   "metadata": {},
   "outputs": [
    {
     "data": {
      "text/html": [
       "<table class=\"simpletable\">\n",
       "<tr>\n",
       "                <td></td>                   <th>coef</th>     <th>std err</th>      <th>t</th>      <th>P>|t|</th>  <th>[0.025</th>    <th>0.975]</th>  \n",
       "</tr>\n",
       "<tr>\n",
       "  <th>Intercept</th>                     <td>    1.7755</td> <td>    0.195</td> <td>    9.083</td> <td> 0.000</td> <td>    1.392</td> <td>    2.159</td>\n",
       "</tr>\n",
       "<tr>\n",
       "  <th>C(gender)[T.2.0]</th>              <td>    0.4987</td> <td>    0.174</td> <td>    2.866</td> <td> 0.004</td> <td>    0.157</td> <td>    0.840</td>\n",
       "</tr>\n",
       "<tr>\n",
       "  <th>C(pid)[T.2.0]</th>                 <td>   -0.2095</td> <td>    0.215</td> <td>   -0.975</td> <td> 0.330</td> <td>   -0.631</td> <td>    0.212</td>\n",
       "</tr>\n",
       "<tr>\n",
       "  <th>C(pid)[T.3.0]</th>                 <td>    2.1517</td> <td>    0.204</td> <td>   10.565</td> <td> 0.000</td> <td>    1.752</td> <td>    2.551</td>\n",
       "</tr>\n",
       "<tr>\n",
       "  <th>C(follow_campinterest)[T.2.0]</th> <td>    1.5721</td> <td>    0.194</td> <td>    8.112</td> <td> 0.000</td> <td>    1.192</td> <td>    1.952</td>\n",
       "</tr>\n",
       "<tr>\n",
       "  <th>C(follow_campinterest)[T.3.0]</th> <td>    4.6774</td> <td>    0.234</td> <td>   20.016</td> <td> 0.000</td> <td>    4.219</td> <td>    5.136</td>\n",
       "</tr>\n",
       "</table>"
      ],
      "text/latex": [
       "\\begin{center}\n",
       "\\begin{tabular}{lcccccc}\n",
       "\\toprule\n",
       "                                        & \\textbf{coef} & \\textbf{std err} & \\textbf{t} & \\textbf{P$> |$t$|$} & \\textbf{[0.025} & \\textbf{0.975]}  \\\\\n",
       "\\midrule\n",
       "\\textbf{Intercept}                      &       1.7755  &        0.195     &     9.083  &         0.000        &        1.392    &        2.159     \\\\\n",
       "\\textbf{C(gender)[T.2.0]}               &       0.4987  &        0.174     &     2.866  &         0.004        &        0.157    &        0.840     \\\\\n",
       "\\textbf{C(pid)[T.2.0]}                  &      -0.2095  &        0.215     &    -0.975  &         0.330        &       -0.631    &        0.212     \\\\\n",
       "\\textbf{C(pid)[T.3.0]}                  &       2.1517  &        0.204     &    10.565  &         0.000        &        1.752    &        2.551     \\\\\n",
       "\\textbf{C(follow\\_campinterest)[T.2.0]} &       1.5721  &        0.194     &     8.112  &         0.000        &        1.192    &        1.952     \\\\\n",
       "\\textbf{C(follow\\_campinterest)[T.3.0]} &       4.6774  &        0.234     &    20.016  &         0.000        &        4.219    &        5.136     \\\\\n",
       "\\bottomrule\n",
       "\\end{tabular}\n",
       "\\end{center}"
      ],
      "text/plain": [
       "<class 'statsmodels.iolib.table.SimpleTable'>"
      ]
     },
     "metadata": {},
     "output_type": "display_data"
    },
    {
     "data": {
      "text/html": [
       "<table class=\"simpletable\">\n",
       "<tr>\n",
       "  <td>R-squared:</td> <td>0.2765</td>\n",
       "</tr>\n",
       "</table>"
      ],
      "text/latex": [
       "\\begin{center}\n",
       "\\begin{tabular}{cc}\n",
       "\\toprule\n",
       "R-squared: & 0.2765  \\\\\n",
       "\\bottomrule\n",
       "\\end{tabular}\n",
       "\\end{center}"
      ],
      "text/plain": [
       "<class 'statsmodels.iolib.table.SimpleTable'>"
      ]
     },
     "metadata": {},
     "output_type": "display_data"
    },
    {
     "data": {
      "application/javascript": [
       "\n",
       "            setTimeout(function() {\n",
       "                var nbb_cell_id = 69;\n",
       "                var nbb_unformatted_code = \"model = smf.ols('y ~ C(gender) + C(pid) + C(follow_campinterest)', data=sample).fit()\\ndisplay_summary(model)\";\n",
       "                var nbb_formatted_code = \"model = smf.ols(\\\"y ~ C(gender) + C(pid) + C(follow_campinterest)\\\", data=sample).fit()\\ndisplay_summary(model)\";\n",
       "                var nbb_cells = Jupyter.notebook.get_cells();\n",
       "                for (var i = 0; i < nbb_cells.length; ++i) {\n",
       "                    if (nbb_cells[i].input_prompt_number == nbb_cell_id) {\n",
       "                        if (nbb_cells[i].get_text() == nbb_unformatted_code) {\n",
       "                             nbb_cells[i].set_text(nbb_formatted_code);\n",
       "                        }\n",
       "                        break;\n",
       "                    }\n",
       "                }\n",
       "            }, 500);\n",
       "            "
      ],
      "text/plain": [
       "<IPython.core.display.Javascript object>"
      ]
     },
     "metadata": {},
     "output_type": "display_data"
    }
   ],
   "source": [
    "model = smf.ols('y ~ C(gender) + C(pid) + C(follow_campinterest)', data=sample).fit()\n",
    "display_summary(model)\n"
   ]
  },
  {
   "cell_type": "markdown",
   "id": "cfc4a178",
   "metadata": {},
   "source": [
    "## Group Ratings\n",
    "\n",
    "This section explores reponses to questions that follow this schema:\n",
    "\n",
    "> We would like to get your feelings toward some of our political leaders\n",
    "and other people who are in the news these days. We will show the name of a person\n",
    "and we’d like you to rate that person using something we call the feeling thermometer.\n",
    "Ratings between 50 degrees and 100 degrees mean that you feel favorable and warm\n",
    "toward the person. Ratings between 0 degrees and 50 degrees mean that you don’t feel\n",
    "favorable toward the person and that you don’t care too much for that person. You\n",
    "would rate the person at the 50 degree mark if you don’t feel particularly warm or cold\n",
    "toward the person.\n",
    "If we come to a person whose name you don’t recognize, you don’t need to rate that\n",
    "person. Just click ’Next’ and we’ll move on to the next one."
   ]
  },
  {
   "cell_type": "code",
   "execution_count": 70,
   "id": "d1c6af74",
   "metadata": {},
   "outputs": [
    {
     "data": {
      "text/plain": [
       "['cand_trump', 'cand_biden']"
      ]
     },
     "execution_count": 70,
     "metadata": {},
     "output_type": "execute_result"
    },
    {
     "data": {
      "application/javascript": [
       "\n",
       "            setTimeout(function() {\n",
       "                var nbb_cell_id = 70;\n",
       "                var nbb_unformatted_code = \"columns = find_columns(sample, \\\"cand_\\\")\\ncolumns\";\n",
       "                var nbb_formatted_code = \"columns = find_columns(sample, \\\"cand_\\\")\\ncolumns\";\n",
       "                var nbb_cells = Jupyter.notebook.get_cells();\n",
       "                for (var i = 0; i < nbb_cells.length; ++i) {\n",
       "                    if (nbb_cells[i].input_prompt_number == nbb_cell_id) {\n",
       "                        if (nbb_cells[i].get_text() == nbb_unformatted_code) {\n",
       "                             nbb_cells[i].set_text(nbb_formatted_code);\n",
       "                        }\n",
       "                        break;\n",
       "                    }\n",
       "                }\n",
       "            }, 500);\n",
       "            "
      ],
      "text/plain": [
       "<IPython.core.display.Javascript object>"
      ]
     },
     "metadata": {},
     "output_type": "display_data"
    }
   ],
   "source": [
    "columns = find_columns(sample, \"cand_\")\n",
    "columns"
   ]
  },
  {
   "cell_type": "code",
   "execution_count": 71,
   "id": "7f0acfa8",
   "metadata": {},
   "outputs": [
    {
     "data": {
      "text/html": [
       "<div>\n",
       "<style scoped>\n",
       "    .dataframe tbody tr th:only-of-type {\n",
       "        vertical-align: middle;\n",
       "    }\n",
       "\n",
       "    .dataframe tbody tr th {\n",
       "        vertical-align: top;\n",
       "    }\n",
       "\n",
       "    .dataframe thead th {\n",
       "        text-align: right;\n",
       "    }\n",
       "</style>\n",
       "<table border=\"1\" class=\"dataframe\">\n",
       "  <thead>\n",
       "    <tr style=\"text-align: right;\">\n",
       "      <th></th>\n",
       "      <th>cand_trump</th>\n",
       "      <th>cand_biden</th>\n",
       "    </tr>\n",
       "  </thead>\n",
       "  <tbody>\n",
       "    <tr>\n",
       "      <th>count</th>\n",
       "      <td>1906.000000</td>\n",
       "      <td>1909.000000</td>\n",
       "    </tr>\n",
       "    <tr>\n",
       "      <th>mean</th>\n",
       "      <td>43.307975</td>\n",
       "      <td>41.665270</td>\n",
       "    </tr>\n",
       "    <tr>\n",
       "      <th>std</th>\n",
       "      <td>39.588621</td>\n",
       "      <td>36.390924</td>\n",
       "    </tr>\n",
       "    <tr>\n",
       "      <th>min</th>\n",
       "      <td>0.000000</td>\n",
       "      <td>0.000000</td>\n",
       "    </tr>\n",
       "    <tr>\n",
       "      <th>25%</th>\n",
       "      <td>1.000000</td>\n",
       "      <td>2.000000</td>\n",
       "    </tr>\n",
       "    <tr>\n",
       "      <th>50%</th>\n",
       "      <td>42.000000</td>\n",
       "      <td>40.000000</td>\n",
       "    </tr>\n",
       "    <tr>\n",
       "      <th>75%</th>\n",
       "      <td>84.000000</td>\n",
       "      <td>73.000000</td>\n",
       "    </tr>\n",
       "    <tr>\n",
       "      <th>max</th>\n",
       "      <td>100.000000</td>\n",
       "      <td>100.000000</td>\n",
       "    </tr>\n",
       "  </tbody>\n",
       "</table>\n",
       "</div>"
      ],
      "text/plain": [
       "        cand_trump   cand_biden\n",
       "count  1906.000000  1909.000000\n",
       "mean     43.307975    41.665270\n",
       "std      39.588621    36.390924\n",
       "min       0.000000     0.000000\n",
       "25%       1.000000     2.000000\n",
       "50%      42.000000    40.000000\n",
       "75%      84.000000    73.000000\n",
       "max     100.000000   100.000000"
      ]
     },
     "execution_count": 71,
     "metadata": {},
     "output_type": "execute_result"
    },
    {
     "data": {
      "application/javascript": [
       "\n",
       "            setTimeout(function() {\n",
       "                var nbb_cell_id = 71;\n",
       "                var nbb_unformatted_code = \"sample[columns].replace(-7, np.nan).describe()\";\n",
       "                var nbb_formatted_code = \"sample[columns].replace(-7, np.nan).describe()\";\n",
       "                var nbb_cells = Jupyter.notebook.get_cells();\n",
       "                for (var i = 0; i < nbb_cells.length; ++i) {\n",
       "                    if (nbb_cells[i].input_prompt_number == nbb_cell_id) {\n",
       "                        if (nbb_cells[i].get_text() == nbb_unformatted_code) {\n",
       "                             nbb_cells[i].set_text(nbb_formatted_code);\n",
       "                        }\n",
       "                        break;\n",
       "                    }\n",
       "                }\n",
       "            }, 500);\n",
       "            "
      ],
      "text/plain": [
       "<IPython.core.display.Javascript object>"
      ]
     },
     "metadata": {},
     "output_type": "display_data"
    }
   ],
   "source": [
    "sample[columns].replace(-7, np.nan).describe()"
   ]
  },
  {
   "cell_type": "code",
   "execution_count": 72,
   "id": "88e48e7b",
   "metadata": {},
   "outputs": [
    {
     "data": {
      "text/plain": [
       "(888, 1021)"
      ]
     },
     "execution_count": 72,
     "metadata": {},
     "output_type": "execute_result"
    },
    {
     "data": {
      "application/javascript": [
       "\n",
       "            setTimeout(function() {\n",
       "                var nbb_cell_id = 72;\n",
       "                var nbb_unformatted_code = \"sample_male = sample.query(\\\"gender == 1\\\").replace(-7, np.nan)\\nsample_female = sample.query(\\\"gender == 2\\\").replace(-7, np.nan)\\nlen(sample_male), len(sample_female)\";\n",
       "                var nbb_formatted_code = \"sample_male = sample.query(\\\"gender == 1\\\").replace(-7, np.nan)\\nsample_female = sample.query(\\\"gender == 2\\\").replace(-7, np.nan)\\nlen(sample_male), len(sample_female)\";\n",
       "                var nbb_cells = Jupyter.notebook.get_cells();\n",
       "                for (var i = 0; i < nbb_cells.length; ++i) {\n",
       "                    if (nbb_cells[i].input_prompt_number == nbb_cell_id) {\n",
       "                        if (nbb_cells[i].get_text() == nbb_unformatted_code) {\n",
       "                             nbb_cells[i].set_text(nbb_formatted_code);\n",
       "                        }\n",
       "                        break;\n",
       "                    }\n",
       "                }\n",
       "            }, 500);\n",
       "            "
      ],
      "text/plain": [
       "<IPython.core.display.Javascript object>"
      ]
     },
     "metadata": {},
     "output_type": "display_data"
    }
   ],
   "source": [
    "sample_male = sample.query(\"gender == 1\").replace(-7, np.nan)\n",
    "sample_female = sample.query(\"gender == 2\").replace(-7, np.nan)\n",
    "len(sample_male), len(sample_female)"
   ]
  },
  {
   "cell_type": "code",
   "execution_count": 73,
   "id": "9c7b2d5f",
   "metadata": {},
   "outputs": [
    {
     "data": {
      "text/html": [
       "<div>\n",
       "<style scoped>\n",
       "    .dataframe tbody tr th:only-of-type {\n",
       "        vertical-align: middle;\n",
       "    }\n",
       "\n",
       "    .dataframe tbody tr th {\n",
       "        vertical-align: top;\n",
       "    }\n",
       "\n",
       "    .dataframe thead th {\n",
       "        text-align: right;\n",
       "    }\n",
       "</style>\n",
       "<table border=\"1\" class=\"dataframe\">\n",
       "  <thead>\n",
       "    <tr style=\"text-align: right;\">\n",
       "      <th></th>\n",
       "      <th>male</th>\n",
       "      <th>female</th>\n",
       "    </tr>\n",
       "  </thead>\n",
       "  <tbody>\n",
       "    <tr>\n",
       "      <th>cand_trump</th>\n",
       "      <td>45.172297</td>\n",
       "      <td>41.681729</td>\n",
       "    </tr>\n",
       "    <tr>\n",
       "      <th>cand_biden</th>\n",
       "      <td>41.384009</td>\n",
       "      <td>41.909892</td>\n",
       "    </tr>\n",
       "  </tbody>\n",
       "</table>\n",
       "</div>"
      ],
      "text/plain": [
       "                 male     female\n",
       "cand_trump  45.172297  41.681729\n",
       "cand_biden  41.384009  41.909892"
      ]
     },
     "execution_count": 73,
     "metadata": {},
     "output_type": "execute_result"
    },
    {
     "data": {
      "application/javascript": [
       "\n",
       "            setTimeout(function() {\n",
       "                var nbb_cell_id = 73;\n",
       "                var nbb_unformatted_code = \"d = dict(male=sample_male[columns].mean(), female=sample_female[columns].mean())\\nratings_df = pd.DataFrame(d).sort_values(by=\\\"female\\\")\\nratings_df\";\n",
       "                var nbb_formatted_code = \"d = dict(male=sample_male[columns].mean(), female=sample_female[columns].mean())\\nratings_df = pd.DataFrame(d).sort_values(by=\\\"female\\\")\\nratings_df\";\n",
       "                var nbb_cells = Jupyter.notebook.get_cells();\n",
       "                for (var i = 0; i < nbb_cells.length; ++i) {\n",
       "                    if (nbb_cells[i].input_prompt_number == nbb_cell_id) {\n",
       "                        if (nbb_cells[i].get_text() == nbb_unformatted_code) {\n",
       "                             nbb_cells[i].set_text(nbb_formatted_code);\n",
       "                        }\n",
       "                        break;\n",
       "                    }\n",
       "                }\n",
       "            }, 500);\n",
       "            "
      ],
      "text/plain": [
       "<IPython.core.display.Javascript object>"
      ]
     },
     "metadata": {},
     "output_type": "display_data"
    }
   ],
   "source": [
    "d = dict(male=sample_male[columns].mean(), female=sample_female[columns].mean())\n",
    "ratings_df = pd.DataFrame(d).sort_values(by=\"female\")\n",
    "ratings_df"
   ]
  },
  {
   "cell_type": "code",
   "execution_count": 74,
   "id": "e2bf9c18",
   "metadata": {},
   "outputs": [
    {
     "data": {
      "application/javascript": [
       "\n",
       "            setTimeout(function() {\n",
       "                var nbb_cell_id = 74;\n",
       "                var nbb_unformatted_code = \"def plot_ratings(summary, names):\\n    plt.hlines(\\n        names,\\n        summary[\\\"male\\\"],\\n        summary[\\\"female\\\"],\\n        color=\\\"gray\\\",\\n        alpha=0.2,\\n    )\\n\\n    draw_markers(summary['male'], names, 's', label='male')\\n    draw_markers(summary['female'], names, 'o', label='female')\";\n",
       "                var nbb_formatted_code = \"def plot_ratings(summary, names):\\n    plt.hlines(\\n        names,\\n        summary[\\\"male\\\"],\\n        summary[\\\"female\\\"],\\n        color=\\\"gray\\\",\\n        alpha=0.2,\\n    )\\n\\n    draw_markers(summary[\\\"male\\\"], names, \\\"s\\\", label=\\\"male\\\")\\n    draw_markers(summary[\\\"female\\\"], names, \\\"o\\\", label=\\\"female\\\")\";\n",
       "                var nbb_cells = Jupyter.notebook.get_cells();\n",
       "                for (var i = 0; i < nbb_cells.length; ++i) {\n",
       "                    if (nbb_cells[i].input_prompt_number == nbb_cell_id) {\n",
       "                        if (nbb_cells[i].get_text() == nbb_unformatted_code) {\n",
       "                             nbb_cells[i].set_text(nbb_formatted_code);\n",
       "                        }\n",
       "                        break;\n",
       "                    }\n",
       "                }\n",
       "            }, 500);\n",
       "            "
      ],
      "text/plain": [
       "<IPython.core.display.Javascript object>"
      ]
     },
     "metadata": {},
     "output_type": "display_data"
    }
   ],
   "source": [
    "def plot_ratings(summary, names):\n",
    "    plt.hlines(\n",
    "        names,\n",
    "        summary[\"male\"],\n",
    "        summary[\"female\"],\n",
    "        color=\"gray\",\n",
    "        alpha=0.2,\n",
    "    )\n",
    "\n",
    "    draw_markers(summary['male'], names, 's', label='male')\n",
    "    draw_markers(summary['female'], names, 'o', label='female')\n"
   ]
  },
  {
   "cell_type": "code",
   "execution_count": 75,
   "id": "3cf187ec",
   "metadata": {
    "scrolled": true
   },
   "outputs": [
    {
     "data": {
      "image/png": "[encoded data removed]",
      "text/plain": [
       "<Figure size 450x150 with 1 Axes>"
      ]
     },
     "metadata": {},
     "output_type": "display_data"
    },
    {
     "data": {
      "application/javascript": [
       "\n",
       "            setTimeout(function() {\n",
       "                var nbb_cell_id = 75;\n",
       "                var nbb_unformatted_code = \"plt.figure(figsize=(6, 2))\\nnames = ratings_df.index\\nplot_ratings(ratings_df, names)\\ndecorate(xlabel=\\\"Average rating (0-100)\\\")\";\n",
       "                var nbb_formatted_code = \"plt.figure(figsize=(6, 2))\\nnames = ratings_df.index\\nplot_ratings(ratings_df, names)\\ndecorate(xlabel=\\\"Average rating (0-100)\\\")\";\n",
       "                var nbb_cells = Jupyter.notebook.get_cells();\n",
       "                for (var i = 0; i < nbb_cells.length; ++i) {\n",
       "                    if (nbb_cells[i].input_prompt_number == nbb_cell_id) {\n",
       "                        if (nbb_cells[i].get_text() == nbb_unformatted_code) {\n",
       "                             nbb_cells[i].set_text(nbb_formatted_code);\n",
       "                        }\n",
       "                        break;\n",
       "                    }\n",
       "                }\n",
       "            }, 500);\n",
       "            "
      ],
      "text/plain": [
       "<IPython.core.display.Javascript object>"
      ]
     },
     "metadata": {},
     "output_type": "display_data"
    }
   ],
   "source": [
    "plt.figure(figsize=(6, 2))\n",
    "names = ratings_df.index\n",
    "plot_ratings(ratings_df, names)\n",
    "decorate(xlabel=\"Average rating (0-100)\")"
   ]
  },
  {
   "cell_type": "code",
   "execution_count": 76,
   "id": "ca8ffc9c",
   "metadata": {},
   "outputs": [
    {
     "data": {
      "text/plain": [
       "['group_maga',\n",
       " 'group_demsoc',\n",
       " 'group_fascists',\n",
       " 'group_kkk',\n",
       " 'group_nazi',\n",
       " 'group_blm',\n",
       " 'group_atheists',\n",
       " 'group_prolife',\n",
       " 'group_prochoice',\n",
       " 'group_gunrights',\n",
       " 'group_lgbtrights',\n",
       " 'group_feminists',\n",
       " 'group_whitesup',\n",
       " 'group_antigay',\n",
       " 'group_socialist',\n",
       " 'group_antifa',\n",
       " 'group_christfund',\n",
       " 'group_laborun',\n",
       " 'group_bigbus',\n",
       " 'group_gayles',\n",
       " 'group_transppl',\n",
       " 'group_christians',\n",
       " 'group_police',\n",
       " 'group_journal',\n",
       " 'group_nra',\n",
       " 'group_ruralam',\n",
       " 'group_planparent',\n",
       " 'group_colprofs',\n",
       " 'group_black',\n",
       " 'group_white',\n",
       " 'group_hispanic',\n",
       " 'group_asian',\n",
       " 'group_transmen',\n",
       " 'group_transwom',\n",
       " 'group_jews',\n",
       " 'group_muslims']"
      ]
     },
     "execution_count": 76,
     "metadata": {},
     "output_type": "execute_result"
    },
    {
     "data": {
      "application/javascript": [
       "\n",
       "            setTimeout(function() {\n",
       "                var nbb_cell_id = 76;\n",
       "                var nbb_unformatted_code = \"columns = find_columns(sample, \\\"group_\\\")\\ncolumns\";\n",
       "                var nbb_formatted_code = \"columns = find_columns(sample, \\\"group_\\\")\\ncolumns\";\n",
       "                var nbb_cells = Jupyter.notebook.get_cells();\n",
       "                for (var i = 0; i < nbb_cells.length; ++i) {\n",
       "                    if (nbb_cells[i].input_prompt_number == nbb_cell_id) {\n",
       "                        if (nbb_cells[i].get_text() == nbb_unformatted_code) {\n",
       "                             nbb_cells[i].set_text(nbb_formatted_code);\n",
       "                        }\n",
       "                        break;\n",
       "                    }\n",
       "                }\n",
       "            }, 500);\n",
       "            "
      ],
      "text/plain": [
       "<IPython.core.display.Javascript object>"
      ]
     },
     "metadata": {},
     "output_type": "display_data"
    }
   ],
   "source": [
    "columns = find_columns(sample, \"group_\")\n",
    "columns"
   ]
  },
  {
   "cell_type": "code",
   "execution_count": 77,
   "id": "f6ad1550",
   "metadata": {},
   "outputs": [
    {
     "data": {
      "text/html": [
       "<div>\n",
       "<style scoped>\n",
       "    .dataframe tbody tr th:only-of-type {\n",
       "        vertical-align: middle;\n",
       "    }\n",
       "\n",
       "    .dataframe tbody tr th {\n",
       "        vertical-align: top;\n",
       "    }\n",
       "\n",
       "    .dataframe thead th {\n",
       "        text-align: right;\n",
       "    }\n",
       "</style>\n",
       "<table border=\"1\" class=\"dataframe\">\n",
       "  <thead>\n",
       "    <tr style=\"text-align: right;\">\n",
       "      <th></th>\n",
       "      <th>group_maga</th>\n",
       "      <th>group_demsoc</th>\n",
       "      <th>group_fascists</th>\n",
       "      <th>group_kkk</th>\n",
       "      <th>group_nazi</th>\n",
       "      <th>group_blm</th>\n",
       "      <th>group_atheists</th>\n",
       "      <th>group_prolife</th>\n",
       "      <th>group_prochoice</th>\n",
       "      <th>group_gunrights</th>\n",
       "      <th>...</th>\n",
       "      <th>group_planparent</th>\n",
       "      <th>group_colprofs</th>\n",
       "      <th>group_black</th>\n",
       "      <th>group_white</th>\n",
       "      <th>group_hispanic</th>\n",
       "      <th>group_asian</th>\n",
       "      <th>group_transmen</th>\n",
       "      <th>group_transwom</th>\n",
       "      <th>group_jews</th>\n",
       "      <th>group_muslims</th>\n",
       "    </tr>\n",
       "  </thead>\n",
       "  <tbody>\n",
       "    <tr>\n",
       "      <th>count</th>\n",
       "      <td>1903.000000</td>\n",
       "      <td>1907.000000</td>\n",
       "      <td>1898.000000</td>\n",
       "      <td>1899.000000</td>\n",
       "      <td>1905.000000</td>\n",
       "      <td>1909.000000</td>\n",
       "      <td>1909.000000</td>\n",
       "      <td>1909.000000</td>\n",
       "      <td>1907.000000</td>\n",
       "      <td>1907.000000</td>\n",
       "      <td>...</td>\n",
       "      <td>1909.000000</td>\n",
       "      <td>1905.000000</td>\n",
       "      <td>1909.000000</td>\n",
       "      <td>1908.000000</td>\n",
       "      <td>1909.000000</td>\n",
       "      <td>1908.000000</td>\n",
       "      <td>1909.000000</td>\n",
       "      <td>1909.000000</td>\n",
       "      <td>1909.000000</td>\n",
       "      <td>1909.000000</td>\n",
       "    </tr>\n",
       "    <tr>\n",
       "      <th>mean</th>\n",
       "      <td>37.214924</td>\n",
       "      <td>41.511799</td>\n",
       "      <td>17.394626</td>\n",
       "      <td>10.849921</td>\n",
       "      <td>12.561155</td>\n",
       "      <td>45.361446</td>\n",
       "      <td>46.080147</td>\n",
       "      <td>49.372446</td>\n",
       "      <td>55.420556</td>\n",
       "      <td>49.291033</td>\n",
       "      <td>...</td>\n",
       "      <td>57.742797</td>\n",
       "      <td>58.583202</td>\n",
       "      <td>70.298586</td>\n",
       "      <td>69.792977</td>\n",
       "      <td>69.281299</td>\n",
       "      <td>70.436059</td>\n",
       "      <td>43.342064</td>\n",
       "      <td>45.126244</td>\n",
       "      <td>69.272394</td>\n",
       "      <td>54.679413</td>\n",
       "    </tr>\n",
       "    <tr>\n",
       "      <th>std</th>\n",
       "      <td>34.499707</td>\n",
       "      <td>33.879923</td>\n",
       "      <td>23.779046</td>\n",
       "      <td>21.459991</td>\n",
       "      <td>21.887402</td>\n",
       "      <td>35.933045</td>\n",
       "      <td>30.526690</td>\n",
       "      <td>32.981081</td>\n",
       "      <td>32.752199</td>\n",
       "      <td>33.730301</td>\n",
       "      <td>...</td>\n",
       "      <td>34.714746</td>\n",
       "      <td>28.266839</td>\n",
       "      <td>25.367548</td>\n",
       "      <td>23.393750</td>\n",
       "      <td>24.429164</td>\n",
       "      <td>24.248746</td>\n",
       "      <td>34.169034</td>\n",
       "      <td>34.464856</td>\n",
       "      <td>24.770079</td>\n",
       "      <td>27.988896</td>\n",
       "    </tr>\n",
       "    <tr>\n",
       "      <th>min</th>\n",
       "      <td>0.000000</td>\n",
       "      <td>0.000000</td>\n",
       "      <td>0.000000</td>\n",
       "      <td>0.000000</td>\n",
       "      <td>0.000000</td>\n",
       "      <td>0.000000</td>\n",
       "      <td>0.000000</td>\n",
       "      <td>0.000000</td>\n",
       "      <td>0.000000</td>\n",
       "      <td>0.000000</td>\n",
       "      <td>...</td>\n",
       "      <td>0.000000</td>\n",
       "      <td>0.000000</td>\n",
       "      <td>0.000000</td>\n",
       "      <td>0.000000</td>\n",
       "      <td>0.000000</td>\n",
       "      <td>0.000000</td>\n",
       "      <td>0.000000</td>\n",
       "      <td>0.000000</td>\n",
       "      <td>0.000000</td>\n",
       "      <td>0.000000</td>\n",
       "    </tr>\n",
       "    <tr>\n",
       "      <th>25%</th>\n",
       "      <td>1.000000</td>\n",
       "      <td>4.000000</td>\n",
       "      <td>0.000000</td>\n",
       "      <td>0.000000</td>\n",
       "      <td>0.000000</td>\n",
       "      <td>5.000000</td>\n",
       "      <td>18.000000</td>\n",
       "      <td>16.000000</td>\n",
       "      <td>31.000000</td>\n",
       "      <td>16.000000</td>\n",
       "      <td>...</td>\n",
       "      <td>30.000000</td>\n",
       "      <td>45.000000</td>\n",
       "      <td>50.000000</td>\n",
       "      <td>50.000000</td>\n",
       "      <td>50.000000</td>\n",
       "      <td>50.000000</td>\n",
       "      <td>5.000000</td>\n",
       "      <td>7.000000</td>\n",
       "      <td>51.000000</td>\n",
       "      <td>43.000000</td>\n",
       "    </tr>\n",
       "    <tr>\n",
       "      <th>50%</th>\n",
       "      <td>36.000000</td>\n",
       "      <td>47.000000</td>\n",
       "      <td>3.000000</td>\n",
       "      <td>1.000000</td>\n",
       "      <td>1.000000</td>\n",
       "      <td>50.000000</td>\n",
       "      <td>50.000000</td>\n",
       "      <td>50.000000</td>\n",
       "      <td>54.000000</td>\n",
       "      <td>50.000000</td>\n",
       "      <td>...</td>\n",
       "      <td>61.000000</td>\n",
       "      <td>60.000000</td>\n",
       "      <td>72.000000</td>\n",
       "      <td>70.000000</td>\n",
       "      <td>70.000000</td>\n",
       "      <td>73.000000</td>\n",
       "      <td>50.000000</td>\n",
       "      <td>50.000000</td>\n",
       "      <td>70.000000</td>\n",
       "      <td>52.000000</td>\n",
       "    </tr>\n",
       "    <tr>\n",
       "      <th>75%</th>\n",
       "      <td>60.000000</td>\n",
       "      <td>70.000000</td>\n",
       "      <td>31.000000</td>\n",
       "      <td>7.000000</td>\n",
       "      <td>15.000000</td>\n",
       "      <td>76.000000</td>\n",
       "      <td>64.000000</td>\n",
       "      <td>75.000000</td>\n",
       "      <td>85.000000</td>\n",
       "      <td>78.000000</td>\n",
       "      <td>...</td>\n",
       "      <td>89.000000</td>\n",
       "      <td>84.000000</td>\n",
       "      <td>94.000000</td>\n",
       "      <td>90.000000</td>\n",
       "      <td>91.000000</td>\n",
       "      <td>90.000000</td>\n",
       "      <td>70.000000</td>\n",
       "      <td>72.000000</td>\n",
       "      <td>90.000000</td>\n",
       "      <td>74.000000</td>\n",
       "    </tr>\n",
       "    <tr>\n",
       "      <th>max</th>\n",
       "      <td>100.000000</td>\n",
       "      <td>100.000000</td>\n",
       "      <td>100.000000</td>\n",
       "      <td>100.000000</td>\n",
       "      <td>100.000000</td>\n",
       "      <td>100.000000</td>\n",
       "      <td>100.000000</td>\n",
       "      <td>100.000000</td>\n",
       "      <td>100.000000</td>\n",
       "      <td>100.000000</td>\n",
       "      <td>...</td>\n",
       "      <td>100.000000</td>\n",
       "      <td>100.000000</td>\n",
       "      <td>100.000000</td>\n",
       "      <td>100.000000</td>\n",
       "      <td>100.000000</td>\n",
       "      <td>100.000000</td>\n",
       "      <td>100.000000</td>\n",
       "      <td>100.000000</td>\n",
       "      <td>100.000000</td>\n",
       "      <td>100.000000</td>\n",
       "    </tr>\n",
       "  </tbody>\n",
       "</table>\n",
       "<p>8 rows × 36 columns</p>\n",
       "</div>"
      ],
      "text/plain": [
       "        group_maga  group_demsoc  group_fascists    group_kkk   group_nazi  \\\n",
       "count  1903.000000   1907.000000     1898.000000  1899.000000  1905.000000   \n",
       "mean     37.214924     41.511799       17.394626    10.849921    12.561155   \n",
       "std      34.499707     33.879923       23.779046    21.459991    21.887402   \n",
       "min       0.000000      0.000000        0.000000     0.000000     0.000000   \n",
       "25%       1.000000      4.000000        0.000000     0.000000     0.000000   \n",
       "50%      36.000000     47.000000        3.000000     1.000000     1.000000   \n",
       "75%      60.000000     70.000000       31.000000     7.000000    15.000000   \n",
       "max     100.000000    100.000000      100.000000   100.000000   100.000000   \n",
       "\n",
       "         group_blm  group_atheists  group_prolife  group_prochoice  \\\n",
       "count  1909.000000     1909.000000    1909.000000      1907.000000   \n",
       "mean     45.361446       46.080147      49.372446        55.420556   \n",
       "std      35.933045       30.526690      32.981081        32.752199   \n",
       "min       0.000000        0.000000       0.000000         0.000000   \n",
       "25%       5.000000       18.000000      16.000000        31.000000   \n",
       "50%      50.000000       50.000000      50.000000        54.000000   \n",
       "75%      76.000000       64.000000      75.000000        85.000000   \n",
       "max     100.000000      100.000000     100.000000       100.000000   \n",
       "\n",
       "       group_gunrights  ...  group_planparent  group_colprofs  group_black  \\\n",
       "count      1907.000000  ...       1909.000000     1905.000000  1909.000000   \n",
       "mean         49.291033  ...         57.742797       58.583202    70.298586   \n",
       "std          33.730301  ...         34.714746       28.266839    25.367548   \n",
       "min           0.000000  ...          0.000000        0.000000     0.000000   \n",
       "25%          16.000000  ...         30.000000       45.000000    50.000000   \n",
       "50%          50.000000  ...         61.000000       60.000000    72.000000   \n",
       "75%          78.000000  ...         89.000000       84.000000    94.000000   \n",
       "max         100.000000  ...        100.000000      100.000000   100.000000   \n",
       "\n",
       "       group_white  group_hispanic  group_asian  group_transmen  \\\n",
       "count  1908.000000     1909.000000  1908.000000     1909.000000   \n",
       "mean     69.792977       69.281299    70.436059       43.342064   \n",
       "std      23.393750       24.429164    24.248746       34.169034   \n",
       "min       0.000000        0.000000     0.000000        0.000000   \n",
       "25%      50.000000       50.000000    50.000000        5.000000   \n",
       "50%      70.000000       70.000000    73.000000       50.000000   \n",
       "75%      90.000000       91.000000    90.000000       70.000000   \n",
       "max     100.000000      100.000000   100.000000      100.000000   \n",
       "\n",
       "       group_transwom   group_jews  group_muslims  \n",
       "count     1909.000000  1909.000000    1909.000000  \n",
       "mean        45.126244    69.272394      54.679413  \n",
       "std         34.464856    24.770079      27.988896  \n",
       "min          0.000000     0.000000       0.000000  \n",
       "25%          7.000000    51.000000      43.000000  \n",
       "50%         50.000000    70.000000      52.000000  \n",
       "75%         72.000000    90.000000      74.000000  \n",
       "max        100.000000   100.000000     100.000000  \n",
       "\n",
       "[8 rows x 36 columns]"
      ]
     },
     "execution_count": 77,
     "metadata": {},
     "output_type": "execute_result"
    },
    {
     "data": {
      "application/javascript": [
       "\n",
       "            setTimeout(function() {\n",
       "                var nbb_cell_id = 77;\n",
       "                var nbb_unformatted_code = \"sample[columns].replace(-7, np.nan).describe()\";\n",
       "                var nbb_formatted_code = \"sample[columns].replace(-7, np.nan).describe()\";\n",
       "                var nbb_cells = Jupyter.notebook.get_cells();\n",
       "                for (var i = 0; i < nbb_cells.length; ++i) {\n",
       "                    if (nbb_cells[i].input_prompt_number == nbb_cell_id) {\n",
       "                        if (nbb_cells[i].get_text() == nbb_unformatted_code) {\n",
       "                             nbb_cells[i].set_text(nbb_formatted_code);\n",
       "                        }\n",
       "                        break;\n",
       "                    }\n",
       "                }\n",
       "            }, 500);\n",
       "            "
      ],
      "text/plain": [
       "<IPython.core.display.Javascript object>"
      ]
     },
     "metadata": {},
     "output_type": "display_data"
    }
   ],
   "source": [
    "sample[columns].replace(-7, np.nan).describe()"
   ]
  },
  {
   "cell_type": "code",
   "execution_count": 78,
   "id": "862bea69",
   "metadata": {},
   "outputs": [
    {
     "data": {
      "text/plain": [
       "(888, 1021)"
      ]
     },
     "execution_count": 78,
     "metadata": {},
     "output_type": "execute_result"
    },
    {
     "data": {
      "application/javascript": [
       "\n",
       "            setTimeout(function() {\n",
       "                var nbb_cell_id = 78;\n",
       "                var nbb_unformatted_code = \"sample_male = sample.query(\\\"gender == 1\\\").replace(-7, np.nan)\\nsample_female = sample.query(\\\"gender == 2\\\").replace(-7, np.nan)\\nlen(sample_male), len(sample_female)\";\n",
       "                var nbb_formatted_code = \"sample_male = sample.query(\\\"gender == 1\\\").replace(-7, np.nan)\\nsample_female = sample.query(\\\"gender == 2\\\").replace(-7, np.nan)\\nlen(sample_male), len(sample_female)\";\n",
       "                var nbb_cells = Jupyter.notebook.get_cells();\n",
       "                for (var i = 0; i < nbb_cells.length; ++i) {\n",
       "                    if (nbb_cells[i].input_prompt_number == nbb_cell_id) {\n",
       "                        if (nbb_cells[i].get_text() == nbb_unformatted_code) {\n",
       "                             nbb_cells[i].set_text(nbb_formatted_code);\n",
       "                        }\n",
       "                        break;\n",
       "                    }\n",
       "                }\n",
       "            }, 500);\n",
       "            "
      ],
      "text/plain": [
       "<IPython.core.display.Javascript object>"
      ]
     },
     "metadata": {},
     "output_type": "display_data"
    }
   ],
   "source": [
    "sample_male = sample.query(\"gender == 1\").replace(-7, np.nan)\n",
    "sample_female = sample.query(\"gender == 2\").replace(-7, np.nan)\n",
    "len(sample_male), len(sample_female)"
   ]
  },
  {
   "cell_type": "code",
   "execution_count": 79,
   "id": "5efd629c",
   "metadata": {},
   "outputs": [
    {
     "data": {
      "text/html": [
       "<div>\n",
       "<style scoped>\n",
       "    .dataframe tbody tr th:only-of-type {\n",
       "        vertical-align: middle;\n",
       "    }\n",
       "\n",
       "    .dataframe tbody tr th {\n",
       "        vertical-align: top;\n",
       "    }\n",
       "\n",
       "    .dataframe thead th {\n",
       "        text-align: right;\n",
       "    }\n",
       "</style>\n",
       "<table border=\"1\" class=\"dataframe\">\n",
       "  <thead>\n",
       "    <tr style=\"text-align: right;\">\n",
       "      <th></th>\n",
       "      <th>male</th>\n",
       "      <th>female</th>\n",
       "    </tr>\n",
       "  </thead>\n",
       "  <tbody>\n",
       "    <tr>\n",
       "      <th>group_kkk</th>\n",
       "      <td>12.989796</td>\n",
       "      <td>8.994100</td>\n",
       "    </tr>\n",
       "    <tr>\n",
       "      <th>group_nazi</th>\n",
       "      <td>13.461105</td>\n",
       "      <td>11.777014</td>\n",
       "    </tr>\n",
       "    <tr>\n",
       "      <th>group_whitesup</th>\n",
       "      <td>17.055180</td>\n",
       "      <td>13.424510</td>\n",
       "    </tr>\n",
       "    <tr>\n",
       "      <th>group_fascists</th>\n",
       "      <td>17.559955</td>\n",
       "      <td>17.250493</td>\n",
       "    </tr>\n",
       "    <tr>\n",
       "      <th>group_antifa</th>\n",
       "      <td>29.144482</td>\n",
       "      <td>27.527638</td>\n",
       "    </tr>\n",
       "    <tr>\n",
       "      <th>group_antigay</th>\n",
       "      <td>31.561937</td>\n",
       "      <td>28.065686</td>\n",
       "    </tr>\n",
       "    <tr>\n",
       "      <th>group_maga</th>\n",
       "      <td>40.688209</td>\n",
       "      <td>34.214496</td>\n",
       "    </tr>\n",
       "    <tr>\n",
       "      <th>group_socialist</th>\n",
       "      <td>38.633596</td>\n",
       "      <td>40.216667</td>\n",
       "    </tr>\n",
       "    <tr>\n",
       "      <th>group_demsoc</th>\n",
       "      <td>39.719278</td>\n",
       "      <td>43.070588</td>\n",
       "    </tr>\n",
       "    <tr>\n",
       "      <th>group_nra</th>\n",
       "      <td>47.114865</td>\n",
       "      <td>43.490695</td>\n",
       "    </tr>\n",
       "    <tr>\n",
       "      <th>group_atheists</th>\n",
       "      <td>48.884009</td>\n",
       "      <td>43.641528</td>\n",
       "    </tr>\n",
       "    <tr>\n",
       "      <th>group_christfund</th>\n",
       "      <td>45.524775</td>\n",
       "      <td>43.777887</td>\n",
       "    </tr>\n",
       "    <tr>\n",
       "      <th>group_gunrights</th>\n",
       "      <td>52.634009</td>\n",
       "      <td>46.377821</td>\n",
       "    </tr>\n",
       "    <tr>\n",
       "      <th>group_bigbus</th>\n",
       "      <td>45.846847</td>\n",
       "      <td>46.697356</td>\n",
       "    </tr>\n",
       "    <tr>\n",
       "      <th>group_transmen</th>\n",
       "      <td>38.463964</td>\n",
       "      <td>47.584721</td>\n",
       "    </tr>\n",
       "    <tr>\n",
       "      <th>group_blm</th>\n",
       "      <td>42.563063</td>\n",
       "      <td>47.795299</td>\n",
       "    </tr>\n",
       "    <tr>\n",
       "      <th>group_prolife</th>\n",
       "      <td>49.680180</td>\n",
       "      <td>49.104799</td>\n",
       "    </tr>\n",
       "    <tr>\n",
       "      <th>group_transwom</th>\n",
       "      <td>40.472973</td>\n",
       "      <td>49.173359</td>\n",
       "    </tr>\n",
       "    <tr>\n",
       "      <th>group_lgbtrights</th>\n",
       "      <td>43.128378</td>\n",
       "      <td>50.194118</td>\n",
       "    </tr>\n",
       "    <tr>\n",
       "      <th>group_transppl</th>\n",
       "      <td>42.135135</td>\n",
       "      <td>51.485798</td>\n",
       "    </tr>\n",
       "    <tr>\n",
       "      <th>group_journal</th>\n",
       "      <td>49.645270</td>\n",
       "      <td>54.872549</td>\n",
       "    </tr>\n",
       "    <tr>\n",
       "      <th>group_feminists</th>\n",
       "      <td>46.099211</td>\n",
       "      <td>55.484819</td>\n",
       "    </tr>\n",
       "    <tr>\n",
       "      <th>group_muslims</th>\n",
       "      <td>52.520270</td>\n",
       "      <td>56.557297</td>\n",
       "    </tr>\n",
       "    <tr>\n",
       "      <th>group_laborun</th>\n",
       "      <td>56.268018</td>\n",
       "      <td>57.479922</td>\n",
       "    </tr>\n",
       "    <tr>\n",
       "      <th>group_gayles</th>\n",
       "      <td>49.642616</td>\n",
       "      <td>57.958864</td>\n",
       "    </tr>\n",
       "    <tr>\n",
       "      <th>group_prochoice</th>\n",
       "      <td>51.698198</td>\n",
       "      <td>58.664377</td>\n",
       "    </tr>\n",
       "    <tr>\n",
       "      <th>group_colprofs</th>\n",
       "      <td>55.631222</td>\n",
       "      <td>61.139079</td>\n",
       "    </tr>\n",
       "    <tr>\n",
       "      <th>group_planparent</th>\n",
       "      <td>52.859234</td>\n",
       "      <td>61.990206</td>\n",
       "    </tr>\n",
       "    <tr>\n",
       "      <th>group_police</th>\n",
       "      <td>63.477477</td>\n",
       "      <td>64.557297</td>\n",
       "    </tr>\n",
       "    <tr>\n",
       "      <th>group_christians</th>\n",
       "      <td>66.359234</td>\n",
       "      <td>67.622549</td>\n",
       "    </tr>\n",
       "    <tr>\n",
       "      <th>group_white</th>\n",
       "      <td>70.248874</td>\n",
       "      <td>69.396078</td>\n",
       "    </tr>\n",
       "    <tr>\n",
       "      <th>group_ruralam</th>\n",
       "      <td>70.695946</td>\n",
       "      <td>70.421415</td>\n",
       "    </tr>\n",
       "    <tr>\n",
       "      <th>group_asian</th>\n",
       "      <td>70.259009</td>\n",
       "      <td>70.590196</td>\n",
       "    </tr>\n",
       "    <tr>\n",
       "      <th>group_jews</th>\n",
       "      <td>66.924550</td>\n",
       "      <td>71.314398</td>\n",
       "    </tr>\n",
       "    <tr>\n",
       "      <th>group_black</th>\n",
       "      <td>69.101351</td>\n",
       "      <td>71.339863</td>\n",
       "    </tr>\n",
       "    <tr>\n",
       "      <th>group_hispanic</th>\n",
       "      <td>66.877252</td>\n",
       "      <td>71.372184</td>\n",
       "    </tr>\n",
       "  </tbody>\n",
       "</table>\n",
       "</div>"
      ],
      "text/plain": [
       "                       male     female\n",
       "group_kkk         12.989796   8.994100\n",
       "group_nazi        13.461105  11.777014\n",
       "group_whitesup    17.055180  13.424510\n",
       "group_fascists    17.559955  17.250493\n",
       "group_antifa      29.144482  27.527638\n",
       "group_antigay     31.561937  28.065686\n",
       "group_maga        40.688209  34.214496\n",
       "group_socialist   38.633596  40.216667\n",
       "group_demsoc      39.719278  43.070588\n",
       "group_nra         47.114865  43.490695\n",
       "group_atheists    48.884009  43.641528\n",
       "group_christfund  45.524775  43.777887\n",
       "group_gunrights   52.634009  46.377821\n",
       "group_bigbus      45.846847  46.697356\n",
       "group_transmen    38.463964  47.584721\n",
       "group_blm         42.563063  47.795299\n",
       "group_prolife     49.680180  49.104799\n",
       "group_transwom    40.472973  49.173359\n",
       "group_lgbtrights  43.128378  50.194118\n",
       "group_transppl    42.135135  51.485798\n",
       "group_journal     49.645270  54.872549\n",
       "group_feminists   46.099211  55.484819\n",
       "group_muslims     52.520270  56.557297\n",
       "group_laborun     56.268018  57.479922\n",
       "group_gayles      49.642616  57.958864\n",
       "group_prochoice   51.698198  58.664377\n",
       "group_colprofs    55.631222  61.139079\n",
       "group_planparent  52.859234  61.990206\n",
       "group_police      63.477477  64.557297\n",
       "group_christians  66.359234  67.622549\n",
       "group_white       70.248874  69.396078\n",
       "group_ruralam     70.695946  70.421415\n",
       "group_asian       70.259009  70.590196\n",
       "group_jews        66.924550  71.314398\n",
       "group_black       69.101351  71.339863\n",
       "group_hispanic    66.877252  71.372184"
      ]
     },
     "execution_count": 79,
     "metadata": {},
     "output_type": "execute_result"
    },
    {
     "data": {
      "application/javascript": [
       "\n",
       "            setTimeout(function() {\n",
       "                var nbb_cell_id = 79;\n",
       "                var nbb_unformatted_code = \"d = dict(male=sample_male[columns].mean(), female=sample_female[columns].mean())\\nratings_df = pd.DataFrame(d).sort_values(by=\\\"female\\\")\\nratings_df\";\n",
       "                var nbb_formatted_code = \"d = dict(male=sample_male[columns].mean(), female=sample_female[columns].mean())\\nratings_df = pd.DataFrame(d).sort_values(by=\\\"female\\\")\\nratings_df\";\n",
       "                var nbb_cells = Jupyter.notebook.get_cells();\n",
       "                for (var i = 0; i < nbb_cells.length; ++i) {\n",
       "                    if (nbb_cells[i].input_prompt_number == nbb_cell_id) {\n",
       "                        if (nbb_cells[i].get_text() == nbb_unformatted_code) {\n",
       "                             nbb_cells[i].set_text(nbb_formatted_code);\n",
       "                        }\n",
       "                        break;\n",
       "                    }\n",
       "                }\n",
       "            }, 500);\n",
       "            "
      ],
      "text/plain": [
       "<IPython.core.display.Javascript object>"
      ]
     },
     "metadata": {},
     "output_type": "display_data"
    }
   ],
   "source": [
    "d = dict(male=sample_male[columns].mean(), female=sample_female[columns].mean())\n",
    "ratings_df = pd.DataFrame(d).sort_values(by=\"female\")\n",
    "ratings_df"
   ]
  },
  {
   "cell_type": "code",
   "execution_count": 80,
   "id": "8ba4165a",
   "metadata": {
    "scrolled": true
   },
   "outputs": [
    {
     "data": {
      "image/png": "[encoded data removed]",
      "text/plain": [
       "<Figure size 450x637.5 with 1 Axes>"
      ]
     },
     "metadata": {},
     "output_type": "display_data"
    },
    {
     "data": {
      "application/javascript": [
       "\n",
       "            setTimeout(function() {\n",
       "                var nbb_cell_id = 80;\n",
       "                var nbb_unformatted_code = \"plt.figure(figsize=(6, 8.5))\\nnames = ratings_df.index\\nplot_ratings(ratings_df, names)\\ndecorate(xlabel=\\\"Average rating (0-100)\\\")\";\n",
       "                var nbb_formatted_code = \"plt.figure(figsize=(6, 8.5))\\nnames = ratings_df.index\\nplot_ratings(ratings_df, names)\\ndecorate(xlabel=\\\"Average rating (0-100)\\\")\";\n",
       "                var nbb_cells = Jupyter.notebook.get_cells();\n",
       "                for (var i = 0; i < nbb_cells.length; ++i) {\n",
       "                    if (nbb_cells[i].input_prompt_number == nbb_cell_id) {\n",
       "                        if (nbb_cells[i].get_text() == nbb_unformatted_code) {\n",
       "                             nbb_cells[i].set_text(nbb_formatted_code);\n",
       "                        }\n",
       "                        break;\n",
       "                    }\n",
       "                }\n",
       "            }, 500);\n",
       "            "
      ],
      "text/plain": [
       "<IPython.core.display.Javascript object>"
      ]
     },
     "metadata": {},
     "output_type": "display_data"
    }
   ],
   "source": [
    "plt.figure(figsize=(6, 8.5))\n",
    "names = ratings_df.index\n",
    "plot_ratings(ratings_df, names)\n",
    "decorate(xlabel=\"Average rating (0-100)\")"
   ]
  },
  {
   "cell_type": "markdown",
   "id": "d4b7ce4b",
   "metadata": {},
   "source": [
    "## Look for variables with large gender gaps\n",
    "\n",
    "This section and the next contain two methods for identifying questions with large gender gaps, without bothering to decode the responses.\n",
    "\n",
    "Method 1 looks for variables where there's a big difference in the means, but it might not be reliable because a lot of variables are encoded in a way where the mean is not meaningful (or it's misleading).\n",
    "But it's a way to find candidates.\n",
    "\n",
    "Method 2 finds the most common response for each questions and looks at the differences in proportions of that response. It is more robust in the sense that it doesn't depend on the meaning of the responses, but it might miss differences in the less common responses."
   ]
  },
  {
   "cell_type": "code",
   "execution_count": 81,
   "id": "7fda82a1",
   "metadata": {},
   "outputs": [
    {
     "data": {
      "application/javascript": [
       "\n",
       "            setTimeout(function() {\n",
       "                var nbb_cell_id = 81;\n",
       "                var nbb_unformatted_code = \"def compute_diff_means(col, flag):\\n    male = df_male[col].dropna()\\n    try:\\n        male = male.where(male >= 0, np.nan)\\n    except TypeError:\\n        return np.nan\\n\\n    female = df_female[col].dropna()\\n    female = female.where(female >= 0, np.nan)\\n\\n    if male.count() == 0 or female.count() == 0:\\n        return np.nan\\n\\n    m1, m2 = male.mean(), female.mean()\\n    avg = (m1 + m2) / 2\\n    return (m1 - m2) / avg\";\n",
       "                var nbb_formatted_code = \"def compute_diff_means(col, flag):\\n    male = df_male[col].dropna()\\n    try:\\n        male = male.where(male >= 0, np.nan)\\n    except TypeError:\\n        return np.nan\\n\\n    female = df_female[col].dropna()\\n    female = female.where(female >= 0, np.nan)\\n\\n    if male.count() == 0 or female.count() == 0:\\n        return np.nan\\n\\n    m1, m2 = male.mean(), female.mean()\\n    avg = (m1 + m2) / 2\\n    return (m1 - m2) / avg\";\n",
       "                var nbb_cells = Jupyter.notebook.get_cells();\n",
       "                for (var i = 0; i < nbb_cells.length; ++i) {\n",
       "                    if (nbb_cells[i].input_prompt_number == nbb_cell_id) {\n",
       "                        if (nbb_cells[i].get_text() == nbb_unformatted_code) {\n",
       "                             nbb_cells[i].set_text(nbb_formatted_code);\n",
       "                        }\n",
       "                        break;\n",
       "                    }\n",
       "                }\n",
       "            }, 500);\n",
       "            "
      ],
      "text/plain": [
       "<IPython.core.display.Javascript object>"
      ]
     },
     "metadata": {},
     "output_type": "display_data"
    }
   ],
   "source": [
    "def compute_diff_means(col, flag):\n",
    "    male = df_male[col].dropna()\n",
    "    try:\n",
    "        male = male.where(male >= 0, np.nan)\n",
    "    except TypeError:\n",
    "        return np.nan\n",
    "\n",
    "    female = df_female[col].dropna()\n",
    "    female = female.where(female >= 0, np.nan)\n",
    "\n",
    "    if male.count() == 0 or female.count() == 0:\n",
    "        return np.nan\n",
    "\n",
    "    m1, m2 = male.mean(), female.mean()\n",
    "    avg = (m1 + m2) / 2\n",
    "    return (m1 - m2) / avg"
   ]
  },
  {
   "cell_type": "code",
   "execution_count": 82,
   "id": "cfff5051",
   "metadata": {},
   "outputs": [
    {
     "data": {
      "text/plain": [
       "(888, 1021)"
      ]
     },
     "execution_count": 82,
     "metadata": {},
     "output_type": "execute_result"
    },
    {
     "data": {
      "application/javascript": [
       "\n",
       "            setTimeout(function() {\n",
       "                var nbb_cell_id = 82;\n",
       "                var nbb_unformatted_code = \"df_male = sample.query(\\\"gender == 1\\\")\\ndf_female = sample.query(\\\"gender == 2\\\")\\nlen(df_male), len(df_female)\";\n",
       "                var nbb_formatted_code = \"df_male = sample.query(\\\"gender == 1\\\")\\ndf_female = sample.query(\\\"gender == 2\\\")\\nlen(df_male), len(df_female)\";\n",
       "                var nbb_cells = Jupyter.notebook.get_cells();\n",
       "                for (var i = 0; i < nbb_cells.length; ++i) {\n",
       "                    if (nbb_cells[i].input_prompt_number == nbb_cell_id) {\n",
       "                        if (nbb_cells[i].get_text() == nbb_unformatted_code) {\n",
       "                             nbb_cells[i].set_text(nbb_formatted_code);\n",
       "                        }\n",
       "                        break;\n",
       "                    }\n",
       "                }\n",
       "            }, 500);\n",
       "            "
      ],
      "text/plain": [
       "<IPython.core.display.Javascript object>"
      ]
     },
     "metadata": {},
     "output_type": "display_data"
    }
   ],
   "source": [
    "df_male = sample.query(\"gender == 1\")\n",
    "df_female = sample.query(\"gender == 2\")\n",
    "len(df_male), len(df_female)"
   ]
  },
  {
   "cell_type": "code",
   "execution_count": 83,
   "id": "4f73c6e5",
   "metadata": {},
   "outputs": [
    {
     "data": {
      "text/plain": [
       "version          object\n",
       "caseid            int16\n",
       "weight          float64\n",
       "weight_spss     float32\n",
       "sample_type     float64\n",
       "                 ...   \n",
       "rep             float64\n",
       "no_diff         float64\n",
       "pref             object\n",
       "partisanship    float64\n",
       "y                 int64\n",
       "Length: 948, dtype: object"
      ]
     },
     "execution_count": 83,
     "metadata": {},
     "output_type": "execute_result"
    },
    {
     "data": {
      "application/javascript": [
       "\n",
       "            setTimeout(function() {\n",
       "                var nbb_cell_id = 83;\n",
       "                var nbb_unformatted_code = \"df_male.dtypes\";\n",
       "                var nbb_formatted_code = \"df_male.dtypes\";\n",
       "                var nbb_cells = Jupyter.notebook.get_cells();\n",
       "                for (var i = 0; i < nbb_cells.length; ++i) {\n",
       "                    if (nbb_cells[i].input_prompt_number == nbb_cell_id) {\n",
       "                        if (nbb_cells[i].get_text() == nbb_unformatted_code) {\n",
       "                             nbb_cells[i].set_text(nbb_formatted_code);\n",
       "                        }\n",
       "                        break;\n",
       "                    }\n",
       "                }\n",
       "            }, 500);\n",
       "            "
      ],
      "text/plain": [
       "<IPython.core.display.Javascript object>"
      ]
     },
     "metadata": {},
     "output_type": "display_data"
    }
   ],
   "source": [
    "df_male.dtypes"
   ]
  },
  {
   "cell_type": "code",
   "execution_count": 84,
   "id": "ea39fcf6",
   "metadata": {},
   "outputs": [
    {
     "data": {
      "application/javascript": [
       "\n",
       "            setTimeout(function() {\n",
       "                var nbb_cell_id = 84;\n",
       "                var nbb_unformatted_code = \"candidate_cols = [\\n    col for col in df.columns if not col.endswith(\\\"timing\\\") and not col.endswith(\\\"skp\\\")\\n]\";\n",
       "                var nbb_formatted_code = \"candidate_cols = [\\n    col for col in df.columns if not col.endswith(\\\"timing\\\") and not col.endswith(\\\"skp\\\")\\n]\";\n",
       "                var nbb_cells = Jupyter.notebook.get_cells();\n",
       "                for (var i = 0; i < nbb_cells.length; ++i) {\n",
       "                    if (nbb_cells[i].input_prompt_number == nbb_cell_id) {\n",
       "                        if (nbb_cells[i].get_text() == nbb_unformatted_code) {\n",
       "                             nbb_cells[i].set_text(nbb_formatted_code);\n",
       "                        }\n",
       "                        break;\n",
       "                    }\n",
       "                }\n",
       "            }, 500);\n",
       "            "
      ],
      "text/plain": [
       "<IPython.core.display.Javascript object>"
      ]
     },
     "metadata": {},
     "output_type": "display_data"
    }
   ],
   "source": [
    "candidate_cols = [\n",
    "    col for col in df.columns if not col.endswith(\"timing\") and not col.endswith(\"skp\")\n",
    "]"
   ]
  },
  {
   "cell_type": "code",
   "execution_count": 85,
   "id": "8d9625df-d2ee-471f-92cc-7119a13c2f6a",
   "metadata": {},
   "outputs": [
    {
     "data": {
      "application/javascript": [
       "\n",
       "            setTimeout(function() {\n",
       "                var nbb_cell_id = 85;\n",
       "                var nbb_unformatted_code = \"res = []\\nfor col in candidate_cols:\\n    diff1 = compute_diff_means(col, True)\\n    diff2 = compute_diff_means(col, False)\\n    res.append((col, diff1, diff2))\";\n",
       "                var nbb_formatted_code = \"res = []\\nfor col in candidate_cols:\\n    diff1 = compute_diff_means(col, True)\\n    diff2 = compute_diff_means(col, False)\\n    res.append((col, diff1, diff2))\";\n",
       "                var nbb_cells = Jupyter.notebook.get_cells();\n",
       "                for (var i = 0; i < nbb_cells.length; ++i) {\n",
       "                    if (nbb_cells[i].input_prompt_number == nbb_cell_id) {\n",
       "                        if (nbb_cells[i].get_text() == nbb_unformatted_code) {\n",
       "                             nbb_cells[i].set_text(nbb_formatted_code);\n",
       "                        }\n",
       "                        break;\n",
       "                    }\n",
       "                }\n",
       "            }, 500);\n",
       "            "
      ],
      "text/plain": [
       "<IPython.core.display.Javascript object>"
      ]
     },
     "metadata": {},
     "output_type": "display_data"
    }
   ],
   "source": [
    "res = []\n",
    "for col in candidate_cols:\n",
    "    diff1 = compute_diff_means(col, True)\n",
    "    diff2 = compute_diff_means(col, False)\n",
    "    res.append((col, diff1, diff2))"
   ]
  },
  {
   "cell_type": "code",
   "execution_count": 86,
   "id": "7abaa9ec-8f15-4087-897b-41f2388e901e",
   "metadata": {},
   "outputs": [
    {
     "data": {
      "application/javascript": [
       "\n",
       "            setTimeout(function() {\n",
       "                var nbb_cell_id = 86;\n",
       "                var nbb_unformatted_code = \"columns = [\\\"varname\\\", \\\"diff1\\\", \\\"diff2\\\"]\\ndiff_df = pd.DataFrame(res, columns=columns).dropna()\";\n",
       "                var nbb_formatted_code = \"columns = [\\\"varname\\\", \\\"diff1\\\", \\\"diff2\\\"]\\ndiff_df = pd.DataFrame(res, columns=columns).dropna()\";\n",
       "                var nbb_cells = Jupyter.notebook.get_cells();\n",
       "                for (var i = 0; i < nbb_cells.length; ++i) {\n",
       "                    if (nbb_cells[i].input_prompt_number == nbb_cell_id) {\n",
       "                        if (nbb_cells[i].get_text() == nbb_unformatted_code) {\n",
       "                             nbb_cells[i].set_text(nbb_formatted_code);\n",
       "                        }\n",
       "                        break;\n",
       "                    }\n",
       "                }\n",
       "            }, 500);\n",
       "            "
      ],
      "text/plain": [
       "<IPython.core.display.Javascript object>"
      ]
     },
     "metadata": {},
     "output_type": "display_data"
    }
   ],
   "source": [
    "columns = [\"varname\", \"diff1\", \"diff2\"]\n",
    "diff_df = pd.DataFrame(res, columns=columns).dropna()"
   ]
  },
  {
   "cell_type": "code",
   "execution_count": 87,
   "id": "4dc05503-24b4-4e75-9731-7f30a7c8c7c6",
   "metadata": {},
   "outputs": [
    {
     "data": {
      "application/javascript": [
       "\n",
       "            setTimeout(function() {\n",
       "                var nbb_cell_id = 87;\n",
       "                var nbb_unformatted_code = \"diff1 = diff_df[\\\"diff1\\\"]\\ndiff2 = diff_df[\\\"diff2\\\"]\\ndiff_df[\\\"absdiff\\\"] = np.maximum(diff_df[\\\"diff1\\\"].abs(), diff_df[\\\"diff2\\\"].abs())\";\n",
       "                var nbb_formatted_code = \"diff1 = diff_df[\\\"diff1\\\"]\\ndiff2 = diff_df[\\\"diff2\\\"]\\ndiff_df[\\\"absdiff\\\"] = np.maximum(diff_df[\\\"diff1\\\"].abs(), diff_df[\\\"diff2\\\"].abs())\";\n",
       "                var nbb_cells = Jupyter.notebook.get_cells();\n",
       "                for (var i = 0; i < nbb_cells.length; ++i) {\n",
       "                    if (nbb_cells[i].input_prompt_number == nbb_cell_id) {\n",
       "                        if (nbb_cells[i].get_text() == nbb_unformatted_code) {\n",
       "                             nbb_cells[i].set_text(nbb_formatted_code);\n",
       "                        }\n",
       "                        break;\n",
       "                    }\n",
       "                }\n",
       "            }, 500);\n",
       "            "
      ],
      "text/plain": [
       "<IPython.core.display.Javascript object>"
      ]
     },
     "metadata": {},
     "output_type": "display_data"
    }
   ],
   "source": [
    "diff1 = diff_df[\"diff1\"]\n",
    "diff2 = diff_df[\"diff2\"]\n",
    "diff_df[\"absdiff\"] = np.maximum(diff_df[\"diff1\"].abs(), diff_df[\"diff2\"].abs())"
   ]
  },
  {
   "cell_type": "code",
   "execution_count": 88,
   "id": "cfb77f25-cc81-466d-b0b9-ece2d52e42d0",
   "metadata": {},
   "outputs": [
    {
     "data": {
      "text/html": [
       "<div>\n",
       "<style scoped>\n",
       "    .dataframe tbody tr th:only-of-type {\n",
       "        vertical-align: middle;\n",
       "    }\n",
       "\n",
       "    .dataframe tbody tr th {\n",
       "        vertical-align: top;\n",
       "    }\n",
       "\n",
       "    .dataframe thead th {\n",
       "        text-align: right;\n",
       "    }\n",
       "</style>\n",
       "<table border=\"1\" class=\"dataframe\">\n",
       "  <thead>\n",
       "    <tr style=\"text-align: right;\">\n",
       "      <th></th>\n",
       "      <th>diff1</th>\n",
       "      <th>diff2</th>\n",
       "      <th>absdiff</th>\n",
       "    </tr>\n",
       "    <tr>\n",
       "      <th>varname</th>\n",
       "      <th></th>\n",
       "      <th></th>\n",
       "      <th></th>\n",
       "    </tr>\n",
       "  </thead>\n",
       "  <tbody>\n",
       "    <tr>\n",
       "      <th>gendid_masc</th>\n",
       "      <td>112.101479</td>\n",
       "      <td>112.101479</td>\n",
       "      <td>112.101479</td>\n",
       "    </tr>\n",
       "    <tr>\n",
       "      <th>gendid_fem</th>\n",
       "      <td>-110.776025</td>\n",
       "      <td>-110.776025</td>\n",
       "      <td>110.776025</td>\n",
       "    </tr>\n",
       "    <tr>\n",
       "      <th>gendid_mascfem</th>\n",
       "      <td>-86.329280</td>\n",
       "      <td>-86.329280</td>\n",
       "      <td>86.329280</td>\n",
       "    </tr>\n",
       "    <tr>\n",
       "      <th>gender</th>\n",
       "      <td>-66.666667</td>\n",
       "      <td>-66.666667</td>\n",
       "      <td>66.666667</td>\n",
       "    </tr>\n",
       "    <tr>\n",
       "      <th>gender4</th>\n",
       "      <td>-64.953695</td>\n",
       "      <td>-64.953695</td>\n",
       "      <td>64.953695</td>\n",
       "    </tr>\n",
       "    <tr>\n",
       "      <th>rrace_resp_Eastern</th>\n",
       "      <td>57.142857</td>\n",
       "      <td>57.142857</td>\n",
       "      <td>57.142857</td>\n",
       "    </tr>\n",
       "    <tr>\n",
       "      <th>duration</th>\n",
       "      <td>-50.771042</td>\n",
       "      <td>-50.771042</td>\n",
       "      <td>50.771042</td>\n",
       "    </tr>\n",
       "    <tr>\n",
       "      <th>min_duration</th>\n",
       "      <td>-50.771042</td>\n",
       "      <td>-50.771042</td>\n",
       "      <td>50.771042</td>\n",
       "    </tr>\n",
       "    <tr>\n",
       "      <th>group_kkk</th>\n",
       "      <td>36.351114</td>\n",
       "      <td>36.351114</td>\n",
       "      <td>36.351114</td>\n",
       "    </tr>\n",
       "    <tr>\n",
       "      <th>stloan_amtowe</th>\n",
       "      <td>-31.809415</td>\n",
       "      <td>-31.809415</td>\n",
       "      <td>31.809415</td>\n",
       "    </tr>\n",
       "    <tr>\n",
       "      <th>rrace_asset_Eastern</th>\n",
       "      <td>-28.571429</td>\n",
       "      <td>-28.571429</td>\n",
       "      <td>28.571429</td>\n",
       "    </tr>\n",
       "    <tr>\n",
       "      <th>status_catrecent</th>\n",
       "      <td>-26.486246</td>\n",
       "      <td>-26.486246</td>\n",
       "      <td>26.486246</td>\n",
       "    </tr>\n",
       "    <tr>\n",
       "      <th>newsint</th>\n",
       "      <td>-25.185367</td>\n",
       "      <td>-25.185367</td>\n",
       "      <td>25.185367</td>\n",
       "    </tr>\n",
       "    <tr>\n",
       "      <th>group_whitesup</th>\n",
       "      <td>23.823539</td>\n",
       "      <td>23.823539</td>\n",
       "      <td>23.823539</td>\n",
       "    </tr>\n",
       "    <tr>\n",
       "      <th>group_transmen</th>\n",
       "      <td>-21.199062</td>\n",
       "      <td>-21.199062</td>\n",
       "      <td>21.199062</td>\n",
       "    </tr>\n",
       "    <tr>\n",
       "      <th>poldisc_peoplekn</th>\n",
       "      <td>20.447605</td>\n",
       "      <td>20.447605</td>\n",
       "      <td>20.447605</td>\n",
       "    </tr>\n",
       "    <tr>\n",
       "      <th>foreign_hamas</th>\n",
       "      <td>-20.342387</td>\n",
       "      <td>-20.342387</td>\n",
       "      <td>20.342387</td>\n",
       "    </tr>\n",
       "    <tr>\n",
       "      <th>group_transppl</th>\n",
       "      <td>-19.975582</td>\n",
       "      <td>-19.975582</td>\n",
       "      <td>19.975582</td>\n",
       "    </tr>\n",
       "    <tr>\n",
       "      <th>employ</th>\n",
       "      <td>-19.560791</td>\n",
       "      <td>-19.560791</td>\n",
       "      <td>19.560791</td>\n",
       "    </tr>\n",
       "    <tr>\n",
       "      <th>group_transwom</th>\n",
       "      <td>-19.410468</td>\n",
       "      <td>-19.410468</td>\n",
       "      <td>19.410468</td>\n",
       "    </tr>\n",
       "    <tr>\n",
       "      <th>faminc_new</th>\n",
       "      <td>-18.821279</td>\n",
       "      <td>-18.821279</td>\n",
       "      <td>18.821279</td>\n",
       "    </tr>\n",
       "    <tr>\n",
       "      <th>contrib_party</th>\n",
       "      <td>18.538551</td>\n",
       "      <td>18.538551</td>\n",
       "      <td>18.538551</td>\n",
       "    </tr>\n",
       "    <tr>\n",
       "      <th>group_feminists</th>\n",
       "      <td>-18.478511</td>\n",
       "      <td>-18.478511</td>\n",
       "      <td>18.478511</td>\n",
       "    </tr>\n",
       "    <tr>\n",
       "      <th>follow_campinterest</th>\n",
       "      <td>-17.475280</td>\n",
       "      <td>-17.475280</td>\n",
       "      <td>17.475280</td>\n",
       "    </tr>\n",
       "    <tr>\n",
       "      <th>Voterfile_Primary_2020</th>\n",
       "      <td>17.357950</td>\n",
       "      <td>17.357950</td>\n",
       "      <td>17.357950</td>\n",
       "    </tr>\n",
       "    <tr>\n",
       "      <th>group_maga</th>\n",
       "      <td>17.285659</td>\n",
       "      <td>17.285659</td>\n",
       "      <td>17.285659</td>\n",
       "    </tr>\n",
       "    <tr>\n",
       "      <th>child_nseventeen</th>\n",
       "      <td>16.815569</td>\n",
       "      <td>16.815569</td>\n",
       "      <td>16.815569</td>\n",
       "    </tr>\n",
       "    <tr>\n",
       "      <th>Voterfile_General_2020</th>\n",
       "      <td>16.800477</td>\n",
       "      <td>16.800477</td>\n",
       "      <td>16.800477</td>\n",
       "    </tr>\n",
       "    <tr>\n",
       "      <th>poldisc_smpol</th>\n",
       "      <td>16.667731</td>\n",
       "      <td>16.667731</td>\n",
       "      <td>16.667731</td>\n",
       "    </tr>\n",
       "    <tr>\n",
       "      <th>sexism_hinnoc</th>\n",
       "      <td>-16.098080</td>\n",
       "      <td>-16.098080</td>\n",
       "      <td>16.098080</td>\n",
       "    </tr>\n",
       "    <tr>\n",
       "      <th>group_planparent</th>\n",
       "      <td>-15.900768</td>\n",
       "      <td>-15.900768</td>\n",
       "      <td>15.900768</td>\n",
       "    </tr>\n",
       "    <tr>\n",
       "      <th>imp_abort</th>\n",
       "      <td>15.517386</td>\n",
       "      <td>15.517386</td>\n",
       "      <td>15.517386</td>\n",
       "    </tr>\n",
       "    <tr>\n",
       "      <th>rrace_resp_Asian</th>\n",
       "      <td>15.495126</td>\n",
       "      <td>15.495126</td>\n",
       "      <td>15.495126</td>\n",
       "    </tr>\n",
       "    <tr>\n",
       "      <th>group_gayles</th>\n",
       "      <td>-15.457498</td>\n",
       "      <td>-15.457498</td>\n",
       "      <td>15.457498</td>\n",
       "    </tr>\n",
       "    <tr>\n",
       "      <th>group_lgbtrights</th>\n",
       "      <td>-15.142628</td>\n",
       "      <td>-15.142628</td>\n",
       "      <td>15.142628</td>\n",
       "    </tr>\n",
       "    <tr>\n",
       "      <th>sexism_hpower</th>\n",
       "      <td>-14.924945</td>\n",
       "      <td>-14.924945</td>\n",
       "      <td>14.924945</td>\n",
       "    </tr>\n",
       "    <tr>\n",
       "      <th>abrtpre_abrtself</th>\n",
       "      <td>14.400875</td>\n",
       "      <td>14.400875</td>\n",
       "      <td>14.400875</td>\n",
       "    </tr>\n",
       "    <tr>\n",
       "      <th>highered_bias</th>\n",
       "      <td>-14.332866</td>\n",
       "      <td>-14.332866</td>\n",
       "      <td>14.332866</td>\n",
       "    </tr>\n",
       "    <tr>\n",
       "      <th>religpew_protestant</th>\n",
       "      <td>14.140838</td>\n",
       "      <td>14.140838</td>\n",
       "      <td>14.140838</td>\n",
       "    </tr>\n",
       "    <tr>\n",
       "      <th>group_nazi</th>\n",
       "      <td>13.345615</td>\n",
       "      <td>13.345615</td>\n",
       "      <td>13.345615</td>\n",
       "    </tr>\n",
       "    <tr>\n",
       "      <th>status_catwork</th>\n",
       "      <td>-13.280756</td>\n",
       "      <td>-13.280756</td>\n",
       "      <td>13.280756</td>\n",
       "    </tr>\n",
       "    <tr>\n",
       "      <th>group_gunrights</th>\n",
       "      <td>12.637253</td>\n",
       "      <td>12.637253</td>\n",
       "      <td>12.637253</td>\n",
       "    </tr>\n",
       "    <tr>\n",
       "      <th>group_prochoice</th>\n",
       "      <td>-12.624168</td>\n",
       "      <td>-12.624168</td>\n",
       "      <td>12.624168</td>\n",
       "    </tr>\n",
       "    <tr>\n",
       "      <th>empath_concern</th>\n",
       "      <td>12.408462</td>\n",
       "      <td>12.408462</td>\n",
       "      <td>12.408462</td>\n",
       "    </tr>\n",
       "    <tr>\n",
       "      <th>tolold_speech</th>\n",
       "      <td>-12.284953</td>\n",
       "      <td>-12.284953</td>\n",
       "      <td>12.284953</td>\n",
       "    </tr>\n",
       "    <tr>\n",
       "      <th>tolold_rally</th>\n",
       "      <td>-12.270105</td>\n",
       "      <td>-12.270105</td>\n",
       "      <td>12.270105</td>\n",
       "    </tr>\n",
       "    <tr>\n",
       "      <th>rrace_asset_Native</th>\n",
       "      <td>-11.974270</td>\n",
       "      <td>-11.974270</td>\n",
       "      <td>11.974270</td>\n",
       "    </tr>\n",
       "    <tr>\n",
       "      <th>raceadvt_whitestr</th>\n",
       "      <td>11.852158</td>\n",
       "      <td>11.852158</td>\n",
       "      <td>11.852158</td>\n",
       "    </tr>\n",
       "    <tr>\n",
       "      <th>group_antigay</th>\n",
       "      <td>11.726950</td>\n",
       "      <td>11.726950</td>\n",
       "      <td>11.726950</td>\n",
       "    </tr>\n",
       "    <tr>\n",
       "      <th>tolold_pres</th>\n",
       "      <td>11.681196</td>\n",
       "      <td>11.681196</td>\n",
       "      <td>11.681196</td>\n",
       "    </tr>\n",
       "  </tbody>\n",
       "</table>\n",
       "</div>"
      ],
      "text/plain": [
       "                             diff1       diff2     absdiff\n",
       "varname                                                   \n",
       "gendid_masc             112.101479  112.101479  112.101479\n",
       "gendid_fem             -110.776025 -110.776025  110.776025\n",
       "gendid_mascfem          -86.329280  -86.329280   86.329280\n",
       "gender                  -66.666667  -66.666667   66.666667\n",
       "gender4                 -64.953695  -64.953695   64.953695\n",
       "rrace_resp_Eastern       57.142857   57.142857   57.142857\n",
       "duration                -50.771042  -50.771042   50.771042\n",
       "min_duration            -50.771042  -50.771042   50.771042\n",
       "group_kkk                36.351114   36.351114   36.351114\n",
       "stloan_amtowe           -31.809415  -31.809415   31.809415\n",
       "rrace_asset_Eastern     -28.571429  -28.571429   28.571429\n",
       "status_catrecent        -26.486246  -26.486246   26.486246\n",
       "newsint                 -25.185367  -25.185367   25.185367\n",
       "group_whitesup           23.823539   23.823539   23.823539\n",
       "group_transmen          -21.199062  -21.199062   21.199062\n",
       "poldisc_peoplekn         20.447605   20.447605   20.447605\n",
       "foreign_hamas           -20.342387  -20.342387   20.342387\n",
       "group_transppl          -19.975582  -19.975582   19.975582\n",
       "employ                  -19.560791  -19.560791   19.560791\n",
       "group_transwom          -19.410468  -19.410468   19.410468\n",
       "faminc_new              -18.821279  -18.821279   18.821279\n",
       "contrib_party            18.538551   18.538551   18.538551\n",
       "group_feminists         -18.478511  -18.478511   18.478511\n",
       "follow_campinterest     -17.475280  -17.475280   17.475280\n",
       "Voterfile_Primary_2020   17.357950   17.357950   17.357950\n",
       "group_maga               17.285659   17.285659   17.285659\n",
       "child_nseventeen         16.815569   16.815569   16.815569\n",
       "Voterfile_General_2020   16.800477   16.800477   16.800477\n",
       "poldisc_smpol            16.667731   16.667731   16.667731\n",
       "sexism_hinnoc           -16.098080  -16.098080   16.098080\n",
       "group_planparent        -15.900768  -15.900768   15.900768\n",
       "imp_abort                15.517386   15.517386   15.517386\n",
       "rrace_resp_Asian         15.495126   15.495126   15.495126\n",
       "group_gayles            -15.457498  -15.457498   15.457498\n",
       "group_lgbtrights        -15.142628  -15.142628   15.142628\n",
       "sexism_hpower           -14.924945  -14.924945   14.924945\n",
       "abrtpre_abrtself         14.400875   14.400875   14.400875\n",
       "highered_bias           -14.332866  -14.332866   14.332866\n",
       "religpew_protestant      14.140838   14.140838   14.140838\n",
       "group_nazi               13.345615   13.345615   13.345615\n",
       "status_catwork          -13.280756  -13.280756   13.280756\n",
       "group_gunrights          12.637253   12.637253   12.637253\n",
       "group_prochoice         -12.624168  -12.624168   12.624168\n",
       "empath_concern           12.408462   12.408462   12.408462\n",
       "tolold_speech           -12.284953  -12.284953   12.284953\n",
       "tolold_rally            -12.270105  -12.270105   12.270105\n",
       "rrace_asset_Native      -11.974270  -11.974270   11.974270\n",
       "raceadvt_whitestr        11.852158   11.852158   11.852158\n",
       "group_antigay            11.726950   11.726950   11.726950\n",
       "tolold_pres              11.681196   11.681196   11.681196"
      ]
     },
     "execution_count": 88,
     "metadata": {},
     "output_type": "execute_result"
    },
    {
     "data": {
      "application/javascript": [
       "\n",
       "            setTimeout(function() {\n",
       "                var nbb_cell_id = 88;\n",
       "                var nbb_unformatted_code = \"candidates = diff_df.sort_values(by=\\\"absdiff\\\", ascending=False)\\ncandidates.index = candidates[\\\"varname\\\"]\\ncandidates = candidates.drop(columns=[\\\"varname\\\"]) * 100\\ncandidates.head(50)\";\n",
       "                var nbb_formatted_code = \"candidates = diff_df.sort_values(by=\\\"absdiff\\\", ascending=False)\\ncandidates.index = candidates[\\\"varname\\\"]\\ncandidates = candidates.drop(columns=[\\\"varname\\\"]) * 100\\ncandidates.head(50)\";\n",
       "                var nbb_cells = Jupyter.notebook.get_cells();\n",
       "                for (var i = 0; i < nbb_cells.length; ++i) {\n",
       "                    if (nbb_cells[i].input_prompt_number == nbb_cell_id) {\n",
       "                        if (nbb_cells[i].get_text() == nbb_unformatted_code) {\n",
       "                             nbb_cells[i].set_text(nbb_formatted_code);\n",
       "                        }\n",
       "                        break;\n",
       "                    }\n",
       "                }\n",
       "            }, 500);\n",
       "            "
      ],
      "text/plain": [
       "<IPython.core.display.Javascript object>"
      ]
     },
     "metadata": {},
     "output_type": "display_data"
    }
   ],
   "source": [
    "candidates = diff_df.sort_values(by=\"absdiff\", ascending=False)\n",
    "candidates.index = candidates[\"varname\"]\n",
    "candidates = candidates.drop(columns=[\"varname\"]) * 100\n",
    "candidates.head(50)"
   ]
  },
  {
   "cell_type": "code",
   "execution_count": 89,
   "id": "0c751e83-076d-4d9e-a9a1-4898e2721a05",
   "metadata": {},
   "outputs": [
    {
     "data": {
      "application/javascript": [
       "\n",
       "            setTimeout(function() {\n",
       "                var nbb_cell_id = 89;\n",
       "                var nbb_unformatted_code = \"candidates.to_csv(\\\"anes_2024_candidates_resampled.csv\\\")\";\n",
       "                var nbb_formatted_code = \"candidates.to_csv(\\\"anes_2024_candidates_resampled.csv\\\")\";\n",
       "                var nbb_cells = Jupyter.notebook.get_cells();\n",
       "                for (var i = 0; i < nbb_cells.length; ++i) {\n",
       "                    if (nbb_cells[i].input_prompt_number == nbb_cell_id) {\n",
       "                        if (nbb_cells[i].get_text() == nbb_unformatted_code) {\n",
       "                             nbb_cells[i].set_text(nbb_formatted_code);\n",
       "                        }\n",
       "                        break;\n",
       "                    }\n",
       "                }\n",
       "            }, 500);\n",
       "            "
      ],
      "text/plain": [
       "<IPython.core.display.Javascript object>"
      ]
     },
     "metadata": {},
     "output_type": "display_data"
    }
   ],
   "source": [
    "candidates.to_csv(\"anes_2024_candidates_resampled.csv\")"
   ]
  },
  {
   "cell_type": "markdown",
   "id": "456629c8",
   "metadata": {},
   "source": [
    "If you find a candidate, you can look more closely with `compare_responses`."
   ]
  },
  {
   "cell_type": "code",
   "execution_count": 90,
   "id": "f087a215-940b-4d86-8331-1cc941bee1bc",
   "metadata": {},
   "outputs": [
    {
     "data": {
      "application/javascript": [
       "\n",
       "            setTimeout(function() {\n",
       "                var nbb_cell_id = 90;\n",
       "                var nbb_unformatted_code = \"def compare_responses(varname):\\n    d = dict(\\n        male=value_counts(df_male[varname], normalize=True)[\\\"counts\\\"],\\n        female=value_counts(df_female[varname], normalize=True)[\\\"counts\\\"],\\n    )\\n    summary = pd.DataFrame(d)\\n    summary[\\\"diff\\\"] = summary[\\\"male\\\"] - summary[\\\"female\\\"]\\n    summary[\\\"absdiff\\\"] = summary[\\\"diff\\\"].abs()\\n    return summary\";\n",
       "                var nbb_formatted_code = \"def compare_responses(varname):\\n    d = dict(\\n        male=value_counts(df_male[varname], normalize=True)[\\\"counts\\\"],\\n        female=value_counts(df_female[varname], normalize=True)[\\\"counts\\\"],\\n    )\\n    summary = pd.DataFrame(d)\\n    summary[\\\"diff\\\"] = summary[\\\"male\\\"] - summary[\\\"female\\\"]\\n    summary[\\\"absdiff\\\"] = summary[\\\"diff\\\"].abs()\\n    return summary\";\n",
       "                var nbb_cells = Jupyter.notebook.get_cells();\n",
       "                for (var i = 0; i < nbb_cells.length; ++i) {\n",
       "                    if (nbb_cells[i].input_prompt_number == nbb_cell_id) {\n",
       "                        if (nbb_cells[i].get_text() == nbb_unformatted_code) {\n",
       "                             nbb_cells[i].set_text(nbb_formatted_code);\n",
       "                        }\n",
       "                        break;\n",
       "                    }\n",
       "                }\n",
       "            }, 500);\n",
       "            "
      ],
      "text/plain": [
       "<IPython.core.display.Javascript object>"
      ]
     },
     "metadata": {},
     "output_type": "display_data"
    }
   ],
   "source": [
    "def compare_responses(varname):\n",
    "    d = dict(\n",
    "        male=value_counts(df_male[varname], normalize=True)[\"counts\"],\n",
    "        female=value_counts(df_female[varname], normalize=True)[\"counts\"],\n",
    "    )\n",
    "    summary = pd.DataFrame(d)\n",
    "    summary[\"diff\"] = summary[\"male\"] - summary[\"female\"]\n",
    "    summary[\"absdiff\"] = summary[\"diff\"].abs()\n",
    "    return summary"
   ]
  },
  {
   "cell_type": "code",
   "execution_count": 91,
   "id": "6661f942-2893-44da-aad6-193043ef2f21",
   "metadata": {},
   "outputs": [
    {
     "data": {
      "text/html": [
       "<div>\n",
       "<style scoped>\n",
       "    .dataframe tbody tr th:only-of-type {\n",
       "        vertical-align: middle;\n",
       "    }\n",
       "\n",
       "    .dataframe tbody tr th {\n",
       "        vertical-align: top;\n",
       "    }\n",
       "\n",
       "    .dataframe thead th {\n",
       "        text-align: right;\n",
       "    }\n",
       "</style>\n",
       "<table border=\"1\" class=\"dataframe\">\n",
       "  <thead>\n",
       "    <tr style=\"text-align: right;\">\n",
       "      <th></th>\n",
       "      <th>male</th>\n",
       "      <th>female</th>\n",
       "      <th>diff</th>\n",
       "      <th>absdiff</th>\n",
       "    </tr>\n",
       "    <tr>\n",
       "      <th>values</th>\n",
       "      <th></th>\n",
       "      <th></th>\n",
       "      <th></th>\n",
       "      <th></th>\n",
       "    </tr>\n",
       "  </thead>\n",
       "  <tbody>\n",
       "    <tr>\n",
       "      <th>1.0</th>\n",
       "      <td>20.495495</td>\n",
       "      <td>30.558276</td>\n",
       "      <td>-10.062781</td>\n",
       "      <td>10.062781</td>\n",
       "    </tr>\n",
       "    <tr>\n",
       "      <th>2.0</th>\n",
       "      <td>15.315315</td>\n",
       "      <td>14.495593</td>\n",
       "      <td>0.819723</td>\n",
       "      <td>0.819723</td>\n",
       "    </tr>\n",
       "    <tr>\n",
       "      <th>3.0</th>\n",
       "      <td>11.599099</td>\n",
       "      <td>9.402547</td>\n",
       "      <td>2.196553</td>\n",
       "      <td>2.196553</td>\n",
       "    </tr>\n",
       "    <tr>\n",
       "      <th>4.0</th>\n",
       "      <td>4.279279</td>\n",
       "      <td>2.252693</td>\n",
       "      <td>2.026586</td>\n",
       "      <td>2.026586</td>\n",
       "    </tr>\n",
       "    <tr>\n",
       "      <th>5.0</th>\n",
       "      <td>6.756757</td>\n",
       "      <td>7.051910</td>\n",
       "      <td>-0.295153</td>\n",
       "      <td>0.295153</td>\n",
       "    </tr>\n",
       "    <tr>\n",
       "      <th>6.0</th>\n",
       "      <td>14.752252</td>\n",
       "      <td>14.299706</td>\n",
       "      <td>0.452546</td>\n",
       "      <td>0.452546</td>\n",
       "    </tr>\n",
       "    <tr>\n",
       "      <th>7.0</th>\n",
       "      <td>25.000000</td>\n",
       "      <td>17.629775</td>\n",
       "      <td>7.370225</td>\n",
       "      <td>7.370225</td>\n",
       "    </tr>\n",
       "    <tr>\n",
       "      <th>8.0</th>\n",
       "      <td>1.801802</td>\n",
       "      <td>4.309500</td>\n",
       "      <td>-2.507699</td>\n",
       "      <td>2.507699</td>\n",
       "    </tr>\n",
       "  </tbody>\n",
       "</table>\n",
       "</div>"
      ],
      "text/plain": [
       "             male     female       diff    absdiff\n",
       "values                                            \n",
       "1.0     20.495495  30.558276 -10.062781  10.062781\n",
       "2.0     15.315315  14.495593   0.819723   0.819723\n",
       "3.0     11.599099   9.402547   2.196553   2.196553\n",
       "4.0      4.279279   2.252693   2.026586   2.026586\n",
       "5.0      6.756757   7.051910  -0.295153   0.295153\n",
       "6.0     14.752252  14.299706   0.452546   0.452546\n",
       "7.0     25.000000  17.629775   7.370225   7.370225\n",
       "8.0      1.801802   4.309500  -2.507699   2.507699"
      ]
     },
     "execution_count": 91,
     "metadata": {},
     "output_type": "execute_result"
    },
    {
     "data": {
      "application/javascript": [
       "\n",
       "            setTimeout(function() {\n",
       "                var nbb_cell_id = 91;\n",
       "                var nbb_unformatted_code = \"compare_responses(\\\"pew_prayer\\\") * 100\";\n",
       "                var nbb_formatted_code = \"compare_responses(\\\"pew_prayer\\\") * 100\";\n",
       "                var nbb_cells = Jupyter.notebook.get_cells();\n",
       "                for (var i = 0; i < nbb_cells.length; ++i) {\n",
       "                    if (nbb_cells[i].input_prompt_number == nbb_cell_id) {\n",
       "                        if (nbb_cells[i].get_text() == nbb_unformatted_code) {\n",
       "                             nbb_cells[i].set_text(nbb_formatted_code);\n",
       "                        }\n",
       "                        break;\n",
       "                    }\n",
       "                }\n",
       "            }, 500);\n",
       "            "
      ],
      "text/plain": [
       "<IPython.core.display.Javascript object>"
      ]
     },
     "metadata": {},
     "output_type": "display_data"
    }
   ],
   "source": [
    "compare_responses(\"pew_prayer\") * 100"
   ]
  },
  {
   "cell_type": "markdown",
   "id": "c74a1fda",
   "metadata": {},
   "source": [
    "## Look for differences, method 2\n",
    "\n",
    "Another way to look for differences, but finding the most common response to a question and then comparing the fractions who give that response."
   ]
  },
  {
   "cell_type": "code",
   "execution_count": 92,
   "id": "8d666494",
   "metadata": {},
   "outputs": [
    {
     "data": {
      "application/javascript": [
       "\n",
       "            setTimeout(function() {\n",
       "                var nbb_cell_id = 92;\n",
       "                var nbb_unformatted_code = \"def compute_diff(col):\\n    value = sample[col].value_counts().idxmax()\\n\\n    male = df_male[col].dropna().value_counts()\\n    female = df_female[col].dropna().value_counts()\\n\\n    p_male = male.get(value, 0) / male.sum()\\n    p_female = female.get(value, 0) / female.sum()\\n    return p_male - p_female\";\n",
       "                var nbb_formatted_code = \"def compute_diff(col):\\n    value = sample[col].value_counts().idxmax()\\n\\n    male = df_male[col].dropna().value_counts()\\n    female = df_female[col].dropna().value_counts()\\n\\n    p_male = male.get(value, 0) / male.sum()\\n    p_female = female.get(value, 0) / female.sum()\\n    return p_male - p_female\";\n",
       "                var nbb_cells = Jupyter.notebook.get_cells();\n",
       "                for (var i = 0; i < nbb_cells.length; ++i) {\n",
       "                    if (nbb_cells[i].input_prompt_number == nbb_cell_id) {\n",
       "                        if (nbb_cells[i].get_text() == nbb_unformatted_code) {\n",
       "                             nbb_cells[i].set_text(nbb_formatted_code);\n",
       "                        }\n",
       "                        break;\n",
       "                    }\n",
       "                }\n",
       "            }, 500);\n",
       "            "
      ],
      "text/plain": [
       "<IPython.core.display.Javascript object>"
      ]
     },
     "metadata": {},
     "output_type": "display_data"
    }
   ],
   "source": [
    "def compute_diff(col):\n",
    "    value = sample[col].value_counts().idxmax()\n",
    "\n",
    "    male = df_male[col].dropna().value_counts()\n",
    "    female = df_female[col].dropna().value_counts()\n",
    "\n",
    "    p_male = male.get(value, 0) / male.sum()\n",
    "    p_female = female.get(value, 0) / female.sum()\n",
    "    return p_male - p_female"
   ]
  },
  {
   "cell_type": "code",
   "execution_count": 93,
   "id": "5abf9706-bc09-4dbc-b3ef-41b811228bee",
   "metadata": {},
   "outputs": [
    {
     "data": {
      "application/javascript": [
       "\n",
       "            setTimeout(function() {\n",
       "                var nbb_cell_id = 93;\n",
       "                var nbb_unformatted_code = \"res = []\\nfor col in candidate_cols:\\n    diff = compute_diff(col)\\n    res.append((col, diff))\";\n",
       "                var nbb_formatted_code = \"res = []\\nfor col in candidate_cols:\\n    diff = compute_diff(col)\\n    res.append((col, diff))\";\n",
       "                var nbb_cells = Jupyter.notebook.get_cells();\n",
       "                for (var i = 0; i < nbb_cells.length; ++i) {\n",
       "                    if (nbb_cells[i].input_prompt_number == nbb_cell_id) {\n",
       "                        if (nbb_cells[i].get_text() == nbb_unformatted_code) {\n",
       "                             nbb_cells[i].set_text(nbb_formatted_code);\n",
       "                        }\n",
       "                        break;\n",
       "                    }\n",
       "                }\n",
       "            }, 500);\n",
       "            "
      ],
      "text/plain": [
       "<IPython.core.display.Javascript object>"
      ]
     },
     "metadata": {},
     "output_type": "display_data"
    }
   ],
   "source": [
    "res = []\n",
    "for col in candidate_cols:\n",
    "    diff = compute_diff(col)\n",
    "    res.append((col, diff))"
   ]
  },
  {
   "cell_type": "code",
   "execution_count": 94,
   "id": "4ec379e8-a5e1-4f96-8afa-c6152a587bcd",
   "metadata": {},
   "outputs": [
    {
     "data": {
      "application/javascript": [
       "\n",
       "            setTimeout(function() {\n",
       "                var nbb_cell_id = 94;\n",
       "                var nbb_unformatted_code = \"columns = [\\\"varname\\\", \\\"diff\\\"]\\ndiff_df = pd.DataFrame(res, columns=columns).dropna()\\ndiff_df[\\\"absdiff\\\"] = diff_df[\\\"diff\\\"].abs()\";\n",
       "                var nbb_formatted_code = \"columns = [\\\"varname\\\", \\\"diff\\\"]\\ndiff_df = pd.DataFrame(res, columns=columns).dropna()\\ndiff_df[\\\"absdiff\\\"] = diff_df[\\\"diff\\\"].abs()\";\n",
       "                var nbb_cells = Jupyter.notebook.get_cells();\n",
       "                for (var i = 0; i < nbb_cells.length; ++i) {\n",
       "                    if (nbb_cells[i].input_prompt_number == nbb_cell_id) {\n",
       "                        if (nbb_cells[i].get_text() == nbb_unformatted_code) {\n",
       "                             nbb_cells[i].set_text(nbb_formatted_code);\n",
       "                        }\n",
       "                        break;\n",
       "                    }\n",
       "                }\n",
       "            }, 500);\n",
       "            "
      ],
      "text/plain": [
       "<IPython.core.display.Javascript object>"
      ]
     },
     "metadata": {},
     "output_type": "display_data"
    }
   ],
   "source": [
    "columns = [\"varname\", \"diff\"]\n",
    "diff_df = pd.DataFrame(res, columns=columns).dropna()\n",
    "diff_df[\"absdiff\"] = diff_df[\"diff\"].abs()"
   ]
  },
  {
   "cell_type": "code",
   "execution_count": 95,
   "id": "c18db1fa-793a-44b4-a93b-66171ccfb7dc",
   "metadata": {},
   "outputs": [
    {
     "data": {
      "text/html": [
       "<div>\n",
       "<style scoped>\n",
       "    .dataframe tbody tr th:only-of-type {\n",
       "        vertical-align: middle;\n",
       "    }\n",
       "\n",
       "    .dataframe tbody tr th {\n",
       "        vertical-align: top;\n",
       "    }\n",
       "\n",
       "    .dataframe thead th {\n",
       "        text-align: right;\n",
       "    }\n",
       "</style>\n",
       "<table border=\"1\" class=\"dataframe\">\n",
       "  <thead>\n",
       "    <tr style=\"text-align: right;\">\n",
       "      <th></th>\n",
       "      <th>diff</th>\n",
       "      <th>absdiff</th>\n",
       "    </tr>\n",
       "    <tr>\n",
       "      <th>varname</th>\n",
       "      <th></th>\n",
       "      <th></th>\n",
       "    </tr>\n",
       "  </thead>\n",
       "  <tbody>\n",
       "    <tr>\n",
       "      <th>gender</th>\n",
       "      <td>-100.000000</td>\n",
       "      <td>100.000000</td>\n",
       "    </tr>\n",
       "    <tr>\n",
       "      <th>gender4</th>\n",
       "      <td>-97.771903</td>\n",
       "      <td>97.771903</td>\n",
       "    </tr>\n",
       "    <tr>\n",
       "      <th>gendid_masc</th>\n",
       "      <td>-45.279535</td>\n",
       "      <td>45.279535</td>\n",
       "    </tr>\n",
       "    <tr>\n",
       "      <th>gendid_fem</th>\n",
       "      <td>43.776526</td>\n",
       "      <td>43.776526</td>\n",
       "    </tr>\n",
       "    <tr>\n",
       "      <th>gendid_mascfem</th>\n",
       "      <td>-37.718056</td>\n",
       "      <td>37.718056</td>\n",
       "    </tr>\n",
       "    <tr>\n",
       "      <th>follow_campinterest</th>\n",
       "      <td>17.105757</td>\n",
       "      <td>17.105757</td>\n",
       "    </tr>\n",
       "    <tr>\n",
       "      <th>newsint</th>\n",
       "      <td>15.802715</td>\n",
       "      <td>15.802715</td>\n",
       "    </tr>\n",
       "    <tr>\n",
       "      <th>disqual_sexhar</th>\n",
       "      <td>-14.887586</td>\n",
       "      <td>14.887586</td>\n",
       "    </tr>\n",
       "    <tr>\n",
       "      <th>poldisc_socmed_2</th>\n",
       "      <td>-13.634619</td>\n",
       "      <td>13.634619</td>\n",
       "    </tr>\n",
       "    <tr>\n",
       "      <th>aid_ukraine</th>\n",
       "      <td>-13.368694</td>\n",
       "      <td>13.368694</td>\n",
       "    </tr>\n",
       "    <tr>\n",
       "      <th>aid_palest</th>\n",
       "      <td>-12.997216</td>\n",
       "      <td>12.997216</td>\n",
       "    </tr>\n",
       "    <tr>\n",
       "      <th>misinfo_bidendocstr</th>\n",
       "      <td>12.974936</td>\n",
       "      <td>12.974936</td>\n",
       "    </tr>\n",
       "    <tr>\n",
       "      <th>employ</th>\n",
       "      <td>12.886037</td>\n",
       "      <td>12.886037</td>\n",
       "    </tr>\n",
       "    <tr>\n",
       "      <th>imp_abort</th>\n",
       "      <td>-12.473860</td>\n",
       "      <td>12.473860</td>\n",
       "    </tr>\n",
       "    <tr>\n",
       "      <th>status_catrecent</th>\n",
       "      <td>12.261208</td>\n",
       "      <td>12.261208</td>\n",
       "    </tr>\n",
       "    <tr>\n",
       "      <th>secure_ease</th>\n",
       "      <td>-12.261208</td>\n",
       "      <td>12.261208</td>\n",
       "    </tr>\n",
       "    <tr>\n",
       "      <th>status_work</th>\n",
       "      <td>-12.261208</td>\n",
       "      <td>12.261208</td>\n",
       "    </tr>\n",
       "    <tr>\n",
       "      <th>status_catwork</th>\n",
       "      <td>-12.261208</td>\n",
       "      <td>12.261208</td>\n",
       "    </tr>\n",
       "    <tr>\n",
       "      <th>empcareer_career</th>\n",
       "      <td>-12.261208</td>\n",
       "      <td>12.261208</td>\n",
       "    </tr>\n",
       "    <tr>\n",
       "      <th>empsat_satisf</th>\n",
       "      <td>-12.261208</td>\n",
       "      <td>12.261208</td>\n",
       "    </tr>\n",
       "    <tr>\n",
       "      <th>emploss_ai</th>\n",
       "      <td>-12.261208</td>\n",
       "      <td>12.261208</td>\n",
       "    </tr>\n",
       "    <tr>\n",
       "      <th>emploss_less</th>\n",
       "      <td>-12.261208</td>\n",
       "      <td>12.261208</td>\n",
       "    </tr>\n",
       "    <tr>\n",
       "      <th>emploss_losejob</th>\n",
       "      <td>-12.261208</td>\n",
       "      <td>12.261208</td>\n",
       "    </tr>\n",
       "    <tr>\n",
       "      <th>empsuperv_superv</th>\n",
       "      <td>-12.261208</td>\n",
       "      <td>12.261208</td>\n",
       "    </tr>\n",
       "    <tr>\n",
       "      <th>empcareer_careerstr</th>\n",
       "      <td>-12.261208</td>\n",
       "      <td>12.261208</td>\n",
       "    </tr>\n",
       "    <tr>\n",
       "      <th>emploss_robot</th>\n",
       "      <td>-12.261208</td>\n",
       "      <td>12.261208</td>\n",
       "    </tr>\n",
       "    <tr>\n",
       "      <th>own_ukraine</th>\n",
       "      <td>-12.028593</td>\n",
       "      <td>12.028593</td>\n",
       "    </tr>\n",
       "    <tr>\n",
       "      <th>abrtpre_abrtself</th>\n",
       "      <td>-11.859840</td>\n",
       "      <td>11.859840</td>\n",
       "    </tr>\n",
       "    <tr>\n",
       "      <th>highered_approve</th>\n",
       "      <td>-11.729580</td>\n",
       "      <td>11.729580</td>\n",
       "    </tr>\n",
       "    <tr>\n",
       "      <th>poldisc_socmed_3</th>\n",
       "      <td>-11.400896</td>\n",
       "      <td>11.400896</td>\n",
       "    </tr>\n",
       "    <tr>\n",
       "      <th>poldisc_socmed_4</th>\n",
       "      <td>-11.271519</td>\n",
       "      <td>11.271519</td>\n",
       "    </tr>\n",
       "    <tr>\n",
       "      <th>imp_islamop</th>\n",
       "      <td>-11.185046</td>\n",
       "      <td>11.185046</td>\n",
       "    </tr>\n",
       "    <tr>\n",
       "      <th>sexism_bhetero</th>\n",
       "      <td>-11.028867</td>\n",
       "      <td>11.028867</td>\n",
       "    </tr>\n",
       "    <tr>\n",
       "      <th>tol_freespeech</th>\n",
       "      <td>10.826583</td>\n",
       "      <td>10.826583</td>\n",
       "    </tr>\n",
       "    <tr>\n",
       "      <th>empath_perspect</th>\n",
       "      <td>-10.659153</td>\n",
       "      <td>10.659153</td>\n",
       "    </tr>\n",
       "    <tr>\n",
       "      <th>aid_israel</th>\n",
       "      <td>-10.572791</td>\n",
       "      <td>10.572791</td>\n",
       "    </tr>\n",
       "    <tr>\n",
       "      <th>own_antisem</th>\n",
       "      <td>-10.462826</td>\n",
       "      <td>10.462826</td>\n",
       "    </tr>\n",
       "    <tr>\n",
       "      <th>treatcrime_camp</th>\n",
       "      <td>-10.269035</td>\n",
       "      <td>10.269035</td>\n",
       "    </tr>\n",
       "    <tr>\n",
       "      <th>highered_bias</th>\n",
       "      <td>-10.260432</td>\n",
       "      <td>10.260432</td>\n",
       "    </tr>\n",
       "    <tr>\n",
       "      <th>poldisc_peoplekn</th>\n",
       "      <td>-10.202195</td>\n",
       "      <td>10.202195</td>\n",
       "    </tr>\n",
       "    <tr>\n",
       "      <th>region</th>\n",
       "      <td>-10.192710</td>\n",
       "      <td>10.192710</td>\n",
       "    </tr>\n",
       "    <tr>\n",
       "      <th>pew_prayer</th>\n",
       "      <td>-10.062781</td>\n",
       "      <td>10.062781</td>\n",
       "    </tr>\n",
       "    <tr>\n",
       "      <th>misinfo_trump16str</th>\n",
       "      <td>9.918403</td>\n",
       "      <td>9.918403</td>\n",
       "    </tr>\n",
       "    <tr>\n",
       "      <th>poldisc_smpol</th>\n",
       "      <td>-9.755605</td>\n",
       "      <td>9.755605</td>\n",
       "    </tr>\n",
       "    <tr>\n",
       "      <th>abrtpre_standard</th>\n",
       "      <td>-9.385451</td>\n",
       "      <td>9.385451</td>\n",
       "    </tr>\n",
       "    <tr>\n",
       "      <th>socdesir_advant</th>\n",
       "      <td>-9.287949</td>\n",
       "      <td>9.287949</td>\n",
       "    </tr>\n",
       "    <tr>\n",
       "      <th>mobil_online</th>\n",
       "      <td>-9.270853</td>\n",
       "      <td>9.270853</td>\n",
       "    </tr>\n",
       "    <tr>\n",
       "      <th>mobil_talk</th>\n",
       "      <td>-9.149085</td>\n",
       "      <td>9.149085</td>\n",
       "    </tr>\n",
       "    <tr>\n",
       "      <th>Voterfile_Primary_2020</th>\n",
       "      <td>9.029083</td>\n",
       "      <td>9.029083</td>\n",
       "    </tr>\n",
       "    <tr>\n",
       "      <th>imp_ukraine</th>\n",
       "      <td>-8.775732</td>\n",
       "      <td>8.775732</td>\n",
       "    </tr>\n",
       "  </tbody>\n",
       "</table>\n",
       "</div>"
      ],
      "text/plain": [
       "                              diff     absdiff\n",
       "varname                                       \n",
       "gender                 -100.000000  100.000000\n",
       "gender4                 -97.771903   97.771903\n",
       "gendid_masc             -45.279535   45.279535\n",
       "gendid_fem               43.776526   43.776526\n",
       "gendid_mascfem          -37.718056   37.718056\n",
       "follow_campinterest      17.105757   17.105757\n",
       "newsint                  15.802715   15.802715\n",
       "disqual_sexhar          -14.887586   14.887586\n",
       "poldisc_socmed_2        -13.634619   13.634619\n",
       "aid_ukraine             -13.368694   13.368694\n",
       "aid_palest              -12.997216   12.997216\n",
       "misinfo_bidendocstr      12.974936   12.974936\n",
       "employ                   12.886037   12.886037\n",
       "imp_abort               -12.473860   12.473860\n",
       "status_catrecent         12.261208   12.261208\n",
       "secure_ease             -12.261208   12.261208\n",
       "status_work             -12.261208   12.261208\n",
       "status_catwork          -12.261208   12.261208\n",
       "empcareer_career        -12.261208   12.261208\n",
       "empsat_satisf           -12.261208   12.261208\n",
       "emploss_ai              -12.261208   12.261208\n",
       "emploss_less            -12.261208   12.261208\n",
       "emploss_losejob         -12.261208   12.261208\n",
       "empsuperv_superv        -12.261208   12.261208\n",
       "empcareer_careerstr     -12.261208   12.261208\n",
       "emploss_robot           -12.261208   12.261208\n",
       "own_ukraine             -12.028593   12.028593\n",
       "abrtpre_abrtself        -11.859840   11.859840\n",
       "highered_approve        -11.729580   11.729580\n",
       "poldisc_socmed_3        -11.400896   11.400896\n",
       "poldisc_socmed_4        -11.271519   11.271519\n",
       "imp_islamop             -11.185046   11.185046\n",
       "sexism_bhetero          -11.028867   11.028867\n",
       "tol_freespeech           10.826583   10.826583\n",
       "empath_perspect         -10.659153   10.659153\n",
       "aid_israel              -10.572791   10.572791\n",
       "own_antisem             -10.462826   10.462826\n",
       "treatcrime_camp         -10.269035   10.269035\n",
       "highered_bias           -10.260432   10.260432\n",
       "poldisc_peoplekn        -10.202195   10.202195\n",
       "region                  -10.192710   10.192710\n",
       "pew_prayer              -10.062781   10.062781\n",
       "misinfo_trump16str        9.918403    9.918403\n",
       "poldisc_smpol            -9.755605    9.755605\n",
       "abrtpre_standard         -9.385451    9.385451\n",
       "socdesir_advant          -9.287949    9.287949\n",
       "mobil_online             -9.270853    9.270853\n",
       "mobil_talk               -9.149085    9.149085\n",
       "Voterfile_Primary_2020    9.029083    9.029083\n",
       "imp_ukraine              -8.775732    8.775732"
      ]
     },
     "execution_count": 95,
     "metadata": {},
     "output_type": "execute_result"
    },
    {
     "data": {
      "application/javascript": [
       "\n",
       "            setTimeout(function() {\n",
       "                var nbb_cell_id = 95;\n",
       "                var nbb_unformatted_code = \"candidates = diff_df.sort_values(by=\\\"absdiff\\\", ascending=False)\\ncandidates.index = candidates[\\\"varname\\\"]\\ncandidates = candidates.drop(columns=[\\\"varname\\\"]) * 100\\ncandidates.head(50)\";\n",
       "                var nbb_formatted_code = \"candidates = diff_df.sort_values(by=\\\"absdiff\\\", ascending=False)\\ncandidates.index = candidates[\\\"varname\\\"]\\ncandidates = candidates.drop(columns=[\\\"varname\\\"]) * 100\\ncandidates.head(50)\";\n",
       "                var nbb_cells = Jupyter.notebook.get_cells();\n",
       "                for (var i = 0; i < nbb_cells.length; ++i) {\n",
       "                    if (nbb_cells[i].input_prompt_number == nbb_cell_id) {\n",
       "                        if (nbb_cells[i].get_text() == nbb_unformatted_code) {\n",
       "                             nbb_cells[i].set_text(nbb_formatted_code);\n",
       "                        }\n",
       "                        break;\n",
       "                    }\n",
       "                }\n",
       "            }, 500);\n",
       "            "
      ],
      "text/plain": [
       "<IPython.core.display.Javascript object>"
      ]
     },
     "metadata": {},
     "output_type": "display_data"
    }
   ],
   "source": [
    "candidates = diff_df.sort_values(by=\"absdiff\", ascending=False)\n",
    "candidates.index = candidates[\"varname\"]\n",
    "candidates = candidates.drop(columns=[\"varname\"]) * 100\n",
    "candidates.head(50)"
   ]
  },
  {
   "cell_type": "code",
   "execution_count": 96,
   "id": "bb2976f4-e32d-487f-ac4d-1ff335fc61ef",
   "metadata": {},
   "outputs": [
    {
     "data": {
      "application/javascript": [
       "\n",
       "            setTimeout(function() {\n",
       "                var nbb_cell_id = 96;\n",
       "                var nbb_unformatted_code = \"candidates.to_csv(\\\"anes_2024_candidates_resampled.csv\\\")\";\n",
       "                var nbb_formatted_code = \"candidates.to_csv(\\\"anes_2024_candidates_resampled.csv\\\")\";\n",
       "                var nbb_cells = Jupyter.notebook.get_cells();\n",
       "                for (var i = 0; i < nbb_cells.length; ++i) {\n",
       "                    if (nbb_cells[i].input_prompt_number == nbb_cell_id) {\n",
       "                        if (nbb_cells[i].get_text() == nbb_unformatted_code) {\n",
       "                             nbb_cells[i].set_text(nbb_formatted_code);\n",
       "                        }\n",
       "                        break;\n",
       "                    }\n",
       "                }\n",
       "            }, 500);\n",
       "            "
      ],
      "text/plain": [
       "<IPython.core.display.Javascript object>"
      ]
     },
     "metadata": {},
     "output_type": "display_data"
    }
   ],
   "source": [
    "candidates.to_csv(\"anes_2024_candidates_resampled.csv\")"
   ]
  },
  {
   "cell_type": "code",
   "execution_count": null,
   "id": "c11137ea",
   "metadata": {},
   "outputs": [],
   "source": []
  }
 ],
 "metadata": {
  "celltoolbar": "Tags",
  "kernelspec": {
   "display_name": "Python 3 (ipykernel)",
   "language": "python",
   "name": "python3"
  },
  "language_info": {
   "codemirror_mode": {
    "name": "ipython",
    "version": 3
   },
   "file_extension": ".py",
   "mimetype": "text/x-python",
   "name": "python",
   "nbconvert_exporter": "python",
   "pygments_lexer": "ipython3",
   "version": "3.10.12"
  }
 },
 "nbformat": 4,
 "nbformat_minor": 5
}
