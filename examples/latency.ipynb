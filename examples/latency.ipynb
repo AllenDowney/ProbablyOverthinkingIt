{
 "cells": [
  {
   "cell_type": "markdown",
   "metadata": {},
   "source": [
    "# Latency is Lognormal-ish\n",
    "\n",
    "This is notebook contains a section I cut from *[Probably Overthinking It: How to Use Data to Answer Questions, Avoid Statistical Traps, and Make Better Decisions](https://greenteapress.com/wp/probably-overthinking-it)*, University of Chicago Press, 2023.\n",
    "\n",
    "It presents a possible explanation for the observation that the latency period for some infectious diseases follows something like a lognormal distribution, as does the survival time for some cancers.\n",
    "\n",
    "Both cases can be modeled by a biased random walk -- in this model, the log time to reach some threshold is approximated by a conjugate Gaussian distribution.\n",
    "So it's not really lognormal, but it can often be approximated by a lognormal."
   ]
  },
  {
   "cell_type": "code",
   "execution_count": 1,
   "metadata": {},
   "outputs": [
    {
     "data": {
      "application/javascript": [
       "\n",
       "            setTimeout(function() {\n",
       "                var nbb_cell_id = 1;\n",
       "                var nbb_unformatted_code = \"import sys\\nimport pandas as pd\\nimport numpy as np\\nimport matplotlib.pyplot as plt\\nimport seaborn as sns\\n\\n%load_ext nb_black\";\n",
       "                var nbb_formatted_code = \"import sys\\nimport pandas as pd\\nimport numpy as np\\nimport matplotlib.pyplot as plt\\nimport seaborn as sns\\n\\n%load_ext nb_black\";\n",
       "                var nbb_cells = Jupyter.notebook.get_cells();\n",
       "                for (var i = 0; i < nbb_cells.length; ++i) {\n",
       "                    if (nbb_cells[i].input_prompt_number == nbb_cell_id) {\n",
       "                        if (nbb_cells[i].get_text() == nbb_unformatted_code) {\n",
       "                             nbb_cells[i].set_text(nbb_formatted_code);\n",
       "                        }\n",
       "                        break;\n",
       "                    }\n",
       "                }\n",
       "            }, 500);\n",
       "            "
      ],
      "text/plain": [
       "<IPython.core.display.Javascript object>"
      ]
     },
     "metadata": {},
     "output_type": "display_data"
    }
   ],
   "source": [
    "import sys\n",
    "import pandas as pd\n",
    "import numpy as np\n",
    "import matplotlib.pyplot as plt\n",
    "import seaborn as sns\n",
    "\n",
    "%load_ext nb_black"
   ]
  },
  {
   "cell_type": "code",
   "execution_count": 2,
   "metadata": {},
   "outputs": [
    {
     "data": {
      "application/javascript": [
       "\n",
       "            setTimeout(function() {\n",
       "                var nbb_cell_id = 2;\n",
       "                var nbb_unformatted_code = \"# Install empiricaldist if we don't already have it\\n\\ntry:\\n    import empiricaldist\\nexcept ImportError:\\n    !pip install empiricaldist\";\n",
       "                var nbb_formatted_code = \"# Install empiricaldist if we don't already have it\\n\\ntry:\\n    import empiricaldist\\nexcept ImportError:\\n    !pip install empiricaldist\";\n",
       "                var nbb_cells = Jupyter.notebook.get_cells();\n",
       "                for (var i = 0; i < nbb_cells.length; ++i) {\n",
       "                    if (nbb_cells[i].input_prompt_number == nbb_cell_id) {\n",
       "                        if (nbb_cells[i].get_text() == nbb_unformatted_code) {\n",
       "                             nbb_cells[i].set_text(nbb_formatted_code);\n",
       "                        }\n",
       "                        break;\n",
       "                    }\n",
       "                }\n",
       "            }, 500);\n",
       "            "
      ],
      "text/plain": [
       "<IPython.core.display.Javascript object>"
      ]
     },
     "metadata": {},
     "output_type": "display_data"
    }
   ],
   "source": [
    "# Install empiricaldist if we don't already have it\n",
    "\n",
    "try:\n",
    "    import empiricaldist\n",
    "except ImportError:\n",
    "    !pip install empiricaldist"
   ]
  },
  {
   "cell_type": "code",
   "execution_count": 3,
   "metadata": {},
   "outputs": [
    {
     "data": {
      "application/javascript": [
       "\n",
       "            setTimeout(function() {\n",
       "                var nbb_cell_id = 3;\n",
       "                var nbb_unformatted_code = \"# download utils.py\\n\\nfrom os.path import basename, exists\\n\\n\\ndef download(url):\\n    filename = basename(url)\\n    if not exists(filename):\\n        from urllib.request import urlretrieve\\n\\n        local, _ = urlretrieve(url, filename)\\n        print(\\\"Downloaded \\\" + local)\\n\\n\\ndownload(\\n    \\\"https://github.com/AllenDowney/ProbablyOverthinkingIt/raw/book/notebooks/utils.py\\\"\\n)\";\n",
       "                var nbb_formatted_code = \"# download utils.py\\n\\nfrom os.path import basename, exists\\n\\n\\ndef download(url):\\n    filename = basename(url)\\n    if not exists(filename):\\n        from urllib.request import urlretrieve\\n\\n        local, _ = urlretrieve(url, filename)\\n        print(\\\"Downloaded \\\" + local)\\n\\n\\ndownload(\\n    \\\"https://github.com/AllenDowney/ProbablyOverthinkingIt/raw/book/notebooks/utils.py\\\"\\n)\";\n",
       "                var nbb_cells = Jupyter.notebook.get_cells();\n",
       "                for (var i = 0; i < nbb_cells.length; ++i) {\n",
       "                    if (nbb_cells[i].input_prompt_number == nbb_cell_id) {\n",
       "                        if (nbb_cells[i].get_text() == nbb_unformatted_code) {\n",
       "                             nbb_cells[i].set_text(nbb_formatted_code);\n",
       "                        }\n",
       "                        break;\n",
       "                    }\n",
       "                }\n",
       "            }, 500);\n",
       "            "
      ],
      "text/plain": [
       "<IPython.core.display.Javascript object>"
      ]
     },
     "metadata": {},
     "output_type": "display_data"
    }
   ],
   "source": [
    "# download utils.py\n",
    "\n",
    "from os.path import basename, exists\n",
    "\n",
    "\n",
    "def download(url):\n",
    "    filename = basename(url)\n",
    "    if not exists(filename):\n",
    "        from urllib.request import urlretrieve\n",
    "\n",
    "        local, _ = urlretrieve(url, filename)\n",
    "        print(\"Downloaded \" + local)\n",
    "\n",
    "\n",
    "download(\n",
    "    \"https://github.com/AllenDowney/ProbablyOverthinkingIt/raw/book/notebooks/utils.py\"\n",
    ")"
   ]
  },
  {
   "cell_type": "code",
   "execution_count": 4,
   "metadata": {},
   "outputs": [
    {
     "data": {
      "application/javascript": [
       "\n",
       "            setTimeout(function() {\n",
       "                var nbb_cell_id = 4;\n",
       "                var nbb_unformatted_code = \"from utils import decorate\";\n",
       "                var nbb_formatted_code = \"from utils import decorate\";\n",
       "                var nbb_cells = Jupyter.notebook.get_cells();\n",
       "                for (var i = 0; i < nbb_cells.length; ++i) {\n",
       "                    if (nbb_cells[i].input_prompt_number == nbb_cell_id) {\n",
       "                        if (nbb_cells[i].get_text() == nbb_unformatted_code) {\n",
       "                             nbb_cells[i].set_text(nbb_formatted_code);\n",
       "                        }\n",
       "                        break;\n",
       "                    }\n",
       "                }\n",
       "            }, 500);\n",
       "            "
      ],
      "text/plain": [
       "<IPython.core.display.Javascript object>"
      ]
     },
     "metadata": {},
     "output_type": "display_data"
    }
   ],
   "source": [
    "from utils import decorate"
   ]
  },
  {
   "cell_type": "code",
   "execution_count": 5,
   "metadata": {},
   "outputs": [
    {
     "data": {
      "application/javascript": [
       "\n",
       "            setTimeout(function() {\n",
       "                var nbb_cell_id = 5;\n",
       "                var nbb_unformatted_code = \"from empiricaldist import Cdf\\nfrom scipy.optimize import least_squares\\nfrom scipy.stats import norm\\n\\n\\ndef fit_normal(series):\\n    \\\"\\\"\\\"Find the model that minimizes the errors in percentiles.\\\"\\\"\\\"\\n\\n    def error_func(params, series):\\n        mu, sigma = params\\n        cdf = Cdf.from_seq(series)\\n        ps = np.linspace(0.01, 0.99)\\n        qs = series.quantile(ps)\\n        error = cdf(qs) - norm.cdf(qs, mu, sigma)\\n        return error\\n\\n    params = series.mean(), series.std()\\n    res = least_squares(error_func, x0=params, args=(series,), ftol=1e3)\\n    assert res.success\\n    mu, sigma = res.x\\n    return norm(mu, sigma)\";\n",
       "                var nbb_formatted_code = \"from empiricaldist import Cdf\\nfrom scipy.optimize import least_squares\\nfrom scipy.stats import norm\\n\\n\\ndef fit_normal(series):\\n    \\\"\\\"\\\"Find the model that minimizes the errors in percentiles.\\\"\\\"\\\"\\n\\n    def error_func(params, series):\\n        mu, sigma = params\\n        cdf = Cdf.from_seq(series)\\n        ps = np.linspace(0.01, 0.99)\\n        qs = series.quantile(ps)\\n        error = cdf(qs) - norm.cdf(qs, mu, sigma)\\n        return error\\n\\n    params = series.mean(), series.std()\\n    res = least_squares(error_func, x0=params, args=(series,), ftol=1e3)\\n    assert res.success\\n    mu, sigma = res.x\\n    return norm(mu, sigma)\";\n",
       "                var nbb_cells = Jupyter.notebook.get_cells();\n",
       "                for (var i = 0; i < nbb_cells.length; ++i) {\n",
       "                    if (nbb_cells[i].input_prompt_number == nbb_cell_id) {\n",
       "                        if (nbb_cells[i].get_text() == nbb_unformatted_code) {\n",
       "                             nbb_cells[i].set_text(nbb_formatted_code);\n",
       "                        }\n",
       "                        break;\n",
       "                    }\n",
       "                }\n",
       "            }, 500);\n",
       "            "
      ],
      "text/plain": [
       "<IPython.core.display.Javascript object>"
      ]
     },
     "metadata": {},
     "output_type": "display_data"
    }
   ],
   "source": [
    "from empiricaldist import Cdf\n",
    "from scipy.optimize import least_squares\n",
    "from scipy.stats import norm\n",
    "\n",
    "\n",
    "def fit_normal(series):\n",
    "    \"\"\"Find the model that minimizes the errors in percentiles.\"\"\"\n",
    "\n",
    "    def error_func(params, series):\n",
    "        mu, sigma = params\n",
    "        cdf = Cdf.from_seq(series)\n",
    "        ps = np.linspace(0.01, 0.99)\n",
    "        qs = series.quantile(ps)\n",
    "        error = cdf(qs) - norm.cdf(qs, mu, sigma)\n",
    "        return error\n",
    "\n",
    "    params = series.mean(), series.std()\n",
    "    res = least_squares(error_func, x0=params, args=(series,), ftol=1e3)\n",
    "    assert res.success\n",
    "    mu, sigma = res.x\n",
    "    return norm(mu, sigma)"
   ]
  },
  {
   "cell_type": "code",
   "execution_count": 6,
   "metadata": {},
   "outputs": [
    {
     "data": {
      "application/javascript": [
       "\n",
       "            setTimeout(function() {\n",
       "                var nbb_cell_id = 6;\n",
       "                var nbb_unformatted_code = \"from scipy.stats import binom\\n\\n\\ndef normal_error_bounds(dist, n, qs, alpha=0.95):\\n    \\\"\\\"\\\"Find the bounds on a normal CDF analytically.\\\"\\\"\\\"\\n    # find the correct probabilities\\n    ps = dist.cdf(qs)\\n\\n    # find the upper and lower percentiles of\\n    # a binomial distribution\\n    p_low = (1 - alpha) / 2\\n    p_high = 1 - p_low\\n\\n    low = binom.ppf(p_low, n, ps) / n\\n    low[ps == 1] = 1\\n    high = binom.ppf(p_high, n, ps) / n\\n    return low, high\";\n",
       "                var nbb_formatted_code = \"from scipy.stats import binom\\n\\n\\ndef normal_error_bounds(dist, n, qs, alpha=0.95):\\n    \\\"\\\"\\\"Find the bounds on a normal CDF analytically.\\\"\\\"\\\"\\n    # find the correct probabilities\\n    ps = dist.cdf(qs)\\n\\n    # find the upper and lower percentiles of\\n    # a binomial distribution\\n    p_low = (1 - alpha) / 2\\n    p_high = 1 - p_low\\n\\n    low = binom.ppf(p_low, n, ps) / n\\n    low[ps == 1] = 1\\n    high = binom.ppf(p_high, n, ps) / n\\n    return low, high\";\n",
       "                var nbb_cells = Jupyter.notebook.get_cells();\n",
       "                for (var i = 0; i < nbb_cells.length; ++i) {\n",
       "                    if (nbb_cells[i].input_prompt_number == nbb_cell_id) {\n",
       "                        if (nbb_cells[i].get_text() == nbb_unformatted_code) {\n",
       "                             nbb_cells[i].set_text(nbb_formatted_code);\n",
       "                        }\n",
       "                        break;\n",
       "                    }\n",
       "                }\n",
       "            }, 500);\n",
       "            "
      ],
      "text/plain": [
       "<IPython.core.display.Javascript object>"
      ]
     },
     "metadata": {},
     "output_type": "display_data"
    }
   ],
   "source": [
    "from scipy.stats import binom\n",
    "\n",
    "\n",
    "def normal_error_bounds(dist, n, qs, alpha=0.95):\n",
    "    \"\"\"Find the bounds on a normal CDF analytically.\"\"\"\n",
    "    # find the correct probabilities\n",
    "    ps = dist.cdf(qs)\n",
    "\n",
    "    # find the upper and lower percentiles of\n",
    "    # a binomial distribution\n",
    "    p_low = (1 - alpha) / 2\n",
    "    p_high = 1 - p_low\n",
    "\n",
    "    low = binom.ppf(p_low, n, ps) / n\n",
    "    low[ps == 1] = 1\n",
    "    high = binom.ppf(p_high, n, ps) / n\n",
    "    return low, high"
   ]
  },
  {
   "cell_type": "code",
   "execution_count": 7,
   "metadata": {},
   "outputs": [
    {
     "data": {
      "application/javascript": [
       "\n",
       "            setTimeout(function() {\n",
       "                var nbb_cell_id = 7;\n",
       "                var nbb_unformatted_code = \"from utils import make_cdf\\n\\n\\ndef make_plot(series, model_label=None, plot_bounds=True, qs=None, **options):\\n    cdf = make_cdf(series)\\n    dist = fit_normal(series)\\n    p = 1 - (1 / len(series))\\n    upper = dist.ppf(p)\\n\\n    if plot_bounds:\\n        plt.plot(upper, p * 100, \\\"+\\\", color=\\\"black\\\", ms=12)\\n\\n    n = len(series)\\n    if qs is None:\\n        q_max = max(cdf.qs.max(), upper)\\n        qs = np.linspace(cdf.qs.min(), q_max)\\n    low, high = normal_error_bounds(dist, n, qs)\\n    plt.fill_between(qs, low * 100, high * 100, color=\\\"gray\\\", alpha=0.3)\\n\\n    cdf.plot(**options)\";\n",
       "                var nbb_formatted_code = \"from utils import make_cdf\\n\\n\\ndef make_plot(series, model_label=None, plot_bounds=True, qs=None, **options):\\n    cdf = make_cdf(series)\\n    dist = fit_normal(series)\\n    p = 1 - (1 / len(series))\\n    upper = dist.ppf(p)\\n\\n    if plot_bounds:\\n        plt.plot(upper, p * 100, \\\"+\\\", color=\\\"black\\\", ms=12)\\n\\n    n = len(series)\\n    if qs is None:\\n        q_max = max(cdf.qs.max(), upper)\\n        qs = np.linspace(cdf.qs.min(), q_max)\\n    low, high = normal_error_bounds(dist, n, qs)\\n    plt.fill_between(qs, low * 100, high * 100, color=\\\"gray\\\", alpha=0.3)\\n\\n    cdf.plot(**options)\";\n",
       "                var nbb_cells = Jupyter.notebook.get_cells();\n",
       "                for (var i = 0; i < nbb_cells.length; ++i) {\n",
       "                    if (nbb_cells[i].input_prompt_number == nbb_cell_id) {\n",
       "                        if (nbb_cells[i].get_text() == nbb_unformatted_code) {\n",
       "                             nbb_cells[i].set_text(nbb_formatted_code);\n",
       "                        }\n",
       "                        break;\n",
       "                    }\n",
       "                }\n",
       "            }, 500);\n",
       "            "
      ],
      "text/plain": [
       "<IPython.core.display.Javascript object>"
      ]
     },
     "metadata": {},
     "output_type": "display_data"
    }
   ],
   "source": [
    "from utils import make_cdf\n",
    "\n",
    "\n",
    "def make_plot(series, model_label=None, plot_bounds=True, qs=None, **options):\n",
    "    cdf = make_cdf(series)\n",
    "    dist = fit_normal(series)\n",
    "    p = 1 - (1 / len(series))\n",
    "    upper = dist.ppf(p)\n",
    "\n",
    "    if plot_bounds:\n",
    "        plt.plot(upper, p * 100, \"+\", color=\"black\", ms=12)\n",
    "\n",
    "    n = len(series)\n",
    "    if qs is None:\n",
    "        q_max = max(cdf.qs.max(), upper)\n",
    "        qs = np.linspace(cdf.qs.min(), q_max)\n",
    "    low, high = normal_error_bounds(dist, n, qs)\n",
    "    plt.fill_between(qs, low * 100, high * 100, color=\"gray\", alpha=0.3)\n",
    "\n",
    "    cdf.plot(**options)"
   ]
  },
  {
   "cell_type": "markdown",
   "metadata": {},
   "source": [
    "## Infectious Disease Incubation\n",
    "\n",
    "Early in the COVID-19 pandemic, a team of researchers in Ireland reviewed studies of the incubation time of the new virus.\n",
    "They concluded that incubation times are well modeled by a lognormal distribution.\n",
    "\n",
    "To see how well, I chose the largest dataset they found, which describes cases from early 2020 where the dates of exposure and the onset of symptoms are known with precision.\n",
    "The dataset includes 1155 cases from China, Japan, Singapore, South Korea, Vietnam, Germany and Malaysia.\n",
    "The following figure shows the distribution of the incubation periods and a lognormal model fit to the data."
   ]
  },
  {
   "cell_type": "code",
   "execution_count": 8,
   "metadata": {},
   "outputs": [
    {
     "data": {
      "application/javascript": [
       "\n",
       "            setTimeout(function() {\n",
       "                var nbb_cell_id = 8;\n",
       "                var nbb_unformatted_code = \"DATA_PATH = \\\"https://github.com/AllenDowney/ProbablyOverthinkingIt/raw/book/data/\\\"\\nfilename = \\\"ma2020.csv\\\"\\ndownload(DATA_PATH + filename)\";\n",
       "                var nbb_formatted_code = \"DATA_PATH = \\\"https://github.com/AllenDowney/ProbablyOverthinkingIt/raw/book/data/\\\"\\nfilename = \\\"ma2020.csv\\\"\\ndownload(DATA_PATH + filename)\";\n",
       "                var nbb_cells = Jupyter.notebook.get_cells();\n",
       "                for (var i = 0; i < nbb_cells.length; ++i) {\n",
       "                    if (nbb_cells[i].input_prompt_number == nbb_cell_id) {\n",
       "                        if (nbb_cells[i].get_text() == nbb_unformatted_code) {\n",
       "                             nbb_cells[i].set_text(nbb_formatted_code);\n",
       "                        }\n",
       "                        break;\n",
       "                    }\n",
       "                }\n",
       "            }, 500);\n",
       "            "
      ],
      "text/plain": [
       "<IPython.core.display.Javascript object>"
      ]
     },
     "metadata": {},
     "output_type": "display_data"
    }
   ],
   "source": [
    "DATA_PATH = \"https://github.com/AllenDowney/ProbablyOverthinkingIt/raw/book/data/\"\n",
    "filename = \"ma2020.csv\"\n",
    "download(DATA_PATH + filename)"
   ]
  },
  {
   "cell_type": "code",
   "execution_count": 9,
   "metadata": {},
   "outputs": [
    {
     "data": {
      "application/javascript": [
       "\n",
       "            setTimeout(function() {\n",
       "                var nbb_cell_id = 9;\n",
       "                var nbb_unformatted_code = \"df = pd.read_csv(filename, header=None)\";\n",
       "                var nbb_formatted_code = \"df = pd.read_csv(filename, header=None)\";\n",
       "                var nbb_cells = Jupyter.notebook.get_cells();\n",
       "                for (var i = 0; i < nbb_cells.length; ++i) {\n",
       "                    if (nbb_cells[i].input_prompt_number == nbb_cell_id) {\n",
       "                        if (nbb_cells[i].get_text() == nbb_unformatted_code) {\n",
       "                             nbb_cells[i].set_text(nbb_formatted_code);\n",
       "                        }\n",
       "                        break;\n",
       "                    }\n",
       "                }\n",
       "            }, 500);\n",
       "            "
      ],
      "text/plain": [
       "<IPython.core.display.Javascript object>"
      ]
     },
     "metadata": {},
     "output_type": "display_data"
    }
   ],
   "source": [
    "df = pd.read_csv(filename, header=None)"
   ]
  },
  {
   "cell_type": "code",
   "execution_count": 10,
   "metadata": {},
   "outputs": [
    {
     "data": {
      "text/plain": [
       "1155"
      ]
     },
     "execution_count": 10,
     "metadata": {},
     "output_type": "execute_result"
    },
    {
     "data": {
      "application/javascript": [
       "\n",
       "            setTimeout(function() {\n",
       "                var nbb_cell_id = 10;\n",
       "                var nbb_unformatted_code = \"from collections import Counter\\n\\nlatency = pd.Series(Counter(df[3].to_dict()).elements())\\nlen(latency)\";\n",
       "                var nbb_formatted_code = \"from collections import Counter\\n\\nlatency = pd.Series(Counter(df[3].to_dict()).elements())\\nlen(latency)\";\n",
       "                var nbb_cells = Jupyter.notebook.get_cells();\n",
       "                for (var i = 0; i < nbb_cells.length; ++i) {\n",
       "                    if (nbb_cells[i].input_prompt_number == nbb_cell_id) {\n",
       "                        if (nbb_cells[i].get_text() == nbb_unformatted_code) {\n",
       "                             nbb_cells[i].set_text(nbb_formatted_code);\n",
       "                        }\n",
       "                        break;\n",
       "                    }\n",
       "                }\n",
       "            }, 500);\n",
       "            "
      ],
      "text/plain": [
       "<IPython.core.display.Javascript object>"
      ]
     },
     "metadata": {},
     "output_type": "display_data"
    }
   ],
   "source": [
    "from collections import Counter\n",
    "\n",
    "latency = pd.Series(Counter(df[3].to_dict()).elements())\n",
    "len(latency)"
   ]
  },
  {
   "cell_type": "code",
   "execution_count": 11,
   "metadata": {},
   "outputs": [
    {
     "data": {
      "image/png": "[encoded data removed]",
      "text/plain": [
       "<Figure size 640x480 with 1 Axes>"
      ]
     },
     "metadata": {},
     "output_type": "display_data"
    },
    {
     "data": {
      "application/javascript": [
       "\n",
       "            setTimeout(function() {\n",
       "                var nbb_cell_id = 11;\n",
       "                var nbb_unformatted_code = \"from empiricaldist import Pmf\\n\\nPmf.from_seq(latency).bar()\";\n",
       "                var nbb_formatted_code = \"from empiricaldist import Pmf\\n\\nPmf.from_seq(latency).bar()\";\n",
       "                var nbb_cells = Jupyter.notebook.get_cells();\n",
       "                for (var i = 0; i < nbb_cells.length; ++i) {\n",
       "                    if (nbb_cells[i].input_prompt_number == nbb_cell_id) {\n",
       "                        if (nbb_cells[i].get_text() == nbb_unformatted_code) {\n",
       "                             nbb_cells[i].set_text(nbb_formatted_code);\n",
       "                        }\n",
       "                        break;\n",
       "                    }\n",
       "                }\n",
       "            }, 500);\n",
       "            "
      ],
      "text/plain": [
       "<IPython.core.display.Javascript object>"
      ]
     },
     "metadata": {},
     "output_type": "display_data"
    }
   ],
   "source": [
    "from empiricaldist import Pmf\n",
    "\n",
    "Pmf.from_seq(latency).bar()"
   ]
  },
  {
   "cell_type": "code",
   "execution_count": 12,
   "metadata": {},
   "outputs": [
    {
     "data": {
      "application/javascript": [
       "\n",
       "            setTimeout(function() {\n",
       "                var nbb_cell_id = 12;\n",
       "                var nbb_unformatted_code = \"latency_jitter = latency.replace(0, 1) + np.random.uniform(0, 1, len(latency))\";\n",
       "                var nbb_formatted_code = \"latency_jitter = latency.replace(0, 1) + np.random.uniform(0, 1, len(latency))\";\n",
       "                var nbb_cells = Jupyter.notebook.get_cells();\n",
       "                for (var i = 0; i < nbb_cells.length; ++i) {\n",
       "                    if (nbb_cells[i].input_prompt_number == nbb_cell_id) {\n",
       "                        if (nbb_cells[i].get_text() == nbb_unformatted_code) {\n",
       "                             nbb_cells[i].set_text(nbb_formatted_code);\n",
       "                        }\n",
       "                        break;\n",
       "                    }\n",
       "                }\n",
       "            }, 500);\n",
       "            "
      ],
      "text/plain": [
       "<IPython.core.display.Javascript object>"
      ]
     },
     "metadata": {},
     "output_type": "display_data"
    }
   ],
   "source": [
    "latency_jitter = latency.replace(0, 1) + np.random.uniform(0, 1, len(latency))"
   ]
  },
  {
   "cell_type": "code",
   "execution_count": 13,
   "metadata": {},
   "outputs": [
    {
     "data": {
      "image/png": "[encoded data removed]",
      "text/plain": [
       "<Figure size 640x480 with 1 Axes>"
      ]
     },
     "metadata": {},
     "output_type": "display_data"
    },
    {
     "data": {
      "application/javascript": [
       "\n",
       "            setTimeout(function() {\n",
       "                var nbb_cell_id = 13;\n",
       "                var nbb_unformatted_code = \"make_plot(latency_jitter)\";\n",
       "                var nbb_formatted_code = \"make_plot(latency_jitter)\";\n",
       "                var nbb_cells = Jupyter.notebook.get_cells();\n",
       "                for (var i = 0; i < nbb_cells.length; ++i) {\n",
       "                    if (nbb_cells[i].input_prompt_number == nbb_cell_id) {\n",
       "                        if (nbb_cells[i].get_text() == nbb_unformatted_code) {\n",
       "                             nbb_cells[i].set_text(nbb_formatted_code);\n",
       "                        }\n",
       "                        break;\n",
       "                    }\n",
       "                }\n",
       "            }, 500);\n",
       "            "
      ],
      "text/plain": [
       "<IPython.core.display.Javascript object>"
      ]
     },
     "metadata": {},
     "output_type": "display_data"
    }
   ],
   "source": [
    "make_plot(latency_jitter)"
   ]
  },
  {
   "cell_type": "code",
   "execution_count": 14,
   "metadata": {},
   "outputs": [
    {
     "data": {
      "image/png": "[encoded data removed]",
      "text/plain": [
       "<Figure size 640x480 with 1 Axes>"
      ]
     },
     "metadata": {},
     "output_type": "display_data"
    },
    {
     "data": {
      "application/javascript": [
       "\n",
       "            setTimeout(function() {\n",
       "                var nbb_cell_id = 14;\n",
       "                var nbb_unformatted_code = \"log_latency = np.log10(latency_jitter)\\nmake_plot(log_latency)\\n\\nlabels = [1, 2, 5, 10, 20, 50]\\nticks = np.log10(labels)\\nplt.xticks(ticks, labels)\\ndecorate(xlabel=\\\"Incubation period (days)\\\", ylabel=\\\"Percentile Rank\\\")\";\n",
       "                var nbb_formatted_code = \"log_latency = np.log10(latency_jitter)\\nmake_plot(log_latency)\\n\\nlabels = [1, 2, 5, 10, 20, 50]\\nticks = np.log10(labels)\\nplt.xticks(ticks, labels)\\ndecorate(xlabel=\\\"Incubation period (days)\\\", ylabel=\\\"Percentile Rank\\\")\";\n",
       "                var nbb_cells = Jupyter.notebook.get_cells();\n",
       "                for (var i = 0; i < nbb_cells.length; ++i) {\n",
       "                    if (nbb_cells[i].input_prompt_number == nbb_cell_id) {\n",
       "                        if (nbb_cells[i].get_text() == nbb_unformatted_code) {\n",
       "                             nbb_cells[i].set_text(nbb_formatted_code);\n",
       "                        }\n",
       "                        break;\n",
       "                    }\n",
       "                }\n",
       "            }, 500);\n",
       "            "
      ],
      "text/plain": [
       "<IPython.core.display.Javascript object>"
      ]
     },
     "metadata": {},
     "output_type": "display_data"
    }
   ],
   "source": [
    "log_latency = np.log10(latency_jitter)\n",
    "make_plot(log_latency)\n",
    "\n",
    "labels = [1, 2, 5, 10, 20, 50]\n",
    "ticks = np.log10(labels)\n",
    "plt.xticks(ticks, labels)\n",
    "decorate(xlabel=\"Incubation period (days)\", ylabel=\"Percentile Rank\")"
   ]
  },
  {
   "cell_type": "markdown",
   "metadata": {},
   "source": [
    "This model might be good enough for practical purposes, but there are two notable discrepancies: there are more cases near two days than we would expect from a lognormal distribution, and fewer cases longer than 20 days.\n",
    "\n",
    "At the low end, the data might deviate from the model because we don't know precisely when some patients were exposed or when they developed symptoms.\n",
    "At the high end, the reason for the discrepancy might be that if someone has not developed symptoms after 20 days, they never do, so they don't appear in the dataset.\n",
    "\n",
    "But it's also possible that the data do not actually follow a lognormal distribution.\n",
    "To see why not, let's consider what happens when an infection occurs."
   ]
  },
  {
   "cell_type": "markdown",
   "metadata": {},
   "source": [
    "For an airborn virus like COVID, an aerosol droplet containing virus particles has to get past physical, chemical, and cellular defenses, contact the surface of a susceptible cell, and cross the cell membrane.\n",
    "Once the virus infiltrates a cell, it uses the cell's replication mechanism to make copies of itself; eventually, these copies escape from the cell and go on to infect other cells.\n",
    "\n",
    "At first the total number of copies, called the viral load, increases quickly.\n",
    "However, almost immediately the primary immune response destroys some copies of the virus and the cells they infect. Later, as part of the secondary immune response, specific antibodies arrive that destroy the virus more effectively."
   ]
  },
  {
   "cell_type": "markdown",
   "metadata": {},
   "source": [
    "The workings of the immune system are famously complicated, but let me suggest a simple model.\n",
    "Suppose that, after infection, viral load tends to increase over time, but at a varying rate. It might increase quickly during some periods, slowly during others, and it might even decrease sometimes.\n",
    "If we consider the growth rate to be a random quantity, the viral load at a given point in time is the product of an initial value and a large number of random factors.\n",
    "If reality is enough like this model, viral load at any point in time would tend to follow a lognormal distribution.\n",
    "\n",
    "However, that doesn't explain the distribution of incubation times.\n",
    "For that, we have to make one more assumption: suppose, for each person, there is some threshold of viral load that determines the onset of symptoms.\n",
    "While viral load is below the threshold, the person is asymptomatic; when it exceeds the threshold, they start to feel sick.\n",
    "With this assumption, we can simulate the infection process and see what the distribution of incubation periods looks like."
   ]
  },
  {
   "cell_type": "markdown",
   "metadata": {},
   "source": [
    "I should acknowledge that I am not completely making this up.\n",
    "In a 2007 review article, the epidemiologist Hiroshi Nishiura summarizes efforts to model incubation times of infection disease: \"What we have learnt to date can be described as follows: if the growth rate of a microorganism is implicitly assumed to follow normal distribution, and if there is a fixed threshold of pathogen load at which symptoms are revealed due to the host response, exponential growth of microorganisms should result in an incubation period sufficiently approximated by lognormal distribution.\"\n",
    "\n",
    "Based on these assumptions, I wrote a simulation of 1155 people infected at the same time.\n",
    "Each person has a random initial viral load between 1 and 10, and a random threshold near 100.\n",
    "I divided each simulated day into 10 time steps.\n",
    "During each time step, viral load increases (or sometimes decreases) by a growth factor chosen from a uniform distribution with a range chosen to fit the data.\n",
    "The following figure shows the distribution of incubation times from the simulation along with the data."
   ]
  },
  {
   "cell_type": "code",
   "execution_count": 15,
   "metadata": {},
   "outputs": [
    {
     "data": {
      "application/javascript": [
       "\n",
       "            setTimeout(function() {\n",
       "                var nbb_cell_id = 15;\n",
       "                var nbb_unformatted_code = \"from scipy.stats import norm\\n\\nrows = 1155\\ncols = 1000\\nnp.random.seed(18)\\n\\n# rvs = norm.rvs(0, 1, size=(rows, cols))\\nrvs = np.random.uniform(-2, 2, size=(rows, cols))\\n\\nstart = np.random.uniform(1, 10, rows)\\nthresh = np.random.normal(100, 10, rows)\";\n",
       "                var nbb_formatted_code = \"from scipy.stats import norm\\n\\nrows = 1155\\ncols = 1000\\nnp.random.seed(18)\\n\\n# rvs = norm.rvs(0, 1, size=(rows, cols))\\nrvs = np.random.uniform(-2, 2, size=(rows, cols))\\n\\nstart = np.random.uniform(1, 10, rows)\\nthresh = np.random.normal(100, 10, rows)\";\n",
       "                var nbb_cells = Jupyter.notebook.get_cells();\n",
       "                for (var i = 0; i < nbb_cells.length; ++i) {\n",
       "                    if (nbb_cells[i].input_prompt_number == nbb_cell_id) {\n",
       "                        if (nbb_cells[i].get_text() == nbb_unformatted_code) {\n",
       "                             nbb_cells[i].set_text(nbb_formatted_code);\n",
       "                        }\n",
       "                        break;\n",
       "                    }\n",
       "                }\n",
       "            }, 500);\n",
       "            "
      ],
      "text/plain": [
       "<IPython.core.display.Javascript object>"
      ]
     },
     "metadata": {},
     "output_type": "display_data"
    }
   ],
   "source": [
    "from scipy.stats import norm\n",
    "\n",
    "rows = 1155\n",
    "cols = 1000\n",
    "np.random.seed(18)\n",
    "\n",
    "# rvs = norm.rvs(0, 1, size=(rows, cols))\n",
    "rvs = np.random.uniform(-2, 2, size=(rows, cols))\n",
    "\n",
    "start = np.random.uniform(1, 10, rows)\n",
    "thresh = np.random.normal(100, 10, rows)"
   ]
  },
  {
   "cell_type": "code",
   "execution_count": 16,
   "metadata": {},
   "outputs": [
    {
     "data": {
      "application/javascript": [
       "\n",
       "            setTimeout(function() {\n",
       "                var nbb_cell_id = 16;\n",
       "                var nbb_unformatted_code = \"def simulate_latency(start, thresh, mu=1.1, sigma=0.1):\\n    factors = rvs * sigma + mu\\n    product = factors.cumprod(axis=1)\\n    load = start[:, None] * product\\n    times = np.argmax(load > thresh[:, None], axis=1)\\n\\n    # make sure no rows started above the threshold and\\n    # all rows ran long enough to exceed the threshold\\n    assert np.all(times > 0)\\n\\n    # The correlation between start and times tends to be weak,\\n    # with rho around 0.25\\n    # print(np.corrcoef(start, times))\\n    return pd.Series(times / 10)\";\n",
       "                var nbb_formatted_code = \"def simulate_latency(start, thresh, mu=1.1, sigma=0.1):\\n    factors = rvs * sigma + mu\\n    product = factors.cumprod(axis=1)\\n    load = start[:, None] * product\\n    times = np.argmax(load > thresh[:, None], axis=1)\\n\\n    # make sure no rows started above the threshold and\\n    # all rows ran long enough to exceed the threshold\\n    assert np.all(times > 0)\\n\\n    # The correlation between start and times tends to be weak,\\n    # with rho around 0.25\\n    # print(np.corrcoef(start, times))\\n    return pd.Series(times / 10)\";\n",
       "                var nbb_cells = Jupyter.notebook.get_cells();\n",
       "                for (var i = 0; i < nbb_cells.length; ++i) {\n",
       "                    if (nbb_cells[i].input_prompt_number == nbb_cell_id) {\n",
       "                        if (nbb_cells[i].get_text() == nbb_unformatted_code) {\n",
       "                             nbb_cells[i].set_text(nbb_formatted_code);\n",
       "                        }\n",
       "                        break;\n",
       "                    }\n",
       "                }\n",
       "            }, 500);\n",
       "            "
      ],
      "text/plain": [
       "<IPython.core.display.Javascript object>"
      ]
     },
     "metadata": {},
     "output_type": "display_data"
    }
   ],
   "source": [
    "def simulate_latency(start, thresh, mu=1.1, sigma=0.1):\n",
    "    factors = rvs * sigma + mu\n",
    "    product = factors.cumprod(axis=1)\n",
    "    load = start[:, None] * product\n",
    "    times = np.argmax(load > thresh[:, None], axis=1)\n",
    "\n",
    "    # make sure no rows started above the threshold and\n",
    "    # all rows ran long enough to exceed the threshold\n",
    "    assert np.all(times > 0)\n",
    "\n",
    "    # The correlation between start and times tends to be weak,\n",
    "    # with rho around 0.25\n",
    "    # print(np.corrcoef(start, times))\n",
    "    return pd.Series(times / 10)"
   ]
  },
  {
   "cell_type": "code",
   "execution_count": 17,
   "metadata": {},
   "outputs": [
    {
     "data": {
      "application/javascript": [
       "\n",
       "            setTimeout(function() {\n",
       "                var nbb_cell_id = 17;\n",
       "                var nbb_unformatted_code = \"mu = 1.06\\nsigma = 0.2\\n\\ntimes = simulate_latency(start, thresh, mu, sigma)\";\n",
       "                var nbb_formatted_code = \"mu = 1.06\\nsigma = 0.2\\n\\ntimes = simulate_latency(start, thresh, mu, sigma)\";\n",
       "                var nbb_cells = Jupyter.notebook.get_cells();\n",
       "                for (var i = 0; i < nbb_cells.length; ++i) {\n",
       "                    if (nbb_cells[i].input_prompt_number == nbb_cell_id) {\n",
       "                        if (nbb_cells[i].get_text() == nbb_unformatted_code) {\n",
       "                             nbb_cells[i].set_text(nbb_formatted_code);\n",
       "                        }\n",
       "                        break;\n",
       "                    }\n",
       "                }\n",
       "            }, 500);\n",
       "            "
      ],
      "text/plain": [
       "<IPython.core.display.Javascript object>"
      ]
     },
     "metadata": {},
     "output_type": "display_data"
    }
   ],
   "source": [
    "mu = 1.06\n",
    "sigma = 0.2\n",
    "\n",
    "times = simulate_latency(start, thresh, mu, sigma)"
   ]
  },
  {
   "cell_type": "code",
   "execution_count": 18,
   "metadata": {},
   "outputs": [
    {
     "data": {
      "image/png": "[encoded data removed]",
      "text/plain": [
       "<Figure size 640x480 with 1 Axes>"
      ]
     },
     "metadata": {},
     "output_type": "display_data"
    },
    {
     "data": {
      "application/javascript": [
       "\n",
       "            setTimeout(function() {\n",
       "                var nbb_cell_id = 18;\n",
       "                var nbb_unformatted_code = \"# the distribution of times from the simulation could pass for lognormal\\n\\nmake_plot(np.log10(times))\";\n",
       "                var nbb_formatted_code = \"# the distribution of times from the simulation could pass for lognormal\\n\\nmake_plot(np.log10(times))\";\n",
       "                var nbb_cells = Jupyter.notebook.get_cells();\n",
       "                for (var i = 0; i < nbb_cells.length; ++i) {\n",
       "                    if (nbb_cells[i].input_prompt_number == nbb_cell_id) {\n",
       "                        if (nbb_cells[i].get_text() == nbb_unformatted_code) {\n",
       "                             nbb_cells[i].set_text(nbb_formatted_code);\n",
       "                        }\n",
       "                        break;\n",
       "                    }\n",
       "                }\n",
       "            }, 500);\n",
       "            "
      ],
      "text/plain": [
       "<IPython.core.display.Javascript object>"
      ]
     },
     "metadata": {},
     "output_type": "display_data"
    }
   ],
   "source": [
    "# the distribution of times from the simulation could pass for lognormal\n",
    "\n",
    "make_plot(np.log10(times))"
   ]
  },
  {
   "cell_type": "code",
   "execution_count": 19,
   "metadata": {},
   "outputs": [
    {
     "data": {
      "application/javascript": [
       "\n",
       "            setTimeout(function() {\n",
       "                var nbb_cell_id = 19;\n",
       "                var nbb_unformatted_code = \"def error_func_latency(params, series):\\n    mu, sigma = params\\n    sim_latency = simulate_latency(start, thresh, mu, sigma)\\n\\n    log_sim = np.log10(sim_latency)\\n    log_series = np.log10(series)\\n\\n    cdf_sim = Cdf.from_seq(log_sim)\\n    cdf_series = Cdf.from_seq(log_series)\\n\\n    # cdf_sim.plot(color=\\\"gray\\\")\\n    # cdf_series.plot()\\n\\n    # match the forward CDF\\n    qs = np.log10([1.5, 3, 6, 12, 15, 18])\\n    error = cdf_sim(qs) - cdf_series(qs)\\n\\n    # match the inverse CDF\\n    ps = [0.05, 0.1, 0.3, 0.5, 0.7, 0.9, 0.95]\\n    # error = cdf_sim.inverse(ps) - cdf_series.inverse(ps)\\n\\n    # match the mean and std\\n    # error = log_sim.mean() - log_series.mean(), log_sim.std() - log_series.std()\\n\\n    return error\";\n",
       "                var nbb_formatted_code = \"def error_func_latency(params, series):\\n    mu, sigma = params\\n    sim_latency = simulate_latency(start, thresh, mu, sigma)\\n\\n    log_sim = np.log10(sim_latency)\\n    log_series = np.log10(series)\\n\\n    cdf_sim = Cdf.from_seq(log_sim)\\n    cdf_series = Cdf.from_seq(log_series)\\n\\n    # cdf_sim.plot(color=\\\"gray\\\")\\n    # cdf_series.plot()\\n\\n    # match the forward CDF\\n    qs = np.log10([1.5, 3, 6, 12, 15, 18])\\n    error = cdf_sim(qs) - cdf_series(qs)\\n\\n    # match the inverse CDF\\n    ps = [0.05, 0.1, 0.3, 0.5, 0.7, 0.9, 0.95]\\n    # error = cdf_sim.inverse(ps) - cdf_series.inverse(ps)\\n\\n    # match the mean and std\\n    # error = log_sim.mean() - log_series.mean(), log_sim.std() - log_series.std()\\n\\n    return error\";\n",
       "                var nbb_cells = Jupyter.notebook.get_cells();\n",
       "                for (var i = 0; i < nbb_cells.length; ++i) {\n",
       "                    if (nbb_cells[i].input_prompt_number == nbb_cell_id) {\n",
       "                        if (nbb_cells[i].get_text() == nbb_unformatted_code) {\n",
       "                             nbb_cells[i].set_text(nbb_formatted_code);\n",
       "                        }\n",
       "                        break;\n",
       "                    }\n",
       "                }\n",
       "            }, 500);\n",
       "            "
      ],
      "text/plain": [
       "<IPython.core.display.Javascript object>"
      ]
     },
     "metadata": {},
     "output_type": "display_data"
    }
   ],
   "source": [
    "def error_func_latency(params, series):\n",
    "    mu, sigma = params\n",
    "    sim_latency = simulate_latency(start, thresh, mu, sigma)\n",
    "\n",
    "    log_sim = np.log10(sim_latency)\n",
    "    log_series = np.log10(series)\n",
    "\n",
    "    cdf_sim = Cdf.from_seq(log_sim)\n",
    "    cdf_series = Cdf.from_seq(log_series)\n",
    "\n",
    "    # cdf_sim.plot(color=\"gray\")\n",
    "    # cdf_series.plot()\n",
    "\n",
    "    # match the forward CDF\n",
    "    qs = np.log10([1.5, 3, 6, 12, 15, 18])\n",
    "    error = cdf_sim(qs) - cdf_series(qs)\n",
    "\n",
    "    # match the inverse CDF\n",
    "    ps = [0.05, 0.1, 0.3, 0.5, 0.7, 0.9, 0.95]\n",
    "    # error = cdf_sim.inverse(ps) - cdf_series.inverse(ps)\n",
    "\n",
    "    # match the mean and std\n",
    "    # error = log_sim.mean() - log_series.mean(), log_sim.std() - log_series.std()\n",
    "\n",
    "    return error"
   ]
  },
  {
   "cell_type": "code",
   "execution_count": 20,
   "metadata": {},
   "outputs": [
    {
     "data": {
      "text/plain": [
       "array([-0.01904762,  0.01212121,  0.00865801, -0.07012987, -0.08398268,\n",
       "       -0.07792208])"
      ]
     },
     "execution_count": 20,
     "metadata": {},
     "output_type": "execute_result"
    },
    {
     "data": {
      "application/javascript": [
       "\n",
       "            setTimeout(function() {\n",
       "                var nbb_cell_id = 20;\n",
       "                var nbb_unformatted_code = \"params = 1.06, 0.2\\nerror_func_latency(params, latency_jitter)\";\n",
       "                var nbb_formatted_code = \"params = 1.06, 0.2\\nerror_func_latency(params, latency_jitter)\";\n",
       "                var nbb_cells = Jupyter.notebook.get_cells();\n",
       "                for (var i = 0; i < nbb_cells.length; ++i) {\n",
       "                    if (nbb_cells[i].input_prompt_number == nbb_cell_id) {\n",
       "                        if (nbb_cells[i].get_text() == nbb_unformatted_code) {\n",
       "                             nbb_cells[i].set_text(nbb_formatted_code);\n",
       "                        }\n",
       "                        break;\n",
       "                    }\n",
       "                }\n",
       "            }, 500);\n",
       "            "
      ],
      "text/plain": [
       "<IPython.core.display.Javascript object>"
      ]
     },
     "metadata": {},
     "output_type": "display_data"
    }
   ],
   "source": [
    "params = 1.06, 0.2\n",
    "error_func_latency(params, latency_jitter)"
   ]
  },
  {
   "cell_type": "code",
   "execution_count": 21,
   "metadata": {},
   "outputs": [
    {
     "data": {
      "text/plain": [
       "array([1.06500781, 0.20434182])"
      ]
     },
     "execution_count": 21,
     "metadata": {},
     "output_type": "execute_result"
    },
    {
     "data": {
      "application/javascript": [
       "\n",
       "            setTimeout(function() {\n",
       "                var nbb_cell_id = 21;\n",
       "                var nbb_unformatted_code = \"res = least_squares(\\n    error_func_latency, x0=params, diff_step=0.002, args=(latency_jitter,), xtol=1e-3\\n)\\nassert res.success\\nres.x\";\n",
       "                var nbb_formatted_code = \"res = least_squares(\\n    error_func_latency, x0=params, diff_step=0.002, args=(latency_jitter,), xtol=1e-3\\n)\\nassert res.success\\nres.x\";\n",
       "                var nbb_cells = Jupyter.notebook.get_cells();\n",
       "                for (var i = 0; i < nbb_cells.length; ++i) {\n",
       "                    if (nbb_cells[i].input_prompt_number == nbb_cell_id) {\n",
       "                        if (nbb_cells[i].get_text() == nbb_unformatted_code) {\n",
       "                             nbb_cells[i].set_text(nbb_formatted_code);\n",
       "                        }\n",
       "                        break;\n",
       "                    }\n",
       "                }\n",
       "            }, 500);\n",
       "            "
      ],
      "text/plain": [
       "<IPython.core.display.Javascript object>"
      ]
     },
     "metadata": {},
     "output_type": "display_data"
    }
   ],
   "source": [
    "res = least_squares(\n",
    "    error_func_latency, x0=params, diff_step=0.002, args=(latency_jitter,), xtol=1e-3\n",
    ")\n",
    "assert res.success\n",
    "res.x"
   ]
  },
  {
   "cell_type": "code",
   "execution_count": 22,
   "metadata": {},
   "outputs": [
    {
     "data": {
      "application/javascript": [
       "\n",
       "            setTimeout(function() {\n",
       "                var nbb_cell_id = 22;\n",
       "                var nbb_unformatted_code = \"def plot_simulations():\\n    rows = 1155\\n    cols = 1000\\n    np.random.seed(18)\\n\\n    for i in range(11):\\n        rvs = np.random.uniform(-2, 2, size=(rows, cols))\\n        start = np.random.uniform(1, 10, rows)\\n        thresh = np.random.normal(100, 10, rows)\\n        sim_latency = simulate_latency(start, thresh, *res.x)\\n        log_sim = np.log10(sim_latency)\\n        cdf_sim = Cdf.from_seq(log_sim) * 100\\n        label = \\\"Simulation\\\" if i == 0 else \\\"\\\"\\n        cdf_sim.plot(color=\\\"gray\\\", alpha=0.05, label=label)\";\n",
       "                var nbb_formatted_code = \"def plot_simulations():\\n    rows = 1155\\n    cols = 1000\\n    np.random.seed(18)\\n\\n    for i in range(11):\\n        rvs = np.random.uniform(-2, 2, size=(rows, cols))\\n        start = np.random.uniform(1, 10, rows)\\n        thresh = np.random.normal(100, 10, rows)\\n        sim_latency = simulate_latency(start, thresh, *res.x)\\n        log_sim = np.log10(sim_latency)\\n        cdf_sim = Cdf.from_seq(log_sim) * 100\\n        label = \\\"Simulation\\\" if i == 0 else \\\"\\\"\\n        cdf_sim.plot(color=\\\"gray\\\", alpha=0.05, label=label)\";\n",
       "                var nbb_cells = Jupyter.notebook.get_cells();\n",
       "                for (var i = 0; i < nbb_cells.length; ++i) {\n",
       "                    if (nbb_cells[i].input_prompt_number == nbb_cell_id) {\n",
       "                        if (nbb_cells[i].get_text() == nbb_unformatted_code) {\n",
       "                             nbb_cells[i].set_text(nbb_formatted_code);\n",
       "                        }\n",
       "                        break;\n",
       "                    }\n",
       "                }\n",
       "            }, 500);\n",
       "            "
      ],
      "text/plain": [
       "<IPython.core.display.Javascript object>"
      ]
     },
     "metadata": {},
     "output_type": "display_data"
    }
   ],
   "source": [
    "def plot_simulations():\n",
    "    rows = 1155\n",
    "    cols = 1000\n",
    "    np.random.seed(18)\n",
    "\n",
    "    for i in range(11):\n",
    "        rvs = np.random.uniform(-2, 2, size=(rows, cols))\n",
    "        start = np.random.uniform(1, 10, rows)\n",
    "        thresh = np.random.normal(100, 10, rows)\n",
    "        sim_latency = simulate_latency(start, thresh, *res.x)\n",
    "        log_sim = np.log10(sim_latency)\n",
    "        cdf_sim = Cdf.from_seq(log_sim) * 100\n",
    "        label = \"Simulation\" if i == 0 else \"\"\n",
    "        cdf_sim.plot(color=\"gray\", alpha=0.05, label=label)"
   ]
  },
  {
   "cell_type": "code",
   "execution_count": 23,
   "metadata": {},
   "outputs": [
    {
     "data": {
      "image/png": "[encoded data removed]",
      "text/plain": [
       "<Figure size 640x480 with 1 Axes>"
      ]
     },
     "metadata": {},
     "output_type": "display_data"
    },
    {
     "data": {
      "application/javascript": [
       "\n",
       "            setTimeout(function() {\n",
       "                var nbb_cell_id = 23;\n",
       "                var nbb_unformatted_code = \"plot_simulations()\\ncdf_latency = Cdf.from_seq(log_latency) * 100\\ncdf_latency.plot(ls=\\\"--\\\", label=\\\"Data\\\")\\n\\nlabels = [1, 2, 5, 10, 20]\\nticks = np.log10(labels)\\nplt.xticks(ticks, labels)\\ndecorate(xlabel=\\\"Incubation period (days)\\\", ylabel=\\\"Percentile Rank\\\")\";\n",
       "                var nbb_formatted_code = \"plot_simulations()\\ncdf_latency = Cdf.from_seq(log_latency) * 100\\ncdf_latency.plot(ls=\\\"--\\\", label=\\\"Data\\\")\\n\\nlabels = [1, 2, 5, 10, 20]\\nticks = np.log10(labels)\\nplt.xticks(ticks, labels)\\ndecorate(xlabel=\\\"Incubation period (days)\\\", ylabel=\\\"Percentile Rank\\\")\";\n",
       "                var nbb_cells = Jupyter.notebook.get_cells();\n",
       "                for (var i = 0; i < nbb_cells.length; ++i) {\n",
       "                    if (nbb_cells[i].input_prompt_number == nbb_cell_id) {\n",
       "                        if (nbb_cells[i].get_text() == nbb_unformatted_code) {\n",
       "                             nbb_cells[i].set_text(nbb_formatted_code);\n",
       "                        }\n",
       "                        break;\n",
       "                    }\n",
       "                }\n",
       "            }, 500);\n",
       "            "
      ],
      "text/plain": [
       "<IPython.core.display.Javascript object>"
      ]
     },
     "metadata": {},
     "output_type": "display_data"
    }
   ],
   "source": [
    "plot_simulations()\n",
    "cdf_latency = Cdf.from_seq(log_latency) * 100\n",
    "cdf_latency.plot(ls=\"--\", label=\"Data\")\n",
    "\n",
    "labels = [1, 2, 5, 10, 20]\n",
    "ticks = np.log10(labels)\n",
    "plt.xticks(ticks, labels)\n",
    "decorate(xlabel=\"Incubation period (days)\", ylabel=\"Percentile Rank\")"
   ]
  },
  {
   "cell_type": "markdown",
   "metadata": {},
   "source": [
    "The simulation results fit the data better than the lognormal model in some places and less well in other places.\n",
    "For practical purposes, there's probably no reason to prefer one model over the other.\n",
    "\n",
    "But this example shows that the simulation generates results resemble the data, so that's a start.\n",
    "Also, the model is robust in the sense that the results don't depend strongly on the assumptions we made. \n",
    "For example, we could change the distribution of start times, the distribution of thresholds, and the distribution of growth rates, and results would look about the same."
   ]
  },
  {
   "cell_type": "markdown",
   "metadata": {},
   "source": [
    "So this model might explain the distribution of incubation times:\n",
    "\n",
    "* If each infection begins with a small viral load, and the growth rate varies randomly, we expect the distribution of viral load at any point in time to be lognormal.\n",
    "\n",
    "* Furthermore, if symptoms begin when viral load exceeds some threshold, the distribution of incubation times will be approximately lognormal.\n",
    "\n",
    "Using this model, we can derive a formula for the distribution, which turns out to be mathematically related to the Gaussian curve.\n",
    "The following figure shows the results from the simulation again, along with the results from the formula."
   ]
  },
  {
   "cell_type": "code",
   "execution_count": 24,
   "metadata": {},
   "outputs": [
    {
     "data": {
      "application/javascript": [
       "\n",
       "            setTimeout(function() {\n",
       "                var nbb_cell_id = 24;\n",
       "                var nbb_unformatted_code = \"#\\n#The following figure shows the values from this theoretical model along with the data.\\n\\n#The theoretical model is consistent with the simulation, \\n# which shows that the mathematical analysis is correct, and it fits the data well.\";\n",
       "                var nbb_formatted_code = \"#\\n# The following figure shows the values from this theoretical model along with the data.\\n\\n# The theoretical model is consistent with the simulation,\\n# which shows that the mathematical analysis is correct, and it fits the data well.\";\n",
       "                var nbb_cells = Jupyter.notebook.get_cells();\n",
       "                for (var i = 0; i < nbb_cells.length; ++i) {\n",
       "                    if (nbb_cells[i].input_prompt_number == nbb_cell_id) {\n",
       "                        if (nbb_cells[i].get_text() == nbb_unformatted_code) {\n",
       "                             nbb_cells[i].set_text(nbb_formatted_code);\n",
       "                        }\n",
       "                        break;\n",
       "                    }\n",
       "                }\n",
       "            }, 500);\n",
       "            "
      ],
      "text/plain": [
       "<IPython.core.display.Javascript object>"
      ]
     },
     "metadata": {},
     "output_type": "display_data"
    }
   ],
   "source": [
    "#\n",
    "#The following figure shows the values from this theoretical model along with the data.\n",
    "\n",
    "#The theoretical model is consistent with the simulation, \n",
    "# which shows that the mathematical analysis is correct, and it fits the data well.\n"
   ]
  },
  {
   "cell_type": "code",
   "execution_count": 25,
   "metadata": {},
   "outputs": [
    {
     "data": {
      "application/javascript": [
       "\n",
       "            setTimeout(function() {\n",
       "                var nbb_cell_id = 25;\n",
       "                var nbb_unformatted_code = \"def make_conj_normal(m, s2, x):\\n    ts = np.linspace(5, 500, 100)\\n    ps = np.exp(-((x - ts * m) ** 2) / (2 * ts * s2)) / np.sqrt(ts * s2)\\n    pmf = Pmf(ps, ts / 10)\\n    pmf.normalize()\\n    cdf = pmf.make_cdf()\\n    return cdf\";\n",
       "                var nbb_formatted_code = \"def make_conj_normal(m, s2, x):\\n    ts = np.linspace(5, 500, 100)\\n    ps = np.exp(-((x - ts * m) ** 2) / (2 * ts * s2)) / np.sqrt(ts * s2)\\n    pmf = Pmf(ps, ts / 10)\\n    pmf.normalize()\\n    cdf = pmf.make_cdf()\\n    return cdf\";\n",
       "                var nbb_cells = Jupyter.notebook.get_cells();\n",
       "                for (var i = 0; i < nbb_cells.length; ++i) {\n",
       "                    if (nbb_cells[i].input_prompt_number == nbb_cell_id) {\n",
       "                        if (nbb_cells[i].get_text() == nbb_unformatted_code) {\n",
       "                             nbb_cells[i].set_text(nbb_formatted_code);\n",
       "                        }\n",
       "                        break;\n",
       "                    }\n",
       "                }\n",
       "            }, 500);\n",
       "            "
      ],
      "text/plain": [
       "<IPython.core.display.Javascript object>"
      ]
     },
     "metadata": {},
     "output_type": "display_data"
    }
   ],
   "source": [
    "def make_conj_normal(m, s2, x):\n",
    "    ts = np.linspace(5, 500, 100)\n",
    "    ps = np.exp(-((x - ts * m) ** 2) / (2 * ts * s2)) / np.sqrt(ts * s2)\n",
    "    pmf = Pmf(ps, ts / 10)\n",
    "    pmf.normalize()\n",
    "    cdf = pmf.make_cdf()\n",
    "    return cdf"
   ]
  },
  {
   "cell_type": "code",
   "execution_count": 26,
   "metadata": {},
   "outputs": [
    {
     "data": {
      "image/png": "[encoded data removed]",
      "text/plain": [
       "<Figure size 640x480 with 1 Axes>"
      ]
     },
     "metadata": {},
     "output_type": "display_data"
    },
    {
     "data": {
      "application/javascript": [
       "\n",
       "            setTimeout(function() {\n",
       "                var nbb_cell_id = 26;\n",
       "                var nbb_unformatted_code = \"params = [0.04, 0.04, 2.5]\\ncdf_cn = make_conj_normal(*params)\\n\\ncdf_log_cn = cdf_cn.transform(np.log10) * 100\\ncdf_log_cn.plot(color=\\\"gray\\\", alpha=0.3)\\ncdf_latency.plot(ls=\\\"--\\\", label=\\\"Data\\\")\\n\\nlabels = [1, 2, 5, 10, 20]\\nticks = np.log10(labels)\\nplt.xticks(ticks, labels)\\nNone\";\n",
       "                var nbb_formatted_code = \"params = [0.04, 0.04, 2.5]\\ncdf_cn = make_conj_normal(*params)\\n\\ncdf_log_cn = cdf_cn.transform(np.log10) * 100\\ncdf_log_cn.plot(color=\\\"gray\\\", alpha=0.3)\\ncdf_latency.plot(ls=\\\"--\\\", label=\\\"Data\\\")\\n\\nlabels = [1, 2, 5, 10, 20]\\nticks = np.log10(labels)\\nplt.xticks(ticks, labels)\\nNone\";\n",
       "                var nbb_cells = Jupyter.notebook.get_cells();\n",
       "                for (var i = 0; i < nbb_cells.length; ++i) {\n",
       "                    if (nbb_cells[i].input_prompt_number == nbb_cell_id) {\n",
       "                        if (nbb_cells[i].get_text() == nbb_unformatted_code) {\n",
       "                             nbb_cells[i].set_text(nbb_formatted_code);\n",
       "                        }\n",
       "                        break;\n",
       "                    }\n",
       "                }\n",
       "            }, 500);\n",
       "            "
      ],
      "text/plain": [
       "<IPython.core.display.Javascript object>"
      ]
     },
     "metadata": {},
     "output_type": "display_data"
    }
   ],
   "source": [
    "params = [0.04, 0.04, 2.5]\n",
    "cdf_cn = make_conj_normal(*params)\n",
    "\n",
    "cdf_log_cn = cdf_cn.transform(np.log10) * 100\n",
    "cdf_log_cn.plot(color=\"gray\", alpha=0.3)\n",
    "cdf_latency.plot(ls=\"--\", label=\"Data\")\n",
    "\n",
    "labels = [1, 2, 5, 10, 20]\n",
    "ticks = np.log10(labels)\n",
    "plt.xticks(ticks, labels)\n",
    "None"
   ]
  },
  {
   "cell_type": "code",
   "execution_count": 27,
   "metadata": {},
   "outputs": [
    {
     "data": {
      "application/javascript": [
       "\n",
       "            setTimeout(function() {\n",
       "                var nbb_cell_id = 27;\n",
       "                var nbb_unformatted_code = \"def error_func_conj_normal(params, series):\\n    print(params)\\n    cdf_cn = make_conj_normal(*params)\\n    cdf_log_cn = cdf_cn.transform(np.log10)\\n\\n    log_series = np.log10(series)\\n    cdf_series = Cdf.from_seq(log_series)\\n\\n    # match the forward CDF\\n    qs = np.log10([1.5, 3, 6, 9, 12, 15, 18])\\n    # error = cdf_log_cn(qs) - cdf_series(qs)\\n\\n    # match the inverse CDF\\n    # ps = [0.05, 0.1, 0.3, 0.5, 0.7, 0.9, 0.95]\\n    ps = np.linspace(0.05, 0.95)\\n    error = cdf_log_cn.inverse(ps) - cdf_series.inverse(ps)\\n\\n    # match the mean and std\\n    # error = cdf_log_cn.mean() - log_series.mean(), cdf_log_cn.std() - log_series.std()\\n\\n    return error\";\n",
       "                var nbb_formatted_code = \"def error_func_conj_normal(params, series):\\n    print(params)\\n    cdf_cn = make_conj_normal(*params)\\n    cdf_log_cn = cdf_cn.transform(np.log10)\\n\\n    log_series = np.log10(series)\\n    cdf_series = Cdf.from_seq(log_series)\\n\\n    # match the forward CDF\\n    qs = np.log10([1.5, 3, 6, 9, 12, 15, 18])\\n    # error = cdf_log_cn(qs) - cdf_series(qs)\\n\\n    # match the inverse CDF\\n    # ps = [0.05, 0.1, 0.3, 0.5, 0.7, 0.9, 0.95]\\n    ps = np.linspace(0.05, 0.95)\\n    error = cdf_log_cn.inverse(ps) - cdf_series.inverse(ps)\\n\\n    # match the mean and std\\n    # error = cdf_log_cn.mean() - log_series.mean(), cdf_log_cn.std() - log_series.std()\\n\\n    return error\";\n",
       "                var nbb_cells = Jupyter.notebook.get_cells();\n",
       "                for (var i = 0; i < nbb_cells.length; ++i) {\n",
       "                    if (nbb_cells[i].input_prompt_number == nbb_cell_id) {\n",
       "                        if (nbb_cells[i].get_text() == nbb_unformatted_code) {\n",
       "                             nbb_cells[i].set_text(nbb_formatted_code);\n",
       "                        }\n",
       "                        break;\n",
       "                    }\n",
       "                }\n",
       "            }, 500);\n",
       "            "
      ],
      "text/plain": [
       "<IPython.core.display.Javascript object>"
      ]
     },
     "metadata": {},
     "output_type": "display_data"
    }
   ],
   "source": [
    "def error_func_conj_normal(params, series):\n",
    "    print(params)\n",
    "    cdf_cn = make_conj_normal(*params)\n",
    "    cdf_log_cn = cdf_cn.transform(np.log10)\n",
    "\n",
    "    log_series = np.log10(series)\n",
    "    cdf_series = Cdf.from_seq(log_series)\n",
    "\n",
    "    # match the forward CDF\n",
    "    qs = np.log10([1.5, 3, 6, 9, 12, 15, 18])\n",
    "    # error = cdf_log_cn(qs) - cdf_series(qs)\n",
    "\n",
    "    # match the inverse CDF\n",
    "    # ps = [0.05, 0.1, 0.3, 0.5, 0.7, 0.9, 0.95]\n",
    "    ps = np.linspace(0.05, 0.95)\n",
    "    error = cdf_log_cn.inverse(ps) - cdf_series.inverse(ps)\n",
    "\n",
    "    # match the mean and std\n",
    "    # error = cdf_log_cn.mean() - log_series.mean(), cdf_log_cn.std() - log_series.std()\n",
    "\n",
    "    return error"
   ]
  },
  {
   "cell_type": "code",
   "execution_count": 28,
   "metadata": {},
   "outputs": [
    {
     "name": "stdout",
     "output_type": "stream",
     "text": [
      "[0.04, 0.04, 2.5]\n"
     ]
    },
    {
     "data": {
      "text/plain": [
       "array([ 0.16618714,  0.09552093,  0.09509527,  0.05482109,  0.0246948 ,\n",
       "        0.0480674 ,  0.02492526,  0.04296594,  0.02864981,  0.01938761,\n",
       "        0.05130712,  0.03276165,  0.02333986,  0.05246062,  0.03721056,\n",
       "        0.02518023,  0.0352362 ,  0.01646399,  0.00280676,  0.01807318,\n",
       "       -0.00122836,  0.01834984,  0.00712251, -0.00617542,  0.01018412,\n",
       "       -0.00296315,  0.01261373,  0.00695176, -0.00506023,  0.00487723,\n",
       "       -0.00783934,  0.00965257, -0.00121868,  0.00942187,  0.01998088,\n",
       "        0.0084642 ,  0.02214646,  0.00783942,  0.01705229,  0.02660427,\n",
       "        0.02725391,  0.03744546,  0.03724656,  0.03963661,  0.04245988,\n",
       "        0.04654151,  0.06007667,  0.06635815,  0.06779003,  0.07811403])"
      ]
     },
     "execution_count": 28,
     "metadata": {},
     "output_type": "execute_result"
    },
    {
     "data": {
      "application/javascript": [
       "\n",
       "            setTimeout(function() {\n",
       "                var nbb_cell_id = 28;\n",
       "                var nbb_unformatted_code = \"error_func_conj_normal(params, latency_jitter)\";\n",
       "                var nbb_formatted_code = \"error_func_conj_normal(params, latency_jitter)\";\n",
       "                var nbb_cells = Jupyter.notebook.get_cells();\n",
       "                for (var i = 0; i < nbb_cells.length; ++i) {\n",
       "                    if (nbb_cells[i].input_prompt_number == nbb_cell_id) {\n",
       "                        if (nbb_cells[i].get_text() == nbb_unformatted_code) {\n",
       "                             nbb_cells[i].set_text(nbb_formatted_code);\n",
       "                        }\n",
       "                        break;\n",
       "                    }\n",
       "                }\n",
       "            }, 500);\n",
       "            "
      ],
      "text/plain": [
       "<IPython.core.display.Javascript object>"
      ]
     },
     "metadata": {},
     "output_type": "display_data"
    }
   ],
   "source": [
    "error_func_conj_normal(params, latency_jitter)"
   ]
  },
  {
   "cell_type": "code",
   "execution_count": 29,
   "metadata": {},
   "outputs": [
    {
     "name": "stdout",
     "output_type": "stream",
     "text": [
      "[0.04 0.04 2.5 ]\n",
      "[0.04008 0.04    2.5    ]\n",
      "[0.04    0.04008 2.5    ]\n",
      "[0.04  0.04  2.505]\n",
      "[ 0.04        0.04       -0.00063992]\n",
      "[0.04       0.04       1.87484002]\n",
      "[0.04       0.04       2.34371001]\n",
      "[0.04008    0.04       2.34371001]\n",
      "[0.04       0.04008    2.34371001]\n",
      "[0.04       0.04       2.34839743]\n"
     ]
    },
    {
     "data": {
      "text/plain": [
       "array([0.04      , 0.04      , 2.34371001])"
      ]
     },
     "execution_count": 29,
     "metadata": {},
     "output_type": "execute_result"
    },
    {
     "data": {
      "application/javascript": [
       "\n",
       "            setTimeout(function() {\n",
       "                var nbb_cell_id = 29;\n",
       "                var nbb_unformatted_code = \"res2 = least_squares(\\n    error_func_conj_normal,\\n    x0=params,\\n    diff_step=0.002,\\n    args=(latency_jitter,),\\n    xtol=1e-3,\\n)\\nassert res2.success\\nres2.x\";\n",
       "                var nbb_formatted_code = \"res2 = least_squares(\\n    error_func_conj_normal,\\n    x0=params,\\n    diff_step=0.002,\\n    args=(latency_jitter,),\\n    xtol=1e-3,\\n)\\nassert res2.success\\nres2.x\";\n",
       "                var nbb_cells = Jupyter.notebook.get_cells();\n",
       "                for (var i = 0; i < nbb_cells.length; ++i) {\n",
       "                    if (nbb_cells[i].input_prompt_number == nbb_cell_id) {\n",
       "                        if (nbb_cells[i].get_text() == nbb_unformatted_code) {\n",
       "                             nbb_cells[i].set_text(nbb_formatted_code);\n",
       "                        }\n",
       "                        break;\n",
       "                    }\n",
       "                }\n",
       "            }, 500);\n",
       "            "
      ],
      "text/plain": [
       "<IPython.core.display.Javascript object>"
      ]
     },
     "metadata": {},
     "output_type": "display_data"
    }
   ],
   "source": [
    "res2 = least_squares(\n",
    "    error_func_conj_normal,\n",
    "    x0=params,\n",
    "    diff_step=0.002,\n",
    "    args=(latency_jitter,),\n",
    "    xtol=1e-3,\n",
    ")\n",
    "assert res2.success\n",
    "res2.x"
   ]
  },
  {
   "cell_type": "code",
   "execution_count": 30,
   "metadata": {},
   "outputs": [
    {
     "data": {
      "image/png": "[encoded data removed]",
      "text/plain": [
       "<Figure size 640x480 with 1 Axes>"
      ]
     },
     "metadata": {},
     "output_type": "display_data"
    },
    {
     "data": {
      "application/javascript": [
       "\n",
       "            setTimeout(function() {\n",
       "                var nbb_cell_id = 30;\n",
       "                var nbb_unformatted_code = \"rows = 1155\\ncols = 1000\\nnp.random.seed(18)\\n\\nrvs = np.random.uniform(-2, 2, size=(rows, cols))\\nstart = np.random.uniform(1, 10, rows)\\nthresh = np.random.normal(100, 10, rows)\\nsim_latency = simulate_latency(start, thresh, *res.x)\\nlog_sim = np.log10(sim_latency)\\ncdf_sim = Cdf.from_seq(log_sim) * 100\\ncdf_sim.plot(color=\\\"gray\\\", alpha=0.5, label=\\\"Simulation\\\")\\n\\ncdf_cn = make_conj_normal(*res2.x)\\ncdf_log_cn = Cdf(cdf_cn.transform(np.log10) * 100)\\noob = (cdf_log_cn.qs < 0) | (cdf_log_cn.qs > 1.5)\\ncdf_log_cn[oob] = np.nan\\ncdf_log_cn.plot(color=\\\"C4\\\", ls=\\\"--\\\", label=\\\"Mathematical formula\\\")\\n\\n# cdf_latency.plot(ls=\\\"--\\\", label=\\\"Data\\\")\\n# make_plot(np.log10(latency_jitter))\\n\\nlabels = [1, 2, 5, 10, 20]\\nticks = np.log10(labels)\\nplt.xticks(ticks, labels)\\ndecorate(xlabel=\\\"Incubation period (days)\\\", ylabel=\\\"Percentile Rank\\\")\";\n",
       "                var nbb_formatted_code = \"rows = 1155\\ncols = 1000\\nnp.random.seed(18)\\n\\nrvs = np.random.uniform(-2, 2, size=(rows, cols))\\nstart = np.random.uniform(1, 10, rows)\\nthresh = np.random.normal(100, 10, rows)\\nsim_latency = simulate_latency(start, thresh, *res.x)\\nlog_sim = np.log10(sim_latency)\\ncdf_sim = Cdf.from_seq(log_sim) * 100\\ncdf_sim.plot(color=\\\"gray\\\", alpha=0.5, label=\\\"Simulation\\\")\\n\\ncdf_cn = make_conj_normal(*res2.x)\\ncdf_log_cn = Cdf(cdf_cn.transform(np.log10) * 100)\\noob = (cdf_log_cn.qs < 0) | (cdf_log_cn.qs > 1.5)\\ncdf_log_cn[oob] = np.nan\\ncdf_log_cn.plot(color=\\\"C4\\\", ls=\\\"--\\\", label=\\\"Mathematical formula\\\")\\n\\n# cdf_latency.plot(ls=\\\"--\\\", label=\\\"Data\\\")\\n# make_plot(np.log10(latency_jitter))\\n\\nlabels = [1, 2, 5, 10, 20]\\nticks = np.log10(labels)\\nplt.xticks(ticks, labels)\\ndecorate(xlabel=\\\"Incubation period (days)\\\", ylabel=\\\"Percentile Rank\\\")\";\n",
       "                var nbb_cells = Jupyter.notebook.get_cells();\n",
       "                for (var i = 0; i < nbb_cells.length; ++i) {\n",
       "                    if (nbb_cells[i].input_prompt_number == nbb_cell_id) {\n",
       "                        if (nbb_cells[i].get_text() == nbb_unformatted_code) {\n",
       "                             nbb_cells[i].set_text(nbb_formatted_code);\n",
       "                        }\n",
       "                        break;\n",
       "                    }\n",
       "                }\n",
       "            }, 500);\n",
       "            "
      ],
      "text/plain": [
       "<IPython.core.display.Javascript object>"
      ]
     },
     "metadata": {},
     "output_type": "display_data"
    }
   ],
   "source": [
    "rows = 1155\n",
    "cols = 1000\n",
    "np.random.seed(18)\n",
    "\n",
    "rvs = np.random.uniform(-2, 2, size=(rows, cols))\n",
    "start = np.random.uniform(1, 10, rows)\n",
    "thresh = np.random.normal(100, 10, rows)\n",
    "sim_latency = simulate_latency(start, thresh, *res.x)\n",
    "log_sim = np.log10(sim_latency)\n",
    "cdf_sim = Cdf.from_seq(log_sim) * 100\n",
    "cdf_sim.plot(color=\"gray\", alpha=0.5, label=\"Simulation\")\n",
    "\n",
    "cdf_cn = make_conj_normal(*res2.x)\n",
    "cdf_log_cn = Cdf(cdf_cn.transform(np.log10) * 100)\n",
    "oob = (cdf_log_cn.qs < 0) | (cdf_log_cn.qs > 1.5)\n",
    "cdf_log_cn[oob] = np.nan\n",
    "cdf_log_cn.plot(color=\"C4\", ls=\"--\", label=\"Mathematical formula\")\n",
    "\n",
    "# cdf_latency.plot(ls=\"--\", label=\"Data\")\n",
    "# make_plot(np.log10(latency_jitter))\n",
    "\n",
    "labels = [1, 2, 5, 10, 20]\n",
    "ticks = np.log10(labels)\n",
    "plt.xticks(ticks, labels)\n",
    "decorate(xlabel=\"Incubation period (days)\", ylabel=\"Percentile Rank\")"
   ]
  },
  {
   "cell_type": "markdown",
   "metadata": {},
   "source": [
    "The formula is based on some approximations, so it doesn't predict the simulation results exactly, but it is close.\n",
    "These results suggest that the distribution of incubation times is not actually lognormal, but tends to be approximately lognormal in practice.\n",
    "\n",
    "We can use a similar model to explain the distribution of survival times for cancer patients."
   ]
  },
  {
   "cell_type": "markdown",
   "metadata": {},
   "source": [
    "## Why are survival times lognormal (sort of)?"
   ]
  },
  {
   "cell_type": "markdown",
   "metadata": {},
   "source": [
    "In 2001 Patrick Royston, a researcher at University College, London, observed that the distribution of survival time after a cancer diagnosis often follows a lognormal distribution.\n",
    "As examples, he used survival times for ovarian and breast cancers.\n",
    "I will replicate his analysis using data for glioblastoma, a kind of brain cancer."
   ]
  },
  {
   "cell_type": "markdown",
   "metadata": {},
   "source": [
    "So why should cancer survival times tend to follow a lognormal distribution?\n",
    "To answer that, let me propose a simple model for how cancers grow and cause disease.\n",
    "\n",
    "Most cancers start with a single cell that mutates in a way that causes it to reproduce excessively.\n",
    "A cancer might grow quickly during some intervals, more slowly during other intervals, and possibly shrink sometimes.\n",
    "If at some point it grows large enough to be detected or cause symptoms, that's when it gets diagnosed."
   ]
  },
  {
   "cell_type": "markdown",
   "metadata": {},
   "source": [
    "After that point, it might continue to grow or, possibly in response to treatment, start to shrink.\n",
    "Either way, it is likely that the growth rate varies over time.\n",
    "If the treatment is not successful, the cancer might grow until it reaches some threshold where it causes death.\n",
    "\n",
    "This model of cancer growth is identical to the model of infectious disease in the previous section.\n",
    "So, for the same reasons, we expect the distribution of tumor size to be lognormal when observed at some time after diagnosis, and the time to reach some size threshold to be approximately lognormal."
   ]
  },
  {
   "cell_type": "markdown",
   "metadata": {},
   "source": [
    "This model applies even if there is variation between patients in the size of the cancer at the point of diagnosis, in the distribution of growth rates, and in the threshold where the cancer causes death.\n",
    "\n",
    "However, it only applies if survival time after diagnosis is long enough for the Central Limit Theorem to apply, so that might explain why some of the shortest survival times deviate from the model.\n",
    "\n",
    "So, this model might explain why the distribution of survival times is often lognormal, at least appoximately.\n",
    "\n",
    "In his report, Royston presents practical reasons why the lognormal model is useful for describing and predicting survival times.\n",
    "But there's another reason we might care about the shape of this distribution: it has a surprising and counterintuitive property that every cancer patient should know about.\n",
    "\n",
    "To explain what it is, let me start with a distribution that behaves as we expect, the lifetimes of light bulbs.\n",
    "We'll come back to cancer patients, and then move on to babies."
   ]
  },
  {
   "cell_type": "markdown",
   "metadata": {},
   "source": [
    "That said, another thing that is apparent from the figure is that the CDF on a log scale resembles the sigmoid shape of a Gaussian distribution, which suggests that survival times follow a lognormal distribution.\n",
    "The following figure shows the survival curve again compared to the survival curve of a lognormal distribution."
   ]
  },
  {
   "cell_type": "code",
   "execution_count": 31,
   "metadata": {},
   "outputs": [
    {
     "data": {
      "application/javascript": [
       "\n",
       "            setTimeout(function() {\n",
       "                var nbb_cell_id = 31;\n",
       "                var nbb_unformatted_code = \"DATA_PATH = \\\"https://github.com/AllenDowney/ProbablyOverthinkingIt/raw/book/data/\\\"\\nfilename = \\\"brain.hdf\\\"\\ndownload(DATA_PATH + filename)\";\n",
       "                var nbb_formatted_code = \"DATA_PATH = \\\"https://github.com/AllenDowney/ProbablyOverthinkingIt/raw/book/data/\\\"\\nfilename = \\\"brain.hdf\\\"\\ndownload(DATA_PATH + filename)\";\n",
       "                var nbb_cells = Jupyter.notebook.get_cells();\n",
       "                for (var i = 0; i < nbb_cells.length; ++i) {\n",
       "                    if (nbb_cells[i].input_prompt_number == nbb_cell_id) {\n",
       "                        if (nbb_cells[i].get_text() == nbb_unformatted_code) {\n",
       "                             nbb_cells[i].set_text(nbb_formatted_code);\n",
       "                        }\n",
       "                        break;\n",
       "                    }\n",
       "                }\n",
       "            }, 500);\n",
       "            "
      ],
      "text/plain": [
       "<IPython.core.display.Javascript object>"
      ]
     },
     "metadata": {},
     "output_type": "display_data"
    }
   ],
   "source": [
    "DATA_PATH = \"https://github.com/AllenDowney/ProbablyOverthinkingIt/raw/book/data/\"\n",
    "filename = \"brain.hdf\"\n",
    "download(DATA_PATH + filename)"
   ]
  },
  {
   "cell_type": "code",
   "execution_count": 32,
   "metadata": {},
   "outputs": [
    {
     "data": {
      "text/plain": [
       "(16202, 2)"
      ]
     },
     "execution_count": 32,
     "metadata": {},
     "output_type": "execute_result"
    },
    {
     "data": {
      "application/javascript": [
       "\n",
       "            setTimeout(function() {\n",
       "                var nbb_cell_id = 32;\n",
       "                var nbb_unformatted_code = \"brain = pd.read_hdf(\\\"brain.hdf\\\", \\\"brain\\\")\\nbrain.shape\";\n",
       "                var nbb_formatted_code = \"brain = pd.read_hdf(\\\"brain.hdf\\\", \\\"brain\\\")\\nbrain.shape\";\n",
       "                var nbb_cells = Jupyter.notebook.get_cells();\n",
       "                for (var i = 0; i < nbb_cells.length; ++i) {\n",
       "                    if (nbb_cells[i].input_prompt_number == nbb_cell_id) {\n",
       "                        if (nbb_cells[i].get_text() == nbb_unformatted_code) {\n",
       "                             nbb_cells[i].set_text(nbb_formatted_code);\n",
       "                        }\n",
       "                        break;\n",
       "                    }\n",
       "                }\n",
       "            }, 500);\n",
       "            "
      ],
      "text/plain": [
       "<IPython.core.display.Javascript object>"
      ]
     },
     "metadata": {},
     "output_type": "display_data"
    }
   ],
   "source": [
    "brain = pd.read_hdf(\"brain.hdf\", \"brain\")\n",
    "brain.shape"
   ]
  },
  {
   "cell_type": "code",
   "execution_count": 33,
   "metadata": {},
   "outputs": [
    {
     "data": {
      "text/html": [
       "<div>\n",
       "<style scoped>\n",
       "    .dataframe tbody tr th:only-of-type {\n",
       "        vertical-align: middle;\n",
       "    }\n",
       "\n",
       "    .dataframe tbody tr th {\n",
       "        vertical-align: top;\n",
       "    }\n",
       "\n",
       "    .dataframe thead th {\n",
       "        text-align: right;\n",
       "    }\n",
       "</style>\n",
       "<table border=\"1\" class=\"dataframe\">\n",
       "  <thead>\n",
       "    <tr style=\"text-align: right;\">\n",
       "      <th></th>\n",
       "      <th>duration</th>\n",
       "      <th>observed</th>\n",
       "    </tr>\n",
       "  </thead>\n",
       "  <tbody>\n",
       "    <tr>\n",
       "      <th>0</th>\n",
       "      <td>4.50</td>\n",
       "      <td>True</td>\n",
       "    </tr>\n",
       "    <tr>\n",
       "      <th>1</th>\n",
       "      <td>15.75</td>\n",
       "      <td>True</td>\n",
       "    </tr>\n",
       "    <tr>\n",
       "      <th>2</th>\n",
       "      <td>10.75</td>\n",
       "      <td>True</td>\n",
       "    </tr>\n",
       "    <tr>\n",
       "      <th>3</th>\n",
       "      <td>6.25</td>\n",
       "      <td>True</td>\n",
       "    </tr>\n",
       "    <tr>\n",
       "      <th>4</th>\n",
       "      <td>29.50</td>\n",
       "      <td>True</td>\n",
       "    </tr>\n",
       "  </tbody>\n",
       "</table>\n",
       "</div>"
      ],
      "text/plain": [
       "   duration  observed\n",
       "0      4.50      True\n",
       "1     15.75      True\n",
       "2     10.75      True\n",
       "3      6.25      True\n",
       "4     29.50      True"
      ]
     },
     "execution_count": 33,
     "metadata": {},
     "output_type": "execute_result"
    },
    {
     "data": {
      "application/javascript": [
       "\n",
       "            setTimeout(function() {\n",
       "                var nbb_cell_id = 33;\n",
       "                var nbb_unformatted_code = \"brain.head()\";\n",
       "                var nbb_formatted_code = \"brain.head()\";\n",
       "                var nbb_cells = Jupyter.notebook.get_cells();\n",
       "                for (var i = 0; i < nbb_cells.length; ++i) {\n",
       "                    if (nbb_cells[i].input_prompt_number == nbb_cell_id) {\n",
       "                        if (nbb_cells[i].get_text() == nbb_unformatted_code) {\n",
       "                             nbb_cells[i].set_text(nbb_formatted_code);\n",
       "                        }\n",
       "                        break;\n",
       "                    }\n",
       "                }\n",
       "            }, 500);\n",
       "            "
      ],
      "text/plain": [
       "<IPython.core.display.Javascript object>"
      ]
     },
     "metadata": {},
     "output_type": "display_data"
    }
   ],
   "source": [
    "brain.head()"
   ]
  },
  {
   "cell_type": "code",
   "execution_count": 34,
   "metadata": {},
   "outputs": [
    {
     "data": {
      "text/plain": [
       "count    16202.000000\n",
       "mean        13.457783\n",
       "std         19.088951\n",
       "min          0.250000\n",
       "25%          3.250000\n",
       "50%          7.750000\n",
       "75%         16.500000\n",
       "max        201.750000\n",
       "Name: duration, dtype: float64"
      ]
     },
     "execution_count": 34,
     "metadata": {},
     "output_type": "execute_result"
    },
    {
     "data": {
      "application/javascript": [
       "\n",
       "            setTimeout(function() {\n",
       "                var nbb_cell_id = 34;\n",
       "                var nbb_unformatted_code = \"duration = brain[\\\"duration\\\"]\\nduration.describe()\";\n",
       "                var nbb_formatted_code = \"duration = brain[\\\"duration\\\"]\\nduration.describe()\";\n",
       "                var nbb_cells = Jupyter.notebook.get_cells();\n",
       "                for (var i = 0; i < nbb_cells.length; ++i) {\n",
       "                    if (nbb_cells[i].input_prompt_number == nbb_cell_id) {\n",
       "                        if (nbb_cells[i].get_text() == nbb_unformatted_code) {\n",
       "                             nbb_cells[i].set_text(nbb_formatted_code);\n",
       "                        }\n",
       "                        break;\n",
       "                    }\n",
       "                }\n",
       "            }, 500);\n",
       "            "
      ],
      "text/plain": [
       "<IPython.core.display.Javascript object>"
      ]
     },
     "metadata": {},
     "output_type": "display_data"
    }
   ],
   "source": [
    "duration = brain[\"duration\"]\n",
    "duration.describe()"
   ]
  },
  {
   "cell_type": "code",
   "execution_count": 35,
   "metadata": {},
   "outputs": [
    {
     "data": {
      "text/plain": [
       "14548"
      ]
     },
     "execution_count": 35,
     "metadata": {},
     "output_type": "execute_result"
    },
    {
     "data": {
      "application/javascript": [
       "\n",
       "            setTimeout(function() {\n",
       "                var nbb_cell_id = 35;\n",
       "                var nbb_unformatted_code = \"observed = brain[\\\"observed\\\"]\\nobserved.sum()\";\n",
       "                var nbb_formatted_code = \"observed = brain[\\\"observed\\\"]\\nobserved.sum()\";\n",
       "                var nbb_cells = Jupyter.notebook.get_cells();\n",
       "                for (var i = 0; i < nbb_cells.length; ++i) {\n",
       "                    if (nbb_cells[i].input_prompt_number == nbb_cell_id) {\n",
       "                        if (nbb_cells[i].get_text() == nbb_unformatted_code) {\n",
       "                             nbb_cells[i].set_text(nbb_formatted_code);\n",
       "                        }\n",
       "                        break;\n",
       "                    }\n",
       "                }\n",
       "            }, 500);\n",
       "            "
      ],
      "text/plain": [
       "<IPython.core.display.Javascript object>"
      ]
     },
     "metadata": {},
     "output_type": "display_data"
    }
   ],
   "source": [
    "observed = brain[\"observed\"]\n",
    "observed.sum()"
   ]
  },
  {
   "cell_type": "markdown",
   "metadata": {},
   "source": []
  },
  {
   "cell_type": "code",
   "execution_count": 36,
   "metadata": {},
   "outputs": [
    {
     "data": {
      "application/javascript": [
       "\n",
       "            setTimeout(function() {\n",
       "                var nbb_cell_id = 36;\n",
       "                var nbb_unformatted_code = \"import lifelines\\nfrom empiricaldist import Surv\\n\\n\\ndef km_fit(duration, observed):\\n    \\\"\\\"\\\"Compute a survival function by Kaplan-Meier estimation.\\n\\n    duration: sequence of durations for complete and incomplete cases\\n    observed: sequence booleans indicating whether each case is complete\\n\\n    returns: tuple of Surv (estimate, low, high)\\n    \\\"\\\"\\\"\\n    fit = lifelines.KaplanMeierFitter().fit(duration, observed)\\n    surv_km = Surv(fit.survival_function_[\\\"KM_estimate\\\"])\\n\\n    ci_fit = fit.confidence_interval_\\n    surv_low = Surv(ci_fit[\\\"KM_estimate_lower_0.95\\\"])\\n    surv_high = Surv(ci_fit[\\\"KM_estimate_upper_0.95\\\"])\\n\\n    return surv_km, surv_low, surv_high\";\n",
       "                var nbb_formatted_code = \"import lifelines\\nfrom empiricaldist import Surv\\n\\n\\ndef km_fit(duration, observed):\\n    \\\"\\\"\\\"Compute a survival function by Kaplan-Meier estimation.\\n\\n    duration: sequence of durations for complete and incomplete cases\\n    observed: sequence booleans indicating whether each case is complete\\n\\n    returns: tuple of Surv (estimate, low, high)\\n    \\\"\\\"\\\"\\n    fit = lifelines.KaplanMeierFitter().fit(duration, observed)\\n    surv_km = Surv(fit.survival_function_[\\\"KM_estimate\\\"])\\n\\n    ci_fit = fit.confidence_interval_\\n    surv_low = Surv(ci_fit[\\\"KM_estimate_lower_0.95\\\"])\\n    surv_high = Surv(ci_fit[\\\"KM_estimate_upper_0.95\\\"])\\n\\n    return surv_km, surv_low, surv_high\";\n",
       "                var nbb_cells = Jupyter.notebook.get_cells();\n",
       "                for (var i = 0; i < nbb_cells.length; ++i) {\n",
       "                    if (nbb_cells[i].input_prompt_number == nbb_cell_id) {\n",
       "                        if (nbb_cells[i].get_text() == nbb_unformatted_code) {\n",
       "                             nbb_cells[i].set_text(nbb_formatted_code);\n",
       "                        }\n",
       "                        break;\n",
       "                    }\n",
       "                }\n",
       "            }, 500);\n",
       "            "
      ],
      "text/plain": [
       "<IPython.core.display.Javascript object>"
      ]
     },
     "metadata": {},
     "output_type": "display_data"
    }
   ],
   "source": [
    "import lifelines\n",
    "from empiricaldist import Surv\n",
    "\n",
    "\n",
    "def km_fit(duration, observed):\n",
    "    \"\"\"Compute a survival function by Kaplan-Meier estimation.\n",
    "\n",
    "    duration: sequence of durations for complete and incomplete cases\n",
    "    observed: sequence booleans indicating whether each case is complete\n",
    "\n",
    "    returns: tuple of Surv (estimate, low, high)\n",
    "    \"\"\"\n",
    "    fit = lifelines.KaplanMeierFitter().fit(duration, observed)\n",
    "    surv_km = Surv(fit.survival_function_[\"KM_estimate\"])\n",
    "\n",
    "    ci_fit = fit.confidence_interval_\n",
    "    surv_low = Surv(ci_fit[\"KM_estimate_lower_0.95\"])\n",
    "    surv_high = Surv(ci_fit[\"KM_estimate_upper_0.95\"])\n",
    "\n",
    "    return surv_km, surv_low, surv_high"
   ]
  },
  {
   "cell_type": "code",
   "execution_count": 37,
   "metadata": {},
   "outputs": [
    {
     "data": {
      "application/javascript": [
       "\n",
       "            setTimeout(function() {\n",
       "                var nbb_cell_id = 37;\n",
       "                var nbb_unformatted_code = \"surv_km, surv_low, surv_high = km_fit(duration, observed)\\nsurv_km.drop(0, inplace=True)\\nsurv_low.drop(0, inplace=True)\\nsurv_high.drop(0, inplace=True)\";\n",
       "                var nbb_formatted_code = \"surv_km, surv_low, surv_high = km_fit(duration, observed)\\nsurv_km.drop(0, inplace=True)\\nsurv_low.drop(0, inplace=True)\\nsurv_high.drop(0, inplace=True)\";\n",
       "                var nbb_cells = Jupyter.notebook.get_cells();\n",
       "                for (var i = 0; i < nbb_cells.length; ++i) {\n",
       "                    if (nbb_cells[i].input_prompt_number == nbb_cell_id) {\n",
       "                        if (nbb_cells[i].get_text() == nbb_unformatted_code) {\n",
       "                             nbb_cells[i].set_text(nbb_formatted_code);\n",
       "                        }\n",
       "                        break;\n",
       "                    }\n",
       "                }\n",
       "            }, 500);\n",
       "            "
      ],
      "text/plain": [
       "<IPython.core.display.Javascript object>"
      ]
     },
     "metadata": {},
     "output_type": "display_data"
    }
   ],
   "source": [
    "surv_km, surv_low, surv_high = km_fit(duration, observed)\n",
    "surv_km.drop(0, inplace=True)\n",
    "surv_low.drop(0, inplace=True)\n",
    "surv_high.drop(0, inplace=True)"
   ]
  },
  {
   "cell_type": "code",
   "execution_count": 38,
   "metadata": {},
   "outputs": [
    {
     "data": {
      "text/plain": [
       "(array(8.5), array(0.16368232))"
      ]
     },
     "execution_count": 38,
     "metadata": {},
     "output_type": "execute_result"
    },
    {
     "data": {
      "application/javascript": [
       "\n",
       "            setTimeout(function() {\n",
       "                var nbb_cell_id = 38;\n",
       "                var nbb_unformatted_code = \"surv_km.inverse(0.5), surv_km(24)\";\n",
       "                var nbb_formatted_code = \"surv_km.inverse(0.5), surv_km(24)\";\n",
       "                var nbb_cells = Jupyter.notebook.get_cells();\n",
       "                for (var i = 0; i < nbb_cells.length; ++i) {\n",
       "                    if (nbb_cells[i].input_prompt_number == nbb_cell_id) {\n",
       "                        if (nbb_cells[i].get_text() == nbb_unformatted_code) {\n",
       "                             nbb_cells[i].set_text(nbb_formatted_code);\n",
       "                        }\n",
       "                        break;\n",
       "                    }\n",
       "                }\n",
       "            }, 500);\n",
       "            "
      ],
      "text/plain": [
       "<IPython.core.display.Javascript object>"
      ]
     },
     "metadata": {},
     "output_type": "display_data"
    }
   ],
   "source": [
    "surv_km.inverse(0.5), surv_km(24)"
   ]
  },
  {
   "cell_type": "code",
   "execution_count": 39,
   "metadata": {},
   "outputs": [
    {
     "data": {
      "image/png": "[encoded data removed]",
      "text/plain": [
       "<Figure size 640x480 with 1 Axes>"
      ]
     },
     "metadata": {},
     "output_type": "display_data"
    },
    {
     "data": {
      "application/javascript": [
       "\n",
       "            setTimeout(function() {\n",
       "                var nbb_cell_id = 39;\n",
       "                var nbb_unformatted_code = \"qs = np.log10(surv_km.qs)\\nps = surv_km.ps\\n\\npmf = Surv(ps, qs).make_pmf()\\npmf.normalize()\\npmf.plot()\\ndecorate()\";\n",
       "                var nbb_formatted_code = \"qs = np.log10(surv_km.qs)\\nps = surv_km.ps\\n\\npmf = Surv(ps, qs).make_pmf()\\npmf.normalize()\\npmf.plot()\\ndecorate()\";\n",
       "                var nbb_cells = Jupyter.notebook.get_cells();\n",
       "                for (var i = 0; i < nbb_cells.length; ++i) {\n",
       "                    if (nbb_cells[i].input_prompt_number == nbb_cell_id) {\n",
       "                        if (nbb_cells[i].get_text() == nbb_unformatted_code) {\n",
       "                             nbb_cells[i].set_text(nbb_formatted_code);\n",
       "                        }\n",
       "                        break;\n",
       "                    }\n",
       "                }\n",
       "            }, 500);\n",
       "            "
      ],
      "text/plain": [
       "<IPython.core.display.Javascript object>"
      ]
     },
     "metadata": {},
     "output_type": "display_data"
    }
   ],
   "source": [
    "qs = np.log10(surv_km.qs)\n",
    "ps = surv_km.ps\n",
    "\n",
    "pmf = Surv(ps, qs).make_pmf()\n",
    "pmf.normalize()\n",
    "pmf.plot()\n",
    "decorate()"
   ]
  },
  {
   "cell_type": "code",
   "execution_count": 40,
   "metadata": {},
   "outputs": [
    {
     "data": {
      "text/plain": [
       "(0.8498778478744154, 0.5508581497702804)"
      ]
     },
     "execution_count": 40,
     "metadata": {},
     "output_type": "execute_result"
    },
    {
     "data": {
      "application/javascript": [
       "\n",
       "            setTimeout(function() {\n",
       "                var nbb_cell_id = 40;\n",
       "                var nbb_unformatted_code = \"mu, sigma = pmf.mean(), pmf.std()\\nmu, sigma\";\n",
       "                var nbb_formatted_code = \"mu, sigma = pmf.mean(), pmf.std()\\nmu, sigma\";\n",
       "                var nbb_cells = Jupyter.notebook.get_cells();\n",
       "                for (var i = 0; i < nbb_cells.length; ++i) {\n",
       "                    if (nbb_cells[i].input_prompt_number == nbb_cell_id) {\n",
       "                        if (nbb_cells[i].get_text() == nbb_unformatted_code) {\n",
       "                             nbb_cells[i].set_text(nbb_formatted_code);\n",
       "                        }\n",
       "                        break;\n",
       "                    }\n",
       "                }\n",
       "            }, 500);\n",
       "            "
      ],
      "text/plain": [
       "<IPython.core.display.Javascript object>"
      ]
     },
     "metadata": {},
     "output_type": "display_data"
    }
   ],
   "source": [
    "mu, sigma = pmf.mean(), pmf.std()\n",
    "mu, sigma"
   ]
  },
  {
   "cell_type": "code",
   "execution_count": 41,
   "metadata": {},
   "outputs": [
    {
     "data": {
      "application/javascript": [
       "\n",
       "            setTimeout(function() {\n",
       "                var nbb_cell_id = 41;\n",
       "                var nbb_unformatted_code = \"def plot_fit(surv_km, surv_low, surv_high, **options):\\n    \\\"\\\"\\\"Plot an estimated survival curve with error bounds.\\n\\n    surv_km: estimated Surv\\n    surv_low, surv_high: lower and upper bounds\\n    options: passed to Series.plot\\n    \\\"\\\"\\\"\\n    xs = surv_low.index\\n    plt.fill_between(xs, surv_low, surv_high, color=\\\"gray\\\", alpha=0.3)\\n    surv_km.plot(**options)\";\n",
       "                var nbb_formatted_code = \"def plot_fit(surv_km, surv_low, surv_high, **options):\\n    \\\"\\\"\\\"Plot an estimated survival curve with error bounds.\\n\\n    surv_km: estimated Surv\\n    surv_low, surv_high: lower and upper bounds\\n    options: passed to Series.plot\\n    \\\"\\\"\\\"\\n    xs = surv_low.index\\n    plt.fill_between(xs, surv_low, surv_high, color=\\\"gray\\\", alpha=0.3)\\n    surv_km.plot(**options)\";\n",
       "                var nbb_cells = Jupyter.notebook.get_cells();\n",
       "                for (var i = 0; i < nbb_cells.length; ++i) {\n",
       "                    if (nbb_cells[i].input_prompt_number == nbb_cell_id) {\n",
       "                        if (nbb_cells[i].get_text() == nbb_unformatted_code) {\n",
       "                             nbb_cells[i].set_text(nbb_formatted_code);\n",
       "                        }\n",
       "                        break;\n",
       "                    }\n",
       "                }\n",
       "            }, 500);\n",
       "            "
      ],
      "text/plain": [
       "<IPython.core.display.Javascript object>"
      ]
     },
     "metadata": {},
     "output_type": "display_data"
    }
   ],
   "source": [
    "def plot_fit(surv_km, surv_low, surv_high, **options):\n",
    "    \"\"\"Plot an estimated survival curve with error bounds.\n",
    "\n",
    "    surv_km: estimated Surv\n",
    "    surv_low, surv_high: lower and upper bounds\n",
    "    options: passed to Series.plot\n",
    "    \"\"\"\n",
    "    xs = surv_low.index\n",
    "    plt.fill_between(xs, surv_low, surv_high, color=\"gray\", alpha=0.3)\n",
    "    surv_km.plot(**options)"
   ]
  },
  {
   "cell_type": "code",
   "execution_count": 42,
   "metadata": {},
   "outputs": [
    {
     "data": {
      "image/png": "[encoded data removed]",
      "text/plain": [
       "<Figure size 640x480 with 1 Axes>"
      ]
     },
     "metadata": {},
     "output_type": "display_data"
    },
    {
     "data": {
      "application/javascript": [
       "\n",
       "            setTimeout(function() {\n",
       "                var nbb_cell_id = 42;\n",
       "                var nbb_unformatted_code = \"plot_fit(surv_km, surv_low, surv_high)\\n\\nxs = surv_km.index\\nps = norm.sf(np.log(xs), mu, sigma)\\nplt.plot(xs, ps)\\n\\ndecorate(xscale=\\\"log\\\")\";\n",
       "                var nbb_formatted_code = \"plot_fit(surv_km, surv_low, surv_high)\\n\\nxs = surv_km.index\\nps = norm.sf(np.log(xs), mu, sigma)\\nplt.plot(xs, ps)\\n\\ndecorate(xscale=\\\"log\\\")\";\n",
       "                var nbb_cells = Jupyter.notebook.get_cells();\n",
       "                for (var i = 0; i < nbb_cells.length; ++i) {\n",
       "                    if (nbb_cells[i].input_prompt_number == nbb_cell_id) {\n",
       "                        if (nbb_cells[i].get_text() == nbb_unformatted_code) {\n",
       "                             nbb_cells[i].set_text(nbb_formatted_code);\n",
       "                        }\n",
       "                        break;\n",
       "                    }\n",
       "                }\n",
       "            }, 500);\n",
       "            "
      ],
      "text/plain": [
       "<IPython.core.display.Javascript object>"
      ]
     },
     "metadata": {},
     "output_type": "display_data"
    }
   ],
   "source": [
    "plot_fit(surv_km, surv_low, surv_high)\n",
    "\n",
    "xs = surv_km.index\n",
    "ps = norm.sf(np.log(xs), mu, sigma)\n",
    "plt.plot(xs, ps)\n",
    "\n",
    "decorate(xscale=\"log\")"
   ]
  },
  {
   "cell_type": "code",
   "execution_count": 43,
   "metadata": {},
   "outputs": [
    {
     "data": {
      "application/javascript": [
       "\n",
       "            setTimeout(function() {\n",
       "                var nbb_cell_id = 43;\n",
       "                var nbb_unformatted_code = \"from scipy.optimize import least_squares\\n\\n\\ndef fit_lognormal(surv, xs=None):\\n    \\\"\\\"\\\"Fit a lognormal distribution to a survival function.\\n\\n    surv: Surv object\\n    xs: places to evaluate the survival function\\n\\n    returns: Surv\\n    \\\"\\\"\\\"\\n\\n    def error_func(params):\\n        mu, sigma = params\\n        # just fit over the range from 0 to 120 months\\n        xs = np.logspace(0, np.log10(120))\\n\\n        ps = norm.sf(np.log(xs), mu, sigma)\\n        error = ps - surv_km(xs)\\n        return error\\n\\n    pmf = surv.make_pmf()\\n    pmf.normalize()\\n    params = pmf.mean(), pmf.std()\\n    res = least_squares(error_func, x0=params, xtol=1e-3)\\n    assert res.success\\n    mu, sigma = res.x\\n\\n    xs = surv.index if xs is None else xs\\n    ps = norm.sf(np.log(xs), mu, sigma)\\n    return Surv(ps, xs)\";\n",
       "                var nbb_formatted_code = \"from scipy.optimize import least_squares\\n\\n\\ndef fit_lognormal(surv, xs=None):\\n    \\\"\\\"\\\"Fit a lognormal distribution to a survival function.\\n\\n    surv: Surv object\\n    xs: places to evaluate the survival function\\n\\n    returns: Surv\\n    \\\"\\\"\\\"\\n\\n    def error_func(params):\\n        mu, sigma = params\\n        # just fit over the range from 0 to 120 months\\n        xs = np.logspace(0, np.log10(120))\\n\\n        ps = norm.sf(np.log(xs), mu, sigma)\\n        error = ps - surv_km(xs)\\n        return error\\n\\n    pmf = surv.make_pmf()\\n    pmf.normalize()\\n    params = pmf.mean(), pmf.std()\\n    res = least_squares(error_func, x0=params, xtol=1e-3)\\n    assert res.success\\n    mu, sigma = res.x\\n\\n    xs = surv.index if xs is None else xs\\n    ps = norm.sf(np.log(xs), mu, sigma)\\n    return Surv(ps, xs)\";\n",
       "                var nbb_cells = Jupyter.notebook.get_cells();\n",
       "                for (var i = 0; i < nbb_cells.length; ++i) {\n",
       "                    if (nbb_cells[i].input_prompt_number == nbb_cell_id) {\n",
       "                        if (nbb_cells[i].get_text() == nbb_unformatted_code) {\n",
       "                             nbb_cells[i].set_text(nbb_formatted_code);\n",
       "                        }\n",
       "                        break;\n",
       "                    }\n",
       "                }\n",
       "            }, 500);\n",
       "            "
      ],
      "text/plain": [
       "<IPython.core.display.Javascript object>"
      ]
     },
     "metadata": {},
     "output_type": "display_data"
    }
   ],
   "source": [
    "from scipy.optimize import least_squares\n",
    "\n",
    "\n",
    "def fit_lognormal(surv, xs=None):\n",
    "    \"\"\"Fit a lognormal distribution to a survival function.\n",
    "\n",
    "    surv: Surv object\n",
    "    xs: places to evaluate the survival function\n",
    "\n",
    "    returns: Surv\n",
    "    \"\"\"\n",
    "\n",
    "    def error_func(params):\n",
    "        mu, sigma = params\n",
    "        # just fit over the range from 0 to 120 months\n",
    "        xs = np.logspace(0, np.log10(120))\n",
    "\n",
    "        ps = norm.sf(np.log(xs), mu, sigma)\n",
    "        error = ps - surv_km(xs)\n",
    "        return error\n",
    "\n",
    "    pmf = surv.make_pmf()\n",
    "    pmf.normalize()\n",
    "    params = pmf.mean(), pmf.std()\n",
    "    res = least_squares(error_func, x0=params, xtol=1e-3)\n",
    "    assert res.success\n",
    "    mu, sigma = res.x\n",
    "\n",
    "    xs = surv.index if xs is None else xs\n",
    "    ps = norm.sf(np.log(xs), mu, sigma)\n",
    "    return Surv(ps, xs)"
   ]
  },
  {
   "cell_type": "code",
   "execution_count": 44,
   "metadata": {},
   "outputs": [
    {
     "data": {
      "application/javascript": [
       "\n",
       "            setTimeout(function() {\n",
       "                var nbb_cell_id = 44;\n",
       "                var nbb_unformatted_code = \"surv_lognormal = fit_lognormal(surv_km)\\npmf_lognormal = surv_lognormal.make_pmf()\";\n",
       "                var nbb_formatted_code = \"surv_lognormal = fit_lognormal(surv_km)\\npmf_lognormal = surv_lognormal.make_pmf()\";\n",
       "                var nbb_cells = Jupyter.notebook.get_cells();\n",
       "                for (var i = 0; i < nbb_cells.length; ++i) {\n",
       "                    if (nbb_cells[i].input_prompt_number == nbb_cell_id) {\n",
       "                        if (nbb_cells[i].get_text() == nbb_unformatted_code) {\n",
       "                             nbb_cells[i].set_text(nbb_formatted_code);\n",
       "                        }\n",
       "                        break;\n",
       "                    }\n",
       "                }\n",
       "            }, 500);\n",
       "            "
      ],
      "text/plain": [
       "<IPython.core.display.Javascript object>"
      ]
     },
     "metadata": {},
     "output_type": "display_data"
    }
   ],
   "source": [
    "surv_lognormal = fit_lognormal(surv_km)\n",
    "pmf_lognormal = surv_lognormal.make_pmf()"
   ]
  },
  {
   "cell_type": "code",
   "execution_count": 45,
   "metadata": {},
   "outputs": [
    {
     "data": {
      "image/png": "[encoded data removed]",
      "text/plain": [
       "<Figure size 640x480 with 1 Axes>"
      ]
     },
     "metadata": {},
     "output_type": "display_data"
    },
    {
     "data": {
      "application/javascript": [
       "\n",
       "            setTimeout(function() {\n",
       "                var nbb_cell_id = 45;\n",
       "                var nbb_unformatted_code = \"surv_km.plot(ls=\\\"--\\\", label=\\\"Data\\\")\\n\\nsurv_lognormal.plot(color=\\\"gray\\\", alpha=0.4, label=\\\"Lognormal Model\\\")\\n\\ndecorate(\\n    xlabel=\\\"Survival time (months)\\\", ylabel=\\\"Probability of survival\\\", xscale=\\\"log\\\"\\n)\\nlabels = [1, 2, 5, 10, 20, 50, 100]\\nticks = labels\\nplt.xticks(ticks, labels)\\nNone\";\n",
       "                var nbb_formatted_code = \"surv_km.plot(ls=\\\"--\\\", label=\\\"Data\\\")\\n\\nsurv_lognormal.plot(color=\\\"gray\\\", alpha=0.4, label=\\\"Lognormal Model\\\")\\n\\ndecorate(\\n    xlabel=\\\"Survival time (months)\\\", ylabel=\\\"Probability of survival\\\", xscale=\\\"log\\\"\\n)\\nlabels = [1, 2, 5, 10, 20, 50, 100]\\nticks = labels\\nplt.xticks(ticks, labels)\\nNone\";\n",
       "                var nbb_cells = Jupyter.notebook.get_cells();\n",
       "                for (var i = 0; i < nbb_cells.length; ++i) {\n",
       "                    if (nbb_cells[i].input_prompt_number == nbb_cell_id) {\n",
       "                        if (nbb_cells[i].get_text() == nbb_unformatted_code) {\n",
       "                             nbb_cells[i].set_text(nbb_formatted_code);\n",
       "                        }\n",
       "                        break;\n",
       "                    }\n",
       "                }\n",
       "            }, 500);\n",
       "            "
      ],
      "text/plain": [
       "<IPython.core.display.Javascript object>"
      ]
     },
     "metadata": {},
     "output_type": "display_data"
    }
   ],
   "source": [
    "surv_km.plot(ls=\"--\", label=\"Data\")\n",
    "\n",
    "surv_lognormal.plot(color=\"gray\", alpha=0.4, label=\"Lognormal Model\")\n",
    "\n",
    "decorate(\n",
    "    xlabel=\"Survival time (months)\", ylabel=\"Probability of survival\", xscale=\"log\"\n",
    ")\n",
    "labels = [1, 2, 5, 10, 20, 50, 100]\n",
    "ticks = labels\n",
    "plt.xticks(ticks, labels)\n",
    "None"
   ]
  },
  {
   "cell_type": "markdown",
   "metadata": {},
   "source": [
    "The model fits the data well, although there is a discrepancy prior to 2 months of survival."
   ]
  },
  {
   "cell_type": "markdown",
   "metadata": {},
   "source": [
    "## Sources and Related Reading\n",
    "\n",
    "* McAloon et al, [\"Incubation period of COVID-19: a rapid systematic review and meta-analysis of observational research\"](https://bmjopen.bmj.com/content/10/8/e039652).\n",
    "\n",
    "* Royston, [\"The Lognormal Distribution as a Model for Survival Time in Cancer, With an Emphasis on Prognostic Factors\"](https://onlinelibrary.wiley.com/doi/10.1111/1467-9574.00158)\n",
    "\n",
    "* The most boring experiment in the history of science is the pitch drop experiment. https://en.wikipedia.org/wiki/Pitch_drop_experiment\n",
    "\n"
   ]
  },
  {
   "cell_type": "code",
   "execution_count": null,
   "metadata": {},
   "outputs": [],
   "source": []
  }
 ],
 "metadata": {
  "kernelspec": {
   "display_name": "Python 3 (ipykernel)",
   "language": "python",
   "name": "python3"
  },
  "language_info": {
   "codemirror_mode": {
    "name": "ipython",
    "version": 3
   },
   "file_extension": ".py",
   "mimetype": "text/x-python",
   "name": "python",
   "nbconvert_exporter": "python",
   "pygments_lexer": "ipython3",
   "version": "3.10.12"
  }
 },
 "nbformat": 4,
 "nbformat_minor": 4
}
