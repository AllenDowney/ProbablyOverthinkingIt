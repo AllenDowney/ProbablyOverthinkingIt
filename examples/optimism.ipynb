{
 "cells": [
  {
   "cell_type": "markdown",
   "id": "4a54069c",
   "metadata": {
    "tags": []
   },
   "source": [
    "# Old Optimists, Young Pessimists"
   ]
  },
  {
   "cell_type": "markdown",
   "id": "c46810ae",
   "metadata": {
    "tags": [
     "remove-cell"
    ]
   },
   "source": [
    "This example is based no Chapter 10 of *[Probably Overthinking It: How to Use Data to Answer Questions, Avoid Statistical Traps, and Make Better Decisions](https://greenteapress.com/wp/probably-overthinking-it)*, University of Chicago Press, 2023."
   ]
  },
  {
   "cell_type": "code",
   "execution_count": 319,
   "id": "287111bc",
   "metadata": {},
   "outputs": [
    {
     "name": "stdout",
     "output_type": "stream",
     "text": [
      "The nb_black extension is already loaded. To reload it, use:\n",
      "  %reload_ext nb_black\n",
      "The autoreload extension is already loaded. To reload it, use:\n",
      "  %reload_ext autoreload\n"
     ]
    },
    {
     "data": {
      "application/javascript": [
       "\n",
       "            setTimeout(function() {\n",
       "                var nbb_cell_id = 319;\n",
       "                var nbb_unformatted_code = \"%load_ext nb_black\\n%load_ext autoreload\\n%autoreload 2\";\n",
       "                var nbb_formatted_code = \"%load_ext nb_black\\n%load_ext autoreload\\n%autoreload 2\";\n",
       "                var nbb_cells = Jupyter.notebook.get_cells();\n",
       "                for (var i = 0; i < nbb_cells.length; ++i) {\n",
       "                    if (nbb_cells[i].input_prompt_number == nbb_cell_id) {\n",
       "                        if (nbb_cells[i].get_text() == nbb_unformatted_code) {\n",
       "                             nbb_cells[i].set_text(nbb_formatted_code);\n",
       "                        }\n",
       "                        break;\n",
       "                    }\n",
       "                }\n",
       "            }, 500);\n",
       "            "
      ],
      "text/plain": [
       "<IPython.core.display.Javascript object>"
      ]
     },
     "metadata": {},
     "output_type": "display_data"
    }
   ],
   "source": [
    "%load_ext nb_black\n",
    "%load_ext autoreload\n",
    "%autoreload 2"
   ]
  },
  {
   "cell_type": "code",
   "execution_count": 2,
   "id": "da5ed279",
   "metadata": {
    "tags": [
     "hide-cell"
    ]
   },
   "outputs": [
    {
     "data": {
      "application/javascript": [
       "\n",
       "            setTimeout(function() {\n",
       "                var nbb_cell_id = 2;\n",
       "                var nbb_unformatted_code = \"# Install empiricaldist if we don't already have it\\n\\ntry:\\n    import empiricaldist\\nexcept ImportError:\\n    !pip install empiricaldist\";\n",
       "                var nbb_formatted_code = \"# Install empiricaldist if we don't already have it\\n\\ntry:\\n    import empiricaldist\\nexcept ImportError:\\n    !pip install empiricaldist\";\n",
       "                var nbb_cells = Jupyter.notebook.get_cells();\n",
       "                for (var i = 0; i < nbb_cells.length; ++i) {\n",
       "                    if (nbb_cells[i].input_prompt_number == nbb_cell_id) {\n",
       "                        if (nbb_cells[i].get_text() == nbb_unformatted_code) {\n",
       "                             nbb_cells[i].set_text(nbb_formatted_code);\n",
       "                        }\n",
       "                        break;\n",
       "                    }\n",
       "                }\n",
       "            }, 500);\n",
       "            "
      ],
      "text/plain": [
       "<IPython.core.display.Javascript object>"
      ]
     },
     "metadata": {},
     "output_type": "display_data"
    }
   ],
   "source": [
    "# Install empiricaldist if we don't already have it\n",
    "\n",
    "try:\n",
    "    import empiricaldist\n",
    "except ImportError:\n",
    "    !pip install empiricaldist"
   ]
  },
  {
   "cell_type": "code",
   "execution_count": 3,
   "id": "87cab00c",
   "metadata": {
    "tags": [
     "hide-cell"
    ]
   },
   "outputs": [
    {
     "data": {
      "application/javascript": [
       "\n",
       "            setTimeout(function() {\n",
       "                var nbb_cell_id = 3;\n",
       "                var nbb_unformatted_code = \"# download utils.py\\n\\nfrom os.path import basename, exists\\n\\n\\ndef download(url):\\n    filename = basename(url)\\n    if not exists(filename):\\n        from urllib.request import urlretrieve\\n\\n        local, _ = urlretrieve(url, filename)\\n        print(\\\"Downloaded \\\" + local)\\n\\n\\ndownload(\\n    \\\"https://github.com/AllenDowney/ProbablyOverthinkingIt/raw/book/notebooks/utils.py\\\"\\n)\";\n",
       "                var nbb_formatted_code = \"# download utils.py\\n\\nfrom os.path import basename, exists\\n\\n\\ndef download(url):\\n    filename = basename(url)\\n    if not exists(filename):\\n        from urllib.request import urlretrieve\\n\\n        local, _ = urlretrieve(url, filename)\\n        print(\\\"Downloaded \\\" + local)\\n\\n\\ndownload(\\n    \\\"https://github.com/AllenDowney/ProbablyOverthinkingIt/raw/book/notebooks/utils.py\\\"\\n)\";\n",
       "                var nbb_cells = Jupyter.notebook.get_cells();\n",
       "                for (var i = 0; i < nbb_cells.length; ++i) {\n",
       "                    if (nbb_cells[i].input_prompt_number == nbb_cell_id) {\n",
       "                        if (nbb_cells[i].get_text() == nbb_unformatted_code) {\n",
       "                             nbb_cells[i].set_text(nbb_formatted_code);\n",
       "                        }\n",
       "                        break;\n",
       "                    }\n",
       "                }\n",
       "            }, 500);\n",
       "            "
      ],
      "text/plain": [
       "<IPython.core.display.Javascript object>"
      ]
     },
     "metadata": {},
     "output_type": "display_data"
    }
   ],
   "source": [
    "# download utils.py\n",
    "\n",
    "from os.path import basename, exists\n",
    "\n",
    "\n",
    "def download(url):\n",
    "    filename = basename(url)\n",
    "    if not exists(filename):\n",
    "        from urllib.request import urlretrieve\n",
    "\n",
    "        local, _ = urlretrieve(url, filename)\n",
    "        print(\"Downloaded \" + local)\n",
    "\n",
    "\n",
    "download(\n",
    "    \"https://github.com/AllenDowney/ProbablyOverthinkingIt/raw/book/notebooks/utils.py\"\n",
    ")"
   ]
  },
  {
   "cell_type": "code",
   "execution_count": 4,
   "id": "81d5b707",
   "metadata": {
    "tags": [
     "hide-cell"
    ]
   },
   "outputs": [
    {
     "data": {
      "application/javascript": [
       "\n",
       "            setTimeout(function() {\n",
       "                var nbb_cell_id = 4;\n",
       "                var nbb_unformatted_code = \"import pandas as pd\\nimport numpy as np\\nimport matplotlib.pyplot as plt\\nimport seaborn as sns\\n\\nfrom utils import decorate\\n\\n# Set the random seed so we get the same results every time\\nnp.random.seed(17)\";\n",
       "                var nbb_formatted_code = \"import pandas as pd\\nimport numpy as np\\nimport matplotlib.pyplot as plt\\nimport seaborn as sns\\n\\nfrom utils import decorate\\n\\n# Set the random seed so we get the same results every time\\nnp.random.seed(17)\";\n",
       "                var nbb_cells = Jupyter.notebook.get_cells();\n",
       "                for (var i = 0; i < nbb_cells.length; ++i) {\n",
       "                    if (nbb_cells[i].input_prompt_number == nbb_cell_id) {\n",
       "                        if (nbb_cells[i].get_text() == nbb_unformatted_code) {\n",
       "                             nbb_cells[i].set_text(nbb_formatted_code);\n",
       "                        }\n",
       "                        break;\n",
       "                    }\n",
       "                }\n",
       "            }, 500);\n",
       "            "
      ],
      "text/plain": [
       "<IPython.core.display.Javascript object>"
      ]
     },
     "metadata": {},
     "output_type": "display_data"
    }
   ],
   "source": [
    "import pandas as pd\n",
    "import numpy as np\n",
    "import matplotlib.pyplot as plt\n",
    "import seaborn as sns\n",
    "\n",
    "from utils import decorate\n",
    "\n",
    "# Set the random seed so we get the same results every time\n",
    "np.random.seed(17)"
   ]
  },
  {
   "cell_type": "code",
   "execution_count": 5,
   "id": "8f428f81",
   "metadata": {},
   "outputs": [
    {
     "data": {
      "application/javascript": [
       "\n",
       "            setTimeout(function() {\n",
       "                var nbb_cell_id = 5;\n",
       "                var nbb_unformatted_code = \"plt.rcParams[\\\"figure.dpi\\\"] = 75\\nplt.rcParams[\\\"figure.figsize\\\"] = [6, 3.5]\\n\\nplt.rcParams[\\\"axes.titlesize\\\"] = \\\"medium\\\"\\n\\nplt.rcParams[\\\"font.size\\\"] = 12\\n\\nplt.rcParams[\\\"lines.linewidth\\\"] = 1.5\\n\\nplt.rcParams[\\\"axes.titlelocation\\\"] = \\\"left\\\"\\nplt.rcParams[\\\"axes.spines.top\\\"] = False\\nplt.rcParams[\\\"axes.spines.bottom\\\"] = False\\nplt.rcParams[\\\"axes.spines.left\\\"] = False\\nplt.rcParams[\\\"axes.spines.right\\\"] = False\\n\\nplt.rcParams[\\\"xtick.top\\\"] = False\\nplt.rcParams[\\\"xtick.bottom\\\"] = False\\nplt.rcParams[\\\"ytick.left\\\"] = False\\nplt.rcParams[\\\"ytick.right\\\"] = False\\n\\nplt.rcParams[\\\"legend.frameon\\\"] = True\\nplt.rcParams[\\\"legend.framealpha\\\"] = 0.4\\nplt.rcParams[\\\"legend.facecolor\\\"] = \\\"none\\\"\\nplt.rcParams[\\\"legend.edgecolor\\\"] = \\\"0.8\\\"\\n\\nplt.rcParams[\\\"lines.markersize\\\"] = 5\\nplt.rcParams[\\\"lines.markeredgewidth\\\"] = 0\";\n",
       "                var nbb_formatted_code = \"plt.rcParams[\\\"figure.dpi\\\"] = 75\\nplt.rcParams[\\\"figure.figsize\\\"] = [6, 3.5]\\n\\nplt.rcParams[\\\"axes.titlesize\\\"] = \\\"medium\\\"\\n\\nplt.rcParams[\\\"font.size\\\"] = 12\\n\\nplt.rcParams[\\\"lines.linewidth\\\"] = 1.5\\n\\nplt.rcParams[\\\"axes.titlelocation\\\"] = \\\"left\\\"\\nplt.rcParams[\\\"axes.spines.top\\\"] = False\\nplt.rcParams[\\\"axes.spines.bottom\\\"] = False\\nplt.rcParams[\\\"axes.spines.left\\\"] = False\\nplt.rcParams[\\\"axes.spines.right\\\"] = False\\n\\nplt.rcParams[\\\"xtick.top\\\"] = False\\nplt.rcParams[\\\"xtick.bottom\\\"] = False\\nplt.rcParams[\\\"ytick.left\\\"] = False\\nplt.rcParams[\\\"ytick.right\\\"] = False\\n\\nplt.rcParams[\\\"legend.frameon\\\"] = True\\nplt.rcParams[\\\"legend.framealpha\\\"] = 0.4\\nplt.rcParams[\\\"legend.facecolor\\\"] = \\\"none\\\"\\nplt.rcParams[\\\"legend.edgecolor\\\"] = \\\"0.8\\\"\\n\\nplt.rcParams[\\\"lines.markersize\\\"] = 5\\nplt.rcParams[\\\"lines.markeredgewidth\\\"] = 0\";\n",
       "                var nbb_cells = Jupyter.notebook.get_cells();\n",
       "                for (var i = 0; i < nbb_cells.length; ++i) {\n",
       "                    if (nbb_cells[i].input_prompt_number == nbb_cell_id) {\n",
       "                        if (nbb_cells[i].get_text() == nbb_unformatted_code) {\n",
       "                             nbb_cells[i].set_text(nbb_formatted_code);\n",
       "                        }\n",
       "                        break;\n",
       "                    }\n",
       "                }\n",
       "            }, 500);\n",
       "            "
      ],
      "text/plain": [
       "<IPython.core.display.Javascript object>"
      ]
     },
     "metadata": {},
     "output_type": "display_data"
    }
   ],
   "source": [
    "plt.rcParams[\"figure.dpi\"] = 75\n",
    "plt.rcParams[\"figure.figsize\"] = [6, 3.5]\n",
    "\n",
    "plt.rcParams[\"axes.titlesize\"] = \"medium\"\n",
    "\n",
    "plt.rcParams[\"font.size\"] = 12\n",
    "\n",
    "plt.rcParams[\"lines.linewidth\"] = 1.5\n",
    "\n",
    "plt.rcParams[\"axes.titlelocation\"] = \"left\"\n",
    "plt.rcParams[\"axes.spines.top\"] = False\n",
    "plt.rcParams[\"axes.spines.bottom\"] = False\n",
    "plt.rcParams[\"axes.spines.left\"] = False\n",
    "plt.rcParams[\"axes.spines.right\"] = False\n",
    "\n",
    "plt.rcParams[\"xtick.top\"] = False\n",
    "plt.rcParams[\"xtick.bottom\"] = False\n",
    "plt.rcParams[\"ytick.left\"] = False\n",
    "plt.rcParams[\"ytick.right\"] = False\n",
    "\n",
    "plt.rcParams[\"legend.frameon\"] = True\n",
    "plt.rcParams[\"legend.framealpha\"] = 0.4\n",
    "plt.rcParams[\"legend.facecolor\"] = \"none\"\n",
    "plt.rcParams[\"legend.edgecolor\"] = \"0.8\"\n",
    "\n",
    "plt.rcParams[\"lines.markersize\"] = 5\n",
    "plt.rcParams[\"lines.markeredgewidth\"] = 0"
   ]
  },
  {
   "cell_type": "markdown",
   "id": "f17a6470",
   "metadata": {
    "tags": []
   },
   "source": [
    "## Old Optimists, Young Pessimists\n",
    "\n",
    "Would you say that most of the time people try to be helpful, or that they are mostly just looking out for themselves? Almost every year since 1972, the General Social Survey (GSS) has posed that question to a representative sample of adult residents of the United States.\n",
    "\n",
    "The following figure shows how the responses have changed over time.\n",
    "The circles show the percentage of people in each survey who said that people try to be helpful."
   ]
  },
  {
   "cell_type": "code",
   "execution_count": 6,
   "id": "5b8c8edb",
   "metadata": {},
   "outputs": [
    {
     "data": {
      "application/javascript": [
       "\n",
       "            setTimeout(function() {\n",
       "                var nbb_cell_id = 6;\n",
       "                var nbb_unformatted_code = \"# This dataset is prepared in GssExtract/notebooks/02_make_extract-2022_3a.ipynb\\n\\nDATA_PATH = \\\"https://github.com/AllenDowney/GssExtract/raw/main/data/interim/\\\"\\nfilename = \\\"gss_extract_2022_3a.hdf\\\"\\ndownload(DATA_PATH + filename)\";\n",
       "                var nbb_formatted_code = \"# This dataset is prepared in GssExtract/notebooks/02_make_extract-2022_3a.ipynb\\n\\nDATA_PATH = \\\"https://github.com/AllenDowney/GssExtract/raw/main/data/interim/\\\"\\nfilename = \\\"gss_extract_2022_3a.hdf\\\"\\ndownload(DATA_PATH + filename)\";\n",
       "                var nbb_cells = Jupyter.notebook.get_cells();\n",
       "                for (var i = 0; i < nbb_cells.length; ++i) {\n",
       "                    if (nbb_cells[i].input_prompt_number == nbb_cell_id) {\n",
       "                        if (nbb_cells[i].get_text() == nbb_unformatted_code) {\n",
       "                             nbb_cells[i].set_text(nbb_formatted_code);\n",
       "                        }\n",
       "                        break;\n",
       "                    }\n",
       "                }\n",
       "            }, 500);\n",
       "            "
      ],
      "text/plain": [
       "<IPython.core.display.Javascript object>"
      ]
     },
     "metadata": {},
     "output_type": "display_data"
    }
   ],
   "source": [
    "# This dataset is prepared in GssExtract/notebooks/02_make_extract-2022_3a.ipynb\n",
    "\n",
    "DATA_PATH = \"https://github.com/AllenDowney/GssExtract/raw/main/data/interim/\"\n",
    "filename = \"gss_extract_2022_3a.hdf\"\n",
    "download(DATA_PATH + filename)"
   ]
  },
  {
   "cell_type": "code",
   "execution_count": 7,
   "id": "f033ca49",
   "metadata": {
    "tags": []
   },
   "outputs": [
    {
     "data": {
      "text/plain": [
       "(72390, 54)"
      ]
     },
     "execution_count": 7,
     "metadata": {},
     "output_type": "execute_result"
    },
    {
     "data": {
      "application/javascript": [
       "\n",
       "            setTimeout(function() {\n",
       "                var nbb_cell_id = 7;\n",
       "                var nbb_unformatted_code = \"gss = pd.read_hdf(filename, \\\"gss\\\")\\ngss.shape\";\n",
       "                var nbb_formatted_code = \"gss = pd.read_hdf(filename, \\\"gss\\\")\\ngss.shape\";\n",
       "                var nbb_cells = Jupyter.notebook.get_cells();\n",
       "                for (var i = 0; i < nbb_cells.length; ++i) {\n",
       "                    if (nbb_cells[i].input_prompt_number == nbb_cell_id) {\n",
       "                        if (nbb_cells[i].get_text() == nbb_unformatted_code) {\n",
       "                             nbb_cells[i].set_text(nbb_formatted_code);\n",
       "                        }\n",
       "                        break;\n",
       "                    }\n",
       "                }\n",
       "            }, 500);\n",
       "            "
      ],
      "text/plain": [
       "<IPython.core.display.Javascript object>"
      ]
     },
     "metadata": {},
     "output_type": "display_data"
    }
   ],
   "source": [
    "gss = pd.read_hdf(filename, \"gss\")\n",
    "gss.shape"
   ]
  },
  {
   "cell_type": "code",
   "execution_count": 8,
   "id": "a937ea68",
   "metadata": {},
   "outputs": [
    {
     "data": {
      "text/plain": [
       "755"
      ]
     },
     "execution_count": 8,
     "metadata": {},
     "output_type": "execute_result"
    },
    {
     "data": {
      "application/javascript": [
       "\n",
       "            setTimeout(function() {\n",
       "                var nbb_cell_id = 8;\n",
       "                var nbb_unformatted_code = \"gss[\\\"cohort\\\"] = gss[\\\"cohort\\\"].replace(9999, np.nan)\\ngss[\\\"cohort\\\"].isna().sum()\";\n",
       "                var nbb_formatted_code = \"gss[\\\"cohort\\\"] = gss[\\\"cohort\\\"].replace(9999, np.nan)\\ngss[\\\"cohort\\\"].isna().sum()\";\n",
       "                var nbb_cells = Jupyter.notebook.get_cells();\n",
       "                for (var i = 0; i < nbb_cells.length; ++i) {\n",
       "                    if (nbb_cells[i].input_prompt_number == nbb_cell_id) {\n",
       "                        if (nbb_cells[i].get_text() == nbb_unformatted_code) {\n",
       "                             nbb_cells[i].set_text(nbb_formatted_code);\n",
       "                        }\n",
       "                        break;\n",
       "                    }\n",
       "                }\n",
       "            }, 500);\n",
       "            "
      ],
      "text/plain": [
       "<IPython.core.display.Javascript object>"
      ]
     },
     "metadata": {},
     "output_type": "display_data"
    }
   ],
   "source": [
    "gss[\"cohort\"] = gss[\"cohort\"].replace(9999, np.nan)\n",
    "gss[\"cohort\"].isna().sum()"
   ]
  },
  {
   "cell_type": "code",
   "execution_count": 9,
   "id": "767232cc",
   "metadata": {},
   "outputs": [
    {
     "data": {
      "text/plain": [
       "cohort10\n",
       "1880       45\n",
       "1890      501\n",
       "1900     1722\n",
       "1910     3616\n",
       "1920     5862\n",
       "1930     7115\n",
       "1940    10925\n",
       "1950    14273\n",
       "1960    11699\n",
       "1970     7681\n",
       "1980     5088\n",
       "1990     2563\n",
       "2000      545\n",
       "NaN       755\n",
       "Name: count, dtype: int64"
      ]
     },
     "execution_count": 9,
     "metadata": {},
     "output_type": "execute_result"
    },
    {
     "data": {
      "application/javascript": [
       "\n",
       "            setTimeout(function() {\n",
       "                var nbb_cell_id = 9;\n",
       "                var nbb_unformatted_code = \"bins = np.arange(1879, 2011, 10)\\nlabels = bins[:-1] + 1\\n\\ngss[\\\"cohort10\\\"] = pd.cut(gss[\\\"cohort\\\"], bins, labels=labels)\\ngss[\\\"cohort10\\\"].value_counts(dropna=False).sort_index()\";\n",
       "                var nbb_formatted_code = \"bins = np.arange(1879, 2011, 10)\\nlabels = bins[:-1] + 1\\n\\ngss[\\\"cohort10\\\"] = pd.cut(gss[\\\"cohort\\\"], bins, labels=labels)\\ngss[\\\"cohort10\\\"].value_counts(dropna=False).sort_index()\";\n",
       "                var nbb_cells = Jupyter.notebook.get_cells();\n",
       "                for (var i = 0; i < nbb_cells.length; ++i) {\n",
       "                    if (nbb_cells[i].input_prompt_number == nbb_cell_id) {\n",
       "                        if (nbb_cells[i].get_text() == nbb_unformatted_code) {\n",
       "                             nbb_cells[i].set_text(nbb_formatted_code);\n",
       "                        }\n",
       "                        break;\n",
       "                    }\n",
       "                }\n",
       "            }, 500);\n",
       "            "
      ],
      "text/plain": [
       "<IPython.core.display.Javascript object>"
      ]
     },
     "metadata": {},
     "output_type": "display_data"
    }
   ],
   "source": [
    "bins = np.arange(1879, 2011, 10)\n",
    "labels = bins[:-1] + 1\n",
    "\n",
    "gss[\"cohort10\"] = pd.cut(gss[\"cohort\"], bins, labels=labels)\n",
    "gss[\"cohort10\"].value_counts(dropna=False).sort_index()"
   ]
  },
  {
   "cell_type": "code",
   "execution_count": 10,
   "id": "a39e1b15",
   "metadata": {},
   "outputs": [
    {
     "data": {
      "application/javascript": [
       "\n",
       "            setTimeout(function() {\n",
       "                var nbb_cell_id = 10;\n",
       "                var nbb_unformatted_code = \"from utils import underride\\n\\n\\ndef plot_titles(title, subtitle, y=1.02, pad=20, **options):\\n    \\\"\\\"\\\"Plot the title and subtitle\\\"\\\"\\\"\\n    plt.title(title, loc=\\\"left\\\", pad=pad)\\n\\n    transform = plt.gca().transAxes\\n    options = underride(options, color=\\\"0.2\\\", ha=\\\"left\\\", va=\\\"bottom\\\", fontsize=11)\\n    plt.text(0, y, subtitle, transform=transform, **options)\\n\\n    plt.tight_layout()\";\n",
       "                var nbb_formatted_code = \"from utils import underride\\n\\n\\ndef plot_titles(title, subtitle, y=1.02, pad=20, **options):\\n    \\\"\\\"\\\"Plot the title and subtitle\\\"\\\"\\\"\\n    plt.title(title, loc=\\\"left\\\", pad=pad)\\n\\n    transform = plt.gca().transAxes\\n    options = underride(options, color=\\\"0.2\\\", ha=\\\"left\\\", va=\\\"bottom\\\", fontsize=11)\\n    plt.text(0, y, subtitle, transform=transform, **options)\\n\\n    plt.tight_layout()\";\n",
       "                var nbb_cells = Jupyter.notebook.get_cells();\n",
       "                for (var i = 0; i < nbb_cells.length; ++i) {\n",
       "                    if (nbb_cells[i].input_prompt_number == nbb_cell_id) {\n",
       "                        if (nbb_cells[i].get_text() == nbb_unformatted_code) {\n",
       "                             nbb_cells[i].set_text(nbb_formatted_code);\n",
       "                        }\n",
       "                        break;\n",
       "                    }\n",
       "                }\n",
       "            }, 500);\n",
       "            "
      ],
      "text/plain": [
       "<IPython.core.display.Javascript object>"
      ]
     },
     "metadata": {},
     "output_type": "display_data"
    }
   ],
   "source": [
    "from utils import underride\n",
    "\n",
    "\n",
    "def plot_titles(title, subtitle, y=1.02, pad=20, **options):\n",
    "    \"\"\"Plot the title and subtitle\"\"\"\n",
    "    plt.title(title, loc=\"left\", pad=pad)\n",
    "\n",
    "    transform = plt.gca().transAxes\n",
    "    options = underride(options, color=\"0.2\", ha=\"left\", va=\"bottom\", fontsize=11)\n",
    "    plt.text(0, y, subtitle, transform=transform, **options)\n",
    "\n",
    "    plt.tight_layout()"
   ]
  },
  {
   "cell_type": "code",
   "execution_count": 103,
   "id": "406baa69",
   "metadata": {},
   "outputs": [
    {
     "data": {
      "application/javascript": [
       "\n",
       "            setTimeout(function() {\n",
       "                var nbb_cell_id = 103;\n",
       "                var nbb_unformatted_code = \"from statsmodels.nonparametric.smoothers_lowess import lowess\\n\\n\\ndef make_lowess(series, frac=2 / 3):\\n    \\\"\\\"\\\"Use LOWESS to compute a smooth line.\\n\\n    series: pd.Series\\n\\n    returns: pd.Series\\n    \\\"\\\"\\\"\\n    endog = series.values\\n    exog = series.index.values\\n\\n    smooth = lowess(endog, exog, frac)\\n    index, data = np.transpose(smooth)\\n\\n    return pd.Series(data, index=index)\";\n",
       "                var nbb_formatted_code = \"from statsmodels.nonparametric.smoothers_lowess import lowess\\n\\n\\ndef make_lowess(series, frac=2 / 3):\\n    \\\"\\\"\\\"Use LOWESS to compute a smooth line.\\n\\n    series: pd.Series\\n\\n    returns: pd.Series\\n    \\\"\\\"\\\"\\n    endog = series.values\\n    exog = series.index.values\\n\\n    smooth = lowess(endog, exog, frac)\\n    index, data = np.transpose(smooth)\\n\\n    return pd.Series(data, index=index)\";\n",
       "                var nbb_cells = Jupyter.notebook.get_cells();\n",
       "                for (var i = 0; i < nbb_cells.length; ++i) {\n",
       "                    if (nbb_cells[i].input_prompt_number == nbb_cell_id) {\n",
       "                        if (nbb_cells[i].get_text() == nbb_unformatted_code) {\n",
       "                             nbb_cells[i].set_text(nbb_formatted_code);\n",
       "                        }\n",
       "                        break;\n",
       "                    }\n",
       "                }\n",
       "            }, 500);\n",
       "            "
      ],
      "text/plain": [
       "<IPython.core.display.Javascript object>"
      ]
     },
     "metadata": {},
     "output_type": "display_data"
    }
   ],
   "source": [
    "from statsmodels.nonparametric.smoothers_lowess import lowess\n",
    "\n",
    "\n",
    "def make_lowess(series, frac=2 / 3):\n",
    "    \"\"\"Use LOWESS to compute a smooth line.\n",
    "\n",
    "    series: pd.Series\n",
    "\n",
    "    returns: pd.Series\n",
    "    \"\"\"\n",
    "    endog = series.values\n",
    "    exog = series.index.values\n",
    "\n",
    "    smooth = lowess(endog, exog, frac)\n",
    "    index, data = np.transpose(smooth)\n",
    "\n",
    "    return pd.Series(data, index=index)"
   ]
  },
  {
   "cell_type": "code",
   "execution_count": 179,
   "id": "d4eb8886",
   "metadata": {},
   "outputs": [
    {
     "data": {
      "application/javascript": [
       "\n",
       "            setTimeout(function() {\n",
       "                var nbb_cell_id = 179;\n",
       "                var nbb_unformatted_code = \"# pip install whittaker-eilers\\n\\nfrom whittaker_eilers import WhittakerSmoother\\n\\n\\ndef make_smooth(series):\\n    \\\"\\\"\\\"Use Whittaker-Eilers to compute a smooth line.\\n\\n    series: pd.Series\\n\\n    returns: pd.Series\\n    \\\"\\\"\\\"\\n    ys = series.values\\n    xs = series.index.values\\n\\n    whittaker_smoother = WhittakerSmoother(\\n        lmbda=2e3, order=2, data_length=len(ys), x_input=xs\\n    )\\n\\n    smoothed = whittaker_smoother.smooth(ys)\\n    return pd.Series(smoothed, index=xs)\";\n",
       "                var nbb_formatted_code = \"# pip install whittaker-eilers\\n\\nfrom whittaker_eilers import WhittakerSmoother\\n\\n\\ndef make_smooth(series):\\n    \\\"\\\"\\\"Use Whittaker-Eilers to compute a smooth line.\\n\\n    series: pd.Series\\n\\n    returns: pd.Series\\n    \\\"\\\"\\\"\\n    ys = series.values\\n    xs = series.index.values\\n\\n    whittaker_smoother = WhittakerSmoother(\\n        lmbda=2e3, order=2, data_length=len(ys), x_input=xs\\n    )\\n\\n    smoothed = whittaker_smoother.smooth(ys)\\n    return pd.Series(smoothed, index=xs)\";\n",
       "                var nbb_cells = Jupyter.notebook.get_cells();\n",
       "                for (var i = 0; i < nbb_cells.length; ++i) {\n",
       "                    if (nbb_cells[i].input_prompt_number == nbb_cell_id) {\n",
       "                        if (nbb_cells[i].get_text() == nbb_unformatted_code) {\n",
       "                             nbb_cells[i].set_text(nbb_formatted_code);\n",
       "                        }\n",
       "                        break;\n",
       "                    }\n",
       "                }\n",
       "            }, 500);\n",
       "            "
      ],
      "text/plain": [
       "<IPython.core.display.Javascript object>"
      ]
     },
     "metadata": {},
     "output_type": "display_data"
    }
   ],
   "source": []
  },
  {
   "cell_type": "code",
   "execution_count": 180,
   "id": "8dae7845",
   "metadata": {},
   "outputs": [
    {
     "data": {
      "application/javascript": [
       "\n",
       "            setTimeout(function() {\n",
       "                var nbb_cell_id = 180;\n",
       "                var nbb_unformatted_code = \"def plot_series_lowess(series, plot_series=False, frac=2 / 3, **options):\\n    \\\"\\\"\\\"Plots a series of data points and a smooth line.\\n\\n    series: pd.Series\\n    color: string or tuple\\n    \\\"\\\"\\\"\\n    color = options.pop(\\\"color\\\", \\\"C0\\\")\\n    if \\\"label\\\" not in options:\\n        options[\\\"label\\\"] = series.name\\n\\n    x = series.index\\n    y = series.values\\n    if plot_series:\\n        plt.plot(x, y, \\\"o\\\", color=color, alpha=0.5, label=\\\"_\\\")\\n\\n    if not plot_series and len(series) == 1:\\n        plt.plot(x, y, \\\"o\\\", color=color, label=options[\\\"label\\\"])\\n\\n    if len(series) > 1:\\n        # smooth = make_lowess(series, frac=frac)\\n        smooth = make_smooth(series)\\n        smooth.plot(color=color, **options)\";\n",
       "                var nbb_formatted_code = \"def plot_series_lowess(series, plot_series=False, frac=2 / 3, **options):\\n    \\\"\\\"\\\"Plots a series of data points and a smooth line.\\n\\n    series: pd.Series\\n    color: string or tuple\\n    \\\"\\\"\\\"\\n    color = options.pop(\\\"color\\\", \\\"C0\\\")\\n    if \\\"label\\\" not in options:\\n        options[\\\"label\\\"] = series.name\\n\\n    x = series.index\\n    y = series.values\\n    if plot_series:\\n        plt.plot(x, y, \\\"o\\\", color=color, alpha=0.5, label=\\\"_\\\")\\n\\n    if not plot_series and len(series) == 1:\\n        plt.plot(x, y, \\\"o\\\", color=color, label=options[\\\"label\\\"])\\n\\n    if len(series) > 1:\\n        # smooth = make_lowess(series, frac=frac)\\n        smooth = make_smooth(series)\\n        smooth.plot(color=color, **options)\";\n",
       "                var nbb_cells = Jupyter.notebook.get_cells();\n",
       "                for (var i = 0; i < nbb_cells.length; ++i) {\n",
       "                    if (nbb_cells[i].input_prompt_number == nbb_cell_id) {\n",
       "                        if (nbb_cells[i].get_text() == nbb_unformatted_code) {\n",
       "                             nbb_cells[i].set_text(nbb_formatted_code);\n",
       "                        }\n",
       "                        break;\n",
       "                    }\n",
       "                }\n",
       "            }, 500);\n",
       "            "
      ],
      "text/plain": [
       "<IPython.core.display.Javascript object>"
      ]
     },
     "metadata": {},
     "output_type": "display_data"
    }
   ],
   "source": [
    "def plot_series_smooth(series, plot_series=False, frac=2 / 3, **options):\n",
    "    \"\"\"Plots a series of data points and a smooth line.\n",
    "\n",
    "    series: pd.Series\n",
    "    color: string or tuple\n",
    "    \"\"\"\n",
    "    color = options.pop(\"color\", \"C0\")\n",
    "    if \"label\" not in options:\n",
    "        options[\"label\"] = series.name\n",
    "\n",
    "    x = series.index\n",
    "    y = series.values\n",
    "    if plot_series:\n",
    "        plt.plot(x, y, \"o\", color=color, alpha=0.5, label=\"_\")\n",
    "\n",
    "    if not plot_series and len(series) == 1:\n",
    "        plt.plot(x, y, \"o\", color=color, label=options[\"label\"])\n",
    "\n",
    "    if len(series) > 1:\n",
    "        # smooth = make_lowess(series, frac=frac)\n",
    "        smooth = make_smooth(series)\n",
    "        smooth.plot(color=color, **options)"
   ]
  },
  {
   "cell_type": "code",
   "execution_count": 247,
   "id": "0bd8e306",
   "metadata": {
    "tags": []
   },
   "outputs": [
    {
     "data": {
      "application/javascript": [
       "\n",
       "            setTimeout(function() {\n",
       "                var nbb_cell_id = 247;\n",
       "                var nbb_unformatted_code = \"from utils import prepare_yvar\\nfrom utils import chunk_series\\n\\n\\ndef plot_by_cohort(varname, yvalue):\\n    xtab = pd.crosstab(gss[\\\"cohort\\\"], gss[varname], normalize=\\\"index\\\")\\n    by_cohort = xtab[yvalue] * 100\\n    by_cohort.name = varname\\n    \\n    # prepare_yvar(gss, varname, yvalue)\\n    # by_cohort = chunk_series(gss, \\\"cohort\\\", size=700) * 100\\n\\n    plot_series_lowess(\\n        by_cohort,\\n        plot_series=True,\\n        color=\\\"C1\\\",\\n        ls=\\\"dashed\\\",\\n        label=\\\"\\\",\\n    )\\n\\n    decorate(\\n        xlabel=\\\"Year of birth\\\",\\n        ylim=ylim,\\n    )\\n    plot_titles(title, subtitle)\";\n",
       "                var nbb_formatted_code = \"from utils import prepare_yvar\\nfrom utils import chunk_series\\n\\n\\ndef plot_by_cohort(varname, yvalue):\\n    xtab = pd.crosstab(gss[\\\"cohort\\\"], gss[varname], normalize=\\\"index\\\")\\n    by_cohort = xtab[yvalue] * 100\\n    by_cohort.name = varname\\n\\n    # prepare_yvar(gss, varname, yvalue)\\n    # by_cohort = chunk_series(gss, \\\"cohort\\\", size=700) * 100\\n\\n    plot_series_lowess(\\n        by_cohort,\\n        plot_series=True,\\n        color=\\\"C1\\\",\\n        ls=\\\"dashed\\\",\\n        label=\\\"\\\",\\n    )\\n\\n    decorate(\\n        xlabel=\\\"Year of birth\\\",\\n        ylim=ylim,\\n    )\\n    plot_titles(title, subtitle)\";\n",
       "                var nbb_cells = Jupyter.notebook.get_cells();\n",
       "                for (var i = 0; i < nbb_cells.length; ++i) {\n",
       "                    if (nbb_cells[i].input_prompt_number == nbb_cell_id) {\n",
       "                        if (nbb_cells[i].get_text() == nbb_unformatted_code) {\n",
       "                             nbb_cells[i].set_text(nbb_formatted_code);\n",
       "                        }\n",
       "                        break;\n",
       "                    }\n",
       "                }\n",
       "            }, 500);\n",
       "            "
      ],
      "text/plain": [
       "<IPython.core.display.Javascript object>"
      ]
     },
     "metadata": {},
     "output_type": "display_data"
    }
   ],
   "source": [
    "#from utils import prepare_yvar\n",
    "#from utils import chunk_series\n",
    "\n",
    "\n",
    "def plot_by_cohort(varname, yvalue):\n",
    "    xtab = pd.crosstab(gss[\"cohort\"], gss[varname], normalize=\"index\")\n",
    "    by_cohort = xtab[yvalue] * 100\n",
    "    by_cohort.name = varname\n",
    "\n",
    "    # prepare_yvar(gss, varname, yvalue)\n",
    "    # by_cohort = chunk_series(gss, \"cohort\", size=700) * 100\n",
    "\n",
    "    plot_series_smooth(\n",
    "        by_cohort,\n",
    "        plot_series=True,\n",
    "        color=\"C1\",\n",
    "        ls=\"dashed\",\n",
    "        label=\"\",\n",
    "    )\n",
    "\n",
    "    decorate(\n",
    "        xlabel=\"Year of birth\",\n",
    "        ylim=ylim,\n",
    "    )\n",
    "    plot_titles(title, subtitle)"
   ]
  },
  {
   "cell_type": "code",
   "execution_count": 214,
   "id": "5b584f88",
   "metadata": {},
   "outputs": [
    {
     "data": {
      "application/javascript": [
       "\n",
       "            setTimeout(function() {\n",
       "                var nbb_cell_id = 214;\n",
       "                var nbb_unformatted_code = \"from utils import get_colors\\nfrom utils import label_table\\n\\n\\ndef visualize_table(table, nudge={}, **options):\\n    \\\"\\\"\\\"Plot the results from make_table.\\n\\n    table: map from group name to Series\\n    options: passed to plot\\n    \\\"\\\"\\\"\\n    palette = options.pop(\\\"palette\\\", \\\"Purples\\\")\\n    colors = get_colors(len(table), palette=palette)\\n\\n    for i, series in enumerate(table.values()):\\n        label = f\\\"{series.name}s\\\"\\n        plot_series_lowess(\\n            series, color=colors[i], label=label, plot_series=False, **options\\n        )\\n    label_table(table, nudge)\\n\\n    plot_titles(title, subtitle)\\n    decorate(\\n        xlabel=\\\"Year of survey\\\",\\n        xlim=xlim,\\n        ylim=ylim,\\n        legend=False,\\n    )\";\n",
       "                var nbb_formatted_code = \"from utils import get_colors\\nfrom utils import label_table\\n\\n\\ndef visualize_table(table, nudge={}, **options):\\n    \\\"\\\"\\\"Plot the results from make_table.\\n\\n    table: map from group name to Series\\n    options: passed to plot\\n    \\\"\\\"\\\"\\n    palette = options.pop(\\\"palette\\\", \\\"Purples\\\")\\n    colors = get_colors(len(table), palette=palette)\\n\\n    for i, series in enumerate(table.values()):\\n        label = f\\\"{series.name}s\\\"\\n        plot_series_lowess(\\n            series, color=colors[i], label=label, plot_series=False, **options\\n        )\\n    label_table(table, nudge)\\n\\n    plot_titles(title, subtitle)\\n    decorate(\\n        xlabel=\\\"Year of survey\\\",\\n        xlim=xlim,\\n        ylim=ylim,\\n        legend=False,\\n    )\";\n",
       "                var nbb_cells = Jupyter.notebook.get_cells();\n",
       "                for (var i = 0; i < nbb_cells.length; ++i) {\n",
       "                    if (nbb_cells[i].input_prompt_number == nbb_cell_id) {\n",
       "                        if (nbb_cells[i].get_text() == nbb_unformatted_code) {\n",
       "                             nbb_cells[i].set_text(nbb_formatted_code);\n",
       "                        }\n",
       "                        break;\n",
       "                    }\n",
       "                }\n",
       "            }, 500);\n",
       "            "
      ],
      "text/plain": [
       "<IPython.core.display.Javascript object>"
      ]
     },
     "metadata": {},
     "output_type": "display_data"
    }
   ],
   "source": []
  },
  {
   "cell_type": "markdown",
   "id": "fc76fdfb",
   "metadata": {},
   "source": [
    "## helpful"
   ]
  },
  {
   "cell_type": "code",
   "execution_count": 215,
   "id": "9012be07",
   "metadata": {
    "tags": []
   },
   "outputs": [
    {
     "data": {
      "application/javascript": [
       "\n",
       "            setTimeout(function() {\n",
       "                var nbb_cell_id = 215;\n",
       "                var nbb_unformatted_code = \"# https://gssdataexplorer.norc.org/variables/439/vshow\\n\\n# 1 = helpful\\n# 2 = look out for themselves\\n# 3 = depends\";\n",
       "                var nbb_formatted_code = \"# https://gssdataexplorer.norc.org/variables/439/vshow\\n\\n# 1 = helpful\\n# 2 = look out for themselves\\n# 3 = depends\";\n",
       "                var nbb_cells = Jupyter.notebook.get_cells();\n",
       "                for (var i = 0; i < nbb_cells.length; ++i) {\n",
       "                    if (nbb_cells[i].input_prompt_number == nbb_cell_id) {\n",
       "                        if (nbb_cells[i].get_text() == nbb_unformatted_code) {\n",
       "                             nbb_cells[i].set_text(nbb_formatted_code);\n",
       "                        }\n",
       "                        break;\n",
       "                    }\n",
       "                }\n",
       "            }, 500);\n",
       "            "
      ],
      "text/plain": [
       "<IPython.core.display.Javascript object>"
      ]
     },
     "metadata": {},
     "output_type": "display_data"
    }
   ],
   "source": [
    "# https://gssdataexplorer.norc.org/variables/439/vshow\n",
    "\n",
    "# 1 = helpful\n",
    "# 2 = look out for themselves\n",
    "# 3 = depends"
   ]
  },
  {
   "cell_type": "code",
   "execution_count": 216,
   "id": "16ff1db4",
   "metadata": {},
   "outputs": [
    {
     "data": {
      "text/plain": [
       "helpful\n",
       "1.0    20471\n",
       "2.0    18972\n",
       "3.0     2971\n",
       "Name: count, dtype: int64"
      ]
     },
     "execution_count": 216,
     "metadata": {},
     "output_type": "execute_result"
    },
    {
     "data": {
      "application/javascript": [
       "\n",
       "            setTimeout(function() {\n",
       "                var nbb_cell_id = 216;\n",
       "                var nbb_unformatted_code = \"varname = \\\"helpful\\\"\\nselected_value = 1\\n\\nseries = gss[varname]\\nseries.value_counts()\";\n",
       "                var nbb_formatted_code = \"varname = \\\"helpful\\\"\\nselected_value = 1\\n\\nseries = gss[varname]\\nseries.value_counts()\";\n",
       "                var nbb_cells = Jupyter.notebook.get_cells();\n",
       "                for (var i = 0; i < nbb_cells.length; ++i) {\n",
       "                    if (nbb_cells[i].input_prompt_number == nbb_cell_id) {\n",
       "                        if (nbb_cells[i].get_text() == nbb_unformatted_code) {\n",
       "                             nbb_cells[i].set_text(nbb_formatted_code);\n",
       "                        }\n",
       "                        break;\n",
       "                    }\n",
       "                }\n",
       "            }, 500);\n",
       "            "
      ],
      "text/plain": [
       "<IPython.core.display.Javascript object>"
      ]
     },
     "metadata": {},
     "output_type": "display_data"
    }
   ],
   "source": [
    "varname = \"helpful\"\n",
    "selected_value = 1\n",
    "\n",
    "series = gss[varname]\n",
    "series.value_counts()"
   ]
  },
  {
   "cell_type": "code",
   "execution_count": 217,
   "id": "ee22fb59",
   "metadata": {
    "tags": []
   },
   "outputs": [
    {
     "data": {
      "application/javascript": [
       "\n",
       "            setTimeout(function() {\n",
       "                var nbb_cell_id = 217;\n",
       "                var nbb_unformatted_code = \"question = \\\"\\\"\\\"Would you say that most of the time people try to be helpful, \\nor that they are mostly just looking out for themselves?\\n\\\"\\\"\\\"\\n\\ntitle = \\\"Would people be helpful or look out for themselves?\\\"\\nsubtitle = \\\"Percent saying helpful\\\"\\nylim = [15, 75]\";\n",
       "                var nbb_formatted_code = \"question = \\\"\\\"\\\"Would you say that most of the time people try to be helpful, \\nor that they are mostly just looking out for themselves?\\n\\\"\\\"\\\"\\n\\ntitle = \\\"Would people be helpful or look out for themselves?\\\"\\nsubtitle = \\\"Percent saying helpful\\\"\\nylim = [15, 75]\";\n",
       "                var nbb_cells = Jupyter.notebook.get_cells();\n",
       "                for (var i = 0; i < nbb_cells.length; ++i) {\n",
       "                    if (nbb_cells[i].input_prompt_number == nbb_cell_id) {\n",
       "                        if (nbb_cells[i].get_text() == nbb_unformatted_code) {\n",
       "                             nbb_cells[i].set_text(nbb_formatted_code);\n",
       "                        }\n",
       "                        break;\n",
       "                    }\n",
       "                }\n",
       "            }, 500);\n",
       "            "
      ],
      "text/plain": [
       "<IPython.core.display.Javascript object>"
      ]
     },
     "metadata": {},
     "output_type": "display_data"
    }
   ],
   "source": [
    "question = \"\"\"Would you say that most of the time people try to be helpful, \n",
    "or that they are mostly just looking out for themselves?\n",
    "\"\"\"\n",
    "\n",
    "title = \"Would people be helpful or look out for themselves?\"\n",
    "subtitle = \"Percent saying helpful\"\n",
    "ylim = [15, 75]"
   ]
  },
  {
   "cell_type": "code",
   "execution_count": 218,
   "id": "f6b72f82",
   "metadata": {},
   "outputs": [
    {
     "data": {
      "image/png": "[encoded data removed]",
      "text/plain": [
       "<Figure size 450x262.5 with 1 Axes>"
      ]
     },
     "metadata": {},
     "output_type": "display_data"
    },
    {
     "data": {
      "application/javascript": [
       "\n",
       "            setTimeout(function() {\n",
       "                var nbb_cell_id = 218;\n",
       "                var nbb_unformatted_code = \"plot_by_year(varname, selected_value)\\nplt.savefig(f\\\"optimism_{varname}_by_year\\\", dpi=300)\";\n",
       "                var nbb_formatted_code = \"plot_by_year(varname, selected_value)\\nplt.savefig(f\\\"optimism_{varname}_by_year\\\", dpi=300)\";\n",
       "                var nbb_cells = Jupyter.notebook.get_cells();\n",
       "                for (var i = 0; i < nbb_cells.length; ++i) {\n",
       "                    if (nbb_cells[i].input_prompt_number == nbb_cell_id) {\n",
       "                        if (nbb_cells[i].get_text() == nbb_unformatted_code) {\n",
       "                             nbb_cells[i].set_text(nbb_formatted_code);\n",
       "                        }\n",
       "                        break;\n",
       "                    }\n",
       "                }\n",
       "            }, 500);\n",
       "            "
      ],
      "text/plain": [
       "<IPython.core.display.Javascript object>"
      ]
     },
     "metadata": {},
     "output_type": "display_data"
    }
   ],
   "source": [
    "plot_by_year(varname, selected_value)\n",
    "plt.savefig(f\"optimism_{varname}_by_year\", dpi=300)"
   ]
  },
  {
   "cell_type": "code",
   "execution_count": 219,
   "id": "8da83c11",
   "metadata": {},
   "outputs": [
    {
     "data": {
      "image/png": "[encoded data removed]",
      "text/plain": [
       "<Figure size 450x262.5 with 1 Axes>"
      ]
     },
     "metadata": {},
     "output_type": "display_data"
    },
    {
     "data": {
      "application/javascript": [
       "\n",
       "            setTimeout(function() {\n",
       "                var nbb_cell_id = 219;\n",
       "                var nbb_unformatted_code = \"plot_by_cohort(varname, selected_value)\\nplt.savefig(f\\\"optimism_{varname}_by_cohort\\\", dpi=300)\";\n",
       "                var nbb_formatted_code = \"plot_by_cohort(varname, selected_value)\\nplt.savefig(f\\\"optimism_{varname}_by_cohort\\\", dpi=300)\";\n",
       "                var nbb_cells = Jupyter.notebook.get_cells();\n",
       "                for (var i = 0; i < nbb_cells.length; ++i) {\n",
       "                    if (nbb_cells[i].input_prompt_number == nbb_cell_id) {\n",
       "                        if (nbb_cells[i].get_text() == nbb_unformatted_code) {\n",
       "                             nbb_cells[i].set_text(nbb_formatted_code);\n",
       "                        }\n",
       "                        break;\n",
       "                    }\n",
       "                }\n",
       "            }, 500);\n",
       "            "
      ],
      "text/plain": [
       "<IPython.core.display.Javascript object>"
      ]
     },
     "metadata": {},
     "output_type": "display_data"
    }
   ],
   "source": [
    "plot_by_cohort(varname, selected_value)\n",
    "plt.savefig(f\"optimism_{varname}_by_cohort\", dpi=300)"
   ]
  },
  {
   "cell_type": "code",
   "execution_count": 220,
   "id": "3a00a1e7",
   "metadata": {
    "tags": []
   },
   "outputs": [
    {
     "data": {
      "application/javascript": [
       "\n",
       "            setTimeout(function() {\n",
       "                var nbb_cell_id = 220;\n",
       "                var nbb_unformatted_code = \"from utils import make_table\\n\\nsubset = gss.dropna(subset=[\\\"cohort\\\"]).copy()\\nsubset[\\\"cohort10\\\"] = subset[\\\"cohort10\\\"].astype(int)\\n\\ntable = make_table(subset, \\\"year\\\", varname, \\\"cohort10\\\", selected_value)\\ndel table[1890]\\ndel table[1900]\";\n",
       "                var nbb_formatted_code = \"from utils import make_table\\n\\nsubset = gss.dropna(subset=[\\\"cohort\\\"]).copy()\\nsubset[\\\"cohort10\\\"] = subset[\\\"cohort10\\\"].astype(int)\\n\\ntable = make_table(subset, \\\"year\\\", varname, \\\"cohort10\\\", selected_value)\\ndel table[1890]\\ndel table[1900]\";\n",
       "                var nbb_cells = Jupyter.notebook.get_cells();\n",
       "                for (var i = 0; i < nbb_cells.length; ++i) {\n",
       "                    if (nbb_cells[i].input_prompt_number == nbb_cell_id) {\n",
       "                        if (nbb_cells[i].get_text() == nbb_unformatted_code) {\n",
       "                             nbb_cells[i].set_text(nbb_formatted_code);\n",
       "                        }\n",
       "                        break;\n",
       "                    }\n",
       "                }\n",
       "            }, 500);\n",
       "            "
      ],
      "text/plain": [
       "<IPython.core.display.Javascript object>"
      ]
     },
     "metadata": {},
     "output_type": "display_data"
    }
   ],
   "source": [
    "from utils import make_table\n",
    "\n",
    "subset = gss.dropna(subset=[\"cohort\"]).copy()\n",
    "subset[\"cohort10\"] = subset[\"cohort10\"].astype(int)\n",
    "\n",
    "table = make_table(subset, \"year\", varname, \"cohort10\", selected_value)\n",
    "del table[1890]\n",
    "del table[1900]"
   ]
  },
  {
   "cell_type": "code",
   "execution_count": 221,
   "id": "c82baf24",
   "metadata": {
    "tags": []
   },
   "outputs": [
    {
     "data": {
      "image/png": "[encoded data removed]",
      "text/plain": [
       "<Figure size 450x262.5 with 1 Axes>"
      ]
     },
     "metadata": {},
     "output_type": "display_data"
    },
    {
     "data": {
      "application/javascript": [
       "\n",
       "            setTimeout(function() {\n",
       "                var nbb_cell_id = 221;\n",
       "                var nbb_unformatted_code = \"plot_series_lowess(table[1950], plot_series=True, color=\\\"C2\\\", label=\\\"Born in the 1950s\\\")\\n\\nplot_titles(title, subtitle)\\ndecorate(xlabel=\\\"Year of survey\\\", ylim=ylim, xlim=xlim, loc=\\\"lower right\\\")\\nplt.savefig(f\\\"optimism_{varname}_one_cohort\\\", dpi=300)\";\n",
       "                var nbb_formatted_code = \"plot_series_lowess(table[1950], plot_series=True, color=\\\"C2\\\", label=\\\"Born in the 1950s\\\")\\n\\nplot_titles(title, subtitle)\\ndecorate(xlabel=\\\"Year of survey\\\", ylim=ylim, xlim=xlim, loc=\\\"lower right\\\")\\nplt.savefig(f\\\"optimism_{varname}_one_cohort\\\", dpi=300)\";\n",
       "                var nbb_cells = Jupyter.notebook.get_cells();\n",
       "                for (var i = 0; i < nbb_cells.length; ++i) {\n",
       "                    if (nbb_cells[i].input_prompt_number == nbb_cell_id) {\n",
       "                        if (nbb_cells[i].get_text() == nbb_unformatted_code) {\n",
       "                             nbb_cells[i].set_text(nbb_formatted_code);\n",
       "                        }\n",
       "                        break;\n",
       "                    }\n",
       "                }\n",
       "            }, 500);\n",
       "            "
      ],
      "text/plain": [
       "<IPython.core.display.Javascript object>"
      ]
     },
     "metadata": {},
     "output_type": "display_data"
    }
   ],
   "source": [
    "plot_series_smooth(table[1950], plot_series=True, color=\"C2\", label=\"Born in the 1950s\")\n",
    "\n",
    "plot_titles(title, subtitle)\n",
    "decorate(xlabel=\"Year of survey\", ylim=ylim, xlim=xlim, loc=\"lower right\")\n",
    "plt.savefig(f\"optimism_{varname}_one_cohort\", dpi=300)"
   ]
  },
  {
   "cell_type": "code",
   "execution_count": 222,
   "id": "f9fd739d",
   "metadata": {
    "tags": []
   },
   "outputs": [
    {
     "data": {
      "image/png": "[encoded data removed]",
      "text/plain": [
       "<Figure size 450x262.5 with 1 Axes>"
      ]
     },
     "metadata": {},
     "output_type": "display_data"
    },
    {
     "data": {
      "application/javascript": [
       "\n",
       "            setTimeout(function() {\n",
       "                var nbb_cell_id = 222;\n",
       "                var nbb_unformatted_code = \"nudge = {\\\"1960s\\\": 0.5, \\\"1970s\\\": -0.5}\\nvisualize_table(table, nudge)\\nplt.savefig(f\\\"optimism_{varname}_by_cohort_over_year\\\", dpi=300)\";\n",
       "                var nbb_formatted_code = \"nudge = {\\\"1960s\\\": 0.5, \\\"1970s\\\": -0.5}\\nvisualize_table(table, nudge)\\nplt.savefig(f\\\"optimism_{varname}_by_cohort_over_year\\\", dpi=300)\";\n",
       "                var nbb_cells = Jupyter.notebook.get_cells();\n",
       "                for (var i = 0; i < nbb_cells.length; ++i) {\n",
       "                    if (nbb_cells[i].input_prompt_number == nbb_cell_id) {\n",
       "                        if (nbb_cells[i].get_text() == nbb_unformatted_code) {\n",
       "                             nbb_cells[i].set_text(nbb_formatted_code);\n",
       "                        }\n",
       "                        break;\n",
       "                    }\n",
       "                }\n",
       "            }, 500);\n",
       "            "
      ],
      "text/plain": [
       "<IPython.core.display.Javascript object>"
      ]
     },
     "metadata": {},
     "output_type": "display_data"
    }
   ],
   "source": [
    "nudge = {\"1960s\": 0.5, \"1970s\": -0.5}\n",
    "visualize_table(table, nudge)\n",
    "plt.savefig(f\"optimism_{varname}_by_cohort_over_year\", dpi=300)"
   ]
  },
  {
   "cell_type": "markdown",
   "id": "331bb711",
   "metadata": {},
   "source": [
    "## trust"
   ]
  },
  {
   "cell_type": "code",
   "execution_count": 223,
   "id": "ef20bcbc",
   "metadata": {
    "tags": []
   },
   "outputs": [
    {
     "data": {
      "application/javascript": [
       "\n",
       "            setTimeout(function() {\n",
       "                var nbb_cell_id = 223;\n",
       "                var nbb_unformatted_code = \"question = \\\"\\\"\\\"Generally speaking, would you say that most people can be trusted \\nor that you can't be too careful in dealing with people?\\n\\\"\\\"\\\"\\n\\ntitle = \\\"Can most people be trusted?\\\"\\nsubtitle = \\\"Percent saying yes\\\"\\nylim = [5, 55]\";\n",
       "                var nbb_formatted_code = \"question = \\\"\\\"\\\"Generally speaking, would you say that most people can be trusted \\nor that you can't be too careful in dealing with people?\\n\\\"\\\"\\\"\\n\\ntitle = \\\"Can most people be trusted?\\\"\\nsubtitle = \\\"Percent saying yes\\\"\\nylim = [5, 55]\";\n",
       "                var nbb_cells = Jupyter.notebook.get_cells();\n",
       "                for (var i = 0; i < nbb_cells.length; ++i) {\n",
       "                    if (nbb_cells[i].input_prompt_number == nbb_cell_id) {\n",
       "                        if (nbb_cells[i].get_text() == nbb_unformatted_code) {\n",
       "                             nbb_cells[i].set_text(nbb_formatted_code);\n",
       "                        }\n",
       "                        break;\n",
       "                    }\n",
       "                }\n",
       "            }, 500);\n",
       "            "
      ],
      "text/plain": [
       "<IPython.core.display.Javascript object>"
      ]
     },
     "metadata": {},
     "output_type": "display_data"
    }
   ],
   "source": [
    "question = \"\"\"Generally speaking, would you say that most people can be trusted \n",
    "or that you can't be too careful in dealing with people?\n",
    "\"\"\"\n",
    "\n",
    "title = \"Can most people be trusted?\"\n",
    "subtitle = \"Percent saying yes\"\n",
    "ylim = [5, 55]"
   ]
  },
  {
   "cell_type": "code",
   "execution_count": 224,
   "id": "eeae73ee",
   "metadata": {
    "tags": []
   },
   "outputs": [
    {
     "data": {
      "application/javascript": [
       "\n",
       "            setTimeout(function() {\n",
       "                var nbb_cell_id = 224;\n",
       "                var nbb_unformatted_code = \"# https://gssdataexplorer.norc.org/variables/441/vshow\\n\\n# 1 = can trust\\n# 2 = can't be too careful\\n# 3 = depends\";\n",
       "                var nbb_formatted_code = \"# https://gssdataexplorer.norc.org/variables/441/vshow\\n\\n# 1 = can trust\\n# 2 = can't be too careful\\n# 3 = depends\";\n",
       "                var nbb_cells = Jupyter.notebook.get_cells();\n",
       "                for (var i = 0; i < nbb_cells.length; ++i) {\n",
       "                    if (nbb_cells[i].input_prompt_number == nbb_cell_id) {\n",
       "                        if (nbb_cells[i].get_text() == nbb_unformatted_code) {\n",
       "                             nbb_cells[i].set_text(nbb_formatted_code);\n",
       "                        }\n",
       "                        break;\n",
       "                    }\n",
       "                }\n",
       "            }, 500);\n",
       "            "
      ],
      "text/plain": [
       "<IPython.core.display.Javascript object>"
      ]
     },
     "metadata": {},
     "output_type": "display_data"
    }
   ],
   "source": [
    "# https://gssdataexplorer.norc.org/variables/441/vshow\n",
    "\n",
    "# 1 = can trust\n",
    "# 2 = can't be too careful\n",
    "# 3 = depends"
   ]
  },
  {
   "cell_type": "code",
   "execution_count": 225,
   "id": "bc98271d",
   "metadata": {},
   "outputs": [
    {
     "data": {
      "text/plain": [
       "trust\n",
       "2.0    24890\n",
       "1.0    15783\n",
       "3.0     1966\n",
       "Name: count, dtype: int64"
      ]
     },
     "execution_count": 225,
     "metadata": {},
     "output_type": "execute_result"
    },
    {
     "data": {
      "application/javascript": [
       "\n",
       "            setTimeout(function() {\n",
       "                var nbb_cell_id = 225;\n",
       "                var nbb_unformatted_code = \"varname = \\\"trust\\\"\\nselected_value = 1\\n\\nseries = gss[varname]\\nseries.value_counts()\";\n",
       "                var nbb_formatted_code = \"varname = \\\"trust\\\"\\nselected_value = 1\\n\\nseries = gss[varname]\\nseries.value_counts()\";\n",
       "                var nbb_cells = Jupyter.notebook.get_cells();\n",
       "                for (var i = 0; i < nbb_cells.length; ++i) {\n",
       "                    if (nbb_cells[i].input_prompt_number == nbb_cell_id) {\n",
       "                        if (nbb_cells[i].get_text() == nbb_unformatted_code) {\n",
       "                             nbb_cells[i].set_text(nbb_formatted_code);\n",
       "                        }\n",
       "                        break;\n",
       "                    }\n",
       "                }\n",
       "            }, 500);\n",
       "            "
      ],
      "text/plain": [
       "<IPython.core.display.Javascript object>"
      ]
     },
     "metadata": {},
     "output_type": "display_data"
    }
   ],
   "source": [
    "varname = \"trust\"\n",
    "selected_value = 1\n",
    "\n",
    "series = gss[varname]\n",
    "series.value_counts()"
   ]
  },
  {
   "cell_type": "code",
   "execution_count": 226,
   "id": "2efdbed4",
   "metadata": {},
   "outputs": [
    {
     "data": {
      "image/png": "[encoded data removed]",
      "text/plain": [
       "<Figure size 450x262.5 with 1 Axes>"
      ]
     },
     "metadata": {},
     "output_type": "display_data"
    },
    {
     "data": {
      "application/javascript": [
       "\n",
       "            setTimeout(function() {\n",
       "                var nbb_cell_id = 226;\n",
       "                var nbb_unformatted_code = \"plot_by_year(varname, selected_value)\\nplt.savefig(f\\\"optimism_{varname}_by_year\\\", dpi=300)\";\n",
       "                var nbb_formatted_code = \"plot_by_year(varname, selected_value)\\nplt.savefig(f\\\"optimism_{varname}_by_year\\\", dpi=300)\";\n",
       "                var nbb_cells = Jupyter.notebook.get_cells();\n",
       "                for (var i = 0; i < nbb_cells.length; ++i) {\n",
       "                    if (nbb_cells[i].input_prompt_number == nbb_cell_id) {\n",
       "                        if (nbb_cells[i].get_text() == nbb_unformatted_code) {\n",
       "                             nbb_cells[i].set_text(nbb_formatted_code);\n",
       "                        }\n",
       "                        break;\n",
       "                    }\n",
       "                }\n",
       "            }, 500);\n",
       "            "
      ],
      "text/plain": [
       "<IPython.core.display.Javascript object>"
      ]
     },
     "metadata": {},
     "output_type": "display_data"
    }
   ],
   "source": [
    "plot_by_year(varname, selected_value)\n",
    "plt.savefig(f\"optimism_{varname}_by_year\", dpi=300)"
   ]
  },
  {
   "cell_type": "code",
   "execution_count": 227,
   "id": "f8c7fc53",
   "metadata": {},
   "outputs": [
    {
     "data": {
      "image/png": "[encoded data removed]",
      "text/plain": [
       "<Figure size 450x262.5 with 1 Axes>"
      ]
     },
     "metadata": {},
     "output_type": "display_data"
    },
    {
     "data": {
      "application/javascript": [
       "\n",
       "            setTimeout(function() {\n",
       "                var nbb_cell_id = 227;\n",
       "                var nbb_unformatted_code = \"plot_by_cohort(varname, selected_value)\\nplt.savefig(f\\\"optimism_{varname}_by_cohort\\\", dpi=300)\";\n",
       "                var nbb_formatted_code = \"plot_by_cohort(varname, selected_value)\\nplt.savefig(f\\\"optimism_{varname}_by_cohort\\\", dpi=300)\";\n",
       "                var nbb_cells = Jupyter.notebook.get_cells();\n",
       "                for (var i = 0; i < nbb_cells.length; ++i) {\n",
       "                    if (nbb_cells[i].input_prompt_number == nbb_cell_id) {\n",
       "                        if (nbb_cells[i].get_text() == nbb_unformatted_code) {\n",
       "                             nbb_cells[i].set_text(nbb_formatted_code);\n",
       "                        }\n",
       "                        break;\n",
       "                    }\n",
       "                }\n",
       "            }, 500);\n",
       "            "
      ],
      "text/plain": [
       "<IPython.core.display.Javascript object>"
      ]
     },
     "metadata": {},
     "output_type": "display_data"
    }
   ],
   "source": [
    "plot_by_cohort(varname, selected_value)\n",
    "plt.savefig(f\"optimism_{varname}_by_cohort\", dpi=300)"
   ]
  },
  {
   "cell_type": "code",
   "execution_count": 228,
   "id": "2d8d011a",
   "metadata": {
    "tags": []
   },
   "outputs": [
    {
     "data": {
      "application/javascript": [
       "\n",
       "            setTimeout(function() {\n",
       "                var nbb_cell_id = 228;\n",
       "                var nbb_unformatted_code = \"from utils import make_table\\n\\nsubset = gss.dropna(subset=[\\\"cohort\\\"]).copy()\\nsubset[\\\"cohort10\\\"] = subset[\\\"cohort10\\\"].astype(int)\\n\\ntable = make_table(subset, \\\"year\\\", varname, \\\"cohort10\\\", selected_value)\\ndel table[1890]\\ndel table[1900]\";\n",
       "                var nbb_formatted_code = \"from utils import make_table\\n\\nsubset = gss.dropna(subset=[\\\"cohort\\\"]).copy()\\nsubset[\\\"cohort10\\\"] = subset[\\\"cohort10\\\"].astype(int)\\n\\ntable = make_table(subset, \\\"year\\\", varname, \\\"cohort10\\\", selected_value)\\ndel table[1890]\\ndel table[1900]\";\n",
       "                var nbb_cells = Jupyter.notebook.get_cells();\n",
       "                for (var i = 0; i < nbb_cells.length; ++i) {\n",
       "                    if (nbb_cells[i].input_prompt_number == nbb_cell_id) {\n",
       "                        if (nbb_cells[i].get_text() == nbb_unformatted_code) {\n",
       "                             nbb_cells[i].set_text(nbb_formatted_code);\n",
       "                        }\n",
       "                        break;\n",
       "                    }\n",
       "                }\n",
       "            }, 500);\n",
       "            "
      ],
      "text/plain": [
       "<IPython.core.display.Javascript object>"
      ]
     },
     "metadata": {},
     "output_type": "display_data"
    }
   ],
   "source": [
    "from utils import make_table\n",
    "\n",
    "subset = gss.dropna(subset=[\"cohort\"]).copy()\n",
    "subset[\"cohort10\"] = subset[\"cohort10\"].astype(int)\n",
    "\n",
    "table = make_table(subset, \"year\", varname, \"cohort10\", selected_value)\n",
    "del table[1890]\n",
    "del table[1900]"
   ]
  },
  {
   "cell_type": "code",
   "execution_count": 229,
   "id": "a259c605",
   "metadata": {
    "tags": []
   },
   "outputs": [
    {
     "data": {
      "image/png": "[encoded data removed]",
      "text/plain": [
       "<Figure size 450x262.5 with 1 Axes>"
      ]
     },
     "metadata": {},
     "output_type": "display_data"
    },
    {
     "data": {
      "application/javascript": [
       "\n",
       "            setTimeout(function() {\n",
       "                var nbb_cell_id = 229;\n",
       "                var nbb_unformatted_code = \"plot_series_lowess(table[1950], plot_series=True, color=\\\"C2\\\", label=\\\"Born in the 1950s\\\")\\n\\nplot_titles(title, subtitle)\\ndecorate(xlabel=\\\"Year of survey\\\", ylim=ylim, loc=\\\"lower right\\\")\\nplt.savefig(f\\\"optimism_{varname}_one_cohort\\\", dpi=300)\";\n",
       "                var nbb_formatted_code = \"plot_series_lowess(table[1950], plot_series=True, color=\\\"C2\\\", label=\\\"Born in the 1950s\\\")\\n\\nplot_titles(title, subtitle)\\ndecorate(xlabel=\\\"Year of survey\\\", ylim=ylim, loc=\\\"lower right\\\")\\nplt.savefig(f\\\"optimism_{varname}_one_cohort\\\", dpi=300)\";\n",
       "                var nbb_cells = Jupyter.notebook.get_cells();\n",
       "                for (var i = 0; i < nbb_cells.length; ++i) {\n",
       "                    if (nbb_cells[i].input_prompt_number == nbb_cell_id) {\n",
       "                        if (nbb_cells[i].get_text() == nbb_unformatted_code) {\n",
       "                             nbb_cells[i].set_text(nbb_formatted_code);\n",
       "                        }\n",
       "                        break;\n",
       "                    }\n",
       "                }\n",
       "            }, 500);\n",
       "            "
      ],
      "text/plain": [
       "<IPython.core.display.Javascript object>"
      ]
     },
     "metadata": {},
     "output_type": "display_data"
    }
   ],
   "source": [
    "plot_series_smooth(table[1950], plot_series=True, color=\"C2\", label=\"Born in the 1950s\")\n",
    "\n",
    "plot_titles(title, subtitle)\n",
    "decorate(xlabel=\"Year of survey\", ylim=ylim, loc=\"lower right\")\n",
    "plt.savefig(f\"optimism_{varname}_one_cohort\", dpi=300)"
   ]
  },
  {
   "cell_type": "code",
   "execution_count": 230,
   "id": "a9621f28",
   "metadata": {
    "tags": []
   },
   "outputs": [
    {
     "data": {
      "image/png": "[encoded data removed]",
      "text/plain": [
       "<Figure size 450x262.5 with 1 Axes>"
      ]
     },
     "metadata": {},
     "output_type": "display_data"
    },
    {
     "data": {
      "application/javascript": [
       "\n",
       "            setTimeout(function() {\n",
       "                var nbb_cell_id = 230;\n",
       "                var nbb_unformatted_code = \"nudge = {\\\"1960s\\\": -4, \\\"1970s\\\": 2, \\\"1980s\\\": -1, \\\"1990s\\\": -3}\\nvisualize_table(table, nudge)\\nplt.savefig(f\\\"optimism_{varname}_by_cohort_over_year\\\", dpi=300)\";\n",
       "                var nbb_formatted_code = \"nudge = {\\\"1960s\\\": -4, \\\"1970s\\\": 2, \\\"1980s\\\": -1, \\\"1990s\\\": -3}\\nvisualize_table(table, nudge)\\nplt.savefig(f\\\"optimism_{varname}_by_cohort_over_year\\\", dpi=300)\";\n",
       "                var nbb_cells = Jupyter.notebook.get_cells();\n",
       "                for (var i = 0; i < nbb_cells.length; ++i) {\n",
       "                    if (nbb_cells[i].input_prompt_number == nbb_cell_id) {\n",
       "                        if (nbb_cells[i].get_text() == nbb_unformatted_code) {\n",
       "                             nbb_cells[i].set_text(nbb_formatted_code);\n",
       "                        }\n",
       "                        break;\n",
       "                    }\n",
       "                }\n",
       "            }, 500);\n",
       "            "
      ],
      "text/plain": [
       "<IPython.core.display.Javascript object>"
      ]
     },
     "metadata": {},
     "output_type": "display_data"
    }
   ],
   "source": [
    "nudge = {\"1960s\": -4, \"1970s\": 2, \"1980s\": -1, \"1990s\": -3}\n",
    "visualize_table(table, nudge)\n",
    "plt.savefig(f\"optimism_{varname}_by_cohort_over_year\", dpi=300)"
   ]
  },
  {
   "cell_type": "markdown",
   "id": "2a41116c",
   "metadata": {},
   "source": [
    "## fair"
   ]
  },
  {
   "cell_type": "code",
   "execution_count": 231,
   "id": "7eecf086",
   "metadata": {
    "tags": []
   },
   "outputs": [
    {
     "data": {
      "application/javascript": [
       "\n",
       "            setTimeout(function() {\n",
       "                var nbb_cell_id = 231;\n",
       "                var nbb_unformatted_code = \"question = \\\"\\\"\\\"Do you think most people would try to take advantage of \\nyou if they got a chance, or would they try to be fair?\\n\\\"\\\"\\\"\\n\\ntitle = \\\"Would people try to be fair?\\\"\\nsubtitle = \\\"Percent saying yes\\\"\\nylim = [25, 79]\";\n",
       "                var nbb_formatted_code = \"question = \\\"\\\"\\\"Do you think most people would try to take advantage of \\nyou if they got a chance, or would they try to be fair?\\n\\\"\\\"\\\"\\n\\ntitle = \\\"Would people try to be fair?\\\"\\nsubtitle = \\\"Percent saying yes\\\"\\nylim = [25, 79]\";\n",
       "                var nbb_cells = Jupyter.notebook.get_cells();\n",
       "                for (var i = 0; i < nbb_cells.length; ++i) {\n",
       "                    if (nbb_cells[i].input_prompt_number == nbb_cell_id) {\n",
       "                        if (nbb_cells[i].get_text() == nbb_unformatted_code) {\n",
       "                             nbb_cells[i].set_text(nbb_formatted_code);\n",
       "                        }\n",
       "                        break;\n",
       "                    }\n",
       "                }\n",
       "            }, 500);\n",
       "            "
      ],
      "text/plain": [
       "<IPython.core.display.Javascript object>"
      ]
     },
     "metadata": {},
     "output_type": "display_data"
    }
   ],
   "source": [
    "question = \"\"\"Do you think most people would try to take advantage of \n",
    "you if they got a chance, or would they try to be fair?\n",
    "\"\"\"\n",
    "\n",
    "title = \"Would people try to be fair?\"\n",
    "subtitle = \"Percent saying yes\"\n",
    "ylim = [25, 79]"
   ]
  },
  {
   "cell_type": "code",
   "execution_count": 232,
   "id": "4fda3c83",
   "metadata": {
    "tags": []
   },
   "outputs": [
    {
     "data": {
      "application/javascript": [
       "\n",
       "            setTimeout(function() {\n",
       "                var nbb_cell_id = 232;\n",
       "                var nbb_unformatted_code = \"# https://gssdataexplorer.norc.org/variables/440/vshow\\n\\n# 1 = would take advantage\\n# 2 = would try to be fair\\n# 3 = depends\";\n",
       "                var nbb_formatted_code = \"# https://gssdataexplorer.norc.org/variables/440/vshow\\n\\n# 1 = would take advantage\\n# 2 = would try to be fair\\n# 3 = depends\";\n",
       "                var nbb_cells = Jupyter.notebook.get_cells();\n",
       "                for (var i = 0; i < nbb_cells.length; ++i) {\n",
       "                    if (nbb_cells[i].input_prompt_number == nbb_cell_id) {\n",
       "                        if (nbb_cells[i].get_text() == nbb_unformatted_code) {\n",
       "                             nbb_cells[i].set_text(nbb_formatted_code);\n",
       "                        }\n",
       "                        break;\n",
       "                    }\n",
       "                }\n",
       "            }, 500);\n",
       "            "
      ],
      "text/plain": [
       "<IPython.core.display.Javascript object>"
      ]
     },
     "metadata": {},
     "output_type": "display_data"
    }
   ],
   "source": [
    "# https://gssdataexplorer.norc.org/variables/440/vshow\n",
    "\n",
    "# 1 = would take advantage\n",
    "# 2 = would try to be fair\n",
    "# 3 = depends"
   ]
  },
  {
   "cell_type": "code",
   "execution_count": 233,
   "id": "faece726",
   "metadata": {},
   "outputs": [
    {
     "data": {
      "text/plain": [
       "fair\n",
       "2.0    23484\n",
       "1.0    15979\n",
       "3.0     2837\n",
       "Name: count, dtype: int64"
      ]
     },
     "execution_count": 233,
     "metadata": {},
     "output_type": "execute_result"
    },
    {
     "data": {
      "application/javascript": [
       "\n",
       "            setTimeout(function() {\n",
       "                var nbb_cell_id = 233;\n",
       "                var nbb_unformatted_code = \"varname = \\\"fair\\\"\\nselected_value = 2\\n\\nseries = gss[varname]\\nseries.value_counts()\";\n",
       "                var nbb_formatted_code = \"varname = \\\"fair\\\"\\nselected_value = 2\\n\\nseries = gss[varname]\\nseries.value_counts()\";\n",
       "                var nbb_cells = Jupyter.notebook.get_cells();\n",
       "                for (var i = 0; i < nbb_cells.length; ++i) {\n",
       "                    if (nbb_cells[i].input_prompt_number == nbb_cell_id) {\n",
       "                        if (nbb_cells[i].get_text() == nbb_unformatted_code) {\n",
       "                             nbb_cells[i].set_text(nbb_formatted_code);\n",
       "                        }\n",
       "                        break;\n",
       "                    }\n",
       "                }\n",
       "            }, 500);\n",
       "            "
      ],
      "text/plain": [
       "<IPython.core.display.Javascript object>"
      ]
     },
     "metadata": {},
     "output_type": "display_data"
    }
   ],
   "source": [
    "varname = \"fair\"\n",
    "selected_value = 2\n",
    "\n",
    "series = gss[varname]\n",
    "series.value_counts()"
   ]
  },
  {
   "cell_type": "code",
   "execution_count": 234,
   "id": "89b2ee9a",
   "metadata": {},
   "outputs": [
    {
     "data": {
      "image/png": "[encoded data removed]",
      "text/plain": [
       "<Figure size 450x262.5 with 1 Axes>"
      ]
     },
     "metadata": {},
     "output_type": "display_data"
    },
    {
     "data": {
      "application/javascript": [
       "\n",
       "            setTimeout(function() {\n",
       "                var nbb_cell_id = 234;\n",
       "                var nbb_unformatted_code = \"plot_by_year(varname, selected_value)\\nplt.savefig(f\\\"optimism_{varname}_by_year\\\", dpi=300)\";\n",
       "                var nbb_formatted_code = \"plot_by_year(varname, selected_value)\\nplt.savefig(f\\\"optimism_{varname}_by_year\\\", dpi=300)\";\n",
       "                var nbb_cells = Jupyter.notebook.get_cells();\n",
       "                for (var i = 0; i < nbb_cells.length; ++i) {\n",
       "                    if (nbb_cells[i].input_prompt_number == nbb_cell_id) {\n",
       "                        if (nbb_cells[i].get_text() == nbb_unformatted_code) {\n",
       "                             nbb_cells[i].set_text(nbb_formatted_code);\n",
       "                        }\n",
       "                        break;\n",
       "                    }\n",
       "                }\n",
       "            }, 500);\n",
       "            "
      ],
      "text/plain": [
       "<IPython.core.display.Javascript object>"
      ]
     },
     "metadata": {},
     "output_type": "display_data"
    }
   ],
   "source": [
    "plot_by_year(varname, selected_value)\n",
    "plt.savefig(f\"optimism_{varname}_by_year\", dpi=300)"
   ]
  },
  {
   "cell_type": "code",
   "execution_count": 235,
   "id": "8ec14652",
   "metadata": {},
   "outputs": [
    {
     "data": {
      "image/png": "[encoded data removed]",
      "text/plain": [
       "<Figure size 450x262.5 with 1 Axes>"
      ]
     },
     "metadata": {},
     "output_type": "display_data"
    },
    {
     "data": {
      "application/javascript": [
       "\n",
       "            setTimeout(function() {\n",
       "                var nbb_cell_id = 235;\n",
       "                var nbb_unformatted_code = \"plot_by_cohort(varname, selected_value)\\nplt.savefig(f\\\"optimism_{varname}_by_cohort\\\", dpi=300)\";\n",
       "                var nbb_formatted_code = \"plot_by_cohort(varname, selected_value)\\nplt.savefig(f\\\"optimism_{varname}_by_cohort\\\", dpi=300)\";\n",
       "                var nbb_cells = Jupyter.notebook.get_cells();\n",
       "                for (var i = 0; i < nbb_cells.length; ++i) {\n",
       "                    if (nbb_cells[i].input_prompt_number == nbb_cell_id) {\n",
       "                        if (nbb_cells[i].get_text() == nbb_unformatted_code) {\n",
       "                             nbb_cells[i].set_text(nbb_formatted_code);\n",
       "                        }\n",
       "                        break;\n",
       "                    }\n",
       "                }\n",
       "            }, 500);\n",
       "            "
      ],
      "text/plain": [
       "<IPython.core.display.Javascript object>"
      ]
     },
     "metadata": {},
     "output_type": "display_data"
    }
   ],
   "source": [
    "plot_by_cohort(varname, selected_value)\n",
    "plt.savefig(f\"optimism_{varname}_by_cohort\", dpi=300)"
   ]
  },
  {
   "cell_type": "code",
   "execution_count": 236,
   "id": "d31a8c00",
   "metadata": {
    "tags": []
   },
   "outputs": [
    {
     "data": {
      "application/javascript": [
       "\n",
       "            setTimeout(function() {\n",
       "                var nbb_cell_id = 236;\n",
       "                var nbb_unformatted_code = \"from utils import make_table\\n\\nsubset = gss.dropna(subset=[\\\"cohort\\\"]).copy()\\nsubset[\\\"cohort10\\\"] = subset[\\\"cohort10\\\"].astype(int)\\n\\ntable = make_table(subset, \\\"year\\\", varname, \\\"cohort10\\\", selected_value)\\ndel table[1890]\\ndel table[1900]\";\n",
       "                var nbb_formatted_code = \"from utils import make_table\\n\\nsubset = gss.dropna(subset=[\\\"cohort\\\"]).copy()\\nsubset[\\\"cohort10\\\"] = subset[\\\"cohort10\\\"].astype(int)\\n\\ntable = make_table(subset, \\\"year\\\", varname, \\\"cohort10\\\", selected_value)\\ndel table[1890]\\ndel table[1900]\";\n",
       "                var nbb_cells = Jupyter.notebook.get_cells();\n",
       "                for (var i = 0; i < nbb_cells.length; ++i) {\n",
       "                    if (nbb_cells[i].input_prompt_number == nbb_cell_id) {\n",
       "                        if (nbb_cells[i].get_text() == nbb_unformatted_code) {\n",
       "                             nbb_cells[i].set_text(nbb_formatted_code);\n",
       "                        }\n",
       "                        break;\n",
       "                    }\n",
       "                }\n",
       "            }, 500);\n",
       "            "
      ],
      "text/plain": [
       "<IPython.core.display.Javascript object>"
      ]
     },
     "metadata": {},
     "output_type": "display_data"
    }
   ],
   "source": [
    "from utils import make_table\n",
    "\n",
    "subset = gss.dropna(subset=[\"cohort\"]).copy()\n",
    "subset[\"cohort10\"] = subset[\"cohort10\"].astype(int)\n",
    "\n",
    "table = make_table(subset, \"year\", varname, \"cohort10\", selected_value)\n",
    "del table[1890]\n",
    "del table[1900]"
   ]
  },
  {
   "cell_type": "code",
   "execution_count": 237,
   "id": "fe4b93e6",
   "metadata": {
    "tags": []
   },
   "outputs": [
    {
     "data": {
      "image/png": "[encoded data removed]",
      "text/plain": [
       "<Figure size 450x262.5 with 1 Axes>"
      ]
     },
     "metadata": {},
     "output_type": "display_data"
    },
    {
     "data": {
      "application/javascript": [
       "\n",
       "            setTimeout(function() {\n",
       "                var nbb_cell_id = 237;\n",
       "                var nbb_unformatted_code = \"for group in table:\\n    plt.clf()\\n    plot_series_lowess(\\n        table[group], plot_series=True, color=\\\"C2\\\", label=f\\\"Born in the {group}s\\\"\\n    )\\n\\n    plot_titles(title, subtitle)\\n    decorate(xlabel=\\\"Year of survey\\\", xlim=xlim, ylim=ylim, loc=\\\"lower left\\\")\\n    plt.savefig(f\\\"optimism_{varname}_{group}_by_year\\\", dpi=300)\";\n",
       "                var nbb_formatted_code = \"for group in table:\\n    plt.clf()\\n    plot_series_lowess(\\n        table[group], plot_series=True, color=\\\"C2\\\", label=f\\\"Born in the {group}s\\\"\\n    )\\n\\n    plot_titles(title, subtitle)\\n    decorate(xlabel=\\\"Year of survey\\\", xlim=xlim, ylim=ylim, loc=\\\"lower left\\\")\\n    plt.savefig(f\\\"optimism_{varname}_{group}_by_year\\\", dpi=300)\";\n",
       "                var nbb_cells = Jupyter.notebook.get_cells();\n",
       "                for (var i = 0; i < nbb_cells.length; ++i) {\n",
       "                    if (nbb_cells[i].input_prompt_number == nbb_cell_id) {\n",
       "                        if (nbb_cells[i].get_text() == nbb_unformatted_code) {\n",
       "                             nbb_cells[i].set_text(nbb_formatted_code);\n",
       "                        }\n",
       "                        break;\n",
       "                    }\n",
       "                }\n",
       "            }, 500);\n",
       "            "
      ],
      "text/plain": [
       "<IPython.core.display.Javascript object>"
      ]
     },
     "metadata": {},
     "output_type": "display_data"
    }
   ],
   "source": [
    "for group in table:\n",
    "    plt.clf()\n",
    "    plot_series_smooth(\n",
    "        table[group], plot_series=True, color=\"C2\", label=f\"Born in the {group}s\"\n",
    "    )\n",
    "\n",
    "    plot_titles(title, subtitle)\n",
    "    decorate(xlabel=\"Year of survey\", xlim=xlim, ylim=ylim, loc=\"lower left\")\n",
    "    plt.savefig(f\"optimism_{varname}_{group}_by_year\", dpi=300)"
   ]
  },
  {
   "cell_type": "code",
   "execution_count": 238,
   "id": "87007046",
   "metadata": {
    "tags": []
   },
   "outputs": [
    {
     "data": {
      "image/png": "[encoded data removed]",
      "text/plain": [
       "<Figure size 450x262.5 with 1 Axes>"
      ]
     },
     "metadata": {},
     "output_type": "display_data"
    },
    {
     "data": {
      "application/javascript": [
       "\n",
       "            setTimeout(function() {\n",
       "                var nbb_cell_id = 238;\n",
       "                var nbb_unformatted_code = \"nudge = {\\\"1960s\\\": 0, \\\"1970s\\\": 1.8, \\\"1980s\\\": 0, \\\"1990s\\\": 0}\\nvisualize_table(table, nudge)\\nplt.savefig(f\\\"optimism_{varname}_by_cohort_over_year\\\", dpi=300)\";\n",
       "                var nbb_formatted_code = \"nudge = {\\\"1960s\\\": 0, \\\"1970s\\\": 1.8, \\\"1980s\\\": 0, \\\"1990s\\\": 0}\\nvisualize_table(table, nudge)\\nplt.savefig(f\\\"optimism_{varname}_by_cohort_over_year\\\", dpi=300)\";\n",
       "                var nbb_cells = Jupyter.notebook.get_cells();\n",
       "                for (var i = 0; i < nbb_cells.length; ++i) {\n",
       "                    if (nbb_cells[i].input_prompt_number == nbb_cell_id) {\n",
       "                        if (nbb_cells[i].get_text() == nbb_unformatted_code) {\n",
       "                             nbb_cells[i].set_text(nbb_formatted_code);\n",
       "                        }\n",
       "                        break;\n",
       "                    }\n",
       "                }\n",
       "            }, 500);\n",
       "            "
      ],
      "text/plain": [
       "<IPython.core.display.Javascript object>"
      ]
     },
     "metadata": {},
     "output_type": "display_data"
    }
   ],
   "source": [
    "nudge = {\"1960s\": 0, \"1970s\": 1.8, \"1980s\": 0, \"1990s\": 0}\n",
    "visualize_table(table, nudge)\n",
    "plt.savefig(f\"optimism_{varname}_by_cohort_over_year\", dpi=300)"
   ]
  },
  {
   "cell_type": "markdown",
   "id": "60e54085",
   "metadata": {},
   "source": [
    "## happy"
   ]
  },
  {
   "cell_type": "code",
   "execution_count": 239,
   "id": "dee8d2fb",
   "metadata": {
    "tags": []
   },
   "outputs": [
    {
     "data": {
      "application/javascript": [
       "\n",
       "            setTimeout(function() {\n",
       "                var nbb_cell_id = 239;\n",
       "                var nbb_unformatted_code = \"question = \\\"\\\"\\\"Taken all together, how would you say things are these days--\\nwould you say that you are very happy, pretty happy, or not too happy?\\n\\\"\\\"\\\"\\n\\ntitle = \\\"Are you happy?\\\"\\nsubtitle = \\\"Percent saying very happy\\\"\\nylim = [10, 45]\";\n",
       "                var nbb_formatted_code = \"question = \\\"\\\"\\\"Taken all together, how would you say things are these days--\\nwould you say that you are very happy, pretty happy, or not too happy?\\n\\\"\\\"\\\"\\n\\ntitle = \\\"Are you happy?\\\"\\nsubtitle = \\\"Percent saying very happy\\\"\\nylim = [10, 45]\";\n",
       "                var nbb_cells = Jupyter.notebook.get_cells();\n",
       "                for (var i = 0; i < nbb_cells.length; ++i) {\n",
       "                    if (nbb_cells[i].input_prompt_number == nbb_cell_id) {\n",
       "                        if (nbb_cells[i].get_text() == nbb_unformatted_code) {\n",
       "                             nbb_cells[i].set_text(nbb_formatted_code);\n",
       "                        }\n",
       "                        break;\n",
       "                    }\n",
       "                }\n",
       "            }, 500);\n",
       "            "
      ],
      "text/plain": [
       "<IPython.core.display.Javascript object>"
      ]
     },
     "metadata": {},
     "output_type": "display_data"
    }
   ],
   "source": [
    "question = \"\"\"Taken all together, how would you say things are these days--\n",
    "would you say that you are very happy, pretty happy, or not too happy?\n",
    "\"\"\"\n",
    "\n",
    "title = \"Are you happy?\"\n",
    "subtitle = \"Percent saying very happy\"\n",
    "ylim = [10, 45]"
   ]
  },
  {
   "cell_type": "code",
   "execution_count": 240,
   "id": "4a06b2a0",
   "metadata": {
    "tags": []
   },
   "outputs": [
    {
     "data": {
      "application/javascript": [
       "\n",
       "            setTimeout(function() {\n",
       "                var nbb_cell_id = 240;\n",
       "                var nbb_unformatted_code = \"# https://gssdataexplorer.norc.org/variables/452/vshow\\n\\n# 1 = very happy\\n# 2 = pretty happy\\n# 3 = not too happy\";\n",
       "                var nbb_formatted_code = \"# https://gssdataexplorer.norc.org/variables/452/vshow\\n\\n# 1 = very happy\\n# 2 = pretty happy\\n# 3 = not too happy\";\n",
       "                var nbb_cells = Jupyter.notebook.get_cells();\n",
       "                for (var i = 0; i < nbb_cells.length; ++i) {\n",
       "                    if (nbb_cells[i].input_prompt_number == nbb_cell_id) {\n",
       "                        if (nbb_cells[i].get_text() == nbb_unformatted_code) {\n",
       "                             nbb_cells[i].set_text(nbb_formatted_code);\n",
       "                        }\n",
       "                        break;\n",
       "                    }\n",
       "                }\n",
       "            }, 500);\n",
       "            "
      ],
      "text/plain": [
       "<IPython.core.display.Javascript object>"
      ]
     },
     "metadata": {},
     "output_type": "display_data"
    }
   ],
   "source": [
    "# https://gssdataexplorer.norc.org/variables/452/vshow\n",
    "\n",
    "# 1 = very happy\n",
    "# 2 = pretty happy\n",
    "# 3 = not too happy"
   ]
  },
  {
   "cell_type": "code",
   "execution_count": 241,
   "id": "0475fab9",
   "metadata": {},
   "outputs": [
    {
     "data": {
      "text/plain": [
       "happy\n",
       "2.0    37446\n",
       "1.0    21550\n",
       "3.0     8681\n",
       "Name: count, dtype: int64"
      ]
     },
     "execution_count": 241,
     "metadata": {},
     "output_type": "execute_result"
    },
    {
     "data": {
      "application/javascript": [
       "\n",
       "            setTimeout(function() {\n",
       "                var nbb_cell_id = 241;\n",
       "                var nbb_unformatted_code = \"varname = \\\"happy\\\"\\nselected_value = 1\\n\\nseries = gss[varname]\\nseries.value_counts()\";\n",
       "                var nbb_formatted_code = \"varname = \\\"happy\\\"\\nselected_value = 1\\n\\nseries = gss[varname]\\nseries.value_counts()\";\n",
       "                var nbb_cells = Jupyter.notebook.get_cells();\n",
       "                for (var i = 0; i < nbb_cells.length; ++i) {\n",
       "                    if (nbb_cells[i].input_prompt_number == nbb_cell_id) {\n",
       "                        if (nbb_cells[i].get_text() == nbb_unformatted_code) {\n",
       "                             nbb_cells[i].set_text(nbb_formatted_code);\n",
       "                        }\n",
       "                        break;\n",
       "                    }\n",
       "                }\n",
       "            }, 500);\n",
       "            "
      ],
      "text/plain": [
       "<IPython.core.display.Javascript object>"
      ]
     },
     "metadata": {},
     "output_type": "display_data"
    }
   ],
   "source": [
    "varname = \"happy\"\n",
    "selected_value = 1\n",
    "\n",
    "series = gss[varname]\n",
    "series.value_counts()"
   ]
  },
  {
   "cell_type": "code",
   "execution_count": 372,
   "id": "60473eda",
   "metadata": {},
   "outputs": [
    {
     "data": {
      "application/javascript": [
       "\n",
       "            setTimeout(function() {\n",
       "                var nbb_cell_id = 372;\n",
       "                var nbb_unformatted_code = \"# pip install whittaker-eilers\\n\\nfrom whittaker_eilers import WhittakerSmoother\\n\\n\\ndef make_smooth(series, weights=None, lmbda=1e3):\\n    \\\"\\\"\\\"Use Whittaker-Eilers to compute a smooth line.\\n\\n    series: pd.Series\\n\\n    returns: pd.Series\\n    \\\"\\\"\\\"\\n    ys = series.values\\n    xs = series.index.values\\n\\n    whittaker_smoother = WhittakerSmoother(\\n        lmbda=lmbda,\\n        order=2,\\n        data_length=len(ys),\\n        x_input=xs,\\n        weights=weights,\\n    )\\n\\n    smoothed = whittaker_smoother.smooth(ys)\\n    return pd.Series(smoothed, index=xs)\";\n",
       "                var nbb_formatted_code = \"# pip install whittaker-eilers\\n\\nfrom whittaker_eilers import WhittakerSmoother\\n\\n\\ndef make_smooth(series, weights=None, lmbda=1e3):\\n    \\\"\\\"\\\"Use Whittaker-Eilers to compute a smooth line.\\n\\n    series: pd.Series\\n\\n    returns: pd.Series\\n    \\\"\\\"\\\"\\n    ys = series.values\\n    xs = series.index.values\\n\\n    whittaker_smoother = WhittakerSmoother(\\n        lmbda=lmbda,\\n        order=2,\\n        data_length=len(ys),\\n        x_input=xs,\\n        weights=weights,\\n    )\\n\\n    smoothed = whittaker_smoother.smooth(ys)\\n    return pd.Series(smoothed, index=xs)\";\n",
       "                var nbb_cells = Jupyter.notebook.get_cells();\n",
       "                for (var i = 0; i < nbb_cells.length; ++i) {\n",
       "                    if (nbb_cells[i].input_prompt_number == nbb_cell_id) {\n",
       "                        if (nbb_cells[i].get_text() == nbb_unformatted_code) {\n",
       "                             nbb_cells[i].set_text(nbb_formatted_code);\n",
       "                        }\n",
       "                        break;\n",
       "                    }\n",
       "                }\n",
       "            }, 500);\n",
       "            "
      ],
      "text/plain": [
       "<IPython.core.display.Javascript object>"
      ]
     },
     "metadata": {},
     "output_type": "display_data"
    }
   ],
   "source": [
    "# pip install whittaker-eilers\n",
    "\n",
    "from whittaker_eilers import WhittakerSmoother\n",
    "\n",
    "\n",
    "def make_smooth(series, weights=None, lmbda=1e3):\n",
    "    \"\"\"Use Whittaker-Eilers to compute a smooth line.\n",
    "\n",
    "    series: pd.Series\n",
    "\n",
    "    returns: pd.Series\n",
    "    \"\"\"\n",
    "    ys = series.values\n",
    "    xs = series.index.values\n",
    "\n",
    "    whittaker_smoother = WhittakerSmoother(\n",
    "        lmbda=lmbda,\n",
    "        order=2,\n",
    "        data_length=len(ys),\n",
    "        x_input=xs,\n",
    "        weights=weights,\n",
    "    )\n",
    "\n",
    "    smoothed = whittaker_smoother.smooth(ys)\n",
    "    return pd.Series(smoothed, index=xs)"
   ]
  },
  {
   "cell_type": "code",
   "execution_count": 373,
   "id": "bd1829c2",
   "metadata": {},
   "outputs": [
    {
     "data": {
      "application/javascript": [
       "\n",
       "            setTimeout(function() {\n",
       "                var nbb_cell_id = 373;\n",
       "                var nbb_unformatted_code = \"def plot_series_smooth(series, smooth, plot_series=False, **options):\\n    \\\"\\\"\\\"Plots a series of data points and a smooth line.\\n\\n    series: pd.Series\\n    color: string or tuple\\n    \\\"\\\"\\\"\\n    color = options.pop(\\\"color\\\", \\\"C0\\\")\\n    if \\\"label\\\" not in options:\\n        options[\\\"label\\\"] = series.name\\n\\n    x = series.index\\n    y = series.values\\n    if plot_series:\\n        plt.plot(x, y, \\\"o\\\", color=color, alpha=0.5, label=\\\"_\\\")\\n\\n    if not plot_series and len(series) == 1:\\n        plt.plot(x, y, \\\"o\\\", color=color, label=options[\\\"label\\\"])\\n\\n    if len(series) > 1:\\n        smooth.plot(color=color, **options)\";\n",
       "                var nbb_formatted_code = \"def plot_series_smooth(series, smooth, plot_series=False, **options):\\n    \\\"\\\"\\\"Plots a series of data points and a smooth line.\\n\\n    series: pd.Series\\n    color: string or tuple\\n    \\\"\\\"\\\"\\n    color = options.pop(\\\"color\\\", \\\"C0\\\")\\n    if \\\"label\\\" not in options:\\n        options[\\\"label\\\"] = series.name\\n\\n    x = series.index\\n    y = series.values\\n    if plot_series:\\n        plt.plot(x, y, \\\"o\\\", color=color, alpha=0.5, label=\\\"_\\\")\\n\\n    if not plot_series and len(series) == 1:\\n        plt.plot(x, y, \\\"o\\\", color=color, label=options[\\\"label\\\"])\\n\\n    if len(series) > 1:\\n        smooth.plot(color=color, **options)\";\n",
       "                var nbb_cells = Jupyter.notebook.get_cells();\n",
       "                for (var i = 0; i < nbb_cells.length; ++i) {\n",
       "                    if (nbb_cells[i].input_prompt_number == nbb_cell_id) {\n",
       "                        if (nbb_cells[i].get_text() == nbb_unformatted_code) {\n",
       "                             nbb_cells[i].set_text(nbb_formatted_code);\n",
       "                        }\n",
       "                        break;\n",
       "                    }\n",
       "                }\n",
       "            }, 500);\n",
       "            "
      ],
      "text/plain": [
       "<IPython.core.display.Javascript object>"
      ]
     },
     "metadata": {},
     "output_type": "display_data"
    }
   ],
   "source": [
    "def plot_series_smooth(series, smooth, plot_series=False, **options):\n",
    "    \"\"\"Plots a series of data points and a smooth line.\n",
    "\n",
    "    series: pd.Series\n",
    "    color: string or tuple\n",
    "    \"\"\"\n",
    "    color = options.pop(\"color\", \"C0\")\n",
    "    if \"label\" not in options:\n",
    "        options[\"label\"] = series.name\n",
    "\n",
    "    x = series.index\n",
    "    y = series.values\n",
    "    if plot_series:\n",
    "        plt.plot(x, y, \"o\", color=color, alpha=0.5, label=\"_\")\n",
    "\n",
    "    if not plot_series and len(series) == 1:\n",
    "        plt.plot(x, y, \"o\", color=color, label=options[\"label\"])\n",
    "\n",
    "    if len(series) > 1:\n",
    "        smooth.plot(color=color, **options)"
   ]
  },
  {
   "cell_type": "code",
   "execution_count": 375,
   "id": "902f5567",
   "metadata": {
    "tags": []
   },
   "outputs": [
    {
     "data": {
      "application/javascript": [
       "\n",
       "            setTimeout(function() {\n",
       "                var nbb_cell_id = 375;\n",
       "                var nbb_unformatted_code = \"xlim = [1970.5, 2024.5]\\n\\n\\ndef plot_by_year(df, varname, yvalue):\\n    xtab = pd.crosstab(df[\\\"year\\\"], df[varname], normalize=\\\"index\\\")\\n    series = xtab[yvalue] * 100\\n    series.name = varname\\n\\n    weights = df.groupby(\\\"year\\\")[varname].count()\\n    weights /= weights.sum()\\n\\n    smooth = make_smooth(series, weights)\\n\\n    plot_series_smooth(series, smooth, plot_series=True, color=\\\"C0\\\", label=\\\"\\\")\\n\\n    decorate(\\n        xlabel=\\\"Year of survey\\\",\\n        xlim=xlim,\\n        ylim=ylim,\\n    )\\n    plot_titles(title, subtitle)\";\n",
       "                var nbb_formatted_code = \"xlim = [1970.5, 2024.5]\\n\\n\\ndef plot_by_year(df, varname, yvalue):\\n    xtab = pd.crosstab(df[\\\"year\\\"], df[varname], normalize=\\\"index\\\")\\n    series = xtab[yvalue] * 100\\n    series.name = varname\\n\\n    weights = df.groupby(\\\"year\\\")[varname].count()\\n    weights /= weights.sum()\\n\\n    smooth = make_smooth(series, weights)\\n\\n    plot_series_smooth(series, smooth, plot_series=True, color=\\\"C0\\\", label=\\\"\\\")\\n\\n    decorate(\\n        xlabel=\\\"Year of survey\\\",\\n        xlim=xlim,\\n        ylim=ylim,\\n    )\\n    plot_titles(title, subtitle)\";\n",
       "                var nbb_cells = Jupyter.notebook.get_cells();\n",
       "                for (var i = 0; i < nbb_cells.length; ++i) {\n",
       "                    if (nbb_cells[i].input_prompt_number == nbb_cell_id) {\n",
       "                        if (nbb_cells[i].get_text() == nbb_unformatted_code) {\n",
       "                             nbb_cells[i].set_text(nbb_formatted_code);\n",
       "                        }\n",
       "                        break;\n",
       "                    }\n",
       "                }\n",
       "            }, 500);\n",
       "            "
      ],
      "text/plain": [
       "<IPython.core.display.Javascript object>"
      ]
     },
     "metadata": {},
     "output_type": "display_data"
    }
   ],
   "source": [
    "xlim = [1970.5, 2024.5]\n",
    "\n",
    "\n",
    "def plot_by_year(df, varname, yvalue):\n",
    "    xtab = pd.crosstab(df[\"year\"], df[varname], normalize=\"index\")\n",
    "    series = xtab[yvalue] * 100\n",
    "    series.name = varname\n",
    "\n",
    "    weights = df.groupby(\"year\")[varname].count()\n",
    "    weights /= weights.sum()\n",
    "\n",
    "    smooth = make_smooth(series, weights)\n",
    "\n",
    "    plot_series_smooth(series, smooth, plot_series=True, color=\"C0\", label=\"\")\n",
    "\n",
    "    decorate(\n",
    "        xlabel=\"Year of survey\",\n",
    "        xlim=xlim,\n",
    "        ylim=ylim,\n",
    "    )\n",
    "    plot_titles(title, subtitle)"
   ]
  },
  {
   "cell_type": "code",
   "execution_count": 374,
   "id": "645baadd",
   "metadata": {},
   "outputs": [
    {
     "data": {
      "application/javascript": [
       "\n",
       "            setTimeout(function() {\n",
       "                var nbb_cell_id = 374;\n",
       "                var nbb_unformatted_code = \"def plot_by_cohort(group, varname, yvalue):\\n    xtab = pd.crosstab(group[\\\"cohort\\\"], group[varname], normalize=\\\"index\\\")\\n    series = xtab[yvalue] * 100\\n    series.name = varname\\n\\n    weights = group.groupby(\\\"cohort\\\")[varname].count()\\n    weights /= weights.sum()\\n\\n    smooth = make_smooth(series, weights)\\n\\n    plot_series_smooth(\\n        series,\\n        smooth,\\n        plot_series=True,\\n        color=\\\"C1\\\",\\n        ls=\\\"dashed\\\",\\n        label=\\\"\\\",\\n    )\\n\\n    decorate(\\n        xlabel=\\\"Year of birth\\\",\\n        ylim=ylim,\\n    )\\n    plot_titles(title, subtitle)\";\n",
       "                var nbb_formatted_code = \"def plot_by_cohort(group, varname, yvalue):\\n    xtab = pd.crosstab(group[\\\"cohort\\\"], group[varname], normalize=\\\"index\\\")\\n    series = xtab[yvalue] * 100\\n    series.name = varname\\n\\n    weights = group.groupby(\\\"cohort\\\")[varname].count()\\n    weights /= weights.sum()\\n\\n    smooth = make_smooth(series, weights)\\n\\n    plot_series_smooth(\\n        series,\\n        smooth,\\n        plot_series=True,\\n        color=\\\"C1\\\",\\n        ls=\\\"dashed\\\",\\n        label=\\\"\\\",\\n    )\\n\\n    decorate(\\n        xlabel=\\\"Year of birth\\\",\\n        ylim=ylim,\\n    )\\n    plot_titles(title, subtitle)\";\n",
       "                var nbb_cells = Jupyter.notebook.get_cells();\n",
       "                for (var i = 0; i < nbb_cells.length; ++i) {\n",
       "                    if (nbb_cells[i].input_prompt_number == nbb_cell_id) {\n",
       "                        if (nbb_cells[i].get_text() == nbb_unformatted_code) {\n",
       "                             nbb_cells[i].set_text(nbb_formatted_code);\n",
       "                        }\n",
       "                        break;\n",
       "                    }\n",
       "                }\n",
       "            }, 500);\n",
       "            "
      ],
      "text/plain": [
       "<IPython.core.display.Javascript object>"
      ]
     },
     "metadata": {},
     "output_type": "display_data"
    }
   ],
   "source": [
    "def plot_by_cohort(df, varname, yvalue):\n",
    "    xtab = pd.crosstab(df[\"cohort\"], df[varname], normalize=\"index\")\n",
    "    series = xtab[yvalue] * 100\n",
    "    series.name = varname\n",
    "\n",
    "    weights = df.groupby(\"cohort\")[varname].count()\n",
    "    weights /= weights.sum()\n",
    "\n",
    "    smooth = make_smooth(series, weights)\n",
    "\n",
    "    plot_series_smooth(\n",
    "        series,\n",
    "        smooth,\n",
    "        plot_series=True,\n",
    "        color=\"C1\",\n",
    "        ls=\"dashed\",\n",
    "        label=\"\",\n",
    "    )\n",
    "\n",
    "    decorate(\n",
    "        xlabel=\"Year of birth\",\n",
    "        ylim=ylim,\n",
    "    )\n",
    "    plot_titles(title, subtitle)"
   ]
  },
  {
   "cell_type": "code",
   "execution_count": 376,
   "id": "b4354465",
   "metadata": {},
   "outputs": [
    {
     "data": {
      "image/png": "[encoded data removed]",
      "text/plain": [
       "<Figure size 450x262.5 with 1 Axes>"
      ]
     },
     "metadata": {},
     "output_type": "display_data"
    },
    {
     "data": {
      "application/javascript": [
       "\n",
       "            setTimeout(function() {\n",
       "                var nbb_cell_id = 376;\n",
       "                var nbb_unformatted_code = \"plot_by_year(gss, varname, selected_value)\\nplt.savefig(f\\\"optimism_{varname}_by_year\\\", dpi=300)\";\n",
       "                var nbb_formatted_code = \"plot_by_year(gss, varname, selected_value)\\nplt.savefig(f\\\"optimism_{varname}_by_year\\\", dpi=300)\";\n",
       "                var nbb_cells = Jupyter.notebook.get_cells();\n",
       "                for (var i = 0; i < nbb_cells.length; ++i) {\n",
       "                    if (nbb_cells[i].input_prompt_number == nbb_cell_id) {\n",
       "                        if (nbb_cells[i].get_text() == nbb_unformatted_code) {\n",
       "                             nbb_cells[i].set_text(nbb_formatted_code);\n",
       "                        }\n",
       "                        break;\n",
       "                    }\n",
       "                }\n",
       "            }, 500);\n",
       "            "
      ],
      "text/plain": [
       "<IPython.core.display.Javascript object>"
      ]
     },
     "metadata": {},
     "output_type": "display_data"
    }
   ],
   "source": [
    "plot_by_year(gss, varname, selected_value)\n",
    "plt.savefig(f\"optimism_{varname}_by_year\", dpi=300)"
   ]
  },
  {
   "cell_type": "code",
   "execution_count": 377,
   "id": "d3f3dbc4",
   "metadata": {},
   "outputs": [
    {
     "data": {
      "image/png": "[encoded data removed]",
      "text/plain": [
       "<Figure size 450x262.5 with 1 Axes>"
      ]
     },
     "metadata": {},
     "output_type": "display_data"
    },
    {
     "data": {
      "application/javascript": [
       "\n",
       "            setTimeout(function() {\n",
       "                var nbb_cell_id = 377;\n",
       "                var nbb_unformatted_code = \"plot_by_cohort(gss, varname, selected_value)\\nplt.savefig(f\\\"optimism_{varname}_by_cohort\\\", dpi=300)\";\n",
       "                var nbb_formatted_code = \"plot_by_cohort(gss, varname, selected_value)\\nplt.savefig(f\\\"optimism_{varname}_by_cohort\\\", dpi=300)\";\n",
       "                var nbb_cells = Jupyter.notebook.get_cells();\n",
       "                for (var i = 0; i < nbb_cells.length; ++i) {\n",
       "                    if (nbb_cells[i].input_prompt_number == nbb_cell_id) {\n",
       "                        if (nbb_cells[i].get_text() == nbb_unformatted_code) {\n",
       "                             nbb_cells[i].set_text(nbb_formatted_code);\n",
       "                        }\n",
       "                        break;\n",
       "                    }\n",
       "                }\n",
       "            }, 500);\n",
       "            "
      ],
      "text/plain": [
       "<IPython.core.display.Javascript object>"
      ]
     },
     "metadata": {},
     "output_type": "display_data"
    }
   ],
   "source": [
    "plot_by_cohort(gss, varname, selected_value)\n",
    "plt.savefig(f\"optimism_{varname}_by_cohort\", dpi=300)"
   ]
  },
  {
   "cell_type": "code",
   "execution_count": 425,
   "id": "d72029d3",
   "metadata": {},
   "outputs": [
    {
     "data": {
      "application/javascript": [
       "\n",
       "            setTimeout(function() {\n",
       "                var nbb_cell_id = 425;\n",
       "                var nbb_unformatted_code = \"def make_table(df, xvarname, yvarname, gvarname, yvalue=None):\\n    \\\"\\\"\\\"Compute series of yvarname vs xvarname grouped by gvarname.\\n\\n    returns: map from group name to Series\\n    \\\"\\\"\\\"\\n    table = {}\\n    for name, group in df.groupby(gvarname):\\n        if len(group) < 500:\\n            continue\\n\\n        xtab = pd.crosstab(group[xvarname], group[yvarname], normalize=\\\"index\\\")\\n        series = xtab[yvalue] * 100\\n\\n        weights = group.groupby(xvarname)[varname].count()\\n        weights /= weights.sum()\\n\\n        smooth = make_smooth(series, weights)\\n\\n        table[name] = pd.DataFrame(\\n                dict(series=series, weights=weights, smooth=smooth)\\n            )\\n\\n    return table\";\n",
       "                var nbb_formatted_code = \"def make_table(df, xvarname, yvarname, gvarname, yvalue=None):\\n    \\\"\\\"\\\"Compute series of yvarname vs xvarname grouped by gvarname.\\n\\n    returns: map from group name to Series\\n    \\\"\\\"\\\"\\n    table = {}\\n    for name, group in df.groupby(gvarname):\\n        if len(group) < 500:\\n            continue\\n\\n        xtab = pd.crosstab(group[xvarname], group[yvarname], normalize=\\\"index\\\")\\n        series = xtab[yvalue] * 100\\n\\n        weights = group.groupby(xvarname)[varname].count()\\n        weights /= weights.sum()\\n\\n        smooth = make_smooth(series, weights)\\n\\n        table[name] = pd.DataFrame(dict(series=series, weights=weights, smooth=smooth))\\n\\n    return table\";\n",
       "                var nbb_cells = Jupyter.notebook.get_cells();\n",
       "                for (var i = 0; i < nbb_cells.length; ++i) {\n",
       "                    if (nbb_cells[i].input_prompt_number == nbb_cell_id) {\n",
       "                        if (nbb_cells[i].get_text() == nbb_unformatted_code) {\n",
       "                             nbb_cells[i].set_text(nbb_formatted_code);\n",
       "                        }\n",
       "                        break;\n",
       "                    }\n",
       "                }\n",
       "            }, 500);\n",
       "            "
      ],
      "text/plain": [
       "<IPython.core.display.Javascript object>"
      ]
     },
     "metadata": {},
     "output_type": "display_data"
    }
   ],
   "source": [
    "def make_table(df, xvarname, yvarname, gvarname, yvalue=None):\n",
    "    \"\"\"Compute series of yvarname vs xvarname grouped by gvarname.\n",
    "\n",
    "    returns: map from group name to Series\n",
    "    \"\"\"\n",
    "    table = {}\n",
    "    for name, group in df.groupby(gvarname):\n",
    "        if len(group) < 500:\n",
    "            continue\n",
    "\n",
    "        xtab = pd.crosstab(group[xvarname], group[yvarname], normalize=\"index\")\n",
    "        series = xtab[yvalue] * 100\n",
    "\n",
    "        weights = group.groupby(xvarname)[varname].count()\n",
    "        weights /= weights.sum()\n",
    "\n",
    "        smooth = make_smooth(series, weights)\n",
    "\n",
    "        table[name] = pd.DataFrame(dict(series=series, weights=weights, smooth=smooth))\n",
    "\n",
    "    return table"
   ]
  },
  {
   "cell_type": "code",
   "execution_count": 426,
   "id": "80d9a9ec",
   "metadata": {},
   "outputs": [
    {
     "data": {
      "application/javascript": [
       "\n",
       "            setTimeout(function() {\n",
       "                var nbb_cell_id = 426;\n",
       "                var nbb_unformatted_code = \"subset = gss.dropna(subset=[\\\"cohort\\\"]).copy()\\nsubset[\\\"cohort10\\\"] = subset[\\\"cohort10\\\"].astype(int)\\n\\ntable = make_table(subset, \\\"year\\\", varname, \\\"cohort10\\\", selected_value)\\ndel table[1890]\\ndel table[1900]\";\n",
       "                var nbb_formatted_code = \"subset = gss.dropna(subset=[\\\"cohort\\\"]).copy()\\nsubset[\\\"cohort10\\\"] = subset[\\\"cohort10\\\"].astype(int)\\n\\ntable = make_table(subset, \\\"year\\\", varname, \\\"cohort10\\\", selected_value)\\ndel table[1890]\\ndel table[1900]\";\n",
       "                var nbb_cells = Jupyter.notebook.get_cells();\n",
       "                for (var i = 0; i < nbb_cells.length; ++i) {\n",
       "                    if (nbb_cells[i].input_prompt_number == nbb_cell_id) {\n",
       "                        if (nbb_cells[i].get_text() == nbb_unformatted_code) {\n",
       "                             nbb_cells[i].set_text(nbb_formatted_code);\n",
       "                        }\n",
       "                        break;\n",
       "                    }\n",
       "                }\n",
       "            }, 500);\n",
       "            "
      ],
      "text/plain": [
       "<IPython.core.display.Javascript object>"
      ]
     },
     "metadata": {},
     "output_type": "display_data"
    }
   ],
   "source": [
    "subset = gss.dropna(subset=[\"cohort\"]).copy()\n",
    "subset[\"cohort10\"] = subset[\"cohort10\"].astype(int)\n",
    "\n",
    "table = make_table(subset, \"year\", varname, \"cohort10\", selected_value)\n",
    "del table[1890]\n",
    "del table[1900]"
   ]
  },
  {
   "cell_type": "code",
   "execution_count": 435,
   "id": "4079fbf6",
   "metadata": {},
   "outputs": [
    {
     "data": {
      "image/png": "[encoded data removed]",
      "text/plain": [
       "<Figure size 450x262.5 with 1 Axes>"
      ]
     },
     "metadata": {},
     "output_type": "display_data"
    },
    {
     "data": {
      "application/javascript": [
       "\n",
       "            setTimeout(function() {\n",
       "                var nbb_cell_id = 435;\n",
       "                var nbb_unformatted_code = \"df = table[1990]\\nplot_series_smooth(df[\\\"series\\\"], df[\\\"smooth\\\"], plot_series=True)\";\n",
       "                var nbb_formatted_code = \"df = table[1990]\\nplot_series_smooth(df[\\\"series\\\"], df[\\\"smooth\\\"], plot_series=True)\";\n",
       "                var nbb_cells = Jupyter.notebook.get_cells();\n",
       "                for (var i = 0; i < nbb_cells.length; ++i) {\n",
       "                    if (nbb_cells[i].input_prompt_number == nbb_cell_id) {\n",
       "                        if (nbb_cells[i].get_text() == nbb_unformatted_code) {\n",
       "                             nbb_cells[i].set_text(nbb_formatted_code);\n",
       "                        }\n",
       "                        break;\n",
       "                    }\n",
       "                }\n",
       "            }, 500);\n",
       "            "
      ],
      "text/plain": [
       "<IPython.core.display.Javascript object>"
      ]
     },
     "metadata": {},
     "output_type": "display_data"
    }
   ],
   "source": [
    "df = table[1990]\n",
    "plot_series_smooth(df[\"series\"], df[\"smooth\"], plot_series=True)"
   ]
  },
  {
   "cell_type": "code",
   "execution_count": 428,
   "id": "aba2bb61",
   "metadata": {
    "tags": []
   },
   "outputs": [
    {
     "data": {
      "image/png": "[encoded data removed]",
      "text/plain": [
       "<Figure size 450x262.5 with 1 Axes>"
      ]
     },
     "metadata": {},
     "output_type": "display_data"
    },
    {
     "data": {
      "application/javascript": [
       "\n",
       "            setTimeout(function() {\n",
       "                var nbb_cell_id = 428;\n",
       "                var nbb_unformatted_code = \"group = 1950\\nseries = table[group][\\\"series\\\"]\\nweights = table[group][\\\"weights\\\"]\\nsmooth = table[group][\\\"smooth\\\"]\\n\\nplot_series_smooth(\\n    series,\\n    smooth,\\n    plot_series=True,\\n    color=\\\"C2\\\",\\n    label=\\\"Born in the 1950s\\\",\\n)\\n\\nplot_titles(title, subtitle)\\ndecorate(xlabel=\\\"Year of survey\\\", ylim=ylim, loc=\\\"lower right\\\")\\nplt.savefig(f\\\"optimism_{varname}_one_cohort\\\", dpi=300)\";\n",
       "                var nbb_formatted_code = \"group = 1950\\nseries = table[group][\\\"series\\\"]\\nweights = table[group][\\\"weights\\\"]\\nsmooth = table[group][\\\"smooth\\\"]\\n\\nplot_series_smooth(\\n    series,\\n    smooth,\\n    plot_series=True,\\n    color=\\\"C2\\\",\\n    label=\\\"Born in the 1950s\\\",\\n)\\n\\nplot_titles(title, subtitle)\\ndecorate(xlabel=\\\"Year of survey\\\", ylim=ylim, loc=\\\"lower right\\\")\\nplt.savefig(f\\\"optimism_{varname}_one_cohort\\\", dpi=300)\";\n",
       "                var nbb_cells = Jupyter.notebook.get_cells();\n",
       "                for (var i = 0; i < nbb_cells.length; ++i) {\n",
       "                    if (nbb_cells[i].input_prompt_number == nbb_cell_id) {\n",
       "                        if (nbb_cells[i].get_text() == nbb_unformatted_code) {\n",
       "                             nbb_cells[i].set_text(nbb_formatted_code);\n",
       "                        }\n",
       "                        break;\n",
       "                    }\n",
       "                }\n",
       "            }, 500);\n",
       "            "
      ],
      "text/plain": [
       "<IPython.core.display.Javascript object>"
      ]
     },
     "metadata": {},
     "output_type": "display_data"
    }
   ],
   "source": [
    "group = 1950\n",
    "series = table[group][\"series\"]\n",
    "weights = table[group][\"weights\"]\n",
    "smooth = table[group][\"smooth\"]\n",
    "\n",
    "plot_series_smooth(\n",
    "    series,\n",
    "    smooth,\n",
    "    plot_series=True,\n",
    "    color=\"C2\",\n",
    "    label=\"Born in the 1950s\",\n",
    ")\n",
    "\n",
    "plot_titles(title, subtitle)\n",
    "decorate(xlabel=\"Year of survey\", ylim=ylim, loc=\"lower right\")\n",
    "plt.savefig(f\"optimism_{varname}_one_cohort\", dpi=300)"
   ]
  },
  {
   "cell_type": "code",
   "execution_count": 430,
   "id": "0fc03d4f",
   "metadata": {},
   "outputs": [
    {
     "data": {
      "application/javascript": [
       "\n",
       "            setTimeout(function() {\n",
       "                var nbb_cell_id = 430;\n",
       "                var nbb_unformatted_code = \"def label_table(table, nudge={}, frac=0.7, **options):\\n    \\\"\\\"\\\"Add direct labels for the lines in a table.\\n\\n    table: map from group name to DataFrame\\n    nudge: map from label to an offset in the y direction\\n    frac: parameter of make_lowess\\n    options: passed to plt.text\\n    \\\"\\\"\\\"\\n    underride(options, va=\\\"center\\\", alpha=0.8, fontsize=\\\"small\\\")\\n    for group in table:\\n        series = table[group][\\\"series\\\"]\\n        smooth = table[group][\\\"smooth\\\"]\\n        label = f\\\"{group}s\\\"\\n\\n        x = series.index[-1] + 0.5\\n        if len(series) > 1:\\n            y = smooth.iloc[-1]\\n        else:\\n            y = series.iloc[-1]\\n\\n        y += nudge.get(label, 0)\\n        plt.text(x, y, label, **options)\";\n",
       "                var nbb_formatted_code = \"def label_table(table, nudge={}, frac=0.7, **options):\\n    \\\"\\\"\\\"Add direct labels for the lines in a table.\\n\\n    table: map from group name to DataFrame\\n    nudge: map from label to an offset in the y direction\\n    frac: parameter of make_lowess\\n    options: passed to plt.text\\n    \\\"\\\"\\\"\\n    underride(options, va=\\\"center\\\", alpha=0.8, fontsize=\\\"small\\\")\\n    for group in table:\\n        series = table[group][\\\"series\\\"]\\n        smooth = table[group][\\\"smooth\\\"]\\n        label = f\\\"{group}s\\\"\\n\\n        x = series.index[-1] + 0.5\\n        if len(series) > 1:\\n            y = smooth.iloc[-1]\\n        else:\\n            y = series.iloc[-1]\\n\\n        y += nudge.get(label, 0)\\n        plt.text(x, y, label, **options)\";\n",
       "                var nbb_cells = Jupyter.notebook.get_cells();\n",
       "                for (var i = 0; i < nbb_cells.length; ++i) {\n",
       "                    if (nbb_cells[i].input_prompt_number == nbb_cell_id) {\n",
       "                        if (nbb_cells[i].get_text() == nbb_unformatted_code) {\n",
       "                             nbb_cells[i].set_text(nbb_formatted_code);\n",
       "                        }\n",
       "                        break;\n",
       "                    }\n",
       "                }\n",
       "            }, 500);\n",
       "            "
      ],
      "text/plain": [
       "<IPython.core.display.Javascript object>"
      ]
     },
     "metadata": {},
     "output_type": "display_data"
    }
   ],
   "source": [
    "def label_table(table, nudge={}, frac=0.7, **options):\n",
    "    \"\"\"Add direct labels for the lines in a table.\n",
    "\n",
    "    table: map from group name to DataFrame\n",
    "    nudge: map from label to an offset in the y direction\n",
    "    frac: parameter of make_lowess\n",
    "    options: passed to plt.text\n",
    "    \"\"\"\n",
    "    underride(options, va=\"center\", alpha=0.8, fontsize=\"small\")\n",
    "    for group in table:\n",
    "        series = table[group][\"series\"]\n",
    "        smooth = table[group][\"smooth\"]\n",
    "        label = f\"{group}s\"\n",
    "\n",
    "        x = series.index[-1] + 0.5\n",
    "        if len(series) > 1:\n",
    "            y = smooth.iloc[-1]\n",
    "        else:\n",
    "            y = series.iloc[-1]\n",
    "\n",
    "        y += nudge.get(label, 0)\n",
    "        plt.text(x, y, label, **options)"
   ]
  },
  {
   "cell_type": "code",
   "execution_count": 431,
   "id": "2931ec97",
   "metadata": {},
   "outputs": [
    {
     "data": {
      "application/javascript": [
       "\n",
       "            setTimeout(function() {\n",
       "                var nbb_cell_id = 431;\n",
       "                var nbb_unformatted_code = \"from utils import get_colors\\n\\n\\ndef visualize_table(table, weight_df, nudge={}, **options):\\n    \\\"\\\"\\\"Plot the results from make_table.\\n\\n    table: map from group name to Series\\n    weights: \\n    options: passed to plot\\n    \\\"\\\"\\\"\\n    palette = options.pop(\\\"palette\\\", \\\"Purples\\\")\\n    colors = get_colors(len(table), palette=palette)\\n\\n    for i, group in enumerate(table):\\n        series = table[group][\\\"series\\\"]\\n        weights = table[group][\\\"weights\\\"]\\n        smooth = make_smooth(series, weights)\\n\\n        label = f\\\"{series.name}s\\\"\\n        plot_series_smooth(\\n            series, smooth, plot_series=False, color=colors[i], label=label, **options\\n        )\\n    label_table(table, nudge)\\n\\n    plot_titles(title, subtitle)\\n    decorate(\\n        xlabel=\\\"Year of survey\\\",\\n        xlim=xlim,\\n        ylim=ylim,\\n        legend=False,\\n    )\";\n",
       "                var nbb_formatted_code = \"from utils import get_colors\\n\\n\\ndef visualize_table(table, weight_df, nudge={}, **options):\\n    \\\"\\\"\\\"Plot the results from make_table.\\n\\n    table: map from group name to Series\\n    weights:\\n    options: passed to plot\\n    \\\"\\\"\\\"\\n    palette = options.pop(\\\"palette\\\", \\\"Purples\\\")\\n    colors = get_colors(len(table), palette=palette)\\n\\n    for i, group in enumerate(table):\\n        series = table[group][\\\"series\\\"]\\n        weights = table[group][\\\"weights\\\"]\\n        smooth = make_smooth(series, weights)\\n\\n        label = f\\\"{series.name}s\\\"\\n        plot_series_smooth(\\n            series, smooth, plot_series=False, color=colors[i], label=label, **options\\n        )\\n    label_table(table, nudge)\\n\\n    plot_titles(title, subtitle)\\n    decorate(\\n        xlabel=\\\"Year of survey\\\",\\n        xlim=xlim,\\n        ylim=ylim,\\n        legend=False,\\n    )\";\n",
       "                var nbb_cells = Jupyter.notebook.get_cells();\n",
       "                for (var i = 0; i < nbb_cells.length; ++i) {\n",
       "                    if (nbb_cells[i].input_prompt_number == nbb_cell_id) {\n",
       "                        if (nbb_cells[i].get_text() == nbb_unformatted_code) {\n",
       "                             nbb_cells[i].set_text(nbb_formatted_code);\n",
       "                        }\n",
       "                        break;\n",
       "                    }\n",
       "                }\n",
       "            }, 500);\n",
       "            "
      ],
      "text/plain": [
       "<IPython.core.display.Javascript object>"
      ]
     },
     "metadata": {},
     "output_type": "display_data"
    }
   ],
   "source": [
    "from utils import get_colors\n",
    "\n",
    "\n",
    "def visualize_table(table, weight_df, nudge={}, **options):\n",
    "    \"\"\"Plot the results from make_table.\n",
    "\n",
    "    table: map from group name to Series\n",
    "    weights: \n",
    "    options: passed to plot\n",
    "    \"\"\"\n",
    "    palette = options.pop(\"palette\", \"Purples\")\n",
    "    colors = get_colors(len(table), palette=palette)\n",
    "\n",
    "    for i, group in enumerate(table):\n",
    "        series = table[group][\"series\"]\n",
    "        weights = table[group][\"weights\"]\n",
    "        smooth = make_smooth(series, weights)\n",
    "\n",
    "        label = f\"{series.name}s\"\n",
    "        plot_series_smooth(\n",
    "            series, smooth, plot_series=False, color=colors[i], label=label, **options\n",
    "        )\n",
    "    label_table(table, nudge)\n",
    "\n",
    "    plot_titles(title, subtitle)\n",
    "    decorate(\n",
    "        xlabel=\"Year of survey\",\n",
    "        xlim=xlim,\n",
    "        ylim=ylim,\n",
    "        legend=False,\n",
    "    )\n"
   ]
  },
  {
   "cell_type": "code",
   "execution_count": 432,
   "id": "6c07fec9",
   "metadata": {
    "tags": []
   },
   "outputs": [
    {
     "data": {
      "image/png": "[encoded data removed]",
      "text/plain": [
       "<Figure size 450x262.5 with 1 Axes>"
      ]
     },
     "metadata": {},
     "output_type": "display_data"
    },
    {
     "data": {
      "application/javascript": [
       "\n",
       "            setTimeout(function() {\n",
       "                var nbb_cell_id = 432;\n",
       "                var nbb_unformatted_code = \"nudge = {\\\"1950s\\\": 0.5, \\\"1960s\\\": -1.8, \\\"1970s\\\": -0.5, \\\"1980s\\\": -1.5, \\\"1990s\\\": 1.6}\\nnudge = {\\\"1950s\\\": 0, \\\"1960s\\\": 0, \\\"1970s\\\": 0, \\\"1980s\\\": 0, \\\"1990s\\\": 0}\\nvisualize_table(table, weight_df, nudge)\\nplt.savefig(f\\\"optimism_{varname}_by_cohort_over_year\\\", dpi=300)\";\n",
       "                var nbb_formatted_code = \"nudge = {\\\"1950s\\\": 0.5, \\\"1960s\\\": -1.8, \\\"1970s\\\": -0.5, \\\"1980s\\\": -1.5, \\\"1990s\\\": 1.6}\\nnudge = {\\\"1950s\\\": 0, \\\"1960s\\\": 0, \\\"1970s\\\": 0, \\\"1980s\\\": 0, \\\"1990s\\\": 0}\\nvisualize_table(table, weight_df, nudge)\\nplt.savefig(f\\\"optimism_{varname}_by_cohort_over_year\\\", dpi=300)\";\n",
       "                var nbb_cells = Jupyter.notebook.get_cells();\n",
       "                for (var i = 0; i < nbb_cells.length; ++i) {\n",
       "                    if (nbb_cells[i].input_prompt_number == nbb_cell_id) {\n",
       "                        if (nbb_cells[i].get_text() == nbb_unformatted_code) {\n",
       "                             nbb_cells[i].set_text(nbb_formatted_code);\n",
       "                        }\n",
       "                        break;\n",
       "                    }\n",
       "                }\n",
       "            }, 500);\n",
       "            "
      ],
      "text/plain": [
       "<IPython.core.display.Javascript object>"
      ]
     },
     "metadata": {},
     "output_type": "display_data"
    }
   ],
   "source": [
    "nudge = {\"1950s\": 0.5, \"1960s\": -1.8, \"1970s\": -0.5, \"1980s\": -1.5, \"1990s\": 1.6}\n",
    "nudge = {\"1950s\": 0, \"1960s\": 0, \"1970s\": 0, \"1980s\": 0, \"1990s\": 0}\n",
    "visualize_table(table, weight_df, nudge)\n",
    "plt.savefig(f\"optimism_{varname}_by_cohort_over_year\", dpi=300)"
   ]
  },
  {
   "cell_type": "markdown",
   "id": "55869c2c",
   "metadata": {},
   "source": [
    "## explore..."
   ]
  },
  {
   "cell_type": "code",
   "execution_count": 47,
   "id": "b0f1f955",
   "metadata": {
    "tags": []
   },
   "outputs": [
    {
     "data": {
      "application/javascript": [
       "\n",
       "            setTimeout(function() {\n",
       "                var nbb_cell_id = 47;\n",
       "                var nbb_unformatted_code = \"question = \\\"\\\"\\\"\\n\\\"\\\"\\\"\\n\\ntitle = \\\"\\\"\\nsubtitle = \\\"Percent saying\\\"\\nylim = [10, 45]\";\n",
       "                var nbb_formatted_code = \"question = \\\"\\\"\\\"\\n\\\"\\\"\\\"\\n\\ntitle = \\\"\\\"\\nsubtitle = \\\"Percent saying\\\"\\nylim = [10, 45]\";\n",
       "                var nbb_cells = Jupyter.notebook.get_cells();\n",
       "                for (var i = 0; i < nbb_cells.length; ++i) {\n",
       "                    if (nbb_cells[i].input_prompt_number == nbb_cell_id) {\n",
       "                        if (nbb_cells[i].get_text() == nbb_unformatted_code) {\n",
       "                             nbb_cells[i].set_text(nbb_formatted_code);\n",
       "                        }\n",
       "                        break;\n",
       "                    }\n",
       "                }\n",
       "            }, 500);\n",
       "            "
      ],
      "text/plain": [
       "<IPython.core.display.Javascript object>"
      ]
     },
     "metadata": {},
     "output_type": "display_data"
    }
   ],
   "source": [
    "question = \"\"\"\n",
    "\"\"\"\n",
    "\n",
    "title = \"\"\n",
    "subtitle = \"Percent saying\"\n",
    "ylim = [10, 45]"
   ]
  },
  {
   "cell_type": "code",
   "execution_count": 48,
   "id": "554d8677",
   "metadata": {
    "tags": []
   },
   "outputs": [
    {
     "data": {
      "application/javascript": [
       "\n",
       "            setTimeout(function() {\n",
       "                var nbb_cell_id = 48;\n",
       "                var nbb_unformatted_code = \"# https://gssdataexplorer.norc.org/variables/437/vshow\\n\\n# 1 =\\n# 2 =\\n# 3 =\";\n",
       "                var nbb_formatted_code = \"# https://gssdataexplorer.norc.org/variables/437/vshow\\n\\n# 1 =\\n# 2 =\\n# 3 =\";\n",
       "                var nbb_cells = Jupyter.notebook.get_cells();\n",
       "                for (var i = 0; i < nbb_cells.length; ++i) {\n",
       "                    if (nbb_cells[i].input_prompt_number == nbb_cell_id) {\n",
       "                        if (nbb_cells[i].get_text() == nbb_unformatted_code) {\n",
       "                             nbb_cells[i].set_text(nbb_formatted_code);\n",
       "                        }\n",
       "                        break;\n",
       "                    }\n",
       "                }\n",
       "            }, 500);\n",
       "            "
      ],
      "text/plain": [
       "<IPython.core.display.Javascript object>"
      ]
     },
     "metadata": {},
     "output_type": "display_data"
    }
   ],
   "source": [
    "# https://gssdataexplorer.norc.org/variables/437/vshow\n",
    "\n",
    "# 1 =\n",
    "# 2 =\n",
    "# 3 ="
   ]
  },
  {
   "cell_type": "code",
   "execution_count": 49,
   "id": "5fe5fe17",
   "metadata": {},
   "outputs": [
    {
     "data": {
      "text/plain": [
       "conclerg\n",
       "2.0    24416\n",
       "1.0    12476\n",
       "3.0    10475\n",
       "Name: count, dtype: int64"
      ]
     },
     "execution_count": 49,
     "metadata": {},
     "output_type": "execute_result"
    },
    {
     "data": {
      "application/javascript": [
       "\n",
       "            setTimeout(function() {\n",
       "                var nbb_cell_id = 49;\n",
       "                var nbb_unformatted_code = \"varname = \\\"conclerg\\\"\\nselected_value = 1\\n\\nseries = gss[varname]\\nseries.value_counts()\";\n",
       "                var nbb_formatted_code = \"varname = \\\"conclerg\\\"\\nselected_value = 1\\n\\nseries = gss[varname]\\nseries.value_counts()\";\n",
       "                var nbb_cells = Jupyter.notebook.get_cells();\n",
       "                for (var i = 0; i < nbb_cells.length; ++i) {\n",
       "                    if (nbb_cells[i].input_prompt_number == nbb_cell_id) {\n",
       "                        if (nbb_cells[i].get_text() == nbb_unformatted_code) {\n",
       "                             nbb_cells[i].set_text(nbb_formatted_code);\n",
       "                        }\n",
       "                        break;\n",
       "                    }\n",
       "                }\n",
       "            }, 500);\n",
       "            "
      ],
      "text/plain": [
       "<IPython.core.display.Javascript object>"
      ]
     },
     "metadata": {},
     "output_type": "display_data"
    }
   ],
   "source": [
    "varname = \"conclerg\"\n",
    "selected_value = 1\n",
    "\n",
    "series = gss[varname]\n",
    "series.value_counts()"
   ]
  },
  {
   "cell_type": "code",
   "execution_count": 50,
   "id": "8967ca95",
   "metadata": {},
   "outputs": [
    {
     "data": {
      "image/png": "[encoded data removed]",
      "text/plain": [
       "<Figure size 450x262.5 with 1 Axes>"
      ]
     },
     "metadata": {},
     "output_type": "display_data"
    },
    {
     "data": {
      "application/javascript": [
       "\n",
       "            setTimeout(function() {\n",
       "                var nbb_cell_id = 50;\n",
       "                var nbb_unformatted_code = \"plot_by_year(varname, selected_value)\\nplt.savefig(f\\\"optimism_{varname}_by_year\\\", dpi=300)\";\n",
       "                var nbb_formatted_code = \"plot_by_year(varname, selected_value)\\nplt.savefig(f\\\"optimism_{varname}_by_year\\\", dpi=300)\";\n",
       "                var nbb_cells = Jupyter.notebook.get_cells();\n",
       "                for (var i = 0; i < nbb_cells.length; ++i) {\n",
       "                    if (nbb_cells[i].input_prompt_number == nbb_cell_id) {\n",
       "                        if (nbb_cells[i].get_text() == nbb_unformatted_code) {\n",
       "                             nbb_cells[i].set_text(nbb_formatted_code);\n",
       "                        }\n",
       "                        break;\n",
       "                    }\n",
       "                }\n",
       "            }, 500);\n",
       "            "
      ],
      "text/plain": [
       "<IPython.core.display.Javascript object>"
      ]
     },
     "metadata": {},
     "output_type": "display_data"
    }
   ],
   "source": [
    "plot_by_year(varname, selected_value)\n",
    "plt.savefig(f\"optimism_{varname}_by_year\", dpi=300)"
   ]
  },
  {
   "cell_type": "code",
   "execution_count": 51,
   "id": "329a5900",
   "metadata": {},
   "outputs": [
    {
     "data": {
      "image/png": "[encoded data removed]",
      "text/plain": [
       "<Figure size 450x262.5 with 1 Axes>"
      ]
     },
     "metadata": {},
     "output_type": "display_data"
    },
    {
     "data": {
      "application/javascript": [
       "\n",
       "            setTimeout(function() {\n",
       "                var nbb_cell_id = 51;\n",
       "                var nbb_unformatted_code = \"plot_by_cohort(varname, selected_value)\\nplt.savefig(f\\\"optimism_{varname}_by_cohort\\\", dpi=300)\";\n",
       "                var nbb_formatted_code = \"plot_by_cohort(varname, selected_value)\\nplt.savefig(f\\\"optimism_{varname}_by_cohort\\\", dpi=300)\";\n",
       "                var nbb_cells = Jupyter.notebook.get_cells();\n",
       "                for (var i = 0; i < nbb_cells.length; ++i) {\n",
       "                    if (nbb_cells[i].input_prompt_number == nbb_cell_id) {\n",
       "                        if (nbb_cells[i].get_text() == nbb_unformatted_code) {\n",
       "                             nbb_cells[i].set_text(nbb_formatted_code);\n",
       "                        }\n",
       "                        break;\n",
       "                    }\n",
       "                }\n",
       "            }, 500);\n",
       "            "
      ],
      "text/plain": [
       "<IPython.core.display.Javascript object>"
      ]
     },
     "metadata": {},
     "output_type": "display_data"
    }
   ],
   "source": [
    "plot_by_cohort(varname, selected_value)\n",
    "plt.savefig(f\"optimism_{varname}_by_cohort\", dpi=300)"
   ]
  },
  {
   "cell_type": "code",
   "execution_count": 52,
   "id": "f6e49bbc",
   "metadata": {
    "tags": []
   },
   "outputs": [
    {
     "data": {
      "application/javascript": [
       "\n",
       "            setTimeout(function() {\n",
       "                var nbb_cell_id = 52;\n",
       "                var nbb_unformatted_code = \"from utils import make_table\\n\\nsubset = gss.dropna(subset=[\\\"cohort\\\"]).copy()\\nsubset[\\\"cohort10\\\"] = subset[\\\"cohort10\\\"].astype(int)\\n\\ntable = make_table(subset, \\\"year\\\", varname, \\\"cohort10\\\", selected_value)\\ndel table[1890]\\ndel table[1900]\";\n",
       "                var nbb_formatted_code = \"from utils import make_table\\n\\nsubset = gss.dropna(subset=[\\\"cohort\\\"]).copy()\\nsubset[\\\"cohort10\\\"] = subset[\\\"cohort10\\\"].astype(int)\\n\\ntable = make_table(subset, \\\"year\\\", varname, \\\"cohort10\\\", selected_value)\\ndel table[1890]\\ndel table[1900]\";\n",
       "                var nbb_cells = Jupyter.notebook.get_cells();\n",
       "                for (var i = 0; i < nbb_cells.length; ++i) {\n",
       "                    if (nbb_cells[i].input_prompt_number == nbb_cell_id) {\n",
       "                        if (nbb_cells[i].get_text() == nbb_unformatted_code) {\n",
       "                             nbb_cells[i].set_text(nbb_formatted_code);\n",
       "                        }\n",
       "                        break;\n",
       "                    }\n",
       "                }\n",
       "            }, 500);\n",
       "            "
      ],
      "text/plain": [
       "<IPython.core.display.Javascript object>"
      ]
     },
     "metadata": {},
     "output_type": "display_data"
    }
   ],
   "source": [
    "from utils import make_table\n",
    "\n",
    "subset = gss.dropna(subset=[\"cohort\"]).copy()\n",
    "subset[\"cohort10\"] = subset[\"cohort10\"].astype(int)\n",
    "\n",
    "table = make_table(subset, \"year\", varname, \"cohort10\", selected_value)\n",
    "del table[1890]\n",
    "del table[1900]"
   ]
  },
  {
   "cell_type": "code",
   "execution_count": 53,
   "id": "d7ef49aa",
   "metadata": {
    "tags": []
   },
   "outputs": [
    {
     "data": {
      "image/png": "[encoded data removed]",
      "text/plain": [
       "<Figure size 450x262.5 with 1 Axes>"
      ]
     },
     "metadata": {},
     "output_type": "display_data"
    },
    {
     "data": {
      "application/javascript": [
       "\n",
       "            setTimeout(function() {\n",
       "                var nbb_cell_id = 53;\n",
       "                var nbb_unformatted_code = \"plot_series_lowess(table[1950], plot_series=True, color=\\\"C2\\\", label=\\\"Born in the 1950s\\\")\\n\\nplot_titles(title, subtitle)\\ndecorate(xlabel=\\\"Year of survey\\\", ylim=ylim, loc=\\\"lower right\\\")\\nplt.savefig(f\\\"optimism_{varname}_one_cohort\\\", dpi=300)\";\n",
       "                var nbb_formatted_code = \"plot_series_lowess(table[1950], plot_series=True, color=\\\"C2\\\", label=\\\"Born in the 1950s\\\")\\n\\nplot_titles(title, subtitle)\\ndecorate(xlabel=\\\"Year of survey\\\", ylim=ylim, loc=\\\"lower right\\\")\\nplt.savefig(f\\\"optimism_{varname}_one_cohort\\\", dpi=300)\";\n",
       "                var nbb_cells = Jupyter.notebook.get_cells();\n",
       "                for (var i = 0; i < nbb_cells.length; ++i) {\n",
       "                    if (nbb_cells[i].input_prompt_number == nbb_cell_id) {\n",
       "                        if (nbb_cells[i].get_text() == nbb_unformatted_code) {\n",
       "                             nbb_cells[i].set_text(nbb_formatted_code);\n",
       "                        }\n",
       "                        break;\n",
       "                    }\n",
       "                }\n",
       "            }, 500);\n",
       "            "
      ],
      "text/plain": [
       "<IPython.core.display.Javascript object>"
      ]
     },
     "metadata": {},
     "output_type": "display_data"
    }
   ],
   "source": [
    "plot_series_smooth(table[1950], plot_series=True, color=\"C2\", label=\"Born in the 1950s\")\n",
    "\n",
    "plot_titles(title, subtitle)\n",
    "decorate(xlabel=\"Year of survey\", ylim=ylim, loc=\"lower right\")\n",
    "plt.savefig(f\"optimism_{varname}_one_cohort\", dpi=300)"
   ]
  },
  {
   "cell_type": "code",
   "execution_count": 54,
   "id": "929f3df8",
   "metadata": {
    "tags": []
   },
   "outputs": [
    {
     "data": {
      "image/png": "[encoded data removed]",
      "text/plain": [
       "<Figure size 450x262.5 with 1 Axes>"
      ]
     },
     "metadata": {},
     "output_type": "display_data"
    },
    {
     "data": {
      "application/javascript": [
       "\n",
       "            setTimeout(function() {\n",
       "                var nbb_cell_id = 54;\n",
       "                var nbb_unformatted_code = \"nudge = {\\\"1950s\\\": 0, \\\"1960s\\\": 0, \\\"1970s\\\": 0, \\\"1980s\\\": 0, \\\"1990s\\\": 0}\\nvisualize_table(table, nudge)\\nplt.savefig(f\\\"optimism_{varname}_by_cohort_over_year\\\", dpi=300)\";\n",
       "                var nbb_formatted_code = \"nudge = {\\\"1950s\\\": 0, \\\"1960s\\\": 0, \\\"1970s\\\": 0, \\\"1980s\\\": 0, \\\"1990s\\\": 0}\\nvisualize_table(table, nudge)\\nplt.savefig(f\\\"optimism_{varname}_by_cohort_over_year\\\", dpi=300)\";\n",
       "                var nbb_cells = Jupyter.notebook.get_cells();\n",
       "                for (var i = 0; i < nbb_cells.length; ++i) {\n",
       "                    if (nbb_cells[i].input_prompt_number == nbb_cell_id) {\n",
       "                        if (nbb_cells[i].get_text() == nbb_unformatted_code) {\n",
       "                             nbb_cells[i].set_text(nbb_formatted_code);\n",
       "                        }\n",
       "                        break;\n",
       "                    }\n",
       "                }\n",
       "            }, 500);\n",
       "            "
      ],
      "text/plain": [
       "<IPython.core.display.Javascript object>"
      ]
     },
     "metadata": {},
     "output_type": "display_data"
    }
   ],
   "source": [
    "nudge = {\"1950s\": 0, \"1960s\": 0, \"1970s\": 0, \"1980s\": 0, \"1990s\": 0}\n",
    "visualize_table(table, nudge)\n",
    "plt.savefig(f\"optimism_{varname}_by_cohort_over_year\", dpi=300)"
   ]
  },
  {
   "cell_type": "markdown",
   "id": "15c26b32",
   "metadata": {
    "tags": []
   },
   "source": [
    "Copyright 2024 Allen Downey \n",
    "\n",
    "The code in this notebook and `utils.py` is under the [MIT license](https://mit-license.org/)."
   ]
  },
  {
   "cell_type": "code",
   "execution_count": null,
   "id": "106e499f",
   "metadata": {},
   "outputs": [],
   "source": []
  }
 ],
 "metadata": {
  "celltoolbar": "Tags",
  "kernelspec": {
   "display_name": "Python 3 (ipykernel)",
   "language": "python",
   "name": "python3"
  },
  "language_info": {
   "codemirror_mode": {
    "name": "ipython",
    "version": 3
   },
   "file_extension": ".py",
   "mimetype": "text/x-python",
   "name": "python",
   "nbconvert_exporter": "python",
   "pygments_lexer": "ipython3",
   "version": "3.10.12"
  }
 },
 "nbformat": 4,
 "nbformat_minor": 5
}
