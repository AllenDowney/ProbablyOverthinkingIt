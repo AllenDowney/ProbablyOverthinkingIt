{
 "cells": [
  {
   "cell_type": "markdown",
   "id": "4a54069c",
   "metadata": {
    "tags": []
   },
   "source": [
    "# Old Optimists, Young Pessimists"
   ]
  },
  {
   "cell_type": "markdown",
   "id": "c46810ae",
   "metadata": {
    "tags": [
     "remove-cell"
    ]
   },
   "source": [
    "This example is based no Chapter 10 of *[Probably Overthinking It: How to Use Data to Answer Questions, Avoid Statistical Traps, and Make Better Decisions](https://greenteapress.com/wp/probably-overthinking-it)*, University of Chicago Press, 2023."
   ]
  },
  {
   "cell_type": "code",
   "execution_count": 1,
   "id": "ffee87fa",
   "metadata": {},
   "outputs": [
    {
     "data": {
      "application/javascript": [
       "\n",
       "            setTimeout(function() {\n",
       "                var nbb_cell_id = 1;\n",
       "                var nbb_unformatted_code = \"%load_ext nb_black\\n%load_ext autoreload\\n%autoreload 2\";\n",
       "                var nbb_formatted_code = \"%load_ext nb_black\\n%load_ext autoreload\\n%autoreload 2\";\n",
       "                var nbb_cells = Jupyter.notebook.get_cells();\n",
       "                for (var i = 0; i < nbb_cells.length; ++i) {\n",
       "                    if (nbb_cells[i].input_prompt_number == nbb_cell_id) {\n",
       "                        if (nbb_cells[i].get_text() == nbb_unformatted_code) {\n",
       "                             nbb_cells[i].set_text(nbb_formatted_code);\n",
       "                        }\n",
       "                        break;\n",
       "                    }\n",
       "                }\n",
       "            }, 500);\n",
       "            "
      ],
      "text/plain": [
       "<IPython.core.display.Javascript object>"
      ]
     },
     "metadata": {},
     "output_type": "display_data"
    }
   ],
   "source": [
    "%load_ext nb_black\n",
    "%load_ext autoreload\n",
    "%autoreload 2"
   ]
  },
  {
   "cell_type": "code",
   "execution_count": 2,
   "id": "da5ed279",
   "metadata": {
    "tags": [
     "hide-cell"
    ]
   },
   "outputs": [
    {
     "data": {
      "application/javascript": [
       "\n",
       "            setTimeout(function() {\n",
       "                var nbb_cell_id = 2;\n",
       "                var nbb_unformatted_code = \"# Install empiricaldist if we don't already have it\\n\\ntry:\\n    import empiricaldist\\nexcept ImportError:\\n    !pip install empiricaldist\";\n",
       "                var nbb_formatted_code = \"# Install empiricaldist if we don't already have it\\n\\ntry:\\n    import empiricaldist\\nexcept ImportError:\\n    !pip install empiricaldist\";\n",
       "                var nbb_cells = Jupyter.notebook.get_cells();\n",
       "                for (var i = 0; i < nbb_cells.length; ++i) {\n",
       "                    if (nbb_cells[i].input_prompt_number == nbb_cell_id) {\n",
       "                        if (nbb_cells[i].get_text() == nbb_unformatted_code) {\n",
       "                             nbb_cells[i].set_text(nbb_formatted_code);\n",
       "                        }\n",
       "                        break;\n",
       "                    }\n",
       "                }\n",
       "            }, 500);\n",
       "            "
      ],
      "text/plain": [
       "<IPython.core.display.Javascript object>"
      ]
     },
     "metadata": {},
     "output_type": "display_data"
    }
   ],
   "source": [
    "# Install empiricaldist if we don't already have it\n",
    "\n",
    "try:\n",
    "    import empiricaldist\n",
    "except ImportError:\n",
    "    !pip install empiricaldist"
   ]
  },
  {
   "cell_type": "code",
   "execution_count": 3,
   "id": "87cab00c",
   "metadata": {
    "tags": [
     "hide-cell"
    ]
   },
   "outputs": [
    {
     "data": {
      "application/javascript": [
       "\n",
       "            setTimeout(function() {\n",
       "                var nbb_cell_id = 3;\n",
       "                var nbb_unformatted_code = \"# download utils.py\\n\\nfrom os.path import basename, exists\\n\\n\\ndef download(url):\\n    filename = basename(url)\\n    if not exists(filename):\\n        from urllib.request import urlretrieve\\n\\n        local, _ = urlretrieve(url, filename)\\n        print(\\\"Downloaded \\\" + local)\\n\\n\\ndownload(\\n    \\\"https://github.com/AllenDowney/ProbablyOverthinkingIt/raw/book/notebooks/utils.py\\\"\\n)\";\n",
       "                var nbb_formatted_code = \"# download utils.py\\n\\nfrom os.path import basename, exists\\n\\n\\ndef download(url):\\n    filename = basename(url)\\n    if not exists(filename):\\n        from urllib.request import urlretrieve\\n\\n        local, _ = urlretrieve(url, filename)\\n        print(\\\"Downloaded \\\" + local)\\n\\n\\ndownload(\\n    \\\"https://github.com/AllenDowney/ProbablyOverthinkingIt/raw/book/notebooks/utils.py\\\"\\n)\";\n",
       "                var nbb_cells = Jupyter.notebook.get_cells();\n",
       "                for (var i = 0; i < nbb_cells.length; ++i) {\n",
       "                    if (nbb_cells[i].input_prompt_number == nbb_cell_id) {\n",
       "                        if (nbb_cells[i].get_text() == nbb_unformatted_code) {\n",
       "                             nbb_cells[i].set_text(nbb_formatted_code);\n",
       "                        }\n",
       "                        break;\n",
       "                    }\n",
       "                }\n",
       "            }, 500);\n",
       "            "
      ],
      "text/plain": [
       "<IPython.core.display.Javascript object>"
      ]
     },
     "metadata": {},
     "output_type": "display_data"
    }
   ],
   "source": [
    "# download utils.py\n",
    "\n",
    "from os.path import basename, exists\n",
    "\n",
    "\n",
    "def download(url):\n",
    "    filename = basename(url)\n",
    "    if not exists(filename):\n",
    "        from urllib.request import urlretrieve\n",
    "\n",
    "        local, _ = urlretrieve(url, filename)\n",
    "        print(\"Downloaded \" + local)\n",
    "\n",
    "\n",
    "download(\n",
    "    \"https://github.com/AllenDowney/ProbablyOverthinkingIt/raw/book/notebooks/utils.py\"\n",
    ")"
   ]
  },
  {
   "cell_type": "code",
   "execution_count": 4,
   "id": "81d5b707",
   "metadata": {
    "tags": [
     "hide-cell"
    ]
   },
   "outputs": [
    {
     "data": {
      "application/javascript": [
       "\n",
       "            setTimeout(function() {\n",
       "                var nbb_cell_id = 4;\n",
       "                var nbb_unformatted_code = \"import pandas as pd\\nimport numpy as np\\nimport matplotlib.pyplot as plt\\nimport seaborn as sns\\n\\nfrom utils import decorate\\n\\n# Set the random seed so we get the same results every time\\nnp.random.seed(17)\";\n",
       "                var nbb_formatted_code = \"import pandas as pd\\nimport numpy as np\\nimport matplotlib.pyplot as plt\\nimport seaborn as sns\\n\\nfrom utils import decorate\\n\\n# Set the random seed so we get the same results every time\\nnp.random.seed(17)\";\n",
       "                var nbb_cells = Jupyter.notebook.get_cells();\n",
       "                for (var i = 0; i < nbb_cells.length; ++i) {\n",
       "                    if (nbb_cells[i].input_prompt_number == nbb_cell_id) {\n",
       "                        if (nbb_cells[i].get_text() == nbb_unformatted_code) {\n",
       "                             nbb_cells[i].set_text(nbb_formatted_code);\n",
       "                        }\n",
       "                        break;\n",
       "                    }\n",
       "                }\n",
       "            }, 500);\n",
       "            "
      ],
      "text/plain": [
       "<IPython.core.display.Javascript object>"
      ]
     },
     "metadata": {},
     "output_type": "display_data"
    }
   ],
   "source": [
    "import pandas as pd\n",
    "import numpy as np\n",
    "import matplotlib.pyplot as plt\n",
    "import seaborn as sns\n",
    "\n",
    "from utils import decorate\n",
    "\n",
    "# Set the random seed so we get the same results every time\n",
    "np.random.seed(17)"
   ]
  },
  {
   "cell_type": "code",
   "execution_count": 5,
   "id": "9ec45259",
   "metadata": {},
   "outputs": [
    {
     "data": {
      "application/javascript": [
       "\n",
       "            setTimeout(function() {\n",
       "                var nbb_cell_id = 5;\n",
       "                var nbb_unformatted_code = \"plt.rcParams[\\\"figure.dpi\\\"] = 75\\nplt.rcParams[\\\"figure.figsize\\\"] = [6, 3.5]\\n\\nplt.rcParams[\\\"axes.titlesize\\\"] = \\\"medium\\\"\\n\\nplt.rcParams[\\\"font.size\\\"] = 12\\n\\nplt.rcParams[\\\"lines.linewidth\\\"] = 1.5\\n\\nplt.rcParams[\\\"axes.titlelocation\\\"] = \\\"left\\\"\\nplt.rcParams[\\\"axes.spines.top\\\"] = False\\nplt.rcParams[\\\"axes.spines.bottom\\\"] = False\\nplt.rcParams[\\\"axes.spines.left\\\"] = False\\nplt.rcParams[\\\"axes.spines.right\\\"] = False\\n\\nplt.rcParams[\\\"xtick.top\\\"] = False\\nplt.rcParams[\\\"xtick.bottom\\\"] = False\\nplt.rcParams[\\\"ytick.left\\\"] = False\\nplt.rcParams[\\\"ytick.right\\\"] = False\\n\\nplt.rcParams[\\\"legend.frameon\\\"] = True\\nplt.rcParams[\\\"legend.framealpha\\\"] = 0.4\\nplt.rcParams[\\\"legend.facecolor\\\"] = \\\"none\\\"\\nplt.rcParams[\\\"legend.edgecolor\\\"] = \\\"0.8\\\"\\n\\nplt.rcParams[\\\"lines.markersize\\\"] = 5\\nplt.rcParams[\\\"lines.markeredgewidth\\\"] = 0\";\n",
       "                var nbb_formatted_code = \"plt.rcParams[\\\"figure.dpi\\\"] = 75\\nplt.rcParams[\\\"figure.figsize\\\"] = [6, 3.5]\\n\\nplt.rcParams[\\\"axes.titlesize\\\"] = \\\"medium\\\"\\n\\nplt.rcParams[\\\"font.size\\\"] = 12\\n\\nplt.rcParams[\\\"lines.linewidth\\\"] = 1.5\\n\\nplt.rcParams[\\\"axes.titlelocation\\\"] = \\\"left\\\"\\nplt.rcParams[\\\"axes.spines.top\\\"] = False\\nplt.rcParams[\\\"axes.spines.bottom\\\"] = False\\nplt.rcParams[\\\"axes.spines.left\\\"] = False\\nplt.rcParams[\\\"axes.spines.right\\\"] = False\\n\\nplt.rcParams[\\\"xtick.top\\\"] = False\\nplt.rcParams[\\\"xtick.bottom\\\"] = False\\nplt.rcParams[\\\"ytick.left\\\"] = False\\nplt.rcParams[\\\"ytick.right\\\"] = False\\n\\nplt.rcParams[\\\"legend.frameon\\\"] = True\\nplt.rcParams[\\\"legend.framealpha\\\"] = 0.4\\nplt.rcParams[\\\"legend.facecolor\\\"] = \\\"none\\\"\\nplt.rcParams[\\\"legend.edgecolor\\\"] = \\\"0.8\\\"\\n\\nplt.rcParams[\\\"lines.markersize\\\"] = 5\\nplt.rcParams[\\\"lines.markeredgewidth\\\"] = 0\";\n",
       "                var nbb_cells = Jupyter.notebook.get_cells();\n",
       "                for (var i = 0; i < nbb_cells.length; ++i) {\n",
       "                    if (nbb_cells[i].input_prompt_number == nbb_cell_id) {\n",
       "                        if (nbb_cells[i].get_text() == nbb_unformatted_code) {\n",
       "                             nbb_cells[i].set_text(nbb_formatted_code);\n",
       "                        }\n",
       "                        break;\n",
       "                    }\n",
       "                }\n",
       "            }, 500);\n",
       "            "
      ],
      "text/plain": [
       "<IPython.core.display.Javascript object>"
      ]
     },
     "metadata": {},
     "output_type": "display_data"
    }
   ],
   "source": [
    "plt.rcParams[\"figure.dpi\"] = 75\n",
    "plt.rcParams[\"figure.figsize\"] = [6, 3.5]\n",
    "\n",
    "plt.rcParams[\"axes.titlesize\"] = \"medium\"\n",
    "\n",
    "plt.rcParams[\"font.size\"] = 12\n",
    "\n",
    "plt.rcParams[\"lines.linewidth\"] = 1.5\n",
    "\n",
    "plt.rcParams[\"axes.titlelocation\"] = \"left\"\n",
    "plt.rcParams[\"axes.spines.top\"] = False\n",
    "plt.rcParams[\"axes.spines.bottom\"] = False\n",
    "plt.rcParams[\"axes.spines.left\"] = False\n",
    "plt.rcParams[\"axes.spines.right\"] = False\n",
    "\n",
    "plt.rcParams[\"xtick.top\"] = False\n",
    "plt.rcParams[\"xtick.bottom\"] = False\n",
    "plt.rcParams[\"ytick.left\"] = False\n",
    "plt.rcParams[\"ytick.right\"] = False\n",
    "\n",
    "plt.rcParams[\"legend.frameon\"] = True\n",
    "plt.rcParams[\"legend.framealpha\"] = 0.4\n",
    "plt.rcParams[\"legend.facecolor\"] = \"none\"\n",
    "plt.rcParams[\"legend.edgecolor\"] = \"0.8\"\n",
    "\n",
    "plt.rcParams[\"lines.markersize\"] = 5\n",
    "plt.rcParams[\"lines.markeredgewidth\"] = 0"
   ]
  },
  {
   "cell_type": "markdown",
   "id": "f17a6470",
   "metadata": {
    "tags": []
   },
   "source": [
    "## Old Optimists, Young Pessimists\n",
    "\n",
    "Would you say that most of the time people try to be helpful, or that they are mostly just looking out for themselves? Almost every year since 1972, the General Social Survey (GSS) has posed that question to a representative sample of adult residents of the United States.\n",
    "\n",
    "The following figure shows how the responses have changed over time.\n",
    "The circles show the percentage of people in each survey who said that people try to be helpful."
   ]
  },
  {
   "cell_type": "code",
   "execution_count": 6,
   "id": "5b8c8edb",
   "metadata": {},
   "outputs": [
    {
     "data": {
      "application/javascript": [
       "\n",
       "            setTimeout(function() {\n",
       "                var nbb_cell_id = 6;\n",
       "                var nbb_unformatted_code = \"# This dataset is prepared in GssExtract/notebooks/02_make_extract-2022_3a.ipynb\\n\\nDATA_PATH = \\\"https://github.com/AllenDowney/GssExtract/raw/main/data/interim/\\\"\\nfilename = \\\"gss_extract_2022_3a.hdf\\\"\\ndownload(DATA_PATH + filename)\";\n",
       "                var nbb_formatted_code = \"# This dataset is prepared in GssExtract/notebooks/02_make_extract-2022_3a.ipynb\\n\\nDATA_PATH = \\\"https://github.com/AllenDowney/GssExtract/raw/main/data/interim/\\\"\\nfilename = \\\"gss_extract_2022_3a.hdf\\\"\\ndownload(DATA_PATH + filename)\";\n",
       "                var nbb_cells = Jupyter.notebook.get_cells();\n",
       "                for (var i = 0; i < nbb_cells.length; ++i) {\n",
       "                    if (nbb_cells[i].input_prompt_number == nbb_cell_id) {\n",
       "                        if (nbb_cells[i].get_text() == nbb_unformatted_code) {\n",
       "                             nbb_cells[i].set_text(nbb_formatted_code);\n",
       "                        }\n",
       "                        break;\n",
       "                    }\n",
       "                }\n",
       "            }, 500);\n",
       "            "
      ],
      "text/plain": [
       "<IPython.core.display.Javascript object>"
      ]
     },
     "metadata": {},
     "output_type": "display_data"
    }
   ],
   "source": [
    "# This dataset is prepared in GssExtract/notebooks/02_make_extract-2022_3a.ipynb\n",
    "\n",
    "DATA_PATH = \"https://github.com/AllenDowney/GssExtract/raw/main/data/interim/\"\n",
    "filename = \"gss_extract_2022_3a.hdf\"\n",
    "download(DATA_PATH + filename)"
   ]
  },
  {
   "cell_type": "code",
   "execution_count": 7,
   "id": "f033ca49",
   "metadata": {
    "tags": []
   },
   "outputs": [
    {
     "data": {
      "text/plain": [
       "(72390, 54)"
      ]
     },
     "execution_count": 7,
     "metadata": {},
     "output_type": "execute_result"
    },
    {
     "data": {
      "application/javascript": [
       "\n",
       "            setTimeout(function() {\n",
       "                var nbb_cell_id = 7;\n",
       "                var nbb_unformatted_code = \"gss = pd.read_hdf(filename, \\\"gss\\\")\\ngss.shape\";\n",
       "                var nbb_formatted_code = \"gss = pd.read_hdf(filename, \\\"gss\\\")\\ngss.shape\";\n",
       "                var nbb_cells = Jupyter.notebook.get_cells();\n",
       "                for (var i = 0; i < nbb_cells.length; ++i) {\n",
       "                    if (nbb_cells[i].input_prompt_number == nbb_cell_id) {\n",
       "                        if (nbb_cells[i].get_text() == nbb_unformatted_code) {\n",
       "                             nbb_cells[i].set_text(nbb_formatted_code);\n",
       "                        }\n",
       "                        break;\n",
       "                    }\n",
       "                }\n",
       "            }, 500);\n",
       "            "
      ],
      "text/plain": [
       "<IPython.core.display.Javascript object>"
      ]
     },
     "metadata": {},
     "output_type": "display_data"
    }
   ],
   "source": [
    "gss = pd.read_hdf(filename, \"gss\")\n",
    "gss.shape"
   ]
  },
  {
   "cell_type": "code",
   "execution_count": 8,
   "id": "dd77ebdb",
   "metadata": {},
   "outputs": [
    {
     "data": {
      "text/plain": [
       "755"
      ]
     },
     "execution_count": 8,
     "metadata": {},
     "output_type": "execute_result"
    },
    {
     "data": {
      "application/javascript": [
       "\n",
       "            setTimeout(function() {\n",
       "                var nbb_cell_id = 8;\n",
       "                var nbb_unformatted_code = \"gss[\\\"cohort\\\"] = gss[\\\"cohort\\\"].replace(9999, np.nan)\\ngss[\\\"cohort\\\"].isna().sum()\";\n",
       "                var nbb_formatted_code = \"gss[\\\"cohort\\\"] = gss[\\\"cohort\\\"].replace(9999, np.nan)\\ngss[\\\"cohort\\\"].isna().sum()\";\n",
       "                var nbb_cells = Jupyter.notebook.get_cells();\n",
       "                for (var i = 0; i < nbb_cells.length; ++i) {\n",
       "                    if (nbb_cells[i].input_prompt_number == nbb_cell_id) {\n",
       "                        if (nbb_cells[i].get_text() == nbb_unformatted_code) {\n",
       "                             nbb_cells[i].set_text(nbb_formatted_code);\n",
       "                        }\n",
       "                        break;\n",
       "                    }\n",
       "                }\n",
       "            }, 500);\n",
       "            "
      ],
      "text/plain": [
       "<IPython.core.display.Javascript object>"
      ]
     },
     "metadata": {},
     "output_type": "display_data"
    }
   ],
   "source": [
    "gss[\"cohort\"] = gss[\"cohort\"].replace(9999, np.nan)\n",
    "gss[\"cohort\"].isna().sum()"
   ]
  },
  {
   "cell_type": "code",
   "execution_count": 9,
   "id": "f09b1fa3",
   "metadata": {},
   "outputs": [
    {
     "data": {
      "text/plain": [
       "cohort10\n",
       "1880.0       45\n",
       "1890.0      501\n",
       "1900.0     1722\n",
       "1910.0     3616\n",
       "1920.0     5862\n",
       "1930.0     7115\n",
       "1940.0    10925\n",
       "1950.0    14273\n",
       "1960.0    11699\n",
       "1970.0     7681\n",
       "1980.0     5088\n",
       "1990.0     2563\n",
       "2000.0      545\n",
       "NaN         755\n",
       "Name: count, dtype: int64"
      ]
     },
     "execution_count": 9,
     "metadata": {},
     "output_type": "execute_result"
    },
    {
     "data": {
      "application/javascript": [
       "\n",
       "            setTimeout(function() {\n",
       "                var nbb_cell_id = 9;\n",
       "                var nbb_unformatted_code = \"bins = np.arange(1879, 2011, 10)\\nlabels = bins[:-1] + 1\\n\\ngss[\\\"cohort10\\\"] = pd.cut(gss[\\\"cohort\\\"], bins, labels=labels).astype(float)\\ngss[\\\"cohort10\\\"].value_counts(dropna=False).sort_index()\";\n",
       "                var nbb_formatted_code = \"bins = np.arange(1879, 2011, 10)\\nlabels = bins[:-1] + 1\\n\\ngss[\\\"cohort10\\\"] = pd.cut(gss[\\\"cohort\\\"], bins, labels=labels).astype(float)\\ngss[\\\"cohort10\\\"].value_counts(dropna=False).sort_index()\";\n",
       "                var nbb_cells = Jupyter.notebook.get_cells();\n",
       "                for (var i = 0; i < nbb_cells.length; ++i) {\n",
       "                    if (nbb_cells[i].input_prompt_number == nbb_cell_id) {\n",
       "                        if (nbb_cells[i].get_text() == nbb_unformatted_code) {\n",
       "                             nbb_cells[i].set_text(nbb_formatted_code);\n",
       "                        }\n",
       "                        break;\n",
       "                    }\n",
       "                }\n",
       "            }, 500);\n",
       "            "
      ],
      "text/plain": [
       "<IPython.core.display.Javascript object>"
      ]
     },
     "metadata": {},
     "output_type": "display_data"
    }
   ],
   "source": [
    "bins = np.arange(1879, 2011, 10)\n",
    "labels = bins[:-1] + 1\n",
    "\n",
    "gss[\"cohort10\"] = pd.cut(gss[\"cohort\"], bins, labels=labels).astype(float)\n",
    "gss[\"cohort10\"].value_counts(dropna=False).sort_index()"
   ]
  },
  {
   "cell_type": "code",
   "execution_count": 10,
   "id": "28e3e0f3",
   "metadata": {},
   "outputs": [
    {
     "data": {
      "application/javascript": [
       "\n",
       "            setTimeout(function() {\n",
       "                var nbb_cell_id = 10;\n",
       "                var nbb_unformatted_code = \"from utils import underride\\n\\n\\ndef plot_titles(title, subtitle, y=1.02, pad=20, **options):\\n    \\\"\\\"\\\"Plot the title and subtitle\\\"\\\"\\\"\\n    plt.title(title, loc=\\\"left\\\", pad=pad)\\n\\n    transform = plt.gca().transAxes\\n    options = underride(options, color=\\\"0.2\\\", ha=\\\"left\\\", va=\\\"bottom\\\", fontsize=11)\\n    plt.text(0, y, subtitle, transform=transform, **options)\\n\\n    plt.tight_layout()\";\n",
       "                var nbb_formatted_code = \"from utils import underride\\n\\n\\ndef plot_titles(title, subtitle, y=1.02, pad=20, **options):\\n    \\\"\\\"\\\"Plot the title and subtitle\\\"\\\"\\\"\\n    plt.title(title, loc=\\\"left\\\", pad=pad)\\n\\n    transform = plt.gca().transAxes\\n    options = underride(options, color=\\\"0.2\\\", ha=\\\"left\\\", va=\\\"bottom\\\", fontsize=11)\\n    plt.text(0, y, subtitle, transform=transform, **options)\\n\\n    plt.tight_layout()\";\n",
       "                var nbb_cells = Jupyter.notebook.get_cells();\n",
       "                for (var i = 0; i < nbb_cells.length; ++i) {\n",
       "                    if (nbb_cells[i].input_prompt_number == nbb_cell_id) {\n",
       "                        if (nbb_cells[i].get_text() == nbb_unformatted_code) {\n",
       "                             nbb_cells[i].set_text(nbb_formatted_code);\n",
       "                        }\n",
       "                        break;\n",
       "                    }\n",
       "                }\n",
       "            }, 500);\n",
       "            "
      ],
      "text/plain": [
       "<IPython.core.display.Javascript object>"
      ]
     },
     "metadata": {},
     "output_type": "display_data"
    }
   ],
   "source": [
    "from utils import underride\n",
    "\n",
    "\n",
    "def plot_titles(title, subtitle, y=1.02, pad=20, **options):\n",
    "    \"\"\"Plot the title and subtitle\"\"\"\n",
    "    plt.title(title, loc=\"left\", pad=pad)\n",
    "\n",
    "    transform = plt.gca().transAxes\n",
    "    options = underride(options, color=\"0.2\", ha=\"left\", va=\"bottom\", fontsize=11)\n",
    "    plt.text(0, y, subtitle, transform=transform, **options)\n",
    "\n",
    "    plt.tight_layout()"
   ]
  },
  {
   "cell_type": "code",
   "execution_count": 11,
   "id": "e995988f",
   "metadata": {},
   "outputs": [
    {
     "data": {
      "application/javascript": [
       "\n",
       "            setTimeout(function() {\n",
       "                var nbb_cell_id = 11;\n",
       "                var nbb_unformatted_code = \"def make_lowess(series, frac=0.5):\\n    \\\"\\\"\\\"Use LOWESS to compute a smooth line.\\n\\n    series: pd.Series\\n\\n    returns: pd.Series\\n    \\\"\\\"\\\"\\n    endog = series.values\\n    exog = series.index.values\\n\\n    smooth = lowess(endog, exog, frac)\\n    index, data = np.transpose(smooth)\\n\\n    return pd.Series(data, index=index)\";\n",
       "                var nbb_formatted_code = \"def make_lowess(series, frac=0.5):\\n    \\\"\\\"\\\"Use LOWESS to compute a smooth line.\\n\\n    series: pd.Series\\n\\n    returns: pd.Series\\n    \\\"\\\"\\\"\\n    endog = series.values\\n    exog = series.index.values\\n\\n    smooth = lowess(endog, exog, frac)\\n    index, data = np.transpose(smooth)\\n\\n    return pd.Series(data, index=index)\";\n",
       "                var nbb_cells = Jupyter.notebook.get_cells();\n",
       "                for (var i = 0; i < nbb_cells.length; ++i) {\n",
       "                    if (nbb_cells[i].input_prompt_number == nbb_cell_id) {\n",
       "                        if (nbb_cells[i].get_text() == nbb_unformatted_code) {\n",
       "                             nbb_cells[i].set_text(nbb_formatted_code);\n",
       "                        }\n",
       "                        break;\n",
       "                    }\n",
       "                }\n",
       "            }, 500);\n",
       "            "
      ],
      "text/plain": [
       "<IPython.core.display.Javascript object>"
      ]
     },
     "metadata": {},
     "output_type": "display_data"
    }
   ],
   "source": [
    "def make_lowess(series, frac=0.5):\n",
    "    \"\"\"Use LOWESS to compute a smooth line.\n",
    "\n",
    "    series: pd.Series\n",
    "\n",
    "    returns: pd.Series\n",
    "    \"\"\"\n",
    "    endog = series.values\n",
    "    exog = series.index.values\n",
    "\n",
    "    smooth = lowess(endog, exog, frac)\n",
    "    index, data = np.transpose(smooth)\n",
    "\n",
    "    return pd.Series(data, index=index)"
   ]
  },
  {
   "cell_type": "code",
   "execution_count": 12,
   "id": "30d153e1",
   "metadata": {},
   "outputs": [
    {
     "data": {
      "application/javascript": [
       "\n",
       "            setTimeout(function() {\n",
       "                var nbb_cell_id = 12;\n",
       "                var nbb_unformatted_code = \"# pip install whittaker-eilers\\n\\nfrom whittaker_eilers import WhittakerSmoother\\n\\n\\ndef make_smooth(series, weights=None, order=2, lam=1e2):\\n    \\\"\\\"\\\"Use Whittaker-Eilers to compute a smooth line.\\n\\n    series: pd.Series\\n\\n    returns: pd.Series\\n    \\\"\\\"\\\"\\n    ys = series.values\\n    xs = series.index.values\\n\\n    smoother = WhittakerSmoother(\\n        lmbda=lam,\\n        order=order,\\n        data_length=len(ys),\\n        x_input=xs,\\n        weights=weights,\\n    )\\n\\n    smoothed = smoother.smooth(ys)\\n    return pd.Series(smoothed, index=xs)\";\n",
       "                var nbb_formatted_code = \"# pip install whittaker-eilers\\n\\nfrom whittaker_eilers import WhittakerSmoother\\n\\n\\ndef make_smooth(series, weights=None, order=2, lam=1e2):\\n    \\\"\\\"\\\"Use Whittaker-Eilers to compute a smooth line.\\n\\n    series: pd.Series\\n\\n    returns: pd.Series\\n    \\\"\\\"\\\"\\n    ys = series.values\\n    xs = series.index.values\\n\\n    smoother = WhittakerSmoother(\\n        lmbda=lam,\\n        order=order,\\n        data_length=len(ys),\\n        x_input=xs,\\n        weights=weights,\\n    )\\n\\n    smoothed = smoother.smooth(ys)\\n    return pd.Series(smoothed, index=xs)\";\n",
       "                var nbb_cells = Jupyter.notebook.get_cells();\n",
       "                for (var i = 0; i < nbb_cells.length; ++i) {\n",
       "                    if (nbb_cells[i].input_prompt_number == nbb_cell_id) {\n",
       "                        if (nbb_cells[i].get_text() == nbb_unformatted_code) {\n",
       "                             nbb_cells[i].set_text(nbb_formatted_code);\n",
       "                        }\n",
       "                        break;\n",
       "                    }\n",
       "                }\n",
       "            }, 500);\n",
       "            "
      ],
      "text/plain": [
       "<IPython.core.display.Javascript object>"
      ]
     },
     "metadata": {},
     "output_type": "display_data"
    }
   ],
   "source": [
    "# pip install whittaker-eilers\n",
    "\n",
    "from whittaker_eilers import WhittakerSmoother\n",
    "\n",
    "\n",
    "def make_smooth(series, weights=None, order=2, lam=1e2):\n",
    "    \"\"\"Use Whittaker-Eilers to compute a smooth line.\n",
    "\n",
    "    series: pd.Series\n",
    "\n",
    "    returns: pd.Series\n",
    "    \"\"\"\n",
    "    ys = series.values\n",
    "    xs = series.index.values\n",
    "\n",
    "    smoother = WhittakerSmoother(\n",
    "        lmbda=lam,\n",
    "        order=order,\n",
    "        data_length=len(ys),\n",
    "        x_input=xs,\n",
    "        weights=weights,\n",
    "    )\n",
    "\n",
    "    smoothed = smoother.smooth(ys)\n",
    "    return pd.Series(smoothed, index=xs)"
   ]
  },
  {
   "cell_type": "code",
   "execution_count": 13,
   "id": "ed5b123a",
   "metadata": {},
   "outputs": [
    {
     "data": {
      "application/javascript": [
       "\n",
       "            setTimeout(function() {\n",
       "                var nbb_cell_id = 13;\n",
       "                var nbb_unformatted_code = \"def make_entry(df, xvar, yvar, yval):\\n    entry = pd.DataFrame(dtype=float)\\n\\n    xtab = pd.crosstab(df[xvar], df[yvar], normalize=\\\"index\\\")\\n    entry[\\\"series\\\"] = xtab[yval] * 100\\n\\n    weights = df.groupby(xvar)[yvar].count()\\n    entry[\\\"weights\\\"] = weights / weights.sum()\\n\\n    entry[\\\"smooth\\\"] = make_smooth(entry[\\\"series\\\"], entry[\\\"weights\\\"], lam=100)\\n\\n    return entry\";\n",
       "                var nbb_formatted_code = \"def make_entry(df, xvar, yvar, yval):\\n    entry = pd.DataFrame(dtype=float)\\n\\n    xtab = pd.crosstab(df[xvar], df[yvar], normalize=\\\"index\\\")\\n    entry[\\\"series\\\"] = xtab[yval] * 100\\n\\n    weights = df.groupby(xvar)[yvar].count()\\n    entry[\\\"weights\\\"] = weights / weights.sum()\\n\\n    entry[\\\"smooth\\\"] = make_smooth(entry[\\\"series\\\"], entry[\\\"weights\\\"], lam=100)\\n\\n    return entry\";\n",
       "                var nbb_cells = Jupyter.notebook.get_cells();\n",
       "                for (var i = 0; i < nbb_cells.length; ++i) {\n",
       "                    if (nbb_cells[i].input_prompt_number == nbb_cell_id) {\n",
       "                        if (nbb_cells[i].get_text() == nbb_unformatted_code) {\n",
       "                             nbb_cells[i].set_text(nbb_formatted_code);\n",
       "                        }\n",
       "                        break;\n",
       "                    }\n",
       "                }\n",
       "            }, 500);\n",
       "            "
      ],
      "text/plain": [
       "<IPython.core.display.Javascript object>"
      ]
     },
     "metadata": {},
     "output_type": "display_data"
    }
   ],
   "source": [
    "def make_entry(df, xvar, yvar, yval):\n",
    "    entry = pd.DataFrame(dtype=float)\n",
    "\n",
    "    xtab = pd.crosstab(df[xvar], df[yvar], normalize=\"index\")\n",
    "    entry[\"series\"] = xtab[yval] * 100\n",
    "\n",
    "    weights = df.groupby(xvar)[yvar].count()\n",
    "    entry[\"weights\"] = weights / weights.sum()\n",
    "\n",
    "    entry[\"smooth\"] = make_smooth(entry[\"series\"], entry[\"weights\"], lam=100)\n",
    "\n",
    "    return entry"
   ]
  },
  {
   "cell_type": "code",
   "execution_count": 14,
   "id": "a34f2a6a",
   "metadata": {
    "tags": []
   },
   "outputs": [
    {
     "data": {
      "application/javascript": [
       "\n",
       "            setTimeout(function() {\n",
       "                var nbb_cell_id = 14;\n",
       "                var nbb_unformatted_code = \"xlim = [1970.5, 2024.5]\\n\\n\\ndef plot_by_year(df, yvar, yval):\\n    \\\"\\\"\\\" \\\"\\\"\\\"\\n    entry = make_entry(df, \\\"year\\\", yvar, yval)\\n    plot_series_smooth(\\n        entry[\\\"series\\\"], entry[\\\"smooth\\\"], plot_series=True, color=\\\"C0\\\", label=\\\"\\\"\\n    )\\n\\n    decorate(\\n        xlabel=\\\"Year of survey\\\",\\n        xlim=xlim,\\n        ylim=ylim,\\n    )\\n    plot_titles(title, subtitle)\";\n",
       "                var nbb_formatted_code = \"xlim = [1970.5, 2024.5]\\n\\n\\ndef plot_by_year(df, yvar, yval):\\n    \\\"\\\"\\\" \\\"\\\"\\\"\\n    entry = make_entry(df, \\\"year\\\", yvar, yval)\\n    plot_series_smooth(\\n        entry[\\\"series\\\"], entry[\\\"smooth\\\"], plot_series=True, color=\\\"C0\\\", label=\\\"\\\"\\n    )\\n\\n    decorate(\\n        xlabel=\\\"Year of survey\\\",\\n        xlim=xlim,\\n        ylim=ylim,\\n    )\\n    plot_titles(title, subtitle)\";\n",
       "                var nbb_cells = Jupyter.notebook.get_cells();\n",
       "                for (var i = 0; i < nbb_cells.length; ++i) {\n",
       "                    if (nbb_cells[i].input_prompt_number == nbb_cell_id) {\n",
       "                        if (nbb_cells[i].get_text() == nbb_unformatted_code) {\n",
       "                             nbb_cells[i].set_text(nbb_formatted_code);\n",
       "                        }\n",
       "                        break;\n",
       "                    }\n",
       "                }\n",
       "            }, 500);\n",
       "            "
      ],
      "text/plain": [
       "<IPython.core.display.Javascript object>"
      ]
     },
     "metadata": {},
     "output_type": "display_data"
    }
   ],
   "source": [
    "xlim = [1970.5, 2024.5]\n",
    "\n",
    "\n",
    "def plot_by_year(df, yvar, yval):\n",
    "    \"\"\" \"\"\"\n",
    "    entry = make_entry(df, \"year\", yvar, yval)\n",
    "    plot_series_smooth(\n",
    "        entry[\"series\"], entry[\"smooth\"], plot_series=True, color=\"C0\", label=\"\"\n",
    "    )\n",
    "\n",
    "    decorate(\n",
    "        xlabel=\"Year of survey\",\n",
    "        xlim=xlim,\n",
    "        ylim=ylim,\n",
    "    )\n",
    "    plot_titles(title, subtitle)"
   ]
  },
  {
   "cell_type": "code",
   "execution_count": 15,
   "id": "cc1dd62b",
   "metadata": {},
   "outputs": [
    {
     "data": {
      "application/javascript": [
       "\n",
       "            setTimeout(function() {\n",
       "                var nbb_cell_id = 15;\n",
       "                var nbb_unformatted_code = \"def plot_series_smooth(series, smooth, plot_series=False, **options):\\n    \\\"\\\"\\\"Plots a series of data points and a smooth line.\\n\\n    series: pd.Series\\n    color: string or tuple\\n    \\\"\\\"\\\"\\n    color = options.pop(\\\"color\\\", \\\"C0\\\")\\n    if \\\"label\\\" not in options:\\n        options[\\\"label\\\"] = series.name\\n\\n    x = series.index\\n    y = series.values\\n    if plot_series:\\n        plt.plot(x, y, \\\"o\\\", color=color, alpha=0.5, label=\\\"_\\\")\\n\\n    if not plot_series and len(series) == 1:\\n        plt.plot(x, y, \\\"o\\\", color=color, label=options[\\\"label\\\"])\\n\\n    if len(series) > 1:\\n        smooth.plot(color=color, **options)\";\n",
       "                var nbb_formatted_code = \"def plot_series_smooth(series, smooth, plot_series=False, **options):\\n    \\\"\\\"\\\"Plots a series of data points and a smooth line.\\n\\n    series: pd.Series\\n    color: string or tuple\\n    \\\"\\\"\\\"\\n    color = options.pop(\\\"color\\\", \\\"C0\\\")\\n    if \\\"label\\\" not in options:\\n        options[\\\"label\\\"] = series.name\\n\\n    x = series.index\\n    y = series.values\\n    if plot_series:\\n        plt.plot(x, y, \\\"o\\\", color=color, alpha=0.5, label=\\\"_\\\")\\n\\n    if not plot_series and len(series) == 1:\\n        plt.plot(x, y, \\\"o\\\", color=color, label=options[\\\"label\\\"])\\n\\n    if len(series) > 1:\\n        smooth.plot(color=color, **options)\";\n",
       "                var nbb_cells = Jupyter.notebook.get_cells();\n",
       "                for (var i = 0; i < nbb_cells.length; ++i) {\n",
       "                    if (nbb_cells[i].input_prompt_number == nbb_cell_id) {\n",
       "                        if (nbb_cells[i].get_text() == nbb_unformatted_code) {\n",
       "                             nbb_cells[i].set_text(nbb_formatted_code);\n",
       "                        }\n",
       "                        break;\n",
       "                    }\n",
       "                }\n",
       "            }, 500);\n",
       "            "
      ],
      "text/plain": [
       "<IPython.core.display.Javascript object>"
      ]
     },
     "metadata": {},
     "output_type": "display_data"
    }
   ],
   "source": [
    "def plot_series_smooth(series, smooth, plot_series=False, **options):\n",
    "    \"\"\"Plots a series of data points and a smooth line.\n",
    "\n",
    "    series: pd.Series\n",
    "    color: string or tuple\n",
    "    \"\"\"\n",
    "    color = options.pop(\"color\", \"C0\")\n",
    "    if \"label\" not in options:\n",
    "        options[\"label\"] = series.name\n",
    "\n",
    "    x = series.index\n",
    "    y = series.values\n",
    "    if plot_series:\n",
    "        plt.plot(x, y, \"o\", color=color, alpha=0.5, label=\"_\")\n",
    "\n",
    "    if not plot_series and len(series) == 1:\n",
    "        plt.plot(x, y, \"o\", color=color, label=options[\"label\"])\n",
    "\n",
    "    if len(series) > 1:\n",
    "        smooth.plot(color=color, **options)"
   ]
  },
  {
   "cell_type": "code",
   "execution_count": 16,
   "id": "869e6221",
   "metadata": {},
   "outputs": [
    {
     "data": {
      "application/javascript": [
       "\n",
       "            setTimeout(function() {\n",
       "                var nbb_cell_id = 16;\n",
       "                var nbb_unformatted_code = \"def plot_by_cohort(df, yvar, yval):\\n    \\\"\\\"\\\" \\\"\\\"\\\"\\n    entry = make_entry(df, \\\"cohort\\\", yvar, yval)\\n\\n    plot_series_smooth(\\n        entry[\\\"series\\\"],\\n        entry[\\\"smooth\\\"],\\n        plot_series=True,\\n        color=\\\"C1\\\",\\n        ls=\\\"--\\\",\\n        label=\\\"\\\",\\n    )\\n\\n    decorate(\\n        xlabel=\\\"Year of birth\\\",\\n        ylim=ylim,\\n    )\\n    plot_titles(title, subtitle)\";\n",
       "                var nbb_formatted_code = \"def plot_by_cohort(df, yvar, yval):\\n    \\\"\\\"\\\" \\\"\\\"\\\"\\n    entry = make_entry(df, \\\"cohort\\\", yvar, yval)\\n\\n    plot_series_smooth(\\n        entry[\\\"series\\\"],\\n        entry[\\\"smooth\\\"],\\n        plot_series=True,\\n        color=\\\"C1\\\",\\n        ls=\\\"--\\\",\\n        label=\\\"\\\",\\n    )\\n\\n    decorate(\\n        xlabel=\\\"Year of birth\\\",\\n        ylim=ylim,\\n    )\\n    plot_titles(title, subtitle)\";\n",
       "                var nbb_cells = Jupyter.notebook.get_cells();\n",
       "                for (var i = 0; i < nbb_cells.length; ++i) {\n",
       "                    if (nbb_cells[i].input_prompt_number == nbb_cell_id) {\n",
       "                        if (nbb_cells[i].get_text() == nbb_unformatted_code) {\n",
       "                             nbb_cells[i].set_text(nbb_formatted_code);\n",
       "                        }\n",
       "                        break;\n",
       "                    }\n",
       "                }\n",
       "            }, 500);\n",
       "            "
      ],
      "text/plain": [
       "<IPython.core.display.Javascript object>"
      ]
     },
     "metadata": {},
     "output_type": "display_data"
    }
   ],
   "source": [
    "def plot_by_cohort(df, yvar, yval):\n",
    "    \"\"\" \"\"\"\n",
    "    entry = make_entry(df, \"cohort\", yvar, yval)\n",
    "\n",
    "    plot_series_smooth(\n",
    "        entry[\"series\"],\n",
    "        entry[\"smooth\"],\n",
    "        plot_series=True,\n",
    "        color=\"C1\",\n",
    "        ls=\"--\",\n",
    "        label=\"\",\n",
    "    )\n",
    "\n",
    "    decorate(\n",
    "        xlabel=\"Year of birth\",\n",
    "        ylim=ylim,\n",
    "    )\n",
    "    plot_titles(title, subtitle)"
   ]
  },
  {
   "cell_type": "code",
   "execution_count": 17,
   "id": "f41584b4",
   "metadata": {},
   "outputs": [
    {
     "data": {
      "application/javascript": [
       "\n",
       "            setTimeout(function() {\n",
       "                var nbb_cell_id = 17;\n",
       "                var nbb_unformatted_code = \"def make_table(df, xvar, yvar, gvar, yval=None):\\n    \\\"\\\"\\\"Compute series of yvar vs xvar grouped by gvar.\\n\\n    returns: map from group name to Series\\n    \\\"\\\"\\\"\\n    table = {}\\n    for name, group in df.groupby(gvar):\\n        if len(group) < 500:\\n            continue\\n\\n        table[name] = make_entry(group, xvar, yvar, yval)\\n\\n    return table\";\n",
       "                var nbb_formatted_code = \"def make_table(df, xvar, yvar, gvar, yval=None):\\n    \\\"\\\"\\\"Compute series of yvar vs xvar grouped by gvar.\\n\\n    returns: map from group name to Series\\n    \\\"\\\"\\\"\\n    table = {}\\n    for name, group in df.groupby(gvar):\\n        if len(group) < 500:\\n            continue\\n\\n        table[name] = make_entry(group, xvar, yvar, yval)\\n\\n    return table\";\n",
       "                var nbb_cells = Jupyter.notebook.get_cells();\n",
       "                for (var i = 0; i < nbb_cells.length; ++i) {\n",
       "                    if (nbb_cells[i].input_prompt_number == nbb_cell_id) {\n",
       "                        if (nbb_cells[i].get_text() == nbb_unformatted_code) {\n",
       "                             nbb_cells[i].set_text(nbb_formatted_code);\n",
       "                        }\n",
       "                        break;\n",
       "                    }\n",
       "                }\n",
       "            }, 500);\n",
       "            "
      ],
      "text/plain": [
       "<IPython.core.display.Javascript object>"
      ]
     },
     "metadata": {},
     "output_type": "display_data"
    }
   ],
   "source": [
    "def make_table(df, xvar, yvar, gvar, yval=None):\n",
    "    \"\"\"Compute series of yvar vs xvar grouped by gvar.\n",
    "\n",
    "    returns: map from group name to Series\n",
    "    \"\"\"\n",
    "    table = {}\n",
    "    for name, group in df.groupby(gvar):\n",
    "        if len(group) < 500:\n",
    "            continue\n",
    "\n",
    "        table[name] = make_entry(group, xvar, yvar, yval)\n",
    "\n",
    "    return table"
   ]
  },
  {
   "cell_type": "code",
   "execution_count": 18,
   "id": "f7e6d6d9",
   "metadata": {},
   "outputs": [
    {
     "data": {
      "application/javascript": [
       "\n",
       "            setTimeout(function() {\n",
       "                var nbb_cell_id = 18;\n",
       "                var nbb_unformatted_code = \"from utils import get_colors\\n\\n\\ndef plot_table(table, nudge={}, **options):\\n    \\\"\\\"\\\"Plot the results from make_table.\\n\\n    table: map from group name to Series\\n    weights: \\n    options: passed to plot\\n    \\\"\\\"\\\"\\n    palette = options.pop(\\\"palette\\\", \\\"Purples\\\")\\n    colors = get_colors(len(table), palette=palette)\\n\\n    for i, group in enumerate(table):\\n        series = table[group][\\\"series\\\"]\\n        weights = table[group][\\\"weights\\\"]\\n        smooth = make_smooth(series, weights)\\n\\n        label = f\\\"{series.name}s\\\"\\n        plot_series_smooth(\\n            series, smooth, plot_series=False, color=colors[i], label=label, **options\\n        )\\n    label_table(table, nudge)\\n\\n    plot_titles(title, subtitle)\\n    decorate(\\n        xlabel=\\\"Year of survey\\\",\\n        xlim=xlim,\\n        ylim=ylim,\\n        legend=False,\\n    )\";\n",
       "                var nbb_formatted_code = \"from utils import get_colors\\n\\n\\ndef plot_table(table, nudge={}, **options):\\n    \\\"\\\"\\\"Plot the results from make_table.\\n\\n    table: map from group name to Series\\n    weights:\\n    options: passed to plot\\n    \\\"\\\"\\\"\\n    palette = options.pop(\\\"palette\\\", \\\"Purples\\\")\\n    colors = get_colors(len(table), palette=palette)\\n\\n    for i, group in enumerate(table):\\n        series = table[group][\\\"series\\\"]\\n        weights = table[group][\\\"weights\\\"]\\n        smooth = make_smooth(series, weights)\\n\\n        label = f\\\"{series.name}s\\\"\\n        plot_series_smooth(\\n            series, smooth, plot_series=False, color=colors[i], label=label, **options\\n        )\\n    label_table(table, nudge)\\n\\n    plot_titles(title, subtitle)\\n    decorate(\\n        xlabel=\\\"Year of survey\\\",\\n        xlim=xlim,\\n        ylim=ylim,\\n        legend=False,\\n    )\";\n",
       "                var nbb_cells = Jupyter.notebook.get_cells();\n",
       "                for (var i = 0; i < nbb_cells.length; ++i) {\n",
       "                    if (nbb_cells[i].input_prompt_number == nbb_cell_id) {\n",
       "                        if (nbb_cells[i].get_text() == nbb_unformatted_code) {\n",
       "                             nbb_cells[i].set_text(nbb_formatted_code);\n",
       "                        }\n",
       "                        break;\n",
       "                    }\n",
       "                }\n",
       "            }, 500);\n",
       "            "
      ],
      "text/plain": [
       "<IPython.core.display.Javascript object>"
      ]
     },
     "metadata": {},
     "output_type": "display_data"
    }
   ],
   "source": [
    "from utils import get_colors\n",
    "\n",
    "\n",
    "def plot_table(table, nudge={}, **options):\n",
    "    \"\"\"Plot the results from make_table.\n",
    "\n",
    "    table: map from group name to Series\n",
    "    weights: \n",
    "    options: passed to plot\n",
    "    \"\"\"\n",
    "    palette = options.pop(\"palette\", \"Purples\")\n",
    "    colors = get_colors(len(table), palette=palette)\n",
    "\n",
    "    for i, group in enumerate(table):\n",
    "        series = table[group][\"series\"]\n",
    "        weights = table[group][\"weights\"]\n",
    "        smooth = make_smooth(series, weights)\n",
    "\n",
    "        label = f\"{series.name}s\"\n",
    "        plot_series_smooth(\n",
    "            series, smooth, plot_series=False, color=colors[i], label=label, **options\n",
    "        )\n",
    "    label_table(table, nudge)\n",
    "\n",
    "    plot_titles(title, subtitle)\n",
    "    decorate(\n",
    "        xlabel=\"Year of survey\",\n",
    "        xlim=xlim,\n",
    "        ylim=ylim,\n",
    "        legend=False,\n",
    "    )\n"
   ]
  },
  {
   "cell_type": "code",
   "execution_count": 19,
   "id": "4744d643",
   "metadata": {},
   "outputs": [
    {
     "data": {
      "application/javascript": [
       "\n",
       "            setTimeout(function() {\n",
       "                var nbb_cell_id = 19;\n",
       "                var nbb_unformatted_code = \"def label_table(table, nudge={}, frac=0.7, **options):\\n    \\\"\\\"\\\"Add direct labels for the lines in a table.\\n\\n    table: map from group name to DataFrame\\n    nudge: map from label to an offset in the y direction\\n    frac: parameter of make_lowess\\n    options: passed to plt.text\\n    \\\"\\\"\\\"\\n    underride(options, va=\\\"center\\\", alpha=0.8, fontsize=\\\"small\\\")\\n    for group in table:\\n        series = table[group][\\\"series\\\"]\\n        smooth = table[group][\\\"smooth\\\"]\\n        label = f\\\"{group}s\\\"\\n\\n        x = series.index[-1] + 0.5\\n        if len(series) > 1:\\n            y = smooth.iloc[-1]\\n        else:\\n            y = series.iloc[-1]\\n\\n        y += nudge.get(label, 0)\\n        plt.text(x, y, label, **options)\";\n",
       "                var nbb_formatted_code = \"def label_table(table, nudge={}, frac=0.7, **options):\\n    \\\"\\\"\\\"Add direct labels for the lines in a table.\\n\\n    table: map from group name to DataFrame\\n    nudge: map from label to an offset in the y direction\\n    frac: parameter of make_lowess\\n    options: passed to plt.text\\n    \\\"\\\"\\\"\\n    underride(options, va=\\\"center\\\", alpha=0.8, fontsize=\\\"small\\\")\\n    for group in table:\\n        series = table[group][\\\"series\\\"]\\n        smooth = table[group][\\\"smooth\\\"]\\n        label = f\\\"{group}s\\\"\\n\\n        x = series.index[-1] + 0.5\\n        if len(series) > 1:\\n            y = smooth.iloc[-1]\\n        else:\\n            y = series.iloc[-1]\\n\\n        y += nudge.get(label, 0)\\n        plt.text(x, y, label, **options)\";\n",
       "                var nbb_cells = Jupyter.notebook.get_cells();\n",
       "                for (var i = 0; i < nbb_cells.length; ++i) {\n",
       "                    if (nbb_cells[i].input_prompt_number == nbb_cell_id) {\n",
       "                        if (nbb_cells[i].get_text() == nbb_unformatted_code) {\n",
       "                             nbb_cells[i].set_text(nbb_formatted_code);\n",
       "                        }\n",
       "                        break;\n",
       "                    }\n",
       "                }\n",
       "            }, 500);\n",
       "            "
      ],
      "text/plain": [
       "<IPython.core.display.Javascript object>"
      ]
     },
     "metadata": {},
     "output_type": "display_data"
    }
   ],
   "source": [
    "def label_table(table, nudge={}, frac=0.7, **options):\n",
    "    \"\"\"Add direct labels for the lines in a table.\n",
    "\n",
    "    table: map from group name to DataFrame\n",
    "    nudge: map from label to an offset in the y direction\n",
    "    frac: parameter of make_lowess\n",
    "    options: passed to plt.text\n",
    "    \"\"\"\n",
    "    underride(options, va=\"center\", alpha=0.8, fontsize=\"small\")\n",
    "    for group in table:\n",
    "        series = table[group][\"series\"]\n",
    "        smooth = table[group][\"smooth\"]\n",
    "        label = f\"{group}s\"\n",
    "\n",
    "        x = series.index[-1] + 0.5\n",
    "        if len(series) > 1:\n",
    "            y = smooth.iloc[-1]\n",
    "        else:\n",
    "            y = series.iloc[-1]\n",
    "\n",
    "        y += nudge.get(label, 0)\n",
    "        plt.text(x, y, label, **options)"
   ]
  },
  {
   "cell_type": "markdown",
   "id": "32372f1b",
   "metadata": {},
   "source": [
    "## helpful"
   ]
  },
  {
   "cell_type": "code",
   "execution_count": 20,
   "id": "9012be07",
   "metadata": {
    "tags": []
   },
   "outputs": [
    {
     "data": {
      "application/javascript": [
       "\n",
       "            setTimeout(function() {\n",
       "                var nbb_cell_id = 20;\n",
       "                var nbb_unformatted_code = \"# https://gssdataexplorer.norc.org/variables/439/vshow\\n\\n# 1 = helpful\\n# 2 = look out for themselves\\n# 3 = depends\";\n",
       "                var nbb_formatted_code = \"# https://gssdataexplorer.norc.org/variables/439/vshow\\n\\n# 1 = helpful\\n# 2 = look out for themselves\\n# 3 = depends\";\n",
       "                var nbb_cells = Jupyter.notebook.get_cells();\n",
       "                for (var i = 0; i < nbb_cells.length; ++i) {\n",
       "                    if (nbb_cells[i].input_prompt_number == nbb_cell_id) {\n",
       "                        if (nbb_cells[i].get_text() == nbb_unformatted_code) {\n",
       "                             nbb_cells[i].set_text(nbb_formatted_code);\n",
       "                        }\n",
       "                        break;\n",
       "                    }\n",
       "                }\n",
       "            }, 500);\n",
       "            "
      ],
      "text/plain": [
       "<IPython.core.display.Javascript object>"
      ]
     },
     "metadata": {},
     "output_type": "display_data"
    }
   ],
   "source": [
    "# https://gssdataexplorer.norc.org/variables/439/vshow\n",
    "\n",
    "# 1 = helpful\n",
    "# 2 = look out for themselves\n",
    "# 3 = depends"
   ]
  },
  {
   "cell_type": "code",
   "execution_count": 21,
   "id": "ae9f9b47",
   "metadata": {},
   "outputs": [
    {
     "data": {
      "text/plain": [
       "helpful\n",
       "1.0    20471\n",
       "2.0    18972\n",
       "3.0     2971\n",
       "Name: count, dtype: int64"
      ]
     },
     "execution_count": 21,
     "metadata": {},
     "output_type": "execute_result"
    },
    {
     "data": {
      "application/javascript": [
       "\n",
       "            setTimeout(function() {\n",
       "                var nbb_cell_id = 21;\n",
       "                var nbb_unformatted_code = \"yvar = \\\"helpful\\\"\\nyval = 1\\n\\nseries = gss[yvar]\\nseries.value_counts()\";\n",
       "                var nbb_formatted_code = \"yvar = \\\"helpful\\\"\\nyval = 1\\n\\nseries = gss[yvar]\\nseries.value_counts()\";\n",
       "                var nbb_cells = Jupyter.notebook.get_cells();\n",
       "                for (var i = 0; i < nbb_cells.length; ++i) {\n",
       "                    if (nbb_cells[i].input_prompt_number == nbb_cell_id) {\n",
       "                        if (nbb_cells[i].get_text() == nbb_unformatted_code) {\n",
       "                             nbb_cells[i].set_text(nbb_formatted_code);\n",
       "                        }\n",
       "                        break;\n",
       "                    }\n",
       "                }\n",
       "            }, 500);\n",
       "            "
      ],
      "text/plain": [
       "<IPython.core.display.Javascript object>"
      ]
     },
     "metadata": {},
     "output_type": "display_data"
    }
   ],
   "source": [
    "yvar = \"helpful\"\n",
    "yval = 1\n",
    "\n",
    "series = gss[yvar]\n",
    "series.value_counts()"
   ]
  },
  {
   "cell_type": "code",
   "execution_count": 22,
   "id": "ee22fb59",
   "metadata": {
    "tags": []
   },
   "outputs": [
    {
     "data": {
      "application/javascript": [
       "\n",
       "            setTimeout(function() {\n",
       "                var nbb_cell_id = 22;\n",
       "                var nbb_unformatted_code = \"question = \\\"\\\"\\\"Would you say that most of the time people try to be helpful, \\nor that they are mostly just looking out for themselves?\\n\\\"\\\"\\\"\\n\\ntitle = \\\"Would people be helpful or look out for themselves?\\\"\\nsubtitle = \\\"Percent saying helpful\\\"\\nylim = [15, 75]\";\n",
       "                var nbb_formatted_code = \"question = \\\"\\\"\\\"Would you say that most of the time people try to be helpful, \\nor that they are mostly just looking out for themselves?\\n\\\"\\\"\\\"\\n\\ntitle = \\\"Would people be helpful or look out for themselves?\\\"\\nsubtitle = \\\"Percent saying helpful\\\"\\nylim = [15, 75]\";\n",
       "                var nbb_cells = Jupyter.notebook.get_cells();\n",
       "                for (var i = 0; i < nbb_cells.length; ++i) {\n",
       "                    if (nbb_cells[i].input_prompt_number == nbb_cell_id) {\n",
       "                        if (nbb_cells[i].get_text() == nbb_unformatted_code) {\n",
       "                             nbb_cells[i].set_text(nbb_formatted_code);\n",
       "                        }\n",
       "                        break;\n",
       "                    }\n",
       "                }\n",
       "            }, 500);\n",
       "            "
      ],
      "text/plain": [
       "<IPython.core.display.Javascript object>"
      ]
     },
     "metadata": {},
     "output_type": "display_data"
    }
   ],
   "source": [
    "question = \"\"\"Would you say that most of the time people try to be helpful, \n",
    "or that they are mostly just looking out for themselves?\n",
    "\"\"\"\n",
    "\n",
    "title = \"Would people be helpful or look out for themselves?\"\n",
    "subtitle = \"Percent saying helpful\"\n",
    "ylim = [15, 75]"
   ]
  },
  {
   "cell_type": "code",
   "execution_count": 23,
   "id": "28982735",
   "metadata": {},
   "outputs": [
    {
     "data": {
      "image/png": "[encoded data removed]",
      "text/plain": [
       "<Figure size 450x262.5 with 1 Axes>"
      ]
     },
     "metadata": {},
     "output_type": "display_data"
    },
    {
     "data": {
      "application/javascript": [
       "\n",
       "            setTimeout(function() {\n",
       "                var nbb_cell_id = 23;\n",
       "                var nbb_unformatted_code = \"plot_by_year(gss, yvar, yval)\\nplt.savefig(f\\\"optimism_{yvar}_by_year\\\", dpi=300)\";\n",
       "                var nbb_formatted_code = \"plot_by_year(gss, yvar, yval)\\nplt.savefig(f\\\"optimism_{yvar}_by_year\\\", dpi=300)\";\n",
       "                var nbb_cells = Jupyter.notebook.get_cells();\n",
       "                for (var i = 0; i < nbb_cells.length; ++i) {\n",
       "                    if (nbb_cells[i].input_prompt_number == nbb_cell_id) {\n",
       "                        if (nbb_cells[i].get_text() == nbb_unformatted_code) {\n",
       "                             nbb_cells[i].set_text(nbb_formatted_code);\n",
       "                        }\n",
       "                        break;\n",
       "                    }\n",
       "                }\n",
       "            }, 500);\n",
       "            "
      ],
      "text/plain": [
       "<IPython.core.display.Javascript object>"
      ]
     },
     "metadata": {},
     "output_type": "display_data"
    }
   ],
   "source": [
    "plot_by_year(gss, yvar, yval)\n",
    "plt.savefig(f\"optimism_{yvar}_by_year\", dpi=300)"
   ]
  },
  {
   "cell_type": "code",
   "execution_count": 24,
   "id": "daebeb38",
   "metadata": {},
   "outputs": [
    {
     "data": {
      "image/png": "[encoded data removed]",
      "text/plain": [
       "<Figure size 450x262.5 with 1 Axes>"
      ]
     },
     "metadata": {},
     "output_type": "display_data"
    },
    {
     "data": {
      "application/javascript": [
       "\n",
       "            setTimeout(function() {\n",
       "                var nbb_cell_id = 24;\n",
       "                var nbb_unformatted_code = \"plot_by_cohort(gss, yvar, yval)\\nplt.savefig(f\\\"optimism_{yvar}_by_cohort\\\", dpi=300)\";\n",
       "                var nbb_formatted_code = \"plot_by_cohort(gss, yvar, yval)\\nplt.savefig(f\\\"optimism_{yvar}_by_cohort\\\", dpi=300)\";\n",
       "                var nbb_cells = Jupyter.notebook.get_cells();\n",
       "                for (var i = 0; i < nbb_cells.length; ++i) {\n",
       "                    if (nbb_cells[i].input_prompt_number == nbb_cell_id) {\n",
       "                        if (nbb_cells[i].get_text() == nbb_unformatted_code) {\n",
       "                             nbb_cells[i].set_text(nbb_formatted_code);\n",
       "                        }\n",
       "                        break;\n",
       "                    }\n",
       "                }\n",
       "            }, 500);\n",
       "            "
      ],
      "text/plain": [
       "<IPython.core.display.Javascript object>"
      ]
     },
     "metadata": {},
     "output_type": "display_data"
    }
   ],
   "source": [
    "plot_by_cohort(gss, yvar, yval)\n",
    "plt.savefig(f\"optimism_{yvar}_by_cohort\", dpi=300)"
   ]
  },
  {
   "cell_type": "code",
   "execution_count": 25,
   "id": "9f2b1c31",
   "metadata": {
    "tags": []
   },
   "outputs": [
    {
     "data": {
      "application/javascript": [
       "\n",
       "            setTimeout(function() {\n",
       "                var nbb_cell_id = 25;\n",
       "                var nbb_unformatted_code = \"subset = gss.dropna(subset=[\\\"cohort\\\"]).copy()\\nsubset[\\\"cohort10\\\"] = subset[\\\"cohort10\\\"].astype(int)\\n\\ntable = make_table(subset, \\\"year\\\", yvar, \\\"cohort10\\\", yval)\\ndel table[1890]\\ndel table[1900]\";\n",
       "                var nbb_formatted_code = \"subset = gss.dropna(subset=[\\\"cohort\\\"]).copy()\\nsubset[\\\"cohort10\\\"] = subset[\\\"cohort10\\\"].astype(int)\\n\\ntable = make_table(subset, \\\"year\\\", yvar, \\\"cohort10\\\", yval)\\ndel table[1890]\\ndel table[1900]\";\n",
       "                var nbb_cells = Jupyter.notebook.get_cells();\n",
       "                for (var i = 0; i < nbb_cells.length; ++i) {\n",
       "                    if (nbb_cells[i].input_prompt_number == nbb_cell_id) {\n",
       "                        if (nbb_cells[i].get_text() == nbb_unformatted_code) {\n",
       "                             nbb_cells[i].set_text(nbb_formatted_code);\n",
       "                        }\n",
       "                        break;\n",
       "                    }\n",
       "                }\n",
       "            }, 500);\n",
       "            "
      ],
      "text/plain": [
       "<IPython.core.display.Javascript object>"
      ]
     },
     "metadata": {},
     "output_type": "display_data"
    }
   ],
   "source": [
    "subset = gss.dropna(subset=[\"cohort\"]).copy()\n",
    "subset[\"cohort10\"] = subset[\"cohort10\"].astype(int)\n",
    "\n",
    "table = make_table(subset, \"year\", yvar, \"cohort10\", yval)\n",
    "del table[1890]\n",
    "del table[1900]"
   ]
  },
  {
   "cell_type": "code",
   "execution_count": 26,
   "id": "64a47b77",
   "metadata": {
    "tags": []
   },
   "outputs": [
    {
     "data": {
      "application/javascript": [
       "\n",
       "            setTimeout(function() {\n",
       "                var nbb_cell_id = 26;\n",
       "                var nbb_unformatted_code = \"def plot_group(table, group):\\n    entry = table[group]\\n    plot_series_smooth(\\n        entry[\\\"series\\\"],\\n        entry[\\\"smooth\\\"],\\n        plot_series=True,\\n        color=\\\"C2\\\",\\n        label=f\\\"Born in the {group}s\\\",\\n    )\\n    plot_titles(title, subtitle)\\n    decorate(xlabel=\\\"Year of survey\\\", ylim=ylim, xlim=xlim, loc=\\\"lower left\\\")\";\n",
       "                var nbb_formatted_code = \"def plot_group(table, group):\\n    entry = table[group]\\n    plot_series_smooth(\\n        entry[\\\"series\\\"],\\n        entry[\\\"smooth\\\"],\\n        plot_series=True,\\n        color=\\\"C2\\\",\\n        label=f\\\"Born in the {group}s\\\",\\n    )\\n    plot_titles(title, subtitle)\\n    decorate(xlabel=\\\"Year of survey\\\", ylim=ylim, xlim=xlim, loc=\\\"lower left\\\")\";\n",
       "                var nbb_cells = Jupyter.notebook.get_cells();\n",
       "                for (var i = 0; i < nbb_cells.length; ++i) {\n",
       "                    if (nbb_cells[i].input_prompt_number == nbb_cell_id) {\n",
       "                        if (nbb_cells[i].get_text() == nbb_unformatted_code) {\n",
       "                             nbb_cells[i].set_text(nbb_formatted_code);\n",
       "                        }\n",
       "                        break;\n",
       "                    }\n",
       "                }\n",
       "            }, 500);\n",
       "            "
      ],
      "text/plain": [
       "<IPython.core.display.Javascript object>"
      ]
     },
     "metadata": {},
     "output_type": "display_data"
    }
   ],
   "source": [
    "def plot_group(table, group):\n",
    "    entry = table[group]\n",
    "    plot_series_smooth(\n",
    "        entry[\"series\"],\n",
    "        entry[\"smooth\"],\n",
    "        plot_series=True,\n",
    "        color=\"C2\",\n",
    "        label=f\"Born in the {group}s\",\n",
    "    )\n",
    "    plot_titles(title, subtitle)\n",
    "    decorate(xlabel=\"Year of survey\", ylim=ylim, xlim=xlim, loc=\"lower left\")"
   ]
  },
  {
   "cell_type": "code",
   "execution_count": 27,
   "id": "c82baf24",
   "metadata": {
    "tags": []
   },
   "outputs": [
    {
     "data": {
      "image/png": "[encoded data removed]",
      "text/plain": [
       "<Figure size 450x262.5 with 1 Axes>"
      ]
     },
     "metadata": {},
     "output_type": "display_data"
    },
    {
     "data": {
      "application/javascript": [
       "\n",
       "            setTimeout(function() {\n",
       "                var nbb_cell_id = 27;\n",
       "                var nbb_unformatted_code = \"plot_group(table, 2000)\\nplt.savefig(f\\\"optimism_{yvar}_one_cohort\\\", dpi=300)\";\n",
       "                var nbb_formatted_code = \"plot_group(table, 2000)\\nplt.savefig(f\\\"optimism_{yvar}_one_cohort\\\", dpi=300)\";\n",
       "                var nbb_cells = Jupyter.notebook.get_cells();\n",
       "                for (var i = 0; i < nbb_cells.length; ++i) {\n",
       "                    if (nbb_cells[i].input_prompt_number == nbb_cell_id) {\n",
       "                        if (nbb_cells[i].get_text() == nbb_unformatted_code) {\n",
       "                             nbb_cells[i].set_text(nbb_formatted_code);\n",
       "                        }\n",
       "                        break;\n",
       "                    }\n",
       "                }\n",
       "            }, 500);\n",
       "            "
      ],
      "text/plain": [
       "<IPython.core.display.Javascript object>"
      ]
     },
     "metadata": {},
     "output_type": "display_data"
    }
   ],
   "source": [
    "plot_group(table, 2000)\n",
    "plt.savefig(f\"optimism_{yvar}_one_cohort\", dpi=300)"
   ]
  },
  {
   "cell_type": "code",
   "execution_count": 28,
   "id": "f9fd739d",
   "metadata": {
    "tags": []
   },
   "outputs": [
    {
     "data": {
      "image/png": "[encoded data removed]",
      "text/plain": [
       "<Figure size 450x262.5 with 1 Axes>"
      ]
     },
     "metadata": {},
     "output_type": "display_data"
    },
    {
     "data": {
      "application/javascript": [
       "\n",
       "            setTimeout(function() {\n",
       "                var nbb_cell_id = 28;\n",
       "                var nbb_unformatted_code = \"nudge = {\\\"1960s\\\": 0, \\\"1970s\\\": 0}\\nplot_table(table, nudge)\\nplt.savefig(f\\\"optimism_{yvar}_by_cohort_over_year\\\", dpi=300)\";\n",
       "                var nbb_formatted_code = \"nudge = {\\\"1960s\\\": 0, \\\"1970s\\\": 0}\\nplot_table(table, nudge)\\nplt.savefig(f\\\"optimism_{yvar}_by_cohort_over_year\\\", dpi=300)\";\n",
       "                var nbb_cells = Jupyter.notebook.get_cells();\n",
       "                for (var i = 0; i < nbb_cells.length; ++i) {\n",
       "                    if (nbb_cells[i].input_prompt_number == nbb_cell_id) {\n",
       "                        if (nbb_cells[i].get_text() == nbb_unformatted_code) {\n",
       "                             nbb_cells[i].set_text(nbb_formatted_code);\n",
       "                        }\n",
       "                        break;\n",
       "                    }\n",
       "                }\n",
       "            }, 500);\n",
       "            "
      ],
      "text/plain": [
       "<IPython.core.display.Javascript object>"
      ]
     },
     "metadata": {},
     "output_type": "display_data"
    }
   ],
   "source": [
    "nudge = {\"1960s\": 0, \"1970s\": 0}\n",
    "plot_table(table, nudge)\n",
    "plt.savefig(f\"optimism_{yvar}_by_cohort_over_year\", dpi=300)"
   ]
  },
  {
   "cell_type": "markdown",
   "id": "38b73fc2",
   "metadata": {},
   "source": [
    "## trust"
   ]
  },
  {
   "cell_type": "code",
   "execution_count": 29,
   "id": "96111b24",
   "metadata": {
    "tags": []
   },
   "outputs": [
    {
     "data": {
      "application/javascript": [
       "\n",
       "            setTimeout(function() {\n",
       "                var nbb_cell_id = 29;\n",
       "                var nbb_unformatted_code = \"question = \\\"\\\"\\\"Generally speaking, would you say that most people can be trusted \\nor that you can't be too careful in dealing with people?\\n\\\"\\\"\\\"\\n\\ntitle = \\\"Can most people be trusted?\\\"\\nsubtitle = \\\"Percent saying yes\\\"\\nylim = [5, 65]\";\n",
       "                var nbb_formatted_code = \"question = \\\"\\\"\\\"Generally speaking, would you say that most people can be trusted \\nor that you can't be too careful in dealing with people?\\n\\\"\\\"\\\"\\n\\ntitle = \\\"Can most people be trusted?\\\"\\nsubtitle = \\\"Percent saying yes\\\"\\nylim = [5, 65]\";\n",
       "                var nbb_cells = Jupyter.notebook.get_cells();\n",
       "                for (var i = 0; i < nbb_cells.length; ++i) {\n",
       "                    if (nbb_cells[i].input_prompt_number == nbb_cell_id) {\n",
       "                        if (nbb_cells[i].get_text() == nbb_unformatted_code) {\n",
       "                             nbb_cells[i].set_text(nbb_formatted_code);\n",
       "                        }\n",
       "                        break;\n",
       "                    }\n",
       "                }\n",
       "            }, 500);\n",
       "            "
      ],
      "text/plain": [
       "<IPython.core.display.Javascript object>"
      ]
     },
     "metadata": {},
     "output_type": "display_data"
    }
   ],
   "source": [
    "question = \"\"\"Generally speaking, would you say that most people can be trusted \n",
    "or that you can't be too careful in dealing with people?\n",
    "\"\"\"\n",
    "\n",
    "title = \"Can most people be trusted?\"\n",
    "subtitle = \"Percent saying yes\"\n",
    "ylim = [5, 65]"
   ]
  },
  {
   "cell_type": "code",
   "execution_count": 30,
   "id": "48e2fa85",
   "metadata": {
    "tags": []
   },
   "outputs": [
    {
     "data": {
      "application/javascript": [
       "\n",
       "            setTimeout(function() {\n",
       "                var nbb_cell_id = 30;\n",
       "                var nbb_unformatted_code = \"# https://gssdataexplorer.norc.org/variables/441/vshow\\n\\n# 1 = can trust\\n# 2 = can't be too careful\\n# 3 = depends\";\n",
       "                var nbb_formatted_code = \"# https://gssdataexplorer.norc.org/variables/441/vshow\\n\\n# 1 = can trust\\n# 2 = can't be too careful\\n# 3 = depends\";\n",
       "                var nbb_cells = Jupyter.notebook.get_cells();\n",
       "                for (var i = 0; i < nbb_cells.length; ++i) {\n",
       "                    if (nbb_cells[i].input_prompt_number == nbb_cell_id) {\n",
       "                        if (nbb_cells[i].get_text() == nbb_unformatted_code) {\n",
       "                             nbb_cells[i].set_text(nbb_formatted_code);\n",
       "                        }\n",
       "                        break;\n",
       "                    }\n",
       "                }\n",
       "            }, 500);\n",
       "            "
      ],
      "text/plain": [
       "<IPython.core.display.Javascript object>"
      ]
     },
     "metadata": {},
     "output_type": "display_data"
    }
   ],
   "source": [
    "# https://gssdataexplorer.norc.org/variables/441/vshow\n",
    "\n",
    "# 1 = can trust\n",
    "# 2 = can't be too careful\n",
    "# 3 = depends"
   ]
  },
  {
   "cell_type": "code",
   "execution_count": 31,
   "id": "73bf5387",
   "metadata": {},
   "outputs": [
    {
     "data": {
      "text/plain": [
       "trust\n",
       "2.0    24890\n",
       "1.0    15783\n",
       "3.0     1966\n",
       "Name: count, dtype: int64"
      ]
     },
     "execution_count": 31,
     "metadata": {},
     "output_type": "execute_result"
    },
    {
     "data": {
      "application/javascript": [
       "\n",
       "            setTimeout(function() {\n",
       "                var nbb_cell_id = 31;\n",
       "                var nbb_unformatted_code = \"yvar = \\\"trust\\\"\\nyval = 1\\n\\nseries = gss[yvar]\\nseries.value_counts()\";\n",
       "                var nbb_formatted_code = \"yvar = \\\"trust\\\"\\nyval = 1\\n\\nseries = gss[yvar]\\nseries.value_counts()\";\n",
       "                var nbb_cells = Jupyter.notebook.get_cells();\n",
       "                for (var i = 0; i < nbb_cells.length; ++i) {\n",
       "                    if (nbb_cells[i].input_prompt_number == nbb_cell_id) {\n",
       "                        if (nbb_cells[i].get_text() == nbb_unformatted_code) {\n",
       "                             nbb_cells[i].set_text(nbb_formatted_code);\n",
       "                        }\n",
       "                        break;\n",
       "                    }\n",
       "                }\n",
       "            }, 500);\n",
       "            "
      ],
      "text/plain": [
       "<IPython.core.display.Javascript object>"
      ]
     },
     "metadata": {},
     "output_type": "display_data"
    }
   ],
   "source": [
    "yvar = \"trust\"\n",
    "yval = 1\n",
    "\n",
    "series = gss[yvar]\n",
    "series.value_counts()"
   ]
  },
  {
   "cell_type": "code",
   "execution_count": 32,
   "id": "6f4862df",
   "metadata": {},
   "outputs": [
    {
     "data": {
      "image/png": "[encoded data removed]",
      "text/plain": [
       "<Figure size 450x262.5 with 1 Axes>"
      ]
     },
     "metadata": {},
     "output_type": "display_data"
    },
    {
     "data": {
      "application/javascript": [
       "\n",
       "            setTimeout(function() {\n",
       "                var nbb_cell_id = 32;\n",
       "                var nbb_unformatted_code = \"plot_by_year(gss, yvar, yval)\\nplt.savefig(f\\\"optimism_{yvar}_by_year\\\", dpi=300)\";\n",
       "                var nbb_formatted_code = \"plot_by_year(gss, yvar, yval)\\nplt.savefig(f\\\"optimism_{yvar}_by_year\\\", dpi=300)\";\n",
       "                var nbb_cells = Jupyter.notebook.get_cells();\n",
       "                for (var i = 0; i < nbb_cells.length; ++i) {\n",
       "                    if (nbb_cells[i].input_prompt_number == nbb_cell_id) {\n",
       "                        if (nbb_cells[i].get_text() == nbb_unformatted_code) {\n",
       "                             nbb_cells[i].set_text(nbb_formatted_code);\n",
       "                        }\n",
       "                        break;\n",
       "                    }\n",
       "                }\n",
       "            }, 500);\n",
       "            "
      ],
      "text/plain": [
       "<IPython.core.display.Javascript object>"
      ]
     },
     "metadata": {},
     "output_type": "display_data"
    }
   ],
   "source": [
    "plot_by_year(gss, yvar, yval)\n",
    "plt.savefig(f\"optimism_{yvar}_by_year\", dpi=300)"
   ]
  },
  {
   "cell_type": "code",
   "execution_count": 33,
   "id": "4e0afe97",
   "metadata": {},
   "outputs": [
    {
     "data": {
      "image/png": "[encoded data removed]",
      "text/plain": [
       "<Figure size 450x262.5 with 1 Axes>"
      ]
     },
     "metadata": {},
     "output_type": "display_data"
    },
    {
     "data": {
      "application/javascript": [
       "\n",
       "            setTimeout(function() {\n",
       "                var nbb_cell_id = 33;\n",
       "                var nbb_unformatted_code = \"plot_by_cohort(gss, yvar, yval)\\nplt.savefig(f\\\"optimism_{yvar}_by_cohort\\\", dpi=300)\";\n",
       "                var nbb_formatted_code = \"plot_by_cohort(gss, yvar, yval)\\nplt.savefig(f\\\"optimism_{yvar}_by_cohort\\\", dpi=300)\";\n",
       "                var nbb_cells = Jupyter.notebook.get_cells();\n",
       "                for (var i = 0; i < nbb_cells.length; ++i) {\n",
       "                    if (nbb_cells[i].input_prompt_number == nbb_cell_id) {\n",
       "                        if (nbb_cells[i].get_text() == nbb_unformatted_code) {\n",
       "                             nbb_cells[i].set_text(nbb_formatted_code);\n",
       "                        }\n",
       "                        break;\n",
       "                    }\n",
       "                }\n",
       "            }, 500);\n",
       "            "
      ],
      "text/plain": [
       "<IPython.core.display.Javascript object>"
      ]
     },
     "metadata": {},
     "output_type": "display_data"
    }
   ],
   "source": [
    "plot_by_cohort(gss, yvar, yval)\n",
    "plt.savefig(f\"optimism_{yvar}_by_cohort\", dpi=300)"
   ]
  },
  {
   "cell_type": "code",
   "execution_count": 34,
   "id": "1c843e0e",
   "metadata": {
    "tags": []
   },
   "outputs": [
    {
     "data": {
      "application/javascript": [
       "\n",
       "            setTimeout(function() {\n",
       "                var nbb_cell_id = 34;\n",
       "                var nbb_unformatted_code = \"subset = gss.dropna(subset=[\\\"cohort\\\"]).copy()\\nsubset[\\\"cohort10\\\"] = subset[\\\"cohort10\\\"].astype(int)\\n\\ntable = make_table(subset, \\\"year\\\", yvar, \\\"cohort10\\\", yval)\\ndel table[1890]\\ndel table[1900]\";\n",
       "                var nbb_formatted_code = \"subset = gss.dropna(subset=[\\\"cohort\\\"]).copy()\\nsubset[\\\"cohort10\\\"] = subset[\\\"cohort10\\\"].astype(int)\\n\\ntable = make_table(subset, \\\"year\\\", yvar, \\\"cohort10\\\", yval)\\ndel table[1890]\\ndel table[1900]\";\n",
       "                var nbb_cells = Jupyter.notebook.get_cells();\n",
       "                for (var i = 0; i < nbb_cells.length; ++i) {\n",
       "                    if (nbb_cells[i].input_prompt_number == nbb_cell_id) {\n",
       "                        if (nbb_cells[i].get_text() == nbb_unformatted_code) {\n",
       "                             nbb_cells[i].set_text(nbb_formatted_code);\n",
       "                        }\n",
       "                        break;\n",
       "                    }\n",
       "                }\n",
       "            }, 500);\n",
       "            "
      ],
      "text/plain": [
       "<IPython.core.display.Javascript object>"
      ]
     },
     "metadata": {},
     "output_type": "display_data"
    }
   ],
   "source": [
    "subset = gss.dropna(subset=[\"cohort\"]).copy()\n",
    "subset[\"cohort10\"] = subset[\"cohort10\"].astype(int)\n",
    "\n",
    "table = make_table(subset, \"year\", yvar, \"cohort10\", yval)\n",
    "del table[1890]\n",
    "del table[1900]"
   ]
  },
  {
   "cell_type": "code",
   "execution_count": 35,
   "id": "95088da0",
   "metadata": {
    "tags": []
   },
   "outputs": [
    {
     "data": {
      "image/png": "[encoded data removed]",
      "text/plain": [
       "<Figure size 450x262.5 with 1 Axes>"
      ]
     },
     "metadata": {},
     "output_type": "display_data"
    },
    {
     "data": {
      "application/javascript": [
       "\n",
       "            setTimeout(function() {\n",
       "                var nbb_cell_id = 35;\n",
       "                var nbb_unformatted_code = \"plot_group(table, 2000)\\nplt.savefig(f\\\"optimism_{yvar}_one_cohort\\\", dpi=300)\";\n",
       "                var nbb_formatted_code = \"plot_group(table, 2000)\\nplt.savefig(f\\\"optimism_{yvar}_one_cohort\\\", dpi=300)\";\n",
       "                var nbb_cells = Jupyter.notebook.get_cells();\n",
       "                for (var i = 0; i < nbb_cells.length; ++i) {\n",
       "                    if (nbb_cells[i].input_prompt_number == nbb_cell_id) {\n",
       "                        if (nbb_cells[i].get_text() == nbb_unformatted_code) {\n",
       "                             nbb_cells[i].set_text(nbb_formatted_code);\n",
       "                        }\n",
       "                        break;\n",
       "                    }\n",
       "                }\n",
       "            }, 500);\n",
       "            "
      ],
      "text/plain": [
       "<IPython.core.display.Javascript object>"
      ]
     },
     "metadata": {},
     "output_type": "display_data"
    }
   ],
   "source": [
    "plot_group(table, 2000)\n",
    "plt.savefig(f\"optimism_{yvar}_one_cohort\", dpi=300)"
   ]
  },
  {
   "cell_type": "code",
   "execution_count": 36,
   "id": "ef389b78",
   "metadata": {
    "tags": []
   },
   "outputs": [
    {
     "data": {
      "image/png": "[encoded data removed]",
      "text/plain": [
       "<Figure size 450x262.5 with 1 Axes>"
      ]
     },
     "metadata": {},
     "output_type": "display_data"
    },
    {
     "data": {
      "application/javascript": [
       "\n",
       "            setTimeout(function() {\n",
       "                var nbb_cell_id = 36;\n",
       "                var nbb_unformatted_code = \"nudge = {\\\"1960s\\\": 0, \\\"1970s\\\": 0, \\\"1980s\\\": 0, \\\"1990s\\\": 0}\\nplot_table(table, nudge)\\nplt.savefig(f\\\"optimism_{yvar}_by_cohort_over_year\\\", dpi=300)\";\n",
       "                var nbb_formatted_code = \"nudge = {\\\"1960s\\\": 0, \\\"1970s\\\": 0, \\\"1980s\\\": 0, \\\"1990s\\\": 0}\\nplot_table(table, nudge)\\nplt.savefig(f\\\"optimism_{yvar}_by_cohort_over_year\\\", dpi=300)\";\n",
       "                var nbb_cells = Jupyter.notebook.get_cells();\n",
       "                for (var i = 0; i < nbb_cells.length; ++i) {\n",
       "                    if (nbb_cells[i].input_prompt_number == nbb_cell_id) {\n",
       "                        if (nbb_cells[i].get_text() == nbb_unformatted_code) {\n",
       "                             nbb_cells[i].set_text(nbb_formatted_code);\n",
       "                        }\n",
       "                        break;\n",
       "                    }\n",
       "                }\n",
       "            }, 500);\n",
       "            "
      ],
      "text/plain": [
       "<IPython.core.display.Javascript object>"
      ]
     },
     "metadata": {},
     "output_type": "display_data"
    }
   ],
   "source": [
    "nudge = {\"1960s\": 0, \"1970s\": 0, \"1980s\": 0, \"1990s\": 0}\n",
    "plot_table(table, nudge)\n",
    "plt.savefig(f\"optimism_{yvar}_by_cohort_over_year\", dpi=300)"
   ]
  },
  {
   "cell_type": "markdown",
   "id": "ef078194",
   "metadata": {},
   "source": [
    "## fair"
   ]
  },
  {
   "cell_type": "code",
   "execution_count": 37,
   "id": "aaab98ca",
   "metadata": {
    "tags": []
   },
   "outputs": [
    {
     "data": {
      "application/javascript": [
       "\n",
       "            setTimeout(function() {\n",
       "                var nbb_cell_id = 37;\n",
       "                var nbb_unformatted_code = \"question = \\\"\\\"\\\"Do you think most people would try to take advantage of \\nyou if they got a chance, or would they try to be fair?\\n\\\"\\\"\\\"\\n\\ntitle = \\\"Would people try to be fair?\\\"\\nsubtitle = \\\"Percent saying yes\\\"\\nylim = [20, 79]\";\n",
       "                var nbb_formatted_code = \"question = \\\"\\\"\\\"Do you think most people would try to take advantage of \\nyou if they got a chance, or would they try to be fair?\\n\\\"\\\"\\\"\\n\\ntitle = \\\"Would people try to be fair?\\\"\\nsubtitle = \\\"Percent saying yes\\\"\\nylim = [20, 79]\";\n",
       "                var nbb_cells = Jupyter.notebook.get_cells();\n",
       "                for (var i = 0; i < nbb_cells.length; ++i) {\n",
       "                    if (nbb_cells[i].input_prompt_number == nbb_cell_id) {\n",
       "                        if (nbb_cells[i].get_text() == nbb_unformatted_code) {\n",
       "                             nbb_cells[i].set_text(nbb_formatted_code);\n",
       "                        }\n",
       "                        break;\n",
       "                    }\n",
       "                }\n",
       "            }, 500);\n",
       "            "
      ],
      "text/plain": [
       "<IPython.core.display.Javascript object>"
      ]
     },
     "metadata": {},
     "output_type": "display_data"
    }
   ],
   "source": [
    "question = \"\"\"Do you think most people would try to take advantage of \n",
    "you if they got a chance, or would they try to be fair?\n",
    "\"\"\"\n",
    "\n",
    "title = \"Would people try to be fair?\"\n",
    "subtitle = \"Percent saying yes\"\n",
    "ylim = [20, 79]"
   ]
  },
  {
   "cell_type": "code",
   "execution_count": 38,
   "id": "1c40ba36",
   "metadata": {
    "tags": []
   },
   "outputs": [
    {
     "data": {
      "application/javascript": [
       "\n",
       "            setTimeout(function() {\n",
       "                var nbb_cell_id = 38;\n",
       "                var nbb_unformatted_code = \"# https://gssdataexplorer.norc.org/variables/440/vshow\\n\\n# 1 = would take advantage\\n# 2 = would try to be fair\\n# 3 = depends\";\n",
       "                var nbb_formatted_code = \"# https://gssdataexplorer.norc.org/variables/440/vshow\\n\\n# 1 = would take advantage\\n# 2 = would try to be fair\\n# 3 = depends\";\n",
       "                var nbb_cells = Jupyter.notebook.get_cells();\n",
       "                for (var i = 0; i < nbb_cells.length; ++i) {\n",
       "                    if (nbb_cells[i].input_prompt_number == nbb_cell_id) {\n",
       "                        if (nbb_cells[i].get_text() == nbb_unformatted_code) {\n",
       "                             nbb_cells[i].set_text(nbb_formatted_code);\n",
       "                        }\n",
       "                        break;\n",
       "                    }\n",
       "                }\n",
       "            }, 500);\n",
       "            "
      ],
      "text/plain": [
       "<IPython.core.display.Javascript object>"
      ]
     },
     "metadata": {},
     "output_type": "display_data"
    }
   ],
   "source": [
    "# https://gssdataexplorer.norc.org/variables/440/vshow\n",
    "\n",
    "# 1 = would take advantage\n",
    "# 2 = would try to be fair\n",
    "# 3 = depends"
   ]
  },
  {
   "cell_type": "code",
   "execution_count": 39,
   "id": "f32392d8",
   "metadata": {},
   "outputs": [
    {
     "data": {
      "text/plain": [
       "fair\n",
       "2.0    23484\n",
       "1.0    15979\n",
       "3.0     2837\n",
       "Name: count, dtype: int64"
      ]
     },
     "execution_count": 39,
     "metadata": {},
     "output_type": "execute_result"
    },
    {
     "data": {
      "application/javascript": [
       "\n",
       "            setTimeout(function() {\n",
       "                var nbb_cell_id = 39;\n",
       "                var nbb_unformatted_code = \"yvar = \\\"fair\\\"\\nyval = 2\\n\\nseries = gss[yvar]\\nseries.value_counts()\";\n",
       "                var nbb_formatted_code = \"yvar = \\\"fair\\\"\\nyval = 2\\n\\nseries = gss[yvar]\\nseries.value_counts()\";\n",
       "                var nbb_cells = Jupyter.notebook.get_cells();\n",
       "                for (var i = 0; i < nbb_cells.length; ++i) {\n",
       "                    if (nbb_cells[i].input_prompt_number == nbb_cell_id) {\n",
       "                        if (nbb_cells[i].get_text() == nbb_unformatted_code) {\n",
       "                             nbb_cells[i].set_text(nbb_formatted_code);\n",
       "                        }\n",
       "                        break;\n",
       "                    }\n",
       "                }\n",
       "            }, 500);\n",
       "            "
      ],
      "text/plain": [
       "<IPython.core.display.Javascript object>"
      ]
     },
     "metadata": {},
     "output_type": "display_data"
    }
   ],
   "source": [
    "yvar = \"fair\"\n",
    "yval = 2\n",
    "\n",
    "series = gss[yvar]\n",
    "series.value_counts()"
   ]
  },
  {
   "cell_type": "code",
   "execution_count": 40,
   "id": "5542de32",
   "metadata": {},
   "outputs": [
    {
     "data": {
      "image/png": "[encoded data removed]",
      "text/plain": [
       "<Figure size 450x262.5 with 1 Axes>"
      ]
     },
     "metadata": {},
     "output_type": "display_data"
    },
    {
     "data": {
      "application/javascript": [
       "\n",
       "            setTimeout(function() {\n",
       "                var nbb_cell_id = 40;\n",
       "                var nbb_unformatted_code = \"plot_by_year(gss, yvar, yval)\\nplt.savefig(f\\\"optimism_{yvar}_by_year\\\", dpi=300)\";\n",
       "                var nbb_formatted_code = \"plot_by_year(gss, yvar, yval)\\nplt.savefig(f\\\"optimism_{yvar}_by_year\\\", dpi=300)\";\n",
       "                var nbb_cells = Jupyter.notebook.get_cells();\n",
       "                for (var i = 0; i < nbb_cells.length; ++i) {\n",
       "                    if (nbb_cells[i].input_prompt_number == nbb_cell_id) {\n",
       "                        if (nbb_cells[i].get_text() == nbb_unformatted_code) {\n",
       "                             nbb_cells[i].set_text(nbb_formatted_code);\n",
       "                        }\n",
       "                        break;\n",
       "                    }\n",
       "                }\n",
       "            }, 500);\n",
       "            "
      ],
      "text/plain": [
       "<IPython.core.display.Javascript object>"
      ]
     },
     "metadata": {},
     "output_type": "display_data"
    }
   ],
   "source": [
    "plot_by_year(gss, yvar, yval)\n",
    "plt.savefig(f\"optimism_{yvar}_by_year\", dpi=300)"
   ]
  },
  {
   "cell_type": "code",
   "execution_count": 41,
   "id": "fd5f1ad0",
   "metadata": {},
   "outputs": [
    {
     "data": {
      "image/png": "[encoded data removed]",
      "text/plain": [
       "<Figure size 450x262.5 with 1 Axes>"
      ]
     },
     "metadata": {},
     "output_type": "display_data"
    },
    {
     "data": {
      "application/javascript": [
       "\n",
       "            setTimeout(function() {\n",
       "                var nbb_cell_id = 41;\n",
       "                var nbb_unformatted_code = \"plot_by_cohort(gss, yvar, yval)\\nplt.savefig(f\\\"optimism_{yvar}_by_cohort\\\", dpi=300)\";\n",
       "                var nbb_formatted_code = \"plot_by_cohort(gss, yvar, yval)\\nplt.savefig(f\\\"optimism_{yvar}_by_cohort\\\", dpi=300)\";\n",
       "                var nbb_cells = Jupyter.notebook.get_cells();\n",
       "                for (var i = 0; i < nbb_cells.length; ++i) {\n",
       "                    if (nbb_cells[i].input_prompt_number == nbb_cell_id) {\n",
       "                        if (nbb_cells[i].get_text() == nbb_unformatted_code) {\n",
       "                             nbb_cells[i].set_text(nbb_formatted_code);\n",
       "                        }\n",
       "                        break;\n",
       "                    }\n",
       "                }\n",
       "            }, 500);\n",
       "            "
      ],
      "text/plain": [
       "<IPython.core.display.Javascript object>"
      ]
     },
     "metadata": {},
     "output_type": "display_data"
    }
   ],
   "source": [
    "plot_by_cohort(gss, yvar, yval)\n",
    "plt.savefig(f\"optimism_{yvar}_by_cohort\", dpi=300)"
   ]
  },
  {
   "cell_type": "code",
   "execution_count": 42,
   "id": "79477bc9",
   "metadata": {
    "tags": []
   },
   "outputs": [
    {
     "data": {
      "application/javascript": [
       "\n",
       "            setTimeout(function() {\n",
       "                var nbb_cell_id = 42;\n",
       "                var nbb_unformatted_code = \"subset = gss.dropna(subset=[\\\"cohort\\\"]).copy()\\nsubset[\\\"cohort10\\\"] = subset[\\\"cohort10\\\"].astype(int)\\n\\ntable = make_table(subset, \\\"year\\\", yvar, \\\"cohort10\\\", yval)\\ndel table[1890]\\ndel table[1900]\";\n",
       "                var nbb_formatted_code = \"subset = gss.dropna(subset=[\\\"cohort\\\"]).copy()\\nsubset[\\\"cohort10\\\"] = subset[\\\"cohort10\\\"].astype(int)\\n\\ntable = make_table(subset, \\\"year\\\", yvar, \\\"cohort10\\\", yval)\\ndel table[1890]\\ndel table[1900]\";\n",
       "                var nbb_cells = Jupyter.notebook.get_cells();\n",
       "                for (var i = 0; i < nbb_cells.length; ++i) {\n",
       "                    if (nbb_cells[i].input_prompt_number == nbb_cell_id) {\n",
       "                        if (nbb_cells[i].get_text() == nbb_unformatted_code) {\n",
       "                             nbb_cells[i].set_text(nbb_formatted_code);\n",
       "                        }\n",
       "                        break;\n",
       "                    }\n",
       "                }\n",
       "            }, 500);\n",
       "            "
      ],
      "text/plain": [
       "<IPython.core.display.Javascript object>"
      ]
     },
     "metadata": {},
     "output_type": "display_data"
    }
   ],
   "source": [
    "subset = gss.dropna(subset=[\"cohort\"]).copy()\n",
    "subset[\"cohort10\"] = subset[\"cohort10\"].astype(int)\n",
    "\n",
    "table = make_table(subset, \"year\", yvar, \"cohort10\", yval)\n",
    "del table[1890]\n",
    "del table[1900]"
   ]
  },
  {
   "cell_type": "code",
   "execution_count": 43,
   "id": "344c73b0",
   "metadata": {
    "tags": []
   },
   "outputs": [
    {
     "data": {
      "image/png": "[encoded data removed]",
      "text/plain": [
       "<Figure size 450x262.5 with 1 Axes>"
      ]
     },
     "metadata": {},
     "output_type": "display_data"
    },
    {
     "data": {
      "application/javascript": [
       "\n",
       "            setTimeout(function() {\n",
       "                var nbb_cell_id = 43;\n",
       "                var nbb_unformatted_code = \"for group in table:\\n    plt.clf()\\n    plot_group(table, group)\\n    plt.savefig(f\\\"optimism_{yvar}_{group}_by_year\\\", dpi=300)\";\n",
       "                var nbb_formatted_code = \"for group in table:\\n    plt.clf()\\n    plot_group(table, group)\\n    plt.savefig(f\\\"optimism_{yvar}_{group}_by_year\\\", dpi=300)\";\n",
       "                var nbb_cells = Jupyter.notebook.get_cells();\n",
       "                for (var i = 0; i < nbb_cells.length; ++i) {\n",
       "                    if (nbb_cells[i].input_prompt_number == nbb_cell_id) {\n",
       "                        if (nbb_cells[i].get_text() == nbb_unformatted_code) {\n",
       "                             nbb_cells[i].set_text(nbb_formatted_code);\n",
       "                        }\n",
       "                        break;\n",
       "                    }\n",
       "                }\n",
       "            }, 500);\n",
       "            "
      ],
      "text/plain": [
       "<IPython.core.display.Javascript object>"
      ]
     },
     "metadata": {},
     "output_type": "display_data"
    }
   ],
   "source": [
    "for group in table:\n",
    "    plt.clf()\n",
    "    plot_group(table, group)\n",
    "    plt.savefig(f\"optimism_{yvar}_{group}_by_year\", dpi=300)"
   ]
  },
  {
   "cell_type": "code",
   "execution_count": 44,
   "id": "016db7f7",
   "metadata": {
    "tags": []
   },
   "outputs": [
    {
     "data": {
      "image/png": "[encoded data removed]",
      "text/plain": [
       "<Figure size 450x262.5 with 1 Axes>"
      ]
     },
     "metadata": {},
     "output_type": "display_data"
    },
    {
     "data": {
      "application/javascript": [
       "\n",
       "            setTimeout(function() {\n",
       "                var nbb_cell_id = 44;\n",
       "                var nbb_unformatted_code = \"nudge = {\\\"1960s\\\": 0, \\\"1970s\\\": 1.8, \\\"1980s\\\": 0, \\\"1990s\\\": 0}\\nplot_table(table, nudge)\\nplt.savefig(f\\\"optimism_{yvar}_by_cohort_over_year\\\", dpi=300)\";\n",
       "                var nbb_formatted_code = \"nudge = {\\\"1960s\\\": 0, \\\"1970s\\\": 1.8, \\\"1980s\\\": 0, \\\"1990s\\\": 0}\\nplot_table(table, nudge)\\nplt.savefig(f\\\"optimism_{yvar}_by_cohort_over_year\\\", dpi=300)\";\n",
       "                var nbb_cells = Jupyter.notebook.get_cells();\n",
       "                for (var i = 0; i < nbb_cells.length; ++i) {\n",
       "                    if (nbb_cells[i].input_prompt_number == nbb_cell_id) {\n",
       "                        if (nbb_cells[i].get_text() == nbb_unformatted_code) {\n",
       "                             nbb_cells[i].set_text(nbb_formatted_code);\n",
       "                        }\n",
       "                        break;\n",
       "                    }\n",
       "                }\n",
       "            }, 500);\n",
       "            "
      ],
      "text/plain": [
       "<IPython.core.display.Javascript object>"
      ]
     },
     "metadata": {},
     "output_type": "display_data"
    }
   ],
   "source": [
    "nudge = {\"1960s\": 0, \"1970s\": 1.8, \"1980s\": 0, \"1990s\": 0}\n",
    "plot_table(table, nudge)\n",
    "plt.savefig(f\"optimism_{yvar}_by_cohort_over_year\", dpi=300)"
   ]
  },
  {
   "cell_type": "markdown",
   "id": "530a5b1a",
   "metadata": {},
   "source": [
    "## happy"
   ]
  },
  {
   "cell_type": "code",
   "execution_count": 45,
   "id": "5cde52bc",
   "metadata": {
    "tags": []
   },
   "outputs": [
    {
     "data": {
      "application/javascript": [
       "\n",
       "            setTimeout(function() {\n",
       "                var nbb_cell_id = 45;\n",
       "                var nbb_unformatted_code = \"question = \\\"\\\"\\\"Taken all together, how would you say things are these days--\\nwould you say that you are very happy, pretty happy, or not too happy?\\n\\\"\\\"\\\"\\n\\ntitle = \\\"Are you happy?\\\"\\nsubtitle = \\\"Percent saying very happy\\\"\\nylim = [10, 45]\";\n",
       "                var nbb_formatted_code = \"question = \\\"\\\"\\\"Taken all together, how would you say things are these days--\\nwould you say that you are very happy, pretty happy, or not too happy?\\n\\\"\\\"\\\"\\n\\ntitle = \\\"Are you happy?\\\"\\nsubtitle = \\\"Percent saying very happy\\\"\\nylim = [10, 45]\";\n",
       "                var nbb_cells = Jupyter.notebook.get_cells();\n",
       "                for (var i = 0; i < nbb_cells.length; ++i) {\n",
       "                    if (nbb_cells[i].input_prompt_number == nbb_cell_id) {\n",
       "                        if (nbb_cells[i].get_text() == nbb_unformatted_code) {\n",
       "                             nbb_cells[i].set_text(nbb_formatted_code);\n",
       "                        }\n",
       "                        break;\n",
       "                    }\n",
       "                }\n",
       "            }, 500);\n",
       "            "
      ],
      "text/plain": [
       "<IPython.core.display.Javascript object>"
      ]
     },
     "metadata": {},
     "output_type": "display_data"
    }
   ],
   "source": [
    "question = \"\"\"Taken all together, how would you say things are these days--\n",
    "would you say that you are very happy, pretty happy, or not too happy?\n",
    "\"\"\"\n",
    "\n",
    "title = \"Are you happy?\"\n",
    "subtitle = \"Percent saying very happy\"\n",
    "ylim = [10, 45]"
   ]
  },
  {
   "cell_type": "code",
   "execution_count": 46,
   "id": "800bed63",
   "metadata": {
    "tags": []
   },
   "outputs": [
    {
     "data": {
      "application/javascript": [
       "\n",
       "            setTimeout(function() {\n",
       "                var nbb_cell_id = 46;\n",
       "                var nbb_unformatted_code = \"# https://gssdataexplorer.norc.org/variables/452/vshow\\n\\n# 1 = very happy\\n# 2 = pretty happy\\n# 3 = not too happy\";\n",
       "                var nbb_formatted_code = \"# https://gssdataexplorer.norc.org/variables/452/vshow\\n\\n# 1 = very happy\\n# 2 = pretty happy\\n# 3 = not too happy\";\n",
       "                var nbb_cells = Jupyter.notebook.get_cells();\n",
       "                for (var i = 0; i < nbb_cells.length; ++i) {\n",
       "                    if (nbb_cells[i].input_prompt_number == nbb_cell_id) {\n",
       "                        if (nbb_cells[i].get_text() == nbb_unformatted_code) {\n",
       "                             nbb_cells[i].set_text(nbb_formatted_code);\n",
       "                        }\n",
       "                        break;\n",
       "                    }\n",
       "                }\n",
       "            }, 500);\n",
       "            "
      ],
      "text/plain": [
       "<IPython.core.display.Javascript object>"
      ]
     },
     "metadata": {},
     "output_type": "display_data"
    }
   ],
   "source": [
    "# https://gssdataexplorer.norc.org/variables/452/vshow\n",
    "\n",
    "# 1 = very happy\n",
    "# 2 = pretty happy\n",
    "# 3 = not too happy"
   ]
  },
  {
   "cell_type": "code",
   "execution_count": 47,
   "id": "1ab3fde1",
   "metadata": {},
   "outputs": [
    {
     "data": {
      "text/plain": [
       "happy\n",
       "2.0    37446\n",
       "1.0    21550\n",
       "3.0     8681\n",
       "Name: count, dtype: int64"
      ]
     },
     "execution_count": 47,
     "metadata": {},
     "output_type": "execute_result"
    },
    {
     "data": {
      "application/javascript": [
       "\n",
       "            setTimeout(function() {\n",
       "                var nbb_cell_id = 47;\n",
       "                var nbb_unformatted_code = \"yvar = \\\"happy\\\"\\nyval = 1\\n\\nseries = gss[yvar]\\nseries.value_counts()\";\n",
       "                var nbb_formatted_code = \"yvar = \\\"happy\\\"\\nyval = 1\\n\\nseries = gss[yvar]\\nseries.value_counts()\";\n",
       "                var nbb_cells = Jupyter.notebook.get_cells();\n",
       "                for (var i = 0; i < nbb_cells.length; ++i) {\n",
       "                    if (nbb_cells[i].input_prompt_number == nbb_cell_id) {\n",
       "                        if (nbb_cells[i].get_text() == nbb_unformatted_code) {\n",
       "                             nbb_cells[i].set_text(nbb_formatted_code);\n",
       "                        }\n",
       "                        break;\n",
       "                    }\n",
       "                }\n",
       "            }, 500);\n",
       "            "
      ],
      "text/plain": [
       "<IPython.core.display.Javascript object>"
      ]
     },
     "metadata": {},
     "output_type": "display_data"
    }
   ],
   "source": [
    "yvar = \"happy\"\n",
    "yval = 1\n",
    "\n",
    "series = gss[yvar]\n",
    "series.value_counts()"
   ]
  },
  {
   "cell_type": "code",
   "execution_count": 48,
   "id": "4addcfed",
   "metadata": {},
   "outputs": [
    {
     "data": {
      "image/png": "[encoded data removed]",
      "text/plain": [
       "<Figure size 450x262.5 with 1 Axes>"
      ]
     },
     "metadata": {},
     "output_type": "display_data"
    },
    {
     "data": {
      "application/javascript": [
       "\n",
       "            setTimeout(function() {\n",
       "                var nbb_cell_id = 48;\n",
       "                var nbb_unformatted_code = \"plot_by_year(gss, yvar, yval)\\nplt.savefig(f\\\"optimism_{yvar}_by_year\\\", dpi=300)\";\n",
       "                var nbb_formatted_code = \"plot_by_year(gss, yvar, yval)\\nplt.savefig(f\\\"optimism_{yvar}_by_year\\\", dpi=300)\";\n",
       "                var nbb_cells = Jupyter.notebook.get_cells();\n",
       "                for (var i = 0; i < nbb_cells.length; ++i) {\n",
       "                    if (nbb_cells[i].input_prompt_number == nbb_cell_id) {\n",
       "                        if (nbb_cells[i].get_text() == nbb_unformatted_code) {\n",
       "                             nbb_cells[i].set_text(nbb_formatted_code);\n",
       "                        }\n",
       "                        break;\n",
       "                    }\n",
       "                }\n",
       "            }, 500);\n",
       "            "
      ],
      "text/plain": [
       "<IPython.core.display.Javascript object>"
      ]
     },
     "metadata": {},
     "output_type": "display_data"
    }
   ],
   "source": [
    "plot_by_year(gss, yvar, yval)\n",
    "plt.savefig(f\"optimism_{yvar}_by_year\", dpi=300)"
   ]
  },
  {
   "cell_type": "code",
   "execution_count": 49,
   "id": "01fb96c7",
   "metadata": {},
   "outputs": [
    {
     "data": {
      "image/png": "[encoded data removed]",
      "text/plain": [
       "<Figure size 450x262.5 with 1 Axes>"
      ]
     },
     "metadata": {},
     "output_type": "display_data"
    },
    {
     "data": {
      "application/javascript": [
       "\n",
       "            setTimeout(function() {\n",
       "                var nbb_cell_id = 49;\n",
       "                var nbb_unformatted_code = \"plot_by_cohort(gss, yvar, yval)\\nplt.savefig(f\\\"optimism_{yvar}_by_cohort\\\", dpi=300)\";\n",
       "                var nbb_formatted_code = \"plot_by_cohort(gss, yvar, yval)\\nplt.savefig(f\\\"optimism_{yvar}_by_cohort\\\", dpi=300)\";\n",
       "                var nbb_cells = Jupyter.notebook.get_cells();\n",
       "                for (var i = 0; i < nbb_cells.length; ++i) {\n",
       "                    if (nbb_cells[i].input_prompt_number == nbb_cell_id) {\n",
       "                        if (nbb_cells[i].get_text() == nbb_unformatted_code) {\n",
       "                             nbb_cells[i].set_text(nbb_formatted_code);\n",
       "                        }\n",
       "                        break;\n",
       "                    }\n",
       "                }\n",
       "            }, 500);\n",
       "            "
      ],
      "text/plain": [
       "<IPython.core.display.Javascript object>"
      ]
     },
     "metadata": {},
     "output_type": "display_data"
    }
   ],
   "source": [
    "plot_by_cohort(gss, yvar, yval)\n",
    "plt.savefig(f\"optimism_{yvar}_by_cohort\", dpi=300)"
   ]
  },
  {
   "cell_type": "code",
   "execution_count": 50,
   "id": "0148d725",
   "metadata": {},
   "outputs": [
    {
     "data": {
      "application/javascript": [
       "\n",
       "            setTimeout(function() {\n",
       "                var nbb_cell_id = 50;\n",
       "                var nbb_unformatted_code = \"subset = gss.dropna(subset=[\\\"cohort\\\"]).copy()\\nsubset[\\\"cohort10\\\"] = subset[\\\"cohort10\\\"].astype(int)\\n\\ntable = make_table(subset, \\\"year\\\", yvar, \\\"cohort10\\\", yval)\\ndel table[1890]\\ndel table[1900]\";\n",
       "                var nbb_formatted_code = \"subset = gss.dropna(subset=[\\\"cohort\\\"]).copy()\\nsubset[\\\"cohort10\\\"] = subset[\\\"cohort10\\\"].astype(int)\\n\\ntable = make_table(subset, \\\"year\\\", yvar, \\\"cohort10\\\", yval)\\ndel table[1890]\\ndel table[1900]\";\n",
       "                var nbb_cells = Jupyter.notebook.get_cells();\n",
       "                for (var i = 0; i < nbb_cells.length; ++i) {\n",
       "                    if (nbb_cells[i].input_prompt_number == nbb_cell_id) {\n",
       "                        if (nbb_cells[i].get_text() == nbb_unformatted_code) {\n",
       "                             nbb_cells[i].set_text(nbb_formatted_code);\n",
       "                        }\n",
       "                        break;\n",
       "                    }\n",
       "                }\n",
       "            }, 500);\n",
       "            "
      ],
      "text/plain": [
       "<IPython.core.display.Javascript object>"
      ]
     },
     "metadata": {},
     "output_type": "display_data"
    }
   ],
   "source": [
    "subset = gss.dropna(subset=[\"cohort\"]).copy()\n",
    "subset[\"cohort10\"] = subset[\"cohort10\"].astype(int)\n",
    "\n",
    "table = make_table(subset, \"year\", yvar, \"cohort10\", yval)\n",
    "del table[1890]\n",
    "del table[1900]"
   ]
  },
  {
   "cell_type": "code",
   "execution_count": 51,
   "id": "71dec433",
   "metadata": {
    "tags": []
   },
   "outputs": [
    {
     "data": {
      "image/png": "[encoded data removed]",
      "text/plain": [
       "<Figure size 450x262.5 with 1 Axes>"
      ]
     },
     "metadata": {},
     "output_type": "display_data"
    },
    {
     "data": {
      "application/javascript": [
       "\n",
       "            setTimeout(function() {\n",
       "                var nbb_cell_id = 51;\n",
       "                var nbb_unformatted_code = \"plot_group(table, 2000)\\nplt.savefig(f\\\"optimism_{yvar}_one_cohort\\\", dpi=300)\";\n",
       "                var nbb_formatted_code = \"plot_group(table, 2000)\\nplt.savefig(f\\\"optimism_{yvar}_one_cohort\\\", dpi=300)\";\n",
       "                var nbb_cells = Jupyter.notebook.get_cells();\n",
       "                for (var i = 0; i < nbb_cells.length; ++i) {\n",
       "                    if (nbb_cells[i].input_prompt_number == nbb_cell_id) {\n",
       "                        if (nbb_cells[i].get_text() == nbb_unformatted_code) {\n",
       "                             nbb_cells[i].set_text(nbb_formatted_code);\n",
       "                        }\n",
       "                        break;\n",
       "                    }\n",
       "                }\n",
       "            }, 500);\n",
       "            "
      ],
      "text/plain": [
       "<IPython.core.display.Javascript object>"
      ]
     },
     "metadata": {},
     "output_type": "display_data"
    }
   ],
   "source": [
    "plot_group(table, 2000)\n",
    "plt.savefig(f\"optimism_{yvar}_one_cohort\", dpi=300)"
   ]
  },
  {
   "cell_type": "code",
   "execution_count": 52,
   "id": "3ac4e366",
   "metadata": {
    "tags": []
   },
   "outputs": [
    {
     "data": {
      "image/png": "[encoded data removed]",
      "text/plain": [
       "<Figure size 450x262.5 with 1 Axes>"
      ]
     },
     "metadata": {},
     "output_type": "display_data"
    },
    {
     "data": {
      "application/javascript": [
       "\n",
       "            setTimeout(function() {\n",
       "                var nbb_cell_id = 52;\n",
       "                var nbb_unformatted_code = \"nudge = {\\\"1950s\\\": 0, \\\"1960s\\\": 0, \\\"1970s\\\": 0, \\\"1980s\\\": 0, \\\"1990s\\\": 0}\\nplot_table(table, nudge)\\nplt.savefig(f\\\"optimism_{yvar}_by_cohort_over_year\\\", dpi=300)\";\n",
       "                var nbb_formatted_code = \"nudge = {\\\"1950s\\\": 0, \\\"1960s\\\": 0, \\\"1970s\\\": 0, \\\"1980s\\\": 0, \\\"1990s\\\": 0}\\nplot_table(table, nudge)\\nplt.savefig(f\\\"optimism_{yvar}_by_cohort_over_year\\\", dpi=300)\";\n",
       "                var nbb_cells = Jupyter.notebook.get_cells();\n",
       "                for (var i = 0; i < nbb_cells.length; ++i) {\n",
       "                    if (nbb_cells[i].input_prompt_number == nbb_cell_id) {\n",
       "                        if (nbb_cells[i].get_text() == nbb_unformatted_code) {\n",
       "                             nbb_cells[i].set_text(nbb_formatted_code);\n",
       "                        }\n",
       "                        break;\n",
       "                    }\n",
       "                }\n",
       "            }, 500);\n",
       "            "
      ],
      "text/plain": [
       "<IPython.core.display.Javascript object>"
      ]
     },
     "metadata": {},
     "output_type": "display_data"
    }
   ],
   "source": [
    "nudge = {\"1950s\": 0, \"1960s\": 0, \"1970s\": 0, \"1980s\": 0, \"1990s\": 0}\n",
    "plot_table(table, nudge)\n",
    "plt.savefig(f\"optimism_{yvar}_by_cohort_over_year\", dpi=300)"
   ]
  },
  {
   "cell_type": "markdown",
   "id": "40cfd4ac",
   "metadata": {},
   "source": [
    "## explore..."
   ]
  },
  {
   "cell_type": "code",
   "execution_count": 53,
   "id": "36ff32cc",
   "metadata": {
    "tags": []
   },
   "outputs": [
    {
     "data": {
      "application/javascript": [
       "\n",
       "            setTimeout(function() {\n",
       "                var nbb_cell_id = 53;\n",
       "                var nbb_unformatted_code = \"question = \\\"\\\"\\\"\\n\\\"\\\"\\\"\\n\\ntitle = \\\"\\\"\\nsubtitle = \\\"Percent saying\\\"\\nylim = [5, 65]\";\n",
       "                var nbb_formatted_code = \"question = \\\"\\\"\\\"\\n\\\"\\\"\\\"\\n\\ntitle = \\\"\\\"\\nsubtitle = \\\"Percent saying\\\"\\nylim = [5, 65]\";\n",
       "                var nbb_cells = Jupyter.notebook.get_cells();\n",
       "                for (var i = 0; i < nbb_cells.length; ++i) {\n",
       "                    if (nbb_cells[i].input_prompt_number == nbb_cell_id) {\n",
       "                        if (nbb_cells[i].get_text() == nbb_unformatted_code) {\n",
       "                             nbb_cells[i].set_text(nbb_formatted_code);\n",
       "                        }\n",
       "                        break;\n",
       "                    }\n",
       "                }\n",
       "            }, 500);\n",
       "            "
      ],
      "text/plain": [
       "<IPython.core.display.Javascript object>"
      ]
     },
     "metadata": {},
     "output_type": "display_data"
    }
   ],
   "source": [
    "question = \"\"\"\n",
    "\"\"\"\n",
    "\n",
    "title = \"\"\n",
    "subtitle = \"Percent saying\"\n",
    "ylim = [5, 65]"
   ]
  },
  {
   "cell_type": "code",
   "execution_count": 54,
   "id": "d2802471",
   "metadata": {
    "tags": []
   },
   "outputs": [
    {
     "data": {
      "application/javascript": [
       "\n",
       "            setTimeout(function() {\n",
       "                var nbb_cell_id = 54;\n",
       "                var nbb_unformatted_code = \"# https://gssdataexplorer.norc.org/variables/437/vshow\\n\\n# 1 =\\n# 2 =\\n# 3 =\";\n",
       "                var nbb_formatted_code = \"# https://gssdataexplorer.norc.org/variables/437/vshow\\n\\n# 1 =\\n# 2 =\\n# 3 =\";\n",
       "                var nbb_cells = Jupyter.notebook.get_cells();\n",
       "                for (var i = 0; i < nbb_cells.length; ++i) {\n",
       "                    if (nbb_cells[i].input_prompt_number == nbb_cell_id) {\n",
       "                        if (nbb_cells[i].get_text() == nbb_unformatted_code) {\n",
       "                             nbb_cells[i].set_text(nbb_formatted_code);\n",
       "                        }\n",
       "                        break;\n",
       "                    }\n",
       "                }\n",
       "            }, 500);\n",
       "            "
      ],
      "text/plain": [
       "<IPython.core.display.Javascript object>"
      ]
     },
     "metadata": {},
     "output_type": "display_data"
    }
   ],
   "source": [
    "# https://gssdataexplorer.norc.org/variables/437/vshow\n",
    "\n",
    "# 1 =\n",
    "# 2 =\n",
    "# 3 ="
   ]
  },
  {
   "cell_type": "code",
   "execution_count": 55,
   "id": "9eb16361",
   "metadata": {},
   "outputs": [
    {
     "data": {
      "text/plain": [
       "conclerg\n",
       "2.0    24416\n",
       "1.0    12476\n",
       "3.0    10475\n",
       "Name: count, dtype: int64"
      ]
     },
     "execution_count": 55,
     "metadata": {},
     "output_type": "execute_result"
    },
    {
     "data": {
      "application/javascript": [
       "\n",
       "            setTimeout(function() {\n",
       "                var nbb_cell_id = 55;\n",
       "                var nbb_unformatted_code = \"yvar = \\\"conclerg\\\"\\nyval = 1\\n\\nseries = gss[yvar]\\nseries.value_counts()\";\n",
       "                var nbb_formatted_code = \"yvar = \\\"conclerg\\\"\\nyval = 1\\n\\nseries = gss[yvar]\\nseries.value_counts()\";\n",
       "                var nbb_cells = Jupyter.notebook.get_cells();\n",
       "                for (var i = 0; i < nbb_cells.length; ++i) {\n",
       "                    if (nbb_cells[i].input_prompt_number == nbb_cell_id) {\n",
       "                        if (nbb_cells[i].get_text() == nbb_unformatted_code) {\n",
       "                             nbb_cells[i].set_text(nbb_formatted_code);\n",
       "                        }\n",
       "                        break;\n",
       "                    }\n",
       "                }\n",
       "            }, 500);\n",
       "            "
      ],
      "text/plain": [
       "<IPython.core.display.Javascript object>"
      ]
     },
     "metadata": {},
     "output_type": "display_data"
    }
   ],
   "source": [
    "yvar = \"conclerg\"\n",
    "yval = 1\n",
    "\n",
    "series = gss[yvar]\n",
    "series.value_counts()"
   ]
  },
  {
   "cell_type": "code",
   "execution_count": 56,
   "id": "cb4a3347",
   "metadata": {},
   "outputs": [
    {
     "data": {
      "image/png": "[encoded data removed]",
      "text/plain": [
       "<Figure size 450x262.5 with 1 Axes>"
      ]
     },
     "metadata": {},
     "output_type": "display_data"
    },
    {
     "data": {
      "application/javascript": [
       "\n",
       "            setTimeout(function() {\n",
       "                var nbb_cell_id = 56;\n",
       "                var nbb_unformatted_code = \"plot_by_year(gss, yvar, yval)\\nplt.savefig(f\\\"optimism_{yvar}_by_year\\\", dpi=300)\";\n",
       "                var nbb_formatted_code = \"plot_by_year(gss, yvar, yval)\\nplt.savefig(f\\\"optimism_{yvar}_by_year\\\", dpi=300)\";\n",
       "                var nbb_cells = Jupyter.notebook.get_cells();\n",
       "                for (var i = 0; i < nbb_cells.length; ++i) {\n",
       "                    if (nbb_cells[i].input_prompt_number == nbb_cell_id) {\n",
       "                        if (nbb_cells[i].get_text() == nbb_unformatted_code) {\n",
       "                             nbb_cells[i].set_text(nbb_formatted_code);\n",
       "                        }\n",
       "                        break;\n",
       "                    }\n",
       "                }\n",
       "            }, 500);\n",
       "            "
      ],
      "text/plain": [
       "<IPython.core.display.Javascript object>"
      ]
     },
     "metadata": {},
     "output_type": "display_data"
    }
   ],
   "source": [
    "plot_by_year(gss, yvar, yval)\n",
    "plt.savefig(f\"optimism_{yvar}_by_year\", dpi=300)"
   ]
  },
  {
   "cell_type": "code",
   "execution_count": 57,
   "id": "a9da15a3",
   "metadata": {},
   "outputs": [
    {
     "data": {
      "image/png": "[encoded data removed]",
      "text/plain": [
       "<Figure size 450x262.5 with 1 Axes>"
      ]
     },
     "metadata": {},
     "output_type": "display_data"
    },
    {
     "data": {
      "application/javascript": [
       "\n",
       "            setTimeout(function() {\n",
       "                var nbb_cell_id = 57;\n",
       "                var nbb_unformatted_code = \"plot_by_cohort(gss, yvar, yval)\\nplt.savefig(f\\\"optimism_{yvar}_by_cohort\\\", dpi=300)\";\n",
       "                var nbb_formatted_code = \"plot_by_cohort(gss, yvar, yval)\\nplt.savefig(f\\\"optimism_{yvar}_by_cohort\\\", dpi=300)\";\n",
       "                var nbb_cells = Jupyter.notebook.get_cells();\n",
       "                for (var i = 0; i < nbb_cells.length; ++i) {\n",
       "                    if (nbb_cells[i].input_prompt_number == nbb_cell_id) {\n",
       "                        if (nbb_cells[i].get_text() == nbb_unformatted_code) {\n",
       "                             nbb_cells[i].set_text(nbb_formatted_code);\n",
       "                        }\n",
       "                        break;\n",
       "                    }\n",
       "                }\n",
       "            }, 500);\n",
       "            "
      ],
      "text/plain": [
       "<IPython.core.display.Javascript object>"
      ]
     },
     "metadata": {},
     "output_type": "display_data"
    }
   ],
   "source": [
    "plot_by_cohort(gss, yvar, yval)\n",
    "plt.savefig(f\"optimism_{yvar}_by_cohort\", dpi=300)"
   ]
  },
  {
   "cell_type": "code",
   "execution_count": 58,
   "id": "14dcc2ef",
   "metadata": {
    "tags": []
   },
   "outputs": [
    {
     "data": {
      "application/javascript": [
       "\n",
       "            setTimeout(function() {\n",
       "                var nbb_cell_id = 58;\n",
       "                var nbb_unformatted_code = \"subset = gss.dropna(subset=[\\\"cohort\\\"]).copy()\\nsubset[\\\"cohort10\\\"] = subset[\\\"cohort10\\\"].astype(int)\\n\\ntable = make_table(subset, \\\"year\\\", yvar, \\\"cohort10\\\", yval)\\ndel table[1890]\\ndel table[1900]\";\n",
       "                var nbb_formatted_code = \"subset = gss.dropna(subset=[\\\"cohort\\\"]).copy()\\nsubset[\\\"cohort10\\\"] = subset[\\\"cohort10\\\"].astype(int)\\n\\ntable = make_table(subset, \\\"year\\\", yvar, \\\"cohort10\\\", yval)\\ndel table[1890]\\ndel table[1900]\";\n",
       "                var nbb_cells = Jupyter.notebook.get_cells();\n",
       "                for (var i = 0; i < nbb_cells.length; ++i) {\n",
       "                    if (nbb_cells[i].input_prompt_number == nbb_cell_id) {\n",
       "                        if (nbb_cells[i].get_text() == nbb_unformatted_code) {\n",
       "                             nbb_cells[i].set_text(nbb_formatted_code);\n",
       "                        }\n",
       "                        break;\n",
       "                    }\n",
       "                }\n",
       "            }, 500);\n",
       "            "
      ],
      "text/plain": [
       "<IPython.core.display.Javascript object>"
      ]
     },
     "metadata": {},
     "output_type": "display_data"
    }
   ],
   "source": [
    "subset = gss.dropna(subset=[\"cohort\"]).copy()\n",
    "subset[\"cohort10\"] = subset[\"cohort10\"].astype(int)\n",
    "\n",
    "table = make_table(subset, \"year\", yvar, \"cohort10\", yval)\n",
    "del table[1890]\n",
    "del table[1900]"
   ]
  },
  {
   "cell_type": "code",
   "execution_count": 59,
   "id": "d08620b5",
   "metadata": {
    "tags": []
   },
   "outputs": [
    {
     "data": {
      "image/png": "[encoded data removed]",
      "text/plain": [
       "<Figure size 450x262.5 with 1 Axes>"
      ]
     },
     "metadata": {},
     "output_type": "display_data"
    },
    {
     "data": {
      "application/javascript": [
       "\n",
       "            setTimeout(function() {\n",
       "                var nbb_cell_id = 59;\n",
       "                var nbb_unformatted_code = \"plot_group(table, 2000)\\nplt.savefig(f\\\"optimism_{yvar}_one_cohort\\\", dpi=300)\";\n",
       "                var nbb_formatted_code = \"plot_group(table, 2000)\\nplt.savefig(f\\\"optimism_{yvar}_one_cohort\\\", dpi=300)\";\n",
       "                var nbb_cells = Jupyter.notebook.get_cells();\n",
       "                for (var i = 0; i < nbb_cells.length; ++i) {\n",
       "                    if (nbb_cells[i].input_prompt_number == nbb_cell_id) {\n",
       "                        if (nbb_cells[i].get_text() == nbb_unformatted_code) {\n",
       "                             nbb_cells[i].set_text(nbb_formatted_code);\n",
       "                        }\n",
       "                        break;\n",
       "                    }\n",
       "                }\n",
       "            }, 500);\n",
       "            "
      ],
      "text/plain": [
       "<IPython.core.display.Javascript object>"
      ]
     },
     "metadata": {},
     "output_type": "display_data"
    }
   ],
   "source": [
    "plot_group(table, 2000)\n",
    "plt.savefig(f\"optimism_{yvar}_one_cohort\", dpi=300)"
   ]
  },
  {
   "cell_type": "code",
   "execution_count": 60,
   "id": "2641c896",
   "metadata": {
    "tags": []
   },
   "outputs": [
    {
     "data": {
      "image/png": "[encoded data removed]",
      "text/plain": [
       "<Figure size 450x262.5 with 1 Axes>"
      ]
     },
     "metadata": {},
     "output_type": "display_data"
    },
    {
     "data": {
      "application/javascript": [
       "\n",
       "            setTimeout(function() {\n",
       "                var nbb_cell_id = 60;\n",
       "                var nbb_unformatted_code = \"nudge = {\\\"1950s\\\": 0, \\\"1960s\\\": 0, \\\"1970s\\\": 0, \\\"1980s\\\": 0, \\\"1990s\\\": 0}\\nplot_table(table, nudge)\\nplt.savefig(f\\\"optimism_{yvar}_by_cohort_over_year\\\", dpi=300)\";\n",
       "                var nbb_formatted_code = \"nudge = {\\\"1950s\\\": 0, \\\"1960s\\\": 0, \\\"1970s\\\": 0, \\\"1980s\\\": 0, \\\"1990s\\\": 0}\\nplot_table(table, nudge)\\nplt.savefig(f\\\"optimism_{yvar}_by_cohort_over_year\\\", dpi=300)\";\n",
       "                var nbb_cells = Jupyter.notebook.get_cells();\n",
       "                for (var i = 0; i < nbb_cells.length; ++i) {\n",
       "                    if (nbb_cells[i].input_prompt_number == nbb_cell_id) {\n",
       "                        if (nbb_cells[i].get_text() == nbb_unformatted_code) {\n",
       "                             nbb_cells[i].set_text(nbb_formatted_code);\n",
       "                        }\n",
       "                        break;\n",
       "                    }\n",
       "                }\n",
       "            }, 500);\n",
       "            "
      ],
      "text/plain": [
       "<IPython.core.display.Javascript object>"
      ]
     },
     "metadata": {},
     "output_type": "display_data"
    }
   ],
   "source": [
    "nudge = {\"1950s\": 0, \"1960s\": 0, \"1970s\": 0, \"1980s\": 0, \"1990s\": 0}\n",
    "plot_table(table, nudge)\n",
    "plt.savefig(f\"optimism_{yvar}_by_cohort_over_year\", dpi=300)"
   ]
  },
  {
   "cell_type": "markdown",
   "id": "15c26b32",
   "metadata": {
    "tags": []
   },
   "source": [
    "Copyright 2024 Allen Downey \n",
    "\n",
    "The code in this notebook and `utils.py` is under the [MIT license](https://mit-license.org/)."
   ]
  },
  {
   "cell_type": "code",
   "execution_count": 61,
   "id": "3b6980b8",
   "metadata": {},
   "outputs": [
    {
     "data": {
      "text/html": [
       "<div>\n",
       "<style scoped>\n",
       "    .dataframe tbody tr th:only-of-type {\n",
       "        vertical-align: middle;\n",
       "    }\n",
       "\n",
       "    .dataframe tbody tr th {\n",
       "        vertical-align: top;\n",
       "    }\n",
       "\n",
       "    .dataframe thead th {\n",
       "        text-align: right;\n",
       "    }\n",
       "</style>\n",
       "<table border=\"1\" class=\"dataframe\">\n",
       "  <thead>\n",
       "    <tr style=\"text-align: right;\">\n",
       "      <th></th>\n",
       "      <th>year1</th>\n",
       "      <th>year2</th>\n",
       "      <th>y</th>\n",
       "    </tr>\n",
       "  </thead>\n",
       "  <tbody>\n",
       "    <tr>\n",
       "      <th>62485</th>\n",
       "      <td>28</td>\n",
       "      <td>784</td>\n",
       "      <td>1</td>\n",
       "    </tr>\n",
       "    <tr>\n",
       "      <th>62506</th>\n",
       "      <td>28</td>\n",
       "      <td>784</td>\n",
       "      <td>0</td>\n",
       "    </tr>\n",
       "    <tr>\n",
       "      <th>62573</th>\n",
       "      <td>28</td>\n",
       "      <td>784</td>\n",
       "      <td>0</td>\n",
       "    </tr>\n",
       "    <tr>\n",
       "      <th>62585</th>\n",
       "      <td>28</td>\n",
       "      <td>784</td>\n",
       "      <td>0</td>\n",
       "    </tr>\n",
       "    <tr>\n",
       "      <th>62746</th>\n",
       "      <td>28</td>\n",
       "      <td>784</td>\n",
       "      <td>0</td>\n",
       "    </tr>\n",
       "    <tr>\n",
       "      <th>...</th>\n",
       "      <td>...</td>\n",
       "      <td>...</td>\n",
       "      <td>...</td>\n",
       "    </tr>\n",
       "    <tr>\n",
       "      <th>72354</th>\n",
       "      <td>32</td>\n",
       "      <td>1024</td>\n",
       "      <td>0</td>\n",
       "    </tr>\n",
       "    <tr>\n",
       "      <th>72360</th>\n",
       "      <td>32</td>\n",
       "      <td>1024</td>\n",
       "      <td>0</td>\n",
       "    </tr>\n",
       "    <tr>\n",
       "      <th>72365</th>\n",
       "      <td>32</td>\n",
       "      <td>1024</td>\n",
       "      <td>0</td>\n",
       "    </tr>\n",
       "    <tr>\n",
       "      <th>72378</th>\n",
       "      <td>32</td>\n",
       "      <td>1024</td>\n",
       "      <td>1</td>\n",
       "    </tr>\n",
       "    <tr>\n",
       "      <th>72387</th>\n",
       "      <td>32</td>\n",
       "      <td>1024</td>\n",
       "      <td>0</td>\n",
       "    </tr>\n",
       "  </tbody>\n",
       "</table>\n",
       "<p>545 rows × 3 columns</p>\n",
       "</div>"
      ],
      "text/plain": [
       "       year1  year2  y\n",
       "62485     28    784  1\n",
       "62506     28    784  0\n",
       "62573     28    784  0\n",
       "62585     28    784  0\n",
       "62746     28    784  0\n",
       "...      ...    ... ..\n",
       "72354     32   1024  0\n",
       "72360     32   1024  0\n",
       "72365     32   1024  0\n",
       "72378     32   1024  1\n",
       "72387     32   1024  0\n",
       "\n",
       "[545 rows x 3 columns]"
      ]
     },
     "execution_count": 61,
     "metadata": {},
     "output_type": "execute_result"
    },
    {
     "data": {
      "application/javascript": [
       "\n",
       "            setTimeout(function() {\n",
       "                var nbb_cell_id = 61;\n",
       "                var nbb_unformatted_code = \"yvar = \\\"happy\\\"\\nyval = 1\\n\\nsubset = gss.query(\\\"cohort10==2000\\\").copy()\\nsubset[\\\"y\\\"] = (subset[yvar] == yval).astype(int)\\nsubset[\\\"year1\\\"] = subset[\\\"year\\\"] - 1990\\nsubset[\\\"year2\\\"] = (subset[\\\"year\\\"] - 1990) ** 2\\nsubset[[\\\"year1\\\", \\\"year2\\\", \\\"y\\\"]]\";\n",
       "                var nbb_formatted_code = \"yvar = \\\"happy\\\"\\nyval = 1\\n\\nsubset = gss.query(\\\"cohort10==2000\\\").copy()\\nsubset[\\\"y\\\"] = (subset[yvar] == yval).astype(int)\\nsubset[\\\"year1\\\"] = subset[\\\"year\\\"] - 1990\\nsubset[\\\"year2\\\"] = (subset[\\\"year\\\"] - 1990) ** 2\\nsubset[[\\\"year1\\\", \\\"year2\\\", \\\"y\\\"]]\";\n",
       "                var nbb_cells = Jupyter.notebook.get_cells();\n",
       "                for (var i = 0; i < nbb_cells.length; ++i) {\n",
       "                    if (nbb_cells[i].input_prompt_number == nbb_cell_id) {\n",
       "                        if (nbb_cells[i].get_text() == nbb_unformatted_code) {\n",
       "                             nbb_cells[i].set_text(nbb_formatted_code);\n",
       "                        }\n",
       "                        break;\n",
       "                    }\n",
       "                }\n",
       "            }, 500);\n",
       "            "
      ],
      "text/plain": [
       "<IPython.core.display.Javascript object>"
      ]
     },
     "metadata": {},
     "output_type": "display_data"
    }
   ],
   "source": [
    "yvar = \"happy\"\n",
    "yval = 1\n",
    "\n",
    "subset = gss.query(\"cohort10==2000\").copy()\n",
    "subset[\"y\"] = (subset[yvar] == yval).astype(int)\n",
    "subset[\"year1\"] = subset[\"year\"] - 1990\n",
    "subset[\"year2\"] = (subset[\"year\"] - 1990) ** 2\n",
    "subset[[\"year1\", \"year2\", \"y\"]]"
   ]
  },
  {
   "cell_type": "code",
   "execution_count": 62,
   "id": "6f28f964",
   "metadata": {},
   "outputs": [
    {
     "data": {
      "text/plain": [
       "year\n",
       "2018    0.166667\n",
       "2021    0.102439\n",
       "2022    0.177632\n",
       "Name: y, dtype: float64"
      ]
     },
     "execution_count": 62,
     "metadata": {},
     "output_type": "execute_result"
    },
    {
     "data": {
      "application/javascript": [
       "\n",
       "            setTimeout(function() {\n",
       "                var nbb_cell_id = 62;\n",
       "                var nbb_unformatted_code = \"actual = subset.groupby(\\\"year\\\")[\\\"y\\\"].mean()\\nactual\";\n",
       "                var nbb_formatted_code = \"actual = subset.groupby(\\\"year\\\")[\\\"y\\\"].mean()\\nactual\";\n",
       "                var nbb_cells = Jupyter.notebook.get_cells();\n",
       "                for (var i = 0; i < nbb_cells.length; ++i) {\n",
       "                    if (nbb_cells[i].input_prompt_number == nbb_cell_id) {\n",
       "                        if (nbb_cells[i].get_text() == nbb_unformatted_code) {\n",
       "                             nbb_cells[i].set_text(nbb_formatted_code);\n",
       "                        }\n",
       "                        break;\n",
       "                    }\n",
       "                }\n",
       "            }, 500);\n",
       "            "
      ],
      "text/plain": [
       "<IPython.core.display.Javascript object>"
      ]
     },
     "metadata": {},
     "output_type": "display_data"
    }
   ],
   "source": [
    "actual = subset.groupby(\"year\")[\"y\"].mean()\n",
    "actual"
   ]
  },
  {
   "cell_type": "code",
   "execution_count": 63,
   "id": "70227b77",
   "metadata": {},
   "outputs": [
    {
     "name": "stdout",
     "output_type": "stream",
     "text": [
      "Optimization terminated successfully.\n",
      "         Current function value: 0.419664\n",
      "         Iterations 6\n"
     ]
    },
    {
     "data": {
      "application/javascript": [
       "\n",
       "            setTimeout(function() {\n",
       "                var nbb_cell_id = 63;\n",
       "                var nbb_unformatted_code = \"import statsmodels.formula.api as smf\\n\\n# Fit logistic regression model using smf\\nmodel = smf.logit(\\\"y ~ year1\\\", data=subset)\\nresult = model.fit()\";\n",
       "                var nbb_formatted_code = \"import statsmodels.formula.api as smf\\n\\n# Fit logistic regression model using smf\\nmodel = smf.logit(\\\"y ~ year1\\\", data=subset)\\nresult = model.fit()\";\n",
       "                var nbb_cells = Jupyter.notebook.get_cells();\n",
       "                for (var i = 0; i < nbb_cells.length; ++i) {\n",
       "                    if (nbb_cells[i].input_prompt_number == nbb_cell_id) {\n",
       "                        if (nbb_cells[i].get_text() == nbb_unformatted_code) {\n",
       "                             nbb_cells[i].set_text(nbb_formatted_code);\n",
       "                        }\n",
       "                        break;\n",
       "                    }\n",
       "                }\n",
       "            }, 500);\n",
       "            "
      ],
      "text/plain": [
       "<IPython.core.display.Javascript object>"
      ]
     },
     "metadata": {},
     "output_type": "display_data"
    }
   ],
   "source": [
    "import statsmodels.formula.api as smf\n",
    "\n",
    "# Fit logistic regression model using smf\n",
    "model = smf.logit(\"y ~ year1\", data=subset)\n",
    "result = model.fit()"
   ]
  },
  {
   "cell_type": "code",
   "execution_count": 64,
   "id": "1c796ccf",
   "metadata": {},
   "outputs": [
    {
     "data": {
      "text/html": [
       "<div>\n",
       "<style scoped>\n",
       "    .dataframe tbody tr th:only-of-type {\n",
       "        vertical-align: middle;\n",
       "    }\n",
       "\n",
       "    .dataframe tbody tr th {\n",
       "        vertical-align: top;\n",
       "    }\n",
       "\n",
       "    .dataframe thead th {\n",
       "        text-align: right;\n",
       "    }\n",
       "</style>\n",
       "<table border=\"1\" class=\"dataframe\">\n",
       "  <thead>\n",
       "    <tr style=\"text-align: right;\">\n",
       "      <th></th>\n",
       "      <th>year1</th>\n",
       "      <th>year2</th>\n",
       "    </tr>\n",
       "  </thead>\n",
       "  <tbody>\n",
       "    <tr>\n",
       "      <th>0</th>\n",
       "      <td>28</td>\n",
       "      <td>784</td>\n",
       "    </tr>\n",
       "    <tr>\n",
       "      <th>1</th>\n",
       "      <td>31</td>\n",
       "      <td>961</td>\n",
       "    </tr>\n",
       "    <tr>\n",
       "      <th>2</th>\n",
       "      <td>32</td>\n",
       "      <td>1024</td>\n",
       "    </tr>\n",
       "  </tbody>\n",
       "</table>\n",
       "</div>"
      ],
      "text/plain": [
       "   year1  year2\n",
       "0     28    784\n",
       "1     31    961\n",
       "2     32   1024"
      ]
     },
     "execution_count": 64,
     "metadata": {},
     "output_type": "execute_result"
    },
    {
     "data": {
      "application/javascript": [
       "\n",
       "            setTimeout(function() {\n",
       "                var nbb_cell_id = 64;\n",
       "                var nbb_unformatted_code = \"year1 = actual.index - 1990\\nyear2 = year1**2\\ndf = pd.DataFrame(dict(year1=year1, year2=year2))\\ndf\";\n",
       "                var nbb_formatted_code = \"year1 = actual.index - 1990\\nyear2 = year1**2\\ndf = pd.DataFrame(dict(year1=year1, year2=year2))\\ndf\";\n",
       "                var nbb_cells = Jupyter.notebook.get_cells();\n",
       "                for (var i = 0; i < nbb_cells.length; ++i) {\n",
       "                    if (nbb_cells[i].input_prompt_number == nbb_cell_id) {\n",
       "                        if (nbb_cells[i].get_text() == nbb_unformatted_code) {\n",
       "                             nbb_cells[i].set_text(nbb_formatted_code);\n",
       "                        }\n",
       "                        break;\n",
       "                    }\n",
       "                }\n",
       "            }, 500);\n",
       "            "
      ],
      "text/plain": [
       "<IPython.core.display.Javascript object>"
      ]
     },
     "metadata": {},
     "output_type": "display_data"
    }
   ],
   "source": [
    "year1 = actual.index - 1990\n",
    "year2 = year1**2\n",
    "df = pd.DataFrame(dict(year1=year1, year2=year2))\n",
    "df"
   ]
  },
  {
   "cell_type": "code",
   "execution_count": 65,
   "id": "d3293fce",
   "metadata": {},
   "outputs": [
    {
     "data": {
      "text/plain": [
       "year\n",
       "2018    0.108413\n",
       "2021    0.143359\n",
       "2022    0.156936\n",
       "dtype: float64"
      ]
     },
     "execution_count": 65,
     "metadata": {},
     "output_type": "execute_result"
    },
    {
     "data": {
      "application/javascript": [
       "\n",
       "            setTimeout(function() {\n",
       "                var nbb_cell_id = 65;\n",
       "                var nbb_unformatted_code = \"pred = result.predict(df)\\npred.index = actual.index\\npred\";\n",
       "                var nbb_formatted_code = \"pred = result.predict(df)\\npred.index = actual.index\\npred\";\n",
       "                var nbb_cells = Jupyter.notebook.get_cells();\n",
       "                for (var i = 0; i < nbb_cells.length; ++i) {\n",
       "                    if (nbb_cells[i].input_prompt_number == nbb_cell_id) {\n",
       "                        if (nbb_cells[i].get_text() == nbb_unformatted_code) {\n",
       "                             nbb_cells[i].set_text(nbb_formatted_code);\n",
       "                        }\n",
       "                        break;\n",
       "                    }\n",
       "                }\n",
       "            }, 500);\n",
       "            "
      ],
      "text/plain": [
       "<IPython.core.display.Javascript object>"
      ]
     },
     "metadata": {},
     "output_type": "display_data"
    }
   ],
   "source": [
    "pred = result.predict(df)\n",
    "pred.index = actual.index\n",
    "pred"
   ]
  },
  {
   "cell_type": "code",
   "execution_count": 66,
   "id": "7e77dfaa",
   "metadata": {},
   "outputs": [
    {
     "data": {
      "text/plain": [
       "<Axes: xlabel='year'>"
      ]
     },
     "execution_count": 66,
     "metadata": {},
     "output_type": "execute_result"
    },
    {
     "data": {
      "image/png": "[encoded data removed]",
      "text/plain": [
       "<Figure size 450x262.5 with 1 Axes>"
      ]
     },
     "metadata": {},
     "output_type": "display_data"
    },
    {
     "data": {
      "application/javascript": [
       "\n",
       "            setTimeout(function() {\n",
       "                var nbb_cell_id = 66;\n",
       "                var nbb_unformatted_code = \"actual.plot(style=\\\"o\\\")\\npred.plot()\";\n",
       "                var nbb_formatted_code = \"actual.plot(style=\\\"o\\\")\\npred.plot()\";\n",
       "                var nbb_cells = Jupyter.notebook.get_cells();\n",
       "                for (var i = 0; i < nbb_cells.length; ++i) {\n",
       "                    if (nbb_cells[i].input_prompt_number == nbb_cell_id) {\n",
       "                        if (nbb_cells[i].get_text() == nbb_unformatted_code) {\n",
       "                             nbb_cells[i].set_text(nbb_formatted_code);\n",
       "                        }\n",
       "                        break;\n",
       "                    }\n",
       "                }\n",
       "            }, 500);\n",
       "            "
      ],
      "text/plain": [
       "<IPython.core.display.Javascript object>"
      ]
     },
     "metadata": {},
     "output_type": "display_data"
    }
   ],
   "source": [
    "actual.plot(style=\"o\")\n",
    "pred.plot()"
   ]
  },
  {
   "cell_type": "code",
   "execution_count": null,
   "id": "1fa65c24",
   "metadata": {},
   "outputs": [],
   "source": []
  }
 ],
 "metadata": {
  "celltoolbar": "Tags",
  "kernelspec": {
   "display_name": "Python 3 (ipykernel)",
   "language": "python",
   "name": "python3"
  },
  "language_info": {
   "codemirror_mode": {
    "name": "ipython",
    "version": 3
   },
   "file_extension": ".py",
   "mimetype": "text/x-python",
   "name": "python",
   "nbconvert_exporter": "python",
   "pygments_lexer": "ipython3",
   "version": "3.10.12"
  }
 },
 "nbformat": 4,
 "nbformat_minor": 5
}
