{
 "cells": [
  {
   "cell_type": "markdown",
   "id": "4a54069c",
   "metadata": {
    "tags": []
   },
   "source": [
    "# Old Optimists, Young Pessimists"
   ]
  },
  {
   "cell_type": "markdown",
   "id": "c46810ae",
   "metadata": {
    "tags": [
     "remove-cell"
    ]
   },
   "source": [
    "This example is based no Chapter 10 of *[Probably Overthinking It: How to Use Data to Answer Questions, Avoid Statistical Traps, and Make Better Decisions](https://greenteapress.com/wp/probably-overthinking-it)*, University of Chicago Press, 2023."
   ]
  },
  {
   "cell_type": "code",
   "execution_count": 1,
   "id": "3f8b9d94",
   "metadata": {},
   "outputs": [
    {
     "data": {
      "application/javascript": [
       "\n",
       "            setTimeout(function() {\n",
       "                var nbb_cell_id = 1;\n",
       "                var nbb_unformatted_code = \"%load_ext nb_black\\n%load_ext autoreload\\n%autoreload 2\";\n",
       "                var nbb_formatted_code = \"%load_ext nb_black\\n%load_ext autoreload\\n%autoreload 2\";\n",
       "                var nbb_cells = Jupyter.notebook.get_cells();\n",
       "                for (var i = 0; i < nbb_cells.length; ++i) {\n",
       "                    if (nbb_cells[i].input_prompt_number == nbb_cell_id) {\n",
       "                        if (nbb_cells[i].get_text() == nbb_unformatted_code) {\n",
       "                             nbb_cells[i].set_text(nbb_formatted_code);\n",
       "                        }\n",
       "                        break;\n",
       "                    }\n",
       "                }\n",
       "            }, 500);\n",
       "            "
      ],
      "text/plain": [
       "<IPython.core.display.Javascript object>"
      ]
     },
     "metadata": {},
     "output_type": "display_data"
    }
   ],
   "source": [
    "%load_ext nb_black\n",
    "%load_ext autoreload\n",
    "%autoreload 2"
   ]
  },
  {
   "cell_type": "code",
   "execution_count": 2,
   "id": "da5ed279",
   "metadata": {
    "tags": [
     "hide-cell"
    ]
   },
   "outputs": [
    {
     "data": {
      "application/javascript": [
       "\n",
       "            setTimeout(function() {\n",
       "                var nbb_cell_id = 2;\n",
       "                var nbb_unformatted_code = \"# Install empiricaldist if we don't already have it\\n\\ntry:\\n    import empiricaldist\\nexcept ImportError:\\n    !pip install empiricaldist\";\n",
       "                var nbb_formatted_code = \"# Install empiricaldist if we don't already have it\\n\\ntry:\\n    import empiricaldist\\nexcept ImportError:\\n    !pip install empiricaldist\";\n",
       "                var nbb_cells = Jupyter.notebook.get_cells();\n",
       "                for (var i = 0; i < nbb_cells.length; ++i) {\n",
       "                    if (nbb_cells[i].input_prompt_number == nbb_cell_id) {\n",
       "                        if (nbb_cells[i].get_text() == nbb_unformatted_code) {\n",
       "                             nbb_cells[i].set_text(nbb_formatted_code);\n",
       "                        }\n",
       "                        break;\n",
       "                    }\n",
       "                }\n",
       "            }, 500);\n",
       "            "
      ],
      "text/plain": [
       "<IPython.core.display.Javascript object>"
      ]
     },
     "metadata": {},
     "output_type": "display_data"
    }
   ],
   "source": [
    "# Install empiricaldist if we don't already have it\n",
    "\n",
    "try:\n",
    "    import empiricaldist\n",
    "except ImportError:\n",
    "    !pip install empiricaldist"
   ]
  },
  {
   "cell_type": "code",
   "execution_count": 3,
   "id": "87cab00c",
   "metadata": {
    "tags": [
     "hide-cell"
    ]
   },
   "outputs": [
    {
     "data": {
      "application/javascript": [
       "\n",
       "            setTimeout(function() {\n",
       "                var nbb_cell_id = 3;\n",
       "                var nbb_unformatted_code = \"# download utils.py\\n\\nfrom os.path import basename, exists\\n\\n\\ndef download(url):\\n    filename = basename(url)\\n    if not exists(filename):\\n        from urllib.request import urlretrieve\\n\\n        local, _ = urlretrieve(url, filename)\\n        print(\\\"Downloaded \\\" + local)\\n\\n\\ndownload(\\n    \\\"https://github.com/AllenDowney/ProbablyOverthinkingIt/raw/book/notebooks/utils.py\\\"\\n)\";\n",
       "                var nbb_formatted_code = \"# download utils.py\\n\\nfrom os.path import basename, exists\\n\\n\\ndef download(url):\\n    filename = basename(url)\\n    if not exists(filename):\\n        from urllib.request import urlretrieve\\n\\n        local, _ = urlretrieve(url, filename)\\n        print(\\\"Downloaded \\\" + local)\\n\\n\\ndownload(\\n    \\\"https://github.com/AllenDowney/ProbablyOverthinkingIt/raw/book/notebooks/utils.py\\\"\\n)\";\n",
       "                var nbb_cells = Jupyter.notebook.get_cells();\n",
       "                for (var i = 0; i < nbb_cells.length; ++i) {\n",
       "                    if (nbb_cells[i].input_prompt_number == nbb_cell_id) {\n",
       "                        if (nbb_cells[i].get_text() == nbb_unformatted_code) {\n",
       "                             nbb_cells[i].set_text(nbb_formatted_code);\n",
       "                        }\n",
       "                        break;\n",
       "                    }\n",
       "                }\n",
       "            }, 500);\n",
       "            "
      ],
      "text/plain": [
       "<IPython.core.display.Javascript object>"
      ]
     },
     "metadata": {},
     "output_type": "display_data"
    }
   ],
   "source": [
    "# download utils.py\n",
    "\n",
    "from os.path import basename, exists\n",
    "\n",
    "\n",
    "def download(url):\n",
    "    filename = basename(url)\n",
    "    if not exists(filename):\n",
    "        from urllib.request import urlretrieve\n",
    "\n",
    "        local, _ = urlretrieve(url, filename)\n",
    "        print(\"Downloaded \" + local)\n",
    "\n",
    "\n",
    "download(\n",
    "    \"https://github.com/AllenDowney/ProbablyOverthinkingIt/raw/book/notebooks/utils.py\"\n",
    ")"
   ]
  },
  {
   "cell_type": "code",
   "execution_count": 4,
   "id": "81d5b707",
   "metadata": {
    "tags": [
     "hide-cell"
    ]
   },
   "outputs": [
    {
     "data": {
      "application/javascript": [
       "\n",
       "            setTimeout(function() {\n",
       "                var nbb_cell_id = 4;\n",
       "                var nbb_unformatted_code = \"import pandas as pd\\nimport numpy as np\\nimport matplotlib.pyplot as plt\\nimport seaborn as sns\\n\\nfrom utils import decorate\\n\\n# Set the random seed so we get the same results every time\\nnp.random.seed(17)\";\n",
       "                var nbb_formatted_code = \"import pandas as pd\\nimport numpy as np\\nimport matplotlib.pyplot as plt\\nimport seaborn as sns\\n\\nfrom utils import decorate\\n\\n# Set the random seed so we get the same results every time\\nnp.random.seed(17)\";\n",
       "                var nbb_cells = Jupyter.notebook.get_cells();\n",
       "                for (var i = 0; i < nbb_cells.length; ++i) {\n",
       "                    if (nbb_cells[i].input_prompt_number == nbb_cell_id) {\n",
       "                        if (nbb_cells[i].get_text() == nbb_unformatted_code) {\n",
       "                             nbb_cells[i].set_text(nbb_formatted_code);\n",
       "                        }\n",
       "                        break;\n",
       "                    }\n",
       "                }\n",
       "            }, 500);\n",
       "            "
      ],
      "text/plain": [
       "<IPython.core.display.Javascript object>"
      ]
     },
     "metadata": {},
     "output_type": "display_data"
    }
   ],
   "source": [
    "import pandas as pd\n",
    "import numpy as np\n",
    "import matplotlib.pyplot as plt\n",
    "import seaborn as sns\n",
    "\n",
    "from utils import decorate\n",
    "\n",
    "# Set the random seed so we get the same results every time\n",
    "np.random.seed(17)"
   ]
  },
  {
   "cell_type": "code",
   "execution_count": 5,
   "id": "1f548fc6",
   "metadata": {},
   "outputs": [
    {
     "data": {
      "application/javascript": [
       "\n",
       "            setTimeout(function() {\n",
       "                var nbb_cell_id = 5;\n",
       "                var nbb_unformatted_code = \"plt.rcParams[\\\"figure.dpi\\\"] = 75\\nplt.rcParams[\\\"figure.figsize\\\"] = [6, 3.5]\\n\\nplt.rcParams[\\\"axes.titlesize\\\"] = \\\"medium\\\"\\n\\nplt.rcParams[\\\"font.size\\\"] = 12\\n\\nplt.rcParams[\\\"lines.linewidth\\\"] = 1.5\\n\\nplt.rcParams[\\\"axes.titlelocation\\\"] = \\\"left\\\"\\nplt.rcParams[\\\"axes.spines.top\\\"] = False\\nplt.rcParams[\\\"axes.spines.bottom\\\"] = False\\nplt.rcParams[\\\"axes.spines.left\\\"] = False\\nplt.rcParams[\\\"axes.spines.right\\\"] = False\\n\\nplt.rcParams[\\\"xtick.top\\\"] = False\\nplt.rcParams[\\\"xtick.bottom\\\"] = False\\nplt.rcParams[\\\"ytick.left\\\"] = False\\nplt.rcParams[\\\"ytick.right\\\"] = False\\n\\nplt.rcParams[\\\"legend.frameon\\\"] = True\\nplt.rcParams[\\\"legend.framealpha\\\"] = 0.4\\nplt.rcParams[\\\"legend.facecolor\\\"] = \\\"none\\\"\\nplt.rcParams[\\\"legend.edgecolor\\\"] = \\\"0.8\\\"\\n\\nplt.rcParams[\\\"lines.markersize\\\"] = 5\\nplt.rcParams[\\\"lines.markeredgewidth\\\"] = 0\";\n",
       "                var nbb_formatted_code = \"plt.rcParams[\\\"figure.dpi\\\"] = 75\\nplt.rcParams[\\\"figure.figsize\\\"] = [6, 3.5]\\n\\nplt.rcParams[\\\"axes.titlesize\\\"] = \\\"medium\\\"\\n\\nplt.rcParams[\\\"font.size\\\"] = 12\\n\\nplt.rcParams[\\\"lines.linewidth\\\"] = 1.5\\n\\nplt.rcParams[\\\"axes.titlelocation\\\"] = \\\"left\\\"\\nplt.rcParams[\\\"axes.spines.top\\\"] = False\\nplt.rcParams[\\\"axes.spines.bottom\\\"] = False\\nplt.rcParams[\\\"axes.spines.left\\\"] = False\\nplt.rcParams[\\\"axes.spines.right\\\"] = False\\n\\nplt.rcParams[\\\"xtick.top\\\"] = False\\nplt.rcParams[\\\"xtick.bottom\\\"] = False\\nplt.rcParams[\\\"ytick.left\\\"] = False\\nplt.rcParams[\\\"ytick.right\\\"] = False\\n\\nplt.rcParams[\\\"legend.frameon\\\"] = True\\nplt.rcParams[\\\"legend.framealpha\\\"] = 0.4\\nplt.rcParams[\\\"legend.facecolor\\\"] = \\\"none\\\"\\nplt.rcParams[\\\"legend.edgecolor\\\"] = \\\"0.8\\\"\\n\\nplt.rcParams[\\\"lines.markersize\\\"] = 5\\nplt.rcParams[\\\"lines.markeredgewidth\\\"] = 0\";\n",
       "                var nbb_cells = Jupyter.notebook.get_cells();\n",
       "                for (var i = 0; i < nbb_cells.length; ++i) {\n",
       "                    if (nbb_cells[i].input_prompt_number == nbb_cell_id) {\n",
       "                        if (nbb_cells[i].get_text() == nbb_unformatted_code) {\n",
       "                             nbb_cells[i].set_text(nbb_formatted_code);\n",
       "                        }\n",
       "                        break;\n",
       "                    }\n",
       "                }\n",
       "            }, 500);\n",
       "            "
      ],
      "text/plain": [
       "<IPython.core.display.Javascript object>"
      ]
     },
     "metadata": {},
     "output_type": "display_data"
    }
   ],
   "source": [
    "plt.rcParams[\"figure.dpi\"] = 75\n",
    "plt.rcParams[\"figure.figsize\"] = [6, 3.5]\n",
    "\n",
    "plt.rcParams[\"axes.titlesize\"] = \"medium\"\n",
    "\n",
    "plt.rcParams[\"font.size\"] = 12\n",
    "\n",
    "plt.rcParams[\"lines.linewidth\"] = 1.5\n",
    "\n",
    "plt.rcParams[\"axes.titlelocation\"] = \"left\"\n",
    "plt.rcParams[\"axes.spines.top\"] = False\n",
    "plt.rcParams[\"axes.spines.bottom\"] = False\n",
    "plt.rcParams[\"axes.spines.left\"] = False\n",
    "plt.rcParams[\"axes.spines.right\"] = False\n",
    "\n",
    "plt.rcParams[\"xtick.top\"] = False\n",
    "plt.rcParams[\"xtick.bottom\"] = False\n",
    "plt.rcParams[\"ytick.left\"] = False\n",
    "plt.rcParams[\"ytick.right\"] = False\n",
    "\n",
    "plt.rcParams[\"legend.frameon\"] = True\n",
    "plt.rcParams[\"legend.framealpha\"] = 0.4\n",
    "plt.rcParams[\"legend.facecolor\"] = \"none\"\n",
    "plt.rcParams[\"legend.edgecolor\"] = \"0.8\"\n",
    "\n",
    "plt.rcParams[\"lines.markersize\"] = 5\n",
    "plt.rcParams[\"lines.markeredgewidth\"] = 0"
   ]
  },
  {
   "cell_type": "markdown",
   "id": "f17a6470",
   "metadata": {
    "tags": []
   },
   "source": [
    "## Old Optimists, Young Pessimists\n",
    "\n",
    "Would you say that most of the time people try to be helpful, or that they are mostly just looking out for themselves? Almost every year since 1972, the General Social Survey (GSS) has posed that question to a representative sample of adult residents of the United States.\n",
    "\n",
    "The following figure shows how the responses have changed over time.\n",
    "The circles show the percentage of people in each survey who said that people try to be helpful."
   ]
  },
  {
   "cell_type": "code",
   "execution_count": 6,
   "id": "5b8c8edb",
   "metadata": {},
   "outputs": [
    {
     "data": {
      "application/javascript": [
       "\n",
       "            setTimeout(function() {\n",
       "                var nbb_cell_id = 6;\n",
       "                var nbb_unformatted_code = \"# This dataset is prepared in GssExtract/notebooks/02_make_extract-2022_3a.ipynb\\n\\nDATA_PATH = \\\"https://github.com/AllenDowney/GssExtract/raw/main/data/interim/\\\"\\nfilename = \\\"gss_extract_2022_3a.hdf\\\"\\ndownload(DATA_PATH + filename)\";\n",
       "                var nbb_formatted_code = \"# This dataset is prepared in GssExtract/notebooks/02_make_extract-2022_3a.ipynb\\n\\nDATA_PATH = \\\"https://github.com/AllenDowney/GssExtract/raw/main/data/interim/\\\"\\nfilename = \\\"gss_extract_2022_3a.hdf\\\"\\ndownload(DATA_PATH + filename)\";\n",
       "                var nbb_cells = Jupyter.notebook.get_cells();\n",
       "                for (var i = 0; i < nbb_cells.length; ++i) {\n",
       "                    if (nbb_cells[i].input_prompt_number == nbb_cell_id) {\n",
       "                        if (nbb_cells[i].get_text() == nbb_unformatted_code) {\n",
       "                             nbb_cells[i].set_text(nbb_formatted_code);\n",
       "                        }\n",
       "                        break;\n",
       "                    }\n",
       "                }\n",
       "            }, 500);\n",
       "            "
      ],
      "text/plain": [
       "<IPython.core.display.Javascript object>"
      ]
     },
     "metadata": {},
     "output_type": "display_data"
    }
   ],
   "source": [
    "# This dataset is prepared in GssExtract/notebooks/02_make_extract-2022_3a.ipynb\n",
    "\n",
    "DATA_PATH = \"https://github.com/AllenDowney/GssExtract/raw/main/data/interim/\"\n",
    "filename = \"gss_extract_2022_3a.hdf\"\n",
    "download(DATA_PATH + filename)"
   ]
  },
  {
   "cell_type": "code",
   "execution_count": 7,
   "id": "f033ca49",
   "metadata": {
    "tags": []
   },
   "outputs": [
    {
     "data": {
      "text/plain": [
       "(72390, 54)"
      ]
     },
     "execution_count": 7,
     "metadata": {},
     "output_type": "execute_result"
    },
    {
     "data": {
      "application/javascript": [
       "\n",
       "            setTimeout(function() {\n",
       "                var nbb_cell_id = 7;\n",
       "                var nbb_unformatted_code = \"gss = pd.read_hdf(filename, \\\"gss\\\")\\ngss.shape\";\n",
       "                var nbb_formatted_code = \"gss = pd.read_hdf(filename, \\\"gss\\\")\\ngss.shape\";\n",
       "                var nbb_cells = Jupyter.notebook.get_cells();\n",
       "                for (var i = 0; i < nbb_cells.length; ++i) {\n",
       "                    if (nbb_cells[i].input_prompt_number == nbb_cell_id) {\n",
       "                        if (nbb_cells[i].get_text() == nbb_unformatted_code) {\n",
       "                             nbb_cells[i].set_text(nbb_formatted_code);\n",
       "                        }\n",
       "                        break;\n",
       "                    }\n",
       "                }\n",
       "            }, 500);\n",
       "            "
      ],
      "text/plain": [
       "<IPython.core.display.Javascript object>"
      ]
     },
     "metadata": {},
     "output_type": "display_data"
    }
   ],
   "source": [
    "gss = pd.read_hdf(filename, \"gss\")\n",
    "gss.shape"
   ]
  },
  {
   "cell_type": "code",
   "execution_count": 8,
   "id": "7e10ca65",
   "metadata": {},
   "outputs": [
    {
     "data": {
      "text/plain": [
       "755"
      ]
     },
     "execution_count": 8,
     "metadata": {},
     "output_type": "execute_result"
    },
    {
     "data": {
      "application/javascript": [
       "\n",
       "            setTimeout(function() {\n",
       "                var nbb_cell_id = 8;\n",
       "                var nbb_unformatted_code = \"gss[\\\"cohort\\\"] = gss[\\\"cohort\\\"].replace(9999, np.nan)\\ngss[\\\"cohort\\\"].isna().sum()\";\n",
       "                var nbb_formatted_code = \"gss[\\\"cohort\\\"] = gss[\\\"cohort\\\"].replace(9999, np.nan)\\ngss[\\\"cohort\\\"].isna().sum()\";\n",
       "                var nbb_cells = Jupyter.notebook.get_cells();\n",
       "                for (var i = 0; i < nbb_cells.length; ++i) {\n",
       "                    if (nbb_cells[i].input_prompt_number == nbb_cell_id) {\n",
       "                        if (nbb_cells[i].get_text() == nbb_unformatted_code) {\n",
       "                             nbb_cells[i].set_text(nbb_formatted_code);\n",
       "                        }\n",
       "                        break;\n",
       "                    }\n",
       "                }\n",
       "            }, 500);\n",
       "            "
      ],
      "text/plain": [
       "<IPython.core.display.Javascript object>"
      ]
     },
     "metadata": {},
     "output_type": "display_data"
    }
   ],
   "source": [
    "gss[\"cohort\"] = gss[\"cohort\"].replace(9999, np.nan)\n",
    "gss[\"cohort\"].isna().sum()"
   ]
  },
  {
   "cell_type": "code",
   "execution_count": 9,
   "id": "fd9e685c",
   "metadata": {},
   "outputs": [
    {
     "data": {
      "text/plain": [
       "cohort10\n",
       "1880.0       45\n",
       "1890.0      501\n",
       "1900.0     1722\n",
       "1910.0     3616\n",
       "1920.0     5862\n",
       "1930.0     7115\n",
       "1940.0    10925\n",
       "1950.0    14273\n",
       "1960.0    11699\n",
       "1970.0     7681\n",
       "1980.0     5088\n",
       "1990.0     2563\n",
       "2000.0      545\n",
       "NaN         755\n",
       "Name: count, dtype: int64"
      ]
     },
     "execution_count": 9,
     "metadata": {},
     "output_type": "execute_result"
    },
    {
     "data": {
      "application/javascript": [
       "\n",
       "            setTimeout(function() {\n",
       "                var nbb_cell_id = 9;\n",
       "                var nbb_unformatted_code = \"bins = np.arange(1879, 2011, 10)\\nlabels = bins[:-1] + 1\\n\\ngss[\\\"cohort10\\\"] = pd.cut(gss[\\\"cohort\\\"], bins, labels=labels).astype(float)\\ngss[\\\"cohort10\\\"].value_counts(dropna=False).sort_index()\";\n",
       "                var nbb_formatted_code = \"bins = np.arange(1879, 2011, 10)\\nlabels = bins[:-1] + 1\\n\\ngss[\\\"cohort10\\\"] = pd.cut(gss[\\\"cohort\\\"], bins, labels=labels).astype(float)\\ngss[\\\"cohort10\\\"].value_counts(dropna=False).sort_index()\";\n",
       "                var nbb_cells = Jupyter.notebook.get_cells();\n",
       "                for (var i = 0; i < nbb_cells.length; ++i) {\n",
       "                    if (nbb_cells[i].input_prompt_number == nbb_cell_id) {\n",
       "                        if (nbb_cells[i].get_text() == nbb_unformatted_code) {\n",
       "                             nbb_cells[i].set_text(nbb_formatted_code);\n",
       "                        }\n",
       "                        break;\n",
       "                    }\n",
       "                }\n",
       "            }, 500);\n",
       "            "
      ],
      "text/plain": [
       "<IPython.core.display.Javascript object>"
      ]
     },
     "metadata": {},
     "output_type": "display_data"
    }
   ],
   "source": [
    "bins = np.arange(1879, 2011, 10)\n",
    "labels = bins[:-1] + 1\n",
    "\n",
    "gss[\"cohort10\"] = pd.cut(gss[\"cohort\"], bins, labels=labels).astype(float)\n",
    "gss[\"cohort10\"].value_counts(dropna=False).sort_index()"
   ]
  },
  {
   "cell_type": "code",
   "execution_count": 10,
   "id": "00d5fe6f",
   "metadata": {},
   "outputs": [
    {
     "data": {
      "application/javascript": [
       "\n",
       "            setTimeout(function() {\n",
       "                var nbb_cell_id = 10;\n",
       "                var nbb_unformatted_code = \"from utils import underride\\n\\n\\ndef plot_titles(title, subtitle, y=1.02, pad=20, **options):\\n    \\\"\\\"\\\"Plot the title and subtitle\\\"\\\"\\\"\\n    plt.title(title, loc=\\\"left\\\", pad=pad)\\n\\n    transform = plt.gca().transAxes\\n    options = underride(options, color=\\\"0.2\\\", ha=\\\"left\\\", va=\\\"bottom\\\", fontsize=11)\\n    plt.text(0, y, subtitle, transform=transform, **options)\\n\\n    plt.tight_layout()\";\n",
       "                var nbb_formatted_code = \"from utils import underride\\n\\n\\ndef plot_titles(title, subtitle, y=1.02, pad=20, **options):\\n    \\\"\\\"\\\"Plot the title and subtitle\\\"\\\"\\\"\\n    plt.title(title, loc=\\\"left\\\", pad=pad)\\n\\n    transform = plt.gca().transAxes\\n    options = underride(options, color=\\\"0.2\\\", ha=\\\"left\\\", va=\\\"bottom\\\", fontsize=11)\\n    plt.text(0, y, subtitle, transform=transform, **options)\\n\\n    plt.tight_layout()\";\n",
       "                var nbb_cells = Jupyter.notebook.get_cells();\n",
       "                for (var i = 0; i < nbb_cells.length; ++i) {\n",
       "                    if (nbb_cells[i].input_prompt_number == nbb_cell_id) {\n",
       "                        if (nbb_cells[i].get_text() == nbb_unformatted_code) {\n",
       "                             nbb_cells[i].set_text(nbb_formatted_code);\n",
       "                        }\n",
       "                        break;\n",
       "                    }\n",
       "                }\n",
       "            }, 500);\n",
       "            "
      ],
      "text/plain": [
       "<IPython.core.display.Javascript object>"
      ]
     },
     "metadata": {},
     "output_type": "display_data"
    }
   ],
   "source": [
    "from utils import underride\n",
    "\n",
    "\n",
    "def plot_titles(title, subtitle, y=1.02, pad=20, **options):\n",
    "    \"\"\"Plot the title and subtitle\"\"\"\n",
    "    plt.title(title, loc=\"left\", pad=pad)\n",
    "\n",
    "    transform = plt.gca().transAxes\n",
    "    options = underride(options, color=\"0.2\", ha=\"left\", va=\"bottom\", fontsize=11)\n",
    "    plt.text(0, y, subtitle, transform=transform, **options)\n",
    "\n",
    "    plt.tight_layout()"
   ]
  },
  {
   "cell_type": "code",
   "execution_count": 11,
   "id": "00b5e1d5",
   "metadata": {},
   "outputs": [
    {
     "data": {
      "application/javascript": [
       "\n",
       "            setTimeout(function() {\n",
       "                var nbb_cell_id = 11;\n",
       "                var nbb_unformatted_code = \"from scipy.stats import norm\\nfrom scipy.stats import binom\\nfrom scipy.special import expit\\n\\ndef make_prior():\\n    alphas = np.linspace(-3, 3, 91)\\n    alpha_prior = norm.pdf(alphas, 0, 3)\\n    alpha_prior /= alpha_prior.sum()\\n\\n    betas = np.linspace(-1, 1, 101)\\n    beta_prior = norm.pdf(betas, 0, 0.2)\\n    beta_prior /= beta_prior.sum()\\n\\n    A, B = np.meshgrid(alphas, betas, indexing=\\\"ij\\\")\\n    AP, BP = np.meshgrid(alpha_prior, beta_prior, indexing=\\\"ij\\\")\\n    prior = AP * BP\\n    return A, B, prior\";\n",
       "                var nbb_formatted_code = \"from scipy.stats import norm\\nfrom scipy.stats import binom\\nfrom scipy.special import expit\\n\\n\\ndef make_prior():\\n    alphas = np.linspace(-3, 3, 91)\\n    alpha_prior = norm.pdf(alphas, 0, 3)\\n    alpha_prior /= alpha_prior.sum()\\n\\n    betas = np.linspace(-1, 1, 101)\\n    beta_prior = norm.pdf(betas, 0, 0.2)\\n    beta_prior /= beta_prior.sum()\\n\\n    A, B = np.meshgrid(alphas, betas, indexing=\\\"ij\\\")\\n    AP, BP = np.meshgrid(alpha_prior, beta_prior, indexing=\\\"ij\\\")\\n    prior = AP * BP\\n    return A, B, prior\";\n",
       "                var nbb_cells = Jupyter.notebook.get_cells();\n",
       "                for (var i = 0; i < nbb_cells.length; ++i) {\n",
       "                    if (nbb_cells[i].input_prompt_number == nbb_cell_id) {\n",
       "                        if (nbb_cells[i].get_text() == nbb_unformatted_code) {\n",
       "                             nbb_cells[i].set_text(nbb_formatted_code);\n",
       "                        }\n",
       "                        break;\n",
       "                    }\n",
       "                }\n",
       "            }, 500);\n",
       "            "
      ],
      "text/plain": [
       "<IPython.core.display.Javascript object>"
      ]
     },
     "metadata": {},
     "output_type": "display_data"
    }
   ],
   "source": [
    "from scipy.stats import norm\n",
    "from scipy.stats import binom\n",
    "from scipy.special import expit\n",
    "\n",
    "\n",
    "def make_prior():\n",
    "    alphas = np.linspace(-3, 3, 91)\n",
    "    alpha_prior = norm.pdf(alphas, 0, 3)\n",
    "    alpha_prior /= alpha_prior.sum()\n",
    "\n",
    "    betas = np.linspace(-1, 1, 101)\n",
    "    beta_prior = norm.pdf(betas, 0, 0.1)\n",
    "    beta_prior /= beta_prior.sum()\n",
    "\n",
    "    A, B = np.meshgrid(alphas, betas, indexing=\"ij\")\n",
    "    AP, BP = np.meshgrid(alpha_prior, beta_prior, indexing=\"ij\")\n",
    "    prior = AP * BP\n",
    "    return A, B, prior"
   ]
  },
  {
   "cell_type": "code",
   "execution_count": 12,
   "id": "373b5b79",
   "metadata": {},
   "outputs": [
    {
     "data": {
      "application/javascript": [
       "\n",
       "            setTimeout(function() {\n",
       "                var nbb_cell_id = 12;\n",
       "                var nbb_unformatted_code = \"def bayesian_smooth(df, xvar, yvar, yval):\\n    m = df[xvar].median()\\n    df[\\\"x\\\"] = df[xvar] - m\\n    df[\\\"y\\\"] = df[yvar] == yval\\n\\n    ks = df.groupby(\\\"x\\\")[\\\"y\\\"].sum()\\n    ns = df.groupby(\\\"x\\\")[\\\"y\\\"].count()\\n    xs = ns.index\\n\\n    actual = (ks / ns) * 100\\n    actual.index = xs + m\\n\\n    A, B, posterior = make_prior()\\n\\n    for x in xs:\\n        P = expit(A + B * x)\\n        likelihood = binom.pmf(ks[x], ns[x], P)\\n        posterior *= likelihood\\n\\n    posterior /= posterior.sum()\\n\\n    ps = [np.sum(posterior * expit(A + B * x)) for x in xs]\\n    pred = pd.Series(ps, actual.index) * 100\\n    return actual, pred\";\n",
       "                var nbb_formatted_code = \"def bayesian_smooth(df, xvar, yvar, yval):\\n    m = df[xvar].median()\\n    df[\\\"x\\\"] = df[xvar] - m\\n    df[\\\"y\\\"] = df[yvar] == yval\\n\\n    ks = df.groupby(\\\"x\\\")[\\\"y\\\"].sum()\\n    ns = df.groupby(\\\"x\\\")[\\\"y\\\"].count()\\n    xs = ns.index\\n\\n    actual = (ks / ns) * 100\\n    actual.index = xs + m\\n\\n    A, B, posterior = make_prior()\\n\\n    for x in xs:\\n        P = expit(A + B * x)\\n        likelihood = binom.pmf(ks[x], ns[x], P)\\n        posterior *= likelihood\\n\\n    posterior /= posterior.sum()\\n\\n    ps = [np.sum(posterior * expit(A + B * x)) for x in xs]\\n    pred = pd.Series(ps, actual.index) * 100\\n    return actual, pred\";\n",
       "                var nbb_cells = Jupyter.notebook.get_cells();\n",
       "                for (var i = 0; i < nbb_cells.length; ++i) {\n",
       "                    if (nbb_cells[i].input_prompt_number == nbb_cell_id) {\n",
       "                        if (nbb_cells[i].get_text() == nbb_unformatted_code) {\n",
       "                             nbb_cells[i].set_text(nbb_formatted_code);\n",
       "                        }\n",
       "                        break;\n",
       "                    }\n",
       "                }\n",
       "            }, 500);\n",
       "            "
      ],
      "text/plain": [
       "<IPython.core.display.Javascript object>"
      ]
     },
     "metadata": {},
     "output_type": "display_data"
    }
   ],
   "source": [
    "def bayesian_smooth(df, xvar, yvar, yval):\n",
    "    m = df[xvar].median()\n",
    "    df[\"x\"] = df[xvar] - m\n",
    "    df[\"y\"] = df[yvar] == yval\n",
    "\n",
    "    ks = df.groupby(\"x\")[\"y\"].sum()\n",
    "    ns = df.groupby(\"x\")[\"y\"].count()\n",
    "    xs = ns.index\n",
    "\n",
    "    actual = (ks / ns) * 100\n",
    "    actual.index = xs + m\n",
    "\n",
    "    A, B, posterior = make_prior()\n",
    "\n",
    "    for x in xs:\n",
    "        P = expit(A + B * x)\n",
    "        likelihood = binom.pmf(ks[x], ns[x], P)\n",
    "        posterior *= likelihood\n",
    "\n",
    "    posterior /= posterior.sum()\n",
    "\n",
    "    ps = [np.sum(posterior * expit(A + B * x)) for x in xs]\n",
    "    pred = pd.Series(ps, actual.index) * 100\n",
    "    return actual, pred"
   ]
  },
  {
   "cell_type": "code",
   "execution_count": 13,
   "id": "48726932",
   "metadata": {},
   "outputs": [
    {
     "data": {
      "application/javascript": [
       "\n",
       "            setTimeout(function() {\n",
       "                var nbb_cell_id = 13;\n",
       "                var nbb_unformatted_code = \"def make_lowess(series, frac=0.5):\\n    \\\"\\\"\\\"Use LOWESS to compute a smooth line.\\n\\n    series: pd.Series\\n\\n    returns: pd.Series\\n    \\\"\\\"\\\"\\n    endog = series.values\\n    exog = series.index.values\\n\\n    smooth = lowess(endog, exog, frac)\\n    index, data = np.transpose(smooth)\\n\\n    return pd.Series(data, index=index)\";\n",
       "                var nbb_formatted_code = \"def make_lowess(series, frac=0.5):\\n    \\\"\\\"\\\"Use LOWESS to compute a smooth line.\\n\\n    series: pd.Series\\n\\n    returns: pd.Series\\n    \\\"\\\"\\\"\\n    endog = series.values\\n    exog = series.index.values\\n\\n    smooth = lowess(endog, exog, frac)\\n    index, data = np.transpose(smooth)\\n\\n    return pd.Series(data, index=index)\";\n",
       "                var nbb_cells = Jupyter.notebook.get_cells();\n",
       "                for (var i = 0; i < nbb_cells.length; ++i) {\n",
       "                    if (nbb_cells[i].input_prompt_number == nbb_cell_id) {\n",
       "                        if (nbb_cells[i].get_text() == nbb_unformatted_code) {\n",
       "                             nbb_cells[i].set_text(nbb_formatted_code);\n",
       "                        }\n",
       "                        break;\n",
       "                    }\n",
       "                }\n",
       "            }, 500);\n",
       "            "
      ],
      "text/plain": [
       "<IPython.core.display.Javascript object>"
      ]
     },
     "metadata": {},
     "output_type": "display_data"
    }
   ],
   "source": [
    "def make_lowess(series, frac=0.5):\n",
    "    \"\"\"Use LOWESS to compute a smooth line.\n",
    "\n",
    "    series: pd.Series\n",
    "\n",
    "    returns: pd.Series\n",
    "    \"\"\"\n",
    "    endog = series.values\n",
    "    exog = series.index.values\n",
    "\n",
    "    smooth = lowess(endog, exog, frac)\n",
    "    index, data = np.transpose(smooth)\n",
    "\n",
    "    return pd.Series(data, index=index)"
   ]
  },
  {
   "cell_type": "code",
   "execution_count": 14,
   "id": "1fecf49c",
   "metadata": {},
   "outputs": [
    {
     "data": {
      "application/javascript": [
       "\n",
       "            setTimeout(function() {\n",
       "                var nbb_cell_id = 14;\n",
       "                var nbb_unformatted_code = \"# pip install whittaker-eilers\\n\\nfrom whittaker_eilers import WhittakerSmoother\\n\\n\\ndef make_smooth(series, weights=None, order=2, lam=1e2):\\n    \\\"\\\"\\\"Use Whittaker-Eilers to compute a smooth line.\\n\\n    series: pd.Series\\n\\n    returns: pd.Series\\n    \\\"\\\"\\\"\\n    ys = series.values\\n    xs = series.index.values\\n\\n    smoother = WhittakerSmoother(\\n        lmbda=lam,\\n        order=order,\\n        data_length=len(ys),\\n        x_input=xs,\\n        weights=weights,\\n    )\\n\\n    smoothed = smoother.smooth(ys)\\n    return pd.Series(smoothed, index=xs)\";\n",
       "                var nbb_formatted_code = \"# pip install whittaker-eilers\\n\\nfrom whittaker_eilers import WhittakerSmoother\\n\\n\\ndef make_smooth(series, weights=None, order=2, lam=1e2):\\n    \\\"\\\"\\\"Use Whittaker-Eilers to compute a smooth line.\\n\\n    series: pd.Series\\n\\n    returns: pd.Series\\n    \\\"\\\"\\\"\\n    ys = series.values\\n    xs = series.index.values\\n\\n    smoother = WhittakerSmoother(\\n        lmbda=lam,\\n        order=order,\\n        data_length=len(ys),\\n        x_input=xs,\\n        weights=weights,\\n    )\\n\\n    smoothed = smoother.smooth(ys)\\n    return pd.Series(smoothed, index=xs)\";\n",
       "                var nbb_cells = Jupyter.notebook.get_cells();\n",
       "                for (var i = 0; i < nbb_cells.length; ++i) {\n",
       "                    if (nbb_cells[i].input_prompt_number == nbb_cell_id) {\n",
       "                        if (nbb_cells[i].get_text() == nbb_unformatted_code) {\n",
       "                             nbb_cells[i].set_text(nbb_formatted_code);\n",
       "                        }\n",
       "                        break;\n",
       "                    }\n",
       "                }\n",
       "            }, 500);\n",
       "            "
      ],
      "text/plain": [
       "<IPython.core.display.Javascript object>"
      ]
     },
     "metadata": {},
     "output_type": "display_data"
    }
   ],
   "source": [
    "# pip install whittaker-eilers\n",
    "\n",
    "from whittaker_eilers import WhittakerSmoother\n",
    "\n",
    "\n",
    "def make_smooth(series, weights=None, order=2, lam=1e2):\n",
    "    \"\"\"Use Whittaker-Eilers to compute a smooth line.\n",
    "\n",
    "    series: pd.Series\n",
    "\n",
    "    returns: pd.Series\n",
    "    \"\"\"\n",
    "    ys = series.values\n",
    "    xs = series.index.values\n",
    "\n",
    "    smoother = WhittakerSmoother(\n",
    "        lmbda=lam,\n",
    "        order=order,\n",
    "        data_length=len(ys),\n",
    "        x_input=xs,\n",
    "        weights=weights,\n",
    "    )\n",
    "\n",
    "    smoothed = smoother.smooth(ys)\n",
    "    return pd.Series(smoothed, index=xs)"
   ]
  },
  {
   "cell_type": "code",
   "execution_count": 15,
   "id": "18478c59",
   "metadata": {},
   "outputs": [
    {
     "data": {
      "application/javascript": [
       "\n",
       "            setTimeout(function() {\n",
       "                var nbb_cell_id = 15;\n",
       "                var nbb_unformatted_code = \"def make_entry(df, xvar, yvar, yval):\\n    entry = pd.DataFrame(dtype=float)\\n\\n    subset = df.dropna(subset=[xvar, yvar])\\n    counts = subset[xvar].value_counts()\\n\\n    # handle special case\\n    if 1 < len(counts) <= 3:\\n        series, smooth = bayesian_smooth(subset, xvar, yvar, yval)\\n        entry[\\\"series\\\"] = series\\n        entry[\\\"smooth\\\"] = smooth\\n        return entry\\n\\n    xtab = pd.crosstab(subset[xvar], subset[yvar], normalize=\\\"index\\\")\\n    entry[\\\"series\\\"] = xtab[yval] * 100\\n\\n    weights = df.groupby(xvar)[yvar].count()\\n    entry[\\\"weights\\\"] = weights / weights.sum()\\n\\n    entry[\\\"smooth\\\"] = make_smooth(entry[\\\"series\\\"], entry[\\\"weights\\\"], lam=100)\\n\\n    return entry\";\n",
       "                var nbb_formatted_code = \"def make_entry(df, xvar, yvar, yval):\\n    entry = pd.DataFrame(dtype=float)\\n\\n    subset = df.dropna(subset=[xvar, yvar])\\n    counts = subset[xvar].value_counts()\\n\\n    # handle special case\\n    if 1 < len(counts) <= 3:\\n        series, smooth = bayesian_smooth(subset, xvar, yvar, yval)\\n        entry[\\\"series\\\"] = series\\n        entry[\\\"smooth\\\"] = smooth\\n        return entry\\n\\n    xtab = pd.crosstab(subset[xvar], subset[yvar], normalize=\\\"index\\\")\\n    entry[\\\"series\\\"] = xtab[yval] * 100\\n\\n    weights = df.groupby(xvar)[yvar].count()\\n    entry[\\\"weights\\\"] = weights / weights.sum()\\n\\n    entry[\\\"smooth\\\"] = make_smooth(entry[\\\"series\\\"], entry[\\\"weights\\\"], lam=100)\\n\\n    return entry\";\n",
       "                var nbb_cells = Jupyter.notebook.get_cells();\n",
       "                for (var i = 0; i < nbb_cells.length; ++i) {\n",
       "                    if (nbb_cells[i].input_prompt_number == nbb_cell_id) {\n",
       "                        if (nbb_cells[i].get_text() == nbb_unformatted_code) {\n",
       "                             nbb_cells[i].set_text(nbb_formatted_code);\n",
       "                        }\n",
       "                        break;\n",
       "                    }\n",
       "                }\n",
       "            }, 500);\n",
       "            "
      ],
      "text/plain": [
       "<IPython.core.display.Javascript object>"
      ]
     },
     "metadata": {},
     "output_type": "display_data"
    }
   ],
   "source": [
    "def make_entry(df, xvar, yvar, yval):\n",
    "    entry = pd.DataFrame(dtype=float)\n",
    "\n",
    "    subset = df.dropna(subset=[xvar, yvar])\n",
    "    counts = subset[xvar].value_counts()\n",
    "\n",
    "    # handle special case\n",
    "    if 1 < len(counts) <= 3:\n",
    "        series, smooth = bayesian_smooth(subset, xvar, yvar, yval)\n",
    "        entry[\"series\"] = series\n",
    "        entry[\"smooth\"] = smooth\n",
    "        return entry\n",
    "\n",
    "    xtab = pd.crosstab(subset[xvar], subset[yvar], normalize=\"index\")\n",
    "    entry[\"series\"] = xtab[yval] * 100\n",
    "\n",
    "    weights = df.groupby(xvar)[yvar].count()\n",
    "    entry[\"weights\"] = weights / weights.sum()\n",
    "\n",
    "    entry[\"smooth\"] = make_smooth(entry[\"series\"], entry[\"weights\"], lam=100)\n",
    "\n",
    "    return entry"
   ]
  },
  {
   "cell_type": "code",
   "execution_count": 16,
   "id": "ebd625b1",
   "metadata": {
    "tags": []
   },
   "outputs": [
    {
     "data": {
      "application/javascript": [
       "\n",
       "            setTimeout(function() {\n",
       "                var nbb_cell_id = 16;\n",
       "                var nbb_unformatted_code = \"xlim = [1970.5, 2024.5]\\n\\n\\ndef plot_by_year(df, yvar, yval):\\n    \\\"\\\"\\\" \\\"\\\"\\\"\\n    entry = make_entry(df, \\\"year\\\", yvar, yval)\\n    plot_series_smooth(\\n        entry[\\\"series\\\"], entry[\\\"smooth\\\"], plot_series=True, color=\\\"C0\\\", label=\\\"\\\"\\n    )\\n\\n    decorate(\\n        xlabel=\\\"Year of survey\\\",\\n        xlim=xlim,\\n        ylim=ylim,\\n    )\\n    plot_titles(title, subtitle)\";\n",
       "                var nbb_formatted_code = \"xlim = [1970.5, 2024.5]\\n\\n\\ndef plot_by_year(df, yvar, yval):\\n    \\\"\\\"\\\" \\\"\\\"\\\"\\n    entry = make_entry(df, \\\"year\\\", yvar, yval)\\n    plot_series_smooth(\\n        entry[\\\"series\\\"], entry[\\\"smooth\\\"], plot_series=True, color=\\\"C0\\\", label=\\\"\\\"\\n    )\\n\\n    decorate(\\n        xlabel=\\\"Year of survey\\\",\\n        xlim=xlim,\\n        ylim=ylim,\\n    )\\n    plot_titles(title, subtitle)\";\n",
       "                var nbb_cells = Jupyter.notebook.get_cells();\n",
       "                for (var i = 0; i < nbb_cells.length; ++i) {\n",
       "                    if (nbb_cells[i].input_prompt_number == nbb_cell_id) {\n",
       "                        if (nbb_cells[i].get_text() == nbb_unformatted_code) {\n",
       "                             nbb_cells[i].set_text(nbb_formatted_code);\n",
       "                        }\n",
       "                        break;\n",
       "                    }\n",
       "                }\n",
       "            }, 500);\n",
       "            "
      ],
      "text/plain": [
       "<IPython.core.display.Javascript object>"
      ]
     },
     "metadata": {},
     "output_type": "display_data"
    }
   ],
   "source": [
    "xlim = [1970.5, 2024.5]\n",
    "\n",
    "\n",
    "def plot_by_year(df, yvar, yval):\n",
    "    \"\"\" \"\"\"\n",
    "    entry = make_entry(df, \"year\", yvar, yval)\n",
    "    plot_series_smooth(\n",
    "        entry[\"series\"], entry[\"smooth\"], plot_series=True, color=\"C0\", label=\"\"\n",
    "    )\n",
    "\n",
    "    decorate(\n",
    "        xlabel=\"Year of survey\",\n",
    "        xlim=xlim,\n",
    "        ylim=ylim,\n",
    "    )\n",
    "    plot_titles(title, subtitle)"
   ]
  },
  {
   "cell_type": "code",
   "execution_count": 17,
   "id": "48514aa0",
   "metadata": {},
   "outputs": [
    {
     "data": {
      "application/javascript": [
       "\n",
       "            setTimeout(function() {\n",
       "                var nbb_cell_id = 17;\n",
       "                var nbb_unformatted_code = \"def plot_series_smooth(series, smooth, plot_series=False, **options):\\n    \\\"\\\"\\\"Plots a series of data points and a smooth line.\\n\\n    series: pd.Series\\n    color: string or tuple\\n    \\\"\\\"\\\"\\n    color = options.pop(\\\"color\\\", \\\"C0\\\")\\n    if \\\"label\\\" not in options:\\n        options[\\\"label\\\"] = series.name\\n\\n    x = series.index\\n    y = series.values\\n    if plot_series:\\n        plt.plot(x, y, \\\"o\\\", color=color, alpha=0.5, label=\\\"_\\\")\\n\\n    if not plot_series and len(series) == 1:\\n        plt.plot(x, y, \\\"o\\\", color=color, label=options[\\\"label\\\"])\\n\\n    if len(series) > 1:\\n        smooth.plot(color=color, **options)\";\n",
       "                var nbb_formatted_code = \"def plot_series_smooth(series, smooth, plot_series=False, **options):\\n    \\\"\\\"\\\"Plots a series of data points and a smooth line.\\n\\n    series: pd.Series\\n    color: string or tuple\\n    \\\"\\\"\\\"\\n    color = options.pop(\\\"color\\\", \\\"C0\\\")\\n    if \\\"label\\\" not in options:\\n        options[\\\"label\\\"] = series.name\\n\\n    x = series.index\\n    y = series.values\\n    if plot_series:\\n        plt.plot(x, y, \\\"o\\\", color=color, alpha=0.5, label=\\\"_\\\")\\n\\n    if not plot_series and len(series) == 1:\\n        plt.plot(x, y, \\\"o\\\", color=color, label=options[\\\"label\\\"])\\n\\n    if len(series) > 1:\\n        smooth.plot(color=color, **options)\";\n",
       "                var nbb_cells = Jupyter.notebook.get_cells();\n",
       "                for (var i = 0; i < nbb_cells.length; ++i) {\n",
       "                    if (nbb_cells[i].input_prompt_number == nbb_cell_id) {\n",
       "                        if (nbb_cells[i].get_text() == nbb_unformatted_code) {\n",
       "                             nbb_cells[i].set_text(nbb_formatted_code);\n",
       "                        }\n",
       "                        break;\n",
       "                    }\n",
       "                }\n",
       "            }, 500);\n",
       "            "
      ],
      "text/plain": [
       "<IPython.core.display.Javascript object>"
      ]
     },
     "metadata": {},
     "output_type": "display_data"
    }
   ],
   "source": [
    "def plot_series_smooth(series, smooth, plot_series=False, **options):\n",
    "    \"\"\"Plots a series of data points and a smooth line.\n",
    "\n",
    "    series: pd.Series\n",
    "    color: string or tuple\n",
    "    \"\"\"\n",
    "    color = options.pop(\"color\", \"C0\")\n",
    "    if \"label\" not in options:\n",
    "        options[\"label\"] = series.name\n",
    "\n",
    "    x = series.index\n",
    "    y = series.values\n",
    "    if plot_series:\n",
    "        plt.plot(x, y, \"o\", color=color, alpha=0.5, label=\"_\")\n",
    "\n",
    "    if not plot_series and len(series) == 1:\n",
    "        plt.plot(x, y, \"o\", color=color, label=options[\"label\"])\n",
    "\n",
    "    if len(series) > 1:\n",
    "        smooth.plot(color=color, **options)"
   ]
  },
  {
   "cell_type": "code",
   "execution_count": 18,
   "id": "c483a0ff",
   "metadata": {},
   "outputs": [
    {
     "data": {
      "application/javascript": [
       "\n",
       "            setTimeout(function() {\n",
       "                var nbb_cell_id = 18;\n",
       "                var nbb_unformatted_code = \"def plot_by_cohort(df, yvar, yval):\\n    \\\"\\\"\\\" \\\"\\\"\\\"\\n    entry = make_entry(df, \\\"cohort\\\", yvar, yval)\\n\\n    plot_series_smooth(\\n        entry[\\\"series\\\"],\\n        entry[\\\"smooth\\\"],\\n        plot_series=True,\\n        color=\\\"C1\\\",\\n        ls=\\\"--\\\",\\n        label=\\\"\\\",\\n    )\\n\\n    decorate(\\n        xlabel=\\\"Year of birth\\\",\\n        ylim=ylim,\\n    )\\n    plot_titles(title, subtitle)\";\n",
       "                var nbb_formatted_code = \"def plot_by_cohort(df, yvar, yval):\\n    \\\"\\\"\\\" \\\"\\\"\\\"\\n    entry = make_entry(df, \\\"cohort\\\", yvar, yval)\\n\\n    plot_series_smooth(\\n        entry[\\\"series\\\"],\\n        entry[\\\"smooth\\\"],\\n        plot_series=True,\\n        color=\\\"C1\\\",\\n        ls=\\\"--\\\",\\n        label=\\\"\\\",\\n    )\\n\\n    decorate(\\n        xlabel=\\\"Year of birth\\\",\\n        ylim=ylim,\\n    )\\n    plot_titles(title, subtitle)\";\n",
       "                var nbb_cells = Jupyter.notebook.get_cells();\n",
       "                for (var i = 0; i < nbb_cells.length; ++i) {\n",
       "                    if (nbb_cells[i].input_prompt_number == nbb_cell_id) {\n",
       "                        if (nbb_cells[i].get_text() == nbb_unformatted_code) {\n",
       "                             nbb_cells[i].set_text(nbb_formatted_code);\n",
       "                        }\n",
       "                        break;\n",
       "                    }\n",
       "                }\n",
       "            }, 500);\n",
       "            "
      ],
      "text/plain": [
       "<IPython.core.display.Javascript object>"
      ]
     },
     "metadata": {},
     "output_type": "display_data"
    }
   ],
   "source": [
    "def plot_by_cohort(df, yvar, yval):\n",
    "    \"\"\" \"\"\"\n",
    "    entry = make_entry(df, \"cohort\", yvar, yval)\n",
    "\n",
    "    plot_series_smooth(\n",
    "        entry[\"series\"],\n",
    "        entry[\"smooth\"],\n",
    "        plot_series=True,\n",
    "        color=\"C1\",\n",
    "        ls=\"--\",\n",
    "        label=\"\",\n",
    "    )\n",
    "\n",
    "    decorate(\n",
    "        xlabel=\"Year of birth\",\n",
    "        ylim=ylim,\n",
    "    )\n",
    "    plot_titles(title, subtitle)"
   ]
  },
  {
   "cell_type": "code",
   "execution_count": 19,
   "id": "1fc8cbd4",
   "metadata": {},
   "outputs": [
    {
     "data": {
      "application/javascript": [
       "\n",
       "            setTimeout(function() {\n",
       "                var nbb_cell_id = 19;\n",
       "                var nbb_unformatted_code = \"def make_table(df, xvar, yvar, gvar, yval=None):\\n    \\\"\\\"\\\"Compute series of yvar vs xvar grouped by gvar.\\n\\n    returns: map from group name to Series\\n    \\\"\\\"\\\"\\n    table = {}\\n    for name, group in df.groupby(gvar):\\n        if len(group) < 100:\\n            continue\\n\\n        table[name] = make_entry(group, xvar, yvar, yval)\\n\\n    return table\";\n",
       "                var nbb_formatted_code = \"def make_table(df, xvar, yvar, gvar, yval=None):\\n    \\\"\\\"\\\"Compute series of yvar vs xvar grouped by gvar.\\n\\n    returns: map from group name to Series\\n    \\\"\\\"\\\"\\n    table = {}\\n    for name, group in df.groupby(gvar):\\n        if len(group) < 100:\\n            continue\\n\\n        table[name] = make_entry(group, xvar, yvar, yval)\\n\\n    return table\";\n",
       "                var nbb_cells = Jupyter.notebook.get_cells();\n",
       "                for (var i = 0; i < nbb_cells.length; ++i) {\n",
       "                    if (nbb_cells[i].input_prompt_number == nbb_cell_id) {\n",
       "                        if (nbb_cells[i].get_text() == nbb_unformatted_code) {\n",
       "                             nbb_cells[i].set_text(nbb_formatted_code);\n",
       "                        }\n",
       "                        break;\n",
       "                    }\n",
       "                }\n",
       "            }, 500);\n",
       "            "
      ],
      "text/plain": [
       "<IPython.core.display.Javascript object>"
      ]
     },
     "metadata": {},
     "output_type": "display_data"
    }
   ],
   "source": [
    "def make_table(df, xvar, yvar, gvar, yval=None):\n",
    "    \"\"\"Compute series of yvar vs xvar grouped by gvar.\n",
    "\n",
    "    returns: map from group name to Series\n",
    "    \"\"\"\n",
    "    table = {}\n",
    "    for name, group in df.groupby(gvar):\n",
    "        if len(group) < 100:\n",
    "            continue\n",
    "\n",
    "        table[name] = make_entry(group, xvar, yvar, yval)\n",
    "\n",
    "    return table"
   ]
  },
  {
   "cell_type": "code",
   "execution_count": 20,
   "id": "efd6d28d",
   "metadata": {},
   "outputs": [
    {
     "data": {
      "application/javascript": [
       "\n",
       "            setTimeout(function() {\n",
       "                var nbb_cell_id = 20;\n",
       "                var nbb_unformatted_code = \"from utils import get_colors\\n\\n\\ndef plot_table(table, nudge={}, **options):\\n    \\\"\\\"\\\"Plot the results from make_table.\\n\\n    table: map from group name to Series\\n    weights: \\n    options: passed to plot\\n    \\\"\\\"\\\"\\n    palette = options.pop(\\\"palette\\\", \\\"Purples\\\")\\n    colors = get_colors(len(table), palette=palette)\\n\\n    for i, group in enumerate(table):\\n        entry = table[group]\\n        label = f\\\"{group}s\\\"\\n        plot_series_smooth(\\n            entry['series'], entry['smooth'], plot_series=False, color=colors[i], label=label, **options\\n        )\\n    label_table(table, nudge)\\n\\n    plot_titles(title, subtitle)\\n    decorate(\\n        xlabel=\\\"Year of survey\\\",\\n        xlim=xlim,\\n        ylim=ylim,\\n        legend=False,\\n    )\";\n",
       "                var nbb_formatted_code = \"from utils import get_colors\\n\\n\\ndef plot_table(table, nudge={}, **options):\\n    \\\"\\\"\\\"Plot the results from make_table.\\n\\n    table: map from group name to Series\\n    weights:\\n    options: passed to plot\\n    \\\"\\\"\\\"\\n    palette = options.pop(\\\"palette\\\", \\\"Purples\\\")\\n    colors = get_colors(len(table), palette=palette)\\n\\n    for i, group in enumerate(table):\\n        entry = table[group]\\n        label = f\\\"{group}s\\\"\\n        plot_series_smooth(\\n            entry[\\\"series\\\"],\\n            entry[\\\"smooth\\\"],\\n            plot_series=False,\\n            color=colors[i],\\n            label=label,\\n            **options,\\n        )\\n    label_table(table, nudge)\\n\\n    plot_titles(title, subtitle)\\n    decorate(\\n        xlabel=\\\"Year of survey\\\",\\n        xlim=xlim,\\n        ylim=ylim,\\n        legend=False,\\n    )\";\n",
       "                var nbb_cells = Jupyter.notebook.get_cells();\n",
       "                for (var i = 0; i < nbb_cells.length; ++i) {\n",
       "                    if (nbb_cells[i].input_prompt_number == nbb_cell_id) {\n",
       "                        if (nbb_cells[i].get_text() == nbb_unformatted_code) {\n",
       "                             nbb_cells[i].set_text(nbb_formatted_code);\n",
       "                        }\n",
       "                        break;\n",
       "                    }\n",
       "                }\n",
       "            }, 500);\n",
       "            "
      ],
      "text/plain": [
       "<IPython.core.display.Javascript object>"
      ]
     },
     "metadata": {},
     "output_type": "display_data"
    }
   ],
   "source": [
    "from utils import get_colors\n",
    "\n",
    "\n",
    "def plot_table(table, nudge={}, **options):\n",
    "    \"\"\"Plot the results from make_table.\n",
    "\n",
    "    table: map from group name to Series\n",
    "    weights: \n",
    "    options: passed to plot\n",
    "    \"\"\"\n",
    "    palette = options.pop(\"palette\", \"Purples\")\n",
    "    colors = get_colors(len(table), palette=palette)\n",
    "\n",
    "    for i, group in enumerate(table):\n",
    "        entry = table[group]\n",
    "        label = f\"{group}s\"\n",
    "        plot_series_smooth(\n",
    "            entry['series'], entry['smooth'], plot_series=False, color=colors[i], label=label, **options\n",
    "        )\n",
    "    label_table(table, nudge)\n",
    "\n",
    "    plot_titles(title, subtitle)\n",
    "    decorate(\n",
    "        xlabel=\"Year of survey\",\n",
    "        xlim=xlim,\n",
    "        ylim=ylim,\n",
    "        legend=False,\n",
    "    )\n"
   ]
  },
  {
   "cell_type": "code",
   "execution_count": 21,
   "id": "b073c6f6",
   "metadata": {},
   "outputs": [
    {
     "data": {
      "application/javascript": [
       "\n",
       "            setTimeout(function() {\n",
       "                var nbb_cell_id = 21;\n",
       "                var nbb_unformatted_code = \"def label_table(table, nudge={}, frac=0.7, **options):\\n    \\\"\\\"\\\"Add direct labels for the lines in a table.\\n\\n    table: map from group name to DataFrame\\n    nudge: map from label to an offset in the y direction\\n    frac: parameter of make_lowess\\n    options: passed to plt.text\\n    \\\"\\\"\\\"\\n    underride(options, va=\\\"center\\\", alpha=0.8, fontsize=\\\"small\\\")\\n    for group in table:\\n        series = table[group][\\\"series\\\"]\\n        smooth = table[group][\\\"smooth\\\"]\\n        label = f\\\"{group}s\\\"\\n\\n        x = series.index[-1] + 0.5\\n        if len(series) > 1:\\n            y = smooth.iloc[-1]\\n        else:\\n            y = series.iloc[-1]\\n\\n        y += nudge.get(label, 0)\\n        plt.text(x, y, label, **options)\";\n",
       "                var nbb_formatted_code = \"def label_table(table, nudge={}, frac=0.7, **options):\\n    \\\"\\\"\\\"Add direct labels for the lines in a table.\\n\\n    table: map from group name to DataFrame\\n    nudge: map from label to an offset in the y direction\\n    frac: parameter of make_lowess\\n    options: passed to plt.text\\n    \\\"\\\"\\\"\\n    underride(options, va=\\\"center\\\", alpha=0.8, fontsize=\\\"small\\\")\\n    for group in table:\\n        series = table[group][\\\"series\\\"]\\n        smooth = table[group][\\\"smooth\\\"]\\n        label = f\\\"{group}s\\\"\\n\\n        x = series.index[-1] + 0.5\\n        if len(series) > 1:\\n            y = smooth.iloc[-1]\\n        else:\\n            y = series.iloc[-1]\\n\\n        y += nudge.get(label, 0)\\n        plt.text(x, y, label, **options)\";\n",
       "                var nbb_cells = Jupyter.notebook.get_cells();\n",
       "                for (var i = 0; i < nbb_cells.length; ++i) {\n",
       "                    if (nbb_cells[i].input_prompt_number == nbb_cell_id) {\n",
       "                        if (nbb_cells[i].get_text() == nbb_unformatted_code) {\n",
       "                             nbb_cells[i].set_text(nbb_formatted_code);\n",
       "                        }\n",
       "                        break;\n",
       "                    }\n",
       "                }\n",
       "            }, 500);\n",
       "            "
      ],
      "text/plain": [
       "<IPython.core.display.Javascript object>"
      ]
     },
     "metadata": {},
     "output_type": "display_data"
    }
   ],
   "source": [
    "def label_table(table, nudge={}, frac=0.7, **options):\n",
    "    \"\"\"Add direct labels for the lines in a table.\n",
    "\n",
    "    table: map from group name to DataFrame\n",
    "    nudge: map from label to an offset in the y direction\n",
    "    frac: parameter of make_lowess\n",
    "    options: passed to plt.text\n",
    "    \"\"\"\n",
    "    underride(options, va=\"center\", alpha=0.8, fontsize=\"small\")\n",
    "    for group in table:\n",
    "        series = table[group][\"series\"]\n",
    "        smooth = table[group][\"smooth\"]\n",
    "        label = f\"{group}s\"\n",
    "\n",
    "        x = series.index[-1] + 0.5\n",
    "        if len(series) > 1:\n",
    "            y = smooth.iloc[-1]\n",
    "        else:\n",
    "            y = series.iloc[-1]\n",
    "\n",
    "        y += nudge.get(label, 0)\n",
    "        plt.text(x, y, label, **options)"
   ]
  },
  {
   "cell_type": "markdown",
   "id": "8805794d",
   "metadata": {},
   "source": [
    "## helpful"
   ]
  },
  {
   "cell_type": "code",
   "execution_count": 22,
   "id": "9012be07",
   "metadata": {
    "tags": []
   },
   "outputs": [
    {
     "data": {
      "application/javascript": [
       "\n",
       "            setTimeout(function() {\n",
       "                var nbb_cell_id = 22;\n",
       "                var nbb_unformatted_code = \"# https://gssdataexplorer.norc.org/variables/439/vshow\\n\\n# 1 = helpful\\n# 2 = look out for themselves\\n# 3 = depends\";\n",
       "                var nbb_formatted_code = \"# https://gssdataexplorer.norc.org/variables/439/vshow\\n\\n# 1 = helpful\\n# 2 = look out for themselves\\n# 3 = depends\";\n",
       "                var nbb_cells = Jupyter.notebook.get_cells();\n",
       "                for (var i = 0; i < nbb_cells.length; ++i) {\n",
       "                    if (nbb_cells[i].input_prompt_number == nbb_cell_id) {\n",
       "                        if (nbb_cells[i].get_text() == nbb_unformatted_code) {\n",
       "                             nbb_cells[i].set_text(nbb_formatted_code);\n",
       "                        }\n",
       "                        break;\n",
       "                    }\n",
       "                }\n",
       "            }, 500);\n",
       "            "
      ],
      "text/plain": [
       "<IPython.core.display.Javascript object>"
      ]
     },
     "metadata": {},
     "output_type": "display_data"
    }
   ],
   "source": [
    "# https://gssdataexplorer.norc.org/variables/439/vshow\n",
    "\n",
    "# 1 = helpful\n",
    "# 2 = look out for themselves\n",
    "# 3 = depends"
   ]
  },
  {
   "cell_type": "code",
   "execution_count": 23,
   "id": "2692c606",
   "metadata": {},
   "outputs": [
    {
     "data": {
      "text/plain": [
       "helpful\n",
       "1.0    20471\n",
       "2.0    18972\n",
       "3.0     2971\n",
       "Name: count, dtype: int64"
      ]
     },
     "execution_count": 23,
     "metadata": {},
     "output_type": "execute_result"
    },
    {
     "data": {
      "application/javascript": [
       "\n",
       "            setTimeout(function() {\n",
       "                var nbb_cell_id = 23;\n",
       "                var nbb_unformatted_code = \"yvar = \\\"helpful\\\"\\nyval = 1\\n\\nseries = gss[yvar]\\nseries.value_counts()\";\n",
       "                var nbb_formatted_code = \"yvar = \\\"helpful\\\"\\nyval = 1\\n\\nseries = gss[yvar]\\nseries.value_counts()\";\n",
       "                var nbb_cells = Jupyter.notebook.get_cells();\n",
       "                for (var i = 0; i < nbb_cells.length; ++i) {\n",
       "                    if (nbb_cells[i].input_prompt_number == nbb_cell_id) {\n",
       "                        if (nbb_cells[i].get_text() == nbb_unformatted_code) {\n",
       "                             nbb_cells[i].set_text(nbb_formatted_code);\n",
       "                        }\n",
       "                        break;\n",
       "                    }\n",
       "                }\n",
       "            }, 500);\n",
       "            "
      ],
      "text/plain": [
       "<IPython.core.display.Javascript object>"
      ]
     },
     "metadata": {},
     "output_type": "display_data"
    }
   ],
   "source": [
    "yvar = \"helpful\"\n",
    "yval = 1\n",
    "\n",
    "series = gss[yvar]\n",
    "series.value_counts()"
   ]
  },
  {
   "cell_type": "code",
   "execution_count": 24,
   "id": "ee22fb59",
   "metadata": {
    "tags": []
   },
   "outputs": [
    {
     "data": {
      "application/javascript": [
       "\n",
       "            setTimeout(function() {\n",
       "                var nbb_cell_id = 24;\n",
       "                var nbb_unformatted_code = \"question = \\\"\\\"\\\"Would you say that most of the time people try to be helpful, \\nor that they are mostly just looking out for themselves?\\n\\\"\\\"\\\"\\n\\ntitle = \\\"Would people be helpful or look out for themselves?\\\"\\nsubtitle = \\\"Percent saying helpful\\\"\\nylim = [15, 75]\";\n",
       "                var nbb_formatted_code = \"question = \\\"\\\"\\\"Would you say that most of the time people try to be helpful, \\nor that they are mostly just looking out for themselves?\\n\\\"\\\"\\\"\\n\\ntitle = \\\"Would people be helpful or look out for themselves?\\\"\\nsubtitle = \\\"Percent saying helpful\\\"\\nylim = [15, 75]\";\n",
       "                var nbb_cells = Jupyter.notebook.get_cells();\n",
       "                for (var i = 0; i < nbb_cells.length; ++i) {\n",
       "                    if (nbb_cells[i].input_prompt_number == nbb_cell_id) {\n",
       "                        if (nbb_cells[i].get_text() == nbb_unformatted_code) {\n",
       "                             nbb_cells[i].set_text(nbb_formatted_code);\n",
       "                        }\n",
       "                        break;\n",
       "                    }\n",
       "                }\n",
       "            }, 500);\n",
       "            "
      ],
      "text/plain": [
       "<IPython.core.display.Javascript object>"
      ]
     },
     "metadata": {},
     "output_type": "display_data"
    }
   ],
   "source": [
    "question = \"\"\"Would you say that most of the time people try to be helpful, \n",
    "or that they are mostly just looking out for themselves?\n",
    "\"\"\"\n",
    "\n",
    "title = \"Would people be helpful or look out for themselves?\"\n",
    "subtitle = \"Percent saying helpful\"\n",
    "ylim = [15, 75]"
   ]
  },
  {
   "cell_type": "code",
   "execution_count": 25,
   "id": "dbf78329",
   "metadata": {},
   "outputs": [
    {
     "data": {
      "image/png": "[encoded data removed]",
      "text/plain": [
       "<Figure size 450x262.5 with 1 Axes>"
      ]
     },
     "metadata": {},
     "output_type": "display_data"
    },
    {
     "data": {
      "application/javascript": [
       "\n",
       "            setTimeout(function() {\n",
       "                var nbb_cell_id = 25;\n",
       "                var nbb_unformatted_code = \"plot_by_year(gss, yvar, yval)\\nplt.savefig(f\\\"optimism_{yvar}_by_year\\\", dpi=300)\";\n",
       "                var nbb_formatted_code = \"plot_by_year(gss, yvar, yval)\\nplt.savefig(f\\\"optimism_{yvar}_by_year\\\", dpi=300)\";\n",
       "                var nbb_cells = Jupyter.notebook.get_cells();\n",
       "                for (var i = 0; i < nbb_cells.length; ++i) {\n",
       "                    if (nbb_cells[i].input_prompt_number == nbb_cell_id) {\n",
       "                        if (nbb_cells[i].get_text() == nbb_unformatted_code) {\n",
       "                             nbb_cells[i].set_text(nbb_formatted_code);\n",
       "                        }\n",
       "                        break;\n",
       "                    }\n",
       "                }\n",
       "            }, 500);\n",
       "            "
      ],
      "text/plain": [
       "<IPython.core.display.Javascript object>"
      ]
     },
     "metadata": {},
     "output_type": "display_data"
    }
   ],
   "source": [
    "plot_by_year(gss, yvar, yval)\n",
    "plt.savefig(f\"optimism_{yvar}_by_year\", dpi=300)"
   ]
  },
  {
   "cell_type": "code",
   "execution_count": 26,
   "id": "cc31d5e1",
   "metadata": {},
   "outputs": [
    {
     "data": {
      "image/png": "[encoded data removed]",
      "text/plain": [
       "<Figure size 450x262.5 with 1 Axes>"
      ]
     },
     "metadata": {},
     "output_type": "display_data"
    },
    {
     "data": {
      "application/javascript": [
       "\n",
       "            setTimeout(function() {\n",
       "                var nbb_cell_id = 26;\n",
       "                var nbb_unformatted_code = \"plot_by_cohort(gss, yvar, yval)\\nplt.savefig(f\\\"optimism_{yvar}_by_cohort\\\", dpi=300)\";\n",
       "                var nbb_formatted_code = \"plot_by_cohort(gss, yvar, yval)\\nplt.savefig(f\\\"optimism_{yvar}_by_cohort\\\", dpi=300)\";\n",
       "                var nbb_cells = Jupyter.notebook.get_cells();\n",
       "                for (var i = 0; i < nbb_cells.length; ++i) {\n",
       "                    if (nbb_cells[i].input_prompt_number == nbb_cell_id) {\n",
       "                        if (nbb_cells[i].get_text() == nbb_unformatted_code) {\n",
       "                             nbb_cells[i].set_text(nbb_formatted_code);\n",
       "                        }\n",
       "                        break;\n",
       "                    }\n",
       "                }\n",
       "            }, 500);\n",
       "            "
      ],
      "text/plain": [
       "<IPython.core.display.Javascript object>"
      ]
     },
     "metadata": {},
     "output_type": "display_data"
    }
   ],
   "source": [
    "plot_by_cohort(gss, yvar, yval)\n",
    "plt.savefig(f\"optimism_{yvar}_by_cohort\", dpi=300)"
   ]
  },
  {
   "cell_type": "code",
   "execution_count": 27,
   "id": "05ccf544",
   "metadata": {
    "tags": []
   },
   "outputs": [
    {
     "data": {
      "application/javascript": [
       "\n",
       "            setTimeout(function() {\n",
       "                var nbb_cell_id = 27;\n",
       "                var nbb_unformatted_code = \"subset = gss.dropna(subset=[\\\"cohort\\\", yvar]).copy()\\nsubset[\\\"cohort10\\\"] = subset[\\\"cohort10\\\"].astype(int)\\n\\ntable = make_table(subset, \\\"year\\\", yvar, \\\"cohort10\\\", yval)\\n# del table[1900]\";\n",
       "                var nbb_formatted_code = \"subset = gss.dropna(subset=[\\\"cohort\\\", yvar]).copy()\\nsubset[\\\"cohort10\\\"] = subset[\\\"cohort10\\\"].astype(int)\\n\\ntable = make_table(subset, \\\"year\\\", yvar, \\\"cohort10\\\", yval)\\n# del table[1900]\";\n",
       "                var nbb_cells = Jupyter.notebook.get_cells();\n",
       "                for (var i = 0; i < nbb_cells.length; ++i) {\n",
       "                    if (nbb_cells[i].input_prompt_number == nbb_cell_id) {\n",
       "                        if (nbb_cells[i].get_text() == nbb_unformatted_code) {\n",
       "                             nbb_cells[i].set_text(nbb_formatted_code);\n",
       "                        }\n",
       "                        break;\n",
       "                    }\n",
       "                }\n",
       "            }, 500);\n",
       "            "
      ],
      "text/plain": [
       "<IPython.core.display.Javascript object>"
      ]
     },
     "metadata": {},
     "output_type": "display_data"
    }
   ],
   "source": [
    "subset = gss.dropna(subset=[\"cohort\", yvar]).copy()\n",
    "subset[\"cohort10\"] = subset[\"cohort10\"].astype(int)\n",
    "\n",
    "table = make_table(subset, \"year\", yvar, \"cohort10\", yval)\n",
    "# del table[1900]"
   ]
  },
  {
   "cell_type": "code",
   "execution_count": 28,
   "id": "0a7d722d",
   "metadata": {
    "tags": []
   },
   "outputs": [
    {
     "data": {
      "application/javascript": [
       "\n",
       "            setTimeout(function() {\n",
       "                var nbb_cell_id = 28;\n",
       "                var nbb_unformatted_code = \"def plot_group(table, group):\\n    entry = table[group]\\n    plot_series_smooth(\\n        entry[\\\"series\\\"],\\n        entry[\\\"smooth\\\"],\\n        plot_series=True,\\n        color=\\\"C2\\\",\\n        label=f\\\"Born in the {group}s\\\",\\n    )\\n    plot_titles(title, subtitle)\\n    decorate(xlabel=\\\"Year of survey\\\", ylim=ylim, xlim=xlim, loc=\\\"lower left\\\")\";\n",
       "                var nbb_formatted_code = \"def plot_group(table, group):\\n    entry = table[group]\\n    plot_series_smooth(\\n        entry[\\\"series\\\"],\\n        entry[\\\"smooth\\\"],\\n        plot_series=True,\\n        color=\\\"C2\\\",\\n        label=f\\\"Born in the {group}s\\\",\\n    )\\n    plot_titles(title, subtitle)\\n    decorate(xlabel=\\\"Year of survey\\\", ylim=ylim, xlim=xlim, loc=\\\"lower left\\\")\";\n",
       "                var nbb_cells = Jupyter.notebook.get_cells();\n",
       "                for (var i = 0; i < nbb_cells.length; ++i) {\n",
       "                    if (nbb_cells[i].input_prompt_number == nbb_cell_id) {\n",
       "                        if (nbb_cells[i].get_text() == nbb_unformatted_code) {\n",
       "                             nbb_cells[i].set_text(nbb_formatted_code);\n",
       "                        }\n",
       "                        break;\n",
       "                    }\n",
       "                }\n",
       "            }, 500);\n",
       "            "
      ],
      "text/plain": [
       "<IPython.core.display.Javascript object>"
      ]
     },
     "metadata": {},
     "output_type": "display_data"
    }
   ],
   "source": [
    "def plot_group(table, group):\n",
    "    entry = table[group]\n",
    "    plot_series_smooth(\n",
    "        entry[\"series\"],\n",
    "        entry[\"smooth\"],\n",
    "        plot_series=True,\n",
    "        color=\"C2\",\n",
    "        label=f\"Born in the {group}s\",\n",
    "    )\n",
    "    plot_titles(title, subtitle)\n",
    "    decorate(xlabel=\"Year of survey\", ylim=ylim, xlim=xlim, loc=\"lower left\")"
   ]
  },
  {
   "cell_type": "code",
   "execution_count": 29,
   "id": "c82baf24",
   "metadata": {
    "tags": []
   },
   "outputs": [
    {
     "data": {
      "image/png": "[encoded data removed]",
      "text/plain": [
       "<Figure size 450x262.5 with 1 Axes>"
      ]
     },
     "metadata": {},
     "output_type": "display_data"
    },
    {
     "data": {
      "application/javascript": [
       "\n",
       "            setTimeout(function() {\n",
       "                var nbb_cell_id = 29;\n",
       "                var nbb_unformatted_code = \"plot_group(table, 2000)\\nplt.savefig(f\\\"optimism_{yvar}_one_cohort\\\", dpi=300)\";\n",
       "                var nbb_formatted_code = \"plot_group(table, 2000)\\nplt.savefig(f\\\"optimism_{yvar}_one_cohort\\\", dpi=300)\";\n",
       "                var nbb_cells = Jupyter.notebook.get_cells();\n",
       "                for (var i = 0; i < nbb_cells.length; ++i) {\n",
       "                    if (nbb_cells[i].input_prompt_number == nbb_cell_id) {\n",
       "                        if (nbb_cells[i].get_text() == nbb_unformatted_code) {\n",
       "                             nbb_cells[i].set_text(nbb_formatted_code);\n",
       "                        }\n",
       "                        break;\n",
       "                    }\n",
       "                }\n",
       "            }, 500);\n",
       "            "
      ],
      "text/plain": [
       "<IPython.core.display.Javascript object>"
      ]
     },
     "metadata": {},
     "output_type": "display_data"
    }
   ],
   "source": [
    "plot_group(table, 2000)\n",
    "plt.savefig(f\"optimism_{yvar}_one_cohort\", dpi=300)"
   ]
  },
  {
   "cell_type": "code",
   "execution_count": 30,
   "id": "f9fd739d",
   "metadata": {
    "tags": []
   },
   "outputs": [
    {
     "data": {
      "image/png": "[encoded data removed]",
      "text/plain": [
       "<Figure size 450x262.5 with 1 Axes>"
      ]
     },
     "metadata": {},
     "output_type": "display_data"
    },
    {
     "data": {
      "application/javascript": [
       "\n",
       "            setTimeout(function() {\n",
       "                var nbb_cell_id = 30;\n",
       "                var nbb_unformatted_code = \"nudge = {\\\"1960s\\\": 0, \\\"1970s\\\": 0}\\nplot_table(table, nudge)\\nplt.savefig(f\\\"optimism_{yvar}_by_cohort_over_year\\\", dpi=300)\";\n",
       "                var nbb_formatted_code = \"nudge = {\\\"1960s\\\": 0, \\\"1970s\\\": 0}\\nplot_table(table, nudge)\\nplt.savefig(f\\\"optimism_{yvar}_by_cohort_over_year\\\", dpi=300)\";\n",
       "                var nbb_cells = Jupyter.notebook.get_cells();\n",
       "                for (var i = 0; i < nbb_cells.length; ++i) {\n",
       "                    if (nbb_cells[i].input_prompt_number == nbb_cell_id) {\n",
       "                        if (nbb_cells[i].get_text() == nbb_unformatted_code) {\n",
       "                             nbb_cells[i].set_text(nbb_formatted_code);\n",
       "                        }\n",
       "                        break;\n",
       "                    }\n",
       "                }\n",
       "            }, 500);\n",
       "            "
      ],
      "text/plain": [
       "<IPython.core.display.Javascript object>"
      ]
     },
     "metadata": {},
     "output_type": "display_data"
    }
   ],
   "source": [
    "nudge = {\"1960s\": 0, \"1970s\": 0}\n",
    "plot_table(table, nudge)\n",
    "plt.savefig(f\"optimism_{yvar}_by_cohort_over_year\", dpi=300)"
   ]
  },
  {
   "cell_type": "markdown",
   "id": "a5ee22e8",
   "metadata": {},
   "source": [
    "## trust"
   ]
  },
  {
   "cell_type": "code",
   "execution_count": 31,
   "id": "e3b45d9f",
   "metadata": {
    "tags": []
   },
   "outputs": [
    {
     "data": {
      "application/javascript": [
       "\n",
       "            setTimeout(function() {\n",
       "                var nbb_cell_id = 31;\n",
       "                var nbb_unformatted_code = \"question = \\\"\\\"\\\"Generally speaking, would you say that most people can be trusted \\nor that you can't be too careful in dealing with people?\\n\\\"\\\"\\\"\\n\\ntitle = \\\"Can most people be trusted?\\\"\\nsubtitle = \\\"Percent saying yes\\\"\\nylim = [5, 65]\";\n",
       "                var nbb_formatted_code = \"question = \\\"\\\"\\\"Generally speaking, would you say that most people can be trusted \\nor that you can't be too careful in dealing with people?\\n\\\"\\\"\\\"\\n\\ntitle = \\\"Can most people be trusted?\\\"\\nsubtitle = \\\"Percent saying yes\\\"\\nylim = [5, 65]\";\n",
       "                var nbb_cells = Jupyter.notebook.get_cells();\n",
       "                for (var i = 0; i < nbb_cells.length; ++i) {\n",
       "                    if (nbb_cells[i].input_prompt_number == nbb_cell_id) {\n",
       "                        if (nbb_cells[i].get_text() == nbb_unformatted_code) {\n",
       "                             nbb_cells[i].set_text(nbb_formatted_code);\n",
       "                        }\n",
       "                        break;\n",
       "                    }\n",
       "                }\n",
       "            }, 500);\n",
       "            "
      ],
      "text/plain": [
       "<IPython.core.display.Javascript object>"
      ]
     },
     "metadata": {},
     "output_type": "display_data"
    }
   ],
   "source": [
    "question = \"\"\"Generally speaking, would you say that most people can be trusted \n",
    "or that you can't be too careful in dealing with people?\n",
    "\"\"\"\n",
    "\n",
    "title = \"Can most people be trusted?\"\n",
    "subtitle = \"Percent saying yes\"\n",
    "ylim = [5, 65]"
   ]
  },
  {
   "cell_type": "code",
   "execution_count": 32,
   "id": "0ec37423",
   "metadata": {
    "tags": []
   },
   "outputs": [
    {
     "data": {
      "application/javascript": [
       "\n",
       "            setTimeout(function() {\n",
       "                var nbb_cell_id = 32;\n",
       "                var nbb_unformatted_code = \"# https://gssdataexplorer.norc.org/variables/441/vshow\\n\\n# 1 = can trust\\n# 2 = can't be too careful\\n# 3 = depends\";\n",
       "                var nbb_formatted_code = \"# https://gssdataexplorer.norc.org/variables/441/vshow\\n\\n# 1 = can trust\\n# 2 = can't be too careful\\n# 3 = depends\";\n",
       "                var nbb_cells = Jupyter.notebook.get_cells();\n",
       "                for (var i = 0; i < nbb_cells.length; ++i) {\n",
       "                    if (nbb_cells[i].input_prompt_number == nbb_cell_id) {\n",
       "                        if (nbb_cells[i].get_text() == nbb_unformatted_code) {\n",
       "                             nbb_cells[i].set_text(nbb_formatted_code);\n",
       "                        }\n",
       "                        break;\n",
       "                    }\n",
       "                }\n",
       "            }, 500);\n",
       "            "
      ],
      "text/plain": [
       "<IPython.core.display.Javascript object>"
      ]
     },
     "metadata": {},
     "output_type": "display_data"
    }
   ],
   "source": [
    "# https://gssdataexplorer.norc.org/variables/441/vshow\n",
    "\n",
    "# 1 = can trust\n",
    "# 2 = can't be too careful\n",
    "# 3 = depends"
   ]
  },
  {
   "cell_type": "code",
   "execution_count": 33,
   "id": "ec6cd0f4",
   "metadata": {},
   "outputs": [
    {
     "data": {
      "text/plain": [
       "trust\n",
       "2.0    24890\n",
       "1.0    15783\n",
       "3.0     1966\n",
       "Name: count, dtype: int64"
      ]
     },
     "execution_count": 33,
     "metadata": {},
     "output_type": "execute_result"
    },
    {
     "data": {
      "application/javascript": [
       "\n",
       "            setTimeout(function() {\n",
       "                var nbb_cell_id = 33;\n",
       "                var nbb_unformatted_code = \"yvar = \\\"trust\\\"\\nyval = 1\\n\\nseries = gss[yvar]\\nseries.value_counts()\";\n",
       "                var nbb_formatted_code = \"yvar = \\\"trust\\\"\\nyval = 1\\n\\nseries = gss[yvar]\\nseries.value_counts()\";\n",
       "                var nbb_cells = Jupyter.notebook.get_cells();\n",
       "                for (var i = 0; i < nbb_cells.length; ++i) {\n",
       "                    if (nbb_cells[i].input_prompt_number == nbb_cell_id) {\n",
       "                        if (nbb_cells[i].get_text() == nbb_unformatted_code) {\n",
       "                             nbb_cells[i].set_text(nbb_formatted_code);\n",
       "                        }\n",
       "                        break;\n",
       "                    }\n",
       "                }\n",
       "            }, 500);\n",
       "            "
      ],
      "text/plain": [
       "<IPython.core.display.Javascript object>"
      ]
     },
     "metadata": {},
     "output_type": "display_data"
    }
   ],
   "source": [
    "yvar = \"trust\"\n",
    "yval = 1\n",
    "\n",
    "series = gss[yvar]\n",
    "series.value_counts()"
   ]
  },
  {
   "cell_type": "code",
   "execution_count": 34,
   "id": "4a3658d6",
   "metadata": {},
   "outputs": [
    {
     "data": {
      "image/png": "[encoded data removed]",
      "text/plain": [
       "<Figure size 450x262.5 with 1 Axes>"
      ]
     },
     "metadata": {},
     "output_type": "display_data"
    },
    {
     "data": {
      "application/javascript": [
       "\n",
       "            setTimeout(function() {\n",
       "                var nbb_cell_id = 34;\n",
       "                var nbb_unformatted_code = \"plot_by_year(gss, yvar, yval)\\nplt.savefig(f\\\"optimism_{yvar}_by_year\\\", dpi=300)\";\n",
       "                var nbb_formatted_code = \"plot_by_year(gss, yvar, yval)\\nplt.savefig(f\\\"optimism_{yvar}_by_year\\\", dpi=300)\";\n",
       "                var nbb_cells = Jupyter.notebook.get_cells();\n",
       "                for (var i = 0; i < nbb_cells.length; ++i) {\n",
       "                    if (nbb_cells[i].input_prompt_number == nbb_cell_id) {\n",
       "                        if (nbb_cells[i].get_text() == nbb_unformatted_code) {\n",
       "                             nbb_cells[i].set_text(nbb_formatted_code);\n",
       "                        }\n",
       "                        break;\n",
       "                    }\n",
       "                }\n",
       "            }, 500);\n",
       "            "
      ],
      "text/plain": [
       "<IPython.core.display.Javascript object>"
      ]
     },
     "metadata": {},
     "output_type": "display_data"
    }
   ],
   "source": [
    "plot_by_year(gss, yvar, yval)\n",
    "plt.savefig(f\"optimism_{yvar}_by_year\", dpi=300)"
   ]
  },
  {
   "cell_type": "code",
   "execution_count": 35,
   "id": "f6a141d4",
   "metadata": {},
   "outputs": [
    {
     "data": {
      "image/png": "[encoded data removed]",
      "text/plain": [
       "<Figure size 450x262.5 with 1 Axes>"
      ]
     },
     "metadata": {},
     "output_type": "display_data"
    },
    {
     "data": {
      "application/javascript": [
       "\n",
       "            setTimeout(function() {\n",
       "                var nbb_cell_id = 35;\n",
       "                var nbb_unformatted_code = \"plot_by_cohort(gss, yvar, yval)\\nplt.savefig(f\\\"optimism_{yvar}_by_cohort\\\", dpi=300)\";\n",
       "                var nbb_formatted_code = \"plot_by_cohort(gss, yvar, yval)\\nplt.savefig(f\\\"optimism_{yvar}_by_cohort\\\", dpi=300)\";\n",
       "                var nbb_cells = Jupyter.notebook.get_cells();\n",
       "                for (var i = 0; i < nbb_cells.length; ++i) {\n",
       "                    if (nbb_cells[i].input_prompt_number == nbb_cell_id) {\n",
       "                        if (nbb_cells[i].get_text() == nbb_unformatted_code) {\n",
       "                             nbb_cells[i].set_text(nbb_formatted_code);\n",
       "                        }\n",
       "                        break;\n",
       "                    }\n",
       "                }\n",
       "            }, 500);\n",
       "            "
      ],
      "text/plain": [
       "<IPython.core.display.Javascript object>"
      ]
     },
     "metadata": {},
     "output_type": "display_data"
    }
   ],
   "source": [
    "plot_by_cohort(gss, yvar, yval)\n",
    "plt.savefig(f\"optimism_{yvar}_by_cohort\", dpi=300)"
   ]
  },
  {
   "cell_type": "code",
   "execution_count": 36,
   "id": "e57f870a",
   "metadata": {
    "tags": []
   },
   "outputs": [
    {
     "data": {
      "application/javascript": [
       "\n",
       "            setTimeout(function() {\n",
       "                var nbb_cell_id = 36;\n",
       "                var nbb_unformatted_code = \"subset = gss.dropna(subset=[\\\"cohort\\\", yvar]).copy()\\nsubset[\\\"cohort10\\\"] = subset[\\\"cohort10\\\"].astype(int)\\n\\ntable = make_table(subset, \\\"year\\\", yvar, \\\"cohort10\\\", yval)\";\n",
       "                var nbb_formatted_code = \"subset = gss.dropna(subset=[\\\"cohort\\\", yvar]).copy()\\nsubset[\\\"cohort10\\\"] = subset[\\\"cohort10\\\"].astype(int)\\n\\ntable = make_table(subset, \\\"year\\\", yvar, \\\"cohort10\\\", yval)\";\n",
       "                var nbb_cells = Jupyter.notebook.get_cells();\n",
       "                for (var i = 0; i < nbb_cells.length; ++i) {\n",
       "                    if (nbb_cells[i].input_prompt_number == nbb_cell_id) {\n",
       "                        if (nbb_cells[i].get_text() == nbb_unformatted_code) {\n",
       "                             nbb_cells[i].set_text(nbb_formatted_code);\n",
       "                        }\n",
       "                        break;\n",
       "                    }\n",
       "                }\n",
       "            }, 500);\n",
       "            "
      ],
      "text/plain": [
       "<IPython.core.display.Javascript object>"
      ]
     },
     "metadata": {},
     "output_type": "display_data"
    }
   ],
   "source": [
    "subset = gss.dropna(subset=[\"cohort\", yvar]).copy()\n",
    "subset[\"cohort10\"] = subset[\"cohort10\"].astype(int)\n",
    "\n",
    "table = make_table(subset, \"year\", yvar, \"cohort10\", yval)"
   ]
  },
  {
   "cell_type": "code",
   "execution_count": 37,
   "id": "19208e66",
   "metadata": {
    "tags": []
   },
   "outputs": [
    {
     "data": {
      "image/png": "[encoded data removed]",
      "text/plain": [
       "<Figure size 450x262.5 with 1 Axes>"
      ]
     },
     "metadata": {},
     "output_type": "display_data"
    },
    {
     "data": {
      "application/javascript": [
       "\n",
       "            setTimeout(function() {\n",
       "                var nbb_cell_id = 37;\n",
       "                var nbb_unformatted_code = \"plot_group(table, 1990)\\nplt.savefig(f\\\"optimism_{yvar}_one_cohort\\\", dpi=300)\";\n",
       "                var nbb_formatted_code = \"plot_group(table, 1990)\\nplt.savefig(f\\\"optimism_{yvar}_one_cohort\\\", dpi=300)\";\n",
       "                var nbb_cells = Jupyter.notebook.get_cells();\n",
       "                for (var i = 0; i < nbb_cells.length; ++i) {\n",
       "                    if (nbb_cells[i].input_prompt_number == nbb_cell_id) {\n",
       "                        if (nbb_cells[i].get_text() == nbb_unformatted_code) {\n",
       "                             nbb_cells[i].set_text(nbb_formatted_code);\n",
       "                        }\n",
       "                        break;\n",
       "                    }\n",
       "                }\n",
       "            }, 500);\n",
       "            "
      ],
      "text/plain": [
       "<IPython.core.display.Javascript object>"
      ]
     },
     "metadata": {},
     "output_type": "display_data"
    }
   ],
   "source": [
    "plot_group(table, 1990)\n",
    "plt.savefig(f\"optimism_{yvar}_one_cohort\", dpi=300)"
   ]
  },
  {
   "cell_type": "code",
   "execution_count": 38,
   "id": "8ec70053",
   "metadata": {
    "tags": []
   },
   "outputs": [
    {
     "data": {
      "image/png": "[encoded data removed]",
      "text/plain": [
       "<Figure size 450x262.5 with 1 Axes>"
      ]
     },
     "metadata": {},
     "output_type": "display_data"
    },
    {
     "data": {
      "application/javascript": [
       "\n",
       "            setTimeout(function() {\n",
       "                var nbb_cell_id = 38;\n",
       "                var nbb_unformatted_code = \"nudge = {\\\"1960s\\\": 0, \\\"1970s\\\": 0, \\\"1980s\\\": 0, \\\"1990s\\\": 0}\\nplot_table(table, nudge)\\nplt.savefig(f\\\"optimism_{yvar}_by_cohort_over_year\\\", dpi=300)\";\n",
       "                var nbb_formatted_code = \"nudge = {\\\"1960s\\\": 0, \\\"1970s\\\": 0, \\\"1980s\\\": 0, \\\"1990s\\\": 0}\\nplot_table(table, nudge)\\nplt.savefig(f\\\"optimism_{yvar}_by_cohort_over_year\\\", dpi=300)\";\n",
       "                var nbb_cells = Jupyter.notebook.get_cells();\n",
       "                for (var i = 0; i < nbb_cells.length; ++i) {\n",
       "                    if (nbb_cells[i].input_prompt_number == nbb_cell_id) {\n",
       "                        if (nbb_cells[i].get_text() == nbb_unformatted_code) {\n",
       "                             nbb_cells[i].set_text(nbb_formatted_code);\n",
       "                        }\n",
       "                        break;\n",
       "                    }\n",
       "                }\n",
       "            }, 500);\n",
       "            "
      ],
      "text/plain": [
       "<IPython.core.display.Javascript object>"
      ]
     },
     "metadata": {},
     "output_type": "display_data"
    }
   ],
   "source": [
    "nudge = {\"1960s\": 0, \"1970s\": 0, \"1980s\": 0, \"1990s\": 0}\n",
    "plot_table(table, nudge)\n",
    "plt.savefig(f\"optimism_{yvar}_by_cohort_over_year\", dpi=300)"
   ]
  },
  {
   "cell_type": "markdown",
   "id": "149f6d46",
   "metadata": {},
   "source": [
    "## fair"
   ]
  },
  {
   "cell_type": "code",
   "execution_count": 39,
   "id": "9363beb8",
   "metadata": {
    "tags": []
   },
   "outputs": [
    {
     "data": {
      "application/javascript": [
       "\n",
       "            setTimeout(function() {\n",
       "                var nbb_cell_id = 39;\n",
       "                var nbb_unformatted_code = \"question = \\\"\\\"\\\"Do you think most people would try to take advantage of \\nyou if they got a chance, or would they try to be fair?\\n\\\"\\\"\\\"\\n\\ntitle = \\\"Would people try to be fair?\\\"\\nsubtitle = \\\"Percent saying yes\\\"\\nylim = [20, 79]\";\n",
       "                var nbb_formatted_code = \"question = \\\"\\\"\\\"Do you think most people would try to take advantage of \\nyou if they got a chance, or would they try to be fair?\\n\\\"\\\"\\\"\\n\\ntitle = \\\"Would people try to be fair?\\\"\\nsubtitle = \\\"Percent saying yes\\\"\\nylim = [20, 79]\";\n",
       "                var nbb_cells = Jupyter.notebook.get_cells();\n",
       "                for (var i = 0; i < nbb_cells.length; ++i) {\n",
       "                    if (nbb_cells[i].input_prompt_number == nbb_cell_id) {\n",
       "                        if (nbb_cells[i].get_text() == nbb_unformatted_code) {\n",
       "                             nbb_cells[i].set_text(nbb_formatted_code);\n",
       "                        }\n",
       "                        break;\n",
       "                    }\n",
       "                }\n",
       "            }, 500);\n",
       "            "
      ],
      "text/plain": [
       "<IPython.core.display.Javascript object>"
      ]
     },
     "metadata": {},
     "output_type": "display_data"
    }
   ],
   "source": [
    "question = \"\"\"Do you think most people would try to take advantage of \n",
    "you if they got a chance, or would they try to be fair?\n",
    "\"\"\"\n",
    "\n",
    "title = \"Would people try to be fair?\"\n",
    "subtitle = \"Percent saying yes\"\n",
    "ylim = [20, 79]"
   ]
  },
  {
   "cell_type": "code",
   "execution_count": 40,
   "id": "e38740d7",
   "metadata": {
    "tags": []
   },
   "outputs": [
    {
     "data": {
      "application/javascript": [
       "\n",
       "            setTimeout(function() {\n",
       "                var nbb_cell_id = 40;\n",
       "                var nbb_unformatted_code = \"# https://gssdataexplorer.norc.org/variables/440/vshow\\n\\n# 1 = would take advantage\\n# 2 = would try to be fair\\n# 3 = depends\";\n",
       "                var nbb_formatted_code = \"# https://gssdataexplorer.norc.org/variables/440/vshow\\n\\n# 1 = would take advantage\\n# 2 = would try to be fair\\n# 3 = depends\";\n",
       "                var nbb_cells = Jupyter.notebook.get_cells();\n",
       "                for (var i = 0; i < nbb_cells.length; ++i) {\n",
       "                    if (nbb_cells[i].input_prompt_number == nbb_cell_id) {\n",
       "                        if (nbb_cells[i].get_text() == nbb_unformatted_code) {\n",
       "                             nbb_cells[i].set_text(nbb_formatted_code);\n",
       "                        }\n",
       "                        break;\n",
       "                    }\n",
       "                }\n",
       "            }, 500);\n",
       "            "
      ],
      "text/plain": [
       "<IPython.core.display.Javascript object>"
      ]
     },
     "metadata": {},
     "output_type": "display_data"
    }
   ],
   "source": [
    "# https://gssdataexplorer.norc.org/variables/440/vshow\n",
    "\n",
    "# 1 = would take advantage\n",
    "# 2 = would try to be fair\n",
    "# 3 = depends"
   ]
  },
  {
   "cell_type": "code",
   "execution_count": 41,
   "id": "98a6de9f",
   "metadata": {},
   "outputs": [
    {
     "data": {
      "text/plain": [
       "fair\n",
       "2.0    23484\n",
       "1.0    15979\n",
       "3.0     2837\n",
       "Name: count, dtype: int64"
      ]
     },
     "execution_count": 41,
     "metadata": {},
     "output_type": "execute_result"
    },
    {
     "data": {
      "application/javascript": [
       "\n",
       "            setTimeout(function() {\n",
       "                var nbb_cell_id = 41;\n",
       "                var nbb_unformatted_code = \"yvar = \\\"fair\\\"\\nyval = 2\\n\\nseries = gss[yvar]\\nseries.value_counts()\";\n",
       "                var nbb_formatted_code = \"yvar = \\\"fair\\\"\\nyval = 2\\n\\nseries = gss[yvar]\\nseries.value_counts()\";\n",
       "                var nbb_cells = Jupyter.notebook.get_cells();\n",
       "                for (var i = 0; i < nbb_cells.length; ++i) {\n",
       "                    if (nbb_cells[i].input_prompt_number == nbb_cell_id) {\n",
       "                        if (nbb_cells[i].get_text() == nbb_unformatted_code) {\n",
       "                             nbb_cells[i].set_text(nbb_formatted_code);\n",
       "                        }\n",
       "                        break;\n",
       "                    }\n",
       "                }\n",
       "            }, 500);\n",
       "            "
      ],
      "text/plain": [
       "<IPython.core.display.Javascript object>"
      ]
     },
     "metadata": {},
     "output_type": "display_data"
    }
   ],
   "source": [
    "yvar = \"fair\"\n",
    "yval = 2\n",
    "\n",
    "series = gss[yvar]\n",
    "series.value_counts()"
   ]
  },
  {
   "cell_type": "code",
   "execution_count": 42,
   "id": "4a94f1d2",
   "metadata": {},
   "outputs": [
    {
     "data": {
      "image/png": "[encoded data removed]",
      "text/plain": [
       "<Figure size 450x262.5 with 1 Axes>"
      ]
     },
     "metadata": {},
     "output_type": "display_data"
    },
    {
     "data": {
      "application/javascript": [
       "\n",
       "            setTimeout(function() {\n",
       "                var nbb_cell_id = 42;\n",
       "                var nbb_unformatted_code = \"plot_by_year(gss, yvar, yval)\\nplt.savefig(f\\\"optimism_{yvar}_by_year\\\", dpi=300)\";\n",
       "                var nbb_formatted_code = \"plot_by_year(gss, yvar, yval)\\nplt.savefig(f\\\"optimism_{yvar}_by_year\\\", dpi=300)\";\n",
       "                var nbb_cells = Jupyter.notebook.get_cells();\n",
       "                for (var i = 0; i < nbb_cells.length; ++i) {\n",
       "                    if (nbb_cells[i].input_prompt_number == nbb_cell_id) {\n",
       "                        if (nbb_cells[i].get_text() == nbb_unformatted_code) {\n",
       "                             nbb_cells[i].set_text(nbb_formatted_code);\n",
       "                        }\n",
       "                        break;\n",
       "                    }\n",
       "                }\n",
       "            }, 500);\n",
       "            "
      ],
      "text/plain": [
       "<IPython.core.display.Javascript object>"
      ]
     },
     "metadata": {},
     "output_type": "display_data"
    }
   ],
   "source": [
    "plot_by_year(gss, yvar, yval)\n",
    "plt.savefig(f\"optimism_{yvar}_by_year\", dpi=300)"
   ]
  },
  {
   "cell_type": "code",
   "execution_count": 43,
   "id": "5e14608c",
   "metadata": {},
   "outputs": [
    {
     "data": {
      "image/png": "[encoded data removed]",
      "text/plain": [
       "<Figure size 450x262.5 with 1 Axes>"
      ]
     },
     "metadata": {},
     "output_type": "display_data"
    },
    {
     "data": {
      "application/javascript": [
       "\n",
       "            setTimeout(function() {\n",
       "                var nbb_cell_id = 43;\n",
       "                var nbb_unformatted_code = \"plot_by_cohort(gss, yvar, yval)\\nplt.savefig(f\\\"optimism_{yvar}_by_cohort\\\", dpi=300)\";\n",
       "                var nbb_formatted_code = \"plot_by_cohort(gss, yvar, yval)\\nplt.savefig(f\\\"optimism_{yvar}_by_cohort\\\", dpi=300)\";\n",
       "                var nbb_cells = Jupyter.notebook.get_cells();\n",
       "                for (var i = 0; i < nbb_cells.length; ++i) {\n",
       "                    if (nbb_cells[i].input_prompt_number == nbb_cell_id) {\n",
       "                        if (nbb_cells[i].get_text() == nbb_unformatted_code) {\n",
       "                             nbb_cells[i].set_text(nbb_formatted_code);\n",
       "                        }\n",
       "                        break;\n",
       "                    }\n",
       "                }\n",
       "            }, 500);\n",
       "            "
      ],
      "text/plain": [
       "<IPython.core.display.Javascript object>"
      ]
     },
     "metadata": {},
     "output_type": "display_data"
    }
   ],
   "source": [
    "plot_by_cohort(gss, yvar, yval)\n",
    "plt.savefig(f\"optimism_{yvar}_by_cohort\", dpi=300)"
   ]
  },
  {
   "cell_type": "code",
   "execution_count": 44,
   "id": "cc487606",
   "metadata": {
    "tags": []
   },
   "outputs": [
    {
     "data": {
      "application/javascript": [
       "\n",
       "            setTimeout(function() {\n",
       "                var nbb_cell_id = 44;\n",
       "                var nbb_unformatted_code = \"subset = gss.dropna(subset=[\\\"cohort\\\", yvar]).copy()\\nsubset[\\\"cohort10\\\"] = subset[\\\"cohort10\\\"].astype(int)\\n\\ntable = make_table(subset, \\\"year\\\", yvar, \\\"cohort10\\\", yval)\";\n",
       "                var nbb_formatted_code = \"subset = gss.dropna(subset=[\\\"cohort\\\", yvar]).copy()\\nsubset[\\\"cohort10\\\"] = subset[\\\"cohort10\\\"].astype(int)\\n\\ntable = make_table(subset, \\\"year\\\", yvar, \\\"cohort10\\\", yval)\";\n",
       "                var nbb_cells = Jupyter.notebook.get_cells();\n",
       "                for (var i = 0; i < nbb_cells.length; ++i) {\n",
       "                    if (nbb_cells[i].input_prompt_number == nbb_cell_id) {\n",
       "                        if (nbb_cells[i].get_text() == nbb_unformatted_code) {\n",
       "                             nbb_cells[i].set_text(nbb_formatted_code);\n",
       "                        }\n",
       "                        break;\n",
       "                    }\n",
       "                }\n",
       "            }, 500);\n",
       "            "
      ],
      "text/plain": [
       "<IPython.core.display.Javascript object>"
      ]
     },
     "metadata": {},
     "output_type": "display_data"
    }
   ],
   "source": [
    "subset = gss.dropna(subset=[\"cohort\", yvar]).copy()\n",
    "subset[\"cohort10\"] = subset[\"cohort10\"].astype(int)\n",
    "\n",
    "table = make_table(subset, \"year\", yvar, \"cohort10\", yval)"
   ]
  },
  {
   "cell_type": "code",
   "execution_count": 45,
   "id": "5e5eb980",
   "metadata": {
    "tags": []
   },
   "outputs": [
    {
     "data": {
      "image/png": "[encoded data removed]",
      "text/plain": [
       "<Figure size 450x262.5 with 1 Axes>"
      ]
     },
     "metadata": {},
     "output_type": "display_data"
    },
    {
     "data": {
      "application/javascript": [
       "\n",
       "            setTimeout(function() {\n",
       "                var nbb_cell_id = 45;\n",
       "                var nbb_unformatted_code = \"for group in table:\\n    plt.clf()\\n    plot_group(table, group)\\n    plt.savefig(f\\\"optimism_{yvar}_{group}_by_year\\\", dpi=300)\";\n",
       "                var nbb_formatted_code = \"for group in table:\\n    plt.clf()\\n    plot_group(table, group)\\n    plt.savefig(f\\\"optimism_{yvar}_{group}_by_year\\\", dpi=300)\";\n",
       "                var nbb_cells = Jupyter.notebook.get_cells();\n",
       "                for (var i = 0; i < nbb_cells.length; ++i) {\n",
       "                    if (nbb_cells[i].input_prompt_number == nbb_cell_id) {\n",
       "                        if (nbb_cells[i].get_text() == nbb_unformatted_code) {\n",
       "                             nbb_cells[i].set_text(nbb_formatted_code);\n",
       "                        }\n",
       "                        break;\n",
       "                    }\n",
       "                }\n",
       "            }, 500);\n",
       "            "
      ],
      "text/plain": [
       "<IPython.core.display.Javascript object>"
      ]
     },
     "metadata": {},
     "output_type": "display_data"
    }
   ],
   "source": [
    "for group in table:\n",
    "    plt.clf()\n",
    "    plot_group(table, group)\n",
    "    plt.savefig(f\"optimism_{yvar}_{group}_by_year\", dpi=300)"
   ]
  },
  {
   "cell_type": "code",
   "execution_count": 46,
   "id": "769dbaae",
   "metadata": {
    "tags": []
   },
   "outputs": [
    {
     "data": {
      "image/png": "[encoded data removed]",
      "text/plain": [
       "<Figure size 450x262.5 with 1 Axes>"
      ]
     },
     "metadata": {},
     "output_type": "display_data"
    },
    {
     "data": {
      "application/javascript": [
       "\n",
       "            setTimeout(function() {\n",
       "                var nbb_cell_id = 46;\n",
       "                var nbb_unformatted_code = \"nudge = {\\\"1960s\\\": 0, \\\"1970s\\\": 1.8, \\\"1980s\\\": 0, \\\"1990s\\\": 0}\\nplot_table(table, nudge)\\nplt.savefig(f\\\"optimism_{yvar}_by_cohort_over_year\\\", dpi=300)\";\n",
       "                var nbb_formatted_code = \"nudge = {\\\"1960s\\\": 0, \\\"1970s\\\": 1.8, \\\"1980s\\\": 0, \\\"1990s\\\": 0}\\nplot_table(table, nudge)\\nplt.savefig(f\\\"optimism_{yvar}_by_cohort_over_year\\\", dpi=300)\";\n",
       "                var nbb_cells = Jupyter.notebook.get_cells();\n",
       "                for (var i = 0; i < nbb_cells.length; ++i) {\n",
       "                    if (nbb_cells[i].input_prompt_number == nbb_cell_id) {\n",
       "                        if (nbb_cells[i].get_text() == nbb_unformatted_code) {\n",
       "                             nbb_cells[i].set_text(nbb_formatted_code);\n",
       "                        }\n",
       "                        break;\n",
       "                    }\n",
       "                }\n",
       "            }, 500);\n",
       "            "
      ],
      "text/plain": [
       "<IPython.core.display.Javascript object>"
      ]
     },
     "metadata": {},
     "output_type": "display_data"
    }
   ],
   "source": [
    "nudge = {\"1960s\": 0, \"1970s\": 1.8, \"1980s\": 0, \"1990s\": 0}\n",
    "plot_table(table, nudge)\n",
    "plt.savefig(f\"optimism_{yvar}_by_cohort_over_year\", dpi=300)"
   ]
  },
  {
   "cell_type": "markdown",
   "id": "d03bf69e",
   "metadata": {},
   "source": [
    "## happy"
   ]
  },
  {
   "cell_type": "code",
   "execution_count": 47,
   "id": "76934c9e",
   "metadata": {
    "tags": []
   },
   "outputs": [
    {
     "data": {
      "application/javascript": [
       "\n",
       "            setTimeout(function() {\n",
       "                var nbb_cell_id = 47;\n",
       "                var nbb_unformatted_code = \"question = \\\"\\\"\\\"Taken all together, how would you say things are these days--\\nwould you say that you are very happy, pretty happy, or not too happy?\\n\\\"\\\"\\\"\\n\\ntitle = \\\"Are you happy?\\\"\\nsubtitle = \\\"Percent saying very happy\\\"\\nylim = [10, 45]\";\n",
       "                var nbb_formatted_code = \"question = \\\"\\\"\\\"Taken all together, how would you say things are these days--\\nwould you say that you are very happy, pretty happy, or not too happy?\\n\\\"\\\"\\\"\\n\\ntitle = \\\"Are you happy?\\\"\\nsubtitle = \\\"Percent saying very happy\\\"\\nylim = [10, 45]\";\n",
       "                var nbb_cells = Jupyter.notebook.get_cells();\n",
       "                for (var i = 0; i < nbb_cells.length; ++i) {\n",
       "                    if (nbb_cells[i].input_prompt_number == nbb_cell_id) {\n",
       "                        if (nbb_cells[i].get_text() == nbb_unformatted_code) {\n",
       "                             nbb_cells[i].set_text(nbb_formatted_code);\n",
       "                        }\n",
       "                        break;\n",
       "                    }\n",
       "                }\n",
       "            }, 500);\n",
       "            "
      ],
      "text/plain": [
       "<IPython.core.display.Javascript object>"
      ]
     },
     "metadata": {},
     "output_type": "display_data"
    }
   ],
   "source": [
    "question = \"\"\"Taken all together, how would you say things are these days--\n",
    "would you say that you are very happy, pretty happy, or not too happy?\n",
    "\"\"\"\n",
    "\n",
    "title = \"Are you happy?\"\n",
    "subtitle = \"Percent saying very happy\"\n",
    "ylim = [10, 45]"
   ]
  },
  {
   "cell_type": "code",
   "execution_count": 48,
   "id": "d8584e94",
   "metadata": {
    "tags": []
   },
   "outputs": [
    {
     "data": {
      "application/javascript": [
       "\n",
       "            setTimeout(function() {\n",
       "                var nbb_cell_id = 48;\n",
       "                var nbb_unformatted_code = \"# https://gssdataexplorer.norc.org/variables/452/vshow\\n\\n# 1 = very happy\\n# 2 = pretty happy\\n# 3 = not too happy\";\n",
       "                var nbb_formatted_code = \"# https://gssdataexplorer.norc.org/variables/452/vshow\\n\\n# 1 = very happy\\n# 2 = pretty happy\\n# 3 = not too happy\";\n",
       "                var nbb_cells = Jupyter.notebook.get_cells();\n",
       "                for (var i = 0; i < nbb_cells.length; ++i) {\n",
       "                    if (nbb_cells[i].input_prompt_number == nbb_cell_id) {\n",
       "                        if (nbb_cells[i].get_text() == nbb_unformatted_code) {\n",
       "                             nbb_cells[i].set_text(nbb_formatted_code);\n",
       "                        }\n",
       "                        break;\n",
       "                    }\n",
       "                }\n",
       "            }, 500);\n",
       "            "
      ],
      "text/plain": [
       "<IPython.core.display.Javascript object>"
      ]
     },
     "metadata": {},
     "output_type": "display_data"
    }
   ],
   "source": [
    "# https://gssdataexplorer.norc.org/variables/452/vshow\n",
    "\n",
    "# 1 = very happy\n",
    "# 2 = pretty happy\n",
    "# 3 = not too happy"
   ]
  },
  {
   "cell_type": "code",
   "execution_count": 49,
   "id": "9b8f0694",
   "metadata": {},
   "outputs": [
    {
     "data": {
      "text/plain": [
       "happy\n",
       "2.0    37446\n",
       "1.0    21550\n",
       "3.0     8681\n",
       "Name: count, dtype: int64"
      ]
     },
     "execution_count": 49,
     "metadata": {},
     "output_type": "execute_result"
    },
    {
     "data": {
      "application/javascript": [
       "\n",
       "            setTimeout(function() {\n",
       "                var nbb_cell_id = 49;\n",
       "                var nbb_unformatted_code = \"yvar = \\\"happy\\\"\\nyval = 1\\n\\nseries = gss[yvar]\\nseries.value_counts()\";\n",
       "                var nbb_formatted_code = \"yvar = \\\"happy\\\"\\nyval = 1\\n\\nseries = gss[yvar]\\nseries.value_counts()\";\n",
       "                var nbb_cells = Jupyter.notebook.get_cells();\n",
       "                for (var i = 0; i < nbb_cells.length; ++i) {\n",
       "                    if (nbb_cells[i].input_prompt_number == nbb_cell_id) {\n",
       "                        if (nbb_cells[i].get_text() == nbb_unformatted_code) {\n",
       "                             nbb_cells[i].set_text(nbb_formatted_code);\n",
       "                        }\n",
       "                        break;\n",
       "                    }\n",
       "                }\n",
       "            }, 500);\n",
       "            "
      ],
      "text/plain": [
       "<IPython.core.display.Javascript object>"
      ]
     },
     "metadata": {},
     "output_type": "display_data"
    }
   ],
   "source": [
    "yvar = \"happy\"\n",
    "yval = 1\n",
    "\n",
    "series = gss[yvar]\n",
    "series.value_counts()"
   ]
  },
  {
   "cell_type": "code",
   "execution_count": 50,
   "id": "e6606d80",
   "metadata": {},
   "outputs": [
    {
     "data": {
      "image/png": "[encoded data removed]",
      "text/plain": [
       "<Figure size 450x262.5 with 1 Axes>"
      ]
     },
     "metadata": {},
     "output_type": "display_data"
    },
    {
     "data": {
      "application/javascript": [
       "\n",
       "            setTimeout(function() {\n",
       "                var nbb_cell_id = 50;\n",
       "                var nbb_unformatted_code = \"plot_by_year(gss, yvar, yval)\\nplt.savefig(f\\\"optimism_{yvar}_by_year\\\", dpi=300)\";\n",
       "                var nbb_formatted_code = \"plot_by_year(gss, yvar, yval)\\nplt.savefig(f\\\"optimism_{yvar}_by_year\\\", dpi=300)\";\n",
       "                var nbb_cells = Jupyter.notebook.get_cells();\n",
       "                for (var i = 0; i < nbb_cells.length; ++i) {\n",
       "                    if (nbb_cells[i].input_prompt_number == nbb_cell_id) {\n",
       "                        if (nbb_cells[i].get_text() == nbb_unformatted_code) {\n",
       "                             nbb_cells[i].set_text(nbb_formatted_code);\n",
       "                        }\n",
       "                        break;\n",
       "                    }\n",
       "                }\n",
       "            }, 500);\n",
       "            "
      ],
      "text/plain": [
       "<IPython.core.display.Javascript object>"
      ]
     },
     "metadata": {},
     "output_type": "display_data"
    }
   ],
   "source": [
    "plot_by_year(gss, yvar, yval)\n",
    "plt.savefig(f\"optimism_{yvar}_by_year\", dpi=300)"
   ]
  },
  {
   "cell_type": "code",
   "execution_count": 51,
   "id": "b45096d6",
   "metadata": {},
   "outputs": [
    {
     "data": {
      "image/png": "[encoded data removed]",
      "text/plain": [
       "<Figure size 450x262.5 with 1 Axes>"
      ]
     },
     "metadata": {},
     "output_type": "display_data"
    },
    {
     "data": {
      "application/javascript": [
       "\n",
       "            setTimeout(function() {\n",
       "                var nbb_cell_id = 51;\n",
       "                var nbb_unformatted_code = \"plot_by_cohort(gss, yvar, yval)\\nplt.savefig(f\\\"optimism_{yvar}_by_cohort\\\", dpi=300)\";\n",
       "                var nbb_formatted_code = \"plot_by_cohort(gss, yvar, yval)\\nplt.savefig(f\\\"optimism_{yvar}_by_cohort\\\", dpi=300)\";\n",
       "                var nbb_cells = Jupyter.notebook.get_cells();\n",
       "                for (var i = 0; i < nbb_cells.length; ++i) {\n",
       "                    if (nbb_cells[i].input_prompt_number == nbb_cell_id) {\n",
       "                        if (nbb_cells[i].get_text() == nbb_unformatted_code) {\n",
       "                             nbb_cells[i].set_text(nbb_formatted_code);\n",
       "                        }\n",
       "                        break;\n",
       "                    }\n",
       "                }\n",
       "            }, 500);\n",
       "            "
      ],
      "text/plain": [
       "<IPython.core.display.Javascript object>"
      ]
     },
     "metadata": {},
     "output_type": "display_data"
    }
   ],
   "source": [
    "plot_by_cohort(gss, yvar, yval)\n",
    "plt.savefig(f\"optimism_{yvar}_by_cohort\", dpi=300)"
   ]
  },
  {
   "cell_type": "code",
   "execution_count": 52,
   "id": "e3a694a7",
   "metadata": {},
   "outputs": [
    {
     "data": {
      "application/javascript": [
       "\n",
       "            setTimeout(function() {\n",
       "                var nbb_cell_id = 52;\n",
       "                var nbb_unformatted_code = \"subset = gss.dropna(subset=[\\\"cohort\\\", yvar]).copy()\\nsubset[\\\"cohort10\\\"] = subset[\\\"cohort10\\\"].astype(int)\\n\\ntable = make_table(subset, \\\"year\\\", yvar, \\\"cohort10\\\", yval)\";\n",
       "                var nbb_formatted_code = \"subset = gss.dropna(subset=[\\\"cohort\\\", yvar]).copy()\\nsubset[\\\"cohort10\\\"] = subset[\\\"cohort10\\\"].astype(int)\\n\\ntable = make_table(subset, \\\"year\\\", yvar, \\\"cohort10\\\", yval)\";\n",
       "                var nbb_cells = Jupyter.notebook.get_cells();\n",
       "                for (var i = 0; i < nbb_cells.length; ++i) {\n",
       "                    if (nbb_cells[i].input_prompt_number == nbb_cell_id) {\n",
       "                        if (nbb_cells[i].get_text() == nbb_unformatted_code) {\n",
       "                             nbb_cells[i].set_text(nbb_formatted_code);\n",
       "                        }\n",
       "                        break;\n",
       "                    }\n",
       "                }\n",
       "            }, 500);\n",
       "            "
      ],
      "text/plain": [
       "<IPython.core.display.Javascript object>"
      ]
     },
     "metadata": {},
     "output_type": "display_data"
    }
   ],
   "source": [
    "subset = gss.dropna(subset=[\"cohort\", yvar]).copy()\n",
    "subset[\"cohort10\"] = subset[\"cohort10\"].astype(int)\n",
    "\n",
    "table = make_table(subset, \"year\", yvar, \"cohort10\", yval)"
   ]
  },
  {
   "cell_type": "code",
   "execution_count": 53,
   "id": "49651c1f",
   "metadata": {
    "tags": []
   },
   "outputs": [
    {
     "data": {
      "image/png": "[encoded data removed]",
      "text/plain": [
       "<Figure size 450x262.5 with 1 Axes>"
      ]
     },
     "metadata": {},
     "output_type": "display_data"
    },
    {
     "data": {
      "application/javascript": [
       "\n",
       "            setTimeout(function() {\n",
       "                var nbb_cell_id = 53;\n",
       "                var nbb_unformatted_code = \"plot_group(table, 2000)\\nplt.savefig(f\\\"optimism_{yvar}_one_cohort\\\", dpi=300)\";\n",
       "                var nbb_formatted_code = \"plot_group(table, 2000)\\nplt.savefig(f\\\"optimism_{yvar}_one_cohort\\\", dpi=300)\";\n",
       "                var nbb_cells = Jupyter.notebook.get_cells();\n",
       "                for (var i = 0; i < nbb_cells.length; ++i) {\n",
       "                    if (nbb_cells[i].input_prompt_number == nbb_cell_id) {\n",
       "                        if (nbb_cells[i].get_text() == nbb_unformatted_code) {\n",
       "                             nbb_cells[i].set_text(nbb_formatted_code);\n",
       "                        }\n",
       "                        break;\n",
       "                    }\n",
       "                }\n",
       "            }, 500);\n",
       "            "
      ],
      "text/plain": [
       "<IPython.core.display.Javascript object>"
      ]
     },
     "metadata": {},
     "output_type": "display_data"
    }
   ],
   "source": [
    "plot_group(table, 2000)\n",
    "plt.savefig(f\"optimism_{yvar}_one_cohort\", dpi=300)"
   ]
  },
  {
   "cell_type": "code",
   "execution_count": 54,
   "id": "cfe2d85f",
   "metadata": {
    "tags": []
   },
   "outputs": [
    {
     "data": {
      "image/png": "[encoded data removed]",
      "text/plain": [
       "<Figure size 450x262.5 with 1 Axes>"
      ]
     },
     "metadata": {},
     "output_type": "display_data"
    },
    {
     "data": {
      "application/javascript": [
       "\n",
       "            setTimeout(function() {\n",
       "                var nbb_cell_id = 54;\n",
       "                var nbb_unformatted_code = \"nudge = {\\\"1950s\\\": 0, \\\"1960s\\\": 0, \\\"1970s\\\": 0, \\\"1980s\\\": 0, \\\"1990s\\\": 0}\\nplot_table(table, nudge)\\nplt.savefig(f\\\"optimism_{yvar}_by_cohort_over_year\\\", dpi=300)\";\n",
       "                var nbb_formatted_code = \"nudge = {\\\"1950s\\\": 0, \\\"1960s\\\": 0, \\\"1970s\\\": 0, \\\"1980s\\\": 0, \\\"1990s\\\": 0}\\nplot_table(table, nudge)\\nplt.savefig(f\\\"optimism_{yvar}_by_cohort_over_year\\\", dpi=300)\";\n",
       "                var nbb_cells = Jupyter.notebook.get_cells();\n",
       "                for (var i = 0; i < nbb_cells.length; ++i) {\n",
       "                    if (nbb_cells[i].input_prompt_number == nbb_cell_id) {\n",
       "                        if (nbb_cells[i].get_text() == nbb_unformatted_code) {\n",
       "                             nbb_cells[i].set_text(nbb_formatted_code);\n",
       "                        }\n",
       "                        break;\n",
       "                    }\n",
       "                }\n",
       "            }, 500);\n",
       "            "
      ],
      "text/plain": [
       "<IPython.core.display.Javascript object>"
      ]
     },
     "metadata": {},
     "output_type": "display_data"
    }
   ],
   "source": [
    "nudge = {\"1950s\": 0, \"1960s\": 0, \"1970s\": 0, \"1980s\": 0, \"1990s\": 0}\n",
    "plot_table(table, nudge)\n",
    "plt.savefig(f\"optimism_{yvar}_by_cohort_over_year\", dpi=300)"
   ]
  },
  {
   "cell_type": "markdown",
   "id": "1e025214",
   "metadata": {},
   "source": [
    "## explore..."
   ]
  },
  {
   "cell_type": "code",
   "execution_count": 55,
   "id": "ea1d9755",
   "metadata": {
    "tags": []
   },
   "outputs": [
    {
     "data": {
      "application/javascript": [
       "\n",
       "            setTimeout(function() {\n",
       "                var nbb_cell_id = 55;\n",
       "                var nbb_unformatted_code = \"question = \\\"\\\"\\\"\\n\\\"\\\"\\\"\\n\\ntitle = \\\"\\\"\\nsubtitle = \\\"Percent saying\\\"\\nylim = [5, 65]\";\n",
       "                var nbb_formatted_code = \"question = \\\"\\\"\\\"\\n\\\"\\\"\\\"\\n\\ntitle = \\\"\\\"\\nsubtitle = \\\"Percent saying\\\"\\nylim = [5, 65]\";\n",
       "                var nbb_cells = Jupyter.notebook.get_cells();\n",
       "                for (var i = 0; i < nbb_cells.length; ++i) {\n",
       "                    if (nbb_cells[i].input_prompt_number == nbb_cell_id) {\n",
       "                        if (nbb_cells[i].get_text() == nbb_unformatted_code) {\n",
       "                             nbb_cells[i].set_text(nbb_formatted_code);\n",
       "                        }\n",
       "                        break;\n",
       "                    }\n",
       "                }\n",
       "            }, 500);\n",
       "            "
      ],
      "text/plain": [
       "<IPython.core.display.Javascript object>"
      ]
     },
     "metadata": {},
     "output_type": "display_data"
    }
   ],
   "source": [
    "question = \"\"\"\n",
    "\"\"\"\n",
    "\n",
    "title = \"\"\n",
    "subtitle = \"Percent saying\"\n",
    "ylim = [5, 65]"
   ]
  },
  {
   "cell_type": "code",
   "execution_count": 56,
   "id": "91926574",
   "metadata": {
    "tags": []
   },
   "outputs": [
    {
     "data": {
      "application/javascript": [
       "\n",
       "            setTimeout(function() {\n",
       "                var nbb_cell_id = 56;\n",
       "                var nbb_unformatted_code = \"# https://gssdataexplorer.norc.org/variables/437/vshow\\n\\n# 1 =\\n# 2 =\\n# 3 =\";\n",
       "                var nbb_formatted_code = \"# https://gssdataexplorer.norc.org/variables/437/vshow\\n\\n# 1 =\\n# 2 =\\n# 3 =\";\n",
       "                var nbb_cells = Jupyter.notebook.get_cells();\n",
       "                for (var i = 0; i < nbb_cells.length; ++i) {\n",
       "                    if (nbb_cells[i].input_prompt_number == nbb_cell_id) {\n",
       "                        if (nbb_cells[i].get_text() == nbb_unformatted_code) {\n",
       "                             nbb_cells[i].set_text(nbb_formatted_code);\n",
       "                        }\n",
       "                        break;\n",
       "                    }\n",
       "                }\n",
       "            }, 500);\n",
       "            "
      ],
      "text/plain": [
       "<IPython.core.display.Javascript object>"
      ]
     },
     "metadata": {},
     "output_type": "display_data"
    }
   ],
   "source": [
    "# https://gssdataexplorer.norc.org/variables/437/vshow\n",
    "\n",
    "# 1 =\n",
    "# 2 =\n",
    "# 3 ="
   ]
  },
  {
   "cell_type": "code",
   "execution_count": 57,
   "id": "112cd6ee",
   "metadata": {},
   "outputs": [
    {
     "data": {
      "text/plain": [
       "conclerg\n",
       "2.0    24416\n",
       "1.0    12476\n",
       "3.0    10475\n",
       "Name: count, dtype: int64"
      ]
     },
     "execution_count": 57,
     "metadata": {},
     "output_type": "execute_result"
    },
    {
     "data": {
      "application/javascript": [
       "\n",
       "            setTimeout(function() {\n",
       "                var nbb_cell_id = 57;\n",
       "                var nbb_unformatted_code = \"yvar = \\\"conclerg\\\"\\nyval = 1\\n\\nseries = gss[yvar]\\nseries.value_counts()\";\n",
       "                var nbb_formatted_code = \"yvar = \\\"conclerg\\\"\\nyval = 1\\n\\nseries = gss[yvar]\\nseries.value_counts()\";\n",
       "                var nbb_cells = Jupyter.notebook.get_cells();\n",
       "                for (var i = 0; i < nbb_cells.length; ++i) {\n",
       "                    if (nbb_cells[i].input_prompt_number == nbb_cell_id) {\n",
       "                        if (nbb_cells[i].get_text() == nbb_unformatted_code) {\n",
       "                             nbb_cells[i].set_text(nbb_formatted_code);\n",
       "                        }\n",
       "                        break;\n",
       "                    }\n",
       "                }\n",
       "            }, 500);\n",
       "            "
      ],
      "text/plain": [
       "<IPython.core.display.Javascript object>"
      ]
     },
     "metadata": {},
     "output_type": "display_data"
    }
   ],
   "source": [
    "yvar = \"conclerg\"\n",
    "yval = 1\n",
    "\n",
    "series = gss[yvar]\n",
    "series.value_counts()"
   ]
  },
  {
   "cell_type": "code",
   "execution_count": 58,
   "id": "0d16957f",
   "metadata": {},
   "outputs": [
    {
     "data": {
      "image/png": "[encoded data removed]",
      "text/plain": [
       "<Figure size 450x262.5 with 1 Axes>"
      ]
     },
     "metadata": {},
     "output_type": "display_data"
    },
    {
     "data": {
      "application/javascript": [
       "\n",
       "            setTimeout(function() {\n",
       "                var nbb_cell_id = 58;\n",
       "                var nbb_unformatted_code = \"plot_by_year(gss, yvar, yval)\\nplt.savefig(f\\\"optimism_{yvar}_by_year\\\", dpi=300)\";\n",
       "                var nbb_formatted_code = \"plot_by_year(gss, yvar, yval)\\nplt.savefig(f\\\"optimism_{yvar}_by_year\\\", dpi=300)\";\n",
       "                var nbb_cells = Jupyter.notebook.get_cells();\n",
       "                for (var i = 0; i < nbb_cells.length; ++i) {\n",
       "                    if (nbb_cells[i].input_prompt_number == nbb_cell_id) {\n",
       "                        if (nbb_cells[i].get_text() == nbb_unformatted_code) {\n",
       "                             nbb_cells[i].set_text(nbb_formatted_code);\n",
       "                        }\n",
       "                        break;\n",
       "                    }\n",
       "                }\n",
       "            }, 500);\n",
       "            "
      ],
      "text/plain": [
       "<IPython.core.display.Javascript object>"
      ]
     },
     "metadata": {},
     "output_type": "display_data"
    }
   ],
   "source": [
    "plot_by_year(gss, yvar, yval)\n",
    "plt.savefig(f\"optimism_{yvar}_by_year\", dpi=300)"
   ]
  },
  {
   "cell_type": "code",
   "execution_count": 59,
   "id": "7733732b",
   "metadata": {},
   "outputs": [
    {
     "data": {
      "image/png": "[encoded data removed]",
      "text/plain": [
       "<Figure size 450x262.5 with 1 Axes>"
      ]
     },
     "metadata": {},
     "output_type": "display_data"
    },
    {
     "data": {
      "application/javascript": [
       "\n",
       "            setTimeout(function() {\n",
       "                var nbb_cell_id = 59;\n",
       "                var nbb_unformatted_code = \"plot_by_cohort(gss, yvar, yval)\\nplt.savefig(f\\\"optimism_{yvar}_by_cohort\\\", dpi=300)\";\n",
       "                var nbb_formatted_code = \"plot_by_cohort(gss, yvar, yval)\\nplt.savefig(f\\\"optimism_{yvar}_by_cohort\\\", dpi=300)\";\n",
       "                var nbb_cells = Jupyter.notebook.get_cells();\n",
       "                for (var i = 0; i < nbb_cells.length; ++i) {\n",
       "                    if (nbb_cells[i].input_prompt_number == nbb_cell_id) {\n",
       "                        if (nbb_cells[i].get_text() == nbb_unformatted_code) {\n",
       "                             nbb_cells[i].set_text(nbb_formatted_code);\n",
       "                        }\n",
       "                        break;\n",
       "                    }\n",
       "                }\n",
       "            }, 500);\n",
       "            "
      ],
      "text/plain": [
       "<IPython.core.display.Javascript object>"
      ]
     },
     "metadata": {},
     "output_type": "display_data"
    }
   ],
   "source": [
    "plot_by_cohort(gss, yvar, yval)\n",
    "plt.savefig(f\"optimism_{yvar}_by_cohort\", dpi=300)"
   ]
  },
  {
   "cell_type": "code",
   "execution_count": 60,
   "id": "7d4927b3",
   "metadata": {
    "tags": []
   },
   "outputs": [
    {
     "name": "stderr",
     "output_type": "stream",
     "text": [
      "/tmp/ipykernel_846729/1037614837.py:3: SettingWithCopyWarning: \n",
      "A value is trying to be set on a copy of a slice from a DataFrame.\n",
      "Try using .loc[row_indexer,col_indexer] = value instead\n",
      "\n",
      "See the caveats in the documentation: https://pandas.pydata.org/pandas-docs/stable/user_guide/indexing.html#returning-a-view-versus-a-copy\n",
      "  df[\"x\"] = df[xvar] - m\n",
      "/tmp/ipykernel_846729/1037614837.py:4: SettingWithCopyWarning: \n",
      "A value is trying to be set on a copy of a slice from a DataFrame.\n",
      "Try using .loc[row_indexer,col_indexer] = value instead\n",
      "\n",
      "See the caveats in the documentation: https://pandas.pydata.org/pandas-docs/stable/user_guide/indexing.html#returning-a-view-versus-a-copy\n",
      "  df[\"y\"] = df[yvar] == yval\n"
     ]
    },
    {
     "data": {
      "application/javascript": [
       "\n",
       "            setTimeout(function() {\n",
       "                var nbb_cell_id = 60;\n",
       "                var nbb_unformatted_code = \"subset = gss.dropna(subset=[\\\"cohort\\\"]).copy()\\nsubset[\\\"cohort10\\\"] = subset[\\\"cohort10\\\"].astype(int)\\n\\ntable = make_table(subset, \\\"year\\\", yvar, \\\"cohort10\\\", yval)\\ndel table[1890]\\ndel table[1900]\";\n",
       "                var nbb_formatted_code = \"subset = gss.dropna(subset=[\\\"cohort\\\"]).copy()\\nsubset[\\\"cohort10\\\"] = subset[\\\"cohort10\\\"].astype(int)\\n\\ntable = make_table(subset, \\\"year\\\", yvar, \\\"cohort10\\\", yval)\\ndel table[1890]\\ndel table[1900]\";\n",
       "                var nbb_cells = Jupyter.notebook.get_cells();\n",
       "                for (var i = 0; i < nbb_cells.length; ++i) {\n",
       "                    if (nbb_cells[i].input_prompt_number == nbb_cell_id) {\n",
       "                        if (nbb_cells[i].get_text() == nbb_unformatted_code) {\n",
       "                             nbb_cells[i].set_text(nbb_formatted_code);\n",
       "                        }\n",
       "                        break;\n",
       "                    }\n",
       "                }\n",
       "            }, 500);\n",
       "            "
      ],
      "text/plain": [
       "<IPython.core.display.Javascript object>"
      ]
     },
     "metadata": {},
     "output_type": "display_data"
    }
   ],
   "source": [
    "subset = gss.dropna(subset=[\"cohort\"]).copy()\n",
    "subset[\"cohort10\"] = subset[\"cohort10\"].astype(int)\n",
    "\n",
    "table = make_table(subset, \"year\", yvar, \"cohort10\", yval)\n",
    "del table[1890]\n",
    "del table[1900]"
   ]
  },
  {
   "cell_type": "code",
   "execution_count": 61,
   "id": "6ba803ad",
   "metadata": {
    "tags": []
   },
   "outputs": [
    {
     "data": {
      "image/png": "[encoded data removed]",
      "text/plain": [
       "<Figure size 450x262.5 with 1 Axes>"
      ]
     },
     "metadata": {},
     "output_type": "display_data"
    },
    {
     "data": {
      "application/javascript": [
       "\n",
       "            setTimeout(function() {\n",
       "                var nbb_cell_id = 61;\n",
       "                var nbb_unformatted_code = \"plot_group(table, 2000)\\nplt.savefig(f\\\"optimism_{yvar}_one_cohort\\\", dpi=300)\";\n",
       "                var nbb_formatted_code = \"plot_group(table, 2000)\\nplt.savefig(f\\\"optimism_{yvar}_one_cohort\\\", dpi=300)\";\n",
       "                var nbb_cells = Jupyter.notebook.get_cells();\n",
       "                for (var i = 0; i < nbb_cells.length; ++i) {\n",
       "                    if (nbb_cells[i].input_prompt_number == nbb_cell_id) {\n",
       "                        if (nbb_cells[i].get_text() == nbb_unformatted_code) {\n",
       "                             nbb_cells[i].set_text(nbb_formatted_code);\n",
       "                        }\n",
       "                        break;\n",
       "                    }\n",
       "                }\n",
       "            }, 500);\n",
       "            "
      ],
      "text/plain": [
       "<IPython.core.display.Javascript object>"
      ]
     },
     "metadata": {},
     "output_type": "display_data"
    }
   ],
   "source": [
    "plot_group(table, 2000)\n",
    "plt.savefig(f\"optimism_{yvar}_one_cohort\", dpi=300)"
   ]
  },
  {
   "cell_type": "code",
   "execution_count": 62,
   "id": "1b4fb93b",
   "metadata": {
    "tags": []
   },
   "outputs": [
    {
     "data": {
      "image/png": "[encoded data removed]",
      "text/plain": [
       "<Figure size 450x262.5 with 1 Axes>"
      ]
     },
     "metadata": {},
     "output_type": "display_data"
    },
    {
     "data": {
      "application/javascript": [
       "\n",
       "            setTimeout(function() {\n",
       "                var nbb_cell_id = 62;\n",
       "                var nbb_unformatted_code = \"nudge = {\\\"1950s\\\": 0, \\\"1960s\\\": 0, \\\"1970s\\\": 0, \\\"1980s\\\": 0, \\\"1990s\\\": 0}\\nplot_table(table, nudge)\\nplt.savefig(f\\\"optimism_{yvar}_by_cohort_over_year\\\", dpi=300)\";\n",
       "                var nbb_formatted_code = \"nudge = {\\\"1950s\\\": 0, \\\"1960s\\\": 0, \\\"1970s\\\": 0, \\\"1980s\\\": 0, \\\"1990s\\\": 0}\\nplot_table(table, nudge)\\nplt.savefig(f\\\"optimism_{yvar}_by_cohort_over_year\\\", dpi=300)\";\n",
       "                var nbb_cells = Jupyter.notebook.get_cells();\n",
       "                for (var i = 0; i < nbb_cells.length; ++i) {\n",
       "                    if (nbb_cells[i].input_prompt_number == nbb_cell_id) {\n",
       "                        if (nbb_cells[i].get_text() == nbb_unformatted_code) {\n",
       "                             nbb_cells[i].set_text(nbb_formatted_code);\n",
       "                        }\n",
       "                        break;\n",
       "                    }\n",
       "                }\n",
       "            }, 500);\n",
       "            "
      ],
      "text/plain": [
       "<IPython.core.display.Javascript object>"
      ]
     },
     "metadata": {},
     "output_type": "display_data"
    }
   ],
   "source": [
    "nudge = {\"1950s\": 0, \"1960s\": 0, \"1970s\": 0, \"1980s\": 0, \"1990s\": 0}\n",
    "plot_table(table, nudge)\n",
    "plt.savefig(f\"optimism_{yvar}_by_cohort_over_year\", dpi=300)"
   ]
  },
  {
   "cell_type": "markdown",
   "id": "15c26b32",
   "metadata": {
    "tags": []
   },
   "source": [
    "Copyright 2024 Allen Downey \n",
    "\n",
    "The code in this notebook and `utils.py` is under the [MIT license](https://mit-license.org/)."
   ]
  },
  {
   "cell_type": "code",
   "execution_count": 97,
   "id": "cce7ad1f",
   "metadata": {},
   "outputs": [
    {
     "data": {
      "application/javascript": [
       "\n",
       "            setTimeout(function() {\n",
       "                var nbb_cell_id = 97;\n",
       "                var nbb_unformatted_code = \"def joint_contour(xs, ys, p, cmap=\\\"Blues\\\"):\\n    X, Y = np.meshgrid(xs, ys, indexing=\\\"ij\\\")\\n    plt.contour(X, Y, p, cmap=cmap)\";\n",
       "                var nbb_formatted_code = \"def joint_contour(xs, ys, p, cmap=\\\"Blues\\\"):\\n    X, Y = np.meshgrid(xs, ys, indexing=\\\"ij\\\")\\n    plt.contour(X, Y, p, cmap=cmap)\";\n",
       "                var nbb_cells = Jupyter.notebook.get_cells();\n",
       "                for (var i = 0; i < nbb_cells.length; ++i) {\n",
       "                    if (nbb_cells[i].input_prompt_number == nbb_cell_id) {\n",
       "                        if (nbb_cells[i].get_text() == nbb_unformatted_code) {\n",
       "                             nbb_cells[i].set_text(nbb_formatted_code);\n",
       "                        }\n",
       "                        break;\n",
       "                    }\n",
       "                }\n",
       "            }, 500);\n",
       "            "
      ],
      "text/plain": [
       "<IPython.core.display.Javascript object>"
      ]
     },
     "metadata": {},
     "output_type": "display_data"
    }
   ],
   "source": [
    "def joint_contour(xs, ys, p, cmap=\"Blues\"):\n",
    "    X, Y = np.meshgrid(xs, ys, indexing=\"ij\")\n",
    "    plt.contour(X, Y, p, cmap=cmap)"
   ]
  },
  {
   "cell_type": "code",
   "execution_count": 98,
   "id": "3d9fd309",
   "metadata": {},
   "outputs": [
    {
     "data": {
      "text/plain": [
       "<Axes: xlabel='x'>"
      ]
     },
     "execution_count": 98,
     "metadata": {},
     "output_type": "execute_result"
    },
    {
     "data": {
      "image/png": "[encoded data removed]",
      "text/plain": [
       "<Figure size 450x262.5 with 1 Axes>"
      ]
     },
     "metadata": {},
     "output_type": "display_data"
    },
    {
     "data": {
      "application/javascript": [
       "\n",
       "            setTimeout(function() {\n",
       "                var nbb_cell_id = 98;\n",
       "                var nbb_unformatted_code = \"xvar = \\\"year\\\"\\nyvar = \\\"helpful\\\"\\nyval = 1\\n\\nsubset = gss.query(\\\"cohort10==2000\\\").dropna(subset=[xvar, yvar])\\n\\nactual, pred = bayesian_smooth(subset, xvar, yvar, yval)\\nactual.plot(style=\\\"o\\\")\\npred.plot()\";\n",
       "                var nbb_formatted_code = \"xvar = \\\"year\\\"\\nyvar = \\\"helpful\\\"\\nyval = 1\\n\\nsubset = gss.query(\\\"cohort10==2000\\\").dropna(subset=[xvar, yvar])\\n\\nactual, pred = bayesian_smooth(subset, xvar, yvar, yval)\\nactual.plot(style=\\\"o\\\")\\npred.plot()\";\n",
       "                var nbb_cells = Jupyter.notebook.get_cells();\n",
       "                for (var i = 0; i < nbb_cells.length; ++i) {\n",
       "                    if (nbb_cells[i].input_prompt_number == nbb_cell_id) {\n",
       "                        if (nbb_cells[i].get_text() == nbb_unformatted_code) {\n",
       "                             nbb_cells[i].set_text(nbb_formatted_code);\n",
       "                        }\n",
       "                        break;\n",
       "                    }\n",
       "                }\n",
       "            }, 500);\n",
       "            "
      ],
      "text/plain": [
       "<IPython.core.display.Javascript object>"
      ]
     },
     "metadata": {},
     "output_type": "display_data"
    }
   ],
   "source": [
    "xvar = \"year\"\n",
    "yvar = \"helpful\"\n",
    "yval = 1\n",
    "\n",
    "subset = gss.query(\"cohort10==2000\").dropna(subset=[xvar, yvar])\n",
    "\n",
    "actual, pred = bayesian_smooth(subset, xvar, yvar, yval)\n",
    "actual.plot(style=\"o\")\n",
    "pred.plot()"
   ]
  },
  {
   "cell_type": "code",
   "execution_count": 99,
   "id": "49329716",
   "metadata": {},
   "outputs": [
    {
     "data": {
      "text/plain": [
       "2022.0"
      ]
     },
     "execution_count": 99,
     "metadata": {},
     "output_type": "execute_result"
    },
    {
     "data": {
      "application/javascript": [
       "\n",
       "            setTimeout(function() {\n",
       "                var nbb_cell_id = 99;\n",
       "                var nbb_unformatted_code = \"m = subset[\\\"year\\\"].median()\\nm\";\n",
       "                var nbb_formatted_code = \"m = subset[\\\"year\\\"].median()\\nm\";\n",
       "                var nbb_cells = Jupyter.notebook.get_cells();\n",
       "                for (var i = 0; i < nbb_cells.length; ++i) {\n",
       "                    if (nbb_cells[i].input_prompt_number == nbb_cell_id) {\n",
       "                        if (nbb_cells[i].get_text() == nbb_unformatted_code) {\n",
       "                             nbb_cells[i].set_text(nbb_formatted_code);\n",
       "                        }\n",
       "                        break;\n",
       "                    }\n",
       "                }\n",
       "            }, 500);\n",
       "            "
      ],
      "text/plain": [
       "<IPython.core.display.Javascript object>"
      ]
     },
     "metadata": {},
     "output_type": "display_data"
    }
   ],
   "source": [
    "m = subset[\"year\"].median()\n",
    "m"
   ]
  },
  {
   "cell_type": "code",
   "execution_count": 100,
   "id": "55b43670",
   "metadata": {},
   "outputs": [
    {
     "data": {
      "application/javascript": [
       "\n",
       "            setTimeout(function() {\n",
       "                var nbb_cell_id = 100;\n",
       "                var nbb_unformatted_code = \"subset[\\\"y\\\"] = subset[yvar] == yval\\nsubset[\\\"x\\\"] = subset[\\\"year\\\"] - m\";\n",
       "                var nbb_formatted_code = \"subset[\\\"y\\\"] = subset[yvar] == yval\\nsubset[\\\"x\\\"] = subset[\\\"year\\\"] - m\";\n",
       "                var nbb_cells = Jupyter.notebook.get_cells();\n",
       "                for (var i = 0; i < nbb_cells.length; ++i) {\n",
       "                    if (nbb_cells[i].input_prompt_number == nbb_cell_id) {\n",
       "                        if (nbb_cells[i].get_text() == nbb_unformatted_code) {\n",
       "                             nbb_cells[i].set_text(nbb_formatted_code);\n",
       "                        }\n",
       "                        break;\n",
       "                    }\n",
       "                }\n",
       "            }, 500);\n",
       "            "
      ],
      "text/plain": [
       "<IPython.core.display.Javascript object>"
      ]
     },
     "metadata": {},
     "output_type": "display_data"
    }
   ],
   "source": [
    "subset[\"y\"] = subset[yvar] == yval\n",
    "subset[\"x\"] = subset[\"year\"] - m"
   ]
  },
  {
   "cell_type": "code",
   "execution_count": 101,
   "id": "bc1edb4b",
   "metadata": {},
   "outputs": [
    {
     "data": {
      "text/plain": [
       "x\n",
       "-4.0    28\n",
       " 0.0    98\n",
       "Name: y, dtype: int64"
      ]
     },
     "execution_count": 101,
     "metadata": {},
     "output_type": "execute_result"
    },
    {
     "data": {
      "application/javascript": [
       "\n",
       "            setTimeout(function() {\n",
       "                var nbb_cell_id = 101;\n",
       "                var nbb_unformatted_code = \"ns = subset.groupby(\\\"x\\\")[\\\"y\\\"].count()\\nns\";\n",
       "                var nbb_formatted_code = \"ns = subset.groupby(\\\"x\\\")[\\\"y\\\"].count()\\nns\";\n",
       "                var nbb_cells = Jupyter.notebook.get_cells();\n",
       "                for (var i = 0; i < nbb_cells.length; ++i) {\n",
       "                    if (nbb_cells[i].input_prompt_number == nbb_cell_id) {\n",
       "                        if (nbb_cells[i].get_text() == nbb_unformatted_code) {\n",
       "                             nbb_cells[i].set_text(nbb_formatted_code);\n",
       "                        }\n",
       "                        break;\n",
       "                    }\n",
       "                }\n",
       "            }, 500);\n",
       "            "
      ],
      "text/plain": [
       "<IPython.core.display.Javascript object>"
      ]
     },
     "metadata": {},
     "output_type": "display_data"
    }
   ],
   "source": [
    "ns = subset.groupby(\"x\")[\"y\"].count()\n",
    "ns"
   ]
  },
  {
   "cell_type": "code",
   "execution_count": 102,
   "id": "2df3d775",
   "metadata": {},
   "outputs": [
    {
     "data": {
      "text/plain": [
       "x\n",
       "-4.0    11\n",
       " 0.0    15\n",
       "Name: y, dtype: int64"
      ]
     },
     "execution_count": 102,
     "metadata": {},
     "output_type": "execute_result"
    },
    {
     "data": {
      "application/javascript": [
       "\n",
       "            setTimeout(function() {\n",
       "                var nbb_cell_id = 102;\n",
       "                var nbb_unformatted_code = \"ks = subset.groupby(\\\"x\\\")[\\\"y\\\"].sum()\\nxs = ks.index\\nks\";\n",
       "                var nbb_formatted_code = \"ks = subset.groupby(\\\"x\\\")[\\\"y\\\"].sum()\\nxs = ks.index\\nks\";\n",
       "                var nbb_cells = Jupyter.notebook.get_cells();\n",
       "                for (var i = 0; i < nbb_cells.length; ++i) {\n",
       "                    if (nbb_cells[i].input_prompt_number == nbb_cell_id) {\n",
       "                        if (nbb_cells[i].get_text() == nbb_unformatted_code) {\n",
       "                             nbb_cells[i].set_text(nbb_formatted_code);\n",
       "                        }\n",
       "                        break;\n",
       "                    }\n",
       "                }\n",
       "            }, 500);\n",
       "            "
      ],
      "text/plain": [
       "<IPython.core.display.Javascript object>"
      ]
     },
     "metadata": {},
     "output_type": "display_data"
    }
   ],
   "source": [
    "ks = subset.groupby(\"x\")[\"y\"].sum()\n",
    "xs = ks.index\n",
    "ks"
   ]
  },
  {
   "cell_type": "code",
   "execution_count": 103,
   "id": "b27eab4a",
   "metadata": {},
   "outputs": [
    {
     "data": {
      "text/plain": [
       "x\n",
       "2018.0    0.392857\n",
       "2022.0    0.153061\n",
       "Name: y, dtype: float64"
      ]
     },
     "execution_count": 103,
     "metadata": {},
     "output_type": "execute_result"
    },
    {
     "data": {
      "application/javascript": [
       "\n",
       "            setTimeout(function() {\n",
       "                var nbb_cell_id = 103;\n",
       "                var nbb_unformatted_code = \"actual = ks / ns\\nactual.index = xs + m\\nactual\";\n",
       "                var nbb_formatted_code = \"actual = ks / ns\\nactual.index = xs + m\\nactual\";\n",
       "                var nbb_cells = Jupyter.notebook.get_cells();\n",
       "                for (var i = 0; i < nbb_cells.length; ++i) {\n",
       "                    if (nbb_cells[i].input_prompt_number == nbb_cell_id) {\n",
       "                        if (nbb_cells[i].get_text() == nbb_unformatted_code) {\n",
       "                             nbb_cells[i].set_text(nbb_formatted_code);\n",
       "                        }\n",
       "                        break;\n",
       "                    }\n",
       "                }\n",
       "            }, 500);\n",
       "            "
      ],
      "text/plain": [
       "<IPython.core.display.Javascript object>"
      ]
     },
     "metadata": {},
     "output_type": "display_data"
    }
   ],
   "source": [
    "actual = ks / ns\n",
    "actual.index = xs + m\n",
    "actual"
   ]
  },
  {
   "cell_type": "code",
   "execution_count": 104,
   "id": "dafe2f18",
   "metadata": {},
   "outputs": [
    {
     "data": {
      "image/png": "[encoded data removed]",
      "text/plain": [
       "<Figure size 450x262.5 with 1 Axes>"
      ]
     },
     "metadata": {},
     "output_type": "display_data"
    },
    {
     "data": {
      "application/javascript": [
       "\n",
       "            setTimeout(function() {\n",
       "                var nbb_cell_id = 104;\n",
       "                var nbb_unformatted_code = \"alphas = np.linspace(-3, 3, 91)\\nalpha_prior = norm.pdf(alphas, 0, 3)\\nalpha_prior /= alpha_prior.sum()\\n\\nplt.plot(alphas, alpha_prior)\\ndecorate(ylim=[0, alpha_prior.max()])\";\n",
       "                var nbb_formatted_code = \"alphas = np.linspace(-3, 3, 91)\\nalpha_prior = norm.pdf(alphas, 0, 3)\\nalpha_prior /= alpha_prior.sum()\\n\\nplt.plot(alphas, alpha_prior)\\ndecorate(ylim=[0, alpha_prior.max()])\";\n",
       "                var nbb_cells = Jupyter.notebook.get_cells();\n",
       "                for (var i = 0; i < nbb_cells.length; ++i) {\n",
       "                    if (nbb_cells[i].input_prompt_number == nbb_cell_id) {\n",
       "                        if (nbb_cells[i].get_text() == nbb_unformatted_code) {\n",
       "                             nbb_cells[i].set_text(nbb_formatted_code);\n",
       "                        }\n",
       "                        break;\n",
       "                    }\n",
       "                }\n",
       "            }, 500);\n",
       "            "
      ],
      "text/plain": [
       "<IPython.core.display.Javascript object>"
      ]
     },
     "metadata": {},
     "output_type": "display_data"
    }
   ],
   "source": [
    "alphas = np.linspace(-3, 3, 91)\n",
    "alpha_prior = norm.pdf(alphas, 0, 3)\n",
    "alpha_prior /= alpha_prior.sum()\n",
    "\n",
    "plt.plot(alphas, alpha_prior)\n",
    "decorate(ylim=[0, alpha_prior.max()])"
   ]
  },
  {
   "cell_type": "code",
   "execution_count": 105,
   "id": "67ca287d",
   "metadata": {},
   "outputs": [
    {
     "data": {
      "image/png": "[encoded data removed]",
      "text/plain": [
       "<Figure size 450x262.5 with 1 Axes>"
      ]
     },
     "metadata": {},
     "output_type": "display_data"
    },
    {
     "data": {
      "application/javascript": [
       "\n",
       "            setTimeout(function() {\n",
       "                var nbb_cell_id = 105;\n",
       "                var nbb_unformatted_code = \"betas = np.linspace(-1, 1, 101)\\nbeta_prior = norm.pdf(betas, 0, 0.1)\\nbeta_prior /= beta_prior.sum()\\n\\nplt.plot(betas, beta_prior)\\ndecorate(ylim=[0, beta_prior.max()])\";\n",
       "                var nbb_formatted_code = \"betas = np.linspace(-1, 1, 101)\\nbeta_prior = norm.pdf(betas, 0, 0.1)\\nbeta_prior /= beta_prior.sum()\\n\\nplt.plot(betas, beta_prior)\\ndecorate(ylim=[0, beta_prior.max()])\";\n",
       "                var nbb_cells = Jupyter.notebook.get_cells();\n",
       "                for (var i = 0; i < nbb_cells.length; ++i) {\n",
       "                    if (nbb_cells[i].input_prompt_number == nbb_cell_id) {\n",
       "                        if (nbb_cells[i].get_text() == nbb_unformatted_code) {\n",
       "                             nbb_cells[i].set_text(nbb_formatted_code);\n",
       "                        }\n",
       "                        break;\n",
       "                    }\n",
       "                }\n",
       "            }, 500);\n",
       "            "
      ],
      "text/plain": [
       "<IPython.core.display.Javascript object>"
      ]
     },
     "metadata": {},
     "output_type": "display_data"
    }
   ],
   "source": [
    "betas = np.linspace(-1, 1, 101)\n",
    "beta_prior = norm.pdf(betas, 0, 0.1)\n",
    "beta_prior /= beta_prior.sum()\n",
    "\n",
    "plt.plot(betas, beta_prior)\n",
    "decorate(ylim=[0, beta_prior.max()])"
   ]
  },
  {
   "cell_type": "code",
   "execution_count": 106,
   "id": "7724d3cc",
   "metadata": {},
   "outputs": [
    {
     "data": {
      "application/javascript": [
       "\n",
       "            setTimeout(function() {\n",
       "                var nbb_cell_id = 106;\n",
       "                var nbb_unformatted_code = \"AP, BP = np.meshgrid(alpha_prior, beta_prior, indexing=\\\"ij\\\")\\njoint_prior = AP * BP\";\n",
       "                var nbb_formatted_code = \"AP, BP = np.meshgrid(alpha_prior, beta_prior, indexing=\\\"ij\\\")\\njoint_prior = AP * BP\";\n",
       "                var nbb_cells = Jupyter.notebook.get_cells();\n",
       "                for (var i = 0; i < nbb_cells.length; ++i) {\n",
       "                    if (nbb_cells[i].input_prompt_number == nbb_cell_id) {\n",
       "                        if (nbb_cells[i].get_text() == nbb_unformatted_code) {\n",
       "                             nbb_cells[i].set_text(nbb_formatted_code);\n",
       "                        }\n",
       "                        break;\n",
       "                    }\n",
       "                }\n",
       "            }, 500);\n",
       "            "
      ],
      "text/plain": [
       "<IPython.core.display.Javascript object>"
      ]
     },
     "metadata": {},
     "output_type": "display_data"
    }
   ],
   "source": [
    "AP, BP = np.meshgrid(alpha_prior, beta_prior, indexing=\"ij\")\n",
    "joint_prior = AP * BP"
   ]
  },
  {
   "cell_type": "code",
   "execution_count": 107,
   "id": "d0ab4503",
   "metadata": {},
   "outputs": [
    {
     "data": {
      "application/javascript": [
       "\n",
       "            setTimeout(function() {\n",
       "                var nbb_cell_id = 107;\n",
       "                var nbb_unformatted_code = \"def joint_contour(xs, ys, p, cmap=\\\"Blues\\\"):\\n    X, Y = np.meshgrid(xs, ys, indexing=\\\"ij\\\")\\n    plt.contour(X, Y, p, cmap=cmap)\";\n",
       "                var nbb_formatted_code = \"def joint_contour(xs, ys, p, cmap=\\\"Blues\\\"):\\n    X, Y = np.meshgrid(xs, ys, indexing=\\\"ij\\\")\\n    plt.contour(X, Y, p, cmap=cmap)\";\n",
       "                var nbb_cells = Jupyter.notebook.get_cells();\n",
       "                for (var i = 0; i < nbb_cells.length; ++i) {\n",
       "                    if (nbb_cells[i].input_prompt_number == nbb_cell_id) {\n",
       "                        if (nbb_cells[i].get_text() == nbb_unformatted_code) {\n",
       "                             nbb_cells[i].set_text(nbb_formatted_code);\n",
       "                        }\n",
       "                        break;\n",
       "                    }\n",
       "                }\n",
       "            }, 500);\n",
       "            "
      ],
      "text/plain": [
       "<IPython.core.display.Javascript object>"
      ]
     },
     "metadata": {},
     "output_type": "display_data"
    }
   ],
   "source": [
    "def joint_contour(xs, ys, p, cmap=\"Blues\"):\n",
    "    X, Y = np.meshgrid(xs, ys, indexing=\"ij\")\n",
    "    plt.contour(X, Y, p, cmap=cmap)"
   ]
  },
  {
   "cell_type": "code",
   "execution_count": 108,
   "id": "ae5bce70",
   "metadata": {},
   "outputs": [
    {
     "name": "stdout",
     "output_type": "stream",
     "text": [
      "-4.0 11 28 0.39285714285714285\n",
      "0.0 15 98 0.15306122448979592\n"
     ]
    },
    {
     "data": {
      "application/javascript": [
       "\n",
       "            setTimeout(function() {\n",
       "                var nbb_cell_id = 108;\n",
       "                var nbb_unformatted_code = \"joint_posterior = joint_prior.copy()\\nA, B = np.meshgrid(alphas, betas, indexing=\\\"ij\\\")\\n\\nfor x in xs:\\n    k = ks[x]\\n    n = ns[x]\\n    P = expit(A + B * x)\\n    print(x, k, n, k / n)\\n    likelihood = binom.pmf(k, n, P)\\n    joint_posterior *= likelihood\\n\\njoint_posterior /= joint_posterior.sum()\";\n",
       "                var nbb_formatted_code = \"joint_posterior = joint_prior.copy()\\nA, B = np.meshgrid(alphas, betas, indexing=\\\"ij\\\")\\n\\nfor x in xs:\\n    k = ks[x]\\n    n = ns[x]\\n    P = expit(A + B * x)\\n    print(x, k, n, k / n)\\n    likelihood = binom.pmf(k, n, P)\\n    joint_posterior *= likelihood\\n\\njoint_posterior /= joint_posterior.sum()\";\n",
       "                var nbb_cells = Jupyter.notebook.get_cells();\n",
       "                for (var i = 0; i < nbb_cells.length; ++i) {\n",
       "                    if (nbb_cells[i].input_prompt_number == nbb_cell_id) {\n",
       "                        if (nbb_cells[i].get_text() == nbb_unformatted_code) {\n",
       "                             nbb_cells[i].set_text(nbb_formatted_code);\n",
       "                        }\n",
       "                        break;\n",
       "                    }\n",
       "                }\n",
       "            }, 500);\n",
       "            "
      ],
      "text/plain": [
       "<IPython.core.display.Javascript object>"
      ]
     },
     "metadata": {},
     "output_type": "display_data"
    }
   ],
   "source": [
    "joint_posterior = joint_prior.copy()\n",
    "A, B = np.meshgrid(alphas, betas, indexing=\"ij\")\n",
    "\n",
    "for x in xs:\n",
    "    k = ks[x]\n",
    "    n = ns[x]\n",
    "    P = expit(A + B * x)\n",
    "    print(x, k, n, k / n)\n",
    "    likelihood = binom.pmf(k, n, P)\n",
    "    joint_posterior *= likelihood\n",
    "\n",
    "joint_posterior /= joint_posterior.sum()"
   ]
  },
  {
   "cell_type": "code",
   "execution_count": 109,
   "id": "6a95117a",
   "metadata": {},
   "outputs": [
    {
     "data": {
      "text/plain": [
       "-1.484695588268882"
      ]
     },
     "execution_count": 109,
     "metadata": {},
     "output_type": "execute_result"
    },
    {
     "data": {
      "image/png": "[encoded data removed]",
      "text/plain": [
       "<Figure size 450x262.5 with 1 Axes>"
      ]
     },
     "metadata": {},
     "output_type": "display_data"
    },
    {
     "data": {
      "application/javascript": [
       "\n",
       "            setTimeout(function() {\n",
       "                var nbb_cell_id = 109;\n",
       "                var nbb_unformatted_code = \"marginal_alpha = joint_posterior.sum(axis=1)\\nplt.plot(alphas, marginal_alpha)\\nnp.sum(alphas * marginal_alpha)\";\n",
       "                var nbb_formatted_code = \"marginal_alpha = joint_posterior.sum(axis=1)\\nplt.plot(alphas, marginal_alpha)\\nnp.sum(alphas * marginal_alpha)\";\n",
       "                var nbb_cells = Jupyter.notebook.get_cells();\n",
       "                for (var i = 0; i < nbb_cells.length; ++i) {\n",
       "                    if (nbb_cells[i].input_prompt_number == nbb_cell_id) {\n",
       "                        if (nbb_cells[i].get_text() == nbb_unformatted_code) {\n",
       "                             nbb_cells[i].set_text(nbb_formatted_code);\n",
       "                        }\n",
       "                        break;\n",
       "                    }\n",
       "                }\n",
       "            }, 500);\n",
       "            "
      ],
      "text/plain": [
       "<IPython.core.display.Javascript object>"
      ]
     },
     "metadata": {},
     "output_type": "display_data"
    }
   ],
   "source": [
    "marginal_alpha = joint_posterior.sum(axis=1)\n",
    "plt.plot(alphas, marginal_alpha)\n",
    "np.sum(alphas * marginal_alpha)"
   ]
  },
  {
   "cell_type": "code",
   "execution_count": 110,
   "id": "7f164dcc",
   "metadata": {},
   "outputs": [
    {
     "data": {
      "text/plain": [
       "-0.12789020091816924"
      ]
     },
     "execution_count": 110,
     "metadata": {},
     "output_type": "execute_result"
    },
    {
     "data": {
      "image/png": "[encoded data removed]",
      "text/plain": [
       "<Figure size 450x262.5 with 1 Axes>"
      ]
     },
     "metadata": {},
     "output_type": "display_data"
    },
    {
     "data": {
      "application/javascript": [
       "\n",
       "            setTimeout(function() {\n",
       "                var nbb_cell_id = 110;\n",
       "                var nbb_unformatted_code = \"marginal_beta = joint_posterior.sum(axis=0)\\nplt.plot(betas, marginal_beta)\\nnp.sum(betas * marginal_beta)\";\n",
       "                var nbb_formatted_code = \"marginal_beta = joint_posterior.sum(axis=0)\\nplt.plot(betas, marginal_beta)\\nnp.sum(betas * marginal_beta)\";\n",
       "                var nbb_cells = Jupyter.notebook.get_cells();\n",
       "                for (var i = 0; i < nbb_cells.length; ++i) {\n",
       "                    if (nbb_cells[i].input_prompt_number == nbb_cell_id) {\n",
       "                        if (nbb_cells[i].get_text() == nbb_unformatted_code) {\n",
       "                             nbb_cells[i].set_text(nbb_formatted_code);\n",
       "                        }\n",
       "                        break;\n",
       "                    }\n",
       "                }\n",
       "            }, 500);\n",
       "            "
      ],
      "text/plain": [
       "<IPython.core.display.Javascript object>"
      ]
     },
     "metadata": {},
     "output_type": "display_data"
    }
   ],
   "source": [
    "marginal_beta = joint_posterior.sum(axis=0)\n",
    "plt.plot(betas, marginal_beta)\n",
    "np.sum(betas * marginal_beta)"
   ]
  },
  {
   "cell_type": "code",
   "execution_count": 111,
   "id": "662a43e3",
   "metadata": {},
   "outputs": [
    {
     "data": {
      "image/png": "[encoded data removed]",
      "text/plain": [
       "<Figure size 450x262.5 with 1 Axes>"
      ]
     },
     "metadata": {},
     "output_type": "display_data"
    },
    {
     "data": {
      "application/javascript": [
       "\n",
       "            setTimeout(function() {\n",
       "                var nbb_cell_id = 111;\n",
       "                var nbb_unformatted_code = \"joint_contour(alphas, betas, joint_posterior)\";\n",
       "                var nbb_formatted_code = \"joint_contour(alphas, betas, joint_posterior)\";\n",
       "                var nbb_cells = Jupyter.notebook.get_cells();\n",
       "                for (var i = 0; i < nbb_cells.length; ++i) {\n",
       "                    if (nbb_cells[i].input_prompt_number == nbb_cell_id) {\n",
       "                        if (nbb_cells[i].get_text() == nbb_unformatted_code) {\n",
       "                             nbb_cells[i].set_text(nbb_formatted_code);\n",
       "                        }\n",
       "                        break;\n",
       "                    }\n",
       "                }\n",
       "            }, 500);\n",
       "            "
      ],
      "text/plain": [
       "<IPython.core.display.Javascript object>"
      ]
     },
     "metadata": {},
     "output_type": "display_data"
    }
   ],
   "source": [
    "joint_contour(alphas, betas, joint_posterior)"
   ]
  },
  {
   "cell_type": "code",
   "execution_count": 112,
   "id": "a1ad6445",
   "metadata": {},
   "outputs": [
    {
     "data": {
      "text/plain": [
       "x\n",
       "2018.0    0.278669\n",
       "2022.0    0.187370\n",
       "dtype: float64"
      ]
     },
     "execution_count": 112,
     "metadata": {},
     "output_type": "execute_result"
    },
    {
     "data": {
      "application/javascript": [
       "\n",
       "            setTimeout(function() {\n",
       "                var nbb_cell_id = 112;\n",
       "                var nbb_unformatted_code = \"ps = [np.sum(joint_posterior * expit(A + B * x)) for x in xs]\\npred = pd.Series(ps, actual.index)\\npred\";\n",
       "                var nbb_formatted_code = \"ps = [np.sum(joint_posterior * expit(A + B * x)) for x in xs]\\npred = pd.Series(ps, actual.index)\\npred\";\n",
       "                var nbb_cells = Jupyter.notebook.get_cells();\n",
       "                for (var i = 0; i < nbb_cells.length; ++i) {\n",
       "                    if (nbb_cells[i].input_prompt_number == nbb_cell_id) {\n",
       "                        if (nbb_cells[i].get_text() == nbb_unformatted_code) {\n",
       "                             nbb_cells[i].set_text(nbb_formatted_code);\n",
       "                        }\n",
       "                        break;\n",
       "                    }\n",
       "                }\n",
       "            }, 500);\n",
       "            "
      ],
      "text/plain": [
       "<IPython.core.display.Javascript object>"
      ]
     },
     "metadata": {},
     "output_type": "display_data"
    }
   ],
   "source": [
    "ps = [np.sum(joint_posterior * expit(A + B * x)) for x in xs]\n",
    "pred = pd.Series(ps, actual.index)\n",
    "pred"
   ]
  },
  {
   "cell_type": "code",
   "execution_count": 113,
   "id": "a83f7d72",
   "metadata": {},
   "outputs": [
    {
     "data": {
      "text/plain": [
       "<Axes: xlabel='x'>"
      ]
     },
     "execution_count": 113,
     "metadata": {},
     "output_type": "execute_result"
    },
    {
     "data": {
      "image/png": "[encoded data removed]",
      "text/plain": [
       "<Figure size 450x262.5 with 1 Axes>"
      ]
     },
     "metadata": {},
     "output_type": "display_data"
    },
    {
     "data": {
      "application/javascript": [
       "\n",
       "            setTimeout(function() {\n",
       "                var nbb_cell_id = 113;\n",
       "                var nbb_unformatted_code = \"actual.plot(style=\\\"o\\\")\\npred.plot()\";\n",
       "                var nbb_formatted_code = \"actual.plot(style=\\\"o\\\")\\npred.plot()\";\n",
       "                var nbb_cells = Jupyter.notebook.get_cells();\n",
       "                for (var i = 0; i < nbb_cells.length; ++i) {\n",
       "                    if (nbb_cells[i].input_prompt_number == nbb_cell_id) {\n",
       "                        if (nbb_cells[i].get_text() == nbb_unformatted_code) {\n",
       "                             nbb_cells[i].set_text(nbb_formatted_code);\n",
       "                        }\n",
       "                        break;\n",
       "                    }\n",
       "                }\n",
       "            }, 500);\n",
       "            "
      ],
      "text/plain": [
       "<IPython.core.display.Javascript object>"
      ]
     },
     "metadata": {},
     "output_type": "display_data"
    }
   ],
   "source": [
    "actual.plot(style=\"o\")\n",
    "pred.plot()"
   ]
  },
  {
   "cell_type": "code",
   "execution_count": null,
   "id": "08ef25bb",
   "metadata": {},
   "outputs": [],
   "source": []
  }
 ],
 "metadata": {
  "celltoolbar": "Tags",
  "kernelspec": {
   "display_name": "Python 3 (ipykernel)",
   "language": "python",
   "name": "python3"
  },
  "language_info": {
   "codemirror_mode": {
    "name": "ipython",
    "version": 3
   },
   "file_extension": ".py",
   "mimetype": "text/x-python",
   "name": "python",
   "nbconvert_exporter": "python",
   "pygments_lexer": "ipython3",
   "version": "3.10.12"
  }
 },
 "nbformat": 4,
 "nbformat_minor": 5
}
