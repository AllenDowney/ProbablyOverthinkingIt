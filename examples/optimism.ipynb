{
 "cells": [
  {
   "cell_type": "markdown",
   "id": "4a54069c",
   "metadata": {
    "tags": []
   },
   "source": [
    "# Old Optimists, Young Pessimists"
   ]
  },
  {
   "cell_type": "markdown",
   "id": "c46810ae",
   "metadata": {
    "tags": [
     "remove-cell"
    ]
   },
   "source": [
    "This example is based no Chapter 10 of *[Probably Overthinking It: How to Use Data to Answer Questions, Avoid Statistical Traps, and Make Better Decisions](https://greenteapress.com/wp/probably-overthinking-it)*, University of Chicago Press, 2023."
   ]
  },
  {
   "cell_type": "code",
   "execution_count": 42,
   "id": "9c898994",
   "metadata": {},
   "outputs": [
    {
     "data": {
      "application/javascript": [
       "\n",
       "            setTimeout(function() {\n",
       "                var nbb_cell_id = 42;\n",
       "                var nbb_unformatted_code = \"%load_ext nb_black\\n%load_ext autoreload\\n%autoreload 2\";\n",
       "                var nbb_formatted_code = \"%load_ext nb_black\\n%load_ext autoreload\\n%autoreload 2\";\n",
       "                var nbb_cells = Jupyter.notebook.get_cells();\n",
       "                for (var i = 0; i < nbb_cells.length; ++i) {\n",
       "                    if (nbb_cells[i].input_prompt_number == nbb_cell_id) {\n",
       "                        if (nbb_cells[i].get_text() == nbb_unformatted_code) {\n",
       "                             nbb_cells[i].set_text(nbb_formatted_code);\n",
       "                        }\n",
       "                        break;\n",
       "                    }\n",
       "                }\n",
       "            }, 500);\n",
       "            "
      ],
      "text/plain": [
       "<IPython.core.display.Javascript object>"
      ]
     },
     "metadata": {},
     "output_type": "display_data"
    }
   ],
   "source": [
    "%load_ext nb_black\n",
    "%load_ext autoreload\n",
    "%autoreload 2"
   ]
  },
  {
   "cell_type": "code",
   "execution_count": 43,
   "id": "da5ed279",
   "metadata": {
    "tags": [
     "hide-cell"
    ]
   },
   "outputs": [
    {
     "data": {
      "application/javascript": [
       "\n",
       "            setTimeout(function() {\n",
       "                var nbb_cell_id = 43;\n",
       "                var nbb_unformatted_code = \"# Install empiricaldist if we don't already have it\\n\\ntry:\\n    import empiricaldist\\nexcept ImportError:\\n    !pip install empiricaldist\";\n",
       "                var nbb_formatted_code = \"# Install empiricaldist if we don't already have it\\n\\ntry:\\n    import empiricaldist\\nexcept ImportError:\\n    !pip install empiricaldist\";\n",
       "                var nbb_cells = Jupyter.notebook.get_cells();\n",
       "                for (var i = 0; i < nbb_cells.length; ++i) {\n",
       "                    if (nbb_cells[i].input_prompt_number == nbb_cell_id) {\n",
       "                        if (nbb_cells[i].get_text() == nbb_unformatted_code) {\n",
       "                             nbb_cells[i].set_text(nbb_formatted_code);\n",
       "                        }\n",
       "                        break;\n",
       "                    }\n",
       "                }\n",
       "            }, 500);\n",
       "            "
      ],
      "text/plain": [
       "<IPython.core.display.Javascript object>"
      ]
     },
     "metadata": {},
     "output_type": "display_data"
    }
   ],
   "source": [
    "# Install empiricaldist if we don't already have it\n",
    "\n",
    "try:\n",
    "    import empiricaldist\n",
    "except ImportError:\n",
    "    !pip install empiricaldist"
   ]
  },
  {
   "cell_type": "code",
   "execution_count": 44,
   "id": "87cab00c",
   "metadata": {
    "tags": [
     "hide-cell"
    ]
   },
   "outputs": [
    {
     "data": {
      "application/javascript": [
       "\n",
       "            setTimeout(function() {\n",
       "                var nbb_cell_id = 44;\n",
       "                var nbb_unformatted_code = \"# download utils.py\\n\\nfrom os.path import basename, exists\\n\\ndef download(url):\\n    filename = basename(url)\\n    if not exists(filename):\\n        from urllib.request import urlretrieve\\n        local, _ = urlretrieve(url, filename)\\n        print('Downloaded ' + local)\\n        \\ndownload(\\\"https://github.com/AllenDowney/ProbablyOverthinkingIt/raw/book/notebooks/utils.py\\\")\";\n",
       "                var nbb_formatted_code = \"# download utils.py\\n\\nfrom os.path import basename, exists\\n\\n\\ndef download(url):\\n    filename = basename(url)\\n    if not exists(filename):\\n        from urllib.request import urlretrieve\\n\\n        local, _ = urlretrieve(url, filename)\\n        print(\\\"Downloaded \\\" + local)\\n\\n\\ndownload(\\n    \\\"https://github.com/AllenDowney/ProbablyOverthinkingIt/raw/book/notebooks/utils.py\\\"\\n)\";\n",
       "                var nbb_cells = Jupyter.notebook.get_cells();\n",
       "                for (var i = 0; i < nbb_cells.length; ++i) {\n",
       "                    if (nbb_cells[i].input_prompt_number == nbb_cell_id) {\n",
       "                        if (nbb_cells[i].get_text() == nbb_unformatted_code) {\n",
       "                             nbb_cells[i].set_text(nbb_formatted_code);\n",
       "                        }\n",
       "                        break;\n",
       "                    }\n",
       "                }\n",
       "            }, 500);\n",
       "            "
      ],
      "text/plain": [
       "<IPython.core.display.Javascript object>"
      ]
     },
     "metadata": {},
     "output_type": "display_data"
    }
   ],
   "source": [
    "# download utils.py\n",
    "\n",
    "from os.path import basename, exists\n",
    "\n",
    "\n",
    "def download(url):\n",
    "    filename = basename(url)\n",
    "    if not exists(filename):\n",
    "        from urllib.request import urlretrieve\n",
    "\n",
    "        local, _ = urlretrieve(url, filename)\n",
    "        print(\"Downloaded \" + local)\n",
    "\n",
    "\n",
    "download(\n",
    "    \"https://github.com/AllenDowney/ProbablyOverthinkingIt/raw/book/notebooks/utils.py\"\n",
    ")"
   ]
  },
  {
   "cell_type": "code",
   "execution_count": 45,
   "id": "81d5b707",
   "metadata": {
    "tags": [
     "hide-cell"
    ]
   },
   "outputs": [
    {
     "data": {
      "application/javascript": [
       "\n",
       "            setTimeout(function() {\n",
       "                var nbb_cell_id = 45;\n",
       "                var nbb_unformatted_code = \"import pandas as pd\\nimport numpy as np\\nimport matplotlib.pyplot as plt\\nimport seaborn as sns\\n\\nfrom utils import decorate\\n\\n# Set the random seed so we get the same results every time\\nnp.random.seed(17)\";\n",
       "                var nbb_formatted_code = \"import pandas as pd\\nimport numpy as np\\nimport matplotlib.pyplot as plt\\nimport seaborn as sns\\n\\nfrom utils import decorate\\n\\n# Set the random seed so we get the same results every time\\nnp.random.seed(17)\";\n",
       "                var nbb_cells = Jupyter.notebook.get_cells();\n",
       "                for (var i = 0; i < nbb_cells.length; ++i) {\n",
       "                    if (nbb_cells[i].input_prompt_number == nbb_cell_id) {\n",
       "                        if (nbb_cells[i].get_text() == nbb_unformatted_code) {\n",
       "                             nbb_cells[i].set_text(nbb_formatted_code);\n",
       "                        }\n",
       "                        break;\n",
       "                    }\n",
       "                }\n",
       "            }, 500);\n",
       "            "
      ],
      "text/plain": [
       "<IPython.core.display.Javascript object>"
      ]
     },
     "metadata": {},
     "output_type": "display_data"
    }
   ],
   "source": [
    "import pandas as pd\n",
    "import numpy as np\n",
    "import matplotlib.pyplot as plt\n",
    "import seaborn as sns\n",
    "\n",
    "from utils import decorate\n",
    "\n",
    "# Set the random seed so we get the same results every time\n",
    "np.random.seed(17)"
   ]
  },
  {
   "cell_type": "code",
   "execution_count": 61,
   "id": "83e55914",
   "metadata": {},
   "outputs": [
    {
     "data": {
      "application/javascript": [
       "\n",
       "            setTimeout(function() {\n",
       "                var nbb_cell_id = 61;\n",
       "                var nbb_unformatted_code = \"plt.rcParams[\\\"figure.dpi\\\"] = 75\\nplt.rcParams[\\\"figure.figsize\\\"] = [6, 3.5]\\n\\nplt.rcParams[\\\"axes.titlesize\\\"] = \\\"medium\\\"\\n\\nplt.rcParams[\\\"font.size\\\"] = 12\\n\\nplt.rcParams[\\\"lines.linewidth\\\"] = 1.5\\n\\nplt.rcParams[\\\"axes.titlelocation\\\"] = \\\"left\\\"\\nplt.rcParams[\\\"axes.spines.top\\\"] = False\\nplt.rcParams[\\\"axes.spines.bottom\\\"] = False\\nplt.rcParams[\\\"axes.spines.left\\\"] = False\\nplt.rcParams[\\\"axes.spines.right\\\"] = False\\n\\nplt.rcParams[\\\"xtick.top\\\"] = False\\nplt.rcParams[\\\"xtick.bottom\\\"] = False\\nplt.rcParams[\\\"ytick.left\\\"] = False\\nplt.rcParams[\\\"ytick.right\\\"] = False\\n\\nplt.rcParams[\\\"legend.frameon\\\"] = True\\nplt.rcParams[\\\"legend.framealpha\\\"] = 0.4\\nplt.rcParams[\\\"legend.facecolor\\\"] = \\\"none\\\"\\nplt.rcParams[\\\"legend.edgecolor\\\"] = \\\"0.8\\\"\\n\\n# plt.rcParams[\\\"lines.markersize\\\"] = 4\\n# plt.rcParams[\\\"lines.markeredgewidth\\\"] = 0\";\n",
       "                var nbb_formatted_code = \"plt.rcParams[\\\"figure.dpi\\\"] = 75\\nplt.rcParams[\\\"figure.figsize\\\"] = [6, 3.5]\\n\\nplt.rcParams[\\\"axes.titlesize\\\"] = \\\"medium\\\"\\n\\nplt.rcParams[\\\"font.size\\\"] = 12\\n\\nplt.rcParams[\\\"lines.linewidth\\\"] = 1.5\\n\\nplt.rcParams[\\\"axes.titlelocation\\\"] = \\\"left\\\"\\nplt.rcParams[\\\"axes.spines.top\\\"] = False\\nplt.rcParams[\\\"axes.spines.bottom\\\"] = False\\nplt.rcParams[\\\"axes.spines.left\\\"] = False\\nplt.rcParams[\\\"axes.spines.right\\\"] = False\\n\\nplt.rcParams[\\\"xtick.top\\\"] = False\\nplt.rcParams[\\\"xtick.bottom\\\"] = False\\nplt.rcParams[\\\"ytick.left\\\"] = False\\nplt.rcParams[\\\"ytick.right\\\"] = False\\n\\nplt.rcParams[\\\"legend.frameon\\\"] = True\\nplt.rcParams[\\\"legend.framealpha\\\"] = 0.4\\nplt.rcParams[\\\"legend.facecolor\\\"] = \\\"none\\\"\\nplt.rcParams[\\\"legend.edgecolor\\\"] = \\\"0.8\\\"\\n\\n# plt.rcParams[\\\"lines.markersize\\\"] = 4\\n# plt.rcParams[\\\"lines.markeredgewidth\\\"] = 0\";\n",
       "                var nbb_cells = Jupyter.notebook.get_cells();\n",
       "                for (var i = 0; i < nbb_cells.length; ++i) {\n",
       "                    if (nbb_cells[i].input_prompt_number == nbb_cell_id) {\n",
       "                        if (nbb_cells[i].get_text() == nbb_unformatted_code) {\n",
       "                             nbb_cells[i].set_text(nbb_formatted_code);\n",
       "                        }\n",
       "                        break;\n",
       "                    }\n",
       "                }\n",
       "            }, 500);\n",
       "            "
      ],
      "text/plain": [
       "<IPython.core.display.Javascript object>"
      ]
     },
     "metadata": {},
     "output_type": "display_data"
    }
   ],
   "source": [
    "plt.rcParams[\"figure.dpi\"] = 75\n",
    "plt.rcParams[\"figure.figsize\"] = [6, 3.5]\n",
    "\n",
    "plt.rcParams[\"axes.titlesize\"] = \"medium\"\n",
    "\n",
    "plt.rcParams[\"font.size\"] = 12\n",
    "\n",
    "plt.rcParams[\"lines.linewidth\"] = 1.5\n",
    "\n",
    "plt.rcParams[\"axes.titlelocation\"] = \"left\"\n",
    "plt.rcParams[\"axes.spines.top\"] = False\n",
    "plt.rcParams[\"axes.spines.bottom\"] = False\n",
    "plt.rcParams[\"axes.spines.left\"] = False\n",
    "plt.rcParams[\"axes.spines.right\"] = False\n",
    "\n",
    "plt.rcParams[\"xtick.top\"] = False\n",
    "plt.rcParams[\"xtick.bottom\"] = False\n",
    "plt.rcParams[\"ytick.left\"] = False\n",
    "plt.rcParams[\"ytick.right\"] = False\n",
    "\n",
    "plt.rcParams[\"legend.frameon\"] = True\n",
    "plt.rcParams[\"legend.framealpha\"] = 0.4\n",
    "plt.rcParams[\"legend.facecolor\"] = \"none\"\n",
    "plt.rcParams[\"legend.edgecolor\"] = \"0.8\"\n",
    "\n",
    "# plt.rcParams[\"lines.markersize\"] = 4\n",
    "# plt.rcParams[\"lines.markeredgewidth\"] = 0"
   ]
  },
  {
   "cell_type": "markdown",
   "id": "f17a6470",
   "metadata": {
    "tags": []
   },
   "source": [
    "## Old Optimists, Young Pessimists\n",
    "\n",
    "Would you say that most of the time people try to be helpful, or that they are mostly just looking out for themselves? Almost every year since 1972, the General Social Survey (GSS) has posed that question to a representative sample of adult residents of the United States.\n",
    "\n",
    "The following figure shows how the responses have changed over time.\n",
    "The circles show the percentage of people in each survey who said that people try to be helpful."
   ]
  },
  {
   "cell_type": "code",
   "execution_count": 47,
   "id": "5b8c8edb",
   "metadata": {},
   "outputs": [
    {
     "data": {
      "application/javascript": [
       "\n",
       "            setTimeout(function() {\n",
       "                var nbb_cell_id = 47;\n",
       "                var nbb_unformatted_code = \"# This dataset is prepared in GssExtract/notebooks/02_make_extract-2022_3a.ipynb\\n\\nDATA_PATH = \\\"https://github.com/AllenDowney/GssExtract/raw/main/data/interim/\\\"\\nfilename = \\\"gss_extract_2022_3a.hdf\\\"\\ndownload(DATA_PATH + filename)\";\n",
       "                var nbb_formatted_code = \"# This dataset is prepared in GssExtract/notebooks/02_make_extract-2022_3a.ipynb\\n\\nDATA_PATH = \\\"https://github.com/AllenDowney/GssExtract/raw/main/data/interim/\\\"\\nfilename = \\\"gss_extract_2022_3a.hdf\\\"\\ndownload(DATA_PATH + filename)\";\n",
       "                var nbb_cells = Jupyter.notebook.get_cells();\n",
       "                for (var i = 0; i < nbb_cells.length; ++i) {\n",
       "                    if (nbb_cells[i].input_prompt_number == nbb_cell_id) {\n",
       "                        if (nbb_cells[i].get_text() == nbb_unformatted_code) {\n",
       "                             nbb_cells[i].set_text(nbb_formatted_code);\n",
       "                        }\n",
       "                        break;\n",
       "                    }\n",
       "                }\n",
       "            }, 500);\n",
       "            "
      ],
      "text/plain": [
       "<IPython.core.display.Javascript object>"
      ]
     },
     "metadata": {},
     "output_type": "display_data"
    }
   ],
   "source": [
    "# This dataset is prepared in GssExtract/notebooks/02_make_extract-2022_3a.ipynb\n",
    "\n",
    "DATA_PATH = \"https://github.com/AllenDowney/GssExtract/raw/main/data/interim/\"\n",
    "filename = \"gss_extract_2022_3a.hdf\"\n",
    "download(DATA_PATH + filename)"
   ]
  },
  {
   "cell_type": "code",
   "execution_count": 48,
   "id": "f033ca49",
   "metadata": {
    "tags": []
   },
   "outputs": [
    {
     "data": {
      "text/plain": [
       "(72390, 54)"
      ]
     },
     "execution_count": 48,
     "metadata": {},
     "output_type": "execute_result"
    },
    {
     "data": {
      "application/javascript": [
       "\n",
       "            setTimeout(function() {\n",
       "                var nbb_cell_id = 48;\n",
       "                var nbb_unformatted_code = \"gss = pd.read_hdf(filename, \\\"gss\\\")\\ngss.shape\";\n",
       "                var nbb_formatted_code = \"gss = pd.read_hdf(filename, \\\"gss\\\")\\ngss.shape\";\n",
       "                var nbb_cells = Jupyter.notebook.get_cells();\n",
       "                for (var i = 0; i < nbb_cells.length; ++i) {\n",
       "                    if (nbb_cells[i].input_prompt_number == nbb_cell_id) {\n",
       "                        if (nbb_cells[i].get_text() == nbb_unformatted_code) {\n",
       "                             nbb_cells[i].set_text(nbb_formatted_code);\n",
       "                        }\n",
       "                        break;\n",
       "                    }\n",
       "                }\n",
       "            }, 500);\n",
       "            "
      ],
      "text/plain": [
       "<IPython.core.display.Javascript object>"
      ]
     },
     "metadata": {},
     "output_type": "display_data"
    }
   ],
   "source": [
    "gss = pd.read_hdf(filename, \"gss\")\n",
    "gss.shape"
   ]
  },
  {
   "cell_type": "code",
   "execution_count": 49,
   "id": "a7e68501",
   "metadata": {},
   "outputs": [
    {
     "data": {
      "text/plain": [
       "cohort10\n",
       "1890.0      501\n",
       "1900.0     1722\n",
       "1910.0     3616\n",
       "1920.0     5862\n",
       "1930.0     7115\n",
       "1940.0    10925\n",
       "1950.0    14273\n",
       "1960.0    11699\n",
       "1970.0     7681\n",
       "1980.0     5088\n",
       "1990.0     2563\n",
       "Name: count, dtype: int64"
      ]
     },
     "execution_count": 49,
     "metadata": {},
     "output_type": "execute_result"
    },
    {
     "data": {
      "application/javascript": [
       "\n",
       "            setTimeout(function() {\n",
       "                var nbb_cell_id = 49;\n",
       "                var nbb_unformatted_code = \"bins = np.arange(1889, 2001, 10)\\nlabels = bins[:-1] + 1\\n\\ngss['cohort10'] = pd.cut(gss['cohort'], bins, labels=labels).astype(float)\\ngss['cohort10'].value_counts().sort_index()\";\n",
       "                var nbb_formatted_code = \"bins = np.arange(1889, 2001, 10)\\nlabels = bins[:-1] + 1\\n\\ngss[\\\"cohort10\\\"] = pd.cut(gss[\\\"cohort\\\"], bins, labels=labels).astype(float)\\ngss[\\\"cohort10\\\"].value_counts().sort_index()\";\n",
       "                var nbb_cells = Jupyter.notebook.get_cells();\n",
       "                for (var i = 0; i < nbb_cells.length; ++i) {\n",
       "                    if (nbb_cells[i].input_prompt_number == nbb_cell_id) {\n",
       "                        if (nbb_cells[i].get_text() == nbb_unformatted_code) {\n",
       "                             nbb_cells[i].set_text(nbb_formatted_code);\n",
       "                        }\n",
       "                        break;\n",
       "                    }\n",
       "                }\n",
       "            }, 500);\n",
       "            "
      ],
      "text/plain": [
       "<IPython.core.display.Javascript object>"
      ]
     },
     "metadata": {},
     "output_type": "display_data"
    }
   ],
   "source": [
    "bins = np.arange(1889, 2001, 10)\n",
    "labels = bins[:-1] + 1\n",
    "\n",
    "gss[\"cohort10\"] = pd.cut(gss[\"cohort\"], bins, labels=labels).astype(float)\n",
    "gss[\"cohort10\"].value_counts().sort_index()"
   ]
  },
  {
   "cell_type": "code",
   "execution_count": 50,
   "id": "9012be07",
   "metadata": {
    "tags": []
   },
   "outputs": [
    {
     "data": {
      "application/javascript": [
       "\n",
       "            setTimeout(function() {\n",
       "                var nbb_cell_id = 50;\n",
       "                var nbb_unformatted_code = \"# https://gssdataexplorer.norc.org/variables/439/vshow\\n\\n# 1 = helpful\\n# 2 = look out for themselves\\n# 3 = depends\";\n",
       "                var nbb_formatted_code = \"# https://gssdataexplorer.norc.org/variables/439/vshow\\n\\n# 1 = helpful\\n# 2 = look out for themselves\\n# 3 = depends\";\n",
       "                var nbb_cells = Jupyter.notebook.get_cells();\n",
       "                for (var i = 0; i < nbb_cells.length; ++i) {\n",
       "                    if (nbb_cells[i].input_prompt_number == nbb_cell_id) {\n",
       "                        if (nbb_cells[i].get_text() == nbb_unformatted_code) {\n",
       "                             nbb_cells[i].set_text(nbb_formatted_code);\n",
       "                        }\n",
       "                        break;\n",
       "                    }\n",
       "                }\n",
       "            }, 500);\n",
       "            "
      ],
      "text/plain": [
       "<IPython.core.display.Javascript object>"
      ]
     },
     "metadata": {},
     "output_type": "display_data"
    }
   ],
   "source": [
    "# https://gssdataexplorer.norc.org/variables/439/vshow\n",
    "\n",
    "# 1 = helpful\n",
    "# 2 = look out for themselves\n",
    "# 3 = depends"
   ]
  },
  {
   "cell_type": "code",
   "execution_count": 51,
   "id": "53289c02",
   "metadata": {},
   "outputs": [
    {
     "data": {
      "text/plain": [
       "helpful\n",
       "1.0    20471\n",
       "2.0    18972\n",
       "3.0     2971\n",
       "Name: count, dtype: int64"
      ]
     },
     "execution_count": 51,
     "metadata": {},
     "output_type": "execute_result"
    },
    {
     "data": {
      "application/javascript": [
       "\n",
       "            setTimeout(function() {\n",
       "                var nbb_cell_id = 51;\n",
       "                var nbb_unformatted_code = \"varname = 'helpful'\\nseries = gss[varname]\\nseries.value_counts()\";\n",
       "                var nbb_formatted_code = \"varname = \\\"helpful\\\"\\nseries = gss[varname]\\nseries.value_counts()\";\n",
       "                var nbb_cells = Jupyter.notebook.get_cells();\n",
       "                for (var i = 0; i < nbb_cells.length; ++i) {\n",
       "                    if (nbb_cells[i].input_prompt_number == nbb_cell_id) {\n",
       "                        if (nbb_cells[i].get_text() == nbb_unformatted_code) {\n",
       "                             nbb_cells[i].set_text(nbb_formatted_code);\n",
       "                        }\n",
       "                        break;\n",
       "                    }\n",
       "                }\n",
       "            }, 500);\n",
       "            "
      ],
      "text/plain": [
       "<IPython.core.display.Javascript object>"
      ]
     },
     "metadata": {},
     "output_type": "display_data"
    }
   ],
   "source": [
    "varname = \"helpful\"\n",
    "selected_value = 1\n",
    "\n",
    "series = gss[varname]\n",
    "series.value_counts()"
   ]
  },
  {
   "cell_type": "code",
   "execution_count": 52,
   "id": "95ea991e",
   "metadata": {
    "tags": []
   },
   "outputs": [
    {
     "data": {
      "text/html": [
       "<div>\n",
       "<style scoped>\n",
       "    .dataframe tbody tr th:only-of-type {\n",
       "        vertical-align: middle;\n",
       "    }\n",
       "\n",
       "    .dataframe tbody tr th {\n",
       "        vertical-align: top;\n",
       "    }\n",
       "\n",
       "    .dataframe thead th {\n",
       "        text-align: right;\n",
       "    }\n",
       "</style>\n",
       "<table border=\"1\" class=\"dataframe\">\n",
       "  <thead>\n",
       "    <tr style=\"text-align: right;\">\n",
       "      <th>helpful</th>\n",
       "      <th>1.0</th>\n",
       "      <th>2.0</th>\n",
       "      <th>3.0</th>\n",
       "    </tr>\n",
       "    <tr>\n",
       "      <th>year</th>\n",
       "      <th></th>\n",
       "      <th></th>\n",
       "      <th></th>\n",
       "    </tr>\n",
       "  </thead>\n",
       "  <tbody>\n",
       "    <tr>\n",
       "      <th>1972</th>\n",
       "      <td>0.467549</td>\n",
       "      <td>0.473220</td>\n",
       "      <td>0.059231</td>\n",
       "    </tr>\n",
       "    <tr>\n",
       "      <th>1973</th>\n",
       "      <td>0.478581</td>\n",
       "      <td>0.492637</td>\n",
       "      <td>0.028782</td>\n",
       "    </tr>\n",
       "    <tr>\n",
       "      <th>1975</th>\n",
       "      <td>0.589588</td>\n",
       "      <td>0.354293</td>\n",
       "      <td>0.056119</td>\n",
       "    </tr>\n",
       "    <tr>\n",
       "      <th>1976</th>\n",
       "      <td>0.435278</td>\n",
       "      <td>0.499665</td>\n",
       "      <td>0.065057</td>\n",
       "    </tr>\n",
       "    <tr>\n",
       "      <th>1978</th>\n",
       "      <td>0.592252</td>\n",
       "      <td>0.353907</td>\n",
       "      <td>0.053841</td>\n",
       "    </tr>\n",
       "    <tr>\n",
       "      <th>1980</th>\n",
       "      <td>0.491132</td>\n",
       "      <td>0.465211</td>\n",
       "      <td>0.043656</td>\n",
       "    </tr>\n",
       "    <tr>\n",
       "      <th>1983</th>\n",
       "      <td>0.573140</td>\n",
       "      <td>0.389029</td>\n",
       "      <td>0.037831</td>\n",
       "    </tr>\n",
       "    <tr>\n",
       "      <th>1984</th>\n",
       "      <td>0.517053</td>\n",
       "      <td>0.448158</td>\n",
       "      <td>0.034789</td>\n",
       "    </tr>\n",
       "    <tr>\n",
       "      <th>1986</th>\n",
       "      <td>0.560055</td>\n",
       "      <td>0.390528</td>\n",
       "      <td>0.049417</td>\n",
       "    </tr>\n",
       "    <tr>\n",
       "      <th>1987</th>\n",
       "      <td>0.447529</td>\n",
       "      <td>0.504164</td>\n",
       "      <td>0.048306</td>\n",
       "    </tr>\n",
       "    <tr>\n",
       "      <th>1988</th>\n",
       "      <td>0.467980</td>\n",
       "      <td>0.477833</td>\n",
       "      <td>0.054187</td>\n",
       "    </tr>\n",
       "    <tr>\n",
       "      <th>1989</th>\n",
       "      <td>0.500499</td>\n",
       "      <td>0.447657</td>\n",
       "      <td>0.051844</td>\n",
       "    </tr>\n",
       "    <tr>\n",
       "      <th>1990</th>\n",
       "      <td>0.518771</td>\n",
       "      <td>0.436860</td>\n",
       "      <td>0.044369</td>\n",
       "    </tr>\n",
       "    <tr>\n",
       "      <th>1991</th>\n",
       "      <td>0.476143</td>\n",
       "      <td>0.452286</td>\n",
       "      <td>0.071571</td>\n",
       "    </tr>\n",
       "    <tr>\n",
       "      <th>1993</th>\n",
       "      <td>0.521099</td>\n",
       "      <td>0.420020</td>\n",
       "      <td>0.058881</td>\n",
       "    </tr>\n",
       "    <tr>\n",
       "      <th>1994</th>\n",
       "      <td>0.473711</td>\n",
       "      <td>0.462588</td>\n",
       "      <td>0.063701</td>\n",
       "    </tr>\n",
       "    <tr>\n",
       "      <th>1996</th>\n",
       "      <td>0.431373</td>\n",
       "      <td>0.492846</td>\n",
       "      <td>0.075782</td>\n",
       "    </tr>\n",
       "    <tr>\n",
       "      <th>1998</th>\n",
       "      <td>0.476676</td>\n",
       "      <td>0.426273</td>\n",
       "      <td>0.097051</td>\n",
       "    </tr>\n",
       "    <tr>\n",
       "      <th>2000</th>\n",
       "      <td>0.451479</td>\n",
       "      <td>0.472756</td>\n",
       "      <td>0.075765</td>\n",
       "    </tr>\n",
       "    <tr>\n",
       "      <th>2002</th>\n",
       "      <td>0.486716</td>\n",
       "      <td>0.425080</td>\n",
       "      <td>0.088204</td>\n",
       "    </tr>\n",
       "    <tr>\n",
       "      <th>2004</th>\n",
       "      <td>0.504673</td>\n",
       "      <td>0.379673</td>\n",
       "      <td>0.115654</td>\n",
       "    </tr>\n",
       "    <tr>\n",
       "      <th>2006</th>\n",
       "      <td>0.440000</td>\n",
       "      <td>0.456386</td>\n",
       "      <td>0.103614</td>\n",
       "    </tr>\n",
       "    <tr>\n",
       "      <th>2008</th>\n",
       "      <td>0.460045</td>\n",
       "      <td>0.451083</td>\n",
       "      <td>0.088872</td>\n",
       "    </tr>\n",
       "    <tr>\n",
       "      <th>2010</th>\n",
       "      <td>0.461980</td>\n",
       "      <td>0.441176</td>\n",
       "      <td>0.096844</td>\n",
       "    </tr>\n",
       "    <tr>\n",
       "      <th>2012</th>\n",
       "      <td>0.484871</td>\n",
       "      <td>0.446293</td>\n",
       "      <td>0.068835</td>\n",
       "    </tr>\n",
       "    <tr>\n",
       "      <th>2014</th>\n",
       "      <td>0.443311</td>\n",
       "      <td>0.466107</td>\n",
       "      <td>0.090582</td>\n",
       "    </tr>\n",
       "    <tr>\n",
       "      <th>2016</th>\n",
       "      <td>0.457574</td>\n",
       "      <td>0.469027</td>\n",
       "      <td>0.073399</td>\n",
       "    </tr>\n",
       "    <tr>\n",
       "      <th>2018</th>\n",
       "      <td>0.451531</td>\n",
       "      <td>0.449617</td>\n",
       "      <td>0.098852</td>\n",
       "    </tr>\n",
       "    <tr>\n",
       "      <th>2022</th>\n",
       "      <td>0.427247</td>\n",
       "      <td>0.447932</td>\n",
       "      <td>0.124822</td>\n",
       "    </tr>\n",
       "  </tbody>\n",
       "</table>\n",
       "</div>"
      ],
      "text/plain": [
       "helpful       1.0       2.0       3.0\n",
       "year                                 \n",
       "1972     0.467549  0.473220  0.059231\n",
       "1973     0.478581  0.492637  0.028782\n",
       "1975     0.589588  0.354293  0.056119\n",
       "1976     0.435278  0.499665  0.065057\n",
       "1978     0.592252  0.353907  0.053841\n",
       "1980     0.491132  0.465211  0.043656\n",
       "1983     0.573140  0.389029  0.037831\n",
       "1984     0.517053  0.448158  0.034789\n",
       "1986     0.560055  0.390528  0.049417\n",
       "1987     0.447529  0.504164  0.048306\n",
       "1988     0.467980  0.477833  0.054187\n",
       "1989     0.500499  0.447657  0.051844\n",
       "1990     0.518771  0.436860  0.044369\n",
       "1991     0.476143  0.452286  0.071571\n",
       "1993     0.521099  0.420020  0.058881\n",
       "1994     0.473711  0.462588  0.063701\n",
       "1996     0.431373  0.492846  0.075782\n",
       "1998     0.476676  0.426273  0.097051\n",
       "2000     0.451479  0.472756  0.075765\n",
       "2002     0.486716  0.425080  0.088204\n",
       "2004     0.504673  0.379673  0.115654\n",
       "2006     0.440000  0.456386  0.103614\n",
       "2008     0.460045  0.451083  0.088872\n",
       "2010     0.461980  0.441176  0.096844\n",
       "2012     0.484871  0.446293  0.068835\n",
       "2014     0.443311  0.466107  0.090582\n",
       "2016     0.457574  0.469027  0.073399\n",
       "2018     0.451531  0.449617  0.098852\n",
       "2022     0.427247  0.447932  0.124822"
      ]
     },
     "execution_count": 52,
     "metadata": {},
     "output_type": "execute_result"
    },
    {
     "data": {
      "application/javascript": [
       "\n",
       "            setTimeout(function() {\n",
       "                var nbb_cell_id = 52;\n",
       "                var nbb_unformatted_code = \"xtab = pd.crosstab(gss[\\\"year\\\"], gss[varname], normalize=\\\"index\\\")\\nxtab\";\n",
       "                var nbb_formatted_code = \"xtab = pd.crosstab(gss[\\\"year\\\"], gss[varname], normalize=\\\"index\\\")\\nxtab\";\n",
       "                var nbb_cells = Jupyter.notebook.get_cells();\n",
       "                for (var i = 0; i < nbb_cells.length; ++i) {\n",
       "                    if (nbb_cells[i].input_prompt_number == nbb_cell_id) {\n",
       "                        if (nbb_cells[i].get_text() == nbb_unformatted_code) {\n",
       "                             nbb_cells[i].set_text(nbb_formatted_code);\n",
       "                        }\n",
       "                        break;\n",
       "                    }\n",
       "                }\n",
       "            }, 500);\n",
       "            "
      ],
      "text/plain": [
       "<IPython.core.display.Javascript object>"
      ]
     },
     "metadata": {},
     "output_type": "display_data"
    }
   ],
   "source": []
  },
  {
   "cell_type": "code",
   "execution_count": 72,
   "id": "376d10e3",
   "metadata": {},
   "outputs": [
    {
     "data": {
      "application/javascript": [
       "\n",
       "            setTimeout(function() {\n",
       "                var nbb_cell_id = 72;\n",
       "                var nbb_unformatted_code = \"def plot_titles(title, subtitle):\\n    plt.title(title, loc=\\\"left\\\", pad=20)\\n\\n    ax = plt.gca()\\n    plt.text(\\n        0,\\n        1.02,\\n        subtitle,\\n        transform=ax.transAxes,\\n        color=\\\"0.2\\\",\\n        ha=\\\"left\\\",\\n        va=\\\"bottom\\\",\\n        fontsize=11,\\n    )\\n\\n    plt.tight_layout()\";\n",
       "                var nbb_formatted_code = \"def plot_titles(title, subtitle):\\n    plt.title(title, loc=\\\"left\\\", pad=20)\\n\\n    ax = plt.gca()\\n    plt.text(\\n        0,\\n        1.02,\\n        subtitle,\\n        transform=ax.transAxes,\\n        color=\\\"0.2\\\",\\n        ha=\\\"left\\\",\\n        va=\\\"bottom\\\",\\n        fontsize=11,\\n    )\\n\\n    plt.tight_layout()\";\n",
       "                var nbb_cells = Jupyter.notebook.get_cells();\n",
       "                for (var i = 0; i < nbb_cells.length; ++i) {\n",
       "                    if (nbb_cells[i].input_prompt_number == nbb_cell_id) {\n",
       "                        if (nbb_cells[i].get_text() == nbb_unformatted_code) {\n",
       "                             nbb_cells[i].set_text(nbb_formatted_code);\n",
       "                        }\n",
       "                        break;\n",
       "                    }\n",
       "                }\n",
       "            }, 500);\n",
       "            "
      ],
      "text/plain": [
       "<IPython.core.display.Javascript object>"
      ]
     },
     "metadata": {},
     "output_type": "display_data"
    }
   ],
   "source": [
    "def plot_titles(title, subtitle):\n",
    "    \"\"\"\n",
    "    \"\"\"\n",
    "    plt.title(title, loc=\"left\", pad=20)\n",
    "\n",
    "    ax = plt.gca()\n",
    "    plt.text(\n",
    "        0,\n",
    "        1.02,\n",
    "        subtitle,\n",
    "        transform=ax.transAxes,\n",
    "        color=\"0.2\",\n",
    "        ha=\"left\",\n",
    "        va=\"bottom\",\n",
    "        fontsize=11,\n",
    "    )\n",
    "\n",
    "    plt.tight_layout()"
   ]
  },
  {
   "cell_type": "code",
   "execution_count": 117,
   "id": "ee22fb59",
   "metadata": {
    "tags": []
   },
   "outputs": [
    {
     "data": {
      "application/javascript": [
       "\n",
       "            setTimeout(function() {\n",
       "                var nbb_cell_id = 117;\n",
       "                var nbb_unformatted_code = \"question = \\\"\\\"\\\"Would you say that most of the time people try to be helpful, \\nor that they are mostly just looking out for themselves?\\n\\\"\\\"\\\"\\n\\ntitle = \\\"Would people be helpful or look out for themselves?\\\"\\nsubtitle = \\\"Percent saying helpful\\\"\\nylim = [25, 75]\";\n",
       "                var nbb_formatted_code = \"question = \\\"\\\"\\\"Would you say that most of the time people try to be helpful, \\nor that they are mostly just looking out for themselves?\\n\\\"\\\"\\\"\\n\\ntitle = \\\"Would people be helpful or look out for themselves?\\\"\\nsubtitle = \\\"Percent saying helpful\\\"\\nylim = [25, 75]\";\n",
       "                var nbb_cells = Jupyter.notebook.get_cells();\n",
       "                for (var i = 0; i < nbb_cells.length; ++i) {\n",
       "                    if (nbb_cells[i].input_prompt_number == nbb_cell_id) {\n",
       "                        if (nbb_cells[i].get_text() == nbb_unformatted_code) {\n",
       "                             nbb_cells[i].set_text(nbb_formatted_code);\n",
       "                        }\n",
       "                        break;\n",
       "                    }\n",
       "                }\n",
       "            }, 500);\n",
       "            "
      ],
      "text/plain": [
       "<IPython.core.display.Javascript object>"
      ]
     },
     "metadata": {},
     "output_type": "display_data"
    }
   ],
   "source": [
    "question = \"\"\"Would you say that most of the time people try to be helpful, \n",
    "or that they are mostly just looking out for themselves?\n",
    "\"\"\"\n",
    "\n",
    "title = \"Would people be helpful or look out for themselves?\"\n",
    "subtitle = \"Percent saying helpful\"\n",
    "ylim = [25, 75]"
   ]
  },
  {
   "cell_type": "code",
   "execution_count": 112,
   "id": "532ae372",
   "metadata": {
    "tags": []
   },
   "outputs": [
    {
     "data": {
      "application/javascript": [
       "\n",
       "            setTimeout(function() {\n",
       "                var nbb_cell_id = 112;\n",
       "                var nbb_unformatted_code = \"from utils import plot_series_lowess\\n\\ndef plot_by_year(varname, yvalue):\\n    xtab = pd.crosstab(gss[\\\"year\\\"], gss[varname], normalize=\\\"index\\\")\\n\\n    by_year = xtab[yvalue] * 100\\n    by_year.name = varname\\n\\n    plot_series_lowess(by_year, plot_series=True, color=\\\"C0\\\", label=\\\"\\\")\\n\\n    decorate(\\n        xlabel=\\\"Year of survey\\\",\\n        ylabel=\\\"\\\",\\n    )\\n    plot_titles(title, subtitle)\";\n",
       "                var nbb_formatted_code = \"from utils import plot_series_lowess\\n\\n\\ndef plot_by_year(varname, yvalue):\\n    xtab = pd.crosstab(gss[\\\"year\\\"], gss[varname], normalize=\\\"index\\\")\\n\\n    by_year = xtab[yvalue] * 100\\n    by_year.name = varname\\n\\n    plot_series_lowess(by_year, plot_series=True, color=\\\"C0\\\", label=\\\"\\\")\\n\\n    decorate(\\n        xlabel=\\\"Year of survey\\\",\\n        ylabel=\\\"\\\",\\n    )\\n    plot_titles(title, subtitle)\";\n",
       "                var nbb_cells = Jupyter.notebook.get_cells();\n",
       "                for (var i = 0; i < nbb_cells.length; ++i) {\n",
       "                    if (nbb_cells[i].input_prompt_number == nbb_cell_id) {\n",
       "                        if (nbb_cells[i].get_text() == nbb_unformatted_code) {\n",
       "                             nbb_cells[i].set_text(nbb_formatted_code);\n",
       "                        }\n",
       "                        break;\n",
       "                    }\n",
       "                }\n",
       "            }, 500);\n",
       "            "
      ],
      "text/plain": [
       "<IPython.core.display.Javascript object>"
      ]
     },
     "metadata": {},
     "output_type": "display_data"
    }
   ],
   "source": [
    "from utils import plot_series_lowess\n",
    "\n",
    "\n",
    "def plot_by_year(varname, yvalue):\n",
    "    xtab = pd.crosstab(gss[\"year\"], gss[varname], normalize=\"index\")\n",
    "\n",
    "    by_year = xtab[yvalue] * 100\n",
    "    by_year.name = varname\n",
    "\n",
    "    plot_series_lowess(by_year, plot_series=True, color=\"C0\", label=\"\")\n",
    "\n",
    "    decorate(\n",
    "        xlabel=\"Year of survey\",\n",
    "        ylim=ylim,\n",
    "    )\n",
    "    plot_titles(title, subtitle)"
   ]
  },
  {
   "cell_type": "code",
   "execution_count": 113,
   "id": "092b0aef",
   "metadata": {},
   "outputs": [
    {
     "data": {
      "image/png": "[encoded data removed]",
      "text/plain": [
       "<Figure size 450x262.5 with 1 Axes>"
      ]
     },
     "metadata": {},
     "output_type": "display_data"
    },
    {
     "data": {
      "application/javascript": [
       "\n",
       "            setTimeout(function() {\n",
       "                var nbb_cell_id = 113;\n",
       "                var nbb_unformatted_code = \"plot_by_year(varname, selected_value)\";\n",
       "                var nbb_formatted_code = \"plot_by_year(varname, selected_value)\";\n",
       "                var nbb_cells = Jupyter.notebook.get_cells();\n",
       "                for (var i = 0; i < nbb_cells.length; ++i) {\n",
       "                    if (nbb_cells[i].input_prompt_number == nbb_cell_id) {\n",
       "                        if (nbb_cells[i].get_text() == nbb_unformatted_code) {\n",
       "                             nbb_cells[i].set_text(nbb_formatted_code);\n",
       "                        }\n",
       "                        break;\n",
       "                    }\n",
       "                }\n",
       "            }, 500);\n",
       "            "
      ],
      "text/plain": [
       "<IPython.core.display.Javascript object>"
      ]
     },
     "metadata": {},
     "output_type": "display_data"
    }
   ],
   "source": [
    "plot_by_year(varname, selected_value)"
   ]
  },
  {
   "cell_type": "code",
   "execution_count": 109,
   "id": "f692d9a2",
   "metadata": {
    "tags": []
   },
   "outputs": [
    {
     "data": {
      "application/javascript": [
       "\n",
       "            setTimeout(function() {\n",
       "                var nbb_cell_id = 109;\n",
       "                var nbb_unformatted_code = \"from utils import prepare_yvar\\nfrom utils import chunk_series\\n\\ndef plot_by_cohort(yvarname, yvalue):\\n    xvarname = \\\"cohort\\\"\\n\\n    prepare_yvar(gss, yvarname, yvalue)\\n    by_cohort = chunk_series(gss, xvarname, size=600) * 100\\n\\n    plot_series_lowess(\\n        by_cohort,\\n        plot_series=True,\\n        color=\\\"C1\\\",\\n        ls=\\\"dashed\\\",\\n        label=\\\"\\\",\\n    )\\n\\n    decorate(\\n        xlabel=\\\"Year of birth\\\",\\n    )\\n    plot_titles(title, subtitle)\";\n",
       "                var nbb_formatted_code = \"from utils import prepare_yvar\\nfrom utils import chunk_series\\n\\n\\ndef plot_by_cohort(yvarname, yvalue):\\n    xvarname = \\\"cohort\\\"\\n\\n    prepare_yvar(gss, yvarname, yvalue)\\n    by_cohort = chunk_series(gss, xvarname, size=600) * 100\\n\\n    plot_series_lowess(\\n        by_cohort,\\n        plot_series=True,\\n        color=\\\"C1\\\",\\n        ls=\\\"dashed\\\",\\n        label=\\\"\\\",\\n    )\\n\\n    decorate(\\n        xlabel=\\\"Year of birth\\\",\\n    )\\n    plot_titles(title, subtitle)\";\n",
       "                var nbb_cells = Jupyter.notebook.get_cells();\n",
       "                for (var i = 0; i < nbb_cells.length; ++i) {\n",
       "                    if (nbb_cells[i].input_prompt_number == nbb_cell_id) {\n",
       "                        if (nbb_cells[i].get_text() == nbb_unformatted_code) {\n",
       "                             nbb_cells[i].set_text(nbb_formatted_code);\n",
       "                        }\n",
       "                        break;\n",
       "                    }\n",
       "                }\n",
       "            }, 500);\n",
       "            "
      ],
      "text/plain": [
       "<IPython.core.display.Javascript object>"
      ]
     },
     "metadata": {},
     "output_type": "display_data"
    }
   ],
   "source": [
    "from utils import prepare_yvar\n",
    "from utils import chunk_series\n",
    "\n",
    "\n",
    "def plot_by_cohort(yvarname, yvalue):\n",
    "    xvarname = \"cohort\"\n",
    "\n",
    "    prepare_yvar(gss, yvarname, yvalue)\n",
    "    by_cohort = chunk_series(gss, xvarname, size=600) * 100\n",
    "\n",
    "    plot_series_lowess(\n",
    "        by_cohort,\n",
    "        plot_series=True,\n",
    "        color=\"C1\",\n",
    "        ls=\"dashed\",\n",
    "        label=\"\",\n",
    "    )\n",
    "\n",
    "    decorate(\n",
    "        xlabel=\"Year of birth\",\n",
    "        ylim=ylim,\n",
    "    )\n",
    "    plot_titles(title, subtitle)"
   ]
  },
  {
   "cell_type": "code",
   "execution_count": 110,
   "id": "efcc0a74",
   "metadata": {},
   "outputs": [
    {
     "data": {
      "image/png": "[encoded data removed]",
      "text/plain": [
       "<Figure size 450x262.5 with 1 Axes>"
      ]
     },
     "metadata": {},
     "output_type": "display_data"
    },
    {
     "data": {
      "application/javascript": [
       "\n",
       "            setTimeout(function() {\n",
       "                var nbb_cell_id = 110;\n",
       "                var nbb_unformatted_code = \"plot_by_cohort(varname, selected_value)\";\n",
       "                var nbb_formatted_code = \"plot_by_cohort(varname, selected_value)\";\n",
       "                var nbb_cells = Jupyter.notebook.get_cells();\n",
       "                for (var i = 0; i < nbb_cells.length; ++i) {\n",
       "                    if (nbb_cells[i].input_prompt_number == nbb_cell_id) {\n",
       "                        if (nbb_cells[i].get_text() == nbb_unformatted_code) {\n",
       "                             nbb_cells[i].set_text(nbb_formatted_code);\n",
       "                        }\n",
       "                        break;\n",
       "                    }\n",
       "                }\n",
       "            }, 500);\n",
       "            "
      ],
      "text/plain": [
       "<IPython.core.display.Javascript object>"
      ]
     },
     "metadata": {},
     "output_type": "display_data"
    }
   ],
   "source": [
    "plot_by_cohort(varname, selected_value)"
   ]
  },
  {
   "cell_type": "code",
   "execution_count": 114,
   "id": "8fff6031",
   "metadata": {
    "tags": []
   },
   "outputs": [
    {
     "data": {
      "application/javascript": [
       "\n",
       "            setTimeout(function() {\n",
       "                var nbb_cell_id = 114;\n",
       "                var nbb_unformatted_code = \"from utils import make_table\\n\\nxvarname = \\\"year\\\"\\ngvarname = \\\"cohort10\\\"\\n\\nprepare_yvar(gss, varname, selected_value)\\n\\nsubset = gss.dropna(subset=[\\\"cohort10\\\"]).copy()\\nsubset[\\\"cohort10\\\"] = subset[\\\"cohort10\\\"].astype(int)\\ntable = make_table(subset, xvarname, varname, gvarname, yvalue)\\ndel table[1890]\\ndel table[1900]\";\n",
       "                var nbb_formatted_code = \"from utils import make_table\\n\\nxvarname = \\\"year\\\"\\ngvarname = \\\"cohort10\\\"\\n\\nprepare_yvar(gss, varname, selected_value)\\n\\nsubset = gss.dropna(subset=[\\\"cohort10\\\"]).copy()\\nsubset[\\\"cohort10\\\"] = subset[\\\"cohort10\\\"].astype(int)\\ntable = make_table(subset, xvarname, varname, gvarname, yvalue)\\ndel table[1890]\\ndel table[1900]\";\n",
       "                var nbb_cells = Jupyter.notebook.get_cells();\n",
       "                for (var i = 0; i < nbb_cells.length; ++i) {\n",
       "                    if (nbb_cells[i].input_prompt_number == nbb_cell_id) {\n",
       "                        if (nbb_cells[i].get_text() == nbb_unformatted_code) {\n",
       "                             nbb_cells[i].set_text(nbb_formatted_code);\n",
       "                        }\n",
       "                        break;\n",
       "                    }\n",
       "                }\n",
       "            }, 500);\n",
       "            "
      ],
      "text/plain": [
       "<IPython.core.display.Javascript object>"
      ]
     },
     "metadata": {},
     "output_type": "display_data"
    }
   ],
   "source": [
    "from utils import make_table\n",
    "\n",
    "xvarname = \"year\"\n",
    "gvarname = \"cohort10\"\n",
    "\n",
    "prepare_yvar(gss, varname, selected_value)\n",
    "\n",
    "subset = gss.dropna(subset=[\"cohort10\"]).copy()\n",
    "subset[\"cohort10\"] = subset[\"cohort10\"].astype(int)\n",
    "table = make_table(subset, xvarname, varname, gvarname, yvalue)\n",
    "del table[1890]\n",
    "del table[1900]"
   ]
  },
  {
   "cell_type": "code",
   "execution_count": 115,
   "id": "c82baf24",
   "metadata": {
    "tags": []
   },
   "outputs": [
    {
     "data": {
      "image/png": "[encoded data removed]",
      "text/plain": [
       "<Figure size 450x262.5 with 1 Axes>"
      ]
     },
     "metadata": {},
     "output_type": "display_data"
    },
    {
     "data": {
      "application/javascript": [
       "\n",
       "            setTimeout(function() {\n",
       "                var nbb_cell_id = 115;\n",
       "                var nbb_unformatted_code = \"plot_series_lowess(table[1940], plot_series=True, color=\\\"C2\\\", label=\\\"Born in the 1940s\\\")\\n\\nplot_titles(title, subtitle)\\ndecorate(\\n    xlabel=\\\"Year of survey\\\",\\n    loc='lower right'\\n)\";\n",
       "                var nbb_formatted_code = \"plot_series_lowess(table[1940], plot_series=True, color=\\\"C2\\\", label=\\\"Born in the 1940s\\\")\\n\\nplot_titles(title, subtitle)\\ndecorate(xlabel=\\\"Year of survey\\\", loc=\\\"lower right\\\")\";\n",
       "                var nbb_cells = Jupyter.notebook.get_cells();\n",
       "                for (var i = 0; i < nbb_cells.length; ++i) {\n",
       "                    if (nbb_cells[i].input_prompt_number == nbb_cell_id) {\n",
       "                        if (nbb_cells[i].get_text() == nbb_unformatted_code) {\n",
       "                             nbb_cells[i].set_text(nbb_formatted_code);\n",
       "                        }\n",
       "                        break;\n",
       "                    }\n",
       "                }\n",
       "            }, 500);\n",
       "            "
      ],
      "text/plain": [
       "<IPython.core.display.Javascript object>"
      ]
     },
     "metadata": {},
     "output_type": "display_data"
    }
   ],
   "source": [
    "plot_series_lowess(table[1940], plot_series=True, color=\"C2\", label=\"Born in the 1940s\")\n",
    "\n",
    "plot_titles(title, subtitle)\n",
    "decorate(\n",
    "    xlabel=\"Year of survey\",\n",
    "    ylim=ylim,\n",
    "    loc='lower right'\n",
    ")\n"
   ]
  },
  {
   "cell_type": "code",
   "execution_count": 105,
   "id": "0ea7bd4a",
   "metadata": {},
   "outputs": [
    {
     "data": {
      "application/javascript": [
       "\n",
       "            setTimeout(function() {\n",
       "                var nbb_cell_id = 105;\n",
       "                var nbb_unformatted_code = \"from utils import get_colors\\nfrom utils import label_table\\n\\n\\ndef visualize_table(table, nudge={}, **options):\\n    \\\"\\\"\\\"Plot the results from make_table.\\n\\n    table: map from group name to Series\\n    options: passed to plot\\n    \\\"\\\"\\\"\\n    palette = options.pop(\\\"palette\\\", \\\"Purples\\\")\\n    colors = get_colors(len(table), palette=palette)\\n\\n    for i, series in enumerate(table.values()):\\n        label = f\\\"{series.name}s\\\"\\n        plot_series_lowess(\\n            series, color=colors[i], label=label, plot_series=False, **options\\n        )\\n    label_table(table, nudge)\\n\\n    plot_titles(title, subtitle)\\n    decorate(\\n        xlabel=\\\"Year of survey\\\",\\n        legend=False\\n    )\";\n",
       "                var nbb_formatted_code = \"from utils import get_colors\\nfrom utils import label_table\\n\\n\\ndef visualize_table(table, nudge={}, **options):\\n    \\\"\\\"\\\"Plot the results from make_table.\\n\\n    table: map from group name to Series\\n    options: passed to plot\\n    \\\"\\\"\\\"\\n    palette = options.pop(\\\"palette\\\", \\\"Purples\\\")\\n    colors = get_colors(len(table), palette=palette)\\n\\n    for i, series in enumerate(table.values()):\\n        label = f\\\"{series.name}s\\\"\\n        plot_series_lowess(\\n            series, color=colors[i], label=label, plot_series=False, **options\\n        )\\n    label_table(table, nudge)\\n\\n    plot_titles(title, subtitle)\\n    decorate(xlabel=\\\"Year of survey\\\", legend=False)\";\n",
       "                var nbb_cells = Jupyter.notebook.get_cells();\n",
       "                for (var i = 0; i < nbb_cells.length; ++i) {\n",
       "                    if (nbb_cells[i].input_prompt_number == nbb_cell_id) {\n",
       "                        if (nbb_cells[i].get_text() == nbb_unformatted_code) {\n",
       "                             nbb_cells[i].set_text(nbb_formatted_code);\n",
       "                        }\n",
       "                        break;\n",
       "                    }\n",
       "                }\n",
       "            }, 500);\n",
       "            "
      ],
      "text/plain": [
       "<IPython.core.display.Javascript object>"
      ]
     },
     "metadata": {},
     "output_type": "display_data"
    }
   ],
   "source": [
    "from utils import get_colors\n",
    "from utils import label_table\n",
    "\n",
    "\n",
    "def visualize_table(table, nudge={}, **options):\n",
    "    \"\"\"Plot the results from make_table.\n",
    "\n",
    "    table: map from group name to Series\n",
    "    options: passed to plot\n",
    "    \"\"\"\n",
    "    palette = options.pop(\"palette\", \"Purples\")\n",
    "    colors = get_colors(len(table), palette=palette)\n",
    "\n",
    "    for i, series in enumerate(table.values()):\n",
    "        label = f\"{series.name}s\"\n",
    "        plot_series_lowess(\n",
    "            series, color=colors[i], label=label, plot_series=False, **options\n",
    "        )\n",
    "    label_table(table, nudge)\n",
    "\n",
    "    plot_titles(title, subtitle)\n",
    "    decorate(\n",
    "        xlabel=\"Year of survey\",\n",
    "        ylim=ylim,\n",
    "        legend=False,\n",
    "    )\n"
   ]
  },
  {
   "cell_type": "code",
   "execution_count": 116,
   "id": "f9fd739d",
   "metadata": {
    "tags": []
   },
   "outputs": [
    {
     "data": {
      "text/plain": [
       "(25.033897788631915, 70.66783136683462)"
      ]
     },
     "execution_count": 116,
     "metadata": {},
     "output_type": "execute_result"
    },
    {
     "data": {
      "image/png": "[encoded data removed]",
      "text/plain": [
       "<Figure size 450x262.5 with 1 Axes>"
      ]
     },
     "metadata": {},
     "output_type": "display_data"
    },
    {
     "data": {
      "application/javascript": [
       "\n",
       "            setTimeout(function() {\n",
       "                var nbb_cell_id = 116;\n",
       "                var nbb_unformatted_code = \"visualize_table(table)\\nplt.gca().get_ylim()\";\n",
       "                var nbb_formatted_code = \"visualize_table(table)\\nplt.gca().get_ylim()\";\n",
       "                var nbb_cells = Jupyter.notebook.get_cells();\n",
       "                for (var i = 0; i < nbb_cells.length; ++i) {\n",
       "                    if (nbb_cells[i].input_prompt_number == nbb_cell_id) {\n",
       "                        if (nbb_cells[i].get_text() == nbb_unformatted_code) {\n",
       "                             nbb_cells[i].set_text(nbb_formatted_code);\n",
       "                        }\n",
       "                        break;\n",
       "                    }\n",
       "                }\n",
       "            }, 500);\n",
       "            "
      ],
      "text/plain": [
       "<IPython.core.display.Javascript object>"
      ]
     },
     "metadata": {},
     "output_type": "display_data"
    }
   ],
   "source": [
    "visualize_table(table)"
   ]
  },
  {
   "cell_type": "markdown",
   "id": "15c26b32",
   "metadata": {
    "tags": []
   },
   "source": [
    "Copyright 2024 Allen Downey \n",
    "\n",
    "The code in this notebook and `utils.py` is under the [MIT license](https://mit-license.org/)."
   ]
  }
 ],
 "metadata": {
  "celltoolbar": "Tags",
  "kernelspec": {
   "display_name": "Python 3 (ipykernel)",
   "language": "python",
   "name": "python3"
  },
  "language_info": {
   "codemirror_mode": {
    "name": "ipython",
    "version": 3
   },
   "file_extension": ".py",
   "mimetype": "text/x-python",
   "name": "python",
   "nbconvert_exporter": "python",
   "pygments_lexer": "ipython3",
   "version": "3.10.12"
  }
 },
 "nbformat": 4,
 "nbformat_minor": 5
}
