{
 "cells": [
  {
   "cell_type": "markdown",
   "id": "4a54069c",
   "metadata": {
    "tags": []
   },
   "source": [
    "# So Many Bronze\n",
    "\n",
    "In a [recent video](https://www.youtube.com/watch?v=kuvKukJNmzI), Hank Green nerd-sniped me by asking a question I couldn't not answer.\n",
    "\n",
    "At [one point in the video](https://youtu.be/kuvKukJNmzI?t=319), he shows \"a graph of the last 20 years of Olympic games showing the gold, silver, and bronze medals from continental Europe. And it \"shows continental Europe having significantly more bronze medals than gold medals.\"\n",
    "\n",
    "<img width=\"400\" src=\"https://github.com/AllenDowney/ProbablyOverthinkingIt/raw/book/data/europe_medals.png\">\n",
    "\n",
    "Hank wonders why and offers a few possible explanations, finally settling on the one I think is correct:\n",
    "\n",
    "> ... the increased numbers of athletes who come from European countries weight them more toward bronze, which might actually be a more randomized medal. Placing gold might just be a better judge of who is first, because gold medal winners are more likely to be truer outliers, while bronze medal recipients are closer to the middle of the pack. And so randomness might play a bigger role, which would mean that having a larger number of athletes gives you more bronze medal winners and more athletes is what you get when you lump a bunch of countries together.\n",
    "\n",
    "In the following simulations, I show that this explanation is plausible.\n",
    "If you like this kind of analysis, you might like my book, [*Probably Overthinking It*](https://probablyoverthinking.it)."
   ]
  },
  {
   "cell_type": "markdown",
   "id": "c46810ae",
   "metadata": {},
   "source": [
    "[Click here to run this notebook on Colab](https://colab.research.google.com/github/AllenDowney/ProbablyOverthinkingIt/blob/book/examples/olympics.ipynb)."
   ]
  },
  {
   "cell_type": "code",
   "execution_count": 1,
   "id": "77f9e6bf",
   "metadata": {
    "tags": [
     "hide-cell"
    ]
   },
   "outputs": [],
   "source": [
    "try:\n",
    "    import empiricaldist\n",
    "except ImportError:\n",
    "    !pip install empiricaldist"
   ]
  },
  {
   "cell_type": "code",
   "execution_count": 2,
   "id": "87cab00c",
   "metadata": {
    "tags": [
     "hide-cell"
    ]
   },
   "outputs": [],
   "source": [
    "from os.path import basename, exists\n",
    "\n",
    "\n",
    "def download(url):\n",
    "    filename = basename(url)\n",
    "    if not exists(filename):\n",
    "        from urllib.request import urlretrieve\n",
    "\n",
    "        local, _ = urlretrieve(url, filename)\n",
    "        print(\"Downloaded \" + local)\n",
    "\n",
    "\n",
    "download(\n",
    "    \"https://github.com/AllenDowney/ProbablyOverthinkingIt/raw/book/examples/utils.py\"\n",
    ")"
   ]
  },
  {
   "cell_type": "code",
   "execution_count": 3,
   "id": "81d5b707",
   "metadata": {
    "tags": [
     "hide-cell"
    ]
   },
   "outputs": [],
   "source": [
    "import pandas as pd\n",
    "import numpy as np\n",
    "import matplotlib.pyplot as plt\n",
    "\n",
    "np.random.seed(42)\n",
    "plt.rcParams[\"figure.dpi\"] = 75\n",
    "plt.rcParams[\"figure.figsize\"] = [6, 3.5]"
   ]
  },
  {
   "cell_type": "markdown",
   "id": "f55fffeb",
   "metadata": {},
   "source": [
    "## Simulate the Olympics\n",
    "\n",
    "The following function takes a random distribution, generates a population of athletes with random abilities, and returns the top three. "
   ]
  },
  {
   "cell_type": "code",
   "execution_count": 4,
   "id": "4cad2eca",
   "metadata": {},
   "outputs": [],
   "source": [
    "def generate(dist, n, label):\n",
    "    \"\"\"Generate the top 3 athletes from a country with population n.\n",
    "    \n",
    "    dist: distribution of ability\n",
    "    n: population\n",
    "    label: name of country\n",
    "    \"\"\"\n",
    "    # generate a sample with the given size\n",
    "    sample = dist.rvs(n)\n",
    "    \n",
    "    # select the top 3\n",
    "    top3 = top_k = np.sort(sample)[-3:]\n",
    "    \n",
    "    # put the results in a DataFrame with country labels\n",
    "    df = pd.DataFrame(dict(ability=top3))\n",
    "    df['label'] = label\n",
    "    return df"
   ]
  },
  {
   "cell_type": "markdown",
   "id": "936b23fe",
   "metadata": {},
   "source": [
    "Here's an example based on a normal distribution with mean 500 and standard deviation 100."
   ]
  },
  {
   "cell_type": "code",
   "execution_count": 5,
   "id": "0daac4cc",
   "metadata": {},
   "outputs": [
    {
     "data": {
      "text/html": [
       "<div>\n",
       "<style scoped>\n",
       "    .dataframe tbody tr th:only-of-type {\n",
       "        vertical-align: middle;\n",
       "    }\n",
       "\n",
       "    .dataframe tbody tr th {\n",
       "        vertical-align: top;\n",
       "    }\n",
       "\n",
       "    .dataframe thead th {\n",
       "        text-align: right;\n",
       "    }\n",
       "</style>\n",
       "<table border=\"1\" class=\"dataframe\">\n",
       "  <thead>\n",
       "    <tr style=\"text-align: right;\">\n",
       "      <th></th>\n",
       "      <th>ability</th>\n",
       "      <th>label</th>\n",
       "    </tr>\n",
       "  </thead>\n",
       "  <tbody>\n",
       "    <tr>\n",
       "      <th>0</th>\n",
       "      <td>746.324211</td>\n",
       "      <td>Example</td>\n",
       "    </tr>\n",
       "    <tr>\n",
       "      <th>1</th>\n",
       "      <td>772.016917</td>\n",
       "      <td>Example</td>\n",
       "    </tr>\n",
       "    <tr>\n",
       "      <th>2</th>\n",
       "      <td>885.273149</td>\n",
       "      <td>Example</td>\n",
       "    </tr>\n",
       "  </tbody>\n",
       "</table>\n",
       "</div>"
      ],
      "text/plain": [
       "      ability    label\n",
       "0  746.324211  Example\n",
       "1  772.016917  Example\n",
       "2  885.273149  Example"
      ]
     },
     "execution_count": 5,
     "metadata": {},
     "output_type": "execute_result"
    }
   ],
   "source": [
    "from scipy.stats import norm\n",
    "\n",
    "dist = norm(500, 100)\n",
    "generate(dist, 300, 'Example')"
   ]
  },
  {
   "cell_type": "markdown",
   "id": "b0136fe6",
   "metadata": {},
   "source": [
    "Now let's simulate the trials in two regions: \n",
    "\n",
    "* A single large country called \"UnaGrandia\", with population of 30,000 athletes,\n",
    "\n",
    "* And a group of ten smaller countries called \"MultiParvia\" with 3,000 athletes each"
   ]
  },
  {
   "cell_type": "code",
   "execution_count": 6,
   "id": "b6f275bb",
   "metadata": {},
   "outputs": [],
   "source": [
    "def run_trials(dist):\n",
    "    \"\"\"Simulate the trials.\n",
    "    \n",
    "    dist: distribution of ability\n",
    "    \"\"\"\n",
    "    # generate athletes from 10 countries with population 30\n",
    "    dfs = [generate(dist, 3000, 'MultiParvia') for i in range(10)]\n",
    "    \n",
    "    # add in athletes from one country with population 300\n",
    "    dfs.append(generate(dist, 30000, 'UnaGrandia'))\n",
    "    \n",
    "    # combine into a single DataFrame\n",
    "    athletes = pd.concat(dfs)\n",
    "    return athletes"
   ]
  },
  {
   "cell_type": "markdown",
   "id": "ce126244",
   "metadata": {},
   "source": [
    "The result is 33 athletes, 3 from UnaGrandia and 30 from the various countries of MultiParvia."
   ]
  },
  {
   "cell_type": "code",
   "execution_count": 7,
   "id": "90cc74bc",
   "metadata": {},
   "outputs": [
    {
     "data": {
      "text/plain": [
       "label\n",
       "MultiParvia    30\n",
       "UnaGrandia      3\n",
       "Name: count, dtype: int64"
      ]
     },
     "execution_count": 7,
     "metadata": {},
     "output_type": "execute_result"
    }
   ],
   "source": [
    "athletes = run_trials(dist)\n",
    "athletes['label'].value_counts()"
   ]
  },
  {
   "cell_type": "markdown",
   "id": "6fca4917",
   "metadata": {},
   "source": [
    "Here's what the distribution of ability looks like."
   ]
  },
  {
   "cell_type": "code",
   "execution_count": 8,
   "id": "323b6f22",
   "metadata": {},
   "outputs": [
    {
     "data": {
      "image/png": "[encoded data removed]",
      "text/plain": [
       "<Figure size 450x262.5 with 1 Axes>"
      ]
     },
     "metadata": {},
     "output_type": "display_data"
    }
   ],
   "source": [
    "from empiricaldist import Surv\n",
    "from utils import decorate\n",
    "\n",
    "surv_ability = Surv.from_seq(athletes['ability'], normalize=False)\n",
    "surv_ability.plot(style='o', alpha=0.6, label='')\n",
    "decorate(xlabel='Ability', ylabel='Rank', title='Distribution of ability')"
   ]
  },
  {
   "cell_type": "markdown",
   "id": "d067c470",
   "metadata": {},
   "source": [
    "Because we've selected the largest values from the distribution of ability, the result is skewed to the right -- that is, there are a few extreme outliers who have the best chances of winning, and a middle of the pack that have fewer chances (with a reminder that it's a pretty elite pack to be in the middle of).\n",
    "\n",
    "Now let's simulate the competition.\n",
    "The following function takes the distribution of ability and an additional parameter, `std`, that controls the randomness of the results.\n",
    "\n",
    "* When `std` is 0, the outcome of the competition depends only on the abilities of the athletes -- the athlete with the highest ability wins every time.\n",
    "\n",
    "* As `std` increases, the outcome is more random, so an athlete with a lower ability has a better chance of beating an athlete with higher ability."
   ]
  },
  {
   "cell_type": "code",
   "execution_count": 9,
   "id": "475ce475",
   "metadata": {},
   "outputs": [],
   "source": [
    "medals = ['Gold', 'Silver', 'Bronze']\n",
    "\n",
    "def compete(dist, std=0):\n",
    "    \"\"\"Simulate a competition.\n",
    "    \n",
    "    dist: distribution of ability\n",
    "    std: standard deviation of randomness\n",
    "    \"\"\"\n",
    "    # run the trials\n",
    "    athletes = run_trials(dist)\n",
    "    \n",
    "    # add a random factor to ability to get scores\n",
    "    randomness = norm(0, std).rvs(len(athletes))\n",
    "    athletes['score'] = athletes['ability'] + randomness\n",
    "    \n",
    "    # select and return athlete with top 3 scores\n",
    "    podium = athletes.nlargest(3, columns='score')\n",
    "    podium['medal'] = medals\n",
    "    return podium"
   ]
  },
  {
   "cell_type": "markdown",
   "id": "3b5445ad",
   "metadata": {},
   "source": [
    "The result shows the abilities of each winner, which region they are from, their score in the competition, and the medal they won."
   ]
  },
  {
   "cell_type": "code",
   "execution_count": 10,
   "id": "deb0ad8b",
   "metadata": {},
   "outputs": [
    {
     "data": {
      "text/html": [
       "<div>\n",
       "<style scoped>\n",
       "    .dataframe tbody tr th:only-of-type {\n",
       "        vertical-align: middle;\n",
       "    }\n",
       "\n",
       "    .dataframe tbody tr th {\n",
       "        vertical-align: top;\n",
       "    }\n",
       "\n",
       "    .dataframe thead th {\n",
       "        text-align: right;\n",
       "    }\n",
       "</style>\n",
       "<table border=\"1\" class=\"dataframe\">\n",
       "  <thead>\n",
       "    <tr style=\"text-align: right;\">\n",
       "      <th></th>\n",
       "      <th>ability</th>\n",
       "      <th>label</th>\n",
       "      <th>score</th>\n",
       "      <th>medal</th>\n",
       "    </tr>\n",
       "  </thead>\n",
       "  <tbody>\n",
       "    <tr>\n",
       "      <th>2</th>\n",
       "      <td>920.202590</td>\n",
       "      <td>UnaGrandia</td>\n",
       "      <td>926.182143</td>\n",
       "      <td>Gold</td>\n",
       "    </tr>\n",
       "    <tr>\n",
       "      <th>0</th>\n",
       "      <td>876.618008</td>\n",
       "      <td>UnaGrandia</td>\n",
       "      <td>884.973475</td>\n",
       "      <td>Silver</td>\n",
       "    </tr>\n",
       "    <tr>\n",
       "      <th>1</th>\n",
       "      <td>876.623360</td>\n",
       "      <td>UnaGrandia</td>\n",
       "      <td>877.887775</td>\n",
       "      <td>Bronze</td>\n",
       "    </tr>\n",
       "  </tbody>\n",
       "</table>\n",
       "</div>"
      ],
      "text/plain": [
       "      ability       label       score   medal\n",
       "2  920.202590  UnaGrandia  926.182143    Gold\n",
       "0  876.618008  UnaGrandia  884.973475  Silver\n",
       "1  876.623360  UnaGrandia  877.887775  Bronze"
      ]
     },
     "execution_count": 10,
     "metadata": {},
     "output_type": "execute_result"
    }
   ],
   "source": [
    "compete(dist, std=10)"
   ]
  },
  {
   "cell_type": "markdown",
   "id": "b5dde01d",
   "metadata": {},
   "source": [
    "Now let's simulate multiple events.\n",
    "The following function takes the distribution of ability again, along with the number of events and the amount of randomness in the outcomes."
   ]
  },
  {
   "cell_type": "code",
   "execution_count": 11,
   "id": "4231c541",
   "metadata": {},
   "outputs": [],
   "source": [
    "def games(dist, num_events, std=0):\n",
    "    \"\"\"Simulate multiple games.\n",
    "    \n",
    "    dist: distribution of abilities\n",
    "    num_events: how many events are contested\n",
    "    \"\"\"\n",
    "    dfs = [compete(dist, std) for i in range(num_events)]\n",
    "    results = pd.concat(dfs)\n",
    "    xtab = pd.crosstab(results['label'], results['medal'])\n",
    "    return xtab[medals]"
   ]
  },
  {
   "cell_type": "markdown",
   "id": "dce45180",
   "metadata": {},
   "source": [
    "The result is a table that shows the number of each kind of medal won by each region."
   ]
  },
  {
   "cell_type": "code",
   "execution_count": 12,
   "id": "0b3f2ba8",
   "metadata": {},
   "outputs": [
    {
     "data": {
      "text/html": [
       "<div>\n",
       "<style scoped>\n",
       "    .dataframe tbody tr th:only-of-type {\n",
       "        vertical-align: middle;\n",
       "    }\n",
       "\n",
       "    .dataframe tbody tr th {\n",
       "        vertical-align: top;\n",
       "    }\n",
       "\n",
       "    .dataframe thead th {\n",
       "        text-align: right;\n",
       "    }\n",
       "</style>\n",
       "<table border=\"1\" class=\"dataframe\">\n",
       "  <thead>\n",
       "    <tr style=\"text-align: right;\">\n",
       "      <th>medal</th>\n",
       "      <th>Gold</th>\n",
       "      <th>Silver</th>\n",
       "      <th>Bronze</th>\n",
       "    </tr>\n",
       "    <tr>\n",
       "      <th>label</th>\n",
       "      <th></th>\n",
       "      <th></th>\n",
       "      <th></th>\n",
       "    </tr>\n",
       "  </thead>\n",
       "  <tbody>\n",
       "    <tr>\n",
       "      <th>MultiParvia</th>\n",
       "      <td>53</td>\n",
       "      <td>49</td>\n",
       "      <td>69</td>\n",
       "    </tr>\n",
       "    <tr>\n",
       "      <th>UnaGrandia</th>\n",
       "      <td>47</td>\n",
       "      <td>51</td>\n",
       "      <td>31</td>\n",
       "    </tr>\n",
       "  </tbody>\n",
       "</table>\n",
       "</div>"
      ],
      "text/plain": [
       "medal        Gold  Silver  Bronze\n",
       "label                            \n",
       "MultiParvia    53      49      69\n",
       "UnaGrandia     47      51      31"
      ]
     },
     "execution_count": 12,
     "metadata": {},
     "output_type": "execute_result"
    }
   ],
   "source": [
    "table = games(dist, 100, std=20)\n",
    "table"
   ]
  },
  {
   "cell_type": "markdown",
   "id": "2e639213",
   "metadata": {},
   "source": [
    "The following function plots the results."
   ]
  },
  {
   "cell_type": "code",
   "execution_count": 13,
   "id": "41df0e7a",
   "metadata": {},
   "outputs": [],
   "source": [
    "colors = ['#FFD700', '#C0C0C0', '#CD7F32']\n",
    "\n",
    "def plot_results(tables):\n",
    "    plt.figure(figsize=(10, 3))\n",
    "\n",
    "    for i, table in enumerate(tables):\n",
    "        ax = plt.subplot(1, 6, i+1)\n",
    "        plt.axhline(y=500, ls='--', color='gray', alpha=0.4)\n",
    "        table.loc['MultiParvia'].plot.bar()\n",
    "        plt.xticks(rotation=45)\n",
    "        for bar, color in zip(ax.patches, colors):\n",
    "            bar.set_color(color)\n",
    "            \n",
    "        if i>0:\n",
    "            plt.yticks([])\n",
    "        xlabel = 2004 + 4*i\n",
    "        decorate(xlabel=xlabel, ylim=[0, 700], legend=False)\n",
    "        \n",
    "        for spine in ax.spines.values():\n",
    "            spine.set_visible(False)"
   ]
  },
  {
   "cell_type": "markdown",
   "id": "5dc46805",
   "metadata": {},
   "source": [
    "If there is no randomness in the outcomes, each region wins about half of the medals, and there is no excess of bronze medals for MultiParvia."
   ]
  },
  {
   "cell_type": "code",
   "execution_count": 14,
   "id": "6d793d6c",
   "metadata": {},
   "outputs": [
    {
     "data": {
      "image/png": "[encoded data removed]",
      "text/plain": [
       "<Figure size 750x225 with 6 Axes>"
      ]
     },
     "metadata": {},
     "output_type": "display_data"
    }
   ],
   "source": [
    "tables = [games(dist, 1000, std=0) for i in range(6)]\n",
    "\n",
    "plot_results(tables)"
   ]
  },
  {
   "cell_type": "markdown",
   "id": "26d869c8",
   "metadata": {},
   "source": [
    "However, if we add enough randomness that the outcome is not certain, we see a pattern that resembles the actual data:\n",
    "\n",
    "* The two regions get about the same number of gold medals.\n",
    "\n",
    "* MultiParvia gets more bronze medals, and possibly more silver medals, too."
   ]
  },
  {
   "cell_type": "code",
   "execution_count": 15,
   "id": "b4831187",
   "metadata": {},
   "outputs": [
    {
     "data": {
      "image/png": "[encoded data removed]",
      "text/plain": [
       "<Figure size 750x225 with 6 Axes>"
      ]
     },
     "metadata": {},
     "output_type": "display_data"
    }
   ],
   "source": [
    "tables = [games(dist, 1000, std=20) for i in range(6)]\n",
    "\n",
    "plot_results(tables)"
   ]
  },
  {
   "cell_type": "markdown",
   "id": "aac4bc41",
   "metadata": {},
   "source": [
    "The results here are more consistent that what we see in the real data because we simulated 1000 events.\n",
    "\n",
    "If we increase the amount of randomness, the advantage of sending more athletes to the games is even stronger -- and it looks like it has an effect on the number of gold medals as well."
   ]
  },
  {
   "cell_type": "code",
   "execution_count": 16,
   "id": "f700dbd4",
   "metadata": {},
   "outputs": [
    {
     "data": {
      "image/png": "[encoded data removed]",
      "text/plain": [
       "<Figure size 750x225 with 6 Axes>"
      ]
     },
     "metadata": {},
     "output_type": "display_data"
    }
   ],
   "source": [
    "tables = [games(dist, 1000, std=30) for i in range(6)]\n",
    "\n",
    "plot_results(tables)"
   ]
  },
  {
   "cell_type": "markdown",
   "id": "e3e7baf6",
   "metadata": {},
   "source": [
    "## Lognormal distribution of ability\n",
    "\n",
    "I was curious to know how the distribution of ability affects the result, so I tried the simulations with a lognormal distribution, too.\n",
    "This choice might be more realistic because the distribution of ability in many fields follows a lognormal distribution -- see Chapter 4 of [*Probably Overthinking It*](https://probablyoverthinking.it) or [this article](https://www.allendowney.com/blog/2023/11/21/life-in-a-lognormal-world/)).\n",
    "\n",
    "Here's a lognormal distribution that's a good match for the distribution of Elo scores in chess."
   ]
  },
  {
   "cell_type": "code",
   "execution_count": 17,
   "id": "b064602a",
   "metadata": {},
   "outputs": [],
   "source": [
    "from scipy.stats import lognorm\n",
    "\n",
    "m, s = 7.08959557, 0.32758329\n",
    "dist2 = lognorm(s=s, scale=np.exp(m))"
   ]
  },
  {
   "cell_type": "markdown",
   "id": "52bfcff8",
   "metadata": {},
   "source": [
    "Here's what it looks like."
   ]
  },
  {
   "cell_type": "code",
   "execution_count": 21,
   "id": "07a3a076",
   "metadata": {},
   "outputs": [
    {
     "data": {
      "image/png": "[encoded data removed]",
      "text/plain": [
       "<Figure size 450x262.5 with 1 Axes>"
      ]
     },
     "metadata": {},
     "output_type": "display_data"
    }
   ],
   "source": [
    "low, high = 200, 3200\n",
    "qs = np.linspace(low, high)\n",
    "ps = dist2.cdf(qs) * 100\n",
    "plt.plot(qs, ps)\n",
    "\n",
    "decorate(xlabel=\"Ability\", ylabel=\"Percentile rank\")"
   ]
  },
  {
   "cell_type": "markdown",
   "id": "f4138f6d",
   "metadata": {},
   "source": [
    "If we run the competition with this distribution, we can see that the scale of abilities is higher."
   ]
  },
  {
   "cell_type": "code",
   "execution_count": 19,
   "id": "6e30994c",
   "metadata": {},
   "outputs": [
    {
     "data": {
      "text/html": [
       "<div>\n",
       "<style scoped>\n",
       "    .dataframe tbody tr th:only-of-type {\n",
       "        vertical-align: middle;\n",
       "    }\n",
       "\n",
       "    .dataframe tbody tr th {\n",
       "        vertical-align: top;\n",
       "    }\n",
       "\n",
       "    .dataframe thead th {\n",
       "        text-align: right;\n",
       "    }\n",
       "</style>\n",
       "<table border=\"1\" class=\"dataframe\">\n",
       "  <thead>\n",
       "    <tr style=\"text-align: right;\">\n",
       "      <th></th>\n",
       "      <th>ability</th>\n",
       "      <th>label</th>\n",
       "      <th>score</th>\n",
       "      <th>medal</th>\n",
       "    </tr>\n",
       "  </thead>\n",
       "  <tbody>\n",
       "    <tr>\n",
       "      <th>0</th>\n",
       "      <td>4329.190762</td>\n",
       "      <td>UnaGrandia</td>\n",
       "      <td>4471.560302</td>\n",
       "      <td>Gold</td>\n",
       "    </tr>\n",
       "    <tr>\n",
       "      <th>2</th>\n",
       "      <td>4579.134646</td>\n",
       "      <td>UnaGrandia</td>\n",
       "      <td>4471.322015</td>\n",
       "      <td>Silver</td>\n",
       "    </tr>\n",
       "    <tr>\n",
       "      <th>2</th>\n",
       "      <td>4267.159885</td>\n",
       "      <td>MultiParvia</td>\n",
       "      <td>4272.824660</td>\n",
       "      <td>Bronze</td>\n",
       "    </tr>\n",
       "  </tbody>\n",
       "</table>\n",
       "</div>"
      ],
      "text/plain": [
       "       ability        label        score   medal\n",
       "0  4329.190762   UnaGrandia  4471.560302    Gold\n",
       "2  4579.134646   UnaGrandia  4471.322015  Silver\n",
       "2  4267.159885  MultiParvia  4272.824660  Bronze"
      ]
     },
     "execution_count": 19,
     "metadata": {},
     "output_type": "execute_result"
    }
   ],
   "source": [
    "compete(dist2, std=100)"
   ]
  },
  {
   "cell_type": "markdown",
   "id": "97ee4caf",
   "metadata": {},
   "source": [
    "And here's what the results look like."
   ]
  },
  {
   "cell_type": "code",
   "execution_count": 20,
   "id": "addbf712",
   "metadata": {},
   "outputs": [
    {
     "data": {
      "image/png": "[encoded data removed]",
      "text/plain": [
       "<Figure size 750x225 with 6 Axes>"
      ]
     },
     "metadata": {},
     "output_type": "display_data"
    }
   ],
   "source": [
    "tables = [games(dist2, 1000, std=200) for i in range(6)]\n",
    "plot_results(tables)"
   ]
  },
  {
   "cell_type": "markdown",
   "id": "65f5a4d4",
   "metadata": {},
   "source": [
    "They are similar to the results with a normal distribution of abilities, so it seems like the shape of the distribution is not an essential reason for the excess of bronze medals."
   ]
  },
  {
   "cell_type": "markdown",
   "id": "dc20c6ea",
   "metadata": {},
   "source": [
    "## Conclusions\n",
    "\n",
    "I think Hank is right. If you have two regions with the same population, and one is allowed to send more athletes to the games, it is not much more likely to win gold medals, but notably more likely to win silver and bronze medals -- and the size of the excess depends on how much randomness there is in the outcome of the events.\n",
    "\n",
    "If you like this kind of analysis, you might like my book, [*Probably Overthinking It*](https://probablyoverthinking.it)."
   ]
  },
  {
   "cell_type": "markdown",
   "id": "15c26b32",
   "metadata": {
    "tags": []
   },
   "source": [
    "Copyright 2024 Allen Downey \n",
    "\n",
    "The code in this notebook and `utils.py` is under the [MIT license](https://mit-license.org/)."
   ]
  },
  {
   "cell_type": "code",
   "execution_count": null,
   "id": "cf5f18bc",
   "metadata": {},
   "outputs": [],
   "source": []
  }
 ],
 "metadata": {
  "celltoolbar": "Tags",
  "kernelspec": {
   "display_name": "Python 3 (ipykernel)",
   "language": "python",
   "name": "python3"
  },
  "language_info": {
   "codemirror_mode": {
    "name": "ipython",
    "version": 3
   },
   "file_extension": ".py",
   "mimetype": "text/x-python",
   "name": "python",
   "nbconvert_exporter": "python",
   "pygments_lexer": "ipython3",
   "version": "3.10.12"
  }
 },
 "nbformat": 4,
 "nbformat_minor": 5
}
