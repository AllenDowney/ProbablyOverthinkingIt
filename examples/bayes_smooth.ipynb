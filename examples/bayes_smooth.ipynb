{
 "cells": [
  {
   "cell_type": "markdown",
   "id": "4a54069c",
   "metadata": {
    "tags": []
   },
   "source": [
    "# Bayesian Smoothing"
   ]
  },
  {
   "cell_type": "markdown",
   "id": "c46810ae",
   "metadata": {
    "tags": [
     "remove-cell"
    ]
   },
   "source": [
    "This example is based no Chapter 10 of *[Probably Overthinking It: How to Use Data to Answer Questions, Avoid Statistical Traps, and Make Better Decisions](https://greenteapress.com/wp/probably-overthinking-it)*, University of Chicago Press, 2023."
   ]
  },
  {
   "cell_type": "code",
   "execution_count": 1,
   "id": "d1a7e245",
   "metadata": {},
   "outputs": [
    {
     "data": {
      "application/javascript": [
       "\n",
       "            setTimeout(function() {\n",
       "                var nbb_cell_id = 1;\n",
       "                var nbb_unformatted_code = \"%load_ext nb_black\\n%load_ext autoreload\\n%autoreload 2\";\n",
       "                var nbb_formatted_code = \"%load_ext nb_black\\n%load_ext autoreload\\n%autoreload 2\";\n",
       "                var nbb_cells = Jupyter.notebook.get_cells();\n",
       "                for (var i = 0; i < nbb_cells.length; ++i) {\n",
       "                    if (nbb_cells[i].input_prompt_number == nbb_cell_id) {\n",
       "                        if (nbb_cells[i].get_text() == nbb_unformatted_code) {\n",
       "                             nbb_cells[i].set_text(nbb_formatted_code);\n",
       "                        }\n",
       "                        break;\n",
       "                    }\n",
       "                }\n",
       "            }, 500);\n",
       "            "
      ],
      "text/plain": [
       "<IPython.core.display.Javascript object>"
      ]
     },
     "metadata": {},
     "output_type": "display_data"
    }
   ],
   "source": [
    "%load_ext nb_black\n",
    "%load_ext autoreload\n",
    "%autoreload 2"
   ]
  },
  {
   "cell_type": "code",
   "execution_count": 2,
   "id": "da5ed279",
   "metadata": {
    "tags": [
     "hide-cell"
    ]
   },
   "outputs": [
    {
     "data": {
      "application/javascript": [
       "\n",
       "            setTimeout(function() {\n",
       "                var nbb_cell_id = 2;\n",
       "                var nbb_unformatted_code = \"# Install empiricaldist if we don't already have it\\n\\ntry:\\n    import empiricaldist\\nexcept ImportError:\\n    !pip install empiricaldist\";\n",
       "                var nbb_formatted_code = \"# Install empiricaldist if we don't already have it\\n\\ntry:\\n    import empiricaldist\\nexcept ImportError:\\n    !pip install empiricaldist\";\n",
       "                var nbb_cells = Jupyter.notebook.get_cells();\n",
       "                for (var i = 0; i < nbb_cells.length; ++i) {\n",
       "                    if (nbb_cells[i].input_prompt_number == nbb_cell_id) {\n",
       "                        if (nbb_cells[i].get_text() == nbb_unformatted_code) {\n",
       "                             nbb_cells[i].set_text(nbb_formatted_code);\n",
       "                        }\n",
       "                        break;\n",
       "                    }\n",
       "                }\n",
       "            }, 500);\n",
       "            "
      ],
      "text/plain": [
       "<IPython.core.display.Javascript object>"
      ]
     },
     "metadata": {},
     "output_type": "display_data"
    }
   ],
   "source": [
    "# Install empiricaldist if we don't already have it\n",
    "\n",
    "try:\n",
    "    import empiricaldist\n",
    "except ImportError:\n",
    "    !pip install empiricaldist"
   ]
  },
  {
   "cell_type": "code",
   "execution_count": 3,
   "id": "87cab00c",
   "metadata": {
    "tags": [
     "hide-cell"
    ]
   },
   "outputs": [
    {
     "data": {
      "application/javascript": [
       "\n",
       "            setTimeout(function() {\n",
       "                var nbb_cell_id = 3;\n",
       "                var nbb_unformatted_code = \"# download utils.py\\n\\nfrom os.path import basename, exists\\n\\n\\ndef download(url):\\n    filename = basename(url)\\n    if not exists(filename):\\n        from urllib.request import urlretrieve\\n\\n        local, _ = urlretrieve(url, filename)\\n        print(\\\"Downloaded \\\" + local)\\n\\n\\ndownload(\\n    \\\"https://github.com/AllenDowney/ProbablyOverthinkingIt/raw/book/notebooks/utils.py\\\"\\n)\";\n",
       "                var nbb_formatted_code = \"# download utils.py\\n\\nfrom os.path import basename, exists\\n\\n\\ndef download(url):\\n    filename = basename(url)\\n    if not exists(filename):\\n        from urllib.request import urlretrieve\\n\\n        local, _ = urlretrieve(url, filename)\\n        print(\\\"Downloaded \\\" + local)\\n\\n\\ndownload(\\n    \\\"https://github.com/AllenDowney/ProbablyOverthinkingIt/raw/book/notebooks/utils.py\\\"\\n)\";\n",
       "                var nbb_cells = Jupyter.notebook.get_cells();\n",
       "                for (var i = 0; i < nbb_cells.length; ++i) {\n",
       "                    if (nbb_cells[i].input_prompt_number == nbb_cell_id) {\n",
       "                        if (nbb_cells[i].get_text() == nbb_unformatted_code) {\n",
       "                             nbb_cells[i].set_text(nbb_formatted_code);\n",
       "                        }\n",
       "                        break;\n",
       "                    }\n",
       "                }\n",
       "            }, 500);\n",
       "            "
      ],
      "text/plain": [
       "<IPython.core.display.Javascript object>"
      ]
     },
     "metadata": {},
     "output_type": "display_data"
    }
   ],
   "source": [
    "# download utils.py\n",
    "\n",
    "from os.path import basename, exists\n",
    "\n",
    "\n",
    "def download(url):\n",
    "    filename = basename(url)\n",
    "    if not exists(filename):\n",
    "        from urllib.request import urlretrieve\n",
    "\n",
    "        local, _ = urlretrieve(url, filename)\n",
    "        print(\"Downloaded \" + local)\n",
    "\n",
    "\n",
    "download(\n",
    "    \"https://github.com/AllenDowney/ProbablyOverthinkingIt/raw/book/notebooks/utils.py\"\n",
    ")"
   ]
  },
  {
   "cell_type": "code",
   "execution_count": 4,
   "id": "81d5b707",
   "metadata": {
    "tags": [
     "hide-cell"
    ]
   },
   "outputs": [
    {
     "data": {
      "application/javascript": [
       "\n",
       "            setTimeout(function() {\n",
       "                var nbb_cell_id = 4;\n",
       "                var nbb_unformatted_code = \"import pandas as pd\\nimport numpy as np\\nimport matplotlib.pyplot as plt\\nimport seaborn as sns\\n\\nfrom utils import decorate\\n\\n# Set the random seed so we get the same results every time\\nnp.random.seed(17)\";\n",
       "                var nbb_formatted_code = \"import pandas as pd\\nimport numpy as np\\nimport matplotlib.pyplot as plt\\nimport seaborn as sns\\n\\nfrom utils import decorate\\n\\n# Set the random seed so we get the same results every time\\nnp.random.seed(17)\";\n",
       "                var nbb_cells = Jupyter.notebook.get_cells();\n",
       "                for (var i = 0; i < nbb_cells.length; ++i) {\n",
       "                    if (nbb_cells[i].input_prompt_number == nbb_cell_id) {\n",
       "                        if (nbb_cells[i].get_text() == nbb_unformatted_code) {\n",
       "                             nbb_cells[i].set_text(nbb_formatted_code);\n",
       "                        }\n",
       "                        break;\n",
       "                    }\n",
       "                }\n",
       "            }, 500);\n",
       "            "
      ],
      "text/plain": [
       "<IPython.core.display.Javascript object>"
      ]
     },
     "metadata": {},
     "output_type": "display_data"
    }
   ],
   "source": [
    "import pandas as pd\n",
    "import numpy as np\n",
    "import matplotlib.pyplot as plt\n",
    "import seaborn as sns\n",
    "\n",
    "from utils import decorate\n",
    "\n",
    "# Set the random seed so we get the same results every time\n",
    "np.random.seed(17)"
   ]
  },
  {
   "cell_type": "code",
   "execution_count": 5,
   "id": "5b8c8edb",
   "metadata": {},
   "outputs": [
    {
     "data": {
      "application/javascript": [
       "\n",
       "            setTimeout(function() {\n",
       "                var nbb_cell_id = 5;\n",
       "                var nbb_unformatted_code = \"# This dataset is prepared in GssExtract/notebooks/02_make_extract-2022_3a.ipynb\\n\\nDATA_PATH = \\\"https://github.com/AllenDowney/GssExtract/raw/main/data/interim/\\\"\\nfilename = \\\"gss_extract_2022_3a.hdf\\\"\\ndownload(DATA_PATH + filename)\";\n",
       "                var nbb_formatted_code = \"# This dataset is prepared in GssExtract/notebooks/02_make_extract-2022_3a.ipynb\\n\\nDATA_PATH = \\\"https://github.com/AllenDowney/GssExtract/raw/main/data/interim/\\\"\\nfilename = \\\"gss_extract_2022_3a.hdf\\\"\\ndownload(DATA_PATH + filename)\";\n",
       "                var nbb_cells = Jupyter.notebook.get_cells();\n",
       "                for (var i = 0; i < nbb_cells.length; ++i) {\n",
       "                    if (nbb_cells[i].input_prompt_number == nbb_cell_id) {\n",
       "                        if (nbb_cells[i].get_text() == nbb_unformatted_code) {\n",
       "                             nbb_cells[i].set_text(nbb_formatted_code);\n",
       "                        }\n",
       "                        break;\n",
       "                    }\n",
       "                }\n",
       "            }, 500);\n",
       "            "
      ],
      "text/plain": [
       "<IPython.core.display.Javascript object>"
      ]
     },
     "metadata": {},
     "output_type": "display_data"
    }
   ],
   "source": [
    "# This dataset is prepared in GssExtract/notebooks/02_make_extract-2022_3a.ipynb\n",
    "\n",
    "DATA_PATH = \"https://github.com/AllenDowney/GssExtract/raw/main/data/interim/\"\n",
    "filename = \"gss_extract_2022_3a.hdf\"\n",
    "download(DATA_PATH + filename)"
   ]
  },
  {
   "cell_type": "code",
   "execution_count": 6,
   "id": "f033ca49",
   "metadata": {
    "tags": []
   },
   "outputs": [
    {
     "data": {
      "text/plain": [
       "(72390, 54)"
      ]
     },
     "execution_count": 6,
     "metadata": {},
     "output_type": "execute_result"
    },
    {
     "data": {
      "application/javascript": [
       "\n",
       "            setTimeout(function() {\n",
       "                var nbb_cell_id = 6;\n",
       "                var nbb_unformatted_code = \"gss = pd.read_hdf(filename, \\\"gss\\\")\\ngss.shape\";\n",
       "                var nbb_formatted_code = \"gss = pd.read_hdf(filename, \\\"gss\\\")\\ngss.shape\";\n",
       "                var nbb_cells = Jupyter.notebook.get_cells();\n",
       "                for (var i = 0; i < nbb_cells.length; ++i) {\n",
       "                    if (nbb_cells[i].input_prompt_number == nbb_cell_id) {\n",
       "                        if (nbb_cells[i].get_text() == nbb_unformatted_code) {\n",
       "                             nbb_cells[i].set_text(nbb_formatted_code);\n",
       "                        }\n",
       "                        break;\n",
       "                    }\n",
       "                }\n",
       "            }, 500);\n",
       "            "
      ],
      "text/plain": [
       "<IPython.core.display.Javascript object>"
      ]
     },
     "metadata": {},
     "output_type": "display_data"
    }
   ],
   "source": [
    "gss = pd.read_hdf(filename, \"gss\")\n",
    "gss.shape"
   ]
  },
  {
   "cell_type": "code",
   "execution_count": 7,
   "id": "c83782fc",
   "metadata": {},
   "outputs": [
    {
     "data": {
      "text/plain": [
       "755"
      ]
     },
     "execution_count": 7,
     "metadata": {},
     "output_type": "execute_result"
    },
    {
     "data": {
      "application/javascript": [
       "\n",
       "            setTimeout(function() {\n",
       "                var nbb_cell_id = 7;\n",
       "                var nbb_unformatted_code = \"gss[\\\"cohort\\\"] = gss[\\\"cohort\\\"].replace(9999, np.nan)\\ngss[\\\"cohort\\\"].isna().sum()\";\n",
       "                var nbb_formatted_code = \"gss[\\\"cohort\\\"] = gss[\\\"cohort\\\"].replace(9999, np.nan)\\ngss[\\\"cohort\\\"].isna().sum()\";\n",
       "                var nbb_cells = Jupyter.notebook.get_cells();\n",
       "                for (var i = 0; i < nbb_cells.length; ++i) {\n",
       "                    if (nbb_cells[i].input_prompt_number == nbb_cell_id) {\n",
       "                        if (nbb_cells[i].get_text() == nbb_unformatted_code) {\n",
       "                             nbb_cells[i].set_text(nbb_formatted_code);\n",
       "                        }\n",
       "                        break;\n",
       "                    }\n",
       "                }\n",
       "            }, 500);\n",
       "            "
      ],
      "text/plain": [
       "<IPython.core.display.Javascript object>"
      ]
     },
     "metadata": {},
     "output_type": "display_data"
    }
   ],
   "source": [
    "gss[\"cohort\"] = gss[\"cohort\"].replace(9999, np.nan)\n",
    "gss[\"cohort\"].isna().sum()"
   ]
  },
  {
   "cell_type": "code",
   "execution_count": 8,
   "id": "37dc0bc9",
   "metadata": {},
   "outputs": [
    {
     "data": {
      "text/plain": [
       "cohort10\n",
       "1880.0       45\n",
       "1890.0      501\n",
       "1900.0     1722\n",
       "1910.0     3616\n",
       "1920.0     5862\n",
       "1930.0     7115\n",
       "1940.0    10925\n",
       "1950.0    14273\n",
       "1960.0    11699\n",
       "1970.0     7681\n",
       "1980.0     5088\n",
       "1990.0     2563\n",
       "2000.0      545\n",
       "NaN         755\n",
       "Name: count, dtype: int64"
      ]
     },
     "execution_count": 8,
     "metadata": {},
     "output_type": "execute_result"
    },
    {
     "data": {
      "application/javascript": [
       "\n",
       "            setTimeout(function() {\n",
       "                var nbb_cell_id = 8;\n",
       "                var nbb_unformatted_code = \"bins = np.arange(1879, 2011, 10)\\nlabels = bins[:-1] + 1\\n\\ngss[\\\"cohort10\\\"] = pd.cut(gss[\\\"cohort\\\"], bins, labels=labels).astype(float)\\ngss[\\\"cohort10\\\"].value_counts(dropna=False).sort_index()\";\n",
       "                var nbb_formatted_code = \"bins = np.arange(1879, 2011, 10)\\nlabels = bins[:-1] + 1\\n\\ngss[\\\"cohort10\\\"] = pd.cut(gss[\\\"cohort\\\"], bins, labels=labels).astype(float)\\ngss[\\\"cohort10\\\"].value_counts(dropna=False).sort_index()\";\n",
       "                var nbb_cells = Jupyter.notebook.get_cells();\n",
       "                for (var i = 0; i < nbb_cells.length; ++i) {\n",
       "                    if (nbb_cells[i].input_prompt_number == nbb_cell_id) {\n",
       "                        if (nbb_cells[i].get_text() == nbb_unformatted_code) {\n",
       "                             nbb_cells[i].set_text(nbb_formatted_code);\n",
       "                        }\n",
       "                        break;\n",
       "                    }\n",
       "                }\n",
       "            }, 500);\n",
       "            "
      ],
      "text/plain": [
       "<IPython.core.display.Javascript object>"
      ]
     },
     "metadata": {},
     "output_type": "display_data"
    }
   ],
   "source": [
    "def round_to_decade(x):\n",
    "    return (x // 10) * 10\n",
    "\n",
    "\n",
    "gss[\"cohort10\"] = gss[\"cohort\"].apply(round_to_decade)\n",
    "gss[\"cohort10\"].value_counts(dropna=False).sort_index()"
   ]
  },
  {
   "cell_type": "code",
   "execution_count": 9,
   "id": "736789af",
   "metadata": {},
   "outputs": [
    {
     "data": {
      "application/javascript": [
       "\n",
       "            setTimeout(function() {\n",
       "                var nbb_cell_id = 9;\n",
       "                var nbb_unformatted_code = \"from optimism import (\\n    plot_titles,\\n    plot_by_year,\\n    plot_by_cohort,\\n    make_table,\\n    plot_group,\\n    plot_table,\\n)\";\n",
       "                var nbb_formatted_code = \"from optimism import (\\n    plot_titles,\\n    plot_by_year,\\n    plot_by_cohort,\\n    make_table,\\n    plot_group,\\n    plot_table,\\n)\";\n",
       "                var nbb_cells = Jupyter.notebook.get_cells();\n",
       "                for (var i = 0; i < nbb_cells.length; ++i) {\n",
       "                    if (nbb_cells[i].input_prompt_number == nbb_cell_id) {\n",
       "                        if (nbb_cells[i].get_text() == nbb_unformatted_code) {\n",
       "                             nbb_cells[i].set_text(nbb_formatted_code);\n",
       "                        }\n",
       "                        break;\n",
       "                    }\n",
       "                }\n",
       "            }, 500);\n",
       "            "
      ],
      "text/plain": [
       "<IPython.core.display.Javascript object>"
      ]
     },
     "metadata": {},
     "output_type": "display_data"
    }
   ],
   "source": [
    "from smooth import (\n",
    "    plot_titles,\n",
    "    plot_by_year,\n",
    "    plot_by_cohort,\n",
    "    make_table,\n",
    "    plot_group,\n",
    "    plot_table,\n",
    ")"
   ]
  },
  {
   "cell_type": "code",
   "execution_count": 10,
   "id": "21739377",
   "metadata": {},
   "outputs": [
    {
     "data": {
      "application/javascript": [
       "\n",
       "            setTimeout(function() {\n",
       "                var nbb_cell_id = 10;\n",
       "                var nbb_unformatted_code = \"def decorate_by_year():\\n    plot_titles(title, subtitle)\\n    decorate(\\n        xlabel=\\\"Year of Survey\\\",\\n        xlim=xlim,\\n        ylim=ylim,\\n    )\";\n",
       "                var nbb_formatted_code = \"def decorate_by_year():\\n    plot_titles(title, subtitle)\\n    decorate(\\n        xlabel=\\\"Year of Survey\\\",\\n        xlim=xlim,\\n        ylim=ylim,\\n    )\";\n",
       "                var nbb_cells = Jupyter.notebook.get_cells();\n",
       "                for (var i = 0; i < nbb_cells.length; ++i) {\n",
       "                    if (nbb_cells[i].input_prompt_number == nbb_cell_id) {\n",
       "                        if (nbb_cells[i].get_text() == nbb_unformatted_code) {\n",
       "                             nbb_cells[i].set_text(nbb_formatted_code);\n",
       "                        }\n",
       "                        break;\n",
       "                    }\n",
       "                }\n",
       "            }, 500);\n",
       "            "
      ],
      "text/plain": [
       "<IPython.core.display.Javascript object>"
      ]
     },
     "metadata": {},
     "output_type": "display_data"
    }
   ],
   "source": [
    "def decorate_by_year():\n",
    "    plot_titles(title, subtitle)\n",
    "    decorate(\n",
    "        xlabel=\"Year of Survey\",\n",
    "        xlim=xlim,\n",
    "        ylim=ylim,\n",
    "    )"
   ]
  },
  {
   "cell_type": "code",
   "execution_count": 11,
   "id": "b90dcc49",
   "metadata": {},
   "outputs": [
    {
     "data": {
      "application/javascript": [
       "\n",
       "            setTimeout(function() {\n",
       "                var nbb_cell_id = 11;\n",
       "                var nbb_unformatted_code = \"def decorate_by_cohort():\\n    plot_titles(title, subtitle)\\n    decorate(\\n        xlabel=\\\"Year of Birth\\\",\\n        xlim=xlim,\\n        ylim=ylim,\\n    )\";\n",
       "                var nbb_formatted_code = \"def decorate_by_cohort():\\n    plot_titles(title, subtitle)\\n    decorate(\\n        xlabel=\\\"Year of Birth\\\",\\n        xlim=xlim,\\n        ylim=ylim,\\n    )\";\n",
       "                var nbb_cells = Jupyter.notebook.get_cells();\n",
       "                for (var i = 0; i < nbb_cells.length; ++i) {\n",
       "                    if (nbb_cells[i].input_prompt_number == nbb_cell_id) {\n",
       "                        if (nbb_cells[i].get_text() == nbb_unformatted_code) {\n",
       "                             nbb_cells[i].set_text(nbb_formatted_code);\n",
       "                        }\n",
       "                        break;\n",
       "                    }\n",
       "                }\n",
       "            }, 500);\n",
       "            "
      ],
      "text/plain": [
       "<IPython.core.display.Javascript object>"
      ]
     },
     "metadata": {},
     "output_type": "display_data"
    }
   ],
   "source": [
    "def decorate_by_cohort():\n",
    "    plot_titles(title, subtitle)\n",
    "    decorate(\n",
    "        xlabel=\"Year of Birth\",\n",
    "        xlim=xlim,\n",
    "        ylim=ylim,\n",
    "    )"
   ]
  },
  {
   "cell_type": "code",
   "execution_count": 12,
   "id": "833f2bd1",
   "metadata": {},
   "outputs": [
    {
     "data": {
      "application/javascript": [
       "\n",
       "            setTimeout(function() {\n",
       "                var nbb_cell_id = 12;\n",
       "                var nbb_unformatted_code = \"def decorate_group():\\n    decorate(\\n        xlabel=\\\"Year of survey\\\",\\n        xlim=xlim,\\n        ylim=ylim,\\n        loc=\\\"lower left\\\",\\n    )\";\n",
       "                var nbb_formatted_code = \"def decorate_group():\\n    decorate(\\n        xlabel=\\\"Year of survey\\\",\\n        xlim=xlim,\\n        ylim=ylim,\\n        loc=\\\"lower left\\\",\\n    )\";\n",
       "                var nbb_cells = Jupyter.notebook.get_cells();\n",
       "                for (var i = 0; i < nbb_cells.length; ++i) {\n",
       "                    if (nbb_cells[i].input_prompt_number == nbb_cell_id) {\n",
       "                        if (nbb_cells[i].get_text() == nbb_unformatted_code) {\n",
       "                             nbb_cells[i].set_text(nbb_formatted_code);\n",
       "                        }\n",
       "                        break;\n",
       "                    }\n",
       "                }\n",
       "            }, 500);\n",
       "            "
      ],
      "text/plain": [
       "<IPython.core.display.Javascript object>"
      ]
     },
     "metadata": {},
     "output_type": "display_data"
    }
   ],
   "source": [
    "def decorate_group():\n",
    "    decorate(\n",
    "        xlabel=\"Year of survey\",\n",
    "        xlim=xlim,\n",
    "        ylim=ylim,\n",
    "        loc=\"lower left\",\n",
    "    )"
   ]
  },
  {
   "cell_type": "code",
   "execution_count": 13,
   "id": "5d36746c",
   "metadata": {},
   "outputs": [
    {
     "data": {
      "application/javascript": [
       "\n",
       "            setTimeout(function() {\n",
       "                var nbb_cell_id = 13;\n",
       "                var nbb_unformatted_code = \"def decorate_table():\\n    decorate(\\n        xlabel=\\\"Year of survey\\\",\\n        xlim=xlim,\\n        ylim=ylim,\\n        legend=False,\\n    )\";\n",
       "                var nbb_formatted_code = \"def decorate_table():\\n    decorate(\\n        xlabel=\\\"Year of survey\\\",\\n        xlim=xlim,\\n        ylim=ylim,\\n        legend=False,\\n    )\";\n",
       "                var nbb_cells = Jupyter.notebook.get_cells();\n",
       "                for (var i = 0; i < nbb_cells.length; ++i) {\n",
       "                    if (nbb_cells[i].input_prompt_number == nbb_cell_id) {\n",
       "                        if (nbb_cells[i].get_text() == nbb_unformatted_code) {\n",
       "                             nbb_cells[i].set_text(nbb_formatted_code);\n",
       "                        }\n",
       "                        break;\n",
       "                    }\n",
       "                }\n",
       "            }, 500);\n",
       "            "
      ],
      "text/plain": [
       "<IPython.core.display.Javascript object>"
      ]
     },
     "metadata": {},
     "output_type": "display_data"
    }
   ],
   "source": [
    "def decorate_table():\n",
    "    decorate(\n",
    "        xlabel=\"Year of survey\",\n",
    "        xlim=xlim,\n",
    "        ylim=ylim,\n",
    "        legend=False,\n",
    "    )"
   ]
  },
  {
   "cell_type": "markdown",
   "id": "df789949",
   "metadata": {},
   "source": [
    "## helpful"
   ]
  },
  {
   "cell_type": "code",
   "execution_count": 14,
   "id": "9012be07",
   "metadata": {
    "tags": []
   },
   "outputs": [
    {
     "data": {
      "application/javascript": [
       "\n",
       "            setTimeout(function() {\n",
       "                var nbb_cell_id = 14;\n",
       "                var nbb_unformatted_code = \"# https://gssdataexplorer.norc.org/variables/439/vshow\\n\\n# 1 = helpful\\n# 2 = look out for themselves\\n# 3 = depends\";\n",
       "                var nbb_formatted_code = \"# https://gssdataexplorer.norc.org/variables/439/vshow\\n\\n# 1 = helpful\\n# 2 = look out for themselves\\n# 3 = depends\";\n",
       "                var nbb_cells = Jupyter.notebook.get_cells();\n",
       "                for (var i = 0; i < nbb_cells.length; ++i) {\n",
       "                    if (nbb_cells[i].input_prompt_number == nbb_cell_id) {\n",
       "                        if (nbb_cells[i].get_text() == nbb_unformatted_code) {\n",
       "                             nbb_cells[i].set_text(nbb_formatted_code);\n",
       "                        }\n",
       "                        break;\n",
       "                    }\n",
       "                }\n",
       "            }, 500);\n",
       "            "
      ],
      "text/plain": [
       "<IPython.core.display.Javascript object>"
      ]
     },
     "metadata": {},
     "output_type": "display_data"
    }
   ],
   "source": [
    "# https://gssdataexplorer.norc.org/variables/439/vshow\n",
    "\n",
    "# 1 = helpful\n",
    "# 2 = look out for themselves\n",
    "# 3 = depends"
   ]
  },
  {
   "cell_type": "code",
   "execution_count": 15,
   "id": "4cc42a60",
   "metadata": {},
   "outputs": [
    {
     "data": {
      "text/plain": [
       "helpful\n",
       "1.0    20471\n",
       "2.0    18972\n",
       "3.0     2971\n",
       "Name: count, dtype: int64"
      ]
     },
     "execution_count": 15,
     "metadata": {},
     "output_type": "execute_result"
    },
    {
     "data": {
      "application/javascript": [
       "\n",
       "            setTimeout(function() {\n",
       "                var nbb_cell_id = 15;\n",
       "                var nbb_unformatted_code = \"yvar = \\\"helpful\\\"\\nyval = 1\\n\\nseries = gss[yvar]\\nseries.value_counts()\";\n",
       "                var nbb_formatted_code = \"yvar = \\\"helpful\\\"\\nyval = 1\\n\\nseries = gss[yvar]\\nseries.value_counts()\";\n",
       "                var nbb_cells = Jupyter.notebook.get_cells();\n",
       "                for (var i = 0; i < nbb_cells.length; ++i) {\n",
       "                    if (nbb_cells[i].input_prompt_number == nbb_cell_id) {\n",
       "                        if (nbb_cells[i].get_text() == nbb_unformatted_code) {\n",
       "                             nbb_cells[i].set_text(nbb_formatted_code);\n",
       "                        }\n",
       "                        break;\n",
       "                    }\n",
       "                }\n",
       "            }, 500);\n",
       "            "
      ],
      "text/plain": [
       "<IPython.core.display.Javascript object>"
      ]
     },
     "metadata": {},
     "output_type": "display_data"
    }
   ],
   "source": [
    "yvar = \"helpful\"\n",
    "yval = 1\n",
    "\n",
    "series = gss[yvar]\n",
    "series.value_counts()"
   ]
  },
  {
   "cell_type": "code",
   "execution_count": 16,
   "id": "ee22fb59",
   "metadata": {
    "tags": []
   },
   "outputs": [
    {
     "data": {
      "application/javascript": [
       "\n",
       "            setTimeout(function() {\n",
       "                var nbb_cell_id = 16;\n",
       "                var nbb_unformatted_code = \"question = \\\"\\\"\\\"Would you say that most of the time people try to be helpful, \\nor that they are mostly just looking out for themselves?\\n\\\"\\\"\\\"\\n\\ntitle = \\\"Would people be helpful or look out for themselves?\\\"\\nsubtitle = \\\"Percent saying helpful\\\"\\nxlim = [1970.5, 2024.5]\\nylim = [15, 75]\";\n",
       "                var nbb_formatted_code = \"question = \\\"\\\"\\\"Would you say that most of the time people try to be helpful, \\nor that they are mostly just looking out for themselves?\\n\\\"\\\"\\\"\\n\\ntitle = \\\"Would people be helpful or look out for themselves?\\\"\\nsubtitle = \\\"Percent saying helpful\\\"\\nxlim = [1970.5, 2024.5]\\nylim = [15, 75]\";\n",
       "                var nbb_cells = Jupyter.notebook.get_cells();\n",
       "                for (var i = 0; i < nbb_cells.length; ++i) {\n",
       "                    if (nbb_cells[i].input_prompt_number == nbb_cell_id) {\n",
       "                        if (nbb_cells[i].get_text() == nbb_unformatted_code) {\n",
       "                             nbb_cells[i].set_text(nbb_formatted_code);\n",
       "                        }\n",
       "                        break;\n",
       "                    }\n",
       "                }\n",
       "            }, 500);\n",
       "            "
      ],
      "text/plain": [
       "<IPython.core.display.Javascript object>"
      ]
     },
     "metadata": {},
     "output_type": "display_data"
    }
   ],
   "source": [
    "question = \"\"\"Would you say that most of the time people try to be helpful, \n",
    "or that they are mostly just looking out for themselves?\n",
    "\"\"\"\n",
    "\n",
    "title = \"Would people be helpful or look out for themselves?\"\n",
    "subtitle = \"Percent saying helpful\"\n",
    "xlim = [1970.5, 2024.5]\n",
    "ylim = [15, 75]"
   ]
  },
  {
   "cell_type": "code",
   "execution_count": 17,
   "id": "730dbba4",
   "metadata": {},
   "outputs": [
    {
     "data": {
      "image/png": "[encoded data removed]",
      "text/plain": [
       "<Figure size 450x262.5 with 1 Axes>"
      ]
     },
     "metadata": {},
     "output_type": "display_data"
    },
    {
     "data": {
      "application/javascript": [
       "\n",
       "            setTimeout(function() {\n",
       "                var nbb_cell_id = 17;\n",
       "                var nbb_unformatted_code = \"plot_by_year(gss, yvar, yval)\\ndecorate_by_year()\\nplt.savefig(f\\\"optimism_{yvar}_by_year\\\", dpi=300)\";\n",
       "                var nbb_formatted_code = \"plot_by_year(gss, yvar, yval)\\ndecorate_by_year()\\nplt.savefig(f\\\"optimism_{yvar}_by_year\\\", dpi=300)\";\n",
       "                var nbb_cells = Jupyter.notebook.get_cells();\n",
       "                for (var i = 0; i < nbb_cells.length; ++i) {\n",
       "                    if (nbb_cells[i].input_prompt_number == nbb_cell_id) {\n",
       "                        if (nbb_cells[i].get_text() == nbb_unformatted_code) {\n",
       "                             nbb_cells[i].set_text(nbb_formatted_code);\n",
       "                        }\n",
       "                        break;\n",
       "                    }\n",
       "                }\n",
       "            }, 500);\n",
       "            "
      ],
      "text/plain": [
       "<IPython.core.display.Javascript object>"
      ]
     },
     "metadata": {},
     "output_type": "display_data"
    }
   ],
   "source": [
    "plot_by_year(gss, yvar, yval)\n",
    "decorate_by_year()\n",
    "plt.savefig(f\"optimism_{yvar}_by_year\", dpi=300)"
   ]
  },
  {
   "cell_type": "code",
   "execution_count": 18,
   "id": "b67faf7e",
   "metadata": {},
   "outputs": [
    {
     "data": {
      "image/png": "[encoded data removed]",
      "text/plain": [
       "<Figure size 450x262.5 with 1 Axes>"
      ]
     },
     "metadata": {},
     "output_type": "display_data"
    },
    {
     "data": {
      "application/javascript": [
       "\n",
       "            setTimeout(function() {\n",
       "                var nbb_cell_id = 18;\n",
       "                var nbb_unformatted_code = \"plot_by_cohort(gss, yvar, yval)\\ndecorate_by_cohort()\\nplt.savefig(f\\\"optimism_{yvar}_by_cohort\\\", dpi=300)\";\n",
       "                var nbb_formatted_code = \"plot_by_cohort(gss, yvar, yval)\\ndecorate_by_cohort()\\nplt.savefig(f\\\"optimism_{yvar}_by_cohort\\\", dpi=300)\";\n",
       "                var nbb_cells = Jupyter.notebook.get_cells();\n",
       "                for (var i = 0; i < nbb_cells.length; ++i) {\n",
       "                    if (nbb_cells[i].input_prompt_number == nbb_cell_id) {\n",
       "                        if (nbb_cells[i].get_text() == nbb_unformatted_code) {\n",
       "                             nbb_cells[i].set_text(nbb_formatted_code);\n",
       "                        }\n",
       "                        break;\n",
       "                    }\n",
       "                }\n",
       "            }, 500);\n",
       "            "
      ],
      "text/plain": [
       "<IPython.core.display.Javascript object>"
      ]
     },
     "metadata": {},
     "output_type": "display_data"
    }
   ],
   "source": [
    "plot_by_cohort(gss, yvar, yval)\n",
    "decorate_by_cohort()\n",
    "plt.savefig(f\"optimism_{yvar}_by_cohort\", dpi=300)"
   ]
  },
  {
   "cell_type": "code",
   "execution_count": 19,
   "id": "59580ea8",
   "metadata": {
    "tags": []
   },
   "outputs": [
    {
     "data": {
      "application/javascript": [
       "\n",
       "            setTimeout(function() {\n",
       "                var nbb_cell_id = 19;\n",
       "                var nbb_unformatted_code = \"subset = gss.dropna(subset=[\\\"cohort\\\", yvar]).copy()\\nsubset[\\\"cohort10\\\"] = subset[\\\"cohort10\\\"].astype(int)\\n\\ntable = make_table(subset, \\\"year\\\", yvar, \\\"cohort10\\\", yval)\";\n",
       "                var nbb_formatted_code = \"subset = gss.dropna(subset=[\\\"cohort\\\", yvar]).copy()\\nsubset[\\\"cohort10\\\"] = subset[\\\"cohort10\\\"].astype(int)\\n\\ntable = make_table(subset, \\\"year\\\", yvar, \\\"cohort10\\\", yval)\";\n",
       "                var nbb_cells = Jupyter.notebook.get_cells();\n",
       "                for (var i = 0; i < nbb_cells.length; ++i) {\n",
       "                    if (nbb_cells[i].input_prompt_number == nbb_cell_id) {\n",
       "                        if (nbb_cells[i].get_text() == nbb_unformatted_code) {\n",
       "                             nbb_cells[i].set_text(nbb_formatted_code);\n",
       "                        }\n",
       "                        break;\n",
       "                    }\n",
       "                }\n",
       "            }, 500);\n",
       "            "
      ],
      "text/plain": [
       "<IPython.core.display.Javascript object>"
      ]
     },
     "metadata": {},
     "output_type": "display_data"
    }
   ],
   "source": [
    "subset = gss.dropna(subset=[\"cohort\", yvar]).copy()\n",
    "subset[\"cohort10\"] = subset[\"cohort10\"].astype(int)\n",
    "\n",
    "table = make_table(subset, \"year\", yvar, \"cohort10\", yval)"
   ]
  },
  {
   "cell_type": "code",
   "execution_count": 20,
   "id": "c82baf24",
   "metadata": {
    "tags": []
   },
   "outputs": [
    {
     "data": {
      "image/png": "[encoded data removed]",
      "text/plain": [
       "<Figure size 450x262.5 with 1 Axes>"
      ]
     },
     "metadata": {},
     "output_type": "display_data"
    },
    {
     "data": {
      "application/javascript": [
       "\n",
       "            setTimeout(function() {\n",
       "                var nbb_cell_id = 20;\n",
       "                var nbb_unformatted_code = \"plot_group(table, 2000)\\ndecorate_group()\\nplt.savefig(f\\\"optimism_{yvar}_one_cohort\\\", dpi=300)\";\n",
       "                var nbb_formatted_code = \"plot_group(table, 2000)\\ndecorate_group()\\nplt.savefig(f\\\"optimism_{yvar}_one_cohort\\\", dpi=300)\";\n",
       "                var nbb_cells = Jupyter.notebook.get_cells();\n",
       "                for (var i = 0; i < nbb_cells.length; ++i) {\n",
       "                    if (nbb_cells[i].input_prompt_number == nbb_cell_id) {\n",
       "                        if (nbb_cells[i].get_text() == nbb_unformatted_code) {\n",
       "                             nbb_cells[i].set_text(nbb_formatted_code);\n",
       "                        }\n",
       "                        break;\n",
       "                    }\n",
       "                }\n",
       "            }, 500);\n",
       "            "
      ],
      "text/plain": [
       "<IPython.core.display.Javascript object>"
      ]
     },
     "metadata": {},
     "output_type": "display_data"
    }
   ],
   "source": [
    "plot_group(table, 2000)\n",
    "decorate_group()\n",
    "plt.savefig(f\"optimism_{yvar}_one_cohort\", dpi=300)"
   ]
  },
  {
   "cell_type": "code",
   "execution_count": 21,
   "id": "f9fd739d",
   "metadata": {
    "tags": []
   },
   "outputs": [
    {
     "data": {
      "image/png": "[encoded data removed]",
      "text/plain": [
       "<Figure size 450x262.5 with 1 Axes>"
      ]
     },
     "metadata": {},
     "output_type": "display_data"
    },
    {
     "data": {
      "application/javascript": [
       "\n",
       "            setTimeout(function() {\n",
       "                var nbb_cell_id = 21;\n",
       "                var nbb_unformatted_code = \"nudge = {\\\"1960s\\\": 0, \\\"1970s\\\": 0}\\nplot_table(table, nudge)\\ndecorate_table()\\nplt.savefig(f\\\"optimism_{yvar}_by_cohort_over_year\\\", dpi=300)\";\n",
       "                var nbb_formatted_code = \"nudge = {\\\"1960s\\\": 0, \\\"1970s\\\": 0}\\nplot_table(table, nudge)\\ndecorate_table()\\nplt.savefig(f\\\"optimism_{yvar}_by_cohort_over_year\\\", dpi=300)\";\n",
       "                var nbb_cells = Jupyter.notebook.get_cells();\n",
       "                for (var i = 0; i < nbb_cells.length; ++i) {\n",
       "                    if (nbb_cells[i].input_prompt_number == nbb_cell_id) {\n",
       "                        if (nbb_cells[i].get_text() == nbb_unformatted_code) {\n",
       "                             nbb_cells[i].set_text(nbb_formatted_code);\n",
       "                        }\n",
       "                        break;\n",
       "                    }\n",
       "                }\n",
       "            }, 500);\n",
       "            "
      ],
      "text/plain": [
       "<IPython.core.display.Javascript object>"
      ]
     },
     "metadata": {},
     "output_type": "display_data"
    }
   ],
   "source": [
    "nudge = {\"1960s\": 0, \"1970s\": 0}\n",
    "plot_table(table, nudge)\n",
    "decorate_table()\n",
    "plt.savefig(f\"optimism_{yvar}_by_cohort_over_year\", dpi=300)"
   ]
  },
  {
   "cell_type": "code",
   "execution_count": 54,
   "id": "4c3fc2a9",
   "metadata": {},
   "outputs": [
    {
     "data": {
      "application/javascript": [
       "\n",
       "            setTimeout(function() {\n",
       "                var nbb_cell_id = 54;\n",
       "                var nbb_unformatted_code = \"def joint_contour(xs, ys, p, cmap=\\\"Blues\\\"):\\n    X, Y = np.meshgrid(xs, ys, indexing=\\\"ij\\\")\\n    plt.contour(X, Y, p, cmap=cmap)\";\n",
       "                var nbb_formatted_code = \"def joint_contour(xs, ys, p, cmap=\\\"Blues\\\"):\\n    X, Y = np.meshgrid(xs, ys, indexing=\\\"ij\\\")\\n    plt.contour(X, Y, p, cmap=cmap)\";\n",
       "                var nbb_cells = Jupyter.notebook.get_cells();\n",
       "                for (var i = 0; i < nbb_cells.length; ++i) {\n",
       "                    if (nbb_cells[i].input_prompt_number == nbb_cell_id) {\n",
       "                        if (nbb_cells[i].get_text() == nbb_unformatted_code) {\n",
       "                             nbb_cells[i].set_text(nbb_formatted_code);\n",
       "                        }\n",
       "                        break;\n",
       "                    }\n",
       "                }\n",
       "            }, 500);\n",
       "            "
      ],
      "text/plain": [
       "<IPython.core.display.Javascript object>"
      ]
     },
     "metadata": {},
     "output_type": "display_data"
    }
   ],
   "source": [
    "def joint_contour(xs, ys, p, cmap=\"Blues\"):\n",
    "    X, Y = np.meshgrid(xs, ys, indexing=\"ij\")\n",
    "    plt.contour(X, Y, p, cmap=cmap)"
   ]
  },
  {
   "cell_type": "code",
   "execution_count": 55,
   "id": "2c0fc2cf",
   "metadata": {},
   "outputs": [
    {
     "data": {
      "text/plain": [
       "<Axes: xlabel='x'>"
      ]
     },
     "execution_count": 55,
     "metadata": {},
     "output_type": "execute_result"
    },
    {
     "data": {
      "image/png": "[encoded data removed]",
      "text/plain": [
       "<Figure size 450x262.5 with 1 Axes>"
      ]
     },
     "metadata": {},
     "output_type": "display_data"
    },
    {
     "data": {
      "application/javascript": [
       "\n",
       "            setTimeout(function() {\n",
       "                var nbb_cell_id = 55;\n",
       "                var nbb_unformatted_code = \"from optimism import bayesian_smooth\\n\\nxvar = \\\"year\\\"\\nyvar = \\\"helpful\\\"\\nyval = 1\\n\\nsubset = gss.query(\\\"cohort10==2000\\\").dropna(subset=[xvar, yvar])\\n\\nactual, pred = bayesian_smooth(subset, xvar, yvar, yval)\\nactual.plot(style=\\\"o\\\")\\npred.plot()\";\n",
       "                var nbb_formatted_code = \"from optimism import bayesian_smooth\\n\\nxvar = \\\"year\\\"\\nyvar = \\\"helpful\\\"\\nyval = 1\\n\\nsubset = gss.query(\\\"cohort10==2000\\\").dropna(subset=[xvar, yvar])\\n\\nactual, pred = bayesian_smooth(subset, xvar, yvar, yval)\\nactual.plot(style=\\\"o\\\")\\npred.plot()\";\n",
       "                var nbb_cells = Jupyter.notebook.get_cells();\n",
       "                for (var i = 0; i < nbb_cells.length; ++i) {\n",
       "                    if (nbb_cells[i].input_prompt_number == nbb_cell_id) {\n",
       "                        if (nbb_cells[i].get_text() == nbb_unformatted_code) {\n",
       "                             nbb_cells[i].set_text(nbb_formatted_code);\n",
       "                        }\n",
       "                        break;\n",
       "                    }\n",
       "                }\n",
       "            }, 500);\n",
       "            "
      ],
      "text/plain": [
       "<IPython.core.display.Javascript object>"
      ]
     },
     "metadata": {},
     "output_type": "display_data"
    }
   ],
   "source": [
    "from smooth import bayesian_smooth\n",
    "\n",
    "xvar = \"year\"\n",
    "yvar = \"helpful\"\n",
    "yval = 1\n",
    "\n",
    "subset = gss.query(\"cohort10==2000\").dropna(subset=[xvar, yvar])\n",
    "\n",
    "actual, pred = bayesian_smooth(subset, xvar, yvar, yval)\n",
    "actual.plot(style=\"o\")\n",
    "pred.plot()"
   ]
  },
  {
   "cell_type": "code",
   "execution_count": 56,
   "id": "72c2802a",
   "metadata": {},
   "outputs": [
    {
     "data": {
      "text/plain": [
       "2022.0"
      ]
     },
     "execution_count": 56,
     "metadata": {},
     "output_type": "execute_result"
    },
    {
     "data": {
      "application/javascript": [
       "\n",
       "            setTimeout(function() {\n",
       "                var nbb_cell_id = 56;\n",
       "                var nbb_unformatted_code = \"m = subset[\\\"year\\\"].median()\\nm\";\n",
       "                var nbb_formatted_code = \"m = subset[\\\"year\\\"].median()\\nm\";\n",
       "                var nbb_cells = Jupyter.notebook.get_cells();\n",
       "                for (var i = 0; i < nbb_cells.length; ++i) {\n",
       "                    if (nbb_cells[i].input_prompt_number == nbb_cell_id) {\n",
       "                        if (nbb_cells[i].get_text() == nbb_unformatted_code) {\n",
       "                             nbb_cells[i].set_text(nbb_formatted_code);\n",
       "                        }\n",
       "                        break;\n",
       "                    }\n",
       "                }\n",
       "            }, 500);\n",
       "            "
      ],
      "text/plain": [
       "<IPython.core.display.Javascript object>"
      ]
     },
     "metadata": {},
     "output_type": "display_data"
    }
   ],
   "source": [
    "m = subset[\"year\"].median()\n",
    "m"
   ]
  },
  {
   "cell_type": "code",
   "execution_count": 57,
   "id": "3037387c",
   "metadata": {},
   "outputs": [
    {
     "data": {
      "application/javascript": [
       "\n",
       "            setTimeout(function() {\n",
       "                var nbb_cell_id = 57;\n",
       "                var nbb_unformatted_code = \"subset[\\\"y\\\"] = subset[yvar] == yval\\nsubset[\\\"x\\\"] = subset[\\\"year\\\"] - m\";\n",
       "                var nbb_formatted_code = \"subset[\\\"y\\\"] = subset[yvar] == yval\\nsubset[\\\"x\\\"] = subset[\\\"year\\\"] - m\";\n",
       "                var nbb_cells = Jupyter.notebook.get_cells();\n",
       "                for (var i = 0; i < nbb_cells.length; ++i) {\n",
       "                    if (nbb_cells[i].input_prompt_number == nbb_cell_id) {\n",
       "                        if (nbb_cells[i].get_text() == nbb_unformatted_code) {\n",
       "                             nbb_cells[i].set_text(nbb_formatted_code);\n",
       "                        }\n",
       "                        break;\n",
       "                    }\n",
       "                }\n",
       "            }, 500);\n",
       "            "
      ],
      "text/plain": [
       "<IPython.core.display.Javascript object>"
      ]
     },
     "metadata": {},
     "output_type": "display_data"
    }
   ],
   "source": [
    "subset[\"y\"] = subset[yvar] == yval\n",
    "subset[\"x\"] = subset[\"year\"] - m"
   ]
  },
  {
   "cell_type": "code",
   "execution_count": 58,
   "id": "f8600249",
   "metadata": {},
   "outputs": [
    {
     "data": {
      "text/plain": [
       "x\n",
       "-4.0    28\n",
       " 0.0    98\n",
       "Name: y, dtype: int64"
      ]
     },
     "execution_count": 58,
     "metadata": {},
     "output_type": "execute_result"
    },
    {
     "data": {
      "application/javascript": [
       "\n",
       "            setTimeout(function() {\n",
       "                var nbb_cell_id = 58;\n",
       "                var nbb_unformatted_code = \"ns = subset.groupby(\\\"x\\\")[\\\"y\\\"].count()\\nns\";\n",
       "                var nbb_formatted_code = \"ns = subset.groupby(\\\"x\\\")[\\\"y\\\"].count()\\nns\";\n",
       "                var nbb_cells = Jupyter.notebook.get_cells();\n",
       "                for (var i = 0; i < nbb_cells.length; ++i) {\n",
       "                    if (nbb_cells[i].input_prompt_number == nbb_cell_id) {\n",
       "                        if (nbb_cells[i].get_text() == nbb_unformatted_code) {\n",
       "                             nbb_cells[i].set_text(nbb_formatted_code);\n",
       "                        }\n",
       "                        break;\n",
       "                    }\n",
       "                }\n",
       "            }, 500);\n",
       "            "
      ],
      "text/plain": [
       "<IPython.core.display.Javascript object>"
      ]
     },
     "metadata": {},
     "output_type": "display_data"
    }
   ],
   "source": [
    "ns = subset.groupby(\"x\")[\"y\"].count()\n",
    "ns"
   ]
  },
  {
   "cell_type": "code",
   "execution_count": 59,
   "id": "91952b96",
   "metadata": {},
   "outputs": [
    {
     "data": {
      "text/plain": [
       "x\n",
       "-4.0    11\n",
       " 0.0    15\n",
       "Name: y, dtype: int64"
      ]
     },
     "execution_count": 59,
     "metadata": {},
     "output_type": "execute_result"
    },
    {
     "data": {
      "application/javascript": [
       "\n",
       "            setTimeout(function() {\n",
       "                var nbb_cell_id = 59;\n",
       "                var nbb_unformatted_code = \"ks = subset.groupby(\\\"x\\\")[\\\"y\\\"].sum()\\nxs = ks.index\\nks\";\n",
       "                var nbb_formatted_code = \"ks = subset.groupby(\\\"x\\\")[\\\"y\\\"].sum()\\nxs = ks.index\\nks\";\n",
       "                var nbb_cells = Jupyter.notebook.get_cells();\n",
       "                for (var i = 0; i < nbb_cells.length; ++i) {\n",
       "                    if (nbb_cells[i].input_prompt_number == nbb_cell_id) {\n",
       "                        if (nbb_cells[i].get_text() == nbb_unformatted_code) {\n",
       "                             nbb_cells[i].set_text(nbb_formatted_code);\n",
       "                        }\n",
       "                        break;\n",
       "                    }\n",
       "                }\n",
       "            }, 500);\n",
       "            "
      ],
      "text/plain": [
       "<IPython.core.display.Javascript object>"
      ]
     },
     "metadata": {},
     "output_type": "display_data"
    }
   ],
   "source": [
    "ks = subset.groupby(\"x\")[\"y\"].sum()\n",
    "xs = ks.index\n",
    "ks"
   ]
  },
  {
   "cell_type": "code",
   "execution_count": 60,
   "id": "2fd9db03",
   "metadata": {},
   "outputs": [
    {
     "data": {
      "text/plain": [
       "x\n",
       "2018.0    0.392857\n",
       "2022.0    0.153061\n",
       "Name: y, dtype: float64"
      ]
     },
     "execution_count": 60,
     "metadata": {},
     "output_type": "execute_result"
    },
    {
     "data": {
      "application/javascript": [
       "\n",
       "            setTimeout(function() {\n",
       "                var nbb_cell_id = 60;\n",
       "                var nbb_unformatted_code = \"actual = ks / ns\\nactual.index = xs + m\\nactual\";\n",
       "                var nbb_formatted_code = \"actual = ks / ns\\nactual.index = xs + m\\nactual\";\n",
       "                var nbb_cells = Jupyter.notebook.get_cells();\n",
       "                for (var i = 0; i < nbb_cells.length; ++i) {\n",
       "                    if (nbb_cells[i].input_prompt_number == nbb_cell_id) {\n",
       "                        if (nbb_cells[i].get_text() == nbb_unformatted_code) {\n",
       "                             nbb_cells[i].set_text(nbb_formatted_code);\n",
       "                        }\n",
       "                        break;\n",
       "                    }\n",
       "                }\n",
       "            }, 500);\n",
       "            "
      ],
      "text/plain": [
       "<IPython.core.display.Javascript object>"
      ]
     },
     "metadata": {},
     "output_type": "display_data"
    }
   ],
   "source": [
    "actual = ks / ns\n",
    "actual.index = xs + m\n",
    "actual"
   ]
  },
  {
   "cell_type": "code",
   "execution_count": 61,
   "id": "34e417dd",
   "metadata": {},
   "outputs": [
    {
     "data": {
      "image/png": "[encoded data removed]",
      "text/plain": [
       "<Figure size 450x262.5 with 1 Axes>"
      ]
     },
     "metadata": {},
     "output_type": "display_data"
    },
    {
     "data": {
      "application/javascript": [
       "\n",
       "            setTimeout(function() {\n",
       "                var nbb_cell_id = 61;\n",
       "                var nbb_unformatted_code = \"from scipy.stats import norm\\n\\nalphas = np.linspace(-3, 3, 91)\\nalpha_prior = norm.pdf(alphas, 0, 3)\\nalpha_prior /= alpha_prior.sum()\\n\\nplt.plot(alphas, alpha_prior)\\ndecorate(ylim=[0, alpha_prior.max()])\";\n",
       "                var nbb_formatted_code = \"from scipy.stats import norm\\n\\nalphas = np.linspace(-3, 3, 91)\\nalpha_prior = norm.pdf(alphas, 0, 3)\\nalpha_prior /= alpha_prior.sum()\\n\\nplt.plot(alphas, alpha_prior)\\ndecorate(ylim=[0, alpha_prior.max()])\";\n",
       "                var nbb_cells = Jupyter.notebook.get_cells();\n",
       "                for (var i = 0; i < nbb_cells.length; ++i) {\n",
       "                    if (nbb_cells[i].input_prompt_number == nbb_cell_id) {\n",
       "                        if (nbb_cells[i].get_text() == nbb_unformatted_code) {\n",
       "                             nbb_cells[i].set_text(nbb_formatted_code);\n",
       "                        }\n",
       "                        break;\n",
       "                    }\n",
       "                }\n",
       "            }, 500);\n",
       "            "
      ],
      "text/plain": [
       "<IPython.core.display.Javascript object>"
      ]
     },
     "metadata": {},
     "output_type": "display_data"
    }
   ],
   "source": [
    "from scipy.stats import norm\n",
    "\n",
    "alphas = np.linspace(-3, 3, 91)\n",
    "alpha_prior = norm.pdf(alphas, 0, 3)\n",
    "alpha_prior /= alpha_prior.sum()\n",
    "\n",
    "plt.plot(alphas, alpha_prior)\n",
    "decorate(ylim=[0, alpha_prior.max()])"
   ]
  },
  {
   "cell_type": "code",
   "execution_count": 62,
   "id": "1187939c",
   "metadata": {},
   "outputs": [
    {
     "data": {
      "image/png": "[encoded data removed]",
      "text/plain": [
       "<Figure size 450x262.5 with 1 Axes>"
      ]
     },
     "metadata": {},
     "output_type": "display_data"
    },
    {
     "data": {
      "application/javascript": [
       "\n",
       "            setTimeout(function() {\n",
       "                var nbb_cell_id = 62;\n",
       "                var nbb_unformatted_code = \"betas = np.linspace(-1, 1, 101)\\nbeta_prior = norm.pdf(betas, 0, 0.1)\\nbeta_prior /= beta_prior.sum()\\n\\nplt.plot(betas, beta_prior)\\ndecorate(ylim=[0, beta_prior.max()])\";\n",
       "                var nbb_formatted_code = \"betas = np.linspace(-1, 1, 101)\\nbeta_prior = norm.pdf(betas, 0, 0.1)\\nbeta_prior /= beta_prior.sum()\\n\\nplt.plot(betas, beta_prior)\\ndecorate(ylim=[0, beta_prior.max()])\";\n",
       "                var nbb_cells = Jupyter.notebook.get_cells();\n",
       "                for (var i = 0; i < nbb_cells.length; ++i) {\n",
       "                    if (nbb_cells[i].input_prompt_number == nbb_cell_id) {\n",
       "                        if (nbb_cells[i].get_text() == nbb_unformatted_code) {\n",
       "                             nbb_cells[i].set_text(nbb_formatted_code);\n",
       "                        }\n",
       "                        break;\n",
       "                    }\n",
       "                }\n",
       "            }, 500);\n",
       "            "
      ],
      "text/plain": [
       "<IPython.core.display.Javascript object>"
      ]
     },
     "metadata": {},
     "output_type": "display_data"
    }
   ],
   "source": [
    "betas = np.linspace(-1, 1, 101)\n",
    "beta_prior = norm.pdf(betas, 0, 0.1)\n",
    "beta_prior /= beta_prior.sum()\n",
    "\n",
    "plt.plot(betas, beta_prior)\n",
    "decorate(ylim=[0, beta_prior.max()])"
   ]
  },
  {
   "cell_type": "code",
   "execution_count": 63,
   "id": "09bf9219",
   "metadata": {},
   "outputs": [
    {
     "data": {
      "application/javascript": [
       "\n",
       "            setTimeout(function() {\n",
       "                var nbb_cell_id = 63;\n",
       "                var nbb_unformatted_code = \"AP, BP = np.meshgrid(alpha_prior, beta_prior, indexing=\\\"ij\\\")\\njoint_prior = AP * BP\";\n",
       "                var nbb_formatted_code = \"AP, BP = np.meshgrid(alpha_prior, beta_prior, indexing=\\\"ij\\\")\\njoint_prior = AP * BP\";\n",
       "                var nbb_cells = Jupyter.notebook.get_cells();\n",
       "                for (var i = 0; i < nbb_cells.length; ++i) {\n",
       "                    if (nbb_cells[i].input_prompt_number == nbb_cell_id) {\n",
       "                        if (nbb_cells[i].get_text() == nbb_unformatted_code) {\n",
       "                             nbb_cells[i].set_text(nbb_formatted_code);\n",
       "                        }\n",
       "                        break;\n",
       "                    }\n",
       "                }\n",
       "            }, 500);\n",
       "            "
      ],
      "text/plain": [
       "<IPython.core.display.Javascript object>"
      ]
     },
     "metadata": {},
     "output_type": "display_data"
    }
   ],
   "source": [
    "AP, BP = np.meshgrid(alpha_prior, beta_prior, indexing=\"ij\")\n",
    "joint_prior = AP * BP"
   ]
  },
  {
   "cell_type": "code",
   "execution_count": 64,
   "id": "01125025",
   "metadata": {},
   "outputs": [
    {
     "data": {
      "application/javascript": [
       "\n",
       "            setTimeout(function() {\n",
       "                var nbb_cell_id = 64;\n",
       "                var nbb_unformatted_code = \"def joint_contour(xs, ys, p, cmap=\\\"Blues\\\"):\\n    X, Y = np.meshgrid(xs, ys, indexing=\\\"ij\\\")\\n    plt.contour(X, Y, p, cmap=cmap)\";\n",
       "                var nbb_formatted_code = \"def joint_contour(xs, ys, p, cmap=\\\"Blues\\\"):\\n    X, Y = np.meshgrid(xs, ys, indexing=\\\"ij\\\")\\n    plt.contour(X, Y, p, cmap=cmap)\";\n",
       "                var nbb_cells = Jupyter.notebook.get_cells();\n",
       "                for (var i = 0; i < nbb_cells.length; ++i) {\n",
       "                    if (nbb_cells[i].input_prompt_number == nbb_cell_id) {\n",
       "                        if (nbb_cells[i].get_text() == nbb_unformatted_code) {\n",
       "                             nbb_cells[i].set_text(nbb_formatted_code);\n",
       "                        }\n",
       "                        break;\n",
       "                    }\n",
       "                }\n",
       "            }, 500);\n",
       "            "
      ],
      "text/plain": [
       "<IPython.core.display.Javascript object>"
      ]
     },
     "metadata": {},
     "output_type": "display_data"
    }
   ],
   "source": [
    "def joint_contour(xs, ys, p, cmap=\"Blues\"):\n",
    "    X, Y = np.meshgrid(xs, ys, indexing=\"ij\")\n",
    "    plt.contour(X, Y, p, cmap=cmap)"
   ]
  },
  {
   "cell_type": "code",
   "execution_count": 65,
   "id": "f90f5a22",
   "metadata": {},
   "outputs": [
    {
     "name": "stdout",
     "output_type": "stream",
     "text": [
      "-4.0 11 28 0.39285714285714285\n",
      "0.0 15 98 0.15306122448979592\n"
     ]
    },
    {
     "data": {
      "application/javascript": [
       "\n",
       "            setTimeout(function() {\n",
       "                var nbb_cell_id = 65;\n",
       "                var nbb_unformatted_code = \"from scipy.special import expit\\nfrom scipy.stats import binom\\n\\njoint_posterior = joint_prior.copy()\\nA, B = np.meshgrid(alphas, betas, indexing=\\\"ij\\\")\\n\\nfor x in xs:\\n    k = ks[x]\\n    n = ns[x]\\n    P = expit(A + B * x)\\n    print(x, k, n, k / n)\\n    likelihood = binom.pmf(k, n, P)\\n    joint_posterior *= likelihood\\n\\njoint_posterior /= joint_posterior.sum()\";\n",
       "                var nbb_formatted_code = \"from scipy.special import expit\\nfrom scipy.stats import binom\\n\\njoint_posterior = joint_prior.copy()\\nA, B = np.meshgrid(alphas, betas, indexing=\\\"ij\\\")\\n\\nfor x in xs:\\n    k = ks[x]\\n    n = ns[x]\\n    P = expit(A + B * x)\\n    print(x, k, n, k / n)\\n    likelihood = binom.pmf(k, n, P)\\n    joint_posterior *= likelihood\\n\\njoint_posterior /= joint_posterior.sum()\";\n",
       "                var nbb_cells = Jupyter.notebook.get_cells();\n",
       "                for (var i = 0; i < nbb_cells.length; ++i) {\n",
       "                    if (nbb_cells[i].input_prompt_number == nbb_cell_id) {\n",
       "                        if (nbb_cells[i].get_text() == nbb_unformatted_code) {\n",
       "                             nbb_cells[i].set_text(nbb_formatted_code);\n",
       "                        }\n",
       "                        break;\n",
       "                    }\n",
       "                }\n",
       "            }, 500);\n",
       "            "
      ],
      "text/plain": [
       "<IPython.core.display.Javascript object>"
      ]
     },
     "metadata": {},
     "output_type": "display_data"
    }
   ],
   "source": [
    "from scipy.special import expit\n",
    "from scipy.stats import binom\n",
    "\n",
    "joint_posterior = joint_prior.copy()\n",
    "A, B = np.meshgrid(alphas, betas, indexing=\"ij\")\n",
    "\n",
    "for x in xs:\n",
    "    k = ks[x]\n",
    "    n = ns[x]\n",
    "    P = expit(A + B * x)\n",
    "    print(x, k, n, k / n)\n",
    "    likelihood = binom.pmf(k, n, P)\n",
    "    joint_posterior *= likelihood\n",
    "\n",
    "joint_posterior /= joint_posterior.sum()"
   ]
  },
  {
   "cell_type": "code",
   "execution_count": 66,
   "id": "587f80b6",
   "metadata": {},
   "outputs": [
    {
     "data": {
      "text/plain": [
       "-1.484695588268882"
      ]
     },
     "execution_count": 66,
     "metadata": {},
     "output_type": "execute_result"
    },
    {
     "data": {
      "image/png": "[encoded data removed]",
      "text/plain": [
       "<Figure size 450x262.5 with 1 Axes>"
      ]
     },
     "metadata": {},
     "output_type": "display_data"
    },
    {
     "data": {
      "application/javascript": [
       "\n",
       "            setTimeout(function() {\n",
       "                var nbb_cell_id = 66;\n",
       "                var nbb_unformatted_code = \"marginal_alpha = joint_posterior.sum(axis=1)\\nplt.plot(alphas, marginal_alpha)\\nnp.sum(alphas * marginal_alpha)\";\n",
       "                var nbb_formatted_code = \"marginal_alpha = joint_posterior.sum(axis=1)\\nplt.plot(alphas, marginal_alpha)\\nnp.sum(alphas * marginal_alpha)\";\n",
       "                var nbb_cells = Jupyter.notebook.get_cells();\n",
       "                for (var i = 0; i < nbb_cells.length; ++i) {\n",
       "                    if (nbb_cells[i].input_prompt_number == nbb_cell_id) {\n",
       "                        if (nbb_cells[i].get_text() == nbb_unformatted_code) {\n",
       "                             nbb_cells[i].set_text(nbb_formatted_code);\n",
       "                        }\n",
       "                        break;\n",
       "                    }\n",
       "                }\n",
       "            }, 500);\n",
       "            "
      ],
      "text/plain": [
       "<IPython.core.display.Javascript object>"
      ]
     },
     "metadata": {},
     "output_type": "display_data"
    }
   ],
   "source": [
    "marginal_alpha = joint_posterior.sum(axis=1)\n",
    "plt.plot(alphas, marginal_alpha)\n",
    "np.sum(alphas * marginal_alpha)"
   ]
  },
  {
   "cell_type": "code",
   "execution_count": 67,
   "id": "cc39dba2",
   "metadata": {},
   "outputs": [
    {
     "data": {
      "text/plain": [
       "-0.12789020091816924"
      ]
     },
     "execution_count": 67,
     "metadata": {},
     "output_type": "execute_result"
    },
    {
     "data": {
      "image/png": "[encoded data removed]",
      "text/plain": [
       "<Figure size 450x262.5 with 1 Axes>"
      ]
     },
     "metadata": {},
     "output_type": "display_data"
    },
    {
     "data": {
      "application/javascript": [
       "\n",
       "            setTimeout(function() {\n",
       "                var nbb_cell_id = 67;\n",
       "                var nbb_unformatted_code = \"marginal_beta = joint_posterior.sum(axis=0)\\nplt.plot(betas, marginal_beta)\\nnp.sum(betas * marginal_beta)\";\n",
       "                var nbb_formatted_code = \"marginal_beta = joint_posterior.sum(axis=0)\\nplt.plot(betas, marginal_beta)\\nnp.sum(betas * marginal_beta)\";\n",
       "                var nbb_cells = Jupyter.notebook.get_cells();\n",
       "                for (var i = 0; i < nbb_cells.length; ++i) {\n",
       "                    if (nbb_cells[i].input_prompt_number == nbb_cell_id) {\n",
       "                        if (nbb_cells[i].get_text() == nbb_unformatted_code) {\n",
       "                             nbb_cells[i].set_text(nbb_formatted_code);\n",
       "                        }\n",
       "                        break;\n",
       "                    }\n",
       "                }\n",
       "            }, 500);\n",
       "            "
      ],
      "text/plain": [
       "<IPython.core.display.Javascript object>"
      ]
     },
     "metadata": {},
     "output_type": "display_data"
    }
   ],
   "source": [
    "marginal_beta = joint_posterior.sum(axis=0)\n",
    "plt.plot(betas, marginal_beta)\n",
    "np.sum(betas * marginal_beta)"
   ]
  },
  {
   "cell_type": "code",
   "execution_count": 68,
   "id": "a4732eb0",
   "metadata": {},
   "outputs": [
    {
     "data": {
      "image/png": "[encoded data removed]",
      "text/plain": [
       "<Figure size 450x262.5 with 1 Axes>"
      ]
     },
     "metadata": {},
     "output_type": "display_data"
    },
    {
     "data": {
      "application/javascript": [
       "\n",
       "            setTimeout(function() {\n",
       "                var nbb_cell_id = 68;\n",
       "                var nbb_unformatted_code = \"joint_contour(alphas, betas, joint_posterior)\";\n",
       "                var nbb_formatted_code = \"joint_contour(alphas, betas, joint_posterior)\";\n",
       "                var nbb_cells = Jupyter.notebook.get_cells();\n",
       "                for (var i = 0; i < nbb_cells.length; ++i) {\n",
       "                    if (nbb_cells[i].input_prompt_number == nbb_cell_id) {\n",
       "                        if (nbb_cells[i].get_text() == nbb_unformatted_code) {\n",
       "                             nbb_cells[i].set_text(nbb_formatted_code);\n",
       "                        }\n",
       "                        break;\n",
       "                    }\n",
       "                }\n",
       "            }, 500);\n",
       "            "
      ],
      "text/plain": [
       "<IPython.core.display.Javascript object>"
      ]
     },
     "metadata": {},
     "output_type": "display_data"
    }
   ],
   "source": [
    "joint_contour(alphas, betas, joint_posterior)"
   ]
  },
  {
   "cell_type": "code",
   "execution_count": 69,
   "id": "08828dbc",
   "metadata": {},
   "outputs": [
    {
     "data": {
      "text/plain": [
       "x\n",
       "2018.0    0.278669\n",
       "2022.0    0.187370\n",
       "dtype: float64"
      ]
     },
     "execution_count": 69,
     "metadata": {},
     "output_type": "execute_result"
    },
    {
     "data": {
      "application/javascript": [
       "\n",
       "            setTimeout(function() {\n",
       "                var nbb_cell_id = 69;\n",
       "                var nbb_unformatted_code = \"ps = [np.sum(joint_posterior * expit(A + B * x)) for x in xs]\\npred = pd.Series(ps, actual.index)\\npred\";\n",
       "                var nbb_formatted_code = \"ps = [np.sum(joint_posterior * expit(A + B * x)) for x in xs]\\npred = pd.Series(ps, actual.index)\\npred\";\n",
       "                var nbb_cells = Jupyter.notebook.get_cells();\n",
       "                for (var i = 0; i < nbb_cells.length; ++i) {\n",
       "                    if (nbb_cells[i].input_prompt_number == nbb_cell_id) {\n",
       "                        if (nbb_cells[i].get_text() == nbb_unformatted_code) {\n",
       "                             nbb_cells[i].set_text(nbb_formatted_code);\n",
       "                        }\n",
       "                        break;\n",
       "                    }\n",
       "                }\n",
       "            }, 500);\n",
       "            "
      ],
      "text/plain": [
       "<IPython.core.display.Javascript object>"
      ]
     },
     "metadata": {},
     "output_type": "display_data"
    }
   ],
   "source": [
    "ps = [np.sum(joint_posterior * expit(A + B * x)) for x in xs]\n",
    "pred = pd.Series(ps, actual.index)\n",
    "pred"
   ]
  },
  {
   "cell_type": "code",
   "execution_count": 70,
   "id": "6cc182c1",
   "metadata": {},
   "outputs": [
    {
     "data": {
      "text/plain": [
       "<Axes: xlabel='x'>"
      ]
     },
     "execution_count": 70,
     "metadata": {},
     "output_type": "execute_result"
    },
    {
     "data": {
      "image/png": "[encoded data removed]",
      "text/plain": [
       "<Figure size 450x262.5 with 1 Axes>"
      ]
     },
     "metadata": {},
     "output_type": "display_data"
    },
    {
     "data": {
      "application/javascript": [
       "\n",
       "            setTimeout(function() {\n",
       "                var nbb_cell_id = 70;\n",
       "                var nbb_unformatted_code = \"actual.plot(style=\\\"o\\\")\\npred.plot()\";\n",
       "                var nbb_formatted_code = \"actual.plot(style=\\\"o\\\")\\npred.plot()\";\n",
       "                var nbb_cells = Jupyter.notebook.get_cells();\n",
       "                for (var i = 0; i < nbb_cells.length; ++i) {\n",
       "                    if (nbb_cells[i].input_prompt_number == nbb_cell_id) {\n",
       "                        if (nbb_cells[i].get_text() == nbb_unformatted_code) {\n",
       "                             nbb_cells[i].set_text(nbb_formatted_code);\n",
       "                        }\n",
       "                        break;\n",
       "                    }\n",
       "                }\n",
       "            }, 500);\n",
       "            "
      ],
      "text/plain": [
       "<IPython.core.display.Javascript object>"
      ]
     },
     "metadata": {},
     "output_type": "display_data"
    }
   ],
   "source": [
    "actual.plot(style=\"o\")\n",
    "pred.plot()"
   ]
  },
  {
   "cell_type": "code",
   "execution_count": null,
   "id": "acce4dc1",
   "metadata": {},
   "outputs": [],
   "source": []
  },
  {
   "cell_type": "markdown",
   "id": "4351c155",
   "metadata": {
    "tags": []
   },
   "source": [
    "Copyright 2024 Allen Downey \n",
    "\n",
    "The code in this notebook and `utils.py` is under the [MIT license](https://mit-license.org/)."
   ]
  }
 ],
 "metadata": {
  "celltoolbar": "Tags",
  "kernelspec": {
   "display_name": "Python 3 (ipykernel)",
   "language": "python",
   "name": "python3"
  },
  "language_info": {
   "codemirror_mode": {
    "name": "ipython",
    "version": 3
   },
   "file_extension": ".py",
   "mimetype": "text/x-python",
   "name": "python",
   "nbconvert_exporter": "python",
   "pygments_lexer": "ipython3",
   "version": "3.10.12"
  }
 },
 "nbformat": 4,
 "nbformat_minor": 5
}
