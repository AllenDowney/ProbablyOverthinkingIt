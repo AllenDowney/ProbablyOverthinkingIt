{
 "cells": [
  {
   "cell_type": "markdown",
   "id": "4a54069c",
   "metadata": {
    "tags": []
   },
   "source": [
    "# Bayesian Smoothing\n",
    "\n",
    "In GSS data -- and many other surveys -- it can be hard to track a population proportion over time because we survey different people at different times, and survey sizes tend to vary.\n",
    "At the same time, we have background information to suggest that the underlying proportion changes slowly over time.\n",
    "\n",
    "So we need a method that takes into account, in a principled way, both sample sizes and prior information about the smoothness of the underlying trends."
   ]
  },
  {
   "cell_type": "markdown",
   "id": "c46810ae",
   "metadata": {
    "tags": [
     "remove-cell"
    ]
   },
   "source": [
    "This example is based on Chapter 10 of *[Probably Overthinking It: How to Use Data to Answer Questions, Avoid Statistical Traps, and Make Better Decisions](https://greenteapress.com/wp/probably-overthinking-it)*, University of Chicago Press, 2023."
   ]
  },
  {
   "cell_type": "code",
   "execution_count": 1,
   "id": "d1a7e245",
   "metadata": {},
   "outputs": [
    {
     "data": {
      "application/javascript": [
       "\n",
       "            setTimeout(function() {\n",
       "                var nbb_cell_id = 1;\n",
       "                var nbb_unformatted_code = \"%load_ext nb_black\\n%load_ext autoreload\\n%autoreload 2\";\n",
       "                var nbb_formatted_code = \"%load_ext nb_black\\n%load_ext autoreload\\n%autoreload 2\";\n",
       "                var nbb_cells = Jupyter.notebook.get_cells();\n",
       "                for (var i = 0; i < nbb_cells.length; ++i) {\n",
       "                    if (nbb_cells[i].input_prompt_number == nbb_cell_id) {\n",
       "                        if (nbb_cells[i].get_text() == nbb_unformatted_code) {\n",
       "                             nbb_cells[i].set_text(nbb_formatted_code);\n",
       "                        }\n",
       "                        break;\n",
       "                    }\n",
       "                }\n",
       "            }, 500);\n",
       "            "
      ],
      "text/plain": [
       "<IPython.core.display.Javascript object>"
      ]
     },
     "metadata": {},
     "output_type": "display_data"
    }
   ],
   "source": [
    "%load_ext nb_black\n",
    "%load_ext autoreload\n",
    "%autoreload 2"
   ]
  },
  {
   "cell_type": "code",
   "execution_count": 2,
   "id": "da5ed279",
   "metadata": {
    "tags": [
     "hide-cell"
    ]
   },
   "outputs": [
    {
     "data": {
      "application/javascript": [
       "\n",
       "            setTimeout(function() {\n",
       "                var nbb_cell_id = 2;\n",
       "                var nbb_unformatted_code = \"# Install empiricaldist if we don't already have it\\n\\ntry:\\n    import empiricaldist\\nexcept ImportError:\\n    !pip install empiricaldist\";\n",
       "                var nbb_formatted_code = \"# Install empiricaldist if we don't already have it\\n\\ntry:\\n    import empiricaldist\\nexcept ImportError:\\n    !pip install empiricaldist\";\n",
       "                var nbb_cells = Jupyter.notebook.get_cells();\n",
       "                for (var i = 0; i < nbb_cells.length; ++i) {\n",
       "                    if (nbb_cells[i].input_prompt_number == nbb_cell_id) {\n",
       "                        if (nbb_cells[i].get_text() == nbb_unformatted_code) {\n",
       "                             nbb_cells[i].set_text(nbb_formatted_code);\n",
       "                        }\n",
       "                        break;\n",
       "                    }\n",
       "                }\n",
       "            }, 500);\n",
       "            "
      ],
      "text/plain": [
       "<IPython.core.display.Javascript object>"
      ]
     },
     "metadata": {},
     "output_type": "display_data"
    }
   ],
   "source": [
    "# Install empiricaldist if we don't already have it\n",
    "\n",
    "try:\n",
    "    import empiricaldist\n",
    "except ImportError:\n",
    "    !pip install empiricaldist"
   ]
  },
  {
   "cell_type": "code",
   "execution_count": 3,
   "id": "87cab00c",
   "metadata": {
    "tags": [
     "hide-cell"
    ]
   },
   "outputs": [
    {
     "data": {
      "application/javascript": [
       "\n",
       "            setTimeout(function() {\n",
       "                var nbb_cell_id = 3;\n",
       "                var nbb_unformatted_code = \"# download utils.py\\n\\nfrom os.path import basename, exists\\n\\n\\ndef download(url):\\n    filename = basename(url)\\n    if not exists(filename):\\n        from urllib.request import urlretrieve\\n\\n        local, _ = urlretrieve(url, filename)\\n        print(\\\"Downloaded \\\" + local)\\n\\n\\ndownload(\\n    \\\"https://github.com/AllenDowney/ProbablyOverthinkingIt/raw/book/notebooks/utils.py\\\"\\n)\";\n",
       "                var nbb_formatted_code = \"# download utils.py\\n\\nfrom os.path import basename, exists\\n\\n\\ndef download(url):\\n    filename = basename(url)\\n    if not exists(filename):\\n        from urllib.request import urlretrieve\\n\\n        local, _ = urlretrieve(url, filename)\\n        print(\\\"Downloaded \\\" + local)\\n\\n\\ndownload(\\n    \\\"https://github.com/AllenDowney/ProbablyOverthinkingIt/raw/book/notebooks/utils.py\\\"\\n)\";\n",
       "                var nbb_cells = Jupyter.notebook.get_cells();\n",
       "                for (var i = 0; i < nbb_cells.length; ++i) {\n",
       "                    if (nbb_cells[i].input_prompt_number == nbb_cell_id) {\n",
       "                        if (nbb_cells[i].get_text() == nbb_unformatted_code) {\n",
       "                             nbb_cells[i].set_text(nbb_formatted_code);\n",
       "                        }\n",
       "                        break;\n",
       "                    }\n",
       "                }\n",
       "            }, 500);\n",
       "            "
      ],
      "text/plain": [
       "<IPython.core.display.Javascript object>"
      ]
     },
     "metadata": {},
     "output_type": "display_data"
    }
   ],
   "source": [
    "# download utils.py\n",
    "\n",
    "from os.path import basename, exists\n",
    "\n",
    "\n",
    "def download(url):\n",
    "    filename = basename(url)\n",
    "    if not exists(filename):\n",
    "        from urllib.request import urlretrieve\n",
    "\n",
    "        local, _ = urlretrieve(url, filename)\n",
    "        print(\"Downloaded \" + local)\n",
    "\n",
    "\n",
    "download(\n",
    "    \"https://github.com/AllenDowney/ProbablyOverthinkingIt/raw/book/notebooks/utils.py\"\n",
    ")"
   ]
  },
  {
   "cell_type": "code",
   "execution_count": 4,
   "id": "81d5b707",
   "metadata": {
    "tags": [
     "hide-cell"
    ]
   },
   "outputs": [
    {
     "data": {
      "application/javascript": [
       "\n",
       "            setTimeout(function() {\n",
       "                var nbb_cell_id = 4;\n",
       "                var nbb_unformatted_code = \"import pandas as pd\\nimport numpy as np\\nimport matplotlib.pyplot as plt\\nimport seaborn as sns\\n\\nfrom utils import decorate\\n\\n# Set the random seed so we get the same results every time\\nnp.random.seed(17)\";\n",
       "                var nbb_formatted_code = \"import pandas as pd\\nimport numpy as np\\nimport matplotlib.pyplot as plt\\nimport seaborn as sns\\n\\nfrom utils import decorate\\n\\n# Set the random seed so we get the same results every time\\nnp.random.seed(17)\";\n",
       "                var nbb_cells = Jupyter.notebook.get_cells();\n",
       "                for (var i = 0; i < nbb_cells.length; ++i) {\n",
       "                    if (nbb_cells[i].input_prompt_number == nbb_cell_id) {\n",
       "                        if (nbb_cells[i].get_text() == nbb_unformatted_code) {\n",
       "                             nbb_cells[i].set_text(nbb_formatted_code);\n",
       "                        }\n",
       "                        break;\n",
       "                    }\n",
       "                }\n",
       "            }, 500);\n",
       "            "
      ],
      "text/plain": [
       "<IPython.core.display.Javascript object>"
      ]
     },
     "metadata": {},
     "output_type": "display_data"
    }
   ],
   "source": [
    "import pandas as pd\n",
    "import numpy as np\n",
    "import matplotlib.pyplot as plt\n",
    "import seaborn as sns\n",
    "\n",
    "from utils import decorate\n",
    "\n",
    "# Set the random seed so we get the same results every time\n",
    "np.random.seed(17)"
   ]
  },
  {
   "cell_type": "markdown",
   "id": "0e21f6db",
   "metadata": {},
   "source": [
    "## Data\n",
    "\n",
    "As an example, we'll use data from the General Social Survey."
   ]
  },
  {
   "cell_type": "code",
   "execution_count": 5,
   "id": "5b8c8edb",
   "metadata": {},
   "outputs": [
    {
     "data": {
      "application/javascript": [
       "\n",
       "            setTimeout(function() {\n",
       "                var nbb_cell_id = 5;\n",
       "                var nbb_unformatted_code = \"# This dataset is prepared in GssExtract/notebooks/02_make_extract-2022_3a.ipynb\\n\\nDATA_PATH = \\\"https://github.com/AllenDowney/GssExtract/raw/main/data/interim/\\\"\\nfilename = \\\"gss_extract_2022_3a.hdf\\\"\\ndownload(DATA_PATH + filename)\";\n",
       "                var nbb_formatted_code = \"# This dataset is prepared in GssExtract/notebooks/02_make_extract-2022_3a.ipynb\\n\\nDATA_PATH = \\\"https://github.com/AllenDowney/GssExtract/raw/main/data/interim/\\\"\\nfilename = \\\"gss_extract_2022_3a.hdf\\\"\\ndownload(DATA_PATH + filename)\";\n",
       "                var nbb_cells = Jupyter.notebook.get_cells();\n",
       "                for (var i = 0; i < nbb_cells.length; ++i) {\n",
       "                    if (nbb_cells[i].input_prompt_number == nbb_cell_id) {\n",
       "                        if (nbb_cells[i].get_text() == nbb_unformatted_code) {\n",
       "                             nbb_cells[i].set_text(nbb_formatted_code);\n",
       "                        }\n",
       "                        break;\n",
       "                    }\n",
       "                }\n",
       "            }, 500);\n",
       "            "
      ],
      "text/plain": [
       "<IPython.core.display.Javascript object>"
      ]
     },
     "metadata": {},
     "output_type": "display_data"
    }
   ],
   "source": [
    "# This dataset is prepared in GssExtract/notebooks/02_make_extract-2022_3a.ipynb\n",
    "\n",
    "DATA_PATH = \"https://github.com/AllenDowney/GssExtract/raw/main/data/interim/\"\n",
    "filename = \"gss_extract_2022_3a.hdf\"\n",
    "download(DATA_PATH + filename)"
   ]
  },
  {
   "cell_type": "code",
   "execution_count": 6,
   "id": "f033ca49",
   "metadata": {
    "tags": []
   },
   "outputs": [
    {
     "data": {
      "text/plain": [
       "(72390, 57)"
      ]
     },
     "execution_count": 6,
     "metadata": {},
     "output_type": "execute_result"
    },
    {
     "data": {
      "application/javascript": [
       "\n",
       "            setTimeout(function() {\n",
       "                var nbb_cell_id = 6;\n",
       "                var nbb_unformatted_code = \"gss = pd.read_hdf(filename, \\\"gss\\\")\\ngss.shape\";\n",
       "                var nbb_formatted_code = \"gss = pd.read_hdf(filename, \\\"gss\\\")\\ngss.shape\";\n",
       "                var nbb_cells = Jupyter.notebook.get_cells();\n",
       "                for (var i = 0; i < nbb_cells.length; ++i) {\n",
       "                    if (nbb_cells[i].input_prompt_number == nbb_cell_id) {\n",
       "                        if (nbb_cells[i].get_text() == nbb_unformatted_code) {\n",
       "                             nbb_cells[i].set_text(nbb_formatted_code);\n",
       "                        }\n",
       "                        break;\n",
       "                    }\n",
       "                }\n",
       "            }, 500);\n",
       "            "
      ],
      "text/plain": [
       "<IPython.core.display.Javascript object>"
      ]
     },
     "metadata": {},
     "output_type": "display_data"
    }
   ],
   "source": [
    "gss = pd.read_hdf(filename, \"gss\")\n",
    "gss.shape"
   ]
  },
  {
   "cell_type": "code",
   "execution_count": 7,
   "id": "c83782fc",
   "metadata": {},
   "outputs": [
    {
     "data": {
      "text/plain": [
       "755"
      ]
     },
     "execution_count": 7,
     "metadata": {},
     "output_type": "execute_result"
    },
    {
     "data": {
      "application/javascript": [
       "\n",
       "            setTimeout(function() {\n",
       "                var nbb_cell_id = 7;\n",
       "                var nbb_unformatted_code = \"gss[\\\"cohort\\\"] = gss[\\\"cohort\\\"].replace(9999, np.nan)\\ngss[\\\"cohort\\\"].isna().sum()\";\n",
       "                var nbb_formatted_code = \"gss[\\\"cohort\\\"] = gss[\\\"cohort\\\"].replace(9999, np.nan)\\ngss[\\\"cohort\\\"].isna().sum()\";\n",
       "                var nbb_cells = Jupyter.notebook.get_cells();\n",
       "                for (var i = 0; i < nbb_cells.length; ++i) {\n",
       "                    if (nbb_cells[i].input_prompt_number == nbb_cell_id) {\n",
       "                        if (nbb_cells[i].get_text() == nbb_unformatted_code) {\n",
       "                             nbb_cells[i].set_text(nbb_formatted_code);\n",
       "                        }\n",
       "                        break;\n",
       "                    }\n",
       "                }\n",
       "            }, 500);\n",
       "            "
      ],
      "text/plain": [
       "<IPython.core.display.Javascript object>"
      ]
     },
     "metadata": {},
     "output_type": "display_data"
    }
   ],
   "source": [
    "gss[\"cohort\"] = gss[\"cohort\"].replace(9999, np.nan)\n",
    "gss[\"cohort\"].isna().sum()"
   ]
  },
  {
   "cell_type": "code",
   "execution_count": 8,
   "id": "37dc0bc9",
   "metadata": {},
   "outputs": [
    {
     "data": {
      "text/plain": [
       "cohort10\n",
       "1880.0       45\n",
       "1890.0      501\n",
       "1900.0     1722\n",
       "1910.0     3616\n",
       "1920.0     5862\n",
       "1930.0     7115\n",
       "1940.0    10925\n",
       "1950.0    14273\n",
       "1960.0    11699\n",
       "1970.0     7681\n",
       "1980.0     5088\n",
       "1990.0     2563\n",
       "2000.0      545\n",
       "NaN         755\n",
       "Name: count, dtype: int64"
      ]
     },
     "execution_count": 8,
     "metadata": {},
     "output_type": "execute_result"
    },
    {
     "data": {
      "application/javascript": [
       "\n",
       "            setTimeout(function() {\n",
       "                var nbb_cell_id = 8;\n",
       "                var nbb_unformatted_code = \"def round_to_decade(x):\\n    return (x // 10) * 10\\n\\n\\ngss[\\\"cohort10\\\"] = gss[\\\"cohort\\\"].apply(round_to_decade)\\ngss[\\\"cohort10\\\"].value_counts(dropna=False).sort_index()\";\n",
       "                var nbb_formatted_code = \"def round_to_decade(x):\\n    return (x // 10) * 10\\n\\n\\ngss[\\\"cohort10\\\"] = gss[\\\"cohort\\\"].apply(round_to_decade)\\ngss[\\\"cohort10\\\"].value_counts(dropna=False).sort_index()\";\n",
       "                var nbb_cells = Jupyter.notebook.get_cells();\n",
       "                for (var i = 0; i < nbb_cells.length; ++i) {\n",
       "                    if (nbb_cells[i].input_prompt_number == nbb_cell_id) {\n",
       "                        if (nbb_cells[i].get_text() == nbb_unformatted_code) {\n",
       "                             nbb_cells[i].set_text(nbb_formatted_code);\n",
       "                        }\n",
       "                        break;\n",
       "                    }\n",
       "                }\n",
       "            }, 500);\n",
       "            "
      ],
      "text/plain": [
       "<IPython.core.display.Javascript object>"
      ]
     },
     "metadata": {},
     "output_type": "display_data"
    }
   ],
   "source": [
    "def round_to_decade(x):\n",
    "    return (x // 10) * 10\n",
    "\n",
    "\n",
    "gss[\"cohort10\"] = gss[\"cohort\"].apply(round_to_decade)\n",
    "gss[\"cohort10\"].value_counts(dropna=False).sort_index()"
   ]
  },
  {
   "cell_type": "markdown",
   "id": "df789949",
   "metadata": {},
   "source": [
    "Specifically, we'll look at responses to [this question](https://gssdataexplorer.norc.org/variables/434/vshow):\n",
    "\n",
    "\n",
    "> Taken all together, how would you say things are these days--would you say that you are very happy, pretty happy, or not too happy?\n",
    "\n",
    "With possible responses\n",
    "\n",
    "```\n",
    "1\tVery happy\t\n",
    "2\tPretty happy\n",
    "3\tNot too happy\n",
    "```"
   ]
  },
  {
   "cell_type": "code",
   "execution_count": 9,
   "id": "4cc42a60",
   "metadata": {},
   "outputs": [
    {
     "data": {
      "text/plain": [
       "happy\n",
       "2.0    37446\n",
       "1.0    21550\n",
       "3.0     8681\n",
       "Name: count, dtype: int64"
      ]
     },
     "execution_count": 9,
     "metadata": {},
     "output_type": "execute_result"
    },
    {
     "data": {
      "application/javascript": [
       "\n",
       "            setTimeout(function() {\n",
       "                var nbb_cell_id = 9;\n",
       "                var nbb_unformatted_code = \"xvar = \\\"year\\\"\\nyvar = \\\"happy\\\"\\nyval = 1\\n\\nseries = gss[yvar]\\nseries.value_counts()\";\n",
       "                var nbb_formatted_code = \"xvar = \\\"year\\\"\\nyvar = \\\"happy\\\"\\nyval = 1\\n\\nseries = gss[yvar]\\nseries.value_counts()\";\n",
       "                var nbb_cells = Jupyter.notebook.get_cells();\n",
       "                for (var i = 0; i < nbb_cells.length; ++i) {\n",
       "                    if (nbb_cells[i].input_prompt_number == nbb_cell_id) {\n",
       "                        if (nbb_cells[i].get_text() == nbb_unformatted_code) {\n",
       "                             nbb_cells[i].set_text(nbb_formatted_code);\n",
       "                        }\n",
       "                        break;\n",
       "                    }\n",
       "                }\n",
       "            }, 500);\n",
       "            "
      ],
      "text/plain": [
       "<IPython.core.display.Javascript object>"
      ]
     },
     "metadata": {},
     "output_type": "display_data"
    }
   ],
   "source": [
    "xvar = \"year\"\n",
    "yvar = \"happy\"\n",
    "yval = 1\n",
    "\n",
    "series = gss[yvar]\n",
    "series.value_counts()"
   ]
  },
  {
   "cell_type": "code",
   "execution_count": 10,
   "id": "ee22fb59",
   "metadata": {
    "tags": []
   },
   "outputs": [
    {
     "data": {
      "application/javascript": [
       "\n",
       "            setTimeout(function() {\n",
       "                var nbb_cell_id = 10;\n",
       "                var nbb_unformatted_code = \"xlim = [1970.5, 2024.5]\\nylim = [0, 75]\";\n",
       "                var nbb_formatted_code = \"xlim = [1970.5, 2024.5]\\nylim = [0, 75]\";\n",
       "                var nbb_cells = Jupyter.notebook.get_cells();\n",
       "                for (var i = 0; i < nbb_cells.length; ++i) {\n",
       "                    if (nbb_cells[i].input_prompt_number == nbb_cell_id) {\n",
       "                        if (nbb_cells[i].get_text() == nbb_unformatted_code) {\n",
       "                             nbb_cells[i].set_text(nbb_formatted_code);\n",
       "                        }\n",
       "                        break;\n",
       "                    }\n",
       "                }\n",
       "            }, 500);\n",
       "            "
      ],
      "text/plain": [
       "<IPython.core.display.Javascript object>"
      ]
     },
     "metadata": {},
     "output_type": "display_data"
    }
   ],
   "source": [
    "xlim = [1970.5, 2024.5]\n",
    "ylim = [0, 75]"
   ]
  },
  {
   "cell_type": "markdown",
   "id": "bbb839aa",
   "metadata": {},
   "source": [
    "Using the `bayesian_smooth` function, we can find the posterior mean line (in log-odds space, so not generally linear in probability space).\n",
    "\n",
    "Notice that it doesn't give much weight to the first and last points, which are based on small sample sizes, in contrast to most forms of regression, which give a lot of weight to points far from the line (even when weighted by sample size) and points at the beginning and end of the interval."
   ]
  },
  {
   "cell_type": "code",
   "execution_count": 11,
   "id": "2c0fc2cf",
   "metadata": {},
   "outputs": [
    {
     "data": {
      "text/plain": [
       "<Axes: xlabel='x'>"
      ]
     },
     "execution_count": 11,
     "metadata": {},
     "output_type": "execute_result"
    },
    {
     "data": {
      "image/png": "[encoded data removed]",
      "text/plain": [
       "<Figure size 450x262.5 with 1 Axes>"
      ]
     },
     "metadata": {},
     "output_type": "display_data"
    },
    {
     "data": {
      "application/javascript": [
       "\n",
       "            setTimeout(function() {\n",
       "                var nbb_cell_id = 11;\n",
       "                var nbb_unformatted_code = \"from smooth import bayesian_smooth\\n\\nsubset = gss.query(\\\"cohort10==1990\\\").dropna(subset=[xvar, yvar])\\n\\nactual, pred = bayesian_smooth(subset, xvar, yvar, yval)\\nactual.plot(style=\\\"o\\\")\\npred.plot()\";\n",
       "                var nbb_formatted_code = \"from smooth import bayesian_smooth\\n\\nsubset = gss.query(\\\"cohort10==1990\\\").dropna(subset=[xvar, yvar])\\n\\nactual, pred = bayesian_smooth(subset, xvar, yvar, yval)\\nactual.plot(style=\\\"o\\\")\\npred.plot()\";\n",
       "                var nbb_cells = Jupyter.notebook.get_cells();\n",
       "                for (var i = 0; i < nbb_cells.length; ++i) {\n",
       "                    if (nbb_cells[i].input_prompt_number == nbb_cell_id) {\n",
       "                        if (nbb_cells[i].get_text() == nbb_unformatted_code) {\n",
       "                             nbb_cells[i].set_text(nbb_formatted_code);\n",
       "                        }\n",
       "                        break;\n",
       "                    }\n",
       "                }\n",
       "            }, 500);\n",
       "            "
      ],
      "text/plain": [
       "<IPython.core.display.Javascript object>"
      ]
     },
     "metadata": {},
     "output_type": "display_data"
    }
   ],
   "source": [
    "from smooth import bayesian_smooth\n",
    "\n",
    "subset = gss.query(\"cohort10==1990\").dropna(subset=[xvar, yvar])\n",
    "\n",
    "actual, pred = bayesian_smooth(subset, xvar, yvar, yval)\n",
    "actual.plot(style=\"o\")\n",
    "pred.plot()"
   ]
  },
  {
   "cell_type": "markdown",
   "id": "126261ed",
   "metadata": {},
   "source": [
    "## Linear\n",
    "\n",
    "Here's how the linear version of the model works -- the next section shows the quadratic version.\n",
    "Either of these could be used to implement a local regression model, where the estimate for each point is based on a centered interval.\n",
    "\n",
    "This implementation of the model uses a grid algorithm, which has the advantage of being fast and deterministic, in contrast to an MCMC implementation. \n",
    "\n",
    "Centering the data make the grid more effective."
   ]
  },
  {
   "cell_type": "code",
   "execution_count": 12,
   "id": "72c2802a",
   "metadata": {},
   "outputs": [
    {
     "data": {
      "text/plain": [
       "2012"
      ]
     },
     "execution_count": 12,
     "metadata": {},
     "output_type": "execute_result"
    },
    {
     "data": {
      "application/javascript": [
       "\n",
       "            setTimeout(function() {\n",
       "                var nbb_cell_id = 12;\n",
       "                var nbb_unformatted_code = \"m = subset[\\\"year\\\"].median()\\nm = 2012\\nm\";\n",
       "                var nbb_formatted_code = \"m = subset[\\\"year\\\"].median()\\nm = 2012\\nm\";\n",
       "                var nbb_cells = Jupyter.notebook.get_cells();\n",
       "                for (var i = 0; i < nbb_cells.length; ++i) {\n",
       "                    if (nbb_cells[i].input_prompt_number == nbb_cell_id) {\n",
       "                        if (nbb_cells[i].get_text() == nbb_unformatted_code) {\n",
       "                             nbb_cells[i].set_text(nbb_formatted_code);\n",
       "                        }\n",
       "                        break;\n",
       "                    }\n",
       "                }\n",
       "            }, 500);\n",
       "            "
      ],
      "text/plain": [
       "<IPython.core.display.Javascript object>"
      ]
     },
     "metadata": {},
     "output_type": "display_data"
    }
   ],
   "source": [
    "m = subset[\"year\"].median()\n",
    "m = 2012\n",
    "m"
   ]
  },
  {
   "cell_type": "code",
   "execution_count": 13,
   "id": "3037387c",
   "metadata": {},
   "outputs": [
    {
     "data": {
      "application/javascript": [
       "\n",
       "            setTimeout(function() {\n",
       "                var nbb_cell_id = 13;\n",
       "                var nbb_unformatted_code = \"subset[\\\"y\\\"] = subset[yvar] == yval\\nsubset[\\\"x\\\"] = subset[\\\"year\\\"] - m\";\n",
       "                var nbb_formatted_code = \"subset[\\\"y\\\"] = subset[yvar] == yval\\nsubset[\\\"x\\\"] = subset[\\\"year\\\"] - m\";\n",
       "                var nbb_cells = Jupyter.notebook.get_cells();\n",
       "                for (var i = 0; i < nbb_cells.length; ++i) {\n",
       "                    if (nbb_cells[i].input_prompt_number == nbb_cell_id) {\n",
       "                        if (nbb_cells[i].get_text() == nbb_unformatted_code) {\n",
       "                             nbb_cells[i].set_text(nbb_formatted_code);\n",
       "                        }\n",
       "                        break;\n",
       "                    }\n",
       "                }\n",
       "            }, 500);\n",
       "            "
      ],
      "text/plain": [
       "<IPython.core.display.Javascript object>"
      ]
     },
     "metadata": {},
     "output_type": "display_data"
    }
   ],
   "source": [
    "subset[\"y\"] = subset[yvar] == yval\n",
    "subset[\"x\"] = subset[\"year\"] - m"
   ]
  },
  {
   "cell_type": "markdown",
   "id": "8bd35214",
   "metadata": {},
   "source": [
    "Prepare the data by computing `n` and `k` at each time step."
   ]
  },
  {
   "cell_type": "code",
   "execution_count": 14,
   "id": "f8600249",
   "metadata": {},
   "outputs": [
    {
     "data": {
      "text/plain": [
       "x\n",
       "-4      22\n",
       "-2      90\n",
       " 0     151\n",
       " 2     228\n",
       " 4     395\n",
       " 6     406\n",
       " 9     675\n",
       " 10    592\n",
       "Name: y, dtype: int64"
      ]
     },
     "execution_count": 14,
     "metadata": {},
     "output_type": "execute_result"
    },
    {
     "data": {
      "application/javascript": [
       "\n",
       "            setTimeout(function() {\n",
       "                var nbb_cell_id = 14;\n",
       "                var nbb_unformatted_code = \"ns = subset.groupby(\\\"x\\\")[\\\"y\\\"].count()\\nns\";\n",
       "                var nbb_formatted_code = \"ns = subset.groupby(\\\"x\\\")[\\\"y\\\"].count()\\nns\";\n",
       "                var nbb_cells = Jupyter.notebook.get_cells();\n",
       "                for (var i = 0; i < nbb_cells.length; ++i) {\n",
       "                    if (nbb_cells[i].input_prompt_number == nbb_cell_id) {\n",
       "                        if (nbb_cells[i].get_text() == nbb_unformatted_code) {\n",
       "                             nbb_cells[i].set_text(nbb_formatted_code);\n",
       "                        }\n",
       "                        break;\n",
       "                    }\n",
       "                }\n",
       "            }, 500);\n",
       "            "
      ],
      "text/plain": [
       "<IPython.core.display.Javascript object>"
      ]
     },
     "metadata": {},
     "output_type": "display_data"
    }
   ],
   "source": [
    "ns = subset.groupby(\"x\")[\"y\"].count()\n",
    "ns"
   ]
  },
  {
   "cell_type": "code",
   "execution_count": 15,
   "id": "91952b96",
   "metadata": {},
   "outputs": [
    {
     "data": {
      "text/plain": [
       "x\n",
       "-4       5\n",
       "-2      27\n",
       " 0      39\n",
       " 2      58\n",
       " 4     101\n",
       " 6      84\n",
       " 9     111\n",
       " 10    137\n",
       "Name: y, dtype: int64"
      ]
     },
     "execution_count": 15,
     "metadata": {},
     "output_type": "execute_result"
    },
    {
     "data": {
      "application/javascript": [
       "\n",
       "            setTimeout(function() {\n",
       "                var nbb_cell_id = 15;\n",
       "                var nbb_unformatted_code = \"ks = subset.groupby(\\\"x\\\")[\\\"y\\\"].sum()\\nxs = ks.index\\nks\";\n",
       "                var nbb_formatted_code = \"ks = subset.groupby(\\\"x\\\")[\\\"y\\\"].sum()\\nxs = ks.index\\nks\";\n",
       "                var nbb_cells = Jupyter.notebook.get_cells();\n",
       "                for (var i = 0; i < nbb_cells.length; ++i) {\n",
       "                    if (nbb_cells[i].input_prompt_number == nbb_cell_id) {\n",
       "                        if (nbb_cells[i].get_text() == nbb_unformatted_code) {\n",
       "                             nbb_cells[i].set_text(nbb_formatted_code);\n",
       "                        }\n",
       "                        break;\n",
       "                    }\n",
       "                }\n",
       "            }, 500);\n",
       "            "
      ],
      "text/plain": [
       "<IPython.core.display.Javascript object>"
      ]
     },
     "metadata": {},
     "output_type": "display_data"
    }
   ],
   "source": [
    "ks = subset.groupby(\"x\")[\"y\"].sum()\n",
    "xs = ks.index\n",
    "ks"
   ]
  },
  {
   "cell_type": "code",
   "execution_count": 16,
   "id": "2fd9db03",
   "metadata": {},
   "outputs": [
    {
     "data": {
      "text/plain": [
       "x\n",
       "2008    0.227273\n",
       "2010    0.300000\n",
       "2012    0.258278\n",
       "2014    0.254386\n",
       "2016    0.255696\n",
       "2018    0.206897\n",
       "2021    0.164444\n",
       "2022    0.231419\n",
       "Name: y, dtype: float64"
      ]
     },
     "execution_count": 16,
     "metadata": {},
     "output_type": "execute_result"
    },
    {
     "data": {
      "application/javascript": [
       "\n",
       "            setTimeout(function() {\n",
       "                var nbb_cell_id = 16;\n",
       "                var nbb_unformatted_code = \"actual = ks / ns\\nactual.index = xs + m\\nactual\";\n",
       "                var nbb_formatted_code = \"actual = ks / ns\\nactual.index = xs + m\\nactual\";\n",
       "                var nbb_cells = Jupyter.notebook.get_cells();\n",
       "                for (var i = 0; i < nbb_cells.length; ++i) {\n",
       "                    if (nbb_cells[i].input_prompt_number == nbb_cell_id) {\n",
       "                        if (nbb_cells[i].get_text() == nbb_unformatted_code) {\n",
       "                             nbb_cells[i].set_text(nbb_formatted_code);\n",
       "                        }\n",
       "                        break;\n",
       "                    }\n",
       "                }\n",
       "            }, 500);\n",
       "            "
      ],
      "text/plain": [
       "<IPython.core.display.Javascript object>"
      ]
     },
     "metadata": {},
     "output_type": "display_data"
    }
   ],
   "source": [
    "actual = ks / ns\n",
    "actual.index = xs + m\n",
    "actual"
   ]
  },
  {
   "cell_type": "markdown",
   "id": "7fda36ce",
   "metadata": {},
   "source": [
    "Make prior distributions for the parameters."
   ]
  },
  {
   "cell_type": "code",
   "execution_count": 17,
   "id": "34e417dd",
   "metadata": {},
   "outputs": [
    {
     "data": {
      "image/png": "[encoded data removed]",
      "text/plain": [
       "<Figure size 450x262.5 with 1 Axes>"
      ]
     },
     "metadata": {},
     "output_type": "display_data"
    },
    {
     "data": {
      "application/javascript": [
       "\n",
       "            setTimeout(function() {\n",
       "                var nbb_cell_id = 17;\n",
       "                var nbb_unformatted_code = \"from scipy.stats import norm\\n\\nalphas = np.linspace(-3, 3, 91)\\nalpha_prior = norm.pdf(alphas, 0, 3)\\nalpha_prior /= alpha_prior.sum()\\n\\nplt.plot(alphas, alpha_prior)\\ndecorate(ylim=[0, alpha_prior.max()])\";\n",
       "                var nbb_formatted_code = \"from scipy.stats import norm\\n\\nalphas = np.linspace(-3, 3, 91)\\nalpha_prior = norm.pdf(alphas, 0, 3)\\nalpha_prior /= alpha_prior.sum()\\n\\nplt.plot(alphas, alpha_prior)\\ndecorate(ylim=[0, alpha_prior.max()])\";\n",
       "                var nbb_cells = Jupyter.notebook.get_cells();\n",
       "                for (var i = 0; i < nbb_cells.length; ++i) {\n",
       "                    if (nbb_cells[i].input_prompt_number == nbb_cell_id) {\n",
       "                        if (nbb_cells[i].get_text() == nbb_unformatted_code) {\n",
       "                             nbb_cells[i].set_text(nbb_formatted_code);\n",
       "                        }\n",
       "                        break;\n",
       "                    }\n",
       "                }\n",
       "            }, 500);\n",
       "            "
      ],
      "text/plain": [
       "<IPython.core.display.Javascript object>"
      ]
     },
     "metadata": {},
     "output_type": "display_data"
    }
   ],
   "source": [
    "from scipy.stats import norm\n",
    "\n",
    "alphas = np.linspace(-3, 3, 91)\n",
    "alpha_prior = norm.pdf(alphas, 0, 3)\n",
    "alpha_prior /= alpha_prior.sum()\n",
    "\n",
    "plt.plot(alphas, alpha_prior)\n",
    "decorate(ylim=[0, alpha_prior.max()])"
   ]
  },
  {
   "cell_type": "markdown",
   "id": "241788fd",
   "metadata": {},
   "source": [
    "The standard deviation of `beta` represents prior belief about how fast the underlying proportion changes."
   ]
  },
  {
   "cell_type": "code",
   "execution_count": 18,
   "id": "1187939c",
   "metadata": {},
   "outputs": [
    {
     "data": {
      "image/png": "[encoded data removed]",
      "text/plain": [
       "<Figure size 450x262.5 with 1 Axes>"
      ]
     },
     "metadata": {},
     "output_type": "display_data"
    },
    {
     "data": {
      "application/javascript": [
       "\n",
       "            setTimeout(function() {\n",
       "                var nbb_cell_id = 18;\n",
       "                var nbb_unformatted_code = \"betas = np.linspace(-1, 1, 101)\\nbeta_prior = norm.pdf(betas, 0, 0.2)\\nbeta_prior /= beta_prior.sum()\\n\\nplt.plot(betas, beta_prior)\\ndecorate(ylim=[0, beta_prior.max()])\";\n",
       "                var nbb_formatted_code = \"betas = np.linspace(-1, 1, 101)\\nbeta_prior = norm.pdf(betas, 0, 0.2)\\nbeta_prior /= beta_prior.sum()\\n\\nplt.plot(betas, beta_prior)\\ndecorate(ylim=[0, beta_prior.max()])\";\n",
       "                var nbb_cells = Jupyter.notebook.get_cells();\n",
       "                for (var i = 0; i < nbb_cells.length; ++i) {\n",
       "                    if (nbb_cells[i].input_prompt_number == nbb_cell_id) {\n",
       "                        if (nbb_cells[i].get_text() == nbb_unformatted_code) {\n",
       "                             nbb_cells[i].set_text(nbb_formatted_code);\n",
       "                        }\n",
       "                        break;\n",
       "                    }\n",
       "                }\n",
       "            }, 500);\n",
       "            "
      ],
      "text/plain": [
       "<IPython.core.display.Javascript object>"
      ]
     },
     "metadata": {},
     "output_type": "display_data"
    }
   ],
   "source": [
    "betas = np.linspace(-1, 1, 101)\n",
    "beta_prior = norm.pdf(betas, 0, 0.2)\n",
    "beta_prior /= beta_prior.sum()\n",
    "\n",
    "plt.plot(betas, beta_prior)\n",
    "decorate(ylim=[0, beta_prior.max()])"
   ]
  },
  {
   "cell_type": "markdown",
   "id": "83dfc400",
   "metadata": {},
   "source": [
    "Compute the posterior in the usual way..."
   ]
  },
  {
   "cell_type": "code",
   "execution_count": 19,
   "id": "09bf9219",
   "metadata": {},
   "outputs": [
    {
     "data": {
      "application/javascript": [
       "\n",
       "            setTimeout(function() {\n",
       "                var nbb_cell_id = 19;\n",
       "                var nbb_unformatted_code = \"AP, BP = np.meshgrid(alpha_prior, beta_prior, indexing=\\\"ij\\\")\\njoint_prior = AP * BP\";\n",
       "                var nbb_formatted_code = \"AP, BP = np.meshgrid(alpha_prior, beta_prior, indexing=\\\"ij\\\")\\njoint_prior = AP * BP\";\n",
       "                var nbb_cells = Jupyter.notebook.get_cells();\n",
       "                for (var i = 0; i < nbb_cells.length; ++i) {\n",
       "                    if (nbb_cells[i].input_prompt_number == nbb_cell_id) {\n",
       "                        if (nbb_cells[i].get_text() == nbb_unformatted_code) {\n",
       "                             nbb_cells[i].set_text(nbb_formatted_code);\n",
       "                        }\n",
       "                        break;\n",
       "                    }\n",
       "                }\n",
       "            }, 500);\n",
       "            "
      ],
      "text/plain": [
       "<IPython.core.display.Javascript object>"
      ]
     },
     "metadata": {},
     "output_type": "display_data"
    }
   ],
   "source": [
    "AP, BP = np.meshgrid(alpha_prior, beta_prior, indexing=\"ij\")\n",
    "joint_prior = AP * BP"
   ]
  },
  {
   "cell_type": "code",
   "execution_count": 20,
   "id": "f90f5a22",
   "metadata": {},
   "outputs": [
    {
     "name": "stdout",
     "output_type": "stream",
     "text": [
      "-4 5 22 0.22727272727272727\n",
      "-2 27 90 0.3\n",
      "0 39 151 0.2582781456953642\n",
      "2 58 228 0.2543859649122807\n",
      "4 101 395 0.25569620253164554\n",
      "6 84 406 0.20689655172413793\n",
      "9 111 675 0.16444444444444445\n",
      "10 137 592 0.23141891891891891\n"
     ]
    },
    {
     "data": {
      "application/javascript": [
       "\n",
       "            setTimeout(function() {\n",
       "                var nbb_cell_id = 20;\n",
       "                var nbb_unformatted_code = \"from scipy.special import expit\\nfrom scipy.stats import binom\\n\\njoint_posterior = joint_prior.copy()\\nA, B = np.meshgrid(alphas, betas, indexing=\\\"ij\\\")\\n\\nfor x in xs:\\n    k = ks[x]\\n    n = ns[x]\\n    P = expit(A + B * x)\\n    print(x, k, n, k / n)\\n    likelihood = binom.pmf(k, n, P)\\n    joint_posterior *= likelihood\\n\\njoint_posterior /= joint_posterior.sum()\";\n",
       "                var nbb_formatted_code = \"from scipy.special import expit\\nfrom scipy.stats import binom\\n\\njoint_posterior = joint_prior.copy()\\nA, B = np.meshgrid(alphas, betas, indexing=\\\"ij\\\")\\n\\nfor x in xs:\\n    k = ks[x]\\n    n = ns[x]\\n    P = expit(A + B * x)\\n    print(x, k, n, k / n)\\n    likelihood = binom.pmf(k, n, P)\\n    joint_posterior *= likelihood\\n\\njoint_posterior /= joint_posterior.sum()\";\n",
       "                var nbb_cells = Jupyter.notebook.get_cells();\n",
       "                for (var i = 0; i < nbb_cells.length; ++i) {\n",
       "                    if (nbb_cells[i].input_prompt_number == nbb_cell_id) {\n",
       "                        if (nbb_cells[i].get_text() == nbb_unformatted_code) {\n",
       "                             nbb_cells[i].set_text(nbb_formatted_code);\n",
       "                        }\n",
       "                        break;\n",
       "                    }\n",
       "                }\n",
       "            }, 500);\n",
       "            "
      ],
      "text/plain": [
       "<IPython.core.display.Javascript object>"
      ]
     },
     "metadata": {},
     "output_type": "display_data"
    }
   ],
   "source": [
    "from scipy.special import expit\n",
    "from scipy.stats import binom\n",
    "\n",
    "joint_posterior = joint_prior.copy()\n",
    "A, B = np.meshgrid(alphas, betas, indexing=\"ij\")\n",
    "\n",
    "for x in xs:\n",
    "    k = ks[x]\n",
    "    n = ns[x]\n",
    "    P = expit(A + B * x)\n",
    "    print(x, k, n, k / n)\n",
    "    likelihood = binom.pmf(k, n, P)\n",
    "    joint_posterior *= likelihood\n",
    "\n",
    "joint_posterior /= joint_posterior.sum()"
   ]
  },
  {
   "cell_type": "markdown",
   "id": "b501cd6c",
   "metadata": {},
   "source": [
    "Here are the marginal posterior distributions"
   ]
  },
  {
   "cell_type": "code",
   "execution_count": 21,
   "id": "587f80b6",
   "metadata": {},
   "outputs": [
    {
     "data": {
      "text/plain": [
       "-1.0224615752840225"
      ]
     },
     "execution_count": 21,
     "metadata": {},
     "output_type": "execute_result"
    },
    {
     "data": {
      "image/png": "[encoded data removed]",
      "text/plain": [
       "<Figure size 450x262.5 with 1 Axes>"
      ]
     },
     "metadata": {},
     "output_type": "display_data"
    },
    {
     "data": {
      "application/javascript": [
       "\n",
       "            setTimeout(function() {\n",
       "                var nbb_cell_id = 21;\n",
       "                var nbb_unformatted_code = \"marginal_alpha = joint_posterior.sum(axis=1)\\nplt.plot(alphas, marginal_alpha)\\nnp.sum(alphas * marginal_alpha)\";\n",
       "                var nbb_formatted_code = \"marginal_alpha = joint_posterior.sum(axis=1)\\nplt.plot(alphas, marginal_alpha)\\nnp.sum(alphas * marginal_alpha)\";\n",
       "                var nbb_cells = Jupyter.notebook.get_cells();\n",
       "                for (var i = 0; i < nbb_cells.length; ++i) {\n",
       "                    if (nbb_cells[i].input_prompt_number == nbb_cell_id) {\n",
       "                        if (nbb_cells[i].get_text() == nbb_unformatted_code) {\n",
       "                             nbb_cells[i].set_text(nbb_formatted_code);\n",
       "                        }\n",
       "                        break;\n",
       "                    }\n",
       "                }\n",
       "            }, 500);\n",
       "            "
      ],
      "text/plain": [
       "<IPython.core.display.Javascript object>"
      ]
     },
     "metadata": {},
     "output_type": "display_data"
    }
   ],
   "source": [
    "marginal_alpha = joint_posterior.sum(axis=1)\n",
    "plt.plot(alphas, marginal_alpha)\n",
    "np.sum(alphas * marginal_alpha)"
   ]
  },
  {
   "cell_type": "code",
   "execution_count": 22,
   "id": "cc39dba2",
   "metadata": {},
   "outputs": [
    {
     "data": {
      "text/plain": [
       "-0.039849633111829125"
      ]
     },
     "execution_count": 22,
     "metadata": {},
     "output_type": "execute_result"
    },
    {
     "data": {
      "image/png": "[encoded data removed]",
      "text/plain": [
       "<Figure size 450x262.5 with 1 Axes>"
      ]
     },
     "metadata": {},
     "output_type": "display_data"
    },
    {
     "data": {
      "application/javascript": [
       "\n",
       "            setTimeout(function() {\n",
       "                var nbb_cell_id = 22;\n",
       "                var nbb_unformatted_code = \"marginal_beta = joint_posterior.sum(axis=0)\\nplt.plot(betas, marginal_beta)\\nnp.sum(betas * marginal_beta)\";\n",
       "                var nbb_formatted_code = \"marginal_beta = joint_posterior.sum(axis=0)\\nplt.plot(betas, marginal_beta)\\nnp.sum(betas * marginal_beta)\";\n",
       "                var nbb_cells = Jupyter.notebook.get_cells();\n",
       "                for (var i = 0; i < nbb_cells.length; ++i) {\n",
       "                    if (nbb_cells[i].input_prompt_number == nbb_cell_id) {\n",
       "                        if (nbb_cells[i].get_text() == nbb_unformatted_code) {\n",
       "                             nbb_cells[i].set_text(nbb_formatted_code);\n",
       "                        }\n",
       "                        break;\n",
       "                    }\n",
       "                }\n",
       "            }, 500);\n",
       "            "
      ],
      "text/plain": [
       "<IPython.core.display.Javascript object>"
      ]
     },
     "metadata": {},
     "output_type": "display_data"
    }
   ],
   "source": [
    "marginal_beta = joint_posterior.sum(axis=0)\n",
    "plt.plot(betas, marginal_beta)\n",
    "np.sum(betas * marginal_beta)"
   ]
  },
  {
   "cell_type": "markdown",
   "id": "1b6d3f53",
   "metadata": {},
   "source": [
    "And the joint posterior"
   ]
  },
  {
   "cell_type": "code",
   "execution_count": 23,
   "id": "01125025",
   "metadata": {},
   "outputs": [
    {
     "data": {
      "application/javascript": [
       "\n",
       "            setTimeout(function() {\n",
       "                var nbb_cell_id = 23;\n",
       "                var nbb_unformatted_code = \"def joint_contour(xs, ys, p, cmap=\\\"Blues\\\"):\\n    X, Y = np.meshgrid(xs, ys, indexing=\\\"ij\\\")\\n    plt.contour(X, Y, p, cmap=cmap)\";\n",
       "                var nbb_formatted_code = \"def joint_contour(xs, ys, p, cmap=\\\"Blues\\\"):\\n    X, Y = np.meshgrid(xs, ys, indexing=\\\"ij\\\")\\n    plt.contour(X, Y, p, cmap=cmap)\";\n",
       "                var nbb_cells = Jupyter.notebook.get_cells();\n",
       "                for (var i = 0; i < nbb_cells.length; ++i) {\n",
       "                    if (nbb_cells[i].input_prompt_number == nbb_cell_id) {\n",
       "                        if (nbb_cells[i].get_text() == nbb_unformatted_code) {\n",
       "                             nbb_cells[i].set_text(nbb_formatted_code);\n",
       "                        }\n",
       "                        break;\n",
       "                    }\n",
       "                }\n",
       "            }, 500);\n",
       "            "
      ],
      "text/plain": [
       "<IPython.core.display.Javascript object>"
      ]
     },
     "metadata": {},
     "output_type": "display_data"
    }
   ],
   "source": [
    "def joint_contour(xs, ys, p, cmap=\"Blues\"):\n",
    "    X, Y = np.meshgrid(xs, ys, indexing=\"ij\")\n",
    "    plt.contour(X, Y, p, cmap=cmap)"
   ]
  },
  {
   "cell_type": "code",
   "execution_count": 24,
   "id": "a4732eb0",
   "metadata": {},
   "outputs": [
    {
     "data": {
      "image/png": "[encoded data removed]",
      "text/plain": [
       "<Figure size 450x262.5 with 1 Axes>"
      ]
     },
     "metadata": {},
     "output_type": "display_data"
    },
    {
     "data": {
      "application/javascript": [
       "\n",
       "            setTimeout(function() {\n",
       "                var nbb_cell_id = 24;\n",
       "                var nbb_unformatted_code = \"joint_contour(alphas, betas, joint_posterior)\";\n",
       "                var nbb_formatted_code = \"joint_contour(alphas, betas, joint_posterior)\";\n",
       "                var nbb_cells = Jupyter.notebook.get_cells();\n",
       "                for (var i = 0; i < nbb_cells.length; ++i) {\n",
       "                    if (nbb_cells[i].input_prompt_number == nbb_cell_id) {\n",
       "                        if (nbb_cells[i].get_text() == nbb_unformatted_code) {\n",
       "                             nbb_cells[i].set_text(nbb_formatted_code);\n",
       "                        }\n",
       "                        break;\n",
       "                    }\n",
       "                }\n",
       "            }, 500);\n",
       "            "
      ],
      "text/plain": [
       "<IPython.core.display.Javascript object>"
      ]
     },
     "metadata": {},
     "output_type": "display_data"
    }
   ],
   "source": [
    "joint_contour(alphas, betas, joint_posterior)"
   ]
  },
  {
   "cell_type": "markdown",
   "id": "4a7c6550",
   "metadata": {},
   "source": [
    "Now we can extract the posterior mean estimate for the proportion at each point."
   ]
  },
  {
   "cell_type": "code",
   "execution_count": 25,
   "id": "08828dbc",
   "metadata": {},
   "outputs": [
    {
     "data": {
      "text/plain": [
       "x\n",
       "2008    0.297482\n",
       "2010    0.280904\n",
       "2012    0.264922\n",
       "2014    0.249566\n",
       "2016    0.234859\n",
       "2018    0.220816\n",
       "2021    0.201009\n",
       "2022    0.194742\n",
       "dtype: float64"
      ]
     },
     "execution_count": 25,
     "metadata": {},
     "output_type": "execute_result"
    },
    {
     "data": {
      "application/javascript": [
       "\n",
       "            setTimeout(function() {\n",
       "                var nbb_cell_id = 25;\n",
       "                var nbb_unformatted_code = \"ps = [np.sum(joint_posterior * expit(A + B * x)) for x in xs]\\npred = pd.Series(ps, actual.index)\\npred\";\n",
       "                var nbb_formatted_code = \"ps = [np.sum(joint_posterior * expit(A + B * x)) for x in xs]\\npred = pd.Series(ps, actual.index)\\npred\";\n",
       "                var nbb_cells = Jupyter.notebook.get_cells();\n",
       "                for (var i = 0; i < nbb_cells.length; ++i) {\n",
       "                    if (nbb_cells[i].input_prompt_number == nbb_cell_id) {\n",
       "                        if (nbb_cells[i].get_text() == nbb_unformatted_code) {\n",
       "                             nbb_cells[i].set_text(nbb_formatted_code);\n",
       "                        }\n",
       "                        break;\n",
       "                    }\n",
       "                }\n",
       "            }, 500);\n",
       "            "
      ],
      "text/plain": [
       "<IPython.core.display.Javascript object>"
      ]
     },
     "metadata": {},
     "output_type": "display_data"
    }
   ],
   "source": [
    "ps = [np.sum(joint_posterior * expit(A + B * x)) for x in xs]\n",
    "pred = pd.Series(ps, actual.index)\n",
    "pred"
   ]
  },
  {
   "cell_type": "markdown",
   "id": "e78b2150",
   "metadata": {},
   "source": [
    "And a credible interval."
   ]
  },
  {
   "cell_type": "code",
   "execution_count": 26,
   "id": "6c12b860",
   "metadata": {},
   "outputs": [
    {
     "data": {
      "application/javascript": [
       "\n",
       "            setTimeout(function() {\n",
       "                var nbb_cell_id = 26;\n",
       "                var nbb_unformatted_code = \"def make_credible_interval(joint_posterior, A, B, xs):\\n    \\\"\\\"\\\" \\\"\\\"\\\"\\n    p = joint_posterior.ravel()\\n    indices = np.random.choice(len(p), p=p, size=201)\\n    sample_alpha = A.ravel()[indices]\\n    sample_beta = B.ravel()[indices]\\n\\n    P = [expit(sample_alpha + sample_beta * x) for x in xs]\\n    sample_fit = np.transpose(P)\\n    low, high = np.percentile(sample_fit, [5, 95], axis=0)\\n    return low, high\";\n",
       "                var nbb_formatted_code = \"def make_credible_interval(joint_posterior, A, B, xs):\\n    \\\"\\\"\\\" \\\"\\\"\\\"\\n    p = joint_posterior.ravel()\\n    indices = np.random.choice(len(p), p=p, size=201)\\n    sample_alpha = A.ravel()[indices]\\n    sample_beta = B.ravel()[indices]\\n\\n    P = [expit(sample_alpha + sample_beta * x) for x in xs]\\n    sample_fit = np.transpose(P)\\n    low, high = np.percentile(sample_fit, [5, 95], axis=0)\\n    return low, high\";\n",
       "                var nbb_cells = Jupyter.notebook.get_cells();\n",
       "                for (var i = 0; i < nbb_cells.length; ++i) {\n",
       "                    if (nbb_cells[i].input_prompt_number == nbb_cell_id) {\n",
       "                        if (nbb_cells[i].get_text() == nbb_unformatted_code) {\n",
       "                             nbb_cells[i].set_text(nbb_formatted_code);\n",
       "                        }\n",
       "                        break;\n",
       "                    }\n",
       "                }\n",
       "            }, 500);\n",
       "            "
      ],
      "text/plain": [
       "<IPython.core.display.Javascript object>"
      ]
     },
     "metadata": {},
     "output_type": "display_data"
    }
   ],
   "source": [
    "def make_credible_interval(joint_posterior, A, B, xs):\n",
    "    \"\"\" \"\"\"\n",
    "    p = joint_posterior.ravel()\n",
    "    indices = np.random.choice(len(p), p=p, size=201)\n",
    "    sample_alpha = A.ravel()[indices]\n",
    "    sample_beta = B.ravel()[indices]\n",
    "\n",
    "    P = [expit(sample_alpha + sample_beta * x) for x in xs]\n",
    "    sample_fit = np.transpose(P)\n",
    "    low, high = np.percentile(sample_fit, [5, 95], axis=0)\n",
    "    return low, high"
   ]
  },
  {
   "cell_type": "code",
   "execution_count": 27,
   "id": "6cc182c1",
   "metadata": {
    "scrolled": true
   },
   "outputs": [
    {
     "data": {
      "image/png": "[encoded data removed]",
      "text/plain": [
       "<Figure size 450x262.5 with 1 Axes>"
      ]
     },
     "metadata": {},
     "output_type": "display_data"
    },
    {
     "data": {
      "application/javascript": [
       "\n",
       "            setTimeout(function() {\n",
       "                var nbb_cell_id = 27;\n",
       "                var nbb_unformatted_code = \"low, high = make_credible_interval(joint_posterior, A, B, xs)\\nplt.fill_between(actual.index, low, high, color=\\\"C1\\\", alpha=0.2)\\n\\npred.plot(color=\\\"C1\\\")\\nactual.plot(style=\\\"o\\\", label=\\\"actual\\\")\\ndecorate()\";\n",
       "                var nbb_formatted_code = \"low, high = make_credible_interval(joint_posterior, A, B, xs)\\nplt.fill_between(actual.index, low, high, color=\\\"C1\\\", alpha=0.2)\\n\\npred.plot(color=\\\"C1\\\")\\nactual.plot(style=\\\"o\\\", label=\\\"actual\\\")\\ndecorate()\";\n",
       "                var nbb_cells = Jupyter.notebook.get_cells();\n",
       "                for (var i = 0; i < nbb_cells.length; ++i) {\n",
       "                    if (nbb_cells[i].input_prompt_number == nbb_cell_id) {\n",
       "                        if (nbb_cells[i].get_text() == nbb_unformatted_code) {\n",
       "                             nbb_cells[i].set_text(nbb_formatted_code);\n",
       "                        }\n",
       "                        break;\n",
       "                    }\n",
       "                }\n",
       "            }, 500);\n",
       "            "
      ],
      "text/plain": [
       "<IPython.core.display.Javascript object>"
      ]
     },
     "metadata": {},
     "output_type": "display_data"
    }
   ],
   "source": [
    "low, high = make_credible_interval(joint_posterior, A, B, xs)\n",
    "plt.fill_between(actual.index, low, high, color=\"C1\", alpha=0.2)\n",
    "\n",
    "pred.plot(color=\"C1\")\n",
    "actual.plot(style=\"o\", label=\"actual\")\n",
    "decorate()"
   ]
  },
  {
   "cell_type": "markdown",
   "id": "2cbe473a",
   "metadata": {},
   "source": [
    "## Quadratic\n",
    "\n",
    "The quadratic model is pretty much the same, but with a quadratic term.\n",
    "Because it has three parameters, the whole calculation has an additional dimension, so it's more computationally intensive, but still plenty fast for practical purposes."
   ]
  },
  {
   "cell_type": "code",
   "execution_count": 28,
   "id": "a224ae01",
   "metadata": {},
   "outputs": [
    {
     "data": {
      "text/plain": [
       "2018.0"
      ]
     },
     "execution_count": 28,
     "metadata": {},
     "output_type": "execute_result"
    },
    {
     "data": {
      "application/javascript": [
       "\n",
       "            setTimeout(function() {\n",
       "                var nbb_cell_id = 28;\n",
       "                var nbb_unformatted_code = \"m = subset[\\\"year\\\"].median()\\nm\";\n",
       "                var nbb_formatted_code = \"m = subset[\\\"year\\\"].median()\\nm\";\n",
       "                var nbb_cells = Jupyter.notebook.get_cells();\n",
       "                for (var i = 0; i < nbb_cells.length; ++i) {\n",
       "                    if (nbb_cells[i].input_prompt_number == nbb_cell_id) {\n",
       "                        if (nbb_cells[i].get_text() == nbb_unformatted_code) {\n",
       "                             nbb_cells[i].set_text(nbb_formatted_code);\n",
       "                        }\n",
       "                        break;\n",
       "                    }\n",
       "                }\n",
       "            }, 500);\n",
       "            "
      ],
      "text/plain": [
       "<IPython.core.display.Javascript object>"
      ]
     },
     "metadata": {},
     "output_type": "display_data"
    }
   ],
   "source": [
    "m = subset[\"year\"].median()\n",
    "m"
   ]
  },
  {
   "cell_type": "code",
   "execution_count": 29,
   "id": "2c2dfe05",
   "metadata": {},
   "outputs": [
    {
     "data": {
      "application/javascript": [
       "\n",
       "            setTimeout(function() {\n",
       "                var nbb_cell_id = 29;\n",
       "                var nbb_unformatted_code = \"subset[\\\"y\\\"] = subset[yvar] == yval\\nsubset[\\\"x\\\"] = subset[\\\"year\\\"] - m\\nsubset[\\\"x2\\\"] = (subset[\\\"year\\\"] - m) ** 2\";\n",
       "                var nbb_formatted_code = \"subset[\\\"y\\\"] = subset[yvar] == yval\\nsubset[\\\"x\\\"] = subset[\\\"year\\\"] - m\\nsubset[\\\"x2\\\"] = (subset[\\\"year\\\"] - m) ** 2\";\n",
       "                var nbb_cells = Jupyter.notebook.get_cells();\n",
       "                for (var i = 0; i < nbb_cells.length; ++i) {\n",
       "                    if (nbb_cells[i].input_prompt_number == nbb_cell_id) {\n",
       "                        if (nbb_cells[i].get_text() == nbb_unformatted_code) {\n",
       "                             nbb_cells[i].set_text(nbb_formatted_code);\n",
       "                        }\n",
       "                        break;\n",
       "                    }\n",
       "                }\n",
       "            }, 500);\n",
       "            "
      ],
      "text/plain": [
       "<IPython.core.display.Javascript object>"
      ]
     },
     "metadata": {},
     "output_type": "display_data"
    }
   ],
   "source": [
    "subset[\"y\"] = subset[yvar] == yval\n",
    "subset[\"x\"] = subset[\"year\"] - m\n",
    "subset[\"x2\"] = (subset[\"year\"] - m) ** 2"
   ]
  },
  {
   "cell_type": "code",
   "execution_count": 30,
   "id": "d0c20413",
   "metadata": {},
   "outputs": [
    {
     "data": {
      "text/plain": [
       "x\n",
       "-10.0     22\n",
       "-8.0      90\n",
       "-6.0     151\n",
       "-4.0     228\n",
       "-2.0     395\n",
       " 0.0     406\n",
       " 3.0     675\n",
       " 4.0     592\n",
       "Name: y, dtype: int64"
      ]
     },
     "execution_count": 30,
     "metadata": {},
     "output_type": "execute_result"
    },
    {
     "data": {
      "application/javascript": [
       "\n",
       "            setTimeout(function() {\n",
       "                var nbb_cell_id = 30;\n",
       "                var nbb_unformatted_code = \"ns = subset.groupby(\\\"x\\\")[\\\"y\\\"].count()\\nns\";\n",
       "                var nbb_formatted_code = \"ns = subset.groupby(\\\"x\\\")[\\\"y\\\"].count()\\nns\";\n",
       "                var nbb_cells = Jupyter.notebook.get_cells();\n",
       "                for (var i = 0; i < nbb_cells.length; ++i) {\n",
       "                    if (nbb_cells[i].input_prompt_number == nbb_cell_id) {\n",
       "                        if (nbb_cells[i].get_text() == nbb_unformatted_code) {\n",
       "                             nbb_cells[i].set_text(nbb_formatted_code);\n",
       "                        }\n",
       "                        break;\n",
       "                    }\n",
       "                }\n",
       "            }, 500);\n",
       "            "
      ],
      "text/plain": [
       "<IPython.core.display.Javascript object>"
      ]
     },
     "metadata": {},
     "output_type": "display_data"
    }
   ],
   "source": [
    "ns = subset.groupby(\"x\")[\"y\"].count()\n",
    "ns"
   ]
  },
  {
   "cell_type": "code",
   "execution_count": 31,
   "id": "6f3dcd29",
   "metadata": {},
   "outputs": [
    {
     "data": {
      "text/plain": [
       "x\n",
       "-10.0      5\n",
       "-8.0      27\n",
       "-6.0      39\n",
       "-4.0      58\n",
       "-2.0     101\n",
       " 0.0      84\n",
       " 3.0     111\n",
       " 4.0     137\n",
       "Name: y, dtype: int64"
      ]
     },
     "execution_count": 31,
     "metadata": {},
     "output_type": "execute_result"
    },
    {
     "data": {
      "application/javascript": [
       "\n",
       "            setTimeout(function() {\n",
       "                var nbb_cell_id = 31;\n",
       "                var nbb_unformatted_code = \"ks = subset.groupby(\\\"x\\\")[\\\"y\\\"].sum()\\nxs = ks.index\\nks\";\n",
       "                var nbb_formatted_code = \"ks = subset.groupby(\\\"x\\\")[\\\"y\\\"].sum()\\nxs = ks.index\\nks\";\n",
       "                var nbb_cells = Jupyter.notebook.get_cells();\n",
       "                for (var i = 0; i < nbb_cells.length; ++i) {\n",
       "                    if (nbb_cells[i].input_prompt_number == nbb_cell_id) {\n",
       "                        if (nbb_cells[i].get_text() == nbb_unformatted_code) {\n",
       "                             nbb_cells[i].set_text(nbb_formatted_code);\n",
       "                        }\n",
       "                        break;\n",
       "                    }\n",
       "                }\n",
       "            }, 500);\n",
       "            "
      ],
      "text/plain": [
       "<IPython.core.display.Javascript object>"
      ]
     },
     "metadata": {},
     "output_type": "display_data"
    }
   ],
   "source": [
    "ks = subset.groupby(\"x\")[\"y\"].sum()\n",
    "xs = ks.index\n",
    "ks"
   ]
  },
  {
   "cell_type": "code",
   "execution_count": 32,
   "id": "ab8be57b",
   "metadata": {},
   "outputs": [
    {
     "data": {
      "text/plain": [
       "x\n",
       "2008.0    0.227273\n",
       "2010.0    0.300000\n",
       "2012.0    0.258278\n",
       "2014.0    0.254386\n",
       "2016.0    0.255696\n",
       "2018.0    0.206897\n",
       "2021.0    0.164444\n",
       "2022.0    0.231419\n",
       "Name: y, dtype: float64"
      ]
     },
     "execution_count": 32,
     "metadata": {},
     "output_type": "execute_result"
    },
    {
     "data": {
      "application/javascript": [
       "\n",
       "            setTimeout(function() {\n",
       "                var nbb_cell_id = 32;\n",
       "                var nbb_unformatted_code = \"actual = ks / ns\\nactual.index = xs + m\\nactual\";\n",
       "                var nbb_formatted_code = \"actual = ks / ns\\nactual.index = xs + m\\nactual\";\n",
       "                var nbb_cells = Jupyter.notebook.get_cells();\n",
       "                for (var i = 0; i < nbb_cells.length; ++i) {\n",
       "                    if (nbb_cells[i].input_prompt_number == nbb_cell_id) {\n",
       "                        if (nbb_cells[i].get_text() == nbb_unformatted_code) {\n",
       "                             nbb_cells[i].set_text(nbb_formatted_code);\n",
       "                        }\n",
       "                        break;\n",
       "                    }\n",
       "                }\n",
       "            }, 500);\n",
       "            "
      ],
      "text/plain": [
       "<IPython.core.display.Javascript object>"
      ]
     },
     "metadata": {},
     "output_type": "display_data"
    }
   ],
   "source": [
    "actual = ks / ns\n",
    "actual.index = xs + m\n",
    "actual"
   ]
  },
  {
   "cell_type": "code",
   "execution_count": 33,
   "id": "9bdf3cfa",
   "metadata": {},
   "outputs": [
    {
     "data": {
      "image/png": "[encoded data removed]",
      "text/plain": [
       "<Figure size 450x262.5 with 1 Axes>"
      ]
     },
     "metadata": {},
     "output_type": "display_data"
    },
    {
     "data": {
      "application/javascript": [
       "\n",
       "            setTimeout(function() {\n",
       "                var nbb_cell_id = 33;\n",
       "                var nbb_unformatted_code = \"from scipy.stats import norm\\n\\nalphas = np.linspace(-3, 3, 91)\\nalpha_prior = norm.pdf(alphas, 0, 3)\\nalpha_prior /= alpha_prior.sum()\\n\\nplt.plot(alphas, alpha_prior)\\ndecorate(ylim=[0, alpha_prior.max()])\";\n",
       "                var nbb_formatted_code = \"from scipy.stats import norm\\n\\nalphas = np.linspace(-3, 3, 91)\\nalpha_prior = norm.pdf(alphas, 0, 3)\\nalpha_prior /= alpha_prior.sum()\\n\\nplt.plot(alphas, alpha_prior)\\ndecorate(ylim=[0, alpha_prior.max()])\";\n",
       "                var nbb_cells = Jupyter.notebook.get_cells();\n",
       "                for (var i = 0; i < nbb_cells.length; ++i) {\n",
       "                    if (nbb_cells[i].input_prompt_number == nbb_cell_id) {\n",
       "                        if (nbb_cells[i].get_text() == nbb_unformatted_code) {\n",
       "                             nbb_cells[i].set_text(nbb_formatted_code);\n",
       "                        }\n",
       "                        break;\n",
       "                    }\n",
       "                }\n",
       "            }, 500);\n",
       "            "
      ],
      "text/plain": [
       "<IPython.core.display.Javascript object>"
      ]
     },
     "metadata": {},
     "output_type": "display_data"
    }
   ],
   "source": [
    "from scipy.stats import norm\n",
    "\n",
    "alphas = np.linspace(-3, 3, 91)\n",
    "alpha_prior = norm.pdf(alphas, 0, 3)\n",
    "alpha_prior /= alpha_prior.sum()\n",
    "\n",
    "plt.plot(alphas, alpha_prior)\n",
    "decorate(ylim=[0, alpha_prior.max()])"
   ]
  },
  {
   "cell_type": "code",
   "execution_count": 34,
   "id": "b2606d43",
   "metadata": {},
   "outputs": [
    {
     "data": {
      "application/javascript": [
       "\n",
       "            setTimeout(function() {\n",
       "                var nbb_cell_id = 34;\n",
       "                var nbb_unformatted_code = \"std1 = 0.1\\nstd2 = 0.1\";\n",
       "                var nbb_formatted_code = \"std1 = 0.1\\nstd2 = 0.1\";\n",
       "                var nbb_cells = Jupyter.notebook.get_cells();\n",
       "                for (var i = 0; i < nbb_cells.length; ++i) {\n",
       "                    if (nbb_cells[i].input_prompt_number == nbb_cell_id) {\n",
       "                        if (nbb_cells[i].get_text() == nbb_unformatted_code) {\n",
       "                             nbb_cells[i].set_text(nbb_formatted_code);\n",
       "                        }\n",
       "                        break;\n",
       "                    }\n",
       "                }\n",
       "            }, 500);\n",
       "            "
      ],
      "text/plain": [
       "<IPython.core.display.Javascript object>"
      ]
     },
     "metadata": {},
     "output_type": "display_data"
    }
   ],
   "source": [
    "std1 = 0.1\n",
    "std2 = 0.1"
   ]
  },
  {
   "cell_type": "code",
   "execution_count": 35,
   "id": "df37a852",
   "metadata": {},
   "outputs": [
    {
     "data": {
      "image/png": "[encoded data removed]",
      "text/plain": [
       "<Figure size 450x262.5 with 1 Axes>"
      ]
     },
     "metadata": {},
     "output_type": "display_data"
    },
    {
     "data": {
      "application/javascript": [
       "\n",
       "            setTimeout(function() {\n",
       "                var nbb_cell_id = 35;\n",
       "                var nbb_unformatted_code = \"betas = np.linspace(-1, 1, 101)\\nbeta_prior = norm.pdf(betas, 0, std1)\\nbeta_prior /= beta_prior.sum()\\n\\nplt.plot(betas, beta_prior)\\ndecorate(ylim=[0, beta_prior.max()])\";\n",
       "                var nbb_formatted_code = \"betas = np.linspace(-1, 1, 101)\\nbeta_prior = norm.pdf(betas, 0, std1)\\nbeta_prior /= beta_prior.sum()\\n\\nplt.plot(betas, beta_prior)\\ndecorate(ylim=[0, beta_prior.max()])\";\n",
       "                var nbb_cells = Jupyter.notebook.get_cells();\n",
       "                for (var i = 0; i < nbb_cells.length; ++i) {\n",
       "                    if (nbb_cells[i].input_prompt_number == nbb_cell_id) {\n",
       "                        if (nbb_cells[i].get_text() == nbb_unformatted_code) {\n",
       "                             nbb_cells[i].set_text(nbb_formatted_code);\n",
       "                        }\n",
       "                        break;\n",
       "                    }\n",
       "                }\n",
       "            }, 500);\n",
       "            "
      ],
      "text/plain": [
       "<IPython.core.display.Javascript object>"
      ]
     },
     "metadata": {},
     "output_type": "display_data"
    }
   ],
   "source": [
    "betas = np.linspace(-1, 1, 101)\n",
    "beta_prior = norm.pdf(betas, 0, std1)\n",
    "beta_prior /= beta_prior.sum()\n",
    "\n",
    "plt.plot(betas, beta_prior)\n",
    "decorate(ylim=[0, beta_prior.max()])"
   ]
  },
  {
   "cell_type": "code",
   "execution_count": 36,
   "id": "357e7eec",
   "metadata": {},
   "outputs": [
    {
     "data": {
      "image/png": "[encoded data removed]",
      "text/plain": [
       "<Figure size 450x262.5 with 1 Axes>"
      ]
     },
     "metadata": {},
     "output_type": "display_data"
    },
    {
     "data": {
      "application/javascript": [
       "\n",
       "            setTimeout(function() {\n",
       "                var nbb_cell_id = 36;\n",
       "                var nbb_unformatted_code = \"gammas = np.linspace(-1, 1, 101)\\ngamma_prior = norm.pdf(gammas, 0, std2)\\ngamma_prior /= gamma_prior.sum()\\n\\nplt.plot(gammas, gamma_prior)\\ndecorate(ylim=[0, gamma_prior.max()])\";\n",
       "                var nbb_formatted_code = \"gammas = np.linspace(-1, 1, 101)\\ngamma_prior = norm.pdf(gammas, 0, std2)\\ngamma_prior /= gamma_prior.sum()\\n\\nplt.plot(gammas, gamma_prior)\\ndecorate(ylim=[0, gamma_prior.max()])\";\n",
       "                var nbb_cells = Jupyter.notebook.get_cells();\n",
       "                for (var i = 0; i < nbb_cells.length; ++i) {\n",
       "                    if (nbb_cells[i].input_prompt_number == nbb_cell_id) {\n",
       "                        if (nbb_cells[i].get_text() == nbb_unformatted_code) {\n",
       "                             nbb_cells[i].set_text(nbb_formatted_code);\n",
       "                        }\n",
       "                        break;\n",
       "                    }\n",
       "                }\n",
       "            }, 500);\n",
       "            "
      ],
      "text/plain": [
       "<IPython.core.display.Javascript object>"
      ]
     },
     "metadata": {},
     "output_type": "display_data"
    }
   ],
   "source": [
    "gammas = np.linspace(-1, 1, 101)\n",
    "gamma_prior = norm.pdf(gammas, 0, std2)\n",
    "gamma_prior /= gamma_prior.sum()\n",
    "\n",
    "plt.plot(gammas, gamma_prior)\n",
    "decorate(ylim=[0, gamma_prior.max()])"
   ]
  },
  {
   "cell_type": "code",
   "execution_count": 37,
   "id": "b32a0121",
   "metadata": {},
   "outputs": [
    {
     "data": {
      "application/javascript": [
       "\n",
       "            setTimeout(function() {\n",
       "                var nbb_cell_id = 37;\n",
       "                var nbb_unformatted_code = \"AP, BP, GP = np.meshgrid(alpha_prior, beta_prior, gamma_prior, indexing=\\\"ij\\\")\\njoint_prior = AP * BP * GP\";\n",
       "                var nbb_formatted_code = \"AP, BP, GP = np.meshgrid(alpha_prior, beta_prior, gamma_prior, indexing=\\\"ij\\\")\\njoint_prior = AP * BP * GP\";\n",
       "                var nbb_cells = Jupyter.notebook.get_cells();\n",
       "                for (var i = 0; i < nbb_cells.length; ++i) {\n",
       "                    if (nbb_cells[i].input_prompt_number == nbb_cell_id) {\n",
       "                        if (nbb_cells[i].get_text() == nbb_unformatted_code) {\n",
       "                             nbb_cells[i].set_text(nbb_formatted_code);\n",
       "                        }\n",
       "                        break;\n",
       "                    }\n",
       "                }\n",
       "            }, 500);\n",
       "            "
      ],
      "text/plain": [
       "<IPython.core.display.Javascript object>"
      ]
     },
     "metadata": {},
     "output_type": "display_data"
    }
   ],
   "source": [
    "AP, BP, GP = np.meshgrid(alpha_prior, beta_prior, gamma_prior, indexing=\"ij\")\n",
    "joint_prior = AP * BP * GP"
   ]
  },
  {
   "cell_type": "code",
   "execution_count": 38,
   "id": "8baa4377",
   "metadata": {},
   "outputs": [
    {
     "name": "stdout",
     "output_type": "stream",
     "text": [
      "-10.0 5 22 0.22727272727272727\n",
      "-8.0 27 90 0.3\n",
      "-6.0 39 151 0.2582781456953642\n",
      "-4.0 58 228 0.2543859649122807\n",
      "-2.0 101 395 0.25569620253164554\n",
      "0.0 84 406 0.20689655172413793\n",
      "3.0 111 675 0.16444444444444445\n",
      "4.0 137 592 0.23141891891891891\n"
     ]
    },
    {
     "data": {
      "application/javascript": [
       "\n",
       "            setTimeout(function() {\n",
       "                var nbb_cell_id = 38;\n",
       "                var nbb_unformatted_code = \"from scipy.special import expit\\nfrom scipy.stats import binom\\n\\njoint_posterior = joint_prior.copy()\\nA, B, C = np.meshgrid(alphas, betas, gammas, indexing=\\\"ij\\\")\\n\\nfor x in xs:\\n    k = ks[x]\\n    n = ns[x]\\n    P = expit(A + B * x + C * x**2)\\n    print(x, k, n, k / n)\\n    likelihood = binom.pmf(k, n, P)\\n    joint_posterior *= likelihood\\n\\njoint_posterior /= joint_posterior.sum()\";\n",
       "                var nbb_formatted_code = \"from scipy.special import expit\\nfrom scipy.stats import binom\\n\\njoint_posterior = joint_prior.copy()\\nA, B, C = np.meshgrid(alphas, betas, gammas, indexing=\\\"ij\\\")\\n\\nfor x in xs:\\n    k = ks[x]\\n    n = ns[x]\\n    P = expit(A + B * x + C * x**2)\\n    print(x, k, n, k / n)\\n    likelihood = binom.pmf(k, n, P)\\n    joint_posterior *= likelihood\\n\\njoint_posterior /= joint_posterior.sum()\";\n",
       "                var nbb_cells = Jupyter.notebook.get_cells();\n",
       "                for (var i = 0; i < nbb_cells.length; ++i) {\n",
       "                    if (nbb_cells[i].input_prompt_number == nbb_cell_id) {\n",
       "                        if (nbb_cells[i].get_text() == nbb_unformatted_code) {\n",
       "                             nbb_cells[i].set_text(nbb_formatted_code);\n",
       "                        }\n",
       "                        break;\n",
       "                    }\n",
       "                }\n",
       "            }, 500);\n",
       "            "
      ],
      "text/plain": [
       "<IPython.core.display.Javascript object>"
      ]
     },
     "metadata": {},
     "output_type": "display_data"
    }
   ],
   "source": [
    "from scipy.special import expit\n",
    "from scipy.stats import binom\n",
    "\n",
    "joint_posterior = joint_prior.copy()\n",
    "A, B, C = np.meshgrid(alphas, betas, gammas, indexing=\"ij\")\n",
    "\n",
    "for x in xs:\n",
    "    k = ks[x]\n",
    "    n = ns[x]\n",
    "    P = expit(A + B * x + C * x**2)\n",
    "    print(x, k, n, k / n)\n",
    "    likelihood = binom.pmf(k, n, P)\n",
    "    joint_posterior *= likelihood\n",
    "\n",
    "joint_posterior /= joint_posterior.sum()"
   ]
  },
  {
   "cell_type": "code",
   "execution_count": 39,
   "id": "01528c75",
   "metadata": {},
   "outputs": [
    {
     "data": {
      "text/plain": [
       "-1.2615403317333038"
      ]
     },
     "execution_count": 39,
     "metadata": {},
     "output_type": "execute_result"
    },
    {
     "data": {
      "image/png": "[encoded data removed]",
      "text/plain": [
       "<Figure size 450x262.5 with 1 Axes>"
      ]
     },
     "metadata": {},
     "output_type": "display_data"
    },
    {
     "data": {
      "application/javascript": [
       "\n",
       "            setTimeout(function() {\n",
       "                var nbb_cell_id = 39;\n",
       "                var nbb_unformatted_code = \"marginal_alpha = joint_posterior.sum(axis=(1, 2))\\nplt.plot(alphas, marginal_alpha)\\nnp.sum(alphas * marginal_alpha)\";\n",
       "                var nbb_formatted_code = \"marginal_alpha = joint_posterior.sum(axis=(1, 2))\\nplt.plot(alphas, marginal_alpha)\\nnp.sum(alphas * marginal_alpha)\";\n",
       "                var nbb_cells = Jupyter.notebook.get_cells();\n",
       "                for (var i = 0; i < nbb_cells.length; ++i) {\n",
       "                    if (nbb_cells[i].input_prompt_number == nbb_cell_id) {\n",
       "                        if (nbb_cells[i].get_text() == nbb_unformatted_code) {\n",
       "                             nbb_cells[i].set_text(nbb_formatted_code);\n",
       "                        }\n",
       "                        break;\n",
       "                    }\n",
       "                }\n",
       "            }, 500);\n",
       "            "
      ],
      "text/plain": [
       "<IPython.core.display.Javascript object>"
      ]
     },
     "metadata": {},
     "output_type": "display_data"
    }
   ],
   "source": [
    "marginal_alpha = joint_posterior.sum(axis=(1, 2))\n",
    "plt.plot(alphas, marginal_alpha)\n",
    "np.sum(alphas * marginal_alpha)"
   ]
  },
  {
   "cell_type": "code",
   "execution_count": 40,
   "id": "e74cbe79",
   "metadata": {},
   "outputs": [
    {
     "data": {
      "text/plain": [
       "-0.03926508268535597"
      ]
     },
     "execution_count": 40,
     "metadata": {},
     "output_type": "execute_result"
    },
    {
     "data": {
      "image/png": "[encoded data removed]",
      "text/plain": [
       "<Figure size 450x262.5 with 1 Axes>"
      ]
     },
     "metadata": {},
     "output_type": "display_data"
    },
    {
     "data": {
      "application/javascript": [
       "\n",
       "            setTimeout(function() {\n",
       "                var nbb_cell_id = 40;\n",
       "                var nbb_unformatted_code = \"marginal_beta = joint_posterior.sum(axis=(0, 2))\\nplt.plot(betas, marginal_beta)\\nnp.sum(betas * marginal_beta)\";\n",
       "                var nbb_formatted_code = \"marginal_beta = joint_posterior.sum(axis=(0, 2))\\nplt.plot(betas, marginal_beta)\\nnp.sum(betas * marginal_beta)\";\n",
       "                var nbb_cells = Jupyter.notebook.get_cells();\n",
       "                for (var i = 0; i < nbb_cells.length; ++i) {\n",
       "                    if (nbb_cells[i].input_prompt_number == nbb_cell_id) {\n",
       "                        if (nbb_cells[i].get_text() == nbb_unformatted_code) {\n",
       "                             nbb_cells[i].set_text(nbb_formatted_code);\n",
       "                        }\n",
       "                        break;\n",
       "                    }\n",
       "                }\n",
       "            }, 500);\n",
       "            "
      ],
      "text/plain": [
       "<IPython.core.display.Javascript object>"
      ]
     },
     "metadata": {},
     "output_type": "display_data"
    }
   ],
   "source": [
    "marginal_beta = joint_posterior.sum(axis=(0, 2))\n",
    "plt.plot(betas, marginal_beta)\n",
    "np.sum(betas * marginal_beta)"
   ]
  },
  {
   "cell_type": "code",
   "execution_count": 41,
   "id": "3efd3b97",
   "metadata": {},
   "outputs": [
    {
     "data": {
      "text/plain": [
       "7.791531274000829e-09"
      ]
     },
     "execution_count": 41,
     "metadata": {},
     "output_type": "execute_result"
    },
    {
     "data": {
      "image/png": "[encoded data removed]",
      "text/plain": [
       "<Figure size 450x262.5 with 1 Axes>"
      ]
     },
     "metadata": {},
     "output_type": "display_data"
    },
    {
     "data": {
      "application/javascript": [
       "\n",
       "            setTimeout(function() {\n",
       "                var nbb_cell_id = 41;\n",
       "                var nbb_unformatted_code = \"marginal_gamma = joint_posterior.sum(axis=(0, 1))\\nplt.plot(gammas, marginal_gamma)\\nnp.sum(gammas * marginal_gamma)\";\n",
       "                var nbb_formatted_code = \"marginal_gamma = joint_posterior.sum(axis=(0, 1))\\nplt.plot(gammas, marginal_gamma)\\nnp.sum(gammas * marginal_gamma)\";\n",
       "                var nbb_cells = Jupyter.notebook.get_cells();\n",
       "                for (var i = 0; i < nbb_cells.length; ++i) {\n",
       "                    if (nbb_cells[i].input_prompt_number == nbb_cell_id) {\n",
       "                        if (nbb_cells[i].get_text() == nbb_unformatted_code) {\n",
       "                             nbb_cells[i].set_text(nbb_formatted_code);\n",
       "                        }\n",
       "                        break;\n",
       "                    }\n",
       "                }\n",
       "            }, 500);\n",
       "            "
      ],
      "text/plain": [
       "<IPython.core.display.Javascript object>"
      ]
     },
     "metadata": {},
     "output_type": "display_data"
    }
   ],
   "source": [
    "marginal_gamma = joint_posterior.sum(axis=(0, 1))\n",
    "plt.plot(gammas, marginal_gamma)\n",
    "np.sum(gammas * marginal_gamma)"
   ]
  },
  {
   "cell_type": "code",
   "execution_count": 42,
   "id": "3079b204",
   "metadata": {},
   "outputs": [
    {
     "data": {
      "image/png": "[encoded data removed]",
      "text/plain": [
       "<Figure size 450x262.5 with 1 Axes>"
      ]
     },
     "metadata": {},
     "output_type": "display_data"
    },
    {
     "data": {
      "application/javascript": [
       "\n",
       "            setTimeout(function() {\n",
       "                var nbb_cell_id = 42;\n",
       "                var nbb_unformatted_code = \"joint_contour(alphas, betas, joint_posterior.sum(axis=2))\";\n",
       "                var nbb_formatted_code = \"joint_contour(alphas, betas, joint_posterior.sum(axis=2))\";\n",
       "                var nbb_cells = Jupyter.notebook.get_cells();\n",
       "                for (var i = 0; i < nbb_cells.length; ++i) {\n",
       "                    if (nbb_cells[i].input_prompt_number == nbb_cell_id) {\n",
       "                        if (nbb_cells[i].get_text() == nbb_unformatted_code) {\n",
       "                             nbb_cells[i].set_text(nbb_formatted_code);\n",
       "                        }\n",
       "                        break;\n",
       "                    }\n",
       "                }\n",
       "            }, 500);\n",
       "            "
      ],
      "text/plain": [
       "<IPython.core.display.Javascript object>"
      ]
     },
     "metadata": {},
     "output_type": "display_data"
    }
   ],
   "source": [
    "joint_contour(alphas, betas, joint_posterior.sum(axis=2))"
   ]
  },
  {
   "cell_type": "code",
   "execution_count": 43,
   "id": "dc774580",
   "metadata": {},
   "outputs": [
    {
     "data": {
      "image/png": "[encoded data removed]",
      "text/plain": [
       "<Figure size 450x262.5 with 1 Axes>"
      ]
     },
     "metadata": {},
     "output_type": "display_data"
    },
    {
     "data": {
      "application/javascript": [
       "\n",
       "            setTimeout(function() {\n",
       "                var nbb_cell_id = 43;\n",
       "                var nbb_unformatted_code = \"joint_contour(betas, gammas, joint_posterior.sum(axis=0))\";\n",
       "                var nbb_formatted_code = \"joint_contour(betas, gammas, joint_posterior.sum(axis=0))\";\n",
       "                var nbb_cells = Jupyter.notebook.get_cells();\n",
       "                for (var i = 0; i < nbb_cells.length; ++i) {\n",
       "                    if (nbb_cells[i].input_prompt_number == nbb_cell_id) {\n",
       "                        if (nbb_cells[i].get_text() == nbb_unformatted_code) {\n",
       "                             nbb_cells[i].set_text(nbb_formatted_code);\n",
       "                        }\n",
       "                        break;\n",
       "                    }\n",
       "                }\n",
       "            }, 500);\n",
       "            "
      ],
      "text/plain": [
       "<IPython.core.display.Javascript object>"
      ]
     },
     "metadata": {},
     "output_type": "display_data"
    }
   ],
   "source": [
    "joint_contour(betas, gammas, joint_posterior.sum(axis=0))"
   ]
  },
  {
   "cell_type": "code",
   "execution_count": 44,
   "id": "85ee0661",
   "metadata": {},
   "outputs": [
    {
     "data": {
      "application/javascript": [
       "\n",
       "            setTimeout(function() {\n",
       "                var nbb_cell_id = 44;\n",
       "                var nbb_unformatted_code = \"low, high = xs.min(), xs.max()\\npred_xs = np.linspace(low, high, 21)\\npred_ys = [np.sum(joint_posterior * expit(A + B * x + C * x**2)) for x in pred_xs]\\npred = pd.Series(pred_ys, pred_xs + m)\";\n",
       "                var nbb_formatted_code = \"low, high = xs.min(), xs.max()\\npred_xs = np.linspace(low, high, 21)\\npred_ys = [np.sum(joint_posterior * expit(A + B * x + C * x**2)) for x in pred_xs]\\npred = pd.Series(pred_ys, pred_xs + m)\";\n",
       "                var nbb_cells = Jupyter.notebook.get_cells();\n",
       "                for (var i = 0; i < nbb_cells.length; ++i) {\n",
       "                    if (nbb_cells[i].input_prompt_number == nbb_cell_id) {\n",
       "                        if (nbb_cells[i].get_text() == nbb_unformatted_code) {\n",
       "                             nbb_cells[i].set_text(nbb_formatted_code);\n",
       "                        }\n",
       "                        break;\n",
       "                    }\n",
       "                }\n",
       "            }, 500);\n",
       "            "
      ],
      "text/plain": [
       "<IPython.core.display.Javascript object>"
      ]
     },
     "metadata": {},
     "output_type": "display_data"
    }
   ],
   "source": [
    "low, high = xs.min(), xs.max()\n",
    "pred_xs = np.linspace(low, high, 21)\n",
    "pred_ys = [np.sum(joint_posterior * expit(A + B * x + C * x**2)) for x in pred_xs]\n",
    "pred = pd.Series(pred_ys, pred_xs + m)"
   ]
  },
  {
   "cell_type": "code",
   "execution_count": 45,
   "id": "4664dd5d",
   "metadata": {
    "scrolled": true
   },
   "outputs": [
    {
     "data": {
      "text/plain": [
       "<Axes: xlabel='x'>"
      ]
     },
     "execution_count": 45,
     "metadata": {},
     "output_type": "execute_result"
    },
    {
     "data": {
      "image/png": "[encoded data removed]",
      "text/plain": [
       "<Figure size 450x262.5 with 1 Axes>"
      ]
     },
     "metadata": {},
     "output_type": "display_data"
    },
    {
     "data": {
      "application/javascript": [
       "\n",
       "            setTimeout(function() {\n",
       "                var nbb_cell_id = 45;\n",
       "                var nbb_unformatted_code = \"actual.plot(style=\\\"o\\\")\\npred.plot()\";\n",
       "                var nbb_formatted_code = \"actual.plot(style=\\\"o\\\")\\npred.plot()\";\n",
       "                var nbb_cells = Jupyter.notebook.get_cells();\n",
       "                for (var i = 0; i < nbb_cells.length; ++i) {\n",
       "                    if (nbb_cells[i].input_prompt_number == nbb_cell_id) {\n",
       "                        if (nbb_cells[i].get_text() == nbb_unformatted_code) {\n",
       "                             nbb_cells[i].set_text(nbb_formatted_code);\n",
       "                        }\n",
       "                        break;\n",
       "                    }\n",
       "                }\n",
       "            }, 500);\n",
       "            "
      ],
      "text/plain": [
       "<IPython.core.display.Javascript object>"
      ]
     },
     "metadata": {},
     "output_type": "display_data"
    }
   ],
   "source": [
    "actual.plot(style=\"o\")\n",
    "pred.plot()"
   ]
  },
  {
   "cell_type": "markdown",
   "id": "db69dc8f",
   "metadata": {
    "tags": []
   },
   "source": [
    "Copyright 2024 Allen Downey \n",
    "\n",
    "The code in this notebook and `utils.py` is under the [MIT license](https://mit-license.org/)."
   ]
  }
 ],
 "metadata": {
  "celltoolbar": "Tags",
  "kernelspec": {
   "display_name": "Python 3 (ipykernel)",
   "language": "python",
   "name": "python3"
  },
  "language_info": {
   "codemirror_mode": {
    "name": "ipython",
    "version": 3
   },
   "file_extension": ".py",
   "mimetype": "text/x-python",
   "name": "python",
   "nbconvert_exporter": "python",
   "pygments_lexer": "ipython3",
   "version": "3.10.12"
  }
 },
 "nbformat": 4,
 "nbformat_minor": 5
}
