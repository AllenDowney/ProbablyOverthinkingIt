{
 "cells": [
  {
   "cell_type": "markdown",
   "metadata": {},
   "source": [
    "#One million is a lot\n",
    "\n",
    "This notebook presents analysis of data from the first million page views on my blog, Probably Overthinking It.\n",
    "\n",
    "Copyright 2015 Allen Downey\n",
    "\n",
    "MIT License: http://opensource.org/licenses/MIT"
   ]
  },
  {
   "cell_type": "code",
   "execution_count": 1,
   "metadata": {
    "collapsed": true
   },
   "outputs": [],
   "source": [
    "%matplotlib inline"
   ]
  },
  {
   "cell_type": "code",
   "execution_count": 7,
   "metadata": {
    "collapsed": false
   },
   "outputs": [],
   "source": [
    "import pandas as pd\n",
    "\n",
    "def read_table(filename):\n",
    "    fp = open(filename)\n",
    "    t = pd.read_html(fp)\n",
    "    table = t[5]\n",
    "    return table"
   ]
  },
  {
   "cell_type": "code",
   "execution_count": 13,
   "metadata": {
    "collapsed": false
   },
   "outputs": [
    {
     "data": {
      "text/plain": [
       "(100, 8)"
      ]
     },
     "execution_count": 13,
     "metadata": {},
     "output_type": "execute_result"
    }
   ],
   "source": [
    "table1 = read_table('blogger1.html')\n",
    "table1.shape"
   ]
  },
  {
   "cell_type": "code",
   "execution_count": 14,
   "metadata": {
    "collapsed": false
   },
   "outputs": [
    {
     "data": {
      "text/plain": [
       "(20, 8)"
      ]
     },
     "execution_count": 14,
     "metadata": {},
     "output_type": "execute_result"
    }
   ],
   "source": [
    "table2 = read_table('blogger2.html')\n",
    "table2.shape"
   ]
  },
  {
   "cell_type": "code",
   "execution_count": 18,
   "metadata": {
    "collapsed": false
   },
   "outputs": [
    {
     "data": {
      "text/plain": [
       "(120, 9)"
      ]
     },
     "execution_count": 18,
     "metadata": {},
     "output_type": "execute_result"
    }
   ],
   "source": [
    "table = pd.concat([table1, table2], ignore_index=True)\n",
    "table.shape"
   ]
  },
  {
   "cell_type": "code",
   "execution_count": 19,
   "metadata": {
    "collapsed": false
   },
   "outputs": [],
   "source": [
    "import string\n",
    "chars = string.ascii_letters + ' '\n",
    "\n",
    "def convert(s):\n",
    "    return (int(s.rstrip(chars)))\n",
    "\n",
    "def clean(s):\n",
    "    i = s.find('Edit')\n",
    "    return s[:i]"
   ]
  },
  {
   "cell_type": "code",
   "execution_count": 20,
   "metadata": {
    "collapsed": false
   },
   "outputs": [
    {
     "data": {
      "text/plain": [
       "0                                   One million is a lot\n",
       "1                    When will I win the Great Bear Run?\n",
       "2                                    Bayes meets Fourier\n",
       "3                First babies are more likely to be late\n",
       "4                Bayesian analysis of gluten sensitivity\n",
       "5                             Bayes theorem in real life\n",
       "6                   The Inspection Paradox is Everywhere\n",
       "7                                 Orange is the new stat\n",
       "8                     Will Millennials Ever Get Married?\n",
       "9                                     Bayesian Billiards\n",
       "10                           The Sleeping Beauty Problem\n",
       "11             Hypothesis testing is only mostly useless\n",
       "12                 Two hour marathon by 2041 -- probably\n",
       "13      Bayesian survival analysis for \"Game of Thrones\"\n",
       "14            Statistical inference is only mostly wrong\n",
       "15          Upcoming talk on survival analysis in Python\n",
       "16            Bayesian analysis of match rates on Tinder\n",
       "17       Godless freshmen: now more Nones than Catholics\n",
       "18              Bayesian predictions for Super Bowl XLIX\n",
       "19                    Statistics tutorials at PyCon 2015\n",
       "20                                The Rock Hyrax Problem\n",
       "21     The World Cup Problem Part 2: Germany v. Argen...\n",
       "22              The World Cup Problem: Germany v. Brazil\n",
       "23     On efficient algorithms for finding the goddam...\n",
       "24                             Two hour marathon in 2041\n",
       "25                         Bayesian election forecasting\n",
       "26        Regression with Python, pandas and StatsModels\n",
       "27         New study: vaccines prevent disease and death\n",
       "28                     An exercise in hypothesis testing\n",
       "29               More likely to be killed by a terrorist\n",
       "                             ...                        \n",
       "90                          Girl Named Florida solutions\n",
       "91                     The red-haired girl named Florida\n",
       "92                             Somebody bet on the Bayes\n",
       "93                      All your Bayes are belong to us!\n",
       "94                  My favorite Bayes's Theorem problems\n",
       "95                              The Blinky Monty Problem\n",
       "96                    Repeated tests: how bad can it be?\n",
       "97                         The Jimmy Nut Company problem\n",
       "98                       Upcoming webcast: Only One Test\n",
       "99                                News flash: OJ did it.\n",
       "100                        Postcard from NKS Summer Camp\n",
       "101           A hierarchical Bayesian model of pond scum\n",
       "102                         More hypotheses, less trivia\n",
       "103                              There is only one test!\n",
       "104                                  Statistics Workshop\n",
       "105    Think Stats will be published by O'Reilly in June\n",
       "106                            Two Hour Marathon in 2045\n",
       "107                    Bayesianness is next to Godliness\n",
       "108                                    Survival analysis\n",
       "109              Freshman hordes more godless than ever!\n",
       "110                            Predicting marathon times\n",
       "111                                BQ is unfair to women\n",
       "112                                 Moving the goalposts\n",
       "113                                        The BQ Effect\n",
       "114             Are first babies more likely to be late?\n",
       "115     Yet another reason SAT scores are non-predictive\n",
       "116                           Are you popular? Hint: no.\n",
       "117                              Obesity epidemic cured!\n",
       "118                       Observer effect in relay races\n",
       "119                             Proofiness and elections\n",
       "Name: title, dtype: object"
      ]
     },
     "execution_count": 20,
     "metadata": {},
     "output_type": "execute_result"
    }
   ],
   "source": [
    "table['title'] = table[1].apply(clean)\n",
    "table.title"
   ]
  },
  {
   "cell_type": "code",
   "execution_count": 21,
   "metadata": {
    "collapsed": false
   },
   "outputs": [
    {
     "data": {
      "text/plain": [
       "0    0\n",
       "1    1\n",
       "2    7\n",
       "3    2\n",
       "4    9\n",
       "Name: plusses, dtype: float64"
      ]
     },
     "execution_count": 21,
     "metadata": {},
     "output_type": "execute_result"
    }
   ],
   "source": [
    "table['plusses'] = table[4].fillna(0)\n",
    "table.plusses.head()"
   ]
  },
  {
   "cell_type": "code",
   "execution_count": 24,
   "metadata": {
    "collapsed": false
   },
   "outputs": [
    {
     "data": {
      "text/plain": [
       "0    0\n",
       "1    1\n",
       "2    1\n",
       "3    3\n",
       "4    1\n",
       "Name: comments, dtype: int64"
      ]
     },
     "execution_count": 24,
     "metadata": {},
     "output_type": "execute_result"
    }
   ],
   "source": [
    "table['comments'] = table[5].apply(convert)\n",
    "table.comments.head()"
   ]
  },
  {
   "cell_type": "code",
   "execution_count": 25,
   "metadata": {
    "collapsed": false
   },
   "outputs": [
    {
     "data": {
      "text/plain": [
       "0           0\n",
       "1         723\n",
       "2        2363\n",
       "3         944\n",
       "4        3110\n",
       "5        2514\n",
       "6       30484\n",
       "7        2131\n",
       "8         589\n",
       "9        1273\n",
       "10       2348\n",
       "11       1816\n",
       "12       2891\n",
       "13      32406\n",
       "14       4666\n",
       "15       1242\n",
       "16       7602\n",
       "17       1491\n",
       "18       2254\n",
       "19       1193\n",
       "20        648\n",
       "21       1789\n",
       "22       3040\n",
       "23        819\n",
       "24       3090\n",
       "25       1621\n",
       "26       6456\n",
       "27       1834\n",
       "28       1057\n",
       "29       1536\n",
       "        ...  \n",
       "90       9454\n",
       "91       1153\n",
       "92       2332\n",
       "93      48836\n",
       "94      34384\n",
       "95       3367\n",
       "96       3797\n",
       "97       1929\n",
       "98        885\n",
       "99          0\n",
       "100         0\n",
       "101      2162\n",
       "102      1520\n",
       "103      4246\n",
       "104       203\n",
       "105      1445\n",
       "106      1745\n",
       "107      1083\n",
       "108      2849\n",
       "109      1379\n",
       "110      3847\n",
       "111       815\n",
       "112       513\n",
       "113      3066\n",
       "114    130722\n",
       "115     17876\n",
       "116      1468\n",
       "117       289\n",
       "118       725\n",
       "119       396\n",
       "Name: views, dtype: int64"
      ]
     },
     "execution_count": 25,
     "metadata": {},
     "output_type": "execute_result"
    }
   ],
   "source": [
    "table['views'] = table[6].apply(convert)\n",
    "table.views"
   ]
  },
  {
   "cell_type": "code",
   "execution_count": 26,
   "metadata": {
    "collapsed": false
   },
   "outputs": [
    {
     "data": {
      "text/plain": [
       "0   2015-11-01\n",
       "1   2015-10-26\n",
       "2   2015-10-23\n",
       "3   2015-09-23\n",
       "4   2015-09-01\n",
       "Name: date, dtype: datetime64[ns]"
      ]
     },
     "execution_count": 26,
     "metadata": {},
     "output_type": "execute_result"
    }
   ],
   "source": [
    "table['date'] = pd.to_datetime(table[7])\n",
    "table.date.head()"
   ]
  },
  {
   "cell_type": "code",
   "execution_count": 34,
   "metadata": {
    "collapsed": false
   },
   "outputs": [
    {
     "data": {
      "text/plain": [
       "(115, 13)"
      ]
     },
     "execution_count": 34,
     "metadata": {},
     "output_type": "execute_result"
    }
   ],
   "source": [
    "table = table[table.views > 0]\n",
    "table.shape"
   ]
  },
  {
   "cell_type": "code",
   "execution_count": 38,
   "metadata": {
    "collapsed": false
   },
   "outputs": [
    {
     "data": {
      "text/plain": [
       "115                  When will I win the Great Bear Run?\n",
       "114                                  Bayes meets Fourier\n",
       "113              First babies are more likely to be late\n",
       "112              Bayesian analysis of gluten sensitivity\n",
       "111                           Bayes theorem in real life\n",
       "110                 The Inspection Paradox is Everywhere\n",
       "109                               Orange is the new stat\n",
       "108                   Will Millennials Ever Get Married?\n",
       "107                                   Bayesian Billiards\n",
       "106                          The Sleeping Beauty Problem\n",
       "105            Hypothesis testing is only mostly useless\n",
       "104                Two hour marathon by 2041 -- probably\n",
       "103     Bayesian survival analysis for \"Game of Thrones\"\n",
       "102           Statistical inference is only mostly wrong\n",
       "101         Upcoming talk on survival analysis in Python\n",
       "100           Bayesian analysis of match rates on Tinder\n",
       "99       Godless freshmen: now more Nones than Catholics\n",
       "98              Bayesian predictions for Super Bowl XLIX\n",
       "97                    Statistics tutorials at PyCon 2015\n",
       "96                                The Rock Hyrax Problem\n",
       "95     The World Cup Problem Part 2: Germany v. Argen...\n",
       "94              The World Cup Problem: Germany v. Brazil\n",
       "93     On efficient algorithms for finding the goddam...\n",
       "92                             Two hour marathon in 2041\n",
       "91                         Bayesian election forecasting\n",
       "90        Regression with Python, pandas and StatsModels\n",
       "89         New study: vaccines prevent disease and death\n",
       "88                     An exercise in hypothesis testing\n",
       "87               More likely to be killed by a terrorist\n",
       "86        Bayesian solution to the Lincoln index problem\n",
       "                             ...                        \n",
       "30                    Estimating the age of renal tumors\n",
       "29                   Comment on \"Racism and Meritocracy\"\n",
       "28                          Girl Named Florida solutions\n",
       "27                     The red-haired girl named Florida\n",
       "26                             Somebody bet on the Bayes\n",
       "25                      All your Bayes are belong to us!\n",
       "24                  My favorite Bayes's Theorem problems\n",
       "23                              The Blinky Monty Problem\n",
       "22                    Repeated tests: how bad can it be?\n",
       "21                         The Jimmy Nut Company problem\n",
       "20                       Upcoming webcast: Only One Test\n",
       "19            A hierarchical Bayesian model of pond scum\n",
       "18                          More hypotheses, less trivia\n",
       "17                               There is only one test!\n",
       "16                                   Statistics Workshop\n",
       "15     Think Stats will be published by O'Reilly in June\n",
       "14                             Two Hour Marathon in 2045\n",
       "13                     Bayesianness is next to Godliness\n",
       "12                                     Survival analysis\n",
       "11               Freshman hordes more godless than ever!\n",
       "10                             Predicting marathon times\n",
       "9                                  BQ is unfair to women\n",
       "8                                   Moving the goalposts\n",
       "7                                          The BQ Effect\n",
       "6               Are first babies more likely to be late?\n",
       "5       Yet another reason SAT scores are non-predictive\n",
       "4                             Are you popular? Hint: no.\n",
       "3                                Obesity epidemic cured!\n",
       "2                         Observer effect in relay races\n",
       "1                               Proofiness and elections\n",
       "Name: title, dtype: object"
      ]
     },
     "execution_count": 38,
     "metadata": {},
     "output_type": "execute_result"
    }
   ],
   "source": [
    "table.index = range(115, 0, -1)\n",
    "table.title"
   ]
  },
  {
   "cell_type": "code",
   "execution_count": null,
   "metadata": {
    "collapsed": false
   },
   "outputs": [],
   "source": []
  },
  {
   "cell_type": "code",
   "execution_count": 39,
   "metadata": {
    "collapsed": false
   },
   "outputs": [
    {
     "data": {
      "text/plain": [
       "1      NaT\n",
       "2   6 days\n",
       "3   7 days\n",
       "4   7 days\n",
       "5   9 days\n",
       "Name: date, dtype: timedelta64[ns]"
      ]
     },
     "execution_count": 39,
     "metadata": {},
     "output_type": "execute_result"
    }
   ],
   "source": [
    "dates = table.date.sort_values()\n",
    "diffs = dates.diff()\n",
    "diffs.head()"
   ]
  },
  {
   "cell_type": "code",
   "execution_count": 40,
   "metadata": {
    "collapsed": false
   },
   "outputs": [
    {
     "data": {
      "text/plain": [
       "count                        114\n",
       "mean     15 days 09:41:03.157894\n",
       "std      20 days 04:36:55.930513\n",
       "min              1 days 00:00:00\n",
       "25%              5 days 00:00:00\n",
       "50%             10 days 00:00:00\n",
       "75%             17 days 18:00:00\n",
       "max            180 days 00:00:00\n",
       "Name: date, dtype: object"
      ]
     },
     "execution_count": 40,
     "metadata": {},
     "output_type": "execute_result"
    }
   ],
   "source": [
    "diffs.dropna().describe()"
   ]
  },
  {
   "cell_type": "code",
   "execution_count": 41,
   "metadata": {
    "collapsed": false
   },
   "outputs": [
    {
     "data": {
      "text/html": [
       "<div>\n",
       "<table border=\"1\" class=\"dataframe\">\n",
       "  <thead>\n",
       "    <tr style=\"text-align: right;\">\n",
       "      <th></th>\n",
       "      <th>title</th>\n",
       "      <th>views</th>\n",
       "      <th>date</th>\n",
       "    </tr>\n",
       "  </thead>\n",
       "  <tbody>\n",
       "    <tr>\n",
       "      <th>6</th>\n",
       "      <td>Are first babies more likely to be late?</td>\n",
       "      <td>130722</td>\n",
       "      <td>2011-02-07</td>\n",
       "    </tr>\n",
       "    <tr>\n",
       "      <th>25</th>\n",
       "      <td>All your Bayes are belong to us!</td>\n",
       "      <td>48836</td>\n",
       "      <td>2011-10-27</td>\n",
       "    </tr>\n",
       "    <tr>\n",
       "      <th>24</th>\n",
       "      <td>My favorite Bayes's Theorem problems</td>\n",
       "      <td>34384</td>\n",
       "      <td>2011-10-20</td>\n",
       "    </tr>\n",
       "    <tr>\n",
       "      <th>103</th>\n",
       "      <td>Bayesian survival analysis for \"Game of Thrones\"</td>\n",
       "      <td>32406</td>\n",
       "      <td>2015-03-25</td>\n",
       "    </tr>\n",
       "    <tr>\n",
       "      <th>110</th>\n",
       "      <td>The Inspection Paradox is Everywhere</td>\n",
       "      <td>30484</td>\n",
       "      <td>2015-08-18</td>\n",
       "    </tr>\n",
       "    <tr>\n",
       "      <th>41</th>\n",
       "      <td>Bayesian statistics made simple</td>\n",
       "      <td>23892</td>\n",
       "      <td>2012-03-14</td>\n",
       "    </tr>\n",
       "    <tr>\n",
       "      <th>5</th>\n",
       "      <td>Yet another reason SAT scores are non-predictive</td>\n",
       "      <td>17876</td>\n",
       "      <td>2011-02-02</td>\n",
       "    </tr>\n",
       "    <tr>\n",
       "      <th>72</th>\n",
       "      <td>Are your data normal? Hint: no.</td>\n",
       "      <td>16152</td>\n",
       "      <td>2013-08-07</td>\n",
       "    </tr>\n",
       "    <tr>\n",
       "      <th>36</th>\n",
       "      <td>Freshman hordes even more godless!</td>\n",
       "      <td>10826</td>\n",
       "      <td>2012-01-29</td>\n",
       "    </tr>\n",
       "    <tr>\n",
       "      <th>34</th>\n",
       "      <td>Think Complexity</td>\n",
       "      <td>10670</td>\n",
       "      <td>2012-01-23</td>\n",
       "    </tr>\n",
       "    <tr>\n",
       "      <th>54</th>\n",
       "      <td>Secularization in America: part six</td>\n",
       "      <td>9773</td>\n",
       "      <td>2012-07-10</td>\n",
       "    </tr>\n",
       "    <tr>\n",
       "      <th>28</th>\n",
       "      <td>Girl Named Florida solutions</td>\n",
       "      <td>9454</td>\n",
       "      <td>2011-11-10</td>\n",
       "    </tr>\n",
       "    <tr>\n",
       "      <th>55</th>\n",
       "      <td>Secularization in America: part seven</td>\n",
       "      <td>7705</td>\n",
       "      <td>2012-07-11</td>\n",
       "    </tr>\n",
       "    <tr>\n",
       "      <th>100</th>\n",
       "      <td>Bayesian analysis of match rates on Tinder</td>\n",
       "      <td>7602</td>\n",
       "      <td>2015-02-10</td>\n",
       "    </tr>\n",
       "    <tr>\n",
       "      <th>90</th>\n",
       "      <td>Regression with Python, pandas and StatsModels</td>\n",
       "      <td>6456</td>\n",
       "      <td>2014-09-14</td>\n",
       "    </tr>\n",
       "    <tr>\n",
       "      <th>57</th>\n",
       "      <td>Are first babies more likely to be late, revis...</td>\n",
       "      <td>5776</td>\n",
       "      <td>2013-01-08</td>\n",
       "    </tr>\n",
       "    <tr>\n",
       "      <th>78</th>\n",
       "      <td>Correlation is evidence of causation</td>\n",
       "      <td>4911</td>\n",
       "      <td>2014-02-20</td>\n",
       "    </tr>\n",
       "    <tr>\n",
       "      <th>102</th>\n",
       "      <td>Statistical inference is only mostly wrong</td>\n",
       "      <td>4666</td>\n",
       "      <td>2015-03-02</td>\n",
       "    </tr>\n",
       "    <tr>\n",
       "      <th>17</th>\n",
       "      <td>There is only one test!</td>\n",
       "      <td>4246</td>\n",
       "      <td>2011-05-31</td>\n",
       "    </tr>\n",
       "    <tr>\n",
       "      <th>65</th>\n",
       "      <td>The Price is Right Problem</td>\n",
       "      <td>4062</td>\n",
       "      <td>2013-04-22</td>\n",
       "    </tr>\n",
       "  </tbody>\n",
       "</table>\n",
       "</div>"
      ],
      "text/plain": [
       "                                                 title   views       date\n",
       "6             Are first babies more likely to be late?  130722 2011-02-07\n",
       "25                    All your Bayes are belong to us!   48836 2011-10-27\n",
       "24                My favorite Bayes's Theorem problems   34384 2011-10-20\n",
       "103   Bayesian survival analysis for \"Game of Thrones\"   32406 2015-03-25\n",
       "110               The Inspection Paradox is Everywhere   30484 2015-08-18\n",
       "41                     Bayesian statistics made simple   23892 2012-03-14\n",
       "5     Yet another reason SAT scores are non-predictive   17876 2011-02-02\n",
       "72                     Are your data normal? Hint: no.   16152 2013-08-07\n",
       "36                  Freshman hordes even more godless!   10826 2012-01-29\n",
       "34                                    Think Complexity   10670 2012-01-23\n",
       "54                 Secularization in America: part six    9773 2012-07-10\n",
       "28                        Girl Named Florida solutions    9454 2011-11-10\n",
       "55               Secularization in America: part seven    7705 2012-07-11\n",
       "100         Bayesian analysis of match rates on Tinder    7602 2015-02-10\n",
       "90      Regression with Python, pandas and StatsModels    6456 2014-09-14\n",
       "57   Are first babies more likely to be late, revis...    5776 2013-01-08\n",
       "78                Correlation is evidence of causation    4911 2014-02-20\n",
       "102         Statistical inference is only mostly wrong    4666 2015-03-02\n",
       "17                             There is only one test!    4246 2011-05-31\n",
       "65                          The Price is Right Problem    4062 2013-04-22"
      ]
     },
     "execution_count": 41,
     "metadata": {},
     "output_type": "execute_result"
    }
   ],
   "source": [
    "table.sort_values(by=['views'], ascending=False)[['title', 'views', 'date']].head(20)"
   ]
  },
  {
   "cell_type": "code",
   "execution_count": 56,
   "metadata": {
    "collapsed": false
   },
   "outputs": [
    {
     "data": {
      "text/html": [
       "<div>\n",
       "<table border=\"1\" class=\"dataframe\">\n",
       "  <thead>\n",
       "    <tr style=\"text-align: right;\">\n",
       "      <th></th>\n",
       "      <th>title</th>\n",
       "      <th>views</th>\n",
       "      <th>date</th>\n",
       "    </tr>\n",
       "  </thead>\n",
       "  <tbody>\n",
       "    <tr>\n",
       "      <th>16</th>\n",
       "      <td>Statistics Workshop</td>\n",
       "      <td>203</td>\n",
       "      <td>2011-05-17</td>\n",
       "    </tr>\n",
       "    <tr>\n",
       "      <th>3</th>\n",
       "      <td>Obesity epidemic cured!</td>\n",
       "      <td>289</td>\n",
       "      <td>2011-01-17</td>\n",
       "    </tr>\n",
       "    <tr>\n",
       "      <th>1</th>\n",
       "      <td>Proofiness and elections</td>\n",
       "      <td>396</td>\n",
       "      <td>2011-01-04</td>\n",
       "    </tr>\n",
       "    <tr>\n",
       "      <th>45</th>\n",
       "      <td>Fog warning system: part two</td>\n",
       "      <td>504</td>\n",
       "      <td>2012-04-20</td>\n",
       "    </tr>\n",
       "    <tr>\n",
       "      <th>8</th>\n",
       "      <td>Moving the goalposts</td>\n",
       "      <td>513</td>\n",
       "      <td>2011-02-24</td>\n",
       "    </tr>\n",
       "    <tr>\n",
       "      <th>108</th>\n",
       "      <td>Will Millennials Ever Get Married?</td>\n",
       "      <td>589</td>\n",
       "      <td>2015-07-13</td>\n",
       "    </tr>\n",
       "    <tr>\n",
       "      <th>96</th>\n",
       "      <td>The Rock Hyrax Problem</td>\n",
       "      <td>648</td>\n",
       "      <td>2014-12-04</td>\n",
       "    </tr>\n",
       "    <tr>\n",
       "      <th>62</th>\n",
       "      <td>Belly Button Biodiversity: Part Four</td>\n",
       "      <td>675</td>\n",
       "      <td>2013-03-22</td>\n",
       "    </tr>\n",
       "    <tr>\n",
       "      <th>46</th>\n",
       "      <td>Fog warning system: part three</td>\n",
       "      <td>704</td>\n",
       "      <td>2012-04-25</td>\n",
       "    </tr>\n",
       "    <tr>\n",
       "      <th>115</th>\n",
       "      <td>When will I win the Great Bear Run?</td>\n",
       "      <td>723</td>\n",
       "      <td>2015-10-26</td>\n",
       "    </tr>\n",
       "    <tr>\n",
       "      <th>2</th>\n",
       "      <td>Observer effect in relay races</td>\n",
       "      <td>725</td>\n",
       "      <td>2011-01-10</td>\n",
       "    </tr>\n",
       "    <tr>\n",
       "      <th>60</th>\n",
       "      <td>Belly Button Biodiversity: Part Two</td>\n",
       "      <td>783</td>\n",
       "      <td>2013-02-08</td>\n",
       "    </tr>\n",
       "    <tr>\n",
       "      <th>9</th>\n",
       "      <td>BQ is unfair to women</td>\n",
       "      <td>815</td>\n",
       "      <td>2011-03-02</td>\n",
       "    </tr>\n",
       "    <tr>\n",
       "      <th>93</th>\n",
       "      <td>On efficient algorithms for finding the goddam...</td>\n",
       "      <td>819</td>\n",
       "      <td>2014-10-04</td>\n",
       "    </tr>\n",
       "    <tr>\n",
       "      <th>70</th>\n",
       "      <td>Belly Button Biodiversity: The End Game</td>\n",
       "      <td>839</td>\n",
       "      <td>2013-05-30</td>\n",
       "    </tr>\n",
       "    <tr>\n",
       "      <th>20</th>\n",
       "      <td>Upcoming webcast: Only One Test</td>\n",
       "      <td>885</td>\n",
       "      <td>2011-08-16</td>\n",
       "    </tr>\n",
       "    <tr>\n",
       "      <th>50</th>\n",
       "      <td>Secularization in America: part three</td>\n",
       "      <td>927</td>\n",
       "      <td>2012-06-22</td>\n",
       "    </tr>\n",
       "    <tr>\n",
       "      <th>61</th>\n",
       "      <td>Belly Button Biodiversity: Part Three</td>\n",
       "      <td>932</td>\n",
       "      <td>2013-02-18</td>\n",
       "    </tr>\n",
       "    <tr>\n",
       "      <th>113</th>\n",
       "      <td>First babies are more likely to be late</td>\n",
       "      <td>944</td>\n",
       "      <td>2015-09-23</td>\n",
       "    </tr>\n",
       "    <tr>\n",
       "      <th>32</th>\n",
       "      <td>Frank is a scoundrel, probably</td>\n",
       "      <td>947</td>\n",
       "      <td>2012-01-05</td>\n",
       "    </tr>\n",
       "  </tbody>\n",
       "</table>\n",
       "</div>"
      ],
      "text/plain": [
       "                                                 title  views       date\n",
       "16                                 Statistics Workshop    203 2011-05-17\n",
       "3                              Obesity epidemic cured!    289 2011-01-17\n",
       "1                             Proofiness and elections    396 2011-01-04\n",
       "45                        Fog warning system: part two    504 2012-04-20\n",
       "8                                 Moving the goalposts    513 2011-02-24\n",
       "108                 Will Millennials Ever Get Married?    589 2015-07-13\n",
       "96                              The Rock Hyrax Problem    648 2014-12-04\n",
       "62                Belly Button Biodiversity: Part Four    675 2013-03-22\n",
       "46                      Fog warning system: part three    704 2012-04-25\n",
       "115                When will I win the Great Bear Run?    723 2015-10-26\n",
       "2                       Observer effect in relay races    725 2011-01-10\n",
       "60                 Belly Button Biodiversity: Part Two    783 2013-02-08\n",
       "9                                BQ is unfair to women    815 2011-03-02\n",
       "93   On efficient algorithms for finding the goddam...    819 2014-10-04\n",
       "70             Belly Button Biodiversity: The End Game    839 2013-05-30\n",
       "20                     Upcoming webcast: Only One Test    885 2011-08-16\n",
       "50               Secularization in America: part three    927 2012-06-22\n",
       "61               Belly Button Biodiversity: Part Three    932 2013-02-18\n",
       "113            First babies are more likely to be late    944 2015-09-23\n",
       "32                      Frank is a scoundrel, probably    947 2012-01-05"
      ]
     },
     "execution_count": 56,
     "metadata": {},
     "output_type": "execute_result"
    }
   ],
   "source": [
    "table.sort_values(by=['views'], ascending=True)[['title', 'views', 'date']].head(20)"
   ]
  },
  {
   "cell_type": "code",
   "execution_count": 55,
   "metadata": {
    "collapsed": false
   },
   "outputs": [
    {
     "data": {
      "image/png": "[encoded data removed]",
      "text/plain": [
       "<matplotlib.figure.Figure at 0x7f86c7cbf4d0>"
      ]
     },
     "metadata": {},
     "output_type": "display_data"
    }
   ],
   "source": [
    "import thinkstats2\n",
    "import thinkplot\n",
    "\n",
    "cdf = thinkstats2.Cdf(table.views)\n",
    "\n",
    "thinkplot.PrePlot(1)\n",
    "thinkplot.Cdf(cdf, complement=True)\n",
    "thinkplot.Config(xlabel ='Number of page views', xscale='log', \n",
    "                 ylabel='CCDF', yscale='log', \n",
    "                 legend=False)"
   ]
  },
  {
   "cell_type": "code",
   "execution_count": 45,
   "metadata": {
    "collapsed": false
   },
   "outputs": [
    {
     "data": {
      "text/html": [
       "<div>\n",
       "<table border=\"1\" class=\"dataframe\">\n",
       "  <thead>\n",
       "    <tr style=\"text-align: right;\">\n",
       "      <th></th>\n",
       "      <th>title</th>\n",
       "      <th>comments</th>\n",
       "      <th>date</th>\n",
       "    </tr>\n",
       "  </thead>\n",
       "  <tbody>\n",
       "    <tr>\n",
       "      <th>25</th>\n",
       "      <td>All your Bayes are belong to us!</td>\n",
       "      <td>56</td>\n",
       "      <td>2011-10-27</td>\n",
       "    </tr>\n",
       "    <tr>\n",
       "      <th>106</th>\n",
       "      <td>The Sleeping Beauty Problem</td>\n",
       "      <td>53</td>\n",
       "      <td>2015-06-12</td>\n",
       "    </tr>\n",
       "    <tr>\n",
       "      <th>28</th>\n",
       "      <td>Girl Named Florida solutions</td>\n",
       "      <td>25</td>\n",
       "      <td>2011-11-10</td>\n",
       "    </tr>\n",
       "    <tr>\n",
       "      <th>110</th>\n",
       "      <td>The Inspection Paradox is Everywhere</td>\n",
       "      <td>23</td>\n",
       "      <td>2015-08-18</td>\n",
       "    </tr>\n",
       "    <tr>\n",
       "      <th>54</th>\n",
       "      <td>Secularization in America: part six</td>\n",
       "      <td>14</td>\n",
       "      <td>2012-07-10</td>\n",
       "    </tr>\n",
       "  </tbody>\n",
       "</table>\n",
       "</div>"
      ],
      "text/plain": [
       "                                    title  comments       date\n",
       "25       All your Bayes are belong to us!        56 2011-10-27\n",
       "106           The Sleeping Beauty Problem        53 2015-06-12\n",
       "28           Girl Named Florida solutions        25 2011-11-10\n",
       "110  The Inspection Paradox is Everywhere        23 2015-08-18\n",
       "54    Secularization in America: part six        14 2012-07-10"
      ]
     },
     "execution_count": 45,
     "metadata": {},
     "output_type": "execute_result"
    }
   ],
   "source": [
    "table.sort_values(by=['comments'], ascending=False)[['title', 'comments', 'date']].head(5)"
   ]
  },
  {
   "cell_type": "code",
   "execution_count": 44,
   "metadata": {
    "collapsed": false
   },
   "outputs": [
    {
     "data": {
      "text/html": [
       "<div>\n",
       "<table border=\"1\" class=\"dataframe\">\n",
       "  <thead>\n",
       "    <tr style=\"text-align: right;\">\n",
       "      <th></th>\n",
       "      <th>title</th>\n",
       "      <th>plusses</th>\n",
       "      <th>date</th>\n",
       "    </tr>\n",
       "  </thead>\n",
       "  <tbody>\n",
       "    <tr>\n",
       "      <th>110</th>\n",
       "      <td>The Inspection Paradox is Everywhere</td>\n",
       "      <td>909</td>\n",
       "      <td>2015-08-18</td>\n",
       "    </tr>\n",
       "    <tr>\n",
       "      <th>25</th>\n",
       "      <td>All your Bayes are belong to us!</td>\n",
       "      <td>59</td>\n",
       "      <td>2011-10-27</td>\n",
       "    </tr>\n",
       "    <tr>\n",
       "      <th>103</th>\n",
       "      <td>Bayesian survival analysis for \"Game of Thrones\"</td>\n",
       "      <td>54</td>\n",
       "      <td>2015-03-25</td>\n",
       "    </tr>\n",
       "    <tr>\n",
       "      <th>67</th>\n",
       "      <td>Software engineering practices for graduate st...</td>\n",
       "      <td>34</td>\n",
       "      <td>2013-05-06</td>\n",
       "    </tr>\n",
       "    <tr>\n",
       "      <th>102</th>\n",
       "      <td>Statistical inference is only mostly wrong</td>\n",
       "      <td>31</td>\n",
       "      <td>2015-03-02</td>\n",
       "    </tr>\n",
       "  </tbody>\n",
       "</table>\n",
       "</div>"
      ],
      "text/plain": [
       "                                                 title  plusses       date\n",
       "110               The Inspection Paradox is Everywhere      909 2015-08-18\n",
       "25                    All your Bayes are belong to us!       59 2011-10-27\n",
       "103   Bayesian survival analysis for \"Game of Thrones\"       54 2015-03-25\n",
       "67   Software engineering practices for graduate st...       34 2013-05-06\n",
       "102         Statistical inference is only mostly wrong       31 2015-03-02"
      ]
     },
     "execution_count": 44,
     "metadata": {},
     "output_type": "execute_result"
    }
   ],
   "source": [
    "table.sort_values(by=['plusses'], ascending=False)[['title', 'plusses', 'date']].head(5)"
   ]
  },
  {
   "cell_type": "code",
   "execution_count": null,
   "metadata": {
    "collapsed": true
   },
   "outputs": [],
   "source": []
  },
  {
   "cell_type": "code",
   "execution_count": null,
   "metadata": {
    "collapsed": true
   },
   "outputs": [],
   "source": []
  }
 ],
 "metadata": {
  "kernelspec": {
   "display_name": "Python 2",
   "language": "python",
   "name": "python2"
  },
  "language_info": {
   "codemirror_mode": {
    "name": "ipython",
    "version": 2
   },
   "file_extension": ".py",
   "mimetype": "text/x-python",
   "name": "python",
   "nbconvert_exporter": "python",
   "pygments_lexer": "ipython2",
   "version": "2.7.10"
  }
 },
 "nbformat": 4,
 "nbformat_minor": 0
}
