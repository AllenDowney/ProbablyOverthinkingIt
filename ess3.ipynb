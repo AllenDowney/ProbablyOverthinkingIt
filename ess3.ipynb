{
 "cells": [
  {
   "cell_type": "markdown",
   "metadata": {},
   "source": [
    "Internet use and religion in Europe, part three\n",
    "-----------------------------------------\n",
    "\n",
    "This notebook presents explorations of the association between Internet use and religion in Europe, using data from the European Social Survey (http://www.europeansocialsurvey.org).\n",
    "\n",
    "Copyright 2015 Allen Downey\n",
    "\n",
    "MIT License: http://opensource.org/licenses/MIT"
   ]
  },
  {
   "cell_type": "code",
   "execution_count": 100,
   "metadata": {
    "collapsed": true
   },
   "outputs": [],
   "source": [
    "from __future__ import print_function, division\n",
    "\n",
    "import string\n",
    "import random\n",
    "\n",
    "import numpy as np\n",
    "import pandas as pd\n",
    "import statsmodels.formula.api as smf\n",
    "\n",
    "import thinkstats2\n",
    "import thinkplot\n",
    "import matplotlib.pyplot as plt\n",
    "\n",
    "import ess\n",
    "\n",
    "%matplotlib inline"
   ]
  },
  {
   "cell_type": "markdown",
   "metadata": {},
   "source": [
    "The following function selects the columns I need."
   ]
  },
  {
   "cell_type": "code",
   "execution_count": 29,
   "metadata": {
    "collapsed": false
   },
   "outputs": [
    {
     "name": "stdout",
     "output_type": "stream",
     "text": [
      "CPU times: user 13.9 s, sys: 1.58 s, total: 15.4 s\n",
      "Wall time: 15.4 s\n"
     ]
    }
   ],
   "source": [
    "%time cycles = ess.read_all_cycles()"
   ]
  },
  {
   "cell_type": "markdown",
   "metadata": {},
   "source": [
    "Read data from Cycle 1."
   ]
  },
  {
   "cell_type": "code",
   "execution_count": 32,
   "metadata": {
    "collapsed": false
   },
   "outputs": [
    {
     "name": "stdout",
     "output_type": "stream",
     "text": [
      "CPU times: user 12 ms, sys: 0 ns, total: 12 ms\n",
      "Wall time: 11.2 ms\n",
      "CPU times: user 8 ms, sys: 0 ns, total: 8 ms\n",
      "Wall time: 9.02 ms\n",
      "CPU times: user 4 ms, sys: 4 ms, total: 8 ms\n",
      "Wall time: 8.55 ms\n",
      "CPU times: user 8 ms, sys: 4 ms, total: 12 ms\n",
      "Wall time: 9.56 ms\n",
      "CPU times: user 8 ms, sys: 0 ns, total: 8 ms\n",
      "Wall time: 9.35 ms\n"
     ]
    }
   ],
   "source": [
    "for cycle in cycles:\n",
    "    %time ess.clean_cycle(cycle)"
   ]
  },
  {
   "cell_type": "markdown",
   "metadata": {},
   "source": [
    "Read data from Cycle 2."
   ]
  },
  {
   "cell_type": "code",
   "execution_count": 33,
   "metadata": {
    "collapsed": false
   },
   "outputs": [
    {
     "name": "stdout",
     "output_type": "stream",
     "text": [
      "CPU times: user 336 ms, sys: 52 ms, total: 388 ms\n",
      "Wall time: 388 ms\n",
      "22 countries\n",
      "25 countries\n",
      "23 countries\n",
      "29 countries\n",
      "27 countries\n"
     ]
    }
   ],
   "source": [
    "%time cycle_maps = [ess.resample(cycle) for cycle in cycles]\n",
    "for cycle_map in cycle_maps:\n",
    "    print(len(cycle_map), 'countries')"
   ]
  },
  {
   "cell_type": "markdown",
   "metadata": {},
   "source": [
    "Read data from Cycle 3."
   ]
  },
  {
   "cell_type": "code",
   "execution_count": 34,
   "metadata": {
    "collapsed": false
   },
   "outputs": [
    {
     "name": "stdout",
     "output_type": "stream",
     "text": [
      "CPU times: user 0 ns, sys: 0 ns, total: 0 ns\n",
      "Wall time: 574 µs\n"
     ]
    }
   ],
   "source": [
    "%time ess.remove_missing(cycle_maps)"
   ]
  },
  {
   "cell_type": "markdown",
   "metadata": {},
   "source": [
    "Read data from Cycle 4."
   ]
  },
  {
   "cell_type": "code",
   "execution_count": 35,
   "metadata": {
    "collapsed": false
   },
   "outputs": [
    {
     "name": "stdout",
     "output_type": "stream",
     "text": [
      "CPU times: user 148 ms, sys: 0 ns, total: 148 ms\n",
      "Wall time: 147 ms\n",
      "CPU times: user 160 ms, sys: 0 ns, total: 160 ms\n",
      "Wall time: 162 ms\n",
      "CPU times: user 160 ms, sys: 0 ns, total: 160 ms\n",
      "Wall time: 160 ms\n",
      "CPU times: user 248 ms, sys: 0 ns, total: 248 ms\n",
      "Wall time: 248 ms\n",
      "CPU times: user 200 ms, sys: 0 ns, total: 200 ms\n",
      "Wall time: 201 ms\n"
     ]
    }
   ],
   "source": [
    "for cycle_map in cycle_maps:\n",
    "    %time ess.replace_with_ranks(cycle_map)"
   ]
  },
  {
   "cell_type": "markdown",
   "metadata": {},
   "source": [
    "Read data from Cycle 5."
   ]
  },
  {
   "cell_type": "code",
   "execution_count": 36,
   "metadata": {
    "collapsed": false
   },
   "outputs": [
    {
     "name": "stdout",
     "output_type": "stream",
     "text": [
      "CPU times: user 280 ms, sys: 84 ms, total: 364 ms\n",
      "Wall time: 365 ms\n",
      "CPU times: user 296 ms, sys: 100 ms, total: 396 ms\n",
      "Wall time: 396 ms\n",
      "CPU times: user 284 ms, sys: 116 ms, total: 400 ms\n",
      "Wall time: 402 ms\n",
      "CPU times: user 384 ms, sys: 116 ms, total: 500 ms\n",
      "Wall time: 502 ms\n",
      "CPU times: user 356 ms, sys: 120 ms, total: 476 ms\n",
      "Wall time: 478 ms\n"
     ]
    }
   ],
   "source": [
    "for cycle_map in cycle_maps:\n",
    "    %time ess.fill_vars_by_country(cycle_map)"
   ]
  },
  {
   "cell_type": "code",
   "execution_count": 38,
   "metadata": {
    "collapsed": false
   },
   "outputs": [
    {
     "name": "stdout",
     "output_type": "stream",
     "text": [
      "CPU times: user 72 ms, sys: 16 ms, total: 88 ms\n",
      "Wall time: 88.2 ms\n",
      "37937\n",
      "43709\n",
      "43000\n",
      "56752\n",
      "52458\n"
     ]
    }
   ],
   "source": [
    "%time dfs = [ess.concat_groups(cycle_map) for cycle_map in cycle_maps]\n",
    "for df in dfs:\n",
    "    print(len(df))"
   ]
  },
  {
   "cell_type": "code",
   "execution_count": 39,
   "metadata": {
    "collapsed": false
   },
   "outputs": [
    {
     "name": "stdout",
     "output_type": "stream",
     "text": [
      "CPU times: user 16 ms, sys: 12 ms, total: 28 ms\n",
      "Wall time: 24.9 ms\n",
      "(233856, 32)\n"
     ]
    }
   ],
   "source": [
    "%time df = pd.concat(dfs, ignore_index=True)\n",
    "print(df.shape)"
   ]
  },
  {
   "cell_type": "code",
   "execution_count": 15,
   "metadata": {
    "collapsed": false
   },
   "outputs": [
    {
     "data": {
      "text/plain": [
       "34"
      ]
     },
     "execution_count": 15,
     "metadata": {},
     "output_type": "execute_result"
    }
   ],
   "source": [
    "grouped = df.groupby('cntry')\n",
    "len(grouped)"
   ]
  },
  {
   "cell_type": "markdown",
   "metadata": {},
   "source": [
    "In a each cycle, a few questions were not asked in some countries."
   ]
  },
  {
   "cell_type": "code",
   "execution_count": 40,
   "metadata": {
    "collapsed": false
   },
   "outputs": [],
   "source": [
    "reload(ess)\n",
    "%time cycles = ess.read_and_clean()"
   ]
  },
  {
   "cell_type": "markdown",
   "metadata": {},
   "source": []
  },
  {
   "cell_type": "code",
   "execution_count": 44,
   "metadata": {
    "collapsed": false
   },
   "outputs": [
    {
     "name": "stdout",
     "output_type": "stream",
     "text": [
      "resampling\n",
      "removing\n",
      "replacing\n",
      "Round 1\n",
      "HU hinctnta\n",
      "IE hinctnta\n",
      "Round 2\n",
      "EE hinctnta\n",
      "UA hinctnta\n",
      "Round 3\n",
      "HU hinctnta\n",
      "EE hinctnta\n",
      "UA hinctnta\n",
      "Round 4\n",
      "BG hinctnta\n",
      "CY hinctnta\n",
      "SK hinctnta\n",
      "Round 5\n",
      "PT hinctnta\n",
      "filling\n",
      "concating\n",
      "CPU times: user 3 s, sys: 628 ms, total: 3.62 s\n",
      "Wall time: 3.64 s\n"
     ]
    }
   ],
   "source": [
    "reload(ess)\n",
    "%time df = ess.resample_and_fill(cycles)"
   ]
  },
  {
   "cell_type": "markdown",
   "metadata": {},
   "source": []
  },
  {
   "cell_type": "code",
   "execution_count": 45,
   "metadata": {
    "collapsed": false
   },
   "outputs": [],
   "source": [
    "store = pd.HDFStore('ess.resamples.h5')"
   ]
  },
  {
   "cell_type": "markdown",
   "metadata": {},
   "source": [
    "To fill missing values, I am drawing random samples from the available values, on a per-country basis.\n",
    "\n",
    "Since I am not modeling relationships between variables, I am losing some information with this replacement policy; the net effect is to understate the actual strength of all relationships."
   ]
  },
  {
   "cell_type": "code",
   "execution_count": 46,
   "metadata": {
    "collapsed": false
   },
   "outputs": [
    {
     "name": "stdout",
     "output_type": "stream",
     "text": [
      "CPU times: user 124 ms, sys: 56 ms, total: 180 ms\n",
      "Wall time: 182 ms\n"
     ]
    }
   ],
   "source": [
    "%time store.put('df', df)"
   ]
  },
  {
   "cell_type": "code",
   "execution_count": 48,
   "metadata": {
    "collapsed": false
   },
   "outputs": [
    {
     "name": "stdout",
     "output_type": "stream",
     "text": [
      "CPU times: user 32 ms, sys: 24 ms, total: 56 ms\n",
      "Wall time: 54.5 ms\n"
     ]
    }
   ],
   "source": [
    "%time df = store.get('df')"
   ]
  },
  {
   "cell_type": "markdown",
   "metadata": {},
   "source": [
    "Concatenate the cycles."
   ]
  },
  {
   "cell_type": "code",
   "execution_count": 59,
   "metadata": {
    "collapsed": false
   },
   "outputs": [
    {
     "data": {
      "text/plain": [
       "[]"
      ]
     },
     "execution_count": 59,
     "metadata": {},
     "output_type": "execute_result"
    }
   ],
   "source": [
    "store.keys()"
   ]
  },
  {
   "cell_type": "code",
   "execution_count": 91,
   "metadata": {
    "collapsed": false
   },
   "outputs": [
    {
     "data": {
      "text/plain": [
       "'KzFWeo'"
      ]
     },
     "execution_count": 91,
     "metadata": {},
     "output_type": "execute_result"
    }
   ],
   "source": [
    "def random_name():\n",
    "    t = [random.choice(string.ascii_letters) for i in range(6)]\n",
    "    return ''.join(t)\n",
    "\n",
    "random_name()"
   ]
  },
  {
   "cell_type": "markdown",
   "metadata": {},
   "source": [
    "TV watching time on average weekday"
   ]
  },
  {
   "cell_type": "code",
   "execution_count": 197,
   "metadata": {
    "collapsed": false
   },
   "outputs": [
    {
     "name": "stdout",
     "output_type": "stream",
     "text": [
      "GownbC\n",
      "XGmIIH\n",
      "dyuBXv\n",
      "YeASVz\n",
      "Evkitq\n",
      "qchGUz\n",
      "tjjdLV\n",
      "dzpDVu\n",
      "tiUoXr\n",
      "xjbtHM\n",
      "jNqZpZ\n",
      "KFwczR\n",
      "AOacJP\n",
      "VzZAXk\n",
      "xxGtEc\n",
      "btCIZx\n",
      "NfzPAX\n",
      "kVTeXb\n",
      "DOKcxz\n",
      "iWltCV\n",
      "EBHNWn\n",
      "hlJZff\n",
      "bvntaM\n",
      "RHVBHl\n",
      "uWhsWV\n",
      "FWawby\n",
      "tIBOEC\n",
      "EIaigX\n",
      "RwJMYt\n",
      "GIKXkG\n",
      "KEthFz\n",
      "PptHII\n",
      "GPBBMj\n",
      "vPnlcH\n",
      "InEXbB\n",
      "FJboqX\n",
      "xwCakd\n",
      "AsSyrK\n",
      "shBLMW\n",
      "YoxGxL\n",
      "GeolrR\n",
      "XOxJQN\n",
      "JomohW\n",
      "TOcaLi\n",
      "EOOBpB\n",
      "pezcXZ\n",
      "ZgSZAY\n",
      "AAVZWa\n",
      "blIIdK\n",
      "xgAfWd\n",
      "cEzhky\n",
      "lHDxRr\n",
      "ewfhTI\n",
      "JznRlw\n",
      "qWZfql\n",
      "mbTfIj\n",
      "yImumW\n",
      "KUVnJc\n",
      "JofMZK\n",
      "JVSJPq\n",
      "PvfGpy\n",
      "ybmXrn\n",
      "TaHTXL\n",
      "nvZcGU\n",
      "dqGBQR\n",
      "WkfCQW\n",
      "OdhAjf\n",
      "PXxSpS\n",
      "wahSMf\n",
      "wGQrTR\n",
      "CxkVBv\n",
      "GdTLTY\n",
      "UKzbGY\n",
      "QbhbQt\n",
      "YvdfEk\n",
      "qRQqmc\n",
      "EoHBcy\n",
      "nOsmSf\n",
      "cYiUkH\n",
      "MCmopN\n",
      "BytXnJ\n",
      "WwTDDj\n",
      "ssTuqu\n",
      "zYbdcJ\n",
      "iABzcU\n",
      "yKuLlN\n",
      "rUWSeP\n",
      "PiWfGA\n",
      "BIXejR\n",
      "GeUlsB\n",
      "rYeOLP\n",
      "GYhuaT\n",
      "JKBolS\n",
      "iaTUMA\n",
      "xfKUcU\n",
      "SHnJcB\n",
      "QskeUe\n",
      "lfUmXq\n",
      "VgqgVe\n",
      "uOAidw\n"
     ]
    }
   ],
   "source": [
    "reload(ess)\n",
    "for i in range(100):\n",
    "    name = random_name()\n",
    "    print(name)\n",
    "    df = ess.resample_and_fill(cycles)\n",
    "    store.put(name, df)"
   ]
  },
  {
   "cell_type": "markdown",
   "metadata": {},
   "source": [
    "Radio listening, total time on average weekday."
   ]
  },
  {
   "cell_type": "code",
   "execution_count": 198,
   "metadata": {
    "collapsed": false
   },
   "outputs": [
    {
     "data": {
      "text/plain": [
       "204"
      ]
     },
     "execution_count": 198,
     "metadata": {},
     "output_type": "execute_result"
    }
   ],
   "source": [
    "keys = store.keys()\n",
    "len(keys)"
   ]
  },
  {
   "cell_type": "markdown",
   "metadata": {},
   "source": [
    "Newspaper reading, total time on average weekday."
   ]
  },
  {
   "cell_type": "code",
   "execution_count": 199,
   "metadata": {
    "collapsed": false
   },
   "outputs": [],
   "source": [
    "key = random.choice(keys)\n",
    "df = store.get(key)"
   ]
  },
  {
   "cell_type": "markdown",
   "metadata": {},
   "source": [
    "Personal use of Internet, email, www"
   ]
  },
  {
   "cell_type": "markdown",
   "metadata": {},
   "source": [
    "Here's the model with all control variables and all media variables:"
   ]
  },
  {
   "cell_type": "code",
   "execution_count": 200,
   "metadata": {
    "collapsed": false
   },
   "outputs": [
    {
     "data": {
      "text/html": [
       "<table class=\"simpletable\">\n",
       "<caption>Logit Regression Results</caption>\n",
       "<tr>\n",
       "  <th>Dep. Variable:</th>    <td>hasrelig_f</td>    <th>  No. Observations:  </th>   <td>233856</td>   \n",
       "</tr>\n",
       "<tr>\n",
       "  <th>Model:</th>               <td>Logit</td>      <th>  Df Residuals:      </th>   <td>233848</td>   \n",
       "</tr>\n",
       "<tr>\n",
       "  <th>Method:</th>               <td>MLE</td>       <th>  Df Model:          </th>   <td>     7</td>   \n",
       "</tr>\n",
       "<tr>\n",
       "  <th>Date:</th>          <td>Wed, 18 Nov 2015</td> <th>  Pseudo R-squ.:     </th>   <td>0.02772</td>  \n",
       "</tr>\n",
       "<tr>\n",
       "  <th>Time:</th>              <td>13:25:24</td>     <th>  Log-Likelihood:    </th> <td>-1.4865e+05</td>\n",
       "</tr>\n",
       "<tr>\n",
       "  <th>converged:</th>           <td>True</td>       <th>  LL-Null:           </th> <td>-1.5289e+05</td>\n",
       "</tr>\n",
       "<tr>\n",
       "  <th> </th>                      <td> </td>        <th>  LLR p-value:       </th>   <td> 0.000</td>   \n",
       "</tr>\n",
       "</table>\n",
       "<table class=\"simpletable\">\n",
       "<tr>\n",
       "       <td></td>         <th>coef</th>     <th>std err</th>      <th>z</th>      <th>P>|z|</th> <th>[95.0% Conf. Int.]</th> \n",
       "</tr>\n",
       "<tr>\n",
       "  <th>Intercept</th>  <td>    1.1143</td> <td>    0.017</td> <td>   66.830</td> <td> 0.000</td> <td>    1.082     1.147</td>\n",
       "</tr>\n",
       "<tr>\n",
       "  <th>yrbrn60_f</th>  <td>   -0.0078</td> <td>    0.000</td> <td>  -28.191</td> <td> 0.000</td> <td>   -0.008    -0.007</td>\n",
       "</tr>\n",
       "<tr>\n",
       "  <th>edurank_f</th>  <td>   -0.0429</td> <td>    0.017</td> <td>   -2.537</td> <td> 0.011</td> <td>   -0.076    -0.010</td>\n",
       "</tr>\n",
       "<tr>\n",
       "  <th>hincrank_f</th> <td>    0.0678</td> <td>    0.016</td> <td>    4.274</td> <td> 0.000</td> <td>    0.037     0.099</td>\n",
       "</tr>\n",
       "<tr>\n",
       "  <th>tvtot_f</th>    <td>   -0.0139</td> <td>    0.002</td> <td>   -6.264</td> <td> 0.000</td> <td>   -0.018    -0.010</td>\n",
       "</tr>\n",
       "<tr>\n",
       "  <th>rdtot_f</th>    <td>   -0.0196</td> <td>    0.002</td> <td>  -11.750</td> <td> 0.000</td> <td>   -0.023    -0.016</td>\n",
       "</tr>\n",
       "<tr>\n",
       "  <th>nwsptot_f</th>  <td>   -0.0388</td> <td>    0.004</td> <td>  -10.885</td> <td> 0.000</td> <td>   -0.046    -0.032</td>\n",
       "</tr>\n",
       "<tr>\n",
       "  <th>netuse_f</th>   <td>   -0.1028</td> <td>    0.002</td> <td>  -59.539</td> <td> 0.000</td> <td>   -0.106    -0.099</td>\n",
       "</tr>\n",
       "</table>"
      ],
      "text/plain": [
       "<class 'statsmodels.iolib.summary.Summary'>\n",
       "\"\"\"\n",
       "                           Logit Regression Results                           \n",
       "==============================================================================\n",
       "Dep. Variable:             hasrelig_f   No. Observations:               233856\n",
       "Model:                          Logit   Df Residuals:                   233848\n",
       "Method:                           MLE   Df Model:                            7\n",
       "Date:                Wed, 18 Nov 2015   Pseudo R-squ.:                 0.02772\n",
       "Time:                        13:25:24   Log-Likelihood:            -1.4865e+05\n",
       "converged:                       True   LL-Null:                   -1.5289e+05\n",
       "                                        LLR p-value:                     0.000\n",
       "==============================================================================\n",
       "                 coef    std err          z      P>|z|      [95.0% Conf. Int.]\n",
       "------------------------------------------------------------------------------\n",
       "Intercept      1.1143      0.017     66.830      0.000         1.082     1.147\n",
       "yrbrn60_f     -0.0078      0.000    -28.191      0.000        -0.008    -0.007\n",
       "edurank_f     -0.0429      0.017     -2.537      0.011        -0.076    -0.010\n",
       "hincrank_f     0.0678      0.016      4.274      0.000         0.037     0.099\n",
       "tvtot_f       -0.0139      0.002     -6.264      0.000        -0.018    -0.010\n",
       "rdtot_f       -0.0196      0.002    -11.750      0.000        -0.023    -0.016\n",
       "nwsptot_f     -0.0388      0.004    -10.885      0.000        -0.046    -0.032\n",
       "netuse_f      -0.1028      0.002    -59.539      0.000        -0.106    -0.099\n",
       "==============================================================================\n",
       "\"\"\""
      ]
     },
     "execution_count": 200,
     "metadata": {},
     "output_type": "execute_result"
    }
   ],
   "source": [
    "formula = ('hasrelig_f ~ yrbrn60_f + edurank_f + hincrank_f +'\n",
    "           'tvtot_f + rdtot_f + nwsptot_f + netuse_f')\n",
    "res = ess.run_model(df, formula)\n",
    "res.summary()"
   ]
  },
  {
   "cell_type": "markdown",
   "metadata": {},
   "source": [
    "Now adding inwyr07"
   ]
  },
  {
   "cell_type": "code",
   "execution_count": 201,
   "metadata": {
    "collapsed": false
   },
   "outputs": [
    {
     "data": {
      "text/html": [
       "<table class=\"simpletable\">\n",
       "<caption>Logit Regression Results</caption>\n",
       "<tr>\n",
       "  <th>Dep. Variable:</th>    <td>hasrelig_f</td>    <th>  No. Observations:  </th>   <td>233856</td>   \n",
       "</tr>\n",
       "<tr>\n",
       "  <th>Model:</th>               <td>Logit</td>      <th>  Df Residuals:      </th>   <td>233847</td>   \n",
       "</tr>\n",
       "<tr>\n",
       "  <th>Method:</th>               <td>MLE</td>       <th>  Df Model:          </th>   <td>     8</td>   \n",
       "</tr>\n",
       "<tr>\n",
       "  <th>Date:</th>          <td>Wed, 18 Nov 2015</td> <th>  Pseudo R-squ.:     </th>   <td>0.03130</td>  \n",
       "</tr>\n",
       "<tr>\n",
       "  <th>Time:</th>              <td>13:25:33</td>     <th>  Log-Likelihood:    </th> <td>-1.4810e+05</td>\n",
       "</tr>\n",
       "<tr>\n",
       "  <th>converged:</th>           <td>True</td>       <th>  LL-Null:           </th> <td>-1.5289e+05</td>\n",
       "</tr>\n",
       "<tr>\n",
       "  <th> </th>                      <td> </td>        <th>  LLR p-value:       </th>   <td> 0.000</td>   \n",
       "</tr>\n",
       "</table>\n",
       "<table class=\"simpletable\">\n",
       "<tr>\n",
       "       <td></td>         <th>coef</th>     <th>std err</th>      <th>z</th>      <th>P>|z|</th> <th>[95.0% Conf. Int.]</th> \n",
       "</tr>\n",
       "<tr>\n",
       "  <th>Intercept</th>  <td>    1.1474</td> <td>    0.017</td> <td>   68.390</td> <td> 0.000</td> <td>    1.114     1.180</td>\n",
       "</tr>\n",
       "<tr>\n",
       "  <th>inwyr07_f</th>  <td>    0.0511</td> <td>    0.002</td> <td>   32.995</td> <td> 0.000</td> <td>    0.048     0.054</td>\n",
       "</tr>\n",
       "<tr>\n",
       "  <th>yrbrn60_f</th>  <td>   -0.0084</td> <td>    0.000</td> <td>  -30.239</td> <td> 0.000</td> <td>   -0.009    -0.008</td>\n",
       "</tr>\n",
       "<tr>\n",
       "  <th>edurank_f</th>  <td>   -0.0107</td> <td>    0.017</td> <td>   -0.631</td> <td> 0.528</td> <td>   -0.044     0.023</td>\n",
       "</tr>\n",
       "<tr>\n",
       "  <th>hincrank_f</th> <td>    0.0810</td> <td>    0.016</td> <td>    5.093</td> <td> 0.000</td> <td>    0.050     0.112</td>\n",
       "</tr>\n",
       "<tr>\n",
       "  <th>tvtot_f</th>    <td>   -0.0200</td> <td>    0.002</td> <td>   -8.940</td> <td> 0.000</td> <td>   -0.024    -0.016</td>\n",
       "</tr>\n",
       "<tr>\n",
       "  <th>rdtot_f</th>    <td>   -0.0158</td> <td>    0.002</td> <td>   -9.419</td> <td> 0.000</td> <td>   -0.019    -0.013</td>\n",
       "</tr>\n",
       "<tr>\n",
       "  <th>nwsptot_f</th>  <td>   -0.0317</td> <td>    0.004</td> <td>   -8.825</td> <td> 0.000</td> <td>   -0.039    -0.025</td>\n",
       "</tr>\n",
       "<tr>\n",
       "  <th>netuse_f</th>   <td>   -0.1130</td> <td>    0.002</td> <td>  -64.205</td> <td> 0.000</td> <td>   -0.116    -0.110</td>\n",
       "</tr>\n",
       "</table>"
      ],
      "text/plain": [
       "<class 'statsmodels.iolib.summary.Summary'>\n",
       "\"\"\"\n",
       "                           Logit Regression Results                           \n",
       "==============================================================================\n",
       "Dep. Variable:             hasrelig_f   No. Observations:               233856\n",
       "Model:                          Logit   Df Residuals:                   233847\n",
       "Method:                           MLE   Df Model:                            8\n",
       "Date:                Wed, 18 Nov 2015   Pseudo R-squ.:                 0.03130\n",
       "Time:                        13:25:33   Log-Likelihood:            -1.4810e+05\n",
       "converged:                       True   LL-Null:                   -1.5289e+05\n",
       "                                        LLR p-value:                     0.000\n",
       "==============================================================================\n",
       "                 coef    std err          z      P>|z|      [95.0% Conf. Int.]\n",
       "------------------------------------------------------------------------------\n",
       "Intercept      1.1474      0.017     68.390      0.000         1.114     1.180\n",
       "inwyr07_f      0.0511      0.002     32.995      0.000         0.048     0.054\n",
       "yrbrn60_f     -0.0084      0.000    -30.239      0.000        -0.009    -0.008\n",
       "edurank_f     -0.0107      0.017     -0.631      0.528        -0.044     0.023\n",
       "hincrank_f     0.0810      0.016      5.093      0.000         0.050     0.112\n",
       "tvtot_f       -0.0200      0.002     -8.940      0.000        -0.024    -0.016\n",
       "rdtot_f       -0.0158      0.002     -9.419      0.000        -0.019    -0.013\n",
       "nwsptot_f     -0.0317      0.004     -8.825      0.000        -0.039    -0.025\n",
       "netuse_f      -0.1130      0.002    -64.205      0.000        -0.116    -0.110\n",
       "==============================================================================\n",
       "\"\"\""
      ]
     },
     "execution_count": 201,
     "metadata": {},
     "output_type": "execute_result"
    }
   ],
   "source": [
    "formula = ('hasrelig_f ~ inwyr07_f + yrbrn60_f + edurank_f + hincrank_f +'\n",
    "           'tvtot_f + rdtot_f + nwsptot_f + netuse_f')\n",
    "res = ess.run_model(df, formula)\n",
    "res.summary()"
   ]
  },
  {
   "cell_type": "code",
   "execution_count": 254,
   "metadata": {
    "collapsed": false
   },
   "outputs": [],
   "source": [
    "class Country:\n",
    "    def __init__(self, code, nobs):\n",
    "        self.code = code\n",
    "        self.name = ess.country_name(code)\n",
    "        self.nobs = nobs\n",
    "        self.mean_seq = []\n",
    "        self.param_seq = []\n",
    "        self.param2_seq = []\n",
    "\n",
    "    def add_mean(self, mean):\n",
    "        self.mean_seq.append(mean)\n",
    "        \n",
    "    def add_params(self, params):\n",
    "        self.param_seq.append(params)\n",
    "        \n",
    "    def add_params2(self, params):\n",
    "        self.param2_seq.append(params)\n",
    "        \n",
    "    def get_means(self, varname):\n",
    "        t = [mean[varname] for mean in self.mean_seq]\n",
    "        return np.array(t)\n",
    "\n",
    "    def get_params(self, varname):\n",
    "        t = [params[varname] for params in self.param_seq]\n",
    "        return np.array(t)\n",
    "\n",
    "    def get_params2(self, varname):\n",
    "        t = [params[varname] for params in self.param2_seq]\n",
    "        return np.array(t)"
   ]
  },
  {
   "cell_type": "markdown",
   "metadata": {},
   "source": [
    "Make the country objects"
   ]
  },
  {
   "cell_type": "code",
   "execution_count": 290,
   "metadata": {
    "collapsed": false
   },
   "outputs": [
    {
     "name": "stdout",
     "output_type": "stream",
     "text": [
      "Austria\n",
      "Belgium\n",
      "Bulgaria\n",
      "Switzerland\n",
      "Cyprus\n",
      "Czech Republic\n",
      "Germany\n",
      "Denmark\n",
      "Estonia\n",
      "Spain\n",
      "Finland\n",
      "France\n",
      "United Kingdom\n",
      "Greece\n",
      "Croatia\n",
      "Hungary\n",
      "Ireland\n",
      "Israel\n",
      "Iceland\n",
      "Italy\n",
      "Lithuania\n",
      "Luxembourg\n",
      "Latvia\n",
      "Netherlands\n",
      "Norway\n",
      "Poland\n",
      "Portugal\n",
      "Romania\n",
      "Russia\n",
      "Sweden\n",
      "Slovenia\n",
      "Slovakia\n",
      "Turkey\n",
      "Ukraine\n"
     ]
    }
   ],
   "source": [
    "keys = store.keys()\n",
    "key = random.choice(keys)\n",
    "df = store.get(key)\n",
    "\n",
    "grouped = df.groupby('cntry')\n",
    "country_map = {}\n",
    "\n",
    "for code, group in grouped:\n",
    "    country_map[code] = Country(code, len(group))\n",
    "    print(country_map[code].name)"
   ]
  },
  {
   "cell_type": "code",
   "execution_count": 291,
   "metadata": {
    "collapsed": false
   },
   "outputs": [],
   "source": [
    "formula1 = ('hasrelig_f ~ inwyr07_f + yrbrn60_f + '\n",
    "            'edurank_f + hincrank_f +'\n",
    "            'tvtot_f + rdtot_f + nwsptot_f + netuse_f')\n",
    "\n",
    "formula2 = ('rlgdgr_f ~ inwyr07_f + yrbrn60_f + '\n",
    "            'edurank_f + hincrank_f +'\n",
    "            'tvtot_f + rdtot_f + nwsptot_f + netuse_f')\n",
    "\n",
    "def process_frame(df):\n",
    "    grouped = df.groupby('cntry')\n",
    "    for code, group in grouped:\n",
    "        country = country_map[code]\n",
    "        country.add_mean(group.mean())\n",
    "    \n",
    "        model = smf.logit(formula1, data=group)    \n",
    "        results = model.fit(disp=False)\n",
    "        country.add_params(results.params)\n",
    "        \n",
    "        model = smf.ols(formula2, data=group)    \n",
    "        results = model.fit(disp=False)\n",
    "        country.add_params2(results.params)"
   ]
  },
  {
   "cell_type": "code",
   "execution_count": 292,
   "metadata": {
    "collapsed": false
   },
   "outputs": [
    {
     "name": "stdout",
     "output_type": "stream",
     "text": [
      "/AAVZWa\n",
      "/ADbUvD\n",
      "/AJEDdF\n",
      "/AOacJP\n",
      "/AsSyrK\n",
      "/BIXejR\n",
      "/Blwttj\n",
      "/BytXnJ\n",
      "/CuiQgF\n",
      "/CxkVBv\n",
      "/DOKcxz\n",
      "/DSSzPM\n",
      "/DdpHTg\n",
      "/EBHNWn\n",
      "/EHuhuk\n",
      "/EIaigX\n",
      "/EOOBpB\n",
      "/EdeAYH\n",
      "/EiftYh\n",
      "/EoHBcy\n",
      "/Evkitq\n",
      "/FJboqX\n",
      "/FWawby\n",
      "/GIKXkG\n",
      "/GPBBMj\n",
      "/GYhuaT\n",
      "/GdTLTY\n",
      "/GeUlsB\n",
      "/GeolrR\n",
      "/GkMwBV\n",
      "/GownbC\n",
      "/GrCTmE\n",
      "/HGSBFA\n",
      "/HemGKU\n",
      "/HujYDN\n",
      "/IKLjEu\n",
      "/IORbkE\n",
      "/IXYMov\n",
      "/InEXbB\n",
      "/JKBolS\n",
      "/JVSJPq\n",
      "/JofMZK\n",
      "/JomohW\n",
      "/JznRlw\n",
      "/KEthFz\n",
      "/KFwczR\n",
      "/KUVnJc\n",
      "/KnKXTR\n",
      "/KuGUhG\n",
      "/KudtCP\n",
      "/LaUmLC\n",
      "/LissvE\n",
      "/LmraEV\n",
      "/MCmopN\n",
      "/MIdmWa\n",
      "/MgSdJx\n",
      "/NJjQrX\n",
      "/NfzPAX\n",
      "/OJZEtt\n",
      "/Oaksmf\n",
      "/OdhAjf\n",
      "/PJETsk\n",
      "/PXxSpS\n",
      "/PiWfGA\n",
      "/PptHII\n",
      "/PvfGpy\n",
      "/QTTYTa\n",
      "/QbhbQt\n",
      "/QoHLXF\n",
      "/QskeUe\n",
      "/QtkeEX\n",
      "/RHVBHl\n",
      "/RRpxwc\n",
      "/RYtpJo\n",
      "/RuCVox\n",
      "/RwJMYt\n",
      "/SHnJcB\n",
      "/ScbnLb\n",
      "/TOcaLi\n",
      "/TRVSRU\n",
      "/TaHTXL\n",
      "/UKzbGY\n",
      "/UVvNeb\n",
      "/UfXGIO\n",
      "/VHIVpS\n",
      "/VcRwRL\n",
      "/VgqgVe\n",
      "/VlUfcv\n",
      "/VzZAXk\n",
      "/WczOWP\n",
      "/WkLtrX\n",
      "/WkfCQW\n",
      "/WlHtRg\n",
      "/WwTDDj\n",
      "/WxWlWp\n",
      "/XGmIIH\n",
      "/XOxJQN\n",
      "/XhgvtL\n",
      "/YMsFSK\n",
      "/YeASVz\n",
      "/YoxGxL\n",
      "/YvdfEk\n",
      "/ZEEBve\n",
      "/ZXovwc\n",
      "/ZgSZAY\n",
      "/ZjGafB\n",
      "/ZxNahg\n",
      "/bJIOjl\n",
      "/bNKOFy\n",
      "/bOZZkd\n",
      "/blIIdK\n",
      "/btCIZx\n",
      "/bvntaM\n",
      "/cEzhky\n",
      "/cYiUkH\n",
      "/cgKsnt\n",
      "/czQkEF\n",
      "/dcjEvm\n",
      "/dqGBQR\n",
      "/dyuBXv\n",
      "/dzpDVu\n",
      "/eDVvJf\n",
      "/ewfhTI\n",
      "/fBFUGB\n",
      "/fEkGRW\n",
      "/ggYbXH\n",
      "/gnJSCF\n",
      "/hIQegI\n",
      "/hOQHWV\n",
      "/hTfXDB\n",
      "/hlJZff\n",
      "/hmmXxf\n",
      "/iABzcU\n",
      "/iGVZEK\n",
      "/iWltCV\n",
      "/iaTUMA\n",
      "/iiSwHC\n",
      "/ilWxnR\n",
      "/jNqZpZ\n",
      "/kVTeXb\n",
      "/kfAnDn\n",
      "/kuZzaN\n",
      "/lHDxRr\n",
      "/lfUmXq\n",
      "/lsXAWo\n",
      "/mbTfIj\n",
      "/mtyzJg\n",
      "/nOsmSf\n",
      "/ncvQcP\n",
      "/neEVfl\n",
      "/nnERGx\n",
      "/nnUXHn\n",
      "/nvZcGU\n",
      "/olGyuX\n",
      "/pezcXZ\n",
      "/qRQqmc\n",
      "/qWZfql\n",
      "/qchGUz\n",
      "/qfZVHF\n",
      "/qqYojL\n",
      "/rCrtjG\n",
      "/rSravW\n",
      "/rUWSeP\n",
      "/rYeOLP\n",
      "/rnYDRv\n",
      "/sPKzmv\n",
      "/shBLMW\n",
      "/siHRLd\n",
      "/ssTuqu\n",
      "/tIBOEC\n",
      "/tJaytt\n",
      "/taosRR\n",
      "/tazMjo\n",
      "/teuTPZ\n",
      "/tiUoXr\n",
      "/tjiIAT\n",
      "/tjjdLV\n",
      "/tuLFXm\n",
      "/uHhvHu\n",
      "/uOAidw\n",
      "/uWhsWV\n",
      "/uZGRbW\n",
      "/vPnlcH\n",
      "/vktdCG\n",
      "/vqFufP\n",
      "/vqxuWx\n",
      "/wGQrTR\n",
      "/wahSMf\n",
      "/wsvHYt\n",
      "/xfKUcU\n",
      "/xgAfWd\n",
      "/xjbtHM\n",
      "/xtqhXa\n",
      "/xwCakd\n",
      "/xxGtEc\n",
      "/yImumW\n",
      "/yKuLlN\n",
      "/ybmXrn\n",
      "/yfOjqX\n",
      "/ylSawW\n",
      "/zBUKWF\n",
      "/zYbdcJ\n",
      "/zvRkow\n",
      "/zyIeFR\n"
     ]
    }
   ],
   "source": [
    "for key in store.keys():\n",
    "    print(key)\n",
    "    df = store.get(key)\n",
    "    process_frame(df)"
   ]
  },
  {
   "cell_type": "code",
   "execution_count": 294,
   "metadata": {
    "collapsed": false
   },
   "outputs": [
    {
     "data": {
      "text/plain": [
       "204"
      ]
     },
     "execution_count": 294,
     "metadata": {},
     "output_type": "execute_result"
    }
   ],
   "source": [
    "varname = 'netuse_f'\n",
    "country = country_map['BE']\n",
    "params = country.get_params2(varname)\n",
    "len(params)"
   ]
  },
  {
   "cell_type": "code",
   "execution_count": 295,
   "metadata": {
    "collapsed": false
   },
   "outputs": [],
   "source": [
    "def extract_params(country_map, param_func):\n",
    "    t = []\n",
    "    for code, country in sorted(country_map.items()):\n",
    "        name = country.name\n",
    "\n",
    "        params = param_func(country)\n",
    "        param = np.median(params)\n",
    "        low = np.percentile(params, 2.5)\n",
    "        high = np.percentile(params, 97.5)\n",
    "    \n",
    "        means = country.get_means('hasrelig_f')\n",
    "        mean = np.median(means)\n",
    "    \n",
    "        t.append((code, name, param, low, high, mean))\n",
    "    \n",
    "    t.sort(key=lambda x: x[2])\n",
    "    return t"
   ]
  },
  {
   "cell_type": "code",
   "execution_count": null,
   "metadata": {
    "collapsed": false
   },
   "outputs": [],
   "source": []
  },
  {
   "cell_type": "markdown",
   "metadata": {},
   "source": [
    "Plot the first figure."
   ]
  },
  {
   "cell_type": "code",
   "execution_count": 296,
   "metadata": {
    "collapsed": false
   },
   "outputs": [],
   "source": [
    "def plot_cis(t):\n",
    "    plt.figure(figsize=(8,8))\n",
    "\n",
    "    n = len(t)\n",
    "    ys = n - np.arange(n)\n",
    "    codes, names, params, lows, highs, means = zip(*t)\n",
    "    plt.hlines(ys, lows, highs, color='blue', linewidth=2, alpha=0.5)\n",
    "    plt.plot(params, ys, 'ws', markeredgewidth=0, markersize=15)\n",
    "\n",
    "    for param, y, code in zip(params, ys, codes):\n",
    "        plt.text(param, y, code, fontsize=10, color='blue', \n",
    "                 horizontalalignment='center',\n",
    "                 verticalalignment='center')\n",
    "\n",
    "    plt.vlines(0, 0, n+1, color='gray', alpha=0.5)\n",
    "    plt.yticks(ys, names)"
   ]
  },
  {
   "cell_type": "code",
   "execution_count": 297,
   "metadata": {
    "collapsed": false
   },
   "outputs": [
    {
     "data": {
      "image/png": "[encoded data removed]",
      "text/plain": [
       "<matplotlib.figure.Figure at 0x7f51f16b60d0>"
      ]
     },
     "metadata": {},
     "output_type": "display_data"
    }
   ],
   "source": [
    "def param_func(country):\n",
    "    return country.get_params('netuse_f')\n",
    "\n",
    "t = extract_params(country_map, param_func)\n",
    "plot_cis(t)\n",
    "thinkplot.Config(xlabel='log odds ratio per hour of netuse', \n",
    "                 xlim=[-0.15, 0.1])"
   ]
  },
  {
   "cell_type": "code",
   "execution_count": 298,
   "metadata": {
    "collapsed": false
   },
   "outputs": [
    {
     "name": "stdout",
     "output_type": "stream",
     "text": [
      "-0.38248029366\n"
     ]
    },
    {
     "data": {
      "image/png": "[encoded data removed]",
      "text/plain": [
       "<matplotlib.figure.Figure at 0x7f5278336390>"
      ]
     },
     "metadata": {},
     "output_type": "display_data"
    }
   ],
   "source": [
    "def plot_scatter(t):\n",
    "    plt.figure(figsize=(8,8))\n",
    "\n",
    "    codes, names, params, lows, highs, means = zip(*t)\n",
    "\n",
    "    for param, mean, code in zip(params, means, codes):\n",
    "        plt.text(param, mean, code, fontsize=10, color='blue', \n",
    "                 horizontalalignment='center',\n",
    "                 verticalalignment='center')\n",
    "        \n",
    "    corr = np.corrcoef(params, means)[0][1]\n",
    "    print(corr)\n",
    "\n",
    "plot_scatter(t)\n",
    "thinkplot.Config(xlabel='log odds ratio per hour of netuse',\n",
    "                 ylabel='fraction with affiliation',\n",
    "                 xlim=[-0.15, 0.05])"
   ]
  },
  {
   "cell_type": "code",
   "execution_count": 299,
   "metadata": {
    "collapsed": false
   },
   "outputs": [
    {
     "data": {
      "image/png": "[encoded data removed]",
      "text/plain": [
       "<matplotlib.figure.Figure at 0x7f52abfb8d10>"
      ]
     },
     "metadata": {},
     "output_type": "display_data"
    }
   ],
   "source": [
    "def param_func(country):\n",
    "    return country.get_params2('netuse_f')\n",
    "\n",
    "t = extract_params(country_map, param_func)\n",
    "plot_cis(t)\n",
    "thinkplot.Config(xlabel='log odds ratio per hour of netuse', \n",
    "                 xlim=[-0.35, 0.1])"
   ]
  },
  {
   "cell_type": "code",
   "execution_count": 300,
   "metadata": {
    "collapsed": false
   },
   "outputs": [
    {
     "name": "stdout",
     "output_type": "stream",
     "text": [
      "-0.329939838799\n"
     ]
    },
    {
     "data": {
      "image/png": "[encoded data removed]",
      "text/plain": [
       "<matplotlib.figure.Figure at 0x7f52a7a41850>"
      ]
     },
     "metadata": {},
     "output_type": "display_data"
    }
   ],
   "source": [
    "def plot_scatter(t):\n",
    "    plt.figure(figsize=(8,8))\n",
    "\n",
    "    codes, names, params, lows, highs, means = zip(*t)\n",
    "\n",
    "    for param, mean, code in zip(params, means, codes):\n",
    "        plt.text(param, mean, code, fontsize=10, color='blue', \n",
    "                 horizontalalignment='center',\n",
    "                 verticalalignment='center')\n",
    "        \n",
    "    corr = np.corrcoef(params, means)[0][1]\n",
    "    print(corr)\n",
    "\n",
    "plot_scatter(t)\n",
    "thinkplot.Config(xlabel='log odds ratio per hour of netuse',\n",
    "                 ylabel='fraction with affiliation',\n",
    "                 xlim=[-0.35, 0.1])"
   ]
  },
  {
   "cell_type": "code",
   "execution_count": 301,
   "metadata": {
    "collapsed": false
   },
   "outputs": [
    {
     "data": {
      "text/html": [
       "<div>\n",
       "<table border=\"1\" class=\"dataframe\">\n",
       "  <thead>\n",
       "    <tr style=\"text-align: right;\">\n",
       "      <th></th>\n",
       "      <th>cntry</th>\n",
       "      <th>inwyr</th>\n",
       "      <th>tvtot</th>\n",
       "      <th>tvpol</th>\n",
       "      <th>rdtot</th>\n",
       "      <th>rdpol</th>\n",
       "      <th>nwsptot</th>\n",
       "      <th>nwsppol</th>\n",
       "      <th>netuse</th>\n",
       "      <th>rlgblg</th>\n",
       "      <th>...</th>\n",
       "      <th>hasrelig_f</th>\n",
       "      <th>rlgdgr_f</th>\n",
       "      <th>yrbrn60_f</th>\n",
       "      <th>edurank_f</th>\n",
       "      <th>hincrank_f</th>\n",
       "      <th>tvtot_f</th>\n",
       "      <th>rdtot_f</th>\n",
       "      <th>nwsptot_f</th>\n",
       "      <th>netuse_f</th>\n",
       "      <th>inwyr07_f</th>\n",
       "    </tr>\n",
       "  </thead>\n",
       "  <tbody>\n",
       "    <tr>\n",
       "      <th>0</th>\n",
       "      <td>BE</td>\n",
       "      <td>2002</td>\n",
       "      <td>7</td>\n",
       "      <td>2</td>\n",
       "      <td>6</td>\n",
       "      <td>0</td>\n",
       "      <td>4</td>\n",
       "      <td>4</td>\n",
       "      <td>0</td>\n",
       "      <td>2</td>\n",
       "      <td>...</td>\n",
       "      <td>0</td>\n",
       "      <td>0</td>\n",
       "      <td>-27</td>\n",
       "      <td>0.311326</td>\n",
       "      <td>0.486886</td>\n",
       "      <td>7</td>\n",
       "      <td>6</td>\n",
       "      <td>4</td>\n",
       "      <td>0</td>\n",
       "      <td>-4.587777</td>\n",
       "    </tr>\n",
       "    <tr>\n",
       "      <th>1</th>\n",
       "      <td>BE</td>\n",
       "      <td>2002</td>\n",
       "      <td>6</td>\n",
       "      <td>3</td>\n",
       "      <td>1</td>\n",
       "      <td>1</td>\n",
       "      <td>4</td>\n",
       "      <td>1</td>\n",
       "      <td>1</td>\n",
       "      <td>2</td>\n",
       "      <td>...</td>\n",
       "      <td>0</td>\n",
       "      <td>0</td>\n",
       "      <td>-12</td>\n",
       "      <td>0.575953</td>\n",
       "      <td>0.167451</td>\n",
       "      <td>6</td>\n",
       "      <td>1</td>\n",
       "      <td>4</td>\n",
       "      <td>1</td>\n",
       "      <td>-4.644231</td>\n",
       "    </tr>\n",
       "    <tr>\n",
       "      <th>2</th>\n",
       "      <td>BE</td>\n",
       "      <td>2002</td>\n",
       "      <td>4</td>\n",
       "      <td>2</td>\n",
       "      <td>7</td>\n",
       "      <td>2</td>\n",
       "      <td>2</td>\n",
       "      <td>2</td>\n",
       "      <td>6</td>\n",
       "      <td>2</td>\n",
       "      <td>...</td>\n",
       "      <td>0</td>\n",
       "      <td>5</td>\n",
       "      <td>5</td>\n",
       "      <td>0.479871</td>\n",
       "      <td>0.691997</td>\n",
       "      <td>4</td>\n",
       "      <td>7</td>\n",
       "      <td>2</td>\n",
       "      <td>6</td>\n",
       "      <td>-5.449223</td>\n",
       "    </tr>\n",
       "    <tr>\n",
       "      <th>3</th>\n",
       "      <td>BE</td>\n",
       "      <td>2002</td>\n",
       "      <td>5</td>\n",
       "      <td>0</td>\n",
       "      <td>1</td>\n",
       "      <td>0</td>\n",
       "      <td>1</td>\n",
       "      <td>0</td>\n",
       "      <td>7</td>\n",
       "      <td>2</td>\n",
       "      <td>...</td>\n",
       "      <td>0</td>\n",
       "      <td>2</td>\n",
       "      <td>24</td>\n",
       "      <td>0.407944</td>\n",
       "      <td>0.381305</td>\n",
       "      <td>5</td>\n",
       "      <td>1</td>\n",
       "      <td>1</td>\n",
       "      <td>7</td>\n",
       "      <td>-5.010420</td>\n",
       "    </tr>\n",
       "    <tr>\n",
       "      <th>4</th>\n",
       "      <td>BE</td>\n",
       "      <td>2002</td>\n",
       "      <td>2</td>\n",
       "      <td>2</td>\n",
       "      <td>2</td>\n",
       "      <td>2</td>\n",
       "      <td>2</td>\n",
       "      <td>2</td>\n",
       "      <td>6</td>\n",
       "      <td>1</td>\n",
       "      <td>...</td>\n",
       "      <td>1</td>\n",
       "      <td>6</td>\n",
       "      <td>6</td>\n",
       "      <td>0.867955</td>\n",
       "      <td>0.911231</td>\n",
       "      <td>2</td>\n",
       "      <td>2</td>\n",
       "      <td>2</td>\n",
       "      <td>6</td>\n",
       "      <td>-5.010001</td>\n",
       "    </tr>\n",
       "  </tbody>\n",
       "</table>\n",
       "<p>5 rows × 32 columns</p>\n",
       "</div>"
      ],
      "text/plain": [
       "  cntry  inwyr  tvtot  tvpol  rdtot  rdpol  nwsptot  nwsppol  netuse  rlgblg  \\\n",
       "0    BE   2002      7      2      6      0        4        4       0       2   \n",
       "1    BE   2002      6      3      1      1        4        1       1       2   \n",
       "2    BE   2002      4      2      7      2        2        2       6       2   \n",
       "3    BE   2002      5      0      1      0        1        0       7       2   \n",
       "4    BE   2002      2      2      2      2        2        2       6       1   \n",
       "\n",
       "     ...      hasrelig_f  rlgdgr_f  yrbrn60_f  edurank_f  hincrank_f  tvtot_f  \\\n",
       "0    ...               0         0        -27   0.311326    0.486886        7   \n",
       "1    ...               0         0        -12   0.575953    0.167451        6   \n",
       "2    ...               0         5          5   0.479871    0.691997        4   \n",
       "3    ...               0         2         24   0.407944    0.381305        5   \n",
       "4    ...               1         6          6   0.867955    0.911231        2   \n",
       "\n",
       "   rdtot_f  nwsptot_f  netuse_f  inwyr07_f  \n",
       "0        6          4         0  -4.587777  \n",
       "1        1          4         1  -4.644231  \n",
       "2        7          2         6  -5.449223  \n",
       "3        1          1         7  -5.010420  \n",
       "4        2          2         6  -5.010001  \n",
       "\n",
       "[5 rows x 32 columns]"
      ]
     },
     "execution_count": 301,
     "metadata": {},
     "output_type": "execute_result"
    }
   ],
   "source": [
    "df.head()"
   ]
  },
  {
   "cell_type": "code",
   "execution_count": 314,
   "metadata": {
    "collapsed": false
   },
   "outputs": [],
   "source": [
    "grouped = df.groupby('cntry')\n",
    "group = grouped.get_group('SE')"
   ]
  },
  {
   "cell_type": "code",
   "execution_count": 317,
   "metadata": {
    "collapsed": false
   },
   "outputs": [
    {
     "name": "stdout",
     "output_type": "stream",
     "text": [
      "0.300184762526\n",
      "2.0 7.0\n",
      "0.296450794165\n",
      "0.314629530976\n",
      "0.283064846846\n"
     ]
    }
   ],
   "source": [
    "formula1 = ('hasrelig_f ~ inwyr07_f + yrbrn60_f + '\n",
    "            'edurank_f + hincrank_f +'\n",
    "            'tvtot_f + rdtot_f + nwsptot_f + netuse_f')\n",
    "\n",
    "model = smf.logit(formula1, data=group)    \n",
    "results = model.fit(disp=False)\n",
    "\n",
    "mean = group.mean()\n",
    "low_net = np.percentile(group['netuse_f'], 25)\n",
    "high_net = np.percentile(group['netuse_f'], 75)\n",
    "\n",
    "def prob_hasrelig(results, df):\n",
    "    return results.predict(mean)[0]\n",
    "\n",
    "print(mean['hasrelig_f'])\n",
    "print(low_net, high_net)\n",
    "print(prob_hasrelig(results, mean)) \n",
    "mean.netuse_f = low_net\n",
    "print(prob_hasrelig(results, mean)) \n",
    "mean.netuse_f = high_net\n",
    "print(prob_hasrelig(results, mean)) \n"
   ]
  },
  {
   "cell_type": "code",
   "execution_count": 46,
   "metadata": {
    "collapsed": false
   },
   "outputs": [
    {
     "name": "stdout",
     "output_type": "stream",
     "text": [
      "AT\t6918\t-0.253    \t*\t\n",
      "BE\t8939\t-0.313    \t*\t\n",
      "BG\t6064\t-0.646    \t**\t\n",
      "CH\t9310\t-0.316    \t**\t\n",
      "CY\t3293\t-0.639    \t**\t\n",
      "CZ\t8790\t-0.438    \t**\t\n",
      "DE\t11568\t-0.624    \t**\t\n",
      "DK\t7684\t-0.374    \t**\t\n",
      "EE\t6960\t0.478    \t**\t<--\n",
      "ES\t9729\t-0.429    \t**\t\n",
      "FI\t7969\t0.175    \t\t\n",
      "FR\t5787\t-0.464    \t**\t\n",
      "GB\t11117\t0.428    \t**\t<--\n",
      "GR\t9759\t-1.68    \t**\t\n",
      "HR\t3133\t-1.22    \t**\t\n",
      "HU\t7806\t-0.938    \t**\t\n",
      "IE\t10472\t-0.442    \t**\t\n",
      "IL\t7283\t-0.904    \t**\t\n",
      "IS\t579\t0.0494    \t\t\n",
      "IT\t1207\t0.0235    \t\t\n",
      "LT\t1677\t-0.00891    \t\t\n",
      "LU\t3187\t-1.95    \t**\t\n",
      "LV\t1980\t0.263    \t\t\n",
      "NL\t9741\t-0.157    \t\t\n",
      "NO\t8643\t0.32    \t**\t<--\n",
      "PL\t8917\t-1.29    \t**\t\n",
      "PT\t10302\t-0.864    \t**\t\n",
      "RO\t2146\t-0.432    \t*\t\n",
      "RU\t7544\t-0.0769    \t\t\n",
      "SE\t9201\t0.336    \t**\t<--\n",
      "SI\t7126\t-0.964    \t**\t\n",
      "SK\t6944\t-0.79    \t**\t\n",
      "TR\t4272\t-1.16    \t**\t\n",
      "UA\t7809\t-0.591    \t**\t\n"
     ]
    }
   ],
   "source": [
    "run_ols(grouped, formula, 'edurank_f')"
   ]
  },
  {
   "cell_type": "code",
   "execution_count": 47,
   "metadata": {
    "collapsed": false
   },
   "outputs": [
    {
     "name": "stdout",
     "output_type": "stream",
     "text": [
      "AT\t6918\t0.162    \t\t\n",
      "BE\t8939\t-0.359    \t**\t\n",
      "BG\t6064\t-0.175    \t\t\n",
      "CH\t9310\t-0.29    \t**\t\n",
      "CY\t3293\t-0.37    \t**\t\n",
      "CZ\t8790\t-0.41    \t**\t\n",
      "DE\t11568\t0.372    \t**\t<--\n",
      "DK\t7684\t0.128    \t\t\n",
      "EE\t6960\t-0.44    \t**\t\n",
      "ES\t9729\t-0.227    \t*\t\n",
      "FI\t7969\t-0.271    \t*\t\n",
      "FR\t5787\t-0.806    \t**\t\n",
      "GB\t11117\t-0.529    \t**\t\n",
      "GR\t9759\t-0.511    \t**\t\n",
      "HR\t3133\t0.124    \t\t\n",
      "HU\t7806\t-0.078    \t\t\n",
      "IE\t10472\t-0.0518    \t\t\n",
      "IL\t7283\t-0.333    \t*\t\n",
      "IS\t579\t0.0341    \t\t\n",
      "IT\t1207\t0.104    \t\t\n",
      "LT\t1677\t-0.531    \t*\t\n",
      "LU\t3187\t-0.382    \t*\t\n",
      "LV\t1980\t-0.274    \t\t\n",
      "NL\t9741\t-0.853    \t**\t\n",
      "NO\t8643\t-0.192    \t\t\n",
      "PL\t8917\t-0.355    \t**\t\n",
      "PT\t10302\t-0.0868    \t\t\n",
      "RO\t2146\t-0.178    \t\t\n",
      "RU\t7544\t-0.0596    \t\t\n",
      "SE\t9201\t-0.249    \t*\t\n",
      "SI\t7126\t-0.876    \t**\t\n",
      "SK\t6944\t0.0426    \t\t\n",
      "TR\t4272\t-0.201    \t\t\n",
      "UA\t7809\t-0.0463    \t\t\n"
     ]
    }
   ],
   "source": [
    "run_ols(grouped, formula, 'hincrank_f')"
   ]
  },
  {
   "cell_type": "markdown",
   "metadata": {},
   "source": [
    "Let's see what happens if we add quadratic terms for edurank and hincrank:"
   ]
  },
  {
   "cell_type": "code",
   "execution_count": 48,
   "metadata": {
    "collapsed": false
   },
   "outputs": [],
   "source": [
    "df['edurank_f2'] = df.edurank_f**2\n",
    "df['hincrank_f2'] = df.hincrank_f**2"
   ]
  },
  {
   "cell_type": "code",
   "execution_count": 49,
   "metadata": {
    "collapsed": true
   },
   "outputs": [],
   "source": [
    "formula = ('rlgdgr_f ~ inwyr07_f + yrbrn60_f + edurank_f + edurank_f2 + hincrank_f +'\n",
    "           'tvtot_f + rdtot_f + nwsptot_f + netuse_f')"
   ]
  },
  {
   "cell_type": "code",
   "execution_count": 50,
   "metadata": {
    "collapsed": false
   },
   "outputs": [
    {
     "name": "stdout",
     "output_type": "stream",
     "text": [
      "AT\t6918\t-0.669    \t\t\n",
      "BE\t8939\t0.186    \t\t\n",
      "BG\t6064\t-2.81    \t**\t\n",
      "CH\t9310\t-0.863    \t*\t\n",
      "CY\t3293\t-1.07    \t\t\n",
      "CZ\t8790\t-2.53    \t**\t\n",
      "DE\t11568\t-2.79    \t**\t\n",
      "DK\t7684\t-0.748    \t\t\n",
      "EE\t6960\t-0.671    \t\t\n",
      "ES\t9729\t-1.55    \t**\t\n",
      "FI\t7969\t0.0851    \t\t\n",
      "FR\t5787\t-1.85    \t**\t\n",
      "GB\t11117\t-2.16    \t**\t\n",
      "GR\t9759\t-1.93    \t**\t\n",
      "HR\t3133\t-1.85    \t**\t\n",
      "HU\t7806\t-3.03    \t**\t\n",
      "IE\t10472\t-0.237    \t\t\n",
      "IL\t7283\t-0.533    \t\t\n",
      "IS\t579\t-1.68    \t\t\n",
      "IT\t1207\t-2.43    \t*\t\n",
      "LT\t1677\t-1.82    \t*\t\n",
      "LU\t3187\t-2.46    \t**\t\n",
      "LV\t1980\t-1.74    \t*\t\n",
      "NL\t9741\t-0.285    \t\t\n",
      "NO\t8643\t-1.05    \t*\t\n",
      "PL\t8917\t-2.44    \t**\t\n",
      "PT\t10302\t-1.2    \t**\t\n",
      "RO\t2146\t-1.35    \t\t\n",
      "RU\t7544\t-1.06    \t*\t\n",
      "SE\t9201\t-0.788    \t\t\n",
      "SI\t7126\t-2.03    \t**\t\n",
      "SK\t6944\t-2.73    \t**\t\n",
      "TR\t4272\t-0.9    \t\t\n",
      "UA\t7809\t-0.66    \t\t\n"
     ]
    }
   ],
   "source": [
    "run_ols(grouped, formula, 'edurank_f')"
   ]
  },
  {
   "cell_type": "code",
   "execution_count": 51,
   "metadata": {
    "collapsed": false
   },
   "outputs": [
    {
     "name": "stdout",
     "output_type": "stream",
     "text": [
      "AT\t6918\t0.412    \t\t\n",
      "BE\t8939\t-0.5    \t\t\n",
      "BG\t6064\t2.13    \t**\t<--\n",
      "CH\t9310\t0.55    \t\t\n",
      "CY\t3293\t0.427    \t\t\n",
      "CZ\t8790\t2.09    \t**\t<--\n",
      "DE\t11568\t2.15    \t**\t<--\n",
      "DK\t7684\t0.373    \t\t\n",
      "EE\t6960\t1.15    \t*\t<--\n",
      "ES\t9729\t1.09    \t**\t<--\n",
      "FI\t7969\t0.0867    \t\t\n",
      "FR\t5787\t1.36    \t*\t<--\n",
      "GB\t11117\t2.56    \t**\t<--\n",
      "GR\t9759\t0.244    \t\t\n",
      "HR\t3133\t0.62    \t\t\n",
      "HU\t7806\t2.09    \t**\t<--\n",
      "IE\t10472\t-0.204    \t\t\n",
      "IL\t7283\t-0.37    \t\t\n",
      "IS\t579\t1.66    \t\t\n",
      "IT\t1207\t2.36    \t*\t<--\n",
      "LT\t1677\t1.81    \t*\t<--\n",
      "LU\t3187\t0.513    \t\t\n",
      "LV\t1980\t2.02    \t*\t<--\n",
      "NL\t9741\t0.126    \t\t\n",
      "NO\t8643\t1.34    \t**\t<--\n",
      "PL\t8917\t1.14    \t**\t<--\n",
      "PT\t10302\t0.324    \t\t\n",
      "RO\t2146\t0.896    \t\t\n",
      "RU\t7544\t0.979    \t*\t<--\n",
      "SE\t9201\t1.11    \t**\t<--\n",
      "SI\t7126\t1.08    \t*\t<--\n",
      "SK\t6944\t1.94    \t**\t<--\n",
      "TR\t4272\t-0.257    \t\t\n",
      "UA\t7809\t0.0687    \t\t\n"
     ]
    }
   ],
   "source": [
    "run_ols(grouped, formula, 'edurank_f2')"
   ]
  },
  {
   "cell_type": "code",
   "execution_count": 52,
   "metadata": {
    "collapsed": true
   },
   "outputs": [],
   "source": [
    "formula = ('rlgdgr_f ~ inwyr07_f + yrbrn60_f + edurank_f + edurank_f2 + '\n",
    "           'hincrank_f + hincrank_f2 + '\n",
    "           'tvtot_f + rdtot_f + nwsptot_f + netuse_f')"
   ]
  },
  {
   "cell_type": "code",
   "execution_count": 53,
   "metadata": {
    "collapsed": false
   },
   "outputs": [
    {
     "name": "stdout",
     "output_type": "stream",
     "text": [
      "AT\t6918\t1.95    \t**\t<--\n",
      "BE\t8939\t-0.782    \t\t\n",
      "BG\t6064\t-0.412    \t\t\n",
      "CH\t9310\t0.417    \t\t\n",
      "CY\t3293\t-1.34    \t**\t\n",
      "CZ\t8790\t-1.44    \t**\t\n",
      "DE\t11568\t0.149    \t\t\n",
      "DK\t7684\t1.5    \t**\t<--\n",
      "EE\t6960\t-1.25    \t**\t\n",
      "ES\t9729\t0.182    \t\t\n",
      "FI\t7969\t0.265    \t\t\n",
      "FR\t5787\t-1.96    \t**\t\n",
      "GB\t11117\t-0.107    \t\t\n",
      "GR\t9759\t-0.63    \t*\t\n",
      "HR\t3133\t1.97    \t**\t<--\n",
      "HU\t7806\t-0.0722    \t\t\n",
      "IE\t10472\t0.416    \t\t\n",
      "IL\t7283\t-0.525    \t\t\n",
      "IS\t579\t-0.719    \t\t\n",
      "IT\t1207\t-0.197    \t\t\n",
      "LT\t1677\t2.34    \t**\t<--\n",
      "LU\t3187\t-1.03    \t\t\n",
      "LV\t1980\t-0.262    \t\t\n",
      "NL\t9741\t-0.0917    \t\t\n",
      "NO\t8643\t-0.55    \t\t\n",
      "PL\t8917\t-0.273    \t\t\n",
      "PT\t10302\t0.284    \t\t\n",
      "RO\t2146\t-0.35    \t\t\n",
      "RU\t7544\t-0.622    \t\t\n",
      "SE\t9201\t-0.787    \t*\t\n",
      "SI\t7126\t0.0244    \t\t\n",
      "SK\t6944\t0.828    \t\t\n",
      "TR\t4272\t-1.16    \t*\t\n",
      "UA\t7809\t0.304    \t\t\n"
     ]
    }
   ],
   "source": [
    "run_ols(grouped, formula, 'hincrank_f')"
   ]
  },
  {
   "cell_type": "code",
   "execution_count": 54,
   "metadata": {
    "collapsed": false
   },
   "outputs": [
    {
     "name": "stdout",
     "output_type": "stream",
     "text": [
      "AT\t6918\t-0.782    \t\t\n",
      "BE\t8939\t0.232    \t\t\n",
      "BG\t6064\t-2.79    \t**\t\n",
      "CH\t9310\t-0.901    \t*\t\n",
      "CY\t3293\t-0.992    \t\t\n",
      "CZ\t8790\t-2.44    \t**\t\n",
      "DE\t11568\t-2.77    \t**\t\n",
      "DK\t7684\t-0.859    \t*\t\n",
      "EE\t6960\t-0.641    \t\t\n",
      "ES\t9729\t-1.59    \t**\t\n",
      "FI\t7969\t0.0251    \t\t\n",
      "FR\t5787\t-1.8    \t**\t\n",
      "GB\t11117\t-2.19    \t**\t\n",
      "GR\t9759\t-1.92    \t**\t\n",
      "HR\t3133\t-2.26    \t**\t\n",
      "HU\t7806\t-3.03    \t**\t\n",
      "IE\t10472\t-0.267    \t\t\n",
      "IL\t7283\t-0.519    \t\t\n",
      "IS\t579\t-1.57    \t\t\n",
      "IT\t1207\t-2.39    \t*\t\n",
      "LT\t1677\t-2.11    \t*\t\n",
      "LU\t3187\t-2.42    \t**\t\n",
      "LV\t1980\t-1.74    \t*\t\n",
      "NL\t9741\t-0.375    \t\t\n",
      "NO\t8643\t-1.01    \t*\t\n",
      "PL\t8917\t-2.44    \t**\t\n",
      "PT\t10302\t-1.22    \t**\t\n",
      "RO\t2146\t-1.32    \t\t\n",
      "RU\t7544\t-1.05    \t*\t\n",
      "SE\t9201\t-0.742    \t\t\n",
      "SI\t7126\t-2.16    \t**\t\n",
      "SK\t6944\t-2.76    \t**\t\n",
      "TR\t4272\t-0.774    \t\t\n",
      "UA\t7809\t-0.668    \t\t\n"
     ]
    }
   ],
   "source": [
    "run_ols(grouped, formula, 'edurank_f')"
   ]
  },
  {
   "cell_type": "code",
   "execution_count": 55,
   "metadata": {
    "collapsed": false
   },
   "outputs": [
    {
     "name": "stdout",
     "output_type": "stream",
     "text": [
      "AT\t6918\t-0.0812    \t**\t\n",
      "BE\t8939\t-0.107    \t**\t\n",
      "BG\t6064\t-0.00442    \t\t\n",
      "CH\t9310\t-0.0913    \t**\t\n",
      "CY\t3293\t-0.0597    \t**\t\n",
      "CZ\t8790\t0.00383    \t\t\n",
      "DE\t11568\t-0.0567    \t**\t\n",
      "DK\t7684\t-0.0381    \t**\t\n",
      "EE\t6960\t-0.0199    \t\t\n",
      "ES\t9729\t-0.0874    \t**\t\n",
      "FI\t7969\t-0.0187    \t\t\n",
      "FR\t5787\t-0.0433    \t**\t\n",
      "GB\t11117\t-0.0326    \t**\t\n",
      "GR\t9759\t-0.0635    \t**\t\n",
      "HR\t3133\t-0.0762    \t**\t\n",
      "HU\t7806\t-0.0145    \t\t\n",
      "IE\t10472\t-0.0799    \t**\t\n",
      "IL\t7283\t-0.31    \t**\t\n",
      "IS\t579\t0.0128    \t\t\n",
      "IT\t1207\t-0.158    \t**\t\n",
      "LT\t1677\t-0.0403    \t\t\n",
      "LU\t3187\t-0.146    \t**\t\n",
      "LV\t1980\t-0.0254    \t\t\n",
      "NL\t9741\t-0.0843    \t**\t\n",
      "NO\t8643\t-0.0622    \t**\t\n",
      "PL\t8917\t-0.0759    \t**\t\n",
      "PT\t10302\t-0.0556    \t**\t\n",
      "RO\t2146\t-0.0339    \t\t\n",
      "RU\t7544\t0.0223    \t\t\n",
      "SE\t9201\t-0.0921    \t**\t\n",
      "SI\t7126\t-0.0761    \t**\t\n",
      "SK\t6944\t-0.0405    \t**\t\n",
      "TR\t4272\t-0.0324    \t\t\n",
      "UA\t7809\t-0.0466    \t**\t\n"
     ]
    }
   ],
   "source": [
    "run_ols(grouped, formula, 'netuse_f')"
   ]
  },
  {
   "cell_type": "code",
   "execution_count": 77,
   "metadata": {
    "collapsed": false
   },
   "outputs": [
    {
     "data": {
      "text/plain": [
       "{'AD': 'Andorra',\n",
       " 'AE': 'United Arab Emirates',\n",
       " 'AF': 'Afghanistan',\n",
       " 'AG': 'Antigua And Barbuda',\n",
       " 'AI': 'Anguilla',\n",
       " 'AL': 'Albania',\n",
       " 'AM': 'Armenia',\n",
       " 'AN': 'Netherlands Antilles',\n",
       " 'AO': 'Angola',\n",
       " 'AQ': 'Antarctica',\n",
       " 'AR': 'Argentina',\n",
       " 'AS': 'American Samoa',\n",
       " 'AT': 'Austria',\n",
       " 'AU': 'Australia',\n",
       " 'AW': 'Aruba',\n",
       " 'AX': 'Aland Islands',\n",
       " 'AZ': 'Azerbaijan',\n",
       " 'BA': 'Bosnia And Herzegovina',\n",
       " 'BB': 'Barbados',\n",
       " 'BD': 'Bangladesh',\n",
       " 'BE': 'Belgium',\n",
       " 'BF': 'Burkina Faso',\n",
       " 'BG': 'Bulgaria',\n",
       " 'BH': 'Bahrain',\n",
       " 'BI': 'Burundi',\n",
       " 'BJ': 'Benin',\n",
       " 'BL': 'Saint Barthelemy',\n",
       " 'BM': 'Bermuda',\n",
       " 'BN': 'Brunei Darussalam',\n",
       " 'BO': 'Bolivia, Plurinational State Of',\n",
       " 'BR': 'Brazil',\n",
       " 'BS': 'Bahamas',\n",
       " 'BT': 'Bhutan',\n",
       " 'BV': 'Bouvet Island',\n",
       " 'BW': 'Botswana',\n",
       " 'BY': 'Belarus',\n",
       " 'BZ': 'Belize',\n",
       " 'CA': 'Canada',\n",
       " 'CC': 'Cocos (Keeling) Islands',\n",
       " 'CD': 'Congo, The Democratic Republic Of The',\n",
       " 'CF': 'Central African Republic',\n",
       " 'CG': 'Congo',\n",
       " 'CH': 'Switzerland',\n",
       " 'CI': \"Cote D'Ivoire\",\n",
       " 'CK': 'Cook Islands',\n",
       " 'CL': 'Chile',\n",
       " 'CM': 'Cameroon',\n",
       " 'CN': 'China',\n",
       " 'CO': 'Colombia',\n",
       " 'CR': 'Costa Rica',\n",
       " 'CU': 'Cuba',\n",
       " 'CV': 'Cape Verde',\n",
       " 'CX': 'Christmas Island',\n",
       " 'CY': 'Cyprus',\n",
       " 'CZ': 'Czech Republic',\n",
       " 'DE': 'Germany',\n",
       " 'DJ': 'Djibouti',\n",
       " 'DK': 'Denmark',\n",
       " 'DM': 'Dominica',\n",
       " 'DO': 'Dominican Republic',\n",
       " 'DZ': 'Algeria',\n",
       " 'EC': 'Ecuador',\n",
       " 'EE': 'Estonia',\n",
       " 'EG': 'Egypt',\n",
       " 'EH': 'Western Sahara',\n",
       " 'ER': 'Eritrea',\n",
       " 'ES': 'Spain',\n",
       " 'ET': 'Ethiopia',\n",
       " 'FI': 'Finland',\n",
       " 'FJ': 'Fiji',\n",
       " 'FK': 'Falkland Islands (Malvinas)',\n",
       " 'FM': 'Micronesia, Federated States Of',\n",
       " 'FO': 'Faroe Islands',\n",
       " 'FR': 'France',\n",
       " 'GA': 'Gabon',\n",
       " 'GB': 'United Kingdom',\n",
       " 'GD': 'Grenada',\n",
       " 'GE': 'Georgia',\n",
       " 'GF': 'French Guiana',\n",
       " 'GG': 'Guernsey',\n",
       " 'GH': 'Ghana',\n",
       " 'GI': 'Gibraltar',\n",
       " 'GL': 'Greenland',\n",
       " 'GM': 'Gambia',\n",
       " 'GN': 'Guinea',\n",
       " 'GP': 'Guadeloupe',\n",
       " 'GQ': 'Equatorial Guinea',\n",
       " 'GR': 'Greece',\n",
       " 'GS': 'South Georgia And The South Sandwich Islands',\n",
       " 'GT': 'Guatemala',\n",
       " 'GU': 'Guam',\n",
       " 'GW': 'Guinea-Bissau',\n",
       " 'GY': 'Guyana',\n",
       " 'HK': 'Hong Kong',\n",
       " 'HM': 'Heard Island And Mcdonald Islands',\n",
       " 'HN': 'Honduras',\n",
       " 'HR': 'Croatia',\n",
       " 'HT': 'Haiti',\n",
       " 'HU': 'Hungary',\n",
       " 'ID': 'Indonesia',\n",
       " 'IE': 'Ireland',\n",
       " 'IL': 'Israel',\n",
       " 'IM': 'Isle Of Man',\n",
       " 'IN': 'India',\n",
       " 'IO': 'British Indian Ocean Territory',\n",
       " 'IQ': 'Iraq',\n",
       " 'IR': 'Iran, Islamic Republic Of',\n",
       " 'IS': 'Iceland',\n",
       " 'IT': 'Italy',\n",
       " 'JE': 'Jersey',\n",
       " 'JM': 'Jamaica',\n",
       " 'JO': 'Jordan',\n",
       " 'JP': 'Japan',\n",
       " 'KE': 'Kenya',\n",
       " 'KG': 'Kyrgyzstan',\n",
       " 'KH': 'Cambodia',\n",
       " 'KI': 'Kiribati',\n",
       " 'KM': 'Comoros',\n",
       " 'KN': 'Saint Kitts And Nevis',\n",
       " 'KP': \"Korea, Democratic People'S Republic Of\",\n",
       " 'KR': 'Korea, Republic Of',\n",
       " 'KW': 'Kuwait',\n",
       " 'KY': 'Cayman Islands',\n",
       " 'KZ': 'Kazakhstan',\n",
       " 'LA': \"Lao People'S Democratic Republic\",\n",
       " 'LB': 'Lebanon',\n",
       " 'LC': 'Saint Lucia',\n",
       " 'LI': 'Liechtenstein',\n",
       " 'LK': 'Sri Lanka',\n",
       " 'LR': 'Liberia',\n",
       " 'LS': 'Lesotho',\n",
       " 'LT': 'Lithuania',\n",
       " 'LU': 'Luxembourg',\n",
       " 'LV': 'Latvia',\n",
       " 'LY': 'Libyan Arab Jamahiriya',\n",
       " 'MA': 'Morocco',\n",
       " 'MC': 'Monaco',\n",
       " 'MD': 'Moldova, Republic Of',\n",
       " 'ME': 'Montenegro',\n",
       " 'MF': 'Saint Martin',\n",
       " 'MG': 'Madagascar',\n",
       " 'MH': 'Marshall Islands',\n",
       " 'MK': 'Macedonia, The Former Yugoslav Republic Of',\n",
       " 'ML': 'Mali',\n",
       " 'MM': 'Myanmar',\n",
       " 'MN': 'Mongolia',\n",
       " 'MO': 'Macao',\n",
       " 'MP': 'Northern Mariana Islands',\n",
       " 'MQ': 'Martinique',\n",
       " 'MR': 'Mauritania',\n",
       " 'MS': 'Montserrat',\n",
       " 'MT': 'Malta',\n",
       " 'MU': 'Mauritius',\n",
       " 'MV': 'Maldives',\n",
       " 'MW': 'Malawi',\n",
       " 'MX': 'Mexico',\n",
       " 'MY': 'Malaysia',\n",
       " 'MZ': 'Mozambique',\n",
       " 'NA': 'Namibia',\n",
       " 'NC': 'New Caledonia',\n",
       " 'NE': 'Niger',\n",
       " 'NF': 'Norfolk Island',\n",
       " 'NG': 'Nigeria',\n",
       " 'NI': 'Nicaragua',\n",
       " 'NL': 'Netherlands',\n",
       " 'NO': 'Norway',\n",
       " 'NP': 'Nepal',\n",
       " 'NR': 'Nauru',\n",
       " 'NU': 'Niue',\n",
       " 'NZ': 'New Zealand',\n",
       " 'OM': 'Oman',\n",
       " 'PA': 'Panama',\n",
       " 'PE': 'Peru',\n",
       " 'PF': 'French Polynesia',\n",
       " 'PG': 'Papua New Guinea',\n",
       " 'PH': 'Philippines',\n",
       " 'PK': 'Pakistan',\n",
       " 'PL': 'Poland',\n",
       " 'PM': 'Saint Pierre And Miquelon',\n",
       " 'PN': 'Pitcairn',\n",
       " 'PR': 'Puerto Rico',\n",
       " 'PS': 'Palestinian Territory, Occupied',\n",
       " 'PT': 'Portugal',\n",
       " 'PW': 'Palau',\n",
       " 'PY': 'Paraguay',\n",
       " 'QA': 'Qatar',\n",
       " 'RE': 'Reunion',\n",
       " 'RO': 'Romania',\n",
       " 'RS': 'Serbia',\n",
       " 'RU': 'Russian Federation',\n",
       " 'RW': 'Rwanda',\n",
       " 'SA': 'Saudi Arabia',\n",
       " 'SB': 'Solomon Islands',\n",
       " 'SC': 'Seychelles',\n",
       " 'SD': 'Sudan',\n",
       " 'SE': 'Sweden',\n",
       " 'SG': 'Singapore',\n",
       " 'SH': 'Saint Helena, Ascension And Tristan Da Cunha',\n",
       " 'SI': 'Slovenia',\n",
       " 'SJ': 'Svalbard And Jan Mayen',\n",
       " 'SK': 'Slovakia',\n",
       " 'SL': 'Sierra Leone',\n",
       " 'SM': 'San Marino',\n",
       " 'SN': 'Senegal',\n",
       " 'SO': 'Somalia',\n",
       " 'SR': 'Suriname',\n",
       " 'ST': 'Sao Tome And Principe',\n",
       " 'SV': 'El Salvador',\n",
       " 'SY': 'Syrian Arab Republic',\n",
       " 'SZ': 'Swaziland',\n",
       " 'TC': 'Turks And Caicos Islands',\n",
       " 'TD': 'Chad',\n",
       " 'TF': 'French Southern Territories',\n",
       " 'TG': 'Togo',\n",
       " 'TH': 'Thailand',\n",
       " 'TJ': 'Tajikistan',\n",
       " 'TK': 'Tokelau',\n",
       " 'TL': 'Timor-Leste',\n",
       " 'TM': 'Turkmenistan',\n",
       " 'TN': 'Tunisia',\n",
       " 'TO': 'Tonga',\n",
       " 'TR': 'Turkey',\n",
       " 'TT': 'Trinidad And Tobago',\n",
       " 'TV': 'Tuvalu',\n",
       " 'TW': 'Taiwan, Province Of China',\n",
       " 'TZ': 'Tanzania, United Republic Of',\n",
       " 'UA': 'Ukraine',\n",
       " 'UG': 'Uganda',\n",
       " 'UM': 'United States Minor Outlying Islands',\n",
       " 'US': 'United States',\n",
       " 'UY': 'Uruguay',\n",
       " 'UZ': 'Uzbekistan',\n",
       " 'VA': 'Holy See (Vatican City State)',\n",
       " 'VC': 'Saint Vincent And The Grenadines',\n",
       " 'VE': 'Venezuela, Bolivarian Republic Of',\n",
       " 'VG': 'Virgin Islands, British',\n",
       " 'VI': 'Virgin Islands, U.S.',\n",
       " 'VN': 'Viet Nam',\n",
       " 'VU': 'Vanuatu',\n",
       " 'WF': 'Wallis And Futuna',\n",
       " 'WS': 'Samoa',\n",
       " 'YE': 'Yemen',\n",
       " 'YT': 'Mayotte',\n",
       " 'ZA': 'South Africa',\n",
       " 'ZM': 'Zambia',\n",
       " 'ZW ': 'Zimbabwe'}"
      ]
     },
     "execution_count": 77,
     "metadata": {},
     "output_type": "execute_result"
    }
   ],
   "source": []
  },
  {
   "cell_type": "code",
   "execution_count": null,
   "metadata": {
    "collapsed": true
   },
   "outputs": [],
   "source": []
  }
 ],
 "metadata": {
  "kernelspec": {
   "display_name": "Python 2",
   "language": "python",
   "name": "python2"
  },
  "language_info": {
   "codemirror_mode": {
    "name": "ipython",
    "version": 2
   },
   "file_extension": ".py",
   "mimetype": "text/x-python",
   "name": "python",
   "nbconvert_exporter": "python",
   "pygments_lexer": "ipython2",
   "version": "2.7.10"
  }
 },
 "nbformat": 4,
 "nbformat_minor": 0
}
