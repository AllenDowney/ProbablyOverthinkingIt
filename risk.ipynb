{
 "cells": [
  {
   "cell_type": "markdown",
   "metadata": {},
   "source": [
    "#Risk assessment\n",
    "\n",
    "This notebook presents an exploration of different ways to assess the risk of recidivism based on a risk score.\n",
    "\n",
    "Copyright 2015 Allen Downey\n",
    "\n",
    "MIT License: http://opensource.org/licenses/MIT"
   ]
  },
  {
   "cell_type": "code",
   "execution_count": 1,
   "metadata": {
    "collapsed": true
   },
   "outputs": [],
   "source": [
    "from __future__ import print_function, division\n",
    "\n",
    "import numpy as np\n",
    "import pandas as pd\n",
    "import thinkbayes2\n",
    "import thinkplot\n",
    "\n",
    "import matplotlib.pyplot as plt\n",
    "\n",
    "import statsmodels.formula.api as smf\n",
    "\n",
    "%matplotlib inline"
   ]
  },
  {
   "cell_type": "markdown",
   "metadata": {},
   "source": [
    "Read the data:"
   ]
  },
  {
   "cell_type": "code",
   "execution_count": 2,
   "metadata": {
    "collapsed": false
   },
   "outputs": [
    {
     "data": {
      "text/html": [
       "<div>\n",
       "<table border=\"1\" class=\"dataframe\">\n",
       "  <thead>\n",
       "    <tr style=\"text-align: right;\">\n",
       "      <th></th>\n",
       "      <th>score</th>\n",
       "      <th>10-yr recidivate</th>\n",
       "      <th>recid</th>\n",
       "    </tr>\n",
       "  </thead>\n",
       "  <tbody>\n",
       "    <tr>\n",
       "      <th>0</th>\n",
       "      <td>-2</td>\n",
       "      <td>0</td>\n",
       "      <td>0</td>\n",
       "    </tr>\n",
       "    <tr>\n",
       "      <th>1</th>\n",
       "      <td>-2</td>\n",
       "      <td>0</td>\n",
       "      <td>0</td>\n",
       "    </tr>\n",
       "    <tr>\n",
       "      <th>2</th>\n",
       "      <td>-1</td>\n",
       "      <td>0</td>\n",
       "      <td>0</td>\n",
       "    </tr>\n",
       "    <tr>\n",
       "      <th>3</th>\n",
       "      <td>-1</td>\n",
       "      <td>0</td>\n",
       "      <td>0</td>\n",
       "    </tr>\n",
       "    <tr>\n",
       "      <th>4</th>\n",
       "      <td>-1</td>\n",
       "      <td>0</td>\n",
       "      <td>0</td>\n",
       "    </tr>\n",
       "  </tbody>\n",
       "</table>\n",
       "</div>"
      ],
      "text/plain": [
       "   score  10-yr recidivate  recid\n",
       "0     -2                 0      0\n",
       "1     -2                 0      0\n",
       "2     -1                 0      0\n",
       "3     -1                 0      0\n",
       "4     -1                 0      0"
      ]
     },
     "execution_count": 2,
     "metadata": {},
     "output_type": "execute_result"
    }
   ],
   "source": [
    "df = pd.read_excel('helmus10yrfixed.xlsx')\n",
    "df['recid'] = df['10-yr recidivate']\n",
    "df.head()"
   ]
  },
  {
   "cell_type": "markdown",
   "metadata": {},
   "source": [
    "The last row of the table is the total, so we have to drop it."
   ]
  },
  {
   "cell_type": "code",
   "execution_count": 3,
   "metadata": {
    "collapsed": false
   },
   "outputs": [
    {
     "data": {
      "text/html": [
       "<div>\n",
       "<table border=\"1\" class=\"dataframe\">\n",
       "  <thead>\n",
       "    <tr style=\"text-align: right;\">\n",
       "      <th></th>\n",
       "      <th>score</th>\n",
       "      <th>10-yr recidivate</th>\n",
       "      <th>recid</th>\n",
       "    </tr>\n",
       "  </thead>\n",
       "  <tbody>\n",
       "    <tr>\n",
       "      <th>699</th>\n",
       "      <td>10</td>\n",
       "      <td>1</td>\n",
       "      <td>1</td>\n",
       "    </tr>\n",
       "    <tr>\n",
       "      <th>700</th>\n",
       "      <td>10</td>\n",
       "      <td>1</td>\n",
       "      <td>1</td>\n",
       "    </tr>\n",
       "    <tr>\n",
       "      <th>701</th>\n",
       "      <td>10</td>\n",
       "      <td>1</td>\n",
       "      <td>1</td>\n",
       "    </tr>\n",
       "    <tr>\n",
       "      <th>702</th>\n",
       "      <td>11</td>\n",
       "      <td>0</td>\n",
       "      <td>0</td>\n",
       "    </tr>\n",
       "    <tr>\n",
       "      <th>703</th>\n",
       "      <td>NaN</td>\n",
       "      <td>204</td>\n",
       "      <td>204</td>\n",
       "    </tr>\n",
       "  </tbody>\n",
       "</table>\n",
       "</div>"
      ],
      "text/plain": [
       "     score  10-yr recidivate  recid\n",
       "699     10                 1      1\n",
       "700     10                 1      1\n",
       "701     10                 1      1\n",
       "702     11                 0      0\n",
       "703    NaN               204    204"
      ]
     },
     "execution_count": 3,
     "metadata": {},
     "output_type": "execute_result"
    }
   ],
   "source": [
    "df.tail()"
   ]
  },
  {
   "cell_type": "markdown",
   "metadata": {},
   "source": [
    "Done."
   ]
  },
  {
   "cell_type": "code",
   "execution_count": 4,
   "metadata": {
    "collapsed": false
   },
   "outputs": [
    {
     "data": {
      "text/html": [
       "<div>\n",
       "<table border=\"1\" class=\"dataframe\">\n",
       "  <thead>\n",
       "    <tr style=\"text-align: right;\">\n",
       "      <th></th>\n",
       "      <th>score</th>\n",
       "      <th>10-yr recidivate</th>\n",
       "      <th>recid</th>\n",
       "    </tr>\n",
       "  </thead>\n",
       "  <tbody>\n",
       "    <tr>\n",
       "      <th>698</th>\n",
       "      <td>10</td>\n",
       "      <td>1</td>\n",
       "      <td>1</td>\n",
       "    </tr>\n",
       "    <tr>\n",
       "      <th>699</th>\n",
       "      <td>10</td>\n",
       "      <td>1</td>\n",
       "      <td>1</td>\n",
       "    </tr>\n",
       "    <tr>\n",
       "      <th>700</th>\n",
       "      <td>10</td>\n",
       "      <td>1</td>\n",
       "      <td>1</td>\n",
       "    </tr>\n",
       "    <tr>\n",
       "      <th>701</th>\n",
       "      <td>10</td>\n",
       "      <td>1</td>\n",
       "      <td>1</td>\n",
       "    </tr>\n",
       "    <tr>\n",
       "      <th>702</th>\n",
       "      <td>11</td>\n",
       "      <td>0</td>\n",
       "      <td>0</td>\n",
       "    </tr>\n",
       "  </tbody>\n",
       "</table>\n",
       "</div>"
      ],
      "text/plain": [
       "     score  10-yr recidivate  recid\n",
       "698     10                 1      1\n",
       "699     10                 1      1\n",
       "700     10                 1      1\n",
       "701     10                 1      1\n",
       "702     11                 0      0"
      ]
     },
     "execution_count": 4,
     "metadata": {},
     "output_type": "execute_result"
    }
   ],
   "source": [
    "df = df.dropna()\n",
    "df.tail()"
   ]
  },
  {
   "cell_type": "markdown",
   "metadata": {},
   "source": [
    "###Logistic regression\n",
    "\n",
    "Start with a logistic regression."
   ]
  },
  {
   "cell_type": "code",
   "execution_count": 5,
   "metadata": {
    "collapsed": false
   },
   "outputs": [
    {
     "data": {
      "text/html": [
       "<table class=\"simpletable\">\n",
       "<caption>Logit Regression Results</caption>\n",
       "<tr>\n",
       "  <th>Dep. Variable:</th>       <td>recid</td>      <th>  No. Observations:  </th>  <td>   703</td>  \n",
       "</tr>\n",
       "<tr>\n",
       "  <th>Model:</th>               <td>Logit</td>      <th>  Df Residuals:      </th>  <td>   701</td>  \n",
       "</tr>\n",
       "<tr>\n",
       "  <th>Method:</th>               <td>MLE</td>       <th>  Df Model:          </th>  <td>     1</td>  \n",
       "</tr>\n",
       "<tr>\n",
       "  <th>Date:</th>          <td>Fri, 13 Nov 2015</td> <th>  Pseudo R-squ.:     </th>  <td>0.03919</td> \n",
       "</tr>\n",
       "<tr>\n",
       "  <th>Time:</th>              <td>09:56:23</td>     <th>  Log-Likelihood:    </th> <td> -406.84</td> \n",
       "</tr>\n",
       "<tr>\n",
       "  <th>converged:</th>           <td>True</td>       <th>  LL-Null:           </th> <td> -423.43</td> \n",
       "</tr>\n",
       "<tr>\n",
       "  <th> </th>                      <td> </td>        <th>  LLR p-value:       </th> <td>8.371e-09</td>\n",
       "</tr>\n",
       "</table>\n",
       "<table class=\"simpletable\">\n",
       "<tr>\n",
       "      <td></td>         <th>coef</th>     <th>std err</th>      <th>z</th>      <th>P>|z|</th> <th>[95.0% Conf. Int.]</th> \n",
       "</tr>\n",
       "<tr>\n",
       "  <th>Intercept</th> <td>   -1.8129</td> <td>    0.194</td> <td>   -9.335</td> <td> 0.000</td> <td>   -2.194    -1.432</td>\n",
       "</tr>\n",
       "<tr>\n",
       "  <th>score</th>     <td>    0.2048</td> <td>    0.037</td> <td>    5.534</td> <td> 0.000</td> <td>    0.132     0.277</td>\n",
       "</tr>\n",
       "</table>"
      ],
      "text/plain": [
       "<class 'statsmodels.iolib.summary.Summary'>\n",
       "\"\"\"\n",
       "                           Logit Regression Results                           \n",
       "==============================================================================\n",
       "Dep. Variable:                  recid   No. Observations:                  703\n",
       "Model:                          Logit   Df Residuals:                      701\n",
       "Method:                           MLE   Df Model:                            1\n",
       "Date:                Fri, 13 Nov 2015   Pseudo R-squ.:                 0.03919\n",
       "Time:                        09:56:23   Log-Likelihood:                -406.84\n",
       "converged:                       True   LL-Null:                       -423.43\n",
       "                                        LLR p-value:                 8.371e-09\n",
       "==============================================================================\n",
       "                 coef    std err          z      P>|z|      [95.0% Conf. Int.]\n",
       "------------------------------------------------------------------------------\n",
       "Intercept     -1.8129      0.194     -9.335      0.000        -2.194    -1.432\n",
       "score          0.2048      0.037      5.534      0.000         0.132     0.277\n",
       "==============================================================================\n",
       "\"\"\""
      ]
     },
     "execution_count": 5,
     "metadata": {},
     "output_type": "execute_result"
    }
   ],
   "source": [
    "formula = 'recid ~ score'\n",
    "model = smf.logit(formula, data=df)\n",
    "results = model.fit(disp=False)\n",
    "results.summary()"
   ]
  },
  {
   "cell_type": "markdown",
   "metadata": {},
   "source": [
    "We can use the model to predict probabilities for each score:"
   ]
  },
  {
   "cell_type": "code",
   "execution_count": 6,
   "metadata": {
    "collapsed": false
   },
   "outputs": [
    {
     "data": {
      "text/plain": [
       "[-3, -2, -1, 0, 1, 2, 3, 4, 5, 6, 7, 8, 9, 10, 11, 12]"
      ]
     },
     "execution_count": 6,
     "metadata": {},
     "output_type": "execute_result"
    }
   ],
   "source": [
    "scores = range(-3, 13)\n",
    "scores"
   ]
  },
  {
   "cell_type": "code",
   "execution_count": 7,
   "metadata": {
    "collapsed": false
   },
   "outputs": [
    {
     "name": "stdout",
     "output_type": "stream",
     "text": [
      "-3 0.0811230553353\n",
      "-2 0.0977539746983\n",
      "-1 0.117358915927\n",
      "0 0.140284367251\n",
      "1 0.166841660229\n",
      "2 0.197272884005\n",
      "3 0.231710970071\n",
      "4 0.270137790771\n",
      "5 0.312346491893\n",
      "6 0.357916109828\n",
      "7 0.406206803608\n",
      "8 0.456381885955\n",
      "9 0.507458085398\n",
      "10 0.558379071389\n",
      "11 0.608101233976\n",
      "12 0.655677299314\n"
     ]
    }
   ],
   "source": [
    "def make_predictions(results, scores):\n",
    "    columns = ['score']\n",
    "    new = pd.DataFrame(scores, columns=columns)\n",
    "    return results.predict(new)\n",
    "\n",
    "ps = make_predictions(results, scores)\n",
    "for score, p in zip(scores, ps):\n",
    "    print(score, p)"
   ]
  },
  {
   "cell_type": "markdown",
   "metadata": {},
   "source": [
    "And here's what that looks like graphically:"
   ]
  },
  {
   "cell_type": "code",
   "execution_count": 8,
   "metadata": {
    "collapsed": false
   },
   "outputs": [
    {
     "data": {
      "image/png": "[encoded data removed]",
      "text/plain": [
       "<matplotlib.figure.Figure at 0x7f79eb3fb090>"
      ]
     },
     "metadata": {},
     "output_type": "display_data"
    }
   ],
   "source": [
    "thinkplot.Plot(scores, ps)"
   ]
  },
  {
   "cell_type": "markdown",
   "metadata": {},
   "source": [
    "Equivalently, we could get the fitted values from the results, which are in the form of log-odds, and convert to probabilities."
   ]
  },
  {
   "cell_type": "code",
   "execution_count": 9,
   "metadata": {
    "collapsed": false
   },
   "outputs": [
    {
     "data": {
      "text/plain": [
       "0    0.097754\n",
       "1    0.097754\n",
       "2    0.117359\n",
       "3    0.117359\n",
       "4    0.117359\n",
       "dtype: float64"
      ]
     },
     "execution_count": 9,
     "metadata": {},
     "output_type": "execute_result"
    }
   ],
   "source": [
    "odds = np.exp(results.fittedvalues)\n",
    "ps = odds / (1 + odds)\n",
    "ps.head()"
   ]
  },
  {
   "cell_type": "markdown",
   "metadata": {},
   "source": [
    "To show confidence intervals on the estimated probabilities, we could transform the confidence intervals on the estimated parameters, but I prefer to do it by resampling.\n",
    "\n",
    "Here's a simple version that plots 200 estimated lines to show uncertainty visually."
   ]
  },
  {
   "cell_type": "code",
   "execution_count": 10,
   "metadata": {
    "collapsed": false
   },
   "outputs": [
    {
     "data": {
      "image/png": "[encoded data removed]",
      "text/plain": [
       "<matplotlib.figure.Figure at 0x7f79eb671310>"
      ]
     },
     "metadata": {},
     "output_type": "display_data"
    }
   ],
   "source": [
    "def plot_regression_lines(df, scores):\n",
    "    columns = ['score']\n",
    "    new = pd.DataFrame(scores, columns=columns)\n",
    "\n",
    "    formula = 'recid ~ score'\n",
    "\n",
    "    for i in range(200):\n",
    "        sample = df.sample(len(df), replace=True)\n",
    "        model = smf.logit(formula, data=sample)\n",
    "        results = model.fit(disp=False)\n",
    "        ps = results.predict(new)\n",
    "        thinkplot.Plot(scores, ps, color='gray', alpha=0.05)\n",
    "        \n",
    "plot_regression_lines(df, scores)\n",
    "\n",
    "ps = make_predictions(results, scores)\n",
    "thinkplot.Plot(scores, ps)"
   ]
  },
  {
   "cell_type": "markdown",
   "metadata": {},
   "source": [
    "Here's a more complicated version that plots the median of the resampled estimates in each column, and a 95% confidence interval."
   ]
  },
  {
   "cell_type": "code",
   "execution_count": 11,
   "metadata": {
    "collapsed": false
   },
   "outputs": [
    {
     "name": "stderr",
     "output_type": "stream",
     "text": [
      "/home/downey/anaconda/lib/python2.7/site-packages/matplotlib/axes/_axes.py:475: UserWarning: No labelled objects found. Use label='...' kwarg on individual plots.\n",
      "  warnings.warn(\"No labelled objects found. \"\n"
     ]
    },
    {
     "data": {
      "image/png": "[encoded data removed]",
      "text/plain": [
       "<matplotlib.figure.Figure at 0x7f79e5556690>"
      ]
     },
     "metadata": {},
     "output_type": "display_data"
    }
   ],
   "source": [
    "def run_regressions(df, scores, iters=1000, formula='recid ~ score', color='gray'):\n",
    "    columns = ['score']\n",
    "    new = pd.DataFrame(scores, columns=columns)\n",
    "    new['score2'] = new.score**2\n",
    "    \n",
    "    array = np.zeros((iters, len(scores)))\n",
    "\n",
    "    for i in range(iters):\n",
    "        sample = df.sample(len(df), replace=True)\n",
    "        model = smf.logit(formula, data=sample)\n",
    "        results = model.fit(disp=False)\n",
    "        ps = results.predict(new)\n",
    "        array[i,] = ps\n",
    "\n",
    "    array = np.sort(array, axis=0)    \n",
    "    percents = [2.5, 50, 97.5]\n",
    "    rows = [thinkbayes2.PercentileRow(array, p) for p in percents]\n",
    "    return rows\n",
    "    \n",
    "def plot_regressions(df, iters=1000, formula='recid ~ score', color='gray'):\n",
    "    scores = range(-3, 13)\n",
    "    rows = run_regressions(df, scores, iters, formula, color)\n",
    "    thinkplot.Plot(scores, rows[0], color=color, alpha=0.2)\n",
    "    thinkplot.Plot(scores, rows[1], color=color, alpha=0.5)\n",
    "    thinkplot.Plot(scores, rows[2], color=color, alpha=0.2)\n",
    "    \n",
    "plot_regressions(df, iters=1000, color='green')\n",
    "thinkplot.Config(xlabel='score', ylabel='10 year prob of recidivism', xlim=[-4, 13])"
   ]
  },
  {
   "cell_type": "markdown",
   "metadata": {},
   "source": [
    "### Bayesian logistic regression\n",
    "\n",
    "This turns out not to be particularly useful, so feel free to skip it.\n",
    "\n",
    "An alternative is Bayesian regression.  To demonstrate how it works, I'll use the parameters estimated by logistic regression to compute the likelihood of the data."
   ]
  },
  {
   "cell_type": "code",
   "execution_count": 12,
   "metadata": {
    "collapsed": false
   },
   "outputs": [
    {
     "data": {
      "text/plain": [
       "(0.20475163024127738, -1.8129301177982706)"
      ]
     },
     "execution_count": 12,
     "metadata": {},
     "output_type": "execute_result"
    }
   ],
   "source": [
    "slope, inter = (results.params['score'], results.params['Intercept'])\n",
    "slope, inter"
   ]
  },
  {
   "cell_type": "markdown",
   "metadata": {},
   "source": [
    "We can use the parameters to compute log-odds, convert to probabilities, then compute the probability of each actual outcome."
   ]
  },
  {
   "cell_type": "code",
   "execution_count": 13,
   "metadata": {
    "collapsed": false
   },
   "outputs": [
    {
     "data": {
      "text/plain": [
       "0    0.902246\n",
       "1    0.902246\n",
       "2    0.882641\n",
       "3    0.882641\n",
       "4    0.882641\n",
       "dtype: float64"
      ]
     },
     "execution_count": 13,
     "metadata": {},
     "output_type": "execute_result"
    }
   ],
   "source": [
    "log_odds = df.score * slope + inter\n",
    "odds = np.exp(log_odds)\n",
    "ps = odds / (1 + odds)\n",
    "likes = ps * df.recid + (1-ps) * (1-df.recid)\n",
    "likes.head()"
   ]
  },
  {
   "cell_type": "markdown",
   "metadata": {},
   "source": [
    "The product of these likelihoods is the likelihood of the data.  The log-likelihood we get is the same as the output of the logistic regression:"
   ]
  },
  {
   "cell_type": "code",
   "execution_count": 14,
   "metadata": {
    "collapsed": false
   },
   "outputs": [
    {
     "data": {
      "text/plain": [
       "(-406.83547329540573, -406.83547329540579)"
      ]
     },
     "execution_count": 14,
     "metadata": {},
     "output_type": "execute_result"
    }
   ],
   "source": [
    "np.log(np.prod(likes)), results.llf"
   ]
  },
  {
   "cell_type": "markdown",
   "metadata": {},
   "source": [
    "Now here's a Bayesian suite that computes this likelihood function:"
   ]
  },
  {
   "cell_type": "code",
   "execution_count": 15,
   "metadata": {
    "collapsed": false
   },
   "outputs": [],
   "source": [
    "class BLogit(thinkbayes2.Suite, thinkbayes2.Joint):\n",
    "    \n",
    "    def Likelihood(self, df, hypo):\n",
    "        \"\"\"The likelihood of the data under the hypothesis.\n",
    "        \n",
    "        df: DataFrame with score and recid\n",
    "        hypo: slope, intercept pair\n",
    "        \n",
    "        returns: float\n",
    "        \"\"\"\n",
    "        slope, inter = hypo\n",
    "        log_odds = df.score * slope + inter\n",
    "        odds = np.exp(log_odds)\n",
    "        ps = odds / (1 + odds)\n",
    "        likes = ps * df.recid + (1-ps) * (1-df.recid)\n",
    "        like = np.prod(likes)\n",
    "        return like"
   ]
  },
  {
   "cell_type": "markdown",
   "metadata": {},
   "source": [
    "And we can confirm again that it yields the same likelihood, given the parameters estimated by logistic regression"
   ]
  },
  {
   "cell_type": "code",
   "execution_count": 16,
   "metadata": {
    "collapsed": false
   },
   "outputs": [
    {
     "data": {
      "text/plain": [
       "(-406.83547329540573, -406.83547329540579)"
      ]
     },
     "execution_count": 16,
     "metadata": {},
     "output_type": "execute_result"
    }
   ],
   "source": [
    "hypo = (slope, inter)\n",
    "blogit = BLogit()\n",
    "like = blogit.Likelihood(df, hypo)\n",
    "np.log(like), results.llf"
   ]
  },
  {
   "cell_type": "markdown",
   "metadata": {},
   "source": [
    "We can generate the Bayesian estimate of the parameters by generating a suite of hypothesis and computing the likelihood of the data under each.\n",
    "\n",
    "I'll start with a uniform distribution for both parameters (using the confidence intervals from logistic regression to choose the bounds)."
   ]
  },
  {
   "cell_type": "code",
   "execution_count": 17,
   "metadata": {
    "collapsed": true
   },
   "outputs": [],
   "source": [
    "hypos = [(slope, inter) for slope in np.linspace(0, 0.4, 101)\n",
    "                        for inter in np.linspace(-3, 0, 101)]"
   ]
  },
  {
   "cell_type": "markdown",
   "metadata": {},
   "source": [
    "Initialize the suite:"
   ]
  },
  {
   "cell_type": "code",
   "execution_count": 18,
   "metadata": {
    "collapsed": true
   },
   "outputs": [],
   "source": [
    "blogit = BLogit(hypos)"
   ]
  },
  {
   "cell_type": "markdown",
   "metadata": {},
   "source": [
    "And update with the data:"
   ]
  },
  {
   "cell_type": "code",
   "execution_count": 19,
   "metadata": {
    "collapsed": false
   },
   "outputs": [
    {
     "data": {
      "text/plain": [
       "-410.95822860613788"
      ]
     },
     "execution_count": 19,
     "metadata": {},
     "output_type": "execute_result"
    }
   ],
   "source": [
    "like = blogit.Update(df)\n",
    "np.log(like)"
   ]
  },
  {
   "cell_type": "markdown",
   "metadata": {},
   "source": [
    "The marginal distribution of the slope parameter:"
   ]
  },
  {
   "cell_type": "code",
   "execution_count": 20,
   "metadata": {
    "collapsed": false
   },
   "outputs": [
    {
     "data": {
      "text/plain": [
       "(0.13600000000000001, 0.28000000000000003)"
      ]
     },
     "execution_count": 20,
     "metadata": {},
     "output_type": "execute_result"
    },
    {
     "data": {
      "image/png": "[encoded data removed]",
      "text/plain": [
       "<matplotlib.figure.Figure at 0x7f79e584e310>"
      ]
     },
     "metadata": {},
     "output_type": "display_data"
    }
   ],
   "source": [
    "pmf_slope = blogit.Marginal(0)\n",
    "thinkplot.Pdf(pmf_slope)\n",
    "pmf_slope.CredibleInterval(95)"
   ]
  },
  {
   "cell_type": "markdown",
   "metadata": {},
   "source": [
    "And for the intercept parameter:"
   ]
  },
  {
   "cell_type": "code",
   "execution_count": 21,
   "metadata": {
    "collapsed": false
   },
   "outputs": [
    {
     "data": {
      "text/plain": [
       "(-2.2199999999999998, -1.4399999999999999)"
      ]
     },
     "execution_count": 21,
     "metadata": {},
     "output_type": "execute_result"
    },
    {
     "data": {
      "image/png": "[encoded data removed]",
      "text/plain": [
       "<matplotlib.figure.Figure at 0x7f79e5b1f210>"
      ]
     },
     "metadata": {},
     "output_type": "display_data"
    }
   ],
   "source": [
    "pmf_inter = blogit.Marginal(1)\n",
    "thinkplot.Pdf(pmf_inter)\n",
    "pmf_inter.CredibleInterval(95)"
   ]
  },
  {
   "cell_type": "markdown",
   "metadata": {},
   "source": [
    "And here's the joint distribution"
   ]
  },
  {
   "cell_type": "code",
   "execution_count": 22,
   "metadata": {
    "collapsed": false
   },
   "outputs": [
    {
     "name": "stderr",
     "output_type": "stream",
     "text": [
      "/home/downey/anaconda/lib/python2.7/site-packages/matplotlib/collections.py:590: FutureWarning: elementwise comparison failed; returning scalar instead, but in the future will perform elementwise comparison\n",
      "  if self._edgecolors == str('face'):\n"
     ]
    },
    {
     "data": {
      "image/png": "[encoded data removed]",
      "text/plain": [
       "<matplotlib.figure.Figure at 0x7f79e5a05f50>"
      ]
     },
     "metadata": {},
     "output_type": "display_data"
    }
   ],
   "source": [
    "thinkplot.Contour(blogit, pcolor=True, contour=False)"
   ]
  },
  {
   "cell_type": "markdown",
   "metadata": {},
   "source": [
    "From the posterior distribution of the parameters, we can generate a predictive distribution of probability for each score:"
   ]
  },
  {
   "cell_type": "code",
   "execution_count": 23,
   "metadata": {
    "collapsed": true
   },
   "outputs": [],
   "source": [
    "def make_predictive(blogit, score):\n",
    "    pmf = thinkbayes2.Pmf()\n",
    "    for (slope, inter), prob in blogit.Items():\n",
    "        x = score * slope + inter\n",
    "        o = np.exp(x)\n",
    "        p = o / (1+o)\n",
    "        pmf[p] = prob\n",
    "    return pmf"
   ]
  },
  {
   "cell_type": "markdown",
   "metadata": {},
   "source": [
    "Here's what the posterior predictive distributions look like for a range of scores."
   ]
  },
  {
   "cell_type": "code",
   "execution_count": 24,
   "metadata": {
    "collapsed": false
   },
   "outputs": [
    {
     "data": {
      "image/png": "[encoded data removed]",
      "text/plain": [
       "<matplotlib.figure.Figure at 0x7f79e56c6550>"
      ]
     },
     "metadata": {},
     "output_type": "display_data"
    }
   ],
   "source": [
    "scores = [-1, 1, 3, 5, 7, 9, 11]\n",
    "thinkplot.PrePlot(len(scores))\n",
    "for score in scores:\n",
    "    pmf = make_predictive(blogit, score)\n",
    "    thinkplot.Cdf(pmf.MakeCdf())"
   ]
  },
  {
   "cell_type": "markdown",
   "metadata": {},
   "source": [
    "We can also plot the results with a line plot and 95% credible intervals."
   ]
  },
  {
   "cell_type": "code",
   "execution_count": 25,
   "metadata": {
    "collapsed": false
   },
   "outputs": [],
   "source": [
    "cdfs = [make_predictive(blogit, score).MakeCdf() for score in scores]"
   ]
  },
  {
   "cell_type": "markdown",
   "metadata": {},
   "source": [
    "Extracting the medians and credible intervals from the posterior predictive distributions."
   ]
  },
  {
   "cell_type": "code",
   "execution_count": 26,
   "metadata": {
    "collapsed": false
   },
   "outputs": [],
   "source": [
    "medians = np.array([cdf.Percentile(50) for cdf in cdfs])\n",
    "cis = np.array([cdf.CredibleInterval(95) for cdf in cdfs])"
   ]
  },
  {
   "cell_type": "markdown",
   "metadata": {},
   "source": [
    "And here's what they look like."
   ]
  },
  {
   "cell_type": "code",
   "execution_count": 27,
   "metadata": {
    "collapsed": false
   },
   "outputs": [
    {
     "data": {
      "image/png": "[encoded data removed]",
      "text/plain": [
       "<matplotlib.figure.Figure at 0x7f79f9865fd0>"
      ]
     },
     "metadata": {},
     "output_type": "display_data"
    }
   ],
   "source": [
    "def plot_bayesian_regression(scores, medians, cis):\n",
    "    for score, (low, high) in zip(scores, cis):\n",
    "        plt.vlines(score, low, high, color='blue', alpha=0.5, linewidth=2)\n",
    "    thinkplot.PrePlot(1)\n",
    "    thinkplot.plot(scores, medians, linewidth=2)\n",
    "\n",
    "scores = [-1, 1, 3, 5, 7, 9, 11]\n",
    "plot_bayesian_regression(scores, medians, cis)\n"
   ]
  },
  {
   "cell_type": "markdown",
   "metadata": {},
   "source": [
    "If we superimpose the lines from the logistic regression, we can compare them:"
   ]
  },
  {
   "cell_type": "code",
   "execution_count": 54,
   "metadata": {
    "collapsed": false
   },
   "outputs": [
    {
     "data": {
      "image/png": "[encoded data removed]",
      "text/plain": [
       "<matplotlib.figure.Figure at 0x7f79e7bb0d90>"
      ]
     },
     "metadata": {},
     "output_type": "display_data"
    }
   ],
   "source": [
    "plot_regressions(df)\n",
    "\n",
    "scores = [-1, 1, 3, 5, 7, 9, 11]\n",
    "plot_bayesian_regression(scores, medians, cis)\n",
    "thinkplot.Config(xlabel='score', ylabel='10 year prob of recidivism', xlim=[-4, 13])"
   ]
  },
  {
   "cell_type": "markdown",
   "metadata": {},
   "source": [
    "The Bayesian and logistic regressions agree about the median values.  And the credible intervals for the Bayesian regression are the same as the confidence intervals for the logistic regression.\n",
    "\n",
    "So if you don't have an informative prior, and all you want is the median of the posterior distribution and a measure of precision, the Bayesian method has no real advantage."
   ]
  },
  {
   "cell_type": "markdown",
   "metadata": {},
   "source": [
    "###Categorical\n",
    "\n",
    "Next we can explore another way to estimate risk for each group.  This one turns out to be bad, so feel free to skip it.\n",
    "\n",
    "If we treat score as a categorical variable, we can estimate risk for each score separately."
   ]
  },
  {
   "cell_type": "code",
   "execution_count": 29,
   "metadata": {
    "collapsed": false
   },
   "outputs": [
    {
     "name": "stdout",
     "output_type": "stream",
     "text": [
      "-2.0 2\n",
      "-1.0 24\n",
      "0.0 31\n",
      "1.0 56\n",
      "2.0 42\n",
      "3.0 82\n",
      "4.0 130\n",
      "5.0 133\n",
      "6.0 83\n",
      "7.0 61\n",
      "8.0 32\n",
      "9.0 17\n",
      "10.0 9\n",
      "11.0 1\n"
     ]
    }
   ],
   "source": [
    "grouped = df.groupby('score')\n",
    "for name, group in grouped:\n",
    "    print(name, len(group))"
   ]
  },
  {
   "cell_type": "markdown",
   "metadata": {},
   "source": [
    "I'll use a Beta distribution for each group."
   ]
  },
  {
   "cell_type": "code",
   "execution_count": 30,
   "metadata": {
    "collapsed": false
   },
   "outputs": [],
   "source": [
    "def MakeBeta(group):\n",
    "    yes = sum(group.recid == 1)\n",
    "    no = sum(group.recid==0)\n",
    "    beta = thinkbayes2.Beta(yes+1, no+1)\n",
    "    return beta\n",
    "\n",
    "betas = {}\n",
    "for name, group in grouped:\n",
    "    betas[name] = MakeBeta(group)"
   ]
  },
  {
   "cell_type": "markdown",
   "metadata": {},
   "source": [
    "And then extract the median and 95% credible interval from each posterior."
   ]
  },
  {
   "cell_type": "code",
   "execution_count": 31,
   "metadata": {
    "collapsed": false
   },
   "outputs": [],
   "source": [
    "rows=[]\n",
    "for name, beta in sorted(betas.items()):\n",
    "    cdf = beta.MakeCdf()\n",
    "    low = cdf.Percentile(2.5)\n",
    "    mean = beta.Mean()\n",
    "    high = cdf.Percentile(97.5)\n",
    "    rows.append((low, mean, high))\n",
    "    \n",
    "array = np.array(rows).transpose()\n",
    "scores = sorted(betas)\n",
    "lows = array[0,]\n",
    "means = array[1,]\n",
    "highs = array[2,]"
   ]
  },
  {
   "cell_type": "markdown",
   "metadata": {},
   "source": [
    "The result is kind of a mess, with credible intervals much wider than the CIs from logistic regression."
   ]
  },
  {
   "cell_type": "code",
   "execution_count": 32,
   "metadata": {
    "collapsed": false
   },
   "outputs": [
    {
     "data": {
      "image/png": "[encoded data removed]",
      "text/plain": [
       "<matplotlib.figure.Figure at 0x7f79e58ee5d0>"
      ]
     },
     "metadata": {},
     "output_type": "display_data"
    }
   ],
   "source": [
    "plot_regressions(df)\n",
    "\n",
    "for score, low, high in zip(scores, lows, highs):\n",
    "        plt.vlines(score, low, high, color='blue', alpha=0.5, linewidth=2)\n",
    "        \n",
    "thinkplot.PrePlot(1)\n",
    "thinkplot.plot(scores, means, linewidth=2)\n",
    "thinkplot.Config(xlabel='score', ylabel='10 year prob of recidivism', xlim=[-4, 13])"
   ]
  },
  {
   "cell_type": "markdown",
   "metadata": {},
   "source": [
    "### Logistic regression with a quadratic model\n",
    "\n",
    "One last option to consider is a quadratic model of risk.\n",
    "\n",
    "Here the linear model again:"
   ]
  },
  {
   "cell_type": "code",
   "execution_count": 33,
   "metadata": {
    "collapsed": false
   },
   "outputs": [
    {
     "data": {
      "text/html": [
       "<table class=\"simpletable\">\n",
       "<caption>Logit Regression Results</caption>\n",
       "<tr>\n",
       "  <th>Dep. Variable:</th>       <td>recid</td>      <th>  No. Observations:  </th>  <td>   703</td>  \n",
       "</tr>\n",
       "<tr>\n",
       "  <th>Model:</th>               <td>Logit</td>      <th>  Df Residuals:      </th>  <td>   701</td>  \n",
       "</tr>\n",
       "<tr>\n",
       "  <th>Method:</th>               <td>MLE</td>       <th>  Df Model:          </th>  <td>     1</td>  \n",
       "</tr>\n",
       "<tr>\n",
       "  <th>Date:</th>          <td>Fri, 13 Nov 2015</td> <th>  Pseudo R-squ.:     </th>  <td>0.03919</td> \n",
       "</tr>\n",
       "<tr>\n",
       "  <th>Time:</th>              <td>09:56:55</td>     <th>  Log-Likelihood:    </th> <td> -406.84</td> \n",
       "</tr>\n",
       "<tr>\n",
       "  <th>converged:</th>           <td>True</td>       <th>  LL-Null:           </th> <td> -423.43</td> \n",
       "</tr>\n",
       "<tr>\n",
       "  <th> </th>                      <td> </td>        <th>  LLR p-value:       </th> <td>8.371e-09</td>\n",
       "</tr>\n",
       "</table>\n",
       "<table class=\"simpletable\">\n",
       "<tr>\n",
       "      <td></td>         <th>coef</th>     <th>std err</th>      <th>z</th>      <th>P>|z|</th> <th>[95.0% Conf. Int.]</th> \n",
       "</tr>\n",
       "<tr>\n",
       "  <th>Intercept</th> <td>   -1.8129</td> <td>    0.194</td> <td>   -9.335</td> <td> 0.000</td> <td>   -2.194    -1.432</td>\n",
       "</tr>\n",
       "<tr>\n",
       "  <th>score</th>     <td>    0.2048</td> <td>    0.037</td> <td>    5.534</td> <td> 0.000</td> <td>    0.132     0.277</td>\n",
       "</tr>\n",
       "</table>"
      ],
      "text/plain": [
       "<class 'statsmodels.iolib.summary.Summary'>\n",
       "\"\"\"\n",
       "                           Logit Regression Results                           \n",
       "==============================================================================\n",
       "Dep. Variable:                  recid   No. Observations:                  703\n",
       "Model:                          Logit   Df Residuals:                      701\n",
       "Method:                           MLE   Df Model:                            1\n",
       "Date:                Fri, 13 Nov 2015   Pseudo R-squ.:                 0.03919\n",
       "Time:                        09:56:55   Log-Likelihood:                -406.84\n",
       "converged:                       True   LL-Null:                       -423.43\n",
       "                                        LLR p-value:                 8.371e-09\n",
       "==============================================================================\n",
       "                 coef    std err          z      P>|z|      [95.0% Conf. Int.]\n",
       "------------------------------------------------------------------------------\n",
       "Intercept     -1.8129      0.194     -9.335      0.000        -2.194    -1.432\n",
       "score          0.2048      0.037      5.534      0.000         0.132     0.277\n",
       "==============================================================================\n",
       "\"\"\""
      ]
     },
     "execution_count": 33,
     "metadata": {},
     "output_type": "execute_result"
    }
   ],
   "source": [
    "formula = 'recid ~ score'\n",
    "model = smf.logit(formula, data=df)\n",
    "results = model.fit(disp=False)\n",
    "results.summary()"
   ]
  },
  {
   "cell_type": "markdown",
   "metadata": {},
   "source": [
    "And here's the quadratic version."
   ]
  },
  {
   "cell_type": "code",
   "execution_count": 34,
   "metadata": {
    "collapsed": false
   },
   "outputs": [
    {
     "data": {
      "text/html": [
       "<table class=\"simpletable\">\n",
       "<caption>Logit Regression Results</caption>\n",
       "<tr>\n",
       "  <th>Dep. Variable:</th>       <td>recid</td>      <th>  No. Observations:  </th>  <td>   703</td>  \n",
       "</tr>\n",
       "<tr>\n",
       "  <th>Model:</th>               <td>Logit</td>      <th>  Df Residuals:      </th>  <td>   700</td>  \n",
       "</tr>\n",
       "<tr>\n",
       "  <th>Method:</th>               <td>MLE</td>       <th>  Df Model:          </th>  <td>     2</td>  \n",
       "</tr>\n",
       "<tr>\n",
       "  <th>Date:</th>          <td>Fri, 13 Nov 2015</td> <th>  Pseudo R-squ.:     </th>  <td>0.04235</td> \n",
       "</tr>\n",
       "<tr>\n",
       "  <th>Time:</th>              <td>09:56:55</td>     <th>  Log-Likelihood:    </th> <td> -405.49</td> \n",
       "</tr>\n",
       "<tr>\n",
       "  <th>converged:</th>           <td>True</td>       <th>  LL-Null:           </th> <td> -423.43</td> \n",
       "</tr>\n",
       "<tr>\n",
       "  <th> </th>                      <td> </td>        <th>  LLR p-value:       </th> <td>1.626e-08</td>\n",
       "</tr>\n",
       "</table>\n",
       "<table class=\"simpletable\">\n",
       "<tr>\n",
       "      <td></td>         <th>coef</th>     <th>std err</th>      <th>z</th>      <th>P>|z|</th> <th>[95.0% Conf. Int.]</th> \n",
       "</tr>\n",
       "<tr>\n",
       "  <th>Intercept</th> <td>   -2.1210</td> <td>    0.288</td> <td>   -7.354</td> <td> 0.000</td> <td>   -2.686    -1.556</td>\n",
       "</tr>\n",
       "<tr>\n",
       "  <th>score</th>     <td>    0.3820</td> <td>    0.119</td> <td>    3.209</td> <td> 0.001</td> <td>    0.149     0.615</td>\n",
       "</tr>\n",
       "<tr>\n",
       "  <th>score2</th>    <td>   -0.0193</td> <td>    0.012</td> <td>   -1.601</td> <td> 0.109</td> <td>   -0.043     0.004</td>\n",
       "</tr>\n",
       "</table>"
      ],
      "text/plain": [
       "<class 'statsmodels.iolib.summary.Summary'>\n",
       "\"\"\"\n",
       "                           Logit Regression Results                           \n",
       "==============================================================================\n",
       "Dep. Variable:                  recid   No. Observations:                  703\n",
       "Model:                          Logit   Df Residuals:                      700\n",
       "Method:                           MLE   Df Model:                            2\n",
       "Date:                Fri, 13 Nov 2015   Pseudo R-squ.:                 0.04235\n",
       "Time:                        09:56:55   Log-Likelihood:                -405.49\n",
       "converged:                       True   LL-Null:                       -423.43\n",
       "                                        LLR p-value:                 1.626e-08\n",
       "==============================================================================\n",
       "                 coef    std err          z      P>|z|      [95.0% Conf. Int.]\n",
       "------------------------------------------------------------------------------\n",
       "Intercept     -2.1210      0.288     -7.354      0.000        -2.686    -1.556\n",
       "score          0.3820      0.119      3.209      0.001         0.149     0.615\n",
       "score2        -0.0193      0.012     -1.601      0.109        -0.043     0.004\n",
       "==============================================================================\n",
       "\"\"\""
      ]
     },
     "execution_count": 34,
     "metadata": {},
     "output_type": "execute_result"
    }
   ],
   "source": [
    "df['score2'] = df.score**2\n",
    "\n",
    "formula = 'recid ~ score + score2'\n",
    "model = smf.logit(formula, data=df)\n",
    "results = model.fit(disp=False)\n",
    "results.summary()"
   ]
  },
  {
   "cell_type": "markdown",
   "metadata": {},
   "source": [
    "The square term is not significant.\n",
    "\n",
    "Also if we plot the predictions of the two models:"
   ]
  },
  {
   "cell_type": "code",
   "execution_count": 53,
   "metadata": {
    "collapsed": false
   },
   "outputs": [
    {
     "data": {
      "image/png": "[encoded data removed]",
      "text/plain": [
       "<matplotlib.figure.Figure at 0x7f79e7bb9610>"
      ]
     },
     "metadata": {},
     "output_type": "display_data"
    }
   ],
   "source": [
    "plot_regressions(df, formula='recid ~ score')\n",
    "plot_regressions(df, formula='recid ~ score + score2', color='blue')\n",
    "thinkplot.Config(xlabel='score', ylabel='10 year prob of recidivism', xlim=[-4, 13])"
   ]
  },
  {
   "cell_type": "markdown",
   "metadata": {},
   "source": [
    "The quadratic model is getting pulled down by the low recidivism rates in the highest groups, which are based on small sample sizes.  So this model is likely overfit to the data."
   ]
  },
  {
   "cell_type": "markdown",
   "metadata": {},
   "source": [
    "###PTPP\n",
    "\n",
    "Another approach is to pose a different question: if we choose a threshold on the score, and consider a score at or above the threshold to be a \"positive test\", and recidivism to be a \"condition of interest\", what can we say about the specificity, sensitivity, and post-test probabilities?\n",
    "\n",
    "I'll run an example with a threshold of 6."
   ]
  },
  {
   "cell_type": "code",
   "execution_count": 36,
   "metadata": {
    "collapsed": true
   },
   "outputs": [],
   "source": [
    "testpos = df.score >= 6"
   ]
  },
  {
   "cell_type": "markdown",
   "metadata": {},
   "source": [
    "Here's the cross tabulation of test outcome and recidivism:"
   ]
  },
  {
   "cell_type": "code",
   "execution_count": 37,
   "metadata": {
    "collapsed": false
   },
   "outputs": [
    {
     "data": {
      "text/html": [
       "<div>\n",
       "<table border=\"1\" class=\"dataframe\">\n",
       "  <thead>\n",
       "    <tr style=\"text-align: right;\">\n",
       "      <th>recid</th>\n",
       "      <th>0</th>\n",
       "      <th>1</th>\n",
       "    </tr>\n",
       "    <tr>\n",
       "      <th>score</th>\n",
       "      <th></th>\n",
       "      <th></th>\n",
       "    </tr>\n",
       "  </thead>\n",
       "  <tbody>\n",
       "    <tr>\n",
       "      <th>False</th>\n",
       "      <td>381</td>\n",
       "      <td>119</td>\n",
       "    </tr>\n",
       "    <tr>\n",
       "      <th>True</th>\n",
       "      <td>118</td>\n",
       "      <td>85</td>\n",
       "    </tr>\n",
       "  </tbody>\n",
       "</table>\n",
       "</div>"
      ],
      "text/plain": [
       "recid    0    1\n",
       "score          \n",
       "False  381  119\n",
       "True   118   85"
      ]
     },
     "execution_count": 37,
     "metadata": {},
     "output_type": "execute_result"
    }
   ],
   "source": [
    "tab = pd.crosstab(testpos, df.recid)\n",
    "tab"
   ]
  },
  {
   "cell_type": "markdown",
   "metadata": {},
   "source": [
    "Sensitivity (fraction of recidivists the test detects)"
   ]
  },
  {
   "cell_type": "code",
   "execution_count": 38,
   "metadata": {
    "collapsed": false
   },
   "outputs": [
    {
     "data": {
      "text/plain": [
       "0.41666666666666669"
      ]
     },
     "execution_count": 38,
     "metadata": {},
     "output_type": "execute_result"
    }
   ],
   "source": [
    "sens = tab[1][True] / sum(tab[1])\n",
    "sens"
   ]
  },
  {
   "cell_type": "markdown",
   "metadata": {},
   "source": [
    "Specificity (fraction of non-recidivists who test negative)"
   ]
  },
  {
   "cell_type": "code",
   "execution_count": 39,
   "metadata": {
    "collapsed": false
   },
   "outputs": [
    {
     "data": {
      "text/plain": [
       "0.76352705410821642"
      ]
     },
     "execution_count": 39,
     "metadata": {},
     "output_type": "execute_result"
    }
   ],
   "source": [
    "spec = tab[0][False] / sum(tab[0])\n",
    "spec"
   ]
  },
  {
   "cell_type": "markdown",
   "metadata": {},
   "source": [
    "Post-test probability of recidivism given positive test (PTPP)"
   ]
  },
  {
   "cell_type": "code",
   "execution_count": 40,
   "metadata": {
    "collapsed": false
   },
   "outputs": [
    {
     "data": {
      "text/plain": [
       "0.41871921182266009"
      ]
     },
     "execution_count": 40,
     "metadata": {},
     "output_type": "execute_result"
    }
   ],
   "source": [
    "ptpp = tab[1][True] / sum(testpos)\n",
    "ptpp"
   ]
  },
  {
   "cell_type": "markdown",
   "metadata": {},
   "source": [
    "Post-test probability of non-recidivism given negative test (PTPN)"
   ]
  },
  {
   "cell_type": "code",
   "execution_count": 41,
   "metadata": {
    "collapsed": false
   },
   "outputs": [
    {
     "data": {
      "text/plain": [
       "0.76200000000000001"
      ]
     },
     "execution_count": 41,
     "metadata": {},
     "output_type": "execute_result"
    }
   ],
   "source": [
    "ptpn = tab[0][False] / sum(testpos == False)\n",
    "ptpn"
   ]
  },
  {
   "cell_type": "markdown",
   "metadata": {},
   "source": [
    "Each of these quantities is a proportion estimated based on a ratio of frequencies, so if the prior distribution is Beta, the posterior distribution is also Beta.\n",
    "\n",
    "Following Crawford et al, I'll uses a prior distribution with $\\alpha = \\beta = 0$ (although I don't buy their justification for this choice)."
   ]
  },
  {
   "cell_type": "code",
   "execution_count": 42,
   "metadata": {
    "collapsed": false
   },
   "outputs": [],
   "source": [
    "def MakeBeta(yes, no, alpha=0, beta=0):\n",
    "    return thinkbayes2.Beta(yes+alpha, no+beta)"
   ]
  },
  {
   "cell_type": "markdown",
   "metadata": {},
   "source": [
    "Now we can make a posterior distribution for sensitivity, and confirm that the posterior mean is the same as the observed proportion."
   ]
  },
  {
   "cell_type": "code",
   "execution_count": 43,
   "metadata": {
    "collapsed": false
   },
   "outputs": [
    {
     "data": {
      "text/plain": [
       "0.41666666666666669"
      ]
     },
     "execution_count": 43,
     "metadata": {},
     "output_type": "execute_result"
    }
   ],
   "source": [
    "sens_dist = MakeBeta(tab[1][True], tab[1][False])\n",
    "sens_dist.Mean()"
   ]
  },
  {
   "cell_type": "markdown",
   "metadata": {},
   "source": [
    "And likewise for specificity:"
   ]
  },
  {
   "cell_type": "code",
   "execution_count": 44,
   "metadata": {
    "collapsed": false
   },
   "outputs": [
    {
     "data": {
      "text/plain": [
       "0.76352705410821642"
      ]
     },
     "execution_count": 44,
     "metadata": {},
     "output_type": "execute_result"
    }
   ],
   "source": [
    "spec_dist = MakeBeta(tab[0][False], tab[0][True])\n",
    "spec_dist.Mean()"
   ]
  },
  {
   "cell_type": "markdown",
   "metadata": {},
   "source": [
    "And PTPP"
   ]
  },
  {
   "cell_type": "code",
   "execution_count": 45,
   "metadata": {
    "collapsed": false
   },
   "outputs": [
    {
     "data": {
      "text/plain": [
       "0.41871921182266009"
      ]
     },
     "execution_count": 45,
     "metadata": {},
     "output_type": "execute_result"
    }
   ],
   "source": [
    "ptpp_dist = MakeBeta(tab[1][True], tab[0][True])\n",
    "ptpp_dist.Mean()"
   ]
  },
  {
   "cell_type": "markdown",
   "metadata": {},
   "source": [
    "Here's what the posterior distribution looks like for PTPP"
   ]
  },
  {
   "cell_type": "code",
   "execution_count": 46,
   "metadata": {
    "collapsed": false
   },
   "outputs": [
    {
     "data": {
      "image/png": "[encoded data removed]",
      "text/plain": [
       "<matplotlib.figure.Figure at 0x7f79e573e610>"
      ]
     },
     "metadata": {},
     "output_type": "display_data"
    }
   ],
   "source": [
    "thinkplot.Pdf(ptpp_dist.MakePmf())"
   ]
  },
  {
   "cell_type": "markdown",
   "metadata": {},
   "source": [
    "And here's the symmetric 95% credible interval.  There is a 95% chance that the actual value falls in this interval (subject to the validity of the data as a representative sample)."
   ]
  },
  {
   "cell_type": "code",
   "execution_count": 47,
   "metadata": {
    "collapsed": false
   },
   "outputs": [
    {
     "data": {
      "text/plain": [
       "array([ 0.35185214,  0.48710358])"
      ]
     },
     "execution_count": 47,
     "metadata": {},
     "output_type": "execute_result"
    }
   ],
   "source": [
    "symm_ci = ptpp_dist.Percentile([2.5, 97.5])\n",
    "symm_ci"
   ]
  },
  {
   "cell_type": "markdown",
   "metadata": {},
   "source": [
    "Here's the 95th percentile, which could be consider a sort of upper bound."
   ]
  },
  {
   "cell_type": "code",
   "execution_count": 48,
   "metadata": {
    "collapsed": false
   },
   "outputs": [
    {
     "data": {
      "text/plain": [
       "array([ 0.        ,  0.47600745])"
      ]
     },
     "execution_count": 48,
     "metadata": {},
     "output_type": "execute_result"
    }
   ],
   "source": [
    "low_ci = ptpp_dist.Percentile([0, 95])\n",
    "low_ci"
   ]
  },
  {
   "cell_type": "markdown",
   "metadata": {},
   "source": [
    "And the 5th percentile, a sort of lower bound."
   ]
  },
  {
   "cell_type": "code",
   "execution_count": 49,
   "metadata": {
    "collapsed": false
   },
   "outputs": [
    {
     "data": {
      "text/plain": [
       "array([ 0.36234389,  1.        ])"
      ]
     },
     "execution_count": 49,
     "metadata": {},
     "output_type": "execute_result"
    }
   ],
   "source": [
    "high_ci = ptpp_dist.Percentile([5, 100])\n",
    "high_ci"
   ]
  },
  {
   "cell_type": "markdown",
   "metadata": {},
   "source": [
    "I'll wrap this process up in a function:"
   ]
  },
  {
   "cell_type": "code",
   "execution_count": 50,
   "metadata": {
    "collapsed": false
   },
   "outputs": [
    {
     "data": {
      "text/plain": [
       "(0.41871921182266009, [0.3518521419235516, 0.48710358239969676])"
      ]
     },
     "execution_count": 50,
     "metadata": {},
     "output_type": "execute_result"
    }
   ],
   "source": [
    "def estimate_ptpp(df, thresh):\n",
    "    testpos = df.score >= thresh\n",
    "    tab = pd.crosstab(testpos, df.recid)\n",
    "    ptpp_dist = MakeBeta(tab[1][True], tab[0][True])\n",
    "    est = ptpp_dist.Mean()\n",
    "    ci = ptpp_dist.Percentile([2.5, 97.5])\n",
    "    return est, ci.tolist()\n",
    "\n",
    "estimate_ptpp(df, 6)"
   ]
  },
  {
   "cell_type": "markdown",
   "metadata": {},
   "source": [
    "And now we can try it out with difference choices for the threshold:"
   ]
  },
  {
   "cell_type": "code",
   "execution_count": 51,
   "metadata": {
    "collapsed": false
   },
   "outputs": [
    {
     "name": "stdout",
     "output_type": "stream",
     "text": [
      "-2 (0.29018492176386912, [0.257238685423252, 0.32426188788597143])\n",
      "-1 (0.29101283880171186, [0.25799004591947694, 0.32516511391927216])\n",
      "0 (0.2983751846381093, [0.2645132327072705, 0.33336546689622504])\n",
      "1 (0.30804953560371517, [0.27305246225166213, 0.3441723583875195])\n",
      "2 (0.32881355932203388, [0.29150490164753645, 0.36722150461892855])\n",
      "3 (0.32846715328467152, [0.289792273616399, 0.36832796975593507])\n",
      "4 (0.33905579399141633, [0.2967986471722945, 0.3826214938883786])\n",
      "5 (0.36904761904761907, [0.31830277635205195, 0.4212691852755268])\n",
      "6 (0.41871921182266009, [0.3518521419235516, 0.48710358239969676])\n",
      "7 (0.44166666666666665, [0.3542685323315231, 0.5309072169144622])\n",
      "8 (0.40677966101694918, [0.2859632642550582, 0.5335854545353503])\n",
      "9 (0.44444444444444442, [0.26587121742295106, 0.6308196190760335])\n",
      "10 (0.40000000000000002, [0.1369956622651665, 0.7007049437914596])\n"
     ]
    }
   ],
   "source": [
    "for thresh in range(-2, 11):\n",
    "    print(thresh, estimate_ptpp(df, thresh))"
   ]
  },
  {
   "cell_type": "markdown",
   "metadata": {},
   "source": [
    "If the goal is to chose the threshold that maximizes PTPP, 7 is the best choice.\n",
    "\n",
    "In that case we could say that of all people who score 7 or more, 44% of them will be charged with a new crime within 10 years (that's the definition of recidivism the data are based on).\n",
    "\n",
    "But within that group, people with different scores have different probabilities of recidivism.  From the logistic regression model\n",
    "\n",
    "    score     prob\n",
    "    7         0.406206803608\n",
    "    8         0.456381885955\n",
    "    9         0.507458085398\n",
    "    10        0.558379071389\n",
    "    11        0.608101233976\n",
    "    \n",
    "So lumping everone above 6 into a single category might be generous to the 11s and harsh to the 7s.\n",
    "\n",
    "If the goal of the analysis is to estimate the probability of recidivism for an individual, the logistic regression model is an appropriate choice.\n",
    "\n",
    "If the goal is to choose a threshold and compute some of the consequences of applying that threshold, the PTPP analysis is appropriate.\n",
    "\n"
   ]
  },
  {
   "cell_type": "code",
   "execution_count": 52,
   "metadata": {
    "collapsed": false
   },
   "outputs": [
    {
     "data": {
      "image/png": "[encoded data removed]",
      "text/plain": [
       "<matplotlib.figure.Figure at 0x7f79e5729dd0>"
      ]
     },
     "metadata": {},
     "output_type": "display_data"
    }
   ],
   "source": [
    "plot_regressions(df)\n",
    "\n",
    "threshes = range(-2, 11)\n",
    "meds = []\n",
    "for thresh in threshes:\n",
    "    med, (low, high) = estimate_ptpp(df, thresh)\n",
    "    plt.vlines(thresh, low, high, color='blue', alpha=0.5, linewidth=2)\n",
    "\n",
    "    meds.append(med)\n",
    "    \n",
    "thinkplot.Plot(threshes, meds, color='blue', alpha=0.5)\n",
    "thinkplot.Config(xlabel='score', ylabel='PTPP', xlim=[-4, 13])"
   ]
  },
  {
   "cell_type": "markdown",
   "metadata": {},
   "source": []
  }
 ],
 "metadata": {
  "kernelspec": {
   "display_name": "Python 2",
   "language": "python",
   "name": "python2"
  },
  "language_info": {
   "codemirror_mode": {
    "name": "ipython",
    "version": 2
   },
   "file_extension": ".py",
   "mimetype": "text/x-python",
   "name": "python",
   "nbconvert_exporter": "python",
   "pygments_lexer": "ipython2",
   "version": "2.7.10"
  }
 },
 "nbformat": 4,
 "nbformat_minor": 0
}
