{
 "cells": [
  {
   "cell_type": "markdown",
   "metadata": {},
   "source": [
    "#Risk\n",
    "\n",
    "This notebook presents \n",
    "\n",
    "Copyright 2015 Allen Downey\n",
    "\n",
    "MIT License: http://opensource.org/licenses/MIT"
   ]
  },
  {
   "cell_type": "code",
   "execution_count": 15,
   "metadata": {
    "collapsed": true
   },
   "outputs": [],
   "source": [
    "from __future__ import print_function, division\n",
    "\n",
    "import numpy as np\n",
    "import pandas as pd\n",
    "import thinkbayes2\n",
    "import thinkplot\n",
    "\n",
    "import statsmodels.formula.api as smf\n",
    "\n",
    "%matplotlib inline"
   ]
  },
  {
   "cell_type": "code",
   "execution_count": 16,
   "metadata": {
    "collapsed": false
   },
   "outputs": [
    {
     "data": {
      "text/html": [
       "<div>\n",
       "<table border=\"1\" class=\"dataframe\">\n",
       "  <thead>\n",
       "    <tr style=\"text-align: right;\">\n",
       "      <th></th>\n",
       "      <th>score</th>\n",
       "      <th>10-yr recidivate</th>\n",
       "      <th>recid</th>\n",
       "    </tr>\n",
       "  </thead>\n",
       "  <tbody>\n",
       "    <tr>\n",
       "      <th>0</th>\n",
       "      <td>-2</td>\n",
       "      <td>0</td>\n",
       "      <td>0</td>\n",
       "    </tr>\n",
       "    <tr>\n",
       "      <th>1</th>\n",
       "      <td>-2</td>\n",
       "      <td>0</td>\n",
       "      <td>0</td>\n",
       "    </tr>\n",
       "    <tr>\n",
       "      <th>2</th>\n",
       "      <td>-1</td>\n",
       "      <td>0</td>\n",
       "      <td>0</td>\n",
       "    </tr>\n",
       "    <tr>\n",
       "      <th>3</th>\n",
       "      <td>-1</td>\n",
       "      <td>0</td>\n",
       "      <td>0</td>\n",
       "    </tr>\n",
       "    <tr>\n",
       "      <th>4</th>\n",
       "      <td>-1</td>\n",
       "      <td>0</td>\n",
       "      <td>0</td>\n",
       "    </tr>\n",
       "  </tbody>\n",
       "</table>\n",
       "</div>"
      ],
      "text/plain": [
       "   score  10-yr recidivate  recid\n",
       "0     -2                 0      0\n",
       "1     -2                 0      0\n",
       "2     -1                 0      0\n",
       "3     -1                 0      0\n",
       "4     -1                 0      0"
      ]
     },
     "execution_count": 16,
     "metadata": {},
     "output_type": "execute_result"
    }
   ],
   "source": [
    "df = pd.read_excel('helmus10yrfixed.xlsx')\n",
    "df['recid'] = df['10-yr recidivate']\n",
    "df.head()"
   ]
  },
  {
   "cell_type": "code",
   "execution_count": 33,
   "metadata": {
    "collapsed": false
   },
   "outputs": [
    {
     "data": {
      "text/html": [
       "<div>\n",
       "<table border=\"1\" class=\"dataframe\">\n",
       "  <thead>\n",
       "    <tr style=\"text-align: right;\">\n",
       "      <th></th>\n",
       "      <th>score</th>\n",
       "      <th>10-yr recidivate</th>\n",
       "      <th>recid</th>\n",
       "    </tr>\n",
       "  </thead>\n",
       "  <tbody>\n",
       "    <tr>\n",
       "      <th>699</th>\n",
       "      <td>10</td>\n",
       "      <td>1</td>\n",
       "      <td>1</td>\n",
       "    </tr>\n",
       "    <tr>\n",
       "      <th>700</th>\n",
       "      <td>10</td>\n",
       "      <td>1</td>\n",
       "      <td>1</td>\n",
       "    </tr>\n",
       "    <tr>\n",
       "      <th>701</th>\n",
       "      <td>10</td>\n",
       "      <td>1</td>\n",
       "      <td>1</td>\n",
       "    </tr>\n",
       "    <tr>\n",
       "      <th>702</th>\n",
       "      <td>11</td>\n",
       "      <td>0</td>\n",
       "      <td>0</td>\n",
       "    </tr>\n",
       "    <tr>\n",
       "      <th>703</th>\n",
       "      <td>NaN</td>\n",
       "      <td>204</td>\n",
       "      <td>204</td>\n",
       "    </tr>\n",
       "  </tbody>\n",
       "</table>\n",
       "</div>"
      ],
      "text/plain": [
       "     score  10-yr recidivate  recid\n",
       "699     10                 1      1\n",
       "700     10                 1      1\n",
       "701     10                 1      1\n",
       "702     11                 0      0\n",
       "703    NaN               204    204"
      ]
     },
     "execution_count": 33,
     "metadata": {},
     "output_type": "execute_result"
    }
   ],
   "source": [
    "df.tail()"
   ]
  },
  {
   "cell_type": "code",
   "execution_count": 34,
   "metadata": {
    "collapsed": false
   },
   "outputs": [
    {
     "data": {
      "text/html": [
       "<div>\n",
       "<table border=\"1\" class=\"dataframe\">\n",
       "  <thead>\n",
       "    <tr style=\"text-align: right;\">\n",
       "      <th></th>\n",
       "      <th>score</th>\n",
       "      <th>10-yr recidivate</th>\n",
       "      <th>recid</th>\n",
       "    </tr>\n",
       "  </thead>\n",
       "  <tbody>\n",
       "    <tr>\n",
       "      <th>698</th>\n",
       "      <td>10</td>\n",
       "      <td>1</td>\n",
       "      <td>1</td>\n",
       "    </tr>\n",
       "    <tr>\n",
       "      <th>699</th>\n",
       "      <td>10</td>\n",
       "      <td>1</td>\n",
       "      <td>1</td>\n",
       "    </tr>\n",
       "    <tr>\n",
       "      <th>700</th>\n",
       "      <td>10</td>\n",
       "      <td>1</td>\n",
       "      <td>1</td>\n",
       "    </tr>\n",
       "    <tr>\n",
       "      <th>701</th>\n",
       "      <td>10</td>\n",
       "      <td>1</td>\n",
       "      <td>1</td>\n",
       "    </tr>\n",
       "    <tr>\n",
       "      <th>702</th>\n",
       "      <td>11</td>\n",
       "      <td>0</td>\n",
       "      <td>0</td>\n",
       "    </tr>\n",
       "  </tbody>\n",
       "</table>\n",
       "</div>"
      ],
      "text/plain": [
       "     score  10-yr recidivate  recid\n",
       "698     10                 1      1\n",
       "699     10                 1      1\n",
       "700     10                 1      1\n",
       "701     10                 1      1\n",
       "702     11                 0      0"
      ]
     },
     "execution_count": 34,
     "metadata": {},
     "output_type": "execute_result"
    }
   ],
   "source": [
    "df = df.dropna()\n",
    "df.tail()"
   ]
  },
  {
   "cell_type": "code",
   "execution_count": 35,
   "metadata": {
    "collapsed": false
   },
   "outputs": [
    {
     "data": {
      "text/html": [
       "<table class=\"simpletable\">\n",
       "<caption>Logit Regression Results</caption>\n",
       "<tr>\n",
       "  <th>Dep. Variable:</th>       <td>recid</td>      <th>  No. Observations:  </th>  <td>   703</td>  \n",
       "</tr>\n",
       "<tr>\n",
       "  <th>Model:</th>               <td>Logit</td>      <th>  Df Residuals:      </th>  <td>   701</td>  \n",
       "</tr>\n",
       "<tr>\n",
       "  <th>Method:</th>               <td>MLE</td>       <th>  Df Model:          </th>  <td>     1</td>  \n",
       "</tr>\n",
       "<tr>\n",
       "  <th>Date:</th>          <td>Mon, 02 Nov 2015</td> <th>  Pseudo R-squ.:     </th>  <td>0.03919</td> \n",
       "</tr>\n",
       "<tr>\n",
       "  <th>Time:</th>              <td>15:48:00</td>     <th>  Log-Likelihood:    </th> <td> -406.84</td> \n",
       "</tr>\n",
       "<tr>\n",
       "  <th>converged:</th>           <td>True</td>       <th>  LL-Null:           </th> <td> -423.43</td> \n",
       "</tr>\n",
       "<tr>\n",
       "  <th> </th>                      <td> </td>        <th>  LLR p-value:       </th> <td>8.371e-09</td>\n",
       "</tr>\n",
       "</table>\n",
       "<table class=\"simpletable\">\n",
       "<tr>\n",
       "      <td></td>         <th>coef</th>     <th>std err</th>      <th>z</th>      <th>P>|z|</th> <th>[95.0% Conf. Int.]</th> \n",
       "</tr>\n",
       "<tr>\n",
       "  <th>Intercept</th> <td>   -1.8129</td> <td>    0.194</td> <td>   -9.335</td> <td> 0.000</td> <td>   -2.194    -1.432</td>\n",
       "</tr>\n",
       "<tr>\n",
       "  <th>score</th>     <td>    0.2048</td> <td>    0.037</td> <td>    5.534</td> <td> 0.000</td> <td>    0.132     0.277</td>\n",
       "</tr>\n",
       "</table>"
      ],
      "text/plain": [
       "<class 'statsmodels.iolib.summary.Summary'>\n",
       "\"\"\"\n",
       "                           Logit Regression Results                           \n",
       "==============================================================================\n",
       "Dep. Variable:                  recid   No. Observations:                  703\n",
       "Model:                          Logit   Df Residuals:                      701\n",
       "Method:                           MLE   Df Model:                            1\n",
       "Date:                Mon, 02 Nov 2015   Pseudo R-squ.:                 0.03919\n",
       "Time:                        15:48:00   Log-Likelihood:                -406.84\n",
       "converged:                       True   LL-Null:                       -423.43\n",
       "                                        LLR p-value:                 8.371e-09\n",
       "==============================================================================\n",
       "                 coef    std err          z      P>|z|      [95.0% Conf. Int.]\n",
       "------------------------------------------------------------------------------\n",
       "Intercept     -1.8129      0.194     -9.335      0.000        -2.194    -1.432\n",
       "score          0.2048      0.037      5.534      0.000         0.132     0.277\n",
       "==============================================================================\n",
       "\"\"\""
      ]
     },
     "execution_count": 35,
     "metadata": {},
     "output_type": "execute_result"
    }
   ],
   "source": [
    "formula = 'recid ~ score'\n",
    "model = smf.logit(formula, data=df)\n",
    "results = model.fit(disp=False)\n",
    "results.summary()"
   ]
  },
  {
   "cell_type": "code",
   "execution_count": 53,
   "metadata": {
    "collapsed": false
   },
   "outputs": [
    {
     "data": {
      "text/plain": [
       "0      0.097754\n",
       "1      0.097754\n",
       "2      0.117359\n",
       "3      0.117359\n",
       "4      0.117359\n",
       "5      0.117359\n",
       "6      0.117359\n",
       "7      0.117359\n",
       "8      0.117359\n",
       "9      0.117359\n",
       "10     0.117359\n",
       "11     0.117359\n",
       "12     0.117359\n",
       "13     0.117359\n",
       "14     0.117359\n",
       "15     0.117359\n",
       "16     0.117359\n",
       "17     0.117359\n",
       "18     0.117359\n",
       "19     0.117359\n",
       "20     0.117359\n",
       "21     0.117359\n",
       "22     0.117359\n",
       "23     0.117359\n",
       "24     0.117359\n",
       "25     0.117359\n",
       "26     0.140284\n",
       "27     0.140284\n",
       "28     0.140284\n",
       "29     0.140284\n",
       "         ...   \n",
       "673    0.456382\n",
       "674    0.456382\n",
       "675    0.456382\n",
       "676    0.507458\n",
       "677    0.507458\n",
       "678    0.507458\n",
       "679    0.507458\n",
       "680    0.507458\n",
       "681    0.507458\n",
       "682    0.507458\n",
       "683    0.507458\n",
       "684    0.507458\n",
       "685    0.507458\n",
       "686    0.507458\n",
       "687    0.507458\n",
       "688    0.507458\n",
       "689    0.507458\n",
       "690    0.507458\n",
       "691    0.507458\n",
       "692    0.507458\n",
       "693    0.558379\n",
       "694    0.558379\n",
       "695    0.558379\n",
       "696    0.558379\n",
       "697    0.558379\n",
       "698    0.558379\n",
       "699    0.558379\n",
       "700    0.558379\n",
       "701    0.558379\n",
       "702    0.608101\n",
       "dtype: float64"
      ]
     },
     "execution_count": 53,
     "metadata": {},
     "output_type": "execute_result"
    }
   ],
   "source": [
    "odds = np.exp(results.fittedvalues)\n",
    "ps = odds / (1 + odds)\n",
    "ps"
   ]
  },
  {
   "cell_type": "code",
   "execution_count": 58,
   "metadata": {
    "collapsed": false
   },
   "outputs": [],
   "source": [
    "class BLogit(thinkbayes2.Suite, thinkbayes2.Joint):\n",
    "    \n",
    "    def Likelihood(self, df, hypo):\n",
    "        slope, inter = hypo\n",
    "        log_odds = df.score * slope + inter\n",
    "        odds = np.exp(log_odds)\n",
    "        ps = odds / (1 + odds)\n",
    "        likes = ps * df.recid + (1-ps) * (1-df.recid)\n",
    "        like = np.prod(likes)\n",
    "        return like"
   ]
  },
  {
   "cell_type": "code",
   "execution_count": 59,
   "metadata": {
    "collapsed": true
   },
   "outputs": [],
   "source": [
    "blogit = BLogit()"
   ]
  },
  {
   "cell_type": "code",
   "execution_count": 60,
   "metadata": {
    "collapsed": false
   },
   "outputs": [
    {
     "data": {
      "text/plain": [
       "(0.20475163024127738, -1.8129301177982706)"
      ]
     },
     "execution_count": 60,
     "metadata": {},
     "output_type": "execute_result"
    }
   ],
   "source": [
    "slope, inter = (results.params['score'], results.params['Intercept'])\n",
    "slope, inter"
   ]
  },
  {
   "cell_type": "code",
   "execution_count": 61,
   "metadata": {
    "collapsed": false
   },
   "outputs": [
    {
     "data": {
      "text/plain": [
       "0      0.902246\n",
       "1      0.902246\n",
       "2      0.882641\n",
       "3      0.882641\n",
       "4      0.882641\n",
       "5      0.882641\n",
       "6      0.882641\n",
       "7      0.882641\n",
       "8      0.882641\n",
       "9      0.882641\n",
       "10     0.882641\n",
       "11     0.882641\n",
       "12     0.882641\n",
       "13     0.882641\n",
       "14     0.882641\n",
       "15     0.882641\n",
       "16     0.882641\n",
       "17     0.882641\n",
       "18     0.882641\n",
       "19     0.882641\n",
       "20     0.882641\n",
       "21     0.882641\n",
       "22     0.882641\n",
       "23     0.882641\n",
       "24     0.117359\n",
       "25     0.117359\n",
       "26     0.859716\n",
       "27     0.859716\n",
       "28     0.859716\n",
       "29     0.859716\n",
       "         ...   \n",
       "673    0.456382\n",
       "674    0.456382\n",
       "675    0.456382\n",
       "676    0.492542\n",
       "677    0.492542\n",
       "678    0.492542\n",
       "679    0.492542\n",
       "680    0.492542\n",
       "681    0.492542\n",
       "682    0.492542\n",
       "683    0.492542\n",
       "684    0.492542\n",
       "685    0.507458\n",
       "686    0.507458\n",
       "687    0.507458\n",
       "688    0.507458\n",
       "689    0.507458\n",
       "690    0.507458\n",
       "691    0.507458\n",
       "692    0.507458\n",
       "693    0.441621\n",
       "694    0.441621\n",
       "695    0.441621\n",
       "696    0.441621\n",
       "697    0.441621\n",
       "698    0.558379\n",
       "699    0.558379\n",
       "700    0.558379\n",
       "701    0.558379\n",
       "702    0.391899\n",
       "dtype: float64"
      ]
     },
     "execution_count": 61,
     "metadata": {},
     "output_type": "execute_result"
    }
   ],
   "source": [
    "log_odds = df.score * slope + inter\n",
    "odds = np.exp(log_odds)\n",
    "ps = odds / (1 + odds)\n",
    "likes = ps * df.recid + (1-ps) * (1-df.recid)\n",
    "likes"
   ]
  },
  {
   "cell_type": "code",
   "execution_count": 62,
   "metadata": {
    "collapsed": false
   },
   "outputs": [
    {
     "data": {
      "text/plain": [
       "2.0587276874515058e-177"
      ]
     },
     "execution_count": 62,
     "metadata": {},
     "output_type": "execute_result"
    }
   ],
   "source": [
    "hypo = (slope, inter)\n",
    "blogit.Likelihood(df, hypo)"
   ]
  },
  {
   "cell_type": "code",
   "execution_count": 63,
   "metadata": {
    "collapsed": true
   },
   "outputs": [],
   "source": [
    "hypos = [(slope, inter) for slope in np.linspace(0, 0.4, 101)\n",
    "                        for inter in np.linspace(-3, 0, 101)]"
   ]
  },
  {
   "cell_type": "code",
   "execution_count": 64,
   "metadata": {
    "collapsed": true
   },
   "outputs": [],
   "source": [
    "blogit = BLogit(hypos)"
   ]
  },
  {
   "cell_type": "code",
   "execution_count": 65,
   "metadata": {
    "collapsed": false
   },
   "outputs": [
    {
     "data": {
      "text/plain": [
       "3.3351012535668754e-179"
      ]
     },
     "execution_count": 65,
     "metadata": {},
     "output_type": "execute_result"
    }
   ],
   "source": [
    "blogit.Update(df)"
   ]
  },
  {
   "cell_type": "code",
   "execution_count": 66,
   "metadata": {
    "collapsed": false
   },
   "outputs": [
    {
     "data": {
      "image/png": "[encoded data removed]",
      "text/plain": [
       "<matplotlib.figure.Figure at 0x7faad4bded50>"
      ]
     },
     "metadata": {},
     "output_type": "display_data"
    }
   ],
   "source": [
    "pmf_slope = blogit.Marginal(0)\n",
    "thinkplot.Pdf(pmf_slope)"
   ]
  },
  {
   "cell_type": "code",
   "execution_count": 67,
   "metadata": {
    "collapsed": false
   },
   "outputs": [
    {
     "data": {
      "image/png": "[encoded data removed]",
      "text/plain": [
       "<matplotlib.figure.Figure at 0x7faacd5d2bd0>"
      ]
     },
     "metadata": {},
     "output_type": "display_data"
    }
   ],
   "source": [
    "pmf_inter = blogit.Marginal(1)\n",
    "thinkplot.Pdf(pmf_inter)"
   ]
  },
  {
   "cell_type": "code",
   "execution_count": 69,
   "metadata": {
    "collapsed": false
   },
   "outputs": [
    {
     "data": {
      "image/png": "[encoded data removed]",
      "text/plain": [
       "<matplotlib.figure.Figure at 0x7faacd61bcd0>"
      ]
     },
     "metadata": {},
     "output_type": "display_data"
    }
   ],
   "source": [
    "thinkplot.Contour(blogit, pcolor=True, contour=False)"
   ]
  },
  {
   "cell_type": "code",
   "execution_count": 82,
   "metadata": {
    "collapsed": true
   },
   "outputs": [],
   "source": [
    "def make_predictive(blogit, score):\n",
    "    pmf = thinkbayes2.Pmf()\n",
    "    for (slope, inter), prob in blogit.Items():\n",
    "        x = score * slope + inter\n",
    "        o = np.exp(x)\n",
    "        p = o / (1+o)\n",
    "        pmf[p] = prob\n",
    "    return pmf"
   ]
  },
  {
   "cell_type": "code",
   "execution_count": 83,
   "metadata": {
    "collapsed": false
   },
   "outputs": [
    {
     "data": {
      "image/png": "[encoded data removed]",
      "text/plain": [
       "<matplotlib.figure.Figure at 0x7faacd5fc110>"
      ]
     },
     "metadata": {},
     "output_type": "display_data"
    }
   ],
   "source": [
    "scores = [-1, 1, 3, 5, 7, 9, 11]\n",
    "thinkplot.PrePlot(len(scores))\n",
    "for score in scores:\n",
    "    pmf = make_predictive(blogit, score)\n",
    "    thinkplot.Cdf(pmf.MakeCdf())"
   ]
  },
  {
   "cell_type": "code",
   "execution_count": 75,
   "metadata": {
    "collapsed": false
   },
   "outputs": [
    {
     "ename": "UnboundLocalError",
     "evalue": "local variable 'x' referenced before assignment",
     "output_type": "error",
     "traceback": [
      "\u001b[1;31m---------------------------------------------------------------------------\u001b[0m",
      "\u001b[1;31mUnboundLocalError\u001b[0m                         Traceback (most recent call last)",
      "\u001b[1;32m<ipython-input-75-408c1089b2ec>\u001b[0m in \u001b[0;36m<module>\u001b[1;34m()\u001b[0m\n\u001b[1;32m----> 1\u001b[1;33m \u001b[0mmake_predictive\u001b[0m\u001b[1;33m(\u001b[0m\u001b[0mblogit\u001b[0m\u001b[1;33m,\u001b[0m \u001b[1;36m0\u001b[0m\u001b[1;33m)\u001b[0m\u001b[1;33m\u001b[0m\u001b[0m\n\u001b[0m",
      "\u001b[1;32m<ipython-input-74-808bce4f72fa>\u001b[0m in \u001b[0;36mmake_predictive\u001b[1;34m(blogit, score)\u001b[0m\n\u001b[0;32m      2\u001b[0m     \u001b[0mpmf\u001b[0m \u001b[1;33m=\u001b[0m \u001b[0mthinkbayes2\u001b[0m\u001b[1;33m.\u001b[0m\u001b[0mPmf\u001b[0m\u001b[1;33m(\u001b[0m\u001b[1;33m)\u001b[0m\u001b[1;33m\u001b[0m\u001b[0m\n\u001b[0;32m      3\u001b[0m     \u001b[1;32mfor\u001b[0m \u001b[1;33m(\u001b[0m\u001b[0mslope\u001b[0m\u001b[1;33m,\u001b[0m \u001b[0minter\u001b[0m\u001b[1;33m)\u001b[0m\u001b[1;33m,\u001b[0m \u001b[0mprob\u001b[0m \u001b[1;32min\u001b[0m \u001b[0mblogit\u001b[0m\u001b[1;33m.\u001b[0m\u001b[0mItems\u001b[0m\u001b[1;33m(\u001b[0m\u001b[1;33m)\u001b[0m\u001b[1;33m:\u001b[0m\u001b[1;33m\u001b[0m\u001b[0m\n\u001b[1;32m----> 4\u001b[1;33m         \u001b[1;32mprint\u001b[0m\u001b[1;33m(\u001b[0m\u001b[0mslope\u001b[0m\u001b[1;33m,\u001b[0m \u001b[0minter\u001b[0m\u001b[1;33m,\u001b[0m \u001b[0mx\u001b[0m\u001b[1;33m)\u001b[0m\u001b[1;33m\u001b[0m\u001b[0m\n\u001b[0m\u001b[0;32m      5\u001b[0m         \u001b[0mx\u001b[0m \u001b[1;33m=\u001b[0m \u001b[0mscore\u001b[0m \u001b[1;33m*\u001b[0m \u001b[0mslope\u001b[0m \u001b[1;33m+\u001b[0m \u001b[0minter\u001b[0m\u001b[1;33m\u001b[0m\u001b[0m\n\u001b[0;32m      6\u001b[0m         \u001b[0mpmf\u001b[0m\u001b[1;33m[\u001b[0m\u001b[0mx\u001b[0m\u001b[1;33m]\u001b[0m \u001b[1;33m=\u001b[0m \u001b[0mprob\u001b[0m\u001b[1;33m\u001b[0m\u001b[0m\n",
      "\u001b[1;31mUnboundLocalError\u001b[0m: local variable 'x' referenced before assignment"
     ]
    }
   ],
   "source": [
    "make_predictive(blogit, 0)"
   ]
  },
  {
   "cell_type": "code",
   "execution_count": null,
   "metadata": {
    "collapsed": true
   },
   "outputs": [],
   "source": []
  }
 ],
 "metadata": {
  "kernelspec": {
   "display_name": "Python 2",
   "language": "python",
   "name": "python2"
  },
  "language_info": {
   "codemirror_mode": {
    "name": "ipython",
    "version": 2
   },
   "file_extension": ".py",
   "mimetype": "text/x-python",
   "name": "python",
   "nbconvert_exporter": "python",
   "pygments_lexer": "ipython2",
   "version": "2.7.10"
  }
 },
 "nbformat": 4,
 "nbformat_minor": 0
}
