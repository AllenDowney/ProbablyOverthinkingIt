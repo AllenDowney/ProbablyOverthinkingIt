{
 "cells": [
  {
   "cell_type": "markdown",
   "metadata": {},
   "source": [
    "# The Inspection Paradox is Everywhere\n",
    "\n",
    "Allen Downey 2019\n",
    "\n",
    "[MIT License](https://en.wikipedia.org/wiki/MIT_License)"
   ]
  },
  {
   "cell_type": "code",
   "execution_count": 1,
   "metadata": {},
   "outputs": [],
   "source": [
    "import numpy as np\n",
    "import pandas as pd\n",
    "import matplotlib.pyplot as plt\n",
    "import seaborn as sns\n",
    "\n",
    "from empiricaldist import Pmf\n",
    "\n",
    "from utils import decorate"
   ]
  },
  {
   "cell_type": "code",
   "execution_count": 2,
   "metadata": {},
   "outputs": [],
   "source": [
    "# set the randoms seed so we get the same results every time\n",
    "np.random.seed(17)"
   ]
  },
  {
   "cell_type": "markdown",
   "metadata": {},
   "source": [
    "## Class size\n",
    "\n",
    "Here's the data summarizing the distribution of undergraduate class sizes at Purdue University in 2013-14."
   ]
  },
  {
   "cell_type": "code",
   "execution_count": 3,
   "metadata": {},
   "outputs": [],
   "source": [
    "# Class size data originally from\n",
    "# https://www.purdue.edu/datadigest/2013-14/InstrStuLIfe/DistUGClasses.html\n",
    "# now available from\n",
    "# https://web.archive.org/web/20160415011613/https://www.purdue.edu/datadigest/2013-14/InstrStuLIfe/DistUGClasses.html\n",
    "\n",
    "sizes = [(1, 1), \n",
    "         (2, 9),\n",
    "         (10, 19),\n",
    "         (20, 29),\n",
    "         (30, 39),\n",
    "         (40, 49),\n",
    "         (50, 99),\n",
    "         (100, 300)]\n",
    "         \n",
    "counts = [138, 635, 1788, 1979, 796, 354, 487, 333]"
   ]
  },
  {
   "cell_type": "markdown",
   "metadata": {},
   "source": [
    "I generate a sample from this distribution, assuming a uniform distribution in each range and an upper bound of 300."
   ]
  },
  {
   "cell_type": "code",
   "execution_count": 4,
   "metadata": {},
   "outputs": [],
   "source": [
    "def generate_sample(sizes, counts):\n",
    "    \"\"\"Generate a sample from a distribution.\n",
    "    \n",
    "    sizes: sequence of (low, high) pairs\n",
    "    counts: sequence of integers\n",
    "    \n",
    "    returns: NumPy array\n",
    "    \"\"\"\n",
    "    t = []\n",
    "    for (low, high), count in zip(sizes, counts):\n",
    "        print(count, low, high)\n",
    "        sample = np.random.randint(low, high+1, count)\n",
    "        t.extend(sample)\n",
    "    return np.array(t)"
   ]
  },
  {
   "cell_type": "markdown",
   "metadata": {},
   "source": [
    "The \"unbiased\" sample is as seen by the college, with each class equally likely to be in the sample."
   ]
  },
  {
   "cell_type": "code",
   "execution_count": 5,
   "metadata": {},
   "outputs": [
    {
     "name": "stdout",
     "output_type": "stream",
     "text": [
      "138 1 1\n",
      "635 2 9\n",
      "1788 10 19\n",
      "1979 20 29\n",
      "796 30 39\n",
      "354 40 49\n",
      "487 50 99\n",
      "333 100 300\n"
     ]
    }
   ],
   "source": [
    "unbiased = generate_sample(sizes, counts)"
   ]
  },
  {
   "cell_type": "markdown",
   "metadata": {},
   "source": [
    "To generate a biased sample, we use the values themselves as weights and resample with replacement."
   ]
  },
  {
   "cell_type": "code",
   "execution_count": 6,
   "metadata": {},
   "outputs": [],
   "source": [
    "def bias_sample(sample):\n",
    "    \"\"\"Generate a biased sample.\n",
    "    \n",
    "    sample: NumPy array\n",
    "    \n",
    "    returns: NumPy array\n",
    "    \"\"\"\n",
    "    p = sample / np.sum(sample)\n",
    "    biased = np.random.choice(sample, len(sample), replace=True, p=p)\n",
    "    return biased\n",
    "\n"
   ]
  },
  {
   "cell_type": "code",
   "execution_count": 7,
   "metadata": {},
   "outputs": [],
   "source": [
    "biased = bias_sample(unbiased)"
   ]
  },
  {
   "cell_type": "markdown",
   "metadata": {},
   "source": [
    "To plot the distribution, I use KDE to estimate the density function, then evaluate it over the given sequence of `xs`."
   ]
  },
  {
   "cell_type": "code",
   "execution_count": 8,
   "metadata": {},
   "outputs": [],
   "source": [
    "from scipy.stats import gaussian_kde\n",
    "\n",
    "def kdeplot(sample, xs, label=None, **options):\n",
    "    \"\"\"Use KDE to plot the density function.\n",
    "    \n",
    "    sample: NumPy array\n",
    "    xs: NumPy array\n",
    "    label: string\n",
    "    \"\"\"\n",
    "    density = gaussian_kde(sample, **options).evaluate(xs)\n",
    "    plt.plot(xs, density, label=label)\n"
   ]
  },
  {
   "cell_type": "markdown",
   "metadata": {},
   "source": [
    "The following plot shows the distribution of class size as seen by the Dean, and as seen by a sample of students."
   ]
  },
  {
   "cell_type": "code",
   "execution_count": 9,
   "metadata": {},
   "outputs": [
    {
     "data": {
      "image/png": "[encoded data removed]",
      "text/plain": [
       "<Figure size 432x288 with 1 Axes>"
      ]
     },
     "metadata": {
      "needs_background": "light"
     },
     "output_type": "display_data"
    }
   ],
   "source": [
    "xs = np.arange(1, 300)\n",
    "kdeplot(unbiased, xs, 'Reported by the Dean')\n",
    "kdeplot(biased, xs, 'Reported by students')\n",
    "\n",
    "decorate(xlabel='Class size',\n",
    "         ylabel='Density of classes',\n",
    "         title='Distribution of class sizes')\n",
    "\n",
    "plt.savefig('inspection/class_size.png', dpi=150)"
   ]
  },
  {
   "cell_type": "markdown",
   "metadata": {},
   "source": [
    "Here are the means of the unbiased and biased distributions."
   ]
  },
  {
   "cell_type": "code",
   "execution_count": 10,
   "metadata": {},
   "outputs": [
    {
     "data": {
      "text/plain": [
       "34.611827956989245"
      ]
     },
     "execution_count": 10,
     "metadata": {},
     "output_type": "execute_result"
    }
   ],
   "source": [
    "np.mean(unbiased)"
   ]
  },
  {
   "cell_type": "code",
   "execution_count": 11,
   "metadata": {},
   "outputs": [
    {
     "data": {
      "text/plain": [
       "92.59815668202765"
      ]
     },
     "execution_count": 11,
     "metadata": {},
     "output_type": "execute_result"
    }
   ],
   "source": [
    "np.mean(biased)"
   ]
  },
  {
   "cell_type": "markdown",
   "metadata": {},
   "source": [
    "## Red Line\n",
    "\n",
    "Here are times between trains in seconds."
   ]
  },
  {
   "cell_type": "code",
   "execution_count": 12,
   "metadata": {},
   "outputs": [],
   "source": [
    "unbiased = [\n",
    "    428.0, 705.0, 407.0, 465.0, 433.0, 425.0, 204.0, 506.0, 143.0, 351.0, \n",
    "    450.0, 598.0, 464.0, 749.0, 341.0, 586.0, 754.0, 256.0, 378.0, 435.0, \n",
    "    176.0, 405.0, 360.0, 519.0, 648.0, 374.0, 483.0, 537.0, 578.0, 534.0, \n",
    "    577.0, 619.0, 538.0, 331.0, 186.0, 629.0, 193.0, 360.0, 660.0, 484.0, \n",
    "    512.0, 315.0, 457.0, 404.0, 740.0, 388.0, 357.0, 485.0, 567.0, 160.0, \n",
    "    428.0, 387.0, 901.0, 187.0, 622.0, 616.0, 585.0, 474.0, 442.0, 499.0, \n",
    "    437.0, 620.0, 351.0, 286.0, 373.0, 232.0, 393.0, 745.0, 636.0, 758.0,\n",
    "]"
   ]
  },
  {
   "cell_type": "markdown",
   "metadata": {},
   "source": [
    "Here's the same data in minutes."
   ]
  },
  {
   "cell_type": "code",
   "execution_count": 13,
   "metadata": {},
   "outputs": [],
   "source": [
    "unbiased = np.array(unbiased) / 60"
   ]
  },
  {
   "cell_type": "markdown",
   "metadata": {},
   "source": [
    "We can use the same function to generate a biased sample."
   ]
  },
  {
   "cell_type": "code",
   "execution_count": 14,
   "metadata": {},
   "outputs": [],
   "source": [
    "biased = bias_sample(unbiased)"
   ]
  },
  {
   "cell_type": "markdown",
   "metadata": {},
   "source": [
    "And plot the results."
   ]
  },
  {
   "cell_type": "code",
   "execution_count": 15,
   "metadata": {},
   "outputs": [
    {
     "data": {
      "image/png": "[encoded data removed]",
      "text/plain": [
       "<Figure size 432x288 with 1 Axes>"
      ]
     },
     "metadata": {
      "needs_background": "light"
     },
     "output_type": "display_data"
    }
   ],
   "source": [
    "xs = np.linspace(1, 15, 101)\n",
    "kdeplot(unbiased, xs, 'Seen by MBTA')\n",
    "kdeplot(biased, xs, 'Seen by passengers')\n",
    "\n",
    "decorate(xlabel='Time between trains (min)',\n",
    "         ylabel='Density',\n",
    "         title='Distribution of time between trains')\n",
    "\n",
    "plt.savefig('inspection/red_line.png', dpi=150)"
   ]
  },
  {
   "cell_type": "markdown",
   "metadata": {},
   "source": [
    "Here are the means of the distributions and the percentage difference."
   ]
  },
  {
   "cell_type": "code",
   "execution_count": 16,
   "metadata": {},
   "outputs": [
    {
     "data": {
      "text/plain": [
       "(9.207857142857144, 7.7680952380952375)"
      ]
     },
     "execution_count": 16,
     "metadata": {},
     "output_type": "execute_result"
    }
   ],
   "source": [
    "np.mean(biased), np.mean(unbiased)"
   ]
  },
  {
   "cell_type": "code",
   "execution_count": 17,
   "metadata": {},
   "outputs": [
    {
     "data": {
      "text/plain": [
       "18.53429779930119"
      ]
     },
     "execution_count": 17,
     "metadata": {},
     "output_type": "execute_result"
    }
   ],
   "source": [
    "(np.mean(biased) - np.mean(unbiased)) /  np.mean(unbiased) * 100"
   ]
  },
  {
   "cell_type": "markdown",
   "metadata": {},
   "source": [
    "## Social network\n",
    "\n",
    "The following function reads the Facebook data."
   ]
  },
  {
   "cell_type": "code",
   "execution_count": 18,
   "metadata": {},
   "outputs": [],
   "source": [
    "import networkx as nx\n",
    "\n",
    "def read_graph(filename):\n",
    "    \"\"\"Read a graph from a file.\n",
    "    \n",
    "    filename: string\n",
    "    \n",
    "    return: Graph\n",
    "    \"\"\"\n",
    "    G = nx.Graph()\n",
    "    array = np.loadtxt(filename, dtype=int)\n",
    "    G.add_edges_from(array)\n",
    "    return G"
   ]
  },
  {
   "cell_type": "code",
   "execution_count": 19,
   "metadata": {},
   "outputs": [
    {
     "data": {
      "text/plain": [
       "(4039, 88234)"
      ]
     },
     "execution_count": 19,
     "metadata": {},
     "output_type": "execute_result"
    }
   ],
   "source": [
    "# https://snap.stanford.edu/data/facebook_combined.txt.gz\n",
    "\n",
    "fb = read_graph('facebook_combined.txt.gz')\n",
    "n = len(fb)\n",
    "m = len(fb.edges())\n",
    "n, m"
   ]
  },
  {
   "cell_type": "markdown",
   "metadata": {},
   "source": [
    "The unbiased sample is the number of friends for each user."
   ]
  },
  {
   "cell_type": "code",
   "execution_count": 20,
   "metadata": {},
   "outputs": [
    {
     "data": {
      "text/plain": [
       "4039"
      ]
     },
     "execution_count": 20,
     "metadata": {},
     "output_type": "execute_result"
    }
   ],
   "source": [
    "unbiased = [fb.degree(node) for node in fb]\n",
    "len(unbiased)"
   ]
  },
  {
   "cell_type": "code",
   "execution_count": 21,
   "metadata": {},
   "outputs": [
    {
     "data": {
      "text/plain": [
       "1045"
      ]
     },
     "execution_count": 21,
     "metadata": {},
     "output_type": "execute_result"
    }
   ],
   "source": [
    "np.max(unbiased)"
   ]
  },
  {
   "cell_type": "markdown",
   "metadata": {},
   "source": [
    "We can use the same function to generate a biased sample."
   ]
  },
  {
   "cell_type": "code",
   "execution_count": 22,
   "metadata": {},
   "outputs": [],
   "source": [
    "biased = bias_sample(unbiased)"
   ]
  },
  {
   "cell_type": "markdown",
   "metadata": {},
   "source": [
    "And generate the plot."
   ]
  },
  {
   "cell_type": "code",
   "execution_count": 23,
   "metadata": {},
   "outputs": [
    {
     "data": {
      "image/png": "[encoded data removed]",
      "text/plain": [
       "<Figure size 432x288 with 1 Axes>"
      ]
     },
     "metadata": {
      "needs_background": "light"
     },
     "output_type": "display_data"
    }
   ],
   "source": [
    "xs = np.linspace(0, 300, 101)\n",
    "kdeplot(unbiased, xs, 'Random sample of people')\n",
    "kdeplot(biased, xs, 'Random sample of friends')\n",
    "\n",
    "decorate(xlabel='Number of friends in social network',\n",
    "         ylabel='Density',\n",
    "         title='Distribution of social network size')\n",
    "\n",
    "plt.savefig('inspection/social.png', dpi=150)"
   ]
  },
  {
   "cell_type": "markdown",
   "metadata": {},
   "source": [
    "Here are the means of the distributions."
   ]
  },
  {
   "cell_type": "code",
   "execution_count": 24,
   "metadata": {},
   "outputs": [
    {
     "data": {
      "text/plain": [
       "(103.75563258232236, 43.69101262688784)"
      ]
     },
     "execution_count": 24,
     "metadata": {},
     "output_type": "execute_result"
    }
   ],
   "source": [
    "np.mean(biased), np.mean(unbiased)"
   ]
  },
  {
   "cell_type": "markdown",
   "metadata": {},
   "source": [
    "And the probability that the friend of a user has more friends than the user."
   ]
  },
  {
   "cell_type": "code",
   "execution_count": 25,
   "metadata": {},
   "outputs": [
    {
     "data": {
      "text/plain": [
       "0.759593958900718"
      ]
     },
     "execution_count": 25,
     "metadata": {},
     "output_type": "execute_result"
    }
   ],
   "source": [
    "np.mean(biased > unbiased)"
   ]
  },
  {
   "cell_type": "markdown",
   "metadata": {},
   "source": [
    "## Relay race\n",
    "\n",
    "The following function read the data from the 2010 James Joyce Ramble 10K, where I ran my personal record time."
   ]
  },
  {
   "cell_type": "code",
   "execution_count": 26,
   "metadata": {},
   "outputs": [],
   "source": [
    "import relay\n",
    "results = relay.ReadResults()\n",
    "unbiased = relay.GetSpeeds(results)"
   ]
  },
  {
   "cell_type": "markdown",
   "metadata": {},
   "source": [
    "In this case, the weights are related to the difference between each element of the sample and the hypothetical speed of the observer."
   ]
  },
  {
   "cell_type": "code",
   "execution_count": 27,
   "metadata": {},
   "outputs": [],
   "source": [
    "p = np.abs(np.array(unbiased) - 7)\n",
    "p /= np.sum(p)\n",
    "biased = np.random.choice(unbiased, len(unbiased), replace=True, p=p)"
   ]
  },
  {
   "cell_type": "markdown",
   "metadata": {},
   "source": [
    "And here's the plot."
   ]
  },
  {
   "cell_type": "code",
   "execution_count": 28,
   "metadata": {},
   "outputs": [
    {
     "data": {
      "image/png": "[encoded data removed]",
      "text/plain": [
       "<Figure size 432x288 with 1 Axes>"
      ]
     },
     "metadata": {
      "needs_background": "light"
     },
     "output_type": "display_data"
    }
   ],
   "source": [
    "xs = np.linspace(3, 11, 101)\n",
    "kdeplot(unbiased, xs, 'Seen by spectator')\n",
    "kdeplot(biased, xs, 'Seen by runner at 7 mph', bw_method=0.2)\n",
    "\n",
    "decorate(xlabel='Running speed (mph)',\n",
    "         ylabel='Density',\n",
    "         title='Distribution of running speed')\n",
    "\n",
    "plt.savefig('inspection/relay.png', dpi=150)"
   ]
  },
  {
   "cell_type": "markdown",
   "metadata": {},
   "source": [
    "## Prison sentences\n",
    "\n",
    "First we read the [data from the Bureau of Prisons web page](https://www.bop.gov/about/statistics/statistics_inmate_sentences.jsp)."
   ]
  },
  {
   "cell_type": "code",
   "execution_count": 29,
   "metadata": {},
   "outputs": [
    {
     "data": {
      "text/html": [
       "<div>\n",
       "<style scoped>\n",
       "    .dataframe tbody tr th:only-of-type {\n",
       "        vertical-align: middle;\n",
       "    }\n",
       "\n",
       "    .dataframe tbody tr th {\n",
       "        vertical-align: top;\n",
       "    }\n",
       "\n",
       "    .dataframe thead th {\n",
       "        text-align: right;\n",
       "    }\n",
       "</style>\n",
       "<table border=\"1\" class=\"dataframe\">\n",
       "  <thead>\n",
       "    <tr style=\"text-align: right;\">\n",
       "      <th></th>\n",
       "      <th>Sentence</th>\n",
       "      <th># of Inmates</th>\n",
       "      <th>% of Inmates</th>\n",
       "    </tr>\n",
       "  </thead>\n",
       "  <tbody>\n",
       "    <tr>\n",
       "      <th>0</th>\n",
       "      <td>0 to 1 year*</td>\n",
       "      <td>5155</td>\n",
       "      <td>2.3 %</td>\n",
       "    </tr>\n",
       "    <tr>\n",
       "      <th>1</th>\n",
       "      <td>&gt; 1 year to &lt; 3 years**</td>\n",
       "      <td>18619</td>\n",
       "      <td>11.3%</td>\n",
       "    </tr>\n",
       "    <tr>\n",
       "      <th>2</th>\n",
       "      <td>3 years to &lt; 5 years</td>\n",
       "      <td>17897</td>\n",
       "      <td>10.9%</td>\n",
       "    </tr>\n",
       "    <tr>\n",
       "      <th>3</th>\n",
       "      <td>5 years to &lt; 10 years</td>\n",
       "      <td>41887</td>\n",
       "      <td>25.4%</td>\n",
       "    </tr>\n",
       "    <tr>\n",
       "      <th>4</th>\n",
       "      <td>10 years to &lt; 15 years</td>\n",
       "      <td>34995</td>\n",
       "      <td>21.3%</td>\n",
       "    </tr>\n",
       "    <tr>\n",
       "      <th>5</th>\n",
       "      <td>15 years to &lt; 20 years</td>\n",
       "      <td>18674</td>\n",
       "      <td>11.3%</td>\n",
       "    </tr>\n",
       "    <tr>\n",
       "      <th>6</th>\n",
       "      <td>20 years or more but &lt; Life</td>\n",
       "      <td>22738</td>\n",
       "      <td>13.8%</td>\n",
       "    </tr>\n",
       "    <tr>\n",
       "      <th>7</th>\n",
       "      <td>Life</td>\n",
       "      <td>4600</td>\n",
       "      <td>2.8%</td>\n",
       "    </tr>\n",
       "  </tbody>\n",
       "</table>\n",
       "</div>"
      ],
      "text/plain": [
       "                      Sentence  # of Inmates % of Inmates\n",
       "0                 0 to 1 year*          5155        2.3 %\n",
       "1      > 1 year to < 3 years**         18619        11.3%\n",
       "2         3 years to < 5 years         17897        10.9%\n",
       "3        5 years to < 10 years         41887        25.4%\n",
       "4       10 years to < 15 years         34995        21.3%\n",
       "5       15 years to < 20 years         18674        11.3%\n",
       "6  20 years or more but < Life         22738        13.8%\n",
       "7                         Life          4600         2.8%"
      ]
     },
     "execution_count": 29,
     "metadata": {},
     "output_type": "execute_result"
    }
   ],
   "source": [
    "tables = pd.read_html('BOP Statistics_ Sentences Imposed.html')\n",
    "df = tables[0]\n",
    "df"
   ]
  },
  {
   "cell_type": "markdown",
   "metadata": {},
   "source": [
    "Here are the low and I sentences for each range.  I assume that the minimum sentence is about a week, that sentences \"less than life\" are 40 years, and that a life sentence is between 40 and 60 years."
   ]
  },
  {
   "cell_type": "code",
   "execution_count": 30,
   "metadata": {},
   "outputs": [],
   "source": [
    "sentences = [(0.02, 1),\n",
    "             (1, 3),\n",
    "             (3, 5),\n",
    "             (5, 10),\n",
    "             (10, 15),\n",
    "             (15, 20),\n",
    "             (20, 40),\n",
    "             (40, 60)]"
   ]
  },
  {
   "cell_type": "markdown",
   "metadata": {},
   "source": [
    "We can get the counts from the table."
   ]
  },
  {
   "cell_type": "code",
   "execution_count": 31,
   "metadata": {},
   "outputs": [],
   "source": [
    "counts = df['# of Inmates']"
   ]
  },
  {
   "cell_type": "markdown",
   "metadata": {},
   "source": [
    "Here's a different version of `generate_sample` for a continuous quantity."
   ]
  },
  {
   "cell_type": "code",
   "execution_count": 32,
   "metadata": {},
   "outputs": [],
   "source": [
    "def generate_sample(sizes, counts):\n",
    "    \"\"\"Generate a sample from a distribution.\n",
    "    \n",
    "    sizes: sequence of (low, high) pairs\n",
    "    counts: sequence of integers\n",
    "    \n",
    "    returns: NumPy array\n",
    "    \"\"\"\n",
    "    t = []\n",
    "    for (low, high), count in zip(sizes, counts):\n",
    "        print(count, low, high)\n",
    "        sample = np.random.uniform(low, high, count)\n",
    "        t.extend(sample)\n",
    "    return np.array(t)"
   ]
  },
  {
   "cell_type": "markdown",
   "metadata": {},
   "source": [
    "In this case, the data are biased."
   ]
  },
  {
   "cell_type": "code",
   "execution_count": 33,
   "metadata": {},
   "outputs": [
    {
     "name": "stdout",
     "output_type": "stream",
     "text": [
      "5155 0.02 1\n",
      "18619 1 3\n",
      "17897 3 5\n",
      "41887 5 10\n",
      "34995 10 15\n",
      "18674 15 20\n",
      "22738 20 40\n",
      "4600 40 60\n"
     ]
    }
   ],
   "source": [
    "biased = generate_sample(sentences, counts)"
   ]
  },
  {
   "cell_type": "markdown",
   "metadata": {},
   "source": [
    "So we have to unbias them with weights inversely proportional to the values.\n",
    "\n",
    "Prisoners in federal prison typically serve 85% of their nominal sentence.  We can take that into account in the weights."
   ]
  },
  {
   "cell_type": "code",
   "execution_count": 34,
   "metadata": {},
   "outputs": [],
   "source": [
    "p = 1 / (0.85 * np.array(biased))\n",
    "p /= np.sum(p)"
   ]
  },
  {
   "cell_type": "markdown",
   "metadata": {},
   "source": [
    "Here's the unbiased sample."
   ]
  },
  {
   "cell_type": "code",
   "execution_count": 35,
   "metadata": {},
   "outputs": [],
   "source": [
    "unbiased = np.random.choice(biased, len(biased), replace=True, p=p)"
   ]
  },
  {
   "cell_type": "markdown",
   "metadata": {},
   "source": [
    "And the plotted distributions."
   ]
  },
  {
   "cell_type": "code",
   "execution_count": 36,
   "metadata": {},
   "outputs": [
    {
     "data": {
      "image/png": "[encoded data removed]",
      "text/plain": [
       "<Figure size 432x288 with 1 Axes>"
      ]
     },
     "metadata": {
      "needs_background": "light"
     },
     "output_type": "display_data"
    }
   ],
   "source": [
    "xs = np.linspace(0, 60, 101)\n",
    "kdeplot(unbiased, xs, 'Seen by judge', bw_method=0.5)\n",
    "kdeplot(biased, xs, 'Seen by prison visitor', bw_method=0.5)\n",
    "\n",
    "decorate(xlabel='Prison sentence (years)',\n",
    "         ylabel='Density',\n",
    "         title='Distribution of federal prison sentences')\n",
    "\n",
    "plt.savefig('inspection/orange.png', dpi=150)"
   ]
  },
  {
   "cell_type": "markdown",
   "metadata": {},
   "source": [
    "We can also compute the distribution of sentences as seen by someone at the prison for 13 months."
   ]
  },
  {
   "cell_type": "code",
   "execution_count": 37,
   "metadata": {},
   "outputs": [],
   "source": [
    "p = 1 / (0.85 * np.array(biased) + 13/12)\n",
    "p /= np.sum(p)"
   ]
  },
  {
   "cell_type": "markdown",
   "metadata": {},
   "source": [
    "Here's the sample."
   ]
  },
  {
   "cell_type": "code",
   "execution_count": 38,
   "metadata": {},
   "outputs": [],
   "source": [
    "kerman = np.random.choice(biased, len(biased), replace=True, p=p)"
   ]
  },
  {
   "cell_type": "markdown",
   "metadata": {},
   "source": [
    "And here's what it looks like."
   ]
  },
  {
   "cell_type": "code",
   "execution_count": 39,
   "metadata": {},
   "outputs": [
    {
     "data": {
      "image/png": "[encoded data removed]",
      "text/plain": [
       "<Figure size 432x288 with 1 Axes>"
      ]
     },
     "metadata": {
      "needs_background": "light"
     },
     "output_type": "display_data"
    }
   ],
   "source": [
    "xs = np.linspace(0, 60, 101)\n",
    "kdeplot(unbiased, xs, 'Seen by judge', bw_method=0.5)\n",
    "kdeplot(kerman, xs, 'Seen by Kerman', bw_method=0.5)\n",
    "kdeplot(biased, xs, 'Seen by visitor', bw_method=0.5)\n",
    "\n",
    "decorate(xlabel='Prison sentence (years)',\n",
    "         ylabel='Density',\n",
    "         title='Distribution of federal prison sentences')\n",
    "\n",
    "plt.savefig('inspection/orange.png', dpi=150)"
   ]
  },
  {
   "cell_type": "markdown",
   "metadata": {},
   "source": [
    "In the unbiased distribution, almost half of prisoners serve less than one year."
   ]
  },
  {
   "cell_type": "code",
   "execution_count": 40,
   "metadata": {},
   "outputs": [
    {
     "data": {
      "text/plain": [
       "0.4502719290250053"
      ]
     },
     "execution_count": 40,
     "metadata": {},
     "output_type": "execute_result"
    }
   ],
   "source": [
    "np.mean(unbiased<1)"
   ]
  },
  {
   "cell_type": "markdown",
   "metadata": {},
   "source": [
    "But if we sample the prison population, barely 3% are short timers."
   ]
  },
  {
   "cell_type": "code",
   "execution_count": 41,
   "metadata": {},
   "outputs": [
    {
     "data": {
      "text/plain": [
       "0.0313250083553611"
      ]
     },
     "execution_count": 41,
     "metadata": {},
     "output_type": "execute_result"
    }
   ],
   "source": [
    "np.mean(biased<1)"
   ]
  },
  {
   "cell_type": "markdown",
   "metadata": {},
   "source": [
    "Here are the means of the distributions."
   ]
  },
  {
   "cell_type": "code",
   "execution_count": 42,
   "metadata": {},
   "outputs": [
    {
     "data": {
      "text/plain": [
       "3.548807227736438"
      ]
     },
     "execution_count": 42,
     "metadata": {},
     "output_type": "execute_result"
    }
   ],
   "source": [
    "np.mean(unbiased)"
   ]
  },
  {
   "cell_type": "code",
   "execution_count": 43,
   "metadata": {},
   "outputs": [
    {
     "data": {
      "text/plain": [
       "12.773210217759297"
      ]
     },
     "execution_count": 43,
     "metadata": {},
     "output_type": "execute_result"
    }
   ],
   "source": [
    "np.mean(biased)"
   ]
  },
  {
   "cell_type": "code",
   "execution_count": 44,
   "metadata": {},
   "outputs": [
    {
     "data": {
      "text/plain": [
       "6.361513464625958"
      ]
     },
     "execution_count": 44,
     "metadata": {},
     "output_type": "execute_result"
    }
   ],
   "source": [
    "np.mean(kerman)"
   ]
  }
 ],
 "metadata": {
  "kernelspec": {
   "display_name": "Python 3",
   "language": "python",
   "name": "python3"
  },
  "language_info": {
   "codemirror_mode": {
    "name": "ipython",
    "version": 3
   },
   "file_extension": ".py",
   "mimetype": "text/x-python",
   "name": "python",
   "nbconvert_exporter": "python",
   "pygments_lexer": "ipython3",
   "version": "3.7.3"
  }
 },
 "nbformat": 4,
 "nbformat_minor": 2
}
