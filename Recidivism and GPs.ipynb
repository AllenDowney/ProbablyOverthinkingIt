{
 "cells": [
  {
   "cell_type": "markdown",
   "metadata": {},
   "source": [
    "Contributed by Sam Mason.  From his email:\n",
    "\n",
    "\"I've done a very naive thing in a gaussian process regression.  I use the GPy toolbox:\n",
    "  http://sheffieldml.github.io/GPy/ which is a reasonably nice library for doing this sort of thing.  GPs have n^2 complexity in the number of data points, so scaling beyond a few hundred points can be awkward but there are various sparse approximations (some included in GPy) should you want to play with much more data.\n",
    "The main thing to choose is the covariance function—i.e. how related are points should points be considered to be at a given distance.  The GPML book by Rasmussen and Williams is a good reference if you want to know more.\n",
    "\n",
    "\"The generally recommended kernel if you don't know much about the data is a Matern kernel and this ends up looking a bit like your quadratic fit (a squared exponential kernel is also commonly used, but tends to be too strong).  I'd agree with the GP model that the logistic regression is probably saying that those with high scores are too likely to recidivate.  Another kernel that looked like a good fit is the Exponential kernel.  This smooths the independent estimates a bit and says that the extreme rates (i.e. <=0 or >=7) are basically equal—which seems reasonable to me.\""
   ]
  },
  {
   "cell_type": "code",
   "execution_count": 1,
   "metadata": {
    "collapsed": false
   },
   "outputs": [],
   "source": [
    "import numpy as np\n",
    "import scipy as sp\n",
    "import scipy.stats as sps\n",
    "\n",
    "import pandas as pd\n",
    "import GPy\n",
    "\n",
    "import matplotlib.pyplot as plt\n",
    "import seaborn as sns\n",
    "%matplotlib inline"
   ]
  },
  {
   "cell_type": "code",
   "execution_count": 2,
   "metadata": {
    "collapsed": false
   },
   "outputs": [
    {
     "data": {
      "text/html": [
       "<div>\n",
       "<table border=\"1\" class=\"dataframe\">\n",
       "  <thead>\n",
       "    <tr style=\"text-align: right;\">\n",
       "      <th></th>\n",
       "      <th>score</th>\n",
       "      <th>rec</th>\n",
       "    </tr>\n",
       "  </thead>\n",
       "  <tbody>\n",
       "    <tr>\n",
       "      <th>0</th>\n",
       "      <td>-2</td>\n",
       "      <td>0</td>\n",
       "    </tr>\n",
       "    <tr>\n",
       "      <th>1</th>\n",
       "      <td>-2</td>\n",
       "      <td>0</td>\n",
       "    </tr>\n",
       "    <tr>\n",
       "      <th>2</th>\n",
       "      <td>-1</td>\n",
       "      <td>0</td>\n",
       "    </tr>\n",
       "    <tr>\n",
       "      <th>3</th>\n",
       "      <td>-1</td>\n",
       "      <td>0</td>\n",
       "    </tr>\n",
       "    <tr>\n",
       "      <th>4</th>\n",
       "      <td>-1</td>\n",
       "      <td>0</td>\n",
       "    </tr>\n",
       "  </tbody>\n",
       "</table>\n",
       "</div>"
      ],
      "text/plain": [
       "   score  rec\n",
       "0     -2    0\n",
       "1     -2    0\n",
       "2     -1    0\n",
       "3     -1    0\n",
       "4     -1    0"
      ]
     },
     "execution_count": 2,
     "metadata": {},
     "output_type": "execute_result"
    }
   ],
   "source": [
    "# load in data\n",
    "inp = pd.read_excel(\"DATABASE Helmus 10 yr fixed HR-HN 09-29-2012.xlsx\")\n",
    "# give columns nicer names\n",
    "inp.columns = [\"score\",\"rec\"]\n",
    "# drop the last row of totals\n",
    "inp = inp.iloc[:-1]\n",
    "# display a summary\n",
    "inp.head()"
   ]
  },
  {
   "cell_type": "code",
   "execution_count": 3,
   "metadata": {
    "collapsed": false
   },
   "outputs": [
    {
     "data": {
      "text/html": [
       "<div>\n",
       "<table border=\"1\" class=\"dataframe\">\n",
       "  <thead>\n",
       "    <tr style=\"text-align: right;\">\n",
       "      <th>rec</th>\n",
       "      <th>0</th>\n",
       "      <th>1</th>\n",
       "    </tr>\n",
       "    <tr>\n",
       "      <th>score</th>\n",
       "      <th></th>\n",
       "      <th></th>\n",
       "    </tr>\n",
       "  </thead>\n",
       "  <tbody>\n",
       "    <tr>\n",
       "      <th>-2</th>\n",
       "      <td>2</td>\n",
       "      <td>0</td>\n",
       "    </tr>\n",
       "    <tr>\n",
       "      <th>-1</th>\n",
       "      <td>22</td>\n",
       "      <td>2</td>\n",
       "    </tr>\n",
       "    <tr>\n",
       "      <th>0</th>\n",
       "      <td>28</td>\n",
       "      <td>3</td>\n",
       "    </tr>\n",
       "    <tr>\n",
       "      <th>1</th>\n",
       "      <td>51</td>\n",
       "      <td>5</td>\n",
       "    </tr>\n",
       "    <tr>\n",
       "      <th>2</th>\n",
       "      <td>28</td>\n",
       "      <td>14</td>\n",
       "    </tr>\n",
       "    <tr>\n",
       "      <th>3</th>\n",
       "      <td>60</td>\n",
       "      <td>22</td>\n",
       "    </tr>\n",
       "    <tr>\n",
       "      <th>4</th>\n",
       "      <td>96</td>\n",
       "      <td>34</td>\n",
       "    </tr>\n",
       "    <tr>\n",
       "      <th>5</th>\n",
       "      <td>94</td>\n",
       "      <td>39</td>\n",
       "    </tr>\n",
       "    <tr>\n",
       "      <th>6</th>\n",
       "      <td>51</td>\n",
       "      <td>32</td>\n",
       "    </tr>\n",
       "    <tr>\n",
       "      <th>7</th>\n",
       "      <td>32</td>\n",
       "      <td>29</td>\n",
       "    </tr>\n",
       "    <tr>\n",
       "      <th>8</th>\n",
       "      <td>20</td>\n",
       "      <td>12</td>\n",
       "    </tr>\n",
       "    <tr>\n",
       "      <th>9</th>\n",
       "      <td>9</td>\n",
       "      <td>8</td>\n",
       "    </tr>\n",
       "    <tr>\n",
       "      <th>10</th>\n",
       "      <td>5</td>\n",
       "      <td>4</td>\n",
       "    </tr>\n",
       "    <tr>\n",
       "      <th>11</th>\n",
       "      <td>1</td>\n",
       "      <td>0</td>\n",
       "    </tr>\n",
       "  </tbody>\n",
       "</table>\n",
       "</div>"
      ],
      "text/plain": [
       "rec     0   1\n",
       "score        \n",
       "-2      2   0\n",
       "-1     22   2\n",
       " 0     28   3\n",
       " 1     51   5\n",
       " 2     28  14\n",
       " 3     60  22\n",
       " 4     96  34\n",
       " 5     94  39\n",
       " 6     51  32\n",
       " 7     32  29\n",
       " 8     20  12\n",
       " 9      9   8\n",
       " 10     5   4\n",
       " 11     1   0"
      ]
     },
     "execution_count": 3,
     "metadata": {},
     "output_type": "execute_result"
    }
   ],
   "source": [
    "# cross tabulate the data counting number of entries\n",
    "ct = pd.crosstab(inp.score,inp.rec)\n",
    "ct"
   ]
  },
  {
   "cell_type": "code",
   "execution_count": 4,
   "metadata": {
    "collapsed": false
   },
   "outputs": [
    {
     "name": "stdout",
     "output_type": "stream",
     "text": [
      "\n",
      "Name                              : gp_classification\n",
      "Log-likelihood                    : -1183.6563267719255\n",
      "Number of Parameters              : 2\n",
      "Number of Optimization Parameters : 2\n",
      "Updates                           : True\n",
      "Parameters:\n",
      "  gp_classification.       |      Value       |  Constraint  |  Prior  |  Tied to\n",
      "  \u001b[1mExponential.variance   \u001b[0;0m  |  0.784395048464  |     +ve      |         |         \n",
      "  \u001b[1mExponential.lengthscale\u001b[0;0m  |   16.1593223119  |     +ve      |         |         \n"
     ]
    }
   ],
   "source": [
    "# create our GP regression using an Exponential kernel\n",
    "me = GPy.models.GPClassification(inp[[\"score\"]].values, inp[[\"rec\"]].values,\n",
    "                                GPy.kern.Exponential(1))\n",
    "# optimize hyperparameters\n",
    "me.optimize()\n",
    "# display summary of model\n",
    "print(me)"
   ]
  },
  {
   "cell_type": "code",
   "execution_count": 5,
   "metadata": {
    "collapsed": false
   },
   "outputs": [
    {
     "name": "stdout",
     "output_type": "stream",
     "text": [
      "\n",
      "Name                              : gp_classification\n",
      "Log-likelihood                    : -1182.2751029594572\n",
      "Number of Parameters              : 2\n",
      "Number of Optimization Parameters : 2\n",
      "Updates                           : True\n",
      "Parameters:\n",
      "  gp_classification.  |      Value      |  Constraint  |  Prior  |  Tied to\n",
      "  \u001b[1mMat52.variance    \u001b[0;0m  |  1.30463115832  |     +ve      |         |         \n",
      "  \u001b[1mMat52.lengthscale \u001b[0;0m  |   14.233401485  |     +ve      |         |         \n"
     ]
    }
   ],
   "source": [
    "# and again with a Matern covariance function\n",
    "mm = GPy.models.GPClassification(inp[[\"score\"]].values, inp[[\"rec\"]].values,\n",
    "                                GPy.kern.Matern52(1))\n",
    "# optimize hyperparameters\n",
    "mm.optimize()\n",
    "# display summary of model\n",
    "print(mm)"
   ]
  },
  {
   "cell_type": "code",
   "execution_count": 6,
   "metadata": {
    "collapsed": false
   },
   "outputs": [
    {
     "data": {
      "image/png": "[encoded data removed]",
      "text/plain": [
       "<matplotlib.figure.Figure at 0x109959f28>"
      ]
     },
     "metadata": {},
     "output_type": "display_data"
    }
   ],
   "source": [
    "# pull in CDF function so we can display confidence intervals\n",
    "from GPy.likelihoods.link_functions import std_norm_cdf\n",
    "\n",
    "# get to posteriour of independent estimates with beta(1,1) prior\n",
    "d = sps.beta(1+ct[1], 1+ct[0])\n",
    "\n",
    "# generate some points on which to estimate GP\n",
    "X = np.linspace(-2.5,11.5,101)\n",
    "\n",
    "# get some better colors\n",
    "pal = sns.color_palette()\n",
    "\n",
    "# to make the plots look nice\n",
    "with sns.axes_style(\"ticks\"):\n",
    "    fig,axs = plt.subplots(1,2,sharey=True,figsize=(14,5))\n",
    "\n",
    "# loop over our two GPs\n",
    "for i,(ax,m,kern) in enumerate(zip(axs,[mm,me],[\"Exp\",\"Matern\"])):\n",
    "    # get a prediction from the GP, Y is the mean, Yv is the variance\n",
    "    Y,Yv = m._raw_predict(X[:,None])\n",
    "    Y,Yv = m._raw_predict(X[:,None])\n",
    "\n",
    "    # draw the independent estimates with 95% CI\n",
    "    ax.scatter(ct.index, d.mean(), label=\"Independent Beta(1,1)\",\n",
    "               facecolor='k', edgecolor=None)\n",
    "    ax.vlines(ct.index, d.ppf(0.025), d.ppf(0.975), lw=1)\n",
    "\n",
    "    # draw the GP mean and 95% CI\n",
    "    ax.plot(X, std_norm_cdf(Y), color=pal[i], label=\"%s GP mean + 95%%CI\"%(kern,))\n",
    "    ax.fill_between(X,\n",
    "                    std_norm_cdf(Y - 2*np.sqrt(Yv))[:,0],\n",
    "                    std_norm_cdf(Y + 2*np.sqrt(Yv))[:,0],\n",
    "                    alpha=0.2, color=pal[i], zorder=0)\n",
    "\n",
    "    # add a figure legend\n",
    "    ax.legend(loc=\"upper left\")\n",
    "    # set the axes up nicely\n",
    "    ax.set_xlim(np.min(X), np.max(X))\n",
    "    ax.set_ylim(0,1)\n",
    "    ax.set_xlabel(\"score\")\n",
    "\n",
    "# just a single label on the y axis\n",
    "axs[0].set_ylabel(\"recidivism probability\")\n",
    "\n",
    "# remove lines on the top and right of plot and squeeze everything up nicely\n",
    "sns.despine()\n",
    "plt.tight_layout()"
   ]
  }
 ],
 "metadata": {
  "kernelspec": {
   "display_name": "Python 2",
   "language": "python",
   "name": "python2"
  },
  "language_info": {
   "codemirror_mode": {
    "name": "ipython",
    "version": 2
   },
   "file_extension": ".py",
   "mimetype": "text/x-python",
   "name": "python",
   "nbconvert_exporter": "python",
   "pygments_lexer": "ipython2",
   "version": "2.7.10"
  }
 },
 "nbformat": 4,
 "nbformat_minor": 0
}
