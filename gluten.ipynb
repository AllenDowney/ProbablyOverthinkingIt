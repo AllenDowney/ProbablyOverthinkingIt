{
 "metadata": {
  "name": "",
  "signature": "sha256:edd80f632f99f7e4d1a898b02c873df87c88af1f41b3f8cb9f0e76d46b8d4f89"
 },
 "nbformat": 3,
 "nbformat_minor": 0,
 "worksheets": [
  {
   "cells": [
    {
     "cell_type": "markdown",
     "metadata": {},
     "source": [
      "Evidence of gluten sensitivity\n",
      "------------------------------\n",
      "\n",
      "This notebook contains an exploration of results from this paper:\n",
      "\n",
      "http://onlinelibrary.wiley.com/doi/10.1111/apt.13372/epdf\n",
      "\n",
      "which reports results of a study of gluten sensitivity.\n",
      "\n",
      "Copyright 2015 Allen Downey\n",
      "\n",
      "MIT License: http://opensource.org/licenses/MIT"
     ]
    },
    {
     "cell_type": "code",
     "collapsed": false,
     "input": [
      "from __future__ import print_function, division\n",
      "\n",
      "import thinkbayes2\n",
      "import thinkplot\n",
      "\n",
      "from scipy import stats\n",
      "\n",
      "%matplotlib inline"
     ],
     "language": "python",
     "metadata": {},
     "outputs": [],
     "prompt_number": 1
    },
    {
     "cell_type": "markdown",
     "metadata": {},
     "source": [
      "The following class defines the function that computes the likelihood of the data given the hypothetical number of subjects who are gluten sensitive.\n",
      "\n",
      "I assume that a subject who is gluten sensitive has a 95% chance of successfully identifying gluten flour based on resumption of symptoms, and that a subject who is not gluten sensitive has only a 40% chance of identifying gluten flour (and a 20% chance of detecting no difference).\n",
      "\n",
      "The function works by computing the PMF of the number of gluten identifications conditioned on gs, and then selecting the actual number of identifications from the PMF."
     ]
    },
    {
     "cell_type": "code",
     "collapsed": false,
     "input": [
      "class Gluten(thinkbayes2.Suite):\n",
      "    \n",
      "    def Likelihood(self, data, hypo):\n",
      "        \"\"\"\n",
      "        hypo: int hypothetical # who are gluten sensitive\n",
      "        data: (int, int) # who correctly identify gluten, others\n",
      "        \"\"\"\n",
      "        gs = hypo\n",
      "        yes, no = data\n",
      "        n = yes + no\n",
      "        ngs = n - gs\n",
      "        \n",
      "        pmf1 = thinkbayes2.MakeBinomialPmf(gs, 0.95)\n",
      "        pmf2 = thinkbayes2.MakeBinomialPmf(ngs, 0.4)\n",
      "        pmf = pmf1 + pmf2\n",
      "        return pmf[yes]"
     ],
     "language": "python",
     "metadata": {},
     "outputs": [],
     "prompt_number": 2
    },
    {
     "cell_type": "markdown",
     "metadata": {},
     "source": [
      "The prior is uniform from 0 to 35; that is, there are equally likely to be any number of GS subjects in the study."
     ]
    },
    {
     "cell_type": "code",
     "collapsed": false,
     "input": [
      "data = 12, 23\n",
      "prior = Gluten(range(0, 35+1))\n",
      "thinkplot.Pdf(prior)"
     ],
     "language": "python",
     "metadata": {},
     "outputs": [
      {
       "metadata": {},
       "output_type": "display_data",
       "png": "[encoded data removed]",
       "text": [
        "<matplotlib.figure.Figure at 0x7fdc7f2d00d0>"
       ]
      }
     ],
     "prompt_number": 3
    },
    {
     "cell_type": "raw",
     "metadata": {},
     "source": [
      "Here's the update."
     ]
    },
    {
     "cell_type": "code",
     "collapsed": false,
     "input": [
      "posterior = prior.Copy()\n",
      "posterior.Update(data)"
     ],
     "language": "python",
     "metadata": {},
     "outputs": [
      {
       "metadata": {},
       "output_type": "pyout",
       "prompt_number": 4,
       "text": [
        "0.013207615690597462"
       ]
      }
     ],
     "prompt_number": 4
    },
    {
     "cell_type": "markdown",
     "metadata": {},
     "source": [
      "Here's what the posterior looks like."
     ]
    },
    {
     "cell_type": "code",
     "collapsed": false,
     "input": [
      "thinkplot.PrePlot(1)\n",
      "thinkplot.Pdf(posterior)\n",
      "thinkplot.Config(xlabel='# who are gluten sensitive', \n",
      "                 ylabel='PMF', legend=False)\n",
      "#thinkplot.Save(root='gluten1', formats=['png'])"
     ],
     "language": "python",
     "metadata": {},
     "outputs": [
      {
       "metadata": {},
       "output_type": "display_data",
       "png": "[encoded data removed]",
       "text": [
        "<matplotlib.figure.Figure at 0x7fdc4ea0b390>"
       ]
      }
     ],
     "prompt_number": 5
    },
    {
     "cell_type": "markdown",
     "metadata": {},
     "source": [
      "And the posterior credible intervals."
     ]
    },
    {
     "cell_type": "code",
     "collapsed": false,
     "input": [
      "posterior.CredibleInterval(90)"
     ],
     "language": "python",
     "metadata": {},
     "outputs": [
      {
       "metadata": {},
       "output_type": "pyout",
       "prompt_number": 6,
       "text": [
        "(0, 7)"
       ]
      }
     ],
     "prompt_number": 6
    },
    {
     "cell_type": "markdown",
     "metadata": {},
     "source": []
    },
    {
     "cell_type": "code",
     "collapsed": false,
     "input": [
      "posterior.CredibleInterval(95)"
     ],
     "language": "python",
     "metadata": {},
     "outputs": [
      {
       "metadata": {},
       "output_type": "pyout",
       "prompt_number": 7,
       "text": [
        "(0, 8)"
       ]
      }
     ],
     "prompt_number": 7
    },
    {
     "cell_type": "markdown",
     "metadata": {},
     "source": [
      "We can also compare to a null hypothesis in which none of the respondents are gluten sensitive."
     ]
    },
    {
     "cell_type": "code",
     "collapsed": false,
     "input": [
      "prior2 = Gluten([0])\n",
      "prior2.Update(data)"
     ],
     "language": "python",
     "metadata": {},
     "outputs": [
      {
       "metadata": {},
       "output_type": "pyout",
       "prompt_number": 8,
       "text": [
        "0.11056047873865611"
       ]
      }
     ],
     "prompt_number": 8
    },
    {
     "cell_type": "markdown",
     "metadata": {},
     "source": [
      "The Bayes factor in favor of the null hypothesis is about 8, which is moderate evidence.  If you started thinking the probability of the null was 50%, you should not believe it is about 90%."
     ]
    },
    {
     "cell_type": "code",
     "collapsed": false,
     "input": [
      "0.11 / 0.013"
     ],
     "language": "python",
     "metadata": {},
     "outputs": [
      {
       "metadata": {},
       "output_type": "pyout",
       "prompt_number": 9,
       "text": [
        "8.461538461538462"
       ]
      }
     ],
     "prompt_number": 9
    },
    {
     "cell_type": "code",
     "collapsed": false,
     "input": [
      "8.5/9.5"
     ],
     "language": "python",
     "metadata": {},
     "outputs": [
      {
       "metadata": {},
       "output_type": "pyout",
       "prompt_number": 10,
       "text": [
        "0.8947368421052632"
       ]
      }
     ],
     "prompt_number": 10
    },
    {
     "cell_type": "code",
     "collapsed": false,
     "input": [],
     "language": "python",
     "metadata": {},
     "outputs": [],
     "prompt_number": 10
    }
   ],
   "metadata": {}
  }
 ]
}