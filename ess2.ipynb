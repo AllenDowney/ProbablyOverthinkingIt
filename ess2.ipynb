{
 "cells": [
  {
   "cell_type": "markdown",
   "metadata": {},
   "source": [
    "Internet use and religion in Europe\n",
    "-----------------------------------------\n",
    "\n",
    "This notebook presents a quick-and-dirty analysis of the association between Internet use and religion in Europe, using data from the European Social Survey (http://www.europeansocialsurvey.org).\n",
    "\n",
    "Copyright 2015 Allen Downey\n",
    "\n",
    "MIT License: http://opensource.org/licenses/MIT"
   ]
  },
  {
   "cell_type": "code",
   "execution_count": 1,
   "metadata": {
    "collapsed": true
   },
   "outputs": [],
   "source": [
    "from __future__ import print_function, division\n",
    "\n",
    "import numpy as np\n",
    "import pandas as pd\n",
    "\n",
    "import thinkstats2\n",
    "import thinkplot\n",
    "\n",
    "import statsmodels.formula.api as smf\n",
    "\n",
    "%matplotlib inline"
   ]
  },
  {
   "cell_type": "markdown",
   "metadata": {},
   "source": [
    "The following function selects the columns I need."
   ]
  },
  {
   "cell_type": "code",
   "execution_count": 2,
   "metadata": {
    "collapsed": false
   },
   "outputs": [],
   "source": [
    "def read_cycle(filename):\n",
    "    \"\"\"Reads a file containing ESS data and selects columns.\n",
    "    \n",
    "    filename: string\n",
    "    \n",
    "    returns: DataFrame\n",
    "    \"\"\" \n",
    "    df = pd.read_stata(filename, convert_categoricals=False)\n",
    "\n",
    "    if 'hinctnta' not in df.columns:\n",
    "        df['hinctnta'] = df.hinctnt\n",
    "        \n",
    "    cols = ['cntry', 'tvtot', 'tvpol', 'rdtot', 'rdpol', 'nwsptot', 'nwsppol', 'netuse', \n",
    "            'rlgblg', 'rlgdgr', 'eduyrs', 'hinctnta', 'yrbrn', 'eisced', 'pspwght', 'pweight']\n",
    "    df = df[cols]\n",
    "    return df"
   ]
  },
  {
   "cell_type": "markdown",
   "metadata": {},
   "source": [
    "Read data from Cycle 1."
   ]
  },
  {
   "cell_type": "code",
   "execution_count": 3,
   "metadata": {
    "collapsed": false
   },
   "outputs": [
    {
     "data": {
      "text/html": [
       "<div>\n",
       "<table border=\"1\" class=\"dataframe\">\n",
       "  <thead>\n",
       "    <tr style=\"text-align: right;\">\n",
       "      <th></th>\n",
       "      <th>cntry</th>\n",
       "      <th>tvtot</th>\n",
       "      <th>tvpol</th>\n",
       "      <th>rdtot</th>\n",
       "      <th>rdpol</th>\n",
       "      <th>nwsptot</th>\n",
       "      <th>nwsppol</th>\n",
       "      <th>netuse</th>\n",
       "      <th>rlgblg</th>\n",
       "      <th>rlgdgr</th>\n",
       "      <th>eduyrs</th>\n",
       "      <th>hinctnta</th>\n",
       "      <th>yrbrn</th>\n",
       "      <th>eisced</th>\n",
       "      <th>pspwght</th>\n",
       "      <th>pweight</th>\n",
       "    </tr>\n",
       "  </thead>\n",
       "  <tbody>\n",
       "    <tr>\n",
       "      <th>0</th>\n",
       "      <td>AT</td>\n",
       "      <td>1</td>\n",
       "      <td>1</td>\n",
       "      <td>1</td>\n",
       "      <td>1</td>\n",
       "      <td>1</td>\n",
       "      <td>1</td>\n",
       "      <td>5</td>\n",
       "      <td>1</td>\n",
       "      <td>8</td>\n",
       "      <td>11</td>\n",
       "      <td>77</td>\n",
       "      <td>1949</td>\n",
       "      <td>0</td>\n",
       "      <td>0.940933</td>\n",
       "      <td>0.271488</td>\n",
       "    </tr>\n",
       "    <tr>\n",
       "      <th>1</th>\n",
       "      <td>AT</td>\n",
       "      <td>3</td>\n",
       "      <td>2</td>\n",
       "      <td>4</td>\n",
       "      <td>1</td>\n",
       "      <td>2</td>\n",
       "      <td>2</td>\n",
       "      <td>6</td>\n",
       "      <td>2</td>\n",
       "      <td>5</td>\n",
       "      <td>14</td>\n",
       "      <td>2</td>\n",
       "      <td>1953</td>\n",
       "      <td>0</td>\n",
       "      <td>0.470466</td>\n",
       "      <td>0.271488</td>\n",
       "    </tr>\n",
       "    <tr>\n",
       "      <th>2</th>\n",
       "      <td>AT</td>\n",
       "      <td>7</td>\n",
       "      <td>3</td>\n",
       "      <td>0</td>\n",
       "      <td>66</td>\n",
       "      <td>0</td>\n",
       "      <td>66</td>\n",
       "      <td>0</td>\n",
       "      <td>1</td>\n",
       "      <td>7</td>\n",
       "      <td>9</td>\n",
       "      <td>77</td>\n",
       "      <td>1940</td>\n",
       "      <td>0</td>\n",
       "      <td>1.392155</td>\n",
       "      <td>0.271488</td>\n",
       "    </tr>\n",
       "    <tr>\n",
       "      <th>3</th>\n",
       "      <td>AT</td>\n",
       "      <td>1</td>\n",
       "      <td>1</td>\n",
       "      <td>1</td>\n",
       "      <td>1</td>\n",
       "      <td>2</td>\n",
       "      <td>2</td>\n",
       "      <td>4</td>\n",
       "      <td>1</td>\n",
       "      <td>7</td>\n",
       "      <td>18</td>\n",
       "      <td>9</td>\n",
       "      <td>1959</td>\n",
       "      <td>0</td>\n",
       "      <td>1.382163</td>\n",
       "      <td>0.271488</td>\n",
       "    </tr>\n",
       "    <tr>\n",
       "      <th>4</th>\n",
       "      <td>AT</td>\n",
       "      <td>0</td>\n",
       "      <td>66</td>\n",
       "      <td>1</td>\n",
       "      <td>1</td>\n",
       "      <td>0</td>\n",
       "      <td>66</td>\n",
       "      <td>7</td>\n",
       "      <td>1</td>\n",
       "      <td>10</td>\n",
       "      <td>15</td>\n",
       "      <td>9</td>\n",
       "      <td>1962</td>\n",
       "      <td>0</td>\n",
       "      <td>1.437766</td>\n",
       "      <td>0.271488</td>\n",
       "    </tr>\n",
       "  </tbody>\n",
       "</table>\n",
       "</div>"
      ],
      "text/plain": [
       "  cntry  tvtot  tvpol  rdtot  rdpol  nwsptot  nwsppol  netuse  rlgblg  rlgdgr  \\\n",
       "0    AT      1      1      1      1        1        1       5       1       8   \n",
       "1    AT      3      2      4      1        2        2       6       2       5   \n",
       "2    AT      7      3      0     66        0       66       0       1       7   \n",
       "3    AT      1      1      1      1        2        2       4       1       7   \n",
       "4    AT      0     66      1      1        0       66       7       1      10   \n",
       "\n",
       "   eduyrs  hinctnta  yrbrn  eisced   pspwght   pweight  \n",
       "0      11        77   1949       0  0.940933  0.271488  \n",
       "1      14         2   1953       0  0.470466  0.271488  \n",
       "2       9        77   1940       0  1.392155  0.271488  \n",
       "3      18         9   1959       0  1.382163  0.271488  \n",
       "4      15         9   1962       0  1.437766  0.271488  "
      ]
     },
     "execution_count": 3,
     "metadata": {},
     "output_type": "execute_result"
    }
   ],
   "source": [
    "df1 = read_cycle('ESS1e06_4.dta')\n",
    "df1.head()"
   ]
  },
  {
   "cell_type": "markdown",
   "metadata": {},
   "source": [
    "Read data from Cycle 2."
   ]
  },
  {
   "cell_type": "code",
   "execution_count": 4,
   "metadata": {
    "collapsed": false
   },
   "outputs": [
    {
     "data": {
      "text/html": [
       "<div>\n",
       "<table border=\"1\" class=\"dataframe\">\n",
       "  <thead>\n",
       "    <tr style=\"text-align: right;\">\n",
       "      <th></th>\n",
       "      <th>cntry</th>\n",
       "      <th>tvtot</th>\n",
       "      <th>tvpol</th>\n",
       "      <th>rdtot</th>\n",
       "      <th>rdpol</th>\n",
       "      <th>nwsptot</th>\n",
       "      <th>nwsppol</th>\n",
       "      <th>netuse</th>\n",
       "      <th>rlgblg</th>\n",
       "      <th>rlgdgr</th>\n",
       "      <th>eduyrs</th>\n",
       "      <th>hinctnta</th>\n",
       "      <th>yrbrn</th>\n",
       "      <th>eisced</th>\n",
       "      <th>pspwght</th>\n",
       "      <th>pweight</th>\n",
       "    </tr>\n",
       "  </thead>\n",
       "  <tbody>\n",
       "    <tr>\n",
       "      <th>0</th>\n",
       "      <td>AT</td>\n",
       "      <td>3</td>\n",
       "      <td>2</td>\n",
       "      <td>0</td>\n",
       "      <td>66</td>\n",
       "      <td>4</td>\n",
       "      <td>2</td>\n",
       "      <td>7</td>\n",
       "      <td>1</td>\n",
       "      <td>7</td>\n",
       "      <td>12</td>\n",
       "      <td>8</td>\n",
       "      <td>1971</td>\n",
       "      <td>0</td>\n",
       "      <td>0.682185</td>\n",
       "      <td>0.302006</td>\n",
       "    </tr>\n",
       "    <tr>\n",
       "      <th>1</th>\n",
       "      <td>AT</td>\n",
       "      <td>7</td>\n",
       "      <td>2</td>\n",
       "      <td>3</td>\n",
       "      <td>1</td>\n",
       "      <td>5</td>\n",
       "      <td>2</td>\n",
       "      <td>0</td>\n",
       "      <td>1</td>\n",
       "      <td>7</td>\n",
       "      <td>8</td>\n",
       "      <td>4</td>\n",
       "      <td>1925</td>\n",
       "      <td>0</td>\n",
       "      <td>0.565038</td>\n",
       "      <td>0.302006</td>\n",
       "    </tr>\n",
       "    <tr>\n",
       "      <th>2</th>\n",
       "      <td>AT</td>\n",
       "      <td>6</td>\n",
       "      <td>2</td>\n",
       "      <td>1</td>\n",
       "      <td>0</td>\n",
       "      <td>1</td>\n",
       "      <td>0</td>\n",
       "      <td>6</td>\n",
       "      <td>2</td>\n",
       "      <td>4</td>\n",
       "      <td>13</td>\n",
       "      <td>6</td>\n",
       "      <td>1977</td>\n",
       "      <td>0</td>\n",
       "      <td>0.341133</td>\n",
       "      <td>0.302006</td>\n",
       "    </tr>\n",
       "    <tr>\n",
       "      <th>3</th>\n",
       "      <td>AT</td>\n",
       "      <td>3</td>\n",
       "      <td>1</td>\n",
       "      <td>2</td>\n",
       "      <td>1</td>\n",
       "      <td>2</td>\n",
       "      <td>1</td>\n",
       "      <td>7</td>\n",
       "      <td>1</td>\n",
       "      <td>5</td>\n",
       "      <td>8</td>\n",
       "      <td>9</td>\n",
       "      <td>1989</td>\n",
       "      <td>0</td>\n",
       "      <td>0.804050</td>\n",
       "      <td>0.302006</td>\n",
       "    </tr>\n",
       "    <tr>\n",
       "      <th>4</th>\n",
       "      <td>AT</td>\n",
       "      <td>2</td>\n",
       "      <td>1</td>\n",
       "      <td>1</td>\n",
       "      <td>1</td>\n",
       "      <td>1</td>\n",
       "      <td>1</td>\n",
       "      <td>4</td>\n",
       "      <td>2</td>\n",
       "      <td>1</td>\n",
       "      <td>11</td>\n",
       "      <td>88</td>\n",
       "      <td>1988</td>\n",
       "      <td>0</td>\n",
       "      <td>1.125251</td>\n",
       "      <td>0.302006</td>\n",
       "    </tr>\n",
       "  </tbody>\n",
       "</table>\n",
       "</div>"
      ],
      "text/plain": [
       "  cntry  tvtot  tvpol  rdtot  rdpol  nwsptot  nwsppol  netuse  rlgblg  rlgdgr  \\\n",
       "0    AT      3      2      0     66        4        2       7       1       7   \n",
       "1    AT      7      2      3      1        5        2       0       1       7   \n",
       "2    AT      6      2      1      0        1        0       6       2       4   \n",
       "3    AT      3      1      2      1        2        1       7       1       5   \n",
       "4    AT      2      1      1      1        1        1       4       2       1   \n",
       "\n",
       "   eduyrs  hinctnta  yrbrn  eisced   pspwght   pweight  \n",
       "0      12         8   1971       0  0.682185  0.302006  \n",
       "1       8         4   1925       0  0.565038  0.302006  \n",
       "2      13         6   1977       0  0.341133  0.302006  \n",
       "3       8         9   1989       0  0.804050  0.302006  \n",
       "4      11        88   1988       0  1.125251  0.302006  "
      ]
     },
     "execution_count": 4,
     "metadata": {},
     "output_type": "execute_result"
    }
   ],
   "source": [
    "df2 = read_cycle('ESS2e03_4.dta')\n",
    "df2.head()"
   ]
  },
  {
   "cell_type": "markdown",
   "metadata": {},
   "source": [
    "Read data from Cycle 3."
   ]
  },
  {
   "cell_type": "code",
   "execution_count": 5,
   "metadata": {
    "collapsed": false
   },
   "outputs": [
    {
     "data": {
      "text/html": [
       "<div>\n",
       "<table border=\"1\" class=\"dataframe\">\n",
       "  <thead>\n",
       "    <tr style=\"text-align: right;\">\n",
       "      <th></th>\n",
       "      <th>cntry</th>\n",
       "      <th>tvtot</th>\n",
       "      <th>tvpol</th>\n",
       "      <th>rdtot</th>\n",
       "      <th>rdpol</th>\n",
       "      <th>nwsptot</th>\n",
       "      <th>nwsppol</th>\n",
       "      <th>netuse</th>\n",
       "      <th>rlgblg</th>\n",
       "      <th>rlgdgr</th>\n",
       "      <th>eduyrs</th>\n",
       "      <th>hinctnta</th>\n",
       "      <th>yrbrn</th>\n",
       "      <th>eisced</th>\n",
       "      <th>pspwght</th>\n",
       "      <th>pweight</th>\n",
       "    </tr>\n",
       "  </thead>\n",
       "  <tbody>\n",
       "    <tr>\n",
       "      <th>0</th>\n",
       "      <td>AT</td>\n",
       "      <td>5</td>\n",
       "      <td>1</td>\n",
       "      <td>7</td>\n",
       "      <td>2</td>\n",
       "      <td>0</td>\n",
       "      <td>66</td>\n",
       "      <td>6</td>\n",
       "      <td>1</td>\n",
       "      <td>3</td>\n",
       "      <td>11</td>\n",
       "      <td>7</td>\n",
       "      <td>1980</td>\n",
       "      <td>0</td>\n",
       "      <td>0.949578</td>\n",
       "      <td>0.289116</td>\n",
       "    </tr>\n",
       "    <tr>\n",
       "      <th>1</th>\n",
       "      <td>AT</td>\n",
       "      <td>3</td>\n",
       "      <td>1</td>\n",
       "      <td>2</td>\n",
       "      <td>1</td>\n",
       "      <td>2</td>\n",
       "      <td>1</td>\n",
       "      <td>7</td>\n",
       "      <td>1</td>\n",
       "      <td>9</td>\n",
       "      <td>20</td>\n",
       "      <td>5</td>\n",
       "      <td>1974</td>\n",
       "      <td>0</td>\n",
       "      <td>1.412180</td>\n",
       "      <td>0.289116</td>\n",
       "    </tr>\n",
       "    <tr>\n",
       "      <th>2</th>\n",
       "      <td>AT</td>\n",
       "      <td>1</td>\n",
       "      <td>1</td>\n",
       "      <td>7</td>\n",
       "      <td>2</td>\n",
       "      <td>2</td>\n",
       "      <td>1</td>\n",
       "      <td>7</td>\n",
       "      <td>1</td>\n",
       "      <td>6</td>\n",
       "      <td>16</td>\n",
       "      <td>77</td>\n",
       "      <td>1954</td>\n",
       "      <td>0</td>\n",
       "      <td>0.723276</td>\n",
       "      <td>0.289116</td>\n",
       "    </tr>\n",
       "    <tr>\n",
       "      <th>3</th>\n",
       "      <td>AT</td>\n",
       "      <td>4</td>\n",
       "      <td>1</td>\n",
       "      <td>7</td>\n",
       "      <td>2</td>\n",
       "      <td>3</td>\n",
       "      <td>2</td>\n",
       "      <td>6</td>\n",
       "      <td>1</td>\n",
       "      <td>5</td>\n",
       "      <td>12</td>\n",
       "      <td>88</td>\n",
       "      <td>1967</td>\n",
       "      <td>0</td>\n",
       "      <td>0.625744</td>\n",
       "      <td>0.289116</td>\n",
       "    </tr>\n",
       "    <tr>\n",
       "      <th>4</th>\n",
       "      <td>AT</td>\n",
       "      <td>6</td>\n",
       "      <td>2</td>\n",
       "      <td>6</td>\n",
       "      <td>2</td>\n",
       "      <td>3</td>\n",
       "      <td>1</td>\n",
       "      <td>0</td>\n",
       "      <td>1</td>\n",
       "      <td>7</td>\n",
       "      <td>11</td>\n",
       "      <td>88</td>\n",
       "      <td>1971</td>\n",
       "      <td>0</td>\n",
       "      <td>0.417162</td>\n",
       "      <td>0.289116</td>\n",
       "    </tr>\n",
       "  </tbody>\n",
       "</table>\n",
       "</div>"
      ],
      "text/plain": [
       "  cntry  tvtot  tvpol  rdtot  rdpol  nwsptot  nwsppol  netuse  rlgblg  rlgdgr  \\\n",
       "0    AT      5      1      7      2        0       66       6       1       3   \n",
       "1    AT      3      1      2      1        2        1       7       1       9   \n",
       "2    AT      1      1      7      2        2        1       7       1       6   \n",
       "3    AT      4      1      7      2        3        2       6       1       5   \n",
       "4    AT      6      2      6      2        3        1       0       1       7   \n",
       "\n",
       "   eduyrs  hinctnta  yrbrn  eisced   pspwght   pweight  \n",
       "0      11         7   1980       0  0.949578  0.289116  \n",
       "1      20         5   1974       0  1.412180  0.289116  \n",
       "2      16        77   1954       0  0.723276  0.289116  \n",
       "3      12        88   1967       0  0.625744  0.289116  \n",
       "4      11        88   1971       0  0.417162  0.289116  "
      ]
     },
     "execution_count": 5,
     "metadata": {},
     "output_type": "execute_result"
    }
   ],
   "source": [
    "df3 = read_cycle('ESS3e03_5.dta')\n",
    "df3.head()"
   ]
  },
  {
   "cell_type": "markdown",
   "metadata": {},
   "source": [
    "Read data from Cycle 4."
   ]
  },
  {
   "cell_type": "code",
   "execution_count": 6,
   "metadata": {
    "collapsed": false
   },
   "outputs": [
    {
     "data": {
      "text/html": [
       "<div>\n",
       "<table border=\"1\" class=\"dataframe\">\n",
       "  <thead>\n",
       "    <tr style=\"text-align: right;\">\n",
       "      <th></th>\n",
       "      <th>cntry</th>\n",
       "      <th>tvtot</th>\n",
       "      <th>tvpol</th>\n",
       "      <th>rdtot</th>\n",
       "      <th>rdpol</th>\n",
       "      <th>nwsptot</th>\n",
       "      <th>nwsppol</th>\n",
       "      <th>netuse</th>\n",
       "      <th>rlgblg</th>\n",
       "      <th>rlgdgr</th>\n",
       "      <th>eduyrs</th>\n",
       "      <th>hinctnta</th>\n",
       "      <th>yrbrn</th>\n",
       "      <th>eisced</th>\n",
       "      <th>pspwght</th>\n",
       "      <th>pweight</th>\n",
       "    </tr>\n",
       "  </thead>\n",
       "  <tbody>\n",
       "    <tr>\n",
       "      <th>0</th>\n",
       "      <td>BE</td>\n",
       "      <td>7</td>\n",
       "      <td>1</td>\n",
       "      <td>0</td>\n",
       "      <td>66</td>\n",
       "      <td>0</td>\n",
       "      <td>66</td>\n",
       "      <td>0</td>\n",
       "      <td>2</td>\n",
       "      <td>1</td>\n",
       "      <td>18</td>\n",
       "      <td>4</td>\n",
       "      <td>1972</td>\n",
       "      <td>6</td>\n",
       "      <td>0.823223</td>\n",
       "      <td>0.503773</td>\n",
       "    </tr>\n",
       "    <tr>\n",
       "      <th>1</th>\n",
       "      <td>BE</td>\n",
       "      <td>7</td>\n",
       "      <td>2</td>\n",
       "      <td>7</td>\n",
       "      <td>3</td>\n",
       "      <td>0</td>\n",
       "      <td>66</td>\n",
       "      <td>0</td>\n",
       "      <td>2</td>\n",
       "      <td>0</td>\n",
       "      <td>15</td>\n",
       "      <td>7</td>\n",
       "      <td>1982</td>\n",
       "      <td>6</td>\n",
       "      <td>0.798610</td>\n",
       "      <td>0.503773</td>\n",
       "    </tr>\n",
       "    <tr>\n",
       "      <th>2</th>\n",
       "      <td>BE</td>\n",
       "      <td>2</td>\n",
       "      <td>2</td>\n",
       "      <td>3</td>\n",
       "      <td>3</td>\n",
       "      <td>3</td>\n",
       "      <td>3</td>\n",
       "      <td>7</td>\n",
       "      <td>1</td>\n",
       "      <td>6</td>\n",
       "      <td>18</td>\n",
       "      <td>10</td>\n",
       "      <td>1940</td>\n",
       "      <td>7</td>\n",
       "      <td>0.778020</td>\n",
       "      <td>0.503773</td>\n",
       "    </tr>\n",
       "    <tr>\n",
       "      <th>3</th>\n",
       "      <td>BE</td>\n",
       "      <td>7</td>\n",
       "      <td>2</td>\n",
       "      <td>2</td>\n",
       "      <td>2</td>\n",
       "      <td>2</td>\n",
       "      <td>2</td>\n",
       "      <td>0</td>\n",
       "      <td>1</td>\n",
       "      <td>6</td>\n",
       "      <td>15</td>\n",
       "      <td>7</td>\n",
       "      <td>1931</td>\n",
       "      <td>6</td>\n",
       "      <td>0.777735</td>\n",
       "      <td>0.503773</td>\n",
       "    </tr>\n",
       "    <tr>\n",
       "      <th>4</th>\n",
       "      <td>BE</td>\n",
       "      <td>0</td>\n",
       "      <td>66</td>\n",
       "      <td>3</td>\n",
       "      <td>0</td>\n",
       "      <td>1</td>\n",
       "      <td>1</td>\n",
       "      <td>7</td>\n",
       "      <td>2</td>\n",
       "      <td>0</td>\n",
       "      <td>13</td>\n",
       "      <td>7</td>\n",
       "      <td>1982</td>\n",
       "      <td>4</td>\n",
       "      <td>0.960960</td>\n",
       "      <td>0.503773</td>\n",
       "    </tr>\n",
       "  </tbody>\n",
       "</table>\n",
       "</div>"
      ],
      "text/plain": [
       "  cntry  tvtot  tvpol  rdtot  rdpol  nwsptot  nwsppol  netuse  rlgblg  rlgdgr  \\\n",
       "0    BE      7      1      0     66        0       66       0       2       1   \n",
       "1    BE      7      2      7      3        0       66       0       2       0   \n",
       "2    BE      2      2      3      3        3        3       7       1       6   \n",
       "3    BE      7      2      2      2        2        2       0       1       6   \n",
       "4    BE      0     66      3      0        1        1       7       2       0   \n",
       "\n",
       "   eduyrs  hinctnta  yrbrn  eisced   pspwght   pweight  \n",
       "0      18         4   1972       6  0.823223  0.503773  \n",
       "1      15         7   1982       6  0.798610  0.503773  \n",
       "2      18        10   1940       7  0.778020  0.503773  \n",
       "3      15         7   1931       6  0.777735  0.503773  \n",
       "4      13         7   1982       4  0.960960  0.503773  "
      ]
     },
     "execution_count": 6,
     "metadata": {},
     "output_type": "execute_result"
    }
   ],
   "source": [
    "df4 = read_cycle('ESS4e04_3.dta')\n",
    "df4.head()"
   ]
  },
  {
   "cell_type": "markdown",
   "metadata": {},
   "source": [
    "Read data from Cycle 5."
   ]
  },
  {
   "cell_type": "code",
   "execution_count": 7,
   "metadata": {
    "collapsed": false
   },
   "outputs": [
    {
     "data": {
      "text/html": [
       "<div>\n",
       "<table border=\"1\" class=\"dataframe\">\n",
       "  <thead>\n",
       "    <tr style=\"text-align: right;\">\n",
       "      <th></th>\n",
       "      <th>cntry</th>\n",
       "      <th>tvtot</th>\n",
       "      <th>tvpol</th>\n",
       "      <th>rdtot</th>\n",
       "      <th>rdpol</th>\n",
       "      <th>nwsptot</th>\n",
       "      <th>nwsppol</th>\n",
       "      <th>netuse</th>\n",
       "      <th>rlgblg</th>\n",
       "      <th>rlgdgr</th>\n",
       "      <th>eduyrs</th>\n",
       "      <th>hinctnta</th>\n",
       "      <th>yrbrn</th>\n",
       "      <th>eisced</th>\n",
       "      <th>pspwght</th>\n",
       "      <th>pweight</th>\n",
       "    </tr>\n",
       "  </thead>\n",
       "  <tbody>\n",
       "    <tr>\n",
       "      <th>0</th>\n",
       "      <td>BE</td>\n",
       "      <td>5</td>\n",
       "      <td>1</td>\n",
       "      <td>1</td>\n",
       "      <td>0</td>\n",
       "      <td>1</td>\n",
       "      <td>1</td>\n",
       "      <td>2</td>\n",
       "      <td>1</td>\n",
       "      <td>5</td>\n",
       "      <td>15</td>\n",
       "      <td>88</td>\n",
       "      <td>1988</td>\n",
       "      <td>4</td>\n",
       "      <td>0.792865</td>\n",
       "      <td>0.528619</td>\n",
       "    </tr>\n",
       "    <tr>\n",
       "      <th>1</th>\n",
       "      <td>BE</td>\n",
       "      <td>4</td>\n",
       "      <td>3</td>\n",
       "      <td>2</td>\n",
       "      <td>2</td>\n",
       "      <td>1</td>\n",
       "      <td>2</td>\n",
       "      <td>6</td>\n",
       "      <td>2</td>\n",
       "      <td>7</td>\n",
       "      <td>15</td>\n",
       "      <td>5</td>\n",
       "      <td>1967</td>\n",
       "      <td>6</td>\n",
       "      <td>0.871107</td>\n",
       "      <td>0.528619</td>\n",
       "    </tr>\n",
       "    <tr>\n",
       "      <th>2</th>\n",
       "      <td>BE</td>\n",
       "      <td>4</td>\n",
       "      <td>0</td>\n",
       "      <td>0</td>\n",
       "      <td>66</td>\n",
       "      <td>0</td>\n",
       "      <td>66</td>\n",
       "      <td>7</td>\n",
       "      <td>2</td>\n",
       "      <td>0</td>\n",
       "      <td>13</td>\n",
       "      <td>1</td>\n",
       "      <td>1991</td>\n",
       "      <td>3</td>\n",
       "      <td>0.799453</td>\n",
       "      <td>0.528619</td>\n",
       "    </tr>\n",
       "    <tr>\n",
       "      <th>3</th>\n",
       "      <td>BE</td>\n",
       "      <td>2</td>\n",
       "      <td>2</td>\n",
       "      <td>7</td>\n",
       "      <td>2</td>\n",
       "      <td>0</td>\n",
       "      <td>66</td>\n",
       "      <td>7</td>\n",
       "      <td>1</td>\n",
       "      <td>5</td>\n",
       "      <td>15</td>\n",
       "      <td>10</td>\n",
       "      <td>1987</td>\n",
       "      <td>6</td>\n",
       "      <td>0.816030</td>\n",
       "      <td>0.528619</td>\n",
       "    </tr>\n",
       "    <tr>\n",
       "      <th>4</th>\n",
       "      <td>BE</td>\n",
       "      <td>7</td>\n",
       "      <td>3</td>\n",
       "      <td>7</td>\n",
       "      <td>4</td>\n",
       "      <td>0</td>\n",
       "      <td>66</td>\n",
       "      <td>0</td>\n",
       "      <td>2</td>\n",
       "      <td>5</td>\n",
       "      <td>15</td>\n",
       "      <td>6</td>\n",
       "      <td>1952</td>\n",
       "      <td>6</td>\n",
       "      <td>0.764902</td>\n",
       "      <td>0.528619</td>\n",
       "    </tr>\n",
       "  </tbody>\n",
       "</table>\n",
       "</div>"
      ],
      "text/plain": [
       "  cntry  tvtot  tvpol  rdtot  rdpol  nwsptot  nwsppol  netuse  rlgblg  rlgdgr  \\\n",
       "0    BE      5      1      1      0        1        1       2       1       5   \n",
       "1    BE      4      3      2      2        1        2       6       2       7   \n",
       "2    BE      4      0      0     66        0       66       7       2       0   \n",
       "3    BE      2      2      7      2        0       66       7       1       5   \n",
       "4    BE      7      3      7      4        0       66       0       2       5   \n",
       "\n",
       "   eduyrs  hinctnta  yrbrn  eisced   pspwght   pweight  \n",
       "0      15        88   1988       4  0.792865  0.528619  \n",
       "1      15         5   1967       6  0.871107  0.528619  \n",
       "2      13         1   1991       3  0.799453  0.528619  \n",
       "3      15        10   1987       6  0.816030  0.528619  \n",
       "4      15         6   1952       6  0.764902  0.528619  "
      ]
     },
     "execution_count": 7,
     "metadata": {},
     "output_type": "execute_result"
    }
   ],
   "source": [
    "df5 = read_cycle('ESS5e03_2.dta')\n",
    "df5.head()"
   ]
  },
  {
   "cell_type": "code",
   "execution_count": 8,
   "metadata": {
    "collapsed": true
   },
   "outputs": [],
   "source": [
    "def clean_cycle(df):\n",
    "    \"\"\"Cleans data from one cycle.\n",
    "    \n",
    "    df: DataFrame\n",
    "    \"\"\"\n",
    "    df.tvtot.replace([77, 88, 99], np.nan, inplace=True)\n",
    "    df.rdtot.replace([77, 88, 99], np.nan, inplace=True)\n",
    "    df.nwsptot.replace([77, 88, 99], np.nan, inplace=True)\n",
    "    df.netuse.replace([77, 88, 99], np.nan, inplace=True)\n",
    "    df.tvpol.replace([66, 77, 88, 99], np.nan, inplace=True)\n",
    "    df.rdpol.replace([66, 77, 88, 99], np.nan, inplace=True)\n",
    "    df.nwsppol.replace([66, 77, 88, 99], np.nan, inplace=True)\n",
    "    df.eduyrs.replace([77, 88, 99], np.nan, inplace=True)\n",
    "    df.rlgblg.replace([7, 8, 9], np.nan, inplace=True)\n",
    "    df.rlgdgr.replace([77, 88, 99], np.nan, inplace=True)\n",
    "    df.hinctnta.replace([77, 88, 99], np.nan, inplace=True)\n",
    "    df.yrbrn.replace([7777, 8888, 9999], np.nan, inplace=True)\n",
    "    \n",
    "    df['hasrelig'] = (df.rlgblg==1).astype(int)\n",
    "    df.loc[df.rlgblg.isnull(), 'hasrelig'] = np.nan\n",
    "    \n",
    "    df['yrbrn60'] = df.yrbrn - 1960"
   ]
  },
  {
   "cell_type": "code",
   "execution_count": 9,
   "metadata": {
    "collapsed": false
   },
   "outputs": [],
   "source": [
    "cycles = [df1, df2, df3, df4, df5]\n",
    "for cycle in cycles:\n",
    "    clean_cycle(cycle)"
   ]
  },
  {
   "cell_type": "code",
   "execution_count": 10,
   "metadata": {
    "collapsed": false
   },
   "outputs": [
    {
     "name": "stdout",
     "output_type": "stream",
     "text": [
      "22 countries\n",
      "25 countries\n",
      "23 countries\n",
      "29 countries\n",
      "27 countries\n"
     ]
    }
   ],
   "source": [
    "def resample(df):\n",
    "    \"\"\"Resample data by country.\n",
    "    \n",
    "    df: DataFrame\n",
    "    \n",
    "    returns: map from country code to DataFrame\n",
    "    \"\"\"\n",
    "    res = {}\n",
    "    grouped = df.groupby('cntry')\n",
    "    for name, group in grouped:\n",
    "        sample = group.sample(len(group), weights=group.pspwght, replace=True)\n",
    "        sample.index = range(len(group))\n",
    "        res[name] = sample\n",
    "    return res\n",
    "\n",
    "# each cycle_map is a map from country code to DataFrame\n",
    "cycle_maps = [resample(cycle) for cycle in cycles]\n",
    "for cycle_map in cycle_maps:\n",
    "    print(len(cycle_map), 'countries')"
   ]
  },
  {
   "cell_type": "markdown",
   "metadata": {},
   "source": [
    "TODO: Find out which questons were omitted in which countries during which cycles."
   ]
  },
  {
   "cell_type": "code",
   "execution_count": 11,
   "metadata": {
    "collapsed": false
   },
   "outputs": [
    {
     "data": {
      "text/plain": [
       "2234"
      ]
     },
     "execution_count": 11,
     "metadata": {},
     "output_type": "execute_result"
    }
   ],
   "source": [
    "len(cycle_maps[0]['AT']['netuse'].dropna())"
   ]
  },
  {
   "cell_type": "code",
   "execution_count": 12,
   "metadata": {
    "collapsed": false
   },
   "outputs": [
    {
     "data": {
      "text/plain": [
       "0"
      ]
     },
     "execution_count": 12,
     "metadata": {},
     "output_type": "execute_result"
    }
   ],
   "source": [
    "len(cycle_maps[0]['DE']['netuse'].dropna())"
   ]
  },
  {
   "cell_type": "code",
   "execution_count": 13,
   "metadata": {
    "collapsed": false
   },
   "outputs": [
    {
     "name": "stdout",
     "output_type": "stream",
     "text": [
      "Cycle 1\n",
      "FR netuse 0\n",
      "FR hinctnta 0\n",
      "DE netuse 0\n",
      "HU hinctnta 0\n",
      "IE hinctnta 0\n",
      "Cycle 2\n",
      "FR netuse 0\n",
      "FI rlgblg 0\n",
      "EE hinctnta 0\n",
      "UA hinctnta 0\n",
      "Cycle 3\n",
      "HU hinctnta 0\n",
      "EE hinctnta 0\n",
      "UA hinctnta 0\n",
      "Cycle 4\n",
      "BG hinctnta 0\n",
      "CY hinctnta 0\n",
      "SK hinctnta 0\n",
      "Cycle 5\n",
      "PT hinctnta 0\n"
     ]
    }
   ],
   "source": [
    "def check_variables(name, group):\n",
    "    varnames = ['cntry', 'tvtot', 'tvpol', 'rdtot', 'rdpol', \n",
    "                'nwsptot', 'nwsppol', 'netuse', \n",
    "                'rlgblg', 'rlgdgr', 'eduyrs', 'hinctnta', \n",
    "                'yrbrn', 'pspwght', 'pweight']\n",
    "    for var in varnames:\n",
    "        n = len(group[var].dropna())\n",
    "        if (n < 100):\n",
    "            print(name, var, len(group[var].dropna()))\n",
    "\n",
    "for i, cycle_map in enumerate(cycle_maps):\n",
    "    print('Cycle', i+1)\n",
    "    for name, group in cycle_map.items():\n",
    "        check_variables(name, group)"
   ]
  },
  {
   "cell_type": "code",
   "execution_count": 14,
   "metadata": {
    "collapsed": true
   },
   "outputs": [],
   "source": [
    "del cycle_maps[0]['FR']\n",
    "del cycle_maps[0]['DE']\n",
    "del cycle_maps[1]['FR']\n",
    "del cycle_maps[1]['FI']"
   ]
  },
  {
   "cell_type": "code",
   "execution_count": 15,
   "metadata": {
    "collapsed": false
   },
   "outputs": [],
   "source": [
    "def replace_var_with_rank(name, df, old, new):\n",
    "    \"\"\"Replaces a scale variable with a rank from 0-1.\n",
    "    \n",
    "    Creates a new column.\n",
    "    \n",
    "    name: country code\n",
    "    df: DataFram\n",
    "    old: old variable name\n",
    "    new: new variable name\n",
    "    \"\"\"\n",
    "    # jitter the data\n",
    "    series = df[old] + np.random.uniform(-0.25, 0.25, len(df))\n",
    "    \n",
    "    # if there's no data, just put in random values\n",
    "    if len(series.dropna()) < 10:\n",
    "        df[new] = np.random.random(len(df))\n",
    "        return\n",
    "    \n",
    "    # map from values to ranks\n",
    "    cdf = thinkstats2.Cdf(series)\n",
    "    df[new] = cdf.Probs(series)\n",
    "    \n",
    "    # make sure NaN maps to NaN\n",
    "    df.loc[df[old].isnull(), new] = np.nan\n",
    "    \n",
    "    \n",
    "def replace_with_ranks(cycle_map):\n",
    "    \"\"\"Replace variables within countries.\n",
    "    \n",
    "    cycle_map: map from country code to DataFrame\n",
    "    \"\"\"\n",
    "    for name, group in cycle_map.items():\n",
    "        replace_var_with_rank(name, group, 'hinctnta', 'hincrank')\n",
    "        replace_var_with_rank(name, group, 'eduyrs', 'edurank')\n",
    "        \n",
    "for cycle_map in cycle_maps:\n",
    "    replace_with_ranks(cycle_map)"
   ]
  },
  {
   "cell_type": "code",
   "execution_count": 16,
   "metadata": {
    "collapsed": false
   },
   "outputs": [],
   "source": [
    "def fill_var(df, old, new):\n",
    "    \"\"\"Fills missing values.\n",
    "    \n",
    "    Creates a new column\n",
    "    \n",
    "    df: DataFrame\n",
    "    old: old variable name\n",
    "    new: new variable name\n",
    "    \"\"\"\n",
    "    # find the NaN rows\n",
    "    null = df[df[old].isnull()]\n",
    "    \n",
    "    # sample from the non-NaN rows\n",
    "    fill = df[old].dropna().sample(len(null), replace=True)\n",
    "    fill.index = null.index\n",
    "    \n",
    "    # replace NaNs with the random sample\n",
    "    df[new] = df[old].fillna(fill)\n",
    "    \n",
    "    \n",
    "def fill_all_vars(df):\n",
    "    \"\"\"Fills missing values in the variables we need.\n",
    "    \n",
    "    df: DataFrame\n",
    "    \"\"\"\n",
    "    for old in ['hasrelig', 'yrbrn60', 'edurank', 'hincrank',\n",
    "           'tvtot', 'rdtot', 'nwsptot', 'netuse']:\n",
    "        new = old + '_f'\n",
    "        fill_var(df, old, new)\n",
    "        #print(old, sum(df[old].isnull()), sum(df[new].isnull()))"
   ]
  },
  {
   "cell_type": "code",
   "execution_count": 17,
   "metadata": {
    "collapsed": false
   },
   "outputs": [
    {
     "name": "stdout",
     "output_type": "stream",
     "text": [
      "BE\n",
      "DK\n",
      "HU\n",
      "FI\n",
      "NL\n",
      "PT\n",
      "NO\n",
      "LU\n",
      "PL\n",
      "CH\n",
      "GR\n",
      "IT\n",
      "CZ\n",
      "IL\n",
      "IE\n",
      "ES\n",
      "GB\n",
      "SI\n",
      "SE\n",
      "AT\n",
      "BE\n",
      "DK\n",
      "DE\n",
      "HU\n",
      "NL\n",
      "PT\n",
      "NO\n",
      "TR\n",
      "LU\n",
      "PL\n",
      "CH\n",
      "GR\n",
      "EE\n",
      "IS\n",
      "CZ\n",
      "AT\n",
      "IE\n",
      "ES\n",
      "SK\n",
      "SI\n",
      "UA\n",
      "SE\n",
      "GB\n",
      "BE\n",
      "FR\n",
      "BG\n",
      "DK\n",
      "DE\n",
      "HU\n",
      "FI\n",
      "RU\n",
      "NL\n",
      "PT\n",
      "NO\n",
      "PL\n",
      "CH\n",
      "EE\n",
      "CY\n",
      "AT\n",
      "IE\n",
      "ES\n",
      "SK\n",
      "SI\n",
      "UA\n",
      "SE\n",
      "GB\n",
      "BE\n",
      "FR\n",
      "BG\n",
      "DK\n",
      "HR\n",
      "DE\n",
      "HU\n",
      "FI\n",
      "RU\n",
      "NL\n",
      "PT\n",
      "NO\n",
      "TR\n",
      "LV\n",
      "RO\n",
      "PL\n",
      "CH\n",
      "GR\n",
      "EE\n",
      "CZ\n",
      "CY\n",
      "IL\n",
      "IE\n",
      "ES\n",
      "SK\n",
      "SI\n",
      "UA\n",
      "SE\n",
      "GB\n",
      "BE\n",
      "FR\n",
      "BG\n",
      "DK\n",
      "HR\n",
      "DE\n",
      "HU\n",
      "FI\n",
      "RU\n",
      "NL\n",
      "PT\n",
      "NO\n",
      "LT\n",
      "PL\n",
      "CH\n",
      "GR\n",
      "EE\n",
      "CZ\n",
      "CY\n",
      "IL\n",
      "IE\n",
      "ES\n",
      "SK\n",
      "SI\n",
      "UA\n",
      "SE\n",
      "GB\n"
     ]
    }
   ],
   "source": [
    "def fill_vars_by_country(cycle_map):\n",
    "    for name, group in cycle_map.items():\n",
    "        print(name)\n",
    "        fill_all_vars(group)\n",
    "        \n",
    "for cycle_map in cycle_maps:\n",
    "    fill_vars_by_country(cycle_map)"
   ]
  },
  {
   "cell_type": "code",
   "execution_count": 18,
   "metadata": {
    "collapsed": false
   },
   "outputs": [
    {
     "name": "stdout",
     "output_type": "stream",
     "text": [
      "37937\n",
      "43709\n",
      "43000\n",
      "56752\n",
      "52458\n"
     ]
    }
   ],
   "source": [
    "def concat_groups(cycle_map):\n",
    "    \"\"\"Concat all countries in a cycle.\n",
    "    \n",
    "    cycle_map: map from country code to DataFrame\n",
    "    \n",
    "    returns: DataFrame\n",
    "    \"\"\"\n",
    "    return pd.concat(cycle_map.values(), ignore_index=True)\n",
    "\n",
    "dfs = [concat_groups(cycle_map) for cycle_map in cycle_maps]\n",
    "\n",
    "for df in dfs:\n",
    "    print(len(df))"
   ]
  },
  {
   "cell_type": "markdown",
   "metadata": {},
   "source": [
    "Concatenate the cycles."
   ]
  },
  {
   "cell_type": "code",
   "execution_count": 19,
   "metadata": {
    "collapsed": false
   },
   "outputs": [
    {
     "name": "stdout",
     "output_type": "stream",
     "text": [
      "(233856, 28)\n"
     ]
    },
    {
     "data": {
      "text/html": [
       "<div>\n",
       "<table border=\"1\" class=\"dataframe\">\n",
       "  <thead>\n",
       "    <tr style=\"text-align: right;\">\n",
       "      <th></th>\n",
       "      <th>cntry</th>\n",
       "      <th>tvtot</th>\n",
       "      <th>tvpol</th>\n",
       "      <th>rdtot</th>\n",
       "      <th>rdpol</th>\n",
       "      <th>nwsptot</th>\n",
       "      <th>nwsppol</th>\n",
       "      <th>netuse</th>\n",
       "      <th>rlgblg</th>\n",
       "      <th>rlgdgr</th>\n",
       "      <th>...</th>\n",
       "      <th>hincrank</th>\n",
       "      <th>edurank</th>\n",
       "      <th>hasrelig_f</th>\n",
       "      <th>yrbrn60_f</th>\n",
       "      <th>edurank_f</th>\n",
       "      <th>hincrank_f</th>\n",
       "      <th>tvtot_f</th>\n",
       "      <th>rdtot_f</th>\n",
       "      <th>nwsptot_f</th>\n",
       "      <th>netuse_f</th>\n",
       "    </tr>\n",
       "  </thead>\n",
       "  <tbody>\n",
       "    <tr>\n",
       "      <th>0</th>\n",
       "      <td>BE</td>\n",
       "      <td>4</td>\n",
       "      <td>1</td>\n",
       "      <td>7</td>\n",
       "      <td>1</td>\n",
       "      <td>1</td>\n",
       "      <td>1</td>\n",
       "      <td>7</td>\n",
       "      <td>1</td>\n",
       "      <td>4</td>\n",
       "      <td>...</td>\n",
       "      <td>0.086461</td>\n",
       "      <td>0.904357</td>\n",
       "      <td>1</td>\n",
       "      <td>-14</td>\n",
       "      <td>0.904357</td>\n",
       "      <td>0.086461</td>\n",
       "      <td>4</td>\n",
       "      <td>7</td>\n",
       "      <td>1</td>\n",
       "      <td>7</td>\n",
       "    </tr>\n",
       "    <tr>\n",
       "      <th>1</th>\n",
       "      <td>BE</td>\n",
       "      <td>7</td>\n",
       "      <td>3</td>\n",
       "      <td>7</td>\n",
       "      <td>1</td>\n",
       "      <td>1</td>\n",
       "      <td>1</td>\n",
       "      <td>0</td>\n",
       "      <td>1</td>\n",
       "      <td>7</td>\n",
       "      <td>...</td>\n",
       "      <td>0.242627</td>\n",
       "      <td>0.379915</td>\n",
       "      <td>1</td>\n",
       "      <td>-14</td>\n",
       "      <td>0.379915</td>\n",
       "      <td>0.242627</td>\n",
       "      <td>7</td>\n",
       "      <td>7</td>\n",
       "      <td>1</td>\n",
       "      <td>0</td>\n",
       "    </tr>\n",
       "    <tr>\n",
       "      <th>2</th>\n",
       "      <td>BE</td>\n",
       "      <td>4</td>\n",
       "      <td>2</td>\n",
       "      <td>7</td>\n",
       "      <td>1</td>\n",
       "      <td>2</td>\n",
       "      <td>1</td>\n",
       "      <td>0</td>\n",
       "      <td>1</td>\n",
       "      <td>9</td>\n",
       "      <td>...</td>\n",
       "      <td>0.493968</td>\n",
       "      <td>0.356004</td>\n",
       "      <td>1</td>\n",
       "      <td>21</td>\n",
       "      <td>0.356004</td>\n",
       "      <td>0.493968</td>\n",
       "      <td>4</td>\n",
       "      <td>7</td>\n",
       "      <td>2</td>\n",
       "      <td>0</td>\n",
       "    </tr>\n",
       "    <tr>\n",
       "      <th>3</th>\n",
       "      <td>BE</td>\n",
       "      <td>5</td>\n",
       "      <td>2</td>\n",
       "      <td>1</td>\n",
       "      <td>1</td>\n",
       "      <td>1</td>\n",
       "      <td>1</td>\n",
       "      <td>2</td>\n",
       "      <td>2</td>\n",
       "      <td>0</td>\n",
       "      <td>...</td>\n",
       "      <td>0.766756</td>\n",
       "      <td>0.944740</td>\n",
       "      <td>0</td>\n",
       "      <td>4</td>\n",
       "      <td>0.944740</td>\n",
       "      <td>0.766756</td>\n",
       "      <td>5</td>\n",
       "      <td>1</td>\n",
       "      <td>1</td>\n",
       "      <td>2</td>\n",
       "    </tr>\n",
       "    <tr>\n",
       "      <th>4</th>\n",
       "      <td>BE</td>\n",
       "      <td>7</td>\n",
       "      <td>1</td>\n",
       "      <td>3</td>\n",
       "      <td>0</td>\n",
       "      <td>0</td>\n",
       "      <td>NaN</td>\n",
       "      <td>6</td>\n",
       "      <td>2</td>\n",
       "      <td>3</td>\n",
       "      <td>...</td>\n",
       "      <td>NaN</td>\n",
       "      <td>0.818278</td>\n",
       "      <td>0</td>\n",
       "      <td>20</td>\n",
       "      <td>0.818278</td>\n",
       "      <td>0.530161</td>\n",
       "      <td>7</td>\n",
       "      <td>3</td>\n",
       "      <td>0</td>\n",
       "      <td>6</td>\n",
       "    </tr>\n",
       "  </tbody>\n",
       "</table>\n",
       "<p>5 rows × 28 columns</p>\n",
       "</div>"
      ],
      "text/plain": [
       "  cntry  tvtot  tvpol  rdtot  rdpol  nwsptot  nwsppol  netuse  rlgblg  rlgdgr  \\\n",
       "0    BE      4      1      7      1        1        1       7       1       4   \n",
       "1    BE      7      3      7      1        1        1       0       1       7   \n",
       "2    BE      4      2      7      1        2        1       0       1       9   \n",
       "3    BE      5      2      1      1        1        1       2       2       0   \n",
       "4    BE      7      1      3      0        0      NaN       6       2       3   \n",
       "\n",
       "     ...     hincrank   edurank  hasrelig_f  yrbrn60_f  edurank_f  hincrank_f  \\\n",
       "0    ...     0.086461  0.904357           1        -14   0.904357    0.086461   \n",
       "1    ...     0.242627  0.379915           1        -14   0.379915    0.242627   \n",
       "2    ...     0.493968  0.356004           1         21   0.356004    0.493968   \n",
       "3    ...     0.766756  0.944740           0          4   0.944740    0.766756   \n",
       "4    ...          NaN  0.818278           0         20   0.818278    0.530161   \n",
       "\n",
       "   tvtot_f  rdtot_f  nwsptot_f  netuse_f  \n",
       "0        4        7          1         7  \n",
       "1        7        7          1         0  \n",
       "2        4        7          2         0  \n",
       "3        5        1          1         2  \n",
       "4        7        3          0         6  \n",
       "\n",
       "[5 rows x 28 columns]"
      ]
     },
     "execution_count": 19,
     "metadata": {},
     "output_type": "execute_result"
    }
   ],
   "source": [
    "df = pd.concat(dfs, ignore_index=True)\n",
    "print(df.shape)\n",
    "df.head()"
   ]
  },
  {
   "cell_type": "markdown",
   "metadata": {},
   "source": [
    "TV watching time on average weekday"
   ]
  },
  {
   "cell_type": "code",
   "execution_count": 20,
   "metadata": {
    "collapsed": false
   },
   "outputs": [
    {
     "data": {
      "text/plain": [
       "0     8136\n",
       "1    12551\n",
       "2    32768\n",
       "3    32100\n",
       "4    38898\n",
       "5    29626\n",
       "6    28302\n",
       "7    50823\n",
       "Name: tvtot, dtype: int64"
      ]
     },
     "execution_count": 20,
     "metadata": {},
     "output_type": "execute_result"
    }
   ],
   "source": [
    "df.tvtot.value_counts().sort_index()"
   ]
  },
  {
   "cell_type": "markdown",
   "metadata": {},
   "source": [
    "Radio listening, total time on average weekday."
   ]
  },
  {
   "cell_type": "code",
   "execution_count": 21,
   "metadata": {
    "collapsed": false
   },
   "outputs": [
    {
     "data": {
      "text/plain": [
       "0    57115\n",
       "1    36203\n",
       "2    36975\n",
       "3    18186\n",
       "4    15367\n",
       "5    10234\n",
       "6     9430\n",
       "7    49187\n",
       "Name: rdtot, dtype: int64"
      ]
     },
     "execution_count": 21,
     "metadata": {},
     "output_type": "execute_result"
    }
   ],
   "source": [
    "df.rdtot.value_counts().sort_index()"
   ]
  },
  {
   "cell_type": "markdown",
   "metadata": {},
   "source": [
    "Newspaper reading, total time on average weekday."
   ]
  },
  {
   "cell_type": "code",
   "execution_count": 22,
   "metadata": {
    "collapsed": false
   },
   "outputs": [
    {
     "data": {
      "text/plain": [
       "0    68443\n",
       "1    72774\n",
       "2    61769\n",
       "3    17212\n",
       "4     6775\n",
       "5     2711\n",
       "6     1340\n",
       "7     1895\n",
       "Name: nwsptot, dtype: int64"
      ]
     },
     "execution_count": 22,
     "metadata": {},
     "output_type": "execute_result"
    }
   ],
   "source": [
    "df.nwsptot.value_counts().sort_index()"
   ]
  },
  {
   "cell_type": "markdown",
   "metadata": {},
   "source": [
    "Personal use of Internet, email, www"
   ]
  },
  {
   "cell_type": "code",
   "execution_count": 23,
   "metadata": {
    "collapsed": false
   },
   "outputs": [
    {
     "data": {
      "text/plain": [
       "0    71350\n",
       "1    36958\n",
       "2     4592\n",
       "3     3921\n",
       "4     8299\n",
       "5    10016\n",
       "6    28236\n",
       "7    69747\n",
       "Name: netuse, dtype: int64"
      ]
     },
     "execution_count": 23,
     "metadata": {},
     "output_type": "execute_result"
    }
   ],
   "source": [
    "df.netuse.value_counts().sort_index()"
   ]
  },
  {
   "cell_type": "markdown",
   "metadata": {},
   "source": [
    "Belong to a particular religion or denomination"
   ]
  },
  {
   "cell_type": "code",
   "execution_count": 24,
   "metadata": {
    "collapsed": false
   },
   "outputs": [
    {
     "data": {
      "text/plain": [
       "1    148414\n",
       "2     83543\n",
       "Name: rlgblg, dtype: int64"
      ]
     },
     "execution_count": 24,
     "metadata": {},
     "output_type": "execute_result"
    }
   ],
   "source": [
    "df.rlgblg.value_counts().sort_index()"
   ]
  },
  {
   "cell_type": "markdown",
   "metadata": {},
   "source": [
    "How religious"
   ]
  },
  {
   "cell_type": "code",
   "execution_count": 25,
   "metadata": {
    "collapsed": false
   },
   "outputs": [
    {
     "data": {
      "text/plain": [
       "0     29359\n",
       "1     13073\n",
       "2     16258\n",
       "3     18615\n",
       "4     15134\n",
       "5     40654\n",
       "6     23279\n",
       "7     27007\n",
       "8     23702\n",
       "9     10505\n",
       "10    14053\n",
       "Name: rlgdgr, dtype: int64"
      ]
     },
     "execution_count": 25,
     "metadata": {},
     "output_type": "execute_result"
    }
   ],
   "source": [
    "df.rlgdgr.value_counts().sort_index()"
   ]
  },
  {
   "cell_type": "markdown",
   "metadata": {},
   "source": [
    "Total household net income, all sources"
   ]
  },
  {
   "cell_type": "code",
   "execution_count": 26,
   "metadata": {
    "collapsed": false
   },
   "outputs": [
    {
     "data": {
      "text/plain": [
       "count    183905.000000\n",
       "mean          0.500037\n",
       "std           0.288781\n",
       "min           0.000091\n",
       "25%           0.249861\n",
       "50%           0.500000\n",
       "75%           0.750250\n",
       "max           1.000000\n",
       "Name: hincrank, dtype: float64"
      ]
     },
     "execution_count": 26,
     "metadata": {},
     "output_type": "execute_result"
    }
   ],
   "source": [
    "df.hincrank.describe()"
   ]
  },
  {
   "cell_type": "markdown",
   "metadata": {},
   "source": [
    "Year born"
   ]
  },
  {
   "cell_type": "code",
   "execution_count": 27,
   "metadata": {
    "collapsed": false
   },
   "outputs": [
    {
     "data": {
      "text/plain": [
       "count    232778.000000\n",
       "mean       1961.561960\n",
       "std          18.670809\n",
       "min        1885.000000\n",
       "25%        1948.000000\n",
       "50%        1962.000000\n",
       "75%        1977.000000\n",
       "max        1996.000000\n",
       "Name: yrbrn, dtype: float64"
      ]
     },
     "execution_count": 27,
     "metadata": {},
     "output_type": "execute_result"
    }
   ],
   "source": [
    "df.yrbrn.describe()"
   ]
  },
  {
   "cell_type": "code",
   "execution_count": 28,
   "metadata": {
    "collapsed": false
   },
   "outputs": [
    {
     "data": {
      "image/png": "[encoded data removed]",
      "text/plain": [
       "<matplotlib.figure.Figure at 0x7f8701d13750>"
      ]
     },
     "metadata": {},
     "output_type": "display_data"
    }
   ],
   "source": [
    "cdf = thinkstats2.Cdf(df.yrbrn)\n",
    "thinkplot.PrePlot(1)\n",
    "thinkplot.Cdf(cdf)\n",
    "thinkplot.Config(xlabel='Year born', ylabel='CDF', \n",
    "                 title='Disrtribution of year born', legend=False)"
   ]
  },
  {
   "cell_type": "markdown",
   "metadata": {},
   "source": [
    "Shifted to mean near 0"
   ]
  },
  {
   "cell_type": "code",
   "execution_count": 29,
   "metadata": {
    "collapsed": false
   },
   "outputs": [
    {
     "data": {
      "text/plain": [
       "count    232778.000000\n",
       "mean          1.561960\n",
       "std          18.670809\n",
       "min         -75.000000\n",
       "25%         -12.000000\n",
       "50%           2.000000\n",
       "75%          17.000000\n",
       "max          36.000000\n",
       "Name: yrbrn60, dtype: float64"
      ]
     },
     "execution_count": 29,
     "metadata": {},
     "output_type": "execute_result"
    }
   ],
   "source": [
    "df.yrbrn60.describe()"
   ]
  },
  {
   "cell_type": "markdown",
   "metadata": {},
   "source": [
    "Number of years of education, converted to ranks."
   ]
  },
  {
   "cell_type": "code",
   "execution_count": 30,
   "metadata": {
    "collapsed": false
   },
   "outputs": [
    {
     "data": {
      "text/plain": [
       "count    231101.000000\n",
       "mean          0.500264\n",
       "std           0.288676\n",
       "min           0.000332\n",
       "25%           0.250275\n",
       "50%           0.500278\n",
       "75%           0.750268\n",
       "max           1.000000\n",
       "Name: edurank, dtype: float64"
      ]
     },
     "execution_count": 30,
     "metadata": {},
     "output_type": "execute_result"
    }
   ],
   "source": [
    "df.edurank.describe()"
   ]
  },
  {
   "cell_type": "markdown",
   "metadata": {},
   "source": [
    "Country codes"
   ]
  },
  {
   "cell_type": "code",
   "execution_count": 31,
   "metadata": {
    "collapsed": false
   },
   "outputs": [
    {
     "data": {
      "text/plain": [
       "AT     6918\n",
       "BE     8939\n",
       "BG     6064\n",
       "CH     9310\n",
       "CY     3293\n",
       "CZ     8790\n",
       "DE    11568\n",
       "DK     7684\n",
       "EE     6960\n",
       "ES     9729\n",
       "FI     7969\n",
       "FR     5787\n",
       "GB    11117\n",
       "GR     9759\n",
       "HR     3133\n",
       "HU     7806\n",
       "IE    10472\n",
       "IL     7283\n",
       "IS      579\n",
       "IT     1207\n",
       "LT     1677\n",
       "LU     3187\n",
       "LV     1980\n",
       "NL     9741\n",
       "NO     8643\n",
       "PL     8917\n",
       "PT    10302\n",
       "RO     2146\n",
       "RU     7544\n",
       "SE     9201\n",
       "SI     7126\n",
       "SK     6944\n",
       "TR     4272\n",
       "UA     7809\n",
       "Name: cntry, dtype: int64"
      ]
     },
     "execution_count": 31,
     "metadata": {},
     "output_type": "execute_result"
    }
   ],
   "source": [
    "df.cntry.value_counts().sort_index()"
   ]
  },
  {
   "cell_type": "markdown",
   "metadata": {},
   "source": [
    "Run the model"
   ]
  },
  {
   "cell_type": "code",
   "execution_count": 32,
   "metadata": {
    "collapsed": false
   },
   "outputs": [],
   "source": [
    "def run_model(df, formula):\n",
    "    model = smf.logit(formula, data=df)    \n",
    "    results = model.fit(disp=False)\n",
    "    return results"
   ]
  },
  {
   "cell_type": "markdown",
   "metadata": {},
   "source": [
    "Here's the model with all control variables and all media variables:"
   ]
  },
  {
   "cell_type": "code",
   "execution_count": 33,
   "metadata": {
    "collapsed": false
   },
   "outputs": [
    {
     "data": {
      "text/html": [
       "<table class=\"simpletable\">\n",
       "<caption>Logit Regression Results</caption>\n",
       "<tr>\n",
       "  <th>Dep. Variable:</th>     <td>hasrelig</td>     <th>  No. Observations:  </th>   <td>178930</td>   \n",
       "</tr>\n",
       "<tr>\n",
       "  <th>Model:</th>               <td>Logit</td>      <th>  Df Residuals:      </th>   <td>178922</td>   \n",
       "</tr>\n",
       "<tr>\n",
       "  <th>Method:</th>               <td>MLE</td>       <th>  Df Model:          </th>   <td>     7</td>   \n",
       "</tr>\n",
       "<tr>\n",
       "  <th>Date:</th>          <td>Mon, 02 Nov 2015</td> <th>  Pseudo R-squ.:     </th>   <td>0.02888</td>  \n",
       "</tr>\n",
       "<tr>\n",
       "  <th>Time:</th>              <td>11:25:43</td>     <th>  Log-Likelihood:    </th> <td>-1.1468e+05</td>\n",
       "</tr>\n",
       "<tr>\n",
       "  <th>converged:</th>           <td>True</td>       <th>  LL-Null:           </th> <td>-1.1809e+05</td>\n",
       "</tr>\n",
       "<tr>\n",
       "  <th> </th>                      <td> </td>        <th>  LLR p-value:       </th>   <td> 0.000</td>   \n",
       "</tr>\n",
       "</table>\n",
       "<table class=\"simpletable\">\n",
       "<tr>\n",
       "      <td></td>         <th>coef</th>     <th>std err</th>      <th>z</th>      <th>P>|z|</th> <th>[95.0% Conf. Int.]</th> \n",
       "</tr>\n",
       "<tr>\n",
       "  <th>Intercept</th> <td>    1.0169</td> <td>    0.019</td> <td>   53.397</td> <td> 0.000</td> <td>    0.980     1.054</td>\n",
       "</tr>\n",
       "<tr>\n",
       "  <th>yrbrn60</th>   <td>   -0.0075</td> <td>    0.000</td> <td>  -23.097</td> <td> 0.000</td> <td>   -0.008    -0.007</td>\n",
       "</tr>\n",
       "<tr>\n",
       "  <th>edurank</th>   <td>    0.0001</td> <td>    0.020</td> <td>    0.007</td> <td> 0.995</td> <td>   -0.038     0.039</td>\n",
       "</tr>\n",
       "<tr>\n",
       "  <th>hincrank</th>  <td>    0.1207</td> <td>    0.019</td> <td>    6.518</td> <td> 0.000</td> <td>    0.084     0.157</td>\n",
       "</tr>\n",
       "<tr>\n",
       "  <th>tvtot</th>     <td>   -0.0126</td> <td>    0.003</td> <td>   -4.965</td> <td> 0.000</td> <td>   -0.018    -0.008</td>\n",
       "</tr>\n",
       "<tr>\n",
       "  <th>rdtot</th>     <td>   -0.0099</td> <td>    0.002</td> <td>   -5.197</td> <td> 0.000</td> <td>   -0.014    -0.006</td>\n",
       "</tr>\n",
       "<tr>\n",
       "  <th>nwsptot</th>   <td>   -0.0437</td> <td>    0.004</td> <td>  -10.834</td> <td> 0.000</td> <td>   -0.052    -0.036</td>\n",
       "</tr>\n",
       "<tr>\n",
       "  <th>netuse</th>    <td>   -0.1122</td> <td>    0.002</td> <td>  -56.771</td> <td> 0.000</td> <td>   -0.116    -0.108</td>\n",
       "</tr>\n",
       "</table>"
      ],
      "text/plain": [
       "<class 'statsmodels.iolib.summary.Summary'>\n",
       "\"\"\"\n",
       "                           Logit Regression Results                           \n",
       "==============================================================================\n",
       "Dep. Variable:               hasrelig   No. Observations:               178930\n",
       "Model:                          Logit   Df Residuals:                   178922\n",
       "Method:                           MLE   Df Model:                            7\n",
       "Date:                Mon, 02 Nov 2015   Pseudo R-squ.:                 0.02888\n",
       "Time:                        11:25:43   Log-Likelihood:            -1.1468e+05\n",
       "converged:                       True   LL-Null:                   -1.1809e+05\n",
       "                                        LLR p-value:                     0.000\n",
       "==============================================================================\n",
       "                 coef    std err          z      P>|z|      [95.0% Conf. Int.]\n",
       "------------------------------------------------------------------------------\n",
       "Intercept      1.0169      0.019     53.397      0.000         0.980     1.054\n",
       "yrbrn60       -0.0075      0.000    -23.097      0.000        -0.008    -0.007\n",
       "edurank        0.0001      0.020      0.007      0.995        -0.038     0.039\n",
       "hincrank       0.1207      0.019      6.518      0.000         0.084     0.157\n",
       "tvtot         -0.0126      0.003     -4.965      0.000        -0.018    -0.008\n",
       "rdtot         -0.0099      0.002     -5.197      0.000        -0.014    -0.006\n",
       "nwsptot       -0.0437      0.004    -10.834      0.000        -0.052    -0.036\n",
       "netuse        -0.1122      0.002    -56.771      0.000        -0.116    -0.108\n",
       "==============================================================================\n",
       "\"\"\""
      ]
     },
     "execution_count": 33,
     "metadata": {},
     "output_type": "execute_result"
    }
   ],
   "source": [
    "formula = ('hasrelig ~ yrbrn60 + edurank + hincrank +'\n",
    "           'tvtot + rdtot + nwsptot + netuse')\n",
    "res = run_model(df, formula)\n",
    "res.summary()"
   ]
  },
  {
   "cell_type": "markdown",
   "metadata": {},
   "source": [
    "Filling all NaNs"
   ]
  },
  {
   "cell_type": "code",
   "execution_count": 34,
   "metadata": {
    "collapsed": false
   },
   "outputs": [
    {
     "data": {
      "text/html": [
       "<table class=\"simpletable\">\n",
       "<caption>Logit Regression Results</caption>\n",
       "<tr>\n",
       "  <th>Dep. Variable:</th>    <td>hasrelig_f</td>    <th>  No. Observations:  </th>   <td>233856</td>   \n",
       "</tr>\n",
       "<tr>\n",
       "  <th>Model:</th>               <td>Logit</td>      <th>  Df Residuals:      </th>   <td>233848</td>   \n",
       "</tr>\n",
       "<tr>\n",
       "  <th>Method:</th>               <td>MLE</td>       <th>  Df Model:          </th>   <td>     7</td>   \n",
       "</tr>\n",
       "<tr>\n",
       "  <th>Date:</th>          <td>Mon, 02 Nov 2015</td> <th>  Pseudo R-squ.:     </th>   <td>0.02725</td>  \n",
       "</tr>\n",
       "<tr>\n",
       "  <th>Time:</th>              <td>11:25:44</td>     <th>  Log-Likelihood:    </th> <td>-1.4865e+05</td>\n",
       "</tr>\n",
       "<tr>\n",
       "  <th>converged:</th>           <td>True</td>       <th>  LL-Null:           </th> <td>-1.5281e+05</td>\n",
       "</tr>\n",
       "<tr>\n",
       "  <th> </th>                      <td> </td>        <th>  LLR p-value:       </th>   <td> 0.000</td>   \n",
       "</tr>\n",
       "</table>\n",
       "<table class=\"simpletable\">\n",
       "<tr>\n",
       "       <td></td>         <th>coef</th>     <th>std err</th>      <th>z</th>      <th>P>|z|</th> <th>[95.0% Conf. Int.]</th> \n",
       "</tr>\n",
       "<tr>\n",
       "  <th>Intercept</th>  <td>    1.0883</td> <td>    0.017</td> <td>   65.490</td> <td> 0.000</td> <td>    1.056     1.121</td>\n",
       "</tr>\n",
       "<tr>\n",
       "  <th>yrbrn60_f</th>  <td>   -0.0075</td> <td>    0.000</td> <td>  -27.305</td> <td> 0.000</td> <td>   -0.008    -0.007</td>\n",
       "</tr>\n",
       "<tr>\n",
       "  <th>edurank_f</th>  <td>   -0.0158</td> <td>    0.017</td> <td>   -0.936</td> <td> 0.349</td> <td>   -0.049     0.017</td>\n",
       "</tr>\n",
       "<tr>\n",
       "  <th>hincrank_f</th> <td>    0.0874</td> <td>    0.016</td> <td>    5.513</td> <td> 0.000</td> <td>    0.056     0.118</td>\n",
       "</tr>\n",
       "<tr>\n",
       "  <th>tvtot_f</th>    <td>   -0.0125</td> <td>    0.002</td> <td>   -5.661</td> <td> 0.000</td> <td>   -0.017    -0.008</td>\n",
       "</tr>\n",
       "<tr>\n",
       "  <th>rdtot_f</th>    <td>   -0.0153</td> <td>    0.002</td> <td>   -9.119</td> <td> 0.000</td> <td>   -0.019    -0.012</td>\n",
       "</tr>\n",
       "<tr>\n",
       "  <th>nwsptot_f</th>  <td>   -0.0444</td> <td>    0.004</td> <td>  -12.434</td> <td> 0.000</td> <td>   -0.051    -0.037</td>\n",
       "</tr>\n",
       "<tr>\n",
       "  <th>netuse_f</th>   <td>   -0.1043</td> <td>    0.002</td> <td>  -60.354</td> <td> 0.000</td> <td>   -0.108    -0.101</td>\n",
       "</tr>\n",
       "</table>"
      ],
      "text/plain": [
       "<class 'statsmodels.iolib.summary.Summary'>\n",
       "\"\"\"\n",
       "                           Logit Regression Results                           \n",
       "==============================================================================\n",
       "Dep. Variable:             hasrelig_f   No. Observations:               233856\n",
       "Model:                          Logit   Df Residuals:                   233848\n",
       "Method:                           MLE   Df Model:                            7\n",
       "Date:                Mon, 02 Nov 2015   Pseudo R-squ.:                 0.02725\n",
       "Time:                        11:25:44   Log-Likelihood:            -1.4865e+05\n",
       "converged:                       True   LL-Null:                   -1.5281e+05\n",
       "                                        LLR p-value:                     0.000\n",
       "==============================================================================\n",
       "                 coef    std err          z      P>|z|      [95.0% Conf. Int.]\n",
       "------------------------------------------------------------------------------\n",
       "Intercept      1.0883      0.017     65.490      0.000         1.056     1.121\n",
       "yrbrn60_f     -0.0075      0.000    -27.305      0.000        -0.008    -0.007\n",
       "edurank_f     -0.0158      0.017     -0.936      0.349        -0.049     0.017\n",
       "hincrank_f     0.0874      0.016      5.513      0.000         0.056     0.118\n",
       "tvtot_f       -0.0125      0.002     -5.661      0.000        -0.017    -0.008\n",
       "rdtot_f       -0.0153      0.002     -9.119      0.000        -0.019    -0.012\n",
       "nwsptot_f     -0.0444      0.004    -12.434      0.000        -0.051    -0.037\n",
       "netuse_f      -0.1043      0.002    -60.354      0.000        -0.108    -0.101\n",
       "==============================================================================\n",
       "\"\"\""
      ]
     },
     "execution_count": 34,
     "metadata": {},
     "output_type": "execute_result"
    }
   ],
   "source": [
    "formula = ('hasrelig_f ~ yrbrn60_f + edurank_f + hincrank_f +'\n",
    "           'tvtot_f + rdtot_f + nwsptot_f + netuse_f')\n",
    "res = run_model(df, formula)\n",
    "res.summary()"
   ]
  },
  {
   "cell_type": "code",
   "execution_count": 35,
   "metadata": {
    "collapsed": false
   },
   "outputs": [
    {
     "data": {
      "text/plain": [
       "(233856, -0.10433128546888827, '**')"
      ]
     },
     "execution_count": 35,
     "metadata": {},
     "output_type": "execute_result"
    }
   ],
   "source": [
    "def extract_res(res, var='netuse_f'):\n",
    "    param = res.params[var]\n",
    "    pvalue = res.pvalues[var]\n",
    "    stars = '**' if pvalue < 0.01 else '*' if pvalue < 0.05 else ''\n",
    "    return res.nobs, param, stars\n",
    "\n",
    "extract_res(res)"
   ]
  },
  {
   "cell_type": "markdown",
   "metadata": {},
   "source": [
    "Group by country:"
   ]
  },
  {
   "cell_type": "code",
   "execution_count": 36,
   "metadata": {
    "collapsed": false
   },
   "outputs": [],
   "source": [
    "grouped = df.groupby('cntry')"
   ]
  },
  {
   "cell_type": "markdown",
   "metadata": {},
   "source": [
    "Run a sample country"
   ]
  },
  {
   "cell_type": "code",
   "execution_count": 37,
   "metadata": {
    "collapsed": false
   },
   "outputs": [
    {
     "data": {
      "text/html": [
       "<table class=\"simpletable\">\n",
       "<caption>Logit Regression Results</caption>\n",
       "<tr>\n",
       "  <th>Dep. Variable:</th>    <td>hasrelig_f</td>    <th>  No. Observations:  </th>  <td>  7684</td>  \n",
       "</tr>\n",
       "<tr>\n",
       "  <th>Model:</th>               <td>Logit</td>      <th>  Df Residuals:      </th>  <td>  7676</td>  \n",
       "</tr>\n",
       "<tr>\n",
       "  <th>Method:</th>               <td>MLE</td>       <th>  Df Model:          </th>  <td>     7</td>  \n",
       "</tr>\n",
       "<tr>\n",
       "  <th>Date:</th>          <td>Mon, 02 Nov 2015</td> <th>  Pseudo R-squ.:     </th>  <td>0.03187</td> \n",
       "</tr>\n",
       "<tr>\n",
       "  <th>Time:</th>              <td>11:25:44</td>     <th>  Log-Likelihood:    </th> <td> -5059.4</td> \n",
       "</tr>\n",
       "<tr>\n",
       "  <th>converged:</th>           <td>True</td>       <th>  LL-Null:           </th> <td> -5226.0</td> \n",
       "</tr>\n",
       "<tr>\n",
       "  <th> </th>                      <td> </td>        <th>  LLR p-value:       </th> <td>5.116e-68</td>\n",
       "</tr>\n",
       "</table>\n",
       "<table class=\"simpletable\">\n",
       "<tr>\n",
       "       <td></td>         <th>coef</th>     <th>std err</th>      <th>z</th>      <th>P>|z|</th> <th>[95.0% Conf. Int.]</th> \n",
       "</tr>\n",
       "<tr>\n",
       "  <th>Intercept</th>  <td>    0.4942</td> <td>    0.101</td> <td>    4.877</td> <td> 0.000</td> <td>    0.296     0.693</td>\n",
       "</tr>\n",
       "<tr>\n",
       "  <th>yrbrn60_f</th>  <td>   -0.0185</td> <td>    0.002</td> <td>  -11.239</td> <td> 0.000</td> <td>   -0.022    -0.015</td>\n",
       "</tr>\n",
       "<tr>\n",
       "  <th>edurank_f</th>  <td>   -0.3665</td> <td>    0.091</td> <td>   -4.033</td> <td> 0.000</td> <td>   -0.545    -0.188</td>\n",
       "</tr>\n",
       "<tr>\n",
       "  <th>hincrank_f</th> <td>    0.1964</td> <td>    0.087</td> <td>    2.259</td> <td> 0.024</td> <td>    0.026     0.367</td>\n",
       "</tr>\n",
       "<tr>\n",
       "  <th>tvtot_f</th>    <td>   -0.0277</td> <td>    0.013</td> <td>   -2.125</td> <td> 0.034</td> <td>   -0.053    -0.002</td>\n",
       "</tr>\n",
       "<tr>\n",
       "  <th>rdtot_f</th>    <td>    0.0186</td> <td>    0.009</td> <td>    2.122</td> <td> 0.034</td> <td>    0.001     0.036</td>\n",
       "</tr>\n",
       "<tr>\n",
       "  <th>nwsptot_f</th>  <td>    0.0704</td> <td>    0.023</td> <td>    3.013</td> <td> 0.003</td> <td>    0.025     0.116</td>\n",
       "</tr>\n",
       "<tr>\n",
       "  <th>netuse_f</th>   <td>   -0.0222</td> <td>    0.011</td> <td>   -2.065</td> <td> 0.039</td> <td>   -0.043    -0.001</td>\n",
       "</tr>\n",
       "</table>"
      ],
      "text/plain": [
       "<class 'statsmodels.iolib.summary.Summary'>\n",
       "\"\"\"\n",
       "                           Logit Regression Results                           \n",
       "==============================================================================\n",
       "Dep. Variable:             hasrelig_f   No. Observations:                 7684\n",
       "Model:                          Logit   Df Residuals:                     7676\n",
       "Method:                           MLE   Df Model:                            7\n",
       "Date:                Mon, 02 Nov 2015   Pseudo R-squ.:                 0.03187\n",
       "Time:                        11:25:44   Log-Likelihood:                -5059.4\n",
       "converged:                       True   LL-Null:                       -5226.0\n",
       "                                        LLR p-value:                 5.116e-68\n",
       "==============================================================================\n",
       "                 coef    std err          z      P>|z|      [95.0% Conf. Int.]\n",
       "------------------------------------------------------------------------------\n",
       "Intercept      0.4942      0.101      4.877      0.000         0.296     0.693\n",
       "yrbrn60_f     -0.0185      0.002    -11.239      0.000        -0.022    -0.015\n",
       "edurank_f     -0.3665      0.091     -4.033      0.000        -0.545    -0.188\n",
       "hincrank_f     0.1964      0.087      2.259      0.024         0.026     0.367\n",
       "tvtot_f       -0.0277      0.013     -2.125      0.034        -0.053    -0.002\n",
       "rdtot_f        0.0186      0.009      2.122      0.034         0.001     0.036\n",
       "nwsptot_f      0.0704      0.023      3.013      0.003         0.025     0.116\n",
       "netuse_f      -0.0222      0.011     -2.065      0.039        -0.043    -0.001\n",
       "==============================================================================\n",
       "\"\"\""
      ]
     },
     "execution_count": 37,
     "metadata": {},
     "output_type": "execute_result"
    }
   ],
   "source": [
    "gb = grouped.get_group('DK')\n",
    "run_model(gb, formula).summary()"
   ]
  },
  {
   "cell_type": "markdown",
   "metadata": {},
   "source": [
    "Run all countries"
   ]
  },
  {
   "cell_type": "code",
   "execution_count": 38,
   "metadata": {
    "collapsed": false
   },
   "outputs": [
    {
     "name": "stdout",
     "output_type": "stream",
     "text": [
      "AT\t6918\t6918\t-0.0831\t**\t\n",
      "BE\t8939\t8939\t-0.0221\t*\t\n",
      "BG\t6064\t6064\t0.00219\t\t\n",
      "CH\t9310\t9310\t-0.0487\t**\t\n",
      "CY\t3293\t3293\t-0.279\t**\t\n",
      "CZ\t8790\t8790\t-0.0183\t\t\n",
      "DE\t11568\t11568\t-0.0052\t\t\n",
      "DK\t7684\t7684\t-0.0222\t*\t\n",
      "EE\t6960\t6960\t-0.0359\t**\t\n",
      "ES\t9729\t9729\t-0.0804\t**\t\n",
      "FI\t7969\t7969\t-0.0508\t**\t\n",
      "FR\t5787\t5787\t0.00536\t\t\n",
      "GB\t11117\t11117\t-0.0155\t\t\n",
      "GR\t9759\t9759\t-0.033\t*\t\n",
      "HR\t3133\t3133\t-0.0382\t\t\n",
      "HU\t7806\t7806\t-0.0355\t**\t\n",
      "IE\t10472\t10472\t-0.0425\t**\t\n",
      "IL\t7283\t7283\t0.0661\t**\t<--\n",
      "IS\t579\t579\t0.0428\t\t\n",
      "IT\t1207\t1207\t-0.0656\t*\t\n",
      "LT\t1677\t1677\t-0.00865\t\t\n",
      "LU\t3187\t3187\t-0.0853\t**\t\n",
      "LV\t1980\t1980\t-0.0298\t\t\n",
      "NL\t9741\t9741\t-0.0679\t**\t\n",
      "NO\t8643\t8643\t-0.00518\t\t\n",
      "PL\t8917\t8917\t-0.0924\t**\t\n",
      "PT\t10302\t10302\t-0.0945\t**\t\n",
      "RO\t2146\t2146\t0.0111\t\t\n",
      "RU\t7544\t7544\t0.0277\t**\t<--\n",
      "SE\t9201\t9201\t-0.0207\t\t\n",
      "SI\t7126\t7126\t-0.0379\t**\t\n",
      "SK\t6944\t6944\t-0.0557\t**\t\n",
      "TR\t4272\t4272\t-0.00697\t\t\n",
      "UA\t7809\t7809\t-0.0451\t**\t\n"
     ]
    }
   ],
   "source": [
    "for name, group in grouped:\n",
    "    try:\n",
    "        res = run_model(group, formula)\n",
    "        nobs, param, stars = extract_res(res)\n",
    "        arrow = '<--' if stars and param > 0 else ''\n",
    "        print(name, len(group), nobs, '%0.3g'%param, stars, arrow, sep='\\t')\n",
    "    except:\n",
    "        print(name, len(group), ' ', 'NA', sep='\\t')"
   ]
  },
  {
   "cell_type": "code",
   "execution_count": null,
   "metadata": {
    "collapsed": true
   },
   "outputs": [],
   "source": []
  }
 ],
 "metadata": {
  "kernelspec": {
   "display_name": "Python 2",
   "language": "python",
   "name": "python2"
  },
  "language_info": {
   "codemirror_mode": {
    "name": "ipython",
    "version": 2
   },
   "file_extension": ".py",
   "mimetype": "text/x-python",
   "name": "python",
   "nbconvert_exporter": "python",
   "pygments_lexer": "ipython2",
   "version": "2.7.10"
  }
 },
 "nbformat": 4,
 "nbformat_minor": 0
}
