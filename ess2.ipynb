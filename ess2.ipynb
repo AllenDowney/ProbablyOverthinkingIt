{
 "cells": [
  {
   "cell_type": "markdown",
   "metadata": {},
   "source": [
    "Internet use and religion in Europe\n",
    "-----------------------------------------\n",
    "\n",
    "This notebook presents a quick-and-dirty analysis of the association between Internet use and religion in Europe, using data from the European Social Survey (http://www.europeansocialsurvey.org).\n",
    "\n",
    "Copyright 2015 Allen Downey\n",
    "\n",
    "MIT License: http://opensource.org/licenses/MIT"
   ]
  },
  {
   "cell_type": "code",
   "execution_count": 38,
   "metadata": {
    "collapsed": true
   },
   "outputs": [],
   "source": [
    "from __future__ import print_function, division\n",
    "\n",
    "import numpy as np\n",
    "import pandas as pd\n",
    "\n",
    "import thinkstats2\n",
    "import thinkplot\n",
    "\n",
    "import statsmodels.formula.api as smf\n",
    "\n",
    "%matplotlib inline"
   ]
  },
  {
   "cell_type": "markdown",
   "metadata": {},
   "source": [
    "The following function selects the columns I need."
   ]
  },
  {
   "cell_type": "code",
   "execution_count": 75,
   "metadata": {
    "collapsed": false
   },
   "outputs": [],
   "source": [
    "def read_cycle(filename):\n",
    "    df = pd.read_stata(filename, convert_categoricals=False)\n",
    "\n",
    "    if 'hinctnta' not in df.columns:\n",
    "        df['hinctnta'] = df.hinctnt\n",
    "        \n",
    "    cols = ['cntry', 'tvtot', 'tvpol', 'rdtot', 'rdpol', 'nwsptot', 'nwsppol', 'netuse', \n",
    "            'rlgblg', 'rlgdgr', 'eduyrs', 'hinctnta', 'yrbrn', 'eisced', 'pspwght', 'pweight']\n",
    "    df = df[cols]\n",
    "    return df"
   ]
  },
  {
   "cell_type": "code",
   "execution_count": 62,
   "metadata": {
    "collapsed": false
   },
   "outputs": [],
   "source": []
  },
  {
   "cell_type": "markdown",
   "metadata": {},
   "source": [
    "Read data from Cycle 1.  TODO: investigate the difference between hinctnt and hinctnta; is there a recode that reconciles them?"
   ]
  },
  {
   "cell_type": "code",
   "execution_count": 40,
   "metadata": {
    "collapsed": false
   },
   "outputs": [
    {
     "data": {
      "text/html": [
       "<div>\n",
       "<table border=\"1\" class=\"dataframe\">\n",
       "  <thead>\n",
       "    <tr style=\"text-align: right;\">\n",
       "      <th></th>\n",
       "      <th>cntry</th>\n",
       "      <th>tvtot</th>\n",
       "      <th>tvpol</th>\n",
       "      <th>rdtot</th>\n",
       "      <th>rdpol</th>\n",
       "      <th>nwsptot</th>\n",
       "      <th>nwsppol</th>\n",
       "      <th>netuse</th>\n",
       "      <th>rlgblg</th>\n",
       "      <th>rlgdgr</th>\n",
       "      <th>eduyrs</th>\n",
       "      <th>hinctnta</th>\n",
       "      <th>yrbrn</th>\n",
       "      <th>eisced</th>\n",
       "      <th>pspwght</th>\n",
       "      <th>pweight</th>\n",
       "    </tr>\n",
       "  </thead>\n",
       "  <tbody>\n",
       "    <tr>\n",
       "      <th>0</th>\n",
       "      <td>AT</td>\n",
       "      <td>1</td>\n",
       "      <td>1</td>\n",
       "      <td>1</td>\n",
       "      <td>1</td>\n",
       "      <td>1</td>\n",
       "      <td>1</td>\n",
       "      <td>5</td>\n",
       "      <td>1</td>\n",
       "      <td>8</td>\n",
       "      <td>11</td>\n",
       "      <td>77</td>\n",
       "      <td>1949</td>\n",
       "      <td>0</td>\n",
       "      <td>0.940933</td>\n",
       "      <td>0.271488</td>\n",
       "    </tr>\n",
       "    <tr>\n",
       "      <th>1</th>\n",
       "      <td>AT</td>\n",
       "      <td>3</td>\n",
       "      <td>2</td>\n",
       "      <td>4</td>\n",
       "      <td>1</td>\n",
       "      <td>2</td>\n",
       "      <td>2</td>\n",
       "      <td>6</td>\n",
       "      <td>2</td>\n",
       "      <td>5</td>\n",
       "      <td>14</td>\n",
       "      <td>2</td>\n",
       "      <td>1953</td>\n",
       "      <td>0</td>\n",
       "      <td>0.470466</td>\n",
       "      <td>0.271488</td>\n",
       "    </tr>\n",
       "    <tr>\n",
       "      <th>2</th>\n",
       "      <td>AT</td>\n",
       "      <td>7</td>\n",
       "      <td>3</td>\n",
       "      <td>0</td>\n",
       "      <td>66</td>\n",
       "      <td>0</td>\n",
       "      <td>66</td>\n",
       "      <td>0</td>\n",
       "      <td>1</td>\n",
       "      <td>7</td>\n",
       "      <td>9</td>\n",
       "      <td>77</td>\n",
       "      <td>1940</td>\n",
       "      <td>0</td>\n",
       "      <td>1.392155</td>\n",
       "      <td>0.271488</td>\n",
       "    </tr>\n",
       "    <tr>\n",
       "      <th>3</th>\n",
       "      <td>AT</td>\n",
       "      <td>1</td>\n",
       "      <td>1</td>\n",
       "      <td>1</td>\n",
       "      <td>1</td>\n",
       "      <td>2</td>\n",
       "      <td>2</td>\n",
       "      <td>4</td>\n",
       "      <td>1</td>\n",
       "      <td>7</td>\n",
       "      <td>18</td>\n",
       "      <td>9</td>\n",
       "      <td>1959</td>\n",
       "      <td>0</td>\n",
       "      <td>1.382163</td>\n",
       "      <td>0.271488</td>\n",
       "    </tr>\n",
       "    <tr>\n",
       "      <th>4</th>\n",
       "      <td>AT</td>\n",
       "      <td>0</td>\n",
       "      <td>66</td>\n",
       "      <td>1</td>\n",
       "      <td>1</td>\n",
       "      <td>0</td>\n",
       "      <td>66</td>\n",
       "      <td>7</td>\n",
       "      <td>1</td>\n",
       "      <td>10</td>\n",
       "      <td>15</td>\n",
       "      <td>9</td>\n",
       "      <td>1962</td>\n",
       "      <td>0</td>\n",
       "      <td>1.437766</td>\n",
       "      <td>0.271488</td>\n",
       "    </tr>\n",
       "  </tbody>\n",
       "</table>\n",
       "</div>"
      ],
      "text/plain": [
       "  cntry  tvtot  tvpol  rdtot  rdpol  nwsptot  nwsppol  netuse  rlgblg  rlgdgr  \\\n",
       "0    AT      1      1      1      1        1        1       5       1       8   \n",
       "1    AT      3      2      4      1        2        2       6       2       5   \n",
       "2    AT      7      3      0     66        0       66       0       1       7   \n",
       "3    AT      1      1      1      1        2        2       4       1       7   \n",
       "4    AT      0     66      1      1        0       66       7       1      10   \n",
       "\n",
       "   eduyrs  hinctnta  yrbrn  eisced   pspwght   pweight  \n",
       "0      11        77   1949       0  0.940933  0.271488  \n",
       "1      14         2   1953       0  0.470466  0.271488  \n",
       "2       9        77   1940       0  1.392155  0.271488  \n",
       "3      18         9   1959       0  1.382163  0.271488  \n",
       "4      15         9   1962       0  1.437766  0.271488  "
      ]
     },
     "execution_count": 40,
     "metadata": {},
     "output_type": "execute_result"
    }
   ],
   "source": [
    "df1 = read_cycle('ESS1e06_4.dta')\n",
    "df1.head()"
   ]
  },
  {
   "cell_type": "markdown",
   "metadata": {},
   "source": [
    "Read data from Cycle 2."
   ]
  },
  {
   "cell_type": "code",
   "execution_count": 41,
   "metadata": {
    "collapsed": false
   },
   "outputs": [
    {
     "data": {
      "text/html": [
       "<div>\n",
       "<table border=\"1\" class=\"dataframe\">\n",
       "  <thead>\n",
       "    <tr style=\"text-align: right;\">\n",
       "      <th></th>\n",
       "      <th>cntry</th>\n",
       "      <th>tvtot</th>\n",
       "      <th>tvpol</th>\n",
       "      <th>rdtot</th>\n",
       "      <th>rdpol</th>\n",
       "      <th>nwsptot</th>\n",
       "      <th>nwsppol</th>\n",
       "      <th>netuse</th>\n",
       "      <th>rlgblg</th>\n",
       "      <th>rlgdgr</th>\n",
       "      <th>eduyrs</th>\n",
       "      <th>hinctnta</th>\n",
       "      <th>yrbrn</th>\n",
       "      <th>eisced</th>\n",
       "      <th>pspwght</th>\n",
       "      <th>pweight</th>\n",
       "    </tr>\n",
       "  </thead>\n",
       "  <tbody>\n",
       "    <tr>\n",
       "      <th>0</th>\n",
       "      <td>AT</td>\n",
       "      <td>3</td>\n",
       "      <td>2</td>\n",
       "      <td>0</td>\n",
       "      <td>66</td>\n",
       "      <td>4</td>\n",
       "      <td>2</td>\n",
       "      <td>7</td>\n",
       "      <td>1</td>\n",
       "      <td>7</td>\n",
       "      <td>12</td>\n",
       "      <td>8</td>\n",
       "      <td>1971</td>\n",
       "      <td>0</td>\n",
       "      <td>0.682185</td>\n",
       "      <td>0.302006</td>\n",
       "    </tr>\n",
       "    <tr>\n",
       "      <th>1</th>\n",
       "      <td>AT</td>\n",
       "      <td>7</td>\n",
       "      <td>2</td>\n",
       "      <td>3</td>\n",
       "      <td>1</td>\n",
       "      <td>5</td>\n",
       "      <td>2</td>\n",
       "      <td>0</td>\n",
       "      <td>1</td>\n",
       "      <td>7</td>\n",
       "      <td>8</td>\n",
       "      <td>4</td>\n",
       "      <td>1925</td>\n",
       "      <td>0</td>\n",
       "      <td>0.565038</td>\n",
       "      <td>0.302006</td>\n",
       "    </tr>\n",
       "    <tr>\n",
       "      <th>2</th>\n",
       "      <td>AT</td>\n",
       "      <td>6</td>\n",
       "      <td>2</td>\n",
       "      <td>1</td>\n",
       "      <td>0</td>\n",
       "      <td>1</td>\n",
       "      <td>0</td>\n",
       "      <td>6</td>\n",
       "      <td>2</td>\n",
       "      <td>4</td>\n",
       "      <td>13</td>\n",
       "      <td>6</td>\n",
       "      <td>1977</td>\n",
       "      <td>0</td>\n",
       "      <td>0.341133</td>\n",
       "      <td>0.302006</td>\n",
       "    </tr>\n",
       "    <tr>\n",
       "      <th>3</th>\n",
       "      <td>AT</td>\n",
       "      <td>3</td>\n",
       "      <td>1</td>\n",
       "      <td>2</td>\n",
       "      <td>1</td>\n",
       "      <td>2</td>\n",
       "      <td>1</td>\n",
       "      <td>7</td>\n",
       "      <td>1</td>\n",
       "      <td>5</td>\n",
       "      <td>8</td>\n",
       "      <td>9</td>\n",
       "      <td>1989</td>\n",
       "      <td>0</td>\n",
       "      <td>0.804050</td>\n",
       "      <td>0.302006</td>\n",
       "    </tr>\n",
       "    <tr>\n",
       "      <th>4</th>\n",
       "      <td>AT</td>\n",
       "      <td>2</td>\n",
       "      <td>1</td>\n",
       "      <td>1</td>\n",
       "      <td>1</td>\n",
       "      <td>1</td>\n",
       "      <td>1</td>\n",
       "      <td>4</td>\n",
       "      <td>2</td>\n",
       "      <td>1</td>\n",
       "      <td>11</td>\n",
       "      <td>88</td>\n",
       "      <td>1988</td>\n",
       "      <td>0</td>\n",
       "      <td>1.125251</td>\n",
       "      <td>0.302006</td>\n",
       "    </tr>\n",
       "  </tbody>\n",
       "</table>\n",
       "</div>"
      ],
      "text/plain": [
       "  cntry  tvtot  tvpol  rdtot  rdpol  nwsptot  nwsppol  netuse  rlgblg  rlgdgr  \\\n",
       "0    AT      3      2      0     66        4        2       7       1       7   \n",
       "1    AT      7      2      3      1        5        2       0       1       7   \n",
       "2    AT      6      2      1      0        1        0       6       2       4   \n",
       "3    AT      3      1      2      1        2        1       7       1       5   \n",
       "4    AT      2      1      1      1        1        1       4       2       1   \n",
       "\n",
       "   eduyrs  hinctnta  yrbrn  eisced   pspwght   pweight  \n",
       "0      12         8   1971       0  0.682185  0.302006  \n",
       "1       8         4   1925       0  0.565038  0.302006  \n",
       "2      13         6   1977       0  0.341133  0.302006  \n",
       "3       8         9   1989       0  0.804050  0.302006  \n",
       "4      11        88   1988       0  1.125251  0.302006  "
      ]
     },
     "execution_count": 41,
     "metadata": {},
     "output_type": "execute_result"
    }
   ],
   "source": [
    "df2 = read_cycle('ESS2e03_4.dta')\n",
    "df2.head()"
   ]
  },
  {
   "cell_type": "markdown",
   "metadata": {},
   "source": [
    "Read data from Cycle 3."
   ]
  },
  {
   "cell_type": "code",
   "execution_count": 42,
   "metadata": {
    "collapsed": false
   },
   "outputs": [
    {
     "data": {
      "text/html": [
       "<div>\n",
       "<table border=\"1\" class=\"dataframe\">\n",
       "  <thead>\n",
       "    <tr style=\"text-align: right;\">\n",
       "      <th></th>\n",
       "      <th>cntry</th>\n",
       "      <th>tvtot</th>\n",
       "      <th>tvpol</th>\n",
       "      <th>rdtot</th>\n",
       "      <th>rdpol</th>\n",
       "      <th>nwsptot</th>\n",
       "      <th>nwsppol</th>\n",
       "      <th>netuse</th>\n",
       "      <th>rlgblg</th>\n",
       "      <th>rlgdgr</th>\n",
       "      <th>eduyrs</th>\n",
       "      <th>hinctnta</th>\n",
       "      <th>yrbrn</th>\n",
       "      <th>eisced</th>\n",
       "      <th>pspwght</th>\n",
       "      <th>pweight</th>\n",
       "    </tr>\n",
       "  </thead>\n",
       "  <tbody>\n",
       "    <tr>\n",
       "      <th>0</th>\n",
       "      <td>AT</td>\n",
       "      <td>5</td>\n",
       "      <td>1</td>\n",
       "      <td>7</td>\n",
       "      <td>2</td>\n",
       "      <td>0</td>\n",
       "      <td>66</td>\n",
       "      <td>6</td>\n",
       "      <td>1</td>\n",
       "      <td>3</td>\n",
       "      <td>11</td>\n",
       "      <td>7</td>\n",
       "      <td>1980</td>\n",
       "      <td>0</td>\n",
       "      <td>0.949578</td>\n",
       "      <td>0.289116</td>\n",
       "    </tr>\n",
       "    <tr>\n",
       "      <th>1</th>\n",
       "      <td>AT</td>\n",
       "      <td>3</td>\n",
       "      <td>1</td>\n",
       "      <td>2</td>\n",
       "      <td>1</td>\n",
       "      <td>2</td>\n",
       "      <td>1</td>\n",
       "      <td>7</td>\n",
       "      <td>1</td>\n",
       "      <td>9</td>\n",
       "      <td>20</td>\n",
       "      <td>5</td>\n",
       "      <td>1974</td>\n",
       "      <td>0</td>\n",
       "      <td>1.412180</td>\n",
       "      <td>0.289116</td>\n",
       "    </tr>\n",
       "    <tr>\n",
       "      <th>2</th>\n",
       "      <td>AT</td>\n",
       "      <td>1</td>\n",
       "      <td>1</td>\n",
       "      <td>7</td>\n",
       "      <td>2</td>\n",
       "      <td>2</td>\n",
       "      <td>1</td>\n",
       "      <td>7</td>\n",
       "      <td>1</td>\n",
       "      <td>6</td>\n",
       "      <td>16</td>\n",
       "      <td>77</td>\n",
       "      <td>1954</td>\n",
       "      <td>0</td>\n",
       "      <td>0.723276</td>\n",
       "      <td>0.289116</td>\n",
       "    </tr>\n",
       "    <tr>\n",
       "      <th>3</th>\n",
       "      <td>AT</td>\n",
       "      <td>4</td>\n",
       "      <td>1</td>\n",
       "      <td>7</td>\n",
       "      <td>2</td>\n",
       "      <td>3</td>\n",
       "      <td>2</td>\n",
       "      <td>6</td>\n",
       "      <td>1</td>\n",
       "      <td>5</td>\n",
       "      <td>12</td>\n",
       "      <td>88</td>\n",
       "      <td>1967</td>\n",
       "      <td>0</td>\n",
       "      <td>0.625744</td>\n",
       "      <td>0.289116</td>\n",
       "    </tr>\n",
       "    <tr>\n",
       "      <th>4</th>\n",
       "      <td>AT</td>\n",
       "      <td>6</td>\n",
       "      <td>2</td>\n",
       "      <td>6</td>\n",
       "      <td>2</td>\n",
       "      <td>3</td>\n",
       "      <td>1</td>\n",
       "      <td>0</td>\n",
       "      <td>1</td>\n",
       "      <td>7</td>\n",
       "      <td>11</td>\n",
       "      <td>88</td>\n",
       "      <td>1971</td>\n",
       "      <td>0</td>\n",
       "      <td>0.417162</td>\n",
       "      <td>0.289116</td>\n",
       "    </tr>\n",
       "  </tbody>\n",
       "</table>\n",
       "</div>"
      ],
      "text/plain": [
       "  cntry  tvtot  tvpol  rdtot  rdpol  nwsptot  nwsppol  netuse  rlgblg  rlgdgr  \\\n",
       "0    AT      5      1      7      2        0       66       6       1       3   \n",
       "1    AT      3      1      2      1        2        1       7       1       9   \n",
       "2    AT      1      1      7      2        2        1       7       1       6   \n",
       "3    AT      4      1      7      2        3        2       6       1       5   \n",
       "4    AT      6      2      6      2        3        1       0       1       7   \n",
       "\n",
       "   eduyrs  hinctnta  yrbrn  eisced   pspwght   pweight  \n",
       "0      11         7   1980       0  0.949578  0.289116  \n",
       "1      20         5   1974       0  1.412180  0.289116  \n",
       "2      16        77   1954       0  0.723276  0.289116  \n",
       "3      12        88   1967       0  0.625744  0.289116  \n",
       "4      11        88   1971       0  0.417162  0.289116  "
      ]
     },
     "execution_count": 42,
     "metadata": {},
     "output_type": "execute_result"
    }
   ],
   "source": [
    "df3 = read_cycle('ESS3e03_5.dta')\n",
    "df3.head()"
   ]
  },
  {
   "cell_type": "markdown",
   "metadata": {},
   "source": [
    "Read data from Cycle 4."
   ]
  },
  {
   "cell_type": "code",
   "execution_count": 43,
   "metadata": {
    "collapsed": false
   },
   "outputs": [
    {
     "data": {
      "text/html": [
       "<div>\n",
       "<table border=\"1\" class=\"dataframe\">\n",
       "  <thead>\n",
       "    <tr style=\"text-align: right;\">\n",
       "      <th></th>\n",
       "      <th>cntry</th>\n",
       "      <th>tvtot</th>\n",
       "      <th>tvpol</th>\n",
       "      <th>rdtot</th>\n",
       "      <th>rdpol</th>\n",
       "      <th>nwsptot</th>\n",
       "      <th>nwsppol</th>\n",
       "      <th>netuse</th>\n",
       "      <th>rlgblg</th>\n",
       "      <th>rlgdgr</th>\n",
       "      <th>eduyrs</th>\n",
       "      <th>hinctnta</th>\n",
       "      <th>yrbrn</th>\n",
       "      <th>eisced</th>\n",
       "      <th>pspwght</th>\n",
       "      <th>pweight</th>\n",
       "    </tr>\n",
       "  </thead>\n",
       "  <tbody>\n",
       "    <tr>\n",
       "      <th>0</th>\n",
       "      <td>BE</td>\n",
       "      <td>7</td>\n",
       "      <td>1</td>\n",
       "      <td>0</td>\n",
       "      <td>66</td>\n",
       "      <td>0</td>\n",
       "      <td>66</td>\n",
       "      <td>0</td>\n",
       "      <td>2</td>\n",
       "      <td>1</td>\n",
       "      <td>18</td>\n",
       "      <td>4</td>\n",
       "      <td>1972</td>\n",
       "      <td>6</td>\n",
       "      <td>0.823223</td>\n",
       "      <td>0.503773</td>\n",
       "    </tr>\n",
       "    <tr>\n",
       "      <th>1</th>\n",
       "      <td>BE</td>\n",
       "      <td>7</td>\n",
       "      <td>2</td>\n",
       "      <td>7</td>\n",
       "      <td>3</td>\n",
       "      <td>0</td>\n",
       "      <td>66</td>\n",
       "      <td>0</td>\n",
       "      <td>2</td>\n",
       "      <td>0</td>\n",
       "      <td>15</td>\n",
       "      <td>7</td>\n",
       "      <td>1982</td>\n",
       "      <td>6</td>\n",
       "      <td>0.798610</td>\n",
       "      <td>0.503773</td>\n",
       "    </tr>\n",
       "    <tr>\n",
       "      <th>2</th>\n",
       "      <td>BE</td>\n",
       "      <td>2</td>\n",
       "      <td>2</td>\n",
       "      <td>3</td>\n",
       "      <td>3</td>\n",
       "      <td>3</td>\n",
       "      <td>3</td>\n",
       "      <td>7</td>\n",
       "      <td>1</td>\n",
       "      <td>6</td>\n",
       "      <td>18</td>\n",
       "      <td>10</td>\n",
       "      <td>1940</td>\n",
       "      <td>7</td>\n",
       "      <td>0.778020</td>\n",
       "      <td>0.503773</td>\n",
       "    </tr>\n",
       "    <tr>\n",
       "      <th>3</th>\n",
       "      <td>BE</td>\n",
       "      <td>7</td>\n",
       "      <td>2</td>\n",
       "      <td>2</td>\n",
       "      <td>2</td>\n",
       "      <td>2</td>\n",
       "      <td>2</td>\n",
       "      <td>0</td>\n",
       "      <td>1</td>\n",
       "      <td>6</td>\n",
       "      <td>15</td>\n",
       "      <td>7</td>\n",
       "      <td>1931</td>\n",
       "      <td>6</td>\n",
       "      <td>0.777735</td>\n",
       "      <td>0.503773</td>\n",
       "    </tr>\n",
       "    <tr>\n",
       "      <th>4</th>\n",
       "      <td>BE</td>\n",
       "      <td>0</td>\n",
       "      <td>66</td>\n",
       "      <td>3</td>\n",
       "      <td>0</td>\n",
       "      <td>1</td>\n",
       "      <td>1</td>\n",
       "      <td>7</td>\n",
       "      <td>2</td>\n",
       "      <td>0</td>\n",
       "      <td>13</td>\n",
       "      <td>7</td>\n",
       "      <td>1982</td>\n",
       "      <td>4</td>\n",
       "      <td>0.960960</td>\n",
       "      <td>0.503773</td>\n",
       "    </tr>\n",
       "  </tbody>\n",
       "</table>\n",
       "</div>"
      ],
      "text/plain": [
       "  cntry  tvtot  tvpol  rdtot  rdpol  nwsptot  nwsppol  netuse  rlgblg  rlgdgr  \\\n",
       "0    BE      7      1      0     66        0       66       0       2       1   \n",
       "1    BE      7      2      7      3        0       66       0       2       0   \n",
       "2    BE      2      2      3      3        3        3       7       1       6   \n",
       "3    BE      7      2      2      2        2        2       0       1       6   \n",
       "4    BE      0     66      3      0        1        1       7       2       0   \n",
       "\n",
       "   eduyrs  hinctnta  yrbrn  eisced   pspwght   pweight  \n",
       "0      18         4   1972       6  0.823223  0.503773  \n",
       "1      15         7   1982       6  0.798610  0.503773  \n",
       "2      18        10   1940       7  0.778020  0.503773  \n",
       "3      15         7   1931       6  0.777735  0.503773  \n",
       "4      13         7   1982       4  0.960960  0.503773  "
      ]
     },
     "execution_count": 43,
     "metadata": {},
     "output_type": "execute_result"
    }
   ],
   "source": [
    "df4 = read_cycle('ESS4e04_3.dta')\n",
    "df4.head()"
   ]
  },
  {
   "cell_type": "markdown",
   "metadata": {},
   "source": [
    "Read data from Cycle 5."
   ]
  },
  {
   "cell_type": "code",
   "execution_count": 44,
   "metadata": {
    "collapsed": false
   },
   "outputs": [
    {
     "data": {
      "text/html": [
       "<div>\n",
       "<table border=\"1\" class=\"dataframe\">\n",
       "  <thead>\n",
       "    <tr style=\"text-align: right;\">\n",
       "      <th></th>\n",
       "      <th>cntry</th>\n",
       "      <th>tvtot</th>\n",
       "      <th>tvpol</th>\n",
       "      <th>rdtot</th>\n",
       "      <th>rdpol</th>\n",
       "      <th>nwsptot</th>\n",
       "      <th>nwsppol</th>\n",
       "      <th>netuse</th>\n",
       "      <th>rlgblg</th>\n",
       "      <th>rlgdgr</th>\n",
       "      <th>eduyrs</th>\n",
       "      <th>hinctnta</th>\n",
       "      <th>yrbrn</th>\n",
       "      <th>eisced</th>\n",
       "      <th>pspwght</th>\n",
       "      <th>pweight</th>\n",
       "    </tr>\n",
       "  </thead>\n",
       "  <tbody>\n",
       "    <tr>\n",
       "      <th>0</th>\n",
       "      <td>BE</td>\n",
       "      <td>5</td>\n",
       "      <td>1</td>\n",
       "      <td>1</td>\n",
       "      <td>0</td>\n",
       "      <td>1</td>\n",
       "      <td>1</td>\n",
       "      <td>2</td>\n",
       "      <td>1</td>\n",
       "      <td>5</td>\n",
       "      <td>15</td>\n",
       "      <td>88</td>\n",
       "      <td>1988</td>\n",
       "      <td>4</td>\n",
       "      <td>0.792865</td>\n",
       "      <td>0.528619</td>\n",
       "    </tr>\n",
       "    <tr>\n",
       "      <th>1</th>\n",
       "      <td>BE</td>\n",
       "      <td>4</td>\n",
       "      <td>3</td>\n",
       "      <td>2</td>\n",
       "      <td>2</td>\n",
       "      <td>1</td>\n",
       "      <td>2</td>\n",
       "      <td>6</td>\n",
       "      <td>2</td>\n",
       "      <td>7</td>\n",
       "      <td>15</td>\n",
       "      <td>5</td>\n",
       "      <td>1967</td>\n",
       "      <td>6</td>\n",
       "      <td>0.871107</td>\n",
       "      <td>0.528619</td>\n",
       "    </tr>\n",
       "    <tr>\n",
       "      <th>2</th>\n",
       "      <td>BE</td>\n",
       "      <td>4</td>\n",
       "      <td>0</td>\n",
       "      <td>0</td>\n",
       "      <td>66</td>\n",
       "      <td>0</td>\n",
       "      <td>66</td>\n",
       "      <td>7</td>\n",
       "      <td>2</td>\n",
       "      <td>0</td>\n",
       "      <td>13</td>\n",
       "      <td>1</td>\n",
       "      <td>1991</td>\n",
       "      <td>3</td>\n",
       "      <td>0.799453</td>\n",
       "      <td>0.528619</td>\n",
       "    </tr>\n",
       "    <tr>\n",
       "      <th>3</th>\n",
       "      <td>BE</td>\n",
       "      <td>2</td>\n",
       "      <td>2</td>\n",
       "      <td>7</td>\n",
       "      <td>2</td>\n",
       "      <td>0</td>\n",
       "      <td>66</td>\n",
       "      <td>7</td>\n",
       "      <td>1</td>\n",
       "      <td>5</td>\n",
       "      <td>15</td>\n",
       "      <td>10</td>\n",
       "      <td>1987</td>\n",
       "      <td>6</td>\n",
       "      <td>0.816030</td>\n",
       "      <td>0.528619</td>\n",
       "    </tr>\n",
       "    <tr>\n",
       "      <th>4</th>\n",
       "      <td>BE</td>\n",
       "      <td>7</td>\n",
       "      <td>3</td>\n",
       "      <td>7</td>\n",
       "      <td>4</td>\n",
       "      <td>0</td>\n",
       "      <td>66</td>\n",
       "      <td>0</td>\n",
       "      <td>2</td>\n",
       "      <td>5</td>\n",
       "      <td>15</td>\n",
       "      <td>6</td>\n",
       "      <td>1952</td>\n",
       "      <td>6</td>\n",
       "      <td>0.764902</td>\n",
       "      <td>0.528619</td>\n",
       "    </tr>\n",
       "  </tbody>\n",
       "</table>\n",
       "</div>"
      ],
      "text/plain": [
       "  cntry  tvtot  tvpol  rdtot  rdpol  nwsptot  nwsppol  netuse  rlgblg  rlgdgr  \\\n",
       "0    BE      5      1      1      0        1        1       2       1       5   \n",
       "1    BE      4      3      2      2        1        2       6       2       7   \n",
       "2    BE      4      0      0     66        0       66       7       2       0   \n",
       "3    BE      2      2      7      2        0       66       7       1       5   \n",
       "4    BE      7      3      7      4        0       66       0       2       5   \n",
       "\n",
       "   eduyrs  hinctnta  yrbrn  eisced   pspwght   pweight  \n",
       "0      15        88   1988       4  0.792865  0.528619  \n",
       "1      15         5   1967       6  0.871107  0.528619  \n",
       "2      13         1   1991       3  0.799453  0.528619  \n",
       "3      15        10   1987       6  0.816030  0.528619  \n",
       "4      15         6   1952       6  0.764902  0.528619  "
      ]
     },
     "execution_count": 44,
     "metadata": {},
     "output_type": "execute_result"
    }
   ],
   "source": [
    "df5 = read_cycle('ESS5e03_2.dta')\n",
    "df5.head()"
   ]
  },
  {
   "cell_type": "code",
   "execution_count": 86,
   "metadata": {
    "collapsed": true
   },
   "outputs": [],
   "source": [
    "def clean_cycle(df):\n",
    "    df.tvtot.replace([77, 88, 99], np.nan, inplace=True)\n",
    "    df.rdtot.replace([77, 88, 99], np.nan, inplace=True)\n",
    "    df.nwsptot.replace([77, 88, 99], np.nan, inplace=True)\n",
    "    df.netuse.replace([77, 88, 99], np.nan, inplace=True)\n",
    "    df.tvpol.replace([66, 77, 88, 99], np.nan, inplace=True)\n",
    "    df.rdpol.replace([66, 77, 88, 99], np.nan, inplace=True)\n",
    "    df.nwsppol.replace([66, 77, 88, 99], np.nan, inplace=True)\n",
    "    df.eduyrs.replace([77, 88, 99], np.nan, inplace=True)\n",
    "    df.rlgblg.replace([7, 8, 9], np.nan, inplace=True)\n",
    "    df.rlgdgr.replace([77, 88, 99], np.nan, inplace=True)\n",
    "    df.hinctnta.replace([77, 88, 99], np.nan, inplace=True)\n",
    "    df.yrbrn.replace([7777, 8888, 9999], np.nan, inplace=True)\n",
    "    \n",
    "    df['hasrelig'] = (df.rlgblg==1).astype(int)\n",
    "    df.loc[df.rlgblg.isnull(), 'hasrelig'] = np.nan\n",
    "    \n",
    "    df['yrbrn60'] = df.yrbrn - 1960"
   ]
  },
  {
   "cell_type": "code",
   "execution_count": 87,
   "metadata": {
    "collapsed": false
   },
   "outputs": [],
   "source": [
    "cycles = [df1, df2, df3, df4, df5]\n",
    "for cycle in cycles:\n",
    "    clean_cycle(cycle)"
   ]
  },
  {
   "cell_type": "code",
   "execution_count": 88,
   "metadata": {
    "collapsed": false
   },
   "outputs": [
    {
     "name": "stdout",
     "output_type": "stream",
     "text": [
      "22 countries\n",
      "25 countries\n",
      "23 countries\n",
      "29 countries\n",
      "27 countries\n"
     ]
    }
   ],
   "source": [
    "def resample(df):\n",
    "    res = {}\n",
    "    grouped = df.groupby('cntry')\n",
    "    for name, group in grouped:\n",
    "        sample = group.sample(len(group), weights=group.pspwght, replace=True)\n",
    "        sample.index = range(len(group))\n",
    "        res[name] = sample\n",
    "    return res\n",
    "\n",
    "# each cycle_map is a map from country code to DataFrame\n",
    "cycle_maps = [resample(cycle) for cycle in cycles]\n",
    "for cycle_map in cycle_maps:\n",
    "    print(len(cycle_map), 'countries')"
   ]
  },
  {
   "cell_type": "markdown",
   "metadata": {},
   "source": [
    "TODO: Find out which questons were omitted in which countries during which cycles."
   ]
  },
  {
   "cell_type": "code",
   "execution_count": 89,
   "metadata": {
    "collapsed": false
   },
   "outputs": [],
   "source": [
    "def replace_var_with_rank(name, df, old, new):\n",
    "    series = df[old] + np.random.uniform(-0.25, 0.25, len(df))\n",
    "    if len(series.dropna()) < 10:\n",
    "        df[new] = np.random.random(len(df))\n",
    "        return\n",
    "    \n",
    "    cdf = thinkstats2.Cdf(series)\n",
    "    df[new] = cdf.Probs(series)\n",
    "    df.loc[df[old].isnull(), new] = np.nan\n",
    "    \n",
    "def replace_with_ranks(cycle_map):\n",
    "    for name, group in cycle_map.items():\n",
    "        replace_var_with_rank(name, group, 'hinctnta', 'hincrank')\n",
    "        replace_var_with_rank(name, group, 'eduyrs', 'edurank')\n",
    "        \n",
    "for cycle_map in cycle_maps:\n",
    "    replace_with_ranks(cycle_map)"
   ]
  },
  {
   "cell_type": "code",
   "execution_count": 96,
   "metadata": {
    "collapsed": false
   },
   "outputs": [],
   "source": [
    "def fill_var(df, old, new):\n",
    "    null = df[df[old].isnull()]\n",
    "    if len(null) == 0:\n",
    "        return\n",
    "\n",
    "    print(len(df[old].dropna()))\n",
    "    fill = df[old].dropna().sample(len(null), replace=True)\n",
    "    fill.index = null.index\n",
    "    df[new] = df[old].fillna(fill)\n",
    "    \n",
    "def fill_all_vars(df):\n",
    "    for old in ['hasrelig', 'yrbrn60', 'edurank', 'hincrank',\n",
    "           'tvtot', 'rdtot', 'nwsptot', 'netuse']:\n",
    "        new = old + '_f'\n",
    "        print(old)\n",
    "        fill_var(df, old, new)\n",
    "        #print(old, sum(df[old].isnull()), sum(df[new].isnull()))"
   ]
  },
  {
   "cell_type": "code",
   "execution_count": 97,
   "metadata": {
    "collapsed": false
   },
   "outputs": [
    {
     "name": "stdout",
     "output_type": "stream",
     "text": [
      "BE\n",
      "hasrelig\n",
      "1894\n",
      "yrbrn60\n",
      "1817\n",
      "edurank\n",
      "1863\n",
      "hincrank\n",
      "1471\n",
      "tvtot\n",
      "1891\n",
      "rdtot\n",
      "1898\n",
      "nwsptot\n",
      "1894\n",
      "netuse\n",
      "1897\n",
      "FR\n",
      "hasrelig\n",
      "1500\n",
      "yrbrn60\n",
      "edurank\n",
      "1474\n",
      "hincrank\n",
      "tvtot\n",
      "rdtot\n",
      "1500\n",
      "nwsptot\n",
      "netuse\n",
      "0\n"
     ]
    },
    {
     "ename": "ValueError",
     "evalue": "a must be greater than 0",
     "output_type": "error",
     "traceback": [
      "\u001b[1;31m---------------------------------------------------------------------------\u001b[0m",
      "\u001b[1;31mValueError\u001b[0m                                Traceback (most recent call last)",
      "\u001b[1;32m<ipython-input-97-c4e3762937e2>\u001b[0m in \u001b[0;36m<module>\u001b[1;34m()\u001b[0m\n\u001b[0;32m      5\u001b[0m \u001b[1;33m\u001b[0m\u001b[0m\n\u001b[0;32m      6\u001b[0m \u001b[1;32mfor\u001b[0m \u001b[0mcycle_map\u001b[0m \u001b[1;32min\u001b[0m \u001b[0mcycle_maps\u001b[0m\u001b[1;33m:\u001b[0m\u001b[1;33m\u001b[0m\u001b[0m\n\u001b[1;32m----> 7\u001b[1;33m     \u001b[0mfill_vars_by_country\u001b[0m\u001b[1;33m(\u001b[0m\u001b[0mcycle_map\u001b[0m\u001b[1;33m)\u001b[0m\u001b[1;33m\u001b[0m\u001b[0m\n\u001b[0m",
      "\u001b[1;32m<ipython-input-97-c4e3762937e2>\u001b[0m in \u001b[0;36mfill_vars_by_country\u001b[1;34m(cycle_map)\u001b[0m\n\u001b[0;32m      2\u001b[0m     \u001b[1;32mfor\u001b[0m \u001b[0mname\u001b[0m\u001b[1;33m,\u001b[0m \u001b[0mgroup\u001b[0m \u001b[1;32min\u001b[0m \u001b[0mcycle_map\u001b[0m\u001b[1;33m.\u001b[0m\u001b[0mitems\u001b[0m\u001b[1;33m(\u001b[0m\u001b[1;33m)\u001b[0m\u001b[1;33m:\u001b[0m\u001b[1;33m\u001b[0m\u001b[0m\n\u001b[0;32m      3\u001b[0m         \u001b[1;32mprint\u001b[0m\u001b[1;33m(\u001b[0m\u001b[0mname\u001b[0m\u001b[1;33m)\u001b[0m\u001b[1;33m\u001b[0m\u001b[0m\n\u001b[1;32m----> 4\u001b[1;33m         \u001b[0mfill_all_vars\u001b[0m\u001b[1;33m(\u001b[0m\u001b[0mgroup\u001b[0m\u001b[1;33m)\u001b[0m\u001b[1;33m\u001b[0m\u001b[0m\n\u001b[0m\u001b[0;32m      5\u001b[0m \u001b[1;33m\u001b[0m\u001b[0m\n\u001b[0;32m      6\u001b[0m \u001b[1;32mfor\u001b[0m \u001b[0mcycle_map\u001b[0m \u001b[1;32min\u001b[0m \u001b[0mcycle_maps\u001b[0m\u001b[1;33m:\u001b[0m\u001b[1;33m\u001b[0m\u001b[0m\n",
      "\u001b[1;32m<ipython-input-96-9abf393efd15>\u001b[0m in \u001b[0;36mfill_all_vars\u001b[1;34m(df)\u001b[0m\n\u001b[0;32m     14\u001b[0m         \u001b[0mnew\u001b[0m \u001b[1;33m=\u001b[0m \u001b[0mold\u001b[0m \u001b[1;33m+\u001b[0m \u001b[1;34m'_f'\u001b[0m\u001b[1;33m\u001b[0m\u001b[0m\n\u001b[0;32m     15\u001b[0m         \u001b[1;32mprint\u001b[0m\u001b[1;33m(\u001b[0m\u001b[0mold\u001b[0m\u001b[1;33m)\u001b[0m\u001b[1;33m\u001b[0m\u001b[0m\n\u001b[1;32m---> 16\u001b[1;33m         \u001b[0mfill_var\u001b[0m\u001b[1;33m(\u001b[0m\u001b[0mdf\u001b[0m\u001b[1;33m,\u001b[0m \u001b[0mold\u001b[0m\u001b[1;33m,\u001b[0m \u001b[0mnew\u001b[0m\u001b[1;33m)\u001b[0m\u001b[1;33m\u001b[0m\u001b[0m\n\u001b[0m\u001b[0;32m     17\u001b[0m         \u001b[1;31m#print(old, sum(df[old].isnull()), sum(df[new].isnull()))\u001b[0m\u001b[1;33m\u001b[0m\u001b[1;33m\u001b[0m\u001b[0m\n",
      "\u001b[1;32m<ipython-input-96-9abf393efd15>\u001b[0m in \u001b[0;36mfill_var\u001b[1;34m(df, old, new)\u001b[0m\n\u001b[0;32m      5\u001b[0m \u001b[1;33m\u001b[0m\u001b[0m\n\u001b[0;32m      6\u001b[0m     \u001b[1;32mprint\u001b[0m\u001b[1;33m(\u001b[0m\u001b[0mlen\u001b[0m\u001b[1;33m(\u001b[0m\u001b[0mdf\u001b[0m\u001b[1;33m[\u001b[0m\u001b[0mold\u001b[0m\u001b[1;33m]\u001b[0m\u001b[1;33m.\u001b[0m\u001b[0mdropna\u001b[0m\u001b[1;33m(\u001b[0m\u001b[1;33m)\u001b[0m\u001b[1;33m)\u001b[0m\u001b[1;33m)\u001b[0m\u001b[1;33m\u001b[0m\u001b[0m\n\u001b[1;32m----> 7\u001b[1;33m     \u001b[0mfill\u001b[0m \u001b[1;33m=\u001b[0m \u001b[0mdf\u001b[0m\u001b[1;33m[\u001b[0m\u001b[0mold\u001b[0m\u001b[1;33m]\u001b[0m\u001b[1;33m.\u001b[0m\u001b[0mdropna\u001b[0m\u001b[1;33m(\u001b[0m\u001b[1;33m)\u001b[0m\u001b[1;33m.\u001b[0m\u001b[0msample\u001b[0m\u001b[1;33m(\u001b[0m\u001b[0mlen\u001b[0m\u001b[1;33m(\u001b[0m\u001b[0mnull\u001b[0m\u001b[1;33m)\u001b[0m\u001b[1;33m,\u001b[0m \u001b[0mreplace\u001b[0m\u001b[1;33m=\u001b[0m\u001b[0mTrue\u001b[0m\u001b[1;33m)\u001b[0m\u001b[1;33m\u001b[0m\u001b[0m\n\u001b[0m\u001b[0;32m      8\u001b[0m     \u001b[0mfill\u001b[0m\u001b[1;33m.\u001b[0m\u001b[0mindex\u001b[0m \u001b[1;33m=\u001b[0m \u001b[0mnull\u001b[0m\u001b[1;33m.\u001b[0m\u001b[0mindex\u001b[0m\u001b[1;33m\u001b[0m\u001b[0m\n\u001b[0;32m      9\u001b[0m     \u001b[0mdf\u001b[0m\u001b[1;33m[\u001b[0m\u001b[0mnew\u001b[0m\u001b[1;33m]\u001b[0m \u001b[1;33m=\u001b[0m \u001b[0mdf\u001b[0m\u001b[1;33m[\u001b[0m\u001b[0mold\u001b[0m\u001b[1;33m]\u001b[0m\u001b[1;33m.\u001b[0m\u001b[0mfillna\u001b[0m\u001b[1;33m(\u001b[0m\u001b[0mfill\u001b[0m\u001b[1;33m)\u001b[0m\u001b[1;33m\u001b[0m\u001b[0m\n",
      "\u001b[1;32m/home/downey/anaconda/lib/python2.7/site-packages/pandas/core/generic.pyc\u001b[0m in \u001b[0;36msample\u001b[1;34m(self, n, frac, replace, weights, random_state, axis)\u001b[0m\n\u001b[0;32m   2142\u001b[0m             \u001b[1;32mraise\u001b[0m \u001b[0mValueError\u001b[0m\u001b[1;33m(\u001b[0m\u001b[1;34m\"A negative number of rows requested. Please provide positive value.\"\u001b[0m\u001b[1;33m)\u001b[0m\u001b[1;33m\u001b[0m\u001b[0m\n\u001b[0;32m   2143\u001b[0m \u001b[1;33m\u001b[0m\u001b[0m\n\u001b[1;32m-> 2144\u001b[1;33m         \u001b[0mlocs\u001b[0m \u001b[1;33m=\u001b[0m \u001b[0mrs\u001b[0m\u001b[1;33m.\u001b[0m\u001b[0mchoice\u001b[0m\u001b[1;33m(\u001b[0m\u001b[0maxis_length\u001b[0m\u001b[1;33m,\u001b[0m \u001b[0msize\u001b[0m\u001b[1;33m=\u001b[0m\u001b[0mn\u001b[0m\u001b[1;33m,\u001b[0m \u001b[0mreplace\u001b[0m\u001b[1;33m=\u001b[0m\u001b[0mreplace\u001b[0m\u001b[1;33m,\u001b[0m \u001b[0mp\u001b[0m\u001b[1;33m=\u001b[0m\u001b[0mweights\u001b[0m\u001b[1;33m)\u001b[0m\u001b[1;33m\u001b[0m\u001b[0m\n\u001b[0m\u001b[0;32m   2145\u001b[0m         \u001b[1;32mreturn\u001b[0m \u001b[0mself\u001b[0m\u001b[1;33m.\u001b[0m\u001b[0mtake\u001b[0m\u001b[1;33m(\u001b[0m\u001b[0mlocs\u001b[0m\u001b[1;33m,\u001b[0m \u001b[0maxis\u001b[0m\u001b[1;33m=\u001b[0m\u001b[0maxis\u001b[0m\u001b[1;33m,\u001b[0m \u001b[0mis_copy\u001b[0m\u001b[1;33m=\u001b[0m\u001b[0mFalse\u001b[0m\u001b[1;33m)\u001b[0m\u001b[1;33m\u001b[0m\u001b[0m\n\u001b[0;32m   2146\u001b[0m \u001b[1;33m\u001b[0m\u001b[0m\n",
      "\u001b[1;32mmtrand.pyx\u001b[0m in \u001b[0;36mmtrand.RandomState.choice (numpy/random/mtrand/mtrand.c:10334)\u001b[1;34m()\u001b[0m\n",
      "\u001b[1;31mValueError\u001b[0m: a must be greater than 0"
     ]
    }
   ],
   "source": [
    "def fill_vars_by_country(cycle_map):\n",
    "    for name, group in cycle_map.items():\n",
    "        print(name)\n",
    "        fill_all_vars(group)\n",
    "        \n",
    "for cycle_map in cycle_maps:\n",
    "    fill_vars_by_country(cycle_map)"
   ]
  },
  {
   "cell_type": "code",
   "execution_count": 49,
   "metadata": {
    "collapsed": false
   },
   "outputs": [
    {
     "name": "stdout",
     "output_type": "stream",
     "text": [
      "42359\n",
      "47537\n",
      "43000\n",
      "56752\n",
      "52458\n"
     ]
    }
   ],
   "source": [
    "def concat_groups(cycle_map):\n",
    "    return pd.concat(cycle_map.values(), ignore_index=True)\n",
    "\n",
    "dfs = [concat_groups(cycle_map) for cycle_map in cycle_maps]\n",
    "\n",
    "for df in dfs:\n",
    "    print(len(df))"
   ]
  },
  {
   "cell_type": "markdown",
   "metadata": {},
   "source": [
    "Concatenate the cycles."
   ]
  },
  {
   "cell_type": "code",
   "execution_count": 50,
   "metadata": {
    "collapsed": false
   },
   "outputs": [
    {
     "name": "stdout",
     "output_type": "stream",
     "text": [
      "(242106, 18)\n"
     ]
    },
    {
     "data": {
      "text/html": [
       "<div>\n",
       "<table border=\"1\" class=\"dataframe\">\n",
       "  <thead>\n",
       "    <tr style=\"text-align: right;\">\n",
       "      <th></th>\n",
       "      <th>cntry</th>\n",
       "      <th>tvtot</th>\n",
       "      <th>tvpol</th>\n",
       "      <th>rdtot</th>\n",
       "      <th>rdpol</th>\n",
       "      <th>nwsptot</th>\n",
       "      <th>nwsppol</th>\n",
       "      <th>netuse</th>\n",
       "      <th>rlgblg</th>\n",
       "      <th>rlgdgr</th>\n",
       "      <th>eduyrs</th>\n",
       "      <th>hinctnta</th>\n",
       "      <th>yrbrn</th>\n",
       "      <th>eisced</th>\n",
       "      <th>pspwght</th>\n",
       "      <th>pweight</th>\n",
       "      <th>hincrank</th>\n",
       "      <th>edurank</th>\n",
       "    </tr>\n",
       "  </thead>\n",
       "  <tbody>\n",
       "    <tr>\n",
       "      <th>0</th>\n",
       "      <td>BE</td>\n",
       "      <td>1</td>\n",
       "      <td>0</td>\n",
       "      <td>1</td>\n",
       "      <td>0</td>\n",
       "      <td>0</td>\n",
       "      <td>NaN</td>\n",
       "      <td>1</td>\n",
       "      <td>2</td>\n",
       "      <td>7</td>\n",
       "      <td>9</td>\n",
       "      <td>NaN</td>\n",
       "      <td>1960</td>\n",
       "      <td>4</td>\n",
       "      <td>0.792153</td>\n",
       "      <td>0.44784</td>\n",
       "      <td>NaN</td>\n",
       "      <td>0.304604</td>\n",
       "    </tr>\n",
       "    <tr>\n",
       "      <th>1</th>\n",
       "      <td>BE</td>\n",
       "      <td>2</td>\n",
       "      <td>2</td>\n",
       "      <td>0</td>\n",
       "      <td>NaN</td>\n",
       "      <td>2</td>\n",
       "      <td>1</td>\n",
       "      <td>4</td>\n",
       "      <td>1</td>\n",
       "      <td>8</td>\n",
       "      <td>25</td>\n",
       "      <td>NaN</td>\n",
       "      <td>1962</td>\n",
       "      <td>7</td>\n",
       "      <td>0.804951</td>\n",
       "      <td>0.44784</td>\n",
       "      <td>NaN</td>\n",
       "      <td>0.998394</td>\n",
       "    </tr>\n",
       "    <tr>\n",
       "      <th>2</th>\n",
       "      <td>BE</td>\n",
       "      <td>7</td>\n",
       "      <td>3</td>\n",
       "      <td>1</td>\n",
       "      <td>0</td>\n",
       "      <td>2</td>\n",
       "      <td>1</td>\n",
       "      <td>7</td>\n",
       "      <td>1</td>\n",
       "      <td>3</td>\n",
       "      <td>15</td>\n",
       "      <td>NaN</td>\n",
       "      <td>1940</td>\n",
       "      <td>6</td>\n",
       "      <td>0.671320</td>\n",
       "      <td>0.44784</td>\n",
       "      <td>NaN</td>\n",
       "      <td>0.806745</td>\n",
       "    </tr>\n",
       "    <tr>\n",
       "      <th>3</th>\n",
       "      <td>BE</td>\n",
       "      <td>5</td>\n",
       "      <td>2</td>\n",
       "      <td>7</td>\n",
       "      <td>2</td>\n",
       "      <td>0</td>\n",
       "      <td>NaN</td>\n",
       "      <td>0</td>\n",
       "      <td>1</td>\n",
       "      <td>6</td>\n",
       "      <td>10</td>\n",
       "      <td>10</td>\n",
       "      <td>1940</td>\n",
       "      <td>2</td>\n",
       "      <td>1.256671</td>\n",
       "      <td>0.44784</td>\n",
       "      <td>0.959789</td>\n",
       "      <td>0.388651</td>\n",
       "    </tr>\n",
       "    <tr>\n",
       "      <th>4</th>\n",
       "      <td>BE</td>\n",
       "      <td>2</td>\n",
       "      <td>1</td>\n",
       "      <td>3</td>\n",
       "      <td>0</td>\n",
       "      <td>2</td>\n",
       "      <td>1</td>\n",
       "      <td>7</td>\n",
       "      <td>1</td>\n",
       "      <td>7</td>\n",
       "      <td>13</td>\n",
       "      <td>NaN</td>\n",
       "      <td>1975</td>\n",
       "      <td>4</td>\n",
       "      <td>0.680608</td>\n",
       "      <td>0.44784</td>\n",
       "      <td>NaN</td>\n",
       "      <td>0.708244</td>\n",
       "    </tr>\n",
       "  </tbody>\n",
       "</table>\n",
       "</div>"
      ],
      "text/plain": [
       "  cntry  tvtot  tvpol  rdtot  rdpol  nwsptot  nwsppol  netuse  rlgblg  rlgdgr  \\\n",
       "0    BE      1      0      1      0        0      NaN       1       2       7   \n",
       "1    BE      2      2      0    NaN        2        1       4       1       8   \n",
       "2    BE      7      3      1      0        2        1       7       1       3   \n",
       "3    BE      5      2      7      2        0      NaN       0       1       6   \n",
       "4    BE      2      1      3      0        2        1       7       1       7   \n",
       "\n",
       "   eduyrs  hinctnta  yrbrn  eisced   pspwght  pweight  hincrank   edurank  \n",
       "0       9       NaN   1960       4  0.792153  0.44784       NaN  0.304604  \n",
       "1      25       NaN   1962       7  0.804951  0.44784       NaN  0.998394  \n",
       "2      15       NaN   1940       6  0.671320  0.44784       NaN  0.806745  \n",
       "3      10        10   1940       2  1.256671  0.44784  0.959789  0.388651  \n",
       "4      13       NaN   1975       4  0.680608  0.44784       NaN  0.708244  "
      ]
     },
     "execution_count": 50,
     "metadata": {},
     "output_type": "execute_result"
    }
   ],
   "source": [
    "df = pd.concat(dfs, ignore_index=True)\n",
    "print(df.shape)\n",
    "df.head()"
   ]
  },
  {
   "cell_type": "markdown",
   "metadata": {},
   "source": [
    "TV watching time on average weekday"
   ]
  },
  {
   "cell_type": "code",
   "execution_count": 51,
   "metadata": {
    "collapsed": false
   },
   "outputs": [
    {
     "data": {
      "text/plain": [
       "0     8329\n",
       "1    12948\n",
       "2    33728\n",
       "3    33649\n",
       "4    40578\n",
       "5    30858\n",
       "6    29257\n",
       "7    52121\n",
       "Name: tvtot, dtype: int64"
      ]
     },
     "execution_count": 51,
     "metadata": {},
     "output_type": "execute_result"
    }
   ],
   "source": [
    "df.tvtot.value_counts().sort_index()"
   ]
  },
  {
   "cell_type": "markdown",
   "metadata": {},
   "source": [
    "Radio listening, total time on average weekday."
   ]
  },
  {
   "cell_type": "code",
   "execution_count": 52,
   "metadata": {
    "collapsed": false
   },
   "outputs": [
    {
     "data": {
      "text/plain": [
       "0    58718\n",
       "1    37546\n",
       "2    38382\n",
       "3    18915\n",
       "4    15975\n",
       "5    10741\n",
       "6     9761\n",
       "7    50845\n",
       "Name: rdtot, dtype: int64"
      ]
     },
     "execution_count": 52,
     "metadata": {},
     "output_type": "execute_result"
    }
   ],
   "source": [
    "df.rdtot.value_counts().sort_index()"
   ]
  },
  {
   "cell_type": "markdown",
   "metadata": {},
   "source": [
    "Newspaper reading, total time on average weekday."
   ]
  },
  {
   "cell_type": "code",
   "execution_count": 53,
   "metadata": {
    "collapsed": false
   },
   "outputs": [
    {
     "data": {
      "text/plain": [
       "0    70316\n",
       "1    75311\n",
       "2    64339\n",
       "3    18082\n",
       "4     7066\n",
       "5     2760\n",
       "6     1331\n",
       "7     1977\n",
       "Name: nwsptot, dtype: int64"
      ]
     },
     "execution_count": 53,
     "metadata": {},
     "output_type": "execute_result"
    }
   ],
   "source": [
    "df.nwsptot.value_counts().sort_index()"
   ]
  },
  {
   "cell_type": "markdown",
   "metadata": {},
   "source": [
    "Personal use of Internet, email, www"
   ]
  },
  {
   "cell_type": "code",
   "execution_count": 54,
   "metadata": {
    "collapsed": false
   },
   "outputs": [
    {
     "data": {
      "text/plain": [
       "0    72058\n",
       "1    37586\n",
       "2     4838\n",
       "3     3791\n",
       "4     8304\n",
       "5     9756\n",
       "6    28778\n",
       "7    70066\n",
       "Name: netuse, dtype: int64"
      ]
     },
     "execution_count": 54,
     "metadata": {},
     "output_type": "execute_result"
    }
   ],
   "source": [
    "df.netuse.value_counts().sort_index()"
   ]
  },
  {
   "cell_type": "markdown",
   "metadata": {},
   "source": [
    "Belong to a particular religion or denomination"
   ]
  },
  {
   "cell_type": "code",
   "execution_count": 55,
   "metadata": {
    "collapsed": false
   },
   "outputs": [
    {
     "data": {
      "text/plain": [
       "1    152140\n",
       "2     86021\n",
       "Name: rlgblg, dtype: int64"
      ]
     },
     "execution_count": 55,
     "metadata": {},
     "output_type": "execute_result"
    }
   ],
   "source": [
    "df.rlgblg.value_counts().sort_index()"
   ]
  },
  {
   "cell_type": "markdown",
   "metadata": {},
   "source": [
    "How religious"
   ]
  },
  {
   "cell_type": "code",
   "execution_count": 56,
   "metadata": {
    "collapsed": false
   },
   "outputs": [
    {
     "data": {
      "text/plain": [
       "0     30515\n",
       "1     13736\n",
       "2     16811\n",
       "3     19515\n",
       "4     15944\n",
       "5     41880\n",
       "6     24064\n",
       "7     28006\n",
       "8     24187\n",
       "9     10834\n",
       "10    14289\n",
       "Name: rlgdgr, dtype: int64"
      ]
     },
     "execution_count": 56,
     "metadata": {},
     "output_type": "execute_result"
    }
   ],
   "source": [
    "df.rlgdgr.value_counts().sort_index()"
   ]
  },
  {
   "cell_type": "markdown",
   "metadata": {},
   "source": [
    "Total household net income, all sources"
   ]
  },
  {
   "cell_type": "code",
   "execution_count": 57,
   "metadata": {
    "collapsed": false
   },
   "outputs": [
    {
     "data": {
      "text/plain": [
       "count    191125.000000\n",
       "mean          0.500547\n",
       "std           0.288699\n",
       "min           0.000001\n",
       "25%           0.250585\n",
       "50%           0.500728\n",
       "75%           0.750609\n",
       "max           1.000000\n",
       "Name: hincrank, dtype: float64"
      ]
     },
     "execution_count": 57,
     "metadata": {},
     "output_type": "execute_result"
    }
   ],
   "source": [
    "df.hincrank.describe()"
   ]
  },
  {
   "cell_type": "markdown",
   "metadata": {},
   "source": [
    "Year born"
   ]
  },
  {
   "cell_type": "code",
   "execution_count": 58,
   "metadata": {
    "collapsed": false
   },
   "outputs": [
    {
     "data": {
      "text/plain": [
       "count    240983.000000\n",
       "mean       1961.289141\n",
       "std          18.689520\n",
       "min        1885.000000\n",
       "25%        1947.000000\n",
       "50%        1962.000000\n",
       "75%        1977.000000\n",
       "max        1996.000000\n",
       "Name: yrbrn, dtype: float64"
      ]
     },
     "execution_count": 58,
     "metadata": {},
     "output_type": "execute_result"
    }
   ],
   "source": [
    "df.yrbrn.describe()"
   ]
  },
  {
   "cell_type": "markdown",
   "metadata": {},
   "source": [
    "Shifted to mean near 0"
   ]
  },
  {
   "cell_type": "code",
   "execution_count": 59,
   "metadata": {
    "collapsed": false
   },
   "outputs": [
    {
     "data": {
      "text/plain": [
       "count    240983.000000\n",
       "mean          1.289141\n",
       "std          18.689520\n",
       "min         -75.000000\n",
       "25%         -13.000000\n",
       "50%           2.000000\n",
       "75%          17.000000\n",
       "max          36.000000\n",
       "Name: yrbrn60, dtype: float64"
      ]
     },
     "execution_count": 59,
     "metadata": {},
     "output_type": "execute_result"
    }
   ],
   "source": [
    "df.yrbrn60.describe()"
   ]
  },
  {
   "cell_type": "markdown",
   "metadata": {},
   "source": [
    "Number of years of education"
   ]
  },
  {
   "cell_type": "code",
   "execution_count": 60,
   "metadata": {
    "collapsed": false
   },
   "outputs": [
    {
     "data": {
      "text/plain": [
       "count    239086.000000\n",
       "mean          0.500264\n",
       "std           0.288676\n",
       "min           0.000332\n",
       "25%           0.250259\n",
       "50%           0.500276\n",
       "75%           0.750257\n",
       "max           1.000000\n",
       "Name: edurank, dtype: float64"
      ]
     },
     "execution_count": 60,
     "metadata": {},
     "output_type": "execute_result"
    }
   ],
   "source": [
    "df.edurank.describe()"
   ]
  },
  {
   "cell_type": "markdown",
   "metadata": {},
   "source": [
    "Country codes"
   ]
  },
  {
   "cell_type": "code",
   "execution_count": 61,
   "metadata": {
    "collapsed": false
   },
   "outputs": [
    {
     "data": {
      "text/plain": [
       "AT     6918\n",
       "BE     8939\n",
       "BG     6064\n",
       "CH     9310\n",
       "CY     3293\n",
       "CZ     8790\n",
       "DE    14487\n",
       "DK     7684\n",
       "EE     6960\n",
       "ES     9729\n",
       "FI     9991\n",
       "FR     9096\n",
       "GB    11117\n",
       "GR     9759\n",
       "HR     3133\n",
       "HU     7806\n",
       "IE    10472\n",
       "IL     7283\n",
       "IS      579\n",
       "IT     1207\n",
       "LT     1677\n",
       "LU     3187\n",
       "LV     1980\n",
       "NL     9741\n",
       "NO     8643\n",
       "PL     8917\n",
       "PT    10302\n",
       "RO     2146\n",
       "RU     7544\n",
       "SE     9201\n",
       "SI     7126\n",
       "SK     6944\n",
       "TR     4272\n",
       "UA     7809\n",
       "Name: cntry, dtype: int64"
      ]
     },
     "execution_count": 61,
     "metadata": {},
     "output_type": "execute_result"
    }
   ],
   "source": [
    "df.cntry.value_counts().sort_index()"
   ]
  },
  {
   "cell_type": "markdown",
   "metadata": {},
   "source": [
    "Make a binary dependent variable"
   ]
  },
  {
   "cell_type": "markdown",
   "metadata": {},
   "source": [
    "Run the model"
   ]
  },
  {
   "cell_type": "code",
   "execution_count": 63,
   "metadata": {
    "collapsed": false
   },
   "outputs": [],
   "source": [
    "def run_model(df, formula):\n",
    "    model = smf.logit(formula, data=df)    \n",
    "    results = model.fit(disp=False)\n",
    "    return results"
   ]
  },
  {
   "cell_type": "markdown",
   "metadata": {},
   "source": [
    "Here's the model with all control variables and all media variables:"
   ]
  },
  {
   "cell_type": "code",
   "execution_count": 64,
   "metadata": {
    "collapsed": false
   },
   "outputs": [
    {
     "data": {
      "text/html": [
       "<table class=\"simpletable\">\n",
       "<caption>Logit Regression Results</caption>\n",
       "<tr>\n",
       "  <th>Dep. Variable:</th>     <td>hasrelig</td>     <th>  No. Observations:  </th>   <td>179146</td>   \n",
       "</tr>\n",
       "<tr>\n",
       "  <th>Model:</th>               <td>Logit</td>      <th>  Df Residuals:      </th>   <td>179138</td>   \n",
       "</tr>\n",
       "<tr>\n",
       "  <th>Method:</th>               <td>MLE</td>       <th>  Df Model:          </th>   <td>     7</td>   \n",
       "</tr>\n",
       "<tr>\n",
       "  <th>Date:</th>          <td>Fri, 30 Oct 2015</td> <th>  Pseudo R-squ.:     </th>   <td>0.02808</td>  \n",
       "</tr>\n",
       "<tr>\n",
       "  <th>Time:</th>              <td>16:29:23</td>     <th>  Log-Likelihood:    </th> <td>-1.1493e+05</td>\n",
       "</tr>\n",
       "<tr>\n",
       "  <th>converged:</th>           <td>True</td>       <th>  LL-Null:           </th> <td>-1.1825e+05</td>\n",
       "</tr>\n",
       "<tr>\n",
       "  <th> </th>                      <td> </td>        <th>  LLR p-value:       </th>   <td> 0.000</td>   \n",
       "</tr>\n",
       "</table>\n",
       "<table class=\"simpletable\">\n",
       "<tr>\n",
       "      <td></td>         <th>coef</th>     <th>std err</th>      <th>z</th>      <th>P>|z|</th> <th>[95.0% Conf. Int.]</th> \n",
       "</tr>\n",
       "<tr>\n",
       "  <th>Intercept</th> <td>    1.0036</td> <td>    0.019</td> <td>   52.848</td> <td> 0.000</td> <td>    0.966     1.041</td>\n",
       "</tr>\n",
       "<tr>\n",
       "  <th>yrbrn60</th>   <td>   -0.0074</td> <td>    0.000</td> <td>  -22.938</td> <td> 0.000</td> <td>   -0.008    -0.007</td>\n",
       "</tr>\n",
       "<tr>\n",
       "  <th>edurank</th>   <td>   -0.0245</td> <td>    0.020</td> <td>   -1.247</td> <td> 0.212</td> <td>   -0.063     0.014</td>\n",
       "</tr>\n",
       "<tr>\n",
       "  <th>hincrank</th>  <td>    0.1416</td> <td>    0.019</td> <td>    7.641</td> <td> 0.000</td> <td>    0.105     0.178</td>\n",
       "</tr>\n",
       "<tr>\n",
       "  <th>tvtot</th>     <td>   -0.0107</td> <td>    0.003</td> <td>   -4.230</td> <td> 0.000</td> <td>   -0.016    -0.006</td>\n",
       "</tr>\n",
       "<tr>\n",
       "  <th>rdtot</th>     <td>   -0.0122</td> <td>    0.002</td> <td>   -6.444</td> <td> 0.000</td> <td>   -0.016    -0.009</td>\n",
       "</tr>\n",
       "<tr>\n",
       "  <th>nwsptot</th>   <td>   -0.0422</td> <td>    0.004</td> <td>  -10.460</td> <td> 0.000</td> <td>   -0.050    -0.034</td>\n",
       "</tr>\n",
       "<tr>\n",
       "  <th>netuse</th>    <td>   -0.1094</td> <td>    0.002</td> <td>  -55.421</td> <td> 0.000</td> <td>   -0.113    -0.106</td>\n",
       "</tr>\n",
       "</table>"
      ],
      "text/plain": [
       "<class 'statsmodels.iolib.summary.Summary'>\n",
       "\"\"\"\n",
       "                           Logit Regression Results                           \n",
       "==============================================================================\n",
       "Dep. Variable:               hasrelig   No. Observations:               179146\n",
       "Model:                          Logit   Df Residuals:                   179138\n",
       "Method:                           MLE   Df Model:                            7\n",
       "Date:                Fri, 30 Oct 2015   Pseudo R-squ.:                 0.02808\n",
       "Time:                        16:29:23   Log-Likelihood:            -1.1493e+05\n",
       "converged:                       True   LL-Null:                   -1.1825e+05\n",
       "                                        LLR p-value:                     0.000\n",
       "==============================================================================\n",
       "                 coef    std err          z      P>|z|      [95.0% Conf. Int.]\n",
       "------------------------------------------------------------------------------\n",
       "Intercept      1.0036      0.019     52.848      0.000         0.966     1.041\n",
       "yrbrn60       -0.0074      0.000    -22.938      0.000        -0.008    -0.007\n",
       "edurank       -0.0245      0.020     -1.247      0.212        -0.063     0.014\n",
       "hincrank       0.1416      0.019      7.641      0.000         0.105     0.178\n",
       "tvtot         -0.0107      0.003     -4.230      0.000        -0.016    -0.006\n",
       "rdtot         -0.0122      0.002     -6.444      0.000        -0.016    -0.009\n",
       "nwsptot       -0.0422      0.004    -10.460      0.000        -0.050    -0.034\n",
       "netuse        -0.1094      0.002    -55.421      0.000        -0.113    -0.106\n",
       "==============================================================================\n",
       "\"\"\""
      ]
     },
     "execution_count": 64,
     "metadata": {},
     "output_type": "execute_result"
    }
   ],
   "source": [
    "formula = ('hasrelig ~ yrbrn60 + edurank + hincrank +'\n",
    "           'tvtot + rdtot + nwsptot + netuse')\n",
    "res = run_model(df, formula)\n",
    "res.summary()"
   ]
  },
  {
   "cell_type": "markdown",
   "metadata": {},
   "source": [
    "Filling all NaNs"
   ]
  },
  {
   "cell_type": "code",
   "execution_count": 67,
   "metadata": {
    "collapsed": false
   },
   "outputs": [
    {
     "data": {
      "text/html": [
       "<table class=\"simpletable\">\n",
       "<caption>Logit Regression Results</caption>\n",
       "<tr>\n",
       "  <th>Dep. Variable:</th>    <td>hasrelig_f</td>    <th>  No. Observations:  </th>   <td>242106</td>   \n",
       "</tr>\n",
       "<tr>\n",
       "  <th>Model:</th>               <td>Logit</td>      <th>  Df Residuals:      </th>   <td>242098</td>   \n",
       "</tr>\n",
       "<tr>\n",
       "  <th>Method:</th>               <td>MLE</td>       <th>  Df Model:          </th>   <td>     7</td>   \n",
       "</tr>\n",
       "<tr>\n",
       "  <th>Date:</th>          <td>Fri, 30 Oct 2015</td> <th>  Pseudo R-squ.:     </th>   <td>0.02552</td>  \n",
       "</tr>\n",
       "<tr>\n",
       "  <th>Time:</th>              <td>16:29:30</td>     <th>  Log-Likelihood:    </th> <td>-1.5430e+05</td>\n",
       "</tr>\n",
       "<tr>\n",
       "  <th>converged:</th>           <td>True</td>       <th>  LL-Null:           </th> <td>-1.5834e+05</td>\n",
       "</tr>\n",
       "<tr>\n",
       "  <th> </th>                      <td> </td>        <th>  LLR p-value:       </th>   <td> 0.000</td>   \n",
       "</tr>\n",
       "</table>\n",
       "<table class=\"simpletable\">\n",
       "<tr>\n",
       "       <td></td>         <th>coef</th>     <th>std err</th>      <th>z</th>      <th>P>|z|</th> <th>[95.0% Conf. Int.]</th> \n",
       "</tr>\n",
       "<tr>\n",
       "  <th>Intercept</th>  <td>    1.0577</td> <td>    0.016</td> <td>   64.699</td> <td> 0.000</td> <td>    1.026     1.090</td>\n",
       "</tr>\n",
       "<tr>\n",
       "  <th>yrbrn60_f</th>  <td>   -0.0081</td> <td>    0.000</td> <td>  -29.894</td> <td> 0.000</td> <td>   -0.009    -0.008</td>\n",
       "</tr>\n",
       "<tr>\n",
       "  <th>edurank_f</th>  <td>   -0.0580</td> <td>    0.017</td> <td>   -3.501</td> <td> 0.000</td> <td>   -0.091    -0.026</td>\n",
       "</tr>\n",
       "<tr>\n",
       "  <th>hincrank_f</th> <td>    0.0947</td> <td>    0.016</td> <td>    6.092</td> <td> 0.000</td> <td>    0.064     0.125</td>\n",
       "</tr>\n",
       "<tr>\n",
       "  <th>tvtot_f</th>    <td>   -0.0112</td> <td>    0.002</td> <td>   -5.133</td> <td> 0.000</td> <td>   -0.015    -0.007</td>\n",
       "</tr>\n",
       "<tr>\n",
       "  <th>rdtot_f</th>    <td>   -0.0150</td> <td>    0.002</td> <td>   -9.115</td> <td> 0.000</td> <td>   -0.018    -0.012</td>\n",
       "</tr>\n",
       "<tr>\n",
       "  <th>nwsptot_f</th>  <td>   -0.0397</td> <td>    0.004</td> <td>  -11.323</td> <td> 0.000</td> <td>   -0.047    -0.033</td>\n",
       "</tr>\n",
       "<tr>\n",
       "  <th>netuse_f</th>   <td>   -0.0964</td> <td>    0.002</td> <td>  -57.512</td> <td> 0.000</td> <td>   -0.100    -0.093</td>\n",
       "</tr>\n",
       "</table>"
      ],
      "text/plain": [
       "<class 'statsmodels.iolib.summary.Summary'>\n",
       "\"\"\"\n",
       "                           Logit Regression Results                           \n",
       "==============================================================================\n",
       "Dep. Variable:             hasrelig_f   No. Observations:               242106\n",
       "Model:                          Logit   Df Residuals:                   242098\n",
       "Method:                           MLE   Df Model:                            7\n",
       "Date:                Fri, 30 Oct 2015   Pseudo R-squ.:                 0.02552\n",
       "Time:                        16:29:30   Log-Likelihood:            -1.5430e+05\n",
       "converged:                       True   LL-Null:                   -1.5834e+05\n",
       "                                        LLR p-value:                     0.000\n",
       "==============================================================================\n",
       "                 coef    std err          z      P>|z|      [95.0% Conf. Int.]\n",
       "------------------------------------------------------------------------------\n",
       "Intercept      1.0577      0.016     64.699      0.000         1.026     1.090\n",
       "yrbrn60_f     -0.0081      0.000    -29.894      0.000        -0.009    -0.008\n",
       "edurank_f     -0.0580      0.017     -3.501      0.000        -0.091    -0.026\n",
       "hincrank_f     0.0947      0.016      6.092      0.000         0.064     0.125\n",
       "tvtot_f       -0.0112      0.002     -5.133      0.000        -0.015    -0.007\n",
       "rdtot_f       -0.0150      0.002     -9.115      0.000        -0.018    -0.012\n",
       "nwsptot_f     -0.0397      0.004    -11.323      0.000        -0.047    -0.033\n",
       "netuse_f      -0.0964      0.002    -57.512      0.000        -0.100    -0.093\n",
       "==============================================================================\n",
       "\"\"\""
      ]
     },
     "execution_count": 67,
     "metadata": {},
     "output_type": "execute_result"
    }
   ],
   "source": [
    "formula = ('hasrelig_f ~ yrbrn60_f + edurank_f + hincrank_f +'\n",
    "           'tvtot_f + rdtot_f + nwsptot_f + netuse_f')\n",
    "res = run_model(df, formula)\n",
    "res.summary()"
   ]
  },
  {
   "cell_type": "markdown",
   "metadata": {},
   "source": []
  },
  {
   "cell_type": "code",
   "execution_count": 68,
   "metadata": {
    "collapsed": false
   },
   "outputs": [
    {
     "data": {
      "text/plain": [
       "(242106, -0.096352395424895404, '**')"
      ]
     },
     "execution_count": 68,
     "metadata": {},
     "output_type": "execute_result"
    }
   ],
   "source": [
    "def extract_res(res, var='netuse_f'):\n",
    "    param = res.params[var]\n",
    "    pvalue = res.pvalues[var]\n",
    "    stars = '**' if pvalue < 0.01 else '*' if pvalue < 0.05 else ''\n",
    "    return res.nobs, param, stars\n",
    "\n",
    "extract_res(res)"
   ]
  },
  {
   "cell_type": "markdown",
   "metadata": {},
   "source": [
    "Group by country:"
   ]
  },
  {
   "cell_type": "code",
   "execution_count": 69,
   "metadata": {
    "collapsed": false
   },
   "outputs": [],
   "source": [
    "grouped = df.groupby('cntry')"
   ]
  },
  {
   "cell_type": "markdown",
   "metadata": {},
   "source": [
    "Run a sample country"
   ]
  },
  {
   "cell_type": "code",
   "execution_count": 70,
   "metadata": {
    "collapsed": false
   },
   "outputs": [
    {
     "data": {
      "text/html": [
       "<table class=\"simpletable\">\n",
       "<caption>Logit Regression Results</caption>\n",
       "<tr>\n",
       "  <th>Dep. Variable:</th>    <td>hasrelig_f</td>    <th>  No. Observations:  </th>  <td>  7684</td>  \n",
       "</tr>\n",
       "<tr>\n",
       "  <th>Model:</th>               <td>Logit</td>      <th>  Df Residuals:      </th>  <td>  7676</td>  \n",
       "</tr>\n",
       "<tr>\n",
       "  <th>Method:</th>               <td>MLE</td>       <th>  Df Model:          </th>  <td>     7</td>  \n",
       "</tr>\n",
       "<tr>\n",
       "  <th>Date:</th>          <td>Fri, 30 Oct 2015</td> <th>  Pseudo R-squ.:     </th>  <td>0.03570</td> \n",
       "</tr>\n",
       "<tr>\n",
       "  <th>Time:</th>              <td>16:29:30</td>     <th>  Log-Likelihood:    </th> <td> -5023.8</td> \n",
       "</tr>\n",
       "<tr>\n",
       "  <th>converged:</th>           <td>True</td>       <th>  LL-Null:           </th> <td> -5209.8</td> \n",
       "</tr>\n",
       "<tr>\n",
       "  <th> </th>                      <td> </td>        <th>  LLR p-value:       </th> <td>2.448e-76</td>\n",
       "</tr>\n",
       "</table>\n",
       "<table class=\"simpletable\">\n",
       "<tr>\n",
       "       <td></td>         <th>coef</th>     <th>std err</th>      <th>z</th>      <th>P>|z|</th> <th>[95.0% Conf. Int.]</th> \n",
       "</tr>\n",
       "<tr>\n",
       "  <th>Intercept</th>  <td>    0.5306</td> <td>    0.102</td> <td>    5.203</td> <td> 0.000</td> <td>    0.331     0.731</td>\n",
       "</tr>\n",
       "<tr>\n",
       "  <th>yrbrn60_f</th>  <td>   -0.0200</td> <td>    0.002</td> <td>  -12.112</td> <td> 0.000</td> <td>   -0.023    -0.017</td>\n",
       "</tr>\n",
       "<tr>\n",
       "  <th>edurank_f</th>  <td>   -0.2391</td> <td>    0.091</td> <td>   -2.642</td> <td> 0.008</td> <td>   -0.416    -0.062</td>\n",
       "</tr>\n",
       "<tr>\n",
       "  <th>hincrank_f</th> <td>    0.3309</td> <td>    0.087</td> <td>    3.789</td> <td> 0.000</td> <td>    0.160     0.502</td>\n",
       "</tr>\n",
       "<tr>\n",
       "  <th>tvtot_f</th>    <td>   -0.0336</td> <td>    0.013</td> <td>   -2.600</td> <td> 0.009</td> <td>   -0.059    -0.008</td>\n",
       "</tr>\n",
       "<tr>\n",
       "  <th>rdtot_f</th>    <td>    0.0064</td> <td>    0.009</td> <td>    0.728</td> <td> 0.467</td> <td>   -0.011     0.024</td>\n",
       "</tr>\n",
       "<tr>\n",
       "  <th>nwsptot_f</th>  <td>    0.0684</td> <td>    0.023</td> <td>    2.929</td> <td> 0.003</td> <td>    0.023     0.114</td>\n",
       "</tr>\n",
       "<tr>\n",
       "  <th>netuse_f</th>   <td>   -0.0370</td> <td>    0.011</td> <td>   -3.439</td> <td> 0.001</td> <td>   -0.058    -0.016</td>\n",
       "</tr>\n",
       "</table>"
      ],
      "text/plain": [
       "<class 'statsmodels.iolib.summary.Summary'>\n",
       "\"\"\"\n",
       "                           Logit Regression Results                           \n",
       "==============================================================================\n",
       "Dep. Variable:             hasrelig_f   No. Observations:                 7684\n",
       "Model:                          Logit   Df Residuals:                     7676\n",
       "Method:                           MLE   Df Model:                            7\n",
       "Date:                Fri, 30 Oct 2015   Pseudo R-squ.:                 0.03570\n",
       "Time:                        16:29:30   Log-Likelihood:                -5023.8\n",
       "converged:                       True   LL-Null:                       -5209.8\n",
       "                                        LLR p-value:                 2.448e-76\n",
       "==============================================================================\n",
       "                 coef    std err          z      P>|z|      [95.0% Conf. Int.]\n",
       "------------------------------------------------------------------------------\n",
       "Intercept      0.5306      0.102      5.203      0.000         0.331     0.731\n",
       "yrbrn60_f     -0.0200      0.002    -12.112      0.000        -0.023    -0.017\n",
       "edurank_f     -0.2391      0.091     -2.642      0.008        -0.416    -0.062\n",
       "hincrank_f     0.3309      0.087      3.789      0.000         0.160     0.502\n",
       "tvtot_f       -0.0336      0.013     -2.600      0.009        -0.059    -0.008\n",
       "rdtot_f        0.0064      0.009      0.728      0.467        -0.011     0.024\n",
       "nwsptot_f      0.0684      0.023      2.929      0.003         0.023     0.114\n",
       "netuse_f      -0.0370      0.011     -3.439      0.001        -0.058    -0.016\n",
       "==============================================================================\n",
       "\"\"\""
      ]
     },
     "execution_count": 70,
     "metadata": {},
     "output_type": "execute_result"
    }
   ],
   "source": [
    "gb = grouped.get_group('DK')\n",
    "run_model(gb, formula).summary()"
   ]
  },
  {
   "cell_type": "markdown",
   "metadata": {},
   "source": [
    "Run all countries"
   ]
  },
  {
   "cell_type": "code",
   "execution_count": 71,
   "metadata": {
    "collapsed": false
   },
   "outputs": [
    {
     "name": "stdout",
     "output_type": "stream",
     "text": [
      "AT\t6918\t6918\t-0.052\t**\t\n",
      "BE\t8939\t8939\t-0.0236\t**\t\n",
      "BG\t6064\t6064\t0.019\t\t\n",
      "CH\t9310\t9310\t-0.0568\t**\t\n",
      "CY\t3293\t3293\t-0.0376\t\t\n",
      "CZ\t8790\t8790\t-0.0375\t**\t\n",
      "DE\t14487\t14487\t-0.0166\t*\t\n",
      "DK\t7684\t7684\t-0.037\t**\t\n",
      "EE\t6960\t6960\t-0.057\t**\t\n",
      "ES\t9729\t9729\t-0.0757\t**\t\n",
      "FI\t9991\t9991\t-0.0484\t**\t\n",
      "FR\t9096\t9096\t0.0134\t\t\n",
      "GB\t11117\t11117\t-0.018\t*\t\n",
      "GR\t9759\t9759\t-0.0458\t**\t\n",
      "HR\t3133\t3133\t-0.0109\t\t\n",
      "HU\t7806\t7806\t-0.00126\t\t\n",
      "IE\t10472\t10472\t-0.0535\t**\t\n",
      "IL\t7283\t7283\t0.0741\t**\t<--\n",
      "IS\t579\t579\t0.0545\t\t\n",
      "IT\t1207\t1207\t-0.0261\t\t\n",
      "LT\t1677\t1677\t0.018\t\t\n",
      "LU\t3187\t3187\t-0.0639\t**\t\n",
      "LV\t1980\t1980\t-0.0117\t\t\n",
      "NL\t9741\t9741\t-0.0405\t**\t\n",
      "NO\t8643\t8643\t-0.0277\t**\t\n",
      "PL\t8917\t8917\t-0.111\t**\t\n",
      "PT\t10302\t10302\t-0.0936\t**\t\n",
      "RO\t2146\t2146\t0.0353\t\t\n",
      "RU\t7544\t7544\t0.0417\t**\t<--\n",
      "SE\t9201\t9201\t-0.0244\t*\t\n",
      "SI\t7126\t7126\t-0.026\t*\t\n",
      "SK\t6944\t6944\t-0.0592\t**\t\n",
      "TR\t4272\t4272\t-0.0492\t\t\n",
      "UA\t7809\t7809\t-0.0584\t**\t\n"
     ]
    }
   ],
   "source": [
    "for name, group in grouped:\n",
    "    try:\n",
    "        res = run_model(group, formula)\n",
    "        nobs, param, stars = extract_res(res)\n",
    "        arrow = '<--' if stars and param > 0 else ''\n",
    "        print(name, len(group), nobs, '%0.3g'%param, stars, arrow, sep='\\t')\n",
    "    except:\n",
    "        print(name, len(group), ' ', 'NA', sep='\\t')"
   ]
  },
  {
   "cell_type": "code",
   "execution_count": null,
   "metadata": {
    "collapsed": true
   },
   "outputs": [],
   "source": []
  }
 ],
 "metadata": {
  "kernelspec": {
   "display_name": "Python 2",
   "language": "python",
   "name": "python2"
  },
  "language_info": {
   "codemirror_mode": {
    "name": "ipython",
    "version": 2
   },
   "file_extension": ".py",
   "mimetype": "text/x-python",
   "name": "python",
   "nbconvert_exporter": "python",
   "pygments_lexer": "ipython2",
   "version": "2.7.10"
  }
 },
 "nbformat": 4,
 "nbformat_minor": 0
}
