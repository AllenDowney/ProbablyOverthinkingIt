{
 "metadata": {
  "name": "",
  "signature": "sha256:d237e76ba87c3225d3f17fcb0678e653f354a839205dece935fce955517aa10b"
 },
 "nbformat": 3,
 "nbformat_minor": 0,
 "worksheets": [
  {
   "cells": [
    {
     "cell_type": "markdown",
     "metadata": {},
     "source": [
      "Orange Is the New Stat\n",
      "----------------------\n",
      "\n",
      "This notebook contains code that demonstrates the effect of the inspection paradox on observations of a prison population, which I wrote about in this article on my blog, Probably Overthinking It:\n",
      "\n",
      "http://allendowney.blogspot.com/2015/08/orange-is-new-stat.html\n",
      "\n",
      "Copyright 2015 Allen Downey\n",
      "\n",
      "MIT License: http://opensource.org/licenses/MIT"
     ]
    },
    {
     "cell_type": "code",
     "collapsed": false,
     "input": [
      "from __future__ import print_function, division\n",
      "\n",
      "import numpy as np\n",
      "import thinkplot\n",
      "import thinkstats2\n",
      "\n",
      "from collections import Counter\n",
      "\n",
      "%matplotlib inline\n",
      "formats = ['png']"
     ],
     "language": "python",
     "metadata": {},
     "outputs": [],
     "prompt_number": 4
    },
    {
     "cell_type": "markdown",
     "metadata": {},
     "source": [
      "To model the distribution of sentences, I use random values from a gamma distribution, rounded to the nearest integer.  All sentences are in units of months."
     ]
    },
    {
     "cell_type": "code",
     "collapsed": false,
     "input": [
      "sentences = np.random.gamma(shape=2, scale=60, size=1000).astype(int)\n",
      "cdf1 = thinkstats2.Cdf(sentences, label='actual')\n",
      "thinkplot.PrePlot(2)\n",
      "thinkplot.Cdf(cdf1)\n",
      "thinkplot.Config(xlabel='sentence (months)', ylabel='CDF')\n",
      "thinkplot.Save('orange1', formats=formats)"
     ],
     "language": "python",
     "metadata": {},
     "outputs": [
      {
       "output_type": "stream",
       "stream": "stdout",
       "text": [
        "Writing orange1.png\n"
       ]
      },
      {
       "metadata": {},
       "output_type": "display_data",
       "text": [
        "<matplotlib.figure.Figure at 0x7ff62abd0e50>"
       ]
      }
     ],
     "prompt_number": 5
    },
    {
     "cell_type": "markdown",
     "metadata": {},
     "source": [
      "I chose parameters that very roughly match the histogram of sentences in this report: http://www.ussc.gov/sites/default/files/pdf/research-and-publications/quick-facts/Quick-Facts_BOP.pdf\n",
      "\n",
      "In my distribution about 28% of sentences are less than 5 years, and 40% are more than 10."
     ]
    },
    {
     "cell_type": "code",
     "collapsed": false,
     "input": [
      "(sentences < 5*12).mean(), (sentences > 10*12).mean()"
     ],
     "language": "python",
     "metadata": {},
     "outputs": [
      {
       "metadata": {},
       "output_type": "pyout",
       "prompt_number": 6,
       "text": [
        "(0.253, 0.40400000000000003)"
       ]
      }
     ],
     "prompt_number": 6
    },
    {
     "cell_type": "markdown",
     "metadata": {},
     "source": [
      "If we imagine a series of sentences served consecutively, we can compute the release date for each prisoner:"
     ]
    },
    {
     "cell_type": "code",
     "collapsed": false,
     "input": [
      "releases = sentences.cumsum()"
     ],
     "language": "python",
     "metadata": {},
     "outputs": [],
     "prompt_number": 7
    },
    {
     "cell_type": "markdown",
     "metadata": {},
     "source": [
      "For example, here are the sentences of the first 10 prisoners:"
     ]
    },
    {
     "cell_type": "code",
     "collapsed": false,
     "input": [
      "sentences[:10]"
     ],
     "language": "python",
     "metadata": {},
     "outputs": [
      {
       "metadata": {},
       "output_type": "pyout",
       "prompt_number": 8,
       "text": [
        "array([246, 297,  83, 118,  38,  19, 184, 511,  60, 160])"
       ]
      }
     ],
     "prompt_number": 8
    },
    {
     "cell_type": "markdown",
     "metadata": {},
     "source": [
      "And the release dates of the first 10 prisoners:"
     ]
    },
    {
     "cell_type": "code",
     "collapsed": false,
     "input": [
      "releases[:10]"
     ],
     "language": "python",
     "metadata": {},
     "outputs": [
      {
       "metadata": {},
       "output_type": "pyout",
       "prompt_number": 9,
       "text": [
        "array([ 246,  543,  626,  744,  782,  801,  985, 1496, 1556, 1716])"
       ]
      }
     ],
     "prompt_number": 9
    },
    {
     "cell_type": "markdown",
     "metadata": {},
     "source": [
      "If we arrive during month 500, we can figure out which prisoner we would observe using `searchsorted`, which uses bisection search.  The result is an array index, which we can think of as a prisoner ID."
     ]
    },
    {
     "cell_type": "code",
     "collapsed": false,
     "input": [
      "releases.searchsorted(500)"
     ],
     "language": "python",
     "metadata": {},
     "outputs": [
      {
       "metadata": {},
       "output_type": "pyout",
       "prompt_number": 10,
       "text": [
        "1"
       ]
      }
     ],
     "prompt_number": 10
    },
    {
     "cell_type": "markdown",
     "metadata": {},
     "source": [
      "The following function chooses a random prisoner by choosing a random arrival time, `i`, looking up the prisoner who would be observed at `i`, and then looking up that prisoner's sentence."
     ]
    },
    {
     "cell_type": "code",
     "collapsed": false,
     "input": [
      "def random_sample(sentences, releases):\n",
      "    i = np.random.random_integers(1, releases[-1])\n",
      "    prisoner = releases.searchsorted(i)\n",
      "    sentence = sentences[prisoner]\n",
      "    return i, prisoner, sentence"
     ],
     "language": "python",
     "metadata": {},
     "outputs": [],
     "prompt_number": 11
    },
    {
     "cell_type": "markdown",
     "metadata": {},
     "source": [
      "If we call `random_sample` a few times, we get a sample of sentences as seen by random arrivals."
     ]
    },
    {
     "cell_type": "code",
     "collapsed": false,
     "input": [
      "for _ in range(10):\n",
      "    print(random_sample(sentences, releases))"
     ],
     "language": "python",
     "metadata": {},
     "outputs": [
      {
       "output_type": "stream",
       "stream": "stdout",
       "text": [
        "(10038, 76, 80)\n",
        "(3590, 20, 179)\n",
        "(21029, 164, 195)\n",
        "(85643, 709, 109)\n",
        "(46489, 376, 165)\n",
        "(113467, 936, 153)\n",
        "(26065, 203, 178)\n",
        "(10273, 78, 186)\n",
        "(1518, 8, 60)\n",
        "(33150, 258, 162)\n"
       ]
      }
     ],
     "prompt_number": 12
    },
    {
     "cell_type": "markdown",
     "metadata": {},
     "source": [
      "We can be a little more efficient by generating 1000 random arrival times and finding the corresponding sentences.  Then we compute the CDF of the resulting sample."
     ]
    },
    {
     "cell_type": "code",
     "collapsed": false,
     "input": [
      "arrivals = np.random.random_integers(1, releases[-1], 10000)\n",
      "prisoners = releases.searchsorted(arrivals)\n",
      "sample = sentences[prisoners]\n",
      "cdf2 = thinkstats2.Cdf(sample, label='biased')"
     ],
     "language": "python",
     "metadata": {},
     "outputs": [],
     "prompt_number": 13
    },
    {
     "cell_type": "markdown",
     "metadata": {},
     "source": [
      "Here's what the biased sample looks like, compared to the actual distribution.  Due to the inspection paradox, we oversample long sentences."
     ]
    },
    {
     "cell_type": "code",
     "collapsed": false,
     "input": [
      "thinkplot.PrePlot(2)\n",
      "thinkplot.Cdf(cdf1)\n",
      "thinkplot.Cdf(cdf2)\n",
      "thinkplot.Config(xlabel='sentence (months)', ylabel='CDF', loc='lower right')\n",
      "#thinkplot.Save('orange2', formats=formats)"
     ],
     "language": "python",
     "metadata": {},
     "outputs": [
      {
       "metadata": {},
       "output_type": "display_data",
       "png": "[encoded data removed]",
       "text": [
        "<matplotlib.figure.Figure at 0x7ff62b48cf50>"
       ]
      }
     ],
     "prompt_number": 15
    },
    {
     "cell_type": "markdown",
     "metadata": {},
     "source": [
      "As expected, the sample mean is substantially higher than the actual mean:"
     ]
    },
    {
     "cell_type": "code",
     "collapsed": false,
     "input": [
      "sentences.mean(), sample.mean()"
     ],
     "language": "python",
     "metadata": {},
     "outputs": [
      {
       "metadata": {},
       "output_type": "pyout",
       "prompt_number": 16,
       "text": [
        "(122.185, 184.10509999999999)"
       ]
      }
     ],
     "prompt_number": 16
    },
    {
     "cell_type": "markdown",
     "metadata": {},
     "source": [
      "Instead of using a random sample, we could have computed the biased distribution directly by applying an operation on the PMF.  The following function takes the actual distribution of sentences, weights each sentence length, `x`, by `x`, and renormalizes.\n",
      "\n",
      "This operation is discussed in Section 3.4 of Think Stats: http://greenteapress.com/thinkstats2/html/thinkstats2004.html#toc29"
     ]
    },
    {
     "cell_type": "code",
     "collapsed": false,
     "input": [
      "def BiasPmf(pmf, label):\n",
      "    new_pmf = pmf.Copy(label=label)\n",
      "\n",
      "    for x, p in pmf.Items():\n",
      "        new_pmf[x] *= x\n",
      "        \n",
      "    new_pmf.Normalize()\n",
      "    return new_pmf\n",
      "\n",
      "pmf = thinkstats2.Pmf(sentences)\n",
      "biased = BiasPmf(pmf, label='BiasPmf').MakeCdf()"
     ],
     "language": "python",
     "metadata": {},
     "outputs": [],
     "prompt_number": 17
    },
    {
     "cell_type": "markdown",
     "metadata": {},
     "source": [
      "This figure compares the biased distribution computed by random sampling with the distribution computed by `BiasPmf`.  They should be similar."
     ]
    },
    {
     "cell_type": "code",
     "collapsed": false,
     "input": [
      "thinkplot.PrePlot(2)\n",
      "thinkplot.Cdf(cdf2)\n",
      "thinkplot.Cdf(biased)\n",
      "thinkplot.Config(xlabel='sentence (months)', ylabel='CDF', loc='lower right')"
     ],
     "language": "python",
     "metadata": {},
     "outputs": [
      {
       "metadata": {},
       "output_type": "display_data",
       "png": "[encoded data removed]",
       "text": [
        "<matplotlib.figure.Figure at 0x7ff62b418550>"
       ]
      }
     ],
     "prompt_number": 18
    },
    {
     "cell_type": "markdown",
     "metadata": {},
     "source": [
      "Now we get to the scenario I describe in the article: observation made by a prisoner serving a sentence with duration `t`.\n",
      "\n",
      "The following function computes this distribution, given an array of (actual) sentences and the sentence of the observer.\n",
      "\n",
      "It starts by choosing a random arrival time between 1 and the maximum sentence.  So the initial observation is subject to the inspection paradox.\n",
      "\n",
      "Each time through the loop it computes `first_prisoner`, which is the prisoner observed on arrival, and `last_prisoner`, the prisoner observed on departure.  The prisoners between these endpoints (including both) are considered one observed sample, and added to the Counter object, which accumulates a histogram of observed sentences.\n",
      "\n",
      "Each time through the loop, the arrival time is advanced by 100, which is approximately the average sentence.  This has the effect of thinning the observations.\n",
      "\n",
      "Finally, the function returns the CDF of the observed sentences.\n"
     ]
    },
    {
     "cell_type": "code",
     "collapsed": false,
     "input": [
      "def simulate_sentence(sentences, t):\n",
      "    counter = Counter()\n",
      "    \n",
      "    releases = sentences.cumsum()\n",
      "    last_release = releases[-1]\n",
      "    arrival = np.random.random_integers(1, max(sentences))\n",
      "    \n",
      "    for i in range(arrival, last_release-t, 100):\n",
      "        first_prisoner = releases.searchsorted(i)\n",
      "        last_prisoner = releases.searchsorted(i+t)\n",
      "    \n",
      "        observed_sentences = sentences[first_prisoner:last_prisoner+1]\n",
      "        counter.update(observed_sentences)\n",
      "    \n",
      "    print(sum(counter.values()))\n",
      "    return thinkstats2.Cdf(counter, label='observed %d' % t)"
     ],
     "language": "python",
     "metadata": {},
     "outputs": [],
     "prompt_number": 19
    },
    {
     "cell_type": "markdown",
     "metadata": {},
     "source": [
      "The following function takes an observed distribution of sentences and plots it along with the actual distribution and the biased distribution that would be seen by a single arrival."
     ]
    },
    {
     "cell_type": "code",
     "collapsed": false,
     "input": [
      "def plot_cdfs(cdf3):\n",
      "    thinkplot.PrePlot(2)\n",
      "    thinkplot.Cdf(cdf1)\n",
      "    thinkplot.Cdf(cdf2)\n",
      "    thinkplot.Cdf(cdf3, color='orange')\n",
      "    thinkplot.Config(xlabel='sentence (months)', ylabel='CDF', loc='lower right')"
     ],
     "language": "python",
     "metadata": {},
     "outputs": [],
     "prompt_number": 20
    },
    {
     "cell_type": "markdown",
     "metadata": {},
     "source": [
      "If the sentence of the observer is only 11 months, the observed distribution is almost as biased as what would be seen by an instantaneous observer."
     ]
    },
    {
     "cell_type": "code",
     "collapsed": false,
     "input": [
      "cdf11 = simulate_sentence(sentences, 13)\n",
      "plot_cdfs(cdf11)\n",
      "thinkplot.Save('orange3', formats=formats)"
     ],
     "language": "python",
     "metadata": {},
     "outputs": [
      {
       "output_type": "stream",
       "stream": "stdout",
       "text": [
        "1332\n",
        "Writing orange3.png\n"
       ]
      },
      {
       "metadata": {},
       "output_type": "display_data",
       "text": [
        "<matplotlib.figure.Figure at 0x7ff62abd0d10>"
       ]
      }
     ],
     "prompt_number": 22
    },
    {
     "cell_type": "markdown",
     "metadata": {},
     "source": [
      "With a longer sentence, we get a less biased view.  But even after 120 months, which is the average sentence, the observed sample is still quite biased."
     ]
    },
    {
     "cell_type": "code",
     "collapsed": false,
     "input": [
      "cdf120 = simulate_sentence(sentences, 120)\n",
      "plot_cdfs(cdf120)\n",
      "thinkplot.Save('orange4', formats=formats)"
     ],
     "language": "python",
     "metadata": {},
     "outputs": [
      {
       "output_type": "stream",
       "stream": "stdout",
       "text": [
        "2416\n",
        "Writing orange4.png\n"
       ]
      },
      {
       "metadata": {},
       "output_type": "display_data",
       "text": [
        "<matplotlib.figure.Figure at 0x7ff62b48ce50>"
       ]
      }
     ],
     "prompt_number": 23
    },
    {
     "cell_type": "markdown",
     "metadata": {},
     "source": [
      "After 600 months (50 years!) the observed distribution almost reaches the actual distribution."
     ]
    },
    {
     "cell_type": "code",
     "collapsed": false,
     "input": [
      "cdf600 = simulate_sentence(sentences, 600)\n",
      "plot_cdfs(cdf600)\n",
      "thinkplot.Save('orange5', formats=formats)"
     ],
     "language": "python",
     "metadata": {},
     "outputs": [
      {
       "output_type": "stream",
       "stream": "stdout",
       "text": [
        "7198\n",
        "Writing orange5.png\n"
       ]
      },
      {
       "metadata": {},
       "output_type": "display_data",
       "text": [
        "<matplotlib.figure.Figure at 0x7ff62aaa0a90>"
       ]
      }
     ],
     "prompt_number": 24
    },
    {
     "cell_type": "markdown",
     "metadata": {},
     "source": [
      "We conclude that during Kerman's 11 month sentence, she would have seen a biased sample of the distribution of sentences.\n",
      "\n",
      "Nevertheless, her observation that many prisoners are serving long sentences that do not fit their crimes is still valid, in my opinion."
     ]
    },
    {
     "cell_type": "code",
     "collapsed": false,
     "input": [],
     "language": "python",
     "metadata": {},
     "outputs": [],
     "prompt_number": 19
    }
   ],
   "metadata": {}
  }
 ]
}