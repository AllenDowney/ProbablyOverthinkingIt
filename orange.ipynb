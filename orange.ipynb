{
 "cells": [
  {
   "cell_type": "markdown",
   "metadata": {},
   "source": [
    "Orange Is the New Stat\n",
    "----------------------\n",
    "\n",
    "This notebook contains code that demonstrates the effect of the inspection paradox on observations of a prison population, which I wrote about in this article on my blog, Probably Overthinking It:\n",
    "\n",
    "http://allendowney.blogspot.com/2015/08/orange-is-new-stat.html\n",
    "\n",
    "Copyright 2015 Allen Downey\n",
    "\n",
    "MIT License: http://opensource.org/licenses/MIT"
   ]
  },
  {
   "cell_type": "code",
   "execution_count": 41,
   "metadata": {
    "collapsed": false
   },
   "outputs": [],
   "source": [
    "from __future__ import print_function, division\n",
    "\n",
    "import numpy as np\n",
    "import thinkplot\n",
    "import thinkstats2\n",
    "\n",
    "from collections import Counter\n",
    "\n",
    "%matplotlib inline\n",
    "formats = ['png', 'pdf']"
   ]
  },
  {
   "cell_type": "markdown",
   "metadata": {},
   "source": [
    "To model the distribution of sentences, I use random values from a gamma distribution, rounded to the nearest integer.  All sentences are in units of months."
   ]
  },
  {
   "cell_type": "code",
   "execution_count": 42,
   "metadata": {
    "collapsed": false
   },
   "outputs": [
    {
     "name": "stdout",
     "output_type": "stream",
     "text": [
      "Writing orange1.png\n",
      "Writing orange1.pdf\n"
     ]
    },
    {
     "data": {
      "text/plain": [
       "<matplotlib.figure.Figure at 0x7f98b0156050>"
      ]
     },
     "metadata": {},
     "output_type": "display_data"
    }
   ],
   "source": [
    "sentences = np.random.gamma(shape=2, scale=60, size=1000).astype(int)\n",
    "cdf1 = thinkstats2.Cdf(sentences, label='actual')\n",
    "thinkplot.PrePlot(2)\n",
    "thinkplot.Cdf(cdf1)\n",
    "thinkplot.Config(xlabel='sentence (months)', ylabel='CDF')\n",
    "thinkplot.Save('orange1', formats=formats)"
   ]
  },
  {
   "cell_type": "markdown",
   "metadata": {},
   "source": [
    "I chose parameters that very roughly match the histogram of sentences in this report: http://www.ussc.gov/sites/default/files/pdf/research-and-publications/quick-facts/Quick-Facts_BOP.pdf\n",
    "\n",
    "In my distribution about 28% of sentences are less than 5 years, and 40% are more than 10."
   ]
  },
  {
   "cell_type": "code",
   "execution_count": 43,
   "metadata": {
    "collapsed": false
   },
   "outputs": [
    {
     "data": {
      "text/plain": [
       "(0.25800000000000001, 0.41599999999999998)"
      ]
     },
     "execution_count": 43,
     "metadata": {},
     "output_type": "execute_result"
    }
   ],
   "source": [
    "(sentences < 5*12).mean(), (sentences > 10*12).mean()"
   ]
  },
  {
   "cell_type": "markdown",
   "metadata": {},
   "source": [
    "If we imagine a series of sentences served consecutively, we can compute the release date for each prisoner:"
   ]
  },
  {
   "cell_type": "code",
   "execution_count": 44,
   "metadata": {
    "collapsed": false
   },
   "outputs": [],
   "source": [
    "releases = sentences.cumsum()"
   ]
  },
  {
   "cell_type": "markdown",
   "metadata": {},
   "source": [
    "For example, here are the sentences of the first 10 prisoners:"
   ]
  },
  {
   "cell_type": "code",
   "execution_count": 45,
   "metadata": {
    "collapsed": false
   },
   "outputs": [
    {
     "data": {
      "text/plain": [
       "array([193,  69, 148, 107, 123, 189,  61, 219, 104,  83])"
      ]
     },
     "execution_count": 45,
     "metadata": {},
     "output_type": "execute_result"
    }
   ],
   "source": [
    "sentences[:10]"
   ]
  },
  {
   "cell_type": "markdown",
   "metadata": {},
   "source": [
    "And the release dates of the first 10 prisoners:"
   ]
  },
  {
   "cell_type": "code",
   "execution_count": 46,
   "metadata": {
    "collapsed": false
   },
   "outputs": [
    {
     "data": {
      "text/plain": [
       "array([ 193,  262,  410,  517,  640,  829,  890, 1109, 1213, 1296])"
      ]
     },
     "execution_count": 46,
     "metadata": {},
     "output_type": "execute_result"
    }
   ],
   "source": [
    "releases[:10]"
   ]
  },
  {
   "cell_type": "markdown",
   "metadata": {},
   "source": [
    "If we arrive during month 500, we can figure out which prisoner we would observe using `searchsorted`, which uses bisection search.  The result is an array index, which we can think of as a prisoner ID."
   ]
  },
  {
   "cell_type": "code",
   "execution_count": 47,
   "metadata": {
    "collapsed": false
   },
   "outputs": [
    {
     "data": {
      "text/plain": [
       "3"
      ]
     },
     "execution_count": 47,
     "metadata": {},
     "output_type": "execute_result"
    }
   ],
   "source": [
    "releases.searchsorted(500)"
   ]
  },
  {
   "cell_type": "markdown",
   "metadata": {},
   "source": [
    "The following function chooses a random prisoner by choosing a random arrival time, `i`, looking up the prisoner who would be observed at `i`, and then looking up that prisoner's sentence."
   ]
  },
  {
   "cell_type": "code",
   "execution_count": 48,
   "metadata": {
    "collapsed": false
   },
   "outputs": [],
   "source": [
    "def random_sample(sentences, releases):\n",
    "    i = np.random.random_integers(1, releases[-1])\n",
    "    prisoner = releases.searchsorted(i)\n",
    "    sentence = sentences[prisoner]\n",
    "    return i, prisoner, sentence"
   ]
  },
  {
   "cell_type": "markdown",
   "metadata": {},
   "source": [
    "If we call `random_sample` a few times, we get a sample of sentences as seen by random arrivals."
   ]
  },
  {
   "cell_type": "code",
   "execution_count": 49,
   "metadata": {
    "collapsed": false
   },
   "outputs": [
    {
     "name": "stdout",
     "output_type": "stream",
     "text": [
      "(78300, 633, 54)\n",
      "(37764, 310, 57)\n",
      "(106242, 871, 110)\n",
      "(84510, 678, 229)\n",
      "(38545, 318, 95)\n",
      "(85459, 684, 201)\n",
      "(54732, 453, 100)\n",
      "(77412, 623, 120)\n",
      "(82512, 667, 212)\n",
      "(120811, 995, 50)\n"
     ]
    }
   ],
   "source": [
    "for _ in range(10):\n",
    "    print(random_sample(sentences, releases))"
   ]
  },
  {
   "cell_type": "markdown",
   "metadata": {},
   "source": [
    "We can be a little more efficient by generating 1000 random arrival times and finding the corresponding sentences.  Then we compute the CDF of the resulting sample."
   ]
  },
  {
   "cell_type": "code",
   "execution_count": 50,
   "metadata": {
    "collapsed": false
   },
   "outputs": [],
   "source": [
    "arrivals = np.random.random_integers(1, releases[-1], 10000)\n",
    "prisoners = releases.searchsorted(arrivals)\n",
    "sample = sentences[prisoners]\n",
    "cdf2 = thinkstats2.Cdf(sample, label='biased')"
   ]
  },
  {
   "cell_type": "markdown",
   "metadata": {},
   "source": [
    "Here's what the biased sample looks like, compared to the actual distribution.  Due to the inspection paradox, we oversample long sentences."
   ]
  },
  {
   "cell_type": "code",
   "execution_count": 60,
   "metadata": {
    "collapsed": false
   },
   "outputs": [
    {
     "name": "stdout",
     "output_type": "stream",
     "text": [
      "Writing orange2.png\n",
      "Writing orange2.pdf\n"
     ]
    },
    {
     "data": {
      "text/plain": [
       "<matplotlib.figure.Figure at 0x7f98b017fb10>"
      ]
     },
     "metadata": {},
     "output_type": "display_data"
    }
   ],
   "source": [
    "thinkplot.PrePlot(2)\n",
    "thinkplot.Cdf(cdf1)\n",
    "thinkplot.Cdf(cdf2)\n",
    "thinkplot.Config(xlabel='sentence (months)', ylabel='CDF', loc='lower right')\n",
    "thinkplot.Save('orange2', formats=formats)"
   ]
  },
  {
   "cell_type": "markdown",
   "metadata": {},
   "source": [
    "As expected, the sample mean is substantially higher than the actual mean:"
   ]
  },
  {
   "cell_type": "code",
   "execution_count": 52,
   "metadata": {
    "collapsed": false
   },
   "outputs": [
    {
     "data": {
      "text/plain": [
       "(121.14100000000001, 182.9058)"
      ]
     },
     "execution_count": 52,
     "metadata": {},
     "output_type": "execute_result"
    }
   ],
   "source": [
    "sentences.mean(), sample.mean()"
   ]
  },
  {
   "cell_type": "markdown",
   "metadata": {},
   "source": [
    "Instead of using a random sample, we could have computed the biased distribution directly by applying an operation on the PMF.  The following function takes the actual distribution of sentences, weights each sentence length, `x`, by `x`, and renormalizes.\n",
    "\n",
    "This operation is discussed in Section 3.4 of Think Stats: http://greenteapress.com/thinkstats2/html/thinkstats2004.html#toc29"
   ]
  },
  {
   "cell_type": "code",
   "execution_count": 53,
   "metadata": {
    "collapsed": false
   },
   "outputs": [],
   "source": [
    "def bias_pmf(pmf, t=0, label=None):\n",
    "    label = label if label is not None else pmf.label\n",
    "    new_pmf = pmf.Copy(label=label)\n",
    "\n",
    "    for x, p in pmf.Items():\n",
    "        new_pmf[x] *= (x + t)\n",
    "        \n",
    "    new_pmf.Normalize()\n",
    "    return new_pmf\n",
    "\n",
    "pmf = thinkstats2.Pmf(sentences)\n",
    "biased = bias_pmf(pmf, t=0, label='BiasPmf').MakeCdf()"
   ]
  },
  {
   "cell_type": "markdown",
   "metadata": {},
   "source": [
    "This figure compares the biased distribution computed by random sampling with the distribution computed by `BiasPmf`.  They should be similar."
   ]
  },
  {
   "cell_type": "code",
   "execution_count": 54,
   "metadata": {
    "collapsed": false
   },
   "outputs": [
    {
     "data": {
      "image/png": "[encoded data removed]",
      "text/plain": [
       "<matplotlib.figure.Figure at 0x7f98b017ff50>"
      ]
     },
     "metadata": {},
     "output_type": "display_data"
    }
   ],
   "source": [
    "thinkplot.PrePlot(2)\n",
    "thinkplot.Cdf(cdf2)\n",
    "thinkplot.Cdf(biased)\n",
    "thinkplot.Config(xlabel='sentence (months)', ylabel='CDF', loc='lower right')"
   ]
  },
  {
   "cell_type": "markdown",
   "metadata": {},
   "source": [
    "Now we get to the scenario I describe in the article: observation made by a prisoner serving a sentence with duration `t`.\n",
    "\n",
    "The following function computes this distribution, given an array of (actual) sentences and the sentence of the observer.\n",
    "\n",
    "It starts by choosing a random arrival time between 1 and the maximum sentence.  So the initial observation is subject to the inspection paradox.\n",
    "\n",
    "Each time through the loop it computes `first_prisoner`, which is the prisoner observed on arrival, and `last_prisoner`, the prisoner observed on departure.  The prisoners between these endpoints (including both) are considered one observed sample, and added to the Counter object, which accumulates a histogram of observed sentences.\n",
    "\n",
    "Each time through the loop, the arrival time is advanced by 100, which is approximately the average sentence.  This has the effect of thinning the observations.\n",
    "\n",
    "Finally, the function returns the CDF of the observed sentences.\n"
   ]
  },
  {
   "cell_type": "code",
   "execution_count": 55,
   "metadata": {
    "collapsed": false
   },
   "outputs": [],
   "source": [
    "def simulate_sentence(sentences, t):\n",
    "    counter = Counter()\n",
    "    \n",
    "    releases = sentences.cumsum()\n",
    "    last_release = releases[-1]\n",
    "    arrival = np.random.random_integers(1, max(sentences))\n",
    "    \n",
    "    for i in range(arrival, last_release-t, 100):\n",
    "        first_prisoner = releases.searchsorted(i)\n",
    "        last_prisoner = releases.searchsorted(i+t)\n",
    "    \n",
    "        observed_sentences = sentences[first_prisoner:last_prisoner+1]\n",
    "        counter.update(observed_sentences)\n",
    "    \n",
    "    print(sum(counter.values()))\n",
    "    return thinkstats2.Cdf(counter, label='observed %d' % t)"
   ]
  },
  {
   "cell_type": "markdown",
   "metadata": {},
   "source": [
    "The following function takes an observed distribution of sentences and plots it along with the actual distribution and the biased distribution that would be seen by a single arrival."
   ]
  },
  {
   "cell_type": "code",
   "execution_count": 56,
   "metadata": {
    "collapsed": false
   },
   "outputs": [],
   "source": [
    "def plot_cdfs(cdf3):\n",
    "    thinkplot.PrePlot(2)\n",
    "    thinkplot.Cdf(cdf1)\n",
    "    thinkplot.Cdf(cdf2)\n",
    "    thinkplot.Cdf(cdf3, color='orange')\n",
    "    thinkplot.Config(xlabel='sentence (months)', ylabel='CDF', loc='lower right')"
   ]
  },
  {
   "cell_type": "markdown",
   "metadata": {},
   "source": [
    "If the sentence of the observer is only 11 months, the observed distribution is almost as biased as what would be seen by an instantaneous observer."
   ]
  },
  {
   "cell_type": "code",
   "execution_count": 67,
   "metadata": {
    "collapsed": false
   },
   "outputs": [
    {
     "name": "stdout",
     "output_type": "stream",
     "text": [
      "1341\n",
      "Writing orange3.png\n",
      "Writing orange3.pdf\n"
     ]
    },
    {
     "data": {
      "text/plain": [
       "<matplotlib.figure.Figure at 0x7f98af8d3450>"
      ]
     },
     "metadata": {},
     "output_type": "display_data"
    }
   ],
   "source": [
    "cdf13 = simulate_sentence(sentences, 13)\n",
    "#cdf13 = bias_pmf(pmf, 13).MakeCdf()\n",
    "plot_cdfs(cdf13)\n",
    "thinkplot.Save('orange3', formats=formats)"
   ]
  },
  {
   "cell_type": "markdown",
   "metadata": {},
   "source": [
    "With a longer sentence, we get a less biased view.  But even after 120 months, which is the average sentence, the observed sample is still quite biased."
   ]
  },
  {
   "cell_type": "code",
   "execution_count": 68,
   "metadata": {
    "collapsed": false
   },
   "outputs": [
    {
     "name": "stdout",
     "output_type": "stream",
     "text": [
      "2397\n",
      "Writing orange4.png\n",
      "Writing orange4.pdf\n"
     ]
    },
    {
     "data": {
      "text/plain": [
       "<matplotlib.figure.Figure at 0x7f98af8f1d50>"
      ]
     },
     "metadata": {},
     "output_type": "display_data"
    }
   ],
   "source": [
    "cdf120 = simulate_sentence(sentences, 120)\n",
    "#cdf120 = bias_pmf(pmf, 120).MakeCdf()\n",
    "plot_cdfs(cdf120)\n",
    "thinkplot.Save('orange4', formats=formats)"
   ]
  },
  {
   "cell_type": "markdown",
   "metadata": {},
   "source": [
    "After 600 months (50 years!) the observed distribution almost reaches the actual distribution."
   ]
  },
  {
   "cell_type": "code",
   "execution_count": 69,
   "metadata": {
    "collapsed": false
   },
   "outputs": [
    {
     "name": "stdout",
     "output_type": "stream",
     "text": [
      "7166\n",
      "Writing orange5.png\n",
      "Writing orange5.pdf\n"
     ]
    },
    {
     "data": {
      "text/plain": [
       "<matplotlib.figure.Figure at 0x7f98b013c390>"
      ]
     },
     "metadata": {},
     "output_type": "display_data"
    }
   ],
   "source": [
    "cdf600 = simulate_sentence(sentences, 600)\n",
    "#cdf600 = bias_pmf(pmf, 600).MakeCdf()\n",
    "plot_cdfs(cdf600)\n",
    "thinkplot.Save('orange5', formats=formats)"
   ]
  },
  {
   "cell_type": "markdown",
   "metadata": {},
   "source": [
    "We conclude that during Kerman's 11 month sentence, she would have seen a biased sample of the distribution of sentences.\n",
    "\n",
    "Nevertheless, her observation that many prisoners are serving long sentences that do not fit their crimes is still valid, in my opinion."
   ]
  },
  {
   "cell_type": "code",
   "execution_count": 71,
   "metadata": {
    "collapsed": false
   },
   "outputs": [
    {
     "name": "stdout",
     "output_type": "stream",
     "text": [
      "Writing orange6.png\n",
      "Writing orange6.pdf\n"
     ]
    },
    {
     "data": {
      "text/plain": [
       "<matplotlib.figure.Figure at 0x7f98b01f9590>"
      ]
     },
     "metadata": {},
     "output_type": "display_data"
    }
   ],
   "source": [
    "thinkplot.PrePlot(cols=3)\n",
    "plot_cdfs(cdf13)\n",
    "thinkplot.SubPlot(2)\n",
    "plot_cdfs(cdf120)\n",
    "thinkplot.SubPlot(3)\n",
    "plot_cdfs(cdf600)\n",
    "thinkplot.Save('orange6', formats=formats)"
   ]
  },
  {
   "cell_type": "code",
   "execution_count": null,
   "metadata": {
    "collapsed": false
   },
   "outputs": [],
   "source": []
  }
 ],
 "metadata": {
  "kernelspec": {
   "display_name": "Python 2",
   "language": "python",
   "name": "python2"
  },
  "language_info": {
   "codemirror_mode": {
    "name": "ipython",
    "version": 2
   },
   "file_extension": ".py",
   "mimetype": "text/x-python",
   "name": "python",
   "nbconvert_exporter": "python",
   "pygments_lexer": "ipython2",
   "version": "2.7.10"
  }
 },
 "nbformat": 4,
 "nbformat_minor": 0
}
