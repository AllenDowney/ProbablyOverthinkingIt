{
 "cells": [
  {
   "cell_type": "markdown",
   "metadata": {},
   "source": [
    "Socks, Skeets, and Space Invaders\n",
    "---------------------------------\n",
    "\n",
    "This notebook contains code from my blog, [Probably Overthinking It](http://allendowney.blogspot.com/)\n",
    "\n",
    "Copyright 2016 Allen Downey\n",
    "\n",
    "MIT License: http://opensource.org/licenses/MIT"
   ]
  },
  {
   "cell_type": "code",
   "execution_count": 1,
   "metadata": {
    "collapsed": false
   },
   "outputs": [],
   "source": [
    "from __future__ import print_function, division\n",
    "\n",
    "%matplotlib inline\n",
    "\n",
    "from thinkbayes2 import Pmf, Hist, Beta\n",
    "import thinkbayes2\n",
    "import thinkplot"
   ]
  },
  {
   "cell_type": "markdown",
   "metadata": {},
   "source": [
    "### Socks\n",
    "\n",
    "The sock drawer problem\n",
    "Posed by Yuzhong Huang:\n",
    "\n",
    "> There are two drawers of socks. The first drawer has 40 white socks and 10 black socks; the second drawer has 20 white socks and 30 black socks.  We randomly get 2 socks from a drawer, and it turns out to be a pair (same color) but we don't know the color of these socks. What is the chance that we picked the first drawer?\n",
    "\n"
   ]
  },
  {
   "cell_type": "markdown",
   "metadata": {},
   "source": [
    "Now I'll solve the problem more generally using a Jupyter notebook.\n",
    "\n",
    "I'll represent the sock drawers with `Hist` objects, defined in the `thinkbayes2` library:"
   ]
  },
  {
   "cell_type": "code",
   "execution_count": 2,
   "metadata": {
    "collapsed": false
   },
   "outputs": [
    {
     "name": "stdout",
     "output_type": "stream",
     "text": [
      "B 10\n",
      "W 40\n"
     ]
    }
   ],
   "source": [
    "drawer1 = Hist(dict(W=40, B=10), label='Drawer 1')\n",
    "drawer2 = Hist(dict(W=20, B=30), label='Drawer 2')\n",
    "drawer1.Print()"
   ]
  },
  {
   "cell_type": "markdown",
   "metadata": {},
   "source": [
    "Now I can make a `Pmf` that represents the two hypotheses:"
   ]
  },
  {
   "cell_type": "code",
   "execution_count": 3,
   "metadata": {
    "collapsed": false
   },
   "outputs": [
    {
     "name": "stdout",
     "output_type": "stream",
     "text": [
      "Drawer 2 0.5\n",
      "Drawer 1 0.5\n"
     ]
    }
   ],
   "source": [
    "pmf = Pmf([drawer1, drawer2])\n",
    "pmf.Print()"
   ]
  },
  {
   "cell_type": "markdown",
   "metadata": {},
   "source": [
    "This function computes the likelihood of the data for a given hypothesis:"
   ]
  },
  {
   "cell_type": "code",
   "execution_count": 4,
   "metadata": {
    "collapsed": false
   },
   "outputs": [],
   "source": [
    "def likelihood(data, hypo):\n",
    "    \"\"\"Likelihood of the data under the hypothesis.\n",
    "    \n",
    "    data: string 'same' or 'different'\n",
    "    hypo: Hist object with the number of each color\n",
    "    \n",
    "    returns: float likelihood\n",
    "    \"\"\"\n",
    "    probs = Pmf(hypo)\n",
    "    prob_same = probs['W']**2 + probs['B']**2\n",
    "    if data == 'same':\n",
    "        return prob_same\n",
    "    else:\n",
    "        return 1-prob_same"
   ]
  },
  {
   "cell_type": "markdown",
   "metadata": {},
   "source": [
    "Now we can update `pmf` with these likelihoods"
   ]
  },
  {
   "cell_type": "code",
   "execution_count": 5,
   "metadata": {
    "collapsed": false
   },
   "outputs": [
    {
     "data": {
      "text/plain": [
       "0.6000000000000001"
      ]
     },
     "execution_count": 5,
     "metadata": {},
     "output_type": "execute_result"
    }
   ],
   "source": [
    "data = 'same'\n",
    "\n",
    "pmf[drawer1] *= likelihood(data, drawer1)\n",
    "pmf[drawer2] *= likelihood(data, drawer2)\n",
    "pmf.Normalize()"
   ]
  },
  {
   "cell_type": "markdown",
   "metadata": {},
   "source": [
    "The return value from Normalize is the total probability of the data, the denominator of Bayes's theorem, also known as the normalizing constant.\n",
    "\n",
    "And here's the posterior distribution:"
   ]
  },
  {
   "cell_type": "code",
   "execution_count": 6,
   "metadata": {
    "collapsed": false
   },
   "outputs": [
    {
     "name": "stdout",
     "output_type": "stream",
     "text": [
      "Drawer 2 0.433333333333\n",
      "Drawer 1 0.566666666667\n"
     ]
    }
   ],
   "source": [
    "pmf.Print()"
   ]
  },
  {
   "cell_type": "markdown",
   "metadata": {},
   "source": [
    "The likelihood of getting a pair is higher in Drawer 1, which is 40:10, than in Drawer 2, which is 30:20.\n",
    "\n",
    "In general, the probability of getting a pair is highest if the drawer contains only one color sock, and lowest if the proportion if 50:50.\n",
    "\n",
    "So getting a pair is evidence that the drawer is more likely to have a high (or low) proportion of one color, and less likely to be balanced."
   ]
  },
  {
   "cell_type": "markdown",
   "metadata": {},
   "source": [
    "## The Alien Blaster problem\n",
    "\n",
    "In preparation for an alien invasion, the Earth Defense League has been working on new missiles to shoot down space invaders.  Of course, some missile designs are better than others; let's assume that each design has some probability of hitting an alien ship, x.\n",
    "\n",
    "Based on previous tests, the distribution of x in the population of designs is roughly uniform between 10% and 40%.  To approximate this distribution, we'll assume that x is either 10%, 20%, 30%, or 40% with equal probability.\n",
    "\n",
    "Now suppose the new ultra-secret Alien Blaster 10K is being tested.  In a press conference, an EDF general reports that the new design has been tested twice, taking two shots during each test.  The results of the test are confidential, so the general won't say how many targets were hit, but they report: ``The same number of targets were hit in the two tests, so we have reason to think this new design is consistent.''\n",
    "\n",
    "Is this data good or bad; that is, does it increase or decrease your estimate of x for the Alien Blaster 10K?"
   ]
  },
  {
   "cell_type": "markdown",
   "metadata": {},
   "source": [
    "I'll start by creating a `Pmf` that represents the four hypothetical values of `x`:"
   ]
  },
  {
   "cell_type": "code",
   "execution_count": 7,
   "metadata": {
    "collapsed": false
   },
   "outputs": [
    {
     "name": "stdout",
     "output_type": "stream",
     "text": [
      "0.1 0.25\n",
      "0.2 0.25\n",
      "0.3 0.25\n",
      "0.4 0.25\n"
     ]
    }
   ],
   "source": [
    "pmf = Pmf([0.1, 0.2, 0.3, 0.4])\n",
    "pmf.Print()"
   ]
  },
  {
   "cell_type": "markdown",
   "metadata": {},
   "source": [
    "Before seeing the data, the mean of the distribution, which is the expected effectiveness of the blaster, is 0.25."
   ]
  },
  {
   "cell_type": "code",
   "execution_count": 8,
   "metadata": {
    "collapsed": false
   },
   "outputs": [
    {
     "data": {
      "text/plain": [
       "0.25"
      ]
     },
     "execution_count": 8,
     "metadata": {},
     "output_type": "execute_result"
    }
   ],
   "source": [
    "pmf.Mean()"
   ]
  },
  {
   "cell_type": "markdown",
   "metadata": {},
   "source": [
    "Here's how we compute the likelihood of the data.  If each blaster takes two shots, there are three ways they can get a tie: they both get 0, 1, or 2.  If the probability that either blaster gets a hit is x, the probabilities of these outcomes are:\n",
    "\n",
    "    both 0:  (1-x)**4\n",
    "    both 1:  (2 * x * (1-x))**2\n",
    "    both 2:  x**x\n",
    "    \n",
    "Here's the likelihood function that computes the total probability of the three outcomes:"
   ]
  },
  {
   "cell_type": "code",
   "execution_count": 9,
   "metadata": {
    "collapsed": true
   },
   "outputs": [],
   "source": [
    "def likelihood(hypo, data):\n",
    "    \"\"\"Likelihood of the data under hypo.\n",
    "    \n",
    "    hypo: probability of a hit, x\n",
    "    data: 'tie' or 'no tie'\n",
    "    \"\"\"\n",
    "    x = hypo\n",
    "    like = x**4 + (2 * x * (1-x))**2 + (1-x)**4\n",
    "    if data == 'tie':\n",
    "        return like\n",
    "    else:\n",
    "        return 1-like"
   ]
  },
  {
   "cell_type": "markdown",
   "metadata": {},
   "source": [
    "To see what the likelihood function looks like, I'll print the likelihood of a tie for the four hypothetical values of `x`: "
   ]
  },
  {
   "cell_type": "code",
   "execution_count": 10,
   "metadata": {
    "collapsed": false
   },
   "outputs": [
    {
     "name": "stdout",
     "output_type": "stream",
     "text": [
      "0.1 0.6886\n",
      "0.2 0.5136\n",
      "0.3 0.4246\n",
      "0.4 0.3856\n"
     ]
    }
   ],
   "source": [
    "data = 'tie'\n",
    "for hypo in sorted(pmf):\n",
    "    like = likelihood(hypo, data)\n",
    "    print(hypo, like)"
   ]
  },
  {
   "cell_type": "markdown",
   "metadata": {},
   "source": [
    "If we multiply each likelihood by the corresponding prior, we get the unnormalized posteriors:"
   ]
  },
  {
   "cell_type": "code",
   "execution_count": 11,
   "metadata": {
    "collapsed": false
   },
   "outputs": [
    {
     "name": "stdout",
     "output_type": "stream",
     "text": [
      "0.1 0.25 0.17215\n",
      "0.2 0.25 0.1284\n",
      "0.3 0.25 0.10615\n",
      "0.4 0.25 0.0964\n"
     ]
    }
   ],
   "source": [
    "for hypo in sorted(pmf):\n",
    "    unnorm_post = pmf[hypo] * likelihood(hypo, data)\n",
    "    print(hypo, pmf[hypo], unnorm_post)"
   ]
  },
  {
   "cell_type": "markdown",
   "metadata": {},
   "source": [
    "Finally, we can do the update by multiplying the priors in `pmf` by the likelihoods:"
   ]
  },
  {
   "cell_type": "code",
   "execution_count": 12,
   "metadata": {
    "collapsed": true
   },
   "outputs": [],
   "source": [
    "for hypo in pmf:\n",
    "    pmf[hypo] *= likelihood(hypo, data)"
   ]
  },
  {
   "cell_type": "markdown",
   "metadata": {},
   "source": [
    "And then normalizing `pmf`.  The result is the total probability of the data."
   ]
  },
  {
   "cell_type": "code",
   "execution_count": 13,
   "metadata": {
    "collapsed": false
   },
   "outputs": [
    {
     "data": {
      "text/plain": [
       "0.5031000000000001"
      ]
     },
     "execution_count": 13,
     "metadata": {},
     "output_type": "execute_result"
    }
   ],
   "source": [
    "pmf.Normalize()"
   ]
  },
  {
   "cell_type": "markdown",
   "metadata": {},
   "source": [
    "And here are the posteriors."
   ]
  },
  {
   "cell_type": "code",
   "execution_count": 14,
   "metadata": {
    "collapsed": false
   },
   "outputs": [
    {
     "name": "stdout",
     "output_type": "stream",
     "text": [
      "0.1 0.342178493341\n",
      "0.2 0.255217650566\n",
      "0.3 0.210991850527\n",
      "0.4 0.191612005565\n"
     ]
    }
   ],
   "source": [
    "pmf.Print()"
   ]
  },
  {
   "cell_type": "markdown",
   "metadata": {},
   "source": [
    "The lower values of `x` are more likely, so this evidence makes us downgrade our expectation about the effectiveness of the blaster.  The posterior mean is 0.225, a bit lower than the prior mean, 0.25."
   ]
  },
  {
   "cell_type": "code",
   "execution_count": 15,
   "metadata": {
    "collapsed": false
   },
   "outputs": [
    {
     "data": {
      "text/plain": [
       "0.2252037368316438"
      ]
     },
     "execution_count": 15,
     "metadata": {},
     "output_type": "execute_result"
    }
   ],
   "source": [
    "pmf.Mean()"
   ]
  },
  {
   "cell_type": "markdown",
   "metadata": {},
   "source": [
    "A tie is evidence in favor of extreme values of `x`."
   ]
  },
  {
   "cell_type": "code",
   "execution_count": null,
   "metadata": {
    "collapsed": true
   },
   "outputs": [],
   "source": []
  }
 ],
 "metadata": {
  "kernelspec": {
   "display_name": "Python 2",
   "language": "python",
   "name": "python2"
  },
  "language_info": {
   "codemirror_mode": {
    "name": "ipython",
    "version": 2
   },
   "file_extension": ".py",
   "mimetype": "text/x-python",
   "name": "python",
   "nbconvert_exporter": "python",
   "pygments_lexer": "ipython2",
   "version": "2.7.11"
  }
 },
 "nbformat": 4,
 "nbformat_minor": 0
}
