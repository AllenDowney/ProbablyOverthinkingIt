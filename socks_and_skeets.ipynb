{
 "cells": [
  {
   "cell_type": "markdown",
   "metadata": {},
   "source": [
    "Socks, Skeets, and Space Invaders\n",
    "---------------------------------\n",
    "\n",
    "This notebook contains code from my blog, [Probably Overthinking It](http://allendowney.blogspot.com/)\n",
    "\n",
    "Copyright 2016 Allen Downey\n",
    "\n",
    "MIT License: http://opensource.org/licenses/MIT"
   ]
  },
  {
   "cell_type": "code",
   "execution_count": 1,
   "metadata": {
    "collapsed": false
   },
   "outputs": [],
   "source": [
    "from __future__ import print_function, division\n",
    "\n",
    "%matplotlib inline\n",
    "\n",
    "import warnings\n",
    "warnings.filterwarnings(\"ignore\")\n",
    "\n",
    "from thinkbayes2 import Pmf, Hist, Beta\n",
    "import thinkbayes2\n",
    "import thinkplot"
   ]
  },
  {
   "cell_type": "markdown",
   "metadata": {},
   "source": [
    "### Socks\n",
    "\n",
    "The sock drawer problem\n",
    "Posed by Yuzhong Huang:\n",
    "\n",
    "> There are two drawers of socks. The first drawer has 40 white socks and 10 black socks; the second drawer has 20 white socks and 30 black socks.  We randomly get 2 socks from a drawer, and it turns out to be a pair (same color) but we don't know the color of these socks. What is the chance that we picked the first drawer?\n",
    "\n"
   ]
  },
  {
   "cell_type": "markdown",
   "metadata": {},
   "source": [
    "Now I'll solve the problem more generally using a Jupyter notebook.\n",
    "\n",
    "I'll represent the sock drawers with `Hist` objects, defined in the `thinkbayes2` library:"
   ]
  },
  {
   "cell_type": "code",
   "execution_count": 2,
   "metadata": {
    "collapsed": false
   },
   "outputs": [
    {
     "name": "stdout",
     "output_type": "stream",
     "text": [
      "B 10\n",
      "W 40\n"
     ]
    }
   ],
   "source": [
    "drawer1 = Hist(dict(W=40, B=10), label='Drawer 1')\n",
    "drawer2 = Hist(dict(W=20, B=30), label='Drawer 2')\n",
    "drawer1.Print()"
   ]
  },
  {
   "cell_type": "markdown",
   "metadata": {},
   "source": [
    "Now I can make a `Pmf` that represents the two hypotheses:"
   ]
  },
  {
   "cell_type": "code",
   "execution_count": 3,
   "metadata": {
    "collapsed": false
   },
   "outputs": [
    {
     "name": "stdout",
     "output_type": "stream",
     "text": [
      "Drawer 2 0.5\n",
      "Drawer 1 0.5\n"
     ]
    }
   ],
   "source": [
    "pmf = Pmf([drawer1, drawer2])\n",
    "pmf.Print()"
   ]
  },
  {
   "cell_type": "markdown",
   "metadata": {},
   "source": [
    "This function computes the likelihood of the data for a given hypothesis:"
   ]
  },
  {
   "cell_type": "code",
   "execution_count": 4,
   "metadata": {
    "collapsed": false
   },
   "outputs": [],
   "source": [
    "def likelihood(data, hypo):\n",
    "    \"\"\"Likelihood of the data under the hypothesis.\n",
    "    \n",
    "    data: string 'same' or 'different'\n",
    "    hypo: Hist object with the number of each color\n",
    "    \n",
    "    returns: float likelihood\n",
    "    \"\"\"\n",
    "    probs = Pmf(hypo)\n",
    "    prob_same = probs['W']**2 + probs['B']**2\n",
    "    if data == 'same':\n",
    "        return prob_same\n",
    "    else:\n",
    "        return 1-prob_same"
   ]
  },
  {
   "cell_type": "markdown",
   "metadata": {},
   "source": [
    "Now we can update `pmf` with these likelihoods"
   ]
  },
  {
   "cell_type": "code",
   "execution_count": 5,
   "metadata": {
    "collapsed": false
   },
   "outputs": [
    {
     "data": {
      "text/plain": [
       "0.6000000000000001"
      ]
     },
     "execution_count": 5,
     "metadata": {},
     "output_type": "execute_result"
    }
   ],
   "source": [
    "data = 'same'\n",
    "\n",
    "pmf[drawer1] *= likelihood(data, drawer1)\n",
    "pmf[drawer2] *= likelihood(data, drawer2)\n",
    "pmf.Normalize()"
   ]
  },
  {
   "cell_type": "markdown",
   "metadata": {},
   "source": [
    "The return value from Normalize is the total probability of the data, the denominator of Bayes's theorem, also known as the normalizing constant.\n",
    "\n",
    "And here's the posterior distribution:"
   ]
  },
  {
   "cell_type": "code",
   "execution_count": 6,
   "metadata": {
    "collapsed": false
   },
   "outputs": [
    {
     "name": "stdout",
     "output_type": "stream",
     "text": [
      "Drawer 2 0.433333333333\n",
      "Drawer 1 0.566666666667\n"
     ]
    }
   ],
   "source": [
    "pmf.Print()"
   ]
  },
  {
   "cell_type": "markdown",
   "metadata": {},
   "source": [
    "The likelihood of getting a pair is higher in Drawer 1, which is 40:10, than in Drawer 2, which is 30:20.\n",
    "\n",
    "In general, the probability of getting a pair is highest if the drawer contains only one color sock, and lowest if the proportion if 50:50.\n",
    "\n",
    "So getting a pair is evidence that the drawer is more likely to have a high (or low) proportion of one color, and less likely to be balanced."
   ]
  },
  {
   "cell_type": "markdown",
   "metadata": {},
   "source": [
    "## The Alien Blaster problem\n",
    "\n",
    "In preparation for an alien invasion, the Earth Defense League has been working on new missiles to shoot down space invaders.  Of course, some missile designs are better than others; let's assume that each design has some probability of hitting an alien ship, x.\n",
    "\n",
    "Based on previous tests, the distribution of x in the population of designs is roughly uniform between 10% and 40%.  To approximate this distribution, we'll assume that x is either 10%, 20%, 30%, or 40% with equal probability.\n",
    "\n",
    "Now suppose the new ultra-secret Alien Blaster 10K is being tested.  In a press conference, an EDF general reports that the new design has been tested twice, taking two shots during each test.  The results of the test are confidential, so the general won't say how many targets were hit, but they report: ``The same number of targets were hit in the two tests, so we have reason to think this new design is consistent.''\n",
    "\n",
    "Is this data good or bad; that is, does it increase or decrease your estimate of x for the Alien Blaster 10K?"
   ]
  },
  {
   "cell_type": "markdown",
   "metadata": {},
   "source": [
    "I'll start by creating a `Pmf` that represents the four hypothetical values of `x`:"
   ]
  },
  {
   "cell_type": "code",
   "execution_count": 7,
   "metadata": {
    "collapsed": false
   },
   "outputs": [
    {
     "name": "stdout",
     "output_type": "stream",
     "text": [
      "0.1 0.25\n",
      "0.2 0.25\n",
      "0.3 0.25\n",
      "0.4 0.25\n"
     ]
    }
   ],
   "source": [
    "pmf = Pmf([0.1, 0.2, 0.3, 0.4])\n",
    "pmf.Print()"
   ]
  },
  {
   "cell_type": "markdown",
   "metadata": {},
   "source": [
    "Before seeing the data, the mean of the distribution, which is the expected effectiveness of the blaster, is 0.25."
   ]
  },
  {
   "cell_type": "code",
   "execution_count": 8,
   "metadata": {
    "collapsed": false
   },
   "outputs": [
    {
     "data": {
      "text/plain": [
       "0.25"
      ]
     },
     "execution_count": 8,
     "metadata": {},
     "output_type": "execute_result"
    }
   ],
   "source": [
    "pmf.Mean()"
   ]
  },
  {
   "cell_type": "markdown",
   "metadata": {},
   "source": [
    "Here's how we compute the likelihood of the data.  If each blaster takes two shots, there are three ways they can get a tie: they both get 0, 1, or 2.  If the probability that either blaster gets a hit is x, the probabilities of these outcomes are:\n",
    "\n",
    "    both 0:  (1-x)**4\n",
    "    both 1:  (2 * x * (1-x))**2\n",
    "    both 2:  x**x\n",
    "    \n",
    "Here's the likelihood function that computes the total probability of the three outcomes:"
   ]
  },
  {
   "cell_type": "code",
   "execution_count": 9,
   "metadata": {
    "collapsed": true
   },
   "outputs": [],
   "source": [
    "def likelihood(hypo, data):\n",
    "    \"\"\"Likelihood of the data under hypo.\n",
    "    \n",
    "    hypo: probability of a hit, x\n",
    "    data: 'tie' or 'no tie'\n",
    "    \"\"\"\n",
    "    x = hypo\n",
    "    like = x**4 + (2 * x * (1-x))**2 + (1-x)**4\n",
    "    if data == 'tie':\n",
    "        return like\n",
    "    else:\n",
    "        return 1-like"
   ]
  },
  {
   "cell_type": "markdown",
   "metadata": {},
   "source": [
    "To see what the likelihood function looks like, I'll print the likelihood of a tie for the four hypothetical values of `x`: "
   ]
  },
  {
   "cell_type": "code",
   "execution_count": 10,
   "metadata": {
    "collapsed": false
   },
   "outputs": [
    {
     "name": "stdout",
     "output_type": "stream",
     "text": [
      "0.1 0.6886\n",
      "0.2 0.5136\n",
      "0.3 0.4246\n",
      "0.4 0.3856\n"
     ]
    }
   ],
   "source": [
    "data = 'tie'\n",
    "for hypo in sorted(pmf):\n",
    "    like = likelihood(hypo, data)\n",
    "    print(hypo, like)"
   ]
  },
  {
   "cell_type": "markdown",
   "metadata": {},
   "source": [
    "If we multiply each likelihood by the corresponding prior, we get the unnormalized posteriors:"
   ]
  },
  {
   "cell_type": "code",
   "execution_count": 11,
   "metadata": {
    "collapsed": false
   },
   "outputs": [
    {
     "name": "stdout",
     "output_type": "stream",
     "text": [
      "0.1 0.25 0.17215\n",
      "0.2 0.25 0.1284\n",
      "0.3 0.25 0.10615\n",
      "0.4 0.25 0.0964\n"
     ]
    }
   ],
   "source": [
    "for hypo in sorted(pmf):\n",
    "    unnorm_post = pmf[hypo] * likelihood(hypo, data)\n",
    "    print(hypo, pmf[hypo], unnorm_post)"
   ]
  },
  {
   "cell_type": "markdown",
   "metadata": {},
   "source": [
    "Finally, we can do the update by multiplying the priors in `pmf` by the likelihoods:"
   ]
  },
  {
   "cell_type": "code",
   "execution_count": 12,
   "metadata": {
    "collapsed": true
   },
   "outputs": [],
   "source": [
    "for hypo in pmf:\n",
    "    pmf[hypo] *= likelihood(hypo, data)"
   ]
  },
  {
   "cell_type": "markdown",
   "metadata": {},
   "source": [
    "And then normalizing `pmf`.  The result is the total probability of the data."
   ]
  },
  {
   "cell_type": "code",
   "execution_count": 13,
   "metadata": {
    "collapsed": false
   },
   "outputs": [
    {
     "data": {
      "text/plain": [
       "0.5031000000000001"
      ]
     },
     "execution_count": 13,
     "metadata": {},
     "output_type": "execute_result"
    }
   ],
   "source": [
    "pmf.Normalize()"
   ]
  },
  {
   "cell_type": "markdown",
   "metadata": {},
   "source": [
    "And here are the posteriors."
   ]
  },
  {
   "cell_type": "code",
   "execution_count": 14,
   "metadata": {
    "collapsed": false
   },
   "outputs": [
    {
     "name": "stdout",
     "output_type": "stream",
     "text": [
      "0.1 0.342178493341\n",
      "0.2 0.255217650566\n",
      "0.3 0.210991850527\n",
      "0.4 0.191612005565\n"
     ]
    }
   ],
   "source": [
    "pmf.Print()"
   ]
  },
  {
   "cell_type": "markdown",
   "metadata": {},
   "source": [
    "The lower values of `x` are more likely, so this evidence makes us downgrade our expectation about the effectiveness of the blaster.  The posterior mean is 0.225, a bit lower than the prior mean, 0.25."
   ]
  },
  {
   "cell_type": "code",
   "execution_count": 15,
   "metadata": {
    "collapsed": false
   },
   "outputs": [
    {
     "data": {
      "text/plain": [
       "0.2252037368316438"
      ]
     },
     "execution_count": 15,
     "metadata": {},
     "output_type": "execute_result"
    }
   ],
   "source": [
    "pmf.Mean()"
   ]
  },
  {
   "cell_type": "markdown",
   "metadata": {},
   "source": [
    "A tie is evidence in favor of extreme values of `x`."
   ]
  },
  {
   "cell_type": "markdown",
   "metadata": {
    "collapsed": true
   },
   "source": [
    "## The Skeet Shooting problem\n",
    "\n",
    "At the 2016 Summer Olympics in the Women's Skeet event, Kim Rhode faced Wei Meng in the bronze medal match.  After 25 shots, they were tied, sending the match into sudden death.  In each round of sudden death, each competitor shoots at two targets.  In the first three rounds, Rhode and Wei hit the same number of targets.  Finally in the fourth round, Rhode hit more targets, so she won the bronze medal, making her the first Summer Olympian to win an individual medal at six consecutive summer games.  Based on this information, should we infer that Rhode and Wei had an unusually good or bad day?\n",
    "\n",
    "As background information, you can assume that anyone in the Olympic final has about the same probability of hitting 13, 14, 15, or 16 out of 25 targets."
   ]
  },
  {
   "cell_type": "markdown",
   "metadata": {},
   "source": [
    "To compute the likelihood function, I'll use `binom.pmf`, which computes the Binomial PMF.  In the following example, the probability of hitting `k=10` targets in `n=25` attempts, with probability `p=13/15` of hitting each target, is about 8%."
   ]
  },
  {
   "cell_type": "code",
   "execution_count": 16,
   "metadata": {
    "collapsed": false
   },
   "outputs": [
    {
     "data": {
      "text/plain": [
       "0.078169085615240511"
      ]
     },
     "execution_count": 16,
     "metadata": {},
     "output_type": "execute_result"
    }
   ],
   "source": [
    "from scipy.stats import binom\n",
    "\n",
    "k = 10\n",
    "n = 25\n",
    "p = 13/25\n",
    "binom.pmf(k, n, p)"
   ]
  },
  {
   "cell_type": "markdown",
   "metadata": {},
   "source": [
    "The following function computes the likelihood of `tie` or `no tie` after a given number of shots, `n`, given the hypothetical value of `p`.\n",
    "\n",
    "It loops through the possible values of `k` from 0 to `n` and uses `binom.pmf` to compute the probability that each shooter hits `k` targets.  To get the probability that BOTH shooters hit `k` targets, we square the result.\n",
    "\n",
    "To get the total likelihood of the outcome, we add up the probability for each value of `k`."
   ]
  },
  {
   "cell_type": "code",
   "execution_count": 17,
   "metadata": {
    "collapsed": true
   },
   "outputs": [],
   "source": [
    "def likelihood(data, hypo):\n",
    "    \"\"\"Likelihood of data under hypo.\n",
    "        \n",
    "    data: tuple of (number of shots, 'tie' or 'no tie')\n",
    "    hypo: hypothetical number of hits out of 25\n",
    "    \"\"\"\n",
    "    p = hypo / 25\n",
    "    n, outcome = data\n",
    "    like = sum([binom.pmf(k, n, p)**2 for k in range(n+1)])\n",
    "    return like if outcome=='tie' else 1-like"
   ]
  },
  {
   "cell_type": "markdown",
   "metadata": {},
   "source": [
    "Now we can see what that looks like for `n=2`"
   ]
  },
  {
   "cell_type": "code",
   "execution_count": 18,
   "metadata": {
    "collapsed": false
   },
   "outputs": [
    {
     "data": {
      "image/png": "[encoded data removed]",
      "text/plain": [
       "<matplotlib.figure.Figure at 0x7fd54c4dbe10>"
      ]
     },
     "metadata": {},
     "output_type": "display_data"
    }
   ],
   "source": [
    "data = 2, 'tie'\n",
    "\n",
    "hypos = range(0, 26)\n",
    "likes = [likelihood(data, hypo) for hypo in hypos]\n",
    "thinkplot.Plot(hypos, likes)\n",
    "thinkplot.Config(xlabel='Probability of a hit (out of 25)',\n",
    "                 ylabel='Likelihood of a tie',\n",
    "                 ylim=[0, 1])"
   ]
  },
  {
   "cell_type": "markdown",
   "metadata": {},
   "source": [
    "As we saw in the Sock Drawer problem and the Alien Blaster problem, the probability of a tie is highest for extreme values of `p`, and minimized when `p=0.5`.\n",
    "\n",
    "The result is similar when `n=25`:"
   ]
  },
  {
   "cell_type": "code",
   "execution_count": 19,
   "metadata": {
    "collapsed": false
   },
   "outputs": [
    {
     "data": {
      "image/png": "[encoded data removed]",
      "text/plain": [
       "<matplotlib.figure.Figure at 0x7fd54c4dbf10>"
      ]
     },
     "metadata": {},
     "output_type": "display_data"
    }
   ],
   "source": [
    "data = 25, 'tie'\n",
    "\n",
    "hypos = range(0, 26)\n",
    "likes = [likelihood(data, hypo) for hypo in hypos]\n",
    "thinkplot.Plot(hypos, likes)\n",
    "thinkplot.Config(xlabel='Probability of a hit (out of 25)',\n",
    "                 ylabel='Likelihood of a tie',\n",
    "                 ylim=[0, 1])"
   ]
  },
  {
   "cell_type": "markdown",
   "metadata": {},
   "source": [
    "In the range we care about (13 through 16) this curve is pretty flat, which means that a tie after the round of 25 doesn't discriminate strongly among the hypotheses.\n",
    "\n",
    "We could use this likelihood function to run the update, but just for purposes of demonstration, I'll do it using the Suite class from `thinkbayes2`:"
   ]
  },
  {
   "cell_type": "code",
   "execution_count": 20,
   "metadata": {
    "collapsed": false
   },
   "outputs": [],
   "source": [
    "from thinkbayes2 import Suite\n",
    "\n",
    "class Skeet(Suite):\n",
    "    \n",
    "    def Likelihood(self, data, hypo):\n",
    "        \"\"\"Likelihood of data under hypo.\n",
    "        \n",
    "        data: tuple of (number of shots, 'tie' or 'no tie')\n",
    "        hypo: hypothetical number of hits out of 25\n",
    "        \"\"\"\n",
    "        p = hypo / 25\n",
    "        n, outcome = data\n",
    "        like = sum([binom.pmf(k, n, p)**2 for k in range(n+1)])\n",
    "        return like if outcome=='tie' else 1-like"
   ]
  },
  {
   "cell_type": "markdown",
   "metadata": {},
   "source": [
    "Now I'll create the prior."
   ]
  },
  {
   "cell_type": "code",
   "execution_count": 21,
   "metadata": {
    "collapsed": false
   },
   "outputs": [
    {
     "name": "stdout",
     "output_type": "stream",
     "text": [
      "13 0.25\n",
      "14 0.25\n",
      "15 0.25\n",
      "16 0.25\n"
     ]
    }
   ],
   "source": [
    "suite = Skeet([13, 14, 15, 16])\n",
    "suite.Print()"
   ]
  },
  {
   "cell_type": "markdown",
   "metadata": {},
   "source": [
    "The prior mean is 14.5."
   ]
  },
  {
   "cell_type": "code",
   "execution_count": 22,
   "metadata": {
    "collapsed": false
   },
   "outputs": [
    {
     "data": {
      "text/plain": [
       "14.5"
      ]
     },
     "execution_count": 22,
     "metadata": {},
     "output_type": "execute_result"
    }
   ],
   "source": [
    "suite.Mean()"
   ]
  },
  {
   "cell_type": "raw",
   "metadata": {},
   "source": [
    "Here's the update after the round of 25."
   ]
  },
  {
   "cell_type": "code",
   "execution_count": 23,
   "metadata": {
    "collapsed": false
   },
   "outputs": [
    {
     "name": "stdout",
     "output_type": "stream",
     "text": [
      "13 0.245787744767\n",
      "14 0.247411480833\n",
      "15 0.250757985003\n",
      "16 0.256042789397\n"
     ]
    }
   ],
   "source": [
    "suite.Update((25, 'tie'))\n",
    "suite.Print()"
   ]
  },
  {
   "cell_type": "markdown",
   "metadata": {},
   "source": [
    "The higher values are a little more likely, but the effect is pretty small.\n",
    "\n",
    "Interestingly, the rounds of `n=2` provide more evidence in favor of the higher values of `p`."
   ]
  },
  {
   "cell_type": "code",
   "execution_count": 24,
   "metadata": {
    "collapsed": false
   },
   "outputs": [
    {
     "name": "stdout",
     "output_type": "stream",
     "text": [
      "13 0.240111712333\n",
      "14 0.243807684231\n",
      "15 0.251622537592\n",
      "16 0.264458065844\n"
     ]
    }
   ],
   "source": [
    "suite.Update((2, 'tie'))\n",
    "suite.Print()"
   ]
  },
  {
   "cell_type": "code",
   "execution_count": 25,
   "metadata": {
    "collapsed": false
   },
   "outputs": [
    {
     "name": "stdout",
     "output_type": "stream",
     "text": [
      "13 0.234458172307\n",
      "14 0.240145161205\n",
      "15 0.252373188397\n",
      "16 0.273023478091\n"
     ]
    }
   ],
   "source": [
    "suite.Update((2, 'tie'))\n",
    "suite.Print()"
   ]
  },
  {
   "cell_type": "code",
   "execution_count": 26,
   "metadata": {
    "collapsed": false
   },
   "outputs": [
    {
     "name": "stdout",
     "output_type": "stream",
     "text": [
      "13 0.228830701632\n",
      "14 0.236427057892\n",
      "15 0.253007722855\n",
      "16 0.28173451762\n"
     ]
    }
   ],
   "source": [
    "suite.Update((2, 'tie'))\n",
    "suite.Print()"
   ]
  },
  {
   "cell_type": "markdown",
   "metadata": {},
   "source": [
    "After three rounds of sudden death, we are more inclined to think that the shooters are having a good day.\n",
    "\n",
    "The fourth round, which ends with no tie, provides a small amount of evidence in the other direction."
   ]
  },
  {
   "cell_type": "code",
   "execution_count": 27,
   "metadata": {
    "collapsed": false
   },
   "outputs": [
    {
     "name": "stdout",
     "output_type": "stream",
     "text": [
      "13 0.2323322732\n",
      "14 0.23878553469\n",
      "15 0.252684685857\n",
      "16 0.276197506253\n"
     ]
    }
   ],
   "source": [
    "suite.Update((2, 'no tie'))\n",
    "suite.Print()"
   ]
  },
  {
   "cell_type": "markdown",
   "metadata": {},
   "source": [
    "And the posterior mean, after all updates, is a little higher than 14.5, where we started."
   ]
  },
  {
   "cell_type": "code",
   "execution_count": 28,
   "metadata": {
    "collapsed": false
   },
   "outputs": [
    {
     "data": {
      "text/plain": [
       "14.572747425162735"
      ]
     },
     "execution_count": 28,
     "metadata": {},
     "output_type": "execute_result"
    }
   ],
   "source": [
    "suite.Mean()"
   ]
  },
  {
   "cell_type": "markdown",
   "metadata": {},
   "source": [
    "In summary, the outcome of this match, with four rounds of sudden death, provides weak evidence that the shooters were having a good day.\n",
    "\n",
    "In general for this kind of contest, a tie is more likely if the probability of success is very high or low.\n",
    "\n",
    "In the Alien Blaster problem, the hypothetical value of `p` are all less than 50%, so a tie causes us to revise beliefs about `p` downward.\n",
    "\n",
    "In the Skeet Shooter problem, the hypothetical values are greater than 50%, so ties make us revise our estimates upward."
   ]
  },
  {
   "cell_type": "code",
   "execution_count": null,
   "metadata": {
    "collapsed": true
   },
   "outputs": [],
   "source": []
  }
 ],
 "metadata": {
  "kernelspec": {
   "display_name": "Python 2",
   "language": "python",
   "name": "python2"
  },
  "language_info": {
   "codemirror_mode": {
    "name": "ipython",
    "version": 2
   },
   "file_extension": ".py",
   "mimetype": "text/x-python",
   "name": "python",
   "nbconvert_exporter": "python",
   "pygments_lexer": "ipython2",
   "version": "2.7.11"
  }
 },
 "nbformat": 4,
 "nbformat_minor": 0
}
