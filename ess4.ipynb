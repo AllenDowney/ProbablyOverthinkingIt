{
 "cells": [
  {
   "cell_type": "markdown",
   "metadata": {},
   "source": [
    "Internet use and religion in Europe, part four\n",
    "-----------------------------------------\n",
    "\n",
    "This notebook presents explorations of the association between Internet use and religion in Europe, using data from the European Social Survey (http://www.europeansocialsurvey.org).\n",
    "\n",
    "Copyright 2015 Allen Downey\n",
    "\n",
    "MIT License: http://opensource.org/licenses/MIT"
   ]
  },
  {
   "cell_type": "code",
   "execution_count": 6,
   "metadata": {
    "collapsed": true
   },
   "outputs": [],
   "source": [
    "from __future__ import print_function, division\n",
    "\n",
    "import string\n",
    "import random\n",
    "\n",
    "import numpy as np\n",
    "import pandas as pd\n",
    "import statsmodels.formula.api as smf\n",
    "\n",
    "import thinkstats2\n",
    "import thinkplot\n",
    "import matplotlib.pyplot as plt\n",
    "\n",
    "import ess\n",
    "\n",
    "# colors by colorbrewer2.org\n",
    "RED = '#e41a1c'\n",
    "BLUE = '#377eb8'\n",
    "GREEN = '#4daf4a'\n",
    "PURPLE = '#984ea3'\n",
    "ORANGE = '#ff7f00'\n",
    "YELLOW = '#ffff33'\n",
    "BROWN = '#a65628'\n",
    "PINK ='#f781bf'\n",
    "\n",
    "%matplotlib inline"
   ]
  },
  {
   "cell_type": "markdown",
   "metadata": {},
   "source": [
    "Open the store containing resampled DataFrames."
   ]
  },
  {
   "cell_type": "code",
   "execution_count": 7,
   "metadata": {
    "collapsed": false
   },
   "outputs": [],
   "source": [
    "store = pd.HDFStore('ess.resamples.h5')"
   ]
  },
  {
   "cell_type": "markdown",
   "metadata": {},
   "source": [
    "Make the country objects"
   ]
  },
  {
   "cell_type": "code",
   "execution_count": 8,
   "metadata": {
    "collapsed": false
   },
   "outputs": [
    {
     "name": "stdout",
     "output_type": "stream",
     "text": [
      "Austria\n",
      "Belgium\n",
      "Bulgaria\n",
      "Switzerland\n",
      "Cyprus\n",
      "Czech Rep\n",
      "Germany\n",
      "Denmark\n",
      "Estonia\n",
      "Spain\n",
      "Finland\n",
      "France\n",
      "United Kingdom\n",
      "Greece\n",
      "Croatia\n",
      "Hungary\n",
      "Ireland\n",
      "Israel\n",
      "Iceland\n",
      "Italy\n",
      "Lithuania\n",
      "Luxembourg\n",
      "Latvia\n",
      "Netherlands\n",
      "Norway\n",
      "Poland\n",
      "Portugal\n",
      "Romania\n",
      "Russia\n",
      "Sweden\n",
      "Slovenia\n",
      "Slovakia\n",
      "Turkey\n",
      "Ukraine\n"
     ]
    }
   ],
   "source": [
    "reload(ess)\n",
    "country_map = ess.make_countries(store)"
   ]
  },
  {
   "cell_type": "markdown",
   "metadata": {},
   "source": [
    "For each resampled frame, run both models and store the results in the Country objects"
   ]
  },
  {
   "cell_type": "code",
   "execution_count": 9,
   "metadata": {
    "collapsed": false
   },
   "outputs": [
    {
     "name": "stdout",
     "output_type": "stream",
     "text": [
      "0 /AAVZWa\n",
      "1 /ADbUvD\n",
      "2 /AJEDdF\n",
      "3 /AOacJP\n",
      "4 /AsSyrK\n",
      "5 /BIXejR\n",
      "6 /Blwttj\n",
      "7 /BytXnJ\n",
      "8 /CuiQgF\n",
      "9 /CxkVBv\n",
      "10 /DOKcxz\n",
      "11 /DSSzPM\n",
      "12 /DdpHTg\n",
      "13 /EBHNWn\n",
      "14 /EHuhuk\n",
      "15 /EIaigX\n",
      "16 /EOOBpB\n",
      "17 /EdeAYH\n",
      "18 /EiftYh\n",
      "19 /EoHBcy\n",
      "20 /Evkitq\n",
      "21 /FJboqX\n",
      "22 /FWawby\n",
      "23 /GIKXkG\n",
      "24 /GPBBMj\n",
      "25 /GYhuaT\n",
      "26 /GdTLTY\n",
      "27 /GeUlsB\n",
      "28 /GeolrR\n",
      "29 /GkMwBV\n",
      "30 /GownbC\n",
      "31 /GrCTmE\n",
      "32 /HGSBFA\n",
      "33 /HemGKU\n",
      "34 /HujYDN\n",
      "35 /IKLjEu\n",
      "36 /IORbkE\n",
      "37 /IXYMov\n",
      "38 /InEXbB\n",
      "39 /JKBolS\n",
      "40 /JVSJPq\n",
      "41 /JofMZK\n",
      "42 /JomohW\n",
      "43 /JznRlw\n",
      "44 /KEthFz\n",
      "45 /KFwczR\n",
      "46 /KUVnJc\n",
      "47 /KnKXTR\n",
      "48 /KuGUhG\n",
      "49 /KudtCP\n",
      "50 /LaUmLC\n",
      "51 /LissvE\n",
      "52 /LmraEV\n",
      "53 /MCmopN\n",
      "54 /MIdmWa\n",
      "55 /MgSdJx\n",
      "56 /NJjQrX\n",
      "57 /NfzPAX\n",
      "58 /OJZEtt\n",
      "59 /Oaksmf\n",
      "60 /OdhAjf\n",
      "61 /PJETsk\n",
      "62 /PXxSpS\n",
      "63 /PiWfGA\n",
      "64 /PptHII\n",
      "65 /PvfGpy\n",
      "66 /QTTYTa\n",
      "67 /QbhbQt\n",
      "68 /QoHLXF\n",
      "69 /QskeUe\n",
      "70 /QtkeEX\n",
      "71 /RHVBHl\n",
      "72 /RRpxwc\n",
      "73 /RYtpJo\n",
      "74 /RuCVox\n",
      "75 /RwJMYt\n",
      "76 /SHnJcB\n",
      "77 /ScbnLb\n",
      "78 /TOcaLi\n",
      "79 /TRVSRU\n",
      "80 /TaHTXL\n",
      "81 /UKzbGY\n",
      "82 /UVvNeb\n",
      "83 /UfXGIO\n",
      "84 /VHIVpS\n",
      "85 /VcRwRL\n",
      "86 /VgqgVe\n",
      "87 /VlUfcv\n",
      "88 /VzZAXk\n",
      "89 /WczOWP\n",
      "90 /WkLtrX\n",
      "91 /WkfCQW\n",
      "92 /WlHtRg\n",
      "93 /WwTDDj\n",
      "94 /WxWlWp\n",
      "95 /XGmIIH\n",
      "96 /XOxJQN\n",
      "97 /XhgvtL\n",
      "98 /YMsFSK\n",
      "99 /YeASVz\n",
      "100 /YoxGxL\n",
      "101 /YvdfEk\n",
      "102 /ZEEBve\n",
      "103 /ZXovwc\n",
      "104 /ZgSZAY\n",
      "105 /ZjGafB\n",
      "106 /ZxNahg\n",
      "107 /bJIOjl\n",
      "108 /bNKOFy\n",
      "109 /bOZZkd\n",
      "110 /blIIdK\n",
      "111 /btCIZx\n",
      "112 /bvntaM\n",
      "113 /cEzhky\n",
      "114 /cYiUkH\n",
      "115 /cgKsnt\n",
      "116 /czQkEF\n",
      "117 /dcjEvm\n",
      "118 /dqGBQR\n",
      "119 /dyuBXv\n",
      "120 /dzpDVu\n",
      "121 /eDVvJf\n",
      "122 /ewfhTI\n",
      "123 /fBFUGB\n",
      "124 /fEkGRW\n",
      "125 /ggYbXH\n",
      "126 /gnJSCF\n",
      "127 /hIQegI\n",
      "128 /hOQHWV\n",
      "129 /hTfXDB\n",
      "130 /hlJZff\n",
      "131 /hmmXxf\n",
      "132 /iABzcU\n",
      "133 /iGVZEK\n",
      "134 /iWltCV\n",
      "135 /iaTUMA\n",
      "136 /iiSwHC\n",
      "137 /ilWxnR\n",
      "138 /jNqZpZ\n",
      "139 /kVTeXb\n",
      "140 /kfAnDn\n",
      "141 /kuZzaN\n",
      "142 /lHDxRr\n",
      "143 /lfUmXq\n",
      "144 /lsXAWo\n",
      "145 /mbTfIj\n",
      "146 /mtyzJg\n",
      "147 /nOsmSf\n",
      "148 /ncvQcP\n",
      "149 /neEVfl\n",
      "150 /nnERGx\n",
      "151 /nnUXHn\n",
      "152 /nvZcGU\n",
      "153 /olGyuX\n",
      "154 /pezcXZ\n",
      "155 /qRQqmc\n",
      "156 /qWZfql\n",
      "157 /qchGUz\n",
      "158 /qfZVHF\n",
      "159 /qqYojL\n",
      "160 /rCrtjG\n",
      "161 /rSravW\n",
      "162 /rUWSeP\n",
      "163 /rYeOLP\n",
      "164 /rnYDRv\n",
      "165 /sPKzmv\n",
      "166 /shBLMW\n",
      "167 /siHRLd\n",
      "168 /ssTuqu\n",
      "169 /tIBOEC\n",
      "170 /tJaytt\n",
      "171 /taosRR\n",
      "172 /tazMjo\n",
      "173 /teuTPZ\n",
      "174 /tiUoXr\n",
      "175 /tjiIAT\n",
      "176 /tjjdLV\n",
      "177 /tuLFXm\n",
      "178 /uHhvHu\n",
      "179 /uOAidw\n",
      "180 /uWhsWV\n",
      "181 /uZGRbW\n",
      "182 /vPnlcH\n",
      "183 /vktdCG\n",
      "184 /vqFufP\n",
      "185 /vqxuWx\n",
      "186 /wGQrTR\n",
      "187 /wahSMf\n",
      "188 /wsvHYt\n",
      "189 /xfKUcU\n",
      "190 /xgAfWd\n",
      "191 /xjbtHM\n",
      "192 /xtqhXa\n",
      "193 /xwCakd\n",
      "194 /xxGtEc\n",
      "195 /yImumW\n",
      "196 /yKuLlN\n",
      "197 /ybmXrn\n",
      "198 /yfOjqX\n",
      "199 /ylSawW\n",
      "200 /zBUKWF\n",
      "201 /zYbdcJ\n",
      "202 /zvRkow\n",
      "203 /zyIeFR\n"
     ]
    }
   ],
   "source": [
    "ess.process_all_frames(store, country_map)"
   ]
  },
  {
   "cell_type": "code",
   "execution_count": 101,
   "metadata": {
    "collapsed": true
   },
   "outputs": [],
   "source": [
    "plot_counter = 1\n",
    "\n",
    "def save_plot(flag=True):\n",
    "    \"\"\"Saves plots in png format.\n",
    "    \n",
    "    flag: boolean, whether to save or not\n",
    "    \"\"\"\n",
    "    global plot_counter\n",
    "    if flag:\n",
    "        root = 'ess4.%2.2d' % plot_counter\n",
    "        thinkplot.Save(root=root, formats=['png'])\n",
    "        plot_counter += 1"
   ]
  },
  {
   "cell_type": "markdown",
   "metadata": {},
   "source": [
    "Make a plot showing confidence interval for the given parameters"
   ]
  },
  {
   "cell_type": "code",
   "execution_count": 66,
   "metadata": {
    "collapsed": true
   },
   "outputs": [],
   "source": [
    "xlabel1 = 'Difference in percentage points of hasrelig'\n",
    "xlabel2 = 'Difference in religiosity (0-10 scale)'"
   ]
  },
  {
   "cell_type": "markdown",
   "metadata": {},
   "source": [
    "First let's check on the estimated parameters for the age variables."
   ]
  },
  {
   "cell_type": "code",
   "execution_count": 67,
   "metadata": {
    "collapsed": false
   },
   "outputs": [
    {
     "name": "stdout",
     "output_type": "stream",
     "text": [
      "Writing ess4.01.png\n"
     ]
    },
    {
     "data": {
      "text/plain": [
       "<matplotlib.figure.Figure at 0x7f00d73b7e50>"
      ]
     },
     "metadata": {},
     "output_type": "display_data"
    }
   ],
   "source": [
    "t = ess.extract_vars(country_map, 'yrbrn60_f', 'hasrelig_f')    \n",
    "ess.plot_cis(t)\n",
    "thinkplot.Config(title='Year born',\n",
    "                 xlabel='log odds ratio')\n",
    "save_plot()"
   ]
  },
  {
   "cell_type": "markdown",
   "metadata": {},
   "source": [
    "In almost every country, year born is associated with less religiosity.\n",
    "\n",
    "How about the quadratic term?"
   ]
  },
  {
   "cell_type": "code",
   "execution_count": 94,
   "metadata": {
    "collapsed": false
   },
   "outputs": [
    {
     "name": "stdout",
     "output_type": "stream",
     "text": [
      "Writing ess4.02.png\n"
     ]
    },
    {
     "data": {
      "text/plain": [
       "<matplotlib.figure.Figure at 0x7f00af176210>"
      ]
     },
     "metadata": {},
     "output_type": "display_data"
    }
   ],
   "source": [
    "t = ess.extract_vars(country_map, 'yrbrn60_f2', 'hasrelig_f')    \n",
    "ess.plot_cis(t)\n",
    "thinkplot.Config(title='Year born squared',\n",
    "                 xlabel='log odds ratio')\n",
    "save_plot()"
   ]
  },
  {
   "cell_type": "markdown",
   "metadata": {},
   "source": [
    "In almost half of the countries, the quadratic term is positive and statistically significant.  That means that the curves are convex up, indicating that the age effect is leveling off."
   ]
  },
  {
   "cell_type": "code",
   "execution_count": 69,
   "metadata": {
    "collapsed": true
   },
   "outputs": [],
   "source": [
    "xlim = [-15, 15]"
   ]
  },
  {
   "cell_type": "code",
   "execution_count": 70,
   "metadata": {
    "collapsed": false
   },
   "outputs": [
    {
     "name": "stdout",
     "output_type": "stream",
     "text": [
      "Writing ess4.03.png\n"
     ]
    },
    {
     "data": {
      "text/plain": [
       "<matplotlib.figure.Figure at 0x7f00d74bb090>"
      ]
     },
     "metadata": {},
     "output_type": "display_data"
    }
   ],
   "source": [
    "t = ess.extract_ranges(country_map, 'edurank_f', 'hasrelig_f')\n",
    "ess.plot_ranges(t, ORANGE, factor=100)\n",
    "thinkplot.Config(title='Education (relative rank)',\n",
    "                 xlabel=xlabel1, xlim=xlim)\n",
    "save_plot()"
   ]
  },
  {
   "cell_type": "code",
   "execution_count": 71,
   "metadata": {
    "collapsed": false
   },
   "outputs": [
    {
     "name": "stdout",
     "output_type": "stream",
     "text": [
      "Writing ess4.04.png\n"
     ]
    },
    {
     "data": {
      "text/plain": [
       "<matplotlib.figure.Figure at 0x7f0105cd70d0>"
      ]
     },
     "metadata": {},
     "output_type": "display_data"
    }
   ],
   "source": [
    "t = ess.extract_ranges(country_map, 'hincrank_f', 'hasrelig_f')\n",
    "ess.plot_ranges(t, PINK, factor=100)\n",
    "thinkplot.Config(title='Income (relative rank)',\n",
    "                 xlabel=xlabel1, xlim=xlim)\n",
    "save_plot()"
   ]
  },
  {
   "cell_type": "code",
   "execution_count": 72,
   "metadata": {
    "collapsed": false
   },
   "outputs": [
    {
     "name": "stdout",
     "output_type": "stream",
     "text": [
      "Writing ess4.05.png\n"
     ]
    },
    {
     "data": {
      "text/plain": [
       "<matplotlib.figure.Figure at 0x7f00aeffba90>"
      ]
     },
     "metadata": {},
     "output_type": "display_data"
    }
   ],
   "source": [
    "t = ess.extract_ranges(country_map, 'tvtot_f', 'hasrelig_f')\n",
    "ess.plot_ranges(t, RED, factor=100)\n",
    "thinkplot.Config(title='Television watching',\n",
    "                 xlabel=xlabel1, xlim=xlim)\n",
    "save_plot()"
   ]
  },
  {
   "cell_type": "code",
   "execution_count": 73,
   "metadata": {
    "collapsed": false
   },
   "outputs": [
    {
     "name": "stdout",
     "output_type": "stream",
     "text": [
      "Writing ess4.06.png\n"
     ]
    },
    {
     "data": {
      "text/plain": [
       "<matplotlib.figure.Figure at 0x7f0105ccfc10>"
      ]
     },
     "metadata": {},
     "output_type": "display_data"
    }
   ],
   "source": [
    "t = ess.extract_ranges(country_map, 'rdtot_f', 'hasrelig_f')\n",
    "ess.plot_ranges(t, GREEN, factor=100)\n",
    "thinkplot.Config(title='Radio listening',\n",
    "                 xlabel=xlabel1, xlim=xlim)\n",
    "save_plot()"
   ]
  },
  {
   "cell_type": "code",
   "execution_count": 74,
   "metadata": {
    "collapsed": false
   },
   "outputs": [
    {
     "name": "stdout",
     "output_type": "stream",
     "text": [
      "Writing ess4.07.png\n"
     ]
    },
    {
     "data": {
      "text/plain": [
       "<matplotlib.figure.Figure at 0x7f00a796ab50>"
      ]
     },
     "metadata": {},
     "output_type": "display_data"
    }
   ],
   "source": [
    "t = ess.extract_ranges(country_map, 'nwsptot_f', 'hasrelig_f')\n",
    "ess.plot_ranges(t, BLUE, factor=100)\n",
    "thinkplot.Config(title='Newspaper reading',\n",
    "                 xlabel=xlabel1, xlim=xlim)\n",
    "save_plot()"
   ]
  },
  {
   "cell_type": "code",
   "execution_count": 75,
   "metadata": {
    "collapsed": false
   },
   "outputs": [
    {
     "name": "stdout",
     "output_type": "stream",
     "text": [
      "Writing ess4.08.png\n"
     ]
    },
    {
     "data": {
      "text/plain": [
       "<matplotlib.figure.Figure at 0x7f00a6b3f5d0>"
      ]
     },
     "metadata": {},
     "output_type": "display_data"
    }
   ],
   "source": [
    "t = ess.extract_ranges(country_map, 'netuse_f', 'hasrelig_f')\n",
    "ess.plot_ranges(t, PURPLE, factor=100)\n",
    "thinkplot.Config(title='Internet use',\n",
    "                 xlabel=xlabel1, xlim=xlim)\n",
    "save_plot()"
   ]
  },
  {
   "cell_type": "code",
   "execution_count": 76,
   "metadata": {
    "collapsed": false
   },
   "outputs": [
    {
     "name": "stdout",
     "output_type": "stream",
     "text": [
      "0.286229602057\n",
      "Writing ess4.09.png\n"
     ]
    },
    {
     "data": {
      "text/plain": [
       "<matplotlib.figure.Figure at 0x7f00a6b3f510>"
      ]
     },
     "metadata": {},
     "output_type": "display_data"
    }
   ],
   "source": [
    "t = ess.extract_ranges(country_map, 'netuse_f', 'hasrelig_f')\n",
    "ess.plot_scatter(t, BLUE, factor=100)\n",
    "thinkplot.Config(title='',\n",
    "                 xlabel=xlabel1,\n",
    "                 ylabel='Fraction affiliated',\n",
    "                 xlim=[-10, 5], ylim=[0, 1])\n",
    "save_plot()"
   ]
  },
  {
   "cell_type": "code",
   "execution_count": 77,
   "metadata": {
    "collapsed": false
   },
   "outputs": [
    {
     "name": "stdout",
     "output_type": "stream",
     "text": [
      "0.28792717189\n",
      "Writing ess4.10.png\n"
     ]
    },
    {
     "data": {
      "text/plain": [
       "<matplotlib.figure.Figure at 0x7f010052d290>"
      ]
     },
     "metadata": {},
     "output_type": "display_data"
    }
   ],
   "source": [
    "t = ess.extract_ranges(country_map, 'netuse_f', 'rlgdgr_f')\n",
    "ess.plot_scatter(t, BLUE, factor=100)\n",
    "thinkplot.Config(title='',\n",
    "                 xlabel=xlabel1,\n",
    "                 ylabel='Mean religiosity',\n",
    "                 xlim=[-10, 5], ylim=[0, 7.5])\n",
    "save_plot()"
   ]
  },
  {
   "cell_type": "code",
   "execution_count": 78,
   "metadata": {
    "collapsed": false
   },
   "outputs": [
    {
     "name": "stdout",
     "output_type": "stream",
     "text": [
      "-0.373616754245\n",
      "Writing ess4.11.png\n"
     ]
    },
    {
     "data": {
      "text/plain": [
       "<matplotlib.figure.Figure at 0x7f00d6157f90>"
      ]
     },
     "metadata": {},
     "output_type": "display_data"
    }
   ],
   "source": [
    "t = ess.extract_ranges(country_map, 'netuse_f', 'netuse_f')\n",
    "ess.plot_scatter(t, BLUE, factor=100)\n",
    "thinkplot.Config(title='',\n",
    "                 xlabel=xlabel1,\n",
    "                 ylabel='Mean Internet use',\n",
    "                 xlim=[-10, 5], ylim=[0, 7.5])\n",
    "save_plot()"
   ]
  },
  {
   "cell_type": "markdown",
   "metadata": {},
   "source": [
    "Plot the CDFs of effect size across countries"
   ]
  },
  {
   "cell_type": "code",
   "execution_count": 98,
   "metadata": {
    "collapsed": false
   },
   "outputs": [
    {
     "name": "stdout",
     "output_type": "stream",
     "text": [
      "-3.45580228431 -3.34767836754\n",
      "-1.55836876398 -1.96818696515\n",
      "0.234178998765 -0.140256119373\n",
      "-0.941950017024 -1.12967746233\n",
      "-0.123541412105 0.183167405127\n",
      "0.250229301293 0.727800091835\n",
      "Writing ess4.12.png\n"
     ]
    },
    {
     "data": {
      "text/plain": [
       "<matplotlib.figure.Figure at 0x7f00d9aede90>"
      ]
     },
     "metadata": {},
     "output_type": "display_data"
    }
   ],
   "source": [
    "ess.plot_cdfs(country_map, ess.extract_ranges, factor=100)\n",
    "thinkplot.Config(xlabel='Difference in percentage points',\n",
    "                 xlim=[-10, 10],\n",
    "                 ylabel='CDF',\n",
    "                 legend=True,\n",
    "                 loc='upper left')\n",
    "save_plot()"
   ]
  },
  {
   "cell_type": "markdown",
   "metadata": {},
   "source": [
    "Make similar figures for the second model, with degree of religiosity as the dependent variable."
   ]
  },
  {
   "cell_type": "code",
   "execution_count": 82,
   "metadata": {
    "collapsed": true
   },
   "outputs": [],
   "source": [
    "xlim = [-2.5, 1.0]"
   ]
  },
  {
   "cell_type": "code",
   "execution_count": 83,
   "metadata": {
    "collapsed": false
   },
   "outputs": [
    {
     "name": "stdout",
     "output_type": "stream",
     "text": [
      "Writing ess4.13.png\n"
     ]
    },
    {
     "data": {
      "text/plain": [
       "<matplotlib.figure.Figure at 0x7f00d8c40a10>"
      ]
     },
     "metadata": {},
     "output_type": "display_data"
    }
   ],
   "source": [
    "t = ess.extract_ranges2(country_map, 'edurank_f', 'rlgdgr_f')\n",
    "ess.plot_ranges(t, ORANGE)\n",
    "thinkplot.Config(title='Education rank',\n",
    "                 xlabel=xlabel2,\n",
    "                 xlim=xlim)\n",
    "save_plot()"
   ]
  },
  {
   "cell_type": "code",
   "execution_count": 84,
   "metadata": {
    "collapsed": false
   },
   "outputs": [
    {
     "name": "stdout",
     "output_type": "stream",
     "text": [
      "Writing ess4.14.png\n"
     ]
    },
    {
     "data": {
      "text/plain": [
       "<matplotlib.figure.Figure at 0x7f00d8f50250>"
      ]
     },
     "metadata": {},
     "output_type": "display_data"
    }
   ],
   "source": [
    "t = ess.extract_ranges2(country_map, 'hincrank_f', 'hasrelig_f')\n",
    "ess.plot_ranges(t, PINK)\n",
    "thinkplot.Config(title='Income rank',\n",
    "                 xlabel=xlabel2,\n",
    "                 xlim=xlim)\n",
    "save_plot()"
   ]
  },
  {
   "cell_type": "code",
   "execution_count": 85,
   "metadata": {
    "collapsed": false
   },
   "outputs": [
    {
     "name": "stdout",
     "output_type": "stream",
     "text": [
      "Writing ess4.15.png\n"
     ]
    },
    {
     "data": {
      "text/plain": [
       "<matplotlib.figure.Figure at 0x7f00da291d10>"
      ]
     },
     "metadata": {},
     "output_type": "display_data"
    }
   ],
   "source": [
    "t = ess.extract_ranges2(country_map, 'tvtot_f', 'hasrelig_f')\n",
    "ess.plot_ranges(t, RED)\n",
    "thinkplot.Config(title='Television watching',\n",
    "                 xlabel=xlabel2,\n",
    "                 xlim=xlim)\n",
    "save_plot()"
   ]
  },
  {
   "cell_type": "code",
   "execution_count": 86,
   "metadata": {
    "collapsed": false
   },
   "outputs": [
    {
     "name": "stdout",
     "output_type": "stream",
     "text": [
      "Writing ess4.16.png\n"
     ]
    },
    {
     "data": {
      "text/plain": [
       "<matplotlib.figure.Figure at 0x7f00d9fbde10>"
      ]
     },
     "metadata": {},
     "output_type": "display_data"
    }
   ],
   "source": [
    "t = ess.extract_ranges2(country_map, 'rdtot_f', 'hasrelig_f')\n",
    "ess.plot_ranges(t, GREEN)\n",
    "thinkplot.Config(title='Radio listening',\n",
    "                 xlabel=xlabel2,\n",
    "                 xlim=xlim)\n",
    "save_plot()"
   ]
  },
  {
   "cell_type": "code",
   "execution_count": 87,
   "metadata": {
    "collapsed": false
   },
   "outputs": [
    {
     "name": "stdout",
     "output_type": "stream",
     "text": [
      "Writing ess4.17.png\n"
     ]
    },
    {
     "data": {
      "text/plain": [
       "<matplotlib.figure.Figure at 0x7f00aefea4d0>"
      ]
     },
     "metadata": {},
     "output_type": "display_data"
    }
   ],
   "source": [
    "t = ess.extract_ranges2(country_map, 'nwsptot_f', 'hasrelig_f')\n",
    "ess.plot_ranges(t, BLUE)\n",
    "thinkplot.Config(title='Newspaper reading',\n",
    "                 xlabel=xlabel2,\n",
    "                 xlim=xlim)\n",
    "save_plot()"
   ]
  },
  {
   "cell_type": "code",
   "execution_count": 88,
   "metadata": {
    "collapsed": false
   },
   "outputs": [
    {
     "name": "stdout",
     "output_type": "stream",
     "text": [
      "Writing ess4.18.png\n"
     ]
    },
    {
     "data": {
      "text/plain": [
       "<matplotlib.figure.Figure at 0x7f00af337850>"
      ]
     },
     "metadata": {},
     "output_type": "display_data"
    }
   ],
   "source": [
    "t = ess.extract_ranges2(country_map, 'netuse_f', 'hasrelig_f')\n",
    "ess.plot_ranges(t, PURPLE)\n",
    "thinkplot.Config(title='Internet use',\n",
    "                 xlabel=xlabel2,\n",
    "                 xlim=xlim)\n",
    "save_plot()"
   ]
  },
  {
   "cell_type": "code",
   "execution_count": 100,
   "metadata": {
    "collapsed": false
   },
   "outputs": [
    {
     "name": "stdout",
     "output_type": "stream",
     "text": [
      "-0.362933927895 -0.330624085678\n",
      "-0.183162086634 -0.192676731511\n",
      "-0.114869875202 -0.128253433114\n",
      "-0.217175177883 -0.221071172113\n",
      "-0.0350814130545 -0.0309794156597\n",
      "-0.0210468577504 -0.0048871054215\n",
      "Writing ess4.19.png\n"
     ]
    },
    {
     "data": {
      "text/plain": [
       "<matplotlib.figure.Figure at 0x7f00d5df0fd0>"
      ]
     },
     "metadata": {},
     "output_type": "display_data"
    }
   ],
   "source": [
    "ess.plot_cdfs(country_map, ess.extract_ranges2, factor=1)\n",
    "thinkplot.Config(xlabel=xlabel2,\n",
    "                 xlim=[-2.5, 1],\n",
    "                 ylabel='CDF',\n",
    "                 loc='upper left')\n",
    "save_plot()"
   ]
  },
  {
   "cell_type": "markdown",
   "metadata": {},
   "source": [
    "Here's the scatter plot of effect size on rlgdgr versus mean value of rlgdgr\n",
    "\n",
    "rlgdgr is on a 0 to 10 scale, so it is mildly astonishing that national means vary as much as they do, from 2.5 to 7. "
   ]
  },
  {
   "cell_type": "code",
   "execution_count": 90,
   "metadata": {
    "collapsed": false
   },
   "outputs": [
    {
     "name": "stdout",
     "output_type": "stream",
     "text": [
      "-0.222429670329\n",
      "Writing ess4.20.png\n"
     ]
    },
    {
     "data": {
      "text/plain": [
       "<matplotlib.figure.Figure at 0x7f00d74a6b50>"
      ]
     },
     "metadata": {},
     "output_type": "display_data"
    }
   ],
   "source": [
    "t = ess.extract_ranges2(country_map, 'netuse_f', 'hasrelig_f')\n",
    "ess.plot_scatter(t, BLUE)\n",
    "thinkplot.Config(title='',\n",
    "                 xlabel=xlabel2,\n",
    "                 ylabel='Fraction affiliated',\n",
    "                 xlim=[-2.5, 0.5], ylim=[0, 1]\n",
    "                )\n",
    "save_plot()"
   ]
  },
  {
   "cell_type": "code",
   "execution_count": 91,
   "metadata": {
    "collapsed": false
   },
   "outputs": [
    {
     "name": "stdout",
     "output_type": "stream",
     "text": [
      "-0.220608611945\n",
      "Writing ess4.21.png\n"
     ]
    },
    {
     "data": {
      "text/plain": [
       "<matplotlib.figure.Figure at 0x7f00d8242c90>"
      ]
     },
     "metadata": {},
     "output_type": "display_data"
    }
   ],
   "source": [
    "t = ess.extract_ranges2(country_map, 'netuse_f', 'rlgdgr_f')\n",
    "ess.plot_scatter(t, BLUE)\n",
    "thinkplot.Config(title='',\n",
    "                 xlabel=xlabel2,\n",
    "                 ylabel='Mean religiosity',\n",
    "                 xlim=[-2.5, 0.5], ylim=[0, 7.5]\n",
    "                )\n",
    "save_plot()"
   ]
  },
  {
   "cell_type": "code",
   "execution_count": 92,
   "metadata": {
    "collapsed": false
   },
   "outputs": [
    {
     "name": "stdout",
     "output_type": "stream",
     "text": [
      "-0.0633456536527\n",
      "Writing ess4.22.png\n"
     ]
    },
    {
     "data": {
      "text/plain": [
       "<matplotlib.figure.Figure at 0x7f0105ef1f50>"
      ]
     },
     "metadata": {},
     "output_type": "display_data"
    }
   ],
   "source": [
    "t = ess.extract_ranges2(country_map, 'netuse_f', 'netuse_f')\n",
    "ess.plot_scatter(t, PURPLE)\n",
    "thinkplot.Config(title='',\n",
    "                 xlabel=xlabel2,\n",
    "                 ylabel='Mean Internet use',\n",
    "                 xlim=[-2.5, 0.5], ylim=[0, 7.5]\n",
    "                )\n",
    "save_plot()"
   ]
  },
  {
   "cell_type": "code",
   "execution_count": null,
   "metadata": {
    "collapsed": true
   },
   "outputs": [],
   "source": []
  }
 ],
 "metadata": {
  "kernelspec": {
   "display_name": "Python 2",
   "language": "python",
   "name": "python2"
  },
  "language_info": {
   "codemirror_mode": {
    "name": "ipython",
    "version": 2
   },
   "file_extension": ".py",
   "mimetype": "text/x-python",
   "name": "python",
   "nbconvert_exporter": "python",
   "pygments_lexer": "ipython2",
   "version": "2.7.10"
  }
 },
 "nbformat": 4,
 "nbformat_minor": 0
}
