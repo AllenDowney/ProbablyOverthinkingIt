{
 "cells": [
  {
   "cell_type": "markdown",
   "metadata": {},
   "source": [
    "# Vectors, Frames, and Transforms\n",
    "\n",
    "A quick example using NetworkX to implement a basic graph algorithm.\n",
    "\n",
    "Allen B. Downey\n",
    "\n",
    "[MIT License](https://opensource.org/licenses/MIT)"
   ]
  },
  {
   "cell_type": "code",
   "execution_count": 1,
   "metadata": {},
   "outputs": [],
   "source": [
    "# this line makes Jupyter show figures in the notebook\n",
    "%matplotlib inline"
   ]
  },
  {
   "cell_type": "markdown",
   "metadata": {},
   "source": [
    "`Vector` represents a Euclidean vector; it is implemented using a NumPy array of coordinates and a reference to the frame those coordinates are defined in."
   ]
  },
  {
   "cell_type": "code",
   "execution_count": 2,
   "metadata": {},
   "outputs": [],
   "source": [
    "class FrameError(ValueError):\n",
    "    \"\"\"Indicates an error related to Frames.\"\"\"\n",
    "\n",
    "class Vector:\n",
    "    def __init__(self, array, frame=None):\n",
    "        \"\"\"A vector is an array of coordinates and a frame of reference.\n",
    "\n",
    "        array: sequence of coordinates\n",
    "        frame: Frame object\n",
    "        \"\"\"\n",
    "        self.array = np.asarray(array)\n",
    "        self.frame = frame\n",
    "\n",
    "    def __str__(self):\n",
    "        if self.frame == None:\n",
    "            return '^{O}%s' % (str(self.array), )\n",
    "        else:\n",
    "            return '^{%s}%s' % (str(self.frame), str(self.array))\n",
    "        \n",
    "    def __repr__(self):\n",
    "        return 'Frame(%s, %s)' % (str(self.frame), str(self.array))\n",
    "\n",
    "    def __add__(self, other):\n",
    "        if self.frame != other.frame:\n",
    "            raise FrameError(\"Vectors must be relative to the same frame.\")\n",
    "\n",
    "        return Vector(self.array + other.array, self.frame)\n"
   ]
  },
  {
   "cell_type": "markdown",
   "metadata": {},
   "source": [
    "`Rotation` represents a rotation matrix, one of several kinds of transformation matrices.  We'll use it as part of the implementation of `Transform`."
   ]
  },
  {
   "cell_type": "code",
   "execution_count": 3,
   "metadata": {},
   "outputs": [],
   "source": [
    "class Rotation:\n",
    "    def __init__(self, array):\n",
    "        self.array = array\n",
    "    \n",
    "    def __str__(self):\n",
    "        return 'Rotation\\n%s' % str(self.array)\n",
    "    \n",
    "    __repr__ = __str__\n",
    "\n",
    "\n",
    "    def __neg__(self):\n",
    "        return Rotation(-self.array)\n",
    "\n",
    "    def __mul__(self, other):\n",
    "        \"\"\"Apply the rotation to a Vector.\"\"\"\n",
    "        return np.dot(self.array, other.array)\n",
    "\n",
    "    __call__ = __mul__\n",
    "\n",
    "    @staticmethod\n",
    "    def from_axis(axis, theta):\n",
    "        x, y, z = np.ravel(axis.array)\n",
    "        c = np.cos(theta)\n",
    "        u = 1.0-c\n",
    "        s = np.sqrt(1.0-c*c)\n",
    "        xu, yu, zu = x*u, y*u, z*u\n",
    "        v1 = [x*xu + c, x*yu - z*s, x*zu + y*s]\n",
    "        v2 = [x*yu + z*s, y*yu + c, y*zu - x*s]\n",
    "        v3 = [x*zu - y*s, y*zu + x*s, z*zu + c]\n",
    "        return Rotation(np.array([v1, v2, v3]))\n",
    "\n",
    "    def to_axis(self):\n",
    "        # return the equivalent angle-axis as (khat, theta)\n",
    "        pass\n",
    "\n",
    "    def transpose(self):\n",
    "        return Rotation(np.transpose(self.array))\n",
    "\n",
    "    inverse = transpose\n",
    "    \n"
   ]
  },
  {
   "cell_type": "markdown",
   "metadata": {},
   "source": [
    "A `Transform` is a rotation (represented by a `Rotation` object) and an origin (represented by a `Vector`).  The destination of the transform is the frame of the origin vector.  The source of the transform is provided as an argument.\n",
    "\n",
    "When you create a transform, it adds itself to the source frame."
   ]
  },
  {
   "cell_type": "code",
   "execution_count": 4,
   "metadata": {},
   "outputs": [],
   "source": [
    "class Transform:\n",
    "    \"\"\"Represents a transform from one Frame to another.\"\"\"\n",
    "\n",
    "    def __init__(self, rot, org, source=None):\n",
    "        \"\"\"Instantiates a Transform.\n",
    "\n",
    "        rot: Rotation object\n",
    "        org: origin Vector\n",
    "        source: source Frame\n",
    "        \"\"\"\n",
    "        self.rot = rot\n",
    "        self.org = org\n",
    "        self.dest = org.frame\n",
    "        self.source = source\n",
    "        self.source.add_transform(self)\n",
    "\n",
    "    def __str__(self):\n",
    "        \"\"\"Returns a string representation of the Transform.\"\"\"\n",
    "        if self.dest == None:\n",
    "            return '%s' % self.source.name\n",
    "            return '_{%s}^{O}T' % self.source.name\n",
    "        else:\n",
    "            return '_{%s}^{%s}T' % (self.source.name, self.dest.name)\n",
    "        \n",
    "    __repr__ = __str__\n",
    "            \n",
    "    def __mul__(self, other):\n",
    "        \"\"\"Applies a Transform to a Vector or Transform.\"\"\"\n",
    "        if isinstance(other, Vector):\n",
    "            return self.mul_vector(other)\n",
    "\n",
    "        if isinstance(other, Transform):\n",
    "            return self.mul_transform(other)\n",
    "\n",
    "    __call__ = __mul__\n",
    "\n",
    "    def mul_vector(self, p):\n",
    "        \"\"\"Applies a Transform to a Vector.\n",
    "\n",
    "        p: Vector\n",
    "\n",
    "        Returns: Vector\n",
    "        \"\"\"\n",
    "        if p.frame != self.source:\n",
    "            raise FrameError(\n",
    "                \"The frame of the vector must be the source of the transform\")\n",
    "        return Vector(self.rot * p, self.dest) + self.org\n",
    "\n",
    "    def mul_transform(self, other):\n",
    "        \"\"\"Applies a Transform to another Transform.\n",
    "\n",
    "        other: Transform\n",
    "\n",
    "        Returns Transform\n",
    "        \"\"\"\n",
    "        if other.dest != self.source:\n",
    "            raise FrameError(\n",
    "                \"This frames source must be the other frame's destination.\")\n",
    "\n",
    "        rot = Rotation(self.rot * other.rot)\n",
    "        t = Transform(rot, self * other.org, other.source)\n",
    "        return t\n",
    "\n",
    "    def inverse(self):\n",
    "        \"\"\"Computes the inverse transform.\n",
    "\n",
    "        Returns: Transform\n",
    "        \"\"\"\n",
    "        irot = self.rot.inverse()\n",
    "        iorg = Vector(-(irot * self.org), self.source)\n",
    "        t = Transform(irot, iorg, self.dest)\n",
    "        return t\n",
    "\n"
   ]
  },
  {
   "cell_type": "markdown",
   "metadata": {},
   "source": [
    "A `Frame` has a name and a dictionary that includes the frames we can reach directly from this frame, and the transform that gets there.\n",
    "\n",
    "The `roster` is a list of all frames."
   ]
  },
  {
   "cell_type": "code",
   "execution_count": 5,
   "metadata": {},
   "outputs": [],
   "source": [
    "class Frame:\n",
    "    \"\"\"Represents a frame of reference.\"\"\"\n",
    "\n",
    "    # list of Frames\n",
    "    roster = []\n",
    "    \n",
    "    def __init__(self, name):\n",
    "        \"\"\"Instantiate a Frame.\n",
    "\n",
    "        name: string\n",
    "        \"\"\"\n",
    "        self.name = name\n",
    "        self.transforms = {}\n",
    "        Frame.roster.append(self)\n",
    "\n",
    "    def __str__(self): \n",
    "        return self.name\n",
    "    \n",
    "    __repr__ = __str__\n",
    "\n",
    "    def add_transform(self, transform):\n",
    "        \"\"\"A frames is defined by a Transform relative to another Frame.\n",
    "\n",
    "        transform: Transform object\n",
    "        \"\"\"\n",
    "        if transform.source != self:\n",
    "            raise FrameError(\"Source of the transform must be this Frame.\")\n",
    "\n",
    "        if transform.dest:\n",
    "            self.transforms[transform.dest] = transform\n",
    "\n",
    "    def dests(self):\n",
    "        \"\"\"Returns a list of the Frames we know how to Transform to.\"\"\"\n",
    "        return self.transforms.keys()"
   ]
  },
  {
   "cell_type": "markdown",
   "metadata": {},
   "source": [
    "We'll start with one frame that is not defined relative to any other frame."
   ]
  },
  {
   "cell_type": "code",
   "execution_count": 6,
   "metadata": {},
   "outputs": [
    {
     "data": {
      "text/plain": [
       "O"
      ]
     },
     "execution_count": 6,
     "metadata": {},
     "output_type": "execute_result"
    }
   ],
   "source": [
    "origin = Frame('O')\n",
    "origin"
   ]
  },
  {
   "cell_type": "markdown",
   "metadata": {},
   "source": [
    "Now we'll create Frame `A`, which is defined by a transform relative to `O`.\n",
    "\n",
    "The string representation of a `Frame` is in LaTex."
   ]
  },
  {
   "cell_type": "code",
   "execution_count": 7,
   "metadata": {},
   "outputs": [
    {
     "data": {
      "text/plain": [
       "_{A}^{O}T"
      ]
     },
     "execution_count": 7,
     "metadata": {},
     "output_type": "execute_result"
    }
   ],
   "source": [
    "import numpy as np\n",
    "\n",
    "theta = np.pi/2\n",
    "xhat = Vector([1, 0, 0], origin)\n",
    "rx = Rotation.from_axis(xhat, theta)\n",
    "a = Frame('A')\n",
    "t_ao = Transform(rx, xhat, a)\n",
    "t_ao"
   ]
  },
  {
   "cell_type": "markdown",
   "metadata": {},
   "source": [
    "We can use `IPython.display` to render the LaTeX:"
   ]
  },
  {
   "cell_type": "code",
   "execution_count": 8,
   "metadata": {},
   "outputs": [],
   "source": [
    "from IPython.display import Math\n",
    "\n",
    "def render(obj):\n",
    "    return Math(str(obj))"
   ]
  },
  {
   "cell_type": "markdown",
   "metadata": {},
   "source": [
    "Here's the usual notation for the transform from `A` to `O`."
   ]
  },
  {
   "cell_type": "code",
   "execution_count": 9,
   "metadata": {},
   "outputs": [
    {
     "data": {
      "text/latex": [
       "$\\displaystyle _{A}^{O}T$"
      ],
      "text/plain": [
       "<IPython.core.display.Math object>"
      ]
     },
     "execution_count": 9,
     "metadata": {},
     "output_type": "execute_result"
    }
   ],
   "source": [
    "render(t_ao)"
   ]
  },
  {
   "cell_type": "markdown",
   "metadata": {},
   "source": [
    "Here's Frame `B`, defined relative to `A` by a rotation around the `yhat` axis."
   ]
  },
  {
   "cell_type": "code",
   "execution_count": 10,
   "metadata": {},
   "outputs": [
    {
     "data": {
      "text/latex": [
       "$\\displaystyle _{B}^{A}T$"
      ],
      "text/plain": [
       "<IPython.core.display.Math object>"
      ]
     },
     "execution_count": 10,
     "metadata": {},
     "output_type": "execute_result"
    }
   ],
   "source": [
    "yhat = Vector([0, 1, 0], a)\n",
    "ry = Rotation.from_axis(yhat, theta)\n",
    "b = Frame('B')\n",
    "t_ba = Transform(ry, yhat, b)\n",
    "render(t_ba)"
   ]
  },
  {
   "cell_type": "markdown",
   "metadata": {},
   "source": [
    "A Frame `C`, defined relative to `B` by a rotation around the `zhat` axis."
   ]
  },
  {
   "cell_type": "code",
   "execution_count": 11,
   "metadata": {},
   "outputs": [
    {
     "data": {
      "text/latex": [
       "$\\displaystyle _{C}^{B}T$"
      ],
      "text/plain": [
       "<IPython.core.display.Math object>"
      ]
     },
     "execution_count": 11,
     "metadata": {},
     "output_type": "execute_result"
    }
   ],
   "source": [
    "zhat = Vector([0, 0, 1], b)\n",
    "rz = Rotation.from_axis(zhat, theta)\n",
    "c = Frame('C') \n",
    "t_cb = Transform(rz, zhat, c)\n",
    "render(t_cb)"
   ]
  },
  {
   "cell_type": "markdown",
   "metadata": {},
   "source": [
    "Now let's make a vector defined in `C`."
   ]
  },
  {
   "cell_type": "code",
   "execution_count": 12,
   "metadata": {},
   "outputs": [
    {
     "data": {
      "text/latex": [
       "$\\displaystyle ^{C}[1 1 1]$"
      ],
      "text/plain": [
       "<IPython.core.display.Math object>"
      ]
     },
     "execution_count": 12,
     "metadata": {},
     "output_type": "execute_result"
    }
   ],
   "source": [
    "p_c = Vector([1, 1, 1], c)\n",
    "render(p_c)"
   ]
  },
  {
   "cell_type": "markdown",
   "metadata": {},
   "source": [
    "And we can transform it to `B`:"
   ]
  },
  {
   "cell_type": "code",
   "execution_count": 13,
   "metadata": {},
   "outputs": [
    {
     "data": {
      "text/latex": [
       "$\\displaystyle ^{B}[-1.  1.  2.]$"
      ],
      "text/plain": [
       "<IPython.core.display.Math object>"
      ]
     },
     "execution_count": 13,
     "metadata": {},
     "output_type": "execute_result"
    }
   ],
   "source": [
    "p_b = t_cb(p_c)\n",
    "render(p_b)"
   ]
  },
  {
   "cell_type": "markdown",
   "metadata": {},
   "source": [
    "Then to `A`:"
   ]
  },
  {
   "cell_type": "code",
   "execution_count": 14,
   "metadata": {},
   "outputs": [
    {
     "data": {
      "text/latex": [
       "$\\displaystyle ^{A}[2. 2. 1.]$"
      ],
      "text/plain": [
       "<IPython.core.display.Math object>"
      ]
     },
     "execution_count": 14,
     "metadata": {},
     "output_type": "execute_result"
    }
   ],
   "source": [
    "p_a = t_ba(p_b)\n",
    "render(p_a)"
   ]
  },
  {
   "cell_type": "markdown",
   "metadata": {},
   "source": [
    "And finally to `O`."
   ]
  },
  {
   "cell_type": "code",
   "execution_count": 15,
   "metadata": {},
   "outputs": [
    {
     "data": {
      "text/latex": [
       "$\\displaystyle ^{O}[ 3. -1.  2.]$"
      ],
      "text/plain": [
       "<IPython.core.display.Math object>"
      ]
     },
     "execution_count": 15,
     "metadata": {},
     "output_type": "execute_result"
    }
   ],
   "source": [
    "p = t_ao(p_a)\n",
    "render(p)"
   ]
  },
  {
   "cell_type": "markdown",
   "metadata": {},
   "source": [
    "If we didn't know how to get from one frame to another, we could search for the shortest path from the start frame to the destination.  I'll use NetworkX."
   ]
  },
  {
   "cell_type": "code",
   "execution_count": 16,
   "metadata": {},
   "outputs": [],
   "source": [
    "import networkx as nx"
   ]
  },
  {
   "cell_type": "markdown",
   "metadata": {},
   "source": [
    "The following function adds the edges from a given frame to the graph."
   ]
  },
  {
   "cell_type": "code",
   "execution_count": 17,
   "metadata": {},
   "outputs": [],
   "source": [
    "def add_edges(G, frame):\n",
    "    for neighbor, transform in frame.transforms.items():\n",
    "        G.add_edge(frame, neighbor, transform=transform)"
   ]
  },
  {
   "cell_type": "markdown",
   "metadata": {},
   "source": [
    "And here's how we can make a graph from a list of frames."
   ]
  },
  {
   "cell_type": "code",
   "execution_count": 18,
   "metadata": {},
   "outputs": [],
   "source": [
    "def make_graph(frames):\n",
    "    G = nx.DiGraph()\n",
    "    for frame in frames:\n",
    "        add_edges(G, frame)\n",
    "    return G"
   ]
  },
  {
   "cell_type": "markdown",
   "metadata": {},
   "source": [
    "Here's the list of frames:"
   ]
  },
  {
   "cell_type": "code",
   "execution_count": 19,
   "metadata": {},
   "outputs": [
    {
     "data": {
      "text/plain": [
       "[O, A, B, C]"
      ]
     },
     "execution_count": 19,
     "metadata": {},
     "output_type": "execute_result"
    }
   ],
   "source": [
    "frames = Frame.roster\n",
    "frames"
   ]
  },
  {
   "cell_type": "markdown",
   "metadata": {},
   "source": [
    "And a dictionary that maps from each frame to its label:"
   ]
  },
  {
   "cell_type": "code",
   "execution_count": 20,
   "metadata": {},
   "outputs": [
    {
     "data": {
      "text/plain": [
       "{O: 'O', A: 'A', B: 'B', C: 'C'}"
      ]
     },
     "execution_count": 20,
     "metadata": {},
     "output_type": "execute_result"
    }
   ],
   "source": [
    "labels = dict([(frame, str(frame)) for frame in frames])\n",
    "labels"
   ]
  },
  {
   "cell_type": "markdown",
   "metadata": {},
   "source": [
    "So we can show the frames, and transforms between them, graphically."
   ]
  },
  {
   "cell_type": "code",
   "execution_count": 21,
   "metadata": {
    "scrolled": true
   },
   "outputs": [
    {
     "data": {
      "image/png": "[encoded data removed]",
      "text/plain": [
       "<Figure size 432x288 with 1 Axes>"
      ]
     },
     "metadata": {},
     "output_type": "display_data"
    }
   ],
   "source": [
    "G = make_graph(Frame.roster)\n",
    "nx.draw(G, labels=labels)"
   ]
  },
  {
   "cell_type": "code",
   "execution_count": 22,
   "metadata": {},
   "outputs": [
    {
     "data": {
      "text/plain": [
       "[C, B, A, O]"
      ]
     },
     "execution_count": 22,
     "metadata": {},
     "output_type": "execute_result"
    }
   ],
   "source": [
    "nx.shortest_path(G, c, origin)"
   ]
  },
  {
   "cell_type": "markdown",
   "metadata": {},
   "source": [
    "When we apply a transform to a vector, we get a vector in a new frame.\n",
    "\n",
    "When we apply a transform to another transform, we get a new transform that composes the two transforms.\n",
    "\n",
    "For example `cbao`, below, composes the transforms from C to B, C to A, and A to O.  The result is a transform directly from C to O."
   ]
  },
  {
   "cell_type": "code",
   "execution_count": 23,
   "metadata": {},
   "outputs": [
    {
     "data": {
      "text/latex": [
       "$\\displaystyle _{C}^{O}T$"
      ],
      "text/plain": [
       "<IPython.core.display.Math object>"
      ]
     },
     "execution_count": 23,
     "metadata": {},
     "output_type": "execute_result"
    }
   ],
   "source": [
    "cbao = t_ao(t_ba(t_cb))\n",
    "render(cbao)"
   ]
  },
  {
   "cell_type": "code",
   "execution_count": 24,
   "metadata": {},
   "outputs": [
    {
     "data": {
      "text/latex": [
       "$\\displaystyle ^{O}[ 3. -1.  2.]$"
      ],
      "text/plain": [
       "<IPython.core.display.Math object>"
      ]
     },
     "execution_count": 24,
     "metadata": {},
     "output_type": "execute_result"
    }
   ],
   "source": [
    "p = cbao(p_c)\n",
    "render(p)"
   ]
  },
  {
   "cell_type": "markdown",
   "metadata": {},
   "source": [
    "When we create the new transform, it gets added to the network, creating shortcuts.\n",
    "\n",
    "If we draw the network again, we can see the new links."
   ]
  },
  {
   "cell_type": "code",
   "execution_count": 25,
   "metadata": {},
   "outputs": [
    {
     "data": {
      "image/png": "[encoded data removed]",
      "text/plain": [
       "<Figure size 432x288 with 1 Axes>"
      ]
     },
     "metadata": {},
     "output_type": "display_data"
    }
   ],
   "source": [
    "G = make_graph([origin, a, b, c])\n",
    "nx.draw(G, labels=labels)"
   ]
  },
  {
   "cell_type": "markdown",
   "metadata": {},
   "source": [
    "And if we find the shortest path, its shorter now."
   ]
  },
  {
   "cell_type": "code",
   "execution_count": 26,
   "metadata": {},
   "outputs": [
    {
     "data": {
      "text/plain": [
       "[C, O]"
      ]
     },
     "execution_count": 26,
     "metadata": {},
     "output_type": "execute_result"
    }
   ],
   "source": [
    "nx.shortest_path(G, c, origin)"
   ]
  },
  {
   "cell_type": "markdown",
   "metadata": {},
   "source": [
    "We can also compute an inverse transform that goes in the other direction."
   ]
  },
  {
   "cell_type": "code",
   "execution_count": 27,
   "metadata": {},
   "outputs": [
    {
     "data": {
      "text/latex": [
       "$\\displaystyle _{O}^{C}T$"
      ],
      "text/plain": [
       "<IPython.core.display.Math object>"
      ]
     },
     "execution_count": 27,
     "metadata": {},
     "output_type": "execute_result"
    }
   ],
   "source": [
    "inv = cbao.inverse()\n",
    "render(inv)"
   ]
  },
  {
   "cell_type": "markdown",
   "metadata": {},
   "source": [
    "And confirm that it gets us back where we started."
   ]
  },
  {
   "cell_type": "code",
   "execution_count": 28,
   "metadata": {},
   "outputs": [
    {
     "data": {
      "text/latex": [
       "$\\displaystyle ^{C}[1. 1. 1.]$"
      ],
      "text/plain": [
       "<IPython.core.display.Math object>"
      ]
     },
     "execution_count": 28,
     "metadata": {},
     "output_type": "execute_result"
    }
   ],
   "source": [
    "p_c = inv(p)\n",
    "render(p_c)"
   ]
  },
  {
   "cell_type": "code",
   "execution_count": null,
   "metadata": {},
   "outputs": [],
   "source": []
  }
 ],
 "metadata": {
  "kernelspec": {
   "display_name": "Python 3",
   "language": "python",
   "name": "python3"
  },
  "language_info": {
   "codemirror_mode": {
    "name": "ipython",
    "version": 3
   },
   "file_extension": ".py",
   "mimetype": "text/x-python",
   "name": "python",
   "nbconvert_exporter": "python",
   "pygments_lexer": "ipython3",
   "version": "3.6.7"
  }
 },
 "nbformat": 4,
 "nbformat_minor": 1
}
