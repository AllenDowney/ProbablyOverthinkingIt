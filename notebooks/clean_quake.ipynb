{
 "cells": [
  {
   "cell_type": "markdown",
   "metadata": {},
   "source": [
    "# Preparing data on earthquakes"
   ]
  },
  {
   "cell_type": "code",
   "execution_count": 1,
   "metadata": {},
   "outputs": [],
   "source": [
    "import pandas as pd\n",
    "import numpy as np\n",
    "import matplotlib.pyplot as plt"
   ]
  },
  {
   "cell_type": "code",
   "execution_count": 2,
   "metadata": {},
   "outputs": [],
   "source": [
    "from os.path import basename, exists\n",
    "\n",
    "def download(url):\n",
    "    filename = basename(url)\n",
    "    if not exists(filename):\n",
    "        from urllib.request import urlretrieve\n",
    "        local, _ = urlretrieve(url, filename)\n",
    "        print('Downloaded ' + local)"
   ]
  },
  {
   "cell_type": "code",
   "execution_count": 3,
   "metadata": {},
   "outputs": [],
   "source": [
    "download(\"https://scedc.caltech.edu/ftp/catalogs/SCSN/SCSN_catalogs.tar.gz\")"
   ]
  },
  {
   "cell_type": "code",
   "execution_count": 4,
   "metadata": {},
   "outputs": [
    {
     "name": "stdout",
     "output_type": "stream",
     "text": [
      "-rw-rw-r-- 1 downey downey 19M Mar  1 19:53 SCSN_catalogs.tar.gz\r\n"
     ]
    }
   ],
   "source": [
    "!ls -lh SCSN_catalogs.tar.gz"
   ]
  },
  {
   "cell_type": "code",
   "execution_count": 5,
   "metadata": {},
   "outputs": [],
   "source": [
    "!tar -xzf SCSN_catalogs.tar.gz"
   ]
  },
  {
   "cell_type": "code",
   "execution_count": 6,
   "metadata": {},
   "outputs": [
    {
     "name": "stdout",
     "output_type": "stream",
     "text": [
      "1981 10685 0 0.0\n",
      "1982 14028 0 0.0\n",
      "1983 14465 0 0.0\n",
      "1984 17890 0 0.0\n",
      "1985 18848 0 0.0\n",
      "1986 17073 0 0.0\n",
      "1987 13577 0 0.0\n",
      "1988 11070 0 0.0\n",
      "1989 11568 0 0.0\n",
      "1990 11239 0 0.0\n",
      "1991 10093 0 0.0\n",
      "1992 51434 0 0.0\n",
      "1993 22014 0 0.0\n",
      "1994 28255 0 0.0\n",
      "1995 24990 0 0.0\n",
      "1996 19875 0 0.0\n",
      "1997 15321 0 0.0\n",
      "1998 13556 0 0.0\n",
      "1999 21380 0 0.0\n",
      "2000 20375 0 0.0\n",
      "2001 18116 0 0.0\n",
      "2002 11858 0 0.0\n",
      "2003 11547 0 0.0\n",
      "2004 12259 0 0.0\n",
      "2005 13206 0 0.0\n",
      "2006 11196 0 0.0\n",
      "2007 11485 0 0.0\n",
      "2008 14059 0 0.0\n",
      "2009 16732 0 0.0\n",
      "2010 41960 0 0.0\n",
      "2011 15566 0 0.0\n",
      "2012 17164 0 0.0\n",
      "2013 18545 0 0.0\n",
      "2014 14430 0 0.0\n",
      "2015 15587 0 0.0\n",
      "2016 16029 0 0.0\n",
      "2017 16345 0 0.0\n",
      "2018 20731 0 0.0\n",
      "2019 63572 0 0.0\n",
      "2020 35282 0 0.0\n",
      "2021 23202 0 0.0\n",
      "2022 16886 0 0.0\n"
     ]
    }
   ],
   "source": [
    "quake_dfs = []\n",
    "for i in range(1981, 2023):\n",
    "    filename = f'SCSN/{i}.catalog'\n",
    "    df = pd.read_fwf(filename, colspecs='infer', skiprows=9)\n",
    "\n",
    "    # drop the last row\n",
    "    n = len(df)\n",
    "    df.drop(n-1, inplace=True)\n",
    "    \n",
    "    print(i, n, df['MAG'].isna().sum(), df['MAG'].min())\n",
    "    quake_dfs.append(df)"
   ]
  },
  {
   "cell_type": "code",
   "execution_count": 7,
   "metadata": {},
   "outputs": [
    {
     "data": {
      "text/plain": [
       "(803451, 14)"
      ]
     },
     "execution_count": 7,
     "metadata": {},
     "output_type": "execute_result"
    }
   ],
   "source": [
    "quake = pd.concat(quake_dfs)\n",
    "quake.shape"
   ]
  },
  {
   "cell_type": "code",
   "execution_count": 8,
   "metadata": {},
   "outputs": [],
   "source": [
    "columns = ['#YYY', 'MM', 'DD', 'MAG']\n",
    "quake[columns].to_csv('quake.csv', index=False)"
   ]
  },
  {
   "cell_type": "code",
   "execution_count": 9,
   "metadata": {},
   "outputs": [
    {
     "name": "stdout",
     "output_type": "stream",
     "text": [
      "-rw-rw-r-- 1 downey downey 12M Mar  1 20:00 quake.csv\r\n"
     ]
    }
   ],
   "source": [
    "!ls -lh quake.csv"
   ]
  },
  {
   "cell_type": "markdown",
   "metadata": {},
   "source": [
    "*Elements of Data Science*\n",
    "\n",
    "Copyright 2022 Allen Downey\n",
    "\n",
    "License: [Creative Commons Attribution-NonCommercial-ShareAlike 4.0 International](https://creativecommons.org/licenses/by-nc-sa/4.0/)"
   ]
  },
  {
   "cell_type": "code",
   "execution_count": null,
   "metadata": {},
   "outputs": [],
   "source": []
  }
 ],
 "metadata": {
  "kernelspec": {
   "display_name": "Python 3 (ipykernel)",
   "language": "python",
   "name": "python3"
  },
  "language_info": {
   "codemirror_mode": {
    "name": "ipython",
    "version": 3
   },
   "file_extension": ".py",
   "mimetype": "text/x-python",
   "name": "python",
   "nbconvert_exporter": "python",
   "pygments_lexer": "ipython3",
   "version": "3.8.16"
  }
 },
 "nbformat": 4,
 "nbformat_minor": 4
}
