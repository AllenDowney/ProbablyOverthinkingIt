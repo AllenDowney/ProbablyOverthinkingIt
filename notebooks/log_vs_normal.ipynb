{
 "cells": [
  {
   "cell_type": "markdown",
   "metadata": {},
   "source": [
    "# Gaussian or lognormal?\n",
    "\n",
    "\n",
    "Within a species, the distribution of many measurements is well modeled by a Gaussian distribution.\n",
    "But for some measurements a lognormal distribution is a better fit.\n",
    "For some measurements both models fit well, and for others, neither does.\n",
    "\n",
    "These observations suggest several questions we might want to answer:\n",
    "\n",
    "* Why might these distributions follow either model?\n",
    "\n",
    "* Why do some fit a Gaussian and others a lognormal?\n",
    "\n",
    "* How can we best determine which is a better fit.\n",
    "\n",
    "I address the first two questions in Chapters 1 and 4 of *Probably Overthinking It*.\n",
    "This notebook addresses the third, by suggesting a way to fit these models to an observed dataset and to evaluate the fit.\n",
    "\n",
    "As examples, I'll use two datasets:\n",
    "\n",
    "* The Anthropometric Survey of US Army Personnel (ANSUR II), available from [the Open Design Lab at Penn State](https://www.openlab.psu.edu/).\n",
    "\n",
    "* Results of medical blood tests from [supplemental material](https://www.degruyter.com/document/doi/10.1515/labmed-2020-0005/html) from \"Quantitative laboratory results: normal or lognormal distribution?\" by Frank Klawonn , Georg Hoffmann and Matthias Orth.\n",
    "\n",
    "The following cells install packages and download the files we'll need."
   ]
  },
  {
   "cell_type": "code",
   "execution_count": 1,
   "metadata": {},
   "outputs": [],
   "source": [
    "# install empiricaldist if we don't already have it\n",
    "\n",
    "try:\n",
    "    import empiricaldist\n",
    "except ImportError:\n",
    "    !pip install empiricaldist"
   ]
  },
  {
   "cell_type": "code",
   "execution_count": 2,
   "metadata": {},
   "outputs": [],
   "source": [
    "# download utils.py\n",
    "\n",
    "from os.path import basename, exists\n",
    "\n",
    "\n",
    "def download(url):\n",
    "    filename = basename(url)\n",
    "    if not exists(filename):\n",
    "        from urllib.request import urlretrieve\n",
    "\n",
    "        local, _ = urlretrieve(url, filename)\n",
    "        print(\"Downloaded \" + local)\n",
    "\n",
    "\n",
    "download(\n",
    "    \"https://github.com/AllenDowney/ProbablyOverthinkingIt/raw/book/notebooks/utils.py\"\n",
    ")"
   ]
  },
  {
   "cell_type": "code",
   "execution_count": 3,
   "metadata": {
    "tags": [
     "remove-cell"
    ]
   },
   "outputs": [
    {
     "data": {
      "application/javascript": [
       "\n",
       "            setTimeout(function() {\n",
       "                var nbb_cell_id = 3;\n",
       "                var nbb_unformatted_code = \"import sys\\nimport pandas as pd\\nimport numpy as np\\nimport matplotlib.pyplot as plt\\nimport seaborn as sns\\n\\nfrom utils import decorate\\n\\n%load_ext nb_black\";\n",
       "                var nbb_formatted_code = \"import sys\\nimport pandas as pd\\nimport numpy as np\\nimport matplotlib.pyplot as plt\\nimport seaborn as sns\\n\\nfrom utils import decorate\\n\\n%load_ext nb_black\";\n",
       "                var nbb_cells = Jupyter.notebook.get_cells();\n",
       "                for (var i = 0; i < nbb_cells.length; ++i) {\n",
       "                    if (nbb_cells[i].input_prompt_number == nbb_cell_id) {\n",
       "                        if (nbb_cells[i].get_text() == nbb_unformatted_code) {\n",
       "                             nbb_cells[i].set_text(nbb_formatted_code);\n",
       "                        }\n",
       "                        break;\n",
       "                    }\n",
       "                }\n",
       "            }, 500);\n",
       "            "
      ],
      "text/plain": [
       "<IPython.core.display.Javascript object>"
      ]
     },
     "metadata": {},
     "output_type": "display_data"
    }
   ],
   "source": [
    "import sys\n",
    "import pandas as pd\n",
    "import numpy as np\n",
    "import matplotlib.pyplot as plt\n",
    "import seaborn as sns\n",
    "\n",
    "from utils import decorate\n",
    "\n",
    "%load_ext nb_black"
   ]
  },
  {
   "cell_type": "markdown",
   "metadata": {
    "tags": [
     "remove-cell"
    ]
   },
   "source": [
    "## ANSUR Data\n",
    "\n",
    "The ANSUR dataset contains 93 measurements from 4082 male and 1986 female members of the U.S. armed forces.\n"
   ]
  },
  {
   "cell_type": "code",
   "execution_count": 4,
   "metadata": {
    "tags": [
     "remove-cell"
    ]
   },
   "outputs": [
    {
     "data": {
      "application/javascript": [
       "\n",
       "            setTimeout(function() {\n",
       "                var nbb_cell_id = 4;\n",
       "                var nbb_unformatted_code = \"download(\\n    \\\"https://github.com/AllenDowney/ProbablyOverthinkingIt/raw/book/data/ANSURIIFEMALEPublic.csv\\\"\\n)\\ndownload(\\n    \\\"https://github.com/AllenDowney/ProbablyOverthinkingIt/raw/book/data/ANSURIIMALEPublic.csv\\\"\\n)\";\n",
       "                var nbb_formatted_code = \"download(\\n    \\\"https://github.com/AllenDowney/ProbablyOverthinkingIt/raw/book/data/ANSURIIFEMALEPublic.csv\\\"\\n)\\ndownload(\\n    \\\"https://github.com/AllenDowney/ProbablyOverthinkingIt/raw/book/data/ANSURIIMALEPublic.csv\\\"\\n)\";\n",
       "                var nbb_cells = Jupyter.notebook.get_cells();\n",
       "                for (var i = 0; i < nbb_cells.length; ++i) {\n",
       "                    if (nbb_cells[i].input_prompt_number == nbb_cell_id) {\n",
       "                        if (nbb_cells[i].get_text() == nbb_unformatted_code) {\n",
       "                             nbb_cells[i].set_text(nbb_formatted_code);\n",
       "                        }\n",
       "                        break;\n",
       "                    }\n",
       "                }\n",
       "            }, 500);\n",
       "            "
      ],
      "text/plain": [
       "<IPython.core.display.Javascript object>"
      ]
     },
     "metadata": {},
     "output_type": "display_data"
    }
   ],
   "source": [
    "download(\n",
    "    \"https://github.com/AllenDowney/ProbablyOverthinkingIt/raw/book/data/ANSURIIFEMALEPublic.csv\"\n",
    ")\n",
    "download(\n",
    "    \"https://github.com/AllenDowney/ProbablyOverthinkingIt/raw/book/data/ANSURIIMALEPublic.csv\"\n",
    ")"
   ]
  },
  {
   "cell_type": "code",
   "execution_count": 5,
   "metadata": {
    "tags": [
     "remove-cell"
    ]
   },
   "outputs": [
    {
     "data": {
      "text/plain": [
       "(1986, 108)"
      ]
     },
     "execution_count": 5,
     "metadata": {},
     "output_type": "execute_result"
    },
    {
     "data": {
      "application/javascript": [
       "\n",
       "            setTimeout(function() {\n",
       "                var nbb_cell_id = 5;\n",
       "                var nbb_unformatted_code = \"ansur_female = pd.read_csv(\\\"ANSURIIFEMALEPublic.csv\\\", encoding=\\\"ISO-8859-1\\\")\\nansur_female.shape\";\n",
       "                var nbb_formatted_code = \"ansur_female = pd.read_csv(\\\"ANSURIIFEMALEPublic.csv\\\", encoding=\\\"ISO-8859-1\\\")\\nansur_female.shape\";\n",
       "                var nbb_cells = Jupyter.notebook.get_cells();\n",
       "                for (var i = 0; i < nbb_cells.length; ++i) {\n",
       "                    if (nbb_cells[i].input_prompt_number == nbb_cell_id) {\n",
       "                        if (nbb_cells[i].get_text() == nbb_unformatted_code) {\n",
       "                             nbb_cells[i].set_text(nbb_formatted_code);\n",
       "                        }\n",
       "                        break;\n",
       "                    }\n",
       "                }\n",
       "            }, 500);\n",
       "            "
      ],
      "text/plain": [
       "<IPython.core.display.Javascript object>"
      ]
     },
     "metadata": {},
     "output_type": "display_data"
    }
   ],
   "source": [
    "ansur_female = pd.read_csv(\"ANSURIIFEMALEPublic.csv\", encoding=\"ISO-8859-1\")\n",
    "ansur_female.shape"
   ]
  },
  {
   "cell_type": "code",
   "execution_count": 6,
   "metadata": {
    "tags": [
     "remove-cell"
    ]
   },
   "outputs": [
    {
     "data": {
      "text/plain": [
       "(4082, 108)"
      ]
     },
     "execution_count": 6,
     "metadata": {},
     "output_type": "execute_result"
    },
    {
     "data": {
      "application/javascript": [
       "\n",
       "            setTimeout(function() {\n",
       "                var nbb_cell_id = 6;\n",
       "                var nbb_unformatted_code = \"ansur_male = pd.read_csv(\\\"ANSURIIMALEPublic.csv\\\", encoding=\\\"ISO-8859-1\\\")\\nansur_male.shape\";\n",
       "                var nbb_formatted_code = \"ansur_male = pd.read_csv(\\\"ANSURIIMALEPublic.csv\\\", encoding=\\\"ISO-8859-1\\\")\\nansur_male.shape\";\n",
       "                var nbb_cells = Jupyter.notebook.get_cells();\n",
       "                for (var i = 0; i < nbb_cells.length; ++i) {\n",
       "                    if (nbb_cells[i].input_prompt_number == nbb_cell_id) {\n",
       "                        if (nbb_cells[i].get_text() == nbb_unformatted_code) {\n",
       "                             nbb_cells[i].set_text(nbb_formatted_code);\n",
       "                        }\n",
       "                        break;\n",
       "                    }\n",
       "                }\n",
       "            }, 500);\n",
       "            "
      ],
      "text/plain": [
       "<IPython.core.display.Javascript object>"
      ]
     },
     "metadata": {},
     "output_type": "display_data"
    }
   ],
   "source": [
    "ansur_male = pd.read_csv(\"ANSURIIMALEPublic.csv\", encoding=\"ISO-8859-1\")\n",
    "ansur_male.shape"
   ]
  },
  {
   "cell_type": "code",
   "execution_count": 7,
   "metadata": {},
   "outputs": [
    {
     "data": {
      "text/plain": [
       "Index(['subjectid', 'abdominalextensiondepthsitting', 'acromialheight',\n",
       "       'acromionradialelength', 'anklecircumference', 'axillaheight',\n",
       "       'balloffootcircumference', 'balloffootlength', 'biacromialbreadth',\n",
       "       'bicepscircumferenceflexed',\n",
       "       ...\n",
       "       'Branch', 'PrimaryMOS', 'SubjectsBirthLocation', 'SubjectNumericRace',\n",
       "       'Ethnicity', 'DODRace', 'Age', 'Heightin', 'Weightlbs',\n",
       "       'WritingPreference'],\n",
       "      dtype='object', length=108)"
      ]
     },
     "execution_count": 7,
     "metadata": {},
     "output_type": "execute_result"
    },
    {
     "data": {
      "application/javascript": [
       "\n",
       "            setTimeout(function() {\n",
       "                var nbb_cell_id = 7;\n",
       "                var nbb_unformatted_code = \"ansur_male.columns\";\n",
       "                var nbb_formatted_code = \"ansur_male.columns\";\n",
       "                var nbb_cells = Jupyter.notebook.get_cells();\n",
       "                for (var i = 0; i < nbb_cells.length; ++i) {\n",
       "                    if (nbb_cells[i].input_prompt_number == nbb_cell_id) {\n",
       "                        if (nbb_cells[i].get_text() == nbb_unformatted_code) {\n",
       "                             nbb_cells[i].set_text(nbb_formatted_code);\n",
       "                        }\n",
       "                        break;\n",
       "                    }\n",
       "                }\n",
       "            }, 500);\n",
       "            "
      ],
      "text/plain": [
       "<IPython.core.display.Javascript object>"
      ]
     },
     "metadata": {},
     "output_type": "display_data"
    }
   ],
   "source": [
    "ansur_male.columns"
   ]
  },
  {
   "cell_type": "markdown",
   "metadata": {},
   "source": [
    "The measurements are the columns in all lowercase."
   ]
  },
  {
   "cell_type": "code",
   "execution_count": 8,
   "metadata": {
    "tags": [
     "remove-cell"
    ]
   },
   "outputs": [
    {
     "data": {
      "text/plain": [
       "['abdominalextensiondepthsitting',\n",
       " 'acromialheight',\n",
       " 'acromionradialelength',\n",
       " 'anklecircumference',\n",
       " 'axillaheight',\n",
       " 'balloffootcircumference',\n",
       " 'balloffootlength',\n",
       " 'biacromialbreadth',\n",
       " 'bicepscircumferenceflexed',\n",
       " 'bicristalbreadth',\n",
       " 'bideltoidbreadth',\n",
       " 'bimalleolarbreadth',\n",
       " 'bitragionchinarc',\n",
       " 'bitragionsubmandibulararc',\n",
       " 'bizygomaticbreadth',\n",
       " 'buttockcircumference',\n",
       " 'buttockdepth',\n",
       " 'buttockheight',\n",
       " 'buttockkneelength',\n",
       " 'buttockpopliteallength',\n",
       " 'calfcircumference',\n",
       " 'cervicaleheight',\n",
       " 'chestbreadth',\n",
       " 'chestcircumference',\n",
       " 'chestdepth',\n",
       " 'chestheight',\n",
       " 'crotchheight',\n",
       " 'crotchlengthomphalion',\n",
       " 'crotchlengthposterioromphalion',\n",
       " 'earbreadth',\n",
       " 'earlength',\n",
       " 'earprotrusion',\n",
       " 'elbowrestheight',\n",
       " 'eyeheightsitting',\n",
       " 'footbreadthhorizontal',\n",
       " 'footlength',\n",
       " 'forearmcenterofgriplength',\n",
       " 'forearmcircumferenceflexed',\n",
       " 'forearmforearmbreadth',\n",
       " 'forearmhandlength',\n",
       " 'functionalleglength',\n",
       " 'handbreadth',\n",
       " 'handcircumference',\n",
       " 'handlength',\n",
       " 'headbreadth',\n",
       " 'headcircumference',\n",
       " 'headlength',\n",
       " 'heelanklecircumference',\n",
       " 'heelbreadth',\n",
       " 'hipbreadth',\n",
       " 'hipbreadthsitting',\n",
       " 'iliocristaleheight',\n",
       " 'interpupillarybreadth',\n",
       " 'interscyei',\n",
       " 'interscyeii',\n",
       " 'kneeheightmidpatella',\n",
       " 'kneeheightsitting',\n",
       " 'lateralfemoralepicondyleheight',\n",
       " 'lateralmalleolusheight',\n",
       " 'lowerthighcircumference',\n",
       " 'mentonsellionlength',\n",
       " 'neckcircumference',\n",
       " 'neckcircumferencebase',\n",
       " 'overheadfingertipreachsitting',\n",
       " 'palmlength',\n",
       " 'poplitealheight',\n",
       " 'radialestylionlength',\n",
       " 'shouldercircumference',\n",
       " 'shoulderelbowlength',\n",
       " 'shoulderlength',\n",
       " 'sittingheight',\n",
       " 'sleevelengthspinewrist',\n",
       " 'sleeveoutseam',\n",
       " 'span',\n",
       " 'stature',\n",
       " 'suprasternaleheight',\n",
       " 'tenthribheight',\n",
       " 'thighcircumference',\n",
       " 'thighclearance',\n",
       " 'thumbtipreach',\n",
       " 'tibialheight',\n",
       " 'tragiontopofhead',\n",
       " 'trochanterionheight',\n",
       " 'verticaltrunkcircumferenceusa',\n",
       " 'waistbacklength',\n",
       " 'waistbreadth',\n",
       " 'waistcircumference',\n",
       " 'waistdepth',\n",
       " 'waistfrontlengthsitting',\n",
       " 'waistheightomphalion',\n",
       " 'weightkg',\n",
       " 'wristcircumference',\n",
       " 'wristheight']"
      ]
     },
     "execution_count": 8,
     "metadata": {},
     "output_type": "execute_result"
    },
    {
     "data": {
      "application/javascript": [
       "\n",
       "            setTimeout(function() {\n",
       "                var nbb_cell_id = 8;\n",
       "                var nbb_unformatted_code = \"measurements = [column for column in ansur_female.columns if column.lower() == column]\\nmeasurements\";\n",
       "                var nbb_formatted_code = \"measurements = [column for column in ansur_female.columns if column.lower() == column]\\nmeasurements\";\n",
       "                var nbb_cells = Jupyter.notebook.get_cells();\n",
       "                for (var i = 0; i < nbb_cells.length; ++i) {\n",
       "                    if (nbb_cells[i].input_prompt_number == nbb_cell_id) {\n",
       "                        if (nbb_cells[i].get_text() == nbb_unformatted_code) {\n",
       "                             nbb_cells[i].set_text(nbb_formatted_code);\n",
       "                        }\n",
       "                        break;\n",
       "                    }\n",
       "                }\n",
       "            }, 500);\n",
       "            "
      ],
      "text/plain": [
       "<IPython.core.display.Javascript object>"
      ]
     },
     "metadata": {},
     "output_type": "display_data"
    }
   ],
   "source": [
    "measurements = [column for column in ansur_female.columns if column.lower() == column]\n",
    "measurements"
   ]
  },
  {
   "cell_type": "code",
   "execution_count": 9,
   "metadata": {
    "tags": [
     "remove-cell"
    ]
   },
   "outputs": [
    {
     "data": {
      "text/plain": [
       "93"
      ]
     },
     "execution_count": 9,
     "metadata": {},
     "output_type": "execute_result"
    },
    {
     "data": {
      "application/javascript": [
       "\n",
       "            setTimeout(function() {\n",
       "                var nbb_cell_id = 9;\n",
       "                var nbb_unformatted_code = \"len(measurements)\";\n",
       "                var nbb_formatted_code = \"len(measurements)\";\n",
       "                var nbb_cells = Jupyter.notebook.get_cells();\n",
       "                for (var i = 0; i < nbb_cells.length; ++i) {\n",
       "                    if (nbb_cells[i].input_prompt_number == nbb_cell_id) {\n",
       "                        if (nbb_cells[i].get_text() == nbb_unformatted_code) {\n",
       "                             nbb_cells[i].set_text(nbb_formatted_code);\n",
       "                        }\n",
       "                        break;\n",
       "                    }\n",
       "                }\n",
       "            }, 500);\n",
       "            "
      ],
      "text/plain": [
       "<IPython.core.display.Javascript object>"
      ]
     },
     "metadata": {},
     "output_type": "display_data"
    }
   ],
   "source": [
    "len(measurements)"
   ]
  },
  {
   "cell_type": "markdown",
   "metadata": {},
   "source": [
    "The following function takes a `Series` and finds a Gaussian distribution that uses a [soft L1 norm](https://docs.scipy.org/doc/scipy/reference/generated/scipy.optimize.least_squares.html) to minimize the area between the data and the model."
   ]
  },
  {
   "cell_type": "code",
   "execution_count": 10,
   "metadata": {
    "tags": [
     "remove-cell"
    ]
   },
   "outputs": [
    {
     "data": {
      "application/javascript": [
       "\n",
       "            setTimeout(function() {\n",
       "                var nbb_cell_id = 10;\n",
       "                var nbb_unformatted_code = \"from empiricaldist import Cdf\\nfrom scipy.optimize import least_squares\\nfrom scipy.stats import norm\\n\\n\\ndef fit_model(series, verbose=False):\\n    \\\"\\\"\\\"Find the model that minimizes the errors in percentiles.\\\"\\\"\\\"\\n\\n    def error_func(params):\\n        error = np.abs(ps - norm.cdf(qs, *params))\\n        if verbose:\\n            print(params, np.sum(error))\\n        return error\\n\\n    x0 = series.mean(), series.std()\\n    low, high = series.quantile([0.01, 0.99])\\n\\n    cdf = Cdf.from_seq(series)\\n    qs = np.linspace(low, high)\\n    ps = cdf(qs)\\n\\n    res = least_squares(error_func, x0=x0, xtol=1e-3, loss=\\\"soft_l1\\\")\\n    assert res.success\\n    mu, sigma = res.x\\n    return norm(mu, sigma)\";\n",
       "                var nbb_formatted_code = \"from empiricaldist import Cdf\\nfrom scipy.optimize import least_squares\\nfrom scipy.stats import norm\\n\\n\\ndef fit_model(series, verbose=False):\\n    \\\"\\\"\\\"Find the model that minimizes the errors in percentiles.\\\"\\\"\\\"\\n\\n    def error_func(params):\\n        error = np.abs(ps - norm.cdf(qs, *params))\\n        if verbose:\\n            print(params, np.sum(error))\\n        return error\\n\\n    x0 = series.mean(), series.std()\\n    low, high = series.quantile([0.01, 0.99])\\n\\n    cdf = Cdf.from_seq(series)\\n    qs = np.linspace(low, high)\\n    ps = cdf(qs)\\n\\n    res = least_squares(error_func, x0=x0, xtol=1e-3, loss=\\\"soft_l1\\\")\\n    assert res.success\\n    mu, sigma = res.x\\n    return norm(mu, sigma)\";\n",
       "                var nbb_cells = Jupyter.notebook.get_cells();\n",
       "                for (var i = 0; i < nbb_cells.length; ++i) {\n",
       "                    if (nbb_cells[i].input_prompt_number == nbb_cell_id) {\n",
       "                        if (nbb_cells[i].get_text() == nbb_unformatted_code) {\n",
       "                             nbb_cells[i].set_text(nbb_formatted_code);\n",
       "                        }\n",
       "                        break;\n",
       "                    }\n",
       "                }\n",
       "            }, 500);\n",
       "            "
      ],
      "text/plain": [
       "<IPython.core.display.Javascript object>"
      ]
     },
     "metadata": {},
     "output_type": "display_data"
    }
   ],
   "source": [
    "from empiricaldist import Cdf\n",
    "from scipy.optimize import least_squares\n",
    "from scipy.stats import norm\n",
    "\n",
    "\n",
    "def fit_model(series, verbose=False):\n",
    "    \"\"\"Find the model that minimizes the errors in percentiles.\"\"\"\n",
    "\n",
    "    def error_func(params):\n",
    "        error = np.abs(ps - norm.cdf(qs, *params))\n",
    "        if verbose:\n",
    "            print(params, np.sum(error))\n",
    "        return error\n",
    "\n",
    "    x0 = series.mean(), series.std()\n",
    "    low, high = series.quantile([0.01, 0.99])\n",
    "\n",
    "    cdf = Cdf.from_seq(series)\n",
    "    qs = np.linspace(low, high)\n",
    "    ps = cdf(qs)\n",
    "\n",
    "    res = least_squares(error_func, x0=x0, xtol=1e-3, loss=\"soft_l1\")\n",
    "    assert res.success\n",
    "    mu, sigma = res.x\n",
    "    return norm(mu, sigma)"
   ]
  },
  {
   "cell_type": "code",
   "execution_count": 11,
   "metadata": {},
   "outputs": [
    {
     "name": "stdout",
     "output_type": "stream",
     "text": [
      "[1756.21460069   68.55078767] 0.1821344487296781\n",
      "[1756.21462686   68.55078767] 0.18213631155601778\n",
      "[1756.21460069   68.55078869] 0.18213448100538832\n",
      "[1755.57429829   68.2097861 ] 0.1548211165158396\n",
      "[1755.57432445   68.2097861 ] 0.15482069994677106\n",
      "[1755.57429829   68.20978712] 0.15482109146464754\n"
     ]
    },
    {
     "data": {
      "application/javascript": [
       "\n",
       "            setTimeout(function() {\n",
       "                var nbb_cell_id = 11;\n",
       "                var nbb_unformatted_code = \"series = ansur_male[\\\"stature\\\"]\\ndist = fit_model(series, verbose=True)\";\n",
       "                var nbb_formatted_code = \"series = ansur_male[\\\"stature\\\"]\\ndist = fit_model(series, verbose=True)\";\n",
       "                var nbb_cells = Jupyter.notebook.get_cells();\n",
       "                for (var i = 0; i < nbb_cells.length; ++i) {\n",
       "                    if (nbb_cells[i].input_prompt_number == nbb_cell_id) {\n",
       "                        if (nbb_cells[i].get_text() == nbb_unformatted_code) {\n",
       "                             nbb_cells[i].set_text(nbb_formatted_code);\n",
       "                        }\n",
       "                        break;\n",
       "                    }\n",
       "                }\n",
       "            }, 500);\n",
       "            "
      ],
      "text/plain": [
       "<IPython.core.display.Javascript object>"
      ]
     },
     "metadata": {},
     "output_type": "display_data"
    }
   ],
   "source": [
    "series = ansur_male[\"stature\"]\n",
    "dist = fit_model(series, verbose=True)"
   ]
  },
  {
   "cell_type": "markdown",
   "metadata": {},
   "source": [
    "This function computes the area between curves in terms of the average error in percentile points."
   ]
  },
  {
   "cell_type": "code",
   "execution_count": 12,
   "metadata": {
    "tags": [
     "remove-cell"
    ]
   },
   "outputs": [
    {
     "data": {
      "application/javascript": [
       "\n",
       "            setTimeout(function() {\n",
       "                var nbb_cell_id = 12;\n",
       "                var nbb_unformatted_code = \"def average_error(series):\\n    \\\"\\\"\\\"Area between a CDF and a Gaussian model.\\n\\n    series: sequence of numbers\\n    \\\"\\\"\\\"\\n    dist = fit_model(series)\\n    cdf = Cdf.from_seq(series)\\n\\n    low, high = series.quantile([0.01, 0.99])\\n    qs = np.linspace(low, high)\\n\\n    error = cdf(qs) - dist.cdf(qs)\\n    return np.mean(np.abs(error)) * 100\";\n",
       "                var nbb_formatted_code = \"def average_error(series):\\n    \\\"\\\"\\\"Area between a CDF and a Gaussian model.\\n\\n    series: sequence of numbers\\n    \\\"\\\"\\\"\\n    dist = fit_model(series)\\n    cdf = Cdf.from_seq(series)\\n\\n    low, high = series.quantile([0.01, 0.99])\\n    qs = np.linspace(low, high)\\n\\n    error = cdf(qs) - dist.cdf(qs)\\n    return np.mean(np.abs(error)) * 100\";\n",
       "                var nbb_cells = Jupyter.notebook.get_cells();\n",
       "                for (var i = 0; i < nbb_cells.length; ++i) {\n",
       "                    if (nbb_cells[i].input_prompt_number == nbb_cell_id) {\n",
       "                        if (nbb_cells[i].get_text() == nbb_unformatted_code) {\n",
       "                             nbb_cells[i].set_text(nbb_formatted_code);\n",
       "                        }\n",
       "                        break;\n",
       "                    }\n",
       "                }\n",
       "            }, 500);\n",
       "            "
      ],
      "text/plain": [
       "<IPython.core.display.Javascript object>"
      ]
     },
     "metadata": {},
     "output_type": "display_data"
    }
   ],
   "source": [
    "def average_error(series):\n",
    "    \"\"\"Area between a CDF and a Gaussian model.\n",
    "\n",
    "    series: sequence of numbers\n",
    "    \"\"\"\n",
    "    dist = fit_model(series)\n",
    "    cdf = Cdf.from_seq(series)\n",
    "\n",
    "    low, high = series.quantile([0.01, 0.99])\n",
    "    qs = np.linspace(low, high)\n",
    "\n",
    "    error = cdf(qs) - dist.cdf(qs)\n",
    "    return np.mean(np.abs(error)) * 100"
   ]
  },
  {
   "cell_type": "code",
   "execution_count": 13,
   "metadata": {},
   "outputs": [
    {
     "data": {
      "text/plain": [
       "0.3096422330316792"
      ]
     },
     "execution_count": 13,
     "metadata": {},
     "output_type": "execute_result"
    },
    {
     "data": {
      "application/javascript": [
       "\n",
       "            setTimeout(function() {\n",
       "                var nbb_cell_id = 13;\n",
       "                var nbb_unformatted_code = \"average_error(series)\";\n",
       "                var nbb_formatted_code = \"average_error(series)\";\n",
       "                var nbb_cells = Jupyter.notebook.get_cells();\n",
       "                for (var i = 0; i < nbb_cells.length; ++i) {\n",
       "                    if (nbb_cells[i].input_prompt_number == nbb_cell_id) {\n",
       "                        if (nbb_cells[i].get_text() == nbb_unformatted_code) {\n",
       "                             nbb_cells[i].set_text(nbb_formatted_code);\n",
       "                        }\n",
       "                        break;\n",
       "                    }\n",
       "                }\n",
       "            }, 500);\n",
       "            "
      ],
      "text/plain": [
       "<IPython.core.display.Javascript object>"
      ]
     },
     "metadata": {},
     "output_type": "display_data"
    }
   ],
   "source": [
    "average_error(series)"
   ]
  },
  {
   "cell_type": "code",
   "execution_count": 14,
   "metadata": {},
   "outputs": [
    {
     "data": {
      "application/javascript": [
       "\n",
       "            setTimeout(function() {\n",
       "                var nbb_cell_id = 14;\n",
       "                var nbb_unformatted_code = \"def make_plot(series, **options):\\n    \\\"\\\"\\\"Plot the CDF of a series with a Gaussian model.\\n\\n    series: sequence of numbers\\n    \\\"\\\"\\\"\\n    dist = fit_model(series)\\n    cdf = Cdf.from_seq(series)\\n    qs = cdf.index\\n    ps = dist.cdf(qs)\\n\\n    plt.fill_between(qs, ps, cdf.values, color=\\\"gray\\\", alpha=0.4)\\n    cdf.plot(lw=1, **options)\\n    decorate(ylabel=\\\"CDF\\\")\";\n",
       "                var nbb_formatted_code = \"def make_plot(series, **options):\\n    \\\"\\\"\\\"Plot the CDF of a series with a Gaussian model.\\n\\n    series: sequence of numbers\\n    \\\"\\\"\\\"\\n    dist = fit_model(series)\\n    cdf = Cdf.from_seq(series)\\n    qs = cdf.index\\n    ps = dist.cdf(qs)\\n\\n    plt.fill_between(qs, ps, cdf.values, color=\\\"gray\\\", alpha=0.4)\\n    cdf.plot(lw=1, **options)\\n    decorate(ylabel=\\\"CDF\\\")\";\n",
       "                var nbb_cells = Jupyter.notebook.get_cells();\n",
       "                for (var i = 0; i < nbb_cells.length; ++i) {\n",
       "                    if (nbb_cells[i].input_prompt_number == nbb_cell_id) {\n",
       "                        if (nbb_cells[i].get_text() == nbb_unformatted_code) {\n",
       "                             nbb_cells[i].set_text(nbb_formatted_code);\n",
       "                        }\n",
       "                        break;\n",
       "                    }\n",
       "                }\n",
       "            }, 500);\n",
       "            "
      ],
      "text/plain": [
       "<IPython.core.display.Javascript object>"
      ]
     },
     "metadata": {},
     "output_type": "display_data"
    }
   ],
   "source": [
    "def make_plot(series, **options):\n",
    "    \"\"\"Plot the CDF of a series with a Gaussian model.\n",
    "\n",
    "    series: sequence of numbers\n",
    "    \"\"\"\n",
    "    dist = fit_model(series)\n",
    "    cdf = Cdf.from_seq(series)\n",
    "    qs = cdf.index\n",
    "    ps = dist.cdf(qs)\n",
    "\n",
    "    plt.fill_between(qs, ps, cdf.values, color=\"gray\", alpha=0.4)\n",
    "    cdf.plot(lw=1, **options)\n",
    "    decorate(ylabel=\"CDF\")"
   ]
  },
  {
   "cell_type": "code",
   "execution_count": 15,
   "metadata": {},
   "outputs": [
    {
     "data": {
      "image/png": "[encoded data removed]",
      "text/plain": [
       "<Figure size 640x480 with 1 Axes>"
      ]
     },
     "metadata": {},
     "output_type": "display_data"
    },
    {
     "data": {
      "application/javascript": [
       "\n",
       "            setTimeout(function() {\n",
       "                var nbb_cell_id = 15;\n",
       "                var nbb_unformatted_code = \"make_plot(series)\\ndecorate(xlabel=\\\"Male height in mm\\\")\";\n",
       "                var nbb_formatted_code = \"make_plot(series)\\ndecorate(xlabel=\\\"Male height in mm\\\")\";\n",
       "                var nbb_cells = Jupyter.notebook.get_cells();\n",
       "                for (var i = 0; i < nbb_cells.length; ++i) {\n",
       "                    if (nbb_cells[i].input_prompt_number == nbb_cell_id) {\n",
       "                        if (nbb_cells[i].get_text() == nbb_unformatted_code) {\n",
       "                             nbb_cells[i].set_text(nbb_formatted_code);\n",
       "                        }\n",
       "                        break;\n",
       "                    }\n",
       "                }\n",
       "            }, 500);\n",
       "            "
      ],
      "text/plain": [
       "<IPython.core.display.Javascript object>"
      ]
     },
     "metadata": {},
     "output_type": "display_data"
    }
   ],
   "source": [
    "make_plot(series)\n",
    "decorate(xlabel=\"Male height in mm\")"
   ]
  },
  {
   "cell_type": "code",
   "execution_count": 16,
   "metadata": {
    "tags": [
     "remove-cell"
    ]
   },
   "outputs": [
    {
     "data": {
      "application/javascript": [
       "\n",
       "            setTimeout(function() {\n",
       "                var nbb_cell_id = 16;\n",
       "                var nbb_unformatted_code = \"def all_errors(df, tag, measurements, log=False):\\n    \\\"\\\"\\\" \\\"\\\"\\\"\\n    res = []\\n\\n    for varname in measurements:\\n        series = df[varname]\\n        if log:\\n            series = np.log10(series)\\n        area = average_error(series)\\n        res.append((area, tag, varname))\\n\\n    return pd.DataFrame(res, columns=[\\\"error\\\", \\\"sex\\\", \\\"measurement\\\"])\";\n",
       "                var nbb_formatted_code = \"def all_errors(df, tag, measurements, log=False):\\n    \\\"\\\"\\\" \\\"\\\"\\\"\\n    res = []\\n\\n    for varname in measurements:\\n        series = df[varname]\\n        if log:\\n            series = np.log10(series)\\n        area = average_error(series)\\n        res.append((area, tag, varname))\\n\\n    return pd.DataFrame(res, columns=[\\\"error\\\", \\\"sex\\\", \\\"measurement\\\"])\";\n",
       "                var nbb_cells = Jupyter.notebook.get_cells();\n",
       "                for (var i = 0; i < nbb_cells.length; ++i) {\n",
       "                    if (nbb_cells[i].input_prompt_number == nbb_cell_id) {\n",
       "                        if (nbb_cells[i].get_text() == nbb_unformatted_code) {\n",
       "                             nbb_cells[i].set_text(nbb_formatted_code);\n",
       "                        }\n",
       "                        break;\n",
       "                    }\n",
       "                }\n",
       "            }, 500);\n",
       "            "
      ],
      "text/plain": [
       "<IPython.core.display.Javascript object>"
      ]
     },
     "metadata": {},
     "output_type": "display_data"
    }
   ],
   "source": [
    "def all_errors(df, tag, measurements, log=False):\n",
    "    \"\"\" \"\"\"\n",
    "    res = []\n",
    "\n",
    "    for varname in measurements:\n",
    "        series = df[varname]\n",
    "        if log:\n",
    "            series = np.log10(series)\n",
    "        area = average_error(series)\n",
    "        res.append((area, tag, varname))\n",
    "\n",
    "    return pd.DataFrame(res, columns=[\"error\", \"sex\", \"measurement\"])"
   ]
  },
  {
   "cell_type": "code",
   "execution_count": 17,
   "metadata": {
    "tags": [
     "remove-cell"
    ]
   },
   "outputs": [
    {
     "data": {
      "application/javascript": [
       "\n",
       "            setTimeout(function() {\n",
       "                var nbb_cell_id = 17;\n",
       "                var nbb_unformatted_code = \"res_female = all_errors(ansur_female, \\\"female\\\", measurements)\\nres_male = all_errors(ansur_male, \\\"male\\\", measurements)\\n\\ngaussian = pd.concat([res_female, res_male])\";\n",
       "                var nbb_formatted_code = \"res_female = all_errors(ansur_female, \\\"female\\\", measurements)\\nres_male = all_errors(ansur_male, \\\"male\\\", measurements)\\n\\ngaussian = pd.concat([res_female, res_male])\";\n",
       "                var nbb_cells = Jupyter.notebook.get_cells();\n",
       "                for (var i = 0; i < nbb_cells.length; ++i) {\n",
       "                    if (nbb_cells[i].input_prompt_number == nbb_cell_id) {\n",
       "                        if (nbb_cells[i].get_text() == nbb_unformatted_code) {\n",
       "                             nbb_cells[i].set_text(nbb_formatted_code);\n",
       "                        }\n",
       "                        break;\n",
       "                    }\n",
       "                }\n",
       "            }, 500);\n",
       "            "
      ],
      "text/plain": [
       "<IPython.core.display.Javascript object>"
      ]
     },
     "metadata": {},
     "output_type": "display_data"
    }
   ],
   "source": [
    "res_female = all_errors(ansur_female, \"female\", measurements)\n",
    "res_male = all_errors(ansur_male, \"male\", measurements)\n",
    "\n",
    "gaussian = pd.concat([res_female, res_male])"
   ]
  },
  {
   "cell_type": "code",
   "execution_count": 18,
   "metadata": {
    "tags": [
     "remove-cell"
    ]
   },
   "outputs": [
    {
     "data": {
      "application/javascript": [
       "\n",
       "            setTimeout(function() {\n",
       "                var nbb_cell_id = 18;\n",
       "                var nbb_unformatted_code = \"res_female_log = all_errors(ansur_female, \\\"female\\\", measurements, log=True)\\nres_male_log = all_errors(ansur_male, \\\"male\\\", measurements, log=True)\\n\\nlognormal = pd.concat([res_female_log, res_male_log])\";\n",
       "                var nbb_formatted_code = \"res_female_log = all_errors(ansur_female, \\\"female\\\", measurements, log=True)\\nres_male_log = all_errors(ansur_male, \\\"male\\\", measurements, log=True)\\n\\nlognormal = pd.concat([res_female_log, res_male_log])\";\n",
       "                var nbb_cells = Jupyter.notebook.get_cells();\n",
       "                for (var i = 0; i < nbb_cells.length; ++i) {\n",
       "                    if (nbb_cells[i].input_prompt_number == nbb_cell_id) {\n",
       "                        if (nbb_cells[i].get_text() == nbb_unformatted_code) {\n",
       "                             nbb_cells[i].set_text(nbb_formatted_code);\n",
       "                        }\n",
       "                        break;\n",
       "                    }\n",
       "                }\n",
       "            }, 500);\n",
       "            "
      ],
      "text/plain": [
       "<IPython.core.display.Javascript object>"
      ]
     },
     "metadata": {},
     "output_type": "display_data"
    }
   ],
   "source": [
    "res_female_log = all_errors(ansur_female, \"female\", measurements, log=True)\n",
    "res_male_log = all_errors(ansur_male, \"male\", measurements, log=True)\n",
    "\n",
    "lognormal = pd.concat([res_female_log, res_male_log])"
   ]
  },
  {
   "cell_type": "code",
   "execution_count": 19,
   "metadata": {},
   "outputs": [
    {
     "data": {
      "application/javascript": [
       "\n",
       "            setTimeout(function() {\n",
       "                var nbb_cell_id = 19;\n",
       "                var nbb_unformatted_code = \"def join(gaussian, lognormal):\\n    \\\"\\\"\\\" \\\"\\\"\\\"\\n    joined = gaussian.merge(\\n        lognormal, on=[\\\"measurement\\\", \\\"sex\\\"], suffixes=(\\\"_gaussian\\\", \\\"_lognormal\\\")\\n    )\\n    joined[\\\"diff\\\"] = joined[\\\"error_gaussian\\\"] - joined[\\\"error_lognormal\\\"]\\n    joined[\\\"sum\\\"] = joined[\\\"error_gaussian\\\"] + joined[\\\"error_lognormal\\\"]\\n    return joined\";\n",
       "                var nbb_formatted_code = \"def join(gaussian, lognormal):\\n    \\\"\\\"\\\" \\\"\\\"\\\"\\n    joined = gaussian.merge(\\n        lognormal, on=[\\\"measurement\\\", \\\"sex\\\"], suffixes=(\\\"_gaussian\\\", \\\"_lognormal\\\")\\n    )\\n    joined[\\\"diff\\\"] = joined[\\\"error_gaussian\\\"] - joined[\\\"error_lognormal\\\"]\\n    joined[\\\"sum\\\"] = joined[\\\"error_gaussian\\\"] + joined[\\\"error_lognormal\\\"]\\n    return joined\";\n",
       "                var nbb_cells = Jupyter.notebook.get_cells();\n",
       "                for (var i = 0; i < nbb_cells.length; ++i) {\n",
       "                    if (nbb_cells[i].input_prompt_number == nbb_cell_id) {\n",
       "                        if (nbb_cells[i].get_text() == nbb_unformatted_code) {\n",
       "                             nbb_cells[i].set_text(nbb_formatted_code);\n",
       "                        }\n",
       "                        break;\n",
       "                    }\n",
       "                }\n",
       "            }, 500);\n",
       "            "
      ],
      "text/plain": [
       "<IPython.core.display.Javascript object>"
      ]
     },
     "metadata": {},
     "output_type": "display_data"
    }
   ],
   "source": [
    "def join(gaussian, lognormal):\n",
    "    \"\"\" \"\"\"\n",
    "    joined = gaussian.merge(\n",
    "        lognormal, on=[\"measurement\", \"sex\"], suffixes=(\"_gaussian\", \"_lognormal\")\n",
    "    )\n",
    "    joined[\"diff\"] = joined[\"error_gaussian\"] - joined[\"error_lognormal\"]\n",
    "    joined[\"sum\"] = joined[\"error_gaussian\"] + joined[\"error_lognormal\"]\n",
    "    return joined"
   ]
  },
  {
   "cell_type": "code",
   "execution_count": 20,
   "metadata": {},
   "outputs": [
    {
     "data": {
      "application/javascript": [
       "\n",
       "            setTimeout(function() {\n",
       "                var nbb_cell_id = 20;\n",
       "                var nbb_unformatted_code = \"joined = join(gaussian, lognormal)\";\n",
       "                var nbb_formatted_code = \"joined = join(gaussian, lognormal)\";\n",
       "                var nbb_cells = Jupyter.notebook.get_cells();\n",
       "                for (var i = 0; i < nbb_cells.length; ++i) {\n",
       "                    if (nbb_cells[i].input_prompt_number == nbb_cell_id) {\n",
       "                        if (nbb_cells[i].get_text() == nbb_unformatted_code) {\n",
       "                             nbb_cells[i].set_text(nbb_formatted_code);\n",
       "                        }\n",
       "                        break;\n",
       "                    }\n",
       "                }\n",
       "            }, 500);\n",
       "            "
      ],
      "text/plain": [
       "<IPython.core.display.Javascript object>"
      ]
     },
     "metadata": {},
     "output_type": "display_data"
    }
   ],
   "source": [
    "joined = join(gaussian, lognormal)"
   ]
  },
  {
   "cell_type": "code",
   "execution_count": 21,
   "metadata": {},
   "outputs": [
    {
     "data": {
      "application/javascript": [
       "\n",
       "            setTimeout(function() {\n",
       "                var nbb_cell_id = 21;\n",
       "                var nbb_unformatted_code = \"def scatterplot(joined):\\n    \\\"\\\"\\\" \\\"\\\"\\\"\\n    high1 = joined[\\\"error_gaussian\\\"].max()\\n    high2 = joined[\\\"error_lognormal\\\"].max()\\n    high = max(high1, high2) * 1.05\\n    xs = np.linspace(0, high)\\n\\n    plt.plot(xs, xs + 0.5, color=\\\"gray\\\", alpha=0.4)\\n    plt.plot(xs, xs - 0.5, color=\\\"gray\\\", alpha=0.4)\\n    plt.text(0.1, 2, \\\"Gaussian better\\\")\\n    plt.text(1.8, 0.2, \\\"lognormal better\\\")\\n\\n    plt.plot(joined[\\\"error_gaussian\\\"], joined[\\\"error_lognormal\\\"], \\\"o\\\", alpha=0.4)\\n    decorate(\\n        xlabel=\\\"Average error in percentiles, Gaussian\\\",\\n        ylabel=\\\"Average error in percentiles, lognormal\\\",\\n        xlim=[0, high],\\n        ylim=[0, high],\\n    )\";\n",
       "                var nbb_formatted_code = \"def scatterplot(joined):\\n    \\\"\\\"\\\" \\\"\\\"\\\"\\n    high1 = joined[\\\"error_gaussian\\\"].max()\\n    high2 = joined[\\\"error_lognormal\\\"].max()\\n    high = max(high1, high2) * 1.05\\n    xs = np.linspace(0, high)\\n\\n    plt.plot(xs, xs + 0.5, color=\\\"gray\\\", alpha=0.4)\\n    plt.plot(xs, xs - 0.5, color=\\\"gray\\\", alpha=0.4)\\n    plt.text(0.1, 2, \\\"Gaussian better\\\")\\n    plt.text(1.8, 0.2, \\\"lognormal better\\\")\\n\\n    plt.plot(joined[\\\"error_gaussian\\\"], joined[\\\"error_lognormal\\\"], \\\"o\\\", alpha=0.4)\\n    decorate(\\n        xlabel=\\\"Average error in percentiles, Gaussian\\\",\\n        ylabel=\\\"Average error in percentiles, lognormal\\\",\\n        xlim=[0, high],\\n        ylim=[0, high],\\n    )\";\n",
       "                var nbb_cells = Jupyter.notebook.get_cells();\n",
       "                for (var i = 0; i < nbb_cells.length; ++i) {\n",
       "                    if (nbb_cells[i].input_prompt_number == nbb_cell_id) {\n",
       "                        if (nbb_cells[i].get_text() == nbb_unformatted_code) {\n",
       "                             nbb_cells[i].set_text(nbb_formatted_code);\n",
       "                        }\n",
       "                        break;\n",
       "                    }\n",
       "                }\n",
       "            }, 500);\n",
       "            "
      ],
      "text/plain": [
       "<IPython.core.display.Javascript object>"
      ]
     },
     "metadata": {},
     "output_type": "display_data"
    }
   ],
   "source": [
    "def scatterplot(joined):\n",
    "    \"\"\" \"\"\"\n",
    "    high1 = joined[\"error_gaussian\"].max()\n",
    "    high2 = joined[\"error_lognormal\"].max()\n",
    "    high = max(high1, high2) * 1.05\n",
    "    xs = np.linspace(0, high)\n",
    "\n",
    "    plt.plot(xs, xs + 0.5, color=\"gray\", alpha=0.4)\n",
    "    plt.plot(xs, xs - 0.5, color=\"gray\", alpha=0.4)\n",
    "    plt.text(0.1, 2, \"Gaussian better\")\n",
    "    plt.text(1.8, 0.2, \"lognormal better\")\n",
    "\n",
    "    plt.plot(joined[\"error_gaussian\"], joined[\"error_lognormal\"], \"o\", alpha=0.4)\n",
    "    decorate(\n",
    "        xlabel=\"Average error in percentiles, Gaussian\",\n",
    "        ylabel=\"Average error in percentiles, lognormal\",\n",
    "        xlim=[0, high],\n",
    "        ylim=[0, high],\n",
    "    )"
   ]
  },
  {
   "cell_type": "code",
   "execution_count": 22,
   "metadata": {},
   "outputs": [
    {
     "data": {
      "image/png": "[encoded data removed]",
      "text/plain": [
       "<Figure size 640x480 with 1 Axes>"
      ]
     },
     "metadata": {},
     "output_type": "display_data"
    },
    {
     "data": {
      "application/javascript": [
       "\n",
       "            setTimeout(function() {\n",
       "                var nbb_cell_id = 22;\n",
       "                var nbb_unformatted_code = \"scatterplot(joined)\\nplt.savefig(\\\"log_vs_normal5.png\\\", dpi=300)\";\n",
       "                var nbb_formatted_code = \"scatterplot(joined)\\nplt.savefig(\\\"log_vs_normal5.png\\\", dpi=300)\";\n",
       "                var nbb_cells = Jupyter.notebook.get_cells();\n",
       "                for (var i = 0; i < nbb_cells.length; ++i) {\n",
       "                    if (nbb_cells[i].input_prompt_number == nbb_cell_id) {\n",
       "                        if (nbb_cells[i].get_text() == nbb_unformatted_code) {\n",
       "                             nbb_cells[i].set_text(nbb_formatted_code);\n",
       "                        }\n",
       "                        break;\n",
       "                    }\n",
       "                }\n",
       "            }, 500);\n",
       "            "
      ],
      "text/plain": [
       "<IPython.core.display.Javascript object>"
      ]
     },
     "metadata": {},
     "output_type": "display_data"
    }
   ],
   "source": [
    "scatterplot(joined)\n",
    "plt.savefig(\"log_vs_normal5.png\", dpi=300)"
   ]
  },
  {
   "cell_type": "code",
   "execution_count": 23,
   "metadata": {},
   "outputs": [
    {
     "data": {
      "application/javascript": [
       "\n",
       "            setTimeout(function() {\n",
       "                var nbb_cell_id = 23;\n",
       "                var nbb_unformatted_code = \"joined.sort_values(by=\\\"diff\\\", inplace=True)\";\n",
       "                var nbb_formatted_code = \"joined.sort_values(by=\\\"diff\\\", inplace=True)\";\n",
       "                var nbb_cells = Jupyter.notebook.get_cells();\n",
       "                for (var i = 0; i < nbb_cells.length; ++i) {\n",
       "                    if (nbb_cells[i].input_prompt_number == nbb_cell_id) {\n",
       "                        if (nbb_cells[i].get_text() == nbb_unformatted_code) {\n",
       "                             nbb_cells[i].set_text(nbb_formatted_code);\n",
       "                        }\n",
       "                        break;\n",
       "                    }\n",
       "                }\n",
       "            }, 500);\n",
       "            "
      ],
      "text/plain": [
       "<IPython.core.display.Javascript object>"
      ]
     },
     "metadata": {},
     "output_type": "display_data"
    }
   ],
   "source": [
    "joined.sort_values(by=\"diff\", inplace=True)"
   ]
  },
  {
   "cell_type": "code",
   "execution_count": 24,
   "metadata": {},
   "outputs": [
    {
     "data": {
      "application/javascript": [
       "\n",
       "            setTimeout(function() {\n",
       "                var nbb_cell_id = 24;\n",
       "                var nbb_unformatted_code = \"def make_double_plot(series, xlabel=\\\"\\\"):\\n    \\\"\\\"\\\"Plot Gaussian and lognormal models for a given Series\\n\\n    series: sequence of numbers\\n    xlabel: string label for the x-axis\\n\\n    \\\"\\\"\\\"\\n    plt.figure(figsize=(8, 4))\\n    plt.subplot(1, 2, 1)\\n    make_plot(series, label=\\\"Gaussian\\\")\\n    decorate(ylabel=\\\"Percentile Rank\\\", xlabel=xlabel)\\n\\n    plt.subplot(1, 2, 2)\\n    make_plot(np.log10(series), label=\\\"lognormal\\\")\\n    decorate(xlabel=xlabel + \\\" (log10)\\\")\\n\\n    plt.tight_layout()\";\n",
       "                var nbb_formatted_code = \"def make_double_plot(series, xlabel=\\\"\\\"):\\n    \\\"\\\"\\\"Plot Gaussian and lognormal models for a given Series\\n\\n    series: sequence of numbers\\n    xlabel: string label for the x-axis\\n\\n    \\\"\\\"\\\"\\n    plt.figure(figsize=(8, 4))\\n    plt.subplot(1, 2, 1)\\n    make_plot(series, label=\\\"Gaussian\\\")\\n    decorate(ylabel=\\\"Percentile Rank\\\", xlabel=xlabel)\\n\\n    plt.subplot(1, 2, 2)\\n    make_plot(np.log10(series), label=\\\"lognormal\\\")\\n    decorate(xlabel=xlabel + \\\" (log10)\\\")\\n\\n    plt.tight_layout()\";\n",
       "                var nbb_cells = Jupyter.notebook.get_cells();\n",
       "                for (var i = 0; i < nbb_cells.length; ++i) {\n",
       "                    if (nbb_cells[i].input_prompt_number == nbb_cell_id) {\n",
       "                        if (nbb_cells[i].get_text() == nbb_unformatted_code) {\n",
       "                             nbb_cells[i].set_text(nbb_formatted_code);\n",
       "                        }\n",
       "                        break;\n",
       "                    }\n",
       "                }\n",
       "            }, 500);\n",
       "            "
      ],
      "text/plain": [
       "<IPython.core.display.Javascript object>"
      ]
     },
     "metadata": {},
     "output_type": "display_data"
    }
   ],
   "source": [
    "def make_double_plot(series, xlabel=\"\"):\n",
    "    \"\"\"Plot Gaussian and lognormal models for a given Series\n",
    "\n",
    "    series: sequence of numbers\n",
    "    xlabel: string label for the x-axis\n",
    "\n",
    "    \"\"\"\n",
    "    plt.figure(figsize=(8, 4))\n",
    "    plt.subplot(1, 2, 1)\n",
    "    make_plot(series, label=\"Gaussian\")\n",
    "    decorate(ylabel=\"Percentile Rank\", xlabel=xlabel)\n",
    "\n",
    "    plt.subplot(1, 2, 2)\n",
    "    make_plot(np.log10(series), label=\"lognormal\")\n",
    "    decorate(xlabel=xlabel + \" (log10)\")\n",
    "\n",
    "    plt.tight_layout()"
   ]
  },
  {
   "cell_type": "code",
   "execution_count": 25,
   "metadata": {},
   "outputs": [
    {
     "data": {
      "image/png": "[encoded data removed]",
      "text/plain": [
       "<Figure size 800x400 with 2 Axes>"
      ]
     },
     "metadata": {},
     "output_type": "display_data"
    },
    {
     "data": {
      "application/javascript": [
       "\n",
       "            setTimeout(function() {\n",
       "                var nbb_cell_id = 25;\n",
       "                var nbb_unformatted_code = \"# Gaussian better\\n\\nseries = ansur_male[\\\"elbowrestheight\\\"] / 10\\nmake_double_plot(series, \\\"Male elbow rest height in cm\\\")\\nplt.savefig(\\\"log_vs_normal1.png\\\", dpi=300)\";\n",
       "                var nbb_formatted_code = \"# Gaussian better\\n\\nseries = ansur_male[\\\"elbowrestheight\\\"] / 10\\nmake_double_plot(series, \\\"Male elbow rest height in cm\\\")\\nplt.savefig(\\\"log_vs_normal1.png\\\", dpi=300)\";\n",
       "                var nbb_cells = Jupyter.notebook.get_cells();\n",
       "                for (var i = 0; i < nbb_cells.length; ++i) {\n",
       "                    if (nbb_cells[i].input_prompt_number == nbb_cell_id) {\n",
       "                        if (nbb_cells[i].get_text() == nbb_unformatted_code) {\n",
       "                             nbb_cells[i].set_text(nbb_formatted_code);\n",
       "                        }\n",
       "                        break;\n",
       "                    }\n",
       "                }\n",
       "            }, 500);\n",
       "            "
      ],
      "text/plain": [
       "<IPython.core.display.Javascript object>"
      ]
     },
     "metadata": {},
     "output_type": "display_data"
    }
   ],
   "source": [
    "# Gaussian better\n",
    "\n",
    "series = ansur_male[\"elbowrestheight\"] / 10\n",
    "make_double_plot(series, \"Male elbow rest height in cm\")\n",
    "plt.savefig(\"log_vs_normal1.png\", dpi=300)"
   ]
  },
  {
   "cell_type": "code",
   "execution_count": 26,
   "metadata": {},
   "outputs": [
    {
     "data": {
      "text/html": [
       "<div>\n",
       "<style scoped>\n",
       "    .dataframe tbody tr th:only-of-type {\n",
       "        vertical-align: middle;\n",
       "    }\n",
       "\n",
       "    .dataframe tbody tr th {\n",
       "        vertical-align: top;\n",
       "    }\n",
       "\n",
       "    .dataframe thead th {\n",
       "        text-align: right;\n",
       "    }\n",
       "</style>\n",
       "<table border=\"1\" class=\"dataframe\">\n",
       "  <thead>\n",
       "    <tr style=\"text-align: right;\">\n",
       "      <th></th>\n",
       "      <th>error_gaussian</th>\n",
       "      <th>sex</th>\n",
       "      <th>measurement</th>\n",
       "      <th>error_lognormal</th>\n",
       "      <th>diff</th>\n",
       "      <th>sum</th>\n",
       "    </tr>\n",
       "  </thead>\n",
       "  <tbody>\n",
       "    <tr>\n",
       "      <th>180</th>\n",
       "      <td>1.620303</td>\n",
       "      <td>male</td>\n",
       "      <td>waistdepth</td>\n",
       "      <td>0.702878</td>\n",
       "      <td>0.917425</td>\n",
       "      <td>2.323182</td>\n",
       "    </tr>\n",
       "    <tr>\n",
       "      <th>0</th>\n",
       "      <td>1.623475</td>\n",
       "      <td>female</td>\n",
       "      <td>abdominalextensiondepthsitting</td>\n",
       "      <td>0.667677</td>\n",
       "      <td>0.955798</td>\n",
       "      <td>2.291152</td>\n",
       "    </tr>\n",
       "    <tr>\n",
       "      <th>183</th>\n",
       "      <td>1.170825</td>\n",
       "      <td>male</td>\n",
       "      <td>weightkg</td>\n",
       "      <td>0.189704</td>\n",
       "      <td>0.981121</td>\n",
       "      <td>1.360530</td>\n",
       "    </tr>\n",
       "    <tr>\n",
       "      <th>90</th>\n",
       "      <td>1.322391</td>\n",
       "      <td>female</td>\n",
       "      <td>weightkg</td>\n",
       "      <td>0.319606</td>\n",
       "      <td>1.002785</td>\n",
       "      <td>1.641997</td>\n",
       "    </tr>\n",
       "    <tr>\n",
       "      <th>87</th>\n",
       "      <td>2.120735</td>\n",
       "      <td>female</td>\n",
       "      <td>waistdepth</td>\n",
       "      <td>1.077030</td>\n",
       "      <td>1.043705</td>\n",
       "      <td>3.197765</td>\n",
       "    </tr>\n",
       "  </tbody>\n",
       "</table>\n",
       "</div>"
      ],
      "text/plain": [
       "     error_gaussian     sex                     measurement  error_lognormal  \\\n",
       "180        1.620303    male                      waistdepth         0.702878   \n",
       "0          1.623475  female  abdominalextensiondepthsitting         0.667677   \n",
       "183        1.170825    male                        weightkg         0.189704   \n",
       "90         1.322391  female                        weightkg         0.319606   \n",
       "87         2.120735  female                      waistdepth         1.077030   \n",
       "\n",
       "         diff       sum  \n",
       "180  0.917425  2.323182  \n",
       "0    0.955798  2.291152  \n",
       "183  0.981121  1.360530  \n",
       "90   1.002785  1.641997  \n",
       "87   1.043705  3.197765  "
      ]
     },
     "execution_count": 26,
     "metadata": {},
     "output_type": "execute_result"
    },
    {
     "data": {
      "application/javascript": [
       "\n",
       "            setTimeout(function() {\n",
       "                var nbb_cell_id = 26;\n",
       "                var nbb_unformatted_code = \"joined.tail()\";\n",
       "                var nbb_formatted_code = \"joined.tail()\";\n",
       "                var nbb_cells = Jupyter.notebook.get_cells();\n",
       "                for (var i = 0; i < nbb_cells.length; ++i) {\n",
       "                    if (nbb_cells[i].input_prompt_number == nbb_cell_id) {\n",
       "                        if (nbb_cells[i].get_text() == nbb_unformatted_code) {\n",
       "                             nbb_cells[i].set_text(nbb_formatted_code);\n",
       "                        }\n",
       "                        break;\n",
       "                    }\n",
       "                }\n",
       "            }, 500);\n",
       "            "
      ],
      "text/plain": [
       "<IPython.core.display.Javascript object>"
      ]
     },
     "metadata": {},
     "output_type": "display_data"
    }
   ],
   "source": [
    "joined.tail()"
   ]
  },
  {
   "cell_type": "code",
   "execution_count": 27,
   "metadata": {},
   "outputs": [
    {
     "data": {
      "image/png": "[encoded data removed]",
      "text/plain": [
       "<Figure size 800x400 with 2 Axes>"
      ]
     },
     "metadata": {},
     "output_type": "display_data"
    },
    {
     "data": {
      "application/javascript": [
       "\n",
       "            setTimeout(function() {\n",
       "                var nbb_cell_id = 27;\n",
       "                var nbb_unformatted_code = \"# lognormal better\\n\\nseries = ansur_male[\\\"weightkg\\\"] / 10\\nmake_double_plot(series, \\\"Male weight in kg\\\")\\nplt.savefig(\\\"log_vs_normal2.png\\\", dpi=300)\";\n",
       "                var nbb_formatted_code = \"# lognormal better\\n\\nseries = ansur_male[\\\"weightkg\\\"] / 10\\nmake_double_plot(series, \\\"Male weight in kg\\\")\\nplt.savefig(\\\"log_vs_normal2.png\\\", dpi=300)\";\n",
       "                var nbb_cells = Jupyter.notebook.get_cells();\n",
       "                for (var i = 0; i < nbb_cells.length; ++i) {\n",
       "                    if (nbb_cells[i].input_prompt_number == nbb_cell_id) {\n",
       "                        if (nbb_cells[i].get_text() == nbb_unformatted_code) {\n",
       "                             nbb_cells[i].set_text(nbb_formatted_code);\n",
       "                        }\n",
       "                        break;\n",
       "                    }\n",
       "                }\n",
       "            }, 500);\n",
       "            "
      ],
      "text/plain": [
       "<IPython.core.display.Javascript object>"
      ]
     },
     "metadata": {},
     "output_type": "display_data"
    }
   ],
   "source": [
    "# lognormal better\n",
    "\n",
    "series = ansur_male[\"weightkg\"] / 10\n",
    "make_double_plot(series, \"Male weight in kg\")\n",
    "plt.savefig(\"log_vs_normal2.png\", dpi=300)"
   ]
  },
  {
   "cell_type": "code",
   "execution_count": 28,
   "metadata": {},
   "outputs": [
    {
     "data": {
      "text/html": [
       "<div>\n",
       "<style scoped>\n",
       "    .dataframe tbody tr th:only-of-type {\n",
       "        vertical-align: middle;\n",
       "    }\n",
       "\n",
       "    .dataframe tbody tr th {\n",
       "        vertical-align: top;\n",
       "    }\n",
       "\n",
       "    .dataframe thead th {\n",
       "        text-align: right;\n",
       "    }\n",
       "</style>\n",
       "<table border=\"1\" class=\"dataframe\">\n",
       "  <thead>\n",
       "    <tr style=\"text-align: right;\">\n",
       "      <th></th>\n",
       "      <th>error_gaussian</th>\n",
       "      <th>sex</th>\n",
       "      <th>measurement</th>\n",
       "      <th>error_lognormal</th>\n",
       "      <th>diff</th>\n",
       "      <th>sum</th>\n",
       "    </tr>\n",
       "  </thead>\n",
       "  <tbody>\n",
       "    <tr>\n",
       "      <th>167</th>\n",
       "      <td>0.309642</td>\n",
       "      <td>male</td>\n",
       "      <td>stature</td>\n",
       "      <td>0.206610</td>\n",
       "      <td>0.103032</td>\n",
       "      <td>0.516253</td>\n",
       "    </tr>\n",
       "    <tr>\n",
       "      <th>185</th>\n",
       "      <td>0.250212</td>\n",
       "      <td>male</td>\n",
       "      <td>wristheight</td>\n",
       "      <td>0.275790</td>\n",
       "      <td>-0.025578</td>\n",
       "      <td>0.526002</td>\n",
       "    </tr>\n",
       "    <tr>\n",
       "      <th>156</th>\n",
       "      <td>0.271811</td>\n",
       "      <td>male</td>\n",
       "      <td>overheadfingertipreachsitting</td>\n",
       "      <td>0.275191</td>\n",
       "      <td>-0.003380</td>\n",
       "      <td>0.547002</td>\n",
       "    </tr>\n",
       "    <tr>\n",
       "      <th>97</th>\n",
       "      <td>0.327813</td>\n",
       "      <td>male</td>\n",
       "      <td>axillaheight</td>\n",
       "      <td>0.246388</td>\n",
       "      <td>0.081426</td>\n",
       "      <td>0.574201</td>\n",
       "    </tr>\n",
       "    <tr>\n",
       "      <th>163</th>\n",
       "      <td>0.266334</td>\n",
       "      <td>male</td>\n",
       "      <td>sittingheight</td>\n",
       "      <td>0.320184</td>\n",
       "      <td>-0.053850</td>\n",
       "      <td>0.586517</td>\n",
       "    </tr>\n",
       "  </tbody>\n",
       "</table>\n",
       "</div>"
      ],
      "text/plain": [
       "     error_gaussian   sex                    measurement  error_lognormal  \\\n",
       "167        0.309642  male                        stature         0.206610   \n",
       "185        0.250212  male                    wristheight         0.275790   \n",
       "156        0.271811  male  overheadfingertipreachsitting         0.275191   \n",
       "97         0.327813  male                   axillaheight         0.246388   \n",
       "163        0.266334  male                  sittingheight         0.320184   \n",
       "\n",
       "         diff       sum  \n",
       "167  0.103032  0.516253  \n",
       "185 -0.025578  0.526002  \n",
       "156 -0.003380  0.547002  \n",
       "97   0.081426  0.574201  \n",
       "163 -0.053850  0.586517  "
      ]
     },
     "execution_count": 28,
     "metadata": {},
     "output_type": "execute_result"
    },
    {
     "data": {
      "application/javascript": [
       "\n",
       "            setTimeout(function() {\n",
       "                var nbb_cell_id = 28;\n",
       "                var nbb_unformatted_code = \"joined.sort_values(by=\\\"sum\\\", inplace=True)\\njoined.head()\";\n",
       "                var nbb_formatted_code = \"joined.sort_values(by=\\\"sum\\\", inplace=True)\\njoined.head()\";\n",
       "                var nbb_cells = Jupyter.notebook.get_cells();\n",
       "                for (var i = 0; i < nbb_cells.length; ++i) {\n",
       "                    if (nbb_cells[i].input_prompt_number == nbb_cell_id) {\n",
       "                        if (nbb_cells[i].get_text() == nbb_unformatted_code) {\n",
       "                             nbb_cells[i].set_text(nbb_formatted_code);\n",
       "                        }\n",
       "                        break;\n",
       "                    }\n",
       "                }\n",
       "            }, 500);\n",
       "            "
      ],
      "text/plain": [
       "<IPython.core.display.Javascript object>"
      ]
     },
     "metadata": {},
     "output_type": "display_data"
    }
   ],
   "source": [
    "joined.sort_values(by=\"sum\", inplace=True)\n",
    "joined.head()"
   ]
  },
  {
   "cell_type": "code",
   "execution_count": 29,
   "metadata": {},
   "outputs": [
    {
     "data": {
      "image/png": "[encoded data removed]",
      "text/plain": [
       "<Figure size 800x400 with 2 Axes>"
      ]
     },
     "metadata": {},
     "output_type": "display_data"
    },
    {
     "data": {
      "application/javascript": [
       "\n",
       "            setTimeout(function() {\n",
       "                var nbb_cell_id = 29;\n",
       "                var nbb_unformatted_code = \"# both good\\n\\nseries = ansur_male[\\\"stature\\\"]\\nmake_double_plot(series, \\\"Male height in mm\\\")\\nplt.savefig(\\\"log_vs_normal3.png\\\", dpi=300)\";\n",
       "                var nbb_formatted_code = \"# both good\\n\\nseries = ansur_male[\\\"stature\\\"]\\nmake_double_plot(series, \\\"Male height in mm\\\")\\nplt.savefig(\\\"log_vs_normal3.png\\\", dpi=300)\";\n",
       "                var nbb_cells = Jupyter.notebook.get_cells();\n",
       "                for (var i = 0; i < nbb_cells.length; ++i) {\n",
       "                    if (nbb_cells[i].input_prompt_number == nbb_cell_id) {\n",
       "                        if (nbb_cells[i].get_text() == nbb_unformatted_code) {\n",
       "                             nbb_cells[i].set_text(nbb_formatted_code);\n",
       "                        }\n",
       "                        break;\n",
       "                    }\n",
       "                }\n",
       "            }, 500);\n",
       "            "
      ],
      "text/plain": [
       "<IPython.core.display.Javascript object>"
      ]
     },
     "metadata": {},
     "output_type": "display_data"
    }
   ],
   "source": [
    "# both good\n",
    "\n",
    "series = ansur_male[\"stature\"]\n",
    "make_double_plot(series, \"Male height in mm\")\n",
    "plt.savefig(\"log_vs_normal3.png\", dpi=300)"
   ]
  },
  {
   "cell_type": "code",
   "execution_count": 30,
   "metadata": {},
   "outputs": [
    {
     "data": {
      "text/html": [
       "<div>\n",
       "<style scoped>\n",
       "    .dataframe tbody tr th:only-of-type {\n",
       "        vertical-align: middle;\n",
       "    }\n",
       "\n",
       "    .dataframe tbody tr th {\n",
       "        vertical-align: top;\n",
       "    }\n",
       "\n",
       "    .dataframe thead th {\n",
       "        text-align: right;\n",
       "    }\n",
       "</style>\n",
       "<table border=\"1\" class=\"dataframe\">\n",
       "  <thead>\n",
       "    <tr style=\"text-align: right;\">\n",
       "      <th></th>\n",
       "      <th>error_gaussian</th>\n",
       "      <th>sex</th>\n",
       "      <th>measurement</th>\n",
       "      <th>error_lognormal</th>\n",
       "      <th>diff</th>\n",
       "      <th>sum</th>\n",
       "    </tr>\n",
       "  </thead>\n",
       "  <tbody>\n",
       "    <tr>\n",
       "      <th>122</th>\n",
       "      <td>1.676438</td>\n",
       "      <td>male</td>\n",
       "      <td>earbreadth</td>\n",
       "      <td>1.692780</td>\n",
       "      <td>-0.016342</td>\n",
       "      <td>3.369218</td>\n",
       "    </tr>\n",
       "    <tr>\n",
       "      <th>11</th>\n",
       "      <td>1.816925</td>\n",
       "      <td>female</td>\n",
       "      <td>bimalleolarbreadth</td>\n",
       "      <td>1.795962</td>\n",
       "      <td>0.020964</td>\n",
       "      <td>3.612887</td>\n",
       "    </tr>\n",
       "    <tr>\n",
       "      <th>124</th>\n",
       "      <td>1.965292</td>\n",
       "      <td>male</td>\n",
       "      <td>earprotrusion</td>\n",
       "      <td>1.773712</td>\n",
       "      <td>0.191580</td>\n",
       "      <td>3.739004</td>\n",
       "    </tr>\n",
       "    <tr>\n",
       "      <th>29</th>\n",
       "      <td>1.879525</td>\n",
       "      <td>female</td>\n",
       "      <td>earbreadth</td>\n",
       "      <td>2.053329</td>\n",
       "      <td>-0.173804</td>\n",
       "      <td>3.932854</td>\n",
       "    </tr>\n",
       "    <tr>\n",
       "      <th>31</th>\n",
       "      <td>2.303347</td>\n",
       "      <td>female</td>\n",
       "      <td>earprotrusion</td>\n",
       "      <td>2.067253</td>\n",
       "      <td>0.236094</td>\n",
       "      <td>4.370600</td>\n",
       "    </tr>\n",
       "  </tbody>\n",
       "</table>\n",
       "</div>"
      ],
      "text/plain": [
       "     error_gaussian     sex         measurement  error_lognormal      diff  \\\n",
       "122        1.676438    male          earbreadth         1.692780 -0.016342   \n",
       "11         1.816925  female  bimalleolarbreadth         1.795962  0.020964   \n",
       "124        1.965292    male       earprotrusion         1.773712  0.191580   \n",
       "29         1.879525  female          earbreadth         2.053329 -0.173804   \n",
       "31         2.303347  female       earprotrusion         2.067253  0.236094   \n",
       "\n",
       "          sum  \n",
       "122  3.369218  \n",
       "11   3.612887  \n",
       "124  3.739004  \n",
       "29   3.932854  \n",
       "31   4.370600  "
      ]
     },
     "execution_count": 30,
     "metadata": {},
     "output_type": "execute_result"
    },
    {
     "data": {
      "application/javascript": [
       "\n",
       "            setTimeout(function() {\n",
       "                var nbb_cell_id = 30;\n",
       "                var nbb_unformatted_code = \"joined.tail()\";\n",
       "                var nbb_formatted_code = \"joined.tail()\";\n",
       "                var nbb_cells = Jupyter.notebook.get_cells();\n",
       "                for (var i = 0; i < nbb_cells.length; ++i) {\n",
       "                    if (nbb_cells[i].input_prompt_number == nbb_cell_id) {\n",
       "                        if (nbb_cells[i].get_text() == nbb_unformatted_code) {\n",
       "                             nbb_cells[i].set_text(nbb_formatted_code);\n",
       "                        }\n",
       "                        break;\n",
       "                    }\n",
       "                }\n",
       "            }, 500);\n",
       "            "
      ],
      "text/plain": [
       "<IPython.core.display.Javascript object>"
      ]
     },
     "metadata": {},
     "output_type": "display_data"
    }
   ],
   "source": [
    "joined.tail()"
   ]
  },
  {
   "cell_type": "code",
   "execution_count": 31,
   "metadata": {},
   "outputs": [
    {
     "data": {
      "image/png": "[encoded data removed]",
      "text/plain": [
       "<Figure size 800x400 with 2 Axes>"
      ]
     },
     "metadata": {},
     "output_type": "display_data"
    },
    {
     "data": {
      "application/javascript": [
       "\n",
       "            setTimeout(function() {\n",
       "                var nbb_cell_id = 31;\n",
       "                var nbb_unformatted_code = \"# both bad\\n\\nseries = ansur_female[\\\"earprotrusion\\\"]\\nmake_double_plot(series, \\\"Female ear protrusion in mm\\\")\\nplt.savefig(\\\"log_vs_normal4.png\\\", dpi=300)\";\n",
       "                var nbb_formatted_code = \"# both bad\\n\\nseries = ansur_female[\\\"earprotrusion\\\"]\\nmake_double_plot(series, \\\"Female ear protrusion in mm\\\")\\nplt.savefig(\\\"log_vs_normal4.png\\\", dpi=300)\";\n",
       "                var nbb_cells = Jupyter.notebook.get_cells();\n",
       "                for (var i = 0; i < nbb_cells.length; ++i) {\n",
       "                    if (nbb_cells[i].input_prompt_number == nbb_cell_id) {\n",
       "                        if (nbb_cells[i].get_text() == nbb_unformatted_code) {\n",
       "                             nbb_cells[i].set_text(nbb_formatted_code);\n",
       "                        }\n",
       "                        break;\n",
       "                    }\n",
       "                }\n",
       "            }, 500);\n",
       "            "
      ],
      "text/plain": [
       "<IPython.core.display.Javascript object>"
      ]
     },
     "metadata": {},
     "output_type": "display_data"
    }
   ],
   "source": [
    "# both bad\n",
    "\n",
    "series = ansur_female[\"earprotrusion\"]\n",
    "make_double_plot(series, \"Female ear protrusion in mm\")\n",
    "plt.savefig(\"log_vs_normal4.png\", dpi=300)"
   ]
  },
  {
   "cell_type": "markdown",
   "metadata": {},
   "source": [
    "## Lab Results\n",
    "\n"
   ]
  },
  {
   "cell_type": "code",
   "execution_count": 32,
   "metadata": {},
   "outputs": [
    {
     "data": {
      "application/javascript": [
       "\n",
       "            setTimeout(function() {\n",
       "                var nbb_cell_id = 32;\n",
       "                var nbb_unformatted_code = \"download(\\n    \\\"https://github.com/AllenDowney/ProbablyOverthinkingIt/raw/book/data/Test_Data_JLM.csv\\\"\\n)\";\n",
       "                var nbb_formatted_code = \"download(\\n    \\\"https://github.com/AllenDowney/ProbablyOverthinkingIt/raw/book/data/Test_Data_JLM.csv\\\"\\n)\";\n",
       "                var nbb_cells = Jupyter.notebook.get_cells();\n",
       "                for (var i = 0; i < nbb_cells.length; ++i) {\n",
       "                    if (nbb_cells[i].input_prompt_number == nbb_cell_id) {\n",
       "                        if (nbb_cells[i].get_text() == nbb_unformatted_code) {\n",
       "                             nbb_cells[i].set_text(nbb_formatted_code);\n",
       "                        }\n",
       "                        break;\n",
       "                    }\n",
       "                }\n",
       "            }, 500);\n",
       "            "
      ],
      "text/plain": [
       "<IPython.core.display.Javascript object>"
      ]
     },
     "metadata": {},
     "output_type": "display_data"
    }
   ],
   "source": [
    "download(\n",
    "    \"https://github.com/AllenDowney/ProbablyOverthinkingIt/raw/book/data/Test_Data_JLM.csv\"\n",
    ")"
   ]
  },
  {
   "cell_type": "code",
   "execution_count": 33,
   "metadata": {},
   "outputs": [
    {
     "data": {
      "text/html": [
       "<div>\n",
       "<style scoped>\n",
       "    .dataframe tbody tr th:only-of-type {\n",
       "        vertical-align: middle;\n",
       "    }\n",
       "\n",
       "    .dataframe tbody tr th {\n",
       "        vertical-align: top;\n",
       "    }\n",
       "\n",
       "    .dataframe thead th {\n",
       "        text-align: right;\n",
       "    }\n",
       "</style>\n",
       "<table border=\"1\" class=\"dataframe\">\n",
       "  <thead>\n",
       "    <tr style=\"text-align: right;\">\n",
       "      <th></th>\n",
       "      <th>Na</th>\n",
       "      <th>Hb</th>\n",
       "      <th>K</th>\n",
       "      <th>Crea</th>\n",
       "      <th>WBC</th>\n",
       "      <th>ALAT</th>\n",
       "      <th>sex</th>\n",
       "    </tr>\n",
       "  </thead>\n",
       "  <tbody>\n",
       "    <tr>\n",
       "      <th>0</th>\n",
       "      <td>139</td>\n",
       "      <td>153</td>\n",
       "      <td>3.6</td>\n",
       "      <td>86</td>\n",
       "      <td>16.50</td>\n",
       "      <td>42</td>\n",
       "      <td>m</td>\n",
       "    </tr>\n",
       "    <tr>\n",
       "      <th>1</th>\n",
       "      <td>136</td>\n",
       "      <td>134</td>\n",
       "      <td>3.7</td>\n",
       "      <td>72</td>\n",
       "      <td>4.67</td>\n",
       "      <td>36</td>\n",
       "      <td>m</td>\n",
       "    </tr>\n",
       "    <tr>\n",
       "      <th>2</th>\n",
       "      <td>140</td>\n",
       "      <td>140</td>\n",
       "      <td>4.1</td>\n",
       "      <td>83</td>\n",
       "      <td>15.10</td>\n",
       "      <td>19</td>\n",
       "      <td>m</td>\n",
       "    </tr>\n",
       "    <tr>\n",
       "      <th>3</th>\n",
       "      <td>138</td>\n",
       "      <td>159</td>\n",
       "      <td>4.0</td>\n",
       "      <td>86</td>\n",
       "      <td>19.90</td>\n",
       "      <td>22</td>\n",
       "      <td>m</td>\n",
       "    </tr>\n",
       "    <tr>\n",
       "      <th>4</th>\n",
       "      <td>138</td>\n",
       "      <td>167</td>\n",
       "      <td>4.3</td>\n",
       "      <td>72</td>\n",
       "      <td>6.76</td>\n",
       "      <td>38</td>\n",
       "      <td>m</td>\n",
       "    </tr>\n",
       "  </tbody>\n",
       "</table>\n",
       "</div>"
      ],
      "text/plain": [
       "    Na   Hb    K  Crea    WBC  ALAT sex\n",
       "0  139  153  3.6    86  16.50    42   m\n",
       "1  136  134  3.7    72   4.67    36   m\n",
       "2  140  140  4.1    83  15.10    19   m\n",
       "3  138  159  4.0    86  19.90    22   m\n",
       "4  138  167  4.3    72   6.76    38   m"
      ]
     },
     "execution_count": 33,
     "metadata": {},
     "output_type": "execute_result"
    },
    {
     "data": {
      "application/javascript": [
       "\n",
       "            setTimeout(function() {\n",
       "                var nbb_cell_id = 33;\n",
       "                var nbb_unformatted_code = \"lab = pd.read_csv(\\\"Test_Data_JLM.csv\\\")\\nlab.head()\";\n",
       "                var nbb_formatted_code = \"lab = pd.read_csv(\\\"Test_Data_JLM.csv\\\")\\nlab.head()\";\n",
       "                var nbb_cells = Jupyter.notebook.get_cells();\n",
       "                for (var i = 0; i < nbb_cells.length; ++i) {\n",
       "                    if (nbb_cells[i].input_prompt_number == nbb_cell_id) {\n",
       "                        if (nbb_cells[i].get_text() == nbb_unformatted_code) {\n",
       "                             nbb_cells[i].set_text(nbb_formatted_code);\n",
       "                        }\n",
       "                        break;\n",
       "                    }\n",
       "                }\n",
       "            }, 500);\n",
       "            "
      ],
      "text/plain": [
       "<IPython.core.display.Javascript object>"
      ]
     },
     "metadata": {},
     "output_type": "display_data"
    }
   ],
   "source": [
    "lab = pd.read_csv(\"Test_Data_JLM.csv\")\n",
    "lab.head()"
   ]
  },
  {
   "cell_type": "code",
   "execution_count": 34,
   "metadata": {},
   "outputs": [
    {
     "data": {
      "application/javascript": [
       "\n",
       "            setTimeout(function() {\n",
       "                var nbb_cell_id = 34;\n",
       "                var nbb_unformatted_code = \"varnames = [\\\"Na\\\", \\\"Hb\\\", \\\"K\\\", \\\"Crea\\\", \\\"WBC\\\", \\\"ALAT\\\"]\";\n",
       "                var nbb_formatted_code = \"varnames = [\\\"Na\\\", \\\"Hb\\\", \\\"K\\\", \\\"Crea\\\", \\\"WBC\\\", \\\"ALAT\\\"]\";\n",
       "                var nbb_cells = Jupyter.notebook.get_cells();\n",
       "                for (var i = 0; i < nbb_cells.length; ++i) {\n",
       "                    if (nbb_cells[i].input_prompt_number == nbb_cell_id) {\n",
       "                        if (nbb_cells[i].get_text() == nbb_unformatted_code) {\n",
       "                             nbb_cells[i].set_text(nbb_formatted_code);\n",
       "                        }\n",
       "                        break;\n",
       "                    }\n",
       "                }\n",
       "            }, 500);\n",
       "            "
      ],
      "text/plain": [
       "<IPython.core.display.Javascript object>"
      ]
     },
     "metadata": {},
     "output_type": "display_data"
    }
   ],
   "source": [
    "varnames = [\"Na\", \"Hb\", \"K\", \"Crea\", \"WBC\", \"ALAT\"]"
   ]
  },
  {
   "cell_type": "code",
   "execution_count": 35,
   "metadata": {},
   "outputs": [
    {
     "data": {
      "text/plain": [
       "(1000, 1000)"
      ]
     },
     "execution_count": 35,
     "metadata": {},
     "output_type": "execute_result"
    },
    {
     "data": {
      "application/javascript": [
       "\n",
       "            setTimeout(function() {\n",
       "                var nbb_cell_id = 35;\n",
       "                var nbb_unformatted_code = \"male = lab[\\\"sex\\\"] == \\\"m\\\"\\nfemale = lab[\\\"sex\\\"] == \\\"f\\\"\\nmale.sum(), female.sum()\";\n",
       "                var nbb_formatted_code = \"male = lab[\\\"sex\\\"] == \\\"m\\\"\\nfemale = lab[\\\"sex\\\"] == \\\"f\\\"\\nmale.sum(), female.sum()\";\n",
       "                var nbb_cells = Jupyter.notebook.get_cells();\n",
       "                for (var i = 0; i < nbb_cells.length; ++i) {\n",
       "                    if (nbb_cells[i].input_prompt_number == nbb_cell_id) {\n",
       "                        if (nbb_cells[i].get_text() == nbb_unformatted_code) {\n",
       "                             nbb_cells[i].set_text(nbb_formatted_code);\n",
       "                        }\n",
       "                        break;\n",
       "                    }\n",
       "                }\n",
       "            }, 500);\n",
       "            "
      ],
      "text/plain": [
       "<IPython.core.display.Javascript object>"
      ]
     },
     "metadata": {},
     "output_type": "display_data"
    }
   ],
   "source": [
    "male = lab[\"sex\"] == \"m\"\n",
    "female = lab[\"sex\"] == \"f\"\n",
    "male.sum(), female.sum()"
   ]
  },
  {
   "cell_type": "code",
   "execution_count": 36,
   "metadata": {},
   "outputs": [
    {
     "data": {
      "application/javascript": [
       "\n",
       "            setTimeout(function() {\n",
       "                var nbb_cell_id = 36;\n",
       "                var nbb_unformatted_code = \"varnames = [\\\"Hb\\\", \\\"WBC\\\", \\\"Na\\\", \\\"K\\\", \\\"Crea\\\", \\\"ALAT\\\"]\\nlabels = [\\n    \\\"Hb (g/L)\\\",\\n    \\\"WBC (cells/nL)\\\",\\n    \\\"Na (mmol/L)\\\",\\n    \\\"K (mmol/L)\\\",\\n    \\\"Crea ($\\\\mu$mol/L)\\\",\\n    \\\"ALAT (U/L)\\\",\\n]\\nlabel_dict = dict(zip(varnames, labels))\";\n",
       "                var nbb_formatted_code = \"varnames = [\\\"Hb\\\", \\\"WBC\\\", \\\"Na\\\", \\\"K\\\", \\\"Crea\\\", \\\"ALAT\\\"]\\nlabels = [\\n    \\\"Hb (g/L)\\\",\\n    \\\"WBC (cells/nL)\\\",\\n    \\\"Na (mmol/L)\\\",\\n    \\\"K (mmol/L)\\\",\\n    \\\"Crea ($\\\\mu$mol/L)\\\",\\n    \\\"ALAT (U/L)\\\",\\n]\\nlabel_dict = dict(zip(varnames, labels))\";\n",
       "                var nbb_cells = Jupyter.notebook.get_cells();\n",
       "                for (var i = 0; i < nbb_cells.length; ++i) {\n",
       "                    if (nbb_cells[i].input_prompt_number == nbb_cell_id) {\n",
       "                        if (nbb_cells[i].get_text() == nbb_unformatted_code) {\n",
       "                             nbb_cells[i].set_text(nbb_formatted_code);\n",
       "                        }\n",
       "                        break;\n",
       "                    }\n",
       "                }\n",
       "            }, 500);\n",
       "            "
      ],
      "text/plain": [
       "<IPython.core.display.Javascript object>"
      ]
     },
     "metadata": {},
     "output_type": "display_data"
    }
   ],
   "source": [
    "varnames = [\"Hb\", \"WBC\", \"Na\", \"K\", \"Crea\", \"ALAT\"]\n",
    "labels = [\n",
    "    \"Hb (g/L)\",\n",
    "    \"WBC (cells/nL)\",\n",
    "    \"Na (mmol/L)\",\n",
    "    \"K (mmol/L)\",\n",
    "    \"Crea ($\\mu$mol/L)\",\n",
    "    \"ALAT (U/L)\",\n",
    "]\n",
    "label_dict = dict(zip(varnames, labels))"
   ]
  },
  {
   "cell_type": "code",
   "execution_count": 37,
   "metadata": {},
   "outputs": [
    {
     "data": {
      "application/javascript": [
       "\n",
       "            setTimeout(function() {\n",
       "                var nbb_cell_id = 37;\n",
       "                var nbb_unformatted_code = \"res_male = all_errors(lab[male], \\\"male\\\", varnames, log=False)\\nres_female = all_errors(lab[female], \\\"female\\\", varnames, log=False)\\ngaussian = pd.concat([res_male, res_female])\";\n",
       "                var nbb_formatted_code = \"res_male = all_errors(lab[male], \\\"male\\\", varnames, log=False)\\nres_female = all_errors(lab[female], \\\"female\\\", varnames, log=False)\\ngaussian = pd.concat([res_male, res_female])\";\n",
       "                var nbb_cells = Jupyter.notebook.get_cells();\n",
       "                for (var i = 0; i < nbb_cells.length; ++i) {\n",
       "                    if (nbb_cells[i].input_prompt_number == nbb_cell_id) {\n",
       "                        if (nbb_cells[i].get_text() == nbb_unformatted_code) {\n",
       "                             nbb_cells[i].set_text(nbb_formatted_code);\n",
       "                        }\n",
       "                        break;\n",
       "                    }\n",
       "                }\n",
       "            }, 500);\n",
       "            "
      ],
      "text/plain": [
       "<IPython.core.display.Javascript object>"
      ]
     },
     "metadata": {},
     "output_type": "display_data"
    }
   ],
   "source": [
    "res_male = all_errors(lab[male], \"male\", varnames, log=False)\n",
    "res_female = all_errors(lab[female], \"female\", varnames, log=False)\n",
    "gaussian = pd.concat([res_male, res_female])"
   ]
  },
  {
   "cell_type": "code",
   "execution_count": 38,
   "metadata": {},
   "outputs": [
    {
     "data": {
      "application/javascript": [
       "\n",
       "            setTimeout(function() {\n",
       "                var nbb_cell_id = 38;\n",
       "                var nbb_unformatted_code = \"res_male_log = all_errors(lab[male], \\\"male\\\", varnames, log=True)\\nres_female_log = all_errors(lab[female], \\\"female\\\", varnames, log=True)\\nlognormal = pd.concat([res_male_log, res_female_log])\";\n",
       "                var nbb_formatted_code = \"res_male_log = all_errors(lab[male], \\\"male\\\", varnames, log=True)\\nres_female_log = all_errors(lab[female], \\\"female\\\", varnames, log=True)\\nlognormal = pd.concat([res_male_log, res_female_log])\";\n",
       "                var nbb_cells = Jupyter.notebook.get_cells();\n",
       "                for (var i = 0; i < nbb_cells.length; ++i) {\n",
       "                    if (nbb_cells[i].input_prompt_number == nbb_cell_id) {\n",
       "                        if (nbb_cells[i].get_text() == nbb_unformatted_code) {\n",
       "                             nbb_cells[i].set_text(nbb_formatted_code);\n",
       "                        }\n",
       "                        break;\n",
       "                    }\n",
       "                }\n",
       "            }, 500);\n",
       "            "
      ],
      "text/plain": [
       "<IPython.core.display.Javascript object>"
      ]
     },
     "metadata": {},
     "output_type": "display_data"
    }
   ],
   "source": [
    "res_male_log = all_errors(lab[male], \"male\", varnames, log=True)\n",
    "res_female_log = all_errors(lab[female], \"female\", varnames, log=True)\n",
    "lognormal = pd.concat([res_male_log, res_female_log])"
   ]
  },
  {
   "cell_type": "code",
   "execution_count": 39,
   "metadata": {},
   "outputs": [
    {
     "data": {
      "image/png": "[encoded data removed]",
      "text/plain": [
       "<Figure size 640x480 with 1 Axes>"
      ]
     },
     "metadata": {},
     "output_type": "display_data"
    },
    {
     "data": {
      "application/javascript": [
       "\n",
       "            setTimeout(function() {\n",
       "                var nbb_cell_id = 39;\n",
       "                var nbb_unformatted_code = \"joined = join(gaussian, lognormal)\\nscatterplot(joined)\";\n",
       "                var nbb_formatted_code = \"joined = join(gaussian, lognormal)\\nscatterplot(joined)\";\n",
       "                var nbb_cells = Jupyter.notebook.get_cells();\n",
       "                for (var i = 0; i < nbb_cells.length; ++i) {\n",
       "                    if (nbb_cells[i].input_prompt_number == nbb_cell_id) {\n",
       "                        if (nbb_cells[i].get_text() == nbb_unformatted_code) {\n",
       "                             nbb_cells[i].set_text(nbb_formatted_code);\n",
       "                        }\n",
       "                        break;\n",
       "                    }\n",
       "                }\n",
       "            }, 500);\n",
       "            "
      ],
      "text/plain": [
       "<IPython.core.display.Javascript object>"
      ]
     },
     "metadata": {},
     "output_type": "display_data"
    }
   ],
   "source": [
    "joined = join(gaussian, lognormal)\n",
    "scatterplot(joined)"
   ]
  },
  {
   "cell_type": "code",
   "execution_count": 40,
   "metadata": {},
   "outputs": [
    {
     "data": {
      "text/plain": [
       "0.6666666666666666"
      ]
     },
     "execution_count": 40,
     "metadata": {},
     "output_type": "execute_result"
    },
    {
     "data": {
      "application/javascript": [
       "\n",
       "            setTimeout(function() {\n",
       "                var nbb_cell_id = 40;\n",
       "                var nbb_unformatted_code = \"(joined[\\\"diff\\\"] > 0).mean()\";\n",
       "                var nbb_formatted_code = \"(joined[\\\"diff\\\"] > 0).mean()\";\n",
       "                var nbb_cells = Jupyter.notebook.get_cells();\n",
       "                for (var i = 0; i < nbb_cells.length; ++i) {\n",
       "                    if (nbb_cells[i].input_prompt_number == nbb_cell_id) {\n",
       "                        if (nbb_cells[i].get_text() == nbb_unformatted_code) {\n",
       "                             nbb_cells[i].set_text(nbb_formatted_code);\n",
       "                        }\n",
       "                        break;\n",
       "                    }\n",
       "                }\n",
       "            }, 500);\n",
       "            "
      ],
      "text/plain": [
       "<IPython.core.display.Javascript object>"
      ]
     },
     "metadata": {},
     "output_type": "display_data"
    }
   ],
   "source": [
    "(joined[\"diff\"] > 0).mean()"
   ]
  },
  {
   "cell_type": "code",
   "execution_count": 41,
   "metadata": {},
   "outputs": [
    {
     "data": {
      "text/html": [
       "<div>\n",
       "<style scoped>\n",
       "    .dataframe tbody tr th:only-of-type {\n",
       "        vertical-align: middle;\n",
       "    }\n",
       "\n",
       "    .dataframe tbody tr th {\n",
       "        vertical-align: top;\n",
       "    }\n",
       "\n",
       "    .dataframe thead th {\n",
       "        text-align: right;\n",
       "    }\n",
       "</style>\n",
       "<table border=\"1\" class=\"dataframe\">\n",
       "  <thead>\n",
       "    <tr style=\"text-align: right;\">\n",
       "      <th></th>\n",
       "      <th>error_gaussian</th>\n",
       "      <th>sex</th>\n",
       "      <th>measurement</th>\n",
       "      <th>error_lognormal</th>\n",
       "      <th>diff</th>\n",
       "      <th>sum</th>\n",
       "    </tr>\n",
       "  </thead>\n",
       "  <tbody>\n",
       "    <tr>\n",
       "      <th>6</th>\n",
       "      <td>2.569561</td>\n",
       "      <td>female</td>\n",
       "      <td>Hb</td>\n",
       "      <td>3.168235</td>\n",
       "      <td>-0.598674</td>\n",
       "      <td>5.737797</td>\n",
       "    </tr>\n",
       "    <tr>\n",
       "      <th>0</th>\n",
       "      <td>1.976727</td>\n",
       "      <td>male</td>\n",
       "      <td>Hb</td>\n",
       "      <td>2.415662</td>\n",
       "      <td>-0.438935</td>\n",
       "      <td>4.392390</td>\n",
       "    </tr>\n",
       "    <tr>\n",
       "      <th>10</th>\n",
       "      <td>1.191881</td>\n",
       "      <td>female</td>\n",
       "      <td>Crea</td>\n",
       "      <td>1.335989</td>\n",
       "      <td>-0.144108</td>\n",
       "      <td>2.527870</td>\n",
       "    </tr>\n",
       "  </tbody>\n",
       "</table>\n",
       "</div>"
      ],
      "text/plain": [
       "    error_gaussian     sex measurement  error_lognormal      diff       sum\n",
       "6         2.569561  female          Hb         3.168235 -0.598674  5.737797\n",
       "0         1.976727    male          Hb         2.415662 -0.438935  4.392390\n",
       "10        1.191881  female        Crea         1.335989 -0.144108  2.527870"
      ]
     },
     "execution_count": 41,
     "metadata": {},
     "output_type": "execute_result"
    },
    {
     "data": {
      "application/javascript": [
       "\n",
       "            setTimeout(function() {\n",
       "                var nbb_cell_id = 41;\n",
       "                var nbb_unformatted_code = \"joined.sort_values(by=\\\"diff\\\", inplace=True)\\njoined.head(3)\";\n",
       "                var nbb_formatted_code = \"joined.sort_values(by=\\\"diff\\\", inplace=True)\\njoined.head(3)\";\n",
       "                var nbb_cells = Jupyter.notebook.get_cells();\n",
       "                for (var i = 0; i < nbb_cells.length; ++i) {\n",
       "                    if (nbb_cells[i].input_prompt_number == nbb_cell_id) {\n",
       "                        if (nbb_cells[i].get_text() == nbb_unformatted_code) {\n",
       "                             nbb_cells[i].set_text(nbb_formatted_code);\n",
       "                        }\n",
       "                        break;\n",
       "                    }\n",
       "                }\n",
       "            }, 500);\n",
       "            "
      ],
      "text/plain": [
       "<IPython.core.display.Javascript object>"
      ]
     },
     "metadata": {},
     "output_type": "display_data"
    }
   ],
   "source": [
    "joined.sort_values(by=\"diff\", inplace=True)\n",
    "joined.head(3)"
   ]
  },
  {
   "cell_type": "code",
   "execution_count": 42,
   "metadata": {},
   "outputs": [
    {
     "data": {
      "image/png": "[encoded data removed]",
      "text/plain": [
       "<Figure size 800x400 with 2 Axes>"
      ]
     },
     "metadata": {},
     "output_type": "display_data"
    },
    {
     "data": {
      "application/javascript": [
       "\n",
       "            setTimeout(function() {\n",
       "                var nbb_cell_id = 42;\n",
       "                var nbb_unformatted_code = \"# Gaussian better (but both bad)\\n\\nname = \\\"Hb\\\"\\nmake_double_plot(lab.loc[male, name], label_dict[name])\";\n",
       "                var nbb_formatted_code = \"# Gaussian better (but both bad)\\n\\nname = \\\"Hb\\\"\\nmake_double_plot(lab.loc[male, name], label_dict[name])\";\n",
       "                var nbb_cells = Jupyter.notebook.get_cells();\n",
       "                for (var i = 0; i < nbb_cells.length; ++i) {\n",
       "                    if (nbb_cells[i].input_prompt_number == nbb_cell_id) {\n",
       "                        if (nbb_cells[i].get_text() == nbb_unformatted_code) {\n",
       "                             nbb_cells[i].set_text(nbb_formatted_code);\n",
       "                        }\n",
       "                        break;\n",
       "                    }\n",
       "                }\n",
       "            }, 500);\n",
       "            "
      ],
      "text/plain": [
       "<IPython.core.display.Javascript object>"
      ]
     },
     "metadata": {},
     "output_type": "display_data"
    }
   ],
   "source": [
    "# Gaussian better (but both bad)\n",
    "\n",
    "name = \"Hb\"\n",
    "make_double_plot(lab.loc[male, name], label_dict[name])"
   ]
  },
  {
   "cell_type": "code",
   "execution_count": 43,
   "metadata": {},
   "outputs": [
    {
     "data": {
      "text/html": [
       "<div>\n",
       "<style scoped>\n",
       "    .dataframe tbody tr th:only-of-type {\n",
       "        vertical-align: middle;\n",
       "    }\n",
       "\n",
       "    .dataframe tbody tr th {\n",
       "        vertical-align: top;\n",
       "    }\n",
       "\n",
       "    .dataframe thead th {\n",
       "        text-align: right;\n",
       "    }\n",
       "</style>\n",
       "<table border=\"1\" class=\"dataframe\">\n",
       "  <thead>\n",
       "    <tr style=\"text-align: right;\">\n",
       "      <th></th>\n",
       "      <th>error_gaussian</th>\n",
       "      <th>sex</th>\n",
       "      <th>measurement</th>\n",
       "      <th>error_lognormal</th>\n",
       "      <th>diff</th>\n",
       "      <th>sum</th>\n",
       "    </tr>\n",
       "  </thead>\n",
       "  <tbody>\n",
       "    <tr>\n",
       "      <th>4</th>\n",
       "      <td>2.267264</td>\n",
       "      <td>male</td>\n",
       "      <td>Crea</td>\n",
       "      <td>1.466140</td>\n",
       "      <td>0.801124</td>\n",
       "      <td>3.733404</td>\n",
       "    </tr>\n",
       "    <tr>\n",
       "      <th>11</th>\n",
       "      <td>3.419685</td>\n",
       "      <td>female</td>\n",
       "      <td>ALAT</td>\n",
       "      <td>1.826160</td>\n",
       "      <td>1.593525</td>\n",
       "      <td>5.245845</td>\n",
       "    </tr>\n",
       "    <tr>\n",
       "      <th>7</th>\n",
       "      <td>2.454356</td>\n",
       "      <td>female</td>\n",
       "      <td>WBC</td>\n",
       "      <td>0.586840</td>\n",
       "      <td>1.867516</td>\n",
       "      <td>3.041196</td>\n",
       "    </tr>\n",
       "    <tr>\n",
       "      <th>1</th>\n",
       "      <td>2.800216</td>\n",
       "      <td>male</td>\n",
       "      <td>WBC</td>\n",
       "      <td>0.767287</td>\n",
       "      <td>2.032929</td>\n",
       "      <td>3.567503</td>\n",
       "    </tr>\n",
       "    <tr>\n",
       "      <th>5</th>\n",
       "      <td>4.020443</td>\n",
       "      <td>male</td>\n",
       "      <td>ALAT</td>\n",
       "      <td>1.079603</td>\n",
       "      <td>2.940840</td>\n",
       "      <td>5.100046</td>\n",
       "    </tr>\n",
       "  </tbody>\n",
       "</table>\n",
       "</div>"
      ],
      "text/plain": [
       "    error_gaussian     sex measurement  error_lognormal      diff       sum\n",
       "4         2.267264    male        Crea         1.466140  0.801124  3.733404\n",
       "11        3.419685  female        ALAT         1.826160  1.593525  5.245845\n",
       "7         2.454356  female         WBC         0.586840  1.867516  3.041196\n",
       "1         2.800216    male         WBC         0.767287  2.032929  3.567503\n",
       "5         4.020443    male        ALAT         1.079603  2.940840  5.100046"
      ]
     },
     "execution_count": 43,
     "metadata": {},
     "output_type": "execute_result"
    },
    {
     "data": {
      "application/javascript": [
       "\n",
       "            setTimeout(function() {\n",
       "                var nbb_cell_id = 43;\n",
       "                var nbb_unformatted_code = \"joined.tail()\";\n",
       "                var nbb_formatted_code = \"joined.tail()\";\n",
       "                var nbb_cells = Jupyter.notebook.get_cells();\n",
       "                for (var i = 0; i < nbb_cells.length; ++i) {\n",
       "                    if (nbb_cells[i].input_prompt_number == nbb_cell_id) {\n",
       "                        if (nbb_cells[i].get_text() == nbb_unformatted_code) {\n",
       "                             nbb_cells[i].set_text(nbb_formatted_code);\n",
       "                        }\n",
       "                        break;\n",
       "                    }\n",
       "                }\n",
       "            }, 500);\n",
       "            "
      ],
      "text/plain": [
       "<IPython.core.display.Javascript object>"
      ]
     },
     "metadata": {},
     "output_type": "display_data"
    }
   ],
   "source": [
    "joined.tail()"
   ]
  },
  {
   "cell_type": "code",
   "execution_count": 44,
   "metadata": {},
   "outputs": [
    {
     "data": {
      "image/png": "[encoded data removed]",
      "text/plain": [
       "<Figure size 800x400 with 2 Axes>"
      ]
     },
     "metadata": {},
     "output_type": "display_data"
    },
    {
     "data": {
      "application/javascript": [
       "\n",
       "            setTimeout(function() {\n",
       "                var nbb_cell_id = 44;\n",
       "                var nbb_unformatted_code = \"# lognormal better\\n\\nname = \\\"ALAT\\\"\\nmake_double_plot(lab.loc[male, name], label_dict[name])\";\n",
       "                var nbb_formatted_code = \"# lognormal better\\n\\nname = \\\"ALAT\\\"\\nmake_double_plot(lab.loc[male, name], label_dict[name])\";\n",
       "                var nbb_cells = Jupyter.notebook.get_cells();\n",
       "                for (var i = 0; i < nbb_cells.length; ++i) {\n",
       "                    if (nbb_cells[i].input_prompt_number == nbb_cell_id) {\n",
       "                        if (nbb_cells[i].get_text() == nbb_unformatted_code) {\n",
       "                             nbb_cells[i].set_text(nbb_formatted_code);\n",
       "                        }\n",
       "                        break;\n",
       "                    }\n",
       "                }\n",
       "            }, 500);\n",
       "            "
      ],
      "text/plain": [
       "<IPython.core.display.Javascript object>"
      ]
     },
     "metadata": {},
     "output_type": "display_data"
    }
   ],
   "source": [
    "# lognormal better\n",
    "\n",
    "name = \"ALAT\"\n",
    "make_double_plot(lab.loc[male, name], label_dict[name])"
   ]
  },
  {
   "cell_type": "code",
   "execution_count": 45,
   "metadata": {},
   "outputs": [
    {
     "data": {
      "text/html": [
       "<div>\n",
       "<style scoped>\n",
       "    .dataframe tbody tr th:only-of-type {\n",
       "        vertical-align: middle;\n",
       "    }\n",
       "\n",
       "    .dataframe tbody tr th {\n",
       "        vertical-align: top;\n",
       "    }\n",
       "\n",
       "    .dataframe thead th {\n",
       "        text-align: right;\n",
       "    }\n",
       "</style>\n",
       "<table border=\"1\" class=\"dataframe\">\n",
       "  <thead>\n",
       "    <tr style=\"text-align: right;\">\n",
       "      <th></th>\n",
       "      <th>error_gaussian</th>\n",
       "      <th>sex</th>\n",
       "      <th>measurement</th>\n",
       "      <th>error_lognormal</th>\n",
       "      <th>diff</th>\n",
       "      <th>sum</th>\n",
       "    </tr>\n",
       "  </thead>\n",
       "  <tbody>\n",
       "    <tr>\n",
       "      <th>10</th>\n",
       "      <td>1.191881</td>\n",
       "      <td>female</td>\n",
       "      <td>Crea</td>\n",
       "      <td>1.335989</td>\n",
       "      <td>-0.144108</td>\n",
       "      <td>2.527870</td>\n",
       "    </tr>\n",
       "    <tr>\n",
       "      <th>7</th>\n",
       "      <td>2.454356</td>\n",
       "      <td>female</td>\n",
       "      <td>WBC</td>\n",
       "      <td>0.586840</td>\n",
       "      <td>1.867516</td>\n",
       "      <td>3.041196</td>\n",
       "    </tr>\n",
       "    <tr>\n",
       "      <th>9</th>\n",
       "      <td>1.670563</td>\n",
       "      <td>female</td>\n",
       "      <td>K</td>\n",
       "      <td>1.487594</td>\n",
       "      <td>0.182969</td>\n",
       "      <td>3.158158</td>\n",
       "    </tr>\n",
       "    <tr>\n",
       "      <th>3</th>\n",
       "      <td>1.751536</td>\n",
       "      <td>male</td>\n",
       "      <td>K</td>\n",
       "      <td>1.486174</td>\n",
       "      <td>0.265362</td>\n",
       "      <td>3.237710</td>\n",
       "    </tr>\n",
       "    <tr>\n",
       "      <th>1</th>\n",
       "      <td>2.800216</td>\n",
       "      <td>male</td>\n",
       "      <td>WBC</td>\n",
       "      <td>0.767287</td>\n",
       "      <td>2.032929</td>\n",
       "      <td>3.567503</td>\n",
       "    </tr>\n",
       "  </tbody>\n",
       "</table>\n",
       "</div>"
      ],
      "text/plain": [
       "    error_gaussian     sex measurement  error_lognormal      diff       sum\n",
       "10        1.191881  female        Crea         1.335989 -0.144108  2.527870\n",
       "7         2.454356  female         WBC         0.586840  1.867516  3.041196\n",
       "9         1.670563  female           K         1.487594  0.182969  3.158158\n",
       "3         1.751536    male           K         1.486174  0.265362  3.237710\n",
       "1         2.800216    male         WBC         0.767287  2.032929  3.567503"
      ]
     },
     "execution_count": 45,
     "metadata": {},
     "output_type": "execute_result"
    },
    {
     "data": {
      "application/javascript": [
       "\n",
       "            setTimeout(function() {\n",
       "                var nbb_cell_id = 45;\n",
       "                var nbb_unformatted_code = \"joined.sort_values(by=\\\"sum\\\", inplace=True)\\njoined.head()\";\n",
       "                var nbb_formatted_code = \"joined.sort_values(by=\\\"sum\\\", inplace=True)\\njoined.head()\";\n",
       "                var nbb_cells = Jupyter.notebook.get_cells();\n",
       "                for (var i = 0; i < nbb_cells.length; ++i) {\n",
       "                    if (nbb_cells[i].input_prompt_number == nbb_cell_id) {\n",
       "                        if (nbb_cells[i].get_text() == nbb_unformatted_code) {\n",
       "                             nbb_cells[i].set_text(nbb_formatted_code);\n",
       "                        }\n",
       "                        break;\n",
       "                    }\n",
       "                }\n",
       "            }, 500);\n",
       "            "
      ],
      "text/plain": [
       "<IPython.core.display.Javascript object>"
      ]
     },
     "metadata": {},
     "output_type": "display_data"
    }
   ],
   "source": [
    "joined.sort_values(by=\"sum\", inplace=True)\n",
    "joined.head()"
   ]
  },
  {
   "cell_type": "code",
   "execution_count": 46,
   "metadata": {},
   "outputs": [
    {
     "data": {
      "image/png": "[encoded data removed]",
      "text/plain": [
       "<Figure size 800x400 with 2 Axes>"
      ]
     },
     "metadata": {},
     "output_type": "display_data"
    },
    {
     "data": {
      "application/javascript": [
       "\n",
       "            setTimeout(function() {\n",
       "                var nbb_cell_id = 46;\n",
       "                var nbb_unformatted_code = \"# Both good\\n\\nname = \\\"Crea\\\"\\nmake_double_plot(lab.loc[female, name], label_dict[name])\";\n",
       "                var nbb_formatted_code = \"# Both good\\n\\nname = \\\"Crea\\\"\\nmake_double_plot(lab.loc[female, name], label_dict[name])\";\n",
       "                var nbb_cells = Jupyter.notebook.get_cells();\n",
       "                for (var i = 0; i < nbb_cells.length; ++i) {\n",
       "                    if (nbb_cells[i].input_prompt_number == nbb_cell_id) {\n",
       "                        if (nbb_cells[i].get_text() == nbb_unformatted_code) {\n",
       "                             nbb_cells[i].set_text(nbb_formatted_code);\n",
       "                        }\n",
       "                        break;\n",
       "                    }\n",
       "                }\n",
       "            }, 500);\n",
       "            "
      ],
      "text/plain": [
       "<IPython.core.display.Javascript object>"
      ]
     },
     "metadata": {},
     "output_type": "display_data"
    }
   ],
   "source": [
    "# Both good\n",
    "\n",
    "name = \"Crea\"\n",
    "make_double_plot(lab.loc[female, name], label_dict[name])"
   ]
  },
  {
   "cell_type": "code",
   "execution_count": 47,
   "metadata": {},
   "outputs": [
    {
     "data": {
      "text/html": [
       "<div>\n",
       "<style scoped>\n",
       "    .dataframe tbody tr th:only-of-type {\n",
       "        vertical-align: middle;\n",
       "    }\n",
       "\n",
       "    .dataframe tbody tr th {\n",
       "        vertical-align: top;\n",
       "    }\n",
       "\n",
       "    .dataframe thead th {\n",
       "        text-align: right;\n",
       "    }\n",
       "</style>\n",
       "<table border=\"1\" class=\"dataframe\">\n",
       "  <thead>\n",
       "    <tr style=\"text-align: right;\">\n",
       "      <th></th>\n",
       "      <th>error_gaussian</th>\n",
       "      <th>sex</th>\n",
       "      <th>measurement</th>\n",
       "      <th>error_lognormal</th>\n",
       "      <th>diff</th>\n",
       "      <th>sum</th>\n",
       "    </tr>\n",
       "  </thead>\n",
       "  <tbody>\n",
       "    <tr>\n",
       "      <th>5</th>\n",
       "      <td>4.020443</td>\n",
       "      <td>male</td>\n",
       "      <td>ALAT</td>\n",
       "      <td>1.079603</td>\n",
       "      <td>2.940840</td>\n",
       "      <td>5.100046</td>\n",
       "    </tr>\n",
       "    <tr>\n",
       "      <th>8</th>\n",
       "      <td>2.558988</td>\n",
       "      <td>female</td>\n",
       "      <td>Na</td>\n",
       "      <td>2.551349</td>\n",
       "      <td>0.007639</td>\n",
       "      <td>5.110336</td>\n",
       "    </tr>\n",
       "    <tr>\n",
       "      <th>11</th>\n",
       "      <td>3.419685</td>\n",
       "      <td>female</td>\n",
       "      <td>ALAT</td>\n",
       "      <td>1.826160</td>\n",
       "      <td>1.593525</td>\n",
       "      <td>5.245845</td>\n",
       "    </tr>\n",
       "    <tr>\n",
       "      <th>2</th>\n",
       "      <td>2.826943</td>\n",
       "      <td>male</td>\n",
       "      <td>Na</td>\n",
       "      <td>2.850049</td>\n",
       "      <td>-0.023105</td>\n",
       "      <td>5.676992</td>\n",
       "    </tr>\n",
       "    <tr>\n",
       "      <th>6</th>\n",
       "      <td>2.569561</td>\n",
       "      <td>female</td>\n",
       "      <td>Hb</td>\n",
       "      <td>3.168235</td>\n",
       "      <td>-0.598674</td>\n",
       "      <td>5.737797</td>\n",
       "    </tr>\n",
       "  </tbody>\n",
       "</table>\n",
       "</div>"
      ],
      "text/plain": [
       "    error_gaussian     sex measurement  error_lognormal      diff       sum\n",
       "5         4.020443    male        ALAT         1.079603  2.940840  5.100046\n",
       "8         2.558988  female          Na         2.551349  0.007639  5.110336\n",
       "11        3.419685  female        ALAT         1.826160  1.593525  5.245845\n",
       "2         2.826943    male          Na         2.850049 -0.023105  5.676992\n",
       "6         2.569561  female          Hb         3.168235 -0.598674  5.737797"
      ]
     },
     "execution_count": 47,
     "metadata": {},
     "output_type": "execute_result"
    },
    {
     "data": {
      "application/javascript": [
       "\n",
       "            setTimeout(function() {\n",
       "                var nbb_cell_id = 47;\n",
       "                var nbb_unformatted_code = \"joined.tail()\";\n",
       "                var nbb_formatted_code = \"joined.tail()\";\n",
       "                var nbb_cells = Jupyter.notebook.get_cells();\n",
       "                for (var i = 0; i < nbb_cells.length; ++i) {\n",
       "                    if (nbb_cells[i].input_prompt_number == nbb_cell_id) {\n",
       "                        if (nbb_cells[i].get_text() == nbb_unformatted_code) {\n",
       "                             nbb_cells[i].set_text(nbb_formatted_code);\n",
       "                        }\n",
       "                        break;\n",
       "                    }\n",
       "                }\n",
       "            }, 500);\n",
       "            "
      ],
      "text/plain": [
       "<IPython.core.display.Javascript object>"
      ]
     },
     "metadata": {},
     "output_type": "display_data"
    }
   ],
   "source": [
    "joined.tail()"
   ]
  },
  {
   "cell_type": "code",
   "execution_count": 48,
   "metadata": {},
   "outputs": [
    {
     "data": {
      "image/png": "[encoded data removed]",
      "text/plain": [
       "<Figure size 800x400 with 2 Axes>"
      ]
     },
     "metadata": {},
     "output_type": "display_data"
    },
    {
     "data": {
      "application/javascript": [
       "\n",
       "            setTimeout(function() {\n",
       "                var nbb_cell_id = 48;\n",
       "                var nbb_unformatted_code = \"# both bad (but lognormal better)\\n\\nname = \\\"ALAT\\\"\\nmake_double_plot(lab.loc[female, name], label_dict[name])\";\n",
       "                var nbb_formatted_code = \"# both bad (but lognormal better)\\n\\nname = \\\"ALAT\\\"\\nmake_double_plot(lab.loc[female, name], label_dict[name])\";\n",
       "                var nbb_cells = Jupyter.notebook.get_cells();\n",
       "                for (var i = 0; i < nbb_cells.length; ++i) {\n",
       "                    if (nbb_cells[i].input_prompt_number == nbb_cell_id) {\n",
       "                        if (nbb_cells[i].get_text() == nbb_unformatted_code) {\n",
       "                             nbb_cells[i].set_text(nbb_formatted_code);\n",
       "                        }\n",
       "                        break;\n",
       "                    }\n",
       "                }\n",
       "            }, 500);\n",
       "            "
      ],
      "text/plain": [
       "<IPython.core.display.Javascript object>"
      ]
     },
     "metadata": {},
     "output_type": "display_data"
    }
   ],
   "source": [
    "# both bad (but lognormal better)\n",
    "\n",
    "name = \"ALAT\"\n",
    "make_double_plot(lab.loc[female, name], label_dict[name])"
   ]
  },
  {
   "cell_type": "code",
   "execution_count": 49,
   "metadata": {},
   "outputs": [
    {
     "data": {
      "image/png": "[encoded data removed]",
      "text/plain": [
       "<Figure size 800x400 with 2 Axes>"
      ]
     },
     "metadata": {},
     "output_type": "display_data"
    },
    {
     "data": {
      "application/javascript": [
       "\n",
       "            setTimeout(function() {\n",
       "                var nbb_cell_id = 49;\n",
       "                var nbb_unformatted_code = \"dist = norm(170, 11)\\nxs = np.linspace(130, 210)\\n\\nplt.figure(figsize=(8, 4))\\nplt.subplot(1, 2, 1)\\nps = dist.pdf(xs)\\nplt.plot(xs, ps, color=\\\"C4\\\")\\ndecorate(ylabel=\\\"PDF\\\", xlabel=\\\"Height in cm\\\")\\n\\nplt.subplot(1, 2, 2)\\nps = dist.cdf(xs)\\nplt.plot(xs, ps, color=\\\"C4\\\")\\ndecorate(ylabel=\\\"CDF\\\", xlabel=\\\"Height in cm\\\")\\n\\nplt.tight_layout()\\nplt.savefig(\\\"log_vs_normal10.png\\\", dpi=300)\";\n",
       "                var nbb_formatted_code = \"dist = norm(170, 11)\\nxs = np.linspace(130, 210)\\n\\nplt.figure(figsize=(8, 4))\\nplt.subplot(1, 2, 1)\\nps = dist.pdf(xs)\\nplt.plot(xs, ps, color=\\\"C4\\\")\\ndecorate(ylabel=\\\"PDF\\\", xlabel=\\\"Height in cm\\\")\\n\\nplt.subplot(1, 2, 2)\\nps = dist.cdf(xs)\\nplt.plot(xs, ps, color=\\\"C4\\\")\\ndecorate(ylabel=\\\"CDF\\\", xlabel=\\\"Height in cm\\\")\\n\\nplt.tight_layout()\\nplt.savefig(\\\"log_vs_normal10.png\\\", dpi=300)\";\n",
       "                var nbb_cells = Jupyter.notebook.get_cells();\n",
       "                for (var i = 0; i < nbb_cells.length; ++i) {\n",
       "                    if (nbb_cells[i].input_prompt_number == nbb_cell_id) {\n",
       "                        if (nbb_cells[i].get_text() == nbb_unformatted_code) {\n",
       "                             nbb_cells[i].set_text(nbb_formatted_code);\n",
       "                        }\n",
       "                        break;\n",
       "                    }\n",
       "                }\n",
       "            }, 500);\n",
       "            "
      ],
      "text/plain": [
       "<IPython.core.display.Javascript object>"
      ]
     },
     "metadata": {},
     "output_type": "display_data"
    }
   ],
   "source": [
    "dist = norm(170, 11)\n",
    "xs = np.linspace(130, 210)\n",
    "\n",
    "plt.figure(figsize=(8, 4))\n",
    "plt.subplot(1, 2, 1)\n",
    "ps = dist.pdf(xs)\n",
    "plt.plot(xs, ps, color=\"C4\")\n",
    "decorate(ylabel=\"PDF\", xlabel=\"Height in cm\")\n",
    "\n",
    "plt.subplot(1, 2, 2)\n",
    "ps = dist.cdf(xs)\n",
    "plt.plot(xs, ps, color=\"C4\")\n",
    "decorate(ylabel=\"CDF\", xlabel=\"Height in cm\")\n",
    "\n",
    "plt.tight_layout()\n",
    "plt.savefig(\"log_vs_normal10.png\", dpi=300)"
   ]
  },
  {
   "cell_type": "markdown",
   "metadata": {},
   "source": [
    "Here's a version of the model-fitting code that's easier to walk through."
   ]
  },
  {
   "cell_type": "code",
   "execution_count": 59,
   "metadata": {
    "tags": [
     "remove-cell"
    ]
   },
   "outputs": [
    {
     "data": {
      "application/javascript": [
       "\n",
       "            setTimeout(function() {\n",
       "                var nbb_cell_id = 59;\n",
       "                var nbb_unformatted_code = \"from empiricaldist import Cdf\\n\\ncdf_data = Cdf.from_seq(series)\\n\\nlow, high = series.quantile([0.01, 0.99])\\nqs = np.linspace(low, high)\\nps = cdf_data(qs)\";\n",
       "                var nbb_formatted_code = \"from empiricaldist import Cdf\\n\\ncdf_data = Cdf.from_seq(series)\\n\\nlow, high = series.quantile([0.01, 0.99])\\nqs = np.linspace(low, high)\\nps = cdf_data(qs)\";\n",
       "                var nbb_cells = Jupyter.notebook.get_cells();\n",
       "                for (var i = 0; i < nbb_cells.length; ++i) {\n",
       "                    if (nbb_cells[i].input_prompt_number == nbb_cell_id) {\n",
       "                        if (nbb_cells[i].get_text() == nbb_unformatted_code) {\n",
       "                             nbb_cells[i].set_text(nbb_formatted_code);\n",
       "                        }\n",
       "                        break;\n",
       "                    }\n",
       "                }\n",
       "            }, 500);\n",
       "            "
      ],
      "text/plain": [
       "<IPython.core.display.Javascript object>"
      ]
     },
     "metadata": {},
     "output_type": "display_data"
    }
   ],
   "source": [
    "from empiricaldist import Cdf\n",
    "\n",
    "cdf_data = Cdf.from_seq(series)\n",
    "\n",
    "low, high = series.quantile([0.01, 0.99])\n",
    "qs = np.linspace(low, high)\n",
    "ps = cdf_data(qs)"
   ]
  },
  {
   "cell_type": "code",
   "execution_count": 55,
   "metadata": {
    "tags": [
     "remove-cell"
    ]
   },
   "outputs": [
    {
     "data": {
      "application/javascript": [
       "\n",
       "            setTimeout(function() {\n",
       "                var nbb_cell_id = 55;\n",
       "                var nbb_unformatted_code = \"from scipy.stats import norm\\n\\ndef error_func(params):\\n    print(params)\\n    cdf_model = norm(*params).cdf\\n    error = cdf_model(qs) - cdf_data(qs)\\n    return error\";\n",
       "                var nbb_formatted_code = \"from scipy.stats import norm\\n\\n\\ndef error_func(params):\\n    print(params)\\n    cdf_model = norm(*params).cdf\\n    error = cdf_model(qs) - cdf_data(qs)\\n    return error\";\n",
       "                var nbb_cells = Jupyter.notebook.get_cells();\n",
       "                for (var i = 0; i < nbb_cells.length; ++i) {\n",
       "                    if (nbb_cells[i].input_prompt_number == nbb_cell_id) {\n",
       "                        if (nbb_cells[i].get_text() == nbb_unformatted_code) {\n",
       "                             nbb_cells[i].set_text(nbb_formatted_code);\n",
       "                        }\n",
       "                        break;\n",
       "                    }\n",
       "                }\n",
       "            }, 500);\n",
       "            "
      ],
      "text/plain": [
       "<IPython.core.display.Javascript object>"
      ]
     },
     "metadata": {},
     "output_type": "display_data"
    }
   ],
   "source": [
    "from scipy.stats import norm\n",
    "\n",
    "\n",
    "def error_func(params):\n",
    "    print(params)\n",
    "    cdf_model = norm(*params).cdf\n",
    "    error = cdf_model(qs) - cdf_data(qs)\n",
    "    return error"
   ]
  },
  {
   "cell_type": "code",
   "execution_count": 56,
   "metadata": {
    "tags": [
     "remove-cell"
    ]
   },
   "outputs": [
    {
     "data": {
      "application/javascript": [
       "\n",
       "            setTimeout(function() {\n",
       "                var nbb_cell_id = 56;\n",
       "                var nbb_unformatted_code = \"from scipy.optimize import least_squares\\n\\n\\ndef fit_model(series):\\n    x0 = series.mean(), series.std()\\n    res = least_squares(error_func, x0=x0, xtol=1e-3, loss=\\\"soft_l1\\\")\\n    return res.x\";\n",
       "                var nbb_formatted_code = \"from scipy.optimize import least_squares\\n\\n\\ndef fit_model(series):\\n    x0 = series.mean(), series.std()\\n    res = least_squares(error_func, x0=x0, xtol=1e-3, loss=\\\"soft_l1\\\")\\n    return res.x\";\n",
       "                var nbb_cells = Jupyter.notebook.get_cells();\n",
       "                for (var i = 0; i < nbb_cells.length; ++i) {\n",
       "                    if (nbb_cells[i].input_prompt_number == nbb_cell_id) {\n",
       "                        if (nbb_cells[i].get_text() == nbb_unformatted_code) {\n",
       "                             nbb_cells[i].set_text(nbb_formatted_code);\n",
       "                        }\n",
       "                        break;\n",
       "                    }\n",
       "                }\n",
       "            }, 500);\n",
       "            "
      ],
      "text/plain": [
       "<IPython.core.display.Javascript object>"
      ]
     },
     "metadata": {},
     "output_type": "display_data"
    }
   ],
   "source": [
    "from scipy.optimize import least_squares\n",
    "\n",
    "\n",
    "def fit_model(series):\n",
    "    x0 = series.mean(), series.std()\n",
    "    res = least_squares(error_func, x0=x0, xtol=1e-3, loss=\"soft_l1\")\n",
    "    return res.x"
   ]
  },
  {
   "cell_type": "code",
   "execution_count": 57,
   "metadata": {},
   "outputs": [
    {
     "name": "stdout",
     "output_type": "stream",
     "text": [
      "[1756.21460069   68.55078767]\n",
      "[1756.21462686   68.55078767]\n",
      "[1756.21460069   68.55078869]\n",
      "[1755.57429829   68.2097861 ]\n",
      "[1755.57432445   68.2097861 ]\n",
      "[1755.57429829   68.20978712]\n"
     ]
    },
    {
     "data": {
      "text/plain": [
       "array([1755.57429829,   68.2097861 ])"
      ]
     },
     "execution_count": 57,
     "metadata": {},
     "output_type": "execute_result"
    },
    {
     "data": {
      "application/javascript": [
       "\n",
       "            setTimeout(function() {\n",
       "                var nbb_cell_id = 57;\n",
       "                var nbb_unformatted_code = \"series = ansur_male[\\\"stature\\\"]\\nfit_model(series)\";\n",
       "                var nbb_formatted_code = \"series = ansur_male[\\\"stature\\\"]\\nfit_model(series)\";\n",
       "                var nbb_cells = Jupyter.notebook.get_cells();\n",
       "                for (var i = 0; i < nbb_cells.length; ++i) {\n",
       "                    if (nbb_cells[i].input_prompt_number == nbb_cell_id) {\n",
       "                        if (nbb_cells[i].get_text() == nbb_unformatted_code) {\n",
       "                             nbb_cells[i].set_text(nbb_formatted_code);\n",
       "                        }\n",
       "                        break;\n",
       "                    }\n",
       "                }\n",
       "            }, 500);\n",
       "            "
      ],
      "text/plain": [
       "<IPython.core.display.Javascript object>"
      ]
     },
     "metadata": {},
     "output_type": "display_data"
    }
   ],
   "source": [
    "series = ansur_male[\"stature\"]\n",
    "fit_model(series)"
   ]
  },
  {
   "cell_type": "markdown",
   "metadata": {
    "tags": [
     "remove-print"
    ]
   },
   "source": [
    "Probably Overthinking It: The Puzzles and Paradoxes of Probability\n",
    "\n",
    "Copyright 2022 Allen Downey \n",
    "\n"
   ]
  },
  {
   "cell_type": "code",
   "execution_count": null,
   "metadata": {},
   "outputs": [],
   "source": []
  }
 ],
 "metadata": {
  "kernelspec": {
   "display_name": "Python 3 (ipykernel)",
   "language": "python",
   "name": "python3"
  },
  "language_info": {
   "codemirror_mode": {
    "name": "ipython",
    "version": 3
   },
   "file_extension": ".py",
   "mimetype": "text/x-python",
   "name": "python",
   "nbconvert_exporter": "python",
   "pygments_lexer": "ipython3",
   "version": "3.10.9"
  }
 },
 "nbformat": 4,
 "nbformat_minor": 4
}
