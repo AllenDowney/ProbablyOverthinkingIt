{
 "cells": [
  {
   "cell_type": "markdown",
   "metadata": {
    "tags": []
   },
   "source": [
    "# The Long Tail of Disaster"
   ]
  },
  {
   "cell_type": "markdown",
   "metadata": {
    "tags": []
   },
   "source": [
    "This is one of the Jupyter notebooks I used in my preparation of *Probably Overthinking It: How to Use Data to Answer Questions, Avoid Statistical Traps, and Make Better Decisions*.\n",
    "\n",
    "The book is scheduled to be published by University of Chicago Press in 2023.\n",
    "If you would like to get infrequent email announcements about the book, please\n",
    "[sign up for my mailing list](http://eepurl.com/h0nfbX).\n",
    "\n",
    "Before you read these notebooks, please keep in mind:\n",
    "\n",
    "* There is some explanatory text in the notebooks, but some of the examples will not make sense until you have read the corresponding chapter in the book.\n",
    "\n",
    "* While preparing these notebooks, I made some changes to improve the readability of the code. There might be small differences between what appears in the book and what you get when you run the code."
   ]
  },
  {
   "cell_type": "markdown",
   "metadata": {
    "tags": []
   },
   "source": [
    "[Click here to run this notebook on Colab](https://colab.research.google.com/github/AllenDowney/ProbablyOverthinkingIt/blob/book/notebooks/longtail.ipynb)."
   ]
  },
  {
   "cell_type": "code",
   "execution_count": 1,
   "metadata": {
    "tags": []
   },
   "outputs": [],
   "source": [
    "# Install empiricaldist if we don't already have it\n",
    "\n",
    "try:\n",
    "    import empiricaldist\n",
    "except ImportError:\n",
    "    !pip install empiricaldist"
   ]
  },
  {
   "cell_type": "code",
   "execution_count": 2,
   "metadata": {
    "tags": []
   },
   "outputs": [],
   "source": [
    "# download utils.py\n",
    "\n",
    "from os.path import basename, exists\n",
    "\n",
    "def download(url):\n",
    "    filename = basename(url)\n",
    "    if not exists(filename):\n",
    "        from urllib.request import urlretrieve\n",
    "        local, _ = urlretrieve(url, filename)\n",
    "        print('Downloaded ' + local)\n",
    "        \n",
    "download(\"https://github.com/AllenDowney/ProbablyOverthinkingIt/raw/book/notebooks/utils.py\")"
   ]
  },
  {
   "cell_type": "code",
   "execution_count": 3,
   "metadata": {
    "tags": []
   },
   "outputs": [],
   "source": [
    "import pandas as pd\n",
    "import numpy as np\n",
    "import matplotlib.pyplot as plt\n",
    "\n",
    "from utils import decorate\n",
    "\n",
    "# Set the random seed so we get the same results every time\n",
    "np.random.seed(17)"
   ]
  },
  {
   "cell_type": "code",
   "execution_count": 4,
   "metadata": {
    "tags": []
   },
   "outputs": [],
   "source": [
    "from empiricaldist import Surv\n",
    "from utils import plot_error_bounds\n",
    "\n",
    "\n",
    "def plot_two(surv, surv_model, n, hatch=None, title=\"\"):\n",
    "    \"\"\"Plots tail distributions on linear-y and log-y scales\n",
    "    \n",
    "    surv: Surv\n",
    "    surv_model: Surv\n",
    "    n: sample size passed to plot_error_bounds\n",
    "    hatch: string passed to fill_between\n",
    "    title: string title\n",
    "    \n",
    "    Uses global variables model_label, ylabel, xlabel, xticks, yticks, xlabels, ylabels\n",
    "    \"\"\"\n",
    "    fig, axs = plt.subplots(2, 1, figsize=(6, 5), sharex=True)\n",
    "\n",
    "    plt.sca(axs[0])\n",
    "    surv_model.plot(color=\"gray\", alpha=0.4, label=model_label)\n",
    "    if n < 1000:\n",
    "        plot_error_bounds(Surv(surv_model), n, color=\"gray\")\n",
    "    surv.plot(color=\"C1\", ls=\"--\", label=\"Data\")\n",
    "    decorate(ylabel=ylabel, title=title)\n",
    "\n",
    "    plt.sca(axs[1])\n",
    "    surv_model.plot(color=\"gray\", alpha=0.4, label=model_label)\n",
    "    plot_error_bounds(Surv(surv_model), n, color=\"gray\", hatch=hatch)\n",
    "    surv.plot(color=\"C2\", ls=\"--\", label=\"Data\")\n",
    "    decorate(xlabel=xlabel, ylabel=ylabel, yscale=\"log\")\n",
    "    plt.xticks(xticks, xlabels)\n",
    "    plt.yticks(yticks, ylabels)\n",
    "\n",
    "    plt.tight_layout()\n",
    "    return axs"
   ]
  },
  {
   "cell_type": "markdown",
   "metadata": {
    "tags": []
   },
   "source": [
    "You would think we'd be better prepared for disaster.\n",
    "But events like Hurricane Katrina in 2005, which caused catastrophic flooding in New Orleans,\n",
    "and Hurricane Maria in 2017, which caused damage in Puerto Rico that has still not been repaired,\n",
    "show that large-scale disaster response is often inadequate.\n",
    "Even wealthy countries -- with large government agencies that respond to emergencies and well-funded organizations that provide disaster relief -- have been caught unprepared time and again.\n",
    "\n",
    "The are many reasons for these failures, but one of them is that rare, large events are fundamentally hard to comprehend.\n",
    "Because they are rare, it is hard to get the data we need to estimate precisely how rare.\n",
    "And because they are large, they challenge our ability to imagine quantities that are orders of magnitude bigger than what we experience in ordinary life.\n",
    "\n",
    "My goal in this chapter is to present the tools we need to comprehend the small probabilities of large events so that, maybe, we will be better prepared next time."
   ]
  },
  {
   "cell_type": "markdown",
   "metadata": {
    "tags": []
   },
   "source": [
    "## The Distribution of Disaster\n",
    "\n",
    "Natural and human-caused disasters are highly variable.\n",
    "The worst disasters, in terms of both lives lost and property destroyed, are thousands of times bigger than smaller, more common disasters.\n",
    "\n",
    "That fact might not be surprising, but there is a pattern to these costs that is less obvious.\n",
    "One way to see this pattern is to plot the magnitudes of the biggest disasters on a logarithmic scale.\n",
    "To demonstrate, I'll use the estimated costs from a list of 125 disasters on Wikipedia."
   ]
  },
  {
   "cell_type": "code",
   "execution_count": 5,
   "metadata": {
    "tags": []
   },
   "outputs": [],
   "source": [
    "# I archived a copy of https://en.wikipedia.org/wiki/List_of_disasters_by_cost\n",
    "# on June 3, 2022\n",
    "\n",
    "DATA_PATH = \"https://github.com/AllenDowney/ProbablyOverthinkingIt/raw/book/data/\"\n",
    "\n",
    "filename = \"List_of_disasters_by_cost.html\"\n",
    "download(DATA_PATH + filename)"
   ]
  },
  {
   "cell_type": "code",
   "execution_count": 6,
   "metadata": {},
   "outputs": [],
   "source": [
    "# If you want a more recent list, try this, but it might not work if the\n",
    "# page has been reorganized.\n",
    "\n",
    "# download(\"https://en.wikipedia.org/wiki/List_of_disasters_by_cost\")"
   ]
  },
  {
   "cell_type": "code",
   "execution_count": 7,
   "metadata": {
    "tags": []
   },
   "outputs": [],
   "source": [
    "tables = pd.read_html(filename)"
   ]
  },
  {
   "cell_type": "code",
   "execution_count": 8,
   "metadata": {
    "tags": []
   },
   "outputs": [
    {
     "name": "stdout",
     "output_type": "stream",
     "text": [
      "125\n"
     ]
    },
    {
     "data": {
      "text/html": [
       "<div>\n",
       "<style scoped>\n",
       "    .dataframe tbody tr th:only-of-type {\n",
       "        vertical-align: middle;\n",
       "    }\n",
       "\n",
       "    .dataframe tbody tr th {\n",
       "        vertical-align: top;\n",
       "    }\n",
       "\n",
       "    .dataframe thead tr th {\n",
       "        text-align: left;\n",
       "    }\n",
       "</style>\n",
       "<table border=\"1\" class=\"dataframe\">\n",
       "  <thead>\n",
       "    <tr>\n",
       "      <th></th>\n",
       "      <th colspan=\"2\" halign=\"left\">Cost ($billions)</th>\n",
       "      <th>Fatalities</th>\n",
       "      <th>Event</th>\n",
       "      <th>Type</th>\n",
       "      <th>Year</th>\n",
       "      <th>Nation</th>\n",
       "    </tr>\n",
       "    <tr>\n",
       "      <th></th>\n",
       "      <th>Unnamed: 0_level_1</th>\n",
       "      <th>(2021)[5]</th>\n",
       "      <th>Fatalities</th>\n",
       "      <th>Event</th>\n",
       "      <th>Type</th>\n",
       "      <th>Year</th>\n",
       "      <th>Nation</th>\n",
       "    </tr>\n",
       "  </thead>\n",
       "  <tbody>\n",
       "    <tr>\n",
       "      <th>0</th>\n",
       "      <td>[2]</td>\n",
       "      <td>NaN</td>\n",
       "      <td>4000 - 200000[6]</td>\n",
       "      <td>Chernobyl disaster [1]</td>\n",
       "      <td>Contamination (Radioactive)</td>\n",
       "      <td>1986</td>\n",
       "      <td>Soviet Union (, )</td>\n",
       "    </tr>\n",
       "    <tr>\n",
       "      <th>1</th>\n",
       "      <td>$360[7][8][4]</td>\n",
       "      <td>$423.7 (2021)</td>\n",
       "      <td>19747</td>\n",
       "      <td>2011 Tōhoku earthquake and tsunami</td>\n",
       "      <td>Earthquake, Tsunami, Contamination (Radioactive)</td>\n",
       "      <td>2011</td>\n",
       "      <td>Japan</td>\n",
       "    </tr>\n",
       "    <tr>\n",
       "      <th>2</th>\n",
       "      <td>$197[9]</td>\n",
       "      <td>$344.7 (2021)</td>\n",
       "      <td>NaN</td>\n",
       "      <td>Great Hanshin earthquake</td>\n",
       "      <td>Earthquake</td>\n",
       "      <td>1995</td>\n",
       "      <td>Japan</td>\n",
       "    </tr>\n",
       "    <tr>\n",
       "      <th>3</th>\n",
       "      <td>$148[10]</td>\n",
       "      <td>$179.7 (2021)</td>\n",
       "      <td>87587</td>\n",
       "      <td>2008 Sichuan earthquake</td>\n",
       "      <td>Earthquake</td>\n",
       "      <td>2008</td>\n",
       "      <td>China</td>\n",
       "    </tr>\n",
       "    <tr>\n",
       "      <th>4</th>\n",
       "      <td>$125[11]</td>\n",
       "      <td>$167.4 (2021)</td>\n",
       "      <td>NaN</td>\n",
       "      <td>Hurricane Katrina</td>\n",
       "      <td>Tropical cyclone</td>\n",
       "      <td>2005</td>\n",
       "      <td>United States</td>\n",
       "    </tr>\n",
       "  </tbody>\n",
       "</table>\n",
       "</div>"
      ],
      "text/plain": [
       "    Cost ($billions)                       Fatalities  \\\n",
       "  Unnamed: 0_level_1      (2021)[5]        Fatalities   \n",
       "0                [2]            NaN  4000 - 200000[6]   \n",
       "1      $360[7][8][4]  $423.7 (2021)             19747   \n",
       "2            $197[9]  $344.7 (2021)               NaN   \n",
       "3           $148[10]  $179.7 (2021)             87587   \n",
       "4           $125[11]  $167.4 (2021)               NaN   \n",
       "\n",
       "                                Event  \\\n",
       "                                Event   \n",
       "0              Chernobyl disaster [1]   \n",
       "1  2011 Tōhoku earthquake and tsunami   \n",
       "2            Great Hanshin earthquake   \n",
       "3             2008 Sichuan earthquake   \n",
       "4                   Hurricane Katrina   \n",
       "\n",
       "                                               Type  Year             Nation  \n",
       "                                               Type  Year             Nation  \n",
       "0                       Contamination (Radioactive)  1986  Soviet Union (, )  \n",
       "1  Earthquake, Tsunami, Contamination (Radioactive)  2011              Japan  \n",
       "2                                        Earthquake  1995              Japan  \n",
       "3                                        Earthquake  2008              China  \n",
       "4                                  Tropical cyclone  2005      United States  "
      ]
     },
     "execution_count": 8,
     "metadata": {},
     "output_type": "execute_result"
    }
   ],
   "source": [
    "disasters = tables[0]\n",
    "print(len(disasters))\n",
    "disasters.head()"
   ]
  },
  {
   "cell_type": "markdown",
   "metadata": {
    "tags": []
   },
   "source": [
    "Most of the disasters on the list are natural, including 56 tropical cyclones and other windstorms, 16 earthquakes, 8 wildfires, 8 floods, and 6 tornadoes."
   ]
  },
  {
   "cell_type": "code",
   "execution_count": 9,
   "metadata": {
    "tags": []
   },
   "outputs": [
    {
     "data": {
      "text/plain": [
       "Tropical cyclone                                    49\n",
       "Earthquake                                          16\n",
       "Wildfire                                             8\n",
       "Flood                                                8\n",
       "European windstorm                                   7\n",
       "Tornado                                              6\n",
       "Space flight accident                                3\n",
       "Drought                                              3\n",
       "Hailstorm                                            3\n",
       "Structure failure                                    2\n",
       "Contamination (Oil)                                  2\n",
       "Terror attack                                        2\n",
       "Volcano                                              2\n",
       "Winter storm                                         2\n",
       "Explosion                                            2\n",
       "Contamination (Radioactive)                          1\n",
       "Contamination (Radiation)                            1\n",
       "Maritime disaster                                    1\n",
       "Severe Thunderstorm                                  1\n",
       "Drought, Wildfire                                    1\n",
       "Severe storm                                         1\n",
       "Earthquake, Tsunami, Contamination (Radioactive)     1\n",
       "Earthquake, Tsunami                                  1\n",
       "Winter storm, power outage                           1\n",
       "Fire                                                 1\n",
       "Name: (Type, Type), dtype: int64"
      ]
     },
     "execution_count": 9,
     "metadata": {},
     "output_type": "execute_result"
    }
   ],
   "source": [
    "disasters[\"Type\", \"Type\"].value_counts()"
   ]
  },
  {
   "cell_type": "markdown",
   "metadata": {},
   "source": [
    "Some of the costs are reported as a range, so I compute the midpoints."
   ]
  },
  {
   "cell_type": "code",
   "execution_count": 10,
   "metadata": {
    "tags": []
   },
   "outputs": [
    {
     "data": {
      "text/html": [
       "<div>\n",
       "<style scoped>\n",
       "    .dataframe tbody tr th:only-of-type {\n",
       "        vertical-align: middle;\n",
       "    }\n",
       "\n",
       "    .dataframe tbody tr th {\n",
       "        vertical-align: top;\n",
       "    }\n",
       "\n",
       "    .dataframe thead tr th {\n",
       "        text-align: left;\n",
       "    }\n",
       "</style>\n",
       "<table border=\"1\" class=\"dataframe\">\n",
       "  <thead>\n",
       "    <tr>\n",
       "      <th></th>\n",
       "      <th colspan=\"2\" halign=\"left\">Cost ($billions)</th>\n",
       "      <th>Fatalities</th>\n",
       "      <th>Event</th>\n",
       "      <th>Type</th>\n",
       "      <th>Year</th>\n",
       "      <th>Nation</th>\n",
       "    </tr>\n",
       "    <tr>\n",
       "      <th></th>\n",
       "      <th>Unnamed: 0_level_1</th>\n",
       "      <th>(2021)[5]</th>\n",
       "      <th>Fatalities</th>\n",
       "      <th>Event</th>\n",
       "      <th>Type</th>\n",
       "      <th>Year</th>\n",
       "      <th>Nation</th>\n",
       "    </tr>\n",
       "  </thead>\n",
       "  <tbody>\n",
       "  </tbody>\n",
       "</table>\n",
       "</div>"
      ],
      "text/plain": [
       "Empty DataFrame\n",
       "Columns: [(Cost ($billions), Unnamed: 0_level_1), (Cost ($billions), (2021)[5]), (Fatalities, Fatalities), (Event, Event), (Type, Type), (Year, Year), (Nation, Nation)]\n",
       "Index: []"
      ]
     },
     "execution_count": 10,
     "metadata": {},
     "output_type": "execute_result"
    }
   ],
   "source": [
    "costs = disasters[\"Cost ($billions)\", \"(2021)[5]\"].str.split()\n",
    "costs[0] = 774.9\n",
    "costs[11] = (72.2 + 120.4) / 2\n",
    "costs[13] = (56.9 + 64.4) / 2\n",
    "costs[25] = (32.2 + 199.1) / 2\n",
    "costs[35] = (27.1 + 36.1) / 2\n",
    "costs[44] = (18.3 + 29.8) / 2\n",
    "costs[49] = (10.9 + 16.4) / 2\n",
    "costs[62] = (9.8 + 17.0) / 2\n",
    "costs[111] = (1.8 + 2.8) / 2\n",
    "costs[119] = (4.1 + 5.6) / 2\n",
    "disasters[costs.isna()]"
   ]
  },
  {
   "cell_type": "markdown",
   "metadata": {},
   "source": [
    "Remove the dollar signs and convert to float."
   ]
  },
  {
   "cell_type": "code",
   "execution_count": 11,
   "metadata": {
    "tags": []
   },
   "outputs": [],
   "source": [
    "xs = []\n",
    "for cost in costs:\n",
    "    try:\n",
    "        x = float(cost[0].strip(\"$\"))\n",
    "    except:\n",
    "        x = cost\n",
    "    assert type(x) is float\n",
    "    xs.append(x)\n",
    "\n",
    "xs.sort(reverse=True)"
   ]
  },
  {
   "cell_type": "markdown",
   "metadata": {},
   "source": [
    "Get the magnitudes and ranks"
   ]
  },
  {
   "cell_type": "code",
   "execution_count": 12,
   "metadata": {
    "tags": []
   },
   "outputs": [],
   "source": [
    "mags = np.log10(xs)\n",
    "n = len(mags)\n",
    "ranks = np.arange(1, n + 1)"
   ]
  },
  {
   "cell_type": "markdown",
   "metadata": {
    "tags": []
   },
   "source": [
    "The following figure shows a \"rank-size plot\" of the data: the x-axis shows the ranks of the disasters from 1 to 125, where 1 is the most costly; the y-axis shows their costs in billions of U.S. dollars."
   ]
  },
  {
   "cell_type": "code",
   "execution_count": 13,
   "metadata": {
    "tags": []
   },
   "outputs": [
    {
     "data": {
      "image/png": "[encoded data removed]",
      "text/plain": [
       "<Figure size 450x225 with 1 Axes>"
      ]
     },
     "metadata": {},
     "output_type": "display_data"
    }
   ],
   "source": [
    "plt.plot(ranks, xs)\n",
    "decorate(\n",
    "    xlabel=\"Rank (1 to 125)\",\n",
    "    ylabel=\"Cost (billions of 2021 dollars)\",\n",
    "    xscale=\"log\",\n",
    "    yscale=\"log\",\n",
    "    title=\"Rank-size plot for cost of disasters\",\n",
    ")\n",
    "xticks = [1, 2, 5, 10, 20, 50, 100]\n",
    "yticks = [1, 10, 100, 1000]\n",
    "plt.xticks(xticks, xticks)\n",
    "plt.yticks(yticks, yticks)\n",
    "None"
   ]
  },
  {
   "cell_type": "markdown",
   "metadata": {
    "tags": []
   },
   "source": [
    "With both axes on a log scale, the rank-size plot is a nearly straight line, at least for the top 100 disasters.\n",
    "And the slope of this line is close to 1, which implies that each time we double the rank, we cut the costs by one half.\n",
    "That is, compared to the costliest disaster, the cost of the second-worst is one half; the cost of the fourth-worst is one quarter; the cost of the eighth is one eighth, and so on."
   ]
  },
  {
   "cell_type": "code",
   "execution_count": 14,
   "metadata": {
    "tags": []
   },
   "outputs": [
    {
     "data": {
      "text/plain": [
       "array([ 1.        ,  1.82888836,  4.31218698,  6.70038911, 12.77658697,\n",
       "       31.62857143, 74.50961538])"
      ]
     },
     "execution_count": 14,
     "metadata": {},
     "output_type": "execute_result"
    }
   ],
   "source": [
    "index = np.array([1, 2, 4, 8, 16, 32, 64]) - 1\n",
    "steps = 10 ** mags[index]\n",
    "steps /= steps[0]\n",
    "1 / steps"
   ]
  },
  {
   "cell_type": "markdown",
   "metadata": {
    "tags": []
   },
   "source": [
    "To visualize disaster sizes, I will show the \"tail distribution\", which is the complement of the cumulative distribution function (CDF).\n",
    "The following figure shows the tail distribution of the 125 costliest disasters, on a log scale, along with a lognormal model."
   ]
  },
  {
   "cell_type": "code",
   "execution_count": 15,
   "metadata": {
    "tags": []
   },
   "outputs": [
    {
     "name": "stdout",
     "output_type": "stream",
     "text": [
      "[1.06953525 0.57443729]\n",
      "[1.06953526 0.57443729]\n",
      "[1.06953525 0.57443731]\n",
      "[1.04184348 0.54751447]\n",
      "[1.0418435  0.54751447]\n",
      "[1.04184348 0.54751448]\n",
      "[1.04292832 0.54530397]\n",
      "[1.04292833 0.54530397]\n",
      "[1.04292832 0.54530398]\n",
      "[1.04292544 0.5451708 ]\n",
      "[1.04292546 0.5451708 ]\n",
      "[1.04292544 0.54517081]\n"
     ]
    }
   ],
   "source": [
    "from utils import make_surv, fit_truncated_normal\n",
    "\n",
    "surv = make_surv(mags)\n",
    "mu, sigma = fit_truncated_normal(surv)"
   ]
  },
  {
   "cell_type": "code",
   "execution_count": 16,
   "metadata": {
    "tags": []
   },
   "outputs": [],
   "source": [
    "from utils import truncated_normal_sf\n",
    "\n",
    "low, high = mags.min(), mags.max() * 0.99\n",
    "qs = np.linspace(low, high, 2000)\n",
    "surv_model = truncated_normal_sf(qs, mu, sigma)"
   ]
  },
  {
   "cell_type": "code",
   "execution_count": 17,
   "metadata": {
    "tags": []
   },
   "outputs": [],
   "source": [
    "ylabel = \"Percentage with cost ≥ $x$\"\n",
    "xlabel = \"Cost (billions of 2021 dollars)\"\n",
    "\n",
    "xlabels = [1, 10, 100, 1000]\n",
    "xticks = np.log10(xlabels)\n",
    "\n",
    "yticks = [1, 0.1, 0.01]\n",
    "ylabels = [\"100%\", \"10%\", \"1%\"]"
   ]
  },
  {
   "cell_type": "code",
   "execution_count": 18,
   "metadata": {
    "tags": []
   },
   "outputs": [
    {
     "data": {
      "text/plain": [
       "array([1.  , 0.75, 0.5 , 0.25, 0.  ])"
      ]
     },
     "execution_count": 18,
     "metadata": {},
     "output_type": "execute_result"
    }
   ],
   "source": [
    "yticks = np.linspace(1, 0, 5)\n",
    "ylabels = [\"100%\", \"75%\", \"50%\", \"25%\", \"0%\"]\n",
    "yticks"
   ]
  },
  {
   "cell_type": "code",
   "execution_count": 19,
   "metadata": {
    "tags": []
   },
   "outputs": [
    {
     "data": {
      "image/png": "[encoded data removed]",
      "text/plain": [
       "<Figure size 450x225 with 1 Axes>"
      ]
     },
     "metadata": {},
     "output_type": "display_data"
    }
   ],
   "source": [
    "surv_model.plot(color=\"gray\", alpha=0.4, label=\"Lognormal model\")\n",
    "plot_error_bounds(surv_model, n, color=\"gray\")\n",
    "surv.plot(color=\"C1\", ls=\"--\", label=\"Data\")\n",
    "\n",
    "plt.xticks(xticks, xlabels)\n",
    "plt.yticks(yticks, ylabels)\n",
    "decorate(\n",
    "    xlabel=xlabel, ylabel=ylabel, title=\"Tail distribution of disaster costs, log scale\"\n",
    ")"
   ]
  },
  {
   "cell_type": "code",
   "execution_count": 20,
   "metadata": {
    "tags": []
   },
   "outputs": [
    {
     "data": {
      "text/plain": [
       "array([0.976, 0.544, 0.072])"
      ]
     },
     "execution_count": 20,
     "metadata": {},
     "output_type": "execute_result"
    }
   ],
   "source": [
    "surv([0, 1, 2])"
   ]
  },
  {
   "cell_type": "markdown",
   "metadata": {
    "tags": []
   },
   "source": [
    "The dashed line shows the fraction of disasters that exceed each magnitude of cost.\n",
    "For example, 98% of the disasters exceed a cost of $1 billion, 54% exceed $10 billion, and 7% exceed $100 billion.\n",
    "\n",
    "The gray line shows a lognormal model I chose to fit the data; the shaded area shows how much variation we expect with a sample size of 125.\n",
    "Most of the data fall within the bounds of the shaded area, which means that they are consistent with the lognormal model.\n",
    "\n",
    "However, if you look closely, there are more large-cost disasters than we expect in a lognormal distribution.\n",
    "To see this part of the distribution more clearly, we can plot the y-axis on a log scale; the following figure shows what that looks like."
   ]
  },
  {
   "cell_type": "code",
   "execution_count": 21,
   "metadata": {
    "tags": []
   },
   "outputs": [
    {
     "data": {
      "text/plain": [
       "(15.999999999999897, 1.2081250052975532, 13.243662642392872)"
      ]
     },
     "execution_count": 21,
     "metadata": {},
     "output_type": "execute_result"
    }
   ],
   "source": [
    "x = np.log10(500)\n",
    "y1 = surv(x)\n",
    "y2 = surv_model(x)\n",
    "y1 * 1e3, y2 * 1e3, y1 / y2"
   ]
  },
  {
   "cell_type": "code",
   "execution_count": 22,
   "metadata": {
    "tags": []
   },
   "outputs": [],
   "source": [
    "# The Surv object doesn't interpolate, so y1 ends up too high in this example\n",
    "\n",
    "from scipy.interpolate import interp1d\n",
    "\n",
    "interp = interp1d(surv.index, surv.values, fill_value=\"extrapolate\")\n",
    "y1 = interp(x)"
   ]
  },
  {
   "cell_type": "code",
   "execution_count": 23,
   "metadata": {
    "tags": []
   },
   "outputs": [
    {
     "data": {
      "image/png": "[encoded data removed]",
      "text/plain": [
       "<Figure size 450x225 with 1 Axes>"
      ]
     },
     "metadata": {},
     "output_type": "display_data"
    }
   ],
   "source": [
    "plt.plot([x, x], [y1, y2], ls=\":\", color=\"gray\")\n",
    "\n",
    "surv_model.plot(color=\"gray\", alpha=0.4, label=\"Lognormal model\")\n",
    "plot_error_bounds(surv_model, n, color=\"gray\")\n",
    "surv.plot(color=\"C2\", ls=\"--\", label=\"Data\")\n",
    "plot_error_bounds(surv_model, n, color=\"gray\")\n",
    "plt.xticks(xticks, xlabels)\n",
    "decorate(\n",
    "    xlabel=xlabel,\n",
    "    ylabel=ylabel,\n",
    "    title=\"Tail distribution of disaster costs, log-log scale\",\n",
    "    yscale=\"log\",\n",
    ")\n",
    "\n",
    "yticks = [1, 0.1, 0.01, 0.001]\n",
    "ylabels = [\"100%\", \"10%\", \"1%\", \"0.1%\"]\n",
    "plt.yticks(yticks, ylabels)\n",
    "None"
   ]
  },
  {
   "cell_type": "markdown",
   "metadata": {
    "tags": []
   },
   "source": [
    "Again, the shaded area shows how much variation we expect in a sample of this size from a lognormal model.\n",
    "\n",
    "Now we can see more clearly where the model diverges from the data and by how much.\n",
    "For example, the vertical dotted line shows the discrepancy at $500 billion.\n",
    "According to the model, only 1 out of 1000 disasters should exceed this cost, but the actual rate is 16 per 1000."
   ]
  },
  {
   "cell_type": "markdown",
   "metadata": {
    "tags": []
   },
   "source": [
    "To make better predictions, we need a model that accurately estimates the probability of large disasters.\n",
    "In the literature of long-tailed distributions, there are several to choose from; the one I found that best matches the data is Student's $t$-distribution.\n",
    "\n",
    "The shape of the $t$-distribution is a bell curve similar to a Gaussian, but the tails extend farther to the right and left.\n",
    "It has two parameters that determine the center point and width of the curve, like the Gaussian distribution, plus a third parameter that controls the thickness of the tails, that is, what fraction of the values extend far from the mean.\n",
    "\n",
    "Since I am using a $t$-distribution to fit the logarithms of the values, I'll call the result a log-$t$ model.\n",
    "The following figures shows the distribution of costs again, along with a log-$t$ model I chose to fit the data.\n",
    "In the top figure, the y-axis shows the fraction of disasters on a linear scale;\n",
    "in the bottom figure, the y-axis shows the same fractions on a log scale."
   ]
  },
  {
   "cell_type": "code",
   "execution_count": 24,
   "metadata": {
    "tags": []
   },
   "outputs": [],
   "source": [
    "from utils import minimize_df\n",
    "\n",
    "df = minimize_df(5, surv, [(0, 20)])"
   ]
  },
  {
   "cell_type": "code",
   "execution_count": 25,
   "metadata": {
    "tags": []
   },
   "outputs": [
    {
     "data": {
      "text/plain": [
       "(array([3.52818322]), 1.0165309888563427, 0.48874836748542283)"
      ]
     },
     "execution_count": 25,
     "metadata": {},
     "output_type": "execute_result"
    }
   ],
   "source": [
    "from utils import fit_truncated_t\n",
    "\n",
    "mu, sigma = fit_truncated_t(df, surv)\n",
    "df, mu, sigma"
   ]
  },
  {
   "cell_type": "code",
   "execution_count": 26,
   "metadata": {
    "tags": []
   },
   "outputs": [],
   "source": [
    "from utils import truncated_t_sf\n",
    "\n",
    "low, high = surv.qs.min(), surv.qs.max()\n",
    "qs = np.linspace(low, high, 2000)\n",
    "surv_model2 = truncated_t_sf(qs, df, mu, sigma)"
   ]
  },
  {
   "cell_type": "code",
   "execution_count": 27,
   "metadata": {
    "scrolled": true,
    "tags": []
   },
   "outputs": [
    {
     "data": {
      "image/png": "[encoded data removed]",
      "text/plain": [
       "<Figure size 450x375 with 2 Axes>"
      ]
     },
     "metadata": {},
     "output_type": "display_data"
    }
   ],
   "source": [
    "model_label = \"Log-$t$ model\"\n",
    "ylabel = \"Fraction with cost ≥ x\"\n",
    "yticks = [1, 0.1, 0.01]\n",
    "ylabels = yticks\n",
    "axs = plot_two(\n",
    "    surv,\n",
    "    surv_model2,\n",
    "    n,\n",
    "    hatch=\"/\",\n",
    "    title=\"Tail distribution of disaster costs with log-$t$ model\",\n",
    ")"
   ]
  },
  {
   "cell_type": "markdown",
   "metadata": {
    "tags": []
   },
   "source": [
    "In the top figure, we see that the data fall within the shaded area over the entire range of the distribution.\n",
    "In the bottom figure, we see that the model fits the data well even in the extreme tail.\n",
    "\n",
    "The agreement between the model and the data provides a hint about why the distribution might have this shape.\n",
    "Mathematically, Student's $t$ distribution is a mixture of Gaussian distributions with different standard deviations."
   ]
  },
  {
   "cell_type": "markdown",
   "metadata": {},
   "source": [
    "The following figure was not included in the book, but it shows that if we generate values from Gaussian distributions with different standard deviations (drawn from an inverse gamma distribution), the values follow a *t* distribution."
   ]
  },
  {
   "cell_type": "code",
   "execution_count": 28,
   "metadata": {
    "tags": []
   },
   "outputs": [
    {
     "data": {
      "text/plain": [
       "(0.600800709214161, 0.1717081889593589)"
      ]
     },
     "execution_count": 28,
     "metadata": {},
     "output_type": "execute_result"
    }
   ],
   "source": [
    "from scipy.stats import invgamma\n",
    "\n",
    "np.random.seed(17)\n",
    "\n",
    "a = df\n",
    "sigma = np.sqrt(invgamma(a).rvs(size=125))\n",
    "sigma.mean(), sigma.std()"
   ]
  },
  {
   "cell_type": "code",
   "execution_count": 29,
   "metadata": {
    "tags": []
   },
   "outputs": [],
   "source": [
    "from scipy.stats import norm\n",
    "\n",
    "mu = 1.04\n",
    "sample = norm(mu, sigma).rvs()"
   ]
  },
  {
   "cell_type": "code",
   "execution_count": 30,
   "metadata": {
    "tags": []
   },
   "outputs": [],
   "source": [
    "surv_sample = make_surv(sample[sample > -0.4])"
   ]
  },
  {
   "cell_type": "code",
   "execution_count": 31,
   "metadata": {
    "tags": []
   },
   "outputs": [
    {
     "data": {
      "image/png": "[encoded data removed]",
      "text/plain": [
       "<Figure size 450x375 with 2 Axes>"
      ]
     },
     "metadata": {},
     "output_type": "display_data"
    }
   ],
   "source": [
    "model_label = \"Mix of lognormal\"\n",
    "axs = plot_two(\n",
    "    surv,\n",
    "    surv_sample,\n",
    "    n,\n",
    "    title=\"Tail distribution of distaster costs with lognormal mixture\",\n",
    ")\n",
    "decorate(ylim=[5e-3, 1.1])"
   ]
  },
  {
   "cell_type": "markdown",
   "metadata": {
    "tags": []
   },
   "source": [
    "## Earthquakes\n",
    "\n",
    "To describe the magnitudes of earthquakes, I downloaded data from the Southern California Earthquake Data Center.\n",
    "Their archive goes all the way back to 1932, but the sensors they use and their coverage have changed over that time.\n",
    "For consistency, I selected data from January 1981 to April 2022, which includes records of 791,329 earthquakes.\n",
    "\n",
    "For information on catalog completeness and data sources, see http://www.data.scec.org/about/data_avail.html."
   ]
  },
  {
   "cell_type": "code",
   "execution_count": 32,
   "metadata": {
    "tags": []
   },
   "outputs": [],
   "source": [
    "# This version of quake.csv includes more recent data than the version in the book,\n",
    "# so the results are a little different.\n",
    "\n",
    "filename = \"quake.csv\"\n",
    "download(DATA_PATH + filename)"
   ]
  },
  {
   "cell_type": "code",
   "execution_count": 33,
   "metadata": {
    "tags": []
   },
   "outputs": [
    {
     "data": {
      "text/plain": [
       "(803451, 4)"
      ]
     },
     "execution_count": 33,
     "metadata": {},
     "output_type": "execute_result"
    }
   ],
   "source": [
    "quake_df = pd.read_csv(filename, low_memory=False)\n",
    "quake_df.shape"
   ]
  },
  {
   "cell_type": "code",
   "execution_count": 34,
   "metadata": {
    "tags": []
   },
   "outputs": [
    {
     "data": {
      "text/html": [
       "<div>\n",
       "<style scoped>\n",
       "    .dataframe tbody tr th:only-of-type {\n",
       "        vertical-align: middle;\n",
       "    }\n",
       "\n",
       "    .dataframe tbody tr th {\n",
       "        vertical-align: top;\n",
       "    }\n",
       "\n",
       "    .dataframe thead th {\n",
       "        text-align: right;\n",
       "    }\n",
       "</style>\n",
       "<table border=\"1\" class=\"dataframe\">\n",
       "  <thead>\n",
       "    <tr style=\"text-align: right;\">\n",
       "      <th></th>\n",
       "      <th>#YYY</th>\n",
       "      <th>MM</th>\n",
       "      <th>DD</th>\n",
       "      <th>MAG</th>\n",
       "    </tr>\n",
       "  </thead>\n",
       "  <tbody>\n",
       "    <tr>\n",
       "      <th>0</th>\n",
       "      <td>1981</td>\n",
       "      <td>1</td>\n",
       "      <td>1</td>\n",
       "      <td>2.3</td>\n",
       "    </tr>\n",
       "    <tr>\n",
       "      <th>1</th>\n",
       "      <td>1981</td>\n",
       "      <td>1</td>\n",
       "      <td>1</td>\n",
       "      <td>2.3</td>\n",
       "    </tr>\n",
       "    <tr>\n",
       "      <th>2</th>\n",
       "      <td>1981</td>\n",
       "      <td>1</td>\n",
       "      <td>1</td>\n",
       "      <td>2.4</td>\n",
       "    </tr>\n",
       "    <tr>\n",
       "      <th>3</th>\n",
       "      <td>1981</td>\n",
       "      <td>1</td>\n",
       "      <td>1</td>\n",
       "      <td>1.6</td>\n",
       "    </tr>\n",
       "    <tr>\n",
       "      <th>4</th>\n",
       "      <td>1981</td>\n",
       "      <td>1</td>\n",
       "      <td>1</td>\n",
       "      <td>1.9</td>\n",
       "    </tr>\n",
       "  </tbody>\n",
       "</table>\n",
       "</div>"
      ],
      "text/plain": [
       "   #YYY  MM  DD  MAG\n",
       "0  1981   1   1  2.3\n",
       "1  1981   1   1  2.3\n",
       "2  1981   1   1  2.4\n",
       "3  1981   1   1  1.6\n",
       "4  1981   1   1  1.9"
      ]
     },
     "execution_count": 34,
     "metadata": {},
     "output_type": "execute_result"
    }
   ],
   "source": [
    "quake_df.head()"
   ]
  },
  {
   "cell_type": "code",
   "execution_count": 35,
   "metadata": {
    "tags": []
   },
   "outputs": [
    {
     "data": {
      "text/html": [
       "<div>\n",
       "<style scoped>\n",
       "    .dataframe tbody tr th:only-of-type {\n",
       "        vertical-align: middle;\n",
       "    }\n",
       "\n",
       "    .dataframe tbody tr th {\n",
       "        vertical-align: top;\n",
       "    }\n",
       "\n",
       "    .dataframe thead th {\n",
       "        text-align: right;\n",
       "    }\n",
       "</style>\n",
       "<table border=\"1\" class=\"dataframe\">\n",
       "  <thead>\n",
       "    <tr style=\"text-align: right;\">\n",
       "      <th></th>\n",
       "      <th>#YYY</th>\n",
       "      <th>MM</th>\n",
       "      <th>DD</th>\n",
       "      <th>MAG</th>\n",
       "    </tr>\n",
       "  </thead>\n",
       "  <tbody>\n",
       "    <tr>\n",
       "      <th>803446</th>\n",
       "      <td>2022</td>\n",
       "      <td>12</td>\n",
       "      <td>31</td>\n",
       "      <td>0.5</td>\n",
       "    </tr>\n",
       "    <tr>\n",
       "      <th>803447</th>\n",
       "      <td>2022</td>\n",
       "      <td>12</td>\n",
       "      <td>31</td>\n",
       "      <td>1.0</td>\n",
       "    </tr>\n",
       "    <tr>\n",
       "      <th>803448</th>\n",
       "      <td>2022</td>\n",
       "      <td>12</td>\n",
       "      <td>31</td>\n",
       "      <td>0.9</td>\n",
       "    </tr>\n",
       "    <tr>\n",
       "      <th>803449</th>\n",
       "      <td>2022</td>\n",
       "      <td>12</td>\n",
       "      <td>31</td>\n",
       "      <td>0.6</td>\n",
       "    </tr>\n",
       "    <tr>\n",
       "      <th>803450</th>\n",
       "      <td>2022</td>\n",
       "      <td>12</td>\n",
       "      <td>31</td>\n",
       "      <td>0.6</td>\n",
       "    </tr>\n",
       "  </tbody>\n",
       "</table>\n",
       "</div>"
      ],
      "text/plain": [
       "        #YYY  MM  DD  MAG\n",
       "803446  2022  12  31  0.5\n",
       "803447  2022  12  31  1.0\n",
       "803448  2022  12  31  0.9\n",
       "803449  2022  12  31  0.6\n",
       "803450  2022  12  31  0.6"
      ]
     },
     "execution_count": 35,
     "metadata": {},
     "output_type": "execute_result"
    }
   ],
   "source": [
    "quake_df.tail()"
   ]
  },
  {
   "cell_type": "code",
   "execution_count": 36,
   "metadata": {
    "tags": []
   },
   "outputs": [
    {
     "data": {
      "text/plain": [
       "0"
      ]
     },
     "execution_count": 36,
     "metadata": {},
     "output_type": "execute_result"
    }
   ],
   "source": [
    "year = quake_df[\"#YYY\"] == \"1989\"\n",
    "year.sum()"
   ]
  },
  {
   "cell_type": "code",
   "execution_count": 37,
   "metadata": {
    "tags": []
   },
   "outputs": [
    {
     "data": {
      "text/html": [
       "<div>\n",
       "<style scoped>\n",
       "    .dataframe tbody tr th:only-of-type {\n",
       "        vertical-align: middle;\n",
       "    }\n",
       "\n",
       "    .dataframe tbody tr th {\n",
       "        vertical-align: top;\n",
       "    }\n",
       "\n",
       "    .dataframe thead th {\n",
       "        text-align: right;\n",
       "    }\n",
       "</style>\n",
       "<table border=\"1\" class=\"dataframe\">\n",
       "  <thead>\n",
       "    <tr style=\"text-align: right;\">\n",
       "      <th></th>\n",
       "      <th>#YYY</th>\n",
       "      <th>MM</th>\n",
       "      <th>DD</th>\n",
       "      <th>MAG</th>\n",
       "    </tr>\n",
       "  </thead>\n",
       "  <tbody>\n",
       "    <tr>\n",
       "      <th>102346</th>\n",
       "      <td>1987</td>\n",
       "      <td>11</td>\n",
       "      <td>24</td>\n",
       "      <td>6.2</td>\n",
       "    </tr>\n",
       "    <tr>\n",
       "      <th>163645</th>\n",
       "      <td>1992</td>\n",
       "      <td>6</td>\n",
       "      <td>28</td>\n",
       "      <td>6.3</td>\n",
       "    </tr>\n",
       "    <tr>\n",
       "      <th>674787</th>\n",
       "      <td>2019</td>\n",
       "      <td>7</td>\n",
       "      <td>4</td>\n",
       "      <td>6.4</td>\n",
       "    </tr>\n",
       "    <tr>\n",
       "      <th>408783</th>\n",
       "      <td>2003</td>\n",
       "      <td>12</td>\n",
       "      <td>22</td>\n",
       "      <td>6.5</td>\n",
       "    </tr>\n",
       "    <tr>\n",
       "      <th>102647</th>\n",
       "      <td>1987</td>\n",
       "      <td>11</td>\n",
       "      <td>24</td>\n",
       "      <td>6.6</td>\n",
       "    </tr>\n",
       "    <tr>\n",
       "      <th>224869</th>\n",
       "      <td>1994</td>\n",
       "      <td>1</td>\n",
       "      <td>17</td>\n",
       "      <td>6.7</td>\n",
       "    </tr>\n",
       "    <tr>\n",
       "      <th>335296</th>\n",
       "      <td>1999</td>\n",
       "      <td>10</td>\n",
       "      <td>16</td>\n",
       "      <td>7.1</td>\n",
       "    </tr>\n",
       "    <tr>\n",
       "      <th>678320</th>\n",
       "      <td>2019</td>\n",
       "      <td>7</td>\n",
       "      <td>6</td>\n",
       "      <td>7.1</td>\n",
       "    </tr>\n",
       "    <tr>\n",
       "      <th>492576</th>\n",
       "      <td>2010</td>\n",
       "      <td>4</td>\n",
       "      <td>4</td>\n",
       "      <td>7.2</td>\n",
       "    </tr>\n",
       "    <tr>\n",
       "      <th>163589</th>\n",
       "      <td>1992</td>\n",
       "      <td>6</td>\n",
       "      <td>28</td>\n",
       "      <td>7.3</td>\n",
       "    </tr>\n",
       "  </tbody>\n",
       "</table>\n",
       "</div>"
      ],
      "text/plain": [
       "        #YYY  MM  DD  MAG\n",
       "102346  1987  11  24  6.2\n",
       "163645  1992   6  28  6.3\n",
       "674787  2019   7   4  6.4\n",
       "408783  2003  12  22  6.5\n",
       "102647  1987  11  24  6.6\n",
       "224869  1994   1  17  6.7\n",
       "335296  1999  10  16  7.1\n",
       "678320  2019   7   6  7.1\n",
       "492576  2010   4   4  7.2\n",
       "163589  1992   6  28  7.3"
      ]
     },
     "execution_count": 37,
     "metadata": {},
     "output_type": "execute_result"
    }
   ],
   "source": [
    "quake_df.sort_values(by=\"MAG\").tail(10)"
   ]
  },
  {
   "cell_type": "code",
   "execution_count": 38,
   "metadata": {
    "tags": []
   },
   "outputs": [
    {
     "data": {
      "text/plain": [
       "count    803451.000000\n",
       "mean          1.388616\n",
       "std           0.658252\n",
       "min           0.000000\n",
       "25%           0.900000\n",
       "50%           1.300000\n",
       "75%           1.800000\n",
       "max           7.300000\n",
       "Name: MAG, dtype: float64"
      ]
     },
     "execution_count": 38,
     "metadata": {},
     "output_type": "execute_result"
    }
   ],
   "source": [
    "mags = quake_df[\"MAG\"]\n",
    "mags.describe()"
   ]
  },
  {
   "cell_type": "code",
   "execution_count": 39,
   "metadata": {
    "tags": []
   },
   "outputs": [
    {
     "data": {
      "text/plain": [
       "0.8159564180018446"
      ]
     },
     "execution_count": 39,
     "metadata": {},
     "output_type": "execute_result"
    }
   ],
   "source": [
    "(mags < 2).mean()"
   ]
  },
  {
   "cell_type": "code",
   "execution_count": 40,
   "metadata": {
    "tags": []
   },
   "outputs": [
    {
     "data": {
      "text/plain": [
       "count       40.000000\n",
       "mean     19397.050000\n",
       "std      11049.695313\n",
       "min      10092.000000\n",
       "25%      13467.500000\n",
       "50%      16186.000000\n",
       "75%      20463.000000\n",
       "max      63571.000000\n",
       "Name: MAG, dtype: float64"
      ]
     },
     "execution_count": 40,
     "metadata": {},
     "output_type": "execute_result"
    }
   ],
   "source": [
    "quake_df.groupby(\"#YYY\")[\"MAG\"].count().iloc[1:-1].describe()"
   ]
  },
  {
   "cell_type": "code",
   "execution_count": 41,
   "metadata": {
    "tags": []
   },
   "outputs": [
    {
     "data": {
      "text/plain": [
       "803451"
      ]
     },
     "execution_count": 41,
     "metadata": {},
     "output_type": "execute_result"
    }
   ],
   "source": [
    "n = mags.count()\n",
    "n"
   ]
  },
  {
   "cell_type": "code",
   "execution_count": 42,
   "metadata": {
    "tags": []
   },
   "outputs": [],
   "source": [
    "surv = make_surv(mags)"
   ]
  },
  {
   "cell_type": "code",
   "execution_count": 43,
   "metadata": {
    "tags": []
   },
   "outputs": [
    {
     "name": "stdout",
     "output_type": "stream",
     "text": [
      "[1.4886069  0.65822187]\n",
      "[1.48860692 0.65822187]\n",
      "[1.4886069  0.65822189]\n",
      "[1.37983943 0.66707183]\n",
      "[1.37983946 0.66707183]\n",
      "[1.37983943 0.66707185]\n",
      "[1.38099765 0.65403304]\n",
      "[1.38099767 0.65403304]\n",
      "[1.38099765 0.65403306]\n",
      "[1.38080268 0.6540289 ]\n",
      "[1.3808027 0.6540289]\n",
      "[1.38080268 0.65402891]\n"
     ]
    }
   ],
   "source": [
    "mu, sigma = fit_truncated_normal(surv)"
   ]
  },
  {
   "cell_type": "code",
   "execution_count": 44,
   "metadata": {
    "tags": []
   },
   "outputs": [],
   "source": [
    "low, high = mags.min(), mags.max() * 0.99\n",
    "qs = np.linspace(low, high, 2000)\n",
    "surv_model = truncated_normal_sf(qs, mu, sigma)"
   ]
  },
  {
   "cell_type": "markdown",
   "metadata": {
    "tags": []
   },
   "source": [
    "The following figure shows the distribution of moment magnitudes compared to a Gaussian model, which is a lognormal model in terms of energy."
   ]
  },
  {
   "cell_type": "code",
   "execution_count": 45,
   "metadata": {
    "tags": []
   },
   "outputs": [],
   "source": [
    "x = 4\n",
    "y1 = surv(x)\n",
    "y2 = surv_model(x)"
   ]
  },
  {
   "cell_type": "code",
   "execution_count": 46,
   "metadata": {
    "tags": []
   },
   "outputs": [],
   "source": [
    "xlabel = \"Magnitude (log energy)\"\n",
    "ylabel = \"Fraction with magnitude ≥ $x$\"\n",
    "xticks = np.arange(8)\n",
    "xlabels = xticks\n",
    "yticks = [1, 0.1, 0.01, 1e-3, 1e-4, 1e-5, 1e-6, 1e-7]\n",
    "ylabels = [1, 0.1, 0.01, 0.001, \"$10^{-4}$\", \"$10^{-5}$\", \"$10^{-6}$\", \"$10^{-7}$\"]"
   ]
  },
  {
   "cell_type": "code",
   "execution_count": 47,
   "metadata": {
    "tags": []
   },
   "outputs": [
    {
     "data": {
      "image/png": "[encoded data removed]",
      "text/plain": [
       "<Figure size 450x375 with 2 Axes>"
      ]
     },
     "metadata": {},
     "output_type": "display_data"
    }
   ],
   "source": [
    "model_label = \"Lognormal model\"\n",
    "cutoff = surv_model > 2e-7\n",
    "axs = plot_two(\n",
    "    surv,\n",
    "    surv_model[cutoff],\n",
    "    n,\n",
    "    title=\"Tail distribution of earthquake magnitudes with lognormal model\",\n",
    ")\n",
    "plt.plot([x, x], [y1, y2], ls=\":\", color=\"gray\")\n",
    "\n",
    "plt.tight_layout()"
   ]
  },
  {
   "cell_type": "markdown",
   "metadata": {
    "tags": []
   },
   "source": [
    "If you only look at the top figure, you might think the lognormal model is good enough.\n",
    "But the probabilities for magnitudes greater than 3 are so small that differences between the model and the data are not visible.\n",
    "\n",
    "The bottom figure, with the y-axis on a log scale, shows the tail more clearly.\n",
    "Here we can see that the lognormal model drops off more quickly than the data.\n",
    "According to the model, the fraction of earthquakes with magnitude 4 or more should be about 33 per million.\n",
    "But the actual fraction of earthquakes this big is about 1800 per million, more than 50 times higher.\n",
    "\n",
    "For larger earthquakes, the discrepancy is even bigger.\n",
    "According to the model, fewer than one earthquake in a million should exceed magnitude 5; in reality, about 170 per million do.\n",
    "If your job is to predict large earthquakes, and you underestimate their frequency by a factor of 170, you are in trouble.\n",
    "\n",
    "The following figures show the same distribution compared to a log-$t$ model."
   ]
  },
  {
   "cell_type": "code",
   "execution_count": 48,
   "metadata": {
    "tags": []
   },
   "outputs": [
    {
     "data": {
      "text/plain": [
       "(1784.8008154824963, 31.89727060082917, 55.95465636599328)"
      ]
     },
     "execution_count": 48,
     "metadata": {},
     "output_type": "execute_result"
    }
   ],
   "source": [
    "y1 * 1e6, y2 * 1e6, y1 / y2"
   ]
  },
  {
   "cell_type": "code",
   "execution_count": 49,
   "metadata": {
    "tags": []
   },
   "outputs": [
    {
     "data": {
      "text/plain": [
       "(168.02518137406247, 0.15958926162570078)"
      ]
     },
     "execution_count": 49,
     "metadata": {},
     "output_type": "execute_result"
    }
   ],
   "source": [
    "x = 5\n",
    "surv(x) * 1e6, surv_model(x) * 1e7"
   ]
  },
  {
   "cell_type": "code",
   "execution_count": 50,
   "metadata": {
    "tags": []
   },
   "outputs": [
    {
     "data": {
      "text/plain": [
       "(6.223154865724416, 4.406281526550607)"
      ]
     },
     "execution_count": 50,
     "metadata": {},
     "output_type": "execute_result"
    }
   ],
   "source": [
    "x = 7\n",
    "surv(x) * 1e6, surv_model(x) * 1e18\n",
    "\n",
    "# 6.318484473557436, 4.618502751454663"
   ]
  },
  {
   "cell_type": "code",
   "execution_count": 51,
   "metadata": {
    "tags": []
   },
   "outputs": [
    {
     "data": {
      "text/plain": [
       "(array([9.07638595]), 1.3634555604788354, 0.6375531962765731)"
      ]
     },
     "execution_count": 51,
     "metadata": {},
     "output_type": "execute_result"
    }
   ],
   "source": [
    "df = minimize_df(10, surv, [(0, 20)])\n",
    "mu, sigma = fit_truncated_t(df, surv)\n",
    "df, mu, sigma"
   ]
  },
  {
   "cell_type": "code",
   "execution_count": 52,
   "metadata": {
    "tags": []
   },
   "outputs": [],
   "source": [
    "from scipy.stats import t as t_dist\n",
    "\n",
    "y7, y8, y9 = t_dist(df, mu, sigma).sf([7, 8, 9])"
   ]
  },
  {
   "cell_type": "code",
   "execution_count": 53,
   "metadata": {
    "tags": []
   },
   "outputs": [
    {
     "data": {
      "text/plain": [
       "19129.785714285714"
      ]
     },
     "execution_count": 53,
     "metadata": {},
     "output_type": "execute_result"
    }
   ],
   "source": [
    "quakes_per_year = quake_df.groupby(\"#YYY\")[\"MAG\"].count().mean()\n",
    "quakes_per_year"
   ]
  },
  {
   "cell_type": "code",
   "execution_count": 54,
   "metadata": {
    "tags": []
   },
   "outputs": [
    {
     "data": {
      "text/plain": [
       "1.0014272197675095e-07"
      ]
     },
     "execution_count": 54,
     "metadata": {},
     "output_type": "execute_result"
    }
   ],
   "source": [
    "y522 = 1 / 522 / quakes_per_year\n",
    "y522"
   ]
  },
  {
   "cell_type": "code",
   "execution_count": 55,
   "metadata": {
    "tags": []
   },
   "outputs": [],
   "source": [
    "low, high = surv.qs.min(), surv.qs.max()\n",
    "qs = np.linspace(low, 1.1 * high, 2000)\n",
    "surv_model2 = truncated_t_sf(qs, df, mu, sigma)"
   ]
  },
  {
   "cell_type": "code",
   "execution_count": 56,
   "metadata": {
    "scrolled": true,
    "tags": []
   },
   "outputs": [
    {
     "data": {
      "image/png": "[encoded data removed]",
      "text/plain": [
       "<Figure size 450x375 with 2 Axes>"
      ]
     },
     "metadata": {},
     "output_type": "display_data"
    }
   ],
   "source": [
    "model_label = \"Log-$t$ model\"\n",
    "xticks = np.arange(9)\n",
    "xlabels = xticks\n",
    "axs = plot_two(\n",
    "    surv,\n",
    "    surv_model2,\n",
    "    n,\n",
    "    hatch=\"/\",\n",
    "    title=\"Tail distribution of earthquake magnitudes with log-$t$ model\",\n",
    ")\n",
    "plt.plot(8, y8, \"s\", color=\"C0\", alpha=0.6)\n",
    "plt.plot(8, y522, \"o\", color=\"C1\", alpha=0.6)\n",
    "\n",
    "plt.tight_layout()"
   ]
  },
  {
   "cell_type": "markdown",
   "metadata": {
    "tags": []
   },
   "source": [
    "The top figure shows that the log-$t$ model fits the distribution well for magnitudes less than 3.\n",
    "The bottom figure shows that it also fits the tail of the distribution.\n",
    "\n",
    "If we extrapolate beyond the data, we can use this model to compute the probability of earthquakes larger than the ones we have seen so far.\n",
    "For example, the square marker shows the predicted probability of an earthquake with magnitude 8, which is about 1.2 per million."
   ]
  },
  {
   "cell_type": "code",
   "execution_count": 57,
   "metadata": {
    "tags": []
   },
   "outputs": [
    {
     "data": {
      "text/plain": [
       "1.197711991166678"
      ]
     },
     "execution_count": 57,
     "metadata": {},
     "output_type": "execute_result"
    }
   ],
   "source": [
    "y8 * 1e6"
   ]
  },
  {
   "cell_type": "code",
   "execution_count": 58,
   "metadata": {
    "tags": []
   },
   "outputs": [
    {
     "data": {
      "text/plain": [
       "43.64530142254315"
      ]
     },
     "execution_count": 58,
     "metadata": {},
     "output_type": "execute_result"
    }
   ],
   "source": [
    "1 / quakes_per_year / y8"
   ]
  },
  {
   "cell_type": "markdown",
   "metadata": {
    "tags": []
   },
   "source": [
    "The number of earthquakes in this dataset is about 18,800 per year; at that rate we should expect an earthquake that exceeds magnitude 8 every 43 years, on average.\n",
    "To see how credible that expectation is, let's compare it to predictions from sources more knowledgeable than me.\n",
    "\n",
    "In 2015, the U.S. Geological Survey (USGS) published the third revision of the Uniform California Earthquake Rupture Forecast (UCERF3).\n",
    "It predicts that we should expect earthquakes in Southern California that exceed magnitude 8 at a rate of one per 522 years.\n",
    "The circle marker in the figure shows the corresponding probability.\n",
    "\n",
    "Their forecast is compatible with mine in the sense that it falls within the shaded area that represents the uncertainty of the model.\n",
    "In other words, my model concedes that the predicted probability of a magnitude 8 earthquake could be off by a factor of 10, based on the data we have.\n",
    "Nevertheless, if you own a building in California, or provide insurance for one, a factor of 10 is a big difference.\n",
    "So you might wonder which model to believe, theirs or mine.\n",
    "\n",
    "To find out, let's see how their predictions from 2015 have turned out so far.\n",
    "For comparison, I ran the log-$t$ model again using only data from prior to 2015.\n",
    "The following figure shows their predictions, mine, and the actual number of earthquakes that exceeded each magnitude in the 7.3 years between January 2015 and May 2022."
   ]
  },
  {
   "cell_type": "code",
   "execution_count": 59,
   "metadata": {
    "tags": []
   },
   "outputs": [],
   "source": [
    "# https://pubs.usgs.gov/fs/2015/3009/pdf/fs2015-3009.pdf"
   ]
  },
  {
   "cell_type": "code",
   "execution_count": 60,
   "metadata": {
    "tags": []
   },
   "outputs": [
    {
     "data": {
      "text/plain": [
       "17524.264705882353"
      ]
     },
     "execution_count": 60,
     "metadata": {},
     "output_type": "execute_result"
    }
   ],
   "source": [
    "prefix = quake_df[\"#YYY\"].astype(int) < 2015\n",
    "quakes_per_year = quake_df.loc[prefix].groupby(\"#YYY\")[\"MAG\"].count().mean()\n",
    "quakes_per_year"
   ]
  },
  {
   "cell_type": "code",
   "execution_count": 61,
   "metadata": {
    "tags": []
   },
   "outputs": [],
   "source": [
    "mags = quake_df.loc[prefix, \"MAG\"]\n",
    "surv = make_surv(mags)"
   ]
  },
  {
   "cell_type": "code",
   "execution_count": 62,
   "metadata": {
    "tags": []
   },
   "outputs": [
    {
     "data": {
      "text/plain": [
       "(array([8.41547487]), 1.4816444227124799, 0.602683958103169)"
      ]
     },
     "execution_count": 62,
     "metadata": {},
     "output_type": "execute_result"
    }
   ],
   "source": [
    "df = minimize_df(10, surv, [(0, 20)])\n",
    "mu, sigma = fit_truncated_t(df, surv)\n",
    "df, mu, sigma"
   ]
  },
  {
   "cell_type": "code",
   "execution_count": 63,
   "metadata": {
    "tags": []
   },
   "outputs": [
    {
     "data": {
      "text/plain": [
       "5.0    30.541667\n",
       "6.0     3.186957\n",
       "6.7     0.610833\n",
       "7.0     0.293200\n",
       "7.5     0.084253\n",
       "8.0     0.014042\n",
       "dtype: float64"
      ]
     },
     "execution_count": 63,
     "metadata": {},
     "output_type": "execute_result"
    }
   ],
   "source": [
    "# convert UCERF predictions to quakes per 7.33 years\n",
    "\n",
    "pred_years = 7.33\n",
    "ucerf = pred_years / pd.Series([0.24, 2.3, 12, 25, 87, 522], [5, 6, 6.7, 7, 7.5, 8])\n",
    "ucerf"
   ]
  },
  {
   "cell_type": "code",
   "execution_count": 64,
   "metadata": {
    "tags": []
   },
   "outputs": [
    {
     "data": {
      "text/plain": [
       "5.0    20.567019\n",
       "6.0     3.414845\n",
       "6.7     1.152932\n",
       "7.0     0.750355\n",
       "7.5     0.382366\n",
       "8.0     0.204125\n",
       "dtype: float64"
      ]
     },
     "execution_count": 64,
     "metadata": {},
     "output_type": "execute_result"
    }
   ],
   "source": [
    "# convert log-t predictions to quakes per 7.33 years\n",
    "\n",
    "a = t_dist(df, mu, sigma).sf(ucerf.index) * quakes_per_year * pred_years\n",
    "logt = pd.Series(a, ucerf.index)\n",
    "logt"
   ]
  },
  {
   "cell_type": "code",
   "execution_count": 65,
   "metadata": {
    "tags": []
   },
   "outputs": [
    {
     "data": {
      "text/plain": [
       "(207626, 128452.86029411765)"
      ]
     },
     "execution_count": 65,
     "metadata": {},
     "output_type": "execute_result"
    }
   ],
   "source": [
    "# get the actual number of quakes since 2015\n",
    "\n",
    "suffix = quake_df[\"#YYY\"].astype(int) >= 2015\n",
    "suffix.sum(), quakes_per_year * pred_years"
   ]
  },
  {
   "cell_type": "code",
   "execution_count": 66,
   "metadata": {
    "tags": []
   },
   "outputs": [
    {
     "data": {
      "text/plain": [
       "5.0    10.0\n",
       "5.3     7.0\n",
       "5.7     3.0\n",
       "6.0     2.0\n",
       "6.3     2.0\n",
       "6.7     1.0\n",
       "7.0     1.0\n",
       "dtype: float64"
      ]
     },
     "execution_count": 66,
     "metadata": {},
     "output_type": "execute_result"
    }
   ],
   "source": [
    "mags = quake_df.loc[suffix, \"MAG\"]\n",
    "actual = pd.Series(index=[5, 5.3, 5.7, 6, 6.3, 6.7, 7], dtype=float)\n",
    "for thresh in actual.index:\n",
    "    actual[thresh] = (mags > thresh).sum()\n",
    "actual"
   ]
  },
  {
   "cell_type": "code",
   "execution_count": 67,
   "metadata": {
    "tags": []
   },
   "outputs": [
    {
     "data": {
      "image/png": "[encoded data removed]",
      "text/plain": [
       "<Figure size 450x225 with 1 Axes>"
      ]
     },
     "metadata": {},
     "output_type": "display_data"
    }
   ],
   "source": [
    "x = actual[:7].index\n",
    "y = actual[:7].values\n",
    "plt.bar(x, y, width=0.2, color=\"gray\", alpha=0.3, label=\"actual\")\n",
    "logt[:7].plot(style=\"s:\", alpha=0.6, label=\"log-$t$\")\n",
    "ucerf[:7].plot(style=\"o--\", alpha=0.6, label=\"UCERF3\")\n",
    "\n",
    "decorate(xlabel=xlabel, ylabel=\"Number of quakes\", yscale=\"log\")\n",
    "plt.xticks(actual[:7].index)\n",
    "yticks = [20, 10, 5, 2, 1, 0.5]\n",
    "ylabels = yticks\n",
    "plt.yticks(yticks, yticks)\n",
    "None"
   ]
  },
  {
   "cell_type": "markdown",
   "metadata": {
    "tags": []
   },
   "source": [
    "Starting on the left, the UCERF model predicted that there would be 30 earthquakes in this interval with magnitude 5.0 or more.\n",
    "The log-$t$ model predicted 20.\n",
    "In fact, there were 10.\n",
    "So there were fewer large earthquakes than either model predicted.\n",
    "\n",
    "Near the middle of the figure, both models predicted 3 earthquakes with magnitude 6.0 or more.\n",
    "In fact, there were two, so both models were close.\n",
    "\n",
    "On the right, the UCERF model expects 0.3 earthquakes with magnitude 7.0 or more in 7.3 years.\n",
    "The log-$t$ expects 0.8 earthquakes of this size in the same interval.\n",
    "In fact, there was one: the main shock of the 2019 Ridgecrest earthquake sequence measured 7.1."
   ]
  },
  {
   "cell_type": "code",
   "execution_count": 68,
   "metadata": {
    "tags": []
   },
   "outputs": [],
   "source": [
    "# https://en.wikipedia.org/wiki/2019_Ridgecrest_earthquakes"
   ]
  },
  {
   "cell_type": "code",
   "execution_count": 69,
   "metadata": {
    "tags": []
   },
   "outputs": [
    {
     "data": {
      "text/plain": [
       "5.0      0.24\n",
       "6.0      2.30\n",
       "6.7     12.00\n",
       "7.0     25.00\n",
       "7.5     87.00\n",
       "8.0    522.00\n",
       "dtype: float64"
      ]
     },
     "execution_count": 69,
     "metadata": {},
     "output_type": "execute_result"
    }
   ],
   "source": [
    "1 / (ucerf / 7.33)"
   ]
  },
  {
   "cell_type": "code",
   "execution_count": 70,
   "metadata": {
    "tags": []
   },
   "outputs": [
    {
     "data": {
      "text/plain": [
       "5.0     0.356396\n",
       "6.0     2.146510\n",
       "6.7     6.357705\n",
       "7.0     9.768712\n",
       "7.5    19.170102\n",
       "8.0    35.909362\n",
       "dtype: float64"
      ]
     },
     "execution_count": 70,
     "metadata": {},
     "output_type": "execute_result"
    }
   ],
   "source": [
    "1 / (logt / 7.33)"
   ]
  },
  {
   "cell_type": "markdown",
   "metadata": {
    "tags": []
   },
   "source": [
    "The discrepancy between the two models increases for larger earthquakes.\n",
    "The UCERF model estimates 87 years between earthquakes that exceed 7.5; the log-$t$ model estimates only 19.\n",
    "The UCERF model estimates 522 years between earthquakes that exceed 8.0; the log-$t$ model estimates only 36."
   ]
  },
  {
   "cell_type": "markdown",
   "metadata": {
    "tags": []
   },
   "source": [
    "## Solar Flares\n",
    "\n",
    "The Space Weather Prediction Center (SWPC) monitors and predicts solar activity and its effects on Earth.\n",
    "Since 1974 it has operated the Geostationary Operational Environmental Satellite system (GOES).\n",
    "Several of the satellites in this system carry sensors that measure solar flares.\n",
    "Data from these sensors, going back to 1975, is available for download.\n",
    "\n",
    "Since 1997, these datasets include \"integrated flux\" -- the kind of term science fiction writers love -- which measures the total energy from a solar flare that would pass through a given area.\n",
    "The magnitude of this flux is one way to quantify its potential for impact on Earth.\n",
    "This dataset includes measurements from more than 36,000 solar flares.\n",
    "The following figure shows the distribution of their magnitudes compared to a lognormal model."
   ]
  },
  {
   "cell_type": "code",
   "execution_count": 71,
   "metadata": {
    "tags": []
   },
   "outputs": [],
   "source": [
    "# Kurtzgesagt https://www.youtube.com/watch?v=oHHSSJDJ4oo"
   ]
  },
  {
   "cell_type": "code",
   "execution_count": 72,
   "metadata": {},
   "outputs": [],
   "source": [
    "filename = \"flares.csv\"\n",
    "download(DATA_PATH + filename)"
   ]
  },
  {
   "cell_type": "code",
   "execution_count": 73,
   "metadata": {
    "tags": []
   },
   "outputs": [
    {
     "data": {
      "text/plain": [
       "(36560,)"
      ]
     },
     "execution_count": 73,
     "metadata": {},
     "output_type": "execute_result"
    }
   ],
   "source": [
    "flares_df = pd.read_csv(filename, header=None)\n",
    "flares = flares_df[0]\n",
    "flares.shape"
   ]
  },
  {
   "cell_type": "code",
   "execution_count": 74,
   "metadata": {
    "jupyter": {
     "source_hidden": true
    },
    "tags": []
   },
   "outputs": [
    {
     "data": {
      "text/plain": [
       "count    36560.000000\n",
       "mean        -3.058657\n",
       "std          0.691503\n",
       "min         -5.022276\n",
       "25%         -3.537602\n",
       "50%         -3.080922\n",
       "75%         -2.619789\n",
       "max          0.414973\n",
       "Name: 0, dtype: float64"
      ]
     },
     "execution_count": 74,
     "metadata": {},
     "output_type": "execute_result"
    }
   ],
   "source": [
    "mags = np.log10(flares)\n",
    "mags.describe()"
   ]
  },
  {
   "cell_type": "code",
   "execution_count": 75,
   "metadata": {
    "tags": []
   },
   "outputs": [
    {
     "data": {
      "text/plain": [
       "36560"
      ]
     },
     "execution_count": 75,
     "metadata": {},
     "output_type": "execute_result"
    }
   ],
   "source": [
    "n = mags.count()\n",
    "n"
   ]
  },
  {
   "cell_type": "code",
   "execution_count": 76,
   "metadata": {
    "tags": []
   },
   "outputs": [],
   "source": [
    "surv = make_surv(mags)"
   ]
  },
  {
   "cell_type": "code",
   "execution_count": 77,
   "metadata": {
    "tags": []
   },
   "outputs": [
    {
     "name": "stdout",
     "output_type": "stream",
     "text": [
      "[-3.04210098  0.69157612]\n",
      "[-3.04210102  0.69157612]\n",
      "[-3.04210098  0.69157613]\n",
      "[-3.07381192  0.68338837]\n",
      "[-3.07381197  0.68338837]\n",
      "[-3.07381192  0.68338839]\n",
      "[-3.07353795  0.68244261]\n",
      "[-3.073538    0.68244261]\n",
      "[-3.07353795  0.68244262]\n"
     ]
    }
   ],
   "source": [
    "mu, sigma = fit_truncated_normal(surv)"
   ]
  },
  {
   "cell_type": "code",
   "execution_count": 78,
   "metadata": {
    "tags": []
   },
   "outputs": [],
   "source": [
    "low, high = mags.min(), mags.max() * 0.99\n",
    "qs = np.linspace(low, high, 2000)\n",
    "surv_model = truncated_normal_sf(qs, mu, sigma)"
   ]
  },
  {
   "cell_type": "code",
   "execution_count": 79,
   "metadata": {
    "tags": []
   },
   "outputs": [],
   "source": [
    "xlabel = \"Integrated flux (Joules / square meter)\"\n",
    "ylabel = \"Fraction with flux ≥ $x$\"\n",
    "xticks = np.arange(-5, 1)\n",
    "xlabels = [\"$10^{-5}$\", \"$10^{-4}$\", 0.001, 0.01, 0.1, 1]\n",
    "yticks = [1, 0.1, 0.01, 1e-3, 1e-4, 1e-5, 1e-6]\n",
    "ylabels = [1, 0.1, 0.01, 0.001, \"$10^{-4}$\", \"$10^{-5}$\", \"$10^{-6}$\"]"
   ]
  },
  {
   "cell_type": "code",
   "execution_count": 80,
   "metadata": {
    "tags": []
   },
   "outputs": [
    {
     "data": {
      "text/plain": [
       "(2.6, 9.5e-06, 273684.2105263158)"
      ]
     },
     "execution_count": 80,
     "metadata": {},
     "output_type": "execute_result"
    }
   ],
   "source": [
    "flares.max(), flares.min(), flares.max() / flares.min()"
   ]
  },
  {
   "cell_type": "code",
   "execution_count": 81,
   "metadata": {
    "tags": []
   },
   "outputs": [],
   "source": [
    "cutoff = surv_model > 1e-6"
   ]
  },
  {
   "cell_type": "code",
   "execution_count": 82,
   "metadata": {
    "tags": []
   },
   "outputs": [
    {
     "data": {
      "text/plain": [
       "(218.81838074390188, 3.399179292255981, 64.37388614434505)"
      ]
     },
     "execution_count": 82,
     "metadata": {},
     "output_type": "execute_result"
    }
   ],
   "source": [
    "x = 0\n",
    "y1 = surv(x)\n",
    "y2 = surv_model(x)\n",
    "y1 * 1e6, y2 * 1e6, y1 / y2"
   ]
  },
  {
   "cell_type": "code",
   "execution_count": 83,
   "metadata": {
    "tags": []
   },
   "outputs": [
    {
     "data": {
      "image/png": "[encoded data removed]",
      "text/plain": [
       "<Figure size 450x375 with 2 Axes>"
      ]
     },
     "metadata": {},
     "output_type": "display_data"
    }
   ],
   "source": [
    "model_label = \"Lognormal Model\"\n",
    "axs = plot_two(\n",
    "    surv, surv_model[cutoff], n, \n",
    "    title=\"Tail distribution of solar flare flux with lognormal model\"\n",
    ")\n",
    "lines = plt.plot([x, x], [y1, y2], ls=\":\", color=\"gray\")"
   ]
  },
  {
   "cell_type": "markdown",
   "metadata": {
    "tags": []
   },
   "source": [
    "The x-axis shows integrated flux on a log scale; the largest flare observed during this period measured 2.6 Joules per square meter on September 7, 2005.\n",
    "By itself, that number might not mean much, but it is almost a million times bigger than the smallest flare.\n",
    "So the thing to appreciate here is the great range of magnitudes.\n",
    "\n",
    "Looking at the top figure, it seems like the lognormal model fits the data well.\n",
    "But for fluxes greater than 0.1 Joules per square meter, the probabilities are so small they are indistinguishable.\n",
    "\n",
    "Looking at the bottom figure, we can see that for fluxes in this range, the lognormal model underestimates the probabilities.\n",
    "For example, according to the model, the fraction of flares with flux greater than 1 should be about 3 per million; in the dataset, it is about 200 per million.\n",
    "The dotted line in the figure shows this difference."
   ]
  },
  {
   "cell_type": "markdown",
   "metadata": {
    "tags": []
   },
   "source": [
    "If we are only interested in flares with flux less than 0.01, the lognormal model might be good enough.\n",
    "But for predicting the effect of space weather on Earth, it is the largest flares we care about, and for those the lognormal model might be dangerously inaccurate.\n",
    "\n",
    "Let's see if the log-$t$ model does any better.\n",
    "The following figures show the distribution of fluxes again, along with a log-$t$ distribution."
   ]
  },
  {
   "cell_type": "code",
   "execution_count": 84,
   "metadata": {
    "tags": []
   },
   "outputs": [],
   "source": [
    "df = minimize_df(10, surv, [(0, 20)])"
   ]
  },
  {
   "cell_type": "code",
   "execution_count": 85,
   "metadata": {
    "tags": []
   },
   "outputs": [
    {
     "data": {
      "text/plain": [
       "(array([12.38824292]), -3.080378444876695, 0.6632850659262898)"
      ]
     },
     "execution_count": 85,
     "metadata": {},
     "output_type": "execute_result"
    }
   ],
   "source": [
    "mu, sigma = fit_truncated_t(df, surv)\n",
    "df, mu, sigma"
   ]
  },
  {
   "cell_type": "code",
   "execution_count": 86,
   "metadata": {
    "tags": []
   },
   "outputs": [],
   "source": [
    "low, high = surv.qs.min(), surv.qs.max()\n",
    "qs = np.linspace(low, 3 * high, 2000)\n",
    "surv_model2 = truncated_t_sf(qs, df, mu, sigma)\n",
    "cutoff2 = surv_model2.qs <= 1.1 * high"
   ]
  },
  {
   "cell_type": "code",
   "execution_count": 87,
   "metadata": {
    "scrolled": true,
    "tags": []
   },
   "outputs": [
    {
     "data": {
      "image/png": "[encoded data removed]",
      "text/plain": [
       "<Figure size 450x375 with 2 Axes>"
      ]
     },
     "metadata": {},
     "output_type": "display_data"
    }
   ],
   "source": [
    "model_label = \"Log-$t$ model\"\n",
    "axs = plot_two(\n",
    "    surv,\n",
    "    surv_model2[cutoff2],\n",
    "    n,\n",
    "    hatch=\"/\",\n",
    "    title=\"Tail distribution of solar flare flux with log-$t$ model\",\n",
    ")"
   ]
  },
  {
   "cell_type": "markdown",
   "metadata": {
    "tags": []
   },
   "source": [
    "The top figure shows that the log-$t$ model fits the data well over the range of the distribution, except for some discrepancy among the smallest flares.\n",
    "Maybe we don't detect small flares as reliably, or maybe there are just fewer of them than the model predicts. \n",
    "\n",
    "The bottom figure shows that the model fits the tail of the distribution except possibly for the most extreme values.\n",
    "Above 1 Joule per meter squared, the actual curve drops off faster than the model, although it is still within the range of variation we expect."
   ]
  },
  {
   "cell_type": "code",
   "execution_count": 88,
   "metadata": {
    "tags": []
   },
   "outputs": [
    {
     "data": {
      "text/plain": [
       "7"
      ]
     },
     "execution_count": 88,
     "metadata": {},
     "output_type": "execute_result"
    }
   ],
   "source": [
    "(mags > 0).sum()"
   ]
  },
  {
   "cell_type": "markdown",
   "metadata": {
    "tags": []
   },
   "source": [
    "This example shows that the distribution of the size of solar flares is longer-tailed than a lognormal distribution, which suggests that the largest possible solar flares might be substantially larger than the ones we have seen so far.\n",
    "\n",
    "If we use the model to extrapolate beyond the data -- which is always an uncertain thing to do -- we expect 2.4 flares per million to exceed 10 Joules per square meter, and 0.36 per million to exceed 100."
   ]
  },
  {
   "cell_type": "code",
   "execution_count": 89,
   "metadata": {
    "tags": []
   },
   "outputs": [
    {
     "data": {
      "text/plain": [
       "(array([21.46996038,  2.41158254,  0.35573316]), 547.0459518599563)"
      ]
     },
     "execution_count": 89,
     "metadata": {},
     "output_type": "execute_result"
    }
   ],
   "source": [
    "t_dist.sf([1, 2, 3], df, mu, sigma) * 1e6, 20e6 / n"
   ]
  },
  {
   "cell_type": "code",
   "execution_count": 90,
   "metadata": {
    "tags": []
   },
   "outputs": [
    {
     "data": {
      "text/plain": [
       "(array([14.61612287]), 27777.777777777777)"
      ]
     },
     "execution_count": 90,
     "metadata": {},
     "output_type": "execute_result"
    }
   ],
   "source": [
    "t_dist.sf(5, df, mu, sigma) * 1e9, 1e9 / 36000"
   ]
  },
  {
   "cell_type": "markdown",
   "metadata": {
    "tags": []
   },
   "source": [
    "In the last 20 years we have observed about 36,000 flares, so it would take more than 500 years to observe a million.\n",
    "But in that time, we might see a solar flare 10 or 100 times bigger than the biggest we have seen so far."
   ]
  },
  {
   "cell_type": "markdown",
   "metadata": {
    "tags": []
   },
   "source": [
    "## Lunar Craters"
   ]
  },
  {
   "cell_type": "markdown",
   "metadata": {
    "tags": []
   },
   "source": [
    "The largest crater on the near side of the moon, named Bailly, is 303 kilometers in diameter; the largest on the far side, the South Pole-Aitken basin, is roughly 2500 kilometers in diameter.\n",
    "\n",
    "In addition to large, visible craters like these, there are innumerable smaller craters.\n",
    "The Lunar Crater Database catalogs nearly all of the ones larger than one kilometer, about 1.3 million in total.\n",
    "It is based on images taken by the Lunar Reconnaissance Orbiter, which NASA sent to the Moon in 2009."
   ]
  },
  {
   "cell_type": "code",
   "execution_count": 91,
   "metadata": {
    "tags": []
   },
   "outputs": [],
   "source": [
    "# https://www.nytimes.com/2022/03/21/science/nasa-asteroid-strike.html\n",
    "\n",
    "# https://en.wikipedia.org/wiki/Tunguska_event"
   ]
  },
  {
   "cell_type": "code",
   "execution_count": 92,
   "metadata": {
    "tags": []
   },
   "outputs": [],
   "source": [
    "# https://www.nasa.gov/centers/goddard/news/features/2010/biggest_crater.html\n",
    "# https://en.wikipedia.org/wiki/Bailly_(crater)\n",
    "# https://en.wikipedia.org/wiki/South_Pole%E2%80%93Aitken_basin"
   ]
  },
  {
   "cell_type": "code",
   "execution_count": 93,
   "metadata": {
    "tags": []
   },
   "outputs": [],
   "source": [
    "# https://astrogeology.usgs.gov/search/map/Moon/Research/Craters/lunar_crater_database_robbins_2018\n",
    "# https://en.wikipedia.org/wiki/Lunar_Reconnaissance_Orbiter\n",
    "# Robbins, S. J. (2018). A new global database of lunar impact craters >1–2 km: 1. Crater locations and sizes, comparisons with published databases, and global analysis. Journal of Geophysical Research: Planets, 124(4), pp. 871-892. https://doi.org/10.1029/2018JE005592"
   ]
  },
  {
   "cell_type": "code",
   "execution_count": 94,
   "metadata": {
    "tags": []
   },
   "outputs": [
    {
     "data": {
      "text/plain": [
       "3480"
      ]
     },
     "execution_count": 94,
     "metadata": {},
     "output_type": "execute_result"
    }
   ],
   "source": [
    "1740 * 2"
   ]
  },
  {
   "cell_type": "markdown",
   "metadata": {},
   "source": [
    "Download the data from https://astrogeology.usgs.gov/search/map/Moon/Research/Craters/lunar_crater_database_robbins_2018"
   ]
  },
  {
   "cell_type": "code",
   "execution_count": 95,
   "metadata": {},
   "outputs": [],
   "source": [
    "download(\"https://pdsimage2.wr.usgs.gov/Individual_Investigations/moon_lro.kaguya_multi_craterdatabase_robbins_2018/data/lunar_crater_database_robbins_2018.csv\")"
   ]
  },
  {
   "cell_type": "code",
   "execution_count": 96,
   "metadata": {},
   "outputs": [
    {
     "name": "stdout",
     "output_type": "stream",
     "text": [
      "-rw-rw-r-- 1 downey downey 228M Mar  2 20:30 lunar_crater_database_robbins_2018.csv\r\n"
     ]
    }
   ],
   "source": [
    "!ls -lh lunar_crater_database_robbins_2018.csv"
   ]
  },
  {
   "cell_type": "code",
   "execution_count": 97,
   "metadata": {
    "tags": []
   },
   "outputs": [
    {
     "data": {
      "text/html": [
       "<div>\n",
       "<style scoped>\n",
       "    .dataframe tbody tr th:only-of-type {\n",
       "        vertical-align: middle;\n",
       "    }\n",
       "\n",
       "    .dataframe tbody tr th {\n",
       "        vertical-align: top;\n",
       "    }\n",
       "\n",
       "    .dataframe thead th {\n",
       "        text-align: right;\n",
       "    }\n",
       "</style>\n",
       "<table border=\"1\" class=\"dataframe\">\n",
       "  <thead>\n",
       "    <tr style=\"text-align: right;\">\n",
       "      <th></th>\n",
       "      <th>CRATER_ID</th>\n",
       "      <th>LAT_CIRC_IMG</th>\n",
       "      <th>LON_CIRC_IMG</th>\n",
       "      <th>LAT_ELLI_IMG</th>\n",
       "      <th>LON_ELLI_IMG</th>\n",
       "      <th>DIAM_CIRC_IMG</th>\n",
       "      <th>DIAM_CIRC_SD_IMG</th>\n",
       "      <th>DIAM_ELLI_MAJOR_IMG</th>\n",
       "      <th>DIAM_ELLI_MINOR_IMG</th>\n",
       "      <th>DIAM_ELLI_ECCEN_IMG</th>\n",
       "      <th>...</th>\n",
       "      <th>DIAM_ELLI_ANGLE_IMG</th>\n",
       "      <th>LAT_ELLI_SD_IMG</th>\n",
       "      <th>LON_ELLI_SD_IMG</th>\n",
       "      <th>DIAM_ELLI_MAJOR_SD_IMG</th>\n",
       "      <th>DIAM_ELLI_MINOR_SD_IMG</th>\n",
       "      <th>DIAM_ELLI_ANGLE_SD_IMG</th>\n",
       "      <th>DIAM_ELLI_ECCEN_SD_IMG</th>\n",
       "      <th>DIAM_ELLI_ELLIP_SD_IMG</th>\n",
       "      <th>ARC_IMG</th>\n",
       "      <th>PTS_RIM_IMG</th>\n",
       "    </tr>\n",
       "  </thead>\n",
       "  <tbody>\n",
       "    <tr>\n",
       "      <th>0</th>\n",
       "      <td>00-1-000000</td>\n",
       "      <td>-19.83040</td>\n",
       "      <td>264.7570</td>\n",
       "      <td>-19.89050</td>\n",
       "      <td>264.6650</td>\n",
       "      <td>940.960</td>\n",
       "      <td>21.31790</td>\n",
       "      <td>975.874</td>\n",
       "      <td>905.968</td>\n",
       "      <td>0.371666</td>\n",
       "      <td>...</td>\n",
       "      <td>35.9919</td>\n",
       "      <td>0.007888</td>\n",
       "      <td>0.008424</td>\n",
       "      <td>0.636750</td>\n",
       "      <td>0.560417</td>\n",
       "      <td>0.373749</td>\n",
       "      <td>0.002085</td>\n",
       "      <td>0.000968</td>\n",
       "      <td>0.568712</td>\n",
       "      <td>8088</td>\n",
       "    </tr>\n",
       "    <tr>\n",
       "      <th>1</th>\n",
       "      <td>00-1-000001</td>\n",
       "      <td>44.77630</td>\n",
       "      <td>328.6020</td>\n",
       "      <td>44.40830</td>\n",
       "      <td>329.0460</td>\n",
       "      <td>249.840</td>\n",
       "      <td>5.99621</td>\n",
       "      <td>289.440</td>\n",
       "      <td>245.786</td>\n",
       "      <td>0.528111</td>\n",
       "      <td>...</td>\n",
       "      <td>127.0030</td>\n",
       "      <td>0.011178</td>\n",
       "      <td>0.015101</td>\n",
       "      <td>1.052780</td>\n",
       "      <td>0.209035</td>\n",
       "      <td>0.357296</td>\n",
       "      <td>0.005100</td>\n",
       "      <td>0.004399</td>\n",
       "      <td>0.627328</td>\n",
       "      <td>2785</td>\n",
       "    </tr>\n",
       "    <tr>\n",
       "      <th>2</th>\n",
       "      <td>00-1-000002</td>\n",
       "      <td>57.08660</td>\n",
       "      <td>82.0995</td>\n",
       "      <td>56.90000</td>\n",
       "      <td>81.6464</td>\n",
       "      <td>599.778</td>\n",
       "      <td>21.57900</td>\n",
       "      <td>632.571</td>\n",
       "      <td>561.435</td>\n",
       "      <td>0.460721</td>\n",
       "      <td>...</td>\n",
       "      <td>149.1620</td>\n",
       "      <td>0.008464</td>\n",
       "      <td>0.019515</td>\n",
       "      <td>0.776149</td>\n",
       "      <td>0.747352</td>\n",
       "      <td>0.374057</td>\n",
       "      <td>0.003095</td>\n",
       "      <td>0.002040</td>\n",
       "      <td>0.492373</td>\n",
       "      <td>5199</td>\n",
       "    </tr>\n",
       "    <tr>\n",
       "      <th>3</th>\n",
       "      <td>00-1-000003</td>\n",
       "      <td>1.96124</td>\n",
       "      <td>230.6220</td>\n",
       "      <td>1.95072</td>\n",
       "      <td>230.5880</td>\n",
       "      <td>558.762</td>\n",
       "      <td>14.18190</td>\n",
       "      <td>568.529</td>\n",
       "      <td>546.378</td>\n",
       "      <td>0.276416</td>\n",
       "      <td>...</td>\n",
       "      <td>133.6910</td>\n",
       "      <td>0.007079</td>\n",
       "      <td>0.007839</td>\n",
       "      <td>0.526945</td>\n",
       "      <td>0.532872</td>\n",
       "      <td>1.262710</td>\n",
       "      <td>0.004496</td>\n",
       "      <td>0.001400</td>\n",
       "      <td>0.595221</td>\n",
       "      <td>4341</td>\n",
       "    </tr>\n",
       "    <tr>\n",
       "      <th>4</th>\n",
       "      <td>00-1-000004</td>\n",
       "      <td>-49.14960</td>\n",
       "      <td>266.3470</td>\n",
       "      <td>-49.18330</td>\n",
       "      <td>266.3530</td>\n",
       "      <td>654.332</td>\n",
       "      <td>17.50970</td>\n",
       "      <td>665.240</td>\n",
       "      <td>636.578</td>\n",
       "      <td>0.290365</td>\n",
       "      <td>...</td>\n",
       "      <td>87.6468</td>\n",
       "      <td>0.008827</td>\n",
       "      <td>0.017733</td>\n",
       "      <td>0.568958</td>\n",
       "      <td>0.758631</td>\n",
       "      <td>1.383530</td>\n",
       "      <td>0.004626</td>\n",
       "      <td>0.001533</td>\n",
       "      <td>0.545924</td>\n",
       "      <td>5933</td>\n",
       "    </tr>\n",
       "  </tbody>\n",
       "</table>\n",
       "<p>5 rows × 21 columns</p>\n",
       "</div>"
      ],
      "text/plain": [
       "     CRATER_ID  LAT_CIRC_IMG  LON_CIRC_IMG  LAT_ELLI_IMG  LON_ELLI_IMG  \\\n",
       "0  00-1-000000     -19.83040      264.7570     -19.89050      264.6650   \n",
       "1  00-1-000001      44.77630      328.6020      44.40830      329.0460   \n",
       "2  00-1-000002      57.08660       82.0995      56.90000       81.6464   \n",
       "3  00-1-000003       1.96124      230.6220       1.95072      230.5880   \n",
       "4  00-1-000004     -49.14960      266.3470     -49.18330      266.3530   \n",
       "\n",
       "   DIAM_CIRC_IMG  DIAM_CIRC_SD_IMG  DIAM_ELLI_MAJOR_IMG  DIAM_ELLI_MINOR_IMG  \\\n",
       "0        940.960          21.31790              975.874              905.968   \n",
       "1        249.840           5.99621              289.440              245.786   \n",
       "2        599.778          21.57900              632.571              561.435   \n",
       "3        558.762          14.18190              568.529              546.378   \n",
       "4        654.332          17.50970              665.240              636.578   \n",
       "\n",
       "   DIAM_ELLI_ECCEN_IMG  ...  DIAM_ELLI_ANGLE_IMG  LAT_ELLI_SD_IMG  \\\n",
       "0             0.371666  ...              35.9919         0.007888   \n",
       "1             0.528111  ...             127.0030         0.011178   \n",
       "2             0.460721  ...             149.1620         0.008464   \n",
       "3             0.276416  ...             133.6910         0.007079   \n",
       "4             0.290365  ...              87.6468         0.008827   \n",
       "\n",
       "   LON_ELLI_SD_IMG  DIAM_ELLI_MAJOR_SD_IMG  DIAM_ELLI_MINOR_SD_IMG  \\\n",
       "0         0.008424                0.636750                0.560417   \n",
       "1         0.015101                1.052780                0.209035   \n",
       "2         0.019515                0.776149                0.747352   \n",
       "3         0.007839                0.526945                0.532872   \n",
       "4         0.017733                0.568958                0.758631   \n",
       "\n",
       "   DIAM_ELLI_ANGLE_SD_IMG  DIAM_ELLI_ECCEN_SD_IMG  DIAM_ELLI_ELLIP_SD_IMG  \\\n",
       "0                0.373749                0.002085                0.000968   \n",
       "1                0.357296                0.005100                0.004399   \n",
       "2                0.374057                0.003095                0.002040   \n",
       "3                1.262710                0.004496                0.001400   \n",
       "4                1.383530                0.004626                0.001533   \n",
       "\n",
       "    ARC_IMG  PTS_RIM_IMG  \n",
       "0  0.568712         8088  \n",
       "1  0.627328         2785  \n",
       "2  0.492373         5199  \n",
       "3  0.595221         4341  \n",
       "4  0.545924         5933  \n",
       "\n",
       "[5 rows x 21 columns]"
      ]
     },
     "execution_count": 97,
     "metadata": {},
     "output_type": "execute_result"
    }
   ],
   "source": [
    "filename = \"lunar_crater_database_robbins_2018.csv\"\n",
    "craters = pd.read_csv(filename, nrows=None)\n",
    "craters.head()"
   ]
  },
  {
   "cell_type": "code",
   "execution_count": 98,
   "metadata": {
    "tags": []
   },
   "outputs": [
    {
     "data": {
      "text/plain": [
       "count    1.296796e+06\n",
       "mean     2.436963e+00\n",
       "std      5.519133e+00\n",
       "min      1.000000e+00\n",
       "25%      1.242710e+00\n",
       "50%      1.606840e+00\n",
       "75%      2.380860e+00\n",
       "max      2.491870e+03\n",
       "Name: DIAM_CIRC_IMG, dtype: float64"
      ]
     },
     "execution_count": 98,
     "metadata": {},
     "output_type": "execute_result"
    }
   ],
   "source": [
    "diameters = craters[\"DIAM_CIRC_IMG\"]\n",
    "diameters.describe()"
   ]
  },
  {
   "cell_type": "code",
   "execution_count": 99,
   "metadata": {
    "tags": []
   },
   "outputs": [
    {
     "data": {
      "text/plain": [
       "count    1.296796e+06\n",
       "mean     2.730862e-01\n",
       "std      2.483783e-01\n",
       "min      0.000000e+00\n",
       "25%      9.436979e-02\n",
       "50%      2.059726e-01\n",
       "75%      3.767339e-01\n",
       "max      3.396525e+00\n",
       "Name: DIAM_CIRC_IMG, dtype: float64"
      ]
     },
     "execution_count": 99,
     "metadata": {},
     "output_type": "execute_result"
    }
   ],
   "source": [
    "mags = np.log10(diameters)\n",
    "mags.describe()"
   ]
  },
  {
   "cell_type": "code",
   "execution_count": 100,
   "metadata": {
    "scrolled": true,
    "tags": []
   },
   "outputs": [
    {
     "data": {
      "text/plain": [
       "1296796"
      ]
     },
     "execution_count": 100,
     "metadata": {},
     "output_type": "execute_result"
    }
   ],
   "source": [
    "n = mags.count()\n",
    "n"
   ]
  },
  {
   "cell_type": "code",
   "execution_count": 101,
   "metadata": {
    "tags": []
   },
   "outputs": [],
   "source": [
    "surv = make_surv(mags)"
   ]
  },
  {
   "cell_type": "code",
   "execution_count": 102,
   "metadata": {
    "tags": []
   },
   "outputs": [
    {
     "name": "stdout",
     "output_type": "stream",
     "text": [
      "[0.27308844 0.24837712]\n",
      "[0.27308846 0.24837712]\n",
      "[0.27308844 0.24837714]\n",
      "[0.05295438 0.37367782]\n",
      "[0.0529544  0.37367782]\n",
      "[0.05295438 0.37367784]\n",
      "[-0.25451518  0.46113863]\n",
      "[-0.25451519  0.46113863]\n",
      "[-0.25451518  0.46113864]\n",
      "[-0.34244267  0.45723477]\n",
      "[-0.34244269  0.45723477]\n",
      "[-0.34244267  0.45723478]\n",
      "[-0.29365242  0.44014649]\n",
      "[-0.29365243  0.44014649]\n",
      "[-0.29365242  0.4401465 ]\n",
      "[-0.29545209  0.44042455]\n",
      "[-0.2954521   0.44042455]\n",
      "[-0.29545209  0.44042457]\n",
      "[-0.29531533  0.44037614]\n",
      "[-0.29531534  0.44037614]\n",
      "[-0.29531533  0.44037615]\n"
     ]
    }
   ],
   "source": [
    "mu, sigma = fit_truncated_normal(surv)"
   ]
  },
  {
   "cell_type": "code",
   "execution_count": 103,
   "metadata": {
    "tags": []
   },
   "outputs": [],
   "source": [
    "low, high = mags.min(), mags.max() * 0.99\n",
    "qs = np.linspace(low, high, 2000)\n",
    "surv_model = truncated_normal_sf(qs, mu, sigma)"
   ]
  },
  {
   "cell_type": "code",
   "execution_count": 104,
   "metadata": {
    "tags": []
   },
   "outputs": [],
   "source": [
    "xlabel = \"Crater diameter (kilometers)\"\n",
    "ylabel = \"Fraction with diameter ≥ $x$\"\n",
    "xlabels = [1, 3, 10, 100, 1000]\n",
    "xticks = np.log10(xlabels)\n",
    "yticks = [1, 0.1, 0.01, 1e-3, 1e-4, 1e-5, 1e-6, 1e-6]\n",
    "ylabels = [1, 0.1, 0.01, 0.001, \"$10^{-4}$\", \"$10^{-5}$\", \"$10^{-6}$\", \"$10^{-7}$\"]"
   ]
  },
  {
   "cell_type": "markdown",
   "metadata": {
    "tags": []
   },
   "source": [
    "The following figures show the distribution of their sizes on a log scale, compared to a lognormal model.\n",
    "The left figure shows the tail distribution on a linear scale; the right figure shows the same curve on a log scale."
   ]
  },
  {
   "cell_type": "code",
   "execution_count": 105,
   "metadata": {
    "tags": []
   },
   "outputs": [
    {
     "data": {
      "text/plain": [
       "(242.90636307851742, 0.3789807837968745)"
      ]
     },
     "execution_count": 105,
     "metadata": {},
     "output_type": "execute_result"
    }
   ],
   "source": [
    "x = 2\n",
    "y1 = surv(x)\n",
    "y2 = surv_model(x)\n",
    "y1 * 1e6, y2 * 1e6"
   ]
  },
  {
   "cell_type": "code",
   "execution_count": 106,
   "metadata": {
    "tags": []
   },
   "outputs": [
    {
     "data": {
      "image/png": "[encoded data removed]",
      "text/plain": [
       "<Figure size 450x375 with 2 Axes>"
      ]
     },
     "metadata": {},
     "output_type": "display_data"
    }
   ],
   "source": [
    "model_label = \"Lognormal model\"\n",
    "cutoff = surv_model > 1e-7\n",
    "axs = plot_two(\n",
    "    surv, surv_model[cutoff], n, \n",
    "    title=\"Tail distribution of moon crater diameter with lognormal model\"\n",
    ")\n",
    "plt.plot([x, x], [y1, y2], ls=\":\", color=\"gray\")\n",
    "plt.tight_layout()"
   ]
  },
  {
   "cell_type": "markdown",
   "metadata": {
    "tags": []
   },
   "source": [
    "Looking at the figure on the left, we can see a discrepancy between the data and the model between 3 and 10 kilometers.\n",
    "Nevertheless, the model fits the logarithms of the diameters well, so we could conclude that the distribution of crater sizes is approximately lognormal.\n",
    "\n",
    "However, looking at the figure on the right, we can see big differences between the data and the model in the tail.\n",
    "In the dataset, the fraction of craters as big as 100 kilometers is about 250 per million; according to the model, it would be less than 1 per million.\n",
    "The dotted line in the figure shows this difference.\n",
    "\n",
    "Going farther into the tail, the fraction of craters as big as 1000 kilometers is about 3 per million; according to the model, it would be less than one per *trillion*.\n",
    "And the probability of a crater as big as the South Pole-Aitken basin is about 50 per sextillion.\n",
    "\n",
    "If we are only interested in craters less than 10 kilometers in diameter, the lognormal model might be good enough.\n",
    "But for questions related to the biggest craters, it is way off."
   ]
  },
  {
   "cell_type": "markdown",
   "metadata": {
    "tags": []
   },
   "source": [
    "The following figure shows the distribution of these crater sizes, compared to a log-$t$ model."
   ]
  },
  {
   "cell_type": "code",
   "execution_count": 107,
   "metadata": {
    "tags": []
   },
   "outputs": [
    {
     "data": {
      "text/plain": [
       "(242.90636307851742, 0.3789807837968745)"
      ]
     },
     "execution_count": 107,
     "metadata": {},
     "output_type": "execute_result"
    }
   ],
   "source": [
    "y1 * 1e6, y2 * 1e6"
   ]
  },
  {
   "cell_type": "code",
   "execution_count": 108,
   "metadata": {
    "tags": []
   },
   "outputs": [
    {
     "data": {
      "text/plain": [
       "(array(3.08452525e-06), array(1.46579818e-13))"
      ]
     },
     "execution_count": 108,
     "metadata": {},
     "output_type": "execute_result"
    }
   ],
   "source": [
    "x = np.log10(1000)\n",
    "surv(x), surv_model(x)"
   ]
  },
  {
   "cell_type": "code",
   "execution_count": 109,
   "metadata": {
    "tags": []
   },
   "outputs": [
    {
     "data": {
      "text/plain": [
       "49.38591367634179"
      ]
     },
     "execution_count": 109,
     "metadata": {},
     "output_type": "execute_result"
    }
   ],
   "source": [
    "# 50 per sextillion\n",
    "\n",
    "norm(mu, sigma).sf(high) * 1e18"
   ]
  },
  {
   "cell_type": "code",
   "execution_count": 110,
   "metadata": {
    "tags": []
   },
   "outputs": [],
   "source": [
    "df = minimize_df(10, surv, [(0, 20)])"
   ]
  },
  {
   "cell_type": "code",
   "execution_count": 111,
   "metadata": {
    "tags": []
   },
   "outputs": [
    {
     "data": {
      "text/plain": [
       "(array([11.13386528]), -0.2019475541951973, 0.3746967604844768)"
      ]
     },
     "execution_count": 111,
     "metadata": {},
     "output_type": "execute_result"
    }
   ],
   "source": [
    "mu, sigma = fit_truncated_t(df, surv)\n",
    "df, mu, sigma"
   ]
  },
  {
   "cell_type": "code",
   "execution_count": 112,
   "metadata": {
    "tags": []
   },
   "outputs": [],
   "source": [
    "low, high = surv.qs.min(), surv.qs.max()\n",
    "qs = np.linspace(low, 1.2 * high, 2000)\n",
    "surv_model2 = truncated_t_sf(qs, df, mu, sigma)\n",
    "cutoff2 = surv_model2.qs <= 1.03 * high"
   ]
  },
  {
   "cell_type": "code",
   "execution_count": 113,
   "metadata": {
    "scrolled": true,
    "tags": []
   },
   "outputs": [
    {
     "data": {
      "image/png": "[encoded data removed]",
      "text/plain": [
       "<Figure size 450x375 with 2 Axes>"
      ]
     },
     "metadata": {},
     "output_type": "display_data"
    }
   ],
   "source": [
    "model_label = \"Log-$t$ model\"\n",
    "axs = plot_two(\n",
    "    surv,\n",
    "    surv_model2[cutoff2],\n",
    "    n,\n",
    "    hatch=\"/\",\n",
    "    title=\"Tail distribution of moon crater diameters with log-t model\",\n",
    ")"
   ]
  },
  {
   "cell_type": "markdown",
   "metadata": {
    "tags": []
   },
   "source": [
    "Since the dataset does not include craters smaller than one kilometer, I cut off the model at the same threshold.\n",
    "We can assume that there are many smaller craters, but with this dataset we can't tell what the distribution of their sizes looks like.\n",
    "\n",
    "The log-$t$ model fits the distribution well, but it's not perfect: there are more craters near 100 km than the model expects, and fewer craters larger than 1000 km.\n",
    "As usual, the world is under no obligation to follow simple rules, but this model does pretty well."
   ]
  },
  {
   "cell_type": "markdown",
   "metadata": {
    "tags": []
   },
   "source": [
    "## Asteroids\n",
    "\n",
    "The Jet Propulsion Laboratory (JPL) and NASA provide data related to asteroids, comets and other small bodies in our solar system.\n",
    "From their Small-Body Database, I selected asteroids in the \"main asteroid belt\" between the orbits of Mars and Jupiter.\n",
    "\n",
    "There are more than one million asteroids in this dataset, about 136,000 with known diameter.\n",
    "The largest are Ceres (940 kilometers in diameter), Vesta (525 km), Pallas (513 km), and Hygeia (407 km).\n",
    "The smallest are less than one kilometer."
   ]
  },
  {
   "cell_type": "markdown",
   "metadata": {
    "tags": []
   },
   "source": [
    "I downloaded the data using the [Small-Body Database](https://ssd.jpl.nasa.gov/tools/sbdb_query.html)\n",
    "\n",
    "* Selecting Inner, outer, and main belt asteroids\n",
    "* Variables: IAU name, diameter, GM (mass times gravitational constant G)"
   ]
  },
  {
   "cell_type": "code",
   "execution_count": 114,
   "metadata": {},
   "outputs": [],
   "source": [
    "filename = \"sbdb_query_results2.csv\"\n",
    "download(DATA_PATH + filename)"
   ]
  },
  {
   "cell_type": "code",
   "execution_count": 115,
   "metadata": {
    "tags": []
   },
   "outputs": [
    {
     "data": {
      "text/plain": [
       "(1138975, 3)"
      ]
     },
     "execution_count": 115,
     "metadata": {},
     "output_type": "execute_result"
    }
   ],
   "source": [
    "asteroids = pd.read_csv(filename, low_memory=False)\n",
    "asteroids.shape"
   ]
  },
  {
   "cell_type": "markdown",
   "metadata": {},
   "source": [
    "Fans of *The Expanse* will recognize the names of the largest asteroids in [the Belt](https://expanse.fandom.com/wiki/Asteroid_Belt)."
   ]
  },
  {
   "cell_type": "code",
   "execution_count": 116,
   "metadata": {
    "tags": []
   },
   "outputs": [
    {
     "data": {
      "text/html": [
       "<div>\n",
       "<style scoped>\n",
       "    .dataframe tbody tr th:only-of-type {\n",
       "        vertical-align: middle;\n",
       "    }\n",
       "\n",
       "    .dataframe tbody tr th {\n",
       "        vertical-align: top;\n",
       "    }\n",
       "\n",
       "    .dataframe thead th {\n",
       "        text-align: right;\n",
       "    }\n",
       "</style>\n",
       "<table border=\"1\" class=\"dataframe\">\n",
       "  <thead>\n",
       "    <tr style=\"text-align: right;\">\n",
       "      <th></th>\n",
       "      <th>name</th>\n",
       "      <th>diameter</th>\n",
       "      <th>GM</th>\n",
       "    </tr>\n",
       "  </thead>\n",
       "  <tbody>\n",
       "    <tr>\n",
       "      <th>693</th>\n",
       "      <td>Interamnia</td>\n",
       "      <td>306.313</td>\n",
       "      <td>5.000000</td>\n",
       "    </tr>\n",
       "    <tr>\n",
       "      <th>9</th>\n",
       "      <td>Hygiea</td>\n",
       "      <td>407.120</td>\n",
       "      <td>7.000000</td>\n",
       "    </tr>\n",
       "    <tr>\n",
       "      <th>1</th>\n",
       "      <td>Pallas</td>\n",
       "      <td>513.000</td>\n",
       "      <td>13.630000</td>\n",
       "    </tr>\n",
       "    <tr>\n",
       "      <th>3</th>\n",
       "      <td>Vesta</td>\n",
       "      <td>525.400</td>\n",
       "      <td>17.288245</td>\n",
       "    </tr>\n",
       "    <tr>\n",
       "      <th>0</th>\n",
       "      <td>Ceres</td>\n",
       "      <td>939.400</td>\n",
       "      <td>62.628400</td>\n",
       "    </tr>\n",
       "  </tbody>\n",
       "</table>\n",
       "</div>"
      ],
      "text/plain": [
       "           name  diameter         GM\n",
       "693  Interamnia   306.313   5.000000\n",
       "9        Hygiea   407.120   7.000000\n",
       "1        Pallas   513.000  13.630000\n",
       "3         Vesta   525.400  17.288245\n",
       "0         Ceres   939.400  62.628400"
      ]
     },
     "execution_count": 116,
     "metadata": {},
     "output_type": "execute_result"
    }
   ],
   "source": [
    "asteroids.dropna().sort_values(by=\"diameter\").tail()"
   ]
  },
  {
   "cell_type": "code",
   "execution_count": 117,
   "metadata": {
    "tags": []
   },
   "outputs": [
    {
     "data": {
      "text/html": [
       "<div>\n",
       "<style scoped>\n",
       "    .dataframe tbody tr th:only-of-type {\n",
       "        vertical-align: middle;\n",
       "    }\n",
       "\n",
       "    .dataframe tbody tr th {\n",
       "        vertical-align: top;\n",
       "    }\n",
       "\n",
       "    .dataframe thead th {\n",
       "        text-align: right;\n",
       "    }\n",
       "</style>\n",
       "<table border=\"1\" class=\"dataframe\">\n",
       "  <thead>\n",
       "    <tr style=\"text-align: right;\">\n",
       "      <th></th>\n",
       "      <th>name</th>\n",
       "      <th>diameter</th>\n",
       "      <th>GM</th>\n",
       "    </tr>\n",
       "  </thead>\n",
       "  <tbody>\n",
       "    <tr>\n",
       "      <th>241</th>\n",
       "      <td>Ida</td>\n",
       "      <td>32.000</td>\n",
       "      <td>0.00275</td>\n",
       "    </tr>\n",
       "    <tr>\n",
       "      <th>251</th>\n",
       "      <td>Mathilde</td>\n",
       "      <td>52.800</td>\n",
       "      <td>0.00689</td>\n",
       "    </tr>\n",
       "    <tr>\n",
       "      <th>21</th>\n",
       "      <td>Kalliope</td>\n",
       "      <td>167.536</td>\n",
       "      <td>0.49100</td>\n",
       "    </tr>\n",
       "    <tr>\n",
       "      <th>106</th>\n",
       "      <td>Camilla</td>\n",
       "      <td>210.370</td>\n",
       "      <td>0.74750</td>\n",
       "    </tr>\n",
       "    <tr>\n",
       "      <th>15</th>\n",
       "      <td>Psyche</td>\n",
       "      <td>226.000</td>\n",
       "      <td>1.53000</td>\n",
       "    </tr>\n",
       "  </tbody>\n",
       "</table>\n",
       "</div>"
      ],
      "text/plain": [
       "         name  diameter       GM\n",
       "241       Ida    32.000  0.00275\n",
       "251  Mathilde    52.800  0.00689\n",
       "21   Kalliope   167.536  0.49100\n",
       "106   Camilla   210.370  0.74750\n",
       "15     Psyche   226.000  1.53000"
      ]
     },
     "execution_count": 117,
     "metadata": {},
     "output_type": "execute_result"
    }
   ],
   "source": [
    "asteroids.dropna().sort_values(by=\"diameter\").head()"
   ]
  },
  {
   "cell_type": "code",
   "execution_count": 118,
   "metadata": {
    "tags": []
   },
   "outputs": [
    {
     "data": {
      "text/plain": [
       "count    135915.000000\n",
       "mean          0.613943\n",
       "std           0.257474\n",
       "min          -0.459671\n",
       "25%           0.444513\n",
       "50%           0.595496\n",
       "75%           0.752125\n",
       "max           2.972851\n",
       "Name: diameter, dtype: float64"
      ]
     },
     "execution_count": 118,
     "metadata": {},
     "output_type": "execute_result"
    }
   ],
   "source": [
    "mags = np.log10(asteroids[\"diameter\"])\n",
    "mags.describe()"
   ]
  },
  {
   "cell_type": "code",
   "execution_count": 119,
   "metadata": {
    "tags": []
   },
   "outputs": [
    {
     "data": {
      "text/plain": [
       "135915"
      ]
     },
     "execution_count": 119,
     "metadata": {},
     "output_type": "execute_result"
    }
   ],
   "source": [
    "n = mags.count()\n",
    "n"
   ]
  },
  {
   "cell_type": "code",
   "execution_count": 120,
   "metadata": {
    "tags": []
   },
   "outputs": [],
   "source": [
    "surv = make_surv(mags)"
   ]
  },
  {
   "cell_type": "code",
   "execution_count": 121,
   "metadata": {
    "tags": []
   },
   "outputs": [
    {
     "name": "stdout",
     "output_type": "stream",
     "text": [
      "[0.61406161 0.25739986]\n",
      "[0.61406162 0.25739986]\n",
      "[0.61406161 0.25739987]\n",
      "[0.59649407 0.22729071]\n",
      "[0.59649408 0.22729071]\n",
      "[0.59649407 0.22729073]\n",
      "[0.59765045 0.22862602]\n",
      "[0.59765047 0.22862602]\n",
      "[0.59765045 0.22862604]\n",
      "[0.59766666 0.22865271]\n",
      "[0.59766668 0.22865271]\n",
      "[0.59766666 0.22865273]\n"
     ]
    }
   ],
   "source": [
    "mu, sigma = fit_truncated_normal(surv)"
   ]
  },
  {
   "cell_type": "code",
   "execution_count": 122,
   "metadata": {
    "tags": []
   },
   "outputs": [],
   "source": [
    "from utils import truncated_normal_pmf\n",
    "\n",
    "low, high = mags.min(), mags.max() * 0.99\n",
    "qs = np.linspace(low, high, 2000)\n",
    "pmf_model = truncated_normal_pmf(qs, mu, sigma)\n",
    "surv_model = pmf_model.make_surv()"
   ]
  },
  {
   "cell_type": "code",
   "execution_count": 123,
   "metadata": {
    "tags": []
   },
   "outputs": [],
   "source": [
    "xlabel = \"Asteroid diameter (kilometers)\"\n",
    "ylabel = \"Fraction with diameter ≥ $x$\"\n",
    "xticks = [0, 1, 2, 3]\n",
    "xlabels = [1, 10, 100, 1000]"
   ]
  },
  {
   "cell_type": "code",
   "execution_count": 124,
   "metadata": {
    "tags": []
   },
   "outputs": [
    {
     "data": {
      "text/plain": [
       "(8188.941617943904, 39.344587501433104)"
      ]
     },
     "execution_count": 124,
     "metadata": {},
     "output_type": "execute_result"
    }
   ],
   "source": [
    "x = 1.5\n",
    "y1 = surv(x)\n",
    "y2 = surv_model(x)\n",
    "y1 * 1e6, y2 * 1e6"
   ]
  },
  {
   "cell_type": "code",
   "execution_count": 125,
   "metadata": {
    "tags": []
   },
   "outputs": [],
   "source": [
    "cutoff = surv_model > 1e-6\n",
    "yticks = [1, 0.1, 0.01, 1e-3, 1e-4, 1e-5, 1e-6]\n",
    "ylabels = [1, 0.1, 0.01, \"$10^{-3}$\", \"$10^{-4}$\", \"$10^{-5}$\", \"$10^{-6}$\"]"
   ]
  },
  {
   "cell_type": "code",
   "execution_count": 126,
   "metadata": {
    "tags": []
   },
   "outputs": [
    {
     "data": {
      "image/png": "[encoded data removed]",
      "text/plain": [
       "<Figure size 450x375 with 2 Axes>"
      ]
     },
     "metadata": {},
     "output_type": "display_data"
    }
   ],
   "source": [
    "model_label = \"Lognormal model\"\n",
    "axs = plot_two(\n",
    "    surv,\n",
    "    surv_model[cutoff],\n",
    "    n,\n",
    "    title=\"Tail distribution of asteroid diameters with lognormal model\",\n",
    ")"
   ]
  },
  {
   "cell_type": "markdown",
   "metadata": {
    "tags": []
   },
   "source": [
    "The following figure shows the distribution of asteroid sizes compared to a log-$t$ model."
   ]
  },
  {
   "cell_type": "code",
   "execution_count": 127,
   "metadata": {
    "tags": []
   },
   "outputs": [],
   "source": [
    "df = minimize_df(10, surv, [(0, 20)])"
   ]
  },
  {
   "cell_type": "code",
   "execution_count": 128,
   "metadata": {
    "tags": []
   },
   "outputs": [
    {
     "data": {
      "text/plain": [
       "(6.5, 0.5953882516875685, 0.21501805647910857)"
      ]
     },
     "execution_count": 128,
     "metadata": {},
     "output_type": "execute_result"
    }
   ],
   "source": [
    "df = 6.5\n",
    "mu, sigma = fit_truncated_t(df, surv)\n",
    "df, mu, sigma"
   ]
  },
  {
   "cell_type": "code",
   "execution_count": 129,
   "metadata": {
    "tags": []
   },
   "outputs": [],
   "source": [
    "low, high = surv.qs.min(), surv.qs.max()\n",
    "qs = np.linspace(low, 1.0 * high, 2000)\n",
    "surv_model2 = truncated_t_sf(qs, df, mu, sigma)\n",
    "cutoff2 = surv_model2.qs <= 1.0 * high"
   ]
  },
  {
   "cell_type": "code",
   "execution_count": 130,
   "metadata": {
    "tags": []
   },
   "outputs": [
    {
     "data": {
      "image/png": "[encoded data removed]",
      "text/plain": [
       "<Figure size 450x375 with 2 Axes>"
      ]
     },
     "metadata": {},
     "output_type": "display_data"
    }
   ],
   "source": [
    "model_label = \"Log-$t$ model\"\n",
    "axs = plot_two(\n",
    "    surv,\n",
    "    surv_model2[cutoff2],\n",
    "    n,\n",
    "    hatch=\"/\",\n",
    "    title=\"Tail distribution of asteroid diameters with log-t model\",\n",
    ")"
   ]
  },
  {
   "cell_type": "markdown",
   "metadata": {
    "tags": []
   },
   "source": [
    "In the top figure, we see that the log-$t$ model fits the data well in the middle of the range, except possibly near 1 kilometer.\n",
    "In the bottom, we see that the log-$t$ model does not fit the tail of the distribution particularly well: there are more asteroids near 100 km than the model predicts.\n",
    "So the distribution of asteroid sizes does not strictly follow a log-$t$ distribution.\n",
    "Nevertheless, we can use it to explain the distribution of crater sizes, as I'll show in the next section."
   ]
  },
  {
   "cell_type": "markdown",
   "metadata": {
    "tags": []
   },
   "source": [
    "## Origins of Long-Tailed Distributions\n",
    "\n",
    "Empirically -- that is, based on data rather than a physical model -- the diameter of an impact crater depends on the diameter of the projectile that created it, raised to the power 0.78, and on the impact velocity raised to the power 0.44.\n",
    "It also depends on the density of the asteroid and the angle of impact.\n",
    "\n",
    "Source: Melosh, *Planetary Surface Processes*.\n",
    "\n",
    "\n",
    "As a simple model of this relationship, I'll simulate the crater formation process by drawing  asteroid diameters from the distribution in the previous section and drawing the other factors -- density, velocity, and angle -- from a lognormal distribution with parameters chosen to match the data.\n",
    "The following figure shows the results from this simulation along with the actual distribution of crater sizes."
   ]
  },
  {
   "cell_type": "code",
   "execution_count": 131,
   "metadata": {
    "tags": []
   },
   "outputs": [
    {
     "data": {
      "text/plain": [
       "(135915, 1296796)"
      ]
     },
     "execution_count": 131,
     "metadata": {},
     "output_type": "execute_result"
    }
   ],
   "source": [
    "diam_asteroid = asteroids[\"diameter\"].dropna()\n",
    "diam_crater = craters[\"DIAM_CIRC_IMG\"].dropna()\n",
    "diam_asteroid.count(), diam_crater.count()"
   ]
  },
  {
   "cell_type": "code",
   "execution_count": 132,
   "metadata": {
    "tags": []
   },
   "outputs": [],
   "source": [
    "surv_crater = make_surv(np.log10(diam_crater))"
   ]
  },
  {
   "cell_type": "code",
   "execution_count": 133,
   "metadata": {
    "tags": []
   },
   "outputs": [
    {
     "data": {
      "text/plain": [
       "129679600"
      ]
     },
     "execution_count": 133,
     "metadata": {},
     "output_type": "execute_result"
    }
   ],
   "source": [
    "np.random.seed(17)\n",
    "n = diam_crater.count()\n",
    "resample_asteroid = diam_asteroid.sample(100 * n, replace=True)\n",
    "# resample_asteroid = diam_asteroid\n",
    "rvs = np.random.normal(size=resample_asteroid.count())\n",
    "len(rvs)"
   ]
  },
  {
   "cell_type": "code",
   "execution_count": 134,
   "metadata": {
    "tags": []
   },
   "outputs": [],
   "source": [
    "def error_func_pred(params):\n",
    "    \"\"\"Error function for finding parameters for the asteroid problem.\n",
    "    \n",
    "    params: tuple of mu and sigma\n",
    "    \n",
    "    returns: array of differences in the survival functions\n",
    "    \"\"\"\n",
    "    print(params)\n",
    "    mu, sigma = params\n",
    "    factors = np.power(10, rvs * sigma + mu)\n",
    "    pred_crater = factors * resample_asteroid**0.78\n",
    "    mags = np.log10(pred_crater)\n",
    "    cutoff = mags >= surv_crater.qs.min()\n",
    "    surv_pred = make_surv(mags[cutoff])\n",
    "    # surv.plot()\n",
    "    # surv_pred.plot(color='gray')\n",
    "\n",
    "    ps = np.logspace(-1, -5, 20)\n",
    "    # ps = np.linspace(0.1, 0.9, 20)\n",
    "    qs = surv.inverse(ps)\n",
    "    # print(qs)\n",
    "\n",
    "    error = surv_crater(qs) - surv_pred(qs)\n",
    "    return error"
   ]
  },
  {
   "cell_type": "code",
   "execution_count": 135,
   "metadata": {
    "tags": []
   },
   "outputs": [
    {
     "name": "stdout",
     "output_type": "stream",
     "text": [
      "(-3.194, 0.883)\n"
     ]
    },
    {
     "data": {
      "text/plain": [
       "array([-3.16249439e-04, -2.73415007e-05,  1.20415497e-04,  2.96512650e-04,\n",
       "        4.48439739e-04,  6.12564529e-04,  4.29226980e-04,  2.16708737e-04,\n",
       "        1.21459936e-04,  6.07299681e-05,  3.32894198e-05,  2.09586479e-05,\n",
       "        8.46778641e-06,  8.78063634e-06,  7.08561326e-06,  1.45431455e-07,\n",
       "        1.04829884e-05,  1.38803636e-05,  1.38803636e-05,  4.62678787e-06])"
      ]
     },
     "execution_count": 135,
     "metadata": {},
     "output_type": "execute_result"
    }
   ],
   "source": [
    "mu = -3.194\n",
    "sigma = 0.883\n",
    "params = mu, sigma\n",
    "error_func_pred(params)"
   ]
  },
  {
   "cell_type": "code",
   "execution_count": 136,
   "metadata": {
    "tags": []
   },
   "outputs": [],
   "source": [
    "def run_minimize():\n",
    "    \"\"\"Find the values of mu and sigma that solve the asteroid problem.\n",
    "    \"\"\"\n",
    "    res = least_squares(error_func_pred, x0=params, xtol=1e-3, diff_step=0.01)\n",
    "    assert res.success\n",
    "    mu, sigma = res.x\n",
    "    return mu, sigma\n",
    "\n",
    "\n",
    "# mu, sigma = run_minimize()"
   ]
  },
  {
   "cell_type": "code",
   "execution_count": 137,
   "metadata": {
    "tags": []
   },
   "outputs": [
    {
     "data": {
      "text/html": [
       "<div>\n",
       "<style scoped>\n",
       "    .dataframe tbody tr th:only-of-type {\n",
       "        vertical-align: middle;\n",
       "    }\n",
       "\n",
       "    .dataframe tbody tr th {\n",
       "        vertical-align: top;\n",
       "    }\n",
       "\n",
       "    .dataframe thead th {\n",
       "        text-align: right;\n",
       "    }\n",
       "</style>\n",
       "<table border=\"1\" class=\"dataframe\">\n",
       "  <thead>\n",
       "    <tr style=\"text-align: right;\">\n",
       "      <th></th>\n",
       "      <th>probs</th>\n",
       "    </tr>\n",
       "  </thead>\n",
       "  <tbody>\n",
       "    <tr>\n",
       "      <th>0.000001</th>\n",
       "      <td>1.000000</td>\n",
       "    </tr>\n",
       "    <tr>\n",
       "      <th>0.000002</th>\n",
       "      <td>0.999995</td>\n",
       "    </tr>\n",
       "    <tr>\n",
       "      <th>0.000005</th>\n",
       "      <td>0.999990</td>\n",
       "    </tr>\n",
       "  </tbody>\n",
       "</table>\n",
       "</div>"
      ],
      "text/plain": [
       "0.000001    1.000000\n",
       "0.000002    0.999995\n",
       "0.000005    0.999990\n",
       "Name: , dtype: float64"
      ]
     },
     "execution_count": 137,
     "metadata": {},
     "output_type": "execute_result"
    }
   ],
   "source": [
    "factors = np.power(10, rvs * sigma + mu)\n",
    "pred_crater = factors * resample_asteroid**0.78\n",
    "mags = np.log10(pred_crater)\n",
    "cutoff = mags >= surv_crater.qs.min()\n",
    "surv_pred = make_surv(mags[cutoff])\n",
    "surv_pred.head()"
   ]
  },
  {
   "cell_type": "code",
   "execution_count": 138,
   "metadata": {
    "tags": []
   },
   "outputs": [
    {
     "data": {
      "image/png": "[encoded data removed]",
      "text/plain": [
       "<Figure size 450x375 with 2 Axes>"
      ]
     },
     "metadata": {},
     "output_type": "display_data"
    }
   ],
   "source": [
    "xlabel = \"Crater diameter (kilometers)\"\n",
    "ylabel = \"Fraction with diameter ≥ $x$\"\n",
    "\n",
    "xticks = [0, 1, 2, 3]\n",
    "xlabels = [1, 10, 100, 1000]\n",
    "\n",
    "cutoff = surv_pred.qs >= 0\n",
    "model_label = \"Simulated crater sizes\"\n",
    "\n",
    "axs = plot_two(\n",
    "    surv_crater,\n",
    "    surv_pred,\n",
    "    n,\n",
    "    hatch=\"/\",\n",
    "    title=\"Tail distribution of moon crater diameters with simulation results\",\n",
    ")"
   ]
  },
  {
   "cell_type": "markdown",
   "metadata": {
    "tags": []
   },
   "source": [
    "The simulation results are a good match for the data.\n",
    "This example suggests that the distribution of crater sizes can be explained by the relationship between the distributions of asteroid sizes and other factors like velocity and density."
   ]
  },
  {
   "cell_type": "markdown",
   "metadata": {
    "tags": []
   },
   "source": [
    "## Stock Market Crashes\n",
    "\n",
    "Like natural disasters, the distribution of magnitudes of stock market crashes is long-tailed.\n",
    "To demonstrate, I'll use data from the MeasuringWorth Foundation which has compiled the value of the Dow Jones Industrial Average at the end of each day from February 16, 1885 to the present, with adjustments at several points to make the values consistent.\n",
    "The series I collected ends on May 6, 2022, so it includes 37,512 days."
   ]
  },
  {
   "cell_type": "code",
   "execution_count": 139,
   "metadata": {
    "tags": []
   },
   "outputs": [],
   "source": [
    "# \"Citation: Samuel H. Williamson, 'Daily Closing Value of the Dow Jones Average, 1885 to Present,' MeasuringWorth, 2022. \"\n",
    "\n",
    "# https://www.measuringworth.com/datasets/DJA"
   ]
  },
  {
   "cell_type": "code",
   "execution_count": 140,
   "metadata": {},
   "outputs": [],
   "source": [
    "filename = \"DJA.csv\"\n",
    "download(DATA_PATH + filename)"
   ]
  },
  {
   "cell_type": "code",
   "execution_count": 141,
   "metadata": {
    "tags": []
   },
   "outputs": [
    {
     "data": {
      "text/plain": [
       "(37512, 2)"
      ]
     },
     "execution_count": 141,
     "metadata": {},
     "output_type": "execute_result"
    }
   ],
   "source": [
    "djia = pd.read_csv(filename, skiprows=4)\n",
    "djia.shape"
   ]
  },
  {
   "cell_type": "code",
   "execution_count": 142,
   "metadata": {
    "tags": []
   },
   "outputs": [
    {
     "data": {
      "text/html": [
       "<div>\n",
       "<style scoped>\n",
       "    .dataframe tbody tr th:only-of-type {\n",
       "        vertical-align: middle;\n",
       "    }\n",
       "\n",
       "    .dataframe tbody tr th {\n",
       "        vertical-align: top;\n",
       "    }\n",
       "\n",
       "    .dataframe thead th {\n",
       "        text-align: right;\n",
       "    }\n",
       "</style>\n",
       "<table border=\"1\" class=\"dataframe\">\n",
       "  <thead>\n",
       "    <tr style=\"text-align: right;\">\n",
       "      <th></th>\n",
       "      <th>Date</th>\n",
       "      <th>DJIA</th>\n",
       "    </tr>\n",
       "  </thead>\n",
       "  <tbody>\n",
       "    <tr>\n",
       "      <th>0</th>\n",
       "      <td>2/16/1885</td>\n",
       "      <td>30.9226</td>\n",
       "    </tr>\n",
       "    <tr>\n",
       "      <th>1</th>\n",
       "      <td>2/17/1885</td>\n",
       "      <td>31.3365</td>\n",
       "    </tr>\n",
       "    <tr>\n",
       "      <th>2</th>\n",
       "      <td>2/18/1885</td>\n",
       "      <td>31.4744</td>\n",
       "    </tr>\n",
       "    <tr>\n",
       "      <th>3</th>\n",
       "      <td>2/19/1885</td>\n",
       "      <td>31.6765</td>\n",
       "    </tr>\n",
       "    <tr>\n",
       "      <th>4</th>\n",
       "      <td>2/20/1885</td>\n",
       "      <td>31.4252</td>\n",
       "    </tr>\n",
       "  </tbody>\n",
       "</table>\n",
       "</div>"
      ],
      "text/plain": [
       "        Date     DJIA\n",
       "0  2/16/1885  30.9226\n",
       "1  2/17/1885  31.3365\n",
       "2  2/18/1885  31.4744\n",
       "3  2/19/1885  31.6765\n",
       "4  2/20/1885  31.4252"
      ]
     },
     "execution_count": 142,
     "metadata": {},
     "output_type": "execute_result"
    }
   ],
   "source": [
    "djia.head()"
   ]
  },
  {
   "cell_type": "code",
   "execution_count": 143,
   "metadata": {
    "tags": []
   },
   "outputs": [
    {
     "data": {
      "text/html": [
       "<div>\n",
       "<style scoped>\n",
       "    .dataframe tbody tr th:only-of-type {\n",
       "        vertical-align: middle;\n",
       "    }\n",
       "\n",
       "    .dataframe tbody tr th {\n",
       "        vertical-align: top;\n",
       "    }\n",
       "\n",
       "    .dataframe thead th {\n",
       "        text-align: right;\n",
       "    }\n",
       "</style>\n",
       "<table border=\"1\" class=\"dataframe\">\n",
       "  <thead>\n",
       "    <tr style=\"text-align: right;\">\n",
       "      <th></th>\n",
       "      <th>Date</th>\n",
       "      <th>DJIA</th>\n",
       "    </tr>\n",
       "  </thead>\n",
       "  <tbody>\n",
       "    <tr>\n",
       "      <th>37507</th>\n",
       "      <td>5/2/2022</td>\n",
       "      <td>33061.50</td>\n",
       "    </tr>\n",
       "    <tr>\n",
       "      <th>37508</th>\n",
       "      <td>5/3/2022</td>\n",
       "      <td>33128.79</td>\n",
       "    </tr>\n",
       "    <tr>\n",
       "      <th>37509</th>\n",
       "      <td>5/4/2022</td>\n",
       "      <td>34061.06</td>\n",
       "    </tr>\n",
       "    <tr>\n",
       "      <th>37510</th>\n",
       "      <td>5/5/2022</td>\n",
       "      <td>32997.97</td>\n",
       "    </tr>\n",
       "    <tr>\n",
       "      <th>37511</th>\n",
       "      <td>5/6/2022</td>\n",
       "      <td>32899.37</td>\n",
       "    </tr>\n",
       "  </tbody>\n",
       "</table>\n",
       "</div>"
      ],
      "text/plain": [
       "           Date      DJIA\n",
       "37507  5/2/2022  33061.50\n",
       "37508  5/3/2022  33128.79\n",
       "37509  5/4/2022  34061.06\n",
       "37510  5/5/2022  32997.97\n",
       "37511  5/6/2022  32899.37"
      ]
     },
     "execution_count": 143,
     "metadata": {},
     "output_type": "execute_result"
    }
   ],
   "source": [
    "djia.tail()"
   ]
  },
  {
   "cell_type": "markdown",
   "metadata": {
    "tags": []
   },
   "source": [
    "In percentage terms, the largest single-day drop was 22.6%, during the Black Monday crash.\n",
    "The second largest drop was 12.9% on March 16, 2020, during the crash caused by the COVID-19 pandemic. \n",
    "Numbers three and four on the list were 12.8% and 11.7%, on consecutive days during Wall Street Crash of 1929. "
   ]
  },
  {
   "cell_type": "code",
   "execution_count": 144,
   "metadata": {
    "tags": []
   },
   "outputs": [
    {
     "data": {
      "text/html": [
       "<div>\n",
       "<style scoped>\n",
       "    .dataframe tbody tr th:only-of-type {\n",
       "        vertical-align: middle;\n",
       "    }\n",
       "\n",
       "    .dataframe tbody tr th {\n",
       "        vertical-align: top;\n",
       "    }\n",
       "\n",
       "    .dataframe thead th {\n",
       "        text-align: right;\n",
       "    }\n",
       "</style>\n",
       "<table border=\"1\" class=\"dataframe\">\n",
       "  <thead>\n",
       "    <tr style=\"text-align: right;\">\n",
       "      <th></th>\n",
       "      <th>Date</th>\n",
       "      <th>DJIA</th>\n",
       "      <th>change</th>\n",
       "    </tr>\n",
       "  </thead>\n",
       "  <tbody>\n",
       "    <tr>\n",
       "      <th>28833</th>\n",
       "      <td>10/19/1987</td>\n",
       "      <td>1738.74</td>\n",
       "      <td>-22.610538</td>\n",
       "    </tr>\n",
       "    <tr>\n",
       "      <th>36978</th>\n",
       "      <td>3/16/2020</td>\n",
       "      <td>20188.52</td>\n",
       "      <td>-12.926547</td>\n",
       "    </tr>\n",
       "    <tr>\n",
       "      <th>13297</th>\n",
       "      <td>10/28/1929</td>\n",
       "      <td>260.64</td>\n",
       "      <td>-12.820684</td>\n",
       "    </tr>\n",
       "    <tr>\n",
       "      <th>13298</th>\n",
       "      <td>10/29/1929</td>\n",
       "      <td>230.07</td>\n",
       "      <td>-11.728821</td>\n",
       "    </tr>\n",
       "    <tr>\n",
       "      <th>36976</th>\n",
       "      <td>3/12/2020</td>\n",
       "      <td>21200.62</td>\n",
       "      <td>-9.988443</td>\n",
       "    </tr>\n",
       "  </tbody>\n",
       "</table>\n",
       "</div>"
      ],
      "text/plain": [
       "             Date      DJIA     change\n",
       "28833  10/19/1987   1738.74 -22.610538\n",
       "36978   3/16/2020  20188.52 -12.926547\n",
       "13297  10/28/1929    260.64 -12.820684\n",
       "13298  10/29/1929    230.07 -11.728821\n",
       "36976   3/12/2020  21200.62  -9.988443"
      ]
     },
     "execution_count": 144,
     "metadata": {},
     "output_type": "execute_result"
    }
   ],
   "source": [
    "diff = np.log10(djia[\"DJIA\"]).diff()\n",
    "djia[\"change\"] = (10**diff - 1) * 100\n",
    "djia.sort_values(by=\"change\").head()"
   ]
  },
  {
   "cell_type": "markdown",
   "metadata": {
    "tags": []
   },
   "source": [
    "On the positive side, the largest single-day gain was on March 15, 1933, when the index gained 15.3%.\n",
    "There were other large gains in October 1929 and October 1931.\n",
    "The largest gain of the 21st century, so far, was on March 24, 2020, when the index gained 11.4% in expectation that the U.S. Congress would pass a large economic stimulus bill."
   ]
  },
  {
   "cell_type": "code",
   "execution_count": 145,
   "metadata": {
    "tags": []
   },
   "outputs": [
    {
     "data": {
      "text/html": [
       "<div>\n",
       "<style scoped>\n",
       "    .dataframe tbody tr th:only-of-type {\n",
       "        vertical-align: middle;\n",
       "    }\n",
       "\n",
       "    .dataframe tbody tr th {\n",
       "        vertical-align: top;\n",
       "    }\n",
       "\n",
       "    .dataframe thead th {\n",
       "        text-align: right;\n",
       "    }\n",
       "</style>\n",
       "<table border=\"1\" class=\"dataframe\">\n",
       "  <thead>\n",
       "    <tr style=\"text-align: right;\">\n",
       "      <th></th>\n",
       "      <th>Date</th>\n",
       "      <th>DJIA</th>\n",
       "      <th>change</th>\n",
       "    </tr>\n",
       "  </thead>\n",
       "  <tbody>\n",
       "    <tr>\n",
       "      <th>36984</th>\n",
       "      <td>3/24/2020</td>\n",
       "      <td>20704.9100</td>\n",
       "      <td>11.365038</td>\n",
       "    </tr>\n",
       "    <tr>\n",
       "      <th>13299</th>\n",
       "      <td>10/30/1929</td>\n",
       "      <td>258.4700</td>\n",
       "      <td>12.344069</td>\n",
       "    </tr>\n",
       "    <tr>\n",
       "      <th>13871</th>\n",
       "      <td>10/6/1931</td>\n",
       "      <td>99.3400</td>\n",
       "      <td>14.870490</td>\n",
       "    </tr>\n",
       "    <tr>\n",
       "      <th>14292</th>\n",
       "      <td>3/15/1933</td>\n",
       "      <td>62.1000</td>\n",
       "      <td>15.341753</td>\n",
       "    </tr>\n",
       "    <tr>\n",
       "      <th>0</th>\n",
       "      <td>2/16/1885</td>\n",
       "      <td>30.9226</td>\n",
       "      <td>NaN</td>\n",
       "    </tr>\n",
       "  </tbody>\n",
       "</table>\n",
       "</div>"
      ],
      "text/plain": [
       "             Date        DJIA     change\n",
       "36984   3/24/2020  20704.9100  11.365038\n",
       "13299  10/30/1929    258.4700  12.344069\n",
       "13871   10/6/1931     99.3400  14.870490\n",
       "14292   3/15/1933     62.1000  15.341753\n",
       "0       2/16/1885     30.9226        NaN"
      ]
     },
     "execution_count": 145,
     "metadata": {},
     "output_type": "execute_result"
    }
   ],
   "source": [
    "djia.sort_values(by=\"change\").tail()"
   ]
  },
  {
   "cell_type": "markdown",
   "metadata": {
    "tags": []
   },
   "source": [
    "But these large moves are unusual; on 95% of days, the change is less than 2 percentage points either way."
   ]
  },
  {
   "cell_type": "code",
   "execution_count": 146,
   "metadata": {
    "tags": []
   },
   "outputs": [
    {
     "data": {
      "text/plain": [
       "count    37511.000000\n",
       "mean         0.712317\n",
       "std          0.799769\n",
       "min          0.000000\n",
       "25%          0.217753\n",
       "50%          0.493605\n",
       "75%          0.935523\n",
       "max         22.610538\n",
       "Name: change, dtype: float64"
      ]
     },
     "execution_count": 146,
     "metadata": {},
     "output_type": "execute_result"
    }
   ],
   "source": [
    "djia[\"change\"].abs().describe()"
   ]
  },
  {
   "cell_type": "code",
   "execution_count": 147,
   "metadata": {
    "tags": []
   },
   "outputs": [
    {
     "data": {
      "text/plain": [
       "0.9453508210705908"
      ]
     },
     "execution_count": 147,
     "metadata": {},
     "output_type": "execute_result"
    }
   ],
   "source": [
    "(djia[\"change\"].abs() < 2).mean()"
   ]
  },
  {
   "cell_type": "code",
   "execution_count": 148,
   "metadata": {
    "tags": []
   },
   "outputs": [
    {
     "data": {
      "text/plain": [
       "0.028897419492429088"
      ]
     },
     "execution_count": 148,
     "metadata": {},
     "output_type": "execute_result"
    }
   ],
   "source": [
    "(djia[\"change\"] < -2).mean()"
   ]
  },
  {
   "cell_type": "code",
   "execution_count": 149,
   "metadata": {
    "tags": []
   },
   "outputs": [
    {
     "data": {
      "text/plain": [
       "count    37511.000000\n",
       "mean         0.000081\n",
       "std          0.004660\n",
       "min         -0.111318\n",
       "25%         -0.001970\n",
       "50%          0.000195\n",
       "75%          0.002291\n",
       "max          0.061987\n",
       "Name: DJIA, dtype: float64"
      ]
     },
     "execution_count": 149,
     "metadata": {},
     "output_type": "execute_result"
    }
   ],
   "source": [
    "all_mags = np.log10(djia[\"DJIA\"]).diff()\n",
    "all_mags.describe()"
   ]
  },
  {
   "cell_type": "code",
   "execution_count": 150,
   "metadata": {
    "tags": []
   },
   "outputs": [
    {
     "data": {
      "text/plain": [
       "(0.5231392621027938, 0.4713158455960759, 0.005518234165067178)"
      ]
     },
     "execution_count": 150,
     "metadata": {},
     "output_type": "execute_result"
    }
   ],
   "source": [
    "(all_mags > 0).mean(), (all_mags < 0).mean(), (all_mags == 0).mean()"
   ]
  },
  {
   "cell_type": "code",
   "execution_count": 151,
   "metadata": {
    "tags": []
   },
   "outputs": [
    {
     "data": {
      "text/plain": [
       "0.018582199949923606"
      ]
     },
     "execution_count": 151,
     "metadata": {},
     "output_type": "execute_result"
    }
   ],
   "source": [
    "r = 10 ** all_mags.mean()\n",
    "(r - 1) * 100"
   ]
  },
  {
   "cell_type": "markdown",
   "metadata": {
    "tags": []
   },
   "source": [
    "As an aside, the index climbed on 52.3% of days, fell on 47.1% of days, and closed exactly where it opened on the remaining 0.06% of days.\n",
    "The average increase was only 0.02% per day, but with about 250 trading days per year, that amounts to an increase of 4.8% annually.\n",
    "After 37,512 days, the total increase is more than 100,000%.\n",
    "So that's a pretty good return on investment, if you made the investment in 1885."
   ]
  },
  {
   "cell_type": "code",
   "execution_count": 152,
   "metadata": {
    "tags": []
   },
   "outputs": [
    {
     "data": {
      "text/plain": [
       "0.04754694096007417"
      ]
     },
     "execution_count": 152,
     "metadata": {},
     "output_type": "execute_result"
    }
   ],
   "source": [
    "r**250 - 1"
   ]
  },
  {
   "cell_type": "code",
   "execution_count": 153,
   "metadata": {
    "tags": []
   },
   "outputs": [
    {
     "data": {
      "text/plain": [
       "(37512, 1063.1240848647278)"
      ]
     },
     "execution_count": 153,
     "metadata": {},
     "output_type": "execute_result"
    }
   ],
   "source": [
    "n = len(all_mags)\n",
    "n, r**n - 1"
   ]
  },
  {
   "cell_type": "code",
   "execution_count": 154,
   "metadata": {
    "tags": []
   },
   "outputs": [
    {
     "data": {
      "text/plain": [
       "(30.9226, 32899.37, 1062.926383939255)"
      ]
     },
     "execution_count": 154,
     "metadata": {},
     "output_type": "execute_result"
    }
   ],
   "source": [
    "start, end = djia[\"DJIA\"].iloc[[0, -1]]\n",
    "start, end, end / start - 1"
   ]
  },
  {
   "cell_type": "code",
   "execution_count": 155,
   "metadata": {
    "tags": []
   },
   "outputs": [
    {
     "data": {
      "text/plain": [
       "0.4713158455960759"
      ]
     },
     "execution_count": 155,
     "metadata": {},
     "output_type": "execute_result"
    }
   ],
   "source": [
    "losses = all_mags < 0\n",
    "losses.mean()"
   ]
  },
  {
   "cell_type": "code",
   "execution_count": 156,
   "metadata": {
    "tags": []
   },
   "outputs": [
    {
     "data": {
      "text/plain": [
       "count    1.768000e+04\n",
       "mean     3.196865e-03\n",
       "std      3.704198e-03\n",
       "min      7.287896e-07\n",
       "25%      9.450282e-04\n",
       "50%      2.151678e-03\n",
       "75%      4.170744e-03\n",
       "max      1.113182e-01\n",
       "Name: DJIA, dtype: float64"
      ]
     },
     "execution_count": 156,
     "metadata": {},
     "output_type": "execute_result"
    }
   ],
   "source": [
    "mags = -all_mags[losses]\n",
    "mags.describe()"
   ]
  },
  {
   "cell_type": "code",
   "execution_count": 157,
   "metadata": {
    "tags": []
   },
   "outputs": [
    {
     "data": {
      "text/plain": [
       "0.7738946206503647"
      ]
     },
     "execution_count": 157,
     "metadata": {},
     "output_type": "execute_result"
    }
   ],
   "source": [
    "10 ** (-mags.max())"
   ]
  },
  {
   "cell_type": "code",
   "execution_count": 158,
   "metadata": {
    "tags": []
   },
   "outputs": [
    {
     "data": {
      "text/plain": [
       "17680"
      ]
     },
     "execution_count": 158,
     "metadata": {},
     "output_type": "execute_result"
    }
   ],
   "source": [
    "n = mags.count()\n",
    "n"
   ]
  },
  {
   "cell_type": "code",
   "execution_count": 159,
   "metadata": {
    "tags": []
   },
   "outputs": [],
   "source": [
    "surv = make_surv(mags)"
   ]
  },
  {
   "cell_type": "code",
   "execution_count": 160,
   "metadata": {
    "tags": []
   },
   "outputs": [
    {
     "name": "stdout",
     "output_type": "stream",
     "text": [
      "[0.00319687 0.00370402]\n",
      "[0.00319688 0.00370402]\n",
      "[0.00319687 0.00370403]\n",
      "[-0.00135066  0.00550947]\n",
      "[-0.00135068  0.00550947]\n",
      "[-0.00135066  0.00550949]\n",
      "[-0.00621367  0.00604876]\n",
      "[-0.00621368  0.00604876]\n",
      "[-0.00621367  0.00604878]\n",
      "[-0.01125975  0.00718395]\n",
      "[-0.01125977  0.00718395]\n",
      "[-0.01125975  0.00718397]\n",
      "[-0.01332919  0.00747084]\n",
      "[-0.0133292   0.00747084]\n",
      "[-0.01332919  0.00747086]\n",
      "[-0.01298827  0.00737537]\n",
      "[-0.01298828  0.00737537]\n",
      "[-0.01298827  0.00737539]\n",
      "[-0.01293662  0.00736386]\n",
      "[-0.01293664  0.00736386]\n",
      "[-0.01293662  0.00736387]\n",
      "[-0.01293473  0.00736343]\n",
      "[-0.01293475  0.00736343]\n",
      "[-0.01293473  0.00736344]\n"
     ]
    },
    {
     "data": {
      "text/plain": [
       "(-0.01293473237820722, 0.00736342960496129)"
      ]
     },
     "execution_count": 160,
     "metadata": {},
     "output_type": "execute_result"
    }
   ],
   "source": [
    "mu, sigma = fit_truncated_normal(surv)\n",
    "mu, sigma"
   ]
  },
  {
   "cell_type": "code",
   "execution_count": 161,
   "metadata": {
    "tags": []
   },
   "outputs": [],
   "source": [
    "low, high = surv.qs.min(), surv.qs.max()\n",
    "qs = np.linspace(low, high, 2000)\n",
    "surv_model = truncated_normal_sf(qs, mu, sigma)"
   ]
  },
  {
   "cell_type": "code",
   "execution_count": 162,
   "metadata": {
    "tags": []
   },
   "outputs": [
    {
     "data": {
      "text/plain": [
       "array([-0.        ,  0.02227639,  0.04575749,  0.07058107,  0.09691001])"
      ]
     },
     "execution_count": 162,
     "metadata": {},
     "output_type": "execute_result"
    }
   ],
   "source": [
    "xlabel = \"One day percent change\"\n",
    "xlabels = [\"no change\", \"-5%\", \"-10%\", \"-15%\", \"-20%\"]\n",
    "xticks = -np.log10([1, 0.95, 0.9, 0.85, 0.8])\n",
    "xticks"
   ]
  },
  {
   "cell_type": "code",
   "execution_count": 163,
   "metadata": {
    "tags": []
   },
   "outputs": [
    {
     "data": {
      "text/plain": [
       "0.48076923076922906"
      ]
     },
     "execution_count": 163,
     "metadata": {},
     "output_type": "execute_result"
    }
   ],
   "source": [
    "surv(xticks)[1] * 100"
   ]
  },
  {
   "cell_type": "code",
   "execution_count": 164,
   "metadata": {
    "tags": []
   },
   "outputs": [],
   "source": [
    "cutoff = surv_model > 1e-5\n",
    "yticks = [1, 0.1, 0.01, 1e-3, 1e-4, 1e-5]\n",
    "ylabels = [1, 0.1, 0.01, 0.001, \"$10^{-4}$\", \"$10^{-5}$\"]"
   ]
  },
  {
   "cell_type": "markdown",
   "metadata": {
    "tags": []
   },
   "source": [
    "Since we are interested in stock market crashes, I selected the 17,680 days when the value of the index dropped."
   ]
  },
  {
   "cell_type": "code",
   "execution_count": 165,
   "metadata": {
    "tags": []
   },
   "outputs": [
    {
     "data": {
      "image/png": "[encoded data removed]",
      "text/plain": [
       "<Figure size 450x375 with 2 Axes>"
      ]
     },
     "metadata": {},
     "output_type": "display_data"
    }
   ],
   "source": [
    "model_label = \"Lognormal model\"\n",
    "ylabel = \"Fraction with drop ≥ $x$\"\n",
    "\n",
    "axs = plot_two(\n",
    "    surv,\n",
    "    surv_model[cutoff],\n",
    "    n,\n",
    "    title=\"Tail distribution of negative changes with lognormal model\",\n",
    ")"
   ]
  },
  {
   "cell_type": "markdown",
   "metadata": {
    "tags": []
   },
   "source": [
    "On the left, the lognormal model seems to fit the distribution well, but again there are big differences hiding in the tail.\n",
    "On the right, we can see that the lognormal model does not fit the tail of the distribution at all."
   ]
  },
  {
   "cell_type": "markdown",
   "metadata": {
    "tags": []
   },
   "source": [
    "The following figure shows the distribution of these negative percentage changes compared to a log-$t$ model."
   ]
  },
  {
   "cell_type": "code",
   "execution_count": 166,
   "metadata": {
    "tags": []
   },
   "outputs": [],
   "source": [
    "df = minimize_df(3, surv, [(1, 20)])"
   ]
  },
  {
   "cell_type": "code",
   "execution_count": 167,
   "metadata": {
    "tags": []
   },
   "outputs": [
    {
     "data": {
      "text/plain": [
       "(array([3.89459284]), -0.002607418644655211, 0.0034267134529862176)"
      ]
     },
     "execution_count": 167,
     "metadata": {},
     "output_type": "execute_result"
    }
   ],
   "source": [
    "mu, sigma = fit_truncated_t(df, surv)\n",
    "df, mu, sigma"
   ]
  },
  {
   "cell_type": "code",
   "execution_count": 168,
   "metadata": {
    "tags": []
   },
   "outputs": [],
   "source": [
    "low, high = surv.qs.min(), surv.qs.max()\n",
    "qs = np.linspace(low, 1.02 * high, 2000)\n",
    "surv_model = truncated_t_sf(qs, df, mu, sigma)\n",
    "cutoff = surv_model.qs <= high"
   ]
  },
  {
   "cell_type": "code",
   "execution_count": 169,
   "metadata": {
    "tags": []
   },
   "outputs": [
    {
     "data": {
      "image/png": "[encoded data removed]",
      "text/plain": [
       "<Figure size 450x375 with 2 Axes>"
      ]
     },
     "metadata": {},
     "output_type": "display_data"
    }
   ],
   "source": [
    "model_label = \"Log-$t$ model\"\n",
    "axs = plot_two(\n",
    "    surv,\n",
    "    surv_model,\n",
    "    n,\n",
    "    hatch=\"/\",\n",
    "    title=\"Tail distribution of stock market changes with log-$t$ model\",\n",
    ")\n",
    "surv.iloc[-2:].plot(color=\"C0\", style=\"o\")\n",
    "None"
   ]
  },
  {
   "cell_type": "markdown",
   "metadata": {
    "tags": []
   },
   "source": [
    "The top figure shows that the log-$t$ model fits the left side of the distribution well.\n",
    "The bottom figure shows that it fits the tail well, with the possible exception of the last data point, the 1987 crash, which falls just at the edge of variation we expect.\n",
    "According to the model, there is only a 5% chance that we would see a crash as big as this one after 17,680 down days."
   ]
  },
  {
   "cell_type": "code",
   "execution_count": 170,
   "metadata": {
    "tags": []
   },
   "outputs": [
    {
     "data": {
      "text/plain": [
       "(17680, array(5.6561086e-05), array(1.2891636e-05), 4.387425004195537)"
      ]
     },
     "execution_count": 170,
     "metadata": {},
     "output_type": "execute_result"
    }
   ],
   "source": [
    "x = surv.qs.max()\n",
    "y1 = surv(x)\n",
    "y2 = surv_model(x)\n",
    "n, y1, y2, y1 / y2"
   ]
  },
  {
   "cell_type": "code",
   "execution_count": 171,
   "metadata": {
    "tags": []
   },
   "outputs": [
    {
     "data": {
      "text/plain": [
       "array([0.05423513])"
      ]
     },
     "execution_count": 171,
     "metadata": {},
     "output_type": "execute_result"
    }
   ],
   "source": [
    "1 - t_dist(df, mu, sigma).cdf(x) ** n"
   ]
  },
  {
   "cell_type": "markdown",
   "metadata": {
    "tags": []
   },
   "source": [
    "## Black and Gray Swans\n",
    "\n",
    "If you have read *The Black Swan*, by Nassim Taleb, the examples in this chapter provide context for understanding black swans and their relatives, gray swans.\n",
    "\n",
    "In Taleb's vocabulary, a black swan is a large, impactful event that was considered extremely unlikely before it happened, based on a model of prior events.\n",
    "If the distribution of event sizes is actually long-tailed and the model is Gaussian, black swans will happen with some regularity.\n",
    "\n",
    "For example, if we use a Gaussian distribution to model the magnitudes of earthquakes, we predict that the probability of a magnitude 7 earthquake is about 4 per sextillion ($10^{18}$).\n",
    "The actual rate in the dataset we looked at is about 6 per million, which is more likely by a factor of a trillion ($10^{12}$).\n",
    "When a magnitude 7 earthquake occurs, it would be a black swan if your predictions were based on the Gaussian model."
   ]
  },
  {
   "cell_type": "code",
   "execution_count": 172,
   "metadata": {
    "tags": []
   },
   "outputs": [],
   "source": [
    "# x = 7\n",
    "# surv(x)*1e6, surv_model(x)*1e18\n",
    "\n",
    "# 6.318484473557436, 4.618502751454663"
   ]
  },
  {
   "cell_type": "markdown",
   "metadata": {
    "tags": []
   },
   "source": [
    "## In a Long-Tailed World\n",
    "\n",
    "Imagine a world where the distribution of human height is not Gaussian or even lognormal; instead, it follows a long-tailed distribution like the various disasters in this chapter. \n",
    "Specifically, suppose it follows a log-$t$ distribution with the same tail thickness as the distribution of disaster costs, but with the same mean as the distribution of human height.\n"
   ]
  },
  {
   "cell_type": "code",
   "execution_count": 173,
   "metadata": {},
   "outputs": [],
   "source": [
    "filename = \"brfss_sample.hdf\"\n",
    "download(DATA_PATH + filename)"
   ]
  },
  {
   "cell_type": "code",
   "execution_count": 174,
   "metadata": {
    "tags": []
   },
   "outputs": [
    {
     "data": {
      "text/plain": [
       "0.25    163.0\n",
       "0.75    178.0\n",
       "Name: HTM4, dtype: float64"
      ]
     },
     "execution_count": 174,
     "metadata": {},
     "output_type": "execute_result"
    }
   ],
   "source": [
    "brfss = pd.read_hdf(filename, \"brfss\")\n",
    "height = brfss[\"HTM4\"]\n",
    "height.quantile([0.25, 0.75])"
   ]
  },
  {
   "cell_type": "code",
   "execution_count": 175,
   "metadata": {
    "tags": []
   },
   "outputs": [
    {
     "data": {
      "text/plain": [
       "count    375271.000000\n",
       "mean          2.229956\n",
       "std           0.028219\n",
       "min           1.959041\n",
       "25%           2.212188\n",
       "50%           2.230449\n",
       "75%           2.250420\n",
       "max           2.369216\n",
       "Name: HTM4, dtype: float64"
      ]
     },
     "execution_count": 175,
     "metadata": {},
     "output_type": "execute_result"
    }
   ],
   "source": [
    "mags = np.log10(height)\n",
    "n = mags.count()\n",
    "mags.describe()"
   ]
  },
  {
   "cell_type": "code",
   "execution_count": 176,
   "metadata": {
    "tags": []
   },
   "outputs": [],
   "source": [
    "surv = make_surv(mags)"
   ]
  },
  {
   "cell_type": "code",
   "execution_count": 177,
   "metadata": {
    "tags": []
   },
   "outputs": [
    {
     "data": {
      "text/plain": [
       "array([999956.88032959])"
      ]
     },
     "execution_count": 177,
     "metadata": {},
     "output_type": "execute_result"
    }
   ],
   "source": [
    "df = minimize_df(5, surv, [(1, 1e6)])\n",
    "df"
   ]
  },
  {
   "cell_type": "code",
   "execution_count": 178,
   "metadata": {
    "tags": []
   },
   "outputs": [
    {
     "data": {
      "text/plain": [
       "(3.53, 2.2293002087495855, 0.025915290179531335)"
      ]
     },
     "execution_count": 178,
     "metadata": {},
     "output_type": "execute_result"
    }
   ],
   "source": [
    "df = 3.53  # same as distribution of disasters\n",
    "mu, sigma = fit_truncated_t(df, surv)\n",
    "df, mu, sigma"
   ]
  },
  {
   "cell_type": "code",
   "execution_count": 179,
   "metadata": {
    "tags": []
   },
   "outputs": [],
   "source": [
    "low, high = surv.qs.min(), surv.qs.max()\n",
    "qs = np.linspace(low, high, 2000)\n",
    "surv_model = truncated_t_sf(qs, df, mu, sigma)"
   ]
  },
  {
   "cell_type": "code",
   "execution_count": 180,
   "metadata": {
    "tags": []
   },
   "outputs": [
    {
     "data": {
      "image/png": "[encoded data removed]",
      "text/plain": [
       "<Figure size 450x375 with 2 Axes>"
      ]
     },
     "metadata": {},
     "output_type": "display_data"
    }
   ],
   "source": [
    "model_label = \"Log-$t$ model\"\n",
    "xlabel = \"\"\n",
    "ylabel = \"\"\n",
    "xticks = []\n",
    "xlabels = xticks\n",
    "axs = plot_two(surv, surv_model, n)"
   ]
  },
  {
   "cell_type": "code",
   "execution_count": 181,
   "metadata": {
    "tags": []
   },
   "outputs": [
    {
     "data": {
      "image/png": "[encoded data removed]",
      "text/plain": [
       "<Figure size 450x225 with 1 Axes>"
      ]
     },
     "metadata": {},
     "output_type": "display_data"
    }
   ],
   "source": [
    "surv_model.plot(color=\"gray\", alpha=0.4)\n",
    "surv.plot(ls=\"--\")\n",
    "decorate(xlabel=\"Log Height\", ylabel=\"Prob >= x\")"
   ]
  },
  {
   "cell_type": "code",
   "execution_count": 182,
   "metadata": {
    "tags": []
   },
   "outputs": [],
   "source": [
    "dist = t_dist(df, mu, sigma)"
   ]
  },
  {
   "cell_type": "code",
   "execution_count": 183,
   "metadata": {
    "tags": []
   },
   "outputs": [
    {
     "data": {
      "text/plain": [
       "[0.99, 0.999, 0.9999, 0.999999, 0.999999996969697, 0.9999999998571428]"
      ]
     },
     "execution_count": 183,
     "metadata": {},
     "output_type": "execute_result"
    }
   ],
   "source": [
    "ps = [0.99, 0.999, 1 - 1 / 10000, 1 - 1e-6, 1 - 1 / 330e6, 1 - 1 / 7e9]\n",
    "ps"
   ]
  },
  {
   "cell_type": "code",
   "execution_count": 184,
   "metadata": {
    "tags": []
   },
   "outputs": [
    {
     "data": {
      "text/plain": [
       "0.0"
      ]
     },
     "execution_count": 184,
     "metadata": {},
     "output_type": "execute_result"
    }
   ],
   "source": [
    "(height >= 277).mean() * 7e9"
   ]
  },
  {
   "cell_type": "markdown",
   "metadata": {
    "tags": []
   },
   "source": [
    "Out of 100 people, the tallest might be 215 cm.\n",
    "\n",
    "If you see 1000 people, the tallest of them might be 277 cm.\n",
    "\n",
    "Out of 10,000 people, the tallest would be more than 4 meters tall.\n",
    "\n",
    "Out of a million people in Long-tailed World, the tallest would be 59 meters\n",
    ".\n",
    "In a country the size of the United States, the tallest person would be 160,000 kilometers tall.\n",
    "\n",
    "And in a world population of 7 billion, the tallest would be 14 quintillion kilometers tall, which is about 1500 light years.\n"
   ]
  },
  {
   "cell_type": "code",
   "execution_count": 185,
   "metadata": {
    "tags": []
   },
   "outputs": [
    {
     "data": {
      "text/plain": [
       "2.157502e+00    0.990000\n",
       "2.770812e+00    0.999000\n",
       "4.417009e+00    0.999900\n",
       "5.889090e+01    0.999999\n",
       "1.575952e+08    1.000000\n",
       "1.446048e+19    1.000000\n",
       "dtype: float64"
      ]
     },
     "execution_count": 185,
     "metadata": {},
     "output_type": "execute_result"
    }
   ],
   "source": [
    "# predicted heights converted from cm to m\n",
    "\n",
    "qs = dist.ppf(ps)\n",
    "series = pd.Series(ps, 10**qs / 100)\n",
    "series"
   ]
  },
  {
   "cell_type": "code",
   "execution_count": 186,
   "metadata": {
    "tags": []
   },
   "outputs": [
    {
     "data": {
      "text/plain": [
       "1528.4737629339206"
      ]
     },
     "execution_count": 186,
     "metadata": {},
     "output_type": "execute_result"
    }
   ],
   "source": [
    "# height of the tallest person in light years\n",
    "\n",
    "series.index[-1] / 9.46073e15"
   ]
  },
  {
   "cell_type": "code",
   "execution_count": 187,
   "metadata": {
    "tags": []
   },
   "outputs": [
    {
     "data": {
      "text/plain": [
       "2.333951     1.000000e-02\n",
       "2.442607     1.000000e-03\n",
       "2.645128     1.000000e-04\n",
       "3.770048     1.000000e-06\n",
       "10.197543    3.030303e-09\n",
       "21.160183    1.428572e-10\n",
       "dtype: float64"
      ]
     },
     "execution_count": 187,
     "metadata": {},
     "output_type": "execute_result"
    }
   ],
   "source": [
    "# double-checking that the \"tallest people\" examples are on the model curve\n",
    "\n",
    "transformed = 1 - pd.Series(ps, qs)\n",
    "transformed"
   ]
  },
  {
   "cell_type": "code",
   "execution_count": 188,
   "metadata": {
    "tags": []
   },
   "outputs": [
    {
     "data": {
      "image/png": "[encoded data removed]",
      "text/plain": [
       "<Figure size 450x225 with 1 Axes>"
      ]
     },
     "metadata": {},
     "output_type": "display_data"
    }
   ],
   "source": [
    "surv_model.plot(color=\"gray\", alpha=0.4)\n",
    "surv.plot(ls=\"--\")\n",
    "transformed.iloc[:3].plot()\n",
    "\n",
    "decorate(yscale=\"log\")"
   ]
  },
  {
   "cell_type": "markdown",
   "metadata": {
    "tags": []
   },
   "source": [
    "Probably Overthinking It\n",
    "\n",
    "Copyright 2022 Allen Downey \n",
    "\n",
    "The code in this notebook and `utils.py` is under the [MIT license](https://mit-license.org/)."
   ]
  }
 ],
 "metadata": {
  "celltoolbar": "Tags",
  "kernelspec": {
   "display_name": "Python 3 (ipykernel)",
   "language": "python",
   "name": "python3"
  },
  "language_info": {
   "codemirror_mode": {
    "name": "ipython",
    "version": 3
   },
   "file_extension": ".py",
   "mimetype": "text/x-python",
   "name": "python",
   "nbconvert_exporter": "python",
   "pygments_lexer": "ipython3",
   "version": "3.8.16"
  }
 },
 "nbformat": 4,
 "nbformat_minor": 4
}
