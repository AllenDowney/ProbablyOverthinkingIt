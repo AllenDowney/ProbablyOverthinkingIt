{
 "cells": [
  {
   "cell_type": "markdown",
   "id": "f6c7817d",
   "metadata": {},
   "source": [
    "## Clean IPUMS CPS data"
   ]
  },
  {
   "cell_type": "markdown",
   "id": "93158b47",
   "metadata": {},
   "source": [
    "This is one of the Jupyter notebooks I used in my preparation of *[Probably Overthinking It: How to Use Data to Answer Questions, Avoid Statistical Traps, and Make Better Decisions](https://greenteapress.com/wp/probably-overthinking-it)*, University of Chicago Press, 2023.\n",
    "\n",
    "Before you read these notebooks, please keep in mind:\n",
    "\n",
    "* There is some explanatory text in the notebooks, but some of the examples will not make sense until you have read the corresponding chapter in the book.\n",
    "\n",
    "* While preparing these notebooks, I made some changes to improve the readability of the code. There might be small differences between what appears in the book and what you get when you run the code."
   ]
  },
  {
   "cell_type": "markdown",
   "id": "376f02f2",
   "metadata": {},
   "source": [
    "[Click here to run this notebook on Colab](https://colab.research.google.com/github/AllenDowney/ProbablyOverthinkingIt/blob/book/notebooks/clean_cps.ipynb)."
   ]
  },
  {
   "cell_type": "code",
   "execution_count": null,
   "id": "bdcbcccb",
   "metadata": {},
   "outputs": [],
   "source": [
    "import numpy as np\n",
    "import pandas as pd\n",
    "import matplotlib.pyplot as plt"
   ]
  },
  {
   "cell_type": "markdown",
   "id": "231f45e8",
   "metadata": {},
   "source": [
    "This is the notebook I used to download and clean IPUMS CPS data for the example in Chapter 10 about real wages and education.\n",
    "\n",
    "In order to create and download an data extract, you'll need an [IPUMS API key](https://developer.ipums.org/docs/v2/get-started/)."
   ]
  },
  {
   "cell_type": "code",
   "execution_count": null,
   "id": "7838412b",
   "metadata": {},
   "outputs": [],
   "source": [
    "api_key = \"PUT YOUR API KEY HERE\""
   ]
  },
  {
   "cell_type": "markdown",
   "id": "c30bb6a9",
   "metadata": {},
   "source": [
    "Installing `ipumspy` has become a bit of a challenge because it requires an older version of pandas. So you might want to run this in an environment that separate from the one you use to run the other notebooks."
   ]
  },
  {
   "cell_type": "code",
   "execution_count": null,
   "id": "83913de9",
   "metadata": {},
   "outputs": [],
   "source": [
    "# !pip install ipumspy\n",
    "\n",
    "# !conda install --experimental-solver=libmamba -c conda-forge ipumspy"
   ]
  },
  {
   "cell_type": "code",
   "execution_count": null,
   "id": "d07ec1a5",
   "metadata": {},
   "outputs": [],
   "source": [
    "from ipumspy import IpumsApiClient, CpsExtract"
   ]
  },
  {
   "cell_type": "code",
   "execution_count": null,
   "id": "d693d1c6",
   "metadata": {},
   "outputs": [],
   "source": [
    "ipums = IpumsApiClient(api_key)"
   ]
  },
  {
   "cell_type": "markdown",
   "id": "ec0d983c",
   "metadata": {},
   "source": [
    "```\n",
    "Type \tVariable \tLabel\n",
    "H \tYEAR \tSurvey year\n",
    "H \tSERIAL \tHousehold serial number\n",
    "H \tMONTH \tMonth\n",
    "H \tHWTFINL \tHousehold weight, Basic Monthly\n",
    "H \tCPSID \tCPSID, household record\n",
    "P \tPERNUM \tPerson number in sample unit\n",
    "P \tWTFINL \tFinal Basic Weight\n",
    "P \tCPSIDP \tCPSID, person record\n",
    "P \tAGE \tAge\n",
    "P \tSEX \tSex\n",
    "P \tRACE \tRace\n",
    "P \tFREVER \tNumber of live births ever had\n",
    "P \tFREXPECT \tExpect to have additional children\n",
    "P \tFRSUPPWT \tFertility Supplement Weight\n",
    "```\n",
    "\n"
   ]
  },
  {
   "cell_type": "markdown",
   "id": "c83424ad",
   "metadata": {},
   "source": [
    "```\n",
    "cps1976_06s\n",
    "\n",
    "cps1989_06s\n",
    "Invalid sample name: cps1993_06s\n",
    "Invalid sample name: cps1996_06s\n",
    "Invalid sample name: cps1997_06s\n",
    "Invalid sample name: cps1999_06s\n",
    "Invalid sample name: cps2005_06s\n",
    "Invalid sample name: cps2007_06s\n",
    "Invalid sample name: cps2009_06s\n",
    "```"
   ]
  },
  {
   "cell_type": "markdown",
   "id": "923e78c7",
   "metadata": {},
   "source": [
    "* Discovering sample names is non-obvious\n",
    "\n",
    "year, month, 'b' or 's'\n",
    "\n",
    "which month for which supplement\n",
    "\n",
    "\n",
    "* Might be nice to have a synchronous version of download_extract"
   ]
  },
  {
   "cell_type": "code",
   "execution_count": null,
   "id": "69bb9efe",
   "metadata": {},
   "outputs": [],
   "source": [
    "years = range(1970, 2022)"
   ]
  },
  {
   "cell_type": "code",
   "execution_count": null,
   "id": "32380bd9",
   "metadata": {},
   "outputs": [],
   "source": [
    "missing = [1978, 1989, 1993, 1996, 1997, 1999, 2005, 2007, 2009]\n",
    "suffixes = [\"b\" if year in missing else \"s\" for year in years]"
   ]
  },
  {
   "cell_type": "code",
   "execution_count": null,
   "id": "6076f8be",
   "metadata": {},
   "outputs": [],
   "source": [
    "samples = [f\"cps{year}_03s\" for year, suffix in zip(years, suffixes)]\n",
    "# samples"
   ]
  },
  {
   "cell_type": "code",
   "execution_count": null,
   "id": "e2aa3935",
   "metadata": {},
   "outputs": [],
   "source": [
    "variables = [\n",
    "    \"cpi99\",\n",
    "    \"AGE\",\n",
    "    \"SEX\",\n",
    "    \"RACE\",\n",
    "    \"EMPSTAT\",\n",
    "    \"LABFORCE\",\n",
    "    \"EDUC\",\n",
    "    \"FTOTVAL\",\n",
    "    \"INCTOT\",\n",
    "    \"INCWAGE\",\n",
    "]"
   ]
  },
  {
   "cell_type": "code",
   "execution_count": null,
   "id": "674df740",
   "metadata": {},
   "outputs": [],
   "source": [
    "extract = CpsExtract(\n",
    "    samples, variables, data_format=\"stata\", description=\"Extract for Simpson paradox\"\n",
    ")\n",
    "ipums.submit_extract(extract)"
   ]
  },
  {
   "cell_type": "code",
   "execution_count": null,
   "id": "97686c0d",
   "metadata": {},
   "outputs": [],
   "source": [
    "extract_status = ipums.extract_status(extract)\n",
    "extract_status"
   ]
  },
  {
   "cell_type": "code",
   "execution_count": null,
   "id": "3ea0b23f",
   "metadata": {},
   "outputs": [],
   "source": [
    "ipums.download_extract(6, collection=\"cps\")"
   ]
  },
  {
   "cell_type": "code",
   "execution_count": null,
   "id": "290d70f7",
   "metadata": {},
   "outputs": [],
   "source": [
    "recent_extracts = ipums.retrieve_previous_extracts(\"cps\")\n",
    "\n",
    "# display extract IDs and descriptions\n",
    "for ex in recent_extracts:\n",
    "    print(f\"{ex['number']}: {ex['description']}\")"
   ]
  },
  {
   "cell_type": "code",
   "execution_count": null,
   "id": "ffbfe46c",
   "metadata": {},
   "outputs": [],
   "source": [
    "from ipumspy import readers\n",
    "\n",
    "# read ddi and data\n",
    "ddi_codebook = readers.read_ipums_ddi(\"cps_00006.xml\")"
   ]
  },
  {
   "cell_type": "code",
   "execution_count": null,
   "id": "9ff80564",
   "metadata": {},
   "outputs": [],
   "source": [
    "info = ddi_codebook.get_variable_info(\"asecwt\")\n",
    "print(info.description)"
   ]
  },
  {
   "cell_type": "code",
   "execution_count": null,
   "id": "e54a5497",
   "metadata": {},
   "outputs": [],
   "source": [
    "# if you get the FWF format, which seems to be the default, you can use `readers` to read it\n",
    "\n",
    "# ipums_df = readers.read_microdata(ddi_codebook, 'cps_00002.dat.gz')\n",
    "# ipums_df.shape"
   ]
  },
  {
   "cell_type": "code",
   "execution_count": null,
   "id": "4d3fda46",
   "metadata": {},
   "outputs": [],
   "source": [
    "ipums_df = pd.read_stata(\"cps_00006.dta.gz\", convert_categoricals=False)\n",
    "ipums_df.head()"
   ]
  },
  {
   "cell_type": "code",
   "execution_count": null,
   "id": "bf4bfb4b",
   "metadata": {},
   "outputs": [],
   "source": [
    "ipums_df[\"year\"].value_counts()"
   ]
  },
  {
   "cell_type": "code",
   "execution_count": null,
   "id": "9fe6438e",
   "metadata": {},
   "outputs": [],
   "source": [
    "ipums_df.groupby(\"year\")[\"cpi99\"].mean().plot()"
   ]
  },
  {
   "cell_type": "code",
   "execution_count": null,
   "id": "4cf509ac",
   "metadata": {},
   "outputs": [],
   "source": [
    "# 2 means yes, in the labor force\n",
    "ipums_df[\"labforce\"].value_counts()"
   ]
  },
  {
   "cell_type": "code",
   "execution_count": null,
   "id": "eec220dc",
   "metadata": {},
   "outputs": [],
   "source": [
    "educ = ipums_df[\"educ\"]\n",
    "educ.value_counts().sort_index()"
   ]
  },
  {
   "cell_type": "code",
   "execution_count": null,
   "id": "ed5553fb",
   "metadata": {},
   "outputs": [],
   "source": [
    "negative = ipums_df[\"asecwt\"] < 0\n",
    "negative.sum()"
   ]
  },
  {
   "cell_type": "code",
   "execution_count": null,
   "id": "a3ee3998",
   "metadata": {},
   "outputs": [],
   "source": [
    "zero = ipums_df[\"asecwt\"] == 0\n",
    "zero.sum()"
   ]
  },
  {
   "cell_type": "code",
   "execution_count": null,
   "id": "d2c53853",
   "metadata": {},
   "outputs": [],
   "source": [
    "ipums_df.loc[negative, \"asecwt\"] = 0"
   ]
  },
  {
   "cell_type": "code",
   "execution_count": null,
   "id": "ee5a67f5",
   "metadata": {},
   "outputs": [],
   "source": [
    "def resample_rows_weighted(df, column=\"finalwgt\"):\n",
    "    \"\"\"Resamples a DataFrame using probabilities proportional to given column.\n",
    "    df: DataFrame\n",
    "    column: string column name to use as weights\n",
    "    returns: DataFrame\n",
    "    \"\"\"\n",
    "    sample = df.sample(frac=1, replace=True, weights=df[column])\n",
    "    return sample"
   ]
  },
  {
   "cell_type": "code",
   "execution_count": null,
   "id": "3027fb8a",
   "metadata": {},
   "outputs": [],
   "source": [
    "def resample_by_year(df, column=\"finalwgt\"):\n",
    "    \"\"\"Resample rows within each year.\n",
    "    df: DataFrame\n",
    "    column: string column name to use as weights\n",
    "    returns DataFrame\n",
    "    \"\"\"\n",
    "    grouped = df.groupby(\"year\")\n",
    "    samples = [resample_rows_weighted(group, column) for _, group in grouped]\n",
    "    sample = pd.concat(samples, ignore_index=True)\n",
    "    return sample"
   ]
  },
  {
   "cell_type": "code",
   "execution_count": null,
   "id": "dbdcb15d",
   "metadata": {},
   "outputs": [],
   "source": [
    "np.random.seed(17)\n",
    "sample = resample_by_year(ipums_df, \"asecwt\")"
   ]
  },
  {
   "cell_type": "markdown",
   "id": "15c3dba9",
   "metadata": {},
   "source": [
    "## Recode educ into degree"
   ]
  },
  {
   "cell_type": "code",
   "execution_count": null,
   "id": "6211b68f",
   "metadata": {},
   "outputs": [],
   "source": [
    "educ = sample[\"educ\"]\n",
    "educ.replace([1, 999], np.nan, inplace=True)\n",
    "educ.isna().sum()"
   ]
  },
  {
   "cell_type": "code",
   "execution_count": null,
   "id": "4b030877",
   "metadata": {},
   "outputs": [],
   "source": [
    "nohs = (educ >= 2) & (educ <= 72)\n",
    "nohs.sum()"
   ]
  },
  {
   "cell_type": "code",
   "execution_count": null,
   "id": "f3ff1eda",
   "metadata": {},
   "outputs": [],
   "source": [
    "hs = (educ >= 71) & (educ <= 73)\n",
    "hs.sum()"
   ]
  },
  {
   "cell_type": "code",
   "execution_count": null,
   "id": "45b0c933",
   "metadata": {},
   "outputs": [],
   "source": [
    "assc = (educ >= 91) & (educ <= 92)\n",
    "assc.sum()"
   ]
  },
  {
   "cell_type": "code",
   "execution_count": null,
   "id": "1e3e4671",
   "metadata": {},
   "outputs": [],
   "source": [
    "bach = educ == 111\n",
    "bach.sum()"
   ]
  },
  {
   "cell_type": "code",
   "execution_count": null,
   "id": "262f41b3",
   "metadata": {},
   "outputs": [],
   "source": [
    "adv = (educ >= 123) & (educ <= 125)\n",
    "adv.sum()"
   ]
  },
  {
   "cell_type": "code",
   "execution_count": null,
   "id": "5a0fd3a9",
   "metadata": {},
   "outputs": [],
   "source": [
    "some_college = educ == 81\n",
    "some_college.sum()"
   ]
  },
  {
   "cell_type": "code",
   "execution_count": null,
   "id": "304ecea8",
   "metadata": {},
   "outputs": [],
   "source": [
    "degree = pd.Series(\"\", index=educ.index, dtype=str, name=\"degree\")\n",
    "degree[nohs] = \"nohs\"\n",
    "degree[hs] = \"hs\"\n",
    "degree[some_college] = \"college\"\n",
    "degree[assc] = \"assc\"\n",
    "degree[bach] = \"bach\"\n",
    "degree[adv] = \"adv\"\n",
    "degree.value_counts()"
   ]
  },
  {
   "cell_type": "markdown",
   "id": "9a88b343",
   "metadata": {},
   "source": [
    "## Adjust wage income to real wage"
   ]
  },
  {
   "cell_type": "code",
   "execution_count": null,
   "id": "35bc18f6",
   "metadata": {},
   "outputs": [],
   "source": [
    "wage = sample[\"incwage\"]\n",
    "wage.describe()"
   ]
  },
  {
   "cell_type": "code",
   "execution_count": null,
   "id": "a43e421d",
   "metadata": {},
   "outputs": [],
   "source": [
    "real_wage = wage * sample[\"cpi99\"]\n",
    "real_wage.describe()"
   ]
  },
  {
   "cell_type": "code",
   "execution_count": null,
   "id": "75b87030",
   "metadata": {},
   "outputs": [],
   "source": [
    "year = sample[\"year\"]\n",
    "df = pd.DataFrame(dict(year=year, degree=degree, real_wage=real_wage))\n",
    "df.shape"
   ]
  },
  {
   "cell_type": "code",
   "execution_count": null,
   "id": "d87af6ea",
   "metadata": {},
   "outputs": [],
   "source": [
    "valid = (degree != \"\") & (ipums_df[\"labforce\"] == 2)\n",
    "valid.sum()"
   ]
  },
  {
   "cell_type": "code",
   "execution_count": null,
   "id": "011cccc5",
   "metadata": {},
   "outputs": [],
   "source": [
    "selected = df.loc[valid]\n",
    "selected.shape"
   ]
  },
  {
   "cell_type": "code",
   "execution_count": null,
   "id": "e6b2e236",
   "metadata": {},
   "outputs": [],
   "source": [
    "selected.to_hdf(\"ipums_cps.hdf\", \"ipums_cps\")"
   ]
  },
  {
   "cell_type": "code",
   "execution_count": null,
   "id": "b2d46fcc",
   "metadata": {},
   "outputs": [],
   "source": [
    "start = 1995\n",
    "recent_df = selected[selected[\"year\"] >= start]\n",
    "recent_df.shape"
   ]
  },
  {
   "cell_type": "code",
   "execution_count": null,
   "id": "61eeeb68",
   "metadata": {},
   "outputs": [],
   "source": [
    "recent_df[\"degree\"].value_counts()"
   ]
  },
  {
   "cell_type": "code",
   "execution_count": null,
   "id": "0cbf8458",
   "metadata": {},
   "outputs": [],
   "source": [
    "overall = recent_df.groupby(\"year\")[\"real_wage\"].mean()"
   ]
  },
  {
   "cell_type": "code",
   "execution_count": null,
   "id": "68ce01f3",
   "metadata": {},
   "outputs": [],
   "source": [
    "from scipy.stats import linregress\n",
    "\n",
    "res = linregress(overall.index, overall)\n",
    "res.slope"
   ]
  },
  {
   "cell_type": "code",
   "execution_count": null,
   "id": "6bb0a22a",
   "metadata": {},
   "outputs": [],
   "source": [
    "table = pd.pivot_table(\n",
    "    recent_df, index=\"year\", columns=\"degree\", values=\"real_wage\", aggfunc=\"mean\"\n",
    ")"
   ]
  },
  {
   "cell_type": "code",
   "execution_count": null,
   "id": "c442d43a",
   "metadata": {},
   "outputs": [],
   "source": [
    "for name, column in table.iteritems():\n",
    "    res = linregress(column.index, column)\n",
    "    print(name, res.slope)"
   ]
  },
  {
   "cell_type": "code",
   "execution_count": null,
   "id": "6a2eb3dd",
   "metadata": {},
   "outputs": [],
   "source": [
    "table.plot()\n",
    "overall.plot(ls=\":\", color=\"gray\")"
   ]
  },
  {
   "cell_type": "code",
   "execution_count": null,
   "id": "534229ef",
   "metadata": {},
   "outputs": [],
   "source": []
  },
  {
   "cell_type": "code",
   "execution_count": null,
   "id": "99410391",
   "metadata": {},
   "outputs": [],
   "source": [
    "xtab = pd.crosstab(year, degree, normalize=\"index\")\n",
    "xtab.drop(\"\", axis=1, inplace=True)\n",
    "xtab"
   ]
  },
  {
   "cell_type": "code",
   "execution_count": null,
   "id": "2281e04e",
   "metadata": {},
   "outputs": [],
   "source": [
    "recent = xtab.index >= start"
   ]
  },
  {
   "cell_type": "code",
   "execution_count": null,
   "id": "b7c3d7e1",
   "metadata": {},
   "outputs": [],
   "source": [
    "xtab.loc[recent].plot()"
   ]
  },
  {
   "cell_type": "code",
   "execution_count": null,
   "id": "2c9a8571",
   "metadata": {},
   "outputs": [],
   "source": []
  },
  {
   "cell_type": "code",
   "execution_count": null,
   "id": "2dac7663",
   "metadata": {},
   "outputs": [],
   "source": []
  }
 ],
 "metadata": {
  "kernelspec": {
   "display_name": "Python 3 (ipykernel)",
   "language": "python",
   "name": "python3"
  },
  "language_info": {
   "codemirror_mode": {
    "name": "ipython",
    "version": 3
   },
   "file_extension": ".py",
   "mimetype": "text/x-python",
   "name": "python",
   "nbconvert_exporter": "python",
   "pygments_lexer": "ipython3",
   "version": "3.10.12"
  }
 },
 "nbformat": 4,
 "nbformat_minor": 5
}
