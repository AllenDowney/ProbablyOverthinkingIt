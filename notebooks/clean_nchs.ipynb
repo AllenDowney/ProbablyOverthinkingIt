{
 "cells": [
  {
   "cell_type": "markdown",
   "id": "565451af",
   "metadata": {},
   "source": [
    "This is one of the Jupyter notebooks I used in my preparation of *Probably Overthinking It: How to Use Data to Answer Questions, Avoid Statistical Traps, and Make Better Decisions*.\n",
    "\n",
    "The book is scheduled to be published by University of Chicago Press in 2023.\n",
    "If you would like to get infrequent email announcements about the book, please\n",
    "[sign up for my mailing list](http://eepurl.com/h0nfbX).\n"
   ]
  },
  {
   "cell_type": "markdown",
   "id": "b3d22cc9",
   "metadata": {},
   "source": [
    "[Click here to run this notebook on Colab](https://colab.research.google.com/github/AllenDowney/ProbablyOverthinkingIt/blob/book/notebooks/clean_nchs.ipynb)."
   ]
  },
  {
   "cell_type": "code",
   "execution_count": 2,
   "id": "a8d6fd48",
   "metadata": {},
   "outputs": [],
   "source": [
    "import sys\n",
    "import pandas as pd\n",
    "import numpy as np\n",
    "import matplotlib.pyplot as plt"
   ]
  },
  {
   "cell_type": "code",
   "execution_count": 3,
   "id": "51aafe33",
   "metadata": {},
   "outputs": [],
   "source": [
    "from os.path import basename, exists\n",
    "\n",
    "def download(url):\n",
    "    filename = basename(url)\n",
    "    if not exists(filename):\n",
    "        from urllib.request import urlretrieve\n",
    "        local, _ = urlretrieve(url, filename)\n",
    "        print('Downloaded ' + local)"
   ]
  },
  {
   "cell_type": "markdown",
   "id": "58b75730",
   "metadata": {},
   "source": [
    "## Get the 1991 Data"
   ]
  },
  {
   "cell_type": "code",
   "execution_count": 4,
   "id": "8ba775e5",
   "metadata": {},
   "outputs": [
    {
     "name": "stdout",
     "output_type": "stream",
     "text": [
      "Downloaded LinkCO91.zip\n"
     ]
    }
   ],
   "source": [
    "download(\"https://ftp.cdc.gov/pub/Health_Statistics/NCHS/Datasets/DVS/cohortlinkedus/LinkCO91.zip\")"
   ]
  },
  {
   "cell_type": "code",
   "execution_count": 5,
   "id": "f316b36e",
   "metadata": {},
   "outputs": [
    {
     "name": "stdout",
     "output_type": "stream",
     "text": [
      "['LinkCO91USnum.dat', 'LinkCO91USden.dat']\n"
     ]
    }
   ],
   "source": [
    "from zipfile import ZipFile\n",
    "\n",
    "zf = ZipFile(\"LinkCO91.zip\")\n",
    "filenames = zf.namelist()\n",
    "print(filenames)"
   ]
  },
  {
   "cell_type": "code",
   "execution_count": 7,
   "id": "9c8a8d24",
   "metadata": {},
   "outputs": [
    {
     "name": "stdout",
     "output_type": "stream",
     "text": [
      "CPU times: user 20 s, sys: 522 ms, total: 20.6 s\n",
      "Wall time: 20.6 s\n"
     ]
    }
   ],
   "source": [
    "colspecs = [(0, 1), (117, 118), (78, 82), (164, 186), (212, 215)]\n",
    "columns = [\"matchs\", \"tobacco\", \"birthweight\", \"congenit\", \"aged\"]\n",
    "\n",
    "fp = zf.open('LinkCO91USden.dat')\n",
    "%time vs1991 = pd.read_fwf(fp, colspecs=colspecs, nrows=None, compress='infer')\n",
    "vs1991.columns = columns"
   ]
  },
  {
   "cell_type": "code",
   "execution_count": 8,
   "id": "41749dd5",
   "metadata": {},
   "outputs": [
    {
     "data": {
      "text/plain": [
       "(4115493, 5)"
      ]
     },
     "execution_count": 8,
     "metadata": {},
     "output_type": "execute_result"
    }
   ],
   "source": [
    "vs1991.shape"
   ]
  },
  {
   "cell_type": "code",
   "execution_count": 4,
   "id": "129ea952",
   "metadata": {},
   "outputs": [],
   "source": [
    "!rm nchs.hdf"
   ]
  },
  {
   "cell_type": "code",
   "execution_count": 5,
   "id": "ce1baf09",
   "metadata": {},
   "outputs": [
    {
     "name": "stdout",
     "output_type": "stream",
     "text": [
      "-rw-rw-r-- 1 downey downey 18M Feb 23 20:22 nchs.hdf\r\n"
     ]
    }
   ],
   "source": [
    "vs1991.to_hdf(\"nchs.hdf\", \"vs1991\", complevel=6)\n",
    "!ls -lh nchs.hdf"
   ]
  },
  {
   "cell_type": "markdown",
   "id": "2113c45c",
   "metadata": {},
   "source": [
    "## Get the 2019 data\n",
    "\n",
    "Which covers the 2018 birth cohort."
   ]
  },
  {
   "cell_type": "code",
   "execution_count": 10,
   "id": "177d5a49",
   "metadata": {},
   "outputs": [
    {
     "name": "stdout",
     "output_type": "stream",
     "text": [
      "Downloaded 2019PE2018CO.zip\n"
     ]
    }
   ],
   "source": [
    "download(\"https://ftp.cdc.gov/pub/Health_Statistics/NCHS/Datasets/DVS/period-cohort-linked/2019PE2018CO.zip\")"
   ]
  },
  {
   "cell_type": "code",
   "execution_count": 11,
   "id": "63ff447d",
   "metadata": {},
   "outputs": [
    {
     "name": "stdout",
     "output_type": "stream",
     "text": [
      "['VS18LINK.Public.USDENPUB_add_Seq_for2018Cohort_r2021_08_25', 'VS18LINK.Public.USNUMPUB_R2020_04_03', 'VS19LINK.Public.USDENPUB_R2021_08_30', 'VS19LINK.Public.USNUMPUB_R2021_08_30']\n"
     ]
    }
   ],
   "source": [
    "zf = ZipFile(\"2019PE2018CO.zip\")\n",
    "filenames = zf.namelist()\n",
    "print(filenames)"
   ]
  },
  {
   "cell_type": "code",
   "execution_count": 12,
   "id": "e6c10748",
   "metadata": {},
   "outputs": [],
   "source": [
    "colspecs = [(268, 269), (511, 515), (371, 375)]\n",
    "columns = [\"tobacco\", \"birthweight\", \"yod\"]\n",
    "\n",
    "fp = zf.open('VS18LINK.Public.USDENPUB_add_Seq_for2018Cohort_r2021_08_25')\n",
    "vs2018 = pd.read_fwf(fp, colspecs=colspecs, nrows=None)\n",
    "vs2018.columns = columns"
   ]
  },
  {
   "cell_type": "code",
   "execution_count": 7,
   "id": "f692d0b6",
   "metadata": {},
   "outputs": [
    {
     "name": "stdout",
     "output_type": "stream",
     "text": [
      "-rw-rw-r-- 1 downey downey 33M Feb 23 20:23 nchs.hdf\r\n"
     ]
    }
   ],
   "source": [
    "vs2018.to_hdf(\"nchs.hdf\", \"vs2018\", complevel=6)\n",
    "!ls -lh nchs.hdf"
   ]
  },
  {
   "cell_type": "code",
   "execution_count": null,
   "id": "ff0510a8",
   "metadata": {},
   "outputs": [],
   "source": []
  }
 ],
 "metadata": {
  "kernelspec": {
   "display_name": "Python 3 (ipykernel)",
   "language": "python",
   "name": "python3"
  },
  "language_info": {
   "codemirror_mode": {
    "name": "ipython",
    "version": 3
   },
   "file_extension": ".py",
   "mimetype": "text/x-python",
   "name": "python",
   "nbconvert_exporter": "python",
   "pygments_lexer": "ipython3",
   "version": "3.8.16"
  }
 },
 "nbformat": 4,
 "nbformat_minor": 5
}
