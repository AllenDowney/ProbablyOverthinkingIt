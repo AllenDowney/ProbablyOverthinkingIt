{
 "cells": [
  {
   "cell_type": "markdown",
   "metadata": {},
   "source": [
    "# Are You Normal? Hint: No."
   ]
  },
  {
   "cell_type": "markdown",
   "metadata": {
    "tags": [
     "remove-cell"
    ]
   },
   "source": [
    "This is one of the Jupyter notebooks I used in my preparation of *[Probably Overthinking It: How to Use Data to Answer Questions, Avoid Statistical Traps, and Make Better Decisions](https://greenteapress.com/wp/probably-overthinking-it)*, University of Chicago Press, 2023.\n",
    "\n",
    "Before you read these notebooks, please keep in mind:\n",
    "\n",
    "* There is some explanatory text in the notebooks, but some of the examples will not make sense until you have read the corresponding chapter in the book.\n",
    "\n",
    "* While preparing these notebooks, I made some changes to improve the readability of the code. There might be small differences between what appears in the book and what you get when you run the code."
   ]
  },
  {
   "cell_type": "markdown",
   "metadata": {},
   "source": [
    "[Click here to run this notebook on Colab](https://colab.research.google.com/github/AllenDowney/ProbablyOverthinkingIt/blob/book/notebooks/gaussian.ipynb)."
   ]
  },
  {
   "cell_type": "code",
   "execution_count": 1,
   "metadata": {
    "tags": [
     "hide-cell"
    ]
   },
   "outputs": [],
   "source": [
    "# Install empirical dist if we don't already have it\n",
    "\n",
    "# On Colab, we might need to update matplotlib to get plt.stairs (added in 3.6.2)\n",
    "try:\n",
    "    import empiricaldist\n",
    "except ImportError:\n",
    "    !pip install empiricaldist\n",
    "    !pip install -U matplotlib"
   ]
  },
  {
   "cell_type": "code",
   "execution_count": 2,
   "metadata": {
    "tags": [
     "hide-cell"
    ]
   },
   "outputs": [],
   "source": [
    "# download utils.py\n",
    "\n",
    "from os.path import basename, exists\n",
    "\n",
    "def download(url):\n",
    "    filename = basename(url)\n",
    "    if not exists(filename):\n",
    "        from urllib.request import urlretrieve\n",
    "        local, _ = urlretrieve(url, filename)\n",
    "        print('Downloaded ' + local)\n",
    "        \n",
    "download(\"https://github.com/AllenDowney/ProbablyOverthinkingIt/raw/book/notebooks/utils.py\")"
   ]
  },
  {
   "cell_type": "markdown",
   "metadata": {},
   "source": [
    "What does it mean to be normal? And what does it mean to be weird?\n",
    "I think there are two factors that underlie our intuition for these ideas:\n",
    "\n",
    "* \"Normal\" and \"weird\" are related to the idea of average. If by some measurement you are close to the average, you are normal; if you are far from the average, you are weird.\n",
    "\n",
    "* \"Normal\" and \"weird\" are also related to the idea of rarity. If some ability or characteristic of yours is common, it is normal; if it's rare, it's weird.\n",
    "\n",
    "Intuitively, most people think that these things go together; that is, we expect measurements close to the average be common, and measurements far from average to be rare.\n",
    "\n",
    "For many things this intuition is valid. \n",
    "For example, the average height of adults in the United States is about 170 cm.\n",
    "Most people are close to this average: about 64\\% of adults are within 10 cm plus or minus; 93\\% are within 20 cm.\n",
    "And few people are far from average: only 1\\% of the population is shorter than 145 cm or taller than 195 cm."
   ]
  },
  {
   "cell_type": "markdown",
   "metadata": {},
   "source": [
    "The numbers in the previous paragraph come from the [Behavioral Risk Factor Surveillance System](https://www.cdc.gov/brfss/index.html) (BRFSS).\n",
    "Here is the [notebook I used to download and clean the data](https://colab.research.google.com/github/AllenDowney/ProbablyOverthinkingIt/blob/book/notebooks/clean_brfss.ipynb).\n",
    "\n",
    "I generated a sample from the dataset, which we can download like this:"
   ]
  },
  {
   "cell_type": "code",
   "execution_count": 3,
   "metadata": {},
   "outputs": [],
   "source": [
    "download(\"https://github.com/AllenDowney/ProbablyOverthinkingIt/raw/book/data/brfss_sample.hdf\")"
   ]
  },
  {
   "cell_type": "code",
   "execution_count": 4,
   "metadata": {
    "tags": [
     "remove-cell"
    ]
   },
   "outputs": [
    {
     "data": {
      "text/plain": [
       "count    375271.000000\n",
       "mean        170.162448\n",
       "std          10.921335\n",
       "min          91.000000\n",
       "25%         163.000000\n",
       "50%         170.000000\n",
       "75%         178.000000\n",
       "max         234.000000\n",
       "Name: HTM4, dtype: float64"
      ]
     },
     "execution_count": 4,
     "metadata": {},
     "output_type": "execute_result"
    }
   ],
   "source": [
    "import pandas as pd\n",
    "import numpy as np\n",
    "import matplotlib.pyplot as plt\n",
    "\n",
    "brfss = pd.read_hdf(\"brfss_sample.hdf\", \"brfss\")\n",
    "height = brfss[\"HTM4\"]\n",
    "height.describe()"
   ]
  },
  {
   "cell_type": "code",
   "execution_count": 5,
   "metadata": {
    "tags": [
     "remove-cell"
    ]
   },
   "outputs": [
    {
     "data": {
      "text/plain": [
       "array([0.02090223, 0.9663763 ])"
      ]
     },
     "execution_count": 5,
     "metadata": {},
     "output_type": "execute_result"
    }
   ],
   "source": [
    "from empiricaldist import Cdf\n",
    "\n",
    "cdf_height = Cdf.from_seq(height)\n",
    "cdf_height([150, 190])"
   ]
  },
  {
   "cell_type": "code",
   "execution_count": 6,
   "metadata": {
    "tags": [
     "remove-cell"
    ]
   },
   "outputs": [
    {
     "data": {
      "text/plain": [
       "array([150., 193.])"
      ]
     },
     "execution_count": 6,
     "metadata": {},
     "output_type": "execute_result"
    }
   ],
   "source": [
    "cdf_height.inverse([0.01, 0.99])"
   ]
  },
  {
   "cell_type": "code",
   "execution_count": 7,
   "metadata": {
    "tags": [
     "remove-cell"
    ]
   },
   "outputs": [
    {
     "data": {
      "text/plain": [
       "array([0.64009059])"
      ]
     },
     "execution_count": 7,
     "metadata": {},
     "output_type": "execute_result"
    }
   ],
   "source": [
    "from scipy.stats import norm\n",
    "\n",
    "mu, sigma = height.mean(), height.std()\n",
    "dist = norm(mu, sigma)\n",
    "\n",
    "np.diff(dist.cdf([160, 180]))"
   ]
  },
  {
   "cell_type": "code",
   "execution_count": 8,
   "metadata": {
    "tags": [
     "remove-cell"
    ]
   },
   "outputs": [
    {
     "data": {
      "text/plain": [
       "array([0.93291072])"
      ]
     },
     "execution_count": 8,
     "metadata": {},
     "output_type": "execute_result"
    }
   ],
   "source": [
    "np.diff(dist.cdf([150, 190]))"
   ]
  },
  {
   "cell_type": "code",
   "execution_count": 9,
   "metadata": {
    "tags": [
     "remove-cell"
    ]
   },
   "outputs": [
    {
     "data": {
      "text/plain": [
       "array([144.75562401, 195.56927187])"
      ]
     },
     "execution_count": 9,
     "metadata": {},
     "output_type": "execute_result"
    }
   ],
   "source": [
    "dist.ppf([0.01, 0.99])"
   ]
  },
  {
   "cell_type": "markdown",
   "metadata": {},
   "source": [
    "But what is true when we consider a single characteristic turns out to be partly false when we consider a few characteristics at once, and spectacularly false when we consider more than a few.\n",
    "In fact, when we consider the many ways people are different, we find that \n",
    "\n",
    "* People near the average are rare or non-existent,\n",
    "\n",
    "* Everyone is far from average, and\n",
    "\n",
    "* Everyone is roughly the same distance from average.\n",
    "\n",
    "At least in a mathematical sense, no one is normal, everyone is weird, and everyone is the same amount of weird."
   ]
  },
  {
   "cell_type": "markdown",
   "metadata": {},
   "source": [
    "## Present... Arms\n",
    "\n",
    "Here's the ANSUR data, originally downloaded from [The OPEN Design Lab](https://www.openlab.psu.edu/ansur2/)."
   ]
  },
  {
   "cell_type": "code",
   "execution_count": 10,
   "metadata": {},
   "outputs": [],
   "source": [
    "download(\"https://github.com/AllenDowney/ProbablyOverthinkingIt/raw/book/data/ANSURIIFEMALEPublic.csv\")\n",
    "download(\"https://github.com/AllenDowney/ProbablyOverthinkingIt/raw/book/data/ANSURIIMALEPublic.csv\")"
   ]
  },
  {
   "cell_type": "code",
   "execution_count": 11,
   "metadata": {
    "tags": [
     "remove-cell"
    ]
   },
   "outputs": [
    {
     "data": {
      "text/plain": [
       "(1986, 108)"
      ]
     },
     "execution_count": 11,
     "metadata": {},
     "output_type": "execute_result"
    }
   ],
   "source": [
    "ansur_female = pd.read_csv(\"ANSURIIFEMALEPublic.csv\", encoding=\"ISO-8859-1\")\n",
    "ansur_female.shape"
   ]
  },
  {
   "cell_type": "code",
   "execution_count": 12,
   "metadata": {
    "tags": [
     "remove-cell"
    ]
   },
   "outputs": [
    {
     "data": {
      "text/plain": [
       "(4082, 108)"
      ]
     },
     "execution_count": 12,
     "metadata": {},
     "output_type": "execute_result"
    }
   ],
   "source": [
    "ansur_male = pd.read_csv(\"ANSURIIMALEPublic.csv\", encoding=\"ISO-8859-1\")\n",
    "ansur_male.shape"
   ]
  },
  {
   "cell_type": "code",
   "execution_count": 13,
   "metadata": {
    "tags": [
     "remove-cell"
    ]
   },
   "outputs": [
    {
     "data": {
      "text/html": [
       "<div>\n",
       "<style scoped>\n",
       "    .dataframe tbody tr th:only-of-type {\n",
       "        vertical-align: middle;\n",
       "    }\n",
       "\n",
       "    .dataframe tbody tr th {\n",
       "        vertical-align: top;\n",
       "    }\n",
       "\n",
       "    .dataframe thead th {\n",
       "        text-align: right;\n",
       "    }\n",
       "</style>\n",
       "<table border=\"1\" class=\"dataframe\">\n",
       "  <thead>\n",
       "    <tr style=\"text-align: right;\">\n",
       "      <th></th>\n",
       "      <th>SubjectId</th>\n",
       "      <th>abdominalextensiondepthsitting</th>\n",
       "      <th>acromialheight</th>\n",
       "      <th>acromionradialelength</th>\n",
       "      <th>anklecircumference</th>\n",
       "      <th>axillaheight</th>\n",
       "      <th>balloffootcircumference</th>\n",
       "      <th>balloffootlength</th>\n",
       "      <th>biacromialbreadth</th>\n",
       "      <th>bicepscircumferenceflexed</th>\n",
       "      <th>...</th>\n",
       "      <th>Branch</th>\n",
       "      <th>PrimaryMOS</th>\n",
       "      <th>SubjectsBirthLocation</th>\n",
       "      <th>SubjectNumericRace</th>\n",
       "      <th>Ethnicity</th>\n",
       "      <th>DODRace</th>\n",
       "      <th>Age</th>\n",
       "      <th>Heightin</th>\n",
       "      <th>Weightlbs</th>\n",
       "      <th>WritingPreference</th>\n",
       "    </tr>\n",
       "  </thead>\n",
       "  <tbody>\n",
       "    <tr>\n",
       "      <th>0</th>\n",
       "      <td>10037</td>\n",
       "      <td>231</td>\n",
       "      <td>1282</td>\n",
       "      <td>301</td>\n",
       "      <td>204</td>\n",
       "      <td>1180</td>\n",
       "      <td>222</td>\n",
       "      <td>177</td>\n",
       "      <td>373</td>\n",
       "      <td>315</td>\n",
       "      <td>...</td>\n",
       "      <td>Combat Support</td>\n",
       "      <td>92Y</td>\n",
       "      <td>Germany</td>\n",
       "      <td>2</td>\n",
       "      <td>NaN</td>\n",
       "      <td>2</td>\n",
       "      <td>26</td>\n",
       "      <td>61</td>\n",
       "      <td>142</td>\n",
       "      <td>Right hand</td>\n",
       "    </tr>\n",
       "    <tr>\n",
       "      <th>1</th>\n",
       "      <td>10038</td>\n",
       "      <td>194</td>\n",
       "      <td>1379</td>\n",
       "      <td>320</td>\n",
       "      <td>207</td>\n",
       "      <td>1292</td>\n",
       "      <td>225</td>\n",
       "      <td>178</td>\n",
       "      <td>372</td>\n",
       "      <td>272</td>\n",
       "      <td>...</td>\n",
       "      <td>Combat Service Support</td>\n",
       "      <td>25U</td>\n",
       "      <td>California</td>\n",
       "      <td>3</td>\n",
       "      <td>Mexican</td>\n",
       "      <td>3</td>\n",
       "      <td>21</td>\n",
       "      <td>64</td>\n",
       "      <td>120</td>\n",
       "      <td>Right hand</td>\n",
       "    </tr>\n",
       "    <tr>\n",
       "      <th>2</th>\n",
       "      <td>10042</td>\n",
       "      <td>183</td>\n",
       "      <td>1369</td>\n",
       "      <td>329</td>\n",
       "      <td>233</td>\n",
       "      <td>1271</td>\n",
       "      <td>237</td>\n",
       "      <td>196</td>\n",
       "      <td>397</td>\n",
       "      <td>300</td>\n",
       "      <td>...</td>\n",
       "      <td>Combat Service Support</td>\n",
       "      <td>35D</td>\n",
       "      <td>Texas</td>\n",
       "      <td>1</td>\n",
       "      <td>NaN</td>\n",
       "      <td>1</td>\n",
       "      <td>23</td>\n",
       "      <td>68</td>\n",
       "      <td>147</td>\n",
       "      <td>Right hand</td>\n",
       "    </tr>\n",
       "    <tr>\n",
       "      <th>3</th>\n",
       "      <td>10043</td>\n",
       "      <td>261</td>\n",
       "      <td>1356</td>\n",
       "      <td>306</td>\n",
       "      <td>214</td>\n",
       "      <td>1250</td>\n",
       "      <td>240</td>\n",
       "      <td>188</td>\n",
       "      <td>384</td>\n",
       "      <td>364</td>\n",
       "      <td>...</td>\n",
       "      <td>Combat Service Support</td>\n",
       "      <td>25U</td>\n",
       "      <td>District of Columbia</td>\n",
       "      <td>8</td>\n",
       "      <td>Caribbean Islander</td>\n",
       "      <td>2</td>\n",
       "      <td>22</td>\n",
       "      <td>66</td>\n",
       "      <td>175</td>\n",
       "      <td>Right hand</td>\n",
       "    </tr>\n",
       "    <tr>\n",
       "      <th>4</th>\n",
       "      <td>10051</td>\n",
       "      <td>309</td>\n",
       "      <td>1303</td>\n",
       "      <td>308</td>\n",
       "      <td>214</td>\n",
       "      <td>1210</td>\n",
       "      <td>217</td>\n",
       "      <td>182</td>\n",
       "      <td>378</td>\n",
       "      <td>320</td>\n",
       "      <td>...</td>\n",
       "      <td>Combat Arms</td>\n",
       "      <td>42A</td>\n",
       "      <td>Texas</td>\n",
       "      <td>1</td>\n",
       "      <td>NaN</td>\n",
       "      <td>1</td>\n",
       "      <td>45</td>\n",
       "      <td>63</td>\n",
       "      <td>195</td>\n",
       "      <td>Right hand</td>\n",
       "    </tr>\n",
       "  </tbody>\n",
       "</table>\n",
       "<p>5 rows × 108 columns</p>\n",
       "</div>"
      ],
      "text/plain": [
       "   SubjectId  abdominalextensiondepthsitting  acromialheight  \\\n",
       "0      10037                             231            1282   \n",
       "1      10038                             194            1379   \n",
       "2      10042                             183            1369   \n",
       "3      10043                             261            1356   \n",
       "4      10051                             309            1303   \n",
       "\n",
       "   acromionradialelength  anklecircumference  axillaheight  \\\n",
       "0                    301                 204          1180   \n",
       "1                    320                 207          1292   \n",
       "2                    329                 233          1271   \n",
       "3                    306                 214          1250   \n",
       "4                    308                 214          1210   \n",
       "\n",
       "   balloffootcircumference  balloffootlength  biacromialbreadth  \\\n",
       "0                      222               177                373   \n",
       "1                      225               178                372   \n",
       "2                      237               196                397   \n",
       "3                      240               188                384   \n",
       "4                      217               182                378   \n",
       "\n",
       "   bicepscircumferenceflexed  ...                  Branch  PrimaryMOS  \\\n",
       "0                        315  ...          Combat Support         92Y   \n",
       "1                        272  ...  Combat Service Support         25U   \n",
       "2                        300  ...  Combat Service Support         35D   \n",
       "3                        364  ...  Combat Service Support         25U   \n",
       "4                        320  ...             Combat Arms         42A   \n",
       "\n",
       "   SubjectsBirthLocation  SubjectNumericRace           Ethnicity  DODRace  \\\n",
       "0                Germany                   2                 NaN        2   \n",
       "1             California                   3             Mexican        3   \n",
       "2                  Texas                   1                 NaN        1   \n",
       "3   District of Columbia                   8  Caribbean Islander        2   \n",
       "4                  Texas                   1                 NaN        1   \n",
       "\n",
       "   Age  Heightin  Weightlbs  WritingPreference  \n",
       "0   26        61        142         Right hand  \n",
       "1   21        64        120         Right hand  \n",
       "2   23        68        147         Right hand  \n",
       "3   22        66        175         Right hand  \n",
       "4   45        63        195         Right hand  \n",
       "\n",
       "[5 rows x 108 columns]"
      ]
     },
     "execution_count": 13,
     "metadata": {},
     "output_type": "execute_result"
    }
   ],
   "source": [
    "ansur_female.head()"
   ]
  },
  {
   "cell_type": "markdown",
   "metadata": {
    "tags": [
     "remove-cell"
    ]
   },
   "source": [
    "[*The Measurer’s Handbook*](http://tools.openlab.psu.edu/publicData/ANSURII-TR11-017.pdf) used in the ANSUR survey is 253 pages,\n",
    "and includes details on \"sampling strategy and measuring techniques\"\n",
    "as well as descriptions and diagrams of the landmarks and measurements between them.\n",
    "\n"
   ]
  },
  {
   "cell_type": "markdown",
   "metadata": {},
   "source": [
    "Since heights are in mm, I converted to cm."
   ]
  },
  {
   "cell_type": "code",
   "execution_count": 14,
   "metadata": {
    "tags": [
     "remove-cell"
    ]
   },
   "outputs": [],
   "source": [
    "height_male = ansur_male[\"stature\"] / 10\n",
    "height_female = ansur_female[\"stature\"] / 10"
   ]
  },
  {
   "cell_type": "markdown",
   "metadata": {},
   "source": [
    "The following function plots histograms using `plt.stairs`."
   ]
  },
  {
   "cell_type": "code",
   "execution_count": 15,
   "metadata": {
    "tags": [
     "remove-cell"
    ]
   },
   "outputs": [],
   "source": [
    "from utils import underride\n",
    "\n",
    "\n",
    "def histplot(series, fill=True, **options):\n",
    "    \"\"\"Plot a histogram.\n",
    "    \n",
    "    series: Pandas Series\n",
    "    fill: boolean, whether to fill below the curve\n",
    "    options: passed to plt.stairs\n",
    "    \"\"\"\n",
    "    underride(\n",
    "        options,\n",
    "        color=\"C0\",\n",
    "        alpha=0.7,\n",
    "        lw=1.5,\n",
    "    )\n",
    "    bins = options.pop(\"bins\", 40)\n",
    "    counts, bins = np.histogram(series, bins=bins)\n",
    "    counts = counts / counts.sum() * 100\n",
    "    plt.stairs(counts, bins, **options)\n",
    "\n",
    "    if fill:\n",
    "        options.update(dict(label=\"\", alpha=0.1))\n",
    "        plt.stairs(counts, bins, fill=True, **options)"
   ]
  },
  {
   "cell_type": "markdown",
   "metadata": {},
   "source": [
    "Here are the histograms of male and female heights."
   ]
  },
  {
   "cell_type": "code",
   "execution_count": 16,
   "metadata": {
    "tags": [
     "remove-input"
    ]
   },
   "outputs": [
    {
     "data": {
      "image/png": "[encoded data removed]",
      "text/plain": [
       "<Figure size 640x480 with 1 Axes>"
      ]
     },
     "metadata": {},
     "output_type": "display_data"
    }
   ],
   "source": [
    "from utils import decorate\n",
    "\n",
    "histplot(height_female, color=\"C1\", label=\"Female\")\n",
    "histplot(height_male, color=\"C0\", ls=\"--\", label=\"Male\")\n",
    "\n",
    "decorate(\n",
    "    xlabel=\"Adult Height (cm)\",\n",
    "    ylabel=\"Percent\",\n",
    "    title=\"Distributions of height in the U.S. Army\",\n",
    ")"
   ]
  },
  {
   "cell_type": "markdown",
   "metadata": {},
   "source": [
    "The following cell shows a way to calculate a Gaussian curve -- for clarity I used base 10 (instead of $e$) and no parameters."
   ]
  },
  {
   "cell_type": "code",
   "execution_count": 17,
   "metadata": {
    "tags": [
     "remove-input"
    ]
   },
   "outputs": [
    {
     "data": {
      "image/png": "[encoded data removed]",
      "text/plain": [
       "<Figure size 640x480 with 1 Axes>"
      ]
     },
     "metadata": {},
     "output_type": "display_data"
    }
   ],
   "source": [
    "xs = np.linspace(-2, 2)\n",
    "ys = 1 / 10 ** (xs * xs)\n",
    "\n",
    "plt.plot(xs, ys)\n",
    "decorate(xlabel=\"Your number\", ylabel=\"The result\", title=\"The Gaussian curve\")"
   ]
  },
  {
   "cell_type": "markdown",
   "metadata": {},
   "source": [
    "The following function plots a Gaussian curve with the same mean and std as the data.\n",
    "\n",
    "The scale parameter is arbitrary -- I chose it to be roughly the same height as the histogram, which is also arbitrary. Avoiding this arbitrariness is one reason I prefer to use CDF to compare the distribution of data with a model."
   ]
  },
  {
   "cell_type": "code",
   "execution_count": 18,
   "metadata": {
    "tags": [
     "remove-cell"
    ]
   },
   "outputs": [],
   "source": [
    "from scipy.stats import norm\n",
    "\n",
    "\n",
    "def plot_normal_pdf(series, scale, **options):\n",
    "    \"\"\"Plot the PDF of a Gaussian distribution.\n",
    "    \n",
    "    series: Pandas series\n",
    "    scale: multiplier used to scale the PDF\n",
    "    options: passed to plt.plot\n",
    "    \"\"\"\n",
    "    mu, sigma = series.mean(), series.std()\n",
    "    qs = np.linspace(series.min(), series.max())\n",
    "    ps = norm.pdf(qs, mu, sigma)\n",
    "    ps *= scale / np.max(ps)\n",
    "    plt.plot(qs, ps, alpha=0.8, **options)"
   ]
  },
  {
   "cell_type": "code",
   "execution_count": 19,
   "metadata": {
    "tags": [
     "remove-input"
    ]
   },
   "outputs": [
    {
     "data": {
      "image/png": "[encoded data removed]",
      "text/plain": [
       "<Figure size 640x480 with 1 Axes>"
      ]
     },
     "metadata": {},
     "output_type": "display_data"
    }
   ],
   "source": [
    "histplot(height_female, color=\"C1\", lw=0, alpha=0.3)\n",
    "histplot(height_male, color=\"C0\", lw=0, alpha=0.2)\n",
    "plot_normal_pdf(height_female, 6.5, color=\"C1\", label=\"Female\")\n",
    "plot_normal_pdf(height_male, 7.5, color=\"C0\", ls=\"--\", label=\"Male\")\n",
    "\n",
    "decorate(\n",
    "    xlabel=\"Adult Height (cm)\",\n",
    "    ylabel=\"Percent\",\n",
    "    title=\"Distributions of height compared to Gaussian curves\",\n",
    ")"
   ]
  },
  {
   "cell_type": "markdown",
   "metadata": {},
   "source": [
    "## Why?\n",
    "\n",
    "The following function generates simulated values that are the sum of a number of random factors, shifted and scaled so they have the same mean and std as the given data."
   ]
  },
  {
   "cell_type": "code",
   "execution_count": 20,
   "metadata": {
    "tags": [
     "remove-cell"
    ]
   },
   "outputs": [],
   "source": [
    "def run_simulation(series):\n",
    "    \"\"\"Simulate the sum of randomly-selected effects.\n",
    "    \n",
    "    series: Pandas Series\n",
    "    \n",
    "    returns: Series of simulated values\n",
    "    \"\"\"\n",
    "    # generate the effect of each coin toss\n",
    "    num_effects = 20\n",
    "    effects = np.random.uniform(-3, 3, size=(2, num_effects))\n",
    "\n",
    "    # toss coins and add up the effects\n",
    "    flips = np.random.choice([True, False], size=(len(series), num_effects))\n",
    "    totals = np.where(flips, effects[0], effects[1]).sum(axis=1)\n",
    "\n",
    "    # shift and scale the results to match the mean and std of the given series\n",
    "    sim = (totals - totals.mean()) / totals.std()\n",
    "    sim *= series.std()\n",
    "    sim += series.mean()\n",
    "    return sim"
   ]
  },
  {
   "cell_type": "code",
   "execution_count": 21,
   "metadata": {
    "tags": [
     "remove-cell"
    ]
   },
   "outputs": [],
   "source": [
    "np.random.seed(10)\n",
    "sim_female = run_simulation(height_female)\n",
    "sim_male = run_simulation(height_male)"
   ]
  },
  {
   "cell_type": "markdown",
   "metadata": {},
   "source": [
    "The result shows that values generated this way can resemble the actual data."
   ]
  },
  {
   "cell_type": "code",
   "execution_count": 22,
   "metadata": {
    "tags": [
     "remove-input"
    ]
   },
   "outputs": [
    {
     "data": {
      "image/png": "[encoded data removed]",
      "text/plain": [
       "<Figure size 640x480 with 1 Axes>"
      ]
     },
     "metadata": {},
     "output_type": "display_data"
    }
   ],
   "source": [
    "histplot(height_female, color=\"C1\", alpha=0.3, lw=0)\n",
    "histplot(sim_female, fill=False, color=\"C1\", alpha=0.8, label=\"Female\")\n",
    "\n",
    "histplot(height_male, color=\"C0\", alpha=0.2, lw=0)\n",
    "histplot(sim_male, fill=False, color=\"C0\", alpha=0.8, ls=\"--\", label=\"Male\")\n",
    "\n",
    "decorate(\n",
    "    xlabel=\"Adult Height (cm)\",\n",
    "    ylabel=\"Percent\",\n",
    "    title=\"Distributions of height compared to simulation results\",\n",
    ")"
   ]
  },
  {
   "cell_type": "markdown",
   "metadata": {},
   "source": [
    "## Comparing Distributions\n",
    "\n",
    "Here are the examples in the book."
   ]
  },
  {
   "cell_type": "code",
   "execution_count": 23,
   "metadata": {
    "tags": [
     "remove-cell"
    ]
   },
   "outputs": [
    {
     "data": {
      "text/plain": [
       "33.987915407854985"
      ]
     },
     "execution_count": 23,
     "metadata": {},
     "output_type": "execute_result"
    }
   ],
   "source": [
    "(height_female <= 160).mean() * 100"
   ]
  },
  {
   "cell_type": "code",
   "execution_count": 24,
   "metadata": {
    "tags": [
     "remove-cell"
    ]
   },
   "outputs": [
    {
     "data": {
      "text/plain": [
       "74.57128858402744"
      ]
     },
     "execution_count": 24,
     "metadata": {},
     "output_type": "execute_result"
    }
   ],
   "source": [
    "(height_male <= 180).mean() * 100"
   ]
  },
  {
   "cell_type": "markdown",
   "metadata": {},
   "source": [
    "And here's a figure that shows the CDFs and the highlighted examples."
   ]
  },
  {
   "cell_type": "code",
   "execution_count": 25,
   "metadata": {
    "tags": [
     "remove-cell"
    ]
   },
   "outputs": [],
   "source": [
    "from empiricaldist import Pmf, Cdf\n",
    "from utils import make_cdf"
   ]
  },
  {
   "cell_type": "code",
   "execution_count": 26,
   "metadata": {
    "tags": [
     "remove-input"
    ]
   },
   "outputs": [
    {
     "data": {
      "image/png": "[encoded data removed]",
      "text/plain": [
       "<Figure size 640x480 with 1 Axes>"
      ]
     },
     "metadata": {},
     "output_type": "display_data"
    }
   ],
   "source": [
    "def plot_lookup(series, percentile_rank, **options):\n",
    "    \"\"\"Plot a line representing a lookup in a CDF.\n",
    "    \n",
    "    series: Pandas Series\n",
    "    percentile_rank: which percentile to look up\n",
    "    options: passed to plt.plot\n",
    "    \"\"\"\n",
    "    options = underride(options, ls=\":\", color=\"gray\", alpha=0.5)\n",
    "    ymin = 0\n",
    "    ymax = percentile_rank\n",
    "    xmin = 140\n",
    "    xmax = np.percentile(series.dropna(), percentile_rank)\n",
    "    plt.plot([xmin, xmax, xmax], [ymax, ymax, 0], **options)\n",
    "\n",
    "make_cdf(height_female).step(color=\"C1\", label=\"Female\")\n",
    "plot_lookup(height_female, 33)\n",
    "\n",
    "make_cdf(height_male).step(ls=\"--\", label=\"Male\")\n",
    "plot_lookup(height_male, 75)\n",
    "\n",
    "decorate(\n",
    "    xlabel=\"Height (cm)\",\n",
    "    ylabel=\"Percentile rank\",\n",
    "    xlim=[139, 201],\n",
    "    title=\"Distributions of height as CDFs\",\n",
    "    loc=\"lower right\",\n",
    ")"
   ]
  },
  {
   "cell_type": "markdown",
   "metadata": {
    "tags": [
     "remove-cell"
    ]
   },
   "source": [
    "The following figure compares the CDFs of the data to the CDFs of the simulated data."
   ]
  },
  {
   "cell_type": "code",
   "execution_count": 27,
   "metadata": {
    "tags": [
     "remove-cell"
    ]
   },
   "outputs": [
    {
     "data": {
      "image/png": "[encoded data removed]",
      "text/plain": [
       "<Figure size 640x480 with 1 Axes>"
      ]
     },
     "metadata": {},
     "output_type": "display_data"
    }
   ],
   "source": [
    "make_cdf(sim_female).plot(ls=\":\", color=\"gray\", label=\"Simulation results\")\n",
    "make_cdf(height_female).step(color=\"C1\", label=\"Female participants\")\n",
    "\n",
    "make_cdf(sim_male).plot(ls=\":\", color=\"gray\")\n",
    "make_cdf(height_male).step(ls=\"--\", label=\"Male participants\")\n",
    "\n",
    "decorate(\n",
    "    xlabel=\"Height (cm)\",\n",
    "    ylabel=\"Percentile rank\",\n",
    "    title=\"CDFs of height compared to simulation results\",\n",
    "    loc=\"lower right\",\n",
    ")"
   ]
  },
  {
   "cell_type": "markdown",
   "metadata": {},
   "source": [
    "The following figure shows the CDFs of the data compared to the CDF of a Gaussian model chosen to fit the data."
   ]
  },
  {
   "cell_type": "code",
   "execution_count": 28,
   "metadata": {
    "tags": [
     "remove-cell"
    ]
   },
   "outputs": [
    {
     "data": {
      "image/png": "[encoded data removed]",
      "text/plain": [
       "<Figure size 640x480 with 1 Axes>"
      ]
     },
     "metadata": {},
     "output_type": "display_data"
    }
   ],
   "source": [
    "from utils import gaussian_plot\n",
    "\n",
    "gaussian_plot(height_female, color=\"C1\", label=\"Female participants\")\n",
    "gaussian_plot(height_male, style=\"--\", label=\"Male participants\")\n",
    "\n",
    "decorate(\n",
    "    xlabel=\"Height (cm)\",\n",
    "    ylabel=\"Percentile rank\",\n",
    "    title=\"CDFs of height compared to Gaussian curves\",\n",
    "    loc=\"lower right\",\n",
    ")"
   ]
  },
  {
   "cell_type": "markdown",
   "metadata": {},
   "source": [
    "## How Gaussian Is It?\n",
    "\n",
    "Here are the names of the measurements."
   ]
  },
  {
   "cell_type": "code",
   "execution_count": 29,
   "metadata": {
    "tags": [
     "remove-cell"
    ]
   },
   "outputs": [
    {
     "data": {
      "text/plain": [
       "['abdominalextensiondepthsitting',\n",
       " 'acromialheight',\n",
       " 'acromionradialelength',\n",
       " 'anklecircumference',\n",
       " 'axillaheight',\n",
       " 'balloffootcircumference',\n",
       " 'balloffootlength',\n",
       " 'biacromialbreadth',\n",
       " 'bicepscircumferenceflexed',\n",
       " 'bicristalbreadth',\n",
       " 'bideltoidbreadth',\n",
       " 'bimalleolarbreadth',\n",
       " 'bitragionchinarc',\n",
       " 'bitragionsubmandibulararc',\n",
       " 'bizygomaticbreadth',\n",
       " 'buttockcircumference',\n",
       " 'buttockdepth',\n",
       " 'buttockheight',\n",
       " 'buttockkneelength',\n",
       " 'buttockpopliteallength',\n",
       " 'calfcircumference',\n",
       " 'cervicaleheight',\n",
       " 'chestbreadth',\n",
       " 'chestcircumference',\n",
       " 'chestdepth',\n",
       " 'chestheight',\n",
       " 'crotchheight',\n",
       " 'crotchlengthomphalion',\n",
       " 'crotchlengthposterioromphalion',\n",
       " 'earbreadth',\n",
       " 'earlength',\n",
       " 'earprotrusion',\n",
       " 'elbowrestheight',\n",
       " 'eyeheightsitting',\n",
       " 'footbreadthhorizontal',\n",
       " 'footlength',\n",
       " 'forearmcenterofgriplength',\n",
       " 'forearmcircumferenceflexed',\n",
       " 'forearmforearmbreadth',\n",
       " 'forearmhandlength',\n",
       " 'functionalleglength',\n",
       " 'handbreadth',\n",
       " 'handcircumference',\n",
       " 'handlength',\n",
       " 'headbreadth',\n",
       " 'headcircumference',\n",
       " 'headlength',\n",
       " 'heelanklecircumference',\n",
       " 'heelbreadth',\n",
       " 'hipbreadth',\n",
       " 'hipbreadthsitting',\n",
       " 'iliocristaleheight',\n",
       " 'interpupillarybreadth',\n",
       " 'interscyei',\n",
       " 'interscyeii',\n",
       " 'kneeheightmidpatella',\n",
       " 'kneeheightsitting',\n",
       " 'lateralfemoralepicondyleheight',\n",
       " 'lateralmalleolusheight',\n",
       " 'lowerthighcircumference',\n",
       " 'mentonsellionlength',\n",
       " 'neckcircumference',\n",
       " 'neckcircumferencebase',\n",
       " 'overheadfingertipreachsitting',\n",
       " 'palmlength',\n",
       " 'poplitealheight',\n",
       " 'radialestylionlength',\n",
       " 'shouldercircumference',\n",
       " 'shoulderelbowlength',\n",
       " 'shoulderlength',\n",
       " 'sittingheight',\n",
       " 'sleevelengthspinewrist',\n",
       " 'sleeveoutseam',\n",
       " 'span',\n",
       " 'stature',\n",
       " 'suprasternaleheight',\n",
       " 'tenthribheight',\n",
       " 'thighcircumference',\n",
       " 'thighclearance',\n",
       " 'thumbtipreach',\n",
       " 'tibialheight',\n",
       " 'tragiontopofhead',\n",
       " 'trochanterionheight',\n",
       " 'verticaltrunkcircumferenceusa',\n",
       " 'waistbacklength',\n",
       " 'waistbreadth',\n",
       " 'waistcircumference',\n",
       " 'waistdepth',\n",
       " 'waistfrontlengthsitting',\n",
       " 'waistheightomphalion',\n",
       " 'weightkg',\n",
       " 'wristcircumference',\n",
       " 'wristheight']"
      ]
     },
     "execution_count": 29,
     "metadata": {},
     "output_type": "execute_result"
    }
   ],
   "source": [
    "measurements = [column for column in ansur_female.columns if column.lower() == column]\n",
    "measurements"
   ]
  },
  {
   "cell_type": "code",
   "execution_count": 30,
   "metadata": {
    "tags": [
     "remove-cell"
    ]
   },
   "outputs": [
    {
     "data": {
      "text/plain": [
       "93"
      ]
     },
     "execution_count": 30,
     "metadata": {},
     "output_type": "execute_result"
    }
   ],
   "source": [
    "len(measurements)"
   ]
  },
  {
   "cell_type": "markdown",
   "metadata": {},
   "source": [
    "To find the measurements that fit a Gaussian model the best and the worst, I use the following function, which computes the maximum vertical distance between the CDF of the data and the model."
   ]
  },
  {
   "cell_type": "code",
   "execution_count": 31,
   "metadata": {
    "tags": [
     "remove-cell"
    ]
   },
   "outputs": [],
   "source": [
    "from utils import fit_gaussian\n",
    "\n",
    "\n",
    "def ks_distance(series):\n",
    "    \"\"\"Compute the Kolmogorov-Smirnov distance. \n",
    "    \n",
    "    returns: the maximum vertical distance between data and model,\n",
    "    and the quantile where it happens\n",
    "    \"\"\"\n",
    "    mu, sigma = fit_gaussian(series)\n",
    "    cdf = Cdf.from_seq(series)\n",
    "    norm_cdf = norm.cdf(cdf.qs, mu, sigma)\n",
    "    diff = np.abs(cdf - norm_cdf)\n",
    "    idx_diff = diff.idxmax()\n",
    "    return diff.max(), idx_diff"
   ]
  },
  {
   "cell_type": "markdown",
   "metadata": {},
   "source": [
    "The following function computes this distance for all of the measurements."
   ]
  },
  {
   "cell_type": "code",
   "execution_count": 32,
   "metadata": {
    "tags": [
     "remove-cell"
    ]
   },
   "outputs": [],
   "source": [
    "def all_ks_distances(df, tag, measurements):\n",
    "    \"\"\"Compute K-S distances for all measurements.\n",
    "    \n",
    "    df: DataFrame\n",
    "    tag: string added to the list of results\n",
    "    measurements: list of column names in df\n",
    "    \n",
    "    returns: list of (distance, location, tag, varname) tuples\n",
    "    \"\"\"\n",
    "    res = []\n",
    "\n",
    "    for varname in measurements:\n",
    "        series = df[varname]\n",
    "        diff, idx_diff = ks_distance(series)\n",
    "        res.append((diff, idx_diff, tag, varname))\n",
    "\n",
    "    return res"
   ]
  },
  {
   "cell_type": "markdown",
   "metadata": {},
   "source": [
    "Now we can make a list of results for all measurements, male and female."
   ]
  },
  {
   "cell_type": "code",
   "execution_count": 33,
   "metadata": {
    "tags": [
     "remove-cell"
    ]
   },
   "outputs": [],
   "source": [
    "res_female = all_ks_distances(ansur_female, \"female\", measurements)"
   ]
  },
  {
   "cell_type": "code",
   "execution_count": 34,
   "metadata": {
    "tags": [
     "remove-cell"
    ]
   },
   "outputs": [],
   "source": [
    "res_male = all_ks_distances(ansur_male, \"male\", measurements)"
   ]
  },
  {
   "cell_type": "code",
   "execution_count": 35,
   "metadata": {
    "tags": [
     "remove-cell"
    ]
   },
   "outputs": [],
   "source": [
    "res = res_female + res_male\n",
    "res.sort()"
   ]
  },
  {
   "cell_type": "code",
   "execution_count": 36,
   "metadata": {
    "tags": [
     "remove-cell"
    ]
   },
   "outputs": [],
   "source": [
    "ks = np.array([k for k, _, _, _ in res])"
   ]
  },
  {
   "cell_type": "code",
   "execution_count": 37,
   "metadata": {
    "tags": [
     "remove-cell"
    ]
   },
   "outputs": [
    {
     "data": {
      "text/plain": [
       "array([0.01326444, 0.01713559, 0.02188356])"
      ]
     },
     "execution_count": 37,
     "metadata": {},
     "output_type": "execute_result"
    }
   ],
   "source": [
    "np.percentile(ks, [25, 50, 75])"
   ]
  },
  {
   "cell_type": "markdown",
   "metadata": {},
   "source": [
    "Here are the measurements where the distance between the data and the model is smallest."
   ]
  },
  {
   "cell_type": "code",
   "execution_count": 38,
   "metadata": {
    "tags": [
     "remove-cell"
    ]
   },
   "outputs": [
    {
     "data": {
      "text/plain": [
       "[(0.007976688413202315, 417, 'male', 'poplitealheight'),\n",
       " (0.008287821935083484, 1236, 'male', 'tenthribheight'),\n",
       " (0.00843626564225694, 259, 'male', 'footlength'),\n",
       " (0.00847470594399502, 588, 'male', 'forearmforearmbreadth'),\n",
       " (0.009157729549038263, 1405, 'male', 'chestheight'),\n",
       " (0.009204705604616392, 378, 'female', 'biacromialbreadth')]"
      ]
     },
     "execution_count": 38,
     "metadata": {},
     "output_type": "execute_result"
    }
   ],
   "source": [
    "res[:6]"
   ]
  },
  {
   "cell_type": "markdown",
   "metadata": {},
   "source": [
    "And here are the measurements where it's the biggest."
   ]
  },
  {
   "cell_type": "code",
   "execution_count": 39,
   "metadata": {
    "tags": [
     "remove-cell"
    ]
   },
   "outputs": [
    {
     "data": {
      "text/plain": [
       "[(0.034873574671792015, 59, 'female', 'heelbreadth'),\n",
       " (0.03687917653057654, 59, 'female', 'earlength'),\n",
       " (0.0371247103521638, 251, 'female', 'waistdepth'),\n",
       " (0.041545838706235516, 246, 'female', 'radialestylionlength'),\n",
       " (0.05654289123999018, 614, 'female', 'interpupillarybreadth')]"
      ]
     },
     "execution_count": 39,
     "metadata": {},
     "output_type": "execute_result"
    }
   ],
   "source": [
    "res[-5:]"
   ]
  },
  {
   "cell_type": "markdown",
   "metadata": {},
   "source": [
    "Most of the best-fitting measurements are male, most of the worst-fitting are female. That's because the sample size is smaller for the female participants, which means there is more deviation from the model due to chance.\n",
    "\n",
    "Here's the measurement that fits the Gaussian model the best."
   ]
  },
  {
   "cell_type": "code",
   "execution_count": 40,
   "metadata": {
    "tags": [
     "remove-cell"
    ]
   },
   "outputs": [
    {
     "data": {
      "text/plain": [
       "(0.7976621308029785, 41.7)"
      ]
     },
     "execution_count": 40,
     "metadata": {},
     "output_type": "execute_result"
    }
   ],
   "source": [
    "series = ansur_male[\"poplitealheight\"] / 10\n",
    "diff, idx_diff = ks_distance(series)\n",
    "diff * 100, idx_diff"
   ]
  },
  {
   "cell_type": "code",
   "execution_count": 41,
   "metadata": {
    "tags": [
     "remove-input"
    ]
   },
   "outputs": [
    {
     "data": {
      "image/png": "[encoded data removed]",
      "text/plain": [
       "<Figure size 640x480 with 1 Axes>"
      ]
     },
     "metadata": {},
     "output_type": "display_data"
    }
   ],
   "source": [
    "plt.axvline(idx_diff, color=\"gray\", ls=\":\", alpha=0.3)\n",
    "gaussian_plot(series, label=\"Male participants\", style=\"--\")\n",
    "decorate(\n",
    "    xlabel=\"Popliteal height (cm)\",\n",
    "    ylabel=\"Percentile rank\",\n",
    "    title=\"Distribution of popliteal height compared to a Gaussian curve\",\n",
    "    loc=\"lower right\",\n",
    ")"
   ]
  },
  {
   "cell_type": "markdown",
   "metadata": {},
   "source": [
    "The measurement with the highest distance is `interpupillarybreadth`. But based on the figure below, that appears to be an artifact due to a single measurement. In retrospect, I could have computed distances in a way that would not be thrown off by this anomaly."
   ]
  },
  {
   "cell_type": "code",
   "execution_count": 42,
   "metadata": {
    "tags": [
     "remove-cell"
    ]
   },
   "outputs": [
    {
     "data": {
      "text/plain": [
       "(5.6542891239820205, 61.4)"
      ]
     },
     "execution_count": 42,
     "metadata": {},
     "output_type": "execute_result"
    }
   ],
   "source": [
    "# \"distance between the radiale landmark on the right elbow and\n",
    "# the stylion landmark on the right wrist\"\n",
    "# basically, forearm length\n",
    "\n",
    "series = ansur_female[\"interpupillarybreadth\"] / 10\n",
    "diff, idx_diff = ks_distance(series)\n",
    "diff * 100, idx_diff"
   ]
  },
  {
   "cell_type": "code",
   "execution_count": 43,
   "metadata": {
    "tags": [
     "remove-input"
    ]
   },
   "outputs": [
    {
     "data": {
      "image/png": "[encoded data removed]",
      "text/plain": [
       "<Figure size 640x480 with 1 Axes>"
      ]
     },
     "metadata": {},
     "output_type": "display_data"
    }
   ],
   "source": [
    "plt.axvline(idx_diff, ls=\":\", color=\"gray\", alpha=0.3)\n",
    "gaussian_plot(\n",
    "    ansur_female[\"interpupillarybreadth\"] / 10, label=\"Female participants\", color=\"C1\"\n",
    ")\n",
    "decorate(\n",
    "    xlabel=\"Interpupillary Breadth (cm)\",\n",
    "    ylabel=\"Percentile rank\",\n",
    "    title=\"Distribution of distance between eyes compared to a Gaussian curve\",\n",
    "    loc=\"lower right\",\n",
    ")"
   ]
  },
  {
   "cell_type": "markdown",
   "metadata": {},
   "source": [
    "What I reported in the book is `radialestylionlength`, which is second and the list and seems to be legitimately the measurement that is the worst fit for the model."
   ]
  },
  {
   "cell_type": "code",
   "execution_count": 44,
   "metadata": {
    "tags": [
     "remove-cell"
    ]
   },
   "outputs": [
    {
     "data": {
      "text/plain": [
       "(4.154583865194262, 24.6)"
      ]
     },
     "execution_count": 44,
     "metadata": {},
     "output_type": "execute_result"
    }
   ],
   "source": [
    "# \"distance between the radiale landmark on the right elbow and\n",
    "# the stylion landmark on the right wrist\"\n",
    "# basically, forearm length\n",
    "\n",
    "series = ansur_female[\"radialestylionlength\"] / 10\n",
    "diff, idx_diff = ks_distance(series)\n",
    "diff * 100, idx_diff"
   ]
  },
  {
   "cell_type": "code",
   "execution_count": 45,
   "metadata": {
    "tags": [
     "remove-input"
    ]
   },
   "outputs": [
    {
     "data": {
      "image/png": "[encoded data removed]",
      "text/plain": [
       "<Figure size 640x480 with 1 Axes>"
      ]
     },
     "metadata": {},
     "output_type": "display_data"
    }
   ],
   "source": [
    "plt.axvline(idx_diff, ls=\":\", color=\"gray\", alpha=0.3)\n",
    "gaussian_plot(\n",
    "    ansur_female[\"radialestylionlength\"] / 10, label=\"Female participants\", color=\"C1\"\n",
    ")\n",
    "decorate(\n",
    "    xlabel=\"Radial estylion length (cm)\",\n",
    "    ylabel=\"Percentile rank\",\n",
    "    title=\"Distribution of forearm length compared to a Gaussian curve\",\n",
    "    loc=\"lower right\",\n",
    ")"
   ]
  },
  {
   "cell_type": "markdown",
   "metadata": {},
   "source": [
    "## The Myth of the \"Average Man\"\n",
    "\n",
    "Here are the measurements from ANSUR that are the closest to the measurements in Daniels's report."
   ]
  },
  {
   "cell_type": "code",
   "execution_count": 46,
   "metadata": {
    "tags": [
     "remove-cell"
    ]
   },
   "outputs": [],
   "source": [
    "daniels_measurements = [\n",
    "    \"stature\",\n",
    "    \"chestcircumference\",\n",
    "    \"sleevelengthspinewrist\",\n",
    "    \"crotchheight\",\n",
    "    \"verticaltrunkcircumferenceusa\",\n",
    "    \"hipbreadthsitting\",\n",
    "    \"neckcircumference\",\n",
    "    \"waistcircumference\",\n",
    "    \"thighcircumference\",\n",
    "    \"crotchlengthposterioromphalion\",\n",
    "]"
   ]
  },
  {
   "cell_type": "code",
   "execution_count": 47,
   "metadata": {
    "tags": [
     "remove-cell"
    ]
   },
   "outputs": [
    {
     "data": {
      "text/plain": [
       "False"
      ]
     },
     "execution_count": 47,
     "metadata": {},
     "output_type": "execute_result"
    }
   ],
   "source": [
    "np.any(ansur_male.describe().loc[\"count\"] != 4082)"
   ]
  },
  {
   "cell_type": "markdown",
   "metadata": {},
   "source": [
    "The following table shows the names of these measurements, the mean and standard deviations of the values, the low and high ends of the range considered \"approximately average\", and the percentage of survey participants who fall in the range."
   ]
  },
  {
   "cell_type": "code",
   "execution_count": 48,
   "metadata": {
    "tags": [
     "remove-cell"
    ]
   },
   "outputs": [],
   "source": [
    "res = []\n",
    "\n",
    "for varname in daniels_measurements:\n",
    "    series = ansur_male[varname] / 10\n",
    "    mu, sigma = series.mean(), series.std()\n",
    "    num_std = 0.3\n",
    "    low, high = np.array([-num_std, num_std]) * sigma + mu\n",
    "    # low, high = np.percentile(series, [35, 65])\n",
    "    nearly_average = series.between(low, high)\n",
    "    frac = nearly_average.mean() * 100\n",
    "    res.append((varname, mu, sigma, low, high, frac))"
   ]
  },
  {
   "cell_type": "code",
   "execution_count": 49,
   "metadata": {
    "tags": [
     "remove-cell"
    ]
   },
   "outputs": [],
   "source": [
    "columns = [\"Measurement\", \"Mean\", \"Std Dev\", \"Low\", \"High\", \"% in range\"]\n",
    "index = [\n",
    "    \"Stature (height)\",\n",
    "    \"Chest Circumference\",\n",
    "    \"Sleeve Length\",\n",
    "    \"Crotch Height\",\n",
    "    \"Vertical Trunk Circ.\",\n",
    "    \"Hip Breadth Sitting\",\n",
    "    \"Neck Circumference\",\n",
    "    \"Waist Circumference\",\n",
    "    \"Thigh Circumference\",\n",
    "    \"Crotch Length\",\n",
    "]\n",
    "table = pd.DataFrame(res, columns=columns, index=index)\n",
    "table.index.name = \"Measurement\""
   ]
  },
  {
   "cell_type": "code",
   "execution_count": 50,
   "metadata": {
    "tags": [
     "remove-cell"
    ]
   },
   "outputs": [
    {
     "data": {
      "text/plain": [
       "array([ 6.9,  8.7,  4. ,  4.6,  9. ,  3. ,  2.6, 11.2,  5.8,  2.9])"
      ]
     },
     "execution_count": 50,
     "metadata": {},
     "output_type": "execute_result"
    }
   ],
   "source": [
    "table[\"Std Dev\"].values.round(1)"
   ]
  },
  {
   "cell_type": "code",
   "execution_count": 51,
   "metadata": {
    "tags": [
     "remove-input"
    ]
   },
   "outputs": [
    {
     "data": {
      "text/html": [
       "<div>\n",
       "<style scoped>\n",
       "    .dataframe tbody tr th:only-of-type {\n",
       "        vertical-align: middle;\n",
       "    }\n",
       "\n",
       "    .dataframe tbody tr th {\n",
       "        vertical-align: top;\n",
       "    }\n",
       "\n",
       "    .dataframe thead th {\n",
       "        text-align: right;\n",
       "    }\n",
       "</style>\n",
       "<table border=\"1\" class=\"dataframe\">\n",
       "  <thead>\n",
       "    <tr style=\"text-align: right;\">\n",
       "      <th>Measurement</th>\n",
       "      <th>Mean</th>\n",
       "      <th>Std Dev</th>\n",
       "      <th>Low</th>\n",
       "      <th>High</th>\n",
       "      <th>% in range</th>\n",
       "    </tr>\n",
       "  </thead>\n",
       "  <tbody>\n",
       "    <tr>\n",
       "      <th>Stature (height)</th>\n",
       "      <td>175.6</td>\n",
       "      <td>6.9</td>\n",
       "      <td>173.6</td>\n",
       "      <td>177.7</td>\n",
       "      <td>23.2</td>\n",
       "    </tr>\n",
       "    <tr>\n",
       "      <th>Chest Circumference</th>\n",
       "      <td>105.9</td>\n",
       "      <td>8.7</td>\n",
       "      <td>103.2</td>\n",
       "      <td>108.5</td>\n",
       "      <td>22.9</td>\n",
       "    </tr>\n",
       "    <tr>\n",
       "      <th>Sleeve Length</th>\n",
       "      <td>89.6</td>\n",
       "      <td>4.0</td>\n",
       "      <td>88.4</td>\n",
       "      <td>90.8</td>\n",
       "      <td>23.1</td>\n",
       "    </tr>\n",
       "    <tr>\n",
       "      <th>Crotch Height</th>\n",
       "      <td>84.6</td>\n",
       "      <td>4.6</td>\n",
       "      <td>83.2</td>\n",
       "      <td>86.0</td>\n",
       "      <td>22.1</td>\n",
       "    </tr>\n",
       "    <tr>\n",
       "      <th>Vertical Trunk Circ.</th>\n",
       "      <td>166.5</td>\n",
       "      <td>9.0</td>\n",
       "      <td>163.8</td>\n",
       "      <td>169.2</td>\n",
       "      <td>24.2</td>\n",
       "    </tr>\n",
       "    <tr>\n",
       "      <th>Hip Breadth Sitting</th>\n",
       "      <td>37.9</td>\n",
       "      <td>3.0</td>\n",
       "      <td>37.0</td>\n",
       "      <td>38.8</td>\n",
       "      <td>24.8</td>\n",
       "    </tr>\n",
       "    <tr>\n",
       "      <th>Neck Circumference</th>\n",
       "      <td>39.8</td>\n",
       "      <td>2.6</td>\n",
       "      <td>39.0</td>\n",
       "      <td>40.5</td>\n",
       "      <td>25.2</td>\n",
       "    </tr>\n",
       "    <tr>\n",
       "      <th>Waist Circumference</th>\n",
       "      <td>94.1</td>\n",
       "      <td>11.2</td>\n",
       "      <td>90.7</td>\n",
       "      <td>97.4</td>\n",
       "      <td>22.1</td>\n",
       "    </tr>\n",
       "    <tr>\n",
       "      <th>Thigh Circumference</th>\n",
       "      <td>62.5</td>\n",
       "      <td>5.8</td>\n",
       "      <td>60.8</td>\n",
       "      <td>64.3</td>\n",
       "      <td>24.9</td>\n",
       "    </tr>\n",
       "    <tr>\n",
       "      <th>Crotch Length</th>\n",
       "      <td>35.6</td>\n",
       "      <td>2.9</td>\n",
       "      <td>34.7</td>\n",
       "      <td>36.5</td>\n",
       "      <td>22.1</td>\n",
       "    </tr>\n",
       "  </tbody>\n",
       "</table>\n",
       "</div>"
      ],
      "text/plain": [
       "Measurement            Mean  Std Dev    Low   High  % in range\n",
       "Stature (height)      175.6      6.9  173.6  177.7        23.2\n",
       "Chest Circumference   105.9      8.7  103.2  108.5        22.9\n",
       "Sleeve Length          89.6      4.0   88.4   90.8        23.1\n",
       "Crotch Height          84.6      4.6   83.2   86.0        22.1\n",
       "Vertical Trunk Circ.  166.5      9.0  163.8  169.2        24.2\n",
       "Hip Breadth Sitting    37.9      3.0   37.0   38.8        24.8\n",
       "Neck Circumference     39.8      2.6   39.0   40.5        25.2\n",
       "Waist Circumference    94.1     11.2   90.7   97.4        22.1\n",
       "Thigh Circumference    62.5      5.8   60.8   64.3        24.9\n",
       "Crotch Length          35.6      2.9   34.7   36.5        22.1"
      ]
     },
     "execution_count": 51,
     "metadata": {},
     "output_type": "execute_result"
    }
   ],
   "source": [
    "from utils import compress_table\n",
    "\n",
    "compress_table(table.drop(columns=[\"Measurement\"]).round(1))"
   ]
  },
  {
   "cell_type": "code",
   "execution_count": 52,
   "metadata": {
    "tags": [
     "remove-cell"
    ]
   },
   "outputs": [
    {
     "data": {
      "text/plain": [
       "23.466438020578146"
      ]
     },
     "execution_count": 52,
     "metadata": {},
     "output_type": "execute_result"
    }
   ],
   "source": [
    "table[\"% in range\"].mean()"
   ]
  },
  {
   "cell_type": "markdown",
   "metadata": {},
   "source": [
    "Here are the measurements where there are the biggest differences between the Daniels dataset and the ANSUR dataset (you can ignore the two very large differences, which are the result of using measurements that are defined differently).\n",
    "\n",
    "The other differences suggest that members of the Army and Marines now are bigger than members of the Air Force in 1950."
   ]
  },
  {
   "cell_type": "code",
   "execution_count": 53,
   "metadata": {
    "tags": [
     "remove-cell"
    ]
   },
   "outputs": [],
   "source": [
    "mean_daniels = [175.5, 98.6, 85.5, 83.4, 164.6, 106.0, 38.0, 81.4, 56.9, 71.6]"
   ]
  },
  {
   "cell_type": "code",
   "execution_count": 54,
   "metadata": {
    "tags": [
     "remove-cell"
    ]
   },
   "outputs": [
    {
     "data": {
      "text/plain": [
       "Stature (height)         0.069208\n",
       "Chest Circumference      7.373787\n",
       "Sleeve Length            4.777443\n",
       "Crotch Height            1.430448\n",
       "Vertical Trunk Circ.     1.142422\n",
       "Hip Breadth Sitting    -64.217226\n",
       "Neck Circumference       4.644460\n",
       "Waist Circumference     15.550051\n",
       "Thigh Circumference      9.866842\n",
       "Crotch Length          -50.290860\n",
       "Name: Mean, dtype: float64"
      ]
     },
     "execution_count": 54,
     "metadata": {},
     "output_type": "execute_result"
    }
   ],
   "source": [
    "(table[\"Mean\"] - mean_daniels) / mean_daniels * 100"
   ]
  },
  {
   "cell_type": "code",
   "execution_count": 55,
   "metadata": {
    "tags": [
     "remove-cell"
    ]
   },
   "outputs": [],
   "source": [
    "std_daniels = [6.2, 6.2, 3.8, 4.4, 7.3, 7.2, 1.9, 7.7, 4.4, 5.1]"
   ]
  },
  {
   "cell_type": "code",
   "execution_count": 56,
   "metadata": {
    "tags": [
     "remove-cell"
    ]
   },
   "outputs": [
    {
     "data": {
      "text/plain": [
       "Stature (height)        10.565787\n",
       "Chest Circumference     41.024632\n",
       "Sleeve Length            5.842678\n",
       "Crotch Height            5.679900\n",
       "Vertical Trunk Circ.    22.641668\n",
       "Hip Breadth Sitting    -58.048300\n",
       "Neck Circumference      35.667177\n",
       "Waist Circumference     45.072564\n",
       "Thigh Circumference     32.845843\n",
       "Crotch Length          -42.165325\n",
       "Name: Std Dev, dtype: float64"
      ]
     },
     "execution_count": 56,
     "metadata": {},
     "output_type": "execute_result"
    }
   ],
   "source": [
    "(table[\"Std Dev\"] - std_daniels) / std_daniels * 100"
   ]
  },
  {
   "cell_type": "markdown",
   "metadata": {},
   "source": [
    "The following cells replicate the analysis in Daniels, computing the number of people who are close to the average in each measurement, considered in succession."
   ]
  },
  {
   "cell_type": "code",
   "execution_count": 57,
   "metadata": {
    "tags": [
     "remove-cell"
    ]
   },
   "outputs": [
    {
     "data": {
      "text/plain": [
       "stature                           0.232484\n",
       "chestcircumference                0.229299\n",
       "sleevelengthspinewrist            0.230524\n",
       "crotchheight                      0.221460\n",
       "verticaltrunkcircumferenceusa     0.242283\n",
       "hipbreadthsitting                 0.247673\n",
       "neckcircumference                 0.252082\n",
       "waistcircumference                0.220725\n",
       "thighcircumference                0.248898\n",
       "crotchlengthposterioromphalion    0.221215\n",
       "dtype: float64"
      ]
     },
     "execution_count": 57,
     "metadata": {},
     "output_type": "execute_result"
    }
   ],
   "source": [
    "average_table = pd.DataFrame(index=ansur_male.index, dtype=bool)\n",
    "\n",
    "for measurement, row in table.iterrows():\n",
    "    varname, _, _, low, high, _ = row\n",
    "    average_table[varname] = ansur_male[varname].between(low * 10, high * 10)\n",
    "\n",
    "average_table.mean()"
   ]
  },
  {
   "cell_type": "code",
   "execution_count": 58,
   "metadata": {
    "tags": [
     "remove-cell"
    ]
   },
   "outputs": [
    {
     "data": {
      "text/html": [
       "<div>\n",
       "<style scoped>\n",
       "    .dataframe tbody tr th:only-of-type {\n",
       "        vertical-align: middle;\n",
       "    }\n",
       "\n",
       "    .dataframe tbody tr th {\n",
       "        vertical-align: top;\n",
       "    }\n",
       "\n",
       "    .dataframe thead th {\n",
       "        text-align: right;\n",
       "    }\n",
       "</style>\n",
       "<table border=\"1\" class=\"dataframe\">\n",
       "  <thead>\n",
       "    <tr style=\"text-align: right;\">\n",
       "      <th></th>\n",
       "      <th>stature</th>\n",
       "      <th>chestcircumference</th>\n",
       "      <th>sleevelengthspinewrist</th>\n",
       "      <th>crotchheight</th>\n",
       "      <th>verticaltrunkcircumferenceusa</th>\n",
       "      <th>hipbreadthsitting</th>\n",
       "      <th>neckcircumference</th>\n",
       "      <th>waistcircumference</th>\n",
       "      <th>thighcircumference</th>\n",
       "      <th>crotchlengthposterioromphalion</th>\n",
       "    </tr>\n",
       "  </thead>\n",
       "  <tbody>\n",
       "    <tr>\n",
       "      <th>0</th>\n",
       "      <td>True</td>\n",
       "      <td>True</td>\n",
       "      <td>False</td>\n",
       "      <td>False</td>\n",
       "      <td>False</td>\n",
       "      <td>False</td>\n",
       "      <td>True</td>\n",
       "      <td>True</td>\n",
       "      <td>True</td>\n",
       "      <td>True</td>\n",
       "    </tr>\n",
       "    <tr>\n",
       "      <th>1</th>\n",
       "      <td>False</td>\n",
       "      <td>False</td>\n",
       "      <td>False</td>\n",
       "      <td>True</td>\n",
       "      <td>False</td>\n",
       "      <td>False</td>\n",
       "      <td>False</td>\n",
       "      <td>False</td>\n",
       "      <td>False</td>\n",
       "      <td>False</td>\n",
       "    </tr>\n",
       "    <tr>\n",
       "      <th>2</th>\n",
       "      <td>False</td>\n",
       "      <td>False</td>\n",
       "      <td>False</td>\n",
       "      <td>True</td>\n",
       "      <td>True</td>\n",
       "      <td>False</td>\n",
       "      <td>True</td>\n",
       "      <td>True</td>\n",
       "      <td>False</td>\n",
       "      <td>True</td>\n",
       "    </tr>\n",
       "    <tr>\n",
       "      <th>3</th>\n",
       "      <td>False</td>\n",
       "      <td>False</td>\n",
       "      <td>False</td>\n",
       "      <td>False</td>\n",
       "      <td>False</td>\n",
       "      <td>False</td>\n",
       "      <td>False</td>\n",
       "      <td>False</td>\n",
       "      <td>False</td>\n",
       "      <td>False</td>\n",
       "    </tr>\n",
       "    <tr>\n",
       "      <th>4</th>\n",
       "      <td>False</td>\n",
       "      <td>True</td>\n",
       "      <td>False</td>\n",
       "      <td>False</td>\n",
       "      <td>True</td>\n",
       "      <td>True</td>\n",
       "      <td>True</td>\n",
       "      <td>False</td>\n",
       "      <td>False</td>\n",
       "      <td>False</td>\n",
       "    </tr>\n",
       "  </tbody>\n",
       "</table>\n",
       "</div>"
      ],
      "text/plain": [
       "   stature  chestcircumference  sleevelengthspinewrist  crotchheight  \\\n",
       "0     True                True                   False         False   \n",
       "1    False               False                   False          True   \n",
       "2    False               False                   False          True   \n",
       "3    False               False                   False         False   \n",
       "4    False                True                   False         False   \n",
       "\n",
       "   verticaltrunkcircumferenceusa  hipbreadthsitting  neckcircumference  \\\n",
       "0                          False              False               True   \n",
       "1                          False              False              False   \n",
       "2                           True              False               True   \n",
       "3                          False              False              False   \n",
       "4                           True               True               True   \n",
       "\n",
       "   waistcircumference  thighcircumference  crotchlengthposterioromphalion  \n",
       "0                True                True                            True  \n",
       "1               False               False                           False  \n",
       "2                True               False                            True  \n",
       "3               False               False                           False  \n",
       "4               False               False                           False  "
      ]
     },
     "execution_count": 58,
     "metadata": {},
     "output_type": "execute_result"
    }
   ],
   "source": [
    "average_table.head()"
   ]
  },
  {
   "cell_type": "code",
   "execution_count": 59,
   "metadata": {
    "tags": [
     "remove-cell"
    ]
   },
   "outputs": [
    {
     "data": {
      "text/html": [
       "<div>\n",
       "<style scoped>\n",
       "    .dataframe tbody tr th:only-of-type {\n",
       "        vertical-align: middle;\n",
       "    }\n",
       "\n",
       "    .dataframe tbody tr th {\n",
       "        vertical-align: top;\n",
       "    }\n",
       "\n",
       "    .dataframe thead th {\n",
       "        text-align: right;\n",
       "    }\n",
       "</style>\n",
       "<table border=\"1\" class=\"dataframe\">\n",
       "  <thead>\n",
       "    <tr style=\"text-align: right;\">\n",
       "      <th></th>\n",
       "      <th>stature</th>\n",
       "      <th>chestcircumference</th>\n",
       "      <th>sleevelengthspinewrist</th>\n",
       "      <th>crotchheight</th>\n",
       "      <th>verticaltrunkcircumferenceusa</th>\n",
       "      <th>hipbreadthsitting</th>\n",
       "      <th>neckcircumference</th>\n",
       "      <th>waistcircumference</th>\n",
       "      <th>thighcircumference</th>\n",
       "      <th>crotchlengthposterioromphalion</th>\n",
       "    </tr>\n",
       "  </thead>\n",
       "  <tbody>\n",
       "    <tr>\n",
       "      <th>0</th>\n",
       "      <td>True</td>\n",
       "      <td>True</td>\n",
       "      <td>False</td>\n",
       "      <td>False</td>\n",
       "      <td>False</td>\n",
       "      <td>False</td>\n",
       "      <td>False</td>\n",
       "      <td>False</td>\n",
       "      <td>False</td>\n",
       "      <td>False</td>\n",
       "    </tr>\n",
       "    <tr>\n",
       "      <th>1</th>\n",
       "      <td>False</td>\n",
       "      <td>False</td>\n",
       "      <td>False</td>\n",
       "      <td>False</td>\n",
       "      <td>False</td>\n",
       "      <td>False</td>\n",
       "      <td>False</td>\n",
       "      <td>False</td>\n",
       "      <td>False</td>\n",
       "      <td>False</td>\n",
       "    </tr>\n",
       "    <tr>\n",
       "      <th>2</th>\n",
       "      <td>False</td>\n",
       "      <td>False</td>\n",
       "      <td>False</td>\n",
       "      <td>False</td>\n",
       "      <td>False</td>\n",
       "      <td>False</td>\n",
       "      <td>False</td>\n",
       "      <td>False</td>\n",
       "      <td>False</td>\n",
       "      <td>False</td>\n",
       "    </tr>\n",
       "    <tr>\n",
       "      <th>3</th>\n",
       "      <td>False</td>\n",
       "      <td>False</td>\n",
       "      <td>False</td>\n",
       "      <td>False</td>\n",
       "      <td>False</td>\n",
       "      <td>False</td>\n",
       "      <td>False</td>\n",
       "      <td>False</td>\n",
       "      <td>False</td>\n",
       "      <td>False</td>\n",
       "    </tr>\n",
       "    <tr>\n",
       "      <th>4</th>\n",
       "      <td>False</td>\n",
       "      <td>False</td>\n",
       "      <td>False</td>\n",
       "      <td>False</td>\n",
       "      <td>False</td>\n",
       "      <td>False</td>\n",
       "      <td>False</td>\n",
       "      <td>False</td>\n",
       "      <td>False</td>\n",
       "      <td>False</td>\n",
       "    </tr>\n",
       "    <tr>\n",
       "      <th>...</th>\n",
       "      <td>...</td>\n",
       "      <td>...</td>\n",
       "      <td>...</td>\n",
       "      <td>...</td>\n",
       "      <td>...</td>\n",
       "      <td>...</td>\n",
       "      <td>...</td>\n",
       "      <td>...</td>\n",
       "      <td>...</td>\n",
       "      <td>...</td>\n",
       "    </tr>\n",
       "    <tr>\n",
       "      <th>4077</th>\n",
       "      <td>False</td>\n",
       "      <td>False</td>\n",
       "      <td>False</td>\n",
       "      <td>False</td>\n",
       "      <td>False</td>\n",
       "      <td>False</td>\n",
       "      <td>False</td>\n",
       "      <td>False</td>\n",
       "      <td>False</td>\n",
       "      <td>False</td>\n",
       "    </tr>\n",
       "    <tr>\n",
       "      <th>4078</th>\n",
       "      <td>True</td>\n",
       "      <td>True</td>\n",
       "      <td>True</td>\n",
       "      <td>True</td>\n",
       "      <td>False</td>\n",
       "      <td>False</td>\n",
       "      <td>False</td>\n",
       "      <td>False</td>\n",
       "      <td>False</td>\n",
       "      <td>False</td>\n",
       "    </tr>\n",
       "    <tr>\n",
       "      <th>4079</th>\n",
       "      <td>False</td>\n",
       "      <td>False</td>\n",
       "      <td>False</td>\n",
       "      <td>False</td>\n",
       "      <td>False</td>\n",
       "      <td>False</td>\n",
       "      <td>False</td>\n",
       "      <td>False</td>\n",
       "      <td>False</td>\n",
       "      <td>False</td>\n",
       "    </tr>\n",
       "    <tr>\n",
       "      <th>4080</th>\n",
       "      <td>False</td>\n",
       "      <td>False</td>\n",
       "      <td>False</td>\n",
       "      <td>False</td>\n",
       "      <td>False</td>\n",
       "      <td>False</td>\n",
       "      <td>False</td>\n",
       "      <td>False</td>\n",
       "      <td>False</td>\n",
       "      <td>False</td>\n",
       "    </tr>\n",
       "    <tr>\n",
       "      <th>4081</th>\n",
       "      <td>False</td>\n",
       "      <td>False</td>\n",
       "      <td>False</td>\n",
       "      <td>False</td>\n",
       "      <td>False</td>\n",
       "      <td>False</td>\n",
       "      <td>False</td>\n",
       "      <td>False</td>\n",
       "      <td>False</td>\n",
       "      <td>False</td>\n",
       "    </tr>\n",
       "  </tbody>\n",
       "</table>\n",
       "<p>4082 rows × 10 columns</p>\n",
       "</div>"
      ],
      "text/plain": [
       "      stature  chestcircumference  sleevelengthspinewrist  crotchheight  \\\n",
       "0        True                True                   False         False   \n",
       "1       False               False                   False         False   \n",
       "2       False               False                   False         False   \n",
       "3       False               False                   False         False   \n",
       "4       False               False                   False         False   \n",
       "...       ...                 ...                     ...           ...   \n",
       "4077    False               False                   False         False   \n",
       "4078     True                True                    True          True   \n",
       "4079    False               False                   False         False   \n",
       "4080    False               False                   False         False   \n",
       "4081    False               False                   False         False   \n",
       "\n",
       "      verticaltrunkcircumferenceusa  hipbreadthsitting  neckcircumference  \\\n",
       "0                             False              False              False   \n",
       "1                             False              False              False   \n",
       "2                             False              False              False   \n",
       "3                             False              False              False   \n",
       "4                             False              False              False   \n",
       "...                             ...                ...                ...   \n",
       "4077                          False              False              False   \n",
       "4078                          False              False              False   \n",
       "4079                          False              False              False   \n",
       "4080                          False              False              False   \n",
       "4081                          False              False              False   \n",
       "\n",
       "      waistcircumference  thighcircumference  crotchlengthposterioromphalion  \n",
       "0                  False               False                           False  \n",
       "1                  False               False                           False  \n",
       "2                  False               False                           False  \n",
       "3                  False               False                           False  \n",
       "4                  False               False                           False  \n",
       "...                  ...                 ...                             ...  \n",
       "4077               False               False                           False  \n",
       "4078               False               False                           False  \n",
       "4079               False               False                           False  \n",
       "4080               False               False                           False  \n",
       "4081               False               False                           False  \n",
       "\n",
       "[4082 rows x 10 columns]"
      ]
     },
     "execution_count": 59,
     "metadata": {},
     "output_type": "execute_result"
    }
   ],
   "source": [
    "array = np.cumprod(average_table.values, axis=1)\n",
    "\n",
    "cumulative_table = pd.DataFrame(\n",
    "    array, index=average_table.index, columns=average_table.columns, dtype=bool\n",
    ")\n",
    "\n",
    "cumulative_table"
   ]
  },
  {
   "cell_type": "markdown",
   "metadata": {},
   "source": [
    "The following table shows the number of people who make it past each of the \"hurdles\"."
   ]
  },
  {
   "cell_type": "code",
   "execution_count": 60,
   "metadata": {
    "scrolled": true,
    "tags": [
     "remove-cell"
    ]
   },
   "outputs": [
    {
     "data": {
      "text/plain": [
       "stature                           949\n",
       "chestcircumference                224\n",
       "sleevelengthspinewrist             87\n",
       "crotchheight                       36\n",
       "verticaltrunkcircumferenceusa      20\n",
       "hipbreadthsitting                   7\n",
       "neckcircumference                   4\n",
       "waistcircumference                  3\n",
       "thighcircumference                  2\n",
       "crotchlengthposterioromphalion      0\n",
       "dtype: int64"
      ]
     },
     "execution_count": 60,
     "metadata": {},
     "output_type": "execute_result"
    }
   ],
   "source": [
    "cumulative_table.sum()"
   ]
  },
  {
   "cell_type": "markdown",
   "metadata": {},
   "source": [
    "The same is true if you design for the average woman.\n",
    "The ANSUR dataset includes fewer women than men: 1986 compared to 4086.\n",
    "So we can use a more generous definition of \"approximately average\", including anyone within 0.4 standard deviations of the mean."
   ]
  },
  {
   "cell_type": "code",
   "execution_count": 61,
   "metadata": {
    "tags": [
     "remove-cell"
    ]
   },
   "outputs": [
    {
     "data": {
      "text/plain": [
       "False"
      ]
     },
     "execution_count": 61,
     "metadata": {},
     "output_type": "execute_result"
    }
   ],
   "source": [
    "np.any(ansur_female.describe().loc[\"count\"] != 1986)"
   ]
  },
  {
   "cell_type": "code",
   "execution_count": 62,
   "metadata": {
    "tags": [
     "remove-cell"
    ]
   },
   "outputs": [],
   "source": [
    "res = []\n",
    "\n",
    "for varname in daniels_measurements:\n",
    "    series = ansur_female[varname] / 10\n",
    "    mu, sigma = series.mean(), series.std()\n",
    "    num_std = 0.4\n",
    "    low, high = np.array([-num_std, num_std]) * sigma + mu\n",
    "    # low, high = np.percentile(series, [35, 65])\n",
    "    nearly_average = series.between(low, high)\n",
    "    frac = nearly_average.mean() * 100\n",
    "    res.append((varname, mu, sigma, low, high, frac))"
   ]
  },
  {
   "cell_type": "code",
   "execution_count": 63,
   "metadata": {
    "tags": [
     "remove-cell"
    ]
   },
   "outputs": [
    {
     "data": {
      "text/html": [
       "<div>\n",
       "<style scoped>\n",
       "    .dataframe tbody tr th:only-of-type {\n",
       "        vertical-align: middle;\n",
       "    }\n",
       "\n",
       "    .dataframe tbody tr th {\n",
       "        vertical-align: top;\n",
       "    }\n",
       "\n",
       "    .dataframe thead th {\n",
       "        text-align: right;\n",
       "    }\n",
       "</style>\n",
       "<table border=\"1\" class=\"dataframe\">\n",
       "  <thead>\n",
       "    <tr style=\"text-align: right;\">\n",
       "      <th></th>\n",
       "      <th>Mean</th>\n",
       "      <th>Std Dev</th>\n",
       "      <th>Low</th>\n",
       "      <th>High</th>\n",
       "      <th>% in range</th>\n",
       "    </tr>\n",
       "    <tr>\n",
       "      <th>Measurement</th>\n",
       "      <th></th>\n",
       "      <th></th>\n",
       "      <th></th>\n",
       "      <th></th>\n",
       "      <th></th>\n",
       "    </tr>\n",
       "  </thead>\n",
       "  <tbody>\n",
       "    <tr>\n",
       "      <th>Stature (height)</th>\n",
       "      <td>162.8</td>\n",
       "      <td>6.4</td>\n",
       "      <td>160.3</td>\n",
       "      <td>165.4</td>\n",
       "      <td>31.2</td>\n",
       "    </tr>\n",
       "    <tr>\n",
       "      <th>Chest Circumference</th>\n",
       "      <td>94.7</td>\n",
       "      <td>8.3</td>\n",
       "      <td>91.4</td>\n",
       "      <td>98.0</td>\n",
       "      <td>29.6</td>\n",
       "    </tr>\n",
       "    <tr>\n",
       "      <th>Sleeve Length</th>\n",
       "      <td>80.7</td>\n",
       "      <td>3.8</td>\n",
       "      <td>79.2</td>\n",
       "      <td>82.2</td>\n",
       "      <td>32.7</td>\n",
       "    </tr>\n",
       "    <tr>\n",
       "      <th>Crotch Height</th>\n",
       "      <td>78.2</td>\n",
       "      <td>4.5</td>\n",
       "      <td>76.4</td>\n",
       "      <td>80.0</td>\n",
       "      <td>31.0</td>\n",
       "    </tr>\n",
       "    <tr>\n",
       "      <th>Vertical Trunk Circ.</th>\n",
       "      <td>155.9</td>\n",
       "      <td>7.6</td>\n",
       "      <td>152.9</td>\n",
       "      <td>159.0</td>\n",
       "      <td>29.7</td>\n",
       "    </tr>\n",
       "    <tr>\n",
       "      <th>Hip Breadth Sitting</th>\n",
       "      <td>39.9</td>\n",
       "      <td>3.3</td>\n",
       "      <td>38.6</td>\n",
       "      <td>41.2</td>\n",
       "      <td>32.5</td>\n",
       "    </tr>\n",
       "    <tr>\n",
       "      <th>Neck Circumference</th>\n",
       "      <td>33.0</td>\n",
       "      <td>1.9</td>\n",
       "      <td>32.2</td>\n",
       "      <td>33.7</td>\n",
       "      <td>30.2</td>\n",
       "    </tr>\n",
       "    <tr>\n",
       "      <th>Waist Circumference</th>\n",
       "      <td>86.1</td>\n",
       "      <td>10.0</td>\n",
       "      <td>82.1</td>\n",
       "      <td>90.1</td>\n",
       "      <td>29.5</td>\n",
       "    </tr>\n",
       "    <tr>\n",
       "      <th>Thigh Circumference</th>\n",
       "      <td>61.6</td>\n",
       "      <td>5.6</td>\n",
       "      <td>59.4</td>\n",
       "      <td>63.8</td>\n",
       "      <td>31.5</td>\n",
       "    </tr>\n",
       "    <tr>\n",
       "      <th>Crotch Length</th>\n",
       "      <td>34.2</td>\n",
       "      <td>2.9</td>\n",
       "      <td>33.0</td>\n",
       "      <td>35.3</td>\n",
       "      <td>30.4</td>\n",
       "    </tr>\n",
       "  </tbody>\n",
       "</table>\n",
       "</div>"
      ],
      "text/plain": [
       "                       Mean  Std Dev    Low   High  % in range\n",
       "Measurement                                                   \n",
       "Stature (height)      162.8      6.4  160.3  165.4        31.2\n",
       "Chest Circumference    94.7      8.3   91.4   98.0        29.6\n",
       "Sleeve Length          80.7      3.8   79.2   82.2        32.7\n",
       "Crotch Height          78.2      4.5   76.4   80.0        31.0\n",
       "Vertical Trunk Circ.  155.9      7.6  152.9  159.0        29.7\n",
       "Hip Breadth Sitting    39.9      3.3   38.6   41.2        32.5\n",
       "Neck Circumference     33.0      1.9   32.2   33.7        30.2\n",
       "Waist Circumference    86.1     10.0   82.1   90.1        29.5\n",
       "Thigh Circumference    61.6      5.6   59.4   63.8        31.5\n",
       "Crotch Length          34.2      2.9   33.0   35.3        30.4"
      ]
     },
     "execution_count": 63,
     "metadata": {},
     "output_type": "execute_result"
    }
   ],
   "source": [
    "table = pd.DataFrame(res, columns=columns, index=index)\n",
    "table.index.name = \"Measurement\"\n",
    "table.drop(columns=[\"Measurement\"]).round(1)"
   ]
  },
  {
   "cell_type": "code",
   "execution_count": 64,
   "metadata": {
    "tags": [
     "remove-cell"
    ]
   },
   "outputs": [
    {
     "data": {
      "text/html": [
       "<div>\n",
       "<style scoped>\n",
       "    .dataframe tbody tr th:only-of-type {\n",
       "        vertical-align: middle;\n",
       "    }\n",
       "\n",
       "    .dataframe tbody tr th {\n",
       "        vertical-align: top;\n",
       "    }\n",
       "\n",
       "    .dataframe thead th {\n",
       "        text-align: right;\n",
       "    }\n",
       "</style>\n",
       "<table border=\"1\" class=\"dataframe\">\n",
       "  <thead>\n",
       "    <tr style=\"text-align: right;\">\n",
       "      <th></th>\n",
       "      <th>stature</th>\n",
       "      <th>chestcircumference</th>\n",
       "      <th>sleevelengthspinewrist</th>\n",
       "      <th>crotchheight</th>\n",
       "      <th>verticaltrunkcircumferenceusa</th>\n",
       "      <th>hipbreadthsitting</th>\n",
       "      <th>neckcircumference</th>\n",
       "      <th>waistcircumference</th>\n",
       "      <th>thighcircumference</th>\n",
       "      <th>crotchlengthposterioromphalion</th>\n",
       "    </tr>\n",
       "  </thead>\n",
       "  <tbody>\n",
       "    <tr>\n",
       "      <th>0</th>\n",
       "      <td>False</td>\n",
       "      <td>True</td>\n",
       "      <td>True</td>\n",
       "      <td>False</td>\n",
       "      <td>False</td>\n",
       "      <td>True</td>\n",
       "      <td>True</td>\n",
       "      <td>True</td>\n",
       "      <td>True</td>\n",
       "      <td>False</td>\n",
       "    </tr>\n",
       "    <tr>\n",
       "      <th>1</th>\n",
       "      <td>False</td>\n",
       "      <td>False</td>\n",
       "      <td>True</td>\n",
       "      <td>False</td>\n",
       "      <td>False</td>\n",
       "      <td>False</td>\n",
       "      <td>False</td>\n",
       "      <td>False</td>\n",
       "      <td>False</td>\n",
       "      <td>False</td>\n",
       "    </tr>\n",
       "    <tr>\n",
       "      <th>2</th>\n",
       "      <td>False</td>\n",
       "      <td>False</td>\n",
       "      <td>False</td>\n",
       "      <td>False</td>\n",
       "      <td>True</td>\n",
       "      <td>True</td>\n",
       "      <td>True</td>\n",
       "      <td>False</td>\n",
       "      <td>False</td>\n",
       "      <td>False</td>\n",
       "    </tr>\n",
       "    <tr>\n",
       "      <th>3</th>\n",
       "      <td>False</td>\n",
       "      <td>False</td>\n",
       "      <td>True</td>\n",
       "      <td>False</td>\n",
       "      <td>False</td>\n",
       "      <td>True</td>\n",
       "      <td>False</td>\n",
       "      <td>False</td>\n",
       "      <td>False</td>\n",
       "      <td>True</td>\n",
       "    </tr>\n",
       "    <tr>\n",
       "      <th>4</th>\n",
       "      <td>False</td>\n",
       "      <td>False</td>\n",
       "      <td>True</td>\n",
       "      <td>False</td>\n",
       "      <td>False</td>\n",
       "      <td>False</td>\n",
       "      <td>False</td>\n",
       "      <td>False</td>\n",
       "      <td>False</td>\n",
       "      <td>False</td>\n",
       "    </tr>\n",
       "  </tbody>\n",
       "</table>\n",
       "</div>"
      ],
      "text/plain": [
       "   stature  chestcircumference  sleevelengthspinewrist  crotchheight  \\\n",
       "0    False                True                    True         False   \n",
       "1    False               False                    True         False   \n",
       "2    False               False                   False         False   \n",
       "3    False               False                    True         False   \n",
       "4    False               False                    True         False   \n",
       "\n",
       "   verticaltrunkcircumferenceusa  hipbreadthsitting  neckcircumference  \\\n",
       "0                          False               True               True   \n",
       "1                          False              False              False   \n",
       "2                           True               True               True   \n",
       "3                          False               True              False   \n",
       "4                          False              False              False   \n",
       "\n",
       "   waistcircumference  thighcircumference  crotchlengthposterioromphalion  \n",
       "0                True                True                           False  \n",
       "1               False               False                           False  \n",
       "2               False               False                           False  \n",
       "3               False               False                            True  \n",
       "4               False               False                           False  "
      ]
     },
     "execution_count": 64,
     "metadata": {},
     "output_type": "execute_result"
    }
   ],
   "source": [
    "average_table = pd.DataFrame(index=ansur_female.index, dtype=bool)\n",
    "\n",
    "for measurement, row in table.iterrows():\n",
    "    varname, _, _, low, high, _ = row\n",
    "    average_table[varname] = ansur_female[varname].between(low * 10, high * 10)\n",
    "\n",
    "average_table.head()"
   ]
  },
  {
   "cell_type": "code",
   "execution_count": 65,
   "metadata": {
    "tags": [
     "remove-cell"
    ]
   },
   "outputs": [
    {
     "data": {
      "text/html": [
       "<div>\n",
       "<style scoped>\n",
       "    .dataframe tbody tr th:only-of-type {\n",
       "        vertical-align: middle;\n",
       "    }\n",
       "\n",
       "    .dataframe tbody tr th {\n",
       "        vertical-align: top;\n",
       "    }\n",
       "\n",
       "    .dataframe thead th {\n",
       "        text-align: right;\n",
       "    }\n",
       "</style>\n",
       "<table border=\"1\" class=\"dataframe\">\n",
       "  <thead>\n",
       "    <tr style=\"text-align: right;\">\n",
       "      <th></th>\n",
       "      <th>stature</th>\n",
       "      <th>chestcircumference</th>\n",
       "      <th>sleevelengthspinewrist</th>\n",
       "      <th>crotchheight</th>\n",
       "      <th>verticaltrunkcircumferenceusa</th>\n",
       "      <th>hipbreadthsitting</th>\n",
       "      <th>neckcircumference</th>\n",
       "      <th>waistcircumference</th>\n",
       "      <th>thighcircumference</th>\n",
       "      <th>crotchlengthposterioromphalion</th>\n",
       "    </tr>\n",
       "  </thead>\n",
       "  <tbody>\n",
       "    <tr>\n",
       "      <th>0</th>\n",
       "      <td>False</td>\n",
       "      <td>False</td>\n",
       "      <td>False</td>\n",
       "      <td>False</td>\n",
       "      <td>False</td>\n",
       "      <td>False</td>\n",
       "      <td>False</td>\n",
       "      <td>False</td>\n",
       "      <td>False</td>\n",
       "      <td>False</td>\n",
       "    </tr>\n",
       "    <tr>\n",
       "      <th>1</th>\n",
       "      <td>False</td>\n",
       "      <td>False</td>\n",
       "      <td>False</td>\n",
       "      <td>False</td>\n",
       "      <td>False</td>\n",
       "      <td>False</td>\n",
       "      <td>False</td>\n",
       "      <td>False</td>\n",
       "      <td>False</td>\n",
       "      <td>False</td>\n",
       "    </tr>\n",
       "    <tr>\n",
       "      <th>2</th>\n",
       "      <td>False</td>\n",
       "      <td>False</td>\n",
       "      <td>False</td>\n",
       "      <td>False</td>\n",
       "      <td>False</td>\n",
       "      <td>False</td>\n",
       "      <td>False</td>\n",
       "      <td>False</td>\n",
       "      <td>False</td>\n",
       "      <td>False</td>\n",
       "    </tr>\n",
       "    <tr>\n",
       "      <th>3</th>\n",
       "      <td>False</td>\n",
       "      <td>False</td>\n",
       "      <td>False</td>\n",
       "      <td>False</td>\n",
       "      <td>False</td>\n",
       "      <td>False</td>\n",
       "      <td>False</td>\n",
       "      <td>False</td>\n",
       "      <td>False</td>\n",
       "      <td>False</td>\n",
       "    </tr>\n",
       "    <tr>\n",
       "      <th>4</th>\n",
       "      <td>False</td>\n",
       "      <td>False</td>\n",
       "      <td>False</td>\n",
       "      <td>False</td>\n",
       "      <td>False</td>\n",
       "      <td>False</td>\n",
       "      <td>False</td>\n",
       "      <td>False</td>\n",
       "      <td>False</td>\n",
       "      <td>False</td>\n",
       "    </tr>\n",
       "    <tr>\n",
       "      <th>...</th>\n",
       "      <td>...</td>\n",
       "      <td>...</td>\n",
       "      <td>...</td>\n",
       "      <td>...</td>\n",
       "      <td>...</td>\n",
       "      <td>...</td>\n",
       "      <td>...</td>\n",
       "      <td>...</td>\n",
       "      <td>...</td>\n",
       "      <td>...</td>\n",
       "    </tr>\n",
       "    <tr>\n",
       "      <th>1981</th>\n",
       "      <td>False</td>\n",
       "      <td>False</td>\n",
       "      <td>False</td>\n",
       "      <td>False</td>\n",
       "      <td>False</td>\n",
       "      <td>False</td>\n",
       "      <td>False</td>\n",
       "      <td>False</td>\n",
       "      <td>False</td>\n",
       "      <td>False</td>\n",
       "    </tr>\n",
       "    <tr>\n",
       "      <th>1982</th>\n",
       "      <td>True</td>\n",
       "      <td>False</td>\n",
       "      <td>False</td>\n",
       "      <td>False</td>\n",
       "      <td>False</td>\n",
       "      <td>False</td>\n",
       "      <td>False</td>\n",
       "      <td>False</td>\n",
       "      <td>False</td>\n",
       "      <td>False</td>\n",
       "    </tr>\n",
       "    <tr>\n",
       "      <th>1983</th>\n",
       "      <td>True</td>\n",
       "      <td>False</td>\n",
       "      <td>False</td>\n",
       "      <td>False</td>\n",
       "      <td>False</td>\n",
       "      <td>False</td>\n",
       "      <td>False</td>\n",
       "      <td>False</td>\n",
       "      <td>False</td>\n",
       "      <td>False</td>\n",
       "    </tr>\n",
       "    <tr>\n",
       "      <th>1984</th>\n",
       "      <td>True</td>\n",
       "      <td>True</td>\n",
       "      <td>False</td>\n",
       "      <td>False</td>\n",
       "      <td>False</td>\n",
       "      <td>False</td>\n",
       "      <td>False</td>\n",
       "      <td>False</td>\n",
       "      <td>False</td>\n",
       "      <td>False</td>\n",
       "    </tr>\n",
       "    <tr>\n",
       "      <th>1985</th>\n",
       "      <td>True</td>\n",
       "      <td>False</td>\n",
       "      <td>False</td>\n",
       "      <td>False</td>\n",
       "      <td>False</td>\n",
       "      <td>False</td>\n",
       "      <td>False</td>\n",
       "      <td>False</td>\n",
       "      <td>False</td>\n",
       "      <td>False</td>\n",
       "    </tr>\n",
       "  </tbody>\n",
       "</table>\n",
       "<p>1986 rows × 10 columns</p>\n",
       "</div>"
      ],
      "text/plain": [
       "      stature  chestcircumference  sleevelengthspinewrist  crotchheight  \\\n",
       "0       False               False                   False         False   \n",
       "1       False               False                   False         False   \n",
       "2       False               False                   False         False   \n",
       "3       False               False                   False         False   \n",
       "4       False               False                   False         False   \n",
       "...       ...                 ...                     ...           ...   \n",
       "1981    False               False                   False         False   \n",
       "1982     True               False                   False         False   \n",
       "1983     True               False                   False         False   \n",
       "1984     True                True                   False         False   \n",
       "1985     True               False                   False         False   \n",
       "\n",
       "      verticaltrunkcircumferenceusa  hipbreadthsitting  neckcircumference  \\\n",
       "0                             False              False              False   \n",
       "1                             False              False              False   \n",
       "2                             False              False              False   \n",
       "3                             False              False              False   \n",
       "4                             False              False              False   \n",
       "...                             ...                ...                ...   \n",
       "1981                          False              False              False   \n",
       "1982                          False              False              False   \n",
       "1983                          False              False              False   \n",
       "1984                          False              False              False   \n",
       "1985                          False              False              False   \n",
       "\n",
       "      waistcircumference  thighcircumference  crotchlengthposterioromphalion  \n",
       "0                  False               False                           False  \n",
       "1                  False               False                           False  \n",
       "2                  False               False                           False  \n",
       "3                  False               False                           False  \n",
       "4                  False               False                           False  \n",
       "...                  ...                 ...                             ...  \n",
       "1981               False               False                           False  \n",
       "1982               False               False                           False  \n",
       "1983               False               False                           False  \n",
       "1984               False               False                           False  \n",
       "1985               False               False                           False  \n",
       "\n",
       "[1986 rows x 10 columns]"
      ]
     },
     "execution_count": 65,
     "metadata": {},
     "output_type": "execute_result"
    }
   ],
   "source": [
    "array = np.cumprod(average_table.values, axis=1)\n",
    "\n",
    "cumulative_table = pd.DataFrame(\n",
    "    array, index=average_table.index, columns=average_table.columns, dtype=bool\n",
    ")\n",
    "\n",
    "cumulative_table"
   ]
  },
  {
   "cell_type": "markdown",
   "metadata": {},
   "source": [
    "Even so, we find only 2 women who make it past the first eight hurdles, 1 who makes it past nine, and none that make it past all ten."
   ]
  },
  {
   "cell_type": "code",
   "execution_count": 66,
   "metadata": {
    "scrolled": true,
    "tags": [
     "remove-cell"
    ]
   },
   "outputs": [
    {
     "data": {
      "text/plain": [
       "stature                           620\n",
       "chestcircumference                193\n",
       "sleevelengthspinewrist             96\n",
       "crotchheight                       56\n",
       "verticaltrunkcircumferenceusa      35\n",
       "hipbreadthsitting                  14\n",
       "neckcircumference                   5\n",
       "waistcircumference                  2\n",
       "thighcircumference                  1\n",
       "crotchlengthposterioromphalion      0\n",
       "dtype: int64"
      ]
     },
     "execution_count": 66,
     "metadata": {},
     "output_type": "execute_result"
    }
   ],
   "source": [
    "cumulative_table.sum()"
   ]
  },
  {
   "cell_type": "markdown",
   "metadata": {},
   "source": [
    "## The Big Five\n",
    "\n",
    "The Big Five data is originally from the [Open-Source Psychometrics Project](https://openpsychometrics.org/_rawdata/).\n",
    "\n",
    "Here is the [notebook I used to download and clean the data](https://colab.research.google.com/github/AllenDowney/ProbablyOverthinkingIt/blob/book/notebooks/clean_big_five.ipynb).\n",
    "\n",
    "I did some preliminary cleaning and put the result in an HDF file."
   ]
  },
  {
   "cell_type": "code",
   "execution_count": 67,
   "metadata": {
    "tags": [
     "remove-cell"
    ]
   },
   "outputs": [],
   "source": [
    "download(\"https://github.com/AllenDowney/ProbablyOverthinkingIt/raw/book/data/big_five_data.hdf\")"
   ]
  },
  {
   "cell_type": "code",
   "execution_count": 68,
   "metadata": {
    "tags": [
     "remove-cell"
    ]
   },
   "outputs": [
    {
     "data": {
      "text/plain": [
       "(873173, 55)"
      ]
     },
     "execution_count": 68,
     "metadata": {},
     "output_type": "execute_result"
    }
   ],
   "source": [
    "big_five = pd.read_hdf(\"big_five_data.hdf\", \"big_five\")\n",
    "big_five.shape"
   ]
  },
  {
   "cell_type": "code",
   "execution_count": 69,
   "metadata": {
    "tags": [
     "remove-cell"
    ]
   },
   "outputs": [
    {
     "data": {
      "text/plain": [
       "array([-0.94907002,  9.52426173])"
      ]
     },
     "execution_count": 69,
     "metadata": {},
     "output_type": "execute_result"
    }
   ],
   "source": [
    "fit_gaussian(big_five[\"EXT\"])"
   ]
  },
  {
   "cell_type": "code",
   "execution_count": 70,
   "metadata": {
    "tags": [
     "remove-cell"
    ]
   },
   "outputs": [],
   "source": [
    "bar_options = dict(width=1, alpha=0.4)\n",
    "cdf_options = dict(xlabel=None, xlim=[-25, 25], ylabel=\"Percentile rank\", yticks=[])\n",
    "pmf_options = dict(xlabel=None, xlim=[-25, 25], ylabel=\"Percent\", yticks=[])"
   ]
  },
  {
   "cell_type": "code",
   "execution_count": 71,
   "metadata": {
    "tags": [
     "remove-cell"
    ]
   },
   "outputs": [],
   "source": [
    "def plot_pmf(series, **options):\n",
    "    \"\"\"Plot a PMF and a Gaussian PDF with the same mean and std.\n",
    "    \n",
    "    series: Series\n",
    "    options: passed to plt.plot \n",
    "    \"\"\"\n",
    "    pmf_series = Pmf.from_seq(series)\n",
    "    mu, sigma = fit_gaussian(series)\n",
    "    qs = np.linspace(-25, 25)\n",
    "    ps = norm.pdf(qs, mu, sigma)\n",
    "    plt.plot(qs, ps, color=\"gray\", alpha=0.4)\n",
    "    pmf_series.bar(**options)"
   ]
  },
  {
   "cell_type": "code",
   "execution_count": 72,
   "metadata": {
    "tags": [
     "remove-cell"
    ]
   },
   "outputs": [
    {
     "data": {
      "image/png": "[encoded data removed]",
      "text/plain": [
       "<Figure size 640x480 with 1 Axes>"
      ]
     },
     "metadata": {},
     "output_type": "display_data"
    }
   ],
   "source": [
    "plot_pmf(big_five[\"EXT\"], **bar_options)\n",
    "\n",
    "decorate(title=\"Extroversion Histogram\", **pmf_options)"
   ]
  },
  {
   "cell_type": "code",
   "execution_count": 73,
   "metadata": {
    "tags": [
     "remove-cell"
    ]
   },
   "outputs": [],
   "source": [
    "def plot_cdf(series, **options):\n",
    "    \"\"\"Plot a CDF and a Gaussian CDF with the same mean and std.\n",
    "    \n",
    "    series: Series\n",
    "    options: passed to plt.plot \n",
    "    \"\"\"\n",
    "    cdf_series = make_cdf(series)\n",
    "    mu, sigma = fit_gaussian(series)\n",
    "    qs = np.linspace(-25, 25)\n",
    "    ps = norm.cdf(qs, mu, sigma) * 100\n",
    "    plt.plot(qs, ps, color=\"gray\", alpha=0.4)\n",
    "    cdf_series.plot(**options)"
   ]
  },
  {
   "cell_type": "code",
   "execution_count": 74,
   "metadata": {
    "scrolled": true,
    "tags": [
     "remove-cell"
    ]
   },
   "outputs": [
    {
     "data": {
      "image/png": "[encoded data removed]",
      "text/plain": [
       "<Figure size 640x480 with 1 Axes>"
      ]
     },
     "metadata": {},
     "output_type": "display_data"
    }
   ],
   "source": [
    "plot_cdf(big_five[\"EXT\"])"
   ]
  },
  {
   "cell_type": "markdown",
   "metadata": {},
   "source": [
    "The survey consists of 50 questions, with 10 questions intended to measure each of the five personality traits.\n",
    "People respond on a five-point scale from \"Strongly Disagree\" to \"Strongly Agree\".\n",
    "I scored the responses like this:\n",
    "\n",
    "* \"Strongly agree\" scores 2 points.\n",
    "\n",
    "* \"Agree\" scores 1 point,\n",
    "\n",
    "* \"Neutral\" scores 0 points,\n",
    "\n",
    "* \"Disagree\" scores -1 point, and \n",
    "\n",
    "* \"Strongly disagree\" scores -2 points.\n",
    "\n",
    "For some questions, the scale is reversed; for example, if someone strongly agrees that they are \"quiet around strangers,\" that counts as -2 points on the extroversion score.\n",
    "\n",
    "Since there are 10 questions for each trait, the maximum score is 20 and the minimum score is -20.\n",
    "For each of the five traits, the following figure shows the distributions of total scores for more than 800,000 respondents."
   ]
  },
  {
   "cell_type": "code",
   "execution_count": 75,
   "metadata": {
    "tags": [
     "remove-cell"
    ]
   },
   "outputs": [],
   "source": [
    "traits = {\n",
    "    \"EXT\": \"Extroversion\",\n",
    "    \"EST\": \"Emotional stability\",\n",
    "    \"CSN\": \"Conscientiousness\",\n",
    "    \"AGR\": \"Agreeableness\",\n",
    "    \"OPN\": \"Openness\",\n",
    "}"
   ]
  },
  {
   "cell_type": "code",
   "execution_count": 76,
   "metadata": {
    "tags": [
     "remove-cell"
    ]
   },
   "outputs": [],
   "source": [
    "prop_cycle = plt.rcParams[\"axes.prop_cycle\"]\n",
    "colors = prop_cycle.by_key()[\"color\"]"
   ]
  },
  {
   "cell_type": "code",
   "execution_count": 77,
   "metadata": {
    "tags": [
     "remove-input"
    ]
   },
   "outputs": [
    {
     "data": {
      "image/png": "[encoded data removed]",
      "text/plain": [
       "<Figure size 600x800 with 10 Axes>"
      ]
     },
     "metadata": {},
     "output_type": "display_data"
    }
   ],
   "source": [
    "plt.figure(figsize=(6, 8))\n",
    "shape = (5, 2)\n",
    "colspan = 1\n",
    "\n",
    "for i, trait in enumerate(traits):\n",
    "    series = big_five[trait]\n",
    "    plt.subplot2grid(shape, (i, 0), colspan=colspan)\n",
    "    plot_pmf(series, color=colors[i], **bar_options)\n",
    "    title = f\"{traits[trait]}\"\n",
    "    decorate(title=title, **pmf_options)\n",
    "\n",
    "    plt.subplot2grid(shape, (i, 1), colspan=colspan)\n",
    "    plot_cdf(series, ls=\"--\", color=colors[i])\n",
    "    title = f\"{traits[trait]} CDF\"\n",
    "    decorate(**cdf_options)\n",
    "    plt.gca().yaxis.set_label_position(\"right\")"
   ]
  },
  {
   "cell_type": "markdown",
   "metadata": {},
   "source": [
    "The figures on the left show histograms; the figures on the right show CDFs.\n",
    "In both figures, the shaded line is a Gaussian distribution I chose to fit the data.\n",
    "The Gaussian model fits the first three distributions well (extroversion, emotional stability, and conscientiousness) except in the extreme tails. "
   ]
  },
  {
   "cell_type": "markdown",
   "metadata": {},
   "source": [
    "Let's see what happens if we apply Daniels's analysis to the Big Five data.\n",
    "The following table shows the mean and standard deviation of the five scores, the range of values we'll consider \"approximately average\", and the percentage of the sample that falls in that range."
   ]
  },
  {
   "cell_type": "code",
   "execution_count": 78,
   "metadata": {
    "tags": [
     "remove-cell"
    ]
   },
   "outputs": [],
   "source": [
    "res = []\n",
    "\n",
    "for trait in traits:\n",
    "    series = big_five[trait]\n",
    "    mu, sigma = series.mean(), series.std()\n",
    "    num_std = 0.3\n",
    "    low, high = np.array([-num_std, num_std]) * sigma + mu\n",
    "    # low, high = np.percentile(series, [37, 63])\n",
    "    nearly_average = series.between(low, high)\n",
    "    percent = nearly_average.mean() * 100\n",
    "    res.append((trait, mu, sigma, low, high, percent))"
   ]
  },
  {
   "cell_type": "code",
   "execution_count": 79,
   "metadata": {
    "tags": [
     "remove-input"
    ]
   },
   "outputs": [
    {
     "data": {
      "text/html": [
       "<div>\n",
       "<style scoped>\n",
       "    .dataframe tbody tr th:only-of-type {\n",
       "        vertical-align: middle;\n",
       "    }\n",
       "\n",
       "    .dataframe tbody tr th {\n",
       "        vertical-align: top;\n",
       "    }\n",
       "\n",
       "    .dataframe thead th {\n",
       "        text-align: right;\n",
       "    }\n",
       "</style>\n",
       "<table border=\"1\" class=\"dataframe\">\n",
       "  <thead>\n",
       "    <tr style=\"text-align: right;\">\n",
       "      <th>Trait</th>\n",
       "      <th>Mean</th>\n",
       "      <th>Std Dev</th>\n",
       "      <th>Low</th>\n",
       "      <th>High</th>\n",
       "      <th>% in range</th>\n",
       "    </tr>\n",
       "  </thead>\n",
       "  <tbody>\n",
       "    <tr>\n",
       "      <th>Extroversion</th>\n",
       "      <td>-0.4</td>\n",
       "      <td>9.1</td>\n",
       "      <td>-3.1</td>\n",
       "      <td>2.3</td>\n",
       "      <td>23.4</td>\n",
       "    </tr>\n",
       "    <tr>\n",
       "      <th>Emotional stability</th>\n",
       "      <td>-0.7</td>\n",
       "      <td>8.6</td>\n",
       "      <td>-3.2</td>\n",
       "      <td>1.9</td>\n",
       "      <td>20.9</td>\n",
       "    </tr>\n",
       "    <tr>\n",
       "      <th>Conscientiousness</th>\n",
       "      <td>3.7</td>\n",
       "      <td>7.4</td>\n",
       "      <td>1.4</td>\n",
       "      <td>5.9</td>\n",
       "      <td>20.2</td>\n",
       "    </tr>\n",
       "    <tr>\n",
       "      <th>Agreeableness</th>\n",
       "      <td>7.7</td>\n",
       "      <td>7.3</td>\n",
       "      <td>5.5</td>\n",
       "      <td>9.9</td>\n",
       "      <td>21.1</td>\n",
       "    </tr>\n",
       "    <tr>\n",
       "      <th>Openness</th>\n",
       "      <td>8.5</td>\n",
       "      <td>5.2</td>\n",
       "      <td>7.0</td>\n",
       "      <td>10.1</td>\n",
       "      <td>28.3</td>\n",
       "    </tr>\n",
       "  </tbody>\n",
       "</table>\n",
       "</div>"
      ],
      "text/plain": [
       "Trait                Mean  Std Dev  Low  High  % in range\n",
       "Extroversion         -0.4      9.1 -3.1   2.3        23.4\n",
       "Emotional stability  -0.7      8.6 -3.2   1.9        20.9\n",
       "Conscientiousness     3.7      7.4  1.4   5.9        20.2\n",
       "Agreeableness         7.7      7.3  5.5   9.9        21.1\n",
       "Openness              8.5      5.2  7.0  10.1        28.3"
      ]
     },
     "execution_count": 79,
     "metadata": {},
     "output_type": "execute_result"
    }
   ],
   "source": [
    "columns = [\"Trait\", \"Mean\", \"Std Dev\", \"Low\", \"High\", \"% in range\"]\n",
    "index = list(traits.values())\n",
    "table = pd.DataFrame(res, columns=columns, index=index)\n",
    "table.index.name = \"Trait\"\n",
    "\n",
    "compress_table(table.drop(columns=[\"Trait\"]).round(1))"
   ]
  },
  {
   "cell_type": "code",
   "execution_count": 80,
   "metadata": {
    "tags": [
     "remove-cell"
    ]
   },
   "outputs": [
    {
     "name": "stdout",
     "output_type": "stream",
     "text": [
      "-3.1372871601929004 2.3252877053311494\n",
      "-3.242306090116485 1.9093743572296462\n",
      "1.448295151003666 5.872767227242111\n",
      "5.547085266391241 9.923379349440902\n",
      "6.998641959567459 10.09724854552145\n"
     ]
    },
    {
     "data": {
      "text/plain": [
       "EXT    0.233719\n",
       "EST    0.209079\n",
       "CSN    0.201916\n",
       "AGR    0.210914\n",
       "OPN    0.283486\n",
       "dtype: float64"
      ]
     },
     "execution_count": 80,
     "metadata": {},
     "output_type": "execute_result"
    }
   ],
   "source": [
    "average_table = pd.DataFrame(index=big_five.index, dtype=bool)\n",
    "\n",
    "for trait_name, row in table.iterrows():\n",
    "    trait, _, _, low, high, _ = row\n",
    "    print(low, high)\n",
    "    average_table[trait] = big_five[trait].between(low, high)\n",
    "\n",
    "average_table.mean()"
   ]
  },
  {
   "cell_type": "code",
   "execution_count": 81,
   "metadata": {
    "tags": [
     "remove-cell"
    ]
   },
   "outputs": [
    {
     "data": {
      "text/html": [
       "<div>\n",
       "<style scoped>\n",
       "    .dataframe tbody tr th:only-of-type {\n",
       "        vertical-align: middle;\n",
       "    }\n",
       "\n",
       "    .dataframe tbody tr th {\n",
       "        vertical-align: top;\n",
       "    }\n",
       "\n",
       "    .dataframe thead th {\n",
       "        text-align: right;\n",
       "    }\n",
       "</style>\n",
       "<table border=\"1\" class=\"dataframe\">\n",
       "  <thead>\n",
       "    <tr style=\"text-align: right;\">\n",
       "      <th></th>\n",
       "      <th>EXT</th>\n",
       "      <th>EST</th>\n",
       "      <th>CSN</th>\n",
       "      <th>AGR</th>\n",
       "      <th>OPN</th>\n",
       "    </tr>\n",
       "  </thead>\n",
       "  <tbody>\n",
       "    <tr>\n",
       "      <th>0</th>\n",
       "      <td>False</td>\n",
       "      <td>False</td>\n",
       "      <td>True</td>\n",
       "      <td>True</td>\n",
       "      <td>False</td>\n",
       "    </tr>\n",
       "    <tr>\n",
       "      <th>1</th>\n",
       "      <td>False</td>\n",
       "      <td>False</td>\n",
       "      <td>False</td>\n",
       "      <td>False</td>\n",
       "      <td>True</td>\n",
       "    </tr>\n",
       "    <tr>\n",
       "      <th>2</th>\n",
       "      <td>False</td>\n",
       "      <td>False</td>\n",
       "      <td>True</td>\n",
       "      <td>False</td>\n",
       "      <td>False</td>\n",
       "    </tr>\n",
       "    <tr>\n",
       "      <th>3</th>\n",
       "      <td>False</td>\n",
       "      <td>True</td>\n",
       "      <td>False</td>\n",
       "      <td>True</td>\n",
       "      <td>True</td>\n",
       "    </tr>\n",
       "    <tr>\n",
       "      <th>4</th>\n",
       "      <td>True</td>\n",
       "      <td>False</td>\n",
       "      <td>False</td>\n",
       "      <td>False</td>\n",
       "      <td>False</td>\n",
       "    </tr>\n",
       "  </tbody>\n",
       "</table>\n",
       "</div>"
      ],
      "text/plain": [
       "     EXT    EST    CSN    AGR    OPN\n",
       "0  False  False   True   True  False\n",
       "1  False  False  False  False   True\n",
       "2  False  False   True  False  False\n",
       "3  False   True  False   True   True\n",
       "4   True  False  False  False  False"
      ]
     },
     "execution_count": 81,
     "metadata": {},
     "output_type": "execute_result"
    }
   ],
   "source": [
    "average_table.head()"
   ]
  },
  {
   "cell_type": "code",
   "execution_count": 82,
   "metadata": {
    "tags": [
     "remove-cell"
    ]
   },
   "outputs": [
    {
     "data": {
      "text/html": [
       "<div>\n",
       "<style scoped>\n",
       "    .dataframe tbody tr th:only-of-type {\n",
       "        vertical-align: middle;\n",
       "    }\n",
       "\n",
       "    .dataframe tbody tr th {\n",
       "        vertical-align: top;\n",
       "    }\n",
       "\n",
       "    .dataframe thead th {\n",
       "        text-align: right;\n",
       "    }\n",
       "</style>\n",
       "<table border=\"1\" class=\"dataframe\">\n",
       "  <thead>\n",
       "    <tr style=\"text-align: right;\">\n",
       "      <th></th>\n",
       "      <th>EXT</th>\n",
       "      <th>EST</th>\n",
       "      <th>CSN</th>\n",
       "      <th>AGR</th>\n",
       "      <th>OPN</th>\n",
       "    </tr>\n",
       "  </thead>\n",
       "  <tbody>\n",
       "    <tr>\n",
       "      <th>0</th>\n",
       "      <td>False</td>\n",
       "      <td>False</td>\n",
       "      <td>False</td>\n",
       "      <td>False</td>\n",
       "      <td>False</td>\n",
       "    </tr>\n",
       "    <tr>\n",
       "      <th>1</th>\n",
       "      <td>False</td>\n",
       "      <td>False</td>\n",
       "      <td>False</td>\n",
       "      <td>False</td>\n",
       "      <td>False</td>\n",
       "    </tr>\n",
       "    <tr>\n",
       "      <th>2</th>\n",
       "      <td>False</td>\n",
       "      <td>False</td>\n",
       "      <td>False</td>\n",
       "      <td>False</td>\n",
       "      <td>False</td>\n",
       "    </tr>\n",
       "    <tr>\n",
       "      <th>3</th>\n",
       "      <td>False</td>\n",
       "      <td>False</td>\n",
       "      <td>False</td>\n",
       "      <td>False</td>\n",
       "      <td>False</td>\n",
       "    </tr>\n",
       "    <tr>\n",
       "      <th>4</th>\n",
       "      <td>True</td>\n",
       "      <td>False</td>\n",
       "      <td>False</td>\n",
       "      <td>False</td>\n",
       "      <td>False</td>\n",
       "    </tr>\n",
       "  </tbody>\n",
       "</table>\n",
       "</div>"
      ],
      "text/plain": [
       "     EXT    EST    CSN    AGR    OPN\n",
       "0  False  False  False  False  False\n",
       "1  False  False  False  False  False\n",
       "2  False  False  False  False  False\n",
       "3  False  False  False  False  False\n",
       "4   True  False  False  False  False"
      ]
     },
     "execution_count": 82,
     "metadata": {},
     "output_type": "execute_result"
    }
   ],
   "source": [
    "array = np.cumprod(average_table.values, axis=1)\n",
    "\n",
    "cumulative_table = pd.DataFrame(\n",
    "    array, index=average_table.index, columns=average_table.columns, dtype=bool\n",
    ")\n",
    "\n",
    "cumulative_table.head()"
   ]
  },
  {
   "cell_type": "markdown",
   "metadata": {},
   "source": [
    "For each trait, the \"average\" range contains 20-28% of the population. \n",
    "Now if we treat each trait as a hurdle and select people who are close to average on each one, the following table shows the results."
   ]
  },
  {
   "cell_type": "code",
   "execution_count": 83,
   "metadata": {
    "tags": [
     "remove-cell"
    ]
   },
   "outputs": [
    {
     "data": {
      "text/plain": [
       "873173"
      ]
     },
     "execution_count": 83,
     "metadata": {},
     "output_type": "execute_result"
    }
   ],
   "source": [
    "len(big_five)"
   ]
  },
  {
   "cell_type": "code",
   "execution_count": 84,
   "metadata": {
    "tags": [
     "remove-input"
    ]
   },
   "outputs": [
    {
     "data": {
      "text/html": [
       "<div>\n",
       "<style scoped>\n",
       "    .dataframe tbody tr th:only-of-type {\n",
       "        vertical-align: middle;\n",
       "    }\n",
       "\n",
       "    .dataframe tbody tr th {\n",
       "        vertical-align: top;\n",
       "    }\n",
       "\n",
       "    .dataframe thead th {\n",
       "        text-align: right;\n",
       "    }\n",
       "</style>\n",
       "<table border=\"1\" class=\"dataframe\">\n",
       "  <thead>\n",
       "    <tr style=\"text-align: right;\">\n",
       "      <th>Trait</th>\n",
       "      <th>Counts</th>\n",
       "      <th>Percentages</th>\n",
       "    </tr>\n",
       "  </thead>\n",
       "  <tbody>\n",
       "    <tr>\n",
       "      <th>Extroversion</th>\n",
       "      <td>204077</td>\n",
       "      <td>23.4</td>\n",
       "    </tr>\n",
       "    <tr>\n",
       "      <th>Emotional stability</th>\n",
       "      <td>46988</td>\n",
       "      <td>5.4</td>\n",
       "    </tr>\n",
       "    <tr>\n",
       "      <th>Conscientiousness</th>\n",
       "      <td>10976</td>\n",
       "      <td>1.3</td>\n",
       "    </tr>\n",
       "    <tr>\n",
       "      <th>Agreeableness</th>\n",
       "      <td>2981</td>\n",
       "      <td>0.3</td>\n",
       "    </tr>\n",
       "    <tr>\n",
       "      <th>Openness</th>\n",
       "      <td>926</td>\n",
       "      <td>0.1</td>\n",
       "    </tr>\n",
       "  </tbody>\n",
       "</table>\n",
       "</div>"
      ],
      "text/plain": [
       "Trait                Counts  Percentages\n",
       "Extroversion         204077         23.4\n",
       "Emotional stability   46988          5.4\n",
       "Conscientiousness     10976          1.3\n",
       "Agreeableness          2981          0.3\n",
       "Openness                926          0.1"
      ]
     },
     "execution_count": 84,
     "metadata": {},
     "output_type": "execute_result"
    }
   ],
   "source": [
    "counts = cumulative_table.sum()\n",
    "index = counts.index.to_series().replace(traits)\n",
    "index.name = 'Trait'\n",
    "\n",
    "results = pd.DataFrame({\"Counts\": counts.values}, index=index)\n",
    "results[\"Percentages\"] = counts.values / len(big_five) * 100\n",
    "\n",
    "compress_table(results.round(1))"
   ]
  },
  {
   "cell_type": "markdown",
   "metadata": {},
   "source": [
    "The first column shows the number of people who make it past each hurdle; the second column shows the percentages.\n",
    "\n",
    "Of the 873,173 people we started with, about 204,000 are close to the average in extroversion.\n",
    "Of those, about 47,000 are close to the average in emotional stability.\n",
    "And so on, until we find 926 who are close to average on all five traits, which is barely one person in a thousand."
   ]
  },
  {
   "cell_type": "markdown",
   "metadata": {},
   "source": [
    "## We Are All Equally Weird\n",
    "\n",
    "Using the Big Five data again, I counted the number of traits where each respondent falls outside the range we defined as \"approximately average\".\n",
    "We can think of the result as a kind of \"weirdness score\", where 5 means they are far from average on all five traits, and 0 means they are far from average on none.\n",
    "\n",
    "The following figure shows the distribution of these scores for the roughly 800,000 people who completed the Big Five survey."
   ]
  },
  {
   "cell_type": "code",
   "execution_count": 85,
   "metadata": {
    "tags": [
     "remove-cell"
    ]
   },
   "outputs": [],
   "source": [
    "def summarize(varname, series):\n",
    "    \"\"\"Summarize the values in a series.\n",
    "    \n",
    "    varname: string\n",
    "    series: Series\n",
    "    \n",
    "    low and high are the bounds of the \"average\" range\n",
    "    n is the number of people who fall in that range\n",
    "    \n",
    "    return: tuple of (varname, mean, std, low, high, n)\"\"\"\n",
    "    mu, sigma = series.mean(), series.std()\n",
    "    num_std = 0.3\n",
    "    low, high = np.array([-num_std, num_std]) * sigma + mu\n",
    "    nearly_average = series.between(low, high)\n",
    "    n = nearly_average.sum()\n",
    "    return varname, mu, sigma, low, high, n"
   ]
  },
  {
   "cell_type": "code",
   "execution_count": 86,
   "metadata": {
    "tags": [
     "remove-cell"
    ]
   },
   "outputs": [],
   "source": [
    "def make_summary_table(df, measurements, columns):\n",
    "    \"\"\"Make a table summarizing a set of measurements.\n",
    "    \n",
    "    df: DataFrame\n",
    "    measurements: list of column names\n",
    "    \n",
    "    returns: DataFrame with the columns from summarize\n",
    "    \"\"\"\n",
    "    res = []\n",
    "\n",
    "    for varname in measurements:\n",
    "        series = df[varname]\n",
    "        t = summarize(varname, series)\n",
    "        res.append(t)\n",
    "\n",
    "    return pd.DataFrame(res, columns=columns)"
   ]
  },
  {
   "cell_type": "code",
   "execution_count": 87,
   "metadata": {
    "tags": [
     "remove-cell"
    ]
   },
   "outputs": [],
   "source": [
    "def make_standardized_table(df, summary_table):\n",
    "    \"\"\"Compute standardized measurements.\n",
    "    \n",
    "    Express measurements in terms of standard deviations from the mean.\n",
    "    \n",
    "    df: DataFrame to get the original values from\n",
    "    summary_table: DataFrame to get the rows from\n",
    "    \n",
    "    returns: DataFrame\n",
    "    \"\"\"\n",
    "    d = {}\n",
    "    for measurement, row in summary_table.iterrows():\n",
    "        varname, mean, std, low, high, _ = row\n",
    "        d[varname] = np.abs(df[varname] - mean) / std\n",
    "    return pd.DataFrame(d)"
   ]
  },
  {
   "cell_type": "code",
   "execution_count": 88,
   "metadata": {
    "tags": [
     "remove-cell"
    ]
   },
   "outputs": [],
   "source": [
    "def make_weird_table(df, summary_table):\n",
    "    \"\"\"Make a table counting number of weirdness points.\n",
    "    \n",
    "    df: DataFrame to get the data from\n",
    "    summary_table: DataFrame to get the rows from\n",
    "    \n",
    "    returns: DataFrame\n",
    "    \"\"\"\n",
    "    d = {}\n",
    "    for measurement, row in summary_table.iterrows():\n",
    "        varname, mean, std, low, high, _ = row\n",
    "        is_average = df[varname].between(low, high)\n",
    "        d[varname] = np.where(is_average, 0, 1)\n",
    "    return pd.DataFrame(d)"
   ]
  },
  {
   "cell_type": "code",
   "execution_count": 89,
   "metadata": {
    "tags": [
     "remove-cell"
    ]
   },
   "outputs": [
    {
     "data": {
      "text/html": [
       "<div>\n",
       "<style scoped>\n",
       "    .dataframe tbody tr th:only-of-type {\n",
       "        vertical-align: middle;\n",
       "    }\n",
       "\n",
       "    .dataframe tbody tr th {\n",
       "        vertical-align: top;\n",
       "    }\n",
       "\n",
       "    .dataframe thead th {\n",
       "        text-align: right;\n",
       "    }\n",
       "</style>\n",
       "<table border=\"1\" class=\"dataframe\">\n",
       "  <thead>\n",
       "    <tr style=\"text-align: right;\">\n",
       "      <th></th>\n",
       "      <th>Trait</th>\n",
       "      <th>Mean</th>\n",
       "      <th>Std Dev</th>\n",
       "      <th>Low</th>\n",
       "      <th>High</th>\n",
       "      <th># in range</th>\n",
       "    </tr>\n",
       "  </thead>\n",
       "  <tbody>\n",
       "    <tr>\n",
       "      <th>0</th>\n",
       "      <td>EXT</td>\n",
       "      <td>-0.406000</td>\n",
       "      <td>9.104291</td>\n",
       "      <td>-3.137287</td>\n",
       "      <td>2.325288</td>\n",
       "      <td>204077</td>\n",
       "    </tr>\n",
       "    <tr>\n",
       "      <th>1</th>\n",
       "      <td>EST</td>\n",
       "      <td>-0.666466</td>\n",
       "      <td>8.586134</td>\n",
       "      <td>-3.242306</td>\n",
       "      <td>1.909374</td>\n",
       "      <td>182562</td>\n",
       "    </tr>\n",
       "    <tr>\n",
       "      <th>2</th>\n",
       "      <td>CSN</td>\n",
       "      <td>3.660531</td>\n",
       "      <td>7.374120</td>\n",
       "      <td>1.448295</td>\n",
       "      <td>5.872767</td>\n",
       "      <td>176308</td>\n",
       "    </tr>\n",
       "    <tr>\n",
       "      <th>3</th>\n",
       "      <td>AGR</td>\n",
       "      <td>7.735232</td>\n",
       "      <td>7.293823</td>\n",
       "      <td>5.547085</td>\n",
       "      <td>9.923379</td>\n",
       "      <td>184164</td>\n",
       "    </tr>\n",
       "    <tr>\n",
       "      <th>4</th>\n",
       "      <td>OPN</td>\n",
       "      <td>8.547945</td>\n",
       "      <td>5.164344</td>\n",
       "      <td>6.998642</td>\n",
       "      <td>10.097249</td>\n",
       "      <td>247532</td>\n",
       "    </tr>\n",
       "  </tbody>\n",
       "</table>\n",
       "</div>"
      ],
      "text/plain": [
       "  Trait      Mean   Std Dev       Low       High  # in range\n",
       "0   EXT -0.406000  9.104291 -3.137287   2.325288      204077\n",
       "1   EST -0.666466  8.586134 -3.242306   1.909374      182562\n",
       "2   CSN  3.660531  7.374120  1.448295   5.872767      176308\n",
       "3   AGR  7.735232  7.293823  5.547085   9.923379      184164\n",
       "4   OPN  8.547945  5.164344  6.998642  10.097249      247532"
      ]
     },
     "execution_count": 89,
     "metadata": {},
     "output_type": "execute_result"
    }
   ],
   "source": [
    "columns = [\"Trait\", \"Mean\", \"Std Dev\", \"Low\", \"High\", \"# in range\"]\n",
    "summary_table = make_summary_table(big_five, traits, columns)\n",
    "summary_table"
   ]
  },
  {
   "cell_type": "code",
   "execution_count": 90,
   "metadata": {
    "tags": [
     "remove-input"
    ]
   },
   "outputs": [
    {
     "data": {
      "image/png": "[encoded data removed]",
      "text/plain": [
       "<Figure size 640x480 with 1 Axes>"
      ]
     },
     "metadata": {},
     "output_type": "display_data"
    }
   ],
   "source": [
    "std_table = make_weird_table(big_five, summary_table)\n",
    "weirdness = std_table.sum(axis=1)\n",
    "\n",
    "pmf = Pmf.from_seq(weirdness)\n",
    "pmf *= 100\n",
    "pmf.bar(**bar_options)\n",
    "\n",
    "decorate(\n",
    "    xlabel=\"Number of measurements far from average\",\n",
    "    ylabel=\"Percent\",\n",
    "    title=\"Distribution of weirdness, Big Five dataset\",\n",
    ")"
   ]
  },
  {
   "cell_type": "code",
   "execution_count": 91,
   "metadata": {
    "tags": [
     "remove-cell"
    ]
   },
   "outputs": [
    {
     "data": {
      "text/plain": [
       "67.6952906239657"
      ]
     },
     "execution_count": 91,
     "metadata": {},
     "output_type": "execute_result"
    }
   ],
   "source": [
    "pmf[4:6].sum()"
   ]
  },
  {
   "cell_type": "markdown",
   "metadata": {},
   "source": [
    "As we've already seen, very few people are close to average on all five traits.\n",
    "Almost everyone is weird in two or more ways, and the majority (68\\%) are weird in four or five ways! "
   ]
  },
  {
   "cell_type": "code",
   "execution_count": 92,
   "metadata": {
    "tags": [
     "remove-cell"
    ]
   },
   "outputs": [
    {
     "data": {
      "text/html": [
       "<div>\n",
       "<style scoped>\n",
       "    .dataframe tbody tr th:only-of-type {\n",
       "        vertical-align: middle;\n",
       "    }\n",
       "\n",
       "    .dataframe tbody tr th {\n",
       "        vertical-align: top;\n",
       "    }\n",
       "\n",
       "    .dataframe thead th {\n",
       "        text-align: right;\n",
       "    }\n",
       "</style>\n",
       "<table border=\"1\" class=\"dataframe\">\n",
       "  <thead>\n",
       "    <tr style=\"text-align: right;\">\n",
       "      <th></th>\n",
       "      <th>Trait</th>\n",
       "      <th>Mean</th>\n",
       "      <th>Std Dev</th>\n",
       "      <th>Low</th>\n",
       "      <th>High</th>\n",
       "      <th># in range</th>\n",
       "    </tr>\n",
       "  </thead>\n",
       "  <tbody>\n",
       "    <tr>\n",
       "      <th>0</th>\n",
       "      <td>abdominalextensiondepthsitting</td>\n",
       "      <td>254.650906</td>\n",
       "      <td>37.327178</td>\n",
       "      <td>243.452753</td>\n",
       "      <td>265.849060</td>\n",
       "      <td>886</td>\n",
       "    </tr>\n",
       "    <tr>\n",
       "      <th>1</th>\n",
       "      <td>acromialheight</td>\n",
       "      <td>1440.736894</td>\n",
       "      <td>63.287242</td>\n",
       "      <td>1421.750721</td>\n",
       "      <td>1459.723066</td>\n",
       "      <td>974</td>\n",
       "    </tr>\n",
       "    <tr>\n",
       "      <th>2</th>\n",
       "      <td>acromionradialelength</td>\n",
       "      <td>335.244488</td>\n",
       "      <td>17.482795</td>\n",
       "      <td>329.999649</td>\n",
       "      <td>340.489327</td>\n",
       "      <td>1054</td>\n",
       "    </tr>\n",
       "    <tr>\n",
       "      <th>3</th>\n",
       "      <td>anklecircumference</td>\n",
       "      <td>229.343949</td>\n",
       "      <td>14.649102</td>\n",
       "      <td>224.949218</td>\n",
       "      <td>233.738680</td>\n",
       "      <td>1039</td>\n",
       "    </tr>\n",
       "    <tr>\n",
       "      <th>4</th>\n",
       "      <td>axillaheight</td>\n",
       "      <td>1329.082068</td>\n",
       "      <td>59.516123</td>\n",
       "      <td>1311.227231</td>\n",
       "      <td>1346.936905</td>\n",
       "      <td>964</td>\n",
       "    </tr>\n",
       "    <tr>\n",
       "      <th>...</th>\n",
       "      <td>...</td>\n",
       "      <td>...</td>\n",
       "      <td>...</td>\n",
       "      <td>...</td>\n",
       "      <td>...</td>\n",
       "      <td>...</td>\n",
       "    </tr>\n",
       "    <tr>\n",
       "      <th>88</th>\n",
       "      <td>waistfrontlengthsitting</td>\n",
       "      <td>387.642822</td>\n",
       "      <td>29.349007</td>\n",
       "      <td>378.838120</td>\n",
       "      <td>396.447524</td>\n",
       "      <td>964</td>\n",
       "    </tr>\n",
       "    <tr>\n",
       "      <th>89</th>\n",
       "      <td>waistheightomphalion</td>\n",
       "      <td>1056.485301</td>\n",
       "      <td>52.154671</td>\n",
       "      <td>1040.838900</td>\n",
       "      <td>1072.131703</td>\n",
       "      <td>961</td>\n",
       "    </tr>\n",
       "    <tr>\n",
       "      <th>90</th>\n",
       "      <td>weightkg</td>\n",
       "      <td>855.239588</td>\n",
       "      <td>142.206992</td>\n",
       "      <td>812.577491</td>\n",
       "      <td>897.901686</td>\n",
       "      <td>983</td>\n",
       "    </tr>\n",
       "    <tr>\n",
       "      <th>91</th>\n",
       "      <td>wristcircumference</td>\n",
       "      <td>175.916707</td>\n",
       "      <td>8.955055</td>\n",
       "      <td>173.230191</td>\n",
       "      <td>178.603224</td>\n",
       "      <td>941</td>\n",
       "    </tr>\n",
       "    <tr>\n",
       "      <th>92</th>\n",
       "      <td>wristheight</td>\n",
       "      <td>847.511514</td>\n",
       "      <td>41.655628</td>\n",
       "      <td>835.014825</td>\n",
       "      <td>860.008202</td>\n",
       "      <td>985</td>\n",
       "    </tr>\n",
       "  </tbody>\n",
       "</table>\n",
       "<p>93 rows × 6 columns</p>\n",
       "</div>"
      ],
      "text/plain": [
       "                             Trait         Mean     Std Dev          Low  \\\n",
       "0   abdominalextensiondepthsitting   254.650906   37.327178   243.452753   \n",
       "1                   acromialheight  1440.736894   63.287242  1421.750721   \n",
       "2            acromionradialelength   335.244488   17.482795   329.999649   \n",
       "3               anklecircumference   229.343949   14.649102   224.949218   \n",
       "4                     axillaheight  1329.082068   59.516123  1311.227231   \n",
       "..                             ...          ...         ...          ...   \n",
       "88         waistfrontlengthsitting   387.642822   29.349007   378.838120   \n",
       "89            waistheightomphalion  1056.485301   52.154671  1040.838900   \n",
       "90                        weightkg   855.239588  142.206992   812.577491   \n",
       "91              wristcircumference   175.916707    8.955055   173.230191   \n",
       "92                     wristheight   847.511514   41.655628   835.014825   \n",
       "\n",
       "           High  # in range  \n",
       "0    265.849060         886  \n",
       "1   1459.723066         974  \n",
       "2    340.489327        1054  \n",
       "3    233.738680        1039  \n",
       "4   1346.936905         964  \n",
       "..          ...         ...  \n",
       "88   396.447524         964  \n",
       "89  1072.131703         961  \n",
       "90   897.901686         983  \n",
       "91   178.603224         941  \n",
       "92   860.008202         985  \n",
       "\n",
       "[93 rows x 6 columns]"
      ]
     },
     "execution_count": 92,
     "metadata": {},
     "output_type": "execute_result"
    }
   ],
   "source": [
    "summary_table = make_summary_table(ansur_male, measurements, columns)\n",
    "summary_table"
   ]
  },
  {
   "cell_type": "code",
   "execution_count": 93,
   "metadata": {
    "tags": [
     "remove-cell"
    ]
   },
   "outputs": [
    {
     "data": {
      "text/plain": [
       "abdominalextensiondepthsitting    0.782950\n",
       "acromialheight                    0.761391\n",
       "acromionradialelength             0.741793\n",
       "anklecircumference                0.745468\n",
       "axillaheight                      0.763841\n",
       "                                    ...   \n",
       "waistfrontlengthsitting           0.763841\n",
       "waistheightomphalion              0.764576\n",
       "weightkg                          0.759187\n",
       "wristcircumference                0.769476\n",
       "wristheight                       0.758697\n",
       "Length: 93, dtype: float64"
      ]
     },
     "execution_count": 93,
     "metadata": {},
     "output_type": "execute_result"
    }
   ],
   "source": [
    "weird_table = make_weird_table(ansur_male, summary_table)\n",
    "weird_table.mean()"
   ]
  },
  {
   "cell_type": "code",
   "execution_count": 94,
   "metadata": {
    "tags": [
     "remove-cell"
    ]
   },
   "outputs": [
    {
     "data": {
      "text/html": [
       "<div>\n",
       "<style scoped>\n",
       "    .dataframe tbody tr th:only-of-type {\n",
       "        vertical-align: middle;\n",
       "    }\n",
       "\n",
       "    .dataframe tbody tr th {\n",
       "        vertical-align: top;\n",
       "    }\n",
       "\n",
       "    .dataframe thead th {\n",
       "        text-align: right;\n",
       "    }\n",
       "</style>\n",
       "<table border=\"1\" class=\"dataframe\">\n",
       "  <thead>\n",
       "    <tr style=\"text-align: right;\">\n",
       "      <th></th>\n",
       "      <th>abdominalextensiondepthsitting</th>\n",
       "      <th>acromialheight</th>\n",
       "      <th>acromionradialelength</th>\n",
       "      <th>anklecircumference</th>\n",
       "      <th>axillaheight</th>\n",
       "      <th>balloffootcircumference</th>\n",
       "      <th>balloffootlength</th>\n",
       "      <th>biacromialbreadth</th>\n",
       "      <th>bicepscircumferenceflexed</th>\n",
       "      <th>bicristalbreadth</th>\n",
       "      <th>...</th>\n",
       "      <th>verticaltrunkcircumferenceusa</th>\n",
       "      <th>waistbacklength</th>\n",
       "      <th>waistbreadth</th>\n",
       "      <th>waistcircumference</th>\n",
       "      <th>waistdepth</th>\n",
       "      <th>waistfrontlengthsitting</th>\n",
       "      <th>waistheightomphalion</th>\n",
       "      <th>weightkg</th>\n",
       "      <th>wristcircumference</th>\n",
       "      <th>wristheight</th>\n",
       "    </tr>\n",
       "  </thead>\n",
       "  <tbody>\n",
       "    <tr>\n",
       "      <th>0</th>\n",
       "      <td>1</td>\n",
       "      <td>1</td>\n",
       "      <td>0</td>\n",
       "      <td>1</td>\n",
       "      <td>1</td>\n",
       "      <td>0</td>\n",
       "      <td>0</td>\n",
       "      <td>1</td>\n",
       "      <td>1</td>\n",
       "      <td>0</td>\n",
       "      <td>...</td>\n",
       "      <td>1</td>\n",
       "      <td>1</td>\n",
       "      <td>0</td>\n",
       "      <td>0</td>\n",
       "      <td>0</td>\n",
       "      <td>1</td>\n",
       "      <td>0</td>\n",
       "      <td>0</td>\n",
       "      <td>0</td>\n",
       "      <td>0</td>\n",
       "    </tr>\n",
       "    <tr>\n",
       "      <th>1</th>\n",
       "      <td>1</td>\n",
       "      <td>1</td>\n",
       "      <td>1</td>\n",
       "      <td>1</td>\n",
       "      <td>1</td>\n",
       "      <td>1</td>\n",
       "      <td>1</td>\n",
       "      <td>1</td>\n",
       "      <td>1</td>\n",
       "      <td>1</td>\n",
       "      <td>...</td>\n",
       "      <td>1</td>\n",
       "      <td>1</td>\n",
       "      <td>1</td>\n",
       "      <td>1</td>\n",
       "      <td>1</td>\n",
       "      <td>1</td>\n",
       "      <td>0</td>\n",
       "      <td>1</td>\n",
       "      <td>1</td>\n",
       "      <td>1</td>\n",
       "    </tr>\n",
       "    <tr>\n",
       "      <th>2</th>\n",
       "      <td>1</td>\n",
       "      <td>0</td>\n",
       "      <td>1</td>\n",
       "      <td>0</td>\n",
       "      <td>0</td>\n",
       "      <td>1</td>\n",
       "      <td>1</td>\n",
       "      <td>1</td>\n",
       "      <td>1</td>\n",
       "      <td>1</td>\n",
       "      <td>...</td>\n",
       "      <td>0</td>\n",
       "      <td>0</td>\n",
       "      <td>0</td>\n",
       "      <td>0</td>\n",
       "      <td>1</td>\n",
       "      <td>1</td>\n",
       "      <td>0</td>\n",
       "      <td>1</td>\n",
       "      <td>1</td>\n",
       "      <td>1</td>\n",
       "    </tr>\n",
       "    <tr>\n",
       "      <th>3</th>\n",
       "      <td>1</td>\n",
       "      <td>1</td>\n",
       "      <td>1</td>\n",
       "      <td>0</td>\n",
       "      <td>1</td>\n",
       "      <td>1</td>\n",
       "      <td>0</td>\n",
       "      <td>1</td>\n",
       "      <td>0</td>\n",
       "      <td>1</td>\n",
       "      <td>...</td>\n",
       "      <td>1</td>\n",
       "      <td>1</td>\n",
       "      <td>1</td>\n",
       "      <td>1</td>\n",
       "      <td>1</td>\n",
       "      <td>1</td>\n",
       "      <td>1</td>\n",
       "      <td>1</td>\n",
       "      <td>0</td>\n",
       "      <td>1</td>\n",
       "    </tr>\n",
       "    <tr>\n",
       "      <th>4</th>\n",
       "      <td>0</td>\n",
       "      <td>1</td>\n",
       "      <td>1</td>\n",
       "      <td>1</td>\n",
       "      <td>1</td>\n",
       "      <td>1</td>\n",
       "      <td>1</td>\n",
       "      <td>1</td>\n",
       "      <td>0</td>\n",
       "      <td>1</td>\n",
       "      <td>...</td>\n",
       "      <td>0</td>\n",
       "      <td>1</td>\n",
       "      <td>1</td>\n",
       "      <td>1</td>\n",
       "      <td>1</td>\n",
       "      <td>0</td>\n",
       "      <td>1</td>\n",
       "      <td>1</td>\n",
       "      <td>1</td>\n",
       "      <td>1</td>\n",
       "    </tr>\n",
       "  </tbody>\n",
       "</table>\n",
       "<p>5 rows × 93 columns</p>\n",
       "</div>"
      ],
      "text/plain": [
       "   abdominalextensiondepthsitting  acromialheight  acromionradialelength  \\\n",
       "0                               1               1                      0   \n",
       "1                               1               1                      1   \n",
       "2                               1               0                      1   \n",
       "3                               1               1                      1   \n",
       "4                               0               1                      1   \n",
       "\n",
       "   anklecircumference  axillaheight  balloffootcircumference  \\\n",
       "0                   1             1                        0   \n",
       "1                   1             1                        1   \n",
       "2                   0             0                        1   \n",
       "3                   0             1                        1   \n",
       "4                   1             1                        1   \n",
       "\n",
       "   balloffootlength  biacromialbreadth  bicepscircumferenceflexed  \\\n",
       "0                 0                  1                          1   \n",
       "1                 1                  1                          1   \n",
       "2                 1                  1                          1   \n",
       "3                 0                  1                          0   \n",
       "4                 1                  1                          0   \n",
       "\n",
       "   bicristalbreadth  ...  verticaltrunkcircumferenceusa  waistbacklength  \\\n",
       "0                 0  ...                              1                1   \n",
       "1                 1  ...                              1                1   \n",
       "2                 1  ...                              0                0   \n",
       "3                 1  ...                              1                1   \n",
       "4                 1  ...                              0                1   \n",
       "\n",
       "   waistbreadth  waistcircumference  waistdepth  waistfrontlengthsitting  \\\n",
       "0             0                   0           0                        1   \n",
       "1             1                   1           1                        1   \n",
       "2             0                   0           1                        1   \n",
       "3             1                   1           1                        1   \n",
       "4             1                   1           1                        0   \n",
       "\n",
       "   waistheightomphalion  weightkg  wristcircumference  wristheight  \n",
       "0                     0         0                   0            0  \n",
       "1                     0         1                   1            1  \n",
       "2                     0         1                   1            1  \n",
       "3                     1         1                   0            1  \n",
       "4                     1         1                   1            1  \n",
       "\n",
       "[5 rows x 93 columns]"
      ]
     },
     "execution_count": 94,
     "metadata": {},
     "output_type": "execute_result"
    }
   ],
   "source": [
    "weird_table.head()"
   ]
  },
  {
   "cell_type": "markdown",
   "metadata": {},
   "source": [
    "The distribution of weirdness is similar with physical traits.\n",
    "Using the 93 measurements in the ANSUR dataset, we can count the number of ways each participant deviates from average.\n",
    "The following figure shows the distribution of these counts for the male ANSUR participants.\n"
   ]
  },
  {
   "cell_type": "code",
   "execution_count": 95,
   "metadata": {
    "tags": [
     "remove-input"
    ]
   },
   "outputs": [
    {
     "data": {
      "image/png": "[encoded data removed]",
      "text/plain": [
       "<Figure size 640x480 with 1 Axes>"
      ]
     },
     "metadata": {},
     "output_type": "display_data"
    }
   ],
   "source": [
    "weirdness = weird_table.sum(axis=1)\n",
    "pmf = Pmf.from_seq(weirdness)\n",
    "pmf *= 100\n",
    "pmf.bar(**bar_options)\n",
    "\n",
    "decorate(\n",
    "    xlabel=\"Number of measurements far from average\",\n",
    "    xlim=[0, 95],\n",
    "    ylabel=\"Percent\",\n",
    "    title=\"Distribution of weirdness, ANSUR dataset\",\n",
    ")"
   ]
  },
  {
   "cell_type": "markdown",
   "metadata": {},
   "source": [
    "Nearly everyone in this dataset is \"weird\" in at least 40 ways, and 90\\% of them are weird in at least 57 ways.\n",
    "With enough measurements, being weird is normal.\n",
    "\n",
    "Now I'll use the ANSUR measurements to compute all possible ratios of two measurements.\n",
    "With 93 measurements and 4278 ratios, there are a total of 4317 ways to be weird.\n",
    "The following figure shows the distribution of weirdness scores for the male participants."
   ]
  },
  {
   "cell_type": "code",
   "execution_count": 96,
   "metadata": {
    "tags": [
     "remove-cell"
    ]
   },
   "outputs": [
    {
     "data": {
      "text/plain": [
       "70.78637922586967"
      ]
     },
     "execution_count": 96,
     "metadata": {},
     "output_type": "execute_result"
    }
   ],
   "source": [
    "weirdness.mean()"
   ]
  },
  {
   "cell_type": "code",
   "execution_count": 97,
   "metadata": {
    "tags": [
     "remove-cell"
    ]
   },
   "outputs": [
    {
     "data": {
      "text/plain": [
       "array([57.])"
      ]
     },
     "execution_count": 97,
     "metadata": {},
     "output_type": "execute_result"
    }
   ],
   "source": [
    "np.percentile(weirdness, [10])"
   ]
  },
  {
   "cell_type": "code",
   "execution_count": 98,
   "metadata": {
    "tags": [
     "remove-cell"
    ]
   },
   "outputs": [
    {
     "data": {
      "text/html": [
       "<div>\n",
       "<style scoped>\n",
       "    .dataframe tbody tr th:only-of-type {\n",
       "        vertical-align: middle;\n",
       "    }\n",
       "\n",
       "    .dataframe tbody tr th {\n",
       "        vertical-align: top;\n",
       "    }\n",
       "\n",
       "    .dataframe thead th {\n",
       "        text-align: right;\n",
       "    }\n",
       "</style>\n",
       "<table border=\"1\" class=\"dataframe\">\n",
       "  <thead>\n",
       "    <tr style=\"text-align: right;\">\n",
       "      <th></th>\n",
       "      <th>acromialheightabdominalextensiondepthsitting</th>\n",
       "      <th>acromionradialelengthabdominalextensiondepthsitting</th>\n",
       "      <th>acromionradialelengthacromialheight</th>\n",
       "      <th>anklecircumferenceabdominalextensiondepthsitting</th>\n",
       "      <th>anklecircumferenceacromialheight</th>\n",
       "      <th>anklecircumferenceacromionradialelength</th>\n",
       "      <th>axillaheightabdominalextensiondepthsitting</th>\n",
       "      <th>axillaheightacromialheight</th>\n",
       "      <th>axillaheightacromionradialelength</th>\n",
       "      <th>axillaheightanklecircumference</th>\n",
       "      <th>...</th>\n",
       "      <th>wristheighttrochanterionheight</th>\n",
       "      <th>wristheightverticaltrunkcircumferenceusa</th>\n",
       "      <th>wristheightwaistbacklength</th>\n",
       "      <th>wristheightwaistbreadth</th>\n",
       "      <th>wristheightwaistcircumference</th>\n",
       "      <th>wristheightwaistdepth</th>\n",
       "      <th>wristheightwaistfrontlengthsitting</th>\n",
       "      <th>wristheightwaistheightomphalion</th>\n",
       "      <th>wristheightweightkg</th>\n",
       "      <th>wristheightwristcircumference</th>\n",
       "    </tr>\n",
       "  </thead>\n",
       "  <tbody>\n",
       "    <tr>\n",
       "      <th>0</th>\n",
       "      <td>5.515038</td>\n",
       "      <td>1.266917</td>\n",
       "      <td>0.229721</td>\n",
       "      <td>0.834586</td>\n",
       "      <td>0.151329</td>\n",
       "      <td>0.658754</td>\n",
       "      <td>5.063910</td>\n",
       "      <td>0.918200</td>\n",
       "      <td>3.997033</td>\n",
       "      <td>6.067568</td>\n",
       "      <td>...</td>\n",
       "      <td>0.928183</td>\n",
       "      <td>0.501765</td>\n",
       "      <td>1.702595</td>\n",
       "      <td>2.592705</td>\n",
       "      <td>0.914255</td>\n",
       "      <td>3.554167</td>\n",
       "      <td>1.938636</td>\n",
       "      <td>0.809298</td>\n",
       "      <td>1.046626</td>\n",
       "      <td>4.874286</td>\n",
       "    </tr>\n",
       "    <tr>\n",
       "      <th>1</th>\n",
       "      <td>5.987124</td>\n",
       "      <td>1.399142</td>\n",
       "      <td>0.233692</td>\n",
       "      <td>0.944206</td>\n",
       "      <td>0.157706</td>\n",
       "      <td>0.674847</td>\n",
       "      <td>5.549356</td>\n",
       "      <td>0.926882</td>\n",
       "      <td>3.966258</td>\n",
       "      <td>5.877273</td>\n",
       "      <td>...</td>\n",
       "      <td>0.887800</td>\n",
       "      <td>0.500922</td>\n",
       "      <td>1.886574</td>\n",
       "      <td>2.579114</td>\n",
       "      <td>0.936782</td>\n",
       "      <td>3.622222</td>\n",
       "      <td>2.196765</td>\n",
       "      <td>0.773245</td>\n",
       "      <td>1.122590</td>\n",
       "      <td>4.880240</td>\n",
       "    </tr>\n",
       "    <tr>\n",
       "      <th>2</th>\n",
       "      <td>4.982578</td>\n",
       "      <td>1.188153</td>\n",
       "      <td>0.238462</td>\n",
       "      <td>0.801394</td>\n",
       "      <td>0.160839</td>\n",
       "      <td>0.674487</td>\n",
       "      <td>4.623693</td>\n",
       "      <td>0.927972</td>\n",
       "      <td>3.891496</td>\n",
       "      <td>5.769565</td>\n",
       "      <td>...</td>\n",
       "      <td>0.905229</td>\n",
       "      <td>0.495232</td>\n",
       "      <td>1.760593</td>\n",
       "      <td>2.525836</td>\n",
       "      <td>0.862033</td>\n",
       "      <td>3.258824</td>\n",
       "      <td>2.021898</td>\n",
       "      <td>0.798271</td>\n",
       "      <td>0.894510</td>\n",
       "      <td>4.616667</td>\n",
       "    </tr>\n",
       "    <tr>\n",
       "      <th>3</th>\n",
       "      <td>5.756410</td>\n",
       "      <td>1.324786</td>\n",
       "      <td>0.230141</td>\n",
       "      <td>0.982906</td>\n",
       "      <td>0.170750</td>\n",
       "      <td>0.741935</td>\n",
       "      <td>5.294872</td>\n",
       "      <td>0.919822</td>\n",
       "      <td>3.996774</td>\n",
       "      <td>5.386957</td>\n",
       "      <td>...</td>\n",
       "      <td>0.936246</td>\n",
       "      <td>0.488000</td>\n",
       "      <td>1.720174</td>\n",
       "      <td>2.517460</td>\n",
       "      <td>0.925321</td>\n",
       "      <td>3.868293</td>\n",
       "      <td>1.987469</td>\n",
       "      <td>0.819215</td>\n",
       "      <td>0.998741</td>\n",
       "      <td>4.505682</td>\n",
       "    </tr>\n",
       "    <tr>\n",
       "      <th>4</th>\n",
       "      <td>6.340000</td>\n",
       "      <td>1.488000</td>\n",
       "      <td>0.234700</td>\n",
       "      <td>0.988000</td>\n",
       "      <td>0.155836</td>\n",
       "      <td>0.663978</td>\n",
       "      <td>5.912000</td>\n",
       "      <td>0.932492</td>\n",
       "      <td>3.973118</td>\n",
       "      <td>5.983806</td>\n",
       "      <td>...</td>\n",
       "      <td>0.875229</td>\n",
       "      <td>0.568195</td>\n",
       "      <td>2.042827</td>\n",
       "      <td>3.148515</td>\n",
       "      <td>1.099078</td>\n",
       "      <td>4.457944</td>\n",
       "      <td>2.517150</td>\n",
       "      <td>0.766265</td>\n",
       "      <td>1.008457</td>\n",
       "      <td>5.074468</td>\n",
       "    </tr>\n",
       "  </tbody>\n",
       "</table>\n",
       "<p>5 rows × 4278 columns</p>\n",
       "</div>"
      ],
      "text/plain": [
       "   acromialheightabdominalextensiondepthsitting  \\\n",
       "0                                      5.515038   \n",
       "1                                      5.987124   \n",
       "2                                      4.982578   \n",
       "3                                      5.756410   \n",
       "4                                      6.340000   \n",
       "\n",
       "   acromionradialelengthabdominalextensiondepthsitting  \\\n",
       "0                                           1.266917     \n",
       "1                                           1.399142     \n",
       "2                                           1.188153     \n",
       "3                                           1.324786     \n",
       "4                                           1.488000     \n",
       "\n",
       "   acromionradialelengthacromialheight  \\\n",
       "0                             0.229721   \n",
       "1                             0.233692   \n",
       "2                             0.238462   \n",
       "3                             0.230141   \n",
       "4                             0.234700   \n",
       "\n",
       "   anklecircumferenceabdominalextensiondepthsitting  \\\n",
       "0                                          0.834586   \n",
       "1                                          0.944206   \n",
       "2                                          0.801394   \n",
       "3                                          0.982906   \n",
       "4                                          0.988000   \n",
       "\n",
       "   anklecircumferenceacromialheight  anklecircumferenceacromionradialelength  \\\n",
       "0                          0.151329                                 0.658754   \n",
       "1                          0.157706                                 0.674847   \n",
       "2                          0.160839                                 0.674487   \n",
       "3                          0.170750                                 0.741935   \n",
       "4                          0.155836                                 0.663978   \n",
       "\n",
       "   axillaheightabdominalextensiondepthsitting  axillaheightacromialheight  \\\n",
       "0                                    5.063910                    0.918200   \n",
       "1                                    5.549356                    0.926882   \n",
       "2                                    4.623693                    0.927972   \n",
       "3                                    5.294872                    0.919822   \n",
       "4                                    5.912000                    0.932492   \n",
       "\n",
       "   axillaheightacromionradialelength  axillaheightanklecircumference  ...  \\\n",
       "0                           3.997033                        6.067568  ...   \n",
       "1                           3.966258                        5.877273  ...   \n",
       "2                           3.891496                        5.769565  ...   \n",
       "3                           3.996774                        5.386957  ...   \n",
       "4                           3.973118                        5.983806  ...   \n",
       "\n",
       "   wristheighttrochanterionheight  wristheightverticaltrunkcircumferenceusa  \\\n",
       "0                        0.928183                                  0.501765   \n",
       "1                        0.887800                                  0.500922   \n",
       "2                        0.905229                                  0.495232   \n",
       "3                        0.936246                                  0.488000   \n",
       "4                        0.875229                                  0.568195   \n",
       "\n",
       "   wristheightwaistbacklength  wristheightwaistbreadth  \\\n",
       "0                    1.702595                 2.592705   \n",
       "1                    1.886574                 2.579114   \n",
       "2                    1.760593                 2.525836   \n",
       "3                    1.720174                 2.517460   \n",
       "4                    2.042827                 3.148515   \n",
       "\n",
       "   wristheightwaistcircumference  wristheightwaistdepth  \\\n",
       "0                       0.914255               3.554167   \n",
       "1                       0.936782               3.622222   \n",
       "2                       0.862033               3.258824   \n",
       "3                       0.925321               3.868293   \n",
       "4                       1.099078               4.457944   \n",
       "\n",
       "   wristheightwaistfrontlengthsitting  wristheightwaistheightomphalion  \\\n",
       "0                            1.938636                         0.809298   \n",
       "1                            2.196765                         0.773245   \n",
       "2                            2.021898                         0.798271   \n",
       "3                            1.987469                         0.819215   \n",
       "4                            2.517150                         0.766265   \n",
       "\n",
       "   wristheightweightkg  wristheightwristcircumference  \n",
       "0             1.046626                       4.874286  \n",
       "1             1.122590                       4.880240  \n",
       "2             0.894510                       4.616667  \n",
       "3             0.998741                       4.505682  \n",
       "4             1.008457                       5.074468  \n",
       "\n",
       "[5 rows x 4278 columns]"
      ]
     },
     "execution_count": 98,
     "metadata": {},
     "output_type": "execute_result"
    }
   ],
   "source": [
    "d = {}\n",
    "for i, varname1 in enumerate(measurements):\n",
    "    for j, varname2 in enumerate(measurements):\n",
    "        if i <= j:\n",
    "            continue\n",
    "        colname = varname1 + varname2\n",
    "        d[colname] = ansur_male[varname1] / ansur_male[varname2]\n",
    "\n",
    "ratio_frame = pd.DataFrame(d)\n",
    "ratio_frame.head()"
   ]
  },
  {
   "cell_type": "code",
   "execution_count": 99,
   "metadata": {
    "tags": [
     "remove-cell"
    ]
   },
   "outputs": [
    {
     "data": {
      "text/plain": [
       "(4082, 4278)"
      ]
     },
     "execution_count": 99,
     "metadata": {},
     "output_type": "execute_result"
    }
   ],
   "source": [
    "ratio_frame.shape"
   ]
  },
  {
   "cell_type": "code",
   "execution_count": 100,
   "metadata": {
    "tags": [
     "remove-cell"
    ]
   },
   "outputs": [
    {
     "data": {
      "text/plain": [
       "(4082, 4371)"
      ]
     },
     "execution_count": 100,
     "metadata": {},
     "output_type": "execute_result"
    }
   ],
   "source": [
    "ratio_frame = pd.concat([ansur_male[measurements], ratio_frame], axis=1)\n",
    "ratio_frame.shape"
   ]
  },
  {
   "cell_type": "code",
   "execution_count": 101,
   "metadata": {
    "tags": [
     "remove-cell"
    ]
   },
   "outputs": [
    {
     "data": {
      "text/html": [
       "<div>\n",
       "<style scoped>\n",
       "    .dataframe tbody tr th:only-of-type {\n",
       "        vertical-align: middle;\n",
       "    }\n",
       "\n",
       "    .dataframe tbody tr th {\n",
       "        vertical-align: top;\n",
       "    }\n",
       "\n",
       "    .dataframe thead th {\n",
       "        text-align: right;\n",
       "    }\n",
       "</style>\n",
       "<table border=\"1\" class=\"dataframe\">\n",
       "  <thead>\n",
       "    <tr style=\"text-align: right;\">\n",
       "      <th></th>\n",
       "      <th>Trait</th>\n",
       "      <th>Mean</th>\n",
       "      <th>Std Dev</th>\n",
       "      <th>Low</th>\n",
       "      <th>High</th>\n",
       "      <th># in range</th>\n",
       "    </tr>\n",
       "  </thead>\n",
       "  <tbody>\n",
       "    <tr>\n",
       "      <th>0</th>\n",
       "      <td>abdominalextensiondepthsitting</td>\n",
       "      <td>254.650906</td>\n",
       "      <td>37.327178</td>\n",
       "      <td>243.452753</td>\n",
       "      <td>265.849060</td>\n",
       "      <td>886</td>\n",
       "    </tr>\n",
       "    <tr>\n",
       "      <th>1</th>\n",
       "      <td>acromialheight</td>\n",
       "      <td>1440.736894</td>\n",
       "      <td>63.287242</td>\n",
       "      <td>1421.750721</td>\n",
       "      <td>1459.723066</td>\n",
       "      <td>974</td>\n",
       "    </tr>\n",
       "    <tr>\n",
       "      <th>2</th>\n",
       "      <td>acromionradialelength</td>\n",
       "      <td>335.244488</td>\n",
       "      <td>17.482795</td>\n",
       "      <td>329.999649</td>\n",
       "      <td>340.489327</td>\n",
       "      <td>1054</td>\n",
       "    </tr>\n",
       "    <tr>\n",
       "      <th>3</th>\n",
       "      <td>anklecircumference</td>\n",
       "      <td>229.343949</td>\n",
       "      <td>14.649102</td>\n",
       "      <td>224.949218</td>\n",
       "      <td>233.738680</td>\n",
       "      <td>1039</td>\n",
       "    </tr>\n",
       "    <tr>\n",
       "      <th>4</th>\n",
       "      <td>axillaheight</td>\n",
       "      <td>1329.082068</td>\n",
       "      <td>59.516123</td>\n",
       "      <td>1311.227231</td>\n",
       "      <td>1346.936905</td>\n",
       "      <td>964</td>\n",
       "    </tr>\n",
       "  </tbody>\n",
       "</table>\n",
       "</div>"
      ],
      "text/plain": [
       "                            Trait         Mean    Std Dev          Low  \\\n",
       "0  abdominalextensiondepthsitting   254.650906  37.327178   243.452753   \n",
       "1                  acromialheight  1440.736894  63.287242  1421.750721   \n",
       "2           acromionradialelength   335.244488  17.482795   329.999649   \n",
       "3              anklecircumference   229.343949  14.649102   224.949218   \n",
       "4                    axillaheight  1329.082068  59.516123  1311.227231   \n",
       "\n",
       "          High  # in range  \n",
       "0   265.849060         886  \n",
       "1  1459.723066         974  \n",
       "2   340.489327        1054  \n",
       "3   233.738680        1039  \n",
       "4  1346.936905         964  "
      ]
     },
     "execution_count": 101,
     "metadata": {},
     "output_type": "execute_result"
    }
   ],
   "source": [
    "summary_table2 = make_summary_table(ratio_frame, ratio_frame.columns, columns)\n",
    "summary_table2.head()"
   ]
  },
  {
   "cell_type": "code",
   "execution_count": 102,
   "metadata": {
    "tags": [
     "remove-cell"
    ]
   },
   "outputs": [
    {
     "data": {
      "text/plain": [
       "abdominalextensiondepthsitting        0.782950\n",
       "acromialheight                        0.761391\n",
       "acromionradialelength                 0.741793\n",
       "anklecircumference                    0.745468\n",
       "axillaheight                          0.763841\n",
       "                                        ...   \n",
       "wristheightwaistdepth                 0.773885\n",
       "wristheightwaistfrontlengthsitting    0.762616\n",
       "wristheightwaistheightomphalion       0.759187\n",
       "wristheightweightkg                   0.760412\n",
       "wristheightwristcircumference         0.760412\n",
       "Length: 4371, dtype: float64"
      ]
     },
     "execution_count": 102,
     "metadata": {},
     "output_type": "execute_result"
    }
   ],
   "source": [
    "weird_table2 = make_weird_table(ratio_frame, summary_table2)\n",
    "weird_table2.mean()"
   ]
  },
  {
   "cell_type": "code",
   "execution_count": 103,
   "metadata": {
    "tags": [
     "remove-input"
    ]
   },
   "outputs": [
    {
     "data": {
      "image/png": "[encoded data removed]",
      "text/plain": [
       "<Figure size 640x480 with 1 Axes>"
      ]
     },
     "metadata": {},
     "output_type": "display_data"
    }
   ],
   "source": [
    "weirdness2 = weird_table2.sum(axis=1)\n",
    "plt.hist(weirdness2, bins=30, fill=True, alpha=0.4)\n",
    "\n",
    "decorate(\n",
    "    xlabel=\"Number of measurements far from average\",\n",
    "    xlim=[0, 4371],\n",
    "    ylabel=\"Percent\",\n",
    "    title=\"Distribution of weirdness, ANSUR Dataset with ratios\",\n",
    ")"
   ]
  },
  {
   "cell_type": "markdown",
   "metadata": {},
   "source": [
    "With these measurements, all participants fall in a relatively narrow range of weirdness.\n",
    "The most \"normal\" participant deviates from average in 2446 ways; the weirdest in 4038 ways.\n"
   ]
  },
  {
   "cell_type": "code",
   "execution_count": 104,
   "metadata": {
    "tags": [
     "remove-cell"
    ]
   },
   "outputs": [
    {
     "data": {
      "text/plain": [
       "0.00    2446.00\n",
       "0.05    2853.05\n",
       "0.50    3343.00\n",
       "0.95    3768.95\n",
       "1.00    4038.00\n",
       "dtype: float64"
      ]
     },
     "execution_count": 104,
     "metadata": {},
     "output_type": "execute_result"
    }
   ],
   "source": [
    "weirdness2.quantile([0, 0.05, 0.5, 0.95, 1])"
   ]
  },
  {
   "cell_type": "markdown",
   "metadata": {
    "tags": [
     "remove-print"
    ]
   },
   "source": [
    "Probably Overthinking It\n",
    "\n",
    "Copyright 2022 Allen Downey \n",
    "\n",
    "The code in this notebook and `utils.py` is under the [MIT license](https://mit-license.org/)."
   ]
  },
  {
   "cell_type": "code",
   "execution_count": null,
   "metadata": {
    "tags": [
     "remove-cell"
    ]
   },
   "outputs": [],
   "source": []
  }
 ],
 "metadata": {
  "celltoolbar": "Tags",
  "kernelspec": {
   "display_name": "Python 3 (ipykernel)",
   "language": "python",
   "name": "python3"
  },
  "language_info": {
   "codemirror_mode": {
    "name": "ipython",
    "version": 3
   },
   "file_extension": ".py",
   "mimetype": "text/x-python",
   "name": "python",
   "nbconvert_exporter": "python",
   "pygments_lexer": "ipython3",
   "version": "3.10.12"
  },
  "vscode": {
   "interpreter": {
    "hash": "0ec5ed6b09d707626a88374049342ddeccdd80e20632e6c4d0f0e5698c4352d0"
   }
  }
 },
 "nbformat": 4,
 "nbformat_minor": 4
}
