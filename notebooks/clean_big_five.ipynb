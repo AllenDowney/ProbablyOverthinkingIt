{
 "cells": [
  {
   "cell_type": "markdown",
   "metadata": {},
   "source": [
    "# Preparing the Big Five Data"
   ]
  },
  {
   "cell_type": "markdown",
   "metadata": {},
   "source": [
    "> This is one of a series of Jupyter notebooks that provide the code I used in my preparation of *Probably Overthinking It: How to Use Data to Answer Questions, Avoid Statistical Traps, and Make Better Decisions*, University of Chicago Press, 2023.\n",
    "\n",
    "Before you read these notebooks, please keep in mind:\n",
    "\n",
    "* Many of the examples will not make sense unless you have read the corresponding chapter in the book.\n",
    "\n",
    "* In the process of preparing these notebooks, I've made some changes to improve the readability of the code. Also, some of the result depend on random simulations. For both of these reasons, there might be differences between what appears in the book and what you get when you run this code.\n",
    "\n",
    "[Click here to run this notebook on Colab](https://colab.research.google.com/github/AllenDowney/ProbablyOverthinkingIt/blob/book/notebooks/clean_big_five.ipynb)."
   ]
  },
  {
   "cell_type": "markdown",
   "metadata": {},
   "source": [
    "Credit: This is a modified version of\n",
    "https://www.kaggle.com/psqrtpsqrt/big-five-personality-test-eda, \n",
    "\n",
    "by https://www.kaggle.com/psqrtpsqrt\n",
    "\n",
    "which is under the \n",
    "\n",
    "https://www.apache.org/licenses/LICENSE-2.0\n",
    "\n",
    "This version is copyright Allen Downey, under the same Apache license."
   ]
  },
  {
   "cell_type": "markdown",
   "metadata": {},
   "source": [
    "According to Wikipedia, \n",
    "> In psychological trait theory, the Big Five personality traits, also known as the five-factor model (FFM) and the OCEAN model, is a suggested taxonomy, or grouping, for personality traits.\n",
    ">\n",
    "> The theory identifies five factors:\n",
    ">\n",
    "> * openness to experience (inventive/curious vs. consistent/cautious)\n",
    "> * conscientiousness (efficient/organized vs. extravagant/careless)\n",
    "> * extraversion (outgoing/energetic vs. solitary/reserved)\n",
    "> * agreeableness (friendly/compassionate vs. challenging/callous)\n",
    "> * neuroticism (sensitive/nervous vs. resilient/confident)\n"
   ]
  },
  {
   "cell_type": "markdown",
   "metadata": {},
   "source": [
    "## Dataset"
   ]
  },
  {
   "cell_type": "markdown",
   "metadata": {},
   "source": [
    "According to the codebook supplied with the dataset:\n",
    "\n",
    ">This data was collected (2016-2018) through an interactive on-line personality test.\n",
    ">The personality test was constructed with the \"Big-Five Factor Markers\" from the IPIP. https://ipip.ori.org/newBigFive5broadKey.htm\n",
    "Participants were informed that their responses would be recorded and used for research at the beginning of the test, and asked to confirm their consent at the end of the test.\n",
    "\n",
    "The interactive on-line personality test can be found here: https://openpsychometrics.org/tests/IPIP-BFFM/. The test was presented as a single web page, containing 50 questions (10 per trait) and the user had to rate on a five points scale using radio buttons.\n",
    "\n",
    "The dataset has 1,015,342 rows. Answers and time spent on each question are provided in the dataset. In addition to this, some user's device information have been collected: \n",
    "* timestamp when the survey was started\n",
    "* device's screen width and height\n",
    "* location information: country, approximate latitude and approximate longitude.\n",
    "\n"
   ]
  },
  {
   "cell_type": "markdown",
   "metadata": {},
   "source": [
    "# Data\n",
    "\n",
    "Download the data from the [Open-Source Psychometrics Project ](https://openpsychometrics.org/_rawdata/)."
   ]
  },
  {
   "cell_type": "code",
   "execution_count": 3,
   "metadata": {},
   "outputs": [
    {
     "name": "stdout",
     "output_type": "stream",
     "text": [
      "Downloaded IPIP-FFM-data-8Nov2018.zip\n"
     ]
    }
   ],
   "source": [
    "from os.path import basename, exists\n",
    "\n",
    "def download(url):\n",
    "    filename = basename(url)\n",
    "    if not exists(filename):\n",
    "        from urllib.request import urlretrieve\n",
    "        local, _ = urlretrieve(url, filename)\n",
    "        print('Downloaded ' + local)\n",
    "        \n",
    "download(\"https://openpsychometrics.org/_rawdata/IPIP-FFM-data-8Nov2018.zip\")"
   ]
  },
  {
   "cell_type": "code",
   "execution_count": 4,
   "metadata": {},
   "outputs": [
    {
     "name": "stdout",
     "output_type": "stream",
     "text": [
      "-rw-rw-r-- 1 downey downey 144M Dec  4 09:58 IPIP-FFM-data-8Nov2018.zip\r\n"
     ]
    }
   ],
   "source": [
    "!ls -lh \"IPIP-FFM-data-8Nov2018.zip\""
   ]
  },
  {
   "cell_type": "code",
   "execution_count": 5,
   "metadata": {},
   "outputs": [],
   "source": [
    "import pandas as pd\n",
    "import numpy as np\n",
    "import matplotlib.pyplot as plt\n",
    "import seaborn as sns"
   ]
  },
  {
   "cell_type": "code",
   "execution_count": 7,
   "metadata": {},
   "outputs": [
    {
     "name": "stdout",
     "output_type": "stream",
     "text": [
      "[<ZipInfo filename='IPIP-FFM-data-8Nov2018/' filemode='drwxrwxr-x' external_attr=0x8010>, <ZipInfo filename='IPIP-FFM-data-8Nov2018/.directory' filemode='-rw-------' external_attr=0x8020 file_size=60>, <ZipInfo filename='IPIP-FFM-data-8Nov2018/codebook.txt' compress_type=deflate filemode='-rw-rw-r--' external_attr=0x8020 file_size=3951 compress_size=1815>, <ZipInfo filename='IPIP-FFM-data-8Nov2018/data-final.csv' compress_type=deflate filemode='-rw-rw-r--' external_attr=0x8020 file_size=416273844 compress_size=150965367>]\n"
     ]
    }
   ],
   "source": [
    "from zipfile import ZipFile\n",
    "\n",
    "with ZipFile('IPIP-FFM-data-8Nov2018.zip') as myzip:\n",
    "    print(myzip.filelist)\n",
    "    with myzip.open('IPIP-FFM-data-8Nov2018/data-final.csv') as myfile:\n",
    "        data = pd.read_csv(myfile, sep = \"\\t\")"
   ]
  },
  {
   "cell_type": "markdown",
   "metadata": {},
   "source": [
    "## Dataset information"
   ]
  },
  {
   "cell_type": "code",
   "execution_count": 9,
   "metadata": {
    "scrolled": true
   },
   "outputs": [],
   "source": [
    "assert data.shape == (1015341, 110)"
   ]
  },
  {
   "cell_type": "code",
   "execution_count": 10,
   "metadata": {
    "scrolled": true
   },
   "outputs": [
    {
     "data": {
      "text/html": [
       "<div>\n",
       "<style scoped>\n",
       "    .dataframe tbody tr th:only-of-type {\n",
       "        vertical-align: middle;\n",
       "    }\n",
       "\n",
       "    .dataframe tbody tr th {\n",
       "        vertical-align: top;\n",
       "    }\n",
       "\n",
       "    .dataframe thead th {\n",
       "        text-align: right;\n",
       "    }\n",
       "</style>\n",
       "<table border=\"1\" class=\"dataframe\">\n",
       "  <thead>\n",
       "    <tr style=\"text-align: right;\">\n",
       "      <th></th>\n",
       "      <th>EXT1</th>\n",
       "      <th>EXT2</th>\n",
       "      <th>EXT3</th>\n",
       "      <th>EXT4</th>\n",
       "      <th>EXT5</th>\n",
       "      <th>EXT6</th>\n",
       "      <th>EXT7</th>\n",
       "      <th>EXT8</th>\n",
       "      <th>EXT9</th>\n",
       "      <th>EXT10</th>\n",
       "      <th>...</th>\n",
       "      <th>dateload</th>\n",
       "      <th>screenw</th>\n",
       "      <th>screenh</th>\n",
       "      <th>introelapse</th>\n",
       "      <th>testelapse</th>\n",
       "      <th>endelapse</th>\n",
       "      <th>IPC</th>\n",
       "      <th>country</th>\n",
       "      <th>lat_appx_lots_of_err</th>\n",
       "      <th>long_appx_lots_of_err</th>\n",
       "    </tr>\n",
       "  </thead>\n",
       "  <tbody>\n",
       "    <tr>\n",
       "      <th>1015336</th>\n",
       "      <td>4.0</td>\n",
       "      <td>2.0</td>\n",
       "      <td>4.0</td>\n",
       "      <td>3.0</td>\n",
       "      <td>4.0</td>\n",
       "      <td>3.0</td>\n",
       "      <td>3.0</td>\n",
       "      <td>3.0</td>\n",
       "      <td>3.0</td>\n",
       "      <td>3.0</td>\n",
       "      <td>...</td>\n",
       "      <td>2018-11-08 12:04:58</td>\n",
       "      <td>1920.0</td>\n",
       "      <td>1080.0</td>\n",
       "      <td>3.0</td>\n",
       "      <td>160.0</td>\n",
       "      <td>10</td>\n",
       "      <td>2</td>\n",
       "      <td>US</td>\n",
       "      <td>39.9883</td>\n",
       "      <td>-75.2208</td>\n",
       "    </tr>\n",
       "    <tr>\n",
       "      <th>1015337</th>\n",
       "      <td>4.0</td>\n",
       "      <td>3.0</td>\n",
       "      <td>4.0</td>\n",
       "      <td>3.0</td>\n",
       "      <td>3.0</td>\n",
       "      <td>3.0</td>\n",
       "      <td>4.0</td>\n",
       "      <td>4.0</td>\n",
       "      <td>3.0</td>\n",
       "      <td>3.0</td>\n",
       "      <td>...</td>\n",
       "      <td>2018-11-08 12:07:18</td>\n",
       "      <td>1920.0</td>\n",
       "      <td>1080.0</td>\n",
       "      <td>3.0</td>\n",
       "      <td>122.0</td>\n",
       "      <td>7</td>\n",
       "      <td>1</td>\n",
       "      <td>US</td>\n",
       "      <td>38.0</td>\n",
       "      <td>-97.0</td>\n",
       "    </tr>\n",
       "    <tr>\n",
       "      <th>1015338</th>\n",
       "      <td>4.0</td>\n",
       "      <td>2.0</td>\n",
       "      <td>4.0</td>\n",
       "      <td>3.0</td>\n",
       "      <td>5.0</td>\n",
       "      <td>1.0</td>\n",
       "      <td>4.0</td>\n",
       "      <td>2.0</td>\n",
       "      <td>4.0</td>\n",
       "      <td>4.0</td>\n",
       "      <td>...</td>\n",
       "      <td>2018-11-08 12:07:49</td>\n",
       "      <td>1920.0</td>\n",
       "      <td>1080.0</td>\n",
       "      <td>2.0</td>\n",
       "      <td>135.0</td>\n",
       "      <td>12</td>\n",
       "      <td>6</td>\n",
       "      <td>US</td>\n",
       "      <td>36.1473</td>\n",
       "      <td>-86.777</td>\n",
       "    </tr>\n",
       "    <tr>\n",
       "      <th>1015339</th>\n",
       "      <td>2.0</td>\n",
       "      <td>4.0</td>\n",
       "      <td>3.0</td>\n",
       "      <td>4.0</td>\n",
       "      <td>2.0</td>\n",
       "      <td>2.0</td>\n",
       "      <td>1.0</td>\n",
       "      <td>4.0</td>\n",
       "      <td>2.0</td>\n",
       "      <td>4.0</td>\n",
       "      <td>...</td>\n",
       "      <td>2018-11-08 12:08:34</td>\n",
       "      <td>1920.0</td>\n",
       "      <td>1080.0</td>\n",
       "      <td>6.0</td>\n",
       "      <td>212.0</td>\n",
       "      <td>8</td>\n",
       "      <td>1</td>\n",
       "      <td>US</td>\n",
       "      <td>34.1067</td>\n",
       "      <td>-117.8067</td>\n",
       "    </tr>\n",
       "    <tr>\n",
       "      <th>1015340</th>\n",
       "      <td>4.0</td>\n",
       "      <td>2.0</td>\n",
       "      <td>4.0</td>\n",
       "      <td>2.0</td>\n",
       "      <td>4.0</td>\n",
       "      <td>1.0</td>\n",
       "      <td>4.0</td>\n",
       "      <td>2.0</td>\n",
       "      <td>4.0</td>\n",
       "      <td>4.0</td>\n",
       "      <td>...</td>\n",
       "      <td>2018-11-08 12:08:45</td>\n",
       "      <td>1920.0</td>\n",
       "      <td>1080.0</td>\n",
       "      <td>3.0</td>\n",
       "      <td>176.0</td>\n",
       "      <td>9</td>\n",
       "      <td>1</td>\n",
       "      <td>US</td>\n",
       "      <td>38.0</td>\n",
       "      <td>-97.0</td>\n",
       "    </tr>\n",
       "  </tbody>\n",
       "</table>\n",
       "<p>5 rows × 110 columns</p>\n",
       "</div>"
      ],
      "text/plain": [
       "         EXT1  EXT2  EXT3  EXT4  EXT5  EXT6  EXT7  EXT8  EXT9  EXT10  ...  \\\n",
       "1015336   4.0   2.0   4.0   3.0   4.0   3.0   3.0   3.0   3.0    3.0  ...   \n",
       "1015337   4.0   3.0   4.0   3.0   3.0   3.0   4.0   4.0   3.0    3.0  ...   \n",
       "1015338   4.0   2.0   4.0   3.0   5.0   1.0   4.0   2.0   4.0    4.0  ...   \n",
       "1015339   2.0   4.0   3.0   4.0   2.0   2.0   1.0   4.0   2.0    4.0  ...   \n",
       "1015340   4.0   2.0   4.0   2.0   4.0   1.0   4.0   2.0   4.0    4.0  ...   \n",
       "\n",
       "                    dateload  screenw  screenh  introelapse  testelapse  \\\n",
       "1015336  2018-11-08 12:04:58   1920.0   1080.0          3.0       160.0   \n",
       "1015337  2018-11-08 12:07:18   1920.0   1080.0          3.0       122.0   \n",
       "1015338  2018-11-08 12:07:49   1920.0   1080.0          2.0       135.0   \n",
       "1015339  2018-11-08 12:08:34   1920.0   1080.0          6.0       212.0   \n",
       "1015340  2018-11-08 12:08:45   1920.0   1080.0          3.0       176.0   \n",
       "\n",
       "         endelapse  IPC  country  lat_appx_lots_of_err  long_appx_lots_of_err  \n",
       "1015336         10    2       US               39.9883               -75.2208  \n",
       "1015337          7    1       US                  38.0                  -97.0  \n",
       "1015338         12    6       US               36.1473                -86.777  \n",
       "1015339          8    1       US               34.1067              -117.8067  \n",
       "1015340          9    1       US                  38.0                  -97.0  \n",
       "\n",
       "[5 rows x 110 columns]"
      ]
     },
     "execution_count": 10,
     "metadata": {},
     "output_type": "execute_result"
    }
   ],
   "source": [
    "data.tail()"
   ]
  },
  {
   "cell_type": "markdown",
   "metadata": {},
   "source": [
    "## Data quality"
   ]
  },
  {
   "cell_type": "markdown",
   "metadata": {},
   "source": [
    "### Missing values"
   ]
  },
  {
   "cell_type": "code",
   "execution_count": 11,
   "metadata": {},
   "outputs": [
    {
     "name": "stdout",
     "output_type": "stream",
     "text": [
      "EXT1           1783\n",
      "EXT2           1783\n",
      "EXT3           1783\n",
      "EXT4           1783\n",
      "EXT5           1783\n",
      "               ... \n",
      "screenw        2066\n",
      "screenh        2066\n",
      "introelapse    2066\n",
      "testelapse     1783\n",
      "country          77\n",
      "Length: 105, dtype: int64\n"
     ]
    }
   ],
   "source": [
    "s = data.isnull().sum()\n",
    "print(s[s != 0])"
   ]
  },
  {
   "cell_type": "markdown",
   "metadata": {},
   "source": [
    "There are missing values in 105 out of 110 columns. It appears that the missing values come from the same observations."
   ]
  },
  {
   "cell_type": "code",
   "execution_count": 12,
   "metadata": {},
   "outputs": [
    {
     "name": "stdout",
     "output_type": "stream",
     "text": [
      "1783    101\n",
      "2066      3\n",
      "77        1\n",
      "dtype: int64\n"
     ]
    }
   ],
   "source": [
    "print(s[s != 0].value_counts())"
   ]
  },
  {
   "cell_type": "markdown",
   "metadata": {},
   "source": [
    "We can afford to discard these rows because we have more than one million rows in the dataset."
   ]
  },
  {
   "cell_type": "code",
   "execution_count": 13,
   "metadata": {},
   "outputs": [],
   "source": [
    "data = data.dropna()"
   ]
  },
  {
   "cell_type": "code",
   "execution_count": 14,
   "metadata": {},
   "outputs": [
    {
     "name": "stdout",
     "output_type": "stream",
     "text": [
      "Dataset (new) shape: (1012050, 110)\n"
     ]
    }
   ],
   "source": [
    "print(\"Dataset (new) shape:\", data.shape)"
   ]
  },
  {
   "cell_type": "code",
   "execution_count": 15,
   "metadata": {},
   "outputs": [
    {
     "name": "stdout",
     "output_type": "stream",
     "text": [
      "Series([], dtype: int64)\n"
     ]
    }
   ],
   "source": [
    "s = data.isnull().sum()\n",
    "print(s[s != 0])"
   ]
  },
  {
   "cell_type": "markdown",
   "metadata": {},
   "source": [
    "Rows with missing values have been discarded successfully.\n",
    "\n",
    "Let's pay attention to the type of columns."
   ]
  },
  {
   "cell_type": "markdown",
   "metadata": {},
   "source": [
    "### Columns type"
   ]
  },
  {
   "cell_type": "code",
   "execution_count": 16,
   "metadata": {},
   "outputs": [
    {
     "name": "stdout",
     "output_type": "stream",
     "text": [
      "<class 'pandas.core.frame.DataFrame'>\n",
      "Int64Index: 1012050 entries, 0 to 1015340\n",
      "Columns: 110 entries, EXT1 to long_appx_lots_of_err\n",
      "dtypes: float64(104), int64(2), object(4)\n",
      "memory usage: 857.1+ MB\n"
     ]
    }
   ],
   "source": [
    "data.info()"
   ]
  },
  {
   "cell_type": "markdown",
   "metadata": {},
   "source": [
    "Main columns containing answers (EXT1, etc.) are supposed to be integers since the scale contains 5 steps (from 1 to 5).\n",
    "\n",
    "Let's figure out if those columns don't contain floating values.\n",
    "\n",
    "First of all, we're going to create a list of column names containing the answers from the test. Personality traits are labeled as:\n",
    "\n",
    "* EXT: Extroversion\n",
    "* EST: Neuroticism\n",
    "* AGR: Agreeableness\n",
    "* CSN: Conscientiousness\n",
    "* OPN: Openness\n",
    "\n",
    "And each trait is figured out through ten questions each."
   ]
  },
  {
   "cell_type": "code",
   "execution_count": 17,
   "metadata": {
    "scrolled": true
   },
   "outputs": [
    {
     "name": "stdout",
     "output_type": "stream",
     "text": [
      "['EXT1', 'EXT2', 'EXT3', 'EXT4', 'EXT5', 'EXT6', 'EXT7', 'EXT8', 'EXT9', 'EXT10', 'AGR1', 'AGR2', 'AGR3', 'AGR4', 'AGR5', 'AGR6', 'AGR7', 'AGR8', 'AGR9', 'AGR10', 'CSN1', 'CSN2', 'CSN3', 'CSN4', 'CSN5', 'CSN6', 'CSN7', 'CSN8', 'CSN9', 'CSN10', 'EST1', 'EST2', 'EST3', 'EST4', 'EST5', 'EST6', 'EST7', 'EST8', 'EST9', 'EST10', 'OPN1', 'OPN2', 'OPN3', 'OPN4', 'OPN5', 'OPN6', 'OPN7', 'OPN8', 'OPN9', 'OPN10']\n"
     ]
    }
   ],
   "source": [
    "personality_traits = [\"EXT\", \"AGR\", \"CSN\", \"EST\", \"OPN\"]\n",
    "answer_columns = [trait + str(number) for trait in personality_traits for number in range(1, 11)]\n",
    "print(answer_columns)"
   ]
  },
  {
   "cell_type": "markdown",
   "metadata": {},
   "source": [
    "Let's see if there's a difference between values represented as integers and as floats."
   ]
  },
  {
   "cell_type": "code",
   "execution_count": 18,
   "metadata": {
    "scrolled": true
   },
   "outputs": [
    {
     "data": {
      "text/plain": [
       "EXT1     0\n",
       "EXT2     0\n",
       "EXT3     0\n",
       "EXT4     0\n",
       "EXT5     0\n",
       "EXT6     0\n",
       "EXT7     0\n",
       "EXT8     0\n",
       "EXT9     0\n",
       "EXT10    0\n",
       "AGR1     0\n",
       "AGR2     0\n",
       "AGR3     0\n",
       "AGR4     0\n",
       "AGR5     0\n",
       "AGR6     0\n",
       "AGR7     0\n",
       "AGR8     0\n",
       "AGR9     0\n",
       "AGR10    0\n",
       "CSN1     0\n",
       "CSN2     0\n",
       "CSN3     0\n",
       "CSN4     0\n",
       "CSN5     0\n",
       "CSN6     0\n",
       "CSN7     0\n",
       "CSN8     0\n",
       "CSN9     0\n",
       "CSN10    0\n",
       "EST1     0\n",
       "EST2     0\n",
       "EST3     0\n",
       "EST4     0\n",
       "EST5     0\n",
       "EST6     0\n",
       "EST7     0\n",
       "EST8     0\n",
       "EST9     0\n",
       "EST10    0\n",
       "OPN1     0\n",
       "OPN2     0\n",
       "OPN3     0\n",
       "OPN4     0\n",
       "OPN5     0\n",
       "OPN6     0\n",
       "OPN7     0\n",
       "OPN8     0\n",
       "OPN9     0\n",
       "OPN10    0\n",
       "dtype: int64"
      ]
     },
     "execution_count": 18,
     "metadata": {},
     "output_type": "execute_result"
    }
   ],
   "source": [
    "(data[answer_columns] != data[answer_columns].astype(int)).sum()"
   ]
  },
  {
   "cell_type": "markdown",
   "metadata": {},
   "source": [
    "Values can be converted to integers without any difference. This will save a lot of memory and the EDA will be cleaner later."
   ]
  },
  {
   "cell_type": "code",
   "execution_count": 19,
   "metadata": {},
   "outputs": [],
   "source": [
    "data[answer_columns] = data[answer_columns].astype(int)"
   ]
  },
  {
   "cell_type": "markdown",
   "metadata": {},
   "source": [
    "According to the codebook, given latitudes and longitudes (`lat_appx_lots_of_err` and `long_appx_lots_of_err` columns) are very inaccurate, so both columns will be dropped. User location will be based on countries (`country` column, using the ISO 3166-1 alpha-2 standard)."
   ]
  },
  {
   "cell_type": "code",
   "execution_count": 20,
   "metadata": {},
   "outputs": [],
   "source": [
    "data.drop([\"lat_appx_lots_of_err\", \"long_appx_lots_of_err\"], axis = 1, inplace = True)"
   ]
  },
  {
   "cell_type": "markdown",
   "metadata": {},
   "source": [
    "### Outliers handling"
   ]
  },
  {
   "cell_type": "markdown",
   "metadata": {},
   "source": [
    "Let's give a look to answers given to the 50 questions."
   ]
  },
  {
   "cell_type": "code",
   "execution_count": 21,
   "metadata": {},
   "outputs": [
    {
     "data": {
      "text/html": [
       "<div>\n",
       "<style scoped>\n",
       "    .dataframe tbody tr th:only-of-type {\n",
       "        vertical-align: middle;\n",
       "    }\n",
       "\n",
       "    .dataframe tbody tr th {\n",
       "        vertical-align: top;\n",
       "    }\n",
       "\n",
       "    .dataframe thead th {\n",
       "        text-align: right;\n",
       "    }\n",
       "</style>\n",
       "<table border=\"1\" class=\"dataframe\">\n",
       "  <thead>\n",
       "    <tr style=\"text-align: right;\">\n",
       "      <th></th>\n",
       "      <th>EXT1</th>\n",
       "      <th>EXT2</th>\n",
       "      <th>EXT3</th>\n",
       "      <th>EXT4</th>\n",
       "      <th>EXT5</th>\n",
       "      <th>EXT6</th>\n",
       "      <th>EXT7</th>\n",
       "      <th>EXT8</th>\n",
       "      <th>EXT9</th>\n",
       "      <th>EXT10</th>\n",
       "      <th>...</th>\n",
       "      <th>OPN1</th>\n",
       "      <th>OPN2</th>\n",
       "      <th>OPN3</th>\n",
       "      <th>OPN4</th>\n",
       "      <th>OPN5</th>\n",
       "      <th>OPN6</th>\n",
       "      <th>OPN7</th>\n",
       "      <th>OPN8</th>\n",
       "      <th>OPN9</th>\n",
       "      <th>OPN10</th>\n",
       "    </tr>\n",
       "  </thead>\n",
       "  <tbody>\n",
       "    <tr>\n",
       "      <th>0</th>\n",
       "      <td>3717</td>\n",
       "      <td>6091</td>\n",
       "      <td>6070</td>\n",
       "      <td>6886</td>\n",
       "      <td>9761</td>\n",
       "      <td>6181</td>\n",
       "      <td>8169</td>\n",
       "      <td>6365</td>\n",
       "      <td>6837</td>\n",
       "      <td>6258</td>\n",
       "      <td>...</td>\n",
       "      <td>9184</td>\n",
       "      <td>5936</td>\n",
       "      <td>7578</td>\n",
       "      <td>6657</td>\n",
       "      <td>7675</td>\n",
       "      <td>8120</td>\n",
       "      <td>8460</td>\n",
       "      <td>8018</td>\n",
       "      <td>7682</td>\n",
       "      <td>6171</td>\n",
       "    </tr>\n",
       "    <tr>\n",
       "      <th>1</th>\n",
       "      <td>249403</td>\n",
       "      <td>209781</td>\n",
       "      <td>76632</td>\n",
       "      <td>101861</td>\n",
       "      <td>98351</td>\n",
       "      <td>266184</td>\n",
       "      <td>236496</td>\n",
       "      <td>78056</td>\n",
       "      <td>173108</td>\n",
       "      <td>76378</td>\n",
       "      <td>...</td>\n",
       "      <td>43815</td>\n",
       "      <td>379557</td>\n",
       "      <td>23593</td>\n",
       "      <td>413184</td>\n",
       "      <td>16268</td>\n",
       "      <td>467024</td>\n",
       "      <td>15419</td>\n",
       "      <td>103843</td>\n",
       "      <td>19918</td>\n",
       "      <td>16574</td>\n",
       "    </tr>\n",
       "    <tr>\n",
       "      <th>2</th>\n",
       "      <td>198907</td>\n",
       "      <td>235137</td>\n",
       "      <td>191497</td>\n",
       "      <td>207888</td>\n",
       "      <td>178281</td>\n",
       "      <td>337682</td>\n",
       "      <td>227487</td>\n",
       "      <td>175505</td>\n",
       "      <td>220978</td>\n",
       "      <td>158031</td>\n",
       "      <td>...</td>\n",
       "      <td>102283</td>\n",
       "      <td>317113</td>\n",
       "      <td>72516</td>\n",
       "      <td>301369</td>\n",
       "      <td>59273</td>\n",
       "      <td>307824</td>\n",
       "      <td>56336</td>\n",
       "      <td>198022</td>\n",
       "      <td>56579</td>\n",
       "      <td>63468</td>\n",
       "    </tr>\n",
       "    <tr>\n",
       "      <th>3</th>\n",
       "      <td>288087</td>\n",
       "      <td>244322</td>\n",
       "      <td>268693</td>\n",
       "      <td>279681</td>\n",
       "      <td>234063</td>\n",
       "      <td>191087</td>\n",
       "      <td>194478</td>\n",
       "      <td>229599</td>\n",
       "      <td>214622</td>\n",
       "      <td>191047</td>\n",
       "      <td>...</td>\n",
       "      <td>250908</td>\n",
       "      <td>185837</td>\n",
       "      <td>174200</td>\n",
       "      <td>188717</td>\n",
       "      <td>272565</td>\n",
       "      <td>118668</td>\n",
       "      <td>180758</td>\n",
       "      <td>251759</td>\n",
       "      <td>127869</td>\n",
       "      <td>211764</td>\n",
       "    </tr>\n",
       "    <tr>\n",
       "      <th>4</th>\n",
       "      <td>191359</td>\n",
       "      <td>189956</td>\n",
       "      <td>283670</td>\n",
       "      <td>256806</td>\n",
       "      <td>298781</td>\n",
       "      <td>139337</td>\n",
       "      <td>197080</td>\n",
       "      <td>274541</td>\n",
       "      <td>241981</td>\n",
       "      <td>267835</td>\n",
       "      <td>...</td>\n",
       "      <td>331532</td>\n",
       "      <td>88613</td>\n",
       "      <td>313710</td>\n",
       "      <td>68946</td>\n",
       "      <td>395077</td>\n",
       "      <td>73393</td>\n",
       "      <td>401332</td>\n",
       "      <td>286140</td>\n",
       "      <td>343829</td>\n",
       "      <td>342825</td>\n",
       "    </tr>\n",
       "    <tr>\n",
       "      <th>5</th>\n",
       "      <td>80577</td>\n",
       "      <td>126763</td>\n",
       "      <td>185488</td>\n",
       "      <td>158928</td>\n",
       "      <td>192813</td>\n",
       "      <td>71579</td>\n",
       "      <td>148340</td>\n",
       "      <td>247984</td>\n",
       "      <td>154524</td>\n",
       "      <td>312501</td>\n",
       "      <td>...</td>\n",
       "      <td>274328</td>\n",
       "      <td>34994</td>\n",
       "      <td>420453</td>\n",
       "      <td>33177</td>\n",
       "      <td>261192</td>\n",
       "      <td>37021</td>\n",
       "      <td>349745</td>\n",
       "      <td>164268</td>\n",
       "      <td>456173</td>\n",
       "      <td>371248</td>\n",
       "    </tr>\n",
       "  </tbody>\n",
       "</table>\n",
       "<p>6 rows × 50 columns</p>\n",
       "</div>"
      ],
      "text/plain": [
       "     EXT1    EXT2    EXT3    EXT4    EXT5    EXT6    EXT7    EXT8    EXT9  \\\n",
       "0    3717    6091    6070    6886    9761    6181    8169    6365    6837   \n",
       "1  249403  209781   76632  101861   98351  266184  236496   78056  173108   \n",
       "2  198907  235137  191497  207888  178281  337682  227487  175505  220978   \n",
       "3  288087  244322  268693  279681  234063  191087  194478  229599  214622   \n",
       "4  191359  189956  283670  256806  298781  139337  197080  274541  241981   \n",
       "5   80577  126763  185488  158928  192813   71579  148340  247984  154524   \n",
       "\n",
       "    EXT10  ...    OPN1    OPN2    OPN3    OPN4    OPN5    OPN6    OPN7  \\\n",
       "0    6258  ...    9184    5936    7578    6657    7675    8120    8460   \n",
       "1   76378  ...   43815  379557   23593  413184   16268  467024   15419   \n",
       "2  158031  ...  102283  317113   72516  301369   59273  307824   56336   \n",
       "3  191047  ...  250908  185837  174200  188717  272565  118668  180758   \n",
       "4  267835  ...  331532   88613  313710   68946  395077   73393  401332   \n",
       "5  312501  ...  274328   34994  420453   33177  261192   37021  349745   \n",
       "\n",
       "     OPN8    OPN9   OPN10  \n",
       "0    8018    7682    6171  \n",
       "1  103843   19918   16574  \n",
       "2  198022   56579   63468  \n",
       "3  251759  127869  211764  \n",
       "4  286140  343829  342825  \n",
       "5  164268  456173  371248  \n",
       "\n",
       "[6 rows x 50 columns]"
      ]
     },
     "execution_count": 21,
     "metadata": {},
     "output_type": "execute_result"
    }
   ],
   "source": [
    "data[answer_columns].apply(pd.Series.value_counts)"
   ]
  },
  {
   "cell_type": "markdown",
   "metadata": {},
   "source": [
    "The questions scale goes from 1 to 5. The zero value isn't supposed to exist, it probably means that the question hasn't been answered: the user didn't click on any radio button from the respective row. \n",
    "\n",
    "Observations containing at least a \"0\" from these columns will be discarded."
   ]
  },
  {
   "cell_type": "code",
   "execution_count": 22,
   "metadata": {},
   "outputs": [
    {
     "data": {
      "text/plain": [
       "(873173, 108)"
      ]
     },
     "execution_count": 22,
     "metadata": {},
     "output_type": "execute_result"
    }
   ],
   "source": [
    "data = data[(data[answer_columns] != 0).all(axis = 1)]\n",
    "data.shape"
   ]
  },
  {
   "cell_type": "markdown",
   "metadata": {},
   "source": [
    "## Personality traits analysis"
   ]
  },
  {
   "cell_type": "markdown",
   "metadata": {},
   "source": [
    "Personality traits score can be obtained by aggregating answers. According to the test documentation, questions can be positive keyed or negative keyed.\n",
    "\n",
    "| Code  | Question                                                 | Key |    | Code  | Question                                                 | Key |\n",
    "|-------|:---------------------------------------------------------|-----|----|-------|:---------------------------------------------------------|-----|\n",
    "| EXT1\t| I am the life of the party.                              | (+) | \\| | EST1  | I get stressed out easily.                               | (+) |\n",
    "| EXT2\t| I don't talk a lot.                                      | (-) | \\| | EST2  | I am relaxed most of the time.                           | (-) |\n",
    "| EXT3\t| I feel comfortable around people.                        | (+) | \\| | EST3  | I worry about things.                                    | (+) |\n",
    "| EXT4\t| I keep in the background.                                | (-) | \\| | EST4  | I seldom feel blue.                                      | (-) |\n",
    "| EXT5\t| I start conversations.                                   | (+) | \\| | EST5  | I am easily disturbed.                                   | (+) |\n",
    "| EXT6\t| I have little to say.                                    | (-) | \\| | EST6  | I get upset easily.                                      | (+) |\n",
    "| EXT7\t| I talk to a lot of different people at parties.          | (+) | \\| | EST7  | I change my mood a lot.                                  | (+) |\n",
    "| EXT8\t| I don't like to draw attention to myself.                | (-) | \\| | EST8  | I have frequent mood swings.                             | (+) |\n",
    "| EXT9\t| I don't mind being the center of attention.              | (+) | \\| | EST9  | I get irritated easily.                                  | (+) |\n",
    "| EXT10\t| I am quiet around strangers.                             | (-) | \\| | EST10 | I often feel blue.                                       | (+) |\n",
    "\n",
    "\n",
    "| Code  | Question                                                 | Key |    | Code  | Question                                                 | Key |\n",
    "|-------|:---------------------------------------------------------|-----|----|-------|:---------------------------------------------------------|-----|\n",
    "| AGR1\t| I feel little concern for others.                        | (-) | \\| | CSN1  | I am always prepared.                                    | (+) |\n",
    "| AGR2\t| I am interested in people.                               | (+) | \\| | CSN2  | I leave my belongings around.                            | (-) |\n",
    "| AGR3\t| I insult people.                                         | (-) | \\| | CSN3  | I pay attention to details.                              | (+) |\n",
    "| AGR4\t| I sympathize with others' feelings.                      | (+) | \\| | CSN4  | I make a mess of things.                                 | (-) |\n",
    "| AGR5\t| I am not interested in other people's problems.          | (-) | \\| | CSN5  | I get chores done right away.                            | (+) |\n",
    "| AGR6\t| I have a soft heart.                                     | (+) | \\| | CSN6  | I often forget to put things back in their proper place. | (-) |\n",
    "| AGR7\t| I am not really interested in others.                    | (-) | \\| | CSN7  | I like order.                                            | (+) |\n",
    "| AGR8\t| I take time out for others.                              | (+) | \\| | CSN8  | I shirk my duties.                                       | (-) |\n",
    "| AGR9\t| I feel others' emotions.                                 | (+) | \\| | CSN9  | I follow a schedule.                                     | (+) |\n",
    "| AGR10\t| I make people feel at ease.                              | (+) | \\| | CSN10 | I am exacting in my work.                                | (+) |\n",
    "\n",
    "\n",
    "| Code  | Question                                              | Key |\n",
    "|-------|:---------------------------------------------------------|-----|\n",
    "| OPN1\t| I have a rich vocabulary.                                | (+) |\n",
    "| OPN2\t| I have difficulty understanding abstract ideas.          | (-) |\n",
    "| OPN3\t| I have a vivid imagination.                              | (+) |\n",
    "| OPN4\t| I am not interested in abstract ideas.                   | (-) |\n",
    "| OPN5\t| I have excellent ideas.                                  | (+) |\n",
    "| OPN6\t| I do not have a good imagination.                        | (-) |\n",
    "| OPN7\t| I am quick to understand things.                         | (+) |\n",
    "| OPN8\t| I use difficult words.                                   | (-) |\n",
    "| OPN9\t| I spend time reflecting on things.                       | (+) |\n",
    "| OPN10\t| I am full of ideas.                                      | (+) |"
   ]
  },
  {
   "cell_type": "markdown",
   "metadata": {},
   "source": [
    "First, let's rescale values (1, ..., 5) to (-2, ..., 2). So we can compare traits scores together."
   ]
  },
  {
   "cell_type": "code",
   "execution_count": 23,
   "metadata": {},
   "outputs": [],
   "source": [
    "data[answer_columns] = data[answer_columns].apply(lambda x: x - 3)"
   ]
  },
  {
   "cell_type": "markdown",
   "metadata": {},
   "source": [
    "Then, let's aggregate values to get a score for each personality treat, according to positive or negative keys listed in the tables above."
   ]
  },
  {
   "cell_type": "code",
   "execution_count": 24,
   "metadata": {},
   "outputs": [],
   "source": [
    "data[\"EXT\"] = data[\"EXT1\"] - data[\"EXT2\"] + data[\"EXT3\"] - data[\"EXT4\"] + \\\n",
    "    data[\"EXT5\"] - data[\"EXT6\"] + data[\"EXT7\"] - data[\"EXT8\"] + data[\"EXT9\"] - data[\"EXT10\"]\n",
    "\n",
    "data[\"EST\"] = data[\"EST1\"] - data[\"EST2\"] + data[\"EST3\"] - data[\"EST4\"] + \\\n",
    "    data[\"EST5\"] + data[\"EST6\"] + data[\"EST7\"] + data[\"EST8\"] + data[\"EST9\"] + data[\"EST10\"]\n",
    "\n",
    "# The previous line is coded for neuroticism rather than emotional stability,\n",
    "# so I'm going to flip it\n",
    "data[\"EST\"] *= -1\n",
    "\n",
    "data[\"AGR\"] = - data[\"AGR1\"] + data[\"AGR2\"] - data[\"AGR3\"] + data[\"AGR4\"] - \\\n",
    "    data[\"AGR5\"] + data[\"AGR6\"] - data[\"AGR7\"] + data[\"AGR8\"] + data[\"AGR9\"] + data[\"AGR10\"]\n",
    "\n",
    "data[\"CSN\"] = data[\"CSN1\"] - data[\"CSN2\"] + data[\"CSN3\"] - data[\"CSN4\"] + \\\n",
    "    data[\"CSN5\"] - data[\"CSN6\"] + data[\"CSN7\"] - data[\"CSN8\"] + data[\"CSN9\"] + data[\"CSN10\"]\n",
    "\n",
    "data[\"OPN\"] = data[\"OPN1\"] - data[\"OPN2\"] + data[\"OPN3\"] - data[\"OPN4\"] + \\\n",
    "    data[\"OPN5\"] - data[\"OPN6\"] + data[\"OPN7\"] - data[\"OPN8\"] + data[\"OPN9\"] + data[\"OPN10\"]"
   ]
  },
  {
   "cell_type": "markdown",
   "metadata": {},
   "source": [
    "Write the data to an HDF file."
   ]
  },
  {
   "cell_type": "code",
   "execution_count": 25,
   "metadata": {},
   "outputs": [],
   "source": [
    "keepers = personality_traits + answer_columns"
   ]
  },
  {
   "cell_type": "code",
   "execution_count": 43,
   "metadata": {},
   "outputs": [],
   "source": [
    "if exists('big_five_data.hdf'):\n",
    "    !rm big_five_data.hdf"
   ]
  },
  {
   "cell_type": "code",
   "execution_count": 44,
   "metadata": {},
   "outputs": [],
   "source": [
    "data[keepers].to_hdf('big_five_data.hdf', 'big_five', complevel=3)"
   ]
  },
  {
   "cell_type": "code",
   "execution_count": 45,
   "metadata": {},
   "outputs": [
    {
     "name": "stdout",
     "output_type": "stream",
     "text": [
      "-rw-rw-r-- 1 downey downey 82M Dec  4 10:05 big_five_data.hdf\r\n"
     ]
    }
   ],
   "source": [
    "!ls -lh big_five_data.hdf"
   ]
  },
  {
   "cell_type": "markdown",
   "metadata": {},
   "source": [
    "## Explore the data"
   ]
  },
  {
   "cell_type": "markdown",
   "metadata": {},
   "source": [
    "We can plot the score distributions for each personality trait."
   ]
  },
  {
   "cell_type": "code",
   "execution_count": 27,
   "metadata": {},
   "outputs": [
    {
     "name": "stderr",
     "output_type": "stream",
     "text": [
      "/home/downey/anaconda3/envs/ProbablyOverthinkingIt/lib/python3.10/site-packages/seaborn/distributions.py:2619: FutureWarning: `distplot` is a deprecated function and will be removed in a future version. Please adapt your code to use either `displot` (a figure-level function with similar flexibility) or `histplot` (an axes-level function for histograms).\n",
      "  warnings.warn(msg, FutureWarning)\n"
     ]
    },
    {
     "data": {
      "image/png": "[encoded data removed]",
      "text/plain": [
       "<Figure size 1296x1296 with 5 Axes>"
      ]
     },
     "metadata": {
      "needs_background": "light"
     },
     "output_type": "display_data"
    }
   ],
   "source": [
    "fig, axs = plt.subplots(ncols = 2, nrows = 3, figsize = (18, 18))\n",
    "sns.distplot(data[\"EXT\"], bins = 40, kde = False, \n",
    "             ax = axs[0, 0], color = sns.color_palette()[0]).set_title(\"Extroversion\")\n",
    "sns.distplot(data[\"EST\"], bins = 40, kde = False, \n",
    "             ax = axs[0, 1], color = sns.color_palette()[1]).set_title(\"Emotional Stability\")\n",
    "sns.distplot(data[\"AGR\"], bins = 40, kde = False, \n",
    "             ax = axs[1, 0], color = sns.color_palette()[2]).set_title(\"Agreeableness\")\n",
    "sns.distplot(data[\"CSN\"], bins = 40, kde = False, \n",
    "             ax = axs[1, 1], color = sns.color_palette()[3]).set_title(\"Conscientiousness\")\n",
    "sns.distplot(data[\"OPN\"], bins = 40, kde = False, \n",
    "             ax = axs[2, 0], color = sns.color_palette()[4]).set_title(\"Openness\")\n",
    "\n",
    "fig.delaxes(axs[2, 1])\n",
    "for ax in axs.flat:\n",
    "    ax.set(xlabel = None, ylabel = \"Count\")\n",
    "    \n",
    "plt.show()"
   ]
  },
  {
   "cell_type": "markdown",
   "metadata": {},
   "source": [
    "### Correlations"
   ]
  },
  {
   "cell_type": "markdown",
   "metadata": {},
   "source": [
    "Are personality traits correlated?"
   ]
  },
  {
   "cell_type": "code",
   "execution_count": 28,
   "metadata": {},
   "outputs": [
    {
     "name": "stdout",
     "output_type": "stream",
     "text": [
      "          EXT       AGR       CSN       EST       OPN\n",
      "EXT  1.000000  0.299514  0.064120  0.221992  0.168207\n",
      "AGR  0.299514  1.000000  0.144652  0.041111  0.167185\n",
      "CSN  0.064120  0.144652  1.000000  0.231900  0.092478\n",
      "EST  0.221992  0.041111  0.231900  1.000000  0.116786\n",
      "OPN  0.168207  0.167185  0.092478  0.116786  1.000000\n"
     ]
    }
   ],
   "source": [
    "correlation = data[personality_traits].corr()\n",
    "print(correlation)"
   ]
  },
  {
   "cell_type": "code",
   "execution_count": 29,
   "metadata": {},
   "outputs": [
    {
     "data": {
      "image/png": "[encoded data removed]",
      "text/plain": [
       "<Figure size 432x288 with 2 Axes>"
      ]
     },
     "metadata": {},
     "output_type": "display_data"
    }
   ],
   "source": [
    "mask = np.zeros_like(correlation)\n",
    "mask[np.triu_indices_from(mask)] = True\n",
    "with sns.axes_style(\"white\"):\n",
    "    sns.heatmap(correlation, mask = mask, vmax = .3, cmap = \"RdYlBu\")\n",
    "plt.show()"
   ]
  },
  {
   "cell_type": "markdown",
   "metadata": {},
   "source": [
    "Extroversion and Agreeableness go in the same direction (+0.30). However, Neuroticism has a negative correlation with Extroversion and Conscientiousness (-0.22 and -0.23)."
   ]
  },
  {
   "cell_type": "markdown",
   "metadata": {},
   "source": [
    "### Values pattern"
   ]
  },
  {
   "cell_type": "markdown",
   "metadata": {},
   "source": [
    "Do some questions have specific patterns (mostly extreme values? neutral? ...)?"
   ]
  },
  {
   "cell_type": "code",
   "execution_count": 30,
   "metadata": {},
   "outputs": [],
   "source": [
    "df_answers = pd.melt(data[answer_columns])\n",
    "df_answers[\"trait\"] = df_answers[\"variable\"].str.slice(0, 3)\n",
    "df_answers = df_answers.groupby([\"variable\", \"value\"]).count()\n",
    "df_answers.reset_index(inplace = True)\n",
    "df_answers = df_answers.rename(columns = {\"trait\": \"count\"})\n",
    "df_answers[\"trait\"] = df_answers[\"variable\"].str.slice(0, 3)"
   ]
  },
  {
   "cell_type": "code",
   "execution_count": 31,
   "metadata": {},
   "outputs": [
    {
     "data": {
      "image/png": "[encoded data removed]",
      "text/plain": [
       "<Figure size 1296x1296 with 5 Axes>"
      ]
     },
     "metadata": {
      "needs_background": "light"
     },
     "output_type": "display_data"
    }
   ],
   "source": [
    "fig, axs = plt.subplots(ncols = 2, nrows = 3, figsize = (18, 18))\n",
    "\n",
    "sns.scatterplot(x = \"variable\", y = \"value\", size = \"count\", \n",
    "                color = sns.color_palette()[0], data = df_answers[df_answers[\"trait\"] == \"EXT\"], \n",
    "                sizes = (100, 700), ax = axs[0, 0], legend = None).set_title(\"Extroversion\")\n",
    "\n",
    "sns.scatterplot(x = \"variable\", y = \"value\", size = \"count\", \n",
    "                color = sns.color_palette()[1], data = df_answers[df_answers[\"trait\"] == \"EST\"], \n",
    "                sizes = (100, 700), ax = axs[0, 1], legend = None).set_title(\"Neuroticism\")\n",
    "\n",
    "sns.scatterplot(x = \"variable\", y = \"value\", size = \"count\", \n",
    "                color = sns.color_palette()[2], data = df_answers[df_answers[\"trait\"] == \"AGR\"], \n",
    "                sizes = (100, 700), ax = axs[1, 0], legend = None).set_title(\"Agreeableness\")\n",
    "\n",
    "sns.scatterplot(x = \"variable\", y = \"value\", size = \"count\", \n",
    "                color = sns.color_palette()[3], data = df_answers[df_answers[\"trait\"] == \"CSN\"], \n",
    "                sizes = (100, 700), ax = axs[1, 1], legend = None).set_title(\"Conscientiousness\")\n",
    "\n",
    "sns.scatterplot(x = \"variable\", y = \"value\", size = \"count\", \n",
    "                color = sns.color_palette()[4], data = df_answers[df_answers[\"trait\"] == \"OPN\"], \n",
    "                sizes = (100, 700), ax = axs[2, 0], legend = None).set_title(\"Openness\")\n",
    "\n",
    "fig.delaxes(axs[2, 1])\n",
    "\n",
    "for ax in axs.flat:\n",
    "    ax.set(xlabel = None, ylabel = \"Value\")\n",
    "\n",
    "plt.setp(axs, yticks = range(-2, 3))\n",
    "plt.show()"
   ]
  },
  {
   "cell_type": "markdown",
   "metadata": {},
   "source": [
    "Regarding Agreeableness and Openness traits, people are able to feel concerned about the questions: they barely stay neutral and prefer ticking extreme values on the scale. Both traits had a distribution following some left-skewed Gaussian curve. The trend is more noisy for the other traits."
   ]
  },
  {
   "cell_type": "code",
   "execution_count": null,
   "metadata": {},
   "outputs": [],
   "source": []
  },
  {
   "cell_type": "code",
   "execution_count": null,
   "metadata": {},
   "outputs": [],
   "source": []
  }
 ],
 "metadata": {
  "kernelspec": {
   "display_name": "Python 3 (ipykernel)",
   "language": "python",
   "name": "python3"
  },
  "language_info": {
   "codemirror_mode": {
    "name": "ipython",
    "version": 3
   },
   "file_extension": ".py",
   "mimetype": "text/x-python",
   "name": "python",
   "nbconvert_exporter": "python",
   "pygments_lexer": "ipython3",
   "version": "3.10.5"
  }
 },
 "nbformat": 4,
 "nbformat_minor": 4
}
