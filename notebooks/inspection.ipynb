{
 "cells": [
  {
   "cell_type": "markdown",
   "metadata": {
    "tags": []
   },
   "source": [
    "# Relay Races and Revolving Doors"
   ]
  },
  {
   "cell_type": "markdown",
   "metadata": {
    "tags": [
     "remove-cell"
    ]
   },
   "source": [
    "This is one of the Jupyter notebooks I used in my preparation of *Probably Overthinking It: How to Use Data to Answer Questions, Avoid Statistical Traps, and Make Better Decisions*.\n",
    "\n",
    "The book is scheduled to be published by University of Chicago Press in 2023.\n",
    "If you would like to get infrequent email announcements about the book, please\n",
    "[sign up for my mailing list](http://eepurl.com/h0nfbX).\n",
    "\n",
    "Before you read these notebooks, please keep in mind:\n",
    "\n",
    "* There is some explanatory text in the notebooks, but some of the examples will not make sense until you have read the corresponding chapter in the book.\n",
    "\n",
    "* While preparing these notebooks, I made some changes to improve the readability of the code. There might be small differences between what appears in the book and what you get when you run the code."
   ]
  },
  {
   "cell_type": "markdown",
   "metadata": {},
   "source": [
    "[Click here to run this notebook on Colab](https://colab.research.google.com/github/AllenDowney/ProbablyOverthinkingIt/blob/book/notebooks/inspection.ipynb)."
   ]
  },
  {
   "cell_type": "code",
   "execution_count": 1,
   "metadata": {
    "tags": [
     "hide-cell"
    ]
   },
   "outputs": [],
   "source": [
    "# Install empirical dist if we don't already have it\n",
    "\n",
    "try:\n",
    "    import empiricaldist\n",
    "except ImportError:\n",
    "    !pip install empiricaldist"
   ]
  },
  {
   "cell_type": "code",
   "execution_count": 2,
   "metadata": {
    "tags": [
     "hide-cell"
    ]
   },
   "outputs": [],
   "source": [
    "# download utils.py\n",
    "\n",
    "from os.path import basename, exists\n",
    "\n",
    "def download(url):\n",
    "    filename = basename(url)\n",
    "    if not exists(filename):\n",
    "        from urllib.request import urlretrieve\n",
    "        local, _ = urlretrieve(url, filename)\n",
    "        print('Downloaded ' + local)\n",
    "        \n",
    "download(\"https://github.com/AllenDowney/ProbablyOverthinkingIt/raw/book/notebooks/utils.py\")"
   ]
  },
  {
   "cell_type": "markdown",
   "metadata": {
    "tags": []
   },
   "source": [
    "When you run 209 miles, you have a lot of time to think. In 2010, I was\n",
    "a member of a 12-person team that ran a 209-mile relay race in New Hampshire.\n",
    "\n",
    "Long-distance relay races are an unusual format, and this was the first\n",
    "(and last!) time I participated in one. I ran the third leg, so when I\n",
    "joined the race, it had been going for a few hours and runners were\n",
    "spread out over several miles of the course.\n",
    "\n",
    "After I ran a few miles, I noticed something unusual:\n",
    "\n",
    "* There were more fast runners in the race than I expected. Several times I was overtaken by runners much faster than me.\n",
    "\n",
    "* There were also more slow runners than I expected. When I passed other runners, I was often much faster than them.\n",
    "\n",
    "At first I thought this pattern might reflect the kind of people who\n",
    "sign up for a 209-mile race. Maybe, for some reason, this format appeals\n",
    "primarily to runners who are much faster than average or much slower,\n",
    "and not as much to middle-of-the-pack runners like me."
   ]
  },
  {
   "cell_type": "markdown",
   "metadata": {
    "tags": []
   },
   "source": [
    "After the race, with more oxygen available to my brain, I realized that\n",
    "this explanation is wrong. To my embarrassment, I was fooled by a common\n",
    "statistical error, one that I teach students in my classes!\n",
    "\n",
    "The error is called length-biased sampling, and its effect is called the\n",
    "inspection paradox. If you have not heard of it, this chapter will\n",
    "change your life, because once you learn about the inspection paradox,\n",
    "you see it everywhere.\n",
    "\n",
    "To explain it, I'll start with simple examples and we will work our way\n",
    "up. Some of the examples are fun, but some are more serious. For\n",
    "example, length-biased sampling shows up in the criminal justice system\n",
    "and distorts our perception of prison sentences and the risk of repeat\n",
    "offenders.\n",
    "\n",
    "But it's not all bad news; if you are aware of the inspection paradox,\n",
    "sometimes you can use it to measure indirectly quantities that would be\n",
    "hard or impossible to measure directly. As an example, I'll explain a\n",
    "clever system used during the COVID pandemic to track infections and\n",
    "identify superspreaders.\n",
    "\n",
    "But let's start with class sizes."
   ]
  },
  {
   "cell_type": "code",
   "execution_count": 3,
   "metadata": {
    "tags": []
   },
   "outputs": [],
   "source": [
    "import sys\n",
    "import pandas as pd\n",
    "import numpy as np\n",
    "import matplotlib.pyplot as plt\n",
    "\n",
    "from utils import set_pyplot_params, decorate\n",
    "set_pyplot_params()\n",
    "\n",
    "# %load_ext nb_black"
   ]
  },
  {
   "cell_type": "code",
   "execution_count": 4,
   "metadata": {
    "tags": []
   },
   "outputs": [],
   "source": [
    "# Set the random seed so we get the same results every time\n",
    "import numpy as np\n",
    "\n",
    "np.random.seed(17)"
   ]
  },
  {
   "cell_type": "markdown",
   "metadata": {
    "tags": []
   },
   "source": [
    "## Class Size\n",
    "\n",
    "The class sizes in this section come from data reported by\n",
    "Purdue University for undergraduate class sizes in the 2013--14 academic\n",
    "year. \n",
    "\n",
    "[The data was originally posted here](https://www.purdue.edu/datadigest/2013-14/InstrStuLIfe/DistUGClasses.html)\n",
    "\n",
    "[Now archived here](https://web.archive.org/web/20160415011613/https://www.purdue.edu/datadigest/2013-14/InstrStuLIfe/DistUGClasses.html)\n",
    "\n",
    "It typed in the number of classes in the row labeled \"Total all classes\"."
   ]
  },
  {
   "cell_type": "code",
   "execution_count": 5,
   "metadata": {
    "tags": []
   },
   "outputs": [],
   "source": [
    "sizes = [(1, 1), (2, 9), (10, 19), (20, 29), (30, 39), (40, 49), (50, 99), (100, 300)]\n",
    "\n",
    "counts = [138, 635, 1788, 1979, 796, 354, 487, 333]"
   ]
  },
  {
   "cell_type": "markdown",
   "metadata": {
    "tags": []
   },
   "source": [
    "Since the class sizes are specified in ranges, I used the following function to generate uniform random samples within each range."
   ]
  },
  {
   "cell_type": "code",
   "execution_count": 6,
   "metadata": {
    "tags": []
   },
   "outputs": [],
   "source": [
    "def generate_sample(sizes, counts):\n",
    "    \"\"\"Generate a sample from a distribution.\n",
    "\n",
    "    sizes: sequence of (low, high) pairs\n",
    "    counts: sequence of integers\n",
    "\n",
    "    returns: NumPy array\n",
    "    \"\"\"\n",
    "    t = []\n",
    "    for (low, high), count in zip(sizes, counts):\n",
    "        print(low, high, count)\n",
    "        sample = np.random.randint(low, high + 1, count)\n",
    "        t.extend(sample)\n",
    "    return np.array(t)"
   ]
  },
  {
   "cell_type": "code",
   "execution_count": 7,
   "metadata": {
    "tags": []
   },
   "outputs": [
    {
     "name": "stdout",
     "output_type": "stream",
     "text": [
      "1 1 138\n",
      "2 9 635\n",
      "10 19 1788\n",
      "20 29 1979\n",
      "30 39 796\n",
      "40 49 354\n",
      "50 99 487\n",
      "100 300 333\n"
     ]
    }
   ],
   "source": [
    "unbiased = generate_sample(sizes, counts)"
   ]
  },
  {
   "cell_type": "markdown",
   "metadata": {},
   "source": [
    "The following function takes a sample and generates a new random sample, using the given weights."
   ]
  },
  {
   "cell_type": "code",
   "execution_count": 8,
   "metadata": {
    "tags": []
   },
   "outputs": [],
   "source": [
    "def resample_weighted(sample, weights):\n",
    "    \"\"\"Generate a biased sample.\n",
    "\n",
    "    sample: NumPy array\n",
    "    weights: NumPy array\n",
    "\n",
    "    returns: NumPy array\n",
    "    \"\"\"\n",
    "    n = len(sample)\n",
    "    p = weights / np.sum(weights)\n",
    "    return np.random.choice(sample, n, p=p)"
   ]
  },
  {
   "cell_type": "code",
   "execution_count": 9,
   "metadata": {
    "tags": []
   },
   "outputs": [],
   "source": [
    "biased = resample_weighted(unbiased, unbiased)"
   ]
  },
  {
   "cell_type": "markdown",
   "metadata": {},
   "source": [
    "Here's the distribution of class sizes as given in the report."
   ]
  },
  {
   "cell_type": "code",
   "execution_count": 10,
   "metadata": {
    "tags": []
   },
   "outputs": [
    {
     "data": {
      "image/png": "[encoded data removed]",
      "text/plain": [
       "<Figure size 450x225 with 1 Axes>"
      ]
     },
     "metadata": {
      "needs_background": "light"
     },
     "output_type": "display_data"
    }
   ],
   "source": [
    "from utils import kdeplot\n",
    "\n",
    "xs = np.arange(1, 300)\n",
    "kdeplot(unbiased, xs, \"Reported by the Dean\", color=\"C1\")\n",
    "\n",
    "decorate(xlabel=\"Class size\", title=\"Distribution of class sizes\")"
   ]
  },
  {
   "cell_type": "markdown",
   "metadata": {
    "tags": []
   },
   "source": [
    "The upper bound in this figure, 300, is just my guess. The original data\n",
    "indicates how many classes are bigger than 100, but it doesn't say how\n",
    "much bigger. For this example, though, we don't have to be too precise.\n",
    "\n",
    "Now here's what the distribution would look like if we sampled students."
   ]
  },
  {
   "cell_type": "code",
   "execution_count": 11,
   "metadata": {
    "tags": []
   },
   "outputs": [
    {
     "data": {
      "image/png": "[encoded data removed]",
      "text/plain": [
       "<Figure size 450x225 with 1 Axes>"
      ]
     },
     "metadata": {
      "needs_background": "light"
     },
     "output_type": "display_data"
    }
   ],
   "source": [
    "xs = np.arange(1, 300)\n",
    "kdeplot(unbiased, xs, \"Reported by the Dean\", color=\"C1\")\n",
    "kdeplot(biased, xs, \"Reported by students\", ls=\"--\")\n",
    "\n",
    "decorate(xlabel=\"Class size\", title=\"Distribution of class sizes\")"
   ]
  },
  {
   "cell_type": "code",
   "execution_count": 12,
   "metadata": {
    "tags": []
   },
   "outputs": [
    {
     "data": {
      "text/plain": [
       "34.611827956989245"
      ]
     },
     "execution_count": 12,
     "metadata": {},
     "output_type": "execute_result"
    }
   ],
   "source": [
    "np.mean(unbiased)"
   ]
  },
  {
   "cell_type": "code",
   "execution_count": 13,
   "metadata": {
    "tags": []
   },
   "outputs": [
    {
     "data": {
      "text/plain": [
       "92.59815668202765"
      ]
     },
     "execution_count": 13,
     "metadata": {},
     "output_type": "execute_result"
    }
   ],
   "source": [
    "np.mean(biased)"
   ]
  },
  {
   "cell_type": "markdown",
   "metadata": {
    "tags": []
   },
   "source": [
    "## Unbiasing the Data\n",
    "\n",
    "Now suppose we collect a biased sample of 500 class sizes and apply the inverse weights to estimate the unbiased distribution."
   ]
  },
  {
   "cell_type": "code",
   "execution_count": 14,
   "metadata": {
    "tags": []
   },
   "outputs": [],
   "source": [
    "sample = np.random.choice(biased, 500)"
   ]
  },
  {
   "cell_type": "code",
   "execution_count": 15,
   "metadata": {
    "tags": []
   },
   "outputs": [],
   "source": [
    "reweighted = resample_weighted(sample, 1 / sample)"
   ]
  },
  {
   "cell_type": "code",
   "execution_count": 16,
   "metadata": {
    "tags": []
   },
   "outputs": [
    {
     "data": {
      "image/png": "[encoded data removed]",
      "text/plain": [
       "<Figure size 450x225 with 1 Axes>"
      ]
     },
     "metadata": {
      "needs_background": "light"
     },
     "output_type": "display_data"
    }
   ],
   "source": [
    "xs = np.arange(1, 300)\n",
    "kdeplot(unbiased, xs, \"Reported by the Dean\", color=\"C1\")\n",
    "kdeplot(biased, xs, \"Reported by students\", ls=\"--\")\n",
    "kdeplot(reweighted, xs, \"Reweighted student sample\", color=\"C2\", ls=\":\")\n",
    "\n",
    "decorate(xlabel=\"Class size\", title=\"Distribution of class sizes\")"
   ]
  },
  {
   "cell_type": "markdown",
   "metadata": {
    "tags": []
   },
   "source": [
    "If the estimate were perfect, the solid and dotted lines would be\n",
    "identical. But with a limited sample size, we underestimate the number\n",
    "of small classes by a little and overestimate the number of classes with\n",
    "50-80 students. Nevertheless, it works pretty well.\n",
    "\n",
    "This strategy works in other cases where the actual distribution is not\n",
    "available, deliberately or not. If we can collect a good quality sample\n",
    "from the biased distribution, we can approximate the actual distribution\n",
    "by drawing a sample from the biased data. This process is an example of\n",
    "weighted resampling. It's \"weighted\" in the sense\n",
    "that some items are given more weight than others, that is, more\n",
    "probability of being sampled. And it's called \"resampling\" because we're\n",
    "drawing a random sample from something that is itself a random sample."
   ]
  },
  {
   "cell_type": "markdown",
   "metadata": {
    "tags": []
   },
   "source": [
    "## Where's My Train?\n",
    "\n",
    "I collected the following data from the Red Line, which is a\n",
    "subway line in Boston, Massachusetts. The MBTA, which operates the Red\n",
    "Line, provides a real-time data service, which I used to record the\n",
    "arrival times for 70 trains between 4pm and 5pm over several days.\n",
    "I don't remember when, but I think it was in 2010."
   ]
  },
  {
   "cell_type": "code",
   "execution_count": 17,
   "metadata": {
    "tags": []
   },
   "outputs": [],
   "source": [
    "unbiased = [\n",
    "    428.0,\n",
    "    705.0,\n",
    "    407.0,\n",
    "    465.0,\n",
    "    433.0,\n",
    "    425.0,\n",
    "    204.0,\n",
    "    506.0,\n",
    "    143.0,\n",
    "    351.0,\n",
    "    450.0,\n",
    "    598.0,\n",
    "    464.0,\n",
    "    749.0,\n",
    "    341.0,\n",
    "    586.0,\n",
    "    754.0,\n",
    "    256.0,\n",
    "    378.0,\n",
    "    435.0,\n",
    "    176.0,\n",
    "    405.0,\n",
    "    360.0,\n",
    "    519.0,\n",
    "    648.0,\n",
    "    374.0,\n",
    "    483.0,\n",
    "    537.0,\n",
    "    578.0,\n",
    "    534.0,\n",
    "    577.0,\n",
    "    619.0,\n",
    "    538.0,\n",
    "    331.0,\n",
    "    186.0,\n",
    "    629.0,\n",
    "    193.0,\n",
    "    360.0,\n",
    "    660.0,\n",
    "    484.0,\n",
    "    512.0,\n",
    "    315.0,\n",
    "    457.0,\n",
    "    404.0,\n",
    "    740.0,\n",
    "    388.0,\n",
    "    357.0,\n",
    "    485.0,\n",
    "    567.0,\n",
    "    160.0,\n",
    "    428.0,\n",
    "    387.0,\n",
    "    901.0,\n",
    "    187.0,\n",
    "    622.0,\n",
    "    616.0,\n",
    "    585.0,\n",
    "    474.0,\n",
    "    442.0,\n",
    "    499.0,\n",
    "    437.0,\n",
    "    620.0,\n",
    "    351.0,\n",
    "    286.0,\n",
    "    373.0,\n",
    "    232.0,\n",
    "    393.0,\n",
    "    745.0,\n",
    "    636.0,\n",
    "    758.0,\n",
    "]"
   ]
  },
  {
   "cell_type": "code",
   "execution_count": 18,
   "metadata": {
    "tags": []
   },
   "outputs": [],
   "source": [
    "unbiased = np.array(unbiased) / 60"
   ]
  },
  {
   "cell_type": "code",
   "execution_count": 19,
   "metadata": {
    "tags": []
   },
   "outputs": [],
   "source": [
    "biased = resample_weighted(unbiased, unbiased)"
   ]
  },
  {
   "cell_type": "markdown",
   "metadata": {},
   "source": [
    "Here's the unbiased distribution."
   ]
  },
  {
   "cell_type": "code",
   "execution_count": 20,
   "metadata": {
    "tags": []
   },
   "outputs": [
    {
     "data": {
      "image/png": "[encoded data removed]",
      "text/plain": [
       "<Figure size 450x225 with 1 Axes>"
      ]
     },
     "metadata": {
      "needs_background": "light"
     },
     "output_type": "display_data"
    }
   ],
   "source": [
    "xs = np.linspace(1, 16.5, 101)\n",
    "kdeplot(unbiased, xs, \"Seen by MBTA\", color=\"C1\")\n",
    "\n",
    "decorate(\n",
    "    xlabel=\"Time between trains (min)\", title=\"Distribution of time between trains\"\n",
    ")"
   ]
  },
  {
   "cell_type": "markdown",
   "metadata": {
    "tags": []
   },
   "source": [
    "And here's the biased distribution as seen by passengers."
   ]
  },
  {
   "cell_type": "code",
   "execution_count": 21,
   "metadata": {
    "tags": []
   },
   "outputs": [
    {
     "data": {
      "image/png": "[encoded data removed]",
      "text/plain": [
       "<Figure size 450x225 with 1 Axes>"
      ]
     },
     "metadata": {
      "needs_background": "light"
     },
     "output_type": "display_data"
    }
   ],
   "source": [
    "xs = np.linspace(1, 16.5, 101)\n",
    "kdeplot(unbiased, xs, \"Seen by MBTA\", color=\"C1\")\n",
    "kdeplot(biased, xs, \"Seen by passengers\", ls=\"--\")\n",
    "\n",
    "decorate(\n",
    "    xlabel=\"Time between trains (min)\", title=\"Distribution of time between trains\"\n",
    ")"
   ]
  },
  {
   "cell_type": "code",
   "execution_count": 22,
   "metadata": {
    "tags": []
   },
   "outputs": [
    {
     "data": {
      "text/plain": [
       "(8.570714285714285, 7.7680952380952375)"
      ]
     },
     "execution_count": 22,
     "metadata": {},
     "output_type": "execute_result"
    }
   ],
   "source": [
    "np.mean(biased), np.mean(unbiased)"
   ]
  },
  {
   "cell_type": "code",
   "execution_count": 23,
   "metadata": {
    "tags": []
   },
   "outputs": [
    {
     "data": {
      "text/plain": [
       "10.332250352479615"
      ]
     },
     "execution_count": 23,
     "metadata": {},
     "output_type": "execute_result"
    }
   ],
   "source": [
    "(np.mean(biased) - np.mean(unbiased)) / np.mean(unbiased) * 100"
   ]
  },
  {
   "cell_type": "markdown",
   "metadata": {
    "tags": []
   },
   "source": [
    "In the actual distribution, the average time between trains is 7.8\n",
    "minutes; in the biased distribution, as seen by a random passenger, it\n",
    "is 9.2 minutes, about 20% longer."
   ]
  },
  {
   "cell_type": "markdown",
   "metadata": {
    "tags": []
   },
   "source": [
    "## Are you popular? Hint: no.\n",
    "\n",
    "To demonstrate the friendship paradox, I used data from a sample of about 4000\n",
    "Facebook users from the [Stanford Network Analysis Project (SNAP)](http://snap.stanford.edu/)."
   ]
  },
  {
   "cell_type": "code",
   "execution_count": 24,
   "metadata": {
    "tags": []
   },
   "outputs": [],
   "source": [
    "download(\"https://snap.stanford.edu/data/facebook_combined.txt.gz\")"
   ]
  },
  {
   "cell_type": "markdown",
   "metadata": {},
   "source": [
    "The following function reads the Facebook data and builds a NetworkX graph."
   ]
  },
  {
   "cell_type": "code",
   "execution_count": 25,
   "metadata": {
    "tags": []
   },
   "outputs": [],
   "source": [
    "import networkx as nx\n",
    "\n",
    "\n",
    "def read_graph(filename, **options):\n",
    "    \"\"\"Read a graph from a file.\n",
    "\n",
    "    filename: string\n",
    "\n",
    "    return: Graph\n",
    "    \"\"\"\n",
    "    G = nx.Graph()\n",
    "    array = np.loadtxt(filename, dtype=int, **options)\n",
    "    G.add_edges_from(array)\n",
    "    return G"
   ]
  },
  {
   "cell_type": "code",
   "execution_count": 26,
   "metadata": {
    "tags": []
   },
   "outputs": [
    {
     "data": {
      "text/plain": [
       "(4039, 88234)"
      ]
     },
     "execution_count": 26,
     "metadata": {},
     "output_type": "execute_result"
    }
   ],
   "source": [
    "fb = read_graph(\"facebook_combined.txt.gz\")\n",
    "n = len(fb)\n",
    "m = len(fb.edges())\n",
    "n, m"
   ]
  },
  {
   "cell_type": "code",
   "execution_count": 27,
   "metadata": {
    "tags": []
   },
   "outputs": [
    {
     "data": {
      "text/plain": [
       "4039"
      ]
     },
     "execution_count": 27,
     "metadata": {},
     "output_type": "execute_result"
    }
   ],
   "source": [
    "unbiased = [fb.degree(node) for node in fb]\n",
    "len(unbiased)"
   ]
  },
  {
   "cell_type": "code",
   "execution_count": 28,
   "metadata": {
    "tags": []
   },
   "outputs": [
    {
     "data": {
      "text/plain": [
       "1045"
      ]
     },
     "execution_count": 28,
     "metadata": {},
     "output_type": "execute_result"
    }
   ],
   "source": [
    "np.max(unbiased)"
   ]
  },
  {
   "cell_type": "code",
   "execution_count": 29,
   "metadata": {
    "tags": []
   },
   "outputs": [],
   "source": [
    "biased = resample_weighted(unbiased, unbiased)"
   ]
  },
  {
   "cell_type": "code",
   "execution_count": 30,
   "metadata": {
    "tags": []
   },
   "outputs": [],
   "source": [
    "high = 250"
   ]
  },
  {
   "cell_type": "markdown",
   "metadata": {},
   "source": [
    "Here's the unbiased distribution."
   ]
  },
  {
   "cell_type": "code",
   "execution_count": 31,
   "metadata": {
    "tags": []
   },
   "outputs": [
    {
     "data": {
      "image/png": "[encoded data removed]",
      "text/plain": [
       "<Figure size 450x225 with 1 Axes>"
      ]
     },
     "metadata": {
      "needs_background": "light"
     },
     "output_type": "display_data"
    }
   ],
   "source": [
    "xs = np.linspace(0, high, 101)\n",
    "kdeplot(unbiased, xs, \"Random sample of people\", color=\"C1\")\n",
    "\n",
    "decorate(\n",
    "    xlabel=\"Number of friends\",\n",
    "    title=\"Distribution of number of friends\",\n",
    ")"
   ]
  },
  {
   "cell_type": "markdown",
   "metadata": {
    "tags": []
   },
   "source": [
    "And here's the biased distribution.\n",
    "Compared to the unbiased distribution, people with more than 50 friends are\n",
    "overrepresented; people with fewer friends are underrepresented."
   ]
  },
  {
   "cell_type": "code",
   "execution_count": 32,
   "metadata": {
    "tags": []
   },
   "outputs": [
    {
     "data": {
      "image/png": "[encoded data removed]",
      "text/plain": [
       "<Figure size 450x225 with 1 Axes>"
      ]
     },
     "metadata": {
      "needs_background": "light"
     },
     "output_type": "display_data"
    }
   ],
   "source": [
    "xs = np.linspace(0, high, 101)\n",
    "kdeplot(unbiased, xs, \"Random sample of people\", color=\"C1\")\n",
    "kdeplot(biased, xs, \"Random sample of friends\", ls=\"--\")\n",
    "\n",
    "decorate(\n",
    "    xlabel=\"Number of friends\",\n",
    "    title=\"Distribution of number of friends\",\n",
    ")"
   ]
  },
  {
   "cell_type": "markdown",
   "metadata": {
    "tags": []
   },
   "source": [
    "The difference between the distributions is substantial: in the unbiased\n",
    "sample, the average user has 44 friends; in the biased sample, the\n",
    "average friend has 104, more than twice as many. And if you are a random\n",
    "person in this sample, the probability that your friend is more popular\n",
    "than you is about 76%."
   ]
  },
  {
   "cell_type": "markdown",
   "metadata": {
    "tags": []
   },
   "source": [
    "If you are a bottlenose dolphin in Doubtful Sound, New Zealand, you interact regularly with between 1 and 12 other dolphins, according to the researchers who mapped your social network.\n",
    "If I choose one of your \"friends\" at random and compare them to you, the probability is about 65% that your friend has more friends than you.\n",
    "\n",
    "The dolphin data is from [The Network Data Repository](https://networkrepository.com/soc_dolphins.php)."
   ]
  },
  {
   "cell_type": "code",
   "execution_count": 33,
   "metadata": {},
   "outputs": [],
   "source": [
    "import os\n",
    "\n",
    "download(\"http://nrvis.com/download/data/soc/soc-dolphins.zip\")\n",
    "\n",
    "if not exists('soc-dolphins.mtx'):\n",
    "    !unzip soc-dolphins.zip"
   ]
  },
  {
   "cell_type": "code",
   "execution_count": 34,
   "metadata": {},
   "outputs": [
    {
     "data": {
      "text/plain": [
       "(62, 159)"
      ]
     },
     "execution_count": 34,
     "metadata": {},
     "output_type": "execute_result"
    }
   ],
   "source": [
    "from scipy.io import mmread\n",
    "\n",
    "array = mmread('soc-dolphins.mtx')\n",
    "dolphins = nx.from_scipy_sparse_array(array)\n",
    "n = len(dolphins)\n",
    "m = len(dolphins.edges())\n",
    "n, m"
   ]
  },
  {
   "cell_type": "code",
   "execution_count": 35,
   "metadata": {
    "tags": []
   },
   "outputs": [
    {
     "data": {
      "text/plain": [
       "array([ 6,  8,  4,  3,  1,  4,  6,  5,  6,  7,  5,  1,  1,  8, 12,  7,  6,\n",
       "        9,  7,  4,  9,  6,  1,  3,  6,  3,  3,  5,  5,  9,  5,  1,  3, 10,\n",
       "        5,  1,  7, 11,  8,  2,  8,  5,  6,  7,  4, 11,  2,  6,  1,  2,  7,\n",
       "       10,  4,  2,  7,  2,  2,  9,  1,  5,  1,  3])"
      ]
     },
     "execution_count": 35,
     "metadata": {},
     "output_type": "execute_result"
    }
   ],
   "source": [
    "unbiased = [dolphins.degree(node) for node in dolphins]\n",
    "np.array(unbiased)"
   ]
  },
  {
   "cell_type": "code",
   "execution_count": 36,
   "metadata": {
    "tags": []
   },
   "outputs": [
    {
     "data": {
      "image/png": "[encoded data removed]",
      "text/plain": [
       "<Figure size 450x225 with 1 Axes>"
      ]
     },
     "metadata": {
      "needs_background": "light"
     },
     "output_type": "display_data"
    }
   ],
   "source": [
    "from empiricaldist import Pmf\n",
    "\n",
    "pmf = Pmf.from_seq(unbiased, normalize=False)\n",
    "pmf.bar(label=\"\", alpha=0.4)\n",
    "decorate(\n",
    "    xlabel=\"Friend count\",\n",
    "    ylabel=\"Number of dolphins\",\n",
    "    title=\"Distribution of friend counts\",\n",
    ")"
   ]
  },
  {
   "cell_type": "code",
   "execution_count": 37,
   "metadata": {
    "tags": []
   },
   "outputs": [],
   "source": [
    "biased = resample_weighted(unbiased, unbiased)"
   ]
  },
  {
   "cell_type": "code",
   "execution_count": 38,
   "metadata": {
    "tags": []
   },
   "outputs": [
    {
     "data": {
      "image/png": "[encoded data removed]",
      "text/plain": [
       "<Figure size 450x225 with 1 Axes>"
      ]
     },
     "metadata": {
      "needs_background": "light"
     },
     "output_type": "display_data"
    }
   ],
   "source": [
    "high = 16\n",
    "xs = np.linspace(0, high, 101)\n",
    "kdeplot(unbiased, xs, \"Random sample of dolphins\", color=\"C1\")\n",
    "kdeplot(biased, xs, \"Random sample of friends\", ls=\"--\")\n",
    "\n",
    "decorate(\n",
    "    xlabel=\"Number of friends in social network\",\n",
    "    title=\"Distribution of social network size\",\n",
    ")"
   ]
  },
  {
   "cell_type": "code",
   "execution_count": 39,
   "metadata": {
    "tags": []
   },
   "outputs": [
    {
     "data": {
      "text/plain": [
       "(6.854838709677419, 5.129032258064516)"
      ]
     },
     "execution_count": 39,
     "metadata": {},
     "output_type": "execute_result"
    }
   ],
   "source": [
    "np.mean(biased), np.mean(unbiased)"
   ]
  },
  {
   "cell_type": "code",
   "execution_count": 40,
   "metadata": {
    "tags": []
   },
   "outputs": [
    {
     "data": {
      "text/plain": [
       "0.6290322580645161"
      ]
     },
     "execution_count": 40,
     "metadata": {},
     "output_type": "execute_result"
    }
   ],
   "source": [
    "np.mean(biased > unbiased)"
   ]
  },
  {
   "cell_type": "markdown",
   "metadata": {
    "tags": []
   },
   "source": [
    "## Finding Superspreaders\n",
    "\n"
   ]
  },
  {
   "cell_type": "markdown",
   "metadata": {
    "tags": []
   },
   "source": [
    "To quantify this effect, let's suppose that 70% of infected people don't infect anyone else, as in the Hong Kong study, and the other 30% infect between 1 and 15 other people, uniformly distributed. The average of this distribution is 2.4, which is a plausible value of $R$.\n",
    "\n",
    "Now suppose we discover an infected patient, trace forward, and find\n",
    "someone the patient infected. On average, we expect this person to\n",
    "infect 2.4 other people."
   ]
  },
  {
   "cell_type": "code",
   "execution_count": 41,
   "metadata": {
    "tags": []
   },
   "outputs": [
    {
     "data": {
      "text/plain": [
       "array([ 1,  2,  3,  4,  5,  6,  7,  8,  9, 10, 11, 12, 13, 14, 15,  1,  2,\n",
       "        3,  4,  5,  6,  7,  8,  9, 10, 11, 12, 13, 14, 15,  0,  0,  0,  0,\n",
       "        0,  0,  0,  0,  0,  0,  0,  0,  0,  0,  0,  0,  0,  0,  0,  0,  0,\n",
       "        0,  0,  0,  0,  0,  0,  0,  0,  0,  0,  0,  0,  0,  0,  0,  0,  0,\n",
       "        0,  0,  0,  0,  0,  0,  0,  0,  0,  0,  0,  0,  0,  0,  0,  0,  0,\n",
       "        0,  0,  0,  0,  0,  0,  0,  0,  0,  0,  0,  0,  0,  0,  0])"
      ]
     },
     "execution_count": 41,
     "metadata": {},
     "output_type": "execute_result"
    }
   ],
   "source": [
    "import numpy as np\n",
    "\n",
    "t1 = np.arange(1, 16)\n",
    "t2 = [0] * 70\n",
    "unbiased = np.concatenate([t1, t1, t2])\n",
    "unbiased"
   ]
  },
  {
   "cell_type": "code",
   "execution_count": 42,
   "metadata": {
    "tags": []
   },
   "outputs": [
    {
     "data": {
      "text/plain": [
       "2.4"
      ]
     },
     "execution_count": 42,
     "metadata": {},
     "output_type": "execute_result"
    }
   ],
   "source": [
    "np.mean(unbiased)"
   ]
  },
  {
   "cell_type": "markdown",
   "metadata": {},
   "source": [
    "Here's the mean of the biased distribution."
   ]
  },
  {
   "cell_type": "code",
   "execution_count": 43,
   "metadata": {
    "tags": []
   },
   "outputs": [
    {
     "data": {
      "text/plain": [
       "10.29"
      ]
     },
     "execution_count": 43,
     "metadata": {},
     "output_type": "execute_result"
    }
   ],
   "source": [
    "biased = resample_weighted(unbiased, unbiased)\n",
    "np.mean(biased)"
   ]
  },
  {
   "cell_type": "code",
   "execution_count": 44,
   "metadata": {
    "tags": []
   },
   "outputs": [
    {
     "data": {
      "text/plain": [
       "4.2875"
      ]
     },
     "execution_count": 44,
     "metadata": {},
     "output_type": "execute_result"
    }
   ],
   "source": [
    "np.mean(biased) / np.mean(unbiased)"
   ]
  },
  {
   "cell_type": "markdown",
   "metadata": {
    "tags": []
   },
   "source": [
    "## Road Rage\n",
    "\n",
    "In the following figure, the solid line shows the actual distribution of\n",
    "speeds from the James Joyce Ramble, a 10K race in Massachusetts.\n",
    "\n",
    "\n",
    "The original web page is not available, but we can get it from the Internet Archive\n"
   ]
  },
  {
   "cell_type": "code",
   "execution_count": 45,
   "metadata": {
    "tags": []
   },
   "outputs": [],
   "source": [
    "\n",
    "download(\"https://web.archive.org/web/20100429073703/http://coolrunning.com/results/10/ma/Apr25_27thAn_set1.shtml\")"
   ]
  },
  {
   "cell_type": "code",
   "execution_count": 46,
   "metadata": {
    "tags": []
   },
   "outputs": [],
   "source": [
    "from bs4 import BeautifulSoup\n",
    "\n",
    "soup = BeautifulSoup(open(\"Apr25_27thAn_set1.shtml\"), \"html.parser\")"
   ]
  },
  {
   "cell_type": "code",
   "execution_count": 47,
   "metadata": {
    "tags": []
   },
   "outputs": [
    {
     "data": {
      "text/plain": [
       "1591"
      ]
     },
     "execution_count": 47,
     "metadata": {},
     "output_type": "execute_result"
    }
   ],
   "source": [
    "import pandas as pd\n",
    "\n",
    "speeds = pd.Series([], dtype=float)\n",
    "\n",
    "table = soup.find(\"pre\")\n",
    "for line in table.text.split(\"\\n\"):\n",
    "    t = line.split()\n",
    "    if len(t) in [13, 14]:\n",
    "        place, place_in_div, div, gun, net, pace = t[0:6]\n",
    "        place = int(place)\n",
    "        m, s = [int(x) for x in pace.split(\":\")]\n",
    "        secs = m * 60 + s\n",
    "        kph = 1.61 / secs * 60 * 60\n",
    "        speeds[place] = kph\n",
    "\n",
    "len(speeds)"
   ]
  },
  {
   "cell_type": "markdown",
   "metadata": {},
   "source": [
    "The following is the distribution a spectator would see if they watched all of the runners go by.\n",
    "The dashed line shows the biased distribution that would be seen by a runner going 11 kilometers per hour (kph)."
   ]
  },
  {
   "cell_type": "code",
   "execution_count": 48,
   "metadata": {
    "tags": []
   },
   "outputs": [],
   "source": [
    "unbiased = speeds.values"
   ]
  },
  {
   "cell_type": "code",
   "execution_count": 49,
   "metadata": {
    "tags": []
   },
   "outputs": [
    {
     "data": {
      "image/png": "[encoded data removed]",
      "text/plain": [
       "<Figure size 450x225 with 1 Axes>"
      ]
     },
     "metadata": {
      "needs_background": "light"
     },
     "output_type": "display_data"
    }
   ],
   "source": [
    "xs = np.linspace(speeds.min(), speeds.max(), 101)\n",
    "kdeplot(unbiased, xs, \"Seen by spectator\", color=\"C1\")\n",
    "\n",
    "decorate(xlabel=\"Running speed (kph)\", title=\"Distribution of running speed\")"
   ]
  },
  {
   "cell_type": "markdown",
   "metadata": {},
   "source": [
    "And here's the biased view seen be someone running 11 kph."
   ]
  },
  {
   "cell_type": "code",
   "execution_count": 50,
   "metadata": {
    "tags": []
   },
   "outputs": [],
   "source": [
    "weights = np.abs(unbiased - 11)\n",
    "biased = resample_weighted(unbiased, weights)"
   ]
  },
  {
   "cell_type": "code",
   "execution_count": 51,
   "metadata": {
    "tags": []
   },
   "outputs": [
    {
     "data": {
      "image/png": "[encoded data removed]",
      "text/plain": [
       "<Figure size 450x225 with 1 Axes>"
      ]
     },
     "metadata": {
      "needs_background": "light"
     },
     "output_type": "display_data"
    }
   ],
   "source": [
    "kdeplot(unbiased, xs, \"Seen by spectator\", color=\"C1\")\n",
    "kdeplot(biased, xs, \"Seen by runner at 11 kph\", ls=\"--\")\n",
    "\n",
    "decorate(xlabel=\"Running speed (kph)\", title=\"Distribution of running speed\")"
   ]
  },
  {
   "cell_type": "markdown",
   "metadata": {
    "tags": []
   },
   "source": [
    "In the actual distribution, there are a lot of runners near 11 kph, but if you run at that speed, you are unlikely to see them. \n",
    "As a result, the biased distribution has few runners near 11 kph and more at the extremes.\n",
    "And it has two modes, one near 9 kph and one near 13 kph.\n",
    "So that explains my oxygen-deprived confusion."
   ]
  },
  {
   "cell_type": "markdown",
   "metadata": {
    "tags": []
   },
   "source": [
    "## Just Visiting\n",
    "\n",
    "I downloaded data from the [U.S. Federal Bureau of Prisons](https://www.bop.gov/about/statistics/statistics_inmate_sentences.jsp) (BOP) in June 2019.\n",
    "I archived the page so you can download it:\n"
   ]
  },
  {
   "cell_type": "code",
   "execution_count": 52,
   "metadata": {
    "tags": []
   },
   "outputs": [
    {
     "name": "stdout",
     "output_type": "stream",
     "text": [
      "--2022-12-10 10:52:53--  https://raw.githubusercontent.com/AllenDowney/InspectionParadox/master/BOP%20Statistics_%20Sentences%20Imposed.html\n",
      "Resolving raw.githubusercontent.com (raw.githubusercontent.com)... 185.199.109.133, 185.199.110.133, 185.199.111.133, ...\n",
      "Connecting to raw.githubusercontent.com (raw.githubusercontent.com)|185.199.109.133|:443... connected.\n",
      "HTTP request sent, awaiting response... 200 OK\n",
      "Length: 24902 (24K) [text/plain]\n",
      "Saving to: ‘BOP Statistics_ Sentences Imposed.html.1’\n",
      "\n",
      "BOP Statistics_ Sen 100%[===================>]  24.32K  --.-KB/s    in 0.002s  \n",
      "\n",
      "2022-12-10 10:52:53 (10.7 MB/s) - ‘BOP Statistics_ Sentences Imposed.html.1’ saved [24902/24902]\n",
      "\n"
     ]
    }
   ],
   "source": [
    "if not os.path.exists(\"../data/BOP Statistics_ Sentences Imposed.html\"):\n",
    "    !wget https://raw.githubusercontent.com/AllenDowney/InspectionParadox/master/BOP%20Statistics_%20Sentences%20Imposed.html"
   ]
  },
  {
   "cell_type": "code",
   "execution_count": 53,
   "metadata": {
    "tags": []
   },
   "outputs": [
    {
     "data": {
      "text/html": [
       "<div>\n",
       "<style scoped>\n",
       "    .dataframe tbody tr th:only-of-type {\n",
       "        vertical-align: middle;\n",
       "    }\n",
       "\n",
       "    .dataframe tbody tr th {\n",
       "        vertical-align: top;\n",
       "    }\n",
       "\n",
       "    .dataframe thead th {\n",
       "        text-align: right;\n",
       "    }\n",
       "</style>\n",
       "<table border=\"1\" class=\"dataframe\">\n",
       "  <thead>\n",
       "    <tr style=\"text-align: right;\">\n",
       "      <th></th>\n",
       "      <th>Sentence</th>\n",
       "      <th># of Inmates</th>\n",
       "      <th>% of Inmates</th>\n",
       "    </tr>\n",
       "  </thead>\n",
       "  <tbody>\n",
       "    <tr>\n",
       "      <th>0</th>\n",
       "      <td>0 to 1 year*</td>\n",
       "      <td>5155</td>\n",
       "      <td>2.3 %</td>\n",
       "    </tr>\n",
       "    <tr>\n",
       "      <th>1</th>\n",
       "      <td>&gt; 1 year to &lt; 3 years**</td>\n",
       "      <td>18619</td>\n",
       "      <td>11.3%</td>\n",
       "    </tr>\n",
       "    <tr>\n",
       "      <th>2</th>\n",
       "      <td>3 years to &lt; 5 years</td>\n",
       "      <td>17897</td>\n",
       "      <td>10.9%</td>\n",
       "    </tr>\n",
       "    <tr>\n",
       "      <th>3</th>\n",
       "      <td>5 years to &lt; 10 years</td>\n",
       "      <td>41887</td>\n",
       "      <td>25.4%</td>\n",
       "    </tr>\n",
       "    <tr>\n",
       "      <th>4</th>\n",
       "      <td>10 years to &lt; 15 years</td>\n",
       "      <td>34995</td>\n",
       "      <td>21.3%</td>\n",
       "    </tr>\n",
       "    <tr>\n",
       "      <th>5</th>\n",
       "      <td>15 years to &lt; 20 years</td>\n",
       "      <td>18674</td>\n",
       "      <td>11.3%</td>\n",
       "    </tr>\n",
       "    <tr>\n",
       "      <th>6</th>\n",
       "      <td>20 years or more but &lt; Life</td>\n",
       "      <td>22738</td>\n",
       "      <td>13.8%</td>\n",
       "    </tr>\n",
       "    <tr>\n",
       "      <th>7</th>\n",
       "      <td>Life</td>\n",
       "      <td>4600</td>\n",
       "      <td>2.8%</td>\n",
       "    </tr>\n",
       "  </tbody>\n",
       "</table>\n",
       "</div>"
      ],
      "text/plain": [
       "                      Sentence  # of Inmates % of Inmates\n",
       "0                 0 to 1 year*          5155        2.3 %\n",
       "1      > 1 year to < 3 years**         18619        11.3%\n",
       "2         3 years to < 5 years         17897        10.9%\n",
       "3        5 years to < 10 years         41887        25.4%\n",
       "4       10 years to < 15 years         34995        21.3%\n",
       "5       15 years to < 20 years         18674        11.3%\n",
       "6  20 years or more but < Life         22738        13.8%\n",
       "7                         Life          4600         2.8%"
      ]
     },
     "execution_count": 53,
     "metadata": {},
     "output_type": "execute_result"
    }
   ],
   "source": [
    "tables = pd.read_html(\"BOP Statistics_ Sentences Imposed.html\")\n",
    "df = tables[0]\n",
    "df"
   ]
  },
  {
   "cell_type": "markdown",
   "metadata": {},
   "source": [
    "Here are the low and high sentences for each range.\n",
    "I assume that the minimum sentence is about a week,\n",
    "that sentences \"less than life\" are 40 years,\n",
    "and that a life sentence is between 40 and 60 years."
   ]
  },
  {
   "cell_type": "code",
   "execution_count": 54,
   "metadata": {
    "tags": []
   },
   "outputs": [],
   "source": [
    "sentences = [(0.02, 1), (1, 3), (3, 5), (5, 10), (10, 15), (15, 20), (20, 40), (40, 60)]"
   ]
  },
  {
   "cell_type": "code",
   "execution_count": 55,
   "metadata": {
    "tags": []
   },
   "outputs": [],
   "source": [
    "counts = df[\"# of Inmates\"]"
   ]
  },
  {
   "cell_type": "code",
   "execution_count": 56,
   "metadata": {
    "tags": []
   },
   "outputs": [],
   "source": [
    "def generate_sample_continuous(sizes, counts):\n",
    "    \"\"\"Generate a sample from a distribution.\n",
    "\n",
    "    sizes: sequence of (low, high) pairs\n",
    "    counts: sequence of integers\n",
    "\n",
    "    returns: NumPy array\n",
    "    \"\"\"\n",
    "    t = []\n",
    "    for (low, high), count in zip(sizes, counts):\n",
    "        print(count, low, high)\n",
    "        sample = np.random.uniform(low, high, count)\n",
    "        t.extend(sample)\n",
    "    return np.array(t)"
   ]
  },
  {
   "cell_type": "code",
   "execution_count": 57,
   "metadata": {
    "tags": []
   },
   "outputs": [
    {
     "name": "stdout",
     "output_type": "stream",
     "text": [
      "5155 0.02 1\n",
      "18619 1 3\n",
      "17897 3 5\n",
      "41887 5 10\n",
      "34995 10 15\n",
      "18674 15 20\n",
      "22738 20 40\n",
      "4600 40 60\n"
     ]
    }
   ],
   "source": [
    "biased = generate_sample_continuous(sentences, counts)"
   ]
  },
  {
   "cell_type": "code",
   "execution_count": 58,
   "metadata": {
    "tags": []
   },
   "outputs": [],
   "source": [
    "weights = 1 / (0.85 * np.array(biased))"
   ]
  },
  {
   "cell_type": "code",
   "execution_count": 59,
   "metadata": {
    "tags": []
   },
   "outputs": [],
   "source": [
    "unbiased = resample_weighted(biased, weights)"
   ]
  },
  {
   "cell_type": "markdown",
   "metadata": {},
   "source": [
    "\n",
    "In the following figure, the dashed line shows the distribution of sentences as reported by the BOP.\n",
    "The solid line shows the unbiased distribution I estimated."
   ]
  },
  {
   "cell_type": "code",
   "execution_count": 60,
   "metadata": {
    "tags": []
   },
   "outputs": [
    {
     "data": {
      "image/png": "[encoded data removed]",
      "text/plain": [
       "<Figure size 450x225 with 1 Axes>"
      ]
     },
     "metadata": {
      "needs_background": "light"
     },
     "output_type": "display_data"
    }
   ],
   "source": [
    "xs = np.linspace(0, 60, 101)\n",
    "kdeplot(unbiased, xs, \"Unbiased distribution\", color=\"C1\")\n",
    "kdeplot(biased, xs, \"Sampled BOP data\", ls=\"--\")\n",
    "\n",
    "decorate(\n",
    "    xlabel=\"Prison sentence (years)\", title=\"Distribution of federal prison sentences\"\n",
    ")"
   ]
  },
  {
   "cell_type": "markdown",
   "metadata": {
    "tags": []
   },
   "source": [
    "In the BOP sample, sentences less than three years are underrepresented and longer sentences are overrepresented.\n",
    "\n",
    "If the length of your stay is $y$, the chance of overlapping with a prisoner whose sentence is $x$ is proportional to $x + y$.\n",
    "In the following figure, the dotted line shows what the resulting sample looks like when $y$ is 13 months."
   ]
  },
  {
   "cell_type": "code",
   "execution_count": 61,
   "metadata": {
    "tags": []
   },
   "outputs": [],
   "source": [
    "x = 0.85 * unbiased\n",
    "y = 13 / 12\n",
    "\n",
    "weights = x + y"
   ]
  },
  {
   "cell_type": "code",
   "execution_count": 62,
   "metadata": {
    "tags": []
   },
   "outputs": [],
   "source": [
    "kerman = resample_weighted(unbiased, weights)"
   ]
  },
  {
   "cell_type": "code",
   "execution_count": 63,
   "metadata": {
    "tags": []
   },
   "outputs": [
    {
     "data": {
      "image/png": "[encoded data removed]",
      "text/plain": [
       "<Figure size 450x225 with 1 Axes>"
      ]
     },
     "metadata": {
      "needs_background": "light"
     },
     "output_type": "display_data"
    }
   ],
   "source": [
    "xs = np.linspace(0, 45, 101)\n",
    "kdeplot(unbiased, xs, 'Actual distribution', color='C1')\n",
    "kdeplot(biased, xs, 'Sampled BOP data', ls='--')\n",
    "kdeplot(kerman, xs, 'Seen during a 13 month sentence', color='C2', ls=':')\n",
    "\n",
    "decorate(xlabel='Prison sentence (years)',\n",
    "         title='Distribution of federal prison sentences')\n"
   ]
  },
  {
   "cell_type": "markdown",
   "metadata": {
    "tags": []
   },
   "source": [
    "*   The mean of the actual distribution is 3.6 years; the mean of the biased distribution is almost 13 years, more than three times longer! To a 13-month observer, the mean is about 10 years, still much greater than the actual mean.\n",
    "\n",
    "*   In the actual distribution, about 45% of prisoners have sentences less than a year. If you visit a prison once, fewer than 5% of the prisoners you see are short-timers. If you stay for 13 months, your estimate is better but still not accurate: about 15% of the prisoners you meet are short-timers."
   ]
  },
  {
   "cell_type": "code",
   "execution_count": 64,
   "metadata": {
    "tags": []
   },
   "outputs": [
    {
     "data": {
      "text/plain": [
       "0.4573633518670434"
      ]
     },
     "execution_count": 64,
     "metadata": {},
     "output_type": "execute_result"
    }
   ],
   "source": [
    "# In the unbiased distribution, almost half of prisoners serve less than one year.\n",
    "\n",
    "np.mean(unbiased < 1)"
   ]
  },
  {
   "cell_type": "code",
   "execution_count": 65,
   "metadata": {
    "tags": []
   },
   "outputs": [
    {
     "data": {
      "text/plain": [
       "0.0313250083553611"
      ]
     },
     "execution_count": 65,
     "metadata": {},
     "output_type": "execute_result"
    }
   ],
   "source": [
    "np.mean(biased < 1)"
   ]
  },
  {
   "cell_type": "code",
   "execution_count": 66,
   "metadata": {
    "tags": []
   },
   "outputs": [
    {
     "data": {
      "text/plain": [
       "0.14339014978883724"
      ]
     },
     "execution_count": 66,
     "metadata": {},
     "output_type": "execute_result"
    }
   ],
   "source": [
    "np.mean(kerman < 1)"
   ]
  },
  {
   "cell_type": "code",
   "execution_count": 67,
   "metadata": {
    "tags": []
   },
   "outputs": [
    {
     "data": {
      "text/plain": [
       "3.5116851817207166"
      ]
     },
     "execution_count": 67,
     "metadata": {},
     "output_type": "execute_result"
    }
   ],
   "source": [
    "np.mean(unbiased)"
   ]
  },
  {
   "cell_type": "code",
   "execution_count": 68,
   "metadata": {
    "tags": []
   },
   "outputs": [
    {
     "data": {
      "text/plain": [
       "12.770277541686598"
      ]
     },
     "execution_count": 68,
     "metadata": {},
     "output_type": "execute_result"
    }
   ],
   "source": [
    "np.mean(biased)"
   ]
  },
  {
   "cell_type": "code",
   "execution_count": 69,
   "metadata": {
    "tags": []
   },
   "outputs": [
    {
     "data": {
      "text/plain": [
       "10.196918727005256"
      ]
     },
     "execution_count": 69,
     "metadata": {},
     "output_type": "execute_result"
    }
   ],
   "source": [
    "np.mean(kerman)"
   ]
  },
  {
   "cell_type": "markdown",
   "metadata": {
    "tags": []
   },
   "source": [
    "## Recidivism\n",
    "\n",
    "Rhodes, William, Gerald Gaes, Jeremy Luallen, Ryan Kling, Tom Rich, and Michael Shively. \"Following incarceration, most released offenders never return to prison.\" Crime & Delinquency 62, no. 8 (2016): 1003-1025.\n",
    "\n",
    "\n",
    "This 2016 paper in the journal *Crime & Delinquency* \n",
    "showed how the inspection paradox affects our estimates of recidivism, that is, the number of people released from prison who later return to prison.\n",
    "Based on data from 17 states, collected between 2000 and 2012, the authors compute the number of admissions to prison in an event-based sample, on page 1015."
   ]
  },
  {
   "cell_type": "code",
   "execution_count": 70,
   "metadata": {
    "tags": []
   },
   "outputs": [
    {
     "data": {
      "text/plain": [
       "1.0"
      ]
     },
     "execution_count": 70,
     "metadata": {},
     "output_type": "execute_result"
    }
   ],
   "source": [
    "from empiricaldist import Pmf\n",
    "\n",
    "ps = [0.51, 0.25, 0.13, 0.07, 0.03, 0.01]\n",
    "ks = np.arange(1, len(ps) + 1)\n",
    "pmf = Pmf(ps, ks)\n",
    "pmf.sum()"
   ]
  },
  {
   "cell_type": "code",
   "execution_count": 71,
   "metadata": {
    "tags": []
   },
   "outputs": [
    {
     "data": {
      "image/png": "[encoded data removed]",
      "text/plain": [
       "<Figure size 450x225 with 1 Axes>"
      ]
     },
     "metadata": {
      "needs_background": "light"
     },
     "output_type": "display_data"
    }
   ],
   "source": [
    "pmf.plot(color=\"C1\", label=\"Event-based sample\")\n",
    "\n",
    "decorate(\n",
    "    xlabel=\"Number of admissions\",\n",
    "    ylabel=\"Fraction of prisoners\",\n",
    "    title=\"Distribution of admissions to prison\",\n",
    ")"
   ]
  },
  {
   "cell_type": "code",
   "execution_count": 72,
   "metadata": {
    "tags": []
   },
   "outputs": [
    {
     "data": {
      "text/plain": [
       "0.49"
      ]
     },
     "execution_count": 72,
     "metadata": {},
     "output_type": "execute_result"
    }
   ],
   "source": [
    "# fraction of recidivists in the event-based sample\n",
    "\n",
    "1 - pmf[1]"
   ]
  },
  {
   "cell_type": "markdown",
   "metadata": {
    "tags": []
   },
   "source": [
    "In this sample, 51% of the prisoners served only one sentence; the other 49% were recidivists. We can use this data to simulate an individual-based sample.\n",
    "In the following figure, the dashed line shows the result."
   ]
  },
  {
   "cell_type": "code",
   "execution_count": 73,
   "metadata": {
    "tags": []
   },
   "outputs": [
    {
     "data": {
      "text/plain": [
       "(0.2750533049040512, 0.7249466950959488)"
      ]
     },
     "execution_count": 73,
     "metadata": {},
     "output_type": "execute_result"
    }
   ],
   "source": [
    "unbiased = pmf / ks\n",
    "unbiased.normalize()\n",
    "\n",
    "# fraction of recidivists in biased sample\n",
    "1 - unbiased[1], unbiased[1]"
   ]
  },
  {
   "cell_type": "code",
   "execution_count": 74,
   "metadata": {
    "tags": []
   },
   "outputs": [
    {
     "data": {
      "image/png": "[encoded data removed]",
      "text/plain": [
       "<Figure size 450x225 with 1 Axes>"
      ]
     },
     "metadata": {
      "needs_background": "light"
     },
     "output_type": "display_data"
    }
   ],
   "source": [
    "pmf.plot(color=\"C1\", label=\"Event-based sample\")\n",
    "unbiased.plot(ls=\"--\", label=\"Individual-based sample\")\n",
    "\n",
    "decorate(\n",
    "    xlabel=\"Total number of sentences\",\n",
    "    ylabel=\"Fraction of prisoners\",\n",
    "    title=\"Distribution of sentences\",\n",
    ")"
   ]
  },
  {
   "cell_type": "code",
   "execution_count": 75,
   "metadata": {
    "tags": []
   },
   "outputs": [
    {
     "data": {
      "text/plain": [
       "(1.89, 1.421464108031272)"
      ]
     },
     "execution_count": 75,
     "metadata": {},
     "output_type": "execute_result"
    }
   ],
   "source": [
    "pmf.mean(), unbiased.mean()"
   ]
  },
  {
   "cell_type": "markdown",
   "metadata": {
    "tags": []
   },
   "source": [
    "In the individual-based sample, most prisoners serve one sentence; only 28% are recidivists.\n",
    "That's substantially lower than the recidivism rate in the event-based sample, which is 49%.\n"
   ]
  },
  {
   "cell_type": "markdown",
   "metadata": {
    "tags": []
   },
   "source": [
    "Probably Overthinking It\n",
    "\n",
    "Copyright 2022 Allen Downey \n",
    "\n",
    "The code in this notebook and `utils.py` is under the [MIT license](https://mit-license.org/)."
   ]
  }
 ],
 "metadata": {
  "celltoolbar": "Tags",
  "kernelspec": {
   "display_name": "Python 3 (ipykernel)",
   "language": "python",
   "name": "python3"
  },
  "language_info": {
   "codemirror_mode": {
    "name": "ipython",
    "version": 3
   },
   "file_extension": ".py",
   "mimetype": "text/x-python",
   "name": "python",
   "nbconvert_exporter": "python",
   "pygments_lexer": "ipython3",
   "version": "3.10.5"
  }
 },
 "nbformat": 4,
 "nbformat_minor": 2
}
