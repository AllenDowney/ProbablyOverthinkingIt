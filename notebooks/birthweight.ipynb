{
 "cells": [
  {
   "cell_type": "markdown",
   "metadata": {
    "tags": []
   },
   "source": [
    "# Causation, Collision, and Confusion\n"
   ]
  },
  {
   "cell_type": "markdown",
   "metadata": {
    "tags": []
   },
   "source": [
    "This is one of the Jupyter notebooks I used in my preparation of *Probably Overthinking It: How to Use Data to Answer Questions, Avoid Statistical Traps, and Make Better Decisions*.\n",
    "\n",
    "The book is scheduled to be published by University of Chicago Press in 2023.\n",
    "If you would like to get infrequent email announcements about the book, please\n",
    "[sign up for my mailing list](http://eepurl.com/h0nfbX).\n",
    "\n",
    "Before you read these notebooks, please keep in mind:\n",
    "\n",
    "* There is some explanatory text in the notebooks, but some of the examples will not make sense until you have read the corresponding chapter in the book.\n",
    "\n",
    "* While preparing these notebooks, I made some changes to improve the readability of the code. There might be small differences between what appears in the book and what you get when you run the code."
   ]
  },
  {
   "cell_type": "markdown",
   "metadata": {
    "tags": []
   },
   "source": [
    "[Click here to run this notebook on Colab](https://colab.research.google.com/github/AllenDowney/ProbablyOverthinkingIt/blob/book/notebooks/birthweight.ipynb)."
   ]
  },
  {
   "cell_type": "code",
   "execution_count": 1,
   "metadata": {
    "tags": []
   },
   "outputs": [],
   "source": [
    "# Install empiricaldist if we don't already have it\n",
    "\n",
    "try:\n",
    "    import empiricaldist\n",
    "except ImportError:\n",
    "    !pip install empiricaldist"
   ]
  },
  {
   "cell_type": "code",
   "execution_count": 2,
   "metadata": {
    "tags": []
   },
   "outputs": [],
   "source": [
    "# download utils.py\n",
    "\n",
    "from os.path import basename, exists\n",
    "\n",
    "def download(url):\n",
    "    filename = basename(url)\n",
    "    if not exists(filename):\n",
    "        from urllib.request import urlretrieve\n",
    "        local, _ = urlretrieve(url, filename)\n",
    "        print('Downloaded ' + local)\n",
    "        \n",
    "download(\"https://github.com/AllenDowney/ProbablyOverthinkingIt/raw/book/notebooks/utils.py\")"
   ]
  },
  {
   "cell_type": "code",
   "execution_count": 3,
   "metadata": {
    "tags": []
   },
   "outputs": [],
   "source": [
    "import pandas as pd\n",
    "import numpy as np\n",
    "import matplotlib.pyplot as plt\n",
    "\n",
    "from utils import decorate\n",
    "\n",
    "# Set the random seed so we get the same results every time\n",
    "np.random.seed(17)"
   ]
  },
  {
   "cell_type": "markdown",
   "metadata": {
    "tags": []
   },
   "source": [
    "The Low Birthweight Paradox was born in 1971, when Jacob Yerushalmy, a researcher at U.C. Berkeley, published \"The relationship of parents' cigarette smoking to outcome of pregnancy -- implications as to the problem of inferring causation from observed associations\".\n",
    "As the title suggests, the paper is about the relationship between smoking during pregnancy, the weight of babies at birth, and mortality in the first month of life.\n",
    "\n",
    "Based on data from about 13,000 babies born near San Francisco between 1960 and 1967, Yerushalmy reported that\n",
    "\n",
    "* Babies of mothers who smoked were about 6% lighter at birth. \n",
    "\n",
    "* Smokers were about twice as likely to have babies lighter than 2500 grams, which is considered \"low birthweight\".\n",
    "\n",
    "* Low-birthweight babies were much more likely to die within a month of birth: the mortality rate was 174 per 1000 for low-birthweight babies and 7.8 per 1000 for others.\n",
    "\n",
    "These results were not surprising. At that time, it was well known that children of smokers were lighter at birth, and that low-birthweight babies were more likely to die."
   ]
  },
  {
   "cell_type": "markdown",
   "metadata": {},
   "source": [
    "In the first part of this notebook, there are several cells like the following that compute percentages based on numbers from tables in Yerushalmy's paper."
   ]
  },
  {
   "cell_type": "code",
   "execution_count": 4,
   "metadata": {
    "tags": []
   },
   "outputs": [
    {
     "data": {
      "text/plain": [
       "6.42089093701997"
      ]
     },
     "execution_count": 4,
     "metadata": {},
     "output_type": "execute_result"
    }
   ],
   "source": [
    "(3464 - 3255) / 3255 * 100"
   ]
  },
  {
   "cell_type": "markdown",
   "metadata": {
    "tags": []
   },
   "source": [
    "Putting those results together, you might expect mortality rates to be higher for children of smokers.\n",
    "And you would be right, but the difference was not very big. For White mothers, the mortality rate was 11.3 per 1000 for children of smokers, compared to 11.0 for children of nonsmokers.\n",
    "\n",
    "That's strange, but it gets even stranger. If we select only the low-birthweight (LBW) babies, we find:\n",
    "\n",
    "* For LBW babies of nonsmokers, the mortality rate was 218 per 1000; \n",
    "\n",
    "* For LBW babies of smokers, it was only 114 per 1000, about 48% lower."
   ]
  },
  {
   "cell_type": "code",
   "execution_count": 5,
   "metadata": {
    "tags": []
   },
   "outputs": [
    {
     "data": {
      "text/plain": [
       "47.706422018348626"
      ]
     },
     "execution_count": 5,
     "metadata": {},
     "output_type": "execute_result"
    }
   ],
   "source": [
    "(218 - 114) / 218 * 100"
   ]
  },
  {
   "cell_type": "markdown",
   "metadata": {
    "tags": []
   },
   "source": [
    "Yerushalmy also compared rates of congenital anomalies (birth defects).\n",
    "\n",
    "* For LBW babies of nonsmokers, the rate was 147 per 1000,\n",
    "\n",
    "* For LBW babies of smokers, it was 72 per 1000, about 53% lower. \n",
    "\n",
    "These results make maternal smoking seem *beneficial* for low-birthweight babies, somehow protecting them from birth defects and mortality.\n",
    "Yerushalmy concluded:\n",
    "\n",
    "> These paradoxical findings raise doubts and argue against the proposition that cigarette smoking acts as an exogenous factor which interferes with intrauterine development of the fetus.\n",
    "\n",
    "In other words, maybe maternal smoking isn't bad for babies after all."
   ]
  },
  {
   "cell_type": "code",
   "execution_count": 6,
   "metadata": {
    "tags": []
   },
   "outputs": [
    {
     "data": {
      "text/plain": [
       "0.528169014084507"
      ]
     },
     "execution_count": 6,
     "metadata": {},
     "output_type": "execute_result"
    }
   ],
   "source": [
    "(147 - 72) / 142"
   ]
  },
  {
   "cell_type": "markdown",
   "metadata": {
    "tags": []
   },
   "source": [
    "But it was a mistake.\n",
    "At the risk of giving away the ending, the Low Birthweight Paradox is a statistical artifact.\n",
    "In fact, maternal smoking is harmful to babies, regardless of birthweight.\n",
    "It only seems beneficial because the analysis is misleading.\n",
    "\n",
    "An explanation came in 2006 from epidemiologists at Harvard University and the National Institutes of Health (NIH), based on data from 3 million babies born in 1991.\n",
    "Using the same dataset, which is available from the National Center for Health Statistics (NCHS), I will replicate their results and summarize their explanation.\n",
    "Then I'll repeat the analysis with data from 2018, and we'll see what has changed."
   ]
  },
  {
   "cell_type": "markdown",
   "metadata": {
    "tags": []
   },
   "source": [
    "## Three Million Babies Can't Be Wrong"
   ]
  },
  {
   "cell_type": "markdown",
   "metadata": {
    "tags": []
   },
   "source": [
    "The data are originally from the [National Center for Health Statistics (NCHS)](https://www.cdc.gov/nchs/data_access/vitalstatsonline.htm).\n",
    "\n",
    "I selected the columns we need and stored them in a compressed HDF file."
   ]
  },
  {
   "cell_type": "code",
   "execution_count": 7,
   "metadata": {},
   "outputs": [],
   "source": [
    "DATA_PATH = \"https://github.com/AllenDowney/ProbablyOverthinkingIt/raw/book/data/\"\n",
    "\n",
    "download(DATA_PATH + \"nchs.hdf\")"
   ]
  },
  {
   "cell_type": "code",
   "execution_count": 8,
   "metadata": {
    "tags": []
   },
   "outputs": [
    {
     "data": {
      "text/plain": [
       "(4115493, 5)"
      ]
     },
     "execution_count": 8,
     "metadata": {},
     "output_type": "execute_result"
    }
   ],
   "source": [
    "vs1991 = pd.read_hdf(\"nchs.hdf\", \"vs1991\")\n",
    "vs1991.shape"
   ]
  },
  {
   "cell_type": "markdown",
   "metadata": {},
   "source": [
    "If age of death is NaN, that means the baby survived."
   ]
  },
  {
   "cell_type": "code",
   "execution_count": 9,
   "metadata": {
    "tags": []
   },
   "outputs": [
    {
     "data": {
      "text/plain": [
       "False    4079973\n",
       "True       35520\n",
       "Name: mort, dtype: int64"
      ]
     },
     "execution_count": 9,
     "metadata": {},
     "output_type": "execute_result"
    }
   ],
   "source": [
    "vs1991[\"mort\"] = vs1991[\"aged\"].notnull()\n",
    "vs1991[\"mort\"].value_counts()"
   ]
  },
  {
   "cell_type": "markdown",
   "metadata": {},
   "source": [
    "Recode the tobacco variable."
   ]
  },
  {
   "cell_type": "code",
   "execution_count": 10,
   "metadata": {
    "tags": []
   },
   "outputs": [
    {
     "data": {
      "text/plain": [
       "2.0    2471563\n",
       "1.0     533202\n",
       "Name: tobacco, dtype: int64"
      ]
     },
     "execution_count": 10,
     "metadata": {},
     "output_type": "execute_result"
    }
   ],
   "source": [
    "vs1991[\"tobacco\"].replace([9], np.nan, inplace=True)\n",
    "vs1991[\"tobacco\"].value_counts()"
   ]
  },
  {
   "cell_type": "code",
   "execution_count": 11,
   "metadata": {
    "tags": []
   },
   "outputs": [
    {
     "data": {
      "text/html": [
       "<div>\n",
       "<style scoped>\n",
       "    .dataframe tbody tr th:only-of-type {\n",
       "        vertical-align: middle;\n",
       "    }\n",
       "\n",
       "    .dataframe tbody tr th {\n",
       "        vertical-align: top;\n",
       "    }\n",
       "\n",
       "    .dataframe thead th {\n",
       "        text-align: right;\n",
       "    }\n",
       "</style>\n",
       "<table border=\"1\" class=\"dataframe\">\n",
       "  <thead>\n",
       "    <tr style=\"text-align: right;\">\n",
       "      <th></th>\n",
       "      <th>probs</th>\n",
       "    </tr>\n",
       "  </thead>\n",
       "  <tbody>\n",
       "    <tr>\n",
       "      <th>1.0</th>\n",
       "      <td>0.177452</td>\n",
       "    </tr>\n",
       "    <tr>\n",
       "      <th>2.0</th>\n",
       "      <td>0.822548</td>\n",
       "    </tr>\n",
       "  </tbody>\n",
       "</table>\n",
       "</div>"
      ],
      "text/plain": [
       "1.0    0.177452\n",
       "2.0    0.822548\n",
       "Name: , dtype: float64"
      ]
     },
     "execution_count": 11,
     "metadata": {},
     "output_type": "execute_result"
    }
   ],
   "source": [
    "from empiricaldist import Pmf\n",
    "\n",
    "Pmf.from_seq(vs1991[\"tobacco\"])"
   ]
  },
  {
   "cell_type": "markdown",
   "metadata": {},
   "source": [
    "Getting some numbers from the paper into a PMF."
   ]
  },
  {
   "cell_type": "code",
   "execution_count": 12,
   "metadata": {
    "tags": []
   },
   "outputs": [
    {
     "data": {
      "text/html": [
       "<div>\n",
       "<style scoped>\n",
       "    .dataframe tbody tr th:only-of-type {\n",
       "        vertical-align: middle;\n",
       "    }\n",
       "\n",
       "    .dataframe tbody tr th {\n",
       "        vertical-align: top;\n",
       "    }\n",
       "\n",
       "    .dataframe thead th {\n",
       "        text-align: right;\n",
       "    }\n",
       "</style>\n",
       "<table border=\"1\" class=\"dataframe\">\n",
       "  <thead>\n",
       "    <tr style=\"text-align: right;\">\n",
       "      <th></th>\n",
       "      <th>probs</th>\n",
       "    </tr>\n",
       "  </thead>\n",
       "  <tbody>\n",
       "    <tr>\n",
       "      <th>Nonsmoker</th>\n",
       "      <td>0.633341</td>\n",
       "    </tr>\n",
       "    <tr>\n",
       "      <th>Smoker</th>\n",
       "      <td>0.366659</td>\n",
       "    </tr>\n",
       "  </tbody>\n",
       "</table>\n",
       "</div>"
      ],
      "text/plain": [
       "Nonsmoker    0.633341\n",
       "Smoker       0.366659\n",
       "Name: , dtype: float64"
      ]
     },
     "execution_count": 12,
     "metadata": {},
     "output_type": "execute_result"
    }
   ],
   "source": [
    "white = np.array([6067, 3726])\n",
    "black = np.array([2219, 1071])\n",
    "\n",
    "pmf = Pmf(white + black, index=[\"Nonsmoker\", \"Smoker\"])\n",
    "pmf.normalize()\n",
    "pmf"
   ]
  },
  {
   "cell_type": "markdown",
   "metadata": {},
   "source": [
    "Checking the distribution of birthweights."
   ]
  },
  {
   "cell_type": "code",
   "execution_count": 14,
   "metadata": {
    "tags": []
   },
   "outputs": [
    {
     "data": {
      "text/plain": [
       "<Axes: >"
      ]
     },
     "execution_count": 14,
     "metadata": {},
     "output_type": "execute_result"
    },
    {
     "data": {
      "image/png": "[encoded data removed]",
      "text/plain": [
       "<Figure size 450x225 with 1 Axes>"
      ]
     },
     "metadata": {},
     "output_type": "display_data"
    }
   ],
   "source": [
    "from empiricaldist import Cdf\n",
    "\n",
    "vs1991[\"birthweight\"].replace([7777, 9999], np.nan, inplace=True)\n",
    "Cdf.from_seq(vs1991[\"birthweight\"]).plot()"
   ]
  },
  {
   "cell_type": "code",
   "execution_count": 15,
   "metadata": {
    "tags": []
   },
   "outputs": [
    {
     "data": {
      "text/plain": [
       "1282965    8164.0\n",
       "2328658    8164.0\n",
       "2345800    8147.0\n",
       "3078492    8108.0\n",
       "1407733    7966.0\n",
       "3037159    7965.0\n",
       "2395933    7910.0\n",
       "3046903    7890.0\n",
       "2513239    7889.0\n",
       "2582863    7880.0\n",
       "Name: birthweight, dtype: float64"
      ]
     },
     "execution_count": 15,
     "metadata": {},
     "output_type": "execute_result"
    }
   ],
   "source": [
    "vs1991[\"birthweight\"].nlargest(10)"
   ]
  },
  {
   "cell_type": "markdown",
   "metadata": {},
   "source": [
    "Flagging low birthweight babies."
   ]
  },
  {
   "cell_type": "code",
   "execution_count": 16,
   "metadata": {
    "tags": []
   },
   "outputs": [],
   "source": [
    "vs1991[\"lbw\"] = vs1991[\"birthweight\"] < 2500"
   ]
  },
  {
   "cell_type": "markdown",
   "metadata": {},
   "source": [
    "Dividing birthweights into bins."
   ]
  },
  {
   "cell_type": "code",
   "execution_count": 17,
   "metadata": {
    "tags": []
   },
   "outputs": [
    {
     "data": {
      "text/plain": [
       "array([1000, 1250, 1500, 1750, 2000, 2250, 2500, 2750, 3000, 3250, 3500,\n",
       "       3750, 4000, 4250, 4500, 4750])"
      ]
     },
     "execution_count": 17,
     "metadata": {},
     "output_type": "execute_result"
    }
   ],
   "source": [
    "bins = np.arange(1000, 5000, 250)\n",
    "bins"
   ]
  },
  {
   "cell_type": "code",
   "execution_count": 18,
   "metadata": {
    "tags": []
   },
   "outputs": [
    {
     "data": {
      "text/plain": [
       "(1000, 1250]     12374\n",
       "(1250, 1500]     14661\n",
       "(1500, 1750]     21393\n",
       "(1750, 2000]     34816\n",
       "(2000, 2250]     61218\n",
       "(2250, 2500]    123119\n",
       "(2500, 2750]    246404\n",
       "(2750, 3000]    426903\n",
       "(3000, 3250]    696739\n",
       "(3250, 3500]    817652\n",
       "(3500, 3750]    712945\n",
       "(3750, 4000]    482449\n",
       "(4000, 4250]    240867\n",
       "(4250, 4500]    122762\n",
       "(4500, 4750]     46395\n",
       "Name: bin, dtype: int64"
      ]
     },
     "execution_count": 18,
     "metadata": {},
     "output_type": "execute_result"
    }
   ],
   "source": [
    "vs1991[\"bin\"] = pd.cut(vs1991[\"birthweight\"], bins)\n",
    "vs1991[\"bin\"].value_counts().sort_index()"
   ]
  },
  {
   "cell_type": "markdown",
   "metadata": {},
   "source": [
    "Checking the codes for congenital birth defects."
   ]
  },
  {
   "cell_type": "code",
   "execution_count": 19,
   "metadata": {
    "tags": []
   },
   "outputs": [
    {
     "data": {
      "text/plain": [
       "2222222222222222222222    3556241\n",
       "9999999999999999999999     498038\n",
       "2222222222222222222221      23448\n",
       "2222222222222222221222       5843\n",
       "2222221222222222222222       3771\n",
       "                           ...   \n",
       "2222211112112122221222          1\n",
       "2222121222122222222222          1\n",
       "2212122222221221222222          1\n",
       "2222222122222211222222          1\n",
       "2222122222122222122222          1\n",
       "Name: congenit, Length: 1008, dtype: int64"
      ]
     },
     "execution_count": 19,
     "metadata": {},
     "output_type": "execute_result"
    }
   ],
   "source": [
    "vs1991[\"congenit\"].value_counts()"
   ]
  },
  {
   "cell_type": "markdown",
   "metadata": {},
   "source": [
    "Each code is a vector that indicates the presence or absence of a particular condition. All 2's means no anomalies. "
   ]
  },
  {
   "cell_type": "code",
   "execution_count": 20,
   "metadata": {
    "tags": []
   },
   "outputs": [
    {
     "data": {
      "text/plain": [
       "False    3556241\n",
       "True      559252\n",
       "Name: anomaly, dtype: int64"
      ]
     },
     "execution_count": 20,
     "metadata": {},
     "output_type": "execute_result"
    }
   ],
   "source": [
    "vs1991[\"anomaly\"] = vs1991[\"congenit\"] != \"2222222222222222222222\"\n",
    "vs1991[\"anomaly\"].value_counts()"
   ]
  },
  {
   "cell_type": "code",
   "execution_count": 21,
   "metadata": {
    "tags": []
   },
   "outputs": [
    {
     "data": {
      "text/plain": [
       "3556241"
      ]
     },
     "execution_count": 21,
     "metadata": {},
     "output_type": "execute_result"
    }
   ],
   "source": [
    "no_defect = vs1991[\"congenit\"] == \"2222222222222222222222\"\n",
    "no_defect.sum()"
   ]
  },
  {
   "cell_type": "code",
   "execution_count": 22,
   "metadata": {
    "tags": []
   },
   "outputs": [
    {
     "data": {
      "text/plain": [
       "498038"
      ]
     },
     "execution_count": 22,
     "metadata": {},
     "output_type": "execute_result"
    }
   ],
   "source": [
    "unknown = vs1991[\"congenit\"] == \"9999999999999999999999\"\n",
    "vs1991.loc[unknown, \"anomaly\"] = np.nan\n",
    "unknown.sum()"
   ]
  },
  {
   "cell_type": "code",
   "execution_count": 23,
   "metadata": {
    "tags": []
   },
   "outputs": [
    {
     "data": {
      "text/plain": [
       "61214"
      ]
     },
     "execution_count": 23,
     "metadata": {},
     "output_type": "execute_result"
    }
   ],
   "source": [
    "known_defect = (~no_defect) & (~unknown)\n",
    "known_defect.sum()"
   ]
  },
  {
   "cell_type": "markdown",
   "metadata": {
    "tags": []
   },
   "source": [
    "If we select cases with known tobacco use and birthweight, we're down to about three million live births."
   ]
  },
  {
   "cell_type": "code",
   "execution_count": 24,
   "metadata": {
    "tags": []
   },
   "outputs": [
    {
     "data": {
      "text/plain": [
       "(3001607, 9)"
      ]
     },
     "execution_count": 24,
     "metadata": {},
     "output_type": "execute_result"
    }
   ],
   "source": [
    "subset = vs1991.dropna(subset=[\"tobacco\", \"birthweight\"])\n",
    "subset.shape"
   ]
  },
  {
   "cell_type": "code",
   "execution_count": 25,
   "metadata": {
    "tags": []
   },
   "outputs": [
    {
     "name": "stdout",
     "output_type": "stream",
     "text": [
      "1.0 20.599922088040515\n",
      "2.0 18.1934659988842\n"
     ]
    }
   ],
   "source": [
    "for name, group in subset.groupby(\"tobacco\"):\n",
    "    print(name, group[\"anomaly\"].mean() * 1000)"
   ]
  },
  {
   "cell_type": "code",
   "execution_count": 26,
   "metadata": {
    "tags": []
   },
   "outputs": [],
   "source": [
    "def percent_diff(x, rel):\n",
    "    \"\"\"Percentage difference.\n",
    "\n",
    "    x: the number of interest\n",
    "    rel: the number it is relative to\n",
    "\n",
    "    returns: float percent\n",
    "    \"\"\"\n",
    "    return (x - rel) / rel * 100"
   ]
  },
  {
   "cell_type": "code",
   "execution_count": 27,
   "metadata": {
    "tags": []
   },
   "outputs": [
    {
     "data": {
      "text/plain": [
       "13.186813186813199"
      ]
     },
     "execution_count": 27,
     "metadata": {},
     "output_type": "execute_result"
    }
   ],
   "source": [
    "percent_diff(20.6, 18.2)"
   ]
  },
  {
   "cell_type": "code",
   "execution_count": 28,
   "metadata": {
    "tags": []
   },
   "outputs": [
    {
     "data": {
      "text/plain": [
       "(2816996, 9)"
      ]
     },
     "execution_count": 28,
     "metadata": {},
     "output_type": "execute_result"
    }
   ],
   "source": [
    "subset_no_defect = subset[subset[\"anomaly\"] == 0]\n",
    "subset_no_defect.shape"
   ]
  },
  {
   "cell_type": "code",
   "execution_count": 29,
   "metadata": {
    "tags": []
   },
   "outputs": [
    {
     "data": {
      "text/plain": [
       "tobacco\n",
       "1.0    3145.189278\n",
       "2.0    3370.030102\n",
       "Name: birthweight, dtype: float64"
      ]
     },
     "execution_count": 29,
     "metadata": {},
     "output_type": "execute_result"
    }
   ],
   "source": [
    "weights = subset.groupby(\"tobacco\")[\"birthweight\"].mean()\n",
    "weights"
   ]
  },
  {
   "cell_type": "code",
   "execution_count": 30,
   "metadata": {
    "tags": []
   },
   "outputs": [
    {
     "data": {
      "text/plain": [
       "-6.6765578635014835"
      ]
     },
     "execution_count": 30,
     "metadata": {},
     "output_type": "execute_result"
    }
   ],
   "source": [
    "percent_diff(3145, 3370)"
   ]
  },
  {
   "cell_type": "markdown",
   "metadata": {
    "tags": []
   },
   "source": [
    "In the 1991 data from NCHS, about 18% of the mothers reported smoking during pregnancy, down from 37% in Yerushalmy's dataset from the 1960s.\n",
    "Babies of smokers were lighter on average than babies of nonsmokers by about 7%, which is comparable to the difference in the 1960s data.\n",
    "\n",
    "The following figure shows the distribution of weights for the two groups. The vertical line is at 2500 grams, the threshold for low birthweight."
   ]
  },
  {
   "cell_type": "code",
   "execution_count": 31,
   "metadata": {
    "tags": []
   },
   "outputs": [
    {
     "data": {
      "image/png": "[encoded data removed]",
      "text/plain": [
       "<Figure size 450x225 with 1 Axes>"
      ]
     },
     "metadata": {},
     "output_type": "display_data"
    }
   ],
   "source": [
    "from utils import kdeplot\n",
    "\n",
    "labels = {1: \"Smokers\", 2: \"Nonsmokers\"}\n",
    "ls = {1: \"-\", 2: \"--\"}\n",
    "\n",
    "xs = np.linspace(subset[\"birthweight\"].min(), subset[\"birthweight\"].max(), 101)\n",
    "for name, group in subset.groupby(\"tobacco\"):\n",
    "    kdeplot(group[\"birthweight\"], xs, label=labels[name], ls=ls[name])\n",
    "\n",
    "plt.axvline(2500, color=\"gray\", ls=\":\", alpha=0.5)\n",
    "decorate(\n",
    "    xlabel=\"Birthweight (grams)\",\n",
    "    ylabel=\"Relative likelihood\",\n",
    "    title=\"Distributions of birthweights\",\n",
    "    xlim=[0, 6000],\n",
    ")"
   ]
  },
  {
   "cell_type": "markdown",
   "metadata": {
    "tags": []
   },
   "source": [
    "The shapes of the distributions are similar, but for smokers it is shifted to the left.\n",
    "For mothers who smoked, the fraction of babies below 2500 grams is about 11%; for nonsmokers it is only 6%."
   ]
  },
  {
   "cell_type": "code",
   "execution_count": 32,
   "metadata": {
    "tags": []
   },
   "outputs": [
    {
     "data": {
      "text/plain": [
       "0.07262476400141657"
      ]
     },
     "execution_count": 32,
     "metadata": {},
     "output_type": "execute_result"
    }
   ],
   "source": [
    "subset[\"lbw\"].mean()"
   ]
  },
  {
   "cell_type": "code",
   "execution_count": 33,
   "metadata": {
    "tags": []
   },
   "outputs": [
    {
     "name": "stdout",
     "output_type": "stream",
     "text": [
      "1.0 0.11421285960264155\n",
      "2.0 0.06365429478663773\n"
     ]
    }
   ],
   "source": [
    "for name, group in subset.groupby(\"tobacco\"):\n",
    "    lbw_rate = group[\"lbw\"].mean()\n",
    "    print(name, lbw_rate)"
   ]
  },
  {
   "cell_type": "code",
   "execution_count": 34,
   "metadata": {
    "tags": []
   },
   "outputs": [
    {
     "data": {
      "text/plain": [
       "78.125"
      ]
     },
     "execution_count": 34,
     "metadata": {},
     "output_type": "execute_result"
    }
   ],
   "source": [
    "percent_diff(11.4, 6.4)"
   ]
  },
  {
   "cell_type": "code",
   "execution_count": 35,
   "metadata": {
    "tags": []
   },
   "outputs": [
    {
     "data": {
      "text/plain": [
       "12.960888175494917"
      ]
     },
     "execution_count": 35,
     "metadata": {},
     "output_type": "execute_result"
    }
   ],
   "source": [
    "(9793 * 11.1 + 3290 * 18.5) / (9793 + 3290)"
   ]
  },
  {
   "cell_type": "code",
   "execution_count": 36,
   "metadata": {
    "tags": []
   },
   "outputs": [
    {
     "data": {
      "text/plain": [
       "8.449473898481713"
      ]
     },
     "execution_count": 36,
     "metadata": {},
     "output_type": "execute_result"
    }
   ],
   "source": [
    "subset[\"mort\"].mean() * 1000"
   ]
  },
  {
   "cell_type": "markdown",
   "metadata": {
    "tags": []
   },
   "source": [
    "Overall infant mortality was substantially lower in 1991. \n",
    "In the 1960s dataset, about 13 per 1000 babies died within the first *month* of life; in 1991, about 8.5 per 1000 died in the first *year*.   \n",
    "\n",
    "In 1991, the mortality rate was higher for babies of smokers, almost 12 per 1000, than babies of nonsmokers, 7.7 per 1000.\n",
    "So the risk of mortality was 54% higher for babies of mothers who smoked."
   ]
  },
  {
   "cell_type": "code",
   "execution_count": 37,
   "metadata": {
    "tags": []
   },
   "outputs": [
    {
     "name": "stdout",
     "output_type": "stream",
     "text": [
      "1.0 11.874562261649707\n",
      "2.0 7.71068917473998\n"
     ]
    }
   ],
   "source": [
    "for name, group in subset.groupby(\"tobacco\"):\n",
    "    rate = group[\"mort\"].mean() * 1000\n",
    "    print(name, rate)"
   ]
  },
  {
   "cell_type": "code",
   "execution_count": 38,
   "metadata": {
    "tags": []
   },
   "outputs": [
    {
     "data": {
      "text/plain": [
       "53.95590142671855"
      ]
     },
     "execution_count": 38,
     "metadata": {},
     "output_type": "execute_result"
    }
   ],
   "source": [
    "percent_diff(1187, 771)"
   ]
  },
  {
   "cell_type": "markdown",
   "metadata": {
    "tags": []
   },
   "source": [
    "In summary, babies of mothers who smoked were about twice as likely to be underweight, and underweight babies were about 50% more likely to die.\n",
    "However, if we select babies lighter than 2500 grams, the mortality rate is 20% *lower* for babies of smokers, compared to LBW babies of nonsmokers."
   ]
  },
  {
   "cell_type": "code",
   "execution_count": 39,
   "metadata": {
    "tags": []
   },
   "outputs": [
    {
     "name": "stdout",
     "output_type": "stream",
     "text": [
      "1.0 60.138756452832666\n",
      "2.0 74.8512709572742\n"
     ]
    }
   ],
   "source": [
    "for name, group in subset[subset[\"lbw\"]].groupby(\"tobacco\"):\n",
    "    rate = group[\"mort\"].mean() * 1000\n",
    "    print(name, rate)"
   ]
  },
  {
   "cell_type": "code",
   "execution_count": 40,
   "metadata": {
    "tags": []
   },
   "outputs": [
    {
     "data": {
      "text/plain": [
       "-19.70607882431529"
      ]
     },
     "execution_count": 40,
     "metadata": {},
     "output_type": "execute_result"
    }
   ],
   "source": [
    "percent_diff(60.1, 74.85)"
   ]
  },
  {
   "cell_type": "markdown",
   "metadata": {
    "tags": []
   },
   "source": [
    "The analysis so far is based on only two groups, babies born lighter or heavier than 2500 grams.\n",
    "But it might be a mistake to lump all LBW babies together.\n",
    "In reality, a baby born close to 2500 grams has a better chance of surviving than a baby born at 1500 grams.\n",
    "\n",
    "So, following the analysis in the 2006 paper, I partitioned the dataset into groups with similar birthweight and computed the mortality rate in each group.\n",
    "The following figure shows the results."
   ]
  },
  {
   "cell_type": "code",
   "execution_count": 41,
   "metadata": {
    "tags": []
   },
   "outputs": [
    {
     "data": {
      "text/html": [
       "<div>\n",
       "<style scoped>\n",
       "    .dataframe tbody tr th:only-of-type {\n",
       "        vertical-align: middle;\n",
       "    }\n",
       "\n",
       "    .dataframe tbody tr th {\n",
       "        vertical-align: top;\n",
       "    }\n",
       "\n",
       "    .dataframe thead th {\n",
       "        text-align: right;\n",
       "    }\n",
       "</style>\n",
       "<table border=\"1\" class=\"dataframe\">\n",
       "  <thead>\n",
       "    <tr style=\"text-align: right;\">\n",
       "      <th>tobacco</th>\n",
       "      <th>1.0</th>\n",
       "      <th>2.0</th>\n",
       "    </tr>\n",
       "  </thead>\n",
       "  <tbody>\n",
       "    <tr>\n",
       "      <th>1125.0</th>\n",
       "      <td>102.376600</td>\n",
       "      <td>106.864725</td>\n",
       "    </tr>\n",
       "    <tr>\n",
       "      <th>1375.0</th>\n",
       "      <td>65.099458</td>\n",
       "      <td>72.467402</td>\n",
       "    </tr>\n",
       "    <tr>\n",
       "      <th>1625.0</th>\n",
       "      <td>43.963878</td>\n",
       "      <td>48.194837</td>\n",
       "    </tr>\n",
       "    <tr>\n",
       "      <th>1875.0</th>\n",
       "      <td>31.085935</td>\n",
       "      <td>32.530380</td>\n",
       "    </tr>\n",
       "    <tr>\n",
       "      <th>2125.0</th>\n",
       "      <td>22.160247</td>\n",
       "      <td>20.968439</td>\n",
       "    </tr>\n",
       "    <tr>\n",
       "      <th>2375.0</th>\n",
       "      <td>16.087278</td>\n",
       "      <td>13.399794</td>\n",
       "    </tr>\n",
       "    <tr>\n",
       "      <th>2625.0</th>\n",
       "      <td>9.483955</td>\n",
       "      <td>7.970344</td>\n",
       "    </tr>\n",
       "    <tr>\n",
       "      <th>2875.0</th>\n",
       "      <td>7.015749</td>\n",
       "      <td>4.987658</td>\n",
       "    </tr>\n",
       "    <tr>\n",
       "      <th>3125.0</th>\n",
       "      <td>5.610098</td>\n",
       "      <td>3.629459</td>\n",
       "    </tr>\n",
       "    <tr>\n",
       "      <th>3375.0</th>\n",
       "      <td>5.005695</td>\n",
       "      <td>2.534403</td>\n",
       "    </tr>\n",
       "    <tr>\n",
       "      <th>3625.0</th>\n",
       "      <td>3.994581</td>\n",
       "      <td>2.394741</td>\n",
       "    </tr>\n",
       "    <tr>\n",
       "      <th>3875.0</th>\n",
       "      <td>4.040855</td>\n",
       "      <td>1.983212</td>\n",
       "    </tr>\n",
       "    <tr>\n",
       "      <th>4125.0</th>\n",
       "      <td>3.064351</td>\n",
       "      <td>1.966262</td>\n",
       "    </tr>\n",
       "    <tr>\n",
       "      <th>4375.0</th>\n",
       "      <td>4.212744</td>\n",
       "      <td>2.005241</td>\n",
       "    </tr>\n",
       "    <tr>\n",
       "      <th>4625.0</th>\n",
       "      <td>5.084083</td>\n",
       "      <td>2.539889</td>\n",
       "    </tr>\n",
       "  </tbody>\n",
       "</table>\n",
       "</div>"
      ],
      "text/plain": [
       "tobacco         1.0         2.0\n",
       "1125.0   102.376600  106.864725\n",
       "1375.0    65.099458   72.467402\n",
       "1625.0    43.963878   48.194837\n",
       "1875.0    31.085935   32.530380\n",
       "2125.0    22.160247   20.968439\n",
       "2375.0    16.087278   13.399794\n",
       "2625.0     9.483955    7.970344\n",
       "2875.0     7.015749    4.987658\n",
       "3125.0     5.610098    3.629459\n",
       "3375.0     5.005695    2.534403\n",
       "3625.0     3.994581    2.394741\n",
       "3875.0     4.040855    1.983212\n",
       "4125.0     3.064351    1.966262\n",
       "4375.0     4.212744    2.005241\n",
       "4625.0     5.084083    2.539889"
      ]
     },
     "execution_count": 41,
     "metadata": {},
     "output_type": "execute_result"
    }
   ],
   "source": [
    "table = pd.pivot_table(subset, index=\"bin\", columns=\"tobacco\", values=\"mort\")\n",
    "table *= 1000\n",
    "table.index = bins[:-1] + np.diff(bins) / 2\n",
    "table"
   ]
  },
  {
   "cell_type": "code",
   "execution_count": 42,
   "metadata": {
    "scrolled": false,
    "tags": []
   },
   "outputs": [],
   "source": [
    "def plot_table(table, title):\n",
    "    table[1].plot(label=\"Smoker\")\n",
    "    table[2].plot(ls=\"--\", label=\"Nonsmoker\")\n",
    "\n",
    "    decorate(\n",
    "        xlabel=\"Birth weight (grams)\",\n",
    "        ylabel=\"Mortality rate per 1000\",\n",
    "        title=title,\n",
    "    )"
   ]
  },
  {
   "cell_type": "code",
   "execution_count": 43,
   "metadata": {
    "scrolled": true,
    "tags": []
   },
   "outputs": [
    {
     "data": {
      "image/png": "[encoded data removed]",
      "text/plain": [
       "<Figure size 450x225 with 1 Axes>"
      ]
     },
     "metadata": {},
     "output_type": "display_data"
    }
   ],
   "source": [
    "plot_table(table, \"Mortality rate vs birthweight, NCHS 1991\")"
   ]
  },
  {
   "cell_type": "markdown",
   "metadata": {
    "tags": []
   },
   "source": [
    "This figure provides a more detailed view of the Low Birthweight Paradox.\n",
    "Among babies heavier than 2000 grams, mortality is higher for children of smokers, as expected.\n",
    "Among lighter babies, mortality is lower for children of smokers."
   ]
  },
  {
   "cell_type": "markdown",
   "metadata": {
    "tags": []
   },
   "source": [
    "## Other Groups\n",
    "\n",
    "As it turns out, the Low Birthweight Paradox doesn't apply only to smokers and nonsmokers.\n",
    "The 2006 paper describe a similar effect for babies born at high altitude: they are lighter on average than babies born at low altitude, but if we select LBW babies, the mortality rate is lower for the ones born at high altitude.\n",
    "\n",
    "And Yerushalmy reported another example. \n",
    "Babies of short mothers are lighter, on average, than babies of tall mothers. In his dataset, babies of short mothers were twice as likely to be LBW, but among LBW babies of short mothers, the mortality rate was 49% lower and the rate of birth defects was 34% lower."
   ]
  },
  {
   "cell_type": "markdown",
   "metadata": {
    "tags": []
   },
   "source": [
    "Yerushalmy called the relationship between smokers and nonsmokers, and between short and tall mothers, a \"remarkable parallelism\". \n",
    "But he did not recognize it as evidence that statistical bias is the explanation for both.\n",
    "Instead, he doubled down:\n",
    "\n",
    "> This comparison is presented not as proof that the differences between smokers and nonsmokers are necessarily of biological origin, rather it is to indicate that a biological hypothesis is not unreasonable.\n",
    "\n",
    "With the benefit of further research, we can see that Yerushalmy was mistaken. Smoking, high altitude, and short mothers do not protect low-birthweight babies from birth defects and mortality. Rather, they provide a relatively benign explanation for low birthweight."
   ]
  },
  {
   "cell_type": "code",
   "execution_count": 44,
   "metadata": {
    "tags": []
   },
   "outputs": [
    {
     "data": {
      "text/plain": [
       "-48.598130841121495"
      ]
     },
     "execution_count": 44,
     "metadata": {},
     "output_type": "execute_result"
    }
   ],
   "source": [
    "percent_diff(110, 214)"
   ]
  },
  {
   "cell_type": "code",
   "execution_count": 45,
   "metadata": {
    "tags": []
   },
   "outputs": [
    {
     "data": {
      "text/plain": [
       "-34.24657534246575"
      ]
     },
     "execution_count": 45,
     "metadata": {},
     "output_type": "execute_result"
    }
   ],
   "source": [
    "percent_diff(96, 146)"
   ]
  },
  {
   "cell_type": "markdown",
   "metadata": {
    "tags": []
   },
   "source": [
    "To see why, suppose four things can cause low birthweight:\n",
    "\n",
    "* The mother might be short, which is not at all harmful to the baby.\n",
    "\n",
    "* The baby might be born at high altitude, which has little if any effect on mortality.\n",
    "\n",
    "* The mother might be a smoker, which is somewhat harmful to the baby, or\n",
    "\n",
    "* The baby might have a birth defect, which greatly increases the rate of mortality."
   ]
  },
  {
   "cell_type": "markdown",
   "metadata": {
    "tags": []
   },
   "source": [
    "Now suppose you are a doctor and you hear that a baby under your care was born underweight.\n",
    "You would be concerned, because you know that the baby faces a higher than average risk of mortality.\n",
    "\n",
    "But suppose the baby was born in Santa Fe, New Mexico, at 2200 meters of elevation to a mother at only 150 cm of elevation (just under five feet).\n",
    "You would be relieved, because either of those factors might explain low birthweight, and neither implies a substantial increase in mortality.\n",
    "\n",
    "And if you learned that the mother was a smoker, that would be good news, too, because it provides another possible explanation for low birthweight, which means that the last and most harmful explanation is less likely.\n",
    "Maternal smoking is still bad for babies, but it is not as bad as birth defects."
   ]
  },
  {
   "cell_type": "markdown",
   "metadata": {
    "tags": []
   },
   "source": [
    "It is frustrating that Yerushalmy did not discover this explanation.\n",
    "In retrospect, he had all the evidence he needed, including the smoking gun (sorry!): the rates of birth defects.\n",
    "\n",
    "We've seen that LBW babies of smokers are less likely to have birth defects, but that's not because maternal smoking somehow protects babies from congenital anomalies.\n",
    "It's because low birthweight generally has a cause, and if the cause is not smoking, it is more likely to be something else, including a birth defect.\n",
    "\n",
    "We can confirm that this explanation is correct by selecting babies with no congenital anomalies observed at birth.\n",
    "If we do that, we find that babies of smokers have higher mortality rates in nearly every weight category, as expected."
   ]
  },
  {
   "cell_type": "code",
   "execution_count": 46,
   "metadata": {
    "tags": []
   },
   "outputs": [],
   "source": [
    "lbw = (subset_no_defect[\"birthweight\"] > 1000) & (\n",
    "    subset_no_defect[\"birthweight\"] < 2500\n",
    ")"
   ]
  },
  {
   "cell_type": "code",
   "execution_count": 47,
   "metadata": {
    "tags": []
   },
   "outputs": [
    {
     "data": {
      "text/plain": [
       "tobacco\n",
       "1.0    21.316747\n",
       "2.0    19.730921\n",
       "Name: mort, dtype: float64"
      ]
     },
     "execution_count": 47,
     "metadata": {},
     "output_type": "execute_result"
    }
   ],
   "source": [
    "rate = subset_no_defect[lbw].groupby(\"tobacco\")[\"mort\"].mean() * 1000\n",
    "rate"
   ]
  },
  {
   "cell_type": "code",
   "execution_count": 48,
   "metadata": {
    "tags": []
   },
   "outputs": [
    {
     "data": {
      "text/plain": [
       "8.037265001800348"
      ]
     },
     "execution_count": 48,
     "metadata": {},
     "output_type": "execute_result"
    }
   ],
   "source": [
    "percent_diff(*rate)"
   ]
  },
  {
   "cell_type": "code",
   "execution_count": 49,
   "metadata": {
    "tags": []
   },
   "outputs": [
    {
     "data": {
      "text/html": [
       "<div>\n",
       "<style scoped>\n",
       "    .dataframe tbody tr th:only-of-type {\n",
       "        vertical-align: middle;\n",
       "    }\n",
       "\n",
       "    .dataframe tbody tr th {\n",
       "        vertical-align: top;\n",
       "    }\n",
       "\n",
       "    .dataframe thead th {\n",
       "        text-align: right;\n",
       "    }\n",
       "</style>\n",
       "<table border=\"1\" class=\"dataframe\">\n",
       "  <thead>\n",
       "    <tr style=\"text-align: right;\">\n",
       "      <th>tobacco</th>\n",
       "      <th>1.0</th>\n",
       "      <th>2.0</th>\n",
       "    </tr>\n",
       "  </thead>\n",
       "  <tbody>\n",
       "    <tr>\n",
       "      <th>1125.0</th>\n",
       "      <td>90.295797</td>\n",
       "      <td>88.376720</td>\n",
       "    </tr>\n",
       "    <tr>\n",
       "      <th>1375.0</th>\n",
       "      <td>50.944947</td>\n",
       "      <td>54.970094</td>\n",
       "    </tr>\n",
       "    <tr>\n",
       "      <th>1625.0</th>\n",
       "      <td>30.974633</td>\n",
       "      <td>32.201915</td>\n",
       "    </tr>\n",
       "    <tr>\n",
       "      <th>1875.0</th>\n",
       "      <td>24.103738</td>\n",
       "      <td>21.577559</td>\n",
       "    </tr>\n",
       "    <tr>\n",
       "      <th>2125.0</th>\n",
       "      <td>17.170891</td>\n",
       "      <td>13.721836</td>\n",
       "    </tr>\n",
       "    <tr>\n",
       "      <th>2375.0</th>\n",
       "      <td>12.980332</td>\n",
       "      <td>8.864062</td>\n",
       "    </tr>\n",
       "    <tr>\n",
       "      <th>2625.0</th>\n",
       "      <td>8.139342</td>\n",
       "      <td>5.766043</td>\n",
       "    </tr>\n",
       "    <tr>\n",
       "      <th>2875.0</th>\n",
       "      <td>6.234500</td>\n",
       "      <td>3.911355</td>\n",
       "    </tr>\n",
       "    <tr>\n",
       "      <th>3125.0</th>\n",
       "      <td>5.139620</td>\n",
       "      <td>2.867080</td>\n",
       "    </tr>\n",
       "    <tr>\n",
       "      <th>3375.0</th>\n",
       "      <td>4.480155</td>\n",
       "      <td>2.117150</td>\n",
       "    </tr>\n",
       "    <tr>\n",
       "      <th>3625.0</th>\n",
       "      <td>3.559452</td>\n",
       "      <td>2.045752</td>\n",
       "    </tr>\n",
       "    <tr>\n",
       "      <th>3875.0</th>\n",
       "      <td>3.715916</td>\n",
       "      <td>1.655556</td>\n",
       "    </tr>\n",
       "    <tr>\n",
       "      <th>4125.0</th>\n",
       "      <td>2.733804</td>\n",
       "      <td>1.659370</td>\n",
       "    </tr>\n",
       "    <tr>\n",
       "      <th>4375.0</th>\n",
       "      <td>3.903527</td>\n",
       "      <td>1.799781</td>\n",
       "    </tr>\n",
       "    <tr>\n",
       "      <th>4625.0</th>\n",
       "      <td>4.558641</td>\n",
       "      <td>2.009632</td>\n",
       "    </tr>\n",
       "  </tbody>\n",
       "</table>\n",
       "</div>"
      ],
      "text/plain": [
       "tobacco        1.0        2.0\n",
       "1125.0   90.295797  88.376720\n",
       "1375.0   50.944947  54.970094\n",
       "1625.0   30.974633  32.201915\n",
       "1875.0   24.103738  21.577559\n",
       "2125.0   17.170891  13.721836\n",
       "2375.0   12.980332   8.864062\n",
       "2625.0    8.139342   5.766043\n",
       "2875.0    6.234500   3.911355\n",
       "3125.0    5.139620   2.867080\n",
       "3375.0    4.480155   2.117150\n",
       "3625.0    3.559452   2.045752\n",
       "3875.0    3.715916   1.655556\n",
       "4125.0    2.733804   1.659370\n",
       "4375.0    3.903527   1.799781\n",
       "4625.0    4.558641   2.009632"
      ]
     },
     "execution_count": 49,
     "metadata": {},
     "output_type": "execute_result"
    }
   ],
   "source": [
    "table = pd.pivot_table(subset_no_defect, index=\"bin\", columns=\"tobacco\", values=\"mort\")\n",
    "table *= 1000\n",
    "table.index = bins[:-1] + np.diff(bins) / 2\n",
    "table"
   ]
  },
  {
   "cell_type": "code",
   "execution_count": 50,
   "metadata": {
    "tags": []
   },
   "outputs": [
    {
     "data": {
      "image/png": "[encoded data removed]",
      "text/plain": [
       "<Figure size 450x225 with 1 Axes>"
      ]
     },
     "metadata": {},
     "output_type": "display_data"
    }
   ],
   "source": [
    "plot_table(table, \"Mortality rate vs birthweight, no anomaly\")"
   ]
  },
  {
   "cell_type": "markdown",
   "metadata": {
    "tags": []
   },
   "source": [
    "## The End of the Paradox\n",
    "\n",
    "In the most recent NCHS dataset, including 3.8 million babies born in 2018, the Low Birthweight Paradox has disappeared."
   ]
  },
  {
   "cell_type": "code",
   "execution_count": 51,
   "metadata": {
    "tags": []
   },
   "outputs": [],
   "source": [
    "vs2018 = pd.read_hdf(\"nchs.hdf\", \"vs2018\")"
   ]
  },
  {
   "cell_type": "code",
   "execution_count": 52,
   "metadata": {
    "tags": []
   },
   "outputs": [
    {
     "data": {
      "text/plain": [
       "(3801533, 3)"
      ]
     },
     "execution_count": 52,
     "metadata": {},
     "output_type": "execute_result"
    }
   ],
   "source": [
    "vs2018.shape"
   ]
  },
  {
   "cell_type": "code",
   "execution_count": 53,
   "metadata": {
    "tags": []
   },
   "outputs": [
    {
     "data": {
      "text/plain": [
       "NaN       3780154\n",
       "2018.0      18735\n",
       "2019.0       2644\n",
       "Name: yod, dtype: int64"
      ]
     },
     "execution_count": 53,
     "metadata": {},
     "output_type": "execute_result"
    }
   ],
   "source": [
    "vs2018[\"yod\"].value_counts(dropna=False)"
   ]
  },
  {
   "cell_type": "code",
   "execution_count": 54,
   "metadata": {
    "tags": []
   },
   "outputs": [
    {
     "data": {
      "text/plain": [
       "False    3780154\n",
       "True       21379\n",
       "Name: mort, dtype: int64"
      ]
     },
     "execution_count": 54,
     "metadata": {},
     "output_type": "execute_result"
    }
   ],
   "source": [
    "vs2018[\"mort\"] = vs2018[\"yod\"].notnull()\n",
    "vs2018[\"mort\"].value_counts()"
   ]
  },
  {
   "cell_type": "code",
   "execution_count": 55,
   "metadata": {
    "tags": []
   },
   "outputs": [
    {
     "data": {
      "text/plain": [
       "N    3539051\n",
       "Y     245360\n",
       "U      17122\n",
       "Name: tobacco, dtype: int64"
      ]
     },
     "execution_count": 55,
     "metadata": {},
     "output_type": "execute_result"
    }
   ],
   "source": [
    "vs2018[\"tobacco\"].value_counts()"
   ]
  },
  {
   "cell_type": "code",
   "execution_count": 56,
   "metadata": {
    "tags": []
   },
   "outputs": [
    {
     "data": {
      "text/plain": [
       "N      3539051\n",
       "Y       245360\n",
       "NaN      17122\n",
       "Name: tobacco, dtype: int64"
      ]
     },
     "execution_count": 56,
     "metadata": {},
     "output_type": "execute_result"
    }
   ],
   "source": [
    "vs2018[\"tobacco\"].replace([\"U\"], np.nan, inplace=True)\n",
    "vs2018[\"tobacco\"].value_counts(dropna=False)"
   ]
  },
  {
   "cell_type": "code",
   "execution_count": 57,
   "metadata": {
    "tags": []
   },
   "outputs": [
    {
     "data": {
      "text/html": [
       "<div>\n",
       "<style scoped>\n",
       "    .dataframe tbody tr th:only-of-type {\n",
       "        vertical-align: middle;\n",
       "    }\n",
       "\n",
       "    .dataframe tbody tr th {\n",
       "        vertical-align: top;\n",
       "    }\n",
       "\n",
       "    .dataframe thead th {\n",
       "        text-align: right;\n",
       "    }\n",
       "</style>\n",
       "<table border=\"1\" class=\"dataframe\">\n",
       "  <thead>\n",
       "    <tr style=\"text-align: right;\">\n",
       "      <th></th>\n",
       "      <th>probs</th>\n",
       "    </tr>\n",
       "  </thead>\n",
       "  <tbody>\n",
       "    <tr>\n",
       "      <th>N</th>\n",
       "      <td>0.935166</td>\n",
       "    </tr>\n",
       "    <tr>\n",
       "      <th>Y</th>\n",
       "      <td>0.064834</td>\n",
       "    </tr>\n",
       "  </tbody>\n",
       "</table>\n",
       "</div>"
      ],
      "text/plain": [
       "N    0.935166\n",
       "Y    0.064834\n",
       "Name: , dtype: float64"
      ]
     },
     "execution_count": 57,
     "metadata": {},
     "output_type": "execute_result"
    }
   ],
   "source": [
    "from empiricaldist import Pmf\n",
    "\n",
    "Pmf.from_seq(vs2018[\"tobacco\"])"
   ]
  },
  {
   "cell_type": "markdown",
   "metadata": {
    "tags": []
   },
   "source": [
    "In this dataset, only 6% of the mothers reported smoking during pregnancy, down from 18% in 1991 and 37% in the 1960s."
   ]
  },
  {
   "cell_type": "code",
   "execution_count": 58,
   "metadata": {
    "tags": []
   },
   "outputs": [
    {
     "data": {
      "text/plain": [
       "227      157\n",
       "228        5\n",
       "229        7\n",
       "230       34\n",
       "231        4\n",
       "        ... \n",
       "8025       1\n",
       "8160       1\n",
       "8161       1\n",
       "8165      12\n",
       "9999    2100\n",
       "Name: birthweight, Length: 5357, dtype: int64"
      ]
     },
     "execution_count": 58,
     "metadata": {},
     "output_type": "execute_result"
    }
   ],
   "source": [
    "vs2018[\"birthweight\"].value_counts().sort_index()"
   ]
  },
  {
   "cell_type": "code",
   "execution_count": 59,
   "metadata": {
    "tags": []
   },
   "outputs": [
    {
     "data": {
      "text/plain": [
       "<Axes: >"
      ]
     },
     "execution_count": 59,
     "metadata": {},
     "output_type": "execute_result"
    },
    {
     "data": {
      "image/png": "[encoded data removed]",
      "text/plain": [
       "<Figure size 450x225 with 1 Axes>"
      ]
     },
     "metadata": {},
     "output_type": "display_data"
    }
   ],
   "source": [
    "vs1991[\"birthweight\"].replace([7777, 8165, 9999], np.nan, inplace=True)\n",
    "Cdf.from_seq(vs1991[\"birthweight\"]).plot()"
   ]
  },
  {
   "cell_type": "code",
   "execution_count": 60,
   "metadata": {
    "tags": []
   },
   "outputs": [
    {
     "data": {
      "text/plain": [
       "154      9999\n",
       "4980     9999\n",
       "7444     9999\n",
       "8105     9999\n",
       "9959     9999\n",
       "21426    9999\n",
       "21894    9999\n",
       "39015    9999\n",
       "41443    9999\n",
       "44339    9999\n",
       "Name: birthweight, dtype: int64"
      ]
     },
     "execution_count": 60,
     "metadata": {},
     "output_type": "execute_result"
    }
   ],
   "source": [
    "vs2018[\"birthweight\"].nlargest(10)"
   ]
  },
  {
   "cell_type": "code",
   "execution_count": 61,
   "metadata": {
    "tags": []
   },
   "outputs": [],
   "source": [
    "vs2018[\"lbw\"] = vs2018[\"birthweight\"] < 2500"
   ]
  },
  {
   "cell_type": "code",
   "execution_count": 62,
   "metadata": {
    "tags": []
   },
   "outputs": [
    {
     "data": {
      "text/plain": [
       "array([1000, 1250, 1500, 1750, 2000, 2250, 2500, 2750, 3000, 3250, 3500,\n",
       "       3750, 4000, 4250, 4500, 4750])"
      ]
     },
     "execution_count": 62,
     "metadata": {},
     "output_type": "execute_result"
    }
   ],
   "source": [
    "bins = np.arange(1000, 5000, 250)\n",
    "bins"
   ]
  },
  {
   "cell_type": "code",
   "execution_count": 63,
   "metadata": {
    "tags": []
   },
   "outputs": [
    {
     "data": {
      "text/plain": [
       "(1000, 1250]     12263\n",
       "(1250, 1500]     15841\n",
       "(1500, 1750]     23552\n",
       "(1750, 2000]     38581\n",
       "(2000, 2250]     69739\n",
       "(2250, 2500]    132815\n",
       "(2500, 2750]    258005\n",
       "(2750, 3000]    460541\n",
       "(3000, 3250]    702121\n",
       "(3250, 3500]    772754\n",
       "(3500, 3750]    617937\n",
       "(3750, 4000]    379535\n",
       "(4000, 4250]    176360\n",
       "(4250, 4500]     75196\n",
       "(4500, 4750]     26293\n",
       "Name: bin, dtype: int64"
      ]
     },
     "execution_count": 63,
     "metadata": {},
     "output_type": "execute_result"
    }
   ],
   "source": [
    "vs2018[\"bin\"] = pd.cut(vs2018[\"birthweight\"], bins)\n",
    "vs2018[\"bin\"].value_counts().sort_index()"
   ]
  },
  {
   "cell_type": "code",
   "execution_count": 64,
   "metadata": {
    "tags": []
   },
   "outputs": [
    {
     "data": {
      "text/plain": [
       "(3784411, 6)"
      ]
     },
     "execution_count": 64,
     "metadata": {},
     "output_type": "execute_result"
    }
   ],
   "source": [
    "subset = vs2018.dropna(subset=[\"tobacco\", \"birthweight\"])\n",
    "subset.shape"
   ]
  },
  {
   "cell_type": "code",
   "execution_count": 65,
   "metadata": {
    "tags": []
   },
   "outputs": [
    {
     "data": {
      "text/plain": [
       "tobacco\n",
       "N    3278.574154\n",
       "Y    3071.500656\n",
       "Name: birthweight, dtype: float64"
      ]
     },
     "execution_count": 65,
     "metadata": {},
     "output_type": "execute_result"
    }
   ],
   "source": [
    "weights = subset.groupby(\"tobacco\")[\"birthweight\"].mean()\n",
    "weights"
   ]
  },
  {
   "cell_type": "code",
   "execution_count": 66,
   "metadata": {
    "tags": []
   },
   "outputs": [
    {
     "data": {
      "text/plain": [
       "-6.35114503816794"
      ]
     },
     "execution_count": 66,
     "metadata": {},
     "output_type": "execute_result"
    }
   ],
   "source": [
    "percent_diff(3067, 3275)"
   ]
  },
  {
   "cell_type": "markdown",
   "metadata": {
    "tags": []
   },
   "source": [
    "Babies of smokers were lighter on average than babies of nonsmokers by about 6%, comparable to the difference in the previous two datasets."
   ]
  },
  {
   "cell_type": "code",
   "execution_count": 67,
   "metadata": {
    "tags": []
   },
   "outputs": [
    {
     "data": {
      "image/png": "[encoded data removed]",
      "text/plain": [
       "<Figure size 450x225 with 1 Axes>"
      ]
     },
     "metadata": {},
     "output_type": "display_data"
    }
   ],
   "source": [
    "labels = {\"Y\": \"Smokers\", \"N\": \"Nonsmokers\"}\n",
    "ls = {\"Y\": \"-\", \"N\": \"--\"}\n",
    "\n",
    "xs = np.linspace(subset[\"birthweight\"].min(), subset[\"birthweight\"].max(), 101)\n",
    "for name, group in subset.groupby(\"tobacco\"):\n",
    "    kdeplot(group[\"birthweight\"], xs, label=labels[name], ls=ls[name])\n",
    "\n",
    "plt.axvline(2500, color=\"gray\", alpha=0.5)\n",
    "decorate(\n",
    "    xlabel=\"Birthweight (grams)\",\n",
    "    ylabel=\"Relative likelihood\",\n",
    "    title=\"Distributions of birth weight\",\n",
    "    xlim=[0, 6000],\n",
    ")"
   ]
  },
  {
   "cell_type": "code",
   "execution_count": 68,
   "metadata": {
    "tags": []
   },
   "outputs": [
    {
     "data": {
      "text/plain": [
       "0.08266834654058453"
      ]
     },
     "execution_count": 68,
     "metadata": {},
     "output_type": "execute_result"
    }
   ],
   "source": [
    "subset[\"lbw\"].mean()"
   ]
  },
  {
   "cell_type": "code",
   "execution_count": 69,
   "metadata": {
    "tags": []
   },
   "outputs": [
    {
     "name": "stdout",
     "output_type": "stream",
     "text": [
      "N 0.07843317318682325\n",
      "Y 0.14375611346592762\n"
     ]
    }
   ],
   "source": [
    "for name, group in subset.groupby(\"tobacco\"):\n",
    "    lbw_rate = group[\"lbw\"].mean()\n",
    "    print(name, lbw_rate)"
   ]
  },
  {
   "cell_type": "code",
   "execution_count": 70,
   "metadata": {
    "tags": []
   },
   "outputs": [
    {
     "data": {
      "text/plain": [
       "83.4183673469388"
      ]
     },
     "execution_count": 70,
     "metadata": {},
     "output_type": "execute_result"
    }
   ],
   "source": [
    "percent_diff(14.38, 7.84)"
   ]
  },
  {
   "cell_type": "markdown",
   "metadata": {
    "tags": []
   },
   "source": [
    "In 2018, fewer babies died in the first year of life;\n",
    "the mortality rate was 5.5 per 1000, down from 8.5 in 1991.\n",
    "And the mortality rate for babies of smokers was more than twice the rate for babies of nonsmokers, almost 11 per 1000 compared to 5.1."
   ]
  },
  {
   "cell_type": "code",
   "execution_count": 71,
   "metadata": {
    "tags": []
   },
   "outputs": [
    {
     "data": {
      "text/plain": [
       "5.5596498371873455"
      ]
     },
     "execution_count": 71,
     "metadata": {},
     "output_type": "execute_result"
    }
   ],
   "source": [
    "subset[\"mort\"].mean() * 1000"
   ]
  },
  {
   "cell_type": "code",
   "execution_count": 72,
   "metadata": {
    "tags": []
   },
   "outputs": [
    {
     "name": "stdout",
     "output_type": "stream",
     "text": [
      "N 5.196873399111796\n",
      "Y 10.792305184219106\n"
     ]
    }
   ],
   "source": [
    "for name, group in subset.groupby(\"tobacco\"):\n",
    "    rate = group[\"mort\"].mean() * 1000\n",
    "    print(name, rate)"
   ]
  },
  {
   "cell_type": "code",
   "execution_count": 73,
   "metadata": {
    "tags": []
   },
   "outputs": [
    {
     "data": {
      "text/plain": [
       "107.75193798449614"
      ]
     },
     "execution_count": 73,
     "metadata": {},
     "output_type": "execute_result"
    }
   ],
   "source": [
    "percent_diff(10.72, 5.16)"
   ]
  },
  {
   "cell_type": "code",
   "execution_count": 74,
   "metadata": {
    "tags": []
   },
   "outputs": [
    {
     "name": "stdout",
     "output_type": "stream",
     "text": [
      "N 45.07905857431578\n",
      "Y 43.20707643456566\n"
     ]
    }
   ],
   "source": [
    "for name, group in subset[subset[\"lbw\"]].groupby(\"tobacco\"):\n",
    "    rate = group[\"mort\"].mean() * 1000\n",
    "    print(name, rate)"
   ]
  },
  {
   "cell_type": "code",
   "execution_count": 75,
   "metadata": {
    "tags": []
   },
   "outputs": [
    {
     "data": {
      "text/plain": [
       "-19.70607882431529"
      ]
     },
     "execution_count": 75,
     "metadata": {},
     "output_type": "execute_result"
    }
   ],
   "source": [
    "percent_diff(60.1, 74.85)"
   ]
  },
  {
   "cell_type": "markdown",
   "metadata": {
    "tags": []
   },
   "source": [
    "Again, we can partition the dataset into groups with similar birthweight and compute the mortality rate in each group.\n",
    "The following figure shows the results."
   ]
  },
  {
   "cell_type": "code",
   "execution_count": 76,
   "metadata": {
    "tags": []
   },
   "outputs": [
    {
     "data": {
      "text/html": [
       "<div>\n",
       "<style scoped>\n",
       "    .dataframe tbody tr th:only-of-type {\n",
       "        vertical-align: middle;\n",
       "    }\n",
       "\n",
       "    .dataframe tbody tr th {\n",
       "        vertical-align: top;\n",
       "    }\n",
       "\n",
       "    .dataframe thead th {\n",
       "        text-align: right;\n",
       "    }\n",
       "</style>\n",
       "<table border=\"1\" class=\"dataframe\">\n",
       "  <thead>\n",
       "    <tr style=\"text-align: right;\">\n",
       "      <th>tobacco</th>\n",
       "      <th>N</th>\n",
       "      <th>Y</th>\n",
       "    </tr>\n",
       "  </thead>\n",
       "  <tbody>\n",
       "    <tr>\n",
       "      <th>1125.0</th>\n",
       "      <td>59.384364</td>\n",
       "      <td>67.014795</td>\n",
       "    </tr>\n",
       "    <tr>\n",
       "      <th>1375.0</th>\n",
       "      <td>40.366712</td>\n",
       "      <td>46.951220</td>\n",
       "    </tr>\n",
       "    <tr>\n",
       "      <th>1625.0</th>\n",
       "      <td>31.345859</td>\n",
       "      <td>36.663981</td>\n",
       "    </tr>\n",
       "    <tr>\n",
       "      <th>1875.0</th>\n",
       "      <td>19.119896</td>\n",
       "      <td>25.081282</td>\n",
       "    </tr>\n",
       "    <tr>\n",
       "      <th>2125.0</th>\n",
       "      <td>12.202122</td>\n",
       "      <td>16.664654</td>\n",
       "    </tr>\n",
       "    <tr>\n",
       "      <th>2375.0</th>\n",
       "      <td>6.994627</td>\n",
       "      <td>12.336111</td>\n",
       "    </tr>\n",
       "    <tr>\n",
       "      <th>2625.0</th>\n",
       "      <td>3.954523</td>\n",
       "      <td>9.317009</td>\n",
       "    </tr>\n",
       "    <tr>\n",
       "      <th>2875.0</th>\n",
       "      <td>2.652722</td>\n",
       "      <td>6.695117</td>\n",
       "    </tr>\n",
       "    <tr>\n",
       "      <th>3125.0</th>\n",
       "      <td>1.772246</td>\n",
       "      <td>4.676507</td>\n",
       "    </tr>\n",
       "    <tr>\n",
       "      <th>3375.0</th>\n",
       "      <td>1.385945</td>\n",
       "      <td>4.235809</td>\n",
       "    </tr>\n",
       "    <tr>\n",
       "      <th>3625.0</th>\n",
       "      <td>1.212840</td>\n",
       "      <td>3.887780</td>\n",
       "    </tr>\n",
       "    <tr>\n",
       "      <th>3875.0</th>\n",
       "      <td>1.184276</td>\n",
       "      <td>3.244174</td>\n",
       "    </tr>\n",
       "    <tr>\n",
       "      <th>4125.0</th>\n",
       "      <td>1.186478</td>\n",
       "      <td>2.538474</td>\n",
       "    </tr>\n",
       "    <tr>\n",
       "      <th>4375.0</th>\n",
       "      <td>1.297196</td>\n",
       "      <td>4.076641</td>\n",
       "    </tr>\n",
       "    <tr>\n",
       "      <th>4625.0</th>\n",
       "      <td>1.735084</td>\n",
       "      <td>5.995204</td>\n",
       "    </tr>\n",
       "  </tbody>\n",
       "</table>\n",
       "</div>"
      ],
      "text/plain": [
       "tobacco          N          Y\n",
       "1125.0   59.384364  67.014795\n",
       "1375.0   40.366712  46.951220\n",
       "1625.0   31.345859  36.663981\n",
       "1875.0   19.119896  25.081282\n",
       "2125.0   12.202122  16.664654\n",
       "2375.0    6.994627  12.336111\n",
       "2625.0    3.954523   9.317009\n",
       "2875.0    2.652722   6.695117\n",
       "3125.0    1.772246   4.676507\n",
       "3375.0    1.385945   4.235809\n",
       "3625.0    1.212840   3.887780\n",
       "3875.0    1.184276   3.244174\n",
       "4125.0    1.186478   2.538474\n",
       "4375.0    1.297196   4.076641\n",
       "4625.0    1.735084   5.995204"
      ]
     },
     "execution_count": 76,
     "metadata": {},
     "output_type": "execute_result"
    }
   ],
   "source": [
    "table = pd.pivot_table(subset, index=\"bin\", columns=\"tobacco\", values=\"mort\")\n",
    "table *= 1000\n",
    "table.index = bins[:-1] + np.diff(bins) / 2\n",
    "table"
   ]
  },
  {
   "cell_type": "code",
   "execution_count": 77,
   "metadata": {
    "scrolled": false,
    "tags": []
   },
   "outputs": [],
   "source": [
    "def plot_table(table, title):\n",
    "    table[\"Y\"].plot(label=\"Smoker\")\n",
    "    table[\"N\"].plot(ls=\"--\", label=\"Nonsmoker\")\n",
    "\n",
    "    decorate(\n",
    "        xlabel=\"Birth weight (grams)\", ylabel=\"Mortality rate per 1000\", title=title\n",
    "    )"
   ]
  },
  {
   "cell_type": "code",
   "execution_count": 78,
   "metadata": {
    "scrolled": true,
    "tags": []
   },
   "outputs": [
    {
     "data": {
      "image/png": "[encoded data removed]",
      "text/plain": [
       "<Figure size 450x225 with 1 Axes>"
      ]
     },
     "metadata": {},
     "output_type": "display_data"
    }
   ],
   "source": [
    "plot_table(table, \"Mortality rate vs birthweight, NCHS 2018\")"
   ]
  },
  {
   "cell_type": "markdown",
   "metadata": {
    "tags": []
   },
   "source": [
    "At every birthweight, mortality is higher for children of smokers.\n"
   ]
  },
  {
   "cell_type": "markdown",
   "metadata": {
    "tags": []
   },
   "source": [
    "## Causal diagrams\n",
    "\n",
    "The 2006 paper explaining the Low Birthweight Paradox and the 2013 paper explaining the Obesity Paradox are noteworthy because they use causal diagrams to represent hypothetical causes and their effects.\n",
    "For example, here is a causal diagram that represents an explanation for the Low Birthweight Paradox:"
   ]
  },
  {
   "cell_type": "code",
   "execution_count": 79,
   "metadata": {
    "tags": []
   },
   "outputs": [],
   "source": [
    "# based on https://matplotlib.org/matplotblog/posts/mpl-for-making-diagrams/\n",
    "\n",
    "\n",
    "def make_diagram(fig_width=6, fig_height=2, bg_color=\"white\"):\n",
    "    fig = plt.figure(figsize=(fig_width, fig_height))\n",
    "    ax = fig.add_axes((0, 0, 1, 1))\n",
    "    ax.set_xlim(0, fig_width)\n",
    "    ax.set_ylim(0, fig_height)\n",
    "    ax.set_facecolor(bg_color)\n",
    "\n",
    "    ax.tick_params(bottom=False, top=False, left=False, right=False)\n",
    "    ax.tick_params(labelbottom=False, labeltop=False, labelleft=False, labelright=False)\n",
    "\n",
    "    return fig, ax"
   ]
  },
  {
   "cell_type": "code",
   "execution_count": 80,
   "metadata": {
    "tags": []
   },
   "outputs": [
    {
     "data": {
      "image/png": "[encoded data removed]",
      "text/plain": [
       "<Figure size 450x150 with 1 Axes>"
      ]
     },
     "metadata": {},
     "output_type": "display_data"
    }
   ],
   "source": [
    "fig, ax = make_diagram()\n",
    "\n",
    "# add rectangle to plot\n",
    "# ax.add_patch(Rectangle((1, 1), 2, 1))\n",
    "\n",
    "options = dict(fontsize=12, va=\"center\")\n",
    "y = 1\n",
    "plt.text(1, y + 0.6, \"Smoking\", ha=\"right\", **options)\n",
    "plt.text(1, y - 0.6, \"Unknown\", ha=\"right\", **options)\n",
    "plt.text(2.75, y, \"LBW\", ha=\"right\", **options)\n",
    "plt.text(4, y, \"Mortality\", ha=\"left\", **options)\n",
    "\n",
    "arrowprops = dict(arrowstyle=\"<|-\")\n",
    "plt.annotate(\"\", [1.1, y + 0.5], [2.35, y + 0.05], arrowprops=arrowprops)\n",
    "plt.annotate(\"\", [1.1, y - 0.5], [2.35, y - 0.05], arrowprops=arrowprops)\n",
    "plt.annotate(\"\", [2.9, y], [3.9, y], arrowprops=arrowprops)\n",
    "plt.annotate(\"\", [1.1, y + 0.6], [3.9, y + 0.1], arrowprops=arrowprops)\n",
    "plt.annotate(\"\", [1.1, y - 0.6], [3.9, y - 0.1], arrowprops=arrowprops)\n",
    "None"
   ]
  },
  {
   "cell_type": "markdown",
   "metadata": {
    "tags": []
   },
   "source": [
    "The following causal diagram represents the explanation of the Obesity Paradox proposed in the 2013 paper:"
   ]
  },
  {
   "cell_type": "code",
   "execution_count": 81,
   "metadata": {
    "tags": []
   },
   "outputs": [
    {
     "data": {
      "image/png": "[encoded data removed]",
      "text/plain": [
       "<Figure size 450x150 with 1 Axes>"
      ]
     },
     "metadata": {},
     "output_type": "display_data"
    }
   ],
   "source": [
    "fig, ax = make_diagram()\n",
    "\n",
    "options = dict(fontsize=12, va=\"center\")\n",
    "y = 1\n",
    "plt.text(1.2, y + 0.6, \"Obesity\", ha=\"right\", **options)\n",
    "plt.text(1.2, y - 0.55, \"Unmeasured\\nrisk factors\", ha=\"right\", **options)\n",
    "plt.text(2.6, y, \"Heart failure\", ha=\"left\", **options)\n",
    "plt.text(4.6, y, \"Mortality\", ha=\"left\", **options)\n",
    "\n",
    "arrowprops = dict(arrowstyle=\"<|-\")\n",
    "plt.annotate(\"\", [1.3, y + 0.5], [2.55, y + 0.05], arrowprops=arrowprops)\n",
    "plt.annotate(\"\", [1.3, y - 0.5], [2.55, y - 0.05], arrowprops=arrowprops)\n",
    "plt.annotate(\"\", [3.6, y], [4.5, y], arrowprops=arrowprops)\n",
    "plt.annotate(\"\", [1.3, y - 0.6], [4.5, y - 0.1], arrowprops=arrowprops)\n",
    "None"
   ]
  },
  {
   "cell_type": "markdown",
   "metadata": {
    "tags": []
   },
   "source": [
    "Probably Overthinking It\n",
    "\n",
    "Copyright 2022 Allen Downey \n",
    "\n",
    "The code in this notebook and `utils.py` is under the [MIT license](https://mit-license.org/)."
   ]
  },
  {
   "cell_type": "code",
   "execution_count": null,
   "metadata": {},
   "outputs": [],
   "source": []
  }
 ],
 "metadata": {
  "celltoolbar": "Tags",
  "kernelspec": {
   "display_name": "Python 3 (ipykernel)",
   "language": "python",
   "name": "python3"
  },
  "language_info": {
   "codemirror_mode": {
    "name": "ipython",
    "version": 3
   },
   "file_extension": ".py",
   "mimetype": "text/x-python",
   "name": "python",
   "nbconvert_exporter": "python",
   "pygments_lexer": "ipython3",
   "version": "3.8.16"
  }
 },
 "nbformat": 4,
 "nbformat_minor": 2
}
