{
 "cells": [
  {
   "cell_type": "markdown",
   "metadata": {
    "tags": []
   },
   "source": [
    "# Jumping to Conclusions"
   ]
  },
  {
   "cell_type": "markdown",
   "metadata": {
    "tags": []
   },
   "source": [
    "This is one of the Jupyter notebooks I used in my preparation of *Probably Overthinking It: How to Use Data to Answer Questions, Avoid Statistical Traps, and Make Better Decisions*.\n",
    "\n",
    "The book is scheduled to be published by University of Chicago Press in 2023.\n",
    "If you would like to get infrequent email announcements about the book, please\n",
    "[sign up for my mailing list](http://eepurl.com/h0nfbX).\n",
    "\n",
    "Before you read these notebooks, please keep in mind:\n",
    "\n",
    "* There is some explanatory text in the notebooks, but some of the examples will not make sense until you have read the corresponding chapter in the book.\n",
    "\n",
    "* While preparing these notebooks, I made some changes to improve the readability of the code. There might be small differences between what appears in the book and what you get when you run the code."
   ]
  },
  {
   "cell_type": "markdown",
   "metadata": {
    "tags": []
   },
   "source": [
    "[Click here to run this notebook on Colab](https://colab.research.google.com/github/AllenDowney/ProbablyOverthinkingIt/blob/book/notebooks/berkson.ipynb)."
   ]
  },
  {
   "cell_type": "code",
   "execution_count": 1,
   "metadata": {
    "tags": []
   },
   "outputs": [],
   "source": [
    "# Install empiricaldist if we don't already have it\n",
    "\n",
    "try:\n",
    "    import empiricaldist\n",
    "except ImportError:\n",
    "    !pip install empiricaldist"
   ]
  },
  {
   "cell_type": "code",
   "execution_count": 2,
   "metadata": {
    "tags": []
   },
   "outputs": [],
   "source": [
    "# download utils.py\n",
    "\n",
    "from os.path import basename, exists\n",
    "\n",
    "def download(url):\n",
    "    filename = basename(url)\n",
    "    if not exists(filename):\n",
    "        from urllib.request import urlretrieve\n",
    "        local, _ = urlretrieve(url, filename)\n",
    "        print('Downloaded ' + local)\n",
    "        \n",
    "download(\"https://github.com/AllenDowney/ProbablyOverthinkingIt/raw/book/notebooks/utils.py\")"
   ]
  },
  {
   "cell_type": "code",
   "execution_count": 3,
   "metadata": {
    "tags": []
   },
   "outputs": [],
   "source": [
    "import pandas as pd\n",
    "import numpy as np\n",
    "import matplotlib.pyplot as plt\n",
    "\n",
    "from utils import decorate\n",
    "\n",
    "# Set the random seed so we get the same results every time\n",
    "np.random.seed(17)"
   ]
  },
  {
   "cell_type": "markdown",
   "metadata": {
    "tags": []
   },
   "source": [
    "In 1986, Michael Anthony Jerome \"Spud\" Webb was the shortest player in the National Basketball Association (NBA);\n",
    "he was 5 feet 6 inches (168 cm). \n",
    "Nevertheless, that year he won the NBA Slam Dunk Contest after successfully executing the elevator two-handed double pump dunk and the reverse two-handed strawberry jam.\n",
    "\n",
    "This performance was possible because Webb's vertical leap was at least 42 inches (107 cm), bringing the top of his head to 9 feet (275 cm) and his outstretched hand well above the basketball rim at 10 feet (305 cm)."
   ]
  },
  {
   "cell_type": "markdown",
   "metadata": {
    "tags": []
   },
   "source": [
    "During the same year, I played intercollegiate volleyball at the Massachusetts Institute of Technology (MIT).\n",
    "Although the other players and I were less elite athletes than Spud Webb, I noticed a similar relationship between height and vertical leap.\n",
    "Consistently, the shorter players on the team jumped higher than the taller players.\n",
    "\n",
    "At the time, I wondered if there might be a biokinetic reason for the relationship: maybe shorter legs provide some kind of mechanical advantage.\n",
    "It turns out that there is no such reason; according to a 2003 paper on physical characteristics that predict jumping ability, there is \"no significant relationship\" between body height and vertical leap."
   ]
  },
  {
   "cell_type": "markdown",
   "metadata": {
    "tags": []
   },
   "source": [
    "By now, you have probably figured out the error in my thinking.\n",
    "In order to play competitive volleyball, it helps to be tall.\n",
    "If you are not tall, it helps if you can jump.\n",
    "If you are not tall and can't jump, you probably don't play competitive volleyball, you don't play in the NBA, and you definitely don't win a slam dunk contest.\n",
    "\n",
    "In the general population, there is no correlation between height and jumping ability, but intercollegiate athletes are not a representative sample of the population, and elite athletes even less so.\n",
    "They have been selected based on their height and jumping ability, and the selection process creates the relationship between these traits.\n",
    "\n",
    "This phenomenon is called Berkson's paradox after a researcher who wrote about it in 1946.\n",
    "I'll present his findings later, but first let's look at another example from college."
   ]
  },
  {
   "cell_type": "markdown",
   "metadata": {
    "tags": []
   },
   "source": [
    "## Math and Verbal Skills\n",
    "\n",
    "Among students at a given college or university, do you think math and verbal skills are correlated, anti-correlated, or uncorrelated?\n",
    "In other words, if someone is above average at one of these skills, would you expect them to be above average on the other, or below average, or do you think they are unrelated?\n",
    "\n",
    "To answer this question, I will use data from the National Longitudinal Survey of Youth 1997 (NLSY97), which \"follows the lives of a sample of 8,984 American youth born between 1980-84\". \n",
    "The public data set includes the participants' scores on several standardized tests, including the tests most often used in college admissions, the SAT and ACT."
   ]
  },
  {
   "cell_type": "markdown",
   "metadata": {},
   "source": [
    "I used the [NLS Investigator](https://www.nlsinfo.org/investigator/pages/login) to create excerpt that contains the variables I'll use for this analysis. With their permission, I can redistribute this except. The following cell downloads the data."
   ]
  },
  {
   "cell_type": "code",
   "execution_count": 4,
   "metadata": {
    "tags": []
   },
   "outputs": [],
   "source": [
    "DATA_PATH = \"https://github.com/AllenDowney/ProbablyOverthinkingIt/raw/book/data/\"\n",
    "\n",
    "download(DATA_PATH + \"stand_test_corr.csv.gz\")"
   ]
  },
  {
   "cell_type": "code",
   "execution_count": 5,
   "metadata": {
    "tags": []
   },
   "outputs": [
    {
     "data": {
      "text/plain": [
       "(8984, 29)"
      ]
     },
     "execution_count": 5,
     "metadata": {},
     "output_type": "execute_result"
    }
   ],
   "source": [
    "df = pd.read_csv(\"stand_test_corr.csv.gz\")\n",
    "df.shape"
   ]
  },
  {
   "cell_type": "code",
   "execution_count": 6,
   "metadata": {
    "tags": []
   },
   "outputs": [
    {
     "data": {
      "text/html": [
       "<div>\n",
       "<style scoped>\n",
       "    .dataframe tbody tr th:only-of-type {\n",
       "        vertical-align: middle;\n",
       "    }\n",
       "\n",
       "    .dataframe tbody tr th {\n",
       "        vertical-align: top;\n",
       "    }\n",
       "\n",
       "    .dataframe thead th {\n",
       "        text-align: right;\n",
       "    }\n",
       "</style>\n",
       "<table border=\"1\" class=\"dataframe\">\n",
       "  <thead>\n",
       "    <tr style=\"text-align: right;\">\n",
       "      <th></th>\n",
       "      <th>R0000100</th>\n",
       "      <th>R0536300</th>\n",
       "      <th>R0536401</th>\n",
       "      <th>R0536402</th>\n",
       "      <th>R1235800</th>\n",
       "      <th>R1482600</th>\n",
       "      <th>R5473600</th>\n",
       "      <th>R5473700</th>\n",
       "      <th>R7237300</th>\n",
       "      <th>R7237400</th>\n",
       "      <th>...</th>\n",
       "      <th>R9794001</th>\n",
       "      <th>R9829600</th>\n",
       "      <th>S1552600</th>\n",
       "      <th>S1552700</th>\n",
       "      <th>Z9033700</th>\n",
       "      <th>Z9033800</th>\n",
       "      <th>Z9033900</th>\n",
       "      <th>Z9034000</th>\n",
       "      <th>Z9034100</th>\n",
       "      <th>Z9034200</th>\n",
       "    </tr>\n",
       "  </thead>\n",
       "  <tbody>\n",
       "    <tr>\n",
       "      <th>0</th>\n",
       "      <td>1</td>\n",
       "      <td>2</td>\n",
       "      <td>9</td>\n",
       "      <td>1981</td>\n",
       "      <td>1</td>\n",
       "      <td>4</td>\n",
       "      <td>-4</td>\n",
       "      <td>-4</td>\n",
       "      <td>-4</td>\n",
       "      <td>-4</td>\n",
       "      <td>...</td>\n",
       "      <td>1998</td>\n",
       "      <td>45070</td>\n",
       "      <td>-4</td>\n",
       "      <td>-4</td>\n",
       "      <td>4</td>\n",
       "      <td>3</td>\n",
       "      <td>3</td>\n",
       "      <td>2</td>\n",
       "      <td>-4</td>\n",
       "      <td>-4</td>\n",
       "    </tr>\n",
       "    <tr>\n",
       "      <th>1</th>\n",
       "      <td>2</td>\n",
       "      <td>1</td>\n",
       "      <td>7</td>\n",
       "      <td>1982</td>\n",
       "      <td>1</td>\n",
       "      <td>2</td>\n",
       "      <td>-4</td>\n",
       "      <td>-4</td>\n",
       "      <td>-4</td>\n",
       "      <td>-4</td>\n",
       "      <td>...</td>\n",
       "      <td>1998</td>\n",
       "      <td>58483</td>\n",
       "      <td>-4</td>\n",
       "      <td>-4</td>\n",
       "      <td>4</td>\n",
       "      <td>5</td>\n",
       "      <td>4</td>\n",
       "      <td>5</td>\n",
       "      <td>-4</td>\n",
       "      <td>-4</td>\n",
       "    </tr>\n",
       "    <tr>\n",
       "      <th>2</th>\n",
       "      <td>3</td>\n",
       "      <td>2</td>\n",
       "      <td>9</td>\n",
       "      <td>1983</td>\n",
       "      <td>1</td>\n",
       "      <td>2</td>\n",
       "      <td>-4</td>\n",
       "      <td>-4</td>\n",
       "      <td>-4</td>\n",
       "      <td>-4</td>\n",
       "      <td>...</td>\n",
       "      <td>-4</td>\n",
       "      <td>27978</td>\n",
       "      <td>-4</td>\n",
       "      <td>-4</td>\n",
       "      <td>2</td>\n",
       "      <td>4</td>\n",
       "      <td>2</td>\n",
       "      <td>4</td>\n",
       "      <td>-4</td>\n",
       "      <td>-4</td>\n",
       "    </tr>\n",
       "    <tr>\n",
       "      <th>3</th>\n",
       "      <td>4</td>\n",
       "      <td>2</td>\n",
       "      <td>2</td>\n",
       "      <td>1981</td>\n",
       "      <td>1</td>\n",
       "      <td>2</td>\n",
       "      <td>-4</td>\n",
       "      <td>-4</td>\n",
       "      <td>-4</td>\n",
       "      <td>-4</td>\n",
       "      <td>...</td>\n",
       "      <td>-4</td>\n",
       "      <td>37012</td>\n",
       "      <td>-4</td>\n",
       "      <td>-4</td>\n",
       "      <td>-4</td>\n",
       "      <td>-4</td>\n",
       "      <td>-4</td>\n",
       "      <td>-4</td>\n",
       "      <td>-4</td>\n",
       "      <td>-4</td>\n",
       "    </tr>\n",
       "    <tr>\n",
       "      <th>4</th>\n",
       "      <td>5</td>\n",
       "      <td>1</td>\n",
       "      <td>10</td>\n",
       "      <td>1982</td>\n",
       "      <td>1</td>\n",
       "      <td>2</td>\n",
       "      <td>-4</td>\n",
       "      <td>-4</td>\n",
       "      <td>-4</td>\n",
       "      <td>-4</td>\n",
       "      <td>...</td>\n",
       "      <td>-4</td>\n",
       "      <td>-4</td>\n",
       "      <td>-4</td>\n",
       "      <td>-4</td>\n",
       "      <td>2</td>\n",
       "      <td>3</td>\n",
       "      <td>6</td>\n",
       "      <td>3</td>\n",
       "      <td>-4</td>\n",
       "      <td>-4</td>\n",
       "    </tr>\n",
       "  </tbody>\n",
       "</table>\n",
       "<p>5 rows × 29 columns</p>\n",
       "</div>"
      ],
      "text/plain": [
       "   R0000100  R0536300  R0536401  R0536402  R1235800  R1482600  R5473600  \\\n",
       "0         1         2         9      1981         1         4        -4   \n",
       "1         2         1         7      1982         1         2        -4   \n",
       "2         3         2         9      1983         1         2        -4   \n",
       "3         4         2         2      1981         1         2        -4   \n",
       "4         5         1        10      1982         1         2        -4   \n",
       "\n",
       "   R5473700  R7237300  R7237400  ...  R9794001  R9829600  S1552600  S1552700  \\\n",
       "0        -4        -4        -4  ...      1998     45070        -4        -4   \n",
       "1        -4        -4        -4  ...      1998     58483        -4        -4   \n",
       "2        -4        -4        -4  ...        -4     27978        -4        -4   \n",
       "3        -4        -4        -4  ...        -4     37012        -4        -4   \n",
       "4        -4        -4        -4  ...        -4        -4        -4        -4   \n",
       "\n",
       "   Z9033700  Z9033800  Z9033900  Z9034000  Z9034100  Z9034200  \n",
       "0         4         3         3         2        -4        -4  \n",
       "1         4         5         4         5        -4        -4  \n",
       "2         2         4         2         4        -4        -4  \n",
       "3        -4        -4        -4        -4        -4        -4  \n",
       "4         2         3         6         3        -4        -4  \n",
       "\n",
       "[5 rows x 29 columns]"
      ]
     },
     "execution_count": 6,
     "metadata": {},
     "output_type": "execute_result"
    }
   ],
   "source": [
    "df.head()"
   ]
  },
  {
   "cell_type": "markdown",
   "metadata": {
    "tags": []
   },
   "source": [
    "The [columns are documented in the codebook](https://www.nlsinfo.org/investigator/pages/search?s=NLSY97).  The following dictionary maps the current column names to more memorable names. "
   ]
  },
  {
   "cell_type": "code",
   "execution_count": 7,
   "metadata": {
    "tags": []
   },
   "outputs": [],
   "source": [
    "d = {\n",
    "    \"R9793200\": \"psat_math\",\n",
    "    \"R9793300\": \"psat_verbal\",\n",
    "    \"R9793400\": \"act_comp\",\n",
    "    \"R9793500\": \"act_eng\",\n",
    "    \"R9793600\": \"act_math\",\n",
    "    \"R9793700\": \"act_read\",\n",
    "    \"R9793800\": \"sat_verbal\",\n",
    "    \"R9793900\": \"sat_math\",\n",
    "    # 'B0004600': 'college_gpa',\n",
    "}\n",
    "\n",
    "df.rename(columns=d, inplace=True)"
   ]
  },
  {
   "cell_type": "markdown",
   "metadata": {},
   "source": [
    "For this analysis I'll use only the SAT math and verbal scores. If you are curious, you could do something similar with ACT scores."
   ]
  },
  {
   "cell_type": "code",
   "execution_count": 8,
   "metadata": {
    "tags": []
   },
   "outputs": [],
   "source": [
    "varnames = [\"sat_verbal\", \"sat_math\"]\n",
    "\n",
    "for varname in varnames:\n",
    "    invalid = df[varname] < 200\n",
    "    df.loc[invalid, varname] = np.nan"
   ]
  },
  {
   "cell_type": "markdown",
   "metadata": {
    "tags": []
   },
   "source": [
    "In this cohort, about 1400 participants took the SAT.\n",
    "Their average scores were 502 on the verbal section and 503 on the math section, both close to the national average, which is calibrated to be 500.\n",
    "\n",
    "The standard deviation of their scores was 108 on the verbal section and 110 on the math section, both a little higher than the overall standard deviation, which is calibrated to be 100."
   ]
  },
  {
   "cell_type": "code",
   "execution_count": 9,
   "metadata": {
    "tags": []
   },
   "outputs": [
    {
     "data": {
      "text/plain": [
       "count    1400.000000\n",
       "mean      501.678571\n",
       "std       108.343678\n",
       "min       200.000000\n",
       "25%       430.000000\n",
       "50%       500.000000\n",
       "75%       570.000000\n",
       "max       800.000000\n",
       "Name: sat_verbal, dtype: float64"
      ]
     },
     "execution_count": 9,
     "metadata": {},
     "output_type": "execute_result"
    }
   ],
   "source": [
    "df[\"sat_verbal\"].describe()"
   ]
  },
  {
   "cell_type": "code",
   "execution_count": 10,
   "metadata": {
    "tags": []
   },
   "outputs": [
    {
     "data": {
      "text/plain": [
       "count    1399.000000\n",
       "mean      503.213009\n",
       "std       109.901382\n",
       "min       200.000000\n",
       "25%       430.000000\n",
       "50%       500.000000\n",
       "75%       580.000000\n",
       "max       800.000000\n",
       "Name: sat_math, dtype: float64"
      ]
     },
     "execution_count": 10,
     "metadata": {},
     "output_type": "execute_result"
    }
   ],
   "source": [
    "df[\"sat_math\"].describe()"
   ]
  },
  {
   "cell_type": "code",
   "execution_count": 11,
   "metadata": {
    "scrolled": true,
    "tags": []
   },
   "outputs": [
    {
     "data": {
      "text/html": [
       "<div>\n",
       "<style scoped>\n",
       "    .dataframe tbody tr th:only-of-type {\n",
       "        vertical-align: middle;\n",
       "    }\n",
       "\n",
       "    .dataframe tbody tr th {\n",
       "        vertical-align: top;\n",
       "    }\n",
       "\n",
       "    .dataframe thead th {\n",
       "        text-align: right;\n",
       "    }\n",
       "</style>\n",
       "<table border=\"1\" class=\"dataframe\">\n",
       "  <thead>\n",
       "    <tr style=\"text-align: right;\">\n",
       "      <th></th>\n",
       "      <th>sat_verbal</th>\n",
       "      <th>sat_math</th>\n",
       "    </tr>\n",
       "  </thead>\n",
       "  <tbody>\n",
       "    <tr>\n",
       "      <th>sat_verbal</th>\n",
       "      <td>1.000000</td>\n",
       "      <td>0.734739</td>\n",
       "    </tr>\n",
       "    <tr>\n",
       "      <th>sat_math</th>\n",
       "      <td>0.734739</td>\n",
       "      <td>1.000000</td>\n",
       "    </tr>\n",
       "  </tbody>\n",
       "</table>\n",
       "</div>"
      ],
      "text/plain": [
       "            sat_verbal  sat_math\n",
       "sat_verbal    1.000000  0.734739\n",
       "sat_math      0.734739  1.000000"
      ]
     },
     "execution_count": 11,
     "metadata": {},
     "output_type": "execute_result"
    }
   ],
   "source": [
    "df[varnames].corr()"
   ]
  },
  {
   "cell_type": "markdown",
   "metadata": {
    "tags": []
   },
   "source": [
    "To show how the scores are related, here's a scatter plot showing a data point for each participant, with verbal scores on the horizontal axis and math scores on the vertical. "
   ]
  },
  {
   "cell_type": "code",
   "execution_count": 12,
   "metadata": {
    "tags": []
   },
   "outputs": [
    {
     "data": {
      "image/png": "[encoded data removed]",
      "text/plain": [
       "<Figure size 432x288 with 1 Axes>"
      ]
     },
     "metadata": {
      "needs_background": "light"
     },
     "output_type": "display_data"
    }
   ],
   "source": [
    "plt.plot(df[\"sat_verbal\"], df[\"sat_math\"], \".\", ms=5, alpha=0.1)\n",
    "\n",
    "decorate(xlabel=\"SAT Verbal\", ylabel=\"SAT Math\", title=\"SAT scores, NLSY97\")"
   ]
  },
  {
   "cell_type": "markdown",
   "metadata": {
    "tags": []
   },
   "source": [
    "People who do well on one section tend to do well on the other.\n",
    "The correlation between scores is 0.73, so someone who is one standard deviation above the mean on the verbal test is expected to be 0.73 standard deviations above the mean on the math test. For example, if you select people whose verbal score is near 600, which is 100 points above the mean, the average of their math scores is 570, about 70 points above the mean."
   ]
  },
  {
   "cell_type": "code",
   "execution_count": 13,
   "metadata": {
    "tags": []
   },
   "outputs": [
    {
     "data": {
      "text/plain": [
       "572.4468085106383"
      ]
     },
     "execution_count": 13,
     "metadata": {},
     "output_type": "execute_result"
    }
   ],
   "source": [
    "near600 = (df[\"sat_verbal\"] >= 550) & (df[\"sat_verbal\"] <= 650)\n",
    "df.loc[near600, \"sat_math\"].mean()"
   ]
  },
  {
   "cell_type": "markdown",
   "metadata": {
    "tags": []
   },
   "source": [
    "## Elite University\n",
    "\n",
    "Consider an imaginary institution of higher learning called Elite University.\n",
    "To be admitted to E.U., let's suppose, your total SAT score (sum of the verbal and math scores) has to be 1320 or higher. "
   ]
  },
  {
   "cell_type": "code",
   "execution_count": 14,
   "metadata": {
    "tags": []
   },
   "outputs": [
    {
     "data": {
      "text/plain": [
       "count    1398.000000\n",
       "mean     1004.892704\n",
       "std       203.214916\n",
       "min       430.000000\n",
       "25%       860.000000\n",
       "50%      1000.000000\n",
       "75%      1140.000000\n",
       "max      1580.000000\n",
       "dtype: float64"
      ]
     },
     "execution_count": 14,
     "metadata": {},
     "output_type": "execute_result"
    }
   ],
   "source": [
    "sat_total = df[\"sat_verbal\"] + df[\"sat_math\"]\n",
    "sat_total.describe()"
   ]
  },
  {
   "cell_type": "code",
   "execution_count": 15,
   "metadata": {
    "tags": []
   },
   "outputs": [
    {
     "data": {
      "text/html": [
       "<div>\n",
       "<style scoped>\n",
       "    .dataframe tbody tr th:only-of-type {\n",
       "        vertical-align: middle;\n",
       "    }\n",
       "\n",
       "    .dataframe tbody tr th {\n",
       "        vertical-align: top;\n",
       "    }\n",
       "\n",
       "    .dataframe thead th {\n",
       "        text-align: right;\n",
       "    }\n",
       "</style>\n",
       "<table border=\"1\" class=\"dataframe\">\n",
       "  <thead>\n",
       "    <tr style=\"text-align: right;\">\n",
       "      <th></th>\n",
       "      <th>sat_verbal</th>\n",
       "      <th>sat_math</th>\n",
       "    </tr>\n",
       "  </thead>\n",
       "  <tbody>\n",
       "    <tr>\n",
       "      <th>count</th>\n",
       "      <td>95.000000</td>\n",
       "      <td>95.000000</td>\n",
       "    </tr>\n",
       "    <tr>\n",
       "      <th>mean</th>\n",
       "      <td>699.894737</td>\n",
       "      <td>698.947368</td>\n",
       "    </tr>\n",
       "    <tr>\n",
       "      <th>std</th>\n",
       "      <td>53.703178</td>\n",
       "      <td>46.206606</td>\n",
       "    </tr>\n",
       "    <tr>\n",
       "      <th>min</th>\n",
       "      <td>550.000000</td>\n",
       "      <td>580.000000</td>\n",
       "    </tr>\n",
       "    <tr>\n",
       "      <th>25%</th>\n",
       "      <td>660.000000</td>\n",
       "      <td>660.000000</td>\n",
       "    </tr>\n",
       "    <tr>\n",
       "      <th>50%</th>\n",
       "      <td>700.000000</td>\n",
       "      <td>710.000000</td>\n",
       "    </tr>\n",
       "    <tr>\n",
       "      <th>75%</th>\n",
       "      <td>735.000000</td>\n",
       "      <td>730.000000</td>\n",
       "    </tr>\n",
       "    <tr>\n",
       "      <th>max</th>\n",
       "      <td>800.000000</td>\n",
       "      <td>800.000000</td>\n",
       "    </tr>\n",
       "  </tbody>\n",
       "</table>\n",
       "</div>"
      ],
      "text/plain": [
       "       sat_verbal    sat_math\n",
       "count   95.000000   95.000000\n",
       "mean   699.894737  698.947368\n",
       "std     53.703178   46.206606\n",
       "min    550.000000  580.000000\n",
       "25%    660.000000  660.000000\n",
       "50%    700.000000  710.000000\n",
       "75%    735.000000  730.000000\n",
       "max    800.000000  800.000000"
      ]
     },
     "execution_count": 15,
     "metadata": {},
     "output_type": "execute_result"
    }
   ],
   "source": [
    "admitted = df.loc[sat_total >= 1320]\n",
    "rejected = df.loc[sat_total < 1320]\n",
    "admitted[varnames].describe()"
   ]
  },
  {
   "cell_type": "markdown",
   "metadata": {
    "tags": []
   },
   "source": [
    "If we select participants from the NLSY who meet this requirement, their average score on both sections is about 700, the standard deviation is about 50, and the correlation of the two scores is -0.33.\n",
    "So if someone is one standard deviation above the E.U. mean on one test, we expect them to be one third of a standard deviation *below* the mean on the other, on average.\n",
    "For example, if you meet an E.U. student who got a 760 on the verbal section (60 points above the E.U. mean), you would expect them to get a 680 on the math section (20 points below the mean).\n",
    "\n",
    "In the population of test takers, the correlation between scores is positive.\n",
    "But in the population of E.U. students, the correlation is negative.\n",
    "The following figure shows how this happens."
   ]
  },
  {
   "cell_type": "code",
   "execution_count": 16,
   "metadata": {
    "tags": []
   },
   "outputs": [
    {
     "data": {
      "text/html": [
       "<div>\n",
       "<style scoped>\n",
       "    .dataframe tbody tr th:only-of-type {\n",
       "        vertical-align: middle;\n",
       "    }\n",
       "\n",
       "    .dataframe tbody tr th {\n",
       "        vertical-align: top;\n",
       "    }\n",
       "\n",
       "    .dataframe thead th {\n",
       "        text-align: right;\n",
       "    }\n",
       "</style>\n",
       "<table border=\"1\" class=\"dataframe\">\n",
       "  <thead>\n",
       "    <tr style=\"text-align: right;\">\n",
       "      <th></th>\n",
       "      <th>sat_verbal</th>\n",
       "      <th>sat_math</th>\n",
       "    </tr>\n",
       "  </thead>\n",
       "  <tbody>\n",
       "    <tr>\n",
       "      <th>sat_verbal</th>\n",
       "      <td>1.0000</td>\n",
       "      <td>-0.3353</td>\n",
       "    </tr>\n",
       "    <tr>\n",
       "      <th>sat_math</th>\n",
       "      <td>-0.3353</td>\n",
       "      <td>1.0000</td>\n",
       "    </tr>\n",
       "  </tbody>\n",
       "</table>\n",
       "</div>"
      ],
      "text/plain": [
       "            sat_verbal  sat_math\n",
       "sat_verbal      1.0000   -0.3353\n",
       "sat_math       -0.3353    1.0000"
      ]
     },
     "execution_count": 16,
     "metadata": {},
     "output_type": "execute_result"
    }
   ],
   "source": [
    "admitted[[\"sat_verbal\", \"sat_math\"]].corr()"
   ]
  },
  {
   "cell_type": "code",
   "execution_count": 17,
   "metadata": {
    "tags": []
   },
   "outputs": [],
   "source": [
    "from scipy.stats import linregress\n",
    "\n",
    "res = linregress(admitted[\"sat_verbal\"], admitted[\"sat_math\"])\n",
    "xs = np.linspace(600, 800)\n",
    "ys = res.intercept + res.slope * xs"
   ]
  },
  {
   "cell_type": "code",
   "execution_count": 18,
   "metadata": {
    "tags": []
   },
   "outputs": [
    {
     "data": {
      "image/png": "[encoded data removed]",
      "text/plain": [
       "<Figure size 432x288 with 1 Axes>"
      ]
     },
     "metadata": {
      "needs_background": "light"
     },
     "output_type": "display_data"
    }
   ],
   "source": [
    "plt.plot(xs, ys, \"--\", color=\"gray\")\n",
    "\n",
    "plt.plot(\n",
    "    admitted[\"sat_verbal\"], admitted[\"sat_math\"], \".\", label=\"admitted\", ms=5, alpha=0.3\n",
    ")\n",
    "plt.plot(\n",
    "    rejected[\"sat_verbal\"], rejected[\"sat_math\"], \"x\", label=\"rejected\", ms=3, alpha=0.2\n",
    ")\n",
    "\n",
    "decorate(xlabel=\"SAT Verbal\", ylabel=\"SAT Math\", title=\"SAT scores, Elite University\")"
   ]
  },
  {
   "cell_type": "markdown",
   "metadata": {
    "tags": []
   },
   "source": [
    "The circles in the upper right show students who meet the requirement for admission to Elite University.\n",
    "The dashed line shows the average math score for students at each level of verbal score.\n",
    "If you meet someone at E.U. with a relatively low verbal score, you expect them to have a high math score. Why? Because otherwise, they would not be at Elite University.\n",
    "And conversely, if you meet someone with a relatively low math score, they must have a high verbal score."
   ]
  },
  {
   "cell_type": "markdown",
   "metadata": {
    "tags": []
   },
   "source": [
    "## Less Elite, More Correlated\n",
    "\n",
    "Of course, not all colleges require a total SAT score of 1320.\n",
    "Most are less selective, and some don't consider standardized test scores at all.\n",
    "\n",
    "So let's see what happens to the correlation between math and verbal scores as we vary admission requirements.\n",
    "As in the previous example, I'll use a model of the selection process that will annoy anyone who works in college admission: \n",
    "\n",
    "* Suppose that every college has a simple threshold for the total SAT score. Any applicant who exceeds that threshold will be offered admission.\n",
    "\n",
    "* And suppose that the students who accept the offer are a random sample from the ones who are admitted.\n",
    "\n",
    "The following figure shows a range of thresholds on the horizontal axis, from a total score of 700 up to 1400.\n",
    "On the vertical axis, it shows the correlation between math and verbal scores among the students whose scores exceed the threshold, based on the NLSY data."
   ]
  },
  {
   "cell_type": "code",
   "execution_count": 19,
   "metadata": {
    "tags": []
   },
   "outputs": [
    {
     "data": {
      "text/plain": [
       "700     0.685154\n",
       "750     0.661058\n",
       "800     0.620211\n",
       "850     0.576750\n",
       "900     0.519278\n",
       "950     0.452663\n",
       "1000    0.392761\n",
       "1050    0.301356\n",
       "1100    0.193192\n",
       "1150    0.087910\n",
       "1200   -0.019167\n",
       "1250   -0.102005\n",
       "1300   -0.245565\n",
       "1350   -0.323388\n",
       "1400   -0.413395\n",
       "dtype: float64"
      ]
     },
     "execution_count": 19,
     "metadata": {},
     "output_type": "execute_result"
    }
   ],
   "source": [
    "corr_series = pd.Series([], dtype=float)\n",
    "\n",
    "for thresh in np.arange(700, 1450, 50):\n",
    "    admitted = df.loc[sat_total >= thresh]\n",
    "    mean = admitted[varnames].mean().sum()\n",
    "    corr = admitted[[\"sat_verbal\", \"sat_math\"]].corr()\n",
    "    corr_series[thresh] = corr.iloc[0][1]\n",
    "\n",
    "corr_series"
   ]
  },
  {
   "cell_type": "code",
   "execution_count": 20,
   "metadata": {
    "tags": []
   },
   "outputs": [
    {
     "data": {
      "image/png": "[encoded data removed]",
      "text/plain": [
       "<Figure size 432x288 with 1 Axes>"
      ]
     },
     "metadata": {
      "needs_background": "light"
     },
     "output_type": "display_data"
    }
   ],
   "source": [
    "plt.axhline(0, color=\"0.7\", lw=0.5)\n",
    "corr_series.plot(label=\"\")\n",
    "# plt.plot(1320, -0.33, '^', color='C0')\n",
    "\n",
    "decorate(\n",
    "    xlabel=\"Minimum total SAT score\",\n",
    "    ylabel=\"Correlation of scores\",\n",
    "    title=\"Correlation vs admission requirement\",\n",
    ")"
   ]
  },
  {
   "cell_type": "markdown",
   "metadata": {
    "tags": []
   },
   "source": [
    "At a college that requires a total score of 700, math and verbal scores are positively correlated.\n",
    "At a selective college where the threshold is around 1200, the correlation is close to 0.  And at an elite school where the threshold is over 1300, the correlation is negative."
   ]
  },
  {
   "cell_type": "markdown",
   "metadata": {
    "tags": []
   },
   "source": [
    "## Secondtier College\n",
    "\n",
    "Suppose at Secondtier College (it's pronounced \"se-con-tee-ay\"), a student with a total score of 1200 or more is admitted, but a student with 1300 or more is likely to go somewhere else.\n",
    "\n",
    "Using data from the NLSY again, the following figure shows the verbal and math score for applicants in three groups: rejected, enrolled, and the ones who were accepted but went somewhere else. "
   ]
  },
  {
   "cell_type": "code",
   "execution_count": 21,
   "metadata": {
    "tags": []
   },
   "outputs": [
    {
     "data": {
      "text/plain": [
       "(1138, 29)"
      ]
     },
     "execution_count": 21,
     "metadata": {},
     "output_type": "execute_result"
    }
   ],
   "source": [
    "rejected = df.loc[sat_total < 1200]\n",
    "rejected.shape"
   ]
  },
  {
   "cell_type": "code",
   "execution_count": 22,
   "metadata": {
    "tags": []
   },
   "outputs": [
    {
     "data": {
      "text/plain": [
       "(118, 29)"
      ]
     },
     "execution_count": 22,
     "metadata": {},
     "output_type": "execute_result"
    }
   ],
   "source": [
    "elsewhere = df.loc[sat_total >= 1300]\n",
    "elsewhere.shape"
   ]
  },
  {
   "cell_type": "code",
   "execution_count": 23,
   "metadata": {
    "tags": []
   },
   "outputs": [
    {
     "data": {
      "text/plain": [
       "(142, 29)"
      ]
     },
     "execution_count": 23,
     "metadata": {},
     "output_type": "execute_result"
    }
   ],
   "source": [
    "enrolled = df.loc[(sat_total >= 1200) & (sat_total < 1300)]\n",
    "enrolled.shape"
   ]
  },
  {
   "cell_type": "code",
   "execution_count": 24,
   "metadata": {
    "tags": []
   },
   "outputs": [],
   "source": [
    "from scipy.stats import linregress\n",
    "\n",
    "res = linregress(enrolled[\"sat_verbal\"], enrolled[\"sat_math\"])\n",
    "xs = np.linspace(500, 730)\n",
    "ys = res.intercept + res.slope * xs"
   ]
  },
  {
   "cell_type": "code",
   "execution_count": 25,
   "metadata": {
    "tags": []
   },
   "outputs": [
    {
     "data": {
      "image/png": "[encoded data removed]",
      "text/plain": [
       "<Figure size 432x288 with 1 Axes>"
      ]
     },
     "metadata": {
      "needs_background": "light"
     },
     "output_type": "display_data"
    }
   ],
   "source": [
    "plt.plot(xs, ys, \"--\", color=\"gray\")\n",
    "\n",
    "plt.plot(\n",
    "    rejected[\"sat_verbal\"],\n",
    "    rejected[\"sat_math\"],\n",
    "    \"x\",\n",
    "    label=\"rejected\",\n",
    "    ms=3,\n",
    "    alpha=0.2,\n",
    "    color=\"C1\",\n",
    ")\n",
    "plt.plot(\n",
    "    enrolled[\"sat_verbal\"],\n",
    "    enrolled[\"sat_math\"],\n",
    "    \".\",\n",
    "    label=\"enrolled\",\n",
    "    ms=5,\n",
    "    alpha=0.2,\n",
    "    color=\"C0\",\n",
    ")\n",
    "plt.plot(\n",
    "    elsewhere[\"sat_verbal\"],\n",
    "    elsewhere[\"sat_math\"],\n",
    "    \"x\",\n",
    "    label=\"elsewhere\",\n",
    "    ms=3,\n",
    "    alpha=0.2,\n",
    "    color=\"C2\",\n",
    ")\n",
    "\n",
    "decorate(xlabel=\"SAT Verbal\", ylabel=\"SAT Math\", title=\"SAT scores, Secondtier College\")"
   ]
  },
  {
   "cell_type": "markdown",
   "metadata": {
    "tags": []
   },
   "source": [
    "Among the students who enrolled, the correlation between math and verbal scores is strongly negative, about -0.84."
   ]
  },
  {
   "cell_type": "code",
   "execution_count": 26,
   "metadata": {
    "tags": []
   },
   "outputs": [
    {
     "data": {
      "text/html": [
       "<div>\n",
       "<style scoped>\n",
       "    .dataframe tbody tr th:only-of-type {\n",
       "        vertical-align: middle;\n",
       "    }\n",
       "\n",
       "    .dataframe tbody tr th {\n",
       "        vertical-align: top;\n",
       "    }\n",
       "\n",
       "    .dataframe thead th {\n",
       "        text-align: right;\n",
       "    }\n",
       "</style>\n",
       "<table border=\"1\" class=\"dataframe\">\n",
       "  <thead>\n",
       "    <tr style=\"text-align: right;\">\n",
       "      <th></th>\n",
       "      <th>sat_verbal</th>\n",
       "      <th>sat_math</th>\n",
       "    </tr>\n",
       "  </thead>\n",
       "  <tbody>\n",
       "    <tr>\n",
       "      <th>sat_verbal</th>\n",
       "      <td>1.000000</td>\n",
       "      <td>-0.843266</td>\n",
       "    </tr>\n",
       "    <tr>\n",
       "      <th>sat_math</th>\n",
       "      <td>-0.843266</td>\n",
       "      <td>1.000000</td>\n",
       "    </tr>\n",
       "  </tbody>\n",
       "</table>\n",
       "</div>"
      ],
      "text/plain": [
       "            sat_verbal  sat_math\n",
       "sat_verbal    1.000000 -0.843266\n",
       "sat_math     -0.843266  1.000000"
      ]
     },
     "execution_count": 26,
     "metadata": {},
     "output_type": "execute_result"
    }
   ],
   "source": [
    "enrolled[varnames].corr()"
   ]
  },
  {
   "cell_type": "code",
   "execution_count": 27,
   "metadata": {
    "tags": []
   },
   "outputs": [
    {
     "data": {
      "text/html": [
       "<div>\n",
       "<style scoped>\n",
       "    .dataframe tbody tr th:only-of-type {\n",
       "        vertical-align: middle;\n",
       "    }\n",
       "\n",
       "    .dataframe tbody tr th {\n",
       "        vertical-align: top;\n",
       "    }\n",
       "\n",
       "    .dataframe thead th {\n",
       "        text-align: right;\n",
       "    }\n",
       "</style>\n",
       "<table border=\"1\" class=\"dataframe\">\n",
       "  <thead>\n",
       "    <tr style=\"text-align: right;\">\n",
       "      <th></th>\n",
       "      <th>sat_verbal</th>\n",
       "      <th>sat_math</th>\n",
       "    </tr>\n",
       "  </thead>\n",
       "  <tbody>\n",
       "    <tr>\n",
       "      <th>count</th>\n",
       "      <td>142.000000</td>\n",
       "      <td>142.000000</td>\n",
       "    </tr>\n",
       "    <tr>\n",
       "      <th>mean</th>\n",
       "      <td>608.661972</td>\n",
       "      <td>631.267606</td>\n",
       "    </tr>\n",
       "    <tr>\n",
       "      <th>std</th>\n",
       "      <td>42.846069</td>\n",
       "      <td>49.045632</td>\n",
       "    </tr>\n",
       "    <tr>\n",
       "      <th>min</th>\n",
       "      <td>500.000000</td>\n",
       "      <td>480.000000</td>\n",
       "    </tr>\n",
       "    <tr>\n",
       "      <th>25%</th>\n",
       "      <td>572.500000</td>\n",
       "      <td>600.000000</td>\n",
       "    </tr>\n",
       "    <tr>\n",
       "      <th>50%</th>\n",
       "      <td>600.000000</td>\n",
       "      <td>630.000000</td>\n",
       "    </tr>\n",
       "    <tr>\n",
       "      <th>75%</th>\n",
       "      <td>640.000000</td>\n",
       "      <td>670.000000</td>\n",
       "    </tr>\n",
       "    <tr>\n",
       "      <th>max</th>\n",
       "      <td>720.000000</td>\n",
       "      <td>720.000000</td>\n",
       "    </tr>\n",
       "  </tbody>\n",
       "</table>\n",
       "</div>"
      ],
      "text/plain": [
       "       sat_verbal    sat_math\n",
       "count  142.000000  142.000000\n",
       "mean   608.661972  631.267606\n",
       "std     42.846069   49.045632\n",
       "min    500.000000  480.000000\n",
       "25%    572.500000  600.000000\n",
       "50%    600.000000  630.000000\n",
       "75%    640.000000  670.000000\n",
       "max    720.000000  720.000000"
      ]
     },
     "execution_count": 27,
     "metadata": {},
     "output_type": "execute_result"
    }
   ],
   "source": [
    "enrolled[varnames].describe()"
   ]
  },
  {
   "cell_type": "code",
   "execution_count": 28,
   "metadata": {
    "tags": []
   },
   "outputs": [
    {
     "data": {
      "text/plain": [
       "651.25"
      ]
     },
     "execution_count": 28,
     "metadata": {},
     "output_type": "execute_result"
    }
   ],
   "source": [
    "near650 = (enrolled[\"sat_verbal\"] > 630) & (df[\"sat_verbal\"] < 680)\n",
    "df.loc[near650, \"sat_verbal\"].mean()"
   ]
  },
  {
   "cell_type": "code",
   "execution_count": 29,
   "metadata": {
    "tags": []
   },
   "outputs": [
    {
     "data": {
      "text/plain": [
       "590.0"
      ]
     },
     "execution_count": 29,
     "metadata": {},
     "output_type": "execute_result"
    }
   ],
   "source": [
    "df.loc[near650, \"sat_math\"].mean()"
   ]
  },
  {
   "cell_type": "markdown",
   "metadata": {
    "tags": []
   },
   "source": [
    "At Secondtier, if you meet a student who got 650 on the verbal section, about 50 points above the mean, you should expect them to get 590 on the verbal section, about 40 points below the mean.\n",
    "\n",
    "So we have the answer to the question I posed: depending on how colleges select students, math and verbal scores might be correlated, unrelated, or anti-correlated. "
   ]
  },
  {
   "cell_type": "markdown",
   "metadata": {
    "tags": []
   },
   "source": [
    "## Berkson's Paradox in Hospital Data\n",
    "\n",
    "Berkson's paradox is named for Joseph Berkson, who led the Division of Biometry and Medical Statistics at the Mayo Clinic in Rochester, Minnesota.\n",
    "In 1946, he wrote a paper pointing out the danger of using patients in a clinic or hospital as a sample.\n",
    "\n",
    "As an example, he uses the relationship between cholecystic disease (inflammation of the gall bladder) and diabetes.\n",
    "At the time, these conditions were thought to be related so that, \"in certain medical circles, the gall bladder was being removed as a treatment for diabetes.\"\n",
    "His tone suggests what he thinks of these \"medical circles\"."
   ]
  },
  {
   "cell_type": "markdown",
   "metadata": {
    "tags": []
   },
   "source": [
    "Berkson showed that the apparent relationship between the two conditions might be the result of using hospital patients as a sample.\n",
    "To demonstrate the point, he generated a simulated population where 1% have diabetes, 3% have cholecystitis, and the conditions are unrelated; that is, having one condition does not, in fact, change the probability of having the other.\n",
    "\n",
    "Then he simulated what happens if we use hospital patients as a sample.\n",
    "He assumes that people with either condition are more likely to go to the hospital, and therefore more likely to appear in the hospital sample, compared to people with neither condition.\n",
    "\n",
    "In the hospital sample, he finds that there is a negative correlation between the conditions; that is, people with cholecystitis are less likely to have diabetes."
   ]
  },
  {
   "cell_type": "markdown",
   "metadata": {
    "tags": []
   },
   "source": [
    "I'll demonstrate with a simplified version of Berkson's experiment.\n",
    "Consider a population of one million people where 1% have diabetes, 3% have cholecystitis, and the conditions are unrelated.\n",
    "We'll assume that someone with either condition has a 5% chance of appearing in the hospital sample, and someone with neither condition has a 1% chance."
   ]
  },
  {
   "cell_type": "markdown",
   "metadata": {},
   "source": [
    "Here are the proportions as specified in the example."
   ]
  },
  {
   "cell_type": "code",
   "execution_count": 30,
   "metadata": {
    "tags": []
   },
   "outputs": [],
   "source": [
    "p_d = 0.01\n",
    "p_c = 0.03"
   ]
  },
  {
   "cell_type": "markdown",
   "metadata": {},
   "source": [
    "To make the table, it is helpful to define the complementary proportions, too."
   ]
  },
  {
   "cell_type": "code",
   "execution_count": 31,
   "metadata": {
    "tags": []
   },
   "outputs": [],
   "source": [
    "q_d = 1 - p_d\n",
    "q_c = 1 - p_c"
   ]
  },
  {
   "cell_type": "markdown",
   "metadata": {},
   "source": [
    "Now here are the fraction of people in each quadrant of the \"four-fold table\"."
   ]
  },
  {
   "cell_type": "code",
   "execution_count": 32,
   "metadata": {
    "tags": []
   },
   "outputs": [
    {
     "data": {
      "text/html": [
       "<div>\n",
       "<style scoped>\n",
       "    .dataframe tbody tr th:only-of-type {\n",
       "        vertical-align: middle;\n",
       "    }\n",
       "\n",
       "    .dataframe tbody tr th {\n",
       "        vertical-align: top;\n",
       "    }\n",
       "\n",
       "    .dataframe thead th {\n",
       "        text-align: right;\n",
       "    }\n",
       "</style>\n",
       "<table border=\"1\" class=\"dataframe\">\n",
       "  <thead>\n",
       "    <tr style=\"text-align: right;\">\n",
       "      <th></th>\n",
       "      <th>C</th>\n",
       "      <th>No C</th>\n",
       "    </tr>\n",
       "  </thead>\n",
       "  <tbody>\n",
       "    <tr>\n",
       "      <th>D</th>\n",
       "      <td>300.0</td>\n",
       "      <td>9700.0</td>\n",
       "    </tr>\n",
       "    <tr>\n",
       "      <th>No D</th>\n",
       "      <td>29700.0</td>\n",
       "      <td>960300.0</td>\n",
       "    </tr>\n",
       "  </tbody>\n",
       "</table>\n",
       "</div>"
      ],
      "text/plain": [
       "            C      No C\n",
       "D       300.0    9700.0\n",
       "No D  29700.0  960300.0"
      ]
     },
     "execution_count": 32,
     "metadata": {},
     "output_type": "execute_result"
    }
   ],
   "source": [
    "df = (\n",
    "    pd.DataFrame(\n",
    "        data=[[p_c * p_d, p_c * q_d], [q_c * p_d, q_c * q_d]],\n",
    "        index=[\"C\", \"No C\"],\n",
    "        columns=[\"D\", \"No D\"],\n",
    "    )\n",
    "    * 1_000_000\n",
    ")\n",
    "\n",
    "df = df.transpose()\n",
    "df"
   ]
  },
  {
   "cell_type": "code",
   "execution_count": 33,
   "metadata": {
    "tags": []
   },
   "outputs": [
    {
     "data": {
      "text/plain": [
       "D       0.03\n",
       "No D    0.03\n",
       "dtype: float64"
      ]
     },
     "execution_count": 33,
     "metadata": {},
     "output_type": "execute_result"
    }
   ],
   "source": [
    "df[\"C\"] / df.sum(axis=1)"
   ]
  },
  {
   "cell_type": "markdown",
   "metadata": {},
   "source": [
    "Here are the probabilities that a patient appears in the hospital sample, given that they have one of the conditions."
   ]
  },
  {
   "cell_type": "code",
   "execution_count": 34,
   "metadata": {
    "tags": []
   },
   "outputs": [],
   "source": [
    "s_d = 0.05\n",
    "s_c = 0.05"
   ]
  },
  {
   "cell_type": "code",
   "execution_count": 35,
   "metadata": {
    "tags": []
   },
   "outputs": [
    {
     "data": {
      "text/plain": [
       "D     C          300.0\n",
       "      No C      9700.0\n",
       "No D  C        29700.0\n",
       "      No C    960300.0\n",
       "dtype: float64"
      ]
     },
     "execution_count": 35,
     "metadata": {},
     "output_type": "execute_result"
    }
   ],
   "source": [
    "df.stack()"
   ]
  },
  {
   "cell_type": "markdown",
   "metadata": {},
   "source": [
    "So here are the probabilities for each of the four quadrants."
   ]
  },
  {
   "cell_type": "code",
   "execution_count": 36,
   "metadata": {
    "tags": []
   },
   "outputs": [
    {
     "data": {
      "text/plain": [
       "[0.09750000000000003, 0.05, 0.05, 0.01]"
      ]
     },
     "execution_count": 36,
     "metadata": {},
     "output_type": "execute_result"
    }
   ],
   "source": [
    "f = [1 - (1 - s_d) * (1 - s_c), s_c, s_d, 0.01]\n",
    "f"
   ]
  },
  {
   "cell_type": "markdown",
   "metadata": {},
   "source": [
    "Now we can compute the number of people from each quadrant we expect to see in the hospital sample."
   ]
  },
  {
   "cell_type": "code",
   "execution_count": 37,
   "metadata": {
    "tags": []
   },
   "outputs": [
    {
     "data": {
      "text/html": [
       "<div>\n",
       "<style scoped>\n",
       "    .dataframe tbody tr th:only-of-type {\n",
       "        vertical-align: middle;\n",
       "    }\n",
       "\n",
       "    .dataframe tbody tr th {\n",
       "        vertical-align: top;\n",
       "    }\n",
       "\n",
       "    .dataframe thead th {\n",
       "        text-align: right;\n",
       "    }\n",
       "</style>\n",
       "<table border=\"1\" class=\"dataframe\">\n",
       "  <thead>\n",
       "    <tr style=\"text-align: right;\">\n",
       "      <th></th>\n",
       "      <th></th>\n",
       "      <th>number</th>\n",
       "      <th>f</th>\n",
       "      <th>expected</th>\n",
       "    </tr>\n",
       "  </thead>\n",
       "  <tbody>\n",
       "    <tr>\n",
       "      <th rowspan=\"2\" valign=\"top\">D</th>\n",
       "      <th>C</th>\n",
       "      <td>300.0</td>\n",
       "      <td>0.0975</td>\n",
       "      <td>29.25</td>\n",
       "    </tr>\n",
       "    <tr>\n",
       "      <th>No C</th>\n",
       "      <td>9700.0</td>\n",
       "      <td>0.0500</td>\n",
       "      <td>485.00</td>\n",
       "    </tr>\n",
       "    <tr>\n",
       "      <th rowspan=\"2\" valign=\"top\">No D</th>\n",
       "      <th>C</th>\n",
       "      <td>29700.0</td>\n",
       "      <td>0.0500</td>\n",
       "      <td>1485.00</td>\n",
       "    </tr>\n",
       "    <tr>\n",
       "      <th>No C</th>\n",
       "      <td>960300.0</td>\n",
       "      <td>0.0100</td>\n",
       "      <td>9603.00</td>\n",
       "    </tr>\n",
       "  </tbody>\n",
       "</table>\n",
       "</div>"
      ],
      "text/plain": [
       "             number       f  expected\n",
       "D    C        300.0  0.0975     29.25\n",
       "     No C    9700.0  0.0500    485.00\n",
       "No D C      29700.0  0.0500   1485.00\n",
       "     No C  960300.0  0.0100   9603.00"
      ]
     },
     "execution_count": 37,
     "metadata": {},
     "output_type": "execute_result"
    }
   ],
   "source": [
    "enum = pd.DataFrame(dict(number=df.stack(), f=f))\n",
    "enum[\"expected\"] = enum[\"number\"] * enum[\"f\"]\n",
    "enum"
   ]
  },
  {
   "cell_type": "code",
   "execution_count": 38,
   "metadata": {
    "tags": []
   },
   "outputs": [
    {
     "data": {
      "text/html": [
       "<div>\n",
       "<style scoped>\n",
       "    .dataframe tbody tr th:only-of-type {\n",
       "        vertical-align: middle;\n",
       "    }\n",
       "\n",
       "    .dataframe tbody tr th {\n",
       "        vertical-align: top;\n",
       "    }\n",
       "\n",
       "    .dataframe thead th {\n",
       "        text-align: right;\n",
       "    }\n",
       "</style>\n",
       "<table border=\"1\" class=\"dataframe\">\n",
       "  <thead>\n",
       "    <tr style=\"text-align: right;\">\n",
       "      <th></th>\n",
       "      <th>C</th>\n",
       "      <th>No C</th>\n",
       "    </tr>\n",
       "  </thead>\n",
       "  <tbody>\n",
       "    <tr>\n",
       "      <th>D</th>\n",
       "      <td>29.25</td>\n",
       "      <td>485.0</td>\n",
       "    </tr>\n",
       "    <tr>\n",
       "      <th>No D</th>\n",
       "      <td>1485.00</td>\n",
       "      <td>9603.0</td>\n",
       "    </tr>\n",
       "  </tbody>\n",
       "</table>\n",
       "</div>"
      ],
      "text/plain": [
       "            C    No C\n",
       "D       29.25   485.0\n",
       "No D  1485.00  9603.0"
      ]
     },
     "execution_count": 38,
     "metadata": {},
     "output_type": "execute_result"
    }
   ],
   "source": [
    "hospital = enum[\"expected\"].unstack()\n",
    "hospital"
   ]
  },
  {
   "cell_type": "markdown",
   "metadata": {
    "tags": []
   },
   "source": [
    "If we simulate this sampling process, we can compute the number of people in the hospital sample with and without cholecystitis, and with and without diabetes.\n",
    "The following table shows the results in the form of what Berkson calls a \"fourfold table\"."
   ]
  },
  {
   "cell_type": "code",
   "execution_count": 39,
   "metadata": {
    "tags": []
   },
   "outputs": [
    {
     "data": {
      "text/html": [
       "<div>\n",
       "<style scoped>\n",
       "    .dataframe tbody tr th:only-of-type {\n",
       "        vertical-align: middle;\n",
       "    }\n",
       "\n",
       "    .dataframe tbody tr th {\n",
       "        vertical-align: top;\n",
       "    }\n",
       "\n",
       "    .dataframe thead th {\n",
       "        text-align: right;\n",
       "    }\n",
       "</style>\n",
       "<table border=\"1\" class=\"dataframe\">\n",
       "  <thead>\n",
       "    <tr style=\"text-align: right;\">\n",
       "      <th></th>\n",
       "      <th>C</th>\n",
       "      <th>No C</th>\n",
       "      <th>Total</th>\n",
       "    </tr>\n",
       "  </thead>\n",
       "  <tbody>\n",
       "    <tr>\n",
       "      <th>D</th>\n",
       "      <td>29</td>\n",
       "      <td>485</td>\n",
       "      <td>514</td>\n",
       "    </tr>\n",
       "    <tr>\n",
       "      <th>No D</th>\n",
       "      <td>1485</td>\n",
       "      <td>9603</td>\n",
       "      <td>11088</td>\n",
       "    </tr>\n",
       "  </tbody>\n",
       "</table>\n",
       "</div>"
      ],
      "text/plain": [
       "         C  No C  Total\n",
       "D       29   485    514\n",
       "No D  1485  9603  11088"
      ]
     },
     "execution_count": 39,
     "metadata": {},
     "output_type": "execute_result"
    }
   ],
   "source": [
    "hospital[\"Total\"] = hospital.sum(axis=1)\n",
    "hospital.round().astype(int)"
   ]
  },
  {
   "cell_type": "markdown",
   "metadata": {
    "tags": []
   },
   "source": [
    "The columns labeled \"C\" and \"No C\" represent hospital patients with and without cholecystitis; the rows labeled \"D\" and \"No D\" represent patients with and without diabetes.\n",
    "The results indicate that, from a population of one million people:\n",
    "\n",
    "* We expect a total 514 people with diabetes (top row) to appear in a sample of hospital patients; of them, we expect 29 to also have cholecystitis, and\n",
    "\n",
    "* We expect 11,088 people without diabetes (bottom row) to appear in the sample; of them, we expect 1485 to have cholecystitis."
   ]
  },
  {
   "cell_type": "code",
   "execution_count": 40,
   "metadata": {
    "tags": []
   },
   "outputs": [
    {
     "data": {
      "text/plain": [
       "D       0.056879\n",
       "No D    0.133929\n",
       "dtype: float64"
      ]
     },
     "execution_count": 40,
     "metadata": {},
     "output_type": "execute_result"
    }
   ],
   "source": [
    "hospital[\"C\"] / hospital[\"Total\"]"
   ]
  },
  {
   "cell_type": "markdown",
   "metadata": {
    "tags": []
   },
   "source": [
    "If we compute the rate in each row, we find:\n",
    "\n",
    "* In the group with diabetes, about 5.6% have cholecystitis, and\n",
    "\n",
    "* In the group without diabetes, about 13% have cholecystitis.\n",
    "\n",
    "So in the sample, the correlation between the conditions is negative: if you have diabetes, you are substantially less likely to have cholecystitis.\n",
    "But we know that there is no such relationship in the simulated population, because we designed it that way. So why does this relationship appear in the hospital sample?\n",
    "\n",
    "Here are the pieces of the explanation:\n",
    "\n",
    "* People with either condition are more likely to go to the hospital, compared to people with neither condition.\n",
    "\n",
    "* If you find someone at the hospital who has cholecystitis, that's likely to be the reason they are in the hospital.\n",
    "\n",
    "* If they *don't* have cholecystitis, they are probably there for another reason, so they are more likely to have diabetes."
   ]
  },
  {
   "cell_type": "markdown",
   "metadata": {},
   "source": [
    "That's the end of the computational part of this chapter; the other examples are narrative."
   ]
  },
  {
   "cell_type": "markdown",
   "metadata": {
    "tags": []
   },
   "source": [
    "Probably Overthinking It\n",
    "\n",
    "Copyright 2022 Allen Downey \n",
    "\n",
    "The code in this notebook and `utils.py` is under the [MIT license](https://mit-license.org/)."
   ]
  },
  {
   "cell_type": "code",
   "execution_count": null,
   "metadata": {},
   "outputs": [],
   "source": []
  }
 ],
 "metadata": {
  "celltoolbar": "Tags",
  "kernelspec": {
   "display_name": "Python 3 (ipykernel)",
   "language": "python",
   "name": "python3"
  },
  "language_info": {
   "codemirror_mode": {
    "name": "ipython",
    "version": 3
   },
   "file_extension": ".py",
   "mimetype": "text/x-python",
   "name": "python",
   "nbconvert_exporter": "python",
   "pygments_lexer": "ipython3",
   "version": "3.10.5"
  }
 },
 "nbformat": 4,
 "nbformat_minor": 4
}
