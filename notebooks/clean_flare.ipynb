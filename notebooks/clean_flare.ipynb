{
 "cells": [
  {
   "cell_type": "markdown",
   "metadata": {},
   "source": [
    "# Preparing data on solar flares"
   ]
  },
  {
   "cell_type": "markdown",
   "metadata": {},
   "source": [
    "This is one of the Jupyter notebooks I used in my preparation of *Probably Overthinking It: How to Use Data to Answer Questions, Avoid Statistical Traps, and Make Better Decisions*.\n",
    "\n",
    "The book is scheduled to be published by University of Chicago Press in 2023.\n",
    "If you would like to get infrequent email announcements about the book, please\n",
    "[sign up for my mailing list](http://eepurl.com/h0nfbX).\n",
    "\n"
   ]
  },
  {
   "cell_type": "markdown",
   "metadata": {},
   "source": [
    "[Click here to run this notebook on Colab](https://colab.research.google.com/github/AllenDowney/ProbablyOverthinkingIt/blob/book/notebooks/clean_flare.ipynb)."
   ]
  },
  {
   "cell_type": "code",
   "execution_count": 2,
   "metadata": {},
   "outputs": [],
   "source": [
    "import pandas as pd\n",
    "import numpy as np\n",
    "import matplotlib.pyplot as plt"
   ]
  },
  {
   "cell_type": "code",
   "execution_count": 3,
   "metadata": {},
   "outputs": [],
   "source": [
    "from os.path import basename, exists\n",
    "\n",
    "def download(url):\n",
    "    filename = basename(url)\n",
    "    if not exists(filename):\n",
    "        from urllib.request import urlretrieve\n",
    "        local, _ = urlretrieve(url, filename)\n",
    "        print('Downloaded ' + local)"
   ]
  },
  {
   "cell_type": "markdown",
   "metadata": {},
   "source": [
    "It looks like files from prior to 1997 don't have integrated flux.\n",
    "\n",
    "And the last file is the 2017 year-to-date."
   ]
  },
  {
   "cell_type": "code",
   "execution_count": 28,
   "metadata": {},
   "outputs": [],
   "source": [
    "for i in range(1997, 2017):\n",
    "    url = f'https://www.ngdc.noaa.gov/stp/space-weather/solar-data/solar-features/solar-flares/x-rays/goes/xrs/goes-xrs-report_{i}.txt'    \n",
    "    download(url)"
   ]
  },
  {
   "cell_type": "markdown",
   "metadata": {},
   "source": [
    "Two files have nonstandard filenames."
   ]
  },
  {
   "cell_type": "code",
   "execution_count": 5,
   "metadata": {},
   "outputs": [
    {
     "name": "stdout",
     "output_type": "stream",
     "text": [
      "Downloaded goes-xrs-report_2015_modifiedreplacedmissingrows.txt\n"
     ]
    }
   ],
   "source": [
    "download('https://www.ngdc.noaa.gov/stp/space-weather/solar-data/solar-features/solar-flares/x-rays/goes/xrs/goes-xrs-report_2015_modifiedreplacedmissingrows.txt')\n",
    "    "
   ]
  },
  {
   "cell_type": "code",
   "execution_count": 6,
   "metadata": {},
   "outputs": [],
   "source": [
    "!cp goes-xrs-report_2015_modifiedreplacedmissingrows.txt goes-xrs-report_2015.txt"
   ]
  },
  {
   "cell_type": "code",
   "execution_count": 7,
   "metadata": {},
   "outputs": [
    {
     "name": "stdout",
     "output_type": "stream",
     "text": [
      "Downloaded goes-xrs-report_2017-ytd.txt\n"
     ]
    }
   ],
   "source": [
    "download('https://www.ngdc.noaa.gov/stp/space-weather/solar-data/solar-features/solar-flares/x-rays/goes/xrs/goes-xrs-report_2017-ytd.txt')\n",
    "    "
   ]
  },
  {
   "cell_type": "code",
   "execution_count": 8,
   "metadata": {},
   "outputs": [],
   "source": [
    "!cp goes-xrs-report_2017-ytd.txt goes-xrs-report_2017.txt"
   ]
  },
  {
   "cell_type": "code",
   "execution_count": 9,
   "metadata": {},
   "outputs": [
    {
     "name": "stdout",
     "output_type": "stream",
     "text": [
      "31777170104  0234 0250 0239                                B 18    G15  1.2E-04                               \r",
      "\r\n",
      "31777170105  1820 1839 1831                                B 14    G15  1.3E-04                               \r",
      "\r\n",
      "31777170110  1025 1033 1030                                B 73    G15  1.8E-04                               \r",
      "\r\n",
      "31777170110  1256 1304 1300                                B 88    G15  2.3E-04                               \r",
      "\r\n",
      "31777170110  1510 1517 1513 N16W81                         B 39    G15  9.8E-05       170104.4                \r",
      "\r\n",
      "31777170110  1521 1531 1525                                B 41    G15  1.7E-04                               \r",
      "\r\n",
      "31777170110  1636 1649 1646 N17W81                         B 66    G15  2.6E-04       170104.5                \r",
      "\r\n",
      "31777170110  1803 1813 1808 N17W80                         B 53    G15  2.0E-04       170104.6                \r",
      "\r\n",
      "31777170110  2107 2115 2112                                B 11    G15  3.9E-05                               \r",
      "\r\n",
      "31777170110  2236 2254 2247                                B 25    G15  1.9E-04                               \r",
      "\r\n"
     ]
    }
   ],
   "source": [
    "!head goes-xrs-report_2017.txt"
   ]
  },
  {
   "cell_type": "markdown",
   "metadata": {},
   "source": [
    "Documentation of the format is here\n",
    "\n",
    "https://www.ngdc.noaa.gov/stp/space-weather/solar-data/solar-features/solar-flares/x-rays/goes/documentation/miscellaneous/software/xraydatareports.pro\n",
    "\n",
    "```\n",
    ";Output File Specification\n",
    ";   Column  Format  Description   \n",
    ";\n",
    ";    1- 2     I2    Data code: always 31 for x-ray events\n",
    ";    3- 5     I3    Station Code, 777 for GOES\n",
    ";    6- 7     I2    Year\n",
    ";    8- 9     I2    Month\n",
    ";   10-11     I2    Day\n",
    ";   12-13     A2    Astrisks mark record with unconfirmed change (What does this mean?)\n",
    ";   14-17     I4    Start time of x-ray event - SEE NOTE 1\n",
    ";   18        1X    <space>\n",
    ";   19-22     I4    End time\n",
    ";   23        1X    <space>\n",
    ";   24-27     I4    Max time\n",
    ";   28        1X    <space>\n",
    ";   29        A1    N or S for north or south latitude of xray flare if known\n",
    ";   30-31     I2    Latitude of xray flare, if known\n",
    ";   32        A1    E or W for east or west of longitude of xray flare, in known\n",
    ";   33-34     I2    Central meridian distance of x-ray flare, if known\n",
    ";   35-37     A3    SXI if data are from SXI imagery, blank otherwise\n",
    ";   38-59    22X    <space>\n",
    ";   60        A1    X-ray class: C,M,X code - SEE NOTE 2\n",
    ";   61        1X    <space>\n",
    ";   62-63     I2    X-ray intensity 10-99 for 1.0-9.9 x xray class\n",
    ";   64-67     4X    <space>\n",
    ";   68-71     A4    Station ame abbreviation - \"Gxx \" for GOES\n",
    ";   72        1X    <space>\n",
    ";   73-80   E7.1    Integrated flux (units = J/m**2)\n",
    ";   81-85     I5    NOAA/USAF sunspot region number\n",
    ";   86        1X    <space>\n",
    ";   87-88     I2    Year - central meridian passage (CMP)\n",
    ";   89-90     I2    Month - central meridian passage (CMP)\n",
    ";   91-94   F4.1    Day - central meridian passage (CMP)\n",
    ";   95        1X    <space>\n",
    ";   96-102  F7.1    Total region area in squared arc seconds\n",
    ";  103        1X    <space>\n",
    ";  104-110  F7.2    Total intensity (units - TBD) from SXI, if available\n",
    "```"
   ]
  },
  {
   "cell_type": "markdown",
   "metadata": {},
   "source": [
    "From https://www.spaceweather.gov/phenomena/solar-flares-radio-blackouts\n",
    "\n",
    "```\n",
    "Radio Blackout….. X-ray Flare….. Flux (W/m2)….. Severity Descriptor\n",
    "\n",
    "R1                            M1                   0.00001               Minor\n",
    "\n",
    "R2                            M5                   0.00005               Moderate\n",
    "\n",
    "R3                            X1                     0.0001                 Strong\n",
    "\n",
    "R4                            X10                   0.001                   Severe\n",
    "\n",
    "R5                            X20                   0.002                   Extreme```"
   ]
  },
  {
   "cell_type": "code",
   "execution_count": 10,
   "metadata": {},
   "outputs": [
    {
     "data": {
      "text/plain": [
       "'goes-xrs-report_2017.txt'"
      ]
     },
     "execution_count": 10,
     "metadata": {},
     "output_type": "execute_result"
    }
   ],
   "source": [
    "i = 2017\n",
    "filename = f'goes-xrs-report_{i}.txt'\n",
    "filename"
   ]
  },
  {
   "cell_type": "code",
   "execution_count": 11,
   "metadata": {},
   "outputs": [
    {
     "name": "stdout",
     "output_type": "stream",
     "text": [
      "31777170104  0234 0250 0239                                B 18    G15  1.2E-04                               \r",
      "\r\n",
      "31777170105  1820 1839 1831                                B 14    G15  1.3E-04                               \r",
      "\r\n",
      "31777170110  1025 1033 1030                                B 73    G15  1.8E-04                               \r",
      "\r\n",
      "31777170110  1256 1304 1300                                B 88    G15  2.3E-04                               \r",
      "\r\n",
      "31777170110  1510 1517 1513 N16W81                         B 39    G15  9.8E-05       170104.4                \r",
      "\r\n",
      "31777170110  1521 1531 1525                                B 41    G15  1.7E-04                               \r",
      "\r\n",
      "31777170110  1636 1649 1646 N17W81                         B 66    G15  2.6E-04       170104.5                \r",
      "\r\n",
      "31777170110  1803 1813 1808 N17W80                         B 53    G15  2.0E-04       170104.6                \r",
      "\r\n",
      "31777170110  2107 2115 2112                                B 11    G15  3.9E-05                               \r",
      "\r\n",
      "31777170110  2236 2254 2247                                B 25    G15  1.9E-04                               \r",
      "\r\n"
     ]
    }
   ],
   "source": [
    "!head goes-xrs-report_2017.txt"
   ]
  },
  {
   "cell_type": "code",
   "execution_count": 12,
   "metadata": {},
   "outputs": [
    {
     "data": {
      "text/html": [
       "<div>\n",
       "<style scoped>\n",
       "    .dataframe tbody tr th:only-of-type {\n",
       "        vertical-align: middle;\n",
       "    }\n",
       "\n",
       "    .dataframe tbody tr th {\n",
       "        vertical-align: top;\n",
       "    }\n",
       "\n",
       "    .dataframe thead th {\n",
       "        text-align: right;\n",
       "    }\n",
       "</style>\n",
       "<table border=\"1\" class=\"dataframe\">\n",
       "  <thead>\n",
       "    <tr style=\"text-align: right;\">\n",
       "      <th></th>\n",
       "      <th>0</th>\n",
       "      <th>1</th>\n",
       "      <th>2</th>\n",
       "      <th>3</th>\n",
       "      <th>4</th>\n",
       "      <th>5</th>\n",
       "    </tr>\n",
       "  </thead>\n",
       "  <tbody>\n",
       "    <tr>\n",
       "      <th>0</th>\n",
       "      <td>17</td>\n",
       "      <td>NaN</td>\n",
       "      <td>NaN</td>\n",
       "      <td>0.000120</td>\n",
       "      <td>1</td>\n",
       "      <td>4</td>\n",
       "    </tr>\n",
       "    <tr>\n",
       "      <th>1</th>\n",
       "      <td>17</td>\n",
       "      <td>NaN</td>\n",
       "      <td>NaN</td>\n",
       "      <td>0.000130</td>\n",
       "      <td>1</td>\n",
       "      <td>5</td>\n",
       "    </tr>\n",
       "    <tr>\n",
       "      <th>2</th>\n",
       "      <td>17</td>\n",
       "      <td>NaN</td>\n",
       "      <td>NaN</td>\n",
       "      <td>0.000180</td>\n",
       "      <td>1</td>\n",
       "      <td>10</td>\n",
       "    </tr>\n",
       "    <tr>\n",
       "      <th>3</th>\n",
       "      <td>17</td>\n",
       "      <td>NaN</td>\n",
       "      <td>NaN</td>\n",
       "      <td>0.000230</td>\n",
       "      <td>1</td>\n",
       "      <td>10</td>\n",
       "    </tr>\n",
       "    <tr>\n",
       "      <th>4</th>\n",
       "      <td>17</td>\n",
       "      <td>N</td>\n",
       "      <td>16.0</td>\n",
       "      <td>0.000098</td>\n",
       "      <td>1</td>\n",
       "      <td>10</td>\n",
       "    </tr>\n",
       "  </tbody>\n",
       "</table>\n",
       "</div>"
      ],
      "text/plain": [
       "    0    1     2         3  4   5\n",
       "0  17  NaN   NaN  0.000120  1   4\n",
       "1  17  NaN   NaN  0.000130  1   5\n",
       "2  17  NaN   NaN  0.000180  1  10\n",
       "3  17  NaN   NaN  0.000230  1  10\n",
       "4  17    N  16.0  0.000098  1  10"
      ]
     },
     "execution_count": 12,
     "metadata": {},
     "output_type": "execute_result"
    }
   ],
   "source": [
    "colspecs = [(5, 7), (28, 29), (29, 31), (72, 80), (7, 9), (9, 11)]\n",
    "df = pd.read_fwf(filename, colspecs=colspecs, header=None)\n",
    "df.head()"
   ]
  },
  {
   "cell_type": "code",
   "execution_count": 13,
   "metadata": {},
   "outputs": [
    {
     "name": "stdout",
     "output_type": "stream",
     "text": [
      "1997 1141 (1141, 6)\n",
      "1998 2248 (2248, 6)\n",
      "1999 2425 (2425, 6)\n",
      "2000 2661 (2661, 6)\n",
      "2001 2706 (2706, 6)\n",
      "2002 2718 (2718, 6)\n",
      "2003 2394 (2394, 6)\n",
      "2004 2369 (2369, 6)\n",
      "2005 2171 (2171, 6)\n",
      "2006 1339 (1339, 6)\n",
      "2007 649 (649, 6)\n",
      "2008 86 (86, 6)\n",
      "2009 256 (256, 6)\n",
      "2010 1255 (1255, 6)\n",
      "2011 2171 (2171, 6)\n",
      "2012 2037 (2037, 6)\n",
      "2013 2051 (2051, 6)\n",
      "2014 2258 (2258, 6)\n",
      "2015 1963 (1963, 6)\n",
      "2016 1194 (1194, 6)\n",
      "2017 510 (510, 6)\n"
     ]
    }
   ],
   "source": [
    "df_seq = []\n",
    "# colspecs = [(5,7), (28, 29), (29, 31), (72, 80)]\n",
    "\n",
    "for i in range(1997, 2018):\n",
    "    filename = f'goes-xrs-report_{i}.txt'\n",
    "    df = pd.read_fwf(filename, colspecs=colspecs, header=None)\n",
    "    print(i, len(df), df.shape)\n",
    "    df_seq.append(df)"
   ]
  },
  {
   "cell_type": "code",
   "execution_count": 14,
   "metadata": {},
   "outputs": [
    {
     "data": {
      "text/html": [
       "<div>\n",
       "<style scoped>\n",
       "    .dataframe tbody tr th:only-of-type {\n",
       "        vertical-align: middle;\n",
       "    }\n",
       "\n",
       "    .dataframe tbody tr th {\n",
       "        vertical-align: top;\n",
       "    }\n",
       "\n",
       "    .dataframe thead th {\n",
       "        text-align: right;\n",
       "    }\n",
       "</style>\n",
       "<table border=\"1\" class=\"dataframe\">\n",
       "  <thead>\n",
       "    <tr style=\"text-align: right;\">\n",
       "      <th></th>\n",
       "      <th>year</th>\n",
       "      <th>ns</th>\n",
       "      <th>lat</th>\n",
       "      <th>flux</th>\n",
       "      <th>month</th>\n",
       "      <th>day</th>\n",
       "    </tr>\n",
       "  </thead>\n",
       "  <tbody>\n",
       "    <tr>\n",
       "      <th>0</th>\n",
       "      <td>97</td>\n",
       "      <td>NaN</td>\n",
       "      <td>NaN</td>\n",
       "      <td>0.000430</td>\n",
       "      <td>1</td>\n",
       "      <td>5</td>\n",
       "    </tr>\n",
       "    <tr>\n",
       "      <th>1</th>\n",
       "      <td>97</td>\n",
       "      <td>S</td>\n",
       "      <td>1.0</td>\n",
       "      <td>0.000015</td>\n",
       "      <td>1</td>\n",
       "      <td>7</td>\n",
       "    </tr>\n",
       "    <tr>\n",
       "      <th>2</th>\n",
       "      <td>97</td>\n",
       "      <td>NaN</td>\n",
       "      <td>NaN</td>\n",
       "      <td>0.000041</td>\n",
       "      <td>1</td>\n",
       "      <td>16</td>\n",
       "    </tr>\n",
       "    <tr>\n",
       "      <th>3</th>\n",
       "      <td>97</td>\n",
       "      <td>NaN</td>\n",
       "      <td>NaN</td>\n",
       "      <td>NaN</td>\n",
       "      <td>1</td>\n",
       "      <td>16</td>\n",
       "    </tr>\n",
       "    <tr>\n",
       "      <th>4</th>\n",
       "      <td>97</td>\n",
       "      <td>NaN</td>\n",
       "      <td>NaN</td>\n",
       "      <td>0.000010</td>\n",
       "      <td>1</td>\n",
       "      <td>19</td>\n",
       "    </tr>\n",
       "  </tbody>\n",
       "</table>\n",
       "</div>"
      ],
      "text/plain": [
       "   year   ns  lat      flux  month  day\n",
       "0    97  NaN  NaN  0.000430      1    5\n",
       "1    97    S  1.0  0.000015      1    7\n",
       "2    97  NaN  NaN  0.000041      1   16\n",
       "3    97  NaN  NaN       NaN      1   16\n",
       "4    97  NaN  NaN  0.000010      1   19"
      ]
     },
     "execution_count": 14,
     "metadata": {},
     "output_type": "execute_result"
    }
   ],
   "source": [
    "flares = pd.concat(df_seq, ignore_index=True)\n",
    "flares.columns = ['year', 'ns', 'lat', 'flux', 'month', 'day']\n",
    "flares.head()"
   ]
  },
  {
   "cell_type": "code",
   "execution_count": 15,
   "metadata": {},
   "outputs": [],
   "source": [
    "flares['year'] += np.where(flares['year'] > 50, 1900, 2000)"
   ]
  },
  {
   "cell_type": "code",
   "execution_count": 16,
   "metadata": {},
   "outputs": [
    {
     "data": {
      "text/plain": [
       "count    36602.000000\n",
       "mean      2005.935441\n",
       "std          6.030805\n",
       "min       1997.000000\n",
       "25%       2001.000000\n",
       "50%       2004.000000\n",
       "75%       2012.000000\n",
       "max       2017.000000\n",
       "Name: year, dtype: float64"
      ]
     },
     "execution_count": 16,
     "metadata": {},
     "output_type": "execute_result"
    }
   ],
   "source": [
    "flares['year'].describe()"
   ]
  },
  {
   "cell_type": "code",
   "execution_count": 17,
   "metadata": {},
   "outputs": [
    {
     "data": {
      "text/plain": [
       "count    36602.000000\n",
       "mean         6.567592\n",
       "std          3.462545\n",
       "min          1.000000\n",
       "25%          4.000000\n",
       "50%          7.000000\n",
       "75%         10.000000\n",
       "max         12.000000\n",
       "Name: month, dtype: float64"
      ]
     },
     "execution_count": 17,
     "metadata": {},
     "output_type": "execute_result"
    }
   ],
   "source": [
    "flares['month'].describe()"
   ]
  },
  {
   "cell_type": "code",
   "execution_count": 18,
   "metadata": {},
   "outputs": [
    {
     "data": {
      "text/plain": [
       "count    36602.000000\n",
       "mean        15.741052\n",
       "std          8.728193\n",
       "min          1.000000\n",
       "25%          8.000000\n",
       "50%         16.000000\n",
       "75%         23.000000\n",
       "max         31.000000\n",
       "Name: day, dtype: float64"
      ]
     },
     "execution_count": 18,
     "metadata": {},
     "output_type": "execute_result"
    }
   ],
   "source": [
    "flares['day'].describe()"
   ]
  },
  {
   "cell_type": "code",
   "execution_count": 19,
   "metadata": {},
   "outputs": [
    {
     "data": {
      "text/plain": [
       "year     2005\n",
       "ns          S\n",
       "lat      11.0\n",
       "flux      2.6\n",
       "month       9\n",
       "day         7\n",
       "Name: 20312, dtype: object"
      ]
     },
     "execution_count": 19,
     "metadata": {},
     "output_type": "execute_result"
    }
   ],
   "source": [
    "i = flares['flux'].argmax()\n",
    "flares.loc[i]"
   ]
  },
  {
   "cell_type": "code",
   "execution_count": 20,
   "metadata": {},
   "outputs": [
    {
     "data": {
      "text/plain": [
       "count    36560.000000\n",
       "mean         0.004608\n",
       "std          0.034690\n",
       "min          0.000010\n",
       "25%          0.000290\n",
       "50%          0.000830\n",
       "75%          0.002400\n",
       "max          2.600000\n",
       "Name: flux, dtype: float64"
      ]
     },
     "execution_count": 20,
     "metadata": {},
     "output_type": "execute_result"
    }
   ],
   "source": [
    "flux = flares['flux'].replace(0, np.nan).dropna()\n",
    "flux.describe()"
   ]
  },
  {
   "cell_type": "code",
   "execution_count": 21,
   "metadata": {},
   "outputs": [],
   "source": [
    "flux.to_csv('flares.csv', index=False, header=False)"
   ]
  },
  {
   "cell_type": "code",
   "execution_count": 22,
   "metadata": {},
   "outputs": [
    {
     "name": "stdout",
     "output_type": "stream",
     "text": [
      "-rw-rw-r-- 1 downey downey 264K Mar  1 20:22 flares.csv\r\n"
     ]
    }
   ],
   "source": [
    "!ls -lh flares.csv"
   ]
  },
  {
   "cell_type": "code",
   "execution_count": 23,
   "metadata": {},
   "outputs": [
    {
     "data": {
      "text/plain": [
       "count    36560.000000\n",
       "mean        -3.058657\n",
       "std          0.691503\n",
       "min         -5.022276\n",
       "25%         -3.537602\n",
       "50%         -3.080922\n",
       "75%         -2.619789\n",
       "max          0.414973\n",
       "Name: flux, dtype: float64"
      ]
     },
     "execution_count": 23,
     "metadata": {},
     "output_type": "execute_result"
    }
   ],
   "source": [
    "mags = np.log10(flux)\n",
    "mags.describe()"
   ]
  },
  {
   "cell_type": "code",
   "execution_count": 24,
   "metadata": {},
   "outputs": [
    {
     "data": {
      "text/plain": [
       "(36560, 7)"
      ]
     },
     "execution_count": 24,
     "metadata": {},
     "output_type": "execute_result"
    }
   ],
   "source": [
    "flares['flux'].replace(0, np.nan, inplace=True)\n",
    "flares = flares.dropna(subset=['flux'])\n",
    "flares['mag'] = np.log10(flares['flux'])\n",
    "flares.shape"
   ]
  },
  {
   "cell_type": "code",
   "execution_count": 25,
   "metadata": {},
   "outputs": [
    {
     "data": {
      "text/plain": [
       "0                  NaN\n",
       "1        (-0.001, 9.0]\n",
       "2                  NaN\n",
       "4                  NaN\n",
       "5        (-0.001, 9.0]\n",
       "             ...      \n",
       "36597              NaN\n",
       "36598              NaN\n",
       "36599              NaN\n",
       "36600     (16.0, 20.0]\n",
       "36601              NaN\n",
       "Name: lat, Length: 36560, dtype: category\n",
       "Categories (5, interval[float64, right]): [(-0.001, 9.0] < (9.0, 12.0] < (12.0, 16.0] < (16.0, 20.0] < (20.0, 86.0]]"
      ]
     },
     "execution_count": 25,
     "metadata": {},
     "output_type": "execute_result"
    }
   ],
   "source": [
    "bins = pd.qcut(flares['lat'], 5)\n",
    "bins"
   ]
  },
  {
   "cell_type": "code",
   "execution_count": 26,
   "metadata": {},
   "outputs": [
    {
     "data": {
      "text/html": [
       "<div>\n",
       "<style scoped>\n",
       "    .dataframe tbody tr th:only-of-type {\n",
       "        vertical-align: middle;\n",
       "    }\n",
       "\n",
       "    .dataframe tbody tr th {\n",
       "        vertical-align: top;\n",
       "    }\n",
       "\n",
       "    .dataframe thead th {\n",
       "        text-align: right;\n",
       "    }\n",
       "</style>\n",
       "<table border=\"1\" class=\"dataframe\">\n",
       "  <thead>\n",
       "    <tr style=\"text-align: right;\">\n",
       "      <th></th>\n",
       "      <th>count</th>\n",
       "      <th>mean</th>\n",
       "      <th>std</th>\n",
       "    </tr>\n",
       "    <tr>\n",
       "      <th>year</th>\n",
       "      <th></th>\n",
       "      <th></th>\n",
       "      <th></th>\n",
       "    </tr>\n",
       "  </thead>\n",
       "  <tbody>\n",
       "    <tr>\n",
       "      <th>1997</th>\n",
       "      <td>1139</td>\n",
       "      <td>-3.477092</td>\n",
       "      <td>0.625527</td>\n",
       "    </tr>\n",
       "    <tr>\n",
       "      <th>1998</th>\n",
       "      <td>2238</td>\n",
       "      <td>-3.104455</td>\n",
       "      <td>0.633378</td>\n",
       "    </tr>\n",
       "    <tr>\n",
       "      <th>1999</th>\n",
       "      <td>2413</td>\n",
       "      <td>-2.823423</td>\n",
       "      <td>0.567794</td>\n",
       "    </tr>\n",
       "    <tr>\n",
       "      <th>2000</th>\n",
       "      <td>2659</td>\n",
       "      <td>-2.692885</td>\n",
       "      <td>0.520485</td>\n",
       "    </tr>\n",
       "    <tr>\n",
       "      <th>2001</th>\n",
       "      <td>2704</td>\n",
       "      <td>-2.647219</td>\n",
       "      <td>0.587652</td>\n",
       "    </tr>\n",
       "    <tr>\n",
       "      <th>2002</th>\n",
       "      <td>2714</td>\n",
       "      <td>-2.708178</td>\n",
       "      <td>0.524542</td>\n",
       "    </tr>\n",
       "    <tr>\n",
       "      <th>2003</th>\n",
       "      <td>2393</td>\n",
       "      <td>-2.983089</td>\n",
       "      <td>0.657991</td>\n",
       "    </tr>\n",
       "    <tr>\n",
       "      <th>2004</th>\n",
       "      <td>2369</td>\n",
       "      <td>-3.227574</td>\n",
       "      <td>0.662144</td>\n",
       "    </tr>\n",
       "    <tr>\n",
       "      <th>2005</th>\n",
       "      <td>2169</td>\n",
       "      <td>-3.350025</td>\n",
       "      <td>0.734765</td>\n",
       "    </tr>\n",
       "    <tr>\n",
       "      <th>2006</th>\n",
       "      <td>1339</td>\n",
       "      <td>-3.733364</td>\n",
       "      <td>0.614207</td>\n",
       "    </tr>\n",
       "    <tr>\n",
       "      <th>2007</th>\n",
       "      <td>649</td>\n",
       "      <td>-3.735556</td>\n",
       "      <td>0.584716</td>\n",
       "    </tr>\n",
       "    <tr>\n",
       "      <th>2008</th>\n",
       "      <td>86</td>\n",
       "      <td>-3.810691</td>\n",
       "      <td>0.531504</td>\n",
       "    </tr>\n",
       "    <tr>\n",
       "      <th>2009</th>\n",
       "      <td>250</td>\n",
       "      <td>-3.825383</td>\n",
       "      <td>0.490266</td>\n",
       "    </tr>\n",
       "    <tr>\n",
       "      <th>2010</th>\n",
       "      <td>1254</td>\n",
       "      <td>-3.663134</td>\n",
       "      <td>0.614800</td>\n",
       "    </tr>\n",
       "    <tr>\n",
       "      <th>2011</th>\n",
       "      <td>2171</td>\n",
       "      <td>-3.124539</td>\n",
       "      <td>0.661881</td>\n",
       "    </tr>\n",
       "    <tr>\n",
       "      <th>2012</th>\n",
       "      <td>2037</td>\n",
       "      <td>-3.037476</td>\n",
       "      <td>0.597470</td>\n",
       "    </tr>\n",
       "    <tr>\n",
       "      <th>2013</th>\n",
       "      <td>2051</td>\n",
       "      <td>-2.996004</td>\n",
       "      <td>0.577690</td>\n",
       "    </tr>\n",
       "    <tr>\n",
       "      <th>2014</th>\n",
       "      <td>2258</td>\n",
       "      <td>-2.739878</td>\n",
       "      <td>0.606173</td>\n",
       "    </tr>\n",
       "    <tr>\n",
       "      <th>2015</th>\n",
       "      <td>1963</td>\n",
       "      <td>-2.940692</td>\n",
       "      <td>0.596268</td>\n",
       "    </tr>\n",
       "    <tr>\n",
       "      <th>2016</th>\n",
       "      <td>1194</td>\n",
       "      <td>-3.476704</td>\n",
       "      <td>0.573987</td>\n",
       "    </tr>\n",
       "    <tr>\n",
       "      <th>2017</th>\n",
       "      <td>510</td>\n",
       "      <td>-3.641521</td>\n",
       "      <td>0.601382</td>\n",
       "    </tr>\n",
       "  </tbody>\n",
       "</table>\n",
       "</div>"
      ],
      "text/plain": [
       "      count      mean       std\n",
       "year                           \n",
       "1997   1139 -3.477092  0.625527\n",
       "1998   2238 -3.104455  0.633378\n",
       "1999   2413 -2.823423  0.567794\n",
       "2000   2659 -2.692885  0.520485\n",
       "2001   2704 -2.647219  0.587652\n",
       "2002   2714 -2.708178  0.524542\n",
       "2003   2393 -2.983089  0.657991\n",
       "2004   2369 -3.227574  0.662144\n",
       "2005   2169 -3.350025  0.734765\n",
       "2006   1339 -3.733364  0.614207\n",
       "2007    649 -3.735556  0.584716\n",
       "2008     86 -3.810691  0.531504\n",
       "2009    250 -3.825383  0.490266\n",
       "2010   1254 -3.663134  0.614800\n",
       "2011   2171 -3.124539  0.661881\n",
       "2012   2037 -3.037476  0.597470\n",
       "2013   2051 -2.996004  0.577690\n",
       "2014   2258 -2.739878  0.606173\n",
       "2015   1963 -2.940692  0.596268\n",
       "2016   1194 -3.476704  0.573987\n",
       "2017    510 -3.641521  0.601382"
      ]
     },
     "execution_count": 26,
     "metadata": {},
     "output_type": "execute_result"
    }
   ],
   "source": [
    "summary = flares.groupby('year')['mag'].agg(['count', 'mean', 'std'])\n",
    "summary"
   ]
  },
  {
   "cell_type": "code",
   "execution_count": 27,
   "metadata": {},
   "outputs": [
    {
     "data": {
      "text/plain": [
       "count    0.477711\n",
       "mean    -0.125217\n",
       "std      0.093619\n",
       "dtype: float64"
      ]
     },
     "execution_count": 27,
     "metadata": {},
     "output_type": "execute_result"
    }
   ],
   "source": [
    "cv = summary.std() / summary.mean()\n",
    "cv"
   ]
  },
  {
   "cell_type": "markdown",
   "metadata": {},
   "source": [
    "*Elements of Data Science*\n",
    "\n",
    "Copyright 2022 Allen Downey\n",
    "\n",
    "License: [Creative Commons Attribution-NonCommercial-ShareAlike 4.0 International](https://creativecommons.org/licenses/by-nc-sa/4.0/)"
   ]
  },
  {
   "cell_type": "code",
   "execution_count": null,
   "metadata": {},
   "outputs": [],
   "source": []
  }
 ],
 "metadata": {
  "kernelspec": {
   "display_name": "Python 3 (ipykernel)",
   "language": "python",
   "name": "python3"
  },
  "language_info": {
   "codemirror_mode": {
    "name": "ipython",
    "version": 3
   },
   "file_extension": ".py",
   "mimetype": "text/x-python",
   "name": "python",
   "nbconvert_exporter": "python",
   "pygments_lexer": "ipython3",
   "version": "3.10.9"
  }
 },
 "nbformat": 4,
 "nbformat_minor": 4
}
