{
 "cells": [
  {
   "cell_type": "markdown",
   "metadata": {},
   "source": [
    "# Data cleaning for exploring Simpson's paradox"
   ]
  },
  {
   "cell_type": "markdown",
   "metadata": {},
   "source": [
    "This is one of the Jupyter notebooks I used in my preparation of *[Probably Overthinking It: How to Use Data to Answer Questions, Avoid Statistical Traps, and Make Better Decisions](https://greenteapress.com/wp/probably-overthinking-it)*, University of Chicago Press, 2023.\n",
    "\n",
    "Before you read these notebooks, please keep in mind:\n",
    "\n",
    "* There is some explanatory text here, but some of the examples will not make sense until you have read the corresponding chapter in the book.\n",
    "\n",
    "* While preparing these notebooks, I made some changes to improve the readability of the code. There might be small differences between what appears in the book and what you get when you run the code."
   ]
  },
  {
   "cell_type": "markdown",
   "metadata": {},
   "source": [
    "[Click here to run this notebook on Colab](https://colab.research.google.com/github/AllenDowney/ProbablyOverthinkingIt/blob/book/notebooks/clean_simpson.ipynb)."
   ]
  },
  {
   "cell_type": "code",
   "execution_count": 43,
   "metadata": {},
   "outputs": [],
   "source": [
    "from os.path import basename, exists\n",
    "\n",
    "def download(url):\n",
    "    filename = basename(url)\n",
    "    if not exists(filename):\n",
    "        from urllib.request import urlretrieve\n",
    "        local, _ = urlretrieve(url, filename)\n",
    "        print('Downloaded ' + local)"
   ]
  },
  {
   "cell_type": "code",
   "execution_count": 4,
   "metadata": {},
   "outputs": [],
   "source": [
    "import numpy as np\n",
    "import pandas as pd\n",
    "import matplotlib.pyplot as plt"
   ]
  },
  {
   "cell_type": "code",
   "execution_count": 45,
   "metadata": {},
   "outputs": [
    {
     "name": "stdout",
     "output_type": "stream",
     "text": [
      "Downloaded gss_eds.3.hdf\n"
     ]
    }
   ],
   "source": [
    "# This dataset is prepared in clean_simpson.ipynb\n",
    "\n",
    "DATA_PATH = \"https://github.com/AllenDowney/ProbablyOverthinkingIt/raw/book/data/\"\n",
    "\n",
    "filename = \"gss_eds.3.hdf\"\n",
    "download(DATA_PATH + filename)"
   ]
  },
  {
   "cell_type": "code",
   "execution_count": 46,
   "metadata": {},
   "outputs": [
    {
     "name": "stdout",
     "output_type": "stream",
     "text": [
      "-rw-rw-r-- 1 downey downey 31M Jan  7 14:34 gss_eds.3.hdf\r\n"
     ]
    }
   ],
   "source": [
    "!ls -lh gss_eds.3.hdf"
   ]
  },
  {
   "cell_type": "code",
   "execution_count": 47,
   "metadata": {},
   "outputs": [
    {
     "data": {
      "text/plain": [
       "(68846, 205)"
      ]
     },
     "execution_count": 47,
     "metadata": {},
     "output_type": "execute_result"
    }
   ],
   "source": [
    "gss = pd.read_hdf('gss_eds.3.hdf', 'gss1')\n",
    "gss.shape"
   ]
  },
  {
   "cell_type": "code",
   "execution_count": 48,
   "metadata": {},
   "outputs": [],
   "source": [
    "recode_polviews = {1:'Liberal', \n",
    "                   2:'Liberal', \n",
    "                   3:'Liberal', \n",
    "                   4:'Moderate', \n",
    "                   5:'Conservative', \n",
    "                   6:'Conservative', \n",
    "                   7:'Conservative'}"
   ]
  },
  {
   "cell_type": "code",
   "execution_count": 49,
   "metadata": {},
   "outputs": [
    {
     "data": {
      "text/plain": [
       "polviews3\n",
       "Moderate        23125\n",
       "Conservative    20165\n",
       "Liberal         16056\n",
       "Name: count, dtype: int64"
      ]
     },
     "execution_count": 49,
     "metadata": {},
     "output_type": "execute_result"
    }
   ],
   "source": [
    "gss['polviews3'] = gss['polviews'].replace(recode_polviews)\n",
    "gss['polviews3'].value_counts()"
   ]
  },
  {
   "cell_type": "markdown",
   "metadata": {},
   "source": [
    ">Generally speaking, do you usually think of yourself as a Republican, Democrat, Independent, or what?\n",
    "\n",
    "The valid responses are:\n",
    "\n",
    "```\n",
    "0\tStrong democrat\n",
    "1\tNot str democrat\n",
    "2\tInd,near dem\n",
    "3\tIndependent\n",
    "4\tInd,near rep\n",
    "5\tNot str republican\n",
    "6\tStrong republican\n",
    "7\tOther party\n",
    "```\n",
    "\n",
    "You can [read the codebook for `partyid` here](https://gssdataexplorer.norc.org/projects/52787/variables/141/vshow)."
   ]
  },
  {
   "cell_type": "code",
   "execution_count": 10,
   "metadata": {},
   "outputs": [],
   "source": [
    "recode_partyid = {0: 'Democrat',\n",
    "                  1:'Democrat', \n",
    "                   2:'Independent', \n",
    "                   3:'Independent', \n",
    "                   4:'Independent', \n",
    "                   5:'Republican', \n",
    "                   6:'Republican', \n",
    "                   7:'Other'}"
   ]
  },
  {
   "cell_type": "code",
   "execution_count": 11,
   "metadata": {},
   "outputs": [
    {
     "data": {
      "text/plain": [
       "partyid4\n",
       "Independent    25271\n",
       "Democrat       24560\n",
       "Republican     17328\n",
       "Other           1198\n",
       "Name: count, dtype: int64"
      ]
     },
     "execution_count": 11,
     "metadata": {},
     "output_type": "execute_result"
    }
   ],
   "source": [
    "gss['partyid4'] = gss['partyid'].replace(recode_partyid)\n",
    "gss['partyid4'].value_counts()"
   ]
  },
  {
   "cell_type": "markdown",
   "metadata": {},
   "source": [
    "Respondent's highest degree\n",
    "\n",
    "```\n",
    "0 \tLt high school\n",
    "1 \tHigh school\n",
    "2 \tJunior college\n",
    "3 \tBachelor\n",
    "4 \tGraduate\n",
    "8 \tDon't know\n",
    "9 \tNo answer\n",
    "```\n",
    "\n"
   ]
  },
  {
   "cell_type": "code",
   "execution_count": 12,
   "metadata": {},
   "outputs": [
    {
     "data": {
      "text/plain": [
       "degree\n",
       "1.0    35623\n",
       "0.0    14021\n",
       "3.0     9895\n",
       "4.0     4940\n",
       "2.0     4158\n",
       "Name: count, dtype: int64"
      ]
     },
     "execution_count": 12,
     "metadata": {},
     "output_type": "execute_result"
    }
   ],
   "source": [
    "gss['degree'].value_counts()"
   ]
  },
  {
   "cell_type": "markdown",
   "metadata": {},
   "source": [
    "> What is your religious preference? Is it Protestant, Catholic, Jewish, some other religion, or no religion?\n",
    "\n",
    "```\n",
    "1 \tProtestant\n",
    "2 \tCatholic\n",
    "3 \tJewish\n",
    "4 \tNone\n",
    "5 \tOther\n",
    "6 \tBuddhism\n",
    "7 \tHinduism\n",
    "8 \tOther eastern\n",
    "9 \tMoslem/islam\n",
    "10 \tOrthodox-christian\n",
    "11 \tChristian\n",
    "12 \tNative american\n",
    "13 \tInter-nondenominational\n",
    "```\n",
    "\n"
   ]
  },
  {
   "cell_type": "code",
   "execution_count": 13,
   "metadata": {},
   "outputs": [],
   "source": [
    "recode_relig = {1:'Protestant', \n",
    "                   2:'Catholic', \n",
    "                   3:'Other', \n",
    "                   4:'None', \n",
    "                   5:'Other', \n",
    "                   6:'Other', \n",
    "                   7:'Other', \n",
    "                   8:'Other', \n",
    "                   9:'Other', \n",
    "                   10:'Other Christian', \n",
    "                   11:'Other Christian', \n",
    "                   12:'Other', \n",
    "                   13:'Other'}"
   ]
  },
  {
   "cell_type": "code",
   "execution_count": 14,
   "metadata": {},
   "outputs": [
    {
     "data": {
      "text/plain": [
       "relig5\n",
       "Protestant         37689\n",
       "Catholic           17428\n",
       "None                8875\n",
       "Other               3301\n",
       "Other Christian     1099\n",
       "Name: count, dtype: int64"
      ]
     },
     "execution_count": 14,
     "metadata": {},
     "output_type": "execute_result"
    }
   ],
   "source": [
    "gss['relig5'] = gss['relig'].replace(recode_relig)\n",
    "gss['relig5'].value_counts()"
   ]
  },
  {
   "cell_type": "markdown",
   "metadata": {},
   "source": [
    "> If you were asked to use one of four names for your social class, which would you say you belong in: the lower class, the working class, the middle class, or the upper class?\n",
    " \n",
    "```\n",
    "1 \tLower class\n",
    "2 \tWorking class\n",
    "3 \tMiddle class\n",
    "4 \tUpper class\n",
    "5 \tNo class\n",
    "8 \tDon't know\n",
    "9 \tNo answer\n",
    "0 \tNot applicable\n",
    "```"
   ]
  },
  {
   "cell_type": "code",
   "execution_count": 15,
   "metadata": {},
   "outputs": [],
   "source": [
    "recode_class = {1:'Lower class', \n",
    "                   2:'Working class', \n",
    "                   3:'Middle class', \n",
    "                   4:'Upper class', \n",
    "                   }"
   ]
  },
  {
   "cell_type": "code",
   "execution_count": 16,
   "metadata": {},
   "outputs": [
    {
     "data": {
      "text/plain": [
       "class\n",
       "Working class    30094\n",
       "Middle class     29367\n",
       "Lower class       3801\n",
       "Upper class       2068\n",
       "Name: count, dtype: int64"
      ]
     },
     "execution_count": 16,
     "metadata": {},
     "output_type": "execute_result"
    }
   ],
   "source": [
    "gss['class'] = gss['class'].replace(recode_class)\n",
    "gss['class'].value_counts()"
   ]
  },
  {
   "cell_type": "markdown",
   "metadata": {},
   "source": [
    "```\n",
    "0 \tLt high school\n",
    "1 \tHigh school\n",
    "2 \tJunior college\n",
    "3 \tBachelor\n",
    "4 \tGraduate\n",
    "```"
   ]
  },
  {
   "cell_type": "code",
   "execution_count": 17,
   "metadata": {},
   "outputs": [],
   "source": [
    "recode_degree = {0: 'Less than high school',\n",
    "                  1:'High school', \n",
    "                   2:'Junior college', \n",
    "                   3:'Bachelor', \n",
    "                   4:'Graduate'}"
   ]
  },
  {
   "cell_type": "code",
   "execution_count": 18,
   "metadata": {},
   "outputs": [
    {
     "data": {
      "text/plain": [
       "degree5\n",
       "High school              35623\n",
       "Less than high school    14021\n",
       "Bachelor                  9895\n",
       "Graduate                  4940\n",
       "Junior college            4158\n",
       "Name: count, dtype: int64"
      ]
     },
     "execution_count": 18,
     "metadata": {},
     "output_type": "execute_result"
    }
   ],
   "source": [
    "gss['degree5'] = gss['degree'].replace(recode_degree)\n",
    "gss['degree5'].value_counts()"
   ]
  },
  {
   "cell_type": "markdown",
   "metadata": {},
   "source": [
    "AGE"
   ]
  },
  {
   "cell_type": "code",
   "execution_count": 19,
   "metadata": {},
   "outputs": [
    {
     "data": {
      "text/plain": [
       "count    68290.000000\n",
       "mean        44.900966\n",
       "std         17.139294\n",
       "min         18.000000\n",
       "25%         30.000000\n",
       "50%         43.000000\n",
       "75%         57.000000\n",
       "max         89.000000\n",
       "Name: age, dtype: float64"
      ]
     },
     "execution_count": 19,
     "metadata": {},
     "output_type": "execute_result"
    }
   ],
   "source": [
    "gss['age'].describe()"
   ]
  },
  {
   "cell_type": "code",
   "execution_count": 20,
   "metadata": {},
   "outputs": [
    {
     "data": {
      "text/plain": [
       "0    60.0\n",
       "1    51.0\n",
       "2    23.0\n",
       "3    42.0\n",
       "4    43.0\n",
       "Name: age, dtype: float64"
      ]
     },
     "execution_count": 20,
     "metadata": {},
     "output_type": "execute_result"
    }
   ],
   "source": [
    "gss['age'].head()"
   ]
  },
  {
   "cell_type": "code",
   "execution_count": 21,
   "metadata": {},
   "outputs": [
    {
     "name": "stdout",
     "output_type": "stream",
     "text": [
      "16\n"
     ]
    },
    {
     "data": {
      "text/plain": [
       "array([17, 22, 27, 32, 37, 42, 47, 52, 57, 62, 67, 72, 77, 82, 87, 92])"
      ]
     },
     "execution_count": 21,
     "metadata": {},
     "output_type": "execute_result"
    }
   ],
   "source": [
    "bins = np.arange(17, 95, 5)\n",
    "print(len(bins))\n",
    "bins"
   ]
  },
  {
   "cell_type": "code",
   "execution_count": 22,
   "metadata": {},
   "outputs": [
    {
     "data": {
      "text/plain": [
       "0    60.0\n",
       "1    50.0\n",
       "2    25.0\n",
       "3    40.0\n",
       "4    45.0\n",
       "Name: age5, dtype: float64"
      ]
     },
     "execution_count": 22,
     "metadata": {},
     "output_type": "execute_result"
    }
   ],
   "source": [
    "labels = bins[:-1] + 3\n",
    "\n",
    "gss['age5'] = pd.cut(gss['age'], bins, labels=labels).astype(float)\n",
    "gss['age5'].head()"
   ]
  },
  {
   "cell_type": "code",
   "execution_count": 23,
   "metadata": {},
   "outputs": [
    {
     "data": {
      "text/plain": [
       "age5\n",
       "20.0    5565\n",
       "25.0    7242\n",
       "30.0    7022\n",
       "35.0    7104\n",
       "40.0    6620\n",
       "45.0    6246\n",
       "50.0    5919\n",
       "55.0    5533\n",
       "60.0    4840\n",
       "65.0    3970\n",
       "70.0    3208\n",
       "75.0    2443\n",
       "80.0    1439\n",
       "85.0     774\n",
       "90.0     365\n",
       "Name: count, dtype: int64"
      ]
     },
     "execution_count": 23,
     "metadata": {},
     "output_type": "execute_result"
    }
   ],
   "source": [
    "gss['age5'].value_counts().sort_index()"
   ]
  },
  {
   "cell_type": "code",
   "execution_count": null,
   "metadata": {},
   "outputs": [],
   "source": []
  },
  {
   "cell_type": "code",
   "execution_count": 24,
   "metadata": {},
   "outputs": [
    {
     "data": {
      "text/plain": [
       "0    1912.0\n",
       "1    1921.0\n",
       "2    1949.0\n",
       "3    1930.0\n",
       "4    1929.0\n",
       "Name: cohort, dtype: float64"
      ]
     },
     "execution_count": 24,
     "metadata": {},
     "output_type": "execute_result"
    }
   ],
   "source": [
    "gss['cohort'].head()"
   ]
  },
  {
   "cell_type": "code",
   "execution_count": 25,
   "metadata": {},
   "outputs": [
    {
     "data": {
      "text/plain": [
       "0    1910.0\n",
       "1    1920.0\n",
       "2    1940.0\n",
       "3    1930.0\n",
       "4    1920.0\n",
       "Name: cohort10, dtype: float64"
      ]
     },
     "execution_count": 25,
     "metadata": {},
     "output_type": "execute_result"
    }
   ],
   "source": [
    "bins = np.arange(1889, 2001, 10)\n",
    "labels = bins[:-1] + 1\n",
    "\n",
    "gss['cohort10'] = pd.cut(gss['cohort'], bins, labels=labels).astype(float)\n",
    "gss['cohort10'].head()"
   ]
  },
  {
   "cell_type": "code",
   "execution_count": 26,
   "metadata": {},
   "outputs": [
    {
     "data": {
      "text/plain": [
       "cohort10\n",
       "1890.0      483\n",
       "1900.0     1681\n",
       "1910.0     3648\n",
       "1920.0     5992\n",
       "1930.0     7011\n",
       "1940.0    10728\n",
       "1950.0    13726\n",
       "1960.0    11023\n",
       "1970.0     7238\n",
       "1980.0     4619\n",
       "1990.0     1877\n",
       "Name: count, dtype: int64"
      ]
     },
     "execution_count": 26,
     "metadata": {},
     "output_type": "execute_result"
    }
   ],
   "source": [
    "gss['cohort10'].value_counts().sort_index()"
   ]
  },
  {
   "cell_type": "code",
   "execution_count": null,
   "metadata": {},
   "outputs": [],
   "source": []
  },
  {
   "cell_type": "code",
   "execution_count": 27,
   "metadata": {},
   "outputs": [
    {
     "data": {
      "text/plain": [
       "68841    2021\n",
       "68842    2021\n",
       "68843    2021\n",
       "68844    2021\n",
       "68845    2021\n",
       "Name: year, dtype: int16"
      ]
     },
     "execution_count": 27,
     "metadata": {},
     "output_type": "execute_result"
    }
   ],
   "source": [
    "gss['year'].tail()"
   ]
  },
  {
   "cell_type": "code",
   "execution_count": 28,
   "metadata": {},
   "outputs": [
    {
     "data": {
      "text/plain": [
       "array([1970, 1975, 1980, 1985, 1990, 1995, 2000, 2005, 2010, 2015, 2020,\n",
       "       2025])"
      ]
     },
     "execution_count": 28,
     "metadata": {},
     "output_type": "execute_result"
    }
   ],
   "source": [
    "bins = np.arange(1970, 2026, 5)\n",
    "bins"
   ]
  },
  {
   "cell_type": "code",
   "execution_count": 29,
   "metadata": {},
   "outputs": [
    {
     "data": {
      "text/plain": [
       "68841    2022.0\n",
       "68842    2022.0\n",
       "68843    2022.0\n",
       "68844    2022.0\n",
       "68845    2022.0\n",
       "Name: year5, dtype: float64"
      ]
     },
     "execution_count": 29,
     "metadata": {},
     "output_type": "execute_result"
    }
   ],
   "source": [
    "labels = bins[:-1] + 2\n",
    "\n",
    "gss['year5'] = pd.cut(gss['year'], bins, labels=labels).astype(float)\n",
    "gss['year5'].tail()"
   ]
  },
  {
   "cell_type": "code",
   "execution_count": 30,
   "metadata": {},
   "outputs": [
    {
     "data": {
      "text/plain": [
       "year5\n",
       "1972.0    6091\n",
       "1977.0    6029\n",
       "1982.0    6466\n",
       "1987.0    7679\n",
       "1992.0    6115\n",
       "1997.0    8553\n",
       "2002.0    5577\n",
       "2007.0    8577\n",
       "2012.0    4512\n",
       "2017.0    5215\n",
       "2022.0    4032\n",
       "Name: count, dtype: int64"
      ]
     },
     "execution_count": 30,
     "metadata": {},
     "output_type": "execute_result"
    }
   ],
   "source": [
    "gss['year5'].value_counts().sort_index()"
   ]
  },
  {
   "cell_type": "markdown",
   "metadata": {},
   "source": [
    "Family income on 1972-2006 surveys in constant dollars (base = 1986)"
   ]
  },
  {
   "cell_type": "code",
   "execution_count": 31,
   "metadata": {},
   "outputs": [
    {
     "data": {
      "text/plain": [
       "count     61277.000000\n",
       "mean      34892.588431\n",
       "std       31337.050178\n",
       "min         218.000000\n",
       "25%       13595.000000\n",
       "50%       25837.000000\n",
       "75%       43600.000000\n",
       "max      162607.000000\n",
       "Name: realinc, dtype: float64"
      ]
     },
     "execution_count": 31,
     "metadata": {},
     "output_type": "execute_result"
    }
   ],
   "source": [
    "gss['realinc'].describe()"
   ]
  },
  {
   "cell_type": "code",
   "execution_count": 32,
   "metadata": {},
   "outputs": [
    {
     "data": {
      "text/plain": [
       "count    61277.000000\n",
       "mean         4.366593\n",
       "std          0.441560\n",
       "min          2.338456\n",
       "25%          4.133379\n",
       "50%          4.412242\n",
       "75%          4.639486\n",
       "max          5.211139\n",
       "Name: log_realinc, dtype: float64"
      ]
     },
     "execution_count": 32,
     "metadata": {},
     "output_type": "execute_result"
    }
   ],
   "source": [
    "gss['log_realinc'] = np.log10(gss['realinc'])\n",
    "gss['log_realinc'].describe()"
   ]
  },
  {
   "cell_type": "code",
   "execution_count": 33,
   "metadata": {},
   "outputs": [
    {
     "data": {
      "text/plain": [
       "0    (4.412, 4.504]\n",
       "1    (4.327, 4.412]\n",
       "2    (4.214, 4.327]\n",
       "3    (4.688, 4.861]\n",
       "4    (4.587, 4.688]\n",
       "Name: log_realinc, dtype: category\n",
       "Categories (10, interval[float64, right]): [(2.337, 3.829] < (3.829, 4.059] < (4.059, 4.214] < (4.214, 4.327] ... (4.504, 4.587] < (4.587, 4.688] < (4.688, 4.861] < (4.861, 5.211]]"
      ]
     },
     "execution_count": 33,
     "metadata": {},
     "output_type": "execute_result"
    }
   ],
   "source": [
    "temp, bins = pd.qcut(gss['log_realinc'], 10, retbins=True)\n",
    "temp.head()"
   ]
  },
  {
   "cell_type": "code",
   "execution_count": 34,
   "metadata": {},
   "outputs": [
    {
     "data": {
      "text/plain": [
       "array([2.33845649, 3.82872433, 4.05941194, 4.21351776, 4.32735893,\n",
       "       4.41224209, 4.50416491, 4.5866998 , 4.68833082, 4.86117584,\n",
       "       5.21113924])"
      ]
     },
     "execution_count": 34,
     "metadata": {},
     "output_type": "execute_result"
    }
   ],
   "source": [
    "bins"
   ]
  },
  {
   "cell_type": "code",
   "execution_count": 35,
   "metadata": {},
   "outputs": [
    {
     "data": {
      "text/plain": [
       "array([3.08359041, 3.94406813, 4.13646485, 4.27043835, 4.36980051,\n",
       "       4.4582035 , 4.54543236, 4.63751531, 4.77475333, 5.03615754])"
      ]
     },
     "execution_count": 35,
     "metadata": {},
     "output_type": "execute_result"
    }
   ],
   "source": [
    "labels = np.diff(bins) / 2 + bins[:-1]\n",
    "labels"
   ]
  },
  {
   "cell_type": "code",
   "execution_count": 36,
   "metadata": {},
   "outputs": [
    {
     "data": {
      "text/plain": [
       "0    4.458203\n",
       "1    4.369801\n",
       "2    4.270438\n",
       "3    4.774753\n",
       "4    4.637515\n",
       "Name: log_realinc10, dtype: float64"
      ]
     },
     "execution_count": 36,
     "metadata": {},
     "output_type": "execute_result"
    }
   ],
   "source": [
    "gss['log_realinc10'] = pd.cut(gss['log_realinc'], bins, labels=labels).astype(float)\n",
    "gss['log_realinc10'].head()"
   ]
  },
  {
   "cell_type": "code",
   "execution_count": 38,
   "metadata": {},
   "outputs": [],
   "source": [
    "!rm gss_simpson.hdf"
   ]
  },
  {
   "cell_type": "code",
   "execution_count": 40,
   "metadata": {},
   "outputs": [
    {
     "name": "stderr",
     "output_type": "stream",
     "text": [
      "/tmp/ipykernel_81668/2365572163.py:1: PerformanceWarning: \n",
      "your performance may suffer as PyTables will pickle object types that it cannot\n",
      "map directly to c-types [inferred_type->mixed,key->block3_values] [items->Index(['class', 'polviews3', 'partyid4', 'relig5', 'degree5'], dtype='object')]\n",
      "\n",
      "  gss.to_hdf('gss_simpson.hdf', 'gss', complevel=6)\n"
     ]
    }
   ],
   "source": [
    "gss.to_hdf('gss_simpson.hdf', 'gss', complevel=6)"
   ]
  },
  {
   "cell_type": "code",
   "execution_count": 41,
   "metadata": {},
   "outputs": [
    {
     "name": "stdout",
     "output_type": "stream",
     "text": [
      "-rw-rw-r-- 1 downey downey 12M Jan  7 14:08 gss_simpson.hdf\r\n"
     ]
    }
   ],
   "source": [
    "!ls -lh gss_simpson.hdf"
   ]
  },
  {
   "cell_type": "code",
   "execution_count": null,
   "metadata": {},
   "outputs": [],
   "source": []
  },
  {
   "cell_type": "markdown",
   "metadata": {},
   "source": [
    "Copyright 2023 Allen B. Downey\n",
    "\n"
   ]
  }
 ],
 "metadata": {
  "kernelspec": {
   "display_name": "Python 3 (ipykernel)",
   "language": "python",
   "name": "python3"
  },
  "language_info": {
   "codemirror_mode": {
    "name": "ipython",
    "version": 3
   },
   "file_extension": ".py",
   "mimetype": "text/x-python",
   "name": "python",
   "nbconvert_exporter": "python",
   "pygments_lexer": "ipython3",
   "version": "3.10.12"
  }
 },
 "nbformat": 4,
 "nbformat_minor": 2
}
