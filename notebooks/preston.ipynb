{
 "cells": [
  {
   "cell_type": "markdown",
   "metadata": {
    "tags": []
   },
   "source": [
    "# Defy Tradition, Save the World"
   ]
  },
  {
   "cell_type": "markdown",
   "metadata": {
    "tags": [
     "remove-cell"
    ]
   },
   "source": [
    "This is one of the Jupyter notebooks I used in my preparation of *Probably Overthinking It: How to Use Data to Answer Questions, Avoid Statistical Traps, and Make Better Decisions*.\n",
    "\n",
    "The book is scheduled to be published by University of Chicago Press in 2023.\n",
    "If you would like to get infrequent email announcements about the book, please\n",
    "[sign up for my mailing list](http://eepurl.com/h0nfbX).\n",
    "\n",
    "Before you read these notebooks, please keep in mind:\n",
    "\n",
    "* There is some explanatory text in the notebooks, but some of the examples will not make sense until you have read the corresponding chapter in the book.\n",
    "\n",
    "* While preparing these notebooks, I made some changes to improve the readability of the code. There might be small differences between what appears in the book and what you get when you run the code."
   ]
  },
  {
   "cell_type": "markdown",
   "metadata": {
    "tags": []
   },
   "source": [
    "[Click here to run this notebook on Colab](https://colab.research.google.com/github/AllenDowney/ProbablyOverthinkingIt/blob/book/notebooks/preston.ipynb)."
   ]
  },
  {
   "cell_type": "code",
   "execution_count": 1,
   "metadata": {
    "tags": [
     "hide-cell"
    ]
   },
   "outputs": [],
   "source": [
    "# Install empiricaldist if we don't already have it\n",
    "\n",
    "try:\n",
    "    import empiricaldist\n",
    "except ImportError:\n",
    "    !pip install empiricaldist"
   ]
  },
  {
   "cell_type": "code",
   "execution_count": 2,
   "metadata": {
    "tags": [
     "hide-cell"
    ]
   },
   "outputs": [],
   "source": [
    "# download utils.py\n",
    "\n",
    "from os.path import basename, exists\n",
    "\n",
    "def download(url):\n",
    "    filename = basename(url)\n",
    "    if not exists(filename):\n",
    "        from urllib.request import urlretrieve\n",
    "        local, _ = urlretrieve(url, filename)\n",
    "        print('Downloaded ' + local)\n",
    "        \n",
    "download(\"https://github.com/AllenDowney/ProbablyOverthinkingIt/raw/book/notebooks/utils.py\")"
   ]
  },
  {
   "cell_type": "code",
   "execution_count": 3,
   "metadata": {
    "tags": [
     "hide-cell"
    ]
   },
   "outputs": [],
   "source": [
    "import pandas as pd\n",
    "import numpy as np\n",
    "import matplotlib.pyplot as plt\n",
    "\n",
    "# Set the random seed so we get the same results every time\n",
    "np.random.seed(17)"
   ]
  },
  {
   "cell_type": "markdown",
   "metadata": {
    "tags": []
   },
   "source": [
    "Suppose you are the ruler of a small country where the population is growing quickly.\n",
    "Your advisers warn you that unless this growth slows down, the population will exceed the capacity of the farms and the peasants will starve.\n",
    "\n",
    "The Royal Demographer informs you that the average family size is currently 3; that is, each woman in the kingdom bears three children, on average.\n",
    "He explains that the replacement level is close to 2, so if family sizes decrease by one, the population will level off at a sustainable size."
   ]
  },
  {
   "cell_type": "markdown",
   "metadata": {
    "tags": []
   },
   "source": [
    "One of your advisors asks: \"What if we make a new law that says every woman has to have fewer children than her mother?\"\n",
    "\n",
    "It sounds promising.\n",
    "As a benevolent despot, you are reluctant to restrict your subjects' reproductive freedom, but it seems like such a policy could be effective at reducing family size with minimal imposition.\n",
    "\n",
    "\"Make it so,\" you say.\n",
    "\n",
    "Twenty-five years later, you summon the Royal Demographer to find out how things are going."
   ]
  },
  {
   "cell_type": "markdown",
   "metadata": {
    "tags": []
   },
   "source": [
    "\"Your Highness,\" they say, \"I have good news and bad news. The good news is that adherence to the new law has been perfect. Since it was put into effect, every woman in the kingdom has had fewer children than her mother.\"\n",
    "\n",
    "\"That's amazing,\" you say. \"What's the bad news?\"\n",
    "\n",
    "\"The bad news is that the average family size has increased from 3.0 to 3.3, so the population is growing faster than before, and we are running out of food.\""
   ]
  },
  {
   "cell_type": "markdown",
   "metadata": {
    "tags": []
   },
   "source": [
    "\"How is that possible?\" you ask. \n",
    "\"If every woman has fewer children than her mother, family sizes have to get smaller, and population growth has to slow down.\"\n",
    "\n",
    "Actually, that's not true."
   ]
  },
  {
   "cell_type": "markdown",
   "metadata": {
    "tags": []
   },
   "source": [
    "In 1976, Samuel Preston, a demographer at the University of Washington, published a paper that presents three surprising phenomena.\n",
    "\n",
    "The first is the relationship between two measurements of family size: what we get if we ask women how many children they have, and what we get if we ask people how many children their mother had.\n",
    "In general, the average family size is smaller if ask women about their children, and larger if we ask children about their mothers."
   ]
  },
  {
   "cell_type": "markdown",
   "metadata": {
    "tags": []
   },
   "source": [
    "The second phenomenon is related to changes in American family sizes during the 20th century.\n",
    "Suppose you compare family sizes during the Great Depression (roughly the 1930s) and the Baby Boom (1946-64).\n",
    "If you survey women who bore children during these periods, the average family was bigger during the Baby Boom. \n",
    "But if you ask their children how big their families were, the average was bigger during the Depression.\n",
    "\n",
    "The third phenomenon is what we learned in your imaginary kingdom, which I will call Preston's Paradox: Even if every woman has fewer children than her mother, family sizes can get bigger, on average.\n",
    "\n",
    "To see how that's possible, we'll start with the two measurements of family size."
   ]
  },
  {
   "cell_type": "code",
   "execution_count": 4,
   "metadata": {
    "tags": []
   },
   "outputs": [],
   "source": [
    "# Read the Census data\n",
    "\n",
    "download(\n",
    "    \"https://www2.census.gov/programs-surveys/demo/tables/fertility/time-series/his-cps/h2.xlsx\"\n",
    ")"
   ]
  },
  {
   "cell_type": "code",
   "execution_count": 5,
   "metadata": {
    "tags": []
   },
   "outputs": [
    {
     "data": {
      "text/html": [
       "<div>\n",
       "<style scoped>\n",
       "    .dataframe tbody tr th:only-of-type {\n",
       "        vertical-align: middle;\n",
       "    }\n",
       "\n",
       "    .dataframe tbody tr th {\n",
       "        vertical-align: top;\n",
       "    }\n",
       "\n",
       "    .dataframe thead th {\n",
       "        text-align: right;\n",
       "    }\n",
       "</style>\n",
       "<table border=\"1\" class=\"dataframe\">\n",
       "  <thead>\n",
       "    <tr style=\"text-align: right;\">\n",
       "      <th></th>\n",
       "      <th>Year</th>\n",
       "      <th>Total</th>\n",
       "      <th>Total</th>\n",
       "      <th>None</th>\n",
       "      <th>One</th>\n",
       "      <th>Two</th>\n",
       "      <th>Three</th>\n",
       "      <th>Four</th>\n",
       "      <th>Five and six</th>\n",
       "      <th>Seven or more</th>\n",
       "      <th>Rate per 1000</th>\n",
       "    </tr>\n",
       "  </thead>\n",
       "  <tbody>\n",
       "    <tr>\n",
       "      <th>0</th>\n",
       "      <td>All Marital Statuses</td>\n",
       "      <td>NaN</td>\n",
       "      <td>NaN</td>\n",
       "      <td>NaN</td>\n",
       "      <td>NaN</td>\n",
       "      <td>NaN</td>\n",
       "      <td>NaN</td>\n",
       "      <td>NaN</td>\n",
       "      <td>NaN</td>\n",
       "      <td>NaN</td>\n",
       "      <td>NaN</td>\n",
       "    </tr>\n",
       "    <tr>\n",
       "      <th>1</th>\n",
       "      <td>.Women 45 to 50</td>\n",
       "      <td>NaN</td>\n",
       "      <td>NaN</td>\n",
       "      <td>NaN</td>\n",
       "      <td>NaN</td>\n",
       "      <td>NaN</td>\n",
       "      <td>NaN</td>\n",
       "      <td>NaN</td>\n",
       "      <td>NaN</td>\n",
       "      <td>NaN</td>\n",
       "      <td>NaN</td>\n",
       "    </tr>\n",
       "    <tr>\n",
       "      <th>2</th>\n",
       "      <td>.2018</td>\n",
       "      <td>12524</td>\n",
       "      <td>100</td>\n",
       "      <td>15.4</td>\n",
       "      <td>19.8</td>\n",
       "      <td>35.4</td>\n",
       "      <td>17.3</td>\n",
       "      <td>7.4</td>\n",
       "      <td>3.6</td>\n",
       "      <td>1.2</td>\n",
       "      <td>1999</td>\n",
       "    </tr>\n",
       "    <tr>\n",
       "      <th>3</th>\n",
       "      <td>.2016</td>\n",
       "      <td>12537</td>\n",
       "      <td>100</td>\n",
       "      <td>17.1</td>\n",
       "      <td>19.7</td>\n",
       "      <td>33.6</td>\n",
       "      <td>18.2</td>\n",
       "      <td>7.7</td>\n",
       "      <td>3.4</td>\n",
       "      <td>0.5</td>\n",
       "      <td>1936</td>\n",
       "    </tr>\n",
       "    <tr>\n",
       "      <th>4</th>\n",
       "      <td>.2014</td>\n",
       "      <td>12760</td>\n",
       "      <td>100</td>\n",
       "      <td>16.7</td>\n",
       "      <td>18.7</td>\n",
       "      <td>33.8</td>\n",
       "      <td>19.2</td>\n",
       "      <td>7.6</td>\n",
       "      <td>3.2</td>\n",
       "      <td>0.9</td>\n",
       "      <td>1981</td>\n",
       "    </tr>\n",
       "  </tbody>\n",
       "</table>\n",
       "</div>"
      ],
      "text/plain": [
       "                   Year  Total Total  None   One   Two Three Four  \\\n",
       "0  All Marital Statuses    NaN   NaN   NaN   NaN   NaN   NaN  NaN   \n",
       "1       .Women 45 to 50    NaN   NaN   NaN   NaN   NaN   NaN  NaN   \n",
       "2                 .2018  12524   100  15.4  19.8  35.4  17.3  7.4   \n",
       "3                 .2016  12537   100  17.1  19.7  33.6  18.2  7.7   \n",
       "4                 .2014  12760   100  16.7  18.7  33.8  19.2  7.6   \n",
       "\n",
       "  Five and six Seven or more Rate per 1000  \n",
       "0          NaN           NaN           NaN  \n",
       "1          NaN           NaN           NaN  \n",
       "2          3.6           1.2          1999  \n",
       "3          3.4           0.5          1936  \n",
       "4          3.2           0.9          1981  "
      ]
     },
     "execution_count": 5,
     "metadata": {},
     "output_type": "execute_result"
    }
   ],
   "source": [
    "rename_dict = {\n",
    "    \"Unnamed: 0\": \"Year\",\n",
    "    \"Unnamed: 1\": \"Total\",\n",
    "    \"Unnamed: 11\": \"Rate per 1000\",\n",
    "}\n",
    "\n",
    "df = pd.read_excel(\"h2.xlsx\", skiprows=6)\n",
    "del df[\"Unnamed: 7\"]\n",
    "df.rename(columns=rename_dict, inplace=True)\n",
    "df.head()"
   ]
  },
  {
   "cell_type": "code",
   "execution_count": 6,
   "metadata": {
    "tags": []
   },
   "outputs": [
    {
     "data": {
      "text/html": [
       "<div>\n",
       "<style scoped>\n",
       "    .dataframe tbody tr th:only-of-type {\n",
       "        vertical-align: middle;\n",
       "    }\n",
       "\n",
       "    .dataframe tbody tr th {\n",
       "        vertical-align: top;\n",
       "    }\n",
       "\n",
       "    .dataframe thead th {\n",
       "        text-align: right;\n",
       "    }\n",
       "</style>\n",
       "<table border=\"1\" class=\"dataframe\">\n",
       "  <thead>\n",
       "    <tr style=\"text-align: right;\">\n",
       "      <th></th>\n",
       "      <th>Year</th>\n",
       "      <th>Total</th>\n",
       "      <th>Total</th>\n",
       "      <th>None</th>\n",
       "      <th>One</th>\n",
       "      <th>Two</th>\n",
       "      <th>Three</th>\n",
       "      <th>Four</th>\n",
       "      <th>Five and six</th>\n",
       "      <th>Seven or more</th>\n",
       "      <th>Rate per 1000</th>\n",
       "    </tr>\n",
       "  </thead>\n",
       "  <tbody>\n",
       "    <tr>\n",
       "      <th>7</th>\n",
       "      <td>.2018</td>\n",
       "      <td>9896</td>\n",
       "      <td>100</td>\n",
       "      <td>15</td>\n",
       "      <td>18.7</td>\n",
       "      <td>34.6</td>\n",
       "      <td>18.6</td>\n",
       "      <td>8.7</td>\n",
       "      <td>3.8</td>\n",
       "      <td>0.7</td>\n",
       "      <td>2036</td>\n",
       "    </tr>\n",
       "    <tr>\n",
       "      <th>8</th>\n",
       "      <td>.2016</td>\n",
       "      <td>9924</td>\n",
       "      <td>100</td>\n",
       "      <td>14.4</td>\n",
       "      <td>18.3</td>\n",
       "      <td>34.9</td>\n",
       "      <td>19.6</td>\n",
       "      <td>7.9</td>\n",
       "      <td>3.9</td>\n",
       "      <td>1</td>\n",
       "      <td>2068</td>\n",
       "    </tr>\n",
       "    <tr>\n",
       "      <th>9</th>\n",
       "      <td>.2014</td>\n",
       "      <td>10301</td>\n",
       "      <td>100</td>\n",
       "      <td>15.3</td>\n",
       "      <td>18.3</td>\n",
       "      <td>34.6</td>\n",
       "      <td>20.2</td>\n",
       "      <td>7.6</td>\n",
       "      <td>3.3</td>\n",
       "      <td>0.8</td>\n",
       "      <td>2018</td>\n",
       "    </tr>\n",
       "    <tr>\n",
       "      <th>10</th>\n",
       "      <td>.2012</td>\n",
       "      <td>10516</td>\n",
       "      <td>100</td>\n",
       "      <td>15.1</td>\n",
       "      <td>18.9</td>\n",
       "      <td>34.9</td>\n",
       "      <td>19.9</td>\n",
       "      <td>7.2</td>\n",
       "      <td>3.4</td>\n",
       "      <td>0.7</td>\n",
       "      <td>1998</td>\n",
       "    </tr>\n",
       "    <tr>\n",
       "      <th>11</th>\n",
       "      <td>.2010</td>\n",
       "      <td>10374</td>\n",
       "      <td>100</td>\n",
       "      <td>18.8</td>\n",
       "      <td>18.5</td>\n",
       "      <td>33.3</td>\n",
       "      <td>19.1</td>\n",
       "      <td>6.8</td>\n",
       "      <td>2.7</td>\n",
       "      <td>0.8</td>\n",
       "      <td>1907</td>\n",
       "    </tr>\n",
       "    <tr>\n",
       "      <th>12</th>\n",
       "      <td>.2008</td>\n",
       "      <td>10748</td>\n",
       "      <td>100</td>\n",
       "      <td>17.8</td>\n",
       "      <td>18.4</td>\n",
       "      <td>36.2</td>\n",
       "      <td>17.8</td>\n",
       "      <td>6.1</td>\n",
       "      <td>3.1</td>\n",
       "      <td>0.5</td>\n",
       "      <td>1901</td>\n",
       "    </tr>\n",
       "    <tr>\n",
       "      <th>13</th>\n",
       "      <td>.2006</td>\n",
       "      <td>11235</td>\n",
       "      <td>100</td>\n",
       "      <td>20.4</td>\n",
       "      <td>16.9</td>\n",
       "      <td>34.4</td>\n",
       "      <td>18.5</td>\n",
       "      <td>6.4</td>\n",
       "      <td>3.1</td>\n",
       "      <td>0.5</td>\n",
       "      <td>1862</td>\n",
       "    </tr>\n",
       "    <tr>\n",
       "      <th>14</th>\n",
       "      <td>.2004</td>\n",
       "      <td>11535</td>\n",
       "      <td>100</td>\n",
       "      <td>19.3</td>\n",
       "      <td>17.4</td>\n",
       "      <td>34.5</td>\n",
       "      <td>18.1</td>\n",
       "      <td>7.4</td>\n",
       "      <td>2.9</td>\n",
       "      <td>0.5</td>\n",
       "      <td>1895</td>\n",
       "    </tr>\n",
       "    <tr>\n",
       "      <th>15</th>\n",
       "      <td>.2002</td>\n",
       "      <td>11561</td>\n",
       "      <td>100</td>\n",
       "      <td>17.9</td>\n",
       "      <td>17.4</td>\n",
       "      <td>35.4</td>\n",
       "      <td>18.9</td>\n",
       "      <td>6.8</td>\n",
       "      <td>2.8</td>\n",
       "      <td>0.8</td>\n",
       "      <td>1930</td>\n",
       "    </tr>\n",
       "    <tr>\n",
       "      <th>16</th>\n",
       "      <td>.2000</td>\n",
       "      <td>11447</td>\n",
       "      <td>100</td>\n",
       "      <td>19</td>\n",
       "      <td>16.4</td>\n",
       "      <td>35</td>\n",
       "      <td>19.1</td>\n",
       "      <td>7.2</td>\n",
       "      <td>2.8</td>\n",
       "      <td>0.5</td>\n",
       "      <td>1913</td>\n",
       "    </tr>\n",
       "    <tr>\n",
       "      <th>17</th>\n",
       "      <td>.1998</td>\n",
       "      <td>11113</td>\n",
       "      <td>100</td>\n",
       "      <td>19</td>\n",
       "      <td>17.3</td>\n",
       "      <td>35.8</td>\n",
       "      <td>18.2</td>\n",
       "      <td>6.1</td>\n",
       "      <td>3</td>\n",
       "      <td>0.5</td>\n",
       "      <td>1877</td>\n",
       "    </tr>\n",
       "    <tr>\n",
       "      <th>18</th>\n",
       "      <td>.1995</td>\n",
       "      <td>10244</td>\n",
       "      <td>100</td>\n",
       "      <td>17.5</td>\n",
       "      <td>17.6</td>\n",
       "      <td>35.2</td>\n",
       "      <td>18.5</td>\n",
       "      <td>7.4</td>\n",
       "      <td>3</td>\n",
       "      <td>0.9</td>\n",
       "      <td>1961</td>\n",
       "    </tr>\n",
       "    <tr>\n",
       "      <th>19</th>\n",
       "      <td>.1994</td>\n",
       "      <td>9972</td>\n",
       "      <td>100</td>\n",
       "      <td>17.5</td>\n",
       "      <td>17.1</td>\n",
       "      <td>35.3</td>\n",
       "      <td>18.9</td>\n",
       "      <td>7</td>\n",
       "      <td>3.3</td>\n",
       "      <td>0.8</td>\n",
       "      <td>1965</td>\n",
       "    </tr>\n",
       "    <tr>\n",
       "      <th>20</th>\n",
       "      <td>.1992</td>\n",
       "      <td>9416</td>\n",
       "      <td>100</td>\n",
       "      <td>15.7</td>\n",
       "      <td>17.3</td>\n",
       "      <td>36.6</td>\n",
       "      <td>19</td>\n",
       "      <td>7</td>\n",
       "      <td>3.6</td>\n",
       "      <td>0.8</td>\n",
       "      <td>2012</td>\n",
       "    </tr>\n",
       "    <tr>\n",
       "      <th>21</th>\n",
       "      <td>.1990</td>\n",
       "      <td>8905</td>\n",
       "      <td>100</td>\n",
       "      <td>16</td>\n",
       "      <td>16.9</td>\n",
       "      <td>35</td>\n",
       "      <td>19.4</td>\n",
       "      <td>8</td>\n",
       "      <td>3.9</td>\n",
       "      <td>0.9</td>\n",
       "      <td>2045</td>\n",
       "    </tr>\n",
       "    <tr>\n",
       "      <th>22</th>\n",
       "      <td>.1988</td>\n",
       "      <td>8155</td>\n",
       "      <td>100</td>\n",
       "      <td>14.7</td>\n",
       "      <td>14.9</td>\n",
       "      <td>35.2</td>\n",
       "      <td>20.7</td>\n",
       "      <td>8.8</td>\n",
       "      <td>4.9</td>\n",
       "      <td>0.8</td>\n",
       "      <td>2147</td>\n",
       "    </tr>\n",
       "    <tr>\n",
       "      <th>23</th>\n",
       "      <td>.1987</td>\n",
       "      <td>7854</td>\n",
       "      <td>100</td>\n",
       "      <td>14.2</td>\n",
       "      <td>14.9</td>\n",
       "      <td>35</td>\n",
       "      <td>19.7</td>\n",
       "      <td>9.3</td>\n",
       "      <td>5.5</td>\n",
       "      <td>1.4</td>\n",
       "      <td>2218</td>\n",
       "    </tr>\n",
       "    <tr>\n",
       "      <th>24</th>\n",
       "      <td>.1986</td>\n",
       "      <td>7262</td>\n",
       "      <td>100</td>\n",
       "      <td>13.2</td>\n",
       "      <td>14.5</td>\n",
       "      <td>33.5</td>\n",
       "      <td>20.4</td>\n",
       "      <td>10.3</td>\n",
       "      <td>6.5</td>\n",
       "      <td>1.6</td>\n",
       "      <td>2302</td>\n",
       "    </tr>\n",
       "    <tr>\n",
       "      <th>25</th>\n",
       "      <td>.1985</td>\n",
       "      <td>7226</td>\n",
       "      <td>100</td>\n",
       "      <td>11.4</td>\n",
       "      <td>12.6</td>\n",
       "      <td>32.9</td>\n",
       "      <td>23.1</td>\n",
       "      <td>10.9</td>\n",
       "      <td>7.1</td>\n",
       "      <td>2</td>\n",
       "      <td>2447</td>\n",
       "    </tr>\n",
       "    <tr>\n",
       "      <th>26</th>\n",
       "      <td>.1984</td>\n",
       "      <td>6932</td>\n",
       "      <td>100</td>\n",
       "      <td>11.1</td>\n",
       "      <td>12.2</td>\n",
       "      <td>30.5</td>\n",
       "      <td>23.5</td>\n",
       "      <td>12</td>\n",
       "      <td>8.2</td>\n",
       "      <td>2.6</td>\n",
       "      <td>2558</td>\n",
       "    </tr>\n",
       "    <tr>\n",
       "      <th>27</th>\n",
       "      <td>.1983</td>\n",
       "      <td>6657</td>\n",
       "      <td>100</td>\n",
       "      <td>10.1</td>\n",
       "      <td>11.8</td>\n",
       "      <td>28.7</td>\n",
       "      <td>23.3</td>\n",
       "      <td>13.8</td>\n",
       "      <td>9.5</td>\n",
       "      <td>3</td>\n",
       "      <td>2688</td>\n",
       "    </tr>\n",
       "    <tr>\n",
       "      <th>28</th>\n",
       "      <td>.1982</td>\n",
       "      <td>6336</td>\n",
       "      <td>100</td>\n",
       "      <td>11</td>\n",
       "      <td>9.4</td>\n",
       "      <td>27.5</td>\n",
       "      <td>24.1</td>\n",
       "      <td>13.8</td>\n",
       "      <td>10.4</td>\n",
       "      <td>3.9</td>\n",
       "      <td>2783</td>\n",
       "    </tr>\n",
       "    <tr>\n",
       "      <th>29</th>\n",
       "      <td>.1981</td>\n",
       "      <td>6122</td>\n",
       "      <td>100</td>\n",
       "      <td>9.5</td>\n",
       "      <td>10.1</td>\n",
       "      <td>27</td>\n",
       "      <td>24.6</td>\n",
       "      <td>14.1</td>\n",
       "      <td>9.9</td>\n",
       "      <td>4.9</td>\n",
       "      <td>2861</td>\n",
       "    </tr>\n",
       "    <tr>\n",
       "      <th>30</th>\n",
       "      <td>.1980</td>\n",
       "      <td>5983</td>\n",
       "      <td>100</td>\n",
       "      <td>10.1</td>\n",
       "      <td>9.6</td>\n",
       "      <td>24.6</td>\n",
       "      <td>22.6</td>\n",
       "      <td>15.5</td>\n",
       "      <td>11.6</td>\n",
       "      <td>6</td>\n",
       "      <td>2988</td>\n",
       "    </tr>\n",
       "    <tr>\n",
       "      <th>31</th>\n",
       "      <td>.1979</td>\n",
       "      <td>5868</td>\n",
       "      <td>100</td>\n",
       "      <td>9.8</td>\n",
       "      <td>9.9</td>\n",
       "      <td>24</td>\n",
       "      <td>22.5</td>\n",
       "      <td>15.4</td>\n",
       "      <td>13</td>\n",
       "      <td>5.4</td>\n",
       "      <td>2996</td>\n",
       "    </tr>\n",
       "    <tr>\n",
       "      <th>33</th>\n",
       "      <td>.1977</td>\n",
       "      <td>5877</td>\n",
       "      <td>100</td>\n",
       "      <td>10.9</td>\n",
       "      <td>10.3</td>\n",
       "      <td>21.7</td>\n",
       "      <td>20.3</td>\n",
       "      <td>14.2</td>\n",
       "      <td>15.2</td>\n",
       "      <td>7.3</td>\n",
       "      <td>3132</td>\n",
       "    </tr>\n",
       "    <tr>\n",
       "      <th>34</th>\n",
       "      <td>.1976</td>\n",
       "      <td>5684</td>\n",
       "      <td>100</td>\n",
       "      <td>10.2</td>\n",
       "      <td>9.6</td>\n",
       "      <td>21.7</td>\n",
       "      <td>22.7</td>\n",
       "      <td>15.8</td>\n",
       "      <td>13.9</td>\n",
       "      <td>6.2</td>\n",
       "      <td>3091</td>\n",
       "    </tr>\n",
       "  </tbody>\n",
       "</table>\n",
       "</div>"
      ],
      "text/plain": [
       "     Year  Total Total  None   One   Two Three  Four Five and six  \\\n",
       "7   .2018   9896   100    15  18.7  34.6  18.6   8.7          3.8   \n",
       "8   .2016   9924   100  14.4  18.3  34.9  19.6   7.9          3.9   \n",
       "9   .2014  10301   100  15.3  18.3  34.6  20.2   7.6          3.3   \n",
       "10  .2012  10516   100  15.1  18.9  34.9  19.9   7.2          3.4   \n",
       "11  .2010  10374   100  18.8  18.5  33.3  19.1   6.8          2.7   \n",
       "12  .2008  10748   100  17.8  18.4  36.2  17.8   6.1          3.1   \n",
       "13  .2006  11235   100  20.4  16.9  34.4  18.5   6.4          3.1   \n",
       "14  .2004  11535   100  19.3  17.4  34.5  18.1   7.4          2.9   \n",
       "15  .2002  11561   100  17.9  17.4  35.4  18.9   6.8          2.8   \n",
       "16  .2000  11447   100    19  16.4    35  19.1   7.2          2.8   \n",
       "17  .1998  11113   100    19  17.3  35.8  18.2   6.1            3   \n",
       "18  .1995  10244   100  17.5  17.6  35.2  18.5   7.4            3   \n",
       "19  .1994   9972   100  17.5  17.1  35.3  18.9     7          3.3   \n",
       "20  .1992   9416   100  15.7  17.3  36.6    19     7          3.6   \n",
       "21  .1990   8905   100    16  16.9    35  19.4     8          3.9   \n",
       "22  .1988   8155   100  14.7  14.9  35.2  20.7   8.8          4.9   \n",
       "23  .1987   7854   100  14.2  14.9    35  19.7   9.3          5.5   \n",
       "24  .1986   7262   100  13.2  14.5  33.5  20.4  10.3          6.5   \n",
       "25  .1985   7226   100  11.4  12.6  32.9  23.1  10.9          7.1   \n",
       "26  .1984   6932   100  11.1  12.2  30.5  23.5    12          8.2   \n",
       "27  .1983   6657   100  10.1  11.8  28.7  23.3  13.8          9.5   \n",
       "28  .1982   6336   100    11   9.4  27.5  24.1  13.8         10.4   \n",
       "29  .1981   6122   100   9.5  10.1    27  24.6  14.1          9.9   \n",
       "30  .1980   5983   100  10.1   9.6  24.6  22.6  15.5         11.6   \n",
       "31  .1979   5868   100   9.8   9.9    24  22.5  15.4           13   \n",
       "33  .1977   5877   100  10.9  10.3  21.7  20.3  14.2         15.2   \n",
       "34  .1976   5684   100  10.2   9.6  21.7  22.7  15.8         13.9   \n",
       "\n",
       "   Seven or more Rate per 1000  \n",
       "7            0.7          2036  \n",
       "8              1          2068  \n",
       "9            0.8          2018  \n",
       "10           0.7          1998  \n",
       "11           0.8          1907  \n",
       "12           0.5          1901  \n",
       "13           0.5          1862  \n",
       "14           0.5          1895  \n",
       "15           0.8          1930  \n",
       "16           0.5          1913  \n",
       "17           0.5          1877  \n",
       "18           0.9          1961  \n",
       "19           0.8          1965  \n",
       "20           0.8          2012  \n",
       "21           0.9          2045  \n",
       "22           0.8          2147  \n",
       "23           1.4          2218  \n",
       "24           1.6          2302  \n",
       "25             2          2447  \n",
       "26           2.6          2558  \n",
       "27             3          2688  \n",
       "28           3.9          2783  \n",
       "29           4.9          2861  \n",
       "30             6          2988  \n",
       "31           5.4          2996  \n",
       "33           7.3          3132  \n",
       "34           6.2          3091  "
      ]
     },
     "execution_count": 6,
     "metadata": {},
     "output_type": "execute_result"
    }
   ],
   "source": [
    "# Select women ages 40-44, and drop a row of missing data\n",
    "\n",
    "rows = df.iloc[7:35].drop(32)\n",
    "rows"
   ]
  },
  {
   "cell_type": "code",
   "execution_count": 7,
   "metadata": {
    "tags": []
   },
   "outputs": [],
   "source": [
    "# Convert the index to integers\n",
    "\n",
    "index = rows[\"Year\"].astype(float) * 10000\n",
    "rows.index = index.round().astype(int)"
   ]
  },
  {
   "cell_type": "markdown",
   "metadata": {
    "tags": []
   },
   "source": [
    "One of the challenges of the data in this chapter is that it summarizes the tails.\n",
    "For example, the Census data only go up to \"Seven or more\".\n",
    "\n",
    "But the effect of length-biased sampling depends strongly on the tail, so we have to make some guesses to fill in the values that have been summarized.\n",
    "\n",
    "To do that, I'll assume that the distribution of large family sizes is Poisson and fill in the tail accordingly.\n",
    "I'll use `least_squares` to search for parameters of the tail that best match the data.\n"
   ]
  },
  {
   "cell_type": "code",
   "execution_count": 8,
   "metadata": {
    "tags": []
   },
   "outputs": [],
   "source": [
    "from scipy.stats import poisson\n",
    "from empiricaldist import Pmf\n",
    "\n",
    "\n",
    "def make_poisson(mu, high=13):\n",
    "    \"\"\"Make a Poisson distribution.\n",
    "    \n",
    "    mu: mean\n",
    "    high: upper bound\n",
    "    \n",
    "    returns: Pmf\n",
    "    \"\"\"\n",
    "    xs = np.arange(0, high + 1)\n",
    "    pmf = Pmf(poisson.pmf(xs, mu), xs)\n",
    "    pmf.normalize()\n",
    "    return pmf"
   ]
  },
  {
   "cell_type": "code",
   "execution_count": 9,
   "metadata": {
    "tags": []
   },
   "outputs": [],
   "source": [
    "def make_model(mu, row, high=13):\n",
    "    \"\"\"Add a Poisson tail to a row of data.\n",
    "    \n",
    "    mu: mean of the Poisson model\n",
    "    row: row of actual data\n",
    "    high: upper bound\n",
    "    \n",
    "    returns: Pmf\n",
    "    \"\"\"\n",
    "    pmf = make_poisson(mu, high)\n",
    "    pmf[:5] = 0\n",
    "\n",
    "    actual = row.iloc[3:8].astype(float) / 100\n",
    "\n",
    "    pmf.normalize()\n",
    "    pmf *= 1 - actual.sum()\n",
    "    pmf[:5] = actual\n",
    "    return pmf"
   ]
  },
  {
   "cell_type": "code",
   "execution_count": 10,
   "metadata": {
    "tags": []
   },
   "outputs": [],
   "source": [
    "def error_func(params, row):\n",
    "    \"\"\"Error function used to find the mean.\n",
    "    \n",
    "    params: list of parameters, in this case just mu\n",
    "    row: the row of actual data\n",
    "    \n",
    "    returns: float\n",
    "    \"\"\"\n",
    "    mu = params[0]\n",
    "    pmf = make_model(mu, row)\n",
    "    error = pmf.mean() - row[\"Rate per 1000\"] / 1000\n",
    "    return error"
   ]
  },
  {
   "cell_type": "code",
   "execution_count": 11,
   "metadata": {
    "tags": []
   },
   "outputs": [
    {
     "data": {
      "text/plain": [
       "-0.012207906747516262"
      ]
     },
     "execution_count": 11,
     "metadata": {},
     "output_type": "execute_result"
    }
   ],
   "source": [
    "params = [2.0]\n",
    "row = rows.loc[2018]\n",
    "error_func(params, row)"
   ]
  },
  {
   "cell_type": "code",
   "execution_count": 12,
   "metadata": {
    "tags": []
   },
   "outputs": [],
   "source": [
    "from scipy.optimize import least_squares\n",
    "\n",
    "\n",
    "def fit_row(row, high=13):\n",
    "    \"\"\"Find the value of mu that best fits the data.\n",
    "    \n",
    "    row: row of actual data\n",
    "    high: upper bound\n",
    "    \n",
    "    returns: Pmf\n",
    "    \"\"\"\n",
    "    # With a single parameter and a single error, it is\n",
    "    # overkill to use least_squares. But the fitting function\n",
    "    # later in this notebook is more complicated, so I kept them similar.\n",
    "    params = [2.0]\n",
    "    res = least_squares(error_func, x0=params, args=(row,))\n",
    "\n",
    "    mu = res.x[0]\n",
    "    pmf = make_model(mu, row, high)\n",
    "    return pmf"
   ]
  },
  {
   "cell_type": "code",
   "execution_count": 13,
   "metadata": {
    "tags": []
   },
   "outputs": [],
   "source": [
    "def subset_mean(subset):\n",
    "    \"\"\"Compute the mean of an incomplete Pmf.\n",
    "    \n",
    "    subset: a conditional part of a Pmf\n",
    "    \n",
    "    returns: float\n",
    "    \"\"\"\n",
    "    pmf = Pmf(subset, copy=True)\n",
    "    pmf.normalize()\n",
    "    return pmf.mean()"
   ]
  },
  {
   "cell_type": "code",
   "execution_count": 14,
   "metadata": {
    "tags": []
   },
   "outputs": [],
   "source": [
    "def plot_fit(row):\n",
    "    \"\"\"Plot the fitted model along with the original data.\n",
    "    \n",
    "    row: actual data\n",
    "    \"\"\"\n",
    "    pmf = fit_row(row)\n",
    "    xs = [0, 1, 2, 3, 4, 5.5, 7.5]\n",
    "    xs[5] = subset_mean(pmf[5:7])\n",
    "    xs[6] = subset_mean(pmf[7:])\n",
    "\n",
    "    model = np.append(pmf[[0, 1, 2, 3, 4]], [sum(pmf[5:7]), sum(pmf[7:])])\n",
    "\n",
    "    plt.plot(xs, model)\n",
    "\n",
    "    actual = row.iloc[3:10].astype(float) / 100\n",
    "    plt.plot(xs, actual)"
   ]
  },
  {
   "cell_type": "markdown",
   "metadata": {
    "tags": []
   },
   "source": [
    "The following figure shows that the model, with a complete tail, yields summarized results like the original."
   ]
  },
  {
   "cell_type": "code",
   "execution_count": 15,
   "metadata": {
    "tags": []
   },
   "outputs": [
    {
     "data": {
      "image/png": "[encoded data removed]",
      "text/plain": [
       "<Figure size 432x288 with 1 Axes>"
      ]
     },
     "metadata": {
      "needs_background": "light"
     },
     "output_type": "display_data"
    }
   ],
   "source": [
    "plot_fit(row)"
   ]
  },
  {
   "cell_type": "markdown",
   "metadata": {
    "tags": []
   },
   "source": [
    "## Family Size\n",
    "\n",
    "Every other year, as part of the Current Population Survey (CPS), the Census Bureau surveys a representative sample women in the United States and asks, among other things, how many children they have ever born.\n",
    "To measure completed family sizes, they select women aged 40-44 (of course, some women bear children in their forties, so these estimates might be a little low).\n",
    "\n",
    "I used their data from 2018 to estimate the current distribution of family sizes.\n",
    "The following figure shows the result."
   ]
  },
  {
   "cell_type": "code",
   "execution_count": 16,
   "metadata": {
    "tags": []
   },
   "outputs": [],
   "source": [
    "def bias_pmf(pmf):\n",
    "    \"\"\"Compute the length-biased PMF.\n",
    "    \n",
    "    pmf: Pmf\n",
    "    \n",
    "    returns: Pmf\n",
    "    \"\"\"\n",
    "    ps = pmf.ps * pmf.qs\n",
    "    biased = Pmf(ps, pmf.qs)\n",
    "    biased.normalize()\n",
    "    return biased"
   ]
  },
  {
   "cell_type": "code",
   "execution_count": 17,
   "metadata": {
    "tags": []
   },
   "outputs": [
    {
     "data": {
      "text/plain": [
       "2.0360000024952996"
      ]
     },
     "execution_count": 17,
     "metadata": {},
     "output_type": "execute_result"
    }
   ],
   "source": [
    "row = rows.loc[2018]\n",
    "model = fit_row(row)\n",
    "model.mean()"
   ]
  },
  {
   "cell_type": "code",
   "execution_count": 18,
   "metadata": {
    "tags": []
   },
   "outputs": [
    {
     "data": {
      "text/plain": [
       "3.0017397260995224"
      ]
     },
     "execution_count": 18,
     "metadata": {},
     "output_type": "execute_result"
    }
   ],
   "source": [
    "biased = bias_pmf(model)\n",
    "biased.mean()"
   ]
  },
  {
   "cell_type": "code",
   "execution_count": 19,
   "metadata": {
    "tags": []
   },
   "outputs": [],
   "source": [
    "def plot_percent(series, **options):\n",
    "    \"\"\"Plot a PMF as percentages.\"\"\"\n",
    "    (series * 100).plot(alpha=0.4, **options)"
   ]
  },
  {
   "cell_type": "code",
   "execution_count": 20,
   "metadata": {
    "tags": []
   },
   "outputs": [
    {
     "data": {
      "image/png": "[encoded data removed]",
      "text/plain": [
       "<Figure size 432x288 with 1 Axes>"
      ]
     },
     "metadata": {
      "needs_background": "light"
     },
     "output_type": "display_data"
    }
   ],
   "source": [
    "from utils import decorate\n",
    "\n",
    "plot_percent(model, marker=\"o\", color=\"C1\", label=\"Census 2018\")\n",
    "plot_percent(\n",
    "    biased, marker=\"s\", color=\"C0\", ls=\"--\", label=\"Estimated family of orientation\"\n",
    ")\n",
    "\n",
    "decorate(\n",
    "    xlabel=\"Number of children\",\n",
    "    ylabel=\"Percentage of families\",\n",
    "    title=\"Distribution of family sizes\",\n",
    ")"
   ]
  },
  {
   "cell_type": "markdown",
   "metadata": {
    "tags": []
   },
   "source": [
    "The circles show the percentage of women who bore each number of children.\n",
    "For example, about 15% of the women in the sample had no children; almost 35% of them had two.\n",
    "\n",
    "If we take the distribution of family size from a sample of women, multiply each bar by the corresponding value of $k$, and then divide through by the total, the result is the distribution of family size from a sample of children.\n",
    "In the previous figure, the square markers show this distribution.\n",
    "\n",
    "As expected, children would report more large families (three or more children), fewer families with one child, and no families with zero children. "
   ]
  },
  {
   "cell_type": "markdown",
   "metadata": {
    "tags": []
   },
   "source": [
    "In general, the average family size is smaller if we survey women than if we survey their children.\n",
    "In this example, the average reported by women is close to 2; the average reported by their children would be close to 3."
   ]
  },
  {
   "cell_type": "markdown",
   "metadata": {
    "tags": []
   },
   "source": [
    "## The Depression and the Baby Boom\n",
    "\n",
    "Preston used data from the U.S. Census Bureau to compare family sizes at several points between 1890 and 1970.\n",
    "Among the results, he finds:\n",
    "\n",
    "* In 1950, the average family size reported by the women in the survey was 2.3. In 1970, it was 2.7. This increase was not surprising because the first group did most of their childbearing during the Great Depression, the second group mostly during the Baby Boom.\n",
    "\n",
    "* However, if we survey the children of these women, and ask about their mothers, the average in the 1950 sample would be 4.9; in the 1970 sample it would be 4.5. This decrease was surprising.\n",
    "\n",
    "According to the women in the survey, families got bigger between 1950 and 1970, by almost half a child.\n",
    "According to their children, families got smaller during the same interval, by almost half a child."
   ]
  },
  {
   "cell_type": "markdown",
   "metadata": {
    "tags": []
   },
   "source": [
    "Preston's paper presents the distributions in a figure, so I used a graph digitizing tool to extract them numerically.\n",
    "Because this process introduces small errors, I adjusted the results to match the average family sizes Preston computed.\n",
    "The following figure shows these distributions."
   ]
  },
  {
   "cell_type": "code",
   "execution_count": 21,
   "metadata": {
    "tags": []
   },
   "outputs": [],
   "source": [
    "download(\n",
    "    \"https://github.com/AllenDowney/ProbablyOverthinkingIt/raw/book/data/preston_data.csv\"\n",
    ")"
   ]
  },
  {
   "cell_type": "code",
   "execution_count": 22,
   "metadata": {
    "tags": []
   },
   "outputs": [
    {
     "data": {
      "text/html": [
       "<div>\n",
       "<style scoped>\n",
       "    .dataframe tbody tr th:only-of-type {\n",
       "        vertical-align: middle;\n",
       "    }\n",
       "\n",
       "    .dataframe tbody tr th {\n",
       "        vertical-align: top;\n",
       "    }\n",
       "\n",
       "    .dataframe thead th {\n",
       "        text-align: right;\n",
       "    }\n",
       "</style>\n",
       "<table border=\"1\" class=\"dataframe\">\n",
       "  <thead>\n",
       "    <tr style=\"text-align: right;\">\n",
       "      <th></th>\n",
       "      <th>X</th>\n",
       "      <th>Y</th>\n",
       "      <th>X.1</th>\n",
       "      <th>Y.1</th>\n",
       "    </tr>\n",
       "  </thead>\n",
       "  <tbody>\n",
       "    <tr>\n",
       "      <th>0</th>\n",
       "      <td>-0.048717</td>\n",
       "      <td>0.270525</td>\n",
       "      <td>-0.025345</td>\n",
       "      <td>0.154177</td>\n",
       "    </tr>\n",
       "    <tr>\n",
       "      <th>1</th>\n",
       "      <td>0.995326</td>\n",
       "      <td>0.173150</td>\n",
       "      <td>0.988026</td>\n",
       "      <td>0.134487</td>\n",
       "    </tr>\n",
       "    <tr>\n",
       "      <th>2</th>\n",
       "      <td>2.000930</td>\n",
       "      <td>0.192124</td>\n",
       "      <td>1.960587</td>\n",
       "      <td>0.242959</td>\n",
       "    </tr>\n",
       "    <tr>\n",
       "      <th>3</th>\n",
       "      <td>3.008009</td>\n",
       "      <td>0.128759</td>\n",
       "      <td>2.980574</td>\n",
       "      <td>0.190334</td>\n",
       "    </tr>\n",
       "    <tr>\n",
       "      <th>4</th>\n",
       "      <td>3.997074</td>\n",
       "      <td>0.080072</td>\n",
       "      <td>3.989164</td>\n",
       "      <td>0.119451</td>\n",
       "    </tr>\n",
       "    <tr>\n",
       "      <th>5</th>\n",
       "      <td>4.998472</td>\n",
       "      <td>0.044988</td>\n",
       "      <td>4.979379</td>\n",
       "      <td>0.065036</td>\n",
       "    </tr>\n",
       "    <tr>\n",
       "      <th>6</th>\n",
       "      <td>5.995842</td>\n",
       "      <td>0.029952</td>\n",
       "      <td>5.979842</td>\n",
       "      <td>0.034606</td>\n",
       "    </tr>\n",
       "    <tr>\n",
       "      <th>7</th>\n",
       "      <td>6.992782</td>\n",
       "      <td>0.017064</td>\n",
       "      <td>6.992206</td>\n",
       "      <td>0.019928</td>\n",
       "    </tr>\n",
       "    <tr>\n",
       "      <th>8</th>\n",
       "      <td>8.003205</td>\n",
       "      <td>0.012053</td>\n",
       "      <td>7.988714</td>\n",
       "      <td>0.009189</td>\n",
       "    </tr>\n",
       "    <tr>\n",
       "      <th>9</th>\n",
       "      <td>8.983352</td>\n",
       "      <td>0.007757</td>\n",
       "      <td>8.998418</td>\n",
       "      <td>0.007757</td>\n",
       "    </tr>\n",
       "    <tr>\n",
       "      <th>10</th>\n",
       "      <td>9.993272</td>\n",
       "      <td>0.005251</td>\n",
       "      <td>9.993343</td>\n",
       "      <td>0.004893</td>\n",
       "    </tr>\n",
       "    <tr>\n",
       "      <th>11</th>\n",
       "      <td>10.988053</td>\n",
       "      <td>0.003103</td>\n",
       "      <td>10.972987</td>\n",
       "      <td>0.003103</td>\n",
       "    </tr>\n",
       "    <tr>\n",
       "      <th>12</th>\n",
       "      <td>11.997757</td>\n",
       "      <td>0.001671</td>\n",
       "      <td>11.982691</td>\n",
       "      <td>0.001671</td>\n",
       "    </tr>\n",
       "    <tr>\n",
       "      <th>13</th>\n",
       "      <td>12.992323</td>\n",
       "      <td>0.000597</td>\n",
       "      <td>12.977257</td>\n",
       "      <td>0.000597</td>\n",
       "    </tr>\n",
       "  </tbody>\n",
       "</table>\n",
       "</div>"
      ],
      "text/plain": [
       "            X         Y        X.1       Y.1\n",
       "0   -0.048717  0.270525  -0.025345  0.154177\n",
       "1    0.995326  0.173150   0.988026  0.134487\n",
       "2    2.000930  0.192124   1.960587  0.242959\n",
       "3    3.008009  0.128759   2.980574  0.190334\n",
       "4    3.997074  0.080072   3.989164  0.119451\n",
       "5    4.998472  0.044988   4.979379  0.065036\n",
       "6    5.995842  0.029952   5.979842  0.034606\n",
       "7    6.992782  0.017064   6.992206  0.019928\n",
       "8    8.003205  0.012053   7.988714  0.009189\n",
       "9    8.983352  0.007757   8.998418  0.007757\n",
       "10   9.993272  0.005251   9.993343  0.004893\n",
       "11  10.988053  0.003103  10.972987  0.003103\n",
       "12  11.997757  0.001671  11.982691  0.001671\n",
       "13  12.992323  0.000597  12.977257  0.000597"
      ]
     },
     "execution_count": 22,
     "metadata": {},
     "output_type": "execute_result"
    }
   ],
   "source": [
    "# When I made this dataset, I didn't change the default labels for the columns.\n",
    "\n",
    "df = pd.read_csv(\"preston_data.csv\", skiprows=1)\n",
    "df"
   ]
  },
  {
   "cell_type": "code",
   "execution_count": 23,
   "metadata": {
    "tags": []
   },
   "outputs": [
    {
     "data": {
      "text/plain": [
       "0.967064439140811"
      ]
     },
     "execution_count": 23,
     "metadata": {},
     "output_type": "execute_result"
    }
   ],
   "source": [
    "# Y contains the PMF values from 1950\n",
    "\n",
    "pmf1950 = Pmf(df[\"Y\"]).copy()\n",
    "pmf1950.sum()"
   ]
  },
  {
   "cell_type": "code",
   "execution_count": 24,
   "metadata": {
    "tags": []
   },
   "outputs": [
    {
     "data": {
      "text/plain": [
       "0.9881861575178994"
      ]
     },
     "execution_count": 24,
     "metadata": {},
     "output_type": "execute_result"
    }
   ],
   "source": [
    "# Y.1 contains the PMF values from 1970\n",
    "\n",
    "pmf1970 = Pmf(df[\"Y.1\"]).copy()\n",
    "pmf1970.sum()"
   ]
  },
  {
   "cell_type": "markdown",
   "metadata": {
    "tags": []
   },
   "source": [
    "Here's what the raw data look like."
   ]
  },
  {
   "cell_type": "code",
   "execution_count": 25,
   "metadata": {
    "tags": []
   },
   "outputs": [
    {
     "data": {
      "image/png": "[encoded data removed]",
      "text/plain": [
       "<Figure size 432x288 with 1 Axes>"
      ]
     },
     "metadata": {
      "needs_background": "light"
     },
     "output_type": "display_data"
    }
   ],
   "source": [
    "plot_percent(pmf1950, label=\"1950\", marker=\"s\", ls=\"--\")\n",
    "plot_percent(pmf1970, label=\"1970\", marker=\"o\")\n",
    "\n",
    "decorate(\n",
    "    xlabel=\"Number of children\",\n",
    "    ylabel=\"Percentage of families\",\n",
    "    title=\"Distribution of family sizes in the U.S.\",\n",
    ")"
   ]
  },
  {
   "cell_type": "markdown",
   "metadata": {
    "tags": []
   },
   "source": [
    "The data past x=6 are not very accurate, and the PMFs are not normalized.\n",
    "\n",
    "However, we also have the means of X and C to help us adjust the PMFs.\n",
    "\n",
    "The following function takes mu, which is the Poisson parameter of the tail, and scale, which is the normalizing constant for the actual data, and returns a normalized PMF."
   ]
  },
  {
   "cell_type": "code",
   "execution_count": 26,
   "metadata": {
    "tags": []
   },
   "outputs": [],
   "source": [
    "def make_model2(mu, scale, pmf):\n",
    "    \"\"\"Add a Poisson tail to a given dataset.\n",
    "    \n",
    "    mu: mean\n",
    "    scale: multiplier\n",
    "    pmf: given distribution\n",
    "    \n",
    "    returns: Pmf\n",
    "    \"\"\"\n",
    "    actual = pmf[:8] * scale\n",
    "\n",
    "    model = make_poisson(mu)\n",
    "    model[:8] = 0\n",
    "    model.normalize()\n",
    "    model *= 1 - actual.sum()\n",
    "    model[:8] = actual\n",
    "    return model"
   ]
  },
  {
   "cell_type": "markdown",
   "metadata": {
    "tags": []
   },
   "source": [
    "Now the job is to estimate the parameters to best fit the data.\n",
    "As a starting place, `(8, 1)` does ok."
   ]
  },
  {
   "cell_type": "code",
   "execution_count": 27,
   "metadata": {
    "tags": []
   },
   "outputs": [
    {
     "data": {
      "text/plain": [
       "1.0"
      ]
     },
     "execution_count": 27,
     "metadata": {},
     "output_type": "execute_result"
    }
   ],
   "source": [
    "model = make_model2(8, 1, pmf1950)\n",
    "model.sum()"
   ]
  },
  {
   "cell_type": "code",
   "execution_count": 28,
   "metadata": {
    "tags": []
   },
   "outputs": [
    {
     "data": {
      "text/plain": [
       "<AxesSubplot:>"
      ]
     },
     "execution_count": 28,
     "metadata": {},
     "output_type": "execute_result"
    },
    {
     "data": {
      "image/png": "[encoded data removed]",
      "text/plain": [
       "<Figure size 432x288 with 1 Axes>"
      ]
     },
     "metadata": {
      "needs_background": "light"
     },
     "output_type": "display_data"
    }
   ],
   "source": [
    "pmf1950.plot()\n",
    "model.plot()"
   ]
  },
  {
   "cell_type": "markdown",
   "metadata": {
    "tags": []
   },
   "source": [
    "But we can use `least_squares` to improve it. Here's the error function."
   ]
  },
  {
   "cell_type": "code",
   "execution_count": 29,
   "metadata": {
    "tags": []
   },
   "outputs": [],
   "source": [
    "def error_func2(params, pmf, stats):\n",
    "    \"\"\"Error function for fitting a model.\n",
    "        \n",
    "    params: mu and scale\n",
    "    pmf: Pmf\n",
    "    stats: the mean of X and C\n",
    "    \"\"\"\n",
    "    mu, scale = params\n",
    "    model = make_model2(mu, scale, pmf)\n",
    "    error1 = model.mean() - stats[0]\n",
    "    biased = bias_pmf(model)\n",
    "    error2 = biased.mean() - stats[1]\n",
    "    return error1, error2"
   ]
  },
  {
   "cell_type": "markdown",
   "metadata": {
    "tags": []
   },
   "source": [
    "Here are the stats from 1950."
   ]
  },
  {
   "cell_type": "code",
   "execution_count": 30,
   "metadata": {
    "tags": []
   },
   "outputs": [
    {
     "data": {
      "text/plain": [
       "(0.11168500538590553, 0.3107205927152643)"
      ]
     },
     "execution_count": 30,
     "metadata": {},
     "output_type": "execute_result"
    }
   ],
   "source": [
    "params = [8, 1]\n",
    "stats = 2.292, 4.909\n",
    "error_func2(params, pmf1950, stats)"
   ]
  },
  {
   "cell_type": "markdown",
   "metadata": {
    "tags": []
   },
   "source": [
    "The following function find the best fit and returns a `Pmf`."
   ]
  },
  {
   "cell_type": "code",
   "execution_count": 31,
   "metadata": {
    "tags": []
   },
   "outputs": [],
   "source": [
    "def fit_pmf2(pmf, stats):\n",
    "    \"\"\"Find a model that reproduces the published summary stats.\n",
    "\n",
    "    pmf: given data\n",
    "    stats: mean of X and C\n",
    "    \n",
    "    returns: Pmf\n",
    "    \"\"\"\n",
    "    params = [8, 1]\n",
    "    res = least_squares(error_func2, x0=params, args=(pmf, stats))\n",
    "\n",
    "    mu, scale = res.x\n",
    "    print(\"best\", mu, scale)\n",
    "    model = make_model2(mu, scale, pmf)\n",
    "    return model"
   ]
  },
  {
   "cell_type": "code",
   "execution_count": 32,
   "metadata": {
    "tags": []
   },
   "outputs": [
    {
     "name": "stdout",
     "output_type": "stream",
     "text": [
      "best 7.918333883292565 1.0151176906214459\n"
     ]
    }
   ],
   "source": [
    "model1950 = fit_pmf2(pmf1950, stats)"
   ]
  },
  {
   "cell_type": "markdown",
   "metadata": {},
   "source": [
    "The means of C and X and just about right."
   ]
  },
  {
   "cell_type": "code",
   "execution_count": 33,
   "metadata": {
    "tags": []
   },
   "outputs": [
    {
     "data": {
      "text/plain": [
       "(2.2920000000000007, 4.908999999999998, (2.292, 4.909))"
      ]
     },
     "execution_count": 33,
     "metadata": {},
     "output_type": "execute_result"
    }
   ],
   "source": [
    "biased = bias_pmf(model1950)\n",
    "model1950.mean(), biased.mean(), stats"
   ]
  },
  {
   "cell_type": "markdown",
   "metadata": {},
   "source": [
    "And the agreement looks good enough."
   ]
  },
  {
   "cell_type": "code",
   "execution_count": 34,
   "metadata": {
    "tags": []
   },
   "outputs": [
    {
     "data": {
      "image/png": "[encoded data removed]",
      "text/plain": [
       "<Figure size 432x288 with 1 Axes>"
      ]
     },
     "metadata": {
      "needs_background": "light"
     },
     "output_type": "display_data"
    }
   ],
   "source": [
    "pmf1950.plot()\n",
    "model1950.plot()\n",
    "decorate()"
   ]
  },
  {
   "cell_type": "markdown",
   "metadata": {},
   "source": [
    "Here's the model for the 1970 data."
   ]
  },
  {
   "cell_type": "code",
   "execution_count": 35,
   "metadata": {
    "tags": []
   },
   "outputs": [
    {
     "name": "stdout",
     "output_type": "stream",
     "text": [
      "best 6.92744420810399 1.0005469812609125\n"
     ]
    }
   ],
   "source": [
    "stats = 2.705, 4.461\n",
    "model1970 = fit_pmf2(pmf1970, stats)"
   ]
  },
  {
   "cell_type": "code",
   "execution_count": 36,
   "metadata": {
    "tags": []
   },
   "outputs": [
    {
     "data": {
      "text/plain": [
       "(2.7050000000000565, 4.460999999999886, (2.705, 4.461))"
      ]
     },
     "execution_count": 36,
     "metadata": {},
     "output_type": "execute_result"
    }
   ],
   "source": [
    "biased = bias_pmf(model1970)\n",
    "model1970.mean(), biased.mean(), stats"
   ]
  },
  {
   "cell_type": "code",
   "execution_count": 37,
   "metadata": {
    "tags": []
   },
   "outputs": [
    {
     "data": {
      "image/png": "[encoded data removed]",
      "text/plain": [
       "<Figure size 432x288 with 1 Axes>"
      ]
     },
     "metadata": {
      "needs_background": "light"
     },
     "output_type": "display_data"
    }
   ],
   "source": [
    "pmf1970.plot()\n",
    "model1970.plot()\n",
    "decorate()"
   ]
  },
  {
   "cell_type": "markdown",
   "metadata": {},
   "source": [
    "Here are the two models."
   ]
  },
  {
   "cell_type": "code",
   "execution_count": 38,
   "metadata": {
    "tags": []
   },
   "outputs": [
    {
     "data": {
      "image/png": "[encoded data removed]",
      "text/plain": [
       "<Figure size 432x288 with 1 Axes>"
      ]
     },
     "metadata": {
      "needs_background": "light"
     },
     "output_type": "display_data"
    }
   ],
   "source": [
    "plot_percent(model1950, label=\"Census 1950\", marker=\"s\", ls=\"--\")\n",
    "plot_percent(model1970, label=\"Census 1970\", marker=\"o\")\n",
    "\n",
    "decorate(\n",
    "    xlabel=\"Number of children\",\n",
    "    ylabel=\"Percentage of families\",\n",
    "    title=\"Distribution of family sizes in the U.S.\",\n",
    ")"
   ]
  },
  {
   "cell_type": "markdown",
   "metadata": {
    "tags": []
   },
   "source": [
    "Family size was more variable in the 1950 cohort. \n",
    "The standard deviation of the distribution was about 2.4; in the 1970 cohort it was about 2.2.\n",
    "This variability is the reason for the difference between the two ways of measuring family size."
   ]
  },
  {
   "cell_type": "markdown",
   "metadata": {
    "tags": []
   },
   "source": [
    "As Preston derived, there is a mathematical relationship between the average family size as reported by women, which he calls $X$, and the average family size as reported by their children, which he calls $C$.\n",
    "\n",
    "$C = X + V/X$\n",
    "\n",
    "where $V$ is the variance of the distribution (the square of standard deviation).\n",
    "\n",
    "Compared to 1950, $X$ was bigger in 1970, but $V$ was smaller; and as it turns out, $C$ was smaller, too.\n",
    "That's how family sizes can be bigger if we survey mothers and smaller if we survey their children."
   ]
  },
  {
   "cell_type": "code",
   "execution_count": 39,
   "metadata": {
    "tags": []
   },
   "outputs": [
    {
     "data": {
      "text/plain": [
       "(0.2705250596658711, 0.2746147738232479)"
      ]
     },
     "execution_count": 39,
     "metadata": {},
     "output_type": "execute_result"
    }
   ],
   "source": [
    "pmf1950[0], model1950[0]"
   ]
  },
  {
   "cell_type": "code",
   "execution_count": 40,
   "metadata": {
    "tags": []
   },
   "outputs": [
    {
     "data": {
      "text/plain": [
       "(0.1541766109785203, 0.15426094269559656)"
      ]
     },
     "execution_count": 40,
     "metadata": {},
     "output_type": "execute_result"
    }
   ],
   "source": [
    "pmf1970[0], model1970[0]"
   ]
  },
  {
   "cell_type": "code",
   "execution_count": 41,
   "metadata": {
    "tags": []
   },
   "outputs": [
    {
     "data": {
      "text/plain": [
       "(2.4491149421780913, 2.179444883450747)"
      ]
     },
     "execution_count": 41,
     "metadata": {},
     "output_type": "execute_result"
    }
   ],
   "source": [
    "model1950.std(), model1970.std()"
   ]
  },
  {
   "cell_type": "code",
   "execution_count": 42,
   "metadata": {
    "tags": []
   },
   "outputs": [
    {
     "data": {
      "text/plain": [
       "(2.2920000000000007, 4.908999999999999)"
      ]
     },
     "execution_count": 42,
     "metadata": {},
     "output_type": "execute_result"
    }
   ],
   "source": [
    "X = model1950.mean()\n",
    "C = X + model1950.var() / X\n",
    "X, C"
   ]
  },
  {
   "cell_type": "code",
   "execution_count": 43,
   "metadata": {
    "tags": []
   },
   "outputs": [
    {
     "data": {
      "text/plain": [
       "(2.7050000000000565, 4.460999999999887)"
      ]
     },
     "execution_count": 43,
     "metadata": {},
     "output_type": "execute_result"
    }
   ],
   "source": [
    "X = model1970.mean()\n",
    "C = X + model1970.var() / X\n",
    "X, C"
   ]
  },
  {
   "cell_type": "markdown",
   "metadata": {
    "tags": []
   },
   "source": [
    "## More Recently\n",
    "\n",
    "With more recent Census data, we can see what has happened to family sizes since 1970."
   ]
  },
  {
   "cell_type": "code",
   "execution_count": 44,
   "metadata": {
    "tags": []
   },
   "outputs": [],
   "source": [
    "from utils import make_lowess, plot_series_lowess"
   ]
  },
  {
   "cell_type": "markdown",
   "metadata": {
    "tags": []
   },
   "source": [
    "The following figure shows the average number of children born to women aged 40-44 when they were surveyed.\n",
    "The first cohort was interviewed in 1976, the last in 2018."
   ]
  },
  {
   "cell_type": "code",
   "execution_count": 45,
   "metadata": {
    "tags": []
   },
   "outputs": [
    {
     "data": {
      "image/png": "[encoded data removed]",
      "text/plain": [
       "<Figure size 432x288 with 1 Axes>"
      ]
     },
     "metadata": {
      "needs_background": "light"
     },
     "output_type": "display_data"
    }
   ],
   "source": [
    "plot_series_lowess(\n",
    "    rows[\"Rate per 1000\"] / 1000, label=\"Average family size\", marker=\"d\"\n",
    ")\n",
    "\n",
    "decorate(\n",
    "    ylabel=\"Number of children\", title=\"Average family size 1976-2018\", ylim=[0, 3.3]\n",
    ")"
   ]
  },
  {
   "cell_type": "markdown",
   "metadata": {
    "tags": []
   },
   "source": [
    "Between 1976 and 1990, average family size fell from more than 3 to less than 2.\n",
    "Since 2010, it has increased a little.\n",
    "\n",
    "To see where those changes came from, let's see how each part of the distribution has changed.\n",
    "The following figure shows the percentage of women with 0, 1, or 2 children, plotted over time."
   ]
  },
  {
   "cell_type": "code",
   "execution_count": 46,
   "metadata": {
    "tags": []
   },
   "outputs": [
    {
     "data": {
      "image/png": "[encoded data removed]",
      "text/plain": [
       "<Figure size 432x288 with 1 Axes>"
      ]
     },
     "metadata": {
      "needs_background": "light"
     },
     "output_type": "display_data"
    }
   ],
   "source": [
    "plot_series_lowess(rows[\"Two\"], label=\"2\", marker=\"x\")\n",
    "plot_series_lowess(rows[\"One\"], label=\"1\", marker=\"+\")\n",
    "plot_series_lowess(rows[\"None\"], label=\"0\", marker=\"o\")\n",
    "\n",
    "decorate(\n",
    "    ylabel=\"Percentage of families\",\n",
    "    title=\"Percentage of families with 0, 1, or 2 children\",\n",
    "    ylim=[-3, 39],\n",
    "    loc=\"lower right\",\n",
    ")"
   ]
  },
  {
   "cell_type": "markdown",
   "metadata": {
    "tags": []
   },
   "source": [
    "The fraction of small families has increased; most notably, between 1976 and 1990, the percentage of women with two children increased from 22% to 35%.\n",
    "The percentage of women with one child or zero also increased.\n",
    "\n",
    "The following figure shows how the percentage of large families changed over the same period."
   ]
  },
  {
   "cell_type": "code",
   "execution_count": 47,
   "metadata": {
    "tags": []
   },
   "outputs": [
    {
     "data": {
      "image/png": "[encoded data removed]",
      "text/plain": [
       "<Figure size 432x288 with 1 Axes>"
      ]
     },
     "metadata": {
      "needs_background": "light"
     },
     "output_type": "display_data"
    }
   ],
   "source": [
    "plot_series_lowess(rows[\"Three\"], label=\"3\", marker=\"^\")\n",
    "plot_series_lowess(rows[\"Four\"], label=\"4\", marker=\"s\")\n",
    "plot_series_lowess(rows[\"Five and six\"], label=\"5-6\", marker=\"p\")\n",
    "plot_series_lowess(rows[\"Seven or more\"], label=\"7+\", marker=\"8\")\n",
    "\n",
    "decorate(\n",
    "    ylabel=\"Percentage of families\",\n",
    "    title=\"Percentage of families with 3 or more children\",\n",
    "    ylim=[-1, 40],\n",
    ")"
   ]
  },
  {
   "cell_type": "markdown",
   "metadata": {
    "tags": []
   },
   "source": [
    "The proportion of large families declined substantially, especially the percentage of families with 5-6 children, which was 14% in 1976 and 4% in 2018.\n",
    "Over the same period, the percentage of families with seven or more children declined from 6% to less than 1%."
   ]
  },
  {
   "cell_type": "markdown",
   "metadata": {
    "tags": []
   },
   "source": [
    "We can use this data to see how the two measures of family size have changed over time.\n",
    "\n",
    "The following figure shows $X$, which is the average number of children ever born to the women who were surveyed, and $C$, which is the average we would measure if we surveyed their children."
   ]
  },
  {
   "cell_type": "code",
   "execution_count": 48,
   "metadata": {
    "tags": []
   },
   "outputs": [
    {
     "name": "stdout",
     "output_type": "stream",
     "text": [
      "1976 3.0910000000007147 4.433126835158552 1.342126835157837 3091\n",
      "1990 2.045000038403182 3.055184644518847 1.010184606115665 2045\n",
      "1998 1.8770000809557768 2.8402939128993694 0.9632938319435926 1877\n",
      "2008 1.9010000215051315 2.8941684703733275 0.993168448868196 1901\n",
      "2018 2.0360000024952996 3.0017397260995224 0.9657397236042229 2036\n"
     ]
    }
   ],
   "source": [
    "for year in [1976, 1990, 1998, 2008, 2018]:\n",
    "    row = rows.loc[year]\n",
    "    model = fit_row(row)\n",
    "    biased = bias_pmf(model)\n",
    "    X = model.mean()\n",
    "    C = biased.mean()\n",
    "    print(year, X, C, C - X, row[\"Rate per 1000\"])"
   ]
  },
  {
   "cell_type": "code",
   "execution_count": 49,
   "metadata": {
    "tags": []
   },
   "outputs": [],
   "source": [
    "x_series = pd.Series(index=rows.index, dtype=float)\n",
    "c_series = pd.Series(index=rows.index, dtype=float)\n",
    "\n",
    "for year, row in rows.iterrows():\n",
    "    model = fit_row(row)\n",
    "    biased = bias_pmf(model)\n",
    "    x_series[year] = model.mean()\n",
    "    c_series[year] = biased.mean()"
   ]
  },
  {
   "cell_type": "code",
   "execution_count": 50,
   "metadata": {
    "tags": []
   },
   "outputs": [
    {
     "data": {
      "image/png": "[encoded data removed]",
      "text/plain": [
       "<Figure size 432x288 with 1 Axes>"
      ]
     },
     "metadata": {
      "needs_background": "light"
     },
     "output_type": "display_data"
    }
   ],
   "source": [
    "plot_series_lowess(c_series, label=\"Averaged over children, C\", marker=\"o\")\n",
    "plot_series_lowess(x_series, label=\"Averaged over women, X\", marker=\"x\")\n",
    "\n",
    "decorate(\n",
    "    ylabel=\"Average family size\",\n",
    "    title=\"Two measures of average family size\",\n",
    "    ylim=[0, 4.9],\n",
    ")"
   ]
  },
  {
   "cell_type": "markdown",
   "metadata": {
    "tags": []
   },
   "source": [
    "Between 1976 and 1990, the average family size reported by women, $X$, decreased from 3.1 to 2.0.\n",
    "Over the same period, the average family size reported by children, $C$, decreased from 4.4 to 2.8.\n",
    "Since 1990, $X$ has been close to 2 and $C$ has been close to 3."
   ]
  },
  {
   "cell_type": "markdown",
   "metadata": {
    "tags": []
   },
   "source": [
    "## Preston's Paradox\n",
    "\n",
    "Now we are ready to explain the surprising result from the imaginary kingdom at the beginning of the chapter.\n",
    "\n",
    "\n",
    "But using the actual distribution from 1970 as a starting place, we can simulate what would have happened in different scenarios.\n",
    "\n",
    "First, let's suppose that every woman has the same number of children as her mother.\n",
    "As a small example, suppose there are only two families, one with two children and the other with four, so the average family size is three.\n",
    "\n",
    "Assuming that half of the children are girls, in the next generation there would be one woman from a two-child family and two children from a four-child family."
   ]
  },
  {
   "cell_type": "code",
   "execution_count": 51,
   "metadata": {
    "tags": []
   },
   "outputs": [
    {
     "data": {
      "text/plain": [
       "3.0"
      ]
     },
     "execution_count": 51,
     "metadata": {},
     "output_type": "execute_result"
    }
   ],
   "source": [
    "pmf = Pmf.from_seq([2, 4])\n",
    "pmf.mean()"
   ]
  },
  {
   "cell_type": "code",
   "execution_count": 52,
   "metadata": {
    "tags": []
   },
   "outputs": [
    {
     "data": {
      "text/plain": [
       "3.333333333333333"
      ]
     },
     "execution_count": 52,
     "metadata": {},
     "output_type": "execute_result"
    }
   ],
   "source": [
    "biased = bias_pmf(pmf)\n",
    "biased.mean()"
   ]
  },
  {
   "cell_type": "code",
   "execution_count": 53,
   "metadata": {
    "tags": []
   },
   "outputs": [
    {
     "data": {
      "text/plain": [
       "3.6"
      ]
     },
     "execution_count": 53,
     "metadata": {},
     "output_type": "execute_result"
    }
   ],
   "source": [
    "biased2 = bias_pmf(biased)\n",
    "biased2.mean()"
   ]
  },
  {
   "cell_type": "code",
   "execution_count": 54,
   "metadata": {
    "tags": []
   },
   "outputs": [
    {
     "data": {
      "text/plain": [
       "1.8950000219673087"
      ]
     },
     "execution_count": 54,
     "metadata": {},
     "output_type": "execute_result"
    }
   ],
   "source": [
    "row = rows.loc[1979 + 25]\n",
    "model = fit_row(row)\n",
    "model.mean()"
   ]
  },
  {
   "cell_type": "code",
   "execution_count": 55,
   "metadata": {
    "tags": []
   },
   "outputs": [
    {
     "data": {
      "text/plain": [
       "2.9960000001442606"
      ]
     },
     "execution_count": 55,
     "metadata": {},
     "output_type": "execute_result"
    }
   ],
   "source": [
    "row = rows.loc[1979]\n",
    "model = fit_row(row)\n",
    "model.mean()"
   ]
  },
  {
   "cell_type": "code",
   "execution_count": 56,
   "metadata": {
    "tags": []
   },
   "outputs": [
    {
     "data": {
      "text/plain": [
       "4.25534466920534"
      ]
     },
     "execution_count": 56,
     "metadata": {},
     "output_type": "execute_result"
    }
   ],
   "source": [
    "biased = bias_pmf(model)\n",
    "biased.mean()"
   ]
  },
  {
   "cell_type": "markdown",
   "metadata": {
    "tags": []
   },
   "source": [
    "If each of these women has the same number of children as her mother, one would have two children and the other two would have four.\n",
    "So the average family size would be 3.33.\n",
    "\n",
    "In the next generation, there would be one woman with two children, again, but there would be four with four. So the average family size would be 3.6.\n",
    "\n",
    "In successive generations, the number of four-child families would increase exponentially, and the average family size would quickly approach to 4."
   ]
  },
  {
   "cell_type": "markdown",
   "metadata": {
    "tags": []
   },
   "source": [
    "We can do the same calculation with a more realistic distribution.\n",
    "The following figure shows the actual distribution of family sizes from 1979 (solid line) and the result of this calculation, which simulates the \"same as mother\" scenario (dashed line)."
   ]
  },
  {
   "cell_type": "code",
   "execution_count": 57,
   "metadata": {
    "tags": []
   },
   "outputs": [
    {
     "data": {
      "image/png": "[encoded data removed]",
      "text/plain": [
       "<Figure size 432x288 with 1 Axes>"
      ]
     },
     "metadata": {
      "needs_background": "light"
     },
     "output_type": "display_data"
    }
   ],
   "source": [
    "plot_percent(model, label=\"Actual 1979\", marker=\"o\")\n",
    "plot_percent(biased, label=\"Same as mother scenario\", ls=\"--\", marker=\"|\", color=\"C4\")\n",
    "\n",
    "decorate(\n",
    "    xlabel=\"Number of children\",\n",
    "    ylabel=\"Percentage of families\",\n",
    "    title=\"Distribution of family sizes\",\n",
    ")"
   ]
  },
  {
   "cell_type": "markdown",
   "metadata": {
    "tags": []
   },
   "source": [
    "The mean of the original distribution is 3; the mean of the simulated distribution is 4.3.\n",
    "\n",
    "If we repeat the process, the average family size would be 5.2 in the next generation, 6.1 in the next, and 6.9 in the next.\n",
    "Eventually, nearly all women would have 13 children, which is the maximum in this dataset."
   ]
  },
  {
   "cell_type": "code",
   "execution_count": 58,
   "metadata": {
    "tags": []
   },
   "outputs": [
    {
     "name": "stdout",
     "output_type": "stream",
     "text": [
      "2 5.205672599164491\n",
      "3 6.10968948800601\n",
      "4 6.924225284367675\n",
      "5 7.637134370388916\n"
     ]
    }
   ],
   "source": [
    "for i in range(2, 6):\n",
    "    biased = bias_pmf(biased)\n",
    "    print(i, biased.mean())"
   ]
  },
  {
   "cell_type": "markdown",
   "metadata": {
    "tags": []
   },
   "source": [
    "The following simulations are intended to confirm that the results we just computed are correct."
   ]
  },
  {
   "cell_type": "code",
   "execution_count": 59,
   "metadata": {
    "tags": []
   },
   "outputs": [],
   "source": [
    "def simulate(sample, p=0):\n",
    "    \"\"\"Simulate the same as mother or one less models.\n",
    "    \n",
    "    sample: sample of family sizes\n",
    "    p: probability of having one child less than, or the same as, one's mother\n",
    "    \n",
    "    returns: sample of next generation\n",
    "    \"\"\"\n",
    "    res = []\n",
    "    for k in sample:\n",
    "        if k == 0:\n",
    "            continue\n",
    "        children = np.random.choice([k - 1, k], size=k, p=[p, 1 - p])\n",
    "        res.extend(children)\n",
    "\n",
    "    # return a random sample of half of the children\n",
    "    index = np.where(np.random.choice(2, size=len(res)))\n",
    "    return np.array(res)[index]"
   ]
  },
  {
   "cell_type": "markdown",
   "metadata": {},
   "source": [
    "Generate a sample from the model to start."
   ]
  },
  {
   "cell_type": "code",
   "execution_count": 60,
   "metadata": {
    "tags": []
   },
   "outputs": [
    {
     "data": {
      "text/plain": [
       "2.964"
      ]
     },
     "execution_count": 60,
     "metadata": {},
     "output_type": "execute_result"
    }
   ],
   "source": [
    "gen0 = model.sample(10000).astype(int)\n",
    "gen0.mean()"
   ]
  },
  {
   "cell_type": "markdown",
   "metadata": {},
   "source": [
    "Simulate the next generation."
   ]
  },
  {
   "cell_type": "code",
   "execution_count": 61,
   "metadata": {
    "tags": []
   },
   "outputs": [
    {
     "data": {
      "text/plain": [
       "4.1827000808407435"
      ]
     },
     "execution_count": 61,
     "metadata": {},
     "output_type": "execute_result"
    }
   ],
   "source": [
    "gen1 = simulate(gen0, p=0)\n",
    "gen1.mean()"
   ]
  },
  {
   "cell_type": "markdown",
   "metadata": {},
   "source": [
    "Compare the simulation results to the biased model."
   ]
  },
  {
   "cell_type": "code",
   "execution_count": 62,
   "metadata": {
    "tags": []
   },
   "outputs": [
    {
     "data": {
      "image/png": "[encoded data removed]",
      "text/plain": [
       "<Figure size 432x288 with 1 Axes>"
      ]
     },
     "metadata": {
      "needs_background": "light"
     },
     "output_type": "display_data"
    }
   ],
   "source": [
    "biased = bias_pmf(model)\n",
    "biased.plot()\n",
    "Pmf.from_seq(gen1).plot()\n",
    "decorate()"
   ]
  },
  {
   "cell_type": "markdown",
   "metadata": {
    "tags": []
   },
   "source": [
    "## One Child Fewer\n",
    "\n",
    "Suppose every woman has precisely one child fewer than her mother.\n",
    "We can simulate this behavior by computing the biased distribution, as in the previous section, and then shifting the result one child to the left.\n",
    "\n",
    "The following figure shows the actual distribution from 1979 again, along with the result of this simulation."
   ]
  },
  {
   "cell_type": "code",
   "execution_count": 63,
   "metadata": {
    "tags": []
   },
   "outputs": [],
   "source": [
    "def shift_pmf(pmf):\n",
    "    \"\"\"Shift the values to the left by one.\n",
    "    \n",
    "    pmf: Pmf\n",
    "    \n",
    "    returns: Pmf\n",
    "    \"\"\"\n",
    "    qs = pmf.qs[:-1]\n",
    "    ps = pmf.ps[1:]\n",
    "    return Pmf(ps, qs)"
   ]
  },
  {
   "cell_type": "code",
   "execution_count": 64,
   "metadata": {
    "tags": []
   },
   "outputs": [
    {
     "data": {
      "text/plain": [
       "2.9960000001442606"
      ]
     },
     "execution_count": 64,
     "metadata": {},
     "output_type": "execute_result"
    }
   ],
   "source": [
    "row = rows.loc[1979]\n",
    "model = fit_row(row)\n",
    "model.mean()"
   ]
  },
  {
   "cell_type": "code",
   "execution_count": 65,
   "metadata": {
    "tags": []
   },
   "outputs": [
    {
     "data": {
      "text/plain": [
       "4.25534466920534"
      ]
     },
     "execution_count": 65,
     "metadata": {},
     "output_type": "execute_result"
    }
   ],
   "source": [
    "biased = bias_pmf(model)\n",
    "biased.mean()"
   ]
  },
  {
   "cell_type": "code",
   "execution_count": 66,
   "metadata": {
    "tags": []
   },
   "outputs": [
    {
     "data": {
      "text/plain": [
       "3.25534466920534"
      ]
     },
     "execution_count": 66,
     "metadata": {},
     "output_type": "execute_result"
    }
   ],
   "source": [
    "shifted = shift_pmf(biased)\n",
    "shifted.mean()"
   ]
  },
  {
   "cell_type": "code",
   "execution_count": 67,
   "metadata": {
    "tags": []
   },
   "outputs": [
    {
     "data": {
      "image/png": "[encoded data removed]",
      "text/plain": [
       "<Figure size 432x288 with 1 Axes>"
      ]
     },
     "metadata": {
      "needs_background": "light"
     },
     "output_type": "display_data"
    }
   ],
   "source": [
    "plot_percent(model, label=\"Actual 1979\", marker=\"o\")\n",
    "plot_percent(shifted, label=\"One child fewer scenario\", ls=\"--\", marker=\"x\", color=\"C2\")\n",
    "\n",
    "decorate(\n",
    "    xlabel=\"Number of children\",\n",
    "    ylabel=\"Percentage of families\",\n",
    "    title=\"Distribution of family sizes\",\n",
    ")"
   ]
  },
  {
   "cell_type": "markdown",
   "metadata": {
    "tags": []
   },
   "source": [
    "The simulated distribution has been length-biased, which increases the average, and then shifted to the left, which decreases the average.\n",
    "In general, the net effect could be an increase or a decrease;\n",
    "in this example, it's an increase from 3.0 to 3.3."
   ]
  },
  {
   "cell_type": "markdown",
   "metadata": {
    "tags": []
   },
   "source": [
    "## In The Long Run\n",
    "\n",
    "If we repeat this process and simulate the next generation, the average family size increases again, to 3.5. In the next generation it increases to 3.8.\n",
    "\n",
    "It might seem like it would increase forever, but if every woman has one child fewer than her mother, in each generation the *maximum* family size decreases by one.\n",
    "So eventually the *average* comes down.\n",
    "\n",
    "The following figure shows the average family size over 10 generations, where Generation 0 follows the actual distribution from 1979."
   ]
  },
  {
   "cell_type": "code",
   "execution_count": 68,
   "metadata": {
    "tags": []
   },
   "outputs": [
    {
     "data": {
      "text/plain": [
       "0    2.996000\n",
       "1    3.255345\n",
       "2    3.497601\n",
       "3    3.797560\n",
       "4    3.937929\n",
       "5    3.910277\n",
       "6    3.776723\n",
       "7    3.553760\n",
       "8    3.220451\n",
       "9    2.768708\n",
       "dtype: float64"
      ]
     },
     "execution_count": 68,
     "metadata": {},
     "output_type": "execute_result"
    }
   ],
   "source": [
    "sizes = pd.Series([], dtype=float)\n",
    "sizes[0] = model.mean()\n",
    "shifted = model.copy()\n",
    "\n",
    "for i in range(1, 10):\n",
    "    shifted = shift_pmf(bias_pmf(shifted))\n",
    "    sizes[i] = shifted.mean()\n",
    "\n",
    "sizes"
   ]
  },
  {
   "cell_type": "code",
   "execution_count": 69,
   "metadata": {
    "tags": []
   },
   "outputs": [
    {
     "data": {
      "image/png": "[encoded data removed]",
      "text/plain": [
       "<Figure size 432x288 with 1 Axes>"
      ]
     },
     "metadata": {
      "needs_background": "light"
     },
     "output_type": "display_data"
    }
   ],
   "source": [
    "sizes.plot(label='Family size', marker='s')\n",
    "\n",
    "decorate(xlabel='Generation number',\n",
    "         ylabel='Average family size',\n",
    "         ylim=[0, 4.8],\n",
    "         title='Average family size over ten generations')\n"
   ]
  },
  {
   "cell_type": "markdown",
   "metadata": {
    "tags": []
   },
   "source": [
    "Family size would increase for four generations, peaking at 3.9.\n",
    "Then it would take another five generations to fall below the starting value."
   ]
  },
  {
   "cell_type": "markdown",
   "metadata": {
    "tags": []
   },
   "source": [
    "## In Reality\n",
    "\n",
    "The average family size, as seen by the children of the women surveyed in 1979, was 4.3.\n",
    "But when those children grew up and the women among them were surveyed in 1990, they reported an average family size close to 2.\n",
    "So on average, they had 2.3 fewer children than their mothers.\n",
    "\n",
    "The following function simulates a generation where each woman has 2-3 children fewer than her mother."
   ]
  },
  {
   "cell_type": "code",
   "execution_count": 70,
   "metadata": {
    "tags": []
   },
   "outputs": [],
   "source": [
    "def simulate3(sample, p=0):\n",
    "    \"\"\"Simulate a scenario where people have 2-3 children less than their mother did.\n",
    "    \n",
    "    sample: sample of family sizes\n",
    "    p: probability of having three less than one's mother\n",
    "    \n",
    "    returns: sample of next generation\n",
    "    \"\"\"\n",
    "    res = []\n",
    "    everybody = []\n",
    "\n",
    "    for k in sample:\n",
    "        if k == 0:\n",
    "            continue\n",
    "\n",
    "        everybody.extend([k] * k)\n",
    "        if k < 3:\n",
    "            children = [0] * k\n",
    "        else:\n",
    "            children = np.random.choice([k - 3, k - 2], size=k, p=[p, 1 - p])\n",
    "        res.extend(children)\n",
    "\n",
    "    everybody = np.array(everybody)\n",
    "    res = np.array(res)\n",
    "    diff = everybody - res\n",
    "    print(everybody.mean(), res.mean(), diff.mean())\n",
    "    \n",
    "    # return a randomly-chosen half of the children\n",
    "    index = np.where(np.random.choice(2, size=len(res)))\n",
    "    return res[index]"
   ]
  },
  {
   "cell_type": "code",
   "execution_count": 71,
   "metadata": {
    "tags": []
   },
   "outputs": [
    {
     "name": "stdout",
     "output_type": "stream",
     "text": [
      "2.3333333333333335 0.5 1.8333333333333333\n"
     ]
    },
    {
     "data": {
      "text/plain": [
       "array([0])"
      ]
     },
     "execution_count": 71,
     "metadata": {},
     "output_type": "execute_result"
    }
   ],
   "source": [
    "sample = [0, 1, 2, 3]\n",
    "simulate3(sample, 0)"
   ]
  },
  {
   "cell_type": "code",
   "execution_count": 72,
   "metadata": {
    "tags": []
   },
   "outputs": [
    {
     "data": {
      "text/plain": [
       "2.9960000001442606"
      ]
     },
     "execution_count": 72,
     "metadata": {},
     "output_type": "execute_result"
    }
   ],
   "source": [
    "row = rows.loc[1979]\n",
    "model = fit_row(row)\n",
    "model.mean()"
   ]
  },
  {
   "cell_type": "code",
   "execution_count": 73,
   "metadata": {
    "tags": []
   },
   "outputs": [
    {
     "data": {
      "text/plain": [
       "4.25534466920534"
      ]
     },
     "execution_count": 73,
     "metadata": {},
     "output_type": "execute_result"
    }
   ],
   "source": [
    "biased = bias_pmf(model)\n",
    "biased.mean()"
   ]
  },
  {
   "cell_type": "code",
   "execution_count": 74,
   "metadata": {
    "tags": []
   },
   "outputs": [
    {
     "data": {
      "text/plain": [
       "2.973"
      ]
     },
     "execution_count": 74,
     "metadata": {},
     "output_type": "execute_result"
    }
   ],
   "source": [
    "sample = model.sample(10000).astype(int)\n",
    "sample.mean()"
   ]
  },
  {
   "cell_type": "markdown",
   "metadata": {},
   "source": [
    "By adjusting the parameter `p`, we can find a simulation that roughly reproduces the changes in fertility between 1979 and 1990."
   ]
  },
  {
   "cell_type": "code",
   "execution_count": 75,
   "metadata": {
    "tags": []
   },
   "outputs": [
    {
     "name": "stdout",
     "output_type": "stream",
     "text": [
      "4.237672384796502 2.003363605785402 2.2343087790111\n"
     ]
    },
    {
     "data": {
      "text/plain": [
       "2.0061907004912185"
      ]
     },
     "execution_count": 75,
     "metadata": {},
     "output_type": "execute_result"
    }
   ],
   "source": [
    "gen1 = simulate3(sample, p=0.33)\n",
    "gen1.mean()"
   ]
  },
  {
   "cell_type": "markdown",
   "metadata": {
    "tags": []
   },
   "source": [
    "## In the Present\n",
    "\n",
    "The women surveyed in 1990 had 2.3 fewer children than their mothers, on average.\n",
    "If that pattern had continued for another generation, the average family size in 2018 would have been about 0.8."
   ]
  },
  {
   "cell_type": "code",
   "execution_count": 76,
   "metadata": {
    "tags": []
   },
   "outputs": [
    {
     "data": {
      "text/plain": [
       "2.045000038403182"
      ]
     },
     "execution_count": 76,
     "metadata": {},
     "output_type": "execute_result"
    }
   ],
   "source": [
    "row = rows.loc[1990]\n",
    "model = fit_row(row)\n",
    "model.mean()"
   ]
  },
  {
   "cell_type": "code",
   "execution_count": 77,
   "metadata": {
    "tags": []
   },
   "outputs": [
    {
     "data": {
      "text/plain": [
       "2.0441"
      ]
     },
     "execution_count": 77,
     "metadata": {},
     "output_type": "execute_result"
    }
   ],
   "source": [
    "sample = model.sample(10000).astype(int)\n",
    "sample.mean()"
   ]
  },
  {
   "cell_type": "code",
   "execution_count": 78,
   "metadata": {
    "tags": []
   },
   "outputs": [
    {
     "name": "stdout",
     "output_type": "stream",
     "text": [
      "3.0621300327772616 0.8037767232522871 2.258353309524974\n"
     ]
    },
    {
     "data": {
      "text/plain": [
       "0.8013968129057644"
      ]
     },
     "execution_count": 78,
     "metadata": {},
     "output_type": "execute_result"
    }
   ],
   "source": [
    "gen1 = simulate3(sample, p=0.6)\n",
    "gen1.mean()"
   ]
  },
  {
   "cell_type": "markdown",
   "metadata": {
    "tags": []
   },
   "source": [
    "In fact, the average family size in 2018 was very close to 2; this is close to what we would expect if every woman had one child fewer than her mother.\n",
    "The following distribution shows the actual distribution in 2018, compared to the result if we start with the 1990 distribution and simulate the \"one child fewer\" scenario."
   ]
  },
  {
   "cell_type": "code",
   "execution_count": 79,
   "metadata": {
    "tags": []
   },
   "outputs": [
    {
     "data": {
      "text/plain": [
       "2.045000038403182"
      ]
     },
     "execution_count": 79,
     "metadata": {},
     "output_type": "execute_result"
    }
   ],
   "source": [
    "row = rows.loc[1990]\n",
    "model1990 = fit_row(row)\n",
    "model1990.mean()"
   ]
  },
  {
   "cell_type": "code",
   "execution_count": 80,
   "metadata": {
    "tags": []
   },
   "outputs": [
    {
     "data": {
      "text/plain": [
       "2.055184644518847"
      ]
     },
     "execution_count": 80,
     "metadata": {},
     "output_type": "execute_result"
    }
   ],
   "source": [
    "shifted = shift_pmf(bias_pmf(model1990))\n",
    "shifted.mean()"
   ]
  },
  {
   "cell_type": "code",
   "execution_count": 81,
   "metadata": {
    "tags": []
   },
   "outputs": [
    {
     "data": {
      "text/plain": [
       "2.0360000024952996"
      ]
     },
     "execution_count": 81,
     "metadata": {},
     "output_type": "execute_result"
    }
   ],
   "source": [
    "row = rows.loc[2018]\n",
    "model2018 = fit_row(row)\n",
    "model2018.mean()"
   ]
  },
  {
   "cell_type": "code",
   "execution_count": 82,
   "metadata": {
    "tags": []
   },
   "outputs": [],
   "source": [
    "def make_pmf_from_model(model):\n",
    "    \"\"\"Make a Pmf with the same index as the data.\n",
    "    \n",
    "    model: Pmf with a complete tail\n",
    "    \n",
    "    returns: Pmf\n",
    "    \"\"\"\n",
    "    index = [0, 1, 2, 3, 4, \"5-6\", \"7+\"]\n",
    "    ps = model[0:7].copy().values\n",
    "    ps[5] += ps[6]\n",
    "    ps[6] = model[7:].sum()\n",
    "    return Pmf(ps, index)"
   ]
  },
  {
   "cell_type": "code",
   "execution_count": 83,
   "metadata": {
    "tags": []
   },
   "outputs": [],
   "source": [
    "def make_pmf_from_row(row):\n",
    "    \"\"\"Make a Pmf from a row of data.\n",
    "    \n",
    "    row: Series\n",
    "    \n",
    "    returns: Pmf\n",
    "    \"\"\"\n",
    "    actual = row.iloc[3:10].astype(float) / 100\n",
    "    index = [0, 1, 2, 3, 4, \"5-6\", \"7+\"]\n",
    "    pmf = Pmf(actual.values, index)\n",
    "    return pmf"
   ]
  },
  {
   "cell_type": "code",
   "execution_count": 84,
   "metadata": {
    "tags": []
   },
   "outputs": [
    {
     "data": {
      "image/png": "[encoded data removed]",
      "text/plain": [
       "<Figure size 432x288 with 1 Axes>"
      ]
     },
     "metadata": {
      "needs_background": "light"
     },
     "output_type": "display_data"
    }
   ],
   "source": [
    "row = rows.loc[2018]\n",
    "pmf = make_pmf_from_row(row)\n",
    "plot_percent(pmf, label=\"Actual 2018\", color=\"C1\", marker=\"o\")\n",
    "\n",
    "pmf = make_pmf_from_model(shifted)\n",
    "plot_percent(pmf, label=\"Predicted from 1990\", marker=\"s\", ls=\"--\")\n",
    "\n",
    "decorate(\n",
    "    xlabel=\"Number of children\",\n",
    "    ylabel=\"Percentage of families\",\n",
    "    title=\"Distribution of family size\",\n",
    ")"
   ]
  },
  {
   "cell_type": "markdown",
   "metadata": {
    "tags": []
   },
   "source": [
    "The means of the two distributions are almost the same, but the shapes are different.\n",
    "But at least on average, it seems like women in the U.S. have been following the \"one child fewer\" policy for the last 30 years."
   ]
  },
  {
   "cell_type": "markdown",
   "metadata": {
    "tags": []
   },
   "source": [
    "## Technical Note: The Poisson distribution\n",
    "\n",
    "Suppose every year, for 20 years, you roll a 10-sided die, and every year, if you roll a 10, you have a baby.\n",
    "On average, you would have a total of two babies.\n",
    "But as the dice fall, you might have more or fewer.\n",
    "Across the population, what would the distribution of family size look like?\n",
    "\n",
    "Under these assumptions, it would follow the Poisson distribution, named after French mathematician Siméon Denis Poisson, who wrote about it in 1837, modeling the number of wrongful criminal convictions per year.\n",
    "\n",
    "The Poisson distribution is relevant to Preston's Paradox for two reasons:\n",
    "\n",
    "* Since 1990, the distribution of family size in the U.S. has come to resemble a Poisson distribution.\n",
    "\n",
    "* Under the \"one child fewer\" policy, the Poisson distribution is completely unchanged from one generation to the next.\n",
    "\n",
    "The following figure demonstrates the first point."
   ]
  },
  {
   "cell_type": "code",
   "execution_count": 85,
   "metadata": {
    "tags": []
   },
   "outputs": [],
   "source": [
    "def make_pmf_from_poisson(mu):\n",
    "    \"\"\"Make a Poisson distribution and summarize it.\n",
    "    \n",
    "    mu: mean of the distribution\n",
    "    \n",
    "    returns: Pmf\n",
    "    \"\"\"\n",
    "    index = [0, 1, 2, 3, 4, \"5-6\", \"7+\"]\n",
    "    ps = poisson.pmf([0, 1, 2, 3, 4, 5, 6], mu)\n",
    "    ps[5] += ps[6]\n",
    "    ps[6] = poisson.sf(6, mu)\n",
    "    return Pmf(ps, index)"
   ]
  },
  {
   "cell_type": "code",
   "execution_count": 86,
   "metadata": {
    "tags": []
   },
   "outputs": [
    {
     "data": {
      "image/png": "[encoded data removed]",
      "text/plain": [
       "<Figure size 432x288 with 1 Axes>"
      ]
     },
     "metadata": {
      "needs_background": "light"
     },
     "output_type": "display_data"
    }
   ],
   "source": [
    "for year in rows.index[:15]:\n",
    "    pmf = make_pmf_from_row(rows.loc[year])\n",
    "    label = \"Actual 1990 - 2018\" if year == 2018 else \"\"\n",
    "    pmf.plot.bar(label=label, color=\"C1\", alpha=0.02)\n",
    "\n",
    "pmf = make_pmf_from_poisson(2)\n",
    "pmf.plot(label=\"Poisson distribution\", marker=\"s\")\n",
    "\n",
    "decorate(\n",
    "    xlabel=\"Number of children\",\n",
    "    ylabel=\"Percentage of families\",\n",
    "    title=\"Distribution of family size and Poisson model\",\n",
    ")"
   ]
  },
  {
   "cell_type": "markdown",
   "metadata": {
    "tags": []
   },
   "source": [
    "The bars show the actual distributions for selected years from 1990 to 2018, with the shaded areas representing variation from year to year.\n",
    "The line shows a Poisson distribution with an average value of 2, which is close to the actual average during this interval.\n",
    "\n",
    "In reality, there are more zero- and two-child families than we would expect from a Poisson distribution, and fewer one-child families.\n",
    "But given the complexities of childbearing, it is surprising that the simple dice-rolling model does as well as this.\n",
    "\n",
    "Now suppose that the family sizes actually follow a Poisson distribution, and let's see what happens in the \"one child fewer\" scenario.\n",
    "The following figure shows three distributions:\n",
    "\n",
    "* A Poisson distribution with mean 2, plotted with bars, \n",
    "\n",
    "* The biased distribution of family size we would see if we surveyed children, plotted with a dashed line, and\n",
    "\n",
    "* The distribution of family size those children would have under the \"one child fewer\" policy, plotted with a dotted line."
   ]
  },
  {
   "cell_type": "code",
   "execution_count": 87,
   "metadata": {
    "tags": []
   },
   "outputs": [
    {
     "data": {
      "text/plain": [
       "1.9999996439174659"
      ]
     },
     "execution_count": 87,
     "metadata": {},
     "output_type": "execute_result"
    }
   ],
   "source": [
    "model = make_poisson(2)\n",
    "model.mean()"
   ]
  },
  {
   "cell_type": "code",
   "execution_count": 88,
   "metadata": {
    "tags": []
   },
   "outputs": [
    {
     "data": {
      "text/plain": [
       "2.999997685463117"
      ]
     },
     "execution_count": 88,
     "metadata": {},
     "output_type": "execute_result"
    }
   ],
   "source": [
    "biased = bias_pmf(model)\n",
    "biased.mean()"
   ]
  },
  {
   "cell_type": "code",
   "execution_count": 89,
   "metadata": {
    "tags": []
   },
   "outputs": [
    {
     "data": {
      "text/plain": [
       "1.999997685463117"
      ]
     },
     "execution_count": 89,
     "metadata": {},
     "output_type": "execute_result"
    }
   ],
   "source": [
    "shifted = shift_pmf(biased)\n",
    "shifted.mean()"
   ]
  },
  {
   "cell_type": "code",
   "execution_count": 90,
   "metadata": {
    "tags": []
   },
   "outputs": [
    {
     "data": {
      "image/png": "[encoded data removed]",
      "text/plain": [
       "<Figure size 432x288 with 1 Axes>"
      ]
     },
     "metadata": {
      "needs_background": "light"
     },
     "output_type": "display_data"
    }
   ],
   "source": [
    "model[:13].plot.bar(label=\"Poisson distribution\", color=\"C1\", alpha=0.5)\n",
    "biased[1:].plot(label=\"Biased\", ls=\"--\", marker=\"^\")\n",
    "shifted.plot(label=\"Biased and shifted\", color=\"C2\", ls=\":\", marker=\"x\")\n",
    "\n",
    "decorate(xlabel=\"Number of children\", ylabel=\"Fraction of families\", title=\"\")"
   ]
  },
  {
   "cell_type": "markdown",
   "metadata": {
    "tags": []
   },
   "source": [
    "The biased distribution is identical to the original distribution, but shifted to the right by one.\n",
    "When we apply the \"one child fewer\" policy, it shifts the distribution to the left by one, right back where it started."
   ]
  },
  {
   "cell_type": "markdown",
   "metadata": {
    "tags": []
   },
   "source": [
    "Probably Overthinking It\n",
    "\n",
    "Copyright 2022 Allen Downey \n",
    "\n",
    "The code in this notebook and `utils.py` is under the [MIT license](https://mit-license.org/)."
   ]
  },
  {
   "cell_type": "code",
   "execution_count": null,
   "metadata": {
    "tags": []
   },
   "outputs": [],
   "source": []
  }
 ],
 "metadata": {
  "celltoolbar": "Tags",
  "kernelspec": {
   "display_name": "Python 3 (ipykernel)",
   "language": "python",
   "name": "python3"
  },
  "language_info": {
   "codemirror_mode": {
    "name": "ipython",
    "version": 3
   },
   "file_extension": ".py",
   "mimetype": "text/x-python",
   "name": "python",
   "nbconvert_exporter": "python",
   "pygments_lexer": "ipython3",
   "version": "3.10.5"
  }
 },
 "nbformat": 4,
 "nbformat_minor": 4
}
