{
 "cells": [
  {
   "cell_type": "markdown",
   "id": "73789239",
   "metadata": {},
   "source": [
    "## Measuring the Overton Window\n",
    "\n",
    "One of the chapters in *Probably Overthinking It* is about the [Overton window](https://en.wikipedia.org/wiki/Overton_window).\n",
    "While working on that chapter, I used a bit of Bayesian inference that is too technical to explain in the book. So I'll explain it here.\n",
    "\n",
    "If you would like to get infrequent email announcements about the book, please [sign up for my mailing list](http://eepurl.com/h0nfbX)."
   ]
  },
  {
   "cell_type": "markdown",
   "id": "2f48354b",
   "metadata": {},
   "source": [
    "[Click here to run this notebook on Colab](https://colab.research.google.com/github/AllenDowney/ProbablyOverthinkingIt/blob/book/notebooks/overton_irt.ipynb)"
   ]
  },
  {
   "cell_type": "markdown",
   "id": "227acb98",
   "metadata": {},
   "source": [
    "## Imports and Function Definitions"
   ]
  },
  {
   "cell_type": "code",
   "execution_count": 1,
   "id": "581d0503",
   "metadata": {
    "tags": [
     "hide-cell"
    ]
   },
   "outputs": [],
   "source": [
    "import sys\n",
    "import pandas as pd\n",
    "import numpy as np\n",
    "import matplotlib.pyplot as plt\n",
    "import seaborn as sns"
   ]
  },
  {
   "cell_type": "code",
   "execution_count": 2,
   "id": "c2c0ce5b",
   "metadata": {
    "tags": [
     "hide-cell"
    ]
   },
   "outputs": [],
   "source": [
    "from statsmodels.nonparametric.smoothers_lowess import lowess\n",
    "\n",
    "\n",
    "def make_lowess(series, frac=0.7):\n",
    "    \"\"\"Use LOWESS to compute a smooth line.\n",
    "\n",
    "    series: pd.Series\n",
    "\n",
    "    returns: pd.Series\n",
    "    \"\"\"\n",
    "    y = series.values\n",
    "    x = series.index.values\n",
    "\n",
    "    smooth = lowess(y, x, frac=frac)\n",
    "    index, data = np.transpose(smooth)\n",
    "\n",
    "    return pd.Series(data, index=index)"
   ]
  },
  {
   "cell_type": "code",
   "execution_count": 3,
   "id": "bc25cfab",
   "metadata": {
    "tags": [
     "hide-cell"
    ]
   },
   "outputs": [],
   "source": [
    "def plot_series_lowess(series, color, plot_series=False, frac=0.7, **options):\n",
    "    \"\"\"Plots a series of data points and a smooth line.\n",
    "\n",
    "    series: pd.Series\n",
    "    color: string or tuple\n",
    "    \"\"\"\n",
    "    if \"label\" not in options:\n",
    "        options[\"label\"] = series.name\n",
    "\n",
    "    if plot_series or len(series) == 1:\n",
    "        x = series.index\n",
    "        y = series.values\n",
    "        plt.plot(x, y, \"o\", color=color, alpha=0.3, label=\"_\")\n",
    "\n",
    "    if not plot_series and len(series) == 1:\n",
    "        x = series.index\n",
    "        y = series.values\n",
    "        plt.plot(x, y, \"o\", color=color, alpha=0.6, label=options[\"label\"])\n",
    "\n",
    "    if len(series) > 1:\n",
    "        smooth = make_lowess(series, frac=frac)\n",
    "        smooth.plot(color=color, **options)"
   ]
  },
  {
   "cell_type": "code",
   "execution_count": 4,
   "id": "229694c8",
   "metadata": {
    "tags": [
     "hide-cell"
    ]
   },
   "outputs": [],
   "source": [
    "def decorate(**options):\n",
    "    \"\"\"Decorate the current axes.\n",
    "\n",
    "    Call decorate with keyword arguments like\n",
    "    decorate(title='Title',\n",
    "             xlabel='x',\n",
    "             ylabel='y')\n",
    "\n",
    "    The keyword arguments can be any of the axis properties\n",
    "    https://matplotlib.org/api/axes_api.html\n",
    "    \"\"\"\n",
    "    ax = plt.gca()\n",
    "    ax.set(**options)\n",
    "\n",
    "    handles, labels = ax.get_legend_handles_labels()\n",
    "    if handles:\n",
    "        ax.legend(handles, labels)\n",
    "\n",
    "    plt.tight_layout()"
   ]
  },
  {
   "cell_type": "markdown",
   "id": "bb2da631",
   "metadata": {},
   "source": [
    "## Read the Data"
   ]
  },
  {
   "cell_type": "code",
   "execution_count": 5,
   "id": "4778de24",
   "metadata": {
    "tags": [
     "hide-cell"
    ]
   },
   "outputs": [],
   "source": [
    "from os.path import basename, exists\n",
    "from pathlib import Path\n",
    "\n",
    "\n",
    "def download(url, data_dir=\"../data\"):\n",
    "    filename = Path(data_dir) / basename(url)\n",
    "    if not exists(filename):\n",
    "        from urllib.request import urlretrieve\n",
    "\n",
    "        local, _ = urlretrieve(url, filename)\n",
    "        print(\"Downloaded \" + str(local))\n",
    "    return filename"
   ]
  },
  {
   "cell_type": "code",
   "execution_count": 6,
   "id": "a8e790b3",
   "metadata": {
    "tags": [
     "hide-cell"
    ]
   },
   "outputs": [],
   "source": [
    "!mkdir -p ../data\n",
    "\n",
    "filename = download(\n",
    "    \"https://github.com/AllenDowney/ProbablyOverthinkingIt/raw/book/data/gss_eds.3.hdf\"\n",
    ")"
   ]
  },
  {
   "cell_type": "code",
   "execution_count": 7,
   "id": "9622efe7",
   "metadata": {},
   "outputs": [
    {
     "data": {
      "text/plain": [
       "(68846, 205)"
      ]
     },
     "execution_count": 7,
     "metadata": {},
     "output_type": "execute_result"
    }
   ],
   "source": [
    "gss = pd.read_hdf('../data/gss_eds.3.hdf', 'gss0')\n",
    "gss.shape"
   ]
  },
  {
   "cell_type": "code",
   "execution_count": 8,
   "id": "a8245a67",
   "metadata": {},
   "outputs": [],
   "source": [
    "bins = np.arange(1889, 2011, 10)\n",
    "labels = bins[:-1] + 1\n",
    "\n",
    "gss['cohort10'] = pd.cut(gss['cohort'], bins, labels=labels).astype(float)"
   ]
  },
  {
   "cell_type": "code",
   "execution_count": 9,
   "id": "1c19fb32",
   "metadata": {},
   "outputs": [],
   "source": [
    "gss.dropna(subset=['cohort10'], inplace=True)\n",
    "gss['cohort10'] = gss['cohort10'].astype(int)"
   ]
  },
  {
   "cell_type": "markdown",
   "id": "72ec2153",
   "metadata": {},
   "source": [
    "## Quantifying Political Beliefs\n",
    "\n",
    "One of my goals in the chapter is to quantify liberal and conservative beliefs and see how they have changed over time, using data from the [General Social Survey](https://www.norc.org/Research/Projects/Pages/general-social-survey.aspx) (GSS).\n",
    "So, how do we classify beliefs as conservative or liberal? And then, how do we track those beliefs over time?\n",
    "\n",
    "To answer the first question, I started with a list of about 120 core GSS questions that ask about political beliefs, broadly defined.\n",
    "For each question, I identified the responses that were chosen more often by people who consider themselves conservative.\n",
    "\n",
    "Then, I searched for questions with the biggest differences between the responses of liberals and conservatives. From those, I curated a list of fifteen questions that cover a diverse set of topics, with preference for questions that were asked most frequently over the years of the survey.\n",
    "\n",
    "The topics that made the list are not surprising. They include economic issues like public spending on welfare and the environment; policy issues like the legality of guns, drugs, and pornography; as well as questions related to sex education and prayer in schools, capital punishment, assisted suicide, and (of course) abortion. The list also includes three of the questions we looked at in previous sections, related to open housing laws, women in politics, and homosexuality.\n",
    "\n",
    "For the current purpose, we are not concerned with the wording of the questions; we only need to know that liberals and conservatives give different answers. But if you are curious, I'll put the questions at the end of this post."
   ]
  },
  {
   "cell_type": "markdown",
   "id": "f4ef39d3",
   "metadata": {},
   "source": [
    "To classify respondents, I'll use responses to the following question:\n",
    "\n",
    "> I'm going to show you a seven-point scale on which the political views that people might hold are arranged from extremely liberal--point 1--to extremely conservative--point 7. Where would you place yourself on this scale?\n",
    "\n",
    "The points on the scale are Extremely liberal, Liberal, and Slightly liberal; Moderate;\tSlightly conservative, Conservative, and Extremely conservative.\n",
    "\n",
    "I'll lump the first three points into \"Liberal\" and the last three into \"Conservative\", which makes the number of groups manageable and, it turns out, roughly equal in size.\n",
    "Here's how many respondents are in each group."
   ]
  },
  {
   "cell_type": "code",
   "execution_count": 10,
   "id": "f036c9d2",
   "metadata": {},
   "outputs": [
    {
     "data": {
      "text/plain": [
       "Moderate        22764\n",
       "Conservative    20175\n",
       "Liberal         16091\n",
       "Name: polviews3, dtype: int64"
      ]
     },
     "execution_count": 10,
     "metadata": {},
     "output_type": "execute_result"
    }
   ],
   "source": [
    "recode_polviews = {\n",
    "    1: \"Liberal\",\n",
    "    2: \"Liberal\",\n",
    "    3: \"Liberal\",\n",
    "    4: \"Moderate\",\n",
    "    5: \"Conservative\",\n",
    "    6: \"Conservative\",\n",
    "    7: \"Conservative\",\n",
    "}\n",
    "gss[\"polviews3\"] = gss[\"polviews\"].replace(recode_polviews)\n",
    "gss[\"polviews3\"].value_counts()"
   ]
  },
  {
   "cell_type": "markdown",
   "id": "b6d1b34a",
   "metadata": {},
   "source": [
    "Here are the variable names and the responses chosen more often by conservatives.\n",
    "Most of the questions are binary, but some allow a range of responses."
   ]
  },
  {
   "cell_type": "code",
   "execution_count": 11,
   "id": "6b524887",
   "metadata": {},
   "outputs": [],
   "source": [
    "convervative_values = {\n",
    "    \"abany\": [2],\n",
    "    \"homosex\": [1, 2, 3],\n",
    "    \"premarsx\": [1, 2, 3],\n",
    "    \"prayer\": [2],\n",
    "    \"natfare\": [3],\n",
    "    \"grass\": [2],\n",
    "    \"natenvir\": [2, 3],  # about right or too much\n",
    "    \"divlaw\": [2],\n",
    "    \"cappun\": [1],\n",
    "    \"racopen\": [1],\n",
    "    \"letdie1\": [2],\n",
    "    \"fepol\": [1],\n",
    "    \"gunlaw\": [2],\n",
    "    \"sexeduc\": [2],\n",
    "    \"pornlaw\": [1],\n",
    "}"
   ]
  },
  {
   "cell_type": "code",
   "execution_count": 12,
   "id": "f920ef1a",
   "metadata": {
    "tags": [
     "hide-cell"
    ]
   },
   "outputs": [],
   "source": [
    "order = [\n",
    "    \"homosex\",\n",
    "    \"cappun\",\n",
    "    \"grass\",\n",
    "    \"abany\",\n",
    "    \"prayer\",\n",
    "    \"premarsx\",\n",
    "    \"divlaw\",\n",
    "    \"natfare\",\n",
    "    \"natenvir\",\n",
    "    \"pornlaw\",\n",
    "    \"racopen\",\n",
    "    \"letdie1\",\n",
    "    \"fepol\",\n",
    "    \"gunlaw\",\n",
    "    \"sexeduc\",\n",
    "]"
   ]
  },
  {
   "cell_type": "markdown",
   "id": "a3fc6e3a",
   "metadata": {},
   "source": [
    "I'll extract the answers to the fifteen questions into a `DataFrame` of boolean values, `True` if the respondent chose a conservative response, `False` if they didn't and `NaN` if they were not asked the question or didn't answer."
   ]
  },
  {
   "cell_type": "code",
   "execution_count": 13,
   "id": "f0f17026",
   "metadata": {},
   "outputs": [],
   "source": [
    "questions = pd.DataFrame(dtype=int)\n",
    "\n",
    "for varname in order:\n",
    "    questions[varname] = gss[varname].isin(convervative_values[varname])\n",
    "    null = gss[varname].isna()\n",
    "    questions.loc[null, varname] = np.nan"
   ]
  },
  {
   "cell_type": "markdown",
   "id": "396f18ad",
   "metadata": {},
   "source": [
    "For each questions, here's the fraction of all respondents who chose a conservative response."
   ]
  },
  {
   "cell_type": "code",
   "execution_count": 14,
   "id": "33f2f925",
   "metadata": {},
   "outputs": [
    {
     "data": {
      "text/plain": [
       "sexeduc     0.122929\n",
       "gunlaw      0.247819\n",
       "fepol       0.287904\n",
       "letdie1     0.316477\n",
       "pornlaw     0.367240\n",
       "racopen     0.380694\n",
       "natenvir    0.382039\n",
       "natfare     0.472846\n",
       "divlaw      0.490939\n",
       "premarsx    0.545128\n",
       "abany       0.588012\n",
       "prayer      0.594113\n",
       "grass       0.690127\n",
       "cappun      0.705069\n",
       "homosex     0.713381\n",
       "dtype: float64"
      ]
     },
     "execution_count": 14,
     "metadata": {},
     "output_type": "execute_result"
    }
   ],
   "source": [
    "questions.mean().sort_values()"
   ]
  },
  {
   "cell_type": "markdown",
   "id": "fba773b8",
   "metadata": {},
   "source": [
    "Now let's group the respondents by political label and compute the percentage of conservative responses in each."
   ]
  },
  {
   "cell_type": "code",
   "execution_count": 15,
   "id": "25813246",
   "metadata": {},
   "outputs": [
    {
     "data": {
      "text/html": [
       "<div>\n",
       "<style scoped>\n",
       "    .dataframe tbody tr th:only-of-type {\n",
       "        vertical-align: middle;\n",
       "    }\n",
       "\n",
       "    .dataframe tbody tr th {\n",
       "        vertical-align: top;\n",
       "    }\n",
       "\n",
       "    .dataframe thead th {\n",
       "        text-align: right;\n",
       "    }\n",
       "</style>\n",
       "<table border=\"1\" class=\"dataframe\">\n",
       "  <thead>\n",
       "    <tr style=\"text-align: right;\">\n",
       "      <th>polviews3</th>\n",
       "      <th>Conservative</th>\n",
       "      <th>Liberal</th>\n",
       "      <th>Moderate</th>\n",
       "    </tr>\n",
       "  </thead>\n",
       "  <tbody>\n",
       "    <tr>\n",
       "      <th>homosex</th>\n",
       "      <td>81.363959</td>\n",
       "      <td>54.459276</td>\n",
       "      <td>71.769861</td>\n",
       "    </tr>\n",
       "    <tr>\n",
       "      <th>cappun</th>\n",
       "      <td>79.261273</td>\n",
       "      <td>57.245743</td>\n",
       "      <td>72.613789</td>\n",
       "    </tr>\n",
       "    <tr>\n",
       "      <th>grass</th>\n",
       "      <td>76.623485</td>\n",
       "      <td>55.189621</td>\n",
       "      <td>68.815800</td>\n",
       "    </tr>\n",
       "    <tr>\n",
       "      <th>abany</th>\n",
       "      <td>69.393097</td>\n",
       "      <td>42.422392</td>\n",
       "      <td>58.990651</td>\n",
       "    </tr>\n",
       "    <tr>\n",
       "      <th>prayer</th>\n",
       "      <td>66.921885</td>\n",
       "      <td>44.062427</td>\n",
       "      <td>62.498961</td>\n",
       "    </tr>\n",
       "    <tr>\n",
       "      <th>premarsx</th>\n",
       "      <td>65.049536</td>\n",
       "      <td>39.609566</td>\n",
       "      <td>52.174831</td>\n",
       "    </tr>\n",
       "    <tr>\n",
       "      <th>divlaw</th>\n",
       "      <td>58.510374</td>\n",
       "      <td>38.257774</td>\n",
       "      <td>48.055576</td>\n",
       "    </tr>\n",
       "    <tr>\n",
       "      <th>natfare</th>\n",
       "      <td>58.052196</td>\n",
       "      <td>34.203772</td>\n",
       "      <td>47.860577</td>\n",
       "    </tr>\n",
       "    <tr>\n",
       "      <th>natenvir</th>\n",
       "      <td>48.406063</td>\n",
       "      <td>26.042243</td>\n",
       "      <td>37.303550</td>\n",
       "    </tr>\n",
       "    <tr>\n",
       "      <th>pornlaw</th>\n",
       "      <td>44.139460</td>\n",
       "      <td>25.118250</td>\n",
       "      <td>35.899019</td>\n",
       "    </tr>\n",
       "    <tr>\n",
       "      <th>racopen</th>\n",
       "      <td>42.616966</td>\n",
       "      <td>28.081674</td>\n",
       "      <td>37.242922</td>\n",
       "    </tr>\n",
       "    <tr>\n",
       "      <th>letdie1</th>\n",
       "      <td>38.537514</td>\n",
       "      <td>24.079807</td>\n",
       "      <td>28.392569</td>\n",
       "    </tr>\n",
       "    <tr>\n",
       "      <th>fepol</th>\n",
       "      <td>33.398927</td>\n",
       "      <td>21.514669</td>\n",
       "      <td>27.885540</td>\n",
       "    </tr>\n",
       "    <tr>\n",
       "      <th>gunlaw</th>\n",
       "      <td>31.128774</td>\n",
       "      <td>18.574552</td>\n",
       "      <td>23.464968</td>\n",
       "    </tr>\n",
       "    <tr>\n",
       "      <th>sexeduc</th>\n",
       "      <td>18.266558</td>\n",
       "      <td>7.241553</td>\n",
       "      <td>9.396167</td>\n",
       "    </tr>\n",
       "  </tbody>\n",
       "</table>\n",
       "</div>"
      ],
      "text/plain": [
       "polviews3  Conservative    Liberal   Moderate\n",
       "homosex       81.363959  54.459276  71.769861\n",
       "cappun        79.261273  57.245743  72.613789\n",
       "grass         76.623485  55.189621  68.815800\n",
       "abany         69.393097  42.422392  58.990651\n",
       "prayer        66.921885  44.062427  62.498961\n",
       "premarsx      65.049536  39.609566  52.174831\n",
       "divlaw        58.510374  38.257774  48.055576\n",
       "natfare       58.052196  34.203772  47.860577\n",
       "natenvir      48.406063  26.042243  37.303550\n",
       "pornlaw       44.139460  25.118250  35.899019\n",
       "racopen       42.616966  28.081674  37.242922\n",
       "letdie1       38.537514  24.079807  28.392569\n",
       "fepol         33.398927  21.514669  27.885540\n",
       "gunlaw        31.128774  18.574552  23.464968\n",
       "sexeduc       18.266558   7.241553   9.396167"
      ]
     },
     "execution_count": 15,
     "metadata": {},
     "output_type": "execute_result"
    }
   ],
   "source": [
    "augmented = pd.concat([questions, gss[\"polviews3\"]], axis=1)\n",
    "table = augmented.groupby(\"polviews3\").mean().transpose() * 100\n",
    "table"
   ]
  },
  {
   "cell_type": "markdown",
   "id": "07b0f955",
   "metadata": {},
   "source": [
    "Here's a short text description for each question."
   ]
  },
  {
   "cell_type": "code",
   "execution_count": 16,
   "id": "bd100dca",
   "metadata": {},
   "outputs": [],
   "source": [
    "issue_dict = {\n",
    "    \"abany\": \"Abortion\",\n",
    "    \"homosex\": \"Homosexuality\",\n",
    "    \"premarsx\": \"Premarital sex\",\n",
    "    \"prayer\": \"School prayer\",\n",
    "    \"natfare\": \"Welfare spending\",\n",
    "    \"grass\": \"Legal cannabis\",\n",
    "    \"natenvir\": \"Environment\",\n",
    "    \"divlaw\": \"Divorce\",\n",
    "    \"cappun\": \"Capital punishment\",\n",
    "    \"racopen\": \"Fair housing law\",\n",
    "    \"letdie1\": \"Assisted suicide\",\n",
    "    \"fepol\": \"Women in politics\",\n",
    "    \"gunlaw\": \"Gun law\",\n",
    "    \"sexeduc\": \"Sex education\",\n",
    "    \"pornlaw\": \"Pornography\",\n",
    "}\n",
    "\n",
    "issue_names = pd.Series(issue_dict)[order].values"
   ]
  },
  {
   "cell_type": "markdown",
   "id": "dadabcf1",
   "metadata": {},
   "source": [
    "The following figure shows, for each question, the percentage of liberals, moderates, and conservatives who chose one of the conservative responses."
   ]
  },
  {
   "cell_type": "code",
   "execution_count": 17,
   "id": "05b35dd7",
   "metadata": {
    "tags": [
     "hide-cell"
    ]
   },
   "outputs": [],
   "source": [
    "polview_names = [\"Conservative\", \"Moderate\", \"Liberal\"]\n",
    "\n",
    "muted = sns.color_palette(\"muted\", 5)\n",
    "polview_map = dict(zip(polview_names, [muted[3], muted[4], muted[0]]))\n",
    "marker_map = dict(zip(polview_names, [\"s\", \"^\", \"o\"]))\n",
    "line_map = dict(zip(polview_names, [\"--\", \"-.\", \":\"]))"
   ]
  },
  {
   "cell_type": "code",
   "execution_count": 18,
   "id": "1b98e213",
   "metadata": {
    "tags": [
     "hide-input"
    ]
   },
   "outputs": [
    {
     "data": {
      "image/png": "[encoded data removed]",
      "text/plain": [
       "<Figure size 504x324 with 1 Axes>"
      ]
     },
     "metadata": {
      "needs_background": "light"
     },
     "output_type": "display_data"
    }
   ],
   "source": [
    "plt.figure(figsize=(7, 4.5))\n",
    "plt.hlines(\n",
    "    issue_names,\n",
    "    table[\"Liberal\"],\n",
    "    table[\"Conservative\"],\n",
    "    color=\"gray\",\n",
    "    alpha=0.2,\n",
    ")\n",
    "\n",
    "for polviews, color in polview_map.items():\n",
    "    x = table[polviews]\n",
    "    marker = marker_map[polviews]\n",
    "    plt.plot(x, issue_names, marker, color=color, alpha=0.9, label=polviews)\n",
    "\n",
    "decorate(xlabel=\"Percent choosing conservative responses\")"
   ]
  },
  {
   "cell_type": "markdown",
   "id": "5800daaa",
   "metadata": {},
   "source": [
    "Not surprisingly, conservatives are more likely than liberals to choose conservative responses, and moderates are somewhere in the middle.\n",
    "The differences between the groups range from 11 to 27 percentage points."
   ]
  },
  {
   "cell_type": "code",
   "execution_count": 19,
   "id": "8c2c97e0",
   "metadata": {
    "tags": [
     "remove-cell"
    ]
   },
   "outputs": [
    {
     "data": {
      "text/plain": [
       "sexeduc     11.025004\n",
       "fepol       11.884258\n",
       "gunlaw      12.554222\n",
       "letdie1     14.457706\n",
       "racopen     14.535292\n",
       "pornlaw     19.021210\n",
       "divlaw      20.252600\n",
       "grass       21.433864\n",
       "cappun      22.015530\n",
       "natenvir    22.363821\n",
       "prayer      22.859458\n",
       "natfare     23.848424\n",
       "premarsx    25.439970\n",
       "homosex     26.904683\n",
       "abany       26.970705\n",
       "dtype: float64"
      ]
     },
     "execution_count": 19,
     "metadata": {},
     "output_type": "execute_result"
    }
   ],
   "source": [
    "(table[\"Conservative\"] - table[\"Liberal\"]).sort_values()"
   ]
  },
  {
   "cell_type": "markdown",
   "id": "8ee2055f",
   "metadata": {},
   "source": [
    "These results include respondents over the interval from 1973 to 2021, so they are not a snapshot of recent conditions.\n",
    "Rather, they show the issues that have distinguished conservatives from liberals over the last 50 years."
   ]
  },
  {
   "cell_type": "markdown",
   "id": "a3222a85",
   "metadata": {},
   "source": [
    "## Item Response Theory\n",
    "\n",
    "Now that we've chosen questions that distinguish liberals and conservatives, the next step is to estimate the conservatism of each respondent.\n",
    "If all respondents answered all of the questions, this would be relatively easy, but they didn't.\n",
    "\n",
    "Some were surveyed before a particular question was added to the survey or after it was removed.\n",
    "Also, in some years respondents were randomly assigned a \"ballot\" with subset of the questions.\n",
    "Finally, a small percentage of respondents refuse to answer some questions, or say \"I don't know\".\n",
    "\n",
    "The following figure shows the distribution of the number of questions answered."
   ]
  },
  {
   "cell_type": "code",
   "execution_count": 20,
   "id": "a3f82a55",
   "metadata": {
    "tags": [
     "hide-input"
    ]
   },
   "outputs": [
    {
     "data": {
      "image/png": "[encoded data removed]",
      "text/plain": [
       "<Figure size 432x288 with 1 Axes>"
      ]
     },
     "metadata": {
      "needs_background": "light"
     },
     "output_type": "display_data"
    }
   ],
   "source": [
    "from empiricaldist import Pmf\n",
    "\n",
    "answered = questions.notna().sum(axis=1)\n",
    "Pmf.from_seq(answered).bar()\n",
    "\n",
    "decorate(xlabel=\"Number of questions answered\", ylabel=\"PMF\")"
   ]
  },
  {
   "cell_type": "markdown",
   "id": "e2a378c9",
   "metadata": {},
   "source": [
    "Most respondents answered at least 5 questions, which is enough to get a sense of how conservative they are.\n",
    "But there's another problem: some questions are \"easier\" than others.\n",
    "For some questions a majority choose a conservative response; for others it's a small minority.\n",
    "If two people answer a different subject of the questions, we can't compare them directly.\n",
    "\n",
    "However, this is exactly the problem [item response theory](https://en.wikipedia.org/wiki/Item_response_theory) (IRT) is intended to solve!\n",
    "The fundamental assumptions of IRT are:\n",
    "\n",
    "* Each question has some level of difficulty, $d_j$.\n",
    "\n",
    "* Each respondent has some level of efficacy, $e_i$.\n",
    "\n",
    "* The probability that a respondent gets a question right is a function of $d_j$ and $e_i$.\n",
    "\n",
    "In this context, a question is \"difficult\" if few people choose a conservative response and \"easy\" if many do.\n",
    "And if a respondent has high \"efficacy\", that means they have a high tendency to choose conservative responses."
   ]
  },
  {
   "cell_type": "markdown",
   "id": "92c2008b",
   "metadata": {},
   "source": [
    "In one simple version of IRT, if a person with efficacy $e_i$ answers a question with difficulty $d_j$, the probability they get it right is \n",
    "\n",
    "$$ \\operatorname{expit}~(e_i - d_j)$$\n",
    "\n",
    "Efficacy and difficulty are latent attributes; that is, we don't observe them directly. Rather, we infer them from data.\n",
    "In some models, we use a large dataset to estimate $e$ for each respondent and $d$ for each question simultaneously.\n",
    "For this problem, that would be impractical, so I'll use a shortcut: I'll use the data to assign a difficulty to each question.\n",
    "Then I can estimate the efficacy of each respondent independently, which is simple and fast."
   ]
  },
  {
   "cell_type": "markdown",
   "id": "ab1f8a85",
   "metadata": {},
   "source": [
    "For each question, we know the proportion of respondents who chose a conservative response, which I'll call $p_j$.\n",
    "\n",
    "To assign a difficulty to each question, I'll use this heuristic: the difficulty of a question, $d_j$, is the value so that if the question is answered by someone with $e=0$, the probability they get it \"right\" is $p_j$.\n",
    "This heuristic leads to the assignment:\n",
    "\n",
    "$$ d_j = -\\operatorname{logit}~(p_j) $$\n",
    "\n",
    "The following figure shows these values for the fifteen questions."
   ]
  },
  {
   "cell_type": "code",
   "execution_count": 21,
   "id": "348f90fd",
   "metadata": {},
   "outputs": [
    {
     "data": {
      "text/plain": [
       "homosex    -0.911862\n",
       "cappun     -0.871556\n",
       "grass      -0.800715\n",
       "abany      -0.355753\n",
       "prayer     -0.380993\n",
       "premarsx   -0.181004\n",
       "divlaw      0.036247\n",
       "natfare     0.108724\n",
       "natenvir    0.480901\n",
       "pornlaw     0.544074\n",
       "racopen     0.486603\n",
       "letdie1     0.770009\n",
       "fepol       0.905584\n",
       "gunlaw      1.110278\n",
       "sexeduc     1.964978\n",
       "dtype: float64"
      ]
     },
     "execution_count": 21,
     "metadata": {},
     "output_type": "execute_result"
    }
   ],
   "source": [
    "from scipy.special import logit\n",
    "\n",
    "ds = -logit(questions.mean())\n",
    "ds"
   ]
  },
  {
   "cell_type": "code",
   "execution_count": 22,
   "id": "ee164563",
   "metadata": {
    "tags": [
     "hide-input"
    ]
   },
   "outputs": [
    {
     "data": {
      "image/png": "[encoded data removed]",
      "text/plain": [
       "<Figure size 504x324 with 1 Axes>"
      ]
     },
     "metadata": {
      "needs_background": "light"
     },
     "output_type": "display_data"
    }
   ],
   "source": [
    "plt.figure(figsize=(7, 4.5))\n",
    "\n",
    "plt.plot(ds, issue_names, \"x\")\n",
    "\n",
    "decorate(xlabel=\"Difficulty (logit scale)\")"
   ]
  },
  {
   "cell_type": "markdown",
   "id": "f3ef5677",
   "metadata": {},
   "source": [
    "Where $p_j$ is low, $d_j$ is high.\n",
    "The range of these values, by itself, doesn't mean very much; what matters is how the values of $e$ and $d$ relate to each other.\n",
    "\n",
    "Given the assigned difficulties, we can identify a useful range of values for efficacy.\n",
    "The following figure shows the range I used, from -6 to 6."
   ]
  },
  {
   "cell_type": "code",
   "execution_count": 23,
   "id": "5f0d930d",
   "metadata": {
    "tags": [
     "hide-input"
    ]
   },
   "outputs": [
    {
     "data": {
      "image/png": "[encoded data removed]",
      "text/plain": [
       "<Figure size 432x288 with 1 Axes>"
      ]
     },
     "metadata": {
      "needs_background": "light"
     },
     "output_type": "display_data"
    }
   ],
   "source": [
    "from scipy.special import expit\n",
    "\n",
    "es = np.linspace(-6, 6, 21)\n",
    "\n",
    "for d in [-1, 0, 1, 2]:\n",
    "    p = expit(es - d)\n",
    "    plt.plot(es, p, label=f\"$d$ = {d}\")\n",
    "\n",
    "decorate(xlabel=\"Efficacy\", ylabel=\"Probability of giving conservative answer\")"
   ]
  },
  {
   "cell_type": "markdown",
   "id": "b4322364",
   "metadata": {},
   "source": [
    "Someone with efficacy -6 is very liberal; their probability of choosing a conservative response is nearly 0, even for the easiest question ($d = -1$).\n",
    "Someone with efficacy 6 is very conservative; their probability of choosing a conservative responses is nearly 1, even for the most difficulty question ($d = 2$).\n",
    "\n",
    "Given the difficulties of the questions, we can compute the expected number of conservative responses at each level of efficacy."
   ]
  },
  {
   "cell_type": "code",
   "execution_count": 24,
   "id": "edcda31d",
   "metadata": {},
   "outputs": [
    {
     "data": {
      "image/png": "[encoded data removed]",
      "text/plain": [
       "<Figure size 432x288 with 1 Axes>"
      ]
     },
     "metadata": {
      "needs_background": "light"
     },
     "output_type": "display_data"
    }
   ],
   "source": [
    "E, D = np.meshgrid(es, ds)\n",
    "P = expit(E - D)\n",
    "ns = P.sum(axis=0)\n",
    "plt.plot(es, ns)\n",
    "\n",
    "decorate(xlabel=\"Efficacy\", ylabel=\"Number of conservative answers\")"
   ]
  },
  {
   "cell_type": "markdown",
   "id": "a8e9f27b",
   "metadata": {},
   "source": [
    "Someone with efficacy 0 is expected to give about 7 conservative responses our of 15 questions."
   ]
  },
  {
   "cell_type": "markdown",
   "id": "389428fd",
   "metadata": {},
   "source": [
    "## Estimating Conservatism\n",
    "\n",
    "Now let's see how we can estimate $e_i$ for a respondent based on their answers.\n",
    "I'll start with a weakly informative prior that suggest people are more likely to be in the middle and less likely to be at the extremes."
   ]
  },
  {
   "cell_type": "code",
   "execution_count": 25,
   "id": "da36dbae",
   "metadata": {},
   "outputs": [
    {
     "data": {
      "image/png": "[encoded data removed]",
      "text/plain": [
       "<Figure size 432x288 with 1 Axes>"
      ]
     },
     "metadata": {
      "needs_background": "light"
     },
     "output_type": "display_data"
    }
   ],
   "source": [
    "from scipy.stats import norm\n",
    "from empiricaldist import Pmf\n",
    "\n",
    "ps = norm.pdf(es, 0, 4)\n",
    "prior = Pmf(ps, es)\n",
    "prior.normalize()\n",
    "prior.plot()\n",
    "decorate(xlabel=\"Efficacy\", ylabel=\"Prior probability\", ylim=[0, 0.08])"
   ]
  },
  {
   "cell_type": "markdown",
   "id": "bae2dee8",
   "metadata": {},
   "source": [
    "To demonstrate the estimation process, I'll use the responses from an arbitrarily-chosen respondent."
   ]
  },
  {
   "cell_type": "code",
   "execution_count": 26,
   "id": "09d92ea9",
   "metadata": {},
   "outputs": [
    {
     "data": {
      "text/plain": [
       "homosex       NaN\n",
       "cappun       True\n",
       "grass       False\n",
       "abany         NaN\n",
       "prayer      False\n",
       "premarsx     True\n",
       "divlaw       True\n",
       "natfare     False\n",
       "natenvir     True\n",
       "pornlaw     False\n",
       "racopen      True\n",
       "letdie1       NaN\n",
       "fepol       False\n",
       "gunlaw       True\n",
       "sexeduc     False\n",
       "Name: 5034, dtype: object"
      ]
     },
     "execution_count": 26,
     "metadata": {},
     "output_type": "execute_result"
    }
   ],
   "source": [
    "row = questions.iloc[5000]\n",
    "row"
   ]
  },
  {
   "cell_type": "markdown",
   "id": "166858ae",
   "metadata": {},
   "source": [
    "To compute the likelihood of the data, I'll make an array, `P`, with one row per question and one column for each hypothetical value of $e$.\n",
    "Each element of `P` is the probability that someone with a given efficacy gets a given question \"right\"."
   ]
  },
  {
   "cell_type": "code",
   "execution_count": 27,
   "id": "4c8b11dd",
   "metadata": {},
   "outputs": [
    {
     "data": {
      "text/plain": [
       "(15, 21)"
      ]
     },
     "execution_count": 27,
     "metadata": {},
     "output_type": "execute_result"
    }
   ],
   "source": [
    "E, D = np.meshgrid(es, ds)\n",
    "P = expit(E - D)\n",
    "Q = 1 - P\n",
    "Q.shape"
   ]
  },
  {
   "cell_type": "markdown",
   "id": "d267d3d8",
   "metadata": {},
   "source": [
    "`Q` is the complement of `P`; each element is the probability that someone with a given efficacy gets a given question \"wrong\".\n",
    "\n",
    "Now, for a given row of responses we can compute the likelihood of the data."
   ]
  },
  {
   "cell_type": "code",
   "execution_count": 28,
   "id": "2aa68805",
   "metadata": {},
   "outputs": [],
   "source": [
    "# compute the likelihoods of the conservative responses\n",
    "index1 = np.nonzero(row.values == True)\n",
    "like1 = P[index1]\n",
    "\n",
    "# compute the likelihoods of the non-conservative responses\n",
    "index2 = np.nonzero(row.values == False)\n",
    "like2 = Q[index2]\n",
    "\n",
    "# multiply them all together\n",
    "like = np.vstack([like1, like2]).prod(axis=0)"
   ]
  },
  {
   "cell_type": "markdown",
   "id": "e30fafc5",
   "metadata": {},
   "source": [
    "`like` is contains the likelihood of the data for each value of $e$.\n",
    "\n",
    "To do the Bayesian update, we multiply the prior by the likelihood and normalize.\n",
    "I'm using `ns` as the index of the posterior PMF, so the results are expressed in terms of the number of conservative responses, which is easier to interpret than efficacy."
   ]
  },
  {
   "cell_type": "code",
   "execution_count": 29,
   "id": "4552859b",
   "metadata": {},
   "outputs": [
    {
     "data": {
      "text/plain": [
       "(7.75659253228837, 1.9350476056781392)"
      ]
     },
     "execution_count": 29,
     "metadata": {},
     "output_type": "execute_result"
    }
   ],
   "source": [
    "posterior = Pmf(prior.values * like, ns)\n",
    "posterior.normalize()\n",
    "posterior.mean(), posterior.std()"
   ]
  },
  {
   "cell_type": "markdown",
   "id": "a3d13065",
   "metadata": {},
   "source": [
    "Here's what the posterior distribution looks like."
   ]
  },
  {
   "cell_type": "code",
   "execution_count": 30,
   "id": "cd8ca9af",
   "metadata": {
    "tags": [
     "hide-input"
    ]
   },
   "outputs": [
    {
     "data": {
      "image/png": "[encoded data removed]",
      "text/plain": [
       "<Figure size 432x288 with 1 Axes>"
      ]
     },
     "metadata": {
      "needs_background": "light"
     },
     "output_type": "display_data"
    }
   ],
   "source": [
    "posterior.plot()\n",
    "decorate(xlabel=\"Number of conservative responses\", ylabel=\"PMF\")"
   ]
  },
  {
   "cell_type": "markdown",
   "id": "37cc918f",
   "metadata": {},
   "source": [
    "The posterior mean is about 7.8 questions, but the spread of the distribution is wide, indicating that we are still uncertain about how conservative this respondent is.\n",
    "\n",
    "Here's the same code in a function."
   ]
  },
  {
   "cell_type": "code",
   "execution_count": 31,
   "id": "90c514c9",
   "metadata": {
    "tags": [
     "hide-cell"
    ]
   },
   "outputs": [],
   "source": [
    "def estimate_conservatism(row):\n",
    "    \"\"\"Compute the posterior distribution of conservatism.\n",
    "\n",
    "    row: pd.Series of True, False, or NaN, one per question\n",
    "\n",
    "    returns: posterior mean and std of estimated conservatism\n",
    "    \"\"\"\n",
    "    index1 = np.nonzero(row.values == True)\n",
    "    like1 = P[index1]\n",
    "\n",
    "    index2 = np.nonzero(row.values == False)\n",
    "    like2 = Q[index2]\n",
    "\n",
    "    like = np.vstack([like1, like2]).prod(axis=0)\n",
    "\n",
    "    posterior = Pmf(prior.values * like, ns)\n",
    "    posterior.normalize()\n",
    "\n",
    "    return posterior.mean(), posterior.std()"
   ]
  },
  {
   "cell_type": "markdown",
   "id": "056ab77a",
   "metadata": {},
   "source": [
    "So we can apply it to the whole dataset row-wise."
   ]
  },
  {
   "cell_type": "code",
   "execution_count": 32,
   "id": "6a45b605",
   "metadata": {},
   "outputs": [
    {
     "name": "stdout",
     "output_type": "stream",
     "text": [
      "CPU times: user 27.2 s, sys: 227 ms, total: 27.4 s\n",
      "Wall time: 27.2 s\n"
     ]
    }
   ],
   "source": [
    "%time res = questions.apply(estimate_conservatism, axis=1, result_type='expand')\n",
    "mean, std = np.transpose(res.values)"
   ]
  },
  {
   "cell_type": "markdown",
   "id": "276a8e9f",
   "metadata": {},
   "source": [
    "Doing the calculation one row at a time takes longer than I'd like. So before we look at the results, let's speed it up."
   ]
  },
  {
   "cell_type": "markdown",
   "id": "d9b9d6b4",
   "metadata": {},
   "source": [
    "## Array Operations For Speed\n",
    "\n",
    "To eliminate the `for` loop, we can compute the results for all respondents\n",
    "with a single 3-D array: one row for each respondent, one column for each question,\n",
    "one page for each hypothetical value of $e$."
   ]
  },
  {
   "cell_type": "code",
   "execution_count": 33,
   "id": "68608a13",
   "metadata": {},
   "outputs": [
    {
     "data": {
      "text/plain": [
       "(68277, 15, 21)"
      ]
     },
     "execution_count": 33,
     "metadata": {},
     "output_type": "execute_result"
    }
   ],
   "source": [
    "n, m = questions.shape\n",
    "size = n, m, len(es)\n",
    "res = np.empty(size)\n",
    "res.shape"
   ]
  },
  {
   "cell_type": "markdown",
   "id": "2b7071cd",
   "metadata": {},
   "source": [
    "Now we can fill the array with the likelihoods of conservative and non-conservative responses; where there's a `NaN`, we fill in a sequence of `1`s."
   ]
  },
  {
   "cell_type": "code",
   "execution_count": 34,
   "id": "ec2fad7f",
   "metadata": {},
   "outputs": [],
   "source": [
    "a = questions.fillna(2).astype(int).values\n",
    "ii, jj = np.nonzero(a == 0)\n",
    "res[ii, jj, :] = Q[jj]\n",
    "ii, jj = np.nonzero(a == 1)\n",
    "res[ii, jj, :] = P[jj]\n",
    "ii, jj = np.nonzero(a == 2)\n",
    "res[ii, jj, :] = 1"
   ]
  },
  {
   "cell_type": "markdown",
   "id": "7c464e33",
   "metadata": {},
   "source": [
    "Multiplying along the rows gives the likelihood of each row of responses, which we multiply by the prior probabilities:"
   ]
  },
  {
   "cell_type": "code",
   "execution_count": 35,
   "id": "e5445b9d",
   "metadata": {},
   "outputs": [
    {
     "data": {
      "text/plain": [
       "(68277, 21)"
      ]
     },
     "execution_count": 35,
     "metadata": {},
     "output_type": "execute_result"
    }
   ],
   "source": [
    "product = res.prod(axis=1) * prior.values\n",
    "product.shape"
   ]
  },
  {
   "cell_type": "markdown",
   "id": "16b4623b",
   "metadata": {},
   "source": [
    "Finally, we normalize the rows to get a posterior distribution for each respondent.\n"
   ]
  },
  {
   "cell_type": "code",
   "execution_count": 36,
   "id": "b21a5a5e",
   "metadata": {},
   "outputs": [
    {
     "data": {
      "text/plain": [
       "(68277, 21)"
      ]
     },
     "execution_count": 36,
     "metadata": {},
     "output_type": "execute_result"
    }
   ],
   "source": [
    "posterior = product / product.sum(axis=1)[:, None]\n",
    "posterior.shape"
   ]
  },
  {
   "cell_type": "markdown",
   "id": "7b0f5219",
   "metadata": {},
   "source": [
    "The estimated conservatism for each respondent is the mean of the posterior distribution."
   ]
  },
  {
   "cell_type": "code",
   "execution_count": 37,
   "id": "92e7964d",
   "metadata": {},
   "outputs": [
    {
     "data": {
      "text/plain": [
       "(68277,)"
      ]
     },
     "execution_count": 37,
     "metadata": {},
     "output_type": "execute_result"
    }
   ],
   "source": [
    "con = (posterior * ns).sum(axis=1)\n",
    "con.shape"
   ]
  },
  {
   "cell_type": "markdown",
   "id": "27c420b3",
   "metadata": {},
   "source": [
    "We'll also compute the standard deviation of the posterior distribution, which I'll use to remove respondents who did not answer enough questions."
   ]
  },
  {
   "cell_type": "code",
   "execution_count": 38,
   "id": "006297b6",
   "metadata": {},
   "outputs": [
    {
     "data": {
      "text/plain": [
       "(68277,)"
      ]
     },
     "execution_count": 38,
     "metadata": {},
     "output_type": "execute_result"
    }
   ],
   "source": [
    "deviations = ns - con[:, None]\n",
    "var_con = (posterior * deviations ** 2).sum(axis=1)\n",
    "std_con = np.sqrt(var_con)\n",
    "std_con.shape"
   ]
  },
  {
   "cell_type": "markdown",
   "id": "c5e295a1",
   "metadata": {},
   "source": [
    "We can confirm that the results from the array operation is the same as the row-wise calculation."
   ]
  },
  {
   "cell_type": "code",
   "execution_count": 39,
   "id": "e7f253f9",
   "metadata": {},
   "outputs": [
    {
     "data": {
      "text/plain": [
       "(True, True)"
      ]
     },
     "execution_count": 39,
     "metadata": {},
     "output_type": "execute_result"
    }
   ],
   "source": [
    "np.allclose(con, mean), np.allclose(std_con, std)"
   ]
  },
  {
   "cell_type": "markdown",
   "id": "e0a8aad1",
   "metadata": {},
   "source": [
    "Here's what the distribution of estimates looks like among the respondents."
   ]
  },
  {
   "cell_type": "code",
   "execution_count": 40,
   "id": "171fda19",
   "metadata": {
    "tags": [
     "hide-input"
    ]
   },
   "outputs": [
    {
     "data": {
      "image/png": "[encoded data removed]",
      "text/plain": [
       "<Figure size 432x288 with 1 Axes>"
      ]
     },
     "metadata": {
      "needs_background": "light"
     },
     "output_type": "display_data"
    }
   ],
   "source": [
    "from empiricaldist import Cdf\n",
    "\n",
    "Cdf.from_seq(con).plot()\n",
    "decorate(xlabel=\"Number of questions answered\", ylabel=\"CDF\")"
   ]
  },
  {
   "cell_type": "code",
   "execution_count": 41,
   "id": "56f6478e",
   "metadata": {},
   "outputs": [
    {
     "data": {
      "text/plain": [
       "6.938065425921614"
      ]
     },
     "execution_count": 41,
     "metadata": {},
     "output_type": "execute_result"
    }
   ],
   "source": [
    "con.mean()"
   ]
  },
  {
   "cell_type": "markdown",
   "id": "77c9f7bf",
   "metadata": {},
   "source": [
    "The distribution is roughly Gaussian, with a mean near 7 questions.\n",
    "Here's the distribution of standard deviations."
   ]
  },
  {
   "cell_type": "code",
   "execution_count": 42,
   "id": "7e5d9079",
   "metadata": {
    "tags": [
     "hide-input"
    ]
   },
   "outputs": [
    {
     "data": {
      "image/png": "[encoded data removed]",
      "text/plain": [
       "<Figure size 432x288 with 1 Axes>"
      ]
     },
     "metadata": {
      "needs_background": "light"
     },
     "output_type": "display_data"
    }
   ],
   "source": [
    "Cdf.from_seq(std_con).plot()\n",
    "\n",
    "decorate(xlabel=\"Standard deviation of the posterior\", ylabel=\"CDF\")"
   ]
  },
  {
   "cell_type": "markdown",
   "id": "dfb74694",
   "metadata": {},
   "source": [
    "For most respondents (about 63,000 out of 68,000) we have enough data to estimate the number of conservative responses with standard deviation less than 3."
   ]
  },
  {
   "cell_type": "code",
   "execution_count": 43,
   "id": "2e886daa",
   "metadata": {},
   "outputs": [
    {
     "data": {
      "text/plain": [
       "count    63471.000000\n",
       "mean         6.904193\n",
       "std          3.252135\n",
       "min          0.500109\n",
       "25%          4.555523\n",
       "50%          6.932699\n",
       "75%          9.296654\n",
       "max         14.477386\n",
       "Name: conservatism, dtype: float64"
      ]
     },
     "execution_count": 43,
     "metadata": {},
     "output_type": "execute_result"
    }
   ],
   "source": [
    "gss[\"conservatism\"] = pd.Series(con, gss.index)\n",
    "gss.loc[std_con > 3, \"conservatism\"] = np.nan\n",
    "gss[\"conservatism\"].describe()"
   ]
  },
  {
   "cell_type": "markdown",
   "id": "acdf0530",
   "metadata": {},
   "source": [
    "## Conservatism Over Time\n",
    "\n",
    "The following figure shows the average of these estimates for each years of the survey."
   ]
  },
  {
   "cell_type": "code",
   "execution_count": 44,
   "id": "7dbecb2f",
   "metadata": {},
   "outputs": [],
   "source": [
    "series = gss.groupby(\"year\")[\"conservatism\"].mean()"
   ]
  },
  {
   "cell_type": "code",
   "execution_count": 45,
   "id": "33cb0c9a",
   "metadata": {
    "tags": [
     "hide-input"
    ]
   },
   "outputs": [
    {
     "data": {
      "image/png": "[encoded data removed]",
      "text/plain": [
       "<Figure size 432x288 with 1 Axes>"
      ]
     },
     "metadata": {
      "needs_background": "light"
     },
     "output_type": "display_data"
    }
   ],
   "source": [
    "plot_series_lowess(series, plot_series=True, color=\"C0\", alpha=0.7, label=\"\")\n",
    "decorate(xlabel=\"Year of survey\", ylabel=\"Number of conservative responses\")"
   ]
  },
  {
   "cell_type": "markdown",
   "id": "edc879e9",
   "metadata": {},
   "source": [
    "The prevalence of conservative responses has decreased over the last 50 years.\n",
    "In 1973, the average respondent chose a conservative response to 8.1 out of 15 questions; in 2021, it had fallen to 5.3.\n",
    "\n",
    "There is no evidence that this trend has slowed or reversed recently.\n",
    "In 2012 and 2014, it might have been above the long-term trend; in 2016 and 2018, it was below it.\n",
    "And the most recent data, from 2021, is exactly on pace."
   ]
  },
  {
   "cell_type": "markdown",
   "id": "99883232",
   "metadata": {},
   "source": [
    "## Are We Polarized?\n",
    "\n",
    "In current commentary, it is often taken for granted that politics in the U.S. have become more polarized.\n",
    "If we take that to mean that conservatives are becoming more conservative, and liberals more liberal, that turns out not to be true.\n",
    "\n",
    "The following figure shows conservatism over time, grouped by political label."
   ]
  },
  {
   "cell_type": "code",
   "execution_count": 46,
   "id": "8ae9d1d9",
   "metadata": {},
   "outputs": [],
   "source": [
    "table = gss.pivot_table(index=\"year\", columns=\"polviews3\", values=\"conservatism\")"
   ]
  },
  {
   "cell_type": "code",
   "execution_count": 47,
   "id": "ff232ed4",
   "metadata": {
    "tags": [
     "hide-input"
    ]
   },
   "outputs": [
    {
     "data": {
      "image/png": "[encoded data removed]",
      "text/plain": [
       "<Figure size 432x288 with 1 Axes>"
      ]
     },
     "metadata": {
      "needs_background": "light"
     },
     "output_type": "display_data"
    }
   ],
   "source": [
    "columns = [\"Conservative\", \"Moderate\", \"Liberal\"]\n",
    "for column in columns:\n",
    "    plot_series_lowess(table[column], ls=line_map[column], color=polview_map[column])\n",
    "\n",
    "plt.hlines(6.8, 1974, 2021, color=\"gray\", alpha=0.5)\n",
    "decorate(xlabel=\"Year of survey\", ylabel=\"Number of conservative responses\")"
   ]
  },
  {
   "cell_type": "code",
   "execution_count": 48,
   "id": "db783f4c",
   "metadata": {},
   "outputs": [
    {
     "name": "stdout",
     "output_type": "stream",
     "text": [
      "Conservative -1.9038138116921868\n",
      "Liberal -3.370428379501444\n",
      "Moderate -3.144387071263454\n"
     ]
    }
   ],
   "source": [
    "for column, series in table.iteritems():\n",
    "    smooth = make_lowess(series)\n",
    "    diff = smooth.iloc[-1] - smooth.iloc[1]\n",
    "    print(column, diff)"
   ]
  },
  {
   "cell_type": "markdown",
   "id": "51afedc3",
   "metadata": {},
   "source": [
    "All three groups have become more liberal; however, the slopes of the lines are somewhat different.\n",
    "Over this interval, conservatives have become more liberal by about 1.9 expected responses, moderates by 3.1, and liberals by 3.4.\n",
    "That's a kind of polarization in the sense that the groups moved farther apart, but not in the sense that they are moving in opposite directions."
   ]
  },
  {
   "cell_type": "markdown",
   "id": "2af2fddf",
   "metadata": {},
   "source": [
    "In the previous figure, the horizontal line is at 6.8 responses, which was the expected level of conservatism in 1974 among people who called themselves liberal.\n",
    "\n",
    "So, suppose you take a time machine back to 1974, find an average liberal, and bring them to the turn of the millennium.\n",
    "Based on their responses to the fifteen questions, they would be indistinguishable from the average moderate in 2000.\n",
    "\n",
    "And if you bring them to 2021, their quaint 1970s liberalism would be almost as conservative as the average conservative."
   ]
  },
  {
   "cell_type": "code",
   "execution_count": 49,
   "id": "b6649651",
   "metadata": {
    "tags": [
     "remove-cell"
    ]
   },
   "outputs": [
    {
     "data": {
      "text/plain": [
       "6.729395745800706"
      ]
     },
     "execution_count": 49,
     "metadata": {},
     "output_type": "execute_result"
    }
   ],
   "source": [
    "make_lowess(table[\"Moderate\"])[2000]"
   ]
  },
  {
   "cell_type": "code",
   "execution_count": 50,
   "id": "2ba39a9a",
   "metadata": {
    "tags": [
     "remove-cell"
    ]
   },
   "outputs": [
    {
     "data": {
      "text/plain": [
       "7.025581272131314"
      ]
     },
     "execution_count": 50,
     "metadata": {},
     "output_type": "execute_result"
    }
   ],
   "source": [
    "make_lowess(table[\"Conservative\"])[2021]"
   ]
  },
  {
   "cell_type": "markdown",
   "id": "1b576b84",
   "metadata": {},
   "source": [
    "## Appendix: The Fifteen Questions\n",
    "\n",
    "This appendix provides the wording of the fifteen questions from the General Social Survey that most distinguish liberals and conservatives, identified by topic and the GSS variable name.\n",
    "\n",
    "* Homosexuality (homosex): What about sexual relations between two adults of the same sex--do you think it is always wrong, almost always wrong, wrong only sometimes, or not wrong at all?\n",
    "\n",
    "* Capital punishment (cappun): Do you favor or oppose the death penalty for persons convicted of murder?\n",
    "\n",
    "* Legal cannabis (grass): Do you think the use of marijuana should be made legal or not?\n",
    "\n",
    "* Abortion (abany): Please tell me whether or not you think it should be possible for a pregnant woman to obtain a legal abortion if the woman wants it for any reason?\n",
    "\n",
    "* Prayer in public schools (prayer): The United States Supreme Court has ruled that no state or local government may require the reading of the Lord's Prayer or Bible verses in public schools. What are your views on this--do you approve or disapprove of the court ruling?\n",
    "\n",
    "* Premarital sex (premarsx): There's been a lot of discussion about the way morals and attitudes about sex are changing in this country. If a man and woman have sex relations before marriage, do you think it is always wrong, almost always wrong, wrong only sometimes, or not wrong at all?\n",
    "\n",
    "* Divorce (divlaw): Should divorce in this country be easier or more difficult to obtain than it is now?\n",
    "\n",
    "* Spending on welfare (natfare) and the environment (natenvir): We are faced with many problems in this country, none of which can be solved easily or inexpensively. I'm going to name some of these problems, and for each one I'd like you to tell me whether you think we're spending too much money on it, too little money, or about the right amount.\n",
    "  1. Welfare\n",
    "\n",
    "  2. Improving and protecting the environment\n",
    "\n",
    "* Pornography (pornlaw): Which of these statements comes closest to your feelings about pornography laws? \n",
    "\n",
    "  1. There should be laws against the distribution of pornography whatever the age.\n",
    "\n",
    "  2. There should be laws against the distribution of pornography to persons under 18.\n",
    "\n",
    "  3. There should be no laws forbidding the distribution of pornography.\n",
    "\n",
    "* Open housing law (racopen): Suppose there is a community-wide vote on the general housing issue. There are two possible laws to vote on; which law would you vote for? \n",
    "\n",
    "  1. One law says that a homeowner can decide for himself whom to sell his house to, even if he prefers not to sell to [people of a particular race].\n",
    "\n",
    "  2. The second law says that a homeowner cannot refuse to sell to someone because of their race or color.\n",
    "\n",
    "* Assisted suicide (letdie1): When a person has a disease that cannot be cured, do you think Doctors should be allowed by law to end the patient's life by some painless means if the patient and his family request it?\n",
    "\n",
    "* Women in politics (fepol): Tell me if you agree or disagree with this statement:  Most men are better suited emotionally for politics than are most women.\n",
    "\n",
    "* Gun control (gunlaw): Would you favor or oppose a law which would require a person to obtain a police permit before he or she could buy a gun?\n",
    "\n",
    "* Sex education (sexeduc): Would you be for or against sex education in the public schools?"
   ]
  },
  {
   "cell_type": "code",
   "execution_count": null,
   "id": "6fc9aa00",
   "metadata": {
    "tags": [
     "remove-cell"
    ]
   },
   "outputs": [],
   "source": []
  }
 ],
 "metadata": {
  "celltoolbar": "Tags",
  "kernelspec": {
   "display_name": "Python 3 (ipykernel)",
   "language": "python",
   "name": "python3"
  },
  "language_info": {
   "codemirror_mode": {
    "name": "ipython",
    "version": 3
   },
   "file_extension": ".py",
   "mimetype": "text/x-python",
   "name": "python",
   "nbconvert_exporter": "python",
   "pygments_lexer": "ipython3",
   "version": "3.10.5"
  }
 },
 "nbformat": 4,
 "nbformat_minor": 5
}
