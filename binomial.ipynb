{
 "cells": [
  {
   "cell_type": "markdown",
   "metadata": {},
   "source": [
    "# The binomial distribution\n",
    "\n",
    "\n",
    "Copyright 2016 Allen Downey\n",
    "\n",
    "MIT License: http://opensource.org/licenses/MIT"
   ]
  },
  {
   "cell_type": "code",
   "execution_count": 1,
   "metadata": {
    "collapsed": false
   },
   "outputs": [],
   "source": [
    "from __future__ import print_function, division\n",
    "\n",
    "%matplotlib inline\n",
    "%precision 6\n",
    "\n",
    "import matplotlib.pyplot as plt\n",
    "\n",
    "import numpy as np"
   ]
  },
  {
   "cell_type": "code",
   "execution_count": 2,
   "metadata": {
    "collapsed": true
   },
   "outputs": [],
   "source": [
    "from inspect import getsourcelines\n",
    "\n",
    "def show_code(func):\n",
    "    lines, _ = getsourcelines(func)\n",
    "    for line in lines:\n",
    "        print(line, end='')"
   ]
  },
  {
   "cell_type": "markdown",
   "metadata": {},
   "source": [
    "## Pmf\n",
    "\n",
    "Here's a Pmf class that represents a Probability Mass Function, implemented using a Python dictionary that maps from possible outcomes to their probabilities."
   ]
  },
  {
   "cell_type": "code",
   "execution_count": 3,
   "metadata": {
    "collapsed": false
   },
   "outputs": [
    {
     "name": "stdout",
     "output_type": "stream",
     "text": [
      "class Pmf:\n",
      "    \n",
      "    def __init__(self, d=None):\n",
      "        \"\"\"Initializes the distribution.\n",
      "\n",
      "        d: map from values to probabilities\n",
      "        \"\"\"\n",
      "        self.d = {} if d is None else d\n",
      "\n",
      "    def items(self):\n",
      "        \"\"\"Returns a sequence of (value, prob) pairs.\"\"\"\n",
      "        return self.d.items()\n",
      "    \n",
      "    def __repr__(self):\n",
      "        \"\"\"Returns a string representation of the object.\"\"\"\n",
      "        cls = self.__class__.__name__\n",
      "        return '%s(%s)' % (cls, repr(self.d))\n",
      "\n",
      "    def __getitem__(self, value):\n",
      "        \"\"\"Looks up the probability of a value.\"\"\"\n",
      "        return self.d.get(value, 0)\n",
      "\n",
      "    def __setitem__(self, value, prob):\n",
      "        \"\"\"Sets the probability associated with a value.\"\"\"\n",
      "        self.d[value] = prob\n",
      "\n",
      "    def __add__(self, other):\n",
      "        \"\"\"Computes the Pmf of the sum of values drawn from self and other.\n",
      "\n",
      "        other: another Pmf or a scalar\n",
      "\n",
      "        returns: new Pmf\n",
      "        \"\"\"\n",
      "        if other == 0:\n",
      "            return self\n",
      "\n",
      "        pmf = Pmf()\n",
      "        for v1, p1 in self.items():\n",
      "            for v2, p2 in other.items():\n",
      "                pmf[v1 + v2] += p1 * p2\n",
      "        return pmf\n",
      "    \n",
      "    __radd__ = __add__\n",
      "\n",
      "    def total(self):\n",
      "        \"\"\"Returns the total of the probabilities.\"\"\"\n",
      "        return sum(self.d.values())\n",
      "\n",
      "    def normalize(self):\n",
      "        \"\"\"Normalizes this PMF so the sum of all probs is 1.\n",
      "\n",
      "        Args:\n",
      "            fraction: what the total should be after normalization\n",
      "\n",
      "        Returns: the total probability before normalizing\n",
      "        \"\"\"\n",
      "        total = self.total()\n",
      "        for x in self.d:\n",
      "            self.d[x] /= total\n",
      "        return total\n",
      "    \n",
      "    def mean(self):\n",
      "        \"\"\"Computes the mean of a PMF.\"\"\"\n",
      "        return sum(p * x for x, p in self.items())\n",
      "\n",
      "    def var(self, mu=None):\n",
      "        \"\"\"Computes the variance of a PMF.\n",
      "\n",
      "        mu: the point around which the variance is computed;\n",
      "                if omitted, computes the mean\n",
      "        \"\"\"\n",
      "        if mu is None:\n",
      "            mu = self.mean()\n",
      "\n",
      "        return sum(p * (x - mu) ** 2 for x, p in self.items())\n",
      "\n",
      "    def expect(self, func):\n",
      "        \"\"\"Computes the expectation of a given function, E[f(x)]\n",
      "\n",
      "        func: function\n",
      "        \"\"\"\n",
      "        return sum(p * func(x) for x, p in self.items())\n",
      "\n",
      "    def display(self):\n",
      "        \"\"\"Displays the values and probabilities.\"\"\"\n",
      "        for value, prob in self.items():\n",
      "            print(value, prob)\n",
      "            \n",
      "    def plot_pmf(self, **options):\n",
      "        \"\"\"Plots the values and probabilities.\"\"\"\n",
      "        xs, ps = zip(*sorted(self.items()))\n",
      "        plt.plot(xs, ps, **options)\n"
     ]
    }
   ],
   "source": [
    "from distribution import Pmf\n",
    "show_code(Pmf)"
   ]
  },
  {
   "cell_type": "markdown",
   "metadata": {},
   "source": [
    "## The infamous biased coin\n",
    "\n",
    "I'll create a Pmf that represents a biased coin, which has a 60% chance of landing heads and a 40% chance of landing tails.\n",
    "\n",
    "If you are bothered by the fact that it is physically very difficult to bias a coin toss in this way, imagine a 10-sided die with `H` on 6 sides and `T` on 4 sides."
   ]
  },
  {
   "cell_type": "code",
   "execution_count": 4,
   "metadata": {
    "collapsed": false
   },
   "outputs": [
    {
     "name": "stdout",
     "output_type": "stream",
     "text": [
      "H 0.6\n",
      "T 0.4\n"
     ]
    }
   ],
   "source": [
    "coin = Pmf(dict(H=0.6, T=0.4))\n",
    "coin.display()"
   ]
  },
  {
   "cell_type": "markdown",
   "metadata": {},
   "source": [
    "We can use the `+` operator to compute the possible outcomes of two coin tosses and their probabilities."
   ]
  },
  {
   "cell_type": "code",
   "execution_count": 5,
   "metadata": {
    "collapsed": false
   },
   "outputs": [
    {
     "name": "stdout",
     "output_type": "stream",
     "text": [
      "HH 0.36\n",
      "TT 0.16000000000000003\n",
      "TH 0.24\n",
      "HT 0.24\n"
     ]
    }
   ],
   "source": [
    "twice = coin + coin\n",
    "twice.display()"
   ]
  },
  {
   "cell_type": "markdown",
   "metadata": {},
   "source": [
    "And similarly, the possible outcomes of three coin tosses."
   ]
  },
  {
   "cell_type": "code",
   "execution_count": 6,
   "metadata": {
    "collapsed": false
   },
   "outputs": [
    {
     "name": "stdout",
     "output_type": "stream",
     "text": [
      "TTT 0.06400000000000002\n",
      "HTT 0.096\n",
      "THT 0.096\n",
      "HHH 0.216\n",
      "HHT 0.144\n",
      "HTH 0.144\n",
      "TTH 0.09600000000000002\n",
      "THH 0.144\n"
     ]
    }
   ],
   "source": [
    "thrice = sum([coin]*3)\n",
    "thrice.display()"
   ]
  },
  {
   "cell_type": "markdown",
   "metadata": {},
   "source": [
    "Notice that the outcomes take the order of the tosses into account, so `HT` is considered a different outcome from `TH`.\n",
    "\n",
    "If we don't care about the order and we only care about the number of heads and tails, we can loop through the outcomes and count the number of heads."
   ]
  },
  {
   "cell_type": "code",
   "execution_count": 7,
   "metadata": {
    "collapsed": false
   },
   "outputs": [
    {
     "name": "stdout",
     "output_type": "stream",
     "text": [
      "3 0.216\n",
      "2 0.144\n",
      "2 0.144\n",
      "1 0.096\n",
      "2 0.144\n",
      "1 0.096\n",
      "1 0.09600000000000002\n",
      "0 0.06400000000000002\n"
     ]
    }
   ],
   "source": [
    "from collections import Counter\n",
    "\n",
    "for val, prob in sorted(thrice.items()):\n",
    "    heads = val.count('H')\n",
    "    print(heads, prob)"
   ]
  },
  {
   "cell_type": "markdown",
   "metadata": {},
   "source": [
    "And we can make a new Pmf that maps from the total number of heads to the probability of that total."
   ]
  },
  {
   "cell_type": "code",
   "execution_count": 8,
   "metadata": {
    "collapsed": false
   },
   "outputs": [],
   "source": [
    "def make_pmf_heads(coin, n):\n",
    "    coins = sum([coin]*n)\n",
    "    pmf = Pmf()\n",
    "    for val, prob in coins.items():\n",
    "        heads = val.count('H')\n",
    "        pmf[heads] += prob\n",
    "    return pmf"
   ]
  },
  {
   "cell_type": "markdown",
   "metadata": {},
   "source": [
    "Here's what it looks like:"
   ]
  },
  {
   "cell_type": "code",
   "execution_count": 9,
   "metadata": {
    "collapsed": false
   },
   "outputs": [
    {
     "name": "stdout",
     "output_type": "stream",
     "text": [
      "0 0.06400000000000002\n",
      "1 0.28800000000000003\n",
      "2 0.43199999999999994\n",
      "3 0.216\n"
     ]
    }
   ],
   "source": [
    "pmf_heads = make_pmf_heads(coin, 3)\n",
    "pmf_heads.display()"
   ]
  },
  {
   "cell_type": "markdown",
   "metadata": {},
   "source": [
    "**Exerise:** Create `pmf_heads` for a few different values of `n` and plot them using the `plot_pmf` method."
   ]
  },
  {
   "cell_type": "code",
   "execution_count": 10,
   "metadata": {
    "collapsed": false
   },
   "outputs": [
    {
     "data": {
      "image/png": "[encoded data removed]",
      "text/plain": [
       "<matplotlib.figure.Figure at 0x7fe9b50f2a90>"
      ]
     },
     "metadata": {},
     "output_type": "display_data"
    }
   ],
   "source": [
    "# Solution\n",
    "\n",
    "for n in [5, 10, 15]:\n",
    "    make_pmf_heads(coin, n).plot_pmf()"
   ]
  },
  {
   "cell_type": "markdown",
   "metadata": {},
   "source": [
    "**Exerise:** Run the following example and see how long it takes.  Try it out with a few values of `n` and see how the run time depends on `n`.  "
   ]
  },
  {
   "cell_type": "code",
   "execution_count": 11,
   "metadata": {
    "collapsed": false
   },
   "outputs": [
    {
     "name": "stdout",
     "output_type": "stream",
     "text": [
      "CPU times: user 164 ms, sys: 0 ns, total: 164 ms\n",
      "Wall time: 164 ms\n"
     ]
    },
    {
     "data": {
      "image/png": "[encoded data removed]",
      "text/plain": [
       "<matplotlib.figure.Figure at 0x7fe9b53b7320>"
      ]
     },
     "metadata": {},
     "output_type": "display_data"
    }
   ],
   "source": [
    "n = 15\n",
    "%time make_pmf_heads(coin, n).plot_pmf()"
   ]
  },
  {
   "cell_type": "markdown",
   "metadata": {},
   "source": [
    "This way of computing `pmf_heads` is not very efficient.  For `n` tosses, there are $2^n$ possible outcomes, and for large values of `n`, that is not tractable.\n",
    "\n",
    "In the next section we will figure out a better way."
   ]
  },
  {
   "cell_type": "markdown",
   "metadata": {},
   "source": [
    "## The symbolic version\n",
    "\n",
    "Looking at numerical output doesn't tell us much about how to generalize from this example.  We can learn more by replacing the numbers with symbols.\n",
    "\n",
    "Here's a version of the Pmf where the probability of heads is the symbol `p`:"
   ]
  },
  {
   "cell_type": "code",
   "execution_count": 12,
   "metadata": {
    "collapsed": false
   },
   "outputs": [
    {
     "name": "stdout",
     "output_type": "stream",
     "text": [
      "H p\n",
      "T -p + 1\n"
     ]
    }
   ],
   "source": [
    "from sympy import symbols\n",
    "\n",
    "p = symbols('p')\n",
    "sym_coin = Pmf(dict(H=p, T=1-p))\n",
    "sym_coin.display()"
   ]
  },
  {
   "cell_type": "markdown",
   "metadata": {},
   "source": [
    "Now we can see the distribution of the number of heads, which I'll call `k`, after a few tosses:"
   ]
  },
  {
   "cell_type": "code",
   "execution_count": 13,
   "metadata": {
    "collapsed": false
   },
   "outputs": [
    {
     "name": "stdout",
     "output_type": "stream",
     "text": [
      "0 (-p + 1)**2\n",
      "1 2*p*(-p + 1)\n",
      "2 p**2\n"
     ]
    }
   ],
   "source": [
    "make_pmf_heads(sym_coin, 2).display()"
   ]
  },
  {
   "cell_type": "code",
   "execution_count": 14,
   "metadata": {
    "collapsed": false
   },
   "outputs": [
    {
     "name": "stdout",
     "output_type": "stream",
     "text": [
      "0 (-p + 1)**3\n",
      "1 3*p*(-p + 1)**2\n",
      "2 3*p**2*(-p + 1)\n",
      "3 p**3\n"
     ]
    }
   ],
   "source": [
    "make_pmf_heads(sym_coin, 3).display()"
   ]
  },
  {
   "cell_type": "code",
   "execution_count": 15,
   "metadata": {
    "collapsed": false
   },
   "outputs": [
    {
     "name": "stdout",
     "output_type": "stream",
     "text": [
      "0 (-p + 1)**4\n",
      "1 4*p*(-p + 1)**3\n",
      "2 6*p**2*(-p + 1)**2\n",
      "3 4*p**3*(-p + 1)\n",
      "4 p**4\n"
     ]
    }
   ],
   "source": [
    "make_pmf_heads(sym_coin, 4).display()"
   ]
  },
  {
   "cell_type": "markdown",
   "metadata": {},
   "source": [
    "The general pattern is that probability of `k` heads after `n` tosses is the product of three terms\n",
    "\n",
    "* The probability of `k` heads, which is `p**k`.\n",
    "* The probability of `n-k` tails, which is `(1-p)**(n-k)`.\n",
    "* An integer coefficient.\n",
    "\n",
    "You might already know that the coefficient is the \"binomial coefficient\", which is written $n \\choose k$ and pronounced \"n choose k\".  But pretend for a moment that you don't know that and let's figure it out.\n",
    "\n",
    "## The binomial coefficient\n",
    "\n",
    "To make the pattern easier to see, I'll create a fair coin where `p = 1-p = 1/2`"
   ]
  },
  {
   "cell_type": "code",
   "execution_count": 16,
   "metadata": {
    "collapsed": false
   },
   "outputs": [
    {
     "name": "stdout",
     "output_type": "stream",
     "text": [
      "H p\n",
      "T p\n"
     ]
    }
   ],
   "source": [
    "fair_coin = Pmf(dict(H=p, T=p))\n",
    "fair_coin.display()"
   ]
  },
  {
   "cell_type": "markdown",
   "metadata": {},
   "source": [
    "Now the probability of all outcomes is `p**n`"
   ]
  },
  {
   "cell_type": "code",
   "execution_count": 17,
   "metadata": {
    "collapsed": false
   },
   "outputs": [
    {
     "name": "stdout",
     "output_type": "stream",
     "text": [
      "TTT p**3\n",
      "HTT p**3\n",
      "THT p**3\n",
      "HHH p**3\n",
      "HHT p**3\n",
      "HTH p**3\n",
      "TTH p**3\n",
      "THH p**3\n"
     ]
    }
   ],
   "source": [
    "thrice = sum([fair_coin]*3)\n",
    "thrice.display()"
   ]
  },
  {
   "cell_type": "markdown",
   "metadata": {},
   "source": [
    "So when we count the number of heads, it is easier to see the coefficients."
   ]
  },
  {
   "cell_type": "code",
   "execution_count": 18,
   "metadata": {
    "collapsed": false
   },
   "outputs": [
    {
     "name": "stdout",
     "output_type": "stream",
     "text": [
      "0 p**3\n",
      "1 3*p**3\n",
      "2 3*p**3\n",
      "3 p**3\n"
     ]
    }
   ],
   "source": [
    "pmf_heads = make_pmf_heads(fair_coin, 3)\n",
    "pmf_heads.display()"
   ]
  },
  {
   "cell_type": "markdown",
   "metadata": {},
   "source": [
    "And even easier if we divide through by `p**n`"
   ]
  },
  {
   "cell_type": "code",
   "execution_count": 19,
   "metadata": {
    "collapsed": false
   },
   "outputs": [
    {
     "name": "stdout",
     "output_type": "stream",
     "text": [
      "0 1\n",
      "1 3\n",
      "2 3\n",
      "3 1\n"
     ]
    }
   ],
   "source": [
    "for val, prob in pmf_heads.items():\n",
    "    print(val, prob / p**3)"
   ]
  },
  {
   "cell_type": "markdown",
   "metadata": {},
   "source": [
    "We can assemble the code from the previous cells into a function that prints the coefficients for a given value of `n`:"
   ]
  },
  {
   "cell_type": "code",
   "execution_count": 20,
   "metadata": {
    "collapsed": false
   },
   "outputs": [],
   "source": [
    "def coefficients(n):\n",
    "    fair_coin = Pmf(dict(H=p, T=p))\n",
    "    pmf_heads = make_pmf_heads(fair_coin, n)\n",
    "    for val, prob in pmf_heads.items():\n",
    "        print(prob / p**n, end=' ')\n",
    "    print()"
   ]
  },
  {
   "cell_type": "markdown",
   "metadata": {},
   "source": [
    "Here are the coefficients for `n=3`"
   ]
  },
  {
   "cell_type": "code",
   "execution_count": 21,
   "metadata": {
    "collapsed": false
   },
   "outputs": [
    {
     "name": "stdout",
     "output_type": "stream",
     "text": [
      "1 3 3 1 \n"
     ]
    }
   ],
   "source": [
    "coefficients(3)"
   ]
  },
  {
   "cell_type": "markdown",
   "metadata": {},
   "source": [
    "And here they are for `n` in the range from `1` to `9`"
   ]
  },
  {
   "cell_type": "code",
   "execution_count": 22,
   "metadata": {
    "collapsed": false
   },
   "outputs": [
    {
     "name": "stdout",
     "output_type": "stream",
     "text": [
      "1 1 \n",
      "1 2 1 \n",
      "1 3 3 1 \n",
      "1 4 6 4 1 \n",
      "1 5 10 10 5 1 \n",
      "1 6 15 20 15 6 1 \n",
      "1 7 21 35 35 21 7 1 \n",
      "1 8 28 56 70 56 28 8 1 \n",
      "1 9 36 84 126 126 84 36 9 1 \n"
     ]
    }
   ],
   "source": [
    "for n in range(1, 10):\n",
    "    coefficients(n)"
   ]
  },
  {
   "cell_type": "markdown",
   "metadata": {},
   "source": [
    "Now we can look for patterns.\n",
    "\n",
    "* If we flip the coin `n` times, the coefficient associated with getting `k` heads is `1` if `k` is `0` or `n`.\n",
    "\n",
    "* Otherwise, the `(n, k)` coefficient is the sum of two coefficients from the previous row: `(n-1, k)` and `(n-1, k-1)`\n",
    "\n",
    "We can use these observations to compute the binomial coefficient recursively:"
   ]
  },
  {
   "cell_type": "code",
   "execution_count": 23,
   "metadata": {
    "collapsed": false
   },
   "outputs": [],
   "source": [
    "def binomial_coefficient(n, k):\n",
    "    if k==0 or k==n:\n",
    "        return 1\n",
    "    return binomial_coefficient(n-1, k) + binomial_coefficient(n-1, k-1)"
   ]
  },
  {
   "cell_type": "markdown",
   "metadata": {},
   "source": [
    "And it yields the same results."
   ]
  },
  {
   "cell_type": "code",
   "execution_count": 24,
   "metadata": {
    "collapsed": false
   },
   "outputs": [
    {
     "data": {
      "text/plain": [
       "126"
      ]
     },
     "execution_count": 24,
     "metadata": {},
     "output_type": "execute_result"
    }
   ],
   "source": [
    "binomial_coefficient(9, 5)"
   ]
  },
  {
   "cell_type": "markdown",
   "metadata": {},
   "source": [
    "Here are the results for `n` from 1 to 9 again."
   ]
  },
  {
   "cell_type": "code",
   "execution_count": 25,
   "metadata": {
    "collapsed": false
   },
   "outputs": [
    {
     "name": "stdout",
     "output_type": "stream",
     "text": [
      "1 1 \n",
      "1 2 1 \n",
      "1 3 3 1 \n",
      "1 4 6 4 1 \n",
      "1 5 10 10 5 1 \n",
      "1 6 15 20 15 6 1 \n",
      "1 7 21 35 35 21 7 1 \n",
      "1 8 28 56 70 56 28 8 1 \n",
      "1 9 36 84 126 126 84 36 9 1 \n"
     ]
    }
   ],
   "source": [
    "for n in range(1, 10):\n",
    "    for k in range(n+1):\n",
    "        print(binomial_coefficient(n, k), end=' ')\n",
    "    print()"
   ]
  },
  {
   "cell_type": "markdown",
   "metadata": {},
   "source": [
    "So far so good."
   ]
  },
  {
   "cell_type": "markdown",
   "metadata": {},
   "source": [
    "**Exercise:**  SciPy provides a \"special\" function called `binom` that you can import from `scipy.special`.  Test it to confirm that it is consistent with our function.\n",
    "\n",
    "Note that `scipy.special.binom` returns a float, so for large values of `n` it is only approximate."
   ]
  },
  {
   "cell_type": "code",
   "execution_count": 26,
   "metadata": {
    "collapsed": false
   },
   "outputs": [
    {
     "data": {
      "text/plain": [
       "126.000000"
      ]
     },
     "execution_count": 26,
     "metadata": {},
     "output_type": "execute_result"
    }
   ],
   "source": [
    "# Solution\n",
    "\n",
    "from scipy.special import binom\n",
    "binom(9, 5)"
   ]
  },
  {
   "cell_type": "markdown",
   "metadata": {},
   "source": [
    "**Exercise:** The recursive implementation of `binomial_coefficient` is inefficient for large values of `n` because it computes the same intermediate results many times.  You can speed it up (a lot!) by memoizing previously computed results.\n",
    "\n",
    "Write a version called `fast_binom` that caches results in a dictionary."
   ]
  },
  {
   "cell_type": "code",
   "execution_count": 27,
   "metadata": {
    "collapsed": false
   },
   "outputs": [
    {
     "name": "stdout",
     "output_type": "stream",
     "text": [
      "1 1 \n",
      "1 2 1 \n",
      "1 3 3 1 \n",
      "1 4 6 4 1 \n",
      "1 5 10 10 5 1 \n",
      "1 6 15 20 15 6 1 \n",
      "1 7 21 35 35 21 7 1 \n",
      "1 8 28 56 70 56 28 8 1 \n",
      "1 9 36 84 126 126 84 36 9 1 \n"
     ]
    }
   ],
   "source": [
    "# Solution\n",
    "\n",
    "def fast_binom(n, k, cache={}):\n",
    "    if k==0 or k==n:\n",
    "        return 1\n",
    "    try:\n",
    "        return cache[n, k]\n",
    "    except KeyError:\n",
    "        res = fast_binom(n-1, k) + fast_binom(n-1, k-1)\n",
    "        cache[n, k] = res\n",
    "        return res\n",
    "\n",
    "for n in range(1, 10):\n",
    "    for k in range(n+1):\n",
    "        print(binomial_coefficient(n, k), end=' ')\n",
    "    print()"
   ]
  },
  {
   "cell_type": "markdown",
   "metadata": {},
   "source": [
    "## The Binomial PMF\n",
    "\n",
    "Bringing it all together, we have\n",
    "\n",
    "$PMF(k; n,p) = {n \\choose k} p^k (1-p)^{n-k}$\n",
    "\n",
    "This equation can be interpreted at two levels:\n",
    "\n",
    "* If you want to know the probability of `k` heads in `n` tosses, where the probability of heads in each toss is `p`, you can use the formula on the right to compute it.\n",
    "\n",
    "* More abstractly, this equation states that the formula on the right is the PMF of `k` with the parameters `n` and `p`.\n",
    "\n",
    "To make the difference between these interpretations clear, let's look at two functions:\n",
    "\n",
    "    1.  `eval_binomial_pmf` evaluates this formula for given values of `k`, `n`, and `p`.\n",
    "    2.  `make_binomial_pmf` evaluates the formula for a range of values of `k`, and returns the resulting `Pmf` object.\n",
    "    \n",
    "First, here's `eval_binomial_pmf`:"
   ]
  },
  {
   "cell_type": "code",
   "execution_count": 28,
   "metadata": {
    "collapsed": true
   },
   "outputs": [],
   "source": [
    "from scipy.special import binom\n",
    "\n",
    "def eval_binomial_pmf(k, n, p):\n",
    "    return binom(n, k) * p**k * (1-p)**(n-k)"
   ]
  },
  {
   "cell_type": "markdown",
   "metadata": {},
   "source": [
    "We can use it to compute probabilities for each value of `k` directly:"
   ]
  },
  {
   "cell_type": "code",
   "execution_count": 29,
   "metadata": {
    "collapsed": false
   },
   "outputs": [
    {
     "name": "stdout",
     "output_type": "stream",
     "text": [
      "0 0.064\n",
      "1 0.288\n",
      "2 0.432\n",
      "3 0.216\n"
     ]
    }
   ],
   "source": [
    "n = 3\n",
    "p = 0.6\n",
    "\n",
    "for k in range(n+1):\n",
    "    print(k, eval_binomial_pmf(k, n, p))"
   ]
  },
  {
   "cell_type": "markdown",
   "metadata": {},
   "source": [
    "And here's the corresponding `pmf_heads` for comparison"
   ]
  },
  {
   "cell_type": "code",
   "execution_count": 30,
   "metadata": {
    "collapsed": false
   },
   "outputs": [
    {
     "name": "stdout",
     "output_type": "stream",
     "text": [
      "0 0.06400000000000002\n",
      "1 0.28800000000000003\n",
      "2 0.43199999999999994\n",
      "3 0.216\n"
     ]
    }
   ],
   "source": [
    "coin = Pmf(dict(H=p, T=1-p))\n",
    "make_pmf_heads(coin, n).display()"
   ]
  },
  {
   "cell_type": "markdown",
   "metadata": {},
   "source": [
    "They are the same, at least within floating point error.\n",
    "\n",
    "Now here's `make_binomial_pmf`"
   ]
  },
  {
   "cell_type": "code",
   "execution_count": 31,
   "metadata": {
    "collapsed": false
   },
   "outputs": [],
   "source": [
    "def make_binomial_pmf(n, p):\n",
    "    pmf = Pmf()\n",
    "    for k in range(n+1):\n",
    "        pmf[k] = eval_binomial_pmf(k, n, p)\n",
    "    return pmf"
   ]
  },
  {
   "cell_type": "markdown",
   "metadata": {},
   "source": [
    "We can use it to make a Pmf that contains the possible values of `k` and their probabilities:"
   ]
  },
  {
   "cell_type": "code",
   "execution_count": 32,
   "metadata": {
    "collapsed": false
   },
   "outputs": [
    {
     "name": "stdout",
     "output_type": "stream",
     "text": [
      "0 0.064\n",
      "1 0.288\n",
      "2 0.432\n",
      "3 0.216\n"
     ]
    }
   ],
   "source": [
    "pmf = make_binomial_pmf(n, p)\n",
    "pmf.display()"
   ]
  },
  {
   "cell_type": "markdown",
   "metadata": {},
   "source": [
    "Here's what the distribution of `k` looks like for given values of `n` and `p`:"
   ]
  },
  {
   "cell_type": "code",
   "execution_count": 33,
   "metadata": {
    "collapsed": false
   },
   "outputs": [
    {
     "data": {
      "image/png": "[encoded data removed]",
      "text/plain": [
       "<matplotlib.figure.Figure at 0x7fe9b89b2160>"
      ]
     },
     "metadata": {},
     "output_type": "display_data"
    }
   ],
   "source": [
    "pmf.plot_pmf()\n",
    "plt.xlabel('k');"
   ]
  },
  {
   "cell_type": "markdown",
   "metadata": {},
   "source": [
    "If we hold `p` constant, we can see how the distribution of `k` changes as `n` increases"
   ]
  },
  {
   "cell_type": "code",
   "execution_count": 34,
   "metadata": {
    "collapsed": false
   },
   "outputs": [
    {
     "data": {
      "image/png": "[encoded data removed]",
      "text/plain": [
       "<matplotlib.figure.Figure at 0x7fe9aeef7c88>"
      ]
     },
     "metadata": {},
     "output_type": "display_data"
    }
   ],
   "source": [
    "p = 0.6\n",
    "for n in [5, 10, 15]:\n",
    "    make_binomial_pmf(n, p).plot_pmf(label=n)\n",
    "plt.legend();"
   ]
  },
  {
   "cell_type": "markdown",
   "metadata": {},
   "source": [
    "**Exercise:** Keeping `n=10`, plot the distribution of `k` for a few different values of `p`."
   ]
  },
  {
   "cell_type": "code",
   "execution_count": 35,
   "metadata": {
    "collapsed": false
   },
   "outputs": [
    {
     "data": {
      "image/png": "[encoded data removed]",
      "text/plain": [
       "<matplotlib.figure.Figure at 0x7fe9aeeb0588>"
      ]
     },
     "metadata": {},
     "output_type": "display_data"
    }
   ],
   "source": [
    "# Solution\n",
    "\n",
    "n = 10\n",
    "for p in [0.2, 0.5, 0.8]:\n",
    "    make_binomial_pmf(n, p).plot_pmf(label=p)\n",
    "plt.legend();"
   ]
  },
  {
   "cell_type": "markdown",
   "metadata": {},
   "source": [
    "The Pmf objects we just created represent differnet distributions of `k` based on different values of the parameters `n` and `p`.\n",
    "\n",
    "As `make_binomial_pmf` demonstrates, if you give me `n` and `p`, I can compute a distribution of `k`.\n",
    "\n",
    "Speaking casually, people sometimes refer to this equation as the PMF of \"the\" binomial distribution:\n",
    "\n",
    "$PMF(k; n,p) = {n \\choose k} p^k (1-p)^{n-k}$\n",
    "\n",
    "More precisely, it is a \"family\" of distributions, where the parameters `n` and `p` specify a particular member of the family."
   ]
  },
  {
   "cell_type": "markdown",
   "metadata": {},
   "source": [
    "**Exercise:**  Suppose you toss a fair coin 10 times.  What is the probability of getting 5 heads?\n",
    "\n",
    "If you run this experiment many times, what is the mean number of heads you expect?  What is the variance in the number of heads?"
   ]
  },
  {
   "cell_type": "code",
   "execution_count": 36,
   "metadata": {
    "collapsed": false
   },
   "outputs": [
    {
     "name": "stdout",
     "output_type": "stream",
     "text": [
      "0.24609375\n",
      "5.0\n",
      "2.5\n"
     ]
    }
   ],
   "source": [
    "# Solution\n",
    "\n",
    "n = 10\n",
    "p = 0.5\n",
    "pmf = make_binomial_pmf(n, p)\n",
    "print(pmf[5])\n",
    "print(pmf.mean())\n",
    "print(pmf.var())"
   ]
  },
  {
   "cell_type": "markdown",
   "metadata": {},
   "source": [
    "**Exercise:**  Suppose you toss a fair coin 10 times.  What is the probability of getting fewer than 5 heads?\n",
    "\n",
    "If you run this experiment many times, what is the median number of heads you expect?  What is the interquartile range (IQR) in the number of heads?\n",
    "\n",
    "Hint: You might want to make a CDF."
   ]
  },
  {
   "cell_type": "code",
   "execution_count": 37,
   "metadata": {
    "collapsed": false
   },
   "outputs": [
    {
     "name": "stdout",
     "output_type": "stream",
     "text": [
      "0.376953125\n",
      "5 2\n"
     ]
    }
   ],
   "source": [
    "# Solution\n",
    "\n",
    "from distribution import compute_cumprobs, Cdf\n",
    "\n",
    "xs, ps = compute_cumprobs(pmf.d)\n",
    "cdf = Cdf(xs, ps)\n",
    "print(cdf[4])\n",
    "\n",
    "low, median, high = cdf.values([0.25, 0.5, 0.75])\n",
    "print(median, high-low)"
   ]
  },
  {
   "cell_type": "code",
   "execution_count": null,
   "metadata": {
    "collapsed": true
   },
   "outputs": [],
   "source": []
  }
 ],
 "metadata": {
  "kernelspec": {
   "display_name": "Python 3",
   "language": "python",
   "name": "python3"
  },
  "language_info": {
   "codemirror_mode": {
    "name": "ipython",
    "version": 3
   },
   "file_extension": ".py",
   "mimetype": "text/x-python",
   "name": "python",
   "nbconvert_exporter": "python",
   "pygments_lexer": "ipython3",
   "version": "3.5.1"
  }
 },
 "nbformat": 4,
 "nbformat_minor": 0
}
