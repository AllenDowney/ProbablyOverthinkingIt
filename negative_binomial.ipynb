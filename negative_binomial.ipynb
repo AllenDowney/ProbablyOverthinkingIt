{
 "cells": [
  {
   "cell_type": "markdown",
   "metadata": {},
   "source": [
    "# Binomial and negative binomial distributions\n",
    "\n",
    "An exploration of binomial and negative binomial distributions in response to a question on Reddit.\n",
    "\n",
    "Copyright 2016 Allen Downey\n",
    "\n",
    "MIT License: http://opensource.org/licenses/MIT"
   ]
  },
  {
   "cell_type": "code",
   "execution_count": 102,
   "metadata": {
    "collapsed": false
   },
   "outputs": [],
   "source": [
    "from __future__ import print_function, division\n",
    "\n",
    "import thinkplot\n",
    "from thinkstats2 import Pmf, Cdf\n",
    "\n",
    "from scipy import stats\n",
    "from scipy import special\n",
    "\n",
    "%matplotlib inline"
   ]
  },
  {
   "cell_type": "markdown",
   "metadata": {},
   "source": [
    "Here's a [question from Reddit](https://www.reddit.com/r/statistics/comments/4ijzkm/number_of_selections_with_replacement_before/):\n",
    "\n",
    ">How do I calculate the distribution of the number of selections (with replacement) \n",
    "I need to make before obtaining `k`? For example, let's say I am picking marbles from \n",
    "a bag with replacement. There is a 10% chance of green and 90% of black. I want `k=5` green \n",
    "marbles. What is the distribution number of times I need to take a marble before getting 5? \n",
    "\n",
    ">I believe this is a geometric distribution. I see how to calculate the cumulative \n",
    ">probability given `n` picks, but I would like to generalize it so that for any value of `k` \n",
    ">(number of marbles I want), I can tell you the mean, 10% and 90% probability for the \n",
    ">number of times I need to pick from it.\n",
    "\n",
    ">Another way of saying this is, how many times do I need to pull on a slot machine \n",
    ">before it pays out given that each pull is independent?\n",
    "\n",
    "Note: I've changed the notation in the question to be consistent with convention.\n"
   ]
  },
  {
   "cell_type": "markdown",
   "metadata": {},
   "source": [
    "### Solution\n",
    "\n",
    "There are two ways to solve this problem.  One is to relate the desired distribution to the binomial distribution.  \n",
    "\n",
    "If the probability of success on every trial is `p`, the probability of getting the `k`th success on the `n`th trial is\n",
    "\n",
    "    PMF(n; k, p) = BinomialPMF(k-1; n-1, p) p\n",
    "\n",
    "That is, the probability of getting `k-1` successes in `n-1` trials, times the probability of getting the `k`th success on the `n`th trial.\n",
    "\n",
    "Here's a function that computes it:"
   ]
  },
  {
   "cell_type": "code",
   "execution_count": 85,
   "metadata": {
    "collapsed": false
   },
   "outputs": [],
   "source": [
    "def MakePmfUsingBinom(k, p, high=100):\n",
    "    pmf = Pmf()\n",
    "    for n in range(1, high):\n",
    "        pmf[n] = stats.binom.pmf(k-1, n-1, p) * p\n",
    "    return pmf"
   ]
  },
  {
   "cell_type": "markdown",
   "metadata": {},
   "source": [
    "And here's an example using the parameters in the question."
   ]
  },
  {
   "cell_type": "code",
   "execution_count": 86,
   "metadata": {
    "collapsed": false
   },
   "outputs": [
    {
     "data": {
      "image/png": "[encoded data removed]",
      "text/plain": [
       "<matplotlib.figure.Figure at 0x7f0e251ef588>"
      ]
     },
     "metadata": {},
     "output_type": "display_data"
    }
   ],
   "source": [
    "pmf = MakePmfUsingBinom(5, 0.1, 200)\n",
    "thinkplot.Pdf(pmf)"
   ]
  },
  {
   "cell_type": "markdown",
   "metadata": {},
   "source": [
    "We can solve the same problem using the negative binomial distribution, but it requires some translation from the parameters of the problem to the conventional parameters of the binomial distribution.\n",
    "\n",
    "If the probability of success on every trial is `p`, the probability of getting the `k`th success on the `n`th trial is\n",
    "\n",
    "    PMF(n; k, p) = NegativeBinomialPMF(n-k; k, p) p\n",
    "\n",
    "That is, the probability of `n-k` non-terminal events on the way to getting the `k`th terminal event.\n",
    "\n",
    "Here's a function that computes it:"
   ]
  },
  {
   "cell_type": "code",
   "execution_count": 103,
   "metadata": {
    "collapsed": false
   },
   "outputs": [],
   "source": [
    "def MakePmfUsingNbinom(k, p, high=100):\n",
    "    pmf = Pmf()\n",
    "    for n in range(1, high):\n",
    "        r = n-k\n",
    "        pmf[n] = stats.nbinom.pmf(r, k, p)\n",
    "    return pmf"
   ]
  },
  {
   "cell_type": "markdown",
   "metadata": {},
   "source": [
    "Here's the same example:"
   ]
  },
  {
   "cell_type": "code",
   "execution_count": 104,
   "metadata": {
    "collapsed": false
   },
   "outputs": [
    {
     "data": {
      "image/png": "[encoded data removed]",
      "text/plain": [
       "<matplotlib.figure.Figure at 0x7f0e28c68b38>"
      ]
     },
     "metadata": {},
     "output_type": "display_data"
    }
   ],
   "source": [
    "pmf2 = MakePmfUsingNbinom(5, 0.1, 200)\n",
    "thinkplot.Pdf(pmf2)"
   ]
  },
  {
   "cell_type": "markdown",
   "metadata": {},
   "source": [
    "And confirmation that the results are the same within floating point error."
   ]
  },
  {
   "cell_type": "code",
   "execution_count": 107,
   "metadata": {
    "collapsed": false
   },
   "outputs": [
    {
     "data": {
      "text/plain": [
       "8.6736173798840355e-17"
      ]
     },
     "execution_count": 107,
     "metadata": {},
     "output_type": "execute_result"
    }
   ],
   "source": [
    "diffs = [abs(pmf[n] - pmf2[n]) for n in pmf]\n",
    "max(diffs)"
   ]
  },
  {
   "cell_type": "markdown",
   "metadata": {},
   "source": [
    "Using the PMF, we can compute the mean and standard deviation:"
   ]
  },
  {
   "cell_type": "code",
   "execution_count": 108,
   "metadata": {
    "collapsed": false
   },
   "outputs": [
    {
     "data": {
      "text/plain": [
       "(49.998064403376738, 21.207570382894403)"
      ]
     },
     "execution_count": 108,
     "metadata": {},
     "output_type": "execute_result"
    }
   ],
   "source": [
    "pmf.Mean(), pmf.Std()"
   ]
  },
  {
   "cell_type": "markdown",
   "metadata": {},
   "source": [
    "To compute percentiles, we can convert to a CDF (which just adds up the cumulative probabilities)"
   ]
  },
  {
   "cell_type": "code",
   "execution_count": 109,
   "metadata": {
    "collapsed": false
   },
   "outputs": [
    {
     "data": {
      "image/png": "[encoded data removed]",
      "text/plain": [
       "<matplotlib.figure.Figure at 0x7f0e2514bb38>"
      ]
     },
     "metadata": {},
     "output_type": "display_data"
    }
   ],
   "source": [
    "cdf = Cdf(pmf)\n",
    "scale = thinkplot.Cdf(cdf)"
   ]
  },
  {
   "cell_type": "markdown",
   "metadata": {},
   "source": [
    "And here are the 10th and 90th percentiles."
   ]
  },
  {
   "cell_type": "code",
   "execution_count": 110,
   "metadata": {
    "collapsed": false
   },
   "outputs": [
    {
     "data": {
      "text/plain": [
       "78"
      ]
     },
     "execution_count": 110,
     "metadata": {},
     "output_type": "execute_result"
    }
   ],
   "source": [
    "cdf.Percentile(90)"
   ]
  },
  {
   "cell_type": "code",
   "execution_count": null,
   "metadata": {
    "collapsed": true
   },
   "outputs": [],
   "source": []
  }
 ],
 "metadata": {
  "kernelspec": {
   "display_name": "Python 3",
   "language": "python",
   "name": "python3"
  },
  "language_info": {
   "codemirror_mode": {
    "name": "ipython",
    "version": 3
   },
   "file_extension": ".py",
   "mimetype": "text/x-python",
   "name": "python",
   "nbconvert_exporter": "python",
   "pygments_lexer": "ipython3",
   "version": "3.5.1"
  }
 },
 "nbformat": 4,
 "nbformat_minor": 0
}
