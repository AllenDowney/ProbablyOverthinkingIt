{
 "cells": [
  {
   "cell_type": "markdown",
   "metadata": {},
   "source": [
    "Bayesian interpretation of medical tests\n",
    "-----------------------------------------\n",
    "\n",
    "An example that demonstrates a simple hierarchical model.\n",
    "\n",
    "Copyright 2016 Allen Downey\n",
    "\n",
    "MIT License: http://opensource.org/licenses/MIT"
   ]
  },
  {
   "cell_type": "code",
   "execution_count": 1,
   "metadata": {
    "collapsed": false
   },
   "outputs": [],
   "source": [
    "from __future__ import print_function, division\n",
    "\n",
    "import thinkplot\n",
    "from thinkbayes2 import Pmf, Suite\n",
    "from thinkbayes2 import MakeGeometricPmf\n",
    "from thinkbayes2 import MakeMixture\n",
    "\n",
    "import numpy as np\n",
    "from fractions import Fraction\n",
    "\n",
    "%matplotlib inline"
   ]
  },
  {
   "cell_type": "markdown",
   "metadata": {},
   "source": [
    "### A dice problem\n",
    "\n",
    "Before we get started, let's warm up with a dice problem.  It will introduce the computational framework I'm using, and provide some background we'll need for the medical test problem.\n",
    "\n",
    "Suppose I have a six-sided die that is red on 2 sides and blue on 4 sides, and another die that's the other way around, red on 4 sides and blue on two.\n",
    "\n",
    "I choose a die at random and roll it, and I tell you it came up red.  What is the probability that I rolled the second die (red on 4 sides)?\n",
    "\n",
    "To answer this question, I'll create `Pmf` objects to represent the two dice:"
   ]
  },
  {
   "cell_type": "code",
   "execution_count": 2,
   "metadata": {
    "collapsed": false
   },
   "outputs": [
    {
     "name": "stdout",
     "output_type": "stream",
     "text": [
      "Blue 2/3\n",
      "Red 1/3\n"
     ]
    }
   ],
   "source": [
    "d1 = Pmf({'Red':Fraction(2), 'Blue':Fraction(4)}, label='d1 (bluish) ')\n",
    "d1.Print()"
   ]
  },
  {
   "cell_type": "code",
   "execution_count": 3,
   "metadata": {
    "collapsed": false
   },
   "outputs": [
    {
     "name": "stdout",
     "output_type": "stream",
     "text": [
      "Blue 1/3\n",
      "Red 2/3\n"
     ]
    }
   ],
   "source": [
    "d2 = Pmf({'Red':Fraction(4), 'Blue':Fraction(2)}, label='d2 (reddish)')\n",
    "d2.Print()"
   ]
  },
  {
   "cell_type": "markdown",
   "metadata": {},
   "source": [
    "And I'll make another `Pmf` to represent the random choice of one die or the other."
   ]
  },
  {
   "cell_type": "code",
   "execution_count": 4,
   "metadata": {
    "collapsed": false
   },
   "outputs": [
    {
     "name": "stdout",
     "output_type": "stream",
     "text": [
      "d2 (reddish) 1/2\n",
      "d1 (bluish)  1/2\n"
     ]
    }
   ],
   "source": [
    "dice = Pmf({d1:Fraction(1), d2:Fraction(1)})\n",
    "dice.Print()"
   ]
  },
  {
   "cell_type": "markdown",
   "metadata": {},
   "source": [
    "Now I can use the `Random` method to choose a die and then roll it."
   ]
  },
  {
   "cell_type": "code",
   "execution_count": 5,
   "metadata": {
    "collapsed": false
   },
   "outputs": [
    {
     "data": {
      "text/plain": [
       "'Blue'"
      ]
     },
     "execution_count": 5,
     "metadata": {},
     "output_type": "execute_result"
    }
   ],
   "source": [
    "dice.Random().Random()"
   ]
  },
  {
   "cell_type": "markdown",
   "metadata": {},
   "source": [
    "The following generator simulates the process of repeatedly choosing a die and then rolling it."
   ]
  },
  {
   "cell_type": "code",
   "execution_count": 6,
   "metadata": {
    "collapsed": false
   },
   "outputs": [],
   "source": [
    "def rollA(dice):\n",
    "    while True:\n",
    "        die = dice.Random()\n",
    "        roll = die.Random()\n",
    "        yield roll"
   ]
  },
  {
   "cell_type": "markdown",
   "metadata": {},
   "source": [
    "We can use this generator to simulate rolls:"
   ]
  },
  {
   "cell_type": "code",
   "execution_count": 7,
   "metadata": {
    "collapsed": false
   },
   "outputs": [
    {
     "name": "stdout",
     "output_type": "stream",
     "text": [
      "Red\n",
      "Red\n",
      "Red\n",
      "Red\n",
      "Red\n"
     ]
    }
   ],
   "source": [
    "iterA = rollA(dice)\n",
    "for i in range(5):\n",
    "    print(next(iterA))"
   ]
  },
  {
   "cell_type": "markdown",
   "metadata": {},
   "source": [
    "In the long run, the proportion of red and blue is 50-50."
   ]
  },
  {
   "cell_type": "code",
   "execution_count": 8,
   "metadata": {
    "collapsed": false
   },
   "outputs": [
    {
     "data": {
      "text/plain": [
       "Pmf({'Red': 0.47800000000000004, 'Blue': 0.522})"
      ]
     },
     "execution_count": 8,
     "metadata": {},
     "output_type": "execute_result"
    }
   ],
   "source": [
    "Pmf(next(iterA) for i in range(1000))"
   ]
  },
  {
   "cell_type": "markdown",
   "metadata": {},
   "source": [
    "We can see that by computing the weighted mixture of the two dice:"
   ]
  },
  {
   "cell_type": "code",
   "execution_count": 9,
   "metadata": {
    "collapsed": false
   },
   "outputs": [
    {
     "name": "stdout",
     "output_type": "stream",
     "text": [
      "Blue 1/2\n",
      "Red 1/2\n"
     ]
    }
   ],
   "source": [
    "MakeMixture(dice).Print()"
   ]
  },
  {
   "cell_type": "markdown",
   "metadata": {},
   "source": [
    "To answer the original question, I'll create a suite of hypotheses where each hypothesis is represented by a die, and the likelihood of the data under each hypothesis is the probability that the given die yields the given outcome."
   ]
  },
  {
   "cell_type": "code",
   "execution_count": 10,
   "metadata": {
    "collapsed": true
   },
   "outputs": [],
   "source": [
    "class Dice(Suite):\n",
    "    def Likelihood(self, data, hypo):\n",
    "        \"\"\"\n",
    "        data: 'Red' or 'Blue'\n",
    "        hypo: a Die object\n",
    "        \"\"\"\n",
    "        return hypo[data]"
   ]
  },
  {
   "cell_type": "markdown",
   "metadata": {},
   "source": [
    "Now I can create a suite that represents the prior distribution."
   ]
  },
  {
   "cell_type": "code",
   "execution_count": 11,
   "metadata": {
    "collapsed": false
   },
   "outputs": [
    {
     "name": "stdout",
     "output_type": "stream",
     "text": [
      "d2 (reddish) 1/2\n",
      "d1 (bluish)  1/2\n"
     ]
    }
   ],
   "source": [
    "prior = Dice({d1:Fraction(1), d2:Fraction(1)})\n",
    "prior.Print()"
   ]
  },
  {
   "cell_type": "markdown",
   "metadata": {},
   "source": [
    "And update it with the data."
   ]
  },
  {
   "cell_type": "code",
   "execution_count": 12,
   "metadata": {
    "collapsed": false
   },
   "outputs": [
    {
     "name": "stdout",
     "output_type": "stream",
     "text": [
      "d2 (reddish) 2/3\n",
      "d1 (bluish)  1/3\n"
     ]
    }
   ],
   "source": [
    "posterior = prior.Copy()\n",
    "posterior.Update('Red')\n",
    "posterior.Print()"
   ]
  },
  {
   "cell_type": "markdown",
   "metadata": {},
   "source": [
    "The posterior probabilities for `d1` and `d2` are `1/3` and `2/3`.  That is, the probability that I rolled `d2` is `2/3`.\n",
    "\n",
    "Intuitively, the posterior probability of `d2` is higher than the prior because the outcome (red) is more likely on `d2` than `d1`.  If we had rolled blue, the probability of `d1` would be higher.\n",
    "\n",
    "Now suppose I ask you to predict the outcome of the next roll.  Remember that in this scenario, I choose a new die each time, so what you learned on the first roll doesn't help you with the second.  The predictive distribution is a weighted mixture of the dice, using the prior weights:"
   ]
  },
  {
   "cell_type": "code",
   "execution_count": 13,
   "metadata": {
    "collapsed": false
   },
   "outputs": [
    {
     "name": "stdout",
     "output_type": "stream",
     "text": [
      "Blue 1/2\n",
      "Red 1/2\n"
     ]
    }
   ],
   "source": [
    "predictive = MakeMixture(prior)\n",
    "predictive.Print()"
   ]
  },
  {
   "cell_type": "markdown",
   "metadata": {},
   "source": [
    "Now consider a different scenario.  Instead of choosing a new die every time, I choose a die once and roll it repeatedly.  Here's a generator that simulates this scenario:"
   ]
  },
  {
   "cell_type": "code",
   "execution_count": 14,
   "metadata": {
    "collapsed": true
   },
   "outputs": [],
   "source": [
    "def rollB(dice):\n",
    "    die = dice.Random()\n",
    "    while True:\n",
    "        roll = die.Random()\n",
    "        yield roll"
   ]
  },
  {
   "cell_type": "markdown",
   "metadata": {},
   "source": [
    "In the long run, the proportion of red is either `1/3` or `2/3`, not `1/2`:"
   ]
  },
  {
   "cell_type": "code",
   "execution_count": 15,
   "metadata": {
    "collapsed": false
   },
   "outputs": [
    {
     "data": {
      "text/plain": [
       "Pmf({'Red': 0.327, 'Blue': 0.673})"
      ]
     },
     "execution_count": 15,
     "metadata": {},
     "output_type": "execute_result"
    }
   ],
   "source": [
    "iterB = rollB(dice)\n",
    "Pmf(next(iterB) for i in range(1000))"
   ]
  },
  {
   "cell_type": "markdown",
   "metadata": {},
   "source": [
    "After the first roll, the posterior suite is the same as in the previous scenario:"
   ]
  },
  {
   "cell_type": "code",
   "execution_count": 16,
   "metadata": {
    "collapsed": false
   },
   "outputs": [
    {
     "name": "stdout",
     "output_type": "stream",
     "text": [
      "d2 (reddish) 2/3\n",
      "d1 (bluish)  1/3\n"
     ]
    }
   ],
   "source": [
    "posterior = prior.Copy()\n",
    "posterior.Update('Red')\n",
    "posterior.Print()"
   ]
  },
  {
   "cell_type": "markdown",
   "metadata": {},
   "source": [
    "In this scenario, we know we are going to roll the same die each time, so the information we learned from the first roll informs our prediction for the second.\n",
    "\n",
    "Specifically, now the predictive distribution is based on the posterior, not the prior:"
   ]
  },
  {
   "cell_type": "code",
   "execution_count": 17,
   "metadata": {
    "collapsed": false
   },
   "outputs": [
    {
     "name": "stdout",
     "output_type": "stream",
     "text": [
      "Blue 4/9\n",
      "Red 5/9\n"
     ]
    }
   ],
   "source": [
    "predictive = MakeMixture(posterior)\n",
    "predictive.Print()"
   ]
  },
  {
   "cell_type": "markdown",
   "metadata": {},
   "source": [
    "Having seen one red, we are more inclined to belive that I am rolling `d2`, so we are more inclined to predict that I will roll red again.\n",
    "\n",
    "If I do roll red again, we can update the posterior again, using the new data, and make a new prediction:"
   ]
  },
  {
   "cell_type": "code",
   "execution_count": 18,
   "metadata": {
    "collapsed": false
   },
   "outputs": [
    {
     "name": "stdout",
     "output_type": "stream",
     "text": [
      "d2 (reddish) 4/5\n",
      "d1 (bluish)  1/5\n"
     ]
    }
   ],
   "source": [
    "posterior.Update('Red')\n",
    "posterior.Print()"
   ]
  },
  {
   "cell_type": "code",
   "execution_count": 19,
   "metadata": {
    "collapsed": false
   },
   "outputs": [
    {
     "name": "stdout",
     "output_type": "stream",
     "text": [
      "Blue 2/5\n",
      "Red 3/5\n"
     ]
    }
   ],
   "source": [
    "predictive = MakeMixture(posterior)\n",
    "predictive.Print()"
   ]
  },
  {
   "cell_type": "markdown",
   "metadata": {},
   "source": [
    "If we continue this process, we will eventually be confident that we know which die is being rolled:"
   ]
  },
  {
   "cell_type": "code",
   "execution_count": 20,
   "metadata": {
    "collapsed": false
   },
   "outputs": [
    {
     "name": "stdout",
     "output_type": "stream",
     "text": [
      "d2 (reddish) 1/257\n",
      "d1 (bluish)  256/257\n"
     ]
    }
   ],
   "source": [
    "posterior = prior.Copy()\n",
    "for i in range(10):\n",
    "    posterior.Update(next(iterB))\n",
    "posterior.Print()"
   ]
  },
  {
   "cell_type": "markdown",
   "metadata": {},
   "source": [
    "And the predictive distribution will be close to `1/3` or `2/3`, depending on which die we think it is."
   ]
  },
  {
   "cell_type": "code",
   "execution_count": 21,
   "metadata": {
    "collapsed": false
   },
   "outputs": [
    {
     "name": "stdout",
     "output_type": "stream",
     "text": [
      "Blue 171/257\n",
      "Red 86/257\n"
     ]
    }
   ],
   "source": [
    "predictive = MakeMixture(posterior)\n",
    "predictive.Print()"
   ]
  },
  {
   "cell_type": "markdown",
   "metadata": {},
   "source": [
    "Now let's consider another scenario.  Suppose I choose a random die and roll it.  If the outcome is red, I tell you the outcome.  Otherwise I choose again and roll again.  Here's a generator that simulates this scenario."
   ]
  },
  {
   "cell_type": "code",
   "execution_count": 22,
   "metadata": {
    "collapsed": true
   },
   "outputs": [],
   "source": [
    "def rollC(dice):\n",
    "    while True:\n",
    "        die = dice.Random()\n",
    "        roll = die.Random()\n",
    "        if roll == 'Red':\n",
    "            yield roll"
   ]
  },
  {
   "cell_type": "markdown",
   "metadata": {},
   "source": [
    "In this scenario, obviously, the outcome is always red:"
   ]
  },
  {
   "cell_type": "code",
   "execution_count": 23,
   "metadata": {
    "collapsed": false
   },
   "outputs": [
    {
     "data": {
      "text/plain": [
       "Pmf({'Red': 1.0})"
      ]
     },
     "execution_count": 23,
     "metadata": {},
     "output_type": "execute_result"
    }
   ],
   "source": [
    "iterC = rollC(dice)\n",
    "Pmf(next(iterC) for i in range(1000))"
   ]
  },
  {
   "cell_type": "markdown",
   "metadata": {},
   "source": [
    "But now suppose I choose and roll until I get a red, and then ask you about the last die I rolled.  What is the probability that it is the reddish die, `d2`?\n",
    "\n",
    "One each roll, there are four possible results, with these probabilities:\n",
    "\n",
    "    d1, red       1/2 * 1/3\n",
    "    d1, blue      1/2 * 2/3\n",
    "    d2, red       1/2 * 2/3\n",
    "    d2, blue      1/2 * 1/3\n",
    "    \n",
    "On the last roll, I tell you that the outcome is red, so we are left with two possibilities:\n",
    "\n",
    "    d1, red       1/2 * 1/3\n",
    "    d2, red       1/2 * 2/3\n",
    "\n",
    "The likelihood ratio is `2` to `1`, so we can use that to update the prior:"
   ]
  },
  {
   "cell_type": "code",
   "execution_count": 24,
   "metadata": {
    "collapsed": false
   },
   "outputs": [
    {
     "name": "stdout",
     "output_type": "stream",
     "text": [
      "d2 (reddish) 2/3\n",
      "d1 (bluish)  1/3\n"
     ]
    }
   ],
   "source": [
    "posterior = prior.Copy()\n",
    "posterior[d1] *= 1\n",
    "posterior[d2] *= 2\n",
    "posterior.Normalize()\n",
    "posterior.Print()"
   ]
  },
  {
   "cell_type": "markdown",
   "metadata": {},
   "source": [
    "And that's the same posterior we saw in Scenarios A and B.  But now the predictive distribution is always red:"
   ]
  },
  {
   "cell_type": "code",
   "execution_count": 25,
   "metadata": {
    "collapsed": false
   },
   "outputs": [
    {
     "name": "stdout",
     "output_type": "stream",
     "text": [
      "Red 1.0\n"
     ]
    }
   ],
   "source": [
    "predictive = Pmf({'Red':1.0})\n",
    "predictive.Print()"
   ]
  },
  {
   "cell_type": "markdown",
   "metadata": {},
   "source": [
    "Finally, let's consider the scenario where I choose a die once and roll it repeatedly until the out come is red."
   ]
  },
  {
   "cell_type": "code",
   "execution_count": 26,
   "metadata": {
    "collapsed": true
   },
   "outputs": [],
   "source": [
    "def rollD(dice):\n",
    "    die = dice.Random()\n",
    "    while True:\n",
    "        roll = die.Random()\n",
    "        if roll == 'Red':\n",
    "            yield roll"
   ]
  },
  {
   "cell_type": "markdown",
   "metadata": {},
   "source": [
    "Again, obviously, the outcome is always red:"
   ]
  },
  {
   "cell_type": "code",
   "execution_count": 27,
   "metadata": {
    "collapsed": false
   },
   "outputs": [
    {
     "data": {
      "text/plain": [
       "Pmf({'Red': 1.0})"
      ]
     },
     "execution_count": 27,
     "metadata": {},
     "output_type": "execute_result"
    }
   ],
   "source": [
    "iterD = rollD(dice)\n",
    "Pmf(next(iterD) for i in range(1000))"
   ]
  },
  {
   "cell_type": "markdown",
   "metadata": {},
   "source": [
    "But now the probability of getting red is the same regardless of which die I chose.  On average, it takes longer to get to red if I chose `d1`, but if I only tell you the outcome and don't tell you how many times I rolled, you have no way of knowing which die I chose.\n",
    "\n",
    "So the posterior is the same as the prior."
   ]
  },
  {
   "cell_type": "code",
   "execution_count": 28,
   "metadata": {
    "collapsed": false
   },
   "outputs": [
    {
     "name": "stdout",
     "output_type": "stream",
     "text": [
      "d2 (reddish) 1/2\n",
      "d1 (bluish)  1/2\n"
     ]
    }
   ],
   "source": [
    "posterior = prior.Copy()\n",
    "posterior.Print()"
   ]
  },
  {
   "cell_type": "markdown",
   "metadata": {},
   "source": [
    "And the predictive distribution is, again, always red."
   ]
  },
  {
   "cell_type": "code",
   "execution_count": 29,
   "metadata": {
    "collapsed": true
   },
   "outputs": [],
   "source": [
    "predictive = Pmf({'Red':1.0})"
   ]
  },
  {
   "cell_type": "markdown",
   "metadata": {
    "collapsed": true
   },
   "source": [
    "### Summary\n",
    "\n",
    "In summary, each of the four scenarios yields a different pair of posterior and predictive distributions.\n",
    "\n",
    "    Scenario        Posterior probability of d2      Predictive probability of red\n",
    "    A               2/3                              1/2\n",
    "    B               2/3                              5/9\n",
    "    C               2/3                              1\n",
    "    D               1/2                              1"
   ]
  },
  {
   "cell_type": "markdown",
   "metadata": {},
   "source": [
    "As an aside, Scenario D is interesting if you know how many times I rolled before getting red.  Here's a `Suite` that takes as data the number of times I rolled, including the last one that came up red:"
   ]
  },
  {
   "cell_type": "code",
   "execution_count": 84,
   "metadata": {
    "collapsed": true
   },
   "outputs": [],
   "source": [
    "class ScenarioD(Suite):\n",
    "    def Likelihood(self, data, hypo):\n",
    "        \"\"\"\n",
    "        data: k, number of times I rolled to get a Red\n",
    "        hypo: a Die object\n",
    "        \"\"\"\n",
    "        p = hypo['Red']\n",
    "        k = data\n",
    "        return (1-p)**(k-1) * p"
   ]
  },
  {
   "cell_type": "markdown",
   "metadata": {},
   "source": [
    "If you know I got red on the first try, that's evidence that I rolled `d2`:"
   ]
  },
  {
   "cell_type": "code",
   "execution_count": 85,
   "metadata": {
    "collapsed": false
   },
   "outputs": [
    {
     "name": "stdout",
     "output_type": "stream",
     "text": [
      "d2 (reddish) 0.6666666666666666\n",
      "d1 (bluish)  0.3333333333333333\n"
     ]
    }
   ],
   "source": [
    "suite = ScenarioD([d1, d2])\n",
    "suite.Update(1)\n",
    "suite.Print()"
   ]
  },
  {
   "cell_type": "markdown",
   "metadata": {},
   "source": [
    "If you know I got it on the second try, that's equally likely with `d1` or `d2`:"
   ]
  },
  {
   "cell_type": "code",
   "execution_count": 86,
   "metadata": {
    "collapsed": false
   },
   "outputs": [
    {
     "name": "stdout",
     "output_type": "stream",
     "text": [
      "d2 (reddish) 0.5\n",
      "d1 (bluish)  0.5\n"
     ]
    }
   ],
   "source": [
    "suite = ScenarioD([d1, d2])\n",
    "suite.Update(2)\n",
    "suite.Print()"
   ]
  },
  {
   "cell_type": "markdown",
   "metadata": {},
   "source": [
    "If it takes three tries or more, that's evidence for `d1`."
   ]
  },
  {
   "cell_type": "code",
   "execution_count": 87,
   "metadata": {
    "collapsed": false
   },
   "outputs": [
    {
     "name": "stdout",
     "output_type": "stream",
     "text": [
      "d2 (reddish) 0.3333333333333333\n",
      "d1 (bluish)  0.6666666666666666\n"
     ]
    }
   ],
   "source": [
    "suite = ScenarioD([d1, d2])\n",
    "suite.Update(3)\n",
    "suite.Print()"
   ]
  },
  {
   "cell_type": "markdown",
   "metadata": {},
   "source": [
    "So if you know how many times I rolled, you get information about the dice.  But if you don't know how many times I rolled, you don't."
   ]
  },
  {
   "cell_type": "markdown",
   "metadata": {},
   "source": [
    "## Medical tests\n",
    "\n",
    "Suppose we test a patient to see if they have a disease, and the test comes back positive.  What is the probability that the patient is actually sick (that is, has the disease)?\n",
    "\n",
    "To answer this question, we need to know:\n",
    "\n",
    "*  The prevalence of the disease in the population the patient is from.  Let's assume the patient is identified as a member of a population where the prevalence is `p`.\n",
    "\n",
    "*  The sensitivity of the test, `s`, which is the probability of a positive test if the patient is sick.\n",
    "\n",
    "*  The false positive rate of the test, `t`, which is the probability of a positive test if the patient is not sick.\n",
    "\n",
    "Given these parameters, we can compute the probability that the patient is sick, given a positive test.\n",
    "\n",
    "### Test class\n",
    "\n",
    "To do that, I'll define a `Test` class that extends `Suite`, so it inherits `Update` and provides `Likelihood`.\n",
    "\n",
    "The instance variables of `Test` are:\n",
    "\n",
    "*  `p`, `s`, and `t`: Copies of the parameters.\n",
    "*  `d`: a dictionary that maps from hypotheses to their probabilities.  The hypotheses are the strings `sick` and `notsick`.\n",
    "*  `likelihood`: a dictionary that encodes the likelihood of the possible data values `pos` and `neg` under the hypotheses.\n",
    "\n"
   ]
  },
  {
   "cell_type": "code",
   "execution_count": 30,
   "metadata": {
    "collapsed": false
   },
   "outputs": [],
   "source": [
    "class Test(Suite):\n",
    "    \"\"\"Represents beliefs about a patient based on a medical test.\"\"\"\n",
    "    \n",
    "    def __init__(self, p, s, t):\n",
    "        # store the parameters\n",
    "        self.p = p\n",
    "        self.s = s\n",
    "        self.t = t\n",
    "        \n",
    "        # initialize the prior probabilities\n",
    "        d = dict(sick=p, notsick=1-p)\n",
    "        super(Test, self).__init__(d)\n",
    "        \n",
    "        # make a nested dictionary to compute likelihoods\n",
    "        self.likelihood = dict(pos=dict(sick=s, notsick=t),\n",
    "                               neg=dict(sick=1-s, notsick=1-t))\n",
    "        \n",
    "    def Likelihood(self, data, hypo):\n",
    "        \"\"\"\n",
    "        data: 'pos' or 'neg'\n",
    "        hypo: 'sick' or 'notsick'\n",
    "        \"\"\"\n",
    "        return self.likelihood[data][hypo]"
   ]
  },
  {
   "cell_type": "markdown",
   "metadata": {},
   "source": [
    "Now we can create a `Test` object with parameters chosen for demonstration purposes (most medical tests are better than this!):"
   ]
  },
  {
   "cell_type": "code",
   "execution_count": 31,
   "metadata": {
    "collapsed": false
   },
   "outputs": [
    {
     "name": "stdout",
     "output_type": "stream",
     "text": [
      "notsick 9/10\n",
      "sick 1/10\n"
     ]
    }
   ],
   "source": [
    "p = 0.1      # prevalence\n",
    "s = 0.9      # sensitivity\n",
    "t = 0.3      # false positive rate\n",
    "p = Fraction(1, 10)\n",
    "s = Fraction(9, 10)\n",
    "t = Fraction(3, 10)\n",
    "test = Test(p, s, t)\n",
    "test.Print()"
   ]
  },
  {
   "cell_type": "markdown",
   "metadata": {},
   "source": [
    "If you are curious, here's the nested dictionary that computes the likelihoods:"
   ]
  },
  {
   "cell_type": "code",
   "execution_count": 32,
   "metadata": {
    "collapsed": false
   },
   "outputs": [
    {
     "data": {
      "text/plain": [
       "{'neg': {'notsick': Fraction(7, 10), 'sick': Fraction(1, 10)},\n",
       " 'pos': {'notsick': Fraction(3, 10), 'sick': Fraction(9, 10)}}"
      ]
     },
     "execution_count": 32,
     "metadata": {},
     "output_type": "execute_result"
    }
   ],
   "source": [
    "test.likelihood"
   ]
  },
  {
   "cell_type": "markdown",
   "metadata": {},
   "source": [
    "And here's how we update the `Test` object with a positive outcome:"
   ]
  },
  {
   "cell_type": "code",
   "execution_count": 33,
   "metadata": {
    "collapsed": false
   },
   "outputs": [
    {
     "name": "stdout",
     "output_type": "stream",
     "text": [
      "notsick 3/4\n",
      "sick 1/4\n"
     ]
    }
   ],
   "source": [
    "test.Update('pos')\n",
    "test.Print()"
   ]
  },
  {
   "cell_type": "markdown",
   "metadata": {},
   "source": [
    "The positive test provides evidence that the patient is sick, increasing the probability from 0.1 to 0.25.\n",
    "\n",
    "### Hierarchical model\n",
    "\n",
    "So far, this is basic Bayesian inference.  Now let's add a wrinkle.  Suppose that we don't know the value of `t` with certainty, but we have reason to believe that `t` is either 0.2 or 0.4 with equal probability.\n",
    "\n",
    "We can represent this belief with a hierarchical model, where the levels of the hierarchy are:\n",
    "\n",
    "*  At the top level, the possible values of `t` and their probabilities.\n",
    "*  At the bottom level, the probability that the patient is sick or not, conditioned on `t`.\n",
    "\n",
    "To represent the hierarchy, I'll define a `MetaTest`, which is a `Suite` that contains `Test` objects with different values of `t` as hypotheses."
   ]
  },
  {
   "cell_type": "code",
   "execution_count": 34,
   "metadata": {
    "collapsed": false
   },
   "outputs": [],
   "source": [
    "class MetaTest(Suite):\n",
    "    \"\"\"Represents a set of tests with different values of `t`.\"\"\"\n",
    "    \n",
    "    def Likelihood(self, data, hypo):\n",
    "        \"\"\"\n",
    "        data: 'pos' or 'neg'\n",
    "        hypo: Test object\n",
    "        \"\"\"\n",
    "        # the return value from `Update` is the total probability of the\n",
    "        # data for a hypothetical value of `t`\n",
    "        return hypo.Update(data)\n",
    "    \n",
    "    def Print(self):\n",
    "        for test, prob in self.Items():\n",
    "            print('t=', test.t, test, prob)"
   ]
  },
  {
   "cell_type": "markdown",
   "metadata": {},
   "source": [
    "To update a `MetaTest`, we update each of the hypothetical `Test` objects.  The return value from `Update` is the normalizing constant, which is the total probability of the data under the hypothesis.\n",
    "\n",
    "We use the normalizing constants from the bottom level of the hierarchy as the likelihoods at the top level.\n",
    "\n",
    "Here's how we create the `MetaTest` for the scenario we described:"
   ]
  },
  {
   "cell_type": "code",
   "execution_count": 35,
   "metadata": {
    "collapsed": false
   },
   "outputs": [
    {
     "name": "stdout",
     "output_type": "stream",
     "text": [
      "t= 1/5 _nolegend_ 1/2\n",
      "t= 2/5 _nolegend_ 1/2\n"
     ]
    }
   ],
   "source": [
    "q = 0.5\n",
    "t1 = 0.2\n",
    "t2 = 0.4\n",
    "q = Fraction(1, 2)\n",
    "t1 = Fraction(2, 10)\n",
    "t2 = Fraction(4, 10)\n",
    "\n",
    "test1 = Test(p, s, t1)\n",
    "test2 = Test(p, s, t2)\n",
    "\n",
    "metatest = MetaTest({test1:q, test2:1-q})\n",
    "metatest.Print()"
   ]
  },
  {
   "cell_type": "markdown",
   "metadata": {},
   "source": [
    "At the top level, there are two tests, with different values of `t`.  Initially, they are equally likely.\n",
    "\n",
    "When we update the `MetaTest`, it updates the embedded `Test` objects and then the `MetaTest` itself."
   ]
  },
  {
   "cell_type": "code",
   "execution_count": 36,
   "metadata": {
    "collapsed": false
   },
   "outputs": [
    {
     "data": {
      "text/plain": [
       "Fraction(9, 25)"
      ]
     },
     "execution_count": 36,
     "metadata": {},
     "output_type": "execute_result"
    }
   ],
   "source": [
    "metatest.Update('pos')"
   ]
  },
  {
   "cell_type": "markdown",
   "metadata": {},
   "source": [
    "Here are the results."
   ]
  },
  {
   "cell_type": "code",
   "execution_count": 37,
   "metadata": {
    "collapsed": false
   },
   "outputs": [
    {
     "name": "stdout",
     "output_type": "stream",
     "text": [
      "t= 1/5 _nolegend_ 3/8\n",
      "t= 2/5 _nolegend_ 5/8\n"
     ]
    }
   ],
   "source": [
    "metatest.Print()"
   ]
  },
  {
   "cell_type": "markdown",
   "metadata": {},
   "source": [
    "Because a positive test is more likely if `t=0.4`, the positive test is evidence in favor of the hypothesis that `t=0.4`.\n",
    "\n",
    "This `MetaTest` object represents what we should believe about `t` after seeing the test, as well as what we should believe about the probability that the patient is sick.\n",
    "\n",
    "### Predictive probabilities\n",
    "\n",
    "To compute the probability that the patient is sick, we have to compute the predictive probabilities of `sick` and `notsick`, averaging over the possible values of `t`.  The following function computes this distribution:"
   ]
  },
  {
   "cell_type": "code",
   "execution_count": 38,
   "metadata": {
    "collapsed": false
   },
   "outputs": [],
   "source": [
    "def MakeMixture(metapmf, label='mix'):\n",
    "    \"\"\"Make a mixture distribution.\n",
    "\n",
    "    Args:\n",
    "      metapmf: Pmf that maps from Pmfs to probs.\n",
    "      label: string label for the new Pmf.\n",
    "\n",
    "    Returns: Pmf object.\n",
    "    \"\"\"\n",
    "    mix = Pmf(label=label)\n",
    "    for pmf, p1 in metapmf.Items():\n",
    "        for x, p2 in pmf.Items():\n",
    "            mix.Incr(x, p1 * p2)\n",
    "    return mix"
   ]
  },
  {
   "cell_type": "markdown",
   "metadata": {},
   "source": [
    "Here's the posterior predictive distribution:"
   ]
  },
  {
   "cell_type": "code",
   "execution_count": 39,
   "metadata": {
    "collapsed": false
   },
   "outputs": [
    {
     "name": "stdout",
     "output_type": "stream",
     "text": [
      "notsick 3/4\n",
      "sick 1/4\n"
     ]
    }
   ],
   "source": [
    "predictive = MakeMixture(metatest)\n",
    "predictive.Print()"
   ]
  },
  {
   "cell_type": "markdown",
   "metadata": {},
   "source": [
    "After seeing the test, the probability that the patient is sick is 0.25, which is the same result we got with `t=0.3`.  So at first glance it seems like we might not need the hierarchical model at all.  Maybe we could have computed the mean of `t` and done a simple update.\n",
    "\n",
    "### Two patients\n",
    "\n",
    "If the goal is to make a single prediction for a single patient, that's true.  But let's try a different scenario.  Suppose you test two patients and they both test positive.  What is the probability that they are both sick?\n",
    "\n",
    "To answer that, I define a few more functions to work with Metatests:"
   ]
  },
  {
   "cell_type": "code",
   "execution_count": 40,
   "metadata": {
    "collapsed": false
   },
   "outputs": [],
   "source": [
    "def MakeMetaTest(p, s, pmf_t):\n",
    "    \"\"\"Makes a MetaTest object with the given parameters.\n",
    "        \n",
    "    p: prevalence\n",
    "    s: sensitivity\n",
    "    pmf_t: Pmf of possible values for `t`\n",
    "    \"\"\"\n",
    "    tests = {}\n",
    "    for t, q in pmf_t.Items():\n",
    "        tests[Test(p, s, t)] = q\n",
    "    return MetaTest(tests)\n",
    "\n",
    "def Marginal(metatest):\n",
    "    \"\"\"Extracts the marginal distribution of t.\n",
    "    \"\"\"\n",
    "    marginal = Pmf()\n",
    "    for test, prob in metatest.Items():\n",
    "        marginal[test.t] = prob\n",
    "    return marginal\n",
    "\n",
    "def Conditional(metatest, t):\n",
    "    \"\"\"Extracts the distribution of sick conditioned on t.\"\"\"\n",
    "    for test, prob in metatest.Items():\n",
    "        if test.t == t:\n",
    "            return test"
   ]
  },
  {
   "cell_type": "markdown",
   "metadata": {},
   "source": [
    "`MakeMetaTest` makes a `MetaTest` object starting with a given PMF of `t`.\n",
    "\n",
    "`Marginal` extracts the PMF of `t` from a `MetaTest`.\n",
    "\n",
    "`Conditional` takes a specified value for `t` and returns the PMF of `sick` and `notsick` conditioned on `t`.\n",
    "\n",
    "I'll test it out using the same parameters from above:"
   ]
  },
  {
   "cell_type": "code",
   "execution_count": 41,
   "metadata": {
    "collapsed": false
   },
   "outputs": [
    {
     "name": "stdout",
     "output_type": "stream",
     "text": [
      "1/5 1/2\n",
      "2/5 1/2\n"
     ]
    }
   ],
   "source": [
    "p = Fraction(1, 10)\n",
    "s = Fraction(9, 10)\n",
    "t = Fraction(3, 10)\n",
    "q = Fraction(1, 2)\n",
    "t1 = Fraction(2, 10)\n",
    "t2 = Fraction(4, 10)\n",
    "\n",
    "pmf_t = Pmf({t1:q, t2:1-q})\n",
    "pmf_t.Print()"
   ]
  },
  {
   "cell_type": "markdown",
   "metadata": {},
   "source": [
    "Here are the results"
   ]
  },
  {
   "cell_type": "code",
   "execution_count": 42,
   "metadata": {
    "collapsed": false
   },
   "outputs": [
    {
     "name": "stdout",
     "output_type": "stream",
     "text": [
      "t= 1/5 _nolegend_ 3/8\n",
      "t= 2/5 _nolegend_ 5/8\n"
     ]
    }
   ],
   "source": [
    "metatest = MakeMetaTest(p, s, pmf_t)\n",
    "metatest.Update('pos')\n",
    "metatest.Print()"
   ]
  },
  {
   "cell_type": "markdown",
   "metadata": {},
   "source": [
    "Same as before.  Now we can extract the posterior distribution of `t`."
   ]
  },
  {
   "cell_type": "code",
   "execution_count": 43,
   "metadata": {
    "collapsed": false
   },
   "outputs": [
    {
     "name": "stdout",
     "output_type": "stream",
     "text": [
      "1/5 3/8\n",
      "2/5 5/8\n"
     ]
    }
   ],
   "source": [
    "Marginal(metatest).Print()"
   ]
  },
  {
   "cell_type": "markdown",
   "metadata": {},
   "source": [
    "Having seen one positive test, we are a little more inclined to believe that `t=0.4`; that is, that the false positive rate is high.\n",
    "\n",
    "And we can extract the conditional distributions for the patient:"
   ]
  },
  {
   "cell_type": "code",
   "execution_count": 44,
   "metadata": {
    "collapsed": false
   },
   "outputs": [
    {
     "name": "stdout",
     "output_type": "stream",
     "text": [
      "notsick 2/3\n",
      "sick 1/3\n"
     ]
    }
   ],
   "source": [
    "cond1 = Conditional(metatest, t1)\n",
    "cond1.Print()"
   ]
  },
  {
   "cell_type": "code",
   "execution_count": 45,
   "metadata": {
    "collapsed": false
   },
   "outputs": [
    {
     "name": "stdout",
     "output_type": "stream",
     "text": [
      "notsick 4/5\n",
      "sick 1/5\n"
     ]
    }
   ],
   "source": [
    "cond2 = Conditional(metatest, t2)\n",
    "cond2.Print()"
   ]
  },
  {
   "cell_type": "markdown",
   "metadata": {},
   "source": [
    "Finally, we can make a predictive distribution for the patient, which is a weighted mixture of the conditional distributions:"
   ]
  },
  {
   "cell_type": "code",
   "execution_count": 46,
   "metadata": {
    "collapsed": false
   },
   "outputs": [
    {
     "name": "stdout",
     "output_type": "stream",
     "text": [
      "notsick 3/4\n",
      "sick 1/4\n"
     ]
    }
   ],
   "source": [
    "predictive = MakeMixture(metatest)\n",
    "predictive.Print()"
   ]
  },
  {
   "cell_type": "markdown",
   "metadata": {},
   "source": [
    "At this point we have a `MetaTest` that contains our updated information about the test (the distribution of `t`) and about the patient that tested positive.\n",
    "\n",
    "Now, to compute the probability that both patients are sick, we have to know the distribution of `t` for both patients.  And that depends on details of the scenario.  There are two possibilities:\n",
    "\n",
    "*  Scenario A: Suppose there are two different tests, with different false positive rates, and we don't know which tests were used.  Or suppose that the false positive rate is different for different groups of people, and we don't know which group the patients are from.  In either case, the values of `t` for the two patients are independent.\n",
    "\n",
    "*  Scenario B: Alternatively, suppose there is only one test and we have reason to believe that the false positive rate is the same for everyone, so `t` is either `t1` for everyone or `t2` for everyone, but we don't know which.  In that case, the value of `t` for the two patients is the same.\n",
    "\n",
    "The probability that both patients are sick is different in these two scenarios.  I'll compute both."
   ]
  },
  {
   "cell_type": "markdown",
   "metadata": {},
   "source": [
    "### Scenario A\n",
    "\n",
    "I'll start by simulating the scenario, which helps specify the scenario unambiguously, and also tells us what the answer should be, at least approximately:"
   ]
  },
  {
   "cell_type": "code",
   "execution_count": 47,
   "metadata": {
    "collapsed": false
   },
   "outputs": [],
   "source": [
    "from random import random\n",
    "\n",
    "def flip(p):\n",
    "    return random() < p"
   ]
  },
  {
   "cell_type": "code",
   "execution_count": 48,
   "metadata": {
    "collapsed": false
   },
   "outputs": [],
   "source": [
    "def generate_pair_A(p, s, pmf_t):\n",
    "    while True:\n",
    "        sick1, sick2 = flip(p), flip(p)\n",
    "        \n",
    "        t = pmf_t.Random()\n",
    "        test1 = flip(s) if sick1 else flip(t)\n",
    "\n",
    "        t = pmf_t.Random()\n",
    "        test2 = flip(s) if sick2 else flip(t)\n",
    "\n",
    "        if test1 and test2:\n",
    "            yield sick1, sick2"
   ]
  },
  {
   "cell_type": "code",
   "execution_count": 49,
   "metadata": {
    "collapsed": false
   },
   "outputs": [
    {
     "name": "stdout",
     "output_type": "stream",
     "text": [
      "(False, False) 0.5621400000000001\n",
      "(False, True) 0.18672000000000002\n",
      "(True, False) 0.18876\n",
      "(True, True) 0.062380000000000005\n"
     ]
    }
   ],
   "source": [
    "p = 0.1\n",
    "s = 0.9\n",
    "q = 0.5\n",
    "t1 = 0.2\n",
    "t2 = 0.4\n",
    "pmf_t = Pmf({t1:q, t2:1-q})\n",
    "\n",
    "pair_iterator = generate_pair_A(p, s, pmf_t)\n",
    "outcomes = Pmf(next(pair_iterator) for i in range(100000))\n",
    "outcomes.Print()"
   ]
  },
  {
   "cell_type": "markdown",
   "metadata": {},
   "source": [
    "In Scenario A, the probability that either patient is sick is independent of the other, the values of `t` are independent, and the probability that either patient tests positive is independent of the other.\n",
    "\n",
    "So we can generate predictive distributions for the two patients separately and then compute the \"sum\" of those distributions (which is their convolution):"
   ]
  },
  {
   "cell_type": "code",
   "execution_count": 50,
   "metadata": {
    "collapsed": false
   },
   "outputs": [
    {
     "name": "stdout",
     "output_type": "stream",
     "text": [
      "notsicknotsick 9/16\n",
      "notsicksick 3/16\n",
      "sicknotsick 3/16\n",
      "sicksick 1/16\n"
     ]
    }
   ],
   "source": [
    "conjunction = MakeMixture(metatest) + MakeMixture(metatest)\n",
    "conjunction.Print()"
   ]
  },
  {
   "cell_type": "markdown",
   "metadata": {},
   "source": [
    "So the probability both patients are sick is 1/16 = 0.0625.\n",
    "\n",
    "As an aside, it is equivalent to convolve the two distributions first and then compute the predictive distribution, but the first way is more efficient."
   ]
  },
  {
   "cell_type": "code",
   "execution_count": 51,
   "metadata": {
    "collapsed": false
   },
   "outputs": [
    {
     "name": "stdout",
     "output_type": "stream",
     "text": [
      "notsicknotsick 9/16\n",
      "notsicksick 3/16\n",
      "sicknotsick 3/16\n",
      "sicksick 1/16\n"
     ]
    }
   ],
   "source": [
    "conjunction = MakeMixture(metatest+metatest)\n",
    "conjunction.Print()"
   ]
  },
  {
   "cell_type": "markdown",
   "metadata": {},
   "source": [
    "Either way, the results are consistent with the simulation."
   ]
  },
  {
   "cell_type": "markdown",
   "metadata": {},
   "source": [
    "### Scenario B\n",
    "\n",
    "In Scenario B we have to work a little harder, because the two patients are not independent of each other.  Each patient gives us information about the test, which influences how we intererpret the test for the patients.\n",
    "\n",
    "And, when we generate the predictive distribution, we have to account for the dependence of the values of `t`.\n",
    "\n",
    "Again, I'll start with a simulation:"
   ]
  },
  {
   "cell_type": "code",
   "execution_count": 52,
   "metadata": {
    "collapsed": false
   },
   "outputs": [],
   "source": [
    "def generate_pair_B(p, s, pmf_t):\n",
    "    while True:\n",
    "        sick1, sick2 = flip(p), flip(p)\n",
    "        \n",
    "        t = pmf_t.Random()\n",
    "        test1 = flip(s) if sick1 else flip(t)\n",
    "\n",
    "        #  Here's the difference\n",
    "        #  t = pmf_t.Random()\n",
    "        test2 = flip(s) if sick2 else flip(t)\n",
    "\n",
    "        if test1 and test2:\n",
    "            yield sick1, sick2"
   ]
  },
  {
   "cell_type": "markdown",
   "metadata": {},
   "source": [
    "The difference between Scenario A and Scenario B is the line I commented out.  In Scenario B, we generate `t` once and it applies to both patients."
   ]
  },
  {
   "cell_type": "code",
   "execution_count": 53,
   "metadata": {
    "collapsed": false
   },
   "outputs": [
    {
     "name": "stdout",
     "output_type": "stream",
     "text": [
      "(False, False) 0.5883700000000001\n",
      "(False, True) 0.17602\n",
      "(True, False) 0.17540000000000003\n",
      "(True, True) 0.06021000000000001\n"
     ]
    }
   ],
   "source": [
    "p = 0.1\n",
    "s = 0.9\n",
    "q = 0.5\n",
    "t1 = 0.2\n",
    "t2 = 0.4\n",
    "pmf_t = Pmf({t1:q, t2:1-q})\n",
    "\n",
    "pair_iterator = generate_pair_B(p, s, pmf_t)\n",
    "outcomes = Pmf(next(pair_iterator) for i in range(100000))\n",
    "outcomes.Print()"
   ]
  },
  {
   "cell_type": "markdown",
   "metadata": {},
   "source": [
    "I'll start again with a `Metatest` that represents posterior belief about the test and the first patient."
   ]
  },
  {
   "cell_type": "code",
   "execution_count": 54,
   "metadata": {
    "collapsed": false
   },
   "outputs": [
    {
     "name": "stdout",
     "output_type": "stream",
     "text": [
      "t= 1/5 _nolegend_ 3/8\n",
      "t= 2/5 _nolegend_ 5/8\n"
     ]
    }
   ],
   "source": [
    "p = Fraction(1, 10)\n",
    "s = Fraction(9, 10)\n",
    "t = Fraction(3, 10)\n",
    "q = Fraction(1, 2)\n",
    "t1 = Fraction(2, 10)\n",
    "t2 = Fraction(4, 10)\n",
    "pmf_t = Pmf({t1:q, t2:1-q})\n",
    "\n",
    "metatest1 = MakeMetaTest(p, s, pmf_t)\n",
    "metatest1.Update('pos')\n",
    "metatest1.Print()"
   ]
  },
  {
   "cell_type": "markdown",
   "metadata": {},
   "source": [
    "Now suppose the second patient arrives.  We need a new `MetaTest` that contains the updated information about the test, but no information about the patient other than the prior proability of being sick, `p`:"
   ]
  },
  {
   "cell_type": "code",
   "execution_count": 55,
   "metadata": {
    "collapsed": false
   },
   "outputs": [
    {
     "name": "stdout",
     "output_type": "stream",
     "text": [
      "t= 1/5 _nolegend_ 3/8\n",
      "t= 2/5 _nolegend_ 5/8\n"
     ]
    }
   ],
   "source": [
    "metatest2 = MakeMetaTest(p, s, Marginal(metatest1))\n",
    "metatest2.Print()"
   ]
  },
  {
   "cell_type": "markdown",
   "metadata": {},
   "source": [
    "Now we can update this `MetaTest` with the result from the second test:"
   ]
  },
  {
   "cell_type": "code",
   "execution_count": 56,
   "metadata": {
    "collapsed": false
   },
   "outputs": [
    {
     "name": "stdout",
     "output_type": "stream",
     "text": [
      "t= 1/5 _nolegend_ 9/34\n",
      "t= 2/5 _nolegend_ 25/34\n"
     ]
    }
   ],
   "source": [
    "metatest2.Update('pos')\n",
    "metatest2.Print()"
   ]
  },
  {
   "cell_type": "markdown",
   "metadata": {},
   "source": [
    "This distribution contains updated information about the test, based on two positive outcomes, and updated information about a patient who has tested positive (once)."
   ]
  },
  {
   "cell_type": "code",
   "execution_count": 57,
   "metadata": {
    "collapsed": false
   },
   "outputs": [
    {
     "name": "stdout",
     "output_type": "stream",
     "text": [
      "notsick 13/17\n",
      "sick 4/17\n"
     ]
    }
   ],
   "source": [
    "predictive = MakeMixture(metatest2)\n",
    "predictive.Print()"
   ]
  },
  {
   "cell_type": "markdown",
   "metadata": {},
   "source": [
    "After two tests, the probability that the patient is sick is slightly lower than after one (4/17 is about 0.235, compared to 0.25).  That's because the second positive test increases our belief that the false positive rate is high (t=0.4), which decreases our belief that either patient is sick.\n",
    "\n",
    "To compute the probability that both are sick, we can't just convolve the predictive distribution with itself, because the selection of `t` is not independent for the two patients.  Instead, we have to make a weighted mixture of conditional distributions.\n",
    "\n",
    "If we know `t=t1`, we can compute the joint distribution for the two patients:"
   ]
  },
  {
   "cell_type": "code",
   "execution_count": 58,
   "metadata": {
    "collapsed": false
   },
   "outputs": [
    {
     "name": "stdout",
     "output_type": "stream",
     "text": [
      "notsicknotsick 4/9\n",
      "notsicksick 2/9\n",
      "sicknotsick 2/9\n",
      "sicksick 1/9\n"
     ]
    }
   ],
   "source": [
    "cond_t1 = Conditional(metatest2, t1)\n",
    "conjunction_t1 = cond_t1 + cond_t1\n",
    "conjunction_t1.Print()"
   ]
  },
  {
   "cell_type": "markdown",
   "metadata": {},
   "source": [
    "If we know that `t=t1`, the probability of `sicksick` is 0.111.  And for `t=t2`:"
   ]
  },
  {
   "cell_type": "code",
   "execution_count": 59,
   "metadata": {
    "collapsed": false
   },
   "outputs": [
    {
     "name": "stdout",
     "output_type": "stream",
     "text": [
      "notsicknotsick 16/25\n",
      "notsicksick 4/25\n",
      "sicknotsick 4/25\n",
      "sicksick 1/25\n"
     ]
    }
   ],
   "source": [
    "cond_t2 = Conditional(metatest2, t2)\n",
    "conjunction_t2 = cond_t2 + cond_t2\n",
    "conjunction_t2.Print()"
   ]
  },
  {
   "cell_type": "markdown",
   "metadata": {},
   "source": [
    "If we know that `t=t2`, the probability of `sicksick` is 0.04.\n",
    "\n",
    "The overall probability of `sicksick` is the weighted average of these probabilities:"
   ]
  },
  {
   "cell_type": "code",
   "execution_count": 60,
   "metadata": {
    "collapsed": false
   },
   "outputs": [
    {
     "data": {
      "text/plain": [
       "Fraction(1, 17)"
      ]
     },
     "execution_count": 60,
     "metadata": {},
     "output_type": "execute_result"
    }
   ],
   "source": [
    "posterior_t = Marginal(metatest2)\n",
    "posterior_t[t1] * conjunction_t1['sicksick'] + posterior_t[t2] * conjunction_t2['sicksick']"
   ]
  },
  {
   "cell_type": "markdown",
   "metadata": {},
   "source": [
    "1/17 is about 0.0588.\n",
    "\n",
    "To compute the probabilities for all four outcomes, I'll make a `Metapmf` that contains the two conditional distributions."
   ]
  },
  {
   "cell_type": "code",
   "execution_count": 61,
   "metadata": {
    "collapsed": false
   },
   "outputs": [
    {
     "name": "stdout",
     "output_type": "stream",
     "text": [
      "_nolegend_ 25/34\n",
      "_nolegend_ 9/34\n"
     ]
    }
   ],
   "source": [
    "metapmf = Pmf()\n",
    "for t, prob in Marginal(metatest2).Items():\n",
    "    cond = Conditional(metatest2, t)\n",
    "    conjunction = cond + cond\n",
    "    metapmf[conjunction] = prob\n",
    "    \n",
    "metapmf.Print()"
   ]
  },
  {
   "cell_type": "markdown",
   "metadata": {},
   "source": [
    "And finally we can use `MakeMixture` to compute the weighted averages of the posterior probabilities:"
   ]
  },
  {
   "cell_type": "code",
   "execution_count": 62,
   "metadata": {
    "collapsed": false
   },
   "outputs": [
    {
     "name": "stdout",
     "output_type": "stream",
     "text": [
      "notsicknotsick 10/17\n",
      "notsicksick 3/17\n",
      "sicknotsick 3/17\n",
      "sicksick 1/17\n"
     ]
    }
   ],
   "source": [
    "predictive = MakeMixture(metapmf)\n",
    "predictive.Print()"
   ]
  },
  {
   "cell_type": "markdown",
   "metadata": {},
   "source": [
    "### Summary\n",
    "\n",
    "In summary:\n",
    "\n",
    "*  In Scenario A, the values of `t` for the two patients are independent, and the probability that both are sick is 1/16 = 0.0625.\n",
    "\n",
    "*  In Scenario B, the value of `t` has to be the same for both patients, and the probability that both are sick is 1/17 ≈ 0.0588.\n",
    "\n",
    "A real scenario might combine elements of both; that is, the false positive rate might be different for different people, and we might have some uncertainty about what it is.  In that case, the most accurate predictive probability might be anywhere between the values we computed."
   ]
  },
  {
   "cell_type": "markdown",
   "metadata": {},
   "source": [
    "### Scenarios C and D\n",
    "\n",
    "In Scenario B, I assumed that we see all patients regardless of whether they are sick or not, test positive or not.\n",
    "\n",
    "In that case, when we see a positive test, it provides evidence that the false positive rate is high.  As a result, as we see more patients, we get more and more confident about the value of `t`.\n",
    "\n",
    "I'll demonstrate this with a simulation.  Here are the usual parameters:"
   ]
  },
  {
   "cell_type": "code",
   "execution_count": 63,
   "metadata": {
    "collapsed": false
   },
   "outputs": [],
   "source": [
    "p = 0.1\n",
    "s = 0.9\n",
    "q = 0.5\n",
    "t1 = 0.2\n",
    "t2 = 0.4\n",
    "pmf_t = Pmf({t1:q, t2:1-q})"
   ]
  },
  {
   "cell_type": "markdown",
   "metadata": {},
   "source": [
    "And here's a generator that simulates patients for given parameters:"
   ]
  },
  {
   "cell_type": "code",
   "execution_count": 64,
   "metadata": {
    "collapsed": false
   },
   "outputs": [],
   "source": [
    "def generate_patient_all(p, s, t):\n",
    "    while True:\n",
    "        sick = flip(p)\n",
    "        test = flip(s) if sick else flip(t)\n",
    "        yield 'pos' if test else 'neg'"
   ]
  },
  {
   "cell_type": "markdown",
   "metadata": {},
   "source": [
    "Now we can simulate a doctor who sees 100 patients and updates `metatest` each time."
   ]
  },
  {
   "cell_type": "code",
   "execution_count": 65,
   "metadata": {
    "collapsed": false
   },
   "outputs": [],
   "source": [
    "def run_simulation(p, s, pmf_t, iterator):\n",
    "    metatest = MakeMetaTest(p, s, pmf_t)\n",
    "\n",
    "    for i in range(100):\n",
    "        data = next(iterator)\n",
    "        metatest = MakeMetaTest(p, s, Marginal(metatest))\n",
    "        metatest.Update(data)\n",
    "\n",
    "    Marginal(metatest).Print()"
   ]
  },
  {
   "cell_type": "markdown",
   "metadata": {},
   "source": [
    "If `t` is actually 0.2, the doctor eventually becomes convinced that `t=0.2`"
   ]
  },
  {
   "cell_type": "code",
   "execution_count": 66,
   "metadata": {
    "collapsed": false
   },
   "outputs": [
    {
     "name": "stdout",
     "output_type": "stream",
     "text": [
      "0.2 0.9949736445038064\n",
      "0.4 0.005026355496193581\n"
     ]
    }
   ],
   "source": [
    "t = 0.2\n",
    "iterator = generate_patient_all(p, s, t)\n",
    "run_simulation(p, s, pmf_t, iterator)"
   ]
  },
  {
   "cell_type": "markdown",
   "metadata": {},
   "source": [
    "And if `t` is actually 0.4, the doctor eventually becomes convinced that `t=0.4`"
   ]
  },
  {
   "cell_type": "code",
   "execution_count": 67,
   "metadata": {
    "collapsed": false
   },
   "outputs": [
    {
     "name": "stdout",
     "output_type": "stream",
     "text": [
      "0.2 0.000601664342045809\n",
      "0.4 0.9993983356579543\n"
     ]
    }
   ],
   "source": [
    "t = 0.4\n",
    "iterator = generate_patient_all(p, s, t)\n",
    "run_simulation(p, s, pmf_t, iterator)"
   ]
  },
  {
   "cell_type": "markdown",
   "metadata": {},
   "source": [
    "So far, so good.  \n",
    "\n",
    "But what if the doctor is a specialist who only sees patients after they have tested positive?\n",
    "\n",
    "Here's a generator that simulates this scenario."
   ]
  },
  {
   "cell_type": "code",
   "execution_count": 68,
   "metadata": {
    "collapsed": true
   },
   "outputs": [],
   "source": [
    "def generate_patient_posonly(p, s, t):\n",
    "    while True:\n",
    "        sick = flip(p)\n",
    "        test = flip(s) if sick else flip(t)\n",
    "        if test:\n",
    "            yield 'pos'"
   ]
  },
  {
   "cell_type": "markdown",
   "metadata": {},
   "source": [
    "Now if the doctor applies the same logic as before, updating their belief about the test each time they see a positive test, they are quickly convinced that `t` is high, regardless of the actual value"
   ]
  },
  {
   "cell_type": "code",
   "execution_count": 69,
   "metadata": {
    "collapsed": false
   },
   "outputs": [
    {
     "name": "stdout",
     "output_type": "stream",
     "text": [
      "0.2 6.533186235000651e-23\n",
      "0.4 1.0\n"
     ]
    }
   ],
   "source": [
    "t = 0.2\n",
    "iterator = generate_patient_posonly(p, s, t)\n",
    "run_simulation(p, s, pmf_t, iterator)"
   ]
  },
  {
   "cell_type": "code",
   "execution_count": 70,
   "metadata": {
    "collapsed": false
   },
   "outputs": [
    {
     "name": "stdout",
     "output_type": "stream",
     "text": [
      "0.2 6.533186235000651e-23\n",
      "0.4 1.0\n"
     ]
    }
   ],
   "source": [
    "t = 0.4\n",
    "iterator = generate_patient_posonly(p, s, t)\n",
    "run_simulation(p, s, pmf_t, iterator)"
   ]
  },
  {
   "cell_type": "markdown",
   "metadata": {},
   "source": [
    "So that's not good.\n",
    "\n",
    "We have to figure out how to update our belief about `t` in this case.  I'll define `r` as the referral rate for patients who test negative.  If `r=1`, we see all patients, as in Scenarios A and B.\n",
    "\n",
    "If `r=0` we only see patients who tests positive.\n",
    "\n",
    "If we know `p`, `s`, `t`, and `r`, we can compute the probability of seeing a patient with a positive test:"
   ]
  },
  {
   "cell_type": "code",
   "execution_count": 71,
   "metadata": {
    "collapsed": false
   },
   "outputs": [],
   "source": [
    "def prob_pos(p, s, t, r):\n",
    "    yes = p*s + (1-p) * t\n",
    "    no = p * (1-s) + (1-p) * (1-t)\n",
    "    return yes / (yes + no * r)"
   ]
  },
  {
   "cell_type": "markdown",
   "metadata": {},
   "source": [
    "Here are the probabilities of seeing a patient with a positive test for the two values of `t`:"
   ]
  },
  {
   "cell_type": "code",
   "execution_count": 72,
   "metadata": {
    "collapsed": false
   },
   "outputs": [
    {
     "data": {
      "text/plain": [
       "(Fraction(27, 100), Fraction(9, 20))"
      ]
     },
     "execution_count": 72,
     "metadata": {},
     "output_type": "execute_result"
    }
   ],
   "source": [
    "p = Fraction(1, 10)\n",
    "s = Fraction(9, 10)\n",
    "t = Fraction(3, 10)\n",
    "q = Fraction(1, 2)\n",
    "t1 = Fraction(2, 10)\n",
    "t2 = Fraction(4, 10)\n",
    "pmf_t = Pmf({t1:q, t2:1-q})\n",
    "\n",
    "pp1 = prob_pos(p, s, t1, 1)\n",
    "pp2 = prob_pos(p, s, t2, 1)\n",
    "pp1, pp2"
   ]
  },
  {
   "cell_type": "markdown",
   "metadata": {},
   "source": [
    "Since these probabilities are the likelihood of the data, we can use them to update our belief about `t`.  Here's what we get with `r=1`."
   ]
  },
  {
   "cell_type": "code",
   "execution_count": 73,
   "metadata": {
    "collapsed": false
   },
   "outputs": [
    {
     "name": "stdout",
     "output_type": "stream",
     "text": [
      "1/5 3/8\n",
      "2/5 5/8\n"
     ]
    }
   ],
   "source": [
    "pmf_t = Pmf({t1:q, t2:1-q})\n",
    "pmf_t[t1] *= prob_pos(p, s, t1, r=1)\n",
    "pmf_t[t2] *= prob_pos(p, s, t2, r=1)\n",
    "pmf_t.Normalize()\n",
    "pmf_t.Print()"
   ]
  },
  {
   "cell_type": "markdown",
   "metadata": {},
   "source": [
    "And that's consistent with what we saw in Scenarios A and B.\n",
    "\n",
    "But when `r=0`, we only see patients with positive test.  The probability of the data is 1, regardless of `t`, so the data have no effect on our belief about `t`."
   ]
  },
  {
   "cell_type": "code",
   "execution_count": 74,
   "metadata": {
    "collapsed": false
   },
   "outputs": [
    {
     "name": "stdout",
     "output_type": "stream",
     "text": [
      "1/5 1/2\n",
      "2/5 1/2\n"
     ]
    }
   ],
   "source": [
    "pmf_t = Pmf({t1:q, t2:1-q})\n",
    "pmf_t[t1] *= prob_pos(p, s, t1, 0)\n",
    "pmf_t[t2] *= prob_pos(p, s, t2, 0)\n",
    "pmf_t.Normalize()\n",
    "pmf_t.Print()"
   ]
  },
  {
   "cell_type": "markdown",
   "metadata": {},
   "source": [
    "To compute the probability that the patient is sick, we can make a `MetaTest` and update the `Test` objects it contains, but we don't update the top level of the hierarchy."
   ]
  },
  {
   "cell_type": "code",
   "execution_count": 75,
   "metadata": {
    "collapsed": false
   },
   "outputs": [
    {
     "name": "stdout",
     "output_type": "stream",
     "text": [
      "t= 1/5 _nolegend_ 1/2\n",
      "t= 2/5 _nolegend_ 1/2\n"
     ]
    }
   ],
   "source": [
    "metatest = MakeMetaTest(p, s, pmf_t)\n",
    "for test in metatest:\n",
    "    test.Update('pos')\n",
    "    \n",
    "metatest.Print()"
   ]
  },
  {
   "cell_type": "markdown",
   "metadata": {},
   "source": [
    "Now we can generate the predictive distribution as usual:"
   ]
  },
  {
   "cell_type": "code",
   "execution_count": 76,
   "metadata": {
    "collapsed": false
   },
   "outputs": [
    {
     "name": "stdout",
     "output_type": "stream",
     "text": [
      "notsick 11/15\n",
      "sick 4/15\n"
     ]
    }
   ],
   "source": [
    "predictive = MakeMixture(metatest)\n",
    "predictive.Print()"
   ]
  },
  {
   "cell_type": "markdown",
   "metadata": {},
   "source": [
    "To compute the probability that two patients who test positive are sick, we have to deal with two cases again.  \n",
    "\n",
    "### Scenario C\n",
    "\n",
    "If the value of `t` is independent for all patients, we just compute the convolution of the predictive distribution with itself."
   ]
  },
  {
   "cell_type": "code",
   "execution_count": 77,
   "metadata": {
    "collapsed": false
   },
   "outputs": [
    {
     "name": "stdout",
     "output_type": "stream",
     "text": [
      "notsicknotsick 121/225\n",
      "notsicksick 44/225\n",
      "sicknotsick 44/225\n",
      "sicksick 16/225\n"
     ]
    }
   ],
   "source": [
    "conjunction = predictive + predictive\n",
    "conjunction.Print()"
   ]
  },
  {
   "cell_type": "markdown",
   "metadata": {},
   "source": [
    "### Scenario D\n",
    "\n",
    "Or, if we think the value of `t` is the same for all patients, we have to use the same technique we used in Scenario B."
   ]
  },
  {
   "cell_type": "code",
   "execution_count": 78,
   "metadata": {
    "collapsed": false
   },
   "outputs": [
    {
     "name": "stdout",
     "output_type": "stream",
     "text": [
      "_nolegend_ 1/2\n",
      "_nolegend_ 1/2\n"
     ]
    }
   ],
   "source": [
    "metapmf = Pmf()\n",
    "for t, prob in Marginal(metatest).Items():\n",
    "    cond = Conditional(metatest, t)\n",
    "    conjunction = cond + cond\n",
    "    metapmf[conjunction] = prob\n",
    "    \n",
    "metapmf.Print()"
   ]
  },
  {
   "cell_type": "code",
   "execution_count": 79,
   "metadata": {
    "collapsed": false
   },
   "outputs": [
    {
     "name": "stdout",
     "output_type": "stream",
     "text": [
      "notsicknotsick 122/225\n",
      "notsicksick 43/225\n",
      "sicknotsick 43/225\n",
      "sicksick 17/225\n"
     ]
    }
   ],
   "source": [
    "MakeMixture(metapmf).Print()"
   ]
  },
  {
   "cell_type": "code",
   "execution_count": 80,
   "metadata": {
    "collapsed": false
   },
   "outputs": [
    {
     "data": {
      "text/plain": [
       "(0.06274509803921569, 0.07555555555555556)"
      ]
     },
     "execution_count": 80,
     "metadata": {},
     "output_type": "execute_result"
    }
   ],
   "source": [
    "16/255, 17/225"
   ]
  },
  {
   "cell_type": "markdown",
   "metadata": {},
   "source": [
    "### Summary\n",
    "\n",
    "There are four possible answers to this question, depending on two details of the scenario.\n",
    "\n",
    "Scenario A: We see all patients, and different patients/tests have different values of `t`.  In this case, the probability one patient is sick, given a positive test, is 1/4, and the probability that two patients are sick, given that each of them has tested positive, is 1/16 = 0.0625.\n",
    "\n",
    "Scenario B: We see all patients, and the value of `t` is the same for everyone.  The probability that one patient is sick is 1/4 (same as A), but the probability for two patients is 4/17 = 0.0588.\n",
    "\n",
    "Scenario C: We only see patients who test positive, and different patients/tests have different values of `t`.  The probability for one patient is 4/15; for two it's 16/225.\n",
    "\n",
    "Scenario D: We only see patients who test positive, and the value of `t` is the same for everyone.  The probability for one patient is 4/15 (same as C); for two it's 17/225."
   ]
  },
  {
   "cell_type": "code",
   "execution_count": null,
   "metadata": {
    "collapsed": false
   },
   "outputs": [],
   "source": []
  },
  {
   "cell_type": "markdown",
   "metadata": {},
   "source": []
  },
  {
   "cell_type": "code",
   "execution_count": null,
   "metadata": {
    "collapsed": true
   },
   "outputs": [],
   "source": []
  }
 ],
 "metadata": {
  "kernelspec": {
   "display_name": "Python 3",
   "language": "python",
   "name": "python3"
  },
  "language_info": {
   "codemirror_mode": {
    "name": "ipython",
    "version": 3
   },
   "file_extension": ".py",
   "mimetype": "text/x-python",
   "name": "python",
   "nbconvert_exporter": "python",
   "pygments_lexer": "ipython3",
   "version": "3.5.1"
  }
 },
 "nbformat": 4,
 "nbformat_minor": 0
}
