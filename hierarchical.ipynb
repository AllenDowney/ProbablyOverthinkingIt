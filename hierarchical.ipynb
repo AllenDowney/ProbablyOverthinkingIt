{
 "cells": [
  {
   "cell_type": "markdown",
   "metadata": {},
   "source": [
    "Title\n",
    "-----------------------------------------\n",
    "\n",
    "Description\n",
    "\n",
    "Copyright 2016 Allen Downey\n",
    "\n",
    "MIT License: http://opensource.org/licenses/MIT"
   ]
  },
  {
   "cell_type": "code",
   "execution_count": 1,
   "metadata": {
    "collapsed": false
   },
   "outputs": [],
   "source": [
    "from __future__ import print_function, division\n",
    "\n",
    "import thinkbayes2\n",
    "import thinkplot\n",
    "\n",
    "from thinkbayes2 import Pmf, Suite\n",
    "\n",
    "import numpy as np\n",
    "from scipy import stats\n",
    "\n",
    "%matplotlib inline"
   ]
  },
  {
   "cell_type": "markdown",
   "metadata": {},
   "source": [
    "Suppose we test a patient to see if they have a disease, and the test comes back positive.  What is the probability that the patient is actually sick (that is, has the disease)?\n",
    "\n",
    "To answer this question, we need to know:\n",
    "\n",
    "*  The prevalence of the disease in the population the patient is from.  Let's assume the patient is identified as a member of a population where the prevalence is `p`.\n",
    "\n",
    "*  The sensitivity of the test, `s`, which is the probability of a positive test if the patient is sick.\n",
    "\n",
    "*  The false positive rate of the test, `t`, which is the probability of a positive test if the patient is not sick.\n",
    "\n",
    "Given these parameters, we can compute the probability that the patient is sick, given a positive test.\n",
    "\n",
    "### Test class\n",
    "\n",
    "To do that, I'll define a `Test` class that extends `Suite`, so it inherits `Update` and provides `Likelihood`.\n",
    "\n",
    "The instance variables of `Test` are:\n",
    "\n",
    "*  `p`, `s`, and `t`: Copies of the parameters.\n",
    "*  `d`: a dictionary that maps from hypotheses to their probabilities.  The hypotheses are the strings `sick` and `notsick`.\n",
    "*  `likelihood`: a dictionary that encodes the likelihood of the possible data values `pos` and `neg` under the hypotheses.\n",
    "\n"
   ]
  },
  {
   "cell_type": "code",
   "execution_count": 2,
   "metadata": {
    "collapsed": false
   },
   "outputs": [],
   "source": [
    "class Test(Suite):\n",
    "    def __init__(self, p, s, t):\n",
    "        self.p = p\n",
    "        self.s = s\n",
    "        self.t = t\n",
    "        d = dict(sick=p, notsick=1-p)\n",
    "        super(Test, self).__init__(d)\n",
    "        self.likelihood = dict(pos=dict(sick=s, notsick=t),\n",
    "                               neg=dict(sick=1-s, notsick=1-t))\n",
    "        \n",
    "    def Likelihood(self, data, hypo):\n",
    "        \"\"\"\n",
    "        data: 'pos' or 'neg'\n",
    "        hypo: 'sick' or 'notsick'\n",
    "        \"\"\"\n",
    "        return self.likelihood[data][hypo]"
   ]
  },
  {
   "cell_type": "markdown",
   "metadata": {},
   "source": [
    "Now we can create a `Test` object with parameters chosen for demonstration purposes (most medical tests are better than this!):"
   ]
  },
  {
   "cell_type": "code",
   "execution_count": 3,
   "metadata": {
    "collapsed": false
   },
   "outputs": [
    {
     "name": "stdout",
     "output_type": "stream",
     "text": [
      "notsick 0.9\n",
      "sick 0.1\n"
     ]
    }
   ],
   "source": [
    "p = 0.1      # prevalence\n",
    "s = 0.9      # sensitivity\n",
    "t = 0.3      # false positive rate\n",
    "test = Test(p, s, t)\n",
    "test.Print()"
   ]
  },
  {
   "cell_type": "markdown",
   "metadata": {},
   "source": [
    "And here's how we update the `Test` object with a positive outcome:"
   ]
  },
  {
   "cell_type": "code",
   "execution_count": 4,
   "metadata": {
    "collapsed": false
   },
   "outputs": [
    {
     "name": "stdout",
     "output_type": "stream",
     "text": [
      "notsick 0.75\n",
      "sick 0.25\n"
     ]
    }
   ],
   "source": [
    "test.Update('pos')\n",
    "test.Print()"
   ]
  },
  {
   "cell_type": "markdown",
   "metadata": {},
   "source": [
    "The positive test provides evidence that the patient is sick, increasing the probability from 0.1 to 0.25.\n",
    "\n",
    "### Hierarchical model\n",
    "\n",
    "So far, this is basic Bayesian inference.  Now let's add a wrinkle.  Suppose that we don't know the value of `t` with certainty, but we have reason to believe that `t` is either 0.2 or 0.4 with equal probability.\n",
    "\n",
    "We can represent this belief with a hierarchical model, where the levels of the hierarchy are:\n",
    "\n",
    "*  At the top level, the distribution of possible values for `t`, and their probabilities.\n",
    "*  At the bottom level, the probability that the patient is sick or not, conditioned on `t`.\n",
    "\n",
    "To represent the hierarchy, I'll define a `MetaTest`, which is a `Suite` that contains `Test` objects with different values of `t` as hypotheses."
   ]
  },
  {
   "cell_type": "code",
   "execution_count": 5,
   "metadata": {
    "collapsed": false
   },
   "outputs": [],
   "source": [
    "class MetaTest(Suite):\n",
    "    def Likelihood(self, data, hypo):\n",
    "        \"\"\"\n",
    "        data: 'pos' or 'neg'\n",
    "        hypo: Test object\n",
    "        \"\"\"\n",
    "        return hypo.Update(data)\n",
    "    \n",
    "    def Print(self):\n",
    "        for test, prob in self.Items():\n",
    "            print('t=', test.t, test, prob)"
   ]
  },
  {
   "cell_type": "markdown",
   "metadata": {},
   "source": [
    "To update a `MetaTest`, we update each of the hypothetical `Test` objects.  The return value from `Update` is the normalizing constant, which is the total probability of the data under the hypothesis.\n",
    "\n",
    "We use the normalizing constants from the bottom level of the hierarchy as the likelihoods at the top level.\n",
    "\n",
    "Here's how we create the `MetaTest` for the scenario we described:"
   ]
  },
  {
   "cell_type": "code",
   "execution_count": 6,
   "metadata": {
    "collapsed": false
   },
   "outputs": [
    {
     "name": "stdout",
     "output_type": "stream",
     "text": [
      "t= 0.2 Test({'sick': 0.1, 'notsick': 0.9}) 0.5\n",
      "t= 0.4 Test({'sick': 0.1, 'notsick': 0.9}) 0.5\n"
     ]
    }
   ],
   "source": [
    "q = 0.5\n",
    "t1 = 0.2\n",
    "t2 = 0.4\n",
    "\n",
    "test1 = Test(p, s, t1)\n",
    "test2 = Test(p, s, t2)\n",
    "\n",
    "metatest = MetaTest({test1:q, test2:1-q})\n",
    "metatest.Print()"
   ]
  },
  {
   "cell_type": "markdown",
   "metadata": {},
   "source": [
    "At the top level, there are two tests, with different values of `t`.  Initially, they are equally likely.\n",
    "\n",
    "When we update the `MetaTest`, it updates the embedded `Test` objects and then the `MetaTest` itself."
   ]
  },
  {
   "cell_type": "code",
   "execution_count": 7,
   "metadata": {
    "collapsed": false
   },
   "outputs": [
    {
     "data": {
      "text/plain": [
       "0.36000000000000004"
      ]
     },
     "execution_count": 7,
     "metadata": {},
     "output_type": "execute_result"
    }
   ],
   "source": [
    "metatest.Update('pos')"
   ]
  },
  {
   "cell_type": "markdown",
   "metadata": {},
   "source": [
    "Here are the results."
   ]
  },
  {
   "cell_type": "code",
   "execution_count": 8,
   "metadata": {
    "collapsed": false
   },
   "outputs": [
    {
     "name": "stdout",
     "output_type": "stream",
     "text": [
      "t= 0.2 Test({'sick': 0.3333333333333333, 'notsick': 0.6666666666666666}) 0.375\n",
      "t= 0.4 Test({'sick': 0.19999999999999998, 'notsick': 0.7999999999999999}) 0.625\n"
     ]
    }
   ],
   "source": [
    "metatest.Print()"
   ]
  },
  {
   "cell_type": "markdown",
   "metadata": {},
   "source": [
    "Because a positive test is more likely if `t=0.4`, the positive test is evidence in favor of the hypothesis that `t=0.4`.\n",
    "\n",
    "This `MetaTest` object represents what we should believe about `t` after seeing the test, and what we should believe about the probability that the patient is sick.\n",
    "\n",
    "### Marginal probabilities\n",
    "\n",
    "To compute the probability that the patient is sick, we have to compute the marginal probabilities of `sick` and `notsick`, averaging over the possible values of `t`.  The following function computes this marginal distribution:"
   ]
  },
  {
   "cell_type": "code",
   "execution_count": 9,
   "metadata": {
    "collapsed": false
   },
   "outputs": [],
   "source": [
    "def Marginal(metatest):\n",
    "    pmf = thinkbayes2.Pmf()\n",
    "    for test, p1 in metatest.Items():\n",
    "        for hypo, p2 in test.Items():\n",
    "            pmf[hypo] += p1 * p2\n",
    "    return pmf"
   ]
  },
  {
   "cell_type": "markdown",
   "metadata": {},
   "source": [
    "Here's the marginal posterior:"
   ]
  },
  {
   "cell_type": "code",
   "execution_count": 10,
   "metadata": {
    "collapsed": false
   },
   "outputs": [
    {
     "name": "stdout",
     "output_type": "stream",
     "text": [
      "notsick 0.75\n",
      "sick 0.25\n"
     ]
    }
   ],
   "source": [
    "posterior = Marginal(metatest)\n",
    "posterior.Print()"
   ]
  },
  {
   "cell_type": "markdown",
   "metadata": {},
   "source": [
    "After seeing the test, the probability that the patient is sick is 0.25, which is the same result we got with `t=0.3`.  So at first glance it seems like we might not need the hierarchical model at all.  Maybe we could have computed the mean of `t` and done a simple update.\n",
    "\n",
    "### Two patients\n",
    "\n",
    "If the goal is to make a single prediction for a single patient, that's true.  But let's try a different scenario.  Suppose you test two patients and they both test positive.  What is the probability that they are both sick?\n",
    "\n",
    "To answer that, I'm going to define a `Patient` class that contains a `MetaTest` and provides some methods for interpreting the results:"
   ]
  },
  {
   "cell_type": "code",
   "execution_count": 11,
   "metadata": {
    "collapsed": false
   },
   "outputs": [],
   "source": [
    "class Patient:\n",
    "    def __init__(self, p, s, pmf_t):\n",
    "        tests = {}\n",
    "        for t, q in pmf_t.Items():\n",
    "            tests[Test(p, s, t)] = q\n",
    "        self.metatest = MetaTest(tests)\n",
    "        \n",
    "    def Update(self, data):\n",
    "        self.metatest.Update(data)\n",
    "        \n",
    "    def Marginal(self):\n",
    "        return Marginal(self.metatest)\n",
    "    \n",
    "    def Conditional(self, t):\n",
    "        for test, prob in self.metatest.Items():\n",
    "            if test.t == t:\n",
    "                return test, prob"
   ]
  },
  {
   "cell_type": "markdown",
   "metadata": {},
   "source": [
    "`Marginal` computes the marginal probabilities of `sick` and `notsick`, averaging over the possible values of `t`.\n",
    "\n",
    "`Conditional` takes a specified value for `t` and returns the probabilities of `sick` and `notsick` conditioned on `t`.\n",
    "\n",
    "I'll test it out using the same parameters from above:"
   ]
  },
  {
   "cell_type": "code",
   "execution_count": 12,
   "metadata": {
    "collapsed": false
   },
   "outputs": [
    {
     "name": "stdout",
     "output_type": "stream",
     "text": [
      "0.2 0.5\n",
      "0.4 0.5\n"
     ]
    }
   ],
   "source": [
    "q = 0.5\n",
    "t1 = 0.2\n",
    "t2 = 0.4\n",
    "pmf_t = Pmf({t1:q, t2:1-q})\n",
    "pmf_t.Print()"
   ]
  },
  {
   "cell_type": "markdown",
   "metadata": {},
   "source": [
    "Here are the results"
   ]
  },
  {
   "cell_type": "code",
   "execution_count": 13,
   "metadata": {
    "collapsed": false
   },
   "outputs": [
    {
     "name": "stdout",
     "output_type": "stream",
     "text": [
      "t= 0.2 Test({'sick': 0.3333333333333333, 'notsick': 0.6666666666666666}) 0.375\n",
      "t= 0.4 Test({'sick': 0.19999999999999998, 'notsick': 0.7999999999999999}) 0.625\n"
     ]
    }
   ],
   "source": [
    "patient1 = Patient(p, s, pmf_t)\n",
    "patient1.Update('pos')\n",
    "patient1.metatest.Print()"
   ]
  },
  {
   "cell_type": "markdown",
   "metadata": {},
   "source": [
    "These are the same as the results we saw before.  Now we can extract the marginal distribution:"
   ]
  },
  {
   "cell_type": "code",
   "execution_count": 14,
   "metadata": {
    "collapsed": false
   },
   "outputs": [
    {
     "name": "stdout",
     "output_type": "stream",
     "text": [
      "notsick 0.75\n",
      "sick 0.25\n"
     ]
    }
   ],
   "source": [
    "patient1.Marginal().Print()"
   ]
  },
  {
   "cell_type": "markdown",
   "metadata": {},
   "source": [
    "Again, same as what we saw before.  And we can extract the conditional distributions for `t1` and `t2`."
   ]
  },
  {
   "cell_type": "code",
   "execution_count": 15,
   "metadata": {
    "collapsed": false
   },
   "outputs": [
    {
     "name": "stdout",
     "output_type": "stream",
     "text": [
      "notsick 0.666666666667\n",
      "sick 0.333333333333\n"
     ]
    }
   ],
   "source": [
    "cond1, prob = patient1.Conditional(t1)\n",
    "cond1.Print()"
   ]
  },
  {
   "cell_type": "code",
   "execution_count": 16,
   "metadata": {
    "collapsed": false
   },
   "outputs": [
    {
     "name": "stdout",
     "output_type": "stream",
     "text": [
      "notsick 0.8\n",
      "sick 0.2\n"
     ]
    }
   ],
   "source": [
    "cond2, prob = patient1.Conditional(t2)\n",
    "cond2.Print()"
   ]
  },
  {
   "cell_type": "markdown",
   "metadata": {},
   "source": [
    "Now we're ready to answer questions about multiple patients.  Let's create another patient with a positive test:"
   ]
  },
  {
   "cell_type": "code",
   "execution_count": 17,
   "metadata": {
    "collapsed": false
   },
   "outputs": [
    {
     "name": "stdout",
     "output_type": "stream",
     "text": [
      "t= 0.2 Test({'sick': 0.3333333333333333, 'notsick': 0.6666666666666666}) 0.375\n",
      "t= 0.4 Test({'sick': 0.19999999999999998, 'notsick': 0.7999999999999999}) 0.625\n"
     ]
    }
   ],
   "source": [
    "patient2 = Patient(p, s, pmf_t)\n",
    "patient2.Update('pos')\n",
    "patient2.metatest.Print()"
   ]
  },
  {
   "cell_type": "markdown",
   "metadata": {},
   "source": [
    "Now, to compute the probability that both patients are sick, we have to know the distribution of `t` for both patients.  And that depends on details of the scenario.  There are two possibilities:\n",
    "\n",
    "*  Scenario A: Suppose there are two different tests, with different false positive rates, and we don't know which tests were used.  Or suppose that the false positive rate is different for different groups of people, and we don't know which group the patients are from.  In either case, the values of `t` for the two patients are independent.\n",
    "\n",
    "*  Scenario B: Alternatively, suppose there is only one test and we have reason to believe that the false positive rate is the same for everyone, so `t` is either `t1` for everyone or `t2` for everyone, but we don't know which.  In that case, the value of `t` for the two patients is the same.\n",
    "\n",
    "The probability that both patients are sick is different in these two scenarios.  I'll compute both.\n",
    "\n",
    "### Scenario A\n",
    "\n",
    "In Scenario A, we can compute the probability of `sick` and `nonsick` independently for the two patients and then compute the \"sum\" of those distributions:"
   ]
  },
  {
   "cell_type": "code",
   "execution_count": 18,
   "metadata": {
    "collapsed": false
   },
   "outputs": [
    {
     "name": "stdout",
     "output_type": "stream",
     "text": [
      "notsicknotsick 0.5625\n",
      "notsicksick 0.1875\n",
      "sicknotsick 0.1875\n",
      "sicksick 0.0625\n"
     ]
    }
   ],
   "source": [
    "conjunction = patient1.Marginal() + patient2.Marginal()\n",
    "conjunction.Print()"
   ]
  },
  {
   "cell_type": "markdown",
   "metadata": {},
   "source": [
    "In Scenario A, the probability that both patients are sick is 0.0625, which is just the square of the probability that each patient is sick, 0.25.\n",
    "\n",
    "### Scenario B\n",
    "\n",
    "In Scenario B we have to work a little harder.  For a given value of `t` we can compute the probability of `sicksick` by conjoining the conditional distributions for the two patients:"
   ]
  },
  {
   "cell_type": "code",
   "execution_count": 19,
   "metadata": {
    "collapsed": false
   },
   "outputs": [
    {
     "name": "stdout",
     "output_type": "stream",
     "text": [
      "notsicknotsick 0.444444444444\n",
      "notsicksick 0.222222222222\n",
      "sicknotsick 0.222222222222\n",
      "sicksick 0.111111111111\n"
     ]
    }
   ],
   "source": [
    "cond1, p_t1 = patient1.Conditional(t1)\n",
    "cond2, p_t1 = patient2.Conditional(t1)\n",
    "conjunction_t1 = cond1 + cond2\n",
    "conjunction_t1.Print()"
   ]
  },
  {
   "cell_type": "markdown",
   "metadata": {},
   "source": [
    "If we know that `t=t1`, the probability of `sicksick` is 0.111.  And for `t=t2`:"
   ]
  },
  {
   "cell_type": "code",
   "execution_count": 20,
   "metadata": {
    "collapsed": false
   },
   "outputs": [
    {
     "name": "stdout",
     "output_type": "stream",
     "text": [
      "notsicknotsick 0.64\n",
      "notsicksick 0.16\n",
      "sicknotsick 0.16\n",
      "sicksick 0.04\n"
     ]
    }
   ],
   "source": [
    "cond1, p_t2 = patient1.Conditional(t2)\n",
    "cond2, p_t2 = patient2.Conditional(t2)\n",
    "conjunction_t2 = cond1 + cond2\n",
    "conjunction_t2.Print()"
   ]
  },
  {
   "cell_type": "markdown",
   "metadata": {},
   "source": [
    "If we know that `t=t2`, the probability of `sicksick` is 0.04.\n",
    "\n",
    "The overall probability of `sicksick` is the weighted average of these probabilities:"
   ]
  },
  {
   "cell_type": "code",
   "execution_count": 21,
   "metadata": {
    "collapsed": false
   },
   "outputs": [
    {
     "data": {
      "text/plain": [
       "0.06666666666666665"
      ]
     },
     "execution_count": 21,
     "metadata": {},
     "output_type": "execute_result"
    }
   ],
   "source": [
    "p_t1 * conjunction_t1['sicksick'] + p_t2 * conjunction_t2['sicksick']"
   ]
  },
  {
   "cell_type": "markdown",
   "metadata": {},
   "source": [
    "We can generalize that process to compute all of the posterior probabilities.\n",
    "\n",
    "The following function computes the conjunctions:"
   ]
  },
  {
   "cell_type": "code",
   "execution_count": 22,
   "metadata": {
    "collapsed": false
   },
   "outputs": [],
   "source": [
    "def mysum(seq):\n",
    "    return sum(seq[1:], seq[1])\n",
    "\n",
    "def MakeConjunction(patients, t):\n",
    "    t = [patient.Conditional(t) for patient in patients]\n",
    "    conds, probs = zip(*t)\n",
    "    return mysum(conds), probs[0]"
   ]
  },
  {
   "cell_type": "markdown",
   "metadata": {},
   "source": [
    "Here's an example that computes the conjunction for `t=t1`:"
   ]
  },
  {
   "cell_type": "code",
   "execution_count": 23,
   "metadata": {
    "collapsed": false
   },
   "outputs": [
    {
     "name": "stdout",
     "output_type": "stream",
     "text": [
      "0.375\n",
      "notsicknotsick 0.444444444444\n",
      "notsicksick 0.222222222222\n",
      "sicknotsick 0.222222222222\n",
      "sicksick 0.111111111111\n"
     ]
    }
   ],
   "source": [
    "ts = pmf_t.Values()\n",
    "patients = [patient1, patient2]\n",
    "\n",
    "pmf, prob = MakeConjunction(patients, t1)\n",
    "print(prob)\n",
    "pmf.Print()"
   ]
  },
  {
   "cell_type": "markdown",
   "metadata": {},
   "source": [
    "Now we can make a MetaTest that contains the conjunctions with the right weights:"
   ]
  },
  {
   "cell_type": "code",
   "execution_count": 24,
   "metadata": {
    "collapsed": false
   },
   "outputs": [
    {
     "name": "stdout",
     "output_type": "stream",
     "text": [
      "Pmf({'sicksick': 0.039999999999999994, 'sicknotsick': 0.15999999999999998, 'notsicknotsick': 0.6399999999999999, 'notsicksick': 0.15999999999999998}) 0.625\n",
      "Pmf({'sicksick': 0.1111111111111111, 'sicknotsick': 0.2222222222222222, 'notsicknotsick': 0.4444444444444444, 'notsicksick': 0.2222222222222222}) 0.375\n"
     ]
    }
   ],
   "source": [
    "metapmf = Pmf()\n",
    "for t in ts:\n",
    "    pmf, prob = MakeConjunction(patients, t)\n",
    "    metapmf[pmf] = prob\n",
    "    \n",
    "metapmf.Print()"
   ]
  },
  {
   "cell_type": "markdown",
   "metadata": {},
   "source": [
    "And finally we can use `Marginal` to compute the weighted averages of the posterior probabilities:"
   ]
  },
  {
   "cell_type": "code",
   "execution_count": 25,
   "metadata": {
    "collapsed": false
   },
   "outputs": [
    {
     "name": "stdout",
     "output_type": "stream",
     "text": [
      "notsicknotsick 0.566666666667\n",
      "notsicksick 0.183333333333\n",
      "sicknotsick 0.183333333333\n",
      "sicksick 0.0666666666667\n"
     ]
    }
   ],
   "source": [
    "Marginal(metapmf).Print()"
   ]
  },
  {
   "cell_type": "markdown",
   "metadata": {},
   "source": [
    "### Summary\n",
    "\n",
    "In summary:\n",
    "\n",
    "*  In Scenario A, the values of `t` for the two patients are independent, and the probability that both are sick is 0.0625.\n",
    "\n",
    "*  In Scenario B, the value of `t` has to be the same for both patients, and the probability that both are sick is 0.0666.\n",
    "\n",
    "A real scenario might combine elements of both; that is, the false positive rate might be different for different people, and we might have some uncertainty about what it is.  In that case, the most accurate predictive probability might be anywhere between the values we computed."
   ]
  },
  {
   "cell_type": "code",
   "execution_count": null,
   "metadata": {
    "collapsed": true
   },
   "outputs": [],
   "source": []
  }
 ],
 "metadata": {
  "kernelspec": {
   "display_name": "Python 2",
   "language": "python",
   "name": "python2"
  },
  "language_info": {
   "codemirror_mode": {
    "name": "ipython",
    "version": 2
   },
   "file_extension": ".py",
   "mimetype": "text/x-python",
   "name": "python",
   "nbconvert_exporter": "python",
   "pygments_lexer": "ipython2",
   "version": "2.7.11"
  }
 },
 "nbformat": 4,
 "nbformat_minor": 0
}
