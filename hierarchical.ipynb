{
 "cells": [
  {
   "cell_type": "markdown",
   "metadata": {},
   "source": [
    "Bayesian interpretation of medical tests\n",
    "-----------------------------------------\n",
    "\n",
    "An example that demonstrates a simple hierarchical model.\n",
    "\n",
    "Copyright 2016 Allen Downey\n",
    "\n",
    "MIT License: http://opensource.org/licenses/MIT"
   ]
  },
  {
   "cell_type": "code",
   "execution_count": 1,
   "metadata": {
    "collapsed": false
   },
   "outputs": [],
   "source": [
    "from __future__ import print_function, division\n",
    "\n",
    "import thinkplot\n",
    "from thinkbayes2 import Pmf, Suite\n",
    "\n",
    "import numpy as np\n",
    "\n",
    "%matplotlib inline"
   ]
  },
  {
   "cell_type": "markdown",
   "metadata": {},
   "source": [
    "Suppose we test a patient to see if they have a disease, and the test comes back positive.  What is the probability that the patient is actually sick (that is, has the disease)?\n",
    "\n",
    "To answer this question, we need to know:\n",
    "\n",
    "*  The prevalence of the disease in the population the patient is from.  Let's assume the patient is identified as a member of a population where the prevalence is `p`.\n",
    "\n",
    "*  The sensitivity of the test, `s`, which is the probability of a positive test if the patient is sick.\n",
    "\n",
    "*  The false positive rate of the test, `t`, which is the probability of a positive test if the patient is not sick.\n",
    "\n",
    "Given these parameters, we can compute the probability that the patient is sick, given a positive test.\n",
    "\n",
    "### Test class\n",
    "\n",
    "To do that, I'll define a `Test` class that extends `Suite`, so it inherits `Update` and provides `Likelihood`.\n",
    "\n",
    "The instance variables of `Test` are:\n",
    "\n",
    "*  `p`, `s`, and `t`: Copies of the parameters.\n",
    "*  `d`: a dictionary that maps from hypotheses to their probabilities.  The hypotheses are the strings `sick` and `notsick`.\n",
    "*  `likelihood`: a dictionary that encodes the likelihood of the possible data values `pos` and `neg` under the hypotheses.\n",
    "\n"
   ]
  },
  {
   "cell_type": "code",
   "execution_count": 2,
   "metadata": {
    "collapsed": false
   },
   "outputs": [],
   "source": [
    "class Test(Suite):\n",
    "    \"\"\"Represents beliefs about a patient based on a medical test.\"\"\"\n",
    "    \n",
    "    def __init__(self, p, s, t):\n",
    "        # store the parameters\n",
    "        self.p = p\n",
    "        self.s = s\n",
    "        self.t = t\n",
    "        \n",
    "        # initialize the prior probabilities\n",
    "        d = dict(sick=p, notsick=1-p)\n",
    "        super(Test, self).__init__(d)\n",
    "        \n",
    "        # make a nested dictionary to compute likelihoods\n",
    "        self.likelihood = dict(pos=dict(sick=s, notsick=t),\n",
    "                               neg=dict(sick=1-s, notsick=1-t))\n",
    "        \n",
    "    def Likelihood(self, data, hypo):\n",
    "        \"\"\"\n",
    "        data: 'pos' or 'neg'\n",
    "        hypo: 'sick' or 'notsick'\n",
    "        \"\"\"\n",
    "        return self.likelihood[data][hypo]"
   ]
  },
  {
   "cell_type": "markdown",
   "metadata": {},
   "source": [
    "Now we can create a `Test` object with parameters chosen for demonstration purposes (most medical tests are better than this!):"
   ]
  },
  {
   "cell_type": "code",
   "execution_count": 3,
   "metadata": {
    "collapsed": false
   },
   "outputs": [
    {
     "name": "stdout",
     "output_type": "stream",
     "text": [
      "notsick 0.9\n",
      "sick 0.1\n"
     ]
    }
   ],
   "source": [
    "p = 0.1      # prevalence\n",
    "s = 0.9      # sensitivity\n",
    "t = 0.3      # false positive rate\n",
    "test = Test(p, s, t)\n",
    "test.Print()"
   ]
  },
  {
   "cell_type": "markdown",
   "metadata": {},
   "source": [
    "If you are curious, here's the nested dictionary that computes the likelihoods:"
   ]
  },
  {
   "cell_type": "code",
   "execution_count": 4,
   "metadata": {
    "collapsed": false
   },
   "outputs": [
    {
     "data": {
      "text/plain": [
       "{'neg': {'notsick': 0.7, 'sick': 0.09999999999999998},\n",
       " 'pos': {'notsick': 0.3, 'sick': 0.9}}"
      ]
     },
     "execution_count": 4,
     "metadata": {},
     "output_type": "execute_result"
    }
   ],
   "source": [
    "test.likelihood"
   ]
  },
  {
   "cell_type": "markdown",
   "metadata": {},
   "source": [
    "And here's how we update the `Test` object with a positive outcome:"
   ]
  },
  {
   "cell_type": "code",
   "execution_count": 5,
   "metadata": {
    "collapsed": false
   },
   "outputs": [
    {
     "name": "stdout",
     "output_type": "stream",
     "text": [
      "notsick 0.7499999999999999\n",
      "sick 0.24999999999999997\n"
     ]
    }
   ],
   "source": [
    "test.Update('pos')\n",
    "test.Print()"
   ]
  },
  {
   "cell_type": "markdown",
   "metadata": {},
   "source": [
    "The positive test provides evidence that the patient is sick, increasing the probability from 0.1 to 0.25.\n",
    "\n",
    "### Hierarchical model\n",
    "\n",
    "So far, this is basic Bayesian inference.  Now let's add a wrinkle.  Suppose that we don't know the value of `t` with certainty, but we have reason to believe that `t` is either 0.2 or 0.4 with equal probability.\n",
    "\n",
    "We can represent this belief with a hierarchical model, where the levels of the hierarchy are:\n",
    "\n",
    "*  At the top level, the possible values of `t` and their probabilities.\n",
    "*  At the bottom level, the probability that the patient is sick or not, conditioned on `t`.\n",
    "\n",
    "To represent the hierarchy, I'll define a `MetaTest`, which is a `Suite` that contains `Test` objects with different values of `t` as hypotheses."
   ]
  },
  {
   "cell_type": "code",
   "execution_count": 6,
   "metadata": {
    "collapsed": false
   },
   "outputs": [],
   "source": [
    "class MetaTest(Suite):\n",
    "    \"\"\"Represents a set of tests with different values of `t`.\"\"\"\n",
    "    \n",
    "    def Likelihood(self, data, hypo):\n",
    "        \"\"\"\n",
    "        data: 'pos' or 'neg'\n",
    "        hypo: Test object\n",
    "        \"\"\"\n",
    "        # the return value from `Update` is the total probability of the\n",
    "        # data for a hypothetical value of `t`\n",
    "        return hypo.Update(data)\n",
    "    \n",
    "    def Print(self):\n",
    "        for test, prob in self.Items():\n",
    "            print('t=', test.t, test, prob)"
   ]
  },
  {
   "cell_type": "markdown",
   "metadata": {},
   "source": [
    "To update a `MetaTest`, we update each of the hypothetical `Test` objects.  The return value from `Update` is the normalizing constant, which is the total probability of the data under the hypothesis.\n",
    "\n",
    "We use the normalizing constants from the bottom level of the hierarchy as the likelihoods at the top level.\n",
    "\n",
    "Here's how we create the `MetaTest` for the scenario we described:"
   ]
  },
  {
   "cell_type": "code",
   "execution_count": 7,
   "metadata": {
    "collapsed": false
   },
   "outputs": [
    {
     "name": "stdout",
     "output_type": "stream",
     "text": [
      "t= 0.2 Test({'notsick': 0.9, 'sick': 0.1}) 0.5\n",
      "t= 0.4 Test({'notsick': 0.9, 'sick': 0.1}) 0.5\n"
     ]
    }
   ],
   "source": [
    "q = 0.5\n",
    "t1 = 0.2\n",
    "t2 = 0.4\n",
    "\n",
    "test1 = Test(p, s, t1)\n",
    "test2 = Test(p, s, t2)\n",
    "\n",
    "metatest = MetaTest({test1:q, test2:1-q})\n",
    "metatest.Print()"
   ]
  },
  {
   "cell_type": "markdown",
   "metadata": {},
   "source": [
    "At the top level, there are two tests, with different values of `t`.  Initially, they are equally likely.\n",
    "\n",
    "When we update the `MetaTest`, it updates the embedded `Test` objects and then the `MetaTest` itself."
   ]
  },
  {
   "cell_type": "code",
   "execution_count": 8,
   "metadata": {
    "collapsed": false
   },
   "outputs": [
    {
     "data": {
      "text/plain": [
       "0.36000000000000004"
      ]
     },
     "execution_count": 8,
     "metadata": {},
     "output_type": "execute_result"
    }
   ],
   "source": [
    "metatest.Update('pos')"
   ]
  },
  {
   "cell_type": "markdown",
   "metadata": {},
   "source": [
    "Here are the results."
   ]
  },
  {
   "cell_type": "code",
   "execution_count": 9,
   "metadata": {
    "collapsed": false
   },
   "outputs": [
    {
     "name": "stdout",
     "output_type": "stream",
     "text": [
      "t= 0.2 Test({'notsick': 0.6666666666666666, 'sick': 0.3333333333333333}) 0.37499999999999994\n",
      "t= 0.4 Test({'notsick': 0.7999999999999999, 'sick': 0.19999999999999998}) 0.625\n"
     ]
    }
   ],
   "source": [
    "metatest.Print()"
   ]
  },
  {
   "cell_type": "markdown",
   "metadata": {},
   "source": [
    "Because a positive test is more likely if `t=0.4`, the positive test is evidence in favor of the hypothesis that `t=0.4`.\n",
    "\n",
    "This `MetaTest` object represents what we should believe about `t` after seeing the test, as well as what we should believe about the probability that the patient is sick.\n",
    "\n",
    "### Predictive probabilities\n",
    "\n",
    "To compute the probability that the patient is sick, we have to compute the predictive probabilities of `sick` and `notsick`, averaging over the possible values of `t`.  The following function computes this distribution:"
   ]
  },
  {
   "cell_type": "code",
   "execution_count": 10,
   "metadata": {
    "collapsed": false
   },
   "outputs": [],
   "source": [
    "def MakeMixture(metapmf, label='mix'):\n",
    "    \"\"\"Make a mixture distribution.\n",
    "\n",
    "    Args:\n",
    "      metapmf: Pmf that maps from Pmfs to probs.\n",
    "      label: string label for the new Pmf.\n",
    "\n",
    "    Returns: Pmf object.\n",
    "    \"\"\"\n",
    "    mix = Pmf(label=label)\n",
    "    for pmf, p1 in metapmf.Items():\n",
    "        for x, p2 in pmf.Items():\n",
    "            mix.Incr(x, p1 * p2)\n",
    "    return mix"
   ]
  },
  {
   "cell_type": "markdown",
   "metadata": {},
   "source": [
    "Here's the posterior predictive distribution:"
   ]
  },
  {
   "cell_type": "code",
   "execution_count": 11,
   "metadata": {
    "collapsed": false
   },
   "outputs": [
    {
     "name": "stdout",
     "output_type": "stream",
     "text": [
      "notsick 0.7499999999999999\n",
      "sick 0.24999999999999994\n"
     ]
    }
   ],
   "source": [
    "predictive = MakeMixture(metatest)\n",
    "predictive.Print()"
   ]
  },
  {
   "cell_type": "markdown",
   "metadata": {},
   "source": [
    "After seeing the test, the probability that the patient is sick is 0.25, which is the same result we got with `t=0.3`.  So at first glance it seems like we might not need the hierarchical model at all.  Maybe we could have computed the mean of `t` and done a simple update.\n",
    "\n",
    "### Two patients\n",
    "\n",
    "If the goal is to make a single prediction for a single patient, that's true.  But let's try a different scenario.  Suppose you test two patients and they both test positive.  What is the probability that they are both sick?\n",
    "\n",
    "To answer that, I define a few more functions to work with Metatests:"
   ]
  },
  {
   "cell_type": "code",
   "execution_count": 12,
   "metadata": {
    "collapsed": false
   },
   "outputs": [],
   "source": [
    "def MakeMetaTest(p, s, pmf_t):\n",
    "    \"\"\"Makes a MetaTest object with the given parameters.\n",
    "        \n",
    "    p: prevalence\n",
    "    s: sensitivity\n",
    "    pmf_t: Pmf of possible values for `t`\n",
    "    \"\"\"\n",
    "    tests = {}\n",
    "    for t, q in pmf_t.Items():\n",
    "        tests[Test(p, s, t)] = q\n",
    "    return MetaTest(tests)\n",
    "\n",
    "def Marginal(metatest):\n",
    "    marginal = Pmf()\n",
    "    for test, prob in metatest.Items():\n",
    "        marginal[test.t] = prob\n",
    "    return marginal\n",
    "\n",
    "def Conditional(metatest, t):\n",
    "    for test, prob in metatest.Items():\n",
    "        if test.t == t:\n",
    "            return test, prob"
   ]
  },
  {
   "cell_type": "markdown",
   "metadata": {},
   "source": [
    "`MakeMetaTest` makes a `MetaTest` object starting with a given PMF of `t`.\n",
    "\n",
    "`Marginal` extracts the PMF of `t` from a `MetaTest`.\n",
    "\n",
    "`Conditional` takes a specified value for `t` and returns the probabilities of `sick` and `notsick` conditioned on `t`.\n",
    "\n",
    "I'll test it out using the same parameters from above:"
   ]
  },
  {
   "cell_type": "code",
   "execution_count": 13,
   "metadata": {
    "collapsed": false
   },
   "outputs": [
    {
     "name": "stdout",
     "output_type": "stream",
     "text": [
      "0.2 0.5\n",
      "0.4 0.5\n"
     ]
    }
   ],
   "source": [
    "q = 0.5\n",
    "t1 = 0.2\n",
    "t2 = 0.4\n",
    "pmf_t = Pmf({t1:q, t2:1-q})\n",
    "pmf_t.Print()"
   ]
  },
  {
   "cell_type": "markdown",
   "metadata": {},
   "source": [
    "Here are the results"
   ]
  },
  {
   "cell_type": "code",
   "execution_count": 14,
   "metadata": {
    "collapsed": false
   },
   "outputs": [
    {
     "name": "stdout",
     "output_type": "stream",
     "text": [
      "t= 0.2 Test({'notsick': 0.6666666666666666, 'sick': 0.3333333333333333}) 0.37499999999999994\n",
      "t= 0.4 Test({'notsick': 0.7999999999999999, 'sick': 0.19999999999999998}) 0.625\n"
     ]
    }
   ],
   "source": [
    "metatest = MakeMetaTest(p, s, pmf_t)\n",
    "metatest.Update('pos')\n",
    "metatest.Print()"
   ]
  },
  {
   "cell_type": "markdown",
   "metadata": {},
   "source": [
    "Same as before.  And we can extract the posterior distribution of `t`."
   ]
  },
  {
   "cell_type": "code",
   "execution_count": 15,
   "metadata": {
    "collapsed": false
   },
   "outputs": [
    {
     "name": "stdout",
     "output_type": "stream",
     "text": [
      "0.2 0.37499999999999994\n",
      "0.4 0.625\n"
     ]
    }
   ],
   "source": [
    "Marginal(metatest).Print()"
   ]
  },
  {
   "cell_type": "markdown",
   "metadata": {},
   "source": [
    "Having seen one positive test, we are a little more inclined to believe that `t=0.4`; that is, that the false positive rate is high.\n",
    "\n",
    "And we can extract the conditional distributions for the patient:"
   ]
  },
  {
   "cell_type": "code",
   "execution_count": 16,
   "metadata": {
    "collapsed": false
   },
   "outputs": [
    {
     "name": "stdout",
     "output_type": "stream",
     "text": [
      "notsick 0.6666666666666666\n",
      "sick 0.3333333333333333\n"
     ]
    }
   ],
   "source": [
    "cond1, prob = Conditional(metatest, t1)\n",
    "cond1.Print()"
   ]
  },
  {
   "cell_type": "code",
   "execution_count": 17,
   "metadata": {
    "collapsed": false
   },
   "outputs": [
    {
     "name": "stdout",
     "output_type": "stream",
     "text": [
      "notsick 0.7999999999999999\n",
      "sick 0.19999999999999998\n"
     ]
    }
   ],
   "source": [
    "cond2, prob = Conditional(metatest, t2)\n",
    "cond2.Print()"
   ]
  },
  {
   "cell_type": "markdown",
   "metadata": {},
   "source": [
    "Finally, we can make a predictive distribution for the patient, which is a weighted mixture of the conditional distributions:"
   ]
  },
  {
   "cell_type": "code",
   "execution_count": 18,
   "metadata": {
    "collapsed": false
   },
   "outputs": [
    {
     "name": "stdout",
     "output_type": "stream",
     "text": [
      "notsick 0.7499999999999999\n",
      "sick 0.24999999999999994\n"
     ]
    }
   ],
   "source": [
    "predictive = MakeMixture(metatest)\n",
    "predictive.Print()"
   ]
  },
  {
   "cell_type": "markdown",
   "metadata": {},
   "source": [
    "At this point we have a `MetaTest` that contains our updated information about the test (the distribution of `t`) and about the patient that tested positive.\n",
    "\n",
    "### The second patient\n",
    "\n",
    "Now suppose the second patient arrives.  We need a new `MetaTest` that contains the updated information about the test, but no information about the patient other than the prior proability of being sick, `p`:"
   ]
  },
  {
   "cell_type": "code",
   "execution_count": 19,
   "metadata": {
    "collapsed": false
   },
   "outputs": [
    {
     "name": "stdout",
     "output_type": "stream",
     "text": [
      "t= 0.2 Test({'notsick': 0.9, 'sick': 0.1}) 0.37499999999999994\n",
      "t= 0.4 Test({'notsick': 0.9, 'sick': 0.1}) 0.625\n"
     ]
    }
   ],
   "source": [
    "metatest1 = MakeMetaTest(p, s, Marginal(metatest))\n",
    "metatest1.Print()"
   ]
  },
  {
   "cell_type": "markdown",
   "metadata": {},
   "source": [
    "Now we can update this `MetaTest` with the result from the second test:"
   ]
  },
  {
   "cell_type": "code",
   "execution_count": 20,
   "metadata": {
    "collapsed": false
   },
   "outputs": [
    {
     "name": "stdout",
     "output_type": "stream",
     "text": [
      "t= 0.2 Test({'notsick': 0.6666666666666666, 'sick': 0.3333333333333333}) 0.2647058823529411\n",
      "t= 0.4 Test({'notsick': 0.7999999999999999, 'sick': 0.19999999999999998}) 0.7352941176470589\n"
     ]
    }
   ],
   "source": [
    "metatest1.Update('pos')\n",
    "metatest1.Print()"
   ]
  },
  {
   "cell_type": "markdown",
   "metadata": {},
   "source": [
    "This distribution contains updated information about the test, based on two positive outcomes, and updated information about a patient who has tested positive (once)."
   ]
  },
  {
   "cell_type": "code",
   "execution_count": 21,
   "metadata": {
    "collapsed": false
   },
   "outputs": [
    {
     "name": "stdout",
     "output_type": "stream",
     "text": [
      "notsick 0.7647058823529411\n",
      "sick 0.23529411764705882\n"
     ]
    }
   ],
   "source": [
    "predictive = MakeMixture(metatest1)\n",
    "predictive.Print()"
   ]
  },
  {
   "cell_type": "markdown",
   "metadata": {},
   "source": [
    "Now, to compute the probability that both patients are sick, we have to know the distribution of `t` for both patients.  And that depends on details of the scenario.  There are two possibilities:\n",
    "\n",
    "*  Scenario A: Suppose there are two different tests, with different false positive rates, and we don't know which tests were used.  Or suppose that the false positive rate is different for different groups of people, and we don't know which group the patients are from.  In either case, the values of `t` for the two patients are independent.\n",
    "\n",
    "*  Scenario B: Alternatively, suppose there is only one test and we have reason to believe that the false positive rate is the same for everyone, so `t` is either `t1` for everyone or `t2` for everyone, but we don't know which.  In that case, the value of `t` for the two patients is the same.\n",
    "\n",
    "The probability that both patients are sick is different in these two scenarios.  I'll compute both.\n",
    "\n",
    "### Scenario A\n",
    "\n",
    "In Scenario A, we can compute the probability of `sick` and `nonsick` independently for the two patients and then compute the \"sum\" of those distributions:"
   ]
  },
  {
   "cell_type": "code",
   "execution_count": 22,
   "metadata": {
    "collapsed": false
   },
   "outputs": [
    {
     "name": "stdout",
     "output_type": "stream",
     "text": [
      "notsicknotsick 0.5847750865051903\n",
      "notsicksick 0.17993079584775085\n",
      "sicknotsick 0.17993079584775085\n",
      "sicksick 0.05536332179930796\n"
     ]
    }
   ],
   "source": [
    "conjunction = predictive + predictive\n",
    "conjunction.Print()"
   ]
  },
  {
   "cell_type": "code",
   "execution_count": 23,
   "metadata": {
    "collapsed": false
   },
   "outputs": [
    {
     "data": {
      "text/plain": [
       "0.05536332179930796"
      ]
     },
     "execution_count": 23,
     "metadata": {},
     "output_type": "execute_result"
    }
   ],
   "source": [
    "predictive['sick']**2"
   ]
  },
  {
   "cell_type": "markdown",
   "metadata": {},
   "source": [
    "In Scenario A, the probability that both patients are sick is just the square of the probability that each patient is sick.\n",
    "\n",
    "### Scenario B\n",
    "\n",
    "In Scenario B we have to work a little harder.  For a given value of `t` we can compute the probability of `sicksick` by conjoining the conditional distributions for the two patients:"
   ]
  },
  {
   "cell_type": "code",
   "execution_count": 24,
   "metadata": {
    "collapsed": false
   },
   "outputs": [
    {
     "name": "stdout",
     "output_type": "stream",
     "text": [
      "0.2647058823529411\n",
      "notsicknotsick 0.4444444444444444\n",
      "notsicksick 0.2222222222222222\n",
      "sicknotsick 0.2222222222222222\n",
      "sicksick 0.1111111111111111\n"
     ]
    }
   ],
   "source": [
    "cond_t1, p_t1 = Conditional(metatest1, t1)\n",
    "conjunction_t1 = cond_t1 + cond_t1\n",
    "print(p_t1)\n",
    "conjunction_t1.Print()"
   ]
  },
  {
   "cell_type": "markdown",
   "metadata": {},
   "source": [
    "If we know that `t=t1`, the probability of `sicksick` is 0.111.  And for `t=t2`:"
   ]
  },
  {
   "cell_type": "code",
   "execution_count": 25,
   "metadata": {
    "collapsed": false
   },
   "outputs": [
    {
     "name": "stdout",
     "output_type": "stream",
     "text": [
      "0.7352941176470589\n",
      "notsicknotsick 0.6399999999999999\n",
      "notsicksick 0.15999999999999998\n",
      "sicknotsick 0.15999999999999998\n",
      "sicksick 0.039999999999999994\n"
     ]
    }
   ],
   "source": [
    "cond_t2, p_t2 = Conditional(metatest1, t2)\n",
    "conjunction_t2 = cond_t2 + cond_t2\n",
    "print(p_t2)\n",
    "conjunction_t2.Print()"
   ]
  },
  {
   "cell_type": "markdown",
   "metadata": {},
   "source": [
    "If we know that `t=t2`, the probability of `sicksick` is 0.04.\n",
    "\n",
    "The overall probability of `sicksick` is the weighted average of these probabilities:"
   ]
  },
  {
   "cell_type": "code",
   "execution_count": 26,
   "metadata": {
    "collapsed": false
   },
   "outputs": [
    {
     "data": {
      "text/plain": [
       "0.05882352941176469"
      ]
     },
     "execution_count": 26,
     "metadata": {},
     "output_type": "execute_result"
    }
   ],
   "source": [
    "p_t1 * conjunction_t1['sicksick'] + p_t2 * conjunction_t2['sicksick']"
   ]
  },
  {
   "cell_type": "markdown",
   "metadata": {},
   "source": [
    "We can generalize that process to compute all of the posterior probabilities.\n",
    "\n",
    "The following function computes the conjunctions:"
   ]
  },
  {
   "cell_type": "code",
   "execution_count": 27,
   "metadata": {
    "collapsed": false
   },
   "outputs": [],
   "source": [
    "def MakeConjunction(metatest, t):\n",
    "    cond, p = Conditional(metatest, t)\n",
    "    return cond + cond, p"
   ]
  },
  {
   "cell_type": "markdown",
   "metadata": {},
   "source": [
    "Here's an example that computes the conjunction for `t=t1`:"
   ]
  },
  {
   "cell_type": "code",
   "execution_count": 28,
   "metadata": {
    "collapsed": false
   },
   "outputs": [
    {
     "name": "stdout",
     "output_type": "stream",
     "text": [
      "0.2647058823529411\n",
      "notsicknotsick 0.4444444444444444\n",
      "notsicksick 0.2222222222222222\n",
      "sicknotsick 0.2222222222222222\n",
      "sicksick 0.1111111111111111\n"
     ]
    }
   ],
   "source": [
    "pmf, prob = MakeConjunction(metatest1, t1)\n",
    "print(prob)\n",
    "pmf.Print()"
   ]
  },
  {
   "cell_type": "code",
   "execution_count": 29,
   "metadata": {
    "collapsed": false
   },
   "outputs": [
    {
     "data": {
      "text/plain": [
       "Pmf({0.2: 0.2647058823529411, 0.4: 0.7352941176470589})"
      ]
     },
     "execution_count": 29,
     "metadata": {},
     "output_type": "execute_result"
    }
   ],
   "source": [
    "Marginal(metatest1)"
   ]
  },
  {
   "cell_type": "markdown",
   "metadata": {},
   "source": [
    "Now we can make a MetaTest that contains the conjunctions with the right weights:"
   ]
  },
  {
   "cell_type": "code",
   "execution_count": 30,
   "metadata": {
    "collapsed": false
   },
   "outputs": [
    {
     "name": "stdout",
     "output_type": "stream",
     "text": [
      "Pmf({'notsicksick': 0.15999999999999998, 'sicknotsick': 0.15999999999999998, 'sicksick': 0.039999999999999994, 'notsicknotsick': 0.6399999999999999}) 0.7352941176470589\n",
      "Pmf({'notsicksick': 0.2222222222222222, 'sicknotsick': 0.2222222222222222, 'sicksick': 0.1111111111111111, 'notsicknotsick': 0.4444444444444444}) 0.2647058823529411\n"
     ]
    }
   ],
   "source": [
    "metapmf = Pmf()\n",
    "for t in Marginal(metatest1):\n",
    "    pmf, prob = MakeConjunction(metatest1, t)\n",
    "    metapmf[pmf] = prob\n",
    "    \n",
    "metapmf.Print()"
   ]
  },
  {
   "cell_type": "markdown",
   "metadata": {},
   "source": [
    "And finally we can use `MakeMixture` to compute the weighted averages of the posterior probabilities:"
   ]
  },
  {
   "cell_type": "code",
   "execution_count": 31,
   "metadata": {
    "collapsed": false
   },
   "outputs": [
    {
     "name": "stdout",
     "output_type": "stream",
     "text": [
      "notsicknotsick 0.588235294117647\n",
      "notsicksick 0.1764705882352941\n",
      "sicknotsick 0.1764705882352941\n",
      "sicksick 0.05882352941176469\n"
     ]
    }
   ],
   "source": [
    "predictive = MakeMixture(metapmf)\n",
    "predictive.Print()"
   ]
  },
  {
   "cell_type": "markdown",
   "metadata": {},
   "source": [
    "### Summary\n",
    "\n",
    "In summary:\n",
    "\n",
    "*  In Scenario A, the values of `t` for the two patients are independent, and the probability that both are sick is xxx.\n",
    "\n",
    "*  In Scenario B, the value of `t` has to be the same for both patients, and the probability that both are sick is xxx.\n",
    "\n",
    "A real scenario might combine elements of both; that is, the false positive rate might be different for different people, and we might have some uncertainty about what it is.  In that case, the most accurate predictive probability might be anywhere between the values we computed."
   ]
  },
  {
   "cell_type": "code",
   "execution_count": null,
   "metadata": {
    "collapsed": true
   },
   "outputs": [],
   "source": []
  }
 ],
 "metadata": {
  "kernelspec": {
   "display_name": "Python 3",
   "language": "python",
   "name": "python3"
  },
  "language_info": {
   "codemirror_mode": {
    "name": "ipython",
    "version": 3
   },
   "file_extension": ".py",
   "mimetype": "text/x-python",
   "name": "python",
   "nbconvert_exporter": "python",
   "pygments_lexer": "ipython3",
   "version": "3.5.1"
  }
 },
 "nbformat": 4,
 "nbformat_minor": 0
}
