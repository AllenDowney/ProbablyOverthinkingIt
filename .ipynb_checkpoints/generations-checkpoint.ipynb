{
 "cells": [
  {
   "cell_type": "markdown",
   "metadata": {},
   "source": [
    "# Do generations exist?\n",
    "\n",
    "This notebook contains a \"one-day paper\", my attempt to pose a research question, answer it, and publish the results in one work day (May 13, 2016).\n",
    "\n",
    "Copyright 2016 Allen B. Downey\n",
    "\n",
    "MIT License: https://opensource.org/licenses/MIT"
   ]
  },
  {
   "cell_type": "code",
   "execution_count": 1,
   "metadata": {
    "collapsed": true
   },
   "outputs": [],
   "source": [
    "from __future__ import print_function, division\n",
    "\n",
    "from thinkstats2 import Pmf, Cdf\n",
    "\n",
    "import thinkstats2\n",
    "import thinkplot\n",
    "\n",
    "import pandas as pd\n",
    "import numpy as np\n",
    "from scipy.stats import entropy\n",
    "\n",
    "%matplotlib inline"
   ]
  },
  {
   "cell_type": "markdown",
   "metadata": {},
   "source": [
    "### What's a generation supposed to be, anyway?\n",
    "\n",
    "If generation names like \"Baby Boomers\" and \"Generation X\" are just a short way of referring to people born during certain intervals, you can use them without implying that these categories have any meaningful properties.\n",
    "\n",
    "But if these names are supposed to refer to generations with identifiable characteristics, we can test whether these generations exist.  In this notebook, I suggest one way to formulate generations as a claim about the world, and test it.\n",
    "\n",
    "Suppose we take a representative sample of people in the U.S., divide them into cohorts by year of birth, and measure the magnitude of the differences between consecutive cohorts.  Of course, there are many ways we could define and measure these differences; I'll suggest one in a minute.\n",
    "\n",
    "But ignoring the details for now, what would those difference look like if generations exist?  Presumably, the differences between successive cohorts would be relatively small within each generation, and bigger between generations.\n",
    "\n",
    "If we plot the cumulative total of these differences, we expect to see something like the figure below (left), with relatively fast transitions (big differences) between generations, and periods of slow change (small differences) within generations.\n",
    "\n",
    "On the other hand, if there are no generations, we expect the differences between successive cohorts to be about the same.  In that case the cumulative differences should look like a straight line, as in the figure below (right):\n",
    "\n",
    "![Diagrams showing hypothetical data.](generation_cartoon.png)\n",
    "\n",
    "So, how should we quantify the differences between successive cohorts.  When people talk about generational differences, they are often talking about differences in attitudes about political, social issues, and other cultural questions.  Fortunately, these are exactly the sorts of things surveyed by the General Social Survey (GSS).\n",
    "\n",
    "To gather data, I selected question from the GSS that were asked during the last three cycles (2010, 2012, 2014) and that were coded on a 5-point Likert scale.\n",
    "\n",
    "You can see the variables that met these criteria, and download the data I used, here:\n",
    "\n",
    "https://gssdataexplorer.norc.org/projects/13170/variables/data_cart\n",
    "\n",
    "Now let's see what we got."
   ]
  },
  {
   "cell_type": "markdown",
   "metadata": {},
   "source": [
    "First I load the data dictionary, which contains the metadata:"
   ]
  },
  {
   "cell_type": "code",
   "execution_count": 2,
   "metadata": {
    "collapsed": false
   },
   "outputs": [
    {
     "ename": "KeyError",
     "evalue": "'numeric'",
     "output_type": "error",
     "traceback": [
      "\u001b[1;31m---------------------------------------------------------------------------\u001b[0m",
      "\u001b[1;31mKeyError\u001b[0m                                  Traceback (most recent call last)",
      "\u001b[1;32m<ipython-input-2-eb2c4cffd53c>\u001b[0m in \u001b[0;36m<module>\u001b[1;34m()\u001b[0m\n\u001b[1;32m----> 1\u001b[1;33m \u001b[0mdct\u001b[0m \u001b[1;33m=\u001b[0m \u001b[0mthinkstats2\u001b[0m\u001b[1;33m.\u001b[0m\u001b[0mReadStataDct\u001b[0m\u001b[1;33m(\u001b[0m\u001b[1;34m'GSS.dct'\u001b[0m\u001b[1;33m)\u001b[0m\u001b[1;33m\u001b[0m\u001b[0m\n\u001b[0m",
      "\u001b[1;32mE:\\pydata\\ProbablyOverthinkingIt\\thinkstats2.py\u001b[0m in \u001b[0;36mReadStataDct\u001b[1;34m(dct_file, **options)\u001b[0m\n\u001b[0;32m   2651\u001b[0m                 \u001b[0mvtype\u001b[0m \u001b[1;33m=\u001b[0m \u001b[0mstr\u001b[0m\u001b[1;33m\u001b[0m\u001b[0m\n\u001b[0;32m   2652\u001b[0m             \u001b[1;32melse\u001b[0m\u001b[1;33m:\u001b[0m\u001b[1;33m\u001b[0m\u001b[0m\n\u001b[1;32m-> 2653\u001b[1;33m                 \u001b[0mvtype\u001b[0m \u001b[1;33m=\u001b[0m \u001b[0mtype_map\u001b[0m\u001b[1;33m[\u001b[0m\u001b[0mvtype\u001b[0m\u001b[1;33m]\u001b[0m\u001b[1;33m\u001b[0m\u001b[0m\n\u001b[0m\u001b[0;32m   2654\u001b[0m             \u001b[0mlong_desc\u001b[0m \u001b[1;33m=\u001b[0m \u001b[1;34m' '\u001b[0m\u001b[1;33m.\u001b[0m\u001b[0mjoin\u001b[0m\u001b[1;33m(\u001b[0m\u001b[0mt\u001b[0m\u001b[1;33m[\u001b[0m\u001b[1;36m4\u001b[0m\u001b[1;33m:\u001b[0m\u001b[1;33m]\u001b[0m\u001b[1;33m)\u001b[0m\u001b[1;33m.\u001b[0m\u001b[0mstrip\u001b[0m\u001b[1;33m(\u001b[0m\u001b[1;34m'\"'\u001b[0m\u001b[1;33m)\u001b[0m\u001b[1;33m\u001b[0m\u001b[0m\n\u001b[0;32m   2655\u001b[0m             \u001b[0mvar_info\u001b[0m\u001b[1;33m.\u001b[0m\u001b[0mappend\u001b[0m\u001b[1;33m(\u001b[0m\u001b[1;33m(\u001b[0m\u001b[0mstart\u001b[0m\u001b[1;33m,\u001b[0m \u001b[0mvtype\u001b[0m\u001b[1;33m,\u001b[0m \u001b[0mname\u001b[0m\u001b[1;33m,\u001b[0m \u001b[0mfstring\u001b[0m\u001b[1;33m,\u001b[0m \u001b[0mlong_desc\u001b[0m\u001b[1;33m)\u001b[0m\u001b[1;33m)\u001b[0m\u001b[1;33m\u001b[0m\u001b[0m\n",
      "\u001b[1;31mKeyError\u001b[0m: 'numeric'"
     ]
    }
   ],
   "source": [
    "dct = thinkstats2.ReadStataDct('GSS.dct')"
   ]
  },
  {
   "cell_type": "markdown",
   "metadata": {},
   "source": [
    "Then I load the data itself:"
   ]
  },
  {
   "cell_type": "code",
   "execution_count": 3,
   "metadata": {
    "collapsed": false
   },
   "outputs": [],
   "source": [
    "df = dct.ReadFixedWidth('GSS.dat')"
   ]
  },
  {
   "cell_type": "markdown",
   "metadata": {},
   "source": [
    "I'm going to drop two variables that turned out to be mostly N/A"
   ]
  },
  {
   "cell_type": "code",
   "execution_count": 4,
   "metadata": {
    "collapsed": false
   },
   "outputs": [],
   "source": [
    "df.drop(['immcrime', 'pilloky'], axis=1, inplace=True)"
   ]
  },
  {
   "cell_type": "markdown",
   "metadata": {},
   "source": [
    "And then replace the special codes 8, 9, and 0 with N/A"
   ]
  },
  {
   "cell_type": "code",
   "execution_count": 5,
   "metadata": {
    "collapsed": false
   },
   "outputs": [
    {
     "data": {
      "text/html": [
       "<div>\n",
       "<table border=\"1\" class=\"dataframe\">\n",
       "  <thead>\n",
       "    <tr style=\"text-align: right;\">\n",
       "      <th></th>\n",
       "      <th>year</th>\n",
       "      <th>id_</th>\n",
       "      <th>age</th>\n",
       "      <th>wrkwayup</th>\n",
       "      <th>fepol</th>\n",
       "      <th>pillok</th>\n",
       "      <th>premarsx</th>\n",
       "      <th>spanking</th>\n",
       "      <th>fechld</th>\n",
       "      <th>fepresch</th>\n",
       "      <th>...</th>\n",
       "      <th>patriot2</th>\n",
       "      <th>patriot3</th>\n",
       "      <th>patriot4</th>\n",
       "      <th>poleff18</th>\n",
       "      <th>poleff19</th>\n",
       "      <th>poleff20</th>\n",
       "      <th>govdook</th>\n",
       "      <th>polgreed</th>\n",
       "      <th>choices</th>\n",
       "      <th>refrndms</th>\n",
       "    </tr>\n",
       "  </thead>\n",
       "  <tbody>\n",
       "    <tr>\n",
       "      <th>0</th>\n",
       "      <td>2010</td>\n",
       "      <td>1</td>\n",
       "      <td>31</td>\n",
       "      <td>4</td>\n",
       "      <td>2</td>\n",
       "      <td>1</td>\n",
       "      <td>4</td>\n",
       "      <td>4</td>\n",
       "      <td>2</td>\n",
       "      <td>2</td>\n",
       "      <td>...</td>\n",
       "      <td>NaN</td>\n",
       "      <td>NaN</td>\n",
       "      <td>NaN</td>\n",
       "      <td>NaN</td>\n",
       "      <td>NaN</td>\n",
       "      <td>NaN</td>\n",
       "      <td>3</td>\n",
       "      <td>2</td>\n",
       "      <td>NaN</td>\n",
       "      <td>NaN</td>\n",
       "    </tr>\n",
       "    <tr>\n",
       "      <th>1</th>\n",
       "      <td>2010</td>\n",
       "      <td>2</td>\n",
       "      <td>23</td>\n",
       "      <td>5</td>\n",
       "      <td>2</td>\n",
       "      <td>1</td>\n",
       "      <td>4</td>\n",
       "      <td>3</td>\n",
       "      <td>2</td>\n",
       "      <td>3</td>\n",
       "      <td>...</td>\n",
       "      <td>NaN</td>\n",
       "      <td>NaN</td>\n",
       "      <td>NaN</td>\n",
       "      <td>NaN</td>\n",
       "      <td>NaN</td>\n",
       "      <td>NaN</td>\n",
       "      <td>4</td>\n",
       "      <td>4</td>\n",
       "      <td>NaN</td>\n",
       "      <td>NaN</td>\n",
       "    </tr>\n",
       "    <tr>\n",
       "      <th>2</th>\n",
       "      <td>2010</td>\n",
       "      <td>3</td>\n",
       "      <td>71</td>\n",
       "      <td>NaN</td>\n",
       "      <td>2</td>\n",
       "      <td>2</td>\n",
       "      <td>1</td>\n",
       "      <td>1</td>\n",
       "      <td>3</td>\n",
       "      <td>2</td>\n",
       "      <td>...</td>\n",
       "      <td>NaN</td>\n",
       "      <td>NaN</td>\n",
       "      <td>NaN</td>\n",
       "      <td>NaN</td>\n",
       "      <td>NaN</td>\n",
       "      <td>NaN</td>\n",
       "      <td>3</td>\n",
       "      <td>4</td>\n",
       "      <td>NaN</td>\n",
       "      <td>NaN</td>\n",
       "    </tr>\n",
       "    <tr>\n",
       "      <th>3</th>\n",
       "      <td>2010</td>\n",
       "      <td>4</td>\n",
       "      <td>82</td>\n",
       "      <td>2</td>\n",
       "      <td>2</td>\n",
       "      <td>1</td>\n",
       "      <td>3</td>\n",
       "      <td>3</td>\n",
       "      <td>3</td>\n",
       "      <td>2</td>\n",
       "      <td>...</td>\n",
       "      <td>NaN</td>\n",
       "      <td>NaN</td>\n",
       "      <td>NaN</td>\n",
       "      <td>NaN</td>\n",
       "      <td>NaN</td>\n",
       "      <td>NaN</td>\n",
       "      <td>2</td>\n",
       "      <td>2</td>\n",
       "      <td>NaN</td>\n",
       "      <td>NaN</td>\n",
       "    </tr>\n",
       "    <tr>\n",
       "      <th>4</th>\n",
       "      <td>2010</td>\n",
       "      <td>5</td>\n",
       "      <td>78</td>\n",
       "      <td>NaN</td>\n",
       "      <td>NaN</td>\n",
       "      <td>NaN</td>\n",
       "      <td>NaN</td>\n",
       "      <td>NaN</td>\n",
       "      <td>NaN</td>\n",
       "      <td>NaN</td>\n",
       "      <td>...</td>\n",
       "      <td>NaN</td>\n",
       "      <td>NaN</td>\n",
       "      <td>NaN</td>\n",
       "      <td>NaN</td>\n",
       "      <td>NaN</td>\n",
       "      <td>NaN</td>\n",
       "      <td>NaN</td>\n",
       "      <td>NaN</td>\n",
       "      <td>NaN</td>\n",
       "      <td>NaN</td>\n",
       "    </tr>\n",
       "  </tbody>\n",
       "</table>\n",
       "<p>5 rows × 150 columns</p>\n",
       "</div>"
      ],
      "text/plain": [
       "   year  id_  age  wrkwayup  fepol  pillok  premarsx  spanking  fechld  \\\n",
       "0  2010    1   31         4      2       1         4         4       2   \n",
       "1  2010    2   23         5      2       1         4         3       2   \n",
       "2  2010    3   71       NaN      2       2         1         1       3   \n",
       "3  2010    4   82         2      2       1         3         3       3   \n",
       "4  2010    5   78       NaN    NaN     NaN       NaN       NaN     NaN   \n",
       "\n",
       "   fepresch    ...     patriot2  patriot3  patriot4  poleff18  poleff19  \\\n",
       "0         2    ...          NaN       NaN       NaN       NaN       NaN   \n",
       "1         3    ...          NaN       NaN       NaN       NaN       NaN   \n",
       "2         2    ...          NaN       NaN       NaN       NaN       NaN   \n",
       "3         2    ...          NaN       NaN       NaN       NaN       NaN   \n",
       "4       NaN    ...          NaN       NaN       NaN       NaN       NaN   \n",
       "\n",
       "   poleff20  govdook  polgreed  choices  refrndms  \n",
       "0       NaN        3         2      NaN       NaN  \n",
       "1       NaN        4         4      NaN       NaN  \n",
       "2       NaN        3         4      NaN       NaN  \n",
       "3       NaN        2         2      NaN       NaN  \n",
       "4       NaN      NaN       NaN      NaN       NaN  \n",
       "\n",
       "[5 rows x 150 columns]"
      ]
     },
     "execution_count": 5,
     "metadata": {},
     "output_type": "execute_result"
    }
   ],
   "source": [
    "df.ix[:, 3:] = df.ix[:, 3:].replace([8, 9, 0], np.nan)\n",
    "df.head()"
   ]
  },
  {
   "cell_type": "markdown",
   "metadata": {},
   "source": [
    "For the age variable, I also have to replace 99 with N/A"
   ]
  },
  {
   "cell_type": "code",
   "execution_count": 6,
   "metadata": {
    "collapsed": true
   },
   "outputs": [],
   "source": [
    "df.age.replace([99], np.nan, inplace=True)"
   ]
  },
  {
   "cell_type": "markdown",
   "metadata": {},
   "source": [
    "Here's an example of a typical variable on a 5-point Likert scale."
   ]
  },
  {
   "cell_type": "code",
   "execution_count": 7,
   "metadata": {
    "collapsed": false
   },
   "outputs": [
    {
     "data": {
      "image/png": "[encoded data removed]",
      "text/plain": [
       "<matplotlib.figure.Figure at 0x7f6a1f41af10>"
      ]
     },
     "metadata": {},
     "output_type": "display_data"
    }
   ],
   "source": [
    "thinkplot.Hist(Pmf(df.choices))"
   ]
  },
  {
   "cell_type": "markdown",
   "metadata": {},
   "source": [
    "I have to compute year born"
   ]
  },
  {
   "cell_type": "code",
   "execution_count": 8,
   "metadata": {
    "collapsed": false
   },
   "outputs": [],
   "source": [
    "df['yrborn'] = df.year - df.age"
   ]
  },
  {
   "cell_type": "markdown",
   "metadata": {},
   "source": [
    "Here's what the distribution looks like.  The survey includes roughly equal numbers of people born each year from 1922 to 1996."
   ]
  },
  {
   "cell_type": "code",
   "execution_count": 9,
   "metadata": {
    "collapsed": false
   },
   "outputs": [
    {
     "data": {
      "text/plain": [
       "{'xscale': 'linear', 'yscale': 'linear'}"
      ]
     },
     "execution_count": 9,
     "metadata": {},
     "output_type": "execute_result"
    },
    {
     "data": {
      "image/png": "[encoded data removed]",
      "text/plain": [
       "<matplotlib.figure.Figure at 0x7f6a1cc1f390>"
      ]
     },
     "metadata": {},
     "output_type": "display_data"
    }
   ],
   "source": [
    "pmf_yrborn = Pmf(df.yrborn)\n",
    "thinkplot.Cdf(pmf_yrborn.MakeCdf())"
   ]
  },
  {
   "cell_type": "markdown",
   "metadata": {},
   "source": [
    "Next I sort the respondents by year born and then assign them to cohorts so there are 200 people in each cohort."
   ]
  },
  {
   "cell_type": "code",
   "execution_count": 10,
   "metadata": {
    "collapsed": false
   },
   "outputs": [
    {
     "data": {
      "text/html": [
       "<div>\n",
       "<table border=\"1\" class=\"dataframe\">\n",
       "  <thead>\n",
       "    <tr style=\"text-align: right;\">\n",
       "      <th></th>\n",
       "      <th>year</th>\n",
       "      <th>age</th>\n",
       "      <th>yrborn</th>\n",
       "      <th>counter</th>\n",
       "    </tr>\n",
       "  </thead>\n",
       "  <tbody>\n",
       "    <tr>\n",
       "      <th>1411</th>\n",
       "      <td>2010</td>\n",
       "      <td>89</td>\n",
       "      <td>1921</td>\n",
       "      <td>0</td>\n",
       "    </tr>\n",
       "    <tr>\n",
       "      <th>1035</th>\n",
       "      <td>2010</td>\n",
       "      <td>89</td>\n",
       "      <td>1921</td>\n",
       "      <td>0</td>\n",
       "    </tr>\n",
       "    <tr>\n",
       "      <th>1739</th>\n",
       "      <td>2010</td>\n",
       "      <td>89</td>\n",
       "      <td>1921</td>\n",
       "      <td>0</td>\n",
       "    </tr>\n",
       "    <tr>\n",
       "      <th>1490</th>\n",
       "      <td>2010</td>\n",
       "      <td>89</td>\n",
       "      <td>1921</td>\n",
       "      <td>0</td>\n",
       "    </tr>\n",
       "    <tr>\n",
       "      <th>861</th>\n",
       "      <td>2010</td>\n",
       "      <td>89</td>\n",
       "      <td>1921</td>\n",
       "      <td>0</td>\n",
       "    </tr>\n",
       "  </tbody>\n",
       "</table>\n",
       "</div>"
      ],
      "text/plain": [
       "      year  age  yrborn  counter\n",
       "1411  2010   89    1921        0\n",
       "1035  2010   89    1921        0\n",
       "1739  2010   89    1921        0\n",
       "1490  2010   89    1921        0\n",
       "861   2010   89    1921        0"
      ]
     },
     "execution_count": 10,
     "metadata": {},
     "output_type": "execute_result"
    }
   ],
   "source": [
    "df_sorted = df[~df.age.isnull()].sort_values(by='yrborn')\n",
    "df_sorted['counter'] = np.arange(len(df_sorted), dtype=int) // 200\n",
    "df_sorted[['year', 'age', 'yrborn', 'counter']].head()"
   ]
  },
  {
   "cell_type": "code",
   "execution_count": 11,
   "metadata": {
    "collapsed": false
   },
   "outputs": [
    {
     "data": {
      "text/html": [
       "<div>\n",
       "<table border=\"1\" class=\"dataframe\">\n",
       "  <thead>\n",
       "    <tr style=\"text-align: right;\">\n",
       "      <th></th>\n",
       "      <th>year</th>\n",
       "      <th>age</th>\n",
       "      <th>yrborn</th>\n",
       "      <th>counter</th>\n",
       "    </tr>\n",
       "  </thead>\n",
       "  <tbody>\n",
       "    <tr>\n",
       "      <th>4301</th>\n",
       "      <td>2014</td>\n",
       "      <td>18</td>\n",
       "      <td>1996</td>\n",
       "      <td>32</td>\n",
       "    </tr>\n",
       "    <tr>\n",
       "      <th>4613</th>\n",
       "      <td>2014</td>\n",
       "      <td>18</td>\n",
       "      <td>1996</td>\n",
       "      <td>32</td>\n",
       "    </tr>\n",
       "    <tr>\n",
       "      <th>4993</th>\n",
       "      <td>2014</td>\n",
       "      <td>18</td>\n",
       "      <td>1996</td>\n",
       "      <td>32</td>\n",
       "    </tr>\n",
       "    <tr>\n",
       "      <th>4451</th>\n",
       "      <td>2014</td>\n",
       "      <td>18</td>\n",
       "      <td>1996</td>\n",
       "      <td>32</td>\n",
       "    </tr>\n",
       "    <tr>\n",
       "      <th>6032</th>\n",
       "      <td>2014</td>\n",
       "      <td>18</td>\n",
       "      <td>1996</td>\n",
       "      <td>32</td>\n",
       "    </tr>\n",
       "  </tbody>\n",
       "</table>\n",
       "</div>"
      ],
      "text/plain": [
       "      year  age  yrborn  counter\n",
       "4301  2014   18    1996       32\n",
       "4613  2014   18    1996       32\n",
       "4993  2014   18    1996       32\n",
       "4451  2014   18    1996       32\n",
       "6032  2014   18    1996       32"
      ]
     },
     "execution_count": 11,
     "metadata": {},
     "output_type": "execute_result"
    }
   ],
   "source": [
    "df_sorted[['year', 'age', 'yrborn', 'counter']].tail()"
   ]
  },
  {
   "cell_type": "markdown",
   "metadata": {},
   "source": [
    "I end up with the same number of people in each cohort (except the last)."
   ]
  },
  {
   "cell_type": "code",
   "execution_count": 12,
   "metadata": {
    "collapsed": false
   },
   "outputs": [
    {
     "data": {
      "image/png": "[encoded data removed]",
      "text/plain": [
       "<matplotlib.figure.Figure at 0x7f6a1cb48090>"
      ]
     },
     "metadata": {},
     "output_type": "display_data"
    }
   ],
   "source": [
    "thinkplot.Cdf(Cdf(df_sorted.counter))\n",
    "None"
   ]
  },
  {
   "cell_type": "markdown",
   "metadata": {},
   "source": [
    "Then I can group by cohort."
   ]
  },
  {
   "cell_type": "code",
   "execution_count": 13,
   "metadata": {
    "collapsed": true
   },
   "outputs": [],
   "source": [
    "groups = df_sorted.groupby('counter')"
   ]
  },
  {
   "cell_type": "markdown",
   "metadata": {},
   "source": [
    "I'll instantiate an object for each cohort."
   ]
  },
  {
   "cell_type": "code",
   "execution_count": 14,
   "metadata": {
    "collapsed": true
   },
   "outputs": [],
   "source": [
    "class Cohort:\n",
    "    skip = ['year', 'id_', 'age', 'yrborn', 'cohort', 'counter']\n",
    "    \n",
    "    def __init__(self, name, df):\n",
    "        self.name = name\n",
    "        self.df = df\n",
    "        self.pmf_map = {}\n",
    "        \n",
    "    def make_pmfs(self):\n",
    "        for col in self.df.columns:\n",
    "            if col in self.skip:\n",
    "                continue\n",
    "            self.pmf_map[col] = Pmf(self.df[col].dropna())\n",
    "            try:\n",
    "                self.pmf_map[col].Normalize()\n",
    "            except ValueError:\n",
    "                print(self.name, col)\n",
    "            \n",
    "    def total_divergence(self, other, divergence_func):\n",
    "        total = 0\n",
    "        for col, pmf1 in self.pmf_map.items():\n",
    "            pmf2 = other.pmf_map[col]\n",
    "            divergence = divergence_func(pmf1, pmf2)\n",
    "            #print(col, pmf1.Mean(), pmf2.Mean(), divergence)\n",
    "            total += divergence\n",
    "        return total"
   ]
  },
  {
   "cell_type": "markdown",
   "metadata": {},
   "source": [
    "To compute the difference between successive cohorts, I'll loop through the questions, compute Pmfs to represent the responses, and then compute the difference between Pmfs.\n",
    "\n",
    "I'll use two functions to compute these differences.  One computes the difference in means:"
   ]
  },
  {
   "cell_type": "code",
   "execution_count": 15,
   "metadata": {
    "collapsed": true
   },
   "outputs": [],
   "source": [
    "def MeanDivergence(pmf1, pmf2):\n",
    "    return abs(pmf1.Mean() - pmf2.Mean())"
   ]
  },
  {
   "cell_type": "markdown",
   "metadata": {},
   "source": [
    "The other computes the [Jensen-Shannon divergence](https://en.wikipedia.org/wiki/Jensen%E2%80%93Shannon_divergence)"
   ]
  },
  {
   "cell_type": "code",
   "execution_count": 16,
   "metadata": {
    "collapsed": true
   },
   "outputs": [],
   "source": [
    "def JSDivergence(pmf1, pmf2):\n",
    "    xs = set(pmf1.Values()) | set(pmf2.Values())\n",
    "    ps = np.asarray(pmf1.Probs(xs))\n",
    "    qs = np.asarray(pmf2.Probs(xs))\n",
    "    ms = ps + qs\n",
    "    return 0.5 * (entropy(ps, ms) + entropy(qs, ms))"
   ]
  },
  {
   "cell_type": "markdown",
   "metadata": {},
   "source": [
    "First I'll loop through the groups and make Cohort objects"
   ]
  },
  {
   "cell_type": "code",
   "execution_count": 17,
   "metadata": {
    "collapsed": false
   },
   "outputs": [
    {
     "data": {
      "text/plain": [
       "33"
      ]
     },
     "execution_count": 17,
     "metadata": {},
     "output_type": "execute_result"
    }
   ],
   "source": [
    "cohorts = []\n",
    "for name, group in groups:\n",
    "    cohort = Cohort(name, group)\n",
    "    cohort.make_pmfs()\n",
    "    cohorts.append(cohort)\n",
    "    \n",
    "len(cohorts)"
   ]
  },
  {
   "cell_type": "markdown",
   "metadata": {},
   "source": [
    "Each cohort spans a range about 3 birth years.  For example, the cohort at index 10 spans 1965 to 1967."
   ]
  },
  {
   "cell_type": "code",
   "execution_count": 18,
   "metadata": {
    "collapsed": false
   },
   "outputs": [
    {
     "data": {
      "text/plain": [
       "count     200.000000\n",
       "mean     1956.585000\n",
       "std         0.493958\n",
       "min      1956.000000\n",
       "25%      1956.000000\n",
       "50%      1957.000000\n",
       "75%      1957.000000\n",
       "max      1957.000000\n",
       "Name: yrborn, dtype: float64"
      ]
     },
     "execution_count": 18,
     "metadata": {},
     "output_type": "execute_result"
    }
   ],
   "source": [
    "cohorts[11].df.yrborn.describe()"
   ]
  },
  {
   "cell_type": "markdown",
   "metadata": {},
   "source": [
    "Here's the total divergence between the first two cohorts, using the mean difference between Pmfs."
   ]
  },
  {
   "cell_type": "code",
   "execution_count": 19,
   "metadata": {
    "collapsed": false
   },
   "outputs": [
    {
     "data": {
      "text/plain": [
       "31.040279367049521"
      ]
     },
     "execution_count": 19,
     "metadata": {},
     "output_type": "execute_result"
    }
   ],
   "source": [
    "cohorts[0].total_divergence(cohorts[1], MeanDivergence)"
   ]
  },
  {
   "cell_type": "markdown",
   "metadata": {},
   "source": [
    "And here's the total J-S divergence:"
   ]
  },
  {
   "cell_type": "code",
   "execution_count": 20,
   "metadata": {
    "collapsed": false
   },
   "outputs": [
    {
     "data": {
      "text/plain": [
       "6.7725572288951366"
      ]
     },
     "execution_count": 20,
     "metadata": {},
     "output_type": "execute_result"
    }
   ],
   "source": [
    "cohorts[0].total_divergence(cohorts[1], JSDivergence)"
   ]
  },
  {
   "cell_type": "markdown",
   "metadata": {},
   "source": [
    "This loop computes the (absolute value) difference between successive cohorts and the cumulative sum of the differences."
   ]
  },
  {
   "cell_type": "code",
   "execution_count": 21,
   "metadata": {
    "collapsed": false
   },
   "outputs": [
    {
     "name": "stdout",
     "output_type": "stream",
     "text": [
      "0 31.040279367 31.040279367\n",
      "1 28.3836530218 59.4239323888\n",
      "2 23.5696110289 82.9935434177\n",
      "3 26.2323801584 109.225923576\n",
      "4 24.9007829029 134.126706479\n",
      "5 26.0393476525 160.166054132\n",
      "6 24.8166232133 184.982677345\n",
      "7 21.6520436658 206.634721011\n",
      "8 24.1933904043 230.828111415\n",
      "9 25.6776252798 256.505736695\n",
      "10 29.8524030016 286.358139696\n",
      "11 26.8980464824 313.256186179\n",
      "12 25.7648247447 339.021010923\n",
      "13 26.1889717953 365.209982719\n",
      "14 22.8978988777 388.107881596\n",
      "15 21.8568321591 409.964713756\n",
      "16 24.0318591633 433.996572919\n",
      "17 26.5253260458 460.521898965\n",
      "18 22.8921890979 483.414088063\n",
      "19 23.2634817637 506.677569826\n",
      "20 22.7139238903 529.391493717\n",
      "21 21.8612744354 551.252768152\n",
      "22 28.7140491676 579.96681732\n",
      "23 25.3770585475 605.343875867\n",
      "24 28.4834464175 633.827322285\n",
      "25 26.5365954008 660.363917685\n",
      "26 25.9157951263 686.279712812\n",
      "27 24.5135820021 710.793294814\n",
      "28 25.8325896861 736.6258845\n",
      "29 23.3612099178 759.987094418\n",
      "30 25.4897938733 785.476888291\n",
      "31 33.1647682631 818.641656554\n"
     ]
    }
   ],
   "source": [
    "res = []\n",
    "cumulative = 0\n",
    "for i in range(len(cohorts)-1):\n",
    "    td = cohorts[i].total_divergence(cohorts[i+1], MeanDivergence)\n",
    "    cumulative += td\n",
    "    print(i, td, cumulative)\n",
    "    res.append((i, cumulative))"
   ]
  },
  {
   "cell_type": "markdown",
   "metadata": {},
   "source": [
    "The results are a nearly straight line, suggesting that there are no meaningful generations, at least as I've formulated the question."
   ]
  },
  {
   "cell_type": "code",
   "execution_count": 22,
   "metadata": {
    "collapsed": false
   },
   "outputs": [
    {
     "data": {
      "image/png": "[encoded data removed]",
      "text/plain": [
       "<matplotlib.figure.Figure at 0x7f6a1c22f3d0>"
      ]
     },
     "metadata": {},
     "output_type": "display_data"
    }
   ],
   "source": [
    "xs, ys = zip(*res)\n",
    "thinkplot.Plot(xs, ys)\n",
    "thinkplot.Config(xlabel='Cohort #',\n",
    "                ylabel='Cumulative difference in means',\n",
    "                legend=False)"
   ]
  },
  {
   "cell_type": "markdown",
   "metadata": {},
   "source": [
    "The results looks pretty much the same using J-S divergence."
   ]
  },
  {
   "cell_type": "code",
   "execution_count": 23,
   "metadata": {
    "collapsed": false
   },
   "outputs": [
    {
     "name": "stdout",
     "output_type": "stream",
     "text": [
      "0 6.7725572289 6.7725572289\n",
      "1 5.62917236405 12.4017295929\n",
      "2 5.0624907141 17.464220307\n",
      "3 4.17000968182 21.6342299889\n",
      "4 4.28812434098 25.9223543299\n",
      "5 4.82791915546 30.7502734853\n",
      "6 4.68718559848 35.4374590838\n",
      "7 4.68468177153 40.1221408553\n",
      "8 5.05290361605 45.1750444714\n",
      "9 4.73898052765 49.914024999\n",
      "10 4.70690791746 54.6209329165\n",
      "11 4.50240017279 59.1233330893\n",
      "12 4.27566340317 63.3989964924\n",
      "13 4.25538202128 67.6543785137\n",
      "14 3.81795459454 71.4723331083\n",
      "15 3.87937009897 75.3517032072\n",
      "16 4.04261284213 79.3943160494\n",
      "17 4.08350528576 83.4778213351\n",
      "18 4.48996769966 87.9677890348\n",
      "19 3.91403460156 91.8818236363\n",
      "20 3.84677999195 95.7286036283\n",
      "21 3.80839549117 99.5369991195\n",
      "22 4.51411169618 104.051110816\n",
      "23 4.08910255992 108.140213376\n",
      "24 4.4797335534 112.619946929\n",
      "25 4.89923921364 117.519186143\n",
      "26 4.31338353073 121.832569673\n",
      "27 4.2918089177 126.124378591\n",
      "28 4.12560127765 130.249979869\n",
      "29 3.9072987636 134.157278632\n",
      "30 4.5453620366 138.702640669\n",
      "31 8.30423913322 147.006879802\n"
     ]
    }
   ],
   "source": [
    "res = []\n",
    "cumulative = 0\n",
    "for i in range(len(cohorts)-1):\n",
    "    td = cohorts[i].total_divergence(cohorts[i+1], JSDivergence)\n",
    "    cumulative += td\n",
    "    print(i, td, cumulative)\n",
    "    res.append((i, cumulative))"
   ]
  },
  {
   "cell_type": "code",
   "execution_count": 24,
   "metadata": {
    "collapsed": false
   },
   "outputs": [
    {
     "data": {
      "image/png": "[encoded data removed]",
      "text/plain": [
       "<matplotlib.figure.Figure at 0x7f6a1c1bd410>"
      ]
     },
     "metadata": {},
     "output_type": "display_data"
    }
   ],
   "source": [
    "xs, ys = zip(*res)\n",
    "thinkplot.Plot(xs, ys)\n",
    "thinkplot.Config(xlabel='Cohort #',\n",
    "                ylabel='Cumulative JS divergence',\n",
    "                legend=False)"
   ]
  },
  {
   "cell_type": "markdown",
   "metadata": {},
   "source": [
    "Conclusion: Using this set of questions from the GSS, and two measures of divergence, it seems that the total divergence between successive cohorts is nearly constant over time.\n",
    "\n",
    "If a \"generation\" is supposed to be a sequence of cohorts with relatively small differences between them, punctuated by periods of larger differences, this study suggests that generations do not exist."
   ]
  }
 ],
 "metadata": {
  "kernelspec": {
   "display_name": "Python 3",
   "language": "python",
   "name": "python3"
  },
  "language_info": {
   "codemirror_mode": {
    "name": "ipython",
    "version": 3
   },
   "file_extension": ".py",
   "mimetype": "text/x-python",
   "name": "python",
   "nbconvert_exporter": "python",
   "pygments_lexer": "ipython3",
   "version": "3.5.1"
  }
 },
 "nbformat": 4,
 "nbformat_minor": 0
}
