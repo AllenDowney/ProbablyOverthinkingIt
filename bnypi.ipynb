{
 "cells": [
  {
   "cell_type": "code",
   "execution_count": 2,
   "metadata": {
    "collapsed": false
   },
   "outputs": [],
   "source": [
    "from __future__ import print_function"
   ]
  },
  {
   "cell_type": "code",
   "execution_count": 19,
   "metadata": {
    "collapsed": true
   },
   "outputs": [],
   "source": [
    "def is_palindrome(x):\n",
    "    return x == x[::-1]"
   ]
  },
  {
   "cell_type": "code",
   "execution_count": 20,
   "metadata": {
    "collapsed": false
   },
   "outputs": [],
   "source": [
    "def int_to_base(x, base):\n",
    "    if x == 0:\n",
    "        return ''\n",
    "    div, mod = divmod(x, base)\n",
    "    return int_to_base(div, base) + str(mod)"
   ]
  },
  {
   "cell_type": "code",
   "execution_count": 27,
   "metadata": {
    "collapsed": false
   },
   "outputs": [],
   "source": [
    "def which_bases(year):\n",
    "    bases = range(2, 9)\n",
    "    return [base for base in bases if is_palindrome(int_to_base(year, base))]"
   ]
  },
  {
   "cell_type": "code",
   "execution_count": 30,
   "metadata": {
    "collapsed": false
   },
   "outputs": [
    {
     "name": "stdout",
     "output_type": "stream",
     "text": [
      "2015 [2]\n",
      "2033 [5]\n",
      "2035 [6]\n",
      "2042 [3]\n",
      "2043 [8]\n",
      "2045 [4]\n",
      "2047 [2]\n",
      "2049 [2]\n",
      "2050 [4]\n",
      "2052 [8]\n",
      "2056 [7]\n",
      "2058 [5]\n",
      "2064 [7]\n",
      "2069 [3]\n",
      "2071 [6]\n",
      "2083 [5]\n",
      "2096 [3]\n"
     ]
    }
   ],
   "source": [
    "for year in range(2015, 2100):\n",
    "    bases = which_bases(year)\n",
    "    if bases:\n",
    "        print(year, which_bases(year))"
   ]
  },
  {
   "cell_type": "code",
   "execution_count": null,
   "metadata": {
    "collapsed": true
   },
   "outputs": [],
   "source": []
  }
 ],
 "metadata": {
  "kernelspec": {
   "display_name": "Python 2",
   "language": "python",
   "name": "python2"
  },
  "language_info": {
   "codemirror_mode": {
    "name": "ipython",
    "version": 2
   },
   "file_extension": ".py",
   "mimetype": "text/x-python",
   "name": "python",
   "nbconvert_exporter": "python",
   "pygments_lexer": "ipython2",
   "version": "2.7.10"
  }
 },
 "nbformat": 4,
 "nbformat_minor": 0
}
