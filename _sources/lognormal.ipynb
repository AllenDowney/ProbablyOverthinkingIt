{
 "cells": [
  {
   "cell_type": "markdown",
   "metadata": {
    "tags": []
   },
   "source": [
    "# Extremes, Outliers, and GOATs"
   ]
  },
  {
   "cell_type": "markdown",
   "metadata": {
    "tags": [
     "remove-cell"
    ]
   },
   "source": [
    "This is one of the Jupyter notebooks I used in my preparation of *Probably Overthinking It: How to Use Data to Answer Questions, Avoid Statistical Traps, and Make Better Decisions*.\n",
    "\n",
    "The book is scheduled to be published by University of Chicago Press in 2023.\n",
    "If you would like to get infrequent email announcements about the book, please\n",
    "[sign up for my mailing list](http://eepurl.com/h0nfbX).\n",
    "\n",
    "Before you read these notebooks, please keep in mind:\n",
    "\n",
    "* There is some explanatory text in the notebooks, but some of the examples will not make sense until you have read the corresponding chapter in the book.\n",
    "\n",
    "* While preparing these notebooks, I made some changes to improve the readability of the code. There might be small differences between what appears in the book and what you get when you run the code."
   ]
  },
  {
   "cell_type": "markdown",
   "metadata": {
    "tags": []
   },
   "source": [
    "[Click here to run this notebook on Colab](https://colab.research.google.com/github/AllenDowney/ProbablyOverthinkingIt/blob/book/notebooks/lognormal.ipynb)."
   ]
  },
  {
   "cell_type": "code",
   "execution_count": 61,
   "metadata": {
    "tags": [
     "hide-cell"
    ]
   },
   "outputs": [],
   "source": [
    "# Install empiricaldist if we don't already have it\n",
    "\n",
    "try:\n",
    "    import empiricaldist\n",
    "except ImportError:\n",
    "    !pip install empiricaldist"
   ]
  },
  {
   "cell_type": "code",
   "execution_count": 62,
   "metadata": {
    "tags": [
     "hide-cell"
    ]
   },
   "outputs": [],
   "source": [
    "# download utils.py\n",
    "\n",
    "from os.path import basename, exists\n",
    "\n",
    "def download(url):\n",
    "    filename = basename(url)\n",
    "    if not exists(filename):\n",
    "        from urllib.request import urlretrieve\n",
    "        local, _ = urlretrieve(url, filename)\n",
    "        print('Downloaded ' + local)\n",
    "        \n",
    "download(\"https://github.com/AllenDowney/ProbablyOverthinkingIt/raw/book/notebooks/utils.py\")"
   ]
  },
  {
   "cell_type": "code",
   "execution_count": 63,
   "metadata": {
    "tags": [
     "hide-cell"
    ]
   },
   "outputs": [],
   "source": [
    "import pandas as pd\n",
    "import numpy as np\n",
    "import matplotlib.pyplot as plt\n",
    "\n",
    "from utils import decorate\n",
    "\n",
    "# Set the random seed so we get the same results every time\n",
    "np.random.seed(17)"
   ]
  },
  {
   "cell_type": "markdown",
   "metadata": {},
   "source": [
    "Technical note: The following function is an example of a computational method I often use to fit a distribution to data.\n",
    "\n",
    "Conventional methods are generally based on moment-matching or computing maximum-likelihood estimators for the parameters.\n",
    "\n",
    "But often the question we care about is whether there is a distribution in a particular family that is a good match for a given empirical distribution. The best way to answer that question is to plot the CDFs of the data and the model and compare them visually to see where they agree or disagree.\n",
    "\n",
    "If that's the evaluation metric, then the right thing to optimize is the distance between the distributions, averaged in some way over the range of the quantities.\n",
    "\n",
    "There are several ways you could do that. The option I use here is to write an error function that takes hypothetical set of parameters and\n",
    "\n",
    "1. Makes an object that represents a distribution with those parameters.\n",
    "\n",
    "2. Chooses a range of percentiles and finds the corresponding quantiles in the data.\n",
    "\n",
    "3. Evaluates the model distribution at those quantiles, and\n",
    "\n",
    "4. Computes the vertical distance between the resulting percentiles and the target percentiles.\n",
    "\n",
    "Then I use `least_squares` to find the parameters that minimize the sum of the squares of these distances."
   ]
  },
  {
   "cell_type": "code",
   "execution_count": 64,
   "metadata": {
    "tags": []
   },
   "outputs": [],
   "source": [
    "from empiricaldist import Cdf\n",
    "from scipy.optimize import least_squares\n",
    "from scipy.stats import norm\n",
    "\n",
    "\n",
    "def fit_normal(series):\n",
    "    \"\"\"Find the model that minimizes the errors in percentiles.\"\"\"\n",
    "\n",
    "    def error_func(params, series):\n",
    "        mu, sigma = params\n",
    "        cdf = Cdf.from_seq(series)\n",
    "        qs = series.quantile([0.1, 0.3, 0.5, 0.7, 0.9])\n",
    "        error = cdf(qs) - norm.cdf(qs, mu, sigma)\n",
    "        return error\n",
    "\n",
    "    params = series.mean(), series.std()\n",
    "    res = least_squares(error_func, x0=params, args=(series,), xtol=1e3)\n",
    "    assert res.success\n",
    "    mu, sigma = res.x\n",
    "    return norm(mu, sigma)"
   ]
  },
  {
   "cell_type": "code",
   "execution_count": 65,
   "metadata": {
    "tags": []
   },
   "outputs": [],
   "source": [
    "from scipy.stats import binom\n",
    "\n",
    "\n",
    "def normal_error_bounds(dist, n, qs, alpha=0.95):\n",
    "    \"\"\"Find the bounds on a normal CDF analytically.\"\"\"\n",
    "    # find the correct probabilities\n",
    "    ps = dist.cdf(qs)\n",
    "\n",
    "    # find the upper and lower percentiles of\n",
    "    # a binomial distribution\n",
    "    p_low = (1 - alpha) / 2\n",
    "    p_high = 1 - p_low\n",
    "\n",
    "    low = binom.ppf(p_low, n, ps) / n\n",
    "    low[ps == 1] = 1\n",
    "    high = binom.ppf(p_high, n, ps) / n\n",
    "    return low, high"
   ]
  },
  {
   "cell_type": "code",
   "execution_count": 66,
   "metadata": {
    "tags": []
   },
   "outputs": [],
   "source": [
    "from gaussian import make_cdf\n",
    "\n",
    "\n",
    "def make_plot(series, model_label=None, plot_bounds=True, qs=None, **options):\n",
    "    \"\"\"Plot a CDF with a Gaussian model.\n",
    "    \n",
    "    series: data\n",
    "    model_label: string label for the model\n",
    "    plot_bounds: boolean, whether to plot the expected upper bound\n",
    "    qs: values where the error bounds should be evaluated (optional)\n",
    "    options: passed to plt.plot\n",
    "    \"\"\"\n",
    "    cdf = make_cdf(series)\n",
    "    dist = fit_normal(series)\n",
    "    p = 1 - (1 / len(series))\n",
    "    upper = dist.ppf(p)\n",
    "\n",
    "    if plot_bounds:\n",
    "        plt.plot(upper, p * 100, \"+\", color=\"black\", ms=12)\n",
    "\n",
    "    n = len(series)\n",
    "    if qs is None:\n",
    "        q_max = max(cdf.qs.max(), upper)\n",
    "        qs = np.linspace(cdf.qs.min(), q_max)\n",
    "\n",
    "    low, high = normal_error_bounds(dist, n, qs)\n",
    "    plt.fill_between(\n",
    "        qs, low * 100, high * 100, lw=1, color=\"gray\", alpha=0.3, label=model_label\n",
    "    )\n",
    "\n",
    "    cdf.plot(**options)"
   ]
  },
  {
   "cell_type": "markdown",
   "metadata": {
    "tags": []
   },
   "source": [
    "In Chapter 1 we saw that many measurements in the natural world follow a Gaussian distribution, and I posited an explanation: if we add up many random factors, the distribution of the sum tends to be Gaussian.\n",
    "\n",
    "The average height in the United States is about 170 cm.\n",
    "The tallest person ever was 272 cm, which is certainly tall, but it is only 60% greater than the mean.\n",
    "And in all likelihood, no one will ever be substantially taller."
   ]
  },
  {
   "cell_type": "code",
   "execution_count": 67,
   "metadata": {
    "tags": []
   },
   "outputs": [
    {
     "data": {
      "text/plain": [
       "160.0"
      ]
     },
     "execution_count": 67,
     "metadata": {},
     "output_type": "execute_result"
    }
   ],
   "source": [
    "# https://en.wikipedia.org/wiki/List_of_tallest_people\n",
    "\n",
    "272 / 170 * 100"
   ]
  },
  {
   "cell_type": "markdown",
   "metadata": {
    "tags": []
   },
   "source": [
    "The heaviest person ever reliably measured was almost eight times the current average in the United States."
   ]
  },
  {
   "cell_type": "code",
   "execution_count": 68,
   "metadata": {
    "tags": []
   },
   "outputs": [
    {
     "data": {
      "text/plain": [
       "7.963414634146342"
      ]
     },
     "execution_count": 68,
     "metadata": {},
     "output_type": "execute_result"
    }
   ],
   "source": [
    "# https://en.wikipedia.org/wiki/List_of_heaviest_people\n",
    "\n",
    "653 / 82"
   ]
  },
  {
   "cell_type": "markdown",
   "metadata": {
    "tags": []
   },
   "source": [
    "Suppose we start with an absolute beginner at chess, named A.\n",
    "You could easily find a more experienced player -- call them B -- who would beat A 90% of the time.\n",
    "And it would not be hard to find a player C who could beat B 90% of the time; in fact, C would be pretty close to average.\n",
    "\n",
    "Then you could find a player D who could beat C 90% of the time and a player E who could beat D about as often.\n",
    "\n",
    "In a Gaussian distribution, that's about all you would get. If A is a rank beginner and C is average, E would be one of the best, and it would be hard to find someone substantially better.\n",
    "But the distribution of chess skill is lognormal and it extends farther to the right than a Gaussian.\n",
    "In fact, we can find a player F who beats E, a player G who beats F, and a player H who beats G, at each step more than 90% of the time.\n",
    "And the world champion in this distribution would still beat H almost 90% of the time."
   ]
  },
  {
   "cell_type": "code",
   "execution_count": 69,
   "metadata": {
    "tags": []
   },
   "outputs": [
    {
     "data": {
      "text/plain": [
       "A     100\n",
       "B     500\n",
       "C     900\n",
       "D    1300\n",
       "E    1700\n",
       "F    2100\n",
       "G    2500\n",
       "H    2900\n",
       "I    3300\n",
       "dtype: int64"
      ]
     },
     "execution_count": 69,
     "metadata": {},
     "output_type": "execute_result"
    }
   ],
   "source": [
    "a = np.arange(100, 3400, 400)\n",
    "pd.Series(a, index=list(\"ABCDEFGHI\"))"
   ]
  },
  {
   "cell_type": "code",
   "execution_count": 70,
   "metadata": {
    "tags": []
   },
   "outputs": [],
   "source": [
    "def elo_prob(diff):\n",
    "    return 1 - 1 / (1 + np.power(10, diff / 400))"
   ]
  },
  {
   "cell_type": "code",
   "execution_count": 71,
   "metadata": {
    "tags": []
   },
   "outputs": [
    {
     "data": {
      "text/plain": [
       "(0.9090909090909091, 0.8490204427886767)"
      ]
     },
     "execution_count": 71,
     "metadata": {},
     "output_type": "execute_result"
    }
   ],
   "source": [
    "elo_prob(400), elo_prob(300), "
   ]
  },
  {
   "cell_type": "markdown",
   "metadata": {
    "tags": []
   },
   "source": [
    "## The Exception\n",
    "\n",
    "I'll use data from the Behavioral Risk Factor Surveillance System\n",
    "(BRFSS), which is an annual survey run by the U.S. Centers for Disease Control and Prevention (CDC).\n",
    "\n",
    "The 2020 dataset includes information about demographics, health, and health risks\n",
    "from a large, representative sample of adults in the United States: a total of 195,055 men and 205,903 women.\n",
    "Among the data are the self-reported weights of the respondents, recorded in kilograms."
   ]
  },
  {
   "cell_type": "code",
   "execution_count": 72,
   "metadata": {},
   "outputs": [],
   "source": [
    "download(\"https://github.com/AllenDowney/ProbablyOverthinkingIt/raw/book/data/brfss_sample.hdf\")"
   ]
  },
  {
   "cell_type": "code",
   "execution_count": 73,
   "metadata": {
    "tags": []
   },
   "outputs": [],
   "source": [
    "brfss = pd.read_hdf(\"brfss_sample.hdf\", \"brfss\")"
   ]
  },
  {
   "cell_type": "code",
   "execution_count": 74,
   "metadata": {
    "tags": []
   },
   "outputs": [
    {
     "data": {
      "text/plain": [
       "(196055, 205903)"
      ]
     },
     "execution_count": 74,
     "metadata": {},
     "output_type": "execute_result"
    }
   ],
   "source": [
    "male = brfss[\"_SEX\"] == 1\n",
    "female = brfss[\"_SEX\"] == 2\n",
    "male.sum(), female.sum()"
   ]
  },
  {
   "cell_type": "code",
   "execution_count": 75,
   "metadata": {
    "tags": []
   },
   "outputs": [
    {
     "data": {
      "text/plain": [
       "count    365435.000000\n",
       "mean         82.025558\n",
       "std          21.153435\n",
       "min          21.061554\n",
       "25%          67.199892\n",
       "50%          79.483232\n",
       "75%          92.775075\n",
       "max         289.686997\n",
       "Name: WTKG3, dtype: float64"
      ]
     },
     "execution_count": 75,
     "metadata": {},
     "output_type": "execute_result"
    }
   ],
   "source": [
    "weight = brfss[\"WTKG3\"] + np.random.normal(0, 1, size=len(brfss))\n",
    "weight.describe()"
   ]
  },
  {
   "cell_type": "markdown",
   "metadata": {
    "tags": []
   },
   "source": [
    "The following figure shows the distribution of these weights, represented using cumulative distribution functions (CDFs).\n",
    "The lighter lines show Gaussian models that best fit the data;\n",
    "the crosses at the top show the locations of the largest weights we expect to find in samples this size from a Gaussian distribution."
   ]
  },
  {
   "cell_type": "code",
   "execution_count": 76,
   "metadata": {
    "tags": []
   },
   "outputs": [
    {
     "data": {
      "image/png": "[encoded data removed]",
      "text/plain": [
       "<Figure size 432x288 with 1 Axes>"
      ]
     },
     "metadata": {
      "needs_background": "light"
     },
     "output_type": "display_data"
    }
   ],
   "source": [
    "make_plot(weight[female], label=\"Female participants\", color=\"C1\")\n",
    "make_plot(weight[male], label=\"Male participants\", style=\"--\")\n",
    "\n",
    "decorate(\n",
    "    xlabel=\"Weight (kg)\",\n",
    "    ylabel=\"Percentile rank\",\n",
    "    title=\"Distribution of weight, BRFSS\",\n",
    ")"
   ]
  },
  {
   "cell_type": "markdown",
   "metadata": {
    "tags": []
   },
   "source": [
    "If these distributions were Gaussian, the heaviest woman in the sample would be about 150 kg, and the heaviest man would be 167 kg.\n",
    "In fact, the heaviest woman is 286 kg and the heaviest man is 290 kg."
   ]
  },
  {
   "cell_type": "code",
   "execution_count": 77,
   "metadata": {
    "tags": []
   },
   "outputs": [],
   "source": [
    "def upper_bound(series):\n",
    "    \"\"\"Compute the expected maximum value from a Gaussian model\n",
    "    \n",
    "    Use the sample to fit a Gaussian model and compute the largest\n",
    "    value we expect from a sample that size.\n",
    "    \n",
    "    series: sample\n",
    "    \n",
    "    returns: float\n",
    "    \"\"\"\n",
    "    dist = fit_normal(series)\n",
    "    p = 1 - (1 / len(series))\n",
    "    upper = dist.ppf(p)\n",
    "    return upper"
   ]
  },
  {
   "cell_type": "code",
   "execution_count": 78,
   "metadata": {
    "tags": []
   },
   "outputs": [
    {
     "data": {
      "text/plain": [
       "(149.94520956032576, 167.30677493324202)"
      ]
     },
     "execution_count": 78,
     "metadata": {},
     "output_type": "execute_result"
    }
   ],
   "source": [
    "upper_bound(weight[female]), upper_bound(weight[male])"
   ]
  },
  {
   "cell_type": "code",
   "execution_count": 79,
   "metadata": {
    "tags": []
   },
   "outputs": [
    {
     "data": {
      "text/plain": [
       "(286.4292088274667, 289.68699690382215)"
      ]
     },
     "execution_count": 79,
     "metadata": {},
     "output_type": "execute_result"
    }
   ],
   "source": [
    "np.max(weight[female]), np.max(weight[male])"
   ]
  },
  {
   "cell_type": "code",
   "execution_count": 80,
   "metadata": {
    "tags": []
   },
   "outputs": [],
   "source": [
    "def xlabels(labels):\n",
    "    \"\"\"Place labels on the x-axis on a log scale.\n",
    "    \n",
    "    labels: sequence of numbers\n",
    "    \"\"\"\n",
    "    ticks = np.log10(labels)\n",
    "    plt.xticks(ticks, labels)\n",
    "\n",
    "\n",
    "labels = [30, 50, 100, 150, 200, 250]"
   ]
  },
  {
   "cell_type": "markdown",
   "metadata": {
    "tags": []
   },
   "source": [
    "The following figure shows the distributions of the logarithms of weight along with Gaussian models that best fit them.\n",
    "\n",
    "At the top of the figure, the labels indicate the logarithms.\n",
    "At the bottom, the labels indicate the weights themselves.\n",
    "Notice that the logarithms are equally spaced, but the weights are not.\n",
    "\n",
    "The vertical dotted lines show the correspondence between the weights and their logarithms for the three examples I just mentioned: 50 kg, 100 kg, and 150 kg."
   ]
  },
  {
   "cell_type": "code",
   "execution_count": 81,
   "metadata": {
    "tags": []
   },
   "outputs": [
    {
     "data": {
      "text/plain": [
       "(1.6989700043360187, 2.1760912590556813)"
      ]
     },
     "execution_count": 81,
     "metadata": {},
     "output_type": "execute_result"
    }
   ],
   "source": [
    "np.log10(50), np.log10(150)"
   ]
  },
  {
   "cell_type": "code",
   "execution_count": 82,
   "metadata": {
    "tags": []
   },
   "outputs": [],
   "source": [
    "def two_scale(sample1, sample2, label1, label2, xlabel1, xlabel2):\n",
    "    \"\"\"Plot two distributions and label the top and bottom.\n",
    "    \n",
    "    The sequence of operations is a little tricky.\n",
    "    \"\"\"\n",
    "    # find the range of qs to use for both distributions\n",
    "    low = min(sample1.min(), sample2.min())\n",
    "    high = max(sample1.max(), sample2.max())\n",
    "    qs = np.linspace(low, high, 100)\n",
    "\n",
    "    # plot the first distribution\n",
    "    make_plot(sample1, qs=qs, label=label1, color=\"C1\")\n",
    "    h1, l1 = plt.gca().get_legend_handles_labels()\n",
    "    plt.xlabel(xlabel1)\n",
    "    plt.title(\"Distribution of weight, log scale\")\n",
    "    xlabels(labels)\n",
    "\n",
    "    # plot the second distribution\n",
    "    plt.twiny()\n",
    "    make_plot(sample2, qs=qs, label=label2, style=\"--\")\n",
    "    h2, l2 = plt.gca().get_legend_handles_labels()\n",
    "    plt.legend(h1 + h2, l1 + l2)\n",
    "\n",
    "    # label the axes\n",
    "    plt.ylabel(\"Percentile rank\")\n",
    "    plt.xlabel(xlabel2)\n",
    "    plt.tight_layout()"
   ]
  },
  {
   "cell_type": "code",
   "execution_count": 83,
   "metadata": {
    "tags": []
   },
   "outputs": [
    {
     "data": {
      "image/png": "[encoded data removed]",
      "text/plain": [
       "<Figure size 432x237.6 with 2 Axes>"
      ]
     },
     "metadata": {
      "needs_background": "light"
     },
     "output_type": "display_data"
    }
   ],
   "source": [
    "plt.figure(figsize=(6, 3.3))\n",
    "for x in np.log10([50, 100, 150]):\n",
    "    plt.axvline(x, color=\"gray\", ls=\":\")\n",
    "\n",
    "log_weight_male = np.log10(weight[male])\n",
    "log_weight_female = np.log10(weight[female])\n",
    "\n",
    "two_scale(\n",
    "    log_weight_female,\n",
    "    log_weight_male,\n",
    "    \"Female participants\",\n",
    "    \"Male participants\",\n",
    "    \"Weight (kg)\",\n",
    "    \"Weight (log base 10 kg)\",\n",
    ")"
   ]
  },
  {
   "cell_type": "markdown",
   "metadata": {
    "tags": []
   },
   "source": [
    "## Birth Weights are Gaussian\n",
    "\n",
    "To explore the distribution of birth weight, I'll use data from the National Survey of Family Growth (NSFG), which is run by the CDC, the same people we have to thank for the BRFSS.\n",
    "\n",
    "Between 2015 and 2017, the NSFG collected data from a representative sample of women in the United States.\n",
    "Among other information, the survey records the birth weights of their children.\n",
    "Excluding babies who were born pre-term, I selected weights for 3430 male and 3379 female babies.\n",
    "The following figure shows the distributions of these birth weights along with Gaussian curves that best fit them."
   ]
  },
  {
   "cell_type": "code",
   "execution_count": 84,
   "metadata": {},
   "outputs": [],
   "source": [
    "download(\"https://github.com/AllenDowney/ProbablyOverthinkingIt/raw/book/data/nsfg_sample.hdf5\")"
   ]
  },
  {
   "cell_type": "code",
   "execution_count": 85,
   "metadata": {
    "tags": []
   },
   "outputs": [
    {
     "data": {
      "text/plain": [
       "(9553, 13)"
      ]
     },
     "execution_count": 85,
     "metadata": {},
     "output_type": "execute_result"
    }
   ],
   "source": [
    "nsfg = pd.read_hdf('nsfg_sample.hdf5', 'nsfg')\n",
    "nsfg.shape"
   ]
  },
  {
   "cell_type": "code",
   "execution_count": 86,
   "metadata": {
    "tags": []
   },
   "outputs": [
    {
     "data": {
      "text/plain": [
       "6810"
      ]
     },
     "execution_count": 86,
     "metadata": {},
     "output_type": "execute_result"
    }
   ],
   "source": [
    "live = nsfg[\"outcome\"] == 1\n",
    "live.sum()"
   ]
  },
  {
   "cell_type": "code",
   "execution_count": 87,
   "metadata": {
    "tags": []
   },
   "outputs": [
    {
     "data": {
      "text/plain": [
       "6648"
      ]
     },
     "execution_count": 87,
     "metadata": {},
     "output_type": "execute_result"
    }
   ],
   "source": [
    "single = nsfg[\"nbrnaliv\"] == 1\n",
    "single.sum()"
   ]
  },
  {
   "cell_type": "code",
   "execution_count": 88,
   "metadata": {
    "tags": []
   },
   "outputs": [
    {
     "data": {
      "text/plain": [
       "5702"
      ]
     },
     "execution_count": 88,
     "metadata": {},
     "output_type": "execute_result"
    }
   ],
   "source": [
    "fullterm = (nsfg[\"prglngth\"] >= 37) & (nsfg[\"prglngth\"] < 42)\n",
    "fullterm.sum()"
   ]
  },
  {
   "cell_type": "code",
   "execution_count": 89,
   "metadata": {
    "tags": []
   },
   "outputs": [
    {
     "data": {
      "text/plain": [
       "5676"
      ]
     },
     "execution_count": 89,
     "metadata": {},
     "output_type": "execute_result"
    }
   ],
   "source": [
    "(live & fullterm).sum()"
   ]
  },
  {
   "cell_type": "code",
   "execution_count": 90,
   "metadata": {
    "tags": []
   },
   "outputs": [],
   "source": [
    "pounds = nsfg[\"birthwgt_lb1\"]\n",
    "ounces = nsfg[\"birthwgt_oz1\"]"
   ]
  },
  {
   "cell_type": "code",
   "execution_count": 91,
   "metadata": {
    "tags": []
   },
   "outputs": [],
   "source": [
    "pounds_clean = pounds.replace([98, 99], np.nan)\n",
    "ounces_clean = ounces.replace([98, 99], np.nan)\n",
    "\n",
    "birth_weight = (pounds_clean + ounces_clean / 16) * 454"
   ]
  },
  {
   "cell_type": "code",
   "execution_count": 92,
   "metadata": {
    "tags": []
   },
   "outputs": [
    {
     "data": {
      "text/plain": [
       "3430"
      ]
     },
     "execution_count": 92,
     "metadata": {},
     "output_type": "execute_result"
    }
   ],
   "source": [
    "male = nsfg[\"babysex1\"] == 1\n",
    "male.sum()"
   ]
  },
  {
   "cell_type": "code",
   "execution_count": 93,
   "metadata": {
    "tags": []
   },
   "outputs": [
    {
     "data": {
      "text/plain": [
       "3379"
      ]
     },
     "execution_count": 93,
     "metadata": {},
     "output_type": "execute_result"
    }
   ],
   "source": [
    "female = nsfg[\"babysex1\"] == 2\n",
    "female.sum()"
   ]
  },
  {
   "cell_type": "code",
   "execution_count": 94,
   "metadata": {
    "tags": []
   },
   "outputs": [
    {
     "data": {
      "text/plain": [
       "count    2764.000000\n",
       "mean        3.441670\n",
       "std         0.505128\n",
       "min         1.362000\n",
       "25%         3.149625\n",
       "50%         3.433375\n",
       "75%         3.745500\n",
       "max         5.448000\n",
       "dtype: float64"
      ]
     },
     "execution_count": 94,
     "metadata": {},
     "output_type": "execute_result"
    }
   ],
   "source": [
    "birth_weight_male = birth_weight[fullterm & male] / 1000\n",
    "birth_weight_male.describe()"
   ]
  },
  {
   "cell_type": "code",
   "execution_count": 95,
   "metadata": {
    "tags": []
   },
   "outputs": [
    {
     "data": {
      "text/plain": [
       "count    2769.000000\n",
       "mean        3.317344\n",
       "std         0.484603\n",
       "min         0.766125\n",
       "25%         2.979375\n",
       "50%         3.319875\n",
       "75%         3.632000\n",
       "max         5.419625\n",
       "dtype: float64"
      ]
     },
     "execution_count": 95,
     "metadata": {},
     "output_type": "execute_result"
    }
   ],
   "source": [
    "birth_weight_female = birth_weight[fullterm & female] / 1000\n",
    "birth_weight_female.describe()"
   ]
  },
  {
   "cell_type": "code",
   "execution_count": 96,
   "metadata": {
    "tags": []
   },
   "outputs": [
    {
     "data": {
      "image/png": "[encoded data removed]",
      "text/plain": [
       "<Figure size 432x288 with 1 Axes>"
      ]
     },
     "metadata": {
      "needs_background": "light"
     },
     "output_type": "display_data"
    }
   ],
   "source": [
    "make_plot(birth_weight_male, label=\"Male babies\", style=\"--\")\n",
    "make_plot(birth_weight_female, label=\"Female babies\", color=\"C1\")\n",
    "\n",
    "decorate(\n",
    "    xlabel=\"Birth weight (kg)\",\n",
    "    ylabel=\"Percentile rank\",\n",
    "    title=\"Distribution of birth weight, NSFG\",\n",
    ")"
   ]
  },
  {
   "cell_type": "markdown",
   "metadata": {
    "tags": []
   },
   "source": [
    "The Gaussian model fits the distribution of birth weights well.\n",
    "The heaviest babies are a little heavier than we would expect from a Gaussian distribution with this sample size, but the distributions are roughly symmetric, not skewed to the right like the distribution of adult weight.\n",
    "\n",
    "The following figure shows the logarithms of birth weights compared to a Gaussian distribution.\n",
    "The data deviate from the model, especially toward the low end."
   ]
  },
  {
   "cell_type": "code",
   "execution_count": 97,
   "metadata": {
    "tags": []
   },
   "outputs": [
    {
     "data": {
      "image/png": "[encoded data removed]",
      "text/plain": [
       "<Figure size 432x288 with 1 Axes>"
      ]
     },
     "metadata": {
      "needs_background": "light"
     },
     "output_type": "display_data"
    }
   ],
   "source": [
    "make_plot(np.log10(birth_weight_male), label=\"Male babies\", style=\"--\")\n",
    "make_plot(np.log10(birth_weight_female), label=\"Female babies\", color=\"C1\")\n",
    "\n",
    "decorate(\n",
    "    xlabel=\"Birth weight (log 10 kg)\",\n",
    "    ylabel=\"Percentile rank\",\n",
    "    title=\"Distribution of birth weight, NSFG\",\n",
    ")"
   ]
  },
  {
   "cell_type": "markdown",
   "metadata": {
    "tags": []
   },
   "source": [
    "## Simulating Weight Gain\n",
    "\n",
    "I wrote a simulation that starts with the birth weights we saw in the previous section and generates 40 random growth rates, one for each year from birth to age 40.\n",
    "The growth rates vary from about 20-40%; in other words, each simulated person gains 20-40% of their current weight each year.\n",
    "The following figure shows the results and a Gaussian model, both on a log scale."
   ]
  },
  {
   "cell_type": "code",
   "execution_count": 99,
   "metadata": {
    "tags": []
   },
   "outputs": [],
   "source": [
    "from scipy.stats import norm\n",
    "\n",
    "\n",
    "def simulate_weights(start, mu=1.3, sigma=0.03):\n",
    "    \"\"\"Simulate a simple model of annual weight gain.\n",
    "    \n",
    "    start: sequence of starting weights\n",
    "    mu, sigma: parameters of the distributions of growth factors\n",
    "    \n",
    "    returns: simulated adult weights.\n",
    "    \"\"\"\n",
    "    # don't try to hoist this, because the number of rows varies\n",
    "    np.random.seed(18)\n",
    "    rows = len(start)\n",
    "    cols = 40\n",
    "    rvs = np.random.uniform(-3, 3, size=(rows, cols))\n",
    "\n",
    "    factors = rvs * sigma + mu\n",
    "    product = factors.prod(axis=1)\n",
    "    sim_weight = product * start\n",
    "    return sim_weight"
   ]
  },
  {
   "cell_type": "code",
   "execution_count": 98,
   "metadata": {
    "tags": []
   },
   "outputs": [],
   "source": [
    "start = birth_weight_male / 1000  # convert grams to kilograms"
   ]
  },
  {
   "cell_type": "code",
   "execution_count": 100,
   "metadata": {
    "tags": []
   },
   "outputs": [
    {
     "data": {
      "text/plain": [
       "count    2764.000000\n",
       "mean      124.106176\n",
       "std        37.610535\n",
       "min        37.526516\n",
       "25%        97.827188\n",
       "50%       118.558147\n",
       "75%       144.844003\n",
       "max       354.605442\n",
       "dtype: float64"
      ]
     },
     "execution_count": 100,
     "metadata": {},
     "output_type": "execute_result"
    }
   ],
   "source": [
    "mu, sigma = 1.3, 0.03\n",
    "sim_weight = simulate_weights(start, mu, sigma)\n",
    "sim_weight.describe()"
   ]
  },
  {
   "cell_type": "code",
   "execution_count": 101,
   "metadata": {
    "tags": []
   },
   "outputs": [
    {
     "data": {
      "image/png": "[encoded data removed]",
      "text/plain": [
       "<Figure size 432x288 with 1 Axes>"
      ]
     },
     "metadata": {
      "needs_background": "light"
     },
     "output_type": "display_data"
    }
   ],
   "source": [
    "make_plot(\n",
    "    np.log10(sim_weight),\n",
    "    model_label=\"Gaussian model\",\n",
    "    label=\"Simulated weights\",\n",
    "    color=\"C4\",\n",
    "    ls=\"--\",\n",
    ")\n",
    "\n",
    "decorate(\n",
    "    xlabel=\"Adult weight (kg)\",\n",
    "    ylabel=\"Percentile Rank\",\n",
    "    title=\"Distribution of weight compared to simulation\",\n",
    ")\n",
    "xlabels(labels)"
   ]
  },
  {
   "cell_type": "markdown",
   "metadata": {
    "tags": []
   },
   "source": [
    "The Gaussian model fits the logarithms of the simulated weights, which means that the distribution is lognormal.\n",
    "This outcome is explained by a corollary of the Central Limit Theorem: if you multiply together a large number of random quantities, the distribution of the product tends to be lognormal.\n",
    "\n",
    "It might not be obvious that the simulation multiplies random quantities, but that's what happens when we apply successive growth rates.\n",
    "For example, suppose someone weighs 50 kg at the beginning of a simulated year.\n",
    "If they gain 20%, their weight at the end of the year would be 50 kg times 120%, which is 60 kg.\n",
    "If they gain 30% during the next year, their weight at the end would by 60 kg times 130%, which is 78 kg.\n",
    "\n",
    "In two years, they gained a total of 28 kg, which is 56% of their starting weight.\n",
    "Where did 56% come from? It's not the sum of 20% and 30%; rather, it comes from the product of 120% and 130%, which is 156%.\n",
    "\n",
    "So their weight at the end of the simulation is the product of their starting weight and 40 random growth rates.\n",
    "As a result, the distribution of simulated weights is approximately lognormal."
   ]
  },
  {
   "cell_type": "code",
   "execution_count": 102,
   "metadata": {
    "tags": []
   },
   "outputs": [
    {
     "data": {
      "text/plain": [
       "(0.56, 1.56)"
      ]
     },
     "execution_count": 102,
     "metadata": {},
     "output_type": "execute_result"
    }
   ],
   "source": [
    "28 / 50, 1.2 * 1.3"
   ]
  },
  {
   "cell_type": "markdown",
   "metadata": {
    "tags": []
   },
   "source": [
    "By adjusting the range of growth rates, we can tune the simulation to match the data.\n",
    "The following figure shows the actual distributions from the BRFSS along with the simulation results."
   ]
  },
  {
   "cell_type": "code",
   "execution_count": 103,
   "metadata": {
    "tags": []
   },
   "outputs": [],
   "source": [
    "def error_func_sim_weight(params, start, log_weight):\n",
    "    \"\"\"Simulate weights with given parameters and compute differences\n",
    "    between the results and the actual weights.\n",
    "    \n",
    "    params: mu and sigma for the dist of growth rates\n",
    "    start: sequence of starting weights\n",
    "    log_weight: sequence of adult weights, log scale\n",
    "    \n",
    "    returns: sequence of differences\n",
    "    \"\"\"\n",
    "    print(params)\n",
    "    sim_weight = simulate_weights(start, *params)\n",
    "    log_sim_weight = np.log10(sim_weight)\n",
    "\n",
    "    diff_mean = log_sim_weight.mean() - log_weight.mean()\n",
    "    diff_std = log_sim_weight.std() - log_weight.std()\n",
    "    error = diff_mean, diff_std\n",
    "    return error"
   ]
  },
  {
   "cell_type": "markdown",
   "metadata": {},
   "source": [
    "Search for the parameters that yield simulated weights that best fit the adult male weights."
   ]
  },
  {
   "cell_type": "code",
   "execution_count": 104,
   "metadata": {
    "tags": []
   },
   "outputs": [
    {
     "name": "stdout",
     "output_type": "stream",
     "text": [
      "(1.1, 0.03)\n"
     ]
    },
    {
     "data": {
      "text/plain": [
       "(-2.773388608450743, 0.0522087828881688)"
      ]
     },
     "execution_count": 104,
     "metadata": {},
     "output_type": "execute_result"
    }
   ],
   "source": [
    "params = 1.1, 0.03\n",
    "\n",
    "error_func_sim_weight(params, start, log_weight_male)"
   ]
  },
  {
   "cell_type": "code",
   "execution_count": 105,
   "metadata": {
    "tags": []
   },
   "outputs": [
    {
     "name": "stdout",
     "output_type": "stream",
     "text": [
      "[1.1  0.03]\n",
      "[1.10000002 0.03      ]\n",
      "[1.1        0.03000001]\n",
      "[1.27449077 0.02147319]\n",
      "[1.27449079 0.02147319]\n",
      "[1.27449077 0.0214732 ]\n",
      "[1.28922056 0.01840052]\n",
      "[1.28922058 0.01840052]\n",
      "[1.28922056 0.01840053]\n",
      "[1.28931344 0.01823682]\n",
      "[1.28931346 0.01823682]\n",
      "[1.28931344 0.01823684]\n"
     ]
    },
    {
     "data": {
      "text/plain": [
       "array([1.28931344, 0.01823682])"
      ]
     },
     "execution_count": 105,
     "metadata": {},
     "output_type": "execute_result"
    }
   ],
   "source": [
    "data = start, log_weight_male\n",
    "res = least_squares(error_func_sim_weight, x0=params, args=data, xtol=1e-3)\n",
    "res.x"
   ]
  },
  {
   "cell_type": "code",
   "execution_count": 106,
   "metadata": {
    "tags": []
   },
   "outputs": [],
   "source": [
    "sim_weight_male = simulate_weights(start, *res.x)\n",
    "log_sim_weight_male = np.log10(sim_weight_male)\n",
    "cdf_log_sim_weight_male = make_cdf(log_sim_weight_male)"
   ]
  },
  {
   "cell_type": "markdown",
   "metadata": {},
   "source": [
    "Search for the parameters that yield simulated weights that best fit the adult female weights."
   ]
  },
  {
   "cell_type": "code",
   "execution_count": 107,
   "metadata": {
    "tags": []
   },
   "outputs": [
    {
     "name": "stdout",
     "output_type": "stream",
     "text": [
      "[1.1  0.03]\n",
      "[1.10000002 0.03      ]\n",
      "[1.1        0.03000001]\n",
      "[1.27059272 0.02364102]\n",
      "[1.27059274 0.02364102]\n",
      "[1.27059272 0.02364103]\n",
      "[1.28460523 0.0215002 ]\n",
      "[1.28460525 0.0215002 ]\n",
      "[1.28460523 0.02150021]\n",
      "[1.28468727 0.02142869]\n",
      "[1.28468729 0.02142869]\n",
      "[1.28468727 0.02142871]\n"
     ]
    }
   ],
   "source": [
    "start = birth_weight_female / 1000\n",
    "data = start, log_weight_female\n",
    "res = least_squares(error_func_sim_weight, x0=params, args=data, xtol=1e-3)"
   ]
  },
  {
   "cell_type": "code",
   "execution_count": 108,
   "metadata": {
    "tags": []
   },
   "outputs": [],
   "source": [
    "sim_weight_female = simulate_weights(start, *res.x)\n",
    "log_sim_weight_female = np.log10(sim_weight_female)\n",
    "cdf_log_sim_weight_female = make_cdf(log_sim_weight_female)"
   ]
  },
  {
   "cell_type": "code",
   "execution_count": 109,
   "metadata": {
    "tags": []
   },
   "outputs": [],
   "source": [
    "cdf_log_weight_male = make_cdf(log_weight_male)\n",
    "cdf_log_weight_female = make_cdf(log_weight_female)"
   ]
  },
  {
   "cell_type": "code",
   "execution_count": 110,
   "metadata": {
    "scrolled": true,
    "tags": []
   },
   "outputs": [
    {
     "data": {
      "image/png": "[encoded data removed]",
      "text/plain": [
       "<Figure size 432x288 with 1 Axes>"
      ]
     },
     "metadata": {
      "needs_background": "light"
     },
     "output_type": "display_data"
    }
   ],
   "source": [
    "cdf_log_sim_weight_female.plot(\n",
    "    label=\"Simulated female weights\", color=\"gray\", alpha=0.4\n",
    ")\n",
    "cdf_log_weight_female.plot(label=\"Actual female weights\", color=\"C1\")\n",
    "\n",
    "cdf_log_sim_weight_male.plot(label=\"Simulated male weights\", color=\"C0\", alpha=0.4)\n",
    "cdf_log_weight_male.plot(label=\"Actual male weights\", color=\"C0\", ls=\"--\")\n",
    "\n",
    "decorate(xlabel=\"Adult weight (kg)\", ylabel=\"Percentile Rank\",    title=\"Distributions of weight compared to simulation\",\n",
    ")\n",
    "xlabels(labels)"
   ]
  },
  {
   "cell_type": "markdown",
   "metadata": {
    "tags": []
   },
   "source": [
    "The results from the simulation are a good match for the actual distributions."
   ]
  },
  {
   "cell_type": "markdown",
   "metadata": {
    "tags": []
   },
   "source": [
    "Qualitatively, the biggest difference is that the Gaussian distribution is symmetric, so the tallest people and the shortest are about the same distance from the mean.\n",
    "In the BRFSS dataset, the average height is 170 cm. The 99th percentile is about 23 cm above the mean and the 1st percentile is about 20 cm below, so that's roughly symmetric.\n",
    "\n",
    "Taking it to the extremes, the tallest person ever reliably measured was Robert Wadlow, who was 272 cm, which is 102 cm from the mean.\n",
    "And the shortest adult was Chandra Bahadur Dangi, who was 55 cm, which is 115 cm from the mean.\n",
    "That's pretty close to symmetric, too."
   ]
  },
  {
   "cell_type": "code",
   "execution_count": 111,
   "metadata": {
    "tags": []
   },
   "outputs": [],
   "source": [
    "def test_symmetry(series):\n",
    "    \"\"\"See how far the percentiles are from the mean in each direction.\n",
    "    \n",
    "    series: sequence of values\n",
    "    \"\"\"\n",
    "    mean = series.mean()\n",
    "    percentiles = series.quantile([0.01, 0.99])\n",
    "    print(\"mean\", mean)\n",
    "    print(\"percentiles\", percentiles.values)\n",
    "    print(\"diffs\", percentiles.values - mean)"
   ]
  },
  {
   "cell_type": "code",
   "execution_count": 112,
   "metadata": {
    "tags": []
   },
   "outputs": [],
   "source": [
    "height = brfss[\"HTM4\"]"
   ]
  },
  {
   "cell_type": "code",
   "execution_count": 113,
   "metadata": {
    "tags": []
   },
   "outputs": [
    {
     "name": "stdout",
     "output_type": "stream",
     "text": [
      "mean 170.16244793762374\n",
      "percentiles [150. 193.]\n",
      "diffs [-20.16244794  22.83755206]\n"
     ]
    }
   ],
   "source": [
    "test_symmetry(height)"
   ]
  },
  {
   "cell_type": "code",
   "execution_count": 114,
   "metadata": {
    "tags": []
   },
   "outputs": [
    {
     "data": {
      "text/plain": [
       "(102, -115)"
      ]
     },
     "execution_count": 114,
     "metadata": {},
     "output_type": "execute_result"
    }
   ],
   "source": [
    "272 - 170, 55 - 170"
   ]
  },
  {
   "cell_type": "markdown",
   "metadata": {
    "tags": []
   },
   "source": [
    "On the other hand, the distribution of weights is not symmetric: the heaviest people are substantially farther from the mean than the lightest.\n",
    "In the United States, the average weight is about 82 kg.\n",
    "The heaviest person in the BRFSS dataset is 64 kg above average, but the lightest is only 36 kg below.\n",
    "\n",
    "Taking it to the extremes, the heaviest person person ever reliably measured was, regrettably, 553 kg heavier than the average.\n",
    "In order to be the same distance below the mean, the weight of the lightest person would be 471 kg lighter than zero, which is impossible.\n",
    "So the Gaussian model of weight is not just a bad fit for the data, it produces absurdities."
   ]
  },
  {
   "cell_type": "code",
   "execution_count": 115,
   "metadata": {
    "tags": []
   },
   "outputs": [
    {
     "name": "stdout",
     "output_type": "stream",
     "text": [
      "mean 82.02555804201864\n",
      "percentiles [ 46.16635988 145.67363337]\n",
      "diffs [-35.85919816  63.64807533]\n"
     ]
    }
   ],
   "source": [
    "test_symmetry(weight)"
   ]
  },
  {
   "cell_type": "code",
   "execution_count": 164,
   "metadata": {
    "tags": []
   },
   "outputs": [
    {
     "data": {
      "text/plain": [
       "(64, 553, -471)"
      ]
     },
     "execution_count": 164,
     "metadata": {},
     "output_type": "execute_result"
    }
   ],
   "source": [
    "average = 82\n",
    "146 - average, 635 - average, average - 553"
   ]
  },
  {
   "cell_type": "markdown",
   "metadata": {
    "tags": []
   },
   "source": [
    "In contrast, on a log scale the distribution of weight is close to symmetric.\n",
    "In the adult weights from the BRFSS, the 99th percentile of the logarithms is 0.26 above the mean and the 1st percentile is 0.24 below the mean.\n",
    "At the extremes, the log of the heaviest weight is 0.9 above the mean.\n",
    "In order for the lightest person to be the same distance below the mean, they would have to weigh 10 kg, which might sound impossible, but [the lightest adult](https://en.wikipedia.org/wiki/Luc%C3%ADa_Z%C3%A1rate), according to Guinness World Records, was 2.1 kg at age 17.\n",
    "I'm not sure how reliable that measurement is, but it is at least close to the minimum we expect based on symmetry of the logarithms."
   ]
  },
  {
   "cell_type": "code",
   "execution_count": 117,
   "metadata": {
    "tags": []
   },
   "outputs": [
    {
     "name": "stdout",
     "output_type": "stream",
     "text": [
      "mean 1.9004295903025548\n",
      "percentiles [1.66432563 2.16338095]\n",
      "diffs [-0.23610396  0.26295136]\n"
     ]
    }
   ],
   "source": [
    "test_symmetry(np.log10(weight))"
   ]
  },
  {
   "cell_type": "code",
   "execution_count": 118,
   "metadata": {
    "tags": []
   },
   "outputs": [
    {
     "data": {
      "text/plain": [
       "1.9004295903025548"
      ]
     },
     "execution_count": 118,
     "metadata": {},
     "output_type": "execute_result"
    }
   ],
   "source": [
    "mean = np.log10(weight).mean()\n",
    "mean"
   ]
  },
  {
   "cell_type": "code",
   "execution_count": 119,
   "metadata": {
    "tags": []
   },
   "outputs": [
    {
     "data": {
      "text/plain": [
       "0.9023441349894208"
      ]
     },
     "execution_count": 119,
     "metadata": {},
     "output_type": "execute_result"
    }
   ],
   "source": [
    "np.log10(635) - mean"
   ]
  },
  {
   "cell_type": "code",
   "execution_count": 120,
   "metadata": {
    "tags": []
   },
   "outputs": [
    {
     "data": {
      "text/plain": [
       "(0.998085455313134, 9.956013006853965)"
      ]
     },
     "execution_count": 120,
     "metadata": {},
     "output_type": "execute_result"
    }
   ],
   "source": [
    "log_min = mean - (np.log10(635) - mean)\n",
    "log_min, 10**log_min"
   ]
  },
  {
   "cell_type": "code",
   "execution_count": 121,
   "metadata": {
    "tags": []
   },
   "outputs": [
    {
     "data": {
      "text/plain": [
       "-1.5782102955686355"
      ]
     },
     "execution_count": 121,
     "metadata": {},
     "output_type": "execute_result"
    }
   ],
   "source": [
    "np.log10(2.1) - mean"
   ]
  },
  {
   "cell_type": "markdown",
   "metadata": {
    "tags": []
   },
   "source": [
    "## Running Speeds\n",
    "\n",
    "When I was 42 years old, I could run 200 meters in about 30 seconds (with wind assistance).\n",
    "But a good high school runner is faster than me.\n",
    "At a recent meet, the fastest girl at a nearby high school ran 200 meters in about 27 seconds, and the fastest boy ran under 24 seconds.\n",
    "\n",
    "So, in terms of speed, a fast high school girl is 11% faster than me, a fast high school boy is 12% faster than her;\n",
    "Nigel Talton, in his prime, was 11% faster than him, Wallace Spearmon was about 8% faster than Talton, and Usain Bolt is about 5% faster than Spearmon."
   ]
  },
  {
   "cell_type": "code",
   "execution_count": 165,
   "metadata": {
    "tags": []
   },
   "outputs": [
    {
     "data": {
      "text/html": [
       "<div>\n",
       "<style scoped>\n",
       "    .dataframe tbody tr th:only-of-type {\n",
       "        vertical-align: middle;\n",
       "    }\n",
       "\n",
       "    .dataframe tbody tr th {\n",
       "        vertical-align: top;\n",
       "    }\n",
       "\n",
       "    .dataframe thead th {\n",
       "        text-align: right;\n",
       "    }\n",
       "</style>\n",
       "<table border=\"1\" class=\"dataframe\">\n",
       "  <thead>\n",
       "    <tr style=\"text-align: right;\">\n",
       "      <th></th>\n",
       "      <th>time</th>\n",
       "      <th>speed</th>\n",
       "      <th>% change</th>\n",
       "    </tr>\n",
       "  </thead>\n",
       "  <tbody>\n",
       "    <tr>\n",
       "      <th>Me</th>\n",
       "      <td>30.00</td>\n",
       "      <td>6.666667</td>\n",
       "      <td>NaN</td>\n",
       "    </tr>\n",
       "    <tr>\n",
       "      <th>High School Girl</th>\n",
       "      <td>27.00</td>\n",
       "      <td>7.407407</td>\n",
       "      <td>0.111111</td>\n",
       "    </tr>\n",
       "    <tr>\n",
       "      <th>High School Boy</th>\n",
       "      <td>24.00</td>\n",
       "      <td>8.333333</td>\n",
       "      <td>0.125000</td>\n",
       "    </tr>\n",
       "    <tr>\n",
       "      <th>Talton</th>\n",
       "      <td>21.66</td>\n",
       "      <td>9.233610</td>\n",
       "      <td>0.108033</td>\n",
       "    </tr>\n",
       "    <tr>\n",
       "      <th>Spearmon</th>\n",
       "      <td>20.10</td>\n",
       "      <td>9.950249</td>\n",
       "      <td>0.077612</td>\n",
       "    </tr>\n",
       "    <tr>\n",
       "      <th>Bolt</th>\n",
       "      <td>19.19</td>\n",
       "      <td>10.422095</td>\n",
       "      <td>0.047421</td>\n",
       "    </tr>\n",
       "  </tbody>\n",
       "</table>\n",
       "</div>"
      ],
      "text/plain": [
       "                   time      speed  % change\n",
       "Me                30.00   6.666667       NaN\n",
       "High School Girl  27.00   7.407407  0.111111\n",
       "High School Boy   24.00   8.333333  0.125000\n",
       "Talton            21.66   9.233610  0.108033\n",
       "Spearmon          20.10   9.950249  0.077612\n",
       "Bolt              19.19  10.422095  0.047421"
      ]
     },
     "execution_count": 165,
     "metadata": {},
     "output_type": "execute_result"
    }
   ],
   "source": [
    "index = [\n",
    "    \"Me\",\n",
    "    \"High School Girl\",\n",
    "    \"High School Boy\",\n",
    "    \"Talton\",\n",
    "    \"Spearmon\",\n",
    "    \"Bolt\",\n",
    "]\n",
    "times = [30, 27, 24, 21.66, 20.1, 19.19]\n",
    "run_frame = pd.DataFrame(dict(time=times), index=index)\n",
    "run_frame[\"speed\"] = 200 / run_frame[\"time\"]\n",
    "run_frame[\"% change\"] = run_frame[\"speed\"].pct_change()\n",
    "run_frame"
   ]
  },
  {
   "cell_type": "markdown",
   "metadata": {
    "tags": []
   },
   "source": [
    "To demonstrate, I'll use data from the James Joyce Ramble, which is the 10 kilometer race where I ran my previously-mentioned personal record time.\n",
    "I downloaded the times for the 1,592 finishers and converted them to speeds in kilometers per hour.\n",
    "The following figure shows the distribution of these speeds on a logarithmic scale, along with a Gaussian model I fit to the data."
   ]
  },
  {
   "cell_type": "code",
   "execution_count": 124,
   "metadata": {},
   "outputs": [],
   "source": [
    "download(\"https://web.archive.org/web/20100429073703/http://coolrunning.com/results/10/ma/Apr25_27thAn_set1.shtml\")"
   ]
  },
  {
   "cell_type": "code",
   "execution_count": 125,
   "metadata": {
    "tags": []
   },
   "outputs": [],
   "source": [
    "from bs4 import BeautifulSoup\n",
    "\n",
    "soup = BeautifulSoup(open(\"Apr25_27thAn_set1.shtml\"), \"html.parser\")"
   ]
  },
  {
   "cell_type": "code",
   "execution_count": 126,
   "metadata": {
    "tags": []
   },
   "outputs": [
    {
     "data": {
      "text/plain": [
       "1591"
      ]
     },
     "execution_count": 126,
     "metadata": {},
     "output_type": "execute_result"
    }
   ],
   "source": [
    "speeds = pd.Series([], dtype=float)\n",
    "\n",
    "table = soup.find(\"pre\")\n",
    "for line in table.text.split(\"\\n\"):\n",
    "    t = line.split()\n",
    "    if len(t) in [13, 14]:\n",
    "        place, place_in_div, div, gun, net, pace = t[0:6]\n",
    "        place = int(place)\n",
    "        m, s = [int(x) for x in pace.split(\":\")]\n",
    "        secs = m * 60 + s\n",
    "        kph = 1.61 / secs * 60 * 60\n",
    "        speeds[place] = kph\n",
    "\n",
    "len(speeds)"
   ]
  },
  {
   "cell_type": "code",
   "execution_count": 127,
   "metadata": {
    "tags": []
   },
   "outputs": [
    {
     "data": {
      "image/png": "[encoded data removed]",
      "text/plain": [
       "<Figure size 432x288 with 1 Axes>"
      ]
     },
     "metadata": {
      "needs_background": "light"
     },
     "output_type": "display_data"
    }
   ],
   "source": [
    "make_plot(speeds)"
   ]
  },
  {
   "cell_type": "code",
   "execution_count": 128,
   "metadata": {
    "tags": []
   },
   "outputs": [
    {
     "data": {
      "image/png": "[encoded data removed]",
      "text/plain": [
       "<Figure size 432x288 with 1 Axes>"
      ]
     },
     "metadata": {
      "needs_background": "light"
     },
     "output_type": "display_data"
    }
   ],
   "source": [
    "log_speeds = np.log10(speeds)\n",
    "make_plot(log_speeds)"
   ]
  },
  {
   "cell_type": "code",
   "execution_count": 129,
   "metadata": {
    "tags": []
   },
   "outputs": [
    {
     "data": {
      "image/png": "[encoded data removed]",
      "text/plain": [
       "<Figure size 432x288 with 2 Axes>"
      ]
     },
     "metadata": {
      "needs_background": "light"
     },
     "output_type": "display_data"
    }
   ],
   "source": [
    "cdf = make_cdf(log_speeds)\n",
    "cdf.plot(ls=\"--\", label=\"Data\")\n",
    "\n",
    "h1, l1 = plt.gca().get_legend_handles_labels()\n",
    "plt.xlabel(\"Running speed (kph)\")\n",
    "\n",
    "labels = [6, 8, 10, 12, 14, 16]\n",
    "xlabels(labels)\n",
    "plt.twiny()\n",
    "\n",
    "dist = fit_normal(log_speeds)\n",
    "n = len(log_speeds)\n",
    "qs = np.linspace(cdf.qs.min(), cdf.qs.max())\n",
    "low, high = normal_error_bounds(dist, n, qs)\n",
    "plt.fill_between(\n",
    "    qs, low * 100, high * 100, lw=0, color=\"gray\", alpha=0.3, label=\"Gaussian model\"\n",
    ")\n",
    "h2, l2 = plt.gca().get_legend_handles_labels()\n",
    "plt.legend(h1 + h2, l1 + l2, loc=\"lower right\")\n",
    "\n",
    "plt.ylabel(\"Percentile Rank\")\n",
    "\n",
    "ticks = [0.7, 0.8, 0.9, 1.0, 1.1, 1.2]\n",
    "plt.xticks(ticks)\n",
    "#plt.xlabel(\"Running speed (log base 10 kph)\")\n",
    "plt.title(\"Distribution of running speed, log scale\")\n",
    "None"
   ]
  },
  {
   "cell_type": "markdown",
   "metadata": {
    "tags": []
   },
   "source": [
    "I generated five random factors from a Gaussian distribution and multiplied them together.\n",
    "I adjusted the mean and standard deviation of the Gaussians so that the resulting distribution fit the data; the following figure shows the results."
   ]
  },
  {
   "cell_type": "code",
   "execution_count": 130,
   "metadata": {
    "tags": []
   },
   "outputs": [],
   "source": [
    "rows = len(speeds)\n",
    "cols = 5\n",
    "\n",
    "np.random.seed(17)\n",
    "rvs = np.random.normal(size=(rows, cols))"
   ]
  },
  {
   "cell_type": "code",
   "execution_count": 131,
   "metadata": {
    "tags": []
   },
   "outputs": [],
   "source": [
    "def simulate_speeds(mu, sigma):\n",
    "    \"\"\"Generate a sample of running speeds by multiplying factors.\n",
    "    \n",
    "    Using the same set of rvs, scale them to the given mean and std.\n",
    "    \n",
    "    mu, sigma: parameters of a normal distribution\n",
    "    \"\"\"\n",
    "    factors = rvs * sigma + mu\n",
    "    performance = pd.Series(factors.prod(axis=1))\n",
    "    return performance"
   ]
  },
  {
   "cell_type": "code",
   "execution_count": 132,
   "metadata": {
    "tags": []
   },
   "outputs": [
    {
     "data": {
      "image/png": "[encoded data removed]",
      "text/plain": [
       "<Figure size 432x288 with 1 Axes>"
      ]
     },
     "metadata": {
      "needs_background": "light"
     },
     "output_type": "display_data"
    }
   ],
   "source": [
    "sim_speeds = simulate_speeds(1.5, 0.12)\n",
    "\n",
    "make_plot(np.log10(sim_speeds))\n",
    "make_plot(np.log10(speeds))"
   ]
  },
  {
   "cell_type": "code",
   "execution_count": 133,
   "metadata": {
    "tags": []
   },
   "outputs": [],
   "source": [
    "def error_func_running(params, log_speeds):\n",
    "    \"\"\"Run simulation with given params and compute\n",
    "    differences from the mean and standard deviation of the data.\n",
    "    \n",
    "    params: passed to simulation\n",
    "    log_speeds: data to match\n",
    "    \n",
    "    returns: tuple of two errors\n",
    "    \"\"\"\n",
    "    sim_speeds = simulate_speeds(*params)\n",
    "    log_sim_speeds = np.log10(sim_speeds)\n",
    "\n",
    "    diff_mean = log_sim_speeds.mean() - log_speeds.mean()\n",
    "    diff_std = log_sim_speeds.std() - log_speeds.std()\n",
    "    error = diff_mean, diff_std\n",
    "    return error"
   ]
  },
  {
   "cell_type": "code",
   "execution_count": 134,
   "metadata": {
    "tags": []
   },
   "outputs": [
    {
     "data": {
      "text/plain": [
       "(-0.8328797969155864, -0.018541752148148835)"
      ]
     },
     "execution_count": 134,
     "metadata": {},
     "output_type": "execute_result"
    }
   ],
   "source": [
    "params = 1.1, 0.06\n",
    "error_func_running(params, log_speeds)"
   ]
  },
  {
   "cell_type": "code",
   "execution_count": 135,
   "metadata": {
    "tags": []
   },
   "outputs": [
    {
     "data": {
      "text/plain": [
       "array([1.61636344, 0.11794022])"
      ]
     },
     "execution_count": 135,
     "metadata": {},
     "output_type": "execute_result"
    }
   ],
   "source": [
    "data = (log_speeds,)\n",
    "res = least_squares(error_func_running, x0=params, diff_step=0.01, args=data, xtol=1e-3)\n",
    "assert res.success\n",
    "res.x"
   ]
  },
  {
   "cell_type": "code",
   "execution_count": 136,
   "metadata": {
    "tags": []
   },
   "outputs": [
    {
     "data": {
      "image/png": "[encoded data removed]",
      "text/plain": [
       "<Figure size 432x288 with 1 Axes>"
      ]
     },
     "metadata": {
      "needs_background": "light"
     },
     "output_type": "display_data"
    }
   ],
   "source": [
    "sim_speeds = simulate_speeds(*res.x)\n",
    "\n",
    "Cdf.from_seq(np.log10(sim_speeds)).plot(\n",
    "    color=\"gray\", alpha=0.3, label=\"Simulated running speeds\"\n",
    ")\n",
    "Cdf.from_seq(np.log10(speeds)).plot(ls=\"--\", label=\"Actual running speeds\")\n",
    "\n",
    "labels = [6, 8, 10, 12, 14, 16]\n",
    "xlabels(labels)\n",
    "decorate(xlabel=\"Running speed (log10 kph)\", ylabel=\"Percentile Rank\",\n",
    "         title=\"Distribution of running speed compared to simulation\",\n",
    ")"
   ]
  },
  {
   "cell_type": "markdown",
   "metadata": {
    "tags": []
   },
   "source": [
    "If there are at least five factors affect running speed, and each person's limit depends on their worst factor, that would explain why the distribution of running speed is lognormal."
   ]
  },
  {
   "cell_type": "markdown",
   "metadata": {
    "tags": []
   },
   "source": [
    "## Chess Rankings\n",
    "\n",
    "I [collected data from Chess.com](https://www.chess.com/leaderboard/live), which is a popular internet chess server that hosts individual games and tournaments for players from all over the world.\n",
    "Their leader board shows the distribution of Elo ratings for almost six million players who have used their service.\n",
    "The following figure shows the distribution of these scores on a log scale, along with a lognormal model."
   ]
  },
  {
   "cell_type": "code",
   "execution_count": 137,
   "metadata": {},
   "outputs": [],
   "source": [
    "download(\"https://github.com/AllenDowney/ProbablyOverthinkingIt/raw/book/data/chess_elo_ratings.csv\")"
   ]
  },
  {
   "cell_type": "code",
   "execution_count": 138,
   "metadata": {
    "tags": []
   },
   "outputs": [
    {
     "data": {
      "text/html": [
       "<div>\n",
       "<style scoped>\n",
       "    .dataframe tbody tr th:only-of-type {\n",
       "        vertical-align: middle;\n",
       "    }\n",
       "\n",
       "    .dataframe tbody tr th {\n",
       "        vertical-align: top;\n",
       "    }\n",
       "\n",
       "    .dataframe thead th {\n",
       "        text-align: right;\n",
       "    }\n",
       "</style>\n",
       "<table border=\"1\" class=\"dataframe\">\n",
       "  <thead>\n",
       "    <tr style=\"text-align: right;\">\n",
       "      <th></th>\n",
       "      <th>ELO</th>\n",
       "      <th># PLAYERS</th>\n",
       "    </tr>\n",
       "  </thead>\n",
       "  <tbody>\n",
       "    <tr>\n",
       "      <th>0</th>\n",
       "      <td>100</td>\n",
       "      <td>106342</td>\n",
       "    </tr>\n",
       "    <tr>\n",
       "      <th>1</th>\n",
       "      <td>200</td>\n",
       "      <td>219973</td>\n",
       "    </tr>\n",
       "    <tr>\n",
       "      <th>2</th>\n",
       "      <td>300</td>\n",
       "      <td>356353</td>\n",
       "    </tr>\n",
       "    <tr>\n",
       "      <th>3</th>\n",
       "      <td>400</td>\n",
       "      <td>487607</td>\n",
       "    </tr>\n",
       "    <tr>\n",
       "      <th>4</th>\n",
       "      <td>500</td>\n",
       "      <td>570153</td>\n",
       "    </tr>\n",
       "  </tbody>\n",
       "</table>\n",
       "</div>"
      ],
      "text/plain": [
       "   ELO  # PLAYERS\n",
       "0  100     106342\n",
       "1  200     219973\n",
       "2  300     356353\n",
       "3  400     487607\n",
       "4  500     570153"
      ]
     },
     "execution_count": 138,
     "metadata": {},
     "output_type": "execute_result"
    }
   ],
   "source": [
    "chess = pd.read_csv(\"chess_elo_ratings.csv\")\n",
    "chess.head()"
   ]
  },
  {
   "cell_type": "code",
   "execution_count": 139,
   "metadata": {
    "tags": []
   },
   "outputs": [
    {
     "data": {
      "text/html": [
       "<div>\n",
       "<style scoped>\n",
       "    .dataframe tbody tr th:only-of-type {\n",
       "        vertical-align: middle;\n",
       "    }\n",
       "\n",
       "    .dataframe tbody tr th {\n",
       "        vertical-align: top;\n",
       "    }\n",
       "\n",
       "    .dataframe thead th {\n",
       "        text-align: right;\n",
       "    }\n",
       "</style>\n",
       "<table border=\"1\" class=\"dataframe\">\n",
       "  <thead>\n",
       "    <tr style=\"text-align: right;\">\n",
       "      <th></th>\n",
       "      <th>ELO</th>\n",
       "      <th># PLAYERS</th>\n",
       "    </tr>\n",
       "  </thead>\n",
       "  <tbody>\n",
       "    <tr>\n",
       "      <th>27</th>\n",
       "      <td>2800</td>\n",
       "      <td>523</td>\n",
       "    </tr>\n",
       "    <tr>\n",
       "      <th>28</th>\n",
       "      <td>2900</td>\n",
       "      <td>241</td>\n",
       "    </tr>\n",
       "    <tr>\n",
       "      <th>29</th>\n",
       "      <td>3000</td>\n",
       "      <td>86</td>\n",
       "    </tr>\n",
       "    <tr>\n",
       "      <th>30</th>\n",
       "      <td>3100</td>\n",
       "      <td>16</td>\n",
       "    </tr>\n",
       "    <tr>\n",
       "      <th>31</th>\n",
       "      <td>3200</td>\n",
       "      <td>3</td>\n",
       "    </tr>\n",
       "  </tbody>\n",
       "</table>\n",
       "</div>"
      ],
      "text/plain": [
       "     ELO  # PLAYERS\n",
       "27  2800        523\n",
       "28  2900        241\n",
       "29  3000         86\n",
       "30  3100         16\n",
       "31  3200          3"
      ]
     },
     "execution_count": 139,
     "metadata": {},
     "output_type": "execute_result"
    }
   ],
   "source": [
    "chess.tail()"
   ]
  },
  {
   "cell_type": "code",
   "execution_count": 140,
   "metadata": {
    "tags": []
   },
   "outputs": [],
   "source": [
    "def fit_model_to_cdf(cdf, x0):\n",
    "    \"\"\"Find the model that minimizes the errors in percentiles.\"\"\"\n",
    "\n",
    "    def error_func(params):\n",
    "        print(params)\n",
    "        mu, sigma = params\n",
    "        ps = np.linspace(0.01, 0.99)\n",
    "        qs = cdf.inverse(ps)\n",
    "        # print(qs)\n",
    "        error = cdf(qs) - norm.cdf(qs, mu, sigma)\n",
    "        # print(cdf(qs))\n",
    "        # print(norm.cdf(qs, mu, sigma))\n",
    "        return error\n",
    "\n",
    "    res = least_squares(error_func, x0=x0, xtol=1e3)\n",
    "    assert res.success\n",
    "    return res.x"
   ]
  },
  {
   "cell_type": "code",
   "execution_count": 141,
   "metadata": {
    "tags": []
   },
   "outputs": [],
   "source": [
    "def plot_normal_model(dist, n, low, high):\n",
    "    \"\"\"Plot the error bounds based on a Gaussian model.\n",
    "    \n",
    "    dist: norm object\n",
    "    n: sample size\n",
    "    low, high: range of quantities to plot over\n",
    "    \"\"\"\n",
    "    qs = np.linspace(low, high)\n",
    "    low, high = normal_error_bounds(dist, n, qs)\n",
    "    plt.fill_between(qs, low * 100, high * 100, lw=0, color=\"gray\", alpha=0.3)"
   ]
  },
  {
   "cell_type": "code",
   "execution_count": 142,
   "metadata": {
    "tags": []
   },
   "outputs": [
    {
     "data": {
      "text/plain": [
       "5987898"
      ]
     },
     "execution_count": 142,
     "metadata": {},
     "output_type": "execute_result"
    }
   ],
   "source": [
    "from empiricaldist import Pmf\n",
    "\n",
    "pmf_chess = Pmf(chess[\"# PLAYERS\"].values, chess[\"ELO\"].values)\n",
    "N = pmf_chess.normalize()\n",
    "N"
   ]
  },
  {
   "cell_type": "code",
   "execution_count": 143,
   "metadata": {
    "tags": []
   },
   "outputs": [
    {
     "data": {
      "text/plain": [
       "(814.9840227739351, array(800.))"
      ]
     },
     "execution_count": 143,
     "metadata": {},
     "output_type": "execute_result"
    }
   ],
   "source": [
    "pmf_chess.mean(), pmf_chess.median()"
   ]
  },
  {
   "cell_type": "code",
   "execution_count": 144,
   "metadata": {
    "tags": []
   },
   "outputs": [
    {
     "data": {
      "text/plain": [
       "100     98.224051\n",
       "200     94.550425\n",
       "300     88.599205\n",
       "400     80.455996\n",
       "500     70.934241\n",
       "600     60.640078\n",
       "700     50.479467\n",
       "800     40.905774\n",
       "900     32.580314\n",
       "1000    25.410620\n",
       "1100    19.575601\n",
       "1200    14.800302\n",
       "1300    11.037880\n",
       "1400     8.119510\n",
       "1500     5.890381\n",
       "1600     4.208121\n",
       "1700     2.955578\n",
       "1800     2.031965\n",
       "1900     1.373220\n",
       "2000     0.880860\n",
       "2100     0.554017\n",
       "2200     0.338733\n",
       "2300     0.201690\n",
       "2400     0.117170\n",
       "2500     0.063511\n",
       "2600     0.032900\n",
       "2700     0.014513\n",
       "2800     0.005778\n",
       "2900     0.001754\n",
       "3000     0.000317\n",
       "3100     0.000050\n",
       "3200     0.000000\n",
       "Name: , dtype: float64"
      ]
     },
     "execution_count": 144,
     "metadata": {},
     "output_type": "execute_result"
    }
   ],
   "source": [
    "pmf_chess.make_surv() * 100"
   ]
  },
  {
   "cell_type": "code",
   "execution_count": 145,
   "metadata": {
    "tags": []
   },
   "outputs": [],
   "source": [
    "pmf_log_chess = pmf_chess.transform(np.log10)\n",
    "cdf_log_chess = pmf_log_chess.make_cdf()"
   ]
  },
  {
   "cell_type": "code",
   "execution_count": 146,
   "metadata": {
    "tags": []
   },
   "outputs": [
    {
     "data": {
      "text/plain": [
       "(2.8464761577835587, 0.25442825374680383)"
      ]
     },
     "execution_count": 146,
     "metadata": {},
     "output_type": "execute_result"
    }
   ],
   "source": [
    "x0 = pmf_log_chess.mean(), pmf_log_chess.std()\n",
    "x0"
   ]
  },
  {
   "cell_type": "code",
   "execution_count": 147,
   "metadata": {
    "tags": []
   },
   "outputs": [
    {
     "name": "stdout",
     "output_type": "stream",
     "text": [
      "[2.84647616 0.25442825]\n",
      "[2.8464762  0.25442825]\n",
      "[2.84647616 0.25442827]\n",
      "[2.83678398 0.24883847]\n",
      "[2.83678403 0.24883847]\n",
      "[2.83678398 0.24883848]\n"
     ]
    }
   ],
   "source": [
    "mu, sigma = fit_model_to_cdf(cdf_log_chess, x0)"
   ]
  },
  {
   "cell_type": "code",
   "execution_count": 148,
   "metadata": {
    "tags": []
   },
   "outputs": [
    {
     "data": {
      "image/png": "[encoded data removed]",
      "text/plain": [
       "<Figure size 432x288 with 1 Axes>"
      ]
     },
     "metadata": {
      "needs_background": "light"
     },
     "output_type": "display_data"
    }
   ],
   "source": [
    "def plot_chess(pmf, mu, sigma):\n",
    "    low, high = pmf.qs.min(), pmf.qs.max()\n",
    "    qs = np.linspace(low, high)\n",
    "    ps = norm.cdf(qs, mu, sigma) * 100\n",
    "    Cdf(ps, qs).plot(color=\"gray\", alpha=0.4, label=\"Model\")\n",
    "    (pmf.make_cdf() * 100).plot(ls=\"--\", label=\"Data\")\n",
    "\n",
    "    decorate(xlabel=\"Elo rating\", ylabel=\"Percentile rank\")\n",
    "\n",
    "\n",
    "plot_chess(pmf_log_chess, mu, sigma)\n",
    "plt.title(\"Distribution of chess scores\")\n",
    "labels = [100, 200, 500, 1000, 2000, 3000]\n",
    "xlabels(labels)"
   ]
  },
  {
   "cell_type": "markdown",
   "metadata": {
    "tags": []
   },
   "source": [
    "The lognormal model does not fit the data particularly well.\n",
    "But that might be misleading, because unlike running speeds, Elo scores have no natural zero point.\n",
    "The conventional zero point was chosen arbitrarily, which means we can shift it up or down without changing what the scores mean relative to each other.\n",
    "\n",
    "With that in mind, suppose we shift the entire scale so that the lowest point is 550 rather than 100.\n",
    "The following figure shows the distribution of these shifted scores on a log scale, along with a lognormal model."
   ]
  },
  {
   "cell_type": "code",
   "execution_count": 149,
   "metadata": {
    "tags": []
   },
   "outputs": [],
   "source": [
    "pmf_chess2 = Pmf(pmf_chess.ps, pmf_chess.qs + 450)"
   ]
  },
  {
   "cell_type": "code",
   "execution_count": 150,
   "metadata": {
    "tags": []
   },
   "outputs": [],
   "source": [
    "pmf_log_chess2 = pmf_chess2.transform(np.log10)\n",
    "cdf_log_chess2 = pmf_log_chess2.make_cdf()"
   ]
  },
  {
   "cell_type": "code",
   "execution_count": 151,
   "metadata": {
    "tags": []
   },
   "outputs": [
    {
     "data": {
      "text/plain": [
       "(3.0789722328987064, 0.1422676157538474)"
      ]
     },
     "execution_count": 151,
     "metadata": {},
     "output_type": "execute_result"
    }
   ],
   "source": [
    "x0 = pmf_log_chess2.mean(), pmf_log_chess2.std()\n",
    "x0"
   ]
  },
  {
   "cell_type": "code",
   "execution_count": 152,
   "metadata": {
    "tags": []
   },
   "outputs": [
    {
     "name": "stdout",
     "output_type": "stream",
     "text": [
      "[3.07897223 0.14226762]\n",
      "[3.07897228 0.14226762]\n",
      "[3.07897223 0.14226763]\n",
      "[3.06208626 0.15169365]\n",
      "[3.06208631 0.15169365]\n",
      "[3.06208626 0.15169366]\n"
     ]
    }
   ],
   "source": [
    "mu, sigma = fit_model_to_cdf(cdf_log_chess2, x0)"
   ]
  },
  {
   "cell_type": "code",
   "execution_count": 153,
   "metadata": {
    "tags": []
   },
   "outputs": [
    {
     "data": {
      "image/png": "[encoded data removed]",
      "text/plain": [
       "<Figure size 432x288 with 1 Axes>"
      ]
     },
     "metadata": {
      "needs_background": "light"
     },
     "output_type": "display_data"
    }
   ],
   "source": [
    "plot_chess(pmf_log_chess2, mu, sigma)\n",
    "plt.title(\"Distribution of shifted chess scores\")\n",
    "labels = [500, 1000, 2000, 3000]\n",
    "xlabels(labels)"
   ]
  },
  {
   "cell_type": "markdown",
   "metadata": {
    "tags": []
   },
   "source": [
    "With this adjustment, the lognormal model fits the data well.\n",
    "\n"
   ]
  },
  {
   "cell_type": "markdown",
   "metadata": {
    "tags": []
   },
   "source": [
    "## The Greatest of All Time\n",
    "\n",
    "And more often than not, these top performers are not just a little better than the rest, they are a *lot* better.\n",
    "To demonstrate this point, I generated a random sample of 100,000 people from a lognormal distribution loosely based on chess ratings.\n",
    "Then I generated a sample from a Gaussian distribution with the same mean and variance.\n",
    "The following figure shows the results."
   ]
  },
  {
   "cell_type": "code",
   "execution_count": 154,
   "metadata": {
    "tags": []
   },
   "outputs": [],
   "source": [
    "def top_three(n, dist):\n",
    "    \"\"\"Compute the expected values of the top 3 in a given distribution.\n",
    "    \n",
    "    n: sample size\n",
    "    dist: SciPy stats distribution object\n",
    "    \n",
    "    returns: array of three quantities\n",
    "    \"\"\"\n",
    "    ps = 1 - np.array([3, 2, 1]) / n\n",
    "    return dist.ppf(ps)"
   ]
  },
  {
   "cell_type": "code",
   "execution_count": 155,
   "metadata": {
    "tags": []
   },
   "outputs": [
    {
     "data": {
      "text/plain": [
       "(658.7170292835305, 122.27837304897953)"
      ]
     },
     "execution_count": 155,
     "metadata": {},
     "output_type": "execute_result"
    }
   ],
   "source": [
    "np.random.seed(19)\n",
    "rvs = norm.rvs(2.1, 0.295, size=100000)\n",
    "lognormal = np.power(10, rvs) + 500\n",
    "mu, sigma = lognormal.mean(), lognormal.std()\n",
    "mu, sigma"
   ]
  },
  {
   "cell_type": "code",
   "execution_count": 156,
   "metadata": {
    "tags": []
   },
   "outputs": [
    {
     "data": {
      "text/plain": [
       "array([2913, 3066, 3155])"
      ]
     },
     "execution_count": 156,
     "metadata": {},
     "output_type": "execute_result"
    }
   ],
   "source": [
    "lognormal.sort()\n",
    "lognormal_top3 = lognormal[-3:].round().astype(int)\n",
    "lognormal_top3"
   ]
  },
  {
   "cell_type": "code",
   "execution_count": 157,
   "metadata": {
    "tags": []
   },
   "outputs": [
    {
     "data": {
      "text/plain": [
       "(658.2820476691168, 122.91277471624949)"
      ]
     },
     "execution_count": 157,
     "metadata": {},
     "output_type": "execute_result"
    }
   ],
   "source": [
    "normal = norm.rvs(mu, sigma, size=100000)\n",
    "normal.mean(), normal.std()"
   ]
  },
  {
   "cell_type": "code",
   "execution_count": 158,
   "metadata": {
    "tags": []
   },
   "outputs": [
    {
     "data": {
      "text/plain": [
       "array([1123, 1146, 1161])"
      ]
     },
     "execution_count": 158,
     "metadata": {},
     "output_type": "execute_result"
    }
   ],
   "source": [
    "normal.sort()\n",
    "normal_top3 = normal[-3:].round().astype(int)\n",
    "normal_top3"
   ]
  },
  {
   "cell_type": "code",
   "execution_count": 159,
   "metadata": {
    "tags": []
   },
   "outputs": [],
   "source": [
    "cdf_lognormal = Cdf.from_seq(lognormal) * 100\n",
    "cdf_normal = Cdf.from_seq(normal) * 100"
   ]
  },
  {
   "cell_type": "code",
   "execution_count": 160,
   "metadata": {
    "tags": []
   },
   "outputs": [
    {
     "data": {
      "image/png": "[encoded data removed]",
      "text/plain": [
       "<Figure size 432x288 with 1 Axes>"
      ]
     },
     "metadata": {
      "needs_background": "light"
     },
     "output_type": "display_data"
    }
   ],
   "source": [
    "cdf_lognormal.plot(ls=\"--\", label=\"Lognormal\")\n",
    "cdf_normal.plot(label=\"Gaussian\")\n",
    "\n",
    "for x in lognormal[-3:]:\n",
    "    plt.plot(x, 100.3, \"+\", color=\"C0\", ms=12)\n",
    "\n",
    "for x in normal[-3:]:\n",
    "    plt.plot(x, 100.3, \"+\", color=\"C1\", ms=12)\n",
    "\n",
    "decorate(\n",
    "    xlabel=\"Skill level\",\n",
    "    ylabel=\"Percentile Rank\",\n",
    "    title=\"Distribution of random scores from Gaussian and lognormal models\",\n",
    ")"
   ]
  },
  {
   "cell_type": "markdown",
   "metadata": {
    "tags": []
   },
   "source": [
    "The crosses indicate the top three scorers in each sample.\n",
    "In the Gaussian distribution, the top three scores are 1123, 1146, and 1161.\n",
    "They are barely distinguishable in the figure, and and if we think of them as Elo scores, there is not much difference between them. According to the Elo formula, we expect the top player to beat the \\#3 player about 55% of the time.\n",
    "\n",
    "In the lognormal distribution, the top three scores are 2913, 3066, and 3155.\n",
    "They are clearly distinct in the figure and substantially different in practice.\n",
    "In this example, we expect the top player to beat \\#3 about 80% of the time."
   ]
  },
  {
   "cell_type": "code",
   "execution_count": 161,
   "metadata": {
    "tags": []
   },
   "outputs": [
    {
     "data": {
      "text/plain": [
       "(38, 0.5544693740216761)"
      ]
     },
     "execution_count": 161,
     "metadata": {},
     "output_type": "execute_result"
    }
   ],
   "source": [
    "diff = normal_top3[2] - normal_top3[0]\n",
    "diff, elo_prob(diff)"
   ]
  },
  {
   "cell_type": "code",
   "execution_count": 162,
   "metadata": {
    "tags": []
   },
   "outputs": [
    {
     "data": {
      "text/plain": [
       "(242, 0.8010809398289456)"
      ]
     },
     "execution_count": 162,
     "metadata": {},
     "output_type": "execute_result"
    }
   ],
   "source": [
    "diff = lognormal_top3[2] - lognormal_top3[0]\n",
    "diff, elo_prob(diff)"
   ]
  },
  {
   "cell_type": "markdown",
   "metadata": {
    "tags": []
   },
   "source": [
    "In reality, the top-rated chess players in the world are more tightly clustered than my simulated players."
   ]
  },
  {
   "cell_type": "code",
   "execution_count": 163,
   "metadata": {
    "tags": []
   },
   "outputs": [
    {
     "data": {
      "text/plain": [
       "0.5924662305843318"
      ]
     },
     "execution_count": 163,
     "metadata": {},
     "output_type": "execute_result"
    }
   ],
   "source": [
    "elo_prob(2864 - 2799)"
   ]
  },
  {
   "cell_type": "markdown",
   "metadata": {
    "tags": []
   },
   "source": [
    "## Sources and related reading\n",
    "\n",
    "* The ANSUR-II dataset is available from the Open Design Lab at Penn State \\cite{ansur2012}.\n",
    "\n",
    "* Data from the Behavioral Risk Factor Surveillance System (BRFSS) data is available from the Centers for Disease Control and Prevention (CDC) \\cite{brfss2020}.\n",
    "\n",
    "*   The running speed data is originally from Cool Running, now available from the Internet Archive \\cite{cool2010}.\n",
    "\n",
    "* The chess data is from the Chess.com leaderboard \\cite{chess2022}.\n"
   ]
  },
  {
   "cell_type": "markdown",
   "metadata": {
    "tags": []
   },
   "source": [
    "Probably Overthinking It\n",
    "\n",
    "Copyright 2022 Allen Downey \n",
    "\n",
    "The code in this notebook and `utils.py` is under the [MIT license](https://mit-license.org/)."
   ]
  }
 ],
 "metadata": {
  "celltoolbar": "Tags",
  "kernelspec": {
   "display_name": "Python 3 (ipykernel)",
   "language": "python",
   "name": "python3"
  },
  "language_info": {
   "codemirror_mode": {
    "name": "ipython",
    "version": 3
   },
   "file_extension": ".py",
   "mimetype": "text/x-python",
   "name": "python",
   "nbconvert_exporter": "python",
   "pygments_lexer": "ipython3",
   "version": "3.10.4"
  }
 },
 "nbformat": 4,
 "nbformat_minor": 4
}
