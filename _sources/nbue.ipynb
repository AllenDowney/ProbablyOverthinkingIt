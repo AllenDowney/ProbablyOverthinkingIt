{
 "cells": [
  {
   "cell_type": "markdown",
   "metadata": {
    "tags": []
   },
   "source": [
    "# Better Than New"
   ]
  },
  {
   "cell_type": "markdown",
   "metadata": {
    "tags": []
   },
   "source": [
    "This is one of the Jupyter notebooks I used in my preparation of *Probably Overthinking It: How to Use Data to Answer Questions, Avoid Statistical Traps, and Make Better Decisions*.\n",
    "\n",
    "The book is scheduled to be published by University of Chicago Press in 2023.\n",
    "If you would like to get infrequent email announcements about the book, please\n",
    "[sign up for my mailing list](http://eepurl.com/h0nfbX).\n",
    "\n",
    "Before you read these notebooks, please keep in mind:\n",
    "\n",
    "* There is some explanatory text in the notebooks, but some of the examples will not make sense until you have read the corresponding chapter in the book.\n",
    "\n",
    "* While preparing these notebooks, I made some changes to improve the readability of the code. There might be small differences between what appears in the book and what you get when you run the code."
   ]
  },
  {
   "cell_type": "markdown",
   "metadata": {
    "tags": []
   },
   "source": [
    "[Click here to run this notebook on Colab](https://colab.research.google.com/github/AllenDowney/ProbablyOverthinkingIt/blob/book/notebooks/nbue.ipynb)."
   ]
  },
  {
   "cell_type": "code",
   "execution_count": 1,
   "metadata": {
    "tags": []
   },
   "outputs": [],
   "source": [
    "# Install empiricaldist if we don't already have it\n",
    "\n",
    "try:\n",
    "    import empiricaldist\n",
    "except ImportError:\n",
    "    !pip install empiricaldist"
   ]
  },
  {
   "cell_type": "code",
   "execution_count": 2,
   "metadata": {
    "tags": []
   },
   "outputs": [],
   "source": [
    "# download utils.py\n",
    "\n",
    "from os.path import basename, exists\n",
    "\n",
    "\n",
    "def download(url):\n",
    "    filename = basename(url)\n",
    "    if not exists(filename):\n",
    "        from urllib.request import urlretrieve\n",
    "\n",
    "        local, _ = urlretrieve(url, filename)\n",
    "        print(\"Downloaded \" + local)\n",
    "\n",
    "\n",
    "download(\n",
    "    \"https://github.com/AllenDowney/ProbablyOverthinkingIt/raw/book/notebooks/utils.py\"\n",
    ")"
   ]
  },
  {
   "cell_type": "code",
   "execution_count": 3,
   "metadata": {},
   "outputs": [],
   "source": [
    "DATA_PATH = \"https://github.com/AllenDowney/ProbablyOverthinkingIt/raw/book/data/\""
   ]
  },
  {
   "cell_type": "code",
   "execution_count": 4,
   "metadata": {
    "tags": []
   },
   "outputs": [],
   "source": [
    "import pandas as pd\n",
    "import numpy as np\n",
    "import matplotlib.pyplot as plt\n",
    "\n",
    "from utils import decorate\n",
    "\n",
    "# Set the random seed so we get the same results every time\n",
    "np.random.seed(17)"
   ]
  },
  {
   "cell_type": "code",
   "execution_count": 5,
   "metadata": {
    "tags": []
   },
   "outputs": [],
   "source": [
    "from utils import fit_normal\n",
    "from utils import make_cdf\n",
    "from utils import normal_error_bounds\n",
    "\n",
    "\n",
    "def make_plot(series, model_label=None, plot_bounds=True, qs=None, **options):\n",
    "    \"\"\"Plot the data and a normal model.\n",
    "    \n",
    "    series: Series\n",
    "    model_label: string\n",
    "    plot_bounds: boolean, whether to plot the expected upper bound\n",
    "    qs: sequence of quantities where the model should be evaluated\n",
    "    options: passed to plt.plot\n",
    "    \"\"\"\n",
    "    cdf = make_cdf(series)\n",
    "    dist = fit_normal(series)\n",
    "    p = 1 - (1 / len(series))\n",
    "    upper = dist.ppf(p)\n",
    "\n",
    "    if plot_bounds:\n",
    "        plt.plot(upper, p * 100, \"+\", color=\"black\", ms=12)\n",
    "\n",
    "    n = len(series)\n",
    "    if qs is None:\n",
    "        q_max = max(cdf.qs.max(), upper)\n",
    "        qs = np.linspace(cdf.qs.min(), q_max)\n",
    "    low, high = normal_error_bounds(dist, n, qs)\n",
    "    plt.fill_between(qs, low * 100, high * 100, lw=0, color=\"gray\", alpha=0.2)\n",
    "\n",
    "    cdf.plot(**options)"
   ]
  },
  {
   "cell_type": "markdown",
   "metadata": {
    "tags": []
   },
   "source": [
    "Suppose you work in a hospital, and one day you have lunch with three of your colleagues.\n",
    "One is a facilities engineer working on a new lighting system, one is an obstetrician who works in the maternity ward, and one is an oncologist who works with cancer patients.\n",
    "While you all enjoy the hospital food, each of them poses a statistical puzzle.\n",
    "\n",
    "The engineer says they are replacing old incandescent light bulbs with LED bulbs, and they've decided to replace the oldest bulbs first.\n",
    "According to previous tests, the bulbs last 1400 hours on average.\n",
    "So, they ask, which do you think will last longer: a new bulb or one that has already been lit for 1000 hours?\n",
    "\n",
    "Sensing a trick question, you ask if the new bulb might be defective.\n",
    "The engineer says, no, let's assume we've confirmed that it works.\n",
    "In that case, you say, I think the new bulb will last longer.\n",
    "\n",
    "\"That's right,\" says the engineer.\n",
    "\"Light bulbs behave as you expect; they wear out over time, so the longer they've been in use, the sooner they burn out, on average.\""
   ]
  },
  {
   "cell_type": "markdown",
   "metadata": {
    "tags": []
   },
   "source": [
    "\"However,\" says the obstetrician, \"not everything works that way. \n",
    "For example, most often, pregnancy lasts 39 or 40 weeks.\n",
    "Today I saw three patients who are all pregnant; the first is at the beginning of week 39, the second is at the beginning of week 40, and the third is at the beginning of week 41.\n",
    "Which one do you think will deliver her baby first?\"\n",
    "\n",
    "Now you are sure it's a trick question, but just to play along, you say the third patient is likely to deliver first.\n",
    "\n",
    "The obstetrician says no, the remaining duration of the three pregnancies is nearly the same, about four days.\n",
    "Even taking medical intervention into account, all three have the same chance of delivering first."
   ]
  },
  {
   "cell_type": "markdown",
   "metadata": {
    "tags": []
   },
   "source": [
    "\"That's surprising,\" says the oncologist.\n",
    "\"But in my field things are even stranger.\n",
    "For example, today I saw two patients with glioblastoma, which is a kind of brain cancer. They are about the same age, and the stage of their cancers is about the same, but one of them was diagnosed a week ago and one was diagnosed a year ago.\n",
    "Unfortunately, the average survival time after diagnosis is only about a year.\n",
    "So you probably expect the first patient to live longer.\"\n",
    "\n",
    "By now you know better than to guess, so you wait for the answer.\n",
    "\n",
    "The oncologist explains that many patients with glioblastoma live only a few months after diagnosis.\n",
    "So, it turns out, a patient who survives one year after diagnosis is then *more* likely to survive a second year."
   ]
  },
  {
   "cell_type": "markdown",
   "metadata": {
    "tags": []
   },
   "source": [
    "Based on this conversation, we can see that there are three ways survival times can go:\n",
    "\n",
    "* Many things wear out over time, like light bulbs, so we expect something new to last longer than something old.\n",
    "\n",
    "* But there are some situations, like patients after a cancer diagnosis, that are the other way around: the longer someone has survived, the longer we expect them to survive.\n",
    "\n",
    "* And there are some situations, like women expecting babies, where the average remaining time doesn't change, at least for a while.\n",
    "\n",
    "In this chapter I'll demonstrate and explain each of these effects, starting with light bulbs."
   ]
  },
  {
   "cell_type": "markdown",
   "metadata": {
    "tags": []
   },
   "source": [
    "## Light Bulbs"
   ]
  },
  {
   "cell_type": "markdown",
   "metadata": {},
   "source": [
    "The data are available in a gist:"
   ]
  },
  {
   "cell_type": "code",
   "execution_count": 6,
   "metadata": {
    "tags": []
   },
   "outputs": [],
   "source": [
    "download(\n",
    "    \"https://gist.github.com/epogrebnyak/7933e16c0ad215742c4c104be4fbdeb1/raw/c932bc5b6aa6317770c4cbf43eb591511fec08f9/lamps.csv\"\n",
    ")"
   ]
  },
  {
   "cell_type": "code",
   "execution_count": 7,
   "metadata": {
    "tags": []
   },
   "outputs": [
    {
     "data": {
      "text/html": [
       "<div>\n",
       "<style scoped>\n",
       "    .dataframe tbody tr th:only-of-type {\n",
       "        vertical-align: middle;\n",
       "    }\n",
       "\n",
       "    .dataframe tbody tr th {\n",
       "        vertical-align: top;\n",
       "    }\n",
       "\n",
       "    .dataframe thead th {\n",
       "        text-align: right;\n",
       "    }\n",
       "</style>\n",
       "<table border=\"1\" class=\"dataframe\">\n",
       "  <thead>\n",
       "    <tr style=\"text-align: right;\">\n",
       "      <th></th>\n",
       "      <th>h</th>\n",
       "      <th>f</th>\n",
       "      <th>K</th>\n",
       "    </tr>\n",
       "    <tr>\n",
       "      <th>i</th>\n",
       "      <th></th>\n",
       "      <th></th>\n",
       "      <th></th>\n",
       "    </tr>\n",
       "  </thead>\n",
       "  <tbody>\n",
       "    <tr>\n",
       "      <th>28</th>\n",
       "      <td>1812</td>\n",
       "      <td>1</td>\n",
       "      <td>4</td>\n",
       "    </tr>\n",
       "    <tr>\n",
       "      <th>29</th>\n",
       "      <td>1836</td>\n",
       "      <td>1</td>\n",
       "      <td>3</td>\n",
       "    </tr>\n",
       "    <tr>\n",
       "      <th>30</th>\n",
       "      <td>1860</td>\n",
       "      <td>1</td>\n",
       "      <td>2</td>\n",
       "    </tr>\n",
       "    <tr>\n",
       "      <th>31</th>\n",
       "      <td>1980</td>\n",
       "      <td>1</td>\n",
       "      <td>1</td>\n",
       "    </tr>\n",
       "    <tr>\n",
       "      <th>32</th>\n",
       "      <td>2568</td>\n",
       "      <td>1</td>\n",
       "      <td>0</td>\n",
       "    </tr>\n",
       "  </tbody>\n",
       "</table>\n",
       "</div>"
      ],
      "text/plain": [
       "       h  f  K\n",
       "i             \n",
       "28  1812  1  4\n",
       "29  1836  1  3\n",
       "30  1860  1  2\n",
       "31  1980  1  1\n",
       "32  2568  1  0"
      ]
     },
     "execution_count": 7,
     "metadata": {},
     "output_type": "execute_result"
    }
   ],
   "source": [
    "df = pd.read_csv(\"lamps.csv\", index_col=0)\n",
    "df.tail()"
   ]
  },
  {
   "cell_type": "markdown",
   "metadata": {},
   "source": [
    "The `h` column contains the quantities; the `k` column contains the frequencies (counts)."
   ]
  },
  {
   "cell_type": "code",
   "execution_count": 8,
   "metadata": {
    "tags": []
   },
   "outputs": [],
   "source": [
    "from empiricaldist import Pmf\n",
    "\n",
    "pmf_lifetimes = Pmf(df[\"f\"].values, index=df[\"h\"])\n",
    "pmf_lifetimes.index.name = \"t\""
   ]
  },
  {
   "cell_type": "markdown",
   "metadata": {},
   "source": [
    "We can use a `Counter` to reconstitute the 50 individual lifetimes."
   ]
  },
  {
   "cell_type": "code",
   "execution_count": 9,
   "metadata": {
    "tags": []
   },
   "outputs": [
    {
     "data": {
      "text/plain": [
       "count      50.000000\n",
       "mean     1413.840000\n",
       "std       346.520628\n",
       "min       840.000000\n",
       "25%      1176.000000\n",
       "50%      1446.000000\n",
       "75%      1653.000000\n",
       "max      2568.000000\n",
       "dtype: float64"
      ]
     },
     "execution_count": 9,
     "metadata": {},
     "output_type": "execute_result"
    }
   ],
   "source": [
    "from collections import Counter\n",
    "\n",
    "lifetimes = pd.Series(Counter(pmf_lifetimes.to_dict()).elements())\n",
    "lifetimes.describe()"
   ]
  },
  {
   "cell_type": "markdown",
   "metadata": {},
   "source": [
    "Here's a normal distribution that has the same mean and standard deviation as the data."
   ]
  },
  {
   "cell_type": "code",
   "execution_count": 10,
   "metadata": {
    "tags": []
   },
   "outputs": [
    {
     "data": {
      "text/plain": [
       "(1413.84, 346.52062753337276)"
      ]
     },
     "execution_count": 10,
     "metadata": {},
     "output_type": "execute_result"
    }
   ],
   "source": [
    "from scipy.stats import norm\n",
    "\n",
    "mu, sigma = lifetimes.mean(), lifetimes.std()\n",
    "dist = norm(mu, sigma)\n",
    "mu, sigma"
   ]
  },
  {
   "cell_type": "markdown",
   "metadata": {
    "tags": []
   },
   "source": [
    "The following figure shows the distribution of survival times for these light bulbs, plotted as a cumulative distribution function (CDF), along with a Gaussian model."
   ]
  },
  {
   "cell_type": "code",
   "execution_count": 11,
   "metadata": {
    "tags": []
   },
   "outputs": [
    {
     "data": {
      "image/png": "[encoded data removed]",
      "text/plain": [
       "<Figure size 450x225 with 1 Axes>"
      ]
     },
     "metadata": {},
     "output_type": "display_data"
    }
   ],
   "source": [
    "from empiricaldist import Cdf\n",
    "\n",
    "qs = np.linspace(500, 2500)\n",
    "ps = dist.cdf(qs)\n",
    "plt.plot(qs, ps, color=\"gray\", alpha=0.3, label=\"Gaussian model\")\n",
    "\n",
    "\n",
    "n = len(lifetimes)\n",
    "low, high = normal_error_bounds(dist, n, qs)\n",
    "plt.fill_between(qs, low, high, lw=0, color=\"gray\", alpha=0.1)\n",
    "\n",
    "surv = Cdf.from_seq(lifetimes)\n",
    "surv.plot(ls=\"--\", label=\"Data\")\n",
    "decorate(\n",
    "    xlabel=\"Duration (hours)\",\n",
    "    ylabel=\"Probability of survival\",\n",
    "    title=\"Distribution of light bulb lifetimes\",\n",
    ")"
   ]
  },
  {
   "cell_type": "markdown",
   "metadata": {
    "tags": []
   },
   "source": [
    "The shaded area shows how much variation we expect from the Gaussian model.\n",
    "Except for one unusually long-lasting bulb, the lifetimes fall within the bounds, which shows that the data are consistent with the model."
   ]
  },
  {
   "cell_type": "markdown",
   "metadata": {
    "tags": []
   },
   "source": [
    "In this dataset, the average lifetime for a new light bulb is about 1414 hours.\n",
    "For a bulb that has been used for 1000 hours, the average lifetime is higher, about 1495 hours; however, since it has already burned 1000 hours, its average remaining lifetime is only 495 hours.\n",
    "So we would rather have the new bulb."
   ]
  },
  {
   "cell_type": "code",
   "execution_count": 12,
   "metadata": {
    "tags": []
   },
   "outputs": [
    {
     "data": {
      "text/plain": [
       "1413.84"
      ]
     },
     "execution_count": 12,
     "metadata": {},
     "output_type": "execute_result"
    }
   ],
   "source": [
    "np.mean(lifetimes)"
   ]
  },
  {
   "cell_type": "code",
   "execution_count": 13,
   "metadata": {
    "tags": []
   },
   "outputs": [
    {
     "data": {
      "text/plain": [
       "1495.2558139534883"
      ]
     },
     "execution_count": 13,
     "metadata": {},
     "output_type": "execute_result"
    }
   ],
   "source": [
    "lifetimes[lifetimes > 1000].mean()"
   ]
  },
  {
   "cell_type": "markdown",
   "metadata": {
    "tags": []
   },
   "source": [
    "We can do the same calculation for a range of elapsed times from 0 to 2568 hours (the lifespan of the oldest bulb).\n",
    "At each point in time, $t$, we can compute the average lifetime for bulbs that survive past $t$ and the average remaining lifetime we expect."
   ]
  },
  {
   "cell_type": "code",
   "execution_count": 14,
   "metadata": {
    "tags": []
   },
   "outputs": [],
   "source": [
    "def remaining_lifetimes_seq(seq, qs=None):\n",
    "    \"\"\"Compute average remaining lifetimes.\n",
    "    \n",
    "    seq: sequence of quantities\n",
    "    qs: ages to evaluate\n",
    "    \n",
    "    returns: Series\n",
    "    \"\"\"\n",
    "    qs = np.linspace(0, seq.max(), 200) if qs is None else qs        \n",
    "\n",
    "    series = pd.Series(index=qs, dtype=float)\n",
    "    for q in qs:\n",
    "        conditional = seq[seq >= q]\n",
    "        if len(conditional):\n",
    "            series[q] = conditional.mean() - q\n",
    "\n",
    "    return series.dropna()"
   ]
  },
  {
   "cell_type": "markdown",
   "metadata": {},
   "source": [
    "To compute error bounds, we'll use resampling."
   ]
  },
  {
   "cell_type": "code",
   "execution_count": 15,
   "metadata": {
    "tags": []
   },
   "outputs": [],
   "source": [
    "def resample(xs):\n",
    "    \"\"\"Resample a sequence of quantities.\n",
    "    \n",
    "    xs: quantities\n",
    "    \n",
    "    returns: sample\n",
    "    \"\"\"\n",
    "    return np.random.choice(xs, size=len(xs), replace=True)"
   ]
  },
  {
   "cell_type": "code",
   "execution_count": 16,
   "metadata": {
    "tags": []
   },
   "outputs": [],
   "source": [
    "mu, sigma = lifetimes.mean(), lifetimes.std()\n",
    "dist = norm(mu, sigma)\n",
    "\n",
    "n = len(lifetimes)\n",
    "qs = pmf_lifetimes.index"
   ]
  },
  {
   "cell_type": "markdown",
   "metadata": {},
   "source": [
    "The following loop generates multiple resamplings and compute the remaining lifetimes for each."
   ]
  },
  {
   "cell_type": "code",
   "execution_count": 17,
   "metadata": {
    "tags": []
   },
   "outputs": [],
   "source": [
    "np.random.seed(17)\n",
    "from scipy.stats import gaussian_kde\n",
    "\n",
    "kde = gaussian_kde(lifetimes)\n",
    "\n",
    "res = []\n",
    "qs = np.arange(0, 2550, 50)\n",
    "for i in range(201):\n",
    "    sample = kde.resample(len(lifetimes))\n",
    "    rem = remaining_lifetimes_seq(sample, qs)\n",
    "    res.append(rem)"
   ]
  },
  {
   "cell_type": "code",
   "execution_count": 18,
   "metadata": {
    "tags": []
   },
   "outputs": [
    {
     "data": {
      "text/plain": [
       "(1000, 495.2558139534883)"
      ]
     },
     "execution_count": 18,
     "metadata": {},
     "output_type": "execute_result"
    }
   ],
   "source": [
    "x = 1000\n",
    "y = lifetimes[lifetimes > 1000].mean() - x\n",
    "x, y"
   ]
  },
  {
   "cell_type": "markdown",
   "metadata": {},
   "source": [
    "The following two functions compile the results and compute error bounds."
   ]
  },
  {
   "cell_type": "code",
   "execution_count": 19,
   "metadata": {},
   "outputs": [],
   "source": [
    "def percentile_rows(series_seq, ps):\n",
    "    \"\"\"Computes percentiles from aligned series.\n",
    "\n",
    "    series_seq: list of sequences\n",
    "    ps: cumulative probabilities\n",
    "\n",
    "    returns: Series of x-values, NumPy array with selected rows\n",
    "    \"\"\"\n",
    "    # NOTE: This is a specialized version of this function that\n",
    "    # fills NaNs with 0\n",
    "    df = pd.concat(series_seq, axis=1).fillna(0)\n",
    "    xs = df.index\n",
    "    array = df.values.transpose()\n",
    "    array = np.sort(array, axis=0)\n",
    "    nrows, ncols = array.shape\n",
    "\n",
    "    ps = np.asarray(ps)\n",
    "    indices = (ps * nrows).astype(int)\n",
    "    rows = array[indices]\n",
    "    return xs, rows"
   ]
  },
  {
   "cell_type": "code",
   "execution_count": 20,
   "metadata": {
    "tags": []
   },
   "outputs": [],
   "source": [
    "ps = [0.5]\n",
    "xs, rows = percentile_rows(res, ps)\n",
    "(med,) = rows\n",
    "\n",
    "x = 1000\n",
    "y = pd.Series(med, xs)[x]"
   ]
  },
  {
   "cell_type": "code",
   "execution_count": 21,
   "metadata": {},
   "outputs": [],
   "source": [
    "def plot_percentiles(series_seq, label=None, **options):\n",
    "    \"\"\"Plot the low, median, and high percentiles.\n",
    "    \n",
    "    series_seq: sequence of Series\n",
    "    ps: percentiles to use for low, medium and high\n",
    "    label: string label for the median line\n",
    "    options: options passed plt.plot and plt.fill_between\n",
    "    \"\"\"\n",
    "    ps = [0.05, 0.5, 0.95]\n",
    "    xs, rows = percentile_rows(series_seq, ps)\n",
    "    low, med, high = rows\n",
    "    plt.plot(xs, med, alpha=0.5, label=label, **options)\n",
    "    plt.fill_between(xs, low, high, linewidth=0, alpha=0.2, **options)"
   ]
  },
  {
   "cell_type": "markdown",
   "metadata": {
    "tags": []
   },
   "source": [
    "The following figure shows the result."
   ]
  },
  {
   "cell_type": "code",
   "execution_count": 22,
   "metadata": {
    "tags": []
   },
   "outputs": [
    {
     "data": {
      "image/png": "[encoded data removed]",
      "text/plain": [
       "<Figure size 450x225 with 1 Axes>"
      ]
     },
     "metadata": {},
     "output_type": "display_data"
    }
   ],
   "source": [
    "plt.plot([0, x, x], [y, y, 0], \":\", color=\"gray\", alpha=0.5)\n",
    "plot_percentiles(res, color=\"C0\")\n",
    "\n",
    "decorate(\n",
    "    xlabel=\"Elapsed time in hours\",\n",
    "    ylabel=\"Average remaining lifetime\",\n",
    "    title=\"Average remaining lifetime of light bulbs\",\n",
    ")"
   ]
  },
  {
   "cell_type": "markdown",
   "metadata": {
    "tags": []
   },
   "source": [
    "The x-axis shows elapsed times since the installation of a hypothetical light bulb.\n",
    "The y-axis shows the average remaining lifetime.\n",
    "In this example, a bulb that has been burning for 1000 hours is expected to last about 495 hours more, as indicated by the dotted lines.\n",
    "\n",
    "So a new bulb generally lasts longer than a used bulb."
   ]
  },
  {
   "cell_type": "code",
   "execution_count": 23,
   "metadata": {
    "tags": []
   },
   "outputs": [
    {
     "data": {
      "text/plain": [
       "(25, 11, 5)"
      ]
     },
     "execution_count": 23,
     "metadata": {},
     "output_type": "execute_result"
    }
   ],
   "source": [
    "(lifetimes > 1450).sum(), (lifetimes > 1710).sum(), (lifetimes > 1800).sum()"
   ]
  },
  {
   "cell_type": "markdown",
   "metadata": {
    "tags": []
   },
   "source": [
    "## Any day now\n",
    "\n",
    "Now let's consider the question posed by the imaginary obstetrician at lunch.\n",
    "Suppose you visit a maternity ward and meet women who are starting their 39th, 40th, and 41st week of pregnancy.\n",
    "Which one do you think will deliver first?\n",
    "\n",
    "To answer this question, we need to know the distribution of gestation times, which we can get from the National Survey of Family Growth (NSFG), which was the source of the birth weights in Chapter~\\ref{extremes-outliers-and-goats}.\n",
    "I gathered data collected between 2002 and 2017, which includes information about 43,939 live births."
   ]
  },
  {
   "cell_type": "markdown",
   "metadata": {},
   "source": [
    "I've made a subset of the data available in an HDF file."
   ]
  },
  {
   "cell_type": "code",
   "execution_count": 24,
   "metadata": {},
   "outputs": [],
   "source": [
    "download(DATA_PATH + \"nsfg.hdf5\")"
   ]
  },
  {
   "cell_type": "code",
   "execution_count": 25,
   "metadata": {
    "tags": []
   },
   "outputs": [
    {
     "data": {
      "text/plain": [
       "(62539, 7)"
      ]
     },
     "execution_count": 25,
     "metadata": {},
     "output_type": "execute_result"
    }
   ],
   "source": [
    "# data cleaning is in FirstLateNSFG repo\n",
    "# includes data from 2002, 2006-2010, 2011-2013, 2013-2015,  2015-2017\n",
    "\n",
    "nsfg = pd.read_hdf(\"nsfg.hdf5\", \"nsfg\")\n",
    "nsfg.shape"
   ]
  },
  {
   "cell_type": "code",
   "execution_count": 26,
   "metadata": {},
   "outputs": [
    {
     "data": {
      "text/html": [
       "<div>\n",
       "<style scoped>\n",
       "    .dataframe tbody tr th:only-of-type {\n",
       "        vertical-align: middle;\n",
       "    }\n",
       "\n",
       "    .dataframe tbody tr th {\n",
       "        vertical-align: top;\n",
       "    }\n",
       "\n",
       "    .dataframe thead th {\n",
       "        text-align: right;\n",
       "    }\n",
       "</style>\n",
       "<table border=\"1\" class=\"dataframe\">\n",
       "  <thead>\n",
       "    <tr style=\"text-align: right;\">\n",
       "      <th></th>\n",
       "      <th>pregend1</th>\n",
       "      <th>nbrnaliv</th>\n",
       "      <th>prglngth</th>\n",
       "      <th>outcome</th>\n",
       "      <th>birthord</th>\n",
       "      <th>finalwgt</th>\n",
       "      <th>cycle</th>\n",
       "    </tr>\n",
       "  </thead>\n",
       "  <tbody>\n",
       "    <tr>\n",
       "      <th>0</th>\n",
       "      <td>6.0</td>\n",
       "      <td>1.0</td>\n",
       "      <td>40</td>\n",
       "      <td>1</td>\n",
       "      <td>1.0</td>\n",
       "      <td>19877.457610</td>\n",
       "      <td>10</td>\n",
       "    </tr>\n",
       "    <tr>\n",
       "      <th>1</th>\n",
       "      <td>1.0</td>\n",
       "      <td>NaN</td>\n",
       "      <td>14</td>\n",
       "      <td>4</td>\n",
       "      <td>NaN</td>\n",
       "      <td>19877.457610</td>\n",
       "      <td>10</td>\n",
       "    </tr>\n",
       "    <tr>\n",
       "      <th>2</th>\n",
       "      <td>6.0</td>\n",
       "      <td>1.0</td>\n",
       "      <td>39</td>\n",
       "      <td>1</td>\n",
       "      <td>2.0</td>\n",
       "      <td>19877.457610</td>\n",
       "      <td>10</td>\n",
       "    </tr>\n",
       "    <tr>\n",
       "      <th>3</th>\n",
       "      <td>6.0</td>\n",
       "      <td>1.0</td>\n",
       "      <td>39</td>\n",
       "      <td>1</td>\n",
       "      <td>1.0</td>\n",
       "      <td>4221.017695</td>\n",
       "      <td>10</td>\n",
       "    </tr>\n",
       "    <tr>\n",
       "      <th>4</th>\n",
       "      <td>6.0</td>\n",
       "      <td>1.0</td>\n",
       "      <td>39</td>\n",
       "      <td>1</td>\n",
       "      <td>2.0</td>\n",
       "      <td>4221.017695</td>\n",
       "      <td>10</td>\n",
       "    </tr>\n",
       "  </tbody>\n",
       "</table>\n",
       "</div>"
      ],
      "text/plain": [
       "   pregend1  nbrnaliv  prglngth  outcome  birthord      finalwgt  cycle\n",
       "0       6.0       1.0        40        1       1.0  19877.457610     10\n",
       "1       1.0       NaN        14        4       NaN  19877.457610     10\n",
       "2       6.0       1.0        39        1       2.0  19877.457610     10\n",
       "3       6.0       1.0        39        1       1.0   4221.017695     10\n",
       "4       6.0       1.0        39        1       2.0   4221.017695     10"
      ]
     },
     "execution_count": 26,
     "metadata": {},
     "output_type": "execute_result"
    }
   ],
   "source": [
    "nsfg.head()"
   ]
  },
  {
   "cell_type": "markdown",
   "metadata": {},
   "source": [
    "I selected live births with pregnancy lengths less than 45 weeks (the outliers are probably errors)."
   ]
  },
  {
   "cell_type": "code",
   "execution_count": 27,
   "metadata": {
    "tags": []
   },
   "outputs": [
    {
     "data": {
      "text/plain": [
       "43246"
      ]
     },
     "execution_count": 27,
     "metadata": {},
     "output_type": "execute_result"
    }
   ],
   "source": [
    "live = nsfg[\"outcome\"] == 1\n",
    "reasonable = nsfg[\"prglngth\"] < 45\n",
    "\n",
    "lengths = nsfg.loc[live & reasonable, \"prglngth\"]\n",
    "pmf_length = Pmf.from_seq(lengths)\n",
    "len(lengths)"
   ]
  },
  {
   "cell_type": "code",
   "execution_count": 28,
   "metadata": {
    "tags": []
   },
   "outputs": [
    {
     "data": {
      "text/plain": [
       "0.9272533875965407"
      ]
     },
     "execution_count": 28,
     "metadata": {},
     "output_type": "execute_result"
    }
   ],
   "source": [
    "(lengths < 28).mean() * 100"
   ]
  },
  {
   "cell_type": "code",
   "execution_count": 29,
   "metadata": {
    "tags": []
   },
   "outputs": [],
   "source": [
    "gt = pmf_length.qs >= 28\n",
    "pmf_length_gt = Pmf(pmf_length[gt] * 100)"
   ]
  },
  {
   "cell_type": "markdown",
   "metadata": {
    "tags": []
   },
   "source": [
    "The following figure shows the distribution of their durations (except for the 1% of babies born prior to 28 weeks)."
   ]
  },
  {
   "cell_type": "code",
   "execution_count": 30,
   "metadata": {
    "tags": []
   },
   "outputs": [
    {
     "data": {
      "image/png": "[encoded data removed]",
      "text/plain": [
       "<Figure size 450x225 with 1 Axes>"
      ]
     },
     "metadata": {},
     "output_type": "display_data"
    }
   ],
   "source": [
    "pmf_length_gt.plot(color=\"C1\", marker=\"o\", alpha=0.4)\n",
    "\n",
    "decorate(\n",
    "    xlabel=\"Pregnancy length (weeks)\",\n",
    "    ylabel=\"Percentage\",\n",
    "    title=\"Distribution of pregnancy length\",\n",
    "    xticks=np.arange(28, 46, 2),\n",
    ")"
   ]
  },
  {
   "cell_type": "markdown",
   "metadata": {
    "tags": []
   },
   "source": [
    "About 41% of these births were during the 39th week of pregnancy, and another 18% during the 40th week."
   ]
  },
  {
   "cell_type": "code",
   "execution_count": 31,
   "metadata": {
    "tags": []
   },
   "outputs": [
    {
     "data": {
      "text/plain": [
       "(38.505341534477175, 42.357674698237986, 17.400453221107153)"
      ]
     },
     "execution_count": 31,
     "metadata": {},
     "output_type": "execute_result"
    }
   ],
   "source": [
    "lengths.mean(), pmf_length_gt[39], pmf_length_gt[40]"
   ]
  },
  {
   "cell_type": "markdown",
   "metadata": {},
   "source": [
    "I'll use resampling to compute error bounds. Since the sampling weights are specific to each cycle, I'll do the resampling within the cycles."
   ]
  },
  {
   "cell_type": "code",
   "execution_count": 32,
   "metadata": {},
   "outputs": [
    {
     "name": "stdout",
     "output_type": "stream",
     "text": [
      "6 13593\n",
      "7 20492\n",
      "8 9543\n",
      "9 9358\n",
      "10 9553\n"
     ]
    }
   ],
   "source": [
    "for name, group in nsfg.groupby(\"cycle\"):\n",
    "    print(name, len(group))"
   ]
  },
  {
   "cell_type": "code",
   "execution_count": 33,
   "metadata": {},
   "outputs": [],
   "source": [
    "def sample_by_cycle(df):\n",
    "    sample = df.groupby(\"cycle\").sample(frac=1, replace=True, weights=\"finalwgt\")\n",
    "    return sample"
   ]
  },
  {
   "cell_type": "markdown",
   "metadata": {},
   "source": [
    "The following loop computes the remaining lifetimes for each resampling."
   ]
  },
  {
   "cell_type": "code",
   "execution_count": 34,
   "metadata": {
    "tags": []
   },
   "outputs": [],
   "source": [
    "qs = np.arange(36, 44)\n",
    "mrt_seq = []\n",
    "\n",
    "for i in range(101):\n",
    "    sample = sample_by_cycle(nsfg)\n",
    "\n",
    "    live = sample[\"outcome\"] == 1\n",
    "    reasonable = sample[\"prglngth\"] < 50\n",
    "\n",
    "    lengths = sample.loc[live & reasonable, \"prglngth\"]\n",
    "    mrt = remaining_lifetimes_seq(lengths, qs)\n",
    "\n",
    "    mrt_seq.append(mrt)"
   ]
  },
  {
   "cell_type": "code",
   "execution_count": 35,
   "metadata": {
    "tags": []
   },
   "outputs": [
    {
     "data": {
      "image/png": "[encoded data removed]",
      "text/plain": [
       "<Figure size 450x225 with 1 Axes>"
      ]
     },
     "metadata": {},
     "output_type": "display_data"
    }
   ],
   "source": [
    "# the previous version of plot_percentiles was specialized;\n",
    "# for this analysis we want the general one (not that it matters)\n",
    "from utils import plot_percentiles\n",
    "\n",
    "plot_percentiles(mrt_seq, color=\"C0\")\n",
    "\n",
    "decorate(\n",
    "    xlabel=\"Week of pregnancy\",\n",
    "    ylabel=\"Average remaining time\",\n",
    "    title=\"Average remaining duration of pregancy\",\n",
    "    ylim=[0, 3.5],\n",
    ")"
   ]
  },
  {
   "cell_type": "markdown",
   "metadata": {
    "tags": []
   },
   "source": [
    "Between weeks 36 and 39, the curve behaves as we expect: as time goes on, we get closer to the finish line.\n",
    "For example, at the beginning of week 36, the average remaining time is 3.2 weeks.\n",
    "At the beginning of week 37, it is down to 2.3 weeks.\n",
    "So far, so good: a week goes by and the finish line is just about one week closer.\n",
    "\n",
    "But then, cruelly, the curve levels off.\n",
    "At the beginning of week 39, the average remaining time is 0.68 weeks, so the end seems near.\n",
    "But if we get to the beginning of week 40, and the baby has not been born, the average remaining time is 0.63 weeks.\n",
    "A week has passed and the finish line is only 8 hours closer.\n",
    "\n",
    "And if we get to the beginning of week 41, and the baby has not been born, the average remaining time is 0.59 weeks.\n",
    "Another week has passed and the finish line is only 7 hours closer!"
   ]
  },
  {
   "cell_type": "markdown",
   "metadata": {},
   "source": [
    "Here's the computation for the average remaining time at the end of each week."
   ]
  },
  {
   "cell_type": "code",
   "execution_count": 36,
   "metadata": {
    "tags": []
   },
   "outputs": [
    {
     "data": {
      "text/html": [
       "<div>\n",
       "<style scoped>\n",
       "    .dataframe tbody tr th:only-of-type {\n",
       "        vertical-align: middle;\n",
       "    }\n",
       "\n",
       "    .dataframe tbody tr th {\n",
       "        vertical-align: top;\n",
       "    }\n",
       "\n",
       "    .dataframe thead th {\n",
       "        text-align: right;\n",
       "    }\n",
       "</style>\n",
       "<table border=\"1\" class=\"dataframe\">\n",
       "  <thead>\n",
       "    <tr style=\"text-align: right;\">\n",
       "      <th></th>\n",
       "      <th>2.5</th>\n",
       "      <th>50.0</th>\n",
       "      <th>97.5</th>\n",
       "    </tr>\n",
       "  </thead>\n",
       "  <tbody>\n",
       "    <tr>\n",
       "      <th>36</th>\n",
       "      <td>3.142822</td>\n",
       "      <td>3.153736</td>\n",
       "      <td>3.165931</td>\n",
       "    </tr>\n",
       "    <tr>\n",
       "      <th>37</th>\n",
       "      <td>2.292390</td>\n",
       "      <td>2.303369</td>\n",
       "      <td>2.316928</td>\n",
       "    </tr>\n",
       "    <tr>\n",
       "      <th>38</th>\n",
       "      <td>1.465161</td>\n",
       "      <td>1.474933</td>\n",
       "      <td>1.488573</td>\n",
       "    </tr>\n",
       "    <tr>\n",
       "      <th>39</th>\n",
       "      <td>0.669659</td>\n",
       "      <td>0.679651</td>\n",
       "      <td>0.692118</td>\n",
       "    </tr>\n",
       "    <tr>\n",
       "      <th>40</th>\n",
       "      <td>0.612146</td>\n",
       "      <td>0.629809</td>\n",
       "      <td>0.647226</td>\n",
       "    </tr>\n",
       "    <tr>\n",
       "      <th>41</th>\n",
       "      <td>0.560671</td>\n",
       "      <td>0.586682</td>\n",
       "      <td>0.611351</td>\n",
       "    </tr>\n",
       "    <tr>\n",
       "      <th>42</th>\n",
       "      <td>0.320918</td>\n",
       "      <td>0.352373</td>\n",
       "      <td>0.382273</td>\n",
       "    </tr>\n",
       "    <tr>\n",
       "      <th>43</th>\n",
       "      <td>0.220000</td>\n",
       "      <td>0.271242</td>\n",
       "      <td>0.340611</td>\n",
       "    </tr>\n",
       "  </tbody>\n",
       "</table>\n",
       "</div>"
      ],
      "text/plain": [
       "        2.5       50.0      97.5\n",
       "36  3.142822  3.153736  3.165931\n",
       "37  2.292390  2.303369  2.316928\n",
       "38  1.465161  1.474933  1.488573\n",
       "39  0.669659  0.679651  0.692118\n",
       "40  0.612146  0.629809  0.647226\n",
       "41  0.560671  0.586682  0.611351\n",
       "42  0.320918  0.352373  0.382273\n",
       "43  0.220000  0.271242  0.340611"
      ]
     },
     "execution_count": 36,
     "metadata": {},
     "output_type": "execute_result"
    }
   ],
   "source": [
    "from utils import percentile_rows\n",
    "\n",
    "xs, ys = percentile_rows(mrt_seq, [0.025, 0.5, 0.975])\n",
    "df = pd.DataFrame(np.transpose(ys), xs, columns=[2.5, 50, 97.5])\n",
    "df"
   ]
  },
  {
   "cell_type": "code",
   "execution_count": 37,
   "metadata": {
    "tags": []
   },
   "outputs": [
    {
     "data": {
      "text/plain": [
       "40   -8.373551\n",
       "41   -7.245228\n",
       "Name: 50.0, dtype: float64"
      ]
     },
     "execution_count": 37,
     "metadata": {},
     "output_type": "execute_result"
    }
   ],
   "source": [
    "df[50].diff().loc[[40, 41]] * 7 * 24"
   ]
  },
  {
   "cell_type": "markdown",
   "metadata": {
    "tags": []
   },
   "source": [
    "## Cancer survival times\n",
    "\n",
    "Finally, let's consider the surprising result reported by the imaginary oncologist at lunch: for many cancers, a patient who has survived a year after diagnosis is expected to live longer than someone who has just been diagnosed.\n",
    "\n",
    "To demonstrate and explain this result, I'll use data from the the Surveillance, Epidemiology, and End Results (SEER) program, which is run by the U.S. National Institutes of Health (NIH).\n",
    "Starting in 1973, SEER has collected data on cancer cases from registries in several locations in the United States.\n",
    "In the most recent datasets, these registries cover about one third of the U.S. population."
   ]
  },
  {
   "cell_type": "markdown",
   "metadata": {},
   "source": [
    "NOTE: I am definitely not allowed to redistribute SEER data, so the data in this example in synthetic; that is, I have generated random data that is statistically similar to the actual data I reported in the book. The results below will differ from what's in the book, but the conclusions are qualitatively similar."
   ]
  },
  {
   "cell_type": "code",
   "execution_count": 38,
   "metadata": {
    "tags": []
   },
   "outputs": [
    {
     "data": {
      "text/plain": [
       "(16202, 2)"
      ]
     },
     "execution_count": 38,
     "metadata": {},
     "output_type": "execute_result"
    }
   ],
   "source": [
    "brain = pd.read_hdf(\"brain.hdf\", \"brain\")\n",
    "brain.shape"
   ]
  },
  {
   "cell_type": "code",
   "execution_count": 39,
   "metadata": {
    "tags": []
   },
   "outputs": [
    {
     "data": {
      "text/html": [
       "<div>\n",
       "<style scoped>\n",
       "    .dataframe tbody tr th:only-of-type {\n",
       "        vertical-align: middle;\n",
       "    }\n",
       "\n",
       "    .dataframe tbody tr th {\n",
       "        vertical-align: top;\n",
       "    }\n",
       "\n",
       "    .dataframe thead th {\n",
       "        text-align: right;\n",
       "    }\n",
       "</style>\n",
       "<table border=\"1\" class=\"dataframe\">\n",
       "  <thead>\n",
       "    <tr style=\"text-align: right;\">\n",
       "      <th></th>\n",
       "      <th>duration</th>\n",
       "      <th>observed</th>\n",
       "    </tr>\n",
       "  </thead>\n",
       "  <tbody>\n",
       "    <tr>\n",
       "      <th>0</th>\n",
       "      <td>4.50</td>\n",
       "      <td>True</td>\n",
       "    </tr>\n",
       "    <tr>\n",
       "      <th>1</th>\n",
       "      <td>15.75</td>\n",
       "      <td>True</td>\n",
       "    </tr>\n",
       "    <tr>\n",
       "      <th>2</th>\n",
       "      <td>10.75</td>\n",
       "      <td>True</td>\n",
       "    </tr>\n",
       "    <tr>\n",
       "      <th>3</th>\n",
       "      <td>6.25</td>\n",
       "      <td>True</td>\n",
       "    </tr>\n",
       "    <tr>\n",
       "      <th>4</th>\n",
       "      <td>29.50</td>\n",
       "      <td>True</td>\n",
       "    </tr>\n",
       "  </tbody>\n",
       "</table>\n",
       "</div>"
      ],
      "text/plain": [
       "   duration  observed\n",
       "0      4.50      True\n",
       "1     15.75      True\n",
       "2     10.75      True\n",
       "3      6.25      True\n",
       "4     29.50      True"
      ]
     },
     "execution_count": 39,
     "metadata": {},
     "output_type": "execute_result"
    }
   ],
   "source": [
    "brain.head()"
   ]
  },
  {
   "cell_type": "markdown",
   "metadata": {
    "tags": []
   },
   "source": [
    "From the SEER data I selected the 16,202 cases of glioblastoma, diagnosed between 2000 and 2016, where the survival times are available.\n",
    "We can use this data to infer the distribution of survival times, but first we have to deal with a statistical obstacle: some of the patients are still alive, or were alive the last time they appeared in a registry.\n",
    "\n",
    "For these cases, the time until their death is unknown, which is a good thing.\n",
    "However, in order to work with data like this, we need a special method, called Kaplan-Meier estimation, to compute the distribution of lifetimes."
   ]
  },
  {
   "cell_type": "markdown",
   "metadata": {},
   "source": [
    "`duration` is the observed duration in months, for both complete and ongoing cases."
   ]
  },
  {
   "cell_type": "code",
   "execution_count": 40,
   "metadata": {
    "tags": []
   },
   "outputs": [
    {
     "data": {
      "text/plain": [
       "count    16202.000000\n",
       "mean        13.457783\n",
       "std         19.088951\n",
       "min          0.250000\n",
       "25%          3.250000\n",
       "50%          7.750000\n",
       "75%         16.500000\n",
       "max        201.750000\n",
       "Name: duration, dtype: float64"
      ]
     },
     "execution_count": 40,
     "metadata": {},
     "output_type": "execute_result"
    }
   ],
   "source": [
    "duration = brain[\"duration\"]\n",
    "duration.describe()"
   ]
  },
  {
   "cell_type": "markdown",
   "metadata": {},
   "source": [
    "`observed` is a boolean that indicates whether each case is complete or ongoing."
   ]
  },
  {
   "cell_type": "code",
   "execution_count": 41,
   "metadata": {
    "tags": []
   },
   "outputs": [
    {
     "data": {
      "text/plain": [
       "14548"
      ]
     },
     "execution_count": 41,
     "metadata": {},
     "output_type": "execute_result"
    }
   ],
   "source": [
    "observed = brain[\"observed\"]\n",
    "observed.sum()"
   ]
  },
  {
   "cell_type": "code",
   "execution_count": 42,
   "metadata": {
    "tags": []
   },
   "outputs": [
    {
     "data": {
      "text/plain": [
       "(0.0, 0.0)"
      ]
     },
     "execution_count": 42,
     "metadata": {},
     "output_type": "execute_result"
    }
   ],
   "source": [
    "(duration[observed] == 0).mean(), (duration[~observed] == 0).mean()"
   ]
  },
  {
   "cell_type": "markdown",
   "metadata": {},
   "source": [
    "As we should expect, the distributions are different for the complete and ongoing cases."
   ]
  },
  {
   "cell_type": "code",
   "execution_count": 43,
   "metadata": {
    "tags": []
   },
   "outputs": [
    {
     "data": {
      "image/png": "[encoded data removed]",
      "text/plain": [
       "<Figure size 450x225 with 1 Axes>"
      ]
     },
     "metadata": {},
     "output_type": "display_data"
    }
   ],
   "source": [
    "Cdf.from_seq(duration[observed]).plot(label=\"complete\")\n",
    "Cdf.from_seq(duration[~observed]).plot(label=\"ongoing\")\n",
    "\n",
    "decorate(xscale=\"linear\")"
   ]
  },
  {
   "cell_type": "markdown",
   "metadata": {},
   "source": [
    "With Kaplan-Meier estimation, we can use all cases to estimate the survival function."
   ]
  },
  {
   "cell_type": "code",
   "execution_count": 44,
   "metadata": {
    "tags": []
   },
   "outputs": [],
   "source": [
    "import lifelines\n",
    "from empiricaldist import Surv\n",
    "\n",
    "\n",
    "def km_fit(duration, observed):\n",
    "    \"\"\"Compute a survival function by Kaplan-Meier estimation.\n",
    "    \n",
    "    duration: sequence of durations for complete and incomplete cases\n",
    "    observed: sequence booleans indicating whether each case is complete\n",
    "    \n",
    "    returns: tuple of Surv (estimate, low, high)\n",
    "    \"\"\"\n",
    "    fit = lifelines.KaplanMeierFitter().fit(duration, observed)\n",
    "    surv_km = Surv(fit.survival_function_[\"KM_estimate\"])\n",
    "\n",
    "    ci_fit = fit.confidence_interval_\n",
    "    surv_low = Surv(ci_fit[\"KM_estimate_lower_0.95\"])\n",
    "    surv_high = Surv(ci_fit[\"KM_estimate_upper_0.95\"])\n",
    "\n",
    "    return surv_km, surv_low, surv_high"
   ]
  },
  {
   "cell_type": "code",
   "execution_count": 45,
   "metadata": {
    "tags": []
   },
   "outputs": [
    {
     "data": {
      "text/html": [
       "<div>\n",
       "<style scoped>\n",
       "    .dataframe tbody tr th:only-of-type {\n",
       "        vertical-align: middle;\n",
       "    }\n",
       "\n",
       "    .dataframe tbody tr th {\n",
       "        vertical-align: top;\n",
       "    }\n",
       "\n",
       "    .dataframe thead th {\n",
       "        text-align: right;\n",
       "    }\n",
       "</style>\n",
       "<table border=\"1\" class=\"dataframe\">\n",
       "  <thead>\n",
       "    <tr style=\"text-align: right;\">\n",
       "      <th></th>\n",
       "      <th>probs</th>\n",
       "    </tr>\n",
       "    <tr>\n",
       "      <th>timeline</th>\n",
       "      <th></th>\n",
       "    </tr>\n",
       "  </thead>\n",
       "  <tbody>\n",
       "    <tr>\n",
       "      <th>0.00</th>\n",
       "      <td>1.00000</td>\n",
       "    </tr>\n",
       "    <tr>\n",
       "      <th>0.25</th>\n",
       "      <td>0.97667</td>\n",
       "    </tr>\n",
       "    <tr>\n",
       "      <th>0.50</th>\n",
       "      <td>0.95130</td>\n",
       "    </tr>\n",
       "  </tbody>\n",
       "</table>\n",
       "</div>"
      ],
      "text/plain": [
       "timeline\n",
       "0.00    1.00000\n",
       "0.25    0.97667\n",
       "0.50    0.95130\n",
       "Name: , dtype: float64"
      ]
     },
     "execution_count": 45,
     "metadata": {},
     "output_type": "execute_result"
    }
   ],
   "source": [
    "surv_km, surv_low, surv_high = km_fit(duration, observed)\n",
    "surv_km.head()"
   ]
  },
  {
   "cell_type": "code",
   "execution_count": 46,
   "metadata": {
    "tags": []
   },
   "outputs": [],
   "source": [
    "def plot_fit(surv_km, surv_low, surv_high, **options):\n",
    "    \"\"\"Plot an estimated survival curve with error bounds.\n",
    "    \n",
    "    surv_km: estimated Surv\n",
    "    surv_low, surv_high: lower and upper bounds\n",
    "    options: passed to Series.plot\n",
    "    \"\"\"\n",
    "    xs = surv_low.index\n",
    "    plt.fill_between(xs, surv_low, surv_high, color=\"gray\", alpha=0.3)\n",
    "    surv_km.plot(**options)"
   ]
  },
  {
   "cell_type": "markdown",
   "metadata": {
    "tags": []
   },
   "source": [
    "The following figure shows the result on a log scale, plotted in the familiar form of a CDF and in a new form called a survival curve."
   ]
  },
  {
   "cell_type": "code",
   "execution_count": 47,
   "metadata": {
    "tags": []
   },
   "outputs": [
    {
     "data": {
      "image/png": "[encoded data removed]",
      "text/plain": [
       "<Figure size 450x225 with 2 Axes>"
      ]
     },
     "metadata": {},
     "output_type": "display_data"
    }
   ],
   "source": [
    "ax1 = plt.gca()\n",
    "surv_km.plot(ls=\"--\", label=\"Survival curve\")\n",
    "h1, l1 = plt.gca().get_legend_handles_labels()\n",
    "plt.ylabel(\"Probability of survival\")\n",
    "plt.xlabel(\"Survival time (months)\")\n",
    "\n",
    "plt.xscale(\"log\")\n",
    "labels = [1, 2, 5, 10, 20, 50, 100]\n",
    "ticks = labels\n",
    "plt.xticks(ticks, labels)\n",
    "\n",
    "ax2 = plt.twinx()\n",
    "ax1.tick_params(left=False, right=False)\n",
    "\n",
    "cdf = surv_km.make_cdf() * 100\n",
    "cdf.plot(color=\"gray\", ls=\":\", label=\"CDF\")\n",
    "h2, l2 = plt.gca().get_legend_handles_labels()\n",
    "plt.legend(h1 + h2, l1 + l2, loc=\"center right\")\n",
    "plt.ylabel(\"Percentile rank\")\n",
    "\n",
    "plt.title(\"Survival curve and CDF for patients with glioblastoma\")\n",
    "ax2.tick_params(left=False, right=False)"
   ]
  },
  {
   "cell_type": "markdown",
   "metadata": {
    "tags": []
   },
   "source": [
    "The survival curve shows the probability of survival past a given time on a scale from 0 to 1.\n",
    "It is the complement of the CDF, so as the CDF increases from left to right, the survival curve decreases.\n",
    "The two curves contain the same information; the only reason to use one or the other is convention.\n",
    "Survival curves are used more often in medicine and reliability engineering, CDFs in many other fields.\n",
    "\n",
    "One thing that is apparent -- from either curve -- is that glioblastoma is a serious diagnosis.\n",
    "The median survival time after diagnosis is less than 9 months, and only about 16% of patients survive more than two years.\n",
    "\n",
    "Please keep in mind that this curve lumps together people of different ages with different health conditions, diagnosed at different stages of disease over a period of about 16 years.\n",
    "Survival times depend on all of these factors, so this curve does not provide a prognosis for any specific patient.\n",
    "In particular, as treatment has gradually improved, the prognosis is better for someone with a more recent diagnosis.\n",
    "If you or someone you know is diagnosed with glioblastoma, you should get a prognosis from a doctor, based on specifics of the case, not from aggregated data in a book demonstrating basic statistical methods."
   ]
  },
  {
   "cell_type": "markdown",
   "metadata": {
    "tags": []
   },
   "source": [
    "As we did with light bulbs and pregnancy lengths, we can use this distribution to compute the average remaining survival time for patients at each time after diagnosis.\n",
    "The following figure shows the result."
   ]
  },
  {
   "cell_type": "code",
   "execution_count": 48,
   "metadata": {
    "tags": []
   },
   "outputs": [],
   "source": [
    "from utils import remaining_lifetimes_pmf\n",
    "\n",
    "np.random.seed(17)\n",
    "qs = np.linspace(0, 165, 101)\n",
    "rem_seq = []\n",
    "\n",
    "for i in range(101):\n",
    "    sample = brain.sample(frac=1, replace=True)\n",
    "    observed = sample[\"observed\"]\n",
    "    duration = sample[\"duration\"]\n",
    "    surv_km, surv_high, surv_low = km_fit(duration, observed)\n",
    "    rem = remaining_lifetimes_pmf(surv_km.make_pmf(), qs)\n",
    "    # rem.plot(color=\"gray\", alpha=0.01)\n",
    "    rem_seq.append(rem)"
   ]
  },
  {
   "cell_type": "code",
   "execution_count": 49,
   "metadata": {
    "tags": []
   },
   "outputs": [],
   "source": [
    "def gray_box(x, x_max=170):\n",
    "    \"\"\"Make a gray box that spans the y-axis.\n",
    "\n",
    "    x_max: location of the right bound\n",
    "    \"\"\"\n",
    "    plt.axvspan(x, x_max, color=\"gray\", alpha=0.1)\n",
    "    plt.xlim([-5, x_max])"
   ]
  },
  {
   "cell_type": "code",
   "execution_count": 50,
   "metadata": {
    "tags": []
   },
   "outputs": [
    {
     "data": {
      "image/png": "[encoded data removed]",
      "text/plain": [
       "<Figure size 450x225 with 1 Axes>"
      ]
     },
     "metadata": {},
     "output_type": "display_data"
    }
   ],
   "source": [
    "plot_percentiles(rem_seq)\n",
    "gray_box(125)\n",
    "for x in [14, 32, 60]:\n",
    "    plt.axvline(x, color=\"gray\", ls=\":\", alpha=0.5)\n",
    "\n",
    "decorate(\n",
    "    xlabel=\"Time since diagnosis (weeks)\",\n",
    "    ylabel=\"Average remaining lifetime\",\n",
    "    title=\"Average remaining lifetime for patients with glioblastoma\",\n",
    ")"
   ]
  },
  {
   "cell_type": "markdown",
   "metadata": {
    "tags": []
   },
   "source": [
    "At the time of diagnosis, the average survival time is about 14 months.\n",
    "That is certainly a bleak prognosis, but there is some good news to follow.\n",
    "If a patient survives the first 14 months, we expect them to survive another 18 months, on average.\n",
    "If they survive those 18 months, for a total of 32, we expect them to survive another 28 months.\n",
    "And if they survive those 28 months, for a total of 60 months (five years), we expect them to survive another 35 months (almost three years).\n",
    "The vertical lines indicate these milestones.\n",
    "It's like running a race where the finish line keeps moving, and the farther you go, the faster it retreats."
   ]
  },
  {
   "cell_type": "code",
   "execution_count": 51,
   "metadata": {
    "tags": []
   },
   "outputs": [
    {
     "data": {
      "text/plain": [
       "0     13.773990\n",
       "14    17.069424\n",
       "32    24.735119\n",
       "60    27.839032\n",
       "dtype: float64"
      ]
     },
     "execution_count": 51,
     "metadata": {},
     "output_type": "execute_result"
    }
   ],
   "source": [
    "qs = np.arange(0, 165)\n",
    "series = remaining_lifetimes_pmf(surv_km.make_pmf(), qs)\n",
    "series[[0, 14, 32, 60]]"
   ]
  },
  {
   "cell_type": "markdown",
   "metadata": {
    "tags": []
   },
   "source": [
    "If you hear that the average survival time after diagnosis is 14 months, you might imagine a Gaussian distribution where 14 months is the most common value and an equal number of patients live more or less than 14 months.\n",
    "But that would be a very misleading picture.\n",
    "\n",
    "To show how bad it would be, I chose a Gaussian distribution that matches the distribution of survival times as well as possible -- which is not very well -- and used it to compute average remaining survival times."
   ]
  },
  {
   "cell_type": "code",
   "execution_count": 52,
   "metadata": {
    "tags": []
   },
   "outputs": [
    {
     "data": {
      "image/png": "[encoded data removed]",
      "text/plain": [
       "<Figure size 450x225 with 1 Axes>"
      ]
     },
     "metadata": {},
     "output_type": "display_data"
    }
   ],
   "source": [
    "from utils import make_normal_model\n",
    "\n",
    "pmf_km = surv_km.make_pmf()\n",
    "pmf_normal = make_normal_model(pmf_km)\n",
    "\n",
    "pmf_km.plot(label='data')\n",
    "pmf_normal.plot(label='model')\n",
    "decorate(\n",
    "    xlabel=\"Time since diagnosis (weeks)\",\n",
    "    ylabel=\"PMF\",\n",
    "    title=\"The normal model does not fit the data\",\n",
    ")"
   ]
  },
  {
   "cell_type": "code",
   "execution_count": 53,
   "metadata": {
    "tags": []
   },
   "outputs": [
    {
     "data": {
      "text/plain": [
       "197.694724    0.972382\n",
       "198.708543    0.829894\n",
       "199.722362    0.630459\n",
       "200.736181    0.358620\n",
       "201.750000    0.000000\n",
       "dtype: float64"
      ]
     },
     "execution_count": 53,
     "metadata": {},
     "output_type": "execute_result"
    }
   ],
   "source": [
    "series = remaining_lifetimes_pmf(pmf_normal)\n",
    "series.tail()"
   ]
  },
  {
   "cell_type": "markdown",
   "metadata": {
    "tags": []
   },
   "source": [
    "As a result, the remaining lifetimes from the model don't resemble the remaining lifetimes from the data."
   ]
  },
  {
   "cell_type": "code",
   "execution_count": 54,
   "metadata": {
    "tags": []
   },
   "outputs": [
    {
     "data": {
      "image/png": "[encoded data removed]",
      "text/plain": [
       "<Figure size 450x225 with 1 Axes>"
      ]
     },
     "metadata": {},
     "output_type": "display_data"
    }
   ],
   "source": [
    "plot_percentiles(rem_seq, label=\"Actual data\")\n",
    "series.plot(color=\"C4\", ls=\":\", label=\"Gaussian model\")\n",
    "\n",
    "gray_box(125)\n",
    "decorate(\n",
    "    xlabel=\"Time since diagnosis (weeks)\",\n",
    "    ylabel=\"Average remaining time\",\n",
    "    title=\"Average remaining time compared to Gaussian model\",\n",
    "    loc=\"upper right\",\n",
    ")"
   ]
  },
  {
   "cell_type": "markdown",
   "metadata": {
    "tags": []
   },
   "source": [
    "With the Gaussian model, the average remaining survival time starts around 20 months,\n",
    "drops quickly at first, and levels off around 5 months.\n",
    "So it behaves nothing like the actual averages.\n",
    "\n",
    "On the other hand, if your mental model of the distribution is lognormal, you would get it about right.\n",
    "To demonstrate, I chose a lognormal distribution that fits the actual distribution of survival times and used it to compute average remaining lifetimes."
   ]
  },
  {
   "cell_type": "markdown",
   "metadata": {},
   "source": [
    "Here's the function that fits the distribution."
   ]
  },
  {
   "cell_type": "code",
   "execution_count": 55,
   "metadata": {
    "tags": []
   },
   "outputs": [],
   "source": [
    "from scipy.optimize import least_squares\n",
    "\n",
    "\n",
    "def fit_lognormal(surv, xs=None):\n",
    "    \"\"\"Fit a lognormal distribution to a survival function.\n",
    "    \n",
    "    surv: Surv object\n",
    "    xs: places to evaluate the survival function\n",
    "    \n",
    "    returns: Surv\n",
    "    \"\"\"\n",
    "    def error_func(params):\n",
    "        mu, sigma = params\n",
    "        # just fit over the range from 0 to 120 months\n",
    "        xs = np.logspace(0, np.log10(120))\n",
    "\n",
    "        ps = norm.sf(np.log(xs), mu, sigma)\n",
    "        error = ps - surv_km(xs)\n",
    "        return error\n",
    "\n",
    "    params = surv.mean(), surv.std()\n",
    "    res = least_squares(error_func, x0=params, xtol=1e-3)\n",
    "    assert res.success\n",
    "    mu, sigma = res.x\n",
    "\n",
    "    xs = surv.index if xs is None else xs\n",
    "    ps = norm.sf(np.log(xs), mu, sigma)\n",
    "    return Surv(ps, xs)"
   ]
  },
  {
   "cell_type": "code",
   "execution_count": 56,
   "metadata": {
    "tags": []
   },
   "outputs": [],
   "source": [
    "surv_lognormal = fit_lognormal(surv_km)\n",
    "pmf_lognormal = surv_lognormal.make_pmf()"
   ]
  },
  {
   "cell_type": "code",
   "execution_count": 57,
   "metadata": {
    "tags": []
   },
   "outputs": [],
   "source": [
    "series = remaining_lifetimes_pmf(pmf_lognormal)"
   ]
  },
  {
   "cell_type": "markdown",
   "metadata": {
    "tags": []
   },
   "source": [
    "The following figure shows the result."
   ]
  },
  {
   "cell_type": "code",
   "execution_count": 58,
   "metadata": {
    "tags": []
   },
   "outputs": [
    {
     "data": {
      "image/png": "[encoded data removed]",
      "text/plain": [
       "<Figure size 450x225 with 1 Axes>"
      ]
     },
     "metadata": {},
     "output_type": "display_data"
    }
   ],
   "source": [
    "plot_percentiles(rem_seq, label=\"Actual data\")\n",
    "series.plot(color=\"C4\", ls=\":\", label=\"Lognormal model\")\n",
    "gray_box(125)\n",
    "\n",
    "decorate(\n",
    "    xlabel=\"Time since diagnosis (weeks)\",\n",
    "    ylabel=\"Average remaining time\",\n",
    "    title=\"Average remaining time compared to lognormal model\",\n",
    ")\n",
    "plt.legend(loc=\"lower left\")\n",
    "None"
   ]
  },
  {
   "cell_type": "markdown",
   "metadata": {
    "tags": []
   },
   "source": [
    "During the first 24 months, the model is a little too optimistic, and after 120 months it is much too optimistic.\n",
    "But the lognormal model gets the shape of the curve right: if your mental model of the distribution is lognormal, you would have a reasonably accurate understanding of the situation."
   ]
  },
  {
   "cell_type": "markdown",
   "metadata": {
    "tags": []
   },
   "source": [
    "## Life Expectancy At Birth\n",
    "\n",
    "In 2012, a team of demographers at the University of Southern California estimated life expectancy for people born in Sweden in the early 1800s and 1900s.\n",
    "They chose Sweden because it \"has the deepest historical record of high-quality [demographic] data.\"\n",
    "\n",
    "For ages from 0 to 91 years, they estimated the mortality rate, which is the fraction of people at each age who die."
   ]
  },
  {
   "cell_type": "markdown",
   "metadata": {},
   "source": [
    "I used an online graph digitizer to get the data from the figure in their paper and store it in a CSV file."
   ]
  },
  {
   "cell_type": "code",
   "execution_count": 59,
   "metadata": {},
   "outputs": [],
   "source": [
    "filename = \"mortality_rates_beltran2012.csv\"\n",
    "download(DATA_PATH + filename)"
   ]
  },
  {
   "cell_type": "code",
   "execution_count": 60,
   "metadata": {
    "tags": []
   },
   "outputs": [
    {
     "data": {
      "text/html": [
       "<div>\n",
       "<style scoped>\n",
       "    .dataframe tbody tr th:only-of-type {\n",
       "        vertical-align: middle;\n",
       "    }\n",
       "\n",
       "    .dataframe tbody tr th {\n",
       "        vertical-align: top;\n",
       "    }\n",
       "\n",
       "    .dataframe thead tr th {\n",
       "        text-align: left;\n",
       "    }\n",
       "</style>\n",
       "<table border=\"1\" class=\"dataframe\">\n",
       "  <thead>\n",
       "    <tr>\n",
       "      <th></th>\n",
       "      <th colspan=\"2\" halign=\"left\">1905</th>\n",
       "      <th colspan=\"2\" halign=\"left\">1800</th>\n",
       "    </tr>\n",
       "    <tr>\n",
       "      <th></th>\n",
       "      <th>X</th>\n",
       "      <th>Y</th>\n",
       "      <th>X</th>\n",
       "      <th>Y</th>\n",
       "    </tr>\n",
       "  </thead>\n",
       "  <tbody>\n",
       "    <tr>\n",
       "      <th>0</th>\n",
       "      <td>0.056633</td>\n",
       "      <td>-2.685744</td>\n",
       "      <td>0.066515</td>\n",
       "      <td>-1.541222</td>\n",
       "    </tr>\n",
       "    <tr>\n",
       "      <th>1</th>\n",
       "      <td>0.175223</td>\n",
       "      <td>-2.866213</td>\n",
       "      <td>0.224635</td>\n",
       "      <td>-1.692583</td>\n",
       "    </tr>\n",
       "    <tr>\n",
       "      <th>2</th>\n",
       "      <td>0.293812</td>\n",
       "      <td>-3.043189</td>\n",
       "      <td>0.362990</td>\n",
       "      <td>-1.890516</td>\n",
       "    </tr>\n",
       "    <tr>\n",
       "      <th>3</th>\n",
       "      <td>0.412402</td>\n",
       "      <td>-3.216672</td>\n",
       "      <td>0.481580</td>\n",
       "      <td>-2.052938</td>\n",
       "    </tr>\n",
       "    <tr>\n",
       "      <th>4</th>\n",
       "      <td>0.530992</td>\n",
       "      <td>-3.390155</td>\n",
       "      <td>0.623887</td>\n",
       "      <td>-2.239811</td>\n",
       "    </tr>\n",
       "  </tbody>\n",
       "</table>\n",
       "</div>"
      ],
      "text/plain": [
       "       1905                1800          \n",
       "          X         Y         X         Y\n",
       "0  0.056633 -2.685744  0.066515 -1.541222\n",
       "1  0.175223 -2.866213  0.224635 -1.692583\n",
       "2  0.293812 -3.043189  0.362990 -1.890516\n",
       "3  0.412402 -3.216672  0.481580 -2.052938\n",
       "4  0.530992 -3.390155  0.623887 -2.239811"
      ]
     },
     "execution_count": 60,
     "metadata": {},
     "output_type": "execute_result"
    }
   ],
   "source": [
    "mortality = pd.read_csv(filename, header=[0, 1])\n",
    "mortality.head()"
   ]
  },
  {
   "cell_type": "code",
   "execution_count": 61,
   "metadata": {
    "tags": []
   },
   "outputs": [],
   "source": [
    "def make_series(x, y):\n",
    "    \"\"\"Make a pandas Series.\n",
    "    \n",
    "    x: values for the index\n",
    "    y: values of the series\n",
    "    \n",
    "    returns: Series\n",
    "    \"\"\"\n",
    "    return pd.Series(y, x).dropna()"
   ]
  },
  {
   "cell_type": "code",
   "execution_count": 62,
   "metadata": {
    "tags": []
   },
   "outputs": [
    {
     "data": {
      "text/plain": [
       "(1800, X)\n",
       "0.066515   -1.541222\n",
       "0.224635   -1.692583\n",
       "0.362990   -1.890516\n",
       "0.481580   -2.052938\n",
       "0.623887   -2.239811\n",
       "dtype: float64"
      ]
     },
     "execution_count": 62,
     "metadata": {},
     "output_type": "execute_result"
    }
   ],
   "source": [
    "mort1800 = make_series(mortality[\"1800\", \"X\"], mortality[\"1800\", \"Y\"].values)\n",
    "mort1800.head()"
   ]
  },
  {
   "cell_type": "code",
   "execution_count": 63,
   "metadata": {
    "tags": []
   },
   "outputs": [
    {
     "data": {
      "text/plain": [
       "(1905, X)\n",
       "0.056633   -2.685744\n",
       "0.175223   -2.866213\n",
       "0.293812   -3.043189\n",
       "0.412402   -3.216672\n",
       "0.530992   -3.390155\n",
       "dtype: float64"
      ]
     },
     "execution_count": 63,
     "metadata": {},
     "output_type": "execute_result"
    }
   ],
   "source": [
    "mort1905 = make_series(mortality[\"1905\", \"X\"], mortality[\"1905\", \"Y\"].values)\n",
    "mort1905.head()"
   ]
  },
  {
   "cell_type": "code",
   "execution_count": 64,
   "metadata": {
    "tags": []
   },
   "outputs": [
    {
     "data": {
      "text/plain": [
       "(0.21411938757305218, 0.06817045483264002)"
      ]
     },
     "execution_count": 64,
     "metadata": {},
     "output_type": "execute_result"
    }
   ],
   "source": [
    "np.exp(mort1800.iloc[0]), np.exp(mort1905.iloc[0])"
   ]
  },
  {
   "cell_type": "markdown",
   "metadata": {},
   "source": [
    "The following function interpolates the data from the figure and puts it in a Hazard function."
   ]
  },
  {
   "cell_type": "code",
   "execution_count": 65,
   "metadata": {
    "tags": []
   },
   "outputs": [],
   "source": [
    "from scipy.interpolate import interp1d\n",
    "from empiricaldist import Hazard\n",
    "\n",
    "\n",
    "def make_hazard(series):\n",
    "    \"\"\"Make a Hazard function by interpolating a Series.\n",
    "    \n",
    "    series: Series\n",
    "    \n",
    "    returns: Hazard\n",
    "    \"\"\"\n",
    "    interp = interp1d(series.index, series.values, fill_value=\"extrapolate\")\n",
    "    xs = np.arange(0, 108)\n",
    "    ys = np.exp(interp(xs))\n",
    "    return Hazard(ys, xs)"
   ]
  },
  {
   "cell_type": "code",
   "execution_count": 66,
   "metadata": {
    "tags": []
   },
   "outputs": [],
   "source": [
    "haz1800 = make_hazard(mort1800)\n",
    "haz1905 = make_hazard(mort1905)"
   ]
  },
  {
   "cell_type": "markdown",
   "metadata": {},
   "source": [
    "\n",
    "The following figure shows the results for two cohorts: people born between 1800 and 1810, and people born between 1905 and 1915."
   ]
  },
  {
   "cell_type": "code",
   "execution_count": 67,
   "metadata": {
    "tags": []
   },
   "outputs": [
    {
     "data": {
      "image/png": "[encoded data removed]",
      "text/plain": [
       "<Figure size 450x225 with 1 Axes>"
      ]
     },
     "metadata": {},
     "output_type": "display_data"
    }
   ],
   "source": [
    "haz1800[:91].plot(label=\"Born 1800–1810\", ls=\"--\")\n",
    "haz1905[:91].plot(label=\"Born 1905–1915\")\n",
    "\n",
    "decorate(\n",
    "    xlabel=\"Age\", ylabel=\"Mortality rate\", title=\"Historic mortality rates in Sweden\"\n",
    ")"
   ]
  },
  {
   "cell_type": "markdown",
   "metadata": {
    "tags": []
   },
   "source": [
    "The notable feature is that mortality rates were lower for the later cohort at every age."
   ]
  },
  {
   "cell_type": "code",
   "execution_count": 68,
   "metadata": {
    "tags": []
   },
   "outputs": [
    {
     "data": {
      "text/plain": [
       "(0.2281961996457684, 0.07430619990025686)"
      ]
     },
     "execution_count": 68,
     "metadata": {},
     "output_type": "execute_result"
    }
   ],
   "source": [
    "haz1800[0], haz1905[0]"
   ]
  },
  {
   "cell_type": "code",
   "execution_count": 69,
   "metadata": {
    "tags": []
   },
   "outputs": [
    {
     "data": {
      "text/plain": [
       "(0.004624153294009557, 14, 0.0019040788545011136)"
      ]
     },
     "execution_count": 69,
     "metadata": {},
     "output_type": "execute_result"
    }
   ],
   "source": [
    "haz1800.min(), haz1800.idxmin(), haz1905[14]"
   ]
  },
  {
   "cell_type": "code",
   "execution_count": 70,
   "metadata": {
    "tags": []
   },
   "outputs": [
    {
     "data": {
      "text/plain": [
       "(0.13156208289057392, 0.06441158462898641)"
      ]
     },
     "execution_count": 70,
     "metadata": {},
     "output_type": "execute_result"
    }
   ],
   "source": [
    "haz1800[80], haz1905[80]"
   ]
  },
  {
   "cell_type": "code",
   "execution_count": 71,
   "metadata": {
    "tags": []
   },
   "outputs": [
    {
     "data": {
      "text/plain": [
       "0.9999999998644409"
      ]
     },
     "execution_count": 71,
     "metadata": {},
     "output_type": "execute_result"
    }
   ],
   "source": [
    "pmf1800 = haz1800.make_pmf()\n",
    "pmf1800.normalize()"
   ]
  },
  {
   "cell_type": "code",
   "execution_count": 72,
   "metadata": {
    "tags": []
   },
   "outputs": [
    {
     "data": {
      "text/plain": [
       "0.9999711879585407"
      ]
     },
     "execution_count": 72,
     "metadata": {},
     "output_type": "execute_result"
    }
   ],
   "source": [
    "pmf1905 = haz1905.make_pmf()\n",
    "pmf1905.normalize()"
   ]
  },
  {
   "cell_type": "code",
   "execution_count": 73,
   "metadata": {
    "tags": []
   },
   "outputs": [
    {
     "data": {
      "text/plain": [
       "(36.473535530889244, 65.67277539967878)"
      ]
     },
     "execution_count": 73,
     "metadata": {},
     "output_type": "execute_result"
    }
   ],
   "source": [
    "pmf1800.mean(), pmf1905.mean()"
   ]
  },
  {
   "cell_type": "markdown",
   "metadata": {
    "tags": []
   },
   "source": [
    "The following figure shows life expectancy as a function of age for people born in Sweden around 1800 and 1905."
   ]
  },
  {
   "cell_type": "code",
   "execution_count": 74,
   "metadata": {
    "tags": []
   },
   "outputs": [
    {
     "data": {
      "image/png": "[encoded data removed]",
      "text/plain": [
       "<Figure size 450x225 with 1 Axes>"
      ]
     },
     "metadata": {},
     "output_type": "display_data"
    }
   ],
   "source": [
    "def draw_lines(pmf, series):\n",
    "    x = pmf.mean()\n",
    "    y = series[int(round(x))]\n",
    "    plt.plot([0, x, x], [y, y, 0], \":\", color=\"gray\", alpha=0.5)\n",
    "\n",
    "\n",
    "qs = np.arange(0, 91)\n",
    "series1905 = remaining_lifetimes_pmf(pmf1905, qs)\n",
    "draw_lines(pmf1905, series1905)\n",
    "series1905.plot(ls=\"--\", color=\"C0\", label=\"Sweden 1905\")\n",
    "\n",
    "series1800 = remaining_lifetimes_pmf(pmf1800, qs)\n",
    "draw_lines(pmf1800, series1800)\n",
    "series1800.plot(ls=\":\", color=\"C0\", label=\"Sweden 1800\")\n",
    "\n",
    "decorate(\n",
    "    xlabel=\"Age\", ylabel=\"Average remaining lifetime\", title=\"Remaining lifetime vs age\"\n",
    ")"
   ]
  },
  {
   "cell_type": "markdown",
   "metadata": {
    "tags": []
   },
   "source": [
    "In both cohorts, used was better than new, at least for the first few years of life."
   ]
  },
  {
   "cell_type": "code",
   "execution_count": 75,
   "metadata": {
    "tags": []
   },
   "outputs": [
    {
     "data": {
      "text/plain": [
       "(36.473535530889244, 5, 49.9171982587444)"
      ]
     },
     "execution_count": 75,
     "metadata": {},
     "output_type": "execute_result"
    }
   ],
   "source": [
    "series1800[0], series1800.idxmax(), series1800.max()"
   ]
  },
  {
   "cell_type": "code",
   "execution_count": 76,
   "metadata": {
    "tags": []
   },
   "outputs": [
    {
     "data": {
      "text/plain": [
       "(65.67277539967881, 2, 70.18860681489375)"
      ]
     },
     "execution_count": 76,
     "metadata": {},
     "output_type": "execute_result"
    }
   ],
   "source": [
    "series1905[0], series1905.idxmax(), series1905.max()"
   ]
  },
  {
   "cell_type": "code",
   "execution_count": 77,
   "metadata": {
    "tags": []
   },
   "outputs": [
    {
     "data": {
      "text/plain": [
       "(36.473535530889244, 29.241600197695945, 11.018435234417836)"
      ]
     },
     "execution_count": 77,
     "metadata": {},
     "output_type": "execute_result"
    }
   ],
   "source": [
    "series1800[0], series1800[36], series1800[65]"
   ]
  },
  {
   "cell_type": "code",
   "execution_count": 78,
   "metadata": {
    "tags": []
   },
   "outputs": [
    {
     "data": {
      "text/plain": [
       "68.80456362586426"
      ]
     },
     "execution_count": 78,
     "metadata": {},
     "output_type": "execute_result"
    }
   ],
   "source": [
    "series1905[5]"
   ]
  },
  {
   "cell_type": "code",
   "execution_count": 79,
   "metadata": {
    "tags": []
   },
   "outputs": [
    {
     "data": {
      "text/plain": [
       "(65.67277539967881, 16.058634133594552, 6.471530454841982)"
      ]
     },
     "execution_count": 79,
     "metadata": {},
     "output_type": "execute_result"
    }
   ],
   "source": [
    "series1905[0], series1905[66], series1905[82]"
   ]
  },
  {
   "cell_type": "markdown",
   "metadata": {
    "tags": []
   },
   "source": [
    "## Child mortality\n",
    "\n",
    "The following figure shows the percentage of children who die before age 5 for four geographical regions, from 1900 to 2019.\n",
    "These data were combined from several sources by Gapminder, a foundation based in Sweden that \"promotes sustainable global development [...] by increased use and understanding of statistics.\"\n",
    "\n",
    "Documentation of the data is at <https://www.gapminder.org/data/documentation/gd005>\n",
    "\n",
    "The data is in [this online spreadsheet](https://docs.google.com/spreadsheets/d/1Av7eps_zEK73-AdbFYEmtTrwFKlfruBYXdrnXAOFVpM/edit#gid=501532268), which I downloaded in August 2022."
   ]
  },
  {
   "cell_type": "code",
   "execution_count": 80,
   "metadata": {},
   "outputs": [],
   "source": [
    "filename = \"GM-ChildMortality-Dataset-v11.xlsx\"\n",
    "download(DATA_PATH + filename)"
   ]
  },
  {
   "cell_type": "code",
   "execution_count": 81,
   "metadata": {
    "tags": []
   },
   "outputs": [
    {
     "data": {
      "text/html": [
       "<div>\n",
       "<style scoped>\n",
       "    .dataframe tbody tr th:only-of-type {\n",
       "        vertical-align: middle;\n",
       "    }\n",
       "\n",
       "    .dataframe tbody tr th {\n",
       "        vertical-align: top;\n",
       "    }\n",
       "\n",
       "    .dataframe thead th {\n",
       "        text-align: right;\n",
       "    }\n",
       "</style>\n",
       "<table border=\"1\" class=\"dataframe\">\n",
       "  <thead>\n",
       "    <tr style=\"text-align: right;\">\n",
       "      <th></th>\n",
       "      <th>geo</th>\n",
       "      <th>name</th>\n",
       "      <th>time</th>\n",
       "      <th>Child mortality</th>\n",
       "    </tr>\n",
       "  </thead>\n",
       "  <tbody>\n",
       "    <tr>\n",
       "      <th>1199</th>\n",
       "      <td>americas</td>\n",
       "      <td>The Americas</td>\n",
       "      <td>2096</td>\n",
       "      <td>2.70</td>\n",
       "    </tr>\n",
       "    <tr>\n",
       "      <th>1200</th>\n",
       "      <td>americas</td>\n",
       "      <td>The Americas</td>\n",
       "      <td>2097</td>\n",
       "      <td>2.67</td>\n",
       "    </tr>\n",
       "    <tr>\n",
       "      <th>1201</th>\n",
       "      <td>americas</td>\n",
       "      <td>The Americas</td>\n",
       "      <td>2098</td>\n",
       "      <td>2.63</td>\n",
       "    </tr>\n",
       "    <tr>\n",
       "      <th>1202</th>\n",
       "      <td>americas</td>\n",
       "      <td>The Americas</td>\n",
       "      <td>2099</td>\n",
       "      <td>2.60</td>\n",
       "    </tr>\n",
       "    <tr>\n",
       "      <th>1203</th>\n",
       "      <td>americas</td>\n",
       "      <td>The Americas</td>\n",
       "      <td>2100</td>\n",
       "      <td>2.59</td>\n",
       "    </tr>\n",
       "  </tbody>\n",
       "</table>\n",
       "</div>"
      ],
      "text/plain": [
       "           geo          name  time  Child mortality\n",
       "1199  americas  The Americas  2096             2.70\n",
       "1200  americas  The Americas  2097             2.67\n",
       "1201  americas  The Americas  2098             2.63\n",
       "1202  americas  The Americas  2099             2.60\n",
       "1203  americas  The Americas  2100             2.59"
      ]
     },
     "execution_count": 81,
     "metadata": {},
     "output_type": "execute_result"
    }
   ],
   "source": [
    "gm = pd.read_excel(filename, sheet_name=\"data-for-regions-by-year\")\n",
    "gm.tail()"
   ]
  },
  {
   "cell_type": "code",
   "execution_count": 82,
   "metadata": {
    "tags": []
   },
   "outputs": [
    {
     "data": {
      "image/png": "[encoded data removed]",
      "text/plain": [
       "<Figure size 450x225 with 1 Axes>"
      ]
     },
     "metadata": {},
     "output_type": "display_data"
    }
   ],
   "source": [
    "grouped = gm.groupby(\"geo\")\n",
    "line_styles = {\"africa\": \":\", \"asia\": \"-\", \"americas\": \"--\", \"europe\": \"-.\"}\n",
    "\n",
    "for x in [1918, 1942, 1960]:\n",
    "    plt.axvline(x, color=\"gray\", alpha=0.2)\n",
    "\n",
    "for name in [\"africa\", \"asia\", \"americas\", \"europe\"]:\n",
    "    group = grouped.get_group(name)\n",
    "    series = pd.Series(group[\"Child mortality\"].values / 10, group[\"time\"])\n",
    "    series.loc[1900:2019].plot(label=name.title(), ls=line_styles[name])\n",
    "\n",
    "decorate(\n",
    "    xlabel=\"Year\",\n",
    "    ylabel=\"Percent who die before age 5\",\n",
    "    title=\"Child mortality by region\",\n",
    ")"
   ]
  },
  {
   "cell_type": "markdown",
   "metadata": {
    "tags": []
   },
   "source": [
    "In every region, child mortality has decreased consistently and substantially."
   ]
  },
  {
   "cell_type": "markdown",
   "metadata": {
    "tags": []
   },
   "source": [
    "I collected recent mortality data from the [Global Health Observatory](https://apps.who.int/gho/data/node.main.LIFECOUNTRY?lang=en) of the World Health Organization (WHO).\n",
    "For people born in 2019, we don't know what their future lifetimes will be, but we can estimate it if we assume that the mortality rate in each age group will not change over their lifetimes."
   ]
  },
  {
   "cell_type": "code",
   "execution_count": 83,
   "metadata": {
    "tags": []
   },
   "outputs": [],
   "source": [
    "def read_hazard(filename):\n",
    "    \"\"\"Read age-specific death rates and make a Hazard object.\n",
    "\n",
    "    filename: string\n",
    "\n",
    "    returns: Hazard\n",
    "    \"\"\"\n",
    "    df = pd.read_csv(filename, header=[1])\n",
    "\n",
    "    query = 'Indicator == \"nMx - age-specific death rate between ages x and x+n\"'\n",
    "    nmx = df.query(query)\n",
    "\n",
    "    index = nmx[\"Age Group\"].values\n",
    "    ages = np.arange(-5, 90, 5)\n",
    "    age_series = pd.Series(ages, index)\n",
    "    age_series.iloc[[0, 1]] = [0, 1]\n",
    "\n",
    "    rate = nmx[\"Both sexes\"]\n",
    "    rate.index = age_series.values\n",
    "    hazard = rate.reindex(np.arange(111)).fillna(method=\"ffill\")\n",
    "    return Hazard(hazard)"
   ]
  },
  {
   "cell_type": "code",
   "execution_count": 84,
   "metadata": {},
   "outputs": [],
   "source": [
    "download(DATA_PATH + \"life_table_sweden_2019.csv\")\n",
    "download(DATA_PATH + \"life_table_nigeria_2019.csv\")"
   ]
  },
  {
   "cell_type": "code",
   "execution_count": 85,
   "metadata": {
    "tags": []
   },
   "outputs": [
    {
     "data": {
      "text/plain": [
       "81.6599453119953"
      ]
     },
     "execution_count": 85,
     "metadata": {},
     "output_type": "execute_result"
    }
   ],
   "source": [
    "filename = \"life_table_sweden_2019.csv\"\n",
    "hazard = read_hazard(filename)\n",
    "\n",
    "pmf_swe = hazard.make_pmf()\n",
    "pmf_swe.normalize()\n",
    "pmf_swe.mean()"
   ]
  },
  {
   "cell_type": "code",
   "execution_count": 86,
   "metadata": {
    "tags": []
   },
   "outputs": [
    {
     "data": {
      "text/html": [
       "<div>\n",
       "<style scoped>\n",
       "    .dataframe tbody tr th:only-of-type {\n",
       "        vertical-align: middle;\n",
       "    }\n",
       "\n",
       "    .dataframe tbody tr th {\n",
       "        vertical-align: top;\n",
       "    }\n",
       "\n",
       "    .dataframe thead th {\n",
       "        text-align: right;\n",
       "    }\n",
       "</style>\n",
       "<table border=\"1\" class=\"dataframe\">\n",
       "  <thead>\n",
       "    <tr style=\"text-align: right;\">\n",
       "      <th></th>\n",
       "      <th>probs</th>\n",
       "    </tr>\n",
       "  </thead>\n",
       "  <tbody>\n",
       "    <tr>\n",
       "      <th>0</th>\n",
       "      <td>0.077958</td>\n",
       "    </tr>\n",
       "    <tr>\n",
       "      <th>1</th>\n",
       "      <td>0.011613</td>\n",
       "    </tr>\n",
       "    <tr>\n",
       "      <th>2</th>\n",
       "      <td>0.011613</td>\n",
       "    </tr>\n",
       "  </tbody>\n",
       "</table>\n",
       "</div>"
      ],
      "text/plain": [
       "0    0.077958\n",
       "1    0.011613\n",
       "2    0.011613\n",
       "Name: , dtype: float64"
      ]
     },
     "execution_count": 86,
     "metadata": {},
     "output_type": "execute_result"
    }
   ],
   "source": [
    "filename = \"../data/life_table_nigeria_2019.csv\"\n",
    "hazard = read_hazard(filename)\n",
    "hazard.head()"
   ]
  },
  {
   "cell_type": "code",
   "execution_count": 87,
   "metadata": {
    "tags": []
   },
   "outputs": [
    {
     "data": {
      "text/plain": [
       "61.59620754538476"
      ]
     },
     "execution_count": 87,
     "metadata": {},
     "output_type": "execute_result"
    }
   ],
   "source": [
    "pmf_nga = hazard.make_pmf()\n",
    "pmf_nga.normalize()\n",
    "pmf_nga.mean()"
   ]
  },
  {
   "cell_type": "markdown",
   "metadata": {
    "tags": []
   },
   "source": [
    "Based on that simplification, the following figure shows average remaining lifetime as a function of age for Sweden and Nigeria in 2019, compared to Sweden in 1905."
   ]
  },
  {
   "cell_type": "code",
   "execution_count": 88,
   "metadata": {
    "tags": []
   },
   "outputs": [
    {
     "data": {
      "image/png": "[encoded data removed]",
      "text/plain": [
       "<Figure size 450x225 with 1 Axes>"
      ]
     },
     "metadata": {},
     "output_type": "display_data"
    }
   ],
   "source": [
    "rem_swe = remaining_lifetimes_pmf(pmf_swe)\n",
    "rem_nga = remaining_lifetimes_pmf(pmf_nga)\n",
    "\n",
    "rem_swe[:91].plot(label=\"Sweden 2019\", ls=\"-\")\n",
    "series1905.plot(ls=\"--\", color=\"C0\", label=\"Sweden 1905\")\n",
    "rem_nga[:91].plot(ls=\"-.\", label=\"Nigeria 2019\", color=\"C2\")\n",
    "\n",
    "decorate(\n",
    "    xlabel=\"Age\",\n",
    "    ylabel=\"Average remaining lifetime\",\n",
    "    title=\"Average remaining lifetime vs age\",\n",
    ")"
   ]
  },
  {
   "cell_type": "code",
   "execution_count": 89,
   "metadata": {
    "tags": []
   },
   "outputs": [
    {
     "data": {
      "text/plain": [
       "0.000000    61.596208\n",
       "0.552764    66.256747\n",
       "1.105528    66.478013\n",
       "1.658291    65.925249\n",
       "2.211055    66.143866\n",
       "dtype: float64"
      ]
     },
     "execution_count": 89,
     "metadata": {},
     "output_type": "execute_result"
    }
   ],
   "source": [
    "rem_nga.head()"
   ]
  },
  {
   "cell_type": "markdown",
   "metadata": {
    "tags": []
   },
   "source": [
    "## The Immortal Swede\n",
    "\n",
    "Going back to the data from Sweden, the following figure shows the mortality rate for each age group, updated every ten years from 2000 to 2019."
   ]
  },
  {
   "cell_type": "code",
   "execution_count": 90,
   "metadata": {},
   "outputs": [],
   "source": [
    "download(DATA_PATH + \"life_table_sweden.csv\")"
   ]
  },
  {
   "cell_type": "code",
   "execution_count": 91,
   "metadata": {
    "tags": []
   },
   "outputs": [
    {
     "data": {
      "text/html": [
       "<div>\n",
       "<style scoped>\n",
       "    .dataframe tbody tr th:only-of-type {\n",
       "        vertical-align: middle;\n",
       "    }\n",
       "\n",
       "    .dataframe tbody tr th {\n",
       "        vertical-align: top;\n",
       "    }\n",
       "\n",
       "    .dataframe thead th {\n",
       "        text-align: right;\n",
       "    }\n",
       "</style>\n",
       "<table border=\"1\" class=\"dataframe\">\n",
       "  <thead>\n",
       "    <tr style=\"text-align: right;\">\n",
       "      <th></th>\n",
       "      <th>Indicator</th>\n",
       "      <th>Age Group</th>\n",
       "      <th>2019</th>\n",
       "      <th>2015</th>\n",
       "      <th>2010</th>\n",
       "      <th>2005</th>\n",
       "      <th>2000</th>\n",
       "    </tr>\n",
       "  </thead>\n",
       "  <tbody>\n",
       "    <tr>\n",
       "      <th>0</th>\n",
       "      <td>nMx - age-specific death rate between ages x a...</td>\n",
       "      <td>&lt;1 year</td>\n",
       "      <td>0.002042</td>\n",
       "      <td>0.002452</td>\n",
       "      <td>0.002579</td>\n",
       "      <td>0.002448</td>\n",
       "      <td>0.003451</td>\n",
       "    </tr>\n",
       "    <tr>\n",
       "      <th>1</th>\n",
       "      <td>nMx - age-specific death rate between ages x a...</td>\n",
       "      <td>1-4 years</td>\n",
       "      <td>0.000121</td>\n",
       "      <td>0.000127</td>\n",
       "      <td>0.000150</td>\n",
       "      <td>0.000211</td>\n",
       "      <td>0.000123</td>\n",
       "    </tr>\n",
       "    <tr>\n",
       "      <th>2</th>\n",
       "      <td>nMx - age-specific death rate between ages x a...</td>\n",
       "      <td>5-9 years</td>\n",
       "      <td>0.000061</td>\n",
       "      <td>0.000068</td>\n",
       "      <td>0.000063</td>\n",
       "      <td>0.000102</td>\n",
       "      <td>0.000097</td>\n",
       "    </tr>\n",
       "    <tr>\n",
       "      <th>3</th>\n",
       "      <td>nMx - age-specific death rate between ages x a...</td>\n",
       "      <td>10-14 years</td>\n",
       "      <td>0.000081</td>\n",
       "      <td>0.000110</td>\n",
       "      <td>0.000090</td>\n",
       "      <td>0.000101</td>\n",
       "      <td>0.000134</td>\n",
       "    </tr>\n",
       "    <tr>\n",
       "      <th>4</th>\n",
       "      <td>nMx - age-specific death rate between ages x a...</td>\n",
       "      <td>15-19  years</td>\n",
       "      <td>0.000217</td>\n",
       "      <td>0.000230</td>\n",
       "      <td>0.000271</td>\n",
       "      <td>0.000262</td>\n",
       "      <td>0.000355</td>\n",
       "    </tr>\n",
       "  </tbody>\n",
       "</table>\n",
       "</div>"
      ],
      "text/plain": [
       "                                           Indicator     Age Group      2019  \\\n",
       "0  nMx - age-specific death rate between ages x a...       <1 year  0.002042   \n",
       "1  nMx - age-specific death rate between ages x a...     1-4 years  0.000121   \n",
       "2  nMx - age-specific death rate between ages x a...     5-9 years  0.000061   \n",
       "3  nMx - age-specific death rate between ages x a...   10-14 years  0.000081   \n",
       "4  nMx - age-specific death rate between ages x a...  15-19  years  0.000217   \n",
       "\n",
       "       2015      2010      2005      2000  \n",
       "0  0.002452  0.002579  0.002448  0.003451  \n",
       "1  0.000127  0.000150  0.000211  0.000123  \n",
       "2  0.000068  0.000063  0.000102  0.000097  \n",
       "3  0.000110  0.000090  0.000101  0.000134  \n",
       "4  0.000230  0.000271  0.000262  0.000355  "
      ]
     },
     "execution_count": 91,
     "metadata": {},
     "output_type": "execute_result"
    }
   ],
   "source": [
    "columns = [\"Indicator\", \"Age Group\", 2019, 2015, 2010, 2005, 2000]\n",
    "df = pd.read_csv(\"life_table_sweden.csv\", header=[1])\n",
    "df.columns = columns\n",
    "df.head()"
   ]
  },
  {
   "cell_type": "code",
   "execution_count": 92,
   "metadata": {
    "tags": []
   },
   "outputs": [
    {
     "data": {
      "text/plain": [
       "<1 year          0\n",
       "1-4 years        1\n",
       "5-9 years        5\n",
       "10-14 years     10\n",
       "15-19  years    15\n",
       "20-24 years     20\n",
       "25-29 years     25\n",
       "30-34 years     30\n",
       "35-39 years     35\n",
       "40-44 years     40\n",
       "45-49 years     45\n",
       "50-54 years     50\n",
       "55-59 years     55\n",
       "60-64 years     60\n",
       "65-69 years     65\n",
       "70-74 years     70\n",
       "75-79 years     75\n",
       "80-84 years     80\n",
       "85+ years       85\n",
       "dtype: int64"
      ]
     },
     "execution_count": 92,
     "metadata": {},
     "output_type": "execute_result"
    }
   ],
   "source": [
    "index = df[\"Age Group\"].values\n",
    "ages = np.arange(-5, 90, 5)\n",
    "age_series = pd.Series(ages, index)\n",
    "age_series.iloc[[0, 1]] = [0, 1]\n",
    "age_series"
   ]
  },
  {
   "cell_type": "code",
   "execution_count": 93,
   "metadata": {
    "tags": []
   },
   "outputs": [
    {
     "data": {
      "text/html": [
       "<div>\n",
       "<style scoped>\n",
       "    .dataframe tbody tr th:only-of-type {\n",
       "        vertical-align: middle;\n",
       "    }\n",
       "\n",
       "    .dataframe tbody tr th {\n",
       "        vertical-align: top;\n",
       "    }\n",
       "\n",
       "    .dataframe thead th {\n",
       "        text-align: right;\n",
       "    }\n",
       "</style>\n",
       "<table border=\"1\" class=\"dataframe\">\n",
       "  <thead>\n",
       "    <tr style=\"text-align: right;\">\n",
       "      <th></th>\n",
       "      <th>2019</th>\n",
       "      <th>2015</th>\n",
       "      <th>2010</th>\n",
       "      <th>2005</th>\n",
       "      <th>2000</th>\n",
       "    </tr>\n",
       "  </thead>\n",
       "  <tbody>\n",
       "    <tr>\n",
       "      <th>0</th>\n",
       "      <td>0.002042</td>\n",
       "      <td>0.002452</td>\n",
       "      <td>0.002579</td>\n",
       "      <td>0.002448</td>\n",
       "      <td>0.003451</td>\n",
       "    </tr>\n",
       "    <tr>\n",
       "      <th>1</th>\n",
       "      <td>0.000121</td>\n",
       "      <td>0.000127</td>\n",
       "      <td>0.000150</td>\n",
       "      <td>0.000211</td>\n",
       "      <td>0.000123</td>\n",
       "    </tr>\n",
       "    <tr>\n",
       "      <th>5</th>\n",
       "      <td>0.000061</td>\n",
       "      <td>0.000068</td>\n",
       "      <td>0.000063</td>\n",
       "      <td>0.000102</td>\n",
       "      <td>0.000097</td>\n",
       "    </tr>\n",
       "    <tr>\n",
       "      <th>10</th>\n",
       "      <td>0.000081</td>\n",
       "      <td>0.000110</td>\n",
       "      <td>0.000090</td>\n",
       "      <td>0.000101</td>\n",
       "      <td>0.000134</td>\n",
       "    </tr>\n",
       "    <tr>\n",
       "      <th>15</th>\n",
       "      <td>0.000217</td>\n",
       "      <td>0.000230</td>\n",
       "      <td>0.000271</td>\n",
       "      <td>0.000262</td>\n",
       "      <td>0.000355</td>\n",
       "    </tr>\n",
       "    <tr>\n",
       "      <th>20</th>\n",
       "      <td>0.000407</td>\n",
       "      <td>0.000457</td>\n",
       "      <td>0.000458</td>\n",
       "      <td>0.000472</td>\n",
       "      <td>0.000511</td>\n",
       "    </tr>\n",
       "    <tr>\n",
       "      <th>25</th>\n",
       "      <td>0.000549</td>\n",
       "      <td>0.000575</td>\n",
       "      <td>0.000498</td>\n",
       "      <td>0.000500</td>\n",
       "      <td>0.000499</td>\n",
       "    </tr>\n",
       "    <tr>\n",
       "      <th>30</th>\n",
       "      <td>0.000598</td>\n",
       "      <td>0.000563</td>\n",
       "      <td>0.000505</td>\n",
       "      <td>0.000498</td>\n",
       "      <td>0.000524</td>\n",
       "    </tr>\n",
       "    <tr>\n",
       "      <th>35</th>\n",
       "      <td>0.000631</td>\n",
       "      <td>0.000604</td>\n",
       "      <td>0.000570</td>\n",
       "      <td>0.000710</td>\n",
       "      <td>0.000827</td>\n",
       "    </tr>\n",
       "    <tr>\n",
       "      <th>40</th>\n",
       "      <td>0.000836</td>\n",
       "      <td>0.000860</td>\n",
       "      <td>0.000916</td>\n",
       "      <td>0.001102</td>\n",
       "      <td>0.001240</td>\n",
       "    </tr>\n",
       "    <tr>\n",
       "      <th>45</th>\n",
       "      <td>0.001285</td>\n",
       "      <td>0.001348</td>\n",
       "      <td>0.001581</td>\n",
       "      <td>0.001838</td>\n",
       "      <td>0.002161</td>\n",
       "    </tr>\n",
       "    <tr>\n",
       "      <th>50</th>\n",
       "      <td>0.002087</td>\n",
       "      <td>0.002457</td>\n",
       "      <td>0.002690</td>\n",
       "      <td>0.003153</td>\n",
       "      <td>0.003394</td>\n",
       "    </tr>\n",
       "    <tr>\n",
       "      <th>55</th>\n",
       "      <td>0.003508</td>\n",
       "      <td>0.004089</td>\n",
       "      <td>0.004410</td>\n",
       "      <td>0.005092</td>\n",
       "      <td>0.005415</td>\n",
       "    </tr>\n",
       "    <tr>\n",
       "      <th>60</th>\n",
       "      <td>0.006164</td>\n",
       "      <td>0.006585</td>\n",
       "      <td>0.007485</td>\n",
       "      <td>0.007953</td>\n",
       "      <td>0.008854</td>\n",
       "    </tr>\n",
       "    <tr>\n",
       "      <th>65</th>\n",
       "      <td>0.010054</td>\n",
       "      <td>0.010798</td>\n",
       "      <td>0.011625</td>\n",
       "      <td>0.013320</td>\n",
       "      <td>0.014281</td>\n",
       "    </tr>\n",
       "    <tr>\n",
       "      <th>70</th>\n",
       "      <td>0.016627</td>\n",
       "      <td>0.018914</td>\n",
       "      <td>0.019199</td>\n",
       "      <td>0.021721</td>\n",
       "      <td>0.024041</td>\n",
       "    </tr>\n",
       "    <tr>\n",
       "      <th>75</th>\n",
       "      <td>0.028767</td>\n",
       "      <td>0.031977</td>\n",
       "      <td>0.034546</td>\n",
       "      <td>0.037426</td>\n",
       "      <td>0.041425</td>\n",
       "    </tr>\n",
       "    <tr>\n",
       "      <th>80</th>\n",
       "      <td>0.053991</td>\n",
       "      <td>0.058500</td>\n",
       "      <td>0.062250</td>\n",
       "      <td>0.068268</td>\n",
       "      <td>0.074020</td>\n",
       "    </tr>\n",
       "    <tr>\n",
       "      <th>85</th>\n",
       "      <td>0.156954</td>\n",
       "      <td>0.156715</td>\n",
       "      <td>0.156301</td>\n",
       "      <td>0.161742</td>\n",
       "      <td>0.167294</td>\n",
       "    </tr>\n",
       "  </tbody>\n",
       "</table>\n",
       "</div>"
      ],
      "text/plain": [
       "        2019      2015      2010      2005      2000\n",
       "0   0.002042  0.002452  0.002579  0.002448  0.003451\n",
       "1   0.000121  0.000127  0.000150  0.000211  0.000123\n",
       "5   0.000061  0.000068  0.000063  0.000102  0.000097\n",
       "10  0.000081  0.000110  0.000090  0.000101  0.000134\n",
       "15  0.000217  0.000230  0.000271  0.000262  0.000355\n",
       "20  0.000407  0.000457  0.000458  0.000472  0.000511\n",
       "25  0.000549  0.000575  0.000498  0.000500  0.000499\n",
       "30  0.000598  0.000563  0.000505  0.000498  0.000524\n",
       "35  0.000631  0.000604  0.000570  0.000710  0.000827\n",
       "40  0.000836  0.000860  0.000916  0.001102  0.001240\n",
       "45  0.001285  0.001348  0.001581  0.001838  0.002161\n",
       "50  0.002087  0.002457  0.002690  0.003153  0.003394\n",
       "55  0.003508  0.004089  0.004410  0.005092  0.005415\n",
       "60  0.006164  0.006585  0.007485  0.007953  0.008854\n",
       "65  0.010054  0.010798  0.011625  0.013320  0.014281\n",
       "70  0.016627  0.018914  0.019199  0.021721  0.024041\n",
       "75  0.028767  0.031977  0.034546  0.037426  0.041425\n",
       "80  0.053991  0.058500  0.062250  0.068268  0.074020\n",
       "85  0.156954  0.156715  0.156301  0.161742  0.167294"
      ]
     },
     "execution_count": 93,
     "metadata": {},
     "output_type": "execute_result"
    }
   ],
   "source": [
    "df.drop(columns=[\"Indicator\", \"Age Group\"], inplace=True)\n",
    "df.index = age_series.values\n",
    "df"
   ]
  },
  {
   "cell_type": "code",
   "execution_count": 94,
   "metadata": {
    "tags": []
   },
   "outputs": [],
   "source": [
    "from utils import Re70, Or70, Gr60, Bl50, Pu40\n",
    "\n",
    "\n",
    "def plot_mortality(df):\n",
    "    \"\"\"Plot columns from a mortality DataFrame.\n",
    "    \n",
    "    df: DataFrame\n",
    "    \"\"\"\n",
    "    df[2000].plot(lw=1, style=\"x-\", color=Re70)\n",
    "    # df[2005].plot(lw=1, ms=4, style=\"^--\", color=Or70)\n",
    "    df[2010].plot(lw=1, ms=4, style=\"s--\", color=Gr60)\n",
    "    # df[2015].plot(lw=1, ms=4, style=\"*--\", color=Bl50)\n",
    "    df[2019].plot(lw=1, ms=4, style=\"o-\", color=Pu40)\n",
    "\n",
    "    decorate(xlabel=\"Age\", ylabel=\"Mortality rate\", yscale=\"log\")"
   ]
  },
  {
   "cell_type": "code",
   "execution_count": 95,
   "metadata": {
    "tags": []
   },
   "outputs": [
    {
     "data": {
      "image/png": "[encoded data removed]",
      "text/plain": [
       "<Figure size 450x225 with 1 Axes>"
      ]
     },
     "metadata": {},
     "output_type": "display_data"
    }
   ],
   "source": [
    "plot_mortality(df)\n",
    "labels = [\"1/10\", \"1/100\", \"1/1000\", \"1/10000\"]\n",
    "ticks = [1e-1, 1e-2, 1e-3, 1e-4]\n",
    "plt.yticks(ticks, labels)\n",
    "decorate(title=\"Mortality rates in Sweden\")"
   ]
  },
  {
   "cell_type": "markdown",
   "metadata": {
    "tags": []
   },
   "source": [
    "The straight-line increase after age 35 was described by Benjamin Gompertz in 1825, so this phenomenon is called the Gompertz Law.\n",
    "It is an empirical law, which is to say that it names a pattern we see in nature, but at this point we don't have an explanation of why it's true, or whether it is certain to be true in the future.\n",
    "Nevertheless, the data in this example fall in a remarkably straight line."
   ]
  },
  {
   "cell_type": "code",
   "execution_count": 96,
   "metadata": {
    "tags": []
   },
   "outputs": [
    {
     "data": {
      "text/plain": [
       "0     0.204202\n",
       "50    0.208688\n",
       "Name: 2019, dtype: float64"
      ]
     },
     "execution_count": 96,
     "metadata": {},
     "output_type": "execute_result"
    }
   ],
   "source": [
    "df.loc[[0, 50], 2019] * 100"
   ]
  },
  {
   "cell_type": "code",
   "execution_count": 97,
   "metadata": {
    "tags": []
   },
   "outputs": [
    {
     "data": {
      "text/plain": [
       "10     0.008100\n",
       "40     0.083590\n",
       "65     1.005406\n",
       "85    15.695439\n",
       "Name: 2019, dtype: float64"
      ]
     },
     "execution_count": 97,
     "metadata": {},
     "output_type": "execute_result"
    }
   ],
   "source": [
    "df.loc[[10, 40, 65, 85], 2019] * 100"
   ]
  },
  {
   "cell_type": "markdown",
   "metadata": {
    "tags": []
   },
   "source": [
    "The previous figure also shows that mortality rates decreased between 2000 and 2019 in almost every age group.\n",
    "If we zoom in on the age range from 40 to 80, we can see the changes in adult mortality more clearly."
   ]
  },
  {
   "cell_type": "code",
   "execution_count": 98,
   "metadata": {
    "tags": []
   },
   "outputs": [
    {
     "data": {
      "image/png": "[encoded data removed]",
      "text/plain": [
       "<Figure size 450x225 with 1 Axes>"
      ]
     },
     "metadata": {},
     "output_type": "display_data"
    }
   ],
   "source": [
    "subset = df.loc[40:80]\n",
    "plot_mortality(subset)\n",
    "\n",
    "\n",
    "def add_yticks():\n",
    "    labels = [\"1/10\", \"3/100\", \"1/100\", \"3/1000\", \"1/1000\"]\n",
    "    ticks = [1e-1, 3e-2, 1e-2, 3e-3, 1e-3]\n",
    "    plt.yticks(ticks, labels)\n",
    "\n",
    "\n",
    "add_yticks()\n",
    "decorate(title=\"Mortality rates for adults in Sweden\")"
   ]
  },
  {
   "cell_type": "markdown",
   "metadata": {},
   "source": [
    "In these age groups, the decreases in mortality have been remarkably consistent.\n",
    "By fitting a model to this data, we can estimate the rate of change as a function of both age and time.\n",
    "According to the model, as you move from one age group to the next, your mortality rate increases by about 11% per year.\n",
    "At the same time, for the reasons I just mentioned, the mortality rate in every age group decreases by about 2% per year."
   ]
  },
  {
   "cell_type": "code",
   "execution_count": 99,
   "metadata": {
    "tags": []
   },
   "outputs": [
    {
     "data": {
      "text/html": [
       "<div>\n",
       "<style scoped>\n",
       "    .dataframe tbody tr th:only-of-type {\n",
       "        vertical-align: middle;\n",
       "    }\n",
       "\n",
       "    .dataframe tbody tr th {\n",
       "        vertical-align: top;\n",
       "    }\n",
       "\n",
       "    .dataframe thead th {\n",
       "        text-align: right;\n",
       "    }\n",
       "</style>\n",
       "<table border=\"1\" class=\"dataframe\">\n",
       "  <thead>\n",
       "    <tr style=\"text-align: right;\">\n",
       "      <th></th>\n",
       "      <th>age</th>\n",
       "      <th>year</th>\n",
       "      <th>rate</th>\n",
       "      <th>log_rate</th>\n",
       "    </tr>\n",
       "  </thead>\n",
       "  <tbody>\n",
       "    <tr>\n",
       "      <th>0</th>\n",
       "      <td>40</td>\n",
       "      <td>2019</td>\n",
       "      <td>0.000836</td>\n",
       "      <td>-3.077846</td>\n",
       "    </tr>\n",
       "    <tr>\n",
       "      <th>1</th>\n",
       "      <td>40</td>\n",
       "      <td>2015</td>\n",
       "      <td>0.000860</td>\n",
       "      <td>-3.065354</td>\n",
       "    </tr>\n",
       "    <tr>\n",
       "      <th>2</th>\n",
       "      <td>40</td>\n",
       "      <td>2010</td>\n",
       "      <td>0.000916</td>\n",
       "      <td>-3.038094</td>\n",
       "    </tr>\n",
       "    <tr>\n",
       "      <th>3</th>\n",
       "      <td>40</td>\n",
       "      <td>2005</td>\n",
       "      <td>0.001102</td>\n",
       "      <td>-2.957944</td>\n",
       "    </tr>\n",
       "    <tr>\n",
       "      <th>4</th>\n",
       "      <td>40</td>\n",
       "      <td>2000</td>\n",
       "      <td>0.001240</td>\n",
       "      <td>-2.906429</td>\n",
       "    </tr>\n",
       "  </tbody>\n",
       "</table>\n",
       "</div>"
      ],
      "text/plain": [
       "   age  year      rate  log_rate\n",
       "0   40  2019  0.000836 -3.077846\n",
       "1   40  2015  0.000860 -3.065354\n",
       "2   40  2010  0.000916 -3.038094\n",
       "3   40  2005  0.001102 -2.957944\n",
       "4   40  2000  0.001240 -2.906429"
      ]
     },
     "execution_count": 99,
     "metadata": {},
     "output_type": "execute_result"
    }
   ],
   "source": [
    "data = subset.stack().reset_index()\n",
    "data.columns = [\"age\", \"year\", \"rate\"]\n",
    "data[\"log_rate\"] = np.log10(data[\"rate\"])\n",
    "data.head()"
   ]
  },
  {
   "cell_type": "code",
   "execution_count": 100,
   "metadata": {
    "tags": []
   },
   "outputs": [
    {
     "data": {
      "text/html": [
       "<table class=\"simpletable\">\n",
       "<caption>OLS Regression Results</caption>\n",
       "<tr>\n",
       "  <th>Dep. Variable:</th>        <td>log_rate</td>     <th>  R-squared:         </th> <td>   0.999</td> \n",
       "</tr>\n",
       "<tr>\n",
       "  <th>Model:</th>                   <td>OLS</td>       <th>  Adj. R-squared:    </th> <td>   0.999</td> \n",
       "</tr>\n",
       "<tr>\n",
       "  <th>Method:</th>             <td>Least Squares</td>  <th>  F-statistic:       </th> <td>1.581e+04</td>\n",
       "</tr>\n",
       "<tr>\n",
       "  <th>Date:</th>             <td>Sun, 19 Feb 2023</td> <th>  Prob (F-statistic):</th> <td>3.78e-61</td> \n",
       "</tr>\n",
       "<tr>\n",
       "  <th>Time:</th>                 <td>14:04:01</td>     <th>  Log-Likelihood:    </th> <td>  109.74</td> \n",
       "</tr>\n",
       "<tr>\n",
       "  <th>No. Observations:</th>      <td>    45</td>      <th>  AIC:               </th> <td>  -213.5</td> \n",
       "</tr>\n",
       "<tr>\n",
       "  <th>Df Residuals:</th>          <td>    42</td>      <th>  BIC:               </th> <td>  -208.1</td> \n",
       "</tr>\n",
       "<tr>\n",
       "  <th>Df Model:</th>              <td>     2</td>      <th>                     </th>     <td> </td>    \n",
       "</tr>\n",
       "<tr>\n",
       "  <th>Covariance Type:</th>      <td>nonrobust</td>    <th>                     </th>     <td> </td>    \n",
       "</tr>\n",
       "</table>\n",
       "<table class=\"simpletable\">\n",
       "<tr>\n",
       "      <td></td>         <th>coef</th>     <th>std err</th>      <th>t</th>      <th>P>|t|</th>  <th>[0.025</th>    <th>0.975]</th>  \n",
       "</tr>\n",
       "<tr>\n",
       "  <th>Intercept</th> <td>   13.5134</td> <td>    0.964</td> <td>   14.017</td> <td> 0.000</td> <td>   11.568</td> <td>   15.459</td>\n",
       "</tr>\n",
       "<tr>\n",
       "  <th>age</th>       <td>    0.0446</td> <td>    0.000</td> <td>  176.799</td> <td> 0.000</td> <td>    0.044</td> <td>    0.045</td>\n",
       "</tr>\n",
       "<tr>\n",
       "  <th>year</th>      <td>   -0.0091</td> <td>    0.000</td> <td>  -19.003</td> <td> 0.000</td> <td>   -0.010</td> <td>   -0.008</td>\n",
       "</tr>\n",
       "</table>\n",
       "<table class=\"simpletable\">\n",
       "<tr>\n",
       "  <th>Omnibus:</th>       <td> 2.326</td> <th>  Durbin-Watson:     </th> <td>   1.177</td>\n",
       "</tr>\n",
       "<tr>\n",
       "  <th>Prob(Omnibus):</th> <td> 0.313</td> <th>  Jarque-Bera (JB):  </th> <td>   2.195</td>\n",
       "</tr>\n",
       "<tr>\n",
       "  <th>Skew:</th>          <td> 0.507</td> <th>  Prob(JB):          </th> <td>   0.334</td>\n",
       "</tr>\n",
       "<tr>\n",
       "  <th>Kurtosis:</th>      <td> 2.623</td> <th>  Cond. No.          </th> <td>5.95e+05</td>\n",
       "</tr>\n",
       "</table><br/><br/>Notes:<br/>[1] Standard Errors assume that the covariance matrix of the errors is correctly specified.<br/>[2] The condition number is large, 5.95e+05. This might indicate that there are<br/>strong multicollinearity or other numerical problems."
      ],
      "text/plain": [
       "<class 'statsmodels.iolib.summary.Summary'>\n",
       "\"\"\"\n",
       "                            OLS Regression Results                            \n",
       "==============================================================================\n",
       "Dep. Variable:               log_rate   R-squared:                       0.999\n",
       "Model:                            OLS   Adj. R-squared:                  0.999\n",
       "Method:                 Least Squares   F-statistic:                 1.581e+04\n",
       "Date:                Sun, 19 Feb 2023   Prob (F-statistic):           3.78e-61\n",
       "Time:                        14:04:01   Log-Likelihood:                 109.74\n",
       "No. Observations:                  45   AIC:                            -213.5\n",
       "Df Residuals:                      42   BIC:                            -208.1\n",
       "Df Model:                           2                                         \n",
       "Covariance Type:            nonrobust                                         \n",
       "==============================================================================\n",
       "                 coef    std err          t      P>|t|      [0.025      0.975]\n",
       "------------------------------------------------------------------------------\n",
       "Intercept     13.5134      0.964     14.017      0.000      11.568      15.459\n",
       "age            0.0446      0.000    176.799      0.000       0.044       0.045\n",
       "year          -0.0091      0.000    -19.003      0.000      -0.010      -0.008\n",
       "==============================================================================\n",
       "Omnibus:                        2.326   Durbin-Watson:                   1.177\n",
       "Prob(Omnibus):                  0.313   Jarque-Bera (JB):                2.195\n",
       "Skew:                           0.507   Prob(JB):                        0.334\n",
       "Kurtosis:                       2.623   Cond. No.                     5.95e+05\n",
       "==============================================================================\n",
       "\n",
       "Notes:\n",
       "[1] Standard Errors assume that the covariance matrix of the errors is correctly specified.\n",
       "[2] The condition number is large, 5.95e+05. This might indicate that there are\n",
       "strong multicollinearity or other numerical problems.\n",
       "\"\"\""
      ]
     },
     "execution_count": 100,
     "metadata": {},
     "output_type": "execute_result"
    }
   ],
   "source": [
    "import statsmodels.formula.api as smf\n",
    "\n",
    "formula = \"log_rate ~ age + year\"\n",
    "\n",
    "results = smf.ols(formula, data=data).fit()\n",
    "results.summary()"
   ]
  },
  {
   "cell_type": "markdown",
   "metadata": {
    "tags": []
   },
   "source": [
    "These results imply that the life expectancies we computed in the previous section are too pessimistic because they take into account only the first effect -- the increase with age -- and not the second -- the decrease over time.\n",
    "So let's see what happens if we include the second effect as well, that is, if we assume that mortality rates will continue to decrease.\n",
    "\n",
    "The following figure shows the actual mortality rates for 2000 and 2019 again, along with predictions for 2040 and 2060."
   ]
  },
  {
   "cell_type": "code",
   "execution_count": 101,
   "metadata": {
    "tags": []
   },
   "outputs": [
    {
     "data": {
      "text/plain": [
       "(0.10821618126745203, -0.02076728510750292)"
      ]
     },
     "execution_count": 101,
     "metadata": {},
     "output_type": "execute_result"
    }
   ],
   "source": [
    "ratios = 10**results.params\n",
    "ratios[\"age\"] - 1, ratios[\"year\"] - 1"
   ]
  },
  {
   "cell_type": "markdown",
   "metadata": {},
   "source": [
    "The following function uses the results from the model to generate predictions -- assuming future trends at current rates."
   ]
  },
  {
   "cell_type": "code",
   "execution_count": 102,
   "metadata": {
    "tags": []
   },
   "outputs": [],
   "source": [
    "def pred_hazard(results, pred_frame):\n",
    "    \"\"\"\n",
    "    \"\"\"\n",
    "    hazard = Hazard(10 ** results.predict(pred_frame))\n",
    "    hazard.index = pred_frame[\"age\"]\n",
    "    return hazard"
   ]
  },
  {
   "cell_type": "code",
   "execution_count": 103,
   "metadata": {
    "tags": []
   },
   "outputs": [],
   "source": [
    "pred_frame = pd.DataFrame(dtype=float)\n",
    "pred_frame[\"age\"] = np.arange(40, 105)\n",
    "pred_frame[\"year\"] = 2019\n",
    "hazard_no_progress = pred_hazard(results, pred_frame)"
   ]
  },
  {
   "cell_type": "code",
   "execution_count": 104,
   "metadata": {
    "tags": []
   },
   "outputs": [],
   "source": [
    "pred_frame = pd.DataFrame(dtype=float)\n",
    "pred_frame[\"age\"] = np.arange(40, 120)\n",
    "pred_frame[\"year\"] = 2019 + pred_frame[\"age\"] - 40\n",
    "hazard_progress = pred_hazard(results, pred_frame)"
   ]
  },
  {
   "cell_type": "code",
   "execution_count": 105,
   "metadata": {
    "tags": []
   },
   "outputs": [],
   "source": [
    "def make_pred(subset, results, year):\n",
    "    \"\"\"Use a regression model to generate predictions.\n",
    "    \n",
    "    subset: DataFrame\n",
    "    results: RegressionResults\n",
    "    year: int\n",
    "    \n",
    "    returns: Hazard\n",
    "    \"\"\"\n",
    "    pred_frame = pd.DataFrame(dtype=float)\n",
    "    pred_frame[\"age\"] = subset.index.values\n",
    "    pred_frame[\"year\"] = year\n",
    "\n",
    "    pred = 10 ** results.predict(pred_frame)\n",
    "    pred.index = subset.index\n",
    "    return Hazard(pred)"
   ]
  },
  {
   "cell_type": "code",
   "execution_count": 106,
   "metadata": {
    "tags": []
   },
   "outputs": [
    {
     "data": {
      "image/png": "[encoded data removed]",
      "text/plain": [
       "<Figure size 450x225 with 1 Axes>"
      ]
     },
     "metadata": {},
     "output_type": "display_data"
    }
   ],
   "source": [
    "subset[2000].plot(lw=1, style=\"x-\", color=Re70)\n",
    "subset[2019].plot(lw=1, ms=4, style=\"o-\", color=Pu40)\n",
    "\n",
    "pred = make_pred(subset, results, 2040)\n",
    "pred.plot(style=\":\", lw=1, color=\"gray\")\n",
    "\n",
    "pred = make_pred(subset, results, 2060)\n",
    "pred.plot(style=\":\", lw=1, color=\"gray\")\n",
    "\n",
    "for x, marker in zip([60, 80], [\"^\", \"s\"]):\n",
    "    y = hazard_progress[x]\n",
    "    plt.plot(x, y, marker, color=\"C0\")\n",
    "\n",
    "hazard_progress.loc[:80].plot(lw=1, label=\"With current progress\")\n",
    "\n",
    "decorate(xlabel=\"Age\", ylabel=\"Mortality rate\", yscale=\"log\")\n",
    "add_yticks()\n",
    "decorate(title=\"Mortality rate in Sweden with continued progress\", loc=\"lower right\")"
   ]
  },
  {
   "cell_type": "markdown",
   "metadata": {
    "tags": []
   },
   "source": [
    "The line labeled \"With current progress\" indicates the mortality rates we expect for a hypothetical Swede who was 40 in 2020.\n",
    "When they are 60, it will be 2040, so we expect them to have the mortality rate of a 60-year-old in 2040, indicated by a triangle.\n",
    "And when they are 80, it will be 2060, so we expect them to have the mortality rate of an 80-year-old in 2060, indicated by a square.\n",
    "\n",
    "We can use these mortality rates to compute survival curves, as shown in the following figure."
   ]
  },
  {
   "cell_type": "code",
   "execution_count": 107,
   "metadata": {
    "tags": []
   },
   "outputs": [
    {
     "data": {
      "image/png": "[encoded data removed]",
      "text/plain": [
       "<Figure size 450x225 with 1 Axes>"
      ]
     },
     "metadata": {},
     "output_type": "display_data"
    }
   ],
   "source": [
    "hazard_progress.make_surv().plot(ls=\"--\", label=\"With current progress\")\n",
    "hazard_no_progress.make_surv().plot(label=\"Without progress\")\n",
    "\n",
    "decorate(\n",
    "    xlabel=\"Age\",\n",
    "    ylabel=\"Probability of survival\",\n",
    "    title=\"Survival curves with and without progress\",\n",
    ")"
   ]
  },
  {
   "cell_type": "code",
   "execution_count": 108,
   "metadata": {
    "tags": []
   },
   "outputs": [],
   "source": [
    "def hypothetical_results(b2):\n",
    "    \"\"\"Make RegressionResults with a counterfactual slope.\n",
    "    \n",
    "    b2: slope\n",
    "    \n",
    "    returns: RegressionResults\n",
    "    \"\"\"\n",
    "    results = smf.ols(formula, data=data).fit()\n",
    "    i1, a1, b1 = results.params\n",
    "    i2 = i1 + (b1 - b2) * 2019\n",
    "    results.params[\"Intercept\"] = i2\n",
    "    results.params[\"year\"] = b2\n",
    "    return results"
   ]
  },
  {
   "cell_type": "code",
   "execution_count": 109,
   "metadata": {
    "tags": []
   },
   "outputs": [],
   "source": [
    "def hazard_hypo_progress(b2, upper):\n",
    "    \"\"\"Compute a Hazard function with hypothetical progress.\n",
    "\n",
    "    b2: slope\n",
    "    upper: upper end of the qs\n",
    "\n",
    "    returns: Hazard\n",
    "    \"\"\"\n",
    "    hypo = hypothetical_results(b2)\n",
    "    pred_frame = pd.DataFrame(dtype=float)\n",
    "    pred_frame[\"age\"] = np.arange(40, upper)\n",
    "    pred_frame[\"year\"] = 2019 + pred_frame[\"age\"] - 40\n",
    "    return pred_hazard(hypo, pred_frame)"
   ]
  },
  {
   "cell_type": "code",
   "execution_count": 110,
   "metadata": {
    "tags": []
   },
   "outputs": [],
   "source": [
    "b2 = results.params[\"year\"] * 2\n",
    "hazard_progress2 = hazard_hypo_progress(b2, 145)"
   ]
  },
  {
   "cell_type": "code",
   "execution_count": 111,
   "metadata": {
    "tags": []
   },
   "outputs": [],
   "source": [
    "b3 = results.params[\"year\"] * 3\n",
    "hazard_progress3 = hazard_hypo_progress(b3, 180)"
   ]
  },
  {
   "cell_type": "code",
   "execution_count": 112,
   "metadata": {
    "tags": []
   },
   "outputs": [],
   "source": [
    "b4 = results.params[\"year\"] * 4\n",
    "hazard_progress4 = hazard_hypo_progress(b4, 300)"
   ]
  },
  {
   "cell_type": "code",
   "execution_count": 113,
   "metadata": {
    "tags": []
   },
   "outputs": [
    {
     "data": {
      "text/plain": [
       "-4.89621102405056"
      ]
     },
     "execution_count": 113,
     "metadata": {},
     "output_type": "execute_result"
    }
   ],
   "source": [
    "results.params[\"age\"] / results.params[\"year\"]"
   ]
  },
  {
   "cell_type": "code",
   "execution_count": 114,
   "metadata": {
    "tags": []
   },
   "outputs": [],
   "source": [
    "b49 = -results.params[\"age\"]\n",
    "hazard_progress49 = hazard_hypo_progress(b49, 8000)"
   ]
  },
  {
   "cell_type": "code",
   "execution_count": 115,
   "metadata": {
    "tags": []
   },
   "outputs": [
    {
     "data": {
      "image/png": "[encoded data removed]",
      "text/plain": [
       "<Figure size 450x225 with 1 Axes>"
      ]
     },
     "metadata": {},
     "output_type": "display_data"
    }
   ],
   "source": [
    "hazard_progress.plot()\n",
    "hazard_progress2.plot()\n",
    "hazard_progress3.plot()\n",
    "hazard_progress4.plot()\n",
    "hazard_progress49.loc[:140].plot()\n",
    "\n",
    "decorate(yscale=\"log\")"
   ]
  },
  {
   "cell_type": "code",
   "execution_count": 116,
   "metadata": {
    "tags": []
   },
   "outputs": [
    {
     "data": {
      "image/png": "[encoded data removed]",
      "text/plain": [
       "<Figure size 450x225 with 1 Axes>"
      ]
     },
     "metadata": {},
     "output_type": "display_data"
    }
   ],
   "source": [
    "hazard_progress2.make_surv().plot(ls=\":\", label=\"With progress x2\")\n",
    "hazard_progress.make_surv().plot(ls=\"-\", label=\"With current progress\")\n",
    "hazard_no_progress.make_surv().plot(ls=\"--\", label=\"Without progress\")\n",
    "\n",
    "decorate(\n",
    "    xlabel=\"Age\",\n",
    "    ylabel=\"Probability of survival\",\n",
    "    title=\"Survival curves with different rates of progress\",\n",
    ")"
   ]
  },
  {
   "cell_type": "markdown",
   "metadata": {
    "tags": []
   },
   "source": [
    "The dashed line on the left shows the survival curve we expect if there is no further decrease in mortality rates; in that scenario, life expectancy at age 40 is 82 years and the probability of living to 100 is only 1.4%.\n",
    "\n",
    "The solid line shows the survival curve if mortality continues to decrease at the current rate; in that case, life expectancy for the same 40-year-old is 90 years and the chance of living to 100 is 25%."
   ]
  },
  {
   "cell_type": "code",
   "execution_count": 117,
   "metadata": {
    "tags": []
   },
   "outputs": [
    {
     "data": {
      "text/plain": [
       "(81.8072010552909, 89.96521174758263, 102.69918506487211)"
      ]
     },
     "execution_count": 117,
     "metadata": {},
     "output_type": "execute_result"
    }
   ],
   "source": [
    "hazard_no_progress.mean(), hazard_progress.mean(), hazard_progress2.mean()"
   ]
  },
  {
   "cell_type": "code",
   "execution_count": 118,
   "metadata": {
    "tags": []
   },
   "outputs": [
    {
     "data": {
      "text/plain": [
       "(125.0724521213487, 184.72593998355953)"
      ]
     },
     "execution_count": 118,
     "metadata": {},
     "output_type": "execute_result"
    }
   ],
   "source": [
    "hazard_progress3.mean(), hazard_progress4.mean()"
   ]
  },
  {
   "cell_type": "code",
   "execution_count": 119,
   "metadata": {
    "tags": []
   },
   "outputs": [
    {
     "data": {
      "text/plain": [
       "array(0.01353305)"
      ]
     },
     "execution_count": 119,
     "metadata": {},
     "output_type": "execute_result"
    }
   ],
   "source": [
    "hazard_no_progress.make_surv()(100)"
   ]
  },
  {
   "cell_type": "code",
   "execution_count": 120,
   "metadata": {
    "tags": []
   },
   "outputs": [
    {
     "data": {
      "text/plain": [
       "array(0.24964025)"
      ]
     },
     "execution_count": 120,
     "metadata": {},
     "output_type": "execute_result"
    }
   ],
   "source": [
    "hazard_progress.make_surv()(100)"
   ]
  },
  {
   "cell_type": "code",
   "execution_count": 121,
   "metadata": {
    "tags": []
   },
   "outputs": [
    {
     "data": {
      "text/plain": [
       "array([0.60379629, 0.17113289, 0.03569291, 0.00159352])"
      ]
     },
     "execution_count": 121,
     "metadata": {},
     "output_type": "execute_result"
    }
   ],
   "source": [
    "hazard_progress2.make_surv()([100, 120, 130, 140])"
   ]
  },
  {
   "cell_type": "markdown",
   "metadata": {
    "tags": []
   },
   "source": [
    "Finally, the dotted line on the right shows the survival curve if mortality decreases at twice the current rate.\n",
    "Life expectancy at age 40 would be 102 and the probability of living to 100 would be 60%."
   ]
  },
  {
   "cell_type": "markdown",
   "metadata": {
    "tags": []
   },
   "source": [
    "The following figure shows the survival curve under the assumption that mortality rates, starting in 2019, decrease at four times the current rate."
   ]
  },
  {
   "cell_type": "code",
   "execution_count": 122,
   "metadata": {
    "tags": []
   },
   "outputs": [
    {
     "data": {
      "image/png": "[encoded data removed]",
      "text/plain": [
       "<Figure size 450x225 with 1 Axes>"
      ]
     },
     "metadata": {},
     "output_type": "display_data"
    }
   ],
   "source": [
    "hazard_progress4.make_surv().plot(color=\"C3\", ls=\"-.\", label=\"With progress x4\")\n",
    "\n",
    "decorate(\n",
    "    xlabel=\"Age\",\n",
    "    ylabel=\"Probability of survival\",\n",
    "    title=\"Survival curve with 4x rate of progress\",\n",
    ")"
   ]
  },
  {
   "cell_type": "markdown",
   "metadata": {
    "tags": []
   },
   "source": [
    "In this scenario, some people live to be 300 years old!\n",
    "However, even with these optimistic assumptions, the shape of the curve is similar to what we get with slower rates of progress.\n",
    "And, as shown in the following figure, average remaining lifetimes decrease with almost the same slope."
   ]
  },
  {
   "cell_type": "code",
   "execution_count": 123,
   "metadata": {
    "tags": []
   },
   "outputs": [],
   "source": [
    "qs = np.arange(40, hazard_progress4.qs.max())\n",
    "rem_progress4 = remaining_lifetimes_pmf(hazard_progress4.make_pmf(), qs)\n",
    "\n",
    "qs = np.arange(40, hazard_progress3.qs.max())\n",
    "rem_progress3 = remaining_lifetimes_pmf(hazard_progress3.make_pmf(), qs)\n",
    "\n",
    "qs = np.arange(40, 140)\n",
    "rem_progress2 = remaining_lifetimes_pmf(hazard_progress2.make_pmf(), qs)\n",
    "\n",
    "qs = np.arange(40, 120)\n",
    "rem_progress = remaining_lifetimes_pmf(hazard_progress.make_pmf(), qs)\n",
    "\n",
    "qs = np.linspace(40, 100)\n",
    "rem_no_progress = remaining_lifetimes_pmf(hazard_no_progress.make_pmf(), qs)"
   ]
  },
  {
   "cell_type": "code",
   "execution_count": 124,
   "metadata": {
    "tags": []
   },
   "outputs": [
    {
     "data": {
      "image/png": "[encoded data removed]",
      "text/plain": [
       "<Figure size 450x225 with 1 Axes>"
      ]
     },
     "metadata": {},
     "output_type": "display_data"
    }
   ],
   "source": [
    "rem_progress4.plot(color=\"C3\", ls=\"-.\", label=\"With progress x4\")\n",
    "# rem_progress3.plot(ls=':', label='With progress x3')\n",
    "rem_progress2.plot(ls=\":\", label=\"With progress x2\")\n",
    "rem_progress.plot(ls=\"-\", label=\"With current progress\")\n",
    "rem_no_progress.plot(ls=\"--\", label=\"Without progress\")\n",
    "\n",
    "decorate(\n",
    "    xlabel=\"Age\",\n",
    "    ylabel=\"Average remaining lifetime\",\n",
    "    title=\"Average remaining lifetime with different rates of progress\",\n",
    ")"
   ]
  },
  {
   "cell_type": "markdown",
   "metadata": {
    "tags": []
   },
   "source": [
    "With faster progress, people live longer, but they still have the new-better-than-used property: as each year passes, they get closer to the grave, on average.\n",
    "\n",
    "However, something remarkable happens if progress accelerates by a factor of 4.9.\n",
    "At that speed, the increase in mortality due to aging by one year is exactly offset by the decrease due to progress.\n",
    "That means that the probability of dying is the same from one year to the next, forever.\n",
    "The result is a survival curve that looks like this."
   ]
  },
  {
   "cell_type": "code",
   "execution_count": 125,
   "metadata": {
    "tags": []
   },
   "outputs": [
    {
     "data": {
      "image/png": "[encoded data removed]",
      "text/plain": [
       "<Figure size 450x225 with 1 Axes>"
      ]
     },
     "metadata": {},
     "output_type": "display_data"
    }
   ],
   "source": [
    "dashdotdot = (0, (3, 1, 1, 1, 1, 1))\n",
    "\n",
    "hazard_progress49.make_surv().plot(\n",
    "    color=\"C4\", ls=dashdotdot, label=\"With 4.9x progress\"\n",
    ")\n",
    "hazard_progress4.make_surv().plot(color=\"C3\", ls=\"-.\", label=\"With 4x progress\")\n",
    "\n",
    "decorate(\n",
    "    xlabel=\"Age\",\n",
    "    ylabel=\"Probability of survival\",\n",
    "    title=\"Survival curves with 4x and 4.9x progress\",\n",
    ")"
   ]
  },
  {
   "cell_type": "markdown",
   "metadata": {
    "tags": []
   },
   "source": [
    "The difference between 4 and 4.9 is qualitative.\n",
    "At a factor of 4, the survival curve plummets toward an inevitable end; at a factor of 4.9, it extends out to ages that are beyond biblical."
   ]
  },
  {
   "cell_type": "code",
   "execution_count": 126,
   "metadata": {
    "tags": []
   },
   "outputs": [
    {
     "data": {
      "text/plain": [
       "7.888830027209969"
      ]
     },
     "execution_count": 126,
     "metadata": {},
     "output_type": "execute_result"
    }
   ],
   "source": [
    "lam = hazard_no_progress[40]\n",
    "lam * 1e4"
   ]
  },
  {
   "cell_type": "code",
   "execution_count": 127,
   "metadata": {
    "tags": []
   },
   "outputs": [
    {
     "data": {
      "text/plain": [
       "(1267.6150919094762, 2535.2301838189524)"
      ]
     },
     "execution_count": 127,
     "metadata": {},
     "output_type": "execute_result"
    }
   ],
   "source": [
    "1 / lam, 2 / lam"
   ]
  },
  {
   "cell_type": "code",
   "execution_count": 128,
   "metadata": {
    "tags": []
   },
   "outputs": [
    {
     "data": {
      "text/plain": [
       "(1267.6150919094762, 878.6438269922893)"
      ]
     },
     "execution_count": 128,
     "metadata": {},
     "output_type": "execute_result"
    }
   ],
   "source": [
    "from scipy.stats import expon\n",
    "\n",
    "dist = expon(scale=1 / lam)\n",
    "dist.mean(), dist.median()"
   ]
  },
  {
   "cell_type": "code",
   "execution_count": 129,
   "metadata": {
    "tags": []
   },
   "outputs": [
    {
     "data": {
      "text/plain": [
       "array([0.20643576, 0.04261572])"
      ]
     },
     "execution_count": 129,
     "metadata": {},
     "output_type": "execute_result"
    }
   ],
   "source": [
    "dist.sf([2000, 4000])"
   ]
  },
  {
   "cell_type": "code",
   "execution_count": 130,
   "metadata": {
    "tags": []
   },
   "outputs": [
    {
     "data": {
      "text/plain": [
       "28735.7893553912"
      ]
     },
     "execution_count": 130,
     "metadata": {},
     "output_type": "execute_result"
    }
   ],
   "source": [
    "dist.ppf(1 - 1 / 7e9)"
   ]
  },
  {
   "cell_type": "markdown",
   "metadata": {
    "tags": []
   },
   "source": [
    "In the near future, if child mortality continues to decrease, everyone will be better new than used.\n",
    "But eventually, if adult mortality decreases fast enough, everyone will have the same remaining time, on average: new, used, or in between."
   ]
  },
  {
   "cell_type": "markdown",
   "metadata": {
    "tags": []
   },
   "source": [
    "Probably Overthinking It\n",
    "\n",
    "Copyright 2022 Allen Downey \n",
    "\n",
    "The code in this notebook and `utils.py` is under the [MIT license](https://mit-license.org/)."
   ]
  },
  {
   "cell_type": "code",
   "execution_count": null,
   "metadata": {
    "tags": []
   },
   "outputs": [],
   "source": []
  }
 ],
 "metadata": {
  "celltoolbar": "Tags",
  "kernelspec": {
   "display_name": "Python 3 (ipykernel)",
   "language": "python",
   "name": "python3"
  },
  "language_info": {
   "codemirror_mode": {
    "name": "ipython",
    "version": 3
   },
   "file_extension": ".py",
   "mimetype": "text/x-python",
   "name": "python",
   "nbconvert_exporter": "python",
   "pygments_lexer": "ipython3",
   "version": "3.10.4"
  }
 },
 "nbformat": 4,
 "nbformat_minor": 4
}
