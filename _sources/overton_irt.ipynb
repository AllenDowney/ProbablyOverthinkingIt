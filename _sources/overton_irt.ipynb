{
 "cells": [
  {
   "cell_type": "markdown",
   "id": "d9e5c3aa",
   "metadata": {},
   "source": [
    "## Measuring the Overton Window\n",
    "\n",
    "One of the chapters in *Probably Overthinking It* is about the [Overton window](https://en.wikipedia.org/wiki/Overton_window).\n",
    "While working on that chapter, I used a bit of Bayesian inference that is too technical to explain in the book. So I'll explain it here.\n",
    "\n",
    "If you would like to get infrequent email announcements about the book, please [sign up for my mailing list](http://eepurl.com/h0nfbX)."
   ]
  },
  {
   "cell_type": "markdown",
   "id": "2f0632d1",
   "metadata": {},
   "source": [
    "[Click here to run this notebook on Colab](https://colab.research.google.com/github/AllenDowney/ProbablyOverthinkingIt/blob/book/notebooks/overton_irt.ipynb)"
   ]
  },
  {
   "cell_type": "markdown",
   "id": "2d744db7",
   "metadata": {},
   "source": [
    "## Imports and Function Definitions"
   ]
  },
  {
   "cell_type": "code",
   "execution_count": 1,
   "id": "581d0503",
   "metadata": {
    "tags": [
     "hide-cell"
    ]
   },
   "outputs": [
    {
     "data": {
      "application/javascript": [
       "\n",
       "            setTimeout(function() {\n",
       "                var nbb_cell_id = 1;\n",
       "                var nbb_unformatted_code = \"import sys\\nimport pandas as pd\\nimport numpy as np\\nimport matplotlib.pyplot as plt\\nimport seaborn as sns\\n\\n%load_ext nb_black\";\n",
       "                var nbb_formatted_code = \"import sys\\nimport pandas as pd\\nimport numpy as np\\nimport matplotlib.pyplot as plt\\nimport seaborn as sns\\n\\n%load_ext nb_black\";\n",
       "                var nbb_cells = Jupyter.notebook.get_cells();\n",
       "                for (var i = 0; i < nbb_cells.length; ++i) {\n",
       "                    if (nbb_cells[i].input_prompt_number == nbb_cell_id) {\n",
       "                        if (nbb_cells[i].get_text() == nbb_unformatted_code) {\n",
       "                             nbb_cells[i].set_text(nbb_formatted_code);\n",
       "                        }\n",
       "                        break;\n",
       "                    }\n",
       "                }\n",
       "            }, 500);\n",
       "            "
      ],
      "text/plain": [
       "<IPython.core.display.Javascript object>"
      ]
     },
     "metadata": {},
     "output_type": "display_data"
    }
   ],
   "source": [
    "import sys\n",
    "import pandas as pd\n",
    "import numpy as np\n",
    "import matplotlib.pyplot as plt\n",
    "import seaborn as sns"
   ]
  },
  {
   "cell_type": "code",
   "execution_count": 2,
   "id": "b2835851",
   "metadata": {
    "tags": [
     "hide-cell"
    ]
   },
   "outputs": [
    {
     "data": {
      "application/javascript": [
       "\n",
       "            setTimeout(function() {\n",
       "                var nbb_cell_id = 2;\n",
       "                var nbb_unformatted_code = \"from statsmodels.nonparametric.smoothers_lowess import lowess\\n\\n\\ndef make_lowess(series, frac=0.7):\\n    \\\"\\\"\\\"Use LOWESS to compute a smooth line.\\n\\n    series: pd.Series\\n\\n    returns: pd.Series\\n    \\\"\\\"\\\"\\n    y = series.values\\n    x = series.index.values\\n\\n    smooth = lowess(y, x, frac=frac)\\n    index, data = np.transpose(smooth)\\n\\n    return pd.Series(data, index=index)\";\n",
       "                var nbb_formatted_code = \"from statsmodels.nonparametric.smoothers_lowess import lowess\\n\\n\\ndef make_lowess(series, frac=0.7):\\n    \\\"\\\"\\\"Use LOWESS to compute a smooth line.\\n\\n    series: pd.Series\\n\\n    returns: pd.Series\\n    \\\"\\\"\\\"\\n    y = series.values\\n    x = series.index.values\\n\\n    smooth = lowess(y, x, frac=frac)\\n    index, data = np.transpose(smooth)\\n\\n    return pd.Series(data, index=index)\";\n",
       "                var nbb_cells = Jupyter.notebook.get_cells();\n",
       "                for (var i = 0; i < nbb_cells.length; ++i) {\n",
       "                    if (nbb_cells[i].input_prompt_number == nbb_cell_id) {\n",
       "                        if (nbb_cells[i].get_text() == nbb_unformatted_code) {\n",
       "                             nbb_cells[i].set_text(nbb_formatted_code);\n",
       "                        }\n",
       "                        break;\n",
       "                    }\n",
       "                }\n",
       "            }, 500);\n",
       "            "
      ],
      "text/plain": [
       "<IPython.core.display.Javascript object>"
      ]
     },
     "metadata": {},
     "output_type": "display_data"
    }
   ],
   "source": [
    "from statsmodels.nonparametric.smoothers_lowess import lowess\n",
    "\n",
    "\n",
    "def make_lowess(series, frac=0.7):\n",
    "    \"\"\"Use LOWESS to compute a smooth line.\n",
    "\n",
    "    series: pd.Series\n",
    "\n",
    "    returns: pd.Series\n",
    "    \"\"\"\n",
    "    y = series.values\n",
    "    x = series.index.values\n",
    "\n",
    "    smooth = lowess(y, x, frac=frac)\n",
    "    index, data = np.transpose(smooth)\n",
    "\n",
    "    return pd.Series(data, index=index)"
   ]
  },
  {
   "cell_type": "code",
   "execution_count": 3,
   "id": "bc25cfab",
   "metadata": {
    "tags": [
     "hide-cell"
    ]
   },
   "outputs": [
    {
     "data": {
      "application/javascript": [
       "\n",
       "            setTimeout(function() {\n",
       "                var nbb_cell_id = 3;\n",
       "                var nbb_unformatted_code = \"def plot_series_lowess(series, color, plot_series=False, frac=0.7, **options):\\n    \\\"\\\"\\\"Plots a series of data points and a smooth line.\\n\\n    series: pd.Series\\n    color: string or tuple\\n    \\\"\\\"\\\"\\n    if \\\"label\\\" not in options:\\n        options[\\\"label\\\"] = series.name\\n\\n    if plot_series or len(series) == 1:\\n        x = series.index\\n        y = series.values\\n        plt.plot(x, y, \\\"o\\\", color=color, alpha=0.3, label=\\\"_\\\")\\n\\n    if not plot_series and len(series) == 1:\\n        x = series.index\\n        y = series.values\\n        plt.plot(x, y, \\\"o\\\", color=color, alpha=0.6, label=options[\\\"label\\\"])\\n\\n    if len(series) > 1:\\n        smooth = make_lowess(series, frac=frac)\\n        smooth.plot(color=color, **options)\";\n",
       "                var nbb_formatted_code = \"def plot_series_lowess(series, color, plot_series=False, frac=0.7, **options):\\n    \\\"\\\"\\\"Plots a series of data points and a smooth line.\\n\\n    series: pd.Series\\n    color: string or tuple\\n    \\\"\\\"\\\"\\n    if \\\"label\\\" not in options:\\n        options[\\\"label\\\"] = series.name\\n\\n    if plot_series or len(series) == 1:\\n        x = series.index\\n        y = series.values\\n        plt.plot(x, y, \\\"o\\\", color=color, alpha=0.3, label=\\\"_\\\")\\n\\n    if not plot_series and len(series) == 1:\\n        x = series.index\\n        y = series.values\\n        plt.plot(x, y, \\\"o\\\", color=color, alpha=0.6, label=options[\\\"label\\\"])\\n\\n    if len(series) > 1:\\n        smooth = make_lowess(series, frac=frac)\\n        smooth.plot(color=color, **options)\";\n",
       "                var nbb_cells = Jupyter.notebook.get_cells();\n",
       "                for (var i = 0; i < nbb_cells.length; ++i) {\n",
       "                    if (nbb_cells[i].input_prompt_number == nbb_cell_id) {\n",
       "                        if (nbb_cells[i].get_text() == nbb_unformatted_code) {\n",
       "                             nbb_cells[i].set_text(nbb_formatted_code);\n",
       "                        }\n",
       "                        break;\n",
       "                    }\n",
       "                }\n",
       "            }, 500);\n",
       "            "
      ],
      "text/plain": [
       "<IPython.core.display.Javascript object>"
      ]
     },
     "metadata": {},
     "output_type": "display_data"
    }
   ],
   "source": [
    "def plot_series_lowess(series, color, plot_series=False, frac=0.7, **options):\n",
    "    \"\"\"Plots a series of data points and a smooth line.\n",
    "\n",
    "    series: pd.Series\n",
    "    color: string or tuple\n",
    "    \"\"\"\n",
    "    if \"label\" not in options:\n",
    "        options[\"label\"] = series.name\n",
    "\n",
    "    if plot_series or len(series) == 1:\n",
    "        x = series.index\n",
    "        y = series.values\n",
    "        plt.plot(x, y, \"o\", color=color, alpha=0.3, label=\"_\")\n",
    "\n",
    "    if not plot_series and len(series) == 1:\n",
    "        x = series.index\n",
    "        y = series.values\n",
    "        plt.plot(x, y, \"o\", color=color, alpha=0.6, label=options[\"label\"])\n",
    "\n",
    "    if len(series) > 1:\n",
    "        smooth = make_lowess(series, frac=frac)\n",
    "        smooth.plot(color=color, **options)"
   ]
  },
  {
   "cell_type": "code",
   "execution_count": 4,
   "id": "229694c8",
   "metadata": {
    "tags": [
     "hide-cell"
    ]
   },
   "outputs": [
    {
     "data": {
      "application/javascript": [
       "\n",
       "            setTimeout(function() {\n",
       "                var nbb_cell_id = 4;\n",
       "                var nbb_unformatted_code = \"def decorate(**options):\\n    \\\"\\\"\\\"Decorate the current axes.\\n\\n    Call decorate with keyword arguments like\\n    decorate(title='Title',\\n             xlabel='x',\\n             ylabel='y')\\n\\n    The keyword arguments can be any of the axis properties\\n    https://matplotlib.org/api/axes_api.html\\n    \\\"\\\"\\\"\\n    ax = plt.gca()\\n    ax.set(**options)\\n\\n    handles, labels = ax.get_legend_handles_labels()\\n    if handles:\\n        ax.legend(handles, labels)\\n\\n    plt.tight_layout()\";\n",
       "                var nbb_formatted_code = \"def decorate(**options):\\n    \\\"\\\"\\\"Decorate the current axes.\\n\\n    Call decorate with keyword arguments like\\n    decorate(title='Title',\\n             xlabel='x',\\n             ylabel='y')\\n\\n    The keyword arguments can be any of the axis properties\\n    https://matplotlib.org/api/axes_api.html\\n    \\\"\\\"\\\"\\n    ax = plt.gca()\\n    ax.set(**options)\\n\\n    handles, labels = ax.get_legend_handles_labels()\\n    if handles:\\n        ax.legend(handles, labels)\\n\\n    plt.tight_layout()\";\n",
       "                var nbb_cells = Jupyter.notebook.get_cells();\n",
       "                for (var i = 0; i < nbb_cells.length; ++i) {\n",
       "                    if (nbb_cells[i].input_prompt_number == nbb_cell_id) {\n",
       "                        if (nbb_cells[i].get_text() == nbb_unformatted_code) {\n",
       "                             nbb_cells[i].set_text(nbb_formatted_code);\n",
       "                        }\n",
       "                        break;\n",
       "                    }\n",
       "                }\n",
       "            }, 500);\n",
       "            "
      ],
      "text/plain": [
       "<IPython.core.display.Javascript object>"
      ]
     },
     "metadata": {},
     "output_type": "display_data"
    }
   ],
   "source": [
    "def decorate(**options):\n",
    "    \"\"\"Decorate the current axes.\n",
    "\n",
    "    Call decorate with keyword arguments like\n",
    "    decorate(title='Title',\n",
    "             xlabel='x',\n",
    "             ylabel='y')\n",
    "\n",
    "    The keyword arguments can be any of the axis properties\n",
    "    https://matplotlib.org/api/axes_api.html\n",
    "    \"\"\"\n",
    "    ax = plt.gca()\n",
    "    ax.set(**options)\n",
    "\n",
    "    handles, labels = ax.get_legend_handles_labels()\n",
    "    if handles:\n",
    "        ax.legend(handles, labels)\n",
    "\n",
    "    plt.tight_layout()"
   ]
  },
  {
   "cell_type": "markdown",
   "id": "c1d225ff",
   "metadata": {},
   "source": [
    "## Read the Data"
   ]
  },
  {
   "cell_type": "code",
   "execution_count": 49,
   "id": "f6054bbf",
   "metadata": {
    "tags": [
     "hide-cell"
    ]
   },
   "outputs": [
    {
     "data": {
      "application/javascript": [
       "\n",
       "            setTimeout(function() {\n",
       "                var nbb_cell_id = 49;\n",
       "                var nbb_unformatted_code = \"from os.path import basename, exists\\nfrom pathlib import Path\\n\\n\\ndef download(url, data_dir=\\\"../data\\\"):\\n    filename = Path(data_dir) / basename(url)\\n    if not exists(filename):\\n        from urllib.request import urlretrieve\\n\\n        local, _ = urlretrieve(url, filename)\\n        print(\\\"Downloaded \\\" + str(local))\\n    return filename\";\n",
       "                var nbb_formatted_code = \"from os.path import basename, exists\\nfrom pathlib import Path\\n\\n\\ndef download(url, data_dir=\\\"../data\\\"):\\n    filename = Path(data_dir) / basename(url)\\n    if not exists(filename):\\n        from urllib.request import urlretrieve\\n\\n        local, _ = urlretrieve(url, filename)\\n        print(\\\"Downloaded \\\" + str(local))\\n    return filename\";\n",
       "                var nbb_cells = Jupyter.notebook.get_cells();\n",
       "                for (var i = 0; i < nbb_cells.length; ++i) {\n",
       "                    if (nbb_cells[i].input_prompt_number == nbb_cell_id) {\n",
       "                        if (nbb_cells[i].get_text() == nbb_unformatted_code) {\n",
       "                             nbb_cells[i].set_text(nbb_formatted_code);\n",
       "                        }\n",
       "                        break;\n",
       "                    }\n",
       "                }\n",
       "            }, 500);\n",
       "            "
      ],
      "text/plain": [
       "<IPython.core.display.Javascript object>"
      ]
     },
     "metadata": {},
     "output_type": "display_data"
    }
   ],
   "source": [
    "from os.path import basename, exists\n",
    "from pathlib import Path\n",
    "\n",
    "\n",
    "def download(url, data_dir=\"../data\"):\n",
    "    filename = Path(data_dir) / basename(url)\n",
    "    if not exists(filename):\n",
    "        from urllib.request import urlretrieve\n",
    "\n",
    "        local, _ = urlretrieve(url, filename)\n",
    "        print(\"Downloaded \" + str(local))\n",
    "    return filename"
   ]
  },
  {
   "cell_type": "code",
   "execution_count": 50,
   "id": "efcf260f",
   "metadata": {
    "tags": [
     "hide-cell"
    ]
   },
   "outputs": [
    {
     "data": {
      "application/javascript": [
       "\n",
       "            setTimeout(function() {\n",
       "                var nbb_cell_id = 50;\n",
       "                var nbb_unformatted_code = \"!mkdir -p ../data\";\n",
       "                var nbb_formatted_code = \"!mkdir -p ../data\";\n",
       "                var nbb_cells = Jupyter.notebook.get_cells();\n",
       "                for (var i = 0; i < nbb_cells.length; ++i) {\n",
       "                    if (nbb_cells[i].input_prompt_number == nbb_cell_id) {\n",
       "                        if (nbb_cells[i].get_text() == nbb_unformatted_code) {\n",
       "                             nbb_cells[i].set_text(nbb_formatted_code);\n",
       "                        }\n",
       "                        break;\n",
       "                    }\n",
       "                }\n",
       "            }, 500);\n",
       "            "
      ],
      "text/plain": [
       "<IPython.core.display.Javascript object>"
      ]
     },
     "metadata": {},
     "output_type": "display_data"
    }
   ],
   "source": [
    "!mkdir -p ../data"
   ]
  },
  {
   "cell_type": "code",
   "execution_count": 51,
   "id": "9dc8db07",
   "metadata": {
    "tags": [
     "hide-cell"
    ]
   },
   "outputs": [
    {
     "data": {
      "application/javascript": [
       "\n",
       "            setTimeout(function() {\n",
       "                var nbb_cell_id = 51;\n",
       "                var nbb_unformatted_code = \"filename = download(\\n    \\\"https://github.com/AllenDowney/ProbablyOverthinkingIt/raw/book/data/gss_simpson.hdf\\\"\\n)\";\n",
       "                var nbb_formatted_code = \"filename = download(\\n    \\\"https://github.com/AllenDowney/ProbablyOverthinkingIt/raw/book/data/gss_simpson.hdf\\\"\\n)\";\n",
       "                var nbb_cells = Jupyter.notebook.get_cells();\n",
       "                for (var i = 0; i < nbb_cells.length; ++i) {\n",
       "                    if (nbb_cells[i].input_prompt_number == nbb_cell_id) {\n",
       "                        if (nbb_cells[i].get_text() == nbb_unformatted_code) {\n",
       "                             nbb_cells[i].set_text(nbb_formatted_code);\n",
       "                        }\n",
       "                        break;\n",
       "                    }\n",
       "                }\n",
       "            }, 500);\n",
       "            "
      ],
      "text/plain": [
       "<IPython.core.display.Javascript object>"
      ]
     },
     "metadata": {},
     "output_type": "display_data"
    }
   ],
   "source": [
    "filename = download(\n",
    "    \"https://github.com/AllenDowney/ProbablyOverthinkingIt/raw/book/data/gss_simpson.hdf\"\n",
    ")"
   ]
  },
  {
   "cell_type": "code",
   "execution_count": 52,
   "id": "9622efe7",
   "metadata": {},
   "outputs": [
    {
     "data": {
      "text/plain": [
       "(68075, 214)"
      ]
     },
     "execution_count": 52,
     "metadata": {},
     "output_type": "execute_result"
    },
    {
     "data": {
      "application/javascript": [
       "\n",
       "            setTimeout(function() {\n",
       "                var nbb_cell_id = 52;\n",
       "                var nbb_unformatted_code = \"gss = pd.read_hdf(filename, \\\"gss\\\").dropna(subset=[\\\"cohort10\\\"])\\ngss.shape\";\n",
       "                var nbb_formatted_code = \"gss = pd.read_hdf(filename, \\\"gss\\\").dropna(subset=[\\\"cohort10\\\"])\\ngss.shape\";\n",
       "                var nbb_cells = Jupyter.notebook.get_cells();\n",
       "                for (var i = 0; i < nbb_cells.length; ++i) {\n",
       "                    if (nbb_cells[i].input_prompt_number == nbb_cell_id) {\n",
       "                        if (nbb_cells[i].get_text() == nbb_unformatted_code) {\n",
       "                             nbb_cells[i].set_text(nbb_formatted_code);\n",
       "                        }\n",
       "                        break;\n",
       "                    }\n",
       "                }\n",
       "            }, 500);\n",
       "            "
      ],
      "text/plain": [
       "<IPython.core.display.Javascript object>"
      ]
     },
     "metadata": {},
     "output_type": "display_data"
    }
   ],
   "source": [
    "gss = pd.read_hdf(filename, \"gss\").dropna(subset=[\"cohort10\"])\n",
    "gss.shape"
   ]
  },
  {
   "cell_type": "markdown",
   "id": "5409bc37",
   "metadata": {},
   "source": [
    "## Quantifying Political Beliefs\n",
    "\n",
    "One of my goals in the chapter is to quantify liberal and conservative beliefs and see how they have changed over time, using data from the [General Social Survey](https://www.norc.org/Research/Projects/Pages/general-social-survey.aspx) (GSS).\n",
    "So, how do we classify beliefs as conservative or liberal? And then, how do we track those beliefs over time?\n",
    "\n",
    "To answer the first question, I started with a list of about 120 core GSS questions that ask about political beliefs, broadly defined.\n",
    "For each question, I identified the responses that were chosen more often by people who consider themselves conservative.\n",
    "\n",
    "Then, I searched for questions with the biggest differences between the responses of liberals and conservatives. From those, I curated a list of fifteen questions that cover a diverse set of topics, with preference for questions that were asked most frequently over the years of the survey.\n",
    "\n",
    "The topics that made the list are not surprising. They include economic issues like public spending on welfare and the environment; policy issues like the legality of guns, drugs, and pornography; as well as questions related to sex education and prayer in schools, capital punishment, assisted suicide, and (of course) abortion. The list also includes three of the questions we looked at in previous sections, related to open housing laws, women in politics, and homosexuality.\n",
    "\n",
    "For the current purpose, we are not concerned with the wording of the questions; we only need to know that liberals and conservatives give different answers. But if you are curious, I'll put the questions at the end of this post."
   ]
  },
  {
   "cell_type": "markdown",
   "id": "56924b06",
   "metadata": {},
   "source": [
    "To classify respondents, I'll use responses to the following question:\n",
    "\n",
    "> I'm going to show you a seven-point scale on which the political views that people might hold are arranged from extremely liberal--point 1--to extremely conservative--point 7. Where would you place yourself on this scale?\n",
    "\n",
    "The points on the scale are Extremely liberal, Liberal, and Slightly liberal; Moderate;\tSlightly conservative, Conservative, and Extremely conservative.\n",
    "\n",
    "I'll lump the first three points into \"Liberal\" and the last three into \"Conservative\", which makes the number of groups manageable and, it turns out, roughly equal in size.\n",
    "Here's how many respondents are in each group."
   ]
  },
  {
   "cell_type": "code",
   "execution_count": 8,
   "id": "906eeb2f",
   "metadata": {},
   "outputs": [
    {
     "data": {
      "text/plain": [
       "Moderate        22674\n",
       "Conservative    20151\n",
       "Liberal         16006\n",
       "Name: polviews3, dtype: int64"
      ]
     },
     "execution_count": 8,
     "metadata": {},
     "output_type": "execute_result"
    },
    {
     "data": {
      "application/javascript": [
       "\n",
       "            setTimeout(function() {\n",
       "                var nbb_cell_id = 8;\n",
       "                var nbb_unformatted_code = \"gss[\\\"polviews3\\\"].value_counts()\";\n",
       "                var nbb_formatted_code = \"gss[\\\"polviews3\\\"].value_counts()\";\n",
       "                var nbb_cells = Jupyter.notebook.get_cells();\n",
       "                for (var i = 0; i < nbb_cells.length; ++i) {\n",
       "                    if (nbb_cells[i].input_prompt_number == nbb_cell_id) {\n",
       "                        if (nbb_cells[i].get_text() == nbb_unformatted_code) {\n",
       "                             nbb_cells[i].set_text(nbb_formatted_code);\n",
       "                        }\n",
       "                        break;\n",
       "                    }\n",
       "                }\n",
       "            }, 500);\n",
       "            "
      ],
      "text/plain": [
       "<IPython.core.display.Javascript object>"
      ]
     },
     "metadata": {},
     "output_type": "display_data"
    }
   ],
   "source": [
    "gss[\"polviews3\"].value_counts()"
   ]
  },
  {
   "cell_type": "markdown",
   "id": "bf81df40",
   "metadata": {},
   "source": [
    "Here are the variable names and the responses chosen more often by conservatives.\n",
    "Most of the questions are binary, but some allow a range of responses."
   ]
  },
  {
   "cell_type": "code",
   "execution_count": 9,
   "id": "6b524887",
   "metadata": {},
   "outputs": [
    {
     "data": {
      "application/javascript": [
       "\n",
       "            setTimeout(function() {\n",
       "                var nbb_cell_id = 9;\n",
       "                var nbb_unformatted_code = \"convervative_values = {\\n    \\\"abany\\\": [2],\\n    \\\"homosex\\\": [1, 2, 3],\\n    \\\"premarsx\\\": [1, 2, 3],\\n    \\\"prayer\\\": [2],\\n    \\\"natfare\\\": [3],\\n    \\\"grass\\\": [2],\\n    \\\"natenvir\\\": [2, 3],  # about right or too much\\n    \\\"divlaw\\\": [2],\\n    \\\"cappun\\\": [1],\\n    \\\"racopen\\\": [1],\\n    \\\"letdie1\\\": [2],\\n    \\\"fepol\\\": [1],\\n    \\\"gunlaw\\\": [2],\\n    \\\"sexeduc\\\": [2],\\n    \\\"pornlaw\\\": [1],\\n}\";\n",
       "                var nbb_formatted_code = \"convervative_values = {\\n    \\\"abany\\\": [2],\\n    \\\"homosex\\\": [1, 2, 3],\\n    \\\"premarsx\\\": [1, 2, 3],\\n    \\\"prayer\\\": [2],\\n    \\\"natfare\\\": [3],\\n    \\\"grass\\\": [2],\\n    \\\"natenvir\\\": [2, 3],  # about right or too much\\n    \\\"divlaw\\\": [2],\\n    \\\"cappun\\\": [1],\\n    \\\"racopen\\\": [1],\\n    \\\"letdie1\\\": [2],\\n    \\\"fepol\\\": [1],\\n    \\\"gunlaw\\\": [2],\\n    \\\"sexeduc\\\": [2],\\n    \\\"pornlaw\\\": [1],\\n}\";\n",
       "                var nbb_cells = Jupyter.notebook.get_cells();\n",
       "                for (var i = 0; i < nbb_cells.length; ++i) {\n",
       "                    if (nbb_cells[i].input_prompt_number == nbb_cell_id) {\n",
       "                        if (nbb_cells[i].get_text() == nbb_unformatted_code) {\n",
       "                             nbb_cells[i].set_text(nbb_formatted_code);\n",
       "                        }\n",
       "                        break;\n",
       "                    }\n",
       "                }\n",
       "            }, 500);\n",
       "            "
      ],
      "text/plain": [
       "<IPython.core.display.Javascript object>"
      ]
     },
     "metadata": {},
     "output_type": "display_data"
    }
   ],
   "source": [
    "convervative_values = {\n",
    "    \"abany\": [2],\n",
    "    \"homosex\": [1, 2, 3],\n",
    "    \"premarsx\": [1, 2, 3],\n",
    "    \"prayer\": [2],\n",
    "    \"natfare\": [3],\n",
    "    \"grass\": [2],\n",
    "    \"natenvir\": [2, 3],  # about right or too much\n",
    "    \"divlaw\": [2],\n",
    "    \"cappun\": [1],\n",
    "    \"racopen\": [1],\n",
    "    \"letdie1\": [2],\n",
    "    \"fepol\": [1],\n",
    "    \"gunlaw\": [2],\n",
    "    \"sexeduc\": [2],\n",
    "    \"pornlaw\": [1],\n",
    "}"
   ]
  },
  {
   "cell_type": "code",
   "execution_count": 10,
   "id": "f920ef1a",
   "metadata": {
    "tags": [
     "hide-cell"
    ]
   },
   "outputs": [
    {
     "data": {
      "application/javascript": [
       "\n",
       "            setTimeout(function() {\n",
       "                var nbb_cell_id = 10;\n",
       "                var nbb_unformatted_code = \"order = [\\n    \\\"homosex\\\",\\n    \\\"cappun\\\",\\n    \\\"grass\\\",\\n    \\\"abany\\\",\\n    \\\"prayer\\\",\\n    \\\"premarsx\\\",\\n    \\\"divlaw\\\",\\n    \\\"natfare\\\",\\n    \\\"natenvir\\\",\\n    \\\"pornlaw\\\",\\n    \\\"racopen\\\",\\n    \\\"letdie1\\\",\\n    \\\"fepol\\\",\\n    \\\"gunlaw\\\",\\n    \\\"sexeduc\\\",\\n]\";\n",
       "                var nbb_formatted_code = \"order = [\\n    \\\"homosex\\\",\\n    \\\"cappun\\\",\\n    \\\"grass\\\",\\n    \\\"abany\\\",\\n    \\\"prayer\\\",\\n    \\\"premarsx\\\",\\n    \\\"divlaw\\\",\\n    \\\"natfare\\\",\\n    \\\"natenvir\\\",\\n    \\\"pornlaw\\\",\\n    \\\"racopen\\\",\\n    \\\"letdie1\\\",\\n    \\\"fepol\\\",\\n    \\\"gunlaw\\\",\\n    \\\"sexeduc\\\",\\n]\";\n",
       "                var nbb_cells = Jupyter.notebook.get_cells();\n",
       "                for (var i = 0; i < nbb_cells.length; ++i) {\n",
       "                    if (nbb_cells[i].input_prompt_number == nbb_cell_id) {\n",
       "                        if (nbb_cells[i].get_text() == nbb_unformatted_code) {\n",
       "                             nbb_cells[i].set_text(nbb_formatted_code);\n",
       "                        }\n",
       "                        break;\n",
       "                    }\n",
       "                }\n",
       "            }, 500);\n",
       "            "
      ],
      "text/plain": [
       "<IPython.core.display.Javascript object>"
      ]
     },
     "metadata": {},
     "output_type": "display_data"
    }
   ],
   "source": [
    "order = [\n",
    "    \"homosex\",\n",
    "    \"cappun\",\n",
    "    \"grass\",\n",
    "    \"abany\",\n",
    "    \"prayer\",\n",
    "    \"premarsx\",\n",
    "    \"divlaw\",\n",
    "    \"natfare\",\n",
    "    \"natenvir\",\n",
    "    \"pornlaw\",\n",
    "    \"racopen\",\n",
    "    \"letdie1\",\n",
    "    \"fepol\",\n",
    "    \"gunlaw\",\n",
    "    \"sexeduc\",\n",
    "]"
   ]
  },
  {
   "cell_type": "markdown",
   "id": "3937f884",
   "metadata": {},
   "source": [
    "I'll extract the answers to the fifteen questions into a `DataFrame` of boolean values, `True` if the respondent chose a conservative response, `False` if they didn't and `NaN` if they were not asked the question or didn't answer."
   ]
  },
  {
   "cell_type": "code",
   "execution_count": 11,
   "id": "3d5b6a8a",
   "metadata": {},
   "outputs": [
    {
     "data": {
      "application/javascript": [
       "\n",
       "            setTimeout(function() {\n",
       "                var nbb_cell_id = 11;\n",
       "                var nbb_unformatted_code = \"questions = pd.DataFrame(dtype=int)\\n\\nfor varname in order:\\n    questions[varname] = gss[varname].isin(convervative_values[varname])\\n    null = gss[varname].isna()\\n    questions.loc[null, varname] = np.nan\";\n",
       "                var nbb_formatted_code = \"questions = pd.DataFrame(dtype=int)\\n\\nfor varname in order:\\n    questions[varname] = gss[varname].isin(convervative_values[varname])\\n    null = gss[varname].isna()\\n    questions.loc[null, varname] = np.nan\";\n",
       "                var nbb_cells = Jupyter.notebook.get_cells();\n",
       "                for (var i = 0; i < nbb_cells.length; ++i) {\n",
       "                    if (nbb_cells[i].input_prompt_number == nbb_cell_id) {\n",
       "                        if (nbb_cells[i].get_text() == nbb_unformatted_code) {\n",
       "                             nbb_cells[i].set_text(nbb_formatted_code);\n",
       "                        }\n",
       "                        break;\n",
       "                    }\n",
       "                }\n",
       "            }, 500);\n",
       "            "
      ],
      "text/plain": [
       "<IPython.core.display.Javascript object>"
      ]
     },
     "metadata": {},
     "output_type": "display_data"
    }
   ],
   "source": [
    "questions = pd.DataFrame(dtype=int)\n",
    "\n",
    "for varname in order:\n",
    "    questions[varname] = gss[varname].isin(convervative_values[varname])\n",
    "    null = gss[varname].isna()\n",
    "    questions.loc[null, varname] = np.nan"
   ]
  },
  {
   "cell_type": "markdown",
   "id": "616fa463",
   "metadata": {},
   "source": [
    "For each questions, here's the fraction of all respondents who chose a conservative response."
   ]
  },
  {
   "cell_type": "code",
   "execution_count": 12,
   "id": "33f2f925",
   "metadata": {},
   "outputs": [
    {
     "data": {
      "text/plain": [
       "sexeduc     0.122969\n",
       "gunlaw      0.247280\n",
       "fepol       0.287992\n",
       "letdie1     0.316496\n",
       "pornlaw     0.367675\n",
       "racopen     0.380868\n",
       "natenvir    0.382537\n",
       "natfare     0.473809\n",
       "divlaw      0.491176\n",
       "premarsx    0.545764\n",
       "abany       0.588234\n",
       "prayer      0.594343\n",
       "grass       0.690151\n",
       "cappun      0.706214\n",
       "homosex     0.715237\n",
       "dtype: float64"
      ]
     },
     "execution_count": 12,
     "metadata": {},
     "output_type": "execute_result"
    },
    {
     "data": {
      "application/javascript": [
       "\n",
       "            setTimeout(function() {\n",
       "                var nbb_cell_id = 12;\n",
       "                var nbb_unformatted_code = \"questions.mean().sort_values()\";\n",
       "                var nbb_formatted_code = \"questions.mean().sort_values()\";\n",
       "                var nbb_cells = Jupyter.notebook.get_cells();\n",
       "                for (var i = 0; i < nbb_cells.length; ++i) {\n",
       "                    if (nbb_cells[i].input_prompt_number == nbb_cell_id) {\n",
       "                        if (nbb_cells[i].get_text() == nbb_unformatted_code) {\n",
       "                             nbb_cells[i].set_text(nbb_formatted_code);\n",
       "                        }\n",
       "                        break;\n",
       "                    }\n",
       "                }\n",
       "            }, 500);\n",
       "            "
      ],
      "text/plain": [
       "<IPython.core.display.Javascript object>"
      ]
     },
     "metadata": {},
     "output_type": "display_data"
    }
   ],
   "source": [
    "questions.mean().sort_values()"
   ]
  },
  {
   "cell_type": "markdown",
   "id": "efecfee3",
   "metadata": {},
   "source": [
    "Now let's group the respondents by political label and compute the percentage of conservative responses in each."
   ]
  },
  {
   "cell_type": "code",
   "execution_count": 13,
   "id": "25813246",
   "metadata": {},
   "outputs": [
    {
     "data": {
      "text/html": [
       "<div>\n",
       "<style scoped>\n",
       "    .dataframe tbody tr th:only-of-type {\n",
       "        vertical-align: middle;\n",
       "    }\n",
       "\n",
       "    .dataframe tbody tr th {\n",
       "        vertical-align: top;\n",
       "    }\n",
       "\n",
       "    .dataframe thead th {\n",
       "        text-align: right;\n",
       "    }\n",
       "</style>\n",
       "<table border=\"1\" class=\"dataframe\">\n",
       "  <thead>\n",
       "    <tr style=\"text-align: right;\">\n",
       "      <th>polviews3</th>\n",
       "      <th>Conservative</th>\n",
       "      <th>Liberal</th>\n",
       "      <th>Moderate</th>\n",
       "    </tr>\n",
       "  </thead>\n",
       "  <tbody>\n",
       "    <tr>\n",
       "      <th>homosex</th>\n",
       "      <td>81.451613</td>\n",
       "      <td>54.716981</td>\n",
       "      <td>71.971581</td>\n",
       "    </tr>\n",
       "    <tr>\n",
       "      <th>cappun</th>\n",
       "      <td>79.277404</td>\n",
       "      <td>57.482234</td>\n",
       "      <td>72.702286</td>\n",
       "    </tr>\n",
       "    <tr>\n",
       "      <th>grass</th>\n",
       "      <td>76.629890</td>\n",
       "      <td>55.201863</td>\n",
       "      <td>68.811501</td>\n",
       "    </tr>\n",
       "    <tr>\n",
       "      <th>abany</th>\n",
       "      <td>69.364351</td>\n",
       "      <td>42.418054</td>\n",
       "      <td>59.065954</td>\n",
       "    </tr>\n",
       "    <tr>\n",
       "      <th>prayer</th>\n",
       "      <td>66.934087</td>\n",
       "      <td>44.098649</td>\n",
       "      <td>62.514552</td>\n",
       "    </tr>\n",
       "    <tr>\n",
       "      <th>premarsx</th>\n",
       "      <td>65.097607</td>\n",
       "      <td>39.699676</td>\n",
       "      <td>52.196638</td>\n",
       "    </tr>\n",
       "    <tr>\n",
       "      <th>divlaw</th>\n",
       "      <td>58.520050</td>\n",
       "      <td>38.285834</td>\n",
       "      <td>48.083854</td>\n",
       "    </tr>\n",
       "    <tr>\n",
       "      <th>natfare</th>\n",
       "      <td>58.065690</td>\n",
       "      <td>34.331875</td>\n",
       "      <td>47.990982</td>\n",
       "    </tr>\n",
       "    <tr>\n",
       "      <th>natenvir</th>\n",
       "      <td>48.395992</td>\n",
       "      <td>26.128530</td>\n",
       "      <td>37.341671</td>\n",
       "    </tr>\n",
       "    <tr>\n",
       "      <th>pornlaw</th>\n",
       "      <td>44.122149</td>\n",
       "      <td>25.163528</td>\n",
       "      <td>35.973006</td>\n",
       "    </tr>\n",
       "    <tr>\n",
       "      <th>racopen</th>\n",
       "      <td>42.619643</td>\n",
       "      <td>28.113565</td>\n",
       "      <td>37.251356</td>\n",
       "    </tr>\n",
       "    <tr>\n",
       "      <th>letdie1</th>\n",
       "      <td>38.535436</td>\n",
       "      <td>24.047427</td>\n",
       "      <td>28.388457</td>\n",
       "    </tr>\n",
       "    <tr>\n",
       "      <th>fepol</th>\n",
       "      <td>33.392969</td>\n",
       "      <td>21.531808</td>\n",
       "      <td>27.896720</td>\n",
       "    </tr>\n",
       "    <tr>\n",
       "      <th>gunlaw</th>\n",
       "      <td>31.051863</td>\n",
       "      <td>18.366808</td>\n",
       "      <td>23.498143</td>\n",
       "    </tr>\n",
       "    <tr>\n",
       "      <th>sexeduc</th>\n",
       "      <td>18.271120</td>\n",
       "      <td>7.282686</td>\n",
       "      <td>9.348565</td>\n",
       "    </tr>\n",
       "  </tbody>\n",
       "</table>\n",
       "</div>"
      ],
      "text/plain": [
       "polviews3  Conservative    Liberal   Moderate\n",
       "homosex       81.451613  54.716981  71.971581\n",
       "cappun        79.277404  57.482234  72.702286\n",
       "grass         76.629890  55.201863  68.811501\n",
       "abany         69.364351  42.418054  59.065954\n",
       "prayer        66.934087  44.098649  62.514552\n",
       "premarsx      65.097607  39.699676  52.196638\n",
       "divlaw        58.520050  38.285834  48.083854\n",
       "natfare       58.065690  34.331875  47.990982\n",
       "natenvir      48.395992  26.128530  37.341671\n",
       "pornlaw       44.122149  25.163528  35.973006\n",
       "racopen       42.619643  28.113565  37.251356\n",
       "letdie1       38.535436  24.047427  28.388457\n",
       "fepol         33.392969  21.531808  27.896720\n",
       "gunlaw        31.051863  18.366808  23.498143\n",
       "sexeduc       18.271120   7.282686   9.348565"
      ]
     },
     "execution_count": 13,
     "metadata": {},
     "output_type": "execute_result"
    },
    {
     "data": {
      "application/javascript": [
       "\n",
       "            setTimeout(function() {\n",
       "                var nbb_cell_id = 13;\n",
       "                var nbb_unformatted_code = \"augmented = pd.concat([questions, gss[\\\"polviews3\\\"]], axis=1)\\ntable = augmented.groupby(\\\"polviews3\\\").mean().transpose() * 100\\ntable\";\n",
       "                var nbb_formatted_code = \"augmented = pd.concat([questions, gss[\\\"polviews3\\\"]], axis=1)\\ntable = augmented.groupby(\\\"polviews3\\\").mean().transpose() * 100\\ntable\";\n",
       "                var nbb_cells = Jupyter.notebook.get_cells();\n",
       "                for (var i = 0; i < nbb_cells.length; ++i) {\n",
       "                    if (nbb_cells[i].input_prompt_number == nbb_cell_id) {\n",
       "                        if (nbb_cells[i].get_text() == nbb_unformatted_code) {\n",
       "                             nbb_cells[i].set_text(nbb_formatted_code);\n",
       "                        }\n",
       "                        break;\n",
       "                    }\n",
       "                }\n",
       "            }, 500);\n",
       "            "
      ],
      "text/plain": [
       "<IPython.core.display.Javascript object>"
      ]
     },
     "metadata": {},
     "output_type": "display_data"
    }
   ],
   "source": [
    "augmented = pd.concat([questions, gss[\"polviews3\"]], axis=1)\n",
    "table = augmented.groupby(\"polviews3\").mean().transpose() * 100\n",
    "table"
   ]
  },
  {
   "cell_type": "markdown",
   "id": "689c4788",
   "metadata": {},
   "source": [
    "Here's a short text description for each question."
   ]
  },
  {
   "cell_type": "code",
   "execution_count": 14,
   "id": "bd100dca",
   "metadata": {},
   "outputs": [
    {
     "data": {
      "application/javascript": [
       "\n",
       "            setTimeout(function() {\n",
       "                var nbb_cell_id = 14;\n",
       "                var nbb_unformatted_code = \"issue_dict = {\\n    \\\"abany\\\": \\\"Abortion\\\",\\n    \\\"homosex\\\": \\\"Homosexuality\\\",\\n    \\\"premarsx\\\": \\\"Premarital sex\\\",\\n    \\\"prayer\\\": \\\"School prayer\\\",\\n    \\\"natfare\\\": \\\"Welfare spending\\\",\\n    \\\"grass\\\": \\\"Legal cannabis\\\",\\n    \\\"natenvir\\\": \\\"Environment\\\",\\n    \\\"divlaw\\\": \\\"Divorce\\\",\\n    \\\"cappun\\\": \\\"Capital punishment\\\",\\n    \\\"racopen\\\": \\\"Fair housing law\\\",\\n    \\\"letdie1\\\": \\\"Assisted suicide\\\",\\n    \\\"fepol\\\": \\\"Women in politics\\\",\\n    \\\"gunlaw\\\": \\\"Gun law\\\",\\n    \\\"sexeduc\\\": \\\"Sex education\\\",\\n    \\\"pornlaw\\\": \\\"Pornography\\\",\\n}\\n\\nissue_names = pd.Series(issue_dict)[order].values\";\n",
       "                var nbb_formatted_code = \"issue_dict = {\\n    \\\"abany\\\": \\\"Abortion\\\",\\n    \\\"homosex\\\": \\\"Homosexuality\\\",\\n    \\\"premarsx\\\": \\\"Premarital sex\\\",\\n    \\\"prayer\\\": \\\"School prayer\\\",\\n    \\\"natfare\\\": \\\"Welfare spending\\\",\\n    \\\"grass\\\": \\\"Legal cannabis\\\",\\n    \\\"natenvir\\\": \\\"Environment\\\",\\n    \\\"divlaw\\\": \\\"Divorce\\\",\\n    \\\"cappun\\\": \\\"Capital punishment\\\",\\n    \\\"racopen\\\": \\\"Fair housing law\\\",\\n    \\\"letdie1\\\": \\\"Assisted suicide\\\",\\n    \\\"fepol\\\": \\\"Women in politics\\\",\\n    \\\"gunlaw\\\": \\\"Gun law\\\",\\n    \\\"sexeduc\\\": \\\"Sex education\\\",\\n    \\\"pornlaw\\\": \\\"Pornography\\\",\\n}\\n\\nissue_names = pd.Series(issue_dict)[order].values\";\n",
       "                var nbb_cells = Jupyter.notebook.get_cells();\n",
       "                for (var i = 0; i < nbb_cells.length; ++i) {\n",
       "                    if (nbb_cells[i].input_prompt_number == nbb_cell_id) {\n",
       "                        if (nbb_cells[i].get_text() == nbb_unformatted_code) {\n",
       "                             nbb_cells[i].set_text(nbb_formatted_code);\n",
       "                        }\n",
       "                        break;\n",
       "                    }\n",
       "                }\n",
       "            }, 500);\n",
       "            "
      ],
      "text/plain": [
       "<IPython.core.display.Javascript object>"
      ]
     },
     "metadata": {},
     "output_type": "display_data"
    }
   ],
   "source": [
    "issue_dict = {\n",
    "    \"abany\": \"Abortion\",\n",
    "    \"homosex\": \"Homosexuality\",\n",
    "    \"premarsx\": \"Premarital sex\",\n",
    "    \"prayer\": \"School prayer\",\n",
    "    \"natfare\": \"Welfare spending\",\n",
    "    \"grass\": \"Legal cannabis\",\n",
    "    \"natenvir\": \"Environment\",\n",
    "    \"divlaw\": \"Divorce\",\n",
    "    \"cappun\": \"Capital punishment\",\n",
    "    \"racopen\": \"Fair housing law\",\n",
    "    \"letdie1\": \"Assisted suicide\",\n",
    "    \"fepol\": \"Women in politics\",\n",
    "    \"gunlaw\": \"Gun law\",\n",
    "    \"sexeduc\": \"Sex education\",\n",
    "    \"pornlaw\": \"Pornography\",\n",
    "}\n",
    "\n",
    "issue_names = pd.Series(issue_dict)[order].values"
   ]
  },
  {
   "cell_type": "markdown",
   "id": "dadabcf1",
   "metadata": {},
   "source": [
    "The following figure shows, for each question, the percentage of liberals, moderates, and conservatives who chose one of the conservative responses."
   ]
  },
  {
   "cell_type": "code",
   "execution_count": 15,
   "id": "b6963939",
   "metadata": {
    "tags": [
     "hide-cell"
    ]
   },
   "outputs": [
    {
     "data": {
      "application/javascript": [
       "\n",
       "            setTimeout(function() {\n",
       "                var nbb_cell_id = 15;\n",
       "                var nbb_unformatted_code = \"polview_names = [\\\"Conservative\\\", \\\"Moderate\\\", \\\"Liberal\\\"]\\n\\nmuted = sns.color_palette(\\\"muted\\\", 5)\\npolview_map = dict(zip(polview_names, [muted[3], muted[4], muted[0]]))\\nmarker_map = dict(zip(polview_names, [\\\"s\\\", \\\"^\\\", \\\"o\\\"]))\\nline_map = dict(zip(polview_names, [\\\"--\\\", \\\"-.\\\", \\\":\\\"]))\";\n",
       "                var nbb_formatted_code = \"polview_names = [\\\"Conservative\\\", \\\"Moderate\\\", \\\"Liberal\\\"]\\n\\nmuted = sns.color_palette(\\\"muted\\\", 5)\\npolview_map = dict(zip(polview_names, [muted[3], muted[4], muted[0]]))\\nmarker_map = dict(zip(polview_names, [\\\"s\\\", \\\"^\\\", \\\"o\\\"]))\\nline_map = dict(zip(polview_names, [\\\"--\\\", \\\"-.\\\", \\\":\\\"]))\";\n",
       "                var nbb_cells = Jupyter.notebook.get_cells();\n",
       "                for (var i = 0; i < nbb_cells.length; ++i) {\n",
       "                    if (nbb_cells[i].input_prompt_number == nbb_cell_id) {\n",
       "                        if (nbb_cells[i].get_text() == nbb_unformatted_code) {\n",
       "                             nbb_cells[i].set_text(nbb_formatted_code);\n",
       "                        }\n",
       "                        break;\n",
       "                    }\n",
       "                }\n",
       "            }, 500);\n",
       "            "
      ],
      "text/plain": [
       "<IPython.core.display.Javascript object>"
      ]
     },
     "metadata": {},
     "output_type": "display_data"
    }
   ],
   "source": [
    "polview_names = [\"Conservative\", \"Moderate\", \"Liberal\"]\n",
    "\n",
    "muted = sns.color_palette(\"muted\", 5)\n",
    "polview_map = dict(zip(polview_names, [muted[3], muted[4], muted[0]]))\n",
    "marker_map = dict(zip(polview_names, [\"s\", \"^\", \"o\"]))\n",
    "line_map = dict(zip(polview_names, [\"--\", \"-.\", \":\"]))"
   ]
  },
  {
   "cell_type": "code",
   "execution_count": 16,
   "id": "1b98e213",
   "metadata": {
    "tags": [
     "hide-input"
    ]
   },
   "outputs": [
    {
     "data": {
      "image/png": "[encoded data removed]",
      "text/plain": [
       "<Figure size 504x324 with 1 Axes>"
      ]
     },
     "metadata": {
      "needs_background": "light"
     },
     "output_type": "display_data"
    },
    {
     "data": {
      "application/javascript": [
       "\n",
       "            setTimeout(function() {\n",
       "                var nbb_cell_id = 16;\n",
       "                var nbb_unformatted_code = \"plt.figure(figsize=(7, 4.5))\\nplt.hlines(\\n    issue_names,\\n    table[\\\"Liberal\\\"],\\n    table[\\\"Conservative\\\"],\\n    color=\\\"gray\\\",\\n    alpha=0.2,\\n)\\n\\nfor polviews, color in polview_map.items():\\n    x = table[polviews]\\n    marker = marker_map[polviews]\\n    plt.plot(x, issue_names, marker, color=color, alpha=0.9, label=polviews)\\n\\ndecorate(xlabel=\\\"Percent choosing conservative responses\\\")\";\n",
       "                var nbb_formatted_code = \"plt.figure(figsize=(7, 4.5))\\nplt.hlines(\\n    issue_names,\\n    table[\\\"Liberal\\\"],\\n    table[\\\"Conservative\\\"],\\n    color=\\\"gray\\\",\\n    alpha=0.2,\\n)\\n\\nfor polviews, color in polview_map.items():\\n    x = table[polviews]\\n    marker = marker_map[polviews]\\n    plt.plot(x, issue_names, marker, color=color, alpha=0.9, label=polviews)\\n\\ndecorate(xlabel=\\\"Percent choosing conservative responses\\\")\";\n",
       "                var nbb_cells = Jupyter.notebook.get_cells();\n",
       "                for (var i = 0; i < nbb_cells.length; ++i) {\n",
       "                    if (nbb_cells[i].input_prompt_number == nbb_cell_id) {\n",
       "                        if (nbb_cells[i].get_text() == nbb_unformatted_code) {\n",
       "                             nbb_cells[i].set_text(nbb_formatted_code);\n",
       "                        }\n",
       "                        break;\n",
       "                    }\n",
       "                }\n",
       "            }, 500);\n",
       "            "
      ],
      "text/plain": [
       "<IPython.core.display.Javascript object>"
      ]
     },
     "metadata": {},
     "output_type": "display_data"
    }
   ],
   "source": [
    "plt.figure(figsize=(7, 4.5))\n",
    "plt.hlines(\n",
    "    issue_names,\n",
    "    table[\"Liberal\"],\n",
    "    table[\"Conservative\"],\n",
    "    color=\"gray\",\n",
    "    alpha=0.2,\n",
    ")\n",
    "\n",
    "for polviews, color in polview_map.items():\n",
    "    x = table[polviews]\n",
    "    marker = marker_map[polviews]\n",
    "    plt.plot(x, issue_names, marker, color=color, alpha=0.9, label=polviews)\n",
    "\n",
    "decorate(xlabel=\"Percent choosing conservative responses\")"
   ]
  },
  {
   "cell_type": "markdown",
   "id": "030794cf",
   "metadata": {},
   "source": [
    "Not surprisingly, conservatives are more likely than liberals to choose conservative responses, and moderates are somewhere in the middle.\n",
    "The differences between the groups range from 11 to 27 percentage points."
   ]
  },
  {
   "cell_type": "code",
   "execution_count": 17,
   "id": "8c2c97e0",
   "metadata": {
    "tags": [
     "remove-cell"
    ]
   },
   "outputs": [
    {
     "data": {
      "text/plain": [
       "sexeduc     10.988434\n",
       "fepol       11.861161\n",
       "gunlaw      12.685055\n",
       "letdie1     14.488009\n",
       "racopen     14.506078\n",
       "pornlaw     18.958621\n",
       "divlaw      20.234216\n",
       "grass       21.428026\n",
       "cappun      21.795171\n",
       "natenvir    22.267462\n",
       "prayer      22.835438\n",
       "natfare     23.733815\n",
       "premarsx    25.397931\n",
       "homosex     26.734632\n",
       "abany       26.946298\n",
       "dtype: float64"
      ]
     },
     "execution_count": 17,
     "metadata": {},
     "output_type": "execute_result"
    },
    {
     "data": {
      "application/javascript": [
       "\n",
       "            setTimeout(function() {\n",
       "                var nbb_cell_id = 17;\n",
       "                var nbb_unformatted_code = \"(table[\\\"Conservative\\\"] - table[\\\"Liberal\\\"]).sort_values()\";\n",
       "                var nbb_formatted_code = \"(table[\\\"Conservative\\\"] - table[\\\"Liberal\\\"]).sort_values()\";\n",
       "                var nbb_cells = Jupyter.notebook.get_cells();\n",
       "                for (var i = 0; i < nbb_cells.length; ++i) {\n",
       "                    if (nbb_cells[i].input_prompt_number == nbb_cell_id) {\n",
       "                        if (nbb_cells[i].get_text() == nbb_unformatted_code) {\n",
       "                             nbb_cells[i].set_text(nbb_formatted_code);\n",
       "                        }\n",
       "                        break;\n",
       "                    }\n",
       "                }\n",
       "            }, 500);\n",
       "            "
      ],
      "text/plain": [
       "<IPython.core.display.Javascript object>"
      ]
     },
     "metadata": {},
     "output_type": "display_data"
    }
   ],
   "source": [
    "(table[\"Conservative\"] - table[\"Liberal\"]).sort_values()"
   ]
  },
  {
   "cell_type": "markdown",
   "id": "8ee2055f",
   "metadata": {},
   "source": [
    "These results include respondents over the interval from 1973 to 2021, so they are not a snapshot of recent conditions.\n",
    "Rather, they show the issues that have distinguished conservatives from liberals over the last 50 years."
   ]
  },
  {
   "cell_type": "markdown",
   "id": "11e11975",
   "metadata": {},
   "source": [
    "## Estimating Conservatism\n",
    "\n",
    "Now that we've chosen questions that distinguish liberals and conservatives, the next step is to estimate the conservatism of each respondent.\n",
    "If all respondents answered all of the questions, this would be relatively easy, but they didn't.\n",
    "\n",
    "Some were surveyed before a particular question was added to the survey or after it was removed.\n",
    "Also, in some years respondents were randomly assigned a \"ballot\" with subset of the questions.\n",
    "Finally, a small percentage of respondents refuse to answer some questions, or say \"I don't know\".\n",
    "\n",
    "The following figure shows the distribution of the number of questions answered."
   ]
  },
  {
   "cell_type": "code",
   "execution_count": 18,
   "id": "268ffcbf",
   "metadata": {
    "tags": [
     "hide-input"
    ]
   },
   "outputs": [
    {
     "data": {
      "image/png": "[encoded data removed]",
      "text/plain": [
       "<Figure size 432x288 with 1 Axes>"
      ]
     },
     "metadata": {
      "needs_background": "light"
     },
     "output_type": "display_data"
    },
    {
     "data": {
      "application/javascript": [
       "\n",
       "            setTimeout(function() {\n",
       "                var nbb_cell_id = 18;\n",
       "                var nbb_unformatted_code = \"# most people answered 5 of more questions\\n\\nfrom empiricaldist import Cdf\\n\\nanswered = questions.notna().sum(axis=1)\\nCdf.from_seq(answered).plot()\\n\\ndecorate(xlabel=\\\"Number of questions answered\\\", ylabel=\\\"PMF\\\")\";\n",
       "                var nbb_formatted_code = \"# most people answered 5 of more questions\\n\\nfrom empiricaldist import Cdf\\n\\nanswered = questions.notna().sum(axis=1)\\nCdf.from_seq(answered).plot()\\n\\ndecorate(xlabel=\\\"Number of questions answered\\\", ylabel=\\\"PMF\\\")\";\n",
       "                var nbb_cells = Jupyter.notebook.get_cells();\n",
       "                for (var i = 0; i < nbb_cells.length; ++i) {\n",
       "                    if (nbb_cells[i].input_prompt_number == nbb_cell_id) {\n",
       "                        if (nbb_cells[i].get_text() == nbb_unformatted_code) {\n",
       "                             nbb_cells[i].set_text(nbb_formatted_code);\n",
       "                        }\n",
       "                        break;\n",
       "                    }\n",
       "                }\n",
       "            }, 500);\n",
       "            "
      ],
      "text/plain": [
       "<IPython.core.display.Javascript object>"
      ]
     },
     "metadata": {},
     "output_type": "display_data"
    }
   ],
   "source": [
    "from empiricaldist import Cdf\n",
    "\n",
    "answered = questions.notna().sum(axis=1)\n",
    "Cdf.from_seq(answered).plot()\n",
    "\n",
    "decorate(xlabel=\"Number of questions answered\", ylabel=\"PMF\")"
   ]
  },
  {
   "cell_type": "markdown",
   "id": "8f63a675",
   "metadata": {},
   "source": [
    "Most respondents answered at least 5 questions, which is enough to get a sense of how conservative they are.\n",
    "But there's another problem: some questions are \"easier\" than others.\n",
    "For some questions a majority choose a conservative response; for others it's a small minority.\n",
    "If two people answer a different subject of the questions, we can't compare them directly.\n",
    "\n",
    "However, this is exactly the problem [item response theory](https://en.wikipedia.org/wiki/Item_response_theory) (IRT) is intended to solve!\n",
    "The fundamental assumptions of IRT are:\n",
    "\n",
    "* Each question has some level of difficulty, $d_j$.\n",
    "\n",
    "* Each respondent has some level of efficacy, $e_i$.\n",
    "\n",
    "* The probability that a respondent gets a question right is a function of $d_j$ and $e_i$.\n",
    "\n",
    "In this context, a question is \"difficult\" if few people choose a conservative response and \"easy\" if many do.\n",
    "And if a respondent has high \"efficacy\", that means they have a high tendency to choose conservative responses."
   ]
  },
  {
   "cell_type": "markdown",
   "id": "51cdfb00",
   "metadata": {},
   "source": [
    "In one simple version of IRT, if a person with efficacy $e_i$ answers a question with difficulty $d_j$, the probability they get it right is \n",
    "\n",
    "$$ \\operatorname{expit}~(e_i - d_j)$$\n",
    "\n",
    "Efficacy and difficulty are latent attributes; that is, we don't observe them directly. Rather, we infer them from data.\n",
    "In some models, we use a large dataset to estimate $e$ for each respondent and $d$ for each question simultaneously.\n",
    "For this problem, that would be impractical, so I'll use a shortcut: I'll use the data to assign a difficulty to each question.\n",
    "Then I can estimate the efficacy of each respondent independently, which is simple and fast."
   ]
  },
  {
   "cell_type": "markdown",
   "id": "705c60b1",
   "metadata": {},
   "source": [
    "For each question, we know the proportion of respondents who chose a conservative response, which I'll call $p_j$.\n",
    "\n",
    "To assign a difficulty to each question, I'll use this heuristic: the difficulty of a question, $d_j$, is the value so that if the question is answered by someone with $e=0$, the probability they get it \"right\" is $p_j$.\n",
    "This heuristic leads to the assignment:\n",
    "\n",
    "$$ d_j = -\\operatorname{logit}~(p_j) $$\n",
    "\n",
    "The following figure shows these values for the fifteen questions."
   ]
  },
  {
   "cell_type": "code",
   "execution_count": 19,
   "id": "348f90fd",
   "metadata": {},
   "outputs": [
    {
     "data": {
      "text/plain": [
       "homosex    -0.920956\n",
       "cappun     -0.877069\n",
       "grass      -0.800827\n",
       "abany      -0.356669\n",
       "prayer     -0.381949\n",
       "premarsx   -0.183572\n",
       "divlaw      0.035300\n",
       "natfare     0.104861\n",
       "natenvir    0.478795\n",
       "pornlaw     0.542204\n",
       "racopen     0.485867\n",
       "letdie1     0.769923\n",
       "fepol       0.905155\n",
       "gunlaw      1.113172\n",
       "sexeduc     1.964611\n",
       "dtype: float64"
      ]
     },
     "execution_count": 19,
     "metadata": {},
     "output_type": "execute_result"
    },
    {
     "data": {
      "application/javascript": [
       "\n",
       "            setTimeout(function() {\n",
       "                var nbb_cell_id = 19;\n",
       "                var nbb_unformatted_code = \"from scipy.special import logit\\n\\ndifficulty = -logit(questions.mean())\\ndifficulty\";\n",
       "                var nbb_formatted_code = \"from scipy.special import logit\\n\\ndifficulty = -logit(questions.mean())\\ndifficulty\";\n",
       "                var nbb_cells = Jupyter.notebook.get_cells();\n",
       "                for (var i = 0; i < nbb_cells.length; ++i) {\n",
       "                    if (nbb_cells[i].input_prompt_number == nbb_cell_id) {\n",
       "                        if (nbb_cells[i].get_text() == nbb_unformatted_code) {\n",
       "                             nbb_cells[i].set_text(nbb_formatted_code);\n",
       "                        }\n",
       "                        break;\n",
       "                    }\n",
       "                }\n",
       "            }, 500);\n",
       "            "
      ],
      "text/plain": [
       "<IPython.core.display.Javascript object>"
      ]
     },
     "metadata": {},
     "output_type": "display_data"
    }
   ],
   "source": [
    "from scipy.special import logit\n",
    "\n",
    "difficulty = -logit(questions.mean())\n",
    "difficulty"
   ]
  },
  {
   "cell_type": "code",
   "execution_count": 20,
   "id": "025aa7a9",
   "metadata": {
    "tags": [
     "hide-input"
    ]
   },
   "outputs": [
    {
     "data": {
      "image/png": "[encoded data removed]",
      "text/plain": [
       "<Figure size 504x324 with 1 Axes>"
      ]
     },
     "metadata": {
      "needs_background": "light"
     },
     "output_type": "display_data"
    },
    {
     "data": {
      "application/javascript": [
       "\n",
       "            setTimeout(function() {\n",
       "                var nbb_cell_id = 20;\n",
       "                var nbb_unformatted_code = \"plt.figure(figsize=(7, 4.5))\\n\\nplt.plot(difficulty, issue_names, \\\"x\\\")\\n\\ndecorate(xlabel=\\\"Difficulty (logit scale)\\\")\";\n",
       "                var nbb_formatted_code = \"plt.figure(figsize=(7, 4.5))\\n\\nplt.plot(difficulty, issue_names, \\\"x\\\")\\n\\ndecorate(xlabel=\\\"Difficulty (logit scale)\\\")\";\n",
       "                var nbb_cells = Jupyter.notebook.get_cells();\n",
       "                for (var i = 0; i < nbb_cells.length; ++i) {\n",
       "                    if (nbb_cells[i].input_prompt_number == nbb_cell_id) {\n",
       "                        if (nbb_cells[i].get_text() == nbb_unformatted_code) {\n",
       "                             nbb_cells[i].set_text(nbb_formatted_code);\n",
       "                        }\n",
       "                        break;\n",
       "                    }\n",
       "                }\n",
       "            }, 500);\n",
       "            "
      ],
      "text/plain": [
       "<IPython.core.display.Javascript object>"
      ]
     },
     "metadata": {},
     "output_type": "display_data"
    }
   ],
   "source": [
    "plt.figure(figsize=(7, 4.5))\n",
    "\n",
    "plt.plot(difficulty, issue_names, \"x\")\n",
    "\n",
    "decorate(xlabel=\"Difficulty (logit scale)\")"
   ]
  },
  {
   "cell_type": "markdown",
   "id": "3294ef00",
   "metadata": {},
   "source": [
    "Where $p_j$ is low, $d_j$ is high.\n",
    "The range of these values, by itself, doesn't mean very much; what matters is how the values of $e$ and $d$ relate to each other.\n",
    "\n",
    "Given the assigned difficulties, we can identify a useful range of values for efficacy.\n",
    "The following figure shows the range I used, from -6 to 6."
   ]
  },
  {
   "cell_type": "code",
   "execution_count": 21,
   "id": "5f0d930d",
   "metadata": {
    "tags": [
     "hide-input"
    ]
   },
   "outputs": [
    {
     "data": {
      "image/png": "[encoded data removed]",
      "text/plain": [
       "<Figure size 432x288 with 1 Axes>"
      ]
     },
     "metadata": {
      "needs_background": "light"
     },
     "output_type": "display_data"
    },
    {
     "data": {
      "application/javascript": [
       "\n",
       "            setTimeout(function() {\n",
       "                var nbb_cell_id = 21;\n",
       "                var nbb_unformatted_code = \"from scipy.special import expit\\n\\nes = np.linspace(-6, 6, 21)\\n\\nfor d in [-1, 0, 1, 2]:\\n    p = expit(es - d)\\n    plt.plot(es, p, label=f\\\"$d$ = {d}\\\")\\n\\ndecorate(xlabel=\\\"Efficacy\\\", ylabel=\\\"Probability of giving conservative answer\\\")\";\n",
       "                var nbb_formatted_code = \"from scipy.special import expit\\n\\nes = np.linspace(-6, 6, 21)\\n\\nfor d in [-1, 0, 1, 2]:\\n    p = expit(es - d)\\n    plt.plot(es, p, label=f\\\"$d$ = {d}\\\")\\n\\ndecorate(xlabel=\\\"Efficacy\\\", ylabel=\\\"Probability of giving conservative answer\\\")\";\n",
       "                var nbb_cells = Jupyter.notebook.get_cells();\n",
       "                for (var i = 0; i < nbb_cells.length; ++i) {\n",
       "                    if (nbb_cells[i].input_prompt_number == nbb_cell_id) {\n",
       "                        if (nbb_cells[i].get_text() == nbb_unformatted_code) {\n",
       "                             nbb_cells[i].set_text(nbb_formatted_code);\n",
       "                        }\n",
       "                        break;\n",
       "                    }\n",
       "                }\n",
       "            }, 500);\n",
       "            "
      ],
      "text/plain": [
       "<IPython.core.display.Javascript object>"
      ]
     },
     "metadata": {},
     "output_type": "display_data"
    }
   ],
   "source": [
    "from scipy.special import expit\n",
    "\n",
    "es = np.linspace(-6, 6, 21)\n",
    "\n",
    "for d in [-1, 0, 1, 2]:\n",
    "    p = expit(es - d)\n",
    "    plt.plot(es, p, label=f\"$d$ = {d}\")\n",
    "\n",
    "decorate(xlabel=\"Efficacy\", ylabel=\"Probability of giving conservative answer\")"
   ]
  },
  {
   "cell_type": "markdown",
   "id": "0198e636",
   "metadata": {},
   "source": [
    "Someone with efficacy -6 is very liberal; their probability of choosing a conservative response is nearly 0, even for the easiest question ($d = -1$).\n",
    "Someone with efficacy 6 is very conservative; their probability of choosing a conservative responses is nearly 1, even for the most difficulty question ($d = 2$).\n",
    "\n",
    "Given the difficulties of the questions, we can compute the expected number of conservative responses at each level of efficacy."
   ]
  },
  {
   "cell_type": "code",
   "execution_count": 22,
   "id": "72b15b83",
   "metadata": {},
   "outputs": [
    {
     "data": {
      "image/png": "[encoded data removed]",
      "text/plain": [
       "<Figure size 432x288 with 1 Axes>"
      ]
     },
     "metadata": {
      "needs_background": "light"
     },
     "output_type": "display_data"
    },
    {
     "data": {
      "application/javascript": [
       "\n",
       "            setTimeout(function() {\n",
       "                var nbb_cell_id = 22;\n",
       "                var nbb_unformatted_code = \"E, D = np.meshgrid(es, difficulty)\\nP = expit(E - D)\\nns = P.sum(axis=0)\\nplt.plot(es, ns)\\n\\ndecorate(xlabel=\\\"Efficacy\\\", ylabel=\\\"Number of conservative answers\\\")\";\n",
       "                var nbb_formatted_code = \"E, D = np.meshgrid(es, difficulty)\\nP = expit(E - D)\\nns = P.sum(axis=0)\\nplt.plot(es, ns)\\n\\ndecorate(xlabel=\\\"Efficacy\\\", ylabel=\\\"Number of conservative answers\\\")\";\n",
       "                var nbb_cells = Jupyter.notebook.get_cells();\n",
       "                for (var i = 0; i < nbb_cells.length; ++i) {\n",
       "                    if (nbb_cells[i].input_prompt_number == nbb_cell_id) {\n",
       "                        if (nbb_cells[i].get_text() == nbb_unformatted_code) {\n",
       "                             nbb_cells[i].set_text(nbb_formatted_code);\n",
       "                        }\n",
       "                        break;\n",
       "                    }\n",
       "                }\n",
       "            }, 500);\n",
       "            "
      ],
      "text/plain": [
       "<IPython.core.display.Javascript object>"
      ]
     },
     "metadata": {},
     "output_type": "display_data"
    }
   ],
   "source": [
    "E, D = np.meshgrid(es, difficulty)\n",
    "P = expit(E - D)\n",
    "ns = P.sum(axis=0)\n",
    "plt.plot(es, ns)\n",
    "\n",
    "decorate(xlabel=\"Efficacy\", ylabel=\"Number of conservative answers\")"
   ]
  },
  {
   "cell_type": "markdown",
   "id": "c2b1be22",
   "metadata": {},
   "source": [
    "Someone with efficacy 0 is expected to give about 7 conservative responses our of 15 questions."
   ]
  },
  {
   "cell_type": "markdown",
   "id": "89521f89",
   "metadata": {},
   "source": [
    "## Estimating Conservatism\n",
    "\n",
    "Now let's see how we can estimate $e_i$ for a respondent based on their answers.\n",
    "I'll start with a weakly informative prior that suggest people are more likely to be in the middle and less likely to be at the extremes."
   ]
  },
  {
   "cell_type": "code",
   "execution_count": 23,
   "id": "da36dbae",
   "metadata": {},
   "outputs": [
    {
     "data": {
      "image/png": "[encoded data removed]",
      "text/plain": [
       "<Figure size 432x288 with 1 Axes>"
      ]
     },
     "metadata": {
      "needs_background": "light"
     },
     "output_type": "display_data"
    },
    {
     "data": {
      "application/javascript": [
       "\n",
       "            setTimeout(function() {\n",
       "                var nbb_cell_id = 23;\n",
       "                var nbb_unformatted_code = \"from scipy.stats import norm\\nfrom empiricaldist import Pmf\\n\\nps = norm.pdf(es, 0, 4)\\nprior = Pmf(ps, es)\\nprior.normalize()\\nprior.plot()\\ndecorate(xlabel=\\\"Efficacy\\\", ylabel=\\\"Prior probability\\\", ylim=[0, 0.08])\";\n",
       "                var nbb_formatted_code = \"from scipy.stats import norm\\nfrom empiricaldist import Pmf\\n\\nps = norm.pdf(es, 0, 4)\\nprior = Pmf(ps, es)\\nprior.normalize()\\nprior.plot()\\ndecorate(xlabel=\\\"Efficacy\\\", ylabel=\\\"Prior probability\\\", ylim=[0, 0.08])\";\n",
       "                var nbb_cells = Jupyter.notebook.get_cells();\n",
       "                for (var i = 0; i < nbb_cells.length; ++i) {\n",
       "                    if (nbb_cells[i].input_prompt_number == nbb_cell_id) {\n",
       "                        if (nbb_cells[i].get_text() == nbb_unformatted_code) {\n",
       "                             nbb_cells[i].set_text(nbb_formatted_code);\n",
       "                        }\n",
       "                        break;\n",
       "                    }\n",
       "                }\n",
       "            }, 500);\n",
       "            "
      ],
      "text/plain": [
       "<IPython.core.display.Javascript object>"
      ]
     },
     "metadata": {},
     "output_type": "display_data"
    }
   ],
   "source": [
    "from scipy.stats import norm\n",
    "from empiricaldist import Pmf\n",
    "\n",
    "ps = norm.pdf(es, 0, 4)\n",
    "prior = Pmf(ps, es)\n",
    "prior.normalize()\n",
    "prior.plot()\n",
    "decorate(xlabel=\"Efficacy\", ylabel=\"Prior probability\", ylim=[0, 0.08])"
   ]
  },
  {
   "cell_type": "markdown",
   "id": "9cd9711f",
   "metadata": {},
   "source": [
    "To demonstrate the estimation process, I'll use the responses from an arbitrarily-chosen respondent."
   ]
  },
  {
   "cell_type": "code",
   "execution_count": 24,
   "id": "09d92ea9",
   "metadata": {},
   "outputs": [
    {
     "data": {
      "text/plain": [
       "homosex       NaN\n",
       "cappun       True\n",
       "grass       False\n",
       "abany         NaN\n",
       "prayer      False\n",
       "premarsx     True\n",
       "divlaw       True\n",
       "natfare     False\n",
       "natenvir     True\n",
       "pornlaw     False\n",
       "racopen      True\n",
       "letdie1       NaN\n",
       "fepol       False\n",
       "gunlaw       True\n",
       "sexeduc     False\n",
       "Name: 5034, dtype: object"
      ]
     },
     "execution_count": 24,
     "metadata": {},
     "output_type": "execute_result"
    },
    {
     "data": {
      "application/javascript": [
       "\n",
       "            setTimeout(function() {\n",
       "                var nbb_cell_id = 24;\n",
       "                var nbb_unformatted_code = \"row = questions.iloc[5000]\\nrow\";\n",
       "                var nbb_formatted_code = \"row = questions.iloc[5000]\\nrow\";\n",
       "                var nbb_cells = Jupyter.notebook.get_cells();\n",
       "                for (var i = 0; i < nbb_cells.length; ++i) {\n",
       "                    if (nbb_cells[i].input_prompt_number == nbb_cell_id) {\n",
       "                        if (nbb_cells[i].get_text() == nbb_unformatted_code) {\n",
       "                             nbb_cells[i].set_text(nbb_formatted_code);\n",
       "                        }\n",
       "                        break;\n",
       "                    }\n",
       "                }\n",
       "            }, 500);\n",
       "            "
      ],
      "text/plain": [
       "<IPython.core.display.Javascript object>"
      ]
     },
     "metadata": {},
     "output_type": "display_data"
    }
   ],
   "source": [
    "row = questions.iloc[5000]\n",
    "row"
   ]
  },
  {
   "cell_type": "markdown",
   "id": "e3588ec0",
   "metadata": {},
   "source": [
    "To compute the likelihood of the data, I'll make an array, `P`, with one row per question and one column for each hypothetical value of $e$.\n",
    "Each element of `P` is the probability that someone with a given efficacy gets a given question \"right\"."
   ]
  },
  {
   "cell_type": "code",
   "execution_count": 25,
   "id": "4c8b11dd",
   "metadata": {},
   "outputs": [
    {
     "data": {
      "text/plain": [
       "(15, 21)"
      ]
     },
     "execution_count": 25,
     "metadata": {},
     "output_type": "execute_result"
    },
    {
     "data": {
      "application/javascript": [
       "\n",
       "            setTimeout(function() {\n",
       "                var nbb_cell_id = 25;\n",
       "                var nbb_unformatted_code = \"E, D = np.meshgrid(es, difficulty)\\nP = expit(E - D)\\nQ = 1 - P\\nQ.shape\";\n",
       "                var nbb_formatted_code = \"E, D = np.meshgrid(es, difficulty)\\nP = expit(E - D)\\nQ = 1 - P\\nQ.shape\";\n",
       "                var nbb_cells = Jupyter.notebook.get_cells();\n",
       "                for (var i = 0; i < nbb_cells.length; ++i) {\n",
       "                    if (nbb_cells[i].input_prompt_number == nbb_cell_id) {\n",
       "                        if (nbb_cells[i].get_text() == nbb_unformatted_code) {\n",
       "                             nbb_cells[i].set_text(nbb_formatted_code);\n",
       "                        }\n",
       "                        break;\n",
       "                    }\n",
       "                }\n",
       "            }, 500);\n",
       "            "
      ],
      "text/plain": [
       "<IPython.core.display.Javascript object>"
      ]
     },
     "metadata": {},
     "output_type": "display_data"
    }
   ],
   "source": [
    "E, D = np.meshgrid(es, difficulty)\n",
    "P = expit(E - D)\n",
    "Q = 1 - P\n",
    "Q.shape"
   ]
  },
  {
   "cell_type": "markdown",
   "id": "c4601a0d",
   "metadata": {},
   "source": [
    "`Q` is the complement of `P`; each element is the probability that someone with a given efficacy gets a given question \"wrong\".\n",
    "\n",
    "Now, for a given row of responses we can compute the likelihood of the data."
   ]
  },
  {
   "cell_type": "code",
   "execution_count": 26,
   "id": "654918f4",
   "metadata": {},
   "outputs": [
    {
     "data": {
      "application/javascript": [
       "\n",
       "            setTimeout(function() {\n",
       "                var nbb_cell_id = 26;\n",
       "                var nbb_unformatted_code = \"# compute the likelihoods of the conservative responses\\nindex1 = np.nonzero(row.values == True)\\nlike1 = P[index1]\\n\\n# compute the likelihoods of the non-conservative responses\\nindex2 = np.nonzero(row.values == False)\\nlike2 = Q[index2]\\n\\n# multiply them all together\\nlike = np.vstack([like1, like2]).prod(axis=0)\";\n",
       "                var nbb_formatted_code = \"# compute the likelihoods of the conservative responses\\nindex1 = np.nonzero(row.values == True)\\nlike1 = P[index1]\\n\\n# compute the likelihoods of the non-conservative responses\\nindex2 = np.nonzero(row.values == False)\\nlike2 = Q[index2]\\n\\n# multiply them all together\\nlike = np.vstack([like1, like2]).prod(axis=0)\";\n",
       "                var nbb_cells = Jupyter.notebook.get_cells();\n",
       "                for (var i = 0; i < nbb_cells.length; ++i) {\n",
       "                    if (nbb_cells[i].input_prompt_number == nbb_cell_id) {\n",
       "                        if (nbb_cells[i].get_text() == nbb_unformatted_code) {\n",
       "                             nbb_cells[i].set_text(nbb_formatted_code);\n",
       "                        }\n",
       "                        break;\n",
       "                    }\n",
       "                }\n",
       "            }, 500);\n",
       "            "
      ],
      "text/plain": [
       "<IPython.core.display.Javascript object>"
      ]
     },
     "metadata": {},
     "output_type": "display_data"
    }
   ],
   "source": [
    "# compute the likelihoods of the conservative responses\n",
    "index1 = np.nonzero(row.values == True)\n",
    "like1 = P[index1]\n",
    "\n",
    "# compute the likelihoods of the non-conservative responses\n",
    "index2 = np.nonzero(row.values == False)\n",
    "like2 = Q[index2]\n",
    "\n",
    "# multiply them all together\n",
    "like = np.vstack([like1, like2]).prod(axis=0)"
   ]
  },
  {
   "cell_type": "markdown",
   "id": "d78e2d0f",
   "metadata": {},
   "source": [
    "`like` is contains the likelihood of the data for each value of $e$.\n",
    "\n",
    "To do the Bayesian update, we multiply the prior by the likelihood and normalize.\n",
    "I'm using `ns` as the index of the posterior PMF, so the results are expressed in terms of the number of conservative responses, which is easier to interpret than efficacy."
   ]
  },
  {
   "cell_type": "code",
   "execution_count": 27,
   "id": "876ff444",
   "metadata": {},
   "outputs": [
    {
     "data": {
      "text/plain": [
       "(7.75764821546671, 1.9344763248098429)"
      ]
     },
     "execution_count": 27,
     "metadata": {},
     "output_type": "execute_result"
    },
    {
     "data": {
      "application/javascript": [
       "\n",
       "            setTimeout(function() {\n",
       "                var nbb_cell_id = 27;\n",
       "                var nbb_unformatted_code = \"posterior = Pmf(prior.values * like, ns)\\nposterior.normalize()\\nposterior.mean(), posterior.std()\";\n",
       "                var nbb_formatted_code = \"posterior = Pmf(prior.values * like, ns)\\nposterior.normalize()\\nposterior.mean(), posterior.std()\";\n",
       "                var nbb_cells = Jupyter.notebook.get_cells();\n",
       "                for (var i = 0; i < nbb_cells.length; ++i) {\n",
       "                    if (nbb_cells[i].input_prompt_number == nbb_cell_id) {\n",
       "                        if (nbb_cells[i].get_text() == nbb_unformatted_code) {\n",
       "                             nbb_cells[i].set_text(nbb_formatted_code);\n",
       "                        }\n",
       "                        break;\n",
       "                    }\n",
       "                }\n",
       "            }, 500);\n",
       "            "
      ],
      "text/plain": [
       "<IPython.core.display.Javascript object>"
      ]
     },
     "metadata": {},
     "output_type": "display_data"
    }
   ],
   "source": [
    "posterior = Pmf(prior.values * like, ns)\n",
    "posterior.normalize()\n",
    "posterior.mean(), posterior.std()"
   ]
  },
  {
   "cell_type": "markdown",
   "id": "e68d91b3",
   "metadata": {},
   "source": [
    "Here's what the posterior distribution looks like."
   ]
  },
  {
   "cell_type": "code",
   "execution_count": 28,
   "id": "cd8ca9af",
   "metadata": {
    "tags": [
     "hide-input"
    ]
   },
   "outputs": [
    {
     "data": {
      "image/png": "[encoded data removed]",
      "text/plain": [
       "<Figure size 432x288 with 1 Axes>"
      ]
     },
     "metadata": {
      "needs_background": "light"
     },
     "output_type": "display_data"
    },
    {
     "data": {
      "application/javascript": [
       "\n",
       "            setTimeout(function() {\n",
       "                var nbb_cell_id = 28;\n",
       "                var nbb_unformatted_code = \"posterior.plot()\\ndecorate(xlabel=\\\"Number of conservative responses\\\", ylabel=\\\"PMF\\\")\";\n",
       "                var nbb_formatted_code = \"posterior.plot()\\ndecorate(xlabel=\\\"Number of conservative responses\\\", ylabel=\\\"PMF\\\")\";\n",
       "                var nbb_cells = Jupyter.notebook.get_cells();\n",
       "                for (var i = 0; i < nbb_cells.length; ++i) {\n",
       "                    if (nbb_cells[i].input_prompt_number == nbb_cell_id) {\n",
       "                        if (nbb_cells[i].get_text() == nbb_unformatted_code) {\n",
       "                             nbb_cells[i].set_text(nbb_formatted_code);\n",
       "                        }\n",
       "                        break;\n",
       "                    }\n",
       "                }\n",
       "            }, 500);\n",
       "            "
      ],
      "text/plain": [
       "<IPython.core.display.Javascript object>"
      ]
     },
     "metadata": {},
     "output_type": "display_data"
    }
   ],
   "source": [
    "posterior.plot()\n",
    "decorate(xlabel=\"Number of conservative responses\", ylabel=\"PMF\")"
   ]
  },
  {
   "cell_type": "markdown",
   "id": "c1c347ae",
   "metadata": {},
   "source": [
    "The posterior mean is about 7.8 questions, but the spread of the distribution is wide, indicating that we are still uncertain about how conservative this respondent is.\n",
    "\n",
    "Here's the same code in a function."
   ]
  },
  {
   "cell_type": "code",
   "execution_count": 29,
   "id": "90c514c9",
   "metadata": {
    "tags": [
     "hide-cell"
    ]
   },
   "outputs": [
    {
     "data": {
      "application/javascript": [
       "\n",
       "            setTimeout(function() {\n",
       "                var nbb_cell_id = 29;\n",
       "                var nbb_unformatted_code = \"def estimate_conservatism(row):\\n    \\\"\\\"\\\"Compute the posterior distribution of conservatism.\\n\\n    row: pd.Series of True, False, or NaN, one per question\\n\\n    returns: posterior mean and std of estimated conservatism\\n    \\\"\\\"\\\"\\n    index1 = np.nonzero(row.values == True)\\n    like1 = P[index1]\\n\\n    index2 = np.nonzero(row.values == False)\\n    like2 = Q[index2]\\n\\n    like = np.vstack([like1, like2]).prod(axis=0)\\n\\n    posterior = Pmf(prior.values * like, ns)\\n    posterior.normalize()\\n\\n    return posterior.mean(), posterior.std()\";\n",
       "                var nbb_formatted_code = \"def estimate_conservatism(row):\\n    \\\"\\\"\\\"Compute the posterior distribution of conservatism.\\n\\n    row: pd.Series of True, False, or NaN, one per question\\n\\n    returns: posterior mean and std of estimated conservatism\\n    \\\"\\\"\\\"\\n    index1 = np.nonzero(row.values == True)\\n    like1 = P[index1]\\n\\n    index2 = np.nonzero(row.values == False)\\n    like2 = Q[index2]\\n\\n    like = np.vstack([like1, like2]).prod(axis=0)\\n\\n    posterior = Pmf(prior.values * like, ns)\\n    posterior.normalize()\\n\\n    return posterior.mean(), posterior.std()\";\n",
       "                var nbb_cells = Jupyter.notebook.get_cells();\n",
       "                for (var i = 0; i < nbb_cells.length; ++i) {\n",
       "                    if (nbb_cells[i].input_prompt_number == nbb_cell_id) {\n",
       "                        if (nbb_cells[i].get_text() == nbb_unformatted_code) {\n",
       "                             nbb_cells[i].set_text(nbb_formatted_code);\n",
       "                        }\n",
       "                        break;\n",
       "                    }\n",
       "                }\n",
       "            }, 500);\n",
       "            "
      ],
      "text/plain": [
       "<IPython.core.display.Javascript object>"
      ]
     },
     "metadata": {},
     "output_type": "display_data"
    }
   ],
   "source": [
    "def estimate_conservatism(row):\n",
    "    \"\"\"Compute the posterior distribution of conservatism.\n",
    "\n",
    "    row: pd.Series of True, False, or NaN, one per question\n",
    "\n",
    "    returns: posterior mean and std of estimated conservatism\n",
    "    \"\"\"\n",
    "    index1 = np.nonzero(row.values == True)\n",
    "    like1 = P[index1]\n",
    "\n",
    "    index2 = np.nonzero(row.values == False)\n",
    "    like2 = Q[index2]\n",
    "\n",
    "    like = np.vstack([like1, like2]).prod(axis=0)\n",
    "\n",
    "    posterior = Pmf(prior.values * like, ns)\n",
    "    posterior.normalize()\n",
    "\n",
    "    return posterior.mean(), posterior.std()"
   ]
  },
  {
   "cell_type": "markdown",
   "id": "1372c62e",
   "metadata": {},
   "source": [
    "So we can apply it to the whole dataset row-wise."
   ]
  },
  {
   "cell_type": "code",
   "execution_count": 30,
   "id": "6a45b605",
   "metadata": {},
   "outputs": [
    {
     "name": "stdout",
     "output_type": "stream",
     "text": [
      "CPU times: user 26.6 s, sys: 196 ms, total: 26.8 s\n",
      "Wall time: 26.6 s\n"
     ]
    },
    {
     "data": {
      "application/javascript": [
       "\n",
       "            setTimeout(function() {\n",
       "                var nbb_cell_id = 30;\n",
       "                var nbb_unformatted_code = \"%time res = questions.apply(estimate_conservatism, axis=1, result_type='expand')\\nmean, std = np.transpose(res.values)\";\n",
       "                var nbb_formatted_code = \"%time res = questions.apply(estimate_conservatism, axis=1, result_type='expand')\\nmean, std = np.transpose(res.values)\";\n",
       "                var nbb_cells = Jupyter.notebook.get_cells();\n",
       "                for (var i = 0; i < nbb_cells.length; ++i) {\n",
       "                    if (nbb_cells[i].input_prompt_number == nbb_cell_id) {\n",
       "                        if (nbb_cells[i].get_text() == nbb_unformatted_code) {\n",
       "                             nbb_cells[i].set_text(nbb_formatted_code);\n",
       "                        }\n",
       "                        break;\n",
       "                    }\n",
       "                }\n",
       "            }, 500);\n",
       "            "
      ],
      "text/plain": [
       "<IPython.core.display.Javascript object>"
      ]
     },
     "metadata": {},
     "output_type": "display_data"
    }
   ],
   "source": [
    "%time res = questions.apply(estimate_conservatism, axis=1, result_type='expand')\n",
    "mean, std = np.transpose(res.values)"
   ]
  },
  {
   "cell_type": "markdown",
   "id": "6a3fad72",
   "metadata": {},
   "source": [
    "Doing the calculation one row at a time takes longer than I'd like. So before we look at the results, let's speed it up."
   ]
  },
  {
   "cell_type": "markdown",
   "id": "35572b9c",
   "metadata": {},
   "source": [
    "## Array Operations For the Win\n",
    "\n",
    "To eliminate the `for` loop, we can compute the results for all respondents\n",
    "with a single 3-D array: one row for each respondent, one column for each question,\n",
    "one page for each hypothetical value of $e$."
   ]
  },
  {
   "cell_type": "code",
   "execution_count": 31,
   "id": "68608a13",
   "metadata": {},
   "outputs": [
    {
     "data": {
      "text/plain": [
       "(68075, 15, 21)"
      ]
     },
     "execution_count": 31,
     "metadata": {},
     "output_type": "execute_result"
    },
    {
     "data": {
      "application/javascript": [
       "\n",
       "            setTimeout(function() {\n",
       "                var nbb_cell_id = 31;\n",
       "                var nbb_unformatted_code = \"n, m = questions.shape\\nsize = n, m, len(es)\\nres = np.empty(size)\\nres.shape\";\n",
       "                var nbb_formatted_code = \"n, m = questions.shape\\nsize = n, m, len(es)\\nres = np.empty(size)\\nres.shape\";\n",
       "                var nbb_cells = Jupyter.notebook.get_cells();\n",
       "                for (var i = 0; i < nbb_cells.length; ++i) {\n",
       "                    if (nbb_cells[i].input_prompt_number == nbb_cell_id) {\n",
       "                        if (nbb_cells[i].get_text() == nbb_unformatted_code) {\n",
       "                             nbb_cells[i].set_text(nbb_formatted_code);\n",
       "                        }\n",
       "                        break;\n",
       "                    }\n",
       "                }\n",
       "            }, 500);\n",
       "            "
      ],
      "text/plain": [
       "<IPython.core.display.Javascript object>"
      ]
     },
     "metadata": {},
     "output_type": "display_data"
    }
   ],
   "source": [
    "n, m = questions.shape\n",
    "size = n, m, len(es)\n",
    "res = np.empty(size)\n",
    "res.shape"
   ]
  },
  {
   "cell_type": "markdown",
   "id": "2f21915a",
   "metadata": {},
   "source": [
    "Now we can fill the array with the likelihoods of conservative and non-conservative responses; where there's a `NaN`, we fill in a sequence of `1`s."
   ]
  },
  {
   "cell_type": "code",
   "execution_count": 32,
   "id": "ec2fad7f",
   "metadata": {},
   "outputs": [
    {
     "data": {
      "application/javascript": [
       "\n",
       "            setTimeout(function() {\n",
       "                var nbb_cell_id = 32;\n",
       "                var nbb_unformatted_code = \"a = questions.fillna(2).astype(int).values\\nii, jj = np.nonzero(a == 0)\\nres[ii, jj, :] = Q[jj]\\nii, jj = np.nonzero(a == 1)\\nres[ii, jj, :] = P[jj]\\nii, jj = np.nonzero(a == 2)\\nres[ii, jj, :] = 1\";\n",
       "                var nbb_formatted_code = \"a = questions.fillna(2).astype(int).values\\nii, jj = np.nonzero(a == 0)\\nres[ii, jj, :] = Q[jj]\\nii, jj = np.nonzero(a == 1)\\nres[ii, jj, :] = P[jj]\\nii, jj = np.nonzero(a == 2)\\nres[ii, jj, :] = 1\";\n",
       "                var nbb_cells = Jupyter.notebook.get_cells();\n",
       "                for (var i = 0; i < nbb_cells.length; ++i) {\n",
       "                    if (nbb_cells[i].input_prompt_number == nbb_cell_id) {\n",
       "                        if (nbb_cells[i].get_text() == nbb_unformatted_code) {\n",
       "                             nbb_cells[i].set_text(nbb_formatted_code);\n",
       "                        }\n",
       "                        break;\n",
       "                    }\n",
       "                }\n",
       "            }, 500);\n",
       "            "
      ],
      "text/plain": [
       "<IPython.core.display.Javascript object>"
      ]
     },
     "metadata": {},
     "output_type": "display_data"
    }
   ],
   "source": [
    "a = questions.fillna(2).astype(int).values\n",
    "ii, jj = np.nonzero(a == 0)\n",
    "res[ii, jj, :] = Q[jj]\n",
    "ii, jj = np.nonzero(a == 1)\n",
    "res[ii, jj, :] = P[jj]\n",
    "ii, jj = np.nonzero(a == 2)\n",
    "res[ii, jj, :] = 1"
   ]
  },
  {
   "cell_type": "markdown",
   "id": "01b4e4b7",
   "metadata": {},
   "source": [
    "Multiplying along the rows gives the likelihood of each row of responses, which we multiply by the prior probabilities:"
   ]
  },
  {
   "cell_type": "code",
   "execution_count": 33,
   "id": "e5445b9d",
   "metadata": {},
   "outputs": [
    {
     "data": {
      "text/plain": [
       "(68075, 21)"
      ]
     },
     "execution_count": 33,
     "metadata": {},
     "output_type": "execute_result"
    },
    {
     "data": {
      "application/javascript": [
       "\n",
       "            setTimeout(function() {\n",
       "                var nbb_cell_id = 33;\n",
       "                var nbb_unformatted_code = \"product = res.prod(axis=1) * prior.values\\nproduct.shape\";\n",
       "                var nbb_formatted_code = \"product = res.prod(axis=1) * prior.values\\nproduct.shape\";\n",
       "                var nbb_cells = Jupyter.notebook.get_cells();\n",
       "                for (var i = 0; i < nbb_cells.length; ++i) {\n",
       "                    if (nbb_cells[i].input_prompt_number == nbb_cell_id) {\n",
       "                        if (nbb_cells[i].get_text() == nbb_unformatted_code) {\n",
       "                             nbb_cells[i].set_text(nbb_formatted_code);\n",
       "                        }\n",
       "                        break;\n",
       "                    }\n",
       "                }\n",
       "            }, 500);\n",
       "            "
      ],
      "text/plain": [
       "<IPython.core.display.Javascript object>"
      ]
     },
     "metadata": {},
     "output_type": "display_data"
    }
   ],
   "source": [
    "product = res.prod(axis=1) * prior.values\n",
    "product.shape"
   ]
  },
  {
   "cell_type": "markdown",
   "id": "e38759d0",
   "metadata": {},
   "source": [
    "Finally, we normalize the rows to get a posterior distribution for each respondent.\n"
   ]
  },
  {
   "cell_type": "code",
   "execution_count": 34,
   "id": "b21a5a5e",
   "metadata": {},
   "outputs": [
    {
     "data": {
      "text/plain": [
       "(68075, 21)"
      ]
     },
     "execution_count": 34,
     "metadata": {},
     "output_type": "execute_result"
    },
    {
     "data": {
      "application/javascript": [
       "\n",
       "            setTimeout(function() {\n",
       "                var nbb_cell_id = 34;\n",
       "                var nbb_unformatted_code = \"posterior = product / product.sum(axis=1)[:, None]\\nposterior.shape\";\n",
       "                var nbb_formatted_code = \"posterior = product / product.sum(axis=1)[:, None]\\nposterior.shape\";\n",
       "                var nbb_cells = Jupyter.notebook.get_cells();\n",
       "                for (var i = 0; i < nbb_cells.length; ++i) {\n",
       "                    if (nbb_cells[i].input_prompt_number == nbb_cell_id) {\n",
       "                        if (nbb_cells[i].get_text() == nbb_unformatted_code) {\n",
       "                             nbb_cells[i].set_text(nbb_formatted_code);\n",
       "                        }\n",
       "                        break;\n",
       "                    }\n",
       "                }\n",
       "            }, 500);\n",
       "            "
      ],
      "text/plain": [
       "<IPython.core.display.Javascript object>"
      ]
     },
     "metadata": {},
     "output_type": "display_data"
    }
   ],
   "source": [
    "posterior = product / product.sum(axis=1)[:, None]\n",
    "posterior.shape"
   ]
  },
  {
   "cell_type": "markdown",
   "id": "ada02046",
   "metadata": {},
   "source": [
    "The estimated conservatism for each respondent is the mean of the posterior distribution."
   ]
  },
  {
   "cell_type": "code",
   "execution_count": 35,
   "id": "92e7964d",
   "metadata": {},
   "outputs": [
    {
     "data": {
      "text/plain": [
       "(68075,)"
      ]
     },
     "execution_count": 35,
     "metadata": {},
     "output_type": "execute_result"
    },
    {
     "data": {
      "application/javascript": [
       "\n",
       "            setTimeout(function() {\n",
       "                var nbb_cell_id = 35;\n",
       "                var nbb_unformatted_code = \"con = (posterior * ns).sum(axis=1)\\ncon.shape\";\n",
       "                var nbb_formatted_code = \"con = (posterior * ns).sum(axis=1)\\ncon.shape\";\n",
       "                var nbb_cells = Jupyter.notebook.get_cells();\n",
       "                for (var i = 0; i < nbb_cells.length; ++i) {\n",
       "                    if (nbb_cells[i].input_prompt_number == nbb_cell_id) {\n",
       "                        if (nbb_cells[i].get_text() == nbb_unformatted_code) {\n",
       "                             nbb_cells[i].set_text(nbb_formatted_code);\n",
       "                        }\n",
       "                        break;\n",
       "                    }\n",
       "                }\n",
       "            }, 500);\n",
       "            "
      ],
      "text/plain": [
       "<IPython.core.display.Javascript object>"
      ]
     },
     "metadata": {},
     "output_type": "display_data"
    }
   ],
   "source": [
    "con = (posterior * ns).sum(axis=1)\n",
    "con.shape"
   ]
  },
  {
   "cell_type": "markdown",
   "id": "f8c3f91f",
   "metadata": {},
   "source": [
    "We'll also compute the standard deviation of the posterior distribution, which I'll use to remove respondents who did not answer enough questions."
   ]
  },
  {
   "cell_type": "code",
   "execution_count": 36,
   "id": "006297b6",
   "metadata": {},
   "outputs": [
    {
     "data": {
      "text/plain": [
       "(68075,)"
      ]
     },
     "execution_count": 36,
     "metadata": {},
     "output_type": "execute_result"
    },
    {
     "data": {
      "application/javascript": [
       "\n",
       "            setTimeout(function() {\n",
       "                var nbb_cell_id = 36;\n",
       "                var nbb_unformatted_code = \"deviations = ns - con[:, None]\\nvar_con = (posterior * deviations ** 2).sum(axis=1)\\nstd_con = np.sqrt(var_con)\\nstd_con.shape\";\n",
       "                var nbb_formatted_code = \"deviations = ns - con[:, None]\\nvar_con = (posterior * deviations ** 2).sum(axis=1)\\nstd_con = np.sqrt(var_con)\\nstd_con.shape\";\n",
       "                var nbb_cells = Jupyter.notebook.get_cells();\n",
       "                for (var i = 0; i < nbb_cells.length; ++i) {\n",
       "                    if (nbb_cells[i].input_prompt_number == nbb_cell_id) {\n",
       "                        if (nbb_cells[i].get_text() == nbb_unformatted_code) {\n",
       "                             nbb_cells[i].set_text(nbb_formatted_code);\n",
       "                        }\n",
       "                        break;\n",
       "                    }\n",
       "                }\n",
       "            }, 500);\n",
       "            "
      ],
      "text/plain": [
       "<IPython.core.display.Javascript object>"
      ]
     },
     "metadata": {},
     "output_type": "display_data"
    }
   ],
   "source": [
    "deviations = ns - con[:, None]\n",
    "var_con = (posterior * deviations ** 2).sum(axis=1)\n",
    "std_con = np.sqrt(var_con)\n",
    "std_con.shape"
   ]
  },
  {
   "cell_type": "markdown",
   "id": "73802b72",
   "metadata": {},
   "source": [
    "We can confirm that the results from the array operation is the same as the row-wise calculation."
   ]
  },
  {
   "cell_type": "code",
   "execution_count": 37,
   "id": "e7f253f9",
   "metadata": {},
   "outputs": [
    {
     "data": {
      "text/plain": [
       "(True, True)"
      ]
     },
     "execution_count": 37,
     "metadata": {},
     "output_type": "execute_result"
    },
    {
     "data": {
      "application/javascript": [
       "\n",
       "            setTimeout(function() {\n",
       "                var nbb_cell_id = 37;\n",
       "                var nbb_unformatted_code = \"np.allclose(con, mean), np.allclose(std_con, std)\";\n",
       "                var nbb_formatted_code = \"np.allclose(con, mean), np.allclose(std_con, std)\";\n",
       "                var nbb_cells = Jupyter.notebook.get_cells();\n",
       "                for (var i = 0; i < nbb_cells.length; ++i) {\n",
       "                    if (nbb_cells[i].input_prompt_number == nbb_cell_id) {\n",
       "                        if (nbb_cells[i].get_text() == nbb_unformatted_code) {\n",
       "                             nbb_cells[i].set_text(nbb_formatted_code);\n",
       "                        }\n",
       "                        break;\n",
       "                    }\n",
       "                }\n",
       "            }, 500);\n",
       "            "
      ],
      "text/plain": [
       "<IPython.core.display.Javascript object>"
      ]
     },
     "metadata": {},
     "output_type": "display_data"
    }
   ],
   "source": [
    "np.allclose(con, mean), np.allclose(std_con, std)"
   ]
  },
  {
   "cell_type": "markdown",
   "id": "20861f2d",
   "metadata": {},
   "source": [
    "Here's what the distribution of estimates looks like among the respondents."
   ]
  },
  {
   "cell_type": "code",
   "execution_count": 38,
   "id": "171fda19",
   "metadata": {
    "tags": [
     "hide-input"
    ]
   },
   "outputs": [
    {
     "data": {
      "image/png": "[encoded data removed]",
      "text/plain": [
       "<Figure size 432x288 with 1 Axes>"
      ]
     },
     "metadata": {
      "needs_background": "light"
     },
     "output_type": "display_data"
    },
    {
     "data": {
      "application/javascript": [
       "\n",
       "            setTimeout(function() {\n",
       "                var nbb_cell_id = 38;\n",
       "                var nbb_unformatted_code = \"# the estimated values are roughly Gaussian\\n\\nfrom empiricaldist import Cdf\\n\\nCdf.from_seq(con).plot()\\ndecorate(xlabel=\\\"Number of questions answered\\\", ylabel=\\\"CDF\\\")\";\n",
       "                var nbb_formatted_code = \"# the estimated values are roughly Gaussian\\n\\nfrom empiricaldist import Cdf\\n\\nCdf.from_seq(con).plot()\\ndecorate(xlabel=\\\"Number of questions answered\\\", ylabel=\\\"CDF\\\")\";\n",
       "                var nbb_cells = Jupyter.notebook.get_cells();\n",
       "                for (var i = 0; i < nbb_cells.length; ++i) {\n",
       "                    if (nbb_cells[i].input_prompt_number == nbb_cell_id) {\n",
       "                        if (nbb_cells[i].get_text() == nbb_unformatted_code) {\n",
       "                             nbb_cells[i].set_text(nbb_formatted_code);\n",
       "                        }\n",
       "                        break;\n",
       "                    }\n",
       "                }\n",
       "            }, 500);\n",
       "            "
      ],
      "text/plain": [
       "<IPython.core.display.Javascript object>"
      ]
     },
     "metadata": {},
     "output_type": "display_data"
    }
   ],
   "source": [
    "from empiricaldist import Cdf\n",
    "\n",
    "Cdf.from_seq(con).plot()\n",
    "decorate(xlabel=\"Number of questions answered\", ylabel=\"CDF\")"
   ]
  },
  {
   "cell_type": "code",
   "execution_count": 39,
   "id": "c28f4a2b",
   "metadata": {},
   "outputs": [
    {
     "data": {
      "text/plain": [
       "6.945564025317626"
      ]
     },
     "execution_count": 39,
     "metadata": {},
     "output_type": "execute_result"
    },
    {
     "data": {
      "application/javascript": [
       "\n",
       "            setTimeout(function() {\n",
       "                var nbb_cell_id = 39;\n",
       "                var nbb_unformatted_code = \"con.mean()\";\n",
       "                var nbb_formatted_code = \"con.mean()\";\n",
       "                var nbb_cells = Jupyter.notebook.get_cells();\n",
       "                for (var i = 0; i < nbb_cells.length; ++i) {\n",
       "                    if (nbb_cells[i].input_prompt_number == nbb_cell_id) {\n",
       "                        if (nbb_cells[i].get_text() == nbb_unformatted_code) {\n",
       "                             nbb_cells[i].set_text(nbb_formatted_code);\n",
       "                        }\n",
       "                        break;\n",
       "                    }\n",
       "                }\n",
       "            }, 500);\n",
       "            "
      ],
      "text/plain": [
       "<IPython.core.display.Javascript object>"
      ]
     },
     "metadata": {},
     "output_type": "display_data"
    }
   ],
   "source": [
    "con.mean()"
   ]
  },
  {
   "cell_type": "markdown",
   "id": "7920446f",
   "metadata": {},
   "source": [
    "The distribution is roughly Gaussian, with a mean near 7 questions.\n",
    "Here's the distribution of standard deviations."
   ]
  },
  {
   "cell_type": "code",
   "execution_count": 40,
   "id": "7e5d9079",
   "metadata": {
    "tags": [
     "hide-input"
    ]
   },
   "outputs": [
    {
     "data": {
      "image/png": "[encoded data removed]",
      "text/plain": [
       "<Figure size 432x288 with 1 Axes>"
      ]
     },
     "metadata": {
      "needs_background": "light"
     },
     "output_type": "display_data"
    },
    {
     "data": {
      "application/javascript": [
       "\n",
       "            setTimeout(function() {\n",
       "                var nbb_cell_id = 40;\n",
       "                var nbb_unformatted_code = \"Cdf.from_seq(std_con).plot()\\n\\ndecorate(xlabel=\\\"Standard deviation of the posterior\\\", ylabel=\\\"CDF\\\")\";\n",
       "                var nbb_formatted_code = \"Cdf.from_seq(std_con).plot()\\n\\ndecorate(xlabel=\\\"Standard deviation of the posterior\\\", ylabel=\\\"CDF\\\")\";\n",
       "                var nbb_cells = Jupyter.notebook.get_cells();\n",
       "                for (var i = 0; i < nbb_cells.length; ++i) {\n",
       "                    if (nbb_cells[i].input_prompt_number == nbb_cell_id) {\n",
       "                        if (nbb_cells[i].get_text() == nbb_unformatted_code) {\n",
       "                             nbb_cells[i].set_text(nbb_formatted_code);\n",
       "                        }\n",
       "                        break;\n",
       "                    }\n",
       "                }\n",
       "            }, 500);\n",
       "            "
      ],
      "text/plain": [
       "<IPython.core.display.Javascript object>"
      ]
     },
     "metadata": {},
     "output_type": "display_data"
    }
   ],
   "source": [
    "Cdf.from_seq(std_con).plot()\n",
    "\n",
    "decorate(xlabel=\"Standard deviation of the posterior\", ylabel=\"CDF\")"
   ]
  },
  {
   "cell_type": "markdown",
   "id": "19f24f37",
   "metadata": {},
   "source": [
    "For most respondents (about 63,000 out of 68,000) we have enough data to estimate the number of conservative responses with standard deviation less than 3."
   ]
  },
  {
   "cell_type": "code",
   "execution_count": 41,
   "id": "2e886daa",
   "metadata": {},
   "outputs": [
    {
     "data": {
      "text/plain": [
       "count    63269.000000\n",
       "mean         6.911971\n",
       "std          3.251234\n",
       "min          0.500713\n",
       "25%          4.558568\n",
       "50%          6.933004\n",
       "75%          9.295529\n",
       "max         14.477513\n",
       "Name: conservatism, dtype: float64"
      ]
     },
     "execution_count": 41,
     "metadata": {},
     "output_type": "execute_result"
    },
    {
     "data": {
      "application/javascript": [
       "\n",
       "            setTimeout(function() {\n",
       "                var nbb_cell_id = 41;\n",
       "                var nbb_unformatted_code = \"gss[\\\"conservatism\\\"] = pd.Series(con, gss.index)\\ngss.loc[std_con > 3, \\\"conservatism\\\"] = np.nan\\ngss[\\\"conservatism\\\"].describe()\";\n",
       "                var nbb_formatted_code = \"gss[\\\"conservatism\\\"] = pd.Series(con, gss.index)\\ngss.loc[std_con > 3, \\\"conservatism\\\"] = np.nan\\ngss[\\\"conservatism\\\"].describe()\";\n",
       "                var nbb_cells = Jupyter.notebook.get_cells();\n",
       "                for (var i = 0; i < nbb_cells.length; ++i) {\n",
       "                    if (nbb_cells[i].input_prompt_number == nbb_cell_id) {\n",
       "                        if (nbb_cells[i].get_text() == nbb_unformatted_code) {\n",
       "                             nbb_cells[i].set_text(nbb_formatted_code);\n",
       "                        }\n",
       "                        break;\n",
       "                    }\n",
       "                }\n",
       "            }, 500);\n",
       "            "
      ],
      "text/plain": [
       "<IPython.core.display.Javascript object>"
      ]
     },
     "metadata": {},
     "output_type": "display_data"
    }
   ],
   "source": [
    "gss[\"conservatism\"] = pd.Series(con, gss.index)\n",
    "gss.loc[std_con > 3, \"conservatism\"] = np.nan\n",
    "gss[\"conservatism\"].describe()"
   ]
  },
  {
   "cell_type": "markdown",
   "id": "efdb01a0",
   "metadata": {},
   "source": [
    "## Conservatism Over Time\n",
    "\n",
    "The following figure shows the average of these estimates for each years of the survey."
   ]
  },
  {
   "cell_type": "code",
   "execution_count": 53,
   "id": "7dbecb2f",
   "metadata": {},
   "outputs": [
    {
     "ename": "KeyError",
     "evalue": "'Column not found: conservatism'",
     "output_type": "error",
     "traceback": [
      "\u001b[0;31m---------------------------------------------------------------------------\u001b[0m",
      "\u001b[0;31mKeyError\u001b[0m                                  Traceback (most recent call last)",
      "Input \u001b[0;32mIn [53]\u001b[0m, in \u001b[0;36m<cell line: 1>\u001b[0;34m()\u001b[0m\n\u001b[0;32m----> 1\u001b[0m series \u001b[38;5;241m=\u001b[39m \u001b[43mgss\u001b[49m\u001b[38;5;241;43m.\u001b[39;49m\u001b[43mgroupby\u001b[49m\u001b[43m(\u001b[49m\u001b[38;5;124;43m\"\u001b[39;49m\u001b[38;5;124;43myear\u001b[39;49m\u001b[38;5;124;43m\"\u001b[39;49m\u001b[43m)\u001b[49m\u001b[43m[\u001b[49m\u001b[38;5;124;43m\"\u001b[39;49m\u001b[38;5;124;43mconservatism\u001b[39;49m\u001b[38;5;124;43m\"\u001b[39;49m\u001b[43m]\u001b[49m\u001b[38;5;241m.\u001b[39mmean()\n",
      "File \u001b[0;32m~/anaconda3/envs/ProbablyOverthinkingIt/lib/python3.10/site-packages/pandas/core/groupby/generic.py:1338\u001b[0m, in \u001b[0;36mDataFrameGroupBy.__getitem__\u001b[0;34m(self, key)\u001b[0m\n\u001b[1;32m   1329\u001b[0m \u001b[38;5;28;01mif\u001b[39;00m \u001b[38;5;28misinstance\u001b[39m(key, \u001b[38;5;28mtuple\u001b[39m) \u001b[38;5;129;01mand\u001b[39;00m \u001b[38;5;28mlen\u001b[39m(key) \u001b[38;5;241m>\u001b[39m \u001b[38;5;241m1\u001b[39m:\n\u001b[1;32m   1330\u001b[0m     \u001b[38;5;66;03m# if len == 1, then it becomes a SeriesGroupBy and this is actually\u001b[39;00m\n\u001b[1;32m   1331\u001b[0m     \u001b[38;5;66;03m# valid syntax, so don't raise warning\u001b[39;00m\n\u001b[1;32m   1332\u001b[0m     warnings\u001b[38;5;241m.\u001b[39mwarn(\n\u001b[1;32m   1333\u001b[0m         \u001b[38;5;124m\"\u001b[39m\u001b[38;5;124mIndexing with multiple keys (implicitly converted to a tuple \u001b[39m\u001b[38;5;124m\"\u001b[39m\n\u001b[1;32m   1334\u001b[0m         \u001b[38;5;124m\"\u001b[39m\u001b[38;5;124mof keys) will be deprecated, use a list instead.\u001b[39m\u001b[38;5;124m\"\u001b[39m,\n\u001b[1;32m   1335\u001b[0m         \u001b[38;5;167;01mFutureWarning\u001b[39;00m,\n\u001b[1;32m   1336\u001b[0m         stacklevel\u001b[38;5;241m=\u001b[39mfind_stack_level(),\n\u001b[1;32m   1337\u001b[0m     )\n\u001b[0;32m-> 1338\u001b[0m \u001b[38;5;28;01mreturn\u001b[39;00m \u001b[38;5;28;43msuper\u001b[39;49m\u001b[43m(\u001b[49m\u001b[43m)\u001b[49m\u001b[38;5;241;43m.\u001b[39;49m\u001b[38;5;21;43m__getitem__\u001b[39;49m\u001b[43m(\u001b[49m\u001b[43mkey\u001b[49m\u001b[43m)\u001b[49m\n",
      "File \u001b[0;32m~/anaconda3/envs/ProbablyOverthinkingIt/lib/python3.10/site-packages/pandas/core/base.py:250\u001b[0m, in \u001b[0;36mSelectionMixin.__getitem__\u001b[0;34m(self, key)\u001b[0m\n\u001b[1;32m    248\u001b[0m \u001b[38;5;28;01melse\u001b[39;00m:\n\u001b[1;32m    249\u001b[0m     \u001b[38;5;28;01mif\u001b[39;00m key \u001b[38;5;129;01mnot\u001b[39;00m \u001b[38;5;129;01min\u001b[39;00m \u001b[38;5;28mself\u001b[39m\u001b[38;5;241m.\u001b[39mobj:\n\u001b[0;32m--> 250\u001b[0m         \u001b[38;5;28;01mraise\u001b[39;00m \u001b[38;5;167;01mKeyError\u001b[39;00m(\u001b[38;5;124mf\u001b[39m\u001b[38;5;124m\"\u001b[39m\u001b[38;5;124mColumn not found: \u001b[39m\u001b[38;5;132;01m{\u001b[39;00mkey\u001b[38;5;132;01m}\u001b[39;00m\u001b[38;5;124m\"\u001b[39m)\n\u001b[1;32m    251\u001b[0m     subset \u001b[38;5;241m=\u001b[39m \u001b[38;5;28mself\u001b[39m\u001b[38;5;241m.\u001b[39mobj[key]\n\u001b[1;32m    252\u001b[0m     ndim \u001b[38;5;241m=\u001b[39m subset\u001b[38;5;241m.\u001b[39mndim\n",
      "\u001b[0;31mKeyError\u001b[0m: 'Column not found: conservatism'"
     ]
    },
    {
     "data": {
      "application/javascript": [
       "\n",
       "            setTimeout(function() {\n",
       "                var nbb_cell_id = 53;\n",
       "                var nbb_unformatted_code = \"series = gss.groupby(\\\"year\\\")[\\\"conservatism\\\"].mean()\";\n",
       "                var nbb_formatted_code = \"series = gss.groupby(\\\"year\\\")[\\\"conservatism\\\"].mean()\";\n",
       "                var nbb_cells = Jupyter.notebook.get_cells();\n",
       "                for (var i = 0; i < nbb_cells.length; ++i) {\n",
       "                    if (nbb_cells[i].input_prompt_number == nbb_cell_id) {\n",
       "                        if (nbb_cells[i].get_text() == nbb_unformatted_code) {\n",
       "                             nbb_cells[i].set_text(nbb_formatted_code);\n",
       "                        }\n",
       "                        break;\n",
       "                    }\n",
       "                }\n",
       "            }, 500);\n",
       "            "
      ],
      "text/plain": [
       "<IPython.core.display.Javascript object>"
      ]
     },
     "metadata": {},
     "output_type": "display_data"
    }
   ],
   "source": [
    "series = gss.groupby(\"year\")[\"conservatism\"].mean()"
   ]
  },
  {
   "cell_type": "code",
   "execution_count": 43,
   "id": "33cb0c9a",
   "metadata": {
    "tags": [
     "remove-input"
    ]
   },
   "outputs": [
    {
     "data": {
      "image/png": "[encoded data removed]",
      "text/plain": [
       "<Figure size 432x288 with 1 Axes>"
      ]
     },
     "metadata": {
      "needs_background": "light"
     },
     "output_type": "display_data"
    },
    {
     "data": {
      "application/javascript": [
       "\n",
       "            setTimeout(function() {\n",
       "                var nbb_cell_id = 43;\n",
       "                var nbb_unformatted_code = \"plot_series_lowess(series, plot_series=True, color=\\\"C0\\\", alpha=0.7, label=\\\"\\\")\\ndecorate(xlabel=\\\"Year of survey\\\", ylabel=\\\"Number of conservative responses\\\")\";\n",
       "                var nbb_formatted_code = \"plot_series_lowess(series, plot_series=True, color=\\\"C0\\\", alpha=0.7, label=\\\"\\\")\\ndecorate(xlabel=\\\"Year of survey\\\", ylabel=\\\"Number of conservative responses\\\")\";\n",
       "                var nbb_cells = Jupyter.notebook.get_cells();\n",
       "                for (var i = 0; i < nbb_cells.length; ++i) {\n",
       "                    if (nbb_cells[i].input_prompt_number == nbb_cell_id) {\n",
       "                        if (nbb_cells[i].get_text() == nbb_unformatted_code) {\n",
       "                             nbb_cells[i].set_text(nbb_formatted_code);\n",
       "                        }\n",
       "                        break;\n",
       "                    }\n",
       "                }\n",
       "            }, 500);\n",
       "            "
      ],
      "text/plain": [
       "<IPython.core.display.Javascript object>"
      ]
     },
     "metadata": {},
     "output_type": "display_data"
    }
   ],
   "source": [
    "plot_series_lowess(series, plot_series=True, color=\"C0\", alpha=0.7, label=\"\")\n",
    "decorate(xlabel=\"Year of survey\", ylabel=\"Number of conservative responses\")"
   ]
  },
  {
   "cell_type": "markdown",
   "id": "9d6d9d51",
   "metadata": {},
   "source": [
    "The prevalence of conservative responses has decreased over the last 50 years.\n",
    "In 1973, the average respondent chose a conservative response to 8.1 out of 15 questions; in 2021, it had fallen to 5.3.\n",
    "\n",
    "There is no evidence that this trend has slowed or reversed recently.\n",
    "In 2012 and 2014, it might have been above the long-term trend; in 2016 and 2018, it was below it.\n",
    "And the most recent data, from 2021, is exactly on pace."
   ]
  },
  {
   "cell_type": "markdown",
   "id": "99883232",
   "metadata": {},
   "source": [
    "## Are We Polarized?\n",
    "\n",
    "In current commentary, it is often taken for granted that politics in the U.S. have become more polarized.\n",
    "If we take that to mean that conservatives are becoming more conservative, and liberals more liberal, that turns out not to be true.\n",
    "\n",
    "The following figure shows conservatism over time, grouped by political label."
   ]
  },
  {
   "cell_type": "code",
   "execution_count": 44,
   "id": "8ae9d1d9",
   "metadata": {
    "tags": [
     "remove-cell"
    ]
   },
   "outputs": [
    {
     "data": {
      "application/javascript": [
       "\n",
       "            setTimeout(function() {\n",
       "                var nbb_cell_id = 44;\n",
       "                var nbb_unformatted_code = \"table = gss.pivot_table(index=\\\"year\\\", columns=\\\"polviews3\\\", values=\\\"conservatism\\\")\";\n",
       "                var nbb_formatted_code = \"table = gss.pivot_table(index=\\\"year\\\", columns=\\\"polviews3\\\", values=\\\"conservatism\\\")\";\n",
       "                var nbb_cells = Jupyter.notebook.get_cells();\n",
       "                for (var i = 0; i < nbb_cells.length; ++i) {\n",
       "                    if (nbb_cells[i].input_prompt_number == nbb_cell_id) {\n",
       "                        if (nbb_cells[i].get_text() == nbb_unformatted_code) {\n",
       "                             nbb_cells[i].set_text(nbb_formatted_code);\n",
       "                        }\n",
       "                        break;\n",
       "                    }\n",
       "                }\n",
       "            }, 500);\n",
       "            "
      ],
      "text/plain": [
       "<IPython.core.display.Javascript object>"
      ]
     },
     "metadata": {},
     "output_type": "display_data"
    }
   ],
   "source": [
    "table = gss.pivot_table(index=\"year\", columns=\"polviews3\", values=\"conservatism\")"
   ]
  },
  {
   "cell_type": "code",
   "execution_count": 45,
   "id": "ff232ed4",
   "metadata": {
    "tags": [
     "remove-input"
    ]
   },
   "outputs": [
    {
     "data": {
      "image/png": "[encoded data removed]",
      "text/plain": [
       "<Figure size 432x288 with 1 Axes>"
      ]
     },
     "metadata": {
      "needs_background": "light"
     },
     "output_type": "display_data"
    },
    {
     "data": {
      "application/javascript": [
       "\n",
       "            setTimeout(function() {\n",
       "                var nbb_cell_id = 45;\n",
       "                var nbb_unformatted_code = \"columns = [\\\"Conservative\\\", \\\"Moderate\\\", \\\"Liberal\\\"]\\nfor column in columns:\\n    plot_series_lowess(table[column], ls=line_map[column], color=polview_map[column])\\n\\nplt.hlines(6.8, 1974, 2021, color=\\\"gray\\\", alpha=0.5)\\ndecorate(xlabel=\\\"Year of survey\\\", ylabel=\\\"Number of conservative responses\\\")\\nplt.savefig(\\\"overton10b.jpg\\\", dpi=600)\";\n",
       "                var nbb_formatted_code = \"columns = [\\\"Conservative\\\", \\\"Moderate\\\", \\\"Liberal\\\"]\\nfor column in columns:\\n    plot_series_lowess(table[column], ls=line_map[column], color=polview_map[column])\\n\\nplt.hlines(6.8, 1974, 2021, color=\\\"gray\\\", alpha=0.5)\\ndecorate(xlabel=\\\"Year of survey\\\", ylabel=\\\"Number of conservative responses\\\")\\nplt.savefig(\\\"overton10b.jpg\\\", dpi=600)\";\n",
       "                var nbb_cells = Jupyter.notebook.get_cells();\n",
       "                for (var i = 0; i < nbb_cells.length; ++i) {\n",
       "                    if (nbb_cells[i].input_prompt_number == nbb_cell_id) {\n",
       "                        if (nbb_cells[i].get_text() == nbb_unformatted_code) {\n",
       "                             nbb_cells[i].set_text(nbb_formatted_code);\n",
       "                        }\n",
       "                        break;\n",
       "                    }\n",
       "                }\n",
       "            }, 500);\n",
       "            "
      ],
      "text/plain": [
       "<IPython.core.display.Javascript object>"
      ]
     },
     "metadata": {},
     "output_type": "display_data"
    }
   ],
   "source": [
    "columns = [\"Conservative\", \"Moderate\", \"Liberal\"]\n",
    "for column in columns:\n",
    "    plot_series_lowess(table[column], ls=line_map[column], color=polview_map[column])\n",
    "\n",
    "plt.hlines(6.8, 1974, 2021, color=\"gray\", alpha=0.5)\n",
    "decorate(xlabel=\"Year of survey\", ylabel=\"Number of conservative responses\")"
   ]
  },
  {
   "cell_type": "code",
   "execution_count": 46,
   "id": "db783f4c",
   "metadata": {
    "tags": [
     "remove-cell"
    ]
   },
   "outputs": [
    {
     "name": "stdout",
     "output_type": "stream",
     "text": [
      "Conservative -1.9034502158899897\n",
      "Liberal -3.3772592744433676\n",
      "Moderate -3.137751450771902\n"
     ]
    },
    {
     "data": {
      "application/javascript": [
       "\n",
       "            setTimeout(function() {\n",
       "                var nbb_cell_id = 46;\n",
       "                var nbb_unformatted_code = \"for column, series in table.iteritems():\\n    smooth = make_lowess(series)\\n    diff = smooth.iloc[-1] - smooth.iloc[1]\\n    print(column, diff)\";\n",
       "                var nbb_formatted_code = \"for column, series in table.iteritems():\\n    smooth = make_lowess(series)\\n    diff = smooth.iloc[-1] - smooth.iloc[1]\\n    print(column, diff)\";\n",
       "                var nbb_cells = Jupyter.notebook.get_cells();\n",
       "                for (var i = 0; i < nbb_cells.length; ++i) {\n",
       "                    if (nbb_cells[i].input_prompt_number == nbb_cell_id) {\n",
       "                        if (nbb_cells[i].get_text() == nbb_unformatted_code) {\n",
       "                             nbb_cells[i].set_text(nbb_formatted_code);\n",
       "                        }\n",
       "                        break;\n",
       "                    }\n",
       "                }\n",
       "            }, 500);\n",
       "            "
      ],
      "text/plain": [
       "<IPython.core.display.Javascript object>"
      ]
     },
     "metadata": {},
     "output_type": "display_data"
    }
   ],
   "source": [
    "for column, series in table.iteritems():\n",
    "    smooth = make_lowess(series)\n",
    "    diff = smooth.iloc[-1] - smooth.iloc[1]\n",
    "    print(column, diff)"
   ]
  },
  {
   "cell_type": "markdown",
   "id": "51afedc3",
   "metadata": {},
   "source": [
    "All three groups have become more liberal; however, the slopes of the lines are somewhat different.\n",
    "Over this interval, conservatives have become more liberal by about 1.9 expected responses, moderates by 3.1, and liberals by 3.4.\n",
    "That's a kind of polarization in the sense that the groups moved farther apart, but not in the sense that they are moving in opposite directions."
   ]
  },
  {
   "cell_type": "markdown",
   "id": "2af2fddf",
   "metadata": {},
   "source": [
    "\n",
    "In the previous figure, the horizontal line is at 6.8 responses, which was the expected level of conservatism in 1974 among people who called themselves liberal.\n",
    "\n",
    "So, suppose you take a time machine back to 1974, find an average liberal, and bring them to the turn of the millennium.\n",
    "Based on their responses to the fifteen questions, they would be indistinguishable from the average moderate in 2000.\n",
    "\n",
    "And if you bring them to 2021, their quaint 1970s liberalism would be almost as conservative as the average conservative."
   ]
  },
  {
   "cell_type": "code",
   "execution_count": 47,
   "id": "b6649651",
   "metadata": {
    "tags": [
     "remove-cell"
    ]
   },
   "outputs": [
    {
     "data": {
      "text/plain": [
       "6.728983375512334"
      ]
     },
     "execution_count": 47,
     "metadata": {},
     "output_type": "execute_result"
    },
    {
     "data": {
      "application/javascript": [
       "\n",
       "            setTimeout(function() {\n",
       "                var nbb_cell_id = 47;\n",
       "                var nbb_unformatted_code = \"make_lowess(table[\\\"Moderate\\\"])[2000]\";\n",
       "                var nbb_formatted_code = \"make_lowess(table[\\\"Moderate\\\"])[2000]\";\n",
       "                var nbb_cells = Jupyter.notebook.get_cells();\n",
       "                for (var i = 0; i < nbb_cells.length; ++i) {\n",
       "                    if (nbb_cells[i].input_prompt_number == nbb_cell_id) {\n",
       "                        if (nbb_cells[i].get_text() == nbb_unformatted_code) {\n",
       "                             nbb_cells[i].set_text(nbb_formatted_code);\n",
       "                        }\n",
       "                        break;\n",
       "                    }\n",
       "                }\n",
       "            }, 500);\n",
       "            "
      ],
      "text/plain": [
       "<IPython.core.display.Javascript object>"
      ]
     },
     "metadata": {},
     "output_type": "display_data"
    }
   ],
   "source": [
    "make_lowess(table[\"Moderate\"])[2000]"
   ]
  },
  {
   "cell_type": "code",
   "execution_count": 48,
   "id": "2ba39a9a",
   "metadata": {
    "tags": [
     "remove-cell"
    ]
   },
   "outputs": [
    {
     "data": {
      "text/plain": [
       "7.025869206028217"
      ]
     },
     "execution_count": 48,
     "metadata": {},
     "output_type": "execute_result"
    },
    {
     "data": {
      "application/javascript": [
       "\n",
       "            setTimeout(function() {\n",
       "                var nbb_cell_id = 48;\n",
       "                var nbb_unformatted_code = \"make_lowess(table[\\\"Conservative\\\"])[2021]\";\n",
       "                var nbb_formatted_code = \"make_lowess(table[\\\"Conservative\\\"])[2021]\";\n",
       "                var nbb_cells = Jupyter.notebook.get_cells();\n",
       "                for (var i = 0; i < nbb_cells.length; ++i) {\n",
       "                    if (nbb_cells[i].input_prompt_number == nbb_cell_id) {\n",
       "                        if (nbb_cells[i].get_text() == nbb_unformatted_code) {\n",
       "                             nbb_cells[i].set_text(nbb_formatted_code);\n",
       "                        }\n",
       "                        break;\n",
       "                    }\n",
       "                }\n",
       "            }, 500);\n",
       "            "
      ],
      "text/plain": [
       "<IPython.core.display.Javascript object>"
      ]
     },
     "metadata": {},
     "output_type": "display_data"
    }
   ],
   "source": [
    "make_lowess(table[\"Conservative\"])[2021]"
   ]
  },
  {
   "cell_type": "markdown",
   "id": "1b576b84",
   "metadata": {},
   "source": [
    "## Appendix: The Fifteen Questions\n",
    "\n",
    "This appendix provides the wording of the fifteen questions from the General Social Survey that most distinguish liberals and conservatives, identified by topic and the GSS variable name.\n",
    "\n",
    "1. Homosexuality (homosex): What about sexual relations between two adults of the same sex--do you think it is always wrong, almost always wrong, wrong only sometimes, or not wrong at all?\n",
    "\n",
    "2. Capital punishment (cappun): Do you favor or oppose the death penalty for persons convicted of murder?\n",
    "\n",
    "3. Legal cannabis (grass): Do you think the use of marijuana should be made legal or not?\n",
    "\n",
    "4. Abortion (abany): Please tell me whether or not you think it should be possible for a pregnant woman to obtain a legal abortion if the woman wants it for any reason?\n",
    "\n",
    "5. Prayer in public schools (prayer): The United States Supreme Court has ruled that no state or local government may require the reading of the Lord's Prayer or Bible verses in public schools. What are your views on this--do you approve or disapprove of the court ruling?\n",
    "\n",
    "6. Premarital sex (premarsx): There's been a lot of discussion about the way morals and attitudes about sex are changing in this country. If a man and woman have sex relations before marriage, do you think it is always wrong, almost always wrong, wrong only sometimes, or not wrong at all?\n",
    "\n",
    "7. Divorce (divlaw): Should divorce in this country be easier or more difficult to obtain than it is now?\n",
    "\n",
    "8. Spending on welfare (natfare) and the environment (natenvir): We are faced with many problems in this country, none of which can be solved easily or inexpensively. I'm going to name some of these problems, and for each one I'd like you to tell me whether you think we're spending too much money on it, too little money, or about the right amount.\n",
    "  * Welfare\n",
    "\n",
    "  * Improving and protecting the environment\n",
    "\n",
    "9. Pornography (pornlaw): Which of these statements comes closest to your feelings about pornography laws? \n",
    "\n",
    "  * There should be laws against the distribution of pornography whatever the age.\n",
    "\n",
    "  * There should be laws against the distribution of pornography to persons under 18.\n",
    "\n",
    "  * There should be no laws forbidding the distribution of pornography.\n",
    "\n",
    "10. Open housing law (racopen): Suppose there is a community-wide vote on the general housing issue. There are two possible laws to vote on:\n",
    "\n",
    "  * One law says that a homeowner can decide for himself whom to sell his house to, even if he prefers not to sell to [people of a particular race].\n",
    "\n",
    "  * The second law says that a homeowner cannot refuse to sell to someone because of their race or color.\n",
    "\n",
    "    Which law would you vote for? \n",
    "\n",
    "11. Assisted suicide (letdie1): When a person has a disease that cannot be cured, do you think Doctors should be allowed by law to end the patient's life by some painless means if the patient and his family request it?\n",
    "\n",
    "12. Women in politics (fepol): Tell me if you agree or disagree with this statement:  Most men are better suited emotionally for politics than are most women.\n",
    "\n",
    "13. Gun control (gunlaw): Would you favor or oppose a law which would require a person to obtain a police permit before he or she could buy a gun?\n",
    "\n",
    "14. Sex education (sexeduc): Would you be for or against sex education in the public schools?"
   ]
  },
  {
   "cell_type": "code",
   "execution_count": null,
   "id": "6fc9aa00",
   "metadata": {
    "tags": [
     "remove-cell"
    ]
   },
   "outputs": [],
   "source": []
  }
 ],
 "metadata": {
  "celltoolbar": "Tags",
  "kernelspec": {
   "display_name": "Python 3 (ipykernel)",
   "language": "python",
   "name": "python3"
  },
  "language_info": {
   "codemirror_mode": {
    "name": "ipython",
    "version": 3
   },
   "file_extension": ".py",
   "mimetype": "text/x-python",
   "name": "python",
   "nbconvert_exporter": "python",
   "pygments_lexer": "ipython3",
   "version": "3.10.5"
  }
 },
 "nbformat": 4,
 "nbformat_minor": 5
}
