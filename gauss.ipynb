{
 "cells": [
  {
   "cell_type": "markdown",
   "metadata": {},
   "source": [
    "# \n",
    "\n",
    "\n",
    "\n",
    "Copyright 2016 Allen B. Downey\n",
    "\n",
    "MIT License: https://opensource.org/licenses/MIT"
   ]
  },
  {
   "cell_type": "code",
   "execution_count": 2,
   "metadata": {
    "collapsed": true
   },
   "outputs": [],
   "source": [
    "from __future__ import print_function, division\n",
    "\n",
    "import thinkstats2\n",
    "import thinkplot\n",
    "\n",
    "import pandas as pd\n",
    "import numpy as np\n",
    "\n",
    "from fractions import Fraction\n",
    "\n",
    "%matplotlib inline"
   ]
  },
  {
   "cell_type": "code",
   "execution_count": 13,
   "metadata": {
    "collapsed": true
   },
   "outputs": [],
   "source": [
    "def dot(x, y):\n",
    "    x = np.asarray(x)\n",
    "    y = np.asarray(y)\n",
    "    return np.sum(x * y)"
   ]
  },
  {
   "cell_type": "code",
   "execution_count": 17,
   "metadata": {
    "collapsed": false
   },
   "outputs": [
    {
     "data": {
      "text/plain": [
       "32"
      ]
     },
     "execution_count": 17,
     "metadata": {},
     "output_type": "execute_result"
    }
   ],
   "source": [
    "dot([1,2,3], (4,5,6))"
   ]
  },
  {
   "cell_type": "code",
   "execution_count": 26,
   "metadata": {
    "collapsed": true
   },
   "outputs": [],
   "source": [
    "class Matrix:\n",
    "    def __init__(self, array):\n",
    "        self.array = np.asarray(array)\n",
    "        \n",
    "    def __add__(self, other):\n",
    "        return Matrix(self.array + other.array)\n",
    "    \n",
    "    def __sub__(self, other):\n",
    "        return Matrix(self.array - other.array)\n",
    "    \n",
    "    def __mul__(self, other):\n",
    "        return Matrix(self.array.dot(other.array))\n",
    "    \n",
    "    def __truediv__(self, other):\n",
    "        return Matrix(np.linalg.solve(self.array, other.array))\n",
    "    \n",
    "    def __str__(self):\n",
    "        return '\\n'.join(str(row) for row in self)\n",
    "    \n",
    "    def __repr__(self):\n",
    "        return 'Matrix(%s)' % str(self.array)\n",
    "    \n",
    "    def __len__(self):\n",
    "        return len(self.array)\n",
    "    \n",
    "    def __getitem__(self, index):\n",
    "        return self.array[index]\n",
    "    \n",
    "    def __setitem__(self, index, row):\n",
    "        self.array[index] = row"
   ]
  },
  {
   "cell_type": "code",
   "execution_count": 27,
   "metadata": {
    "collapsed": true
   },
   "outputs": [],
   "source": [
    "def random_array(*shape):\n",
    "    return np.random.randint(1, 10, shape)"
   ]
  },
  {
   "cell_type": "code",
   "execution_count": 28,
   "metadata": {
    "collapsed": false
   },
   "outputs": [
    {
     "name": "stdout",
     "output_type": "stream",
     "text": [
      "[3 1 6]\n",
      "[6 6 7]\n",
      "[1 1 7]\n"
     ]
    }
   ],
   "source": [
    "A = Matrix(random_array(3, 3))\n",
    "print(A)"
   ]
  },
  {
   "cell_type": "code",
   "execution_count": 29,
   "metadata": {
    "collapsed": false
   },
   "outputs": [
    {
     "data": {
      "text/plain": [
       "3"
      ]
     },
     "execution_count": 29,
     "metadata": {},
     "output_type": "execute_result"
    }
   ],
   "source": [
    "len(A)"
   ]
  },
  {
   "cell_type": "code",
   "execution_count": 30,
   "metadata": {
    "collapsed": false
   },
   "outputs": [
    {
     "name": "stdout",
     "output_type": "stream",
     "text": [
      "[3 1 6]\n",
      "[6 6 7]\n",
      "[1 1 7]\n"
     ]
    }
   ],
   "source": [
    "for row in A:\n",
    "    print(row)"
   ]
  },
  {
   "cell_type": "code",
   "execution_count": 31,
   "metadata": {
    "collapsed": false
   },
   "outputs": [
    {
     "name": "stdout",
     "output_type": "stream",
     "text": [
      "[2 1 8]\n",
      "[1 5 7]\n",
      "[1 2 9]\n"
     ]
    }
   ],
   "source": [
    "B = Matrix(random_array(3, 3))\n",
    "print(B)"
   ]
  },
  {
   "cell_type": "code",
   "execution_count": 32,
   "metadata": {
    "collapsed": false
   },
   "outputs": [
    {
     "name": "stdout",
     "output_type": "stream",
     "text": [
      "[ 5  2 14]\n",
      "[ 7 11 14]\n",
      "[ 2  3 16]\n"
     ]
    }
   ],
   "source": [
    "print(A + B)"
   ]
  },
  {
   "cell_type": "code",
   "execution_count": 33,
   "metadata": {
    "collapsed": false
   },
   "outputs": [
    {
     "name": "stdout",
     "output_type": "stream",
     "text": [
      "[ 1  0 -2]\n",
      "[5 1 0]\n",
      "[ 0 -1 -2]\n"
     ]
    }
   ],
   "source": [
    "print(A - B)"
   ]
  },
  {
   "cell_type": "code",
   "execution_count": 34,
   "metadata": {
    "collapsed": false
   },
   "outputs": [
    {
     "name": "stdout",
     "output_type": "stream",
     "text": [
      "[13 20 85]\n",
      "[ 25  50 153]\n",
      "[10 20 78]\n"
     ]
    }
   ],
   "source": [
    "print(A * B)"
   ]
  },
  {
   "cell_type": "code",
   "execution_count": 43,
   "metadata": {
    "collapsed": false
   },
   "outputs": [
    {
     "name": "stdout",
     "output_type": "stream",
     "text": [
      "4\n",
      "1\n",
      "1\n"
     ]
    }
   ],
   "source": [
    "x = Matrix(random_array(3))\n",
    "print(x)"
   ]
  },
  {
   "cell_type": "code",
   "execution_count": 61,
   "metadata": {
    "collapsed": false
   },
   "outputs": [],
   "source": [
    "def matrix_vector_product(A, x):\n",
    "    array = np.zeros(len(A), dtype=x.array.dtype)\n",
    "    for i, row in enumerate(A):\n",
    "        array[i] = dot(row, x)\n",
    "    return Matrix(array)"
   ]
  },
  {
   "cell_type": "code",
   "execution_count": 62,
   "metadata": {
    "collapsed": false
   },
   "outputs": [
    {
     "name": "stdout",
     "output_type": "stream",
     "text": [
      "19\n",
      "37\n",
      "12\n"
     ]
    }
   ],
   "source": [
    "print(matrix_vector_product(A, x))"
   ]
  },
  {
   "cell_type": "code",
   "execution_count": 45,
   "metadata": {
    "collapsed": false
   },
   "outputs": [
    {
     "name": "stdout",
     "output_type": "stream",
     "text": [
      "19\n",
      "37\n",
      "12\n"
     ]
    }
   ],
   "source": [
    "print(A * x)"
   ]
  },
  {
   "cell_type": "code",
   "execution_count": 188,
   "metadata": {
    "collapsed": false
   },
   "outputs": [
    {
     "name": "stdout",
     "output_type": "stream",
     "text": [
      "[[100]\n",
      " [100]\n",
      " [ 66]]\n"
     ]
    }
   ],
   "source": [
    "b = A * x\n",
    "print(b)"
   ]
  },
  {
   "cell_type": "code",
   "execution_count": 189,
   "metadata": {
    "collapsed": false
   },
   "outputs": [
    {
     "name": "stdout",
     "output_type": "stream",
     "text": [
      "[[ 9.]\n",
      " [ 7.]\n",
      " [ 1.]]\n"
     ]
    }
   ],
   "source": [
    "print(A / b)"
   ]
  },
  {
   "cell_type": "code",
   "execution_count": 190,
   "metadata": {
    "collapsed": false
   },
   "outputs": [
    {
     "data": {
      "text/plain": [
       "(3, 3)"
      ]
     },
     "execution_count": 190,
     "metadata": {},
     "output_type": "execute_result"
    }
   ],
   "source": [
    "A.array.shape"
   ]
  },
  {
   "cell_type": "code",
   "execution_count": 191,
   "metadata": {
    "collapsed": false
   },
   "outputs": [
    {
     "data": {
      "text/plain": [
       "(3, 1)"
      ]
     },
     "execution_count": 191,
     "metadata": {},
     "output_type": "execute_result"
    }
   ],
   "source": [
    "b.array.shape"
   ]
  },
  {
   "cell_type": "code",
   "execution_count": 231,
   "metadata": {
    "collapsed": false
   },
   "outputs": [
    {
     "name": "stdout",
     "output_type": "stream",
     "text": [
      "[[7 4 9 100]\n",
      " [9 2 5 100]\n",
      " [4 4 2 66]]\n"
     ]
    }
   ],
   "source": [
    "m = np.hstack([A.array, b.array]).astype(Fraction)\n",
    "print(m)"
   ]
  },
  {
   "cell_type": "code",
   "execution_count": 232,
   "metadata": {
    "collapsed": false
   },
   "outputs": [
    {
     "name": "stdout",
     "output_type": "stream",
     "text": [
      "[[7 4 9 100]\n",
      " [2 -2 -4 0]\n",
      " [4 4 2 66]]\n"
     ]
    }
   ],
   "source": [
    "m[1] -= m[0]\n",
    "print(m)"
   ]
  },
  {
   "cell_type": "code",
   "execution_count": 233,
   "metadata": {
    "collapsed": false
   },
   "outputs": [
    {
     "data": {
      "text/plain": [
       "array([[7, 4, 9],\n",
       "       [2, -2, -4],\n",
       "       [4, 4, 2]], dtype=object)"
      ]
     },
     "execution_count": 233,
     "metadata": {},
     "output_type": "execute_result"
    }
   ],
   "source": [
    "m[:, :-1]"
   ]
  },
  {
   "cell_type": "code",
   "execution_count": 234,
   "metadata": {
    "collapsed": false
   },
   "outputs": [
    {
     "data": {
      "text/plain": [
       "array([100, 0, 66], dtype=object)"
      ]
     },
     "execution_count": 234,
     "metadata": {},
     "output_type": "execute_result"
    }
   ],
   "source": [
    "m[:, -1]"
   ]
  },
  {
   "cell_type": "code",
   "execution_count": 235,
   "metadata": {
    "collapsed": false
   },
   "outputs": [],
   "source": [
    "def solve_augmented(m):\n",
    "    m = m.astype(float)\n",
    "    return np.linalg.solve(m[:, :-1], m[:,-1])"
   ]
  },
  {
   "cell_type": "code",
   "execution_count": 236,
   "metadata": {
    "collapsed": false
   },
   "outputs": [
    {
     "name": "stdout",
     "output_type": "stream",
     "text": [
      "[ 9.  7.  1.]\n"
     ]
    }
   ],
   "source": [
    "print(solve_augmented(m))"
   ]
  },
  {
   "cell_type": "code",
   "execution_count": 237,
   "metadata": {
    "collapsed": false
   },
   "outputs": [
    {
     "data": {
      "text/plain": [
       "(array([7, 4, 9, 100], dtype=object),\n",
       " 7,\n",
       " 2,\n",
       " array([Fraction(2, 1), Fraction(8, 7), Fraction(18, 7), Fraction(200, 7)], dtype=object))"
      ]
     },
     "execution_count": 237,
     "metadata": {},
     "output_type": "execute_result"
    }
   ],
   "source": [
    "row1 = 0\n",
    "row2 = 1\n",
    "col = 0\n",
    "pivot = m[row1, col]\n",
    "victim = m[row2, col]\n",
    "m[row1], pivot, victim, m[row1] * Fraction(victim, pivot)"
   ]
  },
  {
   "cell_type": "code",
   "execution_count": 238,
   "metadata": {
    "collapsed": false
   },
   "outputs": [
    {
     "name": "stdout",
     "output_type": "stream",
     "text": [
      "[[7 4 9 100]\n",
      " [Fraction(0, 1) Fraction(-22, 7) Fraction(-46, 7) Fraction(-200, 7)]\n",
      " [4 4 2 66]]\n"
     ]
    }
   ],
   "source": [
    "m[row2] -= m[row1] * Fraction(victim, pivot)\n",
    "print(m)"
   ]
  },
  {
   "cell_type": "code",
   "execution_count": 241,
   "metadata": {
    "collapsed": true
   },
   "outputs": [],
   "source": [
    "def clobber(m, row1, row2, col):\n",
    "    pivot = m[row1, col]\n",
    "    victim = m[row2, col]\n",
    "    m[row2] -= m[row1] * Fraction(victim, pivot)"
   ]
  },
  {
   "cell_type": "code",
   "execution_count": 242,
   "metadata": {
    "collapsed": false
   },
   "outputs": [
    {
     "name": "stdout",
     "output_type": "stream",
     "text": [
      "[[7 4 9 100]\n",
      " [Fraction(0, 1) Fraction(-22, 7) Fraction(-46, 7) Fraction(-200, 7)]\n",
      " [Fraction(0, 1) Fraction(12, 7) Fraction(-22, 7) Fraction(62, 7)]]\n"
     ]
    }
   ],
   "source": [
    "clobber(m, 0, 2, 0)\n",
    "print(m)"
   ]
  },
  {
   "cell_type": "code",
   "execution_count": 244,
   "metadata": {
    "collapsed": false
   },
   "outputs": [
    {
     "name": "stdout",
     "output_type": "stream",
     "text": [
      "[[7 4 9 100]\n",
      " [Fraction(0, 1) Fraction(-22, 7) Fraction(-46, 7) Fraction(-200, 7)]\n",
      " [Fraction(0, 1) Fraction(0, 1) Fraction(-74, 11) Fraction(-74, 11)]]\n"
     ]
    }
   ],
   "source": [
    "clobber(m, 1, 2, 1)\n",
    "print(m)"
   ]
  },
  {
   "cell_type": "code",
   "execution_count": null,
   "metadata": {
    "collapsed": true
   },
   "outputs": [],
   "source": []
  }
 ],
 "metadata": {
  "kernelspec": {
   "display_name": "Python 3",
   "language": "python",
   "name": "python3"
  },
  "language_info": {
   "codemirror_mode": {
    "name": "ipython",
    "version": 3
   },
   "file_extension": ".py",
   "mimetype": "text/x-python",
   "name": "python",
   "nbconvert_exporter": "python",
   "pygments_lexer": "ipython3",
   "version": "3.5.1"
  }
 },
 "nbformat": 4,
 "nbformat_minor": 0
}
