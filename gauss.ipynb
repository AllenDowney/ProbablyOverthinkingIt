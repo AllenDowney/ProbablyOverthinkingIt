{
 "cells": [
  {
   "cell_type": "markdown",
   "metadata": {},
   "source": [
    "# \n",
    "\n",
    "\n",
    "\n",
    "Copyright 2016 Allen B. Downey\n",
    "\n",
    "MIT License: https://opensource.org/licenses/MIT"
   ]
  },
  {
   "cell_type": "code",
   "execution_count": 167,
   "metadata": {
    "collapsed": true
   },
   "outputs": [],
   "source": [
    "from __future__ import print_function, division\n",
    "\n",
    "import thinkstats2\n",
    "import thinkplot\n",
    "\n",
    "import pandas as pd\n",
    "import numpy as np\n",
    "\n",
    "from fractions import Fraction\n",
    "\n",
    "%matplotlib inline"
   ]
  },
  {
   "cell_type": "code",
   "execution_count": 97,
   "metadata": {
    "collapsed": true
   },
   "outputs": [],
   "source": [
    "class Matrix:\n",
    "    def __init__(self, array):\n",
    "        self.array = np.asarray(array)\n",
    "        \n",
    "    def __add__(self, other):\n",
    "        return Matrix(self.array + other.array)\n",
    "    \n",
    "    def __sub__(self, other):\n",
    "        return Matrix(self.array - other.array)\n",
    "    \n",
    "    def __mul__(self, other):\n",
    "        return Matrix(self.array.dot(other.array))\n",
    "    \n",
    "    def __truediv__(self, other):\n",
    "        return Matrix(np.linalg.solve(self.array, other.array))\n",
    "    \n",
    "    def __str__(self):\n",
    "        return str(self.array)\n",
    "    \n",
    "    def __repr__(self):\n",
    "        return 'Matrix(%s)' % str(self.array)"
   ]
  },
  {
   "cell_type": "code",
   "execution_count": 180,
   "metadata": {
    "collapsed": true
   },
   "outputs": [],
   "source": [
    "def random_array(*shape):\n",
    "    return np.random.randint(1, 10, shape)"
   ]
  },
  {
   "cell_type": "code",
   "execution_count": 181,
   "metadata": {
    "collapsed": false
   },
   "outputs": [
    {
     "name": "stdout",
     "output_type": "stream",
     "text": [
      "[[7 4 9]\n",
      " [9 2 5]\n",
      " [4 4 2]]\n"
     ]
    }
   ],
   "source": [
    "A = Matrix(random_array(3, 3))\n",
    "print(A)"
   ]
  },
  {
   "cell_type": "code",
   "execution_count": 182,
   "metadata": {
    "collapsed": false
   },
   "outputs": [
    {
     "name": "stdout",
     "output_type": "stream",
     "text": [
      "[[7 2 4]\n",
      " [2 2 2]\n",
      " [3 9 8]]\n"
     ]
    }
   ],
   "source": [
    "B = Matrix(random_array(3, 3))\n",
    "print(B)"
   ]
  },
  {
   "cell_type": "code",
   "execution_count": 183,
   "metadata": {
    "collapsed": false
   },
   "outputs": [
    {
     "name": "stdout",
     "output_type": "stream",
     "text": [
      "[[14  6 13]\n",
      " [11  4  7]\n",
      " [ 7 13 10]]\n"
     ]
    }
   ],
   "source": [
    "print(A + B)"
   ]
  },
  {
   "cell_type": "code",
   "execution_count": 184,
   "metadata": {
    "collapsed": false
   },
   "outputs": [
    {
     "name": "stdout",
     "output_type": "stream",
     "text": [
      "[[ 0  2  5]\n",
      " [ 7  0  3]\n",
      " [ 1 -5 -6]]\n"
     ]
    }
   ],
   "source": [
    "print(A - B)"
   ]
  },
  {
   "cell_type": "code",
   "execution_count": 185,
   "metadata": {
    "collapsed": false
   },
   "outputs": [
    {
     "name": "stdout",
     "output_type": "stream",
     "text": [
      "[[ 84 103 108]\n",
      " [ 82  67  80]\n",
      " [ 42  34  40]]\n"
     ]
    }
   ],
   "source": [
    "print(A * B)"
   ]
  },
  {
   "cell_type": "code",
   "execution_count": 186,
   "metadata": {
    "collapsed": false
   },
   "outputs": [
    {
     "name": "stdout",
     "output_type": "stream",
     "text": [
      "[[9]\n",
      " [7]\n",
      " [1]]\n"
     ]
    }
   ],
   "source": [
    "x = Matrix(random_array(3, 1))\n",
    "print(x)"
   ]
  },
  {
   "cell_type": "code",
   "execution_count": 187,
   "metadata": {
    "collapsed": false
   },
   "outputs": [
    {
     "name": "stdout",
     "output_type": "stream",
     "text": [
      "[[100]\n",
      " [100]\n",
      " [ 66]]\n"
     ]
    }
   ],
   "source": [
    "print(A * x)"
   ]
  },
  {
   "cell_type": "code",
   "execution_count": 188,
   "metadata": {
    "collapsed": false
   },
   "outputs": [
    {
     "name": "stdout",
     "output_type": "stream",
     "text": [
      "[[100]\n",
      " [100]\n",
      " [ 66]]\n"
     ]
    }
   ],
   "source": [
    "b = A * x\n",
    "print(b)"
   ]
  },
  {
   "cell_type": "code",
   "execution_count": 189,
   "metadata": {
    "collapsed": false
   },
   "outputs": [
    {
     "name": "stdout",
     "output_type": "stream",
     "text": [
      "[[ 9.]\n",
      " [ 7.]\n",
      " [ 1.]]\n"
     ]
    }
   ],
   "source": [
    "print(A / b)"
   ]
  },
  {
   "cell_type": "code",
   "execution_count": 190,
   "metadata": {
    "collapsed": false
   },
   "outputs": [
    {
     "data": {
      "text/plain": [
       "(3, 3)"
      ]
     },
     "execution_count": 190,
     "metadata": {},
     "output_type": "execute_result"
    }
   ],
   "source": [
    "A.array.shape"
   ]
  },
  {
   "cell_type": "code",
   "execution_count": 191,
   "metadata": {
    "collapsed": false
   },
   "outputs": [
    {
     "data": {
      "text/plain": [
       "(3, 1)"
      ]
     },
     "execution_count": 191,
     "metadata": {},
     "output_type": "execute_result"
    }
   ],
   "source": [
    "b.array.shape"
   ]
  },
  {
   "cell_type": "code",
   "execution_count": 231,
   "metadata": {
    "collapsed": false
   },
   "outputs": [
    {
     "name": "stdout",
     "output_type": "stream",
     "text": [
      "[[7 4 9 100]\n",
      " [9 2 5 100]\n",
      " [4 4 2 66]]\n"
     ]
    }
   ],
   "source": [
    "m = np.hstack([A.array, b.array]).astype(Fraction)\n",
    "print(m)"
   ]
  },
  {
   "cell_type": "code",
   "execution_count": 232,
   "metadata": {
    "collapsed": false
   },
   "outputs": [
    {
     "name": "stdout",
     "output_type": "stream",
     "text": [
      "[[7 4 9 100]\n",
      " [2 -2 -4 0]\n",
      " [4 4 2 66]]\n"
     ]
    }
   ],
   "source": [
    "m[1] -= m[0]\n",
    "print(m)"
   ]
  },
  {
   "cell_type": "code",
   "execution_count": 233,
   "metadata": {
    "collapsed": false
   },
   "outputs": [
    {
     "data": {
      "text/plain": [
       "array([[7, 4, 9],\n",
       "       [2, -2, -4],\n",
       "       [4, 4, 2]], dtype=object)"
      ]
     },
     "execution_count": 233,
     "metadata": {},
     "output_type": "execute_result"
    }
   ],
   "source": [
    "m[:, :-1]"
   ]
  },
  {
   "cell_type": "code",
   "execution_count": 234,
   "metadata": {
    "collapsed": false
   },
   "outputs": [
    {
     "data": {
      "text/plain": [
       "array([100, 0, 66], dtype=object)"
      ]
     },
     "execution_count": 234,
     "metadata": {},
     "output_type": "execute_result"
    }
   ],
   "source": [
    "m[:, -1]"
   ]
  },
  {
   "cell_type": "code",
   "execution_count": 235,
   "metadata": {
    "collapsed": false
   },
   "outputs": [],
   "source": [
    "def solve_augmented(m):\n",
    "    m = m.astype(float)\n",
    "    return np.linalg.solve(m[:, :-1], m[:,-1])"
   ]
  },
  {
   "cell_type": "code",
   "execution_count": 236,
   "metadata": {
    "collapsed": false
   },
   "outputs": [
    {
     "name": "stdout",
     "output_type": "stream",
     "text": [
      "[ 9.  7.  1.]\n"
     ]
    }
   ],
   "source": [
    "print(solve_augmented(m))"
   ]
  },
  {
   "cell_type": "code",
   "execution_count": 237,
   "metadata": {
    "collapsed": false
   },
   "outputs": [
    {
     "data": {
      "text/plain": [
       "(array([7, 4, 9, 100], dtype=object),\n",
       " 7,\n",
       " 2,\n",
       " array([Fraction(2, 1), Fraction(8, 7), Fraction(18, 7), Fraction(200, 7)], dtype=object))"
      ]
     },
     "execution_count": 237,
     "metadata": {},
     "output_type": "execute_result"
    }
   ],
   "source": [
    "row1 = 0\n",
    "row2 = 1\n",
    "col = 0\n",
    "pivot = m[row1, col]\n",
    "victim = m[row2, col]\n",
    "m[row1], pivot, victim, m[row1] * Fraction(victim, pivot)"
   ]
  },
  {
   "cell_type": "code",
   "execution_count": 238,
   "metadata": {
    "collapsed": false
   },
   "outputs": [
    {
     "name": "stdout",
     "output_type": "stream",
     "text": [
      "[[7 4 9 100]\n",
      " [Fraction(0, 1) Fraction(-22, 7) Fraction(-46, 7) Fraction(-200, 7)]\n",
      " [4 4 2 66]]\n"
     ]
    }
   ],
   "source": [
    "m[row2] -= m[row1] * Fraction(victim, pivot)\n",
    "print(m)"
   ]
  },
  {
   "cell_type": "code",
   "execution_count": 241,
   "metadata": {
    "collapsed": true
   },
   "outputs": [],
   "source": [
    "def clobber(m, row1, row2, col):\n",
    "    pivot = m[row1, col]\n",
    "    victim = m[row2, col]\n",
    "    m[row2] -= m[row1] * Fraction(victim, pivot)"
   ]
  },
  {
   "cell_type": "code",
   "execution_count": 242,
   "metadata": {
    "collapsed": false
   },
   "outputs": [
    {
     "name": "stdout",
     "output_type": "stream",
     "text": [
      "[[7 4 9 100]\n",
      " [Fraction(0, 1) Fraction(-22, 7) Fraction(-46, 7) Fraction(-200, 7)]\n",
      " [Fraction(0, 1) Fraction(12, 7) Fraction(-22, 7) Fraction(62, 7)]]\n"
     ]
    }
   ],
   "source": [
    "clobber(m, 0, 2, 0)\n",
    "print(m)"
   ]
  },
  {
   "cell_type": "code",
   "execution_count": 244,
   "metadata": {
    "collapsed": false
   },
   "outputs": [
    {
     "name": "stdout",
     "output_type": "stream",
     "text": [
      "[[7 4 9 100]\n",
      " [Fraction(0, 1) Fraction(-22, 7) Fraction(-46, 7) Fraction(-200, 7)]\n",
      " [Fraction(0, 1) Fraction(0, 1) Fraction(-74, 11) Fraction(-74, 11)]]\n"
     ]
    }
   ],
   "source": [
    "clobber(m, 1, 2, 1)\n",
    "print(m)"
   ]
  },
  {
   "cell_type": "code",
   "execution_count": null,
   "metadata": {
    "collapsed": true
   },
   "outputs": [],
   "source": []
  }
 ],
 "metadata": {
  "kernelspec": {
   "display_name": "Python 2",
   "language": "python",
   "name": "python2"
  },
  "language_info": {
   "codemirror_mode": {
    "name": "ipython",
    "version": 2
   },
   "file_extension": ".py",
   "mimetype": "text/x-python",
   "name": "python",
   "nbconvert_exporter": "python",
   "pygments_lexer": "ipython2",
   "version": "2.7.11"
  }
 },
 "nbformat": 4,
 "nbformat_minor": 0
}
